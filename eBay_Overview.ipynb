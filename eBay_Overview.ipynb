{
 "cells": [
  {
   "cell_type": "code",
   "execution_count": 1,
   "id": "reverse-picking",
   "metadata": {
    "execution": {
     "iopub.execute_input": "2021-10-09T01:00:07.133094Z",
     "iopub.status.busy": "2021-10-09T01:00:07.131100Z",
     "iopub.status.idle": "2021-10-09T01:00:07.946882Z",
     "shell.execute_reply": "2021-10-09T01:00:07.948178Z"
    },
    "papermill": {
     "duration": 0.868111,
     "end_time": "2021-10-09T01:00:07.948855",
     "exception": false,
     "start_time": "2021-10-09T01:00:07.080744",
     "status": "completed"
    },
    "tags": []
   },
   "outputs": [],
   "source": [
    "import pandas as pd\n",
    "import sqlite3"
   ]
  },
  {
   "cell_type": "code",
   "execution_count": 2,
   "id": "innovative-syndrome",
   "metadata": {
    "execution": {
     "iopub.execute_input": "2021-10-09T01:00:07.999589Z",
     "iopub.status.busy": "2021-10-09T01:00:07.997522Z",
     "iopub.status.idle": "2021-10-09T01:00:08.485203Z",
     "shell.execute_reply": "2021-10-09T01:00:08.486385Z"
    },
    "papermill": {
     "duration": 0.517051,
     "end_time": "2021-10-09T01:00:08.486874",
     "exception": false,
     "start_time": "2021-10-09T01:00:07.969823",
     "status": "completed"
    },
    "tags": []
   },
   "outputs": [],
   "source": [
    "timestamps = pd.read_sql(\"select distinct record_time from EBAY_TOP_BERLIN order by record_time desc limit 2\", sqlite3.connect(\"UsedObjects.db\"))"
   ]
  },
  {
   "cell_type": "code",
   "execution_count": 3,
   "id": "periodic-identification",
   "metadata": {
    "execution": {
     "iopub.execute_input": "2021-10-09T01:00:08.553316Z",
     "iopub.status.busy": "2021-10-09T01:00:08.551310Z",
     "iopub.status.idle": "2021-10-09T01:00:08.571135Z",
     "shell.execute_reply": "2021-10-09T01:00:08.572360Z"
    },
    "papermill": {
     "duration": 0.066671,
     "end_time": "2021-10-09T01:00:08.572796",
     "exception": false,
     "start_time": "2021-10-09T01:00:08.506125",
     "status": "completed"
    },
    "tags": []
   },
   "outputs": [
    {
     "data": {
      "text/html": [
       "<div>\n",
       "<style scoped>\n",
       "    .dataframe tbody tr th:only-of-type {\n",
       "        vertical-align: middle;\n",
       "    }\n",
       "\n",
       "    .dataframe tbody tr th {\n",
       "        vertical-align: top;\n",
       "    }\n",
       "\n",
       "    .dataframe thead th {\n",
       "        text-align: right;\n",
       "    }\n",
       "</style>\n",
       "<table border=\"1\" class=\"dataframe\">\n",
       "  <thead>\n",
       "    <tr style=\"text-align: right;\">\n",
       "      <th></th>\n",
       "      <th>RECORD_TIME</th>\n",
       "    </tr>\n",
       "  </thead>\n",
       "  <tbody>\n",
       "    <tr>\n",
       "      <th>0</th>\n",
       "      <td>2021-10-09 03:00</td>\n",
       "    </tr>\n",
       "    <tr>\n",
       "      <th>1</th>\n",
       "      <td>2021-10-09 02:30</td>\n",
       "    </tr>\n",
       "  </tbody>\n",
       "</table>\n",
       "</div>"
      ],
      "text/plain": [
       "        RECORD_TIME\n",
       "0  2021-10-09 03:00\n",
       "1  2021-10-09 02:30"
      ]
     },
     "execution_count": 3,
     "metadata": {},
     "output_type": "execute_result"
    }
   ],
   "source": [
    "timestamps"
   ]
  },
  {
   "cell_type": "code",
   "execution_count": 4,
   "id": "alternate-victory",
   "metadata": {
    "execution": {
     "iopub.execute_input": "2021-10-09T01:00:08.642635Z",
     "iopub.status.busy": "2021-10-09T01:00:08.640681Z",
     "iopub.status.idle": "2021-10-09T01:00:09.355031Z",
     "shell.execute_reply": "2021-10-09T01:00:09.356592Z"
    },
    "papermill": {
     "duration": 0.75004,
     "end_time": "2021-10-09T01:00:09.357051",
     "exception": false,
     "start_time": "2021-10-09T01:00:08.607011",
     "status": "completed"
    },
    "tags": []
   },
   "outputs": [],
   "source": [
    "df = pd.read_sql(\"select * from EBAY_TOP_BERLIN where record_time in (select distinct record_time from EBAY_TOP_BERLIN order by record_time desc limit 2)\", sqlite3.connect(\"UsedObjects.db\"))"
   ]
  },
  {
   "cell_type": "code",
   "execution_count": 5,
   "id": "popular-active",
   "metadata": {
    "execution": {
     "iopub.execute_input": "2021-10-09T01:00:09.427753Z",
     "iopub.status.busy": "2021-10-09T01:00:09.416336Z",
     "iopub.status.idle": "2021-10-09T01:00:09.444174Z",
     "shell.execute_reply": "2021-10-09T01:00:09.445381Z"
    },
    "papermill": {
     "duration": 0.068102,
     "end_time": "2021-10-09T01:00:09.445781",
     "exception": false,
     "start_time": "2021-10-09T01:00:09.377679",
     "status": "completed"
    },
    "tags": []
   },
   "outputs": [],
   "source": [
    "df_pivot = df.pivot_table(index=\"PRODUCT\", columns = \"RECORD_TIME\", values = \"LISTING_COUNT\")"
   ]
  },
  {
   "cell_type": "code",
   "execution_count": 6,
   "id": "union-huntington",
   "metadata": {
    "execution": {
     "iopub.execute_input": "2021-10-09T01:00:09.505534Z",
     "iopub.status.busy": "2021-10-09T01:00:09.503111Z",
     "iopub.status.idle": "2021-10-09T01:00:09.508835Z",
     "shell.execute_reply": "2021-10-09T01:00:09.510125Z"
    },
    "papermill": {
     "duration": 0.041865,
     "end_time": "2021-10-09T01:00:09.510536",
     "exception": false,
     "start_time": "2021-10-09T01:00:09.468671",
     "status": "completed"
    },
    "tags": []
   },
   "outputs": [],
   "source": [
    "df_pivot.columns = [\"stamp_1\", \"stamp_2\"]\n",
    "df_pivot_diff = df_pivot.diff(axis=1)"
   ]
  },
  {
   "cell_type": "code",
   "execution_count": 7,
   "id": "fifth-motion",
   "metadata": {
    "execution": {
     "iopub.execute_input": "2021-10-09T01:00:09.565156Z",
     "iopub.status.busy": "2021-10-09T01:00:09.562695Z",
     "iopub.status.idle": "2021-10-09T01:00:11.102641Z",
     "shell.execute_reply": "2021-10-09T01:00:11.104229Z"
    },
    "papermill": {
     "duration": 1.57378,
     "end_time": "2021-10-09T01:00:11.104703",
     "exception": false,
     "start_time": "2021-10-09T01:00:09.530923",
     "status": "completed"
    },
    "tags": []
   },
   "outputs": [
    {
     "data": {
      "text/plain": [
       "<AxesSubplot:ylabel='PRODUCT'>"
      ]
     },
     "execution_count": 7,
     "metadata": {},
     "output_type": "execute_result"
    },
    {
     "data": {
      "image/png": "[encoded data removed]",
      "text/plain": [
       "<Figure size 432x288 with 1 Axes>"
      ]
     },
     "metadata": {
      "needs_background": "light"
     },
     "output_type": "display_data"
    }
   ],
   "source": [
    "df_pivot_diff.sort_values(\"stamp_2\", ascending = False)[\"stamp_2\"].head(10).plot.barh()"
   ]
  },
  {
   "cell_type": "code",
   "execution_count": null,
   "id": "extra-executive",
   "metadata": {
    "papermill": {
     "duration": 0.022239,
     "end_time": "2021-10-09T01:00:11.150464",
     "exception": false,
     "start_time": "2021-10-09T01:00:11.128225",
     "status": "completed"
    },
    "tags": []
   },
   "outputs": [],
   "source": []
  }
 ],
 "metadata": {
  "kernelspec": {
   "display_name": "Python 3",
   "language": "python",
   "name": "python3"
  },
  "language_info": {
   "codemirror_mode": {
    "name": "ipython",
    "version": 3
   },
   "file_extension": ".py",
   "mimetype": "text/x-python",
   "name": "python",
   "nbconvert_exporter": "python",
   "pygments_lexer": "ipython3",
   "version": "3.9.5"
  },
  "papermill": {
   "default_parameters": {},
   "duration": 7.826698,
   "end_time": "2021-10-09T01:00:12.491047",
   "environment_variables": {},
   "exception": null,
   "input_path": "eBay_Overview.ipynb",
   "output_path": "eBay_Overview.ipynb",
   "parameters": {},
   "start_time": "2021-10-09T01:00:04.664349",
   "version": "2.3.3"
  }
 },
 "nbformat": 4,
 "nbformat_minor": 5
}