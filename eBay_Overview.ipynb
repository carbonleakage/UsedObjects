{
 "cells": [
  {
   "cell_type": "code",
   "execution_count": 1,
   "id": "reverse-picking",
   "metadata": {
    "execution": {
     "iopub.execute_input": "2021-09-14T05:30:06.944620Z",
     "iopub.status.busy": "2021-09-14T05:30:06.942578Z",
     "iopub.status.idle": "2021-09-14T05:30:07.746086Z",
     "shell.execute_reply": "2021-09-14T05:30:07.747559Z"
    },
    "papermill": {
     "duration": 0.856783,
     "end_time": "2021-09-14T05:30:07.748235",
     "exception": false,
     "start_time": "2021-09-14T05:30:06.891452",
     "status": "completed"
    },
    "tags": []
   },
   "outputs": [],
   "source": [
    "import pandas as pd\n",
    "import sqlite3"
   ]
  },
  {
   "cell_type": "code",
   "execution_count": 2,
   "id": "innovative-syndrome",
   "metadata": {
    "execution": {
     "iopub.execute_input": "2021-09-14T05:30:07.798958Z",
     "iopub.status.busy": "2021-09-14T05:30:07.796942Z",
     "iopub.status.idle": "2021-09-14T05:30:08.087455Z",
     "shell.execute_reply": "2021-09-14T05:30:08.088681Z"
    },
    "papermill": {
     "duration": 0.320607,
     "end_time": "2021-09-14T05:30:08.089081",
     "exception": false,
     "start_time": "2021-09-14T05:30:07.768474",
     "status": "completed"
    },
    "tags": []
   },
   "outputs": [],
   "source": [
    "timestamps = pd.read_sql(\"select distinct record_time from EBAY_TOP_BERLIN order by record_time desc limit 2\", sqlite3.connect(\"UsedObjects.db\"))"
   ]
  },
  {
   "cell_type": "code",
   "execution_count": 3,
   "id": "periodic-identification",
   "metadata": {
    "execution": {
     "iopub.execute_input": "2021-09-14T05:30:08.157557Z",
     "iopub.status.busy": "2021-09-14T05:30:08.155543Z",
     "iopub.status.idle": "2021-09-14T05:30:08.175457Z",
     "shell.execute_reply": "2021-09-14T05:30:08.176868Z"
    },
    "papermill": {
     "duration": 0.06565,
     "end_time": "2021-09-14T05:30:08.177287",
     "exception": false,
     "start_time": "2021-09-14T05:30:08.111637",
     "status": "completed"
    },
    "tags": []
   },
   "outputs": [
    {
     "data": {
      "text/html": [
       "<div>\n",
       "<style scoped>\n",
       "    .dataframe tbody tr th:only-of-type {\n",
       "        vertical-align: middle;\n",
       "    }\n",
       "\n",
       "    .dataframe tbody tr th {\n",
       "        vertical-align: top;\n",
       "    }\n",
       "\n",
       "    .dataframe thead th {\n",
       "        text-align: right;\n",
       "    }\n",
       "</style>\n",
       "<table border=\"1\" class=\"dataframe\">\n",
       "  <thead>\n",
       "    <tr style=\"text-align: right;\">\n",
       "      <th></th>\n",
       "      <th>RECORD_TIME</th>\n",
       "    </tr>\n",
       "  </thead>\n",
       "  <tbody>\n",
       "    <tr>\n",
       "      <th>0</th>\n",
       "      <td>2021-09-14 07:30</td>\n",
       "    </tr>\n",
       "    <tr>\n",
       "      <th>1</th>\n",
       "      <td>2021-09-14 07:00</td>\n",
       "    </tr>\n",
       "  </tbody>\n",
       "</table>\n",
       "</div>"
      ],
      "text/plain": [
       "        RECORD_TIME\n",
       "0  2021-09-14 07:30\n",
       "1  2021-09-14 07:00"
      ]
     },
     "execution_count": 3,
     "metadata": {},
     "output_type": "execute_result"
    }
   ],
   "source": [
    "timestamps"
   ]
  },
  {
   "cell_type": "code",
   "execution_count": 4,
   "id": "alternate-victory",
   "metadata": {
    "execution": {
     "iopub.execute_input": "2021-09-14T05:30:08.227990Z",
     "iopub.status.busy": "2021-09-14T05:30:08.225865Z",
     "iopub.status.idle": "2021-09-14T05:30:08.650837Z",
     "shell.execute_reply": "2021-09-14T05:30:08.652189Z"
    },
    "papermill": {
     "duration": 0.455137,
     "end_time": "2021-09-14T05:30:08.652628",
     "exception": false,
     "start_time": "2021-09-14T05:30:08.197491",
     "status": "completed"
    },
    "tags": []
   },
   "outputs": [],
   "source": [
    "df = pd.read_sql(\"select * from EBAY_TOP_BERLIN where record_time in (select distinct record_time from EBAY_TOP_BERLIN order by record_time desc limit 2)\", sqlite3.connect(\"UsedObjects.db\"))"
   ]
  },
  {
   "cell_type": "code",
   "execution_count": 5,
   "id": "popular-active",
   "metadata": {
    "execution": {
     "iopub.execute_input": "2021-09-14T05:30:08.734484Z",
     "iopub.status.busy": "2021-09-14T05:30:08.727442Z",
     "iopub.status.idle": "2021-09-14T05:30:08.750322Z",
     "shell.execute_reply": "2021-09-14T05:30:08.751803Z"
    },
    "papermill": {
     "duration": 0.072706,
     "end_time": "2021-09-14T05:30:08.752248",
     "exception": false,
     "start_time": "2021-09-14T05:30:08.679542",
     "status": "completed"
    },
    "tags": []
   },
   "outputs": [],
   "source": [
    "df_pivot = df.pivot_table(index=\"PRODUCT\", columns = \"RECORD_TIME\", values = \"LISTING_COUNT\")"
   ]
  },
  {
   "cell_type": "code",
   "execution_count": 6,
   "id": "union-huntington",
   "metadata": {
    "execution": {
     "iopub.execute_input": "2021-09-14T05:30:08.808647Z",
     "iopub.status.busy": "2021-09-14T05:30:08.806530Z",
     "iopub.status.idle": "2021-09-14T05:30:08.811642Z",
     "shell.execute_reply": "2021-09-14T05:30:08.812963Z"
    },
    "papermill": {
     "duration": 0.040202,
     "end_time": "2021-09-14T05:30:08.813380",
     "exception": false,
     "start_time": "2021-09-14T05:30:08.773178",
     "status": "completed"
    },
    "tags": []
   },
   "outputs": [],
   "source": [
    "df_pivot.columns = [\"stamp_1\", \"stamp_2\"]\n",
    "df_pivot_diff = df_pivot.diff(axis=1)"
   ]
  },
  {
   "cell_type": "code",
   "execution_count": 7,
   "id": "fifth-motion",
   "metadata": {
    "execution": {
     "iopub.execute_input": "2021-09-14T05:30:08.867808Z",
     "iopub.status.busy": "2021-09-14T05:30:08.865225Z",
     "iopub.status.idle": "2021-09-14T05:30:10.381086Z",
     "shell.execute_reply": "2021-09-14T05:30:10.382377Z"
    },
    "papermill": {
     "duration": 1.54895,
     "end_time": "2021-09-14T05:30:10.382790",
     "exception": false,
     "start_time": "2021-09-14T05:30:08.833840",
     "status": "completed"
    },
    "tags": []
   },
   "outputs": [
    {
     "data": {
      "text/plain": [
       "<AxesSubplot:ylabel='PRODUCT'>"
      ]
     },
     "execution_count": 7,
     "metadata": {},
     "output_type": "execute_result"
    },
    {
     "data": {
      "image/png": "[encoded data removed]",
      "text/plain": [
       "<Figure size 432x288 with 1 Axes>"
      ]
     },
     "metadata": {
      "needs_background": "light"
     },
     "output_type": "display_data"
    }
   ],
   "source": [
    "df_pivot_diff.sort_values(\"stamp_2\", ascending = False)[\"stamp_2\"].head(10).plot.barh()"
   ]
  },
  {
   "cell_type": "code",
   "execution_count": null,
   "id": "extra-executive",
   "metadata": {
    "papermill": {
     "duration": 0.022424,
     "end_time": "2021-09-14T05:30:10.431526",
     "exception": false,
     "start_time": "2021-09-14T05:30:10.409102",
     "status": "completed"
    },
    "tags": []
   },
   "outputs": [],
   "source": []
  }
 ],
 "metadata": {
  "kernelspec": {
   "display_name": "Python 3",
   "language": "python",
   "name": "python3"
  },
  "language_info": {
   "codemirror_mode": {
    "name": "ipython",
    "version": 3
   },
   "file_extension": ".py",
   "mimetype": "text/x-python",
   "name": "python",
   "nbconvert_exporter": "python",
   "pygments_lexer": "ipython3",
   "version": "3.9.5"
  },
  "papermill": {
   "default_parameters": {},
   "duration": 6.593436,
   "end_time": "2021-09-14T05:30:11.073890",
   "environment_variables": {},
   "exception": null,
   "input_path": "eBay_Overview.ipynb",
   "output_path": "eBay_Overview.ipynb",
   "parameters": {},
   "start_time": "2021-09-14T05:30:04.480454",
   "version": "2.3.3"
  }
 },
 "nbformat": 4,
 "nbformat_minor": 5
}