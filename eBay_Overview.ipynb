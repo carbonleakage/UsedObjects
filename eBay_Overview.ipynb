{
 "cells": [
  {
   "cell_type": "code",
   "execution_count": 1,
   "id": "reverse-picking",
   "metadata": {
    "execution": {
     "iopub.execute_input": "2021-09-19T13:30:07.200382Z",
     "iopub.status.busy": "2021-09-19T13:30:07.198344Z",
     "iopub.status.idle": "2021-09-19T13:30:07.998520Z",
     "shell.execute_reply": "2021-09-19T13:30:07.999948Z"
    },
    "papermill": {
     "duration": 0.850522,
     "end_time": "2021-09-19T13:30:08.000600",
     "exception": false,
     "start_time": "2021-09-19T13:30:07.150078",
     "status": "completed"
    },
    "tags": []
   },
   "outputs": [],
   "source": [
    "import pandas as pd\n",
    "import sqlite3"
   ]
  },
  {
   "cell_type": "code",
   "execution_count": 2,
   "id": "innovative-syndrome",
   "metadata": {
    "execution": {
     "iopub.execute_input": "2021-09-19T13:30:08.051466Z",
     "iopub.status.busy": "2021-09-19T13:30:08.049410Z",
     "iopub.status.idle": "2021-09-19T13:30:08.372516Z",
     "shell.execute_reply": "2021-09-19T13:30:08.373649Z"
    },
    "papermill": {
     "duration": 0.353079,
     "end_time": "2021-09-19T13:30:08.374059",
     "exception": false,
     "start_time": "2021-09-19T13:30:08.020980",
     "status": "completed"
    },
    "tags": []
   },
   "outputs": [],
   "source": [
    "timestamps = pd.read_sql(\"select distinct record_time from EBAY_TOP_BERLIN order by record_time desc limit 2\", sqlite3.connect(\"UsedObjects.db\"))"
   ]
  },
  {
   "cell_type": "code",
   "execution_count": 3,
   "id": "periodic-identification",
   "metadata": {
    "execution": {
     "iopub.execute_input": "2021-09-19T13:30:08.438585Z",
     "iopub.status.busy": "2021-09-19T13:30:08.436570Z",
     "iopub.status.idle": "2021-09-19T13:30:08.456987Z",
     "shell.execute_reply": "2021-09-19T13:30:08.458285Z"
    },
    "papermill": {
     "duration": 0.063575,
     "end_time": "2021-09-19T13:30:08.458711",
     "exception": false,
     "start_time": "2021-09-19T13:30:08.395136",
     "status": "completed"
    },
    "tags": []
   },
   "outputs": [
    {
     "data": {
      "text/html": [
       "<div>\n",
       "<style scoped>\n",
       "    .dataframe tbody tr th:only-of-type {\n",
       "        vertical-align: middle;\n",
       "    }\n",
       "\n",
       "    .dataframe tbody tr th {\n",
       "        vertical-align: top;\n",
       "    }\n",
       "\n",
       "    .dataframe thead th {\n",
       "        text-align: right;\n",
       "    }\n",
       "</style>\n",
       "<table border=\"1\" class=\"dataframe\">\n",
       "  <thead>\n",
       "    <tr style=\"text-align: right;\">\n",
       "      <th></th>\n",
       "      <th>RECORD_TIME</th>\n",
       "    </tr>\n",
       "  </thead>\n",
       "  <tbody>\n",
       "    <tr>\n",
       "      <th>0</th>\n",
       "      <td>2021-09-19 15:30</td>\n",
       "    </tr>\n",
       "    <tr>\n",
       "      <th>1</th>\n",
       "      <td>2021-09-19 15:00</td>\n",
       "    </tr>\n",
       "  </tbody>\n",
       "</table>\n",
       "</div>"
      ],
      "text/plain": [
       "        RECORD_TIME\n",
       "0  2021-09-19 15:30\n",
       "1  2021-09-19 15:00"
      ]
     },
     "execution_count": 3,
     "metadata": {},
     "output_type": "execute_result"
    }
   ],
   "source": [
    "timestamps"
   ]
  },
  {
   "cell_type": "code",
   "execution_count": 4,
   "id": "alternate-victory",
   "metadata": {
    "execution": {
     "iopub.execute_input": "2021-09-19T13:30:08.510238Z",
     "iopub.status.busy": "2021-09-19T13:30:08.508402Z",
     "iopub.status.idle": "2021-09-19T13:30:08.987068Z",
     "shell.execute_reply": "2021-09-19T13:30:08.988304Z"
    },
    "papermill": {
     "duration": 0.508435,
     "end_time": "2021-09-19T13:30:08.988707",
     "exception": false,
     "start_time": "2021-09-19T13:30:08.480272",
     "status": "completed"
    },
    "tags": []
   },
   "outputs": [],
   "source": [
    "df = pd.read_sql(\"select * from EBAY_TOP_BERLIN where record_time in (select distinct record_time from EBAY_TOP_BERLIN order by record_time desc limit 2)\", sqlite3.connect(\"UsedObjects.db\"))"
   ]
  },
  {
   "cell_type": "code",
   "execution_count": 5,
   "id": "popular-active",
   "metadata": {
    "execution": {
     "iopub.execute_input": "2021-09-19T13:30:09.067029Z",
     "iopub.status.busy": "2021-09-19T13:30:09.054559Z",
     "iopub.status.idle": "2021-09-19T13:30:09.082494Z",
     "shell.execute_reply": "2021-09-19T13:30:09.083968Z"
    },
    "papermill": {
     "duration": 0.069126,
     "end_time": "2021-09-19T13:30:09.084423",
     "exception": false,
     "start_time": "2021-09-19T13:30:09.015297",
     "status": "completed"
    },
    "tags": []
   },
   "outputs": [],
   "source": [
    "df_pivot = df.pivot_table(index=\"PRODUCT\", columns = \"RECORD_TIME\", values = \"LISTING_COUNT\")"
   ]
  },
  {
   "cell_type": "code",
   "execution_count": 6,
   "id": "union-huntington",
   "metadata": {
    "execution": {
     "iopub.execute_input": "2021-09-19T13:30:09.141881Z",
     "iopub.status.busy": "2021-09-19T13:30:09.139457Z",
     "iopub.status.idle": "2021-09-19T13:30:09.145459Z",
     "shell.execute_reply": "2021-09-19T13:30:09.146739Z"
    },
    "papermill": {
     "duration": 0.042339,
     "end_time": "2021-09-19T13:30:09.147223",
     "exception": false,
     "start_time": "2021-09-19T13:30:09.104884",
     "status": "completed"
    },
    "tags": []
   },
   "outputs": [],
   "source": [
    "df_pivot.columns = [\"stamp_1\", \"stamp_2\"]\n",
    "df_pivot_diff = df_pivot.diff(axis=1)"
   ]
  },
  {
   "cell_type": "code",
   "execution_count": 7,
   "id": "fifth-motion",
   "metadata": {
    "execution": {
     "iopub.execute_input": "2021-09-19T13:30:09.201679Z",
     "iopub.status.busy": "2021-09-19T13:30:09.199383Z",
     "iopub.status.idle": "2021-09-19T13:30:10.656036Z",
     "shell.execute_reply": "2021-09-19T13:30:10.657332Z"
    },
    "papermill": {
     "duration": 1.48983,
     "end_time": "2021-09-19T13:30:10.657753",
     "exception": false,
     "start_time": "2021-09-19T13:30:09.167923",
     "status": "completed"
    },
    "tags": []
   },
   "outputs": [
    {
     "data": {
      "text/plain": [
       "<AxesSubplot:ylabel='PRODUCT'>"
      ]
     },
     "execution_count": 7,
     "metadata": {},
     "output_type": "execute_result"
    },
    {
     "data": {
      "image/png": "[encoded data removed]",
      "text/plain": [
       "<Figure size 432x288 with 1 Axes>"
      ]
     },
     "metadata": {
      "needs_background": "light"
     },
     "output_type": "display_data"
    }
   ],
   "source": [
    "df_pivot_diff.sort_values(\"stamp_2\", ascending = False)[\"stamp_2\"].head(10).plot.barh()"
   ]
  },
  {
   "cell_type": "code",
   "execution_count": null,
   "id": "extra-executive",
   "metadata": {
    "papermill": {
     "duration": 0.022077,
     "end_time": "2021-09-19T13:30:10.704548",
     "exception": false,
     "start_time": "2021-09-19T13:30:10.682471",
     "status": "completed"
    },
    "tags": []
   },
   "outputs": [],
   "source": []
  }
 ],
 "metadata": {
  "kernelspec": {
   "display_name": "Python 3",
   "language": "python",
   "name": "python3"
  },
  "language_info": {
   "codemirror_mode": {
    "name": "ipython",
    "version": 3
   },
   "file_extension": ".py",
   "mimetype": "text/x-python",
   "name": "python",
   "nbconvert_exporter": "python",
   "pygments_lexer": "ipython3",
   "version": "3.9.5"
  },
  "papermill": {
   "default_parameters": {},
   "duration": 6.594298,
   "end_time": "2021-09-19T13:30:11.345582",
   "environment_variables": {},
   "exception": null,
   "input_path": "eBay_Overview.ipynb",
   "output_path": "eBay_Overview.ipynb",
   "parameters": {},
   "start_time": "2021-09-19T13:30:04.751284",
   "version": "2.3.3"
  }
 },
 "nbformat": 4,
 "nbformat_minor": 5
}