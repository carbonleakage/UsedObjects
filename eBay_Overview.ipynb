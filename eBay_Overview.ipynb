{
 "cells": [
  {
   "cell_type": "code",
   "execution_count": 1,
   "id": "reverse-picking",
   "metadata": {
    "execution": {
     "iopub.execute_input": "2021-08-08T23:00:04.638419Z",
     "iopub.status.busy": "2021-08-08T23:00:04.637663Z",
     "iopub.status.idle": "2021-08-08T23:00:05.246646Z",
     "shell.execute_reply": "2021-08-08T23:00:05.245135Z"
    },
    "papermill": {
     "duration": 0.627516,
     "end_time": "2021-08-08T23:00:05.246899",
     "exception": false,
     "start_time": "2021-08-08T23:00:04.619383",
     "status": "completed"
    },
    "tags": []
   },
   "outputs": [],
   "source": [
    "import pandas as pd\n",
    "import sqlite3"
   ]
  },
  {
   "cell_type": "code",
   "execution_count": 2,
   "id": "innovative-syndrome",
   "metadata": {
    "execution": {
     "iopub.execute_input": "2021-08-08T23:00:05.270583Z",
     "iopub.status.busy": "2021-08-08T23:00:05.269807Z",
     "iopub.status.idle": "2021-08-08T23:00:05.462120Z",
     "shell.execute_reply": "2021-08-08T23:00:05.462687Z"
    },
    "papermill": {
     "duration": 0.205911,
     "end_time": "2021-08-08T23:00:05.462868",
     "exception": false,
     "start_time": "2021-08-08T23:00:05.256957",
     "status": "completed"
    },
    "tags": []
   },
   "outputs": [],
   "source": [
    "timestamps = pd.read_sql(\"select distinct record_time from EBAY_TOP_BERLIN order by record_time desc limit 2\", sqlite3.connect(\"UsedObjects.db\"))"
   ]
  },
  {
   "cell_type": "code",
   "execution_count": 3,
   "id": "periodic-identification",
   "metadata": {
    "execution": {
     "iopub.execute_input": "2021-08-08T23:00:05.497320Z",
     "iopub.status.busy": "2021-08-08T23:00:05.496259Z",
     "iopub.status.idle": "2021-08-08T23:00:05.508307Z",
     "shell.execute_reply": "2021-08-08T23:00:05.508839Z"
    },
    "papermill": {
     "duration": 0.037475,
     "end_time": "2021-08-08T23:00:05.509015",
     "exception": false,
     "start_time": "2021-08-08T23:00:05.471540",
     "status": "completed"
    },
    "tags": []
   },
   "outputs": [
    {
     "data": {
      "text/html": [
       "<div>\n",
       "<style scoped>\n",
       "    .dataframe tbody tr th:only-of-type {\n",
       "        vertical-align: middle;\n",
       "    }\n",
       "\n",
       "    .dataframe tbody tr th {\n",
       "        vertical-align: top;\n",
       "    }\n",
       "\n",
       "    .dataframe thead th {\n",
       "        text-align: right;\n",
       "    }\n",
       "</style>\n",
       "<table border=\"1\" class=\"dataframe\">\n",
       "  <thead>\n",
       "    <tr style=\"text-align: right;\">\n",
       "      <th></th>\n",
       "      <th>RECORD_TIME</th>\n",
       "    </tr>\n",
       "  </thead>\n",
       "  <tbody>\n",
       "    <tr>\n",
       "      <th>0</th>\n",
       "      <td>2021-08-09 01:00</td>\n",
       "    </tr>\n",
       "    <tr>\n",
       "      <th>1</th>\n",
       "      <td>2021-08-09 00:30</td>\n",
       "    </tr>\n",
       "  </tbody>\n",
       "</table>\n",
       "</div>"
      ],
      "text/plain": [
       "        RECORD_TIME\n",
       "0  2021-08-09 01:00\n",
       "1  2021-08-09 00:30"
      ]
     },
     "execution_count": 3,
     "metadata": {},
     "output_type": "execute_result"
    }
   ],
   "source": [
    "timestamps"
   ]
  },
  {
   "cell_type": "code",
   "execution_count": 4,
   "id": "alternate-victory",
   "metadata": {
    "execution": {
     "iopub.execute_input": "2021-08-08T23:00:05.537144Z",
     "iopub.status.busy": "2021-08-08T23:00:05.535659Z",
     "iopub.status.idle": "2021-08-08T23:00:05.545753Z",
     "shell.execute_reply": "2021-08-08T23:00:05.547545Z"
    },
    "papermill": {
     "duration": 0.030563,
     "end_time": "2021-08-08T23:00:05.547875",
     "exception": false,
     "start_time": "2021-08-08T23:00:05.517312",
     "status": "completed"
    },
    "tags": []
   },
   "outputs": [],
   "source": [
    "df = pd.read_sql(\"select * from EBAY_TOP_BERLIN where record_time in (select distinct record_time from EBAY_TOP_BERLIN order by record_time desc limit 2)\", sqlite3.connect(\"UsedObjects.db\"))"
   ]
  },
  {
   "cell_type": "code",
   "execution_count": 5,
   "id": "popular-active",
   "metadata": {
    "execution": {
     "iopub.execute_input": "2021-08-08T23:00:05.577426Z",
     "iopub.status.busy": "2021-08-08T23:00:05.576354Z",
     "iopub.status.idle": "2021-08-08T23:00:05.596040Z",
     "shell.execute_reply": "2021-08-08T23:00:05.596575Z"
    },
    "papermill": {
     "duration": 0.039057,
     "end_time": "2021-08-08T23:00:05.596754",
     "exception": false,
     "start_time": "2021-08-08T23:00:05.557697",
     "status": "completed"
    },
    "tags": []
   },
   "outputs": [],
   "source": [
    "df_pivot = df.pivot_table(index=\"PRODUCT\", columns = \"RECORD_TIME\", values = \"LISTING_COUNT\")"
   ]
  },
  {
   "cell_type": "code",
   "execution_count": 6,
   "id": "union-huntington",
   "metadata": {
    "execution": {
     "iopub.execute_input": "2021-08-08T23:00:05.625877Z",
     "iopub.status.busy": "2021-08-08T23:00:05.625198Z",
     "iopub.status.idle": "2021-08-08T23:00:05.630866Z",
     "shell.execute_reply": "2021-08-08T23:00:05.631436Z"
    },
    "papermill": {
     "duration": 0.02236,
     "end_time": "2021-08-08T23:00:05.631627",
     "exception": false,
     "start_time": "2021-08-08T23:00:05.609267",
     "status": "completed"
    },
    "tags": []
   },
   "outputs": [],
   "source": [
    "df_pivot.columns = [\"stamp_1\", \"stamp_2\"]\n",
    "df_pivot_diff = df_pivot.diff(axis=1)"
   ]
  },
  {
   "cell_type": "code",
   "execution_count": 7,
   "id": "fifth-motion",
   "metadata": {
    "execution": {
     "iopub.execute_input": "2021-08-08T23:00:05.661197Z",
     "iopub.status.busy": "2021-08-08T23:00:05.660442Z",
     "iopub.status.idle": "2021-08-08T23:00:06.444045Z",
     "shell.execute_reply": "2021-08-08T23:00:06.444709Z"
    },
    "papermill": {
     "duration": 0.804524,
     "end_time": "2021-08-08T23:00:06.444927",
     "exception": false,
     "start_time": "2021-08-08T23:00:05.640403",
     "status": "completed"
    },
    "tags": []
   },
   "outputs": [
    {
     "data": {
      "text/plain": [
       "<AxesSubplot:ylabel='PRODUCT'>"
      ]
     },
     "execution_count": 7,
     "metadata": {},
     "output_type": "execute_result"
    },
    {
     "data": {
      "image/png": "[encoded data removed]",
      "text/plain": [
       "<Figure size 432x288 with 1 Axes>"
      ]
     },
     "metadata": {
      "needs_background": "light"
     },
     "output_type": "display_data"
    }
   ],
   "source": [
    "df_pivot_diff.sort_values(\"stamp_2\", ascending = False)[\"stamp_2\"].head(10).plot.barh()"
   ]
  },
  {
   "cell_type": "code",
   "execution_count": null,
   "id": "extra-executive",
   "metadata": {
    "papermill": {
     "duration": 0.009324,
     "end_time": "2021-08-08T23:00:06.464288",
     "exception": false,
     "start_time": "2021-08-08T23:00:06.454964",
     "status": "completed"
    },
    "tags": []
   },
   "outputs": [],
   "source": []
  }
 ],
 "metadata": {
  "kernelspec": {
   "display_name": "Python 3",
   "language": "python",
   "name": "python3"
  },
  "language_info": {
   "codemirror_mode": {
    "name": "ipython",
    "version": 3
   },
   "file_extension": ".py",
   "mimetype": "text/x-python",
   "name": "python",
   "nbconvert_exporter": "python",
   "pygments_lexer": "ipython3",
   "version": "3.8.8"
  },
  "papermill": {
   "default_parameters": {},
   "duration": 4.295389,
   "end_time": "2021-08-08T23:00:07.222561",
   "environment_variables": {},
   "exception": null,
   "input_path": "/Users/saravananshanmugam/Carbonleakage_Git/UsedObjects/eBay_Overview.ipynb",
   "output_path": "/Users/saravananshanmugam/Carbonleakage_Git/UsedObjects/eBay_Overview.ipynb",
   "parameters": {},
   "start_time": "2021-08-08T23:00:02.927172",
   "version": "2.3.3"
  }
 },
 "nbformat": 4,
 "nbformat_minor": 5
}