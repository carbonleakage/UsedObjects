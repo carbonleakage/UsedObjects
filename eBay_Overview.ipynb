{
 "cells": [
  {
   "cell_type": "code",
   "execution_count": 1,
   "id": "reverse-picking",
   "metadata": {
    "execution": {
     "iopub.execute_input": "2021-10-04T16:30:07.026349Z",
     "iopub.status.busy": "2021-10-04T16:30:07.024440Z",
     "iopub.status.idle": "2021-10-04T16:30:07.829574Z",
     "shell.execute_reply": "2021-10-04T16:30:07.830932Z"
    },
    "papermill": {
     "duration": 0.857366,
     "end_time": "2021-10-04T16:30:07.831592",
     "exception": false,
     "start_time": "2021-10-04T16:30:06.974226",
     "status": "completed"
    },
    "tags": []
   },
   "outputs": [],
   "source": [
    "import pandas as pd\n",
    "import sqlite3"
   ]
  },
  {
   "cell_type": "code",
   "execution_count": 2,
   "id": "innovative-syndrome",
   "metadata": {
    "execution": {
     "iopub.execute_input": "2021-10-04T16:30:07.882750Z",
     "iopub.status.busy": "2021-10-04T16:30:07.880804Z",
     "iopub.status.idle": "2021-10-04T16:30:08.324479Z",
     "shell.execute_reply": "2021-10-04T16:30:08.325673Z"
    },
    "papermill": {
     "duration": 0.473506,
     "end_time": "2021-10-04T16:30:08.326068",
     "exception": false,
     "start_time": "2021-10-04T16:30:07.852562",
     "status": "completed"
    },
    "tags": []
   },
   "outputs": [],
   "source": [
    "timestamps = pd.read_sql(\"select distinct record_time from EBAY_TOP_BERLIN order by record_time desc limit 2\", sqlite3.connect(\"UsedObjects.db\"))"
   ]
  },
  {
   "cell_type": "code",
   "execution_count": 3,
   "id": "periodic-identification",
   "metadata": {
    "execution": {
     "iopub.execute_input": "2021-10-04T16:30:08.389588Z",
     "iopub.status.busy": "2021-10-04T16:30:08.387580Z",
     "iopub.status.idle": "2021-10-04T16:30:08.407818Z",
     "shell.execute_reply": "2021-10-04T16:30:08.409026Z"
    },
    "papermill": {
     "duration": 0.063822,
     "end_time": "2021-10-04T16:30:08.409452",
     "exception": false,
     "start_time": "2021-10-04T16:30:08.345630",
     "status": "completed"
    },
    "tags": []
   },
   "outputs": [
    {
     "data": {
      "text/html": [
       "<div>\n",
       "<style scoped>\n",
       "    .dataframe tbody tr th:only-of-type {\n",
       "        vertical-align: middle;\n",
       "    }\n",
       "\n",
       "    .dataframe tbody tr th {\n",
       "        vertical-align: top;\n",
       "    }\n",
       "\n",
       "    .dataframe thead th {\n",
       "        text-align: right;\n",
       "    }\n",
       "</style>\n",
       "<table border=\"1\" class=\"dataframe\">\n",
       "  <thead>\n",
       "    <tr style=\"text-align: right;\">\n",
       "      <th></th>\n",
       "      <th>RECORD_TIME</th>\n",
       "    </tr>\n",
       "  </thead>\n",
       "  <tbody>\n",
       "    <tr>\n",
       "      <th>0</th>\n",
       "      <td>2021-10-04 18:30</td>\n",
       "    </tr>\n",
       "    <tr>\n",
       "      <th>1</th>\n",
       "      <td>2021-10-04 18:00</td>\n",
       "    </tr>\n",
       "  </tbody>\n",
       "</table>\n",
       "</div>"
      ],
      "text/plain": [
       "        RECORD_TIME\n",
       "0  2021-10-04 18:30\n",
       "1  2021-10-04 18:00"
      ]
     },
     "execution_count": 3,
     "metadata": {},
     "output_type": "execute_result"
    }
   ],
   "source": [
    "timestamps"
   ]
  },
  {
   "cell_type": "code",
   "execution_count": 4,
   "id": "alternate-victory",
   "metadata": {
    "execution": {
     "iopub.execute_input": "2021-10-04T16:30:08.460206Z",
     "iopub.status.busy": "2021-10-04T16:30:08.458252Z",
     "iopub.status.idle": "2021-10-04T16:30:09.114909Z",
     "shell.execute_reply": "2021-10-04T16:30:09.116158Z"
    },
    "papermill": {
     "duration": 0.686832,
     "end_time": "2021-10-04T16:30:09.116551",
     "exception": false,
     "start_time": "2021-10-04T16:30:08.429719",
     "status": "completed"
    },
    "tags": []
   },
   "outputs": [],
   "source": [
    "df = pd.read_sql(\"select * from EBAY_TOP_BERLIN where record_time in (select distinct record_time from EBAY_TOP_BERLIN order by record_time desc limit 2)\", sqlite3.connect(\"UsedObjects.db\"))"
   ]
  },
  {
   "cell_type": "code",
   "execution_count": 5,
   "id": "popular-active",
   "metadata": {
    "execution": {
     "iopub.execute_input": "2021-10-04T16:30:09.188311Z",
     "iopub.status.busy": "2021-10-04T16:30:09.176852Z",
     "iopub.status.idle": "2021-10-04T16:30:09.204712Z",
     "shell.execute_reply": "2021-10-04T16:30:09.205925Z"
    },
    "papermill": {
     "duration": 0.067725,
     "end_time": "2021-10-04T16:30:09.206315",
     "exception": false,
     "start_time": "2021-10-04T16:30:09.138590",
     "status": "completed"
    },
    "tags": []
   },
   "outputs": [],
   "source": [
    "df_pivot = df.pivot_table(index=\"PRODUCT\", columns = \"RECORD_TIME\", values = \"LISTING_COUNT\")"
   ]
  },
  {
   "cell_type": "code",
   "execution_count": 6,
   "id": "union-huntington",
   "metadata": {
    "execution": {
     "iopub.execute_input": "2021-10-04T16:30:09.261885Z",
     "iopub.status.busy": "2021-10-04T16:30:09.259863Z",
     "iopub.status.idle": "2021-10-04T16:30:09.265140Z",
     "shell.execute_reply": "2021-10-04T16:30:09.266419Z"
    },
    "papermill": {
     "duration": 0.040629,
     "end_time": "2021-10-04T16:30:09.267004",
     "exception": false,
     "start_time": "2021-10-04T16:30:09.226375",
     "status": "completed"
    },
    "tags": []
   },
   "outputs": [],
   "source": [
    "df_pivot.columns = [\"stamp_1\", \"stamp_2\"]\n",
    "df_pivot_diff = df_pivot.diff(axis=1)"
   ]
  },
  {
   "cell_type": "code",
   "execution_count": 7,
   "id": "fifth-motion",
   "metadata": {
    "execution": {
     "iopub.execute_input": "2021-10-04T16:30:09.322719Z",
     "iopub.status.busy": "2021-10-04T16:30:09.320109Z",
     "iopub.status.idle": "2021-10-04T16:30:10.779969Z",
     "shell.execute_reply": "2021-10-04T16:30:10.781247Z"
    },
    "papermill": {
     "duration": 1.493374,
     "end_time": "2021-10-04T16:30:10.781656",
     "exception": false,
     "start_time": "2021-10-04T16:30:09.288282",
     "status": "completed"
    },
    "tags": []
   },
   "outputs": [
    {
     "data": {
      "text/plain": [
       "<AxesSubplot:ylabel='PRODUCT'>"
      ]
     },
     "execution_count": 7,
     "metadata": {},
     "output_type": "execute_result"
    },
    {
     "data": {
      "image/png": "[encoded data removed]",
      "text/plain": [
       "<Figure size 432x288 with 1 Axes>"
      ]
     },
     "metadata": {
      "needs_background": "light"
     },
     "output_type": "display_data"
    }
   ],
   "source": [
    "df_pivot_diff.sort_values(\"stamp_2\", ascending = False)[\"stamp_2\"].head(10).plot.barh()"
   ]
  },
  {
   "cell_type": "code",
   "execution_count": null,
   "id": "extra-executive",
   "metadata": {
    "papermill": {
     "duration": 0.022196,
     "end_time": "2021-10-04T16:30:10.828366",
     "exception": false,
     "start_time": "2021-10-04T16:30:10.806170",
     "status": "completed"
    },
    "tags": []
   },
   "outputs": [],
   "source": []
  }
 ],
 "metadata": {
  "kernelspec": {
   "display_name": "Python 3",
   "language": "python",
   "name": "python3"
  },
  "language_info": {
   "codemirror_mode": {
    "name": "ipython",
    "version": 3
   },
   "file_extension": ".py",
   "mimetype": "text/x-python",
   "name": "python",
   "nbconvert_exporter": "python",
   "pygments_lexer": "ipython3",
   "version": "3.9.5"
  },
  "papermill": {
   "default_parameters": {},
   "duration": 7.820567,
   "end_time": "2021-10-04T16:30:12.395699",
   "environment_variables": {},
   "exception": null,
   "input_path": "eBay_Overview.ipynb",
   "output_path": "eBay_Overview.ipynb",
   "parameters": {},
   "start_time": "2021-10-04T16:30:04.575132",
   "version": "2.3.3"
  }
 },
 "nbformat": 4,
 "nbformat_minor": 5
}