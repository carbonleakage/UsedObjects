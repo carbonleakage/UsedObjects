{
 "cells": [
  {
   "cell_type": "code",
   "execution_count": 1,
   "id": "reverse-picking",
   "metadata": {
    "execution": {
     "iopub.execute_input": "2021-12-16T14:00:08.179482Z",
     "iopub.status.busy": "2021-12-16T14:00:08.177181Z",
     "iopub.status.idle": "2021-12-16T14:00:09.134177Z",
     "shell.execute_reply": "2021-12-16T14:00:09.135755Z"
    },
    "papermill": {
     "duration": 0.988942,
     "end_time": "2021-12-16T14:00:09.136477",
     "exception": false,
     "start_time": "2021-12-16T14:00:08.147535",
     "status": "completed"
    },
    "tags": []
   },
   "outputs": [],
   "source": [
    "import pandas as pd\n",
    "import sqlite3"
   ]
  },
  {
   "cell_type": "code",
   "execution_count": 2,
   "id": "innovative-syndrome",
   "metadata": {
    "execution": {
     "iopub.execute_input": "2021-12-16T14:00:09.203450Z",
     "iopub.status.busy": "2021-12-16T14:00:09.201258Z",
     "iopub.status.idle": "2021-12-16T14:00:10.294272Z",
     "shell.execute_reply": "2021-12-16T14:00:10.296136Z"
    },
    "papermill": {
     "duration": 1.127647,
     "end_time": "2021-12-16T14:00:10.296620",
     "exception": false,
     "start_time": "2021-12-16T14:00:09.168973",
     "status": "completed"
    },
    "tags": []
   },
   "outputs": [],
   "source": [
    "timestamps = pd.read_sql(\"select distinct record_time from EBAY_TOP_BERLIN order by record_time desc limit 2\", sqlite3.connect(\"UsedObjects.db\"))"
   ]
  },
  {
   "cell_type": "code",
   "execution_count": 3,
   "id": "periodic-identification",
   "metadata": {
    "execution": {
     "iopub.execute_input": "2021-12-16T14:00:10.350845Z",
     "iopub.status.busy": "2021-12-16T14:00:10.348784Z",
     "iopub.status.idle": "2021-12-16T14:00:10.401512Z",
     "shell.execute_reply": "2021-12-16T14:00:10.403147Z"
    },
    "papermill": {
     "duration": 0.086799,
     "end_time": "2021-12-16T14:00:10.403633",
     "exception": false,
     "start_time": "2021-12-16T14:00:10.316834",
     "status": "completed"
    },
    "tags": []
   },
   "outputs": [
    {
     "data": {
      "text/html": [
       "<div>\n",
       "<style scoped>\n",
       "    .dataframe tbody tr th:only-of-type {\n",
       "        vertical-align: middle;\n",
       "    }\n",
       "\n",
       "    .dataframe tbody tr th {\n",
       "        vertical-align: top;\n",
       "    }\n",
       "\n",
       "    .dataframe thead th {\n",
       "        text-align: right;\n",
       "    }\n",
       "</style>\n",
       "<table border=\"1\" class=\"dataframe\">\n",
       "  <thead>\n",
       "    <tr style=\"text-align: right;\">\n",
       "      <th></th>\n",
       "      <th>RECORD_TIME</th>\n",
       "    </tr>\n",
       "  </thead>\n",
       "  <tbody>\n",
       "    <tr>\n",
       "      <th>0</th>\n",
       "      <td>2021-12-16 15:00</td>\n",
       "    </tr>\n",
       "    <tr>\n",
       "      <th>1</th>\n",
       "      <td>2021-12-16 14:30</td>\n",
       "    </tr>\n",
       "  </tbody>\n",
       "</table>\n",
       "</div>"
      ],
      "text/plain": [
       "        RECORD_TIME\n",
       "0  2021-12-16 15:00\n",
       "1  2021-12-16 14:30"
      ]
     },
     "execution_count": 3,
     "metadata": {},
     "output_type": "execute_result"
    }
   ],
   "source": [
    "timestamps"
   ]
  },
  {
   "cell_type": "code",
   "execution_count": 4,
   "id": "alternate-victory",
   "metadata": {
    "execution": {
     "iopub.execute_input": "2021-12-16T14:00:10.460049Z",
     "iopub.status.busy": "2021-12-16T14:00:10.457851Z",
     "iopub.status.idle": "2021-12-16T14:00:12.057222Z",
     "shell.execute_reply": "2021-12-16T14:00:12.058574Z"
    },
    "papermill": {
     "duration": 1.633567,
     "end_time": "2021-12-16T14:00:12.059042",
     "exception": false,
     "start_time": "2021-12-16T14:00:10.425475",
     "status": "completed"
    },
    "tags": []
   },
   "outputs": [],
   "source": [
    "df = pd.read_sql(\"select * from EBAY_TOP_BERLIN where record_time in (select distinct record_time from EBAY_TOP_BERLIN order by record_time desc limit 2)\", sqlite3.connect(\"UsedObjects.db\"))"
   ]
  },
  {
   "cell_type": "code",
   "execution_count": 5,
   "id": "popular-active",
   "metadata": {
    "execution": {
     "iopub.execute_input": "2021-12-16T14:00:12.220466Z",
     "iopub.status.busy": "2021-12-16T14:00:12.207209Z",
     "iopub.status.idle": "2021-12-16T14:00:12.238821Z",
     "shell.execute_reply": "2021-12-16T14:00:12.240177Z"
    },
    "papermill": {
     "duration": 0.113505,
     "end_time": "2021-12-16T14:00:12.240641",
     "exception": false,
     "start_time": "2021-12-16T14:00:12.127136",
     "status": "completed"
    },
    "tags": []
   },
   "outputs": [],
   "source": [
    "df_pivot = df.pivot_table(index=\"PRODUCT\", columns = \"RECORD_TIME\", values = \"LISTING_COUNT\")"
   ]
  },
  {
   "cell_type": "code",
   "execution_count": 6,
   "id": "union-huntington",
   "metadata": {
    "execution": {
     "iopub.execute_input": "2021-12-16T14:00:12.298897Z",
     "iopub.status.busy": "2021-12-16T14:00:12.296595Z",
     "iopub.status.idle": "2021-12-16T14:00:12.302324Z",
     "shell.execute_reply": "2021-12-16T14:00:12.303678Z"
    },
    "papermill": {
     "duration": 0.043025,
     "end_time": "2021-12-16T14:00:12.304142",
     "exception": false,
     "start_time": "2021-12-16T14:00:12.261117",
     "status": "completed"
    },
    "tags": []
   },
   "outputs": [],
   "source": [
    "df_pivot.columns = [\"stamp_1\", \"stamp_2\"]\n",
    "df_pivot_diff = df_pivot.diff(axis=1)"
   ]
  },
  {
   "cell_type": "code",
   "execution_count": 7,
   "id": "fifth-motion",
   "metadata": {
    "execution": {
     "iopub.execute_input": "2021-12-16T14:00:12.362185Z",
     "iopub.status.busy": "2021-12-16T14:00:12.359529Z",
     "iopub.status.idle": "2021-12-16T14:00:14.350160Z",
     "shell.execute_reply": "2021-12-16T14:00:14.351424Z"
    },
    "papermill": {
     "duration": 2.027569,
     "end_time": "2021-12-16T14:00:14.351859",
     "exception": false,
     "start_time": "2021-12-16T14:00:12.324290",
     "status": "completed"
    },
    "tags": []
   },
   "outputs": [
    {
     "data": {
      "text/plain": [
       "<AxesSubplot:ylabel='PRODUCT'>"
      ]
     },
     "execution_count": 7,
     "metadata": {},
     "output_type": "execute_result"
    },
    {
     "data": {
      "image/png": "[encoded data removed]",
      "text/plain": [
       "<Figure size 432x288 with 1 Axes>"
      ]
     },
     "metadata": {
      "needs_background": "light"
     },
     "output_type": "display_data"
    }
   ],
   "source": [
    "df_pivot_diff.sort_values(\"stamp_2\", ascending = False)[\"stamp_2\"].head(10).plot.barh()"
   ]
  },
  {
   "cell_type": "code",
   "execution_count": null,
   "id": "extra-executive",
   "metadata": {
    "papermill": {
     "duration": 0.022065,
     "end_time": "2021-12-16T14:00:14.397427",
     "exception": false,
     "start_time": "2021-12-16T14:00:14.375362",
     "status": "completed"
    },
    "tags": []
   },
   "outputs": [],
   "source": []
  }
 ],
 "metadata": {
  "kernelspec": {
   "display_name": "Python 3",
   "language": "python",
   "name": "python3"
  },
  "language_info": {
   "codemirror_mode": {
    "name": "ipython",
    "version": 3
   },
   "file_extension": ".py",
   "mimetype": "text/x-python",
   "name": "python",
   "nbconvert_exporter": "python",
   "pygments_lexer": "ipython3",
   "version": "3.9.5"
  },
  "papermill": {
   "default_parameters": {},
   "duration": 9.63365,
   "end_time": "2021-12-16T14:00:15.041283",
   "environment_variables": {},
   "exception": null,
   "input_path": "eBay_Overview.ipynb",
   "output_path": "eBay_Overview.ipynb",
   "parameters": {},
   "start_time": "2021-12-16T14:00:05.407633",
   "version": "2.3.3"
  }
 },
 "nbformat": 4,
 "nbformat_minor": 5
}