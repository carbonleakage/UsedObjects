{
 "cells": [
  {
   "cell_type": "code",
   "execution_count": 1,
   "id": "reverse-picking",
   "metadata": {
    "execution": {
     "iopub.execute_input": "2021-12-01T09:30:07.900097Z",
     "iopub.status.busy": "2021-12-01T09:30:07.897813Z",
     "iopub.status.idle": "2021-12-01T09:30:08.840731Z",
     "shell.execute_reply": "2021-12-01T09:30:08.842407Z"
    },
    "papermill": {
     "duration": 0.992218,
     "end_time": "2021-12-01T09:30:08.843154",
     "exception": false,
     "start_time": "2021-12-01T09:30:07.850936",
     "status": "completed"
    },
    "tags": []
   },
   "outputs": [],
   "source": [
    "import pandas as pd\n",
    "import sqlite3"
   ]
  },
  {
   "cell_type": "code",
   "execution_count": 2,
   "id": "innovative-syndrome",
   "metadata": {
    "execution": {
     "iopub.execute_input": "2021-12-01T09:30:08.907392Z",
     "iopub.status.busy": "2021-12-01T09:30:08.905103Z",
     "iopub.status.idle": "2021-12-01T09:30:09.861150Z",
     "shell.execute_reply": "2021-12-01T09:30:09.862403Z"
    },
    "papermill": {
     "duration": 0.991748,
     "end_time": "2021-12-01T09:30:09.862810",
     "exception": false,
     "start_time": "2021-12-01T09:30:08.871062",
     "status": "completed"
    },
    "tags": []
   },
   "outputs": [],
   "source": [
    "timestamps = pd.read_sql(\"select distinct record_time from EBAY_TOP_BERLIN order by record_time desc limit 2\", sqlite3.connect(\"UsedObjects.db\"))"
   ]
  },
  {
   "cell_type": "code",
   "execution_count": 3,
   "id": "periodic-identification",
   "metadata": {
    "execution": {
     "iopub.execute_input": "2021-12-01T09:30:09.931614Z",
     "iopub.status.busy": "2021-12-01T09:30:09.929591Z",
     "iopub.status.idle": "2021-12-01T09:30:09.949737Z",
     "shell.execute_reply": "2021-12-01T09:30:09.951068Z"
    },
    "papermill": {
     "duration": 0.065991,
     "end_time": "2021-12-01T09:30:09.951487",
     "exception": false,
     "start_time": "2021-12-01T09:30:09.885496",
     "status": "completed"
    },
    "tags": []
   },
   "outputs": [
    {
     "data": {
      "text/html": [
       "<div>\n",
       "<style scoped>\n",
       "    .dataframe tbody tr th:only-of-type {\n",
       "        vertical-align: middle;\n",
       "    }\n",
       "\n",
       "    .dataframe tbody tr th {\n",
       "        vertical-align: top;\n",
       "    }\n",
       "\n",
       "    .dataframe thead th {\n",
       "        text-align: right;\n",
       "    }\n",
       "</style>\n",
       "<table border=\"1\" class=\"dataframe\">\n",
       "  <thead>\n",
       "    <tr style=\"text-align: right;\">\n",
       "      <th></th>\n",
       "      <th>RECORD_TIME</th>\n",
       "    </tr>\n",
       "  </thead>\n",
       "  <tbody>\n",
       "    <tr>\n",
       "      <th>0</th>\n",
       "      <td>2021-12-01 10:30</td>\n",
       "    </tr>\n",
       "    <tr>\n",
       "      <th>1</th>\n",
       "      <td>2021-12-01 10:00</td>\n",
       "    </tr>\n",
       "  </tbody>\n",
       "</table>\n",
       "</div>"
      ],
      "text/plain": [
       "        RECORD_TIME\n",
       "0  2021-12-01 10:30\n",
       "1  2021-12-01 10:00"
      ]
     },
     "execution_count": 3,
     "metadata": {},
     "output_type": "execute_result"
    }
   ],
   "source": [
    "timestamps"
   ]
  },
  {
   "cell_type": "code",
   "execution_count": 4,
   "id": "alternate-victory",
   "metadata": {
    "execution": {
     "iopub.execute_input": "2021-12-01T09:30:10.002733Z",
     "iopub.status.busy": "2021-12-01T09:30:10.000847Z",
     "iopub.status.idle": "2021-12-01T09:30:11.417880Z",
     "shell.execute_reply": "2021-12-01T09:30:11.420607Z"
    },
    "papermill": {
     "duration": 1.449294,
     "end_time": "2021-12-01T09:30:11.421518",
     "exception": false,
     "start_time": "2021-12-01T09:30:09.972224",
     "status": "completed"
    },
    "tags": []
   },
   "outputs": [],
   "source": [
    "df = pd.read_sql(\"select * from EBAY_TOP_BERLIN where record_time in (select distinct record_time from EBAY_TOP_BERLIN order by record_time desc limit 2)\", sqlite3.connect(\"UsedObjects.db\"))"
   ]
  },
  {
   "cell_type": "code",
   "execution_count": 5,
   "id": "popular-active",
   "metadata": {
    "execution": {
     "iopub.execute_input": "2021-12-01T09:30:11.494264Z",
     "iopub.status.busy": "2021-12-01T09:30:11.489746Z",
     "iopub.status.idle": "2021-12-01T09:30:11.522587Z",
     "shell.execute_reply": "2021-12-01T09:30:11.523937Z"
    },
    "papermill": {
     "duration": 0.076862,
     "end_time": "2021-12-01T09:30:11.524409",
     "exception": false,
     "start_time": "2021-12-01T09:30:11.447547",
     "status": "completed"
    },
    "tags": []
   },
   "outputs": [],
   "source": [
    "df_pivot = df.pivot_table(index=\"PRODUCT\", columns = \"RECORD_TIME\", values = \"LISTING_COUNT\")"
   ]
  },
  {
   "cell_type": "code",
   "execution_count": 6,
   "id": "union-huntington",
   "metadata": {
    "execution": {
     "iopub.execute_input": "2021-12-01T09:30:11.582403Z",
     "iopub.status.busy": "2021-12-01T09:30:11.580075Z",
     "iopub.status.idle": "2021-12-01T09:30:11.585851Z",
     "shell.execute_reply": "2021-12-01T09:30:11.587320Z"
    },
    "papermill": {
     "duration": 0.043479,
     "end_time": "2021-12-01T09:30:11.587780",
     "exception": false,
     "start_time": "2021-12-01T09:30:11.544301",
     "status": "completed"
    },
    "tags": []
   },
   "outputs": [],
   "source": [
    "df_pivot.columns = [\"stamp_1\", \"stamp_2\"]\n",
    "df_pivot_diff = df_pivot.diff(axis=1)"
   ]
  },
  {
   "cell_type": "code",
   "execution_count": 7,
   "id": "fifth-motion",
   "metadata": {
    "execution": {
     "iopub.execute_input": "2021-12-01T09:30:11.648140Z",
     "iopub.status.busy": "2021-12-01T09:30:11.645478Z",
     "iopub.status.idle": "2021-12-01T09:30:13.670395Z",
     "shell.execute_reply": "2021-12-01T09:30:13.672082Z"
    },
    "papermill": {
     "duration": 2.063404,
     "end_time": "2021-12-01T09:30:13.672727",
     "exception": false,
     "start_time": "2021-12-01T09:30:11.609323",
     "status": "completed"
    },
    "tags": []
   },
   "outputs": [
    {
     "data": {
      "text/plain": [
       "<AxesSubplot:ylabel='PRODUCT'>"
      ]
     },
     "execution_count": 7,
     "metadata": {},
     "output_type": "execute_result"
    },
    {
     "data": {
      "image/png": "[encoded data removed]",
      "text/plain": [
       "<Figure size 432x288 with 1 Axes>"
      ]
     },
     "metadata": {
      "needs_background": "light"
     },
     "output_type": "display_data"
    }
   ],
   "source": [
    "df_pivot_diff.sort_values(\"stamp_2\", ascending = False)[\"stamp_2\"].head(10).plot.barh()"
   ]
  },
  {
   "cell_type": "code",
   "execution_count": null,
   "id": "extra-executive",
   "metadata": {
    "papermill": {
     "duration": 0.022593,
     "end_time": "2021-12-01T09:30:13.719672",
     "exception": false,
     "start_time": "2021-12-01T09:30:13.697079",
     "status": "completed"
    },
    "tags": []
   },
   "outputs": [],
   "source": []
  }
 ],
 "metadata": {
  "kernelspec": {
   "display_name": "Python 3",
   "language": "python",
   "name": "python3"
  },
  "language_info": {
   "codemirror_mode": {
    "name": "ipython",
    "version": 3
   },
   "file_extension": ".py",
   "mimetype": "text/x-python",
   "name": "python",
   "nbconvert_exporter": "python",
   "pygments_lexer": "ipython3",
   "version": "3.9.5"
  },
  "papermill": {
   "default_parameters": {},
   "duration": 9.939542,
   "end_time": "2021-12-01T09:30:15.073272",
   "environment_variables": {},
   "exception": null,
   "input_path": "eBay_Overview.ipynb",
   "output_path": "eBay_Overview.ipynb",
   "parameters": {},
   "start_time": "2021-12-01T09:30:05.133730",
   "version": "2.3.3"
  }
 },
 "nbformat": 4,
 "nbformat_minor": 5
}