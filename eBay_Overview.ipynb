{
 "cells": [
  {
   "cell_type": "code",
   "execution_count": 1,
   "id": "reverse-picking",
   "metadata": {
    "execution": {
     "iopub.execute_input": "2021-12-18T17:00:08.208659Z",
     "iopub.status.busy": "2021-12-18T17:00:08.206309Z",
     "iopub.status.idle": "2021-12-18T17:00:09.170220Z",
     "shell.execute_reply": "2021-12-18T17:00:09.171755Z"
    },
    "papermill": {
     "duration": 1.013228,
     "end_time": "2021-12-18T17:00:09.172435",
     "exception": false,
     "start_time": "2021-12-18T17:00:08.159207",
     "status": "completed"
    },
    "tags": []
   },
   "outputs": [],
   "source": [
    "import pandas as pd\n",
    "import sqlite3"
   ]
  },
  {
   "cell_type": "code",
   "execution_count": 2,
   "id": "innovative-syndrome",
   "metadata": {
    "execution": {
     "iopub.execute_input": "2021-12-18T17:00:09.228071Z",
     "iopub.status.busy": "2021-12-18T17:00:09.225918Z",
     "iopub.status.idle": "2021-12-18T17:00:10.339116Z",
     "shell.execute_reply": "2021-12-18T17:00:10.340764Z"
    },
    "papermill": {
     "duration": 1.148995,
     "end_time": "2021-12-18T17:00:10.341278",
     "exception": false,
     "start_time": "2021-12-18T17:00:09.192283",
     "status": "completed"
    },
    "tags": []
   },
   "outputs": [],
   "source": [
    "timestamps = pd.read_sql(\"select distinct record_time from EBAY_TOP_BERLIN order by record_time desc limit 2\", sqlite3.connect(\"UsedObjects.db\"))"
   ]
  },
  {
   "cell_type": "code",
   "execution_count": 3,
   "id": "periodic-identification",
   "metadata": {
    "execution": {
     "iopub.execute_input": "2021-12-18T17:00:10.418550Z",
     "iopub.status.busy": "2021-12-18T17:00:10.412507Z",
     "iopub.status.idle": "2021-12-18T17:00:10.435034Z",
     "shell.execute_reply": "2021-12-18T17:00:10.436674Z"
    },
    "papermill": {
     "duration": 0.075382,
     "end_time": "2021-12-18T17:00:10.437279",
     "exception": false,
     "start_time": "2021-12-18T17:00:10.361897",
     "status": "completed"
    },
    "tags": []
   },
   "outputs": [
    {
     "data": {
      "text/html": [
       "<div>\n",
       "<style scoped>\n",
       "    .dataframe tbody tr th:only-of-type {\n",
       "        vertical-align: middle;\n",
       "    }\n",
       "\n",
       "    .dataframe tbody tr th {\n",
       "        vertical-align: top;\n",
       "    }\n",
       "\n",
       "    .dataframe thead th {\n",
       "        text-align: right;\n",
       "    }\n",
       "</style>\n",
       "<table border=\"1\" class=\"dataframe\">\n",
       "  <thead>\n",
       "    <tr style=\"text-align: right;\">\n",
       "      <th></th>\n",
       "      <th>RECORD_TIME</th>\n",
       "    </tr>\n",
       "  </thead>\n",
       "  <tbody>\n",
       "    <tr>\n",
       "      <th>0</th>\n",
       "      <td>2021-12-18 18:00</td>\n",
       "    </tr>\n",
       "    <tr>\n",
       "      <th>1</th>\n",
       "      <td>2021-12-18 17:30</td>\n",
       "    </tr>\n",
       "  </tbody>\n",
       "</table>\n",
       "</div>"
      ],
      "text/plain": [
       "        RECORD_TIME\n",
       "0  2021-12-18 18:00\n",
       "1  2021-12-18 17:30"
      ]
     },
     "execution_count": 3,
     "metadata": {},
     "output_type": "execute_result"
    }
   ],
   "source": [
    "timestamps"
   ]
  },
  {
   "cell_type": "code",
   "execution_count": 4,
   "id": "alternate-victory",
   "metadata": {
    "execution": {
     "iopub.execute_input": "2021-12-18T17:00:10.495402Z",
     "iopub.status.busy": "2021-12-18T17:00:10.492264Z",
     "iopub.status.idle": "2021-12-18T17:00:12.102512Z",
     "shell.execute_reply": "2021-12-18T17:00:12.104001Z"
    },
    "papermill": {
     "duration": 1.645424,
     "end_time": "2021-12-18T17:00:12.104475",
     "exception": false,
     "start_time": "2021-12-18T17:00:10.459051",
     "status": "completed"
    },
    "tags": []
   },
   "outputs": [],
   "source": [
    "df = pd.read_sql(\"select * from EBAY_TOP_BERLIN where record_time in (select distinct record_time from EBAY_TOP_BERLIN order by record_time desc limit 2)\", sqlite3.connect(\"UsedObjects.db\"))"
   ]
  },
  {
   "cell_type": "code",
   "execution_count": 5,
   "id": "popular-active",
   "metadata": {
    "execution": {
     "iopub.execute_input": "2021-12-18T17:00:12.163272Z",
     "iopub.status.busy": "2021-12-18T17:00:12.160580Z",
     "iopub.status.idle": "2021-12-18T17:00:12.199850Z",
     "shell.execute_reply": "2021-12-18T17:00:12.201508Z"
    },
    "papermill": {
     "duration": 0.075662,
     "end_time": "2021-12-18T17:00:12.202010",
     "exception": false,
     "start_time": "2021-12-18T17:00:12.126348",
     "status": "completed"
    },
    "tags": []
   },
   "outputs": [],
   "source": [
    "df_pivot = df.pivot_table(index=\"PRODUCT\", columns = \"RECORD_TIME\", values = \"LISTING_COUNT\")"
   ]
  },
  {
   "cell_type": "code",
   "execution_count": 6,
   "id": "union-huntington",
   "metadata": {
    "execution": {
     "iopub.execute_input": "2021-12-18T17:00:12.262649Z",
     "iopub.status.busy": "2021-12-18T17:00:12.260314Z",
     "iopub.status.idle": "2021-12-18T17:00:12.266316Z",
     "shell.execute_reply": "2021-12-18T17:00:12.267770Z"
    },
    "papermill": {
     "duration": 0.043704,
     "end_time": "2021-12-18T17:00:12.268240",
     "exception": false,
     "start_time": "2021-12-18T17:00:12.224536",
     "status": "completed"
    },
    "tags": []
   },
   "outputs": [],
   "source": [
    "df_pivot.columns = [\"stamp_1\", \"stamp_2\"]\n",
    "df_pivot_diff = df_pivot.diff(axis=1)"
   ]
  },
  {
   "cell_type": "code",
   "execution_count": 7,
   "id": "fifth-motion",
   "metadata": {
    "execution": {
     "iopub.execute_input": "2021-12-18T17:00:12.333307Z",
     "iopub.status.busy": "2021-12-18T17:00:12.322276Z",
     "iopub.status.idle": "2021-12-18T17:00:14.318724Z",
     "shell.execute_reply": "2021-12-18T17:00:14.319921Z"
    },
    "papermill": {
     "duration": 2.031446,
     "end_time": "2021-12-18T17:00:14.320361",
     "exception": false,
     "start_time": "2021-12-18T17:00:12.288915",
     "status": "completed"
    },
    "tags": []
   },
   "outputs": [
    {
     "data": {
      "text/plain": [
       "<AxesSubplot:ylabel='PRODUCT'>"
      ]
     },
     "execution_count": 7,
     "metadata": {},
     "output_type": "execute_result"
    },
    {
     "data": {
      "image/png": "[encoded data removed]",
      "text/plain": [
       "<Figure size 432x288 with 1 Axes>"
      ]
     },
     "metadata": {
      "needs_background": "light"
     },
     "output_type": "display_data"
    }
   ],
   "source": [
    "df_pivot_diff.sort_values(\"stamp_2\", ascending = False)[\"stamp_2\"].head(10).plot.barh()"
   ]
  },
  {
   "cell_type": "code",
   "execution_count": null,
   "id": "extra-executive",
   "metadata": {
    "papermill": {
     "duration": 0.022176,
     "end_time": "2021-12-18T17:00:14.369128",
     "exception": false,
     "start_time": "2021-12-18T17:00:14.346952",
     "status": "completed"
    },
    "tags": []
   },
   "outputs": [],
   "source": []
  }
 ],
 "metadata": {
  "kernelspec": {
   "display_name": "Python 3",
   "language": "python",
   "name": "python3"
  },
  "language_info": {
   "codemirror_mode": {
    "name": "ipython",
    "version": 3
   },
   "file_extension": ".py",
   "mimetype": "text/x-python",
   "name": "python",
   "nbconvert_exporter": "python",
   "pygments_lexer": "ipython3",
   "version": "3.9.5"
  },
  "papermill": {
   "default_parameters": {},
   "duration": 9.62528,
   "end_time": "2021-12-18T17:00:15.013367",
   "environment_variables": {},
   "exception": null,
   "input_path": "eBay_Overview.ipynb",
   "output_path": "eBay_Overview.ipynb",
   "parameters": {},
   "start_time": "2021-12-18T17:00:05.388087",
   "version": "2.3.3"
  }
 },
 "nbformat": 4,
 "nbformat_minor": 5
}