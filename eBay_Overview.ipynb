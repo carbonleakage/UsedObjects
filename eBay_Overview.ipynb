{
 "cells": [
  {
   "cell_type": "code",
   "execution_count": 1,
   "id": "reverse-picking",
   "metadata": {
    "execution": {
     "iopub.execute_input": "2021-12-11T06:00:08.015612Z",
     "iopub.status.busy": "2021-12-11T06:00:08.013428Z",
     "iopub.status.idle": "2021-12-11T06:00:08.971875Z",
     "shell.execute_reply": "2021-12-11T06:00:08.973472Z"
    },
    "papermill": {
     "duration": 1.005924,
     "end_time": "2021-12-11T06:00:08.974205",
     "exception": false,
     "start_time": "2021-12-11T06:00:07.968281",
     "status": "completed"
    },
    "tags": []
   },
   "outputs": [],
   "source": [
    "import pandas as pd\n",
    "import sqlite3"
   ]
  },
  {
   "cell_type": "code",
   "execution_count": 2,
   "id": "innovative-syndrome",
   "metadata": {
    "execution": {
     "iopub.execute_input": "2021-12-11T06:00:09.036413Z",
     "iopub.status.busy": "2021-12-11T06:00:09.034014Z",
     "iopub.status.idle": "2021-12-11T06:00:10.090497Z",
     "shell.execute_reply": "2021-12-11T06:00:10.092101Z"
    },
    "papermill": {
     "duration": 1.090779,
     "end_time": "2021-12-11T06:00:10.092593",
     "exception": false,
     "start_time": "2021-12-11T06:00:09.001814",
     "status": "completed"
    },
    "tags": []
   },
   "outputs": [],
   "source": [
    "timestamps = pd.read_sql(\"select distinct record_time from EBAY_TOP_BERLIN order by record_time desc limit 2\", sqlite3.connect(\"UsedObjects.db\"))"
   ]
  },
  {
   "cell_type": "code",
   "execution_count": 3,
   "id": "periodic-identification",
   "metadata": {
    "execution": {
     "iopub.execute_input": "2021-12-11T06:00:10.165346Z",
     "iopub.status.busy": "2021-12-11T06:00:10.162896Z",
     "iopub.status.idle": "2021-12-11T06:00:10.185348Z",
     "shell.execute_reply": "2021-12-11T06:00:10.186837Z"
    },
    "papermill": {
     "duration": 0.073645,
     "end_time": "2021-12-11T06:00:10.187366",
     "exception": false,
     "start_time": "2021-12-11T06:00:10.113721",
     "status": "completed"
    },
    "tags": []
   },
   "outputs": [
    {
     "data": {
      "text/html": [
       "<div>\n",
       "<style scoped>\n",
       "    .dataframe tbody tr th:only-of-type {\n",
       "        vertical-align: middle;\n",
       "    }\n",
       "\n",
       "    .dataframe tbody tr th {\n",
       "        vertical-align: top;\n",
       "    }\n",
       "\n",
       "    .dataframe thead th {\n",
       "        text-align: right;\n",
       "    }\n",
       "</style>\n",
       "<table border=\"1\" class=\"dataframe\">\n",
       "  <thead>\n",
       "    <tr style=\"text-align: right;\">\n",
       "      <th></th>\n",
       "      <th>RECORD_TIME</th>\n",
       "    </tr>\n",
       "  </thead>\n",
       "  <tbody>\n",
       "    <tr>\n",
       "      <th>0</th>\n",
       "      <td>2021-12-11 07:00</td>\n",
       "    </tr>\n",
       "    <tr>\n",
       "      <th>1</th>\n",
       "      <td>2021-12-11 06:30</td>\n",
       "    </tr>\n",
       "  </tbody>\n",
       "</table>\n",
       "</div>"
      ],
      "text/plain": [
       "        RECORD_TIME\n",
       "0  2021-12-11 07:00\n",
       "1  2021-12-11 06:30"
      ]
     },
     "execution_count": 3,
     "metadata": {},
     "output_type": "execute_result"
    }
   ],
   "source": [
    "timestamps"
   ]
  },
  {
   "cell_type": "code",
   "execution_count": 4,
   "id": "alternate-victory",
   "metadata": {
    "execution": {
     "iopub.execute_input": "2021-12-11T06:00:10.243528Z",
     "iopub.status.busy": "2021-12-11T06:00:10.241238Z",
     "iopub.status.idle": "2021-12-11T06:00:11.733775Z",
     "shell.execute_reply": "2021-12-11T06:00:11.735046Z"
    },
    "papermill": {
     "duration": 1.526315,
     "end_time": "2021-12-11T06:00:11.735490",
     "exception": false,
     "start_time": "2021-12-11T06:00:10.209175",
     "status": "completed"
    },
    "tags": []
   },
   "outputs": [],
   "source": [
    "df = pd.read_sql(\"select * from EBAY_TOP_BERLIN where record_time in (select distinct record_time from EBAY_TOP_BERLIN order by record_time desc limit 2)\", sqlite3.connect(\"UsedObjects.db\"))"
   ]
  },
  {
   "cell_type": "code",
   "execution_count": 5,
   "id": "popular-active",
   "metadata": {
    "execution": {
     "iopub.execute_input": "2021-12-11T06:00:11.801604Z",
     "iopub.status.busy": "2021-12-11T06:00:11.799175Z",
     "iopub.status.idle": "2021-12-11T06:00:11.831369Z",
     "shell.execute_reply": "2021-12-11T06:00:11.832583Z"
    },
    "papermill": {
     "duration": 0.076114,
     "end_time": "2021-12-11T06:00:11.833112",
     "exception": false,
     "start_time": "2021-12-11T06:00:11.756998",
     "status": "completed"
    },
    "tags": []
   },
   "outputs": [],
   "source": [
    "df_pivot = df.pivot_table(index=\"PRODUCT\", columns = \"RECORD_TIME\", values = \"LISTING_COUNT\")"
   ]
  },
  {
   "cell_type": "code",
   "execution_count": 6,
   "id": "union-huntington",
   "metadata": {
    "execution": {
     "iopub.execute_input": "2021-12-11T06:00:11.890801Z",
     "iopub.status.busy": "2021-12-11T06:00:11.888551Z",
     "iopub.status.idle": "2021-12-11T06:00:11.894373Z",
     "shell.execute_reply": "2021-12-11T06:00:11.895837Z"
    },
    "papermill": {
     "duration": 0.043486,
     "end_time": "2021-12-11T06:00:11.896301",
     "exception": false,
     "start_time": "2021-12-11T06:00:11.852815",
     "status": "completed"
    },
    "tags": []
   },
   "outputs": [],
   "source": [
    "df_pivot.columns = [\"stamp_1\", \"stamp_2\"]\n",
    "df_pivot_diff = df_pivot.diff(axis=1)"
   ]
  },
  {
   "cell_type": "code",
   "execution_count": 7,
   "id": "fifth-motion",
   "metadata": {
    "execution": {
     "iopub.execute_input": "2021-12-11T06:00:11.954098Z",
     "iopub.status.busy": "2021-12-11T06:00:11.951494Z",
     "iopub.status.idle": "2021-12-11T06:00:13.876221Z",
     "shell.execute_reply": "2021-12-11T06:00:13.878936Z"
    },
    "papermill": {
     "duration": 1.963256,
     "end_time": "2021-12-11T06:00:13.879684",
     "exception": false,
     "start_time": "2021-12-11T06:00:11.916428",
     "status": "completed"
    },
    "tags": []
   },
   "outputs": [
    {
     "data": {
      "text/plain": [
       "<AxesSubplot:ylabel='PRODUCT'>"
      ]
     },
     "execution_count": 7,
     "metadata": {},
     "output_type": "execute_result"
    },
    {
     "data": {
      "image/png": "[encoded data removed]",
      "text/plain": [
       "<Figure size 432x288 with 1 Axes>"
      ]
     },
     "metadata": {
      "needs_background": "light"
     },
     "output_type": "display_data"
    }
   ],
   "source": [
    "df_pivot_diff.sort_values(\"stamp_2\", ascending = False)[\"stamp_2\"].head(10).plot.barh()"
   ]
  },
  {
   "cell_type": "code",
   "execution_count": null,
   "id": "extra-executive",
   "metadata": {
    "papermill": {
     "duration": 0.035706,
     "end_time": "2021-12-11T06:00:13.949445",
     "exception": false,
     "start_time": "2021-12-11T06:00:13.913739",
     "status": "completed"
    },
    "tags": []
   },
   "outputs": [],
   "source": []
  }
 ],
 "metadata": {
  "kernelspec": {
   "display_name": "Python 3",
   "language": "python",
   "name": "python3"
  },
  "language_info": {
   "codemirror_mode": {
    "name": "ipython",
    "version": 3
   },
   "file_extension": ".py",
   "mimetype": "text/x-python",
   "name": "python",
   "nbconvert_exporter": "python",
   "pygments_lexer": "ipython3",
   "version": "3.9.5"
  },
  "papermill": {
   "default_parameters": {},
   "duration": 9.945415,
   "end_time": "2021-12-11T06:00:15.171742",
   "environment_variables": {},
   "exception": null,
   "input_path": "eBay_Overview.ipynb",
   "output_path": "eBay_Overview.ipynb",
   "parameters": {},
   "start_time": "2021-12-11T06:00:05.226327",
   "version": "2.3.3"
  }
 },
 "nbformat": 4,
 "nbformat_minor": 5
}