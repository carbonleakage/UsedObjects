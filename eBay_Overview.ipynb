{
 "cells": [
  {
   "cell_type": "code",
   "execution_count": 1,
   "id": "reverse-picking",
   "metadata": {
    "execution": {
     "iopub.execute_input": "2021-12-14T09:00:07.928506Z",
     "iopub.status.busy": "2021-12-14T09:00:07.926324Z",
     "iopub.status.idle": "2021-12-14T09:00:08.880293Z",
     "shell.execute_reply": "2021-12-14T09:00:08.878513Z"
    },
    "papermill": {
     "duration": 1.001851,
     "end_time": "2021-12-14T09:00:08.880860",
     "exception": false,
     "start_time": "2021-12-14T09:00:07.879009",
     "status": "completed"
    },
    "tags": []
   },
   "outputs": [],
   "source": [
    "import pandas as pd\n",
    "import sqlite3"
   ]
  },
  {
   "cell_type": "code",
   "execution_count": 2,
   "id": "innovative-syndrome",
   "metadata": {
    "execution": {
     "iopub.execute_input": "2021-12-14T09:00:08.942552Z",
     "iopub.status.busy": "2021-12-14T09:00:08.939514Z",
     "iopub.status.idle": "2021-12-14T09:00:09.998619Z",
     "shell.execute_reply": "2021-12-14T09:00:10.001043Z"
    },
    "papermill": {
     "duration": 1.094094,
     "end_time": "2021-12-14T09:00:10.001535",
     "exception": false,
     "start_time": "2021-12-14T09:00:08.907441",
     "status": "completed"
    },
    "tags": []
   },
   "outputs": [],
   "source": [
    "timestamps = pd.read_sql(\"select distinct record_time from EBAY_TOP_BERLIN order by record_time desc limit 2\", sqlite3.connect(\"UsedObjects.db\"))"
   ]
  },
  {
   "cell_type": "code",
   "execution_count": 3,
   "id": "periodic-identification",
   "metadata": {
    "execution": {
     "iopub.execute_input": "2021-12-14T09:00:10.072497Z",
     "iopub.status.busy": "2021-12-14T09:00:10.069406Z",
     "iopub.status.idle": "2021-12-14T09:00:10.094084Z",
     "shell.execute_reply": "2021-12-14T09:00:10.095579Z"
    },
    "papermill": {
     "duration": 0.074811,
     "end_time": "2021-12-14T09:00:10.096055",
     "exception": false,
     "start_time": "2021-12-14T09:00:10.021244",
     "status": "completed"
    },
    "tags": []
   },
   "outputs": [
    {
     "data": {
      "text/html": [
       "<div>\n",
       "<style scoped>\n",
       "    .dataframe tbody tr th:only-of-type {\n",
       "        vertical-align: middle;\n",
       "    }\n",
       "\n",
       "    .dataframe tbody tr th {\n",
       "        vertical-align: top;\n",
       "    }\n",
       "\n",
       "    .dataframe thead th {\n",
       "        text-align: right;\n",
       "    }\n",
       "</style>\n",
       "<table border=\"1\" class=\"dataframe\">\n",
       "  <thead>\n",
       "    <tr style=\"text-align: right;\">\n",
       "      <th></th>\n",
       "      <th>RECORD_TIME</th>\n",
       "    </tr>\n",
       "  </thead>\n",
       "  <tbody>\n",
       "    <tr>\n",
       "      <th>0</th>\n",
       "      <td>2021-12-14 10:00</td>\n",
       "    </tr>\n",
       "    <tr>\n",
       "      <th>1</th>\n",
       "      <td>2021-12-14 09:30</td>\n",
       "    </tr>\n",
       "  </tbody>\n",
       "</table>\n",
       "</div>"
      ],
      "text/plain": [
       "        RECORD_TIME\n",
       "0  2021-12-14 10:00\n",
       "1  2021-12-14 09:30"
      ]
     },
     "execution_count": 3,
     "metadata": {},
     "output_type": "execute_result"
    }
   ],
   "source": [
    "timestamps"
   ]
  },
  {
   "cell_type": "code",
   "execution_count": 4,
   "id": "alternate-victory",
   "metadata": {
    "execution": {
     "iopub.execute_input": "2021-12-14T09:00:10.147865Z",
     "iopub.status.busy": "2021-12-14T09:00:10.145830Z",
     "iopub.status.idle": "2021-12-14T09:00:11.677438Z",
     "shell.execute_reply": "2021-12-14T09:00:11.679015Z"
    },
    "papermill": {
     "duration": 1.562641,
     "end_time": "2021-12-14T09:00:11.679571",
     "exception": false,
     "start_time": "2021-12-14T09:00:10.116930",
     "status": "completed"
    },
    "tags": []
   },
   "outputs": [],
   "source": [
    "df = pd.read_sql(\"select * from EBAY_TOP_BERLIN where record_time in (select distinct record_time from EBAY_TOP_BERLIN order by record_time desc limit 2)\", sqlite3.connect(\"UsedObjects.db\"))"
   ]
  },
  {
   "cell_type": "code",
   "execution_count": 5,
   "id": "popular-active",
   "metadata": {
    "execution": {
     "iopub.execute_input": "2021-12-14T09:00:11.751055Z",
     "iopub.status.busy": "2021-12-14T09:00:11.748826Z",
     "iopub.status.idle": "2021-12-14T09:00:11.782009Z",
     "shell.execute_reply": "2021-12-14T09:00:11.783378Z"
    },
    "papermill": {
     "duration": 0.077085,
     "end_time": "2021-12-14T09:00:11.783862",
     "exception": false,
     "start_time": "2021-12-14T09:00:11.706777",
     "status": "completed"
    },
    "tags": []
   },
   "outputs": [],
   "source": [
    "df_pivot = df.pivot_table(index=\"PRODUCT\", columns = \"RECORD_TIME\", values = \"LISTING_COUNT\")"
   ]
  },
  {
   "cell_type": "code",
   "execution_count": 6,
   "id": "union-huntington",
   "metadata": {
    "execution": {
     "iopub.execute_input": "2021-12-14T09:00:11.841815Z",
     "iopub.status.busy": "2021-12-14T09:00:11.839598Z",
     "iopub.status.idle": "2021-12-14T09:00:11.844638Z",
     "shell.execute_reply": "2021-12-14T09:00:11.846511Z"
    },
    "papermill": {
     "duration": 0.04349,
     "end_time": "2021-12-14T09:00:11.846989",
     "exception": false,
     "start_time": "2021-12-14T09:00:11.803499",
     "status": "completed"
    },
    "tags": []
   },
   "outputs": [],
   "source": [
    "df_pivot.columns = [\"stamp_1\", \"stamp_2\"]\n",
    "df_pivot_diff = df_pivot.diff(axis=1)"
   ]
  },
  {
   "cell_type": "code",
   "execution_count": 7,
   "id": "fifth-motion",
   "metadata": {
    "execution": {
     "iopub.execute_input": "2021-12-14T09:00:11.904797Z",
     "iopub.status.busy": "2021-12-14T09:00:11.902294Z",
     "iopub.status.idle": "2021-12-14T09:00:13.951903Z",
     "shell.execute_reply": "2021-12-14T09:00:13.953543Z"
    },
    "papermill": {
     "duration": 2.086848,
     "end_time": "2021-12-14T09:00:13.954047",
     "exception": false,
     "start_time": "2021-12-14T09:00:11.867199",
     "status": "completed"
    },
    "tags": []
   },
   "outputs": [
    {
     "data": {
      "text/plain": [
       "<AxesSubplot:ylabel='PRODUCT'>"
      ]
     },
     "execution_count": 7,
     "metadata": {},
     "output_type": "execute_result"
    },
    {
     "data": {
      "image/png": "[encoded data removed]",
      "text/plain": [
       "<Figure size 432x288 with 1 Axes>"
      ]
     },
     "metadata": {
      "needs_background": "light"
     },
     "output_type": "display_data"
    }
   ],
   "source": [
    "df_pivot_diff.sort_values(\"stamp_2\", ascending = False)[\"stamp_2\"].head(10).plot.barh()"
   ]
  },
  {
   "cell_type": "code",
   "execution_count": null,
   "id": "extra-executive",
   "metadata": {
    "papermill": {
     "duration": 0.023877,
     "end_time": "2021-12-14T09:00:14.002307",
     "exception": false,
     "start_time": "2021-12-14T09:00:13.978430",
     "status": "completed"
    },
    "tags": []
   },
   "outputs": [],
   "source": []
  }
 ],
 "metadata": {
  "kernelspec": {
   "display_name": "Python 3",
   "language": "python",
   "name": "python3"
  },
  "language_info": {
   "codemirror_mode": {
    "name": "ipython",
    "version": 3
   },
   "file_extension": ".py",
   "mimetype": "text/x-python",
   "name": "python",
   "nbconvert_exporter": "python",
   "pygments_lexer": "ipython3",
   "version": "3.9.5"
  },
  "papermill": {
   "default_parameters": {},
   "duration": 9.492648,
   "end_time": "2021-12-14T09:00:14.646466",
   "environment_variables": {},
   "exception": null,
   "input_path": "eBay_Overview.ipynb",
   "output_path": "eBay_Overview.ipynb",
   "parameters": {},
   "start_time": "2021-12-14T09:00:05.153818",
   "version": "2.3.3"
  }
 },
 "nbformat": 4,
 "nbformat_minor": 5
}