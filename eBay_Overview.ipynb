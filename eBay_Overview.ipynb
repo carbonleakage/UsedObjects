{
 "cells": [
  {
   "cell_type": "code",
   "execution_count": 1,
   "id": "reverse-picking",
   "metadata": {
    "execution": {
     "iopub.execute_input": "2021-09-22T09:00:07.000966Z",
     "iopub.status.busy": "2021-09-22T09:00:06.999076Z",
     "iopub.status.idle": "2021-09-22T09:00:07.804670Z",
     "shell.execute_reply": "2021-09-22T09:00:07.805890Z"
    },
    "papermill": {
     "duration": 0.859486,
     "end_time": "2021-09-22T09:00:07.806512",
     "exception": false,
     "start_time": "2021-09-22T09:00:06.947026",
     "status": "completed"
    },
    "tags": []
   },
   "outputs": [],
   "source": [
    "import pandas as pd\n",
    "import sqlite3"
   ]
  },
  {
   "cell_type": "code",
   "execution_count": 2,
   "id": "innovative-syndrome",
   "metadata": {
    "execution": {
     "iopub.execute_input": "2021-09-22T09:00:07.856707Z",
     "iopub.status.busy": "2021-09-22T09:00:07.854775Z",
     "iopub.status.idle": "2021-09-22T09:00:08.210492Z",
     "shell.execute_reply": "2021-09-22T09:00:08.211752Z"
    },
    "papermill": {
     "duration": 0.385264,
     "end_time": "2021-09-22T09:00:08.212192",
     "exception": false,
     "start_time": "2021-09-22T09:00:07.826928",
     "status": "completed"
    },
    "tags": []
   },
   "outputs": [],
   "source": [
    "timestamps = pd.read_sql(\"select distinct record_time from EBAY_TOP_BERLIN order by record_time desc limit 2\", sqlite3.connect(\"UsedObjects.db\"))"
   ]
  },
  {
   "cell_type": "code",
   "execution_count": 3,
   "id": "periodic-identification",
   "metadata": {
    "execution": {
     "iopub.execute_input": "2021-09-22T09:00:08.277455Z",
     "iopub.status.busy": "2021-09-22T09:00:08.275370Z",
     "iopub.status.idle": "2021-09-22T09:00:08.295469Z",
     "shell.execute_reply": "2021-09-22T09:00:08.296674Z"
    },
    "papermill": {
     "duration": 0.065402,
     "end_time": "2021-09-22T09:00:08.297069",
     "exception": false,
     "start_time": "2021-09-22T09:00:08.231667",
     "status": "completed"
    },
    "tags": []
   },
   "outputs": [
    {
     "data": {
      "text/html": [
       "<div>\n",
       "<style scoped>\n",
       "    .dataframe tbody tr th:only-of-type {\n",
       "        vertical-align: middle;\n",
       "    }\n",
       "\n",
       "    .dataframe tbody tr th {\n",
       "        vertical-align: top;\n",
       "    }\n",
       "\n",
       "    .dataframe thead th {\n",
       "        text-align: right;\n",
       "    }\n",
       "</style>\n",
       "<table border=\"1\" class=\"dataframe\">\n",
       "  <thead>\n",
       "    <tr style=\"text-align: right;\">\n",
       "      <th></th>\n",
       "      <th>RECORD_TIME</th>\n",
       "    </tr>\n",
       "  </thead>\n",
       "  <tbody>\n",
       "    <tr>\n",
       "      <th>0</th>\n",
       "      <td>2021-09-22 11:00</td>\n",
       "    </tr>\n",
       "    <tr>\n",
       "      <th>1</th>\n",
       "      <td>2021-09-22 10:30</td>\n",
       "    </tr>\n",
       "  </tbody>\n",
       "</table>\n",
       "</div>"
      ],
      "text/plain": [
       "        RECORD_TIME\n",
       "0  2021-09-22 11:00\n",
       "1  2021-09-22 10:30"
      ]
     },
     "execution_count": 3,
     "metadata": {},
     "output_type": "execute_result"
    }
   ],
   "source": [
    "timestamps"
   ]
  },
  {
   "cell_type": "code",
   "execution_count": 4,
   "id": "alternate-victory",
   "metadata": {
    "execution": {
     "iopub.execute_input": "2021-09-22T09:00:08.348558Z",
     "iopub.status.busy": "2021-09-22T09:00:08.346339Z",
     "iopub.status.idle": "2021-09-22T09:00:08.852433Z",
     "shell.execute_reply": "2021-09-22T09:00:08.853707Z"
    },
    "papermill": {
     "duration": 0.536066,
     "end_time": "2021-09-22T09:00:08.854158",
     "exception": false,
     "start_time": "2021-09-22T09:00:08.318092",
     "status": "completed"
    },
    "tags": []
   },
   "outputs": [],
   "source": [
    "df = pd.read_sql(\"select * from EBAY_TOP_BERLIN where record_time in (select distinct record_time from EBAY_TOP_BERLIN order by record_time desc limit 2)\", sqlite3.connect(\"UsedObjects.db\"))"
   ]
  },
  {
   "cell_type": "code",
   "execution_count": 5,
   "id": "popular-active",
   "metadata": {
    "execution": {
     "iopub.execute_input": "2021-09-22T09:00:08.925265Z",
     "iopub.status.busy": "2021-09-22T09:00:08.918343Z",
     "iopub.status.idle": "2021-09-22T09:00:08.940541Z",
     "shell.execute_reply": "2021-09-22T09:00:08.941740Z"
    },
    "papermill": {
     "duration": 0.06658,
     "end_time": "2021-09-22T09:00:08.942133",
     "exception": false,
     "start_time": "2021-09-22T09:00:08.875553",
     "status": "completed"
    },
    "tags": []
   },
   "outputs": [],
   "source": [
    "df_pivot = df.pivot_table(index=\"PRODUCT\", columns = \"RECORD_TIME\", values = \"LISTING_COUNT\")"
   ]
  },
  {
   "cell_type": "code",
   "execution_count": 6,
   "id": "union-huntington",
   "metadata": {
    "execution": {
     "iopub.execute_input": "2021-09-22T09:00:09.001091Z",
     "iopub.status.busy": "2021-09-22T09:00:08.998668Z",
     "iopub.status.idle": "2021-09-22T09:00:09.004769Z",
     "shell.execute_reply": "2021-09-22T09:00:09.006113Z"
    },
    "papermill": {
     "duration": 0.042203,
     "end_time": "2021-09-22T09:00:09.006545",
     "exception": false,
     "start_time": "2021-09-22T09:00:08.964342",
     "status": "completed"
    },
    "tags": []
   },
   "outputs": [],
   "source": [
    "df_pivot.columns = [\"stamp_1\", \"stamp_2\"]\n",
    "df_pivot_diff = df_pivot.diff(axis=1)"
   ]
  },
  {
   "cell_type": "code",
   "execution_count": 7,
   "id": "fifth-motion",
   "metadata": {
    "execution": {
     "iopub.execute_input": "2021-09-22T09:00:09.061466Z",
     "iopub.status.busy": "2021-09-22T09:00:09.058775Z",
     "iopub.status.idle": "2021-09-22T09:00:10.575807Z",
     "shell.execute_reply": "2021-09-22T09:00:10.577082Z"
    },
    "papermill": {
     "duration": 1.550338,
     "end_time": "2021-09-22T09:00:10.577496",
     "exception": false,
     "start_time": "2021-09-22T09:00:09.027158",
     "status": "completed"
    },
    "tags": []
   },
   "outputs": [
    {
     "data": {
      "text/plain": [
       "<AxesSubplot:ylabel='PRODUCT'>"
      ]
     },
     "execution_count": 7,
     "metadata": {},
     "output_type": "execute_result"
    },
    {
     "data": {
      "image/png": "[encoded data removed]",
      "text/plain": [
       "<Figure size 432x288 with 1 Axes>"
      ]
     },
     "metadata": {
      "needs_background": "light"
     },
     "output_type": "display_data"
    }
   ],
   "source": [
    "df_pivot_diff.sort_values(\"stamp_2\", ascending = False)[\"stamp_2\"].head(10).plot.barh()"
   ]
  },
  {
   "cell_type": "code",
   "execution_count": null,
   "id": "extra-executive",
   "metadata": {
    "papermill": {
     "duration": 0.022261,
     "end_time": "2021-09-22T09:00:10.624504",
     "exception": false,
     "start_time": "2021-09-22T09:00:10.602243",
     "status": "completed"
    },
    "tags": []
   },
   "outputs": [],
   "source": []
  }
 ],
 "metadata": {
  "kernelspec": {
   "display_name": "Python 3",
   "language": "python",
   "name": "python3"
  },
  "language_info": {
   "codemirror_mode": {
    "name": "ipython",
    "version": 3
   },
   "file_extension": ".py",
   "mimetype": "text/x-python",
   "name": "python",
   "nbconvert_exporter": "python",
   "pygments_lexer": "ipython3",
   "version": "3.9.5"
  },
  "papermill": {
   "default_parameters": {},
   "duration": 6.7161,
   "end_time": "2021-09-22T09:00:11.268419",
   "environment_variables": {},
   "exception": null,
   "input_path": "eBay_Overview.ipynb",
   "output_path": "eBay_Overview.ipynb",
   "parameters": {},
   "start_time": "2021-09-22T09:00:04.552319",
   "version": "2.3.3"
  }
 },
 "nbformat": 4,
 "nbformat_minor": 5
}