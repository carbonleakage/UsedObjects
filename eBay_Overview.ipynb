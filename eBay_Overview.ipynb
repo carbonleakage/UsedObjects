{
 "cells": [
  {
   "cell_type": "code",
   "execution_count": 1,
   "id": "reverse-picking",
   "metadata": {
    "execution": {
     "iopub.execute_input": "2021-08-16T23:00:06.859819Z",
     "iopub.status.busy": "2021-08-16T23:00:06.857774Z",
     "iopub.status.idle": "2021-08-16T23:00:07.672714Z",
     "shell.execute_reply": "2021-08-16T23:00:07.674101Z"
    },
    "papermill": {
     "duration": 0.868663,
     "end_time": "2021-08-16T23:00:07.674771",
     "exception": false,
     "start_time": "2021-08-16T23:00:06.806108",
     "status": "completed"
    },
    "tags": []
   },
   "outputs": [],
   "source": [
    "import pandas as pd\n",
    "import sqlite3"
   ]
  },
  {
   "cell_type": "code",
   "execution_count": 2,
   "id": "innovative-syndrome",
   "metadata": {
    "execution": {
     "iopub.execute_input": "2021-08-16T23:00:07.726702Z",
     "iopub.status.busy": "2021-08-16T23:00:07.724548Z",
     "iopub.status.idle": "2021-08-16T23:00:07.787922Z",
     "shell.execute_reply": "2021-08-16T23:00:07.789284Z"
    },
    "papermill": {
     "duration": 0.093801,
     "end_time": "2021-08-16T23:00:07.789727",
     "exception": false,
     "start_time": "2021-08-16T23:00:07.695926",
     "status": "completed"
    },
    "tags": []
   },
   "outputs": [],
   "source": [
    "timestamps = pd.read_sql(\"select distinct record_time from EBAY_TOP_BERLIN order by record_time desc limit 2\", sqlite3.connect(\"UsedObjects.db\"))"
   ]
  },
  {
   "cell_type": "code",
   "execution_count": 3,
   "id": "periodic-identification",
   "metadata": {
    "execution": {
     "iopub.execute_input": "2021-08-16T23:00:07.856378Z",
     "iopub.status.busy": "2021-08-16T23:00:07.854328Z",
     "iopub.status.idle": "2021-08-16T23:00:07.874775Z",
     "shell.execute_reply": "2021-08-16T23:00:07.875979Z"
    },
    "papermill": {
     "duration": 0.067116,
     "end_time": "2021-08-16T23:00:07.876412",
     "exception": false,
     "start_time": "2021-08-16T23:00:07.809296",
     "status": "completed"
    },
    "tags": []
   },
   "outputs": [
    {
     "data": {
      "text/html": [
       "<div>\n",
       "<style scoped>\n",
       "    .dataframe tbody tr th:only-of-type {\n",
       "        vertical-align: middle;\n",
       "    }\n",
       "\n",
       "    .dataframe tbody tr th {\n",
       "        vertical-align: top;\n",
       "    }\n",
       "\n",
       "    .dataframe thead th {\n",
       "        text-align: right;\n",
       "    }\n",
       "</style>\n",
       "<table border=\"1\" class=\"dataframe\">\n",
       "  <thead>\n",
       "    <tr style=\"text-align: right;\">\n",
       "      <th></th>\n",
       "      <th>RECORD_TIME</th>\n",
       "    </tr>\n",
       "  </thead>\n",
       "  <tbody>\n",
       "    <tr>\n",
       "      <th>0</th>\n",
       "      <td>2021-08-17 01:00</td>\n",
       "    </tr>\n",
       "    <tr>\n",
       "      <th>1</th>\n",
       "      <td>2021-08-17 00:30</td>\n",
       "    </tr>\n",
       "  </tbody>\n",
       "</table>\n",
       "</div>"
      ],
      "text/plain": [
       "        RECORD_TIME\n",
       "0  2021-08-17 01:00\n",
       "1  2021-08-17 00:30"
      ]
     },
     "execution_count": 3,
     "metadata": {},
     "output_type": "execute_result"
    }
   ],
   "source": [
    "timestamps"
   ]
  },
  {
   "cell_type": "code",
   "execution_count": 4,
   "id": "alternate-victory",
   "metadata": {
    "execution": {
     "iopub.execute_input": "2021-08-16T23:00:07.930080Z",
     "iopub.status.busy": "2021-08-16T23:00:07.927721Z",
     "iopub.status.idle": "2021-08-16T23:00:08.025753Z",
     "shell.execute_reply": "2021-08-16T23:00:08.027119Z"
    },
    "papermill": {
     "duration": 0.128478,
     "end_time": "2021-08-16T23:00:08.027535",
     "exception": false,
     "start_time": "2021-08-16T23:00:07.899057",
     "status": "completed"
    },
    "tags": []
   },
   "outputs": [],
   "source": [
    "df = pd.read_sql(\"select * from EBAY_TOP_BERLIN where record_time in (select distinct record_time from EBAY_TOP_BERLIN order by record_time desc limit 2)\", sqlite3.connect(\"UsedObjects.db\"))"
   ]
  },
  {
   "cell_type": "code",
   "execution_count": 5,
   "id": "popular-active",
   "metadata": {
    "execution": {
     "iopub.execute_input": "2021-08-16T23:00:08.097185Z",
     "iopub.status.busy": "2021-08-16T23:00:08.090397Z",
     "iopub.status.idle": "2021-08-16T23:00:08.112727Z",
     "shell.execute_reply": "2021-08-16T23:00:08.114112Z"
    },
    "papermill": {
     "duration": 0.06649,
     "end_time": "2021-08-16T23:00:08.114531",
     "exception": false,
     "start_time": "2021-08-16T23:00:08.048041",
     "status": "completed"
    },
    "tags": []
   },
   "outputs": [],
   "source": [
    "df_pivot = df.pivot_table(index=\"PRODUCT\", columns = \"RECORD_TIME\", values = \"LISTING_COUNT\")"
   ]
  },
  {
   "cell_type": "code",
   "execution_count": 6,
   "id": "union-huntington",
   "metadata": {
    "execution": {
     "iopub.execute_input": "2021-08-16T23:00:08.173641Z",
     "iopub.status.busy": "2021-08-16T23:00:08.171144Z",
     "iopub.status.idle": "2021-08-16T23:00:08.177055Z",
     "shell.execute_reply": "2021-08-16T23:00:08.178413Z"
    },
    "papermill": {
     "duration": 0.04235,
     "end_time": "2021-08-16T23:00:08.178835",
     "exception": false,
     "start_time": "2021-08-16T23:00:08.136485",
     "status": "completed"
    },
    "tags": []
   },
   "outputs": [],
   "source": [
    "df_pivot.columns = [\"stamp_1\", \"stamp_2\"]\n",
    "df_pivot_diff = df_pivot.diff(axis=1)"
   ]
  },
  {
   "cell_type": "code",
   "execution_count": 7,
   "id": "fifth-motion",
   "metadata": {
    "execution": {
     "iopub.execute_input": "2021-08-16T23:00:08.234901Z",
     "iopub.status.busy": "2021-08-16T23:00:08.232225Z",
     "iopub.status.idle": "2021-08-16T23:00:09.708704Z",
     "shell.execute_reply": "2021-08-16T23:00:09.710203Z"
    },
    "papermill": {
     "duration": 1.510805,
     "end_time": "2021-08-16T23:00:09.710688",
     "exception": false,
     "start_time": "2021-08-16T23:00:08.199883",
     "status": "completed"
    },
    "tags": []
   },
   "outputs": [
    {
     "data": {
      "text/plain": [
       "<AxesSubplot:ylabel='PRODUCT'>"
      ]
     },
     "execution_count": 7,
     "metadata": {},
     "output_type": "execute_result"
    },
    {
     "data": {
      "image/png": "[encoded data removed]",
      "text/plain": [
       "<Figure size 432x288 with 1 Axes>"
      ]
     },
     "metadata": {
      "needs_background": "light"
     },
     "output_type": "display_data"
    }
   ],
   "source": [
    "df_pivot_diff.sort_values(\"stamp_2\", ascending = False)[\"stamp_2\"].head(10).plot.barh()"
   ]
  },
  {
   "cell_type": "code",
   "execution_count": null,
   "id": "extra-executive",
   "metadata": {
    "papermill": {
     "duration": 0.021977,
     "end_time": "2021-08-16T23:00:09.759036",
     "exception": false,
     "start_time": "2021-08-16T23:00:09.737059",
     "status": "completed"
    },
    "tags": []
   },
   "outputs": [],
   "source": []
  }
 ],
 "metadata": {
  "kernelspec": {
   "display_name": "Python 3",
   "language": "python",
   "name": "python3"
  },
  "language_info": {
   "codemirror_mode": {
    "name": "ipython",
    "version": 3
   },
   "file_extension": ".py",
   "mimetype": "text/x-python",
   "name": "python",
   "nbconvert_exporter": "python",
   "pygments_lexer": "ipython3",
   "version": "3.9.5"
  },
  "papermill": {
   "default_parameters": {},
   "duration": 6.836133,
   "end_time": "2021-08-16T23:00:11.202842",
   "environment_variables": {},
   "exception": null,
   "input_path": "eBay_Overview.ipynb",
   "output_path": "eBay_Overview.ipynb",
   "parameters": {},
   "start_time": "2021-08-16T23:00:04.366709",
   "version": "2.3.3"
  }
 },
 "nbformat": 4,
 "nbformat_minor": 5
}