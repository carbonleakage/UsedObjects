{
 "cells": [
  {
   "cell_type": "code",
   "execution_count": 1,
   "id": "reverse-picking",
   "metadata": {
    "execution": {
     "iopub.execute_input": "2021-09-17T20:30:06.636332Z",
     "iopub.status.busy": "2021-09-17T20:30:06.634317Z",
     "iopub.status.idle": "2021-09-17T20:30:07.435596Z",
     "shell.execute_reply": "2021-09-17T20:30:07.436867Z"
    },
    "papermill": {
     "duration": 0.851375,
     "end_time": "2021-09-17T20:30:07.437487",
     "exception": false,
     "start_time": "2021-09-17T20:30:06.586112",
     "status": "completed"
    },
    "tags": []
   },
   "outputs": [],
   "source": [
    "import pandas as pd\n",
    "import sqlite3"
   ]
  },
  {
   "cell_type": "code",
   "execution_count": 2,
   "id": "innovative-syndrome",
   "metadata": {
    "execution": {
     "iopub.execute_input": "2021-09-17T20:30:07.488591Z",
     "iopub.status.busy": "2021-09-17T20:30:07.486634Z",
     "iopub.status.idle": "2021-09-17T20:30:07.801158Z",
     "shell.execute_reply": "2021-09-17T20:30:07.802351Z"
    },
    "papermill": {
     "duration": 0.343918,
     "end_time": "2021-09-17T20:30:07.802745",
     "exception": false,
     "start_time": "2021-09-17T20:30:07.458827",
     "status": "completed"
    },
    "tags": []
   },
   "outputs": [],
   "source": [
    "timestamps = pd.read_sql(\"select distinct record_time from EBAY_TOP_BERLIN order by record_time desc limit 2\", sqlite3.connect(\"UsedObjects.db\"))"
   ]
  },
  {
   "cell_type": "code",
   "execution_count": 3,
   "id": "periodic-identification",
   "metadata": {
    "execution": {
     "iopub.execute_input": "2021-09-17T20:30:07.873115Z",
     "iopub.status.busy": "2021-09-17T20:30:07.868381Z",
     "iopub.status.idle": "2021-09-17T20:30:07.890256Z",
     "shell.execute_reply": "2021-09-17T20:30:07.891620Z"
    },
    "papermill": {
     "duration": 0.06759,
     "end_time": "2021-09-17T20:30:07.892050",
     "exception": false,
     "start_time": "2021-09-17T20:30:07.824460",
     "status": "completed"
    },
    "tags": []
   },
   "outputs": [
    {
     "data": {
      "text/html": [
       "<div>\n",
       "<style scoped>\n",
       "    .dataframe tbody tr th:only-of-type {\n",
       "        vertical-align: middle;\n",
       "    }\n",
       "\n",
       "    .dataframe tbody tr th {\n",
       "        vertical-align: top;\n",
       "    }\n",
       "\n",
       "    .dataframe thead th {\n",
       "        text-align: right;\n",
       "    }\n",
       "</style>\n",
       "<table border=\"1\" class=\"dataframe\">\n",
       "  <thead>\n",
       "    <tr style=\"text-align: right;\">\n",
       "      <th></th>\n",
       "      <th>RECORD_TIME</th>\n",
       "    </tr>\n",
       "  </thead>\n",
       "  <tbody>\n",
       "    <tr>\n",
       "      <th>0</th>\n",
       "      <td>2021-09-17 22:30</td>\n",
       "    </tr>\n",
       "    <tr>\n",
       "      <th>1</th>\n",
       "      <td>2021-09-17 22:00</td>\n",
       "    </tr>\n",
       "  </tbody>\n",
       "</table>\n",
       "</div>"
      ],
      "text/plain": [
       "        RECORD_TIME\n",
       "0  2021-09-17 22:30\n",
       "1  2021-09-17 22:00"
      ]
     },
     "execution_count": 3,
     "metadata": {},
     "output_type": "execute_result"
    }
   ],
   "source": [
    "timestamps"
   ]
  },
  {
   "cell_type": "code",
   "execution_count": 4,
   "id": "alternate-victory",
   "metadata": {
    "execution": {
     "iopub.execute_input": "2021-09-17T20:30:07.942322Z",
     "iopub.status.busy": "2021-09-17T20:30:07.940495Z",
     "iopub.status.idle": "2021-09-17T20:30:08.400170Z",
     "shell.execute_reply": "2021-09-17T20:30:08.401539Z"
    },
    "papermill": {
     "duration": 0.489675,
     "end_time": "2021-09-17T20:30:08.401982",
     "exception": false,
     "start_time": "2021-09-17T20:30:07.912307",
     "status": "completed"
    },
    "tags": []
   },
   "outputs": [],
   "source": [
    "df = pd.read_sql(\"select * from EBAY_TOP_BERLIN where record_time in (select distinct record_time from EBAY_TOP_BERLIN order by record_time desc limit 2)\", sqlite3.connect(\"UsedObjects.db\"))"
   ]
  },
  {
   "cell_type": "code",
   "execution_count": 5,
   "id": "popular-active",
   "metadata": {
    "execution": {
     "iopub.execute_input": "2021-09-17T20:30:08.486656Z",
     "iopub.status.busy": "2021-09-17T20:30:08.474508Z",
     "iopub.status.idle": "2021-09-17T20:30:08.503033Z",
     "shell.execute_reply": "2021-09-17T20:30:08.504337Z"
    },
    "papermill": {
     "duration": 0.073652,
     "end_time": "2021-09-17T20:30:08.504758",
     "exception": false,
     "start_time": "2021-09-17T20:30:08.431106",
     "status": "completed"
    },
    "tags": []
   },
   "outputs": [],
   "source": [
    "df_pivot = df.pivot_table(index=\"PRODUCT\", columns = \"RECORD_TIME\", values = \"LISTING_COUNT\")"
   ]
  },
  {
   "cell_type": "code",
   "execution_count": 6,
   "id": "union-huntington",
   "metadata": {
    "execution": {
     "iopub.execute_input": "2021-09-17T20:30:08.559864Z",
     "iopub.status.busy": "2021-09-17T20:30:08.557766Z",
     "iopub.status.idle": "2021-09-17T20:30:08.563234Z",
     "shell.execute_reply": "2021-09-17T20:30:08.564554Z"
    },
    "papermill": {
     "duration": 0.040145,
     "end_time": "2021-09-17T20:30:08.564976",
     "exception": false,
     "start_time": "2021-09-17T20:30:08.524831",
     "status": "completed"
    },
    "tags": []
   },
   "outputs": [],
   "source": [
    "df_pivot.columns = [\"stamp_1\", \"stamp_2\"]\n",
    "df_pivot_diff = df_pivot.diff(axis=1)"
   ]
  },
  {
   "cell_type": "code",
   "execution_count": 7,
   "id": "fifth-motion",
   "metadata": {
    "execution": {
     "iopub.execute_input": "2021-09-17T20:30:08.620155Z",
     "iopub.status.busy": "2021-09-17T20:30:08.617568Z",
     "iopub.status.idle": "2021-09-17T20:30:10.092818Z",
     "shell.execute_reply": "2021-09-17T20:30:10.094109Z"
    },
    "papermill": {
     "duration": 1.508355,
     "end_time": "2021-09-17T20:30:10.094529",
     "exception": false,
     "start_time": "2021-09-17T20:30:08.586174",
     "status": "completed"
    },
    "tags": []
   },
   "outputs": [
    {
     "data": {
      "text/plain": [
       "<AxesSubplot:ylabel='PRODUCT'>"
      ]
     },
     "execution_count": 7,
     "metadata": {},
     "output_type": "execute_result"
    },
    {
     "data": {
      "image/png": "[encoded data removed]",
      "text/plain": [
       "<Figure size 432x288 with 1 Axes>"
      ]
     },
     "metadata": {
      "needs_background": "light"
     },
     "output_type": "display_data"
    }
   ],
   "source": [
    "df_pivot_diff.sort_values(\"stamp_2\", ascending = False)[\"stamp_2\"].head(10).plot.barh()"
   ]
  },
  {
   "cell_type": "code",
   "execution_count": null,
   "id": "extra-executive",
   "metadata": {
    "papermill": {
     "duration": 0.022086,
     "end_time": "2021-09-17T20:30:10.139867",
     "exception": false,
     "start_time": "2021-09-17T20:30:10.117781",
     "status": "completed"
    },
    "tags": []
   },
   "outputs": [],
   "source": []
  }
 ],
 "metadata": {
  "kernelspec": {
   "display_name": "Python 3",
   "language": "python",
   "name": "python3"
  },
  "language_info": {
   "codemirror_mode": {
    "name": "ipython",
    "version": 3
   },
   "file_extension": ".py",
   "mimetype": "text/x-python",
   "name": "python",
   "nbconvert_exporter": "python",
   "pygments_lexer": "ipython3",
   "version": "3.9.5"
  },
  "papermill": {
   "default_parameters": {},
   "duration": 6.594268,
   "end_time": "2021-09-17T20:30:10.780596",
   "environment_variables": {},
   "exception": null,
   "input_path": "eBay_Overview.ipynb",
   "output_path": "eBay_Overview.ipynb",
   "parameters": {},
   "start_time": "2021-09-17T20:30:04.186328",
   "version": "2.3.3"
  }
 },
 "nbformat": 4,
 "nbformat_minor": 5
}