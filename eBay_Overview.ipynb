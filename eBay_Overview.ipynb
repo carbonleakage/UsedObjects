{
 "cells": [
  {
   "cell_type": "code",
   "execution_count": 1,
   "id": "reverse-picking",
   "metadata": {
    "execution": {
     "iopub.execute_input": "2021-11-10T03:30:07.619305Z",
     "iopub.status.busy": "2021-11-10T03:30:07.617389Z",
     "iopub.status.idle": "2021-11-10T03:30:08.577197Z",
     "shell.execute_reply": "2021-11-10T03:30:08.579036Z"
    },
    "papermill": {
     "duration": 1.005998,
     "end_time": "2021-11-10T03:30:08.579779",
     "exception": false,
     "start_time": "2021-11-10T03:30:07.573781",
     "status": "completed"
    },
    "tags": []
   },
   "outputs": [],
   "source": [
    "import pandas as pd\n",
    "import sqlite3"
   ]
  },
  {
   "cell_type": "code",
   "execution_count": 2,
   "id": "innovative-syndrome",
   "metadata": {
    "execution": {
     "iopub.execute_input": "2021-11-10T03:30:08.643114Z",
     "iopub.status.busy": "2021-11-10T03:30:08.640637Z",
     "iopub.status.idle": "2021-11-10T03:30:09.428319Z",
     "shell.execute_reply": "2021-11-10T03:30:09.429699Z"
    },
    "papermill": {
     "duration": 0.822,
     "end_time": "2021-11-10T03:30:09.430162",
     "exception": false,
     "start_time": "2021-11-10T03:30:08.608162",
     "status": "completed"
    },
    "tags": []
   },
   "outputs": [],
   "source": [
    "timestamps = pd.read_sql(\"select distinct record_time from EBAY_TOP_BERLIN order by record_time desc limit 2\", sqlite3.connect(\"UsedObjects.db\"))"
   ]
  },
  {
   "cell_type": "code",
   "execution_count": 3,
   "id": "periodic-identification",
   "metadata": {
    "execution": {
     "iopub.execute_input": "2021-11-10T03:30:09.501648Z",
     "iopub.status.busy": "2021-11-10T03:30:09.494462Z",
     "iopub.status.idle": "2021-11-10T03:30:09.519335Z",
     "shell.execute_reply": "2021-11-10T03:30:09.520794Z"
    },
    "papermill": {
     "duration": 0.071947,
     "end_time": "2021-11-10T03:30:09.521284",
     "exception": false,
     "start_time": "2021-11-10T03:30:09.449337",
     "status": "completed"
    },
    "tags": []
   },
   "outputs": [
    {
     "data": {
      "text/html": [
       "<div>\n",
       "<style scoped>\n",
       "    .dataframe tbody tr th:only-of-type {\n",
       "        vertical-align: middle;\n",
       "    }\n",
       "\n",
       "    .dataframe tbody tr th {\n",
       "        vertical-align: top;\n",
       "    }\n",
       "\n",
       "    .dataframe thead th {\n",
       "        text-align: right;\n",
       "    }\n",
       "</style>\n",
       "<table border=\"1\" class=\"dataframe\">\n",
       "  <thead>\n",
       "    <tr style=\"text-align: right;\">\n",
       "      <th></th>\n",
       "      <th>RECORD_TIME</th>\n",
       "    </tr>\n",
       "  </thead>\n",
       "  <tbody>\n",
       "    <tr>\n",
       "      <th>0</th>\n",
       "      <td>2021-11-10 04:30</td>\n",
       "    </tr>\n",
       "    <tr>\n",
       "      <th>1</th>\n",
       "      <td>2021-11-10 04:00</td>\n",
       "    </tr>\n",
       "  </tbody>\n",
       "</table>\n",
       "</div>"
      ],
      "text/plain": [
       "        RECORD_TIME\n",
       "0  2021-11-10 04:30\n",
       "1  2021-11-10 04:00"
      ]
     },
     "execution_count": 3,
     "metadata": {},
     "output_type": "execute_result"
    }
   ],
   "source": [
    "timestamps"
   ]
  },
  {
   "cell_type": "code",
   "execution_count": 4,
   "id": "alternate-victory",
   "metadata": {
    "execution": {
     "iopub.execute_input": "2021-11-10T03:30:09.576173Z",
     "iopub.status.busy": "2021-11-10T03:30:09.573864Z",
     "iopub.status.idle": "2021-11-10T03:30:10.714931Z",
     "shell.execute_reply": "2021-11-10T03:30:10.717274Z"
    },
    "papermill": {
     "duration": 1.175904,
     "end_time": "2021-11-10T03:30:10.717768",
     "exception": false,
     "start_time": "2021-11-10T03:30:09.541864",
     "status": "completed"
    },
    "tags": []
   },
   "outputs": [],
   "source": [
    "df = pd.read_sql(\"select * from EBAY_TOP_BERLIN where record_time in (select distinct record_time from EBAY_TOP_BERLIN order by record_time desc limit 2)\", sqlite3.connect(\"UsedObjects.db\"))"
   ]
  },
  {
   "cell_type": "code",
   "execution_count": 5,
   "id": "popular-active",
   "metadata": {
    "execution": {
     "iopub.execute_input": "2021-11-10T03:30:10.798597Z",
     "iopub.status.busy": "2021-11-10T03:30:10.782469Z",
     "iopub.status.idle": "2021-11-10T03:30:10.818972Z",
     "shell.execute_reply": "2021-11-10T03:30:10.817174Z"
    },
    "papermill": {
     "duration": 0.080198,
     "end_time": "2021-11-10T03:30:10.819399",
     "exception": false,
     "start_time": "2021-11-10T03:30:10.739201",
     "status": "completed"
    },
    "tags": []
   },
   "outputs": [],
   "source": [
    "df_pivot = df.pivot_table(index=\"PRODUCT\", columns = \"RECORD_TIME\", values = \"LISTING_COUNT\")"
   ]
  },
  {
   "cell_type": "code",
   "execution_count": 6,
   "id": "union-huntington",
   "metadata": {
    "execution": {
     "iopub.execute_input": "2021-11-10T03:30:10.881707Z",
     "iopub.status.busy": "2021-11-10T03:30:10.879457Z",
     "iopub.status.idle": "2021-11-10T03:30:10.884747Z",
     "shell.execute_reply": "2021-11-10T03:30:10.886156Z"
    },
    "papermill": {
     "duration": 0.044593,
     "end_time": "2021-11-10T03:30:10.886630",
     "exception": false,
     "start_time": "2021-11-10T03:30:10.842037",
     "status": "completed"
    },
    "tags": []
   },
   "outputs": [],
   "source": [
    "df_pivot.columns = [\"stamp_1\", \"stamp_2\"]\n",
    "df_pivot_diff = df_pivot.diff(axis=1)"
   ]
  },
  {
   "cell_type": "code",
   "execution_count": 7,
   "id": "fifth-motion",
   "metadata": {
    "execution": {
     "iopub.execute_input": "2021-11-10T03:30:10.951420Z",
     "iopub.status.busy": "2021-11-10T03:30:10.939735Z",
     "iopub.status.idle": "2021-11-10T03:30:12.679699Z",
     "shell.execute_reply": "2021-11-10T03:30:12.676417Z"
    },
    "papermill": {
     "duration": 1.774025,
     "end_time": "2021-11-10T03:30:12.680465",
     "exception": false,
     "start_time": "2021-11-10T03:30:10.906440",
     "status": "completed"
    },
    "tags": []
   },
   "outputs": [
    {
     "data": {
      "text/plain": [
       "<AxesSubplot:ylabel='PRODUCT'>"
      ]
     },
     "execution_count": 7,
     "metadata": {},
     "output_type": "execute_result"
    },
    {
     "data": {
      "image/png": "[encoded data removed]",
      "text/plain": [
       "<Figure size 432x288 with 1 Axes>"
      ]
     },
     "metadata": {
      "needs_background": "light"
     },
     "output_type": "display_data"
    }
   ],
   "source": [
    "df_pivot_diff.sort_values(\"stamp_2\", ascending = False)[\"stamp_2\"].head(10).plot.barh()"
   ]
  },
  {
   "cell_type": "code",
   "execution_count": null,
   "id": "extra-executive",
   "metadata": {
    "papermill": {
     "duration": 0.033615,
     "end_time": "2021-11-10T03:30:12.750867",
     "exception": false,
     "start_time": "2021-11-10T03:30:12.717252",
     "status": "completed"
    },
    "tags": []
   },
   "outputs": [],
   "source": []
  }
 ],
 "metadata": {
  "kernelspec": {
   "display_name": "Python 3",
   "language": "python",
   "name": "python3"
  },
  "language_info": {
   "codemirror_mode": {
    "name": "ipython",
    "version": 3
   },
   "file_extension": ".py",
   "mimetype": "text/x-python",
   "name": "python",
   "nbconvert_exporter": "python",
   "pygments_lexer": "ipython3",
   "version": "3.9.5"
  },
  "papermill": {
   "default_parameters": {},
   "duration": 8.798858,
   "end_time": "2021-11-10T03:30:13.622719",
   "environment_variables": {},
   "exception": null,
   "input_path": "eBay_Overview.ipynb",
   "output_path": "eBay_Overview.ipynb",
   "parameters": {},
   "start_time": "2021-11-10T03:30:04.823861",
   "version": "2.3.3"
  }
 },
 "nbformat": 4,
 "nbformat_minor": 5
}