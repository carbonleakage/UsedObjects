{
 "cells": [
  {
   "cell_type": "code",
   "execution_count": 1,
   "id": "reverse-picking",
   "metadata": {
    "execution": {
     "iopub.execute_input": "2021-12-14T01:30:07.304001Z",
     "iopub.status.busy": "2021-12-14T01:30:07.291367Z",
     "iopub.status.idle": "2021-12-14T01:30:08.252328Z",
     "shell.execute_reply": "2021-12-14T01:30:08.254587Z"
    },
    "papermill": {
     "duration": 1.007862,
     "end_time": "2021-12-14T01:30:08.255383",
     "exception": false,
     "start_time": "2021-12-14T01:30:07.247521",
     "status": "completed"
    },
    "tags": []
   },
   "outputs": [],
   "source": [
    "import pandas as pd\n",
    "import sqlite3"
   ]
  },
  {
   "cell_type": "code",
   "execution_count": 2,
   "id": "innovative-syndrome",
   "metadata": {
    "execution": {
     "iopub.execute_input": "2021-12-14T01:30:08.320252Z",
     "iopub.status.busy": "2021-12-14T01:30:08.317890Z",
     "iopub.status.idle": "2021-12-14T01:30:09.415630Z",
     "shell.execute_reply": "2021-12-14T01:30:09.417599Z"
    },
    "papermill": {
     "duration": 1.13194,
     "end_time": "2021-12-14T01:30:09.418170",
     "exception": false,
     "start_time": "2021-12-14T01:30:08.286230",
     "status": "completed"
    },
    "tags": []
   },
   "outputs": [],
   "source": [
    "timestamps = pd.read_sql(\"select distinct record_time from EBAY_TOP_BERLIN order by record_time desc limit 2\", sqlite3.connect(\"UsedObjects.db\"))"
   ]
  },
  {
   "cell_type": "code",
   "execution_count": 3,
   "id": "periodic-identification",
   "metadata": {
    "execution": {
     "iopub.execute_input": "2021-12-14T01:30:09.493898Z",
     "iopub.status.busy": "2021-12-14T01:30:09.491515Z",
     "iopub.status.idle": "2021-12-14T01:30:09.513823Z",
     "shell.execute_reply": "2021-12-14T01:30:09.515249Z"
    },
    "papermill": {
     "duration": 0.074677,
     "end_time": "2021-12-14T01:30:09.515745",
     "exception": false,
     "start_time": "2021-12-14T01:30:09.441068",
     "status": "completed"
    },
    "tags": []
   },
   "outputs": [
    {
     "data": {
      "text/html": [
       "<div>\n",
       "<style scoped>\n",
       "    .dataframe tbody tr th:only-of-type {\n",
       "        vertical-align: middle;\n",
       "    }\n",
       "\n",
       "    .dataframe tbody tr th {\n",
       "        vertical-align: top;\n",
       "    }\n",
       "\n",
       "    .dataframe thead th {\n",
       "        text-align: right;\n",
       "    }\n",
       "</style>\n",
       "<table border=\"1\" class=\"dataframe\">\n",
       "  <thead>\n",
       "    <tr style=\"text-align: right;\">\n",
       "      <th></th>\n",
       "      <th>RECORD_TIME</th>\n",
       "    </tr>\n",
       "  </thead>\n",
       "  <tbody>\n",
       "    <tr>\n",
       "      <th>0</th>\n",
       "      <td>2021-12-14 02:30</td>\n",
       "    </tr>\n",
       "    <tr>\n",
       "      <th>1</th>\n",
       "      <td>2021-12-14 02:00</td>\n",
       "    </tr>\n",
       "  </tbody>\n",
       "</table>\n",
       "</div>"
      ],
      "text/plain": [
       "        RECORD_TIME\n",
       "0  2021-12-14 02:30\n",
       "1  2021-12-14 02:00"
      ]
     },
     "execution_count": 3,
     "metadata": {},
     "output_type": "execute_result"
    }
   ],
   "source": [
    "timestamps"
   ]
  },
  {
   "cell_type": "code",
   "execution_count": 4,
   "id": "alternate-victory",
   "metadata": {
    "execution": {
     "iopub.execute_input": "2021-12-14T01:30:09.569717Z",
     "iopub.status.busy": "2021-12-14T01:30:09.567516Z",
     "iopub.status.idle": "2021-12-14T01:30:11.135953Z",
     "shell.execute_reply": "2021-12-14T01:30:11.137870Z"
    },
    "papermill": {
     "duration": 1.601551,
     "end_time": "2021-12-14T01:30:11.138370",
     "exception": false,
     "start_time": "2021-12-14T01:30:09.536819",
     "status": "completed"
    },
    "tags": []
   },
   "outputs": [],
   "source": [
    "df = pd.read_sql(\"select * from EBAY_TOP_BERLIN where record_time in (select distinct record_time from EBAY_TOP_BERLIN order by record_time desc limit 2)\", sqlite3.connect(\"UsedObjects.db\"))"
   ]
  },
  {
   "cell_type": "code",
   "execution_count": 5,
   "id": "popular-active",
   "metadata": {
    "execution": {
     "iopub.execute_input": "2021-12-14T01:30:11.219955Z",
     "iopub.status.busy": "2021-12-14T01:30:11.205853Z",
     "iopub.status.idle": "2021-12-14T01:30:11.243953Z",
     "shell.execute_reply": "2021-12-14T01:30:11.246130Z"
    },
    "papermill": {
     "duration": 0.084113,
     "end_time": "2021-12-14T01:30:11.246736",
     "exception": false,
     "start_time": "2021-12-14T01:30:11.162623",
     "status": "completed"
    },
    "tags": []
   },
   "outputs": [],
   "source": [
    "df_pivot = df.pivot_table(index=\"PRODUCT\", columns = \"RECORD_TIME\", values = \"LISTING_COUNT\")"
   ]
  },
  {
   "cell_type": "code",
   "execution_count": 6,
   "id": "union-huntington",
   "metadata": {
    "execution": {
     "iopub.execute_input": "2021-12-14T01:30:11.309605Z",
     "iopub.status.busy": "2021-12-14T01:30:11.307299Z",
     "iopub.status.idle": "2021-12-14T01:30:11.313575Z",
     "shell.execute_reply": "2021-12-14T01:30:11.315049Z"
    },
    "papermill": {
     "duration": 0.04657,
     "end_time": "2021-12-14T01:30:11.315505",
     "exception": false,
     "start_time": "2021-12-14T01:30:11.268935",
     "status": "completed"
    },
    "tags": []
   },
   "outputs": [],
   "source": [
    "df_pivot.columns = [\"stamp_1\", \"stamp_2\"]\n",
    "df_pivot_diff = df_pivot.diff(axis=1)"
   ]
  },
  {
   "cell_type": "code",
   "execution_count": 7,
   "id": "fifth-motion",
   "metadata": {
    "execution": {
     "iopub.execute_input": "2021-12-14T01:30:11.371460Z",
     "iopub.status.busy": "2021-12-14T01:30:11.368956Z",
     "iopub.status.idle": "2021-12-14T01:30:13.377039Z",
     "shell.execute_reply": "2021-12-14T01:30:13.378881Z"
    },
    "papermill": {
     "duration": 2.044346,
     "end_time": "2021-12-14T01:30:13.379502",
     "exception": false,
     "start_time": "2021-12-14T01:30:11.335156",
     "status": "completed"
    },
    "tags": []
   },
   "outputs": [
    {
     "data": {
      "text/plain": [
       "<AxesSubplot:ylabel='PRODUCT'>"
      ]
     },
     "execution_count": 7,
     "metadata": {},
     "output_type": "execute_result"
    },
    {
     "data": {
      "image/png": "[encoded data removed]",
      "text/plain": [
       "<Figure size 432x288 with 1 Axes>"
      ]
     },
     "metadata": {
      "needs_background": "light"
     },
     "output_type": "display_data"
    }
   ],
   "source": [
    "df_pivot_diff.sort_values(\"stamp_2\", ascending = False)[\"stamp_2\"].head(10).plot.barh()"
   ]
  },
  {
   "cell_type": "code",
   "execution_count": null,
   "id": "extra-executive",
   "metadata": {
    "papermill": {
     "duration": 0.027634,
     "end_time": "2021-12-14T01:30:13.440391",
     "exception": false,
     "start_time": "2021-12-14T01:30:13.412757",
     "status": "completed"
    },
    "tags": []
   },
   "outputs": [],
   "source": []
  }
 ],
 "metadata": {
  "kernelspec": {
   "display_name": "Python 3",
   "language": "python",
   "name": "python3"
  },
  "language_info": {
   "codemirror_mode": {
    "name": "ipython",
    "version": 3
   },
   "file_extension": ".py",
   "mimetype": "text/x-python",
   "name": "python",
   "nbconvert_exporter": "python",
   "pygments_lexer": "ipython3",
   "version": "3.9.5"
  },
  "papermill": {
   "default_parameters": {},
   "duration": 9.629253,
   "end_time": "2021-12-14T01:30:14.089085",
   "environment_variables": {},
   "exception": null,
   "input_path": "eBay_Overview.ipynb",
   "output_path": "eBay_Overview.ipynb",
   "parameters": {},
   "start_time": "2021-12-14T01:30:04.459832",
   "version": "2.3.3"
  }
 },
 "nbformat": 4,
 "nbformat_minor": 5
}