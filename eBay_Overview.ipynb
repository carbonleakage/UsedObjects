{
 "cells": [
  {
   "cell_type": "code",
   "execution_count": 1,
   "id": "reverse-picking",
   "metadata": {
    "execution": {
     "iopub.execute_input": "2021-09-10T23:00:07.172772Z",
     "iopub.status.busy": "2021-09-10T23:00:07.170712Z",
     "iopub.status.idle": "2021-09-10T23:00:07.984549Z",
     "shell.execute_reply": "2021-09-10T23:00:07.982726Z"
    },
    "papermill": {
     "duration": 0.863054,
     "end_time": "2021-09-10T23:00:07.984955",
     "exception": false,
     "start_time": "2021-09-10T23:00:07.121901",
     "status": "completed"
    },
    "tags": []
   },
   "outputs": [],
   "source": [
    "import pandas as pd\n",
    "import sqlite3"
   ]
  },
  {
   "cell_type": "code",
   "execution_count": 2,
   "id": "innovative-syndrome",
   "metadata": {
    "execution": {
     "iopub.execute_input": "2021-09-10T23:00:08.035795Z",
     "iopub.status.busy": "2021-09-10T23:00:08.033740Z",
     "iopub.status.idle": "2021-09-10T23:00:08.285973Z",
     "shell.execute_reply": "2021-09-10T23:00:08.287372Z"
    },
    "papermill": {
     "duration": 0.282502,
     "end_time": "2021-09-10T23:00:08.287789",
     "exception": false,
     "start_time": "2021-09-10T23:00:08.005287",
     "status": "completed"
    },
    "tags": []
   },
   "outputs": [],
   "source": [
    "timestamps = pd.read_sql(\"select distinct record_time from EBAY_TOP_BERLIN order by record_time desc limit 2\", sqlite3.connect(\"UsedObjects.db\"))"
   ]
  },
  {
   "cell_type": "code",
   "execution_count": 3,
   "id": "periodic-identification",
   "metadata": {
    "execution": {
     "iopub.execute_input": "2021-09-10T23:00:08.358095Z",
     "iopub.status.busy": "2021-09-10T23:00:08.352963Z",
     "iopub.status.idle": "2021-09-10T23:00:08.373193Z",
     "shell.execute_reply": "2021-09-10T23:00:08.374396Z"
    },
    "papermill": {
     "duration": 0.066224,
     "end_time": "2021-09-10T23:00:08.374820",
     "exception": false,
     "start_time": "2021-09-10T23:00:08.308596",
     "status": "completed"
    },
    "tags": []
   },
   "outputs": [
    {
     "data": {
      "text/html": [
       "<div>\n",
       "<style scoped>\n",
       "    .dataframe tbody tr th:only-of-type {\n",
       "        vertical-align: middle;\n",
       "    }\n",
       "\n",
       "    .dataframe tbody tr th {\n",
       "        vertical-align: top;\n",
       "    }\n",
       "\n",
       "    .dataframe thead th {\n",
       "        text-align: right;\n",
       "    }\n",
       "</style>\n",
       "<table border=\"1\" class=\"dataframe\">\n",
       "  <thead>\n",
       "    <tr style=\"text-align: right;\">\n",
       "      <th></th>\n",
       "      <th>RECORD_TIME</th>\n",
       "    </tr>\n",
       "  </thead>\n",
       "  <tbody>\n",
       "    <tr>\n",
       "      <th>0</th>\n",
       "      <td>2021-09-11 01:00</td>\n",
       "    </tr>\n",
       "    <tr>\n",
       "      <th>1</th>\n",
       "      <td>2021-09-11 00:30</td>\n",
       "    </tr>\n",
       "  </tbody>\n",
       "</table>\n",
       "</div>"
      ],
      "text/plain": [
       "        RECORD_TIME\n",
       "0  2021-09-11 01:00\n",
       "1  2021-09-11 00:30"
      ]
     },
     "execution_count": 3,
     "metadata": {},
     "output_type": "execute_result"
    }
   ],
   "source": [
    "timestamps"
   ]
  },
  {
   "cell_type": "code",
   "execution_count": 4,
   "id": "alternate-victory",
   "metadata": {
    "execution": {
     "iopub.execute_input": "2021-09-10T23:00:08.427456Z",
     "iopub.status.busy": "2021-09-10T23:00:08.425379Z",
     "iopub.status.idle": "2021-09-10T23:00:08.816210Z",
     "shell.execute_reply": "2021-09-10T23:00:08.817427Z"
    },
    "papermill": {
     "duration": 0.420773,
     "end_time": "2021-09-10T23:00:08.817822",
     "exception": false,
     "start_time": "2021-09-10T23:00:08.397049",
     "status": "completed"
    },
    "tags": []
   },
   "outputs": [],
   "source": [
    "df = pd.read_sql(\"select * from EBAY_TOP_BERLIN where record_time in (select distinct record_time from EBAY_TOP_BERLIN order by record_time desc limit 2)\", sqlite3.connect(\"UsedObjects.db\"))"
   ]
  },
  {
   "cell_type": "code",
   "execution_count": 5,
   "id": "popular-active",
   "metadata": {
    "execution": {
     "iopub.execute_input": "2021-09-10T23:00:08.897245Z",
     "iopub.status.busy": "2021-09-10T23:00:08.889465Z",
     "iopub.status.idle": "2021-09-10T23:00:08.918638Z",
     "shell.execute_reply": "2021-09-10T23:00:08.920018Z"
    },
    "papermill": {
     "duration": 0.073634,
     "end_time": "2021-09-10T23:00:08.920431",
     "exception": false,
     "start_time": "2021-09-10T23:00:08.846797",
     "status": "completed"
    },
    "tags": []
   },
   "outputs": [],
   "source": [
    "df_pivot = df.pivot_table(index=\"PRODUCT\", columns = \"RECORD_TIME\", values = \"LISTING_COUNT\")"
   ]
  },
  {
   "cell_type": "code",
   "execution_count": 6,
   "id": "union-huntington",
   "metadata": {
    "execution": {
     "iopub.execute_input": "2021-09-10T23:00:08.975873Z",
     "iopub.status.busy": "2021-09-10T23:00:08.973828Z",
     "iopub.status.idle": "2021-09-10T23:00:08.978787Z",
     "shell.execute_reply": "2021-09-10T23:00:08.980215Z"
    },
    "papermill": {
     "duration": 0.039967,
     "end_time": "2021-09-10T23:00:08.980634",
     "exception": false,
     "start_time": "2021-09-10T23:00:08.940667",
     "status": "completed"
    },
    "tags": []
   },
   "outputs": [],
   "source": [
    "df_pivot.columns = [\"stamp_1\", \"stamp_2\"]\n",
    "df_pivot_diff = df_pivot.diff(axis=1)"
   ]
  },
  {
   "cell_type": "code",
   "execution_count": 7,
   "id": "fifth-motion",
   "metadata": {
    "execution": {
     "iopub.execute_input": "2021-09-10T23:00:09.035617Z",
     "iopub.status.busy": "2021-09-10T23:00:09.033024Z",
     "iopub.status.idle": "2021-09-10T23:00:10.522711Z",
     "shell.execute_reply": "2021-09-10T23:00:10.524178Z"
    },
    "papermill": {
     "duration": 1.522947,
     "end_time": "2021-09-10T23:00:10.524671",
     "exception": false,
     "start_time": "2021-09-10T23:00:09.001724",
     "status": "completed"
    },
    "tags": []
   },
   "outputs": [
    {
     "data": {
      "text/plain": [
       "<AxesSubplot:ylabel='PRODUCT'>"
      ]
     },
     "execution_count": 7,
     "metadata": {},
     "output_type": "execute_result"
    },
    {
     "data": {
      "image/png": "[encoded data removed]",
      "text/plain": [
       "<Figure size 432x288 with 1 Axes>"
      ]
     },
     "metadata": {
      "needs_background": "light"
     },
     "output_type": "display_data"
    }
   ],
   "source": [
    "df_pivot_diff.sort_values(\"stamp_2\", ascending = False)[\"stamp_2\"].head(10).plot.barh()"
   ]
  },
  {
   "cell_type": "code",
   "execution_count": null,
   "id": "extra-executive",
   "metadata": {
    "papermill": {
     "duration": 0.022223,
     "end_time": "2021-09-10T23:00:10.571388",
     "exception": false,
     "start_time": "2021-09-10T23:00:10.549165",
     "status": "completed"
    },
    "tags": []
   },
   "outputs": [],
   "source": []
  }
 ],
 "metadata": {
  "kernelspec": {
   "display_name": "Python 3",
   "language": "python",
   "name": "python3"
  },
  "language_info": {
   "codemirror_mode": {
    "name": "ipython",
    "version": 3
   },
   "file_extension": ".py",
   "mimetype": "text/x-python",
   "name": "python",
   "nbconvert_exporter": "python",
   "pygments_lexer": "ipython3",
   "version": "3.9.5"
  },
  "papermill": {
   "default_parameters": {},
   "duration": 6.514006,
   "end_time": "2021-09-10T23:00:11.212402",
   "environment_variables": {},
   "exception": null,
   "input_path": "eBay_Overview.ipynb",
   "output_path": "eBay_Overview.ipynb",
   "parameters": {},
   "start_time": "2021-09-10T23:00:04.698396",
   "version": "2.3.3"
  }
 },
 "nbformat": 4,
 "nbformat_minor": 5
}