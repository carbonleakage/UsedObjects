{
 "cells": [
  {
   "cell_type": "code",
   "execution_count": 1,
   "id": "reverse-picking",
   "metadata": {
    "execution": {
     "iopub.execute_input": "2021-10-27T08:00:07.314359Z",
     "iopub.status.busy": "2021-10-27T08:00:07.312325Z",
     "iopub.status.idle": "2021-10-27T08:00:08.118423Z",
     "shell.execute_reply": "2021-10-27T08:00:08.119586Z"
    },
    "papermill": {
     "duration": 0.856532,
     "end_time": "2021-10-27T08:00:08.120211",
     "exception": false,
     "start_time": "2021-10-27T08:00:07.263679",
     "status": "completed"
    },
    "tags": []
   },
   "outputs": [],
   "source": [
    "import pandas as pd\n",
    "import sqlite3"
   ]
  },
  {
   "cell_type": "code",
   "execution_count": 2,
   "id": "innovative-syndrome",
   "metadata": {
    "execution": {
     "iopub.execute_input": "2021-10-27T08:00:08.173374Z",
     "iopub.status.busy": "2021-10-27T08:00:08.170935Z",
     "iopub.status.idle": "2021-10-27T08:00:08.818616Z",
     "shell.execute_reply": "2021-10-27T08:00:08.819904Z"
    },
    "papermill": {
     "duration": 0.677649,
     "end_time": "2021-10-27T08:00:08.820327",
     "exception": false,
     "start_time": "2021-10-27T08:00:08.142678",
     "status": "completed"
    },
    "tags": []
   },
   "outputs": [],
   "source": [
    "timestamps = pd.read_sql(\"select distinct record_time from EBAY_TOP_BERLIN order by record_time desc limit 2\", sqlite3.connect(\"UsedObjects.db\"))"
   ]
  },
  {
   "cell_type": "code",
   "execution_count": 3,
   "id": "periodic-identification",
   "metadata": {
    "execution": {
     "iopub.execute_input": "2021-10-27T08:00:08.895946Z",
     "iopub.status.busy": "2021-10-27T08:00:08.893914Z",
     "iopub.status.idle": "2021-10-27T08:00:08.913632Z",
     "shell.execute_reply": "2021-10-27T08:00:08.914872Z"
    },
    "papermill": {
     "duration": 0.069658,
     "end_time": "2021-10-27T08:00:08.915278",
     "exception": false,
     "start_time": "2021-10-27T08:00:08.845620",
     "status": "completed"
    },
    "tags": []
   },
   "outputs": [
    {
     "data": {
      "text/html": [
       "<div>\n",
       "<style scoped>\n",
       "    .dataframe tbody tr th:only-of-type {\n",
       "        vertical-align: middle;\n",
       "    }\n",
       "\n",
       "    .dataframe tbody tr th {\n",
       "        vertical-align: top;\n",
       "    }\n",
       "\n",
       "    .dataframe thead th {\n",
       "        text-align: right;\n",
       "    }\n",
       "</style>\n",
       "<table border=\"1\" class=\"dataframe\">\n",
       "  <thead>\n",
       "    <tr style=\"text-align: right;\">\n",
       "      <th></th>\n",
       "      <th>RECORD_TIME</th>\n",
       "    </tr>\n",
       "  </thead>\n",
       "  <tbody>\n",
       "    <tr>\n",
       "      <th>0</th>\n",
       "      <td>2021-10-27 10:00</td>\n",
       "    </tr>\n",
       "    <tr>\n",
       "      <th>1</th>\n",
       "      <td>2021-10-27 09:30</td>\n",
       "    </tr>\n",
       "  </tbody>\n",
       "</table>\n",
       "</div>"
      ],
      "text/plain": [
       "        RECORD_TIME\n",
       "0  2021-10-27 10:00\n",
       "1  2021-10-27 09:30"
      ]
     },
     "execution_count": 3,
     "metadata": {},
     "output_type": "execute_result"
    }
   ],
   "source": [
    "timestamps"
   ]
  },
  {
   "cell_type": "code",
   "execution_count": 4,
   "id": "alternate-victory",
   "metadata": {
    "execution": {
     "iopub.execute_input": "2021-10-27T08:00:08.967979Z",
     "iopub.status.busy": "2021-10-27T08:00:08.965685Z",
     "iopub.status.idle": "2021-10-27T08:00:09.917108Z",
     "shell.execute_reply": "2021-10-27T08:00:09.918423Z"
    },
    "papermill": {
     "duration": 0.981623,
     "end_time": "2021-10-27T08:00:09.918842",
     "exception": false,
     "start_time": "2021-10-27T08:00:08.937219",
     "status": "completed"
    },
    "tags": []
   },
   "outputs": [],
   "source": [
    "df = pd.read_sql(\"select * from EBAY_TOP_BERLIN where record_time in (select distinct record_time from EBAY_TOP_BERLIN order by record_time desc limit 2)\", sqlite3.connect(\"UsedObjects.db\"))"
   ]
  },
  {
   "cell_type": "code",
   "execution_count": 5,
   "id": "popular-active",
   "metadata": {
    "execution": {
     "iopub.execute_input": "2021-10-27T08:00:09.990339Z",
     "iopub.status.busy": "2021-10-27T08:00:09.978017Z",
     "iopub.status.idle": "2021-10-27T08:00:10.007196Z",
     "shell.execute_reply": "2021-10-27T08:00:10.008502Z"
    },
    "papermill": {
     "duration": 0.067772,
     "end_time": "2021-10-27T08:00:10.008982",
     "exception": false,
     "start_time": "2021-10-27T08:00:09.941210",
     "status": "completed"
    },
    "tags": []
   },
   "outputs": [],
   "source": [
    "df_pivot = df.pivot_table(index=\"PRODUCT\", columns = \"RECORD_TIME\", values = \"LISTING_COUNT\")"
   ]
  },
  {
   "cell_type": "code",
   "execution_count": 6,
   "id": "union-huntington",
   "metadata": {
    "execution": {
     "iopub.execute_input": "2021-10-27T08:00:10.064825Z",
     "iopub.status.busy": "2021-10-27T08:00:10.062833Z",
     "iopub.status.idle": "2021-10-27T08:00:10.067883Z",
     "shell.execute_reply": "2021-10-27T08:00:10.069171Z"
    },
    "papermill": {
     "duration": 0.04022,
     "end_time": "2021-10-27T08:00:10.069577",
     "exception": false,
     "start_time": "2021-10-27T08:00:10.029357",
     "status": "completed"
    },
    "tags": []
   },
   "outputs": [],
   "source": [
    "df_pivot.columns = [\"stamp_1\", \"stamp_2\"]\n",
    "df_pivot_diff = df_pivot.diff(axis=1)"
   ]
  },
  {
   "cell_type": "code",
   "execution_count": 7,
   "id": "fifth-motion",
   "metadata": {
    "execution": {
     "iopub.execute_input": "2021-10-27T08:00:10.124516Z",
     "iopub.status.busy": "2021-10-27T08:00:10.122128Z",
     "iopub.status.idle": "2021-10-27T08:00:11.623826Z",
     "shell.execute_reply": "2021-10-27T08:00:11.625249Z"
    },
    "papermill": {
     "duration": 1.534679,
     "end_time": "2021-10-27T08:00:11.625700",
     "exception": false,
     "start_time": "2021-10-27T08:00:10.091021",
     "status": "completed"
    },
    "tags": []
   },
   "outputs": [
    {
     "data": {
      "text/plain": [
       "<AxesSubplot:ylabel='PRODUCT'>"
      ]
     },
     "execution_count": 7,
     "metadata": {},
     "output_type": "execute_result"
    },
    {
     "data": {
      "image/png": "[encoded data removed]",
      "text/plain": [
       "<Figure size 432x288 with 1 Axes>"
      ]
     },
     "metadata": {
      "needs_background": "light"
     },
     "output_type": "display_data"
    }
   ],
   "source": [
    "df_pivot_diff.sort_values(\"stamp_2\", ascending = False)[\"stamp_2\"].head(10).plot.barh()"
   ]
  },
  {
   "cell_type": "code",
   "execution_count": null,
   "id": "extra-executive",
   "metadata": {
    "papermill": {
     "duration": 0.022348,
     "end_time": "2021-10-27T08:00:11.672044",
     "exception": false,
     "start_time": "2021-10-27T08:00:11.649696",
     "status": "completed"
    },
    "tags": []
   },
   "outputs": [],
   "source": []
  }
 ],
 "metadata": {
  "kernelspec": {
   "display_name": "Python 3",
   "language": "python",
   "name": "python3"
  },
  "language_info": {
   "codemirror_mode": {
    "name": "ipython",
    "version": 3
   },
   "file_extension": ".py",
   "mimetype": "text/x-python",
   "name": "python",
   "nbconvert_exporter": "python",
   "pygments_lexer": "ipython3",
   "version": "3.9.5"
  },
  "papermill": {
   "default_parameters": {},
   "duration": 7.456501,
   "end_time": "2021-10-27T08:00:12.315482",
   "environment_variables": {},
   "exception": null,
   "input_path": "eBay_Overview.ipynb",
   "output_path": "eBay_Overview.ipynb",
   "parameters": {},
   "start_time": "2021-10-27T08:00:04.858981",
   "version": "2.3.3"
  }
 },
 "nbformat": 4,
 "nbformat_minor": 5
}