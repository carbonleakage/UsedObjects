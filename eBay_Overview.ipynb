{
 "cells": [
  {
   "cell_type": "code",
   "execution_count": 1,
   "id": "reverse-picking",
   "metadata": {
    "execution": {
     "iopub.execute_input": "2021-08-21T04:00:07.007884Z",
     "iopub.status.busy": "2021-08-21T04:00:07.005850Z",
     "iopub.status.idle": "2021-08-21T04:00:07.809333Z",
     "shell.execute_reply": "2021-08-21T04:00:07.810681Z"
    },
    "papermill": {
     "duration": 0.853908,
     "end_time": "2021-08-21T04:00:07.811313",
     "exception": false,
     "start_time": "2021-08-21T04:00:06.957405",
     "status": "completed"
    },
    "tags": []
   },
   "outputs": [],
   "source": [
    "import pandas as pd\n",
    "import sqlite3"
   ]
  },
  {
   "cell_type": "code",
   "execution_count": 2,
   "id": "innovative-syndrome",
   "metadata": {
    "execution": {
     "iopub.execute_input": "2021-08-21T04:00:07.861614Z",
     "iopub.status.busy": "2021-08-21T04:00:07.859783Z",
     "iopub.status.idle": "2021-08-21T04:00:07.956156Z",
     "shell.execute_reply": "2021-08-21T04:00:07.957328Z"
    },
    "papermill": {
     "duration": 0.125724,
     "end_time": "2021-08-21T04:00:07.957718",
     "exception": false,
     "start_time": "2021-08-21T04:00:07.831994",
     "status": "completed"
    },
    "tags": []
   },
   "outputs": [],
   "source": [
    "timestamps = pd.read_sql(\"select distinct record_time from EBAY_TOP_BERLIN order by record_time desc limit 2\", sqlite3.connect(\"UsedObjects.db\"))"
   ]
  },
  {
   "cell_type": "code",
   "execution_count": 3,
   "id": "periodic-identification",
   "metadata": {
    "execution": {
     "iopub.execute_input": "2021-08-21T04:00:08.025652Z",
     "iopub.status.busy": "2021-08-21T04:00:08.023658Z",
     "iopub.status.idle": "2021-08-21T04:00:08.043585Z",
     "shell.execute_reply": "2021-08-21T04:00:08.045058Z"
    },
    "papermill": {
     "duration": 0.066019,
     "end_time": "2021-08-21T04:00:08.045515",
     "exception": false,
     "start_time": "2021-08-21T04:00:07.979496",
     "status": "completed"
    },
    "tags": []
   },
   "outputs": [
    {
     "data": {
      "text/html": [
       "<div>\n",
       "<style scoped>\n",
       "    .dataframe tbody tr th:only-of-type {\n",
       "        vertical-align: middle;\n",
       "    }\n",
       "\n",
       "    .dataframe tbody tr th {\n",
       "        vertical-align: top;\n",
       "    }\n",
       "\n",
       "    .dataframe thead th {\n",
       "        text-align: right;\n",
       "    }\n",
       "</style>\n",
       "<table border=\"1\" class=\"dataframe\">\n",
       "  <thead>\n",
       "    <tr style=\"text-align: right;\">\n",
       "      <th></th>\n",
       "      <th>RECORD_TIME</th>\n",
       "    </tr>\n",
       "  </thead>\n",
       "  <tbody>\n",
       "    <tr>\n",
       "      <th>0</th>\n",
       "      <td>2021-08-21 06:00</td>\n",
       "    </tr>\n",
       "    <tr>\n",
       "      <th>1</th>\n",
       "      <td>2021-08-21 05:30</td>\n",
       "    </tr>\n",
       "  </tbody>\n",
       "</table>\n",
       "</div>"
      ],
      "text/plain": [
       "        RECORD_TIME\n",
       "0  2021-08-21 06:00\n",
       "1  2021-08-21 05:30"
      ]
     },
     "execution_count": 3,
     "metadata": {},
     "output_type": "execute_result"
    }
   ],
   "source": [
    "timestamps"
   ]
  },
  {
   "cell_type": "code",
   "execution_count": 4,
   "id": "alternate-victory",
   "metadata": {
    "execution": {
     "iopub.execute_input": "2021-08-21T04:00:08.097714Z",
     "iopub.status.busy": "2021-08-21T04:00:08.095734Z",
     "iopub.status.idle": "2021-08-21T04:00:08.235726Z",
     "shell.execute_reply": "2021-08-21T04:00:08.236998Z"
    },
    "papermill": {
     "duration": 0.170704,
     "end_time": "2021-08-21T04:00:08.237410",
     "exception": false,
     "start_time": "2021-08-21T04:00:08.066706",
     "status": "completed"
    },
    "tags": []
   },
   "outputs": [],
   "source": [
    "df = pd.read_sql(\"select * from EBAY_TOP_BERLIN where record_time in (select distinct record_time from EBAY_TOP_BERLIN order by record_time desc limit 2)\", sqlite3.connect(\"UsedObjects.db\"))"
   ]
  },
  {
   "cell_type": "code",
   "execution_count": 5,
   "id": "popular-active",
   "metadata": {
    "execution": {
     "iopub.execute_input": "2021-08-21T04:00:08.308202Z",
     "iopub.status.busy": "2021-08-21T04:00:08.296648Z",
     "iopub.status.idle": "2021-08-21T04:00:08.324127Z",
     "shell.execute_reply": "2021-08-21T04:00:08.325323Z"
    },
    "papermill": {
     "duration": 0.067855,
     "end_time": "2021-08-21T04:00:08.325714",
     "exception": false,
     "start_time": "2021-08-21T04:00:08.257859",
     "status": "completed"
    },
    "tags": []
   },
   "outputs": [],
   "source": [
    "df_pivot = df.pivot_table(index=\"PRODUCT\", columns = \"RECORD_TIME\", values = \"LISTING_COUNT\")"
   ]
  },
  {
   "cell_type": "code",
   "execution_count": 6,
   "id": "union-huntington",
   "metadata": {
    "execution": {
     "iopub.execute_input": "2021-08-21T04:00:08.385203Z",
     "iopub.status.busy": "2021-08-21T04:00:08.382768Z",
     "iopub.status.idle": "2021-08-21T04:00:08.388117Z",
     "shell.execute_reply": "2021-08-21T04:00:08.389507Z"
    },
    "papermill": {
     "duration": 0.041975,
     "end_time": "2021-08-21T04:00:08.389972",
     "exception": false,
     "start_time": "2021-08-21T04:00:08.347997",
     "status": "completed"
    },
    "tags": []
   },
   "outputs": [],
   "source": [
    "df_pivot.columns = [\"stamp_1\", \"stamp_2\"]\n",
    "df_pivot_diff = df_pivot.diff(axis=1)"
   ]
  },
  {
   "cell_type": "code",
   "execution_count": 7,
   "id": "fifth-motion",
   "metadata": {
    "execution": {
     "iopub.execute_input": "2021-08-21T04:00:08.448169Z",
     "iopub.status.busy": "2021-08-21T04:00:08.445838Z",
     "iopub.status.idle": "2021-08-21T04:00:09.905064Z",
     "shell.execute_reply": "2021-08-21T04:00:09.906392Z"
    },
    "papermill": {
     "duration": 1.496839,
     "end_time": "2021-08-21T04:00:09.906845",
     "exception": false,
     "start_time": "2021-08-21T04:00:08.410006",
     "status": "completed"
    },
    "tags": []
   },
   "outputs": [
    {
     "data": {
      "text/plain": [
       "<AxesSubplot:ylabel='PRODUCT'>"
      ]
     },
     "execution_count": 7,
     "metadata": {},
     "output_type": "execute_result"
    },
    {
     "data": {
      "image/png": "[encoded data removed]",
      "text/plain": [
       "<Figure size 432x288 with 1 Axes>"
      ]
     },
     "metadata": {
      "needs_background": "light"
     },
     "output_type": "display_data"
    }
   ],
   "source": [
    "df_pivot_diff.sort_values(\"stamp_2\", ascending = False)[\"stamp_2\"].head(10).plot.barh()"
   ]
  },
  {
   "cell_type": "code",
   "execution_count": null,
   "id": "extra-executive",
   "metadata": {
    "papermill": {
     "duration": 0.02209,
     "end_time": "2021-08-21T04:00:09.953493",
     "exception": false,
     "start_time": "2021-08-21T04:00:09.931403",
     "status": "completed"
    },
    "tags": []
   },
   "outputs": [],
   "source": []
  }
 ],
 "metadata": {
  "kernelspec": {
   "display_name": "Python 3",
   "language": "python",
   "name": "python3"
  },
  "language_info": {
   "codemirror_mode": {
    "name": "ipython",
    "version": 3
   },
   "file_extension": ".py",
   "mimetype": "text/x-python",
   "name": "python",
   "nbconvert_exporter": "python",
   "pygments_lexer": "ipython3",
   "version": "3.9.5"
  },
  "papermill": {
   "default_parameters": {},
   "duration": 6.822394,
   "end_time": "2021-08-21T04:00:11.376048",
   "environment_variables": {},
   "exception": null,
   "input_path": "eBay_Overview.ipynb",
   "output_path": "eBay_Overview.ipynb",
   "parameters": {},
   "start_time": "2021-08-21T04:00:04.553654",
   "version": "2.3.3"
  }
 },
 "nbformat": 4,
 "nbformat_minor": 5
}