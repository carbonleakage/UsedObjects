{
 "cells": [
  {
   "cell_type": "code",
   "execution_count": 1,
   "id": "reverse-picking",
   "metadata": {
    "execution": {
     "iopub.execute_input": "2021-11-06T20:30:07.939201Z",
     "iopub.status.busy": "2021-11-06T20:30:07.936985Z",
     "iopub.status.idle": "2021-11-06T20:30:08.878581Z",
     "shell.execute_reply": "2021-11-06T20:30:08.880048Z"
    },
    "papermill": {
     "duration": 0.989892,
     "end_time": "2021-11-06T20:30:08.880826",
     "exception": false,
     "start_time": "2021-11-06T20:30:07.890934",
     "status": "completed"
    },
    "tags": []
   },
   "outputs": [],
   "source": [
    "import pandas as pd\n",
    "import sqlite3"
   ]
  },
  {
   "cell_type": "code",
   "execution_count": 2,
   "id": "innovative-syndrome",
   "metadata": {
    "execution": {
     "iopub.execute_input": "2021-11-06T20:30:09.062665Z",
     "iopub.status.busy": "2021-11-06T20:30:09.060418Z",
     "iopub.status.idle": "2021-11-06T20:30:09.810431Z",
     "shell.execute_reply": "2021-11-06T20:30:09.812013Z"
    },
    "papermill": {
     "duration": 0.784113,
     "end_time": "2021-11-06T20:30:09.812495",
     "exception": false,
     "start_time": "2021-11-06T20:30:09.028382",
     "status": "completed"
    },
    "tags": []
   },
   "outputs": [],
   "source": [
    "timestamps = pd.read_sql(\"select distinct record_time from EBAY_TOP_BERLIN order by record_time desc limit 2\", sqlite3.connect(\"UsedObjects.db\"))"
   ]
  },
  {
   "cell_type": "code",
   "execution_count": 3,
   "id": "periodic-identification",
   "metadata": {
    "execution": {
     "iopub.execute_input": "2021-11-06T20:30:09.884142Z",
     "iopub.status.busy": "2021-11-06T20:30:09.881861Z",
     "iopub.status.idle": "2021-11-06T20:30:09.905397Z",
     "shell.execute_reply": "2021-11-06T20:30:09.906867Z"
    },
    "papermill": {
     "duration": 0.07463,
     "end_time": "2021-11-06T20:30:09.907361",
     "exception": false,
     "start_time": "2021-11-06T20:30:09.832731",
     "status": "completed"
    },
    "tags": []
   },
   "outputs": [
    {
     "data": {
      "text/html": [
       "<div>\n",
       "<style scoped>\n",
       "    .dataframe tbody tr th:only-of-type {\n",
       "        vertical-align: middle;\n",
       "    }\n",
       "\n",
       "    .dataframe tbody tr th {\n",
       "        vertical-align: top;\n",
       "    }\n",
       "\n",
       "    .dataframe thead th {\n",
       "        text-align: right;\n",
       "    }\n",
       "</style>\n",
       "<table border=\"1\" class=\"dataframe\">\n",
       "  <thead>\n",
       "    <tr style=\"text-align: right;\">\n",
       "      <th></th>\n",
       "      <th>RECORD_TIME</th>\n",
       "    </tr>\n",
       "  </thead>\n",
       "  <tbody>\n",
       "    <tr>\n",
       "      <th>0</th>\n",
       "      <td>2021-11-06 21:30</td>\n",
       "    </tr>\n",
       "    <tr>\n",
       "      <th>1</th>\n",
       "      <td>2021-11-06 21:00</td>\n",
       "    </tr>\n",
       "  </tbody>\n",
       "</table>\n",
       "</div>"
      ],
      "text/plain": [
       "        RECORD_TIME\n",
       "0  2021-11-06 21:30\n",
       "1  2021-11-06 21:00"
      ]
     },
     "execution_count": 3,
     "metadata": {},
     "output_type": "execute_result"
    }
   ],
   "source": [
    "timestamps"
   ]
  },
  {
   "cell_type": "code",
   "execution_count": 4,
   "id": "alternate-victory",
   "metadata": {
    "execution": {
     "iopub.execute_input": "2021-11-06T20:30:09.961410Z",
     "iopub.status.busy": "2021-11-06T20:30:09.959155Z",
     "iopub.status.idle": "2021-11-06T20:30:11.039706Z",
     "shell.execute_reply": "2021-11-06T20:30:11.041463Z"
    },
    "papermill": {
     "duration": 1.114311,
     "end_time": "2021-11-06T20:30:11.041996",
     "exception": false,
     "start_time": "2021-11-06T20:30:09.927685",
     "status": "completed"
    },
    "tags": []
   },
   "outputs": [],
   "source": [
    "df = pd.read_sql(\"select * from EBAY_TOP_BERLIN where record_time in (select distinct record_time from EBAY_TOP_BERLIN order by record_time desc limit 2)\", sqlite3.connect(\"UsedObjects.db\"))"
   ]
  },
  {
   "cell_type": "code",
   "execution_count": 5,
   "id": "popular-active",
   "metadata": {
    "execution": {
     "iopub.execute_input": "2021-11-06T20:30:11.120773Z",
     "iopub.status.busy": "2021-11-06T20:30:11.108358Z",
     "iopub.status.idle": "2021-11-06T20:30:11.141434Z",
     "shell.execute_reply": "2021-11-06T20:30:11.143106Z"
    },
    "papermill": {
     "duration": 0.079252,
     "end_time": "2021-11-06T20:30:11.143622",
     "exception": false,
     "start_time": "2021-11-06T20:30:11.064370",
     "status": "completed"
    },
    "tags": []
   },
   "outputs": [],
   "source": [
    "df_pivot = df.pivot_table(index=\"PRODUCT\", columns = \"RECORD_TIME\", values = \"LISTING_COUNT\")"
   ]
  },
  {
   "cell_type": "code",
   "execution_count": 6,
   "id": "union-huntington",
   "metadata": {
    "execution": {
     "iopub.execute_input": "2021-11-06T20:30:11.207343Z",
     "iopub.status.busy": "2021-11-06T20:30:11.204990Z",
     "iopub.status.idle": "2021-11-06T20:30:11.212562Z",
     "shell.execute_reply": "2021-11-06T20:30:11.210929Z"
    },
    "papermill": {
     "duration": 0.047605,
     "end_time": "2021-11-06T20:30:11.213079",
     "exception": false,
     "start_time": "2021-11-06T20:30:11.165474",
     "status": "completed"
    },
    "tags": []
   },
   "outputs": [],
   "source": [
    "df_pivot.columns = [\"stamp_1\", \"stamp_2\"]\n",
    "df_pivot_diff = df_pivot.diff(axis=1)"
   ]
  },
  {
   "cell_type": "code",
   "execution_count": 7,
   "id": "fifth-motion",
   "metadata": {
    "execution": {
     "iopub.execute_input": "2021-11-06T20:30:11.272916Z",
     "iopub.status.busy": "2021-11-06T20:30:11.270421Z",
     "iopub.status.idle": "2021-11-06T20:30:13.040943Z",
     "shell.execute_reply": "2021-11-06T20:30:13.039302Z"
    },
    "papermill": {
     "duration": 1.806907,
     "end_time": "2021-11-06T20:30:13.041353",
     "exception": false,
     "start_time": "2021-11-06T20:30:11.234446",
     "status": "completed"
    },
    "tags": []
   },
   "outputs": [
    {
     "data": {
      "text/plain": [
       "<AxesSubplot:ylabel='PRODUCT'>"
      ]
     },
     "execution_count": 7,
     "metadata": {},
     "output_type": "execute_result"
    },
    {
     "data": {
      "image/png": "[encoded data removed]",
      "text/plain": [
       "<Figure size 432x288 with 1 Axes>"
      ]
     },
     "metadata": {
      "needs_background": "light"
     },
     "output_type": "display_data"
    }
   ],
   "source": [
    "df_pivot_diff.sort_values(\"stamp_2\", ascending = False)[\"stamp_2\"].head(10).plot.barh()"
   ]
  },
  {
   "cell_type": "code",
   "execution_count": null,
   "id": "extra-executive",
   "metadata": {
    "papermill": {
     "duration": 0.023407,
     "end_time": "2021-11-06T20:30:13.088551",
     "exception": false,
     "start_time": "2021-11-06T20:30:13.065144",
     "status": "completed"
    },
    "tags": []
   },
   "outputs": [],
   "source": []
  }
 ],
 "metadata": {
  "kernelspec": {
   "display_name": "Python 3",
   "language": "python",
   "name": "python3"
  },
  "language_info": {
   "codemirror_mode": {
    "name": "ipython",
    "version": 3
   },
   "file_extension": ".py",
   "mimetype": "text/x-python",
   "name": "python",
   "nbconvert_exporter": "python",
   "pygments_lexer": "ipython3",
   "version": "3.9.5"
  },
  "papermill": {
   "default_parameters": {},
   "duration": 8.919508,
   "end_time": "2021-11-06T20:30:13.995697",
   "environment_variables": {},
   "exception": null,
   "input_path": "eBay_Overview.ipynb",
   "output_path": "eBay_Overview.ipynb",
   "parameters": {},
   "start_time": "2021-11-06T20:30:05.076189",
   "version": "2.3.3"
  }
 },
 "nbformat": 4,
 "nbformat_minor": 5
}