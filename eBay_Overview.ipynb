{
 "cells": [
  {
   "cell_type": "code",
   "execution_count": 1,
   "id": "reverse-picking",
   "metadata": {
    "execution": {
     "iopub.execute_input": "2021-12-04T00:00:07.475404Z",
     "iopub.status.busy": "2021-12-04T00:00:07.466480Z",
     "iopub.status.idle": "2021-12-04T00:00:08.429209Z",
     "shell.execute_reply": "2021-12-04T00:00:08.430794Z"
    },
    "papermill": {
     "duration": 1.010351,
     "end_time": "2021-12-04T00:00:08.431532",
     "exception": false,
     "start_time": "2021-12-04T00:00:07.421181",
     "status": "completed"
    },
    "tags": []
   },
   "outputs": [],
   "source": [
    "import pandas as pd\n",
    "import sqlite3"
   ]
  },
  {
   "cell_type": "code",
   "execution_count": 2,
   "id": "innovative-syndrome",
   "metadata": {
    "execution": {
     "iopub.execute_input": "2021-12-04T00:00:08.500544Z",
     "iopub.status.busy": "2021-12-04T00:00:08.497987Z",
     "iopub.status.idle": "2021-12-04T00:00:09.493163Z",
     "shell.execute_reply": "2021-12-04T00:00:09.494821Z"
    },
    "papermill": {
     "duration": 1.029865,
     "end_time": "2021-12-04T00:00:09.495317",
     "exception": false,
     "start_time": "2021-12-04T00:00:08.465452",
     "status": "completed"
    },
    "tags": []
   },
   "outputs": [],
   "source": [
    "timestamps = pd.read_sql(\"select distinct record_time from EBAY_TOP_BERLIN order by record_time desc limit 2\", sqlite3.connect(\"UsedObjects.db\"))"
   ]
  },
  {
   "cell_type": "code",
   "execution_count": 3,
   "id": "periodic-identification",
   "metadata": {
    "execution": {
     "iopub.execute_input": "2021-12-04T00:00:09.569195Z",
     "iopub.status.busy": "2021-12-04T00:00:09.566679Z",
     "iopub.status.idle": "2021-12-04T00:00:09.591117Z",
     "shell.execute_reply": "2021-12-04T00:00:09.592779Z"
    },
    "papermill": {
     "duration": 0.077087,
     "end_time": "2021-12-04T00:00:09.593282",
     "exception": false,
     "start_time": "2021-12-04T00:00:09.516195",
     "status": "completed"
    },
    "tags": []
   },
   "outputs": [
    {
     "data": {
      "text/html": [
       "<div>\n",
       "<style scoped>\n",
       "    .dataframe tbody tr th:only-of-type {\n",
       "        vertical-align: middle;\n",
       "    }\n",
       "\n",
       "    .dataframe tbody tr th {\n",
       "        vertical-align: top;\n",
       "    }\n",
       "\n",
       "    .dataframe thead th {\n",
       "        text-align: right;\n",
       "    }\n",
       "</style>\n",
       "<table border=\"1\" class=\"dataframe\">\n",
       "  <thead>\n",
       "    <tr style=\"text-align: right;\">\n",
       "      <th></th>\n",
       "      <th>RECORD_TIME</th>\n",
       "    </tr>\n",
       "  </thead>\n",
       "  <tbody>\n",
       "    <tr>\n",
       "      <th>0</th>\n",
       "      <td>2021-12-04 01:00</td>\n",
       "    </tr>\n",
       "    <tr>\n",
       "      <th>1</th>\n",
       "      <td>2021-12-04 00:30</td>\n",
       "    </tr>\n",
       "  </tbody>\n",
       "</table>\n",
       "</div>"
      ],
      "text/plain": [
       "        RECORD_TIME\n",
       "0  2021-12-04 01:00\n",
       "1  2021-12-04 00:30"
      ]
     },
     "execution_count": 3,
     "metadata": {},
     "output_type": "execute_result"
    }
   ],
   "source": [
    "timestamps"
   ]
  },
  {
   "cell_type": "code",
   "execution_count": 4,
   "id": "alternate-victory",
   "metadata": {
    "execution": {
     "iopub.execute_input": "2021-12-04T00:00:09.653145Z",
     "iopub.status.busy": "2021-12-04T00:00:09.650546Z",
     "iopub.status.idle": "2021-12-04T00:00:11.047106Z",
     "shell.execute_reply": "2021-12-04T00:00:11.049092Z"
    },
    "papermill": {
     "duration": 1.432528,
     "end_time": "2021-12-04T00:00:11.049570",
     "exception": false,
     "start_time": "2021-12-04T00:00:09.617042",
     "status": "completed"
    },
    "tags": []
   },
   "outputs": [],
   "source": [
    "df = pd.read_sql(\"select * from EBAY_TOP_BERLIN where record_time in (select distinct record_time from EBAY_TOP_BERLIN order by record_time desc limit 2)\", sqlite3.connect(\"UsedObjects.db\"))"
   ]
  },
  {
   "cell_type": "code",
   "execution_count": 5,
   "id": "popular-active",
   "metadata": {
    "execution": {
     "iopub.execute_input": "2021-12-04T00:00:11.127343Z",
     "iopub.status.busy": "2021-12-04T00:00:11.113752Z",
     "iopub.status.idle": "2021-12-04T00:00:11.147952Z",
     "shell.execute_reply": "2021-12-04T00:00:11.149357Z"
    },
    "papermill": {
     "duration": 0.078144,
     "end_time": "2021-12-04T00:00:11.149832",
     "exception": false,
     "start_time": "2021-12-04T00:00:11.071688",
     "status": "completed"
    },
    "tags": []
   },
   "outputs": [],
   "source": [
    "df_pivot = df.pivot_table(index=\"PRODUCT\", columns = \"RECORD_TIME\", values = \"LISTING_COUNT\")"
   ]
  },
  {
   "cell_type": "code",
   "execution_count": 6,
   "id": "union-huntington",
   "metadata": {
    "execution": {
     "iopub.execute_input": "2021-12-04T00:00:11.209752Z",
     "iopub.status.busy": "2021-12-04T00:00:11.207563Z",
     "iopub.status.idle": "2021-12-04T00:00:11.212949Z",
     "shell.execute_reply": "2021-12-04T00:00:11.214401Z"
    },
    "papermill": {
     "duration": 0.044346,
     "end_time": "2021-12-04T00:00:11.214887",
     "exception": false,
     "start_time": "2021-12-04T00:00:11.170541",
     "status": "completed"
    },
    "tags": []
   },
   "outputs": [],
   "source": [
    "df_pivot.columns = [\"stamp_1\", \"stamp_2\"]\n",
    "df_pivot_diff = df_pivot.diff(axis=1)"
   ]
  },
  {
   "cell_type": "code",
   "execution_count": 7,
   "id": "fifth-motion",
   "metadata": {
    "execution": {
     "iopub.execute_input": "2021-12-04T00:00:11.283349Z",
     "iopub.status.busy": "2021-12-04T00:00:11.272774Z",
     "iopub.status.idle": "2021-12-04T00:00:13.157904Z",
     "shell.execute_reply": "2021-12-04T00:00:13.159941Z"
    },
    "papermill": {
     "duration": 1.923734,
     "end_time": "2021-12-04T00:00:13.160569",
     "exception": false,
     "start_time": "2021-12-04T00:00:11.236835",
     "status": "completed"
    },
    "tags": []
   },
   "outputs": [
    {
     "data": {
      "text/plain": [
       "<AxesSubplot:ylabel='PRODUCT'>"
      ]
     },
     "execution_count": 7,
     "metadata": {},
     "output_type": "execute_result"
    },
    {
     "data": {
      "image/png": "[encoded data removed]",
      "text/plain": [
       "<Figure size 432x288 with 1 Axes>"
      ]
     },
     "metadata": {
      "needs_background": "light"
     },
     "output_type": "display_data"
    }
   ],
   "source": [
    "df_pivot_diff.sort_values(\"stamp_2\", ascending = False)[\"stamp_2\"].head(10).plot.barh()"
   ]
  },
  {
   "cell_type": "code",
   "execution_count": null,
   "id": "extra-executive",
   "metadata": {
    "papermill": {
     "duration": 0.028635,
     "end_time": "2021-12-04T00:00:13.218917",
     "exception": false,
     "start_time": "2021-12-04T00:00:13.190282",
     "status": "completed"
    },
    "tags": []
   },
   "outputs": [],
   "source": []
  }
 ],
 "metadata": {
  "kernelspec": {
   "display_name": "Python 3",
   "language": "python",
   "name": "python3"
  },
  "language_info": {
   "codemirror_mode": {
    "name": "ipython",
    "version": 3
   },
   "file_extension": ".py",
   "mimetype": "text/x-python",
   "name": "python",
   "nbconvert_exporter": "python",
   "pygments_lexer": "ipython3",
   "version": "3.9.5"
  },
  "papermill": {
   "default_parameters": {},
   "duration": 9.967846,
   "end_time": "2021-12-04T00:00:14.614307",
   "environment_variables": {},
   "exception": null,
   "input_path": "eBay_Overview.ipynb",
   "output_path": "eBay_Overview.ipynb",
   "parameters": {},
   "start_time": "2021-12-04T00:00:04.646461",
   "version": "2.3.3"
  }
 },
 "nbformat": 4,
 "nbformat_minor": 5
}