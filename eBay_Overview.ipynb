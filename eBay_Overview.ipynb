{
 "cells": [
  {
   "cell_type": "code",
   "execution_count": 1,
   "id": "reverse-picking",
   "metadata": {
    "execution": {
     "iopub.execute_input": "2021-10-30T23:00:07.006589Z",
     "iopub.status.busy": "2021-10-30T23:00:07.004507Z",
     "iopub.status.idle": "2021-10-30T23:00:07.806406Z",
     "shell.execute_reply": "2021-10-30T23:00:07.807654Z"
    },
    "papermill": {
     "duration": 0.852487,
     "end_time": "2021-10-30T23:00:07.808277",
     "exception": false,
     "start_time": "2021-10-30T23:00:06.955790",
     "status": "completed"
    },
    "tags": []
   },
   "outputs": [],
   "source": [
    "import pandas as pd\n",
    "import sqlite3"
   ]
  },
  {
   "cell_type": "code",
   "execution_count": 2,
   "id": "innovative-syndrome",
   "metadata": {
    "execution": {
     "iopub.execute_input": "2021-10-30T23:00:07.858903Z",
     "iopub.status.busy": "2021-10-30T23:00:07.857047Z",
     "iopub.status.idle": "2021-10-30T23:00:08.538118Z",
     "shell.execute_reply": "2021-10-30T23:00:08.539317Z"
    },
    "papermill": {
     "duration": 0.710435,
     "end_time": "2021-10-30T23:00:08.539715",
     "exception": false,
     "start_time": "2021-10-30T23:00:07.829280",
     "status": "completed"
    },
    "tags": []
   },
   "outputs": [],
   "source": [
    "timestamps = pd.read_sql(\"select distinct record_time from EBAY_TOP_BERLIN order by record_time desc limit 2\", sqlite3.connect(\"UsedObjects.db\"))"
   ]
  },
  {
   "cell_type": "code",
   "execution_count": 3,
   "id": "periodic-identification",
   "metadata": {
    "execution": {
     "iopub.execute_input": "2021-10-30T23:00:08.629214Z",
     "iopub.status.busy": "2021-10-30T23:00:08.624089Z",
     "iopub.status.idle": "2021-10-30T23:00:08.645762Z",
     "shell.execute_reply": "2021-10-30T23:00:08.644234Z"
    },
    "papermill": {
     "duration": 0.073257,
     "end_time": "2021-10-30T23:00:08.646132",
     "exception": false,
     "start_time": "2021-10-30T23:00:08.572875",
     "status": "completed"
    },
    "tags": []
   },
   "outputs": [
    {
     "data": {
      "text/html": [
       "<div>\n",
       "<style scoped>\n",
       "    .dataframe tbody tr th:only-of-type {\n",
       "        vertical-align: middle;\n",
       "    }\n",
       "\n",
       "    .dataframe tbody tr th {\n",
       "        vertical-align: top;\n",
       "    }\n",
       "\n",
       "    .dataframe thead th {\n",
       "        text-align: right;\n",
       "    }\n",
       "</style>\n",
       "<table border=\"1\" class=\"dataframe\">\n",
       "  <thead>\n",
       "    <tr style=\"text-align: right;\">\n",
       "      <th></th>\n",
       "      <th>RECORD_TIME</th>\n",
       "    </tr>\n",
       "  </thead>\n",
       "  <tbody>\n",
       "    <tr>\n",
       "      <th>0</th>\n",
       "      <td>2021-10-31 01:00</td>\n",
       "    </tr>\n",
       "    <tr>\n",
       "      <th>1</th>\n",
       "      <td>2021-10-31 00:30</td>\n",
       "    </tr>\n",
       "  </tbody>\n",
       "</table>\n",
       "</div>"
      ],
      "text/plain": [
       "        RECORD_TIME\n",
       "0  2021-10-31 01:00\n",
       "1  2021-10-31 00:30"
      ]
     },
     "execution_count": 3,
     "metadata": {},
     "output_type": "execute_result"
    }
   ],
   "source": [
    "timestamps"
   ]
  },
  {
   "cell_type": "code",
   "execution_count": 4,
   "id": "alternate-victory",
   "metadata": {
    "execution": {
     "iopub.execute_input": "2021-10-30T23:00:08.697380Z",
     "iopub.status.busy": "2021-10-30T23:00:08.695424Z",
     "iopub.status.idle": "2021-10-30T23:00:09.692343Z",
     "shell.execute_reply": "2021-10-30T23:00:09.693773Z"
    },
    "papermill": {
     "duration": 1.026864,
     "end_time": "2021-10-30T23:00:09.694222",
     "exception": false,
     "start_time": "2021-10-30T23:00:08.667358",
     "status": "completed"
    },
    "tags": []
   },
   "outputs": [],
   "source": [
    "df = pd.read_sql(\"select * from EBAY_TOP_BERLIN where record_time in (select distinct record_time from EBAY_TOP_BERLIN order by record_time desc limit 2)\", sqlite3.connect(\"UsedObjects.db\"))"
   ]
  },
  {
   "cell_type": "code",
   "execution_count": 5,
   "id": "popular-active",
   "metadata": {
    "execution": {
     "iopub.execute_input": "2021-10-30T23:00:09.765224Z",
     "iopub.status.busy": "2021-10-30T23:00:09.753646Z",
     "iopub.status.idle": "2021-10-30T23:00:09.782210Z",
     "shell.execute_reply": "2021-10-30T23:00:09.780868Z"
    },
    "papermill": {
     "duration": 0.067327,
     "end_time": "2021-10-30T23:00:09.782547",
     "exception": false,
     "start_time": "2021-10-30T23:00:09.715220",
     "status": "completed"
    },
    "tags": []
   },
   "outputs": [],
   "source": [
    "df_pivot = df.pivot_table(index=\"PRODUCT\", columns = \"RECORD_TIME\", values = \"LISTING_COUNT\")"
   ]
  },
  {
   "cell_type": "code",
   "execution_count": 6,
   "id": "union-huntington",
   "metadata": {
    "execution": {
     "iopub.execute_input": "2021-10-30T23:00:09.840254Z",
     "iopub.status.busy": "2021-10-30T23:00:09.837999Z",
     "iopub.status.idle": "2021-10-30T23:00:09.845302Z",
     "shell.execute_reply": "2021-10-30T23:00:09.843823Z"
    },
    "papermill": {
     "duration": 0.041691,
     "end_time": "2021-10-30T23:00:09.845662",
     "exception": false,
     "start_time": "2021-10-30T23:00:09.803971",
     "status": "completed"
    },
    "tags": []
   },
   "outputs": [],
   "source": [
    "df_pivot.columns = [\"stamp_1\", \"stamp_2\"]\n",
    "df_pivot_diff = df_pivot.diff(axis=1)"
   ]
  },
  {
   "cell_type": "code",
   "execution_count": 7,
   "id": "fifth-motion",
   "metadata": {
    "execution": {
     "iopub.execute_input": "2021-10-30T23:00:09.899099Z",
     "iopub.status.busy": "2021-10-30T23:00:09.896837Z",
     "iopub.status.idle": "2021-10-30T23:00:11.402750Z",
     "shell.execute_reply": "2021-10-30T23:00:11.404017Z"
    },
    "papermill": {
     "duration": 1.538867,
     "end_time": "2021-10-30T23:00:11.404438",
     "exception": false,
     "start_time": "2021-10-30T23:00:09.865571",
     "status": "completed"
    },
    "tags": []
   },
   "outputs": [
    {
     "data": {
      "text/plain": [
       "<AxesSubplot:ylabel='PRODUCT'>"
      ]
     },
     "execution_count": 7,
     "metadata": {},
     "output_type": "execute_result"
    },
    {
     "data": {
      "image/png": "[encoded data removed]",
      "text/plain": [
       "<Figure size 432x288 with 1 Axes>"
      ]
     },
     "metadata": {
      "needs_background": "light"
     },
     "output_type": "display_data"
    }
   ],
   "source": [
    "df_pivot_diff.sort_values(\"stamp_2\", ascending = False)[\"stamp_2\"].head(10).plot.barh()"
   ]
  },
  {
   "cell_type": "code",
   "execution_count": null,
   "id": "extra-executive",
   "metadata": {
    "papermill": {
     "duration": 0.022098,
     "end_time": "2021-10-30T23:00:11.451805",
     "exception": false,
     "start_time": "2021-10-30T23:00:11.429707",
     "status": "completed"
    },
    "tags": []
   },
   "outputs": [],
   "source": []
  }
 ],
 "metadata": {
  "kernelspec": {
   "display_name": "Python 3",
   "language": "python",
   "name": "python3"
  },
  "language_info": {
   "codemirror_mode": {
    "name": "ipython",
    "version": 3
   },
   "file_extension": ".py",
   "mimetype": "text/x-python",
   "name": "python",
   "nbconvert_exporter": "python",
   "pygments_lexer": "ipython3",
   "version": "3.9.5"
  },
  "papermill": {
   "default_parameters": {},
   "duration": 7.540926,
   "end_time": "2021-10-30T23:00:12.094436",
   "environment_variables": {},
   "exception": null,
   "input_path": "eBay_Overview.ipynb",
   "output_path": "eBay_Overview.ipynb",
   "parameters": {},
   "start_time": "2021-10-30T23:00:04.553510",
   "version": "2.3.3"
  }
 },
 "nbformat": 4,
 "nbformat_minor": 5
}