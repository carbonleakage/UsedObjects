{
 "cells": [
  {
   "cell_type": "code",
   "execution_count": 1,
   "id": "reverse-picking",
   "metadata": {
    "execution": {
     "iopub.execute_input": "2021-12-10T10:00:08.131662Z",
     "iopub.status.busy": "2021-12-10T10:00:08.122258Z",
     "iopub.status.idle": "2021-12-10T10:00:09.062595Z",
     "shell.execute_reply": "2021-12-10T10:00:09.063847Z"
    },
    "papermill": {
     "duration": 0.988606,
     "end_time": "2021-12-10T10:00:09.064495",
     "exception": false,
     "start_time": "2021-12-10T10:00:08.075889",
     "status": "completed"
    },
    "tags": []
   },
   "outputs": [],
   "source": [
    "import pandas as pd\n",
    "import sqlite3"
   ]
  },
  {
   "cell_type": "code",
   "execution_count": 2,
   "id": "innovative-syndrome",
   "metadata": {
    "execution": {
     "iopub.execute_input": "2021-12-10T10:00:09.126976Z",
     "iopub.status.busy": "2021-12-10T10:00:09.125010Z",
     "iopub.status.idle": "2021-12-10T10:00:10.165489Z",
     "shell.execute_reply": "2021-12-10T10:00:10.166766Z"
    },
    "papermill": {
     "duration": 1.075078,
     "end_time": "2021-12-10T10:00:10.167229",
     "exception": false,
     "start_time": "2021-12-10T10:00:09.092151",
     "status": "completed"
    },
    "tags": []
   },
   "outputs": [],
   "source": [
    "timestamps = pd.read_sql(\"select distinct record_time from EBAY_TOP_BERLIN order by record_time desc limit 2\", sqlite3.connect(\"UsedObjects.db\"))"
   ]
  },
  {
   "cell_type": "code",
   "execution_count": 3,
   "id": "periodic-identification",
   "metadata": {
    "execution": {
     "iopub.execute_input": "2021-12-10T10:00:10.237792Z",
     "iopub.status.busy": "2021-12-10T10:00:10.231906Z",
     "iopub.status.idle": "2021-12-10T10:00:10.254740Z",
     "shell.execute_reply": "2021-12-10T10:00:10.255994Z"
    },
    "papermill": {
     "duration": 0.069749,
     "end_time": "2021-12-10T10:00:10.256459",
     "exception": false,
     "start_time": "2021-12-10T10:00:10.186710",
     "status": "completed"
    },
    "tags": []
   },
   "outputs": [
    {
     "data": {
      "text/html": [
       "<div>\n",
       "<style scoped>\n",
       "    .dataframe tbody tr th:only-of-type {\n",
       "        vertical-align: middle;\n",
       "    }\n",
       "\n",
       "    .dataframe tbody tr th {\n",
       "        vertical-align: top;\n",
       "    }\n",
       "\n",
       "    .dataframe thead th {\n",
       "        text-align: right;\n",
       "    }\n",
       "</style>\n",
       "<table border=\"1\" class=\"dataframe\">\n",
       "  <thead>\n",
       "    <tr style=\"text-align: right;\">\n",
       "      <th></th>\n",
       "      <th>RECORD_TIME</th>\n",
       "    </tr>\n",
       "  </thead>\n",
       "  <tbody>\n",
       "    <tr>\n",
       "      <th>0</th>\n",
       "      <td>2021-12-10 11:00</td>\n",
       "    </tr>\n",
       "    <tr>\n",
       "      <th>1</th>\n",
       "      <td>2021-12-10 10:30</td>\n",
       "    </tr>\n",
       "  </tbody>\n",
       "</table>\n",
       "</div>"
      ],
      "text/plain": [
       "        RECORD_TIME\n",
       "0  2021-12-10 11:00\n",
       "1  2021-12-10 10:30"
      ]
     },
     "execution_count": 3,
     "metadata": {},
     "output_type": "execute_result"
    }
   ],
   "source": [
    "timestamps"
   ]
  },
  {
   "cell_type": "code",
   "execution_count": 4,
   "id": "alternate-victory",
   "metadata": {
    "execution": {
     "iopub.execute_input": "2021-12-10T10:00:10.313884Z",
     "iopub.status.busy": "2021-12-10T10:00:10.311824Z",
     "iopub.status.idle": "2021-12-10T10:00:11.801109Z",
     "shell.execute_reply": "2021-12-10T10:00:11.803539Z"
    },
    "papermill": {
     "duration": 1.525512,
     "end_time": "2021-12-10T10:00:11.804135",
     "exception": false,
     "start_time": "2021-12-10T10:00:10.278623",
     "status": "completed"
    },
    "tags": []
   },
   "outputs": [],
   "source": [
    "df = pd.read_sql(\"select * from EBAY_TOP_BERLIN where record_time in (select distinct record_time from EBAY_TOP_BERLIN order by record_time desc limit 2)\", sqlite3.connect(\"UsedObjects.db\"))"
   ]
  },
  {
   "cell_type": "code",
   "execution_count": 5,
   "id": "popular-active",
   "metadata": {
    "execution": {
     "iopub.execute_input": "2021-12-10T10:00:11.908067Z",
     "iopub.status.busy": "2021-12-10T10:00:11.895008Z",
     "iopub.status.idle": "2021-12-10T10:00:11.953536Z",
     "shell.execute_reply": "2021-12-10T10:00:11.950769Z"
    },
    "papermill": {
     "duration": 0.12491,
     "end_time": "2021-12-10T10:00:11.954140",
     "exception": false,
     "start_time": "2021-12-10T10:00:11.829230",
     "status": "completed"
    },
    "tags": []
   },
   "outputs": [],
   "source": [
    "df_pivot = df.pivot_table(index=\"PRODUCT\", columns = \"RECORD_TIME\", values = \"LISTING_COUNT\")"
   ]
  },
  {
   "cell_type": "code",
   "execution_count": 6,
   "id": "union-huntington",
   "metadata": {
    "execution": {
     "iopub.execute_input": "2021-12-10T10:00:12.028451Z",
     "iopub.status.busy": "2021-12-10T10:00:12.025930Z",
     "iopub.status.idle": "2021-12-10T10:00:12.031599Z",
     "shell.execute_reply": "2021-12-10T10:00:12.033675Z"
    },
    "papermill": {
     "duration": 0.054206,
     "end_time": "2021-12-10T10:00:12.034286",
     "exception": false,
     "start_time": "2021-12-10T10:00:11.980080",
     "status": "completed"
    },
    "tags": []
   },
   "outputs": [],
   "source": [
    "df_pivot.columns = [\"stamp_1\", \"stamp_2\"]\n",
    "df_pivot_diff = df_pivot.diff(axis=1)"
   ]
  },
  {
   "cell_type": "code",
   "execution_count": 7,
   "id": "fifth-motion",
   "metadata": {
    "execution": {
     "iopub.execute_input": "2021-12-10T10:00:12.088074Z",
     "iopub.status.busy": "2021-12-10T10:00:12.085633Z",
     "iopub.status.idle": "2021-12-10T10:00:13.747967Z",
     "shell.execute_reply": "2021-12-10T10:00:13.749444Z"
    },
    "papermill": {
     "duration": 1.695307,
     "end_time": "2021-12-10T10:00:13.749907",
     "exception": false,
     "start_time": "2021-12-10T10:00:12.054600",
     "status": "completed"
    },
    "tags": []
   },
   "outputs": [
    {
     "data": {
      "text/plain": [
       "<AxesSubplot:ylabel='PRODUCT'>"
      ]
     },
     "execution_count": 7,
     "metadata": {},
     "output_type": "execute_result"
    },
    {
     "data": {
      "image/png": "[encoded data removed]",
      "text/plain": [
       "<Figure size 432x288 with 1 Axes>"
      ]
     },
     "metadata": {
      "needs_background": "light"
     },
     "output_type": "display_data"
    }
   ],
   "source": [
    "df_pivot_diff.sort_values(\"stamp_2\", ascending = False)[\"stamp_2\"].head(10).plot.barh()"
   ]
  },
  {
   "cell_type": "code",
   "execution_count": null,
   "id": "extra-executive",
   "metadata": {
    "papermill": {
     "duration": 0.022212,
     "end_time": "2021-12-10T10:00:13.796071",
     "exception": false,
     "start_time": "2021-12-10T10:00:13.773859",
     "status": "completed"
    },
    "tags": []
   },
   "outputs": [],
   "source": []
  }
 ],
 "metadata": {
  "kernelspec": {
   "display_name": "Python 3",
   "language": "python",
   "name": "python3"
  },
  "language_info": {
   "codemirror_mode": {
    "name": "ipython",
    "version": 3
   },
   "file_extension": ".py",
   "mimetype": "text/x-python",
   "name": "python",
   "nbconvert_exporter": "python",
   "pygments_lexer": "ipython3",
   "version": "3.9.5"
  },
  "papermill": {
   "default_parameters": {},
   "duration": 9.940189,
   "end_time": "2021-12-10T10:00:15.283003",
   "environment_variables": {},
   "exception": null,
   "input_path": "eBay_Overview.ipynb",
   "output_path": "eBay_Overview.ipynb",
   "parameters": {},
   "start_time": "2021-12-10T10:00:05.342814",
   "version": "2.3.3"
  }
 },
 "nbformat": 4,
 "nbformat_minor": 5
}