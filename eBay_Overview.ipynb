{
 "cells": [
  {
   "cell_type": "code",
   "execution_count": 1,
   "id": "reverse-picking",
   "metadata": {
    "execution": {
     "iopub.execute_input": "2021-11-10T00:00:07.608516Z",
     "iopub.status.busy": "2021-11-10T00:00:07.606156Z",
     "iopub.status.idle": "2021-11-10T00:00:08.559296Z",
     "shell.execute_reply": "2021-11-10T00:00:08.560898Z"
    },
    "papermill": {
     "duration": 1.003806,
     "end_time": "2021-11-10T00:00:08.561634",
     "exception": false,
     "start_time": "2021-11-10T00:00:07.557828",
     "status": "completed"
    },
    "tags": []
   },
   "outputs": [],
   "source": [
    "import pandas as pd\n",
    "import sqlite3"
   ]
  },
  {
   "cell_type": "code",
   "execution_count": 2,
   "id": "innovative-syndrome",
   "metadata": {
    "execution": {
     "iopub.execute_input": "2021-11-10T00:00:08.640931Z",
     "iopub.status.busy": "2021-11-10T00:00:08.638590Z",
     "iopub.status.idle": "2021-11-10T00:00:09.413313Z",
     "shell.execute_reply": "2021-11-10T00:00:09.414844Z"
    },
    "papermill": {
     "duration": 0.817369,
     "end_time": "2021-11-10T00:00:09.415313",
     "exception": false,
     "start_time": "2021-11-10T00:00:08.597944",
     "status": "completed"
    },
    "tags": []
   },
   "outputs": [],
   "source": [
    "timestamps = pd.read_sql(\"select distinct record_time from EBAY_TOP_BERLIN order by record_time desc limit 2\", sqlite3.connect(\"UsedObjects.db\"))"
   ]
  },
  {
   "cell_type": "code",
   "execution_count": 3,
   "id": "periodic-identification",
   "metadata": {
    "execution": {
     "iopub.execute_input": "2021-11-10T00:00:09.475007Z",
     "iopub.status.busy": "2021-11-10T00:00:09.472735Z",
     "iopub.status.idle": "2021-11-10T00:00:09.509604Z",
     "shell.execute_reply": "2021-11-10T00:00:09.511325Z"
    },
    "papermill": {
     "duration": 0.076728,
     "end_time": "2021-11-10T00:00:09.512000",
     "exception": false,
     "start_time": "2021-11-10T00:00:09.435272",
     "status": "completed"
    },
    "tags": []
   },
   "outputs": [
    {
     "data": {
      "text/html": [
       "<div>\n",
       "<style scoped>\n",
       "    .dataframe tbody tr th:only-of-type {\n",
       "        vertical-align: middle;\n",
       "    }\n",
       "\n",
       "    .dataframe tbody tr th {\n",
       "        vertical-align: top;\n",
       "    }\n",
       "\n",
       "    .dataframe thead th {\n",
       "        text-align: right;\n",
       "    }\n",
       "</style>\n",
       "<table border=\"1\" class=\"dataframe\">\n",
       "  <thead>\n",
       "    <tr style=\"text-align: right;\">\n",
       "      <th></th>\n",
       "      <th>RECORD_TIME</th>\n",
       "    </tr>\n",
       "  </thead>\n",
       "  <tbody>\n",
       "    <tr>\n",
       "      <th>0</th>\n",
       "      <td>2021-11-10 01:00</td>\n",
       "    </tr>\n",
       "    <tr>\n",
       "      <th>1</th>\n",
       "      <td>2021-11-10 00:30</td>\n",
       "    </tr>\n",
       "  </tbody>\n",
       "</table>\n",
       "</div>"
      ],
      "text/plain": [
       "        RECORD_TIME\n",
       "0  2021-11-10 01:00\n",
       "1  2021-11-10 00:30"
      ]
     },
     "execution_count": 3,
     "metadata": {},
     "output_type": "execute_result"
    }
   ],
   "source": [
    "timestamps"
   ]
  },
  {
   "cell_type": "code",
   "execution_count": 4,
   "id": "alternate-victory",
   "metadata": {
    "execution": {
     "iopub.execute_input": "2021-11-10T00:00:09.561525Z",
     "iopub.status.busy": "2021-11-10T00:00:09.559579Z",
     "iopub.status.idle": "2021-11-10T00:00:10.689685Z",
     "shell.execute_reply": "2021-11-10T00:00:10.691159Z"
    },
    "papermill": {
     "duration": 1.160114,
     "end_time": "2021-11-10T00:00:10.691651",
     "exception": false,
     "start_time": "2021-11-10T00:00:09.531537",
     "status": "completed"
    },
    "tags": []
   },
   "outputs": [],
   "source": [
    "df = pd.read_sql(\"select * from EBAY_TOP_BERLIN where record_time in (select distinct record_time from EBAY_TOP_BERLIN order by record_time desc limit 2)\", sqlite3.connect(\"UsedObjects.db\"))"
   ]
  },
  {
   "cell_type": "code",
   "execution_count": 5,
   "id": "popular-active",
   "metadata": {
    "execution": {
     "iopub.execute_input": "2021-11-10T00:00:10.768025Z",
     "iopub.status.busy": "2021-11-10T00:00:10.755745Z",
     "iopub.status.idle": "2021-11-10T00:00:10.786215Z",
     "shell.execute_reply": "2021-11-10T00:00:10.787817Z"
    },
    "papermill": {
     "duration": 0.074744,
     "end_time": "2021-11-10T00:00:10.788353",
     "exception": false,
     "start_time": "2021-11-10T00:00:10.713609",
     "status": "completed"
    },
    "tags": []
   },
   "outputs": [],
   "source": [
    "df_pivot = df.pivot_table(index=\"PRODUCT\", columns = \"RECORD_TIME\", values = \"LISTING_COUNT\")"
   ]
  },
  {
   "cell_type": "code",
   "execution_count": 6,
   "id": "union-huntington",
   "metadata": {
    "execution": {
     "iopub.execute_input": "2021-11-10T00:00:10.850081Z",
     "iopub.status.busy": "2021-11-10T00:00:10.847778Z",
     "iopub.status.idle": "2021-11-10T00:00:10.853199Z",
     "shell.execute_reply": "2021-11-10T00:00:10.854457Z"
    },
    "papermill": {
     "duration": 0.046342,
     "end_time": "2021-11-10T00:00:10.854892",
     "exception": false,
     "start_time": "2021-11-10T00:00:10.808550",
     "status": "completed"
    },
    "tags": []
   },
   "outputs": [],
   "source": [
    "df_pivot.columns = [\"stamp_1\", \"stamp_2\"]\n",
    "df_pivot_diff = df_pivot.diff(axis=1)"
   ]
  },
  {
   "cell_type": "code",
   "execution_count": 7,
   "id": "fifth-motion",
   "metadata": {
    "execution": {
     "iopub.execute_input": "2021-11-10T00:00:10.915417Z",
     "iopub.status.busy": "2021-11-10T00:00:10.911436Z",
     "iopub.status.idle": "2021-11-10T00:00:12.592236Z",
     "shell.execute_reply": "2021-11-10T00:00:12.593618Z"
    },
    "papermill": {
     "duration": 1.717766,
     "end_time": "2021-11-10T00:00:12.594048",
     "exception": false,
     "start_time": "2021-11-10T00:00:10.876282",
     "status": "completed"
    },
    "tags": []
   },
   "outputs": [
    {
     "data": {
      "text/plain": [
       "<AxesSubplot:ylabel='PRODUCT'>"
      ]
     },
     "execution_count": 7,
     "metadata": {},
     "output_type": "execute_result"
    },
    {
     "data": {
      "image/png": "[encoded data removed]",
      "text/plain": [
       "<Figure size 432x288 with 1 Axes>"
      ]
     },
     "metadata": {
      "needs_background": "light"
     },
     "output_type": "display_data"
    }
   ],
   "source": [
    "df_pivot_diff.sort_values(\"stamp_2\", ascending = False)[\"stamp_2\"].head(10).plot.barh()"
   ]
  },
  {
   "cell_type": "code",
   "execution_count": null,
   "id": "extra-executive",
   "metadata": {
    "papermill": {
     "duration": 0.022124,
     "end_time": "2021-11-10T00:00:12.640870",
     "exception": false,
     "start_time": "2021-11-10T00:00:12.618746",
     "status": "completed"
    },
    "tags": []
   },
   "outputs": [],
   "source": []
  }
 ],
 "metadata": {
  "kernelspec": {
   "display_name": "Python 3",
   "language": "python",
   "name": "python3"
  },
  "language_info": {
   "codemirror_mode": {
    "name": "ipython",
    "version": 3
   },
   "file_extension": ".py",
   "mimetype": "text/x-python",
   "name": "python",
   "nbconvert_exporter": "python",
   "pygments_lexer": "ipython3",
   "version": "3.9.5"
  },
  "papermill": {
   "default_parameters": {},
   "duration": 8.454164,
   "end_time": "2021-11-10T00:00:13.283148",
   "environment_variables": {},
   "exception": null,
   "input_path": "eBay_Overview.ipynb",
   "output_path": "eBay_Overview.ipynb",
   "parameters": {},
   "start_time": "2021-11-10T00:00:04.828984",
   "version": "2.3.3"
  }
 },
 "nbformat": 4,
 "nbformat_minor": 5
}