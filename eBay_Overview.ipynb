{
 "cells": [
  {
   "cell_type": "code",
   "execution_count": 1,
   "id": "reverse-picking",
   "metadata": {
    "execution": {
     "iopub.execute_input": "2021-09-06T23:00:06.665498Z",
     "iopub.status.busy": "2021-09-06T23:00:06.663514Z",
     "iopub.status.idle": "2021-09-06T23:00:07.474249Z",
     "shell.execute_reply": "2021-09-06T23:00:07.475883Z"
    },
    "papermill": {
     "duration": 0.864297,
     "end_time": "2021-09-06T23:00:07.476547",
     "exception": false,
     "start_time": "2021-09-06T23:00:06.612250",
     "status": "completed"
    },
    "tags": []
   },
   "outputs": [],
   "source": [
    "import pandas as pd\n",
    "import sqlite3"
   ]
  },
  {
   "cell_type": "code",
   "execution_count": 2,
   "id": "innovative-syndrome",
   "metadata": {
    "execution": {
     "iopub.execute_input": "2021-09-06T23:00:07.528241Z",
     "iopub.status.busy": "2021-09-06T23:00:07.525819Z",
     "iopub.status.idle": "2021-09-06T23:00:07.752263Z",
     "shell.execute_reply": "2021-09-06T23:00:07.753569Z"
    },
    "papermill": {
     "duration": 0.256553,
     "end_time": "2021-09-06T23:00:07.753980",
     "exception": false,
     "start_time": "2021-09-06T23:00:07.497427",
     "status": "completed"
    },
    "tags": []
   },
   "outputs": [],
   "source": [
    "timestamps = pd.read_sql(\"select distinct record_time from EBAY_TOP_BERLIN order by record_time desc limit 2\", sqlite3.connect(\"UsedObjects.db\"))"
   ]
  },
  {
   "cell_type": "code",
   "execution_count": 3,
   "id": "periodic-identification",
   "metadata": {
    "execution": {
     "iopub.execute_input": "2021-09-06T23:00:07.821243Z",
     "iopub.status.busy": "2021-09-06T23:00:07.819084Z",
     "iopub.status.idle": "2021-09-06T23:00:07.841023Z",
     "shell.execute_reply": "2021-09-06T23:00:07.839564Z"
    },
    "papermill": {
     "duration": 0.06798,
     "end_time": "2021-09-06T23:00:07.841381",
     "exception": false,
     "start_time": "2021-09-06T23:00:07.773401",
     "status": "completed"
    },
    "tags": []
   },
   "outputs": [
    {
     "data": {
      "text/html": [
       "<div>\n",
       "<style scoped>\n",
       "    .dataframe tbody tr th:only-of-type {\n",
       "        vertical-align: middle;\n",
       "    }\n",
       "\n",
       "    .dataframe tbody tr th {\n",
       "        vertical-align: top;\n",
       "    }\n",
       "\n",
       "    .dataframe thead th {\n",
       "        text-align: right;\n",
       "    }\n",
       "</style>\n",
       "<table border=\"1\" class=\"dataframe\">\n",
       "  <thead>\n",
       "    <tr style=\"text-align: right;\">\n",
       "      <th></th>\n",
       "      <th>RECORD_TIME</th>\n",
       "    </tr>\n",
       "  </thead>\n",
       "  <tbody>\n",
       "    <tr>\n",
       "      <th>0</th>\n",
       "      <td>2021-09-07 01:00</td>\n",
       "    </tr>\n",
       "    <tr>\n",
       "      <th>1</th>\n",
       "      <td>2021-09-07 00:30</td>\n",
       "    </tr>\n",
       "  </tbody>\n",
       "</table>\n",
       "</div>"
      ],
      "text/plain": [
       "        RECORD_TIME\n",
       "0  2021-09-07 01:00\n",
       "1  2021-09-07 00:30"
      ]
     },
     "execution_count": 3,
     "metadata": {},
     "output_type": "execute_result"
    }
   ],
   "source": [
    "timestamps"
   ]
  },
  {
   "cell_type": "code",
   "execution_count": 4,
   "id": "alternate-victory",
   "metadata": {
    "execution": {
     "iopub.execute_input": "2021-09-06T23:00:07.893615Z",
     "iopub.status.busy": "2021-09-06T23:00:07.891295Z",
     "iopub.status.idle": "2021-09-06T23:00:08.227871Z",
     "shell.execute_reply": "2021-09-06T23:00:08.229286Z"
    },
    "papermill": {
     "duration": 0.36703,
     "end_time": "2021-09-06T23:00:08.229721",
     "exception": false,
     "start_time": "2021-09-06T23:00:07.862691",
     "status": "completed"
    },
    "tags": []
   },
   "outputs": [],
   "source": [
    "df = pd.read_sql(\"select * from EBAY_TOP_BERLIN where record_time in (select distinct record_time from EBAY_TOP_BERLIN order by record_time desc limit 2)\", sqlite3.connect(\"UsedObjects.db\"))"
   ]
  },
  {
   "cell_type": "code",
   "execution_count": 5,
   "id": "popular-active",
   "metadata": {
    "execution": {
     "iopub.execute_input": "2021-09-06T23:00:08.310772Z",
     "iopub.status.busy": "2021-09-06T23:00:08.299494Z",
     "iopub.status.idle": "2021-09-06T23:00:08.326445Z",
     "shell.execute_reply": "2021-09-06T23:00:08.327680Z"
    },
    "papermill": {
     "duration": 0.072096,
     "end_time": "2021-09-06T23:00:08.328100",
     "exception": false,
     "start_time": "2021-09-06T23:00:08.256004",
     "status": "completed"
    },
    "tags": []
   },
   "outputs": [],
   "source": [
    "df_pivot = df.pivot_table(index=\"PRODUCT\", columns = \"RECORD_TIME\", values = \"LISTING_COUNT\")"
   ]
  },
  {
   "cell_type": "code",
   "execution_count": 6,
   "id": "union-huntington",
   "metadata": {
    "execution": {
     "iopub.execute_input": "2021-09-06T23:00:08.386815Z",
     "iopub.status.busy": "2021-09-06T23:00:08.384506Z",
     "iopub.status.idle": "2021-09-06T23:00:08.391952Z",
     "shell.execute_reply": "2021-09-06T23:00:08.390461Z"
    },
    "papermill": {
     "duration": 0.041953,
     "end_time": "2021-09-06T23:00:08.392312",
     "exception": false,
     "start_time": "2021-09-06T23:00:08.350359",
     "status": "completed"
    },
    "tags": []
   },
   "outputs": [],
   "source": [
    "df_pivot.columns = [\"stamp_1\", \"stamp_2\"]\n",
    "df_pivot_diff = df_pivot.diff(axis=1)"
   ]
  },
  {
   "cell_type": "code",
   "execution_count": 7,
   "id": "fifth-motion",
   "metadata": {
    "execution": {
     "iopub.execute_input": "2021-09-06T23:00:08.446254Z",
     "iopub.status.busy": "2021-09-06T23:00:08.444011Z",
     "iopub.status.idle": "2021-09-06T23:00:09.940365Z",
     "shell.execute_reply": "2021-09-06T23:00:09.941667Z"
    },
    "papermill": {
     "duration": 1.529084,
     "end_time": "2021-09-06T23:00:09.942082",
     "exception": false,
     "start_time": "2021-09-06T23:00:08.412998",
     "status": "completed"
    },
    "tags": []
   },
   "outputs": [
    {
     "data": {
      "text/plain": [
       "<AxesSubplot:ylabel='PRODUCT'>"
      ]
     },
     "execution_count": 7,
     "metadata": {},
     "output_type": "execute_result"
    },
    {
     "data": {
      "image/png": "[encoded data removed]",
      "text/plain": [
       "<Figure size 432x288 with 1 Axes>"
      ]
     },
     "metadata": {
      "needs_background": "light"
     },
     "output_type": "display_data"
    }
   ],
   "source": [
    "df_pivot_diff.sort_values(\"stamp_2\", ascending = False)[\"stamp_2\"].head(10).plot.barh()"
   ]
  },
  {
   "cell_type": "code",
   "execution_count": null,
   "id": "extra-executive",
   "metadata": {
    "papermill": {
     "duration": 0.022209,
     "end_time": "2021-09-06T23:00:09.988117",
     "exception": false,
     "start_time": "2021-09-06T23:00:09.965908",
     "status": "completed"
    },
    "tags": []
   },
   "outputs": [],
   "source": []
  }
 ],
 "metadata": {
  "kernelspec": {
   "display_name": "Python 3",
   "language": "python",
   "name": "python3"
  },
  "language_info": {
   "codemirror_mode": {
    "name": "ipython",
    "version": 3
   },
   "file_extension": ".py",
   "mimetype": "text/x-python",
   "name": "python",
   "nbconvert_exporter": "python",
   "pygments_lexer": "ipython3",
   "version": "3.9.5"
  },
  "papermill": {
   "default_parameters": {},
   "duration": 6.435555,
   "end_time": "2021-09-06T23:00:10.629993",
   "environment_variables": {},
   "exception": null,
   "input_path": "eBay_Overview.ipynb",
   "output_path": "eBay_Overview.ipynb",
   "parameters": {},
   "start_time": "2021-09-06T23:00:04.194438",
   "version": "2.3.3"
  }
 },
 "nbformat": 4,
 "nbformat_minor": 5
}