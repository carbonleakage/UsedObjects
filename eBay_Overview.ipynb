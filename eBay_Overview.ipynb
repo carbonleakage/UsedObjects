{
 "cells": [
  {
   "cell_type": "code",
   "execution_count": 1,
   "id": "reverse-picking",
   "metadata": {
    "execution": {
     "iopub.execute_input": "2021-12-20T20:30:07.547687Z",
     "iopub.status.busy": "2021-12-20T20:30:07.545325Z",
     "iopub.status.idle": "2021-12-20T20:30:08.499642Z",
     "shell.execute_reply": "2021-12-20T20:30:08.501219Z"
    },
    "papermill": {
     "duration": 1.005723,
     "end_time": "2021-12-20T20:30:08.502167",
     "exception": false,
     "start_time": "2021-12-20T20:30:07.496444",
     "status": "completed"
    },
    "tags": []
   },
   "outputs": [],
   "source": [
    "import pandas as pd\n",
    "import sqlite3"
   ]
  },
  {
   "cell_type": "code",
   "execution_count": 2,
   "id": "innovative-syndrome",
   "metadata": {
    "execution": {
     "iopub.execute_input": "2021-12-20T20:30:08.567014Z",
     "iopub.status.busy": "2021-12-20T20:30:08.564623Z",
     "iopub.status.idle": "2021-12-20T20:30:09.707322Z",
     "shell.execute_reply": "2021-12-20T20:30:09.709363Z"
    },
    "papermill": {
     "duration": 1.177072,
     "end_time": "2021-12-20T20:30:09.709868",
     "exception": false,
     "start_time": "2021-12-20T20:30:08.532796",
     "status": "completed"
    },
    "tags": []
   },
   "outputs": [],
   "source": [
    "timestamps = pd.read_sql(\"select distinct record_time from EBAY_TOP_BERLIN order by record_time desc limit 2\", sqlite3.connect(\"UsedObjects.db\"))"
   ]
  },
  {
   "cell_type": "code",
   "execution_count": 3,
   "id": "periodic-identification",
   "metadata": {
    "execution": {
     "iopub.execute_input": "2021-12-20T20:30:09.783642Z",
     "iopub.status.busy": "2021-12-20T20:30:09.777760Z",
     "iopub.status.idle": "2021-12-20T20:30:09.801393Z",
     "shell.execute_reply": "2021-12-20T20:30:09.802867Z"
    },
    "papermill": {
     "duration": 0.072216,
     "end_time": "2021-12-20T20:30:09.803332",
     "exception": false,
     "start_time": "2021-12-20T20:30:09.731116",
     "status": "completed"
    },
    "tags": []
   },
   "outputs": [
    {
     "data": {
      "text/html": [
       "<div>\n",
       "<style scoped>\n",
       "    .dataframe tbody tr th:only-of-type {\n",
       "        vertical-align: middle;\n",
       "    }\n",
       "\n",
       "    .dataframe tbody tr th {\n",
       "        vertical-align: top;\n",
       "    }\n",
       "\n",
       "    .dataframe thead th {\n",
       "        text-align: right;\n",
       "    }\n",
       "</style>\n",
       "<table border=\"1\" class=\"dataframe\">\n",
       "  <thead>\n",
       "    <tr style=\"text-align: right;\">\n",
       "      <th></th>\n",
       "      <th>RECORD_TIME</th>\n",
       "    </tr>\n",
       "  </thead>\n",
       "  <tbody>\n",
       "    <tr>\n",
       "      <th>0</th>\n",
       "      <td>2021-12-20 21:30</td>\n",
       "    </tr>\n",
       "    <tr>\n",
       "      <th>1</th>\n",
       "      <td>2021-12-20 21:00</td>\n",
       "    </tr>\n",
       "  </tbody>\n",
       "</table>\n",
       "</div>"
      ],
      "text/plain": [
       "        RECORD_TIME\n",
       "0  2021-12-20 21:30\n",
       "1  2021-12-20 21:00"
      ]
     },
     "execution_count": 3,
     "metadata": {},
     "output_type": "execute_result"
    }
   ],
   "source": [
    "timestamps"
   ]
  },
  {
   "cell_type": "code",
   "execution_count": 4,
   "id": "alternate-victory",
   "metadata": {
    "execution": {
     "iopub.execute_input": "2021-12-20T20:30:09.863071Z",
     "iopub.status.busy": "2021-12-20T20:30:09.860910Z",
     "iopub.status.idle": "2021-12-20T20:30:11.555902Z",
     "shell.execute_reply": "2021-12-20T20:30:11.557511Z"
    },
    "papermill": {
     "duration": 1.732801,
     "end_time": "2021-12-20T20:30:11.558001",
     "exception": false,
     "start_time": "2021-12-20T20:30:09.825200",
     "status": "completed"
    },
    "tags": []
   },
   "outputs": [],
   "source": [
    "df = pd.read_sql(\"select * from EBAY_TOP_BERLIN where record_time in (select distinct record_time from EBAY_TOP_BERLIN order by record_time desc limit 2)\", sqlite3.connect(\"UsedObjects.db\"))"
   ]
  },
  {
   "cell_type": "code",
   "execution_count": 5,
   "id": "popular-active",
   "metadata": {
    "execution": {
     "iopub.execute_input": "2021-12-20T20:30:11.636244Z",
     "iopub.status.busy": "2021-12-20T20:30:11.621661Z",
     "iopub.status.idle": "2021-12-20T20:30:11.660583Z",
     "shell.execute_reply": "2021-12-20T20:30:11.662179Z"
    },
    "papermill": {
     "duration": 0.083627,
     "end_time": "2021-12-20T20:30:11.662686",
     "exception": false,
     "start_time": "2021-12-20T20:30:11.579059",
     "status": "completed"
    },
    "tags": []
   },
   "outputs": [],
   "source": [
    "df_pivot = df.pivot_table(index=\"PRODUCT\", columns = \"RECORD_TIME\", values = \"LISTING_COUNT\")"
   ]
  },
  {
   "cell_type": "code",
   "execution_count": 6,
   "id": "union-huntington",
   "metadata": {
    "execution": {
     "iopub.execute_input": "2021-12-20T20:30:11.723155Z",
     "iopub.status.busy": "2021-12-20T20:30:11.720917Z",
     "iopub.status.idle": "2021-12-20T20:30:11.726719Z",
     "shell.execute_reply": "2021-12-20T20:30:11.728079Z"
    },
    "papermill": {
     "duration": 0.044775,
     "end_time": "2021-12-20T20:30:11.728562",
     "exception": false,
     "start_time": "2021-12-20T20:30:11.683787",
     "status": "completed"
    },
    "tags": []
   },
   "outputs": [],
   "source": [
    "df_pivot.columns = [\"stamp_1\", \"stamp_2\"]\n",
    "df_pivot_diff = df_pivot.diff(axis=1)"
   ]
  },
  {
   "cell_type": "code",
   "execution_count": 7,
   "id": "fifth-motion",
   "metadata": {
    "execution": {
     "iopub.execute_input": "2021-12-20T20:30:11.785158Z",
     "iopub.status.busy": "2021-12-20T20:30:11.782372Z",
     "iopub.status.idle": "2021-12-20T20:30:13.773711Z",
     "shell.execute_reply": "2021-12-20T20:30:13.775024Z"
    },
    "papermill": {
     "duration": 2.026876,
     "end_time": "2021-12-20T20:30:13.775443",
     "exception": false,
     "start_time": "2021-12-20T20:30:11.748567",
     "status": "completed"
    },
    "tags": []
   },
   "outputs": [
    {
     "data": {
      "text/plain": [
       "<AxesSubplot:ylabel='PRODUCT'>"
      ]
     },
     "execution_count": 7,
     "metadata": {},
     "output_type": "execute_result"
    },
    {
     "data": {
      "image/png": "[encoded data removed]",
      "text/plain": [
       "<Figure size 432x288 with 1 Axes>"
      ]
     },
     "metadata": {
      "needs_background": "light"
     },
     "output_type": "display_data"
    }
   ],
   "source": [
    "df_pivot_diff.sort_values(\"stamp_2\", ascending = False)[\"stamp_2\"].head(10).plot.barh()"
   ]
  },
  {
   "cell_type": "code",
   "execution_count": null,
   "id": "extra-executive",
   "metadata": {
    "papermill": {
     "duration": 0.022271,
     "end_time": "2021-12-20T20:30:13.821817",
     "exception": false,
     "start_time": "2021-12-20T20:30:13.799546",
     "status": "completed"
    },
    "tags": []
   },
   "outputs": [],
   "source": []
  }
 ],
 "metadata": {
  "kernelspec": {
   "display_name": "Python 3",
   "language": "python",
   "name": "python3"
  },
  "language_info": {
   "codemirror_mode": {
    "name": "ipython",
    "version": 3
   },
   "file_extension": ".py",
   "mimetype": "text/x-python",
   "name": "python",
   "nbconvert_exporter": "python",
   "pygments_lexer": "ipython3",
   "version": "3.9.5"
  },
  "papermill": {
   "default_parameters": {},
   "duration": 9.717917,
   "end_time": "2021-12-20T20:30:14.464125",
   "environment_variables": {},
   "exception": null,
   "input_path": "eBay_Overview.ipynb",
   "output_path": "eBay_Overview.ipynb",
   "parameters": {},
   "start_time": "2021-12-20T20:30:04.746208",
   "version": "2.3.3"
  }
 },
 "nbformat": 4,
 "nbformat_minor": 5
}