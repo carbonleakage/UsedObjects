{
 "cells": [
  {
   "cell_type": "code",
   "execution_count": 1,
   "id": "reverse-picking",
   "metadata": {
    "execution": {
     "iopub.execute_input": "2021-08-10T10:00:04.527753Z",
     "iopub.status.busy": "2021-08-10T10:00:04.526991Z",
     "iopub.status.idle": "2021-08-10T10:00:05.127890Z",
     "shell.execute_reply": "2021-08-10T10:00:05.126672Z"
    },
    "papermill": {
     "duration": 0.621228,
     "end_time": "2021-08-10T10:00:05.128202",
     "exception": false,
     "start_time": "2021-08-10T10:00:04.506974",
     "status": "completed"
    },
    "tags": []
   },
   "outputs": [],
   "source": [
    "import pandas as pd\n",
    "import sqlite3"
   ]
  },
  {
   "cell_type": "code",
   "execution_count": 2,
   "id": "innovative-syndrome",
   "metadata": {
    "execution": {
     "iopub.execute_input": "2021-08-10T10:00:05.152625Z",
     "iopub.status.busy": "2021-08-10T10:00:05.151859Z",
     "iopub.status.idle": "2021-08-10T10:00:05.379786Z",
     "shell.execute_reply": "2021-08-10T10:00:05.379177Z"
    },
    "papermill": {
     "duration": 0.239981,
     "end_time": "2021-08-10T10:00:05.379946",
     "exception": false,
     "start_time": "2021-08-10T10:00:05.139965",
     "status": "completed"
    },
    "tags": []
   },
   "outputs": [],
   "source": [
    "timestamps = pd.read_sql(\"select distinct record_time from EBAY_TOP_BERLIN order by record_time desc limit 2\", sqlite3.connect(\"UsedObjects.db\"))"
   ]
  },
  {
   "cell_type": "code",
   "execution_count": 3,
   "id": "periodic-identification",
   "metadata": {
    "execution": {
     "iopub.execute_input": "2021-08-10T10:00:05.407217Z",
     "iopub.status.busy": "2021-08-10T10:00:05.406445Z",
     "iopub.status.idle": "2021-08-10T10:00:05.417674Z",
     "shell.execute_reply": "2021-08-10T10:00:05.417110Z"
    },
    "papermill": {
     "duration": 0.029868,
     "end_time": "2021-08-10T10:00:05.417822",
     "exception": false,
     "start_time": "2021-08-10T10:00:05.387954",
     "status": "completed"
    },
    "tags": []
   },
   "outputs": [
    {
     "data": {
      "text/html": [
       "<div>\n",
       "<style scoped>\n",
       "    .dataframe tbody tr th:only-of-type {\n",
       "        vertical-align: middle;\n",
       "    }\n",
       "\n",
       "    .dataframe tbody tr th {\n",
       "        vertical-align: top;\n",
       "    }\n",
       "\n",
       "    .dataframe thead th {\n",
       "        text-align: right;\n",
       "    }\n",
       "</style>\n",
       "<table border=\"1\" class=\"dataframe\">\n",
       "  <thead>\n",
       "    <tr style=\"text-align: right;\">\n",
       "      <th></th>\n",
       "      <th>RECORD_TIME</th>\n",
       "    </tr>\n",
       "  </thead>\n",
       "  <tbody>\n",
       "    <tr>\n",
       "      <th>0</th>\n",
       "      <td>2021-08-10 12:00</td>\n",
       "    </tr>\n",
       "    <tr>\n",
       "      <th>1</th>\n",
       "      <td>2021-08-10 11:30</td>\n",
       "    </tr>\n",
       "  </tbody>\n",
       "</table>\n",
       "</div>"
      ],
      "text/plain": [
       "        RECORD_TIME\n",
       "0  2021-08-10 12:00\n",
       "1  2021-08-10 11:30"
      ]
     },
     "execution_count": 3,
     "metadata": {},
     "output_type": "execute_result"
    }
   ],
   "source": [
    "timestamps"
   ]
  },
  {
   "cell_type": "code",
   "execution_count": 4,
   "id": "alternate-victory",
   "metadata": {
    "execution": {
     "iopub.execute_input": "2021-08-10T10:00:05.440338Z",
     "iopub.status.busy": "2021-08-10T10:00:05.439580Z",
     "iopub.status.idle": "2021-08-10T10:00:05.452646Z",
     "shell.execute_reply": "2021-08-10T10:00:05.452028Z"
    },
    "papermill": {
     "duration": 0.026727,
     "end_time": "2021-08-10T10:00:05.452809",
     "exception": false,
     "start_time": "2021-08-10T10:00:05.426082",
     "status": "completed"
    },
    "tags": []
   },
   "outputs": [],
   "source": [
    "df = pd.read_sql(\"select * from EBAY_TOP_BERLIN where record_time in (select distinct record_time from EBAY_TOP_BERLIN order by record_time desc limit 2)\", sqlite3.connect(\"UsedObjects.db\"))"
   ]
  },
  {
   "cell_type": "code",
   "execution_count": 5,
   "id": "popular-active",
   "metadata": {
    "execution": {
     "iopub.execute_input": "2021-08-10T10:00:05.483286Z",
     "iopub.status.busy": "2021-08-10T10:00:05.482510Z",
     "iopub.status.idle": "2021-08-10T10:00:05.500847Z",
     "shell.execute_reply": "2021-08-10T10:00:05.500203Z"
    },
    "papermill": {
     "duration": 0.037464,
     "end_time": "2021-08-10T10:00:05.501011",
     "exception": false,
     "start_time": "2021-08-10T10:00:05.463547",
     "status": "completed"
    },
    "tags": []
   },
   "outputs": [],
   "source": [
    "df_pivot = df.pivot_table(index=\"PRODUCT\", columns = \"RECORD_TIME\", values = \"LISTING_COUNT\")"
   ]
  },
  {
   "cell_type": "code",
   "execution_count": 6,
   "id": "union-huntington",
   "metadata": {
    "execution": {
     "iopub.execute_input": "2021-08-10T10:00:05.536070Z",
     "iopub.status.busy": "2021-08-10T10:00:05.535205Z",
     "iopub.status.idle": "2021-08-10T10:00:05.542355Z",
     "shell.execute_reply": "2021-08-10T10:00:05.541738Z"
    },
    "papermill": {
     "duration": 0.032537,
     "end_time": "2021-08-10T10:00:05.542517",
     "exception": false,
     "start_time": "2021-08-10T10:00:05.509980",
     "status": "completed"
    },
    "tags": []
   },
   "outputs": [],
   "source": [
    "df_pivot.columns = [\"stamp_1\", \"stamp_2\"]\n",
    "df_pivot_diff = df_pivot.diff(axis=1)"
   ]
  },
  {
   "cell_type": "code",
   "execution_count": 7,
   "id": "fifth-motion",
   "metadata": {
    "execution": {
     "iopub.execute_input": "2021-08-10T10:00:05.572818Z",
     "iopub.status.busy": "2021-08-10T10:00:05.572058Z",
     "iopub.status.idle": "2021-08-10T10:00:06.377105Z",
     "shell.execute_reply": "2021-08-10T10:00:06.377633Z"
    },
    "papermill": {
     "duration": 0.82686,
     "end_time": "2021-08-10T10:00:06.377811",
     "exception": false,
     "start_time": "2021-08-10T10:00:05.550951",
     "status": "completed"
    },
    "tags": []
   },
   "outputs": [
    {
     "data": {
      "text/plain": [
       "<AxesSubplot:ylabel='PRODUCT'>"
      ]
     },
     "execution_count": 7,
     "metadata": {},
     "output_type": "execute_result"
    },
    {
     "data": {
      "image/png": "[encoded data removed]",
      "text/plain": [
       "<Figure size 432x288 with 1 Axes>"
      ]
     },
     "metadata": {
      "needs_background": "light"
     },
     "output_type": "display_data"
    }
   ],
   "source": [
    "df_pivot_diff.sort_values(\"stamp_2\", ascending = False)[\"stamp_2\"].head(10).plot.barh()"
   ]
  },
  {
   "cell_type": "code",
   "execution_count": null,
   "id": "extra-executive",
   "metadata": {
    "papermill": {
     "duration": 0.009217,
     "end_time": "2021-08-10T10:00:06.396657",
     "exception": false,
     "start_time": "2021-08-10T10:00:06.387440",
     "status": "completed"
    },
    "tags": []
   },
   "outputs": [],
   "source": []
  }
 ],
 "metadata": {
  "kernelspec": {
   "display_name": "Python 3",
   "language": "python",
   "name": "python3"
  },
  "language_info": {
   "codemirror_mode": {
    "name": "ipython",
    "version": 3
   },
   "file_extension": ".py",
   "mimetype": "text/x-python",
   "name": "python",
   "nbconvert_exporter": "python",
   "pygments_lexer": "ipython3",
   "version": "3.8.8"
  },
  "papermill": {
   "default_parameters": {},
   "duration": 4.383878,
   "end_time": "2021-08-10T10:00:07.147381",
   "environment_variables": {},
   "exception": null,
   "input_path": "/Users/saravananshanmugam/Carbonleakage_Git/UsedObjects/eBay_Overview.ipynb",
   "output_path": "/Users/saravananshanmugam/Carbonleakage_Git/UsedObjects/eBay_Overview.ipynb",
   "parameters": {},
   "start_time": "2021-08-10T10:00:02.763503",
   "version": "2.3.3"
  }
 },
 "nbformat": 4,
 "nbformat_minor": 5
}