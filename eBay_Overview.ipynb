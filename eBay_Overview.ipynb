{
 "cells": [
  {
   "cell_type": "code",
   "execution_count": 1,
   "id": "reverse-picking",
   "metadata": {
    "execution": {
     "iopub.execute_input": "2021-12-02T00:00:07.997972Z",
     "iopub.status.busy": "2021-12-02T00:00:07.995447Z",
     "iopub.status.idle": "2021-12-02T00:00:08.921649Z",
     "shell.execute_reply": "2021-12-02T00:00:08.923243Z"
    },
    "papermill": {
     "duration": 0.967755,
     "end_time": "2021-12-02T00:00:08.924646",
     "exception": false,
     "start_time": "2021-12-02T00:00:07.956891",
     "status": "completed"
    },
    "tags": []
   },
   "outputs": [],
   "source": [
    "import pandas as pd\n",
    "import sqlite3"
   ]
  },
  {
   "cell_type": "code",
   "execution_count": 2,
   "id": "innovative-syndrome",
   "metadata": {
    "execution": {
     "iopub.execute_input": "2021-12-02T00:00:08.993087Z",
     "iopub.status.busy": "2021-12-02T00:00:08.990785Z",
     "iopub.status.idle": "2021-12-02T00:00:09.938635Z",
     "shell.execute_reply": "2021-12-02T00:00:09.940161Z"
    },
    "papermill": {
     "duration": 0.98134,
     "end_time": "2021-12-02T00:00:09.940639",
     "exception": false,
     "start_time": "2021-12-02T00:00:08.959299",
     "status": "completed"
    },
    "tags": []
   },
   "outputs": [],
   "source": [
    "timestamps = pd.read_sql(\"select distinct record_time from EBAY_TOP_BERLIN order by record_time desc limit 2\", sqlite3.connect(\"UsedObjects.db\"))"
   ]
  },
  {
   "cell_type": "code",
   "execution_count": 3,
   "id": "periodic-identification",
   "metadata": {
    "execution": {
     "iopub.execute_input": "2021-12-02T00:00:10.015439Z",
     "iopub.status.busy": "2021-12-02T00:00:10.010155Z",
     "iopub.status.idle": "2021-12-02T00:00:10.035122Z",
     "shell.execute_reply": "2021-12-02T00:00:10.036866Z"
    },
    "papermill": {
     "duration": 0.076552,
     "end_time": "2021-12-02T00:00:10.037701",
     "exception": false,
     "start_time": "2021-12-02T00:00:09.961149",
     "status": "completed"
    },
    "tags": []
   },
   "outputs": [
    {
     "data": {
      "text/html": [
       "<div>\n",
       "<style scoped>\n",
       "    .dataframe tbody tr th:only-of-type {\n",
       "        vertical-align: middle;\n",
       "    }\n",
       "\n",
       "    .dataframe tbody tr th {\n",
       "        vertical-align: top;\n",
       "    }\n",
       "\n",
       "    .dataframe thead th {\n",
       "        text-align: right;\n",
       "    }\n",
       "</style>\n",
       "<table border=\"1\" class=\"dataframe\">\n",
       "  <thead>\n",
       "    <tr style=\"text-align: right;\">\n",
       "      <th></th>\n",
       "      <th>RECORD_TIME</th>\n",
       "    </tr>\n",
       "  </thead>\n",
       "  <tbody>\n",
       "    <tr>\n",
       "      <th>0</th>\n",
       "      <td>2021-12-02 01:00</td>\n",
       "    </tr>\n",
       "    <tr>\n",
       "      <th>1</th>\n",
       "      <td>2021-12-02 00:30</td>\n",
       "    </tr>\n",
       "  </tbody>\n",
       "</table>\n",
       "</div>"
      ],
      "text/plain": [
       "        RECORD_TIME\n",
       "0  2021-12-02 01:00\n",
       "1  2021-12-02 00:30"
      ]
     },
     "execution_count": 3,
     "metadata": {},
     "output_type": "execute_result"
    }
   ],
   "source": [
    "timestamps"
   ]
  },
  {
   "cell_type": "code",
   "execution_count": 4,
   "id": "alternate-victory",
   "metadata": {
    "execution": {
     "iopub.execute_input": "2021-12-02T00:00:10.089241Z",
     "iopub.status.busy": "2021-12-02T00:00:10.087253Z",
     "iopub.status.idle": "2021-12-02T00:00:11.461686Z",
     "shell.execute_reply": "2021-12-02T00:00:11.463311Z"
    },
    "papermill": {
     "duration": 1.404834,
     "end_time": "2021-12-02T00:00:11.463815",
     "exception": false,
     "start_time": "2021-12-02T00:00:10.058981",
     "status": "completed"
    },
    "tags": []
   },
   "outputs": [],
   "source": [
    "df = pd.read_sql(\"select * from EBAY_TOP_BERLIN where record_time in (select distinct record_time from EBAY_TOP_BERLIN order by record_time desc limit 2)\", sqlite3.connect(\"UsedObjects.db\"))"
   ]
  },
  {
   "cell_type": "code",
   "execution_count": 5,
   "id": "popular-active",
   "metadata": {
    "execution": {
     "iopub.execute_input": "2021-12-02T00:00:11.540008Z",
     "iopub.status.busy": "2021-12-02T00:00:11.532219Z",
     "iopub.status.idle": "2021-12-02T00:00:11.557621Z",
     "shell.execute_reply": "2021-12-02T00:00:11.558981Z"
    },
    "papermill": {
     "duration": 0.07355,
     "end_time": "2021-12-02T00:00:11.559455",
     "exception": false,
     "start_time": "2021-12-02T00:00:11.485905",
     "status": "completed"
    },
    "tags": []
   },
   "outputs": [],
   "source": [
    "df_pivot = df.pivot_table(index=\"PRODUCT\", columns = \"RECORD_TIME\", values = \"LISTING_COUNT\")"
   ]
  },
  {
   "cell_type": "code",
   "execution_count": 6,
   "id": "union-huntington",
   "metadata": {
    "execution": {
     "iopub.execute_input": "2021-12-02T00:00:11.621845Z",
     "iopub.status.busy": "2021-12-02T00:00:11.619455Z",
     "iopub.status.idle": "2021-12-02T00:00:11.626218Z",
     "shell.execute_reply": "2021-12-02T00:00:11.627869Z"
    },
    "papermill": {
     "duration": 0.049486,
     "end_time": "2021-12-02T00:00:11.628384",
     "exception": false,
     "start_time": "2021-12-02T00:00:11.578898",
     "status": "completed"
    },
    "tags": []
   },
   "outputs": [],
   "source": [
    "df_pivot.columns = [\"stamp_1\", \"stamp_2\"]\n",
    "df_pivot_diff = df_pivot.diff(axis=1)"
   ]
  },
  {
   "cell_type": "code",
   "execution_count": 7,
   "id": "fifth-motion",
   "metadata": {
    "execution": {
     "iopub.execute_input": "2021-12-02T00:00:11.692433Z",
     "iopub.status.busy": "2021-12-02T00:00:11.689836Z",
     "iopub.status.idle": "2021-12-02T00:00:13.619983Z",
     "shell.execute_reply": "2021-12-02T00:00:13.622497Z"
    },
    "papermill": {
     "duration": 1.972978,
     "end_time": "2021-12-02T00:00:13.623221",
     "exception": false,
     "start_time": "2021-12-02T00:00:11.650243",
     "status": "completed"
    },
    "tags": []
   },
   "outputs": [
    {
     "data": {
      "text/plain": [
       "<AxesSubplot:ylabel='PRODUCT'>"
      ]
     },
     "execution_count": 7,
     "metadata": {},
     "output_type": "execute_result"
    },
    {
     "data": {
      "image/png": "[encoded data removed]",
      "text/plain": [
       "<Figure size 432x288 with 1 Axes>"
      ]
     },
     "metadata": {
      "needs_background": "light"
     },
     "output_type": "display_data"
    }
   ],
   "source": [
    "df_pivot_diff.sort_values(\"stamp_2\", ascending = False)[\"stamp_2\"].head(10).plot.barh()"
   ]
  },
  {
   "cell_type": "code",
   "execution_count": null,
   "id": "extra-executive",
   "metadata": {
    "papermill": {
     "duration": 0.027147,
     "end_time": "2021-12-02T00:00:13.680921",
     "exception": false,
     "start_time": "2021-12-02T00:00:13.653774",
     "status": "completed"
    },
    "tags": []
   },
   "outputs": [],
   "source": []
  }
 ],
 "metadata": {
  "kernelspec": {
   "display_name": "Python 3",
   "language": "python",
   "name": "python3"
  },
  "language_info": {
   "codemirror_mode": {
    "name": "ipython",
    "version": 3
   },
   "file_extension": ".py",
   "mimetype": "text/x-python",
   "name": "python",
   "nbconvert_exporter": "python",
   "pygments_lexer": "ipython3",
   "version": "3.9.5"
  },
  "papermill": {
   "default_parameters": {},
   "duration": 9.936337,
   "end_time": "2021-12-02T00:00:15.175371",
   "environment_variables": {},
   "exception": null,
   "input_path": "eBay_Overview.ipynb",
   "output_path": "eBay_Overview.ipynb",
   "parameters": {},
   "start_time": "2021-12-02T00:00:05.239034",
   "version": "2.3.3"
  }
 },
 "nbformat": 4,
 "nbformat_minor": 5
}