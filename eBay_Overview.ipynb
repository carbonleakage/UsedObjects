{
 "cells": [
  {
   "cell_type": "code",
   "execution_count": 1,
   "id": "reverse-picking",
   "metadata": {
    "execution": {
     "iopub.execute_input": "2021-09-26T07:30:06.786573Z",
     "iopub.status.busy": "2021-09-26T07:30:06.784657Z",
     "iopub.status.idle": "2021-09-26T07:30:07.591468Z",
     "shell.execute_reply": "2021-09-26T07:30:07.592821Z"
    },
    "papermill": {
     "duration": 0.85852,
     "end_time": "2021-09-26T07:30:07.593470",
     "exception": false,
     "start_time": "2021-09-26T07:30:06.734950",
     "status": "completed"
    },
    "tags": []
   },
   "outputs": [],
   "source": [
    "import pandas as pd\n",
    "import sqlite3"
   ]
  },
  {
   "cell_type": "code",
   "execution_count": 2,
   "id": "innovative-syndrome",
   "metadata": {
    "execution": {
     "iopub.execute_input": "2021-09-26T07:30:07.644431Z",
     "iopub.status.busy": "2021-09-26T07:30:07.642416Z",
     "iopub.status.idle": "2021-09-26T07:30:08.017708Z",
     "shell.execute_reply": "2021-09-26T07:30:08.019058Z"
    },
    "papermill": {
     "duration": 0.404787,
     "end_time": "2021-09-26T07:30:08.019525",
     "exception": false,
     "start_time": "2021-09-26T07:30:07.614738",
     "status": "completed"
    },
    "tags": []
   },
   "outputs": [],
   "source": [
    "timestamps = pd.read_sql(\"select distinct record_time from EBAY_TOP_BERLIN order by record_time desc limit 2\", sqlite3.connect(\"UsedObjects.db\"))"
   ]
  },
  {
   "cell_type": "code",
   "execution_count": 3,
   "id": "periodic-identification",
   "metadata": {
    "execution": {
     "iopub.execute_input": "2021-09-26T07:30:08.085678Z",
     "iopub.status.busy": "2021-09-26T07:30:08.083667Z",
     "iopub.status.idle": "2021-09-26T07:30:08.103597Z",
     "shell.execute_reply": "2021-09-26T07:30:08.104952Z"
    },
    "papermill": {
     "duration": 0.066301,
     "end_time": "2021-09-26T07:30:08.105365",
     "exception": false,
     "start_time": "2021-09-26T07:30:08.039064",
     "status": "completed"
    },
    "tags": []
   },
   "outputs": [
    {
     "data": {
      "text/html": [
       "<div>\n",
       "<style scoped>\n",
       "    .dataframe tbody tr th:only-of-type {\n",
       "        vertical-align: middle;\n",
       "    }\n",
       "\n",
       "    .dataframe tbody tr th {\n",
       "        vertical-align: top;\n",
       "    }\n",
       "\n",
       "    .dataframe thead th {\n",
       "        text-align: right;\n",
       "    }\n",
       "</style>\n",
       "<table border=\"1\" class=\"dataframe\">\n",
       "  <thead>\n",
       "    <tr style=\"text-align: right;\">\n",
       "      <th></th>\n",
       "      <th>RECORD_TIME</th>\n",
       "    </tr>\n",
       "  </thead>\n",
       "  <tbody>\n",
       "    <tr>\n",
       "      <th>0</th>\n",
       "      <td>2021-09-26 09:30</td>\n",
       "    </tr>\n",
       "    <tr>\n",
       "      <th>1</th>\n",
       "      <td>2021-09-26 09:00</td>\n",
       "    </tr>\n",
       "  </tbody>\n",
       "</table>\n",
       "</div>"
      ],
      "text/plain": [
       "        RECORD_TIME\n",
       "0  2021-09-26 09:30\n",
       "1  2021-09-26 09:00"
      ]
     },
     "execution_count": 3,
     "metadata": {},
     "output_type": "execute_result"
    }
   ],
   "source": [
    "timestamps"
   ]
  },
  {
   "cell_type": "code",
   "execution_count": 4,
   "id": "alternate-victory",
   "metadata": {
    "execution": {
     "iopub.execute_input": "2021-09-26T07:30:08.157655Z",
     "iopub.status.busy": "2021-09-26T07:30:08.155379Z",
     "iopub.status.idle": "2021-09-26T07:30:08.709183Z",
     "shell.execute_reply": "2021-09-26T07:30:08.710452Z"
    },
    "papermill": {
     "duration": 0.584212,
     "end_time": "2021-09-26T07:30:08.710909",
     "exception": false,
     "start_time": "2021-09-26T07:30:08.126697",
     "status": "completed"
    },
    "tags": []
   },
   "outputs": [],
   "source": [
    "df = pd.read_sql(\"select * from EBAY_TOP_BERLIN where record_time in (select distinct record_time from EBAY_TOP_BERLIN order by record_time desc limit 2)\", sqlite3.connect(\"UsedObjects.db\"))"
   ]
  },
  {
   "cell_type": "code",
   "execution_count": 5,
   "id": "popular-active",
   "metadata": {
    "execution": {
     "iopub.execute_input": "2021-09-26T07:30:08.775404Z",
     "iopub.status.busy": "2021-09-26T07:30:08.769103Z",
     "iopub.status.idle": "2021-09-26T07:30:08.797513Z",
     "shell.execute_reply": "2021-09-26T07:30:08.796218Z"
    },
    "papermill": {
     "duration": 0.065607,
     "end_time": "2021-09-26T07:30:08.797844",
     "exception": false,
     "start_time": "2021-09-26T07:30:08.732237",
     "status": "completed"
    },
    "tags": []
   },
   "outputs": [],
   "source": [
    "df_pivot = df.pivot_table(index=\"PRODUCT\", columns = \"RECORD_TIME\", values = \"LISTING_COUNT\")"
   ]
  },
  {
   "cell_type": "code",
   "execution_count": 6,
   "id": "union-huntington",
   "metadata": {
    "execution": {
     "iopub.execute_input": "2021-09-26T07:30:08.858532Z",
     "iopub.status.busy": "2021-09-26T07:30:08.856115Z",
     "iopub.status.idle": "2021-09-26T07:30:08.861668Z",
     "shell.execute_reply": "2021-09-26T07:30:08.862995Z"
    },
    "papermill": {
     "duration": 0.042349,
     "end_time": "2021-09-26T07:30:08.863418",
     "exception": false,
     "start_time": "2021-09-26T07:30:08.821069",
     "status": "completed"
    },
    "tags": []
   },
   "outputs": [],
   "source": [
    "df_pivot.columns = [\"stamp_1\", \"stamp_2\"]\n",
    "df_pivot_diff = df_pivot.diff(axis=1)"
   ]
  },
  {
   "cell_type": "code",
   "execution_count": 7,
   "id": "fifth-motion",
   "metadata": {
    "execution": {
     "iopub.execute_input": "2021-09-26T07:30:08.917971Z",
     "iopub.status.busy": "2021-09-26T07:30:08.915696Z",
     "iopub.status.idle": "2021-09-26T07:30:10.403177Z",
     "shell.execute_reply": "2021-09-26T07:30:10.404543Z"
    },
    "papermill": {
     "duration": 1.520967,
     "end_time": "2021-09-26T07:30:10.404979",
     "exception": false,
     "start_time": "2021-09-26T07:30:08.884012",
     "status": "completed"
    },
    "tags": []
   },
   "outputs": [
    {
     "data": {
      "text/plain": [
       "<AxesSubplot:ylabel='PRODUCT'>"
      ]
     },
     "execution_count": 7,
     "metadata": {},
     "output_type": "execute_result"
    },
    {
     "data": {
      "image/png": "[encoded data removed]",
      "text/plain": [
       "<Figure size 432x288 with 1 Axes>"
      ]
     },
     "metadata": {
      "needs_background": "light"
     },
     "output_type": "display_data"
    }
   ],
   "source": [
    "df_pivot_diff.sort_values(\"stamp_2\", ascending = False)[\"stamp_2\"].head(10).plot.barh()"
   ]
  },
  {
   "cell_type": "code",
   "execution_count": null,
   "id": "extra-executive",
   "metadata": {
    "papermill": {
     "duration": 0.022149,
     "end_time": "2021-09-26T07:30:10.450776",
     "exception": false,
     "start_time": "2021-09-26T07:30:10.428627",
     "status": "completed"
    },
    "tags": []
   },
   "outputs": [],
   "source": []
  }
 ],
 "metadata": {
  "kernelspec": {
   "display_name": "Python 3",
   "language": "python",
   "name": "python3"
  },
  "language_info": {
   "codemirror_mode": {
    "name": "ipython",
    "version": 3
   },
   "file_extension": ".py",
   "mimetype": "text/x-python",
   "name": "python",
   "nbconvert_exporter": "python",
   "pygments_lexer": "ipython3",
   "version": "3.9.5"
  },
  "papermill": {
   "default_parameters": {},
   "duration": 6.761501,
   "end_time": "2021-09-26T07:30:11.094277",
   "environment_variables": {},
   "exception": null,
   "input_path": "eBay_Overview.ipynb",
   "output_path": "eBay_Overview.ipynb",
   "parameters": {},
   "start_time": "2021-09-26T07:30:04.332776",
   "version": "2.3.3"
  }
 },
 "nbformat": 4,
 "nbformat_minor": 5
}