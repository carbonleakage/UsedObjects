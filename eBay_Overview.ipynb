{
 "cells": [
  {
   "cell_type": "code",
   "execution_count": 1,
   "id": "reverse-picking",
   "metadata": {
    "execution": {
     "iopub.execute_input": "2021-12-13T03:00:07.608937Z",
     "iopub.status.busy": "2021-12-13T03:00:07.606968Z",
     "iopub.status.idle": "2021-12-13T03:00:08.567174Z",
     "shell.execute_reply": "2021-12-13T03:00:08.568950Z"
    },
    "papermill": {
     "duration": 1.008557,
     "end_time": "2021-12-13T03:00:08.569781",
     "exception": false,
     "start_time": "2021-12-13T03:00:07.561224",
     "status": "completed"
    },
    "tags": []
   },
   "outputs": [],
   "source": [
    "import pandas as pd\n",
    "import sqlite3"
   ]
  },
  {
   "cell_type": "code",
   "execution_count": 2,
   "id": "innovative-syndrome",
   "metadata": {
    "execution": {
     "iopub.execute_input": "2021-12-13T03:00:08.687111Z",
     "iopub.status.busy": "2021-12-13T03:00:08.684646Z",
     "iopub.status.idle": "2021-12-13T03:00:09.760200Z",
     "shell.execute_reply": "2021-12-13T03:00:09.761687Z"
    },
    "papermill": {
     "duration": 1.109773,
     "end_time": "2021-12-13T03:00:09.762186",
     "exception": false,
     "start_time": "2021-12-13T03:00:08.652413",
     "status": "completed"
    },
    "tags": []
   },
   "outputs": [],
   "source": [
    "timestamps = pd.read_sql(\"select distinct record_time from EBAY_TOP_BERLIN order by record_time desc limit 2\", sqlite3.connect(\"UsedObjects.db\"))"
   ]
  },
  {
   "cell_type": "code",
   "execution_count": 3,
   "id": "periodic-identification",
   "metadata": {
    "execution": {
     "iopub.execute_input": "2021-12-13T03:00:09.837028Z",
     "iopub.status.busy": "2021-12-13T03:00:09.834665Z",
     "iopub.status.idle": "2021-12-13T03:00:09.858171Z",
     "shell.execute_reply": "2021-12-13T03:00:09.859771Z"
    },
    "papermill": {
     "duration": 0.077656,
     "end_time": "2021-12-13T03:00:09.860281",
     "exception": false,
     "start_time": "2021-12-13T03:00:09.782625",
     "status": "completed"
    },
    "tags": []
   },
   "outputs": [
    {
     "data": {
      "text/html": [
       "<div>\n",
       "<style scoped>\n",
       "    .dataframe tbody tr th:only-of-type {\n",
       "        vertical-align: middle;\n",
       "    }\n",
       "\n",
       "    .dataframe tbody tr th {\n",
       "        vertical-align: top;\n",
       "    }\n",
       "\n",
       "    .dataframe thead th {\n",
       "        text-align: right;\n",
       "    }\n",
       "</style>\n",
       "<table border=\"1\" class=\"dataframe\">\n",
       "  <thead>\n",
       "    <tr style=\"text-align: right;\">\n",
       "      <th></th>\n",
       "      <th>RECORD_TIME</th>\n",
       "    </tr>\n",
       "  </thead>\n",
       "  <tbody>\n",
       "    <tr>\n",
       "      <th>0</th>\n",
       "      <td>2021-12-13 04:00</td>\n",
       "    </tr>\n",
       "    <tr>\n",
       "      <th>1</th>\n",
       "      <td>2021-12-13 03:30</td>\n",
       "    </tr>\n",
       "  </tbody>\n",
       "</table>\n",
       "</div>"
      ],
      "text/plain": [
       "        RECORD_TIME\n",
       "0  2021-12-13 04:00\n",
       "1  2021-12-13 03:30"
      ]
     },
     "execution_count": 3,
     "metadata": {},
     "output_type": "execute_result"
    }
   ],
   "source": [
    "timestamps"
   ]
  },
  {
   "cell_type": "code",
   "execution_count": 4,
   "id": "alternate-victory",
   "metadata": {
    "execution": {
     "iopub.execute_input": "2021-12-13T03:00:09.916379Z",
     "iopub.status.busy": "2021-12-13T03:00:09.914301Z",
     "iopub.status.idle": "2021-12-13T03:00:11.459433Z",
     "shell.execute_reply": "2021-12-13T03:00:11.461121Z"
    },
    "papermill": {
     "duration": 1.579603,
     "end_time": "2021-12-13T03:00:11.461669",
     "exception": false,
     "start_time": "2021-12-13T03:00:09.882066",
     "status": "completed"
    },
    "tags": []
   },
   "outputs": [],
   "source": [
    "df = pd.read_sql(\"select * from EBAY_TOP_BERLIN where record_time in (select distinct record_time from EBAY_TOP_BERLIN order by record_time desc limit 2)\", sqlite3.connect(\"UsedObjects.db\"))"
   ]
  },
  {
   "cell_type": "code",
   "execution_count": 5,
   "id": "popular-active",
   "metadata": {
    "execution": {
     "iopub.execute_input": "2021-12-13T03:00:11.540786Z",
     "iopub.status.busy": "2021-12-13T03:00:11.526690Z",
     "iopub.status.idle": "2021-12-13T03:00:11.562227Z",
     "shell.execute_reply": "2021-12-13T03:00:11.560436Z"
    },
    "papermill": {
     "duration": 0.079201,
     "end_time": "2021-12-13T03:00:11.562709",
     "exception": false,
     "start_time": "2021-12-13T03:00:11.483508",
     "status": "completed"
    },
    "tags": []
   },
   "outputs": [],
   "source": [
    "df_pivot = df.pivot_table(index=\"PRODUCT\", columns = \"RECORD_TIME\", values = \"LISTING_COUNT\")"
   ]
  },
  {
   "cell_type": "code",
   "execution_count": 6,
   "id": "union-huntington",
   "metadata": {
    "execution": {
     "iopub.execute_input": "2021-12-13T03:00:11.623292Z",
     "iopub.status.busy": "2021-12-13T03:00:11.621095Z",
     "iopub.status.idle": "2021-12-13T03:00:11.628235Z",
     "shell.execute_reply": "2021-12-13T03:00:11.626704Z"
    },
    "papermill": {
     "duration": 0.044315,
     "end_time": "2021-12-13T03:00:11.628636",
     "exception": false,
     "start_time": "2021-12-13T03:00:11.584321",
     "status": "completed"
    },
    "tags": []
   },
   "outputs": [],
   "source": [
    "df_pivot.columns = [\"stamp_1\", \"stamp_2\"]\n",
    "df_pivot_diff = df_pivot.diff(axis=1)"
   ]
  },
  {
   "cell_type": "code",
   "execution_count": 7,
   "id": "fifth-motion",
   "metadata": {
    "execution": {
     "iopub.execute_input": "2021-12-13T03:00:11.687080Z",
     "iopub.status.busy": "2021-12-13T03:00:11.683266Z",
     "iopub.status.idle": "2021-12-13T03:00:13.579002Z",
     "shell.execute_reply": "2021-12-13T03:00:13.580942Z"
    },
    "papermill": {
     "duration": 1.931729,
     "end_time": "2021-12-13T03:00:13.581498",
     "exception": false,
     "start_time": "2021-12-13T03:00:11.649769",
     "status": "completed"
    },
    "tags": []
   },
   "outputs": [
    {
     "data": {
      "text/plain": [
       "<AxesSubplot:ylabel='PRODUCT'>"
      ]
     },
     "execution_count": 7,
     "metadata": {},
     "output_type": "execute_result"
    },
    {
     "data": {
      "image/png": "[encoded data removed]",
      "text/plain": [
       "<Figure size 432x288 with 1 Axes>"
      ]
     },
     "metadata": {
      "needs_background": "light"
     },
     "output_type": "display_data"
    }
   ],
   "source": [
    "df_pivot_diff.sort_values(\"stamp_2\", ascending = False)[\"stamp_2\"].head(10).plot.barh()"
   ]
  },
  {
   "cell_type": "code",
   "execution_count": null,
   "id": "extra-executive",
   "metadata": {
    "papermill": {
     "duration": 0.03749,
     "end_time": "2021-12-13T03:00:13.713560",
     "exception": false,
     "start_time": "2021-12-13T03:00:13.676070",
     "status": "completed"
    },
    "tags": []
   },
   "outputs": [],
   "source": []
  }
 ],
 "metadata": {
  "kernelspec": {
   "display_name": "Python 3",
   "language": "python",
   "name": "python3"
  },
  "language_info": {
   "codemirror_mode": {
    "name": "ipython",
    "version": 3
   },
   "file_extension": ".py",
   "mimetype": "text/x-python",
   "name": "python",
   "nbconvert_exporter": "python",
   "pygments_lexer": "ipython3",
   "version": "3.9.5"
  },
  "papermill": {
   "default_parameters": {},
   "duration": 9.863969,
   "end_time": "2021-12-13T03:00:14.582432",
   "environment_variables": {},
   "exception": null,
   "input_path": "eBay_Overview.ipynb",
   "output_path": "eBay_Overview.ipynb",
   "parameters": {},
   "start_time": "2021-12-13T03:00:04.718463",
   "version": "2.3.3"
  }
 },
 "nbformat": 4,
 "nbformat_minor": 5
}