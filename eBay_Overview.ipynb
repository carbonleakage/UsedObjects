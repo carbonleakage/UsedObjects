{
 "cells": [
  {
   "cell_type": "code",
   "execution_count": 1,
   "id": "reverse-picking",
   "metadata": {
    "execution": {
     "iopub.execute_input": "2021-12-14T18:00:08.967347Z",
     "iopub.status.busy": "2021-12-14T18:00:08.965131Z",
     "iopub.status.idle": "2021-12-14T18:00:11.062308Z",
     "shell.execute_reply": "2021-12-14T18:00:11.063822Z"
    },
    "papermill": {
     "duration": 2.145758,
     "end_time": "2021-12-14T18:00:11.064606",
     "exception": false,
     "start_time": "2021-12-14T18:00:08.918848",
     "status": "completed"
    },
    "tags": []
   },
   "outputs": [],
   "source": [
    "import pandas as pd\n",
    "import sqlite3"
   ]
  },
  {
   "cell_type": "code",
   "execution_count": 2,
   "id": "innovative-syndrome",
   "metadata": {
    "execution": {
     "iopub.execute_input": "2021-12-14T18:00:11.120453Z",
     "iopub.status.busy": "2021-12-14T18:00:11.118154Z",
     "iopub.status.idle": "2021-12-14T18:00:12.367400Z",
     "shell.execute_reply": "2021-12-14T18:00:12.368745Z"
    },
    "papermill": {
     "duration": 1.283751,
     "end_time": "2021-12-14T18:00:12.369218",
     "exception": false,
     "start_time": "2021-12-14T18:00:11.085467",
     "status": "completed"
    },
    "tags": []
   },
   "outputs": [],
   "source": [
    "timestamps = pd.read_sql(\"select distinct record_time from EBAY_TOP_BERLIN order by record_time desc limit 2\", sqlite3.connect(\"UsedObjects.db\"))"
   ]
  },
  {
   "cell_type": "code",
   "execution_count": 3,
   "id": "periodic-identification",
   "metadata": {
    "execution": {
     "iopub.execute_input": "2021-12-14T18:00:12.437584Z",
     "iopub.status.busy": "2021-12-14T18:00:12.435202Z",
     "iopub.status.idle": "2021-12-14T18:00:12.459800Z",
     "shell.execute_reply": "2021-12-14T18:00:12.461349Z"
    },
    "papermill": {
     "duration": 0.073096,
     "end_time": "2021-12-14T18:00:12.461857",
     "exception": false,
     "start_time": "2021-12-14T18:00:12.388761",
     "status": "completed"
    },
    "tags": []
   },
   "outputs": [
    {
     "data": {
      "text/html": [
       "<div>\n",
       "<style scoped>\n",
       "    .dataframe tbody tr th:only-of-type {\n",
       "        vertical-align: middle;\n",
       "    }\n",
       "\n",
       "    .dataframe tbody tr th {\n",
       "        vertical-align: top;\n",
       "    }\n",
       "\n",
       "    .dataframe thead th {\n",
       "        text-align: right;\n",
       "    }\n",
       "</style>\n",
       "<table border=\"1\" class=\"dataframe\">\n",
       "  <thead>\n",
       "    <tr style=\"text-align: right;\">\n",
       "      <th></th>\n",
       "      <th>RECORD_TIME</th>\n",
       "    </tr>\n",
       "  </thead>\n",
       "  <tbody>\n",
       "    <tr>\n",
       "      <th>0</th>\n",
       "      <td>2021-12-14 19:00</td>\n",
       "    </tr>\n",
       "    <tr>\n",
       "      <th>1</th>\n",
       "      <td>2021-12-14 18:30</td>\n",
       "    </tr>\n",
       "  </tbody>\n",
       "</table>\n",
       "</div>"
      ],
      "text/plain": [
       "        RECORD_TIME\n",
       "0  2021-12-14 19:00\n",
       "1  2021-12-14 18:30"
      ]
     },
     "execution_count": 3,
     "metadata": {},
     "output_type": "execute_result"
    }
   ],
   "source": [
    "timestamps"
   ]
  },
  {
   "cell_type": "code",
   "execution_count": 4,
   "id": "alternate-victory",
   "metadata": {
    "execution": {
     "iopub.execute_input": "2021-12-14T18:00:12.517599Z",
     "iopub.status.busy": "2021-12-14T18:00:12.515230Z",
     "iopub.status.idle": "2021-12-14T18:00:14.035502Z",
     "shell.execute_reply": "2021-12-14T18:00:14.037367Z"
    },
    "papermill": {
     "duration": 1.554978,
     "end_time": "2021-12-14T18:00:14.037934",
     "exception": false,
     "start_time": "2021-12-14T18:00:12.482956",
     "status": "completed"
    },
    "tags": []
   },
   "outputs": [],
   "source": [
    "df = pd.read_sql(\"select * from EBAY_TOP_BERLIN where record_time in (select distinct record_time from EBAY_TOP_BERLIN order by record_time desc limit 2)\", sqlite3.connect(\"UsedObjects.db\"))"
   ]
  },
  {
   "cell_type": "code",
   "execution_count": 5,
   "id": "popular-active",
   "metadata": {
    "execution": {
     "iopub.execute_input": "2021-12-14T18:00:14.132451Z",
     "iopub.status.busy": "2021-12-14T18:00:14.110605Z",
     "iopub.status.idle": "2021-12-14T18:00:14.174427Z",
     "shell.execute_reply": "2021-12-14T18:00:14.176101Z"
    },
    "papermill": {
     "duration": 0.118168,
     "end_time": "2021-12-14T18:00:14.176627",
     "exception": false,
     "start_time": "2021-12-14T18:00:14.058459",
     "status": "completed"
    },
    "tags": []
   },
   "outputs": [],
   "source": [
    "df_pivot = df.pivot_table(index=\"PRODUCT\", columns = \"RECORD_TIME\", values = \"LISTING_COUNT\")"
   ]
  },
  {
   "cell_type": "code",
   "execution_count": 6,
   "id": "union-huntington",
   "metadata": {
    "execution": {
     "iopub.execute_input": "2021-12-14T18:00:14.237925Z",
     "iopub.status.busy": "2021-12-14T18:00:14.235250Z",
     "iopub.status.idle": "2021-12-14T18:00:14.241553Z",
     "shell.execute_reply": "2021-12-14T18:00:14.242960Z"
    },
    "papermill": {
     "duration": 0.045834,
     "end_time": "2021-12-14T18:00:14.243456",
     "exception": false,
     "start_time": "2021-12-14T18:00:14.197622",
     "status": "completed"
    },
    "tags": []
   },
   "outputs": [],
   "source": [
    "df_pivot.columns = [\"stamp_1\", \"stamp_2\"]\n",
    "df_pivot_diff = df_pivot.diff(axis=1)"
   ]
  },
  {
   "cell_type": "code",
   "execution_count": 7,
   "id": "fifth-motion",
   "metadata": {
    "execution": {
     "iopub.execute_input": "2021-12-14T18:00:14.299520Z",
     "iopub.status.busy": "2021-12-14T18:00:14.297609Z",
     "iopub.status.idle": "2021-12-14T18:00:16.754020Z",
     "shell.execute_reply": "2021-12-14T18:00:16.755714Z"
    },
    "papermill": {
     "duration": 2.491867,
     "end_time": "2021-12-14T18:00:16.756323",
     "exception": false,
     "start_time": "2021-12-14T18:00:14.264456",
     "status": "completed"
    },
    "tags": []
   },
   "outputs": [
    {
     "data": {
      "text/plain": [
       "<AxesSubplot:ylabel='PRODUCT'>"
      ]
     },
     "execution_count": 7,
     "metadata": {},
     "output_type": "execute_result"
    },
    {
     "data": {
      "image/png": "[encoded data removed]",
      "text/plain": [
       "<Figure size 432x288 with 1 Axes>"
      ]
     },
     "metadata": {
      "needs_background": "light"
     },
     "output_type": "display_data"
    }
   ],
   "source": [
    "df_pivot_diff.sort_values(\"stamp_2\", ascending = False)[\"stamp_2\"].head(10).plot.barh()"
   ]
  },
  {
   "cell_type": "code",
   "execution_count": null,
   "id": "extra-executive",
   "metadata": {
    "papermill": {
     "duration": 0.022053,
     "end_time": "2021-12-14T18:00:16.805285",
     "exception": false,
     "start_time": "2021-12-14T18:00:16.783232",
     "status": "completed"
    },
    "tags": []
   },
   "outputs": [],
   "source": []
  }
 ],
 "metadata": {
  "kernelspec": {
   "display_name": "Python 3",
   "language": "python",
   "name": "python3"
  },
  "language_info": {
   "codemirror_mode": {
    "name": "ipython",
    "version": 3
   },
   "file_extension": ".py",
   "mimetype": "text/x-python",
   "name": "python",
   "nbconvert_exporter": "python",
   "pygments_lexer": "ipython3",
   "version": "3.9.5"
  },
  "papermill": {
   "default_parameters": {},
   "duration": 12.269464,
   "end_time": "2021-12-14T18:00:18.128105",
   "environment_variables": {},
   "exception": null,
   "input_path": "eBay_Overview.ipynb",
   "output_path": "eBay_Overview.ipynb",
   "parameters": {},
   "start_time": "2021-12-14T18:00:05.858641",
   "version": "2.3.3"
  }
 },
 "nbformat": 4,
 "nbformat_minor": 5
}