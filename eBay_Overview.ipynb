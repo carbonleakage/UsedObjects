{
 "cells": [
  {
   "cell_type": "code",
   "execution_count": 1,
   "id": "reverse-picking",
   "metadata": {
    "execution": {
     "iopub.execute_input": "2021-12-10T05:30:07.458033Z",
     "iopub.status.busy": "2021-12-10T05:30:07.455702Z",
     "iopub.status.idle": "2021-12-10T05:30:08.418542Z",
     "shell.execute_reply": "2021-12-10T05:30:08.420023Z"
    },
    "papermill": {
     "duration": 1.011468,
     "end_time": "2021-12-10T05:30:08.420801",
     "exception": false,
     "start_time": "2021-12-10T05:30:07.409333",
     "status": "completed"
    },
    "tags": []
   },
   "outputs": [],
   "source": [
    "import pandas as pd\n",
    "import sqlite3"
   ]
  },
  {
   "cell_type": "code",
   "execution_count": 2,
   "id": "innovative-syndrome",
   "metadata": {
    "execution": {
     "iopub.execute_input": "2021-12-10T05:30:08.485604Z",
     "iopub.status.busy": "2021-12-10T05:30:08.483110Z",
     "iopub.status.idle": "2021-12-10T05:30:09.528503Z",
     "shell.execute_reply": "2021-12-10T05:30:09.530043Z"
    },
    "papermill": {
     "duration": 1.079746,
     "end_time": "2021-12-10T05:30:09.530541",
     "exception": false,
     "start_time": "2021-12-10T05:30:08.450795",
     "status": "completed"
    },
    "tags": []
   },
   "outputs": [],
   "source": [
    "timestamps = pd.read_sql(\"select distinct record_time from EBAY_TOP_BERLIN order by record_time desc limit 2\", sqlite3.connect(\"UsedObjects.db\"))"
   ]
  },
  {
   "cell_type": "code",
   "execution_count": 3,
   "id": "periodic-identification",
   "metadata": {
    "execution": {
     "iopub.execute_input": "2021-12-10T05:30:09.604360Z",
     "iopub.status.busy": "2021-12-10T05:30:09.602078Z",
     "iopub.status.idle": "2021-12-10T05:30:09.625410Z",
     "shell.execute_reply": "2021-12-10T05:30:09.626952Z"
    },
    "papermill": {
     "duration": 0.076336,
     "end_time": "2021-12-10T05:30:09.627462",
     "exception": false,
     "start_time": "2021-12-10T05:30:09.551126",
     "status": "completed"
    },
    "tags": []
   },
   "outputs": [
    {
     "data": {
      "text/html": [
       "<div>\n",
       "<style scoped>\n",
       "    .dataframe tbody tr th:only-of-type {\n",
       "        vertical-align: middle;\n",
       "    }\n",
       "\n",
       "    .dataframe tbody tr th {\n",
       "        vertical-align: top;\n",
       "    }\n",
       "\n",
       "    .dataframe thead th {\n",
       "        text-align: right;\n",
       "    }\n",
       "</style>\n",
       "<table border=\"1\" class=\"dataframe\">\n",
       "  <thead>\n",
       "    <tr style=\"text-align: right;\">\n",
       "      <th></th>\n",
       "      <th>RECORD_TIME</th>\n",
       "    </tr>\n",
       "  </thead>\n",
       "  <tbody>\n",
       "    <tr>\n",
       "      <th>0</th>\n",
       "      <td>2021-12-10 06:30</td>\n",
       "    </tr>\n",
       "    <tr>\n",
       "      <th>1</th>\n",
       "      <td>2021-12-10 06:00</td>\n",
       "    </tr>\n",
       "  </tbody>\n",
       "</table>\n",
       "</div>"
      ],
      "text/plain": [
       "        RECORD_TIME\n",
       "0  2021-12-10 06:30\n",
       "1  2021-12-10 06:00"
      ]
     },
     "execution_count": 3,
     "metadata": {},
     "output_type": "execute_result"
    }
   ],
   "source": [
    "timestamps"
   ]
  },
  {
   "cell_type": "code",
   "execution_count": 4,
   "id": "alternate-victory",
   "metadata": {
    "execution": {
     "iopub.execute_input": "2021-12-10T05:30:09.684614Z",
     "iopub.status.busy": "2021-12-10T05:30:09.682483Z",
     "iopub.status.idle": "2021-12-10T05:30:11.199213Z",
     "shell.execute_reply": "2021-12-10T05:30:11.200677Z"
    },
    "papermill": {
     "duration": 1.550641,
     "end_time": "2021-12-10T05:30:11.201223",
     "exception": false,
     "start_time": "2021-12-10T05:30:09.650582",
     "status": "completed"
    },
    "tags": []
   },
   "outputs": [],
   "source": [
    "df = pd.read_sql(\"select * from EBAY_TOP_BERLIN where record_time in (select distinct record_time from EBAY_TOP_BERLIN order by record_time desc limit 2)\", sqlite3.connect(\"UsedObjects.db\"))"
   ]
  },
  {
   "cell_type": "code",
   "execution_count": 5,
   "id": "popular-active",
   "metadata": {
    "execution": {
     "iopub.execute_input": "2021-12-10T05:30:11.263808Z",
     "iopub.status.busy": "2021-12-10T05:30:11.261523Z",
     "iopub.status.idle": "2021-12-10T05:30:11.292154Z",
     "shell.execute_reply": "2021-12-10T05:30:11.293676Z"
    },
    "papermill": {
     "duration": 0.072298,
     "end_time": "2021-12-10T05:30:11.294152",
     "exception": false,
     "start_time": "2021-12-10T05:30:11.221854",
     "status": "completed"
    },
    "tags": []
   },
   "outputs": [],
   "source": [
    "df_pivot = df.pivot_table(index=\"PRODUCT\", columns = \"RECORD_TIME\", values = \"LISTING_COUNT\")"
   ]
  },
  {
   "cell_type": "code",
   "execution_count": 6,
   "id": "union-huntington",
   "metadata": {
    "execution": {
     "iopub.execute_input": "2021-12-10T05:30:11.353030Z",
     "iopub.status.busy": "2021-12-10T05:30:11.350770Z",
     "iopub.status.idle": "2021-12-10T05:30:11.356070Z",
     "shell.execute_reply": "2021-12-10T05:30:11.357571Z"
    },
    "papermill": {
     "duration": 0.043659,
     "end_time": "2021-12-10T05:30:11.358053",
     "exception": false,
     "start_time": "2021-12-10T05:30:11.314394",
     "status": "completed"
    },
    "tags": []
   },
   "outputs": [],
   "source": [
    "df_pivot.columns = [\"stamp_1\", \"stamp_2\"]\n",
    "df_pivot_diff = df_pivot.diff(axis=1)"
   ]
  },
  {
   "cell_type": "code",
   "execution_count": 7,
   "id": "fifth-motion",
   "metadata": {
    "execution": {
     "iopub.execute_input": "2021-12-10T05:30:11.432930Z",
     "iopub.status.busy": "2021-12-10T05:30:11.428502Z",
     "iopub.status.idle": "2021-12-10T05:30:13.345424Z",
     "shell.execute_reply": "2021-12-10T05:30:13.346891Z"
    },
    "papermill": {
     "duration": 1.967582,
     "end_time": "2021-12-10T05:30:13.347336",
     "exception": false,
     "start_time": "2021-12-10T05:30:11.379754",
     "status": "completed"
    },
    "tags": []
   },
   "outputs": [
    {
     "data": {
      "text/plain": [
       "<AxesSubplot:ylabel='PRODUCT'>"
      ]
     },
     "execution_count": 7,
     "metadata": {},
     "output_type": "execute_result"
    },
    {
     "data": {
      "image/png": "[encoded data removed]",
      "text/plain": [
       "<Figure size 432x288 with 1 Axes>"
      ]
     },
     "metadata": {
      "needs_background": "light"
     },
     "output_type": "display_data"
    }
   ],
   "source": [
    "df_pivot_diff.sort_values(\"stamp_2\", ascending = False)[\"stamp_2\"].head(10).plot.barh()"
   ]
  },
  {
   "cell_type": "code",
   "execution_count": null,
   "id": "extra-executive",
   "metadata": {
    "papermill": {
     "duration": 0.022165,
     "end_time": "2021-12-10T05:30:13.393939",
     "exception": false,
     "start_time": "2021-12-10T05:30:13.371774",
     "status": "completed"
    },
    "tags": []
   },
   "outputs": [],
   "source": []
  }
 ],
 "metadata": {
  "kernelspec": {
   "display_name": "Python 3",
   "language": "python",
   "name": "python3"
  },
  "language_info": {
   "codemirror_mode": {
    "name": "ipython",
    "version": 3
   },
   "file_extension": ".py",
   "mimetype": "text/x-python",
   "name": "python",
   "nbconvert_exporter": "python",
   "pygments_lexer": "ipython3",
   "version": "3.9.5"
  },
  "papermill": {
   "default_parameters": {},
   "duration": 9.933423,
   "end_time": "2021-12-10T05:30:14.619431",
   "environment_variables": {},
   "exception": null,
   "input_path": "eBay_Overview.ipynb",
   "output_path": "eBay_Overview.ipynb",
   "parameters": {},
   "start_time": "2021-12-10T05:30:04.686008",
   "version": "2.3.3"
  }
 },
 "nbformat": 4,
 "nbformat_minor": 5
}