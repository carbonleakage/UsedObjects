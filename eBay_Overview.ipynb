{
 "cells": [
  {
   "cell_type": "code",
   "execution_count": 1,
   "id": "reverse-picking",
   "metadata": {
    "execution": {
     "iopub.execute_input": "2021-08-26T01:00:06.932927Z",
     "iopub.status.busy": "2021-08-26T01:00:06.930931Z",
     "iopub.status.idle": "2021-08-26T01:00:07.736946Z",
     "shell.execute_reply": "2021-08-26T01:00:07.738279Z"
    },
    "papermill": {
     "duration": 0.858069,
     "end_time": "2021-08-26T01:00:07.738935",
     "exception": false,
     "start_time": "2021-08-26T01:00:06.880866",
     "status": "completed"
    },
    "tags": []
   },
   "outputs": [],
   "source": [
    "import pandas as pd\n",
    "import sqlite3"
   ]
  },
  {
   "cell_type": "code",
   "execution_count": 2,
   "id": "innovative-syndrome",
   "metadata": {
    "execution": {
     "iopub.execute_input": "2021-08-26T01:00:07.791012Z",
     "iopub.status.busy": "2021-08-26T01:00:07.789142Z",
     "iopub.status.idle": "2021-08-26T01:00:07.918479Z",
     "shell.execute_reply": "2021-08-26T01:00:07.919666Z"
    },
    "papermill": {
     "duration": 0.159073,
     "end_time": "2021-08-26T01:00:07.920061",
     "exception": false,
     "start_time": "2021-08-26T01:00:07.760988",
     "status": "completed"
    },
    "tags": []
   },
   "outputs": [],
   "source": [
    "timestamps = pd.read_sql(\"select distinct record_time from EBAY_TOP_BERLIN order by record_time desc limit 2\", sqlite3.connect(\"UsedObjects.db\"))"
   ]
  },
  {
   "cell_type": "code",
   "execution_count": 3,
   "id": "periodic-identification",
   "metadata": {
    "execution": {
     "iopub.execute_input": "2021-08-26T01:00:07.986353Z",
     "iopub.status.busy": "2021-08-26T01:00:07.984335Z",
     "iopub.status.idle": "2021-08-26T01:00:08.003972Z",
     "shell.execute_reply": "2021-08-26T01:00:08.005267Z"
    },
    "papermill": {
     "duration": 0.064346,
     "end_time": "2021-08-26T01:00:08.005668",
     "exception": false,
     "start_time": "2021-08-26T01:00:07.941322",
     "status": "completed"
    },
    "tags": []
   },
   "outputs": [
    {
     "data": {
      "text/html": [
       "<div>\n",
       "<style scoped>\n",
       "    .dataframe tbody tr th:only-of-type {\n",
       "        vertical-align: middle;\n",
       "    }\n",
       "\n",
       "    .dataframe tbody tr th {\n",
       "        vertical-align: top;\n",
       "    }\n",
       "\n",
       "    .dataframe thead th {\n",
       "        text-align: right;\n",
       "    }\n",
       "</style>\n",
       "<table border=\"1\" class=\"dataframe\">\n",
       "  <thead>\n",
       "    <tr style=\"text-align: right;\">\n",
       "      <th></th>\n",
       "      <th>RECORD_TIME</th>\n",
       "    </tr>\n",
       "  </thead>\n",
       "  <tbody>\n",
       "    <tr>\n",
       "      <th>0</th>\n",
       "      <td>2021-08-26 03:00</td>\n",
       "    </tr>\n",
       "    <tr>\n",
       "      <th>1</th>\n",
       "      <td>2021-08-26 02:30</td>\n",
       "    </tr>\n",
       "  </tbody>\n",
       "</table>\n",
       "</div>"
      ],
      "text/plain": [
       "        RECORD_TIME\n",
       "0  2021-08-26 03:00\n",
       "1  2021-08-26 02:30"
      ]
     },
     "execution_count": 3,
     "metadata": {},
     "output_type": "execute_result"
    }
   ],
   "source": [
    "timestamps"
   ]
  },
  {
   "cell_type": "code",
   "execution_count": 4,
   "id": "alternate-victory",
   "metadata": {
    "execution": {
     "iopub.execute_input": "2021-08-26T01:00:08.057663Z",
     "iopub.status.busy": "2021-08-26T01:00:08.055594Z",
     "iopub.status.idle": "2021-08-26T01:00:08.249455Z",
     "shell.execute_reply": "2021-08-26T01:00:08.247841Z"
    },
    "papermill": {
     "duration": 0.222919,
     "end_time": "2021-08-26T01:00:08.249885",
     "exception": false,
     "start_time": "2021-08-26T01:00:08.026966",
     "status": "completed"
    },
    "tags": []
   },
   "outputs": [],
   "source": [
    "df = pd.read_sql(\"select * from EBAY_TOP_BERLIN where record_time in (select distinct record_time from EBAY_TOP_BERLIN order by record_time desc limit 2)\", sqlite3.connect(\"UsedObjects.db\"))"
   ]
  },
  {
   "cell_type": "code",
   "execution_count": 5,
   "id": "popular-active",
   "metadata": {
    "execution": {
     "iopub.execute_input": "2021-08-26T01:00:08.317658Z",
     "iopub.status.busy": "2021-08-26T01:00:08.310059Z",
     "iopub.status.idle": "2021-08-26T01:00:08.338729Z",
     "shell.execute_reply": "2021-08-26T01:00:08.339928Z"
    },
    "papermill": {
     "duration": 0.06878,
     "end_time": "2021-08-26T01:00:08.340491",
     "exception": false,
     "start_time": "2021-08-26T01:00:08.271711",
     "status": "completed"
    },
    "tags": []
   },
   "outputs": [],
   "source": [
    "df_pivot = df.pivot_table(index=\"PRODUCT\", columns = \"RECORD_TIME\", values = \"LISTING_COUNT\")"
   ]
  },
  {
   "cell_type": "code",
   "execution_count": 6,
   "id": "union-huntington",
   "metadata": {
    "execution": {
     "iopub.execute_input": "2021-08-26T01:00:08.409402Z",
     "iopub.status.busy": "2021-08-26T01:00:08.406912Z",
     "iopub.status.idle": "2021-08-26T01:00:08.412951Z",
     "shell.execute_reply": "2021-08-26T01:00:08.414308Z"
    },
    "papermill": {
     "duration": 0.04624,
     "end_time": "2021-08-26T01:00:08.414729",
     "exception": false,
     "start_time": "2021-08-26T01:00:08.368489",
     "status": "completed"
    },
    "tags": []
   },
   "outputs": [],
   "source": [
    "df_pivot.columns = [\"stamp_1\", \"stamp_2\"]\n",
    "df_pivot_diff = df_pivot.diff(axis=1)"
   ]
  },
  {
   "cell_type": "code",
   "execution_count": 7,
   "id": "fifth-motion",
   "metadata": {
    "execution": {
     "iopub.execute_input": "2021-08-26T01:00:08.467890Z",
     "iopub.status.busy": "2021-08-26T01:00:08.465721Z",
     "iopub.status.idle": "2021-08-26T01:00:09.934393Z",
     "shell.execute_reply": "2021-08-26T01:00:09.935677Z"
    },
    "papermill": {
     "duration": 1.501387,
     "end_time": "2021-08-26T01:00:09.936097",
     "exception": false,
     "start_time": "2021-08-26T01:00:08.434710",
     "status": "completed"
    },
    "tags": []
   },
   "outputs": [
    {
     "data": {
      "text/plain": [
       "<AxesSubplot:ylabel='PRODUCT'>"
      ]
     },
     "execution_count": 7,
     "metadata": {},
     "output_type": "execute_result"
    },
    {
     "data": {
      "image/png": "[encoded data removed]",
      "text/plain": [
       "<Figure size 432x288 with 1 Axes>"
      ]
     },
     "metadata": {
      "needs_background": "light"
     },
     "output_type": "display_data"
    }
   ],
   "source": [
    "df_pivot_diff.sort_values(\"stamp_2\", ascending = False)[\"stamp_2\"].head(10).plot.barh()"
   ]
  },
  {
   "cell_type": "code",
   "execution_count": null,
   "id": "extra-executive",
   "metadata": {
    "papermill": {
     "duration": 0.022492,
     "end_time": "2021-08-26T01:00:09.983773",
     "exception": false,
     "start_time": "2021-08-26T01:00:09.961281",
     "status": "completed"
    },
    "tags": []
   },
   "outputs": [],
   "source": []
  }
 ],
 "metadata": {
  "kernelspec": {
   "display_name": "Python 3",
   "language": "python",
   "name": "python3"
  },
  "language_info": {
   "codemirror_mode": {
    "name": "ipython",
    "version": 3
   },
   "file_extension": ".py",
   "mimetype": "text/x-python",
   "name": "python",
   "nbconvert_exporter": "python",
   "pygments_lexer": "ipython3",
   "version": "3.9.5"
  },
  "papermill": {
   "default_parameters": {},
   "duration": 6.821979,
   "end_time": "2021-08-26T01:00:11.298627",
   "environment_variables": {},
   "exception": null,
   "input_path": "eBay_Overview.ipynb",
   "output_path": "eBay_Overview.ipynb",
   "parameters": {},
   "start_time": "2021-08-26T01:00:04.476648",
   "version": "2.3.3"
  }
 },
 "nbformat": 4,
 "nbformat_minor": 5
}