{
 "cells": [
  {
   "cell_type": "code",
   "execution_count": 1,
   "id": "reverse-picking",
   "metadata": {
    "execution": {
     "iopub.execute_input": "2021-11-12T20:30:07.293008Z",
     "iopub.status.busy": "2021-11-12T20:30:07.290607Z",
     "iopub.status.idle": "2021-11-12T20:30:08.252481Z",
     "shell.execute_reply": "2021-11-12T20:30:08.255090Z"
    },
    "papermill": {
     "duration": 1.01268,
     "end_time": "2021-11-12T20:30:08.256146",
     "exception": false,
     "start_time": "2021-11-12T20:30:07.243466",
     "status": "completed"
    },
    "tags": []
   },
   "outputs": [],
   "source": [
    "import pandas as pd\n",
    "import sqlite3"
   ]
  },
  {
   "cell_type": "code",
   "execution_count": 2,
   "id": "innovative-syndrome",
   "metadata": {
    "execution": {
     "iopub.execute_input": "2021-11-12T20:30:08.323091Z",
     "iopub.status.busy": "2021-11-12T20:30:08.320804Z",
     "iopub.status.idle": "2021-11-12T20:30:09.109542Z",
     "shell.execute_reply": "2021-11-12T20:30:09.111179Z"
    },
    "papermill": {
     "duration": 0.822576,
     "end_time": "2021-11-12T20:30:09.111705",
     "exception": false,
     "start_time": "2021-11-12T20:30:08.289129",
     "status": "completed"
    },
    "tags": []
   },
   "outputs": [],
   "source": [
    "timestamps = pd.read_sql(\"select distinct record_time from EBAY_TOP_BERLIN order by record_time desc limit 2\", sqlite3.connect(\"UsedObjects.db\"))"
   ]
  },
  {
   "cell_type": "code",
   "execution_count": 3,
   "id": "periodic-identification",
   "metadata": {
    "execution": {
     "iopub.execute_input": "2021-11-12T20:30:09.179730Z",
     "iopub.status.busy": "2021-11-12T20:30:09.177676Z",
     "iopub.status.idle": "2021-11-12T20:30:09.197753Z",
     "shell.execute_reply": "2021-11-12T20:30:09.199000Z"
    },
    "papermill": {
     "duration": 0.064312,
     "end_time": "2021-11-12T20:30:09.199436",
     "exception": false,
     "start_time": "2021-11-12T20:30:09.135124",
     "status": "completed"
    },
    "tags": []
   },
   "outputs": [
    {
     "data": {
      "text/html": [
       "<div>\n",
       "<style scoped>\n",
       "    .dataframe tbody tr th:only-of-type {\n",
       "        vertical-align: middle;\n",
       "    }\n",
       "\n",
       "    .dataframe tbody tr th {\n",
       "        vertical-align: top;\n",
       "    }\n",
       "\n",
       "    .dataframe thead th {\n",
       "        text-align: right;\n",
       "    }\n",
       "</style>\n",
       "<table border=\"1\" class=\"dataframe\">\n",
       "  <thead>\n",
       "    <tr style=\"text-align: right;\">\n",
       "      <th></th>\n",
       "      <th>RECORD_TIME</th>\n",
       "    </tr>\n",
       "  </thead>\n",
       "  <tbody>\n",
       "    <tr>\n",
       "      <th>0</th>\n",
       "      <td>2021-11-12 21:30</td>\n",
       "    </tr>\n",
       "    <tr>\n",
       "      <th>1</th>\n",
       "      <td>2021-11-12 21:00</td>\n",
       "    </tr>\n",
       "  </tbody>\n",
       "</table>\n",
       "</div>"
      ],
      "text/plain": [
       "        RECORD_TIME\n",
       "0  2021-11-12 21:30\n",
       "1  2021-11-12 21:00"
      ]
     },
     "execution_count": 3,
     "metadata": {},
     "output_type": "execute_result"
    }
   ],
   "source": [
    "timestamps"
   ]
  },
  {
   "cell_type": "code",
   "execution_count": 4,
   "id": "alternate-victory",
   "metadata": {
    "execution": {
     "iopub.execute_input": "2021-11-12T20:30:09.251627Z",
     "iopub.status.busy": "2021-11-12T20:30:09.249451Z",
     "iopub.status.idle": "2021-11-12T20:30:10.407369Z",
     "shell.execute_reply": "2021-11-12T20:30:10.409129Z"
    },
    "papermill": {
     "duration": 1.188911,
     "end_time": "2021-11-12T20:30:10.409655",
     "exception": false,
     "start_time": "2021-11-12T20:30:09.220744",
     "status": "completed"
    },
    "tags": []
   },
   "outputs": [],
   "source": [
    "df = pd.read_sql(\"select * from EBAY_TOP_BERLIN where record_time in (select distinct record_time from EBAY_TOP_BERLIN order by record_time desc limit 2)\", sqlite3.connect(\"UsedObjects.db\"))"
   ]
  },
  {
   "cell_type": "code",
   "execution_count": 5,
   "id": "popular-active",
   "metadata": {
    "execution": {
     "iopub.execute_input": "2021-11-12T20:30:10.490047Z",
     "iopub.status.busy": "2021-11-12T20:30:10.475248Z",
     "iopub.status.idle": "2021-11-12T20:30:10.509482Z",
     "shell.execute_reply": "2021-11-12T20:30:10.511172Z"
    },
    "papermill": {
     "duration": 0.07915,
     "end_time": "2021-11-12T20:30:10.511677",
     "exception": false,
     "start_time": "2021-11-12T20:30:10.432527",
     "status": "completed"
    },
    "tags": []
   },
   "outputs": [],
   "source": [
    "df_pivot = df.pivot_table(index=\"PRODUCT\", columns = \"RECORD_TIME\", values = \"LISTING_COUNT\")"
   ]
  },
  {
   "cell_type": "code",
   "execution_count": 6,
   "id": "union-huntington",
   "metadata": {
    "execution": {
     "iopub.execute_input": "2021-11-12T20:30:10.571663Z",
     "iopub.status.busy": "2021-11-12T20:30:10.569431Z",
     "iopub.status.idle": "2021-11-12T20:30:10.577247Z",
     "shell.execute_reply": "2021-11-12T20:30:10.575193Z"
    },
    "papermill": {
     "duration": 0.044375,
     "end_time": "2021-11-12T20:30:10.577674",
     "exception": false,
     "start_time": "2021-11-12T20:30:10.533299",
     "status": "completed"
    },
    "tags": []
   },
   "outputs": [],
   "source": [
    "df_pivot.columns = [\"stamp_1\", \"stamp_2\"]\n",
    "df_pivot_diff = df_pivot.diff(axis=1)"
   ]
  },
  {
   "cell_type": "code",
   "execution_count": 7,
   "id": "fifth-motion",
   "metadata": {
    "execution": {
     "iopub.execute_input": "2021-11-12T20:30:10.643807Z",
     "iopub.status.busy": "2021-11-12T20:30:10.631377Z",
     "iopub.status.idle": "2021-11-12T20:30:12.496111Z",
     "shell.execute_reply": "2021-11-12T20:30:12.497819Z"
    },
    "papermill": {
     "duration": 1.900156,
     "end_time": "2021-11-12T20:30:12.498376",
     "exception": false,
     "start_time": "2021-11-12T20:30:10.598220",
     "status": "completed"
    },
    "tags": []
   },
   "outputs": [
    {
     "data": {
      "text/plain": [
       "<AxesSubplot:ylabel='PRODUCT'>"
      ]
     },
     "execution_count": 7,
     "metadata": {},
     "output_type": "execute_result"
    },
    {
     "data": {
      "image/png": "[encoded data removed]",
      "text/plain": [
       "<Figure size 432x288 with 1 Axes>"
      ]
     },
     "metadata": {
      "needs_background": "light"
     },
     "output_type": "display_data"
    }
   ],
   "source": [
    "df_pivot_diff.sort_values(\"stamp_2\", ascending = False)[\"stamp_2\"].head(10).plot.barh()"
   ]
  },
  {
   "cell_type": "code",
   "execution_count": null,
   "id": "extra-executive",
   "metadata": {
    "papermill": {
     "duration": 0.035666,
     "end_time": "2021-11-12T20:30:12.569322",
     "exception": false,
     "start_time": "2021-11-12T20:30:12.533656",
     "status": "completed"
    },
    "tags": []
   },
   "outputs": [],
   "source": []
  }
 ],
 "metadata": {
  "kernelspec": {
   "display_name": "Python 3",
   "language": "python",
   "name": "python3"
  },
  "language_info": {
   "codemirror_mode": {
    "name": "ipython",
    "version": 3
   },
   "file_extension": ".py",
   "mimetype": "text/x-python",
   "name": "python",
   "nbconvert_exporter": "python",
   "pygments_lexer": "ipython3",
   "version": "3.9.5"
  },
  "papermill": {
   "default_parameters": {},
   "duration": 8.838325,
   "end_time": "2021-11-12T20:30:13.346442",
   "environment_variables": {},
   "exception": null,
   "input_path": "eBay_Overview.ipynb",
   "output_path": "eBay_Overview.ipynb",
   "parameters": {},
   "start_time": "2021-11-12T20:30:04.508117",
   "version": "2.3.3"
  }
 },
 "nbformat": 4,
 "nbformat_minor": 5
}