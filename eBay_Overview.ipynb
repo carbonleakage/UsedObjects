{
 "cells": [
  {
   "cell_type": "code",
   "execution_count": 1,
   "id": "reverse-picking",
   "metadata": {
    "execution": {
     "iopub.execute_input": "2021-09-25T20:00:07.541032Z",
     "iopub.status.busy": "2021-09-25T20:00:07.539116Z",
     "iopub.status.idle": "2021-09-25T20:00:08.344097Z",
     "shell.execute_reply": "2021-09-25T20:00:08.345338Z"
    },
    "papermill": {
     "duration": 0.858002,
     "end_time": "2021-09-25T20:00:08.345944",
     "exception": false,
     "start_time": "2021-09-25T20:00:07.487942",
     "status": "completed"
    },
    "tags": []
   },
   "outputs": [],
   "source": [
    "import pandas as pd\n",
    "import sqlite3"
   ]
  },
  {
   "cell_type": "code",
   "execution_count": 2,
   "id": "innovative-syndrome",
   "metadata": {
    "execution": {
     "iopub.execute_input": "2021-09-25T20:00:08.396073Z",
     "iopub.status.busy": "2021-09-25T20:00:08.394122Z",
     "iopub.status.idle": "2021-09-25T20:00:08.769296Z",
     "shell.execute_reply": "2021-09-25T20:00:08.767798Z"
    },
    "papermill": {
     "duration": 0.403111,
     "end_time": "2021-09-25T20:00:08.769664",
     "exception": false,
     "start_time": "2021-09-25T20:00:08.366553",
     "status": "completed"
    },
    "tags": []
   },
   "outputs": [],
   "source": [
    "timestamps = pd.read_sql(\"select distinct record_time from EBAY_TOP_BERLIN order by record_time desc limit 2\", sqlite3.connect(\"UsedObjects.db\"))"
   ]
  },
  {
   "cell_type": "code",
   "execution_count": 3,
   "id": "periodic-identification",
   "metadata": {
    "execution": {
     "iopub.execute_input": "2021-09-25T20:00:08.835552Z",
     "iopub.status.busy": "2021-09-25T20:00:08.833465Z",
     "iopub.status.idle": "2021-09-25T20:00:08.855541Z",
     "shell.execute_reply": "2021-09-25T20:00:08.856908Z"
    },
    "papermill": {
     "duration": 0.068428,
     "end_time": "2021-09-25T20:00:08.857379",
     "exception": false,
     "start_time": "2021-09-25T20:00:08.788951",
     "status": "completed"
    },
    "tags": []
   },
   "outputs": [
    {
     "data": {
      "text/html": [
       "<div>\n",
       "<style scoped>\n",
       "    .dataframe tbody tr th:only-of-type {\n",
       "        vertical-align: middle;\n",
       "    }\n",
       "\n",
       "    .dataframe tbody tr th {\n",
       "        vertical-align: top;\n",
       "    }\n",
       "\n",
       "    .dataframe thead th {\n",
       "        text-align: right;\n",
       "    }\n",
       "</style>\n",
       "<table border=\"1\" class=\"dataframe\">\n",
       "  <thead>\n",
       "    <tr style=\"text-align: right;\">\n",
       "      <th></th>\n",
       "      <th>RECORD_TIME</th>\n",
       "    </tr>\n",
       "  </thead>\n",
       "  <tbody>\n",
       "    <tr>\n",
       "      <th>0</th>\n",
       "      <td>2021-09-25 22:00</td>\n",
       "    </tr>\n",
       "    <tr>\n",
       "      <th>1</th>\n",
       "      <td>2021-09-25 21:30</td>\n",
       "    </tr>\n",
       "  </tbody>\n",
       "</table>\n",
       "</div>"
      ],
      "text/plain": [
       "        RECORD_TIME\n",
       "0  2021-09-25 22:00\n",
       "1  2021-09-25 21:30"
      ]
     },
     "execution_count": 3,
     "metadata": {},
     "output_type": "execute_result"
    }
   ],
   "source": [
    "timestamps"
   ]
  },
  {
   "cell_type": "code",
   "execution_count": 4,
   "id": "alternate-victory",
   "metadata": {
    "execution": {
     "iopub.execute_input": "2021-09-25T20:00:08.909583Z",
     "iopub.status.busy": "2021-09-25T20:00:08.907282Z",
     "iopub.status.idle": "2021-09-25T20:00:09.467768Z",
     "shell.execute_reply": "2021-09-25T20:00:09.469043Z"
    },
    "papermill": {
     "duration": 0.590015,
     "end_time": "2021-09-25T20:00:09.469436",
     "exception": false,
     "start_time": "2021-09-25T20:00:08.879421",
     "status": "completed"
    },
    "tags": []
   },
   "outputs": [],
   "source": [
    "df = pd.read_sql(\"select * from EBAY_TOP_BERLIN where record_time in (select distinct record_time from EBAY_TOP_BERLIN order by record_time desc limit 2)\", sqlite3.connect(\"UsedObjects.db\"))"
   ]
  },
  {
   "cell_type": "code",
   "execution_count": 5,
   "id": "popular-active",
   "metadata": {
    "execution": {
     "iopub.execute_input": "2021-09-25T20:00:09.551667Z",
     "iopub.status.busy": "2021-09-25T20:00:09.538942Z",
     "iopub.status.idle": "2021-09-25T20:00:09.567449Z",
     "shell.execute_reply": "2021-09-25T20:00:09.568664Z"
    },
    "papermill": {
     "duration": 0.07144,
     "end_time": "2021-09-25T20:00:09.569052",
     "exception": false,
     "start_time": "2021-09-25T20:00:09.497612",
     "status": "completed"
    },
    "tags": []
   },
   "outputs": [],
   "source": [
    "df_pivot = df.pivot_table(index=\"PRODUCT\", columns = \"RECORD_TIME\", values = \"LISTING_COUNT\")"
   ]
  },
  {
   "cell_type": "code",
   "execution_count": 6,
   "id": "union-huntington",
   "metadata": {
    "execution": {
     "iopub.execute_input": "2021-09-25T20:00:09.624460Z",
     "iopub.status.busy": "2021-09-25T20:00:09.622371Z",
     "iopub.status.idle": "2021-09-25T20:00:09.627695Z",
     "shell.execute_reply": "2021-09-25T20:00:09.628969Z"
    },
    "papermill": {
     "duration": 0.03987,
     "end_time": "2021-09-25T20:00:09.629380",
     "exception": false,
     "start_time": "2021-09-25T20:00:09.589510",
     "status": "completed"
    },
    "tags": []
   },
   "outputs": [],
   "source": [
    "df_pivot.columns = [\"stamp_1\", \"stamp_2\"]\n",
    "df_pivot_diff = df_pivot.diff(axis=1)"
   ]
  },
  {
   "cell_type": "code",
   "execution_count": 7,
   "id": "fifth-motion",
   "metadata": {
    "execution": {
     "iopub.execute_input": "2021-09-25T20:00:09.682952Z",
     "iopub.status.busy": "2021-09-25T20:00:09.680541Z",
     "iopub.status.idle": "2021-09-25T20:00:11.188519Z",
     "shell.execute_reply": "2021-09-25T20:00:11.189864Z"
    },
    "papermill": {
     "duration": 1.540754,
     "end_time": "2021-09-25T20:00:11.190294",
     "exception": false,
     "start_time": "2021-09-25T20:00:09.649540",
     "status": "completed"
    },
    "tags": []
   },
   "outputs": [
    {
     "data": {
      "text/plain": [
       "<AxesSubplot:ylabel='PRODUCT'>"
      ]
     },
     "execution_count": 7,
     "metadata": {},
     "output_type": "execute_result"
    },
    {
     "data": {
      "image/png": "[encoded data removed]",
      "text/plain": [
       "<Figure size 432x288 with 1 Axes>"
      ]
     },
     "metadata": {
      "needs_background": "light"
     },
     "output_type": "display_data"
    }
   ],
   "source": [
    "df_pivot_diff.sort_values(\"stamp_2\", ascending = False)[\"stamp_2\"].head(10).plot.barh()"
   ]
  },
  {
   "cell_type": "code",
   "execution_count": null,
   "id": "extra-executive",
   "metadata": {
    "papermill": {
     "duration": 0.022019,
     "end_time": "2021-09-25T20:00:11.236465",
     "exception": false,
     "start_time": "2021-09-25T20:00:11.214446",
     "status": "completed"
    },
    "tags": []
   },
   "outputs": [],
   "source": []
  }
 ],
 "metadata": {
  "kernelspec": {
   "display_name": "Python 3",
   "language": "python",
   "name": "python3"
  },
  "language_info": {
   "codemirror_mode": {
    "name": "ipython",
    "version": 3
   },
   "file_extension": ".py",
   "mimetype": "text/x-python",
   "name": "python",
   "nbconvert_exporter": "python",
   "pygments_lexer": "ipython3",
   "version": "3.9.5"
  },
  "papermill": {
   "default_parameters": {},
   "duration": 6.788015,
   "end_time": "2021-09-25T20:00:11.879726",
   "environment_variables": {},
   "exception": null,
   "input_path": "eBay_Overview.ipynb",
   "output_path": "eBay_Overview.ipynb",
   "parameters": {},
   "start_time": "2021-09-25T20:00:05.091711",
   "version": "2.3.3"
  }
 },
 "nbformat": 4,
 "nbformat_minor": 5
}