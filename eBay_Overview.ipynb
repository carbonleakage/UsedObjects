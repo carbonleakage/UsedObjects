{
 "cells": [
  {
   "cell_type": "code",
   "execution_count": 1,
   "id": "reverse-picking",
   "metadata": {
    "execution": {
     "iopub.execute_input": "2021-11-29T09:30:08.434628Z",
     "iopub.status.busy": "2021-11-29T09:30:08.432294Z",
     "iopub.status.idle": "2021-11-29T09:30:09.396351Z",
     "shell.execute_reply": "2021-11-29T09:30:09.394260Z"
    },
    "papermill": {
     "duration": 1.014909,
     "end_time": "2021-11-29T09:30:09.397164",
     "exception": false,
     "start_time": "2021-11-29T09:30:08.382255",
     "status": "completed"
    },
    "tags": []
   },
   "outputs": [],
   "source": [
    "import pandas as pd\n",
    "import sqlite3"
   ]
  },
  {
   "cell_type": "code",
   "execution_count": 2,
   "id": "innovative-syndrome",
   "metadata": {
    "execution": {
     "iopub.execute_input": "2021-11-29T09:30:09.453463Z",
     "iopub.status.busy": "2021-11-29T09:30:09.450782Z",
     "iopub.status.idle": "2021-11-29T09:30:10.410124Z",
     "shell.execute_reply": "2021-11-29T09:30:10.411497Z"
    },
    "papermill": {
     "duration": 0.991997,
     "end_time": "2021-11-29T09:30:10.411904",
     "exception": false,
     "start_time": "2021-11-29T09:30:09.419907",
     "status": "completed"
    },
    "tags": []
   },
   "outputs": [],
   "source": [
    "timestamps = pd.read_sql(\"select distinct record_time from EBAY_TOP_BERLIN order by record_time desc limit 2\", sqlite3.connect(\"UsedObjects.db\"))"
   ]
  },
  {
   "cell_type": "code",
   "execution_count": 3,
   "id": "periodic-identification",
   "metadata": {
    "execution": {
     "iopub.execute_input": "2021-11-29T09:30:10.485385Z",
     "iopub.status.busy": "2021-11-29T09:30:10.482953Z",
     "iopub.status.idle": "2021-11-29T09:30:10.505207Z",
     "shell.execute_reply": "2021-11-29T09:30:10.506754Z"
    },
    "papermill": {
     "duration": 0.073887,
     "end_time": "2021-11-29T09:30:10.507220",
     "exception": false,
     "start_time": "2021-11-29T09:30:10.433333",
     "status": "completed"
    },
    "tags": []
   },
   "outputs": [
    {
     "data": {
      "text/html": [
       "<div>\n",
       "<style scoped>\n",
       "    .dataframe tbody tr th:only-of-type {\n",
       "        vertical-align: middle;\n",
       "    }\n",
       "\n",
       "    .dataframe tbody tr th {\n",
       "        vertical-align: top;\n",
       "    }\n",
       "\n",
       "    .dataframe thead th {\n",
       "        text-align: right;\n",
       "    }\n",
       "</style>\n",
       "<table border=\"1\" class=\"dataframe\">\n",
       "  <thead>\n",
       "    <tr style=\"text-align: right;\">\n",
       "      <th></th>\n",
       "      <th>RECORD_TIME</th>\n",
       "    </tr>\n",
       "  </thead>\n",
       "  <tbody>\n",
       "    <tr>\n",
       "      <th>0</th>\n",
       "      <td>2021-11-29 10:30</td>\n",
       "    </tr>\n",
       "    <tr>\n",
       "      <th>1</th>\n",
       "      <td>2021-11-29 10:00</td>\n",
       "    </tr>\n",
       "  </tbody>\n",
       "</table>\n",
       "</div>"
      ],
      "text/plain": [
       "        RECORD_TIME\n",
       "0  2021-11-29 10:30\n",
       "1  2021-11-29 10:00"
      ]
     },
     "execution_count": 3,
     "metadata": {},
     "output_type": "execute_result"
    }
   ],
   "source": [
    "timestamps"
   ]
  },
  {
   "cell_type": "code",
   "execution_count": 4,
   "id": "alternate-victory",
   "metadata": {
    "execution": {
     "iopub.execute_input": "2021-11-29T09:30:10.563976Z",
     "iopub.status.busy": "2021-11-29T09:30:10.561665Z",
     "iopub.status.idle": "2021-11-29T09:30:11.925292Z",
     "shell.execute_reply": "2021-11-29T09:30:11.926770Z"
    },
    "papermill": {
     "duration": 1.398229,
     "end_time": "2021-11-29T09:30:11.927216",
     "exception": false,
     "start_time": "2021-11-29T09:30:10.528987",
     "status": "completed"
    },
    "tags": []
   },
   "outputs": [],
   "source": [
    "df = pd.read_sql(\"select * from EBAY_TOP_BERLIN where record_time in (select distinct record_time from EBAY_TOP_BERLIN order by record_time desc limit 2)\", sqlite3.connect(\"UsedObjects.db\"))"
   ]
  },
  {
   "cell_type": "code",
   "execution_count": 5,
   "id": "popular-active",
   "metadata": {
    "execution": {
     "iopub.execute_input": "2021-11-29T09:30:11.992578Z",
     "iopub.status.busy": "2021-11-29T09:30:11.990283Z",
     "iopub.status.idle": "2021-11-29T09:30:12.024510Z",
     "shell.execute_reply": "2021-11-29T09:30:12.025961Z"
    },
    "papermill": {
     "duration": 0.077295,
     "end_time": "2021-11-29T09:30:12.026447",
     "exception": false,
     "start_time": "2021-11-29T09:30:11.949152",
     "status": "completed"
    },
    "tags": []
   },
   "outputs": [],
   "source": [
    "df_pivot = df.pivot_table(index=\"PRODUCT\", columns = \"RECORD_TIME\", values = \"LISTING_COUNT\")"
   ]
  },
  {
   "cell_type": "code",
   "execution_count": 6,
   "id": "union-huntington",
   "metadata": {
    "execution": {
     "iopub.execute_input": "2021-11-29T09:30:12.086216Z",
     "iopub.status.busy": "2021-11-29T09:30:12.083960Z",
     "iopub.status.idle": "2021-11-29T09:30:12.088977Z",
     "shell.execute_reply": "2021-11-29T09:30:12.090804Z"
    },
    "papermill": {
     "duration": 0.044129,
     "end_time": "2021-11-29T09:30:12.091278",
     "exception": false,
     "start_time": "2021-11-29T09:30:12.047149",
     "status": "completed"
    },
    "tags": []
   },
   "outputs": [],
   "source": [
    "df_pivot.columns = [\"stamp_1\", \"stamp_2\"]\n",
    "df_pivot_diff = df_pivot.diff(axis=1)"
   ]
  },
  {
   "cell_type": "code",
   "execution_count": 7,
   "id": "fifth-motion",
   "metadata": {
    "execution": {
     "iopub.execute_input": "2021-11-29T09:30:12.148454Z",
     "iopub.status.busy": "2021-11-29T09:30:12.145702Z",
     "iopub.status.idle": "2021-11-29T09:30:14.148224Z",
     "shell.execute_reply": "2021-11-29T09:30:14.149915Z"
    },
    "papermill": {
     "duration": 2.038533,
     "end_time": "2021-11-29T09:30:14.150424",
     "exception": false,
     "start_time": "2021-11-29T09:30:12.111891",
     "status": "completed"
    },
    "tags": []
   },
   "outputs": [
    {
     "data": {
      "text/plain": [
       "<AxesSubplot:ylabel='PRODUCT'>"
      ]
     },
     "execution_count": 7,
     "metadata": {},
     "output_type": "execute_result"
    },
    {
     "data": {
      "image/png": "[encoded data removed]",
      "text/plain": [
       "<Figure size 432x288 with 1 Axes>"
      ]
     },
     "metadata": {
      "needs_background": "light"
     },
     "output_type": "display_data"
    }
   ],
   "source": [
    "df_pivot_diff.sort_values(\"stamp_2\", ascending = False)[\"stamp_2\"].head(10).plot.barh()"
   ]
  },
  {
   "cell_type": "code",
   "execution_count": null,
   "id": "extra-executive",
   "metadata": {
    "papermill": {
     "duration": 0.022349,
     "end_time": "2021-11-29T09:30:14.198047",
     "exception": false,
     "start_time": "2021-11-29T09:30:14.175698",
     "status": "completed"
    },
    "tags": []
   },
   "outputs": [],
   "source": []
  }
 ],
 "metadata": {
  "kernelspec": {
   "display_name": "Python 3",
   "language": "python",
   "name": "python3"
  },
  "language_info": {
   "codemirror_mode": {
    "name": "ipython",
    "version": 3
   },
   "file_extension": ".py",
   "mimetype": "text/x-python",
   "name": "python",
   "nbconvert_exporter": "python",
   "pygments_lexer": "ipython3",
   "version": "3.9.5"
  },
  "papermill": {
   "default_parameters": {},
   "duration": 9.934291,
   "end_time": "2021-11-29T09:30:15.572838",
   "environment_variables": {},
   "exception": null,
   "input_path": "eBay_Overview.ipynb",
   "output_path": "eBay_Overview.ipynb",
   "parameters": {},
   "start_time": "2021-11-29T09:30:05.638547",
   "version": "2.3.3"
  }
 },
 "nbformat": 4,
 "nbformat_minor": 5
}