{
 "cells": [
  {
   "cell_type": "code",
   "execution_count": 1,
   "id": "reverse-picking",
   "metadata": {
    "execution": {
     "iopub.execute_input": "2021-09-12T05:30:07.060285Z",
     "iopub.status.busy": "2021-09-12T05:30:07.058210Z",
     "iopub.status.idle": "2021-09-12T05:30:07.867973Z",
     "shell.execute_reply": "2021-09-12T05:30:07.869432Z"
    },
    "papermill": {
     "duration": 0.859381,
     "end_time": "2021-09-12T05:30:07.870116",
     "exception": false,
     "start_time": "2021-09-12T05:30:07.010735",
     "status": "completed"
    },
    "tags": []
   },
   "outputs": [],
   "source": [
    "import pandas as pd\n",
    "import sqlite3"
   ]
  },
  {
   "cell_type": "code",
   "execution_count": 2,
   "id": "innovative-syndrome",
   "metadata": {
    "execution": {
     "iopub.execute_input": "2021-09-12T05:30:07.921639Z",
     "iopub.status.busy": "2021-09-12T05:30:07.919333Z",
     "iopub.status.idle": "2021-09-12T05:30:08.184377Z",
     "shell.execute_reply": "2021-09-12T05:30:08.185573Z"
    },
    "papermill": {
     "duration": 0.295426,
     "end_time": "2021-09-12T05:30:08.185969",
     "exception": false,
     "start_time": "2021-09-12T05:30:07.890543",
     "status": "completed"
    },
    "tags": []
   },
   "outputs": [],
   "source": [
    "timestamps = pd.read_sql(\"select distinct record_time from EBAY_TOP_BERLIN order by record_time desc limit 2\", sqlite3.connect(\"UsedObjects.db\"))"
   ]
  },
  {
   "cell_type": "code",
   "execution_count": 3,
   "id": "periodic-identification",
   "metadata": {
    "execution": {
     "iopub.execute_input": "2021-09-12T05:30:08.253823Z",
     "iopub.status.busy": "2021-09-12T05:30:08.248758Z",
     "iopub.status.idle": "2021-09-12T05:30:08.269571Z",
     "shell.execute_reply": "2021-09-12T05:30:08.271071Z"
    },
    "papermill": {
     "duration": 0.064768,
     "end_time": "2021-09-12T05:30:08.271525",
     "exception": false,
     "start_time": "2021-09-12T05:30:08.206757",
     "status": "completed"
    },
    "tags": []
   },
   "outputs": [
    {
     "data": {
      "text/html": [
       "<div>\n",
       "<style scoped>\n",
       "    .dataframe tbody tr th:only-of-type {\n",
       "        vertical-align: middle;\n",
       "    }\n",
       "\n",
       "    .dataframe tbody tr th {\n",
       "        vertical-align: top;\n",
       "    }\n",
       "\n",
       "    .dataframe thead th {\n",
       "        text-align: right;\n",
       "    }\n",
       "</style>\n",
       "<table border=\"1\" class=\"dataframe\">\n",
       "  <thead>\n",
       "    <tr style=\"text-align: right;\">\n",
       "      <th></th>\n",
       "      <th>RECORD_TIME</th>\n",
       "    </tr>\n",
       "  </thead>\n",
       "  <tbody>\n",
       "    <tr>\n",
       "      <th>0</th>\n",
       "      <td>2021-09-12 07:30</td>\n",
       "    </tr>\n",
       "    <tr>\n",
       "      <th>1</th>\n",
       "      <td>2021-09-12 07:00</td>\n",
       "    </tr>\n",
       "  </tbody>\n",
       "</table>\n",
       "</div>"
      ],
      "text/plain": [
       "        RECORD_TIME\n",
       "0  2021-09-12 07:30\n",
       "1  2021-09-12 07:00"
      ]
     },
     "execution_count": 3,
     "metadata": {},
     "output_type": "execute_result"
    }
   ],
   "source": [
    "timestamps"
   ]
  },
  {
   "cell_type": "code",
   "execution_count": 4,
   "id": "alternate-victory",
   "metadata": {
    "execution": {
     "iopub.execute_input": "2021-09-12T05:30:08.323792Z",
     "iopub.status.busy": "2021-09-12T05:30:08.321418Z",
     "iopub.status.idle": "2021-09-12T05:30:08.718324Z",
     "shell.execute_reply": "2021-09-12T05:30:08.719821Z"
    },
    "papermill": {
     "duration": 0.427786,
     "end_time": "2021-09-12T05:30:08.720277",
     "exception": false,
     "start_time": "2021-09-12T05:30:08.292491",
     "status": "completed"
    },
    "tags": []
   },
   "outputs": [],
   "source": [
    "df = pd.read_sql(\"select * from EBAY_TOP_BERLIN where record_time in (select distinct record_time from EBAY_TOP_BERLIN order by record_time desc limit 2)\", sqlite3.connect(\"UsedObjects.db\"))"
   ]
  },
  {
   "cell_type": "code",
   "execution_count": 5,
   "id": "popular-active",
   "metadata": {
    "execution": {
     "iopub.execute_input": "2021-09-12T05:30:08.803385Z",
     "iopub.status.busy": "2021-09-12T05:30:08.790368Z",
     "iopub.status.idle": "2021-09-12T05:30:08.819970Z",
     "shell.execute_reply": "2021-09-12T05:30:08.821365Z"
    },
    "papermill": {
     "duration": 0.074259,
     "end_time": "2021-09-12T05:30:08.821804",
     "exception": false,
     "start_time": "2021-09-12T05:30:08.747545",
     "status": "completed"
    },
    "tags": []
   },
   "outputs": [],
   "source": [
    "df_pivot = df.pivot_table(index=\"PRODUCT\", columns = \"RECORD_TIME\", values = \"LISTING_COUNT\")"
   ]
  },
  {
   "cell_type": "code",
   "execution_count": 6,
   "id": "union-huntington",
   "metadata": {
    "execution": {
     "iopub.execute_input": "2021-09-12T05:30:08.878376Z",
     "iopub.status.busy": "2021-09-12T05:30:08.876214Z",
     "iopub.status.idle": "2021-09-12T05:30:08.881557Z",
     "shell.execute_reply": "2021-09-12T05:30:08.882849Z"
    },
    "papermill": {
     "duration": 0.041137,
     "end_time": "2021-09-12T05:30:08.883320",
     "exception": false,
     "start_time": "2021-09-12T05:30:08.842183",
     "status": "completed"
    },
    "tags": []
   },
   "outputs": [],
   "source": [
    "df_pivot.columns = [\"stamp_1\", \"stamp_2\"]\n",
    "df_pivot_diff = df_pivot.diff(axis=1)"
   ]
  },
  {
   "cell_type": "code",
   "execution_count": 7,
   "id": "fifth-motion",
   "metadata": {
    "execution": {
     "iopub.execute_input": "2021-09-12T05:30:08.939237Z",
     "iopub.status.busy": "2021-09-12T05:30:08.936724Z",
     "iopub.status.idle": "2021-09-12T05:30:10.443574Z",
     "shell.execute_reply": "2021-09-12T05:30:10.444871Z"
    },
    "papermill": {
     "duration": 1.53979,
     "end_time": "2021-09-12T05:30:10.445292",
     "exception": false,
     "start_time": "2021-09-12T05:30:08.905502",
     "status": "completed"
    },
    "tags": []
   },
   "outputs": [
    {
     "data": {
      "text/plain": [
       "<AxesSubplot:ylabel='PRODUCT'>"
      ]
     },
     "execution_count": 7,
     "metadata": {},
     "output_type": "execute_result"
    },
    {
     "data": {
      "image/png": "[encoded data removed]",
      "text/plain": [
       "<Figure size 432x288 with 1 Axes>"
      ]
     },
     "metadata": {
      "needs_background": "light"
     },
     "output_type": "display_data"
    }
   ],
   "source": [
    "df_pivot_diff.sort_values(\"stamp_2\", ascending = False)[\"stamp_2\"].head(10).plot.barh()"
   ]
  },
  {
   "cell_type": "code",
   "execution_count": null,
   "id": "extra-executive",
   "metadata": {
    "papermill": {
     "duration": 0.022296,
     "end_time": "2021-09-12T05:30:10.491452",
     "exception": false,
     "start_time": "2021-09-12T05:30:10.469156",
     "status": "completed"
    },
    "tags": []
   },
   "outputs": [],
   "source": []
  }
 ],
 "metadata": {
  "kernelspec": {
   "display_name": "Python 3",
   "language": "python",
   "name": "python3"
  },
  "language_info": {
   "codemirror_mode": {
    "name": "ipython",
    "version": 3
   },
   "file_extension": ".py",
   "mimetype": "text/x-python",
   "name": "python",
   "nbconvert_exporter": "python",
   "pygments_lexer": "ipython3",
   "version": "3.9.5"
  },
  "papermill": {
   "default_parameters": {},
   "duration": 6.540227,
   "end_time": "2021-09-12T05:30:11.131729",
   "environment_variables": {},
   "exception": null,
   "input_path": "eBay_Overview.ipynb",
   "output_path": "eBay_Overview.ipynb",
   "parameters": {},
   "start_time": "2021-09-12T05:30:04.591502",
   "version": "2.3.3"
  }
 },
 "nbformat": 4,
 "nbformat_minor": 5
}