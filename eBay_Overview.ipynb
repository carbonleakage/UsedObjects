{
 "cells": [
  {
   "cell_type": "code",
   "execution_count": 1,
   "id": "reverse-picking",
   "metadata": {
    "execution": {
     "iopub.execute_input": "2021-12-09T14:30:07.898862Z",
     "iopub.status.busy": "2021-12-09T14:30:07.896543Z",
     "iopub.status.idle": "2021-12-09T14:30:08.874216Z",
     "shell.execute_reply": "2021-12-09T14:30:08.872244Z"
    },
    "papermill": {
     "duration": 1.026877,
     "end_time": "2021-12-09T14:30:08.874749",
     "exception": false,
     "start_time": "2021-12-09T14:30:07.847872",
     "status": "completed"
    },
    "tags": []
   },
   "outputs": [],
   "source": [
    "import pandas as pd\n",
    "import sqlite3"
   ]
  },
  {
   "cell_type": "code",
   "execution_count": 2,
   "id": "innovative-syndrome",
   "metadata": {
    "execution": {
     "iopub.execute_input": "2021-12-09T14:30:08.934485Z",
     "iopub.status.busy": "2021-12-09T14:30:08.932250Z",
     "iopub.status.idle": "2021-12-09T14:30:09.964422Z",
     "shell.execute_reply": "2021-12-09T14:30:09.966892Z"
    },
    "papermill": {
     "duration": 1.068731,
     "end_time": "2021-12-09T14:30:09.967364",
     "exception": false,
     "start_time": "2021-12-09T14:30:08.898633",
     "status": "completed"
    },
    "tags": []
   },
   "outputs": [],
   "source": [
    "timestamps = pd.read_sql(\"select distinct record_time from EBAY_TOP_BERLIN order by record_time desc limit 2\", sqlite3.connect(\"UsedObjects.db\"))"
   ]
  },
  {
   "cell_type": "code",
   "execution_count": 3,
   "id": "periodic-identification",
   "metadata": {
    "execution": {
     "iopub.execute_input": "2021-12-09T14:30:10.040802Z",
     "iopub.status.busy": "2021-12-09T14:30:10.034817Z",
     "iopub.status.idle": "2021-12-09T14:30:10.059326Z",
     "shell.execute_reply": "2021-12-09T14:30:10.061411Z"
    },
    "papermill": {
     "duration": 0.074683,
     "end_time": "2021-12-09T14:30:10.061943",
     "exception": false,
     "start_time": "2021-12-09T14:30:09.987260",
     "status": "completed"
    },
    "tags": []
   },
   "outputs": [
    {
     "data": {
      "text/html": [
       "<div>\n",
       "<style scoped>\n",
       "    .dataframe tbody tr th:only-of-type {\n",
       "        vertical-align: middle;\n",
       "    }\n",
       "\n",
       "    .dataframe tbody tr th {\n",
       "        vertical-align: top;\n",
       "    }\n",
       "\n",
       "    .dataframe thead th {\n",
       "        text-align: right;\n",
       "    }\n",
       "</style>\n",
       "<table border=\"1\" class=\"dataframe\">\n",
       "  <thead>\n",
       "    <tr style=\"text-align: right;\">\n",
       "      <th></th>\n",
       "      <th>RECORD_TIME</th>\n",
       "    </tr>\n",
       "  </thead>\n",
       "  <tbody>\n",
       "    <tr>\n",
       "      <th>0</th>\n",
       "      <td>2021-12-09 15:30</td>\n",
       "    </tr>\n",
       "    <tr>\n",
       "      <th>1</th>\n",
       "      <td>2021-12-09 15:00</td>\n",
       "    </tr>\n",
       "  </tbody>\n",
       "</table>\n",
       "</div>"
      ],
      "text/plain": [
       "        RECORD_TIME\n",
       "0  2021-12-09 15:30\n",
       "1  2021-12-09 15:00"
      ]
     },
     "execution_count": 3,
     "metadata": {},
     "output_type": "execute_result"
    }
   ],
   "source": [
    "timestamps"
   ]
  },
  {
   "cell_type": "code",
   "execution_count": 4,
   "id": "alternate-victory",
   "metadata": {
    "execution": {
     "iopub.execute_input": "2021-12-09T14:30:10.142588Z",
     "iopub.status.busy": "2021-12-09T14:30:10.138869Z",
     "iopub.status.idle": "2021-12-09T14:30:11.660930Z",
     "shell.execute_reply": "2021-12-09T14:30:11.663767Z"
    },
    "papermill": {
     "duration": 1.575552,
     "end_time": "2021-12-09T14:30:11.664528",
     "exception": false,
     "start_time": "2021-12-09T14:30:10.088976",
     "status": "completed"
    },
    "tags": []
   },
   "outputs": [],
   "source": [
    "df = pd.read_sql(\"select * from EBAY_TOP_BERLIN where record_time in (select distinct record_time from EBAY_TOP_BERLIN order by record_time desc limit 2)\", sqlite3.connect(\"UsedObjects.db\"))"
   ]
  },
  {
   "cell_type": "code",
   "execution_count": 5,
   "id": "popular-active",
   "metadata": {
    "execution": {
     "iopub.execute_input": "2021-12-09T14:30:11.777881Z",
     "iopub.status.busy": "2021-12-09T14:30:11.763884Z",
     "iopub.status.idle": "2021-12-09T14:30:11.821938Z",
     "shell.execute_reply": "2021-12-09T14:30:11.824579Z"
    },
    "papermill": {
     "duration": 0.130713,
     "end_time": "2021-12-09T14:30:11.825460",
     "exception": false,
     "start_time": "2021-12-09T14:30:11.694747",
     "status": "completed"
    },
    "tags": []
   },
   "outputs": [],
   "source": [
    "df_pivot = df.pivot_table(index=\"PRODUCT\", columns = \"RECORD_TIME\", values = \"LISTING_COUNT\")"
   ]
  },
  {
   "cell_type": "code",
   "execution_count": 6,
   "id": "union-huntington",
   "metadata": {
    "execution": {
     "iopub.execute_input": "2021-12-09T14:30:11.919358Z",
     "iopub.status.busy": "2021-12-09T14:30:11.916416Z",
     "iopub.status.idle": "2021-12-09T14:30:11.924823Z",
     "shell.execute_reply": "2021-12-09T14:30:11.927027Z"
    },
    "papermill": {
     "duration": 0.068375,
     "end_time": "2021-12-09T14:30:11.927618",
     "exception": false,
     "start_time": "2021-12-09T14:30:11.859243",
     "status": "completed"
    },
    "tags": []
   },
   "outputs": [],
   "source": [
    "df_pivot.columns = [\"stamp_1\", \"stamp_2\"]\n",
    "df_pivot_diff = df_pivot.diff(axis=1)"
   ]
  },
  {
   "cell_type": "code",
   "execution_count": 7,
   "id": "fifth-motion",
   "metadata": {
    "execution": {
     "iopub.execute_input": "2021-12-09T14:30:12.012953Z",
     "iopub.status.busy": "2021-12-09T14:30:12.008632Z",
     "iopub.status.idle": "2021-12-09T14:30:13.775120Z",
     "shell.execute_reply": "2021-12-09T14:30:13.776402Z"
    },
    "papermill": {
     "duration": 1.824817,
     "end_time": "2021-12-09T14:30:13.777042",
     "exception": false,
     "start_time": "2021-12-09T14:30:11.952225",
     "status": "completed"
    },
    "tags": []
   },
   "outputs": [
    {
     "data": {
      "text/plain": [
       "<AxesSubplot:ylabel='PRODUCT'>"
      ]
     },
     "execution_count": 7,
     "metadata": {},
     "output_type": "execute_result"
    },
    {
     "data": {
      "image/png": "[encoded data removed]",
      "text/plain": [
       "<Figure size 432x288 with 1 Axes>"
      ]
     },
     "metadata": {
      "needs_background": "light"
     },
     "output_type": "display_data"
    }
   ],
   "source": [
    "df_pivot_diff.sort_values(\"stamp_2\", ascending = False)[\"stamp_2\"].head(10).plot.barh()"
   ]
  },
  {
   "cell_type": "code",
   "execution_count": null,
   "id": "extra-executive",
   "metadata": {
    "papermill": {
     "duration": 0.022484,
     "end_time": "2021-12-09T14:30:13.825851",
     "exception": false,
     "start_time": "2021-12-09T14:30:13.803367",
     "status": "completed"
    },
    "tags": []
   },
   "outputs": [],
   "source": []
  }
 ],
 "metadata": {
  "kernelspec": {
   "display_name": "Python 3",
   "language": "python",
   "name": "python3"
  },
  "language_info": {
   "codemirror_mode": {
    "name": "ipython",
    "version": 3
   },
   "file_extension": ".py",
   "mimetype": "text/x-python",
   "name": "python",
   "nbconvert_exporter": "python",
   "pygments_lexer": "ipython3",
   "version": "3.9.5"
  },
  "papermill": {
   "default_parameters": {},
   "duration": 9.953351,
   "end_time": "2021-12-09T14:30:15.040861",
   "environment_variables": {},
   "exception": null,
   "input_path": "eBay_Overview.ipynb",
   "output_path": "eBay_Overview.ipynb",
   "parameters": {},
   "start_time": "2021-12-09T14:30:05.087510",
   "version": "2.3.3"
  }
 },
 "nbformat": 4,
 "nbformat_minor": 5
}