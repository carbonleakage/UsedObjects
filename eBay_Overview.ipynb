{
 "cells": [
  {
   "cell_type": "code",
   "execution_count": 1,
   "id": "reverse-picking",
   "metadata": {
    "execution": {
     "iopub.execute_input": "2021-10-05T19:00:07.266551Z",
     "iopub.status.busy": "2021-10-05T19:00:07.264575Z",
     "iopub.status.idle": "2021-10-05T19:00:08.071938Z",
     "shell.execute_reply": "2021-10-05T19:00:08.073513Z"
    },
    "papermill": {
     "duration": 0.858364,
     "end_time": "2021-10-05T19:00:08.074121",
     "exception": false,
     "start_time": "2021-10-05T19:00:07.215757",
     "status": "completed"
    },
    "tags": []
   },
   "outputs": [],
   "source": [
    "import pandas as pd\n",
    "import sqlite3"
   ]
  },
  {
   "cell_type": "code",
   "execution_count": 2,
   "id": "innovative-syndrome",
   "metadata": {
    "execution": {
     "iopub.execute_input": "2021-10-05T19:00:08.128431Z",
     "iopub.status.busy": "2021-10-05T19:00:08.126062Z",
     "iopub.status.idle": "2021-10-05T19:00:08.588644Z",
     "shell.execute_reply": "2021-10-05T19:00:08.589822Z"
    },
    "papermill": {
     "duration": 0.492722,
     "end_time": "2021-10-05T19:00:08.590214",
     "exception": false,
     "start_time": "2021-10-05T19:00:08.097492",
     "status": "completed"
    },
    "tags": []
   },
   "outputs": [],
   "source": [
    "timestamps = pd.read_sql(\"select distinct record_time from EBAY_TOP_BERLIN order by record_time desc limit 2\", sqlite3.connect(\"UsedObjects.db\"))"
   ]
  },
  {
   "cell_type": "code",
   "execution_count": 3,
   "id": "periodic-identification",
   "metadata": {
    "execution": {
     "iopub.execute_input": "2021-10-05T19:00:08.658762Z",
     "iopub.status.busy": "2021-10-05T19:00:08.656754Z",
     "iopub.status.idle": "2021-10-05T19:00:08.676783Z",
     "shell.execute_reply": "2021-10-05T19:00:08.678358Z"
    },
    "papermill": {
     "duration": 0.066649,
     "end_time": "2021-10-05T19:00:08.678894",
     "exception": false,
     "start_time": "2021-10-05T19:00:08.612245",
     "status": "completed"
    },
    "tags": []
   },
   "outputs": [
    {
     "data": {
      "text/html": [
       "<div>\n",
       "<style scoped>\n",
       "    .dataframe tbody tr th:only-of-type {\n",
       "        vertical-align: middle;\n",
       "    }\n",
       "\n",
       "    .dataframe tbody tr th {\n",
       "        vertical-align: top;\n",
       "    }\n",
       "\n",
       "    .dataframe thead th {\n",
       "        text-align: right;\n",
       "    }\n",
       "</style>\n",
       "<table border=\"1\" class=\"dataframe\">\n",
       "  <thead>\n",
       "    <tr style=\"text-align: right;\">\n",
       "      <th></th>\n",
       "      <th>RECORD_TIME</th>\n",
       "    </tr>\n",
       "  </thead>\n",
       "  <tbody>\n",
       "    <tr>\n",
       "      <th>0</th>\n",
       "      <td>2021-10-05 21:00</td>\n",
       "    </tr>\n",
       "    <tr>\n",
       "      <th>1</th>\n",
       "      <td>2021-10-05 20:30</td>\n",
       "    </tr>\n",
       "  </tbody>\n",
       "</table>\n",
       "</div>"
      ],
      "text/plain": [
       "        RECORD_TIME\n",
       "0  2021-10-05 21:00\n",
       "1  2021-10-05 20:30"
      ]
     },
     "execution_count": 3,
     "metadata": {},
     "output_type": "execute_result"
    }
   ],
   "source": [
    "timestamps"
   ]
  },
  {
   "cell_type": "code",
   "execution_count": 4,
   "id": "alternate-victory",
   "metadata": {
    "execution": {
     "iopub.execute_input": "2021-10-05T19:00:08.741016Z",
     "iopub.status.busy": "2021-10-05T19:00:08.738959Z",
     "iopub.status.idle": "2021-10-05T19:00:09.418593Z",
     "shell.execute_reply": "2021-10-05T19:00:09.420051Z"
    },
    "papermill": {
     "duration": 0.714244,
     "end_time": "2021-10-05T19:00:09.420459",
     "exception": false,
     "start_time": "2021-10-05T19:00:08.706215",
     "status": "completed"
    },
    "tags": []
   },
   "outputs": [],
   "source": [
    "df = pd.read_sql(\"select * from EBAY_TOP_BERLIN where record_time in (select distinct record_time from EBAY_TOP_BERLIN order by record_time desc limit 2)\", sqlite3.connect(\"UsedObjects.db\"))"
   ]
  },
  {
   "cell_type": "code",
   "execution_count": 5,
   "id": "popular-active",
   "metadata": {
    "execution": {
     "iopub.execute_input": "2021-10-05T19:00:09.491600Z",
     "iopub.status.busy": "2021-10-05T19:00:09.480669Z",
     "iopub.status.idle": "2021-10-05T19:00:09.508084Z",
     "shell.execute_reply": "2021-10-05T19:00:09.509285Z"
    },
    "papermill": {
     "duration": 0.068486,
     "end_time": "2021-10-05T19:00:09.509672",
     "exception": false,
     "start_time": "2021-10-05T19:00:09.441186",
     "status": "completed"
    },
    "tags": []
   },
   "outputs": [],
   "source": [
    "df_pivot = df.pivot_table(index=\"PRODUCT\", columns = \"RECORD_TIME\", values = \"LISTING_COUNT\")"
   ]
  },
  {
   "cell_type": "code",
   "execution_count": 6,
   "id": "union-huntington",
   "metadata": {
    "execution": {
     "iopub.execute_input": "2021-10-05T19:00:09.566424Z",
     "iopub.status.busy": "2021-10-05T19:00:09.564415Z",
     "iopub.status.idle": "2021-10-05T19:00:09.569821Z",
     "shell.execute_reply": "2021-10-05T19:00:09.571147Z"
    },
    "papermill": {
     "duration": 0.040716,
     "end_time": "2021-10-05T19:00:09.571565",
     "exception": false,
     "start_time": "2021-10-05T19:00:09.530849",
     "status": "completed"
    },
    "tags": []
   },
   "outputs": [],
   "source": [
    "df_pivot.columns = [\"stamp_1\", \"stamp_2\"]\n",
    "df_pivot_diff = df_pivot.diff(axis=1)"
   ]
  },
  {
   "cell_type": "code",
   "execution_count": 7,
   "id": "fifth-motion",
   "metadata": {
    "execution": {
     "iopub.execute_input": "2021-10-05T19:00:09.626977Z",
     "iopub.status.busy": "2021-10-05T19:00:09.624289Z",
     "iopub.status.idle": "2021-10-05T19:00:11.122836Z",
     "shell.execute_reply": "2021-10-05T19:00:11.124311Z"
    },
    "papermill": {
     "duration": 1.532349,
     "end_time": "2021-10-05T19:00:11.124773",
     "exception": false,
     "start_time": "2021-10-05T19:00:09.592424",
     "status": "completed"
    },
    "tags": []
   },
   "outputs": [
    {
     "data": {
      "text/plain": [
       "<AxesSubplot:ylabel='PRODUCT'>"
      ]
     },
     "execution_count": 7,
     "metadata": {},
     "output_type": "execute_result"
    },
    {
     "data": {
      "image/png": "[encoded data removed]",
      "text/plain": [
       "<Figure size 432x288 with 1 Axes>"
      ]
     },
     "metadata": {
      "needs_background": "light"
     },
     "output_type": "display_data"
    }
   ],
   "source": [
    "df_pivot_diff.sort_values(\"stamp_2\", ascending = False)[\"stamp_2\"].head(10).plot.barh()"
   ]
  },
  {
   "cell_type": "code",
   "execution_count": null,
   "id": "extra-executive",
   "metadata": {
    "papermill": {
     "duration": 0.022629,
     "end_time": "2021-10-05T19:00:11.172989",
     "exception": false,
     "start_time": "2021-10-05T19:00:11.150360",
     "status": "completed"
    },
    "tags": []
   },
   "outputs": [],
   "source": []
  }
 ],
 "metadata": {
  "kernelspec": {
   "display_name": "Python 3",
   "language": "python",
   "name": "python3"
  },
  "language_info": {
   "codemirror_mode": {
    "name": "ipython",
    "version": 3
   },
   "file_extension": ".py",
   "mimetype": "text/x-python",
   "name": "python",
   "nbconvert_exporter": "python",
   "pygments_lexer": "ipython3",
   "version": "3.9.5"
  },
  "papermill": {
   "default_parameters": {},
   "duration": 7.820895,
   "end_time": "2021-10-05T19:00:12.636793",
   "environment_variables": {},
   "exception": null,
   "input_path": "eBay_Overview.ipynb",
   "output_path": "eBay_Overview.ipynb",
   "parameters": {},
   "start_time": "2021-10-05T19:00:04.815898",
   "version": "2.3.3"
  }
 },
 "nbformat": 4,
 "nbformat_minor": 5
}