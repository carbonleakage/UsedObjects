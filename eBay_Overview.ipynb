{
 "cells": [
  {
   "cell_type": "code",
   "execution_count": 1,
   "id": "reverse-picking",
   "metadata": {
    "execution": {
     "iopub.execute_input": "2021-09-02T06:00:06.813096Z",
     "iopub.status.busy": "2021-09-02T06:00:06.811130Z",
     "iopub.status.idle": "2021-09-02T06:00:07.614361Z",
     "shell.execute_reply": "2021-09-02T06:00:07.612745Z"
    },
    "papermill": {
     "duration": 0.854305,
     "end_time": "2021-09-02T06:00:07.614775",
     "exception": false,
     "start_time": "2021-09-02T06:00:06.760470",
     "status": "completed"
    },
    "tags": []
   },
   "outputs": [],
   "source": [
    "import pandas as pd\n",
    "import sqlite3"
   ]
  },
  {
   "cell_type": "code",
   "execution_count": 2,
   "id": "innovative-syndrome",
   "metadata": {
    "execution": {
     "iopub.execute_input": "2021-09-02T06:00:07.665678Z",
     "iopub.status.busy": "2021-09-02T06:00:07.663378Z",
     "iopub.status.idle": "2021-09-02T06:00:07.852387Z",
     "shell.execute_reply": "2021-09-02T06:00:07.853729Z"
    },
    "papermill": {
     "duration": 0.219322,
     "end_time": "2021-09-02T06:00:07.854170",
     "exception": false,
     "start_time": "2021-09-02T06:00:07.634848",
     "status": "completed"
    },
    "tags": []
   },
   "outputs": [],
   "source": [
    "timestamps = pd.read_sql(\"select distinct record_time from EBAY_TOP_BERLIN order by record_time desc limit 2\", sqlite3.connect(\"UsedObjects.db\"))"
   ]
  },
  {
   "cell_type": "code",
   "execution_count": 3,
   "id": "periodic-identification",
   "metadata": {
    "execution": {
     "iopub.execute_input": "2021-09-02T06:00:07.921508Z",
     "iopub.status.busy": "2021-09-02T06:00:07.919492Z",
     "iopub.status.idle": "2021-09-02T06:00:07.939361Z",
     "shell.execute_reply": "2021-09-02T06:00:07.940564Z"
    },
    "papermill": {
     "duration": 0.066095,
     "end_time": "2021-09-02T06:00:07.940995",
     "exception": false,
     "start_time": "2021-09-02T06:00:07.874900",
     "status": "completed"
    },
    "tags": []
   },
   "outputs": [
    {
     "data": {
      "text/html": [
       "<div>\n",
       "<style scoped>\n",
       "    .dataframe tbody tr th:only-of-type {\n",
       "        vertical-align: middle;\n",
       "    }\n",
       "\n",
       "    .dataframe tbody tr th {\n",
       "        vertical-align: top;\n",
       "    }\n",
       "\n",
       "    .dataframe thead th {\n",
       "        text-align: right;\n",
       "    }\n",
       "</style>\n",
       "<table border=\"1\" class=\"dataframe\">\n",
       "  <thead>\n",
       "    <tr style=\"text-align: right;\">\n",
       "      <th></th>\n",
       "      <th>RECORD_TIME</th>\n",
       "    </tr>\n",
       "  </thead>\n",
       "  <tbody>\n",
       "    <tr>\n",
       "      <th>0</th>\n",
       "      <td>2021-09-02 08:00</td>\n",
       "    </tr>\n",
       "    <tr>\n",
       "      <th>1</th>\n",
       "      <td>2021-09-02 07:30</td>\n",
       "    </tr>\n",
       "  </tbody>\n",
       "</table>\n",
       "</div>"
      ],
      "text/plain": [
       "        RECORD_TIME\n",
       "0  2021-09-02 08:00\n",
       "1  2021-09-02 07:30"
      ]
     },
     "execution_count": 3,
     "metadata": {},
     "output_type": "execute_result"
    }
   ],
   "source": [
    "timestamps"
   ]
  },
  {
   "cell_type": "code",
   "execution_count": 4,
   "id": "alternate-victory",
   "metadata": {
    "execution": {
     "iopub.execute_input": "2021-09-02T06:00:07.995166Z",
     "iopub.status.busy": "2021-09-02T06:00:07.992850Z",
     "iopub.status.idle": "2021-09-02T06:00:08.278128Z",
     "shell.execute_reply": "2021-09-02T06:00:08.279457Z"
    },
    "papermill": {
     "duration": 0.315958,
     "end_time": "2021-09-02T06:00:08.279891",
     "exception": false,
     "start_time": "2021-09-02T06:00:07.963933",
     "status": "completed"
    },
    "tags": []
   },
   "outputs": [],
   "source": [
    "df = pd.read_sql(\"select * from EBAY_TOP_BERLIN where record_time in (select distinct record_time from EBAY_TOP_BERLIN order by record_time desc limit 2)\", sqlite3.connect(\"UsedObjects.db\"))"
   ]
  },
  {
   "cell_type": "code",
   "execution_count": 5,
   "id": "popular-active",
   "metadata": {
    "execution": {
     "iopub.execute_input": "2021-09-02T06:00:08.356723Z",
     "iopub.status.busy": "2021-09-02T06:00:08.343575Z",
     "iopub.status.idle": "2021-09-02T06:00:08.373408Z",
     "shell.execute_reply": "2021-09-02T06:00:08.374685Z"
    },
    "papermill": {
     "duration": 0.070515,
     "end_time": "2021-09-02T06:00:08.375160",
     "exception": false,
     "start_time": "2021-09-02T06:00:08.304645",
     "status": "completed"
    },
    "tags": []
   },
   "outputs": [],
   "source": [
    "df_pivot = df.pivot_table(index=\"PRODUCT\", columns = \"RECORD_TIME\", values = \"LISTING_COUNT\")"
   ]
  },
  {
   "cell_type": "code",
   "execution_count": 6,
   "id": "union-huntington",
   "metadata": {
    "execution": {
     "iopub.execute_input": "2021-09-02T06:00:08.431649Z",
     "iopub.status.busy": "2021-09-02T06:00:08.429558Z",
     "iopub.status.idle": "2021-09-02T06:00:08.434834Z",
     "shell.execute_reply": "2021-09-02T06:00:08.436182Z"
    },
    "papermill": {
     "duration": 0.041161,
     "end_time": "2021-09-02T06:00:08.436595",
     "exception": false,
     "start_time": "2021-09-02T06:00:08.395434",
     "status": "completed"
    },
    "tags": []
   },
   "outputs": [],
   "source": [
    "df_pivot.columns = [\"stamp_1\", \"stamp_2\"]\n",
    "df_pivot_diff = df_pivot.diff(axis=1)"
   ]
  },
  {
   "cell_type": "code",
   "execution_count": 7,
   "id": "fifth-motion",
   "metadata": {
    "execution": {
     "iopub.execute_input": "2021-09-02T06:00:08.490607Z",
     "iopub.status.busy": "2021-09-02T06:00:08.488248Z",
     "iopub.status.idle": "2021-09-02T06:00:09.996786Z",
     "shell.execute_reply": "2021-09-02T06:00:09.998349Z"
    },
    "papermill": {
     "duration": 1.541861,
     "end_time": "2021-09-02T06:00:09.998849",
     "exception": false,
     "start_time": "2021-09-02T06:00:08.456988",
     "status": "completed"
    },
    "tags": []
   },
   "outputs": [
    {
     "data": {
      "text/plain": [
       "<AxesSubplot:ylabel='PRODUCT'>"
      ]
     },
     "execution_count": 7,
     "metadata": {},
     "output_type": "execute_result"
    },
    {
     "data": {
      "image/png": "[encoded data removed]",
      "text/plain": [
       "<Figure size 432x288 with 1 Axes>"
      ]
     },
     "metadata": {
      "needs_background": "light"
     },
     "output_type": "display_data"
    }
   ],
   "source": [
    "df_pivot_diff.sort_values(\"stamp_2\", ascending = False)[\"stamp_2\"].head(10).plot.barh()"
   ]
  },
  {
   "cell_type": "code",
   "execution_count": null,
   "id": "extra-executive",
   "metadata": {
    "papermill": {
     "duration": 0.022464,
     "end_time": "2021-09-02T06:00:10.046678",
     "exception": false,
     "start_time": "2021-09-02T06:00:10.024214",
     "status": "completed"
    },
    "tags": []
   },
   "outputs": [],
   "source": []
  }
 ],
 "metadata": {
  "kernelspec": {
   "display_name": "Python 3",
   "language": "python",
   "name": "python3"
  },
  "language_info": {
   "codemirror_mode": {
    "name": "ipython",
    "version": 3
   },
   "file_extension": ".py",
   "mimetype": "text/x-python",
   "name": "python",
   "nbconvert_exporter": "python",
   "pygments_lexer": "ipython3",
   "version": "3.9.5"
  },
  "papermill": {
   "default_parameters": {},
   "duration": 6.328973,
   "end_time": "2021-09-02T06:00:10.689928",
   "environment_variables": {},
   "exception": null,
   "input_path": "eBay_Overview.ipynb",
   "output_path": "eBay_Overview.ipynb",
   "parameters": {},
   "start_time": "2021-09-02T06:00:04.360955",
   "version": "2.3.3"
  }
 },
 "nbformat": 4,
 "nbformat_minor": 5
}