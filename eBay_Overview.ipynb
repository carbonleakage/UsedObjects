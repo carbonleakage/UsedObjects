{
 "cells": [
  {
   "cell_type": "code",
   "execution_count": 1,
   "id": "reverse-picking",
   "metadata": {
    "execution": {
     "iopub.execute_input": "2021-10-07T15:00:07.137025Z",
     "iopub.status.busy": "2021-10-07T15:00:07.135038Z",
     "iopub.status.idle": "2021-10-07T15:00:07.947615Z",
     "shell.execute_reply": "2021-10-07T15:00:07.949078Z"
    },
    "papermill": {
     "duration": 0.866539,
     "end_time": "2021-10-07T15:00:07.949772",
     "exception": false,
     "start_time": "2021-10-07T15:00:07.083233",
     "status": "completed"
    },
    "tags": []
   },
   "outputs": [],
   "source": [
    "import pandas as pd\n",
    "import sqlite3"
   ]
  },
  {
   "cell_type": "code",
   "execution_count": 2,
   "id": "innovative-syndrome",
   "metadata": {
    "execution": {
     "iopub.execute_input": "2021-10-07T15:00:08.000599Z",
     "iopub.status.busy": "2021-10-07T15:00:07.998145Z",
     "iopub.status.idle": "2021-10-07T15:00:08.476433Z",
     "shell.execute_reply": "2021-10-07T15:00:08.477876Z"
    },
    "papermill": {
     "duration": 0.508227,
     "end_time": "2021-10-07T15:00:08.478327",
     "exception": false,
     "start_time": "2021-10-07T15:00:07.970100",
     "status": "completed"
    },
    "tags": []
   },
   "outputs": [],
   "source": [
    "timestamps = pd.read_sql(\"select distinct record_time from EBAY_TOP_BERLIN order by record_time desc limit 2\", sqlite3.connect(\"UsedObjects.db\"))"
   ]
  },
  {
   "cell_type": "code",
   "execution_count": 3,
   "id": "periodic-identification",
   "metadata": {
    "execution": {
     "iopub.execute_input": "2021-10-07T15:00:08.542018Z",
     "iopub.status.busy": "2021-10-07T15:00:08.539988Z",
     "iopub.status.idle": "2021-10-07T15:00:08.559625Z",
     "shell.execute_reply": "2021-10-07T15:00:08.560871Z"
    },
    "papermill": {
     "duration": 0.062885,
     "end_time": "2021-10-07T15:00:08.561277",
     "exception": false,
     "start_time": "2021-10-07T15:00:08.498392",
     "status": "completed"
    },
    "tags": []
   },
   "outputs": [
    {
     "data": {
      "text/html": [
       "<div>\n",
       "<style scoped>\n",
       "    .dataframe tbody tr th:only-of-type {\n",
       "        vertical-align: middle;\n",
       "    }\n",
       "\n",
       "    .dataframe tbody tr th {\n",
       "        vertical-align: top;\n",
       "    }\n",
       "\n",
       "    .dataframe thead th {\n",
       "        text-align: right;\n",
       "    }\n",
       "</style>\n",
       "<table border=\"1\" class=\"dataframe\">\n",
       "  <thead>\n",
       "    <tr style=\"text-align: right;\">\n",
       "      <th></th>\n",
       "      <th>RECORD_TIME</th>\n",
       "    </tr>\n",
       "  </thead>\n",
       "  <tbody>\n",
       "    <tr>\n",
       "      <th>0</th>\n",
       "      <td>2021-10-07 17:00</td>\n",
       "    </tr>\n",
       "    <tr>\n",
       "      <th>1</th>\n",
       "      <td>2021-10-07 16:30</td>\n",
       "    </tr>\n",
       "  </tbody>\n",
       "</table>\n",
       "</div>"
      ],
      "text/plain": [
       "        RECORD_TIME\n",
       "0  2021-10-07 17:00\n",
       "1  2021-10-07 16:30"
      ]
     },
     "execution_count": 3,
     "metadata": {},
     "output_type": "execute_result"
    }
   ],
   "source": [
    "timestamps"
   ]
  },
  {
   "cell_type": "code",
   "execution_count": 4,
   "id": "alternate-victory",
   "metadata": {
    "execution": {
     "iopub.execute_input": "2021-10-07T15:00:08.620732Z",
     "iopub.status.busy": "2021-10-07T15:00:08.618707Z",
     "iopub.status.idle": "2021-10-07T15:00:09.316804Z",
     "shell.execute_reply": "2021-10-07T15:00:09.318005Z"
    },
    "papermill": {
     "duration": 0.731386,
     "end_time": "2021-10-07T15:00:09.318444",
     "exception": false,
     "start_time": "2021-10-07T15:00:08.587058",
     "status": "completed"
    },
    "tags": []
   },
   "outputs": [],
   "source": [
    "df = pd.read_sql(\"select * from EBAY_TOP_BERLIN where record_time in (select distinct record_time from EBAY_TOP_BERLIN order by record_time desc limit 2)\", sqlite3.connect(\"UsedObjects.db\"))"
   ]
  },
  {
   "cell_type": "code",
   "execution_count": 5,
   "id": "popular-active",
   "metadata": {
    "execution": {
     "iopub.execute_input": "2021-10-07T15:00:09.389465Z",
     "iopub.status.busy": "2021-10-07T15:00:09.376835Z",
     "iopub.status.idle": "2021-10-07T15:00:09.405384Z",
     "shell.execute_reply": "2021-10-07T15:00:09.406608Z"
    },
    "papermill": {
     "duration": 0.068255,
     "end_time": "2021-10-07T15:00:09.407194",
     "exception": false,
     "start_time": "2021-10-07T15:00:09.338939",
     "status": "completed"
    },
    "tags": []
   },
   "outputs": [],
   "source": [
    "df_pivot = df.pivot_table(index=\"PRODUCT\", columns = \"RECORD_TIME\", values = \"LISTING_COUNT\")"
   ]
  },
  {
   "cell_type": "code",
   "execution_count": 6,
   "id": "union-huntington",
   "metadata": {
    "execution": {
     "iopub.execute_input": "2021-10-07T15:00:09.466232Z",
     "iopub.status.busy": "2021-10-07T15:00:09.463759Z",
     "iopub.status.idle": "2021-10-07T15:00:09.469485Z",
     "shell.execute_reply": "2021-10-07T15:00:09.470769Z"
    },
    "papermill": {
     "duration": 0.042057,
     "end_time": "2021-10-07T15:00:09.471253",
     "exception": false,
     "start_time": "2021-10-07T15:00:09.429196",
     "status": "completed"
    },
    "tags": []
   },
   "outputs": [],
   "source": [
    "df_pivot.columns = [\"stamp_1\", \"stamp_2\"]\n",
    "df_pivot_diff = df_pivot.diff(axis=1)"
   ]
  },
  {
   "cell_type": "code",
   "execution_count": 7,
   "id": "fifth-motion",
   "metadata": {
    "execution": {
     "iopub.execute_input": "2021-10-07T15:00:09.525475Z",
     "iopub.status.busy": "2021-10-07T15:00:09.523181Z",
     "iopub.status.idle": "2021-10-07T15:00:10.987757Z",
     "shell.execute_reply": "2021-10-07T15:00:10.989081Z"
    },
    "papermill": {
     "duration": 1.497583,
     "end_time": "2021-10-07T15:00:10.989513",
     "exception": false,
     "start_time": "2021-10-07T15:00:09.491930",
     "status": "completed"
    },
    "tags": []
   },
   "outputs": [
    {
     "data": {
      "text/plain": [
       "<AxesSubplot:ylabel='PRODUCT'>"
      ]
     },
     "execution_count": 7,
     "metadata": {},
     "output_type": "execute_result"
    },
    {
     "data": {
      "image/png": "[encoded data removed]",
      "text/plain": [
       "<Figure size 432x288 with 1 Axes>"
      ]
     },
     "metadata": {
      "needs_background": "light"
     },
     "output_type": "display_data"
    }
   ],
   "source": [
    "df_pivot_diff.sort_values(\"stamp_2\", ascending = False)[\"stamp_2\"].head(10).plot.barh()"
   ]
  },
  {
   "cell_type": "code",
   "execution_count": null,
   "id": "extra-executive",
   "metadata": {
    "papermill": {
     "duration": 0.022087,
     "end_time": "2021-10-07T15:00:11.034517",
     "exception": false,
     "start_time": "2021-10-07T15:00:11.012430",
     "status": "completed"
    },
    "tags": []
   },
   "outputs": [],
   "source": []
  }
 ],
 "metadata": {
  "kernelspec": {
   "display_name": "Python 3",
   "language": "python",
   "name": "python3"
  },
  "language_info": {
   "codemirror_mode": {
    "name": "ipython",
    "version": 3
   },
   "file_extension": ".py",
   "mimetype": "text/x-python",
   "name": "python",
   "nbconvert_exporter": "python",
   "pygments_lexer": "ipython3",
   "version": "3.9.5"
  },
  "papermill": {
   "default_parameters": {},
   "duration": 7.839037,
   "end_time": "2021-10-07T15:00:12.496372",
   "environment_variables": {},
   "exception": null,
   "input_path": "eBay_Overview.ipynb",
   "output_path": "eBay_Overview.ipynb",
   "parameters": {},
   "start_time": "2021-10-07T15:00:04.657335",
   "version": "2.3.3"
  }
 },
 "nbformat": 4,
 "nbformat_minor": 5
}