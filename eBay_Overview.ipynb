{
 "cells": [
  {
   "cell_type": "code",
   "execution_count": 1,
   "id": "reverse-picking",
   "metadata": {
    "execution": {
     "iopub.execute_input": "2021-08-20T23:30:07.467439Z",
     "iopub.status.busy": "2021-08-20T23:30:07.465430Z",
     "iopub.status.idle": "2021-08-20T23:30:08.270000Z",
     "shell.execute_reply": "2021-08-20T23:30:08.271306Z"
    },
    "papermill": {
     "duration": 0.854938,
     "end_time": "2021-08-20T23:30:08.271931",
     "exception": false,
     "start_time": "2021-08-20T23:30:07.416993",
     "status": "completed"
    },
    "tags": []
   },
   "outputs": [],
   "source": [
    "import pandas as pd\n",
    "import sqlite3"
   ]
  },
  {
   "cell_type": "code",
   "execution_count": 2,
   "id": "innovative-syndrome",
   "metadata": {
    "execution": {
     "iopub.execute_input": "2021-08-20T23:30:08.321411Z",
     "iopub.status.busy": "2021-08-20T23:30:08.319562Z",
     "iopub.status.idle": "2021-08-20T23:30:08.413489Z",
     "shell.execute_reply": "2021-08-20T23:30:08.414760Z"
    },
    "papermill": {
     "duration": 0.123267,
     "end_time": "2021-08-20T23:30:08.415162",
     "exception": false,
     "start_time": "2021-08-20T23:30:08.291895",
     "status": "completed"
    },
    "tags": []
   },
   "outputs": [],
   "source": [
    "timestamps = pd.read_sql(\"select distinct record_time from EBAY_TOP_BERLIN order by record_time desc limit 2\", sqlite3.connect(\"UsedObjects.db\"))"
   ]
  },
  {
   "cell_type": "code",
   "execution_count": 3,
   "id": "periodic-identification",
   "metadata": {
    "execution": {
     "iopub.execute_input": "2021-08-20T23:30:08.481289Z",
     "iopub.status.busy": "2021-08-20T23:30:08.479271Z",
     "iopub.status.idle": "2021-08-20T23:30:08.499134Z",
     "shell.execute_reply": "2021-08-20T23:30:08.500410Z"
    },
    "papermill": {
     "duration": 0.064016,
     "end_time": "2021-08-20T23:30:08.500809",
     "exception": false,
     "start_time": "2021-08-20T23:30:08.436793",
     "status": "completed"
    },
    "tags": []
   },
   "outputs": [
    {
     "data": {
      "text/html": [
       "<div>\n",
       "<style scoped>\n",
       "    .dataframe tbody tr th:only-of-type {\n",
       "        vertical-align: middle;\n",
       "    }\n",
       "\n",
       "    .dataframe tbody tr th {\n",
       "        vertical-align: top;\n",
       "    }\n",
       "\n",
       "    .dataframe thead th {\n",
       "        text-align: right;\n",
       "    }\n",
       "</style>\n",
       "<table border=\"1\" class=\"dataframe\">\n",
       "  <thead>\n",
       "    <tr style=\"text-align: right;\">\n",
       "      <th></th>\n",
       "      <th>RECORD_TIME</th>\n",
       "    </tr>\n",
       "  </thead>\n",
       "  <tbody>\n",
       "    <tr>\n",
       "      <th>0</th>\n",
       "      <td>2021-08-21 01:30</td>\n",
       "    </tr>\n",
       "    <tr>\n",
       "      <th>1</th>\n",
       "      <td>2021-08-21 01:00</td>\n",
       "    </tr>\n",
       "  </tbody>\n",
       "</table>\n",
       "</div>"
      ],
      "text/plain": [
       "        RECORD_TIME\n",
       "0  2021-08-21 01:30\n",
       "1  2021-08-21 01:00"
      ]
     },
     "execution_count": 3,
     "metadata": {},
     "output_type": "execute_result"
    }
   ],
   "source": [
    "timestamps"
   ]
  },
  {
   "cell_type": "code",
   "execution_count": 4,
   "id": "alternate-victory",
   "metadata": {
    "execution": {
     "iopub.execute_input": "2021-08-20T23:30:08.553105Z",
     "iopub.status.busy": "2021-08-20T23:30:08.550805Z",
     "iopub.status.idle": "2021-08-20T23:30:08.698841Z",
     "shell.execute_reply": "2021-08-20T23:30:08.697247Z"
    },
    "papermill": {
     "duration": 0.176651,
     "end_time": "2021-08-20T23:30:08.699236",
     "exception": false,
     "start_time": "2021-08-20T23:30:08.522585",
     "status": "completed"
    },
    "tags": []
   },
   "outputs": [],
   "source": [
    "df = pd.read_sql(\"select * from EBAY_TOP_BERLIN where record_time in (select distinct record_time from EBAY_TOP_BERLIN order by record_time desc limit 2)\", sqlite3.connect(\"UsedObjects.db\"))"
   ]
  },
  {
   "cell_type": "code",
   "execution_count": 5,
   "id": "popular-active",
   "metadata": {
    "execution": {
     "iopub.execute_input": "2021-08-20T23:30:08.768016Z",
     "iopub.status.busy": "2021-08-20T23:30:08.756198Z",
     "iopub.status.idle": "2021-08-20T23:30:08.785714Z",
     "shell.execute_reply": "2021-08-20T23:30:08.787543Z"
    },
    "papermill": {
     "duration": 0.068344,
     "end_time": "2021-08-20T23:30:08.788107",
     "exception": false,
     "start_time": "2021-08-20T23:30:08.719763",
     "status": "completed"
    },
    "tags": []
   },
   "outputs": [],
   "source": [
    "df_pivot = df.pivot_table(index=\"PRODUCT\", columns = \"RECORD_TIME\", values = \"LISTING_COUNT\")"
   ]
  },
  {
   "cell_type": "code",
   "execution_count": 6,
   "id": "union-huntington",
   "metadata": {
    "execution": {
     "iopub.execute_input": "2021-08-20T23:30:08.845901Z",
     "iopub.status.busy": "2021-08-20T23:30:08.843603Z",
     "iopub.status.idle": "2021-08-20T23:30:08.849487Z",
     "shell.execute_reply": "2021-08-20T23:30:08.850929Z"
    },
    "papermill": {
     "duration": 0.042254,
     "end_time": "2021-08-20T23:30:08.851376",
     "exception": false,
     "start_time": "2021-08-20T23:30:08.809122",
     "status": "completed"
    },
    "tags": []
   },
   "outputs": [],
   "source": [
    "df_pivot.columns = [\"stamp_1\", \"stamp_2\"]\n",
    "df_pivot_diff = df_pivot.diff(axis=1)"
   ]
  },
  {
   "cell_type": "code",
   "execution_count": 7,
   "id": "fifth-motion",
   "metadata": {
    "execution": {
     "iopub.execute_input": "2021-08-20T23:30:08.906313Z",
     "iopub.status.busy": "2021-08-20T23:30:08.904066Z",
     "iopub.status.idle": "2021-08-20T23:30:10.379111Z",
     "shell.execute_reply": "2021-08-20T23:30:10.380409Z"
    },
    "papermill": {
     "duration": 1.507577,
     "end_time": "2021-08-20T23:30:10.380827",
     "exception": false,
     "start_time": "2021-08-20T23:30:08.873250",
     "status": "completed"
    },
    "tags": []
   },
   "outputs": [
    {
     "data": {
      "text/plain": [
       "<AxesSubplot:ylabel='PRODUCT'>"
      ]
     },
     "execution_count": 7,
     "metadata": {},
     "output_type": "execute_result"
    },
    {
     "data": {
      "image/png": "[encoded data removed]",
      "text/plain": [
       "<Figure size 432x288 with 1 Axes>"
      ]
     },
     "metadata": {
      "needs_background": "light"
     },
     "output_type": "display_data"
    }
   ],
   "source": [
    "df_pivot_diff.sort_values(\"stamp_2\", ascending = False)[\"stamp_2\"].head(10).plot.barh()"
   ]
  },
  {
   "cell_type": "code",
   "execution_count": null,
   "id": "extra-executive",
   "metadata": {
    "papermill": {
     "duration": 0.022096,
     "end_time": "2021-08-20T23:30:10.427233",
     "exception": false,
     "start_time": "2021-08-20T23:30:10.405137",
     "status": "completed"
    },
    "tags": []
   },
   "outputs": [],
   "source": []
  }
 ],
 "metadata": {
  "kernelspec": {
   "display_name": "Python 3",
   "language": "python",
   "name": "python3"
  },
  "language_info": {
   "codemirror_mode": {
    "name": "ipython",
    "version": 3
   },
   "file_extension": ".py",
   "mimetype": "text/x-python",
   "name": "python",
   "nbconvert_exporter": "python",
   "pygments_lexer": "ipython3",
   "version": "3.9.5"
  },
  "papermill": {
   "default_parameters": {},
   "duration": 6.82043,
   "end_time": "2021-08-20T23:30:11.835308",
   "environment_variables": {},
   "exception": null,
   "input_path": "eBay_Overview.ipynb",
   "output_path": "eBay_Overview.ipynb",
   "parameters": {},
   "start_time": "2021-08-20T23:30:05.014878",
   "version": "2.3.3"
  }
 },
 "nbformat": 4,
 "nbformat_minor": 5
}