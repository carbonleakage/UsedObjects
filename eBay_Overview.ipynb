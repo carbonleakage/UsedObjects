{
 "cells": [
  {
   "cell_type": "code",
   "execution_count": 1,
   "id": "reverse-picking",
   "metadata": {
    "execution": {
     "iopub.execute_input": "2021-10-27T08:30:07.327751Z",
     "iopub.status.busy": "2021-10-27T08:30:07.325818Z",
     "iopub.status.idle": "2021-10-27T08:30:08.130229Z",
     "shell.execute_reply": "2021-10-27T08:30:08.131477Z"
    },
    "papermill": {
     "duration": 0.855042,
     "end_time": "2021-10-27T08:30:08.132104",
     "exception": false,
     "start_time": "2021-10-27T08:30:07.277062",
     "status": "completed"
    },
    "tags": []
   },
   "outputs": [],
   "source": [
    "import pandas as pd\n",
    "import sqlite3"
   ]
  },
  {
   "cell_type": "code",
   "execution_count": 2,
   "id": "innovative-syndrome",
   "metadata": {
    "execution": {
     "iopub.execute_input": "2021-10-27T08:30:08.182745Z",
     "iopub.status.busy": "2021-10-27T08:30:08.180861Z",
     "iopub.status.idle": "2021-10-27T08:30:08.818584Z",
     "shell.execute_reply": "2021-10-27T08:30:08.819792Z"
    },
    "papermill": {
     "duration": 0.667151,
     "end_time": "2021-10-27T08:30:08.820192",
     "exception": false,
     "start_time": "2021-10-27T08:30:08.153041",
     "status": "completed"
    },
    "tags": []
   },
   "outputs": [],
   "source": [
    "timestamps = pd.read_sql(\"select distinct record_time from EBAY_TOP_BERLIN order by record_time desc limit 2\", sqlite3.connect(\"UsedObjects.db\"))"
   ]
  },
  {
   "cell_type": "code",
   "execution_count": 3,
   "id": "periodic-identification",
   "metadata": {
    "execution": {
     "iopub.execute_input": "2021-10-27T08:30:08.893985Z",
     "iopub.status.busy": "2021-10-27T08:30:08.891897Z",
     "iopub.status.idle": "2021-10-27T08:30:08.911684Z",
     "shell.execute_reply": "2021-10-27T08:30:08.912998Z"
    },
    "papermill": {
     "duration": 0.068257,
     "end_time": "2021-10-27T08:30:08.913434",
     "exception": false,
     "start_time": "2021-10-27T08:30:08.845177",
     "status": "completed"
    },
    "tags": []
   },
   "outputs": [
    {
     "data": {
      "text/html": [
       "<div>\n",
       "<style scoped>\n",
       "    .dataframe tbody tr th:only-of-type {\n",
       "        vertical-align: middle;\n",
       "    }\n",
       "\n",
       "    .dataframe tbody tr th {\n",
       "        vertical-align: top;\n",
       "    }\n",
       "\n",
       "    .dataframe thead th {\n",
       "        text-align: right;\n",
       "    }\n",
       "</style>\n",
       "<table border=\"1\" class=\"dataframe\">\n",
       "  <thead>\n",
       "    <tr style=\"text-align: right;\">\n",
       "      <th></th>\n",
       "      <th>RECORD_TIME</th>\n",
       "    </tr>\n",
       "  </thead>\n",
       "  <tbody>\n",
       "    <tr>\n",
       "      <th>0</th>\n",
       "      <td>2021-10-27 10:30</td>\n",
       "    </tr>\n",
       "    <tr>\n",
       "      <th>1</th>\n",
       "      <td>2021-10-27 10:00</td>\n",
       "    </tr>\n",
       "  </tbody>\n",
       "</table>\n",
       "</div>"
      ],
      "text/plain": [
       "        RECORD_TIME\n",
       "0  2021-10-27 10:30\n",
       "1  2021-10-27 10:00"
      ]
     },
     "execution_count": 3,
     "metadata": {},
     "output_type": "execute_result"
    }
   ],
   "source": [
    "timestamps"
   ]
  },
  {
   "cell_type": "code",
   "execution_count": 4,
   "id": "alternate-victory",
   "metadata": {
    "execution": {
     "iopub.execute_input": "2021-10-27T08:30:08.966718Z",
     "iopub.status.busy": "2021-10-27T08:30:08.964460Z",
     "iopub.status.idle": "2021-10-27T08:30:09.908387Z",
     "shell.execute_reply": "2021-10-27T08:30:09.909977Z"
    },
    "papermill": {
     "duration": 0.974611,
     "end_time": "2021-10-27T08:30:09.910513",
     "exception": false,
     "start_time": "2021-10-27T08:30:08.935902",
     "status": "completed"
    },
    "tags": []
   },
   "outputs": [],
   "source": [
    "df = pd.read_sql(\"select * from EBAY_TOP_BERLIN where record_time in (select distinct record_time from EBAY_TOP_BERLIN order by record_time desc limit 2)\", sqlite3.connect(\"UsedObjects.db\"))"
   ]
  },
  {
   "cell_type": "code",
   "execution_count": 5,
   "id": "popular-active",
   "metadata": {
    "execution": {
     "iopub.execute_input": "2021-10-27T08:30:09.981770Z",
     "iopub.status.busy": "2021-10-27T08:30:09.970540Z",
     "iopub.status.idle": "2021-10-27T08:30:09.997356Z",
     "shell.execute_reply": "2021-10-27T08:30:09.998586Z"
    },
    "papermill": {
     "duration": 0.068202,
     "end_time": "2021-10-27T08:30:09.998981",
     "exception": false,
     "start_time": "2021-10-27T08:30:09.930779",
     "status": "completed"
    },
    "tags": []
   },
   "outputs": [],
   "source": [
    "df_pivot = df.pivot_table(index=\"PRODUCT\", columns = \"RECORD_TIME\", values = \"LISTING_COUNT\")"
   ]
  },
  {
   "cell_type": "code",
   "execution_count": 6,
   "id": "union-huntington",
   "metadata": {
    "execution": {
     "iopub.execute_input": "2021-10-27T08:30:10.059063Z",
     "iopub.status.busy": "2021-10-27T08:30:10.056564Z",
     "iopub.status.idle": "2021-10-27T08:30:10.062652Z",
     "shell.execute_reply": "2021-10-27T08:30:10.064094Z"
    },
    "papermill": {
     "duration": 0.042477,
     "end_time": "2021-10-27T08:30:10.064553",
     "exception": false,
     "start_time": "2021-10-27T08:30:10.022076",
     "status": "completed"
    },
    "tags": []
   },
   "outputs": [],
   "source": [
    "df_pivot.columns = [\"stamp_1\", \"stamp_2\"]\n",
    "df_pivot_diff = df_pivot.diff(axis=1)"
   ]
  },
  {
   "cell_type": "code",
   "execution_count": 7,
   "id": "fifth-motion",
   "metadata": {
    "execution": {
     "iopub.execute_input": "2021-10-27T08:30:10.120204Z",
     "iopub.status.busy": "2021-10-27T08:30:10.117935Z",
     "iopub.status.idle": "2021-10-27T08:30:11.633554Z",
     "shell.execute_reply": "2021-10-27T08:30:11.634860Z"
    },
    "papermill": {
     "duration": 1.548634,
     "end_time": "2021-10-27T08:30:11.635280",
     "exception": false,
     "start_time": "2021-10-27T08:30:10.086646",
     "status": "completed"
    },
    "tags": []
   },
   "outputs": [
    {
     "data": {
      "text/plain": [
       "<AxesSubplot:ylabel='PRODUCT'>"
      ]
     },
     "execution_count": 7,
     "metadata": {},
     "output_type": "execute_result"
    },
    {
     "data": {
      "image/png": "[encoded data removed]",
      "text/plain": [
       "<Figure size 432x288 with 1 Axes>"
      ]
     },
     "metadata": {
      "needs_background": "light"
     },
     "output_type": "display_data"
    }
   ],
   "source": [
    "df_pivot_diff.sort_values(\"stamp_2\", ascending = False)[\"stamp_2\"].head(10).plot.barh()"
   ]
  },
  {
   "cell_type": "code",
   "execution_count": null,
   "id": "extra-executive",
   "metadata": {
    "papermill": {
     "duration": 0.022175,
     "end_time": "2021-10-27T08:30:11.682238",
     "exception": false,
     "start_time": "2021-10-27T08:30:11.660063",
     "status": "completed"
    },
    "tags": []
   },
   "outputs": [],
   "source": []
  }
 ],
 "metadata": {
  "kernelspec": {
   "display_name": "Python 3",
   "language": "python",
   "name": "python3"
  },
  "language_info": {
   "codemirror_mode": {
    "name": "ipython",
    "version": 3
   },
   "file_extension": ".py",
   "mimetype": "text/x-python",
   "name": "python",
   "nbconvert_exporter": "python",
   "pygments_lexer": "ipython3",
   "version": "3.9.5"
  },
  "papermill": {
   "default_parameters": {},
   "duration": 7.449609,
   "end_time": "2021-10-27T08:30:12.325530",
   "environment_variables": {},
   "exception": null,
   "input_path": "eBay_Overview.ipynb",
   "output_path": "eBay_Overview.ipynb",
   "parameters": {},
   "start_time": "2021-10-27T08:30:04.875921",
   "version": "2.3.3"
  }
 },
 "nbformat": 4,
 "nbformat_minor": 5
}