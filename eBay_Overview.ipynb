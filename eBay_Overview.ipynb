{
 "cells": [
  {
   "cell_type": "code",
   "execution_count": 1,
   "id": "reverse-picking",
   "metadata": {
    "execution": {
     "iopub.execute_input": "2021-10-01T02:00:06.942054Z",
     "iopub.status.busy": "2021-10-01T02:00:06.940141Z",
     "iopub.status.idle": "2021-10-01T02:00:07.745850Z",
     "shell.execute_reply": "2021-10-01T02:00:07.747272Z"
    },
    "papermill": {
     "duration": 0.856121,
     "end_time": "2021-10-01T02:00:07.747946",
     "exception": false,
     "start_time": "2021-10-01T02:00:06.891825",
     "status": "completed"
    },
    "tags": []
   },
   "outputs": [],
   "source": [
    "import pandas as pd\n",
    "import sqlite3"
   ]
  },
  {
   "cell_type": "code",
   "execution_count": 2,
   "id": "innovative-syndrome",
   "metadata": {
    "execution": {
     "iopub.execute_input": "2021-10-01T02:00:07.797866Z",
     "iopub.status.busy": "2021-10-01T02:00:07.796006Z",
     "iopub.status.idle": "2021-10-01T02:00:08.220750Z",
     "shell.execute_reply": "2021-10-01T02:00:08.222008Z"
    },
    "papermill": {
     "duration": 0.454277,
     "end_time": "2021-10-01T02:00:08.222415",
     "exception": false,
     "start_time": "2021-10-01T02:00:07.768138",
     "status": "completed"
    },
    "tags": []
   },
   "outputs": [],
   "source": [
    "timestamps = pd.read_sql(\"select distinct record_time from EBAY_TOP_BERLIN order by record_time desc limit 2\", sqlite3.connect(\"UsedObjects.db\"))"
   ]
  },
  {
   "cell_type": "code",
   "execution_count": 3,
   "id": "periodic-identification",
   "metadata": {
    "execution": {
     "iopub.execute_input": "2021-10-01T02:00:08.289429Z",
     "iopub.status.busy": "2021-10-01T02:00:08.287454Z",
     "iopub.status.idle": "2021-10-01T02:00:08.307786Z",
     "shell.execute_reply": "2021-10-01T02:00:08.309427Z"
    },
    "papermill": {
     "duration": 0.067797,
     "end_time": "2021-10-01T02:00:08.309851",
     "exception": false,
     "start_time": "2021-10-01T02:00:08.242054",
     "status": "completed"
    },
    "tags": []
   },
   "outputs": [
    {
     "data": {
      "text/html": [
       "<div>\n",
       "<style scoped>\n",
       "    .dataframe tbody tr th:only-of-type {\n",
       "        vertical-align: middle;\n",
       "    }\n",
       "\n",
       "    .dataframe tbody tr th {\n",
       "        vertical-align: top;\n",
       "    }\n",
       "\n",
       "    .dataframe thead th {\n",
       "        text-align: right;\n",
       "    }\n",
       "</style>\n",
       "<table border=\"1\" class=\"dataframe\">\n",
       "  <thead>\n",
       "    <tr style=\"text-align: right;\">\n",
       "      <th></th>\n",
       "      <th>RECORD_TIME</th>\n",
       "    </tr>\n",
       "  </thead>\n",
       "  <tbody>\n",
       "    <tr>\n",
       "      <th>0</th>\n",
       "      <td>2021-10-01 04:00</td>\n",
       "    </tr>\n",
       "    <tr>\n",
       "      <th>1</th>\n",
       "      <td>2021-10-01 03:30</td>\n",
       "    </tr>\n",
       "  </tbody>\n",
       "</table>\n",
       "</div>"
      ],
      "text/plain": [
       "        RECORD_TIME\n",
       "0  2021-10-01 04:00\n",
       "1  2021-10-01 03:30"
      ]
     },
     "execution_count": 3,
     "metadata": {},
     "output_type": "execute_result"
    }
   ],
   "source": [
    "timestamps"
   ]
  },
  {
   "cell_type": "code",
   "execution_count": 4,
   "id": "alternate-victory",
   "metadata": {
    "execution": {
     "iopub.execute_input": "2021-10-01T02:00:08.362340Z",
     "iopub.status.busy": "2021-10-01T02:00:08.360063Z",
     "iopub.status.idle": "2021-10-01T02:00:08.982044Z",
     "shell.execute_reply": "2021-10-01T02:00:08.983393Z"
    },
    "papermill": {
     "duration": 0.65265,
     "end_time": "2021-10-01T02:00:08.983812",
     "exception": false,
     "start_time": "2021-10-01T02:00:08.331162",
     "status": "completed"
    },
    "tags": []
   },
   "outputs": [],
   "source": [
    "df = pd.read_sql(\"select * from EBAY_TOP_BERLIN where record_time in (select distinct record_time from EBAY_TOP_BERLIN order by record_time desc limit 2)\", sqlite3.connect(\"UsedObjects.db\"))"
   ]
  },
  {
   "cell_type": "code",
   "execution_count": 5,
   "id": "popular-active",
   "metadata": {
    "execution": {
     "iopub.execute_input": "2021-10-01T02:00:09.051874Z",
     "iopub.status.busy": "2021-10-01T02:00:09.041133Z",
     "iopub.status.idle": "2021-10-01T02:00:09.068111Z",
     "shell.execute_reply": "2021-10-01T02:00:09.069304Z"
    },
    "papermill": {
     "duration": 0.065312,
     "end_time": "2021-10-01T02:00:09.069696",
     "exception": false,
     "start_time": "2021-10-01T02:00:09.004384",
     "status": "completed"
    },
    "tags": []
   },
   "outputs": [],
   "source": [
    "df_pivot = df.pivot_table(index=\"PRODUCT\", columns = \"RECORD_TIME\", values = \"LISTING_COUNT\")"
   ]
  },
  {
   "cell_type": "code",
   "execution_count": 6,
   "id": "union-huntington",
   "metadata": {
    "execution": {
     "iopub.execute_input": "2021-10-01T02:00:09.129837Z",
     "iopub.status.busy": "2021-10-01T02:00:09.127432Z",
     "iopub.status.idle": "2021-10-01T02:00:09.133882Z",
     "shell.execute_reply": "2021-10-01T02:00:09.135387Z"
    },
    "papermill": {
     "duration": 0.043039,
     "end_time": "2021-10-01T02:00:09.135853",
     "exception": false,
     "start_time": "2021-10-01T02:00:09.092814",
     "status": "completed"
    },
    "tags": []
   },
   "outputs": [],
   "source": [
    "df_pivot.columns = [\"stamp_1\", \"stamp_2\"]\n",
    "df_pivot_diff = df_pivot.diff(axis=1)"
   ]
  },
  {
   "cell_type": "code",
   "execution_count": 7,
   "id": "fifth-motion",
   "metadata": {
    "execution": {
     "iopub.execute_input": "2021-10-01T02:00:09.190984Z",
     "iopub.status.busy": "2021-10-01T02:00:09.188646Z",
     "iopub.status.idle": "2021-10-01T02:00:10.658036Z",
     "shell.execute_reply": "2021-10-01T02:00:10.660140Z"
    },
    "papermill": {
     "duration": 1.502883,
     "end_time": "2021-10-01T02:00:10.660724",
     "exception": false,
     "start_time": "2021-10-01T02:00:09.157841",
     "status": "completed"
    },
    "tags": []
   },
   "outputs": [
    {
     "data": {
      "text/plain": [
       "<AxesSubplot:ylabel='PRODUCT'>"
      ]
     },
     "execution_count": 7,
     "metadata": {},
     "output_type": "execute_result"
    },
    {
     "data": {
      "image/png": "[encoded data removed]",
      "text/plain": [
       "<Figure size 432x288 with 1 Axes>"
      ]
     },
     "metadata": {
      "needs_background": "light"
     },
     "output_type": "display_data"
    }
   ],
   "source": [
    "df_pivot_diff.sort_values(\"stamp_2\", ascending = False)[\"stamp_2\"].head(10).plot.barh()"
   ]
  },
  {
   "cell_type": "code",
   "execution_count": null,
   "id": "extra-executive",
   "metadata": {
    "papermill": {
     "duration": 0.022376,
     "end_time": "2021-10-01T02:00:10.707353",
     "exception": false,
     "start_time": "2021-10-01T02:00:10.684977",
     "status": "completed"
    },
    "tags": []
   },
   "outputs": [],
   "source": []
  }
 ],
 "metadata": {
  "kernelspec": {
   "display_name": "Python 3",
   "language": "python",
   "name": "python3"
  },
  "language_info": {
   "codemirror_mode": {
    "name": "ipython",
    "version": 3
   },
   "file_extension": ".py",
   "mimetype": "text/x-python",
   "name": "python",
   "nbconvert_exporter": "python",
   "pygments_lexer": "ipython3",
   "version": "3.9.5"
  },
  "papermill": {
   "default_parameters": {},
   "duration": 7.825734,
   "end_time": "2021-10-01T02:00:12.314076",
   "environment_variables": {},
   "exception": null,
   "input_path": "eBay_Overview.ipynb",
   "output_path": "eBay_Overview.ipynb",
   "parameters": {},
   "start_time": "2021-10-01T02:00:04.488342",
   "version": "2.3.3"
  }
 },
 "nbformat": 4,
 "nbformat_minor": 5
}