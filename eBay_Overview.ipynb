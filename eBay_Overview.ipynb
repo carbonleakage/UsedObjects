{
 "cells": [
  {
   "cell_type": "code",
   "execution_count": 1,
   "id": "reverse-picking",
   "metadata": {
    "execution": {
     "iopub.execute_input": "2021-12-04T15:30:07.985452Z",
     "iopub.status.busy": "2021-12-04T15:30:07.983052Z",
     "iopub.status.idle": "2021-12-04T15:30:08.939646Z",
     "shell.execute_reply": "2021-12-04T15:30:08.941437Z"
    },
    "papermill": {
     "duration": 1.007147,
     "end_time": "2021-12-04T15:30:08.942186",
     "exception": false,
     "start_time": "2021-12-04T15:30:07.935039",
     "status": "completed"
    },
    "tags": []
   },
   "outputs": [],
   "source": [
    "import pandas as pd\n",
    "import sqlite3"
   ]
  },
  {
   "cell_type": "code",
   "execution_count": 2,
   "id": "innovative-syndrome",
   "metadata": {
    "execution": {
     "iopub.execute_input": "2021-12-04T15:30:09.067752Z",
     "iopub.status.busy": "2021-12-04T15:30:09.063684Z",
     "iopub.status.idle": "2021-12-04T15:30:10.046464Z",
     "shell.execute_reply": "2021-12-04T15:30:10.047691Z"
    },
    "papermill": {
     "duration": 1.024376,
     "end_time": "2021-12-04T15:30:10.048244",
     "exception": false,
     "start_time": "2021-12-04T15:30:09.023868",
     "status": "completed"
    },
    "tags": []
   },
   "outputs": [],
   "source": [
    "timestamps = pd.read_sql(\"select distinct record_time from EBAY_TOP_BERLIN order by record_time desc limit 2\", sqlite3.connect(\"UsedObjects.db\"))"
   ]
  },
  {
   "cell_type": "code",
   "execution_count": 3,
   "id": "periodic-identification",
   "metadata": {
    "execution": {
     "iopub.execute_input": "2021-12-04T15:30:10.113351Z",
     "iopub.status.busy": "2021-12-04T15:30:10.111224Z",
     "iopub.status.idle": "2021-12-04T15:30:10.131976Z",
     "shell.execute_reply": "2021-12-04T15:30:10.133441Z"
    },
    "papermill": {
     "duration": 0.066132,
     "end_time": "2021-12-04T15:30:10.133941",
     "exception": false,
     "start_time": "2021-12-04T15:30:10.067809",
     "status": "completed"
    },
    "tags": []
   },
   "outputs": [
    {
     "data": {
      "text/html": [
       "<div>\n",
       "<style scoped>\n",
       "    .dataframe tbody tr th:only-of-type {\n",
       "        vertical-align: middle;\n",
       "    }\n",
       "\n",
       "    .dataframe tbody tr th {\n",
       "        vertical-align: top;\n",
       "    }\n",
       "\n",
       "    .dataframe thead th {\n",
       "        text-align: right;\n",
       "    }\n",
       "</style>\n",
       "<table border=\"1\" class=\"dataframe\">\n",
       "  <thead>\n",
       "    <tr style=\"text-align: right;\">\n",
       "      <th></th>\n",
       "      <th>RECORD_TIME</th>\n",
       "    </tr>\n",
       "  </thead>\n",
       "  <tbody>\n",
       "    <tr>\n",
       "      <th>0</th>\n",
       "      <td>2021-12-04 16:30</td>\n",
       "    </tr>\n",
       "    <tr>\n",
       "      <th>1</th>\n",
       "      <td>2021-12-04 16:00</td>\n",
       "    </tr>\n",
       "  </tbody>\n",
       "</table>\n",
       "</div>"
      ],
      "text/plain": [
       "        RECORD_TIME\n",
       "0  2021-12-04 16:30\n",
       "1  2021-12-04 16:00"
      ]
     },
     "execution_count": 3,
     "metadata": {},
     "output_type": "execute_result"
    }
   ],
   "source": [
    "timestamps"
   ]
  },
  {
   "cell_type": "code",
   "execution_count": 4,
   "id": "alternate-victory",
   "metadata": {
    "execution": {
     "iopub.execute_input": "2021-12-04T15:30:10.188734Z",
     "iopub.status.busy": "2021-12-04T15:30:10.186620Z",
     "iopub.status.idle": "2021-12-04T15:30:11.625909Z",
     "shell.execute_reply": "2021-12-04T15:30:11.628291Z"
    },
    "papermill": {
     "duration": 1.473416,
     "end_time": "2021-12-04T15:30:11.628910",
     "exception": false,
     "start_time": "2021-12-04T15:30:10.155494",
     "status": "completed"
    },
    "tags": []
   },
   "outputs": [],
   "source": [
    "df = pd.read_sql(\"select * from EBAY_TOP_BERLIN where record_time in (select distinct record_time from EBAY_TOP_BERLIN order by record_time desc limit 2)\", sqlite3.connect(\"UsedObjects.db\"))"
   ]
  },
  {
   "cell_type": "code",
   "execution_count": 5,
   "id": "popular-active",
   "metadata": {
    "execution": {
     "iopub.execute_input": "2021-12-04T15:30:11.704790Z",
     "iopub.status.busy": "2021-12-04T15:30:11.690535Z",
     "iopub.status.idle": "2021-12-04T15:30:11.724320Z",
     "shell.execute_reply": "2021-12-04T15:30:11.725854Z"
    },
    "papermill": {
     "duration": 0.07595,
     "end_time": "2021-12-04T15:30:11.726336",
     "exception": false,
     "start_time": "2021-12-04T15:30:11.650386",
     "status": "completed"
    },
    "tags": []
   },
   "outputs": [],
   "source": [
    "df_pivot = df.pivot_table(index=\"PRODUCT\", columns = \"RECORD_TIME\", values = \"LISTING_COUNT\")"
   ]
  },
  {
   "cell_type": "code",
   "execution_count": 6,
   "id": "union-huntington",
   "metadata": {
    "execution": {
     "iopub.execute_input": "2021-12-04T15:30:11.786568Z",
     "iopub.status.busy": "2021-12-04T15:30:11.784357Z",
     "iopub.status.idle": "2021-12-04T15:30:11.790818Z",
     "shell.execute_reply": "2021-12-04T15:30:11.792322Z"
    },
    "papermill": {
     "duration": 0.046738,
     "end_time": "2021-12-04T15:30:11.792835",
     "exception": false,
     "start_time": "2021-12-04T15:30:11.746097",
     "status": "completed"
    },
    "tags": []
   },
   "outputs": [],
   "source": [
    "df_pivot.columns = [\"stamp_1\", \"stamp_2\"]\n",
    "df_pivot_diff = df_pivot.diff(axis=1)"
   ]
  },
  {
   "cell_type": "code",
   "execution_count": 7,
   "id": "fifth-motion",
   "metadata": {
    "execution": {
     "iopub.execute_input": "2021-12-04T15:30:11.851792Z",
     "iopub.status.busy": "2021-12-04T15:30:11.849317Z",
     "iopub.status.idle": "2021-12-04T15:30:13.877632Z",
     "shell.execute_reply": "2021-12-04T15:30:13.879301Z"
    },
    "papermill": {
     "duration": 2.064383,
     "end_time": "2021-12-04T15:30:13.879809",
     "exception": false,
     "start_time": "2021-12-04T15:30:11.815426",
     "status": "completed"
    },
    "tags": []
   },
   "outputs": [
    {
     "data": {
      "text/plain": [
       "<AxesSubplot:ylabel='PRODUCT'>"
      ]
     },
     "execution_count": 7,
     "metadata": {},
     "output_type": "execute_result"
    },
    {
     "data": {
      "image/png": "[encoded data removed]",
      "text/plain": [
       "<Figure size 432x288 with 1 Axes>"
      ]
     },
     "metadata": {
      "needs_background": "light"
     },
     "output_type": "display_data"
    }
   ],
   "source": [
    "df_pivot_diff.sort_values(\"stamp_2\", ascending = False)[\"stamp_2\"].head(10).plot.barh()"
   ]
  },
  {
   "cell_type": "code",
   "execution_count": null,
   "id": "extra-executive",
   "metadata": {
    "papermill": {
     "duration": 0.065309,
     "end_time": "2021-12-04T15:30:13.970032",
     "exception": false,
     "start_time": "2021-12-04T15:30:13.904723",
     "status": "completed"
    },
    "tags": []
   },
   "outputs": [],
   "source": []
  }
 ],
 "metadata": {
  "kernelspec": {
   "display_name": "Python 3",
   "language": "python",
   "name": "python3"
  },
  "language_info": {
   "codemirror_mode": {
    "name": "ipython",
    "version": 3
   },
   "file_extension": ".py",
   "mimetype": "text/x-python",
   "name": "python",
   "nbconvert_exporter": "python",
   "pygments_lexer": "ipython3",
   "version": "3.9.5"
  },
  "papermill": {
   "default_parameters": {},
   "duration": 9.951018,
   "end_time": "2021-12-04T15:30:15.152932",
   "environment_variables": {},
   "exception": null,
   "input_path": "eBay_Overview.ipynb",
   "output_path": "eBay_Overview.ipynb",
   "parameters": {},
   "start_time": "2021-12-04T15:30:05.201914",
   "version": "2.3.3"
  }
 },
 "nbformat": 4,
 "nbformat_minor": 5
}