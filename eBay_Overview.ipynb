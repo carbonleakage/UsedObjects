{
 "cells": [
  {
   "cell_type": "code",
   "execution_count": 1,
   "id": "reverse-picking",
   "metadata": {
    "execution": {
     "iopub.execute_input": "2021-10-05T06:00:08.096750Z",
     "iopub.status.busy": "2021-10-05T06:00:08.094749Z",
     "iopub.status.idle": "2021-10-05T06:00:08.900375Z",
     "shell.execute_reply": "2021-10-05T06:00:08.902147Z"
    },
    "papermill": {
     "duration": 0.858072,
     "end_time": "2021-10-05T06:00:08.902757",
     "exception": false,
     "start_time": "2021-10-05T06:00:08.044685",
     "status": "completed"
    },
    "tags": []
   },
   "outputs": [],
   "source": [
    "import pandas as pd\n",
    "import sqlite3"
   ]
  },
  {
   "cell_type": "code",
   "execution_count": 2,
   "id": "innovative-syndrome",
   "metadata": {
    "execution": {
     "iopub.execute_input": "2021-10-05T06:00:08.956051Z",
     "iopub.status.busy": "2021-10-05T06:00:08.953951Z",
     "iopub.status.idle": "2021-10-05T06:00:09.403429Z",
     "shell.execute_reply": "2021-10-05T06:00:09.404638Z"
    },
    "papermill": {
     "duration": 0.479075,
     "end_time": "2021-10-05T06:00:09.405026",
     "exception": false,
     "start_time": "2021-10-05T06:00:08.925951",
     "status": "completed"
    },
    "tags": []
   },
   "outputs": [],
   "source": [
    "timestamps = pd.read_sql(\"select distinct record_time from EBAY_TOP_BERLIN order by record_time desc limit 2\", sqlite3.connect(\"UsedObjects.db\"))"
   ]
  },
  {
   "cell_type": "code",
   "execution_count": 3,
   "id": "periodic-identification",
   "metadata": {
    "execution": {
     "iopub.execute_input": "2021-10-05T06:00:09.469891Z",
     "iopub.status.busy": "2021-10-05T06:00:09.467878Z",
     "iopub.status.idle": "2021-10-05T06:00:09.487497Z",
     "shell.execute_reply": "2021-10-05T06:00:09.488729Z"
    },
    "papermill": {
     "duration": 0.063361,
     "end_time": "2021-10-05T06:00:09.489123",
     "exception": false,
     "start_time": "2021-10-05T06:00:09.425762",
     "status": "completed"
    },
    "tags": []
   },
   "outputs": [
    {
     "data": {
      "text/html": [
       "<div>\n",
       "<style scoped>\n",
       "    .dataframe tbody tr th:only-of-type {\n",
       "        vertical-align: middle;\n",
       "    }\n",
       "\n",
       "    .dataframe tbody tr th {\n",
       "        vertical-align: top;\n",
       "    }\n",
       "\n",
       "    .dataframe thead th {\n",
       "        text-align: right;\n",
       "    }\n",
       "</style>\n",
       "<table border=\"1\" class=\"dataframe\">\n",
       "  <thead>\n",
       "    <tr style=\"text-align: right;\">\n",
       "      <th></th>\n",
       "      <th>RECORD_TIME</th>\n",
       "    </tr>\n",
       "  </thead>\n",
       "  <tbody>\n",
       "    <tr>\n",
       "      <th>0</th>\n",
       "      <td>2021-10-05 08:00</td>\n",
       "    </tr>\n",
       "    <tr>\n",
       "      <th>1</th>\n",
       "      <td>2021-10-05 07:30</td>\n",
       "    </tr>\n",
       "  </tbody>\n",
       "</table>\n",
       "</div>"
      ],
      "text/plain": [
       "        RECORD_TIME\n",
       "0  2021-10-05 08:00\n",
       "1  2021-10-05 07:30"
      ]
     },
     "execution_count": 3,
     "metadata": {},
     "output_type": "execute_result"
    }
   ],
   "source": [
    "timestamps"
   ]
  },
  {
   "cell_type": "code",
   "execution_count": 4,
   "id": "alternate-victory",
   "metadata": {
    "execution": {
     "iopub.execute_input": "2021-10-05T06:00:09.550006Z",
     "iopub.status.busy": "2021-10-05T06:00:09.547570Z",
     "iopub.status.idle": "2021-10-05T06:00:10.225027Z",
     "shell.execute_reply": "2021-10-05T06:00:10.226310Z"
    },
    "papermill": {
     "duration": 0.715653,
     "end_time": "2021-10-05T06:00:10.226718",
     "exception": false,
     "start_time": "2021-10-05T06:00:09.511065",
     "status": "completed"
    },
    "tags": []
   },
   "outputs": [],
   "source": [
    "df = pd.read_sql(\"select * from EBAY_TOP_BERLIN where record_time in (select distinct record_time from EBAY_TOP_BERLIN order by record_time desc limit 2)\", sqlite3.connect(\"UsedObjects.db\"))"
   ]
  },
  {
   "cell_type": "code",
   "execution_count": 5,
   "id": "popular-active",
   "metadata": {
    "execution": {
     "iopub.execute_input": "2021-10-05T06:00:10.296324Z",
     "iopub.status.busy": "2021-10-05T06:00:10.285230Z",
     "iopub.status.idle": "2021-10-05T06:00:10.313476Z",
     "shell.execute_reply": "2021-10-05T06:00:10.314681Z"
    },
    "papermill": {
     "duration": 0.068191,
     "end_time": "2021-10-05T06:00:10.315235",
     "exception": false,
     "start_time": "2021-10-05T06:00:10.247044",
     "status": "completed"
    },
    "tags": []
   },
   "outputs": [],
   "source": [
    "df_pivot = df.pivot_table(index=\"PRODUCT\", columns = \"RECORD_TIME\", values = \"LISTING_COUNT\")"
   ]
  },
  {
   "cell_type": "code",
   "execution_count": 6,
   "id": "union-huntington",
   "metadata": {
    "execution": {
     "iopub.execute_input": "2021-10-05T06:00:10.374778Z",
     "iopub.status.busy": "2021-10-05T06:00:10.372354Z",
     "iopub.status.idle": "2021-10-05T06:00:10.378308Z",
     "shell.execute_reply": "2021-10-05T06:00:10.379729Z"
    },
    "papermill": {
     "duration": 0.042729,
     "end_time": "2021-10-05T06:00:10.380170",
     "exception": false,
     "start_time": "2021-10-05T06:00:10.337441",
     "status": "completed"
    },
    "tags": []
   },
   "outputs": [],
   "source": [
    "df_pivot.columns = [\"stamp_1\", \"stamp_2\"]\n",
    "df_pivot_diff = df_pivot.diff(axis=1)"
   ]
  },
  {
   "cell_type": "code",
   "execution_count": 7,
   "id": "fifth-motion",
   "metadata": {
    "execution": {
     "iopub.execute_input": "2021-10-05T06:00:10.434957Z",
     "iopub.status.busy": "2021-10-05T06:00:10.432604Z",
     "iopub.status.idle": "2021-10-05T06:00:11.924945Z",
     "shell.execute_reply": "2021-10-05T06:00:11.926137Z"
    },
    "papermill": {
     "duration": 1.524899,
     "end_time": "2021-10-05T06:00:11.926566",
     "exception": false,
     "start_time": "2021-10-05T06:00:10.401667",
     "status": "completed"
    },
    "tags": []
   },
   "outputs": [
    {
     "data": {
      "text/plain": [
       "<AxesSubplot:ylabel='PRODUCT'>"
      ]
     },
     "execution_count": 7,
     "metadata": {},
     "output_type": "execute_result"
    },
    {
     "data": {
      "image/png": "[encoded data removed]",
      "text/plain": [
       "<Figure size 432x288 with 1 Axes>"
      ]
     },
     "metadata": {
      "needs_background": "light"
     },
     "output_type": "display_data"
    }
   ],
   "source": [
    "df_pivot_diff.sort_values(\"stamp_2\", ascending = False)[\"stamp_2\"].head(10).plot.barh()"
   ]
  },
  {
   "cell_type": "code",
   "execution_count": null,
   "id": "extra-executive",
   "metadata": {
    "papermill": {
     "duration": 0.022429,
     "end_time": "2021-10-05T06:00:11.975388",
     "exception": false,
     "start_time": "2021-10-05T06:00:11.952959",
     "status": "completed"
    },
    "tags": []
   },
   "outputs": [],
   "source": []
  }
 ],
 "metadata": {
  "kernelspec": {
   "display_name": "Python 3",
   "language": "python",
   "name": "python3"
  },
  "language_info": {
   "codemirror_mode": {
    "name": "ipython",
    "version": 3
   },
   "file_extension": ".py",
   "mimetype": "text/x-python",
   "name": "python",
   "nbconvert_exporter": "python",
   "pygments_lexer": "ipython3",
   "version": "3.9.5"
  },
  "papermill": {
   "default_parameters": {},
   "duration": 7.819624,
   "end_time": "2021-10-05T06:00:13.459820",
   "environment_variables": {},
   "exception": null,
   "input_path": "eBay_Overview.ipynb",
   "output_path": "eBay_Overview.ipynb",
   "parameters": {},
   "start_time": "2021-10-05T06:00:05.640196",
   "version": "2.3.3"
  }
 },
 "nbformat": 4,
 "nbformat_minor": 5
}