{
 "cells": [
  {
   "cell_type": "code",
   "execution_count": 1,
   "id": "reverse-picking",
   "metadata": {
    "execution": {
     "iopub.execute_input": "2021-12-13T02:00:07.188957Z",
     "iopub.status.busy": "2021-12-13T02:00:07.186830Z",
     "iopub.status.idle": "2021-12-13T02:00:08.144346Z",
     "shell.execute_reply": "2021-12-13T02:00:08.146060Z"
    },
    "papermill": {
     "duration": 1.006567,
     "end_time": "2021-12-13T02:00:08.146873",
     "exception": false,
     "start_time": "2021-12-13T02:00:07.140306",
     "status": "completed"
    },
    "tags": []
   },
   "outputs": [],
   "source": [
    "import pandas as pd\n",
    "import sqlite3"
   ]
  },
  {
   "cell_type": "code",
   "execution_count": 2,
   "id": "innovative-syndrome",
   "metadata": {
    "execution": {
     "iopub.execute_input": "2021-12-13T02:00:08.268731Z",
     "iopub.status.busy": "2021-12-13T02:00:08.266247Z",
     "iopub.status.idle": "2021-12-13T02:00:09.343657Z",
     "shell.execute_reply": "2021-12-13T02:00:09.345328Z"
    },
    "papermill": {
     "duration": 1.111162,
     "end_time": "2021-12-13T02:00:09.345808",
     "exception": false,
     "start_time": "2021-12-13T02:00:08.234646",
     "status": "completed"
    },
    "tags": []
   },
   "outputs": [],
   "source": [
    "timestamps = pd.read_sql(\"select distinct record_time from EBAY_TOP_BERLIN order by record_time desc limit 2\", sqlite3.connect(\"UsedObjects.db\"))"
   ]
  },
  {
   "cell_type": "code",
   "execution_count": 3,
   "id": "periodic-identification",
   "metadata": {
    "execution": {
     "iopub.execute_input": "2021-12-13T02:00:09.421219Z",
     "iopub.status.busy": "2021-12-13T02:00:09.418619Z",
     "iopub.status.idle": "2021-12-13T02:00:09.442023Z",
     "shell.execute_reply": "2021-12-13T02:00:09.443606Z"
    },
    "papermill": {
     "duration": 0.077738,
     "end_time": "2021-12-13T02:00:09.444085",
     "exception": false,
     "start_time": "2021-12-13T02:00:09.366347",
     "status": "completed"
    },
    "tags": []
   },
   "outputs": [
    {
     "data": {
      "text/html": [
       "<div>\n",
       "<style scoped>\n",
       "    .dataframe tbody tr th:only-of-type {\n",
       "        vertical-align: middle;\n",
       "    }\n",
       "\n",
       "    .dataframe tbody tr th {\n",
       "        vertical-align: top;\n",
       "    }\n",
       "\n",
       "    .dataframe thead th {\n",
       "        text-align: right;\n",
       "    }\n",
       "</style>\n",
       "<table border=\"1\" class=\"dataframe\">\n",
       "  <thead>\n",
       "    <tr style=\"text-align: right;\">\n",
       "      <th></th>\n",
       "      <th>RECORD_TIME</th>\n",
       "    </tr>\n",
       "  </thead>\n",
       "  <tbody>\n",
       "    <tr>\n",
       "      <th>0</th>\n",
       "      <td>2021-12-13 03:00</td>\n",
       "    </tr>\n",
       "    <tr>\n",
       "      <th>1</th>\n",
       "      <td>2021-12-13 02:30</td>\n",
       "    </tr>\n",
       "  </tbody>\n",
       "</table>\n",
       "</div>"
      ],
      "text/plain": [
       "        RECORD_TIME\n",
       "0  2021-12-13 03:00\n",
       "1  2021-12-13 02:30"
      ]
     },
     "execution_count": 3,
     "metadata": {},
     "output_type": "execute_result"
    }
   ],
   "source": [
    "timestamps"
   ]
  },
  {
   "cell_type": "code",
   "execution_count": 4,
   "id": "alternate-victory",
   "metadata": {
    "execution": {
     "iopub.execute_input": "2021-12-13T02:00:09.500516Z",
     "iopub.status.busy": "2021-12-13T02:00:09.498346Z",
     "iopub.status.idle": "2021-12-13T02:00:11.043470Z",
     "shell.execute_reply": "2021-12-13T02:00:11.045158Z"
    },
    "papermill": {
     "duration": 1.579018,
     "end_time": "2021-12-13T02:00:11.045653",
     "exception": false,
     "start_time": "2021-12-13T02:00:09.466635",
     "status": "completed"
    },
    "tags": []
   },
   "outputs": [],
   "source": [
    "df = pd.read_sql(\"select * from EBAY_TOP_BERLIN where record_time in (select distinct record_time from EBAY_TOP_BERLIN order by record_time desc limit 2)\", sqlite3.connect(\"UsedObjects.db\"))"
   ]
  },
  {
   "cell_type": "code",
   "execution_count": 5,
   "id": "popular-active",
   "metadata": {
    "execution": {
     "iopub.execute_input": "2021-12-13T02:00:11.125892Z",
     "iopub.status.busy": "2021-12-13T02:00:11.110143Z",
     "iopub.status.idle": "2021-12-13T02:00:11.144001Z",
     "shell.execute_reply": "2021-12-13T02:00:11.145454Z"
    },
    "papermill": {
     "duration": 0.078178,
     "end_time": "2021-12-13T02:00:11.145928",
     "exception": false,
     "start_time": "2021-12-13T02:00:11.067750",
     "status": "completed"
    },
    "tags": []
   },
   "outputs": [],
   "source": [
    "df_pivot = df.pivot_table(index=\"PRODUCT\", columns = \"RECORD_TIME\", values = \"LISTING_COUNT\")"
   ]
  },
  {
   "cell_type": "code",
   "execution_count": 6,
   "id": "union-huntington",
   "metadata": {
    "execution": {
     "iopub.execute_input": "2021-12-13T02:00:11.203758Z",
     "iopub.status.busy": "2021-12-13T02:00:11.201562Z",
     "iopub.status.idle": "2021-12-13T02:00:11.207267Z",
     "shell.execute_reply": "2021-12-13T02:00:11.208647Z"
    },
    "papermill": {
     "duration": 0.043512,
     "end_time": "2021-12-13T02:00:11.209177",
     "exception": false,
     "start_time": "2021-12-13T02:00:11.165665",
     "status": "completed"
    },
    "tags": []
   },
   "outputs": [],
   "source": [
    "df_pivot.columns = [\"stamp_1\", \"stamp_2\"]\n",
    "df_pivot_diff = df_pivot.diff(axis=1)"
   ]
  },
  {
   "cell_type": "code",
   "execution_count": 7,
   "id": "fifth-motion",
   "metadata": {
    "execution": {
     "iopub.execute_input": "2021-12-13T02:00:11.270063Z",
     "iopub.status.busy": "2021-12-13T02:00:11.267344Z",
     "iopub.status.idle": "2021-12-13T02:00:13.241152Z",
     "shell.execute_reply": "2021-12-13T02:00:13.244202Z"
    },
    "papermill": {
     "duration": 2.015872,
     "end_time": "2021-12-13T02:00:13.245215",
     "exception": false,
     "start_time": "2021-12-13T02:00:11.229343",
     "status": "completed"
    },
    "tags": []
   },
   "outputs": [
    {
     "data": {
      "text/plain": [
       "<AxesSubplot:ylabel='PRODUCT'>"
      ]
     },
     "execution_count": 7,
     "metadata": {},
     "output_type": "execute_result"
    },
    {
     "data": {
      "image/png": "[encoded data removed]",
      "text/plain": [
       "<Figure size 432x288 with 1 Axes>"
      ]
     },
     "metadata": {
      "needs_background": "light"
     },
     "output_type": "display_data"
    }
   ],
   "source": [
    "df_pivot_diff.sort_values(\"stamp_2\", ascending = False)[\"stamp_2\"].head(10).plot.barh()"
   ]
  },
  {
   "cell_type": "code",
   "execution_count": null,
   "id": "extra-executive",
   "metadata": {
    "papermill": {
     "duration": 0.032133,
     "end_time": "2021-12-13T02:00:13.372618",
     "exception": false,
     "start_time": "2021-12-13T02:00:13.340485",
     "status": "completed"
    },
    "tags": []
   },
   "outputs": [],
   "source": []
  }
 ],
 "metadata": {
  "kernelspec": {
   "display_name": "Python 3",
   "language": "python",
   "name": "python3"
  },
  "language_info": {
   "codemirror_mode": {
    "name": "ipython",
    "version": 3
   },
   "file_extension": ".py",
   "mimetype": "text/x-python",
   "name": "python",
   "nbconvert_exporter": "python",
   "pygments_lexer": "ipython3",
   "version": "3.9.5"
  },
  "papermill": {
   "default_parameters": {},
   "duration": 9.831296,
   "end_time": "2021-12-13T02:00:14.140306",
   "environment_variables": {},
   "exception": null,
   "input_path": "eBay_Overview.ipynb",
   "output_path": "eBay_Overview.ipynb",
   "parameters": {},
   "start_time": "2021-12-13T02:00:04.309010",
   "version": "2.3.3"
  }
 },
 "nbformat": 4,
 "nbformat_minor": 5
}