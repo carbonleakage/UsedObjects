{
 "cells": [
  {
   "cell_type": "code",
   "execution_count": 1,
   "id": "reverse-picking",
   "metadata": {
    "execution": {
     "iopub.execute_input": "2021-11-09T17:30:07.322311Z",
     "iopub.status.busy": "2021-11-09T17:30:07.320070Z",
     "iopub.status.idle": "2021-11-09T17:30:08.279254Z",
     "shell.execute_reply": "2021-11-09T17:30:08.280928Z"
    },
    "papermill": {
     "duration": 1.006591,
     "end_time": "2021-11-09T17:30:08.281673",
     "exception": false,
     "start_time": "2021-11-09T17:30:07.275082",
     "status": "completed"
    },
    "tags": []
   },
   "outputs": [],
   "source": [
    "import pandas as pd\n",
    "import sqlite3"
   ]
  },
  {
   "cell_type": "code",
   "execution_count": 2,
   "id": "innovative-syndrome",
   "metadata": {
    "execution": {
     "iopub.execute_input": "2021-11-09T17:30:08.340415Z",
     "iopub.status.busy": "2021-11-09T17:30:08.338110Z",
     "iopub.status.idle": "2021-11-09T17:30:09.111115Z",
     "shell.execute_reply": "2021-11-09T17:30:09.112612Z"
    },
    "papermill": {
     "duration": 0.806808,
     "end_time": "2021-11-09T17:30:09.113156",
     "exception": false,
     "start_time": "2021-11-09T17:30:08.306348",
     "status": "completed"
    },
    "tags": []
   },
   "outputs": [],
   "source": [
    "timestamps = pd.read_sql(\"select distinct record_time from EBAY_TOP_BERLIN order by record_time desc limit 2\", sqlite3.connect(\"UsedObjects.db\"))"
   ]
  },
  {
   "cell_type": "code",
   "execution_count": 3,
   "id": "periodic-identification",
   "metadata": {
    "execution": {
     "iopub.execute_input": "2021-11-09T17:30:09.193784Z",
     "iopub.status.busy": "2021-11-09T17:30:09.179923Z",
     "iopub.status.idle": "2021-11-09T17:30:09.202003Z",
     "shell.execute_reply": "2021-11-09T17:30:09.203472Z"
    },
    "papermill": {
     "duration": 0.070896,
     "end_time": "2021-11-09T17:30:09.203958",
     "exception": false,
     "start_time": "2021-11-09T17:30:09.133062",
     "status": "completed"
    },
    "tags": []
   },
   "outputs": [
    {
     "data": {
      "text/html": [
       "<div>\n",
       "<style scoped>\n",
       "    .dataframe tbody tr th:only-of-type {\n",
       "        vertical-align: middle;\n",
       "    }\n",
       "\n",
       "    .dataframe tbody tr th {\n",
       "        vertical-align: top;\n",
       "    }\n",
       "\n",
       "    .dataframe thead th {\n",
       "        text-align: right;\n",
       "    }\n",
       "</style>\n",
       "<table border=\"1\" class=\"dataframe\">\n",
       "  <thead>\n",
       "    <tr style=\"text-align: right;\">\n",
       "      <th></th>\n",
       "      <th>RECORD_TIME</th>\n",
       "    </tr>\n",
       "  </thead>\n",
       "  <tbody>\n",
       "    <tr>\n",
       "      <th>0</th>\n",
       "      <td>2021-11-09 18:30</td>\n",
       "    </tr>\n",
       "    <tr>\n",
       "      <th>1</th>\n",
       "      <td>2021-11-09 18:00</td>\n",
       "    </tr>\n",
       "  </tbody>\n",
       "</table>\n",
       "</div>"
      ],
      "text/plain": [
       "        RECORD_TIME\n",
       "0  2021-11-09 18:30\n",
       "1  2021-11-09 18:00"
      ]
     },
     "execution_count": 3,
     "metadata": {},
     "output_type": "execute_result"
    }
   ],
   "source": [
    "timestamps"
   ]
  },
  {
   "cell_type": "code",
   "execution_count": 4,
   "id": "alternate-victory",
   "metadata": {
    "execution": {
     "iopub.execute_input": "2021-11-09T17:30:09.260123Z",
     "iopub.status.busy": "2021-11-09T17:30:09.257909Z",
     "iopub.status.idle": "2021-11-09T17:30:10.378626Z",
     "shell.execute_reply": "2021-11-09T17:30:10.380851Z"
    },
    "papermill": {
     "duration": 1.155959,
     "end_time": "2021-11-09T17:30:10.381340",
     "exception": false,
     "start_time": "2021-11-09T17:30:09.225381",
     "status": "completed"
    },
    "tags": []
   },
   "outputs": [],
   "source": [
    "df = pd.read_sql(\"select * from EBAY_TOP_BERLIN where record_time in (select distinct record_time from EBAY_TOP_BERLIN order by record_time desc limit 2)\", sqlite3.connect(\"UsedObjects.db\"))"
   ]
  },
  {
   "cell_type": "code",
   "execution_count": 5,
   "id": "popular-active",
   "metadata": {
    "execution": {
     "iopub.execute_input": "2021-11-09T17:30:10.460656Z",
     "iopub.status.busy": "2021-11-09T17:30:10.446129Z",
     "iopub.status.idle": "2021-11-09T17:30:10.481203Z",
     "shell.execute_reply": "2021-11-09T17:30:10.482776Z"
    },
    "papermill": {
     "duration": 0.0801,
     "end_time": "2021-11-09T17:30:10.483253",
     "exception": false,
     "start_time": "2021-11-09T17:30:10.403153",
     "status": "completed"
    },
    "tags": []
   },
   "outputs": [],
   "source": [
    "df_pivot = df.pivot_table(index=\"PRODUCT\", columns = \"RECORD_TIME\", values = \"LISTING_COUNT\")"
   ]
  },
  {
   "cell_type": "code",
   "execution_count": 6,
   "id": "union-huntington",
   "metadata": {
    "execution": {
     "iopub.execute_input": "2021-11-09T17:30:10.545380Z",
     "iopub.status.busy": "2021-11-09T17:30:10.543192Z",
     "iopub.status.idle": "2021-11-09T17:30:10.549314Z",
     "shell.execute_reply": "2021-11-09T17:30:10.550756Z"
    },
    "papermill": {
     "duration": 0.044798,
     "end_time": "2021-11-09T17:30:10.551205",
     "exception": false,
     "start_time": "2021-11-09T17:30:10.506407",
     "status": "completed"
    },
    "tags": []
   },
   "outputs": [],
   "source": [
    "df_pivot.columns = [\"stamp_1\", \"stamp_2\"]\n",
    "df_pivot_diff = df_pivot.diff(axis=1)"
   ]
  },
  {
   "cell_type": "code",
   "execution_count": 7,
   "id": "fifth-motion",
   "metadata": {
    "execution": {
     "iopub.execute_input": "2021-11-09T17:30:10.607278Z",
     "iopub.status.busy": "2021-11-09T17:30:10.604912Z",
     "iopub.status.idle": "2021-11-09T17:30:12.384873Z",
     "shell.execute_reply": "2021-11-09T17:30:12.386834Z"
    },
    "papermill": {
     "duration": 1.816088,
     "end_time": "2021-11-09T17:30:12.387351",
     "exception": false,
     "start_time": "2021-11-09T17:30:10.571263",
     "status": "completed"
    },
    "tags": []
   },
   "outputs": [
    {
     "data": {
      "text/plain": [
       "<AxesSubplot:ylabel='PRODUCT'>"
      ]
     },
     "execution_count": 7,
     "metadata": {},
     "output_type": "execute_result"
    },
    {
     "data": {
      "image/png": "[encoded data removed]",
      "text/plain": [
       "<Figure size 432x288 with 1 Axes>"
      ]
     },
     "metadata": {
      "needs_background": "light"
     },
     "output_type": "display_data"
    }
   ],
   "source": [
    "df_pivot_diff.sort_values(\"stamp_2\", ascending = False)[\"stamp_2\"].head(10).plot.barh()"
   ]
  },
  {
   "cell_type": "code",
   "execution_count": null,
   "id": "extra-executive",
   "metadata": {
    "papermill": {
     "duration": 0.036165,
     "end_time": "2021-11-09T17:30:12.459382",
     "exception": false,
     "start_time": "2021-11-09T17:30:12.423217",
     "status": "completed"
    },
    "tags": []
   },
   "outputs": [],
   "source": []
  }
 ],
 "metadata": {
  "kernelspec": {
   "display_name": "Python 3",
   "language": "python",
   "name": "python3"
  },
  "language_info": {
   "codemirror_mode": {
    "name": "ipython",
    "version": 3
   },
   "file_extension": ".py",
   "mimetype": "text/x-python",
   "name": "python",
   "nbconvert_exporter": "python",
   "pygments_lexer": "ipython3",
   "version": "3.9.5"
  },
  "papermill": {
   "default_parameters": {},
   "duration": 8.790213,
   "end_time": "2021-11-09T17:30:13.336295",
   "environment_variables": {},
   "exception": null,
   "input_path": "eBay_Overview.ipynb",
   "output_path": "eBay_Overview.ipynb",
   "parameters": {},
   "start_time": "2021-11-09T17:30:04.546082",
   "version": "2.3.3"
  }
 },
 "nbformat": 4,
 "nbformat_minor": 5
}