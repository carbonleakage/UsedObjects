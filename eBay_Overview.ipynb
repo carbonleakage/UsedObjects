{
 "cells": [
  {
   "cell_type": "code",
   "execution_count": 1,
   "id": "reverse-picking",
   "metadata": {
    "execution": {
     "iopub.execute_input": "2021-11-26T03:30:07.463634Z",
     "iopub.status.busy": "2021-11-26T03:30:07.461559Z",
     "iopub.status.idle": "2021-11-26T03:30:08.381530Z",
     "shell.execute_reply": "2021-11-26T03:30:08.383767Z"
    },
    "papermill": {
     "duration": 0.974982,
     "end_time": "2021-11-26T03:30:08.384558",
     "exception": false,
     "start_time": "2021-11-26T03:30:07.409576",
     "status": "completed"
    },
    "tags": []
   },
   "outputs": [],
   "source": [
    "import pandas as pd\n",
    "import sqlite3"
   ]
  },
  {
   "cell_type": "code",
   "execution_count": 2,
   "id": "innovative-syndrome",
   "metadata": {
    "execution": {
     "iopub.execute_input": "2021-11-26T03:30:08.446551Z",
     "iopub.status.busy": "2021-11-26T03:30:08.444147Z",
     "iopub.status.idle": "2021-11-26T03:30:09.354641Z",
     "shell.execute_reply": "2021-11-26T03:30:09.356323Z"
    },
    "papermill": {
     "duration": 0.944757,
     "end_time": "2021-11-26T03:30:09.357307",
     "exception": false,
     "start_time": "2021-11-26T03:30:08.412550",
     "status": "completed"
    },
    "tags": []
   },
   "outputs": [],
   "source": [
    "timestamps = pd.read_sql(\"select distinct record_time from EBAY_TOP_BERLIN order by record_time desc limit 2\", sqlite3.connect(\"UsedObjects.db\"))"
   ]
  },
  {
   "cell_type": "code",
   "execution_count": 3,
   "id": "periodic-identification",
   "metadata": {
    "execution": {
     "iopub.execute_input": "2021-11-26T03:30:09.414330Z",
     "iopub.status.busy": "2021-11-26T03:30:09.411746Z",
     "iopub.status.idle": "2021-11-26T03:30:09.447647Z",
     "shell.execute_reply": "2021-11-26T03:30:09.449357Z"
    },
    "papermill": {
     "duration": 0.071556,
     "end_time": "2021-11-26T03:30:09.449930",
     "exception": false,
     "start_time": "2021-11-26T03:30:09.378374",
     "status": "completed"
    },
    "tags": []
   },
   "outputs": [
    {
     "data": {
      "text/html": [
       "<div>\n",
       "<style scoped>\n",
       "    .dataframe tbody tr th:only-of-type {\n",
       "        vertical-align: middle;\n",
       "    }\n",
       "\n",
       "    .dataframe tbody tr th {\n",
       "        vertical-align: top;\n",
       "    }\n",
       "\n",
       "    .dataframe thead th {\n",
       "        text-align: right;\n",
       "    }\n",
       "</style>\n",
       "<table border=\"1\" class=\"dataframe\">\n",
       "  <thead>\n",
       "    <tr style=\"text-align: right;\">\n",
       "      <th></th>\n",
       "      <th>RECORD_TIME</th>\n",
       "    </tr>\n",
       "  </thead>\n",
       "  <tbody>\n",
       "    <tr>\n",
       "      <th>0</th>\n",
       "      <td>2021-11-26 04:30</td>\n",
       "    </tr>\n",
       "    <tr>\n",
       "      <th>1</th>\n",
       "      <td>2021-11-26 04:00</td>\n",
       "    </tr>\n",
       "  </tbody>\n",
       "</table>\n",
       "</div>"
      ],
      "text/plain": [
       "        RECORD_TIME\n",
       "0  2021-11-26 04:30\n",
       "1  2021-11-26 04:00"
      ]
     },
     "execution_count": 3,
     "metadata": {},
     "output_type": "execute_result"
    }
   ],
   "source": [
    "timestamps"
   ]
  },
  {
   "cell_type": "code",
   "execution_count": 4,
   "id": "alternate-victory",
   "metadata": {
    "execution": {
     "iopub.execute_input": "2021-11-26T03:30:09.507505Z",
     "iopub.status.busy": "2021-11-26T03:30:09.505505Z",
     "iopub.status.idle": "2021-11-26T03:30:10.849664Z",
     "shell.execute_reply": "2021-11-26T03:30:10.851222Z"
    },
    "papermill": {
     "duration": 1.37995,
     "end_time": "2021-11-26T03:30:10.851761",
     "exception": false,
     "start_time": "2021-11-26T03:30:09.471811",
     "status": "completed"
    },
    "tags": []
   },
   "outputs": [],
   "source": [
    "df = pd.read_sql(\"select * from EBAY_TOP_BERLIN where record_time in (select distinct record_time from EBAY_TOP_BERLIN order by record_time desc limit 2)\", sqlite3.connect(\"UsedObjects.db\"))"
   ]
  },
  {
   "cell_type": "code",
   "execution_count": 5,
   "id": "popular-active",
   "metadata": {
    "execution": {
     "iopub.execute_input": "2021-11-26T03:30:10.931123Z",
     "iopub.status.busy": "2021-11-26T03:30:10.916625Z",
     "iopub.status.idle": "2021-11-26T03:30:10.948988Z",
     "shell.execute_reply": "2021-11-26T03:30:10.950377Z"
    },
    "papermill": {
     "duration": 0.077336,
     "end_time": "2021-11-26T03:30:10.950849",
     "exception": false,
     "start_time": "2021-11-26T03:30:10.873513",
     "status": "completed"
    },
    "tags": []
   },
   "outputs": [],
   "source": [
    "df_pivot = df.pivot_table(index=\"PRODUCT\", columns = \"RECORD_TIME\", values = \"LISTING_COUNT\")"
   ]
  },
  {
   "cell_type": "code",
   "execution_count": 6,
   "id": "union-huntington",
   "metadata": {
    "execution": {
     "iopub.execute_input": "2021-11-26T03:30:11.009777Z",
     "iopub.status.busy": "2021-11-26T03:30:11.007520Z",
     "iopub.status.idle": "2021-11-26T03:30:11.012660Z",
     "shell.execute_reply": "2021-11-26T03:30:11.014209Z"
    },
    "papermill": {
     "duration": 0.043866,
     "end_time": "2021-11-26T03:30:11.014675",
     "exception": false,
     "start_time": "2021-11-26T03:30:10.970809",
     "status": "completed"
    },
    "tags": []
   },
   "outputs": [],
   "source": [
    "df_pivot.columns = [\"stamp_1\", \"stamp_2\"]\n",
    "df_pivot_diff = df_pivot.diff(axis=1)"
   ]
  },
  {
   "cell_type": "code",
   "execution_count": 7,
   "id": "fifth-motion",
   "metadata": {
    "execution": {
     "iopub.execute_input": "2021-11-26T03:30:11.075291Z",
     "iopub.status.busy": "2021-11-26T03:30:11.072503Z",
     "iopub.status.idle": "2021-11-26T03:30:13.023159Z",
     "shell.execute_reply": "2021-11-26T03:30:13.026120Z"
    },
    "papermill": {
     "duration": 1.991814,
     "end_time": "2021-11-26T03:30:13.027070",
     "exception": false,
     "start_time": "2021-11-26T03:30:11.035256",
     "status": "completed"
    },
    "tags": []
   },
   "outputs": [
    {
     "data": {
      "text/plain": [
       "<AxesSubplot:ylabel='PRODUCT'>"
      ]
     },
     "execution_count": 7,
     "metadata": {},
     "output_type": "execute_result"
    },
    {
     "data": {
      "image/png": "[encoded data removed]",
      "text/plain": [
       "<Figure size 432x288 with 1 Axes>"
      ]
     },
     "metadata": {
      "needs_background": "light"
     },
     "output_type": "display_data"
    }
   ],
   "source": [
    "df_pivot_diff.sort_values(\"stamp_2\", ascending = False)[\"stamp_2\"].head(10).plot.barh()"
   ]
  },
  {
   "cell_type": "code",
   "execution_count": null,
   "id": "extra-executive",
   "metadata": {
    "papermill": {
     "duration": 0.03104,
     "end_time": "2021-11-26T03:30:13.094477",
     "exception": false,
     "start_time": "2021-11-26T03:30:13.063437",
     "status": "completed"
    },
    "tags": []
   },
   "outputs": [],
   "source": []
  }
 ],
 "metadata": {
  "kernelspec": {
   "display_name": "Python 3",
   "language": "python",
   "name": "python3"
  },
  "language_info": {
   "codemirror_mode": {
    "name": "ipython",
    "version": 3
   },
   "file_extension": ".py",
   "mimetype": "text/x-python",
   "name": "python",
   "nbconvert_exporter": "python",
   "pygments_lexer": "ipython3",
   "version": "3.9.5"
  },
  "papermill": {
   "default_parameters": {},
   "duration": 9.933899,
   "end_time": "2021-11-26T03:30:14.634038",
   "environment_variables": {},
   "exception": null,
   "input_path": "eBay_Overview.ipynb",
   "output_path": "eBay_Overview.ipynb",
   "parameters": {},
   "start_time": "2021-11-26T03:30:04.700139",
   "version": "2.3.3"
  }
 },
 "nbformat": 4,
 "nbformat_minor": 5
}