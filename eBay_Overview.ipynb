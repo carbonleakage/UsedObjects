{
 "cells": [
  {
   "cell_type": "code",
   "execution_count": 1,
   "id": "reverse-picking",
   "metadata": {
    "execution": {
     "iopub.execute_input": "2021-10-25T04:00:06.794427Z",
     "iopub.status.busy": "2021-10-25T04:00:06.792372Z",
     "iopub.status.idle": "2021-10-25T04:00:07.603451Z",
     "shell.execute_reply": "2021-10-25T04:00:07.604877Z"
    },
    "papermill": {
     "duration": 0.863413,
     "end_time": "2021-10-25T04:00:07.605527",
     "exception": false,
     "start_time": "2021-10-25T04:00:06.742114",
     "status": "completed"
    },
    "tags": []
   },
   "outputs": [],
   "source": [
    "import pandas as pd\n",
    "import sqlite3"
   ]
  },
  {
   "cell_type": "code",
   "execution_count": 2,
   "id": "innovative-syndrome",
   "metadata": {
    "execution": {
     "iopub.execute_input": "2021-10-25T04:00:07.658813Z",
     "iopub.status.busy": "2021-10-25T04:00:07.656404Z",
     "iopub.status.idle": "2021-10-25T04:00:08.292007Z",
     "shell.execute_reply": "2021-10-25T04:00:08.293271Z"
    },
    "papermill": {
     "duration": 0.665732,
     "end_time": "2021-10-25T04:00:08.293720",
     "exception": false,
     "start_time": "2021-10-25T04:00:07.627988",
     "status": "completed"
    },
    "tags": []
   },
   "outputs": [],
   "source": [
    "timestamps = pd.read_sql(\"select distinct record_time from EBAY_TOP_BERLIN order by record_time desc limit 2\", sqlite3.connect(\"UsedObjects.db\"))"
   ]
  },
  {
   "cell_type": "code",
   "execution_count": 3,
   "id": "periodic-identification",
   "metadata": {
    "execution": {
     "iopub.execute_input": "2021-10-25T04:00:08.372026Z",
     "iopub.status.busy": "2021-10-25T04:00:08.369921Z",
     "iopub.status.idle": "2021-10-25T04:00:08.390807Z",
     "shell.execute_reply": "2021-10-25T04:00:08.392020Z"
    },
    "papermill": {
     "duration": 0.072059,
     "end_time": "2021-10-25T04:00:08.392413",
     "exception": false,
     "start_time": "2021-10-25T04:00:08.320354",
     "status": "completed"
    },
    "tags": []
   },
   "outputs": [
    {
     "data": {
      "text/html": [
       "<div>\n",
       "<style scoped>\n",
       "    .dataframe tbody tr th:only-of-type {\n",
       "        vertical-align: middle;\n",
       "    }\n",
       "\n",
       "    .dataframe tbody tr th {\n",
       "        vertical-align: top;\n",
       "    }\n",
       "\n",
       "    .dataframe thead th {\n",
       "        text-align: right;\n",
       "    }\n",
       "</style>\n",
       "<table border=\"1\" class=\"dataframe\">\n",
       "  <thead>\n",
       "    <tr style=\"text-align: right;\">\n",
       "      <th></th>\n",
       "      <th>RECORD_TIME</th>\n",
       "    </tr>\n",
       "  </thead>\n",
       "  <tbody>\n",
       "    <tr>\n",
       "      <th>0</th>\n",
       "      <td>2021-10-25 06:00</td>\n",
       "    </tr>\n",
       "    <tr>\n",
       "      <th>1</th>\n",
       "      <td>2021-10-25 05:30</td>\n",
       "    </tr>\n",
       "  </tbody>\n",
       "</table>\n",
       "</div>"
      ],
      "text/plain": [
       "        RECORD_TIME\n",
       "0  2021-10-25 06:00\n",
       "1  2021-10-25 05:30"
      ]
     },
     "execution_count": 3,
     "metadata": {},
     "output_type": "execute_result"
    }
   ],
   "source": [
    "timestamps"
   ]
  },
  {
   "cell_type": "code",
   "execution_count": 4,
   "id": "alternate-victory",
   "metadata": {
    "execution": {
     "iopub.execute_input": "2021-10-25T04:00:08.445953Z",
     "iopub.status.busy": "2021-10-25T04:00:08.443555Z",
     "iopub.status.idle": "2021-10-25T04:00:09.348396Z",
     "shell.execute_reply": "2021-10-25T04:00:09.347081Z"
    },
    "papermill": {
     "duration": 0.933765,
     "end_time": "2021-10-25T04:00:09.348783",
     "exception": false,
     "start_time": "2021-10-25T04:00:08.415018",
     "status": "completed"
    },
    "tags": []
   },
   "outputs": [],
   "source": [
    "df = pd.read_sql(\"select * from EBAY_TOP_BERLIN where record_time in (select distinct record_time from EBAY_TOP_BERLIN order by record_time desc limit 2)\", sqlite3.connect(\"UsedObjects.db\"))"
   ]
  },
  {
   "cell_type": "code",
   "execution_count": 5,
   "id": "popular-active",
   "metadata": {
    "execution": {
     "iopub.execute_input": "2021-10-25T04:00:09.414343Z",
     "iopub.status.busy": "2021-10-25T04:00:09.406671Z",
     "iopub.status.idle": "2021-10-25T04:00:09.434749Z",
     "shell.execute_reply": "2021-10-25T04:00:09.436034Z"
    },
    "papermill": {
     "duration": 0.066721,
     "end_time": "2021-10-25T04:00:09.436453",
     "exception": false,
     "start_time": "2021-10-25T04:00:09.369732",
     "status": "completed"
    },
    "tags": []
   },
   "outputs": [],
   "source": [
    "df_pivot = df.pivot_table(index=\"PRODUCT\", columns = \"RECORD_TIME\", values = \"LISTING_COUNT\")"
   ]
  },
  {
   "cell_type": "code",
   "execution_count": 6,
   "id": "union-huntington",
   "metadata": {
    "execution": {
     "iopub.execute_input": "2021-10-25T04:00:09.493416Z",
     "iopub.status.busy": "2021-10-25T04:00:09.491295Z",
     "iopub.status.idle": "2021-10-25T04:00:09.496340Z",
     "shell.execute_reply": "2021-10-25T04:00:09.497727Z"
    },
    "papermill": {
     "duration": 0.041256,
     "end_time": "2021-10-25T04:00:09.498158",
     "exception": false,
     "start_time": "2021-10-25T04:00:09.456902",
     "status": "completed"
    },
    "tags": []
   },
   "outputs": [],
   "source": [
    "df_pivot.columns = [\"stamp_1\", \"stamp_2\"]\n",
    "df_pivot_diff = df_pivot.diff(axis=1)"
   ]
  },
  {
   "cell_type": "code",
   "execution_count": 7,
   "id": "fifth-motion",
   "metadata": {
    "execution": {
     "iopub.execute_input": "2021-10-25T04:00:09.553957Z",
     "iopub.status.busy": "2021-10-25T04:00:09.551341Z",
     "iopub.status.idle": "2021-10-25T04:00:11.013306Z",
     "shell.execute_reply": "2021-10-25T04:00:11.014599Z"
    },
    "papermill": {
     "duration": 1.495173,
     "end_time": "2021-10-25T04:00:11.015017",
     "exception": false,
     "start_time": "2021-10-25T04:00:09.519844",
     "status": "completed"
    },
    "tags": []
   },
   "outputs": [
    {
     "data": {
      "text/plain": [
       "<AxesSubplot:ylabel='PRODUCT'>"
      ]
     },
     "execution_count": 7,
     "metadata": {},
     "output_type": "execute_result"
    },
    {
     "data": {
      "image/png": "[encoded data removed]",
      "text/plain": [
       "<Figure size 432x288 with 1 Axes>"
      ]
     },
     "metadata": {
      "needs_background": "light"
     },
     "output_type": "display_data"
    }
   ],
   "source": [
    "df_pivot_diff.sort_values(\"stamp_2\", ascending = False)[\"stamp_2\"].head(10).plot.barh()"
   ]
  },
  {
   "cell_type": "code",
   "execution_count": null,
   "id": "extra-executive",
   "metadata": {
    "papermill": {
     "duration": 0.022388,
     "end_time": "2021-10-25T04:00:11.062317",
     "exception": false,
     "start_time": "2021-10-25T04:00:11.039929",
     "status": "completed"
    },
    "tags": []
   },
   "outputs": [],
   "source": []
  }
 ],
 "metadata": {
  "kernelspec": {
   "display_name": "Python 3",
   "language": "python",
   "name": "python3"
  },
  "language_info": {
   "codemirror_mode": {
    "name": "ipython",
    "version": 3
   },
   "file_extension": ".py",
   "mimetype": "text/x-python",
   "name": "python",
   "nbconvert_exporter": "python",
   "pygments_lexer": "ipython3",
   "version": "3.9.5"
  },
  "papermill": {
   "default_parameters": {},
   "duration": 7.365305,
   "end_time": "2021-10-25T04:00:11.703302",
   "environment_variables": {},
   "exception": null,
   "input_path": "eBay_Overview.ipynb",
   "output_path": "eBay_Overview.ipynb",
   "parameters": {},
   "start_time": "2021-10-25T04:00:04.337997",
   "version": "2.3.3"
  }
 },
 "nbformat": 4,
 "nbformat_minor": 5
}