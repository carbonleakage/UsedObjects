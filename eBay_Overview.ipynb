{
 "cells": [
  {
   "cell_type": "code",
   "execution_count": 1,
   "id": "reverse-picking",
   "metadata": {
    "execution": {
     "iopub.execute_input": "2021-11-20T11:00:08.209611Z",
     "iopub.status.busy": "2021-11-20T11:00:08.207135Z",
     "iopub.status.idle": "2021-11-20T11:00:09.128042Z",
     "shell.execute_reply": "2021-11-20T11:00:09.129661Z"
    },
    "papermill": {
     "duration": 0.972252,
     "end_time": "2021-11-20T11:00:09.130415",
     "exception": false,
     "start_time": "2021-11-20T11:00:08.158163",
     "status": "completed"
    },
    "tags": []
   },
   "outputs": [],
   "source": [
    "import pandas as pd\n",
    "import sqlite3"
   ]
  },
  {
   "cell_type": "code",
   "execution_count": 2,
   "id": "innovative-syndrome",
   "metadata": {
    "execution": {
     "iopub.execute_input": "2021-11-20T11:00:09.194919Z",
     "iopub.status.busy": "2021-11-20T11:00:09.192633Z",
     "iopub.status.idle": "2021-11-20T11:00:10.055882Z",
     "shell.execute_reply": "2021-11-20T11:00:10.057980Z"
    },
    "papermill": {
     "duration": 0.898208,
     "end_time": "2021-11-20T11:00:10.058562",
     "exception": false,
     "start_time": "2021-11-20T11:00:09.160354",
     "status": "completed"
    },
    "tags": []
   },
   "outputs": [],
   "source": [
    "timestamps = pd.read_sql(\"select distinct record_time from EBAY_TOP_BERLIN order by record_time desc limit 2\", sqlite3.connect(\"UsedObjects.db\"))"
   ]
  },
  {
   "cell_type": "code",
   "execution_count": 3,
   "id": "periodic-identification",
   "metadata": {
    "execution": {
     "iopub.execute_input": "2021-11-20T11:00:10.131419Z",
     "iopub.status.busy": "2021-11-20T11:00:10.129137Z",
     "iopub.status.idle": "2021-11-20T11:00:10.153311Z",
     "shell.execute_reply": "2021-11-20T11:00:10.154641Z"
    },
    "papermill": {
     "duration": 0.075015,
     "end_time": "2021-11-20T11:00:10.155103",
     "exception": false,
     "start_time": "2021-11-20T11:00:10.080088",
     "status": "completed"
    },
    "tags": []
   },
   "outputs": [
    {
     "data": {
      "text/html": [
       "<div>\n",
       "<style scoped>\n",
       "    .dataframe tbody tr th:only-of-type {\n",
       "        vertical-align: middle;\n",
       "    }\n",
       "\n",
       "    .dataframe tbody tr th {\n",
       "        vertical-align: top;\n",
       "    }\n",
       "\n",
       "    .dataframe thead th {\n",
       "        text-align: right;\n",
       "    }\n",
       "</style>\n",
       "<table border=\"1\" class=\"dataframe\">\n",
       "  <thead>\n",
       "    <tr style=\"text-align: right;\">\n",
       "      <th></th>\n",
       "      <th>RECORD_TIME</th>\n",
       "    </tr>\n",
       "  </thead>\n",
       "  <tbody>\n",
       "    <tr>\n",
       "      <th>0</th>\n",
       "      <td>2021-11-20 12:00</td>\n",
       "    </tr>\n",
       "    <tr>\n",
       "      <th>1</th>\n",
       "      <td>2021-11-20 11:30</td>\n",
       "    </tr>\n",
       "  </tbody>\n",
       "</table>\n",
       "</div>"
      ],
      "text/plain": [
       "        RECORD_TIME\n",
       "0  2021-11-20 12:00\n",
       "1  2021-11-20 11:30"
      ]
     },
     "execution_count": 3,
     "metadata": {},
     "output_type": "execute_result"
    }
   ],
   "source": [
    "timestamps"
   ]
  },
  {
   "cell_type": "code",
   "execution_count": 4,
   "id": "alternate-victory",
   "metadata": {
    "execution": {
     "iopub.execute_input": "2021-11-20T11:00:10.210870Z",
     "iopub.status.busy": "2021-11-20T11:00:10.208529Z",
     "iopub.status.idle": "2021-11-20T11:00:11.482513Z",
     "shell.execute_reply": "2021-11-20T11:00:11.483701Z"
    },
    "papermill": {
     "duration": 1.308239,
     "end_time": "2021-11-20T11:00:11.484129",
     "exception": false,
     "start_time": "2021-11-20T11:00:10.175890",
     "status": "completed"
    },
    "tags": []
   },
   "outputs": [],
   "source": [
    "df = pd.read_sql(\"select * from EBAY_TOP_BERLIN where record_time in (select distinct record_time from EBAY_TOP_BERLIN order by record_time desc limit 2)\", sqlite3.connect(\"UsedObjects.db\"))"
   ]
  },
  {
   "cell_type": "code",
   "execution_count": 5,
   "id": "popular-active",
   "metadata": {
    "execution": {
     "iopub.execute_input": "2021-11-20T11:00:11.564483Z",
     "iopub.status.busy": "2021-11-20T11:00:11.550120Z",
     "iopub.status.idle": "2021-11-20T11:00:11.583256Z",
     "shell.execute_reply": "2021-11-20T11:00:11.584768Z"
    },
    "papermill": {
     "duration": 0.079037,
     "end_time": "2021-11-20T11:00:11.585270",
     "exception": false,
     "start_time": "2021-11-20T11:00:11.506233",
     "status": "completed"
    },
    "tags": []
   },
   "outputs": [],
   "source": [
    "df_pivot = df.pivot_table(index=\"PRODUCT\", columns = \"RECORD_TIME\", values = \"LISTING_COUNT\")"
   ]
  },
  {
   "cell_type": "code",
   "execution_count": 6,
   "id": "union-huntington",
   "metadata": {
    "execution": {
     "iopub.execute_input": "2021-11-20T11:00:11.648932Z",
     "iopub.status.busy": "2021-11-20T11:00:11.646634Z",
     "iopub.status.idle": "2021-11-20T11:00:11.652460Z",
     "shell.execute_reply": "2021-11-20T11:00:11.654118Z"
    },
    "papermill": {
     "duration": 0.047492,
     "end_time": "2021-11-20T11:00:11.654617",
     "exception": false,
     "start_time": "2021-11-20T11:00:11.607125",
     "status": "completed"
    },
    "tags": []
   },
   "outputs": [],
   "source": [
    "df_pivot.columns = [\"stamp_1\", \"stamp_2\"]\n",
    "df_pivot_diff = df_pivot.diff(axis=1)"
   ]
  },
  {
   "cell_type": "code",
   "execution_count": 7,
   "id": "fifth-motion",
   "metadata": {
    "execution": {
     "iopub.execute_input": "2021-11-20T11:00:11.711962Z",
     "iopub.status.busy": "2021-11-20T11:00:11.709539Z",
     "iopub.status.idle": "2021-11-20T11:00:13.615512Z",
     "shell.execute_reply": "2021-11-20T11:00:13.618496Z"
    },
    "papermill": {
     "duration": 1.943703,
     "end_time": "2021-11-20T11:00:13.619478",
     "exception": false,
     "start_time": "2021-11-20T11:00:11.675775",
     "status": "completed"
    },
    "tags": []
   },
   "outputs": [
    {
     "data": {
      "text/plain": [
       "<AxesSubplot:ylabel='PRODUCT'>"
      ]
     },
     "execution_count": 7,
     "metadata": {},
     "output_type": "execute_result"
    },
    {
     "data": {
      "image/png": "[encoded data removed]",
      "text/plain": [
       "<Figure size 432x288 with 1 Axes>"
      ]
     },
     "metadata": {
      "needs_background": "light"
     },
     "output_type": "display_data"
    }
   ],
   "source": [
    "df_pivot_diff.sort_values(\"stamp_2\", ascending = False)[\"stamp_2\"].head(10).plot.barh()"
   ]
  },
  {
   "cell_type": "code",
   "execution_count": null,
   "id": "extra-executive",
   "metadata": {
    "papermill": {
     "duration": 0.033852,
     "end_time": "2021-11-20T11:00:13.691567",
     "exception": false,
     "start_time": "2021-11-20T11:00:13.657715",
     "status": "completed"
    },
    "tags": []
   },
   "outputs": [],
   "source": []
  }
 ],
 "metadata": {
  "kernelspec": {
   "display_name": "Python 3",
   "language": "python",
   "name": "python3"
  },
  "language_info": {
   "codemirror_mode": {
    "name": "ipython",
    "version": 3
   },
   "file_extension": ".py",
   "mimetype": "text/x-python",
   "name": "python",
   "nbconvert_exporter": "python",
   "pygments_lexer": "ipython3",
   "version": "3.9.5"
  },
  "papermill": {
   "default_parameters": {},
   "duration": 9.936693,
   "end_time": "2021-11-20T11:00:15.372182",
   "environment_variables": {},
   "exception": null,
   "input_path": "eBay_Overview.ipynb",
   "output_path": "eBay_Overview.ipynb",
   "parameters": {},
   "start_time": "2021-11-20T11:00:05.435489",
   "version": "2.3.3"
  }
 },
 "nbformat": 4,
 "nbformat_minor": 5
}