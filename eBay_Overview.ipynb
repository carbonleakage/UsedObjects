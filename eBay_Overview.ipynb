{
 "cells": [
  {
   "cell_type": "code",
   "execution_count": 1,
   "id": "reverse-picking",
   "metadata": {
    "execution": {
     "iopub.execute_input": "2021-09-03T21:00:07.441004Z",
     "iopub.status.busy": "2021-09-03T21:00:07.439046Z",
     "iopub.status.idle": "2021-09-03T21:00:08.246653Z",
     "shell.execute_reply": "2021-09-03T21:00:08.248019Z"
    },
    "papermill": {
     "duration": 0.860707,
     "end_time": "2021-09-03T21:00:08.248637",
     "exception": false,
     "start_time": "2021-09-03T21:00:07.387930",
     "status": "completed"
    },
    "tags": []
   },
   "outputs": [],
   "source": [
    "import pandas as pd\n",
    "import sqlite3"
   ]
  },
  {
   "cell_type": "code",
   "execution_count": 2,
   "id": "innovative-syndrome",
   "metadata": {
    "execution": {
     "iopub.execute_input": "2021-09-03T21:00:08.300746Z",
     "iopub.status.busy": "2021-09-03T21:00:08.298463Z",
     "iopub.status.idle": "2021-09-03T21:00:08.496062Z",
     "shell.execute_reply": "2021-09-03T21:00:08.497255Z"
    },
    "papermill": {
     "duration": 0.227311,
     "end_time": "2021-09-03T21:00:08.497653",
     "exception": false,
     "start_time": "2021-09-03T21:00:08.270342",
     "status": "completed"
    },
    "tags": []
   },
   "outputs": [],
   "source": [
    "timestamps = pd.read_sql(\"select distinct record_time from EBAY_TOP_BERLIN order by record_time desc limit 2\", sqlite3.connect(\"UsedObjects.db\"))"
   ]
  },
  {
   "cell_type": "code",
   "execution_count": 3,
   "id": "periodic-identification",
   "metadata": {
    "execution": {
     "iopub.execute_input": "2021-09-03T21:00:08.562722Z",
     "iopub.status.busy": "2021-09-03T21:00:08.560707Z",
     "iopub.status.idle": "2021-09-03T21:00:08.580971Z",
     "shell.execute_reply": "2021-09-03T21:00:08.582157Z"
    },
    "papermill": {
     "duration": 0.063812,
     "end_time": "2021-09-03T21:00:08.582586",
     "exception": false,
     "start_time": "2021-09-03T21:00:08.518774",
     "status": "completed"
    },
    "tags": []
   },
   "outputs": [
    {
     "data": {
      "text/html": [
       "<div>\n",
       "<style scoped>\n",
       "    .dataframe tbody tr th:only-of-type {\n",
       "        vertical-align: middle;\n",
       "    }\n",
       "\n",
       "    .dataframe tbody tr th {\n",
       "        vertical-align: top;\n",
       "    }\n",
       "\n",
       "    .dataframe thead th {\n",
       "        text-align: right;\n",
       "    }\n",
       "</style>\n",
       "<table border=\"1\" class=\"dataframe\">\n",
       "  <thead>\n",
       "    <tr style=\"text-align: right;\">\n",
       "      <th></th>\n",
       "      <th>RECORD_TIME</th>\n",
       "    </tr>\n",
       "  </thead>\n",
       "  <tbody>\n",
       "    <tr>\n",
       "      <th>0</th>\n",
       "      <td>2021-09-03 23:00</td>\n",
       "    </tr>\n",
       "    <tr>\n",
       "      <th>1</th>\n",
       "      <td>2021-09-03 22:30</td>\n",
       "    </tr>\n",
       "  </tbody>\n",
       "</table>\n",
       "</div>"
      ],
      "text/plain": [
       "        RECORD_TIME\n",
       "0  2021-09-03 23:00\n",
       "1  2021-09-03 22:30"
      ]
     },
     "execution_count": 3,
     "metadata": {},
     "output_type": "execute_result"
    }
   ],
   "source": [
    "timestamps"
   ]
  },
  {
   "cell_type": "code",
   "execution_count": 4,
   "id": "alternate-victory",
   "metadata": {
    "execution": {
     "iopub.execute_input": "2021-09-03T21:00:08.633704Z",
     "iopub.status.busy": "2021-09-03T21:00:08.631892Z",
     "iopub.status.idle": "2021-09-03T21:00:08.932286Z",
     "shell.execute_reply": "2021-09-03T21:00:08.933416Z"
    },
    "papermill": {
     "duration": 0.330521,
     "end_time": "2021-09-03T21:00:08.933820",
     "exception": false,
     "start_time": "2021-09-03T21:00:08.603299",
     "status": "completed"
    },
    "tags": []
   },
   "outputs": [],
   "source": [
    "df = pd.read_sql(\"select * from EBAY_TOP_BERLIN where record_time in (select distinct record_time from EBAY_TOP_BERLIN order by record_time desc limit 2)\", sqlite3.connect(\"UsedObjects.db\"))"
   ]
  },
  {
   "cell_type": "code",
   "execution_count": 5,
   "id": "popular-active",
   "metadata": {
    "execution": {
     "iopub.execute_input": "2021-09-03T21:00:09.031356Z",
     "iopub.status.busy": "2021-09-03T21:00:09.019778Z",
     "iopub.status.idle": "2021-09-03T21:00:09.046710Z",
     "shell.execute_reply": "2021-09-03T21:00:09.047995Z"
    },
    "papermill": {
     "duration": 0.075799,
     "end_time": "2021-09-03T21:00:09.048397",
     "exception": false,
     "start_time": "2021-09-03T21:00:08.972598",
     "status": "completed"
    },
    "tags": []
   },
   "outputs": [],
   "source": [
    "df_pivot = df.pivot_table(index=\"PRODUCT\", columns = \"RECORD_TIME\", values = \"LISTING_COUNT\")"
   ]
  },
  {
   "cell_type": "code",
   "execution_count": 6,
   "id": "union-huntington",
   "metadata": {
    "execution": {
     "iopub.execute_input": "2021-09-03T21:00:09.106676Z",
     "iopub.status.busy": "2021-09-03T21:00:09.104420Z",
     "iopub.status.idle": "2021-09-03T21:00:09.110252Z",
     "shell.execute_reply": "2021-09-03T21:00:09.111595Z"
    },
    "papermill": {
     "duration": 0.041911,
     "end_time": "2021-09-03T21:00:09.112019",
     "exception": false,
     "start_time": "2021-09-03T21:00:09.070108",
     "status": "completed"
    },
    "tags": []
   },
   "outputs": [],
   "source": [
    "df_pivot.columns = [\"stamp_1\", \"stamp_2\"]\n",
    "df_pivot_diff = df_pivot.diff(axis=1)"
   ]
  },
  {
   "cell_type": "code",
   "execution_count": 7,
   "id": "fifth-motion",
   "metadata": {
    "execution": {
     "iopub.execute_input": "2021-09-03T21:00:09.166054Z",
     "iopub.status.busy": "2021-09-03T21:00:09.163830Z",
     "iopub.status.idle": "2021-09-03T21:00:10.668673Z",
     "shell.execute_reply": "2021-09-03T21:00:10.669970Z"
    },
    "papermill": {
     "duration": 1.537515,
     "end_time": "2021-09-03T21:00:10.670386",
     "exception": false,
     "start_time": "2021-09-03T21:00:09.132871",
     "status": "completed"
    },
    "tags": []
   },
   "outputs": [
    {
     "data": {
      "text/plain": [
       "<AxesSubplot:ylabel='PRODUCT'>"
      ]
     },
     "execution_count": 7,
     "metadata": {},
     "output_type": "execute_result"
    },
    {
     "data": {
      "image/png": "[encoded data removed]",
      "text/plain": [
       "<Figure size 432x288 with 1 Axes>"
      ]
     },
     "metadata": {
      "needs_background": "light"
     },
     "output_type": "display_data"
    }
   ],
   "source": [
    "df_pivot_diff.sort_values(\"stamp_2\", ascending = False)[\"stamp_2\"].head(10).plot.barh()"
   ]
  },
  {
   "cell_type": "code",
   "execution_count": null,
   "id": "extra-executive",
   "metadata": {
    "papermill": {
     "duration": 0.022551,
     "end_time": "2021-09-03T21:00:10.717000",
     "exception": false,
     "start_time": "2021-09-03T21:00:10.694449",
     "status": "completed"
    },
    "tags": []
   },
   "outputs": [],
   "source": []
  }
 ],
 "metadata": {
  "kernelspec": {
   "display_name": "Python 3",
   "language": "python",
   "name": "python3"
  },
  "language_info": {
   "codemirror_mode": {
    "name": "ipython",
    "version": 3
   },
   "file_extension": ".py",
   "mimetype": "text/x-python",
   "name": "python",
   "nbconvert_exporter": "python",
   "pygments_lexer": "ipython3",
   "version": "3.9.5"
  },
  "papermill": {
   "default_parameters": {},
   "duration": 6.384247,
   "end_time": "2021-09-03T21:00:11.359258",
   "environment_variables": {},
   "exception": null,
   "input_path": "eBay_Overview.ipynb",
   "output_path": "eBay_Overview.ipynb",
   "parameters": {},
   "start_time": "2021-09-03T21:00:04.975011",
   "version": "2.3.3"
  }
 },
 "nbformat": 4,
 "nbformat_minor": 5
}