{
 "cells": [
  {
   "cell_type": "code",
   "execution_count": 1,
   "id": "reverse-picking",
   "metadata": {
    "execution": {
     "iopub.execute_input": "2021-11-02T20:30:07.170765Z",
     "iopub.status.busy": "2021-11-02T20:30:07.168526Z",
     "iopub.status.idle": "2021-11-02T20:30:08.112866Z",
     "shell.execute_reply": "2021-11-02T20:30:08.114317Z"
    },
    "papermill": {
     "duration": 0.990723,
     "end_time": "2021-11-02T20:30:08.115046",
     "exception": false,
     "start_time": "2021-11-02T20:30:07.124323",
     "status": "completed"
    },
    "tags": []
   },
   "outputs": [],
   "source": [
    "import pandas as pd\n",
    "import sqlite3"
   ]
  },
  {
   "cell_type": "code",
   "execution_count": 2,
   "id": "innovative-syndrome",
   "metadata": {
    "execution": {
     "iopub.execute_input": "2021-11-02T20:30:08.189579Z",
     "iopub.status.busy": "2021-11-02T20:30:08.187407Z",
     "iopub.status.idle": "2021-11-02T20:30:08.899667Z",
     "shell.execute_reply": "2021-11-02T20:30:08.901143Z"
    },
    "papermill": {
     "duration": 0.76456,
     "end_time": "2021-11-02T20:30:08.901610",
     "exception": false,
     "start_time": "2021-11-02T20:30:08.137050",
     "status": "completed"
    },
    "tags": []
   },
   "outputs": [],
   "source": [
    "timestamps = pd.read_sql(\"select distinct record_time from EBAY_TOP_BERLIN order by record_time desc limit 2\", sqlite3.connect(\"UsedObjects.db\"))"
   ]
  },
  {
   "cell_type": "code",
   "execution_count": 3,
   "id": "periodic-identification",
   "metadata": {
    "execution": {
     "iopub.execute_input": "2021-11-02T20:30:08.970782Z",
     "iopub.status.busy": "2021-11-02T20:30:08.968442Z",
     "iopub.status.idle": "2021-11-02T20:30:08.989720Z",
     "shell.execute_reply": "2021-11-02T20:30:08.991159Z"
    },
    "papermill": {
     "duration": 0.070328,
     "end_time": "2021-11-02T20:30:08.991626",
     "exception": false,
     "start_time": "2021-11-02T20:30:08.921298",
     "status": "completed"
    },
    "tags": []
   },
   "outputs": [
    {
     "data": {
      "text/html": [
       "<div>\n",
       "<style scoped>\n",
       "    .dataframe tbody tr th:only-of-type {\n",
       "        vertical-align: middle;\n",
       "    }\n",
       "\n",
       "    .dataframe tbody tr th {\n",
       "        vertical-align: top;\n",
       "    }\n",
       "\n",
       "    .dataframe thead th {\n",
       "        text-align: right;\n",
       "    }\n",
       "</style>\n",
       "<table border=\"1\" class=\"dataframe\">\n",
       "  <thead>\n",
       "    <tr style=\"text-align: right;\">\n",
       "      <th></th>\n",
       "      <th>RECORD_TIME</th>\n",
       "    </tr>\n",
       "  </thead>\n",
       "  <tbody>\n",
       "    <tr>\n",
       "      <th>0</th>\n",
       "      <td>2021-11-02 21:30</td>\n",
       "    </tr>\n",
       "    <tr>\n",
       "      <th>1</th>\n",
       "      <td>2021-11-02 21:00</td>\n",
       "    </tr>\n",
       "  </tbody>\n",
       "</table>\n",
       "</div>"
      ],
      "text/plain": [
       "        RECORD_TIME\n",
       "0  2021-11-02 21:30\n",
       "1  2021-11-02 21:00"
      ]
     },
     "execution_count": 3,
     "metadata": {},
     "output_type": "execute_result"
    }
   ],
   "source": [
    "timestamps"
   ]
  },
  {
   "cell_type": "code",
   "execution_count": 4,
   "id": "alternate-victory",
   "metadata": {
    "execution": {
     "iopub.execute_input": "2021-11-02T20:30:09.045302Z",
     "iopub.status.busy": "2021-11-02T20:30:09.043271Z",
     "iopub.status.idle": "2021-11-02T20:30:10.058365Z",
     "shell.execute_reply": "2021-11-02T20:30:10.059842Z"
    },
    "papermill": {
     "duration": 1.048158,
     "end_time": "2021-11-02T20:30:10.060351",
     "exception": false,
     "start_time": "2021-11-02T20:30:09.012193",
     "status": "completed"
    },
    "tags": []
   },
   "outputs": [],
   "source": [
    "df = pd.read_sql(\"select * from EBAY_TOP_BERLIN where record_time in (select distinct record_time from EBAY_TOP_BERLIN order by record_time desc limit 2)\", sqlite3.connect(\"UsedObjects.db\"))"
   ]
  },
  {
   "cell_type": "code",
   "execution_count": 5,
   "id": "popular-active",
   "metadata": {
    "execution": {
     "iopub.execute_input": "2021-11-02T20:30:10.140269Z",
     "iopub.status.busy": "2021-11-02T20:30:10.125972Z",
     "iopub.status.idle": "2021-11-02T20:30:10.158374Z",
     "shell.execute_reply": "2021-11-02T20:30:10.159945Z"
    },
    "papermill": {
     "duration": 0.078298,
     "end_time": "2021-11-02T20:30:10.160496",
     "exception": false,
     "start_time": "2021-11-02T20:30:10.082198",
     "status": "completed"
    },
    "tags": []
   },
   "outputs": [],
   "source": [
    "df_pivot = df.pivot_table(index=\"PRODUCT\", columns = \"RECORD_TIME\", values = \"LISTING_COUNT\")"
   ]
  },
  {
   "cell_type": "code",
   "execution_count": 6,
   "id": "union-huntington",
   "metadata": {
    "execution": {
     "iopub.execute_input": "2021-11-02T20:30:10.224649Z",
     "iopub.status.busy": "2021-11-02T20:30:10.222332Z",
     "iopub.status.idle": "2021-11-02T20:30:10.227882Z",
     "shell.execute_reply": "2021-11-02T20:30:10.229496Z"
    },
    "papermill": {
     "duration": 0.047521,
     "end_time": "2021-11-02T20:30:10.229985",
     "exception": false,
     "start_time": "2021-11-02T20:30:10.182464",
     "status": "completed"
    },
    "tags": []
   },
   "outputs": [],
   "source": [
    "df_pivot.columns = [\"stamp_1\", \"stamp_2\"]\n",
    "df_pivot_diff = df_pivot.diff(axis=1)"
   ]
  },
  {
   "cell_type": "code",
   "execution_count": 7,
   "id": "fifth-motion",
   "metadata": {
    "execution": {
     "iopub.execute_input": "2021-11-02T20:30:10.297389Z",
     "iopub.status.busy": "2021-11-02T20:30:10.286849Z",
     "iopub.status.idle": "2021-11-02T20:30:12.036209Z",
     "shell.execute_reply": "2021-11-02T20:30:12.038595Z"
    },
    "papermill": {
     "duration": 1.788383,
     "end_time": "2021-11-02T20:30:12.039416",
     "exception": false,
     "start_time": "2021-11-02T20:30:10.251033",
     "status": "completed"
    },
    "tags": []
   },
   "outputs": [
    {
     "data": {
      "text/plain": [
       "<AxesSubplot:ylabel='PRODUCT'>"
      ]
     },
     "execution_count": 7,
     "metadata": {},
     "output_type": "execute_result"
    },
    {
     "data": {
      "image/png": "[encoded data removed]",
      "text/plain": [
       "<Figure size 432x288 with 1 Axes>"
      ]
     },
     "metadata": {
      "needs_background": "light"
     },
     "output_type": "display_data"
    }
   ],
   "source": [
    "df_pivot_diff.sort_values(\"stamp_2\", ascending = False)[\"stamp_2\"].head(10).plot.barh()"
   ]
  },
  {
   "cell_type": "code",
   "execution_count": null,
   "id": "extra-executive",
   "metadata": {
    "papermill": {
     "duration": 0.035894,
     "end_time": "2021-11-02T20:30:12.115569",
     "exception": false,
     "start_time": "2021-11-02T20:30:12.079675",
     "status": "completed"
    },
    "tags": []
   },
   "outputs": [],
   "source": []
  }
 ],
 "metadata": {
  "kernelspec": {
   "display_name": "Python 3",
   "language": "python",
   "name": "python3"
  },
  "language_info": {
   "codemirror_mode": {
    "name": "ipython",
    "version": 3
   },
   "file_extension": ".py",
   "mimetype": "text/x-python",
   "name": "python",
   "nbconvert_exporter": "python",
   "pygments_lexer": "ipython3",
   "version": "3.9.5"
  },
  "papermill": {
   "default_parameters": {},
   "duration": 8.945547,
   "end_time": "2021-11-02T20:30:13.353875",
   "environment_variables": {},
   "exception": null,
   "input_path": "eBay_Overview.ipynb",
   "output_path": "eBay_Overview.ipynb",
   "parameters": {},
   "start_time": "2021-11-02T20:30:04.408328",
   "version": "2.3.3"
  }
 },
 "nbformat": 4,
 "nbformat_minor": 5
}