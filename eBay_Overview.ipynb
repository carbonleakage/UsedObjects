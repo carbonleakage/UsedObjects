{
 "cells": [
  {
   "cell_type": "code",
   "execution_count": 1,
   "id": "reverse-picking",
   "metadata": {
    "execution": {
     "iopub.execute_input": "2021-11-28T17:30:07.880093Z",
     "iopub.status.busy": "2021-11-28T17:30:07.877537Z",
     "iopub.status.idle": "2021-11-28T17:30:08.848632Z",
     "shell.execute_reply": "2021-11-28T17:30:08.850329Z"
    },
    "papermill": {
     "duration": 1.022791,
     "end_time": "2021-11-28T17:30:08.851091",
     "exception": false,
     "start_time": "2021-11-28T17:30:07.828300",
     "status": "completed"
    },
    "tags": []
   },
   "outputs": [],
   "source": [
    "import pandas as pd\n",
    "import sqlite3"
   ]
  },
  {
   "cell_type": "code",
   "execution_count": 2,
   "id": "innovative-syndrome",
   "metadata": {
    "execution": {
     "iopub.execute_input": "2021-11-28T17:30:08.907501Z",
     "iopub.status.busy": "2021-11-28T17:30:08.905316Z",
     "iopub.status.idle": "2021-11-28T17:30:09.839447Z",
     "shell.execute_reply": "2021-11-28T17:30:09.841049Z"
    },
    "papermill": {
     "duration": 0.968439,
     "end_time": "2021-11-28T17:30:09.841510",
     "exception": false,
     "start_time": "2021-11-28T17:30:08.873071",
     "status": "completed"
    },
    "tags": []
   },
   "outputs": [],
   "source": [
    "timestamps = pd.read_sql(\"select distinct record_time from EBAY_TOP_BERLIN order by record_time desc limit 2\", sqlite3.connect(\"UsedObjects.db\"))"
   ]
  },
  {
   "cell_type": "code",
   "execution_count": 3,
   "id": "periodic-identification",
   "metadata": {
    "execution": {
     "iopub.execute_input": "2021-11-28T17:30:09.897909Z",
     "iopub.status.busy": "2021-11-28T17:30:09.895738Z",
     "iopub.status.idle": "2021-11-28T17:30:09.945678Z",
     "shell.execute_reply": "2021-11-28T17:30:09.947981Z"
    },
    "papermill": {
     "duration": 0.085973,
     "end_time": "2021-11-28T17:30:09.948459",
     "exception": false,
     "start_time": "2021-11-28T17:30:09.862486",
     "status": "completed"
    },
    "tags": []
   },
   "outputs": [
    {
     "data": {
      "text/html": [
       "<div>\n",
       "<style scoped>\n",
       "    .dataframe tbody tr th:only-of-type {\n",
       "        vertical-align: middle;\n",
       "    }\n",
       "\n",
       "    .dataframe tbody tr th {\n",
       "        vertical-align: top;\n",
       "    }\n",
       "\n",
       "    .dataframe thead th {\n",
       "        text-align: right;\n",
       "    }\n",
       "</style>\n",
       "<table border=\"1\" class=\"dataframe\">\n",
       "  <thead>\n",
       "    <tr style=\"text-align: right;\">\n",
       "      <th></th>\n",
       "      <th>RECORD_TIME</th>\n",
       "    </tr>\n",
       "  </thead>\n",
       "  <tbody>\n",
       "    <tr>\n",
       "      <th>0</th>\n",
       "      <td>2021-11-28 18:30</td>\n",
       "    </tr>\n",
       "    <tr>\n",
       "      <th>1</th>\n",
       "      <td>2021-11-28 18:00</td>\n",
       "    </tr>\n",
       "  </tbody>\n",
       "</table>\n",
       "</div>"
      ],
      "text/plain": [
       "        RECORD_TIME\n",
       "0  2021-11-28 18:30\n",
       "1  2021-11-28 18:00"
      ]
     },
     "execution_count": 3,
     "metadata": {},
     "output_type": "execute_result"
    }
   ],
   "source": [
    "timestamps"
   ]
  },
  {
   "cell_type": "code",
   "execution_count": 4,
   "id": "alternate-victory",
   "metadata": {
    "execution": {
     "iopub.execute_input": "2021-11-28T17:30:10.017874Z",
     "iopub.status.busy": "2021-11-28T17:30:10.015569Z",
     "iopub.status.idle": "2021-11-28T17:30:11.343544Z",
     "shell.execute_reply": "2021-11-28T17:30:11.345123Z"
    },
    "papermill": {
     "duration": 1.362791,
     "end_time": "2021-11-28T17:30:11.345602",
     "exception": false,
     "start_time": "2021-11-28T17:30:09.982811",
     "status": "completed"
    },
    "tags": []
   },
   "outputs": [],
   "source": [
    "df = pd.read_sql(\"select * from EBAY_TOP_BERLIN where record_time in (select distinct record_time from EBAY_TOP_BERLIN order by record_time desc limit 2)\", sqlite3.connect(\"UsedObjects.db\"))"
   ]
  },
  {
   "cell_type": "code",
   "execution_count": 5,
   "id": "popular-active",
   "metadata": {
    "execution": {
     "iopub.execute_input": "2021-11-28T17:30:11.426499Z",
     "iopub.status.busy": "2021-11-28T17:30:11.412408Z",
     "iopub.status.idle": "2021-11-28T17:30:11.444032Z",
     "shell.execute_reply": "2021-11-28T17:30:11.445482Z"
    },
    "papermill": {
     "duration": 0.077187,
     "end_time": "2021-11-28T17:30:11.445964",
     "exception": false,
     "start_time": "2021-11-28T17:30:11.368777",
     "status": "completed"
    },
    "tags": []
   },
   "outputs": [],
   "source": [
    "df_pivot = df.pivot_table(index=\"PRODUCT\", columns = \"RECORD_TIME\", values = \"LISTING_COUNT\")"
   ]
  },
  {
   "cell_type": "code",
   "execution_count": 6,
   "id": "union-huntington",
   "metadata": {
    "execution": {
     "iopub.execute_input": "2021-11-28T17:30:11.505276Z",
     "iopub.status.busy": "2021-11-28T17:30:11.502992Z",
     "iopub.status.idle": "2021-11-28T17:30:11.508244Z",
     "shell.execute_reply": "2021-11-28T17:30:11.509931Z"
    },
    "papermill": {
     "duration": 0.044216,
     "end_time": "2021-11-28T17:30:11.510402",
     "exception": false,
     "start_time": "2021-11-28T17:30:11.466186",
     "status": "completed"
    },
    "tags": []
   },
   "outputs": [],
   "source": [
    "df_pivot.columns = [\"stamp_1\", \"stamp_2\"]\n",
    "df_pivot_diff = df_pivot.diff(axis=1)"
   ]
  },
  {
   "cell_type": "code",
   "execution_count": 7,
   "id": "fifth-motion",
   "metadata": {
    "execution": {
     "iopub.execute_input": "2021-11-28T17:30:11.571645Z",
     "iopub.status.busy": "2021-11-28T17:30:11.569115Z",
     "iopub.status.idle": "2021-11-28T17:30:13.634389Z",
     "shell.execute_reply": "2021-11-28T17:30:13.635679Z"
    },
    "papermill": {
     "duration": 2.10404,
     "end_time": "2021-11-28T17:30:13.636098",
     "exception": false,
     "start_time": "2021-11-28T17:30:11.532058",
     "status": "completed"
    },
    "tags": []
   },
   "outputs": [
    {
     "data": {
      "text/plain": [
       "<AxesSubplot:ylabel='PRODUCT'>"
      ]
     },
     "execution_count": 7,
     "metadata": {},
     "output_type": "execute_result"
    },
    {
     "data": {
      "image/png": "[encoded data removed]",
      "text/plain": [
       "<Figure size 432x288 with 1 Axes>"
      ]
     },
     "metadata": {
      "needs_background": "light"
     },
     "output_type": "display_data"
    }
   ],
   "source": [
    "df_pivot_diff.sort_values(\"stamp_2\", ascending = False)[\"stamp_2\"].head(10).plot.barh()"
   ]
  },
  {
   "cell_type": "code",
   "execution_count": null,
   "id": "extra-executive",
   "metadata": {
    "papermill": {
     "duration": 0.022572,
     "end_time": "2021-11-28T17:30:13.683070",
     "exception": false,
     "start_time": "2021-11-28T17:30:13.660498",
     "status": "completed"
    },
    "tags": []
   },
   "outputs": [],
   "source": []
  }
 ],
 "metadata": {
  "kernelspec": {
   "display_name": "Python 3",
   "language": "python",
   "name": "python3"
  },
  "language_info": {
   "codemirror_mode": {
    "name": "ipython",
    "version": 3
   },
   "file_extension": ".py",
   "mimetype": "text/x-python",
   "name": "python",
   "nbconvert_exporter": "python",
   "pygments_lexer": "ipython3",
   "version": "3.9.5"
  },
  "papermill": {
   "default_parameters": {},
   "duration": 9.945807,
   "end_time": "2021-11-28T17:30:15.017090",
   "environment_variables": {},
   "exception": null,
   "input_path": "eBay_Overview.ipynb",
   "output_path": "eBay_Overview.ipynb",
   "parameters": {},
   "start_time": "2021-11-28T17:30:05.071283",
   "version": "2.3.3"
  }
 },
 "nbformat": 4,
 "nbformat_minor": 5
}