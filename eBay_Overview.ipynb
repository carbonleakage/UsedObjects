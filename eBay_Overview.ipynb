{
 "cells": [
  {
   "cell_type": "code",
   "execution_count": 1,
   "id": "reverse-picking",
   "metadata": {
    "execution": {
     "iopub.execute_input": "2021-12-03T05:30:07.849437Z",
     "iopub.status.busy": "2021-12-03T05:30:07.846947Z",
     "iopub.status.idle": "2021-12-03T05:30:08.808317Z",
     "shell.execute_reply": "2021-12-03T05:30:08.810528Z"
    },
    "papermill": {
     "duration": 1.012371,
     "end_time": "2021-12-03T05:30:08.811283",
     "exception": false,
     "start_time": "2021-12-03T05:30:07.798912",
     "status": "completed"
    },
    "tags": []
   },
   "outputs": [],
   "source": [
    "import pandas as pd\n",
    "import sqlite3"
   ]
  },
  {
   "cell_type": "code",
   "execution_count": 2,
   "id": "innovative-syndrome",
   "metadata": {
    "execution": {
     "iopub.execute_input": "2021-12-03T05:30:08.929893Z",
     "iopub.status.busy": "2021-12-03T05:30:08.927591Z",
     "iopub.status.idle": "2021-12-03T05:30:09.904097Z",
     "shell.execute_reply": "2021-12-03T05:30:09.905800Z"
    },
    "papermill": {
     "duration": 1.012911,
     "end_time": "2021-12-03T05:30:09.906301",
     "exception": false,
     "start_time": "2021-12-03T05:30:08.893390",
     "status": "completed"
    },
    "tags": []
   },
   "outputs": [],
   "source": [
    "timestamps = pd.read_sql(\"select distinct record_time from EBAY_TOP_BERLIN order by record_time desc limit 2\", sqlite3.connect(\"UsedObjects.db\"))"
   ]
  },
  {
   "cell_type": "code",
   "execution_count": 3,
   "id": "periodic-identification",
   "metadata": {
    "execution": {
     "iopub.execute_input": "2021-12-03T05:30:09.977929Z",
     "iopub.status.busy": "2021-12-03T05:30:09.975830Z",
     "iopub.status.idle": "2021-12-03T05:30:09.996039Z",
     "shell.execute_reply": "2021-12-03T05:30:09.997510Z"
    },
    "papermill": {
     "duration": 0.066675,
     "end_time": "2021-12-03T05:30:09.998035",
     "exception": false,
     "start_time": "2021-12-03T05:30:09.931360",
     "status": "completed"
    },
    "tags": []
   },
   "outputs": [
    {
     "data": {
      "text/html": [
       "<div>\n",
       "<style scoped>\n",
       "    .dataframe tbody tr th:only-of-type {\n",
       "        vertical-align: middle;\n",
       "    }\n",
       "\n",
       "    .dataframe tbody tr th {\n",
       "        vertical-align: top;\n",
       "    }\n",
       "\n",
       "    .dataframe thead th {\n",
       "        text-align: right;\n",
       "    }\n",
       "</style>\n",
       "<table border=\"1\" class=\"dataframe\">\n",
       "  <thead>\n",
       "    <tr style=\"text-align: right;\">\n",
       "      <th></th>\n",
       "      <th>RECORD_TIME</th>\n",
       "    </tr>\n",
       "  </thead>\n",
       "  <tbody>\n",
       "    <tr>\n",
       "      <th>0</th>\n",
       "      <td>2021-12-03 06:30</td>\n",
       "    </tr>\n",
       "    <tr>\n",
       "      <th>1</th>\n",
       "      <td>2021-12-03 06:00</td>\n",
       "    </tr>\n",
       "  </tbody>\n",
       "</table>\n",
       "</div>"
      ],
      "text/plain": [
       "        RECORD_TIME\n",
       "0  2021-12-03 06:30\n",
       "1  2021-12-03 06:00"
      ]
     },
     "execution_count": 3,
     "metadata": {},
     "output_type": "execute_result"
    }
   ],
   "source": [
    "timestamps"
   ]
  },
  {
   "cell_type": "code",
   "execution_count": 4,
   "id": "alternate-victory",
   "metadata": {
    "execution": {
     "iopub.execute_input": "2021-12-03T05:30:10.051093Z",
     "iopub.status.busy": "2021-12-03T05:30:10.048904Z",
     "iopub.status.idle": "2021-12-03T05:30:11.489787Z",
     "shell.execute_reply": "2021-12-03T05:30:11.492075Z"
    },
    "papermill": {
     "duration": 1.472604,
     "end_time": "2021-12-03T05:30:11.492590",
     "exception": false,
     "start_time": "2021-12-03T05:30:10.019986",
     "status": "completed"
    },
    "tags": []
   },
   "outputs": [],
   "source": [
    "df = pd.read_sql(\"select * from EBAY_TOP_BERLIN where record_time in (select distinct record_time from EBAY_TOP_BERLIN order by record_time desc limit 2)\", sqlite3.connect(\"UsedObjects.db\"))"
   ]
  },
  {
   "cell_type": "code",
   "execution_count": 5,
   "id": "popular-active",
   "metadata": {
    "execution": {
     "iopub.execute_input": "2021-12-03T05:30:11.562835Z",
     "iopub.status.busy": "2021-12-03T05:30:11.559993Z",
     "iopub.status.idle": "2021-12-03T05:30:11.599702Z",
     "shell.execute_reply": "2021-12-03T05:30:11.601429Z"
    },
    "papermill": {
     "duration": 0.087031,
     "end_time": "2021-12-03T05:30:11.601974",
     "exception": false,
     "start_time": "2021-12-03T05:30:11.514943",
     "status": "completed"
    },
    "tags": []
   },
   "outputs": [],
   "source": [
    "df_pivot = df.pivot_table(index=\"PRODUCT\", columns = \"RECORD_TIME\", values = \"LISTING_COUNT\")"
   ]
  },
  {
   "cell_type": "code",
   "execution_count": 6,
   "id": "union-huntington",
   "metadata": {
    "execution": {
     "iopub.execute_input": "2021-12-03T05:30:11.663744Z",
     "iopub.status.busy": "2021-12-03T05:30:11.661529Z",
     "iopub.status.idle": "2021-12-03T05:30:11.668356Z",
     "shell.execute_reply": "2021-12-03T05:30:11.666903Z"
    },
    "papermill": {
     "duration": 0.044399,
     "end_time": "2021-12-03T05:30:11.668879",
     "exception": false,
     "start_time": "2021-12-03T05:30:11.624480",
     "status": "completed"
    },
    "tags": []
   },
   "outputs": [],
   "source": [
    "df_pivot.columns = [\"stamp_1\", \"stamp_2\"]\n",
    "df_pivot_diff = df_pivot.diff(axis=1)"
   ]
  },
  {
   "cell_type": "code",
   "execution_count": 7,
   "id": "fifth-motion",
   "metadata": {
    "execution": {
     "iopub.execute_input": "2021-12-03T05:30:11.725040Z",
     "iopub.status.busy": "2021-12-03T05:30:11.722498Z",
     "iopub.status.idle": "2021-12-03T05:30:13.730031Z",
     "shell.execute_reply": "2021-12-03T05:30:13.732122Z"
    },
    "papermill": {
     "duration": 2.044071,
     "end_time": "2021-12-03T05:30:13.732875",
     "exception": false,
     "start_time": "2021-12-03T05:30:11.688804",
     "status": "completed"
    },
    "tags": []
   },
   "outputs": [
    {
     "data": {
      "text/plain": [
       "<AxesSubplot:ylabel='PRODUCT'>"
      ]
     },
     "execution_count": 7,
     "metadata": {},
     "output_type": "execute_result"
    },
    {
     "data": {
      "image/png": "[encoded data removed]",
      "text/plain": [
       "<Figure size 432x288 with 1 Axes>"
      ]
     },
     "metadata": {
      "needs_background": "light"
     },
     "output_type": "display_data"
    }
   ],
   "source": [
    "df_pivot_diff.sort_values(\"stamp_2\", ascending = False)[\"stamp_2\"].head(10).plot.barh()"
   ]
  },
  {
   "cell_type": "code",
   "execution_count": null,
   "id": "extra-executive",
   "metadata": {
    "papermill": {
     "duration": 0.027662,
     "end_time": "2021-12-03T05:30:13.789484",
     "exception": false,
     "start_time": "2021-12-03T05:30:13.761822",
     "status": "completed"
    },
    "tags": []
   },
   "outputs": [],
   "source": []
  }
 ],
 "metadata": {
  "kernelspec": {
   "display_name": "Python 3",
   "language": "python",
   "name": "python3"
  },
  "language_info": {
   "codemirror_mode": {
    "name": "ipython",
    "version": 3
   },
   "file_extension": ".py",
   "mimetype": "text/x-python",
   "name": "python",
   "nbconvert_exporter": "python",
   "pygments_lexer": "ipython3",
   "version": "3.9.5"
  },
  "papermill": {
   "default_parameters": {},
   "duration": 9.956573,
   "end_time": "2021-12-03T05:30:15.014206",
   "environment_variables": {},
   "exception": null,
   "input_path": "eBay_Overview.ipynb",
   "output_path": "eBay_Overview.ipynb",
   "parameters": {},
   "start_time": "2021-12-03T05:30:05.057633",
   "version": "2.3.3"
  }
 },
 "nbformat": 4,
 "nbformat_minor": 5
}