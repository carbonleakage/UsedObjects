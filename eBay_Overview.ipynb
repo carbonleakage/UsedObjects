{
 "cells": [
  {
   "cell_type": "code",
   "execution_count": 1,
   "id": "reverse-picking",
   "metadata": {
    "execution": {
     "iopub.execute_input": "2021-11-16T21:30:07.841699Z",
     "iopub.status.busy": "2021-11-16T21:30:07.839159Z",
     "iopub.status.idle": "2021-11-16T21:30:08.798383Z",
     "shell.execute_reply": "2021-11-16T21:30:08.799896Z"
    },
    "papermill": {
     "duration": 1.009003,
     "end_time": "2021-11-16T21:30:08.800630",
     "exception": false,
     "start_time": "2021-11-16T21:30:07.791627",
     "status": "completed"
    },
    "tags": []
   },
   "outputs": [],
   "source": [
    "import pandas as pd\n",
    "import sqlite3"
   ]
  },
  {
   "cell_type": "code",
   "execution_count": 2,
   "id": "innovative-syndrome",
   "metadata": {
    "execution": {
     "iopub.execute_input": "2021-11-16T21:30:08.866455Z",
     "iopub.status.busy": "2021-11-16T21:30:08.864223Z",
     "iopub.status.idle": "2021-11-16T21:30:09.690982Z",
     "shell.execute_reply": "2021-11-16T21:30:09.693095Z"
    },
    "papermill": {
     "duration": 0.860046,
     "end_time": "2021-11-16T21:30:09.693520",
     "exception": false,
     "start_time": "2021-11-16T21:30:08.833474",
     "status": "completed"
    },
    "tags": []
   },
   "outputs": [],
   "source": [
    "timestamps = pd.read_sql(\"select distinct record_time from EBAY_TOP_BERLIN order by record_time desc limit 2\", sqlite3.connect(\"UsedObjects.db\"))"
   ]
  },
  {
   "cell_type": "code",
   "execution_count": 3,
   "id": "periodic-identification",
   "metadata": {
    "execution": {
     "iopub.execute_input": "2021-11-16T21:30:09.792123Z",
     "iopub.status.busy": "2021-11-16T21:30:09.785935Z",
     "iopub.status.idle": "2021-11-16T21:30:09.810914Z",
     "shell.execute_reply": "2021-11-16T21:30:09.809275Z"
    },
    "papermill": {
     "duration": 0.075297,
     "end_time": "2021-11-16T21:30:09.811351",
     "exception": false,
     "start_time": "2021-11-16T21:30:09.736054",
     "status": "completed"
    },
    "tags": []
   },
   "outputs": [
    {
     "data": {
      "text/html": [
       "<div>\n",
       "<style scoped>\n",
       "    .dataframe tbody tr th:only-of-type {\n",
       "        vertical-align: middle;\n",
       "    }\n",
       "\n",
       "    .dataframe tbody tr th {\n",
       "        vertical-align: top;\n",
       "    }\n",
       "\n",
       "    .dataframe thead th {\n",
       "        text-align: right;\n",
       "    }\n",
       "</style>\n",
       "<table border=\"1\" class=\"dataframe\">\n",
       "  <thead>\n",
       "    <tr style=\"text-align: right;\">\n",
       "      <th></th>\n",
       "      <th>RECORD_TIME</th>\n",
       "    </tr>\n",
       "  </thead>\n",
       "  <tbody>\n",
       "    <tr>\n",
       "      <th>0</th>\n",
       "      <td>2021-11-16 22:30</td>\n",
       "    </tr>\n",
       "    <tr>\n",
       "      <th>1</th>\n",
       "      <td>2021-11-16 22:00</td>\n",
       "    </tr>\n",
       "  </tbody>\n",
       "</table>\n",
       "</div>"
      ],
      "text/plain": [
       "        RECORD_TIME\n",
       "0  2021-11-16 22:30\n",
       "1  2021-11-16 22:00"
      ]
     },
     "execution_count": 3,
     "metadata": {},
     "output_type": "execute_result"
    }
   ],
   "source": [
    "timestamps"
   ]
  },
  {
   "cell_type": "code",
   "execution_count": 4,
   "id": "alternate-victory",
   "metadata": {
    "execution": {
     "iopub.execute_input": "2021-11-16T21:30:09.867283Z",
     "iopub.status.busy": "2021-11-16T21:30:09.865061Z",
     "iopub.status.idle": "2021-11-16T21:30:11.086591Z",
     "shell.execute_reply": "2021-11-16T21:30:11.088051Z"
    },
    "papermill": {
     "duration": 1.255671,
     "end_time": "2021-11-16T21:30:11.088512",
     "exception": false,
     "start_time": "2021-11-16T21:30:09.832841",
     "status": "completed"
    },
    "tags": []
   },
   "outputs": [],
   "source": [
    "df = pd.read_sql(\"select * from EBAY_TOP_BERLIN where record_time in (select distinct record_time from EBAY_TOP_BERLIN order by record_time desc limit 2)\", sqlite3.connect(\"UsedObjects.db\"))"
   ]
  },
  {
   "cell_type": "code",
   "execution_count": 5,
   "id": "popular-active",
   "metadata": {
    "execution": {
     "iopub.execute_input": "2021-11-16T21:30:11.158507Z",
     "iopub.status.busy": "2021-11-16T21:30:11.148532Z",
     "iopub.status.idle": "2021-11-16T21:30:11.184141Z",
     "shell.execute_reply": "2021-11-16T21:30:11.186101Z"
    },
    "papermill": {
     "duration": 0.077056,
     "end_time": "2021-11-16T21:30:11.186581",
     "exception": false,
     "start_time": "2021-11-16T21:30:11.109525",
     "status": "completed"
    },
    "tags": []
   },
   "outputs": [],
   "source": [
    "df_pivot = df.pivot_table(index=\"PRODUCT\", columns = \"RECORD_TIME\", values = \"LISTING_COUNT\")"
   ]
  },
  {
   "cell_type": "code",
   "execution_count": 6,
   "id": "union-huntington",
   "metadata": {
    "execution": {
     "iopub.execute_input": "2021-11-16T21:30:11.245273Z",
     "iopub.status.busy": "2021-11-16T21:30:11.242897Z",
     "iopub.status.idle": "2021-11-16T21:30:11.250162Z",
     "shell.execute_reply": "2021-11-16T21:30:11.248624Z"
    },
    "papermill": {
     "duration": 0.04324,
     "end_time": "2021-11-16T21:30:11.250571",
     "exception": false,
     "start_time": "2021-11-16T21:30:11.207331",
     "status": "completed"
    },
    "tags": []
   },
   "outputs": [],
   "source": [
    "df_pivot.columns = [\"stamp_1\", \"stamp_2\"]\n",
    "df_pivot_diff = df_pivot.diff(axis=1)"
   ]
  },
  {
   "cell_type": "code",
   "execution_count": 7,
   "id": "fifth-motion",
   "metadata": {
    "execution": {
     "iopub.execute_input": "2021-11-16T21:30:11.310675Z",
     "iopub.status.busy": "2021-11-16T21:30:11.306077Z",
     "iopub.status.idle": "2021-11-16T21:30:13.349807Z",
     "shell.execute_reply": "2021-11-16T21:30:13.351474Z"
    },
    "papermill": {
     "duration": 2.081008,
     "end_time": "2021-11-16T21:30:13.351984",
     "exception": false,
     "start_time": "2021-11-16T21:30:11.270976",
     "status": "completed"
    },
    "tags": []
   },
   "outputs": [
    {
     "data": {
      "text/plain": [
       "<AxesSubplot:ylabel='PRODUCT'>"
      ]
     },
     "execution_count": 7,
     "metadata": {},
     "output_type": "execute_result"
    },
    {
     "data": {
      "image/png": "[encoded data removed]",
      "text/plain": [
       "<Figure size 432x288 with 1 Axes>"
      ]
     },
     "metadata": {
      "needs_background": "light"
     },
     "output_type": "display_data"
    }
   ],
   "source": [
    "df_pivot_diff.sort_values(\"stamp_2\", ascending = False)[\"stamp_2\"].head(10).plot.barh()"
   ]
  },
  {
   "cell_type": "code",
   "execution_count": null,
   "id": "extra-executive",
   "metadata": {
    "papermill": {
     "duration": 0.022282,
     "end_time": "2021-11-16T21:30:13.398671",
     "exception": false,
     "start_time": "2021-11-16T21:30:13.376389",
     "status": "completed"
    },
    "tags": []
   },
   "outputs": [],
   "source": []
  }
 ],
 "metadata": {
  "kernelspec": {
   "display_name": "Python 3",
   "language": "python",
   "name": "python3"
  },
  "language_info": {
   "codemirror_mode": {
    "name": "ipython",
    "version": 3
   },
   "file_extension": ".py",
   "mimetype": "text/x-python",
   "name": "python",
   "nbconvert_exporter": "python",
   "pygments_lexer": "ipython3",
   "version": "3.9.5"
  },
  "papermill": {
   "default_parameters": {},
   "duration": 9.965292,
   "end_time": "2021-11-16T21:30:14.980551",
   "environment_variables": {},
   "exception": null,
   "input_path": "eBay_Overview.ipynb",
   "output_path": "eBay_Overview.ipynb",
   "parameters": {},
   "start_time": "2021-11-16T21:30:05.015259",
   "version": "2.3.3"
  }
 },
 "nbformat": 4,
 "nbformat_minor": 5
}