{
 "cells": [
  {
   "cell_type": "code",
   "execution_count": 1,
   "id": "reverse-picking",
   "metadata": {
    "execution": {
     "iopub.execute_input": "2021-08-27T22:00:07.147784Z",
     "iopub.status.busy": "2021-08-27T22:00:07.145828Z",
     "iopub.status.idle": "2021-08-27T22:00:07.956392Z",
     "shell.execute_reply": "2021-08-27T22:00:07.957851Z"
    },
    "papermill": {
     "duration": 0.861833,
     "end_time": "2021-08-27T22:00:07.958543",
     "exception": false,
     "start_time": "2021-08-27T22:00:07.096710",
     "status": "completed"
    },
    "tags": []
   },
   "outputs": [],
   "source": [
    "import pandas as pd\n",
    "import sqlite3"
   ]
  },
  {
   "cell_type": "code",
   "execution_count": 2,
   "id": "innovative-syndrome",
   "metadata": {
    "execution": {
     "iopub.execute_input": "2021-08-27T22:00:08.010092Z",
     "iopub.status.busy": "2021-08-27T22:00:08.007666Z",
     "iopub.status.idle": "2021-08-27T22:00:08.153161Z",
     "shell.execute_reply": "2021-08-27T22:00:08.154379Z"
    },
    "papermill": {
     "duration": 0.175712,
     "end_time": "2021-08-27T22:00:08.154783",
     "exception": false,
     "start_time": "2021-08-27T22:00:07.979071",
     "status": "completed"
    },
    "tags": []
   },
   "outputs": [],
   "source": [
    "timestamps = pd.read_sql(\"select distinct record_time from EBAY_TOP_BERLIN order by record_time desc limit 2\", sqlite3.connect(\"UsedObjects.db\"))"
   ]
  },
  {
   "cell_type": "code",
   "execution_count": 3,
   "id": "periodic-identification",
   "metadata": {
    "execution": {
     "iopub.execute_input": "2021-08-27T22:00:08.219917Z",
     "iopub.status.busy": "2021-08-27T22:00:08.217901Z",
     "iopub.status.idle": "2021-08-27T22:00:08.237691Z",
     "shell.execute_reply": "2021-08-27T22:00:08.238902Z"
    },
    "papermill": {
     "duration": 0.063243,
     "end_time": "2021-08-27T22:00:08.239344",
     "exception": false,
     "start_time": "2021-08-27T22:00:08.176101",
     "status": "completed"
    },
    "tags": []
   },
   "outputs": [
    {
     "data": {
      "text/html": [
       "<div>\n",
       "<style scoped>\n",
       "    .dataframe tbody tr th:only-of-type {\n",
       "        vertical-align: middle;\n",
       "    }\n",
       "\n",
       "    .dataframe tbody tr th {\n",
       "        vertical-align: top;\n",
       "    }\n",
       "\n",
       "    .dataframe thead th {\n",
       "        text-align: right;\n",
       "    }\n",
       "</style>\n",
       "<table border=\"1\" class=\"dataframe\">\n",
       "  <thead>\n",
       "    <tr style=\"text-align: right;\">\n",
       "      <th></th>\n",
       "      <th>RECORD_TIME</th>\n",
       "    </tr>\n",
       "  </thead>\n",
       "  <tbody>\n",
       "    <tr>\n",
       "      <th>0</th>\n",
       "      <td>2021-08-28 00:00</td>\n",
       "    </tr>\n",
       "    <tr>\n",
       "      <th>1</th>\n",
       "      <td>2021-08-27 23:30</td>\n",
       "    </tr>\n",
       "  </tbody>\n",
       "</table>\n",
       "</div>"
      ],
      "text/plain": [
       "        RECORD_TIME\n",
       "0  2021-08-28 00:00\n",
       "1  2021-08-27 23:30"
      ]
     },
     "execution_count": 3,
     "metadata": {},
     "output_type": "execute_result"
    }
   ],
   "source": [
    "timestamps"
   ]
  },
  {
   "cell_type": "code",
   "execution_count": 4,
   "id": "alternate-victory",
   "metadata": {
    "execution": {
     "iopub.execute_input": "2021-08-27T22:00:08.290398Z",
     "iopub.status.busy": "2021-08-27T22:00:08.288546Z",
     "iopub.status.idle": "2021-08-27T22:00:08.504647Z",
     "shell.execute_reply": "2021-08-27T22:00:08.503245Z"
    },
    "papermill": {
     "duration": 0.245035,
     "end_time": "2021-08-27T22:00:08.505008",
     "exception": false,
     "start_time": "2021-08-27T22:00:08.259973",
     "status": "completed"
    },
    "tags": []
   },
   "outputs": [],
   "source": [
    "df = pd.read_sql(\"select * from EBAY_TOP_BERLIN where record_time in (select distinct record_time from EBAY_TOP_BERLIN order by record_time desc limit 2)\", sqlite3.connect(\"UsedObjects.db\"))"
   ]
  },
  {
   "cell_type": "code",
   "execution_count": 5,
   "id": "popular-active",
   "metadata": {
    "execution": {
     "iopub.execute_input": "2021-08-27T22:00:08.578173Z",
     "iopub.status.busy": "2021-08-27T22:00:08.565630Z",
     "iopub.status.idle": "2021-08-27T22:00:08.593999Z",
     "shell.execute_reply": "2021-08-27T22:00:08.595304Z"
    },
    "papermill": {
     "duration": 0.06881,
     "end_time": "2021-08-27T22:00:08.595731",
     "exception": false,
     "start_time": "2021-08-27T22:00:08.526921",
     "status": "completed"
    },
    "tags": []
   },
   "outputs": [],
   "source": [
    "df_pivot = df.pivot_table(index=\"PRODUCT\", columns = \"RECORD_TIME\", values = \"LISTING_COUNT\")"
   ]
  },
  {
   "cell_type": "code",
   "execution_count": 6,
   "id": "union-huntington",
   "metadata": {
    "execution": {
     "iopub.execute_input": "2021-08-27T22:00:08.681714Z",
     "iopub.status.busy": "2021-08-27T22:00:08.679590Z",
     "iopub.status.idle": "2021-08-27T22:00:08.684964Z",
     "shell.execute_reply": "2021-08-27T22:00:08.686176Z"
    },
    "papermill": {
     "duration": 0.048321,
     "end_time": "2021-08-27T22:00:08.686618",
     "exception": false,
     "start_time": "2021-08-27T22:00:08.638297",
     "status": "completed"
    },
    "tags": []
   },
   "outputs": [],
   "source": [
    "df_pivot.columns = [\"stamp_1\", \"stamp_2\"]\n",
    "df_pivot_diff = df_pivot.diff(axis=1)"
   ]
  },
  {
   "cell_type": "code",
   "execution_count": 7,
   "id": "fifth-motion",
   "metadata": {
    "execution": {
     "iopub.execute_input": "2021-08-27T22:00:08.741771Z",
     "iopub.status.busy": "2021-08-27T22:00:08.739214Z",
     "iopub.status.idle": "2021-08-27T22:00:10.246346Z",
     "shell.execute_reply": "2021-08-27T22:00:10.247643Z"
    },
    "papermill": {
     "duration": 1.540362,
     "end_time": "2021-08-27T22:00:10.248075",
     "exception": false,
     "start_time": "2021-08-27T22:00:08.707713",
     "status": "completed"
    },
    "tags": []
   },
   "outputs": [
    {
     "data": {
      "text/plain": [
       "<AxesSubplot:ylabel='PRODUCT'>"
      ]
     },
     "execution_count": 7,
     "metadata": {},
     "output_type": "execute_result"
    },
    {
     "data": {
      "image/png": "[encoded data removed]",
      "text/plain": [
       "<Figure size 432x288 with 1 Axes>"
      ]
     },
     "metadata": {
      "needs_background": "light"
     },
     "output_type": "display_data"
    }
   ],
   "source": [
    "df_pivot_diff.sort_values(\"stamp_2\", ascending = False)[\"stamp_2\"].head(10).plot.barh()"
   ]
  },
  {
   "cell_type": "code",
   "execution_count": null,
   "id": "extra-executive",
   "metadata": {
    "papermill": {
     "duration": 0.022652,
     "end_time": "2021-08-27T22:00:10.296318",
     "exception": false,
     "start_time": "2021-08-27T22:00:10.273666",
     "status": "completed"
    },
    "tags": []
   },
   "outputs": [],
   "source": []
  }
 ],
 "metadata": {
  "kernelspec": {
   "display_name": "Python 3",
   "language": "python",
   "name": "python3"
  },
  "language_info": {
   "codemirror_mode": {
    "name": "ipython",
    "version": 3
   },
   "file_extension": ".py",
   "mimetype": "text/x-python",
   "name": "python",
   "nbconvert_exporter": "python",
   "pygments_lexer": "ipython3",
   "version": "3.9.5"
  },
  "papermill": {
   "default_parameters": {},
   "duration": 6.831471,
   "end_time": "2021-08-27T22:00:11.524847",
   "environment_variables": {},
   "exception": null,
   "input_path": "eBay_Overview.ipynb",
   "output_path": "eBay_Overview.ipynb",
   "parameters": {},
   "start_time": "2021-08-27T22:00:04.693376",
   "version": "2.3.3"
  }
 },
 "nbformat": 4,
 "nbformat_minor": 5
}