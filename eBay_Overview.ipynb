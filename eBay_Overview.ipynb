{
 "cells": [
  {
   "cell_type": "code",
   "execution_count": 1,
   "id": "reverse-picking",
   "metadata": {
    "execution": {
     "iopub.execute_input": "2021-11-20T01:00:07.469641Z",
     "iopub.status.busy": "2021-11-20T01:00:07.467472Z",
     "iopub.status.idle": "2021-11-20T01:00:08.420610Z",
     "shell.execute_reply": "2021-11-20T01:00:08.422218Z"
    },
    "papermill": {
     "duration": 1.001797,
     "end_time": "2021-11-20T01:00:08.422944",
     "exception": false,
     "start_time": "2021-11-20T01:00:07.421147",
     "status": "completed"
    },
    "tags": []
   },
   "outputs": [],
   "source": [
    "import pandas as pd\n",
    "import sqlite3"
   ]
  },
  {
   "cell_type": "code",
   "execution_count": 2,
   "id": "innovative-syndrome",
   "metadata": {
    "execution": {
     "iopub.execute_input": "2021-11-20T01:00:08.490134Z",
     "iopub.status.busy": "2021-11-20T01:00:08.487734Z",
     "iopub.status.idle": "2021-11-20T01:00:09.351715Z",
     "shell.execute_reply": "2021-11-20T01:00:09.353286Z"
    },
    "papermill": {
     "duration": 0.898755,
     "end_time": "2021-11-20T01:00:09.353807",
     "exception": false,
     "start_time": "2021-11-20T01:00:08.455052",
     "status": "completed"
    },
    "tags": []
   },
   "outputs": [],
   "source": [
    "timestamps = pd.read_sql(\"select distinct record_time from EBAY_TOP_BERLIN order by record_time desc limit 2\", sqlite3.connect(\"UsedObjects.db\"))"
   ]
  },
  {
   "cell_type": "code",
   "execution_count": 3,
   "id": "periodic-identification",
   "metadata": {
    "execution": {
     "iopub.execute_input": "2021-11-20T01:00:09.427737Z",
     "iopub.status.busy": "2021-11-20T01:00:09.421263Z",
     "iopub.status.idle": "2021-11-20T01:00:09.443401Z",
     "shell.execute_reply": "2021-11-20T01:00:09.444673Z"
    },
    "papermill": {
     "duration": 0.071305,
     "end_time": "2021-11-20T01:00:09.445201",
     "exception": false,
     "start_time": "2021-11-20T01:00:09.373896",
     "status": "completed"
    },
    "tags": []
   },
   "outputs": [
    {
     "data": {
      "text/html": [
       "<div>\n",
       "<style scoped>\n",
       "    .dataframe tbody tr th:only-of-type {\n",
       "        vertical-align: middle;\n",
       "    }\n",
       "\n",
       "    .dataframe tbody tr th {\n",
       "        vertical-align: top;\n",
       "    }\n",
       "\n",
       "    .dataframe thead th {\n",
       "        text-align: right;\n",
       "    }\n",
       "</style>\n",
       "<table border=\"1\" class=\"dataframe\">\n",
       "  <thead>\n",
       "    <tr style=\"text-align: right;\">\n",
       "      <th></th>\n",
       "      <th>RECORD_TIME</th>\n",
       "    </tr>\n",
       "  </thead>\n",
       "  <tbody>\n",
       "    <tr>\n",
       "      <th>0</th>\n",
       "      <td>2021-11-20 02:00</td>\n",
       "    </tr>\n",
       "    <tr>\n",
       "      <th>1</th>\n",
       "      <td>2021-11-20 01:30</td>\n",
       "    </tr>\n",
       "  </tbody>\n",
       "</table>\n",
       "</div>"
      ],
      "text/plain": [
       "        RECORD_TIME\n",
       "0  2021-11-20 02:00\n",
       "1  2021-11-20 01:30"
      ]
     },
     "execution_count": 3,
     "metadata": {},
     "output_type": "execute_result"
    }
   ],
   "source": [
    "timestamps"
   ]
  },
  {
   "cell_type": "code",
   "execution_count": 4,
   "id": "alternate-victory",
   "metadata": {
    "execution": {
     "iopub.execute_input": "2021-11-20T01:00:09.499321Z",
     "iopub.status.busy": "2021-11-20T01:00:09.497287Z",
     "iopub.status.idle": "2021-11-20T01:00:10.717988Z",
     "shell.execute_reply": "2021-11-20T01:00:10.719573Z"
    },
    "papermill": {
     "duration": 1.253566,
     "end_time": "2021-11-20T01:00:10.720096",
     "exception": false,
     "start_time": "2021-11-20T01:00:09.466530",
     "status": "completed"
    },
    "tags": []
   },
   "outputs": [],
   "source": [
    "df = pd.read_sql(\"select * from EBAY_TOP_BERLIN where record_time in (select distinct record_time from EBAY_TOP_BERLIN order by record_time desc limit 2)\", sqlite3.connect(\"UsedObjects.db\"))"
   ]
  },
  {
   "cell_type": "code",
   "execution_count": 5,
   "id": "popular-active",
   "metadata": {
    "execution": {
     "iopub.execute_input": "2021-11-20T01:00:10.788221Z",
     "iopub.status.busy": "2021-11-20T01:00:10.785737Z",
     "iopub.status.idle": "2021-11-20T01:00:10.819651Z",
     "shell.execute_reply": "2021-11-20T01:00:10.821202Z"
    },
    "papermill": {
     "duration": 0.079173,
     "end_time": "2021-11-20T01:00:10.821712",
     "exception": false,
     "start_time": "2021-11-20T01:00:10.742539",
     "status": "completed"
    },
    "tags": []
   },
   "outputs": [],
   "source": [
    "df_pivot = df.pivot_table(index=\"PRODUCT\", columns = \"RECORD_TIME\", values = \"LISTING_COUNT\")"
   ]
  },
  {
   "cell_type": "code",
   "execution_count": 6,
   "id": "union-huntington",
   "metadata": {
    "execution": {
     "iopub.execute_input": "2021-11-20T01:00:10.881282Z",
     "iopub.status.busy": "2021-11-20T01:00:10.878999Z",
     "iopub.status.idle": "2021-11-20T01:00:10.884181Z",
     "shell.execute_reply": "2021-11-20T01:00:10.885599Z"
    },
    "papermill": {
     "duration": 0.04346,
     "end_time": "2021-11-20T01:00:10.886070",
     "exception": false,
     "start_time": "2021-11-20T01:00:10.842610",
     "status": "completed"
    },
    "tags": []
   },
   "outputs": [],
   "source": [
    "df_pivot.columns = [\"stamp_1\", \"stamp_2\"]\n",
    "df_pivot_diff = df_pivot.diff(axis=1)"
   ]
  },
  {
   "cell_type": "code",
   "execution_count": 7,
   "id": "fifth-motion",
   "metadata": {
    "execution": {
     "iopub.execute_input": "2021-11-20T01:00:10.943766Z",
     "iopub.status.busy": "2021-11-20T01:00:10.941436Z",
     "iopub.status.idle": "2021-11-20T01:00:12.702590Z",
     "shell.execute_reply": "2021-11-20T01:00:12.705338Z"
    },
    "papermill": {
     "duration": 1.799567,
     "end_time": "2021-11-20T01:00:12.706184",
     "exception": false,
     "start_time": "2021-11-20T01:00:10.906617",
     "status": "completed"
    },
    "tags": []
   },
   "outputs": [
    {
     "data": {
      "text/plain": [
       "<AxesSubplot:ylabel='PRODUCT'>"
      ]
     },
     "execution_count": 7,
     "metadata": {},
     "output_type": "execute_result"
    },
    {
     "data": {
      "image/png": "[encoded data removed]",
      "text/plain": [
       "<Figure size 432x288 with 1 Axes>"
      ]
     },
     "metadata": {
      "needs_background": "light"
     },
     "output_type": "display_data"
    }
   ],
   "source": [
    "df_pivot_diff.sort_values(\"stamp_2\", ascending = False)[\"stamp_2\"].head(10).plot.barh()"
   ]
  },
  {
   "cell_type": "code",
   "execution_count": null,
   "id": "extra-executive",
   "metadata": {
    "papermill": {
     "duration": 0.034588,
     "end_time": "2021-11-20T01:00:12.778498",
     "exception": false,
     "start_time": "2021-11-20T01:00:12.743910",
     "status": "completed"
    },
    "tags": []
   },
   "outputs": [],
   "source": []
  }
 ],
 "metadata": {
  "kernelspec": {
   "display_name": "Python 3",
   "language": "python",
   "name": "python3"
  },
  "language_info": {
   "codemirror_mode": {
    "name": "ipython",
    "version": 3
   },
   "file_extension": ".py",
   "mimetype": "text/x-python",
   "name": "python",
   "nbconvert_exporter": "python",
   "pygments_lexer": "ipython3",
   "version": "3.9.5"
  },
  "papermill": {
   "default_parameters": {},
   "duration": 9.968386,
   "end_time": "2021-11-20T01:00:14.626091",
   "environment_variables": {},
   "exception": null,
   "input_path": "eBay_Overview.ipynb",
   "output_path": "eBay_Overview.ipynb",
   "parameters": {},
   "start_time": "2021-11-20T01:00:04.657705",
   "version": "2.3.3"
  }
 },
 "nbformat": 4,
 "nbformat_minor": 5
}