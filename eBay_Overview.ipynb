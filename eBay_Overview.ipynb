{
 "cells": [
  {
   "cell_type": "code",
   "execution_count": 1,
   "id": "reverse-picking",
   "metadata": {
    "execution": {
     "iopub.execute_input": "2021-08-23T05:00:07.353753Z",
     "iopub.status.busy": "2021-08-23T05:00:07.351784Z",
     "iopub.status.idle": "2021-08-23T05:00:08.160047Z",
     "shell.execute_reply": "2021-08-23T05:00:08.161291Z"
    },
    "papermill": {
     "duration": 0.860389,
     "end_time": "2021-08-23T05:00:08.161990",
     "exception": false,
     "start_time": "2021-08-23T05:00:07.301601",
     "status": "completed"
    },
    "tags": []
   },
   "outputs": [],
   "source": [
    "import pandas as pd\n",
    "import sqlite3"
   ]
  },
  {
   "cell_type": "code",
   "execution_count": 2,
   "id": "innovative-syndrome",
   "metadata": {
    "execution": {
     "iopub.execute_input": "2021-08-23T05:00:08.213744Z",
     "iopub.status.busy": "2021-08-23T05:00:08.211862Z",
     "iopub.status.idle": "2021-08-23T05:00:08.322603Z",
     "shell.execute_reply": "2021-08-23T05:00:08.323888Z"
    },
    "papermill": {
     "duration": 0.140106,
     "end_time": "2021-08-23T05:00:08.324346",
     "exception": false,
     "start_time": "2021-08-23T05:00:08.184240",
     "status": "completed"
    },
    "tags": []
   },
   "outputs": [],
   "source": [
    "timestamps = pd.read_sql(\"select distinct record_time from EBAY_TOP_BERLIN order by record_time desc limit 2\", sqlite3.connect(\"UsedObjects.db\"))"
   ]
  },
  {
   "cell_type": "code",
   "execution_count": 3,
   "id": "periodic-identification",
   "metadata": {
    "execution": {
     "iopub.execute_input": "2021-08-23T05:00:08.390216Z",
     "iopub.status.busy": "2021-08-23T05:00:08.388553Z",
     "iopub.status.idle": "2021-08-23T05:00:08.412933Z",
     "shell.execute_reply": "2021-08-23T05:00:08.414204Z"
    },
    "papermill": {
     "duration": 0.070559,
     "end_time": "2021-08-23T05:00:08.414649",
     "exception": false,
     "start_time": "2021-08-23T05:00:08.344090",
     "status": "completed"
    },
    "tags": []
   },
   "outputs": [
    {
     "data": {
      "text/html": [
       "<div>\n",
       "<style scoped>\n",
       "    .dataframe tbody tr th:only-of-type {\n",
       "        vertical-align: middle;\n",
       "    }\n",
       "\n",
       "    .dataframe tbody tr th {\n",
       "        vertical-align: top;\n",
       "    }\n",
       "\n",
       "    .dataframe thead th {\n",
       "        text-align: right;\n",
       "    }\n",
       "</style>\n",
       "<table border=\"1\" class=\"dataframe\">\n",
       "  <thead>\n",
       "    <tr style=\"text-align: right;\">\n",
       "      <th></th>\n",
       "      <th>RECORD_TIME</th>\n",
       "    </tr>\n",
       "  </thead>\n",
       "  <tbody>\n",
       "    <tr>\n",
       "      <th>0</th>\n",
       "      <td>2021-08-23 07:00</td>\n",
       "    </tr>\n",
       "    <tr>\n",
       "      <th>1</th>\n",
       "      <td>2021-08-23 06:30</td>\n",
       "    </tr>\n",
       "  </tbody>\n",
       "</table>\n",
       "</div>"
      ],
      "text/plain": [
       "        RECORD_TIME\n",
       "0  2021-08-23 07:00\n",
       "1  2021-08-23 06:30"
      ]
     },
     "execution_count": 3,
     "metadata": {},
     "output_type": "execute_result"
    }
   ],
   "source": [
    "timestamps"
   ]
  },
  {
   "cell_type": "code",
   "execution_count": 4,
   "id": "alternate-victory",
   "metadata": {
    "execution": {
     "iopub.execute_input": "2021-08-23T05:00:08.467753Z",
     "iopub.status.busy": "2021-08-23T05:00:08.465547Z",
     "iopub.status.idle": "2021-08-23T05:00:08.634791Z",
     "shell.execute_reply": "2021-08-23T05:00:08.636197Z"
    },
    "papermill": {
     "duration": 0.19922,
     "end_time": "2021-08-23T05:00:08.636631",
     "exception": false,
     "start_time": "2021-08-23T05:00:08.437411",
     "status": "completed"
    },
    "tags": []
   },
   "outputs": [],
   "source": [
    "df = pd.read_sql(\"select * from EBAY_TOP_BERLIN where record_time in (select distinct record_time from EBAY_TOP_BERLIN order by record_time desc limit 2)\", sqlite3.connect(\"UsedObjects.db\"))"
   ]
  },
  {
   "cell_type": "code",
   "execution_count": 5,
   "id": "popular-active",
   "metadata": {
    "execution": {
     "iopub.execute_input": "2021-08-23T05:00:08.697540Z",
     "iopub.status.busy": "2021-08-23T05:00:08.695470Z",
     "iopub.status.idle": "2021-08-23T05:00:08.722708Z",
     "shell.execute_reply": "2021-08-23T05:00:08.723950Z"
    },
    "papermill": {
     "duration": 0.067154,
     "end_time": "2021-08-23T05:00:08.724346",
     "exception": false,
     "start_time": "2021-08-23T05:00:08.657192",
     "status": "completed"
    },
    "tags": []
   },
   "outputs": [],
   "source": [
    "df_pivot = df.pivot_table(index=\"PRODUCT\", columns = \"RECORD_TIME\", values = \"LISTING_COUNT\")"
   ]
  },
  {
   "cell_type": "code",
   "execution_count": 6,
   "id": "union-huntington",
   "metadata": {
    "execution": {
     "iopub.execute_input": "2021-08-23T05:00:08.784838Z",
     "iopub.status.busy": "2021-08-23T05:00:08.782684Z",
     "iopub.status.idle": "2021-08-23T05:00:08.788295Z",
     "shell.execute_reply": "2021-08-23T05:00:08.789561Z"
    },
    "papermill": {
     "duration": 0.045205,
     "end_time": "2021-08-23T05:00:08.790061",
     "exception": false,
     "start_time": "2021-08-23T05:00:08.744856",
     "status": "completed"
    },
    "tags": []
   },
   "outputs": [],
   "source": [
    "df_pivot.columns = [\"stamp_1\", \"stamp_2\"]\n",
    "df_pivot_diff = df_pivot.diff(axis=1)"
   ]
  },
  {
   "cell_type": "code",
   "execution_count": 7,
   "id": "fifth-motion",
   "metadata": {
    "execution": {
     "iopub.execute_input": "2021-08-23T05:00:08.844136Z",
     "iopub.status.busy": "2021-08-23T05:00:08.841796Z",
     "iopub.status.idle": "2021-08-23T05:00:10.315088Z",
     "shell.execute_reply": "2021-08-23T05:00:10.316380Z"
    },
    "papermill": {
     "duration": 1.506114,
     "end_time": "2021-08-23T05:00:10.316802",
     "exception": false,
     "start_time": "2021-08-23T05:00:08.810688",
     "status": "completed"
    },
    "tags": []
   },
   "outputs": [
    {
     "data": {
      "text/plain": [
       "<AxesSubplot:ylabel='PRODUCT'>"
      ]
     },
     "execution_count": 7,
     "metadata": {},
     "output_type": "execute_result"
    },
    {
     "data": {
      "image/png": "[encoded data removed]",
      "text/plain": [
       "<Figure size 432x288 with 1 Axes>"
      ]
     },
     "metadata": {
      "needs_background": "light"
     },
     "output_type": "display_data"
    }
   ],
   "source": [
    "df_pivot_diff.sort_values(\"stamp_2\", ascending = False)[\"stamp_2\"].head(10).plot.barh()"
   ]
  },
  {
   "cell_type": "code",
   "execution_count": null,
   "id": "extra-executive",
   "metadata": {
    "papermill": {
     "duration": 0.022037,
     "end_time": "2021-08-23T05:00:10.363268",
     "exception": false,
     "start_time": "2021-08-23T05:00:10.341231",
     "status": "completed"
    },
    "tags": []
   },
   "outputs": [],
   "source": []
  }
 ],
 "metadata": {
  "kernelspec": {
   "display_name": "Python 3",
   "language": "python",
   "name": "python3"
  },
  "language_info": {
   "codemirror_mode": {
    "name": "ipython",
    "version": 3
   },
   "file_extension": ".py",
   "mimetype": "text/x-python",
   "name": "python",
   "nbconvert_exporter": "python",
   "pygments_lexer": "ipython3",
   "version": "3.9.5"
  },
  "papermill": {
   "default_parameters": {},
   "duration": 6.825495,
   "end_time": "2021-08-23T05:00:11.712387",
   "environment_variables": {},
   "exception": null,
   "input_path": "eBay_Overview.ipynb",
   "output_path": "eBay_Overview.ipynb",
   "parameters": {},
   "start_time": "2021-08-23T05:00:04.886892",
   "version": "2.3.3"
  }
 },
 "nbformat": 4,
 "nbformat_minor": 5
}