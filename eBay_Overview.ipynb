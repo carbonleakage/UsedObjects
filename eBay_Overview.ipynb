{
 "cells": [
  {
   "cell_type": "code",
   "execution_count": 1,
   "id": "reverse-picking",
   "metadata": {
    "execution": {
     "iopub.execute_input": "2021-11-20T22:00:07.371398Z",
     "iopub.status.busy": "2021-11-20T22:00:07.369081Z",
     "iopub.status.idle": "2021-11-20T22:00:08.323924Z",
     "shell.execute_reply": "2021-11-20T22:00:08.325377Z"
    },
    "papermill": {
     "duration": 1.003845,
     "end_time": "2021-11-20T22:00:08.326122",
     "exception": false,
     "start_time": "2021-11-20T22:00:07.322277",
     "status": "completed"
    },
    "tags": []
   },
   "outputs": [],
   "source": [
    "import pandas as pd\n",
    "import sqlite3"
   ]
  },
  {
   "cell_type": "code",
   "execution_count": 2,
   "id": "innovative-syndrome",
   "metadata": {
    "execution": {
     "iopub.execute_input": "2021-11-20T22:00:08.387785Z",
     "iopub.status.busy": "2021-11-20T22:00:08.385596Z",
     "iopub.status.idle": "2021-11-20T22:00:09.288144Z",
     "shell.execute_reply": "2021-11-20T22:00:09.289905Z"
    },
    "papermill": {
     "duration": 0.935704,
     "end_time": "2021-11-20T22:00:09.290393",
     "exception": false,
     "start_time": "2021-11-20T22:00:08.354689",
     "status": "completed"
    },
    "tags": []
   },
   "outputs": [],
   "source": [
    "timestamps = pd.read_sql(\"select distinct record_time from EBAY_TOP_BERLIN order by record_time desc limit 2\", sqlite3.connect(\"UsedObjects.db\"))"
   ]
  },
  {
   "cell_type": "code",
   "execution_count": 3,
   "id": "periodic-identification",
   "metadata": {
    "execution": {
     "iopub.execute_input": "2021-11-20T22:00:09.358713Z",
     "iopub.status.busy": "2021-11-20T22:00:09.356474Z",
     "iopub.status.idle": "2021-11-20T22:00:09.379009Z",
     "shell.execute_reply": "2021-11-20T22:00:09.380324Z"
    },
    "papermill": {
     "duration": 0.071018,
     "end_time": "2021-11-20T22:00:09.380855",
     "exception": false,
     "start_time": "2021-11-20T22:00:09.309837",
     "status": "completed"
    },
    "tags": []
   },
   "outputs": [
    {
     "data": {
      "text/html": [
       "<div>\n",
       "<style scoped>\n",
       "    .dataframe tbody tr th:only-of-type {\n",
       "        vertical-align: middle;\n",
       "    }\n",
       "\n",
       "    .dataframe tbody tr th {\n",
       "        vertical-align: top;\n",
       "    }\n",
       "\n",
       "    .dataframe thead th {\n",
       "        text-align: right;\n",
       "    }\n",
       "</style>\n",
       "<table border=\"1\" class=\"dataframe\">\n",
       "  <thead>\n",
       "    <tr style=\"text-align: right;\">\n",
       "      <th></th>\n",
       "      <th>RECORD_TIME</th>\n",
       "    </tr>\n",
       "  </thead>\n",
       "  <tbody>\n",
       "    <tr>\n",
       "      <th>0</th>\n",
       "      <td>2021-11-20 23:00</td>\n",
       "    </tr>\n",
       "    <tr>\n",
       "      <th>1</th>\n",
       "      <td>2021-11-20 22:30</td>\n",
       "    </tr>\n",
       "  </tbody>\n",
       "</table>\n",
       "</div>"
      ],
      "text/plain": [
       "        RECORD_TIME\n",
       "0  2021-11-20 23:00\n",
       "1  2021-11-20 22:30"
      ]
     },
     "execution_count": 3,
     "metadata": {},
     "output_type": "execute_result"
    }
   ],
   "source": [
    "timestamps"
   ]
  },
  {
   "cell_type": "code",
   "execution_count": 4,
   "id": "alternate-victory",
   "metadata": {
    "execution": {
     "iopub.execute_input": "2021-11-20T22:00:09.433755Z",
     "iopub.status.busy": "2021-11-20T22:00:09.431522Z",
     "iopub.status.idle": "2021-11-20T22:00:10.675117Z",
     "shell.execute_reply": "2021-11-20T22:00:10.676808Z"
    },
    "papermill": {
     "duration": 1.276264,
     "end_time": "2021-11-20T22:00:10.677304",
     "exception": false,
     "start_time": "2021-11-20T22:00:09.401040",
     "status": "completed"
    },
    "tags": []
   },
   "outputs": [],
   "source": [
    "df = pd.read_sql(\"select * from EBAY_TOP_BERLIN where record_time in (select distinct record_time from EBAY_TOP_BERLIN order by record_time desc limit 2)\", sqlite3.connect(\"UsedObjects.db\"))"
   ]
  },
  {
   "cell_type": "code",
   "execution_count": 5,
   "id": "popular-active",
   "metadata": {
    "execution": {
     "iopub.execute_input": "2021-11-20T22:00:10.756302Z",
     "iopub.status.busy": "2021-11-20T22:00:10.742674Z",
     "iopub.status.idle": "2021-11-20T22:00:10.774050Z",
     "shell.execute_reply": "2021-11-20T22:00:10.775434Z"
    },
    "papermill": {
     "duration": 0.07631,
     "end_time": "2021-11-20T22:00:10.775913",
     "exception": false,
     "start_time": "2021-11-20T22:00:10.699603",
     "status": "completed"
    },
    "tags": []
   },
   "outputs": [],
   "source": [
    "df_pivot = df.pivot_table(index=\"PRODUCT\", columns = \"RECORD_TIME\", values = \"LISTING_COUNT\")"
   ]
  },
  {
   "cell_type": "code",
   "execution_count": 6,
   "id": "union-huntington",
   "metadata": {
    "execution": {
     "iopub.execute_input": "2021-11-20T22:00:10.834293Z",
     "iopub.status.busy": "2021-11-20T22:00:10.831836Z",
     "iopub.status.idle": "2021-11-20T22:00:10.837797Z",
     "shell.execute_reply": "2021-11-20T22:00:10.839309Z"
    },
    "papermill": {
     "duration": 0.044021,
     "end_time": "2021-11-20T22:00:10.839845",
     "exception": false,
     "start_time": "2021-11-20T22:00:10.795824",
     "status": "completed"
    },
    "tags": []
   },
   "outputs": [],
   "source": [
    "df_pivot.columns = [\"stamp_1\", \"stamp_2\"]\n",
    "df_pivot_diff = df_pivot.diff(axis=1)"
   ]
  },
  {
   "cell_type": "code",
   "execution_count": 7,
   "id": "fifth-motion",
   "metadata": {
    "execution": {
     "iopub.execute_input": "2021-11-20T22:00:10.927064Z",
     "iopub.status.busy": "2021-11-20T22:00:10.909366Z",
     "iopub.status.idle": "2021-11-20T22:00:12.743484Z",
     "shell.execute_reply": "2021-11-20T22:00:12.746595Z"
    },
    "papermill": {
     "duration": 1.886305,
     "end_time": "2021-11-20T22:00:12.747482",
     "exception": false,
     "start_time": "2021-11-20T22:00:10.861177",
     "status": "completed"
    },
    "tags": []
   },
   "outputs": [
    {
     "data": {
      "text/plain": [
       "<AxesSubplot:ylabel='PRODUCT'>"
      ]
     },
     "execution_count": 7,
     "metadata": {},
     "output_type": "execute_result"
    },
    {
     "data": {
      "image/png": "[encoded data removed]",
      "text/plain": [
       "<Figure size 432x288 with 1 Axes>"
      ]
     },
     "metadata": {
      "needs_background": "light"
     },
     "output_type": "display_data"
    }
   ],
   "source": [
    "df_pivot_diff.sort_values(\"stamp_2\", ascending = False)[\"stamp_2\"].head(10).plot.barh()"
   ]
  },
  {
   "cell_type": "code",
   "execution_count": null,
   "id": "extra-executive",
   "metadata": {
    "papermill": {
     "duration": 0.033768,
     "end_time": "2021-11-20T22:00:12.821119",
     "exception": false,
     "start_time": "2021-11-20T22:00:12.787351",
     "status": "completed"
    },
    "tags": []
   },
   "outputs": [],
   "source": []
  }
 ],
 "metadata": {
  "kernelspec": {
   "display_name": "Python 3",
   "language": "python",
   "name": "python3"
  },
  "language_info": {
   "codemirror_mode": {
    "name": "ipython",
    "version": 3
   },
   "file_extension": ".py",
   "mimetype": "text/x-python",
   "name": "python",
   "nbconvert_exporter": "python",
   "pygments_lexer": "ipython3",
   "version": "3.9.5"
  },
  "papermill": {
   "default_parameters": {},
   "duration": 9.982698,
   "end_time": "2021-11-20T22:00:14.504394",
   "environment_variables": {},
   "exception": null,
   "input_path": "eBay_Overview.ipynb",
   "output_path": "eBay_Overview.ipynb",
   "parameters": {},
   "start_time": "2021-11-20T22:00:04.521696",
   "version": "2.3.3"
  }
 },
 "nbformat": 4,
 "nbformat_minor": 5
}