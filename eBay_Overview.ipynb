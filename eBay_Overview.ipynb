{
 "cells": [
  {
   "cell_type": "code",
   "execution_count": 1,
   "id": "reverse-picking",
   "metadata": {
    "execution": {
     "iopub.execute_input": "2021-10-21T19:30:07.367240Z",
     "iopub.status.busy": "2021-10-21T19:30:07.365224Z",
     "iopub.status.idle": "2021-10-21T19:30:08.172243Z",
     "shell.execute_reply": "2021-10-21T19:30:08.173597Z"
    },
    "papermill": {
     "duration": 0.859622,
     "end_time": "2021-10-21T19:30:08.174235",
     "exception": false,
     "start_time": "2021-10-21T19:30:07.314613",
     "status": "completed"
    },
    "tags": []
   },
   "outputs": [],
   "source": [
    "import pandas as pd\n",
    "import sqlite3"
   ]
  },
  {
   "cell_type": "code",
   "execution_count": 2,
   "id": "innovative-syndrome",
   "metadata": {
    "execution": {
     "iopub.execute_input": "2021-10-21T19:30:08.226817Z",
     "iopub.status.busy": "2021-10-21T19:30:08.224545Z",
     "iopub.status.idle": "2021-10-21T19:30:08.841418Z",
     "shell.execute_reply": "2021-10-21T19:30:08.842708Z"
    },
    "papermill": {
     "duration": 0.646536,
     "end_time": "2021-10-21T19:30:08.843109",
     "exception": false,
     "start_time": "2021-10-21T19:30:08.196573",
     "status": "completed"
    },
    "tags": []
   },
   "outputs": [],
   "source": [
    "timestamps = pd.read_sql(\"select distinct record_time from EBAY_TOP_BERLIN order by record_time desc limit 2\", sqlite3.connect(\"UsedObjects.db\"))"
   ]
  },
  {
   "cell_type": "code",
   "execution_count": 3,
   "id": "periodic-identification",
   "metadata": {
    "execution": {
     "iopub.execute_input": "2021-10-21T19:30:08.919351Z",
     "iopub.status.busy": "2021-10-21T19:30:08.917306Z",
     "iopub.status.idle": "2021-10-21T19:30:08.937258Z",
     "shell.execute_reply": "2021-10-21T19:30:08.938580Z"
    },
    "papermill": {
     "duration": 0.07071,
     "end_time": "2021-10-21T19:30:08.938997",
     "exception": false,
     "start_time": "2021-10-21T19:30:08.868287",
     "status": "completed"
    },
    "tags": []
   },
   "outputs": [
    {
     "data": {
      "text/html": [
       "<div>\n",
       "<style scoped>\n",
       "    .dataframe tbody tr th:only-of-type {\n",
       "        vertical-align: middle;\n",
       "    }\n",
       "\n",
       "    .dataframe tbody tr th {\n",
       "        vertical-align: top;\n",
       "    }\n",
       "\n",
       "    .dataframe thead th {\n",
       "        text-align: right;\n",
       "    }\n",
       "</style>\n",
       "<table border=\"1\" class=\"dataframe\">\n",
       "  <thead>\n",
       "    <tr style=\"text-align: right;\">\n",
       "      <th></th>\n",
       "      <th>RECORD_TIME</th>\n",
       "    </tr>\n",
       "  </thead>\n",
       "  <tbody>\n",
       "    <tr>\n",
       "      <th>0</th>\n",
       "      <td>2021-10-21 21:30</td>\n",
       "    </tr>\n",
       "    <tr>\n",
       "      <th>1</th>\n",
       "      <td>2021-10-21 21:00</td>\n",
       "    </tr>\n",
       "  </tbody>\n",
       "</table>\n",
       "</div>"
      ],
      "text/plain": [
       "        RECORD_TIME\n",
       "0  2021-10-21 21:30\n",
       "1  2021-10-21 21:00"
      ]
     },
     "execution_count": 3,
     "metadata": {},
     "output_type": "execute_result"
    }
   ],
   "source": [
    "timestamps"
   ]
  },
  {
   "cell_type": "code",
   "execution_count": 4,
   "id": "alternate-victory",
   "metadata": {
    "execution": {
     "iopub.execute_input": "2021-10-21T19:30:08.990966Z",
     "iopub.status.busy": "2021-10-21T19:30:08.988830Z",
     "iopub.status.idle": "2021-10-21T19:30:09.870325Z",
     "shell.execute_reply": "2021-10-21T19:30:09.871554Z"
    },
    "papermill": {
     "duration": 0.911668,
     "end_time": "2021-10-21T19:30:09.871943",
     "exception": false,
     "start_time": "2021-10-21T19:30:08.960275",
     "status": "completed"
    },
    "tags": []
   },
   "outputs": [],
   "source": [
    "df = pd.read_sql(\"select * from EBAY_TOP_BERLIN where record_time in (select distinct record_time from EBAY_TOP_BERLIN order by record_time desc limit 2)\", sqlite3.connect(\"UsedObjects.db\"))"
   ]
  },
  {
   "cell_type": "code",
   "execution_count": 5,
   "id": "popular-active",
   "metadata": {
    "execution": {
     "iopub.execute_input": "2021-10-21T19:30:09.942745Z",
     "iopub.status.busy": "2021-10-21T19:30:09.930305Z",
     "iopub.status.idle": "2021-10-21T19:30:09.958935Z",
     "shell.execute_reply": "2021-10-21T19:30:09.960256Z"
    },
    "papermill": {
     "duration": 0.067225,
     "end_time": "2021-10-21T19:30:09.960673",
     "exception": false,
     "start_time": "2021-10-21T19:30:09.893448",
     "status": "completed"
    },
    "tags": []
   },
   "outputs": [],
   "source": [
    "df_pivot = df.pivot_table(index=\"PRODUCT\", columns = \"RECORD_TIME\", values = \"LISTING_COUNT\")"
   ]
  },
  {
   "cell_type": "code",
   "execution_count": 6,
   "id": "union-huntington",
   "metadata": {
    "execution": {
     "iopub.execute_input": "2021-10-21T19:30:10.016550Z",
     "iopub.status.busy": "2021-10-21T19:30:10.014490Z",
     "iopub.status.idle": "2021-10-21T19:30:10.019940Z",
     "shell.execute_reply": "2021-10-21T19:30:10.021303Z"
    },
    "papermill": {
     "duration": 0.041256,
     "end_time": "2021-10-21T19:30:10.021730",
     "exception": false,
     "start_time": "2021-10-21T19:30:09.980474",
     "status": "completed"
    },
    "tags": []
   },
   "outputs": [],
   "source": [
    "df_pivot.columns = [\"stamp_1\", \"stamp_2\"]\n",
    "df_pivot_diff = df_pivot.diff(axis=1)"
   ]
  },
  {
   "cell_type": "code",
   "execution_count": 7,
   "id": "fifth-motion",
   "metadata": {
    "execution": {
     "iopub.execute_input": "2021-10-21T19:30:10.075804Z",
     "iopub.status.busy": "2021-10-21T19:30:10.073407Z",
     "iopub.status.idle": "2021-10-21T19:30:11.556794Z",
     "shell.execute_reply": "2021-10-21T19:30:11.558334Z"
    },
    "papermill": {
     "duration": 1.516498,
     "end_time": "2021-10-21T19:30:11.558802",
     "exception": false,
     "start_time": "2021-10-21T19:30:10.042304",
     "status": "completed"
    },
    "tags": []
   },
   "outputs": [
    {
     "data": {
      "text/plain": [
       "<AxesSubplot:ylabel='PRODUCT'>"
      ]
     },
     "execution_count": 7,
     "metadata": {},
     "output_type": "execute_result"
    },
    {
     "data": {
      "image/png": "[encoded data removed]",
      "text/plain": [
       "<Figure size 432x288 with 1 Axes>"
      ]
     },
     "metadata": {
      "needs_background": "light"
     },
     "output_type": "display_data"
    }
   ],
   "source": [
    "df_pivot_diff.sort_values(\"stamp_2\", ascending = False)[\"stamp_2\"].head(10).plot.barh()"
   ]
  },
  {
   "cell_type": "code",
   "execution_count": null,
   "id": "extra-executive",
   "metadata": {
    "papermill": {
     "duration": 0.022292,
     "end_time": "2021-10-21T19:30:11.605838",
     "exception": false,
     "start_time": "2021-10-21T19:30:11.583546",
     "status": "completed"
    },
    "tags": []
   },
   "outputs": [],
   "source": []
  }
 ],
 "metadata": {
  "kernelspec": {
   "display_name": "Python 3",
   "language": "python",
   "name": "python3"
  },
  "language_info": {
   "codemirror_mode": {
    "name": "ipython",
    "version": 3
   },
   "file_extension": ".py",
   "mimetype": "text/x-python",
   "name": "python",
   "nbconvert_exporter": "python",
   "pygments_lexer": "ipython3",
   "version": "3.9.5"
  },
  "papermill": {
   "default_parameters": {},
   "duration": 7.349031,
   "end_time": "2021-10-21T19:30:12.249109",
   "environment_variables": {},
   "exception": null,
   "input_path": "eBay_Overview.ipynb",
   "output_path": "eBay_Overview.ipynb",
   "parameters": {},
   "start_time": "2021-10-21T19:30:04.900078",
   "version": "2.3.3"
  }
 },
 "nbformat": 4,
 "nbformat_minor": 5
}