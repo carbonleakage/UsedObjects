{
 "cells": [
  {
   "cell_type": "code",
   "execution_count": 1,
   "id": "reverse-picking",
   "metadata": {
    "execution": {
     "iopub.execute_input": "2021-10-06T19:00:06.620837Z",
     "iopub.status.busy": "2021-10-06T19:00:06.618841Z",
     "iopub.status.idle": "2021-10-06T19:00:07.425480Z",
     "shell.execute_reply": "2021-10-06T19:00:07.423943Z"
    },
    "papermill": {
     "duration": 0.85624,
     "end_time": "2021-10-06T19:00:07.425871",
     "exception": false,
     "start_time": "2021-10-06T19:00:06.569631",
     "status": "completed"
    },
    "tags": []
   },
   "outputs": [],
   "source": [
    "import pandas as pd\n",
    "import sqlite3"
   ]
  },
  {
   "cell_type": "code",
   "execution_count": 2,
   "id": "innovative-syndrome",
   "metadata": {
    "execution": {
     "iopub.execute_input": "2021-10-06T19:00:07.479627Z",
     "iopub.status.busy": "2021-10-06T19:00:07.477278Z",
     "iopub.status.idle": "2021-10-06T19:00:07.949953Z",
     "shell.execute_reply": "2021-10-06T19:00:07.951188Z"
    },
    "papermill": {
     "duration": 0.502576,
     "end_time": "2021-10-06T19:00:07.951583",
     "exception": false,
     "start_time": "2021-10-06T19:00:07.449007",
     "status": "completed"
    },
    "tags": []
   },
   "outputs": [],
   "source": [
    "timestamps = pd.read_sql(\"select distinct record_time from EBAY_TOP_BERLIN order by record_time desc limit 2\", sqlite3.connect(\"UsedObjects.db\"))"
   ]
  },
  {
   "cell_type": "code",
   "execution_count": 3,
   "id": "periodic-identification",
   "metadata": {
    "execution": {
     "iopub.execute_input": "2021-10-06T19:00:08.019308Z",
     "iopub.status.busy": "2021-10-06T19:00:08.017229Z",
     "iopub.status.idle": "2021-10-06T19:00:08.037457Z",
     "shell.execute_reply": "2021-10-06T19:00:08.038953Z"
    },
    "papermill": {
     "duration": 0.066242,
     "end_time": "2021-10-06T19:00:08.039416",
     "exception": false,
     "start_time": "2021-10-06T19:00:07.973174",
     "status": "completed"
    },
    "tags": []
   },
   "outputs": [
    {
     "data": {
      "text/html": [
       "<div>\n",
       "<style scoped>\n",
       "    .dataframe tbody tr th:only-of-type {\n",
       "        vertical-align: middle;\n",
       "    }\n",
       "\n",
       "    .dataframe tbody tr th {\n",
       "        vertical-align: top;\n",
       "    }\n",
       "\n",
       "    .dataframe thead th {\n",
       "        text-align: right;\n",
       "    }\n",
       "</style>\n",
       "<table border=\"1\" class=\"dataframe\">\n",
       "  <thead>\n",
       "    <tr style=\"text-align: right;\">\n",
       "      <th></th>\n",
       "      <th>RECORD_TIME</th>\n",
       "    </tr>\n",
       "  </thead>\n",
       "  <tbody>\n",
       "    <tr>\n",
       "      <th>0</th>\n",
       "      <td>2021-10-06 21:00</td>\n",
       "    </tr>\n",
       "    <tr>\n",
       "      <th>1</th>\n",
       "      <td>2021-10-06 20:30</td>\n",
       "    </tr>\n",
       "  </tbody>\n",
       "</table>\n",
       "</div>"
      ],
      "text/plain": [
       "        RECORD_TIME\n",
       "0  2021-10-06 21:00\n",
       "1  2021-10-06 20:30"
      ]
     },
     "execution_count": 3,
     "metadata": {},
     "output_type": "execute_result"
    }
   ],
   "source": [
    "timestamps"
   ]
  },
  {
   "cell_type": "code",
   "execution_count": 4,
   "id": "alternate-victory",
   "metadata": {
    "execution": {
     "iopub.execute_input": "2021-10-06T19:00:08.100935Z",
     "iopub.status.busy": "2021-10-06T19:00:08.098718Z",
     "iopub.status.idle": "2021-10-06T19:00:08.779503Z",
     "shell.execute_reply": "2021-10-06T19:00:08.780880Z"
    },
    "papermill": {
     "duration": 0.714968,
     "end_time": "2021-10-06T19:00:08.781312",
     "exception": false,
     "start_time": "2021-10-06T19:00:08.066344",
     "status": "completed"
    },
    "tags": []
   },
   "outputs": [],
   "source": [
    "df = pd.read_sql(\"select * from EBAY_TOP_BERLIN where record_time in (select distinct record_time from EBAY_TOP_BERLIN order by record_time desc limit 2)\", sqlite3.connect(\"UsedObjects.db\"))"
   ]
  },
  {
   "cell_type": "code",
   "execution_count": 5,
   "id": "popular-active",
   "metadata": {
    "execution": {
     "iopub.execute_input": "2021-10-06T19:00:08.852854Z",
     "iopub.status.busy": "2021-10-06T19:00:08.840203Z",
     "iopub.status.idle": "2021-10-06T19:00:08.869983Z",
     "shell.execute_reply": "2021-10-06T19:00:08.871662Z"
    },
    "papermill": {
     "duration": 0.069911,
     "end_time": "2021-10-06T19:00:08.872140",
     "exception": false,
     "start_time": "2021-10-06T19:00:08.802229",
     "status": "completed"
    },
    "tags": []
   },
   "outputs": [],
   "source": [
    "df_pivot = df.pivot_table(index=\"PRODUCT\", columns = \"RECORD_TIME\", values = \"LISTING_COUNT\")"
   ]
  },
  {
   "cell_type": "code",
   "execution_count": 6,
   "id": "union-huntington",
   "metadata": {
    "execution": {
     "iopub.execute_input": "2021-10-06T19:00:08.930956Z",
     "iopub.status.busy": "2021-10-06T19:00:08.928847Z",
     "iopub.status.idle": "2021-10-06T19:00:08.934162Z",
     "shell.execute_reply": "2021-10-06T19:00:08.935478Z"
    },
    "papermill": {
     "duration": 0.041451,
     "end_time": "2021-10-06T19:00:08.935890",
     "exception": false,
     "start_time": "2021-10-06T19:00:08.894439",
     "status": "completed"
    },
    "tags": []
   },
   "outputs": [],
   "source": [
    "df_pivot.columns = [\"stamp_1\", \"stamp_2\"]\n",
    "df_pivot_diff = df_pivot.diff(axis=1)"
   ]
  },
  {
   "cell_type": "code",
   "execution_count": 7,
   "id": "fifth-motion",
   "metadata": {
    "execution": {
     "iopub.execute_input": "2021-10-06T19:00:08.989906Z",
     "iopub.status.busy": "2021-10-06T19:00:08.987560Z",
     "iopub.status.idle": "2021-10-06T19:00:10.486391Z",
     "shell.execute_reply": "2021-10-06T19:00:10.487724Z"
    },
    "papermill": {
     "duration": 1.531726,
     "end_time": "2021-10-06T19:00:10.488141",
     "exception": false,
     "start_time": "2021-10-06T19:00:08.956415",
     "status": "completed"
    },
    "tags": []
   },
   "outputs": [
    {
     "data": {
      "text/plain": [
       "<AxesSubplot:ylabel='PRODUCT'>"
      ]
     },
     "execution_count": 7,
     "metadata": {},
     "output_type": "execute_result"
    },
    {
     "data": {
      "image/png": "[encoded data removed]",
      "text/plain": [
       "<Figure size 432x288 with 1 Axes>"
      ]
     },
     "metadata": {
      "needs_background": "light"
     },
     "output_type": "display_data"
    }
   ],
   "source": [
    "df_pivot_diff.sort_values(\"stamp_2\", ascending = False)[\"stamp_2\"].head(10).plot.barh()"
   ]
  },
  {
   "cell_type": "code",
   "execution_count": null,
   "id": "extra-executive",
   "metadata": {
    "papermill": {
     "duration": 0.02235,
     "end_time": "2021-10-06T19:00:10.535233",
     "exception": false,
     "start_time": "2021-10-06T19:00:10.512883",
     "status": "completed"
    },
    "tags": []
   },
   "outputs": [],
   "source": []
  }
 ],
 "metadata": {
  "kernelspec": {
   "display_name": "Python 3",
   "language": "python",
   "name": "python3"
  },
  "language_info": {
   "codemirror_mode": {
    "name": "ipython",
    "version": 3
   },
   "file_extension": ".py",
   "mimetype": "text/x-python",
   "name": "python",
   "nbconvert_exporter": "python",
   "pygments_lexer": "ipython3",
   "version": "3.9.5"
  },
  "papermill": {
   "default_parameters": {},
   "duration": 7.833097,
   "end_time": "2021-10-06T19:00:11.995140",
   "environment_variables": {},
   "exception": null,
   "input_path": "eBay_Overview.ipynb",
   "output_path": "eBay_Overview.ipynb",
   "parameters": {},
   "start_time": "2021-10-06T19:00:04.162043",
   "version": "2.3.3"
  }
 },
 "nbformat": 4,
 "nbformat_minor": 5
}