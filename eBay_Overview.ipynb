{
 "cells": [
  {
   "cell_type": "code",
   "execution_count": 1,
   "id": "reverse-picking",
   "metadata": {
    "execution": {
     "iopub.execute_input": "2021-11-05T03:00:07.533866Z",
     "iopub.status.busy": "2021-11-05T03:00:07.531474Z",
     "iopub.status.idle": "2021-11-05T03:00:08.480537Z",
     "shell.execute_reply": "2021-11-05T03:00:08.482109Z"
    },
    "papermill": {
     "duration": 0.998593,
     "end_time": "2021-11-05T03:00:08.482839",
     "exception": false,
     "start_time": "2021-11-05T03:00:07.484246",
     "status": "completed"
    },
    "tags": []
   },
   "outputs": [],
   "source": [
    "import pandas as pd\n",
    "import sqlite3"
   ]
  },
  {
   "cell_type": "code",
   "execution_count": 2,
   "id": "innovative-syndrome",
   "metadata": {
    "execution": {
     "iopub.execute_input": "2021-11-05T03:00:08.546789Z",
     "iopub.status.busy": "2021-11-05T03:00:08.544311Z",
     "iopub.status.idle": "2021-11-05T03:00:09.259727Z",
     "shell.execute_reply": "2021-11-05T03:00:09.261161Z"
    },
    "papermill": {
     "duration": 0.749158,
     "end_time": "2021-11-05T03:00:09.261648",
     "exception": false,
     "start_time": "2021-11-05T03:00:08.512490",
     "status": "completed"
    },
    "tags": []
   },
   "outputs": [],
   "source": [
    "timestamps = pd.read_sql(\"select distinct record_time from EBAY_TOP_BERLIN order by record_time desc limit 2\", sqlite3.connect(\"UsedObjects.db\"))"
   ]
  },
  {
   "cell_type": "code",
   "execution_count": 3,
   "id": "periodic-identification",
   "metadata": {
    "execution": {
     "iopub.execute_input": "2021-11-05T03:00:09.332861Z",
     "iopub.status.busy": "2021-11-05T03:00:09.330410Z",
     "iopub.status.idle": "2021-11-05T03:00:09.352850Z",
     "shell.execute_reply": "2021-11-05T03:00:09.354260Z"
    },
    "papermill": {
     "duration": 0.07298,
     "end_time": "2021-11-05T03:00:09.354738",
     "exception": false,
     "start_time": "2021-11-05T03:00:09.281758",
     "status": "completed"
    },
    "tags": []
   },
   "outputs": [
    {
     "data": {
      "text/html": [
       "<div>\n",
       "<style scoped>\n",
       "    .dataframe tbody tr th:only-of-type {\n",
       "        vertical-align: middle;\n",
       "    }\n",
       "\n",
       "    .dataframe tbody tr th {\n",
       "        vertical-align: top;\n",
       "    }\n",
       "\n",
       "    .dataframe thead th {\n",
       "        text-align: right;\n",
       "    }\n",
       "</style>\n",
       "<table border=\"1\" class=\"dataframe\">\n",
       "  <thead>\n",
       "    <tr style=\"text-align: right;\">\n",
       "      <th></th>\n",
       "      <th>RECORD_TIME</th>\n",
       "    </tr>\n",
       "  </thead>\n",
       "  <tbody>\n",
       "    <tr>\n",
       "      <th>0</th>\n",
       "      <td>2021-11-05 04:00</td>\n",
       "    </tr>\n",
       "    <tr>\n",
       "      <th>1</th>\n",
       "      <td>2021-11-05 03:30</td>\n",
       "    </tr>\n",
       "  </tbody>\n",
       "</table>\n",
       "</div>"
      ],
      "text/plain": [
       "        RECORD_TIME\n",
       "0  2021-11-05 04:00\n",
       "1  2021-11-05 03:30"
      ]
     },
     "execution_count": 3,
     "metadata": {},
     "output_type": "execute_result"
    }
   ],
   "source": [
    "timestamps"
   ]
  },
  {
   "cell_type": "code",
   "execution_count": 4,
   "id": "alternate-victory",
   "metadata": {
    "execution": {
     "iopub.execute_input": "2021-11-05T03:00:09.409171Z",
     "iopub.status.busy": "2021-11-05T03:00:09.406910Z",
     "iopub.status.idle": "2021-11-05T03:00:10.468653Z",
     "shell.execute_reply": "2021-11-05T03:00:10.471732Z"
    },
    "papermill": {
     "duration": 1.095684,
     "end_time": "2021-11-05T03:00:10.472242",
     "exception": false,
     "start_time": "2021-11-05T03:00:09.376558",
     "status": "completed"
    },
    "tags": []
   },
   "outputs": [],
   "source": [
    "df = pd.read_sql(\"select * from EBAY_TOP_BERLIN where record_time in (select distinct record_time from EBAY_TOP_BERLIN order by record_time desc limit 2)\", sqlite3.connect(\"UsedObjects.db\"))"
   ]
  },
  {
   "cell_type": "code",
   "execution_count": 5,
   "id": "popular-active",
   "metadata": {
    "execution": {
     "iopub.execute_input": "2021-11-05T03:00:10.549832Z",
     "iopub.status.busy": "2021-11-05T03:00:10.535380Z",
     "iopub.status.idle": "2021-11-05T03:00:10.570512Z",
     "shell.execute_reply": "2021-11-05T03:00:10.568870Z"
    },
    "papermill": {
     "duration": 0.077192,
     "end_time": "2021-11-05T03:00:10.570947",
     "exception": false,
     "start_time": "2021-11-05T03:00:10.493755",
     "status": "completed"
    },
    "tags": []
   },
   "outputs": [],
   "source": [
    "df_pivot = df.pivot_table(index=\"PRODUCT\", columns = \"RECORD_TIME\", values = \"LISTING_COUNT\")"
   ]
  },
  {
   "cell_type": "code",
   "execution_count": 6,
   "id": "union-huntington",
   "metadata": {
    "execution": {
     "iopub.execute_input": "2021-11-05T03:00:10.635058Z",
     "iopub.status.busy": "2021-11-05T03:00:10.632801Z",
     "iopub.status.idle": "2021-11-05T03:00:10.638634Z",
     "shell.execute_reply": "2021-11-05T03:00:10.639958Z"
    },
    "papermill": {
     "duration": 0.048325,
     "end_time": "2021-11-05T03:00:10.640423",
     "exception": false,
     "start_time": "2021-11-05T03:00:10.592098",
     "status": "completed"
    },
    "tags": []
   },
   "outputs": [],
   "source": [
    "df_pivot.columns = [\"stamp_1\", \"stamp_2\"]\n",
    "df_pivot_diff = df_pivot.diff(axis=1)"
   ]
  },
  {
   "cell_type": "code",
   "execution_count": 7,
   "id": "fifth-motion",
   "metadata": {
    "execution": {
     "iopub.execute_input": "2021-11-05T03:00:10.700353Z",
     "iopub.status.busy": "2021-11-05T03:00:10.697744Z",
     "iopub.status.idle": "2021-11-05T03:00:12.531985Z",
     "shell.execute_reply": "2021-11-05T03:00:12.533459Z"
    },
    "papermill": {
     "duration": 1.872145,
     "end_time": "2021-11-05T03:00:12.533957",
     "exception": false,
     "start_time": "2021-11-05T03:00:10.661812",
     "status": "completed"
    },
    "tags": []
   },
   "outputs": [
    {
     "data": {
      "text/plain": [
       "<AxesSubplot:ylabel='PRODUCT'>"
      ]
     },
     "execution_count": 7,
     "metadata": {},
     "output_type": "execute_result"
    },
    {
     "data": {
      "image/png": "[encoded data removed]",
      "text/plain": [
       "<Figure size 432x288 with 1 Axes>"
      ]
     },
     "metadata": {
      "needs_background": "light"
     },
     "output_type": "display_data"
    }
   ],
   "source": [
    "df_pivot_diff.sort_values(\"stamp_2\", ascending = False)[\"stamp_2\"].head(10).plot.barh()"
   ]
  },
  {
   "cell_type": "code",
   "execution_count": null,
   "id": "extra-executive",
   "metadata": {
    "papermill": {
     "duration": 0.024682,
     "end_time": "2021-11-05T03:00:12.584060",
     "exception": false,
     "start_time": "2021-11-05T03:00:12.559378",
     "status": "completed"
    },
    "tags": []
   },
   "outputs": [],
   "source": []
  }
 ],
 "metadata": {
  "kernelspec": {
   "display_name": "Python 3",
   "language": "python",
   "name": "python3"
  },
  "language_info": {
   "codemirror_mode": {
    "name": "ipython",
    "version": 3
   },
   "file_extension": ".py",
   "mimetype": "text/x-python",
   "name": "python",
   "nbconvert_exporter": "python",
   "pygments_lexer": "ipython3",
   "version": "3.9.5"
  },
  "papermill": {
   "default_parameters": {},
   "duration": 8.767753,
   "end_time": "2021-11-05T03:00:13.444182",
   "environment_variables": {},
   "exception": null,
   "input_path": "eBay_Overview.ipynb",
   "output_path": "eBay_Overview.ipynb",
   "parameters": {},
   "start_time": "2021-11-05T03:00:04.676429",
   "version": "2.3.3"
  }
 },
 "nbformat": 4,
 "nbformat_minor": 5
}