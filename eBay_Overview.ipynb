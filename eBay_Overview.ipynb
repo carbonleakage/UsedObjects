{
 "cells": [
  {
   "cell_type": "code",
   "execution_count": 1,
   "id": "reverse-picking",
   "metadata": {
    "execution": {
     "iopub.execute_input": "2021-10-01T16:00:07.210263Z",
     "iopub.status.busy": "2021-10-01T16:00:07.208265Z",
     "iopub.status.idle": "2021-10-01T16:00:08.011804Z",
     "shell.execute_reply": "2021-10-01T16:00:08.013067Z"
    },
    "papermill": {
     "duration": 0.854755,
     "end_time": "2021-10-01T16:00:08.013683",
     "exception": false,
     "start_time": "2021-10-01T16:00:07.158928",
     "status": "completed"
    },
    "tags": []
   },
   "outputs": [],
   "source": [
    "import pandas as pd\n",
    "import sqlite3"
   ]
  },
  {
   "cell_type": "code",
   "execution_count": 2,
   "id": "innovative-syndrome",
   "metadata": {
    "execution": {
     "iopub.execute_input": "2021-10-01T16:00:08.065403Z",
     "iopub.status.busy": "2021-10-01T16:00:08.063529Z",
     "iopub.status.idle": "2021-10-01T16:00:08.493476Z",
     "shell.execute_reply": "2021-10-01T16:00:08.494668Z"
    },
    "papermill": {
     "duration": 0.459755,
     "end_time": "2021-10-01T16:00:08.495128",
     "exception": false,
     "start_time": "2021-10-01T16:00:08.035373",
     "status": "completed"
    },
    "tags": []
   },
   "outputs": [],
   "source": [
    "timestamps = pd.read_sql(\"select distinct record_time from EBAY_TOP_BERLIN order by record_time desc limit 2\", sqlite3.connect(\"UsedObjects.db\"))"
   ]
  },
  {
   "cell_type": "code",
   "execution_count": 3,
   "id": "periodic-identification",
   "metadata": {
    "execution": {
     "iopub.execute_input": "2021-10-01T16:00:08.562149Z",
     "iopub.status.busy": "2021-10-01T16:00:08.560102Z",
     "iopub.status.idle": "2021-10-01T16:00:08.580181Z",
     "shell.execute_reply": "2021-10-01T16:00:08.581305Z"
    },
    "papermill": {
     "duration": 0.064652,
     "end_time": "2021-10-01T16:00:08.581719",
     "exception": false,
     "start_time": "2021-10-01T16:00:08.517067",
     "status": "completed"
    },
    "tags": []
   },
   "outputs": [
    {
     "data": {
      "text/html": [
       "<div>\n",
       "<style scoped>\n",
       "    .dataframe tbody tr th:only-of-type {\n",
       "        vertical-align: middle;\n",
       "    }\n",
       "\n",
       "    .dataframe tbody tr th {\n",
       "        vertical-align: top;\n",
       "    }\n",
       "\n",
       "    .dataframe thead th {\n",
       "        text-align: right;\n",
       "    }\n",
       "</style>\n",
       "<table border=\"1\" class=\"dataframe\">\n",
       "  <thead>\n",
       "    <tr style=\"text-align: right;\">\n",
       "      <th></th>\n",
       "      <th>RECORD_TIME</th>\n",
       "    </tr>\n",
       "  </thead>\n",
       "  <tbody>\n",
       "    <tr>\n",
       "      <th>0</th>\n",
       "      <td>2021-10-01 18:00</td>\n",
       "    </tr>\n",
       "    <tr>\n",
       "      <th>1</th>\n",
       "      <td>2021-10-01 17:30</td>\n",
       "    </tr>\n",
       "  </tbody>\n",
       "</table>\n",
       "</div>"
      ],
      "text/plain": [
       "        RECORD_TIME\n",
       "0  2021-10-01 18:00\n",
       "1  2021-10-01 17:30"
      ]
     },
     "execution_count": 3,
     "metadata": {},
     "output_type": "execute_result"
    }
   ],
   "source": [
    "timestamps"
   ]
  },
  {
   "cell_type": "code",
   "execution_count": 4,
   "id": "alternate-victory",
   "metadata": {
    "execution": {
     "iopub.execute_input": "2021-10-01T16:00:08.635731Z",
     "iopub.status.busy": "2021-10-01T16:00:08.633367Z",
     "iopub.status.idle": "2021-10-01T16:00:09.283987Z",
     "shell.execute_reply": "2021-10-01T16:00:09.282523Z"
    },
    "papermill": {
     "duration": 0.679857,
     "end_time": "2021-10-01T16:00:09.284348",
     "exception": false,
     "start_time": "2021-10-01T16:00:08.604491",
     "status": "completed"
    },
    "tags": []
   },
   "outputs": [],
   "source": [
    "df = pd.read_sql(\"select * from EBAY_TOP_BERLIN where record_time in (select distinct record_time from EBAY_TOP_BERLIN order by record_time desc limit 2)\", sqlite3.connect(\"UsedObjects.db\"))"
   ]
  },
  {
   "cell_type": "code",
   "execution_count": 5,
   "id": "popular-active",
   "metadata": {
    "execution": {
     "iopub.execute_input": "2021-10-01T16:00:09.364023Z",
     "iopub.status.busy": "2021-10-01T16:00:09.352404Z",
     "iopub.status.idle": "2021-10-01T16:00:09.379852Z",
     "shell.execute_reply": "2021-10-01T16:00:09.381088Z"
    },
    "papermill": {
     "duration": 0.071011,
     "end_time": "2021-10-01T16:00:09.381487",
     "exception": false,
     "start_time": "2021-10-01T16:00:09.310476",
     "status": "completed"
    },
    "tags": []
   },
   "outputs": [],
   "source": [
    "df_pivot = df.pivot_table(index=\"PRODUCT\", columns = \"RECORD_TIME\", values = \"LISTING_COUNT\")"
   ]
  },
  {
   "cell_type": "code",
   "execution_count": 6,
   "id": "union-huntington",
   "metadata": {
    "execution": {
     "iopub.execute_input": "2021-10-01T16:00:09.441247Z",
     "iopub.status.busy": "2021-10-01T16:00:09.438733Z",
     "iopub.status.idle": "2021-10-01T16:00:09.444614Z",
     "shell.execute_reply": "2021-10-01T16:00:09.445911Z"
    },
    "papermill": {
     "duration": 0.04248,
     "end_time": "2021-10-01T16:00:09.446322",
     "exception": false,
     "start_time": "2021-10-01T16:00:09.403842",
     "status": "completed"
    },
    "tags": []
   },
   "outputs": [],
   "source": [
    "df_pivot.columns = [\"stamp_1\", \"stamp_2\"]\n",
    "df_pivot_diff = df_pivot.diff(axis=1)"
   ]
  },
  {
   "cell_type": "code",
   "execution_count": 7,
   "id": "fifth-motion",
   "metadata": {
    "execution": {
     "iopub.execute_input": "2021-10-01T16:00:09.501511Z",
     "iopub.status.busy": "2021-10-01T16:00:09.499122Z",
     "iopub.status.idle": "2021-10-01T16:00:11.000750Z",
     "shell.execute_reply": "2021-10-01T16:00:11.001957Z"
    },
    "papermill": {
     "duration": 1.534515,
     "end_time": "2021-10-01T16:00:11.002389",
     "exception": false,
     "start_time": "2021-10-01T16:00:09.467874",
     "status": "completed"
    },
    "tags": []
   },
   "outputs": [
    {
     "data": {
      "text/plain": [
       "<AxesSubplot:ylabel='PRODUCT'>"
      ]
     },
     "execution_count": 7,
     "metadata": {},
     "output_type": "execute_result"
    },
    {
     "data": {
      "image/png": "[encoded data removed]",
      "text/plain": [
       "<Figure size 432x288 with 1 Axes>"
      ]
     },
     "metadata": {
      "needs_background": "light"
     },
     "output_type": "display_data"
    }
   ],
   "source": [
    "df_pivot_diff.sort_values(\"stamp_2\", ascending = False)[\"stamp_2\"].head(10).plot.barh()"
   ]
  },
  {
   "cell_type": "code",
   "execution_count": null,
   "id": "extra-executive",
   "metadata": {
    "papermill": {
     "duration": 0.022487,
     "end_time": "2021-10-01T16:00:11.049093",
     "exception": false,
     "start_time": "2021-10-01T16:00:11.026606",
     "status": "completed"
    },
    "tags": []
   },
   "outputs": [],
   "source": []
  }
 ],
 "metadata": {
  "kernelspec": {
   "display_name": "Python 3",
   "language": "python",
   "name": "python3"
  },
  "language_info": {
   "codemirror_mode": {
    "name": "ipython",
    "version": 3
   },
   "file_extension": ".py",
   "mimetype": "text/x-python",
   "name": "python",
   "nbconvert_exporter": "python",
   "pygments_lexer": "ipython3",
   "version": "3.9.5"
  },
  "papermill": {
   "default_parameters": {},
   "duration": 7.821473,
   "end_time": "2021-10-01T16:00:12.577102",
   "environment_variables": {},
   "exception": null,
   "input_path": "eBay_Overview.ipynb",
   "output_path": "eBay_Overview.ipynb",
   "parameters": {},
   "start_time": "2021-10-01T16:00:04.755629",
   "version": "2.3.3"
  }
 },
 "nbformat": 4,
 "nbformat_minor": 5
}