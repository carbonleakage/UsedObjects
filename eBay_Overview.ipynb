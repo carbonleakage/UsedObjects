{
 "cells": [
  {
   "cell_type": "code",
   "execution_count": 1,
   "id": "reverse-picking",
   "metadata": {
    "execution": {
     "iopub.execute_input": "2021-09-18T15:00:07.544365Z",
     "iopub.status.busy": "2021-09-18T15:00:07.542363Z",
     "iopub.status.idle": "2021-09-18T15:00:08.343763Z",
     "shell.execute_reply": "2021-09-18T15:00:08.345225Z"
    },
    "papermill": {
     "duration": 0.853465,
     "end_time": "2021-09-18T15:00:08.345895",
     "exception": false,
     "start_time": "2021-09-18T15:00:07.492430",
     "status": "completed"
    },
    "tags": []
   },
   "outputs": [],
   "source": [
    "import pandas as pd\n",
    "import sqlite3"
   ]
  },
  {
   "cell_type": "code",
   "execution_count": 2,
   "id": "innovative-syndrome",
   "metadata": {
    "execution": {
     "iopub.execute_input": "2021-09-18T15:00:08.396371Z",
     "iopub.status.busy": "2021-09-18T15:00:08.394011Z",
     "iopub.status.idle": "2021-09-18T15:00:08.707664Z",
     "shell.execute_reply": "2021-09-18T15:00:08.708882Z"
    },
    "papermill": {
     "duration": 0.343326,
     "end_time": "2021-09-18T15:00:08.709274",
     "exception": false,
     "start_time": "2021-09-18T15:00:08.365948",
     "status": "completed"
    },
    "tags": []
   },
   "outputs": [],
   "source": [
    "timestamps = pd.read_sql(\"select distinct record_time from EBAY_TOP_BERLIN order by record_time desc limit 2\", sqlite3.connect(\"UsedObjects.db\"))"
   ]
  },
  {
   "cell_type": "code",
   "execution_count": 3,
   "id": "periodic-identification",
   "metadata": {
    "execution": {
     "iopub.execute_input": "2021-09-18T15:00:08.773399Z",
     "iopub.status.busy": "2021-09-18T15:00:08.771388Z",
     "iopub.status.idle": "2021-09-18T15:00:08.791039Z",
     "shell.execute_reply": "2021-09-18T15:00:08.792407Z"
    },
    "papermill": {
     "duration": 0.064501,
     "end_time": "2021-09-18T15:00:08.792812",
     "exception": false,
     "start_time": "2021-09-18T15:00:08.728311",
     "status": "completed"
    },
    "tags": []
   },
   "outputs": [
    {
     "data": {
      "text/html": [
       "<div>\n",
       "<style scoped>\n",
       "    .dataframe tbody tr th:only-of-type {\n",
       "        vertical-align: middle;\n",
       "    }\n",
       "\n",
       "    .dataframe tbody tr th {\n",
       "        vertical-align: top;\n",
       "    }\n",
       "\n",
       "    .dataframe thead th {\n",
       "        text-align: right;\n",
       "    }\n",
       "</style>\n",
       "<table border=\"1\" class=\"dataframe\">\n",
       "  <thead>\n",
       "    <tr style=\"text-align: right;\">\n",
       "      <th></th>\n",
       "      <th>RECORD_TIME</th>\n",
       "    </tr>\n",
       "  </thead>\n",
       "  <tbody>\n",
       "    <tr>\n",
       "      <th>0</th>\n",
       "      <td>2021-09-18 17:00</td>\n",
       "    </tr>\n",
       "    <tr>\n",
       "      <th>1</th>\n",
       "      <td>2021-09-18 16:30</td>\n",
       "    </tr>\n",
       "  </tbody>\n",
       "</table>\n",
       "</div>"
      ],
      "text/plain": [
       "        RECORD_TIME\n",
       "0  2021-09-18 17:00\n",
       "1  2021-09-18 16:30"
      ]
     },
     "execution_count": 3,
     "metadata": {},
     "output_type": "execute_result"
    }
   ],
   "source": [
    "timestamps"
   ]
  },
  {
   "cell_type": "code",
   "execution_count": 4,
   "id": "alternate-victory",
   "metadata": {
    "execution": {
     "iopub.execute_input": "2021-09-18T15:00:08.844647Z",
     "iopub.status.busy": "2021-09-18T15:00:08.842421Z",
     "iopub.status.idle": "2021-09-18T15:00:09.309168Z",
     "shell.execute_reply": "2021-09-18T15:00:09.310385Z"
    },
    "papermill": {
     "duration": 0.496296,
     "end_time": "2021-09-18T15:00:09.310777",
     "exception": false,
     "start_time": "2021-09-18T15:00:08.814481",
     "status": "completed"
    },
    "tags": []
   },
   "outputs": [],
   "source": [
    "df = pd.read_sql(\"select * from EBAY_TOP_BERLIN where record_time in (select distinct record_time from EBAY_TOP_BERLIN order by record_time desc limit 2)\", sqlite3.connect(\"UsedObjects.db\"))"
   ]
  },
  {
   "cell_type": "code",
   "execution_count": 5,
   "id": "popular-active",
   "metadata": {
    "execution": {
     "iopub.execute_input": "2021-09-18T15:00:09.388434Z",
     "iopub.status.busy": "2021-09-18T15:00:09.377357Z",
     "iopub.status.idle": "2021-09-18T15:00:09.405284Z",
     "shell.execute_reply": "2021-09-18T15:00:09.406568Z"
    },
    "papermill": {
     "duration": 0.070548,
     "end_time": "2021-09-18T15:00:09.407038",
     "exception": false,
     "start_time": "2021-09-18T15:00:09.336490",
     "status": "completed"
    },
    "tags": []
   },
   "outputs": [],
   "source": [
    "df_pivot = df.pivot_table(index=\"PRODUCT\", columns = \"RECORD_TIME\", values = \"LISTING_COUNT\")"
   ]
  },
  {
   "cell_type": "code",
   "execution_count": 6,
   "id": "union-huntington",
   "metadata": {
    "execution": {
     "iopub.execute_input": "2021-09-18T15:00:09.463661Z",
     "iopub.status.busy": "2021-09-18T15:00:09.461544Z",
     "iopub.status.idle": "2021-09-18T15:00:09.466586Z",
     "shell.execute_reply": "2021-09-18T15:00:09.468084Z"
    },
    "papermill": {
     "duration": 0.039986,
     "end_time": "2021-09-18T15:00:09.468532",
     "exception": false,
     "start_time": "2021-09-18T15:00:09.428546",
     "status": "completed"
    },
    "tags": []
   },
   "outputs": [],
   "source": [
    "df_pivot.columns = [\"stamp_1\", \"stamp_2\"]\n",
    "df_pivot_diff = df_pivot.diff(axis=1)"
   ]
  },
  {
   "cell_type": "code",
   "execution_count": 7,
   "id": "fifth-motion",
   "metadata": {
    "execution": {
     "iopub.execute_input": "2021-09-18T15:00:09.522907Z",
     "iopub.status.busy": "2021-09-18T15:00:09.520491Z",
     "iopub.status.idle": "2021-09-18T15:00:11.030342Z",
     "shell.execute_reply": "2021-09-18T15:00:11.031784Z"
    },
    "papermill": {
     "duration": 1.542582,
     "end_time": "2021-09-18T15:00:11.032232",
     "exception": false,
     "start_time": "2021-09-18T15:00:09.489650",
     "status": "completed"
    },
    "tags": []
   },
   "outputs": [
    {
     "data": {
      "text/plain": [
       "<AxesSubplot:ylabel='PRODUCT'>"
      ]
     },
     "execution_count": 7,
     "metadata": {},
     "output_type": "execute_result"
    },
    {
     "data": {
      "image/png": "[encoded data removed]",
      "text/plain": [
       "<Figure size 432x288 with 1 Axes>"
      ]
     },
     "metadata": {
      "needs_background": "light"
     },
     "output_type": "display_data"
    }
   ],
   "source": [
    "df_pivot_diff.sort_values(\"stamp_2\", ascending = False)[\"stamp_2\"].head(10).plot.barh()"
   ]
  },
  {
   "cell_type": "code",
   "execution_count": null,
   "id": "extra-executive",
   "metadata": {
    "papermill": {
     "duration": 0.021863,
     "end_time": "2021-09-18T15:00:11.077660",
     "exception": false,
     "start_time": "2021-09-18T15:00:11.055797",
     "status": "completed"
    },
    "tags": []
   },
   "outputs": [],
   "source": []
  }
 ],
 "metadata": {
  "kernelspec": {
   "display_name": "Python 3",
   "language": "python",
   "name": "python3"
  },
  "language_info": {
   "codemirror_mode": {
    "name": "ipython",
    "version": 3
   },
   "file_extension": ".py",
   "mimetype": "text/x-python",
   "name": "python",
   "nbconvert_exporter": "python",
   "pygments_lexer": "ipython3",
   "version": "3.9.5"
  },
  "papermill": {
   "default_parameters": {},
   "duration": 6.623072,
   "end_time": "2021-09-18T15:00:11.717584",
   "environment_variables": {},
   "exception": null,
   "input_path": "eBay_Overview.ipynb",
   "output_path": "eBay_Overview.ipynb",
   "parameters": {},
   "start_time": "2021-09-18T15:00:05.094512",
   "version": "2.3.3"
  }
 },
 "nbformat": 4,
 "nbformat_minor": 5
}