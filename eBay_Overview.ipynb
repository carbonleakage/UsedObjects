{
 "cells": [
  {
   "cell_type": "code",
   "execution_count": 1,
   "id": "reverse-picking",
   "metadata": {
    "execution": {
     "iopub.execute_input": "2021-12-16T13:00:08.439023Z",
     "iopub.status.busy": "2021-12-16T13:00:08.436368Z",
     "iopub.status.idle": "2021-12-16T13:00:09.409348Z",
     "shell.execute_reply": "2021-12-16T13:00:09.410895Z"
    },
    "papermill": {
     "duration": 1.023395,
     "end_time": "2021-12-16T13:00:09.411614",
     "exception": false,
     "start_time": "2021-12-16T13:00:08.388219",
     "status": "completed"
    },
    "tags": []
   },
   "outputs": [],
   "source": [
    "import pandas as pd\n",
    "import sqlite3"
   ]
  },
  {
   "cell_type": "code",
   "execution_count": 2,
   "id": "innovative-syndrome",
   "metadata": {
    "execution": {
     "iopub.execute_input": "2021-12-16T13:00:09.474073Z",
     "iopub.status.busy": "2021-12-16T13:00:09.471588Z",
     "iopub.status.idle": "2021-12-16T13:00:10.570262Z",
     "shell.execute_reply": "2021-12-16T13:00:10.571878Z"
    },
    "papermill": {
     "duration": 1.133519,
     "end_time": "2021-12-16T13:00:10.572384",
     "exception": false,
     "start_time": "2021-12-16T13:00:09.438865",
     "status": "completed"
    },
    "tags": []
   },
   "outputs": [],
   "source": [
    "timestamps = pd.read_sql(\"select distinct record_time from EBAY_TOP_BERLIN order by record_time desc limit 2\", sqlite3.connect(\"UsedObjects.db\"))"
   ]
  },
  {
   "cell_type": "code",
   "execution_count": 3,
   "id": "periodic-identification",
   "metadata": {
    "execution": {
     "iopub.execute_input": "2021-12-16T13:00:10.643958Z",
     "iopub.status.busy": "2021-12-16T13:00:10.641667Z",
     "iopub.status.idle": "2021-12-16T13:00:10.664841Z",
     "shell.execute_reply": "2021-12-16T13:00:10.666377Z"
    },
    "papermill": {
     "duration": 0.073964,
     "end_time": "2021-12-16T13:00:10.666903",
     "exception": false,
     "start_time": "2021-12-16T13:00:10.592939",
     "status": "completed"
    },
    "tags": []
   },
   "outputs": [
    {
     "data": {
      "text/html": [
       "<div>\n",
       "<style scoped>\n",
       "    .dataframe tbody tr th:only-of-type {\n",
       "        vertical-align: middle;\n",
       "    }\n",
       "\n",
       "    .dataframe tbody tr th {\n",
       "        vertical-align: top;\n",
       "    }\n",
       "\n",
       "    .dataframe thead th {\n",
       "        text-align: right;\n",
       "    }\n",
       "</style>\n",
       "<table border=\"1\" class=\"dataframe\">\n",
       "  <thead>\n",
       "    <tr style=\"text-align: right;\">\n",
       "      <th></th>\n",
       "      <th>RECORD_TIME</th>\n",
       "    </tr>\n",
       "  </thead>\n",
       "  <tbody>\n",
       "    <tr>\n",
       "      <th>0</th>\n",
       "      <td>2021-12-16 14:00</td>\n",
       "    </tr>\n",
       "    <tr>\n",
       "      <th>1</th>\n",
       "      <td>2021-12-16 13:30</td>\n",
       "    </tr>\n",
       "  </tbody>\n",
       "</table>\n",
       "</div>"
      ],
      "text/plain": [
       "        RECORD_TIME\n",
       "0  2021-12-16 14:00\n",
       "1  2021-12-16 13:30"
      ]
     },
     "execution_count": 3,
     "metadata": {},
     "output_type": "execute_result"
    }
   ],
   "source": [
    "timestamps"
   ]
  },
  {
   "cell_type": "code",
   "execution_count": 4,
   "id": "alternate-victory",
   "metadata": {
    "execution": {
     "iopub.execute_input": "2021-12-16T13:00:10.724493Z",
     "iopub.status.busy": "2021-12-16T13:00:10.720983Z",
     "iopub.status.idle": "2021-12-16T13:00:12.328861Z",
     "shell.execute_reply": "2021-12-16T13:00:12.330921Z"
    },
    "papermill": {
     "duration": 1.64313,
     "end_time": "2021-12-16T13:00:12.331393",
     "exception": false,
     "start_time": "2021-12-16T13:00:10.688263",
     "status": "completed"
    },
    "tags": []
   },
   "outputs": [],
   "source": [
    "df = pd.read_sql(\"select * from EBAY_TOP_BERLIN where record_time in (select distinct record_time from EBAY_TOP_BERLIN order by record_time desc limit 2)\", sqlite3.connect(\"UsedObjects.db\"))"
   ]
  },
  {
   "cell_type": "code",
   "execution_count": 5,
   "id": "popular-active",
   "metadata": {
    "execution": {
     "iopub.execute_input": "2021-12-16T13:00:12.400175Z",
     "iopub.status.busy": "2021-12-16T13:00:12.391996Z",
     "iopub.status.idle": "2021-12-16T13:00:12.423459Z",
     "shell.execute_reply": "2021-12-16T13:00:12.424942Z"
    },
    "papermill": {
     "duration": 0.073502,
     "end_time": "2021-12-16T13:00:12.425415",
     "exception": false,
     "start_time": "2021-12-16T13:00:12.351913",
     "status": "completed"
    },
    "tags": []
   },
   "outputs": [],
   "source": [
    "df_pivot = df.pivot_table(index=\"PRODUCT\", columns = \"RECORD_TIME\", values = \"LISTING_COUNT\")"
   ]
  },
  {
   "cell_type": "code",
   "execution_count": 6,
   "id": "union-huntington",
   "metadata": {
    "execution": {
     "iopub.execute_input": "2021-12-16T13:00:12.486838Z",
     "iopub.status.busy": "2021-12-16T13:00:12.484412Z",
     "iopub.status.idle": "2021-12-16T13:00:12.493254Z",
     "shell.execute_reply": "2021-12-16T13:00:12.494842Z"
    },
    "papermill": {
     "duration": 0.049012,
     "end_time": "2021-12-16T13:00:12.495331",
     "exception": false,
     "start_time": "2021-12-16T13:00:12.446319",
     "status": "completed"
    },
    "tags": []
   },
   "outputs": [],
   "source": [
    "df_pivot.columns = [\"stamp_1\", \"stamp_2\"]\n",
    "df_pivot_diff = df_pivot.diff(axis=1)"
   ]
  },
  {
   "cell_type": "code",
   "execution_count": 7,
   "id": "fifth-motion",
   "metadata": {
    "execution": {
     "iopub.execute_input": "2021-12-16T13:00:12.553776Z",
     "iopub.status.busy": "2021-12-16T13:00:12.551362Z",
     "iopub.status.idle": "2021-12-16T13:00:14.491945Z",
     "shell.execute_reply": "2021-12-16T13:00:14.493627Z"
    },
    "papermill": {
     "duration": 1.977343,
     "end_time": "2021-12-16T13:00:14.494115",
     "exception": false,
     "start_time": "2021-12-16T13:00:12.516772",
     "status": "completed"
    },
    "tags": []
   },
   "outputs": [
    {
     "data": {
      "text/plain": [
       "<AxesSubplot:ylabel='PRODUCT'>"
      ]
     },
     "execution_count": 7,
     "metadata": {},
     "output_type": "execute_result"
    },
    {
     "data": {
      "image/png": "[encoded data removed]",
      "text/plain": [
       "<Figure size 432x288 with 1 Axes>"
      ]
     },
     "metadata": {
      "needs_background": "light"
     },
     "output_type": "display_data"
    }
   ],
   "source": [
    "df_pivot_diff.sort_values(\"stamp_2\", ascending = False)[\"stamp_2\"].head(10).plot.barh()"
   ]
  },
  {
   "cell_type": "code",
   "execution_count": null,
   "id": "extra-executive",
   "metadata": {
    "papermill": {
     "duration": 0.022225,
     "end_time": "2021-12-16T13:00:14.540911",
     "exception": false,
     "start_time": "2021-12-16T13:00:14.518686",
     "status": "completed"
    },
    "tags": []
   },
   "outputs": [],
   "source": []
  }
 ],
 "metadata": {
  "kernelspec": {
   "display_name": "Python 3",
   "language": "python",
   "name": "python3"
  },
  "language_info": {
   "codemirror_mode": {
    "name": "ipython",
    "version": 3
   },
   "file_extension": ".py",
   "mimetype": "text/x-python",
   "name": "python",
   "nbconvert_exporter": "python",
   "pygments_lexer": "ipython3",
   "version": "3.9.5"
  },
  "papermill": {
   "default_parameters": {},
   "duration": 9.549385,
   "end_time": "2021-12-16T13:00:15.183502",
   "environment_variables": {},
   "exception": null,
   "input_path": "eBay_Overview.ipynb",
   "output_path": "eBay_Overview.ipynb",
   "parameters": {},
   "start_time": "2021-12-16T13:00:05.634117",
   "version": "2.3.3"
  }
 },
 "nbformat": 4,
 "nbformat_minor": 5
}