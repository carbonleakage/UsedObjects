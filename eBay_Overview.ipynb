{
 "cells": [
  {
   "cell_type": "code",
   "execution_count": 1,
   "id": "reverse-picking",
   "metadata": {
    "execution": {
     "iopub.execute_input": "2021-12-17T09:00:07.287243Z",
     "iopub.status.busy": "2021-12-17T09:00:07.284945Z",
     "iopub.status.idle": "2021-12-17T09:00:08.237557Z",
     "shell.execute_reply": "2021-12-17T09:00:08.239175Z"
    },
    "papermill": {
     "duration": 1.002143,
     "end_time": "2021-12-17T09:00:08.240050",
     "exception": false,
     "start_time": "2021-12-17T09:00:07.237907",
     "status": "completed"
    },
    "tags": []
   },
   "outputs": [],
   "source": [
    "import pandas as pd\n",
    "import sqlite3"
   ]
  },
  {
   "cell_type": "code",
   "execution_count": 2,
   "id": "innovative-syndrome",
   "metadata": {
    "execution": {
     "iopub.execute_input": "2021-12-17T09:00:08.301459Z",
     "iopub.status.busy": "2021-12-17T09:00:08.299087Z",
     "iopub.status.idle": "2021-12-17T09:00:09.437340Z",
     "shell.execute_reply": "2021-12-17T09:00:09.439463Z"
    },
    "papermill": {
     "duration": 1.172418,
     "end_time": "2021-12-17T09:00:09.439932",
     "exception": false,
     "start_time": "2021-12-17T09:00:08.267514",
     "status": "completed"
    },
    "tags": []
   },
   "outputs": [],
   "source": [
    "timestamps = pd.read_sql(\"select distinct record_time from EBAY_TOP_BERLIN order by record_time desc limit 2\", sqlite3.connect(\"UsedObjects.db\"))"
   ]
  },
  {
   "cell_type": "code",
   "execution_count": 3,
   "id": "periodic-identification",
   "metadata": {
    "execution": {
     "iopub.execute_input": "2021-12-17T09:00:09.513981Z",
     "iopub.status.busy": "2021-12-17T09:00:09.507966Z",
     "iopub.status.idle": "2021-12-17T09:00:09.539576Z",
     "shell.execute_reply": "2021-12-17T09:00:09.541123Z"
    },
    "papermill": {
     "duration": 0.081362,
     "end_time": "2021-12-17T09:00:09.541600",
     "exception": false,
     "start_time": "2021-12-17T09:00:09.460238",
     "status": "completed"
    },
    "tags": []
   },
   "outputs": [
    {
     "data": {
      "text/html": [
       "<div>\n",
       "<style scoped>\n",
       "    .dataframe tbody tr th:only-of-type {\n",
       "        vertical-align: middle;\n",
       "    }\n",
       "\n",
       "    .dataframe tbody tr th {\n",
       "        vertical-align: top;\n",
       "    }\n",
       "\n",
       "    .dataframe thead th {\n",
       "        text-align: right;\n",
       "    }\n",
       "</style>\n",
       "<table border=\"1\" class=\"dataframe\">\n",
       "  <thead>\n",
       "    <tr style=\"text-align: right;\">\n",
       "      <th></th>\n",
       "      <th>RECORD_TIME</th>\n",
       "    </tr>\n",
       "  </thead>\n",
       "  <tbody>\n",
       "    <tr>\n",
       "      <th>0</th>\n",
       "      <td>2021-12-17 10:00</td>\n",
       "    </tr>\n",
       "    <tr>\n",
       "      <th>1</th>\n",
       "      <td>2021-12-17 09:30</td>\n",
       "    </tr>\n",
       "  </tbody>\n",
       "</table>\n",
       "</div>"
      ],
      "text/plain": [
       "        RECORD_TIME\n",
       "0  2021-12-17 10:00\n",
       "1  2021-12-17 09:30"
      ]
     },
     "execution_count": 3,
     "metadata": {},
     "output_type": "execute_result"
    }
   ],
   "source": [
    "timestamps"
   ]
  },
  {
   "cell_type": "code",
   "execution_count": 4,
   "id": "alternate-victory",
   "metadata": {
    "execution": {
     "iopub.execute_input": "2021-12-17T09:00:09.595140Z",
     "iopub.status.busy": "2021-12-17T09:00:09.593311Z",
     "iopub.status.idle": "2021-12-17T09:00:11.194450Z",
     "shell.execute_reply": "2021-12-17T09:00:11.196299Z"
    },
    "papermill": {
     "duration": 1.632032,
     "end_time": "2021-12-17T09:00:11.196867",
     "exception": false,
     "start_time": "2021-12-17T09:00:09.564835",
     "status": "completed"
    },
    "tags": []
   },
   "outputs": [],
   "source": [
    "df = pd.read_sql(\"select * from EBAY_TOP_BERLIN where record_time in (select distinct record_time from EBAY_TOP_BERLIN order by record_time desc limit 2)\", sqlite3.connect(\"UsedObjects.db\"))"
   ]
  },
  {
   "cell_type": "code",
   "execution_count": 5,
   "id": "popular-active",
   "metadata": {
    "execution": {
     "iopub.execute_input": "2021-12-17T09:00:11.262540Z",
     "iopub.status.busy": "2021-12-17T09:00:11.260159Z",
     "iopub.status.idle": "2021-12-17T09:00:11.292429Z",
     "shell.execute_reply": "2021-12-17T09:00:11.290969Z"
    },
    "papermill": {
     "duration": 0.074003,
     "end_time": "2021-12-17T09:00:11.292896",
     "exception": false,
     "start_time": "2021-12-17T09:00:11.218893",
     "status": "completed"
    },
    "tags": []
   },
   "outputs": [],
   "source": [
    "df_pivot = df.pivot_table(index=\"PRODUCT\", columns = \"RECORD_TIME\", values = \"LISTING_COUNT\")"
   ]
  },
  {
   "cell_type": "code",
   "execution_count": 6,
   "id": "union-huntington",
   "metadata": {
    "execution": {
     "iopub.execute_input": "2021-12-17T09:00:11.352566Z",
     "iopub.status.busy": "2021-12-17T09:00:11.350214Z",
     "iopub.status.idle": "2021-12-17T09:00:11.356341Z",
     "shell.execute_reply": "2021-12-17T09:00:11.358125Z"
    },
    "papermill": {
     "duration": 0.045767,
     "end_time": "2021-12-17T09:00:11.358714",
     "exception": false,
     "start_time": "2021-12-17T09:00:11.312947",
     "status": "completed"
    },
    "tags": []
   },
   "outputs": [],
   "source": [
    "df_pivot.columns = [\"stamp_1\", \"stamp_2\"]\n",
    "df_pivot_diff = df_pivot.diff(axis=1)"
   ]
  },
  {
   "cell_type": "code",
   "execution_count": 7,
   "id": "fifth-motion",
   "metadata": {
    "execution": {
     "iopub.execute_input": "2021-12-17T09:00:11.417937Z",
     "iopub.status.busy": "2021-12-17T09:00:11.415443Z",
     "iopub.status.idle": "2021-12-17T09:00:13.000526Z",
     "shell.execute_reply": "2021-12-17T09:00:13.001882Z"
    },
    "papermill": {
     "duration": 1.621244,
     "end_time": "2021-12-17T09:00:13.002303",
     "exception": false,
     "start_time": "2021-12-17T09:00:11.381059",
     "status": "completed"
    },
    "tags": []
   },
   "outputs": [
    {
     "data": {
      "text/plain": [
       "<AxesSubplot:ylabel='PRODUCT'>"
      ]
     },
     "execution_count": 7,
     "metadata": {},
     "output_type": "execute_result"
    },
    {
     "data": {
      "image/png": "[encoded data removed]",
      "text/plain": [
       "<Figure size 432x288 with 1 Axes>"
      ]
     },
     "metadata": {
      "needs_background": "light"
     },
     "output_type": "display_data"
    }
   ],
   "source": [
    "df_pivot_diff.sort_values(\"stamp_2\", ascending = False)[\"stamp_2\"].head(10).plot.barh()"
   ]
  },
  {
   "cell_type": "code",
   "execution_count": null,
   "id": "extra-executive",
   "metadata": {
    "papermill": {
     "duration": 0.022128,
     "end_time": "2021-12-17T09:00:13.049450",
     "exception": false,
     "start_time": "2021-12-17T09:00:13.027322",
     "status": "completed"
    },
    "tags": []
   },
   "outputs": [],
   "source": []
  }
 ],
 "metadata": {
  "kernelspec": {
   "display_name": "Python 3",
   "language": "python",
   "name": "python3"
  },
  "language_info": {
   "codemirror_mode": {
    "name": "ipython",
    "version": 3
   },
   "file_extension": ".py",
   "mimetype": "text/x-python",
   "name": "python",
   "nbconvert_exporter": "python",
   "pygments_lexer": "ipython3",
   "version": "3.9.5"
  },
  "papermill": {
   "default_parameters": {},
   "duration": 9.923679,
   "end_time": "2021-12-17T09:00:14.436562",
   "environment_variables": {},
   "exception": null,
   "input_path": "eBay_Overview.ipynb",
   "output_path": "eBay_Overview.ipynb",
   "parameters": {},
   "start_time": "2021-12-17T09:00:04.512883",
   "version": "2.3.3"
  }
 },
 "nbformat": 4,
 "nbformat_minor": 5
}