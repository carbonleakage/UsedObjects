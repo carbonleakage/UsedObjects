{
 "cells": [
  {
   "cell_type": "code",
   "execution_count": 1,
   "id": "reverse-picking",
   "metadata": {
    "execution": {
     "iopub.execute_input": "2021-11-12T17:30:07.472239Z",
     "iopub.status.busy": "2021-11-12T17:30:07.469892Z",
     "iopub.status.idle": "2021-11-12T17:30:08.382522Z",
     "shell.execute_reply": "2021-11-12T17:30:08.383996Z"
    },
    "papermill": {
     "duration": 0.963165,
     "end_time": "2021-11-12T17:30:08.385003",
     "exception": false,
     "start_time": "2021-11-12T17:30:07.421838",
     "status": "completed"
    },
    "tags": []
   },
   "outputs": [],
   "source": [
    "import pandas as pd\n",
    "import sqlite3"
   ]
  },
  {
   "cell_type": "code",
   "execution_count": 2,
   "id": "innovative-syndrome",
   "metadata": {
    "execution": {
     "iopub.execute_input": "2021-11-12T17:30:08.446048Z",
     "iopub.status.busy": "2021-11-12T17:30:08.443774Z",
     "iopub.status.idle": "2021-11-12T17:30:09.230486Z",
     "shell.execute_reply": "2021-11-12T17:30:09.231823Z"
    },
    "papermill": {
     "duration": 0.819899,
     "end_time": "2021-11-12T17:30:09.232295",
     "exception": false,
     "start_time": "2021-11-12T17:30:08.412396",
     "status": "completed"
    },
    "tags": []
   },
   "outputs": [],
   "source": [
    "timestamps = pd.read_sql(\"select distinct record_time from EBAY_TOP_BERLIN order by record_time desc limit 2\", sqlite3.connect(\"UsedObjects.db\"))"
   ]
  },
  {
   "cell_type": "code",
   "execution_count": 3,
   "id": "periodic-identification",
   "metadata": {
    "execution": {
     "iopub.execute_input": "2021-11-12T17:30:09.302485Z",
     "iopub.status.busy": "2021-11-12T17:30:09.300088Z",
     "iopub.status.idle": "2021-11-12T17:30:09.322527Z",
     "shell.execute_reply": "2021-11-12T17:30:09.323908Z"
    },
    "papermill": {
     "duration": 0.072728,
     "end_time": "2021-11-12T17:30:09.324409",
     "exception": false,
     "start_time": "2021-11-12T17:30:09.251681",
     "status": "completed"
    },
    "tags": []
   },
   "outputs": [
    {
     "data": {
      "text/html": [
       "<div>\n",
       "<style scoped>\n",
       "    .dataframe tbody tr th:only-of-type {\n",
       "        vertical-align: middle;\n",
       "    }\n",
       "\n",
       "    .dataframe tbody tr th {\n",
       "        vertical-align: top;\n",
       "    }\n",
       "\n",
       "    .dataframe thead th {\n",
       "        text-align: right;\n",
       "    }\n",
       "</style>\n",
       "<table border=\"1\" class=\"dataframe\">\n",
       "  <thead>\n",
       "    <tr style=\"text-align: right;\">\n",
       "      <th></th>\n",
       "      <th>RECORD_TIME</th>\n",
       "    </tr>\n",
       "  </thead>\n",
       "  <tbody>\n",
       "    <tr>\n",
       "      <th>0</th>\n",
       "      <td>2021-11-12 18:30</td>\n",
       "    </tr>\n",
       "    <tr>\n",
       "      <th>1</th>\n",
       "      <td>2021-11-12 18:00</td>\n",
       "    </tr>\n",
       "  </tbody>\n",
       "</table>\n",
       "</div>"
      ],
      "text/plain": [
       "        RECORD_TIME\n",
       "0  2021-11-12 18:30\n",
       "1  2021-11-12 18:00"
      ]
     },
     "execution_count": 3,
     "metadata": {},
     "output_type": "execute_result"
    }
   ],
   "source": [
    "timestamps"
   ]
  },
  {
   "cell_type": "code",
   "execution_count": 4,
   "id": "alternate-victory",
   "metadata": {
    "execution": {
     "iopub.execute_input": "2021-11-12T17:30:09.381635Z",
     "iopub.status.busy": "2021-11-12T17:30:09.379398Z",
     "iopub.status.idle": "2021-11-12T17:30:10.534385Z",
     "shell.execute_reply": "2021-11-12T17:30:10.535990Z"
    },
    "papermill": {
     "duration": 1.190514,
     "end_time": "2021-11-12T17:30:10.536524",
     "exception": false,
     "start_time": "2021-11-12T17:30:09.346010",
     "status": "completed"
    },
    "tags": []
   },
   "outputs": [],
   "source": [
    "df = pd.read_sql(\"select * from EBAY_TOP_BERLIN where record_time in (select distinct record_time from EBAY_TOP_BERLIN order by record_time desc limit 2)\", sqlite3.connect(\"UsedObjects.db\"))"
   ]
  },
  {
   "cell_type": "code",
   "execution_count": 5,
   "id": "popular-active",
   "metadata": {
    "execution": {
     "iopub.execute_input": "2021-11-12T17:30:10.610633Z",
     "iopub.status.busy": "2021-11-12T17:30:10.602354Z",
     "iopub.status.idle": "2021-11-12T17:30:10.633668Z",
     "shell.execute_reply": "2021-11-12T17:30:10.635010Z"
    },
    "papermill": {
     "duration": 0.07664,
     "end_time": "2021-11-12T17:30:10.635484",
     "exception": false,
     "start_time": "2021-11-12T17:30:10.558844",
     "status": "completed"
    },
    "tags": []
   },
   "outputs": [],
   "source": [
    "df_pivot = df.pivot_table(index=\"PRODUCT\", columns = \"RECORD_TIME\", values = \"LISTING_COUNT\")"
   ]
  },
  {
   "cell_type": "code",
   "execution_count": 6,
   "id": "union-huntington",
   "metadata": {
    "execution": {
     "iopub.execute_input": "2021-11-12T17:30:10.693458Z",
     "iopub.status.busy": "2021-11-12T17:30:10.691234Z",
     "iopub.status.idle": "2021-11-12T17:30:10.696969Z",
     "shell.execute_reply": "2021-11-12T17:30:10.698417Z"
    },
    "papermill": {
     "duration": 0.043301,
     "end_time": "2021-11-12T17:30:10.698875",
     "exception": false,
     "start_time": "2021-11-12T17:30:10.655574",
     "status": "completed"
    },
    "tags": []
   },
   "outputs": [],
   "source": [
    "df_pivot.columns = [\"stamp_1\", \"stamp_2\"]\n",
    "df_pivot_diff = df_pivot.diff(axis=1)"
   ]
  },
  {
   "cell_type": "code",
   "execution_count": 7,
   "id": "fifth-motion",
   "metadata": {
    "execution": {
     "iopub.execute_input": "2021-11-12T17:30:10.768673Z",
     "iopub.status.busy": "2021-11-12T17:30:10.764992Z",
     "iopub.status.idle": "2021-11-12T17:30:12.505254Z",
     "shell.execute_reply": "2021-11-12T17:30:12.507885Z"
    },
    "papermill": {
     "duration": 1.788254,
     "end_time": "2021-11-12T17:30:12.508814",
     "exception": false,
     "start_time": "2021-11-12T17:30:10.720560",
     "status": "completed"
    },
    "tags": []
   },
   "outputs": [
    {
     "data": {
      "text/plain": [
       "<AxesSubplot:ylabel='PRODUCT'>"
      ]
     },
     "execution_count": 7,
     "metadata": {},
     "output_type": "execute_result"
    },
    {
     "data": {
      "image/png": "[encoded data removed]",
      "text/plain": [
       "<Figure size 432x288 with 1 Axes>"
      ]
     },
     "metadata": {
      "needs_background": "light"
     },
     "output_type": "display_data"
    }
   ],
   "source": [
    "df_pivot_diff.sort_values(\"stamp_2\", ascending = False)[\"stamp_2\"].head(10).plot.barh()"
   ]
  },
  {
   "cell_type": "code",
   "execution_count": null,
   "id": "extra-executive",
   "metadata": {
    "papermill": {
     "duration": 0.037032,
     "end_time": "2021-11-12T17:30:12.581494",
     "exception": false,
     "start_time": "2021-11-12T17:30:12.544462",
     "status": "completed"
    },
    "tags": []
   },
   "outputs": [],
   "source": []
  }
 ],
 "metadata": {
  "kernelspec": {
   "display_name": "Python 3",
   "language": "python",
   "name": "python3"
  },
  "language_info": {
   "codemirror_mode": {
    "name": "ipython",
    "version": 3
   },
   "file_extension": ".py",
   "mimetype": "text/x-python",
   "name": "python",
   "nbconvert_exporter": "python",
   "pygments_lexer": "ipython3",
   "version": "3.9.5"
  },
  "papermill": {
   "default_parameters": {},
   "duration": 8.748553,
   "end_time": "2021-11-12T17:30:13.455164",
   "environment_variables": {},
   "exception": null,
   "input_path": "eBay_Overview.ipynb",
   "output_path": "eBay_Overview.ipynb",
   "parameters": {},
   "start_time": "2021-11-12T17:30:04.706611",
   "version": "2.3.3"
  }
 },
 "nbformat": 4,
 "nbformat_minor": 5
}