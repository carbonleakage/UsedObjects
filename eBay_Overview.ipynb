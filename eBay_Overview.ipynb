{
 "cells": [
  {
   "cell_type": "code",
   "execution_count": 1,
   "id": "reverse-picking",
   "metadata": {
    "execution": {
     "iopub.execute_input": "2021-08-11T06:00:04.495831Z",
     "iopub.status.busy": "2021-08-11T06:00:04.495065Z",
     "iopub.status.idle": "2021-08-11T06:00:05.123569Z",
     "shell.execute_reply": "2021-08-11T06:00:05.122408Z"
    },
    "papermill": {
     "duration": 0.646975,
     "end_time": "2021-08-11T06:00:05.123844",
     "exception": false,
     "start_time": "2021-08-11T06:00:04.476869",
     "status": "completed"
    },
    "tags": []
   },
   "outputs": [],
   "source": [
    "import pandas as pd\n",
    "import sqlite3"
   ]
  },
  {
   "cell_type": "code",
   "execution_count": 2,
   "id": "innovative-syndrome",
   "metadata": {
    "execution": {
     "iopub.execute_input": "2021-08-11T06:00:05.148069Z",
     "iopub.status.busy": "2021-08-11T06:00:05.147308Z",
     "iopub.status.idle": "2021-08-11T06:00:05.432524Z",
     "shell.execute_reply": "2021-08-11T06:00:05.431772Z"
    },
    "papermill": {
     "duration": 0.298204,
     "end_time": "2021-08-11T06:00:05.432687",
     "exception": false,
     "start_time": "2021-08-11T06:00:05.134483",
     "status": "completed"
    },
    "tags": []
   },
   "outputs": [],
   "source": [
    "timestamps = pd.read_sql(\"select distinct record_time from EBAY_TOP_BERLIN order by record_time desc limit 2\", sqlite3.connect(\"UsedObjects.db\"))"
   ]
  },
  {
   "cell_type": "code",
   "execution_count": 3,
   "id": "periodic-identification",
   "metadata": {
    "execution": {
     "iopub.execute_input": "2021-08-11T06:00:05.464594Z",
     "iopub.status.busy": "2021-08-11T06:00:05.463814Z",
     "iopub.status.idle": "2021-08-11T06:00:05.477131Z",
     "shell.execute_reply": "2021-08-11T06:00:05.477659Z"
    },
    "papermill": {
     "duration": 0.035122,
     "end_time": "2021-08-11T06:00:05.477844",
     "exception": false,
     "start_time": "2021-08-11T06:00:05.442722",
     "status": "completed"
    },
    "tags": []
   },
   "outputs": [
    {
     "data": {
      "text/html": [
       "<div>\n",
       "<style scoped>\n",
       "    .dataframe tbody tr th:only-of-type {\n",
       "        vertical-align: middle;\n",
       "    }\n",
       "\n",
       "    .dataframe tbody tr th {\n",
       "        vertical-align: top;\n",
       "    }\n",
       "\n",
       "    .dataframe thead th {\n",
       "        text-align: right;\n",
       "    }\n",
       "</style>\n",
       "<table border=\"1\" class=\"dataframe\">\n",
       "  <thead>\n",
       "    <tr style=\"text-align: right;\">\n",
       "      <th></th>\n",
       "      <th>RECORD_TIME</th>\n",
       "    </tr>\n",
       "  </thead>\n",
       "  <tbody>\n",
       "    <tr>\n",
       "      <th>0</th>\n",
       "      <td>2021-08-11 08:00</td>\n",
       "    </tr>\n",
       "    <tr>\n",
       "      <th>1</th>\n",
       "      <td>2021-08-11 07:30</td>\n",
       "    </tr>\n",
       "  </tbody>\n",
       "</table>\n",
       "</div>"
      ],
      "text/plain": [
       "        RECORD_TIME\n",
       "0  2021-08-11 08:00\n",
       "1  2021-08-11 07:30"
      ]
     },
     "execution_count": 3,
     "metadata": {},
     "output_type": "execute_result"
    }
   ],
   "source": [
    "timestamps"
   ]
  },
  {
   "cell_type": "code",
   "execution_count": 4,
   "id": "alternate-victory",
   "metadata": {
    "execution": {
     "iopub.execute_input": "2021-08-11T06:00:05.500674Z",
     "iopub.status.busy": "2021-08-11T06:00:05.499925Z",
     "iopub.status.idle": "2021-08-11T06:00:05.519531Z",
     "shell.execute_reply": "2021-08-11T06:00:05.518774Z"
    },
    "papermill": {
     "duration": 0.0335,
     "end_time": "2021-08-11T06:00:05.519693",
     "exception": false,
     "start_time": "2021-08-11T06:00:05.486193",
     "status": "completed"
    },
    "tags": []
   },
   "outputs": [],
   "source": [
    "df = pd.read_sql(\"select * from EBAY_TOP_BERLIN where record_time in (select distinct record_time from EBAY_TOP_BERLIN order by record_time desc limit 2)\", sqlite3.connect(\"UsedObjects.db\"))"
   ]
  },
  {
   "cell_type": "code",
   "execution_count": 5,
   "id": "popular-active",
   "metadata": {
    "execution": {
     "iopub.execute_input": "2021-08-11T06:00:05.543190Z",
     "iopub.status.busy": "2021-08-11T06:00:05.542437Z",
     "iopub.status.idle": "2021-08-11T06:00:05.560950Z",
     "shell.execute_reply": "2021-08-11T06:00:05.560201Z"
    },
    "papermill": {
     "duration": 0.033092,
     "end_time": "2021-08-11T06:00:05.561112",
     "exception": false,
     "start_time": "2021-08-11T06:00:05.528020",
     "status": "completed"
    },
    "tags": []
   },
   "outputs": [],
   "source": [
    "df_pivot = df.pivot_table(index=\"PRODUCT\", columns = \"RECORD_TIME\", values = \"LISTING_COUNT\")"
   ]
  },
  {
   "cell_type": "code",
   "execution_count": 6,
   "id": "union-huntington",
   "metadata": {
    "execution": {
     "iopub.execute_input": "2021-08-11T06:00:05.586852Z",
     "iopub.status.busy": "2021-08-11T06:00:05.586149Z",
     "iopub.status.idle": "2021-08-11T06:00:05.593402Z",
     "shell.execute_reply": "2021-08-11T06:00:05.593968Z"
    },
    "papermill": {
     "duration": 0.024302,
     "end_time": "2021-08-11T06:00:05.594167",
     "exception": false,
     "start_time": "2021-08-11T06:00:05.569865",
     "status": "completed"
    },
    "tags": []
   },
   "outputs": [],
   "source": [
    "df_pivot.columns = [\"stamp_1\", \"stamp_2\"]\n",
    "df_pivot_diff = df_pivot.diff(axis=1)"
   ]
  },
  {
   "cell_type": "code",
   "execution_count": 7,
   "id": "fifth-motion",
   "metadata": {
    "execution": {
     "iopub.execute_input": "2021-08-11T06:00:05.629843Z",
     "iopub.status.busy": "2021-08-11T06:00:05.627491Z",
     "iopub.status.idle": "2021-08-11T06:00:06.316872Z",
     "shell.execute_reply": "2021-08-11T06:00:06.317403Z"
    },
    "papermill": {
     "duration": 0.714034,
     "end_time": "2021-08-11T06:00:06.317586",
     "exception": false,
     "start_time": "2021-08-11T06:00:05.603552",
     "status": "completed"
    },
    "tags": []
   },
   "outputs": [
    {
     "data": {
      "text/plain": [
       "<AxesSubplot:ylabel='PRODUCT'>"
      ]
     },
     "execution_count": 7,
     "metadata": {},
     "output_type": "execute_result"
    },
    {
     "data": {
      "image/png": "[encoded data removed]",
      "text/plain": [
       "<Figure size 432x288 with 1 Axes>"
      ]
     },
     "metadata": {
      "needs_background": "light"
     },
     "output_type": "display_data"
    }
   ],
   "source": [
    "df_pivot_diff.sort_values(\"stamp_2\", ascending = False)[\"stamp_2\"].head(10).plot.barh()"
   ]
  },
  {
   "cell_type": "code",
   "execution_count": null,
   "id": "extra-executive",
   "metadata": {
    "papermill": {
     "duration": 0.009768,
     "end_time": "2021-08-11T06:00:06.341979",
     "exception": false,
     "start_time": "2021-08-11T06:00:06.332211",
     "status": "completed"
    },
    "tags": []
   },
   "outputs": [],
   "source": []
  }
 ],
 "metadata": {
  "kernelspec": {
   "display_name": "Python 3",
   "language": "python",
   "name": "python3"
  },
  "language_info": {
   "codemirror_mode": {
    "name": "ipython",
    "version": 3
   },
   "file_extension": ".py",
   "mimetype": "text/x-python",
   "name": "python",
   "nbconvert_exporter": "python",
   "pygments_lexer": "ipython3",
   "version": "3.8.8"
  },
  "papermill": {
   "default_parameters": {},
   "duration": 4.271418,
   "end_time": "2021-08-11T06:00:07.081189",
   "environment_variables": {},
   "exception": null,
   "input_path": "/Users/saravananshanmugam/Carbonleakage_Git/UsedObjects/eBay_Overview.ipynb",
   "output_path": "/Users/saravananshanmugam/Carbonleakage_Git/UsedObjects/eBay_Overview.ipynb",
   "parameters": {},
   "start_time": "2021-08-11T06:00:02.809771",
   "version": "2.3.3"
  }
 },
 "nbformat": 4,
 "nbformat_minor": 5
}