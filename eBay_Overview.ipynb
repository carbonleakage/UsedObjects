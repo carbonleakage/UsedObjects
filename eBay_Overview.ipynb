{
 "cells": [
  {
   "cell_type": "code",
   "execution_count": 1,
   "id": "reverse-picking",
   "metadata": {
    "execution": {
     "iopub.execute_input": "2021-09-09T21:00:07.025239Z",
     "iopub.status.busy": "2021-09-09T21:00:07.023301Z",
     "iopub.status.idle": "2021-09-09T21:00:07.834752Z",
     "shell.execute_reply": "2021-09-09T21:00:07.833199Z"
    },
    "papermill": {
     "duration": 0.864172,
     "end_time": "2021-09-09T21:00:07.835364",
     "exception": false,
     "start_time": "2021-09-09T21:00:06.971192",
     "status": "completed"
    },
    "tags": []
   },
   "outputs": [],
   "source": [
    "import pandas as pd\n",
    "import sqlite3"
   ]
  },
  {
   "cell_type": "code",
   "execution_count": 2,
   "id": "innovative-syndrome",
   "metadata": {
    "execution": {
     "iopub.execute_input": "2021-09-09T21:00:07.888425Z",
     "iopub.status.busy": "2021-09-09T21:00:07.886032Z",
     "iopub.status.idle": "2021-09-09T21:00:08.138338Z",
     "shell.execute_reply": "2021-09-09T21:00:08.139760Z"
    },
    "papermill": {
     "duration": 0.282623,
     "end_time": "2021-09-09T21:00:08.140208",
     "exception": false,
     "start_time": "2021-09-09T21:00:07.857585",
     "status": "completed"
    },
    "tags": []
   },
   "outputs": [],
   "source": [
    "timestamps = pd.read_sql(\"select distinct record_time from EBAY_TOP_BERLIN order by record_time desc limit 2\", sqlite3.connect(\"UsedObjects.db\"))"
   ]
  },
  {
   "cell_type": "code",
   "execution_count": 3,
   "id": "periodic-identification",
   "metadata": {
    "execution": {
     "iopub.execute_input": "2021-09-09T21:00:08.208340Z",
     "iopub.status.busy": "2021-09-09T21:00:08.202967Z",
     "iopub.status.idle": "2021-09-09T21:00:08.226198Z",
     "shell.execute_reply": "2021-09-09T21:00:08.227893Z"
    },
    "papermill": {
     "duration": 0.068825,
     "end_time": "2021-09-09T21:00:08.228397",
     "exception": false,
     "start_time": "2021-09-09T21:00:08.159572",
     "status": "completed"
    },
    "tags": []
   },
   "outputs": [
    {
     "data": {
      "text/html": [
       "<div>\n",
       "<style scoped>\n",
       "    .dataframe tbody tr th:only-of-type {\n",
       "        vertical-align: middle;\n",
       "    }\n",
       "\n",
       "    .dataframe tbody tr th {\n",
       "        vertical-align: top;\n",
       "    }\n",
       "\n",
       "    .dataframe thead th {\n",
       "        text-align: right;\n",
       "    }\n",
       "</style>\n",
       "<table border=\"1\" class=\"dataframe\">\n",
       "  <thead>\n",
       "    <tr style=\"text-align: right;\">\n",
       "      <th></th>\n",
       "      <th>RECORD_TIME</th>\n",
       "    </tr>\n",
       "  </thead>\n",
       "  <tbody>\n",
       "    <tr>\n",
       "      <th>0</th>\n",
       "      <td>2021-09-09 23:00</td>\n",
       "    </tr>\n",
       "    <tr>\n",
       "      <th>1</th>\n",
       "      <td>2021-09-09 22:30</td>\n",
       "    </tr>\n",
       "  </tbody>\n",
       "</table>\n",
       "</div>"
      ],
      "text/plain": [
       "        RECORD_TIME\n",
       "0  2021-09-09 23:00\n",
       "1  2021-09-09 22:30"
      ]
     },
     "execution_count": 3,
     "metadata": {},
     "output_type": "execute_result"
    }
   ],
   "source": [
    "timestamps"
   ]
  },
  {
   "cell_type": "code",
   "execution_count": 4,
   "id": "alternate-victory",
   "metadata": {
    "execution": {
     "iopub.execute_input": "2021-09-09T21:00:08.279713Z",
     "iopub.status.busy": "2021-09-09T21:00:08.277777Z",
     "iopub.status.idle": "2021-09-09T21:00:08.651963Z",
     "shell.execute_reply": "2021-09-09T21:00:08.653371Z"
    },
    "papermill": {
     "duration": 0.404134,
     "end_time": "2021-09-09T21:00:08.653811",
     "exception": false,
     "start_time": "2021-09-09T21:00:08.249677",
     "status": "completed"
    },
    "tags": []
   },
   "outputs": [],
   "source": [
    "df = pd.read_sql(\"select * from EBAY_TOP_BERLIN where record_time in (select distinct record_time from EBAY_TOP_BERLIN order by record_time desc limit 2)\", sqlite3.connect(\"UsedObjects.db\"))"
   ]
  },
  {
   "cell_type": "code",
   "execution_count": 5,
   "id": "popular-active",
   "metadata": {
    "execution": {
     "iopub.execute_input": "2021-09-09T21:00:08.742358Z",
     "iopub.status.busy": "2021-09-09T21:00:08.730673Z",
     "iopub.status.idle": "2021-09-09T21:00:08.758332Z",
     "shell.execute_reply": "2021-09-09T21:00:08.759764Z"
    },
    "papermill": {
     "duration": 0.074778,
     "end_time": "2021-09-09T21:00:08.760184",
     "exception": false,
     "start_time": "2021-09-09T21:00:08.685406",
     "status": "completed"
    },
    "tags": []
   },
   "outputs": [],
   "source": [
    "df_pivot = df.pivot_table(index=\"PRODUCT\", columns = \"RECORD_TIME\", values = \"LISTING_COUNT\")"
   ]
  },
  {
   "cell_type": "code",
   "execution_count": 6,
   "id": "union-huntington",
   "metadata": {
    "execution": {
     "iopub.execute_input": "2021-09-09T21:00:08.818429Z",
     "iopub.status.busy": "2021-09-09T21:00:08.816343Z",
     "iopub.status.idle": "2021-09-09T21:00:08.821863Z",
     "shell.execute_reply": "2021-09-09T21:00:08.823223Z"
    },
    "papermill": {
     "duration": 0.041421,
     "end_time": "2021-09-09T21:00:08.823651",
     "exception": false,
     "start_time": "2021-09-09T21:00:08.782230",
     "status": "completed"
    },
    "tags": []
   },
   "outputs": [],
   "source": [
    "df_pivot.columns = [\"stamp_1\", \"stamp_2\"]\n",
    "df_pivot_diff = df_pivot.diff(axis=1)"
   ]
  },
  {
   "cell_type": "code",
   "execution_count": 7,
   "id": "fifth-motion",
   "metadata": {
    "execution": {
     "iopub.execute_input": "2021-09-09T21:00:08.877648Z",
     "iopub.status.busy": "2021-09-09T21:00:08.875279Z",
     "iopub.status.idle": "2021-09-09T21:00:10.383355Z",
     "shell.execute_reply": "2021-09-09T21:00:10.384628Z"
    },
    "papermill": {
     "duration": 1.540929,
     "end_time": "2021-09-09T21:00:10.385090",
     "exception": false,
     "start_time": "2021-09-09T21:00:08.844161",
     "status": "completed"
    },
    "tags": []
   },
   "outputs": [
    {
     "data": {
      "text/plain": [
       "<AxesSubplot:ylabel='PRODUCT'>"
      ]
     },
     "execution_count": 7,
     "metadata": {},
     "output_type": "execute_result"
    },
    {
     "data": {
      "image/png": "[encoded data removed]",
      "text/plain": [
       "<Figure size 432x288 with 1 Axes>"
      ]
     },
     "metadata": {
      "needs_background": "light"
     },
     "output_type": "display_data"
    }
   ],
   "source": [
    "df_pivot_diff.sort_values(\"stamp_2\", ascending = False)[\"stamp_2\"].head(10).plot.barh()"
   ]
  },
  {
   "cell_type": "code",
   "execution_count": null,
   "id": "extra-executive",
   "metadata": {
    "papermill": {
     "duration": 0.022175,
     "end_time": "2021-09-09T21:00:10.431786",
     "exception": false,
     "start_time": "2021-09-09T21:00:10.409611",
     "status": "completed"
    },
    "tags": []
   },
   "outputs": [],
   "source": []
  }
 ],
 "metadata": {
  "kernelspec": {
   "display_name": "Python 3",
   "language": "python",
   "name": "python3"
  },
  "language_info": {
   "codemirror_mode": {
    "name": "ipython",
    "version": 3
   },
   "file_extension": ".py",
   "mimetype": "text/x-python",
   "name": "python",
   "nbconvert_exporter": "python",
   "pygments_lexer": "ipython3",
   "version": "3.9.5"
  },
  "papermill": {
   "default_parameters": {},
   "duration": 6.510747,
   "end_time": "2021-09-09T21:00:11.072705",
   "environment_variables": {},
   "exception": null,
   "input_path": "eBay_Overview.ipynb",
   "output_path": "eBay_Overview.ipynb",
   "parameters": {},
   "start_time": "2021-09-09T21:00:04.561958",
   "version": "2.3.3"
  }
 },
 "nbformat": 4,
 "nbformat_minor": 5
}