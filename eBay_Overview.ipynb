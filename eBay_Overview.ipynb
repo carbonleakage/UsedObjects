{
 "cells": [
  {
   "cell_type": "code",
   "execution_count": 1,
   "id": "reverse-picking",
   "metadata": {
    "execution": {
     "iopub.execute_input": "2021-09-30T11:30:06.818466Z",
     "iopub.status.busy": "2021-09-30T11:30:06.816526Z",
     "iopub.status.idle": "2021-09-30T11:30:07.627748Z",
     "shell.execute_reply": "2021-09-30T11:30:07.629019Z"
    },
    "papermill": {
     "duration": 0.863261,
     "end_time": "2021-09-30T11:30:07.629635",
     "exception": false,
     "start_time": "2021-09-30T11:30:06.766374",
     "status": "completed"
    },
    "tags": []
   },
   "outputs": [],
   "source": [
    "import pandas as pd\n",
    "import sqlite3"
   ]
  },
  {
   "cell_type": "code",
   "execution_count": 2,
   "id": "innovative-syndrome",
   "metadata": {
    "execution": {
     "iopub.execute_input": "2021-09-30T11:30:07.683573Z",
     "iopub.status.busy": "2021-09-30T11:30:07.681188Z",
     "iopub.status.idle": "2021-09-30T11:30:08.094333Z",
     "shell.execute_reply": "2021-09-30T11:30:08.095490Z"
    },
    "papermill": {
     "duration": 0.443188,
     "end_time": "2021-09-30T11:30:08.095901",
     "exception": false,
     "start_time": "2021-09-30T11:30:07.652713",
     "status": "completed"
    },
    "tags": []
   },
   "outputs": [],
   "source": [
    "timestamps = pd.read_sql(\"select distinct record_time from EBAY_TOP_BERLIN order by record_time desc limit 2\", sqlite3.connect(\"UsedObjects.db\"))"
   ]
  },
  {
   "cell_type": "code",
   "execution_count": 3,
   "id": "periodic-identification",
   "metadata": {
    "execution": {
     "iopub.execute_input": "2021-09-30T11:30:08.162135Z",
     "iopub.status.busy": "2021-09-30T11:30:08.160145Z",
     "iopub.status.idle": "2021-09-30T11:30:08.179588Z",
     "shell.execute_reply": "2021-09-30T11:30:08.180786Z"
    },
    "papermill": {
     "duration": 0.063814,
     "end_time": "2021-09-30T11:30:08.181179",
     "exception": false,
     "start_time": "2021-09-30T11:30:08.117365",
     "status": "completed"
    },
    "tags": []
   },
   "outputs": [
    {
     "data": {
      "text/html": [
       "<div>\n",
       "<style scoped>\n",
       "    .dataframe tbody tr th:only-of-type {\n",
       "        vertical-align: middle;\n",
       "    }\n",
       "\n",
       "    .dataframe tbody tr th {\n",
       "        vertical-align: top;\n",
       "    }\n",
       "\n",
       "    .dataframe thead th {\n",
       "        text-align: right;\n",
       "    }\n",
       "</style>\n",
       "<table border=\"1\" class=\"dataframe\">\n",
       "  <thead>\n",
       "    <tr style=\"text-align: right;\">\n",
       "      <th></th>\n",
       "      <th>RECORD_TIME</th>\n",
       "    </tr>\n",
       "  </thead>\n",
       "  <tbody>\n",
       "    <tr>\n",
       "      <th>0</th>\n",
       "      <td>2021-09-30 13:30</td>\n",
       "    </tr>\n",
       "    <tr>\n",
       "      <th>1</th>\n",
       "      <td>2021-09-30 13:00</td>\n",
       "    </tr>\n",
       "  </tbody>\n",
       "</table>\n",
       "</div>"
      ],
      "text/plain": [
       "        RECORD_TIME\n",
       "0  2021-09-30 13:30\n",
       "1  2021-09-30 13:00"
      ]
     },
     "execution_count": 3,
     "metadata": {},
     "output_type": "execute_result"
    }
   ],
   "source": [
    "timestamps"
   ]
  },
  {
   "cell_type": "code",
   "execution_count": 4,
   "id": "alternate-victory",
   "metadata": {
    "execution": {
     "iopub.execute_input": "2021-09-30T11:30:08.232305Z",
     "iopub.status.busy": "2021-09-30T11:30:08.230365Z",
     "iopub.status.idle": "2021-09-30T11:30:08.862382Z",
     "shell.execute_reply": "2021-09-30T11:30:08.863555Z"
    },
    "papermill": {
     "duration": 0.661889,
     "end_time": "2021-09-30T11:30:08.863970",
     "exception": false,
     "start_time": "2021-09-30T11:30:08.202081",
     "status": "completed"
    },
    "tags": []
   },
   "outputs": [],
   "source": [
    "df = pd.read_sql(\"select * from EBAY_TOP_BERLIN where record_time in (select distinct record_time from EBAY_TOP_BERLIN order by record_time desc limit 2)\", sqlite3.connect(\"UsedObjects.db\"))"
   ]
  },
  {
   "cell_type": "code",
   "execution_count": 5,
   "id": "popular-active",
   "metadata": {
    "execution": {
     "iopub.execute_input": "2021-09-30T11:30:08.932599Z",
     "iopub.status.busy": "2021-09-30T11:30:08.924877Z",
     "iopub.status.idle": "2021-09-30T11:30:08.953068Z",
     "shell.execute_reply": "2021-09-30T11:30:08.954269Z"
    },
    "papermill": {
     "duration": 0.068076,
     "end_time": "2021-09-30T11:30:08.954660",
     "exception": false,
     "start_time": "2021-09-30T11:30:08.886584",
     "status": "completed"
    },
    "tags": []
   },
   "outputs": [],
   "source": [
    "df_pivot = df.pivot_table(index=\"PRODUCT\", columns = \"RECORD_TIME\", values = \"LISTING_COUNT\")"
   ]
  },
  {
   "cell_type": "code",
   "execution_count": 6,
   "id": "union-huntington",
   "metadata": {
    "execution": {
     "iopub.execute_input": "2021-09-30T11:30:09.010744Z",
     "iopub.status.busy": "2021-09-30T11:30:09.008715Z",
     "iopub.status.idle": "2021-09-30T11:30:09.013813Z",
     "shell.execute_reply": "2021-09-30T11:30:09.015073Z"
    },
    "papermill": {
     "duration": 0.040083,
     "end_time": "2021-09-30T11:30:09.015510",
     "exception": false,
     "start_time": "2021-09-30T11:30:08.975427",
     "status": "completed"
    },
    "tags": []
   },
   "outputs": [],
   "source": [
    "df_pivot.columns = [\"stamp_1\", \"stamp_2\"]\n",
    "df_pivot_diff = df_pivot.diff(axis=1)"
   ]
  },
  {
   "cell_type": "code",
   "execution_count": 7,
   "id": "fifth-motion",
   "metadata": {
    "execution": {
     "iopub.execute_input": "2021-09-30T11:30:09.071111Z",
     "iopub.status.busy": "2021-09-30T11:30:09.068673Z",
     "iopub.status.idle": "2021-09-30T11:30:10.579169Z",
     "shell.execute_reply": "2021-09-30T11:30:10.580455Z"
    },
    "papermill": {
     "duration": 1.54321,
     "end_time": "2021-09-30T11:30:10.580873",
     "exception": false,
     "start_time": "2021-09-30T11:30:09.037663",
     "status": "completed"
    },
    "tags": []
   },
   "outputs": [
    {
     "data": {
      "text/plain": [
       "<AxesSubplot:ylabel='PRODUCT'>"
      ]
     },
     "execution_count": 7,
     "metadata": {},
     "output_type": "execute_result"
    },
    {
     "data": {
      "image/png": "[encoded data removed]",
      "text/plain": [
       "<Figure size 432x288 with 1 Axes>"
      ]
     },
     "metadata": {
      "needs_background": "light"
     },
     "output_type": "display_data"
    }
   ],
   "source": [
    "df_pivot_diff.sort_values(\"stamp_2\", ascending = False)[\"stamp_2\"].head(10).plot.barh()"
   ]
  },
  {
   "cell_type": "code",
   "execution_count": null,
   "id": "extra-executive",
   "metadata": {
    "papermill": {
     "duration": 0.022201,
     "end_time": "2021-09-30T11:30:10.627823",
     "exception": false,
     "start_time": "2021-09-30T11:30:10.605622",
     "status": "completed"
    },
    "tags": []
   },
   "outputs": [],
   "source": []
  }
 ],
 "metadata": {
  "kernelspec": {
   "display_name": "Python 3",
   "language": "python",
   "name": "python3"
  },
  "language_info": {
   "codemirror_mode": {
    "name": "ipython",
    "version": 3
   },
   "file_extension": ".py",
   "mimetype": "text/x-python",
   "name": "python",
   "nbconvert_exporter": "python",
   "pygments_lexer": "ipython3",
   "version": "3.9.5"
  },
  "papermill": {
   "default_parameters": {},
   "duration": 7.825766,
   "end_time": "2021-09-30T11:30:12.181272",
   "environment_variables": {},
   "exception": null,
   "input_path": "eBay_Overview.ipynb",
   "output_path": "eBay_Overview.ipynb",
   "parameters": {},
   "start_time": "2021-09-30T11:30:04.355506",
   "version": "2.3.3"
  }
 },
 "nbformat": 4,
 "nbformat_minor": 5
}