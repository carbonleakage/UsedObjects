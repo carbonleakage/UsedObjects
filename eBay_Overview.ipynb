{
 "cells": [
  {
   "cell_type": "code",
   "execution_count": 1,
   "id": "reverse-picking",
   "metadata": {
    "execution": {
     "iopub.execute_input": "2021-11-19T01:00:07.891727Z",
     "iopub.status.busy": "2021-11-19T01:00:07.889399Z",
     "iopub.status.idle": "2021-11-19T01:00:08.832212Z",
     "shell.execute_reply": "2021-11-19T01:00:08.833935Z"
    },
    "papermill": {
     "duration": 0.991458,
     "end_time": "2021-11-19T01:00:08.834749",
     "exception": false,
     "start_time": "2021-11-19T01:00:07.843291",
     "status": "completed"
    },
    "tags": []
   },
   "outputs": [],
   "source": [
    "import pandas as pd\n",
    "import sqlite3"
   ]
  },
  {
   "cell_type": "code",
   "execution_count": 2,
   "id": "innovative-syndrome",
   "metadata": {
    "execution": {
     "iopub.execute_input": "2021-11-19T01:00:08.893785Z",
     "iopub.status.busy": "2021-11-19T01:00:08.891629Z",
     "iopub.status.idle": "2021-11-19T01:00:09.740374Z",
     "shell.execute_reply": "2021-11-19T01:00:09.742051Z"
    },
    "papermill": {
     "duration": 0.885056,
     "end_time": "2021-11-19T01:00:09.742569",
     "exception": false,
     "start_time": "2021-11-19T01:00:08.857513",
     "status": "completed"
    },
    "tags": []
   },
   "outputs": [],
   "source": [
    "timestamps = pd.read_sql(\"select distinct record_time from EBAY_TOP_BERLIN order by record_time desc limit 2\", sqlite3.connect(\"UsedObjects.db\"))"
   ]
  },
  {
   "cell_type": "code",
   "execution_count": 3,
   "id": "periodic-identification",
   "metadata": {
    "execution": {
     "iopub.execute_input": "2021-11-19T01:00:09.818911Z",
     "iopub.status.busy": "2021-11-19T01:00:09.812573Z",
     "iopub.status.idle": "2021-11-19T01:00:09.837575Z",
     "shell.execute_reply": "2021-11-19T01:00:09.839060Z"
    },
    "papermill": {
     "duration": 0.076054,
     "end_time": "2021-11-19T01:00:09.839558",
     "exception": false,
     "start_time": "2021-11-19T01:00:09.763504",
     "status": "completed"
    },
    "tags": []
   },
   "outputs": [
    {
     "data": {
      "text/html": [
       "<div>\n",
       "<style scoped>\n",
       "    .dataframe tbody tr th:only-of-type {\n",
       "        vertical-align: middle;\n",
       "    }\n",
       "\n",
       "    .dataframe tbody tr th {\n",
       "        vertical-align: top;\n",
       "    }\n",
       "\n",
       "    .dataframe thead th {\n",
       "        text-align: right;\n",
       "    }\n",
       "</style>\n",
       "<table border=\"1\" class=\"dataframe\">\n",
       "  <thead>\n",
       "    <tr style=\"text-align: right;\">\n",
       "      <th></th>\n",
       "      <th>RECORD_TIME</th>\n",
       "    </tr>\n",
       "  </thead>\n",
       "  <tbody>\n",
       "    <tr>\n",
       "      <th>0</th>\n",
       "      <td>2021-11-19 02:00</td>\n",
       "    </tr>\n",
       "    <tr>\n",
       "      <th>1</th>\n",
       "      <td>2021-11-19 01:30</td>\n",
       "    </tr>\n",
       "  </tbody>\n",
       "</table>\n",
       "</div>"
      ],
      "text/plain": [
       "        RECORD_TIME\n",
       "0  2021-11-19 02:00\n",
       "1  2021-11-19 01:30"
      ]
     },
     "execution_count": 3,
     "metadata": {},
     "output_type": "execute_result"
    }
   ],
   "source": [
    "timestamps"
   ]
  },
  {
   "cell_type": "code",
   "execution_count": 4,
   "id": "alternate-victory",
   "metadata": {
    "execution": {
     "iopub.execute_input": "2021-11-19T01:00:09.897024Z",
     "iopub.status.busy": "2021-11-19T01:00:09.894704Z",
     "iopub.status.idle": "2021-11-19T01:00:11.137900Z",
     "shell.execute_reply": "2021-11-19T01:00:11.139538Z"
    },
    "papermill": {
     "duration": 1.278654,
     "end_time": "2021-11-19T01:00:11.140070",
     "exception": false,
     "start_time": "2021-11-19T01:00:09.861416",
     "status": "completed"
    },
    "tags": []
   },
   "outputs": [],
   "source": [
    "df = pd.read_sql(\"select * from EBAY_TOP_BERLIN where record_time in (select distinct record_time from EBAY_TOP_BERLIN order by record_time desc limit 2)\", sqlite3.connect(\"UsedObjects.db\"))"
   ]
  },
  {
   "cell_type": "code",
   "execution_count": 5,
   "id": "popular-active",
   "metadata": {
    "execution": {
     "iopub.execute_input": "2021-11-19T01:00:11.196882Z",
     "iopub.status.busy": "2021-11-19T01:00:11.194915Z",
     "iopub.status.idle": "2021-11-19T01:00:11.253018Z",
     "shell.execute_reply": "2021-11-19T01:00:11.254507Z"
    },
    "papermill": {
     "duration": 0.09282,
     "end_time": "2021-11-19T01:00:11.255009",
     "exception": false,
     "start_time": "2021-11-19T01:00:11.162189",
     "status": "completed"
    },
    "tags": []
   },
   "outputs": [],
   "source": [
    "df_pivot = df.pivot_table(index=\"PRODUCT\", columns = \"RECORD_TIME\", values = \"LISTING_COUNT\")"
   ]
  },
  {
   "cell_type": "code",
   "execution_count": 6,
   "id": "union-huntington",
   "metadata": {
    "execution": {
     "iopub.execute_input": "2021-11-19T01:00:11.317334Z",
     "iopub.status.busy": "2021-11-19T01:00:11.315017Z",
     "iopub.status.idle": "2021-11-19T01:00:11.320467Z",
     "shell.execute_reply": "2021-11-19T01:00:11.322070Z"
    },
    "papermill": {
     "duration": 0.045818,
     "end_time": "2021-11-19T01:00:11.322598",
     "exception": false,
     "start_time": "2021-11-19T01:00:11.276780",
     "status": "completed"
    },
    "tags": []
   },
   "outputs": [],
   "source": [
    "df_pivot.columns = [\"stamp_1\", \"stamp_2\"]\n",
    "df_pivot_diff = df_pivot.diff(axis=1)"
   ]
  },
  {
   "cell_type": "code",
   "execution_count": 7,
   "id": "fifth-motion",
   "metadata": {
    "execution": {
     "iopub.execute_input": "2021-11-19T01:00:11.383299Z",
     "iopub.status.busy": "2021-11-19T01:00:11.380808Z",
     "iopub.status.idle": "2021-11-19T01:00:13.133552Z",
     "shell.execute_reply": "2021-11-19T01:00:13.134943Z"
    },
    "papermill": {
     "duration": 1.791087,
     "end_time": "2021-11-19T01:00:13.135430",
     "exception": false,
     "start_time": "2021-11-19T01:00:11.344343",
     "status": "completed"
    },
    "tags": []
   },
   "outputs": [
    {
     "data": {
      "text/plain": [
       "<AxesSubplot:ylabel='PRODUCT'>"
      ]
     },
     "execution_count": 7,
     "metadata": {},
     "output_type": "execute_result"
    },
    {
     "data": {
      "image/png": "[encoded data removed]",
      "text/plain": [
       "<Figure size 432x288 with 1 Axes>"
      ]
     },
     "metadata": {
      "needs_background": "light"
     },
     "output_type": "display_data"
    }
   ],
   "source": [
    "df_pivot_diff.sort_values(\"stamp_2\", ascending = False)[\"stamp_2\"].head(10).plot.barh()"
   ]
  },
  {
   "cell_type": "code",
   "execution_count": null,
   "id": "extra-executive",
   "metadata": {
    "papermill": {
     "duration": 0.023683,
     "end_time": "2021-11-19T01:00:13.183378",
     "exception": false,
     "start_time": "2021-11-19T01:00:13.159695",
     "status": "completed"
    },
    "tags": []
   },
   "outputs": [],
   "source": []
  }
 ],
 "metadata": {
  "kernelspec": {
   "display_name": "Python 3",
   "language": "python",
   "name": "python3"
  },
  "language_info": {
   "codemirror_mode": {
    "name": "ipython",
    "version": 3
   },
   "file_extension": ".py",
   "mimetype": "text/x-python",
   "name": "python",
   "nbconvert_exporter": "python",
   "pygments_lexer": "ipython3",
   "version": "3.9.5"
  },
  "papermill": {
   "default_parameters": {},
   "duration": 8.861671,
   "end_time": "2021-11-19T01:00:13.933613",
   "environment_variables": {},
   "exception": null,
   "input_path": "eBay_Overview.ipynb",
   "output_path": "eBay_Overview.ipynb",
   "parameters": {},
   "start_time": "2021-11-19T01:00:05.071942",
   "version": "2.3.3"
  }
 },
 "nbformat": 4,
 "nbformat_minor": 5
}