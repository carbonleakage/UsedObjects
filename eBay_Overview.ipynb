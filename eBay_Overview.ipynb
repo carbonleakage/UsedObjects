{
 "cells": [
  {
   "cell_type": "code",
   "execution_count": 1,
   "id": "reverse-picking",
   "metadata": {
    "execution": {
     "iopub.execute_input": "2021-10-02T22:30:06.968617Z",
     "iopub.status.busy": "2021-10-02T22:30:06.966623Z",
     "iopub.status.idle": "2021-10-02T22:30:07.773514Z",
     "shell.execute_reply": "2021-10-02T22:30:07.771967Z"
    },
    "papermill": {
     "duration": 0.858067,
     "end_time": "2021-10-02T22:30:07.773911",
     "exception": false,
     "start_time": "2021-10-02T22:30:06.915844",
     "status": "completed"
    },
    "tags": []
   },
   "outputs": [],
   "source": [
    "import pandas as pd\n",
    "import sqlite3"
   ]
  },
  {
   "cell_type": "code",
   "execution_count": 2,
   "id": "innovative-syndrome",
   "metadata": {
    "execution": {
     "iopub.execute_input": "2021-10-02T22:30:07.824768Z",
     "iopub.status.busy": "2021-10-02T22:30:07.822903Z",
     "iopub.status.idle": "2021-10-02T22:30:08.255696Z",
     "shell.execute_reply": "2021-10-02T22:30:08.256895Z"
    },
    "papermill": {
     "duration": 0.462343,
     "end_time": "2021-10-02T22:30:08.257293",
     "exception": false,
     "start_time": "2021-10-02T22:30:07.794950",
     "status": "completed"
    },
    "tags": []
   },
   "outputs": [],
   "source": [
    "timestamps = pd.read_sql(\"select distinct record_time from EBAY_TOP_BERLIN order by record_time desc limit 2\", sqlite3.connect(\"UsedObjects.db\"))"
   ]
  },
  {
   "cell_type": "code",
   "execution_count": 3,
   "id": "periodic-identification",
   "metadata": {
    "execution": {
     "iopub.execute_input": "2021-10-02T22:30:08.321183Z",
     "iopub.status.busy": "2021-10-02T22:30:08.319185Z",
     "iopub.status.idle": "2021-10-02T22:30:08.341577Z",
     "shell.execute_reply": "2021-10-02T22:30:08.342778Z"
    },
    "papermill": {
     "duration": 0.0667,
     "end_time": "2021-10-02T22:30:08.343392",
     "exception": false,
     "start_time": "2021-10-02T22:30:08.276692",
     "status": "completed"
    },
    "tags": []
   },
   "outputs": [
    {
     "data": {
      "text/html": [
       "<div>\n",
       "<style scoped>\n",
       "    .dataframe tbody tr th:only-of-type {\n",
       "        vertical-align: middle;\n",
       "    }\n",
       "\n",
       "    .dataframe tbody tr th {\n",
       "        vertical-align: top;\n",
       "    }\n",
       "\n",
       "    .dataframe thead th {\n",
       "        text-align: right;\n",
       "    }\n",
       "</style>\n",
       "<table border=\"1\" class=\"dataframe\">\n",
       "  <thead>\n",
       "    <tr style=\"text-align: right;\">\n",
       "      <th></th>\n",
       "      <th>RECORD_TIME</th>\n",
       "    </tr>\n",
       "  </thead>\n",
       "  <tbody>\n",
       "    <tr>\n",
       "      <th>0</th>\n",
       "      <td>2021-10-03 00:30</td>\n",
       "    </tr>\n",
       "    <tr>\n",
       "      <th>1</th>\n",
       "      <td>2021-10-03 00:00</td>\n",
       "    </tr>\n",
       "  </tbody>\n",
       "</table>\n",
       "</div>"
      ],
      "text/plain": [
       "        RECORD_TIME\n",
       "0  2021-10-03 00:30\n",
       "1  2021-10-03 00:00"
      ]
     },
     "execution_count": 3,
     "metadata": {},
     "output_type": "execute_result"
    }
   ],
   "source": [
    "timestamps"
   ]
  },
  {
   "cell_type": "code",
   "execution_count": 4,
   "id": "alternate-victory",
   "metadata": {
    "execution": {
     "iopub.execute_input": "2021-10-02T22:30:08.396013Z",
     "iopub.status.busy": "2021-10-02T22:30:08.393677Z",
     "iopub.status.idle": "2021-10-02T22:30:09.033070Z",
     "shell.execute_reply": "2021-10-02T22:30:09.034268Z"
    },
    "papermill": {
     "duration": 0.669458,
     "end_time": "2021-10-02T22:30:09.034664",
     "exception": false,
     "start_time": "2021-10-02T22:30:08.365206",
     "status": "completed"
    },
    "tags": []
   },
   "outputs": [],
   "source": [
    "df = pd.read_sql(\"select * from EBAY_TOP_BERLIN where record_time in (select distinct record_time from EBAY_TOP_BERLIN order by record_time desc limit 2)\", sqlite3.connect(\"UsedObjects.db\"))"
   ]
  },
  {
   "cell_type": "code",
   "execution_count": 5,
   "id": "popular-active",
   "metadata": {
    "execution": {
     "iopub.execute_input": "2021-10-02T22:30:09.107543Z",
     "iopub.status.busy": "2021-10-02T22:30:09.094681Z",
     "iopub.status.idle": "2021-10-02T22:30:09.122851Z",
     "shell.execute_reply": "2021-10-02T22:30:09.124079Z"
    },
    "papermill": {
     "duration": 0.067608,
     "end_time": "2021-10-02T22:30:09.124478",
     "exception": false,
     "start_time": "2021-10-02T22:30:09.056870",
     "status": "completed"
    },
    "tags": []
   },
   "outputs": [],
   "source": [
    "df_pivot = df.pivot_table(index=\"PRODUCT\", columns = \"RECORD_TIME\", values = \"LISTING_COUNT\")"
   ]
  },
  {
   "cell_type": "code",
   "execution_count": 6,
   "id": "union-huntington",
   "metadata": {
    "execution": {
     "iopub.execute_input": "2021-10-02T22:30:09.181490Z",
     "iopub.status.busy": "2021-10-02T22:30:09.179449Z",
     "iopub.status.idle": "2021-10-02T22:30:09.184467Z",
     "shell.execute_reply": "2021-10-02T22:30:09.185717Z"
    },
    "papermill": {
     "duration": 0.040154,
     "end_time": "2021-10-02T22:30:09.186135",
     "exception": false,
     "start_time": "2021-10-02T22:30:09.145981",
     "status": "completed"
    },
    "tags": []
   },
   "outputs": [],
   "source": [
    "df_pivot.columns = [\"stamp_1\", \"stamp_2\"]\n",
    "df_pivot_diff = df_pivot.diff(axis=1)"
   ]
  },
  {
   "cell_type": "code",
   "execution_count": 7,
   "id": "fifth-motion",
   "metadata": {
    "execution": {
     "iopub.execute_input": "2021-10-02T22:30:09.240587Z",
     "iopub.status.busy": "2021-10-02T22:30:09.238050Z",
     "iopub.status.idle": "2021-10-02T22:30:10.701386Z",
     "shell.execute_reply": "2021-10-02T22:30:10.702705Z"
    },
    "papermill": {
     "duration": 1.496622,
     "end_time": "2021-10-02T22:30:10.703204",
     "exception": false,
     "start_time": "2021-10-02T22:30:09.206582",
     "status": "completed"
    },
    "tags": []
   },
   "outputs": [
    {
     "data": {
      "text/plain": [
       "<AxesSubplot:ylabel='PRODUCT'>"
      ]
     },
     "execution_count": 7,
     "metadata": {},
     "output_type": "execute_result"
    },
    {
     "data": {
      "image/png": "[encoded data removed]",
      "text/plain": [
       "<Figure size 432x288 with 1 Axes>"
      ]
     },
     "metadata": {
      "needs_background": "light"
     },
     "output_type": "display_data"
    }
   ],
   "source": [
    "df_pivot_diff.sort_values(\"stamp_2\", ascending = False)[\"stamp_2\"].head(10).plot.barh()"
   ]
  },
  {
   "cell_type": "code",
   "execution_count": null,
   "id": "extra-executive",
   "metadata": {
    "papermill": {
     "duration": 0.022328,
     "end_time": "2021-10-02T22:30:10.750429",
     "exception": false,
     "start_time": "2021-10-02T22:30:10.728101",
     "status": "completed"
    },
    "tags": []
   },
   "outputs": [],
   "source": []
  }
 ],
 "metadata": {
  "kernelspec": {
   "display_name": "Python 3",
   "language": "python",
   "name": "python3"
  },
  "language_info": {
   "codemirror_mode": {
    "name": "ipython",
    "version": 3
   },
   "file_extension": ".py",
   "mimetype": "text/x-python",
   "name": "python",
   "nbconvert_exporter": "python",
   "pygments_lexer": "ipython3",
   "version": "3.9.5"
  },
  "papermill": {
   "default_parameters": {},
   "duration": 7.821111,
   "end_time": "2021-10-02T22:30:12.328776",
   "environment_variables": {},
   "exception": null,
   "input_path": "eBay_Overview.ipynb",
   "output_path": "eBay_Overview.ipynb",
   "parameters": {},
   "start_time": "2021-10-02T22:30:04.507665",
   "version": "2.3.3"
  }
 },
 "nbformat": 4,
 "nbformat_minor": 5
}