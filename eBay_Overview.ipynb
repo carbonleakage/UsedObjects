{
 "cells": [
  {
   "cell_type": "code",
   "execution_count": 1,
   "id": "reverse-picking",
   "metadata": {
    "execution": {
     "iopub.execute_input": "2021-10-16T19:00:07.078016Z",
     "iopub.status.busy": "2021-10-16T19:00:07.076034Z",
     "iopub.status.idle": "2021-10-16T19:00:07.883088Z",
     "shell.execute_reply": "2021-10-16T19:00:07.884304Z"
    },
    "papermill": {
     "duration": 0.8567,
     "end_time": "2021-10-16T19:00:07.885119",
     "exception": false,
     "start_time": "2021-10-16T19:00:07.028419",
     "status": "completed"
    },
    "tags": []
   },
   "outputs": [],
   "source": [
    "import pandas as pd\n",
    "import sqlite3"
   ]
  },
  {
   "cell_type": "code",
   "execution_count": 2,
   "id": "innovative-syndrome",
   "metadata": {
    "execution": {
     "iopub.execute_input": "2021-10-16T19:00:07.938397Z",
     "iopub.status.busy": "2021-10-16T19:00:07.935983Z",
     "iopub.status.idle": "2021-10-16T19:00:08.485133Z",
     "shell.execute_reply": "2021-10-16T19:00:08.486601Z"
    },
    "papermill": {
     "duration": 0.579674,
     "end_time": "2021-10-16T19:00:08.487039",
     "exception": false,
     "start_time": "2021-10-16T19:00:07.907365",
     "status": "completed"
    },
    "tags": []
   },
   "outputs": [],
   "source": [
    "timestamps = pd.read_sql(\"select distinct record_time from EBAY_TOP_BERLIN order by record_time desc limit 2\", sqlite3.connect(\"UsedObjects.db\"))"
   ]
  },
  {
   "cell_type": "code",
   "execution_count": 3,
   "id": "periodic-identification",
   "metadata": {
    "execution": {
     "iopub.execute_input": "2021-10-16T19:00:08.561498Z",
     "iopub.status.busy": "2021-10-16T19:00:08.559385Z",
     "iopub.status.idle": "2021-10-16T19:00:08.579635Z",
     "shell.execute_reply": "2021-10-16T19:00:08.580972Z"
    },
    "papermill": {
     "duration": 0.068694,
     "end_time": "2021-10-16T19:00:08.581401",
     "exception": false,
     "start_time": "2021-10-16T19:00:08.512707",
     "status": "completed"
    },
    "tags": []
   },
   "outputs": [
    {
     "data": {
      "text/html": [
       "<div>\n",
       "<style scoped>\n",
       "    .dataframe tbody tr th:only-of-type {\n",
       "        vertical-align: middle;\n",
       "    }\n",
       "\n",
       "    .dataframe tbody tr th {\n",
       "        vertical-align: top;\n",
       "    }\n",
       "\n",
       "    .dataframe thead th {\n",
       "        text-align: right;\n",
       "    }\n",
       "</style>\n",
       "<table border=\"1\" class=\"dataframe\">\n",
       "  <thead>\n",
       "    <tr style=\"text-align: right;\">\n",
       "      <th></th>\n",
       "      <th>RECORD_TIME</th>\n",
       "    </tr>\n",
       "  </thead>\n",
       "  <tbody>\n",
       "    <tr>\n",
       "      <th>0</th>\n",
       "      <td>2021-10-16 21:00</td>\n",
       "    </tr>\n",
       "    <tr>\n",
       "      <th>1</th>\n",
       "      <td>2021-10-16 20:30</td>\n",
       "    </tr>\n",
       "  </tbody>\n",
       "</table>\n",
       "</div>"
      ],
      "text/plain": [
       "        RECORD_TIME\n",
       "0  2021-10-16 21:00\n",
       "1  2021-10-16 20:30"
      ]
     },
     "execution_count": 3,
     "metadata": {},
     "output_type": "execute_result"
    }
   ],
   "source": [
    "timestamps"
   ]
  },
  {
   "cell_type": "code",
   "execution_count": 4,
   "id": "alternate-victory",
   "metadata": {
    "execution": {
     "iopub.execute_input": "2021-10-16T19:00:08.632666Z",
     "iopub.status.busy": "2021-10-16T19:00:08.630754Z",
     "iopub.status.idle": "2021-10-16T19:00:09.432594Z",
     "shell.execute_reply": "2021-10-16T19:00:09.434211Z"
    },
    "papermill": {
     "duration": 0.832782,
     "end_time": "2021-10-16T19:00:09.434705",
     "exception": false,
     "start_time": "2021-10-16T19:00:08.601923",
     "status": "completed"
    },
    "tags": []
   },
   "outputs": [],
   "source": [
    "df = pd.read_sql(\"select * from EBAY_TOP_BERLIN where record_time in (select distinct record_time from EBAY_TOP_BERLIN order by record_time desc limit 2)\", sqlite3.connect(\"UsedObjects.db\"))"
   ]
  },
  {
   "cell_type": "code",
   "execution_count": 5,
   "id": "popular-active",
   "metadata": {
    "execution": {
     "iopub.execute_input": "2021-10-16T19:00:09.498840Z",
     "iopub.status.busy": "2021-10-16T19:00:09.492573Z",
     "iopub.status.idle": "2021-10-16T19:00:09.520245Z",
     "shell.execute_reply": "2021-10-16T19:00:09.521677Z"
    },
    "papermill": {
     "duration": 0.066327,
     "end_time": "2021-10-16T19:00:09.522091",
     "exception": false,
     "start_time": "2021-10-16T19:00:09.455764",
     "status": "completed"
    },
    "tags": []
   },
   "outputs": [],
   "source": [
    "df_pivot = df.pivot_table(index=\"PRODUCT\", columns = \"RECORD_TIME\", values = \"LISTING_COUNT\")"
   ]
  },
  {
   "cell_type": "code",
   "execution_count": 6,
   "id": "union-huntington",
   "metadata": {
    "execution": {
     "iopub.execute_input": "2021-10-16T19:00:09.580462Z",
     "iopub.status.busy": "2021-10-16T19:00:09.578193Z",
     "iopub.status.idle": "2021-10-16T19:00:09.583852Z",
     "shell.execute_reply": "2021-10-16T19:00:09.585178Z"
    },
    "papermill": {
     "duration": 0.041924,
     "end_time": "2021-10-16T19:00:09.585601",
     "exception": false,
     "start_time": "2021-10-16T19:00:09.543677",
     "status": "completed"
    },
    "tags": []
   },
   "outputs": [],
   "source": [
    "df_pivot.columns = [\"stamp_1\", \"stamp_2\"]\n",
    "df_pivot_diff = df_pivot.diff(axis=1)"
   ]
  },
  {
   "cell_type": "code",
   "execution_count": 7,
   "id": "fifth-motion",
   "metadata": {
    "execution": {
     "iopub.execute_input": "2021-10-16T19:00:09.640673Z",
     "iopub.status.busy": "2021-10-16T19:00:09.638382Z",
     "iopub.status.idle": "2021-10-16T19:00:11.150699Z",
     "shell.execute_reply": "2021-10-16T19:00:11.151963Z"
    },
    "papermill": {
     "duration": 1.545874,
     "end_time": "2021-10-16T19:00:11.152377",
     "exception": false,
     "start_time": "2021-10-16T19:00:09.606503",
     "status": "completed"
    },
    "tags": []
   },
   "outputs": [
    {
     "data": {
      "text/plain": [
       "<AxesSubplot:ylabel='PRODUCT'>"
      ]
     },
     "execution_count": 7,
     "metadata": {},
     "output_type": "execute_result"
    },
    {
     "data": {
      "image/png": "[encoded data removed]",
      "text/plain": [
       "<Figure size 432x288 with 1 Axes>"
      ]
     },
     "metadata": {
      "needs_background": "light"
     },
     "output_type": "display_data"
    }
   ],
   "source": [
    "df_pivot_diff.sort_values(\"stamp_2\", ascending = False)[\"stamp_2\"].head(10).plot.barh()"
   ]
  },
  {
   "cell_type": "code",
   "execution_count": null,
   "id": "extra-executive",
   "metadata": {
    "papermill": {
     "duration": 0.022246,
     "end_time": "2021-10-16T19:00:11.199647",
     "exception": false,
     "start_time": "2021-10-16T19:00:11.177401",
     "status": "completed"
    },
    "tags": []
   },
   "outputs": [],
   "source": []
  }
 ],
 "metadata": {
  "kernelspec": {
   "display_name": "Python 3",
   "language": "python",
   "name": "python3"
  },
  "language_info": {
   "codemirror_mode": {
    "name": "ipython",
    "version": 3
   },
   "file_extension": ".py",
   "mimetype": "text/x-python",
   "name": "python",
   "nbconvert_exporter": "python",
   "pygments_lexer": "ipython3",
   "version": "3.9.5"
  },
  "papermill": {
   "default_parameters": {},
   "duration": 7.830759,
   "end_time": "2021-10-16T19:00:12.444442",
   "environment_variables": {},
   "exception": null,
   "input_path": "eBay_Overview.ipynb",
   "output_path": "eBay_Overview.ipynb",
   "parameters": {},
   "start_time": "2021-10-16T19:00:04.613683",
   "version": "2.3.3"
  }
 },
 "nbformat": 4,
 "nbformat_minor": 5
}