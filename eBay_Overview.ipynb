{
 "cells": [
  {
   "cell_type": "code",
   "execution_count": 1,
   "id": "reverse-picking",
   "metadata": {
    "execution": {
     "iopub.execute_input": "2021-11-14T20:30:07.135742Z",
     "iopub.status.busy": "2021-11-14T20:30:07.133300Z",
     "iopub.status.idle": "2021-11-14T20:30:08.084225Z",
     "shell.execute_reply": "2021-11-14T20:30:08.085911Z"
    },
    "papermill": {
     "duration": 1.001546,
     "end_time": "2021-11-14T20:30:08.086649",
     "exception": false,
     "start_time": "2021-11-14T20:30:07.085103",
     "status": "completed"
    },
    "tags": []
   },
   "outputs": [],
   "source": [
    "import pandas as pd\n",
    "import sqlite3"
   ]
  },
  {
   "cell_type": "code",
   "execution_count": 2,
   "id": "innovative-syndrome",
   "metadata": {
    "execution": {
     "iopub.execute_input": "2021-11-14T20:30:08.150968Z",
     "iopub.status.busy": "2021-11-14T20:30:08.148506Z",
     "iopub.status.idle": "2021-11-14T20:30:08.965458Z",
     "shell.execute_reply": "2021-11-14T20:30:08.966865Z"
    },
    "papermill": {
     "duration": 0.850159,
     "end_time": "2021-11-14T20:30:08.967329",
     "exception": false,
     "start_time": "2021-11-14T20:30:08.117170",
     "status": "completed"
    },
    "tags": []
   },
   "outputs": [],
   "source": [
    "timestamps = pd.read_sql(\"select distinct record_time from EBAY_TOP_BERLIN order by record_time desc limit 2\", sqlite3.connect(\"UsedObjects.db\"))"
   ]
  },
  {
   "cell_type": "code",
   "execution_count": 3,
   "id": "periodic-identification",
   "metadata": {
    "execution": {
     "iopub.execute_input": "2021-11-14T20:30:09.040161Z",
     "iopub.status.busy": "2021-11-14T20:30:09.037768Z",
     "iopub.status.idle": "2021-11-14T20:30:09.066210Z",
     "shell.execute_reply": "2021-11-14T20:30:09.067616Z"
    },
    "papermill": {
     "duration": 0.08062,
     "end_time": "2021-11-14T20:30:09.068087",
     "exception": false,
     "start_time": "2021-11-14T20:30:08.987467",
     "status": "completed"
    },
    "tags": []
   },
   "outputs": [
    {
     "data": {
      "text/html": [
       "<div>\n",
       "<style scoped>\n",
       "    .dataframe tbody tr th:only-of-type {\n",
       "        vertical-align: middle;\n",
       "    }\n",
       "\n",
       "    .dataframe tbody tr th {\n",
       "        vertical-align: top;\n",
       "    }\n",
       "\n",
       "    .dataframe thead th {\n",
       "        text-align: right;\n",
       "    }\n",
       "</style>\n",
       "<table border=\"1\" class=\"dataframe\">\n",
       "  <thead>\n",
       "    <tr style=\"text-align: right;\">\n",
       "      <th></th>\n",
       "      <th>RECORD_TIME</th>\n",
       "    </tr>\n",
       "  </thead>\n",
       "  <tbody>\n",
       "    <tr>\n",
       "      <th>0</th>\n",
       "      <td>2021-11-14 21:30</td>\n",
       "    </tr>\n",
       "    <tr>\n",
       "      <th>1</th>\n",
       "      <td>2021-11-14 21:00</td>\n",
       "    </tr>\n",
       "  </tbody>\n",
       "</table>\n",
       "</div>"
      ],
      "text/plain": [
       "        RECORD_TIME\n",
       "0  2021-11-14 21:30\n",
       "1  2021-11-14 21:00"
      ]
     },
     "execution_count": 3,
     "metadata": {},
     "output_type": "execute_result"
    }
   ],
   "source": [
    "timestamps"
   ]
  },
  {
   "cell_type": "code",
   "execution_count": 4,
   "id": "alternate-victory",
   "metadata": {
    "execution": {
     "iopub.execute_input": "2021-11-14T20:30:09.122355Z",
     "iopub.status.busy": "2021-11-14T20:30:09.120251Z",
     "iopub.status.idle": "2021-11-14T20:30:10.357576Z",
     "shell.execute_reply": "2021-11-14T20:30:10.359200Z"
    },
    "papermill": {
     "duration": 1.270447,
     "end_time": "2021-11-14T20:30:10.359669",
     "exception": false,
     "start_time": "2021-11-14T20:30:09.089222",
     "status": "completed"
    },
    "tags": []
   },
   "outputs": [],
   "source": [
    "df = pd.read_sql(\"select * from EBAY_TOP_BERLIN where record_time in (select distinct record_time from EBAY_TOP_BERLIN order by record_time desc limit 2)\", sqlite3.connect(\"UsedObjects.db\"))"
   ]
  },
  {
   "cell_type": "code",
   "execution_count": 5,
   "id": "popular-active",
   "metadata": {
    "execution": {
     "iopub.execute_input": "2021-11-14T20:30:10.425437Z",
     "iopub.status.busy": "2021-11-14T20:30:10.423056Z",
     "iopub.status.idle": "2021-11-14T20:30:10.452269Z",
     "shell.execute_reply": "2021-11-14T20:30:10.453561Z"
    },
    "papermill": {
     "duration": 0.071248,
     "end_time": "2021-11-14T20:30:10.454005",
     "exception": false,
     "start_time": "2021-11-14T20:30:10.382757",
     "status": "completed"
    },
    "tags": []
   },
   "outputs": [],
   "source": [
    "df_pivot = df.pivot_table(index=\"PRODUCT\", columns = \"RECORD_TIME\", values = \"LISTING_COUNT\")"
   ]
  },
  {
   "cell_type": "code",
   "execution_count": 6,
   "id": "union-huntington",
   "metadata": {
    "execution": {
     "iopub.execute_input": "2021-11-14T20:30:10.515702Z",
     "iopub.status.busy": "2021-11-14T20:30:10.513534Z",
     "iopub.status.idle": "2021-11-14T20:30:10.520073Z",
     "shell.execute_reply": "2021-11-14T20:30:10.521856Z"
    },
    "papermill": {
     "duration": 0.047404,
     "end_time": "2021-11-14T20:30:10.522357",
     "exception": false,
     "start_time": "2021-11-14T20:30:10.474953",
     "status": "completed"
    },
    "tags": []
   },
   "outputs": [],
   "source": [
    "df_pivot.columns = [\"stamp_1\", \"stamp_2\"]\n",
    "df_pivot_diff = df_pivot.diff(axis=1)"
   ]
  },
  {
   "cell_type": "code",
   "execution_count": 7,
   "id": "fifth-motion",
   "metadata": {
    "execution": {
     "iopub.execute_input": "2021-11-14T20:30:10.581425Z",
     "iopub.status.busy": "2021-11-14T20:30:10.578757Z",
     "iopub.status.idle": "2021-11-14T20:30:12.492389Z",
     "shell.execute_reply": "2021-11-14T20:30:12.493834Z"
    },
    "papermill": {
     "duration": 1.950976,
     "end_time": "2021-11-14T20:30:12.494310",
     "exception": false,
     "start_time": "2021-11-14T20:30:10.543334",
     "status": "completed"
    },
    "tags": []
   },
   "outputs": [
    {
     "data": {
      "text/plain": [
       "<AxesSubplot:ylabel='PRODUCT'>"
      ]
     },
     "execution_count": 7,
     "metadata": {},
     "output_type": "execute_result"
    },
    {
     "data": {
      "image/png": "[encoded data removed]",
      "text/plain": [
       "<Figure size 432x288 with 1 Axes>"
      ]
     },
     "metadata": {
      "needs_background": "light"
     },
     "output_type": "display_data"
    }
   ],
   "source": [
    "df_pivot_diff.sort_values(\"stamp_2\", ascending = False)[\"stamp_2\"].head(10).plot.barh()"
   ]
  },
  {
   "cell_type": "code",
   "execution_count": null,
   "id": "extra-executive",
   "metadata": {
    "papermill": {
     "duration": 0.023655,
     "end_time": "2021-11-14T20:30:12.542398",
     "exception": false,
     "start_time": "2021-11-14T20:30:12.518743",
     "status": "completed"
    },
    "tags": []
   },
   "outputs": [],
   "source": []
  }
 ],
 "metadata": {
  "kernelspec": {
   "display_name": "Python 3",
   "language": "python",
   "name": "python3"
  },
  "language_info": {
   "codemirror_mode": {
    "name": "ipython",
    "version": 3
   },
   "file_extension": ".py",
   "mimetype": "text/x-python",
   "name": "python",
   "nbconvert_exporter": "python",
   "pygments_lexer": "ipython3",
   "version": "3.9.5"
  },
  "papermill": {
   "default_parameters": {},
   "duration": 9.936207,
   "end_time": "2021-11-14T20:30:14.318600",
   "environment_variables": {},
   "exception": null,
   "input_path": "eBay_Overview.ipynb",
   "output_path": "eBay_Overview.ipynb",
   "parameters": {},
   "start_time": "2021-11-14T20:30:04.382393",
   "version": "2.3.3"
  }
 },
 "nbformat": 4,
 "nbformat_minor": 5
}