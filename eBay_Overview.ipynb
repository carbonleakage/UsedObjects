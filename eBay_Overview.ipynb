{
 "cells": [
  {
   "cell_type": "code",
   "execution_count": 1,
   "id": "reverse-picking",
   "metadata": {
    "execution": {
     "iopub.execute_input": "2021-08-24T23:30:06.821881Z",
     "iopub.status.busy": "2021-08-24T23:30:06.819943Z",
     "iopub.status.idle": "2021-08-24T23:30:07.627626Z",
     "shell.execute_reply": "2021-08-24T23:30:07.628891Z"
    },
    "papermill": {
     "duration": 0.859904,
     "end_time": "2021-08-24T23:30:07.629519",
     "exception": false,
     "start_time": "2021-08-24T23:30:06.769615",
     "status": "completed"
    },
    "tags": []
   },
   "outputs": [],
   "source": [
    "import pandas as pd\n",
    "import sqlite3"
   ]
  },
  {
   "cell_type": "code",
   "execution_count": 2,
   "id": "innovative-syndrome",
   "metadata": {
    "execution": {
     "iopub.execute_input": "2021-08-24T23:30:07.681181Z",
     "iopub.status.busy": "2021-08-24T23:30:07.679315Z",
     "iopub.status.idle": "2021-08-24T23:30:07.800353Z",
     "shell.execute_reply": "2021-08-24T23:30:07.801490Z"
    },
    "papermill": {
     "duration": 0.150672,
     "end_time": "2021-08-24T23:30:07.801903",
     "exception": false,
     "start_time": "2021-08-24T23:30:07.651231",
     "status": "completed"
    },
    "tags": []
   },
   "outputs": [],
   "source": [
    "timestamps = pd.read_sql(\"select distinct record_time from EBAY_TOP_BERLIN order by record_time desc limit 2\", sqlite3.connect(\"UsedObjects.db\"))"
   ]
  },
  {
   "cell_type": "code",
   "execution_count": 3,
   "id": "periodic-identification",
   "metadata": {
    "execution": {
     "iopub.execute_input": "2021-08-24T23:30:07.869838Z",
     "iopub.status.busy": "2021-08-24T23:30:07.867823Z",
     "iopub.status.idle": "2021-08-24T23:30:07.887574Z",
     "shell.execute_reply": "2021-08-24T23:30:07.888975Z"
    },
    "papermill": {
     "duration": 0.065799,
     "end_time": "2021-08-24T23:30:07.889418",
     "exception": false,
     "start_time": "2021-08-24T23:30:07.823619",
     "status": "completed"
    },
    "tags": []
   },
   "outputs": [
    {
     "data": {
      "text/html": [
       "<div>\n",
       "<style scoped>\n",
       "    .dataframe tbody tr th:only-of-type {\n",
       "        vertical-align: middle;\n",
       "    }\n",
       "\n",
       "    .dataframe tbody tr th {\n",
       "        vertical-align: top;\n",
       "    }\n",
       "\n",
       "    .dataframe thead th {\n",
       "        text-align: right;\n",
       "    }\n",
       "</style>\n",
       "<table border=\"1\" class=\"dataframe\">\n",
       "  <thead>\n",
       "    <tr style=\"text-align: right;\">\n",
       "      <th></th>\n",
       "      <th>RECORD_TIME</th>\n",
       "    </tr>\n",
       "  </thead>\n",
       "  <tbody>\n",
       "    <tr>\n",
       "      <th>0</th>\n",
       "      <td>2021-08-25 01:30</td>\n",
       "    </tr>\n",
       "    <tr>\n",
       "      <th>1</th>\n",
       "      <td>2021-08-25 01:00</td>\n",
       "    </tr>\n",
       "  </tbody>\n",
       "</table>\n",
       "</div>"
      ],
      "text/plain": [
       "        RECORD_TIME\n",
       "0  2021-08-25 01:30\n",
       "1  2021-08-25 01:00"
      ]
     },
     "execution_count": 3,
     "metadata": {},
     "output_type": "execute_result"
    }
   ],
   "source": [
    "timestamps"
   ]
  },
  {
   "cell_type": "code",
   "execution_count": 4,
   "id": "alternate-victory",
   "metadata": {
    "execution": {
     "iopub.execute_input": "2021-08-24T23:30:07.941015Z",
     "iopub.status.busy": "2021-08-24T23:30:07.938982Z",
     "iopub.status.idle": "2021-08-24T23:30:08.123047Z",
     "shell.execute_reply": "2021-08-24T23:30:08.124196Z"
    },
    "papermill": {
     "duration": 0.214572,
     "end_time": "2021-08-24T23:30:08.124607",
     "exception": false,
     "start_time": "2021-08-24T23:30:07.910035",
     "status": "completed"
    },
    "tags": []
   },
   "outputs": [],
   "source": [
    "df = pd.read_sql(\"select * from EBAY_TOP_BERLIN where record_time in (select distinct record_time from EBAY_TOP_BERLIN order by record_time desc limit 2)\", sqlite3.connect(\"UsedObjects.db\"))"
   ]
  },
  {
   "cell_type": "code",
   "execution_count": 5,
   "id": "popular-active",
   "metadata": {
    "execution": {
     "iopub.execute_input": "2021-08-24T23:30:08.200504Z",
     "iopub.status.busy": "2021-08-24T23:30:08.186025Z",
     "iopub.status.idle": "2021-08-24T23:30:08.216245Z",
     "shell.execute_reply": "2021-08-24T23:30:08.217480Z"
    },
    "papermill": {
     "duration": 0.069873,
     "end_time": "2021-08-24T23:30:08.217877",
     "exception": false,
     "start_time": "2021-08-24T23:30:08.148004",
     "status": "completed"
    },
    "tags": []
   },
   "outputs": [],
   "source": [
    "df_pivot = df.pivot_table(index=\"PRODUCT\", columns = \"RECORD_TIME\", values = \"LISTING_COUNT\")"
   ]
  },
  {
   "cell_type": "code",
   "execution_count": 6,
   "id": "union-huntington",
   "metadata": {
    "execution": {
     "iopub.execute_input": "2021-08-24T23:30:08.286086Z",
     "iopub.status.busy": "2021-08-24T23:30:08.283639Z",
     "iopub.status.idle": "2021-08-24T23:30:08.289697Z",
     "shell.execute_reply": "2021-08-24T23:30:08.291331Z"
    },
    "papermill": {
     "duration": 0.045854,
     "end_time": "2021-08-24T23:30:08.291827",
     "exception": false,
     "start_time": "2021-08-24T23:30:08.245973",
     "status": "completed"
    },
    "tags": []
   },
   "outputs": [],
   "source": [
    "df_pivot.columns = [\"stamp_1\", \"stamp_2\"]\n",
    "df_pivot_diff = df_pivot.diff(axis=1)"
   ]
  },
  {
   "cell_type": "code",
   "execution_count": 7,
   "id": "fifth-motion",
   "metadata": {
    "execution": {
     "iopub.execute_input": "2021-08-24T23:30:08.345803Z",
     "iopub.status.busy": "2021-08-24T23:30:08.343523Z",
     "iopub.status.idle": "2021-08-24T23:30:09.826638Z",
     "shell.execute_reply": "2021-08-24T23:30:09.827955Z"
    },
    "papermill": {
     "duration": 1.515618,
     "end_time": "2021-08-24T23:30:09.828374",
     "exception": false,
     "start_time": "2021-08-24T23:30:08.312756",
     "status": "completed"
    },
    "tags": []
   },
   "outputs": [
    {
     "data": {
      "text/plain": [
       "<AxesSubplot:ylabel='PRODUCT'>"
      ]
     },
     "execution_count": 7,
     "metadata": {},
     "output_type": "execute_result"
    },
    {
     "data": {
      "image/png": "[encoded data removed]",
      "text/plain": [
       "<Figure size 432x288 with 1 Axes>"
      ]
     },
     "metadata": {
      "needs_background": "light"
     },
     "output_type": "display_data"
    }
   ],
   "source": [
    "df_pivot_diff.sort_values(\"stamp_2\", ascending = False)[\"stamp_2\"].head(10).plot.barh()"
   ]
  },
  {
   "cell_type": "code",
   "execution_count": null,
   "id": "extra-executive",
   "metadata": {
    "papermill": {
     "duration": 0.022189,
     "end_time": "2021-08-24T23:30:09.873602",
     "exception": false,
     "start_time": "2021-08-24T23:30:09.851413",
     "status": "completed"
    },
    "tags": []
   },
   "outputs": [],
   "source": []
  }
 ],
 "metadata": {
  "kernelspec": {
   "display_name": "Python 3",
   "language": "python",
   "name": "python3"
  },
  "language_info": {
   "codemirror_mode": {
    "name": "ipython",
    "version": 3
   },
   "file_extension": ".py",
   "mimetype": "text/x-python",
   "name": "python",
   "nbconvert_exporter": "python",
   "pygments_lexer": "ipython3",
   "version": "3.9.5"
  },
  "papermill": {
   "default_parameters": {},
   "duration": 6.828401,
   "end_time": "2021-08-24T23:30:11.184461",
   "environment_variables": {},
   "exception": null,
   "input_path": "eBay_Overview.ipynb",
   "output_path": "eBay_Overview.ipynb",
   "parameters": {},
   "start_time": "2021-08-24T23:30:04.356060",
   "version": "2.3.3"
  }
 },
 "nbformat": 4,
 "nbformat_minor": 5
}