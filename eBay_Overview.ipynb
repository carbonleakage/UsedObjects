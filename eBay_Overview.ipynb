{
 "cells": [
  {
   "cell_type": "code",
   "execution_count": 1,
   "id": "reverse-picking",
   "metadata": {
    "execution": {
     "iopub.execute_input": "2021-09-01T08:00:06.626105Z",
     "iopub.status.busy": "2021-09-01T08:00:06.624181Z",
     "iopub.status.idle": "2021-09-01T08:00:07.427781Z",
     "shell.execute_reply": "2021-09-01T08:00:07.429048Z"
    },
    "papermill": {
     "duration": 0.853951,
     "end_time": "2021-09-01T08:00:07.429673",
     "exception": false,
     "start_time": "2021-09-01T08:00:06.575722",
     "status": "completed"
    },
    "tags": []
   },
   "outputs": [],
   "source": [
    "import pandas as pd\n",
    "import sqlite3"
   ]
  },
  {
   "cell_type": "code",
   "execution_count": 2,
   "id": "innovative-syndrome",
   "metadata": {
    "execution": {
     "iopub.execute_input": "2021-09-01T08:00:07.480777Z",
     "iopub.status.busy": "2021-09-01T08:00:07.478852Z",
     "iopub.status.idle": "2021-09-01T08:00:07.657149Z",
     "shell.execute_reply": "2021-09-01T08:00:07.658357Z"
    },
    "papermill": {
     "duration": 0.207623,
     "end_time": "2021-09-01T08:00:07.658755",
     "exception": false,
     "start_time": "2021-09-01T08:00:07.451132",
     "status": "completed"
    },
    "tags": []
   },
   "outputs": [],
   "source": [
    "timestamps = pd.read_sql(\"select distinct record_time from EBAY_TOP_BERLIN order by record_time desc limit 2\", sqlite3.connect(\"UsedObjects.db\"))"
   ]
  },
  {
   "cell_type": "code",
   "execution_count": 3,
   "id": "periodic-identification",
   "metadata": {
    "execution": {
     "iopub.execute_input": "2021-09-01T08:00:07.721841Z",
     "iopub.status.busy": "2021-09-01T08:00:07.719822Z",
     "iopub.status.idle": "2021-09-01T08:00:07.739885Z",
     "shell.execute_reply": "2021-09-01T08:00:07.741091Z"
    },
    "papermill": {
     "duration": 0.06337,
     "end_time": "2021-09-01T08:00:07.741522",
     "exception": false,
     "start_time": "2021-09-01T08:00:07.678152",
     "status": "completed"
    },
    "tags": []
   },
   "outputs": [
    {
     "data": {
      "text/html": [
       "<div>\n",
       "<style scoped>\n",
       "    .dataframe tbody tr th:only-of-type {\n",
       "        vertical-align: middle;\n",
       "    }\n",
       "\n",
       "    .dataframe tbody tr th {\n",
       "        vertical-align: top;\n",
       "    }\n",
       "\n",
       "    .dataframe thead th {\n",
       "        text-align: right;\n",
       "    }\n",
       "</style>\n",
       "<table border=\"1\" class=\"dataframe\">\n",
       "  <thead>\n",
       "    <tr style=\"text-align: right;\">\n",
       "      <th></th>\n",
       "      <th>RECORD_TIME</th>\n",
       "    </tr>\n",
       "  </thead>\n",
       "  <tbody>\n",
       "    <tr>\n",
       "      <th>0</th>\n",
       "      <td>2021-09-01 10:00</td>\n",
       "    </tr>\n",
       "    <tr>\n",
       "      <th>1</th>\n",
       "      <td>2021-09-01 09:30</td>\n",
       "    </tr>\n",
       "  </tbody>\n",
       "</table>\n",
       "</div>"
      ],
      "text/plain": [
       "        RECORD_TIME\n",
       "0  2021-09-01 10:00\n",
       "1  2021-09-01 09:30"
      ]
     },
     "execution_count": 3,
     "metadata": {},
     "output_type": "execute_result"
    }
   ],
   "source": [
    "timestamps"
   ]
  },
  {
   "cell_type": "code",
   "execution_count": 4,
   "id": "alternate-victory",
   "metadata": {
    "execution": {
     "iopub.execute_input": "2021-09-01T08:00:07.795417Z",
     "iopub.status.busy": "2021-09-01T08:00:07.793033Z",
     "iopub.status.idle": "2021-09-01T08:00:08.059485Z",
     "shell.execute_reply": "2021-09-01T08:00:08.060722Z"
    },
    "papermill": {
     "duration": 0.296753,
     "end_time": "2021-09-01T08:00:08.061122",
     "exception": false,
     "start_time": "2021-09-01T08:00:07.764369",
     "status": "completed"
    },
    "tags": []
   },
   "outputs": [],
   "source": [
    "df = pd.read_sql(\"select * from EBAY_TOP_BERLIN where record_time in (select distinct record_time from EBAY_TOP_BERLIN order by record_time desc limit 2)\", sqlite3.connect(\"UsedObjects.db\"))"
   ]
  },
  {
   "cell_type": "code",
   "execution_count": 5,
   "id": "popular-active",
   "metadata": {
    "execution": {
     "iopub.execute_input": "2021-09-01T08:00:08.142765Z",
     "iopub.status.busy": "2021-09-01T08:00:08.130313Z",
     "iopub.status.idle": "2021-09-01T08:00:08.160516Z",
     "shell.execute_reply": "2021-09-01T08:00:08.161908Z"
    },
    "papermill": {
     "duration": 0.074123,
     "end_time": "2021-09-01T08:00:08.162349",
     "exception": false,
     "start_time": "2021-09-01T08:00:08.088226",
     "status": "completed"
    },
    "tags": []
   },
   "outputs": [],
   "source": [
    "df_pivot = df.pivot_table(index=\"PRODUCT\", columns = \"RECORD_TIME\", values = \"LISTING_COUNT\")"
   ]
  },
  {
   "cell_type": "code",
   "execution_count": 6,
   "id": "union-huntington",
   "metadata": {
    "execution": {
     "iopub.execute_input": "2021-09-01T08:00:08.218615Z",
     "iopub.status.busy": "2021-09-01T08:00:08.216562Z",
     "iopub.status.idle": "2021-09-01T08:00:08.222084Z",
     "shell.execute_reply": "2021-09-01T08:00:08.223444Z"
    },
    "papermill": {
     "duration": 0.041347,
     "end_time": "2021-09-01T08:00:08.223872",
     "exception": false,
     "start_time": "2021-09-01T08:00:08.182525",
     "status": "completed"
    },
    "tags": []
   },
   "outputs": [],
   "source": [
    "df_pivot.columns = [\"stamp_1\", \"stamp_2\"]\n",
    "df_pivot_diff = df_pivot.diff(axis=1)"
   ]
  },
  {
   "cell_type": "code",
   "execution_count": 7,
   "id": "fifth-motion",
   "metadata": {
    "execution": {
     "iopub.execute_input": "2021-09-01T08:00:08.277492Z",
     "iopub.status.busy": "2021-09-01T08:00:08.275146Z",
     "iopub.status.idle": "2021-09-01T08:00:09.756007Z",
     "shell.execute_reply": "2021-09-01T08:00:09.757298Z"
    },
    "papermill": {
     "duration": 1.513393,
     "end_time": "2021-09-01T08:00:09.757719",
     "exception": false,
     "start_time": "2021-09-01T08:00:08.244326",
     "status": "completed"
    },
    "tags": []
   },
   "outputs": [
    {
     "data": {
      "text/plain": [
       "<AxesSubplot:ylabel='PRODUCT'>"
      ]
     },
     "execution_count": 7,
     "metadata": {},
     "output_type": "execute_result"
    },
    {
     "data": {
      "image/png": "[encoded data removed]",
      "text/plain": [
       "<Figure size 432x288 with 1 Axes>"
      ]
     },
     "metadata": {
      "needs_background": "light"
     },
     "output_type": "display_data"
    }
   ],
   "source": [
    "df_pivot_diff.sort_values(\"stamp_2\", ascending = False)[\"stamp_2\"].head(10).plot.barh()"
   ]
  },
  {
   "cell_type": "code",
   "execution_count": null,
   "id": "extra-executive",
   "metadata": {
    "papermill": {
     "duration": 0.022286,
     "end_time": "2021-09-01T08:00:09.804029",
     "exception": false,
     "start_time": "2021-09-01T08:00:09.781743",
     "status": "completed"
    },
    "tags": []
   },
   "outputs": [],
   "source": []
  }
 ],
 "metadata": {
  "kernelspec": {
   "display_name": "Python 3",
   "language": "python",
   "name": "python3"
  },
  "language_info": {
   "codemirror_mode": {
    "name": "ipython",
    "version": 3
   },
   "file_extension": ".py",
   "mimetype": "text/x-python",
   "name": "python",
   "nbconvert_exporter": "python",
   "pygments_lexer": "ipython3",
   "version": "3.9.5"
  },
  "papermill": {
   "default_parameters": {},
   "duration": 6.823144,
   "end_time": "2021-09-01T08:00:10.993167",
   "environment_variables": {},
   "exception": null,
   "input_path": "eBay_Overview.ipynb",
   "output_path": "eBay_Overview.ipynb",
   "parameters": {},
   "start_time": "2021-09-01T08:00:04.170023",
   "version": "2.3.3"
  }
 },
 "nbformat": 4,
 "nbformat_minor": 5
}