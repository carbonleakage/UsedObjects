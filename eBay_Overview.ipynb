{
 "cells": [
  {
   "cell_type": "code",
   "execution_count": 1,
   "id": "reverse-picking",
   "metadata": {
    "execution": {
     "iopub.execute_input": "2021-11-22T16:00:08.411555Z",
     "iopub.status.busy": "2021-11-22T16:00:08.409174Z",
     "iopub.status.idle": "2021-11-22T16:00:09.360524Z",
     "shell.execute_reply": "2021-11-22T16:00:09.362113Z"
    },
    "papermill": {
     "duration": 1.001481,
     "end_time": "2021-11-22T16:00:09.362845",
     "exception": false,
     "start_time": "2021-11-22T16:00:08.361364",
     "status": "completed"
    },
    "tags": []
   },
   "outputs": [],
   "source": [
    "import pandas as pd\n",
    "import sqlite3"
   ]
  },
  {
   "cell_type": "code",
   "execution_count": 2,
   "id": "innovative-syndrome",
   "metadata": {
    "execution": {
     "iopub.execute_input": "2021-11-22T16:00:09.439716Z",
     "iopub.status.busy": "2021-11-22T16:00:09.436654Z",
     "iopub.status.idle": "2021-11-22T16:00:10.297500Z",
     "shell.execute_reply": "2021-11-22T16:00:10.298922Z"
    },
    "papermill": {
     "duration": 0.909198,
     "end_time": "2021-11-22T16:00:10.299468",
     "exception": false,
     "start_time": "2021-11-22T16:00:09.390270",
     "status": "completed"
    },
    "tags": []
   },
   "outputs": [],
   "source": [
    "timestamps = pd.read_sql(\"select distinct record_time from EBAY_TOP_BERLIN order by record_time desc limit 2\", sqlite3.connect(\"UsedObjects.db\"))"
   ]
  },
  {
   "cell_type": "code",
   "execution_count": 3,
   "id": "periodic-identification",
   "metadata": {
    "execution": {
     "iopub.execute_input": "2021-11-22T16:00:10.370350Z",
     "iopub.status.busy": "2021-11-22T16:00:10.365056Z",
     "iopub.status.idle": "2021-11-22T16:00:10.386038Z",
     "shell.execute_reply": "2021-11-22T16:00:10.387320Z"
    },
    "papermill": {
     "duration": 0.065872,
     "end_time": "2021-11-22T16:00:10.387767",
     "exception": false,
     "start_time": "2021-11-22T16:00:10.321895",
     "status": "completed"
    },
    "tags": []
   },
   "outputs": [
    {
     "data": {
      "text/html": [
       "<div>\n",
       "<style scoped>\n",
       "    .dataframe tbody tr th:only-of-type {\n",
       "        vertical-align: middle;\n",
       "    }\n",
       "\n",
       "    .dataframe tbody tr th {\n",
       "        vertical-align: top;\n",
       "    }\n",
       "\n",
       "    .dataframe thead th {\n",
       "        text-align: right;\n",
       "    }\n",
       "</style>\n",
       "<table border=\"1\" class=\"dataframe\">\n",
       "  <thead>\n",
       "    <tr style=\"text-align: right;\">\n",
       "      <th></th>\n",
       "      <th>RECORD_TIME</th>\n",
       "    </tr>\n",
       "  </thead>\n",
       "  <tbody>\n",
       "    <tr>\n",
       "      <th>0</th>\n",
       "      <td>2021-11-22 17:00</td>\n",
       "    </tr>\n",
       "    <tr>\n",
       "      <th>1</th>\n",
       "      <td>2021-11-22 16:30</td>\n",
       "    </tr>\n",
       "  </tbody>\n",
       "</table>\n",
       "</div>"
      ],
      "text/plain": [
       "        RECORD_TIME\n",
       "0  2021-11-22 17:00\n",
       "1  2021-11-22 16:30"
      ]
     },
     "execution_count": 3,
     "metadata": {},
     "output_type": "execute_result"
    }
   ],
   "source": [
    "timestamps"
   ]
  },
  {
   "cell_type": "code",
   "execution_count": 4,
   "id": "alternate-victory",
   "metadata": {
    "execution": {
     "iopub.execute_input": "2021-11-22T16:00:10.442156Z",
     "iopub.status.busy": "2021-11-22T16:00:10.439764Z",
     "iopub.status.idle": "2021-11-22T16:00:11.698192Z",
     "shell.execute_reply": "2021-11-22T16:00:11.699860Z"
    },
    "papermill": {
     "duration": 1.28919,
     "end_time": "2021-11-22T16:00:11.700404",
     "exception": false,
     "start_time": "2021-11-22T16:00:10.411214",
     "status": "completed"
    },
    "tags": []
   },
   "outputs": [],
   "source": [
    "df = pd.read_sql(\"select * from EBAY_TOP_BERLIN where record_time in (select distinct record_time from EBAY_TOP_BERLIN order by record_time desc limit 2)\", sqlite3.connect(\"UsedObjects.db\"))"
   ]
  },
  {
   "cell_type": "code",
   "execution_count": 5,
   "id": "popular-active",
   "metadata": {
    "execution": {
     "iopub.execute_input": "2021-11-22T16:00:11.777116Z",
     "iopub.status.busy": "2021-11-22T16:00:11.769200Z",
     "iopub.status.idle": "2021-11-22T16:00:11.796085Z",
     "shell.execute_reply": "2021-11-22T16:00:11.794650Z"
    },
    "papermill": {
     "duration": 0.074343,
     "end_time": "2021-11-22T16:00:11.796486",
     "exception": false,
     "start_time": "2021-11-22T16:00:11.722143",
     "status": "completed"
    },
    "tags": []
   },
   "outputs": [],
   "source": [
    "df_pivot = df.pivot_table(index=\"PRODUCT\", columns = \"RECORD_TIME\", values = \"LISTING_COUNT\")"
   ]
  },
  {
   "cell_type": "code",
   "execution_count": 6,
   "id": "union-huntington",
   "metadata": {
    "execution": {
     "iopub.execute_input": "2021-11-22T16:00:11.855388Z",
     "iopub.status.busy": "2021-11-22T16:00:11.852404Z",
     "iopub.status.idle": "2021-11-22T16:00:11.862681Z",
     "shell.execute_reply": "2021-11-22T16:00:11.864261Z"
    },
    "papermill": {
     "duration": 0.048575,
     "end_time": "2021-11-22T16:00:11.864895",
     "exception": false,
     "start_time": "2021-11-22T16:00:11.816320",
     "status": "completed"
    },
    "tags": []
   },
   "outputs": [],
   "source": [
    "df_pivot.columns = [\"stamp_1\", \"stamp_2\"]\n",
    "df_pivot_diff = df_pivot.diff(axis=1)"
   ]
  },
  {
   "cell_type": "code",
   "execution_count": 7,
   "id": "fifth-motion",
   "metadata": {
    "execution": {
     "iopub.execute_input": "2021-11-22T16:00:11.925922Z",
     "iopub.status.busy": "2021-11-22T16:00:11.922949Z",
     "iopub.status.idle": "2021-11-22T16:00:13.861921Z",
     "shell.execute_reply": "2021-11-22T16:00:13.864402Z"
    },
    "papermill": {
     "duration": 1.977046,
     "end_time": "2021-11-22T16:00:13.865082",
     "exception": false,
     "start_time": "2021-11-22T16:00:11.888036",
     "status": "completed"
    },
    "tags": []
   },
   "outputs": [
    {
     "data": {
      "text/plain": [
       "<AxesSubplot:ylabel='PRODUCT'>"
      ]
     },
     "execution_count": 7,
     "metadata": {},
     "output_type": "execute_result"
    },
    {
     "data": {
      "image/png": "[encoded data removed]",
      "text/plain": [
       "<Figure size 432x288 with 1 Axes>"
      ]
     },
     "metadata": {
      "needs_background": "light"
     },
     "output_type": "display_data"
    }
   ],
   "source": [
    "df_pivot_diff.sort_values(\"stamp_2\", ascending = False)[\"stamp_2\"].head(10).plot.barh()"
   ]
  },
  {
   "cell_type": "code",
   "execution_count": null,
   "id": "extra-executive",
   "metadata": {
    "papermill": {
     "duration": 0.027261,
     "end_time": "2021-11-22T16:00:13.926297",
     "exception": false,
     "start_time": "2021-11-22T16:00:13.899036",
     "status": "completed"
    },
    "tags": []
   },
   "outputs": [],
   "source": []
  }
 ],
 "metadata": {
  "kernelspec": {
   "display_name": "Python 3",
   "language": "python",
   "name": "python3"
  },
  "language_info": {
   "codemirror_mode": {
    "name": "ipython",
    "version": 3
   },
   "file_extension": ".py",
   "mimetype": "text/x-python",
   "name": "python",
   "nbconvert_exporter": "python",
   "pygments_lexer": "ipython3",
   "version": "3.9.5"
  },
  "papermill": {
   "default_parameters": {},
   "duration": 9.927462,
   "end_time": "2021-11-22T16:00:15.571362",
   "environment_variables": {},
   "exception": null,
   "input_path": "eBay_Overview.ipynb",
   "output_path": "eBay_Overview.ipynb",
   "parameters": {},
   "start_time": "2021-11-22T16:00:05.643900",
   "version": "2.3.3"
  }
 },
 "nbformat": 4,
 "nbformat_minor": 5
}