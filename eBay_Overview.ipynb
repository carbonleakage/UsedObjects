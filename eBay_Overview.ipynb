{
 "cells": [
  {
   "cell_type": "code",
   "execution_count": 1,
   "id": "reverse-picking",
   "metadata": {
    "execution": {
     "iopub.execute_input": "2021-09-14T01:00:06.798852Z",
     "iopub.status.busy": "2021-09-14T01:00:06.796915Z",
     "iopub.status.idle": "2021-09-14T01:00:07.598244Z",
     "shell.execute_reply": "2021-09-14T01:00:07.599850Z"
    },
    "papermill": {
     "duration": 0.853439,
     "end_time": "2021-09-14T01:00:07.600534",
     "exception": false,
     "start_time": "2021-09-14T01:00:06.747095",
     "status": "completed"
    },
    "tags": []
   },
   "outputs": [],
   "source": [
    "import pandas as pd\n",
    "import sqlite3"
   ]
  },
  {
   "cell_type": "code",
   "execution_count": 2,
   "id": "innovative-syndrome",
   "metadata": {
    "execution": {
     "iopub.execute_input": "2021-09-14T01:00:07.651882Z",
     "iopub.status.busy": "2021-09-14T01:00:07.649483Z",
     "iopub.status.idle": "2021-09-14T01:00:07.937066Z",
     "shell.execute_reply": "2021-09-14T01:00:07.938420Z"
    },
    "papermill": {
     "duration": 0.317654,
     "end_time": "2021-09-14T01:00:07.938913",
     "exception": false,
     "start_time": "2021-09-14T01:00:07.621259",
     "status": "completed"
    },
    "tags": []
   },
   "outputs": [],
   "source": [
    "timestamps = pd.read_sql(\"select distinct record_time from EBAY_TOP_BERLIN order by record_time desc limit 2\", sqlite3.connect(\"UsedObjects.db\"))"
   ]
  },
  {
   "cell_type": "code",
   "execution_count": 3,
   "id": "periodic-identification",
   "metadata": {
    "execution": {
     "iopub.execute_input": "2021-09-14T01:00:08.004469Z",
     "iopub.status.busy": "2021-09-14T01:00:08.002362Z",
     "iopub.status.idle": "2021-09-14T01:00:08.024575Z",
     "shell.execute_reply": "2021-09-14T01:00:08.025799Z"
    },
    "papermill": {
     "duration": 0.06691,
     "end_time": "2021-09-14T01:00:08.026196",
     "exception": false,
     "start_time": "2021-09-14T01:00:07.959286",
     "status": "completed"
    },
    "tags": []
   },
   "outputs": [
    {
     "data": {
      "text/html": [
       "<div>\n",
       "<style scoped>\n",
       "    .dataframe tbody tr th:only-of-type {\n",
       "        vertical-align: middle;\n",
       "    }\n",
       "\n",
       "    .dataframe tbody tr th {\n",
       "        vertical-align: top;\n",
       "    }\n",
       "\n",
       "    .dataframe thead th {\n",
       "        text-align: right;\n",
       "    }\n",
       "</style>\n",
       "<table border=\"1\" class=\"dataframe\">\n",
       "  <thead>\n",
       "    <tr style=\"text-align: right;\">\n",
       "      <th></th>\n",
       "      <th>RECORD_TIME</th>\n",
       "    </tr>\n",
       "  </thead>\n",
       "  <tbody>\n",
       "    <tr>\n",
       "      <th>0</th>\n",
       "      <td>2021-09-14 03:00</td>\n",
       "    </tr>\n",
       "    <tr>\n",
       "      <th>1</th>\n",
       "      <td>2021-09-14 02:30</td>\n",
       "    </tr>\n",
       "  </tbody>\n",
       "</table>\n",
       "</div>"
      ],
      "text/plain": [
       "        RECORD_TIME\n",
       "0  2021-09-14 03:00\n",
       "1  2021-09-14 02:30"
      ]
     },
     "execution_count": 3,
     "metadata": {},
     "output_type": "execute_result"
    }
   ],
   "source": [
    "timestamps"
   ]
  },
  {
   "cell_type": "code",
   "execution_count": 4,
   "id": "alternate-victory",
   "metadata": {
    "execution": {
     "iopub.execute_input": "2021-09-14T01:00:08.079020Z",
     "iopub.status.busy": "2021-09-14T01:00:08.076665Z",
     "iopub.status.idle": "2021-09-14T01:00:08.506498Z",
     "shell.execute_reply": "2021-09-14T01:00:08.507955Z"
    },
    "papermill": {
     "duration": 0.460457,
     "end_time": "2021-09-14T01:00:08.508370",
     "exception": false,
     "start_time": "2021-09-14T01:00:08.047913",
     "status": "completed"
    },
    "tags": []
   },
   "outputs": [],
   "source": [
    "df = pd.read_sql(\"select * from EBAY_TOP_BERLIN where record_time in (select distinct record_time from EBAY_TOP_BERLIN order by record_time desc limit 2)\", sqlite3.connect(\"UsedObjects.db\"))"
   ]
  },
  {
   "cell_type": "code",
   "execution_count": 5,
   "id": "popular-active",
   "metadata": {
    "execution": {
     "iopub.execute_input": "2021-09-14T01:00:08.588364Z",
     "iopub.status.busy": "2021-09-14T01:00:08.576091Z",
     "iopub.status.idle": "2021-09-14T01:00:08.604028Z",
     "shell.execute_reply": "2021-09-14T01:00:08.605319Z"
    },
    "papermill": {
     "duration": 0.071055,
     "end_time": "2021-09-14T01:00:08.605734",
     "exception": false,
     "start_time": "2021-09-14T01:00:08.534679",
     "status": "completed"
    },
    "tags": []
   },
   "outputs": [],
   "source": [
    "df_pivot = df.pivot_table(index=\"PRODUCT\", columns = \"RECORD_TIME\", values = \"LISTING_COUNT\")"
   ]
  },
  {
   "cell_type": "code",
   "execution_count": 6,
   "id": "union-huntington",
   "metadata": {
    "execution": {
     "iopub.execute_input": "2021-09-14T01:00:08.662289Z",
     "iopub.status.busy": "2021-09-14T01:00:08.660135Z",
     "iopub.status.idle": "2021-09-14T01:00:08.665693Z",
     "shell.execute_reply": "2021-09-14T01:00:08.667267Z"
    },
    "papermill": {
     "duration": 0.040966,
     "end_time": "2021-09-14T01:00:08.667747",
     "exception": false,
     "start_time": "2021-09-14T01:00:08.626781",
     "status": "completed"
    },
    "tags": []
   },
   "outputs": [],
   "source": [
    "df_pivot.columns = [\"stamp_1\", \"stamp_2\"]\n",
    "df_pivot_diff = df_pivot.diff(axis=1)"
   ]
  },
  {
   "cell_type": "code",
   "execution_count": 7,
   "id": "fifth-motion",
   "metadata": {
    "execution": {
     "iopub.execute_input": "2021-09-14T01:00:08.722422Z",
     "iopub.status.busy": "2021-09-14T01:00:08.719780Z",
     "iopub.status.idle": "2021-09-14T01:00:10.198790Z",
     "shell.execute_reply": "2021-09-14T01:00:10.200241Z"
    },
    "papermill": {
     "duration": 1.512663,
     "end_time": "2021-09-14T01:00:10.200689",
     "exception": false,
     "start_time": "2021-09-14T01:00:08.688026",
     "status": "completed"
    },
    "tags": []
   },
   "outputs": [
    {
     "data": {
      "text/plain": [
       "<AxesSubplot:ylabel='PRODUCT'>"
      ]
     },
     "execution_count": 7,
     "metadata": {},
     "output_type": "execute_result"
    },
    {
     "data": {
      "image/png": "[encoded data removed]",
      "text/plain": [
       "<Figure size 432x288 with 1 Axes>"
      ]
     },
     "metadata": {
      "needs_background": "light"
     },
     "output_type": "display_data"
    }
   ],
   "source": [
    "df_pivot_diff.sort_values(\"stamp_2\", ascending = False)[\"stamp_2\"].head(10).plot.barh()"
   ]
  },
  {
   "cell_type": "code",
   "execution_count": null,
   "id": "extra-executive",
   "metadata": {
    "papermill": {
     "duration": 0.02211,
     "end_time": "2021-09-14T01:00:10.246400",
     "exception": false,
     "start_time": "2021-09-14T01:00:10.224290",
     "status": "completed"
    },
    "tags": []
   },
   "outputs": [],
   "source": []
  }
 ],
 "metadata": {
  "kernelspec": {
   "display_name": "Python 3",
   "language": "python",
   "name": "python3"
  },
  "language_info": {
   "codemirror_mode": {
    "name": "ipython",
    "version": 3
   },
   "file_extension": ".py",
   "mimetype": "text/x-python",
   "name": "python",
   "nbconvert_exporter": "python",
   "pygments_lexer": "ipython3",
   "version": "3.9.5"
  },
  "papermill": {
   "default_parameters": {},
   "duration": 6.547472,
   "end_time": "2021-09-14T01:00:10.888790",
   "environment_variables": {},
   "exception": null,
   "input_path": "eBay_Overview.ipynb",
   "output_path": "eBay_Overview.ipynb",
   "parameters": {},
   "start_time": "2021-09-14T01:00:04.341318",
   "version": "2.3.3"
  }
 },
 "nbformat": 4,
 "nbformat_minor": 5
}