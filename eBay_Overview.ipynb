{
 "cells": [
  {
   "cell_type": "code",
   "execution_count": 1,
   "id": "reverse-picking",
   "metadata": {
    "execution": {
     "iopub.execute_input": "2021-11-14T09:30:07.868461Z",
     "iopub.status.busy": "2021-11-14T09:30:07.866108Z",
     "iopub.status.idle": "2021-11-14T09:30:08.819690Z",
     "shell.execute_reply": "2021-11-14T09:30:08.817204Z"
    },
    "papermill": {
     "duration": 1.002336,
     "end_time": "2021-11-14T09:30:08.820200",
     "exception": false,
     "start_time": "2021-11-14T09:30:07.817864",
     "status": "completed"
    },
    "tags": []
   },
   "outputs": [],
   "source": [
    "import pandas as pd\n",
    "import sqlite3"
   ]
  },
  {
   "cell_type": "code",
   "execution_count": 2,
   "id": "innovative-syndrome",
   "metadata": {
    "execution": {
     "iopub.execute_input": "2021-11-14T09:30:08.886481Z",
     "iopub.status.busy": "2021-11-14T09:30:08.882465Z",
     "iopub.status.idle": "2021-11-14T09:30:09.678257Z",
     "shell.execute_reply": "2021-11-14T09:30:09.679700Z"
    },
    "papermill": {
     "duration": 0.838373,
     "end_time": "2021-11-14T09:30:09.680192",
     "exception": false,
     "start_time": "2021-11-14T09:30:08.841819",
     "status": "completed"
    },
    "tags": []
   },
   "outputs": [],
   "source": [
    "timestamps = pd.read_sql(\"select distinct record_time from EBAY_TOP_BERLIN order by record_time desc limit 2\", sqlite3.connect(\"UsedObjects.db\"))"
   ]
  },
  {
   "cell_type": "code",
   "execution_count": 3,
   "id": "periodic-identification",
   "metadata": {
    "execution": {
     "iopub.execute_input": "2021-11-14T09:30:09.752121Z",
     "iopub.status.busy": "2021-11-14T09:30:09.749736Z",
     "iopub.status.idle": "2021-11-14T09:30:09.776284Z",
     "shell.execute_reply": "2021-11-14T09:30:09.774158Z"
    },
    "papermill": {
     "duration": 0.076654,
     "end_time": "2021-11-14T09:30:09.777061",
     "exception": false,
     "start_time": "2021-11-14T09:30:09.700407",
     "status": "completed"
    },
    "tags": []
   },
   "outputs": [
    {
     "data": {
      "text/html": [
       "<div>\n",
       "<style scoped>\n",
       "    .dataframe tbody tr th:only-of-type {\n",
       "        vertical-align: middle;\n",
       "    }\n",
       "\n",
       "    .dataframe tbody tr th {\n",
       "        vertical-align: top;\n",
       "    }\n",
       "\n",
       "    .dataframe thead th {\n",
       "        text-align: right;\n",
       "    }\n",
       "</style>\n",
       "<table border=\"1\" class=\"dataframe\">\n",
       "  <thead>\n",
       "    <tr style=\"text-align: right;\">\n",
       "      <th></th>\n",
       "      <th>RECORD_TIME</th>\n",
       "    </tr>\n",
       "  </thead>\n",
       "  <tbody>\n",
       "    <tr>\n",
       "      <th>0</th>\n",
       "      <td>2021-11-14 10:30</td>\n",
       "    </tr>\n",
       "    <tr>\n",
       "      <th>1</th>\n",
       "      <td>2021-11-14 10:00</td>\n",
       "    </tr>\n",
       "  </tbody>\n",
       "</table>\n",
       "</div>"
      ],
      "text/plain": [
       "        RECORD_TIME\n",
       "0  2021-11-14 10:30\n",
       "1  2021-11-14 10:00"
      ]
     },
     "execution_count": 3,
     "metadata": {},
     "output_type": "execute_result"
    }
   ],
   "source": [
    "timestamps"
   ]
  },
  {
   "cell_type": "code",
   "execution_count": 4,
   "id": "alternate-victory",
   "metadata": {
    "execution": {
     "iopub.execute_input": "2021-11-14T09:30:09.829393Z",
     "iopub.status.busy": "2021-11-14T09:30:09.827258Z",
     "iopub.status.idle": "2021-11-14T09:30:10.983170Z",
     "shell.execute_reply": "2021-11-14T09:30:10.984433Z"
    },
    "papermill": {
     "duration": 1.186015,
     "end_time": "2021-11-14T09:30:10.984949",
     "exception": false,
     "start_time": "2021-11-14T09:30:09.798934",
     "status": "completed"
    },
    "tags": []
   },
   "outputs": [],
   "source": [
    "df = pd.read_sql(\"select * from EBAY_TOP_BERLIN where record_time in (select distinct record_time from EBAY_TOP_BERLIN order by record_time desc limit 2)\", sqlite3.connect(\"UsedObjects.db\"))"
   ]
  },
  {
   "cell_type": "code",
   "execution_count": 5,
   "id": "popular-active",
   "metadata": {
    "execution": {
     "iopub.execute_input": "2021-11-14T09:30:11.060645Z",
     "iopub.status.busy": "2021-11-14T09:30:11.046384Z",
     "iopub.status.idle": "2021-11-14T09:30:11.078781Z",
     "shell.execute_reply": "2021-11-14T09:30:11.080263Z"
    },
    "papermill": {
     "duration": 0.07472,
     "end_time": "2021-11-14T09:30:11.080873",
     "exception": false,
     "start_time": "2021-11-14T09:30:11.006153",
     "status": "completed"
    },
    "tags": []
   },
   "outputs": [],
   "source": [
    "df_pivot = df.pivot_table(index=\"PRODUCT\", columns = \"RECORD_TIME\", values = \"LISTING_COUNT\")"
   ]
  },
  {
   "cell_type": "code",
   "execution_count": 6,
   "id": "union-huntington",
   "metadata": {
    "execution": {
     "iopub.execute_input": "2021-11-14T09:30:11.143663Z",
     "iopub.status.busy": "2021-11-14T09:30:11.141273Z",
     "iopub.status.idle": "2021-11-14T09:30:11.147289Z",
     "shell.execute_reply": "2021-11-14T09:30:11.148994Z"
    },
    "papermill": {
     "duration": 0.047256,
     "end_time": "2021-11-14T09:30:11.149498",
     "exception": false,
     "start_time": "2021-11-14T09:30:11.102242",
     "status": "completed"
    },
    "tags": []
   },
   "outputs": [],
   "source": [
    "df_pivot.columns = [\"stamp_1\", \"stamp_2\"]\n",
    "df_pivot_diff = df_pivot.diff(axis=1)"
   ]
  },
  {
   "cell_type": "code",
   "execution_count": 7,
   "id": "fifth-motion",
   "metadata": {
    "execution": {
     "iopub.execute_input": "2021-11-14T09:30:11.210855Z",
     "iopub.status.busy": "2021-11-14T09:30:11.206824Z",
     "iopub.status.idle": "2021-11-14T09:30:13.108677Z",
     "shell.execute_reply": "2021-11-14T09:30:13.110128Z"
    },
    "papermill": {
     "duration": 1.939616,
     "end_time": "2021-11-14T09:30:13.110605",
     "exception": false,
     "start_time": "2021-11-14T09:30:11.170989",
     "status": "completed"
    },
    "tags": []
   },
   "outputs": [
    {
     "data": {
      "text/plain": [
       "<AxesSubplot:ylabel='PRODUCT'>"
      ]
     },
     "execution_count": 7,
     "metadata": {},
     "output_type": "execute_result"
    },
    {
     "data": {
      "image/png": "[encoded data removed]",
      "text/plain": [
       "<Figure size 432x288 with 1 Axes>"
      ]
     },
     "metadata": {
      "needs_background": "light"
     },
     "output_type": "display_data"
    }
   ],
   "source": [
    "df_pivot_diff.sort_values(\"stamp_2\", ascending = False)[\"stamp_2\"].head(10).plot.barh()"
   ]
  },
  {
   "cell_type": "code",
   "execution_count": null,
   "id": "extra-executive",
   "metadata": {
    "papermill": {
     "duration": 0.02336,
     "end_time": "2021-11-14T09:30:13.157833",
     "exception": false,
     "start_time": "2021-11-14T09:30:13.134473",
     "status": "completed"
    },
    "tags": []
   },
   "outputs": [],
   "source": []
  }
 ],
 "metadata": {
  "kernelspec": {
   "display_name": "Python 3",
   "language": "python",
   "name": "python3"
  },
  "language_info": {
   "codemirror_mode": {
    "name": "ipython",
    "version": 3
   },
   "file_extension": ".py",
   "mimetype": "text/x-python",
   "name": "python",
   "nbconvert_exporter": "python",
   "pygments_lexer": "ipython3",
   "version": "3.9.5"
  },
  "papermill": {
   "default_parameters": {},
   "duration": 9.942244,
   "end_time": "2021-11-14T09:30:15.009329",
   "environment_variables": {},
   "exception": null,
   "input_path": "eBay_Overview.ipynb",
   "output_path": "eBay_Overview.ipynb",
   "parameters": {},
   "start_time": "2021-11-14T09:30:05.067085",
   "version": "2.3.3"
  }
 },
 "nbformat": 4,
 "nbformat_minor": 5
}