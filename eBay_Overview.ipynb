{
 "cells": [
  {
   "cell_type": "code",
   "execution_count": 1,
   "id": "reverse-picking",
   "metadata": {
    "execution": {
     "iopub.execute_input": "2021-10-13T20:00:07.166334Z",
     "iopub.status.busy": "2021-10-13T20:00:07.164313Z",
     "iopub.status.idle": "2021-10-13T20:00:07.965431Z",
     "shell.execute_reply": "2021-10-13T20:00:07.966908Z"
    },
    "papermill": {
     "duration": 0.853771,
     "end_time": "2021-10-13T20:00:07.967580",
     "exception": false,
     "start_time": "2021-10-13T20:00:07.113809",
     "status": "completed"
    },
    "tags": []
   },
   "outputs": [],
   "source": [
    "import pandas as pd\n",
    "import sqlite3"
   ]
  },
  {
   "cell_type": "code",
   "execution_count": 2,
   "id": "innovative-syndrome",
   "metadata": {
    "execution": {
     "iopub.execute_input": "2021-10-13T20:00:08.018421Z",
     "iopub.status.busy": "2021-10-13T20:00:08.015978Z",
     "iopub.status.idle": "2021-10-13T20:00:08.560917Z",
     "shell.execute_reply": "2021-10-13T20:00:08.562163Z"
    },
    "papermill": {
     "duration": 0.574676,
     "end_time": "2021-10-13T20:00:08.562557",
     "exception": false,
     "start_time": "2021-10-13T20:00:07.987881",
     "status": "completed"
    },
    "tags": []
   },
   "outputs": [],
   "source": [
    "timestamps = pd.read_sql(\"select distinct record_time from EBAY_TOP_BERLIN order by record_time desc limit 2\", sqlite3.connect(\"UsedObjects.db\"))"
   ]
  },
  {
   "cell_type": "code",
   "execution_count": 3,
   "id": "periodic-identification",
   "metadata": {
    "execution": {
     "iopub.execute_input": "2021-10-13T20:00:08.642309Z",
     "iopub.status.busy": "2021-10-13T20:00:08.640199Z",
     "iopub.status.idle": "2021-10-13T20:00:08.659975Z",
     "shell.execute_reply": "2021-10-13T20:00:08.661424Z"
    },
    "papermill": {
     "duration": 0.076916,
     "end_time": "2021-10-13T20:00:08.661880",
     "exception": false,
     "start_time": "2021-10-13T20:00:08.584964",
     "status": "completed"
    },
    "tags": []
   },
   "outputs": [
    {
     "data": {
      "text/html": [
       "<div>\n",
       "<style scoped>\n",
       "    .dataframe tbody tr th:only-of-type {\n",
       "        vertical-align: middle;\n",
       "    }\n",
       "\n",
       "    .dataframe tbody tr th {\n",
       "        vertical-align: top;\n",
       "    }\n",
       "\n",
       "    .dataframe thead th {\n",
       "        text-align: right;\n",
       "    }\n",
       "</style>\n",
       "<table border=\"1\" class=\"dataframe\">\n",
       "  <thead>\n",
       "    <tr style=\"text-align: right;\">\n",
       "      <th></th>\n",
       "      <th>RECORD_TIME</th>\n",
       "    </tr>\n",
       "  </thead>\n",
       "  <tbody>\n",
       "    <tr>\n",
       "      <th>0</th>\n",
       "      <td>2021-10-13 22:00</td>\n",
       "    </tr>\n",
       "    <tr>\n",
       "      <th>1</th>\n",
       "      <td>2021-10-13 21:30</td>\n",
       "    </tr>\n",
       "  </tbody>\n",
       "</table>\n",
       "</div>"
      ],
      "text/plain": [
       "        RECORD_TIME\n",
       "0  2021-10-13 22:00\n",
       "1  2021-10-13 21:30"
      ]
     },
     "execution_count": 3,
     "metadata": {},
     "output_type": "execute_result"
    }
   ],
   "source": [
    "timestamps"
   ]
  },
  {
   "cell_type": "code",
   "execution_count": 4,
   "id": "alternate-victory",
   "metadata": {
    "execution": {
     "iopub.execute_input": "2021-10-13T20:00:08.713449Z",
     "iopub.status.busy": "2021-10-13T20:00:08.711337Z",
     "iopub.status.idle": "2021-10-13T20:00:09.507084Z",
     "shell.execute_reply": "2021-10-13T20:00:09.508364Z"
    },
    "papermill": {
     "duration": 0.825699,
     "end_time": "2021-10-13T20:00:09.508867",
     "exception": false,
     "start_time": "2021-10-13T20:00:08.683168",
     "status": "completed"
    },
    "tags": []
   },
   "outputs": [],
   "source": [
    "df = pd.read_sql(\"select * from EBAY_TOP_BERLIN where record_time in (select distinct record_time from EBAY_TOP_BERLIN order by record_time desc limit 2)\", sqlite3.connect(\"UsedObjects.db\"))"
   ]
  },
  {
   "cell_type": "code",
   "execution_count": 5,
   "id": "popular-active",
   "metadata": {
    "execution": {
     "iopub.execute_input": "2021-10-13T20:00:09.579564Z",
     "iopub.status.busy": "2021-10-13T20:00:09.572085Z",
     "iopub.status.idle": "2021-10-13T20:00:09.595039Z",
     "shell.execute_reply": "2021-10-13T20:00:09.596260Z"
    },
    "papermill": {
     "duration": 0.06736,
     "end_time": "2021-10-13T20:00:09.596661",
     "exception": false,
     "start_time": "2021-10-13T20:00:09.529301",
     "status": "completed"
    },
    "tags": []
   },
   "outputs": [],
   "source": [
    "df_pivot = df.pivot_table(index=\"PRODUCT\", columns = \"RECORD_TIME\", values = \"LISTING_COUNT\")"
   ]
  },
  {
   "cell_type": "code",
   "execution_count": 6,
   "id": "union-huntington",
   "metadata": {
    "execution": {
     "iopub.execute_input": "2021-10-13T20:00:09.656120Z",
     "iopub.status.busy": "2021-10-13T20:00:09.653694Z",
     "iopub.status.idle": "2021-10-13T20:00:09.659493Z",
     "shell.execute_reply": "2021-10-13T20:00:09.660728Z"
    },
    "papermill": {
     "duration": 0.042161,
     "end_time": "2021-10-13T20:00:09.661159",
     "exception": false,
     "start_time": "2021-10-13T20:00:09.618998",
     "status": "completed"
    },
    "tags": []
   },
   "outputs": [],
   "source": [
    "df_pivot.columns = [\"stamp_1\", \"stamp_2\"]\n",
    "df_pivot_diff = df_pivot.diff(axis=1)"
   ]
  },
  {
   "cell_type": "code",
   "execution_count": 7,
   "id": "fifth-motion",
   "metadata": {
    "execution": {
     "iopub.execute_input": "2021-10-13T20:00:09.715668Z",
     "iopub.status.busy": "2021-10-13T20:00:09.713404Z",
     "iopub.status.idle": "2021-10-13T20:00:11.189330Z",
     "shell.execute_reply": "2021-10-13T20:00:11.190645Z"
    },
    "papermill": {
     "duration": 1.50919,
     "end_time": "2021-10-13T20:00:11.191061",
     "exception": false,
     "start_time": "2021-10-13T20:00:09.681871",
     "status": "completed"
    },
    "tags": []
   },
   "outputs": [
    {
     "data": {
      "text/plain": [
       "<AxesSubplot:ylabel='PRODUCT'>"
      ]
     },
     "execution_count": 7,
     "metadata": {},
     "output_type": "execute_result"
    },
    {
     "data": {
      "image/png": "[encoded data removed]",
      "text/plain": [
       "<Figure size 432x288 with 1 Axes>"
      ]
     },
     "metadata": {
      "needs_background": "light"
     },
     "output_type": "display_data"
    }
   ],
   "source": [
    "df_pivot_diff.sort_values(\"stamp_2\", ascending = False)[\"stamp_2\"].head(10).plot.barh()"
   ]
  },
  {
   "cell_type": "code",
   "execution_count": null,
   "id": "extra-executive",
   "metadata": {
    "papermill": {
     "duration": 0.022333,
     "end_time": "2021-10-13T20:00:11.237383",
     "exception": false,
     "start_time": "2021-10-13T20:00:11.215050",
     "status": "completed"
    },
    "tags": []
   },
   "outputs": [],
   "source": []
  }
 ],
 "metadata": {
  "kernelspec": {
   "display_name": "Python 3",
   "language": "python",
   "name": "python3"
  },
  "language_info": {
   "codemirror_mode": {
    "name": "ipython",
    "version": 3
   },
   "file_extension": ".py",
   "mimetype": "text/x-python",
   "name": "python",
   "nbconvert_exporter": "python",
   "pygments_lexer": "ipython3",
   "version": "3.9.5"
  },
  "papermill": {
   "default_parameters": {},
   "duration": 7.817579,
   "end_time": "2021-10-13T20:00:12.532507",
   "environment_variables": {},
   "exception": null,
   "input_path": "eBay_Overview.ipynb",
   "output_path": "eBay_Overview.ipynb",
   "parameters": {},
   "start_time": "2021-10-13T20:00:04.714928",
   "version": "2.3.3"
  }
 },
 "nbformat": 4,
 "nbformat_minor": 5
}