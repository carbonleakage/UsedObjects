{
 "cells": [
  {
   "cell_type": "code",
   "execution_count": 1,
   "id": "reverse-picking",
   "metadata": {
    "execution": {
     "iopub.execute_input": "2021-12-02T00:30:07.800906Z",
     "iopub.status.busy": "2021-12-02T00:30:07.798114Z",
     "iopub.status.idle": "2021-12-02T00:30:08.750825Z",
     "shell.execute_reply": "2021-12-02T00:30:08.752635Z"
    },
    "papermill": {
     "duration": 1.003224,
     "end_time": "2021-12-02T00:30:08.753533",
     "exception": false,
     "start_time": "2021-12-02T00:30:07.750309",
     "status": "completed"
    },
    "tags": []
   },
   "outputs": [],
   "source": [
    "import pandas as pd\n",
    "import sqlite3"
   ]
  },
  {
   "cell_type": "code",
   "execution_count": 2,
   "id": "innovative-syndrome",
   "metadata": {
    "execution": {
     "iopub.execute_input": "2021-12-02T00:30:08.833422Z",
     "iopub.status.busy": "2021-12-02T00:30:08.831036Z",
     "iopub.status.idle": "2021-12-02T00:30:09.827740Z",
     "shell.execute_reply": "2021-12-02T00:30:09.828979Z"
    },
    "papermill": {
     "duration": 1.035815,
     "end_time": "2021-12-02T00:30:09.829411",
     "exception": false,
     "start_time": "2021-12-02T00:30:08.793596",
     "status": "completed"
    },
    "tags": []
   },
   "outputs": [],
   "source": [
    "timestamps = pd.read_sql(\"select distinct record_time from EBAY_TOP_BERLIN order by record_time desc limit 2\", sqlite3.connect(\"UsedObjects.db\"))"
   ]
  },
  {
   "cell_type": "code",
   "execution_count": 3,
   "id": "periodic-identification",
   "metadata": {
    "execution": {
     "iopub.execute_input": "2021-12-02T00:30:09.895691Z",
     "iopub.status.busy": "2021-12-02T00:30:09.893320Z",
     "iopub.status.idle": "2021-12-02T00:30:09.915457Z",
     "shell.execute_reply": "2021-12-02T00:30:09.916942Z"
    },
    "papermill": {
     "duration": 0.06724,
     "end_time": "2021-12-02T00:30:09.917437",
     "exception": false,
     "start_time": "2021-12-02T00:30:09.850197",
     "status": "completed"
    },
    "tags": []
   },
   "outputs": [
    {
     "data": {
      "text/html": [
       "<div>\n",
       "<style scoped>\n",
       "    .dataframe tbody tr th:only-of-type {\n",
       "        vertical-align: middle;\n",
       "    }\n",
       "\n",
       "    .dataframe tbody tr th {\n",
       "        vertical-align: top;\n",
       "    }\n",
       "\n",
       "    .dataframe thead th {\n",
       "        text-align: right;\n",
       "    }\n",
       "</style>\n",
       "<table border=\"1\" class=\"dataframe\">\n",
       "  <thead>\n",
       "    <tr style=\"text-align: right;\">\n",
       "      <th></th>\n",
       "      <th>RECORD_TIME</th>\n",
       "    </tr>\n",
       "  </thead>\n",
       "  <tbody>\n",
       "    <tr>\n",
       "      <th>0</th>\n",
       "      <td>2021-12-02 01:30</td>\n",
       "    </tr>\n",
       "    <tr>\n",
       "      <th>1</th>\n",
       "      <td>2021-12-02 01:00</td>\n",
       "    </tr>\n",
       "  </tbody>\n",
       "</table>\n",
       "</div>"
      ],
      "text/plain": [
       "        RECORD_TIME\n",
       "0  2021-12-02 01:30\n",
       "1  2021-12-02 01:00"
      ]
     },
     "execution_count": 3,
     "metadata": {},
     "output_type": "execute_result"
    }
   ],
   "source": [
    "timestamps"
   ]
  },
  {
   "cell_type": "code",
   "execution_count": 4,
   "id": "alternate-victory",
   "metadata": {
    "execution": {
     "iopub.execute_input": "2021-12-02T00:30:09.972430Z",
     "iopub.status.busy": "2021-12-02T00:30:09.970141Z",
     "iopub.status.idle": "2021-12-02T00:30:11.374862Z",
     "shell.execute_reply": "2021-12-02T00:30:11.377045Z"
    },
    "papermill": {
     "duration": 1.439769,
     "end_time": "2021-12-02T00:30:11.377527",
     "exception": false,
     "start_time": "2021-12-02T00:30:09.937758",
     "status": "completed"
    },
    "tags": []
   },
   "outputs": [],
   "source": [
    "df = pd.read_sql(\"select * from EBAY_TOP_BERLIN where record_time in (select distinct record_time from EBAY_TOP_BERLIN order by record_time desc limit 2)\", sqlite3.connect(\"UsedObjects.db\"))"
   ]
  },
  {
   "cell_type": "code",
   "execution_count": 5,
   "id": "popular-active",
   "metadata": {
    "execution": {
     "iopub.execute_input": "2021-12-02T00:30:11.451522Z",
     "iopub.status.busy": "2021-12-02T00:30:11.438979Z",
     "iopub.status.idle": "2021-12-02T00:30:11.470011Z",
     "shell.execute_reply": "2021-12-02T00:30:11.471399Z"
    },
    "papermill": {
     "duration": 0.073872,
     "end_time": "2021-12-02T00:30:11.471872",
     "exception": false,
     "start_time": "2021-12-02T00:30:11.398000",
     "status": "completed"
    },
    "tags": []
   },
   "outputs": [],
   "source": [
    "df_pivot = df.pivot_table(index=\"PRODUCT\", columns = \"RECORD_TIME\", values = \"LISTING_COUNT\")"
   ]
  },
  {
   "cell_type": "code",
   "execution_count": 6,
   "id": "union-huntington",
   "metadata": {
    "execution": {
     "iopub.execute_input": "2021-12-02T00:30:11.532656Z",
     "iopub.status.busy": "2021-12-02T00:30:11.530356Z",
     "iopub.status.idle": "2021-12-02T00:30:11.536528Z",
     "shell.execute_reply": "2021-12-02T00:30:11.539263Z"
    },
    "papermill": {
     "duration": 0.047196,
     "end_time": "2021-12-02T00:30:11.539753",
     "exception": false,
     "start_time": "2021-12-02T00:30:11.492557",
     "status": "completed"
    },
    "tags": []
   },
   "outputs": [],
   "source": [
    "df_pivot.columns = [\"stamp_1\", \"stamp_2\"]\n",
    "df_pivot_diff = df_pivot.diff(axis=1)"
   ]
  },
  {
   "cell_type": "code",
   "execution_count": 7,
   "id": "fifth-motion",
   "metadata": {
    "execution": {
     "iopub.execute_input": "2021-12-02T00:30:11.596417Z",
     "iopub.status.busy": "2021-12-02T00:30:11.593938Z",
     "iopub.status.idle": "2021-12-02T00:30:13.586480Z",
     "shell.execute_reply": "2021-12-02T00:30:13.587906Z"
    },
    "papermill": {
     "duration": 2.027274,
     "end_time": "2021-12-02T00:30:13.588338",
     "exception": false,
     "start_time": "2021-12-02T00:30:11.561064",
     "status": "completed"
    },
    "tags": []
   },
   "outputs": [
    {
     "data": {
      "text/plain": [
       "<AxesSubplot:ylabel='PRODUCT'>"
      ]
     },
     "execution_count": 7,
     "metadata": {},
     "output_type": "execute_result"
    },
    {
     "data": {
      "image/png": "[encoded data removed]",
      "text/plain": [
       "<Figure size 432x288 with 1 Axes>"
      ]
     },
     "metadata": {
      "needs_background": "light"
     },
     "output_type": "display_data"
    }
   ],
   "source": [
    "df_pivot_diff.sort_values(\"stamp_2\", ascending = False)[\"stamp_2\"].head(10).plot.barh()"
   ]
  },
  {
   "cell_type": "code",
   "execution_count": null,
   "id": "extra-executive",
   "metadata": {
    "papermill": {
     "duration": 0.022116,
     "end_time": "2021-12-02T00:30:13.634863",
     "exception": false,
     "start_time": "2021-12-02T00:30:13.612747",
     "status": "completed"
    },
    "tags": []
   },
   "outputs": [],
   "source": []
  }
 ],
 "metadata": {
  "kernelspec": {
   "display_name": "Python 3",
   "language": "python",
   "name": "python3"
  },
  "language_info": {
   "codemirror_mode": {
    "name": "ipython",
    "version": 3
   },
   "file_extension": ".py",
   "mimetype": "text/x-python",
   "name": "python",
   "nbconvert_exporter": "python",
   "pygments_lexer": "ipython3",
   "version": "3.9.5"
  },
  "papermill": {
   "default_parameters": {},
   "duration": 9.944546,
   "end_time": "2021-12-02T00:30:14.959397",
   "environment_variables": {},
   "exception": null,
   "input_path": "eBay_Overview.ipynb",
   "output_path": "eBay_Overview.ipynb",
   "parameters": {},
   "start_time": "2021-12-02T00:30:05.014851",
   "version": "2.3.3"
  }
 },
 "nbformat": 4,
 "nbformat_minor": 5
}