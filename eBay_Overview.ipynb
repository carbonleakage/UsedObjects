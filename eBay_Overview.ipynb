{
 "cells": [
  {
   "cell_type": "code",
   "execution_count": 1,
   "id": "reverse-picking",
   "metadata": {
    "execution": {
     "iopub.execute_input": "2021-12-13T14:00:07.472236Z",
     "iopub.status.busy": "2021-12-13T14:00:07.460655Z",
     "iopub.status.idle": "2021-12-13T14:00:08.425743Z",
     "shell.execute_reply": "2021-12-13T14:00:08.427420Z"
    },
    "papermill": {
     "duration": 1.012666,
     "end_time": "2021-12-13T14:00:08.428151",
     "exception": false,
     "start_time": "2021-12-13T14:00:07.415485",
     "status": "completed"
    },
    "tags": []
   },
   "outputs": [],
   "source": [
    "import pandas as pd\n",
    "import sqlite3"
   ]
  },
  {
   "cell_type": "code",
   "execution_count": 2,
   "id": "innovative-syndrome",
   "metadata": {
    "execution": {
     "iopub.execute_input": "2021-12-13T14:00:08.490163Z",
     "iopub.status.busy": "2021-12-13T14:00:08.487715Z",
     "iopub.status.idle": "2021-12-13T14:00:09.547125Z",
     "shell.execute_reply": "2021-12-13T14:00:09.548575Z"
    },
    "papermill": {
     "duration": 1.093431,
     "end_time": "2021-12-13T14:00:09.549125",
     "exception": false,
     "start_time": "2021-12-13T14:00:08.455694",
     "status": "completed"
    },
    "tags": []
   },
   "outputs": [],
   "source": [
    "timestamps = pd.read_sql(\"select distinct record_time from EBAY_TOP_BERLIN order by record_time desc limit 2\", sqlite3.connect(\"UsedObjects.db\"))"
   ]
  },
  {
   "cell_type": "code",
   "execution_count": 3,
   "id": "periodic-identification",
   "metadata": {
    "execution": {
     "iopub.execute_input": "2021-12-13T14:00:09.627855Z",
     "iopub.status.busy": "2021-12-13T14:00:09.621640Z",
     "iopub.status.idle": "2021-12-13T14:00:09.644133Z",
     "shell.execute_reply": "2021-12-13T14:00:09.645648Z"
    },
    "papermill": {
     "duration": 0.075936,
     "end_time": "2021-12-13T14:00:09.646141",
     "exception": false,
     "start_time": "2021-12-13T14:00:09.570205",
     "status": "completed"
    },
    "tags": []
   },
   "outputs": [
    {
     "data": {
      "text/html": [
       "<div>\n",
       "<style scoped>\n",
       "    .dataframe tbody tr th:only-of-type {\n",
       "        vertical-align: middle;\n",
       "    }\n",
       "\n",
       "    .dataframe tbody tr th {\n",
       "        vertical-align: top;\n",
       "    }\n",
       "\n",
       "    .dataframe thead th {\n",
       "        text-align: right;\n",
       "    }\n",
       "</style>\n",
       "<table border=\"1\" class=\"dataframe\">\n",
       "  <thead>\n",
       "    <tr style=\"text-align: right;\">\n",
       "      <th></th>\n",
       "      <th>RECORD_TIME</th>\n",
       "    </tr>\n",
       "  </thead>\n",
       "  <tbody>\n",
       "    <tr>\n",
       "      <th>0</th>\n",
       "      <td>2021-12-13 15:00</td>\n",
       "    </tr>\n",
       "    <tr>\n",
       "      <th>1</th>\n",
       "      <td>2021-12-13 14:30</td>\n",
       "    </tr>\n",
       "  </tbody>\n",
       "</table>\n",
       "</div>"
      ],
      "text/plain": [
       "        RECORD_TIME\n",
       "0  2021-12-13 15:00\n",
       "1  2021-12-13 14:30"
      ]
     },
     "execution_count": 3,
     "metadata": {},
     "output_type": "execute_result"
    }
   ],
   "source": [
    "timestamps"
   ]
  },
  {
   "cell_type": "code",
   "execution_count": 4,
   "id": "alternate-victory",
   "metadata": {
    "execution": {
     "iopub.execute_input": "2021-12-13T14:00:09.701199Z",
     "iopub.status.busy": "2021-12-13T14:00:09.698987Z",
     "iopub.status.idle": "2021-12-13T14:00:11.215122Z",
     "shell.execute_reply": "2021-12-13T14:00:11.216345Z"
    },
    "papermill": {
     "duration": 1.549389,
     "end_time": "2021-12-13T14:00:11.216848",
     "exception": false,
     "start_time": "2021-12-13T14:00:09.667459",
     "status": "completed"
    },
    "tags": []
   },
   "outputs": [],
   "source": [
    "df = pd.read_sql(\"select * from EBAY_TOP_BERLIN where record_time in (select distinct record_time from EBAY_TOP_BERLIN order by record_time desc limit 2)\", sqlite3.connect(\"UsedObjects.db\"))"
   ]
  },
  {
   "cell_type": "code",
   "execution_count": 5,
   "id": "popular-active",
   "metadata": {
    "execution": {
     "iopub.execute_input": "2021-12-13T14:00:11.279714Z",
     "iopub.status.busy": "2021-12-13T14:00:11.277371Z",
     "iopub.status.idle": "2021-12-13T14:00:11.310123Z",
     "shell.execute_reply": "2021-12-13T14:00:11.308556Z"
    },
    "papermill": {
     "duration": 0.073101,
     "end_time": "2021-12-13T14:00:11.310534",
     "exception": false,
     "start_time": "2021-12-13T14:00:11.237433",
     "status": "completed"
    },
    "tags": []
   },
   "outputs": [],
   "source": [
    "df_pivot = df.pivot_table(index=\"PRODUCT\", columns = \"RECORD_TIME\", values = \"LISTING_COUNT\")"
   ]
  },
  {
   "cell_type": "code",
   "execution_count": 6,
   "id": "union-huntington",
   "metadata": {
    "execution": {
     "iopub.execute_input": "2021-12-13T14:00:11.373869Z",
     "iopub.status.busy": "2021-12-13T14:00:11.371470Z",
     "iopub.status.idle": "2021-12-13T14:00:11.377949Z",
     "shell.execute_reply": "2021-12-13T14:00:11.379455Z"
    },
    "papermill": {
     "duration": 0.047792,
     "end_time": "2021-12-13T14:00:11.379990",
     "exception": false,
     "start_time": "2021-12-13T14:00:11.332198",
     "status": "completed"
    },
    "tags": []
   },
   "outputs": [],
   "source": [
    "df_pivot.columns = [\"stamp_1\", \"stamp_2\"]\n",
    "df_pivot_diff = df_pivot.diff(axis=1)"
   ]
  },
  {
   "cell_type": "code",
   "execution_count": 7,
   "id": "fifth-motion",
   "metadata": {
    "execution": {
     "iopub.execute_input": "2021-12-13T14:00:11.445946Z",
     "iopub.status.busy": "2021-12-13T14:00:11.443029Z",
     "iopub.status.idle": "2021-12-13T14:00:13.438161Z",
     "shell.execute_reply": "2021-12-13T14:00:13.440042Z"
    },
    "papermill": {
     "duration": 2.039037,
     "end_time": "2021-12-13T14:00:13.440569",
     "exception": false,
     "start_time": "2021-12-13T14:00:11.401532",
     "status": "completed"
    },
    "tags": []
   },
   "outputs": [
    {
     "data": {
      "text/plain": [
       "<AxesSubplot:ylabel='PRODUCT'>"
      ]
     },
     "execution_count": 7,
     "metadata": {},
     "output_type": "execute_result"
    },
    {
     "data": {
      "image/png": "[encoded data removed]",
      "text/plain": [
       "<Figure size 432x288 with 1 Axes>"
      ]
     },
     "metadata": {
      "needs_background": "light"
     },
     "output_type": "display_data"
    }
   ],
   "source": [
    "df_pivot_diff.sort_values(\"stamp_2\", ascending = False)[\"stamp_2\"].head(10).plot.barh()"
   ]
  },
  {
   "cell_type": "code",
   "execution_count": null,
   "id": "extra-executive",
   "metadata": {
    "papermill": {
     "duration": 0.035257,
     "end_time": "2021-12-13T14:00:13.513525",
     "exception": false,
     "start_time": "2021-12-13T14:00:13.478268",
     "status": "completed"
    },
    "tags": []
   },
   "outputs": [],
   "source": []
  }
 ],
 "metadata": {
  "kernelspec": {
   "display_name": "Python 3",
   "language": "python",
   "name": "python3"
  },
  "language_info": {
   "codemirror_mode": {
    "name": "ipython",
    "version": 3
   },
   "file_extension": ".py",
   "mimetype": "text/x-python",
   "name": "python",
   "nbconvert_exporter": "python",
   "pygments_lexer": "ipython3",
   "version": "3.9.5"
  },
  "papermill": {
   "default_parameters": {},
   "duration": 9.62569,
   "end_time": "2021-12-13T14:00:14.280590",
   "environment_variables": {},
   "exception": null,
   "input_path": "eBay_Overview.ipynb",
   "output_path": "eBay_Overview.ipynb",
   "parameters": {},
   "start_time": "2021-12-13T14:00:04.654900",
   "version": "2.3.3"
  }
 },
 "nbformat": 4,
 "nbformat_minor": 5
}