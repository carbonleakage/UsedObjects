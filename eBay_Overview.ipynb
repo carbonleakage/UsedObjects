{
 "cells": [
  {
   "cell_type": "code",
   "execution_count": 1,
   "id": "reverse-picking",
   "metadata": {
    "execution": {
     "iopub.execute_input": "2021-11-23T04:00:07.301778Z",
     "iopub.status.busy": "2021-11-23T04:00:07.299374Z",
     "iopub.status.idle": "2021-11-23T04:00:08.252652Z",
     "shell.execute_reply": "2021-11-23T04:00:08.254382Z"
    },
    "papermill": {
     "duration": 1.002598,
     "end_time": "2021-11-23T04:00:08.255110",
     "exception": false,
     "start_time": "2021-11-23T04:00:07.252512",
     "status": "completed"
    },
    "tags": []
   },
   "outputs": [],
   "source": [
    "import pandas as pd\n",
    "import sqlite3"
   ]
  },
  {
   "cell_type": "code",
   "execution_count": 2,
   "id": "innovative-syndrome",
   "metadata": {
    "execution": {
     "iopub.execute_input": "2021-11-23T04:00:08.320788Z",
     "iopub.status.busy": "2021-11-23T04:00:08.318545Z",
     "iopub.status.idle": "2021-11-23T04:00:09.212476Z",
     "shell.execute_reply": "2021-11-23T04:00:09.214256Z"
    },
    "papermill": {
     "duration": 0.930154,
     "end_time": "2021-11-23T04:00:09.214775",
     "exception": false,
     "start_time": "2021-11-23T04:00:08.284621",
     "status": "completed"
    },
    "tags": []
   },
   "outputs": [],
   "source": [
    "timestamps = pd.read_sql(\"select distinct record_time from EBAY_TOP_BERLIN order by record_time desc limit 2\", sqlite3.connect(\"UsedObjects.db\"))"
   ]
  },
  {
   "cell_type": "code",
   "execution_count": 3,
   "id": "periodic-identification",
   "metadata": {
    "execution": {
     "iopub.execute_input": "2021-11-23T04:00:09.292980Z",
     "iopub.status.busy": "2021-11-23T04:00:09.286767Z",
     "iopub.status.idle": "2021-11-23T04:00:09.310461Z",
     "shell.execute_reply": "2021-11-23T04:00:09.311873Z"
    },
    "papermill": {
     "duration": 0.07552,
     "end_time": "2021-11-23T04:00:09.312361",
     "exception": false,
     "start_time": "2021-11-23T04:00:09.236841",
     "status": "completed"
    },
    "tags": []
   },
   "outputs": [
    {
     "data": {
      "text/html": [
       "<div>\n",
       "<style scoped>\n",
       "    .dataframe tbody tr th:only-of-type {\n",
       "        vertical-align: middle;\n",
       "    }\n",
       "\n",
       "    .dataframe tbody tr th {\n",
       "        vertical-align: top;\n",
       "    }\n",
       "\n",
       "    .dataframe thead th {\n",
       "        text-align: right;\n",
       "    }\n",
       "</style>\n",
       "<table border=\"1\" class=\"dataframe\">\n",
       "  <thead>\n",
       "    <tr style=\"text-align: right;\">\n",
       "      <th></th>\n",
       "      <th>RECORD_TIME</th>\n",
       "    </tr>\n",
       "  </thead>\n",
       "  <tbody>\n",
       "    <tr>\n",
       "      <th>0</th>\n",
       "      <td>2021-11-23 05:00</td>\n",
       "    </tr>\n",
       "    <tr>\n",
       "      <th>1</th>\n",
       "      <td>2021-11-23 04:30</td>\n",
       "    </tr>\n",
       "  </tbody>\n",
       "</table>\n",
       "</div>"
      ],
      "text/plain": [
       "        RECORD_TIME\n",
       "0  2021-11-23 05:00\n",
       "1  2021-11-23 04:30"
      ]
     },
     "execution_count": 3,
     "metadata": {},
     "output_type": "execute_result"
    }
   ],
   "source": [
    "timestamps"
   ]
  },
  {
   "cell_type": "code",
   "execution_count": 4,
   "id": "alternate-victory",
   "metadata": {
    "execution": {
     "iopub.execute_input": "2021-11-23T04:00:09.368810Z",
     "iopub.status.busy": "2021-11-23T04:00:09.366431Z",
     "iopub.status.idle": "2021-11-23T04:00:10.701269Z",
     "shell.execute_reply": "2021-11-23T04:00:10.702821Z"
    },
    "papermill": {
     "duration": 1.369757,
     "end_time": "2021-11-23T04:00:10.703352",
     "exception": false,
     "start_time": "2021-11-23T04:00:09.333595",
     "status": "completed"
    },
    "tags": []
   },
   "outputs": [],
   "source": [
    "df = pd.read_sql(\"select * from EBAY_TOP_BERLIN where record_time in (select distinct record_time from EBAY_TOP_BERLIN order by record_time desc limit 2)\", sqlite3.connect(\"UsedObjects.db\"))"
   ]
  },
  {
   "cell_type": "code",
   "execution_count": 5,
   "id": "popular-active",
   "metadata": {
    "execution": {
     "iopub.execute_input": "2021-11-23T04:00:10.781556Z",
     "iopub.status.busy": "2021-11-23T04:00:10.769097Z",
     "iopub.status.idle": "2021-11-23T04:00:10.799002Z",
     "shell.execute_reply": "2021-11-23T04:00:10.800300Z"
    },
    "papermill": {
     "duration": 0.074861,
     "end_time": "2021-11-23T04:00:10.800855",
     "exception": false,
     "start_time": "2021-11-23T04:00:10.725994",
     "status": "completed"
    },
    "tags": []
   },
   "outputs": [],
   "source": [
    "df_pivot = df.pivot_table(index=\"PRODUCT\", columns = \"RECORD_TIME\", values = \"LISTING_COUNT\")"
   ]
  },
  {
   "cell_type": "code",
   "execution_count": 6,
   "id": "union-huntington",
   "metadata": {
    "execution": {
     "iopub.execute_input": "2021-11-23T04:00:10.861747Z",
     "iopub.status.busy": "2021-11-23T04:00:10.859547Z",
     "iopub.status.idle": "2021-11-23T04:00:10.864560Z",
     "shell.execute_reply": "2021-11-23T04:00:10.866521Z"
    },
    "papermill": {
     "duration": 0.045911,
     "end_time": "2021-11-23T04:00:10.866999",
     "exception": false,
     "start_time": "2021-11-23T04:00:10.821088",
     "status": "completed"
    },
    "tags": []
   },
   "outputs": [],
   "source": [
    "df_pivot.columns = [\"stamp_1\", \"stamp_2\"]\n",
    "df_pivot_diff = df_pivot.diff(axis=1)"
   ]
  },
  {
   "cell_type": "code",
   "execution_count": 7,
   "id": "fifth-motion",
   "metadata": {
    "execution": {
     "iopub.execute_input": "2021-11-23T04:00:10.927642Z",
     "iopub.status.busy": "2021-11-23T04:00:10.925175Z",
     "iopub.status.idle": "2021-11-23T04:00:12.855817Z",
     "shell.execute_reply": "2021-11-23T04:00:12.857389Z"
    },
    "papermill": {
     "duration": 1.967926,
     "end_time": "2021-11-23T04:00:12.857861",
     "exception": false,
     "start_time": "2021-11-23T04:00:10.889935",
     "status": "completed"
    },
    "tags": []
   },
   "outputs": [
    {
     "data": {
      "text/plain": [
       "<AxesSubplot:ylabel='PRODUCT'>"
      ]
     },
     "execution_count": 7,
     "metadata": {},
     "output_type": "execute_result"
    },
    {
     "data": {
      "image/png": "[encoded data removed]",
      "text/plain": [
       "<Figure size 432x288 with 1 Axes>"
      ]
     },
     "metadata": {
      "needs_background": "light"
     },
     "output_type": "display_data"
    }
   ],
   "source": [
    "df_pivot_diff.sort_values(\"stamp_2\", ascending = False)[\"stamp_2\"].head(10).plot.barh()"
   ]
  },
  {
   "cell_type": "code",
   "execution_count": null,
   "id": "extra-executive",
   "metadata": {
    "papermill": {
     "duration": 0.023765,
     "end_time": "2021-11-23T04:00:12.905612",
     "exception": false,
     "start_time": "2021-11-23T04:00:12.881847",
     "status": "completed"
    },
    "tags": []
   },
   "outputs": [],
   "source": []
  }
 ],
 "metadata": {
  "kernelspec": {
   "display_name": "Python 3",
   "language": "python",
   "name": "python3"
  },
  "language_info": {
   "codemirror_mode": {
    "name": "ipython",
    "version": 3
   },
   "file_extension": ".py",
   "mimetype": "text/x-python",
   "name": "python",
   "nbconvert_exporter": "python",
   "pygments_lexer": "ipython3",
   "version": "3.9.5"
  },
  "papermill": {
   "default_parameters": {},
   "duration": 9.927243,
   "end_time": "2021-11-23T04:00:14.455768",
   "environment_variables": {},
   "exception": null,
   "input_path": "eBay_Overview.ipynb",
   "output_path": "eBay_Overview.ipynb",
   "parameters": {},
   "start_time": "2021-11-23T04:00:04.528525",
   "version": "2.3.3"
  }
 },
 "nbformat": 4,
 "nbformat_minor": 5
}