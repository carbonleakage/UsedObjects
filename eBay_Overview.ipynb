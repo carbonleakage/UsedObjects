{
 "cells": [
  {
   "cell_type": "code",
   "execution_count": 1,
   "id": "reverse-picking",
   "metadata": {
    "execution": {
     "iopub.execute_input": "2021-12-15T13:00:07.778414Z",
     "iopub.status.busy": "2021-12-15T13:00:07.775908Z",
     "iopub.status.idle": "2021-12-15T13:00:08.725907Z",
     "shell.execute_reply": "2021-12-15T13:00:08.727440Z"
    },
    "papermill": {
     "duration": 0.999715,
     "end_time": "2021-12-15T13:00:08.728177",
     "exception": false,
     "start_time": "2021-12-15T13:00:07.728462",
     "status": "completed"
    },
    "tags": []
   },
   "outputs": [],
   "source": [
    "import pandas as pd\n",
    "import sqlite3"
   ]
  },
  {
   "cell_type": "code",
   "execution_count": 2,
   "id": "innovative-syndrome",
   "metadata": {
    "execution": {
     "iopub.execute_input": "2021-12-15T13:00:08.803927Z",
     "iopub.status.busy": "2021-12-15T13:00:08.801739Z",
     "iopub.status.idle": "2021-12-15T13:00:09.889864Z",
     "shell.execute_reply": "2021-12-15T13:00:09.891331Z"
    },
    "papermill": {
     "duration": 1.135629,
     "end_time": "2021-12-15T13:00:09.891787",
     "exception": false,
     "start_time": "2021-12-15T13:00:08.756158",
     "status": "completed"
    },
    "tags": []
   },
   "outputs": [],
   "source": [
    "timestamps = pd.read_sql(\"select distinct record_time from EBAY_TOP_BERLIN order by record_time desc limit 2\", sqlite3.connect(\"UsedObjects.db\"))"
   ]
  },
  {
   "cell_type": "code",
   "execution_count": 3,
   "id": "periodic-identification",
   "metadata": {
    "execution": {
     "iopub.execute_input": "2021-12-15T13:00:09.939788Z",
     "iopub.status.busy": "2021-12-15T13:00:09.937522Z",
     "iopub.status.idle": "2021-12-15T13:00:09.981595Z",
     "shell.execute_reply": "2021-12-15T13:00:09.983554Z"
    },
    "papermill": {
     "duration": 0.072968,
     "end_time": "2021-12-15T13:00:09.984072",
     "exception": false,
     "start_time": "2021-12-15T13:00:09.911104",
     "status": "completed"
    },
    "tags": []
   },
   "outputs": [
    {
     "data": {
      "text/html": [
       "<div>\n",
       "<style scoped>\n",
       "    .dataframe tbody tr th:only-of-type {\n",
       "        vertical-align: middle;\n",
       "    }\n",
       "\n",
       "    .dataframe tbody tr th {\n",
       "        vertical-align: top;\n",
       "    }\n",
       "\n",
       "    .dataframe thead th {\n",
       "        text-align: right;\n",
       "    }\n",
       "</style>\n",
       "<table border=\"1\" class=\"dataframe\">\n",
       "  <thead>\n",
       "    <tr style=\"text-align: right;\">\n",
       "      <th></th>\n",
       "      <th>RECORD_TIME</th>\n",
       "    </tr>\n",
       "  </thead>\n",
       "  <tbody>\n",
       "    <tr>\n",
       "      <th>0</th>\n",
       "      <td>2021-12-15 14:00</td>\n",
       "    </tr>\n",
       "    <tr>\n",
       "      <th>1</th>\n",
       "      <td>2021-12-15 13:30</td>\n",
       "    </tr>\n",
       "  </tbody>\n",
       "</table>\n",
       "</div>"
      ],
      "text/plain": [
       "        RECORD_TIME\n",
       "0  2021-12-15 14:00\n",
       "1  2021-12-15 13:30"
      ]
     },
     "execution_count": 3,
     "metadata": {},
     "output_type": "execute_result"
    }
   ],
   "source": [
    "timestamps"
   ]
  },
  {
   "cell_type": "code",
   "execution_count": 4,
   "id": "alternate-victory",
   "metadata": {
    "execution": {
     "iopub.execute_input": "2021-12-15T13:00:10.077643Z",
     "iopub.status.busy": "2021-12-15T13:00:10.075349Z",
     "iopub.status.idle": "2021-12-15T13:00:11.650691Z",
     "shell.execute_reply": "2021-12-15T13:00:11.652157Z"
    },
    "papermill": {
     "duration": 1.622628,
     "end_time": "2021-12-15T13:00:11.652616",
     "exception": false,
     "start_time": "2021-12-15T13:00:10.029988",
     "status": "completed"
    },
    "tags": []
   },
   "outputs": [],
   "source": [
    "df = pd.read_sql(\"select * from EBAY_TOP_BERLIN where record_time in (select distinct record_time from EBAY_TOP_BERLIN order by record_time desc limit 2)\", sqlite3.connect(\"UsedObjects.db\"))"
   ]
  },
  {
   "cell_type": "code",
   "execution_count": 5,
   "id": "popular-active",
   "metadata": {
    "execution": {
     "iopub.execute_input": "2021-12-15T13:00:11.728620Z",
     "iopub.status.busy": "2021-12-15T13:00:11.714152Z",
     "iopub.status.idle": "2021-12-15T13:00:11.750144Z",
     "shell.execute_reply": "2021-12-15T13:00:11.748325Z"
    },
    "papermill": {
     "duration": 0.076546,
     "end_time": "2021-12-15T13:00:11.750610",
     "exception": false,
     "start_time": "2021-12-15T13:00:11.674064",
     "status": "completed"
    },
    "tags": []
   },
   "outputs": [],
   "source": [
    "df_pivot = df.pivot_table(index=\"PRODUCT\", columns = \"RECORD_TIME\", values = \"LISTING_COUNT\")"
   ]
  },
  {
   "cell_type": "code",
   "execution_count": 6,
   "id": "union-huntington",
   "metadata": {
    "execution": {
     "iopub.execute_input": "2021-12-15T13:00:11.811715Z",
     "iopub.status.busy": "2021-12-15T13:00:11.809509Z",
     "iopub.status.idle": "2021-12-15T13:00:11.815266Z",
     "shell.execute_reply": "2021-12-15T13:00:11.816637Z"
    },
    "papermill": {
     "duration": 0.045129,
     "end_time": "2021-12-15T13:00:11.817169",
     "exception": false,
     "start_time": "2021-12-15T13:00:11.772040",
     "status": "completed"
    },
    "tags": []
   },
   "outputs": [],
   "source": [
    "df_pivot.columns = [\"stamp_1\", \"stamp_2\"]\n",
    "df_pivot_diff = df_pivot.diff(axis=1)"
   ]
  },
  {
   "cell_type": "code",
   "execution_count": 7,
   "id": "fifth-motion",
   "metadata": {
    "execution": {
     "iopub.execute_input": "2021-12-15T13:00:11.873110Z",
     "iopub.status.busy": "2021-12-15T13:00:11.870605Z",
     "iopub.status.idle": "2021-12-15T13:00:13.840136Z",
     "shell.execute_reply": "2021-12-15T13:00:13.841670Z"
    },
    "papermill": {
     "duration": 2.00479,
     "end_time": "2021-12-15T13:00:13.842140",
     "exception": false,
     "start_time": "2021-12-15T13:00:11.837350",
     "status": "completed"
    },
    "tags": []
   },
   "outputs": [
    {
     "data": {
      "text/plain": [
       "<AxesSubplot:ylabel='PRODUCT'>"
      ]
     },
     "execution_count": 7,
     "metadata": {},
     "output_type": "execute_result"
    },
    {
     "data": {
      "image/png": "[encoded data removed]",
      "text/plain": [
       "<Figure size 432x288 with 1 Axes>"
      ]
     },
     "metadata": {
      "needs_background": "light"
     },
     "output_type": "display_data"
    }
   ],
   "source": [
    "df_pivot_diff.sort_values(\"stamp_2\", ascending = False)[\"stamp_2\"].head(10).plot.barh()"
   ]
  },
  {
   "cell_type": "code",
   "execution_count": null,
   "id": "extra-executive",
   "metadata": {
    "papermill": {
     "duration": 0.026262,
     "end_time": "2021-12-15T13:00:13.901751",
     "exception": false,
     "start_time": "2021-12-15T13:00:13.875489",
     "status": "completed"
    },
    "tags": []
   },
   "outputs": [],
   "source": []
  }
 ],
 "metadata": {
  "kernelspec": {
   "display_name": "Python 3",
   "language": "python",
   "name": "python3"
  },
  "language_info": {
   "codemirror_mode": {
    "name": "ipython",
    "version": 3
   },
   "file_extension": ".py",
   "mimetype": "text/x-python",
   "name": "python",
   "nbconvert_exporter": "python",
   "pygments_lexer": "ipython3",
   "version": "3.9.5"
  },
  "papermill": {
   "default_parameters": {},
   "duration": 9.551712,
   "end_time": "2021-12-15T13:00:14.560102",
   "environment_variables": {},
   "exception": null,
   "input_path": "eBay_Overview.ipynb",
   "output_path": "eBay_Overview.ipynb",
   "parameters": {},
   "start_time": "2021-12-15T13:00:05.008390",
   "version": "2.3.3"
  }
 },
 "nbformat": 4,
 "nbformat_minor": 5
}