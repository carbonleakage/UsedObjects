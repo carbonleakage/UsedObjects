{
 "cells": [
  {
   "cell_type": "code",
   "execution_count": 1,
   "id": "reverse-picking",
   "metadata": {
    "execution": {
     "iopub.execute_input": "2021-12-08T20:30:07.797479Z",
     "iopub.status.busy": "2021-12-08T20:30:07.785524Z",
     "iopub.status.idle": "2021-12-08T20:30:08.753433Z",
     "shell.execute_reply": "2021-12-08T20:30:08.754920Z"
    },
    "papermill": {
     "duration": 1.007067,
     "end_time": "2021-12-08T20:30:08.755636",
     "exception": false,
     "start_time": "2021-12-08T20:30:07.748569",
     "status": "completed"
    },
    "tags": []
   },
   "outputs": [],
   "source": [
    "import pandas as pd\n",
    "import sqlite3"
   ]
  },
  {
   "cell_type": "code",
   "execution_count": 2,
   "id": "innovative-syndrome",
   "metadata": {
    "execution": {
     "iopub.execute_input": "2021-12-08T20:30:08.811058Z",
     "iopub.status.busy": "2021-12-08T20:30:08.808876Z",
     "iopub.status.idle": "2021-12-08T20:30:09.811325Z",
     "shell.execute_reply": "2021-12-08T20:30:09.812955Z"
    },
    "papermill": {
     "duration": 1.031678,
     "end_time": "2021-12-08T20:30:09.813461",
     "exception": false,
     "start_time": "2021-12-08T20:30:08.781783",
     "status": "completed"
    },
    "tags": []
   },
   "outputs": [],
   "source": [
    "timestamps = pd.read_sql(\"select distinct record_time from EBAY_TOP_BERLIN order by record_time desc limit 2\", sqlite3.connect(\"UsedObjects.db\"))"
   ]
  },
  {
   "cell_type": "code",
   "execution_count": 3,
   "id": "periodic-identification",
   "metadata": {
    "execution": {
     "iopub.execute_input": "2021-12-08T20:30:09.913364Z",
     "iopub.status.busy": "2021-12-08T20:30:09.910435Z",
     "iopub.status.idle": "2021-12-08T20:30:09.935996Z",
     "shell.execute_reply": "2021-12-08T20:30:09.937537Z"
    },
    "papermill": {
     "duration": 0.102174,
     "end_time": "2021-12-08T20:30:09.938030",
     "exception": false,
     "start_time": "2021-12-08T20:30:09.835856",
     "status": "completed"
    },
    "tags": []
   },
   "outputs": [
    {
     "data": {
      "text/html": [
       "<div>\n",
       "<style scoped>\n",
       "    .dataframe tbody tr th:only-of-type {\n",
       "        vertical-align: middle;\n",
       "    }\n",
       "\n",
       "    .dataframe tbody tr th {\n",
       "        vertical-align: top;\n",
       "    }\n",
       "\n",
       "    .dataframe thead th {\n",
       "        text-align: right;\n",
       "    }\n",
       "</style>\n",
       "<table border=\"1\" class=\"dataframe\">\n",
       "  <thead>\n",
       "    <tr style=\"text-align: right;\">\n",
       "      <th></th>\n",
       "      <th>RECORD_TIME</th>\n",
       "    </tr>\n",
       "  </thead>\n",
       "  <tbody>\n",
       "    <tr>\n",
       "      <th>0</th>\n",
       "      <td>2021-12-08 21:30</td>\n",
       "    </tr>\n",
       "    <tr>\n",
       "      <th>1</th>\n",
       "      <td>2021-12-08 21:00</td>\n",
       "    </tr>\n",
       "  </tbody>\n",
       "</table>\n",
       "</div>"
      ],
      "text/plain": [
       "        RECORD_TIME\n",
       "0  2021-12-08 21:30\n",
       "1  2021-12-08 21:00"
      ]
     },
     "execution_count": 3,
     "metadata": {},
     "output_type": "execute_result"
    }
   ],
   "source": [
    "timestamps"
   ]
  },
  {
   "cell_type": "code",
   "execution_count": 4,
   "id": "alternate-victory",
   "metadata": {
    "execution": {
     "iopub.execute_input": "2021-12-08T20:30:09.995205Z",
     "iopub.status.busy": "2021-12-08T20:30:09.993193Z",
     "iopub.status.idle": "2021-12-08T20:30:11.449044Z",
     "shell.execute_reply": "2021-12-08T20:30:11.451310Z"
    },
    "papermill": {
     "duration": 1.491091,
     "end_time": "2021-12-08T20:30:11.451863",
     "exception": false,
     "start_time": "2021-12-08T20:30:09.960772",
     "status": "completed"
    },
    "tags": []
   },
   "outputs": [],
   "source": [
    "df = pd.read_sql(\"select * from EBAY_TOP_BERLIN where record_time in (select distinct record_time from EBAY_TOP_BERLIN order by record_time desc limit 2)\", sqlite3.connect(\"UsedObjects.db\"))"
   ]
  },
  {
   "cell_type": "code",
   "execution_count": 5,
   "id": "popular-active",
   "metadata": {
    "execution": {
     "iopub.execute_input": "2021-12-08T20:30:11.548157Z",
     "iopub.status.busy": "2021-12-08T20:30:11.544899Z",
     "iopub.status.idle": "2021-12-08T20:30:11.606507Z",
     "shell.execute_reply": "2021-12-08T20:30:11.609463Z"
    },
    "papermill": {
     "duration": 0.12541,
     "end_time": "2021-12-08T20:30:11.610206",
     "exception": false,
     "start_time": "2021-12-08T20:30:11.484796",
     "status": "completed"
    },
    "tags": []
   },
   "outputs": [],
   "source": [
    "df_pivot = df.pivot_table(index=\"PRODUCT\", columns = \"RECORD_TIME\", values = \"LISTING_COUNT\")"
   ]
  },
  {
   "cell_type": "code",
   "execution_count": 6,
   "id": "union-huntington",
   "metadata": {
    "execution": {
     "iopub.execute_input": "2021-12-08T20:30:11.694114Z",
     "iopub.status.busy": "2021-12-08T20:30:11.691448Z",
     "iopub.status.idle": "2021-12-08T20:30:11.697977Z",
     "shell.execute_reply": "2021-12-08T20:30:11.699873Z"
    },
    "papermill": {
     "duration": 0.058411,
     "end_time": "2021-12-08T20:30:11.700506",
     "exception": false,
     "start_time": "2021-12-08T20:30:11.642095",
     "status": "completed"
    },
    "tags": []
   },
   "outputs": [],
   "source": [
    "df_pivot.columns = [\"stamp_1\", \"stamp_2\"]\n",
    "df_pivot_diff = df_pivot.diff(axis=1)"
   ]
  },
  {
   "cell_type": "code",
   "execution_count": 7,
   "id": "fifth-motion",
   "metadata": {
    "execution": {
     "iopub.execute_input": "2021-12-08T20:30:11.787127Z",
     "iopub.status.busy": "2021-12-08T20:30:11.784039Z",
     "iopub.status.idle": "2021-12-08T20:30:13.493887Z",
     "shell.execute_reply": "2021-12-08T20:30:13.495402Z"
    },
    "papermill": {
     "duration": 1.763852,
     "end_time": "2021-12-08T20:30:13.495863",
     "exception": false,
     "start_time": "2021-12-08T20:30:11.732011",
     "status": "completed"
    },
    "tags": []
   },
   "outputs": [
    {
     "data": {
      "text/plain": [
       "<AxesSubplot:ylabel='PRODUCT'>"
      ]
     },
     "execution_count": 7,
     "metadata": {},
     "output_type": "execute_result"
    },
    {
     "data": {
      "image/png": "[encoded data removed]",
      "text/plain": [
       "<Figure size 432x288 with 1 Axes>"
      ]
     },
     "metadata": {
      "needs_background": "light"
     },
     "output_type": "display_data"
    }
   ],
   "source": [
    "df_pivot_diff.sort_values(\"stamp_2\", ascending = False)[\"stamp_2\"].head(10).plot.barh()"
   ]
  },
  {
   "cell_type": "code",
   "execution_count": null,
   "id": "extra-executive",
   "metadata": {
    "papermill": {
     "duration": 0.021951,
     "end_time": "2021-12-08T20:30:13.542463",
     "exception": false,
     "start_time": "2021-12-08T20:30:13.520512",
     "status": "completed"
    },
    "tags": []
   },
   "outputs": [],
   "source": []
  }
 ],
 "metadata": {
  "kernelspec": {
   "display_name": "Python 3",
   "language": "python",
   "name": "python3"
  },
  "language_info": {
   "codemirror_mode": {
    "name": "ipython",
    "version": 3
   },
   "file_extension": ".py",
   "mimetype": "text/x-python",
   "name": "python",
   "nbconvert_exporter": "python",
   "pygments_lexer": "ipython3",
   "version": "3.9.5"
  },
  "papermill": {
   "default_parameters": {},
   "duration": 9.939111,
   "end_time": "2021-12-08T20:30:14.964657",
   "environment_variables": {},
   "exception": null,
   "input_path": "eBay_Overview.ipynb",
   "output_path": "eBay_Overview.ipynb",
   "parameters": {},
   "start_time": "2021-12-08T20:30:05.025546",
   "version": "2.3.3"
  }
 },
 "nbformat": 4,
 "nbformat_minor": 5
}