{
 "cells": [
  {
   "cell_type": "code",
   "execution_count": 1,
   "id": "reverse-picking",
   "metadata": {
    "execution": {
     "iopub.execute_input": "2021-12-08T07:00:08.769597Z",
     "iopub.status.busy": "2021-12-08T07:00:08.767306Z",
     "iopub.status.idle": "2021-12-08T07:00:09.674865Z",
     "shell.execute_reply": "2021-12-08T07:00:09.676558Z"
    },
    "papermill": {
     "duration": 0.956923,
     "end_time": "2021-12-08T07:00:09.677372",
     "exception": false,
     "start_time": "2021-12-08T07:00:08.720449",
     "status": "completed"
    },
    "tags": []
   },
   "outputs": [],
   "source": [
    "import pandas as pd\n",
    "import sqlite3"
   ]
  },
  {
   "cell_type": "code",
   "execution_count": 2,
   "id": "innovative-syndrome",
   "metadata": {
    "execution": {
     "iopub.execute_input": "2021-12-08T07:00:09.734554Z",
     "iopub.status.busy": "2021-12-08T07:00:09.732109Z",
     "iopub.status.idle": "2021-12-08T07:00:10.749773Z",
     "shell.execute_reply": "2021-12-08T07:00:10.751287Z"
    },
    "papermill": {
     "duration": 1.050802,
     "end_time": "2021-12-08T07:00:10.751752",
     "exception": false,
     "start_time": "2021-12-08T07:00:09.700950",
     "status": "completed"
    },
    "tags": []
   },
   "outputs": [],
   "source": [
    "timestamps = pd.read_sql(\"select distinct record_time from EBAY_TOP_BERLIN order by record_time desc limit 2\", sqlite3.connect(\"UsedObjects.db\"))"
   ]
  },
  {
   "cell_type": "code",
   "execution_count": 3,
   "id": "periodic-identification",
   "metadata": {
    "execution": {
     "iopub.execute_input": "2021-12-08T07:00:10.824222Z",
     "iopub.status.busy": "2021-12-08T07:00:10.818500Z",
     "iopub.status.idle": "2021-12-08T07:00:10.843684Z",
     "shell.execute_reply": "2021-12-08T07:00:10.845236Z"
    },
    "papermill": {
     "duration": 0.074046,
     "end_time": "2021-12-08T07:00:10.845757",
     "exception": false,
     "start_time": "2021-12-08T07:00:10.771711",
     "status": "completed"
    },
    "tags": []
   },
   "outputs": [
    {
     "data": {
      "text/html": [
       "<div>\n",
       "<style scoped>\n",
       "    .dataframe tbody tr th:only-of-type {\n",
       "        vertical-align: middle;\n",
       "    }\n",
       "\n",
       "    .dataframe tbody tr th {\n",
       "        vertical-align: top;\n",
       "    }\n",
       "\n",
       "    .dataframe thead th {\n",
       "        text-align: right;\n",
       "    }\n",
       "</style>\n",
       "<table border=\"1\" class=\"dataframe\">\n",
       "  <thead>\n",
       "    <tr style=\"text-align: right;\">\n",
       "      <th></th>\n",
       "      <th>RECORD_TIME</th>\n",
       "    </tr>\n",
       "  </thead>\n",
       "  <tbody>\n",
       "    <tr>\n",
       "      <th>0</th>\n",
       "      <td>2021-12-08 08:00</td>\n",
       "    </tr>\n",
       "    <tr>\n",
       "      <th>1</th>\n",
       "      <td>2021-12-08 07:30</td>\n",
       "    </tr>\n",
       "  </tbody>\n",
       "</table>\n",
       "</div>"
      ],
      "text/plain": [
       "        RECORD_TIME\n",
       "0  2021-12-08 08:00\n",
       "1  2021-12-08 07:30"
      ]
     },
     "execution_count": 3,
     "metadata": {},
     "output_type": "execute_result"
    }
   ],
   "source": [
    "timestamps"
   ]
  },
  {
   "cell_type": "code",
   "execution_count": 4,
   "id": "alternate-victory",
   "metadata": {
    "execution": {
     "iopub.execute_input": "2021-12-08T07:00:10.899196Z",
     "iopub.status.busy": "2021-12-08T07:00:10.897106Z",
     "iopub.status.idle": "2021-12-08T07:00:12.420082Z",
     "shell.execute_reply": "2021-12-08T07:00:12.423403Z"
    },
    "papermill": {
     "duration": 1.558079,
     "end_time": "2021-12-08T07:00:12.424282",
     "exception": false,
     "start_time": "2021-12-08T07:00:10.866203",
     "status": "completed"
    },
    "tags": []
   },
   "outputs": [],
   "source": [
    "df = pd.read_sql(\"select * from EBAY_TOP_BERLIN where record_time in (select distinct record_time from EBAY_TOP_BERLIN order by record_time desc limit 2)\", sqlite3.connect(\"UsedObjects.db\"))"
   ]
  },
  {
   "cell_type": "code",
   "execution_count": 5,
   "id": "popular-active",
   "metadata": {
    "execution": {
     "iopub.execute_input": "2021-12-08T07:00:12.521848Z",
     "iopub.status.busy": "2021-12-08T07:00:12.512521Z",
     "iopub.status.idle": "2021-12-08T07:00:12.553762Z",
     "shell.execute_reply": "2021-12-08T07:00:12.555670Z"
    },
    "papermill": {
     "duration": 0.10255,
     "end_time": "2021-12-08T07:00:12.556294",
     "exception": false,
     "start_time": "2021-12-08T07:00:12.453744",
     "status": "completed"
    },
    "tags": []
   },
   "outputs": [],
   "source": [
    "df_pivot = df.pivot_table(index=\"PRODUCT\", columns = \"RECORD_TIME\", values = \"LISTING_COUNT\")"
   ]
  },
  {
   "cell_type": "code",
   "execution_count": 6,
   "id": "union-huntington",
   "metadata": {
    "execution": {
     "iopub.execute_input": "2021-12-08T07:00:12.621210Z",
     "iopub.status.busy": "2021-12-08T07:00:12.619097Z",
     "iopub.status.idle": "2021-12-08T07:00:12.624885Z",
     "shell.execute_reply": "2021-12-08T07:00:12.626343Z"
    },
    "papermill": {
     "duration": 0.04623,
     "end_time": "2021-12-08T07:00:12.626884",
     "exception": false,
     "start_time": "2021-12-08T07:00:12.580654",
     "status": "completed"
    },
    "tags": []
   },
   "outputs": [],
   "source": [
    "df_pivot.columns = [\"stamp_1\", \"stamp_2\"]\n",
    "df_pivot_diff = df_pivot.diff(axis=1)"
   ]
  },
  {
   "cell_type": "code",
   "execution_count": 7,
   "id": "fifth-motion",
   "metadata": {
    "execution": {
     "iopub.execute_input": "2021-12-08T07:00:12.680939Z",
     "iopub.status.busy": "2021-12-08T07:00:12.678622Z",
     "iopub.status.idle": "2021-12-08T07:00:14.195333Z",
     "shell.execute_reply": "2021-12-08T07:00:14.196630Z"
    },
    "papermill": {
     "duration": 1.549491,
     "end_time": "2021-12-08T07:00:14.197297",
     "exception": false,
     "start_time": "2021-12-08T07:00:12.647806",
     "status": "completed"
    },
    "tags": []
   },
   "outputs": [
    {
     "data": {
      "text/plain": [
       "<AxesSubplot:ylabel='PRODUCT'>"
      ]
     },
     "execution_count": 7,
     "metadata": {},
     "output_type": "execute_result"
    },
    {
     "data": {
      "image/png": "[encoded data removed]",
      "text/plain": [
       "<Figure size 432x288 with 1 Axes>"
      ]
     },
     "metadata": {
      "needs_background": "light"
     },
     "output_type": "display_data"
    }
   ],
   "source": [
    "df_pivot_diff.sort_values(\"stamp_2\", ascending = False)[\"stamp_2\"].head(10).plot.barh()"
   ]
  },
  {
   "cell_type": "code",
   "execution_count": null,
   "id": "extra-executive",
   "metadata": {
    "papermill": {
     "duration": 0.021776,
     "end_time": "2021-12-08T07:00:14.243391",
     "exception": false,
     "start_time": "2021-12-08T07:00:14.221615",
     "status": "completed"
    },
    "tags": []
   },
   "outputs": [],
   "source": []
  }
 ],
 "metadata": {
  "kernelspec": {
   "display_name": "Python 3",
   "language": "python",
   "name": "python3"
  },
  "language_info": {
   "codemirror_mode": {
    "name": "ipython",
    "version": 3
   },
   "file_extension": ".py",
   "mimetype": "text/x-python",
   "name": "python",
   "nbconvert_exporter": "python",
   "pygments_lexer": "ipython3",
   "version": "3.9.5"
  },
  "papermill": {
   "default_parameters": {},
   "duration": 8.896347,
   "end_time": "2021-12-08T07:00:14.895297",
   "environment_variables": {},
   "exception": null,
   "input_path": "eBay_Overview.ipynb",
   "output_path": "eBay_Overview.ipynb",
   "parameters": {},
   "start_time": "2021-12-08T07:00:05.998950",
   "version": "2.3.3"
  }
 },
 "nbformat": 4,
 "nbformat_minor": 5
}