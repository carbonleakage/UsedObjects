{
 "cells": [
  {
   "cell_type": "code",
   "execution_count": 1,
   "id": "reverse-picking",
   "metadata": {
    "execution": {
     "iopub.execute_input": "2021-12-06T16:00:08.229785Z",
     "iopub.status.busy": "2021-12-06T16:00:08.227221Z",
     "iopub.status.idle": "2021-12-06T16:00:09.192110Z",
     "shell.execute_reply": "2021-12-06T16:00:09.193757Z"
    },
    "papermill": {
     "duration": 1.014656,
     "end_time": "2021-12-06T16:00:09.194487",
     "exception": false,
     "start_time": "2021-12-06T16:00:08.179831",
     "status": "completed"
    },
    "tags": []
   },
   "outputs": [],
   "source": [
    "import pandas as pd\n",
    "import sqlite3"
   ]
  },
  {
   "cell_type": "code",
   "execution_count": 2,
   "id": "innovative-syndrome",
   "metadata": {
    "execution": {
     "iopub.execute_input": "2021-12-06T16:00:09.255597Z",
     "iopub.status.busy": "2021-12-06T16:00:09.253372Z",
     "iopub.status.idle": "2021-12-06T16:00:10.235219Z",
     "shell.execute_reply": "2021-12-06T16:00:10.236515Z"
    },
    "papermill": {
     "duration": 1.015422,
     "end_time": "2021-12-06T16:00:10.236989",
     "exception": false,
     "start_time": "2021-12-06T16:00:09.221567",
     "status": "completed"
    },
    "tags": []
   },
   "outputs": [],
   "source": [
    "timestamps = pd.read_sql(\"select distinct record_time from EBAY_TOP_BERLIN order by record_time desc limit 2\", sqlite3.connect(\"UsedObjects.db\"))"
   ]
  },
  {
   "cell_type": "code",
   "execution_count": 3,
   "id": "periodic-identification",
   "metadata": {
    "execution": {
     "iopub.execute_input": "2021-12-06T16:00:10.309701Z",
     "iopub.status.busy": "2021-12-06T16:00:10.303034Z",
     "iopub.status.idle": "2021-12-06T16:00:10.325777Z",
     "shell.execute_reply": "2021-12-06T16:00:10.327250Z"
    },
    "papermill": {
     "duration": 0.070482,
     "end_time": "2021-12-06T16:00:10.327873",
     "exception": false,
     "start_time": "2021-12-06T16:00:10.257391",
     "status": "completed"
    },
    "tags": []
   },
   "outputs": [
    {
     "data": {
      "text/html": [
       "<div>\n",
       "<style scoped>\n",
       "    .dataframe tbody tr th:only-of-type {\n",
       "        vertical-align: middle;\n",
       "    }\n",
       "\n",
       "    .dataframe tbody tr th {\n",
       "        vertical-align: top;\n",
       "    }\n",
       "\n",
       "    .dataframe thead th {\n",
       "        text-align: right;\n",
       "    }\n",
       "</style>\n",
       "<table border=\"1\" class=\"dataframe\">\n",
       "  <thead>\n",
       "    <tr style=\"text-align: right;\">\n",
       "      <th></th>\n",
       "      <th>RECORD_TIME</th>\n",
       "    </tr>\n",
       "  </thead>\n",
       "  <tbody>\n",
       "    <tr>\n",
       "      <th>0</th>\n",
       "      <td>2021-12-06 17:00</td>\n",
       "    </tr>\n",
       "    <tr>\n",
       "      <th>1</th>\n",
       "      <td>2021-12-06 16:30</td>\n",
       "    </tr>\n",
       "  </tbody>\n",
       "</table>\n",
       "</div>"
      ],
      "text/plain": [
       "        RECORD_TIME\n",
       "0  2021-12-06 17:00\n",
       "1  2021-12-06 16:30"
      ]
     },
     "execution_count": 3,
     "metadata": {},
     "output_type": "execute_result"
    }
   ],
   "source": [
    "timestamps"
   ]
  },
  {
   "cell_type": "code",
   "execution_count": 4,
   "id": "alternate-victory",
   "metadata": {
    "execution": {
     "iopub.execute_input": "2021-12-06T16:00:10.382053Z",
     "iopub.status.busy": "2021-12-06T16:00:10.380042Z",
     "iopub.status.idle": "2021-12-06T16:00:11.868612Z",
     "shell.execute_reply": "2021-12-06T16:00:11.870714Z"
    },
    "papermill": {
     "duration": 1.52147,
     "end_time": "2021-12-06T16:00:11.871180",
     "exception": false,
     "start_time": "2021-12-06T16:00:10.349710",
     "status": "completed"
    },
    "tags": []
   },
   "outputs": [],
   "source": [
    "df = pd.read_sql(\"select * from EBAY_TOP_BERLIN where record_time in (select distinct record_time from EBAY_TOP_BERLIN order by record_time desc limit 2)\", sqlite3.connect(\"UsedObjects.db\"))"
   ]
  },
  {
   "cell_type": "code",
   "execution_count": 5,
   "id": "popular-active",
   "metadata": {
    "execution": {
     "iopub.execute_input": "2021-12-06T16:00:11.945299Z",
     "iopub.status.busy": "2021-12-06T16:00:11.931596Z",
     "iopub.status.idle": "2021-12-06T16:00:11.963696Z",
     "shell.execute_reply": "2021-12-06T16:00:11.965165Z"
    },
    "papermill": {
     "duration": 0.074096,
     "end_time": "2021-12-06T16:00:11.965637",
     "exception": false,
     "start_time": "2021-12-06T16:00:11.891541",
     "status": "completed"
    },
    "tags": []
   },
   "outputs": [],
   "source": [
    "df_pivot = df.pivot_table(index=\"PRODUCT\", columns = \"RECORD_TIME\", values = \"LISTING_COUNT\")"
   ]
  },
  {
   "cell_type": "code",
   "execution_count": 6,
   "id": "union-huntington",
   "metadata": {
    "execution": {
     "iopub.execute_input": "2021-12-06T16:00:12.026943Z",
     "iopub.status.busy": "2021-12-06T16:00:12.024625Z",
     "iopub.status.idle": "2021-12-06T16:00:12.032237Z",
     "shell.execute_reply": "2021-12-06T16:00:12.030658Z"
    },
    "papermill": {
     "duration": 0.045878,
     "end_time": "2021-12-06T16:00:12.032745",
     "exception": false,
     "start_time": "2021-12-06T16:00:11.986867",
     "status": "completed"
    },
    "tags": []
   },
   "outputs": [],
   "source": [
    "df_pivot.columns = [\"stamp_1\", \"stamp_2\"]\n",
    "df_pivot_diff = df_pivot.diff(axis=1)"
   ]
  },
  {
   "cell_type": "code",
   "execution_count": 7,
   "id": "fifth-motion",
   "metadata": {
    "execution": {
     "iopub.execute_input": "2021-12-06T16:00:12.099438Z",
     "iopub.status.busy": "2021-12-06T16:00:12.086429Z",
     "iopub.status.idle": "2021-12-06T16:00:14.074127Z",
     "shell.execute_reply": "2021-12-06T16:00:14.075349Z"
    },
    "papermill": {
     "duration": 2.022762,
     "end_time": "2021-12-06T16:00:14.075789",
     "exception": false,
     "start_time": "2021-12-06T16:00:12.053027",
     "status": "completed"
    },
    "tags": []
   },
   "outputs": [
    {
     "data": {
      "text/plain": [
       "<AxesSubplot:ylabel='PRODUCT'>"
      ]
     },
     "execution_count": 7,
     "metadata": {},
     "output_type": "execute_result"
    },
    {
     "data": {
      "image/png": "[encoded data removed]",
      "text/plain": [
       "<Figure size 432x288 with 1 Axes>"
      ]
     },
     "metadata": {
      "needs_background": "light"
     },
     "output_type": "display_data"
    }
   ],
   "source": [
    "df_pivot_diff.sort_values(\"stamp_2\", ascending = False)[\"stamp_2\"].head(10).plot.barh()"
   ]
  },
  {
   "cell_type": "code",
   "execution_count": null,
   "id": "extra-executive",
   "metadata": {
    "papermill": {
     "duration": 0.022073,
     "end_time": "2021-12-06T16:00:14.121693",
     "exception": false,
     "start_time": "2021-12-06T16:00:14.099620",
     "status": "completed"
    },
    "tags": []
   },
   "outputs": [],
   "source": []
  }
 ],
 "metadata": {
  "kernelspec": {
   "display_name": "Python 3",
   "language": "python",
   "name": "python3"
  },
  "language_info": {
   "codemirror_mode": {
    "name": "ipython",
    "version": 3
   },
   "file_extension": ".py",
   "mimetype": "text/x-python",
   "name": "python",
   "nbconvert_exporter": "python",
   "pygments_lexer": "ipython3",
   "version": "3.9.5"
  },
  "papermill": {
   "default_parameters": {},
   "duration": 9.941319,
   "end_time": "2021-12-06T16:00:15.381175",
   "environment_variables": {},
   "exception": null,
   "input_path": "eBay_Overview.ipynb",
   "output_path": "eBay_Overview.ipynb",
   "parameters": {},
   "start_time": "2021-12-06T16:00:05.439856",
   "version": "2.3.3"
  }
 },
 "nbformat": 4,
 "nbformat_minor": 5
}