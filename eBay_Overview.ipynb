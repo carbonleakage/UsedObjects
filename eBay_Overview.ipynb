{
 "cells": [
  {
   "cell_type": "code",
   "execution_count": 1,
   "id": "reverse-picking",
   "metadata": {
    "execution": {
     "iopub.execute_input": "2021-10-21T08:00:07.106138Z",
     "iopub.status.busy": "2021-10-21T08:00:07.104122Z",
     "iopub.status.idle": "2021-10-21T08:00:07.915123Z",
     "shell.execute_reply": "2021-10-21T08:00:07.916456Z"
    },
    "papermill": {
     "duration": 0.861723,
     "end_time": "2021-10-21T08:00:07.917181",
     "exception": false,
     "start_time": "2021-10-21T08:00:07.055458",
     "status": "completed"
    },
    "tags": []
   },
   "outputs": [],
   "source": [
    "import pandas as pd\n",
    "import sqlite3"
   ]
  },
  {
   "cell_type": "code",
   "execution_count": 2,
   "id": "innovative-syndrome",
   "metadata": {
    "execution": {
     "iopub.execute_input": "2021-10-21T08:00:07.968032Z",
     "iopub.status.busy": "2021-10-21T08:00:07.965999Z",
     "iopub.status.idle": "2021-10-21T08:00:08.563528Z",
     "shell.execute_reply": "2021-10-21T08:00:08.564885Z"
    },
    "papermill": {
     "duration": 0.627948,
     "end_time": "2021-10-21T08:00:08.565317",
     "exception": false,
     "start_time": "2021-10-21T08:00:07.937369",
     "status": "completed"
    },
    "tags": []
   },
   "outputs": [],
   "source": [
    "timestamps = pd.read_sql(\"select distinct record_time from EBAY_TOP_BERLIN order by record_time desc limit 2\", sqlite3.connect(\"UsedObjects.db\"))"
   ]
  },
  {
   "cell_type": "code",
   "execution_count": 3,
   "id": "periodic-identification",
   "metadata": {
    "execution": {
     "iopub.execute_input": "2021-10-21T08:00:08.639902Z",
     "iopub.status.busy": "2021-10-21T08:00:08.637845Z",
     "iopub.status.idle": "2021-10-21T08:00:08.659934Z",
     "shell.execute_reply": "2021-10-21T08:00:08.658061Z"
    },
    "papermill": {
     "duration": 0.069961,
     "end_time": "2021-10-21T08:00:08.660383",
     "exception": false,
     "start_time": "2021-10-21T08:00:08.590422",
     "status": "completed"
    },
    "tags": []
   },
   "outputs": [
    {
     "data": {
      "text/html": [
       "<div>\n",
       "<style scoped>\n",
       "    .dataframe tbody tr th:only-of-type {\n",
       "        vertical-align: middle;\n",
       "    }\n",
       "\n",
       "    .dataframe tbody tr th {\n",
       "        vertical-align: top;\n",
       "    }\n",
       "\n",
       "    .dataframe thead th {\n",
       "        text-align: right;\n",
       "    }\n",
       "</style>\n",
       "<table border=\"1\" class=\"dataframe\">\n",
       "  <thead>\n",
       "    <tr style=\"text-align: right;\">\n",
       "      <th></th>\n",
       "      <th>RECORD_TIME</th>\n",
       "    </tr>\n",
       "  </thead>\n",
       "  <tbody>\n",
       "    <tr>\n",
       "      <th>0</th>\n",
       "      <td>2021-10-21 10:00</td>\n",
       "    </tr>\n",
       "    <tr>\n",
       "      <th>1</th>\n",
       "      <td>2021-10-21 09:30</td>\n",
       "    </tr>\n",
       "  </tbody>\n",
       "</table>\n",
       "</div>"
      ],
      "text/plain": [
       "        RECORD_TIME\n",
       "0  2021-10-21 10:00\n",
       "1  2021-10-21 09:30"
      ]
     },
     "execution_count": 3,
     "metadata": {},
     "output_type": "execute_result"
    }
   ],
   "source": [
    "timestamps"
   ]
  },
  {
   "cell_type": "code",
   "execution_count": 4,
   "id": "alternate-victory",
   "metadata": {
    "execution": {
     "iopub.execute_input": "2021-10-21T08:00:08.714527Z",
     "iopub.status.busy": "2021-10-21T08:00:08.712379Z",
     "iopub.status.idle": "2021-10-21T08:00:09.579854Z",
     "shell.execute_reply": "2021-10-21T08:00:09.581315Z"
    },
    "papermill": {
     "duration": 0.899059,
     "end_time": "2021-10-21T08:00:09.581782",
     "exception": false,
     "start_time": "2021-10-21T08:00:08.682723",
     "status": "completed"
    },
    "tags": []
   },
   "outputs": [],
   "source": [
    "df = pd.read_sql(\"select * from EBAY_TOP_BERLIN where record_time in (select distinct record_time from EBAY_TOP_BERLIN order by record_time desc limit 2)\", sqlite3.connect(\"UsedObjects.db\"))"
   ]
  },
  {
   "cell_type": "code",
   "execution_count": 5,
   "id": "popular-active",
   "metadata": {
    "execution": {
     "iopub.execute_input": "2021-10-21T08:00:09.651599Z",
     "iopub.status.busy": "2021-10-21T08:00:09.644605Z",
     "iopub.status.idle": "2021-10-21T08:00:09.669335Z",
     "shell.execute_reply": "2021-10-21T08:00:09.670725Z"
    },
    "papermill": {
     "duration": 0.069351,
     "end_time": "2021-10-21T08:00:09.671170",
     "exception": false,
     "start_time": "2021-10-21T08:00:09.601819",
     "status": "completed"
    },
    "tags": []
   },
   "outputs": [],
   "source": [
    "df_pivot = df.pivot_table(index=\"PRODUCT\", columns = \"RECORD_TIME\", values = \"LISTING_COUNT\")"
   ]
  },
  {
   "cell_type": "code",
   "execution_count": 6,
   "id": "union-huntington",
   "metadata": {
    "execution": {
     "iopub.execute_input": "2021-10-21T08:00:09.729502Z",
     "iopub.status.busy": "2021-10-21T08:00:09.726897Z",
     "iopub.status.idle": "2021-10-21T08:00:09.733327Z",
     "shell.execute_reply": "2021-10-21T08:00:09.734781Z"
    },
    "papermill": {
     "duration": 0.04379,
     "end_time": "2021-10-21T08:00:09.735273",
     "exception": false,
     "start_time": "2021-10-21T08:00:09.691483",
     "status": "completed"
    },
    "tags": []
   },
   "outputs": [],
   "source": [
    "df_pivot.columns = [\"stamp_1\", \"stamp_2\"]\n",
    "df_pivot_diff = df_pivot.diff(axis=1)"
   ]
  },
  {
   "cell_type": "code",
   "execution_count": 7,
   "id": "fifth-motion",
   "metadata": {
    "execution": {
     "iopub.execute_input": "2021-10-21T08:00:09.788571Z",
     "iopub.status.busy": "2021-10-21T08:00:09.786388Z",
     "iopub.status.idle": "2021-10-21T08:00:11.272051Z",
     "shell.execute_reply": "2021-10-21T08:00:11.273833Z"
    },
    "papermill": {
     "duration": 1.518583,
     "end_time": "2021-10-21T08:00:11.274368",
     "exception": false,
     "start_time": "2021-10-21T08:00:09.755785",
     "status": "completed"
    },
    "tags": []
   },
   "outputs": [
    {
     "data": {
      "text/plain": [
       "<AxesSubplot:ylabel='PRODUCT'>"
      ]
     },
     "execution_count": 7,
     "metadata": {},
     "output_type": "execute_result"
    },
    {
     "data": {
      "image/png": "[encoded data removed]",
      "text/plain": [
       "<Figure size 432x288 with 1 Axes>"
      ]
     },
     "metadata": {
      "needs_background": "light"
     },
     "output_type": "display_data"
    }
   ],
   "source": [
    "df_pivot_diff.sort_values(\"stamp_2\", ascending = False)[\"stamp_2\"].head(10).plot.barh()"
   ]
  },
  {
   "cell_type": "code",
   "execution_count": null,
   "id": "extra-executive",
   "metadata": {
    "papermill": {
     "duration": 0.022046,
     "end_time": "2021-10-21T08:00:11.320780",
     "exception": false,
     "start_time": "2021-10-21T08:00:11.298734",
     "status": "completed"
    },
    "tags": []
   },
   "outputs": [],
   "source": []
  }
 ],
 "metadata": {
  "kernelspec": {
   "display_name": "Python 3",
   "language": "python",
   "name": "python3"
  },
  "language_info": {
   "codemirror_mode": {
    "name": "ipython",
    "version": 3
   },
   "file_extension": ".py",
   "mimetype": "text/x-python",
   "name": "python",
   "nbconvert_exporter": "python",
   "pygments_lexer": "ipython3",
   "version": "3.9.5"
  },
  "papermill": {
   "default_parameters": {},
   "duration": 7.815963,
   "end_time": "2021-10-21T08:00:12.465374",
   "environment_variables": {},
   "exception": null,
   "input_path": "eBay_Overview.ipynb",
   "output_path": "eBay_Overview.ipynb",
   "parameters": {},
   "start_time": "2021-10-21T08:00:04.649411",
   "version": "2.3.3"
  }
 },
 "nbformat": 4,
 "nbformat_minor": 5
}