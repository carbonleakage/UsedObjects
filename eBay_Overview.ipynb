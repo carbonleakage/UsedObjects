{
 "cells": [
  {
   "cell_type": "code",
   "execution_count": 1,
   "id": "reverse-picking",
   "metadata": {
    "execution": {
     "iopub.execute_input": "2021-10-03T03:30:06.945715Z",
     "iopub.status.busy": "2021-10-03T03:30:06.943824Z",
     "iopub.status.idle": "2021-10-03T03:30:07.748288Z",
     "shell.execute_reply": "2021-10-03T03:30:07.749525Z"
    },
    "papermill": {
     "duration": 0.855102,
     "end_time": "2021-10-03T03:30:07.750137",
     "exception": false,
     "start_time": "2021-10-03T03:30:06.895035",
     "status": "completed"
    },
    "tags": []
   },
   "outputs": [],
   "source": [
    "import pandas as pd\n",
    "import sqlite3"
   ]
  },
  {
   "cell_type": "code",
   "execution_count": 2,
   "id": "innovative-syndrome",
   "metadata": {
    "execution": {
     "iopub.execute_input": "2021-10-03T03:30:07.801137Z",
     "iopub.status.busy": "2021-10-03T03:30:07.799287Z",
     "iopub.status.idle": "2021-10-03T03:30:08.239072Z",
     "shell.execute_reply": "2021-10-03T03:30:08.240196Z"
    },
    "papermill": {
     "duration": 0.469373,
     "end_time": "2021-10-03T03:30:08.240607",
     "exception": false,
     "start_time": "2021-10-03T03:30:07.771234",
     "status": "completed"
    },
    "tags": []
   },
   "outputs": [],
   "source": [
    "timestamps = pd.read_sql(\"select distinct record_time from EBAY_TOP_BERLIN order by record_time desc limit 2\", sqlite3.connect(\"UsedObjects.db\"))"
   ]
  },
  {
   "cell_type": "code",
   "execution_count": 3,
   "id": "periodic-identification",
   "metadata": {
    "execution": {
     "iopub.execute_input": "2021-10-03T03:30:08.308712Z",
     "iopub.status.busy": "2021-10-03T03:30:08.303415Z",
     "iopub.status.idle": "2021-10-03T03:30:08.323332Z",
     "shell.execute_reply": "2021-10-03T03:30:08.324646Z"
    },
    "papermill": {
     "duration": 0.063531,
     "end_time": "2021-10-03T03:30:08.325046",
     "exception": false,
     "start_time": "2021-10-03T03:30:08.261515",
     "status": "completed"
    },
    "tags": []
   },
   "outputs": [
    {
     "data": {
      "text/html": [
       "<div>\n",
       "<style scoped>\n",
       "    .dataframe tbody tr th:only-of-type {\n",
       "        vertical-align: middle;\n",
       "    }\n",
       "\n",
       "    .dataframe tbody tr th {\n",
       "        vertical-align: top;\n",
       "    }\n",
       "\n",
       "    .dataframe thead th {\n",
       "        text-align: right;\n",
       "    }\n",
       "</style>\n",
       "<table border=\"1\" class=\"dataframe\">\n",
       "  <thead>\n",
       "    <tr style=\"text-align: right;\">\n",
       "      <th></th>\n",
       "      <th>RECORD_TIME</th>\n",
       "    </tr>\n",
       "  </thead>\n",
       "  <tbody>\n",
       "    <tr>\n",
       "      <th>0</th>\n",
       "      <td>2021-10-03 05:30</td>\n",
       "    </tr>\n",
       "    <tr>\n",
       "      <th>1</th>\n",
       "      <td>2021-10-03 05:00</td>\n",
       "    </tr>\n",
       "  </tbody>\n",
       "</table>\n",
       "</div>"
      ],
      "text/plain": [
       "        RECORD_TIME\n",
       "0  2021-10-03 05:30\n",
       "1  2021-10-03 05:00"
      ]
     },
     "execution_count": 3,
     "metadata": {},
     "output_type": "execute_result"
    }
   ],
   "source": [
    "timestamps"
   ]
  },
  {
   "cell_type": "code",
   "execution_count": 4,
   "id": "alternate-victory",
   "metadata": {
    "execution": {
     "iopub.execute_input": "2021-10-03T03:30:08.377854Z",
     "iopub.status.busy": "2021-10-03T03:30:08.375600Z",
     "iopub.status.idle": "2021-10-03T03:30:09.008419Z",
     "shell.execute_reply": "2021-10-03T03:30:09.009616Z"
    },
    "papermill": {
     "duration": 0.662988,
     "end_time": "2021-10-03T03:30:09.010013",
     "exception": false,
     "start_time": "2021-10-03T03:30:08.347025",
     "status": "completed"
    },
    "tags": []
   },
   "outputs": [],
   "source": [
    "df = pd.read_sql(\"select * from EBAY_TOP_BERLIN where record_time in (select distinct record_time from EBAY_TOP_BERLIN order by record_time desc limit 2)\", sqlite3.connect(\"UsedObjects.db\"))"
   ]
  },
  {
   "cell_type": "code",
   "execution_count": 5,
   "id": "popular-active",
   "metadata": {
    "execution": {
     "iopub.execute_input": "2021-10-03T03:30:09.071292Z",
     "iopub.status.busy": "2021-10-03T03:30:09.069017Z",
     "iopub.status.idle": "2021-10-03T03:30:09.096078Z",
     "shell.execute_reply": "2021-10-03T03:30:09.097277Z"
    },
    "papermill": {
     "duration": 0.067049,
     "end_time": "2021-10-03T03:30:09.097676",
     "exception": false,
     "start_time": "2021-10-03T03:30:09.030627",
     "status": "completed"
    },
    "tags": []
   },
   "outputs": [],
   "source": [
    "df_pivot = df.pivot_table(index=\"PRODUCT\", columns = \"RECORD_TIME\", values = \"LISTING_COUNT\")"
   ]
  },
  {
   "cell_type": "code",
   "execution_count": 6,
   "id": "union-huntington",
   "metadata": {
    "execution": {
     "iopub.execute_input": "2021-10-03T03:30:09.154703Z",
     "iopub.status.busy": "2021-10-03T03:30:09.152577Z",
     "iopub.status.idle": "2021-10-03T03:30:09.158162Z",
     "shell.execute_reply": "2021-10-03T03:30:09.159838Z"
    },
    "papermill": {
     "duration": 0.041038,
     "end_time": "2021-10-03T03:30:09.160322",
     "exception": false,
     "start_time": "2021-10-03T03:30:09.119284",
     "status": "completed"
    },
    "tags": []
   },
   "outputs": [],
   "source": [
    "df_pivot.columns = [\"stamp_1\", \"stamp_2\"]\n",
    "df_pivot_diff = df_pivot.diff(axis=1)"
   ]
  },
  {
   "cell_type": "code",
   "execution_count": 7,
   "id": "fifth-motion",
   "metadata": {
    "execution": {
     "iopub.execute_input": "2021-10-03T03:30:09.216487Z",
     "iopub.status.busy": "2021-10-03T03:30:09.214005Z",
     "iopub.status.idle": "2021-10-03T03:30:10.691254Z",
     "shell.execute_reply": "2021-10-03T03:30:10.692620Z"
    },
    "papermill": {
     "duration": 1.510809,
     "end_time": "2021-10-03T03:30:10.693057",
     "exception": false,
     "start_time": "2021-10-03T03:30:09.182248",
     "status": "completed"
    },
    "tags": []
   },
   "outputs": [
    {
     "data": {
      "text/plain": [
       "<AxesSubplot:ylabel='PRODUCT'>"
      ]
     },
     "execution_count": 7,
     "metadata": {},
     "output_type": "execute_result"
    },
    {
     "data": {
      "image/png": "[encoded data removed]",
      "text/plain": [
       "<Figure size 432x288 with 1 Axes>"
      ]
     },
     "metadata": {
      "needs_background": "light"
     },
     "output_type": "display_data"
    }
   ],
   "source": [
    "df_pivot_diff.sort_values(\"stamp_2\", ascending = False)[\"stamp_2\"].head(10).plot.barh()"
   ]
  },
  {
   "cell_type": "code",
   "execution_count": null,
   "id": "extra-executive",
   "metadata": {
    "papermill": {
     "duration": 0.022471,
     "end_time": "2021-10-03T03:30:10.740318",
     "exception": false,
     "start_time": "2021-10-03T03:30:10.717847",
     "status": "completed"
    },
    "tags": []
   },
   "outputs": [],
   "source": []
  }
 ],
 "metadata": {
  "kernelspec": {
   "display_name": "Python 3",
   "language": "python",
   "name": "python3"
  },
  "language_info": {
   "codemirror_mode": {
    "name": "ipython",
    "version": 3
   },
   "file_extension": ".py",
   "mimetype": "text/x-python",
   "name": "python",
   "nbconvert_exporter": "python",
   "pygments_lexer": "ipython3",
   "version": "3.9.5"
  },
  "papermill": {
   "default_parameters": {},
   "duration": 7.82131,
   "end_time": "2021-10-03T03:30:12.314151",
   "environment_variables": {},
   "exception": null,
   "input_path": "eBay_Overview.ipynb",
   "output_path": "eBay_Overview.ipynb",
   "parameters": {},
   "start_time": "2021-10-03T03:30:04.492841",
   "version": "2.3.3"
  }
 },
 "nbformat": 4,
 "nbformat_minor": 5
}