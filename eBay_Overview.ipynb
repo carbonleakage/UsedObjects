{
 "cells": [
  {
   "cell_type": "code",
   "execution_count": 1,
   "id": "reverse-picking",
   "metadata": {
    "execution": {
     "iopub.execute_input": "2021-12-17T19:30:08.377972Z",
     "iopub.status.busy": "2021-12-17T19:30:08.375520Z",
     "iopub.status.idle": "2021-12-17T19:30:09.347323Z",
     "shell.execute_reply": "2021-12-17T19:30:09.345514Z"
    },
    "papermill": {
     "duration": 1.018631,
     "end_time": "2021-12-17T19:30:09.347809",
     "exception": false,
     "start_time": "2021-12-17T19:30:08.329178",
     "status": "completed"
    },
    "tags": []
   },
   "outputs": [],
   "source": [
    "import pandas as pd\n",
    "import sqlite3"
   ]
  },
  {
   "cell_type": "code",
   "execution_count": 2,
   "id": "innovative-syndrome",
   "metadata": {
    "execution": {
     "iopub.execute_input": "2021-12-17T19:30:09.402316Z",
     "iopub.status.busy": "2021-12-17T19:30:09.399950Z",
     "iopub.status.idle": "2021-12-17T19:30:10.500266Z",
     "shell.execute_reply": "2021-12-17T19:30:10.502184Z"
    },
    "papermill": {
     "duration": 1.133593,
     "end_time": "2021-12-17T19:30:10.502905",
     "exception": false,
     "start_time": "2021-12-17T19:30:09.369312",
     "status": "completed"
    },
    "tags": []
   },
   "outputs": [],
   "source": [
    "timestamps = pd.read_sql(\"select distinct record_time from EBAY_TOP_BERLIN order by record_time desc limit 2\", sqlite3.connect(\"UsedObjects.db\"))"
   ]
  },
  {
   "cell_type": "code",
   "execution_count": 3,
   "id": "periodic-identification",
   "metadata": {
    "execution": {
     "iopub.execute_input": "2021-12-17T19:30:10.578631Z",
     "iopub.status.busy": "2021-12-17T19:30:10.572805Z",
     "iopub.status.idle": "2021-12-17T19:30:10.601098Z",
     "shell.execute_reply": "2021-12-17T19:30:10.599282Z"
    },
    "papermill": {
     "duration": 0.077766,
     "end_time": "2021-12-17T19:30:10.601563",
     "exception": false,
     "start_time": "2021-12-17T19:30:10.523797",
     "status": "completed"
    },
    "tags": []
   },
   "outputs": [
    {
     "data": {
      "text/html": [
       "<div>\n",
       "<style scoped>\n",
       "    .dataframe tbody tr th:only-of-type {\n",
       "        vertical-align: middle;\n",
       "    }\n",
       "\n",
       "    .dataframe tbody tr th {\n",
       "        vertical-align: top;\n",
       "    }\n",
       "\n",
       "    .dataframe thead th {\n",
       "        text-align: right;\n",
       "    }\n",
       "</style>\n",
       "<table border=\"1\" class=\"dataframe\">\n",
       "  <thead>\n",
       "    <tr style=\"text-align: right;\">\n",
       "      <th></th>\n",
       "      <th>RECORD_TIME</th>\n",
       "    </tr>\n",
       "  </thead>\n",
       "  <tbody>\n",
       "    <tr>\n",
       "      <th>0</th>\n",
       "      <td>2021-12-17 20:30</td>\n",
       "    </tr>\n",
       "    <tr>\n",
       "      <th>1</th>\n",
       "      <td>2021-12-17 20:00</td>\n",
       "    </tr>\n",
       "  </tbody>\n",
       "</table>\n",
       "</div>"
      ],
      "text/plain": [
       "        RECORD_TIME\n",
       "0  2021-12-17 20:30\n",
       "1  2021-12-17 20:00"
      ]
     },
     "execution_count": 3,
     "metadata": {},
     "output_type": "execute_result"
    }
   ],
   "source": [
    "timestamps"
   ]
  },
  {
   "cell_type": "code",
   "execution_count": 4,
   "id": "alternate-victory",
   "metadata": {
    "execution": {
     "iopub.execute_input": "2021-12-17T19:30:10.658239Z",
     "iopub.status.busy": "2021-12-17T19:30:10.655683Z",
     "iopub.status.idle": "2021-12-17T19:30:12.244589Z",
     "shell.execute_reply": "2021-12-17T19:30:12.246988Z"
    },
    "papermill": {
     "duration": 1.624396,
     "end_time": "2021-12-17T19:30:12.247484",
     "exception": false,
     "start_time": "2021-12-17T19:30:10.623088",
     "status": "completed"
    },
    "tags": []
   },
   "outputs": [],
   "source": [
    "df = pd.read_sql(\"select * from EBAY_TOP_BERLIN where record_time in (select distinct record_time from EBAY_TOP_BERLIN order by record_time desc limit 2)\", sqlite3.connect(\"UsedObjects.db\"))"
   ]
  },
  {
   "cell_type": "code",
   "execution_count": 5,
   "id": "popular-active",
   "metadata": {
    "execution": {
     "iopub.execute_input": "2021-12-17T19:30:12.314034Z",
     "iopub.status.busy": "2021-12-17T19:30:12.311715Z",
     "iopub.status.idle": "2021-12-17T19:30:12.341701Z",
     "shell.execute_reply": "2021-12-17T19:30:12.343193Z"
    },
    "papermill": {
     "duration": 0.074507,
     "end_time": "2021-12-17T19:30:12.343655",
     "exception": false,
     "start_time": "2021-12-17T19:30:12.269148",
     "status": "completed"
    },
    "tags": []
   },
   "outputs": [],
   "source": [
    "df_pivot = df.pivot_table(index=\"PRODUCT\", columns = \"RECORD_TIME\", values = \"LISTING_COUNT\")"
   ]
  },
  {
   "cell_type": "code",
   "execution_count": 6,
   "id": "union-huntington",
   "metadata": {
    "execution": {
     "iopub.execute_input": "2021-12-17T19:30:12.402005Z",
     "iopub.status.busy": "2021-12-17T19:30:12.399728Z",
     "iopub.status.idle": "2021-12-17T19:30:12.405692Z",
     "shell.execute_reply": "2021-12-17T19:30:12.407161Z"
    },
    "papermill": {
     "duration": 0.044243,
     "end_time": "2021-12-17T19:30:12.407628",
     "exception": false,
     "start_time": "2021-12-17T19:30:12.363385",
     "status": "completed"
    },
    "tags": []
   },
   "outputs": [],
   "source": [
    "df_pivot.columns = [\"stamp_1\", \"stamp_2\"]\n",
    "df_pivot_diff = df_pivot.diff(axis=1)"
   ]
  },
  {
   "cell_type": "code",
   "execution_count": 7,
   "id": "fifth-motion",
   "metadata": {
    "execution": {
     "iopub.execute_input": "2021-12-17T19:30:12.464551Z",
     "iopub.status.busy": "2021-12-17T19:30:12.462028Z",
     "iopub.status.idle": "2021-12-17T19:30:14.388490Z",
     "shell.execute_reply": "2021-12-17T19:30:14.389757Z"
    },
    "papermill": {
     "duration": 1.962353,
     "end_time": "2021-12-17T19:30:14.390199",
     "exception": false,
     "start_time": "2021-12-17T19:30:12.427846",
     "status": "completed"
    },
    "tags": []
   },
   "outputs": [
    {
     "data": {
      "text/plain": [
       "<AxesSubplot:ylabel='PRODUCT'>"
      ]
     },
     "execution_count": 7,
     "metadata": {},
     "output_type": "execute_result"
    },
    {
     "data": {
      "image/png": "[encoded data removed]",
      "text/plain": [
       "<Figure size 432x288 with 1 Axes>"
      ]
     },
     "metadata": {
      "needs_background": "light"
     },
     "output_type": "display_data"
    }
   ],
   "source": [
    "df_pivot_diff.sort_values(\"stamp_2\", ascending = False)[\"stamp_2\"].head(10).plot.barh()"
   ]
  },
  {
   "cell_type": "code",
   "execution_count": null,
   "id": "extra-executive",
   "metadata": {
    "papermill": {
     "duration": 0.025658,
     "end_time": "2021-12-17T19:30:14.446332",
     "exception": false,
     "start_time": "2021-12-17T19:30:14.420674",
     "status": "completed"
    },
    "tags": []
   },
   "outputs": [],
   "source": []
  }
 ],
 "metadata": {
  "kernelspec": {
   "display_name": "Python 3",
   "language": "python",
   "name": "python3"
  },
  "language_info": {
   "codemirror_mode": {
    "name": "ipython",
    "version": 3
   },
   "file_extension": ".py",
   "mimetype": "text/x-python",
   "name": "python",
   "nbconvert_exporter": "python",
   "pygments_lexer": "ipython3",
   "version": "3.9.5"
  },
  "papermill": {
   "default_parameters": {},
   "duration": 9.529022,
   "end_time": "2021-12-17T19:30:15.086788",
   "environment_variables": {},
   "exception": null,
   "input_path": "eBay_Overview.ipynb",
   "output_path": "eBay_Overview.ipynb",
   "parameters": {},
   "start_time": "2021-12-17T19:30:05.557766",
   "version": "2.3.3"
  }
 },
 "nbformat": 4,
 "nbformat_minor": 5
}