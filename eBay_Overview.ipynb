{
 "cells": [
  {
   "cell_type": "code",
   "execution_count": 1,
   "id": "reverse-picking",
   "metadata": {
    "execution": {
     "iopub.execute_input": "2021-09-03T06:00:06.673166Z",
     "iopub.status.busy": "2021-09-03T06:00:06.671152Z",
     "iopub.status.idle": "2021-09-03T06:00:07.476269Z",
     "shell.execute_reply": "2021-09-03T06:00:07.474585Z"
    },
    "papermill": {
     "duration": 0.855002,
     "end_time": "2021-09-03T06:00:07.476678",
     "exception": false,
     "start_time": "2021-09-03T06:00:06.621676",
     "status": "completed"
    },
    "tags": []
   },
   "outputs": [],
   "source": [
    "import pandas as pd\n",
    "import sqlite3"
   ]
  },
  {
   "cell_type": "code",
   "execution_count": 2,
   "id": "innovative-syndrome",
   "metadata": {
    "execution": {
     "iopub.execute_input": "2021-09-03T06:00:07.528224Z",
     "iopub.status.busy": "2021-09-03T06:00:07.526126Z",
     "iopub.status.idle": "2021-09-03T06:00:07.719185Z",
     "shell.execute_reply": "2021-09-03T06:00:07.720426Z"
    },
    "papermill": {
     "duration": 0.222514,
     "end_time": "2021-09-03T06:00:07.720832",
     "exception": false,
     "start_time": "2021-09-03T06:00:07.498318",
     "status": "completed"
    },
    "tags": []
   },
   "outputs": [],
   "source": [
    "timestamps = pd.read_sql(\"select distinct record_time from EBAY_TOP_BERLIN order by record_time desc limit 2\", sqlite3.connect(\"UsedObjects.db\"))"
   ]
  },
  {
   "cell_type": "code",
   "execution_count": 3,
   "id": "periodic-identification",
   "metadata": {
    "execution": {
     "iopub.execute_input": "2021-09-03T06:00:07.786063Z",
     "iopub.status.busy": "2021-09-03T06:00:07.783857Z",
     "iopub.status.idle": "2021-09-03T06:00:07.804794Z",
     "shell.execute_reply": "2021-09-03T06:00:07.806023Z"
    },
    "papermill": {
     "duration": 0.066216,
     "end_time": "2021-09-03T06:00:07.806421",
     "exception": false,
     "start_time": "2021-09-03T06:00:07.740205",
     "status": "completed"
    },
    "tags": []
   },
   "outputs": [
    {
     "data": {
      "text/html": [
       "<div>\n",
       "<style scoped>\n",
       "    .dataframe tbody tr th:only-of-type {\n",
       "        vertical-align: middle;\n",
       "    }\n",
       "\n",
       "    .dataframe tbody tr th {\n",
       "        vertical-align: top;\n",
       "    }\n",
       "\n",
       "    .dataframe thead th {\n",
       "        text-align: right;\n",
       "    }\n",
       "</style>\n",
       "<table border=\"1\" class=\"dataframe\">\n",
       "  <thead>\n",
       "    <tr style=\"text-align: right;\">\n",
       "      <th></th>\n",
       "      <th>RECORD_TIME</th>\n",
       "    </tr>\n",
       "  </thead>\n",
       "  <tbody>\n",
       "    <tr>\n",
       "      <th>0</th>\n",
       "      <td>2021-09-03 08:00</td>\n",
       "    </tr>\n",
       "    <tr>\n",
       "      <th>1</th>\n",
       "      <td>2021-09-03 07:30</td>\n",
       "    </tr>\n",
       "  </tbody>\n",
       "</table>\n",
       "</div>"
      ],
      "text/plain": [
       "        RECORD_TIME\n",
       "0  2021-09-03 08:00\n",
       "1  2021-09-03 07:30"
      ]
     },
     "execution_count": 3,
     "metadata": {},
     "output_type": "execute_result"
    }
   ],
   "source": [
    "timestamps"
   ]
  },
  {
   "cell_type": "code",
   "execution_count": 4,
   "id": "alternate-victory",
   "metadata": {
    "execution": {
     "iopub.execute_input": "2021-09-03T06:00:07.858617Z",
     "iopub.status.busy": "2021-09-03T06:00:07.856346Z",
     "iopub.status.idle": "2021-09-03T06:00:08.148172Z",
     "shell.execute_reply": "2021-09-03T06:00:08.149446Z"
    },
    "papermill": {
     "duration": 0.322319,
     "end_time": "2021-09-03T06:00:08.149847",
     "exception": false,
     "start_time": "2021-09-03T06:00:07.827528",
     "status": "completed"
    },
    "tags": []
   },
   "outputs": [],
   "source": [
    "df = pd.read_sql(\"select * from EBAY_TOP_BERLIN where record_time in (select distinct record_time from EBAY_TOP_BERLIN order by record_time desc limit 2)\", sqlite3.connect(\"UsedObjects.db\"))"
   ]
  },
  {
   "cell_type": "code",
   "execution_count": 5,
   "id": "popular-active",
   "metadata": {
    "execution": {
     "iopub.execute_input": "2021-09-03T06:00:08.229196Z",
     "iopub.status.busy": "2021-09-03T06:00:08.216335Z",
     "iopub.status.idle": "2021-09-03T06:00:08.245403Z",
     "shell.execute_reply": "2021-09-03T06:00:08.246693Z"
    },
    "papermill": {
     "duration": 0.071574,
     "end_time": "2021-09-03T06:00:08.247170",
     "exception": false,
     "start_time": "2021-09-03T06:00:08.175596",
     "status": "completed"
    },
    "tags": []
   },
   "outputs": [],
   "source": [
    "df_pivot = df.pivot_table(index=\"PRODUCT\", columns = \"RECORD_TIME\", values = \"LISTING_COUNT\")"
   ]
  },
  {
   "cell_type": "code",
   "execution_count": 6,
   "id": "union-huntington",
   "metadata": {
    "execution": {
     "iopub.execute_input": "2021-09-03T06:00:08.303188Z",
     "iopub.status.busy": "2021-09-03T06:00:08.301097Z",
     "iopub.status.idle": "2021-09-03T06:00:08.306486Z",
     "shell.execute_reply": "2021-09-03T06:00:08.307871Z"
    },
    "papermill": {
     "duration": 0.040948,
     "end_time": "2021-09-03T06:00:08.308308",
     "exception": false,
     "start_time": "2021-09-03T06:00:08.267360",
     "status": "completed"
    },
    "tags": []
   },
   "outputs": [],
   "source": [
    "df_pivot.columns = [\"stamp_1\", \"stamp_2\"]\n",
    "df_pivot_diff = df_pivot.diff(axis=1)"
   ]
  },
  {
   "cell_type": "code",
   "execution_count": 7,
   "id": "fifth-motion",
   "metadata": {
    "execution": {
     "iopub.execute_input": "2021-09-03T06:00:08.363431Z",
     "iopub.status.busy": "2021-09-03T06:00:08.360837Z",
     "iopub.status.idle": "2021-09-03T06:00:09.830648Z",
     "shell.execute_reply": "2021-09-03T06:00:09.832343Z"
    },
    "papermill": {
     "duration": 1.503187,
     "end_time": "2021-09-03T06:00:09.832853",
     "exception": false,
     "start_time": "2021-09-03T06:00:08.329666",
     "status": "completed"
    },
    "tags": []
   },
   "outputs": [
    {
     "data": {
      "text/plain": [
       "<AxesSubplot:ylabel='PRODUCT'>"
      ]
     },
     "execution_count": 7,
     "metadata": {},
     "output_type": "execute_result"
    },
    {
     "data": {
      "image/png": "[encoded data removed]",
      "text/plain": [
       "<Figure size 432x288 with 1 Axes>"
      ]
     },
     "metadata": {
      "needs_background": "light"
     },
     "output_type": "display_data"
    }
   ],
   "source": [
    "df_pivot_diff.sort_values(\"stamp_2\", ascending = False)[\"stamp_2\"].head(10).plot.barh()"
   ]
  },
  {
   "cell_type": "code",
   "execution_count": null,
   "id": "extra-executive",
   "metadata": {
    "papermill": {
     "duration": 0.022071,
     "end_time": "2021-09-03T06:00:09.878829",
     "exception": false,
     "start_time": "2021-09-03T06:00:09.856758",
     "status": "completed"
    },
    "tags": []
   },
   "outputs": [],
   "source": []
  }
 ],
 "metadata": {
  "kernelspec": {
   "display_name": "Python 3",
   "language": "python",
   "name": "python3"
  },
  "language_info": {
   "codemirror_mode": {
    "name": "ipython",
    "version": 3
   },
   "file_extension": ".py",
   "mimetype": "text/x-python",
   "name": "python",
   "nbconvert_exporter": "python",
   "pygments_lexer": "ipython3",
   "version": "3.9.5"
  },
  "papermill": {
   "default_parameters": {},
   "duration": 6.824793,
   "end_time": "2021-09-03T06:00:11.038376",
   "environment_variables": {},
   "exception": null,
   "input_path": "eBay_Overview.ipynb",
   "output_path": "eBay_Overview.ipynb",
   "parameters": {},
   "start_time": "2021-09-03T06:00:04.213583",
   "version": "2.3.3"
  }
 },
 "nbformat": 4,
 "nbformat_minor": 5
}