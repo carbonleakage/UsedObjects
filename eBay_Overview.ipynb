{
 "cells": [
  {
   "cell_type": "code",
   "execution_count": 1,
   "id": "reverse-picking",
   "metadata": {
    "execution": {
     "iopub.execute_input": "2021-10-01T11:30:06.765355Z",
     "iopub.status.busy": "2021-10-01T11:30:06.763302Z",
     "iopub.status.idle": "2021-10-01T11:30:07.569640Z",
     "shell.execute_reply": "2021-10-01T11:30:07.571096Z"
    },
    "papermill": {
     "duration": 0.857234,
     "end_time": "2021-10-01T11:30:07.571743",
     "exception": false,
     "start_time": "2021-10-01T11:30:06.714509",
     "status": "completed"
    },
    "tags": []
   },
   "outputs": [],
   "source": [
    "import pandas as pd\n",
    "import sqlite3"
   ]
  },
  {
   "cell_type": "code",
   "execution_count": 2,
   "id": "innovative-syndrome",
   "metadata": {
    "execution": {
     "iopub.execute_input": "2021-10-01T11:30:07.624567Z",
     "iopub.status.busy": "2021-10-01T11:30:07.622155Z",
     "iopub.status.idle": "2021-10-01T11:30:08.050129Z",
     "shell.execute_reply": "2021-10-01T11:30:08.051553Z"
    },
    "papermill": {
     "duration": 0.458077,
     "end_time": "2021-10-01T11:30:08.051959",
     "exception": false,
     "start_time": "2021-10-01T11:30:07.593882",
     "status": "completed"
    },
    "tags": []
   },
   "outputs": [],
   "source": [
    "timestamps = pd.read_sql(\"select distinct record_time from EBAY_TOP_BERLIN order by record_time desc limit 2\", sqlite3.connect(\"UsedObjects.db\"))"
   ]
  },
  {
   "cell_type": "code",
   "execution_count": 3,
   "id": "periodic-identification",
   "metadata": {
    "execution": {
     "iopub.execute_input": "2021-10-01T11:30:08.118372Z",
     "iopub.status.busy": "2021-10-01T11:30:08.116358Z",
     "iopub.status.idle": "2021-10-01T11:30:08.141239Z",
     "shell.execute_reply": "2021-10-01T11:30:08.142534Z"
    },
    "papermill": {
     "duration": 0.070376,
     "end_time": "2021-10-01T11:30:08.143000",
     "exception": false,
     "start_time": "2021-10-01T11:30:08.072624",
     "status": "completed"
    },
    "tags": []
   },
   "outputs": [
    {
     "data": {
      "text/html": [
       "<div>\n",
       "<style scoped>\n",
       "    .dataframe tbody tr th:only-of-type {\n",
       "        vertical-align: middle;\n",
       "    }\n",
       "\n",
       "    .dataframe tbody tr th {\n",
       "        vertical-align: top;\n",
       "    }\n",
       "\n",
       "    .dataframe thead th {\n",
       "        text-align: right;\n",
       "    }\n",
       "</style>\n",
       "<table border=\"1\" class=\"dataframe\">\n",
       "  <thead>\n",
       "    <tr style=\"text-align: right;\">\n",
       "      <th></th>\n",
       "      <th>RECORD_TIME</th>\n",
       "    </tr>\n",
       "  </thead>\n",
       "  <tbody>\n",
       "    <tr>\n",
       "      <th>0</th>\n",
       "      <td>2021-10-01 13:30</td>\n",
       "    </tr>\n",
       "    <tr>\n",
       "      <th>1</th>\n",
       "      <td>2021-10-01 13:00</td>\n",
       "    </tr>\n",
       "  </tbody>\n",
       "</table>\n",
       "</div>"
      ],
      "text/plain": [
       "        RECORD_TIME\n",
       "0  2021-10-01 13:30\n",
       "1  2021-10-01 13:00"
      ]
     },
     "execution_count": 3,
     "metadata": {},
     "output_type": "execute_result"
    }
   ],
   "source": [
    "timestamps"
   ]
  },
  {
   "cell_type": "code",
   "execution_count": 4,
   "id": "alternate-victory",
   "metadata": {
    "execution": {
     "iopub.execute_input": "2021-10-01T11:30:08.194278Z",
     "iopub.status.busy": "2021-10-01T11:30:08.192401Z",
     "iopub.status.idle": "2021-10-01T11:30:08.816519Z",
     "shell.execute_reply": "2021-10-01T11:30:08.817749Z"
    },
    "papermill": {
     "duration": 0.653992,
     "end_time": "2021-10-01T11:30:08.818141",
     "exception": false,
     "start_time": "2021-10-01T11:30:08.164149",
     "status": "completed"
    },
    "tags": []
   },
   "outputs": [],
   "source": [
    "df = pd.read_sql(\"select * from EBAY_TOP_BERLIN where record_time in (select distinct record_time from EBAY_TOP_BERLIN order by record_time desc limit 2)\", sqlite3.connect(\"UsedObjects.db\"))"
   ]
  },
  {
   "cell_type": "code",
   "execution_count": 5,
   "id": "popular-active",
   "metadata": {
    "execution": {
     "iopub.execute_input": "2021-10-01T11:30:08.888711Z",
     "iopub.status.busy": "2021-10-01T11:30:08.876349Z",
     "iopub.status.idle": "2021-10-01T11:30:08.904175Z",
     "shell.execute_reply": "2021-10-01T11:30:08.905394Z"
    },
    "papermill": {
     "duration": 0.067559,
     "end_time": "2021-10-01T11:30:08.905782",
     "exception": false,
     "start_time": "2021-10-01T11:30:08.838223",
     "status": "completed"
    },
    "tags": []
   },
   "outputs": [],
   "source": [
    "df_pivot = df.pivot_table(index=\"PRODUCT\", columns = \"RECORD_TIME\", values = \"LISTING_COUNT\")"
   ]
  },
  {
   "cell_type": "code",
   "execution_count": 6,
   "id": "union-huntington",
   "metadata": {
    "execution": {
     "iopub.execute_input": "2021-10-01T11:30:08.961551Z",
     "iopub.status.busy": "2021-10-01T11:30:08.959486Z",
     "iopub.status.idle": "2021-10-01T11:30:08.964615Z",
     "shell.execute_reply": "2021-10-01T11:30:08.965895Z"
    },
    "papermill": {
     "duration": 0.03994,
     "end_time": "2021-10-01T11:30:08.966305",
     "exception": false,
     "start_time": "2021-10-01T11:30:08.926365",
     "status": "completed"
    },
    "tags": []
   },
   "outputs": [],
   "source": [
    "df_pivot.columns = [\"stamp_1\", \"stamp_2\"]\n",
    "df_pivot_diff = df_pivot.diff(axis=1)"
   ]
  },
  {
   "cell_type": "code",
   "execution_count": 7,
   "id": "fifth-motion",
   "metadata": {
    "execution": {
     "iopub.execute_input": "2021-10-01T11:30:09.020545Z",
     "iopub.status.busy": "2021-10-01T11:30:09.018171Z",
     "iopub.status.idle": "2021-10-01T11:30:10.534632Z",
     "shell.execute_reply": "2021-10-01T11:30:10.536231Z"
    },
    "papermill": {
     "duration": 1.548962,
     "end_time": "2021-10-01T11:30:10.536695",
     "exception": false,
     "start_time": "2021-10-01T11:30:08.987733",
     "status": "completed"
    },
    "tags": []
   },
   "outputs": [
    {
     "data": {
      "text/plain": [
       "<AxesSubplot:ylabel='PRODUCT'>"
      ]
     },
     "execution_count": 7,
     "metadata": {},
     "output_type": "execute_result"
    },
    {
     "data": {
      "image/png": "[encoded data removed]",
      "text/plain": [
       "<Figure size 432x288 with 1 Axes>"
      ]
     },
     "metadata": {
      "needs_background": "light"
     },
     "output_type": "display_data"
    }
   ],
   "source": [
    "df_pivot_diff.sort_values(\"stamp_2\", ascending = False)[\"stamp_2\"].head(10).plot.barh()"
   ]
  },
  {
   "cell_type": "code",
   "execution_count": null,
   "id": "extra-executive",
   "metadata": {
    "papermill": {
     "duration": 0.022346,
     "end_time": "2021-10-01T11:30:10.583611",
     "exception": false,
     "start_time": "2021-10-01T11:30:10.561265",
     "status": "completed"
    },
    "tags": []
   },
   "outputs": [],
   "source": []
  }
 ],
 "metadata": {
  "kernelspec": {
   "display_name": "Python 3",
   "language": "python",
   "name": "python3"
  },
  "language_info": {
   "codemirror_mode": {
    "name": "ipython",
    "version": 3
   },
   "file_extension": ".py",
   "mimetype": "text/x-python",
   "name": "python",
   "nbconvert_exporter": "python",
   "pygments_lexer": "ipython3",
   "version": "3.9.5"
  },
  "papermill": {
   "default_parameters": {},
   "duration": 7.822317,
   "end_time": "2021-10-01T11:30:12.129891",
   "environment_variables": {},
   "exception": null,
   "input_path": "eBay_Overview.ipynb",
   "output_path": "eBay_Overview.ipynb",
   "parameters": {},
   "start_time": "2021-10-01T11:30:04.307574",
   "version": "2.3.3"
  }
 },
 "nbformat": 4,
 "nbformat_minor": 5
}