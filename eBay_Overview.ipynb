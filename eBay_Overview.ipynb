{
 "cells": [
  {
   "cell_type": "code",
   "execution_count": 1,
   "id": "reverse-picking",
   "metadata": {
    "execution": {
     "iopub.execute_input": "2021-09-18T00:00:07.056422Z",
     "iopub.status.busy": "2021-09-18T00:00:07.054400Z",
     "iopub.status.idle": "2021-09-18T00:00:07.859919Z",
     "shell.execute_reply": "2021-09-18T00:00:07.861189Z"
    },
    "papermill": {
     "duration": 0.857892,
     "end_time": "2021-09-18T00:00:07.861789",
     "exception": false,
     "start_time": "2021-09-18T00:00:07.003897",
     "status": "completed"
    },
    "tags": []
   },
   "outputs": [],
   "source": [
    "import pandas as pd\n",
    "import sqlite3"
   ]
  },
  {
   "cell_type": "code",
   "execution_count": 2,
   "id": "innovative-syndrome",
   "metadata": {
    "execution": {
     "iopub.execute_input": "2021-09-18T00:00:07.912233Z",
     "iopub.status.busy": "2021-09-18T00:00:07.910306Z",
     "iopub.status.idle": "2021-09-18T00:00:08.227974Z",
     "shell.execute_reply": "2021-09-18T00:00:08.226682Z"
    },
    "papermill": {
     "duration": 0.345774,
     "end_time": "2021-09-18T00:00:08.228326",
     "exception": false,
     "start_time": "2021-09-18T00:00:07.882552",
     "status": "completed"
    },
    "tags": []
   },
   "outputs": [],
   "source": [
    "timestamps = pd.read_sql(\"select distinct record_time from EBAY_TOP_BERLIN order by record_time desc limit 2\", sqlite3.connect(\"UsedObjects.db\"))"
   ]
  },
  {
   "cell_type": "code",
   "execution_count": 3,
   "id": "periodic-identification",
   "metadata": {
    "execution": {
     "iopub.execute_input": "2021-09-18T00:00:08.293824Z",
     "iopub.status.busy": "2021-09-18T00:00:08.291826Z",
     "iopub.status.idle": "2021-09-18T00:00:08.311374Z",
     "shell.execute_reply": "2021-09-18T00:00:08.312506Z"
    },
    "papermill": {
     "duration": 0.064536,
     "end_time": "2021-09-18T00:00:08.312915",
     "exception": false,
     "start_time": "2021-09-18T00:00:08.248379",
     "status": "completed"
    },
    "tags": []
   },
   "outputs": [
    {
     "data": {
      "text/html": [
       "<div>\n",
       "<style scoped>\n",
       "    .dataframe tbody tr th:only-of-type {\n",
       "        vertical-align: middle;\n",
       "    }\n",
       "\n",
       "    .dataframe tbody tr th {\n",
       "        vertical-align: top;\n",
       "    }\n",
       "\n",
       "    .dataframe thead th {\n",
       "        text-align: right;\n",
       "    }\n",
       "</style>\n",
       "<table border=\"1\" class=\"dataframe\">\n",
       "  <thead>\n",
       "    <tr style=\"text-align: right;\">\n",
       "      <th></th>\n",
       "      <th>RECORD_TIME</th>\n",
       "    </tr>\n",
       "  </thead>\n",
       "  <tbody>\n",
       "    <tr>\n",
       "      <th>0</th>\n",
       "      <td>2021-09-18 02:00</td>\n",
       "    </tr>\n",
       "    <tr>\n",
       "      <th>1</th>\n",
       "      <td>2021-09-18 01:30</td>\n",
       "    </tr>\n",
       "  </tbody>\n",
       "</table>\n",
       "</div>"
      ],
      "text/plain": [
       "        RECORD_TIME\n",
       "0  2021-09-18 02:00\n",
       "1  2021-09-18 01:30"
      ]
     },
     "execution_count": 3,
     "metadata": {},
     "output_type": "execute_result"
    }
   ],
   "source": [
    "timestamps"
   ]
  },
  {
   "cell_type": "code",
   "execution_count": 4,
   "id": "alternate-victory",
   "metadata": {
    "execution": {
     "iopub.execute_input": "2021-09-18T00:00:08.366675Z",
     "iopub.status.busy": "2021-09-18T00:00:08.364428Z",
     "iopub.status.idle": "2021-09-18T00:00:08.844691Z",
     "shell.execute_reply": "2021-09-18T00:00:08.846020Z"
    },
    "papermill": {
     "duration": 0.510864,
     "end_time": "2021-09-18T00:00:08.846436",
     "exception": false,
     "start_time": "2021-09-18T00:00:08.335572",
     "status": "completed"
    },
    "tags": []
   },
   "outputs": [],
   "source": [
    "df = pd.read_sql(\"select * from EBAY_TOP_BERLIN where record_time in (select distinct record_time from EBAY_TOP_BERLIN order by record_time desc limit 2)\", sqlite3.connect(\"UsedObjects.db\"))"
   ]
  },
  {
   "cell_type": "code",
   "execution_count": 5,
   "id": "popular-active",
   "metadata": {
    "execution": {
     "iopub.execute_input": "2021-09-18T00:00:08.917618Z",
     "iopub.status.busy": "2021-09-18T00:00:08.905136Z",
     "iopub.status.idle": "2021-09-18T00:00:08.933634Z",
     "shell.execute_reply": "2021-09-18T00:00:08.935042Z"
    },
    "papermill": {
     "duration": 0.068307,
     "end_time": "2021-09-18T00:00:08.935457",
     "exception": false,
     "start_time": "2021-09-18T00:00:08.867150",
     "status": "completed"
    },
    "tags": []
   },
   "outputs": [],
   "source": [
    "df_pivot = df.pivot_table(index=\"PRODUCT\", columns = \"RECORD_TIME\", values = \"LISTING_COUNT\")"
   ]
  },
  {
   "cell_type": "code",
   "execution_count": 6,
   "id": "union-huntington",
   "metadata": {
    "execution": {
     "iopub.execute_input": "2021-09-18T00:00:08.993435Z",
     "iopub.status.busy": "2021-09-18T00:00:08.991046Z",
     "iopub.status.idle": "2021-09-18T00:00:08.997280Z",
     "shell.execute_reply": "2021-09-18T00:00:08.998638Z"
    },
    "papermill": {
     "duration": 0.042306,
     "end_time": "2021-09-18T00:00:08.999130",
     "exception": false,
     "start_time": "2021-09-18T00:00:08.956824",
     "status": "completed"
    },
    "tags": []
   },
   "outputs": [],
   "source": [
    "df_pivot.columns = [\"stamp_1\", \"stamp_2\"]\n",
    "df_pivot_diff = df_pivot.diff(axis=1)"
   ]
  },
  {
   "cell_type": "code",
   "execution_count": 7,
   "id": "fifth-motion",
   "metadata": {
    "execution": {
     "iopub.execute_input": "2021-09-18T00:00:09.053671Z",
     "iopub.status.busy": "2021-09-18T00:00:09.051506Z",
     "iopub.status.idle": "2021-09-18T00:00:10.515046Z",
     "shell.execute_reply": "2021-09-18T00:00:10.516335Z"
    },
    "papermill": {
     "duration": 1.496118,
     "end_time": "2021-09-18T00:00:10.516744",
     "exception": false,
     "start_time": "2021-09-18T00:00:09.020626",
     "status": "completed"
    },
    "tags": []
   },
   "outputs": [
    {
     "data": {
      "text/plain": [
       "<AxesSubplot:ylabel='PRODUCT'>"
      ]
     },
     "execution_count": 7,
     "metadata": {},
     "output_type": "execute_result"
    },
    {
     "data": {
      "image/png": "[encoded data removed]",
      "text/plain": [
       "<Figure size 432x288 with 1 Axes>"
      ]
     },
     "metadata": {
      "needs_background": "light"
     },
     "output_type": "display_data"
    }
   ],
   "source": [
    "df_pivot_diff.sort_values(\"stamp_2\", ascending = False)[\"stamp_2\"].head(10).plot.barh()"
   ]
  },
  {
   "cell_type": "code",
   "execution_count": null,
   "id": "extra-executive",
   "metadata": {
    "papermill": {
     "duration": 0.021946,
     "end_time": "2021-09-18T00:00:10.561768",
     "exception": false,
     "start_time": "2021-09-18T00:00:10.539822",
     "status": "completed"
    },
    "tags": []
   },
   "outputs": [],
   "source": []
  }
 ],
 "metadata": {
  "kernelspec": {
   "display_name": "Python 3",
   "language": "python",
   "name": "python3"
  },
  "language_info": {
   "codemirror_mode": {
    "name": "ipython",
    "version": 3
   },
   "file_extension": ".py",
   "mimetype": "text/x-python",
   "name": "python",
   "nbconvert_exporter": "python",
   "pygments_lexer": "ipython3",
   "version": "3.9.5"
  },
  "papermill": {
   "default_parameters": {},
   "duration": 6.590447,
   "end_time": "2021-09-18T00:00:11.201465",
   "environment_variables": {},
   "exception": null,
   "input_path": "eBay_Overview.ipynb",
   "output_path": "eBay_Overview.ipynb",
   "parameters": {},
   "start_time": "2021-09-18T00:00:04.611018",
   "version": "2.3.3"
  }
 },
 "nbformat": 4,
 "nbformat_minor": 5
}