{
 "cells": [
  {
   "cell_type": "code",
   "execution_count": 1,
   "id": "reverse-picking",
   "metadata": {
    "execution": {
     "iopub.execute_input": "2021-12-07T15:30:08.240411Z",
     "iopub.status.busy": "2021-12-07T15:30:08.238091Z",
     "iopub.status.idle": "2021-12-07T15:30:09.143153Z",
     "shell.execute_reply": "2021-12-07T15:30:09.141319Z"
    },
    "papermill": {
     "duration": 0.951103,
     "end_time": "2021-12-07T15:30:09.143612",
     "exception": false,
     "start_time": "2021-12-07T15:30:08.192509",
     "status": "completed"
    },
    "tags": []
   },
   "outputs": [],
   "source": [
    "import pandas as pd\n",
    "import sqlite3"
   ]
  },
  {
   "cell_type": "code",
   "execution_count": 2,
   "id": "innovative-syndrome",
   "metadata": {
    "execution": {
     "iopub.execute_input": "2021-12-07T15:30:09.207947Z",
     "iopub.status.busy": "2021-12-07T15:30:09.205778Z",
     "iopub.status.idle": "2021-12-07T15:30:10.206396Z",
     "shell.execute_reply": "2021-12-07T15:30:10.207863Z"
    },
    "papermill": {
     "duration": 1.04192,
     "end_time": "2021-12-07T15:30:10.208330",
     "exception": false,
     "start_time": "2021-12-07T15:30:09.166410",
     "status": "completed"
    },
    "tags": []
   },
   "outputs": [],
   "source": [
    "timestamps = pd.read_sql(\"select distinct record_time from EBAY_TOP_BERLIN order by record_time desc limit 2\", sqlite3.connect(\"UsedObjects.db\"))"
   ]
  },
  {
   "cell_type": "code",
   "execution_count": 3,
   "id": "periodic-identification",
   "metadata": {
    "execution": {
     "iopub.execute_input": "2021-12-07T15:30:10.280218Z",
     "iopub.status.busy": "2021-12-07T15:30:10.277863Z",
     "iopub.status.idle": "2021-12-07T15:30:10.300809Z",
     "shell.execute_reply": "2021-12-07T15:30:10.302387Z"
    },
    "papermill": {
     "duration": 0.074024,
     "end_time": "2021-12-07T15:30:10.302872",
     "exception": false,
     "start_time": "2021-12-07T15:30:10.228848",
     "status": "completed"
    },
    "tags": []
   },
   "outputs": [
    {
     "data": {
      "text/html": [
       "<div>\n",
       "<style scoped>\n",
       "    .dataframe tbody tr th:only-of-type {\n",
       "        vertical-align: middle;\n",
       "    }\n",
       "\n",
       "    .dataframe tbody tr th {\n",
       "        vertical-align: top;\n",
       "    }\n",
       "\n",
       "    .dataframe thead th {\n",
       "        text-align: right;\n",
       "    }\n",
       "</style>\n",
       "<table border=\"1\" class=\"dataframe\">\n",
       "  <thead>\n",
       "    <tr style=\"text-align: right;\">\n",
       "      <th></th>\n",
       "      <th>RECORD_TIME</th>\n",
       "    </tr>\n",
       "  </thead>\n",
       "  <tbody>\n",
       "    <tr>\n",
       "      <th>0</th>\n",
       "      <td>2021-12-07 16:30</td>\n",
       "    </tr>\n",
       "    <tr>\n",
       "      <th>1</th>\n",
       "      <td>2021-12-07 16:00</td>\n",
       "    </tr>\n",
       "  </tbody>\n",
       "</table>\n",
       "</div>"
      ],
      "text/plain": [
       "        RECORD_TIME\n",
       "0  2021-12-07 16:30\n",
       "1  2021-12-07 16:00"
      ]
     },
     "execution_count": 3,
     "metadata": {},
     "output_type": "execute_result"
    }
   ],
   "source": [
    "timestamps"
   ]
  },
  {
   "cell_type": "code",
   "execution_count": 4,
   "id": "alternate-victory",
   "metadata": {
    "execution": {
     "iopub.execute_input": "2021-12-07T15:30:10.356791Z",
     "iopub.status.busy": "2021-12-07T15:30:10.354658Z",
     "iopub.status.idle": "2021-12-07T15:30:11.821666Z",
     "shell.execute_reply": "2021-12-07T15:30:11.824412Z"
    },
    "papermill": {
     "duration": 1.501598,
     "end_time": "2021-12-07T15:30:11.825176",
     "exception": false,
     "start_time": "2021-12-07T15:30:10.323578",
     "status": "completed"
    },
    "tags": []
   },
   "outputs": [],
   "source": [
    "df = pd.read_sql(\"select * from EBAY_TOP_BERLIN where record_time in (select distinct record_time from EBAY_TOP_BERLIN order by record_time desc limit 2)\", sqlite3.connect(\"UsedObjects.db\"))"
   ]
  },
  {
   "cell_type": "code",
   "execution_count": 5,
   "id": "popular-active",
   "metadata": {
    "execution": {
     "iopub.execute_input": "2021-12-07T15:30:11.911786Z",
     "iopub.status.busy": "2021-12-07T15:30:11.906632Z",
     "iopub.status.idle": "2021-12-07T15:30:11.946387Z",
     "shell.execute_reply": "2021-12-07T15:30:11.947608Z"
    },
    "papermill": {
     "duration": 0.090133,
     "end_time": "2021-12-07T15:30:11.948011",
     "exception": false,
     "start_time": "2021-12-07T15:30:11.857878",
     "status": "completed"
    },
    "tags": []
   },
   "outputs": [],
   "source": [
    "df_pivot = df.pivot_table(index=\"PRODUCT\", columns = \"RECORD_TIME\", values = \"LISTING_COUNT\")"
   ]
  },
  {
   "cell_type": "code",
   "execution_count": 6,
   "id": "union-huntington",
   "metadata": {
    "execution": {
     "iopub.execute_input": "2021-12-07T15:30:12.009761Z",
     "iopub.status.busy": "2021-12-07T15:30:12.007489Z",
     "iopub.status.idle": "2021-12-07T15:30:12.012741Z",
     "shell.execute_reply": "2021-12-07T15:30:12.014125Z"
    },
    "papermill": {
     "duration": 0.043553,
     "end_time": "2021-12-07T15:30:12.014606",
     "exception": false,
     "start_time": "2021-12-07T15:30:11.971053",
     "status": "completed"
    },
    "tags": []
   },
   "outputs": [],
   "source": [
    "df_pivot.columns = [\"stamp_1\", \"stamp_2\"]\n",
    "df_pivot_diff = df_pivot.diff(axis=1)"
   ]
  },
  {
   "cell_type": "code",
   "execution_count": 7,
   "id": "fifth-motion",
   "metadata": {
    "execution": {
     "iopub.execute_input": "2021-12-07T15:30:12.071055Z",
     "iopub.status.busy": "2021-12-07T15:30:12.068526Z",
     "iopub.status.idle": "2021-12-07T15:30:13.768546Z",
     "shell.execute_reply": "2021-12-07T15:30:13.769901Z"
    },
    "papermill": {
     "duration": 1.735444,
     "end_time": "2021-12-07T15:30:13.770330",
     "exception": false,
     "start_time": "2021-12-07T15:30:12.034886",
     "status": "completed"
    },
    "tags": []
   },
   "outputs": [
    {
     "data": {
      "text/plain": [
       "<AxesSubplot:ylabel='PRODUCT'>"
      ]
     },
     "execution_count": 7,
     "metadata": {},
     "output_type": "execute_result"
    },
    {
     "data": {
      "image/png": "[encoded data removed]",
      "text/plain": [
       "<Figure size 432x288 with 1 Axes>"
      ]
     },
     "metadata": {
      "needs_background": "light"
     },
     "output_type": "display_data"
    }
   ],
   "source": [
    "df_pivot_diff.sort_values(\"stamp_2\", ascending = False)[\"stamp_2\"].head(10).plot.barh()"
   ]
  },
  {
   "cell_type": "code",
   "execution_count": null,
   "id": "extra-executive",
   "metadata": {
    "papermill": {
     "duration": 0.022272,
     "end_time": "2021-12-07T15:30:13.817480",
     "exception": false,
     "start_time": "2021-12-07T15:30:13.795208",
     "status": "completed"
    },
    "tags": []
   },
   "outputs": [],
   "source": []
  }
 ],
 "metadata": {
  "kernelspec": {
   "display_name": "Python 3",
   "language": "python",
   "name": "python3"
  },
  "language_info": {
   "codemirror_mode": {
    "name": "ipython",
    "version": 3
   },
   "file_extension": ".py",
   "mimetype": "text/x-python",
   "name": "python",
   "nbconvert_exporter": "python",
   "pygments_lexer": "ipython3",
   "version": "3.9.5"
  },
  "papermill": {
   "default_parameters": {},
   "duration": 9.918556,
   "end_time": "2021-12-07T15:30:15.383881",
   "environment_variables": {},
   "exception": null,
   "input_path": "eBay_Overview.ipynb",
   "output_path": "eBay_Overview.ipynb",
   "parameters": {},
   "start_time": "2021-12-07T15:30:05.465325",
   "version": "2.3.3"
  }
 },
 "nbformat": 4,
 "nbformat_minor": 5
}