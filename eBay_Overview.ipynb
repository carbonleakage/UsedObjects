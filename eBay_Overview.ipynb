{
 "cells": [
  {
   "cell_type": "code",
   "execution_count": 1,
   "id": "reverse-picking",
   "metadata": {
    "execution": {
     "iopub.execute_input": "2021-11-07T07:00:07.727191Z",
     "iopub.status.busy": "2021-11-07T07:00:07.724885Z",
     "iopub.status.idle": "2021-11-07T07:00:08.662277Z",
     "shell.execute_reply": "2021-11-07T07:00:08.664036Z"
    },
    "papermill": {
     "duration": 0.987052,
     "end_time": "2021-11-07T07:00:08.665025",
     "exception": false,
     "start_time": "2021-11-07T07:00:07.677973",
     "status": "completed"
    },
    "tags": []
   },
   "outputs": [],
   "source": [
    "import pandas as pd\n",
    "import sqlite3"
   ]
  },
  {
   "cell_type": "code",
   "execution_count": 2,
   "id": "innovative-syndrome",
   "metadata": {
    "execution": {
     "iopub.execute_input": "2021-11-07T07:00:08.721855Z",
     "iopub.status.busy": "2021-11-07T07:00:08.719633Z",
     "iopub.status.idle": "2021-11-07T07:00:09.514438Z",
     "shell.execute_reply": "2021-11-07T07:00:09.515783Z"
    },
    "papermill": {
     "duration": 0.829403,
     "end_time": "2021-11-07T07:00:09.516280",
     "exception": false,
     "start_time": "2021-11-07T07:00:08.686877",
     "status": "completed"
    },
    "tags": []
   },
   "outputs": [],
   "source": [
    "timestamps = pd.read_sql(\"select distinct record_time from EBAY_TOP_BERLIN order by record_time desc limit 2\", sqlite3.connect(\"UsedObjects.db\"))"
   ]
  },
  {
   "cell_type": "code",
   "execution_count": 3,
   "id": "periodic-identification",
   "metadata": {
    "execution": {
     "iopub.execute_input": "2021-11-07T07:00:09.587527Z",
     "iopub.status.busy": "2021-11-07T07:00:09.585183Z",
     "iopub.status.idle": "2021-11-07T07:00:09.609569Z",
     "shell.execute_reply": "2021-11-07T07:00:09.611115Z"
    },
    "papermill": {
     "duration": 0.074324,
     "end_time": "2021-11-07T07:00:09.611610",
     "exception": false,
     "start_time": "2021-11-07T07:00:09.537286",
     "status": "completed"
    },
    "tags": []
   },
   "outputs": [
    {
     "data": {
      "text/html": [
       "<div>\n",
       "<style scoped>\n",
       "    .dataframe tbody tr th:only-of-type {\n",
       "        vertical-align: middle;\n",
       "    }\n",
       "\n",
       "    .dataframe tbody tr th {\n",
       "        vertical-align: top;\n",
       "    }\n",
       "\n",
       "    .dataframe thead th {\n",
       "        text-align: right;\n",
       "    }\n",
       "</style>\n",
       "<table border=\"1\" class=\"dataframe\">\n",
       "  <thead>\n",
       "    <tr style=\"text-align: right;\">\n",
       "      <th></th>\n",
       "      <th>RECORD_TIME</th>\n",
       "    </tr>\n",
       "  </thead>\n",
       "  <tbody>\n",
       "    <tr>\n",
       "      <th>0</th>\n",
       "      <td>2021-11-07 08:00</td>\n",
       "    </tr>\n",
       "    <tr>\n",
       "      <th>1</th>\n",
       "      <td>2021-11-07 07:30</td>\n",
       "    </tr>\n",
       "  </tbody>\n",
       "</table>\n",
       "</div>"
      ],
      "text/plain": [
       "        RECORD_TIME\n",
       "0  2021-11-07 08:00\n",
       "1  2021-11-07 07:30"
      ]
     },
     "execution_count": 3,
     "metadata": {},
     "output_type": "execute_result"
    }
   ],
   "source": [
    "timestamps"
   ]
  },
  {
   "cell_type": "code",
   "execution_count": 4,
   "id": "alternate-victory",
   "metadata": {
    "execution": {
     "iopub.execute_input": "2021-11-07T07:00:09.667476Z",
     "iopub.status.busy": "2021-11-07T07:00:09.665310Z",
     "iopub.status.idle": "2021-11-07T07:00:10.763796Z",
     "shell.execute_reply": "2021-11-07T07:00:10.765314Z"
    },
    "papermill": {
     "duration": 1.132423,
     "end_time": "2021-11-07T07:00:10.765787",
     "exception": false,
     "start_time": "2021-11-07T07:00:09.633364",
     "status": "completed"
    },
    "tags": []
   },
   "outputs": [],
   "source": [
    "df = pd.read_sql(\"select * from EBAY_TOP_BERLIN where record_time in (select distinct record_time from EBAY_TOP_BERLIN order by record_time desc limit 2)\", sqlite3.connect(\"UsedObjects.db\"))"
   ]
  },
  {
   "cell_type": "code",
   "execution_count": 5,
   "id": "popular-active",
   "metadata": {
    "execution": {
     "iopub.execute_input": "2021-11-07T07:00:10.833315Z",
     "iopub.status.busy": "2021-11-07T07:00:10.831045Z",
     "iopub.status.idle": "2021-11-07T07:00:10.860161Z",
     "shell.execute_reply": "2021-11-07T07:00:10.861466Z"
    },
    "papermill": {
     "duration": 0.074676,
     "end_time": "2021-11-07T07:00:10.861885",
     "exception": false,
     "start_time": "2021-11-07T07:00:10.787209",
     "status": "completed"
    },
    "tags": []
   },
   "outputs": [],
   "source": [
    "df_pivot = df.pivot_table(index=\"PRODUCT\", columns = \"RECORD_TIME\", values = \"LISTING_COUNT\")"
   ]
  },
  {
   "cell_type": "code",
   "execution_count": 6,
   "id": "union-huntington",
   "metadata": {
    "execution": {
     "iopub.execute_input": "2021-11-07T07:00:10.918765Z",
     "iopub.status.busy": "2021-11-07T07:00:10.916561Z",
     "iopub.status.idle": "2021-11-07T07:00:10.922166Z",
     "shell.execute_reply": "2021-11-07T07:00:10.923432Z"
    },
    "papermill": {
     "duration": 0.041206,
     "end_time": "2021-11-07T07:00:10.923890",
     "exception": false,
     "start_time": "2021-11-07T07:00:10.882684",
     "status": "completed"
    },
    "tags": []
   },
   "outputs": [],
   "source": [
    "df_pivot.columns = [\"stamp_1\", \"stamp_2\"]\n",
    "df_pivot_diff = df_pivot.diff(axis=1)"
   ]
  },
  {
   "cell_type": "code",
   "execution_count": 7,
   "id": "fifth-motion",
   "metadata": {
    "execution": {
     "iopub.execute_input": "2021-11-07T07:00:10.980291Z",
     "iopub.status.busy": "2021-11-07T07:00:10.977656Z",
     "iopub.status.idle": "2021-11-07T07:00:12.755310Z",
     "shell.execute_reply": "2021-11-07T07:00:12.757071Z"
    },
    "papermill": {
     "duration": 1.812245,
     "end_time": "2021-11-07T07:00:12.757636",
     "exception": false,
     "start_time": "2021-11-07T07:00:10.945391",
     "status": "completed"
    },
    "tags": []
   },
   "outputs": [
    {
     "data": {
      "text/plain": [
       "<AxesSubplot:ylabel='PRODUCT'>"
      ]
     },
     "execution_count": 7,
     "metadata": {},
     "output_type": "execute_result"
    },
    {
     "data": {
      "image/png": "[encoded data removed]",
      "text/plain": [
       "<Figure size 432x288 with 1 Axes>"
      ]
     },
     "metadata": {
      "needs_background": "light"
     },
     "output_type": "display_data"
    }
   ],
   "source": [
    "df_pivot_diff.sort_values(\"stamp_2\", ascending = False)[\"stamp_2\"].head(10).plot.barh()"
   ]
  },
  {
   "cell_type": "code",
   "execution_count": null,
   "id": "extra-executive",
   "metadata": {
    "papermill": {
     "duration": 0.023362,
     "end_time": "2021-11-07T07:00:12.807236",
     "exception": false,
     "start_time": "2021-11-07T07:00:12.783874",
     "status": "completed"
    },
    "tags": []
   },
   "outputs": [],
   "source": []
  }
 ],
 "metadata": {
  "kernelspec": {
   "display_name": "Python 3",
   "language": "python",
   "name": "python3"
  },
  "language_info": {
   "codemirror_mode": {
    "name": "ipython",
    "version": 3
   },
   "file_extension": ".py",
   "mimetype": "text/x-python",
   "name": "python",
   "nbconvert_exporter": "python",
   "pygments_lexer": "ipython3",
   "version": "3.9.5"
  },
  "papermill": {
   "default_parameters": {},
   "duration": 8.638537,
   "end_time": "2021-11-07T07:00:13.551199",
   "environment_variables": {},
   "exception": null,
   "input_path": "eBay_Overview.ipynb",
   "output_path": "eBay_Overview.ipynb",
   "parameters": {},
   "start_time": "2021-11-07T07:00:04.912662",
   "version": "2.3.3"
  }
 },
 "nbformat": 4,
 "nbformat_minor": 5
}