{
 "cells": [
  {
   "cell_type": "code",
   "execution_count": 1,
   "id": "reverse-picking",
   "metadata": {
    "execution": {
     "iopub.execute_input": "2021-12-20T13:00:08.090126Z",
     "iopub.status.busy": "2021-12-20T13:00:08.087806Z",
     "iopub.status.idle": "2021-12-20T13:00:09.043123Z",
     "shell.execute_reply": "2021-12-20T13:00:09.044757Z"
    },
    "papermill": {
     "duration": 1.00547,
     "end_time": "2021-12-20T13:00:09.045501",
     "exception": false,
     "start_time": "2021-12-20T13:00:08.040031",
     "status": "completed"
    },
    "tags": []
   },
   "outputs": [],
   "source": [
    "import pandas as pd\n",
    "import sqlite3"
   ]
  },
  {
   "cell_type": "code",
   "execution_count": 2,
   "id": "innovative-syndrome",
   "metadata": {
    "execution": {
     "iopub.execute_input": "2021-12-20T13:00:09.108542Z",
     "iopub.status.busy": "2021-12-20T13:00:09.106086Z",
     "iopub.status.idle": "2021-12-20T13:00:10.240309Z",
     "shell.execute_reply": "2021-12-20T13:00:10.241791Z"
    },
    "papermill": {
     "duration": 1.168218,
     "end_time": "2021-12-20T13:00:10.242219",
     "exception": false,
     "start_time": "2021-12-20T13:00:09.074001",
     "status": "completed"
    },
    "tags": []
   },
   "outputs": [],
   "source": [
    "timestamps = pd.read_sql(\"select distinct record_time from EBAY_TOP_BERLIN order by record_time desc limit 2\", sqlite3.connect(\"UsedObjects.db\"))"
   ]
  },
  {
   "cell_type": "code",
   "execution_count": 3,
   "id": "periodic-identification",
   "metadata": {
    "execution": {
     "iopub.execute_input": "2021-12-20T13:00:10.316324Z",
     "iopub.status.busy": "2021-12-20T13:00:10.310527Z",
     "iopub.status.idle": "2021-12-20T13:00:10.332225Z",
     "shell.execute_reply": "2021-12-20T13:00:10.333712Z"
    },
    "papermill": {
     "duration": 0.069415,
     "end_time": "2021-12-20T13:00:10.334192",
     "exception": false,
     "start_time": "2021-12-20T13:00:10.264777",
     "status": "completed"
    },
    "tags": []
   },
   "outputs": [
    {
     "data": {
      "text/html": [
       "<div>\n",
       "<style scoped>\n",
       "    .dataframe tbody tr th:only-of-type {\n",
       "        vertical-align: middle;\n",
       "    }\n",
       "\n",
       "    .dataframe tbody tr th {\n",
       "        vertical-align: top;\n",
       "    }\n",
       "\n",
       "    .dataframe thead th {\n",
       "        text-align: right;\n",
       "    }\n",
       "</style>\n",
       "<table border=\"1\" class=\"dataframe\">\n",
       "  <thead>\n",
       "    <tr style=\"text-align: right;\">\n",
       "      <th></th>\n",
       "      <th>RECORD_TIME</th>\n",
       "    </tr>\n",
       "  </thead>\n",
       "  <tbody>\n",
       "    <tr>\n",
       "      <th>0</th>\n",
       "      <td>2021-12-20 14:00</td>\n",
       "    </tr>\n",
       "    <tr>\n",
       "      <th>1</th>\n",
       "      <td>2021-12-20 13:30</td>\n",
       "    </tr>\n",
       "  </tbody>\n",
       "</table>\n",
       "</div>"
      ],
      "text/plain": [
       "        RECORD_TIME\n",
       "0  2021-12-20 14:00\n",
       "1  2021-12-20 13:30"
      ]
     },
     "execution_count": 3,
     "metadata": {},
     "output_type": "execute_result"
    }
   ],
   "source": [
    "timestamps"
   ]
  },
  {
   "cell_type": "code",
   "execution_count": 4,
   "id": "alternate-victory",
   "metadata": {
    "execution": {
     "iopub.execute_input": "2021-12-20T13:00:10.392016Z",
     "iopub.status.busy": "2021-12-20T13:00:10.389773Z",
     "iopub.status.idle": "2021-12-20T13:00:12.051128Z",
     "shell.execute_reply": "2021-12-20T13:00:12.049235Z"
    },
    "papermill": {
     "duration": 1.6949,
     "end_time": "2021-12-20T13:00:12.051557",
     "exception": false,
     "start_time": "2021-12-20T13:00:10.356657",
     "status": "completed"
    },
    "tags": []
   },
   "outputs": [],
   "source": [
    "df = pd.read_sql(\"select * from EBAY_TOP_BERLIN where record_time in (select distinct record_time from EBAY_TOP_BERLIN order by record_time desc limit 2)\", sqlite3.connect(\"UsedObjects.db\"))"
   ]
  },
  {
   "cell_type": "code",
   "execution_count": 5,
   "id": "popular-active",
   "metadata": {
    "execution": {
     "iopub.execute_input": "2021-12-20T13:00:12.129611Z",
     "iopub.status.busy": "2021-12-20T13:00:12.114743Z",
     "iopub.status.idle": "2021-12-20T13:00:12.150303Z",
     "shell.execute_reply": "2021-12-20T13:00:12.151770Z"
    },
    "papermill": {
     "duration": 0.077029,
     "end_time": "2021-12-20T13:00:12.152232",
     "exception": false,
     "start_time": "2021-12-20T13:00:12.075203",
     "status": "completed"
    },
    "tags": []
   },
   "outputs": [],
   "source": [
    "df_pivot = df.pivot_table(index=\"PRODUCT\", columns = \"RECORD_TIME\", values = \"LISTING_COUNT\")"
   ]
  },
  {
   "cell_type": "code",
   "execution_count": 6,
   "id": "union-huntington",
   "metadata": {
    "execution": {
     "iopub.execute_input": "2021-12-20T13:00:12.213035Z",
     "iopub.status.busy": "2021-12-20T13:00:12.210529Z",
     "iopub.status.idle": "2021-12-20T13:00:12.221977Z",
     "shell.execute_reply": "2021-12-20T13:00:12.220000Z"
    },
    "papermill": {
     "duration": 0.050365,
     "end_time": "2021-12-20T13:00:12.222458",
     "exception": false,
     "start_time": "2021-12-20T13:00:12.172093",
     "status": "completed"
    },
    "tags": []
   },
   "outputs": [],
   "source": [
    "df_pivot.columns = [\"stamp_1\", \"stamp_2\"]\n",
    "df_pivot_diff = df_pivot.diff(axis=1)"
   ]
  },
  {
   "cell_type": "code",
   "execution_count": 7,
   "id": "fifth-motion",
   "metadata": {
    "execution": {
     "iopub.execute_input": "2021-12-20T13:00:12.282046Z",
     "iopub.status.busy": "2021-12-20T13:00:12.279447Z",
     "iopub.status.idle": "2021-12-20T13:00:14.277391Z",
     "shell.execute_reply": "2021-12-20T13:00:14.279017Z"
    },
    "papermill": {
     "duration": 2.033665,
     "end_time": "2021-12-20T13:00:14.279528",
     "exception": false,
     "start_time": "2021-12-20T13:00:12.245863",
     "status": "completed"
    },
    "tags": []
   },
   "outputs": [
    {
     "data": {
      "text/plain": [
       "<AxesSubplot:ylabel='PRODUCT'>"
      ]
     },
     "execution_count": 7,
     "metadata": {},
     "output_type": "execute_result"
    },
    {
     "data": {
      "image/png": "[encoded data removed]",
      "text/plain": [
       "<Figure size 432x288 with 1 Axes>"
      ]
     },
     "metadata": {
      "needs_background": "light"
     },
     "output_type": "display_data"
    }
   ],
   "source": [
    "df_pivot_diff.sort_values(\"stamp_2\", ascending = False)[\"stamp_2\"].head(10).plot.barh()"
   ]
  },
  {
   "cell_type": "code",
   "execution_count": null,
   "id": "extra-executive",
   "metadata": {
    "papermill": {
     "duration": 0.025268,
     "end_time": "2021-12-20T13:00:14.335473",
     "exception": false,
     "start_time": "2021-12-20T13:00:14.310205",
     "status": "completed"
    },
    "tags": []
   },
   "outputs": [],
   "source": []
  }
 ],
 "metadata": {
  "kernelspec": {
   "display_name": "Python 3",
   "language": "python",
   "name": "python3"
  },
  "language_info": {
   "codemirror_mode": {
    "name": "ipython",
    "version": 3
   },
   "file_extension": ".py",
   "mimetype": "text/x-python",
   "name": "python",
   "nbconvert_exporter": "python",
   "pygments_lexer": "ipython3",
   "version": "3.9.5"
  },
  "papermill": {
   "default_parameters": {},
   "duration": 9.75729,
   "end_time": "2021-12-20T13:00:15.052442",
   "environment_variables": {},
   "exception": null,
   "input_path": "eBay_Overview.ipynb",
   "output_path": "eBay_Overview.ipynb",
   "parameters": {},
   "start_time": "2021-12-20T13:00:05.295152",
   "version": "2.3.3"
  }
 },
 "nbformat": 4,
 "nbformat_minor": 5
}