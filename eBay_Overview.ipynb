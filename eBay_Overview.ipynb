{
 "cells": [
  {
   "cell_type": "code",
   "execution_count": 1,
   "id": "reverse-picking",
   "metadata": {
    "execution": {
     "iopub.execute_input": "2021-10-31T13:00:07.375072Z",
     "iopub.status.busy": "2021-10-31T13:00:07.373123Z",
     "iopub.status.idle": "2021-10-31T13:00:08.176581Z",
     "shell.execute_reply": "2021-10-31T13:00:08.178121Z"
    },
    "papermill": {
     "duration": 0.857349,
     "end_time": "2021-10-31T13:00:08.178796",
     "exception": false,
     "start_time": "2021-10-31T13:00:07.321447",
     "status": "completed"
    },
    "tags": []
   },
   "outputs": [],
   "source": [
    "import pandas as pd\n",
    "import sqlite3"
   ]
  },
  {
   "cell_type": "code",
   "execution_count": 2,
   "id": "innovative-syndrome",
   "metadata": {
    "execution": {
     "iopub.execute_input": "2021-10-31T13:00:08.229278Z",
     "iopub.status.busy": "2021-10-31T13:00:08.227243Z",
     "iopub.status.idle": "2021-10-31T13:00:08.914677Z",
     "shell.execute_reply": "2021-10-31T13:00:08.913285Z"
    },
    "papermill": {
     "duration": 0.716013,
     "end_time": "2021-10-31T13:00:08.915016",
     "exception": false,
     "start_time": "2021-10-31T13:00:08.199003",
     "status": "completed"
    },
    "tags": []
   },
   "outputs": [],
   "source": [
    "timestamps = pd.read_sql(\"select distinct record_time from EBAY_TOP_BERLIN order by record_time desc limit 2\", sqlite3.connect(\"UsedObjects.db\"))"
   ]
  },
  {
   "cell_type": "code",
   "execution_count": 3,
   "id": "periodic-identification",
   "metadata": {
    "execution": {
     "iopub.execute_input": "2021-10-31T13:00:08.988317Z",
     "iopub.status.busy": "2021-10-31T13:00:08.986293Z",
     "iopub.status.idle": "2021-10-31T13:00:09.006205Z",
     "shell.execute_reply": "2021-10-31T13:00:09.007339Z"
    },
    "papermill": {
     "duration": 0.067847,
     "end_time": "2021-10-31T13:00:09.007747",
     "exception": false,
     "start_time": "2021-10-31T13:00:08.939900",
     "status": "completed"
    },
    "tags": []
   },
   "outputs": [
    {
     "data": {
      "text/html": [
       "<div>\n",
       "<style scoped>\n",
       "    .dataframe tbody tr th:only-of-type {\n",
       "        vertical-align: middle;\n",
       "    }\n",
       "\n",
       "    .dataframe tbody tr th {\n",
       "        vertical-align: top;\n",
       "    }\n",
       "\n",
       "    .dataframe thead th {\n",
       "        text-align: right;\n",
       "    }\n",
       "</style>\n",
       "<table border=\"1\" class=\"dataframe\">\n",
       "  <thead>\n",
       "    <tr style=\"text-align: right;\">\n",
       "      <th></th>\n",
       "      <th>RECORD_TIME</th>\n",
       "    </tr>\n",
       "  </thead>\n",
       "  <tbody>\n",
       "    <tr>\n",
       "      <th>0</th>\n",
       "      <td>2021-10-31 14:00</td>\n",
       "    </tr>\n",
       "    <tr>\n",
       "      <th>1</th>\n",
       "      <td>2021-10-31 13:30</td>\n",
       "    </tr>\n",
       "  </tbody>\n",
       "</table>\n",
       "</div>"
      ],
      "text/plain": [
       "        RECORD_TIME\n",
       "0  2021-10-31 14:00\n",
       "1  2021-10-31 13:30"
      ]
     },
     "execution_count": 3,
     "metadata": {},
     "output_type": "execute_result"
    }
   ],
   "source": [
    "timestamps"
   ]
  },
  {
   "cell_type": "code",
   "execution_count": 4,
   "id": "alternate-victory",
   "metadata": {
    "execution": {
     "iopub.execute_input": "2021-10-31T13:00:09.061071Z",
     "iopub.status.busy": "2021-10-31T13:00:09.058727Z",
     "iopub.status.idle": "2021-10-31T13:00:10.076677Z",
     "shell.execute_reply": "2021-10-31T13:00:10.078255Z"
    },
    "papermill": {
     "duration": 1.048504,
     "end_time": "2021-10-31T13:00:10.078717",
     "exception": false,
     "start_time": "2021-10-31T13:00:09.030213",
     "status": "completed"
    },
    "tags": []
   },
   "outputs": [],
   "source": [
    "df = pd.read_sql(\"select * from EBAY_TOP_BERLIN where record_time in (select distinct record_time from EBAY_TOP_BERLIN order by record_time desc limit 2)\", sqlite3.connect(\"UsedObjects.db\"))"
   ]
  },
  {
   "cell_type": "code",
   "execution_count": 5,
   "id": "popular-active",
   "metadata": {
    "execution": {
     "iopub.execute_input": "2021-10-31T13:00:10.149869Z",
     "iopub.status.busy": "2021-10-31T13:00:10.138525Z",
     "iopub.status.idle": "2021-10-31T13:00:10.166426Z",
     "shell.execute_reply": "2021-10-31T13:00:10.167619Z"
    },
    "papermill": {
     "duration": 0.068308,
     "end_time": "2021-10-31T13:00:10.168014",
     "exception": false,
     "start_time": "2021-10-31T13:00:10.099706",
     "status": "completed"
    },
    "tags": []
   },
   "outputs": [],
   "source": [
    "df_pivot = df.pivot_table(index=\"PRODUCT\", columns = \"RECORD_TIME\", values = \"LISTING_COUNT\")"
   ]
  },
  {
   "cell_type": "code",
   "execution_count": 6,
   "id": "union-huntington",
   "metadata": {
    "execution": {
     "iopub.execute_input": "2021-10-31T13:00:10.223914Z",
     "iopub.status.busy": "2021-10-31T13:00:10.221653Z",
     "iopub.status.idle": "2021-10-31T13:00:10.227306Z",
     "shell.execute_reply": "2021-10-31T13:00:10.228605Z"
    },
    "papermill": {
     "duration": 0.041146,
     "end_time": "2021-10-31T13:00:10.229070",
     "exception": false,
     "start_time": "2021-10-31T13:00:10.187924",
     "status": "completed"
    },
    "tags": []
   },
   "outputs": [],
   "source": [
    "df_pivot.columns = [\"stamp_1\", \"stamp_2\"]\n",
    "df_pivot_diff = df_pivot.diff(axis=1)"
   ]
  },
  {
   "cell_type": "code",
   "execution_count": 7,
   "id": "fifth-motion",
   "metadata": {
    "execution": {
     "iopub.execute_input": "2021-10-31T13:00:10.282528Z",
     "iopub.status.busy": "2021-10-31T13:00:10.280180Z",
     "iopub.status.idle": "2021-10-31T13:00:11.759079Z",
     "shell.execute_reply": "2021-10-31T13:00:11.760531Z"
    },
    "papermill": {
     "duration": 1.512042,
     "end_time": "2021-10-31T13:00:11.761081",
     "exception": false,
     "start_time": "2021-10-31T13:00:10.249039",
     "status": "completed"
    },
    "tags": []
   },
   "outputs": [
    {
     "data": {
      "text/plain": [
       "<AxesSubplot:ylabel='PRODUCT'>"
      ]
     },
     "execution_count": 7,
     "metadata": {},
     "output_type": "execute_result"
    },
    {
     "data": {
      "image/png": "[encoded data removed]",
      "text/plain": [
       "<Figure size 432x288 with 1 Axes>"
      ]
     },
     "metadata": {
      "needs_background": "light"
     },
     "output_type": "display_data"
    }
   ],
   "source": [
    "df_pivot_diff.sort_values(\"stamp_2\", ascending = False)[\"stamp_2\"].head(10).plot.barh()"
   ]
  },
  {
   "cell_type": "code",
   "execution_count": null,
   "id": "extra-executive",
   "metadata": {
    "papermill": {
     "duration": 0.021851,
     "end_time": "2021-10-31T13:00:11.808196",
     "exception": false,
     "start_time": "2021-10-31T13:00:11.786345",
     "status": "completed"
    },
    "tags": []
   },
   "outputs": [],
   "source": []
  }
 ],
 "metadata": {
  "kernelspec": {
   "display_name": "Python 3",
   "language": "python",
   "name": "python3"
  },
  "language_info": {
   "codemirror_mode": {
    "name": "ipython",
    "version": 3
   },
   "file_extension": ".py",
   "mimetype": "text/x-python",
   "name": "python",
   "nbconvert_exporter": "python",
   "pygments_lexer": "ipython3",
   "version": "3.9.5"
  },
  "papermill": {
   "default_parameters": {},
   "duration": 7.524907,
   "end_time": "2021-10-31T13:00:12.450197",
   "environment_variables": {},
   "exception": null,
   "input_path": "eBay_Overview.ipynb",
   "output_path": "eBay_Overview.ipynb",
   "parameters": {},
   "start_time": "2021-10-31T13:00:04.925290",
   "version": "2.3.3"
  }
 },
 "nbformat": 4,
 "nbformat_minor": 5
}