{
 "cells": [
  {
   "cell_type": "code",
   "execution_count": 1,
   "id": "reverse-picking",
   "metadata": {
    "execution": {
     "iopub.execute_input": "2021-11-12T13:00:07.253917Z",
     "iopub.status.busy": "2021-11-12T13:00:07.251691Z",
     "iopub.status.idle": "2021-11-12T13:00:08.209736Z",
     "shell.execute_reply": "2021-11-12T13:00:08.211300Z"
    },
    "papermill": {
     "duration": 1.008069,
     "end_time": "2021-11-12T13:00:08.212024",
     "exception": false,
     "start_time": "2021-11-12T13:00:07.203955",
     "status": "completed"
    },
    "tags": []
   },
   "outputs": [],
   "source": [
    "import pandas as pd\n",
    "import sqlite3"
   ]
  },
  {
   "cell_type": "code",
   "execution_count": 2,
   "id": "innovative-syndrome",
   "metadata": {
    "execution": {
     "iopub.execute_input": "2021-11-12T13:00:08.276185Z",
     "iopub.status.busy": "2021-11-12T13:00:08.273599Z",
     "iopub.status.idle": "2021-11-12T13:00:09.086776Z",
     "shell.execute_reply": "2021-11-12T13:00:09.088326Z"
    },
    "papermill": {
     "duration": 0.847558,
     "end_time": "2021-11-12T13:00:09.089000",
     "exception": false,
     "start_time": "2021-11-12T13:00:08.241442",
     "status": "completed"
    },
    "tags": []
   },
   "outputs": [],
   "source": [
    "timestamps = pd.read_sql(\"select distinct record_time from EBAY_TOP_BERLIN order by record_time desc limit 2\", sqlite3.connect(\"UsedObjects.db\"))"
   ]
  },
  {
   "cell_type": "code",
   "execution_count": 3,
   "id": "periodic-identification",
   "metadata": {
    "execution": {
     "iopub.execute_input": "2021-11-12T13:00:09.164449Z",
     "iopub.status.busy": "2021-11-12T13:00:09.162063Z",
     "iopub.status.idle": "2021-11-12T13:00:09.186183Z",
     "shell.execute_reply": "2021-11-12T13:00:09.187821Z"
    },
    "papermill": {
     "duration": 0.075913,
     "end_time": "2021-11-12T13:00:09.188326",
     "exception": false,
     "start_time": "2021-11-12T13:00:09.112413",
     "status": "completed"
    },
    "tags": []
   },
   "outputs": [
    {
     "data": {
      "text/html": [
       "<div>\n",
       "<style scoped>\n",
       "    .dataframe tbody tr th:only-of-type {\n",
       "        vertical-align: middle;\n",
       "    }\n",
       "\n",
       "    .dataframe tbody tr th {\n",
       "        vertical-align: top;\n",
       "    }\n",
       "\n",
       "    .dataframe thead th {\n",
       "        text-align: right;\n",
       "    }\n",
       "</style>\n",
       "<table border=\"1\" class=\"dataframe\">\n",
       "  <thead>\n",
       "    <tr style=\"text-align: right;\">\n",
       "      <th></th>\n",
       "      <th>RECORD_TIME</th>\n",
       "    </tr>\n",
       "  </thead>\n",
       "  <tbody>\n",
       "    <tr>\n",
       "      <th>0</th>\n",
       "      <td>2021-11-12 14:00</td>\n",
       "    </tr>\n",
       "    <tr>\n",
       "      <th>1</th>\n",
       "      <td>2021-11-12 13:30</td>\n",
       "    </tr>\n",
       "  </tbody>\n",
       "</table>\n",
       "</div>"
      ],
      "text/plain": [
       "        RECORD_TIME\n",
       "0  2021-11-12 14:00\n",
       "1  2021-11-12 13:30"
      ]
     },
     "execution_count": 3,
     "metadata": {},
     "output_type": "execute_result"
    }
   ],
   "source": [
    "timestamps"
   ]
  },
  {
   "cell_type": "code",
   "execution_count": 4,
   "id": "alternate-victory",
   "metadata": {
    "execution": {
     "iopub.execute_input": "2021-11-12T13:00:09.246822Z",
     "iopub.status.busy": "2021-11-12T13:00:09.244483Z",
     "iopub.status.idle": "2021-11-12T13:00:10.417907Z",
     "shell.execute_reply": "2021-11-12T13:00:10.421803Z"
    },
    "papermill": {
     "duration": 1.209999,
     "end_time": "2021-11-12T13:00:10.422830",
     "exception": false,
     "start_time": "2021-11-12T13:00:09.212831",
     "status": "completed"
    },
    "tags": []
   },
   "outputs": [],
   "source": [
    "df = pd.read_sql(\"select * from EBAY_TOP_BERLIN where record_time in (select distinct record_time from EBAY_TOP_BERLIN order by record_time desc limit 2)\", sqlite3.connect(\"UsedObjects.db\"))"
   ]
  },
  {
   "cell_type": "code",
   "execution_count": 5,
   "id": "popular-active",
   "metadata": {
    "execution": {
     "iopub.execute_input": "2021-11-12T13:00:10.505498Z",
     "iopub.status.busy": "2021-11-12T13:00:10.497655Z",
     "iopub.status.idle": "2021-11-12T13:00:10.532477Z",
     "shell.execute_reply": "2021-11-12T13:00:10.533827Z"
    },
    "papermill": {
     "duration": 0.080213,
     "end_time": "2021-11-12T13:00:10.534274",
     "exception": false,
     "start_time": "2021-11-12T13:00:10.454061",
     "status": "completed"
    },
    "tags": []
   },
   "outputs": [],
   "source": [
    "df_pivot = df.pivot_table(index=\"PRODUCT\", columns = \"RECORD_TIME\", values = \"LISTING_COUNT\")"
   ]
  },
  {
   "cell_type": "code",
   "execution_count": 6,
   "id": "union-huntington",
   "metadata": {
    "execution": {
     "iopub.execute_input": "2021-11-12T13:00:10.594764Z",
     "iopub.status.busy": "2021-11-12T13:00:10.592554Z",
     "iopub.status.idle": "2021-11-12T13:00:10.597970Z",
     "shell.execute_reply": "2021-11-12T13:00:10.599224Z"
    },
    "papermill": {
     "duration": 0.044791,
     "end_time": "2021-11-12T13:00:10.599759",
     "exception": false,
     "start_time": "2021-11-12T13:00:10.554968",
     "status": "completed"
    },
    "tags": []
   },
   "outputs": [],
   "source": [
    "df_pivot.columns = [\"stamp_1\", \"stamp_2\"]\n",
    "df_pivot_diff = df_pivot.diff(axis=1)"
   ]
  },
  {
   "cell_type": "code",
   "execution_count": 7,
   "id": "fifth-motion",
   "metadata": {
    "execution": {
     "iopub.execute_input": "2021-11-12T13:00:10.667538Z",
     "iopub.status.busy": "2021-11-12T13:00:10.655242Z",
     "iopub.status.idle": "2021-11-12T13:00:12.558968Z",
     "shell.execute_reply": "2021-11-12T13:00:12.561807Z"
    },
    "papermill": {
     "duration": 1.941847,
     "end_time": "2021-11-12T13:00:12.562384",
     "exception": false,
     "start_time": "2021-11-12T13:00:10.620537",
     "status": "completed"
    },
    "tags": []
   },
   "outputs": [
    {
     "data": {
      "text/plain": [
       "<AxesSubplot:ylabel='PRODUCT'>"
      ]
     },
     "execution_count": 7,
     "metadata": {},
     "output_type": "execute_result"
    },
    {
     "data": {
      "image/png": "[encoded data removed]",
      "text/plain": [
       "<Figure size 432x288 with 1 Axes>"
      ]
     },
     "metadata": {
      "needs_background": "light"
     },
     "output_type": "display_data"
    }
   ],
   "source": [
    "df_pivot_diff.sort_values(\"stamp_2\", ascending = False)[\"stamp_2\"].head(10).plot.barh()"
   ]
  },
  {
   "cell_type": "code",
   "execution_count": null,
   "id": "extra-executive",
   "metadata": {
    "papermill": {
     "duration": 0.02264,
     "end_time": "2021-11-12T13:00:12.613530",
     "exception": false,
     "start_time": "2021-11-12T13:00:12.590890",
     "status": "completed"
    },
    "tags": []
   },
   "outputs": [],
   "source": []
  }
 ],
 "metadata": {
  "kernelspec": {
   "display_name": "Python 3",
   "language": "python",
   "name": "python3"
  },
  "language_info": {
   "codemirror_mode": {
    "name": "ipython",
    "version": 3
   },
   "file_extension": ".py",
   "mimetype": "text/x-python",
   "name": "python",
   "nbconvert_exporter": "python",
   "pygments_lexer": "ipython3",
   "version": "3.9.5"
  },
  "papermill": {
   "default_parameters": {},
   "duration": 9.95101,
   "end_time": "2021-11-12T13:00:14.438309",
   "environment_variables": {},
   "exception": null,
   "input_path": "eBay_Overview.ipynb",
   "output_path": "eBay_Overview.ipynb",
   "parameters": {},
   "start_time": "2021-11-12T13:00:04.487299",
   "version": "2.3.3"
  }
 },
 "nbformat": 4,
 "nbformat_minor": 5
}