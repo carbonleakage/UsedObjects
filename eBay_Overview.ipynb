{
 "cells": [
  {
   "cell_type": "code",
   "execution_count": 1,
   "id": "reverse-picking",
   "metadata": {
    "execution": {
     "iopub.execute_input": "2021-08-15T20:00:07.339662Z",
     "iopub.status.busy": "2021-08-15T20:00:07.337518Z",
     "iopub.status.idle": "2021-08-15T20:00:08.150380Z",
     "shell.execute_reply": "2021-08-15T20:00:08.151649Z"
    },
    "papermill": {
     "duration": 0.862978,
     "end_time": "2021-08-15T20:00:08.152281",
     "exception": false,
     "start_time": "2021-08-15T20:00:07.289303",
     "status": "completed"
    },
    "tags": []
   },
   "outputs": [],
   "source": [
    "import pandas as pd\n",
    "import sqlite3"
   ]
  },
  {
   "cell_type": "code",
   "execution_count": 2,
   "id": "innovative-syndrome",
   "metadata": {
    "execution": {
     "iopub.execute_input": "2021-08-15T20:00:08.203448Z",
     "iopub.status.busy": "2021-08-15T20:00:08.201413Z",
     "iopub.status.idle": "2021-08-15T20:00:08.257656Z",
     "shell.execute_reply": "2021-08-15T20:00:08.258925Z"
    },
    "papermill": {
     "duration": 0.085711,
     "end_time": "2021-08-15T20:00:08.259329",
     "exception": false,
     "start_time": "2021-08-15T20:00:08.173618",
     "status": "completed"
    },
    "tags": []
   },
   "outputs": [],
   "source": [
    "timestamps = pd.read_sql(\"select distinct record_time from EBAY_TOP_BERLIN order by record_time desc limit 2\", sqlite3.connect(\"UsedObjects.db\"))"
   ]
  },
  {
   "cell_type": "code",
   "execution_count": 3,
   "id": "periodic-identification",
   "metadata": {
    "execution": {
     "iopub.execute_input": "2021-08-15T20:00:08.323897Z",
     "iopub.status.busy": "2021-08-15T20:00:08.321790Z",
     "iopub.status.idle": "2021-08-15T20:00:08.341621Z",
     "shell.execute_reply": "2021-08-15T20:00:08.343175Z"
    },
    "papermill": {
     "duration": 0.065095,
     "end_time": "2021-08-15T20:00:08.343792",
     "exception": false,
     "start_time": "2021-08-15T20:00:08.278697",
     "status": "completed"
    },
    "tags": []
   },
   "outputs": [
    {
     "data": {
      "text/html": [
       "<div>\n",
       "<style scoped>\n",
       "    .dataframe tbody tr th:only-of-type {\n",
       "        vertical-align: middle;\n",
       "    }\n",
       "\n",
       "    .dataframe tbody tr th {\n",
       "        vertical-align: top;\n",
       "    }\n",
       "\n",
       "    .dataframe thead th {\n",
       "        text-align: right;\n",
       "    }\n",
       "</style>\n",
       "<table border=\"1\" class=\"dataframe\">\n",
       "  <thead>\n",
       "    <tr style=\"text-align: right;\">\n",
       "      <th></th>\n",
       "      <th>RECORD_TIME</th>\n",
       "    </tr>\n",
       "  </thead>\n",
       "  <tbody>\n",
       "    <tr>\n",
       "      <th>0</th>\n",
       "      <td>2021-08-15 22:00</td>\n",
       "    </tr>\n",
       "    <tr>\n",
       "      <th>1</th>\n",
       "      <td>2021-08-15 21:30</td>\n",
       "    </tr>\n",
       "  </tbody>\n",
       "</table>\n",
       "</div>"
      ],
      "text/plain": [
       "        RECORD_TIME\n",
       "0  2021-08-15 22:00\n",
       "1  2021-08-15 21:30"
      ]
     },
     "execution_count": 3,
     "metadata": {},
     "output_type": "execute_result"
    }
   ],
   "source": [
    "timestamps"
   ]
  },
  {
   "cell_type": "code",
   "execution_count": 4,
   "id": "alternate-victory",
   "metadata": {
    "execution": {
     "iopub.execute_input": "2021-08-15T20:00:08.397853Z",
     "iopub.status.busy": "2021-08-15T20:00:08.395821Z",
     "iopub.status.idle": "2021-08-15T20:00:08.478885Z",
     "shell.execute_reply": "2021-08-15T20:00:08.480152Z"
    },
    "papermill": {
     "duration": 0.113806,
     "end_time": "2021-08-15T20:00:08.480548",
     "exception": false,
     "start_time": "2021-08-15T20:00:08.366742",
     "status": "completed"
    },
    "tags": []
   },
   "outputs": [],
   "source": [
    "df = pd.read_sql(\"select * from EBAY_TOP_BERLIN where record_time in (select distinct record_time from EBAY_TOP_BERLIN order by record_time desc limit 2)\", sqlite3.connect(\"UsedObjects.db\"))"
   ]
  },
  {
   "cell_type": "code",
   "execution_count": 5,
   "id": "popular-active",
   "metadata": {
    "execution": {
     "iopub.execute_input": "2021-08-15T20:00:08.550201Z",
     "iopub.status.busy": "2021-08-15T20:00:08.538233Z",
     "iopub.status.idle": "2021-08-15T20:00:08.567517Z",
     "shell.execute_reply": "2021-08-15T20:00:08.568891Z"
    },
    "papermill": {
     "duration": 0.068536,
     "end_time": "2021-08-15T20:00:08.569334",
     "exception": false,
     "start_time": "2021-08-15T20:00:08.500798",
     "status": "completed"
    },
    "tags": []
   },
   "outputs": [],
   "source": [
    "df_pivot = df.pivot_table(index=\"PRODUCT\", columns = \"RECORD_TIME\", values = \"LISTING_COUNT\")"
   ]
  },
  {
   "cell_type": "code",
   "execution_count": 6,
   "id": "union-huntington",
   "metadata": {
    "execution": {
     "iopub.execute_input": "2021-08-15T20:00:08.625961Z",
     "iopub.status.busy": "2021-08-15T20:00:08.623843Z",
     "iopub.status.idle": "2021-08-15T20:00:08.629309Z",
     "shell.execute_reply": "2021-08-15T20:00:08.630657Z"
    },
    "papermill": {
     "duration": 0.041574,
     "end_time": "2021-08-15T20:00:08.631088",
     "exception": false,
     "start_time": "2021-08-15T20:00:08.589514",
     "status": "completed"
    },
    "tags": []
   },
   "outputs": [],
   "source": [
    "df_pivot.columns = [\"stamp_1\", \"stamp_2\"]\n",
    "df_pivot_diff = df_pivot.diff(axis=1)"
   ]
  },
  {
   "cell_type": "code",
   "execution_count": 7,
   "id": "fifth-motion",
   "metadata": {
    "execution": {
     "iopub.execute_input": "2021-08-15T20:00:08.686124Z",
     "iopub.status.busy": "2021-08-15T20:00:08.683653Z",
     "iopub.status.idle": "2021-08-15T20:00:10.204079Z",
     "shell.execute_reply": "2021-08-15T20:00:10.205262Z"
    },
    "papermill": {
     "duration": 1.553257,
     "end_time": "2021-08-15T20:00:10.205699",
     "exception": false,
     "start_time": "2021-08-15T20:00:08.652442",
     "status": "completed"
    },
    "tags": []
   },
   "outputs": [
    {
     "data": {
      "text/plain": [
       "<AxesSubplot:ylabel='PRODUCT'>"
      ]
     },
     "execution_count": 7,
     "metadata": {},
     "output_type": "execute_result"
    },
    {
     "data": {
      "image/png": "[encoded data removed]",
      "text/plain": [
       "<Figure size 432x288 with 1 Axes>"
      ]
     },
     "metadata": {
      "needs_background": "light"
     },
     "output_type": "display_data"
    }
   ],
   "source": [
    "df_pivot_diff.sort_values(\"stamp_2\", ascending = False)[\"stamp_2\"].head(10).plot.barh()"
   ]
  },
  {
   "cell_type": "code",
   "execution_count": null,
   "id": "extra-executive",
   "metadata": {
    "papermill": {
     "duration": 0.022054,
     "end_time": "2021-08-15T20:00:10.252937",
     "exception": false,
     "start_time": "2021-08-15T20:00:10.230883",
     "status": "completed"
    },
    "tags": []
   },
   "outputs": [],
   "source": []
  }
 ],
 "metadata": {
  "kernelspec": {
   "display_name": "Python 3",
   "language": "python",
   "name": "python3"
  },
  "language_info": {
   "codemirror_mode": {
    "name": "ipython",
    "version": 3
   },
   "file_extension": ".py",
   "mimetype": "text/x-python",
   "name": "python",
   "nbconvert_exporter": "python",
   "pygments_lexer": "ipython3",
   "version": "3.9.5"
  },
  "papermill": {
   "default_parameters": {},
   "duration": 6.825516,
   "end_time": "2021-08-15T20:00:11.696122",
   "environment_variables": {},
   "exception": null,
   "input_path": "eBay_Overview.ipynb",
   "output_path": "eBay_Overview.ipynb",
   "parameters": {},
   "start_time": "2021-08-15T20:00:04.870606",
   "version": "2.3.3"
  }
 },
 "nbformat": 4,
 "nbformat_minor": 5
}