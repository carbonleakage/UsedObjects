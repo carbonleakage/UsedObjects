{
 "cells": [
  {
   "cell_type": "code",
   "execution_count": 1,
   "id": "reverse-picking",
   "metadata": {
    "execution": {
     "iopub.execute_input": "2021-10-13T11:00:06.856648Z",
     "iopub.status.busy": "2021-10-13T11:00:06.854745Z",
     "iopub.status.idle": "2021-10-13T11:00:07.655919Z",
     "shell.execute_reply": "2021-10-13T11:00:07.654294Z"
    },
    "papermill": {
     "duration": 0.850127,
     "end_time": "2021-10-13T11:00:07.656341",
     "exception": false,
     "start_time": "2021-10-13T11:00:06.806214",
     "status": "completed"
    },
    "tags": []
   },
   "outputs": [],
   "source": [
    "import pandas as pd\n",
    "import sqlite3"
   ]
  },
  {
   "cell_type": "code",
   "execution_count": 2,
   "id": "innovative-syndrome",
   "metadata": {
    "execution": {
     "iopub.execute_input": "2021-10-13T11:00:07.706376Z",
     "iopub.status.busy": "2021-10-13T11:00:07.703963Z",
     "iopub.status.idle": "2021-10-13T11:00:08.234344Z",
     "shell.execute_reply": "2021-10-13T11:00:08.235538Z"
    },
    "papermill": {
     "duration": 0.559928,
     "end_time": "2021-10-13T11:00:08.235935",
     "exception": false,
     "start_time": "2021-10-13T11:00:07.676007",
     "status": "completed"
    },
    "tags": []
   },
   "outputs": [],
   "source": [
    "timestamps = pd.read_sql(\"select distinct record_time from EBAY_TOP_BERLIN order by record_time desc limit 2\", sqlite3.connect(\"UsedObjects.db\"))"
   ]
  },
  {
   "cell_type": "code",
   "execution_count": 3,
   "id": "periodic-identification",
   "metadata": {
    "execution": {
     "iopub.execute_input": "2021-10-13T11:00:08.299799Z",
     "iopub.status.busy": "2021-10-13T11:00:08.297783Z",
     "iopub.status.idle": "2021-10-13T11:00:08.317645Z",
     "shell.execute_reply": "2021-10-13T11:00:08.318797Z"
    },
    "papermill": {
     "duration": 0.063101,
     "end_time": "2021-10-13T11:00:08.319209",
     "exception": false,
     "start_time": "2021-10-13T11:00:08.256108",
     "status": "completed"
    },
    "tags": []
   },
   "outputs": [
    {
     "data": {
      "text/html": [
       "<div>\n",
       "<style scoped>\n",
       "    .dataframe tbody tr th:only-of-type {\n",
       "        vertical-align: middle;\n",
       "    }\n",
       "\n",
       "    .dataframe tbody tr th {\n",
       "        vertical-align: top;\n",
       "    }\n",
       "\n",
       "    .dataframe thead th {\n",
       "        text-align: right;\n",
       "    }\n",
       "</style>\n",
       "<table border=\"1\" class=\"dataframe\">\n",
       "  <thead>\n",
       "    <tr style=\"text-align: right;\">\n",
       "      <th></th>\n",
       "      <th>RECORD_TIME</th>\n",
       "    </tr>\n",
       "  </thead>\n",
       "  <tbody>\n",
       "    <tr>\n",
       "      <th>0</th>\n",
       "      <td>2021-10-13 13:00</td>\n",
       "    </tr>\n",
       "    <tr>\n",
       "      <th>1</th>\n",
       "      <td>2021-10-13 12:30</td>\n",
       "    </tr>\n",
       "  </tbody>\n",
       "</table>\n",
       "</div>"
      ],
      "text/plain": [
       "        RECORD_TIME\n",
       "0  2021-10-13 13:00\n",
       "1  2021-10-13 12:30"
      ]
     },
     "execution_count": 3,
     "metadata": {},
     "output_type": "execute_result"
    }
   ],
   "source": [
    "timestamps"
   ]
  },
  {
   "cell_type": "code",
   "execution_count": 4,
   "id": "alternate-victory",
   "metadata": {
    "execution": {
     "iopub.execute_input": "2021-10-13T11:00:08.376994Z",
     "iopub.status.busy": "2021-10-13T11:00:08.375078Z",
     "iopub.status.idle": "2021-10-13T11:00:09.148194Z",
     "shell.execute_reply": "2021-10-13T11:00:09.149443Z"
    },
    "papermill": {
     "duration": 0.806005,
     "end_time": "2021-10-13T11:00:09.149875",
     "exception": false,
     "start_time": "2021-10-13T11:00:08.343870",
     "status": "completed"
    },
    "tags": []
   },
   "outputs": [],
   "source": [
    "df = pd.read_sql(\"select * from EBAY_TOP_BERLIN where record_time in (select distinct record_time from EBAY_TOP_BERLIN order by record_time desc limit 2)\", sqlite3.connect(\"UsedObjects.db\"))"
   ]
  },
  {
   "cell_type": "code",
   "execution_count": 5,
   "id": "popular-active",
   "metadata": {
    "execution": {
     "iopub.execute_input": "2021-10-13T11:00:09.215116Z",
     "iopub.status.busy": "2021-10-13T11:00:09.208936Z",
     "iopub.status.idle": "2021-10-13T11:00:09.238115Z",
     "shell.execute_reply": "2021-10-13T11:00:09.239484Z"
    },
    "papermill": {
     "duration": 0.069595,
     "end_time": "2021-10-13T11:00:09.239921",
     "exception": false,
     "start_time": "2021-10-13T11:00:09.170326",
     "status": "completed"
    },
    "tags": []
   },
   "outputs": [],
   "source": [
    "df_pivot = df.pivot_table(index=\"PRODUCT\", columns = \"RECORD_TIME\", values = \"LISTING_COUNT\")"
   ]
  },
  {
   "cell_type": "code",
   "execution_count": 6,
   "id": "union-huntington",
   "metadata": {
    "execution": {
     "iopub.execute_input": "2021-10-13T11:00:09.296267Z",
     "iopub.status.busy": "2021-10-13T11:00:09.294185Z",
     "iopub.status.idle": "2021-10-13T11:00:09.299504Z",
     "shell.execute_reply": "2021-10-13T11:00:09.300847Z"
    },
    "papermill": {
     "duration": 0.041191,
     "end_time": "2021-10-13T11:00:09.301266",
     "exception": false,
     "start_time": "2021-10-13T11:00:09.260075",
     "status": "completed"
    },
    "tags": []
   },
   "outputs": [],
   "source": [
    "df_pivot.columns = [\"stamp_1\", \"stamp_2\"]\n",
    "df_pivot_diff = df_pivot.diff(axis=1)"
   ]
  },
  {
   "cell_type": "code",
   "execution_count": 7,
   "id": "fifth-motion",
   "metadata": {
    "execution": {
     "iopub.execute_input": "2021-10-13T11:00:09.356821Z",
     "iopub.status.busy": "2021-10-13T11:00:09.354427Z",
     "iopub.status.idle": "2021-10-13T11:00:10.807368Z",
     "shell.execute_reply": "2021-10-13T11:00:10.808797Z"
    },
    "papermill": {
     "duration": 1.48583,
     "end_time": "2021-10-13T11:00:10.809245",
     "exception": false,
     "start_time": "2021-10-13T11:00:09.323415",
     "status": "completed"
    },
    "tags": []
   },
   "outputs": [
    {
     "data": {
      "text/plain": [
       "<AxesSubplot:ylabel='PRODUCT'>"
      ]
     },
     "execution_count": 7,
     "metadata": {},
     "output_type": "execute_result"
    },
    {
     "data": {
      "image/png": "[encoded data removed]",
      "text/plain": [
       "<Figure size 432x288 with 1 Axes>"
      ]
     },
     "metadata": {
      "needs_background": "light"
     },
     "output_type": "display_data"
    }
   ],
   "source": [
    "df_pivot_diff.sort_values(\"stamp_2\", ascending = False)[\"stamp_2\"].head(10).plot.barh()"
   ]
  },
  {
   "cell_type": "code",
   "execution_count": null,
   "id": "extra-executive",
   "metadata": {
    "papermill": {
     "duration": 0.022151,
     "end_time": "2021-10-13T11:00:10.856072",
     "exception": false,
     "start_time": "2021-10-13T11:00:10.833921",
     "status": "completed"
    },
    "tags": []
   },
   "outputs": [],
   "source": []
  }
 ],
 "metadata": {
  "kernelspec": {
   "display_name": "Python 3",
   "language": "python",
   "name": "python3"
  },
  "language_info": {
   "codemirror_mode": {
    "name": "ipython",
    "version": 3
   },
   "file_extension": ".py",
   "mimetype": "text/x-python",
   "name": "python",
   "nbconvert_exporter": "python",
   "pygments_lexer": "ipython3",
   "version": "3.9.5"
  },
  "papermill": {
   "default_parameters": {},
   "duration": 7.815659,
   "end_time": "2021-10-13T11:00:12.225874",
   "environment_variables": {},
   "exception": null,
   "input_path": "eBay_Overview.ipynb",
   "output_path": "eBay_Overview.ipynb",
   "parameters": {},
   "start_time": "2021-10-13T11:00:04.410215",
   "version": "2.3.3"
  }
 },
 "nbformat": 4,
 "nbformat_minor": 5
}