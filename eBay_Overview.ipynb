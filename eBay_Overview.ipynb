{
 "cells": [
  {
   "cell_type": "code",
   "execution_count": 1,
   "id": "reverse-picking",
   "metadata": {
    "execution": {
     "iopub.execute_input": "2021-12-10T06:00:07.164162Z",
     "iopub.status.busy": "2021-12-10T06:00:07.160800Z",
     "iopub.status.idle": "2021-12-10T06:00:08.115590Z",
     "shell.execute_reply": "2021-12-10T06:00:08.117231Z"
    },
    "papermill": {
     "duration": 1.003257,
     "end_time": "2021-12-10T06:00:08.118028",
     "exception": false,
     "start_time": "2021-12-10T06:00:07.114771",
     "status": "completed"
    },
    "tags": []
   },
   "outputs": [],
   "source": [
    "import pandas as pd\n",
    "import sqlite3"
   ]
  },
  {
   "cell_type": "code",
   "execution_count": 2,
   "id": "innovative-syndrome",
   "metadata": {
    "execution": {
     "iopub.execute_input": "2021-12-10T06:00:08.174347Z",
     "iopub.status.busy": "2021-12-10T06:00:08.172141Z",
     "iopub.status.idle": "2021-12-10T06:00:09.193945Z",
     "shell.execute_reply": "2021-12-10T06:00:09.195547Z"
    },
    "papermill": {
     "duration": 1.055283,
     "end_time": "2021-12-10T06:00:09.196042",
     "exception": false,
     "start_time": "2021-12-10T06:00:08.140759",
     "status": "completed"
    },
    "tags": []
   },
   "outputs": [],
   "source": [
    "timestamps = pd.read_sql(\"select distinct record_time from EBAY_TOP_BERLIN order by record_time desc limit 2\", sqlite3.connect(\"UsedObjects.db\"))"
   ]
  },
  {
   "cell_type": "code",
   "execution_count": 3,
   "id": "periodic-identification",
   "metadata": {
    "execution": {
     "iopub.execute_input": "2021-12-10T06:00:09.267672Z",
     "iopub.status.busy": "2021-12-10T06:00:09.262346Z",
     "iopub.status.idle": "2021-12-10T06:00:09.285375Z",
     "shell.execute_reply": "2021-12-10T06:00:09.283762Z"
    },
    "papermill": {
     "duration": 0.069321,
     "end_time": "2021-12-10T06:00:09.285765",
     "exception": false,
     "start_time": "2021-12-10T06:00:09.216444",
     "status": "completed"
    },
    "tags": []
   },
   "outputs": [
    {
     "data": {
      "text/html": [
       "<div>\n",
       "<style scoped>\n",
       "    .dataframe tbody tr th:only-of-type {\n",
       "        vertical-align: middle;\n",
       "    }\n",
       "\n",
       "    .dataframe tbody tr th {\n",
       "        vertical-align: top;\n",
       "    }\n",
       "\n",
       "    .dataframe thead th {\n",
       "        text-align: right;\n",
       "    }\n",
       "</style>\n",
       "<table border=\"1\" class=\"dataframe\">\n",
       "  <thead>\n",
       "    <tr style=\"text-align: right;\">\n",
       "      <th></th>\n",
       "      <th>RECORD_TIME</th>\n",
       "    </tr>\n",
       "  </thead>\n",
       "  <tbody>\n",
       "    <tr>\n",
       "      <th>0</th>\n",
       "      <td>2021-12-10 07:00</td>\n",
       "    </tr>\n",
       "    <tr>\n",
       "      <th>1</th>\n",
       "      <td>2021-12-10 06:30</td>\n",
       "    </tr>\n",
       "  </tbody>\n",
       "</table>\n",
       "</div>"
      ],
      "text/plain": [
       "        RECORD_TIME\n",
       "0  2021-12-10 07:00\n",
       "1  2021-12-10 06:30"
      ]
     },
     "execution_count": 3,
     "metadata": {},
     "output_type": "execute_result"
    }
   ],
   "source": [
    "timestamps"
   ]
  },
  {
   "cell_type": "code",
   "execution_count": 4,
   "id": "alternate-victory",
   "metadata": {
    "execution": {
     "iopub.execute_input": "2021-12-10T06:00:09.344398Z",
     "iopub.status.busy": "2021-12-10T06:00:09.341791Z",
     "iopub.status.idle": "2021-12-10T06:00:10.820859Z",
     "shell.execute_reply": "2021-12-10T06:00:10.822620Z"
    },
    "papermill": {
     "duration": 1.516343,
     "end_time": "2021-12-10T06:00:10.823129",
     "exception": false,
     "start_time": "2021-12-10T06:00:09.306786",
     "status": "completed"
    },
    "tags": []
   },
   "outputs": [],
   "source": [
    "df = pd.read_sql(\"select * from EBAY_TOP_BERLIN where record_time in (select distinct record_time from EBAY_TOP_BERLIN order by record_time desc limit 2)\", sqlite3.connect(\"UsedObjects.db\"))"
   ]
  },
  {
   "cell_type": "code",
   "execution_count": 5,
   "id": "popular-active",
   "metadata": {
    "execution": {
     "iopub.execute_input": "2021-12-10T06:00:10.937133Z",
     "iopub.status.busy": "2021-12-10T06:00:10.914304Z",
     "iopub.status.idle": "2021-12-10T06:00:10.969506Z",
     "shell.execute_reply": "2021-12-10T06:00:10.972172Z"
    },
    "papermill": {
     "duration": 0.125779,
     "end_time": "2021-12-10T06:00:10.973105",
     "exception": false,
     "start_time": "2021-12-10T06:00:10.847326",
     "status": "completed"
    },
    "tags": []
   },
   "outputs": [],
   "source": [
    "df_pivot = df.pivot_table(index=\"PRODUCT\", columns = \"RECORD_TIME\", values = \"LISTING_COUNT\")"
   ]
  },
  {
   "cell_type": "code",
   "execution_count": 6,
   "id": "union-huntington",
   "metadata": {
    "execution": {
     "iopub.execute_input": "2021-12-10T06:00:11.068467Z",
     "iopub.status.busy": "2021-12-10T06:00:11.063675Z",
     "iopub.status.idle": "2021-12-10T06:00:11.077580Z",
     "shell.execute_reply": "2021-12-10T06:00:11.074798Z"
    },
    "papermill": {
     "duration": 0.072463,
     "end_time": "2021-12-10T06:00:11.078197",
     "exception": false,
     "start_time": "2021-12-10T06:00:11.005734",
     "status": "completed"
    },
    "tags": []
   },
   "outputs": [],
   "source": [
    "df_pivot.columns = [\"stamp_1\", \"stamp_2\"]\n",
    "df_pivot_diff = df_pivot.diff(axis=1)"
   ]
  },
  {
   "cell_type": "code",
   "execution_count": 7,
   "id": "fifth-motion",
   "metadata": {
    "execution": {
     "iopub.execute_input": "2021-12-10T06:00:11.174522Z",
     "iopub.status.busy": "2021-12-10T06:00:11.160504Z",
     "iopub.status.idle": "2021-12-10T06:00:12.900214Z",
     "shell.execute_reply": "2021-12-10T06:00:12.901855Z"
    },
    "papermill": {
     "duration": 1.790678,
     "end_time": "2021-12-10T06:00:12.902336",
     "exception": false,
     "start_time": "2021-12-10T06:00:11.111658",
     "status": "completed"
    },
    "tags": []
   },
   "outputs": [
    {
     "data": {
      "text/plain": [
       "<AxesSubplot:ylabel='PRODUCT'>"
      ]
     },
     "execution_count": 7,
     "metadata": {},
     "output_type": "execute_result"
    },
    {
     "data": {
      "image/png": "[encoded data removed]",
      "text/plain": [
       "<Figure size 432x288 with 1 Axes>"
      ]
     },
     "metadata": {
      "needs_background": "light"
     },
     "output_type": "display_data"
    }
   ],
   "source": [
    "df_pivot_diff.sort_values(\"stamp_2\", ascending = False)[\"stamp_2\"].head(10).plot.barh()"
   ]
  },
  {
   "cell_type": "code",
   "execution_count": null,
   "id": "extra-executive",
   "metadata": {
    "papermill": {
     "duration": 0.022194,
     "end_time": "2021-12-10T06:00:12.948356",
     "exception": false,
     "start_time": "2021-12-10T06:00:12.926162",
     "status": "completed"
    },
    "tags": []
   },
   "outputs": [],
   "source": []
  }
 ],
 "metadata": {
  "kernelspec": {
   "display_name": "Python 3",
   "language": "python",
   "name": "python3"
  },
  "language_info": {
   "codemirror_mode": {
    "name": "ipython",
    "version": 3
   },
   "file_extension": ".py",
   "mimetype": "text/x-python",
   "name": "python",
   "nbconvert_exporter": "python",
   "pygments_lexer": "ipython3",
   "version": "3.9.5"
  },
  "papermill": {
   "default_parameters": {},
   "duration": 9.955747,
   "end_time": "2021-12-10T06:00:14.333063",
   "environment_variables": {},
   "exception": null,
   "input_path": "eBay_Overview.ipynb",
   "output_path": "eBay_Overview.ipynb",
   "parameters": {},
   "start_time": "2021-12-10T06:00:04.377316",
   "version": "2.3.3"
  }
 },
 "nbformat": 4,
 "nbformat_minor": 5
}