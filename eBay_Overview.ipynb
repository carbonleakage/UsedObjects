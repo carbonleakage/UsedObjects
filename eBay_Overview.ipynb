{
 "cells": [
  {
   "cell_type": "code",
   "execution_count": 1,
   "id": "reverse-picking",
   "metadata": {
    "execution": {
     "iopub.execute_input": "2021-11-20T21:00:07.752376Z",
     "iopub.status.busy": "2021-11-20T21:00:07.750278Z",
     "iopub.status.idle": "2021-11-20T21:00:08.704347Z",
     "shell.execute_reply": "2021-11-20T21:00:08.706036Z"
    },
    "papermill": {
     "duration": 1.00252,
     "end_time": "2021-11-20T21:00:08.706791",
     "exception": false,
     "start_time": "2021-11-20T21:00:07.704271",
     "status": "completed"
    },
    "tags": []
   },
   "outputs": [],
   "source": [
    "import pandas as pd\n",
    "import sqlite3"
   ]
  },
  {
   "cell_type": "code",
   "execution_count": 2,
   "id": "innovative-syndrome",
   "metadata": {
    "execution": {
     "iopub.execute_input": "2021-11-20T21:00:08.772541Z",
     "iopub.status.busy": "2021-11-20T21:00:08.770315Z",
     "iopub.status.idle": "2021-11-20T21:00:09.648962Z",
     "shell.execute_reply": "2021-11-20T21:00:09.650509Z"
    },
    "papermill": {
     "duration": 0.912566,
     "end_time": "2021-11-20T21:00:09.651014",
     "exception": false,
     "start_time": "2021-11-20T21:00:08.738448",
     "status": "completed"
    },
    "tags": []
   },
   "outputs": [],
   "source": [
    "timestamps = pd.read_sql(\"select distinct record_time from EBAY_TOP_BERLIN order by record_time desc limit 2\", sqlite3.connect(\"UsedObjects.db\"))"
   ]
  },
  {
   "cell_type": "code",
   "execution_count": 3,
   "id": "periodic-identification",
   "metadata": {
    "execution": {
     "iopub.execute_input": "2021-11-20T21:00:09.723758Z",
     "iopub.status.busy": "2021-11-20T21:00:09.717663Z",
     "iopub.status.idle": "2021-11-20T21:00:09.739167Z",
     "shell.execute_reply": "2021-11-20T21:00:09.740647Z"
    },
    "papermill": {
     "duration": 0.070747,
     "end_time": "2021-11-20T21:00:09.741187",
     "exception": false,
     "start_time": "2021-11-20T21:00:09.670440",
     "status": "completed"
    },
    "tags": []
   },
   "outputs": [
    {
     "data": {
      "text/html": [
       "<div>\n",
       "<style scoped>\n",
       "    .dataframe tbody tr th:only-of-type {\n",
       "        vertical-align: middle;\n",
       "    }\n",
       "\n",
       "    .dataframe tbody tr th {\n",
       "        vertical-align: top;\n",
       "    }\n",
       "\n",
       "    .dataframe thead th {\n",
       "        text-align: right;\n",
       "    }\n",
       "</style>\n",
       "<table border=\"1\" class=\"dataframe\">\n",
       "  <thead>\n",
       "    <tr style=\"text-align: right;\">\n",
       "      <th></th>\n",
       "      <th>RECORD_TIME</th>\n",
       "    </tr>\n",
       "  </thead>\n",
       "  <tbody>\n",
       "    <tr>\n",
       "      <th>0</th>\n",
       "      <td>2021-11-20 22:00</td>\n",
       "    </tr>\n",
       "    <tr>\n",
       "      <th>1</th>\n",
       "      <td>2021-11-20 21:30</td>\n",
       "    </tr>\n",
       "  </tbody>\n",
       "</table>\n",
       "</div>"
      ],
      "text/plain": [
       "        RECORD_TIME\n",
       "0  2021-11-20 22:00\n",
       "1  2021-11-20 21:30"
      ]
     },
     "execution_count": 3,
     "metadata": {},
     "output_type": "execute_result"
    }
   ],
   "source": [
    "timestamps"
   ]
  },
  {
   "cell_type": "code",
   "execution_count": 4,
   "id": "alternate-victory",
   "metadata": {
    "execution": {
     "iopub.execute_input": "2021-11-20T21:00:09.794873Z",
     "iopub.status.busy": "2021-11-20T21:00:09.792623Z",
     "iopub.status.idle": "2021-11-20T21:00:11.076062Z",
     "shell.execute_reply": "2021-11-20T21:00:11.078293Z"
    },
    "papermill": {
     "duration": 1.316813,
     "end_time": "2021-11-20T21:00:11.078817",
     "exception": false,
     "start_time": "2021-11-20T21:00:09.762004",
     "status": "completed"
    },
    "tags": []
   },
   "outputs": [],
   "source": [
    "df = pd.read_sql(\"select * from EBAY_TOP_BERLIN where record_time in (select distinct record_time from EBAY_TOP_BERLIN order by record_time desc limit 2)\", sqlite3.connect(\"UsedObjects.db\"))"
   ]
  },
  {
   "cell_type": "code",
   "execution_count": 5,
   "id": "popular-active",
   "metadata": {
    "execution": {
     "iopub.execute_input": "2021-11-20T21:00:11.158737Z",
     "iopub.status.busy": "2021-11-20T21:00:11.145427Z",
     "iopub.status.idle": "2021-11-20T21:00:11.178540Z",
     "shell.execute_reply": "2021-11-20T21:00:11.180012Z"
    },
    "papermill": {
     "duration": 0.079861,
     "end_time": "2021-11-20T21:00:11.180516",
     "exception": false,
     "start_time": "2021-11-20T21:00:11.100655",
     "status": "completed"
    },
    "tags": []
   },
   "outputs": [],
   "source": [
    "df_pivot = df.pivot_table(index=\"PRODUCT\", columns = \"RECORD_TIME\", values = \"LISTING_COUNT\")"
   ]
  },
  {
   "cell_type": "code",
   "execution_count": 6,
   "id": "union-huntington",
   "metadata": {
    "execution": {
     "iopub.execute_input": "2021-11-20T21:00:11.242761Z",
     "iopub.status.busy": "2021-11-20T21:00:11.240337Z",
     "iopub.status.idle": "2021-11-20T21:00:11.247633Z",
     "shell.execute_reply": "2021-11-20T21:00:11.245564Z"
    },
    "papermill": {
     "duration": 0.044303,
     "end_time": "2021-11-20T21:00:11.248079",
     "exception": false,
     "start_time": "2021-11-20T21:00:11.203776",
     "status": "completed"
    },
    "tags": []
   },
   "outputs": [],
   "source": [
    "df_pivot.columns = [\"stamp_1\", \"stamp_2\"]\n",
    "df_pivot_diff = df_pivot.diff(axis=1)"
   ]
  },
  {
   "cell_type": "code",
   "execution_count": 7,
   "id": "fifth-motion",
   "metadata": {
    "execution": {
     "iopub.execute_input": "2021-11-20T21:00:11.304805Z",
     "iopub.status.busy": "2021-11-20T21:00:11.302293Z",
     "iopub.status.idle": "2021-11-20T21:00:13.029054Z",
     "shell.execute_reply": "2021-11-20T21:00:13.031957Z"
    },
    "papermill": {
     "duration": 1.764514,
     "end_time": "2021-11-20T21:00:13.032858",
     "exception": false,
     "start_time": "2021-11-20T21:00:11.268344",
     "status": "completed"
    },
    "tags": []
   },
   "outputs": [
    {
     "data": {
      "text/plain": [
       "<AxesSubplot:ylabel='PRODUCT'>"
      ]
     },
     "execution_count": 7,
     "metadata": {},
     "output_type": "execute_result"
    },
    {
     "data": {
      "image/png": "[encoded data removed]",
      "text/plain": [
       "<Figure size 432x288 with 1 Axes>"
      ]
     },
     "metadata": {
      "needs_background": "light"
     },
     "output_type": "display_data"
    }
   ],
   "source": [
    "df_pivot_diff.sort_values(\"stamp_2\", ascending = False)[\"stamp_2\"].head(10).plot.barh()"
   ]
  },
  {
   "cell_type": "code",
   "execution_count": null,
   "id": "extra-executive",
   "metadata": {
    "papermill": {
     "duration": 0.035628,
     "end_time": "2021-11-20T21:00:13.106783",
     "exception": false,
     "start_time": "2021-11-20T21:00:13.071155",
     "status": "completed"
    },
    "tags": []
   },
   "outputs": [],
   "source": []
  }
 ],
 "metadata": {
  "kernelspec": {
   "display_name": "Python 3",
   "language": "python",
   "name": "python3"
  },
  "language_info": {
   "codemirror_mode": {
    "name": "ipython",
    "version": 3
   },
   "file_extension": ".py",
   "mimetype": "text/x-python",
   "name": "python",
   "nbconvert_exporter": "python",
   "pygments_lexer": "ipython3",
   "version": "3.9.5"
  },
  "papermill": {
   "default_parameters": {},
   "duration": 10.006276,
   "end_time": "2021-11-20T21:00:14.891075",
   "environment_variables": {},
   "exception": null,
   "input_path": "eBay_Overview.ipynb",
   "output_path": "eBay_Overview.ipynb",
   "parameters": {},
   "start_time": "2021-11-20T21:00:04.884799",
   "version": "2.3.3"
  }
 },
 "nbformat": 4,
 "nbformat_minor": 5
}