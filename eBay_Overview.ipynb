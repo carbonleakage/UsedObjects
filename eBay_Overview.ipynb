{
 "cells": [
  {
   "cell_type": "code",
   "execution_count": 1,
   "id": "reverse-picking",
   "metadata": {
    "execution": {
     "iopub.execute_input": "2021-11-27T01:00:07.683503Z",
     "iopub.status.busy": "2021-11-27T01:00:07.679541Z",
     "iopub.status.idle": "2021-11-27T01:00:08.642420Z",
     "shell.execute_reply": "2021-11-27T01:00:08.644064Z"
    },
    "papermill": {
     "duration": 1.012728,
     "end_time": "2021-11-27T01:00:08.644866",
     "exception": false,
     "start_time": "2021-11-27T01:00:07.632138",
     "status": "completed"
    },
    "tags": []
   },
   "outputs": [],
   "source": [
    "import pandas as pd\n",
    "import sqlite3"
   ]
  },
  {
   "cell_type": "code",
   "execution_count": 2,
   "id": "innovative-syndrome",
   "metadata": {
    "execution": {
     "iopub.execute_input": "2021-11-27T01:00:08.706435Z",
     "iopub.status.busy": "2021-11-27T01:00:08.701549Z",
     "iopub.status.idle": "2021-11-27T01:00:09.642380Z",
     "shell.execute_reply": "2021-11-27T01:00:09.643583Z"
    },
    "papermill": {
     "duration": 0.977446,
     "end_time": "2021-11-27T01:00:09.643975",
     "exception": false,
     "start_time": "2021-11-27T01:00:08.666529",
     "status": "completed"
    },
    "tags": []
   },
   "outputs": [],
   "source": [
    "timestamps = pd.read_sql(\"select distinct record_time from EBAY_TOP_BERLIN order by record_time desc limit 2\", sqlite3.connect(\"UsedObjects.db\"))"
   ]
  },
  {
   "cell_type": "code",
   "execution_count": 3,
   "id": "periodic-identification",
   "metadata": {
    "execution": {
     "iopub.execute_input": "2021-11-27T01:00:09.712208Z",
     "iopub.status.busy": "2021-11-27T01:00:09.710186Z",
     "iopub.status.idle": "2021-11-27T01:00:09.730137Z",
     "shell.execute_reply": "2021-11-27T01:00:09.731532Z"
    },
    "papermill": {
     "duration": 0.065907,
     "end_time": "2021-11-27T01:00:09.731966",
     "exception": false,
     "start_time": "2021-11-27T01:00:09.666059",
     "status": "completed"
    },
    "tags": []
   },
   "outputs": [
    {
     "data": {
      "text/html": [
       "<div>\n",
       "<style scoped>\n",
       "    .dataframe tbody tr th:only-of-type {\n",
       "        vertical-align: middle;\n",
       "    }\n",
       "\n",
       "    .dataframe tbody tr th {\n",
       "        vertical-align: top;\n",
       "    }\n",
       "\n",
       "    .dataframe thead th {\n",
       "        text-align: right;\n",
       "    }\n",
       "</style>\n",
       "<table border=\"1\" class=\"dataframe\">\n",
       "  <thead>\n",
       "    <tr style=\"text-align: right;\">\n",
       "      <th></th>\n",
       "      <th>RECORD_TIME</th>\n",
       "    </tr>\n",
       "  </thead>\n",
       "  <tbody>\n",
       "    <tr>\n",
       "      <th>0</th>\n",
       "      <td>2021-11-27 02:00</td>\n",
       "    </tr>\n",
       "    <tr>\n",
       "      <th>1</th>\n",
       "      <td>2021-11-27 01:30</td>\n",
       "    </tr>\n",
       "  </tbody>\n",
       "</table>\n",
       "</div>"
      ],
      "text/plain": [
       "        RECORD_TIME\n",
       "0  2021-11-27 02:00\n",
       "1  2021-11-27 01:30"
      ]
     },
     "execution_count": 3,
     "metadata": {},
     "output_type": "execute_result"
    }
   ],
   "source": [
    "timestamps"
   ]
  },
  {
   "cell_type": "code",
   "execution_count": 4,
   "id": "alternate-victory",
   "metadata": {
    "execution": {
     "iopub.execute_input": "2021-11-27T01:00:09.783774Z",
     "iopub.status.busy": "2021-11-27T01:00:09.781817Z",
     "iopub.status.idle": "2021-11-27T01:00:11.130387Z",
     "shell.execute_reply": "2021-11-27T01:00:11.131851Z"
    },
    "papermill": {
     "duration": 1.379398,
     "end_time": "2021-11-27T01:00:11.132291",
     "exception": false,
     "start_time": "2021-11-27T01:00:09.752893",
     "status": "completed"
    },
    "tags": []
   },
   "outputs": [],
   "source": [
    "df = pd.read_sql(\"select * from EBAY_TOP_BERLIN where record_time in (select distinct record_time from EBAY_TOP_BERLIN order by record_time desc limit 2)\", sqlite3.connect(\"UsedObjects.db\"))"
   ]
  },
  {
   "cell_type": "code",
   "execution_count": 5,
   "id": "popular-active",
   "metadata": {
    "execution": {
     "iopub.execute_input": "2021-11-27T01:00:11.211775Z",
     "iopub.status.busy": "2021-11-27T01:00:11.199238Z",
     "iopub.status.idle": "2021-11-27T01:00:11.236500Z",
     "shell.execute_reply": "2021-11-27T01:00:11.238097Z"
    },
    "papermill": {
     "duration": 0.083382,
     "end_time": "2021-11-27T01:00:11.238660",
     "exception": false,
     "start_time": "2021-11-27T01:00:11.155278",
     "status": "completed"
    },
    "tags": []
   },
   "outputs": [],
   "source": [
    "df_pivot = df.pivot_table(index=\"PRODUCT\", columns = \"RECORD_TIME\", values = \"LISTING_COUNT\")"
   ]
  },
  {
   "cell_type": "code",
   "execution_count": 6,
   "id": "union-huntington",
   "metadata": {
    "execution": {
     "iopub.execute_input": "2021-11-27T01:00:11.301475Z",
     "iopub.status.busy": "2021-11-27T01:00:11.299140Z",
     "iopub.status.idle": "2021-11-27T01:00:11.306756Z",
     "shell.execute_reply": "2021-11-27T01:00:11.308189Z"
    },
    "papermill": {
     "duration": 0.047088,
     "end_time": "2021-11-27T01:00:11.308675",
     "exception": false,
     "start_time": "2021-11-27T01:00:11.261587",
     "status": "completed"
    },
    "tags": []
   },
   "outputs": [],
   "source": [
    "df_pivot.columns = [\"stamp_1\", \"stamp_2\"]\n",
    "df_pivot_diff = df_pivot.diff(axis=1)"
   ]
  },
  {
   "cell_type": "code",
   "execution_count": 7,
   "id": "fifth-motion",
   "metadata": {
    "execution": {
     "iopub.execute_input": "2021-11-27T01:00:11.365839Z",
     "iopub.status.busy": "2021-11-27T01:00:11.363332Z",
     "iopub.status.idle": "2021-11-27T01:00:13.362709Z",
     "shell.execute_reply": "2021-11-27T01:00:13.365600Z"
    },
    "papermill": {
     "duration": 2.03688,
     "end_time": "2021-11-27T01:00:13.366272",
     "exception": false,
     "start_time": "2021-11-27T01:00:11.329392",
     "status": "completed"
    },
    "tags": []
   },
   "outputs": [
    {
     "data": {
      "text/plain": [
       "<AxesSubplot:ylabel='PRODUCT'>"
      ]
     },
     "execution_count": 7,
     "metadata": {},
     "output_type": "execute_result"
    },
    {
     "data": {
      "image/png": "[encoded data removed]",
      "text/plain": [
       "<Figure size 432x288 with 1 Axes>"
      ]
     },
     "metadata": {
      "needs_background": "light"
     },
     "output_type": "display_data"
    }
   ],
   "source": [
    "df_pivot_diff.sort_values(\"stamp_2\", ascending = False)[\"stamp_2\"].head(10).plot.barh()"
   ]
  },
  {
   "cell_type": "code",
   "execution_count": null,
   "id": "extra-executive",
   "metadata": {
    "papermill": {
     "duration": 0.028521,
     "end_time": "2021-11-27T01:00:13.426044",
     "exception": false,
     "start_time": "2021-11-27T01:00:13.397523",
     "status": "completed"
    },
    "tags": []
   },
   "outputs": [],
   "source": []
  }
 ],
 "metadata": {
  "kernelspec": {
   "display_name": "Python 3",
   "language": "python",
   "name": "python3"
  },
  "language_info": {
   "codemirror_mode": {
    "name": "ipython",
    "version": 3
   },
   "file_extension": ".py",
   "mimetype": "text/x-python",
   "name": "python",
   "nbconvert_exporter": "python",
   "pygments_lexer": "ipython3",
   "version": "3.9.5"
  },
  "papermill": {
   "default_parameters": {},
   "duration": 9.94429,
   "end_time": "2021-11-27T01:00:14.830430",
   "environment_variables": {},
   "exception": null,
   "input_path": "eBay_Overview.ipynb",
   "output_path": "eBay_Overview.ipynb",
   "parameters": {},
   "start_time": "2021-11-27T01:00:04.886140",
   "version": "2.3.3"
  }
 },
 "nbformat": 4,
 "nbformat_minor": 5
}