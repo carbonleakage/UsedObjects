{
 "cells": [
  {
   "cell_type": "code",
   "execution_count": 1,
   "id": "reverse-picking",
   "metadata": {
    "execution": {
     "iopub.execute_input": "2021-09-24T19:00:06.588902Z",
     "iopub.status.busy": "2021-09-24T19:00:06.586939Z",
     "iopub.status.idle": "2021-09-24T19:00:07.392727Z",
     "shell.execute_reply": "2021-09-24T19:00:07.391150Z"
    },
    "papermill": {
     "duration": 0.856323,
     "end_time": "2021-09-24T19:00:07.393124",
     "exception": false,
     "start_time": "2021-09-24T19:00:06.536801",
     "status": "completed"
    },
    "tags": []
   },
   "outputs": [],
   "source": [
    "import pandas as pd\n",
    "import sqlite3"
   ]
  },
  {
   "cell_type": "code",
   "execution_count": 2,
   "id": "innovative-syndrome",
   "metadata": {
    "execution": {
     "iopub.execute_input": "2021-09-24T19:00:07.443555Z",
     "iopub.status.busy": "2021-09-24T19:00:07.441518Z",
     "iopub.status.idle": "2021-09-24T19:00:07.806056Z",
     "shell.execute_reply": "2021-09-24T19:00:07.807405Z"
    },
    "papermill": {
     "duration": 0.394153,
     "end_time": "2021-09-24T19:00:07.807838",
     "exception": false,
     "start_time": "2021-09-24T19:00:07.413685",
     "status": "completed"
    },
    "tags": []
   },
   "outputs": [],
   "source": [
    "timestamps = pd.read_sql(\"select distinct record_time from EBAY_TOP_BERLIN order by record_time desc limit 2\", sqlite3.connect(\"UsedObjects.db\"))"
   ]
  },
  {
   "cell_type": "code",
   "execution_count": 3,
   "id": "periodic-identification",
   "metadata": {
    "execution": {
     "iopub.execute_input": "2021-09-24T19:00:07.872971Z",
     "iopub.status.busy": "2021-09-24T19:00:07.870923Z",
     "iopub.status.idle": "2021-09-24T19:00:07.890424Z",
     "shell.execute_reply": "2021-09-24T19:00:07.891743Z"
    },
    "papermill": {
     "duration": 0.064814,
     "end_time": "2021-09-24T19:00:07.892159",
     "exception": false,
     "start_time": "2021-09-24T19:00:07.827345",
     "status": "completed"
    },
    "tags": []
   },
   "outputs": [
    {
     "data": {
      "text/html": [
       "<div>\n",
       "<style scoped>\n",
       "    .dataframe tbody tr th:only-of-type {\n",
       "        vertical-align: middle;\n",
       "    }\n",
       "\n",
       "    .dataframe tbody tr th {\n",
       "        vertical-align: top;\n",
       "    }\n",
       "\n",
       "    .dataframe thead th {\n",
       "        text-align: right;\n",
       "    }\n",
       "</style>\n",
       "<table border=\"1\" class=\"dataframe\">\n",
       "  <thead>\n",
       "    <tr style=\"text-align: right;\">\n",
       "      <th></th>\n",
       "      <th>RECORD_TIME</th>\n",
       "    </tr>\n",
       "  </thead>\n",
       "  <tbody>\n",
       "    <tr>\n",
       "      <th>0</th>\n",
       "      <td>2021-09-24 21:00</td>\n",
       "    </tr>\n",
       "    <tr>\n",
       "      <th>1</th>\n",
       "      <td>2021-09-24 20:30</td>\n",
       "    </tr>\n",
       "  </tbody>\n",
       "</table>\n",
       "</div>"
      ],
      "text/plain": [
       "        RECORD_TIME\n",
       "0  2021-09-24 21:00\n",
       "1  2021-09-24 20:30"
      ]
     },
     "execution_count": 3,
     "metadata": {},
     "output_type": "execute_result"
    }
   ],
   "source": [
    "timestamps"
   ]
  },
  {
   "cell_type": "code",
   "execution_count": 4,
   "id": "alternate-victory",
   "metadata": {
    "execution": {
     "iopub.execute_input": "2021-09-24T19:00:07.944624Z",
     "iopub.status.busy": "2021-09-24T19:00:07.942386Z",
     "iopub.status.idle": "2021-09-24T19:00:08.487965Z",
     "shell.execute_reply": "2021-09-24T19:00:08.489232Z"
    },
    "papermill": {
     "duration": 0.576437,
     "end_time": "2021-09-24T19:00:08.489636",
     "exception": false,
     "start_time": "2021-09-24T19:00:07.913199",
     "status": "completed"
    },
    "tags": []
   },
   "outputs": [],
   "source": [
    "df = pd.read_sql(\"select * from EBAY_TOP_BERLIN where record_time in (select distinct record_time from EBAY_TOP_BERLIN order by record_time desc limit 2)\", sqlite3.connect(\"UsedObjects.db\"))"
   ]
  },
  {
   "cell_type": "code",
   "execution_count": 5,
   "id": "popular-active",
   "metadata": {
    "execution": {
     "iopub.execute_input": "2021-09-24T19:00:08.567534Z",
     "iopub.status.busy": "2021-09-24T19:00:08.555337Z",
     "iopub.status.idle": "2021-09-24T19:00:08.584205Z",
     "shell.execute_reply": "2021-09-24T19:00:08.585657Z"
    },
    "papermill": {
     "duration": 0.072731,
     "end_time": "2021-09-24T19:00:08.586125",
     "exception": false,
     "start_time": "2021-09-24T19:00:08.513394",
     "status": "completed"
    },
    "tags": []
   },
   "outputs": [],
   "source": [
    "df_pivot = df.pivot_table(index=\"PRODUCT\", columns = \"RECORD_TIME\", values = \"LISTING_COUNT\")"
   ]
  },
  {
   "cell_type": "code",
   "execution_count": 6,
   "id": "union-huntington",
   "metadata": {
    "execution": {
     "iopub.execute_input": "2021-09-24T19:00:08.646863Z",
     "iopub.status.busy": "2021-09-24T19:00:08.644408Z",
     "iopub.status.idle": "2021-09-24T19:00:08.650284Z",
     "shell.execute_reply": "2021-09-24T19:00:08.651645Z"
    },
    "papermill": {
     "duration": 0.042646,
     "end_time": "2021-09-24T19:00:08.652081",
     "exception": false,
     "start_time": "2021-09-24T19:00:08.609435",
     "status": "completed"
    },
    "tags": []
   },
   "outputs": [],
   "source": [
    "df_pivot.columns = [\"stamp_1\", \"stamp_2\"]\n",
    "df_pivot_diff = df_pivot.diff(axis=1)"
   ]
  },
  {
   "cell_type": "code",
   "execution_count": 7,
   "id": "fifth-motion",
   "metadata": {
    "execution": {
     "iopub.execute_input": "2021-09-24T19:00:08.706417Z",
     "iopub.status.busy": "2021-09-24T19:00:08.704136Z",
     "iopub.status.idle": "2021-09-24T19:00:10.185770Z",
     "shell.execute_reply": "2021-09-24T19:00:10.187123Z"
    },
    "papermill": {
     "duration": 1.514946,
     "end_time": "2021-09-24T19:00:10.187552",
     "exception": false,
     "start_time": "2021-09-24T19:00:08.672606",
     "status": "completed"
    },
    "tags": []
   },
   "outputs": [
    {
     "data": {
      "text/plain": [
       "<AxesSubplot:ylabel='PRODUCT'>"
      ]
     },
     "execution_count": 7,
     "metadata": {},
     "output_type": "execute_result"
    },
    {
     "data": {
      "image/png": "[encoded data removed]",
      "text/plain": [
       "<Figure size 432x288 with 1 Axes>"
      ]
     },
     "metadata": {
      "needs_background": "light"
     },
     "output_type": "display_data"
    }
   ],
   "source": [
    "df_pivot_diff.sort_values(\"stamp_2\", ascending = False)[\"stamp_2\"].head(10).plot.barh()"
   ]
  },
  {
   "cell_type": "code",
   "execution_count": null,
   "id": "extra-executive",
   "metadata": {
    "papermill": {
     "duration": 0.022344,
     "end_time": "2021-09-24T19:00:10.234772",
     "exception": false,
     "start_time": "2021-09-24T19:00:10.212428",
     "status": "completed"
    },
    "tags": []
   },
   "outputs": [],
   "source": []
  }
 ],
 "metadata": {
  "kernelspec": {
   "display_name": "Python 3",
   "language": "python",
   "name": "python3"
  },
  "language_info": {
   "codemirror_mode": {
    "name": "ipython",
    "version": 3
   },
   "file_extension": ".py",
   "mimetype": "text/x-python",
   "name": "python",
   "nbconvert_exporter": "python",
   "pygments_lexer": "ipython3",
   "version": "3.9.5"
  },
  "papermill": {
   "default_parameters": {},
   "duration": 6.777654,
   "end_time": "2021-09-24T19:00:10.878072",
   "environment_variables": {},
   "exception": null,
   "input_path": "eBay_Overview.ipynb",
   "output_path": "eBay_Overview.ipynb",
   "parameters": {},
   "start_time": "2021-09-24T19:00:04.100418",
   "version": "2.3.3"
  }
 },
 "nbformat": 4,
 "nbformat_minor": 5
}