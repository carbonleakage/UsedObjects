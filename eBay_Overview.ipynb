{
 "cells": [
  {
   "cell_type": "code",
   "execution_count": 1,
   "id": "reverse-picking",
   "metadata": {
    "execution": {
     "iopub.execute_input": "2021-10-15T20:00:07.758792Z",
     "iopub.status.busy": "2021-10-15T20:00:07.756791Z",
     "iopub.status.idle": "2021-10-15T20:00:08.564944Z",
     "shell.execute_reply": "2021-10-15T20:00:08.566221Z"
    },
    "papermill": {
     "duration": 0.861403,
     "end_time": "2021-10-15T20:00:08.566839",
     "exception": false,
     "start_time": "2021-10-15T20:00:07.705436",
     "status": "completed"
    },
    "tags": []
   },
   "outputs": [],
   "source": [
    "import pandas as pd\n",
    "import sqlite3"
   ]
  },
  {
   "cell_type": "code",
   "execution_count": 2,
   "id": "innovative-syndrome",
   "metadata": {
    "execution": {
     "iopub.execute_input": "2021-10-15T20:00:08.621050Z",
     "iopub.status.busy": "2021-10-15T20:00:08.618660Z",
     "iopub.status.idle": "2021-10-15T20:00:09.180498Z",
     "shell.execute_reply": "2021-10-15T20:00:09.182713Z"
    },
    "papermill": {
     "duration": 0.593129,
     "end_time": "2021-10-15T20:00:09.183173",
     "exception": false,
     "start_time": "2021-10-15T20:00:08.590044",
     "status": "completed"
    },
    "tags": []
   },
   "outputs": [],
   "source": [
    "timestamps = pd.read_sql(\"select distinct record_time from EBAY_TOP_BERLIN order by record_time desc limit 2\", sqlite3.connect(\"UsedObjects.db\"))"
   ]
  },
  {
   "cell_type": "code",
   "execution_count": 3,
   "id": "periodic-identification",
   "metadata": {
    "execution": {
     "iopub.execute_input": "2021-10-15T20:00:09.262727Z",
     "iopub.status.busy": "2021-10-15T20:00:09.260596Z",
     "iopub.status.idle": "2021-10-15T20:00:09.281522Z",
     "shell.execute_reply": "2021-10-15T20:00:09.282818Z"
    },
    "papermill": {
     "duration": 0.072405,
     "end_time": "2021-10-15T20:00:09.283240",
     "exception": false,
     "start_time": "2021-10-15T20:00:09.210835",
     "status": "completed"
    },
    "tags": []
   },
   "outputs": [
    {
     "data": {
      "text/html": [
       "<div>\n",
       "<style scoped>\n",
       "    .dataframe tbody tr th:only-of-type {\n",
       "        vertical-align: middle;\n",
       "    }\n",
       "\n",
       "    .dataframe tbody tr th {\n",
       "        vertical-align: top;\n",
       "    }\n",
       "\n",
       "    .dataframe thead th {\n",
       "        text-align: right;\n",
       "    }\n",
       "</style>\n",
       "<table border=\"1\" class=\"dataframe\">\n",
       "  <thead>\n",
       "    <tr style=\"text-align: right;\">\n",
       "      <th></th>\n",
       "      <th>RECORD_TIME</th>\n",
       "    </tr>\n",
       "  </thead>\n",
       "  <tbody>\n",
       "    <tr>\n",
       "      <th>0</th>\n",
       "      <td>2021-10-15 22:00</td>\n",
       "    </tr>\n",
       "    <tr>\n",
       "      <th>1</th>\n",
       "      <td>2021-10-15 21:30</td>\n",
       "    </tr>\n",
       "  </tbody>\n",
       "</table>\n",
       "</div>"
      ],
      "text/plain": [
       "        RECORD_TIME\n",
       "0  2021-10-15 22:00\n",
       "1  2021-10-15 21:30"
      ]
     },
     "execution_count": 3,
     "metadata": {},
     "output_type": "execute_result"
    }
   ],
   "source": [
    "timestamps"
   ]
  },
  {
   "cell_type": "code",
   "execution_count": 4,
   "id": "alternate-victory",
   "metadata": {
    "execution": {
     "iopub.execute_input": "2021-10-15T20:00:09.334804Z",
     "iopub.status.busy": "2021-10-15T20:00:09.332550Z",
     "iopub.status.idle": "2021-10-15T20:00:10.130792Z",
     "shell.execute_reply": "2021-10-15T20:00:10.132030Z"
    },
    "papermill": {
     "duration": 0.828088,
     "end_time": "2021-10-15T20:00:10.132440",
     "exception": false,
     "start_time": "2021-10-15T20:00:09.304352",
     "status": "completed"
    },
    "tags": []
   },
   "outputs": [],
   "source": [
    "df = pd.read_sql(\"select * from EBAY_TOP_BERLIN where record_time in (select distinct record_time from EBAY_TOP_BERLIN order by record_time desc limit 2)\", sqlite3.connect(\"UsedObjects.db\"))"
   ]
  },
  {
   "cell_type": "code",
   "execution_count": 5,
   "id": "popular-active",
   "metadata": {
    "execution": {
     "iopub.execute_input": "2021-10-15T20:00:10.202504Z",
     "iopub.status.busy": "2021-10-15T20:00:10.191345Z",
     "iopub.status.idle": "2021-10-15T20:00:10.221855Z",
     "shell.execute_reply": "2021-10-15T20:00:10.223253Z"
    },
    "papermill": {
     "duration": 0.069154,
     "end_time": "2021-10-15T20:00:10.223700",
     "exception": false,
     "start_time": "2021-10-15T20:00:10.154546",
     "status": "completed"
    },
    "tags": []
   },
   "outputs": [],
   "source": [
    "df_pivot = df.pivot_table(index=\"PRODUCT\", columns = \"RECORD_TIME\", values = \"LISTING_COUNT\")"
   ]
  },
  {
   "cell_type": "code",
   "execution_count": 6,
   "id": "union-huntington",
   "metadata": {
    "execution": {
     "iopub.execute_input": "2021-10-15T20:00:10.281603Z",
     "iopub.status.busy": "2021-10-15T20:00:10.279053Z",
     "iopub.status.idle": "2021-10-15T20:00:10.284492Z",
     "shell.execute_reply": "2021-10-15T20:00:10.285902Z"
    },
    "papermill": {
     "duration": 0.042224,
     "end_time": "2021-10-15T20:00:10.286338",
     "exception": false,
     "start_time": "2021-10-15T20:00:10.244114",
     "status": "completed"
    },
    "tags": []
   },
   "outputs": [],
   "source": [
    "df_pivot.columns = [\"stamp_1\", \"stamp_2\"]\n",
    "df_pivot_diff = df_pivot.diff(axis=1)"
   ]
  },
  {
   "cell_type": "code",
   "execution_count": 7,
   "id": "fifth-motion",
   "metadata": {
    "execution": {
     "iopub.execute_input": "2021-10-15T20:00:10.340348Z",
     "iopub.status.busy": "2021-10-15T20:00:10.338100Z",
     "iopub.status.idle": "2021-10-15T20:00:11.832451Z",
     "shell.execute_reply": "2021-10-15T20:00:11.833902Z"
    },
    "papermill": {
     "duration": 1.527371,
     "end_time": "2021-10-15T20:00:11.834355",
     "exception": false,
     "start_time": "2021-10-15T20:00:10.306984",
     "status": "completed"
    },
    "tags": []
   },
   "outputs": [
    {
     "data": {
      "text/plain": [
       "<AxesSubplot:ylabel='PRODUCT'>"
      ]
     },
     "execution_count": 7,
     "metadata": {},
     "output_type": "execute_result"
    },
    {
     "data": {
      "image/png": "[encoded data removed]",
      "text/plain": [
       "<Figure size 432x288 with 1 Axes>"
      ]
     },
     "metadata": {
      "needs_background": "light"
     },
     "output_type": "display_data"
    }
   ],
   "source": [
    "df_pivot_diff.sort_values(\"stamp_2\", ascending = False)[\"stamp_2\"].head(10).plot.barh()"
   ]
  },
  {
   "cell_type": "code",
   "execution_count": null,
   "id": "extra-executive",
   "metadata": {
    "papermill": {
     "duration": 0.022206,
     "end_time": "2021-10-15T20:00:11.881255",
     "exception": false,
     "start_time": "2021-10-15T20:00:11.859049",
     "status": "completed"
    },
    "tags": []
   },
   "outputs": [],
   "source": []
  }
 ],
 "metadata": {
  "kernelspec": {
   "display_name": "Python 3",
   "language": "python",
   "name": "python3"
  },
  "language_info": {
   "codemirror_mode": {
    "name": "ipython",
    "version": 3
   },
   "file_extension": ".py",
   "mimetype": "text/x-python",
   "name": "python",
   "nbconvert_exporter": "python",
   "pygments_lexer": "ipython3",
   "version": "3.9.5"
  },
  "papermill": {
   "default_parameters": {},
   "duration": 7.825363,
   "end_time": "2021-10-15T20:00:13.117625",
   "environment_variables": {},
   "exception": null,
   "input_path": "eBay_Overview.ipynb",
   "output_path": "eBay_Overview.ipynb",
   "parameters": {},
   "start_time": "2021-10-15T20:00:05.292262",
   "version": "2.3.3"
  }
 },
 "nbformat": 4,
 "nbformat_minor": 5
}