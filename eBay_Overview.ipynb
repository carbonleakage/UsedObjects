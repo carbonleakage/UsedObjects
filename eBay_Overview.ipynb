{
 "cells": [
  {
   "cell_type": "code",
   "execution_count": 1,
   "id": "reverse-picking",
   "metadata": {
    "execution": {
     "iopub.execute_input": "2021-09-22T12:00:06.856680Z",
     "iopub.status.busy": "2021-09-22T12:00:06.854643Z",
     "iopub.status.idle": "2021-09-22T12:00:07.663225Z",
     "shell.execute_reply": "2021-09-22T12:00:07.664731Z"
    },
    "papermill": {
     "duration": 0.859661,
     "end_time": "2021-09-22T12:00:07.665427",
     "exception": false,
     "start_time": "2021-09-22T12:00:06.805766",
     "status": "completed"
    },
    "tags": []
   },
   "outputs": [],
   "source": [
    "import pandas as pd\n",
    "import sqlite3"
   ]
  },
  {
   "cell_type": "code",
   "execution_count": 2,
   "id": "innovative-syndrome",
   "metadata": {
    "execution": {
     "iopub.execute_input": "2021-09-22T12:00:07.716753Z",
     "iopub.status.busy": "2021-09-22T12:00:07.714327Z",
     "iopub.status.idle": "2021-09-22T12:00:08.067380Z",
     "shell.execute_reply": "2021-09-22T12:00:08.068652Z"
    },
    "papermill": {
     "duration": 0.383112,
     "end_time": "2021-09-22T12:00:08.069042",
     "exception": false,
     "start_time": "2021-09-22T12:00:07.685930",
     "status": "completed"
    },
    "tags": []
   },
   "outputs": [],
   "source": [
    "timestamps = pd.read_sql(\"select distinct record_time from EBAY_TOP_BERLIN order by record_time desc limit 2\", sqlite3.connect(\"UsedObjects.db\"))"
   ]
  },
  {
   "cell_type": "code",
   "execution_count": 3,
   "id": "periodic-identification",
   "metadata": {
    "execution": {
     "iopub.execute_input": "2021-09-22T12:00:08.132712Z",
     "iopub.status.busy": "2021-09-22T12:00:08.130693Z",
     "iopub.status.idle": "2021-09-22T12:00:08.150257Z",
     "shell.execute_reply": "2021-09-22T12:00:08.151632Z"
    },
    "papermill": {
     "duration": 0.063793,
     "end_time": "2021-09-22T12:00:08.152069",
     "exception": false,
     "start_time": "2021-09-22T12:00:08.088276",
     "status": "completed"
    },
    "tags": []
   },
   "outputs": [
    {
     "data": {
      "text/html": [
       "<div>\n",
       "<style scoped>\n",
       "    .dataframe tbody tr th:only-of-type {\n",
       "        vertical-align: middle;\n",
       "    }\n",
       "\n",
       "    .dataframe tbody tr th {\n",
       "        vertical-align: top;\n",
       "    }\n",
       "\n",
       "    .dataframe thead th {\n",
       "        text-align: right;\n",
       "    }\n",
       "</style>\n",
       "<table border=\"1\" class=\"dataframe\">\n",
       "  <thead>\n",
       "    <tr style=\"text-align: right;\">\n",
       "      <th></th>\n",
       "      <th>RECORD_TIME</th>\n",
       "    </tr>\n",
       "  </thead>\n",
       "  <tbody>\n",
       "    <tr>\n",
       "      <th>0</th>\n",
       "      <td>2021-09-22 14:00</td>\n",
       "    </tr>\n",
       "    <tr>\n",
       "      <th>1</th>\n",
       "      <td>2021-09-22 13:30</td>\n",
       "    </tr>\n",
       "  </tbody>\n",
       "</table>\n",
       "</div>"
      ],
      "text/plain": [
       "        RECORD_TIME\n",
       "0  2021-09-22 14:00\n",
       "1  2021-09-22 13:30"
      ]
     },
     "execution_count": 3,
     "metadata": {},
     "output_type": "execute_result"
    }
   ],
   "source": [
    "timestamps"
   ]
  },
  {
   "cell_type": "code",
   "execution_count": 4,
   "id": "alternate-victory",
   "metadata": {
    "execution": {
     "iopub.execute_input": "2021-09-22T12:00:08.204865Z",
     "iopub.status.busy": "2021-09-22T12:00:08.202657Z",
     "iopub.status.idle": "2021-09-22T12:00:08.724003Z",
     "shell.execute_reply": "2021-09-22T12:00:08.725250Z"
    },
    "papermill": {
     "duration": 0.551473,
     "end_time": "2021-09-22T12:00:08.725643",
     "exception": false,
     "start_time": "2021-09-22T12:00:08.174170",
     "status": "completed"
    },
    "tags": []
   },
   "outputs": [],
   "source": [
    "df = pd.read_sql(\"select * from EBAY_TOP_BERLIN where record_time in (select distinct record_time from EBAY_TOP_BERLIN order by record_time desc limit 2)\", sqlite3.connect(\"UsedObjects.db\"))"
   ]
  },
  {
   "cell_type": "code",
   "execution_count": 5,
   "id": "popular-active",
   "metadata": {
    "execution": {
     "iopub.execute_input": "2021-09-22T12:00:08.806669Z",
     "iopub.status.busy": "2021-09-22T12:00:08.791807Z",
     "iopub.status.idle": "2021-09-22T12:00:08.822988Z",
     "shell.execute_reply": "2021-09-22T12:00:08.824269Z"
    },
    "papermill": {
     "duration": 0.073347,
     "end_time": "2021-09-22T12:00:08.824676",
     "exception": false,
     "start_time": "2021-09-22T12:00:08.751329",
     "status": "completed"
    },
    "tags": []
   },
   "outputs": [],
   "source": [
    "df_pivot = df.pivot_table(index=\"PRODUCT\", columns = \"RECORD_TIME\", values = \"LISTING_COUNT\")"
   ]
  },
  {
   "cell_type": "code",
   "execution_count": 6,
   "id": "union-huntington",
   "metadata": {
    "execution": {
     "iopub.execute_input": "2021-09-22T12:00:08.881772Z",
     "iopub.status.busy": "2021-09-22T12:00:08.879746Z",
     "iopub.status.idle": "2021-09-22T12:00:08.884764Z",
     "shell.execute_reply": "2021-09-22T12:00:08.886025Z"
    },
    "papermill": {
     "duration": 0.040008,
     "end_time": "2021-09-22T12:00:08.886431",
     "exception": false,
     "start_time": "2021-09-22T12:00:08.846423",
     "status": "completed"
    },
    "tags": []
   },
   "outputs": [],
   "source": [
    "df_pivot.columns = [\"stamp_1\", \"stamp_2\"]\n",
    "df_pivot_diff = df_pivot.diff(axis=1)"
   ]
  },
  {
   "cell_type": "code",
   "execution_count": 7,
   "id": "fifth-motion",
   "metadata": {
    "execution": {
     "iopub.execute_input": "2021-09-22T12:00:08.942881Z",
     "iopub.status.busy": "2021-09-22T12:00:08.940245Z",
     "iopub.status.idle": "2021-09-22T12:00:10.447403Z",
     "shell.execute_reply": "2021-09-22T12:00:10.448590Z"
    },
    "papermill": {
     "duration": 1.540738,
     "end_time": "2021-09-22T12:00:10.449014",
     "exception": false,
     "start_time": "2021-09-22T12:00:08.908276",
     "status": "completed"
    },
    "tags": []
   },
   "outputs": [
    {
     "data": {
      "text/plain": [
       "<AxesSubplot:ylabel='PRODUCT'>"
      ]
     },
     "execution_count": 7,
     "metadata": {},
     "output_type": "execute_result"
    },
    {
     "data": {
      "image/png": "[encoded data removed]",
      "text/plain": [
       "<Figure size 432x288 with 1 Axes>"
      ]
     },
     "metadata": {
      "needs_background": "light"
     },
     "output_type": "display_data"
    }
   ],
   "source": [
    "df_pivot_diff.sort_values(\"stamp_2\", ascending = False)[\"stamp_2\"].head(10).plot.barh()"
   ]
  },
  {
   "cell_type": "code",
   "execution_count": null,
   "id": "extra-executive",
   "metadata": {
    "papermill": {
     "duration": 0.022122,
     "end_time": "2021-09-22T12:00:10.496565",
     "exception": false,
     "start_time": "2021-09-22T12:00:10.474443",
     "status": "completed"
    },
    "tags": []
   },
   "outputs": [],
   "source": []
  }
 ],
 "metadata": {
  "kernelspec": {
   "display_name": "Python 3",
   "language": "python",
   "name": "python3"
  },
  "language_info": {
   "codemirror_mode": {
    "name": "ipython",
    "version": 3
   },
   "file_extension": ".py",
   "mimetype": "text/x-python",
   "name": "python",
   "nbconvert_exporter": "python",
   "pygments_lexer": "ipython3",
   "version": "3.9.5"
  },
  "papermill": {
   "default_parameters": {},
   "duration": 6.737223,
   "end_time": "2021-09-22T12:00:11.139236",
   "environment_variables": {},
   "exception": null,
   "input_path": "eBay_Overview.ipynb",
   "output_path": "eBay_Overview.ipynb",
   "parameters": {},
   "start_time": "2021-09-22T12:00:04.402013",
   "version": "2.3.3"
  }
 },
 "nbformat": 4,
 "nbformat_minor": 5
}