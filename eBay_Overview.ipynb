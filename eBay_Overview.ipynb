{
 "cells": [
  {
   "cell_type": "code",
   "execution_count": 1,
   "id": "reverse-picking",
   "metadata": {
    "execution": {
     "iopub.execute_input": "2021-10-27T06:30:07.194201Z",
     "iopub.status.busy": "2021-10-27T06:30:07.192154Z",
     "iopub.status.idle": "2021-10-27T06:30:07.997850Z",
     "shell.execute_reply": "2021-10-27T06:30:07.999111Z"
    },
    "papermill": {
     "duration": 0.857469,
     "end_time": "2021-10-27T06:30:07.999725",
     "exception": false,
     "start_time": "2021-10-27T06:30:07.142256",
     "status": "completed"
    },
    "tags": []
   },
   "outputs": [],
   "source": [
    "import pandas as pd\n",
    "import sqlite3"
   ]
  },
  {
   "cell_type": "code",
   "execution_count": 2,
   "id": "innovative-syndrome",
   "metadata": {
    "execution": {
     "iopub.execute_input": "2021-10-27T06:30:08.051040Z",
     "iopub.status.busy": "2021-10-27T06:30:08.049166Z",
     "iopub.status.idle": "2021-10-27T06:30:08.705801Z",
     "shell.execute_reply": "2021-10-27T06:30:08.707059Z"
    },
    "papermill": {
     "duration": 0.686099,
     "end_time": "2021-10-27T06:30:08.707459",
     "exception": false,
     "start_time": "2021-10-27T06:30:08.021360",
     "status": "completed"
    },
    "tags": []
   },
   "outputs": [],
   "source": [
    "timestamps = pd.read_sql(\"select distinct record_time from EBAY_TOP_BERLIN order by record_time desc limit 2\", sqlite3.connect(\"UsedObjects.db\"))"
   ]
  },
  {
   "cell_type": "code",
   "execution_count": 3,
   "id": "periodic-identification",
   "metadata": {
    "execution": {
     "iopub.execute_input": "2021-10-27T06:30:08.782597Z",
     "iopub.status.busy": "2021-10-27T06:30:08.780511Z",
     "iopub.status.idle": "2021-10-27T06:30:08.801167Z",
     "shell.execute_reply": "2021-10-27T06:30:08.802369Z"
    },
    "papermill": {
     "duration": 0.070616,
     "end_time": "2021-10-27T06:30:08.802807",
     "exception": false,
     "start_time": "2021-10-27T06:30:08.732191",
     "status": "completed"
    },
    "tags": []
   },
   "outputs": [
    {
     "data": {
      "text/html": [
       "<div>\n",
       "<style scoped>\n",
       "    .dataframe tbody tr th:only-of-type {\n",
       "        vertical-align: middle;\n",
       "    }\n",
       "\n",
       "    .dataframe tbody tr th {\n",
       "        vertical-align: top;\n",
       "    }\n",
       "\n",
       "    .dataframe thead th {\n",
       "        text-align: right;\n",
       "    }\n",
       "</style>\n",
       "<table border=\"1\" class=\"dataframe\">\n",
       "  <thead>\n",
       "    <tr style=\"text-align: right;\">\n",
       "      <th></th>\n",
       "      <th>RECORD_TIME</th>\n",
       "    </tr>\n",
       "  </thead>\n",
       "  <tbody>\n",
       "    <tr>\n",
       "      <th>0</th>\n",
       "      <td>2021-10-27 08:30</td>\n",
       "    </tr>\n",
       "    <tr>\n",
       "      <th>1</th>\n",
       "      <td>2021-10-27 08:00</td>\n",
       "    </tr>\n",
       "  </tbody>\n",
       "</table>\n",
       "</div>"
      ],
      "text/plain": [
       "        RECORD_TIME\n",
       "0  2021-10-27 08:30\n",
       "1  2021-10-27 08:00"
      ]
     },
     "execution_count": 3,
     "metadata": {},
     "output_type": "execute_result"
    }
   ],
   "source": [
    "timestamps"
   ]
  },
  {
   "cell_type": "code",
   "execution_count": 4,
   "id": "alternate-victory",
   "metadata": {
    "execution": {
     "iopub.execute_input": "2021-10-27T06:30:08.856049Z",
     "iopub.status.busy": "2021-10-27T06:30:08.853789Z",
     "iopub.status.idle": "2021-10-27T06:30:09.795140Z",
     "shell.execute_reply": "2021-10-27T06:30:09.796350Z"
    },
    "papermill": {
     "duration": 0.971547,
     "end_time": "2021-10-27T06:30:09.796912",
     "exception": false,
     "start_time": "2021-10-27T06:30:08.825365",
     "status": "completed"
    },
    "tags": []
   },
   "outputs": [],
   "source": [
    "df = pd.read_sql(\"select * from EBAY_TOP_BERLIN where record_time in (select distinct record_time from EBAY_TOP_BERLIN order by record_time desc limit 2)\", sqlite3.connect(\"UsedObjects.db\"))"
   ]
  },
  {
   "cell_type": "code",
   "execution_count": 5,
   "id": "popular-active",
   "metadata": {
    "execution": {
     "iopub.execute_input": "2021-10-27T06:30:09.857558Z",
     "iopub.status.busy": "2021-10-27T06:30:09.855309Z",
     "iopub.status.idle": "2021-10-27T06:30:09.882640Z",
     "shell.execute_reply": "2021-10-27T06:30:09.883842Z"
    },
    "papermill": {
     "duration": 0.066961,
     "end_time": "2021-10-27T06:30:09.884241",
     "exception": false,
     "start_time": "2021-10-27T06:30:09.817280",
     "status": "completed"
    },
    "tags": []
   },
   "outputs": [],
   "source": [
    "df_pivot = df.pivot_table(index=\"PRODUCT\", columns = \"RECORD_TIME\", values = \"LISTING_COUNT\")"
   ]
  },
  {
   "cell_type": "code",
   "execution_count": 6,
   "id": "union-huntington",
   "metadata": {
    "execution": {
     "iopub.execute_input": "2021-10-27T06:30:09.941431Z",
     "iopub.status.busy": "2021-10-27T06:30:09.939221Z",
     "iopub.status.idle": "2021-10-27T06:30:09.944815Z",
     "shell.execute_reply": "2021-10-27T06:30:09.946213Z"
    },
    "papermill": {
     "duration": 0.04089,
     "end_time": "2021-10-27T06:30:09.946658",
     "exception": false,
     "start_time": "2021-10-27T06:30:09.905768",
     "status": "completed"
    },
    "tags": []
   },
   "outputs": [],
   "source": [
    "df_pivot.columns = [\"stamp_1\", \"stamp_2\"]\n",
    "df_pivot_diff = df_pivot.diff(axis=1)"
   ]
  },
  {
   "cell_type": "code",
   "execution_count": 7,
   "id": "fifth-motion",
   "metadata": {
    "execution": {
     "iopub.execute_input": "2021-10-27T06:30:10.001957Z",
     "iopub.status.busy": "2021-10-27T06:30:09.999247Z",
     "iopub.status.idle": "2021-10-27T06:30:11.514470Z",
     "shell.execute_reply": "2021-10-27T06:30:11.515834Z"
    },
    "papermill": {
     "duration": 1.548749,
     "end_time": "2021-10-27T06:30:11.516278",
     "exception": false,
     "start_time": "2021-10-27T06:30:09.967529",
     "status": "completed"
    },
    "tags": []
   },
   "outputs": [
    {
     "data": {
      "text/plain": [
       "<AxesSubplot:ylabel='PRODUCT'>"
      ]
     },
     "execution_count": 7,
     "metadata": {},
     "output_type": "execute_result"
    },
    {
     "data": {
      "image/png": "[encoded data removed]",
      "text/plain": [
       "<Figure size 432x288 with 1 Axes>"
      ]
     },
     "metadata": {
      "needs_background": "light"
     },
     "output_type": "display_data"
    }
   ],
   "source": [
    "df_pivot_diff.sort_values(\"stamp_2\", ascending = False)[\"stamp_2\"].head(10).plot.barh()"
   ]
  },
  {
   "cell_type": "code",
   "execution_count": null,
   "id": "extra-executive",
   "metadata": {
    "papermill": {
     "duration": 0.022588,
     "end_time": "2021-10-27T06:30:11.562829",
     "exception": false,
     "start_time": "2021-10-27T06:30:11.540241",
     "status": "completed"
    },
    "tags": []
   },
   "outputs": [],
   "source": []
  }
 ],
 "metadata": {
  "kernelspec": {
   "display_name": "Python 3",
   "language": "python",
   "name": "python3"
  },
  "language_info": {
   "codemirror_mode": {
    "name": "ipython",
    "version": 3
   },
   "file_extension": ".py",
   "mimetype": "text/x-python",
   "name": "python",
   "nbconvert_exporter": "python",
   "pygments_lexer": "ipython3",
   "version": "3.9.5"
  },
  "papermill": {
   "default_parameters": {},
   "duration": 7.469646,
   "end_time": "2021-10-27T06:30:12.205567",
   "environment_variables": {},
   "exception": null,
   "input_path": "eBay_Overview.ipynb",
   "output_path": "eBay_Overview.ipynb",
   "parameters": {},
   "start_time": "2021-10-27T06:30:04.735921",
   "version": "2.3.3"
  }
 },
 "nbformat": 4,
 "nbformat_minor": 5
}