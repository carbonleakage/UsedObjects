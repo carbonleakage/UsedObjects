{
 "cells": [
  {
   "cell_type": "code",
   "execution_count": 1,
   "id": "reverse-picking",
   "metadata": {
    "execution": {
     "iopub.execute_input": "2021-10-20T06:00:07.576588Z",
     "iopub.status.busy": "2021-10-20T06:00:07.574708Z",
     "iopub.status.idle": "2021-10-20T06:00:08.380377Z",
     "shell.execute_reply": "2021-10-20T06:00:08.381680Z"
    },
    "papermill": {
     "duration": 0.855532,
     "end_time": "2021-10-20T06:00:08.382310",
     "exception": false,
     "start_time": "2021-10-20T06:00:07.526778",
     "status": "completed"
    },
    "tags": []
   },
   "outputs": [],
   "source": [
    "import pandas as pd\n",
    "import sqlite3"
   ]
  },
  {
   "cell_type": "code",
   "execution_count": 2,
   "id": "innovative-syndrome",
   "metadata": {
    "execution": {
     "iopub.execute_input": "2021-10-20T06:00:08.434359Z",
     "iopub.status.busy": "2021-10-20T06:00:08.432221Z",
     "iopub.status.idle": "2021-10-20T06:00:09.015760Z",
     "shell.execute_reply": "2021-10-20T06:00:09.017011Z"
    },
    "papermill": {
     "duration": 0.613035,
     "end_time": "2021-10-20T06:00:09.017422",
     "exception": false,
     "start_time": "2021-10-20T06:00:08.404387",
     "status": "completed"
    },
    "tags": []
   },
   "outputs": [],
   "source": [
    "timestamps = pd.read_sql(\"select distinct record_time from EBAY_TOP_BERLIN order by record_time desc limit 2\", sqlite3.connect(\"UsedObjects.db\"))"
   ]
  },
  {
   "cell_type": "code",
   "execution_count": 3,
   "id": "periodic-identification",
   "metadata": {
    "execution": {
     "iopub.execute_input": "2021-10-20T06:00:09.093343Z",
     "iopub.status.busy": "2021-10-20T06:00:09.091158Z",
     "iopub.status.idle": "2021-10-20T06:00:09.112228Z",
     "shell.execute_reply": "2021-10-20T06:00:09.110999Z"
    },
    "papermill": {
     "duration": 0.068606,
     "end_time": "2021-10-20T06:00:09.112570",
     "exception": false,
     "start_time": "2021-10-20T06:00:09.043964",
     "status": "completed"
    },
    "tags": []
   },
   "outputs": [
    {
     "data": {
      "text/html": [
       "<div>\n",
       "<style scoped>\n",
       "    .dataframe tbody tr th:only-of-type {\n",
       "        vertical-align: middle;\n",
       "    }\n",
       "\n",
       "    .dataframe tbody tr th {\n",
       "        vertical-align: top;\n",
       "    }\n",
       "\n",
       "    .dataframe thead th {\n",
       "        text-align: right;\n",
       "    }\n",
       "</style>\n",
       "<table border=\"1\" class=\"dataframe\">\n",
       "  <thead>\n",
       "    <tr style=\"text-align: right;\">\n",
       "      <th></th>\n",
       "      <th>RECORD_TIME</th>\n",
       "    </tr>\n",
       "  </thead>\n",
       "  <tbody>\n",
       "    <tr>\n",
       "      <th>0</th>\n",
       "      <td>2021-10-20 08:00</td>\n",
       "    </tr>\n",
       "    <tr>\n",
       "      <th>1</th>\n",
       "      <td>2021-10-20 07:30</td>\n",
       "    </tr>\n",
       "  </tbody>\n",
       "</table>\n",
       "</div>"
      ],
      "text/plain": [
       "        RECORD_TIME\n",
       "0  2021-10-20 08:00\n",
       "1  2021-10-20 07:30"
      ]
     },
     "execution_count": 3,
     "metadata": {},
     "output_type": "execute_result"
    }
   ],
   "source": [
    "timestamps"
   ]
  },
  {
   "cell_type": "code",
   "execution_count": 4,
   "id": "alternate-victory",
   "metadata": {
    "execution": {
     "iopub.execute_input": "2021-10-20T06:00:09.164106Z",
     "iopub.status.busy": "2021-10-20T06:00:09.161868Z",
     "iopub.status.idle": "2021-10-20T06:00:10.007351Z",
     "shell.execute_reply": "2021-10-20T06:00:10.008538Z"
    },
    "papermill": {
     "duration": 0.875562,
     "end_time": "2021-10-20T06:00:10.008999",
     "exception": false,
     "start_time": "2021-10-20T06:00:09.133437",
     "status": "completed"
    },
    "tags": []
   },
   "outputs": [],
   "source": [
    "df = pd.read_sql(\"select * from EBAY_TOP_BERLIN where record_time in (select distinct record_time from EBAY_TOP_BERLIN order by record_time desc limit 2)\", sqlite3.connect(\"UsedObjects.db\"))"
   ]
  },
  {
   "cell_type": "code",
   "execution_count": 5,
   "id": "popular-active",
   "metadata": {
    "execution": {
     "iopub.execute_input": "2021-10-20T06:00:10.079959Z",
     "iopub.status.busy": "2021-10-20T06:00:10.068900Z",
     "iopub.status.idle": "2021-10-20T06:00:10.096238Z",
     "shell.execute_reply": "2021-10-20T06:00:10.097634Z"
    },
    "papermill": {
     "duration": 0.066351,
     "end_time": "2021-10-20T06:00:10.098066",
     "exception": false,
     "start_time": "2021-10-20T06:00:10.031715",
     "status": "completed"
    },
    "tags": []
   },
   "outputs": [],
   "source": [
    "df_pivot = df.pivot_table(index=\"PRODUCT\", columns = \"RECORD_TIME\", values = \"LISTING_COUNT\")"
   ]
  },
  {
   "cell_type": "code",
   "execution_count": 6,
   "id": "union-huntington",
   "metadata": {
    "execution": {
     "iopub.execute_input": "2021-10-20T06:00:10.153288Z",
     "iopub.status.busy": "2021-10-20T06:00:10.151098Z",
     "iopub.status.idle": "2021-10-20T06:00:10.156650Z",
     "shell.execute_reply": "2021-10-20T06:00:10.158336Z"
    },
    "papermill": {
     "duration": 0.04091,
     "end_time": "2021-10-20T06:00:10.158853",
     "exception": false,
     "start_time": "2021-10-20T06:00:10.117943",
     "status": "completed"
    },
    "tags": []
   },
   "outputs": [],
   "source": [
    "df_pivot.columns = [\"stamp_1\", \"stamp_2\"]\n",
    "df_pivot_diff = df_pivot.diff(axis=1)"
   ]
  },
  {
   "cell_type": "code",
   "execution_count": 7,
   "id": "fifth-motion",
   "metadata": {
    "execution": {
     "iopub.execute_input": "2021-10-20T06:00:10.213161Z",
     "iopub.status.busy": "2021-10-20T06:00:10.210497Z",
     "iopub.status.idle": "2021-10-20T06:00:11.719293Z",
     "shell.execute_reply": "2021-10-20T06:00:11.720565Z"
    },
    "papermill": {
     "duration": 1.542258,
     "end_time": "2021-10-20T06:00:11.721040",
     "exception": false,
     "start_time": "2021-10-20T06:00:10.178782",
     "status": "completed"
    },
    "tags": []
   },
   "outputs": [
    {
     "data": {
      "text/plain": [
       "<AxesSubplot:ylabel='PRODUCT'>"
      ]
     },
     "execution_count": 7,
     "metadata": {},
     "output_type": "execute_result"
    },
    {
     "data": {
      "image/png": "[encoded data removed]",
      "text/plain": [
       "<Figure size 432x288 with 1 Axes>"
      ]
     },
     "metadata": {
      "needs_background": "light"
     },
     "output_type": "display_data"
    }
   ],
   "source": [
    "df_pivot_diff.sort_values(\"stamp_2\", ascending = False)[\"stamp_2\"].head(10).plot.barh()"
   ]
  },
  {
   "cell_type": "code",
   "execution_count": null,
   "id": "extra-executive",
   "metadata": {
    "papermill": {
     "duration": 0.022004,
     "end_time": "2021-10-20T06:00:11.767523",
     "exception": false,
     "start_time": "2021-10-20T06:00:11.745519",
     "status": "completed"
    },
    "tags": []
   },
   "outputs": [],
   "source": []
  }
 ],
 "metadata": {
  "kernelspec": {
   "display_name": "Python 3",
   "language": "python",
   "name": "python3"
  },
  "language_info": {
   "codemirror_mode": {
    "name": "ipython",
    "version": 3
   },
   "file_extension": ".py",
   "mimetype": "text/x-python",
   "name": "python",
   "nbconvert_exporter": "python",
   "pygments_lexer": "ipython3",
   "version": "3.9.5"
  },
  "papermill": {
   "default_parameters": {},
   "duration": 7.819712,
   "end_time": "2021-10-20T06:00:12.942900",
   "environment_variables": {},
   "exception": null,
   "input_path": "eBay_Overview.ipynb",
   "output_path": "eBay_Overview.ipynb",
   "parameters": {},
   "start_time": "2021-10-20T06:00:05.123188",
   "version": "2.3.3"
  }
 },
 "nbformat": 4,
 "nbformat_minor": 5
}