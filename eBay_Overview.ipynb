{
 "cells": [
  {
   "cell_type": "code",
   "execution_count": 1,
   "id": "reverse-picking",
   "metadata": {
    "execution": {
     "iopub.execute_input": "2021-12-03T09:30:08.207938Z",
     "iopub.status.busy": "2021-12-03T09:30:08.205599Z",
     "iopub.status.idle": "2021-12-03T09:30:09.154902Z",
     "shell.execute_reply": "2021-12-03T09:30:09.156434Z"
    },
    "papermill": {
     "duration": 0.999999,
     "end_time": "2021-12-03T09:30:09.157268",
     "exception": false,
     "start_time": "2021-12-03T09:30:08.157269",
     "status": "completed"
    },
    "tags": []
   },
   "outputs": [],
   "source": [
    "import pandas as pd\n",
    "import sqlite3"
   ]
  },
  {
   "cell_type": "code",
   "execution_count": 2,
   "id": "innovative-syndrome",
   "metadata": {
    "execution": {
     "iopub.execute_input": "2021-12-03T09:30:09.289313Z",
     "iopub.status.busy": "2021-12-03T09:30:09.285438Z",
     "iopub.status.idle": "2021-12-03T09:30:10.250488Z",
     "shell.execute_reply": "2021-12-03T09:30:10.251688Z"
    },
    "papermill": {
     "duration": 1.002685,
     "end_time": "2021-12-03T09:30:10.252084",
     "exception": false,
     "start_time": "2021-12-03T09:30:09.249399",
     "status": "completed"
    },
    "tags": []
   },
   "outputs": [],
   "source": [
    "timestamps = pd.read_sql(\"select distinct record_time from EBAY_TOP_BERLIN order by record_time desc limit 2\", sqlite3.connect(\"UsedObjects.db\"))"
   ]
  },
  {
   "cell_type": "code",
   "execution_count": 3,
   "id": "periodic-identification",
   "metadata": {
    "execution": {
     "iopub.execute_input": "2021-12-03T09:30:10.317016Z",
     "iopub.status.busy": "2021-12-03T09:30:10.314912Z",
     "iopub.status.idle": "2021-12-03T09:30:10.337423Z",
     "shell.execute_reply": "2021-12-03T09:30:10.338815Z"
    },
    "papermill": {
     "duration": 0.067571,
     "end_time": "2021-12-03T09:30:10.339245",
     "exception": false,
     "start_time": "2021-12-03T09:30:10.271674",
     "status": "completed"
    },
    "tags": []
   },
   "outputs": [
    {
     "data": {
      "text/html": [
       "<div>\n",
       "<style scoped>\n",
       "    .dataframe tbody tr th:only-of-type {\n",
       "        vertical-align: middle;\n",
       "    }\n",
       "\n",
       "    .dataframe tbody tr th {\n",
       "        vertical-align: top;\n",
       "    }\n",
       "\n",
       "    .dataframe thead th {\n",
       "        text-align: right;\n",
       "    }\n",
       "</style>\n",
       "<table border=\"1\" class=\"dataframe\">\n",
       "  <thead>\n",
       "    <tr style=\"text-align: right;\">\n",
       "      <th></th>\n",
       "      <th>RECORD_TIME</th>\n",
       "    </tr>\n",
       "  </thead>\n",
       "  <tbody>\n",
       "    <tr>\n",
       "      <th>0</th>\n",
       "      <td>2021-12-03 10:30</td>\n",
       "    </tr>\n",
       "    <tr>\n",
       "      <th>1</th>\n",
       "      <td>2021-12-03 10:00</td>\n",
       "    </tr>\n",
       "  </tbody>\n",
       "</table>\n",
       "</div>"
      ],
      "text/plain": [
       "        RECORD_TIME\n",
       "0  2021-12-03 10:30\n",
       "1  2021-12-03 10:00"
      ]
     },
     "execution_count": 3,
     "metadata": {},
     "output_type": "execute_result"
    }
   ],
   "source": [
    "timestamps"
   ]
  },
  {
   "cell_type": "code",
   "execution_count": 4,
   "id": "alternate-victory",
   "metadata": {
    "execution": {
     "iopub.execute_input": "2021-12-03T09:30:10.391579Z",
     "iopub.status.busy": "2021-12-03T09:30:10.389495Z",
     "iopub.status.idle": "2021-12-03T09:30:11.784071Z",
     "shell.execute_reply": "2021-12-03T09:30:11.786689Z"
    },
    "papermill": {
     "duration": 1.42707,
     "end_time": "2021-12-03T09:30:11.787475",
     "exception": false,
     "start_time": "2021-12-03T09:30:10.360405",
     "status": "completed"
    },
    "tags": []
   },
   "outputs": [],
   "source": [
    "df = pd.read_sql(\"select * from EBAY_TOP_BERLIN where record_time in (select distinct record_time from EBAY_TOP_BERLIN order by record_time desc limit 2)\", sqlite3.connect(\"UsedObjects.db\"))"
   ]
  },
  {
   "cell_type": "code",
   "execution_count": 5,
   "id": "popular-active",
   "metadata": {
    "execution": {
     "iopub.execute_input": "2021-12-03T09:30:11.869368Z",
     "iopub.status.busy": "2021-12-03T09:30:11.857866Z",
     "iopub.status.idle": "2021-12-03T09:30:11.887184Z",
     "shell.execute_reply": "2021-12-03T09:30:11.888509Z"
    },
    "papermill": {
     "duration": 0.076448,
     "end_time": "2021-12-03T09:30:11.889038",
     "exception": false,
     "start_time": "2021-12-03T09:30:11.812590",
     "status": "completed"
    },
    "tags": []
   },
   "outputs": [],
   "source": [
    "df_pivot = df.pivot_table(index=\"PRODUCT\", columns = \"RECORD_TIME\", values = \"LISTING_COUNT\")"
   ]
  },
  {
   "cell_type": "code",
   "execution_count": 6,
   "id": "union-huntington",
   "metadata": {
    "execution": {
     "iopub.execute_input": "2021-12-03T09:30:11.947417Z",
     "iopub.status.busy": "2021-12-03T09:30:11.945228Z",
     "iopub.status.idle": "2021-12-03T09:30:11.952076Z",
     "shell.execute_reply": "2021-12-03T09:30:11.950652Z"
    },
    "papermill": {
     "duration": 0.043327,
     "end_time": "2021-12-03T09:30:11.952474",
     "exception": false,
     "start_time": "2021-12-03T09:30:11.909147",
     "status": "completed"
    },
    "tags": []
   },
   "outputs": [],
   "source": [
    "df_pivot.columns = [\"stamp_1\", \"stamp_2\"]\n",
    "df_pivot_diff = df_pivot.diff(axis=1)"
   ]
  },
  {
   "cell_type": "code",
   "execution_count": 7,
   "id": "fifth-motion",
   "metadata": {
    "execution": {
     "iopub.execute_input": "2021-12-03T09:30:12.010794Z",
     "iopub.status.busy": "2021-12-03T09:30:12.008075Z",
     "iopub.status.idle": "2021-12-03T09:30:14.013484Z",
     "shell.execute_reply": "2021-12-03T09:30:14.015272Z"
    },
    "papermill": {
     "duration": 2.042796,
     "end_time": "2021-12-03T09:30:14.015863",
     "exception": false,
     "start_time": "2021-12-03T09:30:11.973067",
     "status": "completed"
    },
    "tags": []
   },
   "outputs": [
    {
     "data": {
      "text/plain": [
       "<AxesSubplot:ylabel='PRODUCT'>"
      ]
     },
     "execution_count": 7,
     "metadata": {},
     "output_type": "execute_result"
    },
    {
     "data": {
      "image/png": "[encoded data removed]",
      "text/plain": [
       "<Figure size 432x288 with 1 Axes>"
      ]
     },
     "metadata": {
      "needs_background": "light"
     },
     "output_type": "display_data"
    }
   ],
   "source": [
    "df_pivot_diff.sort_values(\"stamp_2\", ascending = False)[\"stamp_2\"].head(10).plot.barh()"
   ]
  },
  {
   "cell_type": "code",
   "execution_count": null,
   "id": "extra-executive",
   "metadata": {
    "papermill": {
     "duration": 0.027818,
     "end_time": "2021-12-03T09:30:14.072300",
     "exception": false,
     "start_time": "2021-12-03T09:30:14.044482",
     "status": "completed"
    },
    "tags": []
   },
   "outputs": [],
   "source": []
  }
 ],
 "metadata": {
  "kernelspec": {
   "display_name": "Python 3",
   "language": "python",
   "name": "python3"
  },
  "language_info": {
   "codemirror_mode": {
    "name": "ipython",
    "version": 3
   },
   "file_extension": ".py",
   "mimetype": "text/x-python",
   "name": "python",
   "nbconvert_exporter": "python",
   "pygments_lexer": "ipython3",
   "version": "3.9.5"
  },
  "papermill": {
   "default_parameters": {},
   "duration": 9.942402,
   "end_time": "2021-12-03T09:30:15.384159",
   "environment_variables": {},
   "exception": null,
   "input_path": "eBay_Overview.ipynb",
   "output_path": "eBay_Overview.ipynb",
   "parameters": {},
   "start_time": "2021-12-03T09:30:05.441757",
   "version": "2.3.3"
  }
 },
 "nbformat": 4,
 "nbformat_minor": 5
}