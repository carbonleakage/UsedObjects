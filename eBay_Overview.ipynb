{
 "cells": [
  {
   "cell_type": "code",
   "execution_count": 1,
   "id": "reverse-picking",
   "metadata": {
    "execution": {
     "iopub.execute_input": "2021-10-31T11:00:06.743709Z",
     "iopub.status.busy": "2021-10-31T11:00:06.741740Z",
     "iopub.status.idle": "2021-10-31T11:00:07.546709Z",
     "shell.execute_reply": "2021-10-31T11:00:07.545054Z"
    },
    "papermill": {
     "duration": 0.854385,
     "end_time": "2021-10-31T11:00:07.547135",
     "exception": false,
     "start_time": "2021-10-31T11:00:06.692750",
     "status": "completed"
    },
    "tags": []
   },
   "outputs": [],
   "source": [
    "import pandas as pd\n",
    "import sqlite3"
   ]
  },
  {
   "cell_type": "code",
   "execution_count": 2,
   "id": "innovative-syndrome",
   "metadata": {
    "execution": {
     "iopub.execute_input": "2021-10-31T11:00:07.597648Z",
     "iopub.status.busy": "2021-10-31T11:00:07.595597Z",
     "iopub.status.idle": "2021-10-31T11:00:08.268774Z",
     "shell.execute_reply": "2021-10-31T11:00:08.270149Z"
    },
    "papermill": {
     "duration": 0.703269,
     "end_time": "2021-10-31T11:00:08.270575",
     "exception": false,
     "start_time": "2021-10-31T11:00:07.567306",
     "status": "completed"
    },
    "tags": []
   },
   "outputs": [],
   "source": [
    "timestamps = pd.read_sql(\"select distinct record_time from EBAY_TOP_BERLIN order by record_time desc limit 2\", sqlite3.connect(\"UsedObjects.db\"))"
   ]
  },
  {
   "cell_type": "code",
   "execution_count": 3,
   "id": "periodic-identification",
   "metadata": {
    "execution": {
     "iopub.execute_input": "2021-10-31T11:00:08.344726Z",
     "iopub.status.busy": "2021-10-31T11:00:08.342654Z",
     "iopub.status.idle": "2021-10-31T11:00:08.362448Z",
     "shell.execute_reply": "2021-10-31T11:00:08.363595Z"
    },
    "papermill": {
     "duration": 0.068418,
     "end_time": "2021-10-31T11:00:08.364011",
     "exception": false,
     "start_time": "2021-10-31T11:00:08.295593",
     "status": "completed"
    },
    "tags": []
   },
   "outputs": [
    {
     "data": {
      "text/html": [
       "<div>\n",
       "<style scoped>\n",
       "    .dataframe tbody tr th:only-of-type {\n",
       "        vertical-align: middle;\n",
       "    }\n",
       "\n",
       "    .dataframe tbody tr th {\n",
       "        vertical-align: top;\n",
       "    }\n",
       "\n",
       "    .dataframe thead th {\n",
       "        text-align: right;\n",
       "    }\n",
       "</style>\n",
       "<table border=\"1\" class=\"dataframe\">\n",
       "  <thead>\n",
       "    <tr style=\"text-align: right;\">\n",
       "      <th></th>\n",
       "      <th>RECORD_TIME</th>\n",
       "    </tr>\n",
       "  </thead>\n",
       "  <tbody>\n",
       "    <tr>\n",
       "      <th>0</th>\n",
       "      <td>2021-10-31 12:00</td>\n",
       "    </tr>\n",
       "    <tr>\n",
       "      <th>1</th>\n",
       "      <td>2021-10-31 11:30</td>\n",
       "    </tr>\n",
       "  </tbody>\n",
       "</table>\n",
       "</div>"
      ],
      "text/plain": [
       "        RECORD_TIME\n",
       "0  2021-10-31 12:00\n",
       "1  2021-10-31 11:30"
      ]
     },
     "execution_count": 3,
     "metadata": {},
     "output_type": "execute_result"
    }
   ],
   "source": [
    "timestamps"
   ]
  },
  {
   "cell_type": "code",
   "execution_count": 4,
   "id": "alternate-victory",
   "metadata": {
    "execution": {
     "iopub.execute_input": "2021-10-31T11:00:08.416918Z",
     "iopub.status.busy": "2021-10-31T11:00:08.414586Z",
     "iopub.status.idle": "2021-10-31T11:00:09.409757Z",
     "shell.execute_reply": "2021-10-31T11:00:09.411217Z"
    },
    "papermill": {
     "duration": 1.025833,
     "end_time": "2021-10-31T11:00:09.411660",
     "exception": false,
     "start_time": "2021-10-31T11:00:08.385827",
     "status": "completed"
    },
    "tags": []
   },
   "outputs": [],
   "source": [
    "df = pd.read_sql(\"select * from EBAY_TOP_BERLIN where record_time in (select distinct record_time from EBAY_TOP_BERLIN order by record_time desc limit 2)\", sqlite3.connect(\"UsedObjects.db\"))"
   ]
  },
  {
   "cell_type": "code",
   "execution_count": 5,
   "id": "popular-active",
   "metadata": {
    "execution": {
     "iopub.execute_input": "2021-10-31T11:00:09.482105Z",
     "iopub.status.busy": "2021-10-31T11:00:09.470126Z",
     "iopub.status.idle": "2021-10-31T11:00:09.497510Z",
     "shell.execute_reply": "2021-10-31T11:00:09.498735Z"
    },
    "papermill": {
     "duration": 0.06649,
     "end_time": "2021-10-31T11:00:09.499133",
     "exception": false,
     "start_time": "2021-10-31T11:00:09.432643",
     "status": "completed"
    },
    "tags": []
   },
   "outputs": [],
   "source": [
    "df_pivot = df.pivot_table(index=\"PRODUCT\", columns = \"RECORD_TIME\", values = \"LISTING_COUNT\")"
   ]
  },
  {
   "cell_type": "code",
   "execution_count": 6,
   "id": "union-huntington",
   "metadata": {
    "execution": {
     "iopub.execute_input": "2021-10-31T11:00:09.557354Z",
     "iopub.status.busy": "2021-10-31T11:00:09.555236Z",
     "iopub.status.idle": "2021-10-31T11:00:09.560542Z",
     "shell.execute_reply": "2021-10-31T11:00:09.561925Z"
    },
    "papermill": {
     "duration": 0.040848,
     "end_time": "2021-10-31T11:00:09.562349",
     "exception": false,
     "start_time": "2021-10-31T11:00:09.521501",
     "status": "completed"
    },
    "tags": []
   },
   "outputs": [],
   "source": [
    "df_pivot.columns = [\"stamp_1\", \"stamp_2\"]\n",
    "df_pivot_diff = df_pivot.diff(axis=1)"
   ]
  },
  {
   "cell_type": "code",
   "execution_count": 7,
   "id": "fifth-motion",
   "metadata": {
    "execution": {
     "iopub.execute_input": "2021-10-31T11:00:09.617467Z",
     "iopub.status.busy": "2021-10-31T11:00:09.614909Z",
     "iopub.status.idle": "2021-10-31T11:00:11.143979Z",
     "shell.execute_reply": "2021-10-31T11:00:11.145444Z"
    },
    "papermill": {
     "duration": 1.562226,
     "end_time": "2021-10-31T11:00:11.145902",
     "exception": false,
     "start_time": "2021-10-31T11:00:09.583676",
     "status": "completed"
    },
    "tags": []
   },
   "outputs": [
    {
     "data": {
      "text/plain": [
       "<AxesSubplot:ylabel='PRODUCT'>"
      ]
     },
     "execution_count": 7,
     "metadata": {},
     "output_type": "execute_result"
    },
    {
     "data": {
      "image/png": "[encoded data removed]",
      "text/plain": [
       "<Figure size 432x288 with 1 Axes>"
      ]
     },
     "metadata": {
      "needs_background": "light"
     },
     "output_type": "display_data"
    }
   ],
   "source": [
    "df_pivot_diff.sort_values(\"stamp_2\", ascending = False)[\"stamp_2\"].head(10).plot.barh()"
   ]
  },
  {
   "cell_type": "code",
   "execution_count": null,
   "id": "extra-executive",
   "metadata": {
    "papermill": {
     "duration": 0.022332,
     "end_time": "2021-10-31T11:00:11.193051",
     "exception": false,
     "start_time": "2021-10-31T11:00:11.170719",
     "status": "completed"
    },
    "tags": []
   },
   "outputs": [],
   "source": []
  }
 ],
 "metadata": {
  "kernelspec": {
   "display_name": "Python 3",
   "language": "python",
   "name": "python3"
  },
  "language_info": {
   "codemirror_mode": {
    "name": "ipython",
    "version": 3
   },
   "file_extension": ".py",
   "mimetype": "text/x-python",
   "name": "python",
   "nbconvert_exporter": "python",
   "pygments_lexer": "ipython3",
   "version": "3.9.5"
  },
  "papermill": {
   "default_parameters": {},
   "duration": 7.545058,
   "end_time": "2021-10-31T11:00:11.836945",
   "environment_variables": {},
   "exception": null,
   "input_path": "eBay_Overview.ipynb",
   "output_path": "eBay_Overview.ipynb",
   "parameters": {},
   "start_time": "2021-10-31T11:00:04.291887",
   "version": "2.3.3"
  }
 },
 "nbformat": 4,
 "nbformat_minor": 5
}