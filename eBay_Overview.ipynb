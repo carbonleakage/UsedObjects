{
 "cells": [
  {
   "cell_type": "code",
   "execution_count": 1,
   "id": "reverse-picking",
   "metadata": {
    "execution": {
     "iopub.execute_input": "2021-08-30T08:00:07.438626Z",
     "iopub.status.busy": "2021-08-30T08:00:07.436710Z",
     "iopub.status.idle": "2021-08-30T08:00:08.243896Z",
     "shell.execute_reply": "2021-08-30T08:00:08.242344Z"
    },
    "papermill": {
     "duration": 0.857569,
     "end_time": "2021-08-30T08:00:08.244338",
     "exception": false,
     "start_time": "2021-08-30T08:00:07.386769",
     "status": "completed"
    },
    "tags": []
   },
   "outputs": [],
   "source": [
    "import pandas as pd\n",
    "import sqlite3"
   ]
  },
  {
   "cell_type": "code",
   "execution_count": 2,
   "id": "innovative-syndrome",
   "metadata": {
    "execution": {
     "iopub.execute_input": "2021-08-30T08:00:08.295452Z",
     "iopub.status.busy": "2021-08-30T08:00:08.293609Z",
     "iopub.status.idle": "2021-08-30T08:00:08.458717Z",
     "shell.execute_reply": "2021-08-30T08:00:08.459825Z"
    },
    "papermill": {
     "duration": 0.194766,
     "end_time": "2021-08-30T08:00:08.460305",
     "exception": false,
     "start_time": "2021-08-30T08:00:08.265539",
     "status": "completed"
    },
    "tags": []
   },
   "outputs": [],
   "source": [
    "timestamps = pd.read_sql(\"select distinct record_time from EBAY_TOP_BERLIN order by record_time desc limit 2\", sqlite3.connect(\"UsedObjects.db\"))"
   ]
  },
  {
   "cell_type": "code",
   "execution_count": 3,
   "id": "periodic-identification",
   "metadata": {
    "execution": {
     "iopub.execute_input": "2021-08-30T08:00:08.526241Z",
     "iopub.status.busy": "2021-08-30T08:00:08.524170Z",
     "iopub.status.idle": "2021-08-30T08:00:08.544062Z",
     "shell.execute_reply": "2021-08-30T08:00:08.545349Z"
    },
    "papermill": {
     "duration": 0.064471,
     "end_time": "2021-08-30T08:00:08.545748",
     "exception": false,
     "start_time": "2021-08-30T08:00:08.481277",
     "status": "completed"
    },
    "tags": []
   },
   "outputs": [
    {
     "data": {
      "text/html": [
       "<div>\n",
       "<style scoped>\n",
       "    .dataframe tbody tr th:only-of-type {\n",
       "        vertical-align: middle;\n",
       "    }\n",
       "\n",
       "    .dataframe tbody tr th {\n",
       "        vertical-align: top;\n",
       "    }\n",
       "\n",
       "    .dataframe thead th {\n",
       "        text-align: right;\n",
       "    }\n",
       "</style>\n",
       "<table border=\"1\" class=\"dataframe\">\n",
       "  <thead>\n",
       "    <tr style=\"text-align: right;\">\n",
       "      <th></th>\n",
       "      <th>RECORD_TIME</th>\n",
       "    </tr>\n",
       "  </thead>\n",
       "  <tbody>\n",
       "    <tr>\n",
       "      <th>0</th>\n",
       "      <td>2021-08-30 10:00</td>\n",
       "    </tr>\n",
       "    <tr>\n",
       "      <th>1</th>\n",
       "      <td>2021-08-30 09:30</td>\n",
       "    </tr>\n",
       "  </tbody>\n",
       "</table>\n",
       "</div>"
      ],
      "text/plain": [
       "        RECORD_TIME\n",
       "0  2021-08-30 10:00\n",
       "1  2021-08-30 09:30"
      ]
     },
     "execution_count": 3,
     "metadata": {},
     "output_type": "execute_result"
    }
   ],
   "source": [
    "timestamps"
   ]
  },
  {
   "cell_type": "code",
   "execution_count": 4,
   "id": "alternate-victory",
   "metadata": {
    "execution": {
     "iopub.execute_input": "2021-08-30T08:00:08.597534Z",
     "iopub.status.busy": "2021-08-30T08:00:08.595598Z",
     "iopub.status.idle": "2021-08-30T08:00:08.837451Z",
     "shell.execute_reply": "2021-08-30T08:00:08.838829Z"
    },
    "papermill": {
     "duration": 0.272233,
     "end_time": "2021-08-30T08:00:08.839271",
     "exception": false,
     "start_time": "2021-08-30T08:00:08.567038",
     "status": "completed"
    },
    "tags": []
   },
   "outputs": [],
   "source": [
    "df = pd.read_sql(\"select * from EBAY_TOP_BERLIN where record_time in (select distinct record_time from EBAY_TOP_BERLIN order by record_time desc limit 2)\", sqlite3.connect(\"UsedObjects.db\"))"
   ]
  },
  {
   "cell_type": "code",
   "execution_count": 5,
   "id": "popular-active",
   "metadata": {
    "execution": {
     "iopub.execute_input": "2021-08-30T08:00:08.909765Z",
     "iopub.status.busy": "2021-08-30T08:00:08.898558Z",
     "iopub.status.idle": "2021-08-30T08:00:08.927590Z",
     "shell.execute_reply": "2021-08-30T08:00:08.929177Z"
    },
    "papermill": {
     "duration": 0.069201,
     "end_time": "2021-08-30T08:00:08.929636",
     "exception": false,
     "start_time": "2021-08-30T08:00:08.860435",
     "status": "completed"
    },
    "tags": []
   },
   "outputs": [],
   "source": [
    "df_pivot = df.pivot_table(index=\"PRODUCT\", columns = \"RECORD_TIME\", values = \"LISTING_COUNT\")"
   ]
  },
  {
   "cell_type": "code",
   "execution_count": 6,
   "id": "union-huntington",
   "metadata": {
    "execution": {
     "iopub.execute_input": "2021-08-30T08:00:08.987788Z",
     "iopub.status.busy": "2021-08-30T08:00:08.985739Z",
     "iopub.status.idle": "2021-08-30T08:00:08.991246Z",
     "shell.execute_reply": "2021-08-30T08:00:08.992499Z"
    },
    "papermill": {
     "duration": 0.041628,
     "end_time": "2021-08-30T08:00:08.992939",
     "exception": false,
     "start_time": "2021-08-30T08:00:08.951311",
     "status": "completed"
    },
    "tags": []
   },
   "outputs": [],
   "source": [
    "df_pivot.columns = [\"stamp_1\", \"stamp_2\"]\n",
    "df_pivot_diff = df_pivot.diff(axis=1)"
   ]
  },
  {
   "cell_type": "code",
   "execution_count": 7,
   "id": "fifth-motion",
   "metadata": {
    "execution": {
     "iopub.execute_input": "2021-08-30T08:00:09.047669Z",
     "iopub.status.busy": "2021-08-30T08:00:09.045325Z",
     "iopub.status.idle": "2021-08-30T08:00:10.518058Z",
     "shell.execute_reply": "2021-08-30T08:00:10.519322Z"
    },
    "papermill": {
     "duration": 1.50589,
     "end_time": "2021-08-30T08:00:10.519740",
     "exception": false,
     "start_time": "2021-08-30T08:00:09.013850",
     "status": "completed"
    },
    "tags": []
   },
   "outputs": [
    {
     "data": {
      "text/plain": [
       "<AxesSubplot:ylabel='PRODUCT'>"
      ]
     },
     "execution_count": 7,
     "metadata": {},
     "output_type": "execute_result"
    },
    {
     "data": {
      "image/png": "[encoded data removed]",
      "text/plain": [
       "<Figure size 432x288 with 1 Axes>"
      ]
     },
     "metadata": {
      "needs_background": "light"
     },
     "output_type": "display_data"
    }
   ],
   "source": [
    "df_pivot_diff.sort_values(\"stamp_2\", ascending = False)[\"stamp_2\"].head(10).plot.barh()"
   ]
  },
  {
   "cell_type": "code",
   "execution_count": null,
   "id": "extra-executive",
   "metadata": {
    "papermill": {
     "duration": 0.022833,
     "end_time": "2021-08-30T08:00:10.569023",
     "exception": false,
     "start_time": "2021-08-30T08:00:10.546190",
     "status": "completed"
    },
    "tags": []
   },
   "outputs": [],
   "source": []
  }
 ],
 "metadata": {
  "kernelspec": {
   "display_name": "Python 3",
   "language": "python",
   "name": "python3"
  },
  "language_info": {
   "codemirror_mode": {
    "name": "ipython",
    "version": 3
   },
   "file_extension": ".py",
   "mimetype": "text/x-python",
   "name": "python",
   "nbconvert_exporter": "python",
   "pygments_lexer": "ipython3",
   "version": "3.9.5"
  },
  "papermill": {
   "default_parameters": {},
   "duration": 6.821439,
   "end_time": "2021-08-30T08:00:11.799579",
   "environment_variables": {},
   "exception": null,
   "input_path": "eBay_Overview.ipynb",
   "output_path": "eBay_Overview.ipynb",
   "parameters": {},
   "start_time": "2021-08-30T08:00:04.978140",
   "version": "2.3.3"
  }
 },
 "nbformat": 4,
 "nbformat_minor": 5
}