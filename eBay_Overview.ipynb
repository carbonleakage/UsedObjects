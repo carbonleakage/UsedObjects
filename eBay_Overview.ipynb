{
 "cells": [
  {
   "cell_type": "code",
   "execution_count": 1,
   "id": "reverse-picking",
   "metadata": {
    "execution": {
     "iopub.execute_input": "2021-09-19T12:30:06.968469Z",
     "iopub.status.busy": "2021-09-19T12:30:06.966463Z",
     "iopub.status.idle": "2021-09-19T12:30:07.771947Z",
     "shell.execute_reply": "2021-09-19T12:30:07.770286Z"
    },
    "papermill": {
     "duration": 0.853803,
     "end_time": "2021-09-19T12:30:07.772344",
     "exception": false,
     "start_time": "2021-09-19T12:30:06.918541",
     "status": "completed"
    },
    "tags": []
   },
   "outputs": [],
   "source": [
    "import pandas as pd\n",
    "import sqlite3"
   ]
  },
  {
   "cell_type": "code",
   "execution_count": 2,
   "id": "innovative-syndrome",
   "metadata": {
    "execution": {
     "iopub.execute_input": "2021-09-19T12:30:07.822581Z",
     "iopub.status.busy": "2021-09-19T12:30:07.820731Z",
     "iopub.status.idle": "2021-09-19T12:30:08.145337Z",
     "shell.execute_reply": "2021-09-19T12:30:08.146524Z"
    },
    "papermill": {
     "duration": 0.354047,
     "end_time": "2021-09-19T12:30:08.147079",
     "exception": false,
     "start_time": "2021-09-19T12:30:07.793032",
     "status": "completed"
    },
    "tags": []
   },
   "outputs": [],
   "source": [
    "timestamps = pd.read_sql(\"select distinct record_time from EBAY_TOP_BERLIN order by record_time desc limit 2\", sqlite3.connect(\"UsedObjects.db\"))"
   ]
  },
  {
   "cell_type": "code",
   "execution_count": 3,
   "id": "periodic-identification",
   "metadata": {
    "execution": {
     "iopub.execute_input": "2021-09-19T12:30:08.214583Z",
     "iopub.status.busy": "2021-09-19T12:30:08.212596Z",
     "iopub.status.idle": "2021-09-19T12:30:08.235056Z",
     "shell.execute_reply": "2021-09-19T12:30:08.236603Z"
    },
    "papermill": {
     "duration": 0.068555,
     "end_time": "2021-09-19T12:30:08.237061",
     "exception": false,
     "start_time": "2021-09-19T12:30:08.168506",
     "status": "completed"
    },
    "tags": []
   },
   "outputs": [
    {
     "data": {
      "text/html": [
       "<div>\n",
       "<style scoped>\n",
       "    .dataframe tbody tr th:only-of-type {\n",
       "        vertical-align: middle;\n",
       "    }\n",
       "\n",
       "    .dataframe tbody tr th {\n",
       "        vertical-align: top;\n",
       "    }\n",
       "\n",
       "    .dataframe thead th {\n",
       "        text-align: right;\n",
       "    }\n",
       "</style>\n",
       "<table border=\"1\" class=\"dataframe\">\n",
       "  <thead>\n",
       "    <tr style=\"text-align: right;\">\n",
       "      <th></th>\n",
       "      <th>RECORD_TIME</th>\n",
       "    </tr>\n",
       "  </thead>\n",
       "  <tbody>\n",
       "    <tr>\n",
       "      <th>0</th>\n",
       "      <td>2021-09-19 14:30</td>\n",
       "    </tr>\n",
       "    <tr>\n",
       "      <th>1</th>\n",
       "      <td>2021-09-19 14:00</td>\n",
       "    </tr>\n",
       "  </tbody>\n",
       "</table>\n",
       "</div>"
      ],
      "text/plain": [
       "        RECORD_TIME\n",
       "0  2021-09-19 14:30\n",
       "1  2021-09-19 14:00"
      ]
     },
     "execution_count": 3,
     "metadata": {},
     "output_type": "execute_result"
    }
   ],
   "source": [
    "timestamps"
   ]
  },
  {
   "cell_type": "code",
   "execution_count": 4,
   "id": "alternate-victory",
   "metadata": {
    "execution": {
     "iopub.execute_input": "2021-09-19T12:30:08.288682Z",
     "iopub.status.busy": "2021-09-19T12:30:08.286499Z",
     "iopub.status.idle": "2021-09-19T12:30:08.776126Z",
     "shell.execute_reply": "2021-09-19T12:30:08.777380Z"
    },
    "papermill": {
     "duration": 0.519349,
     "end_time": "2021-09-19T12:30:08.777768",
     "exception": false,
     "start_time": "2021-09-19T12:30:08.258419",
     "status": "completed"
    },
    "tags": []
   },
   "outputs": [],
   "source": [
    "df = pd.read_sql(\"select * from EBAY_TOP_BERLIN where record_time in (select distinct record_time from EBAY_TOP_BERLIN order by record_time desc limit 2)\", sqlite3.connect(\"UsedObjects.db\"))"
   ]
  },
  {
   "cell_type": "code",
   "execution_count": 5,
   "id": "popular-active",
   "metadata": {
    "execution": {
     "iopub.execute_input": "2021-09-19T12:30:08.848748Z",
     "iopub.status.busy": "2021-09-19T12:30:08.837739Z",
     "iopub.status.idle": "2021-09-19T12:30:08.864361Z",
     "shell.execute_reply": "2021-09-19T12:30:08.865570Z"
    },
    "papermill": {
     "duration": 0.067387,
     "end_time": "2021-09-19T12:30:08.865958",
     "exception": false,
     "start_time": "2021-09-19T12:30:08.798571",
     "status": "completed"
    },
    "tags": []
   },
   "outputs": [],
   "source": [
    "df_pivot = df.pivot_table(index=\"PRODUCT\", columns = \"RECORD_TIME\", values = \"LISTING_COUNT\")"
   ]
  },
  {
   "cell_type": "code",
   "execution_count": 6,
   "id": "union-huntington",
   "metadata": {
    "execution": {
     "iopub.execute_input": "2021-09-19T12:30:08.921592Z",
     "iopub.status.busy": "2021-09-19T12:30:08.919556Z",
     "iopub.status.idle": "2021-09-19T12:30:08.924834Z",
     "shell.execute_reply": "2021-09-19T12:30:08.926104Z"
    },
    "papermill": {
     "duration": 0.040126,
     "end_time": "2021-09-19T12:30:08.926517",
     "exception": false,
     "start_time": "2021-09-19T12:30:08.886391",
     "status": "completed"
    },
    "tags": []
   },
   "outputs": [],
   "source": [
    "df_pivot.columns = [\"stamp_1\", \"stamp_2\"]\n",
    "df_pivot_diff = df_pivot.diff(axis=1)"
   ]
  },
  {
   "cell_type": "code",
   "execution_count": 7,
   "id": "fifth-motion",
   "metadata": {
    "execution": {
     "iopub.execute_input": "2021-09-19T12:30:08.984254Z",
     "iopub.status.busy": "2021-09-19T12:30:08.981569Z",
     "iopub.status.idle": "2021-09-19T12:30:10.463923Z",
     "shell.execute_reply": "2021-09-19T12:30:10.465217Z"
    },
    "papermill": {
     "duration": 1.515737,
     "end_time": "2021-09-19T12:30:10.465630",
     "exception": false,
     "start_time": "2021-09-19T12:30:08.949893",
     "status": "completed"
    },
    "tags": []
   },
   "outputs": [
    {
     "data": {
      "text/plain": [
       "<AxesSubplot:ylabel='PRODUCT'>"
      ]
     },
     "execution_count": 7,
     "metadata": {},
     "output_type": "execute_result"
    },
    {
     "data": {
      "image/png": "[encoded data removed]",
      "text/plain": [
       "<Figure size 432x288 with 1 Axes>"
      ]
     },
     "metadata": {
      "needs_background": "light"
     },
     "output_type": "display_data"
    }
   ],
   "source": [
    "df_pivot_diff.sort_values(\"stamp_2\", ascending = False)[\"stamp_2\"].head(10).plot.barh()"
   ]
  },
  {
   "cell_type": "code",
   "execution_count": null,
   "id": "extra-executive",
   "metadata": {
    "papermill": {
     "duration": 0.021909,
     "end_time": "2021-09-19T12:30:10.511874",
     "exception": false,
     "start_time": "2021-09-19T12:30:10.489965",
     "status": "completed"
    },
    "tags": []
   },
   "outputs": [],
   "source": []
  }
 ],
 "metadata": {
  "kernelspec": {
   "display_name": "Python 3",
   "language": "python",
   "name": "python3"
  },
  "language_info": {
   "codemirror_mode": {
    "name": "ipython",
    "version": 3
   },
   "file_extension": ".py",
   "mimetype": "text/x-python",
   "name": "python",
   "nbconvert_exporter": "python",
   "pygments_lexer": "ipython3",
   "version": "3.9.5"
  },
  "papermill": {
   "default_parameters": {},
   "duration": 6.637662,
   "end_time": "2021-09-19T12:30:11.153898",
   "environment_variables": {},
   "exception": null,
   "input_path": "eBay_Overview.ipynb",
   "output_path": "eBay_Overview.ipynb",
   "parameters": {},
   "start_time": "2021-09-19T12:30:04.516236",
   "version": "2.3.3"
  }
 },
 "nbformat": 4,
 "nbformat_minor": 5
}