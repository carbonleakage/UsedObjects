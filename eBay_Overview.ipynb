{
 "cells": [
  {
   "cell_type": "code",
   "execution_count": 1,
   "id": "reverse-picking",
   "metadata": {
    "execution": {
     "iopub.execute_input": "2021-08-22T12:30:06.736018Z",
     "iopub.status.busy": "2021-08-22T12:30:06.734079Z",
     "iopub.status.idle": "2021-08-22T12:30:07.541742Z",
     "shell.execute_reply": "2021-08-22T12:30:07.540197Z"
    },
    "papermill": {
     "duration": 0.859594,
     "end_time": "2021-08-22T12:30:07.542214",
     "exception": false,
     "start_time": "2021-08-22T12:30:06.682620",
     "status": "completed"
    },
    "tags": []
   },
   "outputs": [],
   "source": [
    "import pandas as pd\n",
    "import sqlite3"
   ]
  },
  {
   "cell_type": "code",
   "execution_count": 2,
   "id": "innovative-syndrome",
   "metadata": {
    "execution": {
     "iopub.execute_input": "2021-08-22T12:30:07.593379Z",
     "iopub.status.busy": "2021-08-22T12:30:07.591515Z",
     "iopub.status.idle": "2021-08-22T12:30:07.696270Z",
     "shell.execute_reply": "2021-08-22T12:30:07.697480Z"
    },
    "papermill": {
     "duration": 0.134442,
     "end_time": "2021-08-22T12:30:07.697875",
     "exception": false,
     "start_time": "2021-08-22T12:30:07.563433",
     "status": "completed"
    },
    "tags": []
   },
   "outputs": [],
   "source": [
    "timestamps = pd.read_sql(\"select distinct record_time from EBAY_TOP_BERLIN order by record_time desc limit 2\", sqlite3.connect(\"UsedObjects.db\"))"
   ]
  },
  {
   "cell_type": "code",
   "execution_count": 3,
   "id": "periodic-identification",
   "metadata": {
    "execution": {
     "iopub.execute_input": "2021-08-22T12:30:07.762632Z",
     "iopub.status.busy": "2021-08-22T12:30:07.760515Z",
     "iopub.status.idle": "2021-08-22T12:30:07.780428Z",
     "shell.execute_reply": "2021-08-22T12:30:07.781660Z"
    },
    "papermill": {
     "duration": 0.06472,
     "end_time": "2021-08-22T12:30:07.782227",
     "exception": false,
     "start_time": "2021-08-22T12:30:07.717507",
     "status": "completed"
    },
    "tags": []
   },
   "outputs": [
    {
     "data": {
      "text/html": [
       "<div>\n",
       "<style scoped>\n",
       "    .dataframe tbody tr th:only-of-type {\n",
       "        vertical-align: middle;\n",
       "    }\n",
       "\n",
       "    .dataframe tbody tr th {\n",
       "        vertical-align: top;\n",
       "    }\n",
       "\n",
       "    .dataframe thead th {\n",
       "        text-align: right;\n",
       "    }\n",
       "</style>\n",
       "<table border=\"1\" class=\"dataframe\">\n",
       "  <thead>\n",
       "    <tr style=\"text-align: right;\">\n",
       "      <th></th>\n",
       "      <th>RECORD_TIME</th>\n",
       "    </tr>\n",
       "  </thead>\n",
       "  <tbody>\n",
       "    <tr>\n",
       "      <th>0</th>\n",
       "      <td>2021-08-22 14:30</td>\n",
       "    </tr>\n",
       "    <tr>\n",
       "      <th>1</th>\n",
       "      <td>2021-08-22 14:00</td>\n",
       "    </tr>\n",
       "  </tbody>\n",
       "</table>\n",
       "</div>"
      ],
      "text/plain": [
       "        RECORD_TIME\n",
       "0  2021-08-22 14:30\n",
       "1  2021-08-22 14:00"
      ]
     },
     "execution_count": 3,
     "metadata": {},
     "output_type": "execute_result"
    }
   ],
   "source": [
    "timestamps"
   ]
  },
  {
   "cell_type": "code",
   "execution_count": 4,
   "id": "alternate-victory",
   "metadata": {
    "execution": {
     "iopub.execute_input": "2021-08-22T12:30:07.835884Z",
     "iopub.status.busy": "2021-08-22T12:30:07.833653Z",
     "iopub.status.idle": "2021-08-22T12:30:07.994484Z",
     "shell.execute_reply": "2021-08-22T12:30:07.995835Z"
    },
    "papermill": {
     "duration": 0.191318,
     "end_time": "2021-08-22T12:30:07.996230",
     "exception": false,
     "start_time": "2021-08-22T12:30:07.804912",
     "status": "completed"
    },
    "tags": []
   },
   "outputs": [],
   "source": [
    "df = pd.read_sql(\"select * from EBAY_TOP_BERLIN where record_time in (select distinct record_time from EBAY_TOP_BERLIN order by record_time desc limit 2)\", sqlite3.connect(\"UsedObjects.db\"))"
   ]
  },
  {
   "cell_type": "code",
   "execution_count": 5,
   "id": "popular-active",
   "metadata": {
    "execution": {
     "iopub.execute_input": "2021-08-22T12:30:08.067032Z",
     "iopub.status.busy": "2021-08-22T12:30:08.055486Z",
     "iopub.status.idle": "2021-08-22T12:30:08.083467Z",
     "shell.execute_reply": "2021-08-22T12:30:08.084716Z"
    },
    "papermill": {
     "duration": 0.068282,
     "end_time": "2021-08-22T12:30:08.085111",
     "exception": false,
     "start_time": "2021-08-22T12:30:08.016829",
     "status": "completed"
    },
    "tags": []
   },
   "outputs": [],
   "source": [
    "df_pivot = df.pivot_table(index=\"PRODUCT\", columns = \"RECORD_TIME\", values = \"LISTING_COUNT\")"
   ]
  },
  {
   "cell_type": "code",
   "execution_count": 6,
   "id": "union-huntington",
   "metadata": {
    "execution": {
     "iopub.execute_input": "2021-08-22T12:30:08.141074Z",
     "iopub.status.busy": "2021-08-22T12:30:08.139029Z",
     "iopub.status.idle": "2021-08-22T12:30:08.144434Z",
     "shell.execute_reply": "2021-08-22T12:30:08.145730Z"
    },
    "papermill": {
     "duration": 0.040759,
     "end_time": "2021-08-22T12:30:08.146332",
     "exception": false,
     "start_time": "2021-08-22T12:30:08.105573",
     "status": "completed"
    },
    "tags": []
   },
   "outputs": [],
   "source": [
    "df_pivot.columns = [\"stamp_1\", \"stamp_2\"]\n",
    "df_pivot_diff = df_pivot.diff(axis=1)"
   ]
  },
  {
   "cell_type": "code",
   "execution_count": 7,
   "id": "fifth-motion",
   "metadata": {
    "execution": {
     "iopub.execute_input": "2021-08-22T12:30:08.206624Z",
     "iopub.status.busy": "2021-08-22T12:30:08.204232Z",
     "iopub.status.idle": "2021-08-22T12:30:09.687161Z",
     "shell.execute_reply": "2021-08-22T12:30:09.688511Z"
    },
    "papermill": {
     "duration": 1.517783,
     "end_time": "2021-08-22T12:30:09.688934",
     "exception": false,
     "start_time": "2021-08-22T12:30:08.171151",
     "status": "completed"
    },
    "tags": []
   },
   "outputs": [
    {
     "data": {
      "text/plain": [
       "<AxesSubplot:ylabel='PRODUCT'>"
      ]
     },
     "execution_count": 7,
     "metadata": {},
     "output_type": "execute_result"
    },
    {
     "data": {
      "image/png": "[encoded data removed]",
      "text/plain": [
       "<Figure size 432x288 with 1 Axes>"
      ]
     },
     "metadata": {
      "needs_background": "light"
     },
     "output_type": "display_data"
    }
   ],
   "source": [
    "df_pivot_diff.sort_values(\"stamp_2\", ascending = False)[\"stamp_2\"].head(10).plot.barh()"
   ]
  },
  {
   "cell_type": "code",
   "execution_count": null,
   "id": "extra-executive",
   "metadata": {
    "papermill": {
     "duration": 0.022515,
     "end_time": "2021-08-22T12:30:09.736287",
     "exception": false,
     "start_time": "2021-08-22T12:30:09.713772",
     "status": "completed"
    },
    "tags": []
   },
   "outputs": [],
   "source": []
  }
 ],
 "metadata": {
  "kernelspec": {
   "display_name": "Python 3",
   "language": "python",
   "name": "python3"
  },
  "language_info": {
   "codemirror_mode": {
    "name": "ipython",
    "version": 3
   },
   "file_extension": ".py",
   "mimetype": "text/x-python",
   "name": "python",
   "nbconvert_exporter": "python",
   "pygments_lexer": "ipython3",
   "version": "3.9.5"
  },
  "papermill": {
   "default_parameters": {},
   "duration": 6.827489,
   "end_time": "2021-08-22T12:30:11.109257",
   "environment_variables": {},
   "exception": null,
   "input_path": "eBay_Overview.ipynb",
   "output_path": "eBay_Overview.ipynb",
   "parameters": {},
   "start_time": "2021-08-22T12:30:04.281768",
   "version": "2.3.3"
  }
 },
 "nbformat": 4,
 "nbformat_minor": 5
}