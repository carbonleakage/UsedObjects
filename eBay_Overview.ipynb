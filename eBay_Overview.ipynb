{
 "cells": [
  {
   "cell_type": "code",
   "execution_count": 1,
   "id": "reverse-picking",
   "metadata": {
    "execution": {
     "iopub.execute_input": "2021-10-01T13:30:06.920994Z",
     "iopub.status.busy": "2021-10-01T13:30:06.919052Z",
     "iopub.status.idle": "2021-10-01T13:30:07.723455Z",
     "shell.execute_reply": "2021-10-01T13:30:07.724785Z"
    },
    "papermill": {
     "duration": 0.858261,
     "end_time": "2021-10-01T13:30:07.725396",
     "exception": false,
     "start_time": "2021-10-01T13:30:06.867135",
     "status": "completed"
    },
    "tags": []
   },
   "outputs": [],
   "source": [
    "import pandas as pd\n",
    "import sqlite3"
   ]
  },
  {
   "cell_type": "code",
   "execution_count": 2,
   "id": "innovative-syndrome",
   "metadata": {
    "execution": {
     "iopub.execute_input": "2021-10-01T13:30:07.775445Z",
     "iopub.status.busy": "2021-10-01T13:30:07.773456Z",
     "iopub.status.idle": "2021-10-01T13:30:08.195945Z",
     "shell.execute_reply": "2021-10-01T13:30:08.197371Z"
    },
    "papermill": {
     "duration": 0.45233,
     "end_time": "2021-10-01T13:30:08.197814",
     "exception": false,
     "start_time": "2021-10-01T13:30:07.745484",
     "status": "completed"
    },
    "tags": []
   },
   "outputs": [],
   "source": [
    "timestamps = pd.read_sql(\"select distinct record_time from EBAY_TOP_BERLIN order by record_time desc limit 2\", sqlite3.connect(\"UsedObjects.db\"))"
   ]
  },
  {
   "cell_type": "code",
   "execution_count": 3,
   "id": "periodic-identification",
   "metadata": {
    "execution": {
     "iopub.execute_input": "2021-10-01T13:30:08.265176Z",
     "iopub.status.busy": "2021-10-01T13:30:08.263145Z",
     "iopub.status.idle": "2021-10-01T13:30:08.282934Z",
     "shell.execute_reply": "2021-10-01T13:30:08.284607Z"
    },
    "papermill": {
     "duration": 0.067402,
     "end_time": "2021-10-01T13:30:08.285114",
     "exception": false,
     "start_time": "2021-10-01T13:30:08.217712",
     "status": "completed"
    },
    "tags": []
   },
   "outputs": [
    {
     "data": {
      "text/html": [
       "<div>\n",
       "<style scoped>\n",
       "    .dataframe tbody tr th:only-of-type {\n",
       "        vertical-align: middle;\n",
       "    }\n",
       "\n",
       "    .dataframe tbody tr th {\n",
       "        vertical-align: top;\n",
       "    }\n",
       "\n",
       "    .dataframe thead th {\n",
       "        text-align: right;\n",
       "    }\n",
       "</style>\n",
       "<table border=\"1\" class=\"dataframe\">\n",
       "  <thead>\n",
       "    <tr style=\"text-align: right;\">\n",
       "      <th></th>\n",
       "      <th>RECORD_TIME</th>\n",
       "    </tr>\n",
       "  </thead>\n",
       "  <tbody>\n",
       "    <tr>\n",
       "      <th>0</th>\n",
       "      <td>2021-10-01 15:30</td>\n",
       "    </tr>\n",
       "    <tr>\n",
       "      <th>1</th>\n",
       "      <td>2021-10-01 15:00</td>\n",
       "    </tr>\n",
       "  </tbody>\n",
       "</table>\n",
       "</div>"
      ],
      "text/plain": [
       "        RECORD_TIME\n",
       "0  2021-10-01 15:30\n",
       "1  2021-10-01 15:00"
      ]
     },
     "execution_count": 3,
     "metadata": {},
     "output_type": "execute_result"
    }
   ],
   "source": [
    "timestamps"
   ]
  },
  {
   "cell_type": "code",
   "execution_count": 4,
   "id": "alternate-victory",
   "metadata": {
    "execution": {
     "iopub.execute_input": "2021-10-01T13:30:08.337697Z",
     "iopub.status.busy": "2021-10-01T13:30:08.335432Z",
     "iopub.status.idle": "2021-10-01T13:30:08.986860Z",
     "shell.execute_reply": "2021-10-01T13:30:08.988259Z"
    },
    "papermill": {
     "duration": 0.68169,
     "end_time": "2021-10-01T13:30:08.988687",
     "exception": false,
     "start_time": "2021-10-01T13:30:08.306997",
     "status": "completed"
    },
    "tags": []
   },
   "outputs": [],
   "source": [
    "df = pd.read_sql(\"select * from EBAY_TOP_BERLIN where record_time in (select distinct record_time from EBAY_TOP_BERLIN order by record_time desc limit 2)\", sqlite3.connect(\"UsedObjects.db\"))"
   ]
  },
  {
   "cell_type": "code",
   "execution_count": 5,
   "id": "popular-active",
   "metadata": {
    "execution": {
     "iopub.execute_input": "2021-10-01T13:30:09.057628Z",
     "iopub.status.busy": "2021-10-01T13:30:09.045796Z",
     "iopub.status.idle": "2021-10-01T13:30:09.073781Z",
     "shell.execute_reply": "2021-10-01T13:30:09.075192Z"
    },
    "papermill": {
     "duration": 0.066503,
     "end_time": "2021-10-01T13:30:09.075606",
     "exception": false,
     "start_time": "2021-10-01T13:30:09.009103",
     "status": "completed"
    },
    "tags": []
   },
   "outputs": [],
   "source": [
    "df_pivot = df.pivot_table(index=\"PRODUCT\", columns = \"RECORD_TIME\", values = \"LISTING_COUNT\")"
   ]
  },
  {
   "cell_type": "code",
   "execution_count": 6,
   "id": "union-huntington",
   "metadata": {
    "execution": {
     "iopub.execute_input": "2021-10-01T13:30:09.134352Z",
     "iopub.status.busy": "2021-10-01T13:30:09.131915Z",
     "iopub.status.idle": "2021-10-01T13:30:09.137597Z",
     "shell.execute_reply": "2021-10-01T13:30:09.138932Z"
    },
    "papermill": {
     "duration": 0.042198,
     "end_time": "2021-10-01T13:30:09.139348",
     "exception": false,
     "start_time": "2021-10-01T13:30:09.097150",
     "status": "completed"
    },
    "tags": []
   },
   "outputs": [],
   "source": [
    "df_pivot.columns = [\"stamp_1\", \"stamp_2\"]\n",
    "df_pivot_diff = df_pivot.diff(axis=1)"
   ]
  },
  {
   "cell_type": "code",
   "execution_count": 7,
   "id": "fifth-motion",
   "metadata": {
    "execution": {
     "iopub.execute_input": "2021-10-01T13:30:09.193970Z",
     "iopub.status.busy": "2021-10-01T13:30:09.191690Z",
     "iopub.status.idle": "2021-10-01T13:30:10.663310Z",
     "shell.execute_reply": "2021-10-01T13:30:10.664721Z"
    },
    "papermill": {
     "duration": 1.505141,
     "end_time": "2021-10-01T13:30:10.665147",
     "exception": false,
     "start_time": "2021-10-01T13:30:09.160006",
     "status": "completed"
    },
    "tags": []
   },
   "outputs": [
    {
     "data": {
      "text/plain": [
       "<AxesSubplot:ylabel='PRODUCT'>"
      ]
     },
     "execution_count": 7,
     "metadata": {},
     "output_type": "execute_result"
    },
    {
     "data": {
      "image/png": "[encoded data removed]",
      "text/plain": [
       "<Figure size 432x288 with 1 Axes>"
      ]
     },
     "metadata": {
      "needs_background": "light"
     },
     "output_type": "display_data"
    }
   ],
   "source": [
    "df_pivot_diff.sort_values(\"stamp_2\", ascending = False)[\"stamp_2\"].head(10).plot.barh()"
   ]
  },
  {
   "cell_type": "code",
   "execution_count": null,
   "id": "extra-executive",
   "metadata": {
    "papermill": {
     "duration": 0.022255,
     "end_time": "2021-10-01T13:30:10.712105",
     "exception": false,
     "start_time": "2021-10-01T13:30:10.689850",
     "status": "completed"
    },
    "tags": []
   },
   "outputs": [],
   "source": []
  }
 ],
 "metadata": {
  "kernelspec": {
   "display_name": "Python 3",
   "language": "python",
   "name": "python3"
  },
  "language_info": {
   "codemirror_mode": {
    "name": "ipython",
    "version": 3
   },
   "file_extension": ".py",
   "mimetype": "text/x-python",
   "name": "python",
   "nbconvert_exporter": "python",
   "pygments_lexer": "ipython3",
   "version": "3.9.5"
  },
  "papermill": {
   "default_parameters": {},
   "duration": 7.828933,
   "end_time": "2021-10-01T13:30:12.294967",
   "environment_variables": {},
   "exception": null,
   "input_path": "eBay_Overview.ipynb",
   "output_path": "eBay_Overview.ipynb",
   "parameters": {},
   "start_time": "2021-10-01T13:30:04.466034",
   "version": "2.3.3"
  }
 },
 "nbformat": 4,
 "nbformat_minor": 5
}