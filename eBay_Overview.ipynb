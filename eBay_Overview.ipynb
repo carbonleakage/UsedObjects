{
 "cells": [
  {
   "cell_type": "code",
   "execution_count": 1,
   "id": "reverse-picking",
   "metadata": {
    "execution": {
     "iopub.execute_input": "2021-10-30T00:00:07.695150Z",
     "iopub.status.busy": "2021-10-30T00:00:07.693240Z",
     "iopub.status.idle": "2021-10-30T00:00:08.496110Z",
     "shell.execute_reply": "2021-10-30T00:00:08.497631Z"
    },
    "papermill": {
     "duration": 0.856816,
     "end_time": "2021-10-30T00:00:08.498325",
     "exception": false,
     "start_time": "2021-10-30T00:00:07.641509",
     "status": "completed"
    },
    "tags": []
   },
   "outputs": [],
   "source": [
    "import pandas as pd\n",
    "import sqlite3"
   ]
  },
  {
   "cell_type": "code",
   "execution_count": 2,
   "id": "innovative-syndrome",
   "metadata": {
    "execution": {
     "iopub.execute_input": "2021-10-30T00:00:08.549632Z",
     "iopub.status.busy": "2021-10-30T00:00:08.547453Z",
     "iopub.status.idle": "2021-10-30T00:00:09.222405Z",
     "shell.execute_reply": "2021-10-30T00:00:09.223675Z"
    },
    "papermill": {
     "duration": 0.704813,
     "end_time": "2021-10-30T00:00:09.224087",
     "exception": false,
     "start_time": "2021-10-30T00:00:08.519274",
     "status": "completed"
    },
    "tags": []
   },
   "outputs": [],
   "source": [
    "timestamps = pd.read_sql(\"select distinct record_time from EBAY_TOP_BERLIN order by record_time desc limit 2\", sqlite3.connect(\"UsedObjects.db\"))"
   ]
  },
  {
   "cell_type": "code",
   "execution_count": 3,
   "id": "periodic-identification",
   "metadata": {
    "execution": {
     "iopub.execute_input": "2021-10-30T00:00:09.366211Z",
     "iopub.status.busy": "2021-10-30T00:00:09.361426Z",
     "iopub.status.idle": "2021-10-30T00:00:09.383353Z",
     "shell.execute_reply": "2021-10-30T00:00:09.384629Z"
    },
    "papermill": {
     "duration": 0.075082,
     "end_time": "2021-10-30T00:00:09.385108",
     "exception": false,
     "start_time": "2021-10-30T00:00:09.310026",
     "status": "completed"
    },
    "tags": []
   },
   "outputs": [
    {
     "data": {
      "text/html": [
       "<div>\n",
       "<style scoped>\n",
       "    .dataframe tbody tr th:only-of-type {\n",
       "        vertical-align: middle;\n",
       "    }\n",
       "\n",
       "    .dataframe tbody tr th {\n",
       "        vertical-align: top;\n",
       "    }\n",
       "\n",
       "    .dataframe thead th {\n",
       "        text-align: right;\n",
       "    }\n",
       "</style>\n",
       "<table border=\"1\" class=\"dataframe\">\n",
       "  <thead>\n",
       "    <tr style=\"text-align: right;\">\n",
       "      <th></th>\n",
       "      <th>RECORD_TIME</th>\n",
       "    </tr>\n",
       "  </thead>\n",
       "  <tbody>\n",
       "    <tr>\n",
       "      <th>0</th>\n",
       "      <td>2021-10-30 02:00</td>\n",
       "    </tr>\n",
       "    <tr>\n",
       "      <th>1</th>\n",
       "      <td>2021-10-30 01:30</td>\n",
       "    </tr>\n",
       "  </tbody>\n",
       "</table>\n",
       "</div>"
      ],
      "text/plain": [
       "        RECORD_TIME\n",
       "0  2021-10-30 02:00\n",
       "1  2021-10-30 01:30"
      ]
     },
     "execution_count": 3,
     "metadata": {},
     "output_type": "execute_result"
    }
   ],
   "source": [
    "timestamps"
   ]
  },
  {
   "cell_type": "code",
   "execution_count": 4,
   "id": "alternate-victory",
   "metadata": {
    "execution": {
     "iopub.execute_input": "2021-10-30T00:00:09.436663Z",
     "iopub.status.busy": "2021-10-30T00:00:09.434825Z",
     "iopub.status.idle": "2021-10-30T00:00:10.450514Z",
     "shell.execute_reply": "2021-10-30T00:00:10.451726Z"
    },
    "papermill": {
     "duration": 1.045564,
     "end_time": "2021-10-30T00:00:10.452126",
     "exception": false,
     "start_time": "2021-10-30T00:00:09.406562",
     "status": "completed"
    },
    "tags": []
   },
   "outputs": [],
   "source": [
    "df = pd.read_sql(\"select * from EBAY_TOP_BERLIN where record_time in (select distinct record_time from EBAY_TOP_BERLIN order by record_time desc limit 2)\", sqlite3.connect(\"UsedObjects.db\"))"
   ]
  },
  {
   "cell_type": "code",
   "execution_count": 5,
   "id": "popular-active",
   "metadata": {
    "execution": {
     "iopub.execute_input": "2021-10-30T00:00:10.522499Z",
     "iopub.status.busy": "2021-10-30T00:00:10.510049Z",
     "iopub.status.idle": "2021-10-30T00:00:10.538121Z",
     "shell.execute_reply": "2021-10-30T00:00:10.539394Z"
    },
    "papermill": {
     "duration": 0.066877,
     "end_time": "2021-10-30T00:00:10.539802",
     "exception": false,
     "start_time": "2021-10-30T00:00:10.472925",
     "status": "completed"
    },
    "tags": []
   },
   "outputs": [],
   "source": [
    "df_pivot = df.pivot_table(index=\"PRODUCT\", columns = \"RECORD_TIME\", values = \"LISTING_COUNT\")"
   ]
  },
  {
   "cell_type": "code",
   "execution_count": 6,
   "id": "union-huntington",
   "metadata": {
    "execution": {
     "iopub.execute_input": "2021-10-30T00:00:10.595479Z",
     "iopub.status.busy": "2021-10-30T00:00:10.593434Z",
     "iopub.status.idle": "2021-10-30T00:00:10.598483Z",
     "shell.execute_reply": "2021-10-30T00:00:10.599672Z"
    },
    "papermill": {
     "duration": 0.039916,
     "end_time": "2021-10-30T00:00:10.600096",
     "exception": false,
     "start_time": "2021-10-30T00:00:10.560180",
     "status": "completed"
    },
    "tags": []
   },
   "outputs": [],
   "source": [
    "df_pivot.columns = [\"stamp_1\", \"stamp_2\"]\n",
    "df_pivot_diff = df_pivot.diff(axis=1)"
   ]
  },
  {
   "cell_type": "code",
   "execution_count": 7,
   "id": "fifth-motion",
   "metadata": {
    "execution": {
     "iopub.execute_input": "2021-10-30T00:00:10.654628Z",
     "iopub.status.busy": "2021-10-30T00:00:10.652066Z",
     "iopub.status.idle": "2021-10-30T00:00:12.138018Z",
     "shell.execute_reply": "2021-10-30T00:00:12.139299Z"
    },
    "papermill": {
     "duration": 1.519159,
     "end_time": "2021-10-30T00:00:12.139714",
     "exception": false,
     "start_time": "2021-10-30T00:00:10.620555",
     "status": "completed"
    },
    "tags": []
   },
   "outputs": [
    {
     "data": {
      "text/plain": [
       "<AxesSubplot:ylabel='PRODUCT'>"
      ]
     },
     "execution_count": 7,
     "metadata": {},
     "output_type": "execute_result"
    },
    {
     "data": {
      "image/png": "[encoded data removed]",
      "text/plain": [
       "<Figure size 432x288 with 1 Axes>"
      ]
     },
     "metadata": {
      "needs_background": "light"
     },
     "output_type": "display_data"
    }
   ],
   "source": [
    "df_pivot_diff.sort_values(\"stamp_2\", ascending = False)[\"stamp_2\"].head(10).plot.barh()"
   ]
  },
  {
   "cell_type": "code",
   "execution_count": null,
   "id": "extra-executive",
   "metadata": {
    "papermill": {
     "duration": 0.02224,
     "end_time": "2021-10-30T00:00:12.185545",
     "exception": false,
     "start_time": "2021-10-30T00:00:12.163305",
     "status": "completed"
    },
    "tags": []
   },
   "outputs": [],
   "source": []
  }
 ],
 "metadata": {
  "kernelspec": {
   "display_name": "Python 3",
   "language": "python",
   "name": "python3"
  },
  "language_info": {
   "codemirror_mode": {
    "name": "ipython",
    "version": 3
   },
   "file_extension": ".py",
   "mimetype": "text/x-python",
   "name": "python",
   "nbconvert_exporter": "python",
   "pygments_lexer": "ipython3",
   "version": "3.9.5"
  },
  "papermill": {
   "default_parameters": {},
   "duration": 7.585261,
   "end_time": "2021-10-30T00:00:12.827974",
   "environment_variables": {},
   "exception": null,
   "input_path": "eBay_Overview.ipynb",
   "output_path": "eBay_Overview.ipynb",
   "parameters": {},
   "start_time": "2021-10-30T00:00:05.242713",
   "version": "2.3.3"
  }
 },
 "nbformat": 4,
 "nbformat_minor": 5
}