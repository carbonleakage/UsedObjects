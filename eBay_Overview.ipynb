{
 "cells": [
  {
   "cell_type": "code",
   "execution_count": 1,
   "id": "reverse-picking",
   "metadata": {
    "execution": {
     "iopub.execute_input": "2021-09-12T16:30:08.169319Z",
     "iopub.status.busy": "2021-09-12T16:30:08.167337Z",
     "iopub.status.idle": "2021-09-12T16:30:09.032456Z",
     "shell.execute_reply": "2021-09-12T16:30:09.033734Z"
    },
    "papermill": {
     "duration": 0.917678,
     "end_time": "2021-09-12T16:30:09.034347",
     "exception": false,
     "start_time": "2021-09-12T16:30:08.116669",
     "status": "completed"
    },
    "tags": []
   },
   "outputs": [],
   "source": [
    "import pandas as pd\n",
    "import sqlite3"
   ]
  },
  {
   "cell_type": "code",
   "execution_count": 2,
   "id": "innovative-syndrome",
   "metadata": {
    "execution": {
     "iopub.execute_input": "2021-09-12T16:30:09.093584Z",
     "iopub.status.busy": "2021-09-12T16:30:09.091617Z",
     "iopub.status.idle": "2021-09-12T16:30:09.477159Z",
     "shell.execute_reply": "2021-09-12T16:30:09.478526Z"
    },
    "papermill": {
     "duration": 0.41879,
     "end_time": "2021-09-12T16:30:09.479022",
     "exception": false,
     "start_time": "2021-09-12T16:30:09.060232",
     "status": "completed"
    },
    "tags": []
   },
   "outputs": [],
   "source": [
    "timestamps = pd.read_sql(\"select distinct record_time from EBAY_TOP_BERLIN order by record_time desc limit 2\", sqlite3.connect(\"UsedObjects.db\"))"
   ]
  },
  {
   "cell_type": "code",
   "execution_count": 3,
   "id": "periodic-identification",
   "metadata": {
    "execution": {
     "iopub.execute_input": "2021-09-12T16:30:09.543890Z",
     "iopub.status.busy": "2021-09-12T16:30:09.541646Z",
     "iopub.status.idle": "2021-09-12T16:30:09.561696Z",
     "shell.execute_reply": "2021-09-12T16:30:09.562978Z"
    },
    "papermill": {
     "duration": 0.06424,
     "end_time": "2021-09-12T16:30:09.563380",
     "exception": false,
     "start_time": "2021-09-12T16:30:09.499140",
     "status": "completed"
    },
    "tags": []
   },
   "outputs": [
    {
     "data": {
      "text/html": [
       "<div>\n",
       "<style scoped>\n",
       "    .dataframe tbody tr th:only-of-type {\n",
       "        vertical-align: middle;\n",
       "    }\n",
       "\n",
       "    .dataframe tbody tr th {\n",
       "        vertical-align: top;\n",
       "    }\n",
       "\n",
       "    .dataframe thead th {\n",
       "        text-align: right;\n",
       "    }\n",
       "</style>\n",
       "<table border=\"1\" class=\"dataframe\">\n",
       "  <thead>\n",
       "    <tr style=\"text-align: right;\">\n",
       "      <th></th>\n",
       "      <th>RECORD_TIME</th>\n",
       "    </tr>\n",
       "  </thead>\n",
       "  <tbody>\n",
       "    <tr>\n",
       "      <th>0</th>\n",
       "      <td>2021-09-12 18:30</td>\n",
       "    </tr>\n",
       "    <tr>\n",
       "      <th>1</th>\n",
       "      <td>2021-09-12 18:00</td>\n",
       "    </tr>\n",
       "  </tbody>\n",
       "</table>\n",
       "</div>"
      ],
      "text/plain": [
       "        RECORD_TIME\n",
       "0  2021-09-12 18:30\n",
       "1  2021-09-12 18:00"
      ]
     },
     "execution_count": 3,
     "metadata": {},
     "output_type": "execute_result"
    }
   ],
   "source": [
    "timestamps"
   ]
  },
  {
   "cell_type": "code",
   "execution_count": 4,
   "id": "alternate-victory",
   "metadata": {
    "execution": {
     "iopub.execute_input": "2021-09-12T16:30:09.614770Z",
     "iopub.status.busy": "2021-09-12T16:30:09.612896Z",
     "iopub.status.idle": "2021-09-12T16:30:10.010401Z",
     "shell.execute_reply": "2021-09-12T16:30:10.011790Z"
    },
    "papermill": {
     "duration": 0.427671,
     "end_time": "2021-09-12T16:30:10.012218",
     "exception": false,
     "start_time": "2021-09-12T16:30:09.584547",
     "status": "completed"
    },
    "tags": []
   },
   "outputs": [],
   "source": [
    "df = pd.read_sql(\"select * from EBAY_TOP_BERLIN where record_time in (select distinct record_time from EBAY_TOP_BERLIN order by record_time desc limit 2)\", sqlite3.connect(\"UsedObjects.db\"))"
   ]
  },
  {
   "cell_type": "code",
   "execution_count": 5,
   "id": "popular-active",
   "metadata": {
    "execution": {
     "iopub.execute_input": "2021-09-12T16:30:10.084368Z",
     "iopub.status.busy": "2021-09-12T16:30:10.073074Z",
     "iopub.status.idle": "2021-09-12T16:30:10.101138Z",
     "shell.execute_reply": "2021-09-12T16:30:10.102612Z"
    },
    "papermill": {
     "duration": 0.069221,
     "end_time": "2021-09-12T16:30:10.103257",
     "exception": false,
     "start_time": "2021-09-12T16:30:10.034036",
     "status": "completed"
    },
    "tags": []
   },
   "outputs": [],
   "source": [
    "df_pivot = df.pivot_table(index=\"PRODUCT\", columns = \"RECORD_TIME\", values = \"LISTING_COUNT\")"
   ]
  },
  {
   "cell_type": "code",
   "execution_count": 6,
   "id": "union-huntington",
   "metadata": {
    "execution": {
     "iopub.execute_input": "2021-09-12T16:30:10.163114Z",
     "iopub.status.busy": "2021-09-12T16:30:10.160622Z",
     "iopub.status.idle": "2021-09-12T16:30:10.166462Z",
     "shell.execute_reply": "2021-09-12T16:30:10.167814Z"
    },
    "papermill": {
     "duration": 0.042577,
     "end_time": "2021-09-12T16:30:10.168234",
     "exception": false,
     "start_time": "2021-09-12T16:30:10.125657",
     "status": "completed"
    },
    "tags": []
   },
   "outputs": [],
   "source": [
    "df_pivot.columns = [\"stamp_1\", \"stamp_2\"]\n",
    "df_pivot_diff = df_pivot.diff(axis=1)"
   ]
  },
  {
   "cell_type": "code",
   "execution_count": 7,
   "id": "fifth-motion",
   "metadata": {
    "execution": {
     "iopub.execute_input": "2021-09-12T16:30:10.222169Z",
     "iopub.status.busy": "2021-09-12T16:30:10.219978Z",
     "iopub.status.idle": "2021-09-12T16:30:11.737830Z",
     "shell.execute_reply": "2021-09-12T16:30:11.739660Z"
    },
    "papermill": {
     "duration": 1.551243,
     "end_time": "2021-09-12T16:30:11.740300",
     "exception": false,
     "start_time": "2021-09-12T16:30:10.189057",
     "status": "completed"
    },
    "tags": []
   },
   "outputs": [
    {
     "data": {
      "text/plain": [
       "<AxesSubplot:ylabel='PRODUCT'>"
      ]
     },
     "execution_count": 7,
     "metadata": {},
     "output_type": "execute_result"
    },
    {
     "data": {
      "image/png": "[encoded data removed]",
      "text/plain": [
       "<Figure size 432x288 with 1 Axes>"
      ]
     },
     "metadata": {
      "needs_background": "light"
     },
     "output_type": "display_data"
    }
   ],
   "source": [
    "df_pivot_diff.sort_values(\"stamp_2\", ascending = False)[\"stamp_2\"].head(10).plot.barh()"
   ]
  },
  {
   "cell_type": "code",
   "execution_count": null,
   "id": "extra-executive",
   "metadata": {
    "papermill": {
     "duration": 0.029151,
     "end_time": "2021-09-12T16:30:11.796266",
     "exception": false,
     "start_time": "2021-09-12T16:30:11.767115",
     "status": "completed"
    },
    "tags": []
   },
   "outputs": [],
   "source": []
  }
 ],
 "metadata": {
  "kernelspec": {
   "display_name": "Python 3",
   "language": "python",
   "name": "python3"
  },
  "language_info": {
   "codemirror_mode": {
    "name": "ipython",
    "version": 3
   },
   "file_extension": ".py",
   "mimetype": "text/x-python",
   "name": "python",
   "nbconvert_exporter": "python",
   "pygments_lexer": "ipython3",
   "version": "3.9.5"
  },
  "papermill": {
   "default_parameters": {},
   "duration": 6.998161,
   "end_time": "2021-09-12T16:30:12.444121",
   "environment_variables": {},
   "exception": null,
   "input_path": "eBay_Overview.ipynb",
   "output_path": "eBay_Overview.ipynb",
   "parameters": {},
   "start_time": "2021-09-12T16:30:05.445960",
   "version": "2.3.3"
  }
 },
 "nbformat": 4,
 "nbformat_minor": 5
}