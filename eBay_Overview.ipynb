{
 "cells": [
  {
   "cell_type": "code",
   "execution_count": 1,
   "id": "reverse-picking",
   "metadata": {
    "execution": {
     "iopub.execute_input": "2021-12-21T02:00:07.925020Z",
     "iopub.status.busy": "2021-12-21T02:00:07.922600Z",
     "iopub.status.idle": "2021-12-21T02:00:08.861395Z",
     "shell.execute_reply": "2021-12-21T02:00:08.862977Z"
    },
    "papermill": {
     "duration": 0.988852,
     "end_time": "2021-12-21T02:00:08.863786",
     "exception": false,
     "start_time": "2021-12-21T02:00:07.874934",
     "status": "completed"
    },
    "tags": []
   },
   "outputs": [],
   "source": [
    "import pandas as pd\n",
    "import sqlite3"
   ]
  },
  {
   "cell_type": "code",
   "execution_count": 2,
   "id": "innovative-syndrome",
   "metadata": {
    "execution": {
     "iopub.execute_input": "2021-12-21T02:00:08.930922Z",
     "iopub.status.busy": "2021-12-21T02:00:08.928399Z",
     "iopub.status.idle": "2021-12-21T02:00:10.084499Z",
     "shell.execute_reply": "2021-12-21T02:00:10.086175Z"
    },
    "papermill": {
     "duration": 1.189411,
     "end_time": "2021-12-21T02:00:10.086678",
     "exception": false,
     "start_time": "2021-12-21T02:00:08.897267",
     "status": "completed"
    },
    "tags": []
   },
   "outputs": [],
   "source": [
    "timestamps = pd.read_sql(\"select distinct record_time from EBAY_TOP_BERLIN order by record_time desc limit 2\", sqlite3.connect(\"UsedObjects.db\"))"
   ]
  },
  {
   "cell_type": "code",
   "execution_count": 3,
   "id": "periodic-identification",
   "metadata": {
    "execution": {
     "iopub.execute_input": "2021-12-21T02:00:10.155372Z",
     "iopub.status.busy": "2021-12-21T02:00:10.153352Z",
     "iopub.status.idle": "2021-12-21T02:00:10.173366Z",
     "shell.execute_reply": "2021-12-21T02:00:10.174585Z"
    },
    "papermill": {
     "duration": 0.067029,
     "end_time": "2021-12-21T02:00:10.175027",
     "exception": false,
     "start_time": "2021-12-21T02:00:10.107998",
     "status": "completed"
    },
    "tags": []
   },
   "outputs": [
    {
     "data": {
      "text/html": [
       "<div>\n",
       "<style scoped>\n",
       "    .dataframe tbody tr th:only-of-type {\n",
       "        vertical-align: middle;\n",
       "    }\n",
       "\n",
       "    .dataframe tbody tr th {\n",
       "        vertical-align: top;\n",
       "    }\n",
       "\n",
       "    .dataframe thead th {\n",
       "        text-align: right;\n",
       "    }\n",
       "</style>\n",
       "<table border=\"1\" class=\"dataframe\">\n",
       "  <thead>\n",
       "    <tr style=\"text-align: right;\">\n",
       "      <th></th>\n",
       "      <th>RECORD_TIME</th>\n",
       "    </tr>\n",
       "  </thead>\n",
       "  <tbody>\n",
       "    <tr>\n",
       "      <th>0</th>\n",
       "      <td>2021-12-21 03:00</td>\n",
       "    </tr>\n",
       "    <tr>\n",
       "      <th>1</th>\n",
       "      <td>2021-12-21 02:30</td>\n",
       "    </tr>\n",
       "  </tbody>\n",
       "</table>\n",
       "</div>"
      ],
      "text/plain": [
       "        RECORD_TIME\n",
       "0  2021-12-21 03:00\n",
       "1  2021-12-21 02:30"
      ]
     },
     "execution_count": 3,
     "metadata": {},
     "output_type": "execute_result"
    }
   ],
   "source": [
    "timestamps"
   ]
  },
  {
   "cell_type": "code",
   "execution_count": 4,
   "id": "alternate-victory",
   "metadata": {
    "execution": {
     "iopub.execute_input": "2021-12-21T02:00:10.225665Z",
     "iopub.status.busy": "2021-12-21T02:00:10.223718Z",
     "iopub.status.idle": "2021-12-21T02:00:11.888128Z",
     "shell.execute_reply": "2021-12-21T02:00:11.889600Z"
    },
    "papermill": {
     "duration": 1.694754,
     "end_time": "2021-12-21T02:00:11.890102",
     "exception": false,
     "start_time": "2021-12-21T02:00:10.195348",
     "status": "completed"
    },
    "tags": []
   },
   "outputs": [],
   "source": [
    "df = pd.read_sql(\"select * from EBAY_TOP_BERLIN where record_time in (select distinct record_time from EBAY_TOP_BERLIN order by record_time desc limit 2)\", sqlite3.connect(\"UsedObjects.db\"))"
   ]
  },
  {
   "cell_type": "code",
   "execution_count": 5,
   "id": "popular-active",
   "metadata": {
    "execution": {
     "iopub.execute_input": "2021-12-21T02:00:11.967997Z",
     "iopub.status.busy": "2021-12-21T02:00:11.954057Z",
     "iopub.status.idle": "2021-12-21T02:00:11.987126Z",
     "shell.execute_reply": "2021-12-21T02:00:11.985568Z"
    },
    "papermill": {
     "duration": 0.07533,
     "end_time": "2021-12-21T02:00:11.987529",
     "exception": false,
     "start_time": "2021-12-21T02:00:11.912199",
     "status": "completed"
    },
    "tags": []
   },
   "outputs": [],
   "source": [
    "df_pivot = df.pivot_table(index=\"PRODUCT\", columns = \"RECORD_TIME\", values = \"LISTING_COUNT\")"
   ]
  },
  {
   "cell_type": "code",
   "execution_count": 6,
   "id": "union-huntington",
   "metadata": {
    "execution": {
     "iopub.execute_input": "2021-12-21T02:00:12.045867Z",
     "iopub.status.busy": "2021-12-21T02:00:12.043646Z",
     "iopub.status.idle": "2021-12-21T02:00:12.050301Z",
     "shell.execute_reply": "2021-12-21T02:00:12.048418Z"
    },
    "papermill": {
     "duration": 0.043095,
     "end_time": "2021-12-21T02:00:12.050699",
     "exception": false,
     "start_time": "2021-12-21T02:00:12.007604",
     "status": "completed"
    },
    "tags": []
   },
   "outputs": [],
   "source": [
    "df_pivot.columns = [\"stamp_1\", \"stamp_2\"]\n",
    "df_pivot_diff = df_pivot.diff(axis=1)"
   ]
  },
  {
   "cell_type": "code",
   "execution_count": 7,
   "id": "fifth-motion",
   "metadata": {
    "execution": {
     "iopub.execute_input": "2021-12-21T02:00:12.111180Z",
     "iopub.status.busy": "2021-12-21T02:00:12.108755Z",
     "iopub.status.idle": "2021-12-21T02:00:14.130759Z",
     "shell.execute_reply": "2021-12-21T02:00:14.132054Z"
    },
    "papermill": {
     "duration": 2.059852,
     "end_time": "2021-12-21T02:00:14.132484",
     "exception": false,
     "start_time": "2021-12-21T02:00:12.072632",
     "status": "completed"
    },
    "tags": []
   },
   "outputs": [
    {
     "data": {
      "text/plain": [
       "<AxesSubplot:ylabel='PRODUCT'>"
      ]
     },
     "execution_count": 7,
     "metadata": {},
     "output_type": "execute_result"
    },
    {
     "data": {
      "image/png": "[encoded data removed]",
      "text/plain": [
       "<Figure size 432x288 with 1 Axes>"
      ]
     },
     "metadata": {
      "needs_background": "light"
     },
     "output_type": "display_data"
    }
   ],
   "source": [
    "df_pivot_diff.sort_values(\"stamp_2\", ascending = False)[\"stamp_2\"].head(10).plot.barh()"
   ]
  },
  {
   "cell_type": "code",
   "execution_count": null,
   "id": "extra-executive",
   "metadata": {
    "papermill": {
     "duration": 0.02206,
     "end_time": "2021-12-21T02:00:14.179136",
     "exception": false,
     "start_time": "2021-12-21T02:00:14.157076",
     "status": "completed"
    },
    "tags": []
   },
   "outputs": [],
   "source": []
  }
 ],
 "metadata": {
  "kernelspec": {
   "display_name": "Python 3",
   "language": "python",
   "name": "python3"
  },
  "language_info": {
   "codemirror_mode": {
    "name": "ipython",
    "version": 3
   },
   "file_extension": ".py",
   "mimetype": "text/x-python",
   "name": "python",
   "nbconvert_exporter": "python",
   "pygments_lexer": "ipython3",
   "version": "3.9.5"
  },
  "papermill": {
   "default_parameters": {},
   "duration": 9.678614,
   "end_time": "2021-12-21T02:00:14.822488",
   "environment_variables": {},
   "exception": null,
   "input_path": "eBay_Overview.ipynb",
   "output_path": "eBay_Overview.ipynb",
   "parameters": {},
   "start_time": "2021-12-21T02:00:05.143874",
   "version": "2.3.3"
  }
 },
 "nbformat": 4,
 "nbformat_minor": 5
}