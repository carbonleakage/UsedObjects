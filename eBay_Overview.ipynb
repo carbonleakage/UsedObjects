{
 "cells": [
  {
   "cell_type": "code",
   "execution_count": 1,
   "id": "reverse-picking",
   "metadata": {
    "execution": {
     "iopub.execute_input": "2021-12-11T13:30:07.476183Z",
     "iopub.status.busy": "2021-12-11T13:30:07.474271Z",
     "iopub.status.idle": "2021-12-11T13:30:08.433327Z",
     "shell.execute_reply": "2021-12-11T13:30:08.434859Z"
    },
    "papermill": {
     "duration": 1.008019,
     "end_time": "2021-12-11T13:30:08.435596",
     "exception": false,
     "start_time": "2021-12-11T13:30:07.427577",
     "status": "completed"
    },
    "tags": []
   },
   "outputs": [],
   "source": [
    "import pandas as pd\n",
    "import sqlite3"
   ]
  },
  {
   "cell_type": "code",
   "execution_count": 2,
   "id": "innovative-syndrome",
   "metadata": {
    "execution": {
     "iopub.execute_input": "2021-12-11T13:30:08.505006Z",
     "iopub.status.busy": "2021-12-11T13:30:08.502540Z",
     "iopub.status.idle": "2021-12-11T13:30:09.545094Z",
     "shell.execute_reply": "2021-12-11T13:30:09.546489Z"
    },
    "papermill": {
     "duration": 1.077368,
     "end_time": "2021-12-11T13:30:09.546952",
     "exception": false,
     "start_time": "2021-12-11T13:30:08.469584",
     "status": "completed"
    },
    "tags": []
   },
   "outputs": [],
   "source": [
    "timestamps = pd.read_sql(\"select distinct record_time from EBAY_TOP_BERLIN order by record_time desc limit 2\", sqlite3.connect(\"UsedObjects.db\"))"
   ]
  },
  {
   "cell_type": "code",
   "execution_count": 3,
   "id": "periodic-identification",
   "metadata": {
    "execution": {
     "iopub.execute_input": "2021-12-11T13:30:09.617658Z",
     "iopub.status.busy": "2021-12-11T13:30:09.615232Z",
     "iopub.status.idle": "2021-12-11T13:30:09.638385Z",
     "shell.execute_reply": "2021-12-11T13:30:09.639887Z"
    },
    "papermill": {
     "duration": 0.073384,
     "end_time": "2021-12-11T13:30:09.640388",
     "exception": false,
     "start_time": "2021-12-11T13:30:09.567004",
     "status": "completed"
    },
    "tags": []
   },
   "outputs": [
    {
     "data": {
      "text/html": [
       "<div>\n",
       "<style scoped>\n",
       "    .dataframe tbody tr th:only-of-type {\n",
       "        vertical-align: middle;\n",
       "    }\n",
       "\n",
       "    .dataframe tbody tr th {\n",
       "        vertical-align: top;\n",
       "    }\n",
       "\n",
       "    .dataframe thead th {\n",
       "        text-align: right;\n",
       "    }\n",
       "</style>\n",
       "<table border=\"1\" class=\"dataframe\">\n",
       "  <thead>\n",
       "    <tr style=\"text-align: right;\">\n",
       "      <th></th>\n",
       "      <th>RECORD_TIME</th>\n",
       "    </tr>\n",
       "  </thead>\n",
       "  <tbody>\n",
       "    <tr>\n",
       "      <th>0</th>\n",
       "      <td>2021-12-11 14:30</td>\n",
       "    </tr>\n",
       "    <tr>\n",
       "      <th>1</th>\n",
       "      <td>2021-12-11 14:00</td>\n",
       "    </tr>\n",
       "  </tbody>\n",
       "</table>\n",
       "</div>"
      ],
      "text/plain": [
       "        RECORD_TIME\n",
       "0  2021-12-11 14:30\n",
       "1  2021-12-11 14:00"
      ]
     },
     "execution_count": 3,
     "metadata": {},
     "output_type": "execute_result"
    }
   ],
   "source": [
    "timestamps"
   ]
  },
  {
   "cell_type": "code",
   "execution_count": 4,
   "id": "alternate-victory",
   "metadata": {
    "execution": {
     "iopub.execute_input": "2021-12-11T13:30:09.697855Z",
     "iopub.status.busy": "2021-12-11T13:30:09.695581Z",
     "iopub.status.idle": "2021-12-11T13:30:11.261213Z",
     "shell.execute_reply": "2021-12-11T13:30:11.262517Z"
    },
    "papermill": {
     "duration": 1.600042,
     "end_time": "2021-12-11T13:30:11.262965",
     "exception": false,
     "start_time": "2021-12-11T13:30:09.662923",
     "status": "completed"
    },
    "tags": []
   },
   "outputs": [],
   "source": [
    "df = pd.read_sql(\"select * from EBAY_TOP_BERLIN where record_time in (select distinct record_time from EBAY_TOP_BERLIN order by record_time desc limit 2)\", sqlite3.connect(\"UsedObjects.db\"))"
   ]
  },
  {
   "cell_type": "code",
   "execution_count": 5,
   "id": "popular-active",
   "metadata": {
    "execution": {
     "iopub.execute_input": "2021-12-11T13:30:11.342799Z",
     "iopub.status.busy": "2021-12-11T13:30:11.326608Z",
     "iopub.status.idle": "2021-12-11T13:30:11.363617Z",
     "shell.execute_reply": "2021-12-11T13:30:11.362265Z"
    },
    "papermill": {
     "duration": 0.080156,
     "end_time": "2021-12-11T13:30:11.363993",
     "exception": false,
     "start_time": "2021-12-11T13:30:11.283837",
     "status": "completed"
    },
    "tags": []
   },
   "outputs": [],
   "source": [
    "df_pivot = df.pivot_table(index=\"PRODUCT\", columns = \"RECORD_TIME\", values = \"LISTING_COUNT\")"
   ]
  },
  {
   "cell_type": "code",
   "execution_count": 6,
   "id": "union-huntington",
   "metadata": {
    "execution": {
     "iopub.execute_input": "2021-12-11T13:30:11.427204Z",
     "iopub.status.busy": "2021-12-11T13:30:11.424735Z",
     "iopub.status.idle": "2021-12-11T13:30:11.431108Z",
     "shell.execute_reply": "2021-12-11T13:30:11.432604Z"
    },
    "papermill": {
     "duration": 0.046935,
     "end_time": "2021-12-11T13:30:11.433170",
     "exception": false,
     "start_time": "2021-12-11T13:30:11.386235",
     "status": "completed"
    },
    "tags": []
   },
   "outputs": [],
   "source": [
    "df_pivot.columns = [\"stamp_1\", \"stamp_2\"]\n",
    "df_pivot_diff = df_pivot.diff(axis=1)"
   ]
  },
  {
   "cell_type": "code",
   "execution_count": 7,
   "id": "fifth-motion",
   "metadata": {
    "execution": {
     "iopub.execute_input": "2021-12-11T13:30:11.491423Z",
     "iopub.status.busy": "2021-12-11T13:30:11.488981Z",
     "iopub.status.idle": "2021-12-11T13:30:13.393418Z",
     "shell.execute_reply": "2021-12-11T13:30:13.394796Z"
    },
    "papermill": {
     "duration": 1.940419,
     "end_time": "2021-12-11T13:30:13.395266",
     "exception": false,
     "start_time": "2021-12-11T13:30:11.454847",
     "status": "completed"
    },
    "tags": []
   },
   "outputs": [
    {
     "data": {
      "text/plain": [
       "<AxesSubplot:ylabel='PRODUCT'>"
      ]
     },
     "execution_count": 7,
     "metadata": {},
     "output_type": "execute_result"
    },
    {
     "data": {
      "image/png": "[encoded data removed]",
      "text/plain": [
       "<Figure size 432x288 with 1 Axes>"
      ]
     },
     "metadata": {
      "needs_background": "light"
     },
     "output_type": "display_data"
    }
   ],
   "source": [
    "df_pivot_diff.sort_values(\"stamp_2\", ascending = False)[\"stamp_2\"].head(10).plot.barh()"
   ]
  },
  {
   "cell_type": "code",
   "execution_count": null,
   "id": "extra-executive",
   "metadata": {
    "papermill": {
     "duration": 0.038575,
     "end_time": "2021-12-11T13:30:13.460385",
     "exception": false,
     "start_time": "2021-12-11T13:30:13.421810",
     "status": "completed"
    },
    "tags": []
   },
   "outputs": [],
   "source": []
  }
 ],
 "metadata": {
  "kernelspec": {
   "display_name": "Python 3",
   "language": "python",
   "name": "python3"
  },
  "language_info": {
   "codemirror_mode": {
    "name": "ipython",
    "version": 3
   },
   "file_extension": ".py",
   "mimetype": "text/x-python",
   "name": "python",
   "nbconvert_exporter": "python",
   "pygments_lexer": "ipython3",
   "version": "3.9.5"
  },
  "papermill": {
   "default_parameters": {},
   "duration": 9.708731,
   "end_time": "2021-12-11T13:30:14.328990",
   "environment_variables": {},
   "exception": null,
   "input_path": "eBay_Overview.ipynb",
   "output_path": "eBay_Overview.ipynb",
   "parameters": {},
   "start_time": "2021-12-11T13:30:04.620259",
   "version": "2.3.3"
  }
 },
 "nbformat": 4,
 "nbformat_minor": 5
}