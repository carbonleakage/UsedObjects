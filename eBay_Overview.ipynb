{
 "cells": [
  {
   "cell_type": "code",
   "execution_count": 1,
   "id": "reverse-picking",
   "metadata": {
    "execution": {
     "iopub.execute_input": "2021-08-23T21:30:07.108048Z",
     "iopub.status.busy": "2021-08-23T21:30:07.106089Z",
     "iopub.status.idle": "2021-08-23T21:30:07.914960Z",
     "shell.execute_reply": "2021-08-23T21:30:07.916248Z"
    },
    "papermill": {
     "duration": 0.861651,
     "end_time": "2021-08-23T21:30:07.916856",
     "exception": false,
     "start_time": "2021-08-23T21:30:07.055205",
     "status": "completed"
    },
    "tags": []
   },
   "outputs": [],
   "source": [
    "import pandas as pd\n",
    "import sqlite3"
   ]
  },
  {
   "cell_type": "code",
   "execution_count": 2,
   "id": "innovative-syndrome",
   "metadata": {
    "execution": {
     "iopub.execute_input": "2021-08-23T21:30:07.970355Z",
     "iopub.status.busy": "2021-08-23T21:30:07.967994Z",
     "iopub.status.idle": "2021-08-23T21:30:08.083492Z",
     "shell.execute_reply": "2021-08-23T21:30:08.084682Z"
    },
    "papermill": {
     "duration": 0.145174,
     "end_time": "2021-08-23T21:30:08.085074",
     "exception": false,
     "start_time": "2021-08-23T21:30:07.939900",
     "status": "completed"
    },
    "tags": []
   },
   "outputs": [],
   "source": [
    "timestamps = pd.read_sql(\"select distinct record_time from EBAY_TOP_BERLIN order by record_time desc limit 2\", sqlite3.connect(\"UsedObjects.db\"))"
   ]
  },
  {
   "cell_type": "code",
   "execution_count": 3,
   "id": "periodic-identification",
   "metadata": {
    "execution": {
     "iopub.execute_input": "2021-08-23T21:30:08.152504Z",
     "iopub.status.busy": "2021-08-23T21:30:08.150477Z",
     "iopub.status.idle": "2021-08-23T21:30:08.170658Z",
     "shell.execute_reply": "2021-08-23T21:30:08.172105Z"
    },
    "papermill": {
     "duration": 0.066019,
     "end_time": "2021-08-23T21:30:08.172543",
     "exception": false,
     "start_time": "2021-08-23T21:30:08.106524",
     "status": "completed"
    },
    "tags": []
   },
   "outputs": [
    {
     "data": {
      "text/html": [
       "<div>\n",
       "<style scoped>\n",
       "    .dataframe tbody tr th:only-of-type {\n",
       "        vertical-align: middle;\n",
       "    }\n",
       "\n",
       "    .dataframe tbody tr th {\n",
       "        vertical-align: top;\n",
       "    }\n",
       "\n",
       "    .dataframe thead th {\n",
       "        text-align: right;\n",
       "    }\n",
       "</style>\n",
       "<table border=\"1\" class=\"dataframe\">\n",
       "  <thead>\n",
       "    <tr style=\"text-align: right;\">\n",
       "      <th></th>\n",
       "      <th>RECORD_TIME</th>\n",
       "    </tr>\n",
       "  </thead>\n",
       "  <tbody>\n",
       "    <tr>\n",
       "      <th>0</th>\n",
       "      <td>2021-08-23 23:30</td>\n",
       "    </tr>\n",
       "    <tr>\n",
       "      <th>1</th>\n",
       "      <td>2021-08-23 23:00</td>\n",
       "    </tr>\n",
       "  </tbody>\n",
       "</table>\n",
       "</div>"
      ],
      "text/plain": [
       "        RECORD_TIME\n",
       "0  2021-08-23 23:30\n",
       "1  2021-08-23 23:00"
      ]
     },
     "execution_count": 3,
     "metadata": {},
     "output_type": "execute_result"
    }
   ],
   "source": [
    "timestamps"
   ]
  },
  {
   "cell_type": "code",
   "execution_count": 4,
   "id": "alternate-victory",
   "metadata": {
    "execution": {
     "iopub.execute_input": "2021-08-23T21:30:08.223500Z",
     "iopub.status.busy": "2021-08-23T21:30:08.221547Z",
     "iopub.status.idle": "2021-08-23T21:30:08.395907Z",
     "shell.execute_reply": "2021-08-23T21:30:08.397101Z"
    },
    "papermill": {
     "duration": 0.204077,
     "end_time": "2021-08-23T21:30:08.397487",
     "exception": false,
     "start_time": "2021-08-23T21:30:08.193410",
     "status": "completed"
    },
    "tags": []
   },
   "outputs": [],
   "source": [
    "df = pd.read_sql(\"select * from EBAY_TOP_BERLIN where record_time in (select distinct record_time from EBAY_TOP_BERLIN order by record_time desc limit 2)\", sqlite3.connect(\"UsedObjects.db\"))"
   ]
  },
  {
   "cell_type": "code",
   "execution_count": 5,
   "id": "popular-active",
   "metadata": {
    "execution": {
     "iopub.execute_input": "2021-08-23T21:30:08.463982Z",
     "iopub.status.busy": "2021-08-23T21:30:08.456048Z",
     "iopub.status.idle": "2021-08-23T21:30:08.483994Z",
     "shell.execute_reply": "2021-08-23T21:30:08.485208Z"
    },
    "papermill": {
     "duration": 0.066315,
     "end_time": "2021-08-23T21:30:08.485599",
     "exception": false,
     "start_time": "2021-08-23T21:30:08.419284",
     "status": "completed"
    },
    "tags": []
   },
   "outputs": [],
   "source": [
    "df_pivot = df.pivot_table(index=\"PRODUCT\", columns = \"RECORD_TIME\", values = \"LISTING_COUNT\")"
   ]
  },
  {
   "cell_type": "code",
   "execution_count": 6,
   "id": "union-huntington",
   "metadata": {
    "execution": {
     "iopub.execute_input": "2021-08-23T21:30:08.567839Z",
     "iopub.status.busy": "2021-08-23T21:30:08.565377Z",
     "iopub.status.idle": "2021-08-23T21:30:08.571776Z",
     "shell.execute_reply": "2021-08-23T21:30:08.573348Z"
    },
    "papermill": {
     "duration": 0.049429,
     "end_time": "2021-08-23T21:30:08.573834",
     "exception": false,
     "start_time": "2021-08-23T21:30:08.524405",
     "status": "completed"
    },
    "tags": []
   },
   "outputs": [],
   "source": [
    "df_pivot.columns = [\"stamp_1\", \"stamp_2\"]\n",
    "df_pivot_diff = df_pivot.diff(axis=1)"
   ]
  },
  {
   "cell_type": "code",
   "execution_count": 7,
   "id": "fifth-motion",
   "metadata": {
    "execution": {
     "iopub.execute_input": "2021-08-23T21:30:08.628195Z",
     "iopub.status.busy": "2021-08-23T21:30:08.625734Z",
     "iopub.status.idle": "2021-08-23T21:30:10.130499Z",
     "shell.execute_reply": "2021-08-23T21:30:10.132198Z"
    },
    "papermill": {
     "duration": 1.537704,
     "end_time": "2021-08-23T21:30:10.132694",
     "exception": false,
     "start_time": "2021-08-23T21:30:08.594990",
     "status": "completed"
    },
    "tags": []
   },
   "outputs": [
    {
     "data": {
      "text/plain": [
       "<AxesSubplot:ylabel='PRODUCT'>"
      ]
     },
     "execution_count": 7,
     "metadata": {},
     "output_type": "execute_result"
    },
    {
     "data": {
      "image/png": "[encoded data removed]",
      "text/plain": [
       "<Figure size 432x288 with 1 Axes>"
      ]
     },
     "metadata": {
      "needs_background": "light"
     },
     "output_type": "display_data"
    }
   ],
   "source": [
    "df_pivot_diff.sort_values(\"stamp_2\", ascending = False)[\"stamp_2\"].head(10).plot.barh()"
   ]
  },
  {
   "cell_type": "code",
   "execution_count": null,
   "id": "extra-executive",
   "metadata": {
    "papermill": {
     "duration": 0.021801,
     "end_time": "2021-08-23T21:30:10.178490",
     "exception": false,
     "start_time": "2021-08-23T21:30:10.156689",
     "status": "completed"
    },
    "tags": []
   },
   "outputs": [],
   "source": []
  }
 ],
 "metadata": {
  "kernelspec": {
   "display_name": "Python 3",
   "language": "python",
   "name": "python3"
  },
  "language_info": {
   "codemirror_mode": {
    "name": "ipython",
    "version": 3
   },
   "file_extension": ".py",
   "mimetype": "text/x-python",
   "name": "python",
   "nbconvert_exporter": "python",
   "pygments_lexer": "ipython3",
   "version": "3.9.5"
  },
  "papermill": {
   "default_parameters": {},
   "duration": 6.829482,
   "end_time": "2021-08-23T21:30:11.461136",
   "environment_variables": {},
   "exception": null,
   "input_path": "eBay_Overview.ipynb",
   "output_path": "eBay_Overview.ipynb",
   "parameters": {},
   "start_time": "2021-08-23T21:30:04.631654",
   "version": "2.3.3"
  }
 },
 "nbformat": 4,
 "nbformat_minor": 5
}