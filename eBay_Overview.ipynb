{
 "cells": [
  {
   "cell_type": "code",
   "execution_count": 1,
   "id": "reverse-picking",
   "metadata": {
    "execution": {
     "iopub.execute_input": "2021-11-03T20:30:07.921289Z",
     "iopub.status.busy": "2021-11-03T20:30:07.918742Z",
     "iopub.status.idle": "2021-11-03T20:30:08.888117Z",
     "shell.execute_reply": "2021-11-03T20:30:08.889725Z"
    },
    "papermill": {
     "duration": 1.019283,
     "end_time": "2021-11-03T20:30:08.890617",
     "exception": false,
     "start_time": "2021-11-03T20:30:07.871334",
     "status": "completed"
    },
    "tags": []
   },
   "outputs": [],
   "source": [
    "import pandas as pd\n",
    "import sqlite3"
   ]
  },
  {
   "cell_type": "code",
   "execution_count": 2,
   "id": "innovative-syndrome",
   "metadata": {
    "execution": {
     "iopub.execute_input": "2021-11-03T20:30:08.965276Z",
     "iopub.status.busy": "2021-11-03T20:30:08.962927Z",
     "iopub.status.idle": "2021-11-03T20:30:09.687303Z",
     "shell.execute_reply": "2021-11-03T20:30:09.689445Z"
    },
    "papermill": {
     "duration": 0.759414,
     "end_time": "2021-11-03T20:30:09.689910",
     "exception": false,
     "start_time": "2021-11-03T20:30:08.930496",
     "status": "completed"
    },
    "tags": []
   },
   "outputs": [],
   "source": [
    "timestamps = pd.read_sql(\"select distinct record_time from EBAY_TOP_BERLIN order by record_time desc limit 2\", sqlite3.connect(\"UsedObjects.db\"))"
   ]
  },
  {
   "cell_type": "code",
   "execution_count": 3,
   "id": "periodic-identification",
   "metadata": {
    "execution": {
     "iopub.execute_input": "2021-11-03T20:30:09.759263Z",
     "iopub.status.busy": "2021-11-03T20:30:09.739159Z",
     "iopub.status.idle": "2021-11-03T20:30:09.778749Z",
     "shell.execute_reply": "2021-11-03T20:30:09.780334Z"
    },
    "papermill": {
     "duration": 0.0714,
     "end_time": "2021-11-03T20:30:09.780876",
     "exception": false,
     "start_time": "2021-11-03T20:30:09.709476",
     "status": "completed"
    },
    "tags": []
   },
   "outputs": [
    {
     "data": {
      "text/html": [
       "<div>\n",
       "<style scoped>\n",
       "    .dataframe tbody tr th:only-of-type {\n",
       "        vertical-align: middle;\n",
       "    }\n",
       "\n",
       "    .dataframe tbody tr th {\n",
       "        vertical-align: top;\n",
       "    }\n",
       "\n",
       "    .dataframe thead th {\n",
       "        text-align: right;\n",
       "    }\n",
       "</style>\n",
       "<table border=\"1\" class=\"dataframe\">\n",
       "  <thead>\n",
       "    <tr style=\"text-align: right;\">\n",
       "      <th></th>\n",
       "      <th>RECORD_TIME</th>\n",
       "    </tr>\n",
       "  </thead>\n",
       "  <tbody>\n",
       "    <tr>\n",
       "      <th>0</th>\n",
       "      <td>2021-11-03 21:30</td>\n",
       "    </tr>\n",
       "    <tr>\n",
       "      <th>1</th>\n",
       "      <td>2021-11-03 21:00</td>\n",
       "    </tr>\n",
       "  </tbody>\n",
       "</table>\n",
       "</div>"
      ],
      "text/plain": [
       "        RECORD_TIME\n",
       "0  2021-11-03 21:30\n",
       "1  2021-11-03 21:00"
      ]
     },
     "execution_count": 3,
     "metadata": {},
     "output_type": "execute_result"
    }
   ],
   "source": [
    "timestamps"
   ]
  },
  {
   "cell_type": "code",
   "execution_count": 4,
   "id": "alternate-victory",
   "metadata": {
    "execution": {
     "iopub.execute_input": "2021-11-03T20:30:09.832592Z",
     "iopub.status.busy": "2021-11-03T20:30:09.830648Z",
     "iopub.status.idle": "2021-11-03T20:30:10.881557Z",
     "shell.execute_reply": "2021-11-03T20:30:10.883170Z"
    },
    "papermill": {
     "duration": 1.08155,
     "end_time": "2021-11-03T20:30:10.883705",
     "exception": false,
     "start_time": "2021-11-03T20:30:09.802155",
     "status": "completed"
    },
    "tags": []
   },
   "outputs": [],
   "source": [
    "df = pd.read_sql(\"select * from EBAY_TOP_BERLIN where record_time in (select distinct record_time from EBAY_TOP_BERLIN order by record_time desc limit 2)\", sqlite3.connect(\"UsedObjects.db\"))"
   ]
  },
  {
   "cell_type": "code",
   "execution_count": 5,
   "id": "popular-active",
   "metadata": {
    "execution": {
     "iopub.execute_input": "2021-11-03T20:30:10.962148Z",
     "iopub.status.busy": "2021-11-03T20:30:10.953281Z",
     "iopub.status.idle": "2021-11-03T20:30:10.979773Z",
     "shell.execute_reply": "2021-11-03T20:30:10.981082Z"
    },
    "papermill": {
     "duration": 0.075825,
     "end_time": "2021-11-03T20:30:10.981534",
     "exception": false,
     "start_time": "2021-11-03T20:30:10.905709",
     "status": "completed"
    },
    "tags": []
   },
   "outputs": [],
   "source": [
    "df_pivot = df.pivot_table(index=\"PRODUCT\", columns = \"RECORD_TIME\", values = \"LISTING_COUNT\")"
   ]
  },
  {
   "cell_type": "code",
   "execution_count": 6,
   "id": "union-huntington",
   "metadata": {
    "execution": {
     "iopub.execute_input": "2021-11-03T20:30:11.040480Z",
     "iopub.status.busy": "2021-11-03T20:30:11.038115Z",
     "iopub.status.idle": "2021-11-03T20:30:11.043953Z",
     "shell.execute_reply": "2021-11-03T20:30:11.045579Z"
    },
    "papermill": {
     "duration": 0.044692,
     "end_time": "2021-11-03T20:30:11.046090",
     "exception": false,
     "start_time": "2021-11-03T20:30:11.001398",
     "status": "completed"
    },
    "tags": []
   },
   "outputs": [],
   "source": [
    "df_pivot.columns = [\"stamp_1\", \"stamp_2\"]\n",
    "df_pivot_diff = df_pivot.diff(axis=1)"
   ]
  },
  {
   "cell_type": "code",
   "execution_count": 7,
   "id": "fifth-motion",
   "metadata": {
    "execution": {
     "iopub.execute_input": "2021-11-03T20:30:11.106963Z",
     "iopub.status.busy": "2021-11-03T20:30:11.104364Z",
     "iopub.status.idle": "2021-11-03T20:30:13.062133Z",
     "shell.execute_reply": "2021-11-03T20:30:13.065256Z"
    },
    "papermill": {
     "duration": 1.997033,
     "end_time": "2021-11-03T20:30:13.066094",
     "exception": false,
     "start_time": "2021-11-03T20:30:11.069061",
     "status": "completed"
    },
    "tags": []
   },
   "outputs": [
    {
     "data": {
      "text/plain": [
       "<AxesSubplot:ylabel='PRODUCT'>"
      ]
     },
     "execution_count": 7,
     "metadata": {},
     "output_type": "execute_result"
    },
    {
     "data": {
      "image/png": "[encoded data removed]",
      "text/plain": [
       "<Figure size 432x288 with 1 Axes>"
      ]
     },
     "metadata": {
      "needs_background": "light"
     },
     "output_type": "display_data"
    }
   ],
   "source": [
    "df_pivot_diff.sort_values(\"stamp_2\", ascending = False)[\"stamp_2\"].head(10).plot.barh()"
   ]
  },
  {
   "cell_type": "code",
   "execution_count": null,
   "id": "extra-executive",
   "metadata": {
    "papermill": {
     "duration": 0.029877,
     "end_time": "2021-11-03T20:30:13.132722",
     "exception": false,
     "start_time": "2021-11-03T20:30:13.102845",
     "status": "completed"
    },
    "tags": []
   },
   "outputs": [],
   "source": []
  }
 ],
 "metadata": {
  "kernelspec": {
   "display_name": "Python 3",
   "language": "python",
   "name": "python3"
  },
  "language_info": {
   "codemirror_mode": {
    "name": "ipython",
    "version": 3
   },
   "file_extension": ".py",
   "mimetype": "text/x-python",
   "name": "python",
   "nbconvert_exporter": "python",
   "pygments_lexer": "ipython3",
   "version": "3.9.5"
  },
  "papermill": {
   "default_parameters": {},
   "duration": 8.765452,
   "end_time": "2021-11-03T20:30:13.892938",
   "environment_variables": {},
   "exception": null,
   "input_path": "eBay_Overview.ipynb",
   "output_path": "eBay_Overview.ipynb",
   "parameters": {},
   "start_time": "2021-11-03T20:30:05.127486",
   "version": "2.3.3"
  }
 },
 "nbformat": 4,
 "nbformat_minor": 5
}