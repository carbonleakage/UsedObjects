{
 "cells": [
  {
   "cell_type": "code",
   "execution_count": 1,
   "id": "reverse-picking",
   "metadata": {
    "execution": {
     "iopub.execute_input": "2021-08-29T10:00:07.078163Z",
     "iopub.status.busy": "2021-08-29T10:00:07.076176Z",
     "iopub.status.idle": "2021-08-29T10:00:07.881727Z",
     "shell.execute_reply": "2021-08-29T10:00:07.882985Z"
    },
    "papermill": {
     "duration": 0.856093,
     "end_time": "2021-08-29T10:00:07.883610",
     "exception": false,
     "start_time": "2021-08-29T10:00:07.027517",
     "status": "completed"
    },
    "tags": []
   },
   "outputs": [],
   "source": [
    "import pandas as pd\n",
    "import sqlite3"
   ]
  },
  {
   "cell_type": "code",
   "execution_count": 2,
   "id": "innovative-syndrome",
   "metadata": {
    "execution": {
     "iopub.execute_input": "2021-08-29T10:00:07.937219Z",
     "iopub.status.busy": "2021-08-29T10:00:07.934788Z",
     "iopub.status.idle": "2021-08-29T10:00:08.092614Z",
     "shell.execute_reply": "2021-08-29T10:00:08.093921Z"
    },
    "papermill": {
     "duration": 0.188225,
     "end_time": "2021-08-29T10:00:08.094339",
     "exception": false,
     "start_time": "2021-08-29T10:00:07.906114",
     "status": "completed"
    },
    "tags": []
   },
   "outputs": [],
   "source": [
    "timestamps = pd.read_sql(\"select distinct record_time from EBAY_TOP_BERLIN order by record_time desc limit 2\", sqlite3.connect(\"UsedObjects.db\"))"
   ]
  },
  {
   "cell_type": "code",
   "execution_count": 3,
   "id": "periodic-identification",
   "metadata": {
    "execution": {
     "iopub.execute_input": "2021-08-29T10:00:08.159564Z",
     "iopub.status.busy": "2021-08-29T10:00:08.157531Z",
     "iopub.status.idle": "2021-08-29T10:00:08.177491Z",
     "shell.execute_reply": "2021-08-29T10:00:08.178718Z"
    },
    "papermill": {
     "duration": 0.063422,
     "end_time": "2021-08-29T10:00:08.179154",
     "exception": false,
     "start_time": "2021-08-29T10:00:08.115732",
     "status": "completed"
    },
    "tags": []
   },
   "outputs": [
    {
     "data": {
      "text/html": [
       "<div>\n",
       "<style scoped>\n",
       "    .dataframe tbody tr th:only-of-type {\n",
       "        vertical-align: middle;\n",
       "    }\n",
       "\n",
       "    .dataframe tbody tr th {\n",
       "        vertical-align: top;\n",
       "    }\n",
       "\n",
       "    .dataframe thead th {\n",
       "        text-align: right;\n",
       "    }\n",
       "</style>\n",
       "<table border=\"1\" class=\"dataframe\">\n",
       "  <thead>\n",
       "    <tr style=\"text-align: right;\">\n",
       "      <th></th>\n",
       "      <th>RECORD_TIME</th>\n",
       "    </tr>\n",
       "  </thead>\n",
       "  <tbody>\n",
       "    <tr>\n",
       "      <th>0</th>\n",
       "      <td>2021-08-29 12:00</td>\n",
       "    </tr>\n",
       "    <tr>\n",
       "      <th>1</th>\n",
       "      <td>2021-08-29 11:30</td>\n",
       "    </tr>\n",
       "  </tbody>\n",
       "</table>\n",
       "</div>"
      ],
      "text/plain": [
       "        RECORD_TIME\n",
       "0  2021-08-29 12:00\n",
       "1  2021-08-29 11:30"
      ]
     },
     "execution_count": 3,
     "metadata": {},
     "output_type": "execute_result"
    }
   ],
   "source": [
    "timestamps"
   ]
  },
  {
   "cell_type": "code",
   "execution_count": 4,
   "id": "alternate-victory",
   "metadata": {
    "execution": {
     "iopub.execute_input": "2021-08-29T10:00:08.231893Z",
     "iopub.status.busy": "2021-08-29T10:00:08.230043Z",
     "iopub.status.idle": "2021-08-29T10:00:08.460384Z",
     "shell.execute_reply": "2021-08-29T10:00:08.461951Z"
    },
    "papermill": {
     "duration": 0.260987,
     "end_time": "2021-08-29T10:00:08.462408",
     "exception": false,
     "start_time": "2021-08-29T10:00:08.201421",
     "status": "completed"
    },
    "tags": []
   },
   "outputs": [],
   "source": [
    "df = pd.read_sql(\"select * from EBAY_TOP_BERLIN where record_time in (select distinct record_time from EBAY_TOP_BERLIN order by record_time desc limit 2)\", sqlite3.connect(\"UsedObjects.db\"))"
   ]
  },
  {
   "cell_type": "code",
   "execution_count": 5,
   "id": "popular-active",
   "metadata": {
    "execution": {
     "iopub.execute_input": "2021-08-29T10:00:08.529210Z",
     "iopub.status.busy": "2021-08-29T10:00:08.521976Z",
     "iopub.status.idle": "2021-08-29T10:00:08.549883Z",
     "shell.execute_reply": "2021-08-29T10:00:08.551118Z"
    },
    "papermill": {
     "duration": 0.067995,
     "end_time": "2021-08-29T10:00:08.551518",
     "exception": false,
     "start_time": "2021-08-29T10:00:08.483523",
     "status": "completed"
    },
    "tags": []
   },
   "outputs": [],
   "source": [
    "df_pivot = df.pivot_table(index=\"PRODUCT\", columns = \"RECORD_TIME\", values = \"LISTING_COUNT\")"
   ]
  },
  {
   "cell_type": "code",
   "execution_count": 6,
   "id": "union-huntington",
   "metadata": {
    "execution": {
     "iopub.execute_input": "2021-08-29T10:00:08.618676Z",
     "iopub.status.busy": "2021-08-29T10:00:08.616323Z",
     "iopub.status.idle": "2021-08-29T10:00:08.623443Z",
     "shell.execute_reply": "2021-08-29T10:00:08.621956Z"
    },
    "papermill": {
     "duration": 0.044677,
     "end_time": "2021-08-29T10:00:08.623819",
     "exception": false,
     "start_time": "2021-08-29T10:00:08.579142",
     "status": "completed"
    },
    "tags": []
   },
   "outputs": [],
   "source": [
    "df_pivot.columns = [\"stamp_1\", \"stamp_2\"]\n",
    "df_pivot_diff = df_pivot.diff(axis=1)"
   ]
  },
  {
   "cell_type": "code",
   "execution_count": 7,
   "id": "fifth-motion",
   "metadata": {
    "execution": {
     "iopub.execute_input": "2021-08-29T10:00:08.679095Z",
     "iopub.status.busy": "2021-08-29T10:00:08.676444Z",
     "iopub.status.idle": "2021-08-29T10:00:10.163950Z",
     "shell.execute_reply": "2021-08-29T10:00:10.165468Z"
    },
    "papermill": {
     "duration": 1.5215,
     "end_time": "2021-08-29T10:00:10.165926",
     "exception": false,
     "start_time": "2021-08-29T10:00:08.644426",
     "status": "completed"
    },
    "tags": []
   },
   "outputs": [
    {
     "data": {
      "text/plain": [
       "<AxesSubplot:ylabel='PRODUCT'>"
      ]
     },
     "execution_count": 7,
     "metadata": {},
     "output_type": "execute_result"
    },
    {
     "data": {
      "image/png": "[encoded data removed]",
      "text/plain": [
       "<Figure size 432x288 with 1 Axes>"
      ]
     },
     "metadata": {
      "needs_background": "light"
     },
     "output_type": "display_data"
    }
   ],
   "source": [
    "df_pivot_diff.sort_values(\"stamp_2\", ascending = False)[\"stamp_2\"].head(10).plot.barh()"
   ]
  },
  {
   "cell_type": "code",
   "execution_count": null,
   "id": "extra-executive",
   "metadata": {
    "papermill": {
     "duration": 0.022323,
     "end_time": "2021-08-29T10:00:10.212181",
     "exception": false,
     "start_time": "2021-08-29T10:00:10.189858",
     "status": "completed"
    },
    "tags": []
   },
   "outputs": [],
   "source": []
  }
 ],
 "metadata": {
  "kernelspec": {
   "display_name": "Python 3",
   "language": "python",
   "name": "python3"
  },
  "language_info": {
   "codemirror_mode": {
    "name": "ipython",
    "version": 3
   },
   "file_extension": ".py",
   "mimetype": "text/x-python",
   "name": "python",
   "nbconvert_exporter": "python",
   "pygments_lexer": "ipython3",
   "version": "3.9.5"
  },
  "papermill": {
   "default_parameters": {},
   "duration": 6.818714,
   "end_time": "2021-08-29T10:00:11.449659",
   "environment_variables": {},
   "exception": null,
   "input_path": "eBay_Overview.ipynb",
   "output_path": "eBay_Overview.ipynb",
   "parameters": {},
   "start_time": "2021-08-29T10:00:04.630945",
   "version": "2.3.3"
  }
 },
 "nbformat": 4,
 "nbformat_minor": 5
}