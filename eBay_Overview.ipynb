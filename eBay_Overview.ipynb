{
 "cells": [
  {
   "cell_type": "code",
   "execution_count": 1,
   "id": "reverse-picking",
   "metadata": {
    "execution": {
     "iopub.execute_input": "2021-08-12T15:30:03.610970Z",
     "iopub.status.busy": "2021-08-12T15:30:03.610205Z",
     "iopub.status.idle": "2021-08-12T15:30:04.211689Z",
     "shell.execute_reply": "2021-08-12T15:30:04.211018Z"
    },
    "papermill": {
     "duration": 0.620377,
     "end_time": "2021-08-12T15:30:04.211867",
     "exception": false,
     "start_time": "2021-08-12T15:30:03.591490",
     "status": "completed"
    },
    "tags": []
   },
   "outputs": [],
   "source": [
    "import pandas as pd\n",
    "import sqlite3"
   ]
  },
  {
   "cell_type": "code",
   "execution_count": 2,
   "id": "innovative-syndrome",
   "metadata": {
    "execution": {
     "iopub.execute_input": "2021-08-12T15:30:04.233303Z",
     "iopub.status.busy": "2021-08-12T15:30:04.232434Z",
     "iopub.status.idle": "2021-08-12T15:30:04.455857Z",
     "shell.execute_reply": "2021-08-12T15:30:04.455120Z"
    },
    "papermill": {
     "duration": 0.235748,
     "end_time": "2021-08-12T15:30:04.456011",
     "exception": false,
     "start_time": "2021-08-12T15:30:04.220263",
     "status": "completed"
    },
    "tags": []
   },
   "outputs": [],
   "source": [
    "timestamps = pd.read_sql(\"select distinct record_time from EBAY_TOP_BERLIN order by record_time desc limit 2\", sqlite3.connect(\"UsedObjects.db\"))"
   ]
  },
  {
   "cell_type": "code",
   "execution_count": 3,
   "id": "periodic-identification",
   "metadata": {
    "execution": {
     "iopub.execute_input": "2021-08-12T15:30:04.491922Z",
     "iopub.status.busy": "2021-08-12T15:30:04.491145Z",
     "iopub.status.idle": "2021-08-12T15:30:04.501739Z",
     "shell.execute_reply": "2021-08-12T15:30:04.502270Z"
    },
    "papermill": {
     "duration": 0.034431,
     "end_time": "2021-08-12T15:30:04.502451",
     "exception": false,
     "start_time": "2021-08-12T15:30:04.468020",
     "status": "completed"
    },
    "tags": []
   },
   "outputs": [
    {
     "data": {
      "text/html": [
       "<div>\n",
       "<style scoped>\n",
       "    .dataframe tbody tr th:only-of-type {\n",
       "        vertical-align: middle;\n",
       "    }\n",
       "\n",
       "    .dataframe tbody tr th {\n",
       "        vertical-align: top;\n",
       "    }\n",
       "\n",
       "    .dataframe thead th {\n",
       "        text-align: right;\n",
       "    }\n",
       "</style>\n",
       "<table border=\"1\" class=\"dataframe\">\n",
       "  <thead>\n",
       "    <tr style=\"text-align: right;\">\n",
       "      <th></th>\n",
       "      <th>RECORD_TIME</th>\n",
       "    </tr>\n",
       "  </thead>\n",
       "  <tbody>\n",
       "    <tr>\n",
       "      <th>0</th>\n",
       "      <td>2021-08-12 17:30</td>\n",
       "    </tr>\n",
       "    <tr>\n",
       "      <th>1</th>\n",
       "      <td>2021-08-12 17:00</td>\n",
       "    </tr>\n",
       "  </tbody>\n",
       "</table>\n",
       "</div>"
      ],
      "text/plain": [
       "        RECORD_TIME\n",
       "0  2021-08-12 17:30\n",
       "1  2021-08-12 17:00"
      ]
     },
     "execution_count": 3,
     "metadata": {},
     "output_type": "execute_result"
    }
   ],
   "source": [
    "timestamps"
   ]
  },
  {
   "cell_type": "code",
   "execution_count": 4,
   "id": "alternate-victory",
   "metadata": {
    "execution": {
     "iopub.execute_input": "2021-08-12T15:30:04.526210Z",
     "iopub.status.busy": "2021-08-12T15:30:04.524782Z",
     "iopub.status.idle": "2021-08-12T15:30:04.552348Z",
     "shell.execute_reply": "2021-08-12T15:30:04.551725Z"
    },
    "papermill": {
     "duration": 0.040659,
     "end_time": "2021-08-12T15:30:04.552511",
     "exception": false,
     "start_time": "2021-08-12T15:30:04.511852",
     "status": "completed"
    },
    "tags": []
   },
   "outputs": [],
   "source": [
    "df = pd.read_sql(\"select * from EBAY_TOP_BERLIN where record_time in (select distinct record_time from EBAY_TOP_BERLIN order by record_time desc limit 2)\", sqlite3.connect(\"UsedObjects.db\"))"
   ]
  },
  {
   "cell_type": "code",
   "execution_count": 5,
   "id": "popular-active",
   "metadata": {
    "execution": {
     "iopub.execute_input": "2021-08-12T15:30:04.583478Z",
     "iopub.status.busy": "2021-08-12T15:30:04.582695Z",
     "iopub.status.idle": "2021-08-12T15:30:04.606904Z",
     "shell.execute_reply": "2021-08-12T15:30:04.607477Z"
    },
    "papermill": {
     "duration": 0.046715,
     "end_time": "2021-08-12T15:30:04.607670",
     "exception": false,
     "start_time": "2021-08-12T15:30:04.560955",
     "status": "completed"
    },
    "tags": []
   },
   "outputs": [],
   "source": [
    "df_pivot = df.pivot_table(index=\"PRODUCT\", columns = \"RECORD_TIME\", values = \"LISTING_COUNT\")"
   ]
  },
  {
   "cell_type": "code",
   "execution_count": 6,
   "id": "union-huntington",
   "metadata": {
    "execution": {
     "iopub.execute_input": "2021-08-12T15:30:04.634354Z",
     "iopub.status.busy": "2021-08-12T15:30:04.633637Z",
     "iopub.status.idle": "2021-08-12T15:30:04.638917Z",
     "shell.execute_reply": "2021-08-12T15:30:04.638177Z"
    },
    "papermill": {
     "duration": 0.022737,
     "end_time": "2021-08-12T15:30:04.639095",
     "exception": false,
     "start_time": "2021-08-12T15:30:04.616358",
     "status": "completed"
    },
    "tags": []
   },
   "outputs": [],
   "source": [
    "df_pivot.columns = [\"stamp_1\", \"stamp_2\"]\n",
    "df_pivot_diff = df_pivot.diff(axis=1)"
   ]
  },
  {
   "cell_type": "code",
   "execution_count": 7,
   "id": "fifth-motion",
   "metadata": {
    "execution": {
     "iopub.execute_input": "2021-08-12T15:30:04.673413Z",
     "iopub.status.busy": "2021-08-12T15:30:04.672524Z",
     "iopub.status.idle": "2021-08-12T15:30:05.336043Z",
     "shell.execute_reply": "2021-08-12T15:30:05.335427Z"
    },
    "papermill": {
     "duration": 0.684205,
     "end_time": "2021-08-12T15:30:05.336205",
     "exception": false,
     "start_time": "2021-08-12T15:30:04.652000",
     "status": "completed"
    },
    "tags": []
   },
   "outputs": [
    {
     "data": {
      "text/plain": [
       "<AxesSubplot:ylabel='PRODUCT'>"
      ]
     },
     "execution_count": 7,
     "metadata": {},
     "output_type": "execute_result"
    },
    {
     "data": {
      "image/png": "[encoded data removed]",
      "text/plain": [
       "<Figure size 432x288 with 1 Axes>"
      ]
     },
     "metadata": {
      "needs_background": "light"
     },
     "output_type": "display_data"
    }
   ],
   "source": [
    "df_pivot_diff.sort_values(\"stamp_2\", ascending = False)[\"stamp_2\"].head(10).plot.barh()"
   ]
  },
  {
   "cell_type": "code",
   "execution_count": null,
   "id": "extra-executive",
   "metadata": {
    "papermill": {
     "duration": 0.011601,
     "end_time": "2021-08-12T15:30:05.361047",
     "exception": false,
     "start_time": "2021-08-12T15:30:05.349446",
     "status": "completed"
    },
    "tags": []
   },
   "outputs": [],
   "source": []
  }
 ],
 "metadata": {
  "kernelspec": {
   "display_name": "Python 3",
   "language": "python",
   "name": "python3"
  },
  "language_info": {
   "codemirror_mode": {
    "name": "ipython",
    "version": 3
   },
   "file_extension": ".py",
   "mimetype": "text/x-python",
   "name": "python",
   "nbconvert_exporter": "python",
   "pygments_lexer": "ipython3",
   "version": "3.8.8"
  },
  "papermill": {
   "default_parameters": {},
   "duration": 4.955995,
   "end_time": "2021-08-12T15:30:06.832048",
   "environment_variables": {},
   "exception": null,
   "input_path": "/Users/saravananshanmugam/Carbonleakage_Git/UsedObjects/eBay_Overview.ipynb",
   "output_path": "/Users/saravananshanmugam/Carbonleakage_Git/UsedObjects/eBay_Overview.ipynb",
   "parameters": {},
   "start_time": "2021-08-12T15:30:01.876053",
   "version": "2.3.3"
  }
 },
 "nbformat": 4,
 "nbformat_minor": 5
}