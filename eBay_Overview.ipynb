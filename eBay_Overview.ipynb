{
 "cells": [
  {
   "cell_type": "code",
   "execution_count": 1,
   "id": "reverse-picking",
   "metadata": {
    "execution": {
     "iopub.execute_input": "2021-09-18T03:00:07.476631Z",
     "iopub.status.busy": "2021-09-18T03:00:07.474549Z",
     "iopub.status.idle": "2021-09-18T03:00:08.279471Z",
     "shell.execute_reply": "2021-09-18T03:00:08.277824Z"
    },
    "papermill": {
     "duration": 0.854522,
     "end_time": "2021-09-18T03:00:08.279878",
     "exception": false,
     "start_time": "2021-09-18T03:00:07.425356",
     "status": "completed"
    },
    "tags": []
   },
   "outputs": [],
   "source": [
    "import pandas as pd\n",
    "import sqlite3"
   ]
  },
  {
   "cell_type": "code",
   "execution_count": 2,
   "id": "innovative-syndrome",
   "metadata": {
    "execution": {
     "iopub.execute_input": "2021-09-18T03:00:08.332007Z",
     "iopub.status.busy": "2021-09-18T03:00:08.330046Z",
     "iopub.status.idle": "2021-09-18T03:00:08.639875Z",
     "shell.execute_reply": "2021-09-18T03:00:08.641142Z"
    },
    "papermill": {
     "duration": 0.33935,
     "end_time": "2021-09-18T03:00:08.641544",
     "exception": false,
     "start_time": "2021-09-18T03:00:08.302194",
     "status": "completed"
    },
    "tags": []
   },
   "outputs": [],
   "source": [
    "timestamps = pd.read_sql(\"select distinct record_time from EBAY_TOP_BERLIN order by record_time desc limit 2\", sqlite3.connect(\"UsedObjects.db\"))"
   ]
  },
  {
   "cell_type": "code",
   "execution_count": 3,
   "id": "periodic-identification",
   "metadata": {
    "execution": {
     "iopub.execute_input": "2021-09-18T03:00:08.705710Z",
     "iopub.status.busy": "2021-09-18T03:00:08.703706Z",
     "iopub.status.idle": "2021-09-18T03:00:08.723541Z",
     "shell.execute_reply": "2021-09-18T03:00:08.724816Z"
    },
    "papermill": {
     "duration": 0.064205,
     "end_time": "2021-09-18T03:00:08.725214",
     "exception": false,
     "start_time": "2021-09-18T03:00:08.661009",
     "status": "completed"
    },
    "tags": []
   },
   "outputs": [
    {
     "data": {
      "text/html": [
       "<div>\n",
       "<style scoped>\n",
       "    .dataframe tbody tr th:only-of-type {\n",
       "        vertical-align: middle;\n",
       "    }\n",
       "\n",
       "    .dataframe tbody tr th {\n",
       "        vertical-align: top;\n",
       "    }\n",
       "\n",
       "    .dataframe thead th {\n",
       "        text-align: right;\n",
       "    }\n",
       "</style>\n",
       "<table border=\"1\" class=\"dataframe\">\n",
       "  <thead>\n",
       "    <tr style=\"text-align: right;\">\n",
       "      <th></th>\n",
       "      <th>RECORD_TIME</th>\n",
       "    </tr>\n",
       "  </thead>\n",
       "  <tbody>\n",
       "    <tr>\n",
       "      <th>0</th>\n",
       "      <td>2021-09-18 05:00</td>\n",
       "    </tr>\n",
       "    <tr>\n",
       "      <th>1</th>\n",
       "      <td>2021-09-18 04:30</td>\n",
       "    </tr>\n",
       "  </tbody>\n",
       "</table>\n",
       "</div>"
      ],
      "text/plain": [
       "        RECORD_TIME\n",
       "0  2021-09-18 05:00\n",
       "1  2021-09-18 04:30"
      ]
     },
     "execution_count": 3,
     "metadata": {},
     "output_type": "execute_result"
    }
   ],
   "source": [
    "timestamps"
   ]
  },
  {
   "cell_type": "code",
   "execution_count": 4,
   "id": "alternate-victory",
   "metadata": {
    "execution": {
     "iopub.execute_input": "2021-09-18T03:00:08.778058Z",
     "iopub.status.busy": "2021-09-18T03:00:08.775801Z",
     "iopub.status.idle": "2021-09-18T03:00:09.249396Z",
     "shell.execute_reply": "2021-09-18T03:00:09.250606Z"
    },
    "papermill": {
     "duration": 0.504067,
     "end_time": "2021-09-18T03:00:09.251179",
     "exception": false,
     "start_time": "2021-09-18T03:00:08.747112",
     "status": "completed"
    },
    "tags": []
   },
   "outputs": [],
   "source": [
    "df = pd.read_sql(\"select * from EBAY_TOP_BERLIN where record_time in (select distinct record_time from EBAY_TOP_BERLIN order by record_time desc limit 2)\", sqlite3.connect(\"UsedObjects.db\"))"
   ]
  },
  {
   "cell_type": "code",
   "execution_count": 5,
   "id": "popular-active",
   "metadata": {
    "execution": {
     "iopub.execute_input": "2021-09-18T03:00:09.333987Z",
     "iopub.status.busy": "2021-09-18T03:00:09.323227Z",
     "iopub.status.idle": "2021-09-18T03:00:09.349951Z",
     "shell.execute_reply": "2021-09-18T03:00:09.351245Z"
    },
    "papermill": {
     "duration": 0.071789,
     "end_time": "2021-09-18T03:00:09.351648",
     "exception": false,
     "start_time": "2021-09-18T03:00:09.279859",
     "status": "completed"
    },
    "tags": []
   },
   "outputs": [],
   "source": [
    "df_pivot = df.pivot_table(index=\"PRODUCT\", columns = \"RECORD_TIME\", values = \"LISTING_COUNT\")"
   ]
  },
  {
   "cell_type": "code",
   "execution_count": 6,
   "id": "union-huntington",
   "metadata": {
    "execution": {
     "iopub.execute_input": "2021-09-18T03:00:09.408387Z",
     "iopub.status.busy": "2021-09-18T03:00:09.406172Z",
     "iopub.status.idle": "2021-09-18T03:00:09.411643Z",
     "shell.execute_reply": "2021-09-18T03:00:09.412932Z"
    },
    "papermill": {
     "duration": 0.040996,
     "end_time": "2021-09-18T03:00:09.413386",
     "exception": false,
     "start_time": "2021-09-18T03:00:09.372390",
     "status": "completed"
    },
    "tags": []
   },
   "outputs": [],
   "source": [
    "df_pivot.columns = [\"stamp_1\", \"stamp_2\"]\n",
    "df_pivot_diff = df_pivot.diff(axis=1)"
   ]
  },
  {
   "cell_type": "code",
   "execution_count": 7,
   "id": "fifth-motion",
   "metadata": {
    "execution": {
     "iopub.execute_input": "2021-09-18T03:00:09.468572Z",
     "iopub.status.busy": "2021-09-18T03:00:09.465977Z",
     "iopub.status.idle": "2021-09-18T03:00:10.992321Z",
     "shell.execute_reply": "2021-09-18T03:00:10.993611Z"
    },
    "papermill": {
     "duration": 1.559852,
     "end_time": "2021-09-18T03:00:10.994026",
     "exception": false,
     "start_time": "2021-09-18T03:00:09.434174",
     "status": "completed"
    },
    "tags": []
   },
   "outputs": [
    {
     "data": {
      "text/plain": [
       "<AxesSubplot:ylabel='PRODUCT'>"
      ]
     },
     "execution_count": 7,
     "metadata": {},
     "output_type": "execute_result"
    },
    {
     "data": {
      "image/png": "[encoded data removed]",
      "text/plain": [
       "<Figure size 432x288 with 1 Axes>"
      ]
     },
     "metadata": {
      "needs_background": "light"
     },
     "output_type": "display_data"
    }
   ],
   "source": [
    "df_pivot_diff.sort_values(\"stamp_2\", ascending = False)[\"stamp_2\"].head(10).plot.barh()"
   ]
  },
  {
   "cell_type": "code",
   "execution_count": null,
   "id": "extra-executive",
   "metadata": {
    "papermill": {
     "duration": 0.022253,
     "end_time": "2021-09-18T03:00:11.041125",
     "exception": false,
     "start_time": "2021-09-18T03:00:11.018872",
     "status": "completed"
    },
    "tags": []
   },
   "outputs": [],
   "source": []
  }
 ],
 "metadata": {
  "kernelspec": {
   "display_name": "Python 3",
   "language": "python",
   "name": "python3"
  },
  "language_info": {
   "codemirror_mode": {
    "name": "ipython",
    "version": 3
   },
   "file_extension": ".py",
   "mimetype": "text/x-python",
   "name": "python",
   "nbconvert_exporter": "python",
   "pygments_lexer": "ipython3",
   "version": "3.9.5"
  },
  "papermill": {
   "default_parameters": {},
   "duration": 6.656677,
   "end_time": "2021-09-18T03:00:11.682127",
   "environment_variables": {},
   "exception": null,
   "input_path": "eBay_Overview.ipynb",
   "output_path": "eBay_Overview.ipynb",
   "parameters": {},
   "start_time": "2021-09-18T03:00:05.025450",
   "version": "2.3.3"
  }
 },
 "nbformat": 4,
 "nbformat_minor": 5
}