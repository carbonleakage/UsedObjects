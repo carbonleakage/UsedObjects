{
 "cells": [
  {
   "cell_type": "code",
   "execution_count": 1,
   "id": "reverse-picking",
   "metadata": {
    "execution": {
     "iopub.execute_input": "2021-11-19T15:00:07.401507Z",
     "iopub.status.busy": "2021-11-19T15:00:07.398867Z",
     "iopub.status.idle": "2021-11-19T15:00:08.357196Z",
     "shell.execute_reply": "2021-11-19T15:00:08.358738Z"
    },
    "papermill": {
     "duration": 1.005394,
     "end_time": "2021-11-19T15:00:08.359565",
     "exception": false,
     "start_time": "2021-11-19T15:00:07.354171",
     "status": "completed"
    },
    "tags": []
   },
   "outputs": [],
   "source": [
    "import pandas as pd\n",
    "import sqlite3"
   ]
  },
  {
   "cell_type": "code",
   "execution_count": 2,
   "id": "innovative-syndrome",
   "metadata": {
    "execution": {
     "iopub.execute_input": "2021-11-19T15:00:08.422097Z",
     "iopub.status.busy": "2021-11-19T15:00:08.419768Z",
     "iopub.status.idle": "2021-11-19T15:00:09.286252Z",
     "shell.execute_reply": "2021-11-19T15:00:09.287501Z"
    },
    "papermill": {
     "duration": 0.900296,
     "end_time": "2021-11-19T15:00:09.287960",
     "exception": false,
     "start_time": "2021-11-19T15:00:08.387664",
     "status": "completed"
    },
    "tags": []
   },
   "outputs": [],
   "source": [
    "timestamps = pd.read_sql(\"select distinct record_time from EBAY_TOP_BERLIN order by record_time desc limit 2\", sqlite3.connect(\"UsedObjects.db\"))"
   ]
  },
  {
   "cell_type": "code",
   "execution_count": 3,
   "id": "periodic-identification",
   "metadata": {
    "execution": {
     "iopub.execute_input": "2021-11-19T15:00:09.356352Z",
     "iopub.status.busy": "2021-11-19T15:00:09.354089Z",
     "iopub.status.idle": "2021-11-19T15:00:09.374865Z",
     "shell.execute_reply": "2021-11-19T15:00:09.376147Z"
    },
    "papermill": {
     "duration": 0.068745,
     "end_time": "2021-11-19T15:00:09.376602",
     "exception": false,
     "start_time": "2021-11-19T15:00:09.307857",
     "status": "completed"
    },
    "tags": []
   },
   "outputs": [
    {
     "data": {
      "text/html": [
       "<div>\n",
       "<style scoped>\n",
       "    .dataframe tbody tr th:only-of-type {\n",
       "        vertical-align: middle;\n",
       "    }\n",
       "\n",
       "    .dataframe tbody tr th {\n",
       "        vertical-align: top;\n",
       "    }\n",
       "\n",
       "    .dataframe thead th {\n",
       "        text-align: right;\n",
       "    }\n",
       "</style>\n",
       "<table border=\"1\" class=\"dataframe\">\n",
       "  <thead>\n",
       "    <tr style=\"text-align: right;\">\n",
       "      <th></th>\n",
       "      <th>RECORD_TIME</th>\n",
       "    </tr>\n",
       "  </thead>\n",
       "  <tbody>\n",
       "    <tr>\n",
       "      <th>0</th>\n",
       "      <td>2021-11-19 16:00</td>\n",
       "    </tr>\n",
       "    <tr>\n",
       "      <th>1</th>\n",
       "      <td>2021-11-19 15:30</td>\n",
       "    </tr>\n",
       "  </tbody>\n",
       "</table>\n",
       "</div>"
      ],
      "text/plain": [
       "        RECORD_TIME\n",
       "0  2021-11-19 16:00\n",
       "1  2021-11-19 15:30"
      ]
     },
     "execution_count": 3,
     "metadata": {},
     "output_type": "execute_result"
    }
   ],
   "source": [
    "timestamps"
   ]
  },
  {
   "cell_type": "code",
   "execution_count": 4,
   "id": "alternate-victory",
   "metadata": {
    "execution": {
     "iopub.execute_input": "2021-11-19T15:00:09.431524Z",
     "iopub.status.busy": "2021-11-19T15:00:09.429370Z",
     "iopub.status.idle": "2021-11-19T15:00:10.683563Z",
     "shell.execute_reply": "2021-11-19T15:00:10.685158Z"
    },
    "papermill": {
     "duration": 1.287493,
     "end_time": "2021-11-19T15:00:10.685649",
     "exception": false,
     "start_time": "2021-11-19T15:00:09.398156",
     "status": "completed"
    },
    "tags": []
   },
   "outputs": [],
   "source": [
    "df = pd.read_sql(\"select * from EBAY_TOP_BERLIN where record_time in (select distinct record_time from EBAY_TOP_BERLIN order by record_time desc limit 2)\", sqlite3.connect(\"UsedObjects.db\"))"
   ]
  },
  {
   "cell_type": "code",
   "execution_count": 5,
   "id": "popular-active",
   "metadata": {
    "execution": {
     "iopub.execute_input": "2021-11-19T15:00:10.763818Z",
     "iopub.status.busy": "2021-11-19T15:00:10.751540Z",
     "iopub.status.idle": "2021-11-19T15:00:10.782621Z",
     "shell.execute_reply": "2021-11-19T15:00:10.783955Z"
    },
    "papermill": {
     "duration": 0.076275,
     "end_time": "2021-11-19T15:00:10.784416",
     "exception": false,
     "start_time": "2021-11-19T15:00:10.708141",
     "status": "completed"
    },
    "tags": []
   },
   "outputs": [],
   "source": [
    "df_pivot = df.pivot_table(index=\"PRODUCT\", columns = \"RECORD_TIME\", values = \"LISTING_COUNT\")"
   ]
  },
  {
   "cell_type": "code",
   "execution_count": 6,
   "id": "union-huntington",
   "metadata": {
    "execution": {
     "iopub.execute_input": "2021-11-19T15:00:10.842146Z",
     "iopub.status.busy": "2021-11-19T15:00:10.839903Z",
     "iopub.status.idle": "2021-11-19T15:00:10.848583Z",
     "shell.execute_reply": "2021-11-19T15:00:10.845799Z"
    },
    "papermill": {
     "duration": 0.044708,
     "end_time": "2021-11-19T15:00:10.849063",
     "exception": false,
     "start_time": "2021-11-19T15:00:10.804355",
     "status": "completed"
    },
    "tags": []
   },
   "outputs": [],
   "source": [
    "df_pivot.columns = [\"stamp_1\", \"stamp_2\"]\n",
    "df_pivot_diff = df_pivot.diff(axis=1)"
   ]
  },
  {
   "cell_type": "code",
   "execution_count": 7,
   "id": "fifth-motion",
   "metadata": {
    "execution": {
     "iopub.execute_input": "2021-11-19T15:00:10.922289Z",
     "iopub.status.busy": "2021-11-19T15:00:10.917849Z",
     "iopub.status.idle": "2021-11-19T15:00:12.692897Z",
     "shell.execute_reply": "2021-11-19T15:00:12.695365Z"
    },
    "papermill": {
     "duration": 1.82571,
     "end_time": "2021-11-19T15:00:12.696197",
     "exception": false,
     "start_time": "2021-11-19T15:00:10.870487",
     "status": "completed"
    },
    "tags": []
   },
   "outputs": [
    {
     "data": {
      "text/plain": [
       "<AxesSubplot:ylabel='PRODUCT'>"
      ]
     },
     "execution_count": 7,
     "metadata": {},
     "output_type": "execute_result"
    },
    {
     "data": {
      "image/png": "[encoded data removed]",
      "text/plain": [
       "<Figure size 432x288 with 1 Axes>"
      ]
     },
     "metadata": {
      "needs_background": "light"
     },
     "output_type": "display_data"
    }
   ],
   "source": [
    "df_pivot_diff.sort_values(\"stamp_2\", ascending = False)[\"stamp_2\"].head(10).plot.barh()"
   ]
  },
  {
   "cell_type": "code",
   "execution_count": null,
   "id": "extra-executive",
   "metadata": {
    "papermill": {
     "duration": 0.037274,
     "end_time": "2021-11-19T15:00:12.768224",
     "exception": false,
     "start_time": "2021-11-19T15:00:12.730950",
     "status": "completed"
    },
    "tags": []
   },
   "outputs": [],
   "source": []
  }
 ],
 "metadata": {
  "kernelspec": {
   "display_name": "Python 3",
   "language": "python",
   "name": "python3"
  },
  "language_info": {
   "codemirror_mode": {
    "name": "ipython",
    "version": 3
   },
   "file_extension": ".py",
   "mimetype": "text/x-python",
   "name": "python",
   "nbconvert_exporter": "python",
   "pygments_lexer": "ipython3",
   "version": "3.9.5"
  },
  "papermill": {
   "default_parameters": {},
   "duration": 9.945289,
   "end_time": "2021-11-19T15:00:14.572072",
   "environment_variables": {},
   "exception": null,
   "input_path": "eBay_Overview.ipynb",
   "output_path": "eBay_Overview.ipynb",
   "parameters": {},
   "start_time": "2021-11-19T15:00:04.626783",
   "version": "2.3.3"
  }
 },
 "nbformat": 4,
 "nbformat_minor": 5
}