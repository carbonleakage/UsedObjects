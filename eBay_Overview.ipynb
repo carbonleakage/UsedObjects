{
 "cells": [
  {
   "cell_type": "code",
   "execution_count": 1,
   "id": "reverse-picking",
   "metadata": {
    "execution": {
     "iopub.execute_input": "2021-12-20T09:30:07.666195Z",
     "iopub.status.busy": "2021-12-20T09:30:07.663775Z",
     "iopub.status.idle": "2021-12-20T09:30:08.635622Z",
     "shell.execute_reply": "2021-12-20T09:30:08.637265Z"
    },
    "papermill": {
     "duration": 1.022531,
     "end_time": "2021-12-20T09:30:08.638021",
     "exception": false,
     "start_time": "2021-12-20T09:30:07.615490",
     "status": "completed"
    },
    "tags": []
   },
   "outputs": [],
   "source": [
    "import pandas as pd\n",
    "import sqlite3"
   ]
  },
  {
   "cell_type": "code",
   "execution_count": 2,
   "id": "innovative-syndrome",
   "metadata": {
    "execution": {
     "iopub.execute_input": "2021-12-20T09:30:08.755138Z",
     "iopub.status.busy": "2021-12-20T09:30:08.752831Z",
     "iopub.status.idle": "2021-12-20T09:30:09.882201Z",
     "shell.execute_reply": "2021-12-20T09:30:09.883710Z"
    },
    "papermill": {
     "duration": 1.164206,
     "end_time": "2021-12-20T09:30:09.884243",
     "exception": false,
     "start_time": "2021-12-20T09:30:08.720037",
     "status": "completed"
    },
    "tags": []
   },
   "outputs": [],
   "source": [
    "timestamps = pd.read_sql(\"select distinct record_time from EBAY_TOP_BERLIN order by record_time desc limit 2\", sqlite3.connect(\"UsedObjects.db\"))"
   ]
  },
  {
   "cell_type": "code",
   "execution_count": 3,
   "id": "periodic-identification",
   "metadata": {
    "execution": {
     "iopub.execute_input": "2021-12-20T09:30:09.955969Z",
     "iopub.status.busy": "2021-12-20T09:30:09.953657Z",
     "iopub.status.idle": "2021-12-20T09:30:09.976771Z",
     "shell.execute_reply": "2021-12-20T09:30:09.978252Z"
    },
    "papermill": {
     "duration": 0.073398,
     "end_time": "2021-12-20T09:30:09.978761",
     "exception": false,
     "start_time": "2021-12-20T09:30:09.905363",
     "status": "completed"
    },
    "tags": []
   },
   "outputs": [
    {
     "data": {
      "text/html": [
       "<div>\n",
       "<style scoped>\n",
       "    .dataframe tbody tr th:only-of-type {\n",
       "        vertical-align: middle;\n",
       "    }\n",
       "\n",
       "    .dataframe tbody tr th {\n",
       "        vertical-align: top;\n",
       "    }\n",
       "\n",
       "    .dataframe thead th {\n",
       "        text-align: right;\n",
       "    }\n",
       "</style>\n",
       "<table border=\"1\" class=\"dataframe\">\n",
       "  <thead>\n",
       "    <tr style=\"text-align: right;\">\n",
       "      <th></th>\n",
       "      <th>RECORD_TIME</th>\n",
       "    </tr>\n",
       "  </thead>\n",
       "  <tbody>\n",
       "    <tr>\n",
       "      <th>0</th>\n",
       "      <td>2021-12-20 10:30</td>\n",
       "    </tr>\n",
       "    <tr>\n",
       "      <th>1</th>\n",
       "      <td>2021-12-20 10:00</td>\n",
       "    </tr>\n",
       "  </tbody>\n",
       "</table>\n",
       "</div>"
      ],
      "text/plain": [
       "        RECORD_TIME\n",
       "0  2021-12-20 10:30\n",
       "1  2021-12-20 10:00"
      ]
     },
     "execution_count": 3,
     "metadata": {},
     "output_type": "execute_result"
    }
   ],
   "source": [
    "timestamps"
   ]
  },
  {
   "cell_type": "code",
   "execution_count": 4,
   "id": "alternate-victory",
   "metadata": {
    "execution": {
     "iopub.execute_input": "2021-12-20T09:30:10.034544Z",
     "iopub.status.busy": "2021-12-20T09:30:10.032054Z",
     "iopub.status.idle": "2021-12-20T09:30:11.689827Z",
     "shell.execute_reply": "2021-12-20T09:30:11.691625Z"
    },
    "papermill": {
     "duration": 1.69224,
     "end_time": "2021-12-20T09:30:11.692094",
     "exception": false,
     "start_time": "2021-12-20T09:30:09.999854",
     "status": "completed"
    },
    "tags": []
   },
   "outputs": [],
   "source": [
    "df = pd.read_sql(\"select * from EBAY_TOP_BERLIN where record_time in (select distinct record_time from EBAY_TOP_BERLIN order by record_time desc limit 2)\", sqlite3.connect(\"UsedObjects.db\"))"
   ]
  },
  {
   "cell_type": "code",
   "execution_count": 5,
   "id": "popular-active",
   "metadata": {
    "execution": {
     "iopub.execute_input": "2021-12-20T09:30:11.766031Z",
     "iopub.status.busy": "2021-12-20T09:30:11.752547Z",
     "iopub.status.idle": "2021-12-20T09:30:11.784631Z",
     "shell.execute_reply": "2021-12-20T09:30:11.786519Z"
    },
    "papermill": {
     "duration": 0.074628,
     "end_time": "2021-12-20T09:30:11.787086",
     "exception": false,
     "start_time": "2021-12-20T09:30:11.712458",
     "status": "completed"
    },
    "tags": []
   },
   "outputs": [],
   "source": [
    "df_pivot = df.pivot_table(index=\"PRODUCT\", columns = \"RECORD_TIME\", values = \"LISTING_COUNT\")"
   ]
  },
  {
   "cell_type": "code",
   "execution_count": 6,
   "id": "union-huntington",
   "metadata": {
    "execution": {
     "iopub.execute_input": "2021-12-20T09:30:11.850633Z",
     "iopub.status.busy": "2021-12-20T09:30:11.848250Z",
     "iopub.status.idle": "2021-12-20T09:30:11.854302Z",
     "shell.execute_reply": "2021-12-20T09:30:11.855869Z"
    },
    "papermill": {
     "duration": 0.047306,
     "end_time": "2021-12-20T09:30:11.856330",
     "exception": false,
     "start_time": "2021-12-20T09:30:11.809024",
     "status": "completed"
    },
    "tags": []
   },
   "outputs": [],
   "source": [
    "df_pivot.columns = [\"stamp_1\", \"stamp_2\"]\n",
    "df_pivot_diff = df_pivot.diff(axis=1)"
   ]
  },
  {
   "cell_type": "code",
   "execution_count": 7,
   "id": "fifth-motion",
   "metadata": {
    "execution": {
     "iopub.execute_input": "2021-12-20T09:30:11.913910Z",
     "iopub.status.busy": "2021-12-20T09:30:11.911296Z",
     "iopub.status.idle": "2021-12-20T09:30:13.880838Z",
     "shell.execute_reply": "2021-12-20T09:30:13.882089Z"
    },
    "papermill": {
     "duration": 2.00478,
     "end_time": "2021-12-20T09:30:13.882533",
     "exception": false,
     "start_time": "2021-12-20T09:30:11.877753",
     "status": "completed"
    },
    "tags": []
   },
   "outputs": [
    {
     "data": {
      "text/plain": [
       "<AxesSubplot:ylabel='PRODUCT'>"
      ]
     },
     "execution_count": 7,
     "metadata": {},
     "output_type": "execute_result"
    },
    {
     "data": {
      "image/png": "[encoded data removed]",
      "text/plain": [
       "<Figure size 432x288 with 1 Axes>"
      ]
     },
     "metadata": {
      "needs_background": "light"
     },
     "output_type": "display_data"
    }
   ],
   "source": [
    "df_pivot_diff.sort_values(\"stamp_2\", ascending = False)[\"stamp_2\"].head(10).plot.barh()"
   ]
  },
  {
   "cell_type": "code",
   "execution_count": null,
   "id": "extra-executive",
   "metadata": {
    "papermill": {
     "duration": 0.0219,
     "end_time": "2021-12-20T09:30:13.930680",
     "exception": false,
     "start_time": "2021-12-20T09:30:13.908780",
     "status": "completed"
    },
    "tags": []
   },
   "outputs": [],
   "source": []
  }
 ],
 "metadata": {
  "kernelspec": {
   "display_name": "Python 3",
   "language": "python",
   "name": "python3"
  },
  "language_info": {
   "codemirror_mode": {
    "name": "ipython",
    "version": 3
   },
   "file_extension": ".py",
   "mimetype": "text/x-python",
   "name": "python",
   "nbconvert_exporter": "python",
   "pygments_lexer": "ipython3",
   "version": "3.9.5"
  },
  "papermill": {
   "default_parameters": {},
   "duration": 9.695781,
   "end_time": "2021-12-20T09:30:14.571553",
   "environment_variables": {},
   "exception": null,
   "input_path": "eBay_Overview.ipynb",
   "output_path": "eBay_Overview.ipynb",
   "parameters": {},
   "start_time": "2021-12-20T09:30:04.875772",
   "version": "2.3.3"
  }
 },
 "nbformat": 4,
 "nbformat_minor": 5
}