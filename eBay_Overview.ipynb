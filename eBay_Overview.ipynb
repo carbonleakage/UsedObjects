{
 "cells": [
  {
   "cell_type": "code",
   "execution_count": 1,
   "id": "reverse-picking",
   "metadata": {
    "execution": {
     "iopub.execute_input": "2021-08-16T11:00:07.272355Z",
     "iopub.status.busy": "2021-08-16T11:00:07.270394Z",
     "iopub.status.idle": "2021-08-16T11:00:08.078231Z",
     "shell.execute_reply": "2021-08-16T11:00:08.079508Z"
    },
    "papermill": {
     "duration": 0.860374,
     "end_time": "2021-08-16T11:00:08.080143",
     "exception": false,
     "start_time": "2021-08-16T11:00:07.219769",
     "status": "completed"
    },
    "tags": []
   },
   "outputs": [],
   "source": [
    "import pandas as pd\n",
    "import sqlite3"
   ]
  },
  {
   "cell_type": "code",
   "execution_count": 2,
   "id": "innovative-syndrome",
   "metadata": {
    "execution": {
     "iopub.execute_input": "2021-08-16T11:00:08.132182Z",
     "iopub.status.busy": "2021-08-16T11:00:08.129991Z",
     "iopub.status.idle": "2021-08-16T11:00:08.192265Z",
     "shell.execute_reply": "2021-08-16T11:00:08.193533Z"
    },
    "papermill": {
     "duration": 0.091953,
     "end_time": "2021-08-16T11:00:08.194013",
     "exception": false,
     "start_time": "2021-08-16T11:00:08.102060",
     "status": "completed"
    },
    "tags": []
   },
   "outputs": [],
   "source": [
    "timestamps = pd.read_sql(\"select distinct record_time from EBAY_TOP_BERLIN order by record_time desc limit 2\", sqlite3.connect(\"UsedObjects.db\"))"
   ]
  },
  {
   "cell_type": "code",
   "execution_count": 3,
   "id": "periodic-identification",
   "metadata": {
    "execution": {
     "iopub.execute_input": "2021-08-16T11:00:08.260660Z",
     "iopub.status.busy": "2021-08-16T11:00:08.258641Z",
     "iopub.status.idle": "2021-08-16T11:00:08.278794Z",
     "shell.execute_reply": "2021-08-16T11:00:08.280110Z"
    },
    "papermill": {
     "duration": 0.067318,
     "end_time": "2021-08-16T11:00:08.280523",
     "exception": false,
     "start_time": "2021-08-16T11:00:08.213205",
     "status": "completed"
    },
    "tags": []
   },
   "outputs": [
    {
     "data": {
      "text/html": [
       "<div>\n",
       "<style scoped>\n",
       "    .dataframe tbody tr th:only-of-type {\n",
       "        vertical-align: middle;\n",
       "    }\n",
       "\n",
       "    .dataframe tbody tr th {\n",
       "        vertical-align: top;\n",
       "    }\n",
       "\n",
       "    .dataframe thead th {\n",
       "        text-align: right;\n",
       "    }\n",
       "</style>\n",
       "<table border=\"1\" class=\"dataframe\">\n",
       "  <thead>\n",
       "    <tr style=\"text-align: right;\">\n",
       "      <th></th>\n",
       "      <th>RECORD_TIME</th>\n",
       "    </tr>\n",
       "  </thead>\n",
       "  <tbody>\n",
       "    <tr>\n",
       "      <th>0</th>\n",
       "      <td>2021-08-16 13:00</td>\n",
       "    </tr>\n",
       "    <tr>\n",
       "      <th>1</th>\n",
       "      <td>2021-08-16 12:30</td>\n",
       "    </tr>\n",
       "  </tbody>\n",
       "</table>\n",
       "</div>"
      ],
      "text/plain": [
       "        RECORD_TIME\n",
       "0  2021-08-16 13:00\n",
       "1  2021-08-16 12:30"
      ]
     },
     "execution_count": 3,
     "metadata": {},
     "output_type": "execute_result"
    }
   ],
   "source": [
    "timestamps"
   ]
  },
  {
   "cell_type": "code",
   "execution_count": 4,
   "id": "alternate-victory",
   "metadata": {
    "execution": {
     "iopub.execute_input": "2021-08-16T11:00:08.332683Z",
     "iopub.status.busy": "2021-08-16T11:00:08.330421Z",
     "iopub.status.idle": "2021-08-16T11:00:08.421970Z",
     "shell.execute_reply": "2021-08-16T11:00:08.423201Z"
    },
    "papermill": {
     "duration": 0.121858,
     "end_time": "2021-08-16T11:00:08.423599",
     "exception": false,
     "start_time": "2021-08-16T11:00:08.301741",
     "status": "completed"
    },
    "tags": []
   },
   "outputs": [],
   "source": [
    "df = pd.read_sql(\"select * from EBAY_TOP_BERLIN where record_time in (select distinct record_time from EBAY_TOP_BERLIN order by record_time desc limit 2)\", sqlite3.connect(\"UsedObjects.db\"))"
   ]
  },
  {
   "cell_type": "code",
   "execution_count": 5,
   "id": "popular-active",
   "metadata": {
    "execution": {
     "iopub.execute_input": "2021-08-16T11:00:08.498354Z",
     "iopub.status.busy": "2021-08-16T11:00:08.486292Z",
     "iopub.status.idle": "2021-08-16T11:00:08.514209Z",
     "shell.execute_reply": "2021-08-16T11:00:08.515430Z"
    },
    "papermill": {
     "duration": 0.068569,
     "end_time": "2021-08-16T11:00:08.515828",
     "exception": false,
     "start_time": "2021-08-16T11:00:08.447259",
     "status": "completed"
    },
    "tags": []
   },
   "outputs": [],
   "source": [
    "df_pivot = df.pivot_table(index=\"PRODUCT\", columns = \"RECORD_TIME\", values = \"LISTING_COUNT\")"
   ]
  },
  {
   "cell_type": "code",
   "execution_count": 6,
   "id": "union-huntington",
   "metadata": {
    "execution": {
     "iopub.execute_input": "2021-08-16T11:00:08.576377Z",
     "iopub.status.busy": "2021-08-16T11:00:08.573930Z",
     "iopub.status.idle": "2021-08-16T11:00:08.579740Z",
     "shell.execute_reply": "2021-08-16T11:00:08.581010Z"
    },
    "papermill": {
     "duration": 0.042429,
     "end_time": "2021-08-16T11:00:08.581427",
     "exception": false,
     "start_time": "2021-08-16T11:00:08.538998",
     "status": "completed"
    },
    "tags": []
   },
   "outputs": [],
   "source": [
    "df_pivot.columns = [\"stamp_1\", \"stamp_2\"]\n",
    "df_pivot_diff = df_pivot.diff(axis=1)"
   ]
  },
  {
   "cell_type": "code",
   "execution_count": 7,
   "id": "fifth-motion",
   "metadata": {
    "execution": {
     "iopub.execute_input": "2021-08-16T11:00:08.635061Z",
     "iopub.status.busy": "2021-08-16T11:00:08.632686Z",
     "iopub.status.idle": "2021-08-16T11:00:10.141048Z",
     "shell.execute_reply": "2021-08-16T11:00:10.142591Z"
    },
    "papermill": {
     "duration": 1.541892,
     "end_time": "2021-08-16T11:00:10.143074",
     "exception": false,
     "start_time": "2021-08-16T11:00:08.601182",
     "status": "completed"
    },
    "tags": []
   },
   "outputs": [
    {
     "data": {
      "text/plain": [
       "<AxesSubplot:ylabel='PRODUCT'>"
      ]
     },
     "execution_count": 7,
     "metadata": {},
     "output_type": "execute_result"
    },
    {
     "data": {
      "image/png": "[encoded data removed]",
      "text/plain": [
       "<Figure size 432x288 with 1 Axes>"
      ]
     },
     "metadata": {
      "needs_background": "light"
     },
     "output_type": "display_data"
    }
   ],
   "source": [
    "df_pivot_diff.sort_values(\"stamp_2\", ascending = False)[\"stamp_2\"].head(10).plot.barh()"
   ]
  },
  {
   "cell_type": "code",
   "execution_count": null,
   "id": "extra-executive",
   "metadata": {
    "papermill": {
     "duration": 0.02241,
     "end_time": "2021-08-16T11:00:10.190417",
     "exception": false,
     "start_time": "2021-08-16T11:00:10.168007",
     "status": "completed"
    },
    "tags": []
   },
   "outputs": [],
   "source": []
  }
 ],
 "metadata": {
  "kernelspec": {
   "display_name": "Python 3",
   "language": "python",
   "name": "python3"
  },
  "language_info": {
   "codemirror_mode": {
    "name": "ipython",
    "version": 3
   },
   "file_extension": ".py",
   "mimetype": "text/x-python",
   "name": "python",
   "nbconvert_exporter": "python",
   "pygments_lexer": "ipython3",
   "version": "3.9.5"
  },
  "papermill": {
   "default_parameters": {},
   "duration": 6.825002,
   "end_time": "2021-08-16T11:00:11.631126",
   "environment_variables": {},
   "exception": null,
   "input_path": "eBay_Overview.ipynb",
   "output_path": "eBay_Overview.ipynb",
   "parameters": {},
   "start_time": "2021-08-16T11:00:04.806124",
   "version": "2.3.3"
  }
 },
 "nbformat": 4,
 "nbformat_minor": 5
}