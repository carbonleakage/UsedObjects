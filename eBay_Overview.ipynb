{
 "cells": [
  {
   "cell_type": "code",
   "execution_count": 1,
   "id": "reverse-picking",
   "metadata": {
    "execution": {
     "iopub.execute_input": "2021-10-22T09:30:07.490454Z",
     "iopub.status.busy": "2021-10-22T09:30:07.488460Z",
     "iopub.status.idle": "2021-10-22T09:30:08.295398Z",
     "shell.execute_reply": "2021-10-22T09:30:08.296636Z"
    },
    "papermill": {
     "duration": 0.858728,
     "end_time": "2021-10-22T09:30:08.297346",
     "exception": false,
     "start_time": "2021-10-22T09:30:07.438618",
     "status": "completed"
    },
    "tags": []
   },
   "outputs": [],
   "source": [
    "import pandas as pd\n",
    "import sqlite3"
   ]
  },
  {
   "cell_type": "code",
   "execution_count": 2,
   "id": "innovative-syndrome",
   "metadata": {
    "execution": {
     "iopub.execute_input": "2021-10-22T09:30:08.349971Z",
     "iopub.status.busy": "2021-10-22T09:30:08.347811Z",
     "iopub.status.idle": "2021-10-22T09:30:08.949108Z",
     "shell.execute_reply": "2021-10-22T09:30:08.950497Z"
    },
    "papermill": {
     "duration": 0.631212,
     "end_time": "2021-10-22T09:30:08.950945",
     "exception": false,
     "start_time": "2021-10-22T09:30:08.319733",
     "status": "completed"
    },
    "tags": []
   },
   "outputs": [],
   "source": [
    "timestamps = pd.read_sql(\"select distinct record_time from EBAY_TOP_BERLIN order by record_time desc limit 2\", sqlite3.connect(\"UsedObjects.db\"))"
   ]
  },
  {
   "cell_type": "code",
   "execution_count": 3,
   "id": "periodic-identification",
   "metadata": {
    "execution": {
     "iopub.execute_input": "2021-10-22T09:30:09.024465Z",
     "iopub.status.busy": "2021-10-22T09:30:09.022445Z",
     "iopub.status.idle": "2021-10-22T09:30:09.042574Z",
     "shell.execute_reply": "2021-10-22T09:30:09.044162Z"
    },
    "papermill": {
     "duration": 0.068367,
     "end_time": "2021-10-22T09:30:09.044655",
     "exception": false,
     "start_time": "2021-10-22T09:30:08.976288",
     "status": "completed"
    },
    "tags": []
   },
   "outputs": [
    {
     "data": {
      "text/html": [
       "<div>\n",
       "<style scoped>\n",
       "    .dataframe tbody tr th:only-of-type {\n",
       "        vertical-align: middle;\n",
       "    }\n",
       "\n",
       "    .dataframe tbody tr th {\n",
       "        vertical-align: top;\n",
       "    }\n",
       "\n",
       "    .dataframe thead th {\n",
       "        text-align: right;\n",
       "    }\n",
       "</style>\n",
       "<table border=\"1\" class=\"dataframe\">\n",
       "  <thead>\n",
       "    <tr style=\"text-align: right;\">\n",
       "      <th></th>\n",
       "      <th>RECORD_TIME</th>\n",
       "    </tr>\n",
       "  </thead>\n",
       "  <tbody>\n",
       "    <tr>\n",
       "      <th>0</th>\n",
       "      <td>2021-10-22 11:30</td>\n",
       "    </tr>\n",
       "    <tr>\n",
       "      <th>1</th>\n",
       "      <td>2021-10-22 11:00</td>\n",
       "    </tr>\n",
       "  </tbody>\n",
       "</table>\n",
       "</div>"
      ],
      "text/plain": [
       "        RECORD_TIME\n",
       "0  2021-10-22 11:30\n",
       "1  2021-10-22 11:00"
      ]
     },
     "execution_count": 3,
     "metadata": {},
     "output_type": "execute_result"
    }
   ],
   "source": [
    "timestamps"
   ]
  },
  {
   "cell_type": "code",
   "execution_count": 4,
   "id": "alternate-victory",
   "metadata": {
    "execution": {
     "iopub.execute_input": "2021-10-22T09:30:09.096921Z",
     "iopub.status.busy": "2021-10-22T09:30:09.094930Z",
     "iopub.status.idle": "2021-10-22T09:30:09.987173Z",
     "shell.execute_reply": "2021-10-22T09:30:09.988381Z"
    },
    "papermill": {
     "duration": 0.922623,
     "end_time": "2021-10-22T09:30:09.988954",
     "exception": false,
     "start_time": "2021-10-22T09:30:09.066331",
     "status": "completed"
    },
    "tags": []
   },
   "outputs": [],
   "source": [
    "df = pd.read_sql(\"select * from EBAY_TOP_BERLIN where record_time in (select distinct record_time from EBAY_TOP_BERLIN order by record_time desc limit 2)\", sqlite3.connect(\"UsedObjects.db\"))"
   ]
  },
  {
   "cell_type": "code",
   "execution_count": 5,
   "id": "popular-active",
   "metadata": {
    "execution": {
     "iopub.execute_input": "2021-10-22T09:30:10.062401Z",
     "iopub.status.busy": "2021-10-22T09:30:10.050245Z",
     "iopub.status.idle": "2021-10-22T09:30:10.078744Z",
     "shell.execute_reply": "2021-10-22T09:30:10.080120Z"
    },
    "papermill": {
     "duration": 0.068968,
     "end_time": "2021-10-22T09:30:10.080564",
     "exception": false,
     "start_time": "2021-10-22T09:30:10.011596",
     "status": "completed"
    },
    "tags": []
   },
   "outputs": [],
   "source": [
    "df_pivot = df.pivot_table(index=\"PRODUCT\", columns = \"RECORD_TIME\", values = \"LISTING_COUNT\")"
   ]
  },
  {
   "cell_type": "code",
   "execution_count": 6,
   "id": "union-huntington",
   "metadata": {
    "execution": {
     "iopub.execute_input": "2021-10-22T09:30:10.140152Z",
     "iopub.status.busy": "2021-10-22T09:30:10.137736Z",
     "iopub.status.idle": "2021-10-22T09:30:10.143460Z",
     "shell.execute_reply": "2021-10-22T09:30:10.144799Z"
    },
    "papermill": {
     "duration": 0.042245,
     "end_time": "2021-10-22T09:30:10.145227",
     "exception": false,
     "start_time": "2021-10-22T09:30:10.102982",
     "status": "completed"
    },
    "tags": []
   },
   "outputs": [],
   "source": [
    "df_pivot.columns = [\"stamp_1\", \"stamp_2\"]\n",
    "df_pivot_diff = df_pivot.diff(axis=1)"
   ]
  },
  {
   "cell_type": "code",
   "execution_count": 7,
   "id": "fifth-motion",
   "metadata": {
    "execution": {
     "iopub.execute_input": "2021-10-22T09:30:10.198983Z",
     "iopub.status.busy": "2021-10-22T09:30:10.196538Z",
     "iopub.status.idle": "2021-10-22T09:30:11.665056Z",
     "shell.execute_reply": "2021-10-22T09:30:11.666423Z"
    },
    "papermill": {
     "duration": 1.501211,
     "end_time": "2021-10-22T09:30:11.666911",
     "exception": false,
     "start_time": "2021-10-22T09:30:10.165700",
     "status": "completed"
    },
    "tags": []
   },
   "outputs": [
    {
     "data": {
      "text/plain": [
       "<AxesSubplot:ylabel='PRODUCT'>"
      ]
     },
     "execution_count": 7,
     "metadata": {},
     "output_type": "execute_result"
    },
    {
     "data": {
      "image/png": "[encoded data removed]",
      "text/plain": [
       "<Figure size 432x288 with 1 Axes>"
      ]
     },
     "metadata": {
      "needs_background": "light"
     },
     "output_type": "display_data"
    }
   ],
   "source": [
    "df_pivot_diff.sort_values(\"stamp_2\", ascending = False)[\"stamp_2\"].head(10).plot.barh()"
   ]
  },
  {
   "cell_type": "code",
   "execution_count": null,
   "id": "extra-executive",
   "metadata": {
    "papermill": {
     "duration": 0.021978,
     "end_time": "2021-10-22T09:30:11.713761",
     "exception": false,
     "start_time": "2021-10-22T09:30:11.691783",
     "status": "completed"
    },
    "tags": []
   },
   "outputs": [],
   "source": []
  }
 ],
 "metadata": {
  "kernelspec": {
   "display_name": "Python 3",
   "language": "python",
   "name": "python3"
  },
  "language_info": {
   "codemirror_mode": {
    "name": "ipython",
    "version": 3
   },
   "file_extension": ".py",
   "mimetype": "text/x-python",
   "name": "python",
   "nbconvert_exporter": "python",
   "pygments_lexer": "ipython3",
   "version": "3.9.5"
  },
  "papermill": {
   "default_parameters": {},
   "duration": 7.324659,
   "end_time": "2021-10-22T09:30:12.357178",
   "environment_variables": {},
   "exception": null,
   "input_path": "eBay_Overview.ipynb",
   "output_path": "eBay_Overview.ipynb",
   "parameters": {},
   "start_time": "2021-10-22T09:30:05.032519",
   "version": "2.3.3"
  }
 },
 "nbformat": 4,
 "nbformat_minor": 5
}