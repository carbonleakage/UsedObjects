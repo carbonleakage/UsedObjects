{
 "cells": [
  {
   "cell_type": "code",
   "execution_count": 1,
   "id": "reverse-picking",
   "metadata": {
    "execution": {
     "iopub.execute_input": "2021-12-19T05:30:08.403489Z",
     "iopub.status.busy": "2021-12-19T05:30:08.397608Z",
     "iopub.status.idle": "2021-12-19T05:30:09.435347Z",
     "shell.execute_reply": "2021-12-19T05:30:09.439880Z"
    },
    "papermill": {
     "duration": 1.100594,
     "end_time": "2021-12-19T05:30:09.442508",
     "exception": false,
     "start_time": "2021-12-19T05:30:08.341914",
     "status": "completed"
    },
    "tags": []
   },
   "outputs": [],
   "source": [
    "import pandas as pd\n",
    "import sqlite3"
   ]
  },
  {
   "cell_type": "code",
   "execution_count": 2,
   "id": "innovative-syndrome",
   "metadata": {
    "execution": {
     "iopub.execute_input": "2021-12-19T05:30:09.539896Z",
     "iopub.status.busy": "2021-12-19T05:30:09.535360Z",
     "iopub.status.idle": "2021-12-19T05:30:10.672264Z",
     "shell.execute_reply": "2021-12-19T05:30:10.670760Z"
    },
    "papermill": {
     "duration": 1.193265,
     "end_time": "2021-12-19T05:30:10.672723",
     "exception": false,
     "start_time": "2021-12-19T05:30:09.479458",
     "status": "completed"
    },
    "tags": []
   },
   "outputs": [],
   "source": [
    "timestamps = pd.read_sql(\"select distinct record_time from EBAY_TOP_BERLIN order by record_time desc limit 2\", sqlite3.connect(\"UsedObjects.db\"))"
   ]
  },
  {
   "cell_type": "code",
   "execution_count": 3,
   "id": "periodic-identification",
   "metadata": {
    "execution": {
     "iopub.execute_input": "2021-12-19T05:30:10.739134Z",
     "iopub.status.busy": "2021-12-19T05:30:10.736430Z",
     "iopub.status.idle": "2021-12-19T05:30:10.767904Z",
     "shell.execute_reply": "2021-12-19T05:30:10.769462Z"
    },
    "papermill": {
     "duration": 0.076,
     "end_time": "2021-12-19T05:30:10.769963",
     "exception": false,
     "start_time": "2021-12-19T05:30:10.693963",
     "status": "completed"
    },
    "tags": []
   },
   "outputs": [
    {
     "data": {
      "text/html": [
       "<div>\n",
       "<style scoped>\n",
       "    .dataframe tbody tr th:only-of-type {\n",
       "        vertical-align: middle;\n",
       "    }\n",
       "\n",
       "    .dataframe tbody tr th {\n",
       "        vertical-align: top;\n",
       "    }\n",
       "\n",
       "    .dataframe thead th {\n",
       "        text-align: right;\n",
       "    }\n",
       "</style>\n",
       "<table border=\"1\" class=\"dataframe\">\n",
       "  <thead>\n",
       "    <tr style=\"text-align: right;\">\n",
       "      <th></th>\n",
       "      <th>RECORD_TIME</th>\n",
       "    </tr>\n",
       "  </thead>\n",
       "  <tbody>\n",
       "    <tr>\n",
       "      <th>0</th>\n",
       "      <td>2021-12-19 06:30</td>\n",
       "    </tr>\n",
       "    <tr>\n",
       "      <th>1</th>\n",
       "      <td>2021-12-19 06:00</td>\n",
       "    </tr>\n",
       "  </tbody>\n",
       "</table>\n",
       "</div>"
      ],
      "text/plain": [
       "        RECORD_TIME\n",
       "0  2021-12-19 06:30\n",
       "1  2021-12-19 06:00"
      ]
     },
     "execution_count": 3,
     "metadata": {},
     "output_type": "execute_result"
    }
   ],
   "source": [
    "timestamps"
   ]
  },
  {
   "cell_type": "code",
   "execution_count": 4,
   "id": "alternate-victory",
   "metadata": {
    "execution": {
     "iopub.execute_input": "2021-12-19T05:30:10.826392Z",
     "iopub.status.busy": "2021-12-19T05:30:10.824432Z",
     "iopub.status.idle": "2021-12-19T05:30:12.489010Z",
     "shell.execute_reply": "2021-12-19T05:30:12.490518Z"
    },
    "papermill": {
     "duration": 1.699682,
     "end_time": "2021-12-19T05:30:12.490980",
     "exception": false,
     "start_time": "2021-12-19T05:30:10.791298",
     "status": "completed"
    },
    "tags": []
   },
   "outputs": [],
   "source": [
    "df = pd.read_sql(\"select * from EBAY_TOP_BERLIN where record_time in (select distinct record_time from EBAY_TOP_BERLIN order by record_time desc limit 2)\", sqlite3.connect(\"UsedObjects.db\"))"
   ]
  },
  {
   "cell_type": "code",
   "execution_count": 5,
   "id": "popular-active",
   "metadata": {
    "execution": {
     "iopub.execute_input": "2021-12-19T05:30:12.560569Z",
     "iopub.status.busy": "2021-12-19T05:30:12.551990Z",
     "iopub.status.idle": "2021-12-19T05:30:12.586303Z",
     "shell.execute_reply": "2021-12-19T05:30:12.587960Z"
    },
    "papermill": {
     "duration": 0.076647,
     "end_time": "2021-12-19T05:30:12.588455",
     "exception": false,
     "start_time": "2021-12-19T05:30:12.511808",
     "status": "completed"
    },
    "tags": []
   },
   "outputs": [],
   "source": [
    "df_pivot = df.pivot_table(index=\"PRODUCT\", columns = \"RECORD_TIME\", values = \"LISTING_COUNT\")"
   ]
  },
  {
   "cell_type": "code",
   "execution_count": 6,
   "id": "union-huntington",
   "metadata": {
    "execution": {
     "iopub.execute_input": "2021-12-19T05:30:12.650282Z",
     "iopub.status.busy": "2021-12-19T05:30:12.647936Z",
     "iopub.status.idle": "2021-12-19T05:30:12.653808Z",
     "shell.execute_reply": "2021-12-19T05:30:12.655322Z"
    },
    "papermill": {
     "duration": 0.045334,
     "end_time": "2021-12-19T05:30:12.655798",
     "exception": false,
     "start_time": "2021-12-19T05:30:12.610464",
     "status": "completed"
    },
    "tags": []
   },
   "outputs": [],
   "source": [
    "df_pivot.columns = [\"stamp_1\", \"stamp_2\"]\n",
    "df_pivot_diff = df_pivot.diff(axis=1)"
   ]
  },
  {
   "cell_type": "code",
   "execution_count": 7,
   "id": "fifth-motion",
   "metadata": {
    "execution": {
     "iopub.execute_input": "2021-12-19T05:30:12.712587Z",
     "iopub.status.busy": "2021-12-19T05:30:12.710078Z",
     "iopub.status.idle": "2021-12-19T05:30:14.701581Z",
     "shell.execute_reply": "2021-12-19T05:30:14.702965Z"
    },
    "papermill": {
     "duration": 2.027136,
     "end_time": "2021-12-19T05:30:14.703393",
     "exception": false,
     "start_time": "2021-12-19T05:30:12.676257",
     "status": "completed"
    },
    "tags": []
   },
   "outputs": [
    {
     "data": {
      "text/plain": [
       "<AxesSubplot:ylabel='PRODUCT'>"
      ]
     },
     "execution_count": 7,
     "metadata": {},
     "output_type": "execute_result"
    },
    {
     "data": {
      "image/png": "[encoded data removed]",
      "text/plain": [
       "<Figure size 432x288 with 1 Axes>"
      ]
     },
     "metadata": {
      "needs_background": "light"
     },
     "output_type": "display_data"
    }
   ],
   "source": [
    "df_pivot_diff.sort_values(\"stamp_2\", ascending = False)[\"stamp_2\"].head(10).plot.barh()"
   ]
  },
  {
   "cell_type": "code",
   "execution_count": null,
   "id": "extra-executive",
   "metadata": {
    "papermill": {
     "duration": 0.022385,
     "end_time": "2021-12-19T05:30:14.750545",
     "exception": false,
     "start_time": "2021-12-19T05:30:14.728160",
     "status": "completed"
    },
    "tags": []
   },
   "outputs": [],
   "source": []
  }
 ],
 "metadata": {
  "kernelspec": {
   "display_name": "Python 3",
   "language": "python",
   "name": "python3"
  },
  "language_info": {
   "codemirror_mode": {
    "name": "ipython",
    "version": 3
   },
   "file_extension": ".py",
   "mimetype": "text/x-python",
   "name": "python",
   "nbconvert_exporter": "python",
   "pygments_lexer": "ipython3",
   "version": "3.9.5"
  },
  "papermill": {
   "default_parameters": {},
   "duration": 11.023634,
   "end_time": "2021-12-19T05:30:16.304481",
   "environment_variables": {},
   "exception": null,
   "input_path": "eBay_Overview.ipynb",
   "output_path": "eBay_Overview.ipynb",
   "parameters": {},
   "start_time": "2021-12-19T05:30:05.280847",
   "version": "2.3.3"
  }
 },
 "nbformat": 4,
 "nbformat_minor": 5
}