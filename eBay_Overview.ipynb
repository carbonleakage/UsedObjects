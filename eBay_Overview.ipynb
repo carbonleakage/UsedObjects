{
 "cells": [
  {
   "cell_type": "code",
   "execution_count": 1,
   "id": "reverse-picking",
   "metadata": {
    "execution": {
     "iopub.execute_input": "2021-11-29T10:30:07.830280Z",
     "iopub.status.busy": "2021-11-29T10:30:07.827483Z",
     "iopub.status.idle": "2021-11-29T10:30:08.798265Z",
     "shell.execute_reply": "2021-11-29T10:30:08.796251Z"
    },
    "papermill": {
     "duration": 1.018725,
     "end_time": "2021-11-29T10:30:08.798749",
     "exception": false,
     "start_time": "2021-11-29T10:30:07.780024",
     "status": "completed"
    },
    "tags": []
   },
   "outputs": [],
   "source": [
    "import pandas as pd\n",
    "import sqlite3"
   ]
  },
  {
   "cell_type": "code",
   "execution_count": 2,
   "id": "innovative-syndrome",
   "metadata": {
    "execution": {
     "iopub.execute_input": "2021-11-29T10:30:08.854816Z",
     "iopub.status.busy": "2021-11-29T10:30:08.852477Z",
     "iopub.status.idle": "2021-11-29T10:30:09.844791Z",
     "shell.execute_reply": "2021-11-29T10:30:09.846127Z"
    },
    "papermill": {
     "duration": 1.026221,
     "end_time": "2021-11-29T10:30:09.846544",
     "exception": false,
     "start_time": "2021-11-29T10:30:08.820323",
     "status": "completed"
    },
    "tags": []
   },
   "outputs": [],
   "source": [
    "timestamps = pd.read_sql(\"select distinct record_time from EBAY_TOP_BERLIN order by record_time desc limit 2\", sqlite3.connect(\"UsedObjects.db\"))"
   ]
  },
  {
   "cell_type": "code",
   "execution_count": 3,
   "id": "periodic-identification",
   "metadata": {
    "execution": {
     "iopub.execute_input": "2021-11-29T10:30:09.911782Z",
     "iopub.status.busy": "2021-11-29T10:30:09.909655Z",
     "iopub.status.idle": "2021-11-29T10:30:09.931819Z",
     "shell.execute_reply": "2021-11-29T10:30:09.930466Z"
    },
    "papermill": {
     "duration": 0.065916,
     "end_time": "2021-11-29T10:30:09.932159",
     "exception": false,
     "start_time": "2021-11-29T10:30:09.866243",
     "status": "completed"
    },
    "tags": []
   },
   "outputs": [
    {
     "data": {
      "text/html": [
       "<div>\n",
       "<style scoped>\n",
       "    .dataframe tbody tr th:only-of-type {\n",
       "        vertical-align: middle;\n",
       "    }\n",
       "\n",
       "    .dataframe tbody tr th {\n",
       "        vertical-align: top;\n",
       "    }\n",
       "\n",
       "    .dataframe thead th {\n",
       "        text-align: right;\n",
       "    }\n",
       "</style>\n",
       "<table border=\"1\" class=\"dataframe\">\n",
       "  <thead>\n",
       "    <tr style=\"text-align: right;\">\n",
       "      <th></th>\n",
       "      <th>RECORD_TIME</th>\n",
       "    </tr>\n",
       "  </thead>\n",
       "  <tbody>\n",
       "    <tr>\n",
       "      <th>0</th>\n",
       "      <td>2021-11-29 11:30</td>\n",
       "    </tr>\n",
       "    <tr>\n",
       "      <th>1</th>\n",
       "      <td>2021-11-29 11:00</td>\n",
       "    </tr>\n",
       "  </tbody>\n",
       "</table>\n",
       "</div>"
      ],
      "text/plain": [
       "        RECORD_TIME\n",
       "0  2021-11-29 11:30\n",
       "1  2021-11-29 11:00"
      ]
     },
     "execution_count": 3,
     "metadata": {},
     "output_type": "execute_result"
    }
   ],
   "source": [
    "timestamps"
   ]
  },
  {
   "cell_type": "code",
   "execution_count": 4,
   "id": "alternate-victory",
   "metadata": {
    "execution": {
     "iopub.execute_input": "2021-11-29T10:30:09.985679Z",
     "iopub.status.busy": "2021-11-29T10:30:09.983296Z",
     "iopub.status.idle": "2021-11-29T10:30:11.325775Z",
     "shell.execute_reply": "2021-11-29T10:30:11.327593Z"
    },
    "papermill": {
     "duration": 1.373489,
     "end_time": "2021-11-29T10:30:11.328062",
     "exception": false,
     "start_time": "2021-11-29T10:30:09.954573",
     "status": "completed"
    },
    "tags": []
   },
   "outputs": [],
   "source": [
    "df = pd.read_sql(\"select * from EBAY_TOP_BERLIN where record_time in (select distinct record_time from EBAY_TOP_BERLIN order by record_time desc limit 2)\", sqlite3.connect(\"UsedObjects.db\"))"
   ]
  },
  {
   "cell_type": "code",
   "execution_count": 5,
   "id": "popular-active",
   "metadata": {
    "execution": {
     "iopub.execute_input": "2021-11-29T10:30:11.397134Z",
     "iopub.status.busy": "2021-11-29T10:30:11.394601Z",
     "iopub.status.idle": "2021-11-29T10:30:11.430070Z",
     "shell.execute_reply": "2021-11-29T10:30:11.432106Z"
    },
    "papermill": {
     "duration": 0.081909,
     "end_time": "2021-11-29T10:30:11.432663",
     "exception": false,
     "start_time": "2021-11-29T10:30:11.350754",
     "status": "completed"
    },
    "tags": []
   },
   "outputs": [],
   "source": [
    "df_pivot = df.pivot_table(index=\"PRODUCT\", columns = \"RECORD_TIME\", values = \"LISTING_COUNT\")"
   ]
  },
  {
   "cell_type": "code",
   "execution_count": 6,
   "id": "union-huntington",
   "metadata": {
    "execution": {
     "iopub.execute_input": "2021-11-29T10:30:11.496307Z",
     "iopub.status.busy": "2021-11-29T10:30:11.493917Z",
     "iopub.status.idle": "2021-11-29T10:30:11.503952Z",
     "shell.execute_reply": "2021-11-29T10:30:11.502293Z"
    },
    "papermill": {
     "duration": 0.048843,
     "end_time": "2021-11-29T10:30:11.504369",
     "exception": false,
     "start_time": "2021-11-29T10:30:11.455526",
     "status": "completed"
    },
    "tags": []
   },
   "outputs": [],
   "source": [
    "df_pivot.columns = [\"stamp_1\", \"stamp_2\"]\n",
    "df_pivot_diff = df_pivot.diff(axis=1)"
   ]
  },
  {
   "cell_type": "code",
   "execution_count": 7,
   "id": "fifth-motion",
   "metadata": {
    "execution": {
     "iopub.execute_input": "2021-11-29T10:30:11.561144Z",
     "iopub.status.busy": "2021-11-29T10:30:11.558572Z",
     "iopub.status.idle": "2021-11-29T10:30:13.531006Z",
     "shell.execute_reply": "2021-11-29T10:30:13.533805Z"
    },
    "papermill": {
     "duration": 2.009429,
     "end_time": "2021-11-29T10:30:13.534584",
     "exception": false,
     "start_time": "2021-11-29T10:30:11.525155",
     "status": "completed"
    },
    "tags": []
   },
   "outputs": [
    {
     "data": {
      "text/plain": [
       "<AxesSubplot:ylabel='PRODUCT'>"
      ]
     },
     "execution_count": 7,
     "metadata": {},
     "output_type": "execute_result"
    },
    {
     "data": {
      "image/png": "[encoded data removed]",
      "text/plain": [
       "<Figure size 432x288 with 1 Axes>"
      ]
     },
     "metadata": {
      "needs_background": "light"
     },
     "output_type": "display_data"
    }
   ],
   "source": [
    "df_pivot_diff.sort_values(\"stamp_2\", ascending = False)[\"stamp_2\"].head(10).plot.barh()"
   ]
  },
  {
   "cell_type": "code",
   "execution_count": null,
   "id": "extra-executive",
   "metadata": {
    "papermill": {
     "duration": 0.029366,
     "end_time": "2021-11-29T10:30:13.600729",
     "exception": false,
     "start_time": "2021-11-29T10:30:13.571363",
     "status": "completed"
    },
    "tags": []
   },
   "outputs": [],
   "source": []
  }
 ],
 "metadata": {
  "kernelspec": {
   "display_name": "Python 3",
   "language": "python",
   "name": "python3"
  },
  "language_info": {
   "codemirror_mode": {
    "name": "ipython",
    "version": 3
   },
   "file_extension": ".py",
   "mimetype": "text/x-python",
   "name": "python",
   "nbconvert_exporter": "python",
   "pygments_lexer": "ipython3",
   "version": "3.9.5"
  },
  "papermill": {
   "default_parameters": {},
   "duration": 9.930679,
   "end_time": "2021-11-29T10:30:14.992022",
   "environment_variables": {},
   "exception": null,
   "input_path": "eBay_Overview.ipynb",
   "output_path": "eBay_Overview.ipynb",
   "parameters": {},
   "start_time": "2021-11-29T10:30:05.061343",
   "version": "2.3.3"
  }
 },
 "nbformat": 4,
 "nbformat_minor": 5
}