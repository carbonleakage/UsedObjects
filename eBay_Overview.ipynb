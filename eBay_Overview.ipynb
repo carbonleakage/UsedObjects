{
 "cells": [
  {
   "cell_type": "code",
   "execution_count": 1,
   "id": "reverse-picking",
   "metadata": {
    "execution": {
     "iopub.execute_input": "2021-12-07T16:30:08.105544Z",
     "iopub.status.busy": "2021-12-07T16:30:08.102605Z",
     "iopub.status.idle": "2021-12-07T16:30:09.058771Z",
     "shell.execute_reply": "2021-12-07T16:30:09.060288Z"
    },
    "papermill": {
     "duration": 1.006886,
     "end_time": "2021-12-07T16:30:09.061119",
     "exception": false,
     "start_time": "2021-12-07T16:30:08.054233",
     "status": "completed"
    },
    "tags": []
   },
   "outputs": [],
   "source": [
    "import pandas as pd\n",
    "import sqlite3"
   ]
  },
  {
   "cell_type": "code",
   "execution_count": 2,
   "id": "innovative-syndrome",
   "metadata": {
    "execution": {
     "iopub.execute_input": "2021-12-07T16:30:09.120101Z",
     "iopub.status.busy": "2021-12-07T16:30:09.117914Z",
     "iopub.status.idle": "2021-12-07T16:30:10.116306Z",
     "shell.execute_reply": "2021-12-07T16:30:10.117857Z"
    },
    "papermill": {
     "duration": 1.030206,
     "end_time": "2021-12-07T16:30:10.118329",
     "exception": false,
     "start_time": "2021-12-07T16:30:09.088123",
     "status": "completed"
    },
    "tags": []
   },
   "outputs": [],
   "source": [
    "timestamps = pd.read_sql(\"select distinct record_time from EBAY_TOP_BERLIN order by record_time desc limit 2\", sqlite3.connect(\"UsedObjects.db\"))"
   ]
  },
  {
   "cell_type": "code",
   "execution_count": 3,
   "id": "periodic-identification",
   "metadata": {
    "execution": {
     "iopub.execute_input": "2021-12-07T16:30:10.197915Z",
     "iopub.status.busy": "2021-12-07T16:30:10.194004Z",
     "iopub.status.idle": "2021-12-07T16:30:10.233312Z",
     "shell.execute_reply": "2021-12-07T16:30:10.236124Z"
    },
    "papermill": {
     "duration": 0.098966,
     "end_time": "2021-12-07T16:30:10.236935",
     "exception": false,
     "start_time": "2021-12-07T16:30:10.137969",
     "status": "completed"
    },
    "tags": []
   },
   "outputs": [
    {
     "data": {
      "text/html": [
       "<div>\n",
       "<style scoped>\n",
       "    .dataframe tbody tr th:only-of-type {\n",
       "        vertical-align: middle;\n",
       "    }\n",
       "\n",
       "    .dataframe tbody tr th {\n",
       "        vertical-align: top;\n",
       "    }\n",
       "\n",
       "    .dataframe thead th {\n",
       "        text-align: right;\n",
       "    }\n",
       "</style>\n",
       "<table border=\"1\" class=\"dataframe\">\n",
       "  <thead>\n",
       "    <tr style=\"text-align: right;\">\n",
       "      <th></th>\n",
       "      <th>RECORD_TIME</th>\n",
       "    </tr>\n",
       "  </thead>\n",
       "  <tbody>\n",
       "    <tr>\n",
       "      <th>0</th>\n",
       "      <td>2021-12-07 17:30</td>\n",
       "    </tr>\n",
       "    <tr>\n",
       "      <th>1</th>\n",
       "      <td>2021-12-07 17:00</td>\n",
       "    </tr>\n",
       "  </tbody>\n",
       "</table>\n",
       "</div>"
      ],
      "text/plain": [
       "        RECORD_TIME\n",
       "0  2021-12-07 17:30\n",
       "1  2021-12-07 17:00"
      ]
     },
     "execution_count": 3,
     "metadata": {},
     "output_type": "execute_result"
    }
   ],
   "source": [
    "timestamps"
   ]
  },
  {
   "cell_type": "code",
   "execution_count": 4,
   "id": "alternate-victory",
   "metadata": {
    "execution": {
     "iopub.execute_input": "2021-12-07T16:30:10.301152Z",
     "iopub.status.busy": "2021-12-07T16:30:10.298888Z",
     "iopub.status.idle": "2021-12-07T16:30:11.756058Z",
     "shell.execute_reply": "2021-12-07T16:30:11.759296Z"
    },
    "papermill": {
     "duration": 1.494558,
     "end_time": "2021-12-07T16:30:11.760032",
     "exception": false,
     "start_time": "2021-12-07T16:30:10.265474",
     "status": "completed"
    },
    "tags": []
   },
   "outputs": [],
   "source": [
    "df = pd.read_sql(\"select * from EBAY_TOP_BERLIN where record_time in (select distinct record_time from EBAY_TOP_BERLIN order by record_time desc limit 2)\", sqlite3.connect(\"UsedObjects.db\"))"
   ]
  },
  {
   "cell_type": "code",
   "execution_count": 5,
   "id": "popular-active",
   "metadata": {
    "execution": {
     "iopub.execute_input": "2021-12-07T16:30:11.879742Z",
     "iopub.status.busy": "2021-12-07T16:30:11.857685Z",
     "iopub.status.idle": "2021-12-07T16:30:11.914428Z",
     "shell.execute_reply": "2021-12-07T16:30:11.917476Z"
    },
    "papermill": {
     "duration": 0.128176,
     "end_time": "2021-12-07T16:30:11.918347",
     "exception": false,
     "start_time": "2021-12-07T16:30:11.790171",
     "status": "completed"
    },
    "tags": []
   },
   "outputs": [],
   "source": [
    "df_pivot = df.pivot_table(index=\"PRODUCT\", columns = \"RECORD_TIME\", values = \"LISTING_COUNT\")"
   ]
  },
  {
   "cell_type": "code",
   "execution_count": 6,
   "id": "union-huntington",
   "metadata": {
    "execution": {
     "iopub.execute_input": "2021-12-07T16:30:12.006659Z",
     "iopub.status.busy": "2021-12-07T16:30:12.003948Z",
     "iopub.status.idle": "2021-12-07T16:30:12.010730Z",
     "shell.execute_reply": "2021-12-07T16:30:12.012747Z"
    },
    "papermill": {
     "duration": 0.062409,
     "end_time": "2021-12-07T16:30:12.013394",
     "exception": false,
     "start_time": "2021-12-07T16:30:11.950985",
     "status": "completed"
    },
    "tags": []
   },
   "outputs": [],
   "source": [
    "df_pivot.columns = [\"stamp_1\", \"stamp_2\"]\n",
    "df_pivot_diff = df_pivot.diff(axis=1)"
   ]
  },
  {
   "cell_type": "code",
   "execution_count": 7,
   "id": "fifth-motion",
   "metadata": {
    "execution": {
     "iopub.execute_input": "2021-12-07T16:30:12.097484Z",
     "iopub.status.busy": "2021-12-07T16:30:12.093340Z",
     "iopub.status.idle": "2021-12-07T16:30:13.804871Z",
     "shell.execute_reply": "2021-12-07T16:30:13.806266Z"
    },
    "papermill": {
     "duration": 1.768925,
     "end_time": "2021-12-07T16:30:13.806721",
     "exception": false,
     "start_time": "2021-12-07T16:30:12.037796",
     "status": "completed"
    },
    "tags": []
   },
   "outputs": [
    {
     "data": {
      "text/plain": [
       "<AxesSubplot:ylabel='PRODUCT'>"
      ]
     },
     "execution_count": 7,
     "metadata": {},
     "output_type": "execute_result"
    },
    {
     "data": {
      "image/png": "[encoded data removed]",
      "text/plain": [
       "<Figure size 432x288 with 1 Axes>"
      ]
     },
     "metadata": {
      "needs_background": "light"
     },
     "output_type": "display_data"
    }
   ],
   "source": [
    "df_pivot_diff.sort_values(\"stamp_2\", ascending = False)[\"stamp_2\"].head(10).plot.barh()"
   ]
  },
  {
   "cell_type": "code",
   "execution_count": null,
   "id": "extra-executive",
   "metadata": {
    "papermill": {
     "duration": 0.022113,
     "end_time": "2021-12-07T16:30:13.853759",
     "exception": false,
     "start_time": "2021-12-07T16:30:13.831646",
     "status": "completed"
    },
    "tags": []
   },
   "outputs": [],
   "source": []
  }
 ],
 "metadata": {
  "kernelspec": {
   "display_name": "Python 3",
   "language": "python",
   "name": "python3"
  },
  "language_info": {
   "codemirror_mode": {
    "name": "ipython",
    "version": 3
   },
   "file_extension": ".py",
   "mimetype": "text/x-python",
   "name": "python",
   "nbconvert_exporter": "python",
   "pygments_lexer": "ipython3",
   "version": "3.9.5"
  },
  "papermill": {
   "default_parameters": {},
   "duration": 9.946262,
   "end_time": "2021-12-07T16:30:15.282248",
   "environment_variables": {},
   "exception": null,
   "input_path": "eBay_Overview.ipynb",
   "output_path": "eBay_Overview.ipynb",
   "parameters": {},
   "start_time": "2021-12-07T16:30:05.335986",
   "version": "2.3.3"
  }
 },
 "nbformat": 4,
 "nbformat_minor": 5
}