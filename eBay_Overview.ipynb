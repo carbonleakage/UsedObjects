{
 "cells": [
  {
   "cell_type": "code",
   "execution_count": 1,
   "id": "reverse-picking",
   "metadata": {
    "execution": {
     "iopub.execute_input": "2021-08-15T09:30:07.235302Z",
     "iopub.status.busy": "2021-08-15T09:30:07.233216Z",
     "iopub.status.idle": "2021-08-15T09:30:08.042554Z",
     "shell.execute_reply": "2021-08-15T09:30:08.043997Z"
    },
    "papermill": {
     "duration": 0.858964,
     "end_time": "2021-08-15T09:30:08.044682",
     "exception": false,
     "start_time": "2021-08-15T09:30:07.185718",
     "status": "completed"
    },
    "tags": []
   },
   "outputs": [],
   "source": [
    "import pandas as pd\n",
    "import sqlite3"
   ]
  },
  {
   "cell_type": "code",
   "execution_count": 2,
   "id": "innovative-syndrome",
   "metadata": {
    "execution": {
     "iopub.execute_input": "2021-08-15T09:30:08.096284Z",
     "iopub.status.busy": "2021-08-15T09:30:08.093847Z",
     "iopub.status.idle": "2021-08-15T09:30:08.149014Z",
     "shell.execute_reply": "2021-08-15T09:30:08.150419Z"
    },
    "papermill": {
     "duration": 0.08562,
     "end_time": "2021-08-15T09:30:08.150845",
     "exception": false,
     "start_time": "2021-08-15T09:30:08.065225",
     "status": "completed"
    },
    "tags": []
   },
   "outputs": [],
   "source": [
    "timestamps = pd.read_sql(\"select distinct record_time from EBAY_TOP_BERLIN order by record_time desc limit 2\", sqlite3.connect(\"UsedObjects.db\"))"
   ]
  },
  {
   "cell_type": "code",
   "execution_count": 3,
   "id": "periodic-identification",
   "metadata": {
    "execution": {
     "iopub.execute_input": "2021-08-15T09:30:08.219376Z",
     "iopub.status.busy": "2021-08-15T09:30:08.217250Z",
     "iopub.status.idle": "2021-08-15T09:30:08.237069Z",
     "shell.execute_reply": "2021-08-15T09:30:08.238456Z"
    },
    "papermill": {
     "duration": 0.067048,
     "end_time": "2021-08-15T09:30:08.238889",
     "exception": false,
     "start_time": "2021-08-15T09:30:08.171841",
     "status": "completed"
    },
    "tags": []
   },
   "outputs": [
    {
     "data": {
      "text/html": [
       "<div>\n",
       "<style scoped>\n",
       "    .dataframe tbody tr th:only-of-type {\n",
       "        vertical-align: middle;\n",
       "    }\n",
       "\n",
       "    .dataframe tbody tr th {\n",
       "        vertical-align: top;\n",
       "    }\n",
       "\n",
       "    .dataframe thead th {\n",
       "        text-align: right;\n",
       "    }\n",
       "</style>\n",
       "<table border=\"1\" class=\"dataframe\">\n",
       "  <thead>\n",
       "    <tr style=\"text-align: right;\">\n",
       "      <th></th>\n",
       "      <th>RECORD_TIME</th>\n",
       "    </tr>\n",
       "  </thead>\n",
       "  <tbody>\n",
       "    <tr>\n",
       "      <th>0</th>\n",
       "      <td>2021-08-15 11:30</td>\n",
       "    </tr>\n",
       "    <tr>\n",
       "      <th>1</th>\n",
       "      <td>2021-08-15 11:00</td>\n",
       "    </tr>\n",
       "  </tbody>\n",
       "</table>\n",
       "</div>"
      ],
      "text/plain": [
       "        RECORD_TIME\n",
       "0  2021-08-15 11:30\n",
       "1  2021-08-15 11:00"
      ]
     },
     "execution_count": 3,
     "metadata": {},
     "output_type": "execute_result"
    }
   ],
   "source": [
    "timestamps"
   ]
  },
  {
   "cell_type": "code",
   "execution_count": 4,
   "id": "alternate-victory",
   "metadata": {
    "execution": {
     "iopub.execute_input": "2021-08-15T09:30:08.289796Z",
     "iopub.status.busy": "2021-08-15T09:30:08.287932Z",
     "iopub.status.idle": "2021-08-15T09:30:08.366873Z",
     "shell.execute_reply": "2021-08-15T09:30:08.368093Z"
    },
    "papermill": {
     "duration": 0.109078,
     "end_time": "2021-08-15T09:30:08.368492",
     "exception": false,
     "start_time": "2021-08-15T09:30:08.259414",
     "status": "completed"
    },
    "tags": []
   },
   "outputs": [],
   "source": [
    "df = pd.read_sql(\"select * from EBAY_TOP_BERLIN where record_time in (select distinct record_time from EBAY_TOP_BERLIN order by record_time desc limit 2)\", sqlite3.connect(\"UsedObjects.db\"))"
   ]
  },
  {
   "cell_type": "code",
   "execution_count": 5,
   "id": "popular-active",
   "metadata": {
    "execution": {
     "iopub.execute_input": "2021-08-15T09:30:08.441654Z",
     "iopub.status.busy": "2021-08-15T09:30:08.428978Z",
     "iopub.status.idle": "2021-08-15T09:30:08.458103Z",
     "shell.execute_reply": "2021-08-15T09:30:08.459419Z"
    },
    "papermill": {
     "duration": 0.069184,
     "end_time": "2021-08-15T09:30:08.459840",
     "exception": false,
     "start_time": "2021-08-15T09:30:08.390656",
     "status": "completed"
    },
    "tags": []
   },
   "outputs": [],
   "source": [
    "df_pivot = df.pivot_table(index=\"PRODUCT\", columns = \"RECORD_TIME\", values = \"LISTING_COUNT\")"
   ]
  },
  {
   "cell_type": "code",
   "execution_count": 6,
   "id": "union-huntington",
   "metadata": {
    "execution": {
     "iopub.execute_input": "2021-08-15T09:30:08.516911Z",
     "iopub.status.busy": "2021-08-15T09:30:08.514841Z",
     "iopub.status.idle": "2021-08-15T09:30:08.520111Z",
     "shell.execute_reply": "2021-08-15T09:30:08.521379Z"
    },
    "papermill": {
     "duration": 0.040528,
     "end_time": "2021-08-15T09:30:08.521796",
     "exception": false,
     "start_time": "2021-08-15T09:30:08.481268",
     "status": "completed"
    },
    "tags": []
   },
   "outputs": [],
   "source": [
    "df_pivot.columns = [\"stamp_1\", \"stamp_2\"]\n",
    "df_pivot_diff = df_pivot.diff(axis=1)"
   ]
  },
  {
   "cell_type": "code",
   "execution_count": 7,
   "id": "fifth-motion",
   "metadata": {
    "execution": {
     "iopub.execute_input": "2021-08-15T09:30:08.580068Z",
     "iopub.status.busy": "2021-08-15T09:30:08.577577Z",
     "iopub.status.idle": "2021-08-15T09:30:10.064637Z",
     "shell.execute_reply": "2021-08-15T09:30:10.066128Z"
    },
    "papermill": {
     "duration": 1.520929,
     "end_time": "2021-08-15T09:30:10.066576",
     "exception": false,
     "start_time": "2021-08-15T09:30:08.545647",
     "status": "completed"
    },
    "tags": []
   },
   "outputs": [
    {
     "data": {
      "text/plain": [
       "<AxesSubplot:ylabel='PRODUCT'>"
      ]
     },
     "execution_count": 7,
     "metadata": {},
     "output_type": "execute_result"
    },
    {
     "data": {
      "image/png": "[encoded data removed]",
      "text/plain": [
       "<Figure size 432x288 with 1 Axes>"
      ]
     },
     "metadata": {
      "needs_background": "light"
     },
     "output_type": "display_data"
    }
   ],
   "source": [
    "df_pivot_diff.sort_values(\"stamp_2\", ascending = False)[\"stamp_2\"].head(10).plot.barh()"
   ]
  },
  {
   "cell_type": "code",
   "execution_count": null,
   "id": "extra-executive",
   "metadata": {
    "papermill": {
     "duration": 0.022409,
     "end_time": "2021-08-15T09:30:10.115119",
     "exception": false,
     "start_time": "2021-08-15T09:30:10.092710",
     "status": "completed"
    },
    "tags": []
   },
   "outputs": [],
   "source": []
  }
 ],
 "metadata": {
  "kernelspec": {
   "display_name": "Python 3",
   "language": "python",
   "name": "python3"
  },
  "language_info": {
   "codemirror_mode": {
    "name": "ipython",
    "version": 3
   },
   "file_extension": ".py",
   "mimetype": "text/x-python",
   "name": "python",
   "nbconvert_exporter": "python",
   "pygments_lexer": "ipython3",
   "version": "3.9.5"
  },
  "papermill": {
   "default_parameters": {},
   "duration": 6.82987,
   "end_time": "2021-08-15T09:30:11.594211",
   "environment_variables": {},
   "exception": null,
   "input_path": "eBay_Overview.ipynb",
   "output_path": "eBay_Overview.ipynb",
   "parameters": {},
   "start_time": "2021-08-15T09:30:04.764341",
   "version": "2.3.3"
  }
 },
 "nbformat": 4,
 "nbformat_minor": 5
}