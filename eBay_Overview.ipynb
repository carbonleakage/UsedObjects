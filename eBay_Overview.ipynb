{
 "cells": [
  {
   "cell_type": "code",
   "execution_count": 1,
   "id": "reverse-picking",
   "metadata": {
    "execution": {
     "iopub.execute_input": "2021-10-30T05:00:06.844108Z",
     "iopub.status.busy": "2021-10-30T05:00:06.842153Z",
     "iopub.status.idle": "2021-10-30T05:00:07.645775Z",
     "shell.execute_reply": "2021-10-30T05:00:07.647054Z"
    },
    "papermill": {
     "duration": 0.85409,
     "end_time": "2021-10-30T05:00:07.647661",
     "exception": false,
     "start_time": "2021-10-30T05:00:06.793571",
     "status": "completed"
    },
    "tags": []
   },
   "outputs": [],
   "source": [
    "import pandas as pd\n",
    "import sqlite3"
   ]
  },
  {
   "cell_type": "code",
   "execution_count": 2,
   "id": "innovative-syndrome",
   "metadata": {
    "execution": {
     "iopub.execute_input": "2021-10-30T05:00:07.698505Z",
     "iopub.status.busy": "2021-10-30T05:00:07.696577Z",
     "iopub.status.idle": "2021-10-30T05:00:08.387687Z",
     "shell.execute_reply": "2021-10-30T05:00:08.389039Z"
    },
    "papermill": {
     "duration": 0.720908,
     "end_time": "2021-10-30T05:00:08.389472",
     "exception": false,
     "start_time": "2021-10-30T05:00:07.668564",
     "status": "completed"
    },
    "tags": []
   },
   "outputs": [],
   "source": [
    "timestamps = pd.read_sql(\"select distinct record_time from EBAY_TOP_BERLIN order by record_time desc limit 2\", sqlite3.connect(\"UsedObjects.db\"))"
   ]
  },
  {
   "cell_type": "code",
   "execution_count": 3,
   "id": "periodic-identification",
   "metadata": {
    "execution": {
     "iopub.execute_input": "2021-10-30T05:00:08.454760Z",
     "iopub.status.busy": "2021-10-30T05:00:08.452755Z",
     "iopub.status.idle": "2021-10-30T05:00:08.472479Z",
     "shell.execute_reply": "2021-10-30T05:00:08.473665Z"
    },
    "papermill": {
     "duration": 0.064881,
     "end_time": "2021-10-30T05:00:08.474074",
     "exception": false,
     "start_time": "2021-10-30T05:00:08.409193",
     "status": "completed"
    },
    "tags": []
   },
   "outputs": [
    {
     "data": {
      "text/html": [
       "<div>\n",
       "<style scoped>\n",
       "    .dataframe tbody tr th:only-of-type {\n",
       "        vertical-align: middle;\n",
       "    }\n",
       "\n",
       "    .dataframe tbody tr th {\n",
       "        vertical-align: top;\n",
       "    }\n",
       "\n",
       "    .dataframe thead th {\n",
       "        text-align: right;\n",
       "    }\n",
       "</style>\n",
       "<table border=\"1\" class=\"dataframe\">\n",
       "  <thead>\n",
       "    <tr style=\"text-align: right;\">\n",
       "      <th></th>\n",
       "      <th>RECORD_TIME</th>\n",
       "    </tr>\n",
       "  </thead>\n",
       "  <tbody>\n",
       "    <tr>\n",
       "      <th>0</th>\n",
       "      <td>2021-10-30 07:00</td>\n",
       "    </tr>\n",
       "    <tr>\n",
       "      <th>1</th>\n",
       "      <td>2021-10-30 06:30</td>\n",
       "    </tr>\n",
       "  </tbody>\n",
       "</table>\n",
       "</div>"
      ],
      "text/plain": [
       "        RECORD_TIME\n",
       "0  2021-10-30 07:00\n",
       "1  2021-10-30 06:30"
      ]
     },
     "execution_count": 3,
     "metadata": {},
     "output_type": "execute_result"
    }
   ],
   "source": [
    "timestamps"
   ]
  },
  {
   "cell_type": "code",
   "execution_count": 4,
   "id": "alternate-victory",
   "metadata": {
    "execution": {
     "iopub.execute_input": "2021-10-30T05:00:08.525521Z",
     "iopub.status.busy": "2021-10-30T05:00:08.523573Z",
     "iopub.status.idle": "2021-10-30T05:00:09.495519Z",
     "shell.execute_reply": "2021-10-30T05:00:09.496917Z"
    },
    "papermill": {
     "duration": 1.002182,
     "end_time": "2021-10-30T05:00:09.497344",
     "exception": false,
     "start_time": "2021-10-30T05:00:08.495162",
     "status": "completed"
    },
    "tags": []
   },
   "outputs": [],
   "source": [
    "df = pd.read_sql(\"select * from EBAY_TOP_BERLIN where record_time in (select distinct record_time from EBAY_TOP_BERLIN order by record_time desc limit 2)\", sqlite3.connect(\"UsedObjects.db\"))"
   ]
  },
  {
   "cell_type": "code",
   "execution_count": 5,
   "id": "popular-active",
   "metadata": {
    "execution": {
     "iopub.execute_input": "2021-10-30T05:00:09.569885Z",
     "iopub.status.busy": "2021-10-30T05:00:09.557867Z",
     "iopub.status.idle": "2021-10-30T05:00:09.585470Z",
     "shell.execute_reply": "2021-10-30T05:00:09.586700Z"
    },
    "papermill": {
     "duration": 0.067741,
     "end_time": "2021-10-30T05:00:09.587093",
     "exception": false,
     "start_time": "2021-10-30T05:00:09.519352",
     "status": "completed"
    },
    "tags": []
   },
   "outputs": [],
   "source": [
    "df_pivot = df.pivot_table(index=\"PRODUCT\", columns = \"RECORD_TIME\", values = \"LISTING_COUNT\")"
   ]
  },
  {
   "cell_type": "code",
   "execution_count": 6,
   "id": "union-huntington",
   "metadata": {
    "execution": {
     "iopub.execute_input": "2021-10-30T05:00:09.645972Z",
     "iopub.status.busy": "2021-10-30T05:00:09.643485Z",
     "iopub.status.idle": "2021-10-30T05:00:09.649220Z",
     "shell.execute_reply": "2021-10-30T05:00:09.650510Z"
    },
    "papermill": {
     "duration": 0.042023,
     "end_time": "2021-10-30T05:00:09.650921",
     "exception": false,
     "start_time": "2021-10-30T05:00:09.608898",
     "status": "completed"
    },
    "tags": []
   },
   "outputs": [],
   "source": [
    "df_pivot.columns = [\"stamp_1\", \"stamp_2\"]\n",
    "df_pivot_diff = df_pivot.diff(axis=1)"
   ]
  },
  {
   "cell_type": "code",
   "execution_count": 7,
   "id": "fifth-motion",
   "metadata": {
    "execution": {
     "iopub.execute_input": "2021-10-30T05:00:09.704851Z",
     "iopub.status.busy": "2021-10-30T05:00:09.702481Z",
     "iopub.status.idle": "2021-10-30T05:00:11.188210Z",
     "shell.execute_reply": "2021-10-30T05:00:11.189880Z"
    },
    "papermill": {
     "duration": 1.518684,
     "end_time": "2021-10-30T05:00:11.190375",
     "exception": false,
     "start_time": "2021-10-30T05:00:09.671691",
     "status": "completed"
    },
    "tags": []
   },
   "outputs": [
    {
     "data": {
      "text/plain": [
       "<AxesSubplot:ylabel='PRODUCT'>"
      ]
     },
     "execution_count": 7,
     "metadata": {},
     "output_type": "execute_result"
    },
    {
     "data": {
      "image/png": "[encoded data removed]",
      "text/plain": [
       "<Figure size 432x288 with 1 Axes>"
      ]
     },
     "metadata": {
      "needs_background": "light"
     },
     "output_type": "display_data"
    }
   ],
   "source": [
    "df_pivot_diff.sort_values(\"stamp_2\", ascending = False)[\"stamp_2\"].head(10).plot.barh()"
   ]
  },
  {
   "cell_type": "code",
   "execution_count": null,
   "id": "extra-executive",
   "metadata": {
    "papermill": {
     "duration": 0.022183,
     "end_time": "2021-10-30T05:00:11.237592",
     "exception": false,
     "start_time": "2021-10-30T05:00:11.215409",
     "status": "completed"
    },
    "tags": []
   },
   "outputs": [],
   "source": []
  }
 ],
 "metadata": {
  "kernelspec": {
   "display_name": "Python 3",
   "language": "python",
   "name": "python3"
  },
  "language_info": {
   "codemirror_mode": {
    "name": "ipython",
    "version": 3
   },
   "file_extension": ".py",
   "mimetype": "text/x-python",
   "name": "python",
   "nbconvert_exporter": "python",
   "pygments_lexer": "ipython3",
   "version": "3.9.5"
  },
  "papermill": {
   "default_parameters": {},
   "duration": 7.486109,
   "end_time": "2021-10-30T05:00:11.880988",
   "environment_variables": {},
   "exception": null,
   "input_path": "eBay_Overview.ipynb",
   "output_path": "eBay_Overview.ipynb",
   "parameters": {},
   "start_time": "2021-10-30T05:00:04.394879",
   "version": "2.3.3"
  }
 },
 "nbformat": 4,
 "nbformat_minor": 5
}