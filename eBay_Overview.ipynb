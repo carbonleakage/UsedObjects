{
 "cells": [
  {
   "cell_type": "code",
   "execution_count": 1,
   "id": "reverse-picking",
   "metadata": {
    "execution": {
     "iopub.execute_input": "2021-12-09T21:30:08.043114Z",
     "iopub.status.busy": "2021-12-09T21:30:08.040547Z",
     "iopub.status.idle": "2021-12-09T21:30:09.006433Z",
     "shell.execute_reply": "2021-12-09T21:30:09.007984Z"
    },
    "papermill": {
     "duration": 1.016015,
     "end_time": "2021-12-09T21:30:09.008831",
     "exception": false,
     "start_time": "2021-12-09T21:30:07.992816",
     "status": "completed"
    },
    "tags": []
   },
   "outputs": [],
   "source": [
    "import pandas as pd\n",
    "import sqlite3"
   ]
  },
  {
   "cell_type": "code",
   "execution_count": 2,
   "id": "innovative-syndrome",
   "metadata": {
    "execution": {
     "iopub.execute_input": "2021-12-09T21:30:09.077890Z",
     "iopub.status.busy": "2021-12-09T21:30:09.074413Z",
     "iopub.status.idle": "2021-12-09T21:30:10.095269Z",
     "shell.execute_reply": "2021-12-09T21:30:10.096598Z"
    },
    "papermill": {
     "duration": 1.058046,
     "end_time": "2021-12-09T21:30:10.097129",
     "exception": false,
     "start_time": "2021-12-09T21:30:09.039083",
     "status": "completed"
    },
    "tags": []
   },
   "outputs": [],
   "source": [
    "timestamps = pd.read_sql(\"select distinct record_time from EBAY_TOP_BERLIN order by record_time desc limit 2\", sqlite3.connect(\"UsedObjects.db\"))"
   ]
  },
  {
   "cell_type": "code",
   "execution_count": 3,
   "id": "periodic-identification",
   "metadata": {
    "execution": {
     "iopub.execute_input": "2021-12-09T21:30:10.166437Z",
     "iopub.status.busy": "2021-12-09T21:30:10.164161Z",
     "iopub.status.idle": "2021-12-09T21:30:10.186461Z",
     "shell.execute_reply": "2021-12-09T21:30:10.187885Z"
    },
    "papermill": {
     "duration": 0.070591,
     "end_time": "2021-12-09T21:30:10.188323",
     "exception": false,
     "start_time": "2021-12-09T21:30:10.117732",
     "status": "completed"
    },
    "tags": []
   },
   "outputs": [
    {
     "data": {
      "text/html": [
       "<div>\n",
       "<style scoped>\n",
       "    .dataframe tbody tr th:only-of-type {\n",
       "        vertical-align: middle;\n",
       "    }\n",
       "\n",
       "    .dataframe tbody tr th {\n",
       "        vertical-align: top;\n",
       "    }\n",
       "\n",
       "    .dataframe thead th {\n",
       "        text-align: right;\n",
       "    }\n",
       "</style>\n",
       "<table border=\"1\" class=\"dataframe\">\n",
       "  <thead>\n",
       "    <tr style=\"text-align: right;\">\n",
       "      <th></th>\n",
       "      <th>RECORD_TIME</th>\n",
       "    </tr>\n",
       "  </thead>\n",
       "  <tbody>\n",
       "    <tr>\n",
       "      <th>0</th>\n",
       "      <td>2021-12-09 22:30</td>\n",
       "    </tr>\n",
       "    <tr>\n",
       "      <th>1</th>\n",
       "      <td>2021-12-09 22:00</td>\n",
       "    </tr>\n",
       "  </tbody>\n",
       "</table>\n",
       "</div>"
      ],
      "text/plain": [
       "        RECORD_TIME\n",
       "0  2021-12-09 22:30\n",
       "1  2021-12-09 22:00"
      ]
     },
     "execution_count": 3,
     "metadata": {},
     "output_type": "execute_result"
    }
   ],
   "source": [
    "timestamps"
   ]
  },
  {
   "cell_type": "code",
   "execution_count": 4,
   "id": "alternate-victory",
   "metadata": {
    "execution": {
     "iopub.execute_input": "2021-12-09T21:30:10.245891Z",
     "iopub.status.busy": "2021-12-09T21:30:10.242279Z",
     "iopub.status.idle": "2021-12-09T21:30:11.724230Z",
     "shell.execute_reply": "2021-12-09T21:30:11.725808Z"
    },
    "papermill": {
     "duration": 1.516889,
     "end_time": "2021-12-09T21:30:11.726282",
     "exception": false,
     "start_time": "2021-12-09T21:30:10.209393",
     "status": "completed"
    },
    "tags": []
   },
   "outputs": [],
   "source": [
    "df = pd.read_sql(\"select * from EBAY_TOP_BERLIN where record_time in (select distinct record_time from EBAY_TOP_BERLIN order by record_time desc limit 2)\", sqlite3.connect(\"UsedObjects.db\"))"
   ]
  },
  {
   "cell_type": "code",
   "execution_count": 5,
   "id": "popular-active",
   "metadata": {
    "execution": {
     "iopub.execute_input": "2021-12-09T21:30:11.808339Z",
     "iopub.status.busy": "2021-12-09T21:30:11.804365Z",
     "iopub.status.idle": "2021-12-09T21:30:11.866379Z",
     "shell.execute_reply": "2021-12-09T21:30:11.868790Z"
    },
    "papermill": {
     "duration": 0.122581,
     "end_time": "2021-12-09T21:30:11.869416",
     "exception": false,
     "start_time": "2021-12-09T21:30:11.746835",
     "status": "completed"
    },
    "tags": []
   },
   "outputs": [],
   "source": [
    "df_pivot = df.pivot_table(index=\"PRODUCT\", columns = \"RECORD_TIME\", values = \"LISTING_COUNT\")"
   ]
  },
  {
   "cell_type": "code",
   "execution_count": 6,
   "id": "union-huntington",
   "metadata": {
    "execution": {
     "iopub.execute_input": "2021-12-09T21:30:11.960834Z",
     "iopub.status.busy": "2021-12-09T21:30:11.957146Z",
     "iopub.status.idle": "2021-12-09T21:30:11.967756Z",
     "shell.execute_reply": "2021-12-09T21:30:11.970139Z"
    },
    "papermill": {
     "duration": 0.071998,
     "end_time": "2021-12-09T21:30:11.970796",
     "exception": false,
     "start_time": "2021-12-09T21:30:11.898798",
     "status": "completed"
    },
    "tags": []
   },
   "outputs": [],
   "source": [
    "df_pivot.columns = [\"stamp_1\", \"stamp_2\"]\n",
    "df_pivot_diff = df_pivot.diff(axis=1)"
   ]
  },
  {
   "cell_type": "code",
   "execution_count": 7,
   "id": "fifth-motion",
   "metadata": {
    "execution": {
     "iopub.execute_input": "2021-12-09T21:30:12.062338Z",
     "iopub.status.busy": "2021-12-09T21:30:12.057685Z",
     "iopub.status.idle": "2021-12-09T21:30:13.825301Z",
     "shell.execute_reply": "2021-12-09T21:30:13.826614Z"
    },
    "papermill": {
     "duration": 1.82601,
     "end_time": "2021-12-09T21:30:13.827035",
     "exception": false,
     "start_time": "2021-12-09T21:30:12.001025",
     "status": "completed"
    },
    "tags": []
   },
   "outputs": [
    {
     "data": {
      "text/plain": [
       "<AxesSubplot:ylabel='PRODUCT'>"
      ]
     },
     "execution_count": 7,
     "metadata": {},
     "output_type": "execute_result"
    },
    {
     "data": {
      "image/png": "[encoded data removed]",
      "text/plain": [
       "<Figure size 432x288 with 1 Axes>"
      ]
     },
     "metadata": {
      "needs_background": "light"
     },
     "output_type": "display_data"
    }
   ],
   "source": [
    "df_pivot_diff.sort_values(\"stamp_2\", ascending = False)[\"stamp_2\"].head(10).plot.barh()"
   ]
  },
  {
   "cell_type": "code",
   "execution_count": null,
   "id": "extra-executive",
   "metadata": {
    "papermill": {
     "duration": 0.021731,
     "end_time": "2021-12-09T21:30:13.873204",
     "exception": false,
     "start_time": "2021-12-09T21:30:13.851473",
     "status": "completed"
    },
    "tags": []
   },
   "outputs": [],
   "source": []
  }
 ],
 "metadata": {
  "kernelspec": {
   "display_name": "Python 3",
   "language": "python",
   "name": "python3"
  },
  "language_info": {
   "codemirror_mode": {
    "name": "ipython",
    "version": 3
   },
   "file_extension": ".py",
   "mimetype": "text/x-python",
   "name": "python",
   "nbconvert_exporter": "python",
   "pygments_lexer": "ipython3",
   "version": "3.9.5"
  },
  "papermill": {
   "default_parameters": {},
   "duration": 9.957366,
   "end_time": "2021-12-09T21:30:15.209662",
   "environment_variables": {},
   "exception": null,
   "input_path": "eBay_Overview.ipynb",
   "output_path": "eBay_Overview.ipynb",
   "parameters": {},
   "start_time": "2021-12-09T21:30:05.252296",
   "version": "2.3.3"
  }
 },
 "nbformat": 4,
 "nbformat_minor": 5
}