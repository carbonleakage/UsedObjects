{
 "cells": [
  {
   "cell_type": "code",
   "execution_count": 1,
   "id": "reverse-picking",
   "metadata": {
    "execution": {
     "iopub.execute_input": "2021-08-11T12:30:04.470759Z",
     "iopub.status.busy": "2021-08-11T12:30:04.469997Z",
     "iopub.status.idle": "2021-08-11T12:30:05.071974Z",
     "shell.execute_reply": "2021-08-11T12:30:05.072560Z"
    },
    "papermill": {
     "duration": 0.621858,
     "end_time": "2021-08-11T12:30:05.072861",
     "exception": false,
     "start_time": "2021-08-11T12:30:04.451003",
     "status": "completed"
    },
    "tags": []
   },
   "outputs": [],
   "source": [
    "import pandas as pd\n",
    "import sqlite3"
   ]
  },
  {
   "cell_type": "code",
   "execution_count": 2,
   "id": "innovative-syndrome",
   "metadata": {
    "execution": {
     "iopub.execute_input": "2021-08-11T12:30:05.095296Z",
     "iopub.status.busy": "2021-08-11T12:30:05.094529Z",
     "iopub.status.idle": "2021-08-11T12:30:05.303874Z",
     "shell.execute_reply": "2021-08-11T12:30:05.304440Z"
    },
    "papermill": {
     "duration": 0.223103,
     "end_time": "2021-08-11T12:30:05.304636",
     "exception": false,
     "start_time": "2021-08-11T12:30:05.081533",
     "status": "completed"
    },
    "tags": []
   },
   "outputs": [],
   "source": [
    "timestamps = pd.read_sql(\"select distinct record_time from EBAY_TOP_BERLIN order by record_time desc limit 2\", sqlite3.connect(\"UsedObjects.db\"))"
   ]
  },
  {
   "cell_type": "code",
   "execution_count": 3,
   "id": "periodic-identification",
   "metadata": {
    "execution": {
     "iopub.execute_input": "2021-08-11T12:30:05.340255Z",
     "iopub.status.busy": "2021-08-11T12:30:05.339477Z",
     "iopub.status.idle": "2021-08-11T12:30:05.351091Z",
     "shell.execute_reply": "2021-08-11T12:30:05.350513Z"
    },
    "papermill": {
     "duration": 0.037341,
     "end_time": "2021-08-11T12:30:05.351243",
     "exception": false,
     "start_time": "2021-08-11T12:30:05.313902",
     "status": "completed"
    },
    "tags": []
   },
   "outputs": [
    {
     "data": {
      "text/html": [
       "<div>\n",
       "<style scoped>\n",
       "    .dataframe tbody tr th:only-of-type {\n",
       "        vertical-align: middle;\n",
       "    }\n",
       "\n",
       "    .dataframe tbody tr th {\n",
       "        vertical-align: top;\n",
       "    }\n",
       "\n",
       "    .dataframe thead th {\n",
       "        text-align: right;\n",
       "    }\n",
       "</style>\n",
       "<table border=\"1\" class=\"dataframe\">\n",
       "  <thead>\n",
       "    <tr style=\"text-align: right;\">\n",
       "      <th></th>\n",
       "      <th>RECORD_TIME</th>\n",
       "    </tr>\n",
       "  </thead>\n",
       "  <tbody>\n",
       "    <tr>\n",
       "      <th>0</th>\n",
       "      <td>2021-08-11 14:30</td>\n",
       "    </tr>\n",
       "    <tr>\n",
       "      <th>1</th>\n",
       "      <td>2021-08-11 14:00</td>\n",
       "    </tr>\n",
       "  </tbody>\n",
       "</table>\n",
       "</div>"
      ],
      "text/plain": [
       "        RECORD_TIME\n",
       "0  2021-08-11 14:30\n",
       "1  2021-08-11 14:00"
      ]
     },
     "execution_count": 3,
     "metadata": {},
     "output_type": "execute_result"
    }
   ],
   "source": [
    "timestamps"
   ]
  },
  {
   "cell_type": "code",
   "execution_count": 4,
   "id": "alternate-victory",
   "metadata": {
    "execution": {
     "iopub.execute_input": "2021-08-11T12:30:05.373872Z",
     "iopub.status.busy": "2021-08-11T12:30:05.373109Z",
     "iopub.status.idle": "2021-08-11T12:30:05.398361Z",
     "shell.execute_reply": "2021-08-11T12:30:05.398892Z"
    },
    "papermill": {
     "duration": 0.039423,
     "end_time": "2021-08-11T12:30:05.399078",
     "exception": false,
     "start_time": "2021-08-11T12:30:05.359655",
     "status": "completed"
    },
    "tags": []
   },
   "outputs": [],
   "source": [
    "df = pd.read_sql(\"select * from EBAY_TOP_BERLIN where record_time in (select distinct record_time from EBAY_TOP_BERLIN order by record_time desc limit 2)\", sqlite3.connect(\"UsedObjects.db\"))"
   ]
  },
  {
   "cell_type": "code",
   "execution_count": 5,
   "id": "popular-active",
   "metadata": {
    "execution": {
     "iopub.execute_input": "2021-08-11T12:30:05.432562Z",
     "iopub.status.busy": "2021-08-11T12:30:05.428992Z",
     "iopub.status.idle": "2021-08-11T12:30:05.448328Z",
     "shell.execute_reply": "2021-08-11T12:30:05.447169Z"
    },
    "papermill": {
     "duration": 0.041124,
     "end_time": "2021-08-11T12:30:05.448513",
     "exception": false,
     "start_time": "2021-08-11T12:30:05.407389",
     "status": "completed"
    },
    "tags": []
   },
   "outputs": [],
   "source": [
    "df_pivot = df.pivot_table(index=\"PRODUCT\", columns = \"RECORD_TIME\", values = \"LISTING_COUNT\")"
   ]
  },
  {
   "cell_type": "code",
   "execution_count": 6,
   "id": "union-huntington",
   "metadata": {
    "execution": {
     "iopub.execute_input": "2021-08-11T12:30:05.481860Z",
     "iopub.status.busy": "2021-08-11T12:30:05.481133Z",
     "iopub.status.idle": "2021-08-11T12:30:05.486914Z",
     "shell.execute_reply": "2021-08-11T12:30:05.487898Z"
    },
    "papermill": {
     "duration": 0.023772,
     "end_time": "2021-08-11T12:30:05.488287",
     "exception": false,
     "start_time": "2021-08-11T12:30:05.464515",
     "status": "completed"
    },
    "tags": []
   },
   "outputs": [],
   "source": [
    "df_pivot.columns = [\"stamp_1\", \"stamp_2\"]\n",
    "df_pivot_diff = df_pivot.diff(axis=1)"
   ]
  },
  {
   "cell_type": "code",
   "execution_count": 7,
   "id": "fifth-motion",
   "metadata": {
    "execution": {
     "iopub.execute_input": "2021-08-11T12:30:05.523381Z",
     "iopub.status.busy": "2021-08-11T12:30:05.522616Z",
     "iopub.status.idle": "2021-08-11T12:30:06.183849Z",
     "shell.execute_reply": "2021-08-11T12:30:06.183143Z"
    },
    "papermill": {
     "duration": 0.682607,
     "end_time": "2021-08-11T12:30:06.184037",
     "exception": false,
     "start_time": "2021-08-11T12:30:05.501430",
     "status": "completed"
    },
    "tags": []
   },
   "outputs": [
    {
     "data": {
      "text/plain": [
       "<AxesSubplot:ylabel='PRODUCT'>"
      ]
     },
     "execution_count": 7,
     "metadata": {},
     "output_type": "execute_result"
    },
    {
     "data": {
      "image/png": "[encoded data removed]",
      "text/plain": [
       "<Figure size 432x288 with 1 Axes>"
      ]
     },
     "metadata": {
      "needs_background": "light"
     },
     "output_type": "display_data"
    }
   ],
   "source": [
    "df_pivot_diff.sort_values(\"stamp_2\", ascending = False)[\"stamp_2\"].head(10).plot.barh()"
   ]
  },
  {
   "cell_type": "code",
   "execution_count": null,
   "id": "extra-executive",
   "metadata": {
    "papermill": {
     "duration": 0.01148,
     "end_time": "2021-08-11T12:30:06.205544",
     "exception": false,
     "start_time": "2021-08-11T12:30:06.194064",
     "status": "completed"
    },
    "tags": []
   },
   "outputs": [],
   "source": []
  }
 ],
 "metadata": {
  "kernelspec": {
   "display_name": "Python 3",
   "language": "python",
   "name": "python3"
  },
  "language_info": {
   "codemirror_mode": {
    "name": "ipython",
    "version": 3
   },
   "file_extension": ".py",
   "mimetype": "text/x-python",
   "name": "python",
   "nbconvert_exporter": "python",
   "pygments_lexer": "ipython3",
   "version": "3.8.8"
  },
  "papermill": {
   "default_parameters": {},
   "duration": 4.935866,
   "end_time": "2021-08-11T12:30:07.668288",
   "environment_variables": {},
   "exception": null,
   "input_path": "/Users/saravananshanmugam/Carbonleakage_Git/UsedObjects/eBay_Overview.ipynb",
   "output_path": "/Users/saravananshanmugam/Carbonleakage_Git/UsedObjects/eBay_Overview.ipynb",
   "parameters": {},
   "start_time": "2021-08-11T12:30:02.732422",
   "version": "2.3.3"
  }
 },
 "nbformat": 4,
 "nbformat_minor": 5
}