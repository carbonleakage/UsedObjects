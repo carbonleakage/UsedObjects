{
 "cells": [
  {
   "cell_type": "code",
   "execution_count": 1,
   "id": "reverse-picking",
   "metadata": {
    "execution": {
     "iopub.execute_input": "2021-12-08T09:30:08.175855Z",
     "iopub.status.busy": "2021-12-08T09:30:08.173576Z",
     "iopub.status.idle": "2021-12-08T09:30:09.102239Z",
     "shell.execute_reply": "2021-12-08T09:30:09.103804Z"
    },
    "papermill": {
     "duration": 0.977912,
     "end_time": "2021-12-08T09:30:09.104502",
     "exception": false,
     "start_time": "2021-12-08T09:30:08.126590",
     "status": "completed"
    },
    "tags": []
   },
   "outputs": [],
   "source": [
    "import pandas as pd\n",
    "import sqlite3"
   ]
  },
  {
   "cell_type": "code",
   "execution_count": 2,
   "id": "innovative-syndrome",
   "metadata": {
    "execution": {
     "iopub.execute_input": "2021-12-08T09:30:09.225806Z",
     "iopub.status.busy": "2021-12-08T09:30:09.222995Z",
     "iopub.status.idle": "2021-12-08T09:30:10.242444Z",
     "shell.execute_reply": "2021-12-08T09:30:10.243724Z"
    },
    "papermill": {
     "duration": 1.118884,
     "end_time": "2021-12-08T09:30:10.244180",
     "exception": false,
     "start_time": "2021-12-08T09:30:09.125296",
     "status": "completed"
    },
    "tags": []
   },
   "outputs": [],
   "source": [
    "timestamps = pd.read_sql(\"select distinct record_time from EBAY_TOP_BERLIN order by record_time desc limit 2\", sqlite3.connect(\"UsedObjects.db\"))"
   ]
  },
  {
   "cell_type": "code",
   "execution_count": 3,
   "id": "periodic-identification",
   "metadata": {
    "execution": {
     "iopub.execute_input": "2021-12-08T09:30:10.312729Z",
     "iopub.status.busy": "2021-12-08T09:30:10.310326Z",
     "iopub.status.idle": "2021-12-08T09:30:10.335783Z",
     "shell.execute_reply": "2021-12-08T09:30:10.337497Z"
    },
    "papermill": {
     "duration": 0.074255,
     "end_time": "2021-12-08T09:30:10.337983",
     "exception": false,
     "start_time": "2021-12-08T09:30:10.263728",
     "status": "completed"
    },
    "tags": []
   },
   "outputs": [
    {
     "data": {
      "text/html": [
       "<div>\n",
       "<style scoped>\n",
       "    .dataframe tbody tr th:only-of-type {\n",
       "        vertical-align: middle;\n",
       "    }\n",
       "\n",
       "    .dataframe tbody tr th {\n",
       "        vertical-align: top;\n",
       "    }\n",
       "\n",
       "    .dataframe thead th {\n",
       "        text-align: right;\n",
       "    }\n",
       "</style>\n",
       "<table border=\"1\" class=\"dataframe\">\n",
       "  <thead>\n",
       "    <tr style=\"text-align: right;\">\n",
       "      <th></th>\n",
       "      <th>RECORD_TIME</th>\n",
       "    </tr>\n",
       "  </thead>\n",
       "  <tbody>\n",
       "    <tr>\n",
       "      <th>0</th>\n",
       "      <td>2021-12-08 10:30</td>\n",
       "    </tr>\n",
       "    <tr>\n",
       "      <th>1</th>\n",
       "      <td>2021-12-08 10:00</td>\n",
       "    </tr>\n",
       "  </tbody>\n",
       "</table>\n",
       "</div>"
      ],
      "text/plain": [
       "        RECORD_TIME\n",
       "0  2021-12-08 10:30\n",
       "1  2021-12-08 10:00"
      ]
     },
     "execution_count": 3,
     "metadata": {},
     "output_type": "execute_result"
    }
   ],
   "source": [
    "timestamps"
   ]
  },
  {
   "cell_type": "code",
   "execution_count": 4,
   "id": "alternate-victory",
   "metadata": {
    "execution": {
     "iopub.execute_input": "2021-12-08T09:30:10.395641Z",
     "iopub.status.busy": "2021-12-08T09:30:10.393105Z",
     "iopub.status.idle": "2021-12-08T09:30:11.894137Z",
     "shell.execute_reply": "2021-12-08T09:30:11.895508Z"
    },
    "papermill": {
     "duration": 1.536675,
     "end_time": "2021-12-08T09:30:11.895961",
     "exception": false,
     "start_time": "2021-12-08T09:30:10.359286",
     "status": "completed"
    },
    "tags": []
   },
   "outputs": [],
   "source": [
    "df = pd.read_sql(\"select * from EBAY_TOP_BERLIN where record_time in (select distinct record_time from EBAY_TOP_BERLIN order by record_time desc limit 2)\", sqlite3.connect(\"UsedObjects.db\"))"
   ]
  },
  {
   "cell_type": "code",
   "execution_count": 5,
   "id": "popular-active",
   "metadata": {
    "execution": {
     "iopub.execute_input": "2021-12-08T09:30:11.972209Z",
     "iopub.status.busy": "2021-12-08T09:30:11.965269Z",
     "iopub.status.idle": "2021-12-08T09:30:11.989615Z",
     "shell.execute_reply": "2021-12-08T09:30:11.991080Z"
    },
    "papermill": {
     "duration": 0.07462,
     "end_time": "2021-12-08T09:30:11.991572",
     "exception": false,
     "start_time": "2021-12-08T09:30:11.916952",
     "status": "completed"
    },
    "tags": []
   },
   "outputs": [],
   "source": [
    "df_pivot = df.pivot_table(index=\"PRODUCT\", columns = \"RECORD_TIME\", values = \"LISTING_COUNT\")"
   ]
  },
  {
   "cell_type": "code",
   "execution_count": 6,
   "id": "union-huntington",
   "metadata": {
    "execution": {
     "iopub.execute_input": "2021-12-08T09:30:12.049248Z",
     "iopub.status.busy": "2021-12-08T09:30:12.047009Z",
     "iopub.status.idle": "2021-12-08T09:30:12.052534Z",
     "shell.execute_reply": "2021-12-08T09:30:12.054551Z"
    },
    "papermill": {
     "duration": 0.043703,
     "end_time": "2021-12-08T09:30:12.055149",
     "exception": false,
     "start_time": "2021-12-08T09:30:12.011446",
     "status": "completed"
    },
    "tags": []
   },
   "outputs": [],
   "source": [
    "df_pivot.columns = [\"stamp_1\", \"stamp_2\"]\n",
    "df_pivot_diff = df_pivot.diff(axis=1)"
   ]
  },
  {
   "cell_type": "code",
   "execution_count": 7,
   "id": "fifth-motion",
   "metadata": {
    "execution": {
     "iopub.execute_input": "2021-12-08T09:30:12.141171Z",
     "iopub.status.busy": "2021-12-08T09:30:12.130774Z",
     "iopub.status.idle": "2021-12-08T09:30:13.778169Z",
     "shell.execute_reply": "2021-12-08T09:30:13.779365Z"
    },
    "papermill": {
     "duration": 1.701494,
     "end_time": "2021-12-08T09:30:13.779798",
     "exception": false,
     "start_time": "2021-12-08T09:30:12.078304",
     "status": "completed"
    },
    "tags": []
   },
   "outputs": [
    {
     "data": {
      "text/plain": [
       "<AxesSubplot:ylabel='PRODUCT'>"
      ]
     },
     "execution_count": 7,
     "metadata": {},
     "output_type": "execute_result"
    },
    {
     "data": {
      "image/png": "[encoded data removed]",
      "text/plain": [
       "<Figure size 432x288 with 1 Axes>"
      ]
     },
     "metadata": {
      "needs_background": "light"
     },
     "output_type": "display_data"
    }
   ],
   "source": [
    "df_pivot_diff.sort_values(\"stamp_2\", ascending = False)[\"stamp_2\"].head(10).plot.barh()"
   ]
  },
  {
   "cell_type": "code",
   "execution_count": null,
   "id": "extra-executive",
   "metadata": {
    "papermill": {
     "duration": 0.022109,
     "end_time": "2021-12-08T09:30:13.828777",
     "exception": false,
     "start_time": "2021-12-08T09:30:13.806668",
     "status": "completed"
    },
    "tags": []
   },
   "outputs": [],
   "source": []
  }
 ],
 "metadata": {
  "kernelspec": {
   "display_name": "Python 3",
   "language": "python",
   "name": "python3"
  },
  "language_info": {
   "codemirror_mode": {
    "name": "ipython",
    "version": 3
   },
   "file_extension": ".py",
   "mimetype": "text/x-python",
   "name": "python",
   "nbconvert_exporter": "python",
   "pygments_lexer": "ipython3",
   "version": "3.9.5"
  },
  "papermill": {
   "default_parameters": {},
   "duration": 9.946802,
   "end_time": "2021-12-08T09:30:15.323627",
   "environment_variables": {},
   "exception": null,
   "input_path": "eBay_Overview.ipynb",
   "output_path": "eBay_Overview.ipynb",
   "parameters": {},
   "start_time": "2021-12-08T09:30:05.376825",
   "version": "2.3.3"
  }
 },
 "nbformat": 4,
 "nbformat_minor": 5
}