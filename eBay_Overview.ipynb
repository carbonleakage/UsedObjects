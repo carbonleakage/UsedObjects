{
 "cells": [
  {
   "cell_type": "code",
   "execution_count": 1,
   "id": "reverse-picking",
   "metadata": {
    "execution": {
     "iopub.execute_input": "2021-11-11T06:00:08.309631Z",
     "iopub.status.busy": "2021-11-11T06:00:08.307217Z",
     "iopub.status.idle": "2021-11-11T06:00:09.264244Z",
     "shell.execute_reply": "2021-11-11T06:00:09.265859Z"
    },
    "papermill": {
     "duration": 1.006836,
     "end_time": "2021-11-11T06:00:09.266596",
     "exception": false,
     "start_time": "2021-11-11T06:00:08.259760",
     "status": "completed"
    },
    "tags": []
   },
   "outputs": [],
   "source": [
    "import pandas as pd\n",
    "import sqlite3"
   ]
  },
  {
   "cell_type": "code",
   "execution_count": 2,
   "id": "innovative-syndrome",
   "metadata": {
    "execution": {
     "iopub.execute_input": "2021-11-11T06:00:09.327315Z",
     "iopub.status.busy": "2021-11-11T06:00:09.325019Z",
     "iopub.status.idle": "2021-11-11T06:00:10.094983Z",
     "shell.execute_reply": "2021-11-11T06:00:10.096373Z"
    },
    "papermill": {
     "duration": 0.803179,
     "end_time": "2021-11-11T06:00:10.096904",
     "exception": false,
     "start_time": "2021-11-11T06:00:09.293725",
     "status": "completed"
    },
    "tags": []
   },
   "outputs": [],
   "source": [
    "timestamps = pd.read_sql(\"select distinct record_time from EBAY_TOP_BERLIN order by record_time desc limit 2\", sqlite3.connect(\"UsedObjects.db\"))"
   ]
  },
  {
   "cell_type": "code",
   "execution_count": 3,
   "id": "periodic-identification",
   "metadata": {
    "execution": {
     "iopub.execute_input": "2021-11-11T06:00:10.170921Z",
     "iopub.status.busy": "2021-11-11T06:00:10.168364Z",
     "iopub.status.idle": "2021-11-11T06:00:10.192576Z",
     "shell.execute_reply": "2021-11-11T06:00:10.194380Z"
    },
    "papermill": {
     "duration": 0.077889,
     "end_time": "2021-11-11T06:00:10.194870",
     "exception": false,
     "start_time": "2021-11-11T06:00:10.116981",
     "status": "completed"
    },
    "tags": []
   },
   "outputs": [
    {
     "data": {
      "text/html": [
       "<div>\n",
       "<style scoped>\n",
       "    .dataframe tbody tr th:only-of-type {\n",
       "        vertical-align: middle;\n",
       "    }\n",
       "\n",
       "    .dataframe tbody tr th {\n",
       "        vertical-align: top;\n",
       "    }\n",
       "\n",
       "    .dataframe thead th {\n",
       "        text-align: right;\n",
       "    }\n",
       "</style>\n",
       "<table border=\"1\" class=\"dataframe\">\n",
       "  <thead>\n",
       "    <tr style=\"text-align: right;\">\n",
       "      <th></th>\n",
       "      <th>RECORD_TIME</th>\n",
       "    </tr>\n",
       "  </thead>\n",
       "  <tbody>\n",
       "    <tr>\n",
       "      <th>0</th>\n",
       "      <td>2021-11-11 07:00</td>\n",
       "    </tr>\n",
       "    <tr>\n",
       "      <th>1</th>\n",
       "      <td>2021-11-11 06:30</td>\n",
       "    </tr>\n",
       "  </tbody>\n",
       "</table>\n",
       "</div>"
      ],
      "text/plain": [
       "        RECORD_TIME\n",
       "0  2021-11-11 07:00\n",
       "1  2021-11-11 06:30"
      ]
     },
     "execution_count": 3,
     "metadata": {},
     "output_type": "execute_result"
    }
   ],
   "source": [
    "timestamps"
   ]
  },
  {
   "cell_type": "code",
   "execution_count": 4,
   "id": "alternate-victory",
   "metadata": {
    "execution": {
     "iopub.execute_input": "2021-11-11T06:00:10.250965Z",
     "iopub.status.busy": "2021-11-11T06:00:10.248743Z",
     "iopub.status.idle": "2021-11-11T06:00:11.387658Z",
     "shell.execute_reply": "2021-11-11T06:00:11.389228Z"
    },
    "papermill": {
     "duration": 1.173673,
     "end_time": "2021-11-11T06:00:11.389710",
     "exception": false,
     "start_time": "2021-11-11T06:00:10.216037",
     "status": "completed"
    },
    "tags": []
   },
   "outputs": [],
   "source": [
    "df = pd.read_sql(\"select * from EBAY_TOP_BERLIN where record_time in (select distinct record_time from EBAY_TOP_BERLIN order by record_time desc limit 2)\", sqlite3.connect(\"UsedObjects.db\"))"
   ]
  },
  {
   "cell_type": "code",
   "execution_count": 5,
   "id": "popular-active",
   "metadata": {
    "execution": {
     "iopub.execute_input": "2021-11-11T06:00:11.467203Z",
     "iopub.status.busy": "2021-11-11T06:00:11.452452Z",
     "iopub.status.idle": "2021-11-11T06:00:11.487635Z",
     "shell.execute_reply": "2021-11-11T06:00:11.489765Z"
    },
    "papermill": {
     "duration": 0.079618,
     "end_time": "2021-11-11T06:00:11.490369",
     "exception": false,
     "start_time": "2021-11-11T06:00:11.410751",
     "status": "completed"
    },
    "tags": []
   },
   "outputs": [],
   "source": [
    "df_pivot = df.pivot_table(index=\"PRODUCT\", columns = \"RECORD_TIME\", values = \"LISTING_COUNT\")"
   ]
  },
  {
   "cell_type": "code",
   "execution_count": 6,
   "id": "union-huntington",
   "metadata": {
    "execution": {
     "iopub.execute_input": "2021-11-11T06:00:11.576428Z",
     "iopub.status.busy": "2021-11-11T06:00:11.574099Z",
     "iopub.status.idle": "2021-11-11T06:00:11.580221Z",
     "shell.execute_reply": "2021-11-11T06:00:11.581851Z"
    },
    "papermill": {
     "duration": 0.062192,
     "end_time": "2021-11-11T06:00:11.582360",
     "exception": false,
     "start_time": "2021-11-11T06:00:11.520168",
     "status": "completed"
    },
    "tags": []
   },
   "outputs": [],
   "source": [
    "df_pivot.columns = [\"stamp_1\", \"stamp_2\"]\n",
    "df_pivot_diff = df_pivot.diff(axis=1)"
   ]
  },
  {
   "cell_type": "code",
   "execution_count": 7,
   "id": "fifth-motion",
   "metadata": {
    "execution": {
     "iopub.execute_input": "2021-11-11T06:00:11.641841Z",
     "iopub.status.busy": "2021-11-11T06:00:11.639131Z",
     "iopub.status.idle": "2021-11-11T06:00:13.453482Z",
     "shell.execute_reply": "2021-11-11T06:00:13.456037Z"
    },
    "papermill": {
     "duration": 1.853108,
     "end_time": "2021-11-11T06:00:13.456893",
     "exception": false,
     "start_time": "2021-11-11T06:00:11.603785",
     "status": "completed"
    },
    "tags": []
   },
   "outputs": [
    {
     "data": {
      "text/plain": [
       "<AxesSubplot:ylabel='PRODUCT'>"
      ]
     },
     "execution_count": 7,
     "metadata": {},
     "output_type": "execute_result"
    },
    {
     "data": {
      "image/png": "[encoded data removed]",
      "text/plain": [
       "<Figure size 432x288 with 1 Axes>"
      ]
     },
     "metadata": {
      "needs_background": "light"
     },
     "output_type": "display_data"
    }
   ],
   "source": [
    "df_pivot_diff.sort_values(\"stamp_2\", ascending = False)[\"stamp_2\"].head(10).plot.barh()"
   ]
  },
  {
   "cell_type": "code",
   "execution_count": null,
   "id": "extra-executive",
   "metadata": {
    "papermill": {
     "duration": 0.027939,
     "end_time": "2021-11-11T06:00:13.519316",
     "exception": false,
     "start_time": "2021-11-11T06:00:13.491377",
     "status": "completed"
    },
    "tags": []
   },
   "outputs": [],
   "source": []
  }
 ],
 "metadata": {
  "kernelspec": {
   "display_name": "Python 3",
   "language": "python",
   "name": "python3"
  },
  "language_info": {
   "codemirror_mode": {
    "name": "ipython",
    "version": 3
   },
   "file_extension": ".py",
   "mimetype": "text/x-python",
   "name": "python",
   "nbconvert_exporter": "python",
   "pygments_lexer": "ipython3",
   "version": "3.9.5"
  },
  "papermill": {
   "default_parameters": {},
   "duration": 8.873243,
   "end_time": "2021-11-11T06:00:14.391467",
   "environment_variables": {},
   "exception": null,
   "input_path": "eBay_Overview.ipynb",
   "output_path": "eBay_Overview.ipynb",
   "parameters": {},
   "start_time": "2021-11-11T06:00:05.518224",
   "version": "2.3.3"
  }
 },
 "nbformat": 4,
 "nbformat_minor": 5
}