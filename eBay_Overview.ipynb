{
 "cells": [
  {
   "cell_type": "code",
   "execution_count": 1,
   "id": "reverse-picking",
   "metadata": {
    "execution": {
     "iopub.execute_input": "2021-08-20T01:00:06.838522Z",
     "iopub.status.busy": "2021-08-20T01:00:06.836502Z",
     "iopub.status.idle": "2021-08-20T01:00:07.643273Z",
     "shell.execute_reply": "2021-08-20T01:00:07.644558Z"
    },
    "papermill": {
     "duration": 0.857274,
     "end_time": "2021-08-20T01:00:07.645185",
     "exception": false,
     "start_time": "2021-08-20T01:00:06.787911",
     "status": "completed"
    },
    "tags": []
   },
   "outputs": [],
   "source": [
    "import pandas as pd\n",
    "import sqlite3"
   ]
  },
  {
   "cell_type": "code",
   "execution_count": 2,
   "id": "innovative-syndrome",
   "metadata": {
    "execution": {
     "iopub.execute_input": "2021-08-20T01:00:07.695613Z",
     "iopub.status.busy": "2021-08-20T01:00:07.693350Z",
     "iopub.status.idle": "2021-08-20T01:00:07.782135Z",
     "shell.execute_reply": "2021-08-20T01:00:07.783359Z"
    },
    "papermill": {
     "duration": 0.118381,
     "end_time": "2021-08-20T01:00:07.783757",
     "exception": false,
     "start_time": "2021-08-20T01:00:07.665376",
     "status": "completed"
    },
    "tags": []
   },
   "outputs": [],
   "source": [
    "timestamps = pd.read_sql(\"select distinct record_time from EBAY_TOP_BERLIN order by record_time desc limit 2\", sqlite3.connect(\"UsedObjects.db\"))"
   ]
  },
  {
   "cell_type": "code",
   "execution_count": 3,
   "id": "periodic-identification",
   "metadata": {
    "execution": {
     "iopub.execute_input": "2021-08-20T01:00:07.848604Z",
     "iopub.status.busy": "2021-08-20T01:00:07.846592Z",
     "iopub.status.idle": "2021-08-20T01:00:07.866245Z",
     "shell.execute_reply": "2021-08-20T01:00:07.867469Z"
    },
    "papermill": {
     "duration": 0.064209,
     "end_time": "2021-08-20T01:00:07.867866",
     "exception": false,
     "start_time": "2021-08-20T01:00:07.803657",
     "status": "completed"
    },
    "tags": []
   },
   "outputs": [
    {
     "data": {
      "text/html": [
       "<div>\n",
       "<style scoped>\n",
       "    .dataframe tbody tr th:only-of-type {\n",
       "        vertical-align: middle;\n",
       "    }\n",
       "\n",
       "    .dataframe tbody tr th {\n",
       "        vertical-align: top;\n",
       "    }\n",
       "\n",
       "    .dataframe thead th {\n",
       "        text-align: right;\n",
       "    }\n",
       "</style>\n",
       "<table border=\"1\" class=\"dataframe\">\n",
       "  <thead>\n",
       "    <tr style=\"text-align: right;\">\n",
       "      <th></th>\n",
       "      <th>RECORD_TIME</th>\n",
       "    </tr>\n",
       "  </thead>\n",
       "  <tbody>\n",
       "    <tr>\n",
       "      <th>0</th>\n",
       "      <td>2021-08-20 03:00</td>\n",
       "    </tr>\n",
       "    <tr>\n",
       "      <th>1</th>\n",
       "      <td>2021-08-20 02:30</td>\n",
       "    </tr>\n",
       "  </tbody>\n",
       "</table>\n",
       "</div>"
      ],
      "text/plain": [
       "        RECORD_TIME\n",
       "0  2021-08-20 03:00\n",
       "1  2021-08-20 02:30"
      ]
     },
     "execution_count": 3,
     "metadata": {},
     "output_type": "execute_result"
    }
   ],
   "source": [
    "timestamps"
   ]
  },
  {
   "cell_type": "code",
   "execution_count": 4,
   "id": "alternate-victory",
   "metadata": {
    "execution": {
     "iopub.execute_input": "2021-08-20T01:00:07.920216Z",
     "iopub.status.busy": "2021-08-20T01:00:07.917865Z",
     "iopub.status.idle": "2021-08-20T01:00:08.051920Z",
     "shell.execute_reply": "2021-08-20T01:00:08.053140Z"
    },
    "papermill": {
     "duration": 0.164529,
     "end_time": "2021-08-20T01:00:08.053539",
     "exception": false,
     "start_time": "2021-08-20T01:00:07.889010",
     "status": "completed"
    },
    "tags": []
   },
   "outputs": [],
   "source": [
    "df = pd.read_sql(\"select * from EBAY_TOP_BERLIN where record_time in (select distinct record_time from EBAY_TOP_BERLIN order by record_time desc limit 2)\", sqlite3.connect(\"UsedObjects.db\"))"
   ]
  },
  {
   "cell_type": "code",
   "execution_count": 5,
   "id": "popular-active",
   "metadata": {
    "execution": {
     "iopub.execute_input": "2021-08-20T01:00:08.122708Z",
     "iopub.status.busy": "2021-08-20T01:00:08.111485Z",
     "iopub.status.idle": "2021-08-20T01:00:08.140726Z",
     "shell.execute_reply": "2021-08-20T01:00:08.142094Z"
    },
    "papermill": {
     "duration": 0.06837,
     "end_time": "2021-08-20T01:00:08.142517",
     "exception": false,
     "start_time": "2021-08-20T01:00:08.074147",
     "status": "completed"
    },
    "tags": []
   },
   "outputs": [],
   "source": [
    "df_pivot = df.pivot_table(index=\"PRODUCT\", columns = \"RECORD_TIME\", values = \"LISTING_COUNT\")"
   ]
  },
  {
   "cell_type": "code",
   "execution_count": 6,
   "id": "union-huntington",
   "metadata": {
    "execution": {
     "iopub.execute_input": "2021-08-20T01:00:08.198809Z",
     "iopub.status.busy": "2021-08-20T01:00:08.196700Z",
     "iopub.status.idle": "2021-08-20T01:00:08.202343Z",
     "shell.execute_reply": "2021-08-20T01:00:08.203955Z"
    },
    "papermill": {
     "duration": 0.041652,
     "end_time": "2021-08-20T01:00:08.204392",
     "exception": false,
     "start_time": "2021-08-20T01:00:08.162740",
     "status": "completed"
    },
    "tags": []
   },
   "outputs": [],
   "source": [
    "df_pivot.columns = [\"stamp_1\", \"stamp_2\"]\n",
    "df_pivot_diff = df_pivot.diff(axis=1)"
   ]
  },
  {
   "cell_type": "code",
   "execution_count": 7,
   "id": "fifth-motion",
   "metadata": {
    "execution": {
     "iopub.execute_input": "2021-08-20T01:00:08.262077Z",
     "iopub.status.busy": "2021-08-20T01:00:08.259401Z",
     "iopub.status.idle": "2021-08-20T01:00:09.749825Z",
     "shell.execute_reply": "2021-08-20T01:00:09.751405Z"
    },
    "papermill": {
     "duration": 1.524494,
     "end_time": "2021-08-20T01:00:09.751859",
     "exception": false,
     "start_time": "2021-08-20T01:00:08.227365",
     "status": "completed"
    },
    "tags": []
   },
   "outputs": [
    {
     "data": {
      "text/plain": [
       "<AxesSubplot:ylabel='PRODUCT'>"
      ]
     },
     "execution_count": 7,
     "metadata": {},
     "output_type": "execute_result"
    },
    {
     "data": {
      "image/png": "[encoded data removed]",
      "text/plain": [
       "<Figure size 432x288 with 1 Axes>"
      ]
     },
     "metadata": {
      "needs_background": "light"
     },
     "output_type": "display_data"
    }
   ],
   "source": [
    "df_pivot_diff.sort_values(\"stamp_2\", ascending = False)[\"stamp_2\"].head(10).plot.barh()"
   ]
  },
  {
   "cell_type": "code",
   "execution_count": null,
   "id": "extra-executive",
   "metadata": {
    "papermill": {
     "duration": 0.022439,
     "end_time": "2021-08-20T01:00:09.798463",
     "exception": false,
     "start_time": "2021-08-20T01:00:09.776024",
     "status": "completed"
    },
    "tags": []
   },
   "outputs": [],
   "source": []
  }
 ],
 "metadata": {
  "kernelspec": {
   "display_name": "Python 3",
   "language": "python",
   "name": "python3"
  },
  "language_info": {
   "codemirror_mode": {
    "name": "ipython",
    "version": 3
   },
   "file_extension": ".py",
   "mimetype": "text/x-python",
   "name": "python",
   "nbconvert_exporter": "python",
   "pygments_lexer": "ipython3",
   "version": "3.9.5"
  },
  "papermill": {
   "default_parameters": {},
   "duration": 6.821411,
   "end_time": "2021-08-20T01:00:11.205432",
   "environment_variables": {},
   "exception": null,
   "input_path": "eBay_Overview.ipynb",
   "output_path": "eBay_Overview.ipynb",
   "parameters": {},
   "start_time": "2021-08-20T01:00:04.384021",
   "version": "2.3.3"
  }
 },
 "nbformat": 4,
 "nbformat_minor": 5
}