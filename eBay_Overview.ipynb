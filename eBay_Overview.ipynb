{
 "cells": [
  {
   "cell_type": "code",
   "execution_count": 1,
   "id": "reverse-picking",
   "metadata": {
    "execution": {
     "iopub.execute_input": "2021-10-17T16:00:10.986764Z",
     "iopub.status.busy": "2021-10-17T16:00:10.984747Z",
     "iopub.status.idle": "2021-10-17T16:00:11.793096Z",
     "shell.execute_reply": "2021-10-17T16:00:11.791318Z"
    },
    "papermill": {
     "duration": 0.858027,
     "end_time": "2021-10-17T16:00:11.793524",
     "exception": false,
     "start_time": "2021-10-17T16:00:10.935497",
     "status": "completed"
    },
    "tags": []
   },
   "outputs": [],
   "source": [
    "import pandas as pd\n",
    "import sqlite3"
   ]
  },
  {
   "cell_type": "code",
   "execution_count": 2,
   "id": "innovative-syndrome",
   "metadata": {
    "execution": {
     "iopub.execute_input": "2021-10-17T16:00:11.847161Z",
     "iopub.status.busy": "2021-10-17T16:00:11.844832Z",
     "iopub.status.idle": "2021-10-17T16:00:12.418969Z",
     "shell.execute_reply": "2021-10-17T16:00:12.420249Z"
    },
    "papermill": {
     "duration": 0.604544,
     "end_time": "2021-10-17T16:00:12.420667",
     "exception": false,
     "start_time": "2021-10-17T16:00:11.816123",
     "status": "completed"
    },
    "tags": []
   },
   "outputs": [],
   "source": [
    "timestamps = pd.read_sql(\"select distinct record_time from EBAY_TOP_BERLIN order by record_time desc limit 2\", sqlite3.connect(\"UsedObjects.db\"))"
   ]
  },
  {
   "cell_type": "code",
   "execution_count": 3,
   "id": "periodic-identification",
   "metadata": {
    "execution": {
     "iopub.execute_input": "2021-10-17T16:00:12.495747Z",
     "iopub.status.busy": "2021-10-17T16:00:12.493688Z",
     "iopub.status.idle": "2021-10-17T16:00:12.515179Z",
     "shell.execute_reply": "2021-10-17T16:00:12.516467Z"
    },
    "papermill": {
     "duration": 0.070834,
     "end_time": "2021-10-17T16:00:12.516975",
     "exception": false,
     "start_time": "2021-10-17T16:00:12.446141",
     "status": "completed"
    },
    "tags": []
   },
   "outputs": [
    {
     "data": {
      "text/html": [
       "<div>\n",
       "<style scoped>\n",
       "    .dataframe tbody tr th:only-of-type {\n",
       "        vertical-align: middle;\n",
       "    }\n",
       "\n",
       "    .dataframe tbody tr th {\n",
       "        vertical-align: top;\n",
       "    }\n",
       "\n",
       "    .dataframe thead th {\n",
       "        text-align: right;\n",
       "    }\n",
       "</style>\n",
       "<table border=\"1\" class=\"dataframe\">\n",
       "  <thead>\n",
       "    <tr style=\"text-align: right;\">\n",
       "      <th></th>\n",
       "      <th>RECORD_TIME</th>\n",
       "    </tr>\n",
       "  </thead>\n",
       "  <tbody>\n",
       "    <tr>\n",
       "      <th>0</th>\n",
       "      <td>2021-10-17 18:00</td>\n",
       "    </tr>\n",
       "    <tr>\n",
       "      <th>1</th>\n",
       "      <td>2021-10-17 17:30</td>\n",
       "    </tr>\n",
       "  </tbody>\n",
       "</table>\n",
       "</div>"
      ],
      "text/plain": [
       "        RECORD_TIME\n",
       "0  2021-10-17 18:00\n",
       "1  2021-10-17 17:30"
      ]
     },
     "execution_count": 3,
     "metadata": {},
     "output_type": "execute_result"
    }
   ],
   "source": [
    "timestamps"
   ]
  },
  {
   "cell_type": "code",
   "execution_count": 4,
   "id": "alternate-victory",
   "metadata": {
    "execution": {
     "iopub.execute_input": "2021-10-17T16:00:12.569437Z",
     "iopub.status.busy": "2021-10-17T16:00:12.567299Z",
     "iopub.status.idle": "2021-10-17T16:00:13.388589Z",
     "shell.execute_reply": "2021-10-17T16:00:13.389950Z"
    },
    "papermill": {
     "duration": 0.851738,
     "end_time": "2021-10-17T16:00:13.390352",
     "exception": false,
     "start_time": "2021-10-17T16:00:12.538614",
     "status": "completed"
    },
    "tags": []
   },
   "outputs": [],
   "source": [
    "df = pd.read_sql(\"select * from EBAY_TOP_BERLIN where record_time in (select distinct record_time from EBAY_TOP_BERLIN order by record_time desc limit 2)\", sqlite3.connect(\"UsedObjects.db\"))"
   ]
  },
  {
   "cell_type": "code",
   "execution_count": 5,
   "id": "popular-active",
   "metadata": {
    "execution": {
     "iopub.execute_input": "2021-10-17T16:00:13.464010Z",
     "iopub.status.busy": "2021-10-17T16:00:13.452492Z",
     "iopub.status.idle": "2021-10-17T16:00:13.480804Z",
     "shell.execute_reply": "2021-10-17T16:00:13.482078Z"
    },
    "papermill": {
     "duration": 0.069002,
     "end_time": "2021-10-17T16:00:13.482475",
     "exception": false,
     "start_time": "2021-10-17T16:00:13.413473",
     "status": "completed"
    },
    "tags": []
   },
   "outputs": [],
   "source": [
    "df_pivot = df.pivot_table(index=\"PRODUCT\", columns = \"RECORD_TIME\", values = \"LISTING_COUNT\")"
   ]
  },
  {
   "cell_type": "code",
   "execution_count": 6,
   "id": "union-huntington",
   "metadata": {
    "execution": {
     "iopub.execute_input": "2021-10-17T16:00:13.541086Z",
     "iopub.status.busy": "2021-10-17T16:00:13.538748Z",
     "iopub.status.idle": "2021-10-17T16:00:13.544389Z",
     "shell.execute_reply": "2021-10-17T16:00:13.545763Z"
    },
    "papermill": {
     "duration": 0.041854,
     "end_time": "2021-10-17T16:00:13.546184",
     "exception": false,
     "start_time": "2021-10-17T16:00:13.504330",
     "status": "completed"
    },
    "tags": []
   },
   "outputs": [],
   "source": [
    "df_pivot.columns = [\"stamp_1\", \"stamp_2\"]\n",
    "df_pivot_diff = df_pivot.diff(axis=1)"
   ]
  },
  {
   "cell_type": "code",
   "execution_count": 7,
   "id": "fifth-motion",
   "metadata": {
    "execution": {
     "iopub.execute_input": "2021-10-17T16:00:13.599942Z",
     "iopub.status.busy": "2021-10-17T16:00:13.597745Z",
     "iopub.status.idle": "2021-10-17T16:00:15.079791Z",
     "shell.execute_reply": "2021-10-17T16:00:15.081144Z"
    },
    "papermill": {
     "duration": 1.515129,
     "end_time": "2021-10-17T16:00:15.081606",
     "exception": false,
     "start_time": "2021-10-17T16:00:13.566477",
     "status": "completed"
    },
    "tags": []
   },
   "outputs": [
    {
     "data": {
      "text/plain": [
       "<AxesSubplot:ylabel='PRODUCT'>"
      ]
     },
     "execution_count": 7,
     "metadata": {},
     "output_type": "execute_result"
    },
    {
     "data": {
      "image/png": "[encoded data removed]",
      "text/plain": [
       "<Figure size 432x288 with 1 Axes>"
      ]
     },
     "metadata": {
      "needs_background": "light"
     },
     "output_type": "display_data"
    }
   ],
   "source": [
    "df_pivot_diff.sort_values(\"stamp_2\", ascending = False)[\"stamp_2\"].head(10).plot.barh()"
   ]
  },
  {
   "cell_type": "code",
   "execution_count": null,
   "id": "extra-executive",
   "metadata": {
    "papermill": {
     "duration": 0.022389,
     "end_time": "2021-10-17T16:00:15.129133",
     "exception": false,
     "start_time": "2021-10-17T16:00:15.106744",
     "status": "completed"
    },
    "tags": []
   },
   "outputs": [],
   "source": []
  }
 ],
 "metadata": {
  "kernelspec": {
   "display_name": "Python 3",
   "language": "python",
   "name": "python3"
  },
  "language_info": {
   "codemirror_mode": {
    "name": "ipython",
    "version": 3
   },
   "file_extension": ".py",
   "mimetype": "text/x-python",
   "name": "python",
   "nbconvert_exporter": "python",
   "pygments_lexer": "ipython3",
   "version": "3.9.5"
  },
  "papermill": {
   "default_parameters": {},
   "duration": 7.8217,
   "end_time": "2021-10-17T16:00:16.347144",
   "environment_variables": {},
   "exception": null,
   "input_path": "eBay_Overview.ipynb",
   "output_path": "eBay_Overview.ipynb",
   "parameters": {},
   "start_time": "2021-10-17T16:00:08.525444",
   "version": "2.3.3"
  }
 },
 "nbformat": 4,
 "nbformat_minor": 5
}