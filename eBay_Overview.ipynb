{
 "cells": [
  {
   "cell_type": "code",
   "execution_count": 1,
   "id": "reverse-picking",
   "metadata": {
    "execution": {
     "iopub.execute_input": "2021-12-19T04:00:07.821816Z",
     "iopub.status.busy": "2021-12-19T04:00:07.819108Z",
     "iopub.status.idle": "2021-12-19T04:00:08.791283Z",
     "shell.execute_reply": "2021-12-19T04:00:08.789373Z"
    },
    "papermill": {
     "duration": 1.010114,
     "end_time": "2021-12-19T04:00:08.791793",
     "exception": false,
     "start_time": "2021-12-19T04:00:07.781679",
     "status": "completed"
    },
    "tags": []
   },
   "outputs": [],
   "source": [
    "import pandas as pd\n",
    "import sqlite3"
   ]
  },
  {
   "cell_type": "code",
   "execution_count": 2,
   "id": "innovative-syndrome",
   "metadata": {
    "execution": {
     "iopub.execute_input": "2021-12-19T04:00:08.856671Z",
     "iopub.status.busy": "2021-12-19T04:00:08.854454Z",
     "iopub.status.idle": "2021-12-19T04:00:09.989270Z",
     "shell.execute_reply": "2021-12-19T04:00:09.990505Z"
    },
    "papermill": {
     "duration": 1.168618,
     "end_time": "2021-12-19T04:00:09.990906",
     "exception": false,
     "start_time": "2021-12-19T04:00:08.822288",
     "status": "completed"
    },
    "tags": []
   },
   "outputs": [],
   "source": [
    "timestamps = pd.read_sql(\"select distinct record_time from EBAY_TOP_BERLIN order by record_time desc limit 2\", sqlite3.connect(\"UsedObjects.db\"))"
   ]
  },
  {
   "cell_type": "code",
   "execution_count": 3,
   "id": "periodic-identification",
   "metadata": {
    "execution": {
     "iopub.execute_input": "2021-12-19T04:00:10.058015Z",
     "iopub.status.busy": "2021-12-19T04:00:10.055928Z",
     "iopub.status.idle": "2021-12-19T04:00:10.077258Z",
     "shell.execute_reply": "2021-12-19T04:00:10.078739Z"
    },
    "papermill": {
     "duration": 0.066455,
     "end_time": "2021-12-19T04:00:10.079183",
     "exception": false,
     "start_time": "2021-12-19T04:00:10.012728",
     "status": "completed"
    },
    "tags": []
   },
   "outputs": [
    {
     "data": {
      "text/html": [
       "<div>\n",
       "<style scoped>\n",
       "    .dataframe tbody tr th:only-of-type {\n",
       "        vertical-align: middle;\n",
       "    }\n",
       "\n",
       "    .dataframe tbody tr th {\n",
       "        vertical-align: top;\n",
       "    }\n",
       "\n",
       "    .dataframe thead th {\n",
       "        text-align: right;\n",
       "    }\n",
       "</style>\n",
       "<table border=\"1\" class=\"dataframe\">\n",
       "  <thead>\n",
       "    <tr style=\"text-align: right;\">\n",
       "      <th></th>\n",
       "      <th>RECORD_TIME</th>\n",
       "    </tr>\n",
       "  </thead>\n",
       "  <tbody>\n",
       "    <tr>\n",
       "      <th>0</th>\n",
       "      <td>2021-12-19 05:00</td>\n",
       "    </tr>\n",
       "    <tr>\n",
       "      <th>1</th>\n",
       "      <td>2021-12-19 04:30</td>\n",
       "    </tr>\n",
       "  </tbody>\n",
       "</table>\n",
       "</div>"
      ],
      "text/plain": [
       "        RECORD_TIME\n",
       "0  2021-12-19 05:00\n",
       "1  2021-12-19 04:30"
      ]
     },
     "execution_count": 3,
     "metadata": {},
     "output_type": "execute_result"
    }
   ],
   "source": [
    "timestamps"
   ]
  },
  {
   "cell_type": "code",
   "execution_count": 4,
   "id": "alternate-victory",
   "metadata": {
    "execution": {
     "iopub.execute_input": "2021-12-19T04:00:10.131765Z",
     "iopub.status.busy": "2021-12-19T04:00:10.129365Z",
     "iopub.status.idle": "2021-12-19T04:00:11.791715Z",
     "shell.execute_reply": "2021-12-19T04:00:11.793632Z"
    },
    "papermill": {
     "duration": 1.694356,
     "end_time": "2021-12-19T04:00:11.794111",
     "exception": false,
     "start_time": "2021-12-19T04:00:10.099755",
     "status": "completed"
    },
    "tags": []
   },
   "outputs": [],
   "source": [
    "df = pd.read_sql(\"select * from EBAY_TOP_BERLIN where record_time in (select distinct record_time from EBAY_TOP_BERLIN order by record_time desc limit 2)\", sqlite3.connect(\"UsedObjects.db\"))"
   ]
  },
  {
   "cell_type": "code",
   "execution_count": 5,
   "id": "popular-active",
   "metadata": {
    "execution": {
     "iopub.execute_input": "2021-12-19T04:00:11.869450Z",
     "iopub.status.busy": "2021-12-19T04:00:11.856862Z",
     "iopub.status.idle": "2021-12-19T04:00:11.888240Z",
     "shell.execute_reply": "2021-12-19T04:00:11.889719Z"
    },
    "papermill": {
     "duration": 0.0755,
     "end_time": "2021-12-19T04:00:11.890227",
     "exception": false,
     "start_time": "2021-12-19T04:00:11.814727",
     "status": "completed"
    },
    "tags": []
   },
   "outputs": [],
   "source": [
    "df_pivot = df.pivot_table(index=\"PRODUCT\", columns = \"RECORD_TIME\", values = \"LISTING_COUNT\")"
   ]
  },
  {
   "cell_type": "code",
   "execution_count": 6,
   "id": "union-huntington",
   "metadata": {
    "execution": {
     "iopub.execute_input": "2021-12-19T04:00:11.952780Z",
     "iopub.status.busy": "2021-12-19T04:00:11.950513Z",
     "iopub.status.idle": "2021-12-19T04:00:11.955760Z",
     "shell.execute_reply": "2021-12-19T04:00:11.957294Z"
    },
    "papermill": {
     "duration": 0.044099,
     "end_time": "2021-12-19T04:00:11.957780",
     "exception": false,
     "start_time": "2021-12-19T04:00:11.913681",
     "status": "completed"
    },
    "tags": []
   },
   "outputs": [],
   "source": [
    "df_pivot.columns = [\"stamp_1\", \"stamp_2\"]\n",
    "df_pivot_diff = df_pivot.diff(axis=1)"
   ]
  },
  {
   "cell_type": "code",
   "execution_count": 7,
   "id": "fifth-motion",
   "metadata": {
    "execution": {
     "iopub.execute_input": "2021-12-19T04:00:12.015264Z",
     "iopub.status.busy": "2021-12-19T04:00:12.012785Z",
     "iopub.status.idle": "2021-12-19T04:00:14.034327Z",
     "shell.execute_reply": "2021-12-19T04:00:14.035528Z"
    },
    "papermill": {
     "duration": 2.057839,
     "end_time": "2021-12-19T04:00:14.035957",
     "exception": false,
     "start_time": "2021-12-19T04:00:11.978118",
     "status": "completed"
    },
    "tags": []
   },
   "outputs": [
    {
     "data": {
      "text/plain": [
       "<AxesSubplot:ylabel='PRODUCT'>"
      ]
     },
     "execution_count": 7,
     "metadata": {},
     "output_type": "execute_result"
    },
    {
     "data": {
      "image/png": "[encoded data removed]",
      "text/plain": [
       "<Figure size 432x288 with 1 Axes>"
      ]
     },
     "metadata": {
      "needs_background": "light"
     },
     "output_type": "display_data"
    }
   ],
   "source": [
    "df_pivot_diff.sort_values(\"stamp_2\", ascending = False)[\"stamp_2\"].head(10).plot.barh()"
   ]
  },
  {
   "cell_type": "code",
   "execution_count": null,
   "id": "extra-executive",
   "metadata": {
    "papermill": {
     "duration": 0.0223,
     "end_time": "2021-12-19T04:00:14.082240",
     "exception": false,
     "start_time": "2021-12-19T04:00:14.059940",
     "status": "completed"
    },
    "tags": []
   },
   "outputs": [],
   "source": []
  }
 ],
 "metadata": {
  "kernelspec": {
   "display_name": "Python 3",
   "language": "python",
   "name": "python3"
  },
  "language_info": {
   "codemirror_mode": {
    "name": "ipython",
    "version": 3
   },
   "file_extension": ".py",
   "mimetype": "text/x-python",
   "name": "python",
   "nbconvert_exporter": "python",
   "pygments_lexer": "ipython3",
   "version": "3.9.5"
  },
  "papermill": {
   "default_parameters": {},
   "duration": 9.693517,
   "end_time": "2021-12-19T04:00:14.725972",
   "environment_variables": {},
   "exception": null,
   "input_path": "eBay_Overview.ipynb",
   "output_path": "eBay_Overview.ipynb",
   "parameters": {},
   "start_time": "2021-12-19T04:00:05.032455",
   "version": "2.3.3"
  }
 },
 "nbformat": 4,
 "nbformat_minor": 5
}