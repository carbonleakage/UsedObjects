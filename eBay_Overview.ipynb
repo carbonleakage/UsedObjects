{
 "cells": [
  {
   "cell_type": "code",
   "execution_count": 1,
   "id": "reverse-picking",
   "metadata": {
    "execution": {
     "iopub.execute_input": "2021-11-02T15:30:08.548472Z",
     "iopub.status.busy": "2021-11-02T15:30:08.546052Z",
     "iopub.status.idle": "2021-11-02T15:30:09.481349Z",
     "shell.execute_reply": "2021-11-02T15:30:09.483125Z"
    },
    "papermill": {
     "duration": 0.986045,
     "end_time": "2021-11-02T15:30:09.483969",
     "exception": false,
     "start_time": "2021-11-02T15:30:08.497924",
     "status": "completed"
    },
    "tags": []
   },
   "outputs": [],
   "source": [
    "import pandas as pd\n",
    "import sqlite3"
   ]
  },
  {
   "cell_type": "code",
   "execution_count": 2,
   "id": "innovative-syndrome",
   "metadata": {
    "execution": {
     "iopub.execute_input": "2021-11-02T15:30:09.556648Z",
     "iopub.status.busy": "2021-11-02T15:30:09.554355Z",
     "iopub.status.idle": "2021-11-02T15:30:10.265573Z",
     "shell.execute_reply": "2021-11-02T15:30:10.267249Z"
    },
    "papermill": {
     "duration": 0.753946,
     "end_time": "2021-11-02T15:30:10.267781",
     "exception": false,
     "start_time": "2021-11-02T15:30:09.513835",
     "status": "completed"
    },
    "tags": []
   },
   "outputs": [],
   "source": [
    "timestamps = pd.read_sql(\"select distinct record_time from EBAY_TOP_BERLIN order by record_time desc limit 2\", sqlite3.connect(\"UsedObjects.db\"))"
   ]
  },
  {
   "cell_type": "code",
   "execution_count": 3,
   "id": "periodic-identification",
   "metadata": {
    "execution": {
     "iopub.execute_input": "2021-11-02T15:30:10.338707Z",
     "iopub.status.busy": "2021-11-02T15:30:10.336380Z",
     "iopub.status.idle": "2021-11-02T15:30:10.358215Z",
     "shell.execute_reply": "2021-11-02T15:30:10.359901Z"
    },
    "papermill": {
     "duration": 0.070077,
     "end_time": "2021-11-02T15:30:10.360433",
     "exception": false,
     "start_time": "2021-11-02T15:30:10.290356",
     "status": "completed"
    },
    "tags": []
   },
   "outputs": [
    {
     "data": {
      "text/html": [
       "<div>\n",
       "<style scoped>\n",
       "    .dataframe tbody tr th:only-of-type {\n",
       "        vertical-align: middle;\n",
       "    }\n",
       "\n",
       "    .dataframe tbody tr th {\n",
       "        vertical-align: top;\n",
       "    }\n",
       "\n",
       "    .dataframe thead th {\n",
       "        text-align: right;\n",
       "    }\n",
       "</style>\n",
       "<table border=\"1\" class=\"dataframe\">\n",
       "  <thead>\n",
       "    <tr style=\"text-align: right;\">\n",
       "      <th></th>\n",
       "      <th>RECORD_TIME</th>\n",
       "    </tr>\n",
       "  </thead>\n",
       "  <tbody>\n",
       "    <tr>\n",
       "      <th>0</th>\n",
       "      <td>2021-11-02 16:30</td>\n",
       "    </tr>\n",
       "    <tr>\n",
       "      <th>1</th>\n",
       "      <td>2021-11-02 16:00</td>\n",
       "    </tr>\n",
       "  </tbody>\n",
       "</table>\n",
       "</div>"
      ],
      "text/plain": [
       "        RECORD_TIME\n",
       "0  2021-11-02 16:30\n",
       "1  2021-11-02 16:00"
      ]
     },
     "execution_count": 3,
     "metadata": {},
     "output_type": "execute_result"
    }
   ],
   "source": [
    "timestamps"
   ]
  },
  {
   "cell_type": "code",
   "execution_count": 4,
   "id": "alternate-victory",
   "metadata": {
    "execution": {
     "iopub.execute_input": "2021-11-02T15:30:10.412618Z",
     "iopub.status.busy": "2021-11-02T15:30:10.410179Z",
     "iopub.status.idle": "2021-11-02T15:30:11.483520Z",
     "shell.execute_reply": "2021-11-02T15:30:11.486234Z"
    },
    "papermill": {
     "duration": 1.105683,
     "end_time": "2021-11-02T15:30:11.486985",
     "exception": false,
     "start_time": "2021-11-02T15:30:10.381302",
     "status": "completed"
    },
    "tags": []
   },
   "outputs": [],
   "source": [
    "df = pd.read_sql(\"select * from EBAY_TOP_BERLIN where record_time in (select distinct record_time from EBAY_TOP_BERLIN order by record_time desc limit 2)\", sqlite3.connect(\"UsedObjects.db\"))"
   ]
  },
  {
   "cell_type": "code",
   "execution_count": 5,
   "id": "popular-active",
   "metadata": {
    "execution": {
     "iopub.execute_input": "2021-11-02T15:30:11.574085Z",
     "iopub.status.busy": "2021-11-02T15:30:11.561072Z",
     "iopub.status.idle": "2021-11-02T15:30:11.593244Z",
     "shell.execute_reply": "2021-11-02T15:30:11.595571Z"
    },
    "papermill": {
     "duration": 0.079052,
     "end_time": "2021-11-02T15:30:11.596424",
     "exception": false,
     "start_time": "2021-11-02T15:30:11.517372",
     "status": "completed"
    },
    "tags": []
   },
   "outputs": [],
   "source": [
    "df_pivot = df.pivot_table(index=\"PRODUCT\", columns = \"RECORD_TIME\", values = \"LISTING_COUNT\")"
   ]
  },
  {
   "cell_type": "code",
   "execution_count": 6,
   "id": "union-huntington",
   "metadata": {
    "execution": {
     "iopub.execute_input": "2021-11-02T15:30:11.654896Z",
     "iopub.status.busy": "2021-11-02T15:30:11.652783Z",
     "iopub.status.idle": "2021-11-02T15:30:11.658173Z",
     "shell.execute_reply": "2021-11-02T15:30:11.659475Z"
    },
    "papermill": {
     "duration": 0.043507,
     "end_time": "2021-11-02T15:30:11.659950",
     "exception": false,
     "start_time": "2021-11-02T15:30:11.616443",
     "status": "completed"
    },
    "tags": []
   },
   "outputs": [],
   "source": [
    "df_pivot.columns = [\"stamp_1\", \"stamp_2\"]\n",
    "df_pivot_diff = df_pivot.diff(axis=1)"
   ]
  },
  {
   "cell_type": "code",
   "execution_count": 7,
   "id": "fifth-motion",
   "metadata": {
    "execution": {
     "iopub.execute_input": "2021-11-02T15:30:11.717862Z",
     "iopub.status.busy": "2021-11-02T15:30:11.714928Z",
     "iopub.status.idle": "2021-11-02T15:30:13.602592Z",
     "shell.execute_reply": "2021-11-02T15:30:13.605195Z"
    },
    "papermill": {
     "duration": 1.92597,
     "end_time": "2021-11-02T15:30:13.606009",
     "exception": false,
     "start_time": "2021-11-02T15:30:11.680039",
     "status": "completed"
    },
    "tags": []
   },
   "outputs": [
    {
     "data": {
      "text/plain": [
       "<AxesSubplot:ylabel='PRODUCT'>"
      ]
     },
     "execution_count": 7,
     "metadata": {},
     "output_type": "execute_result"
    },
    {
     "data": {
      "image/png": "[encoded data removed]",
      "text/plain": [
       "<Figure size 432x288 with 1 Axes>"
      ]
     },
     "metadata": {
      "needs_background": "light"
     },
     "output_type": "display_data"
    }
   ],
   "source": [
    "df_pivot_diff.sort_values(\"stamp_2\", ascending = False)[\"stamp_2\"].head(10).plot.barh()"
   ]
  },
  {
   "cell_type": "code",
   "execution_count": null,
   "id": "extra-executive",
   "metadata": {
    "papermill": {
     "duration": 0.033735,
     "end_time": "2021-11-02T15:30:13.676132",
     "exception": false,
     "start_time": "2021-11-02T15:30:13.642397",
     "status": "completed"
    },
    "tags": []
   },
   "outputs": [],
   "source": []
  }
 ],
 "metadata": {
  "kernelspec": {
   "display_name": "Python 3",
   "language": "python",
   "name": "python3"
  },
  "language_info": {
   "codemirror_mode": {
    "name": "ipython",
    "version": 3
   },
   "file_extension": ".py",
   "mimetype": "text/x-python",
   "name": "python",
   "nbconvert_exporter": "python",
   "pygments_lexer": "ipython3",
   "version": "3.9.5"
  },
  "papermill": {
   "default_parameters": {},
   "duration": 8.634518,
   "end_time": "2021-11-02T15:30:14.431383",
   "environment_variables": {},
   "exception": null,
   "input_path": "eBay_Overview.ipynb",
   "output_path": "eBay_Overview.ipynb",
   "parameters": {},
   "start_time": "2021-11-02T15:30:05.796865",
   "version": "2.3.3"
  }
 },
 "nbformat": 4,
 "nbformat_minor": 5
}