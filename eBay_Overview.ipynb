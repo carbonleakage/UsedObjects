{
 "cells": [
  {
   "cell_type": "code",
   "execution_count": 1,
   "id": "reverse-picking",
   "metadata": {
    "execution": {
     "iopub.execute_input": "2021-09-09T09:30:06.699998Z",
     "iopub.status.busy": "2021-09-09T09:30:06.697957Z",
     "iopub.status.idle": "2021-09-09T09:30:07.507999Z",
     "shell.execute_reply": "2021-09-09T09:30:07.506205Z"
    },
    "papermill": {
     "duration": 0.857886,
     "end_time": "2021-09-09T09:30:07.508407",
     "exception": false,
     "start_time": "2021-09-09T09:30:06.650521",
     "status": "completed"
    },
    "tags": []
   },
   "outputs": [],
   "source": [
    "import pandas as pd\n",
    "import sqlite3"
   ]
  },
  {
   "cell_type": "code",
   "execution_count": 2,
   "id": "innovative-syndrome",
   "metadata": {
    "execution": {
     "iopub.execute_input": "2021-09-09T09:30:07.560445Z",
     "iopub.status.busy": "2021-09-09T09:30:07.558068Z",
     "iopub.status.idle": "2021-09-09T09:30:07.806201Z",
     "shell.execute_reply": "2021-09-09T09:30:07.807597Z"
    },
    "papermill": {
     "duration": 0.278214,
     "end_time": "2021-09-09T09:30:07.808011",
     "exception": false,
     "start_time": "2021-09-09T09:30:07.529797",
     "status": "completed"
    },
    "tags": []
   },
   "outputs": [],
   "source": [
    "timestamps = pd.read_sql(\"select distinct record_time from EBAY_TOP_BERLIN order by record_time desc limit 2\", sqlite3.connect(\"UsedObjects.db\"))"
   ]
  },
  {
   "cell_type": "code",
   "execution_count": 3,
   "id": "periodic-identification",
   "metadata": {
    "execution": {
     "iopub.execute_input": "2021-09-09T09:30:07.875023Z",
     "iopub.status.busy": "2021-09-09T09:30:07.872946Z",
     "iopub.status.idle": "2021-09-09T09:30:07.893643Z",
     "shell.execute_reply": "2021-09-09T09:30:07.895169Z"
    },
    "papermill": {
     "duration": 0.066911,
     "end_time": "2021-09-09T09:30:07.895642",
     "exception": false,
     "start_time": "2021-09-09T09:30:07.828731",
     "status": "completed"
    },
    "tags": []
   },
   "outputs": [
    {
     "data": {
      "text/html": [
       "<div>\n",
       "<style scoped>\n",
       "    .dataframe tbody tr th:only-of-type {\n",
       "        vertical-align: middle;\n",
       "    }\n",
       "\n",
       "    .dataframe tbody tr th {\n",
       "        vertical-align: top;\n",
       "    }\n",
       "\n",
       "    .dataframe thead th {\n",
       "        text-align: right;\n",
       "    }\n",
       "</style>\n",
       "<table border=\"1\" class=\"dataframe\">\n",
       "  <thead>\n",
       "    <tr style=\"text-align: right;\">\n",
       "      <th></th>\n",
       "      <th>RECORD_TIME</th>\n",
       "    </tr>\n",
       "  </thead>\n",
       "  <tbody>\n",
       "    <tr>\n",
       "      <th>0</th>\n",
       "      <td>2021-09-09 11:30</td>\n",
       "    </tr>\n",
       "    <tr>\n",
       "      <th>1</th>\n",
       "      <td>2021-09-09 11:00</td>\n",
       "    </tr>\n",
       "  </tbody>\n",
       "</table>\n",
       "</div>"
      ],
      "text/plain": [
       "        RECORD_TIME\n",
       "0  2021-09-09 11:30\n",
       "1  2021-09-09 11:00"
      ]
     },
     "execution_count": 3,
     "metadata": {},
     "output_type": "execute_result"
    }
   ],
   "source": [
    "timestamps"
   ]
  },
  {
   "cell_type": "code",
   "execution_count": 4,
   "id": "alternate-victory",
   "metadata": {
    "execution": {
     "iopub.execute_input": "2021-09-09T09:30:07.947613Z",
     "iopub.status.busy": "2021-09-09T09:30:07.945673Z",
     "iopub.status.idle": "2021-09-09T09:30:08.304084Z",
     "shell.execute_reply": "2021-09-09T09:30:08.305350Z"
    },
    "papermill": {
     "duration": 0.388251,
     "end_time": "2021-09-09T09:30:08.305747",
     "exception": false,
     "start_time": "2021-09-09T09:30:07.917496",
     "status": "completed"
    },
    "tags": []
   },
   "outputs": [],
   "source": [
    "df = pd.read_sql(\"select * from EBAY_TOP_BERLIN where record_time in (select distinct record_time from EBAY_TOP_BERLIN order by record_time desc limit 2)\", sqlite3.connect(\"UsedObjects.db\"))"
   ]
  },
  {
   "cell_type": "code",
   "execution_count": 5,
   "id": "popular-active",
   "metadata": {
    "execution": {
     "iopub.execute_input": "2021-09-09T09:30:08.379828Z",
     "iopub.status.busy": "2021-09-09T09:30:08.372082Z",
     "iopub.status.idle": "2021-09-09T09:30:08.400715Z",
     "shell.execute_reply": "2021-09-09T09:30:08.401995Z"
    },
    "papermill": {
     "duration": 0.071048,
     "end_time": "2021-09-09T09:30:08.402412",
     "exception": false,
     "start_time": "2021-09-09T09:30:08.331364",
     "status": "completed"
    },
    "tags": []
   },
   "outputs": [],
   "source": [
    "df_pivot = df.pivot_table(index=\"PRODUCT\", columns = \"RECORD_TIME\", values = \"LISTING_COUNT\")"
   ]
  },
  {
   "cell_type": "code",
   "execution_count": 6,
   "id": "union-huntington",
   "metadata": {
    "execution": {
     "iopub.execute_input": "2021-09-09T09:30:08.458963Z",
     "iopub.status.busy": "2021-09-09T09:30:08.456815Z",
     "iopub.status.idle": "2021-09-09T09:30:08.462015Z",
     "shell.execute_reply": "2021-09-09T09:30:08.463350Z"
    },
    "papermill": {
     "duration": 0.041341,
     "end_time": "2021-09-09T09:30:08.463772",
     "exception": false,
     "start_time": "2021-09-09T09:30:08.422431",
     "status": "completed"
    },
    "tags": []
   },
   "outputs": [],
   "source": [
    "df_pivot.columns = [\"stamp_1\", \"stamp_2\"]\n",
    "df_pivot_diff = df_pivot.diff(axis=1)"
   ]
  },
  {
   "cell_type": "code",
   "execution_count": 7,
   "id": "fifth-motion",
   "metadata": {
    "execution": {
     "iopub.execute_input": "2021-09-09T09:30:08.517804Z",
     "iopub.status.busy": "2021-09-09T09:30:08.515392Z",
     "iopub.status.idle": "2021-09-09T09:30:09.987300Z",
     "shell.execute_reply": "2021-09-09T09:30:09.988591Z"
    },
    "papermill": {
     "duration": 1.50483,
     "end_time": "2021-09-09T09:30:09.989006",
     "exception": false,
     "start_time": "2021-09-09T09:30:08.484176",
     "status": "completed"
    },
    "tags": []
   },
   "outputs": [
    {
     "data": {
      "text/plain": [
       "<AxesSubplot:ylabel='PRODUCT'>"
      ]
     },
     "execution_count": 7,
     "metadata": {},
     "output_type": "execute_result"
    },
    {
     "data": {
      "image/png": "[encoded data removed]",
      "text/plain": [
       "<Figure size 432x288 with 1 Axes>"
      ]
     },
     "metadata": {
      "needs_background": "light"
     },
     "output_type": "display_data"
    }
   ],
   "source": [
    "df_pivot_diff.sort_values(\"stamp_2\", ascending = False)[\"stamp_2\"].head(10).plot.barh()"
   ]
  },
  {
   "cell_type": "code",
   "execution_count": null,
   "id": "extra-executive",
   "metadata": {
    "papermill": {
     "duration": 0.022171,
     "end_time": "2021-09-09T09:30:10.035045",
     "exception": false,
     "start_time": "2021-09-09T09:30:10.012874",
     "status": "completed"
    },
    "tags": []
   },
   "outputs": [],
   "source": []
  }
 ],
 "metadata": {
  "kernelspec": {
   "display_name": "Python 3",
   "language": "python",
   "name": "python3"
  },
  "language_info": {
   "codemirror_mode": {
    "name": "ipython",
    "version": 3
   },
   "file_extension": ".py",
   "mimetype": "text/x-python",
   "name": "python",
   "nbconvert_exporter": "python",
   "pygments_lexer": "ipython3",
   "version": "3.9.5"
  },
  "papermill": {
   "default_parameters": {},
   "duration": 6.439951,
   "end_time": "2021-09-09T09:30:10.675822",
   "environment_variables": {},
   "exception": null,
   "input_path": "eBay_Overview.ipynb",
   "output_path": "eBay_Overview.ipynb",
   "parameters": {},
   "start_time": "2021-09-09T09:30:04.235871",
   "version": "2.3.3"
  }
 },
 "nbformat": 4,
 "nbformat_minor": 5
}