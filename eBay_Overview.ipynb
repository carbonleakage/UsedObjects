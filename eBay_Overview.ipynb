{
 "cells": [
  {
   "cell_type": "code",
   "execution_count": 1,
   "id": "reverse-picking",
   "metadata": {
    "execution": {
     "iopub.execute_input": "2021-11-01T18:00:07.098593Z",
     "iopub.status.busy": "2021-11-01T18:00:07.096550Z",
     "iopub.status.idle": "2021-11-01T18:00:07.900968Z",
     "shell.execute_reply": "2021-11-01T18:00:07.902234Z"
    },
    "papermill": {
     "duration": 0.856944,
     "end_time": "2021-11-01T18:00:07.902902",
     "exception": false,
     "start_time": "2021-11-01T18:00:07.045958",
     "status": "completed"
    },
    "tags": []
   },
   "outputs": [],
   "source": [
    "import pandas as pd\n",
    "import sqlite3"
   ]
  },
  {
   "cell_type": "code",
   "execution_count": 2,
   "id": "innovative-syndrome",
   "metadata": {
    "execution": {
     "iopub.execute_input": "2021-11-01T18:00:07.953279Z",
     "iopub.status.busy": "2021-11-01T18:00:07.951297Z",
     "iopub.status.idle": "2021-11-01T18:00:08.645383Z",
     "shell.execute_reply": "2021-11-01T18:00:08.646669Z"
    },
    "papermill": {
     "duration": 0.723856,
     "end_time": "2021-11-01T18:00:08.647081",
     "exception": false,
     "start_time": "2021-11-01T18:00:07.923225",
     "status": "completed"
    },
    "tags": []
   },
   "outputs": [],
   "source": [
    "timestamps = pd.read_sql(\"select distinct record_time from EBAY_TOP_BERLIN order by record_time desc limit 2\", sqlite3.connect(\"UsedObjects.db\"))"
   ]
  },
  {
   "cell_type": "code",
   "execution_count": 3,
   "id": "periodic-identification",
   "metadata": {
    "execution": {
     "iopub.execute_input": "2021-11-01T18:00:08.726806Z",
     "iopub.status.busy": "2021-11-01T18:00:08.724755Z",
     "iopub.status.idle": "2021-11-01T18:00:08.745223Z",
     "shell.execute_reply": "2021-11-01T18:00:08.746442Z"
    },
    "papermill": {
     "duration": 0.071678,
     "end_time": "2021-11-01T18:00:08.746885",
     "exception": false,
     "start_time": "2021-11-01T18:00:08.675207",
     "status": "completed"
    },
    "tags": []
   },
   "outputs": [
    {
     "data": {
      "text/html": [
       "<div>\n",
       "<style scoped>\n",
       "    .dataframe tbody tr th:only-of-type {\n",
       "        vertical-align: middle;\n",
       "    }\n",
       "\n",
       "    .dataframe tbody tr th {\n",
       "        vertical-align: top;\n",
       "    }\n",
       "\n",
       "    .dataframe thead th {\n",
       "        text-align: right;\n",
       "    }\n",
       "</style>\n",
       "<table border=\"1\" class=\"dataframe\">\n",
       "  <thead>\n",
       "    <tr style=\"text-align: right;\">\n",
       "      <th></th>\n",
       "      <th>RECORD_TIME</th>\n",
       "    </tr>\n",
       "  </thead>\n",
       "  <tbody>\n",
       "    <tr>\n",
       "      <th>0</th>\n",
       "      <td>2021-11-01 19:00</td>\n",
       "    </tr>\n",
       "    <tr>\n",
       "      <th>1</th>\n",
       "      <td>2021-11-01 18:30</td>\n",
       "    </tr>\n",
       "  </tbody>\n",
       "</table>\n",
       "</div>"
      ],
      "text/plain": [
       "        RECORD_TIME\n",
       "0  2021-11-01 19:00\n",
       "1  2021-11-01 18:30"
      ]
     },
     "execution_count": 3,
     "metadata": {},
     "output_type": "execute_result"
    }
   ],
   "source": [
    "timestamps"
   ]
  },
  {
   "cell_type": "code",
   "execution_count": 4,
   "id": "alternate-victory",
   "metadata": {
    "execution": {
     "iopub.execute_input": "2021-11-01T18:00:08.798174Z",
     "iopub.status.busy": "2021-11-01T18:00:08.796230Z",
     "iopub.status.idle": "2021-11-01T18:00:09.819696Z",
     "shell.execute_reply": "2021-11-01T18:00:09.821086Z"
    },
    "papermill": {
     "duration": 1.053602,
     "end_time": "2021-11-01T18:00:09.821568",
     "exception": false,
     "start_time": "2021-11-01T18:00:08.767966",
     "status": "completed"
    },
    "tags": []
   },
   "outputs": [],
   "source": [
    "df = pd.read_sql(\"select * from EBAY_TOP_BERLIN where record_time in (select distinct record_time from EBAY_TOP_BERLIN order by record_time desc limit 2)\", sqlite3.connect(\"UsedObjects.db\"))"
   ]
  },
  {
   "cell_type": "code",
   "execution_count": 5,
   "id": "popular-active",
   "metadata": {
    "execution": {
     "iopub.execute_input": "2021-11-01T18:00:09.891748Z",
     "iopub.status.busy": "2021-11-01T18:00:09.880020Z",
     "iopub.status.idle": "2021-11-01T18:00:09.909502Z",
     "shell.execute_reply": "2021-11-01T18:00:09.910894Z"
    },
    "papermill": {
     "duration": 0.068987,
     "end_time": "2021-11-01T18:00:09.911343",
     "exception": false,
     "start_time": "2021-11-01T18:00:09.842356",
     "status": "completed"
    },
    "tags": []
   },
   "outputs": [],
   "source": [
    "df_pivot = df.pivot_table(index=\"PRODUCT\", columns = \"RECORD_TIME\", values = \"LISTING_COUNT\")"
   ]
  },
  {
   "cell_type": "code",
   "execution_count": 6,
   "id": "union-huntington",
   "metadata": {
    "execution": {
     "iopub.execute_input": "2021-11-01T18:00:09.968896Z",
     "iopub.status.busy": "2021-11-01T18:00:09.966585Z",
     "iopub.status.idle": "2021-11-01T18:00:09.972321Z",
     "shell.execute_reply": "2021-11-01T18:00:09.973686Z"
    },
    "papermill": {
     "duration": 0.042142,
     "end_time": "2021-11-01T18:00:09.974115",
     "exception": false,
     "start_time": "2021-11-01T18:00:09.931973",
     "status": "completed"
    },
    "tags": []
   },
   "outputs": [],
   "source": [
    "df_pivot.columns = [\"stamp_1\", \"stamp_2\"]\n",
    "df_pivot_diff = df_pivot.diff(axis=1)"
   ]
  },
  {
   "cell_type": "code",
   "execution_count": 7,
   "id": "fifth-motion",
   "metadata": {
    "execution": {
     "iopub.execute_input": "2021-11-01T18:00:10.028062Z",
     "iopub.status.busy": "2021-11-01T18:00:10.025894Z",
     "iopub.status.idle": "2021-11-01T18:00:11.527260Z",
     "shell.execute_reply": "2021-11-01T18:00:11.528628Z"
    },
    "papermill": {
     "duration": 1.534188,
     "end_time": "2021-11-01T18:00:11.529141",
     "exception": false,
     "start_time": "2021-11-01T18:00:09.994953",
     "status": "completed"
    },
    "tags": []
   },
   "outputs": [
    {
     "data": {
      "text/plain": [
       "<AxesSubplot:ylabel='PRODUCT'>"
      ]
     },
     "execution_count": 7,
     "metadata": {},
     "output_type": "execute_result"
    },
    {
     "data": {
      "image/png": "[encoded data removed]",
      "text/plain": [
       "<Figure size 432x288 with 1 Axes>"
      ]
     },
     "metadata": {
      "needs_background": "light"
     },
     "output_type": "display_data"
    }
   ],
   "source": [
    "df_pivot_diff.sort_values(\"stamp_2\", ascending = False)[\"stamp_2\"].head(10).plot.barh()"
   ]
  },
  {
   "cell_type": "code",
   "execution_count": null,
   "id": "extra-executive",
   "metadata": {
    "papermill": {
     "duration": 0.032867,
     "end_time": "2021-11-01T18:00:11.589635",
     "exception": false,
     "start_time": "2021-11-01T18:00:11.556768",
     "status": "completed"
    },
    "tags": []
   },
   "outputs": [],
   "source": []
  }
 ],
 "metadata": {
  "kernelspec": {
   "display_name": "Python 3",
   "language": "python",
   "name": "python3"
  },
  "language_info": {
   "codemirror_mode": {
    "name": "ipython",
    "version": 3
   },
   "file_extension": ".py",
   "mimetype": "text/x-python",
   "name": "python",
   "nbconvert_exporter": "python",
   "pygments_lexer": "ipython3",
   "version": "3.9.5"
  },
  "papermill": {
   "default_parameters": {},
   "duration": 7.638455,
   "end_time": "2021-11-01T18:00:12.279785",
   "environment_variables": {},
   "exception": null,
   "input_path": "eBay_Overview.ipynb",
   "output_path": "eBay_Overview.ipynb",
   "parameters": {},
   "start_time": "2021-11-01T18:00:04.641330",
   "version": "2.3.3"
  }
 },
 "nbformat": 4,
 "nbformat_minor": 5
}