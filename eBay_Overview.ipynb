{
 "cells": [
  {
   "cell_type": "code",
   "execution_count": 1,
   "id": "reverse-picking",
   "metadata": {
    "execution": {
     "iopub.execute_input": "2021-12-09T07:00:07.531581Z",
     "iopub.status.busy": "2021-12-09T07:00:07.529371Z",
     "iopub.status.idle": "2021-12-09T07:00:08.495761Z",
     "shell.execute_reply": "2021-12-09T07:00:08.497358Z"
    },
    "papermill": {
     "duration": 1.01638,
     "end_time": "2021-12-09T07:00:08.498081",
     "exception": false,
     "start_time": "2021-12-09T07:00:07.481701",
     "status": "completed"
    },
    "tags": []
   },
   "outputs": [],
   "source": [
    "import pandas as pd\n",
    "import sqlite3"
   ]
  },
  {
   "cell_type": "code",
   "execution_count": 2,
   "id": "innovative-syndrome",
   "metadata": {
    "execution": {
     "iopub.execute_input": "2021-12-09T07:00:08.553893Z",
     "iopub.status.busy": "2021-12-09T07:00:08.551757Z",
     "iopub.status.idle": "2021-12-09T07:00:09.553935Z",
     "shell.execute_reply": "2021-12-09T07:00:09.555354Z"
    },
    "papermill": {
     "duration": 1.034702,
     "end_time": "2021-12-09T07:00:09.555803",
     "exception": false,
     "start_time": "2021-12-09T07:00:08.521101",
     "status": "completed"
    },
    "tags": []
   },
   "outputs": [],
   "source": [
    "timestamps = pd.read_sql(\"select distinct record_time from EBAY_TOP_BERLIN order by record_time desc limit 2\", sqlite3.connect(\"UsedObjects.db\"))"
   ]
  },
  {
   "cell_type": "code",
   "execution_count": 3,
   "id": "periodic-identification",
   "metadata": {
    "execution": {
     "iopub.execute_input": "2021-12-09T07:00:09.627292Z",
     "iopub.status.busy": "2021-12-09T07:00:09.624489Z",
     "iopub.status.idle": "2021-12-09T07:00:09.659359Z",
     "shell.execute_reply": "2021-12-09T07:00:09.662082Z"
    },
    "papermill": {
     "duration": 0.087556,
     "end_time": "2021-12-09T07:00:09.662939",
     "exception": false,
     "start_time": "2021-12-09T07:00:09.575383",
     "status": "completed"
    },
    "tags": []
   },
   "outputs": [
    {
     "data": {
      "text/html": [
       "<div>\n",
       "<style scoped>\n",
       "    .dataframe tbody tr th:only-of-type {\n",
       "        vertical-align: middle;\n",
       "    }\n",
       "\n",
       "    .dataframe tbody tr th {\n",
       "        vertical-align: top;\n",
       "    }\n",
       "\n",
       "    .dataframe thead th {\n",
       "        text-align: right;\n",
       "    }\n",
       "</style>\n",
       "<table border=\"1\" class=\"dataframe\">\n",
       "  <thead>\n",
       "    <tr style=\"text-align: right;\">\n",
       "      <th></th>\n",
       "      <th>RECORD_TIME</th>\n",
       "    </tr>\n",
       "  </thead>\n",
       "  <tbody>\n",
       "    <tr>\n",
       "      <th>0</th>\n",
       "      <td>2021-12-09 08:00</td>\n",
       "    </tr>\n",
       "    <tr>\n",
       "      <th>1</th>\n",
       "      <td>2021-12-09 07:30</td>\n",
       "    </tr>\n",
       "  </tbody>\n",
       "</table>\n",
       "</div>"
      ],
      "text/plain": [
       "        RECORD_TIME\n",
       "0  2021-12-09 08:00\n",
       "1  2021-12-09 07:30"
      ]
     },
     "execution_count": 3,
     "metadata": {},
     "output_type": "execute_result"
    }
   ],
   "source": [
    "timestamps"
   ]
  },
  {
   "cell_type": "code",
   "execution_count": 4,
   "id": "alternate-victory",
   "metadata": {
    "execution": {
     "iopub.execute_input": "2021-12-09T07:00:09.738525Z",
     "iopub.status.busy": "2021-12-09T07:00:09.736102Z",
     "iopub.status.idle": "2021-12-09T07:00:11.190092Z",
     "shell.execute_reply": "2021-12-09T07:00:11.193738Z"
    },
    "papermill": {
     "duration": 1.497678,
     "end_time": "2021-12-09T07:00:11.194513",
     "exception": false,
     "start_time": "2021-12-09T07:00:09.696835",
     "status": "completed"
    },
    "tags": []
   },
   "outputs": [],
   "source": [
    "df = pd.read_sql(\"select * from EBAY_TOP_BERLIN where record_time in (select distinct record_time from EBAY_TOP_BERLIN order by record_time desc limit 2)\", sqlite3.connect(\"UsedObjects.db\"))"
   ]
  },
  {
   "cell_type": "code",
   "execution_count": 5,
   "id": "popular-active",
   "metadata": {
    "execution": {
     "iopub.execute_input": "2021-12-09T07:00:11.307665Z",
     "iopub.status.busy": "2021-12-09T07:00:11.292265Z",
     "iopub.status.idle": "2021-12-09T07:00:11.348665Z",
     "shell.execute_reply": "2021-12-09T07:00:11.352123Z"
    },
    "papermill": {
     "duration": 0.126377,
     "end_time": "2021-12-09T07:00:11.353163",
     "exception": false,
     "start_time": "2021-12-09T07:00:11.226786",
     "status": "completed"
    },
    "tags": []
   },
   "outputs": [],
   "source": [
    "df_pivot = df.pivot_table(index=\"PRODUCT\", columns = \"RECORD_TIME\", values = \"LISTING_COUNT\")"
   ]
  },
  {
   "cell_type": "code",
   "execution_count": 6,
   "id": "union-huntington",
   "metadata": {
    "execution": {
     "iopub.execute_input": "2021-12-09T07:00:11.450216Z",
     "iopub.status.busy": "2021-12-09T07:00:11.446700Z",
     "iopub.status.idle": "2021-12-09T07:00:11.456850Z",
     "shell.execute_reply": "2021-12-09T07:00:11.459188Z"
    },
    "papermill": {
     "duration": 0.072107,
     "end_time": "2021-12-09T07:00:11.459857",
     "exception": false,
     "start_time": "2021-12-09T07:00:11.387750",
     "status": "completed"
    },
    "tags": []
   },
   "outputs": [],
   "source": [
    "df_pivot.columns = [\"stamp_1\", \"stamp_2\"]\n",
    "df_pivot_diff = df_pivot.diff(axis=1)"
   ]
  },
  {
   "cell_type": "code",
   "execution_count": 7,
   "id": "fifth-motion",
   "metadata": {
    "execution": {
     "iopub.execute_input": "2021-12-09T07:00:11.539400Z",
     "iopub.status.busy": "2021-12-09T07:00:11.534875Z",
     "iopub.status.idle": "2021-12-09T07:00:13.292966Z",
     "shell.execute_reply": "2021-12-09T07:00:13.294264Z"
    },
    "papermill": {
     "duration": 1.809248,
     "end_time": "2021-12-09T07:00:13.294685",
     "exception": false,
     "start_time": "2021-12-09T07:00:11.485437",
     "status": "completed"
    },
    "tags": []
   },
   "outputs": [
    {
     "data": {
      "text/plain": [
       "<AxesSubplot:ylabel='PRODUCT'>"
      ]
     },
     "execution_count": 7,
     "metadata": {},
     "output_type": "execute_result"
    },
    {
     "data": {
      "image/png": "[encoded data removed]",
      "text/plain": [
       "<Figure size 432x288 with 1 Axes>"
      ]
     },
     "metadata": {
      "needs_background": "light"
     },
     "output_type": "display_data"
    }
   ],
   "source": [
    "df_pivot_diff.sort_values(\"stamp_2\", ascending = False)[\"stamp_2\"].head(10).plot.barh()"
   ]
  },
  {
   "cell_type": "code",
   "execution_count": null,
   "id": "extra-executive",
   "metadata": {
    "papermill": {
     "duration": 0.0224,
     "end_time": "2021-12-09T07:00:13.342017",
     "exception": false,
     "start_time": "2021-12-09T07:00:13.319617",
     "status": "completed"
    },
    "tags": []
   },
   "outputs": [],
   "source": []
  }
 ],
 "metadata": {
  "kernelspec": {
   "display_name": "Python 3",
   "language": "python",
   "name": "python3"
  },
  "language_info": {
   "codemirror_mode": {
    "name": "ipython",
    "version": 3
   },
   "file_extension": ".py",
   "mimetype": "text/x-python",
   "name": "python",
   "nbconvert_exporter": "python",
   "pygments_lexer": "ipython3",
   "version": "3.9.5"
  },
  "papermill": {
   "default_parameters": {},
   "duration": 9.962555,
   "end_time": "2021-12-09T07:00:14.697769",
   "environment_variables": {},
   "exception": null,
   "input_path": "eBay_Overview.ipynb",
   "output_path": "eBay_Overview.ipynb",
   "parameters": {},
   "start_time": "2021-12-09T07:00:04.735214",
   "version": "2.3.3"
  }
 },
 "nbformat": 4,
 "nbformat_minor": 5
}