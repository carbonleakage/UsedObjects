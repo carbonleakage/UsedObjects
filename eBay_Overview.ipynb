{
 "cells": [
  {
   "cell_type": "code",
   "execution_count": 1,
   "id": "reverse-picking",
   "metadata": {
    "execution": {
     "iopub.execute_input": "2021-10-25T18:30:07.763298Z",
     "iopub.status.busy": "2021-10-25T18:30:07.761352Z",
     "iopub.status.idle": "2021-10-25T18:30:08.568329Z",
     "shell.execute_reply": "2021-10-25T18:30:08.569681Z"
    },
    "papermill": {
     "duration": 0.860765,
     "end_time": "2021-10-25T18:30:08.570310",
     "exception": false,
     "start_time": "2021-10-25T18:30:07.709545",
     "status": "completed"
    },
    "tags": []
   },
   "outputs": [],
   "source": [
    "import pandas as pd\n",
    "import sqlite3"
   ]
  },
  {
   "cell_type": "code",
   "execution_count": 2,
   "id": "innovative-syndrome",
   "metadata": {
    "execution": {
     "iopub.execute_input": "2021-10-25T18:30:08.622801Z",
     "iopub.status.busy": "2021-10-25T18:30:08.620392Z",
     "iopub.status.idle": "2021-10-25T18:30:09.258392Z",
     "shell.execute_reply": "2021-10-25T18:30:09.259684Z"
    },
    "papermill": {
     "duration": 0.667375,
     "end_time": "2021-10-25T18:30:09.260102",
     "exception": false,
     "start_time": "2021-10-25T18:30:08.592727",
     "status": "completed"
    },
    "tags": []
   },
   "outputs": [],
   "source": [
    "timestamps = pd.read_sql(\"select distinct record_time from EBAY_TOP_BERLIN order by record_time desc limit 2\", sqlite3.connect(\"UsedObjects.db\"))"
   ]
  },
  {
   "cell_type": "code",
   "execution_count": 3,
   "id": "periodic-identification",
   "metadata": {
    "execution": {
     "iopub.execute_input": "2021-10-25T18:30:09.332226Z",
     "iopub.status.busy": "2021-10-25T18:30:09.330228Z",
     "iopub.status.idle": "2021-10-25T18:30:09.349949Z",
     "shell.execute_reply": "2021-10-25T18:30:09.351193Z"
    },
    "papermill": {
     "duration": 0.066822,
     "end_time": "2021-10-25T18:30:09.351585",
     "exception": false,
     "start_time": "2021-10-25T18:30:09.284763",
     "status": "completed"
    },
    "tags": []
   },
   "outputs": [
    {
     "data": {
      "text/html": [
       "<div>\n",
       "<style scoped>\n",
       "    .dataframe tbody tr th:only-of-type {\n",
       "        vertical-align: middle;\n",
       "    }\n",
       "\n",
       "    .dataframe tbody tr th {\n",
       "        vertical-align: top;\n",
       "    }\n",
       "\n",
       "    .dataframe thead th {\n",
       "        text-align: right;\n",
       "    }\n",
       "</style>\n",
       "<table border=\"1\" class=\"dataframe\">\n",
       "  <thead>\n",
       "    <tr style=\"text-align: right;\">\n",
       "      <th></th>\n",
       "      <th>RECORD_TIME</th>\n",
       "    </tr>\n",
       "  </thead>\n",
       "  <tbody>\n",
       "    <tr>\n",
       "      <th>0</th>\n",
       "      <td>2021-10-25 20:30</td>\n",
       "    </tr>\n",
       "    <tr>\n",
       "      <th>1</th>\n",
       "      <td>2021-10-25 20:00</td>\n",
       "    </tr>\n",
       "  </tbody>\n",
       "</table>\n",
       "</div>"
      ],
      "text/plain": [
       "        RECORD_TIME\n",
       "0  2021-10-25 20:30\n",
       "1  2021-10-25 20:00"
      ]
     },
     "execution_count": 3,
     "metadata": {},
     "output_type": "execute_result"
    }
   ],
   "source": [
    "timestamps"
   ]
  },
  {
   "cell_type": "code",
   "execution_count": 4,
   "id": "alternate-victory",
   "metadata": {
    "execution": {
     "iopub.execute_input": "2021-10-25T18:30:09.404571Z",
     "iopub.status.busy": "2021-10-25T18:30:09.402292Z",
     "iopub.status.idle": "2021-10-25T18:30:10.346354Z",
     "shell.execute_reply": "2021-10-25T18:30:10.347550Z"
    },
    "papermill": {
     "duration": 0.97461,
     "end_time": "2021-10-25T18:30:10.347942",
     "exception": false,
     "start_time": "2021-10-25T18:30:09.373332",
     "status": "completed"
    },
    "tags": []
   },
   "outputs": [],
   "source": [
    "df = pd.read_sql(\"select * from EBAY_TOP_BERLIN where record_time in (select distinct record_time from EBAY_TOP_BERLIN order by record_time desc limit 2)\", sqlite3.connect(\"UsedObjects.db\"))"
   ]
  },
  {
   "cell_type": "code",
   "execution_count": 5,
   "id": "popular-active",
   "metadata": {
    "execution": {
     "iopub.execute_input": "2021-10-25T18:30:10.421425Z",
     "iopub.status.busy": "2021-10-25T18:30:10.410307Z",
     "iopub.status.idle": "2021-10-25T18:30:10.436856Z",
     "shell.execute_reply": "2021-10-25T18:30:10.438079Z"
    },
    "papermill": {
     "duration": 0.067728,
     "end_time": "2021-10-25T18:30:10.438475",
     "exception": false,
     "start_time": "2021-10-25T18:30:10.370747",
     "status": "completed"
    },
    "tags": []
   },
   "outputs": [],
   "source": [
    "df_pivot = df.pivot_table(index=\"PRODUCT\", columns = \"RECORD_TIME\", values = \"LISTING_COUNT\")"
   ]
  },
  {
   "cell_type": "code",
   "execution_count": 6,
   "id": "union-huntington",
   "metadata": {
    "execution": {
     "iopub.execute_input": "2021-10-25T18:30:10.495521Z",
     "iopub.status.busy": "2021-10-25T18:30:10.493386Z",
     "iopub.status.idle": "2021-10-25T18:30:10.498879Z",
     "shell.execute_reply": "2021-10-25T18:30:10.500229Z"
    },
    "papermill": {
     "duration": 0.040778,
     "end_time": "2021-10-25T18:30:10.500662",
     "exception": false,
     "start_time": "2021-10-25T18:30:10.459884",
     "status": "completed"
    },
    "tags": []
   },
   "outputs": [],
   "source": [
    "df_pivot.columns = [\"stamp_1\", \"stamp_2\"]\n",
    "df_pivot_diff = df_pivot.diff(axis=1)"
   ]
  },
  {
   "cell_type": "code",
   "execution_count": 7,
   "id": "fifth-motion",
   "metadata": {
    "execution": {
     "iopub.execute_input": "2021-10-25T18:30:10.557322Z",
     "iopub.status.busy": "2021-10-25T18:30:10.554538Z",
     "iopub.status.idle": "2021-10-25T18:30:12.026716Z",
     "shell.execute_reply": "2021-10-25T18:30:12.027977Z"
    },
    "papermill": {
     "duration": 1.505655,
     "end_time": "2021-10-25T18:30:12.028390",
     "exception": false,
     "start_time": "2021-10-25T18:30:10.522735",
     "status": "completed"
    },
    "tags": []
   },
   "outputs": [
    {
     "data": {
      "text/plain": [
       "<AxesSubplot:ylabel='PRODUCT'>"
      ]
     },
     "execution_count": 7,
     "metadata": {},
     "output_type": "execute_result"
    },
    {
     "data": {
      "image/png": "[encoded data removed]",
      "text/plain": [
       "<Figure size 432x288 with 1 Axes>"
      ]
     },
     "metadata": {
      "needs_background": "light"
     },
     "output_type": "display_data"
    }
   ],
   "source": [
    "df_pivot_diff.sort_values(\"stamp_2\", ascending = False)[\"stamp_2\"].head(10).plot.barh()"
   ]
  },
  {
   "cell_type": "code",
   "execution_count": null,
   "id": "extra-executive",
   "metadata": {
    "papermill": {
     "duration": 0.021878,
     "end_time": "2021-10-25T18:30:12.074653",
     "exception": false,
     "start_time": "2021-10-25T18:30:12.052775",
     "status": "completed"
    },
    "tags": []
   },
   "outputs": [],
   "source": []
  }
 ],
 "metadata": {
  "kernelspec": {
   "display_name": "Python 3",
   "language": "python",
   "name": "python3"
  },
  "language_info": {
   "codemirror_mode": {
    "name": "ipython",
    "version": 3
   },
   "file_extension": ".py",
   "mimetype": "text/x-python",
   "name": "python",
   "nbconvert_exporter": "python",
   "pygments_lexer": "ipython3",
   "version": "3.9.5"
  },
  "papermill": {
   "default_parameters": {},
   "duration": 7.412398,
   "end_time": "2021-10-25T18:30:12.715342",
   "environment_variables": {},
   "exception": null,
   "input_path": "eBay_Overview.ipynb",
   "output_path": "eBay_Overview.ipynb",
   "parameters": {},
   "start_time": "2021-10-25T18:30:05.302944",
   "version": "2.3.3"
  }
 },
 "nbformat": 4,
 "nbformat_minor": 5
}