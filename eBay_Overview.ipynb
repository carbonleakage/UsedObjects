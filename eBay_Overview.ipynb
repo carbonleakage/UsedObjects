{
 "cells": [
  {
   "cell_type": "code",
   "execution_count": 1,
   "id": "reverse-picking",
   "metadata": {
    "execution": {
     "iopub.execute_input": "2021-08-12T14:30:04.445050Z",
     "iopub.status.busy": "2021-08-12T14:30:04.444284Z",
     "iopub.status.idle": "2021-08-12T14:30:05.061387Z",
     "shell.execute_reply": "2021-08-12T14:30:05.062119Z"
    },
    "papermill": {
     "duration": 0.636863,
     "end_time": "2021-08-12T14:30:05.062515",
     "exception": false,
     "start_time": "2021-08-12T14:30:04.425652",
     "status": "completed"
    },
    "tags": []
   },
   "outputs": [],
   "source": [
    "import pandas as pd\n",
    "import sqlite3"
   ]
  },
  {
   "cell_type": "code",
   "execution_count": 2,
   "id": "innovative-syndrome",
   "metadata": {
    "execution": {
     "iopub.execute_input": "2021-08-12T14:30:05.084399Z",
     "iopub.status.busy": "2021-08-12T14:30:05.083575Z",
     "iopub.status.idle": "2021-08-12T14:30:05.299335Z",
     "shell.execute_reply": "2021-08-12T14:30:05.299862Z"
    },
    "papermill": {
     "duration": 0.228823,
     "end_time": "2021-08-12T14:30:05.300048",
     "exception": false,
     "start_time": "2021-08-12T14:30:05.071225",
     "status": "completed"
    },
    "tags": []
   },
   "outputs": [],
   "source": [
    "timestamps = pd.read_sql(\"select distinct record_time from EBAY_TOP_BERLIN order by record_time desc limit 2\", sqlite3.connect(\"UsedObjects.db\"))"
   ]
  },
  {
   "cell_type": "code",
   "execution_count": 3,
   "id": "periodic-identification",
   "metadata": {
    "execution": {
     "iopub.execute_input": "2021-08-12T14:30:05.334160Z",
     "iopub.status.busy": "2021-08-12T14:30:05.333268Z",
     "iopub.status.idle": "2021-08-12T14:30:05.343879Z",
     "shell.execute_reply": "2021-08-12T14:30:05.344413Z"
    },
    "papermill": {
     "duration": 0.036424,
     "end_time": "2021-08-12T14:30:05.344593",
     "exception": false,
     "start_time": "2021-08-12T14:30:05.308169",
     "status": "completed"
    },
    "tags": []
   },
   "outputs": [
    {
     "data": {
      "text/html": [
       "<div>\n",
       "<style scoped>\n",
       "    .dataframe tbody tr th:only-of-type {\n",
       "        vertical-align: middle;\n",
       "    }\n",
       "\n",
       "    .dataframe tbody tr th {\n",
       "        vertical-align: top;\n",
       "    }\n",
       "\n",
       "    .dataframe thead th {\n",
       "        text-align: right;\n",
       "    }\n",
       "</style>\n",
       "<table border=\"1\" class=\"dataframe\">\n",
       "  <thead>\n",
       "    <tr style=\"text-align: right;\">\n",
       "      <th></th>\n",
       "      <th>RECORD_TIME</th>\n",
       "    </tr>\n",
       "  </thead>\n",
       "  <tbody>\n",
       "    <tr>\n",
       "      <th>0</th>\n",
       "      <td>2021-08-12 16:30</td>\n",
       "    </tr>\n",
       "    <tr>\n",
       "      <th>1</th>\n",
       "      <td>2021-08-12 16:00</td>\n",
       "    </tr>\n",
       "  </tbody>\n",
       "</table>\n",
       "</div>"
      ],
      "text/plain": [
       "        RECORD_TIME\n",
       "0  2021-08-12 16:30\n",
       "1  2021-08-12 16:00"
      ]
     },
     "execution_count": 3,
     "metadata": {},
     "output_type": "execute_result"
    }
   ],
   "source": [
    "timestamps"
   ]
  },
  {
   "cell_type": "code",
   "execution_count": 4,
   "id": "alternate-victory",
   "metadata": {
    "execution": {
     "iopub.execute_input": "2021-08-12T14:30:05.369357Z",
     "iopub.status.busy": "2021-08-12T14:30:05.367867Z",
     "iopub.status.idle": "2021-08-12T14:30:05.396250Z",
     "shell.execute_reply": "2021-08-12T14:30:05.396778Z"
    },
    "papermill": {
     "duration": 0.043917,
     "end_time": "2021-08-12T14:30:05.396961",
     "exception": false,
     "start_time": "2021-08-12T14:30:05.353044",
     "status": "completed"
    },
    "tags": []
   },
   "outputs": [],
   "source": [
    "df = pd.read_sql(\"select * from EBAY_TOP_BERLIN where record_time in (select distinct record_time from EBAY_TOP_BERLIN order by record_time desc limit 2)\", sqlite3.connect(\"UsedObjects.db\"))"
   ]
  },
  {
   "cell_type": "code",
   "execution_count": 5,
   "id": "popular-active",
   "metadata": {
    "execution": {
     "iopub.execute_input": "2021-08-12T14:30:05.427509Z",
     "iopub.status.busy": "2021-08-12T14:30:05.426757Z",
     "iopub.status.idle": "2021-08-12T14:30:05.449400Z",
     "shell.execute_reply": "2021-08-12T14:30:05.450204Z"
    },
    "papermill": {
     "duration": 0.045156,
     "end_time": "2021-08-12T14:30:05.450466",
     "exception": false,
     "start_time": "2021-08-12T14:30:05.405310",
     "status": "completed"
    },
    "tags": []
   },
   "outputs": [],
   "source": [
    "df_pivot = df.pivot_table(index=\"PRODUCT\", columns = \"RECORD_TIME\", values = \"LISTING_COUNT\")"
   ]
  },
  {
   "cell_type": "code",
   "execution_count": 6,
   "id": "union-huntington",
   "metadata": {
    "execution": {
     "iopub.execute_input": "2021-08-12T14:30:05.478744Z",
     "iopub.status.busy": "2021-08-12T14:30:05.477526Z",
     "iopub.status.idle": "2021-08-12T14:30:05.483188Z",
     "shell.execute_reply": "2021-08-12T14:30:05.484455Z"
    },
    "papermill": {
     "duration": 0.024955,
     "end_time": "2021-08-12T14:30:05.484726",
     "exception": false,
     "start_time": "2021-08-12T14:30:05.459771",
     "status": "completed"
    },
    "tags": []
   },
   "outputs": [],
   "source": [
    "df_pivot.columns = [\"stamp_1\", \"stamp_2\"]\n",
    "df_pivot_diff = df_pivot.diff(axis=1)"
   ]
  },
  {
   "cell_type": "code",
   "execution_count": 7,
   "id": "fifth-motion",
   "metadata": {
    "execution": {
     "iopub.execute_input": "2021-08-12T14:30:05.509652Z",
     "iopub.status.busy": "2021-08-12T14:30:05.508891Z",
     "iopub.status.idle": "2021-08-12T14:30:06.206233Z",
     "shell.execute_reply": "2021-08-12T14:30:06.206759Z"
    },
    "papermill": {
     "duration": 0.712616,
     "end_time": "2021-08-12T14:30:06.206942",
     "exception": false,
     "start_time": "2021-08-12T14:30:05.494326",
     "status": "completed"
    },
    "tags": []
   },
   "outputs": [
    {
     "data": {
      "text/plain": [
       "<AxesSubplot:ylabel='PRODUCT'>"
      ]
     },
     "execution_count": 7,
     "metadata": {},
     "output_type": "execute_result"
    },
    {
     "data": {
      "image/png": "[encoded data removed]",
      "text/plain": [
       "<Figure size 432x288 with 1 Axes>"
      ]
     },
     "metadata": {
      "needs_background": "light"
     },
     "output_type": "display_data"
    }
   ],
   "source": [
    "df_pivot_diff.sort_values(\"stamp_2\", ascending = False)[\"stamp_2\"].head(10).plot.barh()"
   ]
  },
  {
   "cell_type": "code",
   "execution_count": null,
   "id": "extra-executive",
   "metadata": {
    "papermill": {
     "duration": 0.01104,
     "end_time": "2021-08-12T14:30:06.232803",
     "exception": false,
     "start_time": "2021-08-12T14:30:06.221763",
     "status": "completed"
    },
    "tags": []
   },
   "outputs": [],
   "source": []
  }
 ],
 "metadata": {
  "kernelspec": {
   "display_name": "Python 3",
   "language": "python",
   "name": "python3"
  },
  "language_info": {
   "codemirror_mode": {
    "name": "ipython",
    "version": 3
   },
   "file_extension": ".py",
   "mimetype": "text/x-python",
   "name": "python",
   "nbconvert_exporter": "python",
   "pygments_lexer": "ipython3",
   "version": "3.8.8"
  },
  "papermill": {
   "default_parameters": {},
   "duration": 4.811647,
   "end_time": "2021-08-12T14:30:07.572535",
   "environment_variables": {},
   "exception": null,
   "input_path": "/Users/saravananshanmugam/Carbonleakage_Git/UsedObjects/eBay_Overview.ipynb",
   "output_path": "/Users/saravananshanmugam/Carbonleakage_Git/UsedObjects/eBay_Overview.ipynb",
   "parameters": {},
   "start_time": "2021-08-12T14:30:02.760888",
   "version": "2.3.3"
  }
 },
 "nbformat": 4,
 "nbformat_minor": 5
}