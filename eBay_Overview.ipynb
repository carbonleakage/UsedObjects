{
 "cells": [
  {
   "cell_type": "code",
   "execution_count": 1,
   "id": "reverse-picking",
   "metadata": {
    "execution": {
     "iopub.execute_input": "2021-10-23T19:30:07.301730Z",
     "iopub.status.busy": "2021-10-23T19:30:07.299762Z",
     "iopub.status.idle": "2021-10-23T19:30:08.101035Z",
     "shell.execute_reply": "2021-10-23T19:30:08.102287Z"
    },
    "papermill": {
     "duration": 0.850669,
     "end_time": "2021-10-23T19:30:08.102907",
     "exception": false,
     "start_time": "2021-10-23T19:30:07.252238",
     "status": "completed"
    },
    "tags": []
   },
   "outputs": [],
   "source": [
    "import pandas as pd\n",
    "import sqlite3"
   ]
  },
  {
   "cell_type": "code",
   "execution_count": 2,
   "id": "innovative-syndrome",
   "metadata": {
    "execution": {
     "iopub.execute_input": "2021-10-23T19:30:08.153700Z",
     "iopub.status.busy": "2021-10-23T19:30:08.151737Z",
     "iopub.status.idle": "2021-10-23T19:30:08.771463Z",
     "shell.execute_reply": "2021-10-23T19:30:08.772663Z"
    },
    "papermill": {
     "duration": 0.64939,
     "end_time": "2021-10-23T19:30:08.773119",
     "exception": false,
     "start_time": "2021-10-23T19:30:08.123729",
     "status": "completed"
    },
    "tags": []
   },
   "outputs": [],
   "source": [
    "timestamps = pd.read_sql(\"select distinct record_time from EBAY_TOP_BERLIN order by record_time desc limit 2\", sqlite3.connect(\"UsedObjects.db\"))"
   ]
  },
  {
   "cell_type": "code",
   "execution_count": 3,
   "id": "periodic-identification",
   "metadata": {
    "execution": {
     "iopub.execute_input": "2021-10-23T19:30:08.847748Z",
     "iopub.status.busy": "2021-10-23T19:30:08.845737Z",
     "iopub.status.idle": "2021-10-23T19:30:08.865531Z",
     "shell.execute_reply": "2021-10-23T19:30:08.866671Z"
    },
    "papermill": {
     "duration": 0.069063,
     "end_time": "2021-10-23T19:30:08.867078",
     "exception": false,
     "start_time": "2021-10-23T19:30:08.798015",
     "status": "completed"
    },
    "tags": []
   },
   "outputs": [
    {
     "data": {
      "text/html": [
       "<div>\n",
       "<style scoped>\n",
       "    .dataframe tbody tr th:only-of-type {\n",
       "        vertical-align: middle;\n",
       "    }\n",
       "\n",
       "    .dataframe tbody tr th {\n",
       "        vertical-align: top;\n",
       "    }\n",
       "\n",
       "    .dataframe thead th {\n",
       "        text-align: right;\n",
       "    }\n",
       "</style>\n",
       "<table border=\"1\" class=\"dataframe\">\n",
       "  <thead>\n",
       "    <tr style=\"text-align: right;\">\n",
       "      <th></th>\n",
       "      <th>RECORD_TIME</th>\n",
       "    </tr>\n",
       "  </thead>\n",
       "  <tbody>\n",
       "    <tr>\n",
       "      <th>0</th>\n",
       "      <td>2021-10-23 21:30</td>\n",
       "    </tr>\n",
       "    <tr>\n",
       "      <th>1</th>\n",
       "      <td>2021-10-23 21:00</td>\n",
       "    </tr>\n",
       "  </tbody>\n",
       "</table>\n",
       "</div>"
      ],
      "text/plain": [
       "        RECORD_TIME\n",
       "0  2021-10-23 21:30\n",
       "1  2021-10-23 21:00"
      ]
     },
     "execution_count": 3,
     "metadata": {},
     "output_type": "execute_result"
    }
   ],
   "source": [
    "timestamps"
   ]
  },
  {
   "cell_type": "code",
   "execution_count": 4,
   "id": "alternate-victory",
   "metadata": {
    "execution": {
     "iopub.execute_input": "2021-10-23T19:30:08.921365Z",
     "iopub.status.busy": "2021-10-23T19:30:08.919003Z",
     "iopub.status.idle": "2021-10-23T19:30:09.850901Z",
     "shell.execute_reply": "2021-10-23T19:30:09.849526Z"
    },
    "papermill": {
     "duration": 0.961128,
     "end_time": "2021-10-23T19:30:09.851229",
     "exception": false,
     "start_time": "2021-10-23T19:30:08.890101",
     "status": "completed"
    },
    "tags": []
   },
   "outputs": [],
   "source": [
    "df = pd.read_sql(\"select * from EBAY_TOP_BERLIN where record_time in (select distinct record_time from EBAY_TOP_BERLIN order by record_time desc limit 2)\", sqlite3.connect(\"UsedObjects.db\"))"
   ]
  },
  {
   "cell_type": "code",
   "execution_count": 5,
   "id": "popular-active",
   "metadata": {
    "execution": {
     "iopub.execute_input": "2021-10-23T19:30:09.923082Z",
     "iopub.status.busy": "2021-10-23T19:30:09.910284Z",
     "iopub.status.idle": "2021-10-23T19:30:09.938680Z",
     "shell.execute_reply": "2021-10-23T19:30:09.939954Z"
    },
    "papermill": {
     "duration": 0.068346,
     "end_time": "2021-10-23T19:30:09.940365",
     "exception": false,
     "start_time": "2021-10-23T19:30:09.872019",
     "status": "completed"
    },
    "tags": []
   },
   "outputs": [],
   "source": [
    "df_pivot = df.pivot_table(index=\"PRODUCT\", columns = \"RECORD_TIME\", values = \"LISTING_COUNT\")"
   ]
  },
  {
   "cell_type": "code",
   "execution_count": 6,
   "id": "union-huntington",
   "metadata": {
    "execution": {
     "iopub.execute_input": "2021-10-23T19:30:09.997414Z",
     "iopub.status.busy": "2021-10-23T19:30:09.995298Z",
     "iopub.status.idle": "2021-10-23T19:30:10.000637Z",
     "shell.execute_reply": "2021-10-23T19:30:10.001920Z"
    },
    "papermill": {
     "duration": 0.040526,
     "end_time": "2021-10-23T19:30:10.002346",
     "exception": false,
     "start_time": "2021-10-23T19:30:09.961820",
     "status": "completed"
    },
    "tags": []
   },
   "outputs": [],
   "source": [
    "df_pivot.columns = [\"stamp_1\", \"stamp_2\"]\n",
    "df_pivot_diff = df_pivot.diff(axis=1)"
   ]
  },
  {
   "cell_type": "code",
   "execution_count": 7,
   "id": "fifth-motion",
   "metadata": {
    "execution": {
     "iopub.execute_input": "2021-10-23T19:30:10.056571Z",
     "iopub.status.busy": "2021-10-23T19:30:10.054202Z",
     "iopub.status.idle": "2021-10-23T19:30:11.510233Z",
     "shell.execute_reply": "2021-10-23T19:30:11.511530Z"
    },
    "papermill": {
     "duration": 1.488888,
     "end_time": "2021-10-23T19:30:11.511944",
     "exception": false,
     "start_time": "2021-10-23T19:30:10.023056",
     "status": "completed"
    },
    "tags": []
   },
   "outputs": [
    {
     "data": {
      "text/plain": [
       "<AxesSubplot:ylabel='PRODUCT'>"
      ]
     },
     "execution_count": 7,
     "metadata": {},
     "output_type": "execute_result"
    },
    {
     "data": {
      "image/png": "[encoded data removed]",
      "text/plain": [
       "<Figure size 432x288 with 1 Axes>"
      ]
     },
     "metadata": {
      "needs_background": "light"
     },
     "output_type": "display_data"
    }
   ],
   "source": [
    "df_pivot_diff.sort_values(\"stamp_2\", ascending = False)[\"stamp_2\"].head(10).plot.barh()"
   ]
  },
  {
   "cell_type": "code",
   "execution_count": null,
   "id": "extra-executive",
   "metadata": {
    "papermill": {
     "duration": 0.022428,
     "end_time": "2021-10-23T19:30:11.559331",
     "exception": false,
     "start_time": "2021-10-23T19:30:11.536903",
     "status": "completed"
    },
    "tags": []
   },
   "outputs": [],
   "source": []
  }
 ],
 "metadata": {
  "kernelspec": {
   "display_name": "Python 3",
   "language": "python",
   "name": "python3"
  },
  "language_info": {
   "codemirror_mode": {
    "name": "ipython",
    "version": 3
   },
   "file_extension": ".py",
   "mimetype": "text/x-python",
   "name": "python",
   "nbconvert_exporter": "python",
   "pygments_lexer": "ipython3",
   "version": "3.9.5"
  },
  "papermill": {
   "default_parameters": {},
   "duration": 7.34527,
   "end_time": "2021-10-23T19:30:12.203402",
   "environment_variables": {},
   "exception": null,
   "input_path": "eBay_Overview.ipynb",
   "output_path": "eBay_Overview.ipynb",
   "parameters": {},
   "start_time": "2021-10-23T19:30:04.858132",
   "version": "2.3.3"
  }
 },
 "nbformat": 4,
 "nbformat_minor": 5
}