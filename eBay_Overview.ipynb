{
 "cells": [
  {
   "cell_type": "code",
   "execution_count": 1,
   "id": "reverse-picking",
   "metadata": {
    "execution": {
     "iopub.execute_input": "2021-12-08T06:00:08.293561Z",
     "iopub.status.busy": "2021-12-08T06:00:08.291207Z",
     "iopub.status.idle": "2021-12-08T06:00:09.215143Z",
     "shell.execute_reply": "2021-12-08T06:00:09.216405Z"
    },
    "papermill": {
     "duration": 0.97308,
     "end_time": "2021-12-08T06:00:09.217120",
     "exception": false,
     "start_time": "2021-12-08T06:00:08.244040",
     "status": "completed"
    },
    "tags": []
   },
   "outputs": [],
   "source": [
    "import pandas as pd\n",
    "import sqlite3"
   ]
  },
  {
   "cell_type": "code",
   "execution_count": 2,
   "id": "innovative-syndrome",
   "metadata": {
    "execution": {
     "iopub.execute_input": "2021-12-08T06:00:09.279788Z",
     "iopub.status.busy": "2021-12-08T06:00:09.277190Z",
     "iopub.status.idle": "2021-12-08T06:00:10.301298Z",
     "shell.execute_reply": "2021-12-08T06:00:10.304038Z"
    },
    "papermill": {
     "duration": 1.061381,
     "end_time": "2021-12-08T06:00:10.304986",
     "exception": false,
     "start_time": "2021-12-08T06:00:09.243605",
     "status": "completed"
    },
    "tags": []
   },
   "outputs": [],
   "source": [
    "timestamps = pd.read_sql(\"select distinct record_time from EBAY_TOP_BERLIN order by record_time desc limit 2\", sqlite3.connect(\"UsedObjects.db\"))"
   ]
  },
  {
   "cell_type": "code",
   "execution_count": 3,
   "id": "periodic-identification",
   "metadata": {
    "execution": {
     "iopub.execute_input": "2021-12-08T06:00:10.401879Z",
     "iopub.status.busy": "2021-12-08T06:00:10.395984Z",
     "iopub.status.idle": "2021-12-08T06:00:10.419063Z",
     "shell.execute_reply": "2021-12-08T06:00:10.420649Z"
    },
    "papermill": {
     "duration": 0.084889,
     "end_time": "2021-12-08T06:00:10.421275",
     "exception": false,
     "start_time": "2021-12-08T06:00:10.336386",
     "status": "completed"
    },
    "tags": []
   },
   "outputs": [
    {
     "data": {
      "text/html": [
       "<div>\n",
       "<style scoped>\n",
       "    .dataframe tbody tr th:only-of-type {\n",
       "        vertical-align: middle;\n",
       "    }\n",
       "\n",
       "    .dataframe tbody tr th {\n",
       "        vertical-align: top;\n",
       "    }\n",
       "\n",
       "    .dataframe thead th {\n",
       "        text-align: right;\n",
       "    }\n",
       "</style>\n",
       "<table border=\"1\" class=\"dataframe\">\n",
       "  <thead>\n",
       "    <tr style=\"text-align: right;\">\n",
       "      <th></th>\n",
       "      <th>RECORD_TIME</th>\n",
       "    </tr>\n",
       "  </thead>\n",
       "  <tbody>\n",
       "    <tr>\n",
       "      <th>0</th>\n",
       "      <td>2021-12-08 07:00</td>\n",
       "    </tr>\n",
       "    <tr>\n",
       "      <th>1</th>\n",
       "      <td>2021-12-08 06:30</td>\n",
       "    </tr>\n",
       "  </tbody>\n",
       "</table>\n",
       "</div>"
      ],
      "text/plain": [
       "        RECORD_TIME\n",
       "0  2021-12-08 07:00\n",
       "1  2021-12-08 06:30"
      ]
     },
     "execution_count": 3,
     "metadata": {},
     "output_type": "execute_result"
    }
   ],
   "source": [
    "timestamps"
   ]
  },
  {
   "cell_type": "code",
   "execution_count": 4,
   "id": "alternate-victory",
   "metadata": {
    "execution": {
     "iopub.execute_input": "2021-12-08T06:00:10.479578Z",
     "iopub.status.busy": "2021-12-08T06:00:10.477040Z",
     "iopub.status.idle": "2021-12-08T06:00:11.968872Z",
     "shell.execute_reply": "2021-12-08T06:00:11.971670Z"
    },
    "papermill": {
     "duration": 1.528677,
     "end_time": "2021-12-08T06:00:11.972331",
     "exception": false,
     "start_time": "2021-12-08T06:00:10.443654",
     "status": "completed"
    },
    "tags": []
   },
   "outputs": [],
   "source": [
    "df = pd.read_sql(\"select * from EBAY_TOP_BERLIN where record_time in (select distinct record_time from EBAY_TOP_BERLIN order by record_time desc limit 2)\", sqlite3.connect(\"UsedObjects.db\"))"
   ]
  },
  {
   "cell_type": "code",
   "execution_count": 5,
   "id": "popular-active",
   "metadata": {
    "execution": {
     "iopub.execute_input": "2021-12-08T06:00:12.085616Z",
     "iopub.status.busy": "2021-12-08T06:00:12.068539Z",
     "iopub.status.idle": "2021-12-08T06:00:12.120292Z",
     "shell.execute_reply": "2021-12-08T06:00:12.122452Z"
    },
    "papermill": {
     "duration": 0.119321,
     "end_time": "2021-12-08T06:00:12.123029",
     "exception": false,
     "start_time": "2021-12-08T06:00:12.003708",
     "status": "completed"
    },
    "tags": []
   },
   "outputs": [],
   "source": [
    "df_pivot = df.pivot_table(index=\"PRODUCT\", columns = \"RECORD_TIME\", values = \"LISTING_COUNT\")"
   ]
  },
  {
   "cell_type": "code",
   "execution_count": 6,
   "id": "union-huntington",
   "metadata": {
    "execution": {
     "iopub.execute_input": "2021-12-08T06:00:12.212655Z",
     "iopub.status.busy": "2021-12-08T06:00:12.209755Z",
     "iopub.status.idle": "2021-12-08T06:00:12.217708Z",
     "shell.execute_reply": "2021-12-08T06:00:12.220299Z"
    },
    "papermill": {
     "duration": 0.072391,
     "end_time": "2021-12-08T06:00:12.220990",
     "exception": false,
     "start_time": "2021-12-08T06:00:12.148599",
     "status": "completed"
    },
    "tags": []
   },
   "outputs": [],
   "source": [
    "df_pivot.columns = [\"stamp_1\", \"stamp_2\"]\n",
    "df_pivot_diff = df_pivot.diff(axis=1)"
   ]
  },
  {
   "cell_type": "code",
   "execution_count": 7,
   "id": "fifth-motion",
   "metadata": {
    "execution": {
     "iopub.execute_input": "2021-12-08T06:00:12.307874Z",
     "iopub.status.busy": "2021-12-08T06:00:12.295603Z",
     "iopub.status.idle": "2021-12-08T06:00:13.993621Z",
     "shell.execute_reply": "2021-12-08T06:00:13.995021Z"
    },
    "papermill": {
     "duration": 1.74384,
     "end_time": "2021-12-08T06:00:13.995452",
     "exception": false,
     "start_time": "2021-12-08T06:00:12.251612",
     "status": "completed"
    },
    "tags": []
   },
   "outputs": [
    {
     "data": {
      "text/plain": [
       "<AxesSubplot:ylabel='PRODUCT'>"
      ]
     },
     "execution_count": 7,
     "metadata": {},
     "output_type": "execute_result"
    },
    {
     "data": {
      "image/png": "[encoded data removed]",
      "text/plain": [
       "<Figure size 432x288 with 1 Axes>"
      ]
     },
     "metadata": {
      "needs_background": "light"
     },
     "output_type": "display_data"
    }
   ],
   "source": [
    "df_pivot_diff.sort_values(\"stamp_2\", ascending = False)[\"stamp_2\"].head(10).plot.barh()"
   ]
  },
  {
   "cell_type": "code",
   "execution_count": null,
   "id": "extra-executive",
   "metadata": {
    "papermill": {
     "duration": 0.022244,
     "end_time": "2021-12-08T06:00:14.041594",
     "exception": false,
     "start_time": "2021-12-08T06:00:14.019350",
     "status": "completed"
    },
    "tags": []
   },
   "outputs": [],
   "source": []
  }
 ],
 "metadata": {
  "kernelspec": {
   "display_name": "Python 3",
   "language": "python",
   "name": "python3"
  },
  "language_info": {
   "codemirror_mode": {
    "name": "ipython",
    "version": 3
   },
   "file_extension": ".py",
   "mimetype": "text/x-python",
   "name": "python",
   "nbconvert_exporter": "python",
   "pygments_lexer": "ipython3",
   "version": "3.9.5"
  },
  "papermill": {
   "default_parameters": {},
   "duration": 9.951566,
   "end_time": "2021-12-08T06:00:15.463962",
   "environment_variables": {},
   "exception": null,
   "input_path": "eBay_Overview.ipynb",
   "output_path": "eBay_Overview.ipynb",
   "parameters": {},
   "start_time": "2021-12-08T06:00:05.512396",
   "version": "2.3.3"
  }
 },
 "nbformat": 4,
 "nbformat_minor": 5
}