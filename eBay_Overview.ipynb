{
 "cells": [
  {
   "cell_type": "code",
   "execution_count": 1,
   "id": "reverse-picking",
   "metadata": {
    "execution": {
     "iopub.execute_input": "2021-09-03T09:30:07.127500Z",
     "iopub.status.busy": "2021-09-03T09:30:07.125520Z",
     "iopub.status.idle": "2021-09-03T09:30:07.934048Z",
     "shell.execute_reply": "2021-09-03T09:30:07.935505Z"
    },
    "papermill": {
     "duration": 0.858782,
     "end_time": "2021-09-03T09:30:07.936144",
     "exception": false,
     "start_time": "2021-09-03T09:30:07.077362",
     "status": "completed"
    },
    "tags": []
   },
   "outputs": [],
   "source": [
    "import pandas as pd\n",
    "import sqlite3"
   ]
  },
  {
   "cell_type": "code",
   "execution_count": 2,
   "id": "innovative-syndrome",
   "metadata": {
    "execution": {
     "iopub.execute_input": "2021-09-03T09:30:07.988778Z",
     "iopub.status.busy": "2021-09-03T09:30:07.986409Z",
     "iopub.status.idle": "2021-09-03T09:30:08.181348Z",
     "shell.execute_reply": "2021-09-03T09:30:08.182531Z"
    },
    "papermill": {
     "duration": 0.224987,
     "end_time": "2021-09-03T09:30:08.182979",
     "exception": false,
     "start_time": "2021-09-03T09:30:07.957992",
     "status": "completed"
    },
    "tags": []
   },
   "outputs": [],
   "source": [
    "timestamps = pd.read_sql(\"select distinct record_time from EBAY_TOP_BERLIN order by record_time desc limit 2\", sqlite3.connect(\"UsedObjects.db\"))"
   ]
  },
  {
   "cell_type": "code",
   "execution_count": 3,
   "id": "periodic-identification",
   "metadata": {
    "execution": {
     "iopub.execute_input": "2021-09-03T09:30:08.251670Z",
     "iopub.status.busy": "2021-09-03T09:30:08.246521Z",
     "iopub.status.idle": "2021-09-03T09:30:08.269042Z",
     "shell.execute_reply": "2021-09-03T09:30:08.270603Z"
    },
    "papermill": {
     "duration": 0.067278,
     "end_time": "2021-09-03T09:30:08.271206",
     "exception": false,
     "start_time": "2021-09-03T09:30:08.203928",
     "status": "completed"
    },
    "tags": []
   },
   "outputs": [
    {
     "data": {
      "text/html": [
       "<div>\n",
       "<style scoped>\n",
       "    .dataframe tbody tr th:only-of-type {\n",
       "        vertical-align: middle;\n",
       "    }\n",
       "\n",
       "    .dataframe tbody tr th {\n",
       "        vertical-align: top;\n",
       "    }\n",
       "\n",
       "    .dataframe thead th {\n",
       "        text-align: right;\n",
       "    }\n",
       "</style>\n",
       "<table border=\"1\" class=\"dataframe\">\n",
       "  <thead>\n",
       "    <tr style=\"text-align: right;\">\n",
       "      <th></th>\n",
       "      <th>RECORD_TIME</th>\n",
       "    </tr>\n",
       "  </thead>\n",
       "  <tbody>\n",
       "    <tr>\n",
       "      <th>0</th>\n",
       "      <td>2021-09-03 11:30</td>\n",
       "    </tr>\n",
       "    <tr>\n",
       "      <th>1</th>\n",
       "      <td>2021-09-03 11:00</td>\n",
       "    </tr>\n",
       "  </tbody>\n",
       "</table>\n",
       "</div>"
      ],
      "text/plain": [
       "        RECORD_TIME\n",
       "0  2021-09-03 11:30\n",
       "1  2021-09-03 11:00"
      ]
     },
     "execution_count": 3,
     "metadata": {},
     "output_type": "execute_result"
    }
   ],
   "source": [
    "timestamps"
   ]
  },
  {
   "cell_type": "code",
   "execution_count": 4,
   "id": "alternate-victory",
   "metadata": {
    "execution": {
     "iopub.execute_input": "2021-09-03T09:30:08.324515Z",
     "iopub.status.busy": "2021-09-03T09:30:08.322195Z",
     "iopub.status.idle": "2021-09-03T09:30:08.609210Z",
     "shell.execute_reply": "2021-09-03T09:30:08.610393Z"
    },
    "papermill": {
     "duration": 0.317403,
     "end_time": "2021-09-03T09:30:08.610832",
     "exception": false,
     "start_time": "2021-09-03T09:30:08.293429",
     "status": "completed"
    },
    "tags": []
   },
   "outputs": [],
   "source": [
    "df = pd.read_sql(\"select * from EBAY_TOP_BERLIN where record_time in (select distinct record_time from EBAY_TOP_BERLIN order by record_time desc limit 2)\", sqlite3.connect(\"UsedObjects.db\"))"
   ]
  },
  {
   "cell_type": "code",
   "execution_count": 5,
   "id": "popular-active",
   "metadata": {
    "execution": {
     "iopub.execute_input": "2021-09-03T09:30:08.691745Z",
     "iopub.status.busy": "2021-09-03T09:30:08.680832Z",
     "iopub.status.idle": "2021-09-03T09:30:08.708053Z",
     "shell.execute_reply": "2021-09-03T09:30:08.709414Z"
    },
    "papermill": {
     "duration": 0.072673,
     "end_time": "2021-09-03T09:30:08.709855",
     "exception": false,
     "start_time": "2021-09-03T09:30:08.637182",
     "status": "completed"
    },
    "tags": []
   },
   "outputs": [],
   "source": [
    "df_pivot = df.pivot_table(index=\"PRODUCT\", columns = \"RECORD_TIME\", values = \"LISTING_COUNT\")"
   ]
  },
  {
   "cell_type": "code",
   "execution_count": 6,
   "id": "union-huntington",
   "metadata": {
    "execution": {
     "iopub.execute_input": "2021-09-03T09:30:08.768736Z",
     "iopub.status.busy": "2021-09-03T09:30:08.766279Z",
     "iopub.status.idle": "2021-09-03T09:30:08.772251Z",
     "shell.execute_reply": "2021-09-03T09:30:08.773520Z"
    },
    "papermill": {
     "duration": 0.042093,
     "end_time": "2021-09-03T09:30:08.773938",
     "exception": false,
     "start_time": "2021-09-03T09:30:08.731845",
     "status": "completed"
    },
    "tags": []
   },
   "outputs": [],
   "source": [
    "df_pivot.columns = [\"stamp_1\", \"stamp_2\"]\n",
    "df_pivot_diff = df_pivot.diff(axis=1)"
   ]
  },
  {
   "cell_type": "code",
   "execution_count": 7,
   "id": "fifth-motion",
   "metadata": {
    "execution": {
     "iopub.execute_input": "2021-09-03T09:30:08.828886Z",
     "iopub.status.busy": "2021-09-03T09:30:08.826341Z",
     "iopub.status.idle": "2021-09-03T09:30:10.295125Z",
     "shell.execute_reply": "2021-09-03T09:30:10.296476Z"
    },
    "papermill": {
     "duration": 1.502589,
     "end_time": "2021-09-03T09:30:10.296921",
     "exception": false,
     "start_time": "2021-09-03T09:30:08.794332",
     "status": "completed"
    },
    "tags": []
   },
   "outputs": [
    {
     "data": {
      "text/plain": [
       "<AxesSubplot:ylabel='PRODUCT'>"
      ]
     },
     "execution_count": 7,
     "metadata": {},
     "output_type": "execute_result"
    },
    {
     "data": {
      "image/png": "[encoded data removed]",
      "text/plain": [
       "<Figure size 432x288 with 1 Axes>"
      ]
     },
     "metadata": {
      "needs_background": "light"
     },
     "output_type": "display_data"
    }
   ],
   "source": [
    "df_pivot_diff.sort_values(\"stamp_2\", ascending = False)[\"stamp_2\"].head(10).plot.barh()"
   ]
  },
  {
   "cell_type": "code",
   "execution_count": null,
   "id": "extra-executive",
   "metadata": {
    "papermill": {
     "duration": 0.022421,
     "end_time": "2021-09-03T09:30:10.344225",
     "exception": false,
     "start_time": "2021-09-03T09:30:10.321804",
     "status": "completed"
    },
    "tags": []
   },
   "outputs": [],
   "source": []
  }
 ],
 "metadata": {
  "kernelspec": {
   "display_name": "Python 3",
   "language": "python",
   "name": "python3"
  },
  "language_info": {
   "codemirror_mode": {
    "name": "ipython",
    "version": 3
   },
   "file_extension": ".py",
   "mimetype": "text/x-python",
   "name": "python",
   "nbconvert_exporter": "python",
   "pygments_lexer": "ipython3",
   "version": "3.9.5"
  },
  "papermill": {
   "default_parameters": {},
   "duration": 6.821149,
   "end_time": "2021-09-03T09:30:11.493958",
   "environment_variables": {},
   "exception": null,
   "input_path": "eBay_Overview.ipynb",
   "output_path": "eBay_Overview.ipynb",
   "parameters": {},
   "start_time": "2021-09-03T09:30:04.672809",
   "version": "2.3.3"
  }
 },
 "nbformat": 4,
 "nbformat_minor": 5
}