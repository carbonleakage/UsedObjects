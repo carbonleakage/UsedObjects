{
 "cells": [
  {
   "cell_type": "code",
   "execution_count": 1,
   "id": "reverse-picking",
   "metadata": {
    "execution": {
     "iopub.execute_input": "2021-10-10T19:30:06.800272Z",
     "iopub.status.busy": "2021-10-10T19:30:06.798209Z",
     "iopub.status.idle": "2021-10-10T19:30:07.645276Z",
     "shell.execute_reply": "2021-10-10T19:30:07.643683Z"
    },
    "papermill": {
     "duration": 0.895385,
     "end_time": "2021-10-10T19:30:07.645673",
     "exception": false,
     "start_time": "2021-10-10T19:30:06.750288",
     "status": "completed"
    },
    "tags": []
   },
   "outputs": [],
   "source": [
    "import pandas as pd\n",
    "import sqlite3"
   ]
  },
  {
   "cell_type": "code",
   "execution_count": 2,
   "id": "innovative-syndrome",
   "metadata": {
    "execution": {
     "iopub.execute_input": "2021-10-10T19:30:07.697827Z",
     "iopub.status.busy": "2021-10-10T19:30:07.695944Z",
     "iopub.status.idle": "2021-10-10T19:30:08.196072Z",
     "shell.execute_reply": "2021-10-10T19:30:08.197276Z"
    },
    "papermill": {
     "duration": 0.530172,
     "end_time": "2021-10-10T19:30:08.197674",
     "exception": false,
     "start_time": "2021-10-10T19:30:07.667502",
     "status": "completed"
    },
    "tags": []
   },
   "outputs": [],
   "source": [
    "timestamps = pd.read_sql(\"select distinct record_time from EBAY_TOP_BERLIN order by record_time desc limit 2\", sqlite3.connect(\"UsedObjects.db\"))"
   ]
  },
  {
   "cell_type": "code",
   "execution_count": 3,
   "id": "periodic-identification",
   "metadata": {
    "execution": {
     "iopub.execute_input": "2021-10-10T19:30:08.276062Z",
     "iopub.status.busy": "2021-10-10T19:30:08.273989Z",
     "iopub.status.idle": "2021-10-10T19:30:08.296562Z",
     "shell.execute_reply": "2021-10-10T19:30:08.297848Z"
    },
    "papermill": {
     "duration": 0.07197,
     "end_time": "2021-10-10T19:30:08.298268",
     "exception": false,
     "start_time": "2021-10-10T19:30:08.226298",
     "status": "completed"
    },
    "tags": []
   },
   "outputs": [
    {
     "data": {
      "text/html": [
       "<div>\n",
       "<style scoped>\n",
       "    .dataframe tbody tr th:only-of-type {\n",
       "        vertical-align: middle;\n",
       "    }\n",
       "\n",
       "    .dataframe tbody tr th {\n",
       "        vertical-align: top;\n",
       "    }\n",
       "\n",
       "    .dataframe thead th {\n",
       "        text-align: right;\n",
       "    }\n",
       "</style>\n",
       "<table border=\"1\" class=\"dataframe\">\n",
       "  <thead>\n",
       "    <tr style=\"text-align: right;\">\n",
       "      <th></th>\n",
       "      <th>RECORD_TIME</th>\n",
       "    </tr>\n",
       "  </thead>\n",
       "  <tbody>\n",
       "    <tr>\n",
       "      <th>0</th>\n",
       "      <td>2021-10-10 21:30</td>\n",
       "    </tr>\n",
       "    <tr>\n",
       "      <th>1</th>\n",
       "      <td>2021-10-10 21:00</td>\n",
       "    </tr>\n",
       "  </tbody>\n",
       "</table>\n",
       "</div>"
      ],
      "text/plain": [
       "        RECORD_TIME\n",
       "0  2021-10-10 21:30\n",
       "1  2021-10-10 21:00"
      ]
     },
     "execution_count": 3,
     "metadata": {},
     "output_type": "execute_result"
    }
   ],
   "source": [
    "timestamps"
   ]
  },
  {
   "cell_type": "code",
   "execution_count": 4,
   "id": "alternate-victory",
   "metadata": {
    "execution": {
     "iopub.execute_input": "2021-10-10T19:30:08.349529Z",
     "iopub.status.busy": "2021-10-10T19:30:08.347683Z",
     "iopub.status.idle": "2021-10-10T19:30:09.090549Z",
     "shell.execute_reply": "2021-10-10T19:30:09.092203Z"
    },
    "papermill": {
     "duration": 0.773622,
     "end_time": "2021-10-10T19:30:09.092756",
     "exception": false,
     "start_time": "2021-10-10T19:30:08.319134",
     "status": "completed"
    },
    "tags": []
   },
   "outputs": [],
   "source": [
    "df = pd.read_sql(\"select * from EBAY_TOP_BERLIN where record_time in (select distinct record_time from EBAY_TOP_BERLIN order by record_time desc limit 2)\", sqlite3.connect(\"UsedObjects.db\"))"
   ]
  },
  {
   "cell_type": "code",
   "execution_count": 5,
   "id": "popular-active",
   "metadata": {
    "execution": {
     "iopub.execute_input": "2021-10-10T19:30:09.160095Z",
     "iopub.status.busy": "2021-10-10T19:30:09.152128Z",
     "iopub.status.idle": "2021-10-10T19:30:09.180416Z",
     "shell.execute_reply": "2021-10-10T19:30:09.181640Z"
    },
    "papermill": {
     "duration": 0.069125,
     "end_time": "2021-10-10T19:30:09.182043",
     "exception": false,
     "start_time": "2021-10-10T19:30:09.112918",
     "status": "completed"
    },
    "tags": []
   },
   "outputs": [],
   "source": [
    "df_pivot = df.pivot_table(index=\"PRODUCT\", columns = \"RECORD_TIME\", values = \"LISTING_COUNT\")"
   ]
  },
  {
   "cell_type": "code",
   "execution_count": 6,
   "id": "union-huntington",
   "metadata": {
    "execution": {
     "iopub.execute_input": "2021-10-10T19:30:09.242152Z",
     "iopub.status.busy": "2021-10-10T19:30:09.239678Z",
     "iopub.status.idle": "2021-10-10T19:30:09.245910Z",
     "shell.execute_reply": "2021-10-10T19:30:09.247350Z"
    },
    "papermill": {
     "duration": 0.043144,
     "end_time": "2021-10-10T19:30:09.247795",
     "exception": false,
     "start_time": "2021-10-10T19:30:09.204651",
     "status": "completed"
    },
    "tags": []
   },
   "outputs": [],
   "source": [
    "df_pivot.columns = [\"stamp_1\", \"stamp_2\"]\n",
    "df_pivot_diff = df_pivot.diff(axis=1)"
   ]
  },
  {
   "cell_type": "code",
   "execution_count": 7,
   "id": "fifth-motion",
   "metadata": {
    "execution": {
     "iopub.execute_input": "2021-10-10T19:30:09.304233Z",
     "iopub.status.busy": "2021-10-10T19:30:09.301656Z",
     "iopub.status.idle": "2021-10-10T19:30:10.805639Z",
     "shell.execute_reply": "2021-10-10T19:30:10.807107Z"
    },
    "papermill": {
     "duration": 1.537874,
     "end_time": "2021-10-10T19:30:10.807601",
     "exception": false,
     "start_time": "2021-10-10T19:30:09.269727",
     "status": "completed"
    },
    "tags": []
   },
   "outputs": [
    {
     "data": {
      "text/plain": [
       "<AxesSubplot:ylabel='PRODUCT'>"
      ]
     },
     "execution_count": 7,
     "metadata": {},
     "output_type": "execute_result"
    },
    {
     "data": {
      "image/png": "[encoded data removed]",
      "text/plain": [
       "<Figure size 432x288 with 1 Axes>"
      ]
     },
     "metadata": {
      "needs_background": "light"
     },
     "output_type": "display_data"
    }
   ],
   "source": [
    "df_pivot_diff.sort_values(\"stamp_2\", ascending = False)[\"stamp_2\"].head(10).plot.barh()"
   ]
  },
  {
   "cell_type": "code",
   "execution_count": null,
   "id": "extra-executive",
   "metadata": {
    "papermill": {
     "duration": 0.022475,
     "end_time": "2021-10-10T19:30:10.855106",
     "exception": false,
     "start_time": "2021-10-10T19:30:10.832631",
     "status": "completed"
    },
    "tags": []
   },
   "outputs": [],
   "source": []
  }
 ],
 "metadata": {
  "kernelspec": {
   "display_name": "Python 3",
   "language": "python",
   "name": "python3"
  },
  "language_info": {
   "codemirror_mode": {
    "name": "ipython",
    "version": 3
   },
   "file_extension": ".py",
   "mimetype": "text/x-python",
   "name": "python",
   "nbconvert_exporter": "python",
   "pygments_lexer": "ipython3",
   "version": "3.9.5"
  },
  "papermill": {
   "default_parameters": {},
   "duration": 7.83027,
   "end_time": "2021-10-10T19:30:12.157358",
   "environment_variables": {},
   "exception": null,
   "input_path": "eBay_Overview.ipynb",
   "output_path": "eBay_Overview.ipynb",
   "parameters": {},
   "start_time": "2021-10-10T19:30:04.327088",
   "version": "2.3.3"
  }
 },
 "nbformat": 4,
 "nbformat_minor": 5
}