{
 "cells": [
  {
   "cell_type": "code",
   "execution_count": 1,
   "id": "reverse-picking",
   "metadata": {
    "execution": {
     "iopub.execute_input": "2021-12-20T05:30:07.460439Z",
     "iopub.status.busy": "2021-12-20T05:30:07.458237Z",
     "iopub.status.idle": "2021-12-20T05:30:08.421300Z",
     "shell.execute_reply": "2021-12-20T05:30:08.422806Z"
    },
    "papermill": {
     "duration": 1.015368,
     "end_time": "2021-12-20T05:30:08.423585",
     "exception": false,
     "start_time": "2021-12-20T05:30:07.408217",
     "status": "completed"
    },
    "tags": []
   },
   "outputs": [],
   "source": [
    "import pandas as pd\n",
    "import sqlite3"
   ]
  },
  {
   "cell_type": "code",
   "execution_count": 2,
   "id": "innovative-syndrome",
   "metadata": {
    "execution": {
     "iopub.execute_input": "2021-12-20T05:30:08.490589Z",
     "iopub.status.busy": "2021-12-20T05:30:08.488238Z",
     "iopub.status.idle": "2021-12-20T05:30:09.631500Z",
     "shell.execute_reply": "2021-12-20T05:30:09.632754Z"
    },
    "papermill": {
     "duration": 1.177699,
     "end_time": "2021-12-20T05:30:09.633211",
     "exception": false,
     "start_time": "2021-12-20T05:30:08.455512",
     "status": "completed"
    },
    "tags": []
   },
   "outputs": [],
   "source": [
    "timestamps = pd.read_sql(\"select distinct record_time from EBAY_TOP_BERLIN order by record_time desc limit 2\", sqlite3.connect(\"UsedObjects.db\"))"
   ]
  },
  {
   "cell_type": "code",
   "execution_count": 3,
   "id": "periodic-identification",
   "metadata": {
    "execution": {
     "iopub.execute_input": "2021-12-20T05:30:09.699130Z",
     "iopub.status.busy": "2021-12-20T05:30:09.697108Z",
     "iopub.status.idle": "2021-12-20T05:30:09.717411Z",
     "shell.execute_reply": "2021-12-20T05:30:09.718692Z"
    },
    "papermill": {
     "duration": 0.066335,
     "end_time": "2021-12-20T05:30:09.719111",
     "exception": false,
     "start_time": "2021-12-20T05:30:09.652776",
     "status": "completed"
    },
    "tags": []
   },
   "outputs": [
    {
     "data": {
      "text/html": [
       "<div>\n",
       "<style scoped>\n",
       "    .dataframe tbody tr th:only-of-type {\n",
       "        vertical-align: middle;\n",
       "    }\n",
       "\n",
       "    .dataframe tbody tr th {\n",
       "        vertical-align: top;\n",
       "    }\n",
       "\n",
       "    .dataframe thead th {\n",
       "        text-align: right;\n",
       "    }\n",
       "</style>\n",
       "<table border=\"1\" class=\"dataframe\">\n",
       "  <thead>\n",
       "    <tr style=\"text-align: right;\">\n",
       "      <th></th>\n",
       "      <th>RECORD_TIME</th>\n",
       "    </tr>\n",
       "  </thead>\n",
       "  <tbody>\n",
       "    <tr>\n",
       "      <th>0</th>\n",
       "      <td>2021-12-20 06:30</td>\n",
       "    </tr>\n",
       "    <tr>\n",
       "      <th>1</th>\n",
       "      <td>2021-12-20 06:00</td>\n",
       "    </tr>\n",
       "  </tbody>\n",
       "</table>\n",
       "</div>"
      ],
      "text/plain": [
       "        RECORD_TIME\n",
       "0  2021-12-20 06:30\n",
       "1  2021-12-20 06:00"
      ]
     },
     "execution_count": 3,
     "metadata": {},
     "output_type": "execute_result"
    }
   ],
   "source": [
    "timestamps"
   ]
  },
  {
   "cell_type": "code",
   "execution_count": 4,
   "id": "alternate-victory",
   "metadata": {
    "execution": {
     "iopub.execute_input": "2021-12-20T05:30:09.773271Z",
     "iopub.status.busy": "2021-12-20T05:30:09.771034Z",
     "iopub.status.idle": "2021-12-20T05:30:11.415858Z",
     "shell.execute_reply": "2021-12-20T05:30:11.417282Z"
    },
    "papermill": {
     "duration": 1.676323,
     "end_time": "2021-12-20T05:30:11.417760",
     "exception": false,
     "start_time": "2021-12-20T05:30:09.741437",
     "status": "completed"
    },
    "tags": []
   },
   "outputs": [],
   "source": [
    "df = pd.read_sql(\"select * from EBAY_TOP_BERLIN where record_time in (select distinct record_time from EBAY_TOP_BERLIN order by record_time desc limit 2)\", sqlite3.connect(\"UsedObjects.db\"))"
   ]
  },
  {
   "cell_type": "code",
   "execution_count": 5,
   "id": "popular-active",
   "metadata": {
    "execution": {
     "iopub.execute_input": "2021-12-20T05:30:11.492966Z",
     "iopub.status.busy": "2021-12-20T05:30:11.480083Z",
     "iopub.status.idle": "2021-12-20T05:30:11.510627Z",
     "shell.execute_reply": "2021-12-20T05:30:11.511932Z"
    },
    "papermill": {
     "duration": 0.073761,
     "end_time": "2021-12-20T05:30:11.512412",
     "exception": false,
     "start_time": "2021-12-20T05:30:11.438651",
     "status": "completed"
    },
    "tags": []
   },
   "outputs": [],
   "source": [
    "df_pivot = df.pivot_table(index=\"PRODUCT\", columns = \"RECORD_TIME\", values = \"LISTING_COUNT\")"
   ]
  },
  {
   "cell_type": "code",
   "execution_count": 6,
   "id": "union-huntington",
   "metadata": {
    "execution": {
     "iopub.execute_input": "2021-12-20T05:30:11.575863Z",
     "iopub.status.busy": "2021-12-20T05:30:11.573684Z",
     "iopub.status.idle": "2021-12-20T05:30:11.579224Z",
     "shell.execute_reply": "2021-12-20T05:30:11.580663Z"
    },
    "papermill": {
     "duration": 0.04581,
     "end_time": "2021-12-20T05:30:11.581170",
     "exception": false,
     "start_time": "2021-12-20T05:30:11.535360",
     "status": "completed"
    },
    "tags": []
   },
   "outputs": [],
   "source": [
    "df_pivot.columns = [\"stamp_1\", \"stamp_2\"]\n",
    "df_pivot_diff = df_pivot.diff(axis=1)"
   ]
  },
  {
   "cell_type": "code",
   "execution_count": 7,
   "id": "fifth-motion",
   "metadata": {
    "execution": {
     "iopub.execute_input": "2021-12-20T05:30:11.639050Z",
     "iopub.status.busy": "2021-12-20T05:30:11.636535Z",
     "iopub.status.idle": "2021-12-20T05:30:13.677088Z",
     "shell.execute_reply": "2021-12-20T05:30:13.678580Z"
    },
    "papermill": {
     "duration": 2.077187,
     "end_time": "2021-12-20T05:30:13.679035",
     "exception": false,
     "start_time": "2021-12-20T05:30:11.601848",
     "status": "completed"
    },
    "tags": []
   },
   "outputs": [
    {
     "data": {
      "text/plain": [
       "<AxesSubplot:ylabel='PRODUCT'>"
      ]
     },
     "execution_count": 7,
     "metadata": {},
     "output_type": "execute_result"
    },
    {
     "data": {
      "image/png": "[encoded data removed]",
      "text/plain": [
       "<Figure size 432x288 with 1 Axes>"
      ]
     },
     "metadata": {
      "needs_background": "light"
     },
     "output_type": "display_data"
    }
   ],
   "source": [
    "df_pivot_diff.sort_values(\"stamp_2\", ascending = False)[\"stamp_2\"].head(10).plot.barh()"
   ]
  },
  {
   "cell_type": "code",
   "execution_count": null,
   "id": "extra-executive",
   "metadata": {
    "papermill": {
     "duration": 0.022298,
     "end_time": "2021-12-20T05:30:13.726538",
     "exception": false,
     "start_time": "2021-12-20T05:30:13.704240",
     "status": "completed"
    },
    "tags": []
   },
   "outputs": [],
   "source": []
  }
 ],
 "metadata": {
  "kernelspec": {
   "display_name": "Python 3",
   "language": "python",
   "name": "python3"
  },
  "language_info": {
   "codemirror_mode": {
    "name": "ipython",
    "version": 3
   },
   "file_extension": ".py",
   "mimetype": "text/x-python",
   "name": "python",
   "nbconvert_exporter": "python",
   "pygments_lexer": "ipython3",
   "version": "3.9.5"
  },
  "papermill": {
   "default_parameters": {},
   "duration": 9.708016,
   "end_time": "2021-12-20T05:30:14.370808",
   "environment_variables": {},
   "exception": null,
   "input_path": "eBay_Overview.ipynb",
   "output_path": "eBay_Overview.ipynb",
   "parameters": {},
   "start_time": "2021-12-20T05:30:04.662792",
   "version": "2.3.3"
  }
 },
 "nbformat": 4,
 "nbformat_minor": 5
}