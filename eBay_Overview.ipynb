{
 "cells": [
  {
   "cell_type": "code",
   "execution_count": 1,
   "id": "reverse-picking",
   "metadata": {
    "execution": {
     "iopub.execute_input": "2021-10-18T03:30:07.503263Z",
     "iopub.status.busy": "2021-10-18T03:30:07.501298Z",
     "iopub.status.idle": "2021-10-18T03:30:08.305043Z",
     "shell.execute_reply": "2021-10-18T03:30:08.306401Z"
    },
    "papermill": {
     "duration": 0.855599,
     "end_time": "2021-10-18T03:30:08.307055",
     "exception": false,
     "start_time": "2021-10-18T03:30:07.451456",
     "status": "completed"
    },
    "tags": []
   },
   "outputs": [],
   "source": [
    "import pandas as pd\n",
    "import sqlite3"
   ]
  },
  {
   "cell_type": "code",
   "execution_count": 2,
   "id": "innovative-syndrome",
   "metadata": {
    "execution": {
     "iopub.execute_input": "2021-10-18T03:30:08.359667Z",
     "iopub.status.busy": "2021-10-18T03:30:08.357535Z",
     "iopub.status.idle": "2021-10-18T03:30:08.925836Z",
     "shell.execute_reply": "2021-10-18T03:30:08.927034Z"
    },
    "papermill": {
     "duration": 0.598151,
     "end_time": "2021-10-18T03:30:08.927423",
     "exception": false,
     "start_time": "2021-10-18T03:30:08.329272",
     "status": "completed"
    },
    "tags": []
   },
   "outputs": [],
   "source": [
    "timestamps = pd.read_sql(\"select distinct record_time from EBAY_TOP_BERLIN order by record_time desc limit 2\", sqlite3.connect(\"UsedObjects.db\"))"
   ]
  },
  {
   "cell_type": "code",
   "execution_count": 3,
   "id": "periodic-identification",
   "metadata": {
    "execution": {
     "iopub.execute_input": "2021-10-18T03:30:09.003440Z",
     "iopub.status.busy": "2021-10-18T03:30:09.001399Z",
     "iopub.status.idle": "2021-10-18T03:30:09.021324Z",
     "shell.execute_reply": "2021-10-18T03:30:09.022548Z"
    },
    "papermill": {
     "duration": 0.070568,
     "end_time": "2021-10-18T03:30:09.022979",
     "exception": false,
     "start_time": "2021-10-18T03:30:08.952411",
     "status": "completed"
    },
    "tags": []
   },
   "outputs": [
    {
     "data": {
      "text/html": [
       "<div>\n",
       "<style scoped>\n",
       "    .dataframe tbody tr th:only-of-type {\n",
       "        vertical-align: middle;\n",
       "    }\n",
       "\n",
       "    .dataframe tbody tr th {\n",
       "        vertical-align: top;\n",
       "    }\n",
       "\n",
       "    .dataframe thead th {\n",
       "        text-align: right;\n",
       "    }\n",
       "</style>\n",
       "<table border=\"1\" class=\"dataframe\">\n",
       "  <thead>\n",
       "    <tr style=\"text-align: right;\">\n",
       "      <th></th>\n",
       "      <th>RECORD_TIME</th>\n",
       "    </tr>\n",
       "  </thead>\n",
       "  <tbody>\n",
       "    <tr>\n",
       "      <th>0</th>\n",
       "      <td>2021-10-18 05:30</td>\n",
       "    </tr>\n",
       "    <tr>\n",
       "      <th>1</th>\n",
       "      <td>2021-10-18 05:00</td>\n",
       "    </tr>\n",
       "  </tbody>\n",
       "</table>\n",
       "</div>"
      ],
      "text/plain": [
       "        RECORD_TIME\n",
       "0  2021-10-18 05:30\n",
       "1  2021-10-18 05:00"
      ]
     },
     "execution_count": 3,
     "metadata": {},
     "output_type": "execute_result"
    }
   ],
   "source": [
    "timestamps"
   ]
  },
  {
   "cell_type": "code",
   "execution_count": 4,
   "id": "alternate-victory",
   "metadata": {
    "execution": {
     "iopub.execute_input": "2021-10-18T03:30:09.076992Z",
     "iopub.status.busy": "2021-10-18T03:30:09.074663Z",
     "iopub.status.idle": "2021-10-18T03:30:09.914101Z",
     "shell.execute_reply": "2021-10-18T03:30:09.912536Z"
    },
    "papermill": {
     "duration": 0.868759,
     "end_time": "2021-10-18T03:30:09.914573",
     "exception": false,
     "start_time": "2021-10-18T03:30:09.045814",
     "status": "completed"
    },
    "tags": []
   },
   "outputs": [],
   "source": [
    "df = pd.read_sql(\"select * from EBAY_TOP_BERLIN where record_time in (select distinct record_time from EBAY_TOP_BERLIN order by record_time desc limit 2)\", sqlite3.connect(\"UsedObjects.db\"))"
   ]
  },
  {
   "cell_type": "code",
   "execution_count": 5,
   "id": "popular-active",
   "metadata": {
    "execution": {
     "iopub.execute_input": "2021-10-18T03:30:09.981842Z",
     "iopub.status.busy": "2021-10-18T03:30:09.974418Z",
     "iopub.status.idle": "2021-10-18T03:30:10.002450Z",
     "shell.execute_reply": "2021-10-18T03:30:10.003652Z"
    },
    "papermill": {
     "duration": 0.067486,
     "end_time": "2021-10-18T03:30:10.004043",
     "exception": false,
     "start_time": "2021-10-18T03:30:09.936557",
     "status": "completed"
    },
    "tags": []
   },
   "outputs": [],
   "source": [
    "df_pivot = df.pivot_table(index=\"PRODUCT\", columns = \"RECORD_TIME\", values = \"LISTING_COUNT\")"
   ]
  },
  {
   "cell_type": "code",
   "execution_count": 6,
   "id": "union-huntington",
   "metadata": {
    "execution": {
     "iopub.execute_input": "2021-10-18T03:30:10.063635Z",
     "iopub.status.busy": "2021-10-18T03:30:10.061217Z",
     "iopub.status.idle": "2021-10-18T03:30:10.067047Z",
     "shell.execute_reply": "2021-10-18T03:30:10.068320Z"
    },
    "papermill": {
     "duration": 0.042346,
     "end_time": "2021-10-18T03:30:10.068787",
     "exception": false,
     "start_time": "2021-10-18T03:30:10.026441",
     "status": "completed"
    },
    "tags": []
   },
   "outputs": [],
   "source": [
    "df_pivot.columns = [\"stamp_1\", \"stamp_2\"]\n",
    "df_pivot_diff = df_pivot.diff(axis=1)"
   ]
  },
  {
   "cell_type": "code",
   "execution_count": 7,
   "id": "fifth-motion",
   "metadata": {
    "execution": {
     "iopub.execute_input": "2021-10-18T03:30:10.123750Z",
     "iopub.status.busy": "2021-10-18T03:30:10.121284Z",
     "iopub.status.idle": "2021-10-18T03:30:11.613301Z",
     "shell.execute_reply": "2021-10-18T03:30:11.614683Z"
    },
    "papermill": {
     "duration": 1.526106,
     "end_time": "2021-10-18T03:30:11.615096",
     "exception": false,
     "start_time": "2021-10-18T03:30:10.088990",
     "status": "completed"
    },
    "tags": []
   },
   "outputs": [
    {
     "data": {
      "text/plain": [
       "<AxesSubplot:ylabel='PRODUCT'>"
      ]
     },
     "execution_count": 7,
     "metadata": {},
     "output_type": "execute_result"
    },
    {
     "data": {
      "image/png": "[encoded data removed]",
      "text/plain": [
       "<Figure size 432x288 with 1 Axes>"
      ]
     },
     "metadata": {
      "needs_background": "light"
     },
     "output_type": "display_data"
    }
   ],
   "source": [
    "df_pivot_diff.sort_values(\"stamp_2\", ascending = False)[\"stamp_2\"].head(10).plot.barh()"
   ]
  },
  {
   "cell_type": "code",
   "execution_count": null,
   "id": "extra-executive",
   "metadata": {
    "papermill": {
     "duration": 0.022175,
     "end_time": "2021-10-18T03:30:11.662740",
     "exception": false,
     "start_time": "2021-10-18T03:30:11.640565",
     "status": "completed"
    },
    "tags": []
   },
   "outputs": [],
   "source": []
  }
 ],
 "metadata": {
  "kernelspec": {
   "display_name": "Python 3",
   "language": "python",
   "name": "python3"
  },
  "language_info": {
   "codemirror_mode": {
    "name": "ipython",
    "version": 3
   },
   "file_extension": ".py",
   "mimetype": "text/x-python",
   "name": "python",
   "nbconvert_exporter": "python",
   "pygments_lexer": "ipython3",
   "version": "3.9.5"
  },
  "papermill": {
   "default_parameters": {},
   "duration": 7.818762,
   "end_time": "2021-10-18T03:30:12.870961",
   "environment_variables": {},
   "exception": null,
   "input_path": "eBay_Overview.ipynb",
   "output_path": "eBay_Overview.ipynb",
   "parameters": {},
   "start_time": "2021-10-18T03:30:05.052199",
   "version": "2.3.3"
  }
 },
 "nbformat": 4,
 "nbformat_minor": 5
}