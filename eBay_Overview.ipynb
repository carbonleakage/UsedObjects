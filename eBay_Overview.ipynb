{
 "cells": [
  {
   "cell_type": "code",
   "execution_count": 1,
   "id": "reverse-picking",
   "metadata": {
    "execution": {
     "iopub.execute_input": "2021-11-11T05:00:07.515879Z",
     "iopub.status.busy": "2021-11-11T05:00:07.513662Z",
     "iopub.status.idle": "2021-11-11T05:00:08.481019Z",
     "shell.execute_reply": "2021-11-11T05:00:08.482689Z"
    },
    "papermill": {
     "duration": 1.017988,
     "end_time": "2021-11-11T05:00:08.483493",
     "exception": false,
     "start_time": "2021-11-11T05:00:07.465505",
     "status": "completed"
    },
    "tags": []
   },
   "outputs": [],
   "source": [
    "import pandas as pd\n",
    "import sqlite3"
   ]
  },
  {
   "cell_type": "code",
   "execution_count": 2,
   "id": "innovative-syndrome",
   "metadata": {
    "execution": {
     "iopub.execute_input": "2021-11-11T05:00:08.545320Z",
     "iopub.status.busy": "2021-11-11T05:00:08.542698Z",
     "iopub.status.idle": "2021-11-11T05:00:09.334784Z",
     "shell.execute_reply": "2021-11-11T05:00:09.333347Z"
    },
    "papermill": {
     "duration": 0.823951,
     "end_time": "2021-11-11T05:00:09.335188",
     "exception": false,
     "start_time": "2021-11-11T05:00:08.511237",
     "status": "completed"
    },
    "tags": []
   },
   "outputs": [],
   "source": [
    "timestamps = pd.read_sql(\"select distinct record_time from EBAY_TOP_BERLIN order by record_time desc limit 2\", sqlite3.connect(\"UsedObjects.db\"))"
   ]
  },
  {
   "cell_type": "code",
   "execution_count": 3,
   "id": "periodic-identification",
   "metadata": {
    "execution": {
     "iopub.execute_input": "2021-11-11T05:00:09.406271Z",
     "iopub.status.busy": "2021-11-11T05:00:09.403649Z",
     "iopub.status.idle": "2021-11-11T05:00:09.426450Z",
     "shell.execute_reply": "2021-11-11T05:00:09.427927Z"
    },
    "papermill": {
     "duration": 0.073602,
     "end_time": "2021-11-11T05:00:09.428424",
     "exception": false,
     "start_time": "2021-11-11T05:00:09.354822",
     "status": "completed"
    },
    "tags": []
   },
   "outputs": [
    {
     "data": {
      "text/html": [
       "<div>\n",
       "<style scoped>\n",
       "    .dataframe tbody tr th:only-of-type {\n",
       "        vertical-align: middle;\n",
       "    }\n",
       "\n",
       "    .dataframe tbody tr th {\n",
       "        vertical-align: top;\n",
       "    }\n",
       "\n",
       "    .dataframe thead th {\n",
       "        text-align: right;\n",
       "    }\n",
       "</style>\n",
       "<table border=\"1\" class=\"dataframe\">\n",
       "  <thead>\n",
       "    <tr style=\"text-align: right;\">\n",
       "      <th></th>\n",
       "      <th>RECORD_TIME</th>\n",
       "    </tr>\n",
       "  </thead>\n",
       "  <tbody>\n",
       "    <tr>\n",
       "      <th>0</th>\n",
       "      <td>2021-11-11 06:00</td>\n",
       "    </tr>\n",
       "    <tr>\n",
       "      <th>1</th>\n",
       "      <td>2021-11-11 05:30</td>\n",
       "    </tr>\n",
       "  </tbody>\n",
       "</table>\n",
       "</div>"
      ],
      "text/plain": [
       "        RECORD_TIME\n",
       "0  2021-11-11 06:00\n",
       "1  2021-11-11 05:30"
      ]
     },
     "execution_count": 3,
     "metadata": {},
     "output_type": "execute_result"
    }
   ],
   "source": [
    "timestamps"
   ]
  },
  {
   "cell_type": "code",
   "execution_count": 4,
   "id": "alternate-victory",
   "metadata": {
    "execution": {
     "iopub.execute_input": "2021-11-11T05:00:09.486435Z",
     "iopub.status.busy": "2021-11-11T05:00:09.484081Z",
     "iopub.status.idle": "2021-11-11T05:00:10.636378Z",
     "shell.execute_reply": "2021-11-11T05:00:10.638674Z"
    },
    "papermill": {
     "duration": 1.189106,
     "end_time": "2021-11-11T05:00:10.639193",
     "exception": false,
     "start_time": "2021-11-11T05:00:09.450087",
     "status": "completed"
    },
    "tags": []
   },
   "outputs": [],
   "source": [
    "df = pd.read_sql(\"select * from EBAY_TOP_BERLIN where record_time in (select distinct record_time from EBAY_TOP_BERLIN order by record_time desc limit 2)\", sqlite3.connect(\"UsedObjects.db\"))"
   ]
  },
  {
   "cell_type": "code",
   "execution_count": 5,
   "id": "popular-active",
   "metadata": {
    "execution": {
     "iopub.execute_input": "2021-11-11T05:00:10.706493Z",
     "iopub.status.busy": "2021-11-11T05:00:10.704136Z",
     "iopub.status.idle": "2021-11-11T05:00:10.734637Z",
     "shell.execute_reply": "2021-11-11T05:00:10.735979Z"
    },
    "papermill": {
     "duration": 0.074587,
     "end_time": "2021-11-11T05:00:10.736452",
     "exception": false,
     "start_time": "2021-11-11T05:00:10.661865",
     "status": "completed"
    },
    "tags": []
   },
   "outputs": [],
   "source": [
    "df_pivot = df.pivot_table(index=\"PRODUCT\", columns = \"RECORD_TIME\", values = \"LISTING_COUNT\")"
   ]
  },
  {
   "cell_type": "code",
   "execution_count": 6,
   "id": "union-huntington",
   "metadata": {
    "execution": {
     "iopub.execute_input": "2021-11-11T05:00:10.796729Z",
     "iopub.status.busy": "2021-11-11T05:00:10.794330Z",
     "iopub.status.idle": "2021-11-11T05:00:10.799944Z",
     "shell.execute_reply": "2021-11-11T05:00:10.801545Z"
    },
    "papermill": {
     "duration": 0.045026,
     "end_time": "2021-11-11T05:00:10.802038",
     "exception": false,
     "start_time": "2021-11-11T05:00:10.757012",
     "status": "completed"
    },
    "tags": []
   },
   "outputs": [],
   "source": [
    "df_pivot.columns = [\"stamp_1\", \"stamp_2\"]\n",
    "df_pivot_diff = df_pivot.diff(axis=1)"
   ]
  },
  {
   "cell_type": "code",
   "execution_count": 7,
   "id": "fifth-motion",
   "metadata": {
    "execution": {
     "iopub.execute_input": "2021-11-11T05:00:10.878111Z",
     "iopub.status.busy": "2021-11-11T05:00:10.874024Z",
     "iopub.status.idle": "2021-11-11T05:00:12.689352Z",
     "shell.execute_reply": "2021-11-11T05:00:12.692466Z"
    },
    "papermill": {
     "duration": 1.869191,
     "end_time": "2021-11-11T05:00:12.693370",
     "exception": false,
     "start_time": "2021-11-11T05:00:10.824179",
     "status": "completed"
    },
    "tags": []
   },
   "outputs": [
    {
     "data": {
      "text/plain": [
       "<AxesSubplot:ylabel='PRODUCT'>"
      ]
     },
     "execution_count": 7,
     "metadata": {},
     "output_type": "execute_result"
    },
    {
     "data": {
      "image/png": "[encoded data removed]",
      "text/plain": [
       "<Figure size 432x288 with 1 Axes>"
      ]
     },
     "metadata": {
      "needs_background": "light"
     },
     "output_type": "display_data"
    }
   ],
   "source": [
    "df_pivot_diff.sort_values(\"stamp_2\", ascending = False)[\"stamp_2\"].head(10).plot.barh()"
   ]
  },
  {
   "cell_type": "code",
   "execution_count": null,
   "id": "extra-executive",
   "metadata": {
    "papermill": {
     "duration": 0.037869,
     "end_time": "2021-11-11T05:00:12.769570",
     "exception": false,
     "start_time": "2021-11-11T05:00:12.731701",
     "status": "completed"
    },
    "tags": []
   },
   "outputs": [],
   "source": []
  }
 ],
 "metadata": {
  "kernelspec": {
   "display_name": "Python 3",
   "language": "python",
   "name": "python3"
  },
  "language_info": {
   "codemirror_mode": {
    "name": "ipython",
    "version": 3
   },
   "file_extension": ".py",
   "mimetype": "text/x-python",
   "name": "python",
   "nbconvert_exporter": "python",
   "pygments_lexer": "ipython3",
   "version": "3.9.5"
  },
  "papermill": {
   "default_parameters": {},
   "duration": 8.910766,
   "end_time": "2021-11-11T05:00:13.639911",
   "environment_variables": {},
   "exception": null,
   "input_path": "eBay_Overview.ipynb",
   "output_path": "eBay_Overview.ipynb",
   "parameters": {},
   "start_time": "2021-11-11T05:00:04.729145",
   "version": "2.3.3"
  }
 },
 "nbformat": 4,
 "nbformat_minor": 5
}