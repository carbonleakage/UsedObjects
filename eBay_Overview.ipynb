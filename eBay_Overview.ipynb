{
 "cells": [
  {
   "cell_type": "code",
   "execution_count": 1,
   "id": "reverse-picking",
   "metadata": {
    "execution": {
     "iopub.execute_input": "2021-10-03T14:00:06.673776Z",
     "iopub.status.busy": "2021-10-03T14:00:06.671787Z",
     "iopub.status.idle": "2021-10-03T14:00:07.478401Z",
     "shell.execute_reply": "2021-10-03T14:00:07.476850Z"
    },
    "papermill": {
     "duration": 0.855321,
     "end_time": "2021-10-03T14:00:07.478835",
     "exception": false,
     "start_time": "2021-10-03T14:00:06.623514",
     "status": "completed"
    },
    "tags": []
   },
   "outputs": [],
   "source": [
    "import pandas as pd\n",
    "import sqlite3"
   ]
  },
  {
   "cell_type": "code",
   "execution_count": 2,
   "id": "innovative-syndrome",
   "metadata": {
    "execution": {
     "iopub.execute_input": "2021-10-03T14:00:07.529707Z",
     "iopub.status.busy": "2021-10-03T14:00:07.527869Z",
     "iopub.status.idle": "2021-10-03T14:00:07.963640Z",
     "shell.execute_reply": "2021-10-03T14:00:07.965028Z"
    },
    "papermill": {
     "duration": 0.465281,
     "end_time": "2021-10-03T14:00:07.965470",
     "exception": false,
     "start_time": "2021-10-03T14:00:07.500189",
     "status": "completed"
    },
    "tags": []
   },
   "outputs": [],
   "source": [
    "timestamps = pd.read_sql(\"select distinct record_time from EBAY_TOP_BERLIN order by record_time desc limit 2\", sqlite3.connect(\"UsedObjects.db\"))"
   ]
  },
  {
   "cell_type": "code",
   "execution_count": 3,
   "id": "periodic-identification",
   "metadata": {
    "execution": {
     "iopub.execute_input": "2021-10-03T14:00:08.031735Z",
     "iopub.status.busy": "2021-10-03T14:00:08.029650Z",
     "iopub.status.idle": "2021-10-03T14:00:08.051699Z",
     "shell.execute_reply": "2021-10-03T14:00:08.053055Z"
    },
    "papermill": {
     "duration": 0.068409,
     "end_time": "2021-10-03T14:00:08.053477",
     "exception": false,
     "start_time": "2021-10-03T14:00:07.985068",
     "status": "completed"
    },
    "tags": []
   },
   "outputs": [
    {
     "data": {
      "text/html": [
       "<div>\n",
       "<style scoped>\n",
       "    .dataframe tbody tr th:only-of-type {\n",
       "        vertical-align: middle;\n",
       "    }\n",
       "\n",
       "    .dataframe tbody tr th {\n",
       "        vertical-align: top;\n",
       "    }\n",
       "\n",
       "    .dataframe thead th {\n",
       "        text-align: right;\n",
       "    }\n",
       "</style>\n",
       "<table border=\"1\" class=\"dataframe\">\n",
       "  <thead>\n",
       "    <tr style=\"text-align: right;\">\n",
       "      <th></th>\n",
       "      <th>RECORD_TIME</th>\n",
       "    </tr>\n",
       "  </thead>\n",
       "  <tbody>\n",
       "    <tr>\n",
       "      <th>0</th>\n",
       "      <td>2021-10-03 16:00</td>\n",
       "    </tr>\n",
       "    <tr>\n",
       "      <th>1</th>\n",
       "      <td>2021-10-03 15:30</td>\n",
       "    </tr>\n",
       "  </tbody>\n",
       "</table>\n",
       "</div>"
      ],
      "text/plain": [
       "        RECORD_TIME\n",
       "0  2021-10-03 16:00\n",
       "1  2021-10-03 15:30"
      ]
     },
     "execution_count": 3,
     "metadata": {},
     "output_type": "execute_result"
    }
   ],
   "source": [
    "timestamps"
   ]
  },
  {
   "cell_type": "code",
   "execution_count": 4,
   "id": "alternate-victory",
   "metadata": {
    "execution": {
     "iopub.execute_input": "2021-10-03T14:00:08.103626Z",
     "iopub.status.busy": "2021-10-03T14:00:08.101691Z",
     "iopub.status.idle": "2021-10-03T14:00:08.744536Z",
     "shell.execute_reply": "2021-10-03T14:00:08.745740Z"
    },
    "papermill": {
     "duration": 0.672381,
     "end_time": "2021-10-03T14:00:08.746140",
     "exception": false,
     "start_time": "2021-10-03T14:00:08.073759",
     "status": "completed"
    },
    "tags": []
   },
   "outputs": [],
   "source": [
    "df = pd.read_sql(\"select * from EBAY_TOP_BERLIN where record_time in (select distinct record_time from EBAY_TOP_BERLIN order by record_time desc limit 2)\", sqlite3.connect(\"UsedObjects.db\"))"
   ]
  },
  {
   "cell_type": "code",
   "execution_count": 5,
   "id": "popular-active",
   "metadata": {
    "execution": {
     "iopub.execute_input": "2021-10-03T14:00:08.826616Z",
     "iopub.status.busy": "2021-10-03T14:00:08.814006Z",
     "iopub.status.idle": "2021-10-03T14:00:08.843296Z",
     "shell.execute_reply": "2021-10-03T14:00:08.844682Z"
    },
    "papermill": {
     "duration": 0.07338,
     "end_time": "2021-10-03T14:00:08.845121",
     "exception": false,
     "start_time": "2021-10-03T14:00:08.771741",
     "status": "completed"
    },
    "tags": []
   },
   "outputs": [],
   "source": [
    "df_pivot = df.pivot_table(index=\"PRODUCT\", columns = \"RECORD_TIME\", values = \"LISTING_COUNT\")"
   ]
  },
  {
   "cell_type": "code",
   "execution_count": 6,
   "id": "union-huntington",
   "metadata": {
    "execution": {
     "iopub.execute_input": "2021-10-03T14:00:08.902032Z",
     "iopub.status.busy": "2021-10-03T14:00:08.899612Z",
     "iopub.status.idle": "2021-10-03T14:00:08.905595Z",
     "shell.execute_reply": "2021-10-03T14:00:08.906776Z"
    },
    "papermill": {
     "duration": 0.041985,
     "end_time": "2021-10-03T14:00:08.907274",
     "exception": false,
     "start_time": "2021-10-03T14:00:08.865289",
     "status": "completed"
    },
    "tags": []
   },
   "outputs": [],
   "source": [
    "df_pivot.columns = [\"stamp_1\", \"stamp_2\"]\n",
    "df_pivot_diff = df_pivot.diff(axis=1)"
   ]
  },
  {
   "cell_type": "code",
   "execution_count": 7,
   "id": "fifth-motion",
   "metadata": {
    "execution": {
     "iopub.execute_input": "2021-10-03T14:00:08.961607Z",
     "iopub.status.busy": "2021-10-03T14:00:08.959322Z",
     "iopub.status.idle": "2021-10-03T14:00:10.461802Z",
     "shell.execute_reply": "2021-10-03T14:00:10.463364Z"
    },
    "papermill": {
     "duration": 1.536092,
     "end_time": "2021-10-03T14:00:10.463834",
     "exception": false,
     "start_time": "2021-10-03T14:00:08.927742",
     "status": "completed"
    },
    "tags": []
   },
   "outputs": [
    {
     "data": {
      "text/plain": [
       "<AxesSubplot:ylabel='PRODUCT'>"
      ]
     },
     "execution_count": 7,
     "metadata": {},
     "output_type": "execute_result"
    },
    {
     "data": {
      "image/png": "[encoded data removed]",
      "text/plain": [
       "<Figure size 432x288 with 1 Axes>"
      ]
     },
     "metadata": {
      "needs_background": "light"
     },
     "output_type": "display_data"
    }
   ],
   "source": [
    "df_pivot_diff.sort_values(\"stamp_2\", ascending = False)[\"stamp_2\"].head(10).plot.barh()"
   ]
  },
  {
   "cell_type": "code",
   "execution_count": null,
   "id": "extra-executive",
   "metadata": {
    "papermill": {
     "duration": 0.022199,
     "end_time": "2021-10-03T14:00:10.510256",
     "exception": false,
     "start_time": "2021-10-03T14:00:10.488057",
     "status": "completed"
    },
    "tags": []
   },
   "outputs": [],
   "source": []
  }
 ],
 "metadata": {
  "kernelspec": {
   "display_name": "Python 3",
   "language": "python",
   "name": "python3"
  },
  "language_info": {
   "codemirror_mode": {
    "name": "ipython",
    "version": 3
   },
   "file_extension": ".py",
   "mimetype": "text/x-python",
   "name": "python",
   "nbconvert_exporter": "python",
   "pygments_lexer": "ipython3",
   "version": "3.9.5"
  },
  "papermill": {
   "default_parameters": {},
   "duration": 7.81749,
   "end_time": "2021-10-03T14:00:12.043624",
   "environment_variables": {},
   "exception": null,
   "input_path": "eBay_Overview.ipynb",
   "output_path": "eBay_Overview.ipynb",
   "parameters": {},
   "start_time": "2021-10-03T14:00:04.226134",
   "version": "2.3.3"
  }
 },
 "nbformat": 4,
 "nbformat_minor": 5
}