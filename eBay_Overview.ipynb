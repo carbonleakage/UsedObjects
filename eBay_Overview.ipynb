{
 "cells": [
  {
   "cell_type": "code",
   "execution_count": 1,
   "id": "reverse-picking",
   "metadata": {
    "execution": {
     "iopub.execute_input": "2021-12-02T19:00:08.835553Z",
     "iopub.status.busy": "2021-12-02T19:00:08.833251Z",
     "iopub.status.idle": "2021-12-02T19:00:09.802147Z",
     "shell.execute_reply": "2021-12-02T19:00:09.803670Z"
    },
    "papermill": {
     "duration": 1.018215,
     "end_time": "2021-12-02T19:00:09.804432",
     "exception": false,
     "start_time": "2021-12-02T19:00:08.786217",
     "status": "completed"
    },
    "tags": []
   },
   "outputs": [],
   "source": [
    "import pandas as pd\n",
    "import sqlite3"
   ]
  },
  {
   "cell_type": "code",
   "execution_count": 2,
   "id": "innovative-syndrome",
   "metadata": {
    "execution": {
     "iopub.execute_input": "2021-12-02T19:00:09.923390Z",
     "iopub.status.busy": "2021-12-02T19:00:09.921087Z",
     "iopub.status.idle": "2021-12-02T19:00:10.902986Z",
     "shell.execute_reply": "2021-12-02T19:00:10.905598Z"
    },
    "papermill": {
     "duration": 1.016758,
     "end_time": "2021-12-02T19:00:10.906092",
     "exception": false,
     "start_time": "2021-12-02T19:00:09.889334",
     "status": "completed"
    },
    "tags": []
   },
   "outputs": [],
   "source": [
    "timestamps = pd.read_sql(\"select distinct record_time from EBAY_TOP_BERLIN order by record_time desc limit 2\", sqlite3.connect(\"UsedObjects.db\"))"
   ]
  },
  {
   "cell_type": "code",
   "execution_count": 3,
   "id": "periodic-identification",
   "metadata": {
    "execution": {
     "iopub.execute_input": "2021-12-02T19:00:10.978820Z",
     "iopub.status.busy": "2021-12-02T19:00:10.976365Z",
     "iopub.status.idle": "2021-12-02T19:00:10.999714Z",
     "shell.execute_reply": "2021-12-02T19:00:11.001259Z"
    },
    "papermill": {
     "duration": 0.075058,
     "end_time": "2021-12-02T19:00:11.001745",
     "exception": false,
     "start_time": "2021-12-02T19:00:10.926687",
     "status": "completed"
    },
    "tags": []
   },
   "outputs": [
    {
     "data": {
      "text/html": [
       "<div>\n",
       "<style scoped>\n",
       "    .dataframe tbody tr th:only-of-type {\n",
       "        vertical-align: middle;\n",
       "    }\n",
       "\n",
       "    .dataframe tbody tr th {\n",
       "        vertical-align: top;\n",
       "    }\n",
       "\n",
       "    .dataframe thead th {\n",
       "        text-align: right;\n",
       "    }\n",
       "</style>\n",
       "<table border=\"1\" class=\"dataframe\">\n",
       "  <thead>\n",
       "    <tr style=\"text-align: right;\">\n",
       "      <th></th>\n",
       "      <th>RECORD_TIME</th>\n",
       "    </tr>\n",
       "  </thead>\n",
       "  <tbody>\n",
       "    <tr>\n",
       "      <th>0</th>\n",
       "      <td>2021-12-02 20:00</td>\n",
       "    </tr>\n",
       "    <tr>\n",
       "      <th>1</th>\n",
       "      <td>2021-12-02 19:30</td>\n",
       "    </tr>\n",
       "  </tbody>\n",
       "</table>\n",
       "</div>"
      ],
      "text/plain": [
       "        RECORD_TIME\n",
       "0  2021-12-02 20:00\n",
       "1  2021-12-02 19:30"
      ]
     },
     "execution_count": 3,
     "metadata": {},
     "output_type": "execute_result"
    }
   ],
   "source": [
    "timestamps"
   ]
  },
  {
   "cell_type": "code",
   "execution_count": 4,
   "id": "alternate-victory",
   "metadata": {
    "execution": {
     "iopub.execute_input": "2021-12-02T19:00:11.058948Z",
     "iopub.status.busy": "2021-12-02T19:00:11.056649Z",
     "iopub.status.idle": "2021-12-02T19:00:12.477212Z",
     "shell.execute_reply": "2021-12-02T19:00:12.479547Z"
    },
    "papermill": {
     "duration": 1.456447,
     "end_time": "2021-12-02T19:00:12.480047",
     "exception": false,
     "start_time": "2021-12-02T19:00:11.023600",
     "status": "completed"
    },
    "tags": []
   },
   "outputs": [],
   "source": [
    "df = pd.read_sql(\"select * from EBAY_TOP_BERLIN where record_time in (select distinct record_time from EBAY_TOP_BERLIN order by record_time desc limit 2)\", sqlite3.connect(\"UsedObjects.db\"))"
   ]
  },
  {
   "cell_type": "code",
   "execution_count": 5,
   "id": "popular-active",
   "metadata": {
    "execution": {
     "iopub.execute_input": "2021-12-02T19:00:12.559783Z",
     "iopub.status.busy": "2021-12-02T19:00:12.552005Z",
     "iopub.status.idle": "2021-12-02T19:00:12.578158Z",
     "shell.execute_reply": "2021-12-02T19:00:12.579787Z"
    },
    "papermill": {
     "duration": 0.07614,
     "end_time": "2021-12-02T19:00:12.580273",
     "exception": false,
     "start_time": "2021-12-02T19:00:12.504133",
     "status": "completed"
    },
    "tags": []
   },
   "outputs": [],
   "source": [
    "df_pivot = df.pivot_table(index=\"PRODUCT\", columns = \"RECORD_TIME\", values = \"LISTING_COUNT\")"
   ]
  },
  {
   "cell_type": "code",
   "execution_count": 6,
   "id": "union-huntington",
   "metadata": {
    "execution": {
     "iopub.execute_input": "2021-12-02T19:00:12.643865Z",
     "iopub.status.busy": "2021-12-02T19:00:12.641299Z",
     "iopub.status.idle": "2021-12-02T19:00:12.647790Z",
     "shell.execute_reply": "2021-12-02T19:00:12.649455Z"
    },
    "papermill": {
     "duration": 0.049387,
     "end_time": "2021-12-02T19:00:12.649944",
     "exception": false,
     "start_time": "2021-12-02T19:00:12.600557",
     "status": "completed"
    },
    "tags": []
   },
   "outputs": [],
   "source": [
    "df_pivot.columns = [\"stamp_1\", \"stamp_2\"]\n",
    "df_pivot_diff = df_pivot.diff(axis=1)"
   ]
  },
  {
   "cell_type": "code",
   "execution_count": 7,
   "id": "fifth-motion",
   "metadata": {
    "execution": {
     "iopub.execute_input": "2021-12-02T19:00:12.709659Z",
     "iopub.status.busy": "2021-12-02T19:00:12.707051Z",
     "iopub.status.idle": "2021-12-02T19:00:14.702806Z",
     "shell.execute_reply": "2021-12-02T19:00:14.704100Z"
    },
    "papermill": {
     "duration": 2.031539,
     "end_time": "2021-12-02T19:00:14.704520",
     "exception": false,
     "start_time": "2021-12-02T19:00:12.672981",
     "status": "completed"
    },
    "tags": []
   },
   "outputs": [
    {
     "data": {
      "text/plain": [
       "<AxesSubplot:ylabel='PRODUCT'>"
      ]
     },
     "execution_count": 7,
     "metadata": {},
     "output_type": "execute_result"
    },
    {
     "data": {
      "image/png": "[encoded data removed]",
      "text/plain": [
       "<Figure size 432x288 with 1 Axes>"
      ]
     },
     "metadata": {
      "needs_background": "light"
     },
     "output_type": "display_data"
    }
   ],
   "source": [
    "df_pivot_diff.sort_values(\"stamp_2\", ascending = False)[\"stamp_2\"].head(10).plot.barh()"
   ]
  },
  {
   "cell_type": "code",
   "execution_count": null,
   "id": "extra-executive",
   "metadata": {
    "papermill": {
     "duration": 0.057668,
     "end_time": "2021-12-02T19:00:14.785917",
     "exception": false,
     "start_time": "2021-12-02T19:00:14.728249",
     "status": "completed"
    },
    "tags": []
   },
   "outputs": [],
   "source": []
  }
 ],
 "metadata": {
  "kernelspec": {
   "display_name": "Python 3",
   "language": "python",
   "name": "python3"
  },
  "language_info": {
   "codemirror_mode": {
    "name": "ipython",
    "version": 3
   },
   "file_extension": ".py",
   "mimetype": "text/x-python",
   "name": "python",
   "nbconvert_exporter": "python",
   "pygments_lexer": "ipython3",
   "version": "3.9.5"
  },
  "papermill": {
   "default_parameters": {},
   "duration": 9.954284,
   "end_time": "2021-12-02T19:00:15.965505",
   "environment_variables": {},
   "exception": null,
   "input_path": "eBay_Overview.ipynb",
   "output_path": "eBay_Overview.ipynb",
   "parameters": {},
   "start_time": "2021-12-02T19:00:06.011221",
   "version": "2.3.3"
  }
 },
 "nbformat": 4,
 "nbformat_minor": 5
}