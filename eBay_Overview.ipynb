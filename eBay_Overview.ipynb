{
 "cells": [
  {
   "cell_type": "code",
   "execution_count": 1,
   "id": "reverse-picking",
   "metadata": {
    "execution": {
     "iopub.execute_input": "2021-12-03T14:00:08.015840Z",
     "iopub.status.busy": "2021-12-03T14:00:08.013850Z",
     "iopub.status.idle": "2021-12-03T14:00:08.979114Z",
     "shell.execute_reply": "2021-12-03T14:00:08.976653Z"
    },
    "papermill": {
     "duration": 1.012733,
     "end_time": "2021-12-03T14:00:08.979614",
     "exception": false,
     "start_time": "2021-12-03T14:00:07.966881",
     "status": "completed"
    },
    "tags": []
   },
   "outputs": [],
   "source": [
    "import pandas as pd\n",
    "import sqlite3"
   ]
  },
  {
   "cell_type": "code",
   "execution_count": 2,
   "id": "innovative-syndrome",
   "metadata": {
    "execution": {
     "iopub.execute_input": "2021-12-03T14:00:09.041062Z",
     "iopub.status.busy": "2021-12-03T14:00:09.038578Z",
     "iopub.status.idle": "2021-12-03T14:00:10.018686Z",
     "shell.execute_reply": "2021-12-03T14:00:10.020288Z"
    },
    "papermill": {
     "duration": 1.014285,
     "end_time": "2021-12-03T14:00:10.020842",
     "exception": false,
     "start_time": "2021-12-03T14:00:09.006557",
     "status": "completed"
    },
    "tags": []
   },
   "outputs": [],
   "source": [
    "timestamps = pd.read_sql(\"select distinct record_time from EBAY_TOP_BERLIN order by record_time desc limit 2\", sqlite3.connect(\"UsedObjects.db\"))"
   ]
  },
  {
   "cell_type": "code",
   "execution_count": 3,
   "id": "periodic-identification",
   "metadata": {
    "execution": {
     "iopub.execute_input": "2021-12-03T14:00:10.093217Z",
     "iopub.status.busy": "2021-12-03T14:00:10.090794Z",
     "iopub.status.idle": "2021-12-03T14:00:10.115452Z",
     "shell.execute_reply": "2021-12-03T14:00:10.113342Z"
    },
    "papermill": {
     "duration": 0.074112,
     "end_time": "2021-12-03T14:00:10.115902",
     "exception": false,
     "start_time": "2021-12-03T14:00:10.041790",
     "status": "completed"
    },
    "tags": []
   },
   "outputs": [
    {
     "data": {
      "text/html": [
       "<div>\n",
       "<style scoped>\n",
       "    .dataframe tbody tr th:only-of-type {\n",
       "        vertical-align: middle;\n",
       "    }\n",
       "\n",
       "    .dataframe tbody tr th {\n",
       "        vertical-align: top;\n",
       "    }\n",
       "\n",
       "    .dataframe thead th {\n",
       "        text-align: right;\n",
       "    }\n",
       "</style>\n",
       "<table border=\"1\" class=\"dataframe\">\n",
       "  <thead>\n",
       "    <tr style=\"text-align: right;\">\n",
       "      <th></th>\n",
       "      <th>RECORD_TIME</th>\n",
       "    </tr>\n",
       "  </thead>\n",
       "  <tbody>\n",
       "    <tr>\n",
       "      <th>0</th>\n",
       "      <td>2021-12-03 15:00</td>\n",
       "    </tr>\n",
       "    <tr>\n",
       "      <th>1</th>\n",
       "      <td>2021-12-03 14:30</td>\n",
       "    </tr>\n",
       "  </tbody>\n",
       "</table>\n",
       "</div>"
      ],
      "text/plain": [
       "        RECORD_TIME\n",
       "0  2021-12-03 15:00\n",
       "1  2021-12-03 14:30"
      ]
     },
     "execution_count": 3,
     "metadata": {},
     "output_type": "execute_result"
    }
   ],
   "source": [
    "timestamps"
   ]
  },
  {
   "cell_type": "code",
   "execution_count": 4,
   "id": "alternate-victory",
   "metadata": {
    "execution": {
     "iopub.execute_input": "2021-12-03T14:00:10.173925Z",
     "iopub.status.busy": "2021-12-03T14:00:10.171661Z",
     "iopub.status.idle": "2021-12-03T14:00:11.574943Z",
     "shell.execute_reply": "2021-12-03T14:00:11.576567Z"
    },
    "papermill": {
     "duration": 1.437464,
     "end_time": "2021-12-03T14:00:11.577153",
     "exception": false,
     "start_time": "2021-12-03T14:00:10.139689",
     "status": "completed"
    },
    "tags": []
   },
   "outputs": [],
   "source": [
    "df = pd.read_sql(\"select * from EBAY_TOP_BERLIN where record_time in (select distinct record_time from EBAY_TOP_BERLIN order by record_time desc limit 2)\", sqlite3.connect(\"UsedObjects.db\"))"
   ]
  },
  {
   "cell_type": "code",
   "execution_count": 5,
   "id": "popular-active",
   "metadata": {
    "execution": {
     "iopub.execute_input": "2021-12-03T14:00:11.654495Z",
     "iopub.status.busy": "2021-12-03T14:00:11.641453Z",
     "iopub.status.idle": "2021-12-03T14:00:11.674722Z",
     "shell.execute_reply": "2021-12-03T14:00:11.676124Z"
    },
    "papermill": {
     "duration": 0.077796,
     "end_time": "2021-12-03T14:00:11.676601",
     "exception": false,
     "start_time": "2021-12-03T14:00:11.598805",
     "status": "completed"
    },
    "tags": []
   },
   "outputs": [],
   "source": [
    "df_pivot = df.pivot_table(index=\"PRODUCT\", columns = \"RECORD_TIME\", values = \"LISTING_COUNT\")"
   ]
  },
  {
   "cell_type": "code",
   "execution_count": 6,
   "id": "union-huntington",
   "metadata": {
    "execution": {
     "iopub.execute_input": "2021-12-03T14:00:11.735922Z",
     "iopub.status.busy": "2021-12-03T14:00:11.733699Z",
     "iopub.status.idle": "2021-12-03T14:00:11.741089Z",
     "shell.execute_reply": "2021-12-03T14:00:11.739531Z"
    },
    "papermill": {
     "duration": 0.043676,
     "end_time": "2021-12-03T14:00:11.741510",
     "exception": false,
     "start_time": "2021-12-03T14:00:11.697834",
     "status": "completed"
    },
    "tags": []
   },
   "outputs": [],
   "source": [
    "df_pivot.columns = [\"stamp_1\", \"stamp_2\"]\n",
    "df_pivot_diff = df_pivot.diff(axis=1)"
   ]
  },
  {
   "cell_type": "code",
   "execution_count": 7,
   "id": "fifth-motion",
   "metadata": {
    "execution": {
     "iopub.execute_input": "2021-12-03T14:00:11.800178Z",
     "iopub.status.busy": "2021-12-03T14:00:11.797293Z",
     "iopub.status.idle": "2021-12-03T14:00:13.772597Z",
     "shell.execute_reply": "2021-12-03T14:00:13.775423Z"
    },
    "papermill": {
     "duration": 2.014669,
     "end_time": "2021-12-03T14:00:13.776314",
     "exception": false,
     "start_time": "2021-12-03T14:00:11.761645",
     "status": "completed"
    },
    "tags": []
   },
   "outputs": [
    {
     "data": {
      "text/plain": [
       "<AxesSubplot:ylabel='PRODUCT'>"
      ]
     },
     "execution_count": 7,
     "metadata": {},
     "output_type": "execute_result"
    },
    {
     "data": {
      "image/png": "[encoded data removed]",
      "text/plain": [
       "<Figure size 432x288 with 1 Axes>"
      ]
     },
     "metadata": {
      "needs_background": "light"
     },
     "output_type": "display_data"
    }
   ],
   "source": [
    "df_pivot_diff.sort_values(\"stamp_2\", ascending = False)[\"stamp_2\"].head(10).plot.barh()"
   ]
  },
  {
   "cell_type": "code",
   "execution_count": null,
   "id": "extra-executive",
   "metadata": {
    "papermill": {
     "duration": 0.031538,
     "end_time": "2021-12-03T14:00:13.844303",
     "exception": false,
     "start_time": "2021-12-03T14:00:13.812765",
     "status": "completed"
    },
    "tags": []
   },
   "outputs": [],
   "source": []
  }
 ],
 "metadata": {
  "kernelspec": {
   "display_name": "Python 3",
   "language": "python",
   "name": "python3"
  },
  "language_info": {
   "codemirror_mode": {
    "name": "ipython",
    "version": 3
   },
   "file_extension": ".py",
   "mimetype": "text/x-python",
   "name": "python",
   "nbconvert_exporter": "python",
   "pygments_lexer": "ipython3",
   "version": "3.9.5"
  },
  "papermill": {
   "default_parameters": {},
   "duration": 9.927553,
   "end_time": "2021-12-03T14:00:15.166539",
   "environment_variables": {},
   "exception": null,
   "input_path": "eBay_Overview.ipynb",
   "output_path": "eBay_Overview.ipynb",
   "parameters": {},
   "start_time": "2021-12-03T14:00:05.238986",
   "version": "2.3.3"
  }
 },
 "nbformat": 4,
 "nbformat_minor": 5
}