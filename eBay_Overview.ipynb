{
 "cells": [
  {
   "cell_type": "code",
   "execution_count": 1,
   "id": "reverse-picking",
   "metadata": {
    "execution": {
     "iopub.execute_input": "2021-09-04T09:00:07.319339Z",
     "iopub.status.busy": "2021-09-04T09:00:07.317311Z",
     "iopub.status.idle": "2021-09-04T09:00:08.120004Z",
     "shell.execute_reply": "2021-09-04T09:00:08.121283Z"
    },
    "papermill": {
     "duration": 0.852872,
     "end_time": "2021-09-04T09:00:08.121895",
     "exception": false,
     "start_time": "2021-09-04T09:00:07.269023",
     "status": "completed"
    },
    "tags": []
   },
   "outputs": [],
   "source": [
    "import pandas as pd\n",
    "import sqlite3"
   ]
  },
  {
   "cell_type": "code",
   "execution_count": 2,
   "id": "innovative-syndrome",
   "metadata": {
    "execution": {
     "iopub.execute_input": "2021-09-04T09:00:08.173322Z",
     "iopub.status.busy": "2021-09-04T09:00:08.171455Z",
     "iopub.status.idle": "2021-09-04T09:00:08.375196Z",
     "shell.execute_reply": "2021-09-04T09:00:08.376416Z"
    },
    "papermill": {
     "duration": 0.233167,
     "end_time": "2021-09-04T09:00:08.376813",
     "exception": false,
     "start_time": "2021-09-04T09:00:08.143646",
     "status": "completed"
    },
    "tags": []
   },
   "outputs": [],
   "source": [
    "timestamps = pd.read_sql(\"select distinct record_time from EBAY_TOP_BERLIN order by record_time desc limit 2\", sqlite3.connect(\"UsedObjects.db\"))"
   ]
  },
  {
   "cell_type": "code",
   "execution_count": 3,
   "id": "periodic-identification",
   "metadata": {
    "execution": {
     "iopub.execute_input": "2021-09-04T09:00:08.445371Z",
     "iopub.status.busy": "2021-09-04T09:00:08.443369Z",
     "iopub.status.idle": "2021-09-04T09:00:08.464180Z",
     "shell.execute_reply": "2021-09-04T09:00:08.465501Z"
    },
    "papermill": {
     "duration": 0.066613,
     "end_time": "2021-09-04T09:00:08.465912",
     "exception": false,
     "start_time": "2021-09-04T09:00:08.399299",
     "status": "completed"
    },
    "tags": []
   },
   "outputs": [
    {
     "data": {
      "text/html": [
       "<div>\n",
       "<style scoped>\n",
       "    .dataframe tbody tr th:only-of-type {\n",
       "        vertical-align: middle;\n",
       "    }\n",
       "\n",
       "    .dataframe tbody tr th {\n",
       "        vertical-align: top;\n",
       "    }\n",
       "\n",
       "    .dataframe thead th {\n",
       "        text-align: right;\n",
       "    }\n",
       "</style>\n",
       "<table border=\"1\" class=\"dataframe\">\n",
       "  <thead>\n",
       "    <tr style=\"text-align: right;\">\n",
       "      <th></th>\n",
       "      <th>RECORD_TIME</th>\n",
       "    </tr>\n",
       "  </thead>\n",
       "  <tbody>\n",
       "    <tr>\n",
       "      <th>0</th>\n",
       "      <td>2021-09-04 11:00</td>\n",
       "    </tr>\n",
       "    <tr>\n",
       "      <th>1</th>\n",
       "      <td>2021-09-04 10:30</td>\n",
       "    </tr>\n",
       "  </tbody>\n",
       "</table>\n",
       "</div>"
      ],
      "text/plain": [
       "        RECORD_TIME\n",
       "0  2021-09-04 11:00\n",
       "1  2021-09-04 10:30"
      ]
     },
     "execution_count": 3,
     "metadata": {},
     "output_type": "execute_result"
    }
   ],
   "source": [
    "timestamps"
   ]
  },
  {
   "cell_type": "code",
   "execution_count": 4,
   "id": "alternate-victory",
   "metadata": {
    "execution": {
     "iopub.execute_input": "2021-09-04T09:00:08.516519Z",
     "iopub.status.busy": "2021-09-04T09:00:08.514593Z",
     "iopub.status.idle": "2021-09-04T09:00:08.814443Z",
     "shell.execute_reply": "2021-09-04T09:00:08.815732Z"
    },
    "papermill": {
     "duration": 0.329683,
     "end_time": "2021-09-04T09:00:08.816129",
     "exception": false,
     "start_time": "2021-09-04T09:00:08.486446",
     "status": "completed"
    },
    "tags": []
   },
   "outputs": [],
   "source": [
    "df = pd.read_sql(\"select * from EBAY_TOP_BERLIN where record_time in (select distinct record_time from EBAY_TOP_BERLIN order by record_time desc limit 2)\", sqlite3.connect(\"UsedObjects.db\"))"
   ]
  },
  {
   "cell_type": "code",
   "execution_count": 5,
   "id": "popular-active",
   "metadata": {
    "execution": {
     "iopub.execute_input": "2021-09-04T09:00:08.897089Z",
     "iopub.status.busy": "2021-09-04T09:00:08.885770Z",
     "iopub.status.idle": "2021-09-04T09:00:08.913001Z",
     "shell.execute_reply": "2021-09-04T09:00:08.914299Z"
    },
    "papermill": {
     "duration": 0.07246,
     "end_time": "2021-09-04T09:00:08.914708",
     "exception": false,
     "start_time": "2021-09-04T09:00:08.842248",
     "status": "completed"
    },
    "tags": []
   },
   "outputs": [],
   "source": [
    "df_pivot = df.pivot_table(index=\"PRODUCT\", columns = \"RECORD_TIME\", values = \"LISTING_COUNT\")"
   ]
  },
  {
   "cell_type": "code",
   "execution_count": 6,
   "id": "union-huntington",
   "metadata": {
    "execution": {
     "iopub.execute_input": "2021-09-04T09:00:08.970176Z",
     "iopub.status.busy": "2021-09-04T09:00:08.968130Z",
     "iopub.status.idle": "2021-09-04T09:00:08.973306Z",
     "shell.execute_reply": "2021-09-04T09:00:08.974585Z"
    },
    "papermill": {
     "duration": 0.040089,
     "end_time": "2021-09-04T09:00:08.975062",
     "exception": false,
     "start_time": "2021-09-04T09:00:08.934973",
     "status": "completed"
    },
    "tags": []
   },
   "outputs": [],
   "source": [
    "df_pivot.columns = [\"stamp_1\", \"stamp_2\"]\n",
    "df_pivot_diff = df_pivot.diff(axis=1)"
   ]
  },
  {
   "cell_type": "code",
   "execution_count": 7,
   "id": "fifth-motion",
   "metadata": {
    "execution": {
     "iopub.execute_input": "2021-09-04T09:00:09.029241Z",
     "iopub.status.busy": "2021-09-04T09:00:09.026777Z",
     "iopub.status.idle": "2021-09-04T09:00:10.518145Z",
     "shell.execute_reply": "2021-09-04T09:00:10.520284Z"
    },
    "papermill": {
     "duration": 1.525043,
     "end_time": "2021-09-04T09:00:10.520746",
     "exception": false,
     "start_time": "2021-09-04T09:00:08.995703",
     "status": "completed"
    },
    "tags": []
   },
   "outputs": [
    {
     "data": {
      "text/plain": [
       "<AxesSubplot:ylabel='PRODUCT'>"
      ]
     },
     "execution_count": 7,
     "metadata": {},
     "output_type": "execute_result"
    },
    {
     "data": {
      "image/png": "[encoded data removed]",
      "text/plain": [
       "<Figure size 432x288 with 1 Axes>"
      ]
     },
     "metadata": {
      "needs_background": "light"
     },
     "output_type": "display_data"
    }
   ],
   "source": [
    "df_pivot_diff.sort_values(\"stamp_2\", ascending = False)[\"stamp_2\"].head(10).plot.barh()"
   ]
  },
  {
   "cell_type": "code",
   "execution_count": null,
   "id": "extra-executive",
   "metadata": {
    "papermill": {
     "duration": 0.022319,
     "end_time": "2021-09-04T09:00:10.569623",
     "exception": false,
     "start_time": "2021-09-04T09:00:10.547304",
     "status": "completed"
    },
    "tags": []
   },
   "outputs": [],
   "source": []
  }
 ],
 "metadata": {
  "kernelspec": {
   "display_name": "Python 3",
   "language": "python",
   "name": "python3"
  },
  "language_info": {
   "codemirror_mode": {
    "name": "ipython",
    "version": 3
   },
   "file_extension": ".py",
   "mimetype": "text/x-python",
   "name": "python",
   "nbconvert_exporter": "python",
   "pygments_lexer": "ipython3",
   "version": "3.9.5"
  },
  "papermill": {
   "default_parameters": {},
   "duration": 6.34076,
   "end_time": "2021-09-04T09:00:11.210393",
   "environment_variables": {},
   "exception": null,
   "input_path": "eBay_Overview.ipynb",
   "output_path": "eBay_Overview.ipynb",
   "parameters": {},
   "start_time": "2021-09-04T09:00:04.869633",
   "version": "2.3.3"
  }
 },
 "nbformat": 4,
 "nbformat_minor": 5
}