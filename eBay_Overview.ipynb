{
 "cells": [
  {
   "cell_type": "code",
   "execution_count": 1,
   "id": "reverse-picking",
   "metadata": {
    "execution": {
     "iopub.execute_input": "2021-12-03T05:00:07.402422Z",
     "iopub.status.busy": "2021-12-03T05:00:07.400056Z",
     "iopub.status.idle": "2021-12-03T05:00:08.363276Z",
     "shell.execute_reply": "2021-12-03T05:00:08.364985Z"
    },
    "papermill": {
     "duration": 1.013864,
     "end_time": "2021-12-03T05:00:08.365733",
     "exception": false,
     "start_time": "2021-12-03T05:00:07.351869",
     "status": "completed"
    },
    "tags": []
   },
   "outputs": [],
   "source": [
    "import pandas as pd\n",
    "import sqlite3"
   ]
  },
  {
   "cell_type": "code",
   "execution_count": 2,
   "id": "innovative-syndrome",
   "metadata": {
    "execution": {
     "iopub.execute_input": "2021-12-03T05:00:08.456476Z",
     "iopub.status.busy": "2021-12-03T05:00:08.454187Z",
     "iopub.status.idle": "2021-12-03T05:00:09.413764Z",
     "shell.execute_reply": "2021-12-03T05:00:09.415356Z"
    },
    "papermill": {
     "duration": 0.993943,
     "end_time": "2021-12-03T05:00:09.415853",
     "exception": false,
     "start_time": "2021-12-03T05:00:08.421910",
     "status": "completed"
    },
    "tags": []
   },
   "outputs": [],
   "source": [
    "timestamps = pd.read_sql(\"select distinct record_time from EBAY_TOP_BERLIN order by record_time desc limit 2\", sqlite3.connect(\"UsedObjects.db\"))"
   ]
  },
  {
   "cell_type": "code",
   "execution_count": 3,
   "id": "periodic-identification",
   "metadata": {
    "execution": {
     "iopub.execute_input": "2021-12-03T05:00:09.487797Z",
     "iopub.status.busy": "2021-12-03T05:00:09.485400Z",
     "iopub.status.idle": "2021-12-03T05:00:09.509369Z",
     "shell.execute_reply": "2021-12-03T05:00:09.511050Z"
    },
    "papermill": {
     "duration": 0.075262,
     "end_time": "2021-12-03T05:00:09.511574",
     "exception": false,
     "start_time": "2021-12-03T05:00:09.436312",
     "status": "completed"
    },
    "tags": []
   },
   "outputs": [
    {
     "data": {
      "text/html": [
       "<div>\n",
       "<style scoped>\n",
       "    .dataframe tbody tr th:only-of-type {\n",
       "        vertical-align: middle;\n",
       "    }\n",
       "\n",
       "    .dataframe tbody tr th {\n",
       "        vertical-align: top;\n",
       "    }\n",
       "\n",
       "    .dataframe thead th {\n",
       "        text-align: right;\n",
       "    }\n",
       "</style>\n",
       "<table border=\"1\" class=\"dataframe\">\n",
       "  <thead>\n",
       "    <tr style=\"text-align: right;\">\n",
       "      <th></th>\n",
       "      <th>RECORD_TIME</th>\n",
       "    </tr>\n",
       "  </thead>\n",
       "  <tbody>\n",
       "    <tr>\n",
       "      <th>0</th>\n",
       "      <td>2021-12-03 06:00</td>\n",
       "    </tr>\n",
       "    <tr>\n",
       "      <th>1</th>\n",
       "      <td>2021-12-03 05:30</td>\n",
       "    </tr>\n",
       "  </tbody>\n",
       "</table>\n",
       "</div>"
      ],
      "text/plain": [
       "        RECORD_TIME\n",
       "0  2021-12-03 06:00\n",
       "1  2021-12-03 05:30"
      ]
     },
     "execution_count": 3,
     "metadata": {},
     "output_type": "execute_result"
    }
   ],
   "source": [
    "timestamps"
   ]
  },
  {
   "cell_type": "code",
   "execution_count": 4,
   "id": "alternate-victory",
   "metadata": {
    "execution": {
     "iopub.execute_input": "2021-12-03T05:00:09.569580Z",
     "iopub.status.busy": "2021-12-03T05:00:09.567373Z",
     "iopub.status.idle": "2021-12-03T05:00:10.989984Z",
     "shell.execute_reply": "2021-12-03T05:00:10.991607Z"
    },
    "papermill": {
     "duration": 1.457278,
     "end_time": "2021-12-03T05:00:10.992113",
     "exception": false,
     "start_time": "2021-12-03T05:00:09.534835",
     "status": "completed"
    },
    "tags": []
   },
   "outputs": [],
   "source": [
    "df = pd.read_sql(\"select * from EBAY_TOP_BERLIN where record_time in (select distinct record_time from EBAY_TOP_BERLIN order by record_time desc limit 2)\", sqlite3.connect(\"UsedObjects.db\"))"
   ]
  },
  {
   "cell_type": "code",
   "execution_count": 5,
   "id": "popular-active",
   "metadata": {
    "execution": {
     "iopub.execute_input": "2021-12-03T05:00:11.065861Z",
     "iopub.status.busy": "2021-12-03T05:00:11.057167Z",
     "iopub.status.idle": "2021-12-03T05:00:11.093256Z",
     "shell.execute_reply": "2021-12-03T05:00:11.091539Z"
    },
    "papermill": {
     "duration": 0.07837,
     "end_time": "2021-12-03T05:00:11.093754",
     "exception": false,
     "start_time": "2021-12-03T05:00:11.015384",
     "status": "completed"
    },
    "tags": []
   },
   "outputs": [],
   "source": [
    "df_pivot = df.pivot_table(index=\"PRODUCT\", columns = \"RECORD_TIME\", values = \"LISTING_COUNT\")"
   ]
  },
  {
   "cell_type": "code",
   "execution_count": 6,
   "id": "union-huntington",
   "metadata": {
    "execution": {
     "iopub.execute_input": "2021-12-03T05:00:11.153378Z",
     "iopub.status.busy": "2021-12-03T05:00:11.151284Z",
     "iopub.status.idle": "2021-12-03T05:00:11.156615Z",
     "shell.execute_reply": "2021-12-03T05:00:11.158301Z"
    },
    "papermill": {
     "duration": 0.042932,
     "end_time": "2021-12-03T05:00:11.158909",
     "exception": false,
     "start_time": "2021-12-03T05:00:11.115977",
     "status": "completed"
    },
    "tags": []
   },
   "outputs": [],
   "source": [
    "df_pivot.columns = [\"stamp_1\", \"stamp_2\"]\n",
    "df_pivot_diff = df_pivot.diff(axis=1)"
   ]
  },
  {
   "cell_type": "code",
   "execution_count": 7,
   "id": "fifth-motion",
   "metadata": {
    "execution": {
     "iopub.execute_input": "2021-12-03T05:00:11.216086Z",
     "iopub.status.busy": "2021-12-03T05:00:11.213651Z",
     "iopub.status.idle": "2021-12-03T05:00:13.161505Z",
     "shell.execute_reply": "2021-12-03T05:00:13.163931Z"
    },
    "papermill": {
     "duration": 1.984706,
     "end_time": "2021-12-03T05:00:13.164650",
     "exception": false,
     "start_time": "2021-12-03T05:00:11.179944",
     "status": "completed"
    },
    "tags": []
   },
   "outputs": [
    {
     "data": {
      "text/plain": [
       "<AxesSubplot:ylabel='PRODUCT'>"
      ]
     },
     "execution_count": 7,
     "metadata": {},
     "output_type": "execute_result"
    },
    {
     "data": {
      "image/png": "[encoded data removed]",
      "text/plain": [
       "<Figure size 432x288 with 1 Axes>"
      ]
     },
     "metadata": {
      "needs_background": "light"
     },
     "output_type": "display_data"
    }
   ],
   "source": [
    "df_pivot_diff.sort_values(\"stamp_2\", ascending = False)[\"stamp_2\"].head(10).plot.barh()"
   ]
  },
  {
   "cell_type": "code",
   "execution_count": null,
   "id": "extra-executive",
   "metadata": {
    "papermill": {
     "duration": 0.037803,
     "end_time": "2021-12-03T05:00:13.236489",
     "exception": false,
     "start_time": "2021-12-03T05:00:13.198686",
     "status": "completed"
    },
    "tags": []
   },
   "outputs": [],
   "source": []
  }
 ],
 "metadata": {
  "kernelspec": {
   "display_name": "Python 3",
   "language": "python",
   "name": "python3"
  },
  "language_info": {
   "codemirror_mode": {
    "name": "ipython",
    "version": 3
   },
   "file_extension": ".py",
   "mimetype": "text/x-python",
   "name": "python",
   "nbconvert_exporter": "python",
   "pygments_lexer": "ipython3",
   "version": "3.9.5"
  },
  "papermill": {
   "default_parameters": {},
   "duration": 9.941623,
   "end_time": "2021-12-03T05:00:14.554565",
   "environment_variables": {},
   "exception": null,
   "input_path": "eBay_Overview.ipynb",
   "output_path": "eBay_Overview.ipynb",
   "parameters": {},
   "start_time": "2021-12-03T05:00:04.612942",
   "version": "2.3.3"
  }
 },
 "nbformat": 4,
 "nbformat_minor": 5
}