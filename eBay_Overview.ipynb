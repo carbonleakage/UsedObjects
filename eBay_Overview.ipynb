{
 "cells": [
  {
   "cell_type": "code",
   "execution_count": 1,
   "id": "reverse-picking",
   "metadata": {
    "execution": {
     "iopub.execute_input": "2021-08-19T09:30:06.590143Z",
     "iopub.status.busy": "2021-08-19T09:30:06.588181Z",
     "iopub.status.idle": "2021-08-19T09:30:07.393696Z",
     "shell.execute_reply": "2021-08-19T09:30:07.395131Z"
    },
    "papermill": {
     "duration": 0.857091,
     "end_time": "2021-08-19T09:30:07.395799",
     "exception": false,
     "start_time": "2021-08-19T09:30:06.538708",
     "status": "completed"
    },
    "tags": []
   },
   "outputs": [],
   "source": [
    "import pandas as pd\n",
    "import sqlite3"
   ]
  },
  {
   "cell_type": "code",
   "execution_count": 2,
   "id": "innovative-syndrome",
   "metadata": {
    "execution": {
     "iopub.execute_input": "2021-08-19T09:30:07.446306Z",
     "iopub.status.busy": "2021-08-19T09:30:07.444185Z",
     "iopub.status.idle": "2021-08-19T09:30:07.525639Z",
     "shell.execute_reply": "2021-08-19T09:30:07.526901Z"
    },
    "papermill": {
     "duration": 0.11143,
     "end_time": "2021-08-19T09:30:07.527304",
     "exception": false,
     "start_time": "2021-08-19T09:30:07.415874",
     "status": "completed"
    },
    "tags": []
   },
   "outputs": [],
   "source": [
    "timestamps = pd.read_sql(\"select distinct record_time from EBAY_TOP_BERLIN order by record_time desc limit 2\", sqlite3.connect(\"UsedObjects.db\"))"
   ]
  },
  {
   "cell_type": "code",
   "execution_count": 3,
   "id": "periodic-identification",
   "metadata": {
    "execution": {
     "iopub.execute_input": "2021-08-19T09:30:07.596221Z",
     "iopub.status.busy": "2021-08-19T09:30:07.591177Z",
     "iopub.status.idle": "2021-08-19T09:30:07.613179Z",
     "shell.execute_reply": "2021-08-19T09:30:07.615215Z"
    },
    "papermill": {
     "duration": 0.067107,
     "end_time": "2021-08-19T09:30:07.615753",
     "exception": false,
     "start_time": "2021-08-19T09:30:07.548646",
     "status": "completed"
    },
    "tags": []
   },
   "outputs": [
    {
     "data": {
      "text/html": [
       "<div>\n",
       "<style scoped>\n",
       "    .dataframe tbody tr th:only-of-type {\n",
       "        vertical-align: middle;\n",
       "    }\n",
       "\n",
       "    .dataframe tbody tr th {\n",
       "        vertical-align: top;\n",
       "    }\n",
       "\n",
       "    .dataframe thead th {\n",
       "        text-align: right;\n",
       "    }\n",
       "</style>\n",
       "<table border=\"1\" class=\"dataframe\">\n",
       "  <thead>\n",
       "    <tr style=\"text-align: right;\">\n",
       "      <th></th>\n",
       "      <th>RECORD_TIME</th>\n",
       "    </tr>\n",
       "  </thead>\n",
       "  <tbody>\n",
       "    <tr>\n",
       "      <th>0</th>\n",
       "      <td>2021-08-19 11:30</td>\n",
       "    </tr>\n",
       "    <tr>\n",
       "      <th>1</th>\n",
       "      <td>2021-08-19 11:00</td>\n",
       "    </tr>\n",
       "  </tbody>\n",
       "</table>\n",
       "</div>"
      ],
      "text/plain": [
       "        RECORD_TIME\n",
       "0  2021-08-19 11:30\n",
       "1  2021-08-19 11:00"
      ]
     },
     "execution_count": 3,
     "metadata": {},
     "output_type": "execute_result"
    }
   ],
   "source": [
    "timestamps"
   ]
  },
  {
   "cell_type": "code",
   "execution_count": 4,
   "id": "alternate-victory",
   "metadata": {
    "execution": {
     "iopub.execute_input": "2021-08-19T09:30:07.667076Z",
     "iopub.status.busy": "2021-08-19T09:30:07.664751Z",
     "iopub.status.idle": "2021-08-19T09:30:07.790735Z",
     "shell.execute_reply": "2021-08-19T09:30:07.789447Z"
    },
    "papermill": {
     "duration": 0.154771,
     "end_time": "2021-08-19T09:30:07.791091",
     "exception": false,
     "start_time": "2021-08-19T09:30:07.636320",
     "status": "completed"
    },
    "tags": []
   },
   "outputs": [],
   "source": [
    "df = pd.read_sql(\"select * from EBAY_TOP_BERLIN where record_time in (select distinct record_time from EBAY_TOP_BERLIN order by record_time desc limit 2)\", sqlite3.connect(\"UsedObjects.db\"))"
   ]
  },
  {
   "cell_type": "code",
   "execution_count": 5,
   "id": "popular-active",
   "metadata": {
    "execution": {
     "iopub.execute_input": "2021-08-19T09:30:07.862830Z",
     "iopub.status.busy": "2021-08-19T09:30:07.851183Z",
     "iopub.status.idle": "2021-08-19T09:30:07.879102Z",
     "shell.execute_reply": "2021-08-19T09:30:07.880312Z"
    },
    "papermill": {
     "duration": 0.067418,
     "end_time": "2021-08-19T09:30:07.880706",
     "exception": false,
     "start_time": "2021-08-19T09:30:07.813288",
     "status": "completed"
    },
    "tags": []
   },
   "outputs": [],
   "source": [
    "df_pivot = df.pivot_table(index=\"PRODUCT\", columns = \"RECORD_TIME\", values = \"LISTING_COUNT\")"
   ]
  },
  {
   "cell_type": "code",
   "execution_count": 6,
   "id": "union-huntington",
   "metadata": {
    "execution": {
     "iopub.execute_input": "2021-08-19T09:30:07.936688Z",
     "iopub.status.busy": "2021-08-19T09:30:07.934618Z",
     "iopub.status.idle": "2021-08-19T09:30:07.939655Z",
     "shell.execute_reply": "2021-08-19T09:30:07.940847Z"
    },
    "papermill": {
     "duration": 0.039399,
     "end_time": "2021-08-19T09:30:07.941273",
     "exception": false,
     "start_time": "2021-08-19T09:30:07.901874",
     "status": "completed"
    },
    "tags": []
   },
   "outputs": [],
   "source": [
    "df_pivot.columns = [\"stamp_1\", \"stamp_2\"]\n",
    "df_pivot_diff = df_pivot.diff(axis=1)"
   ]
  },
  {
   "cell_type": "code",
   "execution_count": 7,
   "id": "fifth-motion",
   "metadata": {
    "execution": {
     "iopub.execute_input": "2021-08-19T09:30:07.999660Z",
     "iopub.status.busy": "2021-08-19T09:30:07.997097Z",
     "iopub.status.idle": "2021-08-19T09:30:09.460460Z",
     "shell.execute_reply": "2021-08-19T09:30:09.461739Z"
    },
    "papermill": {
     "duration": 1.496868,
     "end_time": "2021-08-19T09:30:09.462381",
     "exception": false,
     "start_time": "2021-08-19T09:30:07.965513",
     "status": "completed"
    },
    "tags": []
   },
   "outputs": [
    {
     "data": {
      "text/plain": [
       "<AxesSubplot:ylabel='PRODUCT'>"
      ]
     },
     "execution_count": 7,
     "metadata": {},
     "output_type": "execute_result"
    },
    {
     "data": {
      "image/png": "[encoded data removed]",
      "text/plain": [
       "<Figure size 432x288 with 1 Axes>"
      ]
     },
     "metadata": {
      "needs_background": "light"
     },
     "output_type": "display_data"
    }
   ],
   "source": [
    "df_pivot_diff.sort_values(\"stamp_2\", ascending = False)[\"stamp_2\"].head(10).plot.barh()"
   ]
  },
  {
   "cell_type": "code",
   "execution_count": null,
   "id": "extra-executive",
   "metadata": {
    "papermill": {
     "duration": 0.021736,
     "end_time": "2021-08-19T09:30:09.508208",
     "exception": false,
     "start_time": "2021-08-19T09:30:09.486472",
     "status": "completed"
    },
    "tags": []
   },
   "outputs": [],
   "source": []
  }
 ],
 "metadata": {
  "kernelspec": {
   "display_name": "Python 3",
   "language": "python",
   "name": "python3"
  },
  "language_info": {
   "codemirror_mode": {
    "name": "ipython",
    "version": 3
   },
   "file_extension": ".py",
   "mimetype": "text/x-python",
   "name": "python",
   "nbconvert_exporter": "python",
   "pygments_lexer": "ipython3",
   "version": "3.9.5"
  },
  "papermill": {
   "default_parameters": {},
   "duration": 6.831085,
   "end_time": "2021-08-19T09:30:10.966274",
   "environment_variables": {},
   "exception": null,
   "input_path": "eBay_Overview.ipynb",
   "output_path": "eBay_Overview.ipynb",
   "parameters": {},
   "start_time": "2021-08-19T09:30:04.135189",
   "version": "2.3.3"
  }
 },
 "nbformat": 4,
 "nbformat_minor": 5
}