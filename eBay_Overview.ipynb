{
 "cells": [
  {
   "cell_type": "code",
   "execution_count": 1,
   "id": "reverse-picking",
   "metadata": {
    "execution": {
     "iopub.execute_input": "2021-09-28T22:30:07.647023Z",
     "iopub.status.busy": "2021-09-28T22:30:07.645007Z",
     "iopub.status.idle": "2021-09-28T22:30:08.451845Z",
     "shell.execute_reply": "2021-09-28T22:30:08.453104Z"
    },
    "papermill": {
     "duration": 0.859977,
     "end_time": "2021-09-28T22:30:08.453725",
     "exception": false,
     "start_time": "2021-09-28T22:30:07.593748",
     "status": "completed"
    },
    "tags": []
   },
   "outputs": [],
   "source": [
    "import pandas as pd\n",
    "import sqlite3"
   ]
  },
  {
   "cell_type": "code",
   "execution_count": 2,
   "id": "innovative-syndrome",
   "metadata": {
    "execution": {
     "iopub.execute_input": "2021-09-28T22:30:08.505417Z",
     "iopub.status.busy": "2021-09-28T22:30:08.503590Z",
     "iopub.status.idle": "2021-09-28T22:30:08.904011Z",
     "shell.execute_reply": "2021-09-28T22:30:08.905281Z"
    },
    "papermill": {
     "duration": 0.43026,
     "end_time": "2021-09-28T22:30:08.905731",
     "exception": false,
     "start_time": "2021-09-28T22:30:08.475471",
     "status": "completed"
    },
    "tags": []
   },
   "outputs": [],
   "source": [
    "timestamps = pd.read_sql(\"select distinct record_time from EBAY_TOP_BERLIN order by record_time desc limit 2\", sqlite3.connect(\"UsedObjects.db\"))"
   ]
  },
  {
   "cell_type": "code",
   "execution_count": 3,
   "id": "periodic-identification",
   "metadata": {
    "execution": {
     "iopub.execute_input": "2021-09-28T22:30:08.972822Z",
     "iopub.status.busy": "2021-09-28T22:30:08.970747Z",
     "iopub.status.idle": "2021-09-28T22:30:08.993100Z",
     "shell.execute_reply": "2021-09-28T22:30:08.994377Z"
    },
    "papermill": {
     "duration": 0.06924,
     "end_time": "2021-09-28T22:30:08.994942",
     "exception": false,
     "start_time": "2021-09-28T22:30:08.925702",
     "status": "completed"
    },
    "tags": []
   },
   "outputs": [
    {
     "data": {
      "text/html": [
       "<div>\n",
       "<style scoped>\n",
       "    .dataframe tbody tr th:only-of-type {\n",
       "        vertical-align: middle;\n",
       "    }\n",
       "\n",
       "    .dataframe tbody tr th {\n",
       "        vertical-align: top;\n",
       "    }\n",
       "\n",
       "    .dataframe thead th {\n",
       "        text-align: right;\n",
       "    }\n",
       "</style>\n",
       "<table border=\"1\" class=\"dataframe\">\n",
       "  <thead>\n",
       "    <tr style=\"text-align: right;\">\n",
       "      <th></th>\n",
       "      <th>RECORD_TIME</th>\n",
       "    </tr>\n",
       "  </thead>\n",
       "  <tbody>\n",
       "    <tr>\n",
       "      <th>0</th>\n",
       "      <td>2021-09-29 00:30</td>\n",
       "    </tr>\n",
       "    <tr>\n",
       "      <th>1</th>\n",
       "      <td>2021-09-29 00:00</td>\n",
       "    </tr>\n",
       "  </tbody>\n",
       "</table>\n",
       "</div>"
      ],
      "text/plain": [
       "        RECORD_TIME\n",
       "0  2021-09-29 00:30\n",
       "1  2021-09-29 00:00"
      ]
     },
     "execution_count": 3,
     "metadata": {},
     "output_type": "execute_result"
    }
   ],
   "source": [
    "timestamps"
   ]
  },
  {
   "cell_type": "code",
   "execution_count": 4,
   "id": "alternate-victory",
   "metadata": {
    "execution": {
     "iopub.execute_input": "2021-09-28T22:30:09.049106Z",
     "iopub.status.busy": "2021-09-28T22:30:09.047107Z",
     "iopub.status.idle": "2021-09-28T22:30:09.644249Z",
     "shell.execute_reply": "2021-09-28T22:30:09.645483Z"
    },
    "papermill": {
     "duration": 0.627819,
     "end_time": "2021-09-28T22:30:09.645876",
     "exception": false,
     "start_time": "2021-09-28T22:30:09.018057",
     "status": "completed"
    },
    "tags": []
   },
   "outputs": [],
   "source": [
    "df = pd.read_sql(\"select * from EBAY_TOP_BERLIN where record_time in (select distinct record_time from EBAY_TOP_BERLIN order by record_time desc limit 2)\", sqlite3.connect(\"UsedObjects.db\"))"
   ]
  },
  {
   "cell_type": "code",
   "execution_count": 5,
   "id": "popular-active",
   "metadata": {
    "execution": {
     "iopub.execute_input": "2021-09-28T22:30:09.746537Z",
     "iopub.status.busy": "2021-09-28T22:30:09.733470Z",
     "iopub.status.idle": "2021-09-28T22:30:09.763001Z",
     "shell.execute_reply": "2021-09-28T22:30:09.764373Z"
    },
    "papermill": {
     "duration": 0.07755,
     "end_time": "2021-09-28T22:30:09.764808",
     "exception": false,
     "start_time": "2021-09-28T22:30:09.687258",
     "status": "completed"
    },
    "tags": []
   },
   "outputs": [],
   "source": [
    "df_pivot = df.pivot_table(index=\"PRODUCT\", columns = \"RECORD_TIME\", values = \"LISTING_COUNT\")"
   ]
  },
  {
   "cell_type": "code",
   "execution_count": 6,
   "id": "union-huntington",
   "metadata": {
    "execution": {
     "iopub.execute_input": "2021-09-28T22:30:09.824417Z",
     "iopub.status.busy": "2021-09-28T22:30:09.821928Z",
     "iopub.status.idle": "2021-09-28T22:30:09.827898Z",
     "shell.execute_reply": "2021-09-28T22:30:09.829275Z"
    },
    "papermill": {
     "duration": 0.042582,
     "end_time": "2021-09-28T22:30:09.829717",
     "exception": false,
     "start_time": "2021-09-28T22:30:09.787135",
     "status": "completed"
    },
    "tags": []
   },
   "outputs": [],
   "source": [
    "df_pivot.columns = [\"stamp_1\", \"stamp_2\"]\n",
    "df_pivot_diff = df_pivot.diff(axis=1)"
   ]
  },
  {
   "cell_type": "code",
   "execution_count": 7,
   "id": "fifth-motion",
   "metadata": {
    "execution": {
     "iopub.execute_input": "2021-09-28T22:30:09.884850Z",
     "iopub.status.busy": "2021-09-28T22:30:09.882343Z",
     "iopub.status.idle": "2021-09-28T22:30:11.399359Z",
     "shell.execute_reply": "2021-09-28T22:30:11.400654Z"
    },
    "papermill": {
     "duration": 1.549991,
     "end_time": "2021-09-28T22:30:11.401069",
     "exception": false,
     "start_time": "2021-09-28T22:30:09.851078",
     "status": "completed"
    },
    "tags": []
   },
   "outputs": [
    {
     "data": {
      "text/plain": [
       "<AxesSubplot:ylabel='PRODUCT'>"
      ]
     },
     "execution_count": 7,
     "metadata": {},
     "output_type": "execute_result"
    },
    {
     "data": {
      "image/png": "[encoded data removed]",
      "text/plain": [
       "<Figure size 432x288 with 1 Axes>"
      ]
     },
     "metadata": {
      "needs_background": "light"
     },
     "output_type": "display_data"
    }
   ],
   "source": [
    "df_pivot_diff.sort_values(\"stamp_2\", ascending = False)[\"stamp_2\"].head(10).plot.barh()"
   ]
  },
  {
   "cell_type": "code",
   "execution_count": null,
   "id": "extra-executive",
   "metadata": {
    "papermill": {
     "duration": 0.022206,
     "end_time": "2021-09-28T22:30:11.446526",
     "exception": false,
     "start_time": "2021-09-28T22:30:11.424320",
     "status": "completed"
    },
    "tags": []
   },
   "outputs": [],
   "source": []
  }
 ],
 "metadata": {
  "kernelspec": {
   "display_name": "Python 3",
   "language": "python",
   "name": "python3"
  },
  "language_info": {
   "codemirror_mode": {
    "name": "ipython",
    "version": 3
   },
   "file_extension": ".py",
   "mimetype": "text/x-python",
   "name": "python",
   "nbconvert_exporter": "python",
   "pygments_lexer": "ipython3",
   "version": "3.9.5"
  },
  "papermill": {
   "default_parameters": {},
   "duration": 7.838881,
   "end_time": "2021-09-28T22:30:13.016668",
   "environment_variables": {},
   "exception": null,
   "input_path": "eBay_Overview.ipynb",
   "output_path": "eBay_Overview.ipynb",
   "parameters": {},
   "start_time": "2021-09-28T22:30:05.177787",
   "version": "2.3.3"
  }
 },
 "nbformat": 4,
 "nbformat_minor": 5
}