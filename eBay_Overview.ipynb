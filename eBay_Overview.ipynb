{
 "cells": [
  {
   "cell_type": "code",
   "execution_count": 1,
   "id": "reverse-picking",
   "metadata": {
    "execution": {
     "iopub.execute_input": "2021-10-14T13:30:07.607162Z",
     "iopub.status.busy": "2021-10-14T13:30:07.605233Z",
     "iopub.status.idle": "2021-10-14T13:30:08.411453Z",
     "shell.execute_reply": "2021-10-14T13:30:08.409896Z"
    },
    "papermill": {
     "duration": 0.858795,
     "end_time": "2021-10-14T13:30:08.411850",
     "exception": false,
     "start_time": "2021-10-14T13:30:07.553055",
     "status": "completed"
    },
    "tags": []
   },
   "outputs": [],
   "source": [
    "import pandas as pd\n",
    "import sqlite3"
   ]
  },
  {
   "cell_type": "code",
   "execution_count": 2,
   "id": "innovative-syndrome",
   "metadata": {
    "execution": {
     "iopub.execute_input": "2021-10-14T13:30:08.462425Z",
     "iopub.status.busy": "2021-10-14T13:30:08.460447Z",
     "iopub.status.idle": "2021-10-14T13:30:08.994703Z",
     "shell.execute_reply": "2021-10-14T13:30:08.995974Z"
    },
    "papermill": {
     "duration": 0.563663,
     "end_time": "2021-10-14T13:30:08.996391",
     "exception": false,
     "start_time": "2021-10-14T13:30:08.432728",
     "status": "completed"
    },
    "tags": []
   },
   "outputs": [],
   "source": [
    "timestamps = pd.read_sql(\"select distinct record_time from EBAY_TOP_BERLIN order by record_time desc limit 2\", sqlite3.connect(\"UsedObjects.db\"))"
   ]
  },
  {
   "cell_type": "code",
   "execution_count": 3,
   "id": "periodic-identification",
   "metadata": {
    "execution": {
     "iopub.execute_input": "2021-10-14T13:30:09.068988Z",
     "iopub.status.busy": "2021-10-14T13:30:09.066858Z",
     "iopub.status.idle": "2021-10-14T13:30:09.087247Z",
     "shell.execute_reply": "2021-10-14T13:30:09.088527Z"
    },
    "papermill": {
     "duration": 0.073254,
     "end_time": "2021-10-14T13:30:09.089171",
     "exception": false,
     "start_time": "2021-10-14T13:30:09.015917",
     "status": "completed"
    },
    "tags": []
   },
   "outputs": [
    {
     "data": {
      "text/html": [
       "<div>\n",
       "<style scoped>\n",
       "    .dataframe tbody tr th:only-of-type {\n",
       "        vertical-align: middle;\n",
       "    }\n",
       "\n",
       "    .dataframe tbody tr th {\n",
       "        vertical-align: top;\n",
       "    }\n",
       "\n",
       "    .dataframe thead th {\n",
       "        text-align: right;\n",
       "    }\n",
       "</style>\n",
       "<table border=\"1\" class=\"dataframe\">\n",
       "  <thead>\n",
       "    <tr style=\"text-align: right;\">\n",
       "      <th></th>\n",
       "      <th>RECORD_TIME</th>\n",
       "    </tr>\n",
       "  </thead>\n",
       "  <tbody>\n",
       "    <tr>\n",
       "      <th>0</th>\n",
       "      <td>2021-10-14 15:30</td>\n",
       "    </tr>\n",
       "    <tr>\n",
       "      <th>1</th>\n",
       "      <td>2021-10-14 15:00</td>\n",
       "    </tr>\n",
       "  </tbody>\n",
       "</table>\n",
       "</div>"
      ],
      "text/plain": [
       "        RECORD_TIME\n",
       "0  2021-10-14 15:30\n",
       "1  2021-10-14 15:00"
      ]
     },
     "execution_count": 3,
     "metadata": {},
     "output_type": "execute_result"
    }
   ],
   "source": [
    "timestamps"
   ]
  },
  {
   "cell_type": "code",
   "execution_count": 4,
   "id": "alternate-victory",
   "metadata": {
    "execution": {
     "iopub.execute_input": "2021-10-14T13:30:09.141957Z",
     "iopub.status.busy": "2021-10-14T13:30:09.139597Z",
     "iopub.status.idle": "2021-10-14T13:30:09.958139Z",
     "shell.execute_reply": "2021-10-14T13:30:09.959355Z"
    },
    "papermill": {
     "duration": 0.848769,
     "end_time": "2021-10-14T13:30:09.959751",
     "exception": false,
     "start_time": "2021-10-14T13:30:09.110982",
     "status": "completed"
    },
    "tags": []
   },
   "outputs": [],
   "source": [
    "df = pd.read_sql(\"select * from EBAY_TOP_BERLIN where record_time in (select distinct record_time from EBAY_TOP_BERLIN order by record_time desc limit 2)\", sqlite3.connect(\"UsedObjects.db\"))"
   ]
  },
  {
   "cell_type": "code",
   "execution_count": 5,
   "id": "popular-active",
   "metadata": {
    "execution": {
     "iopub.execute_input": "2021-10-14T13:30:10.030862Z",
     "iopub.status.busy": "2021-10-14T13:30:10.017989Z",
     "iopub.status.idle": "2021-10-14T13:30:10.047647Z",
     "shell.execute_reply": "2021-10-14T13:30:10.048999Z"
    },
    "papermill": {
     "duration": 0.068678,
     "end_time": "2021-10-14T13:30:10.049429",
     "exception": false,
     "start_time": "2021-10-14T13:30:09.980751",
     "status": "completed"
    },
    "tags": []
   },
   "outputs": [],
   "source": [
    "df_pivot = df.pivot_table(index=\"PRODUCT\", columns = \"RECORD_TIME\", values = \"LISTING_COUNT\")"
   ]
  },
  {
   "cell_type": "code",
   "execution_count": 6,
   "id": "union-huntington",
   "metadata": {
    "execution": {
     "iopub.execute_input": "2021-10-14T13:30:10.106208Z",
     "iopub.status.busy": "2021-10-14T13:30:10.104058Z",
     "iopub.status.idle": "2021-10-14T13:30:10.109135Z",
     "shell.execute_reply": "2021-10-14T13:30:10.110450Z"
    },
    "papermill": {
     "duration": 0.040372,
     "end_time": "2021-10-14T13:30:10.110867",
     "exception": false,
     "start_time": "2021-10-14T13:30:10.070495",
     "status": "completed"
    },
    "tags": []
   },
   "outputs": [],
   "source": [
    "df_pivot.columns = [\"stamp_1\", \"stamp_2\"]\n",
    "df_pivot_diff = df_pivot.diff(axis=1)"
   ]
  },
  {
   "cell_type": "code",
   "execution_count": 7,
   "id": "fifth-motion",
   "metadata": {
    "execution": {
     "iopub.execute_input": "2021-10-14T13:30:10.163887Z",
     "iopub.status.busy": "2021-10-14T13:30:10.161478Z",
     "iopub.status.idle": "2021-10-14T13:30:11.650166Z",
     "shell.execute_reply": "2021-10-14T13:30:11.651455Z"
    },
    "papermill": {
     "duration": 1.521509,
     "end_time": "2021-10-14T13:30:11.651872",
     "exception": false,
     "start_time": "2021-10-14T13:30:10.130363",
     "status": "completed"
    },
    "tags": []
   },
   "outputs": [
    {
     "data": {
      "text/plain": [
       "<AxesSubplot:ylabel='PRODUCT'>"
      ]
     },
     "execution_count": 7,
     "metadata": {},
     "output_type": "execute_result"
    },
    {
     "data": {
      "image/png": "[encoded data removed]",
      "text/plain": [
       "<Figure size 432x288 with 1 Axes>"
      ]
     },
     "metadata": {
      "needs_background": "light"
     },
     "output_type": "display_data"
    }
   ],
   "source": [
    "df_pivot_diff.sort_values(\"stamp_2\", ascending = False)[\"stamp_2\"].head(10).plot.barh()"
   ]
  },
  {
   "cell_type": "code",
   "execution_count": null,
   "id": "extra-executive",
   "metadata": {
    "papermill": {
     "duration": 0.022134,
     "end_time": "2021-10-14T13:30:11.698683",
     "exception": false,
     "start_time": "2021-10-14T13:30:11.676549",
     "status": "completed"
    },
    "tags": []
   },
   "outputs": [],
   "source": []
  }
 ],
 "metadata": {
  "kernelspec": {
   "display_name": "Python 3",
   "language": "python",
   "name": "python3"
  },
  "language_info": {
   "codemirror_mode": {
    "name": "ipython",
    "version": 3
   },
   "file_extension": ".py",
   "mimetype": "text/x-python",
   "name": "python",
   "nbconvert_exporter": "python",
   "pygments_lexer": "ipython3",
   "version": "3.9.5"
  },
  "papermill": {
   "default_parameters": {},
   "duration": 7.83008,
   "end_time": "2021-10-14T13:30:12.980644",
   "environment_variables": {},
   "exception": null,
   "input_path": "eBay_Overview.ipynb",
   "output_path": "eBay_Overview.ipynb",
   "parameters": {},
   "start_time": "2021-10-14T13:30:05.150564",
   "version": "2.3.3"
  }
 },
 "nbformat": 4,
 "nbformat_minor": 5
}