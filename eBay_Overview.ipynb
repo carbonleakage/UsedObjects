{
 "cells": [
  {
   "cell_type": "code",
   "execution_count": 1,
   "id": "reverse-picking",
   "metadata": {
    "execution": {
     "iopub.execute_input": "2021-12-02T10:00:07.554010Z",
     "iopub.status.busy": "2021-12-02T10:00:07.551819Z",
     "iopub.status.idle": "2021-12-02T10:00:08.513469Z",
     "shell.execute_reply": "2021-12-02T10:00:08.515013Z"
    },
    "papermill": {
     "duration": 1.015581,
     "end_time": "2021-12-02T10:00:08.515754",
     "exception": false,
     "start_time": "2021-12-02T10:00:07.500173",
     "status": "completed"
    },
    "tags": []
   },
   "outputs": [],
   "source": [
    "import pandas as pd\n",
    "import sqlite3"
   ]
  },
  {
   "cell_type": "code",
   "execution_count": 2,
   "id": "innovative-syndrome",
   "metadata": {
    "execution": {
     "iopub.execute_input": "2021-12-02T10:00:08.579630Z",
     "iopub.status.busy": "2021-12-02T10:00:08.577440Z",
     "iopub.status.idle": "2021-12-02T10:00:09.557396Z",
     "shell.execute_reply": "2021-12-02T10:00:09.558963Z"
    },
    "papermill": {
     "duration": 1.015751,
     "end_time": "2021-12-02T10:00:09.559468",
     "exception": false,
     "start_time": "2021-12-02T10:00:08.543717",
     "status": "completed"
    },
    "tags": []
   },
   "outputs": [],
   "source": [
    "timestamps = pd.read_sql(\"select distinct record_time from EBAY_TOP_BERLIN order by record_time desc limit 2\", sqlite3.connect(\"UsedObjects.db\"))"
   ]
  },
  {
   "cell_type": "code",
   "execution_count": 3,
   "id": "periodic-identification",
   "metadata": {
    "execution": {
     "iopub.execute_input": "2021-12-02T10:00:09.628859Z",
     "iopub.status.busy": "2021-12-02T10:00:09.626774Z",
     "iopub.status.idle": "2021-12-02T10:00:09.646781Z",
     "shell.execute_reply": "2021-12-02T10:00:09.648003Z"
    },
    "papermill": {
     "duration": 0.067218,
     "end_time": "2021-12-02T10:00:09.648403",
     "exception": false,
     "start_time": "2021-12-02T10:00:09.581185",
     "status": "completed"
    },
    "tags": []
   },
   "outputs": [
    {
     "data": {
      "text/html": [
       "<div>\n",
       "<style scoped>\n",
       "    .dataframe tbody tr th:only-of-type {\n",
       "        vertical-align: middle;\n",
       "    }\n",
       "\n",
       "    .dataframe tbody tr th {\n",
       "        vertical-align: top;\n",
       "    }\n",
       "\n",
       "    .dataframe thead th {\n",
       "        text-align: right;\n",
       "    }\n",
       "</style>\n",
       "<table border=\"1\" class=\"dataframe\">\n",
       "  <thead>\n",
       "    <tr style=\"text-align: right;\">\n",
       "      <th></th>\n",
       "      <th>RECORD_TIME</th>\n",
       "    </tr>\n",
       "  </thead>\n",
       "  <tbody>\n",
       "    <tr>\n",
       "      <th>0</th>\n",
       "      <td>2021-12-02 11:00</td>\n",
       "    </tr>\n",
       "    <tr>\n",
       "      <th>1</th>\n",
       "      <td>2021-12-02 10:30</td>\n",
       "    </tr>\n",
       "  </tbody>\n",
       "</table>\n",
       "</div>"
      ],
      "text/plain": [
       "        RECORD_TIME\n",
       "0  2021-12-02 11:00\n",
       "1  2021-12-02 10:30"
      ]
     },
     "execution_count": 3,
     "metadata": {},
     "output_type": "execute_result"
    }
   ],
   "source": [
    "timestamps"
   ]
  },
  {
   "cell_type": "code",
   "execution_count": 4,
   "id": "alternate-victory",
   "metadata": {
    "execution": {
     "iopub.execute_input": "2021-12-02T10:00:09.701867Z",
     "iopub.status.busy": "2021-12-02T10:00:09.699217Z",
     "iopub.status.idle": "2021-12-02T10:00:11.125871Z",
     "shell.execute_reply": "2021-12-02T10:00:11.127933Z"
    },
    "papermill": {
     "duration": 1.458109,
     "end_time": "2021-12-02T10:00:11.128494",
     "exception": false,
     "start_time": "2021-12-02T10:00:09.670385",
     "status": "completed"
    },
    "tags": []
   },
   "outputs": [],
   "source": [
    "df = pd.read_sql(\"select * from EBAY_TOP_BERLIN where record_time in (select distinct record_time from EBAY_TOP_BERLIN order by record_time desc limit 2)\", sqlite3.connect(\"UsedObjects.db\"))"
   ]
  },
  {
   "cell_type": "code",
   "execution_count": 5,
   "id": "popular-active",
   "metadata": {
    "execution": {
     "iopub.execute_input": "2021-12-02T10:00:11.196897Z",
     "iopub.status.busy": "2021-12-02T10:00:11.194240Z",
     "iopub.status.idle": "2021-12-02T10:00:11.233966Z",
     "shell.execute_reply": "2021-12-02T10:00:11.235642Z"
    },
    "papermill": {
     "duration": 0.084211,
     "end_time": "2021-12-02T10:00:11.236149",
     "exception": false,
     "start_time": "2021-12-02T10:00:11.151938",
     "status": "completed"
    },
    "tags": []
   },
   "outputs": [],
   "source": [
    "df_pivot = df.pivot_table(index=\"PRODUCT\", columns = \"RECORD_TIME\", values = \"LISTING_COUNT\")"
   ]
  },
  {
   "cell_type": "code",
   "execution_count": 6,
   "id": "union-huntington",
   "metadata": {
    "execution": {
     "iopub.execute_input": "2021-12-02T10:00:11.299576Z",
     "iopub.status.busy": "2021-12-02T10:00:11.297360Z",
     "iopub.status.idle": "2021-12-02T10:00:11.302325Z",
     "shell.execute_reply": "2021-12-02T10:00:11.303792Z"
    },
    "papermill": {
     "duration": 0.044426,
     "end_time": "2021-12-02T10:00:11.304253",
     "exception": false,
     "start_time": "2021-12-02T10:00:11.259827",
     "status": "completed"
    },
    "tags": []
   },
   "outputs": [],
   "source": [
    "df_pivot.columns = [\"stamp_1\", \"stamp_2\"]\n",
    "df_pivot_diff = df_pivot.diff(axis=1)"
   ]
  },
  {
   "cell_type": "code",
   "execution_count": 7,
   "id": "fifth-motion",
   "metadata": {
    "execution": {
     "iopub.execute_input": "2021-12-02T10:00:11.360413Z",
     "iopub.status.busy": "2021-12-02T10:00:11.357947Z",
     "iopub.status.idle": "2021-12-02T10:00:13.335393Z",
     "shell.execute_reply": "2021-12-02T10:00:13.337703Z"
    },
    "papermill": {
     "duration": 2.014031,
     "end_time": "2021-12-02T10:00:13.338345",
     "exception": false,
     "start_time": "2021-12-02T10:00:11.324314",
     "status": "completed"
    },
    "tags": []
   },
   "outputs": [
    {
     "data": {
      "text/plain": [
       "<AxesSubplot:ylabel='PRODUCT'>"
      ]
     },
     "execution_count": 7,
     "metadata": {},
     "output_type": "execute_result"
    },
    {
     "data": {
      "image/png": "[encoded data removed]",
      "text/plain": [
       "<Figure size 432x288 with 1 Axes>"
      ]
     },
     "metadata": {
      "needs_background": "light"
     },
     "output_type": "display_data"
    }
   ],
   "source": [
    "df_pivot_diff.sort_values(\"stamp_2\", ascending = False)[\"stamp_2\"].head(10).plot.barh()"
   ]
  },
  {
   "cell_type": "code",
   "execution_count": null,
   "id": "extra-executive",
   "metadata": {
    "papermill": {
     "duration": 0.027702,
     "end_time": "2021-12-02T10:00:13.394779",
     "exception": false,
     "start_time": "2021-12-02T10:00:13.367077",
     "status": "completed"
    },
    "tags": []
   },
   "outputs": [],
   "source": []
  }
 ],
 "metadata": {
  "kernelspec": {
   "display_name": "Python 3",
   "language": "python",
   "name": "python3"
  },
  "language_info": {
   "codemirror_mode": {
    "name": "ipython",
    "version": 3
   },
   "file_extension": ".py",
   "mimetype": "text/x-python",
   "name": "python",
   "nbconvert_exporter": "python",
   "pygments_lexer": "ipython3",
   "version": "3.9.5"
  },
  "papermill": {
   "default_parameters": {},
   "duration": 9.937726,
   "end_time": "2021-12-02T10:00:14.708156",
   "environment_variables": {},
   "exception": null,
   "input_path": "eBay_Overview.ipynb",
   "output_path": "eBay_Overview.ipynb",
   "parameters": {},
   "start_time": "2021-12-02T10:00:04.770430",
   "version": "2.3.3"
  }
 },
 "nbformat": 4,
 "nbformat_minor": 5
}