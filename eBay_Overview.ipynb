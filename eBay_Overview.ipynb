{
 "cells": [
  {
   "cell_type": "code",
   "execution_count": 1,
   "id": "reverse-picking",
   "metadata": {
    "execution": {
     "iopub.execute_input": "2021-10-19T06:00:06.710680Z",
     "iopub.status.busy": "2021-10-19T06:00:06.708663Z",
     "iopub.status.idle": "2021-10-19T06:00:07.516516Z",
     "shell.execute_reply": "2021-10-19T06:00:07.517898Z"
    },
    "papermill": {
     "duration": 0.859161,
     "end_time": "2021-10-19T06:00:07.518518",
     "exception": false,
     "start_time": "2021-10-19T06:00:06.659357",
     "status": "completed"
    },
    "tags": []
   },
   "outputs": [],
   "source": [
    "import pandas as pd\n",
    "import sqlite3"
   ]
  },
  {
   "cell_type": "code",
   "execution_count": 2,
   "id": "innovative-syndrome",
   "metadata": {
    "execution": {
     "iopub.execute_input": "2021-10-19T06:00:07.571135Z",
     "iopub.status.busy": "2021-10-19T06:00:07.568989Z",
     "iopub.status.idle": "2021-10-19T06:00:08.146909Z",
     "shell.execute_reply": "2021-10-19T06:00:08.148179Z"
    },
    "papermill": {
     "duration": 0.607618,
     "end_time": "2021-10-19T06:00:08.148594",
     "exception": false,
     "start_time": "2021-10-19T06:00:07.540976",
     "status": "completed"
    },
    "tags": []
   },
   "outputs": [],
   "source": [
    "timestamps = pd.read_sql(\"select distinct record_time from EBAY_TOP_BERLIN order by record_time desc limit 2\", sqlite3.connect(\"UsedObjects.db\"))"
   ]
  },
  {
   "cell_type": "code",
   "execution_count": 3,
   "id": "periodic-identification",
   "metadata": {
    "execution": {
     "iopub.execute_input": "2021-10-19T06:00:08.221518Z",
     "iopub.status.busy": "2021-10-19T06:00:08.216346Z",
     "iopub.status.idle": "2021-10-19T06:00:08.236739Z",
     "shell.execute_reply": "2021-10-19T06:00:08.238162Z"
    },
    "papermill": {
     "duration": 0.067612,
     "end_time": "2021-10-19T06:00:08.238598",
     "exception": false,
     "start_time": "2021-10-19T06:00:08.170986",
     "status": "completed"
    },
    "tags": []
   },
   "outputs": [
    {
     "data": {
      "text/html": [
       "<div>\n",
       "<style scoped>\n",
       "    .dataframe tbody tr th:only-of-type {\n",
       "        vertical-align: middle;\n",
       "    }\n",
       "\n",
       "    .dataframe tbody tr th {\n",
       "        vertical-align: top;\n",
       "    }\n",
       "\n",
       "    .dataframe thead th {\n",
       "        text-align: right;\n",
       "    }\n",
       "</style>\n",
       "<table border=\"1\" class=\"dataframe\">\n",
       "  <thead>\n",
       "    <tr style=\"text-align: right;\">\n",
       "      <th></th>\n",
       "      <th>RECORD_TIME</th>\n",
       "    </tr>\n",
       "  </thead>\n",
       "  <tbody>\n",
       "    <tr>\n",
       "      <th>0</th>\n",
       "      <td>2021-10-19 08:00</td>\n",
       "    </tr>\n",
       "    <tr>\n",
       "      <th>1</th>\n",
       "      <td>2021-10-19 07:30</td>\n",
       "    </tr>\n",
       "  </tbody>\n",
       "</table>\n",
       "</div>"
      ],
      "text/plain": [
       "        RECORD_TIME\n",
       "0  2021-10-19 08:00\n",
       "1  2021-10-19 07:30"
      ]
     },
     "execution_count": 3,
     "metadata": {},
     "output_type": "execute_result"
    }
   ],
   "source": [
    "timestamps"
   ]
  },
  {
   "cell_type": "code",
   "execution_count": 4,
   "id": "alternate-victory",
   "metadata": {
    "execution": {
     "iopub.execute_input": "2021-10-19T06:00:08.289620Z",
     "iopub.status.busy": "2021-10-19T06:00:08.287710Z",
     "iopub.status.idle": "2021-10-19T06:00:09.144121Z",
     "shell.execute_reply": "2021-10-19T06:00:09.145477Z"
    },
    "papermill": {
     "duration": 0.886266,
     "end_time": "2021-10-19T06:00:09.145896",
     "exception": false,
     "start_time": "2021-10-19T06:00:08.259630",
     "status": "completed"
    },
    "tags": []
   },
   "outputs": [],
   "source": [
    "df = pd.read_sql(\"select * from EBAY_TOP_BERLIN where record_time in (select distinct record_time from EBAY_TOP_BERLIN order by record_time desc limit 2)\", sqlite3.connect(\"UsedObjects.db\"))"
   ]
  },
  {
   "cell_type": "code",
   "execution_count": 5,
   "id": "popular-active",
   "metadata": {
    "execution": {
     "iopub.execute_input": "2021-10-19T06:00:09.215602Z",
     "iopub.status.busy": "2021-10-19T06:00:09.203691Z",
     "iopub.status.idle": "2021-10-19T06:00:09.233608Z",
     "shell.execute_reply": "2021-10-19T06:00:09.235057Z"
    },
    "papermill": {
     "duration": 0.068123,
     "end_time": "2021-10-19T06:00:09.235494",
     "exception": false,
     "start_time": "2021-10-19T06:00:09.167371",
     "status": "completed"
    },
    "tags": []
   },
   "outputs": [],
   "source": [
    "df_pivot = df.pivot_table(index=\"PRODUCT\", columns = \"RECORD_TIME\", values = \"LISTING_COUNT\")"
   ]
  },
  {
   "cell_type": "code",
   "execution_count": 6,
   "id": "union-huntington",
   "metadata": {
    "execution": {
     "iopub.execute_input": "2021-10-19T06:00:09.292932Z",
     "iopub.status.busy": "2021-10-19T06:00:09.290454Z",
     "iopub.status.idle": "2021-10-19T06:00:09.296429Z",
     "shell.execute_reply": "2021-10-19T06:00:09.297867Z"
    },
    "papermill": {
     "duration": 0.04247,
     "end_time": "2021-10-19T06:00:09.298304",
     "exception": false,
     "start_time": "2021-10-19T06:00:09.255834",
     "status": "completed"
    },
    "tags": []
   },
   "outputs": [],
   "source": [
    "df_pivot.columns = [\"stamp_1\", \"stamp_2\"]\n",
    "df_pivot_diff = df_pivot.diff(axis=1)"
   ]
  },
  {
   "cell_type": "code",
   "execution_count": 7,
   "id": "fifth-motion",
   "metadata": {
    "execution": {
     "iopub.execute_input": "2021-10-19T06:00:09.352475Z",
     "iopub.status.busy": "2021-10-19T06:00:09.350176Z",
     "iopub.status.idle": "2021-10-19T06:00:10.825241Z",
     "shell.execute_reply": "2021-10-19T06:00:10.826633Z"
    },
    "papermill": {
     "duration": 1.507566,
     "end_time": "2021-10-19T06:00:10.827076",
     "exception": false,
     "start_time": "2021-10-19T06:00:09.319510",
     "status": "completed"
    },
    "tags": []
   },
   "outputs": [
    {
     "data": {
      "text/plain": [
       "<AxesSubplot:ylabel='PRODUCT'>"
      ]
     },
     "execution_count": 7,
     "metadata": {},
     "output_type": "execute_result"
    },
    {
     "data": {
      "image/png": "[encoded data removed]",
      "text/plain": [
       "<Figure size 432x288 with 1 Axes>"
      ]
     },
     "metadata": {
      "needs_background": "light"
     },
     "output_type": "display_data"
    }
   ],
   "source": [
    "df_pivot_diff.sort_values(\"stamp_2\", ascending = False)[\"stamp_2\"].head(10).plot.barh()"
   ]
  },
  {
   "cell_type": "code",
   "execution_count": null,
   "id": "extra-executive",
   "metadata": {
    "papermill": {
     "duration": 0.022044,
     "end_time": "2021-10-19T06:00:10.872970",
     "exception": false,
     "start_time": "2021-10-19T06:00:10.850926",
     "status": "completed"
    },
    "tags": []
   },
   "outputs": [],
   "source": []
  }
 ],
 "metadata": {
  "kernelspec": {
   "display_name": "Python 3",
   "language": "python",
   "name": "python3"
  },
  "language_info": {
   "codemirror_mode": {
    "name": "ipython",
    "version": 3
   },
   "file_extension": ".py",
   "mimetype": "text/x-python",
   "name": "python",
   "nbconvert_exporter": "python",
   "pygments_lexer": "ipython3",
   "version": "3.9.5"
  },
  "papermill": {
   "default_parameters": {},
   "duration": 7.824494,
   "end_time": "2021-10-19T06:00:12.071343",
   "environment_variables": {},
   "exception": null,
   "input_path": "eBay_Overview.ipynb",
   "output_path": "eBay_Overview.ipynb",
   "parameters": {},
   "start_time": "2021-10-19T06:00:04.246849",
   "version": "2.3.3"
  }
 },
 "nbformat": 4,
 "nbformat_minor": 5
}