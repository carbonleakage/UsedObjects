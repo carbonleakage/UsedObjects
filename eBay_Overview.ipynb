{
 "cells": [
  {
   "cell_type": "code",
   "execution_count": 1,
   "id": "reverse-picking",
   "metadata": {
    "execution": {
     "iopub.execute_input": "2021-11-25T22:30:08.185015Z",
     "iopub.status.busy": "2021-11-25T22:30:08.182556Z",
     "iopub.status.idle": "2021-11-25T22:30:09.136789Z",
     "shell.execute_reply": "2021-11-25T22:30:09.138398Z"
    },
    "papermill": {
     "duration": 1.003555,
     "end_time": "2021-11-25T22:30:09.139166",
     "exception": false,
     "start_time": "2021-11-25T22:30:08.135611",
     "status": "completed"
    },
    "tags": []
   },
   "outputs": [],
   "source": [
    "import pandas as pd\n",
    "import sqlite3"
   ]
  },
  {
   "cell_type": "code",
   "execution_count": 2,
   "id": "innovative-syndrome",
   "metadata": {
    "execution": {
     "iopub.execute_input": "2021-11-25T22:30:09.263865Z",
     "iopub.status.busy": "2021-11-25T22:30:09.259608Z",
     "iopub.status.idle": "2021-11-25T22:30:10.181748Z",
     "shell.execute_reply": "2021-11-25T22:30:10.183053Z"
    },
    "papermill": {
     "duration": 0.958249,
     "end_time": "2021-11-25T22:30:10.183453",
     "exception": false,
     "start_time": "2021-11-25T22:30:09.225204",
     "status": "completed"
    },
    "tags": []
   },
   "outputs": [],
   "source": [
    "timestamps = pd.read_sql(\"select distinct record_time from EBAY_TOP_BERLIN order by record_time desc limit 2\", sqlite3.connect(\"UsedObjects.db\"))"
   ]
  },
  {
   "cell_type": "code",
   "execution_count": 3,
   "id": "periodic-identification",
   "metadata": {
    "execution": {
     "iopub.execute_input": "2021-11-25T22:30:10.247915Z",
     "iopub.status.busy": "2021-11-25T22:30:10.245683Z",
     "iopub.status.idle": "2021-11-25T22:30:10.266030Z",
     "shell.execute_reply": "2021-11-25T22:30:10.267303Z"
    },
    "papermill": {
     "duration": 0.065304,
     "end_time": "2021-11-25T22:30:10.267703",
     "exception": false,
     "start_time": "2021-11-25T22:30:10.202399",
     "status": "completed"
    },
    "tags": []
   },
   "outputs": [
    {
     "data": {
      "text/html": [
       "<div>\n",
       "<style scoped>\n",
       "    .dataframe tbody tr th:only-of-type {\n",
       "        vertical-align: middle;\n",
       "    }\n",
       "\n",
       "    .dataframe tbody tr th {\n",
       "        vertical-align: top;\n",
       "    }\n",
       "\n",
       "    .dataframe thead th {\n",
       "        text-align: right;\n",
       "    }\n",
       "</style>\n",
       "<table border=\"1\" class=\"dataframe\">\n",
       "  <thead>\n",
       "    <tr style=\"text-align: right;\">\n",
       "      <th></th>\n",
       "      <th>RECORD_TIME</th>\n",
       "    </tr>\n",
       "  </thead>\n",
       "  <tbody>\n",
       "    <tr>\n",
       "      <th>0</th>\n",
       "      <td>2021-11-25 23:30</td>\n",
       "    </tr>\n",
       "    <tr>\n",
       "      <th>1</th>\n",
       "      <td>2021-11-25 23:00</td>\n",
       "    </tr>\n",
       "  </tbody>\n",
       "</table>\n",
       "</div>"
      ],
      "text/plain": [
       "        RECORD_TIME\n",
       "0  2021-11-25 23:30\n",
       "1  2021-11-25 23:00"
      ]
     },
     "execution_count": 3,
     "metadata": {},
     "output_type": "execute_result"
    }
   ],
   "source": [
    "timestamps"
   ]
  },
  {
   "cell_type": "code",
   "execution_count": 4,
   "id": "alternate-victory",
   "metadata": {
    "execution": {
     "iopub.execute_input": "2021-11-25T22:30:10.320228Z",
     "iopub.status.busy": "2021-11-25T22:30:10.317900Z",
     "iopub.status.idle": "2021-11-25T22:30:11.665560Z",
     "shell.execute_reply": "2021-11-25T22:30:11.666972Z"
    },
    "papermill": {
     "duration": 1.378095,
     "end_time": "2021-11-25T22:30:11.667446",
     "exception": false,
     "start_time": "2021-11-25T22:30:10.289351",
     "status": "completed"
    },
    "tags": []
   },
   "outputs": [],
   "source": [
    "df = pd.read_sql(\"select * from EBAY_TOP_BERLIN where record_time in (select distinct record_time from EBAY_TOP_BERLIN order by record_time desc limit 2)\", sqlite3.connect(\"UsedObjects.db\"))"
   ]
  },
  {
   "cell_type": "code",
   "execution_count": 5,
   "id": "popular-active",
   "metadata": {
    "execution": {
     "iopub.execute_input": "2021-11-25T22:30:11.740029Z",
     "iopub.status.busy": "2021-11-25T22:30:11.732139Z",
     "iopub.status.idle": "2021-11-25T22:30:11.765479Z",
     "shell.execute_reply": "2021-11-25T22:30:11.767189Z"
    },
    "papermill": {
     "duration": 0.079994,
     "end_time": "2021-11-25T22:30:11.767741",
     "exception": false,
     "start_time": "2021-11-25T22:30:11.687747",
     "status": "completed"
    },
    "tags": []
   },
   "outputs": [],
   "source": [
    "df_pivot = df.pivot_table(index=\"PRODUCT\", columns = \"RECORD_TIME\", values = \"LISTING_COUNT\")"
   ]
  },
  {
   "cell_type": "code",
   "execution_count": 6,
   "id": "union-huntington",
   "metadata": {
    "execution": {
     "iopub.execute_input": "2021-11-25T22:30:11.835676Z",
     "iopub.status.busy": "2021-11-25T22:30:11.833416Z",
     "iopub.status.idle": "2021-11-25T22:30:11.838346Z",
     "shell.execute_reply": "2021-11-25T22:30:11.840592Z"
    },
    "papermill": {
     "duration": 0.048844,
     "end_time": "2021-11-25T22:30:11.841190",
     "exception": false,
     "start_time": "2021-11-25T22:30:11.792346",
     "status": "completed"
    },
    "tags": []
   },
   "outputs": [],
   "source": [
    "df_pivot.columns = [\"stamp_1\", \"stamp_2\"]\n",
    "df_pivot_diff = df_pivot.diff(axis=1)"
   ]
  },
  {
   "cell_type": "code",
   "execution_count": 7,
   "id": "fifth-motion",
   "metadata": {
    "execution": {
     "iopub.execute_input": "2021-11-25T22:30:11.897016Z",
     "iopub.status.busy": "2021-11-25T22:30:11.894734Z",
     "iopub.status.idle": "2021-11-25T22:30:13.931314Z",
     "shell.execute_reply": "2021-11-25T22:30:13.933280Z"
    },
    "papermill": {
     "duration": 2.071873,
     "end_time": "2021-11-25T22:30:13.933883",
     "exception": false,
     "start_time": "2021-11-25T22:30:11.862010",
     "status": "completed"
    },
    "tags": []
   },
   "outputs": [
    {
     "data": {
      "text/plain": [
       "<AxesSubplot:ylabel='PRODUCT'>"
      ]
     },
     "execution_count": 7,
     "metadata": {},
     "output_type": "execute_result"
    },
    {
     "data": {
      "image/png": "[encoded data removed]",
      "text/plain": [
       "<Figure size 432x288 with 1 Axes>"
      ]
     },
     "metadata": {
      "needs_background": "light"
     },
     "output_type": "display_data"
    }
   ],
   "source": [
    "df_pivot_diff.sort_values(\"stamp_2\", ascending = False)[\"stamp_2\"].head(10).plot.barh()"
   ]
  },
  {
   "cell_type": "code",
   "execution_count": null,
   "id": "extra-executive",
   "metadata": {
    "papermill": {
     "duration": 0.027457,
     "end_time": "2021-11-25T22:30:13.989416",
     "exception": false,
     "start_time": "2021-11-25T22:30:13.961959",
     "status": "completed"
    },
    "tags": []
   },
   "outputs": [],
   "source": []
  }
 ],
 "metadata": {
  "kernelspec": {
   "display_name": "Python 3",
   "language": "python",
   "name": "python3"
  },
  "language_info": {
   "codemirror_mode": {
    "name": "ipython",
    "version": 3
   },
   "file_extension": ".py",
   "mimetype": "text/x-python",
   "name": "python",
   "nbconvert_exporter": "python",
   "pygments_lexer": "ipython3",
   "version": "3.9.5"
  },
  "papermill": {
   "default_parameters": {},
   "duration": 9.934233,
   "end_time": "2021-11-25T22:30:15.340258",
   "environment_variables": {},
   "exception": null,
   "input_path": "eBay_Overview.ipynb",
   "output_path": "eBay_Overview.ipynb",
   "parameters": {},
   "start_time": "2021-11-25T22:30:05.406025",
   "version": "2.3.3"
  }
 },
 "nbformat": 4,
 "nbformat_minor": 5
}