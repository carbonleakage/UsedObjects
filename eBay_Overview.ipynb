{
 "cells": [
  {
   "cell_type": "code",
   "execution_count": 1,
   "id": "reverse-picking",
   "metadata": {
    "execution": {
     "iopub.execute_input": "2021-11-05T14:00:08.000412Z",
     "iopub.status.busy": "2021-11-05T14:00:07.976055Z",
     "iopub.status.idle": "2021-11-05T14:00:08.961959Z",
     "shell.execute_reply": "2021-11-05T14:00:08.959309Z"
    },
    "papermill": {
     "duration": 1.018464,
     "end_time": "2021-11-05T14:00:08.962533",
     "exception": false,
     "start_time": "2021-11-05T14:00:07.944069",
     "status": "completed"
    },
    "tags": []
   },
   "outputs": [],
   "source": [
    "import pandas as pd\n",
    "import sqlite3"
   ]
  },
  {
   "cell_type": "code",
   "execution_count": 2,
   "id": "innovative-syndrome",
   "metadata": {
    "execution": {
     "iopub.execute_input": "2021-11-05T14:00:09.024446Z",
     "iopub.status.busy": "2021-11-05T14:00:09.022565Z",
     "iopub.status.idle": "2021-11-05T14:00:09.751760Z",
     "shell.execute_reply": "2021-11-05T14:00:09.754075Z"
    },
    "papermill": {
     "duration": 0.763208,
     "end_time": "2021-11-05T14:00:09.754573",
     "exception": false,
     "start_time": "2021-11-05T14:00:08.991365",
     "status": "completed"
    },
    "tags": []
   },
   "outputs": [],
   "source": [
    "timestamps = pd.read_sql(\"select distinct record_time from EBAY_TOP_BERLIN order by record_time desc limit 2\", sqlite3.connect(\"UsedObjects.db\"))"
   ]
  },
  {
   "cell_type": "code",
   "execution_count": 3,
   "id": "periodic-identification",
   "metadata": {
    "execution": {
     "iopub.execute_input": "2021-11-05T14:00:09.828356Z",
     "iopub.status.busy": "2021-11-05T14:00:09.825942Z",
     "iopub.status.idle": "2021-11-05T14:00:09.850447Z",
     "shell.execute_reply": "2021-11-05T14:00:09.852020Z"
    },
    "papermill": {
     "duration": 0.075693,
     "end_time": "2021-11-05T14:00:09.852937",
     "exception": false,
     "start_time": "2021-11-05T14:00:09.777244",
     "status": "completed"
    },
    "tags": []
   },
   "outputs": [
    {
     "data": {
      "text/html": [
       "<div>\n",
       "<style scoped>\n",
       "    .dataframe tbody tr th:only-of-type {\n",
       "        vertical-align: middle;\n",
       "    }\n",
       "\n",
       "    .dataframe tbody tr th {\n",
       "        vertical-align: top;\n",
       "    }\n",
       "\n",
       "    .dataframe thead th {\n",
       "        text-align: right;\n",
       "    }\n",
       "</style>\n",
       "<table border=\"1\" class=\"dataframe\">\n",
       "  <thead>\n",
       "    <tr style=\"text-align: right;\">\n",
       "      <th></th>\n",
       "      <th>RECORD_TIME</th>\n",
       "    </tr>\n",
       "  </thead>\n",
       "  <tbody>\n",
       "    <tr>\n",
       "      <th>0</th>\n",
       "      <td>2021-11-05 15:00</td>\n",
       "    </tr>\n",
       "    <tr>\n",
       "      <th>1</th>\n",
       "      <td>2021-11-05 14:30</td>\n",
       "    </tr>\n",
       "  </tbody>\n",
       "</table>\n",
       "</div>"
      ],
      "text/plain": [
       "        RECORD_TIME\n",
       "0  2021-11-05 15:00\n",
       "1  2021-11-05 14:30"
      ]
     },
     "execution_count": 3,
     "metadata": {},
     "output_type": "execute_result"
    }
   ],
   "source": [
    "timestamps"
   ]
  },
  {
   "cell_type": "code",
   "execution_count": 4,
   "id": "alternate-victory",
   "metadata": {
    "execution": {
     "iopub.execute_input": "2021-11-05T14:00:09.908899Z",
     "iopub.status.busy": "2021-11-05T14:00:09.906783Z",
     "iopub.status.idle": "2021-11-05T14:00:10.987081Z",
     "shell.execute_reply": "2021-11-05T14:00:10.988876Z"
    },
    "papermill": {
     "duration": 1.113564,
     "end_time": "2021-11-05T14:00:10.989412",
     "exception": false,
     "start_time": "2021-11-05T14:00:09.875848",
     "status": "completed"
    },
    "tags": []
   },
   "outputs": [],
   "source": [
    "df = pd.read_sql(\"select * from EBAY_TOP_BERLIN where record_time in (select distinct record_time from EBAY_TOP_BERLIN order by record_time desc limit 2)\", sqlite3.connect(\"UsedObjects.db\"))"
   ]
  },
  {
   "cell_type": "code",
   "execution_count": 5,
   "id": "popular-active",
   "metadata": {
    "execution": {
     "iopub.execute_input": "2021-11-05T14:00:11.089644Z",
     "iopub.status.busy": "2021-11-05T14:00:11.087250Z",
     "iopub.status.idle": "2021-11-05T14:00:11.128127Z",
     "shell.execute_reply": "2021-11-05T14:00:11.130024Z"
    },
    "papermill": {
     "duration": 0.116127,
     "end_time": "2021-11-05T14:00:11.130512",
     "exception": false,
     "start_time": "2021-11-05T14:00:11.014385",
     "status": "completed"
    },
    "tags": []
   },
   "outputs": [],
   "source": [
    "df_pivot = df.pivot_table(index=\"PRODUCT\", columns = \"RECORD_TIME\", values = \"LISTING_COUNT\")"
   ]
  },
  {
   "cell_type": "code",
   "execution_count": 6,
   "id": "union-huntington",
   "metadata": {
    "execution": {
     "iopub.execute_input": "2021-11-05T14:00:11.197415Z",
     "iopub.status.busy": "2021-11-05T14:00:11.195117Z",
     "iopub.status.idle": "2021-11-05T14:00:11.200406Z",
     "shell.execute_reply": "2021-11-05T14:00:11.201877Z"
    },
    "papermill": {
     "duration": 0.047475,
     "end_time": "2021-11-05T14:00:11.202358",
     "exception": false,
     "start_time": "2021-11-05T14:00:11.154883",
     "status": "completed"
    },
    "tags": []
   },
   "outputs": [],
   "source": [
    "df_pivot.columns = [\"stamp_1\", \"stamp_2\"]\n",
    "df_pivot_diff = df_pivot.diff(axis=1)"
   ]
  },
  {
   "cell_type": "code",
   "execution_count": 7,
   "id": "fifth-motion",
   "metadata": {
    "execution": {
     "iopub.execute_input": "2021-11-05T14:00:11.260428Z",
     "iopub.status.busy": "2021-11-05T14:00:11.257915Z",
     "iopub.status.idle": "2021-11-05T14:00:13.397461Z",
     "shell.execute_reply": "2021-11-05T14:00:13.398820Z"
    },
    "papermill": {
     "duration": 2.176612,
     "end_time": "2021-11-05T14:00:13.399247",
     "exception": false,
     "start_time": "2021-11-05T14:00:11.222635",
     "status": "completed"
    },
    "tags": []
   },
   "outputs": [
    {
     "data": {
      "text/plain": [
       "<AxesSubplot:ylabel='PRODUCT'>"
      ]
     },
     "execution_count": 7,
     "metadata": {},
     "output_type": "execute_result"
    },
    {
     "data": {
      "image/png": "[encoded data removed]",
      "text/plain": [
       "<Figure size 432x288 with 1 Axes>"
      ]
     },
     "metadata": {
      "needs_background": "light"
     },
     "output_type": "display_data"
    }
   ],
   "source": [
    "df_pivot_diff.sort_values(\"stamp_2\", ascending = False)[\"stamp_2\"].head(10).plot.barh()"
   ]
  },
  {
   "cell_type": "code",
   "execution_count": null,
   "id": "extra-executive",
   "metadata": {
    "papermill": {
     "duration": 0.057799,
     "end_time": "2021-11-05T14:00:13.481901",
     "exception": false,
     "start_time": "2021-11-05T14:00:13.424102",
     "status": "completed"
    },
    "tags": []
   },
   "outputs": [],
   "source": []
  }
 ],
 "metadata": {
  "kernelspec": {
   "display_name": "Python 3",
   "language": "python",
   "name": "python3"
  },
  "language_info": {
   "codemirror_mode": {
    "name": "ipython",
    "version": 3
   },
   "file_extension": ".py",
   "mimetype": "text/x-python",
   "name": "python",
   "nbconvert_exporter": "python",
   "pygments_lexer": "ipython3",
   "version": "3.9.5"
  },
  "papermill": {
   "default_parameters": {},
   "duration": 9.956994,
   "end_time": "2021-11-05T14:00:15.124188",
   "environment_variables": {},
   "exception": null,
   "input_path": "eBay_Overview.ipynb",
   "output_path": "eBay_Overview.ipynb",
   "parameters": {},
   "start_time": "2021-11-05T14:00:05.167194",
   "version": "2.3.3"
  }
 },
 "nbformat": 4,
 "nbformat_minor": 5
}