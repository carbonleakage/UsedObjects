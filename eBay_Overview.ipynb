{
 "cells": [
  {
   "cell_type": "code",
   "execution_count": 1,
   "id": "reverse-picking",
   "metadata": {
    "execution": {
     "iopub.execute_input": "2021-09-29T03:30:07.000087Z",
     "iopub.status.busy": "2021-09-29T03:30:06.998185Z",
     "iopub.status.idle": "2021-09-29T03:30:07.813799Z",
     "shell.execute_reply": "2021-09-29T03:30:07.815239Z"
    },
    "papermill": {
     "duration": 0.867631,
     "end_time": "2021-09-29T03:30:07.815919",
     "exception": false,
     "start_time": "2021-09-29T03:30:06.948288",
     "status": "completed"
    },
    "tags": []
   },
   "outputs": [],
   "source": [
    "import pandas as pd\n",
    "import sqlite3"
   ]
  },
  {
   "cell_type": "code",
   "execution_count": 2,
   "id": "innovative-syndrome",
   "metadata": {
    "execution": {
     "iopub.execute_input": "2021-09-29T03:30:07.866933Z",
     "iopub.status.busy": "2021-09-29T03:30:07.864891Z",
     "iopub.status.idle": "2021-09-29T03:30:08.279513Z",
     "shell.execute_reply": "2021-09-29T03:30:08.280969Z"
    },
    "papermill": {
     "duration": 0.445078,
     "end_time": "2021-09-29T03:30:08.281413",
     "exception": false,
     "start_time": "2021-09-29T03:30:07.836335",
     "status": "completed"
    },
    "tags": []
   },
   "outputs": [],
   "source": [
    "timestamps = pd.read_sql(\"select distinct record_time from EBAY_TOP_BERLIN order by record_time desc limit 2\", sqlite3.connect(\"UsedObjects.db\"))"
   ]
  },
  {
   "cell_type": "code",
   "execution_count": 3,
   "id": "periodic-identification",
   "metadata": {
    "execution": {
     "iopub.execute_input": "2021-09-29T03:30:08.349138Z",
     "iopub.status.busy": "2021-09-29T03:30:08.346990Z",
     "iopub.status.idle": "2021-09-29T03:30:08.368010Z",
     "shell.execute_reply": "2021-09-29T03:30:08.369293Z"
    },
    "papermill": {
     "duration": 0.06838,
     "end_time": "2021-09-29T03:30:08.369710",
     "exception": false,
     "start_time": "2021-09-29T03:30:08.301330",
     "status": "completed"
    },
    "tags": []
   },
   "outputs": [
    {
     "data": {
      "text/html": [
       "<div>\n",
       "<style scoped>\n",
       "    .dataframe tbody tr th:only-of-type {\n",
       "        vertical-align: middle;\n",
       "    }\n",
       "\n",
       "    .dataframe tbody tr th {\n",
       "        vertical-align: top;\n",
       "    }\n",
       "\n",
       "    .dataframe thead th {\n",
       "        text-align: right;\n",
       "    }\n",
       "</style>\n",
       "<table border=\"1\" class=\"dataframe\">\n",
       "  <thead>\n",
       "    <tr style=\"text-align: right;\">\n",
       "      <th></th>\n",
       "      <th>RECORD_TIME</th>\n",
       "    </tr>\n",
       "  </thead>\n",
       "  <tbody>\n",
       "    <tr>\n",
       "      <th>0</th>\n",
       "      <td>2021-09-29 05:30</td>\n",
       "    </tr>\n",
       "    <tr>\n",
       "      <th>1</th>\n",
       "      <td>2021-09-29 05:00</td>\n",
       "    </tr>\n",
       "  </tbody>\n",
       "</table>\n",
       "</div>"
      ],
      "text/plain": [
       "        RECORD_TIME\n",
       "0  2021-09-29 05:30\n",
       "1  2021-09-29 05:00"
      ]
     },
     "execution_count": 3,
     "metadata": {},
     "output_type": "execute_result"
    }
   ],
   "source": [
    "timestamps"
   ]
  },
  {
   "cell_type": "code",
   "execution_count": 4,
   "id": "alternate-victory",
   "metadata": {
    "execution": {
     "iopub.execute_input": "2021-09-29T03:30:08.435044Z",
     "iopub.status.busy": "2021-09-29T03:30:08.432923Z",
     "iopub.status.idle": "2021-09-29T03:30:09.020421Z",
     "shell.execute_reply": "2021-09-29T03:30:09.021737Z"
    },
    "papermill": {
     "duration": 0.631173,
     "end_time": "2021-09-29T03:30:09.022152",
     "exception": false,
     "start_time": "2021-09-29T03:30:08.390979",
     "status": "completed"
    },
    "tags": []
   },
   "outputs": [],
   "source": [
    "df = pd.read_sql(\"select * from EBAY_TOP_BERLIN where record_time in (select distinct record_time from EBAY_TOP_BERLIN order by record_time desc limit 2)\", sqlite3.connect(\"UsedObjects.db\"))"
   ]
  },
  {
   "cell_type": "code",
   "execution_count": 5,
   "id": "popular-active",
   "metadata": {
    "execution": {
     "iopub.execute_input": "2021-09-29T03:30:09.091798Z",
     "iopub.status.busy": "2021-09-29T03:30:09.080060Z",
     "iopub.status.idle": "2021-09-29T03:30:09.107719Z",
     "shell.execute_reply": "2021-09-29T03:30:09.108940Z"
    },
    "papermill": {
     "duration": 0.067283,
     "end_time": "2021-09-29T03:30:09.109336",
     "exception": false,
     "start_time": "2021-09-29T03:30:09.042053",
     "status": "completed"
    },
    "tags": []
   },
   "outputs": [],
   "source": [
    "df_pivot = df.pivot_table(index=\"PRODUCT\", columns = \"RECORD_TIME\", values = \"LISTING_COUNT\")"
   ]
  },
  {
   "cell_type": "code",
   "execution_count": 6,
   "id": "union-huntington",
   "metadata": {
    "execution": {
     "iopub.execute_input": "2021-09-29T03:30:09.168866Z",
     "iopub.status.busy": "2021-09-29T03:30:09.166335Z",
     "iopub.status.idle": "2021-09-29T03:30:09.172345Z",
     "shell.execute_reply": "2021-09-29T03:30:09.173527Z"
    },
    "papermill": {
     "duration": 0.042297,
     "end_time": "2021-09-29T03:30:09.173954",
     "exception": false,
     "start_time": "2021-09-29T03:30:09.131657",
     "status": "completed"
    },
    "tags": []
   },
   "outputs": [],
   "source": [
    "df_pivot.columns = [\"stamp_1\", \"stamp_2\"]\n",
    "df_pivot_diff = df_pivot.diff(axis=1)"
   ]
  },
  {
   "cell_type": "code",
   "execution_count": 7,
   "id": "fifth-motion",
   "metadata": {
    "execution": {
     "iopub.execute_input": "2021-09-29T03:30:09.228429Z",
     "iopub.status.busy": "2021-09-29T03:30:09.225931Z",
     "iopub.status.idle": "2021-09-29T03:30:10.723294Z",
     "shell.execute_reply": "2021-09-29T03:30:10.724678Z"
    },
    "papermill": {
     "duration": 1.530597,
     "end_time": "2021-09-29T03:30:10.725121",
     "exception": false,
     "start_time": "2021-09-29T03:30:09.194524",
     "status": "completed"
    },
    "tags": []
   },
   "outputs": [
    {
     "data": {
      "text/plain": [
       "<AxesSubplot:ylabel='PRODUCT'>"
      ]
     },
     "execution_count": 7,
     "metadata": {},
     "output_type": "execute_result"
    },
    {
     "data": {
      "image/png": "[encoded data removed]",
      "text/plain": [
       "<Figure size 432x288 with 1 Axes>"
      ]
     },
     "metadata": {
      "needs_background": "light"
     },
     "output_type": "display_data"
    }
   ],
   "source": [
    "df_pivot_diff.sort_values(\"stamp_2\", ascending = False)[\"stamp_2\"].head(10).plot.barh()"
   ]
  },
  {
   "cell_type": "code",
   "execution_count": null,
   "id": "extra-executive",
   "metadata": {
    "papermill": {
     "duration": 0.022165,
     "end_time": "2021-09-29T03:30:10.771610",
     "exception": false,
     "start_time": "2021-09-29T03:30:10.749445",
     "status": "completed"
    },
    "tags": []
   },
   "outputs": [],
   "source": []
  }
 ],
 "metadata": {
  "kernelspec": {
   "display_name": "Python 3",
   "language": "python",
   "name": "python3"
  },
  "language_info": {
   "codemirror_mode": {
    "name": "ipython",
    "version": 3
   },
   "file_extension": ".py",
   "mimetype": "text/x-python",
   "name": "python",
   "nbconvert_exporter": "python",
   "pygments_lexer": "ipython3",
   "version": "3.9.5"
  },
  "papermill": {
   "default_parameters": {},
   "duration": 7.825482,
   "end_time": "2021-09-29T03:30:12.361345",
   "environment_variables": {},
   "exception": null,
   "input_path": "eBay_Overview.ipynb",
   "output_path": "eBay_Overview.ipynb",
   "parameters": {},
   "start_time": "2021-09-29T03:30:04.535863",
   "version": "2.3.3"
  }
 },
 "nbformat": 4,
 "nbformat_minor": 5
}