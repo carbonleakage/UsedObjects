{
 "cells": [
  {
   "cell_type": "code",
   "execution_count": 1,
   "id": "reverse-picking",
   "metadata": {
    "execution": {
     "iopub.execute_input": "2021-11-08T15:00:07.633088Z",
     "iopub.status.busy": "2021-11-08T15:00:07.630749Z",
     "iopub.status.idle": "2021-11-08T15:00:08.574025Z",
     "shell.execute_reply": "2021-11-08T15:00:08.575575Z"
    },
    "papermill": {
     "duration": 0.993899,
     "end_time": "2021-11-08T15:00:08.576319",
     "exception": false,
     "start_time": "2021-11-08T15:00:07.582420",
     "status": "completed"
    },
    "tags": []
   },
   "outputs": [],
   "source": [
    "import pandas as pd\n",
    "import sqlite3"
   ]
  },
  {
   "cell_type": "code",
   "execution_count": 2,
   "id": "innovative-syndrome",
   "metadata": {
    "execution": {
     "iopub.execute_input": "2021-11-08T15:00:08.638705Z",
     "iopub.status.busy": "2021-11-08T15:00:08.636390Z",
     "iopub.status.idle": "2021-11-08T15:00:09.408512Z",
     "shell.execute_reply": "2021-11-08T15:00:09.410138Z"
    },
    "papermill": {
     "duration": 0.811478,
     "end_time": "2021-11-08T15:00:09.410630",
     "exception": false,
     "start_time": "2021-11-08T15:00:08.599152",
     "status": "completed"
    },
    "tags": []
   },
   "outputs": [],
   "source": [
    "timestamps = pd.read_sql(\"select distinct record_time from EBAY_TOP_BERLIN order by record_time desc limit 2\", sqlite3.connect(\"UsedObjects.db\"))"
   ]
  },
  {
   "cell_type": "code",
   "execution_count": 3,
   "id": "periodic-identification",
   "metadata": {
    "execution": {
     "iopub.execute_input": "2021-11-08T15:00:09.497539Z",
     "iopub.status.busy": "2021-11-08T15:00:09.495107Z",
     "iopub.status.idle": "2021-11-08T15:00:09.517594Z",
     "shell.execute_reply": "2021-11-08T15:00:09.518959Z"
    },
    "papermill": {
     "duration": 0.087435,
     "end_time": "2021-11-08T15:00:09.519430",
     "exception": false,
     "start_time": "2021-11-08T15:00:09.431995",
     "status": "completed"
    },
    "tags": []
   },
   "outputs": [
    {
     "data": {
      "text/html": [
       "<div>\n",
       "<style scoped>\n",
       "    .dataframe tbody tr th:only-of-type {\n",
       "        vertical-align: middle;\n",
       "    }\n",
       "\n",
       "    .dataframe tbody tr th {\n",
       "        vertical-align: top;\n",
       "    }\n",
       "\n",
       "    .dataframe thead th {\n",
       "        text-align: right;\n",
       "    }\n",
       "</style>\n",
       "<table border=\"1\" class=\"dataframe\">\n",
       "  <thead>\n",
       "    <tr style=\"text-align: right;\">\n",
       "      <th></th>\n",
       "      <th>RECORD_TIME</th>\n",
       "    </tr>\n",
       "  </thead>\n",
       "  <tbody>\n",
       "    <tr>\n",
       "      <th>0</th>\n",
       "      <td>2021-11-08 16:00</td>\n",
       "    </tr>\n",
       "    <tr>\n",
       "      <th>1</th>\n",
       "      <td>2021-11-08 15:30</td>\n",
       "    </tr>\n",
       "  </tbody>\n",
       "</table>\n",
       "</div>"
      ],
      "text/plain": [
       "        RECORD_TIME\n",
       "0  2021-11-08 16:00\n",
       "1  2021-11-08 15:30"
      ]
     },
     "execution_count": 3,
     "metadata": {},
     "output_type": "execute_result"
    }
   ],
   "source": [
    "timestamps"
   ]
  },
  {
   "cell_type": "code",
   "execution_count": 4,
   "id": "alternate-victory",
   "metadata": {
    "execution": {
     "iopub.execute_input": "2021-11-08T15:00:09.575637Z",
     "iopub.status.busy": "2021-11-08T15:00:09.573409Z",
     "iopub.status.idle": "2021-11-08T15:00:10.694107Z",
     "shell.execute_reply": "2021-11-08T15:00:10.695702Z"
    },
    "papermill": {
     "duration": 1.155139,
     "end_time": "2021-11-08T15:00:10.696258",
     "exception": false,
     "start_time": "2021-11-08T15:00:09.541119",
     "status": "completed"
    },
    "tags": []
   },
   "outputs": [],
   "source": [
    "df = pd.read_sql(\"select * from EBAY_TOP_BERLIN where record_time in (select distinct record_time from EBAY_TOP_BERLIN order by record_time desc limit 2)\", sqlite3.connect(\"UsedObjects.db\"))"
   ]
  },
  {
   "cell_type": "code",
   "execution_count": 5,
   "id": "popular-active",
   "metadata": {
    "execution": {
     "iopub.execute_input": "2021-11-08T15:00:10.798309Z",
     "iopub.status.busy": "2021-11-08T15:00:10.783093Z",
     "iopub.status.idle": "2021-11-08T15:00:10.817409Z",
     "shell.execute_reply": "2021-11-08T15:00:10.818925Z"
    },
    "papermill": {
     "duration": 0.07827,
     "end_time": "2021-11-08T15:00:10.819422",
     "exception": false,
     "start_time": "2021-11-08T15:00:10.741152",
     "status": "completed"
    },
    "tags": []
   },
   "outputs": [],
   "source": [
    "df_pivot = df.pivot_table(index=\"PRODUCT\", columns = \"RECORD_TIME\", values = \"LISTING_COUNT\")"
   ]
  },
  {
   "cell_type": "code",
   "execution_count": 6,
   "id": "union-huntington",
   "metadata": {
    "execution": {
     "iopub.execute_input": "2021-11-08T15:00:10.881002Z",
     "iopub.status.busy": "2021-11-08T15:00:10.878689Z",
     "iopub.status.idle": "2021-11-08T15:00:10.885729Z",
     "shell.execute_reply": "2021-11-08T15:00:10.883547Z"
    },
    "papermill": {
     "duration": 0.045746,
     "end_time": "2021-11-08T15:00:10.886186",
     "exception": false,
     "start_time": "2021-11-08T15:00:10.840440",
     "status": "completed"
    },
    "tags": []
   },
   "outputs": [],
   "source": [
    "df_pivot.columns = [\"stamp_1\", \"stamp_2\"]\n",
    "df_pivot_diff = df_pivot.diff(axis=1)"
   ]
  },
  {
   "cell_type": "code",
   "execution_count": 7,
   "id": "fifth-motion",
   "metadata": {
    "execution": {
     "iopub.execute_input": "2021-11-08T15:00:10.955612Z",
     "iopub.status.busy": "2021-11-08T15:00:10.943983Z",
     "iopub.status.idle": "2021-11-08T15:00:12.718636Z",
     "shell.execute_reply": "2021-11-08T15:00:12.716817Z"
    },
    "papermill": {
     "duration": 1.80977,
     "end_time": "2021-11-08T15:00:12.719087",
     "exception": false,
     "start_time": "2021-11-08T15:00:10.909317",
     "status": "completed"
    },
    "tags": []
   },
   "outputs": [
    {
     "data": {
      "text/plain": [
       "<AxesSubplot:ylabel='PRODUCT'>"
      ]
     },
     "execution_count": 7,
     "metadata": {},
     "output_type": "execute_result"
    },
    {
     "data": {
      "image/png": "[encoded data removed]",
      "text/plain": [
       "<Figure size 432x288 with 1 Axes>"
      ]
     },
     "metadata": {
      "needs_background": "light"
     },
     "output_type": "display_data"
    }
   ],
   "source": [
    "df_pivot_diff.sort_values(\"stamp_2\", ascending = False)[\"stamp_2\"].head(10).plot.barh()"
   ]
  },
  {
   "cell_type": "code",
   "execution_count": null,
   "id": "extra-executive",
   "metadata": {
    "papermill": {
     "duration": 0.025283,
     "end_time": "2021-11-08T15:00:12.770271",
     "exception": false,
     "start_time": "2021-11-08T15:00:12.744988",
     "status": "completed"
    },
    "tags": []
   },
   "outputs": [],
   "source": []
  }
 ],
 "metadata": {
  "kernelspec": {
   "display_name": "Python 3",
   "language": "python",
   "name": "python3"
  },
  "language_info": {
   "codemirror_mode": {
    "name": "ipython",
    "version": 3
   },
   "file_extension": ".py",
   "mimetype": "text/x-python",
   "name": "python",
   "nbconvert_exporter": "python",
   "pygments_lexer": "ipython3",
   "version": "3.9.5"
  },
  "papermill": {
   "default_parameters": {},
   "duration": 8.843683,
   "end_time": "2021-11-08T15:00:13.621056",
   "environment_variables": {},
   "exception": null,
   "input_path": "eBay_Overview.ipynb",
   "output_path": "eBay_Overview.ipynb",
   "parameters": {},
   "start_time": "2021-11-08T15:00:04.777373",
   "version": "2.3.3"
  }
 },
 "nbformat": 4,
 "nbformat_minor": 5
}