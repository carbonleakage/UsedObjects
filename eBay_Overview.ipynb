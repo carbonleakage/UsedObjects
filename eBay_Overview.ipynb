{
 "cells": [
  {
   "cell_type": "code",
   "execution_count": 1,
   "id": "reverse-picking",
   "metadata": {
    "execution": {
     "iopub.execute_input": "2021-09-20T12:00:06.909758Z",
     "iopub.status.busy": "2021-09-20T12:00:06.907832Z",
     "iopub.status.idle": "2021-09-20T12:00:07.710216Z",
     "shell.execute_reply": "2021-09-20T12:00:07.708693Z"
    },
    "papermill": {
     "duration": 0.851554,
     "end_time": "2021-09-20T12:00:07.710646",
     "exception": false,
     "start_time": "2021-09-20T12:00:06.859092",
     "status": "completed"
    },
    "tags": []
   },
   "outputs": [],
   "source": [
    "import pandas as pd\n",
    "import sqlite3"
   ]
  },
  {
   "cell_type": "code",
   "execution_count": 2,
   "id": "innovative-syndrome",
   "metadata": {
    "execution": {
     "iopub.execute_input": "2021-09-20T12:00:07.761836Z",
     "iopub.status.busy": "2021-09-20T12:00:07.759690Z",
     "iopub.status.idle": "2021-09-20T12:00:08.094387Z",
     "shell.execute_reply": "2021-09-20T12:00:08.095726Z"
    },
    "papermill": {
     "duration": 0.365201,
     "end_time": "2021-09-20T12:00:08.096142",
     "exception": false,
     "start_time": "2021-09-20T12:00:07.730941",
     "status": "completed"
    },
    "tags": []
   },
   "outputs": [],
   "source": [
    "timestamps = pd.read_sql(\"select distinct record_time from EBAY_TOP_BERLIN order by record_time desc limit 2\", sqlite3.connect(\"UsedObjects.db\"))"
   ]
  },
  {
   "cell_type": "code",
   "execution_count": 3,
   "id": "periodic-identification",
   "metadata": {
    "execution": {
     "iopub.execute_input": "2021-09-20T12:00:08.160730Z",
     "iopub.status.busy": "2021-09-20T12:00:08.158666Z",
     "iopub.status.idle": "2021-09-20T12:00:08.178650Z",
     "shell.execute_reply": "2021-09-20T12:00:08.179851Z"
    },
    "papermill": {
     "duration": 0.0644,
     "end_time": "2021-09-20T12:00:08.180259",
     "exception": false,
     "start_time": "2021-09-20T12:00:08.115859",
     "status": "completed"
    },
    "tags": []
   },
   "outputs": [
    {
     "data": {
      "text/html": [
       "<div>\n",
       "<style scoped>\n",
       "    .dataframe tbody tr th:only-of-type {\n",
       "        vertical-align: middle;\n",
       "    }\n",
       "\n",
       "    .dataframe tbody tr th {\n",
       "        vertical-align: top;\n",
       "    }\n",
       "\n",
       "    .dataframe thead th {\n",
       "        text-align: right;\n",
       "    }\n",
       "</style>\n",
       "<table border=\"1\" class=\"dataframe\">\n",
       "  <thead>\n",
       "    <tr style=\"text-align: right;\">\n",
       "      <th></th>\n",
       "      <th>RECORD_TIME</th>\n",
       "    </tr>\n",
       "  </thead>\n",
       "  <tbody>\n",
       "    <tr>\n",
       "      <th>0</th>\n",
       "      <td>2021-09-20 14:00</td>\n",
       "    </tr>\n",
       "    <tr>\n",
       "      <th>1</th>\n",
       "      <td>2021-09-20 13:30</td>\n",
       "    </tr>\n",
       "  </tbody>\n",
       "</table>\n",
       "</div>"
      ],
      "text/plain": [
       "        RECORD_TIME\n",
       "0  2021-09-20 14:00\n",
       "1  2021-09-20 13:30"
      ]
     },
     "execution_count": 3,
     "metadata": {},
     "output_type": "execute_result"
    }
   ],
   "source": [
    "timestamps"
   ]
  },
  {
   "cell_type": "code",
   "execution_count": 4,
   "id": "alternate-victory",
   "metadata": {
    "execution": {
     "iopub.execute_input": "2021-09-20T12:00:08.233752Z",
     "iopub.status.busy": "2021-09-20T12:00:08.231490Z",
     "iopub.status.idle": "2021-09-20T12:00:08.735804Z",
     "shell.execute_reply": "2021-09-20T12:00:08.737217Z"
    },
    "papermill": {
     "duration": 0.534688,
     "end_time": "2021-09-20T12:00:08.737647",
     "exception": false,
     "start_time": "2021-09-20T12:00:08.202959",
     "status": "completed"
    },
    "tags": []
   },
   "outputs": [],
   "source": [
    "df = pd.read_sql(\"select * from EBAY_TOP_BERLIN where record_time in (select distinct record_time from EBAY_TOP_BERLIN order by record_time desc limit 2)\", sqlite3.connect(\"UsedObjects.db\"))"
   ]
  },
  {
   "cell_type": "code",
   "execution_count": 5,
   "id": "popular-active",
   "metadata": {
    "execution": {
     "iopub.execute_input": "2021-09-20T12:00:08.806272Z",
     "iopub.status.busy": "2021-09-20T12:00:08.803945Z",
     "iopub.status.idle": "2021-09-20T12:00:08.832723Z",
     "shell.execute_reply": "2021-09-20T12:00:08.833950Z"
    },
    "papermill": {
     "duration": 0.070445,
     "end_time": "2021-09-20T12:00:08.834342",
     "exception": false,
     "start_time": "2021-09-20T12:00:08.763897",
     "status": "completed"
    },
    "tags": []
   },
   "outputs": [],
   "source": [
    "df_pivot = df.pivot_table(index=\"PRODUCT\", columns = \"RECORD_TIME\", values = \"LISTING_COUNT\")"
   ]
  },
  {
   "cell_type": "code",
   "execution_count": 6,
   "id": "union-huntington",
   "metadata": {
    "execution": {
     "iopub.execute_input": "2021-09-20T12:00:08.890928Z",
     "iopub.status.busy": "2021-09-20T12:00:08.888761Z",
     "iopub.status.idle": "2021-09-20T12:00:08.894346Z",
     "shell.execute_reply": "2021-09-20T12:00:08.896037Z"
    },
    "papermill": {
     "duration": 0.04142,
     "end_time": "2021-09-20T12:00:08.896611",
     "exception": false,
     "start_time": "2021-09-20T12:00:08.855191",
     "status": "completed"
    },
    "tags": []
   },
   "outputs": [],
   "source": [
    "df_pivot.columns = [\"stamp_1\", \"stamp_2\"]\n",
    "df_pivot_diff = df_pivot.diff(axis=1)"
   ]
  },
  {
   "cell_type": "code",
   "execution_count": 7,
   "id": "fifth-motion",
   "metadata": {
    "execution": {
     "iopub.execute_input": "2021-09-20T12:00:08.952305Z",
     "iopub.status.busy": "2021-09-20T12:00:08.949817Z",
     "iopub.status.idle": "2021-09-20T12:00:10.467742Z",
     "shell.execute_reply": "2021-09-20T12:00:10.469125Z"
    },
    "papermill": {
     "duration": 1.551259,
     "end_time": "2021-09-20T12:00:10.469561",
     "exception": false,
     "start_time": "2021-09-20T12:00:08.918302",
     "status": "completed"
    },
    "tags": []
   },
   "outputs": [
    {
     "data": {
      "text/plain": [
       "<AxesSubplot:ylabel='PRODUCT'>"
      ]
     },
     "execution_count": 7,
     "metadata": {},
     "output_type": "execute_result"
    },
    {
     "data": {
      "image/png": "[encoded data removed]",
      "text/plain": [
       "<Figure size 432x288 with 1 Axes>"
      ]
     },
     "metadata": {
      "needs_background": "light"
     },
     "output_type": "display_data"
    }
   ],
   "source": [
    "df_pivot_diff.sort_values(\"stamp_2\", ascending = False)[\"stamp_2\"].head(10).plot.barh()"
   ]
  },
  {
   "cell_type": "code",
   "execution_count": null,
   "id": "extra-executive",
   "metadata": {
    "papermill": {
     "duration": 0.022438,
     "end_time": "2021-09-20T12:00:10.516645",
     "exception": false,
     "start_time": "2021-09-20T12:00:10.494207",
     "status": "completed"
    },
    "tags": []
   },
   "outputs": [],
   "source": []
  }
 ],
 "metadata": {
  "kernelspec": {
   "display_name": "Python 3",
   "language": "python",
   "name": "python3"
  },
  "language_info": {
   "codemirror_mode": {
    "name": "ipython",
    "version": 3
   },
   "file_extension": ".py",
   "mimetype": "text/x-python",
   "name": "python",
   "nbconvert_exporter": "python",
   "pygments_lexer": "ipython3",
   "version": "3.9.5"
  },
  "papermill": {
   "default_parameters": {},
   "duration": 6.694603,
   "end_time": "2021-09-20T12:00:11.157481",
   "environment_variables": {},
   "exception": null,
   "input_path": "eBay_Overview.ipynb",
   "output_path": "eBay_Overview.ipynb",
   "parameters": {},
   "start_time": "2021-09-20T12:00:04.462878",
   "version": "2.3.3"
  }
 },
 "nbformat": 4,
 "nbformat_minor": 5
}