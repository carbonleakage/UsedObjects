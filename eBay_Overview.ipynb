{
 "cells": [
  {
   "cell_type": "code",
   "execution_count": 1,
   "id": "reverse-picking",
   "metadata": {
    "execution": {
     "iopub.execute_input": "2021-12-22T16:30:07.550154Z",
     "iopub.status.busy": "2021-12-22T16:30:07.547580Z",
     "iopub.status.idle": "2021-12-22T16:30:08.556922Z",
     "shell.execute_reply": "2021-12-22T16:30:08.558585Z"
    },
    "papermill": {
     "duration": 1.058791,
     "end_time": "2021-12-22T16:30:08.559313",
     "exception": false,
     "start_time": "2021-12-22T16:30:07.500522",
     "status": "completed"
    },
    "tags": []
   },
   "outputs": [],
   "source": [
    "import pandas as pd\n",
    "import sqlite3"
   ]
  },
  {
   "cell_type": "code",
   "execution_count": 2,
   "id": "innovative-syndrome",
   "metadata": {
    "execution": {
     "iopub.execute_input": "2021-12-22T16:30:08.711447Z",
     "iopub.status.busy": "2021-12-22T16:30:08.709129Z",
     "iopub.status.idle": "2021-12-22T16:30:09.885512Z",
     "shell.execute_reply": "2021-12-22T16:30:09.887335Z"
    },
    "papermill": {
     "duration": 1.3071,
     "end_time": "2021-12-22T16:30:09.887850",
     "exception": false,
     "start_time": "2021-12-22T16:30:08.580750",
     "status": "completed"
    },
    "tags": []
   },
   "outputs": [],
   "source": [
    "timestamps = pd.read_sql(\"select distinct record_time from EBAY_TOP_BERLIN order by record_time desc limit 2\", sqlite3.connect(\"UsedObjects.db\"))"
   ]
  },
  {
   "cell_type": "code",
   "execution_count": 3,
   "id": "periodic-identification",
   "metadata": {
    "execution": {
     "iopub.execute_input": "2021-12-22T16:30:09.962967Z",
     "iopub.status.busy": "2021-12-22T16:30:09.960546Z",
     "iopub.status.idle": "2021-12-22T16:30:09.982998Z",
     "shell.execute_reply": "2021-12-22T16:30:09.984901Z"
    },
    "papermill": {
     "duration": 0.076473,
     "end_time": "2021-12-22T16:30:09.985374",
     "exception": false,
     "start_time": "2021-12-22T16:30:09.908901",
     "status": "completed"
    },
    "tags": []
   },
   "outputs": [
    {
     "data": {
      "text/html": [
       "<div>\n",
       "<style scoped>\n",
       "    .dataframe tbody tr th:only-of-type {\n",
       "        vertical-align: middle;\n",
       "    }\n",
       "\n",
       "    .dataframe tbody tr th {\n",
       "        vertical-align: top;\n",
       "    }\n",
       "\n",
       "    .dataframe thead th {\n",
       "        text-align: right;\n",
       "    }\n",
       "</style>\n",
       "<table border=\"1\" class=\"dataframe\">\n",
       "  <thead>\n",
       "    <tr style=\"text-align: right;\">\n",
       "      <th></th>\n",
       "      <th>RECORD_TIME</th>\n",
       "    </tr>\n",
       "  </thead>\n",
       "  <tbody>\n",
       "    <tr>\n",
       "      <th>0</th>\n",
       "      <td>2021-12-22 17:30</td>\n",
       "    </tr>\n",
       "    <tr>\n",
       "      <th>1</th>\n",
       "      <td>2021-12-22 17:00</td>\n",
       "    </tr>\n",
       "  </tbody>\n",
       "</table>\n",
       "</div>"
      ],
      "text/plain": [
       "        RECORD_TIME\n",
       "0  2021-12-22 17:30\n",
       "1  2021-12-22 17:00"
      ]
     },
     "execution_count": 3,
     "metadata": {},
     "output_type": "execute_result"
    }
   ],
   "source": [
    "timestamps"
   ]
  },
  {
   "cell_type": "code",
   "execution_count": 4,
   "id": "alternate-victory",
   "metadata": {
    "execution": {
     "iopub.execute_input": "2021-12-22T16:30:10.041744Z",
     "iopub.status.busy": "2021-12-22T16:30:10.039408Z",
     "iopub.status.idle": "2021-12-22T16:30:11.713094Z",
     "shell.execute_reply": "2021-12-22T16:30:11.715216Z"
    },
    "papermill": {
     "duration": 1.709174,
     "end_time": "2021-12-22T16:30:11.715702",
     "exception": false,
     "start_time": "2021-12-22T16:30:10.006528",
     "status": "completed"
    },
    "tags": []
   },
   "outputs": [],
   "source": [
    "df = pd.read_sql(\"select * from EBAY_TOP_BERLIN where record_time in (select distinct record_time from EBAY_TOP_BERLIN order by record_time desc limit 2)\", sqlite3.connect(\"UsedObjects.db\"))"
   ]
  },
  {
   "cell_type": "code",
   "execution_count": 5,
   "id": "popular-active",
   "metadata": {
    "execution": {
     "iopub.execute_input": "2021-12-22T16:30:11.781091Z",
     "iopub.status.busy": "2021-12-22T16:30:11.778653Z",
     "iopub.status.idle": "2021-12-22T16:30:11.811824Z",
     "shell.execute_reply": "2021-12-22T16:30:11.810485Z"
    },
    "papermill": {
     "duration": 0.07428,
     "end_time": "2021-12-22T16:30:11.812158",
     "exception": false,
     "start_time": "2021-12-22T16:30:11.737878",
     "status": "completed"
    },
    "tags": []
   },
   "outputs": [],
   "source": [
    "df_pivot = df.pivot_table(index=\"PRODUCT\", columns = \"RECORD_TIME\", values = \"LISTING_COUNT\")"
   ]
  },
  {
   "cell_type": "code",
   "execution_count": 6,
   "id": "union-huntington",
   "metadata": {
    "execution": {
     "iopub.execute_input": "2021-12-22T16:30:11.870697Z",
     "iopub.status.busy": "2021-12-22T16:30:11.868410Z",
     "iopub.status.idle": "2021-12-22T16:30:11.875198Z",
     "shell.execute_reply": "2021-12-22T16:30:11.873667Z"
    },
    "papermill": {
     "duration": 0.043755,
     "end_time": "2021-12-22T16:30:11.875606",
     "exception": false,
     "start_time": "2021-12-22T16:30:11.831851",
     "status": "completed"
    },
    "tags": []
   },
   "outputs": [],
   "source": [
    "df_pivot.columns = [\"stamp_1\", \"stamp_2\"]\n",
    "df_pivot_diff = df_pivot.diff(axis=1)"
   ]
  },
  {
   "cell_type": "code",
   "execution_count": 7,
   "id": "fifth-motion",
   "metadata": {
    "execution": {
     "iopub.execute_input": "2021-12-22T16:30:11.932429Z",
     "iopub.status.busy": "2021-12-22T16:30:11.929895Z",
     "iopub.status.idle": "2021-12-22T16:30:13.872962Z",
     "shell.execute_reply": "2021-12-22T16:30:13.874287Z"
    },
    "papermill": {
     "duration": 1.978726,
     "end_time": "2021-12-22T16:30:13.874714",
     "exception": false,
     "start_time": "2021-12-22T16:30:11.895988",
     "status": "completed"
    },
    "tags": []
   },
   "outputs": [
    {
     "data": {
      "text/plain": [
       "<AxesSubplot:ylabel='PRODUCT'>"
      ]
     },
     "execution_count": 7,
     "metadata": {},
     "output_type": "execute_result"
    },
    {
     "data": {
      "image/png": "[encoded data removed]",
      "text/plain": [
       "<Figure size 432x288 with 1 Axes>"
      ]
     },
     "metadata": {
      "needs_background": "light"
     },
     "output_type": "display_data"
    }
   ],
   "source": [
    "df_pivot_diff.sort_values(\"stamp_2\", ascending = False)[\"stamp_2\"].head(10).plot.barh()"
   ]
  },
  {
   "cell_type": "code",
   "execution_count": null,
   "id": "extra-executive",
   "metadata": {
    "papermill": {
     "duration": 0.022169,
     "end_time": "2021-12-22T16:30:13.920850",
     "exception": false,
     "start_time": "2021-12-22T16:30:13.898681",
     "status": "completed"
    },
    "tags": []
   },
   "outputs": [],
   "source": []
  }
 ],
 "metadata": {
  "kernelspec": {
   "display_name": "Python 3",
   "language": "python",
   "name": "python3"
  },
  "language_info": {
   "codemirror_mode": {
    "name": "ipython",
    "version": 3
   },
   "file_extension": ".py",
   "mimetype": "text/x-python",
   "name": "python",
   "nbconvert_exporter": "python",
   "pygments_lexer": "ipython3",
   "version": "3.9.5"
  },
  "papermill": {
   "default_parameters": {},
   "duration": 9.805969,
   "end_time": "2021-12-22T16:30:14.563377",
   "environment_variables": {},
   "exception": null,
   "input_path": "eBay_Overview.ipynb",
   "output_path": "eBay_Overview.ipynb",
   "parameters": {},
   "start_time": "2021-12-22T16:30:04.757408",
   "version": "2.3.3"
  }
 },
 "nbformat": 4,
 "nbformat_minor": 5
}