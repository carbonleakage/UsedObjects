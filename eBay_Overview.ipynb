{
 "cells": [
  {
   "cell_type": "code",
   "execution_count": 1,
   "id": "reverse-picking",
   "metadata": {
    "execution": {
     "iopub.execute_input": "2021-08-31T03:00:07.125985Z",
     "iopub.status.busy": "2021-08-31T03:00:07.123949Z",
     "iopub.status.idle": "2021-08-31T03:00:07.929845Z",
     "shell.execute_reply": "2021-08-31T03:00:07.928217Z"
    },
    "papermill": {
     "duration": 0.854696,
     "end_time": "2021-08-31T03:00:07.930243",
     "exception": false,
     "start_time": "2021-08-31T03:00:07.075547",
     "status": "completed"
    },
    "tags": []
   },
   "outputs": [],
   "source": [
    "import pandas as pd\n",
    "import sqlite3"
   ]
  },
  {
   "cell_type": "code",
   "execution_count": 2,
   "id": "innovative-syndrome",
   "metadata": {
    "execution": {
     "iopub.execute_input": "2021-08-31T03:00:07.982780Z",
     "iopub.status.busy": "2021-08-31T03:00:07.980622Z",
     "iopub.status.idle": "2021-08-31T03:00:08.153836Z",
     "shell.execute_reply": "2021-08-31T03:00:08.155051Z"
    },
    "papermill": {
     "duration": 0.202923,
     "end_time": "2021-08-31T03:00:08.155444",
     "exception": false,
     "start_time": "2021-08-31T03:00:07.952521",
     "status": "completed"
    },
    "tags": []
   },
   "outputs": [],
   "source": [
    "timestamps = pd.read_sql(\"select distinct record_time from EBAY_TOP_BERLIN order by record_time desc limit 2\", sqlite3.connect(\"UsedObjects.db\"))"
   ]
  },
  {
   "cell_type": "code",
   "execution_count": 3,
   "id": "periodic-identification",
   "metadata": {
    "execution": {
     "iopub.execute_input": "2021-08-31T03:00:08.219280Z",
     "iopub.status.busy": "2021-08-31T03:00:08.217282Z",
     "iopub.status.idle": "2021-08-31T03:00:08.238635Z",
     "shell.execute_reply": "2021-08-31T03:00:08.239852Z"
    },
    "papermill": {
     "duration": 0.065611,
     "end_time": "2021-08-31T03:00:08.240423",
     "exception": false,
     "start_time": "2021-08-31T03:00:08.174812",
     "status": "completed"
    },
    "tags": []
   },
   "outputs": [
    {
     "data": {
      "text/html": [
       "<div>\n",
       "<style scoped>\n",
       "    .dataframe tbody tr th:only-of-type {\n",
       "        vertical-align: middle;\n",
       "    }\n",
       "\n",
       "    .dataframe tbody tr th {\n",
       "        vertical-align: top;\n",
       "    }\n",
       "\n",
       "    .dataframe thead th {\n",
       "        text-align: right;\n",
       "    }\n",
       "</style>\n",
       "<table border=\"1\" class=\"dataframe\">\n",
       "  <thead>\n",
       "    <tr style=\"text-align: right;\">\n",
       "      <th></th>\n",
       "      <th>RECORD_TIME</th>\n",
       "    </tr>\n",
       "  </thead>\n",
       "  <tbody>\n",
       "    <tr>\n",
       "      <th>0</th>\n",
       "      <td>2021-08-31 05:00</td>\n",
       "    </tr>\n",
       "    <tr>\n",
       "      <th>1</th>\n",
       "      <td>2021-08-31 04:30</td>\n",
       "    </tr>\n",
       "  </tbody>\n",
       "</table>\n",
       "</div>"
      ],
      "text/plain": [
       "        RECORD_TIME\n",
       "0  2021-08-31 05:00\n",
       "1  2021-08-31 04:30"
      ]
     },
     "execution_count": 3,
     "metadata": {},
     "output_type": "execute_result"
    }
   ],
   "source": [
    "timestamps"
   ]
  },
  {
   "cell_type": "code",
   "execution_count": 4,
   "id": "alternate-victory",
   "metadata": {
    "execution": {
     "iopub.execute_input": "2021-08-31T03:00:08.293994Z",
     "iopub.status.busy": "2021-08-31T03:00:08.291601Z",
     "iopub.status.idle": "2021-08-31T03:00:08.550715Z",
     "shell.execute_reply": "2021-08-31T03:00:08.551926Z"
    },
    "papermill": {
     "duration": 0.289584,
     "end_time": "2021-08-31T03:00:08.552500",
     "exception": false,
     "start_time": "2021-08-31T03:00:08.262916",
     "status": "completed"
    },
    "tags": []
   },
   "outputs": [],
   "source": [
    "df = pd.read_sql(\"select * from EBAY_TOP_BERLIN where record_time in (select distinct record_time from EBAY_TOP_BERLIN order by record_time desc limit 2)\", sqlite3.connect(\"UsedObjects.db\"))"
   ]
  },
  {
   "cell_type": "code",
   "execution_count": 5,
   "id": "popular-active",
   "metadata": {
    "execution": {
     "iopub.execute_input": "2021-08-31T03:00:08.631251Z",
     "iopub.status.busy": "2021-08-31T03:00:08.619761Z",
     "iopub.status.idle": "2021-08-31T03:00:08.647160Z",
     "shell.execute_reply": "2021-08-31T03:00:08.648532Z"
    },
    "papermill": {
     "duration": 0.070864,
     "end_time": "2021-08-31T03:00:08.648952",
     "exception": false,
     "start_time": "2021-08-31T03:00:08.578088",
     "status": "completed"
    },
    "tags": []
   },
   "outputs": [],
   "source": [
    "df_pivot = df.pivot_table(index=\"PRODUCT\", columns = \"RECORD_TIME\", values = \"LISTING_COUNT\")"
   ]
  },
  {
   "cell_type": "code",
   "execution_count": 6,
   "id": "union-huntington",
   "metadata": {
    "execution": {
     "iopub.execute_input": "2021-08-31T03:00:08.705452Z",
     "iopub.status.busy": "2021-08-31T03:00:08.703264Z",
     "iopub.status.idle": "2021-08-31T03:00:08.708926Z",
     "shell.execute_reply": "2021-08-31T03:00:08.710263Z"
    },
    "papermill": {
     "duration": 0.040845,
     "end_time": "2021-08-31T03:00:08.710750",
     "exception": false,
     "start_time": "2021-08-31T03:00:08.669905",
     "status": "completed"
    },
    "tags": []
   },
   "outputs": [],
   "source": [
    "df_pivot.columns = [\"stamp_1\", \"stamp_2\"]\n",
    "df_pivot_diff = df_pivot.diff(axis=1)"
   ]
  },
  {
   "cell_type": "code",
   "execution_count": 7,
   "id": "fifth-motion",
   "metadata": {
    "execution": {
     "iopub.execute_input": "2021-08-31T03:00:08.766468Z",
     "iopub.status.busy": "2021-08-31T03:00:08.764043Z",
     "iopub.status.idle": "2021-08-31T03:00:10.262694Z",
     "shell.execute_reply": "2021-08-31T03:00:10.264129Z"
    },
    "papermill": {
     "duration": 1.532447,
     "end_time": "2021-08-31T03:00:10.264631",
     "exception": false,
     "start_time": "2021-08-31T03:00:08.732184",
     "status": "completed"
    },
    "tags": []
   },
   "outputs": [
    {
     "data": {
      "text/plain": [
       "<AxesSubplot:ylabel='PRODUCT'>"
      ]
     },
     "execution_count": 7,
     "metadata": {},
     "output_type": "execute_result"
    },
    {
     "data": {
      "image/png": "[encoded data removed]",
      "text/plain": [
       "<Figure size 432x288 with 1 Axes>"
      ]
     },
     "metadata": {
      "needs_background": "light"
     },
     "output_type": "display_data"
    }
   ],
   "source": [
    "df_pivot_diff.sort_values(\"stamp_2\", ascending = False)[\"stamp_2\"].head(10).plot.barh()"
   ]
  },
  {
   "cell_type": "code",
   "execution_count": null,
   "id": "extra-executive",
   "metadata": {
    "papermill": {
     "duration": 0.022325,
     "end_time": "2021-08-31T03:00:10.310816",
     "exception": false,
     "start_time": "2021-08-31T03:00:10.288491",
     "status": "completed"
    },
    "tags": []
   },
   "outputs": [],
   "source": []
  }
 ],
 "metadata": {
  "kernelspec": {
   "display_name": "Python 3",
   "language": "python",
   "name": "python3"
  },
  "language_info": {
   "codemirror_mode": {
    "name": "ipython",
    "version": 3
   },
   "file_extension": ".py",
   "mimetype": "text/x-python",
   "name": "python",
   "nbconvert_exporter": "python",
   "pygments_lexer": "ipython3",
   "version": "3.9.5"
  },
  "papermill": {
   "default_parameters": {},
   "duration": 6.827298,
   "end_time": "2021-08-31T03:00:11.495368",
   "environment_variables": {},
   "exception": null,
   "input_path": "eBay_Overview.ipynb",
   "output_path": "eBay_Overview.ipynb",
   "parameters": {},
   "start_time": "2021-08-31T03:00:04.668070",
   "version": "2.3.3"
  }
 },
 "nbformat": 4,
 "nbformat_minor": 5
}