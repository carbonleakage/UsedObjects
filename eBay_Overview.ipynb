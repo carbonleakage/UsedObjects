{
 "cells": [
  {
   "cell_type": "code",
   "execution_count": 1,
   "id": "reverse-picking",
   "metadata": {
    "execution": {
     "iopub.execute_input": "2021-09-08T13:00:07.651396Z",
     "iopub.status.busy": "2021-09-08T13:00:07.649374Z",
     "iopub.status.idle": "2021-09-08T13:00:08.459710Z",
     "shell.execute_reply": "2021-09-08T13:00:08.457841Z"
    },
    "papermill": {
     "duration": 0.859699,
     "end_time": "2021-09-08T13:00:08.460158",
     "exception": false,
     "start_time": "2021-09-08T13:00:07.600459",
     "status": "completed"
    },
    "tags": []
   },
   "outputs": [],
   "source": [
    "import pandas as pd\n",
    "import sqlite3"
   ]
  },
  {
   "cell_type": "code",
   "execution_count": 2,
   "id": "innovative-syndrome",
   "metadata": {
    "execution": {
     "iopub.execute_input": "2021-09-08T13:00:08.510934Z",
     "iopub.status.busy": "2021-09-08T13:00:08.508615Z",
     "iopub.status.idle": "2021-09-08T13:00:08.748315Z",
     "shell.execute_reply": "2021-09-08T13:00:08.749573Z"
    },
    "papermill": {
     "duration": 0.269818,
     "end_time": "2021-09-08T13:00:08.749985",
     "exception": false,
     "start_time": "2021-09-08T13:00:08.480167",
     "status": "completed"
    },
    "tags": []
   },
   "outputs": [],
   "source": [
    "timestamps = pd.read_sql(\"select distinct record_time from EBAY_TOP_BERLIN order by record_time desc limit 2\", sqlite3.connect(\"UsedObjects.db\"))"
   ]
  },
  {
   "cell_type": "code",
   "execution_count": 3,
   "id": "periodic-identification",
   "metadata": {
    "execution": {
     "iopub.execute_input": "2021-09-08T13:00:08.816869Z",
     "iopub.status.busy": "2021-09-08T13:00:08.814785Z",
     "iopub.status.idle": "2021-09-08T13:00:08.834998Z",
     "shell.execute_reply": "2021-09-08T13:00:08.836219Z"
    },
    "papermill": {
     "duration": 0.067225,
     "end_time": "2021-09-08T13:00:08.836645",
     "exception": false,
     "start_time": "2021-09-08T13:00:08.769420",
     "status": "completed"
    },
    "tags": []
   },
   "outputs": [
    {
     "data": {
      "text/html": [
       "<div>\n",
       "<style scoped>\n",
       "    .dataframe tbody tr th:only-of-type {\n",
       "        vertical-align: middle;\n",
       "    }\n",
       "\n",
       "    .dataframe tbody tr th {\n",
       "        vertical-align: top;\n",
       "    }\n",
       "\n",
       "    .dataframe thead th {\n",
       "        text-align: right;\n",
       "    }\n",
       "</style>\n",
       "<table border=\"1\" class=\"dataframe\">\n",
       "  <thead>\n",
       "    <tr style=\"text-align: right;\">\n",
       "      <th></th>\n",
       "      <th>RECORD_TIME</th>\n",
       "    </tr>\n",
       "  </thead>\n",
       "  <tbody>\n",
       "    <tr>\n",
       "      <th>0</th>\n",
       "      <td>2021-09-08 15:00</td>\n",
       "    </tr>\n",
       "    <tr>\n",
       "      <th>1</th>\n",
       "      <td>2021-09-08 14:30</td>\n",
       "    </tr>\n",
       "  </tbody>\n",
       "</table>\n",
       "</div>"
      ],
      "text/plain": [
       "        RECORD_TIME\n",
       "0  2021-09-08 15:00\n",
       "1  2021-09-08 14:30"
      ]
     },
     "execution_count": 3,
     "metadata": {},
     "output_type": "execute_result"
    }
   ],
   "source": [
    "timestamps"
   ]
  },
  {
   "cell_type": "code",
   "execution_count": 4,
   "id": "alternate-victory",
   "metadata": {
    "execution": {
     "iopub.execute_input": "2021-09-08T13:00:08.890581Z",
     "iopub.status.busy": "2021-09-08T13:00:08.888318Z",
     "iopub.status.idle": "2021-09-08T13:00:09.254543Z",
     "shell.execute_reply": "2021-09-08T13:00:09.255834Z"
    },
    "papermill": {
     "duration": 0.396723,
     "end_time": "2021-09-08T13:00:09.256238",
     "exception": false,
     "start_time": "2021-09-08T13:00:08.859515",
     "status": "completed"
    },
    "tags": []
   },
   "outputs": [],
   "source": [
    "df = pd.read_sql(\"select * from EBAY_TOP_BERLIN where record_time in (select distinct record_time from EBAY_TOP_BERLIN order by record_time desc limit 2)\", sqlite3.connect(\"UsedObjects.db\"))"
   ]
  },
  {
   "cell_type": "code",
   "execution_count": 5,
   "id": "popular-active",
   "metadata": {
    "execution": {
     "iopub.execute_input": "2021-09-08T13:00:09.335797Z",
     "iopub.status.busy": "2021-09-08T13:00:09.323833Z",
     "iopub.status.idle": "2021-09-08T13:00:09.351865Z",
     "shell.execute_reply": "2021-09-08T13:00:09.353245Z"
    },
    "papermill": {
     "duration": 0.071846,
     "end_time": "2021-09-08T13:00:09.353684",
     "exception": false,
     "start_time": "2021-09-08T13:00:09.281838",
     "status": "completed"
    },
    "tags": []
   },
   "outputs": [],
   "source": [
    "df_pivot = df.pivot_table(index=\"PRODUCT\", columns = \"RECORD_TIME\", values = \"LISTING_COUNT\")"
   ]
  },
  {
   "cell_type": "code",
   "execution_count": 6,
   "id": "union-huntington",
   "metadata": {
    "execution": {
     "iopub.execute_input": "2021-09-08T13:00:09.411108Z",
     "iopub.status.busy": "2021-09-08T13:00:09.408653Z",
     "iopub.status.idle": "2021-09-08T13:00:09.414662Z",
     "shell.execute_reply": "2021-09-08T13:00:09.416198Z"
    },
    "papermill": {
     "duration": 0.042751,
     "end_time": "2021-09-08T13:00:09.416650",
     "exception": false,
     "start_time": "2021-09-08T13:00:09.373899",
     "status": "completed"
    },
    "tags": []
   },
   "outputs": [],
   "source": [
    "df_pivot.columns = [\"stamp_1\", \"stamp_2\"]\n",
    "df_pivot_diff = df_pivot.diff(axis=1)"
   ]
  },
  {
   "cell_type": "code",
   "execution_count": 7,
   "id": "fifth-motion",
   "metadata": {
    "execution": {
     "iopub.execute_input": "2021-09-08T13:00:09.471271Z",
     "iopub.status.busy": "2021-09-08T13:00:09.468892Z",
     "iopub.status.idle": "2021-09-08T13:00:10.937797Z",
     "shell.execute_reply": "2021-09-08T13:00:10.939324Z"
    },
    "papermill": {
     "duration": 1.501923,
     "end_time": "2021-09-08T13:00:10.939792",
     "exception": false,
     "start_time": "2021-09-08T13:00:09.437869",
     "status": "completed"
    },
    "tags": []
   },
   "outputs": [
    {
     "data": {
      "text/plain": [
       "<AxesSubplot:ylabel='PRODUCT'>"
      ]
     },
     "execution_count": 7,
     "metadata": {},
     "output_type": "execute_result"
    },
    {
     "data": {
      "image/png": "[encoded data removed]",
      "text/plain": [
       "<Figure size 432x288 with 1 Axes>"
      ]
     },
     "metadata": {
      "needs_background": "light"
     },
     "output_type": "display_data"
    }
   ],
   "source": [
    "df_pivot_diff.sort_values(\"stamp_2\", ascending = False)[\"stamp_2\"].head(10).plot.barh()"
   ]
  },
  {
   "cell_type": "code",
   "execution_count": null,
   "id": "extra-executive",
   "metadata": {
    "papermill": {
     "duration": 0.022169,
     "end_time": "2021-09-08T13:00:10.986399",
     "exception": false,
     "start_time": "2021-09-08T13:00:10.964230",
     "status": "completed"
    },
    "tags": []
   },
   "outputs": [],
   "source": []
  }
 ],
 "metadata": {
  "kernelspec": {
   "display_name": "Python 3",
   "language": "python",
   "name": "python3"
  },
  "language_info": {
   "codemirror_mode": {
    "name": "ipython",
    "version": 3
   },
   "file_extension": ".py",
   "mimetype": "text/x-python",
   "name": "python",
   "nbconvert_exporter": "python",
   "pygments_lexer": "ipython3",
   "version": "3.9.5"
  },
  "papermill": {
   "default_parameters": {},
   "duration": 6.430711,
   "end_time": "2021-09-08T13:00:11.629133",
   "environment_variables": {},
   "exception": null,
   "input_path": "eBay_Overview.ipynb",
   "output_path": "eBay_Overview.ipynb",
   "parameters": {},
   "start_time": "2021-09-08T13:00:05.198422",
   "version": "2.3.3"
  }
 },
 "nbformat": 4,
 "nbformat_minor": 5
}