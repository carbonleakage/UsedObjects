{
 "cells": [
  {
   "cell_type": "code",
   "execution_count": 1,
   "id": "reverse-picking",
   "metadata": {
    "execution": {
     "iopub.execute_input": "2021-09-01T17:30:07.281138Z",
     "iopub.status.busy": "2021-09-01T17:30:07.279213Z",
     "iopub.status.idle": "2021-09-01T17:30:08.083108Z",
     "shell.execute_reply": "2021-09-01T17:30:08.084464Z"
    },
    "papermill": {
     "duration": 0.855989,
     "end_time": "2021-09-01T17:30:08.085121",
     "exception": false,
     "start_time": "2021-09-01T17:30:07.229132",
     "status": "completed"
    },
    "tags": []
   },
   "outputs": [],
   "source": [
    "import pandas as pd\n",
    "import sqlite3"
   ]
  },
  {
   "cell_type": "code",
   "execution_count": 2,
   "id": "innovative-syndrome",
   "metadata": {
    "execution": {
     "iopub.execute_input": "2021-09-01T17:30:08.135905Z",
     "iopub.status.busy": "2021-09-01T17:30:08.133877Z",
     "iopub.status.idle": "2021-09-01T17:30:08.313068Z",
     "shell.execute_reply": "2021-09-01T17:30:08.314280Z"
    },
    "papermill": {
     "duration": 0.209213,
     "end_time": "2021-09-01T17:30:08.314669",
     "exception": false,
     "start_time": "2021-09-01T17:30:08.105456",
     "status": "completed"
    },
    "tags": []
   },
   "outputs": [],
   "source": [
    "timestamps = pd.read_sql(\"select distinct record_time from EBAY_TOP_BERLIN order by record_time desc limit 2\", sqlite3.connect(\"UsedObjects.db\"))"
   ]
  },
  {
   "cell_type": "code",
   "execution_count": 3,
   "id": "periodic-identification",
   "metadata": {
    "execution": {
     "iopub.execute_input": "2021-09-01T17:30:08.383727Z",
     "iopub.status.busy": "2021-09-01T17:30:08.378385Z",
     "iopub.status.idle": "2021-09-01T17:30:08.400810Z",
     "shell.execute_reply": "2021-09-01T17:30:08.401943Z"
    },
    "papermill": {
     "duration": 0.066828,
     "end_time": "2021-09-01T17:30:08.402348",
     "exception": false,
     "start_time": "2021-09-01T17:30:08.335520",
     "status": "completed"
    },
    "tags": []
   },
   "outputs": [
    {
     "data": {
      "text/html": [
       "<div>\n",
       "<style scoped>\n",
       "    .dataframe tbody tr th:only-of-type {\n",
       "        vertical-align: middle;\n",
       "    }\n",
       "\n",
       "    .dataframe tbody tr th {\n",
       "        vertical-align: top;\n",
       "    }\n",
       "\n",
       "    .dataframe thead th {\n",
       "        text-align: right;\n",
       "    }\n",
       "</style>\n",
       "<table border=\"1\" class=\"dataframe\">\n",
       "  <thead>\n",
       "    <tr style=\"text-align: right;\">\n",
       "      <th></th>\n",
       "      <th>RECORD_TIME</th>\n",
       "    </tr>\n",
       "  </thead>\n",
       "  <tbody>\n",
       "    <tr>\n",
       "      <th>0</th>\n",
       "      <td>2021-09-01 19:30</td>\n",
       "    </tr>\n",
       "    <tr>\n",
       "      <th>1</th>\n",
       "      <td>2021-09-01 19:00</td>\n",
       "    </tr>\n",
       "  </tbody>\n",
       "</table>\n",
       "</div>"
      ],
      "text/plain": [
       "        RECORD_TIME\n",
       "0  2021-09-01 19:30\n",
       "1  2021-09-01 19:00"
      ]
     },
     "execution_count": 3,
     "metadata": {},
     "output_type": "execute_result"
    }
   ],
   "source": [
    "timestamps"
   ]
  },
  {
   "cell_type": "code",
   "execution_count": 4,
   "id": "alternate-victory",
   "metadata": {
    "execution": {
     "iopub.execute_input": "2021-09-01T17:30:08.456283Z",
     "iopub.status.busy": "2021-09-01T17:30:08.453933Z",
     "iopub.status.idle": "2021-09-01T17:30:08.721731Z",
     "shell.execute_reply": "2021-09-01T17:30:08.723010Z"
    },
    "papermill": {
     "duration": 0.298351,
     "end_time": "2021-09-01T17:30:08.723423",
     "exception": false,
     "start_time": "2021-09-01T17:30:08.425072",
     "status": "completed"
    },
    "tags": []
   },
   "outputs": [],
   "source": [
    "df = pd.read_sql(\"select * from EBAY_TOP_BERLIN where record_time in (select distinct record_time from EBAY_TOP_BERLIN order by record_time desc limit 2)\", sqlite3.connect(\"UsedObjects.db\"))"
   ]
  },
  {
   "cell_type": "code",
   "execution_count": 5,
   "id": "popular-active",
   "metadata": {
    "execution": {
     "iopub.execute_input": "2021-09-01T17:30:08.803735Z",
     "iopub.status.busy": "2021-09-01T17:30:08.791188Z",
     "iopub.status.idle": "2021-09-01T17:30:08.820618Z",
     "shell.execute_reply": "2021-09-01T17:30:08.821990Z"
    },
    "papermill": {
     "duration": 0.07324,
     "end_time": "2021-09-01T17:30:08.822425",
     "exception": false,
     "start_time": "2021-09-01T17:30:08.749185",
     "status": "completed"
    },
    "tags": []
   },
   "outputs": [],
   "source": [
    "df_pivot = df.pivot_table(index=\"PRODUCT\", columns = \"RECORD_TIME\", values = \"LISTING_COUNT\")"
   ]
  },
  {
   "cell_type": "code",
   "execution_count": 6,
   "id": "union-huntington",
   "metadata": {
    "execution": {
     "iopub.execute_input": "2021-09-01T17:30:08.878814Z",
     "iopub.status.busy": "2021-09-01T17:30:08.876739Z",
     "iopub.status.idle": "2021-09-01T17:30:08.882118Z",
     "shell.execute_reply": "2021-09-01T17:30:08.883461Z"
    },
    "papermill": {
     "duration": 0.041261,
     "end_time": "2021-09-01T17:30:08.883882",
     "exception": false,
     "start_time": "2021-09-01T17:30:08.842621",
     "status": "completed"
    },
    "tags": []
   },
   "outputs": [],
   "source": [
    "df_pivot.columns = [\"stamp_1\", \"stamp_2\"]\n",
    "df_pivot_diff = df_pivot.diff(axis=1)"
   ]
  },
  {
   "cell_type": "code",
   "execution_count": 7,
   "id": "fifth-motion",
   "metadata": {
    "execution": {
     "iopub.execute_input": "2021-09-01T17:30:08.937852Z",
     "iopub.status.busy": "2021-09-01T17:30:08.935482Z",
     "iopub.status.idle": "2021-09-01T17:30:10.458401Z",
     "shell.execute_reply": "2021-09-01T17:30:10.459771Z"
    },
    "papermill": {
     "duration": 1.555913,
     "end_time": "2021-09-01T17:30:10.460196",
     "exception": false,
     "start_time": "2021-09-01T17:30:08.904283",
     "status": "completed"
    },
    "tags": []
   },
   "outputs": [
    {
     "data": {
      "text/plain": [
       "<AxesSubplot:ylabel='PRODUCT'>"
      ]
     },
     "execution_count": 7,
     "metadata": {},
     "output_type": "execute_result"
    },
    {
     "data": {
      "image/png": "[encoded data removed]",
      "text/plain": [
       "<Figure size 432x288 with 1 Axes>"
      ]
     },
     "metadata": {
      "needs_background": "light"
     },
     "output_type": "display_data"
    }
   ],
   "source": [
    "df_pivot_diff.sort_values(\"stamp_2\", ascending = False)[\"stamp_2\"].head(10).plot.barh()"
   ]
  },
  {
   "cell_type": "code",
   "execution_count": null,
   "id": "extra-executive",
   "metadata": {
    "papermill": {
     "duration": 0.022174,
     "end_time": "2021-09-01T17:30:10.506249",
     "exception": false,
     "start_time": "2021-09-01T17:30:10.484075",
     "status": "completed"
    },
    "tags": []
   },
   "outputs": [],
   "source": []
  }
 ],
 "metadata": {
  "kernelspec": {
   "display_name": "Python 3",
   "language": "python",
   "name": "python3"
  },
  "language_info": {
   "codemirror_mode": {
    "name": "ipython",
    "version": 3
   },
   "file_extension": ".py",
   "mimetype": "text/x-python",
   "name": "python",
   "nbconvert_exporter": "python",
   "pygments_lexer": "ipython3",
   "version": "3.9.5"
  },
  "papermill": {
   "default_parameters": {},
   "duration": 6.322927,
   "end_time": "2021-09-01T17:30:11.149854",
   "environment_variables": {},
   "exception": null,
   "input_path": "eBay_Overview.ipynb",
   "output_path": "eBay_Overview.ipynb",
   "parameters": {},
   "start_time": "2021-09-01T17:30:04.826927",
   "version": "2.3.3"
  }
 },
 "nbformat": 4,
 "nbformat_minor": 5
}