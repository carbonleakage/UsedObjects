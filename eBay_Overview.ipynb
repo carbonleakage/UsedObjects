{
 "cells": [
  {
   "cell_type": "code",
   "execution_count": 1,
   "id": "reverse-picking",
   "metadata": {
    "execution": {
     "iopub.execute_input": "2021-11-20T18:00:07.594191Z",
     "iopub.status.busy": "2021-11-20T18:00:07.591925Z",
     "iopub.status.idle": "2021-11-20T18:00:08.546369Z",
     "shell.execute_reply": "2021-11-20T18:00:08.548649Z"
    },
    "papermill": {
     "duration": 1.002795,
     "end_time": "2021-11-20T18:00:08.549991",
     "exception": false,
     "start_time": "2021-11-20T18:00:07.547196",
     "status": "completed"
    },
    "tags": []
   },
   "outputs": [],
   "source": [
    "import pandas as pd\n",
    "import sqlite3"
   ]
  },
  {
   "cell_type": "code",
   "execution_count": 2,
   "id": "innovative-syndrome",
   "metadata": {
    "execution": {
     "iopub.execute_input": "2021-11-20T18:00:08.613208Z",
     "iopub.status.busy": "2021-11-20T18:00:08.610856Z",
     "iopub.status.idle": "2021-11-20T18:00:09.497419Z",
     "shell.execute_reply": "2021-11-20T18:00:09.498825Z"
    },
    "papermill": {
     "duration": 0.920938,
     "end_time": "2021-11-20T18:00:09.499304",
     "exception": false,
     "start_time": "2021-11-20T18:00:08.578366",
     "status": "completed"
    },
    "tags": []
   },
   "outputs": [],
   "source": [
    "timestamps = pd.read_sql(\"select distinct record_time from EBAY_TOP_BERLIN order by record_time desc limit 2\", sqlite3.connect(\"UsedObjects.db\"))"
   ]
  },
  {
   "cell_type": "code",
   "execution_count": 3,
   "id": "periodic-identification",
   "metadata": {
    "execution": {
     "iopub.execute_input": "2021-11-20T18:00:09.568293Z",
     "iopub.status.busy": "2021-11-20T18:00:09.566019Z",
     "iopub.status.idle": "2021-11-20T18:00:09.590383Z",
     "shell.execute_reply": "2021-11-20T18:00:09.588786Z"
    },
    "papermill": {
     "duration": 0.07167,
     "end_time": "2021-11-20T18:00:09.590820",
     "exception": false,
     "start_time": "2021-11-20T18:00:09.519150",
     "status": "completed"
    },
    "tags": []
   },
   "outputs": [
    {
     "data": {
      "text/html": [
       "<div>\n",
       "<style scoped>\n",
       "    .dataframe tbody tr th:only-of-type {\n",
       "        vertical-align: middle;\n",
       "    }\n",
       "\n",
       "    .dataframe tbody tr th {\n",
       "        vertical-align: top;\n",
       "    }\n",
       "\n",
       "    .dataframe thead th {\n",
       "        text-align: right;\n",
       "    }\n",
       "</style>\n",
       "<table border=\"1\" class=\"dataframe\">\n",
       "  <thead>\n",
       "    <tr style=\"text-align: right;\">\n",
       "      <th></th>\n",
       "      <th>RECORD_TIME</th>\n",
       "    </tr>\n",
       "  </thead>\n",
       "  <tbody>\n",
       "    <tr>\n",
       "      <th>0</th>\n",
       "      <td>2021-11-20 19:00</td>\n",
       "    </tr>\n",
       "    <tr>\n",
       "      <th>1</th>\n",
       "      <td>2021-11-20 18:30</td>\n",
       "    </tr>\n",
       "  </tbody>\n",
       "</table>\n",
       "</div>"
      ],
      "text/plain": [
       "        RECORD_TIME\n",
       "0  2021-11-20 19:00\n",
       "1  2021-11-20 18:30"
      ]
     },
     "execution_count": 3,
     "metadata": {},
     "output_type": "execute_result"
    }
   ],
   "source": [
    "timestamps"
   ]
  },
  {
   "cell_type": "code",
   "execution_count": 4,
   "id": "alternate-victory",
   "metadata": {
    "execution": {
     "iopub.execute_input": "2021-11-20T18:00:09.647737Z",
     "iopub.status.busy": "2021-11-20T18:00:09.645550Z",
     "iopub.status.idle": "2021-11-20T18:00:10.901457Z",
     "shell.execute_reply": "2021-11-20T18:00:10.903062Z"
    },
    "papermill": {
     "duration": 1.290728,
     "end_time": "2021-11-20T18:00:10.903586",
     "exception": false,
     "start_time": "2021-11-20T18:00:09.612858",
     "status": "completed"
    },
    "tags": []
   },
   "outputs": [],
   "source": [
    "df = pd.read_sql(\"select * from EBAY_TOP_BERLIN where record_time in (select distinct record_time from EBAY_TOP_BERLIN order by record_time desc limit 2)\", sqlite3.connect(\"UsedObjects.db\"))"
   ]
  },
  {
   "cell_type": "code",
   "execution_count": 5,
   "id": "popular-active",
   "metadata": {
    "execution": {
     "iopub.execute_input": "2021-11-20T18:00:10.976741Z",
     "iopub.status.busy": "2021-11-20T18:00:10.964745Z",
     "iopub.status.idle": "2021-11-20T18:00:10.995801Z",
     "shell.execute_reply": "2021-11-20T18:00:10.997233Z"
    },
    "papermill": {
     "duration": 0.073063,
     "end_time": "2021-11-20T18:00:10.997711",
     "exception": false,
     "start_time": "2021-11-20T18:00:10.924648",
     "status": "completed"
    },
    "tags": []
   },
   "outputs": [],
   "source": [
    "df_pivot = df.pivot_table(index=\"PRODUCT\", columns = \"RECORD_TIME\", values = \"LISTING_COUNT\")"
   ]
  },
  {
   "cell_type": "code",
   "execution_count": 6,
   "id": "union-huntington",
   "metadata": {
    "execution": {
     "iopub.execute_input": "2021-11-20T18:00:11.072208Z",
     "iopub.status.busy": "2021-11-20T18:00:11.068233Z",
     "iopub.status.idle": "2021-11-20T18:00:11.082267Z",
     "shell.execute_reply": "2021-11-20T18:00:11.079115Z"
    },
    "papermill": {
     "duration": 0.06386,
     "end_time": "2021-11-20T18:00:11.082993",
     "exception": false,
     "start_time": "2021-11-20T18:00:11.019133",
     "status": "completed"
    },
    "tags": []
   },
   "outputs": [],
   "source": [
    "df_pivot.columns = [\"stamp_1\", \"stamp_2\"]\n",
    "df_pivot_diff = df_pivot.diff(axis=1)"
   ]
  },
  {
   "cell_type": "code",
   "execution_count": 7,
   "id": "fifth-motion",
   "metadata": {
    "execution": {
     "iopub.execute_input": "2021-11-20T18:00:11.168016Z",
     "iopub.status.busy": "2021-11-20T18:00:11.155061Z",
     "iopub.status.idle": "2021-11-20T18:00:12.861931Z",
     "shell.execute_reply": "2021-11-20T18:00:12.863462Z"
    },
    "papermill": {
     "duration": 1.749228,
     "end_time": "2021-11-20T18:00:12.863939",
     "exception": false,
     "start_time": "2021-11-20T18:00:11.114711",
     "status": "completed"
    },
    "tags": []
   },
   "outputs": [
    {
     "data": {
      "text/plain": [
       "<AxesSubplot:ylabel='PRODUCT'>"
      ]
     },
     "execution_count": 7,
     "metadata": {},
     "output_type": "execute_result"
    },
    {
     "data": {
      "image/png": "[encoded data removed]",
      "text/plain": [
       "<Figure size 432x288 with 1 Axes>"
      ]
     },
     "metadata": {
      "needs_background": "light"
     },
     "output_type": "display_data"
    }
   ],
   "source": [
    "df_pivot_diff.sort_values(\"stamp_2\", ascending = False)[\"stamp_2\"].head(10).plot.barh()"
   ]
  },
  {
   "cell_type": "code",
   "execution_count": null,
   "id": "extra-executive",
   "metadata": {
    "papermill": {
     "duration": 0.022243,
     "end_time": "2021-11-20T18:00:12.911188",
     "exception": false,
     "start_time": "2021-11-20T18:00:12.888945",
     "status": "completed"
    },
    "tags": []
   },
   "outputs": [],
   "source": []
  }
 ],
 "metadata": {
  "kernelspec": {
   "display_name": "Python 3",
   "language": "python",
   "name": "python3"
  },
  "language_info": {
   "codemirror_mode": {
    "name": "ipython",
    "version": 3
   },
   "file_extension": ".py",
   "mimetype": "text/x-python",
   "name": "python",
   "nbconvert_exporter": "python",
   "pygments_lexer": "ipython3",
   "version": "3.9.5"
  },
  "papermill": {
   "default_parameters": {},
   "duration": 8.752637,
   "end_time": "2021-11-20T18:00:13.553449",
   "environment_variables": {},
   "exception": null,
   "input_path": "eBay_Overview.ipynb",
   "output_path": "eBay_Overview.ipynb",
   "parameters": {},
   "start_time": "2021-11-20T18:00:04.800812",
   "version": "2.3.3"
  }
 },
 "nbformat": 4,
 "nbformat_minor": 5
}