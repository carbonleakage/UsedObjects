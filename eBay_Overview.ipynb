{
 "cells": [
  {
   "cell_type": "code",
   "execution_count": 1,
   "id": "reverse-picking",
   "metadata": {
    "execution": {
     "iopub.execute_input": "2021-10-28T07:30:07.214693Z",
     "iopub.status.busy": "2021-10-28T07:30:07.212555Z",
     "iopub.status.idle": "2021-10-28T07:30:08.017642Z",
     "shell.execute_reply": "2021-10-28T07:30:08.018978Z"
    },
    "papermill": {
     "duration": 0.855847,
     "end_time": "2021-10-28T07:30:08.019605",
     "exception": false,
     "start_time": "2021-10-28T07:30:07.163758",
     "status": "completed"
    },
    "tags": []
   },
   "outputs": [],
   "source": [
    "import pandas as pd\n",
    "import sqlite3"
   ]
  },
  {
   "cell_type": "code",
   "execution_count": 2,
   "id": "innovative-syndrome",
   "metadata": {
    "execution": {
     "iopub.execute_input": "2021-10-28T07:30:08.069520Z",
     "iopub.status.busy": "2021-10-28T07:30:08.067501Z",
     "iopub.status.idle": "2021-10-28T07:30:08.720013Z",
     "shell.execute_reply": "2021-10-28T07:30:08.721384Z"
    },
    "papermill": {
     "duration": 0.682204,
     "end_time": "2021-10-28T07:30:08.721822",
     "exception": false,
     "start_time": "2021-10-28T07:30:08.039618",
     "status": "completed"
    },
    "tags": []
   },
   "outputs": [],
   "source": [
    "timestamps = pd.read_sql(\"select distinct record_time from EBAY_TOP_BERLIN order by record_time desc limit 2\", sqlite3.connect(\"UsedObjects.db\"))"
   ]
  },
  {
   "cell_type": "code",
   "execution_count": 3,
   "id": "periodic-identification",
   "metadata": {
    "execution": {
     "iopub.execute_input": "2021-10-28T07:30:08.798536Z",
     "iopub.status.busy": "2021-10-28T07:30:08.796436Z",
     "iopub.status.idle": "2021-10-28T07:30:08.817098Z",
     "shell.execute_reply": "2021-10-28T07:30:08.818506Z"
    },
    "papermill": {
     "duration": 0.071108,
     "end_time": "2021-10-28T07:30:08.818929",
     "exception": false,
     "start_time": "2021-10-28T07:30:08.747821",
     "status": "completed"
    },
    "tags": []
   },
   "outputs": [
    {
     "data": {
      "text/html": [
       "<div>\n",
       "<style scoped>\n",
       "    .dataframe tbody tr th:only-of-type {\n",
       "        vertical-align: middle;\n",
       "    }\n",
       "\n",
       "    .dataframe tbody tr th {\n",
       "        vertical-align: top;\n",
       "    }\n",
       "\n",
       "    .dataframe thead th {\n",
       "        text-align: right;\n",
       "    }\n",
       "</style>\n",
       "<table border=\"1\" class=\"dataframe\">\n",
       "  <thead>\n",
       "    <tr style=\"text-align: right;\">\n",
       "      <th></th>\n",
       "      <th>RECORD_TIME</th>\n",
       "    </tr>\n",
       "  </thead>\n",
       "  <tbody>\n",
       "    <tr>\n",
       "      <th>0</th>\n",
       "      <td>2021-10-28 09:30</td>\n",
       "    </tr>\n",
       "    <tr>\n",
       "      <th>1</th>\n",
       "      <td>2021-10-28 09:00</td>\n",
       "    </tr>\n",
       "  </tbody>\n",
       "</table>\n",
       "</div>"
      ],
      "text/plain": [
       "        RECORD_TIME\n",
       "0  2021-10-28 09:30\n",
       "1  2021-10-28 09:00"
      ]
     },
     "execution_count": 3,
     "metadata": {},
     "output_type": "execute_result"
    }
   ],
   "source": [
    "timestamps"
   ]
  },
  {
   "cell_type": "code",
   "execution_count": 4,
   "id": "alternate-victory",
   "metadata": {
    "execution": {
     "iopub.execute_input": "2021-10-28T07:30:08.870265Z",
     "iopub.status.busy": "2021-10-28T07:30:08.868286Z",
     "iopub.status.idle": "2021-10-28T07:30:09.823978Z",
     "shell.execute_reply": "2021-10-28T07:30:09.825166Z"
    },
    "papermill": {
     "duration": 0.985411,
     "end_time": "2021-10-28T07:30:09.825593",
     "exception": false,
     "start_time": "2021-10-28T07:30:08.840182",
     "status": "completed"
    },
    "tags": []
   },
   "outputs": [],
   "source": [
    "df = pd.read_sql(\"select * from EBAY_TOP_BERLIN where record_time in (select distinct record_time from EBAY_TOP_BERLIN order by record_time desc limit 2)\", sqlite3.connect(\"UsedObjects.db\"))"
   ]
  },
  {
   "cell_type": "code",
   "execution_count": 5,
   "id": "popular-active",
   "metadata": {
    "execution": {
     "iopub.execute_input": "2021-10-28T07:30:09.899355Z",
     "iopub.status.busy": "2021-10-28T07:30:09.886628Z",
     "iopub.status.idle": "2021-10-28T07:30:09.914929Z",
     "shell.execute_reply": "2021-10-28T07:30:09.916153Z"
    },
    "papermill": {
     "duration": 0.06809,
     "end_time": "2021-10-28T07:30:09.916553",
     "exception": false,
     "start_time": "2021-10-28T07:30:09.848463",
     "status": "completed"
    },
    "tags": []
   },
   "outputs": [],
   "source": [
    "df_pivot = df.pivot_table(index=\"PRODUCT\", columns = \"RECORD_TIME\", values = \"LISTING_COUNT\")"
   ]
  },
  {
   "cell_type": "code",
   "execution_count": 6,
   "id": "union-huntington",
   "metadata": {
    "execution": {
     "iopub.execute_input": "2021-10-28T07:30:09.972654Z",
     "iopub.status.busy": "2021-10-28T07:30:09.970608Z",
     "iopub.status.idle": "2021-10-28T07:30:09.975857Z",
     "shell.execute_reply": "2021-10-28T07:30:09.977210Z"
    },
    "papermill": {
     "duration": 0.040227,
     "end_time": "2021-10-28T07:30:09.977639",
     "exception": false,
     "start_time": "2021-10-28T07:30:09.937412",
     "status": "completed"
    },
    "tags": []
   },
   "outputs": [],
   "source": [
    "df_pivot.columns = [\"stamp_1\", \"stamp_2\"]\n",
    "df_pivot_diff = df_pivot.diff(axis=1)"
   ]
  },
  {
   "cell_type": "code",
   "execution_count": 7,
   "id": "fifth-motion",
   "metadata": {
    "execution": {
     "iopub.execute_input": "2021-10-28T07:30:10.031673Z",
     "iopub.status.busy": "2021-10-28T07:30:10.029253Z",
     "iopub.status.idle": "2021-10-28T07:30:11.509243Z",
     "shell.execute_reply": "2021-10-28T07:30:11.510727Z"
    },
    "papermill": {
     "duration": 1.513004,
     "end_time": "2021-10-28T07:30:11.511197",
     "exception": false,
     "start_time": "2021-10-28T07:30:09.998193",
     "status": "completed"
    },
    "tags": []
   },
   "outputs": [
    {
     "data": {
      "text/plain": [
       "<AxesSubplot:ylabel='PRODUCT'>"
      ]
     },
     "execution_count": 7,
     "metadata": {},
     "output_type": "execute_result"
    },
    {
     "data": {
      "image/png": "[encoded data removed]",
      "text/plain": [
       "<Figure size 432x288 with 1 Axes>"
      ]
     },
     "metadata": {
      "needs_background": "light"
     },
     "output_type": "display_data"
    }
   ],
   "source": [
    "df_pivot_diff.sort_values(\"stamp_2\", ascending = False)[\"stamp_2\"].head(10).plot.barh()"
   ]
  },
  {
   "cell_type": "code",
   "execution_count": null,
   "id": "extra-executive",
   "metadata": {
    "papermill": {
     "duration": 0.022375,
     "end_time": "2021-10-28T07:30:11.558024",
     "exception": false,
     "start_time": "2021-10-28T07:30:11.535649",
     "status": "completed"
    },
    "tags": []
   },
   "outputs": [],
   "source": []
  }
 ],
 "metadata": {
  "kernelspec": {
   "display_name": "Python 3",
   "language": "python",
   "name": "python3"
  },
  "language_info": {
   "codemirror_mode": {
    "name": "ipython",
    "version": 3
   },
   "file_extension": ".py",
   "mimetype": "text/x-python",
   "name": "python",
   "nbconvert_exporter": "python",
   "pygments_lexer": "ipython3",
   "version": "3.9.5"
  },
  "papermill": {
   "default_parameters": {},
   "duration": 7.439853,
   "end_time": "2021-10-28T07:30:12.202086",
   "environment_variables": {},
   "exception": null,
   "input_path": "eBay_Overview.ipynb",
   "output_path": "eBay_Overview.ipynb",
   "parameters": {},
   "start_time": "2021-10-28T07:30:04.762233",
   "version": "2.3.3"
  }
 },
 "nbformat": 4,
 "nbformat_minor": 5
}