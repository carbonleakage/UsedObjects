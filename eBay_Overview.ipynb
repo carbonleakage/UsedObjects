{
 "cells": [
  {
   "cell_type": "code",
   "execution_count": 1,
   "id": "reverse-picking",
   "metadata": {
    "execution": {
     "iopub.execute_input": "2021-08-23T07:00:07.415729Z",
     "iopub.status.busy": "2021-08-23T07:00:07.413709Z",
     "iopub.status.idle": "2021-08-23T07:00:08.222501Z",
     "shell.execute_reply": "2021-08-23T07:00:08.223782Z"
    },
    "papermill": {
     "duration": 0.859999,
     "end_time": "2021-08-23T07:00:08.224410",
     "exception": false,
     "start_time": "2021-08-23T07:00:07.364411",
     "status": "completed"
    },
    "tags": []
   },
   "outputs": [],
   "source": [
    "import pandas as pd\n",
    "import sqlite3"
   ]
  },
  {
   "cell_type": "code",
   "execution_count": 2,
   "id": "innovative-syndrome",
   "metadata": {
    "execution": {
     "iopub.execute_input": "2021-08-23T07:00:08.277264Z",
     "iopub.status.busy": "2021-08-23T07:00:08.275112Z",
     "iopub.status.idle": "2021-08-23T07:00:08.386211Z",
     "shell.execute_reply": "2021-08-23T07:00:08.387434Z"
    },
    "papermill": {
     "duration": 0.140578,
     "end_time": "2021-08-23T07:00:08.387835",
     "exception": false,
     "start_time": "2021-08-23T07:00:08.247257",
     "status": "completed"
    },
    "tags": []
   },
   "outputs": [],
   "source": [
    "timestamps = pd.read_sql(\"select distinct record_time from EBAY_TOP_BERLIN order by record_time desc limit 2\", sqlite3.connect(\"UsedObjects.db\"))"
   ]
  },
  {
   "cell_type": "code",
   "execution_count": 3,
   "id": "periodic-identification",
   "metadata": {
    "execution": {
     "iopub.execute_input": "2021-08-23T07:00:08.454697Z",
     "iopub.status.busy": "2021-08-23T07:00:08.452598Z",
     "iopub.status.idle": "2021-08-23T07:00:08.472720Z",
     "shell.execute_reply": "2021-08-23T07:00:08.474198Z"
    },
    "papermill": {
     "duration": 0.065361,
     "end_time": "2021-08-23T07:00:08.474675",
     "exception": false,
     "start_time": "2021-08-23T07:00:08.409314",
     "status": "completed"
    },
    "tags": []
   },
   "outputs": [
    {
     "data": {
      "text/html": [
       "<div>\n",
       "<style scoped>\n",
       "    .dataframe tbody tr th:only-of-type {\n",
       "        vertical-align: middle;\n",
       "    }\n",
       "\n",
       "    .dataframe tbody tr th {\n",
       "        vertical-align: top;\n",
       "    }\n",
       "\n",
       "    .dataframe thead th {\n",
       "        text-align: right;\n",
       "    }\n",
       "</style>\n",
       "<table border=\"1\" class=\"dataframe\">\n",
       "  <thead>\n",
       "    <tr style=\"text-align: right;\">\n",
       "      <th></th>\n",
       "      <th>RECORD_TIME</th>\n",
       "    </tr>\n",
       "  </thead>\n",
       "  <tbody>\n",
       "    <tr>\n",
       "      <th>0</th>\n",
       "      <td>2021-08-23 09:00</td>\n",
       "    </tr>\n",
       "    <tr>\n",
       "      <th>1</th>\n",
       "      <td>2021-08-23 08:30</td>\n",
       "    </tr>\n",
       "  </tbody>\n",
       "</table>\n",
       "</div>"
      ],
      "text/plain": [
       "        RECORD_TIME\n",
       "0  2021-08-23 09:00\n",
       "1  2021-08-23 08:30"
      ]
     },
     "execution_count": 3,
     "metadata": {},
     "output_type": "execute_result"
    }
   ],
   "source": [
    "timestamps"
   ]
  },
  {
   "cell_type": "code",
   "execution_count": 4,
   "id": "alternate-victory",
   "metadata": {
    "execution": {
     "iopub.execute_input": "2021-08-23T07:00:08.527688Z",
     "iopub.status.busy": "2021-08-23T07:00:08.525310Z",
     "iopub.status.idle": "2021-08-23T07:00:08.697816Z",
     "shell.execute_reply": "2021-08-23T07:00:08.699082Z"
    },
    "papermill": {
     "duration": 0.202633,
     "end_time": "2021-08-23T07:00:08.699485",
     "exception": false,
     "start_time": "2021-08-23T07:00:08.496852",
     "status": "completed"
    },
    "tags": []
   },
   "outputs": [],
   "source": [
    "df = pd.read_sql(\"select * from EBAY_TOP_BERLIN where record_time in (select distinct record_time from EBAY_TOP_BERLIN order by record_time desc limit 2)\", sqlite3.connect(\"UsedObjects.db\"))"
   ]
  },
  {
   "cell_type": "code",
   "execution_count": 5,
   "id": "popular-active",
   "metadata": {
    "execution": {
     "iopub.execute_input": "2021-08-23T07:00:08.772381Z",
     "iopub.status.busy": "2021-08-23T07:00:08.759533Z",
     "iopub.status.idle": "2021-08-23T07:00:08.788413Z",
     "shell.execute_reply": "2021-08-23T07:00:08.789700Z"
    },
    "papermill": {
     "duration": 0.068505,
     "end_time": "2021-08-23T07:00:08.790181",
     "exception": false,
     "start_time": "2021-08-23T07:00:08.721676",
     "status": "completed"
    },
    "tags": []
   },
   "outputs": [],
   "source": [
    "df_pivot = df.pivot_table(index=\"PRODUCT\", columns = \"RECORD_TIME\", values = \"LISTING_COUNT\")"
   ]
  },
  {
   "cell_type": "code",
   "execution_count": 6,
   "id": "union-huntington",
   "metadata": {
    "execution": {
     "iopub.execute_input": "2021-08-23T07:00:08.846300Z",
     "iopub.status.busy": "2021-08-23T07:00:08.844208Z",
     "iopub.status.idle": "2021-08-23T07:00:08.849513Z",
     "shell.execute_reply": "2021-08-23T07:00:08.851047Z"
    },
    "papermill": {
     "duration": 0.04068,
     "end_time": "2021-08-23T07:00:08.851486",
     "exception": false,
     "start_time": "2021-08-23T07:00:08.810806",
     "status": "completed"
    },
    "tags": []
   },
   "outputs": [],
   "source": [
    "df_pivot.columns = [\"stamp_1\", \"stamp_2\"]\n",
    "df_pivot_diff = df_pivot.diff(axis=1)"
   ]
  },
  {
   "cell_type": "code",
   "execution_count": 7,
   "id": "fifth-motion",
   "metadata": {
    "execution": {
     "iopub.execute_input": "2021-08-23T07:00:08.906155Z",
     "iopub.status.busy": "2021-08-23T07:00:08.903461Z",
     "iopub.status.idle": "2021-08-23T07:00:10.425759Z",
     "shell.execute_reply": "2021-08-23T07:00:10.427013Z"
    },
    "papermill": {
     "duration": 1.555555,
     "end_time": "2021-08-23T07:00:10.427455",
     "exception": false,
     "start_time": "2021-08-23T07:00:08.871900",
     "status": "completed"
    },
    "tags": []
   },
   "outputs": [
    {
     "data": {
      "text/plain": [
       "<AxesSubplot:ylabel='PRODUCT'>"
      ]
     },
     "execution_count": 7,
     "metadata": {},
     "output_type": "execute_result"
    },
    {
     "data": {
      "image/png": "[encoded data removed]",
      "text/plain": [
       "<Figure size 432x288 with 1 Axes>"
      ]
     },
     "metadata": {
      "needs_background": "light"
     },
     "output_type": "display_data"
    }
   ],
   "source": [
    "df_pivot_diff.sort_values(\"stamp_2\", ascending = False)[\"stamp_2\"].head(10).plot.barh()"
   ]
  },
  {
   "cell_type": "code",
   "execution_count": null,
   "id": "extra-executive",
   "metadata": {
    "papermill": {
     "duration": 0.021864,
     "end_time": "2021-08-23T07:00:10.472893",
     "exception": false,
     "start_time": "2021-08-23T07:00:10.451029",
     "status": "completed"
    },
    "tags": []
   },
   "outputs": [],
   "source": []
  }
 ],
 "metadata": {
  "kernelspec": {
   "display_name": "Python 3",
   "language": "python",
   "name": "python3"
  },
  "language_info": {
   "codemirror_mode": {
    "name": "ipython",
    "version": 3
   },
   "file_extension": ".py",
   "mimetype": "text/x-python",
   "name": "python",
   "nbconvert_exporter": "python",
   "pygments_lexer": "ipython3",
   "version": "3.9.5"
  },
  "papermill": {
   "default_parameters": {},
   "duration": 6.821978,
   "end_time": "2021-08-23T07:00:11.779273",
   "environment_variables": {},
   "exception": null,
   "input_path": "eBay_Overview.ipynb",
   "output_path": "eBay_Overview.ipynb",
   "parameters": {},
   "start_time": "2021-08-23T07:00:04.957295",
   "version": "2.3.3"
  }
 },
 "nbformat": 4,
 "nbformat_minor": 5
}