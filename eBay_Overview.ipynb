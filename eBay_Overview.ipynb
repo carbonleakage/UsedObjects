{
 "cells": [
  {
   "cell_type": "code",
   "execution_count": 1,
   "id": "reverse-picking",
   "metadata": {
    "execution": {
     "iopub.execute_input": "2021-09-23T21:30:07.227144Z",
     "iopub.status.busy": "2021-09-23T21:30:07.225140Z",
     "iopub.status.idle": "2021-09-23T21:30:08.032468Z",
     "shell.execute_reply": "2021-09-23T21:30:08.033738Z"
    },
    "papermill": {
     "duration": 0.858442,
     "end_time": "2021-09-23T21:30:08.034365",
     "exception": false,
     "start_time": "2021-09-23T21:30:07.175923",
     "status": "completed"
    },
    "tags": []
   },
   "outputs": [],
   "source": [
    "import pandas as pd\n",
    "import sqlite3"
   ]
  },
  {
   "cell_type": "code",
   "execution_count": 2,
   "id": "innovative-syndrome",
   "metadata": {
    "execution": {
     "iopub.execute_input": "2021-09-23T21:30:08.084640Z",
     "iopub.status.busy": "2021-09-23T21:30:08.082695Z",
     "iopub.status.idle": "2021-09-23T21:30:08.438895Z",
     "shell.execute_reply": "2021-09-23T21:30:08.440196Z"
    },
    "papermill": {
     "duration": 0.385533,
     "end_time": "2021-09-23T21:30:08.440611",
     "exception": false,
     "start_time": "2021-09-23T21:30:08.055078",
     "status": "completed"
    },
    "tags": []
   },
   "outputs": [],
   "source": [
    "timestamps = pd.read_sql(\"select distinct record_time from EBAY_TOP_BERLIN order by record_time desc limit 2\", sqlite3.connect(\"UsedObjects.db\"))"
   ]
  },
  {
   "cell_type": "code",
   "execution_count": 3,
   "id": "periodic-identification",
   "metadata": {
    "execution": {
     "iopub.execute_input": "2021-09-23T21:30:08.504168Z",
     "iopub.status.busy": "2021-09-23T21:30:08.501964Z",
     "iopub.status.idle": "2021-09-23T21:30:08.522034Z",
     "shell.execute_reply": "2021-09-23T21:30:08.523309Z"
    },
    "papermill": {
     "duration": 0.063807,
     "end_time": "2021-09-23T21:30:08.523711",
     "exception": false,
     "start_time": "2021-09-23T21:30:08.459904",
     "status": "completed"
    },
    "tags": []
   },
   "outputs": [
    {
     "data": {
      "text/html": [
       "<div>\n",
       "<style scoped>\n",
       "    .dataframe tbody tr th:only-of-type {\n",
       "        vertical-align: middle;\n",
       "    }\n",
       "\n",
       "    .dataframe tbody tr th {\n",
       "        vertical-align: top;\n",
       "    }\n",
       "\n",
       "    .dataframe thead th {\n",
       "        text-align: right;\n",
       "    }\n",
       "</style>\n",
       "<table border=\"1\" class=\"dataframe\">\n",
       "  <thead>\n",
       "    <tr style=\"text-align: right;\">\n",
       "      <th></th>\n",
       "      <th>RECORD_TIME</th>\n",
       "    </tr>\n",
       "  </thead>\n",
       "  <tbody>\n",
       "    <tr>\n",
       "      <th>0</th>\n",
       "      <td>2021-09-23 23:30</td>\n",
       "    </tr>\n",
       "    <tr>\n",
       "      <th>1</th>\n",
       "      <td>2021-09-23 23:00</td>\n",
       "    </tr>\n",
       "  </tbody>\n",
       "</table>\n",
       "</div>"
      ],
      "text/plain": [
       "        RECORD_TIME\n",
       "0  2021-09-23 23:30\n",
       "1  2021-09-23 23:00"
      ]
     },
     "execution_count": 3,
     "metadata": {},
     "output_type": "execute_result"
    }
   ],
   "source": [
    "timestamps"
   ]
  },
  {
   "cell_type": "code",
   "execution_count": 4,
   "id": "alternate-victory",
   "metadata": {
    "execution": {
     "iopub.execute_input": "2021-09-23T21:30:08.575851Z",
     "iopub.status.busy": "2021-09-23T21:30:08.573893Z",
     "iopub.status.idle": "2021-09-23T21:30:09.093941Z",
     "shell.execute_reply": "2021-09-23T21:30:09.095319Z"
    },
    "papermill": {
     "duration": 0.549706,
     "end_time": "2021-09-23T21:30:09.095754",
     "exception": false,
     "start_time": "2021-09-23T21:30:08.546048",
     "status": "completed"
    },
    "tags": []
   },
   "outputs": [],
   "source": [
    "df = pd.read_sql(\"select * from EBAY_TOP_BERLIN where record_time in (select distinct record_time from EBAY_TOP_BERLIN order by record_time desc limit 2)\", sqlite3.connect(\"UsedObjects.db\"))"
   ]
  },
  {
   "cell_type": "code",
   "execution_count": 5,
   "id": "popular-active",
   "metadata": {
    "execution": {
     "iopub.execute_input": "2021-09-23T21:30:09.186852Z",
     "iopub.status.busy": "2021-09-23T21:30:09.175453Z",
     "iopub.status.idle": "2021-09-23T21:30:09.204033Z",
     "shell.execute_reply": "2021-09-23T21:30:09.205405Z"
    },
    "papermill": {
     "duration": 0.076371,
     "end_time": "2021-09-23T21:30:09.205840",
     "exception": false,
     "start_time": "2021-09-23T21:30:09.129469",
     "status": "completed"
    },
    "tags": []
   },
   "outputs": [],
   "source": [
    "df_pivot = df.pivot_table(index=\"PRODUCT\", columns = \"RECORD_TIME\", values = \"LISTING_COUNT\")"
   ]
  },
  {
   "cell_type": "code",
   "execution_count": 6,
   "id": "union-huntington",
   "metadata": {
    "execution": {
     "iopub.execute_input": "2021-09-23T21:30:09.263933Z",
     "iopub.status.busy": "2021-09-23T21:30:09.261405Z",
     "iopub.status.idle": "2021-09-23T21:30:09.267364Z",
     "shell.execute_reply": "2021-09-23T21:30:09.268663Z"
    },
    "papermill": {
     "duration": 0.041827,
     "end_time": "2021-09-23T21:30:09.269079",
     "exception": false,
     "start_time": "2021-09-23T21:30:09.227252",
     "status": "completed"
    },
    "tags": []
   },
   "outputs": [],
   "source": [
    "df_pivot.columns = [\"stamp_1\", \"stamp_2\"]\n",
    "df_pivot_diff = df_pivot.diff(axis=1)"
   ]
  },
  {
   "cell_type": "code",
   "execution_count": 7,
   "id": "fifth-motion",
   "metadata": {
    "execution": {
     "iopub.execute_input": "2021-09-23T21:30:09.322603Z",
     "iopub.status.busy": "2021-09-23T21:30:09.320337Z",
     "iopub.status.idle": "2021-09-23T21:30:10.806871Z",
     "shell.execute_reply": "2021-09-23T21:30:10.808094Z"
    },
    "papermill": {
     "duration": 1.519179,
     "end_time": "2021-09-23T21:30:10.808526",
     "exception": false,
     "start_time": "2021-09-23T21:30:09.289347",
     "status": "completed"
    },
    "tags": []
   },
   "outputs": [
    {
     "data": {
      "text/plain": [
       "<AxesSubplot:ylabel='PRODUCT'>"
      ]
     },
     "execution_count": 7,
     "metadata": {},
     "output_type": "execute_result"
    },
    {
     "data": {
      "image/png": "[encoded data removed]",
      "text/plain": [
       "<Figure size 432x288 with 1 Axes>"
      ]
     },
     "metadata": {
      "needs_background": "light"
     },
     "output_type": "display_data"
    }
   ],
   "source": [
    "df_pivot_diff.sort_values(\"stamp_2\", ascending = False)[\"stamp_2\"].head(10).plot.barh()"
   ]
  },
  {
   "cell_type": "code",
   "execution_count": null,
   "id": "extra-executive",
   "metadata": {
    "papermill": {
     "duration": 0.021826,
     "end_time": "2021-09-23T21:30:10.853957",
     "exception": false,
     "start_time": "2021-09-23T21:30:10.832131",
     "status": "completed"
    },
    "tags": []
   },
   "outputs": [],
   "source": []
  }
 ],
 "metadata": {
  "kernelspec": {
   "display_name": "Python 3",
   "language": "python",
   "name": "python3"
  },
  "language_info": {
   "codemirror_mode": {
    "name": "ipython",
    "version": 3
   },
   "file_extension": ".py",
   "mimetype": "text/x-python",
   "name": "python",
   "nbconvert_exporter": "python",
   "pygments_lexer": "ipython3",
   "version": "3.9.5"
  },
  "papermill": {
   "default_parameters": {},
   "duration": 6.721705,
   "end_time": "2021-09-23T21:30:11.495922",
   "environment_variables": {},
   "exception": null,
   "input_path": "eBay_Overview.ipynb",
   "output_path": "eBay_Overview.ipynb",
   "parameters": {},
   "start_time": "2021-09-23T21:30:04.774217",
   "version": "2.3.3"
  }
 },
 "nbformat": 4,
 "nbformat_minor": 5
}