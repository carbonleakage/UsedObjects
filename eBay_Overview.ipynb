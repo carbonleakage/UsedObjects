{
 "cells": [
  {
   "cell_type": "code",
   "execution_count": 1,
   "id": "reverse-picking",
   "metadata": {
    "execution": {
     "iopub.execute_input": "2021-12-22T16:00:08.543386Z",
     "iopub.status.busy": "2021-12-22T16:00:08.541259Z",
     "iopub.status.idle": "2021-12-22T16:00:09.512291Z",
     "shell.execute_reply": "2021-12-22T16:00:09.513918Z"
    },
    "papermill": {
     "duration": 1.022074,
     "end_time": "2021-12-22T16:00:09.514668",
     "exception": false,
     "start_time": "2021-12-22T16:00:08.492594",
     "status": "completed"
    },
    "tags": []
   },
   "outputs": [],
   "source": [
    "import pandas as pd\n",
    "import sqlite3"
   ]
  },
  {
   "cell_type": "code",
   "execution_count": 2,
   "id": "innovative-syndrome",
   "metadata": {
    "execution": {
     "iopub.execute_input": "2021-12-22T16:00:09.577133Z",
     "iopub.status.busy": "2021-12-22T16:00:09.574412Z",
     "iopub.status.idle": "2021-12-22T16:00:10.731684Z",
     "shell.execute_reply": "2021-12-22T16:00:10.733995Z"
    },
    "papermill": {
     "duration": 1.193016,
     "end_time": "2021-12-22T16:00:10.734528",
     "exception": false,
     "start_time": "2021-12-22T16:00:09.541512",
     "status": "completed"
    },
    "tags": []
   },
   "outputs": [],
   "source": [
    "timestamps = pd.read_sql(\"select distinct record_time from EBAY_TOP_BERLIN order by record_time desc limit 2\", sqlite3.connect(\"UsedObjects.db\"))"
   ]
  },
  {
   "cell_type": "code",
   "execution_count": 3,
   "id": "periodic-identification",
   "metadata": {
    "execution": {
     "iopub.execute_input": "2021-12-22T16:00:10.812256Z",
     "iopub.status.busy": "2021-12-22T16:00:10.805954Z",
     "iopub.status.idle": "2021-12-22T16:00:10.829045Z",
     "shell.execute_reply": "2021-12-22T16:00:10.830563Z"
    },
    "papermill": {
     "duration": 0.075422,
     "end_time": "2021-12-22T16:00:10.831079",
     "exception": false,
     "start_time": "2021-12-22T16:00:10.755657",
     "status": "completed"
    },
    "tags": []
   },
   "outputs": [
    {
     "data": {
      "text/html": [
       "<div>\n",
       "<style scoped>\n",
       "    .dataframe tbody tr th:only-of-type {\n",
       "        vertical-align: middle;\n",
       "    }\n",
       "\n",
       "    .dataframe tbody tr th {\n",
       "        vertical-align: top;\n",
       "    }\n",
       "\n",
       "    .dataframe thead th {\n",
       "        text-align: right;\n",
       "    }\n",
       "</style>\n",
       "<table border=\"1\" class=\"dataframe\">\n",
       "  <thead>\n",
       "    <tr style=\"text-align: right;\">\n",
       "      <th></th>\n",
       "      <th>RECORD_TIME</th>\n",
       "    </tr>\n",
       "  </thead>\n",
       "  <tbody>\n",
       "    <tr>\n",
       "      <th>0</th>\n",
       "      <td>2021-12-22 17:00</td>\n",
       "    </tr>\n",
       "    <tr>\n",
       "      <th>1</th>\n",
       "      <td>2021-12-22 16:30</td>\n",
       "    </tr>\n",
       "  </tbody>\n",
       "</table>\n",
       "</div>"
      ],
      "text/plain": [
       "        RECORD_TIME\n",
       "0  2021-12-22 17:00\n",
       "1  2021-12-22 16:30"
      ]
     },
     "execution_count": 3,
     "metadata": {},
     "output_type": "execute_result"
    }
   ],
   "source": [
    "timestamps"
   ]
  },
  {
   "cell_type": "code",
   "execution_count": 4,
   "id": "alternate-victory",
   "metadata": {
    "execution": {
     "iopub.execute_input": "2021-12-22T16:00:10.888308Z",
     "iopub.status.busy": "2021-12-22T16:00:10.886060Z",
     "iopub.status.idle": "2021-12-22T16:00:12.560161Z",
     "shell.execute_reply": "2021-12-22T16:00:12.562333Z"
    },
    "papermill": {
     "duration": 1.709697,
     "end_time": "2021-12-22T16:00:12.562808",
     "exception": false,
     "start_time": "2021-12-22T16:00:10.853111",
     "status": "completed"
    },
    "tags": []
   },
   "outputs": [],
   "source": [
    "df = pd.read_sql(\"select * from EBAY_TOP_BERLIN where record_time in (select distinct record_time from EBAY_TOP_BERLIN order by record_time desc limit 2)\", sqlite3.connect(\"UsedObjects.db\"))"
   ]
  },
  {
   "cell_type": "code",
   "execution_count": 5,
   "id": "popular-active",
   "metadata": {
    "execution": {
     "iopub.execute_input": "2021-12-22T16:00:12.632292Z",
     "iopub.status.busy": "2021-12-22T16:00:12.623669Z",
     "iopub.status.idle": "2021-12-22T16:00:12.655155Z",
     "shell.execute_reply": "2021-12-22T16:00:12.656537Z"
    },
    "papermill": {
     "duration": 0.07354,
     "end_time": "2021-12-22T16:00:12.657071",
     "exception": false,
     "start_time": "2021-12-22T16:00:12.583531",
     "status": "completed"
    },
    "tags": []
   },
   "outputs": [],
   "source": [
    "df_pivot = df.pivot_table(index=\"PRODUCT\", columns = \"RECORD_TIME\", values = \"LISTING_COUNT\")"
   ]
  },
  {
   "cell_type": "code",
   "execution_count": 6,
   "id": "union-huntington",
   "metadata": {
    "execution": {
     "iopub.execute_input": "2021-12-22T16:00:12.732076Z",
     "iopub.status.busy": "2021-12-22T16:00:12.728369Z",
     "iopub.status.idle": "2021-12-22T16:00:12.744384Z",
     "shell.execute_reply": "2021-12-22T16:00:12.741545Z"
    },
    "papermill": {
     "duration": 0.067515,
     "end_time": "2021-12-22T16:00:12.745225",
     "exception": false,
     "start_time": "2021-12-22T16:00:12.677710",
     "status": "completed"
    },
    "tags": []
   },
   "outputs": [],
   "source": [
    "df_pivot.columns = [\"stamp_1\", \"stamp_2\"]\n",
    "df_pivot_diff = df_pivot.diff(axis=1)"
   ]
  },
  {
   "cell_type": "code",
   "execution_count": 7,
   "id": "fifth-motion",
   "metadata": {
    "execution": {
     "iopub.execute_input": "2021-12-22T16:00:12.835449Z",
     "iopub.status.busy": "2021-12-22T16:00:12.831198Z",
     "iopub.status.idle": "2021-12-22T16:00:14.683422Z",
     "shell.execute_reply": "2021-12-22T16:00:14.684781Z"
    },
    "papermill": {
     "duration": 1.907884,
     "end_time": "2021-12-22T16:00:14.685223",
     "exception": false,
     "start_time": "2021-12-22T16:00:12.777339",
     "status": "completed"
    },
    "tags": []
   },
   "outputs": [
    {
     "data": {
      "text/plain": [
       "<AxesSubplot:ylabel='PRODUCT'>"
      ]
     },
     "execution_count": 7,
     "metadata": {},
     "output_type": "execute_result"
    },
    {
     "data": {
      "image/png": "[encoded data removed]",
      "text/plain": [
       "<Figure size 432x288 with 1 Axes>"
      ]
     },
     "metadata": {
      "needs_background": "light"
     },
     "output_type": "display_data"
    }
   ],
   "source": [
    "df_pivot_diff.sort_values(\"stamp_2\", ascending = False)[\"stamp_2\"].head(10).plot.barh()"
   ]
  },
  {
   "cell_type": "code",
   "execution_count": null,
   "id": "extra-executive",
   "metadata": {
    "papermill": {
     "duration": 0.026724,
     "end_time": "2021-12-22T16:00:14.745774",
     "exception": false,
     "start_time": "2021-12-22T16:00:14.719050",
     "status": "completed"
    },
    "tags": []
   },
   "outputs": [],
   "source": []
  }
 ],
 "metadata": {
  "kernelspec": {
   "display_name": "Python 3",
   "language": "python",
   "name": "python3"
  },
  "language_info": {
   "codemirror_mode": {
    "name": "ipython",
    "version": 3
   },
   "file_extension": ".py",
   "mimetype": "text/x-python",
   "name": "python",
   "nbconvert_exporter": "python",
   "pygments_lexer": "ipython3",
   "version": "3.9.5"
  },
  "papermill": {
   "default_parameters": {},
   "duration": 9.657146,
   "end_time": "2021-12-22T16:00:15.397785",
   "environment_variables": {},
   "exception": null,
   "input_path": "eBay_Overview.ipynb",
   "output_path": "eBay_Overview.ipynb",
   "parameters": {},
   "start_time": "2021-12-22T16:00:05.740639",
   "version": "2.3.3"
  }
 },
 "nbformat": 4,
 "nbformat_minor": 5
}