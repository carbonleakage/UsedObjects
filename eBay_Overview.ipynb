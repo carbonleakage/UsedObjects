{
 "cells": [
  {
   "cell_type": "code",
   "execution_count": 1,
   "id": "reverse-picking",
   "metadata": {
    "execution": {
     "iopub.execute_input": "2021-12-17T03:00:07.606112Z",
     "iopub.status.busy": "2021-12-17T03:00:07.603143Z",
     "iopub.status.idle": "2021-12-17T03:00:08.570921Z",
     "shell.execute_reply": "2021-12-17T03:00:08.572561Z"
    },
    "papermill": {
     "duration": 1.017373,
     "end_time": "2021-12-17T03:00:08.573412",
     "exception": false,
     "start_time": "2021-12-17T03:00:07.556039",
     "status": "completed"
    },
    "tags": []
   },
   "outputs": [],
   "source": [
    "import pandas as pd\n",
    "import sqlite3"
   ]
  },
  {
   "cell_type": "code",
   "execution_count": 2,
   "id": "innovative-syndrome",
   "metadata": {
    "execution": {
     "iopub.execute_input": "2021-12-17T03:00:08.639035Z",
     "iopub.status.busy": "2021-12-17T03:00:08.636636Z",
     "iopub.status.idle": "2021-12-17T03:00:09.718000Z",
     "shell.execute_reply": "2021-12-17T03:00:09.720047Z"
    },
    "papermill": {
     "duration": 1.116829,
     "end_time": "2021-12-17T03:00:09.720466",
     "exception": false,
     "start_time": "2021-12-17T03:00:08.603637",
     "status": "completed"
    },
    "tags": []
   },
   "outputs": [],
   "source": [
    "timestamps = pd.read_sql(\"select distinct record_time from EBAY_TOP_BERLIN order by record_time desc limit 2\", sqlite3.connect(\"UsedObjects.db\"))"
   ]
  },
  {
   "cell_type": "code",
   "execution_count": 3,
   "id": "periodic-identification",
   "metadata": {
    "execution": {
     "iopub.execute_input": "2021-12-17T03:00:09.792185Z",
     "iopub.status.busy": "2021-12-17T03:00:09.789797Z",
     "iopub.status.idle": "2021-12-17T03:00:09.814219Z",
     "shell.execute_reply": "2021-12-17T03:00:09.812401Z"
    },
    "papermill": {
     "duration": 0.074149,
     "end_time": "2021-12-17T03:00:09.814651",
     "exception": false,
     "start_time": "2021-12-17T03:00:09.740502",
     "status": "completed"
    },
    "tags": []
   },
   "outputs": [
    {
     "data": {
      "text/html": [
       "<div>\n",
       "<style scoped>\n",
       "    .dataframe tbody tr th:only-of-type {\n",
       "        vertical-align: middle;\n",
       "    }\n",
       "\n",
       "    .dataframe tbody tr th {\n",
       "        vertical-align: top;\n",
       "    }\n",
       "\n",
       "    .dataframe thead th {\n",
       "        text-align: right;\n",
       "    }\n",
       "</style>\n",
       "<table border=\"1\" class=\"dataframe\">\n",
       "  <thead>\n",
       "    <tr style=\"text-align: right;\">\n",
       "      <th></th>\n",
       "      <th>RECORD_TIME</th>\n",
       "    </tr>\n",
       "  </thead>\n",
       "  <tbody>\n",
       "    <tr>\n",
       "      <th>0</th>\n",
       "      <td>2021-12-17 04:00</td>\n",
       "    </tr>\n",
       "    <tr>\n",
       "      <th>1</th>\n",
       "      <td>2021-12-17 03:30</td>\n",
       "    </tr>\n",
       "  </tbody>\n",
       "</table>\n",
       "</div>"
      ],
      "text/plain": [
       "        RECORD_TIME\n",
       "0  2021-12-17 04:00\n",
       "1  2021-12-17 03:30"
      ]
     },
     "execution_count": 3,
     "metadata": {},
     "output_type": "execute_result"
    }
   ],
   "source": [
    "timestamps"
   ]
  },
  {
   "cell_type": "code",
   "execution_count": 4,
   "id": "alternate-victory",
   "metadata": {
    "execution": {
     "iopub.execute_input": "2021-12-17T03:00:09.870636Z",
     "iopub.status.busy": "2021-12-17T03:00:09.868298Z",
     "iopub.status.idle": "2021-12-17T03:00:11.436170Z",
     "shell.execute_reply": "2021-12-17T03:00:11.437726Z"
    },
    "papermill": {
     "duration": 1.602097,
     "end_time": "2021-12-17T03:00:11.438202",
     "exception": false,
     "start_time": "2021-12-17T03:00:09.836105",
     "status": "completed"
    },
    "tags": []
   },
   "outputs": [],
   "source": [
    "df = pd.read_sql(\"select * from EBAY_TOP_BERLIN where record_time in (select distinct record_time from EBAY_TOP_BERLIN order by record_time desc limit 2)\", sqlite3.connect(\"UsedObjects.db\"))"
   ]
  },
  {
   "cell_type": "code",
   "execution_count": 5,
   "id": "popular-active",
   "metadata": {
    "execution": {
     "iopub.execute_input": "2021-12-17T03:00:11.516168Z",
     "iopub.status.busy": "2021-12-17T03:00:11.501404Z",
     "iopub.status.idle": "2021-12-17T03:00:11.536842Z",
     "shell.execute_reply": "2021-12-17T03:00:11.538446Z"
    },
    "papermill": {
     "duration": 0.079656,
     "end_time": "2021-12-17T03:00:11.538991",
     "exception": false,
     "start_time": "2021-12-17T03:00:11.459335",
     "status": "completed"
    },
    "tags": []
   },
   "outputs": [],
   "source": [
    "df_pivot = df.pivot_table(index=\"PRODUCT\", columns = \"RECORD_TIME\", values = \"LISTING_COUNT\")"
   ]
  },
  {
   "cell_type": "code",
   "execution_count": 6,
   "id": "union-huntington",
   "metadata": {
    "execution": {
     "iopub.execute_input": "2021-12-17T03:00:11.600642Z",
     "iopub.status.busy": "2021-12-17T03:00:11.598430Z",
     "iopub.status.idle": "2021-12-17T03:00:11.605610Z",
     "shell.execute_reply": "2021-12-17T03:00:11.604145Z"
    },
    "papermill": {
     "duration": 0.04358,
     "end_time": "2021-12-17T03:00:11.606010",
     "exception": false,
     "start_time": "2021-12-17T03:00:11.562430",
     "status": "completed"
    },
    "tags": []
   },
   "outputs": [],
   "source": [
    "df_pivot.columns = [\"stamp_1\", \"stamp_2\"]\n",
    "df_pivot_diff = df_pivot.diff(axis=1)"
   ]
  },
  {
   "cell_type": "code",
   "execution_count": 7,
   "id": "fifth-motion",
   "metadata": {
    "execution": {
     "iopub.execute_input": "2021-12-17T03:00:11.661938Z",
     "iopub.status.busy": "2021-12-17T03:00:11.659414Z",
     "iopub.status.idle": "2021-12-17T03:00:13.629742Z",
     "shell.execute_reply": "2021-12-17T03:00:13.631099Z"
    },
    "papermill": {
     "duration": 2.005314,
     "end_time": "2021-12-17T03:00:13.631529",
     "exception": false,
     "start_time": "2021-12-17T03:00:11.626215",
     "status": "completed"
    },
    "tags": []
   },
   "outputs": [
    {
     "data": {
      "text/plain": [
       "<AxesSubplot:ylabel='PRODUCT'>"
      ]
     },
     "execution_count": 7,
     "metadata": {},
     "output_type": "execute_result"
    },
    {
     "data": {
      "image/png": "[encoded data removed]",
      "text/plain": [
       "<Figure size 432x288 with 1 Axes>"
      ]
     },
     "metadata": {
      "needs_background": "light"
     },
     "output_type": "display_data"
    }
   ],
   "source": [
    "df_pivot_diff.sort_values(\"stamp_2\", ascending = False)[\"stamp_2\"].head(10).plot.barh()"
   ]
  },
  {
   "cell_type": "code",
   "execution_count": null,
   "id": "extra-executive",
   "metadata": {
    "papermill": {
     "duration": 0.026728,
     "end_time": "2021-12-17T03:00:13.690830",
     "exception": false,
     "start_time": "2021-12-17T03:00:13.664102",
     "status": "completed"
    },
    "tags": []
   },
   "outputs": [],
   "source": []
  }
 ],
 "metadata": {
  "kernelspec": {
   "display_name": "Python 3",
   "language": "python",
   "name": "python3"
  },
  "language_info": {
   "codemirror_mode": {
    "name": "ipython",
    "version": 3
   },
   "file_extension": ".py",
   "mimetype": "text/x-python",
   "name": "python",
   "nbconvert_exporter": "python",
   "pygments_lexer": "ipython3",
   "version": "3.9.5"
  },
  "papermill": {
   "default_parameters": {},
   "duration": 9.518704,
   "end_time": "2021-12-17T03:00:14.347247",
   "environment_variables": {},
   "exception": null,
   "input_path": "eBay_Overview.ipynb",
   "output_path": "eBay_Overview.ipynb",
   "parameters": {},
   "start_time": "2021-12-17T03:00:04.828543",
   "version": "2.3.3"
  }
 },
 "nbformat": 4,
 "nbformat_minor": 5
}