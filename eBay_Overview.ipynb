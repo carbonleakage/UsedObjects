{
 "cells": [
  {
   "cell_type": "code",
   "execution_count": 1,
   "id": "reverse-picking",
   "metadata": {
    "execution": {
     "iopub.execute_input": "2021-12-18T04:00:07.369930Z",
     "iopub.status.busy": "2021-12-18T04:00:07.367276Z",
     "iopub.status.idle": "2021-12-18T04:00:08.323696Z",
     "shell.execute_reply": "2021-12-18T04:00:08.325974Z"
    },
    "papermill": {
     "duration": 1.009814,
     "end_time": "2021-12-18T04:00:08.326706",
     "exception": false,
     "start_time": "2021-12-18T04:00:07.316892",
     "status": "completed"
    },
    "tags": []
   },
   "outputs": [],
   "source": [
    "import pandas as pd\n",
    "import sqlite3"
   ]
  },
  {
   "cell_type": "code",
   "execution_count": 2,
   "id": "innovative-syndrome",
   "metadata": {
    "execution": {
     "iopub.execute_input": "2021-12-18T04:00:08.390358Z",
     "iopub.status.busy": "2021-12-18T04:00:08.387973Z",
     "iopub.status.idle": "2021-12-18T04:00:09.505324Z",
     "shell.execute_reply": "2021-12-18T04:00:09.506577Z"
    },
    "papermill": {
     "duration": 1.150931,
     "end_time": "2021-12-18T04:00:09.506984",
     "exception": false,
     "start_time": "2021-12-18T04:00:08.356053",
     "status": "completed"
    },
    "tags": []
   },
   "outputs": [],
   "source": [
    "timestamps = pd.read_sql(\"select distinct record_time from EBAY_TOP_BERLIN order by record_time desc limit 2\", sqlite3.connect(\"UsedObjects.db\"))"
   ]
  },
  {
   "cell_type": "code",
   "execution_count": 3,
   "id": "periodic-identification",
   "metadata": {
    "execution": {
     "iopub.execute_input": "2021-12-18T04:00:09.572750Z",
     "iopub.status.busy": "2021-12-18T04:00:09.570663Z",
     "iopub.status.idle": "2021-12-18T04:00:09.590288Z",
     "shell.execute_reply": "2021-12-18T04:00:09.591508Z"
    },
    "papermill": {
     "duration": 0.064312,
     "end_time": "2021-12-18T04:00:09.591911",
     "exception": false,
     "start_time": "2021-12-18T04:00:09.527599",
     "status": "completed"
    },
    "tags": []
   },
   "outputs": [
    {
     "data": {
      "text/html": [
       "<div>\n",
       "<style scoped>\n",
       "    .dataframe tbody tr th:only-of-type {\n",
       "        vertical-align: middle;\n",
       "    }\n",
       "\n",
       "    .dataframe tbody tr th {\n",
       "        vertical-align: top;\n",
       "    }\n",
       "\n",
       "    .dataframe thead th {\n",
       "        text-align: right;\n",
       "    }\n",
       "</style>\n",
       "<table border=\"1\" class=\"dataframe\">\n",
       "  <thead>\n",
       "    <tr style=\"text-align: right;\">\n",
       "      <th></th>\n",
       "      <th>RECORD_TIME</th>\n",
       "    </tr>\n",
       "  </thead>\n",
       "  <tbody>\n",
       "    <tr>\n",
       "      <th>0</th>\n",
       "      <td>2021-12-18 05:00</td>\n",
       "    </tr>\n",
       "    <tr>\n",
       "      <th>1</th>\n",
       "      <td>2021-12-18 04:30</td>\n",
       "    </tr>\n",
       "  </tbody>\n",
       "</table>\n",
       "</div>"
      ],
      "text/plain": [
       "        RECORD_TIME\n",
       "0  2021-12-18 05:00\n",
       "1  2021-12-18 04:30"
      ]
     },
     "execution_count": 3,
     "metadata": {},
     "output_type": "execute_result"
    }
   ],
   "source": [
    "timestamps"
   ]
  },
  {
   "cell_type": "code",
   "execution_count": 4,
   "id": "alternate-victory",
   "metadata": {
    "execution": {
     "iopub.execute_input": "2021-12-18T04:00:09.645188Z",
     "iopub.status.busy": "2021-12-18T04:00:09.642821Z",
     "iopub.status.idle": "2021-12-18T04:00:11.284598Z",
     "shell.execute_reply": "2021-12-18T04:00:11.286704Z"
    },
    "papermill": {
     "duration": 1.672921,
     "end_time": "2021-12-18T04:00:11.287187",
     "exception": false,
     "start_time": "2021-12-18T04:00:09.614266",
     "status": "completed"
    },
    "tags": []
   },
   "outputs": [],
   "source": [
    "df = pd.read_sql(\"select * from EBAY_TOP_BERLIN where record_time in (select distinct record_time from EBAY_TOP_BERLIN order by record_time desc limit 2)\", sqlite3.connect(\"UsedObjects.db\"))"
   ]
  },
  {
   "cell_type": "code",
   "execution_count": 5,
   "id": "popular-active",
   "metadata": {
    "execution": {
     "iopub.execute_input": "2021-12-18T04:00:11.345922Z",
     "iopub.status.busy": "2021-12-18T04:00:11.343682Z",
     "iopub.status.idle": "2021-12-18T04:00:11.382998Z",
     "shell.execute_reply": "2021-12-18T04:00:11.381530Z"
    },
    "papermill": {
     "duration": 0.074387,
     "end_time": "2021-12-18T04:00:11.383410",
     "exception": false,
     "start_time": "2021-12-18T04:00:11.309023",
     "status": "completed"
    },
    "tags": []
   },
   "outputs": [],
   "source": [
    "df_pivot = df.pivot_table(index=\"PRODUCT\", columns = \"RECORD_TIME\", values = \"LISTING_COUNT\")"
   ]
  },
  {
   "cell_type": "code",
   "execution_count": 6,
   "id": "union-huntington",
   "metadata": {
    "execution": {
     "iopub.execute_input": "2021-12-18T04:00:11.441881Z",
     "iopub.status.busy": "2021-12-18T04:00:11.439648Z",
     "iopub.status.idle": "2021-12-18T04:00:11.444755Z",
     "shell.execute_reply": "2021-12-18T04:00:11.446572Z"
    },
    "papermill": {
     "duration": 0.043945,
     "end_time": "2021-12-18T04:00:11.447044",
     "exception": false,
     "start_time": "2021-12-18T04:00:11.403099",
     "status": "completed"
    },
    "tags": []
   },
   "outputs": [],
   "source": [
    "df_pivot.columns = [\"stamp_1\", \"stamp_2\"]\n",
    "df_pivot_diff = df_pivot.diff(axis=1)"
   ]
  },
  {
   "cell_type": "code",
   "execution_count": 7,
   "id": "fifth-motion",
   "metadata": {
    "execution": {
     "iopub.execute_input": "2021-12-18T04:00:11.507546Z",
     "iopub.status.busy": "2021-12-18T04:00:11.505078Z",
     "iopub.status.idle": "2021-12-18T04:00:13.509745Z",
     "shell.execute_reply": "2021-12-18T04:00:13.511069Z"
    },
    "papermill": {
     "duration": 2.042059,
     "end_time": "2021-12-18T04:00:13.511498",
     "exception": false,
     "start_time": "2021-12-18T04:00:11.469439",
     "status": "completed"
    },
    "tags": []
   },
   "outputs": [
    {
     "data": {
      "text/plain": [
       "<AxesSubplot:ylabel='PRODUCT'>"
      ]
     },
     "execution_count": 7,
     "metadata": {},
     "output_type": "execute_result"
    },
    {
     "data": {
      "image/png": "[encoded data removed]",
      "text/plain": [
       "<Figure size 432x288 with 1 Axes>"
      ]
     },
     "metadata": {
      "needs_background": "light"
     },
     "output_type": "display_data"
    }
   ],
   "source": [
    "df_pivot_diff.sort_values(\"stamp_2\", ascending = False)[\"stamp_2\"].head(10).plot.barh()"
   ]
  },
  {
   "cell_type": "code",
   "execution_count": null,
   "id": "extra-executive",
   "metadata": {
    "papermill": {
     "duration": 0.022046,
     "end_time": "2021-12-18T04:00:13.557213",
     "exception": false,
     "start_time": "2021-12-18T04:00:13.535167",
     "status": "completed"
    },
    "tags": []
   },
   "outputs": [],
   "source": []
  }
 ],
 "metadata": {
  "kernelspec": {
   "display_name": "Python 3",
   "language": "python",
   "name": "python3"
  },
  "language_info": {
   "codemirror_mode": {
    "name": "ipython",
    "version": 3
   },
   "file_extension": ".py",
   "mimetype": "text/x-python",
   "name": "python",
   "nbconvert_exporter": "python",
   "pygments_lexer": "ipython3",
   "version": "3.9.5"
  },
  "papermill": {
   "default_parameters": {},
   "duration": 9.621831,
   "end_time": "2021-12-18T04:00:14.199433",
   "environment_variables": {},
   "exception": null,
   "input_path": "eBay_Overview.ipynb",
   "output_path": "eBay_Overview.ipynb",
   "parameters": {},
   "start_time": "2021-12-18T04:00:04.577602",
   "version": "2.3.3"
  }
 },
 "nbformat": 4,
 "nbformat_minor": 5
}