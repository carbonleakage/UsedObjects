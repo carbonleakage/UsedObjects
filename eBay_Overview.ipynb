{
 "cells": [
  {
   "cell_type": "code",
   "execution_count": 1,
   "id": "reverse-picking",
   "metadata": {
    "execution": {
     "iopub.execute_input": "2021-09-13T12:00:06.860986Z",
     "iopub.status.busy": "2021-09-13T12:00:06.859028Z",
     "iopub.status.idle": "2021-09-13T12:00:07.666090Z",
     "shell.execute_reply": "2021-09-13T12:00:07.664542Z"
    },
    "papermill": {
     "duration": 0.858438,
     "end_time": "2021-09-13T12:00:07.666481",
     "exception": false,
     "start_time": "2021-09-13T12:00:06.808043",
     "status": "completed"
    },
    "tags": []
   },
   "outputs": [],
   "source": [
    "import pandas as pd\n",
    "import sqlite3"
   ]
  },
  {
   "cell_type": "code",
   "execution_count": 2,
   "id": "innovative-syndrome",
   "metadata": {
    "execution": {
     "iopub.execute_input": "2021-09-13T12:00:07.717619Z",
     "iopub.status.busy": "2021-09-13T12:00:07.715745Z",
     "iopub.status.idle": "2021-09-13T12:00:07.988556Z",
     "shell.execute_reply": "2021-09-13T12:00:07.989753Z"
    },
    "papermill": {
     "duration": 0.302219,
     "end_time": "2021-09-13T12:00:07.990148",
     "exception": false,
     "start_time": "2021-09-13T12:00:07.687929",
     "status": "completed"
    },
    "tags": []
   },
   "outputs": [],
   "source": [
    "timestamps = pd.read_sql(\"select distinct record_time from EBAY_TOP_BERLIN order by record_time desc limit 2\", sqlite3.connect(\"UsedObjects.db\"))"
   ]
  },
  {
   "cell_type": "code",
   "execution_count": 3,
   "id": "periodic-identification",
   "metadata": {
    "execution": {
     "iopub.execute_input": "2021-09-13T12:00:08.053919Z",
     "iopub.status.busy": "2021-09-13T12:00:08.051927Z",
     "iopub.status.idle": "2021-09-13T12:00:08.073289Z",
     "shell.execute_reply": "2021-09-13T12:00:08.074569Z"
    },
    "papermill": {
     "duration": 0.066031,
     "end_time": "2021-09-13T12:00:08.075188",
     "exception": false,
     "start_time": "2021-09-13T12:00:08.009157",
     "status": "completed"
    },
    "tags": []
   },
   "outputs": [
    {
     "data": {
      "text/html": [
       "<div>\n",
       "<style scoped>\n",
       "    .dataframe tbody tr th:only-of-type {\n",
       "        vertical-align: middle;\n",
       "    }\n",
       "\n",
       "    .dataframe tbody tr th {\n",
       "        vertical-align: top;\n",
       "    }\n",
       "\n",
       "    .dataframe thead th {\n",
       "        text-align: right;\n",
       "    }\n",
       "</style>\n",
       "<table border=\"1\" class=\"dataframe\">\n",
       "  <thead>\n",
       "    <tr style=\"text-align: right;\">\n",
       "      <th></th>\n",
       "      <th>RECORD_TIME</th>\n",
       "    </tr>\n",
       "  </thead>\n",
       "  <tbody>\n",
       "    <tr>\n",
       "      <th>0</th>\n",
       "      <td>2021-09-13 14:00</td>\n",
       "    </tr>\n",
       "    <tr>\n",
       "      <th>1</th>\n",
       "      <td>2021-09-13 13:30</td>\n",
       "    </tr>\n",
       "  </tbody>\n",
       "</table>\n",
       "</div>"
      ],
      "text/plain": [
       "        RECORD_TIME\n",
       "0  2021-09-13 14:00\n",
       "1  2021-09-13 13:30"
      ]
     },
     "execution_count": 3,
     "metadata": {},
     "output_type": "execute_result"
    }
   ],
   "source": [
    "timestamps"
   ]
  },
  {
   "cell_type": "code",
   "execution_count": 4,
   "id": "alternate-victory",
   "metadata": {
    "execution": {
     "iopub.execute_input": "2021-09-13T12:00:08.128675Z",
     "iopub.status.busy": "2021-09-13T12:00:08.126284Z",
     "iopub.status.idle": "2021-09-13T12:00:08.543161Z",
     "shell.execute_reply": "2021-09-13T12:00:08.544565Z"
    },
    "papermill": {
     "duration": 0.447381,
     "end_time": "2021-09-13T12:00:08.545005",
     "exception": false,
     "start_time": "2021-09-13T12:00:08.097624",
     "status": "completed"
    },
    "tags": []
   },
   "outputs": [],
   "source": [
    "df = pd.read_sql(\"select * from EBAY_TOP_BERLIN where record_time in (select distinct record_time from EBAY_TOP_BERLIN order by record_time desc limit 2)\", sqlite3.connect(\"UsedObjects.db\"))"
   ]
  },
  {
   "cell_type": "code",
   "execution_count": 5,
   "id": "popular-active",
   "metadata": {
    "execution": {
     "iopub.execute_input": "2021-09-13T12:00:08.625350Z",
     "iopub.status.busy": "2021-09-13T12:00:08.612302Z",
     "iopub.status.idle": "2021-09-13T12:00:08.641127Z",
     "shell.execute_reply": "2021-09-13T12:00:08.642329Z"
    },
    "papermill": {
     "duration": 0.071577,
     "end_time": "2021-09-13T12:00:08.642757",
     "exception": false,
     "start_time": "2021-09-13T12:00:08.571180",
     "status": "completed"
    },
    "tags": []
   },
   "outputs": [],
   "source": [
    "df_pivot = df.pivot_table(index=\"PRODUCT\", columns = \"RECORD_TIME\", values = \"LISTING_COUNT\")"
   ]
  },
  {
   "cell_type": "code",
   "execution_count": 6,
   "id": "union-huntington",
   "metadata": {
    "execution": {
     "iopub.execute_input": "2021-09-13T12:00:08.699893Z",
     "iopub.status.busy": "2021-09-13T12:00:08.697783Z",
     "iopub.status.idle": "2021-09-13T12:00:08.703032Z",
     "shell.execute_reply": "2021-09-13T12:00:08.704469Z"
    },
    "papermill": {
     "duration": 0.040362,
     "end_time": "2021-09-13T12:00:08.704902",
     "exception": false,
     "start_time": "2021-09-13T12:00:08.664540",
     "status": "completed"
    },
    "tags": []
   },
   "outputs": [],
   "source": [
    "df_pivot.columns = [\"stamp_1\", \"stamp_2\"]\n",
    "df_pivot_diff = df_pivot.diff(axis=1)"
   ]
  },
  {
   "cell_type": "code",
   "execution_count": 7,
   "id": "fifth-motion",
   "metadata": {
    "execution": {
     "iopub.execute_input": "2021-09-13T12:00:08.760704Z",
     "iopub.status.busy": "2021-09-13T12:00:08.758139Z",
     "iopub.status.idle": "2021-09-13T12:00:10.247837Z",
     "shell.execute_reply": "2021-09-13T12:00:10.249041Z"
    },
    "papermill": {
     "duration": 1.522478,
     "end_time": "2021-09-13T12:00:10.249471",
     "exception": false,
     "start_time": "2021-09-13T12:00:08.726993",
     "status": "completed"
    },
    "tags": []
   },
   "outputs": [
    {
     "data": {
      "text/plain": [
       "<AxesSubplot:ylabel='PRODUCT'>"
      ]
     },
     "execution_count": 7,
     "metadata": {},
     "output_type": "execute_result"
    },
    {
     "data": {
      "image/png": "[encoded data removed]",
      "text/plain": [
       "<Figure size 432x288 with 1 Axes>"
      ]
     },
     "metadata": {
      "needs_background": "light"
     },
     "output_type": "display_data"
    }
   ],
   "source": [
    "df_pivot_diff.sort_values(\"stamp_2\", ascending = False)[\"stamp_2\"].head(10).plot.barh()"
   ]
  },
  {
   "cell_type": "code",
   "execution_count": null,
   "id": "extra-executive",
   "metadata": {
    "papermill": {
     "duration": 0.022091,
     "end_time": "2021-09-13T12:00:10.297338",
     "exception": false,
     "start_time": "2021-09-13T12:00:10.275247",
     "status": "completed"
    },
    "tags": []
   },
   "outputs": [],
   "source": []
  }
 ],
 "metadata": {
  "kernelspec": {
   "display_name": "Python 3",
   "language": "python",
   "name": "python3"
  },
  "language_info": {
   "codemirror_mode": {
    "name": "ipython",
    "version": 3
   },
   "file_extension": ".py",
   "mimetype": "text/x-python",
   "name": "python",
   "nbconvert_exporter": "python",
   "pygments_lexer": "ipython3",
   "version": "3.9.5"
  },
  "papermill": {
   "default_parameters": {},
   "duration": 6.544968,
   "end_time": "2021-09-13T12:00:10.941251",
   "environment_variables": {},
   "exception": null,
   "input_path": "eBay_Overview.ipynb",
   "output_path": "eBay_Overview.ipynb",
   "parameters": {},
   "start_time": "2021-09-13T12:00:04.396283",
   "version": "2.3.3"
  }
 },
 "nbformat": 4,
 "nbformat_minor": 5
}