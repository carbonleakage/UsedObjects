{
 "cells": [
  {
   "cell_type": "code",
   "execution_count": 1,
   "id": "reverse-picking",
   "metadata": {
    "execution": {
     "iopub.execute_input": "2021-09-27T05:00:07.112511Z",
     "iopub.status.busy": "2021-09-27T05:00:07.110517Z",
     "iopub.status.idle": "2021-09-27T05:00:07.916228Z",
     "shell.execute_reply": "2021-09-27T05:00:07.917461Z"
    },
    "papermill": {
     "duration": 0.858148,
     "end_time": "2021-09-27T05:00:07.918079",
     "exception": false,
     "start_time": "2021-09-27T05:00:07.059931",
     "status": "completed"
    },
    "tags": []
   },
   "outputs": [],
   "source": [
    "import pandas as pd\n",
    "import sqlite3"
   ]
  },
  {
   "cell_type": "code",
   "execution_count": 2,
   "id": "innovative-syndrome",
   "metadata": {
    "execution": {
     "iopub.execute_input": "2021-09-27T05:00:07.968859Z",
     "iopub.status.busy": "2021-09-27T05:00:07.966998Z",
     "iopub.status.idle": "2021-09-27T05:00:08.350029Z",
     "shell.execute_reply": "2021-09-27T05:00:08.351426Z"
    },
    "papermill": {
     "duration": 0.412766,
     "end_time": "2021-09-27T05:00:08.351850",
     "exception": false,
     "start_time": "2021-09-27T05:00:07.939084",
     "status": "completed"
    },
    "tags": []
   },
   "outputs": [],
   "source": [
    "timestamps = pd.read_sql(\"select distinct record_time from EBAY_TOP_BERLIN order by record_time desc limit 2\", sqlite3.connect(\"UsedObjects.db\"))"
   ]
  },
  {
   "cell_type": "code",
   "execution_count": 3,
   "id": "periodic-identification",
   "metadata": {
    "execution": {
     "iopub.execute_input": "2021-09-27T05:00:08.420282Z",
     "iopub.status.busy": "2021-09-27T05:00:08.415465Z",
     "iopub.status.idle": "2021-09-27T05:00:08.437435Z",
     "shell.execute_reply": "2021-09-27T05:00:08.438716Z"
    },
    "papermill": {
     "duration": 0.067976,
     "end_time": "2021-09-27T05:00:08.439208",
     "exception": false,
     "start_time": "2021-09-27T05:00:08.371232",
     "status": "completed"
    },
    "tags": []
   },
   "outputs": [
    {
     "data": {
      "text/html": [
       "<div>\n",
       "<style scoped>\n",
       "    .dataframe tbody tr th:only-of-type {\n",
       "        vertical-align: middle;\n",
       "    }\n",
       "\n",
       "    .dataframe tbody tr th {\n",
       "        vertical-align: top;\n",
       "    }\n",
       "\n",
       "    .dataframe thead th {\n",
       "        text-align: right;\n",
       "    }\n",
       "</style>\n",
       "<table border=\"1\" class=\"dataframe\">\n",
       "  <thead>\n",
       "    <tr style=\"text-align: right;\">\n",
       "      <th></th>\n",
       "      <th>RECORD_TIME</th>\n",
       "    </tr>\n",
       "  </thead>\n",
       "  <tbody>\n",
       "    <tr>\n",
       "      <th>0</th>\n",
       "      <td>2021-09-27 07:00</td>\n",
       "    </tr>\n",
       "    <tr>\n",
       "      <th>1</th>\n",
       "      <td>2021-09-27 06:30</td>\n",
       "    </tr>\n",
       "  </tbody>\n",
       "</table>\n",
       "</div>"
      ],
      "text/plain": [
       "        RECORD_TIME\n",
       "0  2021-09-27 07:00\n",
       "1  2021-09-27 06:30"
      ]
     },
     "execution_count": 3,
     "metadata": {},
     "output_type": "execute_result"
    }
   ],
   "source": [
    "timestamps"
   ]
  },
  {
   "cell_type": "code",
   "execution_count": 4,
   "id": "alternate-victory",
   "metadata": {
    "execution": {
     "iopub.execute_input": "2021-09-27T05:00:08.491496Z",
     "iopub.status.busy": "2021-09-27T05:00:08.489272Z",
     "iopub.status.idle": "2021-09-27T05:00:09.070137Z",
     "shell.execute_reply": "2021-09-27T05:00:09.071416Z"
    },
    "papermill": {
     "duration": 0.61143,
     "end_time": "2021-09-27T05:00:09.071828",
     "exception": false,
     "start_time": "2021-09-27T05:00:08.460398",
     "status": "completed"
    },
    "tags": []
   },
   "outputs": [],
   "source": [
    "df = pd.read_sql(\"select * from EBAY_TOP_BERLIN where record_time in (select distinct record_time from EBAY_TOP_BERLIN order by record_time desc limit 2)\", sqlite3.connect(\"UsedObjects.db\"))"
   ]
  },
  {
   "cell_type": "code",
   "execution_count": 5,
   "id": "popular-active",
   "metadata": {
    "execution": {
     "iopub.execute_input": "2021-09-27T05:00:09.135111Z",
     "iopub.status.busy": "2021-09-27T05:00:09.132834Z",
     "iopub.status.idle": "2021-09-27T05:00:09.160326Z",
     "shell.execute_reply": "2021-09-27T05:00:09.161528Z"
    },
    "papermill": {
     "duration": 0.067395,
     "end_time": "2021-09-27T05:00:09.161927",
     "exception": false,
     "start_time": "2021-09-27T05:00:09.094532",
     "status": "completed"
    },
    "tags": []
   },
   "outputs": [],
   "source": [
    "df_pivot = df.pivot_table(index=\"PRODUCT\", columns = \"RECORD_TIME\", values = \"LISTING_COUNT\")"
   ]
  },
  {
   "cell_type": "code",
   "execution_count": 6,
   "id": "union-huntington",
   "metadata": {
    "execution": {
     "iopub.execute_input": "2021-09-27T05:00:09.218751Z",
     "iopub.status.busy": "2021-09-27T05:00:09.216698Z",
     "iopub.status.idle": "2021-09-27T05:00:09.221742Z",
     "shell.execute_reply": "2021-09-27T05:00:09.223137Z"
    },
    "papermill": {
     "duration": 0.04017,
     "end_time": "2021-09-27T05:00:09.223589",
     "exception": false,
     "start_time": "2021-09-27T05:00:09.183419",
     "status": "completed"
    },
    "tags": []
   },
   "outputs": [],
   "source": [
    "df_pivot.columns = [\"stamp_1\", \"stamp_2\"]\n",
    "df_pivot_diff = df_pivot.diff(axis=1)"
   ]
  },
  {
   "cell_type": "code",
   "execution_count": 7,
   "id": "fifth-motion",
   "metadata": {
    "execution": {
     "iopub.execute_input": "2021-09-27T05:00:09.277368Z",
     "iopub.status.busy": "2021-09-27T05:00:09.274932Z",
     "iopub.status.idle": "2021-09-27T05:00:10.798471Z",
     "shell.execute_reply": "2021-09-27T05:00:10.799723Z"
    },
    "papermill": {
     "duration": 1.556116,
     "end_time": "2021-09-27T05:00:10.800165",
     "exception": false,
     "start_time": "2021-09-27T05:00:09.244049",
     "status": "completed"
    },
    "tags": []
   },
   "outputs": [
    {
     "data": {
      "text/plain": [
       "<AxesSubplot:ylabel='PRODUCT'>"
      ]
     },
     "execution_count": 7,
     "metadata": {},
     "output_type": "execute_result"
    },
    {
     "data": {
      "image/png": "[encoded data removed]",
      "text/plain": [
       "<Figure size 432x288 with 1 Axes>"
      ]
     },
     "metadata": {
      "needs_background": "light"
     },
     "output_type": "display_data"
    }
   ],
   "source": [
    "df_pivot_diff.sort_values(\"stamp_2\", ascending = False)[\"stamp_2\"].head(10).plot.barh()"
   ]
  },
  {
   "cell_type": "code",
   "execution_count": null,
   "id": "extra-executive",
   "metadata": {
    "papermill": {
     "duration": 0.022223,
     "end_time": "2021-09-27T05:00:10.846264",
     "exception": false,
     "start_time": "2021-09-27T05:00:10.824041",
     "status": "completed"
    },
    "tags": []
   },
   "outputs": [],
   "source": []
  }
 ],
 "metadata": {
  "kernelspec": {
   "display_name": "Python 3",
   "language": "python",
   "name": "python3"
  },
  "language_info": {
   "codemirror_mode": {
    "name": "ipython",
    "version": 3
   },
   "file_extension": ".py",
   "mimetype": "text/x-python",
   "name": "python",
   "nbconvert_exporter": "python",
   "pygments_lexer": "ipython3",
   "version": "3.9.5"
  },
  "papermill": {
   "default_parameters": {},
   "duration": 7.829565,
   "end_time": "2021-09-27T05:00:12.482382",
   "environment_variables": {},
   "exception": null,
   "input_path": "eBay_Overview.ipynb",
   "output_path": "eBay_Overview.ipynb",
   "parameters": {},
   "start_time": "2021-09-27T05:00:04.652817",
   "version": "2.3.3"
  }
 },
 "nbformat": 4,
 "nbformat_minor": 5
}