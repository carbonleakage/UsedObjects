{
 "cells": [
  {
   "cell_type": "code",
   "execution_count": 1,
   "id": "reverse-picking",
   "metadata": {
    "execution": {
     "iopub.execute_input": "2021-12-18T12:30:07.481494Z",
     "iopub.status.busy": "2021-12-18T12:30:07.479164Z",
     "iopub.status.idle": "2021-12-18T12:30:08.432590Z",
     "shell.execute_reply": "2021-12-18T12:30:08.434364Z"
    },
    "papermill": {
     "duration": 1.004356,
     "end_time": "2021-12-18T12:30:08.435090",
     "exception": false,
     "start_time": "2021-12-18T12:30:07.430734",
     "status": "completed"
    },
    "tags": []
   },
   "outputs": [],
   "source": [
    "import pandas as pd\n",
    "import sqlite3"
   ]
  },
  {
   "cell_type": "code",
   "execution_count": 2,
   "id": "innovative-syndrome",
   "metadata": {
    "execution": {
     "iopub.execute_input": "2021-12-18T12:30:08.550954Z",
     "iopub.status.busy": "2021-12-18T12:30:08.548579Z",
     "iopub.status.idle": "2021-12-18T12:30:09.656317Z",
     "shell.execute_reply": "2021-12-18T12:30:09.657789Z"
    },
    "papermill": {
     "duration": 1.141515,
     "end_time": "2021-12-18T12:30:09.658307",
     "exception": false,
     "start_time": "2021-12-18T12:30:08.516792",
     "status": "completed"
    },
    "tags": []
   },
   "outputs": [],
   "source": [
    "timestamps = pd.read_sql(\"select distinct record_time from EBAY_TOP_BERLIN order by record_time desc limit 2\", sqlite3.connect(\"UsedObjects.db\"))"
   ]
  },
  {
   "cell_type": "code",
   "execution_count": 3,
   "id": "periodic-identification",
   "metadata": {
    "execution": {
     "iopub.execute_input": "2021-12-18T12:30:09.719791Z",
     "iopub.status.busy": "2021-12-18T12:30:09.717761Z",
     "iopub.status.idle": "2021-12-18T12:30:09.766303Z",
     "shell.execute_reply": "2021-12-18T12:30:09.769299Z"
    },
    "papermill": {
     "duration": 0.091393,
     "end_time": "2021-12-18T12:30:09.769923",
     "exception": false,
     "start_time": "2021-12-18T12:30:09.678530",
     "status": "completed"
    },
    "tags": []
   },
   "outputs": [
    {
     "data": {
      "text/html": [
       "<div>\n",
       "<style scoped>\n",
       "    .dataframe tbody tr th:only-of-type {\n",
       "        vertical-align: middle;\n",
       "    }\n",
       "\n",
       "    .dataframe tbody tr th {\n",
       "        vertical-align: top;\n",
       "    }\n",
       "\n",
       "    .dataframe thead th {\n",
       "        text-align: right;\n",
       "    }\n",
       "</style>\n",
       "<table border=\"1\" class=\"dataframe\">\n",
       "  <thead>\n",
       "    <tr style=\"text-align: right;\">\n",
       "      <th></th>\n",
       "      <th>RECORD_TIME</th>\n",
       "    </tr>\n",
       "  </thead>\n",
       "  <tbody>\n",
       "    <tr>\n",
       "      <th>0</th>\n",
       "      <td>2021-12-18 13:30</td>\n",
       "    </tr>\n",
       "    <tr>\n",
       "      <th>1</th>\n",
       "      <td>2021-12-18 13:00</td>\n",
       "    </tr>\n",
       "  </tbody>\n",
       "</table>\n",
       "</div>"
      ],
      "text/plain": [
       "        RECORD_TIME\n",
       "0  2021-12-18 13:30\n",
       "1  2021-12-18 13:00"
      ]
     },
     "execution_count": 3,
     "metadata": {},
     "output_type": "execute_result"
    }
   ],
   "source": [
    "timestamps"
   ]
  },
  {
   "cell_type": "code",
   "execution_count": 4,
   "id": "alternate-victory",
   "metadata": {
    "execution": {
     "iopub.execute_input": "2021-12-18T12:30:09.826851Z",
     "iopub.status.busy": "2021-12-18T12:30:09.824374Z",
     "iopub.status.idle": "2021-12-18T12:30:11.412569Z",
     "shell.execute_reply": "2021-12-18T12:30:11.414057Z"
    },
    "papermill": {
     "duration": 1.621877,
     "end_time": "2021-12-18T12:30:11.414535",
     "exception": false,
     "start_time": "2021-12-18T12:30:09.792658",
     "status": "completed"
    },
    "tags": []
   },
   "outputs": [],
   "source": [
    "df = pd.read_sql(\"select * from EBAY_TOP_BERLIN where record_time in (select distinct record_time from EBAY_TOP_BERLIN order by record_time desc limit 2)\", sqlite3.connect(\"UsedObjects.db\"))"
   ]
  },
  {
   "cell_type": "code",
   "execution_count": 5,
   "id": "popular-active",
   "metadata": {
    "execution": {
     "iopub.execute_input": "2021-12-18T12:30:11.490076Z",
     "iopub.status.busy": "2021-12-18T12:30:11.475259Z",
     "iopub.status.idle": "2021-12-18T12:30:11.509392Z",
     "shell.execute_reply": "2021-12-18T12:30:11.510890Z"
    },
    "papermill": {
     "duration": 0.076222,
     "end_time": "2021-12-18T12:30:11.511377",
     "exception": false,
     "start_time": "2021-12-18T12:30:11.435155",
     "status": "completed"
    },
    "tags": []
   },
   "outputs": [],
   "source": [
    "df_pivot = df.pivot_table(index=\"PRODUCT\", columns = \"RECORD_TIME\", values = \"LISTING_COUNT\")"
   ]
  },
  {
   "cell_type": "code",
   "execution_count": 6,
   "id": "union-huntington",
   "metadata": {
    "execution": {
     "iopub.execute_input": "2021-12-18T12:30:11.573097Z",
     "iopub.status.busy": "2021-12-18T12:30:11.570792Z",
     "iopub.status.idle": "2021-12-18T12:30:11.576793Z",
     "shell.execute_reply": "2021-12-18T12:30:11.578316Z"
    },
    "papermill": {
     "duration": 0.045939,
     "end_time": "2021-12-18T12:30:11.578783",
     "exception": false,
     "start_time": "2021-12-18T12:30:11.532844",
     "status": "completed"
    },
    "tags": []
   },
   "outputs": [],
   "source": [
    "df_pivot.columns = [\"stamp_1\", \"stamp_2\"]\n",
    "df_pivot_diff = df_pivot.diff(axis=1)"
   ]
  },
  {
   "cell_type": "code",
   "execution_count": 7,
   "id": "fifth-motion",
   "metadata": {
    "execution": {
     "iopub.execute_input": "2021-12-18T12:30:11.636533Z",
     "iopub.status.busy": "2021-12-18T12:30:11.634021Z",
     "iopub.status.idle": "2021-12-18T12:30:13.622251Z",
     "shell.execute_reply": "2021-12-18T12:30:13.624071Z"
    },
    "papermill": {
     "duration": 2.025812,
     "end_time": "2021-12-18T12:30:13.625116",
     "exception": false,
     "start_time": "2021-12-18T12:30:11.599304",
     "status": "completed"
    },
    "tags": []
   },
   "outputs": [
    {
     "data": {
      "text/plain": [
       "<AxesSubplot:ylabel='PRODUCT'>"
      ]
     },
     "execution_count": 7,
     "metadata": {},
     "output_type": "execute_result"
    },
    {
     "data": {
      "image/png": "[encoded data removed]",
      "text/plain": [
       "<Figure size 432x288 with 1 Axes>"
      ]
     },
     "metadata": {
      "needs_background": "light"
     },
     "output_type": "display_data"
    }
   ],
   "source": [
    "df_pivot_diff.sort_values(\"stamp_2\", ascending = False)[\"stamp_2\"].head(10).plot.barh()"
   ]
  },
  {
   "cell_type": "code",
   "execution_count": null,
   "id": "extra-executive",
   "metadata": {
    "papermill": {
     "duration": 0.022427,
     "end_time": "2021-12-18T12:30:13.673996",
     "exception": false,
     "start_time": "2021-12-18T12:30:13.651569",
     "status": "completed"
    },
    "tags": []
   },
   "outputs": [],
   "source": []
  }
 ],
 "metadata": {
  "kernelspec": {
   "display_name": "Python 3",
   "language": "python",
   "name": "python3"
  },
  "language_info": {
   "codemirror_mode": {
    "name": "ipython",
    "version": 3
   },
   "file_extension": ".py",
   "mimetype": "text/x-python",
   "name": "python",
   "nbconvert_exporter": "python",
   "pygments_lexer": "ipython3",
   "version": "3.9.5"
  },
  "papermill": {
   "default_parameters": {},
   "duration": 9.621175,
   "end_time": "2021-12-18T12:30:14.314940",
   "environment_variables": {},
   "exception": null,
   "input_path": "eBay_Overview.ipynb",
   "output_path": "eBay_Overview.ipynb",
   "parameters": {},
   "start_time": "2021-12-18T12:30:04.693765",
   "version": "2.3.3"
  }
 },
 "nbformat": 4,
 "nbformat_minor": 5
}