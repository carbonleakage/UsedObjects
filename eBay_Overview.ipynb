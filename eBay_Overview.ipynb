{
 "cells": [
  {
   "cell_type": "code",
   "execution_count": 1,
   "id": "reverse-picking",
   "metadata": {
    "execution": {
     "iopub.execute_input": "2021-11-17T03:30:07.824562Z",
     "iopub.status.busy": "2021-11-17T03:30:07.822586Z",
     "iopub.status.idle": "2021-11-17T03:30:08.746720Z",
     "shell.execute_reply": "2021-11-17T03:30:08.748213Z"
    },
    "papermill": {
     "duration": 0.974873,
     "end_time": "2021-11-17T03:30:08.748987",
     "exception": false,
     "start_time": "2021-11-17T03:30:07.774114",
     "status": "completed"
    },
    "tags": []
   },
   "outputs": [],
   "source": [
    "import pandas as pd\n",
    "import sqlite3"
   ]
  },
  {
   "cell_type": "code",
   "execution_count": 2,
   "id": "innovative-syndrome",
   "metadata": {
    "execution": {
     "iopub.execute_input": "2021-11-17T03:30:08.813350Z",
     "iopub.status.busy": "2021-11-17T03:30:08.811013Z",
     "iopub.status.idle": "2021-11-17T03:30:09.657365Z",
     "shell.execute_reply": "2021-11-17T03:30:09.658843Z"
    },
    "papermill": {
     "duration": 0.880589,
     "end_time": "2021-11-17T03:30:09.659327",
     "exception": false,
     "start_time": "2021-11-17T03:30:08.778738",
     "status": "completed"
    },
    "tags": []
   },
   "outputs": [],
   "source": [
    "timestamps = pd.read_sql(\"select distinct record_time from EBAY_TOP_BERLIN order by record_time desc limit 2\", sqlite3.connect(\"UsedObjects.db\"))"
   ]
  },
  {
   "cell_type": "code",
   "execution_count": 3,
   "id": "periodic-identification",
   "metadata": {
    "execution": {
     "iopub.execute_input": "2021-11-17T03:30:09.732582Z",
     "iopub.status.busy": "2021-11-17T03:30:09.730317Z",
     "iopub.status.idle": "2021-11-17T03:30:09.753196Z",
     "shell.execute_reply": "2021-11-17T03:30:09.754583Z"
    },
    "papermill": {
     "duration": 0.07483,
     "end_time": "2021-11-17T03:30:09.755068",
     "exception": false,
     "start_time": "2021-11-17T03:30:09.680238",
     "status": "completed"
    },
    "tags": []
   },
   "outputs": [
    {
     "data": {
      "text/html": [
       "<div>\n",
       "<style scoped>\n",
       "    .dataframe tbody tr th:only-of-type {\n",
       "        vertical-align: middle;\n",
       "    }\n",
       "\n",
       "    .dataframe tbody tr th {\n",
       "        vertical-align: top;\n",
       "    }\n",
       "\n",
       "    .dataframe thead th {\n",
       "        text-align: right;\n",
       "    }\n",
       "</style>\n",
       "<table border=\"1\" class=\"dataframe\">\n",
       "  <thead>\n",
       "    <tr style=\"text-align: right;\">\n",
       "      <th></th>\n",
       "      <th>RECORD_TIME</th>\n",
       "    </tr>\n",
       "  </thead>\n",
       "  <tbody>\n",
       "    <tr>\n",
       "      <th>0</th>\n",
       "      <td>2021-11-17 04:30</td>\n",
       "    </tr>\n",
       "    <tr>\n",
       "      <th>1</th>\n",
       "      <td>2021-11-17 04:00</td>\n",
       "    </tr>\n",
       "  </tbody>\n",
       "</table>\n",
       "</div>"
      ],
      "text/plain": [
       "        RECORD_TIME\n",
       "0  2021-11-17 04:30\n",
       "1  2021-11-17 04:00"
      ]
     },
     "execution_count": 3,
     "metadata": {},
     "output_type": "execute_result"
    }
   ],
   "source": [
    "timestamps"
   ]
  },
  {
   "cell_type": "code",
   "execution_count": 4,
   "id": "alternate-victory",
   "metadata": {
    "execution": {
     "iopub.execute_input": "2021-11-17T03:30:09.810169Z",
     "iopub.status.busy": "2021-11-17T03:30:09.808042Z",
     "iopub.status.idle": "2021-11-17T03:30:11.066413Z",
     "shell.execute_reply": "2021-11-17T03:30:11.067650Z"
    },
    "papermill": {
     "duration": 1.291256,
     "end_time": "2021-11-17T03:30:11.068095",
     "exception": false,
     "start_time": "2021-11-17T03:30:09.776839",
     "status": "completed"
    },
    "tags": []
   },
   "outputs": [],
   "source": [
    "df = pd.read_sql(\"select * from EBAY_TOP_BERLIN where record_time in (select distinct record_time from EBAY_TOP_BERLIN order by record_time desc limit 2)\", sqlite3.connect(\"UsedObjects.db\"))"
   ]
  },
  {
   "cell_type": "code",
   "execution_count": 5,
   "id": "popular-active",
   "metadata": {
    "execution": {
     "iopub.execute_input": "2021-11-17T03:30:11.143838Z",
     "iopub.status.busy": "2021-11-17T03:30:11.130354Z",
     "iopub.status.idle": "2021-11-17T03:30:11.162126Z",
     "shell.execute_reply": "2021-11-17T03:30:11.163729Z"
    },
    "papermill": {
     "duration": 0.074462,
     "end_time": "2021-11-17T03:30:11.164269",
     "exception": false,
     "start_time": "2021-11-17T03:30:11.089807",
     "status": "completed"
    },
    "tags": []
   },
   "outputs": [],
   "source": [
    "df_pivot = df.pivot_table(index=\"PRODUCT\", columns = \"RECORD_TIME\", values = \"LISTING_COUNT\")"
   ]
  },
  {
   "cell_type": "code",
   "execution_count": 6,
   "id": "union-huntington",
   "metadata": {
    "execution": {
     "iopub.execute_input": "2021-11-17T03:30:11.226971Z",
     "iopub.status.busy": "2021-11-17T03:30:11.224535Z",
     "iopub.status.idle": "2021-11-17T03:30:11.230815Z",
     "shell.execute_reply": "2021-11-17T03:30:11.232270Z"
    },
    "papermill": {
     "duration": 0.046578,
     "end_time": "2021-11-17T03:30:11.232829",
     "exception": false,
     "start_time": "2021-11-17T03:30:11.186251",
     "status": "completed"
    },
    "tags": []
   },
   "outputs": [],
   "source": [
    "df_pivot.columns = [\"stamp_1\", \"stamp_2\"]\n",
    "df_pivot_diff = df_pivot.diff(axis=1)"
   ]
  },
  {
   "cell_type": "code",
   "execution_count": 7,
   "id": "fifth-motion",
   "metadata": {
    "execution": {
     "iopub.execute_input": "2021-11-17T03:30:11.292202Z",
     "iopub.status.busy": "2021-11-17T03:30:11.290071Z",
     "iopub.status.idle": "2021-11-17T03:30:13.239359Z",
     "shell.execute_reply": "2021-11-17T03:30:13.240733Z"
    },
    "papermill": {
     "duration": 1.98682,
     "end_time": "2021-11-17T03:30:13.241205",
     "exception": false,
     "start_time": "2021-11-17T03:30:11.254385",
     "status": "completed"
    },
    "tags": []
   },
   "outputs": [
    {
     "data": {
      "text/plain": [
       "<AxesSubplot:ylabel='PRODUCT'>"
      ]
     },
     "execution_count": 7,
     "metadata": {},
     "output_type": "execute_result"
    },
    {
     "data": {
      "image/png": "[encoded data removed]",
      "text/plain": [
       "<Figure size 432x288 with 1 Axes>"
      ]
     },
     "metadata": {
      "needs_background": "light"
     },
     "output_type": "display_data"
    }
   ],
   "source": [
    "df_pivot_diff.sort_values(\"stamp_2\", ascending = False)[\"stamp_2\"].head(10).plot.barh()"
   ]
  },
  {
   "cell_type": "code",
   "execution_count": null,
   "id": "extra-executive",
   "metadata": {
    "papermill": {
     "duration": 0.032526,
     "end_time": "2021-11-17T03:30:13.299052",
     "exception": false,
     "start_time": "2021-11-17T03:30:13.266526",
     "status": "completed"
    },
    "tags": []
   },
   "outputs": [],
   "source": []
  }
 ],
 "metadata": {
  "kernelspec": {
   "display_name": "Python 3",
   "language": "python",
   "name": "python3"
  },
  "language_info": {
   "codemirror_mode": {
    "name": "ipython",
    "version": 3
   },
   "file_extension": ".py",
   "mimetype": "text/x-python",
   "name": "python",
   "nbconvert_exporter": "python",
   "pygments_lexer": "ipython3",
   "version": "3.9.5"
  },
  "papermill": {
   "default_parameters": {},
   "duration": 9.933916,
   "end_time": "2021-11-17T03:30:14.998369",
   "environment_variables": {},
   "exception": null,
   "input_path": "eBay_Overview.ipynb",
   "output_path": "eBay_Overview.ipynb",
   "parameters": {},
   "start_time": "2021-11-17T03:30:05.064453",
   "version": "2.3.3"
  }
 },
 "nbformat": 4,
 "nbformat_minor": 5
}