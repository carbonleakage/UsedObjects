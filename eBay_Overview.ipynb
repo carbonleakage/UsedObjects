{
 "cells": [
  {
   "cell_type": "code",
   "execution_count": 1,
   "id": "reverse-picking",
   "metadata": {
    "execution": {
     "iopub.execute_input": "2021-12-09T08:30:07.962002Z",
     "iopub.status.busy": "2021-12-09T08:30:07.958445Z",
     "iopub.status.idle": "2021-12-09T08:30:08.928925Z",
     "shell.execute_reply": "2021-12-09T08:30:08.930635Z"
    },
    "papermill": {
     "duration": 1.020388,
     "end_time": "2021-12-09T08:30:08.931412",
     "exception": false,
     "start_time": "2021-12-09T08:30:07.911024",
     "status": "completed"
    },
    "tags": []
   },
   "outputs": [],
   "source": [
    "import pandas as pd\n",
    "import sqlite3"
   ]
  },
  {
   "cell_type": "code",
   "execution_count": 2,
   "id": "innovative-syndrome",
   "metadata": {
    "execution": {
     "iopub.execute_input": "2021-12-09T08:30:08.994547Z",
     "iopub.status.busy": "2021-12-09T08:30:08.992087Z",
     "iopub.status.idle": "2021-12-09T08:30:10.013184Z",
     "shell.execute_reply": "2021-12-09T08:30:10.014853Z"
    },
    "papermill": {
     "duration": 1.057334,
     "end_time": "2021-12-09T08:30:10.015356",
     "exception": false,
     "start_time": "2021-12-09T08:30:08.958022",
     "status": "completed"
    },
    "tags": []
   },
   "outputs": [],
   "source": [
    "timestamps = pd.read_sql(\"select distinct record_time from EBAY_TOP_BERLIN order by record_time desc limit 2\", sqlite3.connect(\"UsedObjects.db\"))"
   ]
  },
  {
   "cell_type": "code",
   "execution_count": 3,
   "id": "periodic-identification",
   "metadata": {
    "execution": {
     "iopub.execute_input": "2021-12-09T08:30:10.088869Z",
     "iopub.status.busy": "2021-12-09T08:30:10.083322Z",
     "iopub.status.idle": "2021-12-09T08:30:10.105217Z",
     "shell.execute_reply": "2021-12-09T08:30:10.107160Z"
    },
    "papermill": {
     "duration": 0.070795,
     "end_time": "2021-12-09T08:30:10.108011",
     "exception": false,
     "start_time": "2021-12-09T08:30:10.037216",
     "status": "completed"
    },
    "tags": []
   },
   "outputs": [
    {
     "data": {
      "text/html": [
       "<div>\n",
       "<style scoped>\n",
       "    .dataframe tbody tr th:only-of-type {\n",
       "        vertical-align: middle;\n",
       "    }\n",
       "\n",
       "    .dataframe tbody tr th {\n",
       "        vertical-align: top;\n",
       "    }\n",
       "\n",
       "    .dataframe thead th {\n",
       "        text-align: right;\n",
       "    }\n",
       "</style>\n",
       "<table border=\"1\" class=\"dataframe\">\n",
       "  <thead>\n",
       "    <tr style=\"text-align: right;\">\n",
       "      <th></th>\n",
       "      <th>RECORD_TIME</th>\n",
       "    </tr>\n",
       "  </thead>\n",
       "  <tbody>\n",
       "    <tr>\n",
       "      <th>0</th>\n",
       "      <td>2021-12-09 09:30</td>\n",
       "    </tr>\n",
       "    <tr>\n",
       "      <th>1</th>\n",
       "      <td>2021-12-09 09:00</td>\n",
       "    </tr>\n",
       "  </tbody>\n",
       "</table>\n",
       "</div>"
      ],
      "text/plain": [
       "        RECORD_TIME\n",
       "0  2021-12-09 09:30\n",
       "1  2021-12-09 09:00"
      ]
     },
     "execution_count": 3,
     "metadata": {},
     "output_type": "execute_result"
    }
   ],
   "source": [
    "timestamps"
   ]
  },
  {
   "cell_type": "code",
   "execution_count": 4,
   "id": "alternate-victory",
   "metadata": {
    "execution": {
     "iopub.execute_input": "2021-12-09T08:30:10.161791Z",
     "iopub.status.busy": "2021-12-09T08:30:10.159519Z",
     "iopub.status.idle": "2021-12-09T08:30:11.637778Z",
     "shell.execute_reply": "2021-12-09T08:30:11.639279Z"
    },
    "papermill": {
     "duration": 1.511519,
     "end_time": "2021-12-09T08:30:11.639761",
     "exception": false,
     "start_time": "2021-12-09T08:30:10.128242",
     "status": "completed"
    },
    "tags": []
   },
   "outputs": [],
   "source": [
    "df = pd.read_sql(\"select * from EBAY_TOP_BERLIN where record_time in (select distinct record_time from EBAY_TOP_BERLIN order by record_time desc limit 2)\", sqlite3.connect(\"UsedObjects.db\"))"
   ]
  },
  {
   "cell_type": "code",
   "execution_count": 5,
   "id": "popular-active",
   "metadata": {
    "execution": {
     "iopub.execute_input": "2021-12-09T08:30:11.703505Z",
     "iopub.status.busy": "2021-12-09T08:30:11.700933Z",
     "iopub.status.idle": "2021-12-09T08:30:11.764469Z",
     "shell.execute_reply": "2021-12-09T08:30:11.767540Z"
    },
    "papermill": {
     "duration": 0.108201,
     "end_time": "2021-12-09T08:30:11.768403",
     "exception": false,
     "start_time": "2021-12-09T08:30:11.660202",
     "status": "completed"
    },
    "tags": []
   },
   "outputs": [],
   "source": [
    "df_pivot = df.pivot_table(index=\"PRODUCT\", columns = \"RECORD_TIME\", values = \"LISTING_COUNT\")"
   ]
  },
  {
   "cell_type": "code",
   "execution_count": 6,
   "id": "union-huntington",
   "metadata": {
    "execution": {
     "iopub.execute_input": "2021-12-09T08:30:11.860396Z",
     "iopub.status.busy": "2021-12-09T08:30:11.856807Z",
     "iopub.status.idle": "2021-12-09T08:30:11.871041Z",
     "shell.execute_reply": "2021-12-09T08:30:11.867857Z"
    },
    "papermill": {
     "duration": 0.07294,
     "end_time": "2021-12-09T08:30:11.871785",
     "exception": false,
     "start_time": "2021-12-09T08:30:11.798845",
     "status": "completed"
    },
    "tags": []
   },
   "outputs": [],
   "source": [
    "df_pivot.columns = [\"stamp_1\", \"stamp_2\"]\n",
    "df_pivot_diff = df_pivot.diff(axis=1)"
   ]
  },
  {
   "cell_type": "code",
   "execution_count": 7,
   "id": "fifth-motion",
   "metadata": {
    "execution": {
     "iopub.execute_input": "2021-12-09T08:30:11.962082Z",
     "iopub.status.busy": "2021-12-09T08:30:11.957582Z",
     "iopub.status.idle": "2021-12-09T08:30:13.772991Z",
     "shell.execute_reply": "2021-12-09T08:30:13.774393Z"
    },
    "papermill": {
     "duration": 1.872637,
     "end_time": "2021-12-09T08:30:13.774853",
     "exception": false,
     "start_time": "2021-12-09T08:30:11.902216",
     "status": "completed"
    },
    "tags": []
   },
   "outputs": [
    {
     "data": {
      "text/plain": [
       "<AxesSubplot:ylabel='PRODUCT'>"
      ]
     },
     "execution_count": 7,
     "metadata": {},
     "output_type": "execute_result"
    },
    {
     "data": {
      "image/png": "[encoded data removed]",
      "text/plain": [
       "<Figure size 432x288 with 1 Axes>"
      ]
     },
     "metadata": {
      "needs_background": "light"
     },
     "output_type": "display_data"
    }
   ],
   "source": [
    "df_pivot_diff.sort_values(\"stamp_2\", ascending = False)[\"stamp_2\"].head(10).plot.barh()"
   ]
  },
  {
   "cell_type": "code",
   "execution_count": null,
   "id": "extra-executive",
   "metadata": {
    "papermill": {
     "duration": 0.021923,
     "end_time": "2021-12-09T08:30:13.821351",
     "exception": false,
     "start_time": "2021-12-09T08:30:13.799428",
     "status": "completed"
    },
    "tags": []
   },
   "outputs": [],
   "source": []
  }
 ],
 "metadata": {
  "kernelspec": {
   "display_name": "Python 3",
   "language": "python",
   "name": "python3"
  },
  "language_info": {
   "codemirror_mode": {
    "name": "ipython",
    "version": 3
   },
   "file_extension": ".py",
   "mimetype": "text/x-python",
   "name": "python",
   "nbconvert_exporter": "python",
   "pygments_lexer": "ipython3",
   "version": "3.9.5"
  },
  "papermill": {
   "default_parameters": {},
   "duration": 9.950164,
   "end_time": "2021-12-09T08:30:15.111685",
   "environment_variables": {},
   "exception": null,
   "input_path": "eBay_Overview.ipynb",
   "output_path": "eBay_Overview.ipynb",
   "parameters": {},
   "start_time": "2021-12-09T08:30:05.161521",
   "version": "2.3.3"
  }
 },
 "nbformat": 4,
 "nbformat_minor": 5
}