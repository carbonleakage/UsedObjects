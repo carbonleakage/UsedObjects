{
 "cells": [
  {
   "cell_type": "code",
   "execution_count": 1,
   "id": "reverse-picking",
   "metadata": {
    "execution": {
     "iopub.execute_input": "2021-12-03T06:00:08.563881Z",
     "iopub.status.busy": "2021-12-03T06:00:08.561543Z",
     "iopub.status.idle": "2021-12-03T06:00:09.525320Z",
     "shell.execute_reply": "2021-12-03T06:00:09.526931Z"
    },
    "papermill": {
     "duration": 1.01272,
     "end_time": "2021-12-03T06:00:09.527650",
     "exception": false,
     "start_time": "2021-12-03T06:00:08.514930",
     "status": "completed"
    },
    "tags": []
   },
   "outputs": [],
   "source": [
    "import pandas as pd\n",
    "import sqlite3"
   ]
  },
  {
   "cell_type": "code",
   "execution_count": 2,
   "id": "innovative-syndrome",
   "metadata": {
    "execution": {
     "iopub.execute_input": "2021-12-03T06:00:09.589691Z",
     "iopub.status.busy": "2021-12-03T06:00:09.587502Z",
     "iopub.status.idle": "2021-12-03T06:00:10.581453Z",
     "shell.execute_reply": "2021-12-03T06:00:10.583403Z"
    },
    "papermill": {
     "duration": 1.028904,
     "end_time": "2021-12-03T06:00:10.583914",
     "exception": false,
     "start_time": "2021-12-03T06:00:09.555010",
     "status": "completed"
    },
    "tags": []
   },
   "outputs": [],
   "source": [
    "timestamps = pd.read_sql(\"select distinct record_time from EBAY_TOP_BERLIN order by record_time desc limit 2\", sqlite3.connect(\"UsedObjects.db\"))"
   ]
  },
  {
   "cell_type": "code",
   "execution_count": 3,
   "id": "periodic-identification",
   "metadata": {
    "execution": {
     "iopub.execute_input": "2021-12-03T06:00:10.655849Z",
     "iopub.status.busy": "2021-12-03T06:00:10.653555Z",
     "iopub.status.idle": "2021-12-03T06:00:10.676045Z",
     "shell.execute_reply": "2021-12-03T06:00:10.677558Z"
    },
    "papermill": {
     "duration": 0.072902,
     "end_time": "2021-12-03T06:00:10.678067",
     "exception": false,
     "start_time": "2021-12-03T06:00:10.605165",
     "status": "completed"
    },
    "tags": []
   },
   "outputs": [
    {
     "data": {
      "text/html": [
       "<div>\n",
       "<style scoped>\n",
       "    .dataframe tbody tr th:only-of-type {\n",
       "        vertical-align: middle;\n",
       "    }\n",
       "\n",
       "    .dataframe tbody tr th {\n",
       "        vertical-align: top;\n",
       "    }\n",
       "\n",
       "    .dataframe thead th {\n",
       "        text-align: right;\n",
       "    }\n",
       "</style>\n",
       "<table border=\"1\" class=\"dataframe\">\n",
       "  <thead>\n",
       "    <tr style=\"text-align: right;\">\n",
       "      <th></th>\n",
       "      <th>RECORD_TIME</th>\n",
       "    </tr>\n",
       "  </thead>\n",
       "  <tbody>\n",
       "    <tr>\n",
       "      <th>0</th>\n",
       "      <td>2021-12-03 07:00</td>\n",
       "    </tr>\n",
       "    <tr>\n",
       "      <th>1</th>\n",
       "      <td>2021-12-03 06:30</td>\n",
       "    </tr>\n",
       "  </tbody>\n",
       "</table>\n",
       "</div>"
      ],
      "text/plain": [
       "        RECORD_TIME\n",
       "0  2021-12-03 07:00\n",
       "1  2021-12-03 06:30"
      ]
     },
     "execution_count": 3,
     "metadata": {},
     "output_type": "execute_result"
    }
   ],
   "source": [
    "timestamps"
   ]
  },
  {
   "cell_type": "code",
   "execution_count": 4,
   "id": "alternate-victory",
   "metadata": {
    "execution": {
     "iopub.execute_input": "2021-12-03T06:00:10.734336Z",
     "iopub.status.busy": "2021-12-03T06:00:10.731928Z",
     "iopub.status.idle": "2021-12-03T06:00:12.173432Z",
     "shell.execute_reply": "2021-12-03T06:00:12.174917Z"
    },
    "papermill": {
     "duration": 1.475675,
     "end_time": "2021-12-03T06:00:12.175384",
     "exception": false,
     "start_time": "2021-12-03T06:00:10.699709",
     "status": "completed"
    },
    "tags": []
   },
   "outputs": [],
   "source": [
    "df = pd.read_sql(\"select * from EBAY_TOP_BERLIN where record_time in (select distinct record_time from EBAY_TOP_BERLIN order by record_time desc limit 2)\", sqlite3.connect(\"UsedObjects.db\"))"
   ]
  },
  {
   "cell_type": "code",
   "execution_count": 5,
   "id": "popular-active",
   "metadata": {
    "execution": {
     "iopub.execute_input": "2021-12-03T06:00:12.272546Z",
     "iopub.status.busy": "2021-12-03T06:00:12.270241Z",
     "iopub.status.idle": "2021-12-03T06:00:12.302486Z",
     "shell.execute_reply": "2021-12-03T06:00:12.304032Z"
    },
    "papermill": {
     "duration": 0.108394,
     "end_time": "2021-12-03T06:00:12.304519",
     "exception": false,
     "start_time": "2021-12-03T06:00:12.196125",
     "status": "completed"
    },
    "tags": []
   },
   "outputs": [],
   "source": [
    "df_pivot = df.pivot_table(index=\"PRODUCT\", columns = \"RECORD_TIME\", values = \"LISTING_COUNT\")"
   ]
  },
  {
   "cell_type": "code",
   "execution_count": 6,
   "id": "union-huntington",
   "metadata": {
    "execution": {
     "iopub.execute_input": "2021-12-03T06:00:12.367852Z",
     "iopub.status.busy": "2021-12-03T06:00:12.365640Z",
     "iopub.status.idle": "2021-12-03T06:00:12.371264Z",
     "shell.execute_reply": "2021-12-03T06:00:12.373179Z"
    },
    "papermill": {
     "duration": 0.046335,
     "end_time": "2021-12-03T06:00:12.373658",
     "exception": false,
     "start_time": "2021-12-03T06:00:12.327323",
     "status": "completed"
    },
    "tags": []
   },
   "outputs": [],
   "source": [
    "df_pivot.columns = [\"stamp_1\", \"stamp_2\"]\n",
    "df_pivot_diff = df_pivot.diff(axis=1)"
   ]
  },
  {
   "cell_type": "code",
   "execution_count": 7,
   "id": "fifth-motion",
   "metadata": {
    "execution": {
     "iopub.execute_input": "2021-12-03T06:00:12.429783Z",
     "iopub.status.busy": "2021-12-03T06:00:12.427120Z",
     "iopub.status.idle": "2021-12-03T06:00:14.394366Z",
     "shell.execute_reply": "2021-12-03T06:00:14.395658Z"
    },
    "papermill": {
     "duration": 2.002863,
     "end_time": "2021-12-03T06:00:14.396080",
     "exception": false,
     "start_time": "2021-12-03T06:00:12.393217",
     "status": "completed"
    },
    "tags": []
   },
   "outputs": [
    {
     "data": {
      "text/plain": [
       "<AxesSubplot:ylabel='PRODUCT'>"
      ]
     },
     "execution_count": 7,
     "metadata": {},
     "output_type": "execute_result"
    },
    {
     "data": {
      "image/png": "[encoded data removed]",
      "text/plain": [
       "<Figure size 432x288 with 1 Axes>"
      ]
     },
     "metadata": {
      "needs_background": "light"
     },
     "output_type": "display_data"
    }
   ],
   "source": [
    "df_pivot_diff.sort_values(\"stamp_2\", ascending = False)[\"stamp_2\"].head(10).plot.barh()"
   ]
  },
  {
   "cell_type": "code",
   "execution_count": null,
   "id": "extra-executive",
   "metadata": {
    "papermill": {
     "duration": 0.021757,
     "end_time": "2021-12-03T06:00:14.441976",
     "exception": false,
     "start_time": "2021-12-03T06:00:14.420219",
     "status": "completed"
    },
    "tags": []
   },
   "outputs": [],
   "source": []
  }
 ],
 "metadata": {
  "kernelspec": {
   "display_name": "Python 3",
   "language": "python",
   "name": "python3"
  },
  "language_info": {
   "codemirror_mode": {
    "name": "ipython",
    "version": 3
   },
   "file_extension": ".py",
   "mimetype": "text/x-python",
   "name": "python",
   "nbconvert_exporter": "python",
   "pygments_lexer": "ipython3",
   "version": "3.9.5"
  },
  "papermill": {
   "default_parameters": {},
   "duration": 9.937593,
   "end_time": "2021-12-03T06:00:15.704275",
   "environment_variables": {},
   "exception": null,
   "input_path": "eBay_Overview.ipynb",
   "output_path": "eBay_Overview.ipynb",
   "parameters": {},
   "start_time": "2021-12-03T06:00:05.766682",
   "version": "2.3.3"
  }
 },
 "nbformat": 4,
 "nbformat_minor": 5
}