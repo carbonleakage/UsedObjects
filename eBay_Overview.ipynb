{
 "cells": [
  {
   "cell_type": "code",
   "execution_count": 1,
   "id": "reverse-picking",
   "metadata": {
    "execution": {
     "iopub.execute_input": "2021-12-20T14:00:08.101053Z",
     "iopub.status.busy": "2021-12-20T14:00:08.098589Z",
     "iopub.status.idle": "2021-12-20T14:00:09.021733Z",
     "shell.execute_reply": "2021-12-20T14:00:09.023303Z"
    },
    "papermill": {
     "duration": 0.973611,
     "end_time": "2021-12-20T14:00:09.024051",
     "exception": false,
     "start_time": "2021-12-20T14:00:08.050440",
     "status": "completed"
    },
    "tags": []
   },
   "outputs": [],
   "source": [
    "import pandas as pd\n",
    "import sqlite3"
   ]
  },
  {
   "cell_type": "code",
   "execution_count": 2,
   "id": "innovative-syndrome",
   "metadata": {
    "execution": {
     "iopub.execute_input": "2021-12-20T14:00:09.142889Z",
     "iopub.status.busy": "2021-12-20T14:00:09.140234Z",
     "iopub.status.idle": "2021-12-20T14:00:10.284177Z",
     "shell.execute_reply": "2021-12-20T14:00:10.285847Z"
    },
    "papermill": {
     "duration": 1.178685,
     "end_time": "2021-12-20T14:00:10.286283",
     "exception": false,
     "start_time": "2021-12-20T14:00:09.107598",
     "status": "completed"
    },
    "tags": []
   },
   "outputs": [],
   "source": [
    "timestamps = pd.read_sql(\"select distinct record_time from EBAY_TOP_BERLIN order by record_time desc limit 2\", sqlite3.connect(\"UsedObjects.db\"))"
   ]
  },
  {
   "cell_type": "code",
   "execution_count": 3,
   "id": "periodic-identification",
   "metadata": {
    "execution": {
     "iopub.execute_input": "2021-12-20T14:00:10.355851Z",
     "iopub.status.busy": "2021-12-20T14:00:10.353952Z",
     "iopub.status.idle": "2021-12-20T14:00:10.381010Z",
     "shell.execute_reply": "2021-12-20T14:00:10.382676Z"
    },
    "papermill": {
     "duration": 0.075274,
     "end_time": "2021-12-20T14:00:10.383208",
     "exception": false,
     "start_time": "2021-12-20T14:00:10.307934",
     "status": "completed"
    },
    "tags": []
   },
   "outputs": [
    {
     "data": {
      "text/html": [
       "<div>\n",
       "<style scoped>\n",
       "    .dataframe tbody tr th:only-of-type {\n",
       "        vertical-align: middle;\n",
       "    }\n",
       "\n",
       "    .dataframe tbody tr th {\n",
       "        vertical-align: top;\n",
       "    }\n",
       "\n",
       "    .dataframe thead th {\n",
       "        text-align: right;\n",
       "    }\n",
       "</style>\n",
       "<table border=\"1\" class=\"dataframe\">\n",
       "  <thead>\n",
       "    <tr style=\"text-align: right;\">\n",
       "      <th></th>\n",
       "      <th>RECORD_TIME</th>\n",
       "    </tr>\n",
       "  </thead>\n",
       "  <tbody>\n",
       "    <tr>\n",
       "      <th>0</th>\n",
       "      <td>2021-12-20 15:00</td>\n",
       "    </tr>\n",
       "    <tr>\n",
       "      <th>1</th>\n",
       "      <td>2021-12-20 14:30</td>\n",
       "    </tr>\n",
       "  </tbody>\n",
       "</table>\n",
       "</div>"
      ],
      "text/plain": [
       "        RECORD_TIME\n",
       "0  2021-12-20 15:00\n",
       "1  2021-12-20 14:30"
      ]
     },
     "execution_count": 3,
     "metadata": {},
     "output_type": "execute_result"
    }
   ],
   "source": [
    "timestamps"
   ]
  },
  {
   "cell_type": "code",
   "execution_count": 4,
   "id": "alternate-victory",
   "metadata": {
    "execution": {
     "iopub.execute_input": "2021-12-20T14:00:10.448160Z",
     "iopub.status.busy": "2021-12-20T14:00:10.446581Z",
     "iopub.status.idle": "2021-12-20T14:00:12.112345Z",
     "shell.execute_reply": "2021-12-20T14:00:12.114857Z"
    },
    "papermill": {
     "duration": 1.710618,
     "end_time": "2021-12-20T14:00:12.115336",
     "exception": false,
     "start_time": "2021-12-20T14:00:10.404718",
     "status": "completed"
    },
    "tags": []
   },
   "outputs": [],
   "source": [
    "df = pd.read_sql(\"select * from EBAY_TOP_BERLIN where record_time in (select distinct record_time from EBAY_TOP_BERLIN order by record_time desc limit 2)\", sqlite3.connect(\"UsedObjects.db\"))"
   ]
  },
  {
   "cell_type": "code",
   "execution_count": 5,
   "id": "popular-active",
   "metadata": {
    "execution": {
     "iopub.execute_input": "2021-12-20T14:00:12.259688Z",
     "iopub.status.busy": "2021-12-20T14:00:12.242543Z",
     "iopub.status.idle": "2021-12-20T14:00:12.279279Z",
     "shell.execute_reply": "2021-12-20T14:00:12.280942Z"
    },
    "papermill": {
     "duration": 0.144103,
     "end_time": "2021-12-20T14:00:12.281420",
     "exception": false,
     "start_time": "2021-12-20T14:00:12.137317",
     "status": "completed"
    },
    "tags": []
   },
   "outputs": [],
   "source": [
    "df_pivot = df.pivot_table(index=\"PRODUCT\", columns = \"RECORD_TIME\", values = \"LISTING_COUNT\")"
   ]
  },
  {
   "cell_type": "code",
   "execution_count": 6,
   "id": "union-huntington",
   "metadata": {
    "execution": {
     "iopub.execute_input": "2021-12-20T14:00:12.342266Z",
     "iopub.status.busy": "2021-12-20T14:00:12.340020Z",
     "iopub.status.idle": "2021-12-20T14:00:12.345987Z",
     "shell.execute_reply": "2021-12-20T14:00:12.347390Z"
    },
    "papermill": {
     "duration": 0.044115,
     "end_time": "2021-12-20T14:00:12.347869",
     "exception": false,
     "start_time": "2021-12-20T14:00:12.303754",
     "status": "completed"
    },
    "tags": []
   },
   "outputs": [],
   "source": [
    "df_pivot.columns = [\"stamp_1\", \"stamp_2\"]\n",
    "df_pivot_diff = df_pivot.diff(axis=1)"
   ]
  },
  {
   "cell_type": "code",
   "execution_count": 7,
   "id": "fifth-motion",
   "metadata": {
    "execution": {
     "iopub.execute_input": "2021-12-20T14:00:12.404811Z",
     "iopub.status.busy": "2021-12-20T14:00:12.402275Z",
     "iopub.status.idle": "2021-12-20T14:00:14.378047Z",
     "shell.execute_reply": "2021-12-20T14:00:14.379676Z"
    },
    "papermill": {
     "duration": 2.01168,
     "end_time": "2021-12-20T14:00:14.380172",
     "exception": false,
     "start_time": "2021-12-20T14:00:12.368492",
     "status": "completed"
    },
    "tags": []
   },
   "outputs": [
    {
     "data": {
      "text/plain": [
       "<AxesSubplot:ylabel='PRODUCT'>"
      ]
     },
     "execution_count": 7,
     "metadata": {},
     "output_type": "execute_result"
    },
    {
     "data": {
      "image/png": "[encoded data removed]",
      "text/plain": [
       "<Figure size 432x288 with 1 Axes>"
      ]
     },
     "metadata": {
      "needs_background": "light"
     },
     "output_type": "display_data"
    }
   ],
   "source": [
    "df_pivot_diff.sort_values(\"stamp_2\", ascending = False)[\"stamp_2\"].head(10).plot.barh()"
   ]
  },
  {
   "cell_type": "code",
   "execution_count": null,
   "id": "extra-executive",
   "metadata": {
    "papermill": {
     "duration": 0.022276,
     "end_time": "2021-12-20T14:00:14.426882",
     "exception": false,
     "start_time": "2021-12-20T14:00:14.404606",
     "status": "completed"
    },
    "tags": []
   },
   "outputs": [],
   "source": []
  }
 ],
 "metadata": {
  "kernelspec": {
   "display_name": "Python 3",
   "language": "python",
   "name": "python3"
  },
  "language_info": {
   "codemirror_mode": {
    "name": "ipython",
    "version": 3
   },
   "file_extension": ".py",
   "mimetype": "text/x-python",
   "name": "python",
   "nbconvert_exporter": "python",
   "pygments_lexer": "ipython3",
   "version": "3.9.5"
  },
  "papermill": {
   "default_parameters": {},
   "duration": 9.776466,
   "end_time": "2021-12-20T14:00:15.069997",
   "environment_variables": {},
   "exception": null,
   "input_path": "eBay_Overview.ipynb",
   "output_path": "eBay_Overview.ipynb",
   "parameters": {},
   "start_time": "2021-12-20T14:00:05.293531",
   "version": "2.3.3"
  }
 },
 "nbformat": 4,
 "nbformat_minor": 5
}