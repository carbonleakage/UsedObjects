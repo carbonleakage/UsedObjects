{
 "cells": [
  {
   "cell_type": "code",
   "execution_count": 1,
   "id": "reverse-picking",
   "metadata": {
    "execution": {
     "iopub.execute_input": "2021-12-12T06:30:07.715043Z",
     "iopub.status.busy": "2021-12-12T06:30:07.712855Z",
     "iopub.status.idle": "2021-12-12T06:30:08.671040Z",
     "shell.execute_reply": "2021-12-12T06:30:08.672533Z"
    },
    "papermill": {
     "duration": 1.008388,
     "end_time": "2021-12-12T06:30:08.673369",
     "exception": false,
     "start_time": "2021-12-12T06:30:07.664981",
     "status": "completed"
    },
    "tags": []
   },
   "outputs": [],
   "source": [
    "import pandas as pd\n",
    "import sqlite3"
   ]
  },
  {
   "cell_type": "code",
   "execution_count": 2,
   "id": "innovative-syndrome",
   "metadata": {
    "execution": {
     "iopub.execute_input": "2021-12-12T06:30:08.737211Z",
     "iopub.status.busy": "2021-12-12T06:30:08.733901Z",
     "iopub.status.idle": "2021-12-12T06:30:09.795915Z",
     "shell.execute_reply": "2021-12-12T06:30:09.797542Z"
    },
    "papermill": {
     "duration": 1.096763,
     "end_time": "2021-12-12T06:30:09.798029",
     "exception": false,
     "start_time": "2021-12-12T06:30:08.701266",
     "status": "completed"
    },
    "tags": []
   },
   "outputs": [],
   "source": [
    "timestamps = pd.read_sql(\"select distinct record_time from EBAY_TOP_BERLIN order by record_time desc limit 2\", sqlite3.connect(\"UsedObjects.db\"))"
   ]
  },
  {
   "cell_type": "code",
   "execution_count": 3,
   "id": "periodic-identification",
   "metadata": {
    "execution": {
     "iopub.execute_input": "2021-12-12T06:30:09.872619Z",
     "iopub.status.busy": "2021-12-12T06:30:09.869326Z",
     "iopub.status.idle": "2021-12-12T06:30:09.899719Z",
     "shell.execute_reply": "2021-12-12T06:30:09.898128Z"
    },
    "papermill": {
     "duration": 0.080492,
     "end_time": "2021-12-12T06:30:09.900126",
     "exception": false,
     "start_time": "2021-12-12T06:30:09.819634",
     "status": "completed"
    },
    "tags": []
   },
   "outputs": [
    {
     "data": {
      "text/html": [
       "<div>\n",
       "<style scoped>\n",
       "    .dataframe tbody tr th:only-of-type {\n",
       "        vertical-align: middle;\n",
       "    }\n",
       "\n",
       "    .dataframe tbody tr th {\n",
       "        vertical-align: top;\n",
       "    }\n",
       "\n",
       "    .dataframe thead th {\n",
       "        text-align: right;\n",
       "    }\n",
       "</style>\n",
       "<table border=\"1\" class=\"dataframe\">\n",
       "  <thead>\n",
       "    <tr style=\"text-align: right;\">\n",
       "      <th></th>\n",
       "      <th>RECORD_TIME</th>\n",
       "    </tr>\n",
       "  </thead>\n",
       "  <tbody>\n",
       "    <tr>\n",
       "      <th>0</th>\n",
       "      <td>2021-12-12 07:30</td>\n",
       "    </tr>\n",
       "    <tr>\n",
       "      <th>1</th>\n",
       "      <td>2021-12-12 07:00</td>\n",
       "    </tr>\n",
       "  </tbody>\n",
       "</table>\n",
       "</div>"
      ],
      "text/plain": [
       "        RECORD_TIME\n",
       "0  2021-12-12 07:30\n",
       "1  2021-12-12 07:00"
      ]
     },
     "execution_count": 3,
     "metadata": {},
     "output_type": "execute_result"
    }
   ],
   "source": [
    "timestamps"
   ]
  },
  {
   "cell_type": "code",
   "execution_count": 4,
   "id": "alternate-victory",
   "metadata": {
    "execution": {
     "iopub.execute_input": "2021-12-12T06:30:09.958204Z",
     "iopub.status.busy": "2021-12-12T06:30:09.956072Z",
     "iopub.status.idle": "2021-12-12T06:30:11.523414Z",
     "shell.execute_reply": "2021-12-12T06:30:11.525107Z"
    },
    "papermill": {
     "duration": 1.602457,
     "end_time": "2021-12-12T06:30:11.525618",
     "exception": false,
     "start_time": "2021-12-12T06:30:09.923161",
     "status": "completed"
    },
    "tags": []
   },
   "outputs": [],
   "source": [
    "df = pd.read_sql(\"select * from EBAY_TOP_BERLIN where record_time in (select distinct record_time from EBAY_TOP_BERLIN order by record_time desc limit 2)\", sqlite3.connect(\"UsedObjects.db\"))"
   ]
  },
  {
   "cell_type": "code",
   "execution_count": 5,
   "id": "popular-active",
   "metadata": {
    "execution": {
     "iopub.execute_input": "2021-12-12T06:30:11.598457Z",
     "iopub.status.busy": "2021-12-12T06:30:11.591210Z",
     "iopub.status.idle": "2021-12-12T06:30:11.622746Z",
     "shell.execute_reply": "2021-12-12T06:30:11.624216Z"
    },
    "papermill": {
     "duration": 0.076603,
     "end_time": "2021-12-12T06:30:11.624739",
     "exception": false,
     "start_time": "2021-12-12T06:30:11.548136",
     "status": "completed"
    },
    "tags": []
   },
   "outputs": [],
   "source": [
    "df_pivot = df.pivot_table(index=\"PRODUCT\", columns = \"RECORD_TIME\", values = \"LISTING_COUNT\")"
   ]
  },
  {
   "cell_type": "code",
   "execution_count": 6,
   "id": "union-huntington",
   "metadata": {
    "execution": {
     "iopub.execute_input": "2021-12-12T06:30:11.683941Z",
     "iopub.status.busy": "2021-12-12T06:30:11.681768Z",
     "iopub.status.idle": "2021-12-12T06:30:11.688482Z",
     "shell.execute_reply": "2021-12-12T06:30:11.686933Z"
    },
    "papermill": {
     "duration": 0.044008,
     "end_time": "2021-12-12T06:30:11.688932",
     "exception": false,
     "start_time": "2021-12-12T06:30:11.644924",
     "status": "completed"
    },
    "tags": []
   },
   "outputs": [],
   "source": [
    "df_pivot.columns = [\"stamp_1\", \"stamp_2\"]\n",
    "df_pivot_diff = df_pivot.diff(axis=1)"
   ]
  },
  {
   "cell_type": "code",
   "execution_count": 7,
   "id": "fifth-motion",
   "metadata": {
    "execution": {
     "iopub.execute_input": "2021-12-12T06:30:11.751294Z",
     "iopub.status.busy": "2021-12-12T06:30:11.748776Z",
     "iopub.status.idle": "2021-12-12T06:30:13.730165Z",
     "shell.execute_reply": "2021-12-12T06:30:13.733105Z"
    },
    "papermill": {
     "duration": 2.022881,
     "end_time": "2021-12-12T06:30:13.733956",
     "exception": false,
     "start_time": "2021-12-12T06:30:11.711075",
     "status": "completed"
    },
    "tags": []
   },
   "outputs": [
    {
     "data": {
      "text/plain": [
       "<AxesSubplot:ylabel='PRODUCT'>"
      ]
     },
     "execution_count": 7,
     "metadata": {},
     "output_type": "execute_result"
    },
    {
     "data": {
      "image/png": "[encoded data removed]",
      "text/plain": [
       "<Figure size 432x288 with 1 Axes>"
      ]
     },
     "metadata": {
      "needs_background": "light"
     },
     "output_type": "display_data"
    }
   ],
   "source": [
    "df_pivot_diff.sort_values(\"stamp_2\", ascending = False)[\"stamp_2\"].head(10).plot.barh()"
   ]
  },
  {
   "cell_type": "code",
   "execution_count": null,
   "id": "extra-executive",
   "metadata": {
    "papermill": {
     "duration": 0.028463,
     "end_time": "2021-12-12T06:30:13.805243",
     "exception": false,
     "start_time": "2021-12-12T06:30:13.776780",
     "status": "completed"
    },
    "tags": []
   },
   "outputs": [],
   "source": []
  }
 ],
 "metadata": {
  "kernelspec": {
   "display_name": "Python 3",
   "language": "python",
   "name": "python3"
  },
  "language_info": {
   "codemirror_mode": {
    "name": "ipython",
    "version": 3
   },
   "file_extension": ".py",
   "mimetype": "text/x-python",
   "name": "python",
   "nbconvert_exporter": "python",
   "pygments_lexer": "ipython3",
   "version": "3.9.5"
  },
  "papermill": {
   "default_parameters": {},
   "duration": 9.698705,
   "end_time": "2021-12-12T06:30:14.568155",
   "environment_variables": {},
   "exception": null,
   "input_path": "eBay_Overview.ipynb",
   "output_path": "eBay_Overview.ipynb",
   "parameters": {},
   "start_time": "2021-12-12T06:30:04.869450",
   "version": "2.3.3"
  }
 },
 "nbformat": 4,
 "nbformat_minor": 5
}