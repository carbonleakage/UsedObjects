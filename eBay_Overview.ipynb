{
 "cells": [
  {
   "cell_type": "code",
   "execution_count": 1,
   "id": "reverse-picking",
   "metadata": {
    "execution": {
     "iopub.execute_input": "2021-09-28T17:00:07.148916Z",
     "iopub.status.busy": "2021-09-28T17:00:07.146925Z",
     "iopub.status.idle": "2021-09-28T17:00:07.956364Z",
     "shell.execute_reply": "2021-09-28T17:00:07.957654Z"
    },
    "papermill": {
     "duration": 0.861419,
     "end_time": "2021-09-28T17:00:07.958272",
     "exception": false,
     "start_time": "2021-09-28T17:00:07.096853",
     "status": "completed"
    },
    "tags": []
   },
   "outputs": [],
   "source": [
    "import pandas as pd\n",
    "import sqlite3"
   ]
  },
  {
   "cell_type": "code",
   "execution_count": 2,
   "id": "innovative-syndrome",
   "metadata": {
    "execution": {
     "iopub.execute_input": "2021-09-28T17:00:08.008022Z",
     "iopub.status.busy": "2021-09-28T17:00:08.005882Z",
     "iopub.status.idle": "2021-09-28T17:00:08.406519Z",
     "shell.execute_reply": "2021-09-28T17:00:08.407870Z"
    },
    "papermill": {
     "duration": 0.430153,
     "end_time": "2021-09-28T17:00:08.408297",
     "exception": false,
     "start_time": "2021-09-28T17:00:07.978144",
     "status": "completed"
    },
    "tags": []
   },
   "outputs": [],
   "source": [
    "timestamps = pd.read_sql(\"select distinct record_time from EBAY_TOP_BERLIN order by record_time desc limit 2\", sqlite3.connect(\"UsedObjects.db\"))"
   ]
  },
  {
   "cell_type": "code",
   "execution_count": 3,
   "id": "periodic-identification",
   "metadata": {
    "execution": {
     "iopub.execute_input": "2021-09-28T17:00:08.476242Z",
     "iopub.status.busy": "2021-09-28T17:00:08.470947Z",
     "iopub.status.idle": "2021-09-28T17:00:08.492368Z",
     "shell.execute_reply": "2021-09-28T17:00:08.493739Z"
    },
    "papermill": {
     "duration": 0.066458,
     "end_time": "2021-09-28T17:00:08.494220",
     "exception": false,
     "start_time": "2021-09-28T17:00:08.427762",
     "status": "completed"
    },
    "tags": []
   },
   "outputs": [
    {
     "data": {
      "text/html": [
       "<div>\n",
       "<style scoped>\n",
       "    .dataframe tbody tr th:only-of-type {\n",
       "        vertical-align: middle;\n",
       "    }\n",
       "\n",
       "    .dataframe tbody tr th {\n",
       "        vertical-align: top;\n",
       "    }\n",
       "\n",
       "    .dataframe thead th {\n",
       "        text-align: right;\n",
       "    }\n",
       "</style>\n",
       "<table border=\"1\" class=\"dataframe\">\n",
       "  <thead>\n",
       "    <tr style=\"text-align: right;\">\n",
       "      <th></th>\n",
       "      <th>RECORD_TIME</th>\n",
       "    </tr>\n",
       "  </thead>\n",
       "  <tbody>\n",
       "    <tr>\n",
       "      <th>0</th>\n",
       "      <td>2021-09-28 19:00</td>\n",
       "    </tr>\n",
       "    <tr>\n",
       "      <th>1</th>\n",
       "      <td>2021-09-28 18:30</td>\n",
       "    </tr>\n",
       "  </tbody>\n",
       "</table>\n",
       "</div>"
      ],
      "text/plain": [
       "        RECORD_TIME\n",
       "0  2021-09-28 19:00\n",
       "1  2021-09-28 18:30"
      ]
     },
     "execution_count": 3,
     "metadata": {},
     "output_type": "execute_result"
    }
   ],
   "source": [
    "timestamps"
   ]
  },
  {
   "cell_type": "code",
   "execution_count": 4,
   "id": "alternate-victory",
   "metadata": {
    "execution": {
     "iopub.execute_input": "2021-09-28T17:00:08.548106Z",
     "iopub.status.busy": "2021-09-28T17:00:08.545727Z",
     "iopub.status.idle": "2021-09-28T17:00:09.124694Z",
     "shell.execute_reply": "2021-09-28T17:00:09.125929Z"
    },
    "papermill": {
     "duration": 0.609353,
     "end_time": "2021-09-28T17:00:09.126327",
     "exception": false,
     "start_time": "2021-09-28T17:00:08.516974",
     "status": "completed"
    },
    "tags": []
   },
   "outputs": [],
   "source": [
    "df = pd.read_sql(\"select * from EBAY_TOP_BERLIN where record_time in (select distinct record_time from EBAY_TOP_BERLIN order by record_time desc limit 2)\", sqlite3.connect(\"UsedObjects.db\"))"
   ]
  },
  {
   "cell_type": "code",
   "execution_count": 5,
   "id": "popular-active",
   "metadata": {
    "execution": {
     "iopub.execute_input": "2021-09-28T17:00:09.196573Z",
     "iopub.status.busy": "2021-09-28T17:00:09.183721Z",
     "iopub.status.idle": "2021-09-28T17:00:09.212662Z",
     "shell.execute_reply": "2021-09-28T17:00:09.213959Z"
    },
    "papermill": {
     "duration": 0.067779,
     "end_time": "2021-09-28T17:00:09.214373",
     "exception": false,
     "start_time": "2021-09-28T17:00:09.146594",
     "status": "completed"
    },
    "tags": []
   },
   "outputs": [],
   "source": [
    "df_pivot = df.pivot_table(index=\"PRODUCT\", columns = \"RECORD_TIME\", values = \"LISTING_COUNT\")"
   ]
  },
  {
   "cell_type": "code",
   "execution_count": 6,
   "id": "union-huntington",
   "metadata": {
    "execution": {
     "iopub.execute_input": "2021-09-28T17:00:09.270865Z",
     "iopub.status.busy": "2021-09-28T17:00:09.268479Z",
     "iopub.status.idle": "2021-09-28T17:00:09.274269Z",
     "shell.execute_reply": "2021-09-28T17:00:09.275645Z"
    },
    "papermill": {
     "duration": 0.041843,
     "end_time": "2021-09-28T17:00:09.276068",
     "exception": false,
     "start_time": "2021-09-28T17:00:09.234225",
     "status": "completed"
    },
    "tags": []
   },
   "outputs": [],
   "source": [
    "df_pivot.columns = [\"stamp_1\", \"stamp_2\"]\n",
    "df_pivot_diff = df_pivot.diff(axis=1)"
   ]
  },
  {
   "cell_type": "code",
   "execution_count": 7,
   "id": "fifth-motion",
   "metadata": {
    "execution": {
     "iopub.execute_input": "2021-09-28T17:00:09.330035Z",
     "iopub.status.busy": "2021-09-28T17:00:09.327730Z",
     "iopub.status.idle": "2021-09-28T17:00:10.814132Z",
     "shell.execute_reply": "2021-09-28T17:00:10.815508Z"
    },
    "papermill": {
     "duration": 1.519415,
     "end_time": "2021-09-28T17:00:10.815931",
     "exception": false,
     "start_time": "2021-09-28T17:00:09.296516",
     "status": "completed"
    },
    "tags": []
   },
   "outputs": [
    {
     "data": {
      "text/plain": [
       "<AxesSubplot:ylabel='PRODUCT'>"
      ]
     },
     "execution_count": 7,
     "metadata": {},
     "output_type": "execute_result"
    },
    {
     "data": {
      "image/png": "[encoded data removed]",
      "text/plain": [
       "<Figure size 432x288 with 1 Axes>"
      ]
     },
     "metadata": {
      "needs_background": "light"
     },
     "output_type": "display_data"
    }
   ],
   "source": [
    "df_pivot_diff.sort_values(\"stamp_2\", ascending = False)[\"stamp_2\"].head(10).plot.barh()"
   ]
  },
  {
   "cell_type": "code",
   "execution_count": null,
   "id": "extra-executive",
   "metadata": {
    "papermill": {
     "duration": 0.021898,
     "end_time": "2021-09-28T17:00:10.861677",
     "exception": false,
     "start_time": "2021-09-28T17:00:10.839779",
     "status": "completed"
    },
    "tags": []
   },
   "outputs": [],
   "source": []
  }
 ],
 "metadata": {
  "kernelspec": {
   "display_name": "Python 3",
   "language": "python",
   "name": "python3"
  },
  "language_info": {
   "codemirror_mode": {
    "name": "ipython",
    "version": 3
   },
   "file_extension": ".py",
   "mimetype": "text/x-python",
   "name": "python",
   "nbconvert_exporter": "python",
   "pygments_lexer": "ipython3",
   "version": "3.9.5"
  },
  "papermill": {
   "default_parameters": {},
   "duration": 6.822528,
   "end_time": "2021-09-28T17:00:11.501412",
   "environment_variables": {},
   "exception": null,
   "input_path": "eBay_Overview.ipynb",
   "output_path": "eBay_Overview.ipynb",
   "parameters": {},
   "start_time": "2021-09-28T17:00:04.678884",
   "version": "2.3.3"
  }
 },
 "nbformat": 4,
 "nbformat_minor": 5
}