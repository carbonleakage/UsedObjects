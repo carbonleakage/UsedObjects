{
 "cells": [
  {
   "cell_type": "code",
   "execution_count": 1,
   "id": "reverse-picking",
   "metadata": {
    "execution": {
     "iopub.execute_input": "2021-11-28T13:30:07.575654Z",
     "iopub.status.busy": "2021-11-28T13:30:07.573256Z",
     "iopub.status.idle": "2021-11-28T13:30:08.525413Z",
     "shell.execute_reply": "2021-11-28T13:30:08.526961Z"
    },
    "papermill": {
     "duration": 1.001939,
     "end_time": "2021-11-28T13:30:08.527715",
     "exception": false,
     "start_time": "2021-11-28T13:30:07.525776",
     "status": "completed"
    },
    "tags": []
   },
   "outputs": [],
   "source": [
    "import pandas as pd\n",
    "import sqlite3"
   ]
  },
  {
   "cell_type": "code",
   "execution_count": 2,
   "id": "innovative-syndrome",
   "metadata": {
    "execution": {
     "iopub.execute_input": "2021-11-28T13:30:08.604443Z",
     "iopub.status.busy": "2021-11-28T13:30:08.602087Z",
     "iopub.status.idle": "2021-11-28T13:30:09.539605Z",
     "shell.execute_reply": "2021-11-28T13:30:09.540870Z"
    },
    "papermill": {
     "duration": 0.985419,
     "end_time": "2021-11-28T13:30:09.541326",
     "exception": false,
     "start_time": "2021-11-28T13:30:08.555907",
     "status": "completed"
    },
    "tags": []
   },
   "outputs": [],
   "source": [
    "timestamps = pd.read_sql(\"select distinct record_time from EBAY_TOP_BERLIN order by record_time desc limit 2\", sqlite3.connect(\"UsedObjects.db\"))"
   ]
  },
  {
   "cell_type": "code",
   "execution_count": 3,
   "id": "periodic-identification",
   "metadata": {
    "execution": {
     "iopub.execute_input": "2021-11-28T13:30:09.607705Z",
     "iopub.status.busy": "2021-11-28T13:30:09.605675Z",
     "iopub.status.idle": "2021-11-28T13:30:09.625547Z",
     "shell.execute_reply": "2021-11-28T13:30:09.626757Z"
    },
    "papermill": {
     "duration": 0.066341,
     "end_time": "2021-11-28T13:30:09.627193",
     "exception": false,
     "start_time": "2021-11-28T13:30:09.560852",
     "status": "completed"
    },
    "tags": []
   },
   "outputs": [
    {
     "data": {
      "text/html": [
       "<div>\n",
       "<style scoped>\n",
       "    .dataframe tbody tr th:only-of-type {\n",
       "        vertical-align: middle;\n",
       "    }\n",
       "\n",
       "    .dataframe tbody tr th {\n",
       "        vertical-align: top;\n",
       "    }\n",
       "\n",
       "    .dataframe thead th {\n",
       "        text-align: right;\n",
       "    }\n",
       "</style>\n",
       "<table border=\"1\" class=\"dataframe\">\n",
       "  <thead>\n",
       "    <tr style=\"text-align: right;\">\n",
       "      <th></th>\n",
       "      <th>RECORD_TIME</th>\n",
       "    </tr>\n",
       "  </thead>\n",
       "  <tbody>\n",
       "    <tr>\n",
       "      <th>0</th>\n",
       "      <td>2021-11-28 14:30</td>\n",
       "    </tr>\n",
       "    <tr>\n",
       "      <th>1</th>\n",
       "      <td>2021-11-28 14:00</td>\n",
       "    </tr>\n",
       "  </tbody>\n",
       "</table>\n",
       "</div>"
      ],
      "text/plain": [
       "        RECORD_TIME\n",
       "0  2021-11-28 14:30\n",
       "1  2021-11-28 14:00"
      ]
     },
     "execution_count": 3,
     "metadata": {},
     "output_type": "execute_result"
    }
   ],
   "source": [
    "timestamps"
   ]
  },
  {
   "cell_type": "code",
   "execution_count": 4,
   "id": "alternate-victory",
   "metadata": {
    "execution": {
     "iopub.execute_input": "2021-11-28T13:30:09.682433Z",
     "iopub.status.busy": "2021-11-28T13:30:09.679929Z",
     "iopub.status.idle": "2021-11-28T13:30:11.053660Z",
     "shell.execute_reply": "2021-11-28T13:30:11.055201Z"
    },
    "papermill": {
     "duration": 1.405777,
     "end_time": "2021-11-28T13:30:11.055727",
     "exception": false,
     "start_time": "2021-11-28T13:30:09.649950",
     "status": "completed"
    },
    "tags": []
   },
   "outputs": [],
   "source": [
    "df = pd.read_sql(\"select * from EBAY_TOP_BERLIN where record_time in (select distinct record_time from EBAY_TOP_BERLIN order by record_time desc limit 2)\", sqlite3.connect(\"UsedObjects.db\"))"
   ]
  },
  {
   "cell_type": "code",
   "execution_count": 5,
   "id": "popular-active",
   "metadata": {
    "execution": {
     "iopub.execute_input": "2021-11-28T13:30:11.133154Z",
     "iopub.status.busy": "2021-11-28T13:30:11.130679Z",
     "iopub.status.idle": "2021-11-28T13:30:11.158229Z",
     "shell.execute_reply": "2021-11-28T13:30:11.159574Z"
    },
    "papermill": {
     "duration": 0.082805,
     "end_time": "2021-11-28T13:30:11.160043",
     "exception": false,
     "start_time": "2021-11-28T13:30:11.077238",
     "status": "completed"
    },
    "tags": []
   },
   "outputs": [],
   "source": [
    "df_pivot = df.pivot_table(index=\"PRODUCT\", columns = \"RECORD_TIME\", values = \"LISTING_COUNT\")"
   ]
  },
  {
   "cell_type": "code",
   "execution_count": 6,
   "id": "union-huntington",
   "metadata": {
    "execution": {
     "iopub.execute_input": "2021-11-28T13:30:11.218883Z",
     "iopub.status.busy": "2021-11-28T13:30:11.216591Z",
     "iopub.status.idle": "2021-11-28T13:30:11.221637Z",
     "shell.execute_reply": "2021-11-28T13:30:11.223005Z"
    },
    "papermill": {
     "duration": 0.043221,
     "end_time": "2021-11-28T13:30:11.223477",
     "exception": false,
     "start_time": "2021-11-28T13:30:11.180256",
     "status": "completed"
    },
    "tags": []
   },
   "outputs": [],
   "source": [
    "df_pivot.columns = [\"stamp_1\", \"stamp_2\"]\n",
    "df_pivot_diff = df_pivot.diff(axis=1)"
   ]
  },
  {
   "cell_type": "code",
   "execution_count": 7,
   "id": "fifth-motion",
   "metadata": {
    "execution": {
     "iopub.execute_input": "2021-11-28T13:30:11.279940Z",
     "iopub.status.busy": "2021-11-28T13:30:11.277279Z",
     "iopub.status.idle": "2021-11-28T13:30:13.282684Z",
     "shell.execute_reply": "2021-11-28T13:30:13.284607Z"
    },
    "papermill": {
     "duration": 2.042155,
     "end_time": "2021-11-28T13:30:13.285255",
     "exception": false,
     "start_time": "2021-11-28T13:30:11.243100",
     "status": "completed"
    },
    "tags": []
   },
   "outputs": [
    {
     "data": {
      "text/plain": [
       "<AxesSubplot:ylabel='PRODUCT'>"
      ]
     },
     "execution_count": 7,
     "metadata": {},
     "output_type": "execute_result"
    },
    {
     "data": {
      "image/png": "[encoded data removed]",
      "text/plain": [
       "<Figure size 432x288 with 1 Axes>"
      ]
     },
     "metadata": {
      "needs_background": "light"
     },
     "output_type": "display_data"
    }
   ],
   "source": [
    "df_pivot_diff.sort_values(\"stamp_2\", ascending = False)[\"stamp_2\"].head(10).plot.barh()"
   ]
  },
  {
   "cell_type": "code",
   "execution_count": null,
   "id": "extra-executive",
   "metadata": {
    "papermill": {
     "duration": 0.024486,
     "end_time": "2021-11-28T13:30:13.337373",
     "exception": false,
     "start_time": "2021-11-28T13:30:13.312887",
     "status": "completed"
    },
    "tags": []
   },
   "outputs": [],
   "source": []
  }
 ],
 "metadata": {
  "kernelspec": {
   "display_name": "Python 3",
   "language": "python",
   "name": "python3"
  },
  "language_info": {
   "codemirror_mode": {
    "name": "ipython",
    "version": 3
   },
   "file_extension": ".py",
   "mimetype": "text/x-python",
   "name": "python",
   "nbconvert_exporter": "python",
   "pygments_lexer": "ipython3",
   "version": "3.9.5"
  },
  "papermill": {
   "default_parameters": {},
   "duration": 9.931776,
   "end_time": "2021-11-28T13:30:14.730953",
   "environment_variables": {},
   "exception": null,
   "input_path": "eBay_Overview.ipynb",
   "output_path": "eBay_Overview.ipynb",
   "parameters": {},
   "start_time": "2021-11-28T13:30:04.799177",
   "version": "2.3.3"
  }
 },
 "nbformat": 4,
 "nbformat_minor": 5
}