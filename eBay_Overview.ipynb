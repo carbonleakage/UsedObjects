{
 "cells": [
  {
   "cell_type": "code",
   "execution_count": 1,
   "id": "reverse-picking",
   "metadata": {
    "execution": {
     "iopub.execute_input": "2021-08-09T16:30:04.308205Z",
     "iopub.status.busy": "2021-08-09T16:30:04.306764Z",
     "iopub.status.idle": "2021-08-09T16:30:05.035519Z",
     "shell.execute_reply": "2021-08-09T16:30:05.034688Z"
    },
    "papermill": {
     "duration": 0.759995,
     "end_time": "2021-08-09T16:30:05.035711",
     "exception": false,
     "start_time": "2021-08-09T16:30:04.275716",
     "status": "completed"
    },
    "tags": []
   },
   "outputs": [],
   "source": [
    "import pandas as pd\n",
    "import sqlite3"
   ]
  },
  {
   "cell_type": "code",
   "execution_count": 2,
   "id": "innovative-syndrome",
   "metadata": {
    "execution": {
     "iopub.execute_input": "2021-08-09T16:30:05.068019Z",
     "iopub.status.busy": "2021-08-09T16:30:05.067114Z",
     "iopub.status.idle": "2021-08-09T16:30:05.292530Z",
     "shell.execute_reply": "2021-08-09T16:30:05.293191Z"
    },
    "papermill": {
     "duration": 0.247324,
     "end_time": "2021-08-09T16:30:05.293410",
     "exception": false,
     "start_time": "2021-08-09T16:30:05.046086",
     "status": "completed"
    },
    "tags": []
   },
   "outputs": [],
   "source": [
    "timestamps = pd.read_sql(\"select distinct record_time from EBAY_TOP_BERLIN order by record_time desc limit 2\", sqlite3.connect(\"UsedObjects.db\"))"
   ]
  },
  {
   "cell_type": "code",
   "execution_count": 3,
   "id": "periodic-identification",
   "metadata": {
    "execution": {
     "iopub.execute_input": "2021-08-09T16:30:05.328821Z",
     "iopub.status.busy": "2021-08-09T16:30:05.328057Z",
     "iopub.status.idle": "2021-08-09T16:30:05.338839Z",
     "shell.execute_reply": "2021-08-09T16:30:05.339365Z"
    },
    "papermill": {
     "duration": 0.037639,
     "end_time": "2021-08-09T16:30:05.339543",
     "exception": false,
     "start_time": "2021-08-09T16:30:05.301904",
     "status": "completed"
    },
    "tags": []
   },
   "outputs": [
    {
     "data": {
      "text/html": [
       "<div>\n",
       "<style scoped>\n",
       "    .dataframe tbody tr th:only-of-type {\n",
       "        vertical-align: middle;\n",
       "    }\n",
       "\n",
       "    .dataframe tbody tr th {\n",
       "        vertical-align: top;\n",
       "    }\n",
       "\n",
       "    .dataframe thead th {\n",
       "        text-align: right;\n",
       "    }\n",
       "</style>\n",
       "<table border=\"1\" class=\"dataframe\">\n",
       "  <thead>\n",
       "    <tr style=\"text-align: right;\">\n",
       "      <th></th>\n",
       "      <th>RECORD_TIME</th>\n",
       "    </tr>\n",
       "  </thead>\n",
       "  <tbody>\n",
       "    <tr>\n",
       "      <th>0</th>\n",
       "      <td>2021-08-09 18:30</td>\n",
       "    </tr>\n",
       "    <tr>\n",
       "      <th>1</th>\n",
       "      <td>2021-08-09 18:00</td>\n",
       "    </tr>\n",
       "  </tbody>\n",
       "</table>\n",
       "</div>"
      ],
      "text/plain": [
       "        RECORD_TIME\n",
       "0  2021-08-09 18:30\n",
       "1  2021-08-09 18:00"
      ]
     },
     "execution_count": 3,
     "metadata": {},
     "output_type": "execute_result"
    }
   ],
   "source": [
    "timestamps"
   ]
  },
  {
   "cell_type": "code",
   "execution_count": 4,
   "id": "alternate-victory",
   "metadata": {
    "execution": {
     "iopub.execute_input": "2021-08-09T16:30:05.367581Z",
     "iopub.status.busy": "2021-08-09T16:30:05.366126Z",
     "iopub.status.idle": "2021-08-09T16:30:05.381325Z",
     "shell.execute_reply": "2021-08-09T16:30:05.382089Z"
    },
    "papermill": {
     "duration": 0.029554,
     "end_time": "2021-08-09T16:30:05.382295",
     "exception": false,
     "start_time": "2021-08-09T16:30:05.352741",
     "status": "completed"
    },
    "tags": []
   },
   "outputs": [],
   "source": [
    "df = pd.read_sql(\"select * from EBAY_TOP_BERLIN where record_time in (select distinct record_time from EBAY_TOP_BERLIN order by record_time desc limit 2)\", sqlite3.connect(\"UsedObjects.db\"))"
   ]
  },
  {
   "cell_type": "code",
   "execution_count": 5,
   "id": "popular-active",
   "metadata": {
    "execution": {
     "iopub.execute_input": "2021-08-09T16:30:05.417674Z",
     "iopub.status.busy": "2021-08-09T16:30:05.414550Z",
     "iopub.status.idle": "2021-08-09T16:30:05.432192Z",
     "shell.execute_reply": "2021-08-09T16:30:05.432718Z"
    },
    "papermill": {
     "duration": 0.039796,
     "end_time": "2021-08-09T16:30:05.432897",
     "exception": false,
     "start_time": "2021-08-09T16:30:05.393101",
     "status": "completed"
    },
    "tags": []
   },
   "outputs": [],
   "source": [
    "df_pivot = df.pivot_table(index=\"PRODUCT\", columns = \"RECORD_TIME\", values = \"LISTING_COUNT\")"
   ]
  },
  {
   "cell_type": "code",
   "execution_count": 6,
   "id": "union-huntington",
   "metadata": {
    "execution": {
     "iopub.execute_input": "2021-08-09T16:30:05.464973Z",
     "iopub.status.busy": "2021-08-09T16:30:05.464241Z",
     "iopub.status.idle": "2021-08-09T16:30:05.467332Z",
     "shell.execute_reply": "2021-08-09T16:30:05.467928Z"
    },
    "papermill": {
     "duration": 0.026391,
     "end_time": "2021-08-09T16:30:05.468142",
     "exception": false,
     "start_time": "2021-08-09T16:30:05.441751",
     "status": "completed"
    },
    "tags": []
   },
   "outputs": [],
   "source": [
    "df_pivot.columns = [\"stamp_1\", \"stamp_2\"]\n",
    "df_pivot_diff = df_pivot.diff(axis=1)"
   ]
  },
  {
   "cell_type": "code",
   "execution_count": 7,
   "id": "fifth-motion",
   "metadata": {
    "execution": {
     "iopub.execute_input": "2021-08-09T16:30:05.502270Z",
     "iopub.status.busy": "2021-08-09T16:30:05.501509Z",
     "iopub.status.idle": "2021-08-09T16:30:06.268194Z",
     "shell.execute_reply": "2021-08-09T16:30:06.267578Z"
    },
    "papermill": {
     "duration": 0.784617,
     "end_time": "2021-08-09T16:30:06.268354",
     "exception": false,
     "start_time": "2021-08-09T16:30:05.483737",
     "status": "completed"
    },
    "tags": []
   },
   "outputs": [
    {
     "data": {
      "text/plain": [
       "<AxesSubplot:ylabel='PRODUCT'>"
      ]
     },
     "execution_count": 7,
     "metadata": {},
     "output_type": "execute_result"
    },
    {
     "data": {
      "image/png": "[encoded data removed]",
      "text/plain": [
       "<Figure size 432x288 with 1 Axes>"
      ]
     },
     "metadata": {
      "needs_background": "light"
     },
     "output_type": "display_data"
    }
   ],
   "source": [
    "df_pivot_diff.sort_values(\"stamp_2\", ascending = False)[\"stamp_2\"].head(10).plot.barh()"
   ]
  },
  {
   "cell_type": "code",
   "execution_count": null,
   "id": "extra-executive",
   "metadata": {
    "papermill": {
     "duration": 0.014661,
     "end_time": "2021-08-09T16:30:06.295378",
     "exception": false,
     "start_time": "2021-08-09T16:30:06.280717",
     "status": "completed"
    },
    "tags": []
   },
   "outputs": [],
   "source": []
  }
 ],
 "metadata": {
  "kernelspec": {
   "display_name": "Python 3",
   "language": "python",
   "name": "python3"
  },
  "language_info": {
   "codemirror_mode": {
    "name": "ipython",
    "version": 3
   },
   "file_extension": ".py",
   "mimetype": "text/x-python",
   "name": "python",
   "nbconvert_exporter": "python",
   "pygments_lexer": "ipython3",
   "version": "3.8.8"
  },
  "papermill": {
   "default_parameters": {},
   "duration": 4.544911,
   "end_time": "2021-08-09T16:30:07.052885",
   "environment_variables": {},
   "exception": null,
   "input_path": "/Users/saravananshanmugam/Carbonleakage_Git/UsedObjects/eBay_Overview.ipynb",
   "output_path": "/Users/saravananshanmugam/Carbonleakage_Git/UsedObjects/eBay_Overview.ipynb",
   "parameters": {},
   "start_time": "2021-08-09T16:30:02.507974",
   "version": "2.3.3"
  }
 },
 "nbformat": 4,
 "nbformat_minor": 5
}