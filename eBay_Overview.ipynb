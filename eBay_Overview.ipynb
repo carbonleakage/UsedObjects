{
 "cells": [
  {
   "cell_type": "code",
   "execution_count": 1,
   "id": "reverse-picking",
   "metadata": {
    "execution": {
     "iopub.execute_input": "2021-11-10T01:30:07.292029Z",
     "iopub.status.busy": "2021-11-10T01:30:07.289723Z",
     "iopub.status.idle": "2021-11-10T01:30:08.242059Z",
     "shell.execute_reply": "2021-11-10T01:30:08.243471Z"
    },
    "papermill": {
     "duration": 1.002314,
     "end_time": "2021-11-10T01:30:08.244200",
     "exception": false,
     "start_time": "2021-11-10T01:30:07.241886",
     "status": "completed"
    },
    "tags": []
   },
   "outputs": [],
   "source": [
    "import pandas as pd\n",
    "import sqlite3"
   ]
  },
  {
   "cell_type": "code",
   "execution_count": 2,
   "id": "innovative-syndrome",
   "metadata": {
    "execution": {
     "iopub.execute_input": "2021-11-10T01:30:08.309247Z",
     "iopub.status.busy": "2021-11-10T01:30:08.306724Z",
     "iopub.status.idle": "2021-11-10T01:30:09.080284Z",
     "shell.execute_reply": "2021-11-10T01:30:09.078642Z"
    },
    "papermill": {
     "duration": 0.806469,
     "end_time": "2021-11-10T01:30:09.080789",
     "exception": false,
     "start_time": "2021-11-10T01:30:08.274320",
     "status": "completed"
    },
    "tags": []
   },
   "outputs": [],
   "source": [
    "timestamps = pd.read_sql(\"select distinct record_time from EBAY_TOP_BERLIN order by record_time desc limit 2\", sqlite3.connect(\"UsedObjects.db\"))"
   ]
  },
  {
   "cell_type": "code",
   "execution_count": 3,
   "id": "periodic-identification",
   "metadata": {
    "execution": {
     "iopub.execute_input": "2021-11-10T01:30:09.159439Z",
     "iopub.status.busy": "2021-11-10T01:30:09.153747Z",
     "iopub.status.idle": "2021-11-10T01:30:09.177324Z",
     "shell.execute_reply": "2021-11-10T01:30:09.178855Z"
    },
    "papermill": {
     "duration": 0.077436,
     "end_time": "2021-11-10T01:30:09.179398",
     "exception": false,
     "start_time": "2021-11-10T01:30:09.101962",
     "status": "completed"
    },
    "tags": []
   },
   "outputs": [
    {
     "data": {
      "text/html": [
       "<div>\n",
       "<style scoped>\n",
       "    .dataframe tbody tr th:only-of-type {\n",
       "        vertical-align: middle;\n",
       "    }\n",
       "\n",
       "    .dataframe tbody tr th {\n",
       "        vertical-align: top;\n",
       "    }\n",
       "\n",
       "    .dataframe thead th {\n",
       "        text-align: right;\n",
       "    }\n",
       "</style>\n",
       "<table border=\"1\" class=\"dataframe\">\n",
       "  <thead>\n",
       "    <tr style=\"text-align: right;\">\n",
       "      <th></th>\n",
       "      <th>RECORD_TIME</th>\n",
       "    </tr>\n",
       "  </thead>\n",
       "  <tbody>\n",
       "    <tr>\n",
       "      <th>0</th>\n",
       "      <td>2021-11-10 02:30</td>\n",
       "    </tr>\n",
       "    <tr>\n",
       "      <th>1</th>\n",
       "      <td>2021-11-10 02:00</td>\n",
       "    </tr>\n",
       "  </tbody>\n",
       "</table>\n",
       "</div>"
      ],
      "text/plain": [
       "        RECORD_TIME\n",
       "0  2021-11-10 02:30\n",
       "1  2021-11-10 02:00"
      ]
     },
     "execution_count": 3,
     "metadata": {},
     "output_type": "execute_result"
    }
   ],
   "source": [
    "timestamps"
   ]
  },
  {
   "cell_type": "code",
   "execution_count": 4,
   "id": "alternate-victory",
   "metadata": {
    "execution": {
     "iopub.execute_input": "2021-11-10T01:30:09.235089Z",
     "iopub.status.busy": "2021-11-10T01:30:09.232940Z",
     "iopub.status.idle": "2021-11-10T01:30:10.355041Z",
     "shell.execute_reply": "2021-11-10T01:30:10.356389Z"
    },
    "papermill": {
     "duration": 1.156079,
     "end_time": "2021-11-10T01:30:10.356921",
     "exception": false,
     "start_time": "2021-11-10T01:30:09.200842",
     "status": "completed"
    },
    "tags": []
   },
   "outputs": [],
   "source": [
    "df = pd.read_sql(\"select * from EBAY_TOP_BERLIN where record_time in (select distinct record_time from EBAY_TOP_BERLIN order by record_time desc limit 2)\", sqlite3.connect(\"UsedObjects.db\"))"
   ]
  },
  {
   "cell_type": "code",
   "execution_count": 5,
   "id": "popular-active",
   "metadata": {
    "execution": {
     "iopub.execute_input": "2021-11-10T01:30:10.432112Z",
     "iopub.status.busy": "2021-11-10T01:30:10.429346Z",
     "iopub.status.idle": "2021-11-10T01:30:10.452141Z",
     "shell.execute_reply": "2021-11-10T01:30:10.450588Z"
    },
    "papermill": {
     "duration": 0.074557,
     "end_time": "2021-11-10T01:30:10.452572",
     "exception": false,
     "start_time": "2021-11-10T01:30:10.378015",
     "status": "completed"
    },
    "tags": []
   },
   "outputs": [],
   "source": [
    "df_pivot = df.pivot_table(index=\"PRODUCT\", columns = \"RECORD_TIME\", values = \"LISTING_COUNT\")"
   ]
  },
  {
   "cell_type": "code",
   "execution_count": 6,
   "id": "union-huntington",
   "metadata": {
    "execution": {
     "iopub.execute_input": "2021-11-10T01:30:10.537909Z",
     "iopub.status.busy": "2021-11-10T01:30:10.534668Z",
     "iopub.status.idle": "2021-11-10T01:30:10.544517Z",
     "shell.execute_reply": "2021-11-10T01:30:10.547246Z"
    },
    "papermill": {
     "duration": 0.071181,
     "end_time": "2021-11-10T01:30:10.548147",
     "exception": false,
     "start_time": "2021-11-10T01:30:10.476966",
     "status": "completed"
    },
    "tags": []
   },
   "outputs": [],
   "source": [
    "df_pivot.columns = [\"stamp_1\", \"stamp_2\"]\n",
    "df_pivot_diff = df_pivot.diff(axis=1)"
   ]
  },
  {
   "cell_type": "code",
   "execution_count": 7,
   "id": "fifth-motion",
   "metadata": {
    "execution": {
     "iopub.execute_input": "2021-11-10T01:30:10.610887Z",
     "iopub.status.busy": "2021-11-10T01:30:10.608247Z",
     "iopub.status.idle": "2021-11-10T01:30:12.461418Z",
     "shell.execute_reply": "2021-11-10T01:30:12.463457Z"
    },
    "papermill": {
     "duration": 1.891918,
     "end_time": "2021-11-10T01:30:12.464102",
     "exception": false,
     "start_time": "2021-11-10T01:30:10.572184",
     "status": "completed"
    },
    "tags": []
   },
   "outputs": [
    {
     "data": {
      "text/plain": [
       "<AxesSubplot:ylabel='PRODUCT'>"
      ]
     },
     "execution_count": 7,
     "metadata": {},
     "output_type": "execute_result"
    },
    {
     "data": {
      "image/png": "[encoded data removed]",
      "text/plain": [
       "<Figure size 432x288 with 1 Axes>"
      ]
     },
     "metadata": {
      "needs_background": "light"
     },
     "output_type": "display_data"
    }
   ],
   "source": [
    "df_pivot_diff.sort_values(\"stamp_2\", ascending = False)[\"stamp_2\"].head(10).plot.barh()"
   ]
  },
  {
   "cell_type": "code",
   "execution_count": null,
   "id": "extra-executive",
   "metadata": {
    "papermill": {
     "duration": 0.03978,
     "end_time": "2021-11-10T01:30:12.535151",
     "exception": false,
     "start_time": "2021-11-10T01:30:12.495371",
     "status": "completed"
    },
    "tags": []
   },
   "outputs": [],
   "source": []
  }
 ],
 "metadata": {
  "kernelspec": {
   "display_name": "Python 3",
   "language": "python",
   "name": "python3"
  },
  "language_info": {
   "codemirror_mode": {
    "name": "ipython",
    "version": 3
   },
   "file_extension": ".py",
   "mimetype": "text/x-python",
   "name": "python",
   "nbconvert_exporter": "python",
   "pygments_lexer": "ipython3",
   "version": "3.9.5"
  },
  "papermill": {
   "default_parameters": {},
   "duration": 8.869488,
   "end_time": "2021-11-10T01:30:13.406084",
   "environment_variables": {},
   "exception": null,
   "input_path": "eBay_Overview.ipynb",
   "output_path": "eBay_Overview.ipynb",
   "parameters": {},
   "start_time": "2021-11-10T01:30:04.536596",
   "version": "2.3.3"
  }
 },
 "nbformat": 4,
 "nbformat_minor": 5
}