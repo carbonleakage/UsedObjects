{
 "cells": [
  {
   "cell_type": "code",
   "execution_count": 1,
   "id": "reverse-picking",
   "metadata": {
    "execution": {
     "iopub.execute_input": "2021-10-16T04:00:07.007346Z",
     "iopub.status.busy": "2021-10-16T04:00:07.005354Z",
     "iopub.status.idle": "2021-10-16T04:00:07.814646Z",
     "shell.execute_reply": "2021-10-16T04:00:07.815882Z"
    },
    "papermill": {
     "duration": 0.86219,
     "end_time": "2021-10-16T04:00:07.816493",
     "exception": false,
     "start_time": "2021-10-16T04:00:06.954303",
     "status": "completed"
    },
    "tags": []
   },
   "outputs": [],
   "source": [
    "import pandas as pd\n",
    "import sqlite3"
   ]
  },
  {
   "cell_type": "code",
   "execution_count": 2,
   "id": "innovative-syndrome",
   "metadata": {
    "execution": {
     "iopub.execute_input": "2021-10-16T04:00:07.867615Z",
     "iopub.status.busy": "2021-10-16T04:00:07.865444Z",
     "iopub.status.idle": "2021-10-16T04:00:08.418105Z",
     "shell.execute_reply": "2021-10-16T04:00:08.419525Z"
    },
    "papermill": {
     "duration": 0.582937,
     "end_time": "2021-10-16T04:00:08.419966",
     "exception": false,
     "start_time": "2021-10-16T04:00:07.837029",
     "status": "completed"
    },
    "tags": []
   },
   "outputs": [],
   "source": [
    "timestamps = pd.read_sql(\"select distinct record_time from EBAY_TOP_BERLIN order by record_time desc limit 2\", sqlite3.connect(\"UsedObjects.db\"))"
   ]
  },
  {
   "cell_type": "code",
   "execution_count": 3,
   "id": "periodic-identification",
   "metadata": {
    "execution": {
     "iopub.execute_input": "2021-10-16T04:00:08.495408Z",
     "iopub.status.busy": "2021-10-16T04:00:08.493341Z",
     "iopub.status.idle": "2021-10-16T04:00:08.514418Z",
     "shell.execute_reply": "2021-10-16T04:00:08.515626Z"
    },
    "papermill": {
     "duration": 0.070355,
     "end_time": "2021-10-16T04:00:08.516050",
     "exception": false,
     "start_time": "2021-10-16T04:00:08.445695",
     "status": "completed"
    },
    "tags": []
   },
   "outputs": [
    {
     "data": {
      "text/html": [
       "<div>\n",
       "<style scoped>\n",
       "    .dataframe tbody tr th:only-of-type {\n",
       "        vertical-align: middle;\n",
       "    }\n",
       "\n",
       "    .dataframe tbody tr th {\n",
       "        vertical-align: top;\n",
       "    }\n",
       "\n",
       "    .dataframe thead th {\n",
       "        text-align: right;\n",
       "    }\n",
       "</style>\n",
       "<table border=\"1\" class=\"dataframe\">\n",
       "  <thead>\n",
       "    <tr style=\"text-align: right;\">\n",
       "      <th></th>\n",
       "      <th>RECORD_TIME</th>\n",
       "    </tr>\n",
       "  </thead>\n",
       "  <tbody>\n",
       "    <tr>\n",
       "      <th>0</th>\n",
       "      <td>2021-10-16 06:00</td>\n",
       "    </tr>\n",
       "    <tr>\n",
       "      <th>1</th>\n",
       "      <td>2021-10-16 05:30</td>\n",
       "    </tr>\n",
       "  </tbody>\n",
       "</table>\n",
       "</div>"
      ],
      "text/plain": [
       "        RECORD_TIME\n",
       "0  2021-10-16 06:00\n",
       "1  2021-10-16 05:30"
      ]
     },
     "execution_count": 3,
     "metadata": {},
     "output_type": "execute_result"
    }
   ],
   "source": [
    "timestamps"
   ]
  },
  {
   "cell_type": "code",
   "execution_count": 4,
   "id": "alternate-victory",
   "metadata": {
    "execution": {
     "iopub.execute_input": "2021-10-16T04:00:08.569444Z",
     "iopub.status.busy": "2021-10-16T04:00:08.567336Z",
     "iopub.status.idle": "2021-10-16T04:00:09.358928Z",
     "shell.execute_reply": "2021-10-16T04:00:09.360074Z"
    },
    "papermill": {
     "duration": 0.821829,
     "end_time": "2021-10-16T04:00:09.360475",
     "exception": false,
     "start_time": "2021-10-16T04:00:08.538646",
     "status": "completed"
    },
    "tags": []
   },
   "outputs": [],
   "source": [
    "df = pd.read_sql(\"select * from EBAY_TOP_BERLIN where record_time in (select distinct record_time from EBAY_TOP_BERLIN order by record_time desc limit 2)\", sqlite3.connect(\"UsedObjects.db\"))"
   ]
  },
  {
   "cell_type": "code",
   "execution_count": 5,
   "id": "popular-active",
   "metadata": {
    "execution": {
     "iopub.execute_input": "2021-10-16T04:00:09.436078Z",
     "iopub.status.busy": "2021-10-16T04:00:09.423991Z",
     "iopub.status.idle": "2021-10-16T04:00:09.452288Z",
     "shell.execute_reply": "2021-10-16T04:00:09.453632Z"
    },
    "papermill": {
     "duration": 0.069251,
     "end_time": "2021-10-16T04:00:09.454080",
     "exception": false,
     "start_time": "2021-10-16T04:00:09.384829",
     "status": "completed"
    },
    "tags": []
   },
   "outputs": [],
   "source": [
    "df_pivot = df.pivot_table(index=\"PRODUCT\", columns = \"RECORD_TIME\", values = \"LISTING_COUNT\")"
   ]
  },
  {
   "cell_type": "code",
   "execution_count": 6,
   "id": "union-huntington",
   "metadata": {
    "execution": {
     "iopub.execute_input": "2021-10-16T04:00:09.512623Z",
     "iopub.status.busy": "2021-10-16T04:00:09.510178Z",
     "iopub.status.idle": "2021-10-16T04:00:09.515817Z",
     "shell.execute_reply": "2021-10-16T04:00:09.517190Z"
    },
    "papermill": {
     "duration": 0.042584,
     "end_time": "2021-10-16T04:00:09.517613",
     "exception": false,
     "start_time": "2021-10-16T04:00:09.475029",
     "status": "completed"
    },
    "tags": []
   },
   "outputs": [],
   "source": [
    "df_pivot.columns = [\"stamp_1\", \"stamp_2\"]\n",
    "df_pivot_diff = df_pivot.diff(axis=1)"
   ]
  },
  {
   "cell_type": "code",
   "execution_count": 7,
   "id": "fifth-motion",
   "metadata": {
    "execution": {
     "iopub.execute_input": "2021-10-16T04:00:09.572282Z",
     "iopub.status.busy": "2021-10-16T04:00:09.570033Z",
     "iopub.status.idle": "2021-10-16T04:00:11.086106Z",
     "shell.execute_reply": "2021-10-16T04:00:11.087398Z"
    },
    "papermill": {
     "duration": 1.54908,
     "end_time": "2021-10-16T04:00:11.087812",
     "exception": false,
     "start_time": "2021-10-16T04:00:09.538732",
     "status": "completed"
    },
    "tags": []
   },
   "outputs": [
    {
     "data": {
      "text/plain": [
       "<AxesSubplot:ylabel='PRODUCT'>"
      ]
     },
     "execution_count": 7,
     "metadata": {},
     "output_type": "execute_result"
    },
    {
     "data": {
      "image/png": "[encoded data removed]",
      "text/plain": [
       "<Figure size 432x288 with 1 Axes>"
      ]
     },
     "metadata": {
      "needs_background": "light"
     },
     "output_type": "display_data"
    }
   ],
   "source": [
    "df_pivot_diff.sort_values(\"stamp_2\", ascending = False)[\"stamp_2\"].head(10).plot.barh()"
   ]
  },
  {
   "cell_type": "code",
   "execution_count": null,
   "id": "extra-executive",
   "metadata": {
    "papermill": {
     "duration": 0.022703,
     "end_time": "2021-10-16T04:00:11.135759",
     "exception": false,
     "start_time": "2021-10-16T04:00:11.113056",
     "status": "completed"
    },
    "tags": []
   },
   "outputs": [],
   "source": []
  }
 ],
 "metadata": {
  "kernelspec": {
   "display_name": "Python 3",
   "language": "python",
   "name": "python3"
  },
  "language_info": {
   "codemirror_mode": {
    "name": "ipython",
    "version": 3
   },
   "file_extension": ".py",
   "mimetype": "text/x-python",
   "name": "python",
   "nbconvert_exporter": "python",
   "pygments_lexer": "ipython3",
   "version": "3.9.5"
  },
  "papermill": {
   "default_parameters": {},
   "duration": 7.83574,
   "end_time": "2021-10-16T04:00:12.377816",
   "environment_variables": {},
   "exception": null,
   "input_path": "eBay_Overview.ipynb",
   "output_path": "eBay_Overview.ipynb",
   "parameters": {},
   "start_time": "2021-10-16T04:00:04.542076",
   "version": "2.3.3"
  }
 },
 "nbformat": 4,
 "nbformat_minor": 5
}