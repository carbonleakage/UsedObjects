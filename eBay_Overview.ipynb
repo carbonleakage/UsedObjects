{
 "cells": [
  {
   "cell_type": "code",
   "execution_count": 1,
   "id": "reverse-picking",
   "metadata": {
    "execution": {
     "iopub.execute_input": "2021-09-05T08:30:07.454974Z",
     "iopub.status.busy": "2021-09-05T08:30:07.452966Z",
     "iopub.status.idle": "2021-09-05T08:30:08.259637Z",
     "shell.execute_reply": "2021-09-05T08:30:08.260911Z"
    },
    "papermill": {
     "duration": 0.858134,
     "end_time": "2021-09-05T08:30:08.261525",
     "exception": false,
     "start_time": "2021-09-05T08:30:07.403391",
     "status": "completed"
    },
    "tags": []
   },
   "outputs": [],
   "source": [
    "import pandas as pd\n",
    "import sqlite3"
   ]
  },
  {
   "cell_type": "code",
   "execution_count": 2,
   "id": "innovative-syndrome",
   "metadata": {
    "execution": {
     "iopub.execute_input": "2021-09-05T08:30:08.312021Z",
     "iopub.status.busy": "2021-09-05T08:30:08.310076Z",
     "iopub.status.idle": "2021-09-05T08:30:08.520767Z",
     "shell.execute_reply": "2021-09-05T08:30:08.521958Z"
    },
    "papermill": {
     "duration": 0.239714,
     "end_time": "2021-09-05T08:30:08.522354",
     "exception": false,
     "start_time": "2021-09-05T08:30:08.282640",
     "status": "completed"
    },
    "tags": []
   },
   "outputs": [],
   "source": [
    "timestamps = pd.read_sql(\"select distinct record_time from EBAY_TOP_BERLIN order by record_time desc limit 2\", sqlite3.connect(\"UsedObjects.db\"))"
   ]
  },
  {
   "cell_type": "code",
   "execution_count": 3,
   "id": "periodic-identification",
   "metadata": {
    "execution": {
     "iopub.execute_input": "2021-09-05T08:30:08.586097Z",
     "iopub.status.busy": "2021-09-05T08:30:08.584104Z",
     "iopub.status.idle": "2021-09-05T08:30:08.604008Z",
     "shell.execute_reply": "2021-09-05T08:30:08.605352Z"
    },
    "papermill": {
     "duration": 0.06415,
     "end_time": "2021-09-05T08:30:08.605773",
     "exception": false,
     "start_time": "2021-09-05T08:30:08.541623",
     "status": "completed"
    },
    "tags": []
   },
   "outputs": [
    {
     "data": {
      "text/html": [
       "<div>\n",
       "<style scoped>\n",
       "    .dataframe tbody tr th:only-of-type {\n",
       "        vertical-align: middle;\n",
       "    }\n",
       "\n",
       "    .dataframe tbody tr th {\n",
       "        vertical-align: top;\n",
       "    }\n",
       "\n",
       "    .dataframe thead th {\n",
       "        text-align: right;\n",
       "    }\n",
       "</style>\n",
       "<table border=\"1\" class=\"dataframe\">\n",
       "  <thead>\n",
       "    <tr style=\"text-align: right;\">\n",
       "      <th></th>\n",
       "      <th>RECORD_TIME</th>\n",
       "    </tr>\n",
       "  </thead>\n",
       "  <tbody>\n",
       "    <tr>\n",
       "      <th>0</th>\n",
       "      <td>2021-09-05 10:30</td>\n",
       "    </tr>\n",
       "    <tr>\n",
       "      <th>1</th>\n",
       "      <td>2021-09-05 10:00</td>\n",
       "    </tr>\n",
       "  </tbody>\n",
       "</table>\n",
       "</div>"
      ],
      "text/plain": [
       "        RECORD_TIME\n",
       "0  2021-09-05 10:30\n",
       "1  2021-09-05 10:00"
      ]
     },
     "execution_count": 3,
     "metadata": {},
     "output_type": "execute_result"
    }
   ],
   "source": [
    "timestamps"
   ]
  },
  {
   "cell_type": "code",
   "execution_count": 4,
   "id": "alternate-victory",
   "metadata": {
    "execution": {
     "iopub.execute_input": "2021-09-05T08:30:08.657287Z",
     "iopub.status.busy": "2021-09-05T08:30:08.655156Z",
     "iopub.status.idle": "2021-09-05T08:30:08.978739Z",
     "shell.execute_reply": "2021-09-05T08:30:08.980193Z"
    },
    "papermill": {
     "duration": 0.353889,
     "end_time": "2021-09-05T08:30:08.980624",
     "exception": false,
     "start_time": "2021-09-05T08:30:08.626735",
     "status": "completed"
    },
    "tags": []
   },
   "outputs": [],
   "source": [
    "df = pd.read_sql(\"select * from EBAY_TOP_BERLIN where record_time in (select distinct record_time from EBAY_TOP_BERLIN order by record_time desc limit 2)\", sqlite3.connect(\"UsedObjects.db\"))"
   ]
  },
  {
   "cell_type": "code",
   "execution_count": 5,
   "id": "popular-active",
   "metadata": {
    "execution": {
     "iopub.execute_input": "2021-09-05T08:30:09.059899Z",
     "iopub.status.busy": "2021-09-05T08:30:09.049186Z",
     "iopub.status.idle": "2021-09-05T08:30:09.075534Z",
     "shell.execute_reply": "2021-09-05T08:30:09.076660Z"
    },
    "papermill": {
     "duration": 0.071111,
     "end_time": "2021-09-05T08:30:09.077069",
     "exception": false,
     "start_time": "2021-09-05T08:30:09.005958",
     "status": "completed"
    },
    "tags": []
   },
   "outputs": [],
   "source": [
    "df_pivot = df.pivot_table(index=\"PRODUCT\", columns = \"RECORD_TIME\", values = \"LISTING_COUNT\")"
   ]
  },
  {
   "cell_type": "code",
   "execution_count": 6,
   "id": "union-huntington",
   "metadata": {
    "execution": {
     "iopub.execute_input": "2021-09-05T08:30:09.135510Z",
     "iopub.status.busy": "2021-09-05T08:30:09.133404Z",
     "iopub.status.idle": "2021-09-05T08:30:09.138697Z",
     "shell.execute_reply": "2021-09-05T08:30:09.140046Z"
    },
    "papermill": {
     "duration": 0.040494,
     "end_time": "2021-09-05T08:30:09.140464",
     "exception": false,
     "start_time": "2021-09-05T08:30:09.099970",
     "status": "completed"
    },
    "tags": []
   },
   "outputs": [],
   "source": [
    "df_pivot.columns = [\"stamp_1\", \"stamp_2\"]\n",
    "df_pivot_diff = df_pivot.diff(axis=1)"
   ]
  },
  {
   "cell_type": "code",
   "execution_count": 7,
   "id": "fifth-motion",
   "metadata": {
    "execution": {
     "iopub.execute_input": "2021-09-05T08:30:09.194836Z",
     "iopub.status.busy": "2021-09-05T08:30:09.192451Z",
     "iopub.status.idle": "2021-09-05T08:30:10.701643Z",
     "shell.execute_reply": "2021-09-05T08:30:10.703070Z"
    },
    "papermill": {
     "duration": 1.541973,
     "end_time": "2021-09-05T08:30:10.703519",
     "exception": false,
     "start_time": "2021-09-05T08:30:09.161546",
     "status": "completed"
    },
    "tags": []
   },
   "outputs": [
    {
     "data": {
      "text/plain": [
       "<AxesSubplot:ylabel='PRODUCT'>"
      ]
     },
     "execution_count": 7,
     "metadata": {},
     "output_type": "execute_result"
    },
    {
     "data": {
      "image/png": "[encoded data removed]",
      "text/plain": [
       "<Figure size 432x288 with 1 Axes>"
      ]
     },
     "metadata": {
      "needs_background": "light"
     },
     "output_type": "display_data"
    }
   ],
   "source": [
    "df_pivot_diff.sort_values(\"stamp_2\", ascending = False)[\"stamp_2\"].head(10).plot.barh()"
   ]
  },
  {
   "cell_type": "code",
   "execution_count": null,
   "id": "extra-executive",
   "metadata": {
    "papermill": {
     "duration": 0.021909,
     "end_time": "2021-09-05T08:30:10.749848",
     "exception": false,
     "start_time": "2021-09-05T08:30:10.727939",
     "status": "completed"
    },
    "tags": []
   },
   "outputs": [],
   "source": []
  }
 ],
 "metadata": {
  "kernelspec": {
   "display_name": "Python 3",
   "language": "python",
   "name": "python3"
  },
  "language_info": {
   "codemirror_mode": {
    "name": "ipython",
    "version": 3
   },
   "file_extension": ".py",
   "mimetype": "text/x-python",
   "name": "python",
   "nbconvert_exporter": "python",
   "pygments_lexer": "ipython3",
   "version": "3.9.5"
  },
  "papermill": {
   "default_parameters": {},
   "duration": 6.391738,
   "end_time": "2021-09-05T08:30:11.390232",
   "environment_variables": {},
   "exception": null,
   "input_path": "eBay_Overview.ipynb",
   "output_path": "eBay_Overview.ipynb",
   "parameters": {},
   "start_time": "2021-09-05T08:30:04.998494",
   "version": "2.3.3"
  }
 },
 "nbformat": 4,
 "nbformat_minor": 5
}