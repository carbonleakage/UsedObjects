{
 "cells": [
  {
   "cell_type": "code",
   "execution_count": 1,
   "id": "reverse-picking",
   "metadata": {
    "execution": {
     "iopub.execute_input": "2021-10-16T12:00:06.706540Z",
     "iopub.status.busy": "2021-10-16T12:00:06.704440Z",
     "iopub.status.idle": "2021-10-16T12:00:07.511181Z",
     "shell.execute_reply": "2021-10-16T12:00:07.512451Z"
    },
    "papermill": {
     "duration": 0.85952,
     "end_time": "2021-10-16T12:00:07.513170",
     "exception": false,
     "start_time": "2021-10-16T12:00:06.653650",
     "status": "completed"
    },
    "tags": []
   },
   "outputs": [],
   "source": [
    "import pandas as pd\n",
    "import sqlite3"
   ]
  },
  {
   "cell_type": "code",
   "execution_count": 2,
   "id": "innovative-syndrome",
   "metadata": {
    "execution": {
     "iopub.execute_input": "2021-10-16T12:00:07.563392Z",
     "iopub.status.busy": "2021-10-16T12:00:07.561518Z",
     "iopub.status.idle": "2021-10-16T12:00:08.112642Z",
     "shell.execute_reply": "2021-10-16T12:00:08.114040Z"
    },
    "papermill": {
     "duration": 0.580979,
     "end_time": "2021-10-16T12:00:08.114457",
     "exception": false,
     "start_time": "2021-10-16T12:00:07.533478",
     "status": "completed"
    },
    "tags": []
   },
   "outputs": [],
   "source": [
    "timestamps = pd.read_sql(\"select distinct record_time from EBAY_TOP_BERLIN order by record_time desc limit 2\", sqlite3.connect(\"UsedObjects.db\"))"
   ]
  },
  {
   "cell_type": "code",
   "execution_count": 3,
   "id": "periodic-identification",
   "metadata": {
    "execution": {
     "iopub.execute_input": "2021-10-16T12:00:08.191411Z",
     "iopub.status.busy": "2021-10-16T12:00:08.189362Z",
     "iopub.status.idle": "2021-10-16T12:00:08.210921Z",
     "shell.execute_reply": "2021-10-16T12:00:08.212514Z"
    },
    "papermill": {
     "duration": 0.070332,
     "end_time": "2021-10-16T12:00:08.213104",
     "exception": false,
     "start_time": "2021-10-16T12:00:08.142772",
     "status": "completed"
    },
    "tags": []
   },
   "outputs": [
    {
     "data": {
      "text/html": [
       "<div>\n",
       "<style scoped>\n",
       "    .dataframe tbody tr th:only-of-type {\n",
       "        vertical-align: middle;\n",
       "    }\n",
       "\n",
       "    .dataframe tbody tr th {\n",
       "        vertical-align: top;\n",
       "    }\n",
       "\n",
       "    .dataframe thead th {\n",
       "        text-align: right;\n",
       "    }\n",
       "</style>\n",
       "<table border=\"1\" class=\"dataframe\">\n",
       "  <thead>\n",
       "    <tr style=\"text-align: right;\">\n",
       "      <th></th>\n",
       "      <th>RECORD_TIME</th>\n",
       "    </tr>\n",
       "  </thead>\n",
       "  <tbody>\n",
       "    <tr>\n",
       "      <th>0</th>\n",
       "      <td>2021-10-16 14:00</td>\n",
       "    </tr>\n",
       "    <tr>\n",
       "      <th>1</th>\n",
       "      <td>2021-10-16 13:30</td>\n",
       "    </tr>\n",
       "  </tbody>\n",
       "</table>\n",
       "</div>"
      ],
      "text/plain": [
       "        RECORD_TIME\n",
       "0  2021-10-16 14:00\n",
       "1  2021-10-16 13:30"
      ]
     },
     "execution_count": 3,
     "metadata": {},
     "output_type": "execute_result"
    }
   ],
   "source": [
    "timestamps"
   ]
  },
  {
   "cell_type": "code",
   "execution_count": 4,
   "id": "alternate-victory",
   "metadata": {
    "execution": {
     "iopub.execute_input": "2021-10-16T12:00:08.264983Z",
     "iopub.status.busy": "2021-10-16T12:00:08.263057Z",
     "iopub.status.idle": "2021-10-16T12:00:09.070764Z",
     "shell.execute_reply": "2021-10-16T12:00:09.072078Z"
    },
    "papermill": {
     "duration": 0.837791,
     "end_time": "2021-10-16T12:00:09.072504",
     "exception": false,
     "start_time": "2021-10-16T12:00:08.234713",
     "status": "completed"
    },
    "tags": []
   },
   "outputs": [],
   "source": [
    "df = pd.read_sql(\"select * from EBAY_TOP_BERLIN where record_time in (select distinct record_time from EBAY_TOP_BERLIN order by record_time desc limit 2)\", sqlite3.connect(\"UsedObjects.db\"))"
   ]
  },
  {
   "cell_type": "code",
   "execution_count": 5,
   "id": "popular-active",
   "metadata": {
    "execution": {
     "iopub.execute_input": "2021-10-16T12:00:09.138919Z",
     "iopub.status.busy": "2021-10-16T12:00:09.131317Z",
     "iopub.status.idle": "2021-10-16T12:00:09.160340Z",
     "shell.execute_reply": "2021-10-16T12:00:09.161802Z"
    },
    "papermill": {
     "duration": 0.06891,
     "end_time": "2021-10-16T12:00:09.162222",
     "exception": false,
     "start_time": "2021-10-16T12:00:09.093312",
     "status": "completed"
    },
    "tags": []
   },
   "outputs": [],
   "source": [
    "df_pivot = df.pivot_table(index=\"PRODUCT\", columns = \"RECORD_TIME\", values = \"LISTING_COUNT\")"
   ]
  },
  {
   "cell_type": "code",
   "execution_count": 6,
   "id": "union-huntington",
   "metadata": {
    "execution": {
     "iopub.execute_input": "2021-10-16T12:00:09.221040Z",
     "iopub.status.busy": "2021-10-16T12:00:09.218523Z",
     "iopub.status.idle": "2021-10-16T12:00:09.224331Z",
     "shell.execute_reply": "2021-10-16T12:00:09.225798Z"
    },
    "papermill": {
     "duration": 0.042552,
     "end_time": "2021-10-16T12:00:09.226251",
     "exception": false,
     "start_time": "2021-10-16T12:00:09.183699",
     "status": "completed"
    },
    "tags": []
   },
   "outputs": [],
   "source": [
    "df_pivot.columns = [\"stamp_1\", \"stamp_2\"]\n",
    "df_pivot_diff = df_pivot.diff(axis=1)"
   ]
  },
  {
   "cell_type": "code",
   "execution_count": 7,
   "id": "fifth-motion",
   "metadata": {
    "execution": {
     "iopub.execute_input": "2021-10-16T12:00:09.280800Z",
     "iopub.status.busy": "2021-10-16T12:00:09.278420Z",
     "iopub.status.idle": "2021-10-16T12:00:10.768952Z",
     "shell.execute_reply": "2021-10-16T12:00:10.770268Z"
    },
    "papermill": {
     "duration": 1.523159,
     "end_time": "2021-10-16T12:00:10.770691",
     "exception": false,
     "start_time": "2021-10-16T12:00:09.247532",
     "status": "completed"
    },
    "tags": []
   },
   "outputs": [
    {
     "data": {
      "text/plain": [
       "<AxesSubplot:ylabel='PRODUCT'>"
      ]
     },
     "execution_count": 7,
     "metadata": {},
     "output_type": "execute_result"
    },
    {
     "data": {
      "image/png": "[encoded data removed]",
      "text/plain": [
       "<Figure size 432x288 with 1 Axes>"
      ]
     },
     "metadata": {
      "needs_background": "light"
     },
     "output_type": "display_data"
    }
   ],
   "source": [
    "df_pivot_diff.sort_values(\"stamp_2\", ascending = False)[\"stamp_2\"].head(10).plot.barh()"
   ]
  },
  {
   "cell_type": "code",
   "execution_count": null,
   "id": "extra-executive",
   "metadata": {
    "papermill": {
     "duration": 0.022376,
     "end_time": "2021-10-16T12:00:10.818021",
     "exception": false,
     "start_time": "2021-10-16T12:00:10.795645",
     "status": "completed"
    },
    "tags": []
   },
   "outputs": [],
   "source": []
  }
 ],
 "metadata": {
  "kernelspec": {
   "display_name": "Python 3",
   "language": "python",
   "name": "python3"
  },
  "language_info": {
   "codemirror_mode": {
    "name": "ipython",
    "version": 3
   },
   "file_extension": ".py",
   "mimetype": "text/x-python",
   "name": "python",
   "nbconvert_exporter": "python",
   "pygments_lexer": "ipython3",
   "version": "3.9.5"
  },
  "papermill": {
   "default_parameters": {},
   "duration": 7.820629,
   "end_time": "2021-10-16T12:00:12.066640",
   "environment_variables": {},
   "exception": null,
   "input_path": "eBay_Overview.ipynb",
   "output_path": "eBay_Overview.ipynb",
   "parameters": {},
   "start_time": "2021-10-16T12:00:04.246011",
   "version": "2.3.3"
  }
 },
 "nbformat": 4,
 "nbformat_minor": 5
}