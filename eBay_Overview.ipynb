{
 "cells": [
  {
   "cell_type": "code",
   "execution_count": 1,
   "id": "reverse-picking",
   "metadata": {
    "execution": {
     "iopub.execute_input": "2021-08-30T01:00:07.125664Z",
     "iopub.status.busy": "2021-08-30T01:00:07.123546Z",
     "iopub.status.idle": "2021-08-30T01:00:07.930302Z",
     "shell.execute_reply": "2021-08-30T01:00:07.931550Z"
    },
    "papermill": {
     "duration": 0.857515,
     "end_time": "2021-08-30T01:00:07.932179",
     "exception": false,
     "start_time": "2021-08-30T01:00:07.074664",
     "status": "completed"
    },
    "tags": []
   },
   "outputs": [],
   "source": [
    "import pandas as pd\n",
    "import sqlite3"
   ]
  },
  {
   "cell_type": "code",
   "execution_count": 2,
   "id": "innovative-syndrome",
   "metadata": {
    "execution": {
     "iopub.execute_input": "2021-08-30T01:00:07.985712Z",
     "iopub.status.busy": "2021-08-30T01:00:07.983316Z",
     "iopub.status.idle": "2021-08-30T01:00:08.147026Z",
     "shell.execute_reply": "2021-08-30T01:00:08.148383Z"
    },
    "papermill": {
     "duration": 0.193962,
     "end_time": "2021-08-30T01:00:08.148817",
     "exception": false,
     "start_time": "2021-08-30T01:00:07.954855",
     "status": "completed"
    },
    "tags": []
   },
   "outputs": [],
   "source": [
    "timestamps = pd.read_sql(\"select distinct record_time from EBAY_TOP_BERLIN order by record_time desc limit 2\", sqlite3.connect(\"UsedObjects.db\"))"
   ]
  },
  {
   "cell_type": "code",
   "execution_count": 3,
   "id": "periodic-identification",
   "metadata": {
    "execution": {
     "iopub.execute_input": "2021-08-30T01:00:08.214226Z",
     "iopub.status.busy": "2021-08-30T01:00:08.212152Z",
     "iopub.status.idle": "2021-08-30T01:00:08.232461Z",
     "shell.execute_reply": "2021-08-30T01:00:08.233760Z"
    },
    "papermill": {
     "duration": 0.065836,
     "end_time": "2021-08-30T01:00:08.234214",
     "exception": false,
     "start_time": "2021-08-30T01:00:08.168378",
     "status": "completed"
    },
    "tags": []
   },
   "outputs": [
    {
     "data": {
      "text/html": [
       "<div>\n",
       "<style scoped>\n",
       "    .dataframe tbody tr th:only-of-type {\n",
       "        vertical-align: middle;\n",
       "    }\n",
       "\n",
       "    .dataframe tbody tr th {\n",
       "        vertical-align: top;\n",
       "    }\n",
       "\n",
       "    .dataframe thead th {\n",
       "        text-align: right;\n",
       "    }\n",
       "</style>\n",
       "<table border=\"1\" class=\"dataframe\">\n",
       "  <thead>\n",
       "    <tr style=\"text-align: right;\">\n",
       "      <th></th>\n",
       "      <th>RECORD_TIME</th>\n",
       "    </tr>\n",
       "  </thead>\n",
       "  <tbody>\n",
       "    <tr>\n",
       "      <th>0</th>\n",
       "      <td>2021-08-30 03:00</td>\n",
       "    </tr>\n",
       "    <tr>\n",
       "      <th>1</th>\n",
       "      <td>2021-08-30 02:30</td>\n",
       "    </tr>\n",
       "  </tbody>\n",
       "</table>\n",
       "</div>"
      ],
      "text/plain": [
       "        RECORD_TIME\n",
       "0  2021-08-30 03:00\n",
       "1  2021-08-30 02:30"
      ]
     },
     "execution_count": 3,
     "metadata": {},
     "output_type": "execute_result"
    }
   ],
   "source": [
    "timestamps"
   ]
  },
  {
   "cell_type": "code",
   "execution_count": 4,
   "id": "alternate-victory",
   "metadata": {
    "execution": {
     "iopub.execute_input": "2021-08-30T01:00:08.286686Z",
     "iopub.status.busy": "2021-08-30T01:00:08.284853Z",
     "iopub.status.idle": "2021-08-30T01:00:08.527035Z",
     "shell.execute_reply": "2021-08-30T01:00:08.525732Z"
    },
    "papermill": {
     "duration": 0.271171,
     "end_time": "2021-08-30T01:00:08.527367",
     "exception": false,
     "start_time": "2021-08-30T01:00:08.256196",
     "status": "completed"
    },
    "tags": []
   },
   "outputs": [],
   "source": [
    "df = pd.read_sql(\"select * from EBAY_TOP_BERLIN where record_time in (select distinct record_time from EBAY_TOP_BERLIN order by record_time desc limit 2)\", sqlite3.connect(\"UsedObjects.db\"))"
   ]
  },
  {
   "cell_type": "code",
   "execution_count": 5,
   "id": "popular-active",
   "metadata": {
    "execution": {
     "iopub.execute_input": "2021-08-30T01:00:08.613744Z",
     "iopub.status.busy": "2021-08-30T01:00:08.601496Z",
     "iopub.status.idle": "2021-08-30T01:00:08.630458Z",
     "shell.execute_reply": "2021-08-30T01:00:08.631909Z"
    },
    "papermill": {
     "duration": 0.074054,
     "end_time": "2021-08-30T01:00:08.632570",
     "exception": false,
     "start_time": "2021-08-30T01:00:08.558516",
     "status": "completed"
    },
    "tags": []
   },
   "outputs": [],
   "source": [
    "df_pivot = df.pivot_table(index=\"PRODUCT\", columns = \"RECORD_TIME\", values = \"LISTING_COUNT\")"
   ]
  },
  {
   "cell_type": "code",
   "execution_count": 6,
   "id": "union-huntington",
   "metadata": {
    "execution": {
     "iopub.execute_input": "2021-08-30T01:00:08.691945Z",
     "iopub.status.busy": "2021-08-30T01:00:08.689675Z",
     "iopub.status.idle": "2021-08-30T01:00:08.695352Z",
     "shell.execute_reply": "2021-08-30T01:00:08.696707Z"
    },
    "papermill": {
     "duration": 0.041972,
     "end_time": "2021-08-30T01:00:08.697131",
     "exception": false,
     "start_time": "2021-08-30T01:00:08.655159",
     "status": "completed"
    },
    "tags": []
   },
   "outputs": [],
   "source": [
    "df_pivot.columns = [\"stamp_1\", \"stamp_2\"]\n",
    "df_pivot_diff = df_pivot.diff(axis=1)"
   ]
  },
  {
   "cell_type": "code",
   "execution_count": 7,
   "id": "fifth-motion",
   "metadata": {
    "execution": {
     "iopub.execute_input": "2021-08-30T01:00:08.751276Z",
     "iopub.status.busy": "2021-08-30T01:00:08.749127Z",
     "iopub.status.idle": "2021-08-30T01:00:10.247724Z",
     "shell.execute_reply": "2021-08-30T01:00:10.249114Z"
    },
    "papermill": {
     "duration": 1.531523,
     "end_time": "2021-08-30T01:00:10.249543",
     "exception": false,
     "start_time": "2021-08-30T01:00:08.718020",
     "status": "completed"
    },
    "tags": []
   },
   "outputs": [
    {
     "data": {
      "text/plain": [
       "<AxesSubplot:ylabel='PRODUCT'>"
      ]
     },
     "execution_count": 7,
     "metadata": {},
     "output_type": "execute_result"
    },
    {
     "data": {
      "image/png": "[encoded data removed]",
      "text/plain": [
       "<Figure size 432x288 with 1 Axes>"
      ]
     },
     "metadata": {
      "needs_background": "light"
     },
     "output_type": "display_data"
    }
   ],
   "source": [
    "df_pivot_diff.sort_values(\"stamp_2\", ascending = False)[\"stamp_2\"].head(10).plot.barh()"
   ]
  },
  {
   "cell_type": "code",
   "execution_count": null,
   "id": "extra-executive",
   "metadata": {
    "papermill": {
     "duration": 0.022469,
     "end_time": "2021-08-30T01:00:10.295386",
     "exception": false,
     "start_time": "2021-08-30T01:00:10.272917",
     "status": "completed"
    },
    "tags": []
   },
   "outputs": [],
   "source": []
  }
 ],
 "metadata": {
  "kernelspec": {
   "display_name": "Python 3",
   "language": "python",
   "name": "python3"
  },
  "language_info": {
   "codemirror_mode": {
    "name": "ipython",
    "version": 3
   },
   "file_extension": ".py",
   "mimetype": "text/x-python",
   "name": "python",
   "nbconvert_exporter": "python",
   "pygments_lexer": "ipython3",
   "version": "3.9.5"
  },
  "papermill": {
   "default_parameters": {},
   "duration": 6.821413,
   "end_time": "2021-08-30T01:00:11.490484",
   "environment_variables": {},
   "exception": null,
   "input_path": "eBay_Overview.ipynb",
   "output_path": "eBay_Overview.ipynb",
   "parameters": {},
   "start_time": "2021-08-30T01:00:04.669071",
   "version": "2.3.3"
  }
 },
 "nbformat": 4,
 "nbformat_minor": 5
}