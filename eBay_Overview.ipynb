{
 "cells": [
  {
   "cell_type": "code",
   "execution_count": 1,
   "id": "reverse-picking",
   "metadata": {
    "execution": {
     "iopub.execute_input": "2021-08-21T12:30:06.963318Z",
     "iopub.status.busy": "2021-08-21T12:30:06.961300Z",
     "iopub.status.idle": "2021-08-21T12:30:07.767224Z",
     "shell.execute_reply": "2021-08-21T12:30:07.768475Z"
    },
    "papermill": {
     "duration": 0.856623,
     "end_time": "2021-08-21T12:30:07.769097",
     "exception": false,
     "start_time": "2021-08-21T12:30:06.912474",
     "status": "completed"
    },
    "tags": []
   },
   "outputs": [],
   "source": [
    "import pandas as pd\n",
    "import sqlite3"
   ]
  },
  {
   "cell_type": "code",
   "execution_count": 2,
   "id": "innovative-syndrome",
   "metadata": {
    "execution": {
     "iopub.execute_input": "2021-08-21T12:30:07.821666Z",
     "iopub.status.busy": "2021-08-21T12:30:07.819346Z",
     "iopub.status.idle": "2021-08-21T12:30:07.917742Z",
     "shell.execute_reply": "2021-08-21T12:30:07.919105Z"
    },
    "papermill": {
     "duration": 0.128435,
     "end_time": "2021-08-21T12:30:07.919530",
     "exception": false,
     "start_time": "2021-08-21T12:30:07.791095",
     "status": "completed"
    },
    "tags": []
   },
   "outputs": [],
   "source": [
    "timestamps = pd.read_sql(\"select distinct record_time from EBAY_TOP_BERLIN order by record_time desc limit 2\", sqlite3.connect(\"UsedObjects.db\"))"
   ]
  },
  {
   "cell_type": "code",
   "execution_count": 3,
   "id": "periodic-identification",
   "metadata": {
    "execution": {
     "iopub.execute_input": "2021-08-21T12:30:07.987279Z",
     "iopub.status.busy": "2021-08-21T12:30:07.982354Z",
     "iopub.status.idle": "2021-08-21T12:30:08.003696Z",
     "shell.execute_reply": "2021-08-21T12:30:08.005051Z"
    },
    "papermill": {
     "duration": 0.066339,
     "end_time": "2021-08-21T12:30:08.005532",
     "exception": false,
     "start_time": "2021-08-21T12:30:07.939193",
     "status": "completed"
    },
    "tags": []
   },
   "outputs": [
    {
     "data": {
      "text/html": [
       "<div>\n",
       "<style scoped>\n",
       "    .dataframe tbody tr th:only-of-type {\n",
       "        vertical-align: middle;\n",
       "    }\n",
       "\n",
       "    .dataframe tbody tr th {\n",
       "        vertical-align: top;\n",
       "    }\n",
       "\n",
       "    .dataframe thead th {\n",
       "        text-align: right;\n",
       "    }\n",
       "</style>\n",
       "<table border=\"1\" class=\"dataframe\">\n",
       "  <thead>\n",
       "    <tr style=\"text-align: right;\">\n",
       "      <th></th>\n",
       "      <th>RECORD_TIME</th>\n",
       "    </tr>\n",
       "  </thead>\n",
       "  <tbody>\n",
       "    <tr>\n",
       "      <th>0</th>\n",
       "      <td>2021-08-21 14:30</td>\n",
       "    </tr>\n",
       "    <tr>\n",
       "      <th>1</th>\n",
       "      <td>2021-08-21 14:00</td>\n",
       "    </tr>\n",
       "  </tbody>\n",
       "</table>\n",
       "</div>"
      ],
      "text/plain": [
       "        RECORD_TIME\n",
       "0  2021-08-21 14:30\n",
       "1  2021-08-21 14:00"
      ]
     },
     "execution_count": 3,
     "metadata": {},
     "output_type": "execute_result"
    }
   ],
   "source": [
    "timestamps"
   ]
  },
  {
   "cell_type": "code",
   "execution_count": 4,
   "id": "alternate-victory",
   "metadata": {
    "execution": {
     "iopub.execute_input": "2021-08-21T12:30:08.060136Z",
     "iopub.status.busy": "2021-08-21T12:30:08.058111Z",
     "iopub.status.idle": "2021-08-21T12:30:08.202584Z",
     "shell.execute_reply": "2021-08-21T12:30:08.203899Z"
    },
    "papermill": {
     "duration": 0.17496,
     "end_time": "2021-08-21T12:30:08.204302",
     "exception": false,
     "start_time": "2021-08-21T12:30:08.029342",
     "status": "completed"
    },
    "tags": []
   },
   "outputs": [],
   "source": [
    "df = pd.read_sql(\"select * from EBAY_TOP_BERLIN where record_time in (select distinct record_time from EBAY_TOP_BERLIN order by record_time desc limit 2)\", sqlite3.connect(\"UsedObjects.db\"))"
   ]
  },
  {
   "cell_type": "code",
   "execution_count": 5,
   "id": "popular-active",
   "metadata": {
    "execution": {
     "iopub.execute_input": "2021-08-21T12:30:08.271702Z",
     "iopub.status.busy": "2021-08-21T12:30:08.260886Z",
     "iopub.status.idle": "2021-08-21T12:30:08.288036Z",
     "shell.execute_reply": "2021-08-21T12:30:08.289240Z"
    },
    "papermill": {
     "duration": 0.065352,
     "end_time": "2021-08-21T12:30:08.289635",
     "exception": false,
     "start_time": "2021-08-21T12:30:08.224283",
     "status": "completed"
    },
    "tags": []
   },
   "outputs": [],
   "source": [
    "df_pivot = df.pivot_table(index=\"PRODUCT\", columns = \"RECORD_TIME\", values = \"LISTING_COUNT\")"
   ]
  },
  {
   "cell_type": "code",
   "execution_count": 6,
   "id": "union-huntington",
   "metadata": {
    "execution": {
     "iopub.execute_input": "2021-08-21T12:30:08.348172Z",
     "iopub.status.busy": "2021-08-21T12:30:08.346107Z",
     "iopub.status.idle": "2021-08-21T12:30:08.351427Z",
     "shell.execute_reply": "2021-08-21T12:30:08.352737Z"
    },
    "papermill": {
     "duration": 0.041272,
     "end_time": "2021-08-21T12:30:08.353152",
     "exception": false,
     "start_time": "2021-08-21T12:30:08.311880",
     "status": "completed"
    },
    "tags": []
   },
   "outputs": [],
   "source": [
    "df_pivot.columns = [\"stamp_1\", \"stamp_2\"]\n",
    "df_pivot_diff = df_pivot.diff(axis=1)"
   ]
  },
  {
   "cell_type": "code",
   "execution_count": 7,
   "id": "fifth-motion",
   "metadata": {
    "execution": {
     "iopub.execute_input": "2021-08-21T12:30:08.414793Z",
     "iopub.status.busy": "2021-08-21T12:30:08.412094Z",
     "iopub.status.idle": "2021-08-21T12:30:09.912437Z",
     "shell.execute_reply": "2021-08-21T12:30:09.914262Z"
    },
    "papermill": {
     "duration": 1.54113,
     "end_time": "2021-08-21T12:30:09.914806",
     "exception": false,
     "start_time": "2021-08-21T12:30:08.373676",
     "status": "completed"
    },
    "tags": []
   },
   "outputs": [
    {
     "data": {
      "text/plain": [
       "<AxesSubplot:ylabel='PRODUCT'>"
      ]
     },
     "execution_count": 7,
     "metadata": {},
     "output_type": "execute_result"
    },
    {
     "data": {
      "image/png": "[encoded data removed]",
      "text/plain": [
       "<Figure size 432x288 with 1 Axes>"
      ]
     },
     "metadata": {
      "needs_background": "light"
     },
     "output_type": "display_data"
    }
   ],
   "source": [
    "df_pivot_diff.sort_values(\"stamp_2\", ascending = False)[\"stamp_2\"].head(10).plot.barh()"
   ]
  },
  {
   "cell_type": "code",
   "execution_count": null,
   "id": "extra-executive",
   "metadata": {
    "papermill": {
     "duration": 0.022371,
     "end_time": "2021-08-21T12:30:09.962710",
     "exception": false,
     "start_time": "2021-08-21T12:30:09.940339",
     "status": "completed"
    },
    "tags": []
   },
   "outputs": [],
   "source": []
  }
 ],
 "metadata": {
  "kernelspec": {
   "display_name": "Python 3",
   "language": "python",
   "name": "python3"
  },
  "language_info": {
   "codemirror_mode": {
    "name": "ipython",
    "version": 3
   },
   "file_extension": ".py",
   "mimetype": "text/x-python",
   "name": "python",
   "nbconvert_exporter": "python",
   "pygments_lexer": "ipython3",
   "version": "3.9.5"
  },
  "papermill": {
   "default_parameters": {},
   "duration": 6.83505,
   "end_time": "2021-08-21T12:30:11.333727",
   "environment_variables": {},
   "exception": null,
   "input_path": "eBay_Overview.ipynb",
   "output_path": "eBay_Overview.ipynb",
   "parameters": {},
   "start_time": "2021-08-21T12:30:04.498677",
   "version": "2.3.3"
  }
 },
 "nbformat": 4,
 "nbformat_minor": 5
}