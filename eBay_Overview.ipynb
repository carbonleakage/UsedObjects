{
 "cells": [
  {
   "cell_type": "code",
   "execution_count": 1,
   "id": "reverse-picking",
   "metadata": {
    "execution": {
     "iopub.execute_input": "2021-10-23T01:00:07.031540Z",
     "iopub.status.busy": "2021-10-23T01:00:07.029612Z",
     "iopub.status.idle": "2021-10-23T01:00:07.833691Z",
     "shell.execute_reply": "2021-10-23T01:00:07.834965Z"
    },
    "papermill": {
     "duration": 0.854682,
     "end_time": "2021-10-23T01:00:07.835584",
     "exception": false,
     "start_time": "2021-10-23T01:00:06.980902",
     "status": "completed"
    },
    "tags": []
   },
   "outputs": [],
   "source": [
    "import pandas as pd\n",
    "import sqlite3"
   ]
  },
  {
   "cell_type": "code",
   "execution_count": 2,
   "id": "innovative-syndrome",
   "metadata": {
    "execution": {
     "iopub.execute_input": "2021-10-23T01:00:07.887208Z",
     "iopub.status.busy": "2021-10-23T01:00:07.885223Z",
     "iopub.status.idle": "2021-10-23T01:00:08.497275Z",
     "shell.execute_reply": "2021-10-23T01:00:08.498760Z"
    },
    "papermill": {
     "duration": 0.641842,
     "end_time": "2021-10-23T01:00:08.499205",
     "exception": false,
     "start_time": "2021-10-23T01:00:07.857363",
     "status": "completed"
    },
    "tags": []
   },
   "outputs": [],
   "source": [
    "timestamps = pd.read_sql(\"select distinct record_time from EBAY_TOP_BERLIN order by record_time desc limit 2\", sqlite3.connect(\"UsedObjects.db\"))"
   ]
  },
  {
   "cell_type": "code",
   "execution_count": 3,
   "id": "periodic-identification",
   "metadata": {
    "execution": {
     "iopub.execute_input": "2021-10-23T01:00:08.579584Z",
     "iopub.status.busy": "2021-10-23T01:00:08.577563Z",
     "iopub.status.idle": "2021-10-23T01:00:08.597601Z",
     "shell.execute_reply": "2021-10-23T01:00:08.599147Z"
    },
    "papermill": {
     "duration": 0.071617,
     "end_time": "2021-10-23T01:00:08.599596",
     "exception": false,
     "start_time": "2021-10-23T01:00:08.527979",
     "status": "completed"
    },
    "tags": []
   },
   "outputs": [
    {
     "data": {
      "text/html": [
       "<div>\n",
       "<style scoped>\n",
       "    .dataframe tbody tr th:only-of-type {\n",
       "        vertical-align: middle;\n",
       "    }\n",
       "\n",
       "    .dataframe tbody tr th {\n",
       "        vertical-align: top;\n",
       "    }\n",
       "\n",
       "    .dataframe thead th {\n",
       "        text-align: right;\n",
       "    }\n",
       "</style>\n",
       "<table border=\"1\" class=\"dataframe\">\n",
       "  <thead>\n",
       "    <tr style=\"text-align: right;\">\n",
       "      <th></th>\n",
       "      <th>RECORD_TIME</th>\n",
       "    </tr>\n",
       "  </thead>\n",
       "  <tbody>\n",
       "    <tr>\n",
       "      <th>0</th>\n",
       "      <td>2021-10-23 03:00</td>\n",
       "    </tr>\n",
       "    <tr>\n",
       "      <th>1</th>\n",
       "      <td>2021-10-23 02:30</td>\n",
       "    </tr>\n",
       "  </tbody>\n",
       "</table>\n",
       "</div>"
      ],
      "text/plain": [
       "        RECORD_TIME\n",
       "0  2021-10-23 03:00\n",
       "1  2021-10-23 02:30"
      ]
     },
     "execution_count": 3,
     "metadata": {},
     "output_type": "execute_result"
    }
   ],
   "source": [
    "timestamps"
   ]
  },
  {
   "cell_type": "code",
   "execution_count": 4,
   "id": "alternate-victory",
   "metadata": {
    "execution": {
     "iopub.execute_input": "2021-10-23T01:00:08.651518Z",
     "iopub.status.busy": "2021-10-23T01:00:08.649477Z",
     "iopub.status.idle": "2021-10-23T01:00:09.566629Z",
     "shell.execute_reply": "2021-10-23T01:00:09.567846Z"
    },
    "papermill": {
     "duration": 0.947675,
     "end_time": "2021-10-23T01:00:09.568248",
     "exception": false,
     "start_time": "2021-10-23T01:00:08.620573",
     "status": "completed"
    },
    "tags": []
   },
   "outputs": [],
   "source": [
    "df = pd.read_sql(\"select * from EBAY_TOP_BERLIN where record_time in (select distinct record_time from EBAY_TOP_BERLIN order by record_time desc limit 2)\", sqlite3.connect(\"UsedObjects.db\"))"
   ]
  },
  {
   "cell_type": "code",
   "execution_count": 5,
   "id": "popular-active",
   "metadata": {
    "execution": {
     "iopub.execute_input": "2021-10-23T01:00:09.639383Z",
     "iopub.status.busy": "2021-10-23T01:00:09.628144Z",
     "iopub.status.idle": "2021-10-23T01:00:09.655221Z",
     "shell.execute_reply": "2021-10-23T01:00:09.656501Z"
    },
    "papermill": {
     "duration": 0.067911,
     "end_time": "2021-10-23T01:00:09.656981",
     "exception": false,
     "start_time": "2021-10-23T01:00:09.589070",
     "status": "completed"
    },
    "tags": []
   },
   "outputs": [],
   "source": [
    "df_pivot = df.pivot_table(index=\"PRODUCT\", columns = \"RECORD_TIME\", values = \"LISTING_COUNT\")"
   ]
  },
  {
   "cell_type": "code",
   "execution_count": 6,
   "id": "union-huntington",
   "metadata": {
    "execution": {
     "iopub.execute_input": "2021-10-23T01:00:09.713759Z",
     "iopub.status.busy": "2021-10-23T01:00:09.711571Z",
     "iopub.status.idle": "2021-10-23T01:00:09.717295Z",
     "shell.execute_reply": "2021-10-23T01:00:09.718882Z"
    },
    "papermill": {
     "duration": 0.041182,
     "end_time": "2021-10-23T01:00:09.719362",
     "exception": false,
     "start_time": "2021-10-23T01:00:09.678180",
     "status": "completed"
    },
    "tags": []
   },
   "outputs": [],
   "source": [
    "df_pivot.columns = [\"stamp_1\", \"stamp_2\"]\n",
    "df_pivot_diff = df_pivot.diff(axis=1)"
   ]
  },
  {
   "cell_type": "code",
   "execution_count": 7,
   "id": "fifth-motion",
   "metadata": {
    "execution": {
     "iopub.execute_input": "2021-10-23T01:00:09.774613Z",
     "iopub.status.busy": "2021-10-23T01:00:09.772236Z",
     "iopub.status.idle": "2021-10-23T01:00:11.233495Z",
     "shell.execute_reply": "2021-10-23T01:00:11.234972Z"
    },
    "papermill": {
     "duration": 1.494466,
     "end_time": "2021-10-23T01:00:11.235440",
     "exception": false,
     "start_time": "2021-10-23T01:00:09.740974",
     "status": "completed"
    },
    "tags": []
   },
   "outputs": [
    {
     "data": {
      "text/plain": [
       "<AxesSubplot:ylabel='PRODUCT'>"
      ]
     },
     "execution_count": 7,
     "metadata": {},
     "output_type": "execute_result"
    },
    {
     "data": {
      "image/png": "[encoded data removed]",
      "text/plain": [
       "<Figure size 432x288 with 1 Axes>"
      ]
     },
     "metadata": {
      "needs_background": "light"
     },
     "output_type": "display_data"
    }
   ],
   "source": [
    "df_pivot_diff.sort_values(\"stamp_2\", ascending = False)[\"stamp_2\"].head(10).plot.barh()"
   ]
  },
  {
   "cell_type": "code",
   "execution_count": null,
   "id": "extra-executive",
   "metadata": {
    "papermill": {
     "duration": 0.02221,
     "end_time": "2021-10-23T01:00:11.281765",
     "exception": false,
     "start_time": "2021-10-23T01:00:11.259555",
     "status": "completed"
    },
    "tags": []
   },
   "outputs": [],
   "source": []
  }
 ],
 "metadata": {
  "kernelspec": {
   "display_name": "Python 3",
   "language": "python",
   "name": "python3"
  },
  "language_info": {
   "codemirror_mode": {
    "name": "ipython",
    "version": 3
   },
   "file_extension": ".py",
   "mimetype": "text/x-python",
   "name": "python",
   "nbconvert_exporter": "python",
   "pygments_lexer": "ipython3",
   "version": "3.9.5"
  },
  "papermill": {
   "default_parameters": {},
   "duration": 7.355654,
   "end_time": "2021-10-23T01:00:11.925876",
   "environment_variables": {},
   "exception": null,
   "input_path": "eBay_Overview.ipynb",
   "output_path": "eBay_Overview.ipynb",
   "parameters": {},
   "start_time": "2021-10-23T01:00:04.570222",
   "version": "2.3.3"
  }
 },
 "nbformat": 4,
 "nbformat_minor": 5
}