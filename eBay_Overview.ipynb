{
 "cells": [
  {
   "cell_type": "code",
   "execution_count": 1,
   "id": "reverse-picking",
   "metadata": {
    "execution": {
     "iopub.execute_input": "2021-09-12T06:00:06.729267Z",
     "iopub.status.busy": "2021-09-12T06:00:06.727300Z",
     "iopub.status.idle": "2021-09-12T06:00:07.539895Z",
     "shell.execute_reply": "2021-09-12T06:00:07.541349Z"
    },
    "papermill": {
     "duration": 0.866846,
     "end_time": "2021-09-12T06:00:07.542026",
     "exception": false,
     "start_time": "2021-09-12T06:00:06.675180",
     "status": "completed"
    },
    "tags": []
   },
   "outputs": [],
   "source": [
    "import pandas as pd\n",
    "import sqlite3"
   ]
  },
  {
   "cell_type": "code",
   "execution_count": 2,
   "id": "innovative-syndrome",
   "metadata": {
    "execution": {
     "iopub.execute_input": "2021-09-12T06:00:07.593000Z",
     "iopub.status.busy": "2021-09-12T06:00:07.590547Z",
     "iopub.status.idle": "2021-09-12T06:00:07.860137Z",
     "shell.execute_reply": "2021-09-12T06:00:07.861338Z"
    },
    "papermill": {
     "duration": 0.299425,
     "end_time": "2021-09-12T06:00:07.861734",
     "exception": false,
     "start_time": "2021-09-12T06:00:07.562309",
     "status": "completed"
    },
    "tags": []
   },
   "outputs": [],
   "source": [
    "timestamps = pd.read_sql(\"select distinct record_time from EBAY_TOP_BERLIN order by record_time desc limit 2\", sqlite3.connect(\"UsedObjects.db\"))"
   ]
  },
  {
   "cell_type": "code",
   "execution_count": 3,
   "id": "periodic-identification",
   "metadata": {
    "execution": {
     "iopub.execute_input": "2021-09-12T06:00:07.930123Z",
     "iopub.status.busy": "2021-09-12T06:00:07.928081Z",
     "iopub.status.idle": "2021-09-12T06:00:07.948284Z",
     "shell.execute_reply": "2021-09-12T06:00:07.949468Z"
    },
    "papermill": {
     "duration": 0.065913,
     "end_time": "2021-09-12T06:00:07.949896",
     "exception": false,
     "start_time": "2021-09-12T06:00:07.883983",
     "status": "completed"
    },
    "tags": []
   },
   "outputs": [
    {
     "data": {
      "text/html": [
       "<div>\n",
       "<style scoped>\n",
       "    .dataframe tbody tr th:only-of-type {\n",
       "        vertical-align: middle;\n",
       "    }\n",
       "\n",
       "    .dataframe tbody tr th {\n",
       "        vertical-align: top;\n",
       "    }\n",
       "\n",
       "    .dataframe thead th {\n",
       "        text-align: right;\n",
       "    }\n",
       "</style>\n",
       "<table border=\"1\" class=\"dataframe\">\n",
       "  <thead>\n",
       "    <tr style=\"text-align: right;\">\n",
       "      <th></th>\n",
       "      <th>RECORD_TIME</th>\n",
       "    </tr>\n",
       "  </thead>\n",
       "  <tbody>\n",
       "    <tr>\n",
       "      <th>0</th>\n",
       "      <td>2021-09-12 08:00</td>\n",
       "    </tr>\n",
       "    <tr>\n",
       "      <th>1</th>\n",
       "      <td>2021-09-12 07:30</td>\n",
       "    </tr>\n",
       "  </tbody>\n",
       "</table>\n",
       "</div>"
      ],
      "text/plain": [
       "        RECORD_TIME\n",
       "0  2021-09-12 08:00\n",
       "1  2021-09-12 07:30"
      ]
     },
     "execution_count": 3,
     "metadata": {},
     "output_type": "execute_result"
    }
   ],
   "source": [
    "timestamps"
   ]
  },
  {
   "cell_type": "code",
   "execution_count": 4,
   "id": "alternate-victory",
   "metadata": {
    "execution": {
     "iopub.execute_input": "2021-09-12T06:00:08.002026Z",
     "iopub.status.busy": "2021-09-12T06:00:08.000173Z",
     "iopub.status.idle": "2021-09-12T06:00:08.396198Z",
     "shell.execute_reply": "2021-09-12T06:00:08.397463Z"
    },
    "papermill": {
     "duration": 0.425909,
     "end_time": "2021-09-12T06:00:08.397856",
     "exception": false,
     "start_time": "2021-09-12T06:00:07.971947",
     "status": "completed"
    },
    "tags": []
   },
   "outputs": [],
   "source": [
    "df = pd.read_sql(\"select * from EBAY_TOP_BERLIN where record_time in (select distinct record_time from EBAY_TOP_BERLIN order by record_time desc limit 2)\", sqlite3.connect(\"UsedObjects.db\"))"
   ]
  },
  {
   "cell_type": "code",
   "execution_count": 5,
   "id": "popular-active",
   "metadata": {
    "execution": {
     "iopub.execute_input": "2021-09-12T06:00:08.476047Z",
     "iopub.status.busy": "2021-09-12T06:00:08.464482Z",
     "iopub.status.idle": "2021-09-12T06:00:08.493803Z",
     "shell.execute_reply": "2021-09-12T06:00:08.495175Z"
    },
    "papermill": {
     "duration": 0.072072,
     "end_time": "2021-09-12T06:00:08.495608",
     "exception": false,
     "start_time": "2021-09-12T06:00:08.423536",
     "status": "completed"
    },
    "tags": []
   },
   "outputs": [],
   "source": [
    "df_pivot = df.pivot_table(index=\"PRODUCT\", columns = \"RECORD_TIME\", values = \"LISTING_COUNT\")"
   ]
  },
  {
   "cell_type": "code",
   "execution_count": 6,
   "id": "union-huntington",
   "metadata": {
    "execution": {
     "iopub.execute_input": "2021-09-12T06:00:08.551562Z",
     "iopub.status.busy": "2021-09-12T06:00:08.549433Z",
     "iopub.status.idle": "2021-09-12T06:00:08.554819Z",
     "shell.execute_reply": "2021-09-12T06:00:08.556271Z"
    },
    "papermill": {
     "duration": 0.041096,
     "end_time": "2021-09-12T06:00:08.556699",
     "exception": false,
     "start_time": "2021-09-12T06:00:08.515603",
     "status": "completed"
    },
    "tags": []
   },
   "outputs": [],
   "source": [
    "df_pivot.columns = [\"stamp_1\", \"stamp_2\"]\n",
    "df_pivot_diff = df_pivot.diff(axis=1)"
   ]
  },
  {
   "cell_type": "code",
   "execution_count": 7,
   "id": "fifth-motion",
   "metadata": {
    "execution": {
     "iopub.execute_input": "2021-09-12T06:00:08.611936Z",
     "iopub.status.busy": "2021-09-12T06:00:08.609335Z",
     "iopub.status.idle": "2021-09-12T06:00:10.124274Z",
     "shell.execute_reply": "2021-09-12T06:00:10.125559Z"
    },
    "papermill": {
     "duration": 1.548022,
     "end_time": "2021-09-12T06:00:10.125977",
     "exception": false,
     "start_time": "2021-09-12T06:00:08.577955",
     "status": "completed"
    },
    "tags": []
   },
   "outputs": [
    {
     "data": {
      "text/plain": [
       "<AxesSubplot:ylabel='PRODUCT'>"
      ]
     },
     "execution_count": 7,
     "metadata": {},
     "output_type": "execute_result"
    },
    {
     "data": {
      "image/png": "[encoded data removed]",
      "text/plain": [
       "<Figure size 432x288 with 1 Axes>"
      ]
     },
     "metadata": {
      "needs_background": "light"
     },
     "output_type": "display_data"
    }
   ],
   "source": [
    "df_pivot_diff.sort_values(\"stamp_2\", ascending = False)[\"stamp_2\"].head(10).plot.barh()"
   ]
  },
  {
   "cell_type": "code",
   "execution_count": null,
   "id": "extra-executive",
   "metadata": {
    "papermill": {
     "duration": 0.022088,
     "end_time": "2021-09-12T06:00:10.172450",
     "exception": false,
     "start_time": "2021-09-12T06:00:10.150362",
     "status": "completed"
    },
    "tags": []
   },
   "outputs": [],
   "source": []
  }
 ],
 "metadata": {
  "kernelspec": {
   "display_name": "Python 3",
   "language": "python",
   "name": "python3"
  },
  "language_info": {
   "codemirror_mode": {
    "name": "ipython",
    "version": 3
   },
   "file_extension": ".py",
   "mimetype": "text/x-python",
   "name": "python",
   "nbconvert_exporter": "python",
   "pygments_lexer": "ipython3",
   "version": "3.9.5"
  },
  "papermill": {
   "default_parameters": {},
   "duration": 6.56153,
   "end_time": "2021-09-12T06:00:10.812891",
   "environment_variables": {},
   "exception": null,
   "input_path": "eBay_Overview.ipynb",
   "output_path": "eBay_Overview.ipynb",
   "parameters": {},
   "start_time": "2021-09-12T06:00:04.251361",
   "version": "2.3.3"
  }
 },
 "nbformat": 4,
 "nbformat_minor": 5
}