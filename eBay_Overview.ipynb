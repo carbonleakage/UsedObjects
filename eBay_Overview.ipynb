{
 "cells": [
  {
   "cell_type": "code",
   "execution_count": 1,
   "id": "reverse-picking",
   "metadata": {
    "execution": {
     "iopub.execute_input": "2021-09-04T03:00:06.629946Z",
     "iopub.status.busy": "2021-09-04T03:00:06.627981Z",
     "iopub.status.idle": "2021-09-04T03:00:07.431764Z",
     "shell.execute_reply": "2021-09-04T03:00:07.433082Z"
    },
    "papermill": {
     "duration": 0.854534,
     "end_time": "2021-09-04T03:00:07.433710",
     "exception": false,
     "start_time": "2021-09-04T03:00:06.579176",
     "status": "completed"
    },
    "tags": []
   },
   "outputs": [],
   "source": [
    "import pandas as pd\n",
    "import sqlite3"
   ]
  },
  {
   "cell_type": "code",
   "execution_count": 2,
   "id": "innovative-syndrome",
   "metadata": {
    "execution": {
     "iopub.execute_input": "2021-09-04T03:00:07.483641Z",
     "iopub.status.busy": "2021-09-04T03:00:07.481705Z",
     "iopub.status.idle": "2021-09-04T03:00:07.681125Z",
     "shell.execute_reply": "2021-09-04T03:00:07.682317Z"
    },
    "papermill": {
     "duration": 0.228924,
     "end_time": "2021-09-04T03:00:07.682714",
     "exception": false,
     "start_time": "2021-09-04T03:00:07.453790",
     "status": "completed"
    },
    "tags": []
   },
   "outputs": [],
   "source": [
    "timestamps = pd.read_sql(\"select distinct record_time from EBAY_TOP_BERLIN order by record_time desc limit 2\", sqlite3.connect(\"UsedObjects.db\"))"
   ]
  },
  {
   "cell_type": "code",
   "execution_count": 3,
   "id": "periodic-identification",
   "metadata": {
    "execution": {
     "iopub.execute_input": "2021-09-04T03:00:07.746774Z",
     "iopub.status.busy": "2021-09-04T03:00:07.744764Z",
     "iopub.status.idle": "2021-09-04T03:00:07.764784Z",
     "shell.execute_reply": "2021-09-04T03:00:07.765987Z"
    },
    "papermill": {
     "duration": 0.063293,
     "end_time": "2021-09-04T03:00:07.766413",
     "exception": false,
     "start_time": "2021-09-04T03:00:07.703120",
     "status": "completed"
    },
    "tags": []
   },
   "outputs": [
    {
     "data": {
      "text/html": [
       "<div>\n",
       "<style scoped>\n",
       "    .dataframe tbody tr th:only-of-type {\n",
       "        vertical-align: middle;\n",
       "    }\n",
       "\n",
       "    .dataframe tbody tr th {\n",
       "        vertical-align: top;\n",
       "    }\n",
       "\n",
       "    .dataframe thead th {\n",
       "        text-align: right;\n",
       "    }\n",
       "</style>\n",
       "<table border=\"1\" class=\"dataframe\">\n",
       "  <thead>\n",
       "    <tr style=\"text-align: right;\">\n",
       "      <th></th>\n",
       "      <th>RECORD_TIME</th>\n",
       "    </tr>\n",
       "  </thead>\n",
       "  <tbody>\n",
       "    <tr>\n",
       "      <th>0</th>\n",
       "      <td>2021-09-04 05:00</td>\n",
       "    </tr>\n",
       "    <tr>\n",
       "      <th>1</th>\n",
       "      <td>2021-09-04 04:30</td>\n",
       "    </tr>\n",
       "  </tbody>\n",
       "</table>\n",
       "</div>"
      ],
      "text/plain": [
       "        RECORD_TIME\n",
       "0  2021-09-04 05:00\n",
       "1  2021-09-04 04:30"
      ]
     },
     "execution_count": 3,
     "metadata": {},
     "output_type": "execute_result"
    }
   ],
   "source": [
    "timestamps"
   ]
  },
  {
   "cell_type": "code",
   "execution_count": 4,
   "id": "alternate-victory",
   "metadata": {
    "execution": {
     "iopub.execute_input": "2021-09-04T03:00:07.819374Z",
     "iopub.status.busy": "2021-09-04T03:00:07.817417Z",
     "iopub.status.idle": "2021-09-04T03:00:08.120377Z",
     "shell.execute_reply": "2021-09-04T03:00:08.121790Z"
    },
    "papermill": {
     "duration": 0.333299,
     "end_time": "2021-09-04T03:00:08.122231",
     "exception": false,
     "start_time": "2021-09-04T03:00:07.788932",
     "status": "completed"
    },
    "tags": []
   },
   "outputs": [],
   "source": [
    "df = pd.read_sql(\"select * from EBAY_TOP_BERLIN where record_time in (select distinct record_time from EBAY_TOP_BERLIN order by record_time desc limit 2)\", sqlite3.connect(\"UsedObjects.db\"))"
   ]
  },
  {
   "cell_type": "code",
   "execution_count": 5,
   "id": "popular-active",
   "metadata": {
    "execution": {
     "iopub.execute_input": "2021-09-04T03:00:08.202657Z",
     "iopub.status.busy": "2021-09-04T03:00:08.190704Z",
     "iopub.status.idle": "2021-09-04T03:00:08.218619Z",
     "shell.execute_reply": "2021-09-04T03:00:08.220070Z"
    },
    "papermill": {
     "duration": 0.072049,
     "end_time": "2021-09-04T03:00:08.220513",
     "exception": false,
     "start_time": "2021-09-04T03:00:08.148464",
     "status": "completed"
    },
    "tags": []
   },
   "outputs": [],
   "source": [
    "df_pivot = df.pivot_table(index=\"PRODUCT\", columns = \"RECORD_TIME\", values = \"LISTING_COUNT\")"
   ]
  },
  {
   "cell_type": "code",
   "execution_count": 6,
   "id": "union-huntington",
   "metadata": {
    "execution": {
     "iopub.execute_input": "2021-09-04T03:00:08.277516Z",
     "iopub.status.busy": "2021-09-04T03:00:08.275376Z",
     "iopub.status.idle": "2021-09-04T03:00:08.280851Z",
     "shell.execute_reply": "2021-09-04T03:00:08.282202Z"
    },
    "papermill": {
     "duration": 0.040958,
     "end_time": "2021-09-04T03:00:08.282634",
     "exception": false,
     "start_time": "2021-09-04T03:00:08.241676",
     "status": "completed"
    },
    "tags": []
   },
   "outputs": [],
   "source": [
    "df_pivot.columns = [\"stamp_1\", \"stamp_2\"]\n",
    "df_pivot_diff = df_pivot.diff(axis=1)"
   ]
  },
  {
   "cell_type": "code",
   "execution_count": 7,
   "id": "fifth-motion",
   "metadata": {
    "execution": {
     "iopub.execute_input": "2021-09-04T03:00:08.339629Z",
     "iopub.status.busy": "2021-09-04T03:00:08.336948Z",
     "iopub.status.idle": "2021-09-04T03:00:09.827110Z",
     "shell.execute_reply": "2021-09-04T03:00:09.828516Z"
    },
    "papermill": {
     "duration": 1.524045,
     "end_time": "2021-09-04T03:00:09.828964",
     "exception": false,
     "start_time": "2021-09-04T03:00:08.304919",
     "status": "completed"
    },
    "tags": []
   },
   "outputs": [
    {
     "data": {
      "text/plain": [
       "<AxesSubplot:ylabel='PRODUCT'>"
      ]
     },
     "execution_count": 7,
     "metadata": {},
     "output_type": "execute_result"
    },
    {
     "data": {
      "image/png": "[encoded data removed]",
      "text/plain": [
       "<Figure size 432x288 with 1 Axes>"
      ]
     },
     "metadata": {
      "needs_background": "light"
     },
     "output_type": "display_data"
    }
   ],
   "source": [
    "df_pivot_diff.sort_values(\"stamp_2\", ascending = False)[\"stamp_2\"].head(10).plot.barh()"
   ]
  },
  {
   "cell_type": "code",
   "execution_count": null,
   "id": "extra-executive",
   "metadata": {
    "papermill": {
     "duration": 0.022536,
     "end_time": "2021-09-04T03:00:09.876311",
     "exception": false,
     "start_time": "2021-09-04T03:00:09.853775",
     "status": "completed"
    },
    "tags": []
   },
   "outputs": [],
   "source": []
  }
 ],
 "metadata": {
  "kernelspec": {
   "display_name": "Python 3",
   "language": "python",
   "name": "python3"
  },
  "language_info": {
   "codemirror_mode": {
    "name": "ipython",
    "version": 3
   },
   "file_extension": ".py",
   "mimetype": "text/x-python",
   "name": "python",
   "nbconvert_exporter": "python",
   "pygments_lexer": "ipython3",
   "version": "3.9.5"
  },
  "papermill": {
   "default_parameters": {},
   "duration": 6.338268,
   "end_time": "2021-09-04T03:00:10.519060",
   "environment_variables": {},
   "exception": null,
   "input_path": "eBay_Overview.ipynb",
   "output_path": "eBay_Overview.ipynb",
   "parameters": {},
   "start_time": "2021-09-04T03:00:04.180792",
   "version": "2.3.3"
  }
 },
 "nbformat": 4,
 "nbformat_minor": 5
}