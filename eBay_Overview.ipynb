{
 "cells": [
  {
   "cell_type": "code",
   "execution_count": 1,
   "id": "reverse-picking",
   "metadata": {
    "execution": {
     "iopub.execute_input": "2021-10-19T04:00:07.452982Z",
     "iopub.status.busy": "2021-10-19T04:00:07.450992Z",
     "iopub.status.idle": "2021-10-19T04:00:08.257789Z",
     "shell.execute_reply": "2021-10-19T04:00:08.259087Z"
    },
    "papermill": {
     "duration": 0.857351,
     "end_time": "2021-10-19T04:00:08.259708",
     "exception": false,
     "start_time": "2021-10-19T04:00:07.402357",
     "status": "completed"
    },
    "tags": []
   },
   "outputs": [],
   "source": [
    "import pandas as pd\n",
    "import sqlite3"
   ]
  },
  {
   "cell_type": "code",
   "execution_count": 2,
   "id": "innovative-syndrome",
   "metadata": {
    "execution": {
     "iopub.execute_input": "2021-10-19T04:00:08.309687Z",
     "iopub.status.busy": "2021-10-19T04:00:08.307718Z",
     "iopub.status.idle": "2021-10-19T04:00:08.882452Z",
     "shell.execute_reply": "2021-10-19T04:00:08.883576Z"
    },
    "papermill": {
     "duration": 0.60414,
     "end_time": "2021-10-19T04:00:08.883981",
     "exception": false,
     "start_time": "2021-10-19T04:00:08.279841",
     "status": "completed"
    },
    "tags": []
   },
   "outputs": [],
   "source": [
    "timestamps = pd.read_sql(\"select distinct record_time from EBAY_TOP_BERLIN order by record_time desc limit 2\", sqlite3.connect(\"UsedObjects.db\"))"
   ]
  },
  {
   "cell_type": "code",
   "execution_count": 3,
   "id": "periodic-identification",
   "metadata": {
    "execution": {
     "iopub.execute_input": "2021-10-19T04:00:08.959600Z",
     "iopub.status.busy": "2021-10-19T04:00:08.957587Z",
     "iopub.status.idle": "2021-10-19T04:00:08.977407Z",
     "shell.execute_reply": "2021-10-19T04:00:08.978557Z"
    },
    "papermill": {
     "duration": 0.067623,
     "end_time": "2021-10-19T04:00:08.978960",
     "exception": false,
     "start_time": "2021-10-19T04:00:08.911337",
     "status": "completed"
    },
    "tags": []
   },
   "outputs": [
    {
     "data": {
      "text/html": [
       "<div>\n",
       "<style scoped>\n",
       "    .dataframe tbody tr th:only-of-type {\n",
       "        vertical-align: middle;\n",
       "    }\n",
       "\n",
       "    .dataframe tbody tr th {\n",
       "        vertical-align: top;\n",
       "    }\n",
       "\n",
       "    .dataframe thead th {\n",
       "        text-align: right;\n",
       "    }\n",
       "</style>\n",
       "<table border=\"1\" class=\"dataframe\">\n",
       "  <thead>\n",
       "    <tr style=\"text-align: right;\">\n",
       "      <th></th>\n",
       "      <th>RECORD_TIME</th>\n",
       "    </tr>\n",
       "  </thead>\n",
       "  <tbody>\n",
       "    <tr>\n",
       "      <th>0</th>\n",
       "      <td>2021-10-19 06:00</td>\n",
       "    </tr>\n",
       "    <tr>\n",
       "      <th>1</th>\n",
       "      <td>2021-10-19 05:30</td>\n",
       "    </tr>\n",
       "  </tbody>\n",
       "</table>\n",
       "</div>"
      ],
      "text/plain": [
       "        RECORD_TIME\n",
       "0  2021-10-19 06:00\n",
       "1  2021-10-19 05:30"
      ]
     },
     "execution_count": 3,
     "metadata": {},
     "output_type": "execute_result"
    }
   ],
   "source": [
    "timestamps"
   ]
  },
  {
   "cell_type": "code",
   "execution_count": 4,
   "id": "alternate-victory",
   "metadata": {
    "execution": {
     "iopub.execute_input": "2021-10-19T04:00:09.033244Z",
     "iopub.status.busy": "2021-10-19T04:00:09.030893Z",
     "iopub.status.idle": "2021-10-19T04:00:09.853457Z",
     "shell.execute_reply": "2021-10-19T04:00:09.854694Z"
    },
    "papermill": {
     "duration": 0.853226,
     "end_time": "2021-10-19T04:00:09.855088",
     "exception": false,
     "start_time": "2021-10-19T04:00:09.001862",
     "status": "completed"
    },
    "tags": []
   },
   "outputs": [],
   "source": [
    "df = pd.read_sql(\"select * from EBAY_TOP_BERLIN where record_time in (select distinct record_time from EBAY_TOP_BERLIN order by record_time desc limit 2)\", sqlite3.connect(\"UsedObjects.db\"))"
   ]
  },
  {
   "cell_type": "code",
   "execution_count": 5,
   "id": "popular-active",
   "metadata": {
    "execution": {
     "iopub.execute_input": "2021-10-19T04:00:09.925224Z",
     "iopub.status.busy": "2021-10-19T04:00:09.913866Z",
     "iopub.status.idle": "2021-10-19T04:00:09.941560Z",
     "shell.execute_reply": "2021-10-19T04:00:09.942795Z"
    },
    "papermill": {
     "duration": 0.067501,
     "end_time": "2021-10-19T04:00:09.943185",
     "exception": false,
     "start_time": "2021-10-19T04:00:09.875684",
     "status": "completed"
    },
    "tags": []
   },
   "outputs": [],
   "source": [
    "df_pivot = df.pivot_table(index=\"PRODUCT\", columns = \"RECORD_TIME\", values = \"LISTING_COUNT\")"
   ]
  },
  {
   "cell_type": "code",
   "execution_count": 6,
   "id": "union-huntington",
   "metadata": {
    "execution": {
     "iopub.execute_input": "2021-10-19T04:00:09.998968Z",
     "iopub.status.busy": "2021-10-19T04:00:09.997004Z",
     "iopub.status.idle": "2021-10-19T04:00:10.001973Z",
     "shell.execute_reply": "2021-10-19T04:00:10.003185Z"
    },
    "papermill": {
     "duration": 0.039555,
     "end_time": "2021-10-19T04:00:10.003576",
     "exception": false,
     "start_time": "2021-10-19T04:00:09.964021",
     "status": "completed"
    },
    "tags": []
   },
   "outputs": [],
   "source": [
    "df_pivot.columns = [\"stamp_1\", \"stamp_2\"]\n",
    "df_pivot_diff = df_pivot.diff(axis=1)"
   ]
  },
  {
   "cell_type": "code",
   "execution_count": 7,
   "id": "fifth-motion",
   "metadata": {
    "execution": {
     "iopub.execute_input": "2021-10-19T04:00:10.060510Z",
     "iopub.status.busy": "2021-10-19T04:00:10.057883Z",
     "iopub.status.idle": "2021-10-19T04:00:11.529669Z",
     "shell.execute_reply": "2021-10-19T04:00:11.531261Z"
    },
    "papermill": {
     "duration": 1.505995,
     "end_time": "2021-10-19T04:00:11.531729",
     "exception": false,
     "start_time": "2021-10-19T04:00:10.025734",
     "status": "completed"
    },
    "tags": []
   },
   "outputs": [
    {
     "data": {
      "text/plain": [
       "<AxesSubplot:ylabel='PRODUCT'>"
      ]
     },
     "execution_count": 7,
     "metadata": {},
     "output_type": "execute_result"
    },
    {
     "data": {
      "image/png": "[encoded data removed]",
      "text/plain": [
       "<Figure size 432x288 with 1 Axes>"
      ]
     },
     "metadata": {
      "needs_background": "light"
     },
     "output_type": "display_data"
    }
   ],
   "source": [
    "df_pivot_diff.sort_values(\"stamp_2\", ascending = False)[\"stamp_2\"].head(10).plot.barh()"
   ]
  },
  {
   "cell_type": "code",
   "execution_count": null,
   "id": "extra-executive",
   "metadata": {
    "papermill": {
     "duration": 0.022216,
     "end_time": "2021-10-19T04:00:11.578019",
     "exception": false,
     "start_time": "2021-10-19T04:00:11.555803",
     "status": "completed"
    },
    "tags": []
   },
   "outputs": [],
   "source": []
  }
 ],
 "metadata": {
  "kernelspec": {
   "display_name": "Python 3",
   "language": "python",
   "name": "python3"
  },
  "language_info": {
   "codemirror_mode": {
    "name": "ipython",
    "version": 3
   },
   "file_extension": ".py",
   "mimetype": "text/x-python",
   "name": "python",
   "nbconvert_exporter": "python",
   "pygments_lexer": "ipython3",
   "version": "3.9.5"
  },
  "papermill": {
   "default_parameters": {},
   "duration": 7.819909,
   "end_time": "2021-10-19T04:00:12.818982",
   "environment_variables": {},
   "exception": null,
   "input_path": "eBay_Overview.ipynb",
   "output_path": "eBay_Overview.ipynb",
   "parameters": {},
   "start_time": "2021-10-19T04:00:04.999073",
   "version": "2.3.3"
  }
 },
 "nbformat": 4,
 "nbformat_minor": 5
}