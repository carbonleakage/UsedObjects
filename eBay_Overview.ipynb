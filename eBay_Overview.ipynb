{
 "cells": [
  {
   "cell_type": "code",
   "execution_count": 1,
   "id": "reverse-picking",
   "metadata": {
    "execution": {
     "iopub.execute_input": "2021-11-12T12:00:08.071007Z",
     "iopub.status.busy": "2021-11-12T12:00:08.068285Z",
     "iopub.status.idle": "2021-11-12T12:00:09.031456Z",
     "shell.execute_reply": "2021-11-12T12:00:09.033102Z"
    },
    "papermill": {
     "duration": 1.011238,
     "end_time": "2021-11-12T12:00:09.033883",
     "exception": false,
     "start_time": "2021-11-12T12:00:08.022645",
     "status": "completed"
    },
    "tags": []
   },
   "outputs": [],
   "source": [
    "import pandas as pd\n",
    "import sqlite3"
   ]
  },
  {
   "cell_type": "code",
   "execution_count": 2,
   "id": "innovative-syndrome",
   "metadata": {
    "execution": {
     "iopub.execute_input": "2021-11-12T12:00:09.096465Z",
     "iopub.status.busy": "2021-11-12T12:00:09.094200Z",
     "iopub.status.idle": "2021-11-12T12:00:09.913060Z",
     "shell.execute_reply": "2021-11-12T12:00:09.914444Z"
    },
    "papermill": {
     "duration": 0.85359,
     "end_time": "2021-11-12T12:00:09.914918",
     "exception": false,
     "start_time": "2021-11-12T12:00:09.061328",
     "status": "completed"
    },
    "tags": []
   },
   "outputs": [],
   "source": [
    "timestamps = pd.read_sql(\"select distinct record_time from EBAY_TOP_BERLIN order by record_time desc limit 2\", sqlite3.connect(\"UsedObjects.db\"))"
   ]
  },
  {
   "cell_type": "code",
   "execution_count": 3,
   "id": "periodic-identification",
   "metadata": {
    "execution": {
     "iopub.execute_input": "2021-11-12T12:00:09.985616Z",
     "iopub.status.busy": "2021-11-12T12:00:09.983194Z",
     "iopub.status.idle": "2021-11-12T12:00:10.006367Z",
     "shell.execute_reply": "2021-11-12T12:00:10.007777Z"
    },
    "papermill": {
     "duration": 0.073578,
     "end_time": "2021-11-12T12:00:10.008257",
     "exception": false,
     "start_time": "2021-11-12T12:00:09.934679",
     "status": "completed"
    },
    "tags": []
   },
   "outputs": [
    {
     "data": {
      "text/html": [
       "<div>\n",
       "<style scoped>\n",
       "    .dataframe tbody tr th:only-of-type {\n",
       "        vertical-align: middle;\n",
       "    }\n",
       "\n",
       "    .dataframe tbody tr th {\n",
       "        vertical-align: top;\n",
       "    }\n",
       "\n",
       "    .dataframe thead th {\n",
       "        text-align: right;\n",
       "    }\n",
       "</style>\n",
       "<table border=\"1\" class=\"dataframe\">\n",
       "  <thead>\n",
       "    <tr style=\"text-align: right;\">\n",
       "      <th></th>\n",
       "      <th>RECORD_TIME</th>\n",
       "    </tr>\n",
       "  </thead>\n",
       "  <tbody>\n",
       "    <tr>\n",
       "      <th>0</th>\n",
       "      <td>2021-11-12 13:00</td>\n",
       "    </tr>\n",
       "    <tr>\n",
       "      <th>1</th>\n",
       "      <td>2021-11-12 12:30</td>\n",
       "    </tr>\n",
       "  </tbody>\n",
       "</table>\n",
       "</div>"
      ],
      "text/plain": [
       "        RECORD_TIME\n",
       "0  2021-11-12 13:00\n",
       "1  2021-11-12 12:30"
      ]
     },
     "execution_count": 3,
     "metadata": {},
     "output_type": "execute_result"
    }
   ],
   "source": [
    "timestamps"
   ]
  },
  {
   "cell_type": "code",
   "execution_count": 4,
   "id": "alternate-victory",
   "metadata": {
    "execution": {
     "iopub.execute_input": "2021-11-12T12:00:10.066565Z",
     "iopub.status.busy": "2021-11-12T12:00:10.064225Z",
     "iopub.status.idle": "2021-11-12T12:00:11.237998Z",
     "shell.execute_reply": "2021-11-12T12:00:11.239770Z"
    },
    "papermill": {
     "duration": 1.210013,
     "end_time": "2021-11-12T12:00:11.240276",
     "exception": false,
     "start_time": "2021-11-12T12:00:10.030263",
     "status": "completed"
    },
    "tags": []
   },
   "outputs": [],
   "source": [
    "df = pd.read_sql(\"select * from EBAY_TOP_BERLIN where record_time in (select distinct record_time from EBAY_TOP_BERLIN order by record_time desc limit 2)\", sqlite3.connect(\"UsedObjects.db\"))"
   ]
  },
  {
   "cell_type": "code",
   "execution_count": 5,
   "id": "popular-active",
   "metadata": {
    "execution": {
     "iopub.execute_input": "2021-11-12T12:00:11.318092Z",
     "iopub.status.busy": "2021-11-12T12:00:11.304846Z",
     "iopub.status.idle": "2021-11-12T12:00:11.336330Z",
     "shell.execute_reply": "2021-11-12T12:00:11.337791Z"
    },
    "papermill": {
     "duration": 0.07457,
     "end_time": "2021-11-12T12:00:11.338264",
     "exception": false,
     "start_time": "2021-11-12T12:00:11.263694",
     "status": "completed"
    },
    "tags": []
   },
   "outputs": [],
   "source": [
    "df_pivot = df.pivot_table(index=\"PRODUCT\", columns = \"RECORD_TIME\", values = \"LISTING_COUNT\")"
   ]
  },
  {
   "cell_type": "code",
   "execution_count": 6,
   "id": "union-huntington",
   "metadata": {
    "execution": {
     "iopub.execute_input": "2021-11-12T12:00:11.398750Z",
     "iopub.status.busy": "2021-11-12T12:00:11.396438Z",
     "iopub.status.idle": "2021-11-12T12:00:11.401694Z",
     "shell.execute_reply": "2021-11-12T12:00:11.403076Z"
    },
    "papermill": {
     "duration": 0.045076,
     "end_time": "2021-11-12T12:00:11.403573",
     "exception": false,
     "start_time": "2021-11-12T12:00:11.358497",
     "status": "completed"
    },
    "tags": []
   },
   "outputs": [],
   "source": [
    "df_pivot.columns = [\"stamp_1\", \"stamp_2\"]\n",
    "df_pivot_diff = df_pivot.diff(axis=1)"
   ]
  },
  {
   "cell_type": "code",
   "execution_count": 7,
   "id": "fifth-motion",
   "metadata": {
    "execution": {
     "iopub.execute_input": "2021-11-12T12:00:11.486731Z",
     "iopub.status.busy": "2021-11-12T12:00:11.483098Z",
     "iopub.status.idle": "2021-11-12T12:00:13.224057Z",
     "shell.execute_reply": "2021-11-12T12:00:13.225817Z"
    },
    "papermill": {
     "duration": 1.798399,
     "end_time": "2021-11-12T12:00:13.226280",
     "exception": false,
     "start_time": "2021-11-12T12:00:11.427881",
     "status": "completed"
    },
    "tags": []
   },
   "outputs": [
    {
     "data": {
      "text/plain": [
       "<AxesSubplot:ylabel='PRODUCT'>"
      ]
     },
     "execution_count": 7,
     "metadata": {},
     "output_type": "execute_result"
    },
    {
     "data": {
      "image/png": "[encoded data removed]",
      "text/plain": [
       "<Figure size 432x288 with 1 Axes>"
      ]
     },
     "metadata": {
      "needs_background": "light"
     },
     "output_type": "display_data"
    }
   ],
   "source": [
    "df_pivot_diff.sort_values(\"stamp_2\", ascending = False)[\"stamp_2\"].head(10).plot.barh()"
   ]
  },
  {
   "cell_type": "code",
   "execution_count": null,
   "id": "extra-executive",
   "metadata": {
    "papermill": {
     "duration": 0.022634,
     "end_time": "2021-11-12T12:00:13.273035",
     "exception": false,
     "start_time": "2021-11-12T12:00:13.250401",
     "status": "completed"
    },
    "tags": []
   },
   "outputs": [],
   "source": []
  }
 ],
 "metadata": {
  "kernelspec": {
   "display_name": "Python 3",
   "language": "python",
   "name": "python3"
  },
  "language_info": {
   "codemirror_mode": {
    "name": "ipython",
    "version": 3
   },
   "file_extension": ".py",
   "mimetype": "text/x-python",
   "name": "python",
   "nbconvert_exporter": "python",
   "pygments_lexer": "ipython3",
   "version": "3.9.5"
  },
  "papermill": {
   "default_parameters": {},
   "duration": 8.617574,
   "end_time": "2021-11-12T12:00:13.914069",
   "environment_variables": {},
   "exception": null,
   "input_path": "eBay_Overview.ipynb",
   "output_path": "eBay_Overview.ipynb",
   "parameters": {},
   "start_time": "2021-11-12T12:00:05.296495",
   "version": "2.3.3"
  }
 },
 "nbformat": 4,
 "nbformat_minor": 5
}