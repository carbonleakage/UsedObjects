{
 "cells": [
  {
   "cell_type": "code",
   "execution_count": 1,
   "id": "reverse-picking",
   "metadata": {
    "execution": {
     "iopub.execute_input": "2021-11-05T17:30:08.566767Z",
     "iopub.status.busy": "2021-11-05T17:30:08.564453Z",
     "iopub.status.idle": "2021-11-05T17:30:09.518196Z",
     "shell.execute_reply": "2021-11-05T17:30:09.519746Z"
    },
    "papermill": {
     "duration": 1.004088,
     "end_time": "2021-11-05T17:30:09.520594",
     "exception": false,
     "start_time": "2021-11-05T17:30:08.516506",
     "status": "completed"
    },
    "tags": []
   },
   "outputs": [],
   "source": [
    "import pandas as pd\n",
    "import sqlite3"
   ]
  },
  {
   "cell_type": "code",
   "execution_count": 2,
   "id": "innovative-syndrome",
   "metadata": {
    "execution": {
     "iopub.execute_input": "2021-11-05T17:30:09.596816Z",
     "iopub.status.busy": "2021-11-05T17:30:09.594532Z",
     "iopub.status.idle": "2021-11-05T17:30:10.344588Z",
     "shell.execute_reply": "2021-11-05T17:30:10.346110Z"
    },
    "papermill": {
     "duration": 0.796199,
     "end_time": "2021-11-05T17:30:10.346614",
     "exception": false,
     "start_time": "2021-11-05T17:30:09.550415",
     "status": "completed"
    },
    "tags": []
   },
   "outputs": [],
   "source": [
    "timestamps = pd.read_sql(\"select distinct record_time from EBAY_TOP_BERLIN order by record_time desc limit 2\", sqlite3.connect(\"UsedObjects.db\"))"
   ]
  },
  {
   "cell_type": "code",
   "execution_count": 3,
   "id": "periodic-identification",
   "metadata": {
    "execution": {
     "iopub.execute_input": "2021-11-05T17:30:10.396327Z",
     "iopub.status.busy": "2021-11-05T17:30:10.394108Z",
     "iopub.status.idle": "2021-11-05T17:30:10.439917Z",
     "shell.execute_reply": "2021-11-05T17:30:10.438258Z"
    },
    "papermill": {
     "duration": 0.072827,
     "end_time": "2021-11-05T17:30:10.440358",
     "exception": false,
     "start_time": "2021-11-05T17:30:10.367531",
     "status": "completed"
    },
    "tags": []
   },
   "outputs": [
    {
     "data": {
      "text/html": [
       "<div>\n",
       "<style scoped>\n",
       "    .dataframe tbody tr th:only-of-type {\n",
       "        vertical-align: middle;\n",
       "    }\n",
       "\n",
       "    .dataframe tbody tr th {\n",
       "        vertical-align: top;\n",
       "    }\n",
       "\n",
       "    .dataframe thead th {\n",
       "        text-align: right;\n",
       "    }\n",
       "</style>\n",
       "<table border=\"1\" class=\"dataframe\">\n",
       "  <thead>\n",
       "    <tr style=\"text-align: right;\">\n",
       "      <th></th>\n",
       "      <th>RECORD_TIME</th>\n",
       "    </tr>\n",
       "  </thead>\n",
       "  <tbody>\n",
       "    <tr>\n",
       "      <th>0</th>\n",
       "      <td>2021-11-05 18:30</td>\n",
       "    </tr>\n",
       "    <tr>\n",
       "      <th>1</th>\n",
       "      <td>2021-11-05 18:00</td>\n",
       "    </tr>\n",
       "  </tbody>\n",
       "</table>\n",
       "</div>"
      ],
      "text/plain": [
       "        RECORD_TIME\n",
       "0  2021-11-05 18:30\n",
       "1  2021-11-05 18:00"
      ]
     },
     "execution_count": 3,
     "metadata": {},
     "output_type": "execute_result"
    }
   ],
   "source": [
    "timestamps"
   ]
  },
  {
   "cell_type": "code",
   "execution_count": 4,
   "id": "alternate-victory",
   "metadata": {
    "execution": {
     "iopub.execute_input": "2021-11-05T17:30:10.495774Z",
     "iopub.status.busy": "2021-11-05T17:30:10.493746Z",
     "iopub.status.idle": "2021-11-05T17:30:11.575413Z",
     "shell.execute_reply": "2021-11-05T17:30:11.578460Z"
    },
    "papermill": {
     "duration": 1.115569,
     "end_time": "2021-11-05T17:30:11.579325",
     "exception": false,
     "start_time": "2021-11-05T17:30:10.463756",
     "status": "completed"
    },
    "tags": []
   },
   "outputs": [],
   "source": [
    "df = pd.read_sql(\"select * from EBAY_TOP_BERLIN where record_time in (select distinct record_time from EBAY_TOP_BERLIN order by record_time desc limit 2)\", sqlite3.connect(\"UsedObjects.db\"))"
   ]
  },
  {
   "cell_type": "code",
   "execution_count": 5,
   "id": "popular-active",
   "metadata": {
    "execution": {
     "iopub.execute_input": "2021-11-05T17:30:11.709598Z",
     "iopub.status.busy": "2021-11-05T17:30:11.707097Z",
     "iopub.status.idle": "2021-11-05T17:30:11.741209Z",
     "shell.execute_reply": "2021-11-05T17:30:11.742448Z"
    },
    "papermill": {
     "duration": 0.139532,
     "end_time": "2021-11-05T17:30:11.742907",
     "exception": false,
     "start_time": "2021-11-05T17:30:11.603375",
     "status": "completed"
    },
    "tags": []
   },
   "outputs": [],
   "source": [
    "df_pivot = df.pivot_table(index=\"PRODUCT\", columns = \"RECORD_TIME\", values = \"LISTING_COUNT\")"
   ]
  },
  {
   "cell_type": "code",
   "execution_count": 6,
   "id": "union-huntington",
   "metadata": {
    "execution": {
     "iopub.execute_input": "2021-11-05T17:30:11.851870Z",
     "iopub.status.busy": "2021-11-05T17:30:11.849468Z",
     "iopub.status.idle": "2021-11-05T17:30:11.857437Z",
     "shell.execute_reply": "2021-11-05T17:30:11.855475Z"
    },
    "papermill": {
     "duration": 0.093176,
     "end_time": "2021-11-05T17:30:11.857891",
     "exception": false,
     "start_time": "2021-11-05T17:30:11.764715",
     "status": "completed"
    },
    "tags": []
   },
   "outputs": [],
   "source": [
    "df_pivot.columns = [\"stamp_1\", \"stamp_2\"]\n",
    "df_pivot_diff = df_pivot.diff(axis=1)"
   ]
  },
  {
   "cell_type": "code",
   "execution_count": 7,
   "id": "fifth-motion",
   "metadata": {
    "execution": {
     "iopub.execute_input": "2021-11-05T17:30:11.916464Z",
     "iopub.status.busy": "2021-11-05T17:30:11.914005Z",
     "iopub.status.idle": "2021-11-05T17:30:13.894219Z",
     "shell.execute_reply": "2021-11-05T17:30:13.895589Z"
    },
    "papermill": {
     "duration": 2.016591,
     "end_time": "2021-11-05T17:30:13.896082",
     "exception": false,
     "start_time": "2021-11-05T17:30:11.879491",
     "status": "completed"
    },
    "tags": []
   },
   "outputs": [
    {
     "data": {
      "text/plain": [
       "<AxesSubplot:ylabel='PRODUCT'>"
      ]
     },
     "execution_count": 7,
     "metadata": {},
     "output_type": "execute_result"
    },
    {
     "data": {
      "image/png": "[encoded data removed]",
      "text/plain": [
       "<Figure size 432x288 with 1 Axes>"
      ]
     },
     "metadata": {
      "needs_background": "light"
     },
     "output_type": "display_data"
    }
   ],
   "source": [
    "df_pivot_diff.sort_values(\"stamp_2\", ascending = False)[\"stamp_2\"].head(10).plot.barh()"
   ]
  },
  {
   "cell_type": "code",
   "execution_count": null,
   "id": "extra-executive",
   "metadata": {
    "papermill": {
     "duration": 0.024628,
     "end_time": "2021-11-05T17:30:13.944269",
     "exception": false,
     "start_time": "2021-11-05T17:30:13.919641",
     "status": "completed"
    },
    "tags": []
   },
   "outputs": [],
   "source": []
  }
 ],
 "metadata": {
  "kernelspec": {
   "display_name": "Python 3",
   "language": "python",
   "name": "python3"
  },
  "language_info": {
   "codemirror_mode": {
    "name": "ipython",
    "version": 3
   },
   "file_extension": ".py",
   "mimetype": "text/x-python",
   "name": "python",
   "nbconvert_exporter": "python",
   "pygments_lexer": "ipython3",
   "version": "3.9.5"
  },
  "papermill": {
   "default_parameters": {},
   "duration": 10.940943,
   "end_time": "2021-11-05T17:30:16.701720",
   "environment_variables": {},
   "exception": null,
   "input_path": "eBay_Overview.ipynb",
   "output_path": "eBay_Overview.ipynb",
   "parameters": {},
   "start_time": "2021-11-05T17:30:05.760777",
   "version": "2.3.3"
  }
 },
 "nbformat": 4,
 "nbformat_minor": 5
}