{
 "cells": [
  {
   "cell_type": "code",
   "execution_count": 1,
   "id": "reverse-picking",
   "metadata": {
    "execution": {
     "iopub.execute_input": "2021-08-09T20:30:04.881439Z",
     "iopub.status.busy": "2021-08-09T20:30:04.880678Z",
     "iopub.status.idle": "2021-08-09T20:30:05.477859Z",
     "shell.execute_reply": "2021-08-09T20:30:05.478566Z"
    },
    "papermill": {
     "duration": 0.617811,
     "end_time": "2021-08-09T20:30:05.478858",
     "exception": false,
     "start_time": "2021-08-09T20:30:04.861047",
     "status": "completed"
    },
    "tags": []
   },
   "outputs": [],
   "source": [
    "import pandas as pd\n",
    "import sqlite3"
   ]
  },
  {
   "cell_type": "code",
   "execution_count": 2,
   "id": "innovative-syndrome",
   "metadata": {
    "execution": {
     "iopub.execute_input": "2021-08-09T20:30:05.503001Z",
     "iopub.status.busy": "2021-08-09T20:30:05.502226Z",
     "iopub.status.idle": "2021-08-09T20:30:05.733713Z",
     "shell.execute_reply": "2021-08-09T20:30:05.732973Z"
    },
    "papermill": {
     "duration": 0.245184,
     "end_time": "2021-08-09T20:30:05.733870",
     "exception": false,
     "start_time": "2021-08-09T20:30:05.488686",
     "status": "completed"
    },
    "tags": []
   },
   "outputs": [],
   "source": [
    "timestamps = pd.read_sql(\"select distinct record_time from EBAY_TOP_BERLIN order by record_time desc limit 2\", sqlite3.connect(\"UsedObjects.db\"))"
   ]
  },
  {
   "cell_type": "code",
   "execution_count": 3,
   "id": "periodic-identification",
   "metadata": {
    "execution": {
     "iopub.execute_input": "2021-08-09T20:30:05.766760Z",
     "iopub.status.busy": "2021-08-09T20:30:05.765989Z",
     "iopub.status.idle": "2021-08-09T20:30:05.779084Z",
     "shell.execute_reply": "2021-08-09T20:30:05.779654Z"
    },
    "papermill": {
     "duration": 0.036047,
     "end_time": "2021-08-09T20:30:05.779854",
     "exception": false,
     "start_time": "2021-08-09T20:30:05.743807",
     "status": "completed"
    },
    "tags": []
   },
   "outputs": [
    {
     "data": {
      "text/html": [
       "<div>\n",
       "<style scoped>\n",
       "    .dataframe tbody tr th:only-of-type {\n",
       "        vertical-align: middle;\n",
       "    }\n",
       "\n",
       "    .dataframe tbody tr th {\n",
       "        vertical-align: top;\n",
       "    }\n",
       "\n",
       "    .dataframe thead th {\n",
       "        text-align: right;\n",
       "    }\n",
       "</style>\n",
       "<table border=\"1\" class=\"dataframe\">\n",
       "  <thead>\n",
       "    <tr style=\"text-align: right;\">\n",
       "      <th></th>\n",
       "      <th>RECORD_TIME</th>\n",
       "    </tr>\n",
       "  </thead>\n",
       "  <tbody>\n",
       "    <tr>\n",
       "      <th>0</th>\n",
       "      <td>2021-08-09 22:30</td>\n",
       "    </tr>\n",
       "    <tr>\n",
       "      <th>1</th>\n",
       "      <td>2021-08-09 22:00</td>\n",
       "    </tr>\n",
       "  </tbody>\n",
       "</table>\n",
       "</div>"
      ],
      "text/plain": [
       "        RECORD_TIME\n",
       "0  2021-08-09 22:30\n",
       "1  2021-08-09 22:00"
      ]
     },
     "execution_count": 3,
     "metadata": {},
     "output_type": "execute_result"
    }
   ],
   "source": [
    "timestamps"
   ]
  },
  {
   "cell_type": "code",
   "execution_count": 4,
   "id": "alternate-victory",
   "metadata": {
    "execution": {
     "iopub.execute_input": "2021-08-09T20:30:05.807195Z",
     "iopub.status.busy": "2021-08-09T20:30:05.806415Z",
     "iopub.status.idle": "2021-08-09T20:30:05.821570Z",
     "shell.execute_reply": "2021-08-09T20:30:05.823452Z"
    },
    "papermill": {
     "duration": 0.034275,
     "end_time": "2021-08-09T20:30:05.823811",
     "exception": false,
     "start_time": "2021-08-09T20:30:05.789536",
     "status": "completed"
    },
    "tags": []
   },
   "outputs": [],
   "source": [
    "df = pd.read_sql(\"select * from EBAY_TOP_BERLIN where record_time in (select distinct record_time from EBAY_TOP_BERLIN order by record_time desc limit 2)\", sqlite3.connect(\"UsedObjects.db\"))"
   ]
  },
  {
   "cell_type": "code",
   "execution_count": 5,
   "id": "popular-active",
   "metadata": {
    "execution": {
     "iopub.execute_input": "2021-08-09T20:30:05.855719Z",
     "iopub.status.busy": "2021-08-09T20:30:05.854851Z",
     "iopub.status.idle": "2021-08-09T20:30:05.872409Z",
     "shell.execute_reply": "2021-08-09T20:30:05.871650Z"
    },
    "papermill": {
     "duration": 0.038949,
     "end_time": "2021-08-09T20:30:05.872576",
     "exception": false,
     "start_time": "2021-08-09T20:30:05.833627",
     "status": "completed"
    },
    "tags": []
   },
   "outputs": [],
   "source": [
    "df_pivot = df.pivot_table(index=\"PRODUCT\", columns = \"RECORD_TIME\", values = \"LISTING_COUNT\")"
   ]
  },
  {
   "cell_type": "code",
   "execution_count": 6,
   "id": "union-huntington",
   "metadata": {
    "execution": {
     "iopub.execute_input": "2021-08-09T20:30:05.902124Z",
     "iopub.status.busy": "2021-08-09T20:30:05.901395Z",
     "iopub.status.idle": "2021-08-09T20:30:05.908750Z",
     "shell.execute_reply": "2021-08-09T20:30:05.909451Z"
    },
    "papermill": {
     "duration": 0.027611,
     "end_time": "2021-08-09T20:30:05.909665",
     "exception": false,
     "start_time": "2021-08-09T20:30:05.882054",
     "status": "completed"
    },
    "tags": []
   },
   "outputs": [],
   "source": [
    "df_pivot.columns = [\"stamp_1\", \"stamp_2\"]\n",
    "df_pivot_diff = df_pivot.diff(axis=1)"
   ]
  },
  {
   "cell_type": "code",
   "execution_count": 7,
   "id": "fifth-motion",
   "metadata": {
    "execution": {
     "iopub.execute_input": "2021-08-09T20:30:05.943696Z",
     "iopub.status.busy": "2021-08-09T20:30:05.942935Z",
     "iopub.status.idle": "2021-08-09T20:30:06.627912Z",
     "shell.execute_reply": "2021-08-09T20:30:06.628444Z"
    },
    "papermill": {
     "duration": 0.705541,
     "end_time": "2021-08-09T20:30:06.628629",
     "exception": false,
     "start_time": "2021-08-09T20:30:05.923088",
     "status": "completed"
    },
    "tags": []
   },
   "outputs": [
    {
     "data": {
      "text/plain": [
       "<AxesSubplot:ylabel='PRODUCT'>"
      ]
     },
     "execution_count": 7,
     "metadata": {},
     "output_type": "execute_result"
    },
    {
     "data": {
      "image/png": "[encoded data removed]",
      "text/plain": [
       "<Figure size 432x288 with 1 Axes>"
      ]
     },
     "metadata": {
      "needs_background": "light"
     },
     "output_type": "display_data"
    }
   ],
   "source": [
    "df_pivot_diff.sort_values(\"stamp_2\", ascending = False)[\"stamp_2\"].head(10).plot.barh()"
   ]
  },
  {
   "cell_type": "code",
   "execution_count": null,
   "id": "extra-executive",
   "metadata": {
    "papermill": {
     "duration": 0.011842,
     "end_time": "2021-08-09T20:30:06.654078",
     "exception": false,
     "start_time": "2021-08-09T20:30:06.642236",
     "status": "completed"
    },
    "tags": []
   },
   "outputs": [],
   "source": []
  }
 ],
 "metadata": {
  "kernelspec": {
   "display_name": "Python 3",
   "language": "python",
   "name": "python3"
  },
  "language_info": {
   "codemirror_mode": {
    "name": "ipython",
    "version": 3
   },
   "file_extension": ".py",
   "mimetype": "text/x-python",
   "name": "python",
   "nbconvert_exporter": "python",
   "pygments_lexer": "ipython3",
   "version": "3.8.8"
  },
  "papermill": {
   "default_parameters": {},
   "duration": 4.990705,
   "end_time": "2021-08-09T20:30:08.205486",
   "environment_variables": {},
   "exception": null,
   "input_path": "/Users/saravananshanmugam/Carbonleakage_Git/UsedObjects/eBay_Overview.ipynb",
   "output_path": "/Users/saravananshanmugam/Carbonleakage_Git/UsedObjects/eBay_Overview.ipynb",
   "parameters": {},
   "start_time": "2021-08-09T20:30:03.214781",
   "version": "2.3.3"
  }
 },
 "nbformat": 4,
 "nbformat_minor": 5
}