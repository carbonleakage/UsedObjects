{
 "cells": [
  {
   "cell_type": "code",
   "execution_count": 1,
   "id": "reverse-picking",
   "metadata": {
    "execution": {
     "iopub.execute_input": "2021-10-18T21:00:07.444457Z",
     "iopub.status.busy": "2021-10-18T21:00:07.442532Z",
     "iopub.status.idle": "2021-10-18T21:00:08.248276Z",
     "shell.execute_reply": "2021-10-18T21:00:08.249619Z"
    },
    "papermill": {
     "duration": 0.856301,
     "end_time": "2021-10-18T21:00:08.250243",
     "exception": false,
     "start_time": "2021-10-18T21:00:07.393942",
     "status": "completed"
    },
    "tags": []
   },
   "outputs": [],
   "source": [
    "import pandas as pd\n",
    "import sqlite3"
   ]
  },
  {
   "cell_type": "code",
   "execution_count": 2,
   "id": "innovative-syndrome",
   "metadata": {
    "execution": {
     "iopub.execute_input": "2021-10-18T21:00:08.300964Z",
     "iopub.status.busy": "2021-10-18T21:00:08.299031Z",
     "iopub.status.idle": "2021-10-18T21:00:08.864807Z",
     "shell.execute_reply": "2021-10-18T21:00:08.866192Z"
    },
    "papermill": {
     "duration": 0.595545,
     "end_time": "2021-10-18T21:00:08.866632",
     "exception": false,
     "start_time": "2021-10-18T21:00:08.271087",
     "status": "completed"
    },
    "tags": []
   },
   "outputs": [],
   "source": [
    "timestamps = pd.read_sql(\"select distinct record_time from EBAY_TOP_BERLIN order by record_time desc limit 2\", sqlite3.connect(\"UsedObjects.db\"))"
   ]
  },
  {
   "cell_type": "code",
   "execution_count": 3,
   "id": "periodic-identification",
   "metadata": {
    "execution": {
     "iopub.execute_input": "2021-10-18T21:00:08.947577Z",
     "iopub.status.busy": "2021-10-18T21:00:08.945595Z",
     "iopub.status.idle": "2021-10-18T21:00:08.965545Z",
     "shell.execute_reply": "2021-10-18T21:00:08.966747Z"
    },
    "papermill": {
     "duration": 0.071601,
     "end_time": "2021-10-18T21:00:08.967177",
     "exception": false,
     "start_time": "2021-10-18T21:00:08.895576",
     "status": "completed"
    },
    "tags": []
   },
   "outputs": [
    {
     "data": {
      "text/html": [
       "<div>\n",
       "<style scoped>\n",
       "    .dataframe tbody tr th:only-of-type {\n",
       "        vertical-align: middle;\n",
       "    }\n",
       "\n",
       "    .dataframe tbody tr th {\n",
       "        vertical-align: top;\n",
       "    }\n",
       "\n",
       "    .dataframe thead th {\n",
       "        text-align: right;\n",
       "    }\n",
       "</style>\n",
       "<table border=\"1\" class=\"dataframe\">\n",
       "  <thead>\n",
       "    <tr style=\"text-align: right;\">\n",
       "      <th></th>\n",
       "      <th>RECORD_TIME</th>\n",
       "    </tr>\n",
       "  </thead>\n",
       "  <tbody>\n",
       "    <tr>\n",
       "      <th>0</th>\n",
       "      <td>2021-10-18 23:00</td>\n",
       "    </tr>\n",
       "    <tr>\n",
       "      <th>1</th>\n",
       "      <td>2021-10-18 22:30</td>\n",
       "    </tr>\n",
       "  </tbody>\n",
       "</table>\n",
       "</div>"
      ],
      "text/plain": [
       "        RECORD_TIME\n",
       "0  2021-10-18 23:00\n",
       "1  2021-10-18 22:30"
      ]
     },
     "execution_count": 3,
     "metadata": {},
     "output_type": "execute_result"
    }
   ],
   "source": [
    "timestamps"
   ]
  },
  {
   "cell_type": "code",
   "execution_count": 4,
   "id": "alternate-victory",
   "metadata": {
    "execution": {
     "iopub.execute_input": "2021-10-18T21:00:09.021192Z",
     "iopub.status.busy": "2021-10-18T21:00:09.018883Z",
     "iopub.status.idle": "2021-10-18T21:00:09.842215Z",
     "shell.execute_reply": "2021-10-18T21:00:09.843433Z"
    },
    "papermill": {
     "duration": 0.853756,
     "end_time": "2021-10-18T21:00:09.843830",
     "exception": false,
     "start_time": "2021-10-18T21:00:08.990074",
     "status": "completed"
    },
    "tags": []
   },
   "outputs": [],
   "source": [
    "df = pd.read_sql(\"select * from EBAY_TOP_BERLIN where record_time in (select distinct record_time from EBAY_TOP_BERLIN order by record_time desc limit 2)\", sqlite3.connect(\"UsedObjects.db\"))"
   ]
  },
  {
   "cell_type": "code",
   "execution_count": 5,
   "id": "popular-active",
   "metadata": {
    "execution": {
     "iopub.execute_input": "2021-10-18T21:00:09.918207Z",
     "iopub.status.busy": "2021-10-18T21:00:09.906687Z",
     "iopub.status.idle": "2021-10-18T21:00:09.934984Z",
     "shell.execute_reply": "2021-10-18T21:00:09.936359Z"
    },
    "papermill": {
     "duration": 0.070197,
     "end_time": "2021-10-18T21:00:09.936980",
     "exception": false,
     "start_time": "2021-10-18T21:00:09.866783",
     "status": "completed"
    },
    "tags": []
   },
   "outputs": [],
   "source": [
    "df_pivot = df.pivot_table(index=\"PRODUCT\", columns = \"RECORD_TIME\", values = \"LISTING_COUNT\")"
   ]
  },
  {
   "cell_type": "code",
   "execution_count": 6,
   "id": "union-huntington",
   "metadata": {
    "execution": {
     "iopub.execute_input": "2021-10-18T21:00:09.996495Z",
     "iopub.status.busy": "2021-10-18T21:00:09.994229Z",
     "iopub.status.idle": "2021-10-18T21:00:09.999762Z",
     "shell.execute_reply": "2021-10-18T21:00:10.001188Z"
    },
    "papermill": {
     "duration": 0.042038,
     "end_time": "2021-10-18T21:00:10.001654",
     "exception": false,
     "start_time": "2021-10-18T21:00:09.959616",
     "status": "completed"
    },
    "tags": []
   },
   "outputs": [],
   "source": [
    "df_pivot.columns = [\"stamp_1\", \"stamp_2\"]\n",
    "df_pivot_diff = df_pivot.diff(axis=1)"
   ]
  },
  {
   "cell_type": "code",
   "execution_count": 7,
   "id": "fifth-motion",
   "metadata": {
    "execution": {
     "iopub.execute_input": "2021-10-18T21:00:10.055927Z",
     "iopub.status.busy": "2021-10-18T21:00:10.053748Z",
     "iopub.status.idle": "2021-10-18T21:00:11.565401Z",
     "shell.execute_reply": "2021-10-18T21:00:11.566608Z"
    },
    "papermill": {
     "duration": 1.544443,
     "end_time": "2021-10-18T21:00:11.567036",
     "exception": false,
     "start_time": "2021-10-18T21:00:10.022593",
     "status": "completed"
    },
    "tags": []
   },
   "outputs": [
    {
     "data": {
      "text/plain": [
       "<AxesSubplot:ylabel='PRODUCT'>"
      ]
     },
     "execution_count": 7,
     "metadata": {},
     "output_type": "execute_result"
    },
    {
     "data": {
      "image/png": "[encoded data removed]",
      "text/plain": [
       "<Figure size 432x288 with 1 Axes>"
      ]
     },
     "metadata": {
      "needs_background": "light"
     },
     "output_type": "display_data"
    }
   ],
   "source": [
    "df_pivot_diff.sort_values(\"stamp_2\", ascending = False)[\"stamp_2\"].head(10).plot.barh()"
   ]
  },
  {
   "cell_type": "code",
   "execution_count": null,
   "id": "extra-executive",
   "metadata": {
    "papermill": {
     "duration": 0.022395,
     "end_time": "2021-10-18T21:00:11.615953",
     "exception": false,
     "start_time": "2021-10-18T21:00:11.593558",
     "status": "completed"
    },
    "tags": []
   },
   "outputs": [],
   "source": []
  }
 ],
 "metadata": {
  "kernelspec": {
   "display_name": "Python 3",
   "language": "python",
   "name": "python3"
  },
  "language_info": {
   "codemirror_mode": {
    "name": "ipython",
    "version": 3
   },
   "file_extension": ".py",
   "mimetype": "text/x-python",
   "name": "python",
   "nbconvert_exporter": "python",
   "pygments_lexer": "ipython3",
   "version": "3.9.5"
  },
  "papermill": {
   "default_parameters": {},
   "duration": 7.820242,
   "end_time": "2021-10-18T21:00:12.813551",
   "environment_variables": {},
   "exception": null,
   "input_path": "eBay_Overview.ipynb",
   "output_path": "eBay_Overview.ipynb",
   "parameters": {},
   "start_time": "2021-10-18T21:00:04.993309",
   "version": "2.3.3"
  }
 },
 "nbformat": 4,
 "nbformat_minor": 5
}