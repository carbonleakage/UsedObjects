{
 "cells": [
  {
   "cell_type": "code",
   "execution_count": 1,
   "id": "reverse-picking",
   "metadata": {
    "execution": {
     "iopub.execute_input": "2021-11-29T14:30:07.782059Z",
     "iopub.status.busy": "2021-11-29T14:30:07.779383Z",
     "iopub.status.idle": "2021-11-29T14:30:08.698803Z",
     "shell.execute_reply": "2021-11-29T14:30:08.700481Z"
    },
    "papermill": {
     "duration": 0.970827,
     "end_time": "2021-11-29T14:30:08.701302",
     "exception": false,
     "start_time": "2021-11-29T14:30:07.730475",
     "status": "completed"
    },
    "tags": []
   },
   "outputs": [],
   "source": [
    "import pandas as pd\n",
    "import sqlite3"
   ]
  },
  {
   "cell_type": "code",
   "execution_count": 2,
   "id": "innovative-syndrome",
   "metadata": {
    "execution": {
     "iopub.execute_input": "2021-11-29T14:30:08.764255Z",
     "iopub.status.busy": "2021-11-29T14:30:08.761852Z",
     "iopub.status.idle": "2021-11-29T14:30:09.711138Z",
     "shell.execute_reply": "2021-11-29T14:30:09.712641Z"
    },
    "papermill": {
     "duration": 0.983475,
     "end_time": "2021-11-29T14:30:09.713215",
     "exception": false,
     "start_time": "2021-11-29T14:30:08.729740",
     "status": "completed"
    },
    "tags": []
   },
   "outputs": [],
   "source": [
    "timestamps = pd.read_sql(\"select distinct record_time from EBAY_TOP_BERLIN order by record_time desc limit 2\", sqlite3.connect(\"UsedObjects.db\"))"
   ]
  },
  {
   "cell_type": "code",
   "execution_count": 3,
   "id": "periodic-identification",
   "metadata": {
    "execution": {
     "iopub.execute_input": "2021-11-29T14:30:09.785259Z",
     "iopub.status.busy": "2021-11-29T14:30:09.782446Z",
     "iopub.status.idle": "2021-11-29T14:30:09.804565Z",
     "shell.execute_reply": "2021-11-29T14:30:09.806066Z"
    },
    "papermill": {
     "duration": 0.072467,
     "end_time": "2021-11-29T14:30:09.806558",
     "exception": false,
     "start_time": "2021-11-29T14:30:09.734091",
     "status": "completed"
    },
    "tags": []
   },
   "outputs": [
    {
     "data": {
      "text/html": [
       "<div>\n",
       "<style scoped>\n",
       "    .dataframe tbody tr th:only-of-type {\n",
       "        vertical-align: middle;\n",
       "    }\n",
       "\n",
       "    .dataframe tbody tr th {\n",
       "        vertical-align: top;\n",
       "    }\n",
       "\n",
       "    .dataframe thead th {\n",
       "        text-align: right;\n",
       "    }\n",
       "</style>\n",
       "<table border=\"1\" class=\"dataframe\">\n",
       "  <thead>\n",
       "    <tr style=\"text-align: right;\">\n",
       "      <th></th>\n",
       "      <th>RECORD_TIME</th>\n",
       "    </tr>\n",
       "  </thead>\n",
       "  <tbody>\n",
       "    <tr>\n",
       "      <th>0</th>\n",
       "      <td>2021-11-29 15:30</td>\n",
       "    </tr>\n",
       "    <tr>\n",
       "      <th>1</th>\n",
       "      <td>2021-11-29 15:00</td>\n",
       "    </tr>\n",
       "  </tbody>\n",
       "</table>\n",
       "</div>"
      ],
      "text/plain": [
       "        RECORD_TIME\n",
       "0  2021-11-29 15:30\n",
       "1  2021-11-29 15:00"
      ]
     },
     "execution_count": 3,
     "metadata": {},
     "output_type": "execute_result"
    }
   ],
   "source": [
    "timestamps"
   ]
  },
  {
   "cell_type": "code",
   "execution_count": 4,
   "id": "alternate-victory",
   "metadata": {
    "execution": {
     "iopub.execute_input": "2021-11-29T14:30:09.865448Z",
     "iopub.status.busy": "2021-11-29T14:30:09.861996Z",
     "iopub.status.idle": "2021-11-29T14:30:11.234689Z",
     "shell.execute_reply": "2021-11-29T14:30:11.236002Z"
    },
    "papermill": {
     "duration": 1.40777,
     "end_time": "2021-11-29T14:30:11.236436",
     "exception": false,
     "start_time": "2021-11-29T14:30:09.828666",
     "status": "completed"
    },
    "tags": []
   },
   "outputs": [],
   "source": [
    "df = pd.read_sql(\"select * from EBAY_TOP_BERLIN where record_time in (select distinct record_time from EBAY_TOP_BERLIN order by record_time desc limit 2)\", sqlite3.connect(\"UsedObjects.db\"))"
   ]
  },
  {
   "cell_type": "code",
   "execution_count": 5,
   "id": "popular-active",
   "metadata": {
    "execution": {
     "iopub.execute_input": "2021-11-29T14:30:11.308942Z",
     "iopub.status.busy": "2021-11-29T14:30:11.299781Z",
     "iopub.status.idle": "2021-11-29T14:30:11.337284Z",
     "shell.execute_reply": "2021-11-29T14:30:11.335451Z"
    },
    "papermill": {
     "duration": 0.079842,
     "end_time": "2021-11-29T14:30:11.337706",
     "exception": false,
     "start_time": "2021-11-29T14:30:11.257864",
     "status": "completed"
    },
    "tags": []
   },
   "outputs": [],
   "source": [
    "df_pivot = df.pivot_table(index=\"PRODUCT\", columns = \"RECORD_TIME\", values = \"LISTING_COUNT\")"
   ]
  },
  {
   "cell_type": "code",
   "execution_count": 6,
   "id": "union-huntington",
   "metadata": {
    "execution": {
     "iopub.execute_input": "2021-11-29T14:30:11.400323Z",
     "iopub.status.busy": "2021-11-29T14:30:11.398116Z",
     "iopub.status.idle": "2021-11-29T14:30:11.406495Z",
     "shell.execute_reply": "2021-11-29T14:30:11.404619Z"
    },
    "papermill": {
     "duration": 0.047515,
     "end_time": "2021-11-29T14:30:11.406925",
     "exception": false,
     "start_time": "2021-11-29T14:30:11.359410",
     "status": "completed"
    },
    "tags": []
   },
   "outputs": [],
   "source": [
    "df_pivot.columns = [\"stamp_1\", \"stamp_2\"]\n",
    "df_pivot_diff = df_pivot.diff(axis=1)"
   ]
  },
  {
   "cell_type": "code",
   "execution_count": 7,
   "id": "fifth-motion",
   "metadata": {
    "execution": {
     "iopub.execute_input": "2021-11-29T14:30:11.465149Z",
     "iopub.status.busy": "2021-11-29T14:30:11.462642Z",
     "iopub.status.idle": "2021-11-29T14:30:13.377968Z",
     "shell.execute_reply": "2021-11-29T14:30:13.379299Z"
    },
    "papermill": {
     "duration": 1.951028,
     "end_time": "2021-11-29T14:30:13.379774",
     "exception": false,
     "start_time": "2021-11-29T14:30:11.428746",
     "status": "completed"
    },
    "tags": []
   },
   "outputs": [
    {
     "data": {
      "text/plain": [
       "<AxesSubplot:ylabel='PRODUCT'>"
      ]
     },
     "execution_count": 7,
     "metadata": {},
     "output_type": "execute_result"
    },
    {
     "data": {
      "image/png": "[encoded data removed]",
      "text/plain": [
       "<Figure size 432x288 with 1 Axes>"
      ]
     },
     "metadata": {
      "needs_background": "light"
     },
     "output_type": "display_data"
    }
   ],
   "source": [
    "df_pivot_diff.sort_values(\"stamp_2\", ascending = False)[\"stamp_2\"].head(10).plot.barh()"
   ]
  },
  {
   "cell_type": "code",
   "execution_count": null,
   "id": "extra-executive",
   "metadata": {
    "papermill": {
     "duration": 0.035976,
     "end_time": "2021-11-29T14:30:13.442121",
     "exception": false,
     "start_time": "2021-11-29T14:30:13.406145",
     "status": "completed"
    },
    "tags": []
   },
   "outputs": [],
   "source": []
  }
 ],
 "metadata": {
  "kernelspec": {
   "display_name": "Python 3",
   "language": "python",
   "name": "python3"
  },
  "language_info": {
   "codemirror_mode": {
    "name": "ipython",
    "version": 3
   },
   "file_extension": ".py",
   "mimetype": "text/x-python",
   "name": "python",
   "nbconvert_exporter": "python",
   "pygments_lexer": "ipython3",
   "version": "3.9.5"
  },
  "papermill": {
   "default_parameters": {},
   "duration": 9.929678,
   "end_time": "2021-11-29T14:30:14.939258",
   "environment_variables": {},
   "exception": null,
   "input_path": "eBay_Overview.ipynb",
   "output_path": "eBay_Overview.ipynb",
   "parameters": {},
   "start_time": "2021-11-29T14:30:05.009580",
   "version": "2.3.3"
  }
 },
 "nbformat": 4,
 "nbformat_minor": 5
}