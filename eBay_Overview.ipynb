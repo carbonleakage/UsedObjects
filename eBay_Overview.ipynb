{
 "cells": [
  {
   "cell_type": "code",
   "execution_count": 1,
   "id": "reverse-picking",
   "metadata": {
    "execution": {
     "iopub.execute_input": "2021-09-04T22:00:07.104958Z",
     "iopub.status.busy": "2021-09-04T22:00:07.103030Z",
     "iopub.status.idle": "2021-09-04T22:00:07.911895Z",
     "shell.execute_reply": "2021-09-04T22:00:07.913068Z"
    },
    "papermill": {
     "duration": 0.861701,
     "end_time": "2021-09-04T22:00:07.913697",
     "exception": false,
     "start_time": "2021-09-04T22:00:07.051996",
     "status": "completed"
    },
    "tags": []
   },
   "outputs": [],
   "source": [
    "import pandas as pd\n",
    "import sqlite3"
   ]
  },
  {
   "cell_type": "code",
   "execution_count": 2,
   "id": "innovative-syndrome",
   "metadata": {
    "execution": {
     "iopub.execute_input": "2021-09-04T22:00:07.967890Z",
     "iopub.status.busy": "2021-09-04T22:00:07.965501Z",
     "iopub.status.idle": "2021-09-04T22:00:08.171191Z",
     "shell.execute_reply": "2021-09-04T22:00:08.172407Z"
    },
    "papermill": {
     "duration": 0.235677,
     "end_time": "2021-09-04T22:00:08.172802",
     "exception": false,
     "start_time": "2021-09-04T22:00:07.937125",
     "status": "completed"
    },
    "tags": []
   },
   "outputs": [],
   "source": [
    "timestamps = pd.read_sql(\"select distinct record_time from EBAY_TOP_BERLIN order by record_time desc limit 2\", sqlite3.connect(\"UsedObjects.db\"))"
   ]
  },
  {
   "cell_type": "code",
   "execution_count": 3,
   "id": "periodic-identification",
   "metadata": {
    "execution": {
     "iopub.execute_input": "2021-09-04T22:00:08.241315Z",
     "iopub.status.busy": "2021-09-04T22:00:08.236301Z",
     "iopub.status.idle": "2021-09-04T22:00:08.257227Z",
     "shell.execute_reply": "2021-09-04T22:00:08.258693Z"
    },
    "papermill": {
     "duration": 0.067155,
     "end_time": "2021-09-04T22:00:08.259385",
     "exception": false,
     "start_time": "2021-09-04T22:00:08.192230",
     "status": "completed"
    },
    "tags": []
   },
   "outputs": [
    {
     "data": {
      "text/html": [
       "<div>\n",
       "<style scoped>\n",
       "    .dataframe tbody tr th:only-of-type {\n",
       "        vertical-align: middle;\n",
       "    }\n",
       "\n",
       "    .dataframe tbody tr th {\n",
       "        vertical-align: top;\n",
       "    }\n",
       "\n",
       "    .dataframe thead th {\n",
       "        text-align: right;\n",
       "    }\n",
       "</style>\n",
       "<table border=\"1\" class=\"dataframe\">\n",
       "  <thead>\n",
       "    <tr style=\"text-align: right;\">\n",
       "      <th></th>\n",
       "      <th>RECORD_TIME</th>\n",
       "    </tr>\n",
       "  </thead>\n",
       "  <tbody>\n",
       "    <tr>\n",
       "      <th>0</th>\n",
       "      <td>2021-09-05 00:00</td>\n",
       "    </tr>\n",
       "    <tr>\n",
       "      <th>1</th>\n",
       "      <td>2021-09-04 23:30</td>\n",
       "    </tr>\n",
       "  </tbody>\n",
       "</table>\n",
       "</div>"
      ],
      "text/plain": [
       "        RECORD_TIME\n",
       "0  2021-09-05 00:00\n",
       "1  2021-09-04 23:30"
      ]
     },
     "execution_count": 3,
     "metadata": {},
     "output_type": "execute_result"
    }
   ],
   "source": [
    "timestamps"
   ]
  },
  {
   "cell_type": "code",
   "execution_count": 4,
   "id": "alternate-victory",
   "metadata": {
    "execution": {
     "iopub.execute_input": "2021-09-04T22:00:08.311857Z",
     "iopub.status.busy": "2021-09-04T22:00:08.309487Z",
     "iopub.status.idle": "2021-09-04T22:00:08.619896Z",
     "shell.execute_reply": "2021-09-04T22:00:08.621334Z"
    },
    "papermill": {
     "duration": 0.341107,
     "end_time": "2021-09-04T22:00:08.621767",
     "exception": false,
     "start_time": "2021-09-04T22:00:08.280660",
     "status": "completed"
    },
    "tags": []
   },
   "outputs": [],
   "source": [
    "df = pd.read_sql(\"select * from EBAY_TOP_BERLIN where record_time in (select distinct record_time from EBAY_TOP_BERLIN order by record_time desc limit 2)\", sqlite3.connect(\"UsedObjects.db\"))"
   ]
  },
  {
   "cell_type": "code",
   "execution_count": 5,
   "id": "popular-active",
   "metadata": {
    "execution": {
     "iopub.execute_input": "2021-09-04T22:00:08.713628Z",
     "iopub.status.busy": "2021-09-04T22:00:08.701125Z",
     "iopub.status.idle": "2021-09-04T22:00:08.731953Z",
     "shell.execute_reply": "2021-09-04T22:00:08.733357Z"
    },
    "papermill": {
     "duration": 0.070629,
     "end_time": "2021-09-04T22:00:08.733792",
     "exception": false,
     "start_time": "2021-09-04T22:00:08.663163",
     "status": "completed"
    },
    "tags": []
   },
   "outputs": [],
   "source": [
    "df_pivot = df.pivot_table(index=\"PRODUCT\", columns = \"RECORD_TIME\", values = \"LISTING_COUNT\")"
   ]
  },
  {
   "cell_type": "code",
   "execution_count": 6,
   "id": "union-huntington",
   "metadata": {
    "execution": {
     "iopub.execute_input": "2021-09-04T22:00:08.828551Z",
     "iopub.status.busy": "2021-09-04T22:00:08.826452Z",
     "iopub.status.idle": "2021-09-04T22:00:08.831876Z",
     "shell.execute_reply": "2021-09-04T22:00:08.833207Z"
    },
    "papermill": {
     "duration": 0.079373,
     "end_time": "2021-09-04T22:00:08.833625",
     "exception": false,
     "start_time": "2021-09-04T22:00:08.754252",
     "status": "completed"
    },
    "tags": []
   },
   "outputs": [],
   "source": [
    "df_pivot.columns = [\"stamp_1\", \"stamp_2\"]\n",
    "df_pivot_diff = df_pivot.diff(axis=1)"
   ]
  },
  {
   "cell_type": "code",
   "execution_count": 7,
   "id": "fifth-motion",
   "metadata": {
    "execution": {
     "iopub.execute_input": "2021-09-04T22:00:08.889691Z",
     "iopub.status.busy": "2021-09-04T22:00:08.887047Z",
     "iopub.status.idle": "2021-09-04T22:00:10.382478Z",
     "shell.execute_reply": "2021-09-04T22:00:10.383843Z"
    },
    "papermill": {
     "duration": 1.529083,
     "end_time": "2021-09-04T22:00:10.384262",
     "exception": false,
     "start_time": "2021-09-04T22:00:08.855179",
     "status": "completed"
    },
    "tags": []
   },
   "outputs": [
    {
     "data": {
      "text/plain": [
       "<AxesSubplot:ylabel='PRODUCT'>"
      ]
     },
     "execution_count": 7,
     "metadata": {},
     "output_type": "execute_result"
    },
    {
     "data": {
      "image/png": "[encoded data removed]",
      "text/plain": [
       "<Figure size 432x288 with 1 Axes>"
      ]
     },
     "metadata": {
      "needs_background": "light"
     },
     "output_type": "display_data"
    }
   ],
   "source": [
    "df_pivot_diff.sort_values(\"stamp_2\", ascending = False)[\"stamp_2\"].head(10).plot.barh()"
   ]
  },
  {
   "cell_type": "code",
   "execution_count": null,
   "id": "extra-executive",
   "metadata": {
    "papermill": {
     "duration": 0.022299,
     "end_time": "2021-09-04T22:00:10.430009",
     "exception": false,
     "start_time": "2021-09-04T22:00:10.407710",
     "status": "completed"
    },
    "tags": []
   },
   "outputs": [],
   "source": []
  }
 ],
 "metadata": {
  "kernelspec": {
   "display_name": "Python 3",
   "language": "python",
   "name": "python3"
  },
  "language_info": {
   "codemirror_mode": {
    "name": "ipython",
    "version": 3
   },
   "file_extension": ".py",
   "mimetype": "text/x-python",
   "name": "python",
   "nbconvert_exporter": "python",
   "pygments_lexer": "ipython3",
   "version": "3.9.5"
  },
  "papermill": {
   "default_parameters": {},
   "duration": 6.436344,
   "end_time": "2021-09-04T22:00:11.073428",
   "environment_variables": {},
   "exception": null,
   "input_path": "eBay_Overview.ipynb",
   "output_path": "eBay_Overview.ipynb",
   "parameters": {},
   "start_time": "2021-09-04T22:00:04.637084",
   "version": "2.3.3"
  }
 },
 "nbformat": 4,
 "nbformat_minor": 5
}