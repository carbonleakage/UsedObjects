{
 "cells": [
  {
   "cell_type": "code",
   "execution_count": 1,
   "id": "reverse-picking",
   "metadata": {
    "execution": {
     "iopub.execute_input": "2021-11-25T19:00:07.662702Z",
     "iopub.status.busy": "2021-11-25T19:00:07.660335Z",
     "iopub.status.idle": "2021-11-25T19:00:08.602586Z",
     "shell.execute_reply": "2021-11-25T19:00:08.604091Z"
    },
    "papermill": {
     "duration": 0.991823,
     "end_time": "2021-11-25T19:00:08.604890",
     "exception": false,
     "start_time": "2021-11-25T19:00:07.613067",
     "status": "completed"
    },
    "tags": []
   },
   "outputs": [],
   "source": [
    "import pandas as pd\n",
    "import sqlite3"
   ]
  },
  {
   "cell_type": "code",
   "execution_count": 2,
   "id": "innovative-syndrome",
   "metadata": {
    "execution": {
     "iopub.execute_input": "2021-11-25T19:00:08.667003Z",
     "iopub.status.busy": "2021-11-25T19:00:08.664668Z",
     "iopub.status.idle": "2021-11-25T19:00:09.566762Z",
     "shell.execute_reply": "2021-11-25T19:00:09.568577Z"
    },
    "papermill": {
     "duration": 0.937436,
     "end_time": "2021-11-25T19:00:09.569508",
     "exception": false,
     "start_time": "2021-11-25T19:00:08.632072",
     "status": "completed"
    },
    "tags": []
   },
   "outputs": [],
   "source": [
    "timestamps = pd.read_sql(\"select distinct record_time from EBAY_TOP_BERLIN order by record_time desc limit 2\", sqlite3.connect(\"UsedObjects.db\"))"
   ]
  },
  {
   "cell_type": "code",
   "execution_count": 3,
   "id": "periodic-identification",
   "metadata": {
    "execution": {
     "iopub.execute_input": "2021-11-25T19:00:09.631621Z",
     "iopub.status.busy": "2021-11-25T19:00:09.628988Z",
     "iopub.status.idle": "2021-11-25T19:00:09.663543Z",
     "shell.execute_reply": "2021-11-25T19:00:09.662037Z"
    },
    "papermill": {
     "duration": 0.073021,
     "end_time": "2021-11-25T19:00:09.663946",
     "exception": false,
     "start_time": "2021-11-25T19:00:09.590925",
     "status": "completed"
    },
    "tags": []
   },
   "outputs": [
    {
     "data": {
      "text/html": [
       "<div>\n",
       "<style scoped>\n",
       "    .dataframe tbody tr th:only-of-type {\n",
       "        vertical-align: middle;\n",
       "    }\n",
       "\n",
       "    .dataframe tbody tr th {\n",
       "        vertical-align: top;\n",
       "    }\n",
       "\n",
       "    .dataframe thead th {\n",
       "        text-align: right;\n",
       "    }\n",
       "</style>\n",
       "<table border=\"1\" class=\"dataframe\">\n",
       "  <thead>\n",
       "    <tr style=\"text-align: right;\">\n",
       "      <th></th>\n",
       "      <th>RECORD_TIME</th>\n",
       "    </tr>\n",
       "  </thead>\n",
       "  <tbody>\n",
       "    <tr>\n",
       "      <th>0</th>\n",
       "      <td>2021-11-25 20:00</td>\n",
       "    </tr>\n",
       "    <tr>\n",
       "      <th>1</th>\n",
       "      <td>2021-11-25 19:30</td>\n",
       "    </tr>\n",
       "  </tbody>\n",
       "</table>\n",
       "</div>"
      ],
      "text/plain": [
       "        RECORD_TIME\n",
       "0  2021-11-25 20:00\n",
       "1  2021-11-25 19:30"
      ]
     },
     "execution_count": 3,
     "metadata": {},
     "output_type": "execute_result"
    }
   ],
   "source": [
    "timestamps"
   ]
  },
  {
   "cell_type": "code",
   "execution_count": 4,
   "id": "alternate-victory",
   "metadata": {
    "execution": {
     "iopub.execute_input": "2021-11-25T19:00:09.719136Z",
     "iopub.status.busy": "2021-11-25T19:00:09.716629Z",
     "iopub.status.idle": "2021-11-25T19:00:11.050231Z",
     "shell.execute_reply": "2021-11-25T19:00:11.051886Z"
    },
    "papermill": {
     "duration": 1.367637,
     "end_time": "2021-11-25T19:00:11.052420",
     "exception": false,
     "start_time": "2021-11-25T19:00:09.684783",
     "status": "completed"
    },
    "tags": []
   },
   "outputs": [],
   "source": [
    "df = pd.read_sql(\"select * from EBAY_TOP_BERLIN where record_time in (select distinct record_time from EBAY_TOP_BERLIN order by record_time desc limit 2)\", sqlite3.connect(\"UsedObjects.db\"))"
   ]
  },
  {
   "cell_type": "code",
   "execution_count": 5,
   "id": "popular-active",
   "metadata": {
    "execution": {
     "iopub.execute_input": "2021-11-25T19:00:11.117844Z",
     "iopub.status.busy": "2021-11-25T19:00:11.115568Z",
     "iopub.status.idle": "2021-11-25T19:00:11.147378Z",
     "shell.execute_reply": "2021-11-25T19:00:11.148618Z"
    },
    "papermill": {
     "duration": 0.074857,
     "end_time": "2021-11-25T19:00:11.149115",
     "exception": false,
     "start_time": "2021-11-25T19:00:11.074258",
     "status": "completed"
    },
    "tags": []
   },
   "outputs": [],
   "source": [
    "df_pivot = df.pivot_table(index=\"PRODUCT\", columns = \"RECORD_TIME\", values = \"LISTING_COUNT\")"
   ]
  },
  {
   "cell_type": "code",
   "execution_count": 6,
   "id": "union-huntington",
   "metadata": {
    "execution": {
     "iopub.execute_input": "2021-11-25T19:00:11.208117Z",
     "iopub.status.busy": "2021-11-25T19:00:11.205760Z",
     "iopub.status.idle": "2021-11-25T19:00:11.213359Z",
     "shell.execute_reply": "2021-11-25T19:00:11.211465Z"
    },
    "papermill": {
     "duration": 0.044662,
     "end_time": "2021-11-25T19:00:11.213805",
     "exception": false,
     "start_time": "2021-11-25T19:00:11.169143",
     "status": "completed"
    },
    "tags": []
   },
   "outputs": [],
   "source": [
    "df_pivot.columns = [\"stamp_1\", \"stamp_2\"]\n",
    "df_pivot_diff = df_pivot.diff(axis=1)"
   ]
  },
  {
   "cell_type": "code",
   "execution_count": 7,
   "id": "fifth-motion",
   "metadata": {
    "execution": {
     "iopub.execute_input": "2021-11-25T19:00:11.273393Z",
     "iopub.status.busy": "2021-11-25T19:00:11.270773Z",
     "iopub.status.idle": "2021-11-25T19:00:13.169263Z",
     "shell.execute_reply": "2021-11-25T19:00:13.170743Z"
    },
    "papermill": {
     "duration": 1.935301,
     "end_time": "2021-11-25T19:00:13.171243",
     "exception": false,
     "start_time": "2021-11-25T19:00:11.235942",
     "status": "completed"
    },
    "tags": []
   },
   "outputs": [
    {
     "data": {
      "text/plain": [
       "<AxesSubplot:ylabel='PRODUCT'>"
      ]
     },
     "execution_count": 7,
     "metadata": {},
     "output_type": "execute_result"
    },
    {
     "data": {
      "image/png": "[encoded data removed]",
      "text/plain": [
       "<Figure size 432x288 with 1 Axes>"
      ]
     },
     "metadata": {
      "needs_background": "light"
     },
     "output_type": "display_data"
    }
   ],
   "source": [
    "df_pivot_diff.sort_values(\"stamp_2\", ascending = False)[\"stamp_2\"].head(10).plot.barh()"
   ]
  },
  {
   "cell_type": "code",
   "execution_count": null,
   "id": "extra-executive",
   "metadata": {
    "papermill": {
     "duration": 0.023039,
     "end_time": "2021-11-25T19:00:13.218491",
     "exception": false,
     "start_time": "2021-11-25T19:00:13.195452",
     "status": "completed"
    },
    "tags": []
   },
   "outputs": [],
   "source": []
  }
 ],
 "metadata": {
  "kernelspec": {
   "display_name": "Python 3",
   "language": "python",
   "name": "python3"
  },
  "language_info": {
   "codemirror_mode": {
    "name": "ipython",
    "version": 3
   },
   "file_extension": ".py",
   "mimetype": "text/x-python",
   "name": "python",
   "nbconvert_exporter": "python",
   "pygments_lexer": "ipython3",
   "version": "3.9.5"
  },
  "papermill": {
   "default_parameters": {},
   "duration": 9.926357,
   "end_time": "2021-11-25T19:00:14.820375",
   "environment_variables": {},
   "exception": null,
   "input_path": "eBay_Overview.ipynb",
   "output_path": "eBay_Overview.ipynb",
   "parameters": {},
   "start_time": "2021-11-25T19:00:04.894018",
   "version": "2.3.3"
  }
 },
 "nbformat": 4,
 "nbformat_minor": 5
}