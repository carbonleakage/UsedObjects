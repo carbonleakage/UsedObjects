{
 "cells": [
  {
   "cell_type": "code",
   "execution_count": 1,
   "id": "reverse-picking",
   "metadata": {
    "execution": {
     "iopub.execute_input": "2021-12-16T03:00:08.039695Z",
     "iopub.status.busy": "2021-12-16T03:00:08.037439Z",
     "iopub.status.idle": "2021-12-16T03:00:08.995683Z",
     "shell.execute_reply": "2021-12-16T03:00:08.997259Z"
    },
    "papermill": {
     "duration": 1.007015,
     "end_time": "2021-12-16T03:00:08.998072",
     "exception": false,
     "start_time": "2021-12-16T03:00:07.991057",
     "status": "completed"
    },
    "tags": []
   },
   "outputs": [],
   "source": [
    "import pandas as pd\n",
    "import sqlite3"
   ]
  },
  {
   "cell_type": "code",
   "execution_count": 2,
   "id": "innovative-syndrome",
   "metadata": {
    "execution": {
     "iopub.execute_input": "2021-12-16T03:00:09.060611Z",
     "iopub.status.busy": "2021-12-16T03:00:09.057989Z",
     "iopub.status.idle": "2021-12-16T03:00:10.160056Z",
     "shell.execute_reply": "2021-12-16T03:00:10.161533Z"
    },
    "papermill": {
     "duration": 1.13662,
     "end_time": "2021-12-16T03:00:10.161960",
     "exception": false,
     "start_time": "2021-12-16T03:00:09.025340",
     "status": "completed"
    },
    "tags": []
   },
   "outputs": [],
   "source": [
    "timestamps = pd.read_sql(\"select distinct record_time from EBAY_TOP_BERLIN order by record_time desc limit 2\", sqlite3.connect(\"UsedObjects.db\"))"
   ]
  },
  {
   "cell_type": "code",
   "execution_count": 3,
   "id": "periodic-identification",
   "metadata": {
    "execution": {
     "iopub.execute_input": "2021-12-16T03:00:10.234646Z",
     "iopub.status.busy": "2021-12-16T03:00:10.229216Z",
     "iopub.status.idle": "2021-12-16T03:00:10.256485Z",
     "shell.execute_reply": "2021-12-16T03:00:10.253528Z"
    },
    "papermill": {
     "duration": 0.074164,
     "end_time": "2021-12-16T03:00:10.256948",
     "exception": false,
     "start_time": "2021-12-16T03:00:10.182784",
     "status": "completed"
    },
    "tags": []
   },
   "outputs": [
    {
     "data": {
      "text/html": [
       "<div>\n",
       "<style scoped>\n",
       "    .dataframe tbody tr th:only-of-type {\n",
       "        vertical-align: middle;\n",
       "    }\n",
       "\n",
       "    .dataframe tbody tr th {\n",
       "        vertical-align: top;\n",
       "    }\n",
       "\n",
       "    .dataframe thead th {\n",
       "        text-align: right;\n",
       "    }\n",
       "</style>\n",
       "<table border=\"1\" class=\"dataframe\">\n",
       "  <thead>\n",
       "    <tr style=\"text-align: right;\">\n",
       "      <th></th>\n",
       "      <th>RECORD_TIME</th>\n",
       "    </tr>\n",
       "  </thead>\n",
       "  <tbody>\n",
       "    <tr>\n",
       "      <th>0</th>\n",
       "      <td>2021-12-16 04:00</td>\n",
       "    </tr>\n",
       "    <tr>\n",
       "      <th>1</th>\n",
       "      <td>2021-12-16 03:30</td>\n",
       "    </tr>\n",
       "  </tbody>\n",
       "</table>\n",
       "</div>"
      ],
      "text/plain": [
       "        RECORD_TIME\n",
       "0  2021-12-16 04:00\n",
       "1  2021-12-16 03:30"
      ]
     },
     "execution_count": 3,
     "metadata": {},
     "output_type": "execute_result"
    }
   ],
   "source": [
    "timestamps"
   ]
  },
  {
   "cell_type": "code",
   "execution_count": 4,
   "id": "alternate-victory",
   "metadata": {
    "execution": {
     "iopub.execute_input": "2021-12-16T03:00:10.310090Z",
     "iopub.status.busy": "2021-12-16T03:00:10.308166Z",
     "iopub.status.idle": "2021-12-16T03:00:12.019903Z",
     "shell.execute_reply": "2021-12-16T03:00:12.021464Z"
    },
    "papermill": {
     "duration": 1.744229,
     "end_time": "2021-12-16T03:00:12.021940",
     "exception": false,
     "start_time": "2021-12-16T03:00:10.277711",
     "status": "completed"
    },
    "tags": []
   },
   "outputs": [],
   "source": [
    "df = pd.read_sql(\"select * from EBAY_TOP_BERLIN where record_time in (select distinct record_time from EBAY_TOP_BERLIN order by record_time desc limit 2)\", sqlite3.connect(\"UsedObjects.db\"))"
   ]
  },
  {
   "cell_type": "code",
   "execution_count": 5,
   "id": "popular-active",
   "metadata": {
    "execution": {
     "iopub.execute_input": "2021-12-16T03:00:12.092170Z",
     "iopub.status.busy": "2021-12-16T03:00:12.083155Z",
     "iopub.status.idle": "2021-12-16T03:00:12.118707Z",
     "shell.execute_reply": "2021-12-16T03:00:12.120226Z"
    },
    "papermill": {
     "duration": 0.078155,
     "end_time": "2021-12-16T03:00:12.120776",
     "exception": false,
     "start_time": "2021-12-16T03:00:12.042621",
     "status": "completed"
    },
    "tags": []
   },
   "outputs": [],
   "source": [
    "df_pivot = df.pivot_table(index=\"PRODUCT\", columns = \"RECORD_TIME\", values = \"LISTING_COUNT\")"
   ]
  },
  {
   "cell_type": "code",
   "execution_count": 6,
   "id": "union-huntington",
   "metadata": {
    "execution": {
     "iopub.execute_input": "2021-12-16T03:00:12.179781Z",
     "iopub.status.busy": "2021-12-16T03:00:12.177564Z",
     "iopub.status.idle": "2021-12-16T03:00:12.184446Z",
     "shell.execute_reply": "2021-12-16T03:00:12.183002Z"
    },
    "papermill": {
     "duration": 0.042923,
     "end_time": "2021-12-16T03:00:12.184963",
     "exception": false,
     "start_time": "2021-12-16T03:00:12.142040",
     "status": "completed"
    },
    "tags": []
   },
   "outputs": [],
   "source": [
    "df_pivot.columns = [\"stamp_1\", \"stamp_2\"]\n",
    "df_pivot_diff = df_pivot.diff(axis=1)"
   ]
  },
  {
   "cell_type": "code",
   "execution_count": 7,
   "id": "fifth-motion",
   "metadata": {
    "execution": {
     "iopub.execute_input": "2021-12-16T03:00:12.241544Z",
     "iopub.status.busy": "2021-12-16T03:00:12.238985Z",
     "iopub.status.idle": "2021-12-16T03:00:14.243230Z",
     "shell.execute_reply": "2021-12-16T03:00:14.244538Z"
    },
    "papermill": {
     "duration": 2.039321,
     "end_time": "2021-12-16T03:00:14.245042",
     "exception": false,
     "start_time": "2021-12-16T03:00:12.205721",
     "status": "completed"
    },
    "tags": []
   },
   "outputs": [
    {
     "data": {
      "text/plain": [
       "<AxesSubplot:ylabel='PRODUCT'>"
      ]
     },
     "execution_count": 7,
     "metadata": {},
     "output_type": "execute_result"
    },
    {
     "data": {
      "image/png": "[encoded data removed]",
      "text/plain": [
       "<Figure size 432x288 with 1 Axes>"
      ]
     },
     "metadata": {
      "needs_background": "light"
     },
     "output_type": "display_data"
    }
   ],
   "source": [
    "df_pivot_diff.sort_values(\"stamp_2\", ascending = False)[\"stamp_2\"].head(10).plot.barh()"
   ]
  },
  {
   "cell_type": "code",
   "execution_count": null,
   "id": "extra-executive",
   "metadata": {
    "papermill": {
     "duration": 0.021999,
     "end_time": "2021-12-16T03:00:14.290948",
     "exception": false,
     "start_time": "2021-12-16T03:00:14.268949",
     "status": "completed"
    },
    "tags": []
   },
   "outputs": [],
   "source": []
  }
 ],
 "metadata": {
  "kernelspec": {
   "display_name": "Python 3",
   "language": "python",
   "name": "python3"
  },
  "language_info": {
   "codemirror_mode": {
    "name": "ipython",
    "version": 3
   },
   "file_extension": ".py",
   "mimetype": "text/x-python",
   "name": "python",
   "nbconvert_exporter": "python",
   "pygments_lexer": "ipython3",
   "version": "3.9.5"
  },
  "papermill": {
   "default_parameters": {},
   "duration": 9.661851,
   "end_time": "2021-12-16T03:00:14.931900",
   "environment_variables": {},
   "exception": null,
   "input_path": "eBay_Overview.ipynb",
   "output_path": "eBay_Overview.ipynb",
   "parameters": {},
   "start_time": "2021-12-16T03:00:05.270049",
   "version": "2.3.3"
  }
 },
 "nbformat": 4,
 "nbformat_minor": 5
}