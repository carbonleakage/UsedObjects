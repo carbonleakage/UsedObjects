{
 "cells": [
  {
   "cell_type": "code",
   "execution_count": 1,
   "id": "reverse-picking",
   "metadata": {
    "execution": {
     "iopub.execute_input": "2021-10-27T07:00:07.110655Z",
     "iopub.status.busy": "2021-10-27T07:00:07.108630Z",
     "iopub.status.idle": "2021-10-27T07:00:07.918658Z",
     "shell.execute_reply": "2021-10-27T07:00:07.919909Z"
    },
    "papermill": {
     "duration": 0.862689,
     "end_time": "2021-10-27T07:00:07.920528",
     "exception": false,
     "start_time": "2021-10-27T07:00:07.057839",
     "status": "completed"
    },
    "tags": []
   },
   "outputs": [],
   "source": [
    "import pandas as pd\n",
    "import sqlite3"
   ]
  },
  {
   "cell_type": "code",
   "execution_count": 2,
   "id": "innovative-syndrome",
   "metadata": {
    "execution": {
     "iopub.execute_input": "2021-10-27T07:00:07.974204Z",
     "iopub.status.busy": "2021-10-27T07:00:07.971822Z",
     "iopub.status.idle": "2021-10-27T07:00:08.620903Z",
     "shell.execute_reply": "2021-10-27T07:00:08.622205Z"
    },
    "papermill": {
     "duration": 0.67941,
     "end_time": "2021-10-27T07:00:08.622625",
     "exception": false,
     "start_time": "2021-10-27T07:00:07.943215",
     "status": "completed"
    },
    "tags": []
   },
   "outputs": [],
   "source": [
    "timestamps = pd.read_sql(\"select distinct record_time from EBAY_TOP_BERLIN order by record_time desc limit 2\", sqlite3.connect(\"UsedObjects.db\"))"
   ]
  },
  {
   "cell_type": "code",
   "execution_count": 3,
   "id": "periodic-identification",
   "metadata": {
    "execution": {
     "iopub.execute_input": "2021-10-27T07:00:08.702450Z",
     "iopub.status.busy": "2021-10-27T07:00:08.700327Z",
     "iopub.status.idle": "2021-10-27T07:00:08.720338Z",
     "shell.execute_reply": "2021-10-27T07:00:08.721803Z"
    },
    "papermill": {
     "duration": 0.071101,
     "end_time": "2021-10-27T07:00:08.722255",
     "exception": false,
     "start_time": "2021-10-27T07:00:08.651154",
     "status": "completed"
    },
    "tags": []
   },
   "outputs": [
    {
     "data": {
      "text/html": [
       "<div>\n",
       "<style scoped>\n",
       "    .dataframe tbody tr th:only-of-type {\n",
       "        vertical-align: middle;\n",
       "    }\n",
       "\n",
       "    .dataframe tbody tr th {\n",
       "        vertical-align: top;\n",
       "    }\n",
       "\n",
       "    .dataframe thead th {\n",
       "        text-align: right;\n",
       "    }\n",
       "</style>\n",
       "<table border=\"1\" class=\"dataframe\">\n",
       "  <thead>\n",
       "    <tr style=\"text-align: right;\">\n",
       "      <th></th>\n",
       "      <th>RECORD_TIME</th>\n",
       "    </tr>\n",
       "  </thead>\n",
       "  <tbody>\n",
       "    <tr>\n",
       "      <th>0</th>\n",
       "      <td>2021-10-27 09:00</td>\n",
       "    </tr>\n",
       "    <tr>\n",
       "      <th>1</th>\n",
       "      <td>2021-10-27 08:30</td>\n",
       "    </tr>\n",
       "  </tbody>\n",
       "</table>\n",
       "</div>"
      ],
      "text/plain": [
       "        RECORD_TIME\n",
       "0  2021-10-27 09:00\n",
       "1  2021-10-27 08:30"
      ]
     },
     "execution_count": 3,
     "metadata": {},
     "output_type": "execute_result"
    }
   ],
   "source": [
    "timestamps"
   ]
  },
  {
   "cell_type": "code",
   "execution_count": 4,
   "id": "alternate-victory",
   "metadata": {
    "execution": {
     "iopub.execute_input": "2021-10-27T07:00:08.774380Z",
     "iopub.status.busy": "2021-10-27T07:00:08.772006Z",
     "iopub.status.idle": "2021-10-27T07:00:09.726335Z",
     "shell.execute_reply": "2021-10-27T07:00:09.727550Z"
    },
    "papermill": {
     "duration": 0.984758,
     "end_time": "2021-10-27T07:00:09.727953",
     "exception": false,
     "start_time": "2021-10-27T07:00:08.743195",
     "status": "completed"
    },
    "tags": []
   },
   "outputs": [],
   "source": [
    "df = pd.read_sql(\"select * from EBAY_TOP_BERLIN where record_time in (select distinct record_time from EBAY_TOP_BERLIN order by record_time desc limit 2)\", sqlite3.connect(\"UsedObjects.db\"))"
   ]
  },
  {
   "cell_type": "code",
   "execution_count": 5,
   "id": "popular-active",
   "metadata": {
    "execution": {
     "iopub.execute_input": "2021-10-27T07:00:09.799640Z",
     "iopub.status.busy": "2021-10-27T07:00:09.786906Z",
     "iopub.status.idle": "2021-10-27T07:00:09.815154Z",
     "shell.execute_reply": "2021-10-27T07:00:09.816375Z"
    },
    "papermill": {
     "duration": 0.068233,
     "end_time": "2021-10-27T07:00:09.816835",
     "exception": false,
     "start_time": "2021-10-27T07:00:09.748602",
     "status": "completed"
    },
    "tags": []
   },
   "outputs": [],
   "source": [
    "df_pivot = df.pivot_table(index=\"PRODUCT\", columns = \"RECORD_TIME\", values = \"LISTING_COUNT\")"
   ]
  },
  {
   "cell_type": "code",
   "execution_count": 6,
   "id": "union-huntington",
   "metadata": {
    "execution": {
     "iopub.execute_input": "2021-10-27T07:00:09.873496Z",
     "iopub.status.busy": "2021-10-27T07:00:09.871273Z",
     "iopub.status.idle": "2021-10-27T07:00:09.877048Z",
     "shell.execute_reply": "2021-10-27T07:00:09.878601Z"
    },
    "papermill": {
     "duration": 0.041311,
     "end_time": "2021-10-27T07:00:09.879085",
     "exception": false,
     "start_time": "2021-10-27T07:00:09.837774",
     "status": "completed"
    },
    "tags": []
   },
   "outputs": [],
   "source": [
    "df_pivot.columns = [\"stamp_1\", \"stamp_2\"]\n",
    "df_pivot_diff = df_pivot.diff(axis=1)"
   ]
  },
  {
   "cell_type": "code",
   "execution_count": 7,
   "id": "fifth-motion",
   "metadata": {
    "execution": {
     "iopub.execute_input": "2021-10-27T07:00:09.935323Z",
     "iopub.status.busy": "2021-10-27T07:00:09.932907Z",
     "iopub.status.idle": "2021-10-27T07:00:11.432022Z",
     "shell.execute_reply": "2021-10-27T07:00:11.433673Z"
    },
    "papermill": {
     "duration": 1.533298,
     "end_time": "2021-10-27T07:00:11.434132",
     "exception": false,
     "start_time": "2021-10-27T07:00:09.900834",
     "status": "completed"
    },
    "tags": []
   },
   "outputs": [
    {
     "data": {
      "text/plain": [
       "<AxesSubplot:ylabel='PRODUCT'>"
      ]
     },
     "execution_count": 7,
     "metadata": {},
     "output_type": "execute_result"
    },
    {
     "data": {
      "image/png": "[encoded data removed]",
      "text/plain": [
       "<Figure size 432x288 with 1 Axes>"
      ]
     },
     "metadata": {
      "needs_background": "light"
     },
     "output_type": "display_data"
    }
   ],
   "source": [
    "df_pivot_diff.sort_values(\"stamp_2\", ascending = False)[\"stamp_2\"].head(10).plot.barh()"
   ]
  },
  {
   "cell_type": "code",
   "execution_count": null,
   "id": "extra-executive",
   "metadata": {
    "papermill": {
     "duration": 0.023056,
     "end_time": "2021-10-27T07:00:11.483914",
     "exception": false,
     "start_time": "2021-10-27T07:00:11.460858",
     "status": "completed"
    },
    "tags": []
   },
   "outputs": [],
   "source": []
  }
 ],
 "metadata": {
  "kernelspec": {
   "display_name": "Python 3",
   "language": "python",
   "name": "python3"
  },
  "language_info": {
   "codemirror_mode": {
    "name": "ipython",
    "version": 3
   },
   "file_extension": ".py",
   "mimetype": "text/x-python",
   "name": "python",
   "nbconvert_exporter": "python",
   "pygments_lexer": "ipython3",
   "version": "3.9.5"
  },
  "papermill": {
   "default_parameters": {},
   "duration": 7.487548,
   "end_time": "2021-10-27T07:00:12.128405",
   "environment_variables": {},
   "exception": null,
   "input_path": "eBay_Overview.ipynb",
   "output_path": "eBay_Overview.ipynb",
   "parameters": {},
   "start_time": "2021-10-27T07:00:04.640857",
   "version": "2.3.3"
  }
 },
 "nbformat": 4,
 "nbformat_minor": 5
}