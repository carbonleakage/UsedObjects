{
 "cells": [
  {
   "cell_type": "code",
   "execution_count": 1,
   "id": "reverse-picking",
   "metadata": {
    "execution": {
     "iopub.execute_input": "2021-12-04T17:30:08.222057Z",
     "iopub.status.busy": "2021-12-04T17:30:08.219488Z",
     "iopub.status.idle": "2021-12-04T17:30:09.181831Z",
     "shell.execute_reply": "2021-12-04T17:30:09.183372Z"
    },
    "papermill": {
     "duration": 1.013202,
     "end_time": "2021-12-04T17:30:09.184128",
     "exception": false,
     "start_time": "2021-12-04T17:30:08.170926",
     "status": "completed"
    },
    "tags": []
   },
   "outputs": [],
   "source": [
    "import pandas as pd\n",
    "import sqlite3"
   ]
  },
  {
   "cell_type": "code",
   "execution_count": 2,
   "id": "innovative-syndrome",
   "metadata": {
    "execution": {
     "iopub.execute_input": "2021-12-04T17:30:09.301790Z",
     "iopub.status.busy": "2021-12-04T17:30:09.299296Z",
     "iopub.status.idle": "2021-12-04T17:30:10.318902Z",
     "shell.execute_reply": "2021-12-04T17:30:10.320660Z"
    },
    "papermill": {
     "duration": 1.055303,
     "end_time": "2021-12-04T17:30:10.321241",
     "exception": false,
     "start_time": "2021-12-04T17:30:09.265938",
     "status": "completed"
    },
    "tags": []
   },
   "outputs": [],
   "source": [
    "timestamps = pd.read_sql(\"select distinct record_time from EBAY_TOP_BERLIN order by record_time desc limit 2\", sqlite3.connect(\"UsedObjects.db\"))"
   ]
  },
  {
   "cell_type": "code",
   "execution_count": 3,
   "id": "periodic-identification",
   "metadata": {
    "execution": {
     "iopub.execute_input": "2021-12-04T17:30:10.391296Z",
     "iopub.status.busy": "2021-12-04T17:30:10.389216Z",
     "iopub.status.idle": "2021-12-04T17:30:10.411348Z",
     "shell.execute_reply": "2021-12-04T17:30:10.413487Z"
    },
    "papermill": {
     "duration": 0.072746,
     "end_time": "2021-12-04T17:30:10.414106",
     "exception": false,
     "start_time": "2021-12-04T17:30:10.341360",
     "status": "completed"
    },
    "tags": []
   },
   "outputs": [
    {
     "data": {
      "text/html": [
       "<div>\n",
       "<style scoped>\n",
       "    .dataframe tbody tr th:only-of-type {\n",
       "        vertical-align: middle;\n",
       "    }\n",
       "\n",
       "    .dataframe tbody tr th {\n",
       "        vertical-align: top;\n",
       "    }\n",
       "\n",
       "    .dataframe thead th {\n",
       "        text-align: right;\n",
       "    }\n",
       "</style>\n",
       "<table border=\"1\" class=\"dataframe\">\n",
       "  <thead>\n",
       "    <tr style=\"text-align: right;\">\n",
       "      <th></th>\n",
       "      <th>RECORD_TIME</th>\n",
       "    </tr>\n",
       "  </thead>\n",
       "  <tbody>\n",
       "    <tr>\n",
       "      <th>0</th>\n",
       "      <td>2021-12-04 18:30</td>\n",
       "    </tr>\n",
       "    <tr>\n",
       "      <th>1</th>\n",
       "      <td>2021-12-04 18:00</td>\n",
       "    </tr>\n",
       "  </tbody>\n",
       "</table>\n",
       "</div>"
      ],
      "text/plain": [
       "        RECORD_TIME\n",
       "0  2021-12-04 18:30\n",
       "1  2021-12-04 18:00"
      ]
     },
     "execution_count": 3,
     "metadata": {},
     "output_type": "execute_result"
    }
   ],
   "source": [
    "timestamps"
   ]
  },
  {
   "cell_type": "code",
   "execution_count": 4,
   "id": "alternate-victory",
   "metadata": {
    "execution": {
     "iopub.execute_input": "2021-12-04T17:30:10.468979Z",
     "iopub.status.busy": "2021-12-04T17:30:10.466930Z",
     "iopub.status.idle": "2021-12-04T17:30:11.920743Z",
     "shell.execute_reply": "2021-12-04T17:30:11.922816Z"
    },
    "papermill": {
     "duration": 1.4849,
     "end_time": "2021-12-04T17:30:11.923301",
     "exception": false,
     "start_time": "2021-12-04T17:30:10.438401",
     "status": "completed"
    },
    "tags": []
   },
   "outputs": [],
   "source": [
    "df = pd.read_sql(\"select * from EBAY_TOP_BERLIN where record_time in (select distinct record_time from EBAY_TOP_BERLIN order by record_time desc limit 2)\", sqlite3.connect(\"UsedObjects.db\"))"
   ]
  },
  {
   "cell_type": "code",
   "execution_count": 5,
   "id": "popular-active",
   "metadata": {
    "execution": {
     "iopub.execute_input": "2021-12-04T17:30:11.981773Z",
     "iopub.status.busy": "2021-12-04T17:30:11.979101Z",
     "iopub.status.idle": "2021-12-04T17:30:12.019984Z",
     "shell.execute_reply": "2021-12-04T17:30:12.021622Z"
    },
    "papermill": {
     "duration": 0.07862,
     "end_time": "2021-12-04T17:30:12.022166",
     "exception": false,
     "start_time": "2021-12-04T17:30:11.943546",
     "status": "completed"
    },
    "tags": []
   },
   "outputs": [],
   "source": [
    "df_pivot = df.pivot_table(index=\"PRODUCT\", columns = \"RECORD_TIME\", values = \"LISTING_COUNT\")"
   ]
  },
  {
   "cell_type": "code",
   "execution_count": 6,
   "id": "union-huntington",
   "metadata": {
    "execution": {
     "iopub.execute_input": "2021-12-04T17:30:12.089634Z",
     "iopub.status.busy": "2021-12-04T17:30:12.086755Z",
     "iopub.status.idle": "2021-12-04T17:30:12.094095Z",
     "shell.execute_reply": "2021-12-04T17:30:12.095921Z"
    },
    "papermill": {
     "duration": 0.05367,
     "end_time": "2021-12-04T17:30:12.096469",
     "exception": false,
     "start_time": "2021-12-04T17:30:12.042799",
     "status": "completed"
    },
    "tags": []
   },
   "outputs": [],
   "source": [
    "df_pivot.columns = [\"stamp_1\", \"stamp_2\"]\n",
    "df_pivot_diff = df_pivot.diff(axis=1)"
   ]
  },
  {
   "cell_type": "code",
   "execution_count": 7,
   "id": "fifth-motion",
   "metadata": {
    "execution": {
     "iopub.execute_input": "2021-12-04T17:30:12.154603Z",
     "iopub.status.busy": "2021-12-04T17:30:12.152008Z",
     "iopub.status.idle": "2021-12-04T17:30:14.097452Z",
     "shell.execute_reply": "2021-12-04T17:30:14.100039Z"
    },
    "papermill": {
     "duration": 1.982504,
     "end_time": "2021-12-04T17:30:14.101039",
     "exception": false,
     "start_time": "2021-12-04T17:30:12.118535",
     "status": "completed"
    },
    "tags": []
   },
   "outputs": [
    {
     "data": {
      "text/plain": [
       "<AxesSubplot:ylabel='PRODUCT'>"
      ]
     },
     "execution_count": 7,
     "metadata": {},
     "output_type": "execute_result"
    },
    {
     "data": {
      "image/png": "[encoded data removed]",
      "text/plain": [
       "<Figure size 432x288 with 1 Axes>"
      ]
     },
     "metadata": {
      "needs_background": "light"
     },
     "output_type": "display_data"
    }
   ],
   "source": [
    "df_pivot_diff.sort_values(\"stamp_2\", ascending = False)[\"stamp_2\"].head(10).plot.barh()"
   ]
  },
  {
   "cell_type": "code",
   "execution_count": null,
   "id": "extra-executive",
   "metadata": {
    "papermill": {
     "duration": 0.05846,
     "end_time": "2021-12-04T17:30:14.197097",
     "exception": false,
     "start_time": "2021-12-04T17:30:14.138637",
     "status": "completed"
    },
    "tags": []
   },
   "outputs": [],
   "source": []
  }
 ],
 "metadata": {
  "kernelspec": {
   "display_name": "Python 3",
   "language": "python",
   "name": "python3"
  },
  "language_info": {
   "codemirror_mode": {
    "name": "ipython",
    "version": 3
   },
   "file_extension": ".py",
   "mimetype": "text/x-python",
   "name": "python",
   "nbconvert_exporter": "python",
   "pygments_lexer": "ipython3",
   "version": "3.9.5"
  },
  "papermill": {
   "default_parameters": {},
   "duration": 9.536265,
   "end_time": "2021-12-04T17:30:14.958419",
   "environment_variables": {},
   "exception": null,
   "input_path": "eBay_Overview.ipynb",
   "output_path": "eBay_Overview.ipynb",
   "parameters": {},
   "start_time": "2021-12-04T17:30:05.422154",
   "version": "2.3.3"
  }
 },
 "nbformat": 4,
 "nbformat_minor": 5
}