{
 "cells": [
  {
   "cell_type": "code",
   "execution_count": 1,
   "id": "reverse-picking",
   "metadata": {
    "execution": {
     "iopub.execute_input": "2021-10-13T00:00:06.606650Z",
     "iopub.status.busy": "2021-10-13T00:00:06.604622Z",
     "iopub.status.idle": "2021-10-13T00:00:07.403493Z",
     "shell.execute_reply": "2021-10-13T00:00:07.404939Z"
    },
    "papermill": {
     "duration": 0.850472,
     "end_time": "2021-10-13T00:00:07.405634",
     "exception": false,
     "start_time": "2021-10-13T00:00:06.555162",
     "status": "completed"
    },
    "tags": []
   },
   "outputs": [],
   "source": [
    "import pandas as pd\n",
    "import sqlite3"
   ]
  },
  {
   "cell_type": "code",
   "execution_count": 2,
   "id": "innovative-syndrome",
   "metadata": {
    "execution": {
     "iopub.execute_input": "2021-10-13T00:00:07.455722Z",
     "iopub.status.busy": "2021-10-13T00:00:07.453511Z",
     "iopub.status.idle": "2021-10-13T00:00:07.983057Z",
     "shell.execute_reply": "2021-10-13T00:00:07.984511Z"
    },
    "papermill": {
     "duration": 0.5595,
     "end_time": "2021-10-13T00:00:07.985045",
     "exception": false,
     "start_time": "2021-10-13T00:00:07.425545",
     "status": "completed"
    },
    "tags": []
   },
   "outputs": [],
   "source": [
    "timestamps = pd.read_sql(\"select distinct record_time from EBAY_TOP_BERLIN order by record_time desc limit 2\", sqlite3.connect(\"UsedObjects.db\"))"
   ]
  },
  {
   "cell_type": "code",
   "execution_count": 3,
   "id": "periodic-identification",
   "metadata": {
    "execution": {
     "iopub.execute_input": "2021-10-13T00:00:08.051479Z",
     "iopub.status.busy": "2021-10-13T00:00:08.049471Z",
     "iopub.status.idle": "2021-10-13T00:00:08.069126Z",
     "shell.execute_reply": "2021-10-13T00:00:08.070419Z"
    },
    "papermill": {
     "duration": 0.066442,
     "end_time": "2021-10-13T00:00:08.070837",
     "exception": false,
     "start_time": "2021-10-13T00:00:08.004395",
     "status": "completed"
    },
    "tags": []
   },
   "outputs": [
    {
     "data": {
      "text/html": [
       "<div>\n",
       "<style scoped>\n",
       "    .dataframe tbody tr th:only-of-type {\n",
       "        vertical-align: middle;\n",
       "    }\n",
       "\n",
       "    .dataframe tbody tr th {\n",
       "        vertical-align: top;\n",
       "    }\n",
       "\n",
       "    .dataframe thead th {\n",
       "        text-align: right;\n",
       "    }\n",
       "</style>\n",
       "<table border=\"1\" class=\"dataframe\">\n",
       "  <thead>\n",
       "    <tr style=\"text-align: right;\">\n",
       "      <th></th>\n",
       "      <th>RECORD_TIME</th>\n",
       "    </tr>\n",
       "  </thead>\n",
       "  <tbody>\n",
       "    <tr>\n",
       "      <th>0</th>\n",
       "      <td>2021-10-13 02:00</td>\n",
       "    </tr>\n",
       "    <tr>\n",
       "      <th>1</th>\n",
       "      <td>2021-10-13 01:30</td>\n",
       "    </tr>\n",
       "  </tbody>\n",
       "</table>\n",
       "</div>"
      ],
      "text/plain": [
       "        RECORD_TIME\n",
       "0  2021-10-13 02:00\n",
       "1  2021-10-13 01:30"
      ]
     },
     "execution_count": 3,
     "metadata": {},
     "output_type": "execute_result"
    }
   ],
   "source": [
    "timestamps"
   ]
  },
  {
   "cell_type": "code",
   "execution_count": 4,
   "id": "alternate-victory",
   "metadata": {
    "execution": {
     "iopub.execute_input": "2021-10-13T00:00:08.134497Z",
     "iopub.status.busy": "2021-10-13T00:00:08.132514Z",
     "iopub.status.idle": "2021-10-13T00:00:08.900334Z",
     "shell.execute_reply": "2021-10-13T00:00:08.901906Z"
    },
    "papermill": {
     "duration": 0.802713,
     "end_time": "2021-10-13T00:00:08.902354",
     "exception": false,
     "start_time": "2021-10-13T00:00:08.099641",
     "status": "completed"
    },
    "tags": []
   },
   "outputs": [],
   "source": [
    "df = pd.read_sql(\"select * from EBAY_TOP_BERLIN where record_time in (select distinct record_time from EBAY_TOP_BERLIN order by record_time desc limit 2)\", sqlite3.connect(\"UsedObjects.db\"))"
   ]
  },
  {
   "cell_type": "code",
   "execution_count": 5,
   "id": "popular-active",
   "metadata": {
    "execution": {
     "iopub.execute_input": "2021-10-13T00:00:08.973553Z",
     "iopub.status.busy": "2021-10-13T00:00:08.960962Z",
     "iopub.status.idle": "2021-10-13T00:00:08.989444Z",
     "shell.execute_reply": "2021-10-13T00:00:08.990664Z"
    },
    "papermill": {
     "duration": 0.068641,
     "end_time": "2021-10-13T00:00:08.991058",
     "exception": false,
     "start_time": "2021-10-13T00:00:08.922417",
     "status": "completed"
    },
    "tags": []
   },
   "outputs": [],
   "source": [
    "df_pivot = df.pivot_table(index=\"PRODUCT\", columns = \"RECORD_TIME\", values = \"LISTING_COUNT\")"
   ]
  },
  {
   "cell_type": "code",
   "execution_count": 6,
   "id": "union-huntington",
   "metadata": {
    "execution": {
     "iopub.execute_input": "2021-10-13T00:00:09.051325Z",
     "iopub.status.busy": "2021-10-13T00:00:09.048877Z",
     "iopub.status.idle": "2021-10-13T00:00:09.054753Z",
     "shell.execute_reply": "2021-10-13T00:00:09.055949Z"
    },
    "papermill": {
     "duration": 0.04218,
     "end_time": "2021-10-13T00:00:09.056380",
     "exception": false,
     "start_time": "2021-10-13T00:00:09.014200",
     "status": "completed"
    },
    "tags": []
   },
   "outputs": [],
   "source": [
    "df_pivot.columns = [\"stamp_1\", \"stamp_2\"]\n",
    "df_pivot_diff = df_pivot.diff(axis=1)"
   ]
  },
  {
   "cell_type": "code",
   "execution_count": 7,
   "id": "fifth-motion",
   "metadata": {
    "execution": {
     "iopub.execute_input": "2021-10-13T00:00:09.110873Z",
     "iopub.status.busy": "2021-10-13T00:00:09.108163Z",
     "iopub.status.idle": "2021-10-13T00:00:10.595660Z",
     "shell.execute_reply": "2021-10-13T00:00:10.597244Z"
    },
    "papermill": {
     "duration": 1.521491,
     "end_time": "2021-10-13T00:00:10.597718",
     "exception": false,
     "start_time": "2021-10-13T00:00:09.076227",
     "status": "completed"
    },
    "tags": []
   },
   "outputs": [
    {
     "data": {
      "text/plain": [
       "<AxesSubplot:ylabel='PRODUCT'>"
      ]
     },
     "execution_count": 7,
     "metadata": {},
     "output_type": "execute_result"
    },
    {
     "data": {
      "image/png": "[encoded data removed]",
      "text/plain": [
       "<Figure size 432x288 with 1 Axes>"
      ]
     },
     "metadata": {
      "needs_background": "light"
     },
     "output_type": "display_data"
    }
   ],
   "source": [
    "df_pivot_diff.sort_values(\"stamp_2\", ascending = False)[\"stamp_2\"].head(10).plot.barh()"
   ]
  },
  {
   "cell_type": "code",
   "execution_count": null,
   "id": "extra-executive",
   "metadata": {
    "papermill": {
     "duration": 0.022093,
     "end_time": "2021-10-13T00:00:10.644081",
     "exception": false,
     "start_time": "2021-10-13T00:00:10.621988",
     "status": "completed"
    },
    "tags": []
   },
   "outputs": [],
   "source": []
  }
 ],
 "metadata": {
  "kernelspec": {
   "display_name": "Python 3",
   "language": "python",
   "name": "python3"
  },
  "language_info": {
   "codemirror_mode": {
    "name": "ipython",
    "version": 3
   },
   "file_extension": ".py",
   "mimetype": "text/x-python",
   "name": "python",
   "nbconvert_exporter": "python",
   "pygments_lexer": "ipython3",
   "version": "3.9.5"
  },
  "papermill": {
   "default_parameters": {},
   "duration": 7.821066,
   "end_time": "2021-10-13T00:00:11.978908",
   "environment_variables": {},
   "exception": null,
   "input_path": "eBay_Overview.ipynb",
   "output_path": "eBay_Overview.ipynb",
   "parameters": {},
   "start_time": "2021-10-13T00:00:04.157842",
   "version": "2.3.3"
  }
 },
 "nbformat": 4,
 "nbformat_minor": 5
}