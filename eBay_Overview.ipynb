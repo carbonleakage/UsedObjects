{
 "cells": [
  {
   "cell_type": "code",
   "execution_count": 1,
   "id": "reverse-picking",
   "metadata": {
    "execution": {
     "iopub.execute_input": "2021-10-09T21:30:06.624635Z",
     "iopub.status.busy": "2021-10-09T21:30:06.622513Z",
     "iopub.status.idle": "2021-10-09T21:30:07.432289Z",
     "shell.execute_reply": "2021-10-09T21:30:07.433547Z"
    },
    "papermill": {
     "duration": 0.861932,
     "end_time": "2021-10-09T21:30:07.434175",
     "exception": false,
     "start_time": "2021-10-09T21:30:06.572243",
     "status": "completed"
    },
    "tags": []
   },
   "outputs": [],
   "source": [
    "import pandas as pd\n",
    "import sqlite3"
   ]
  },
  {
   "cell_type": "code",
   "execution_count": 2,
   "id": "innovative-syndrome",
   "metadata": {
    "execution": {
     "iopub.execute_input": "2021-10-09T21:30:07.487522Z",
     "iopub.status.busy": "2021-10-09T21:30:07.485084Z",
     "iopub.status.idle": "2021-10-09T21:30:07.980162Z",
     "shell.execute_reply": "2021-10-09T21:30:07.981271Z"
    },
    "papermill": {
     "duration": 0.52516,
     "end_time": "2021-10-09T21:30:07.981677",
     "exception": false,
     "start_time": "2021-10-09T21:30:07.456517",
     "status": "completed"
    },
    "tags": []
   },
   "outputs": [],
   "source": [
    "timestamps = pd.read_sql(\"select distinct record_time from EBAY_TOP_BERLIN order by record_time desc limit 2\", sqlite3.connect(\"UsedObjects.db\"))"
   ]
  },
  {
   "cell_type": "code",
   "execution_count": 3,
   "id": "periodic-identification",
   "metadata": {
    "execution": {
     "iopub.execute_input": "2021-10-09T21:30:08.046191Z",
     "iopub.status.busy": "2021-10-09T21:30:08.044166Z",
     "iopub.status.idle": "2021-10-09T21:30:08.064159Z",
     "shell.execute_reply": "2021-10-09T21:30:08.065355Z"
    },
    "papermill": {
     "duration": 0.063168,
     "end_time": "2021-10-09T21:30:08.065782",
     "exception": false,
     "start_time": "2021-10-09T21:30:08.002614",
     "status": "completed"
    },
    "tags": []
   },
   "outputs": [
    {
     "data": {
      "text/html": [
       "<div>\n",
       "<style scoped>\n",
       "    .dataframe tbody tr th:only-of-type {\n",
       "        vertical-align: middle;\n",
       "    }\n",
       "\n",
       "    .dataframe tbody tr th {\n",
       "        vertical-align: top;\n",
       "    }\n",
       "\n",
       "    .dataframe thead th {\n",
       "        text-align: right;\n",
       "    }\n",
       "</style>\n",
       "<table border=\"1\" class=\"dataframe\">\n",
       "  <thead>\n",
       "    <tr style=\"text-align: right;\">\n",
       "      <th></th>\n",
       "      <th>RECORD_TIME</th>\n",
       "    </tr>\n",
       "  </thead>\n",
       "  <tbody>\n",
       "    <tr>\n",
       "      <th>0</th>\n",
       "      <td>2021-10-09 23:30</td>\n",
       "    </tr>\n",
       "    <tr>\n",
       "      <th>1</th>\n",
       "      <td>2021-10-09 23:00</td>\n",
       "    </tr>\n",
       "  </tbody>\n",
       "</table>\n",
       "</div>"
      ],
      "text/plain": [
       "        RECORD_TIME\n",
       "0  2021-10-09 23:30\n",
       "1  2021-10-09 23:00"
      ]
     },
     "execution_count": 3,
     "metadata": {},
     "output_type": "execute_result"
    }
   ],
   "source": [
    "timestamps"
   ]
  },
  {
   "cell_type": "code",
   "execution_count": 4,
   "id": "alternate-victory",
   "metadata": {
    "execution": {
     "iopub.execute_input": "2021-10-09T21:30:08.132811Z",
     "iopub.status.busy": "2021-10-09T21:30:08.130433Z",
     "iopub.status.idle": "2021-10-09T21:30:08.849081Z",
     "shell.execute_reply": "2021-10-09T21:30:08.850356Z"
    },
    "papermill": {
     "duration": 0.753463,
     "end_time": "2021-10-09T21:30:08.850766",
     "exception": false,
     "start_time": "2021-10-09T21:30:08.097303",
     "status": "completed"
    },
    "tags": []
   },
   "outputs": [],
   "source": [
    "df = pd.read_sql(\"select * from EBAY_TOP_BERLIN where record_time in (select distinct record_time from EBAY_TOP_BERLIN order by record_time desc limit 2)\", sqlite3.connect(\"UsedObjects.db\"))"
   ]
  },
  {
   "cell_type": "code",
   "execution_count": 5,
   "id": "popular-active",
   "metadata": {
    "execution": {
     "iopub.execute_input": "2021-10-09T21:30:08.915805Z",
     "iopub.status.busy": "2021-10-09T21:30:08.908537Z",
     "iopub.status.idle": "2021-10-09T21:30:08.936445Z",
     "shell.execute_reply": "2021-10-09T21:30:08.937654Z"
    },
    "papermill": {
     "duration": 0.067032,
     "end_time": "2021-10-09T21:30:08.938048",
     "exception": false,
     "start_time": "2021-10-09T21:30:08.871016",
     "status": "completed"
    },
    "tags": []
   },
   "outputs": [],
   "source": [
    "df_pivot = df.pivot_table(index=\"PRODUCT\", columns = \"RECORD_TIME\", values = \"LISTING_COUNT\")"
   ]
  },
  {
   "cell_type": "code",
   "execution_count": 6,
   "id": "union-huntington",
   "metadata": {
    "execution": {
     "iopub.execute_input": "2021-10-09T21:30:08.997810Z",
     "iopub.status.busy": "2021-10-09T21:30:08.995350Z",
     "iopub.status.idle": "2021-10-09T21:30:09.001548Z",
     "shell.execute_reply": "2021-10-09T21:30:09.002984Z"
    },
    "papermill": {
     "duration": 0.043163,
     "end_time": "2021-10-09T21:30:09.003481",
     "exception": false,
     "start_time": "2021-10-09T21:30:08.960318",
     "status": "completed"
    },
    "tags": []
   },
   "outputs": [],
   "source": [
    "df_pivot.columns = [\"stamp_1\", \"stamp_2\"]\n",
    "df_pivot_diff = df_pivot.diff(axis=1)"
   ]
  },
  {
   "cell_type": "code",
   "execution_count": 7,
   "id": "fifth-motion",
   "metadata": {
    "execution": {
     "iopub.execute_input": "2021-10-09T21:30:09.058630Z",
     "iopub.status.busy": "2021-10-09T21:30:09.056435Z",
     "iopub.status.idle": "2021-10-09T21:30:10.538368Z",
     "shell.execute_reply": "2021-10-09T21:30:10.539721Z"
    },
    "papermill": {
     "duration": 1.514566,
     "end_time": "2021-10-09T21:30:10.540143",
     "exception": false,
     "start_time": "2021-10-09T21:30:09.025577",
     "status": "completed"
    },
    "tags": []
   },
   "outputs": [
    {
     "data": {
      "text/plain": [
       "<AxesSubplot:ylabel='PRODUCT'>"
      ]
     },
     "execution_count": 7,
     "metadata": {},
     "output_type": "execute_result"
    },
    {
     "data": {
      "image/png": "[encoded data removed]",
      "text/plain": [
       "<Figure size 432x288 with 1 Axes>"
      ]
     },
     "metadata": {
      "needs_background": "light"
     },
     "output_type": "display_data"
    }
   ],
   "source": [
    "df_pivot_diff.sort_values(\"stamp_2\", ascending = False)[\"stamp_2\"].head(10).plot.barh()"
   ]
  },
  {
   "cell_type": "code",
   "execution_count": null,
   "id": "extra-executive",
   "metadata": {
    "papermill": {
     "duration": 0.022163,
     "end_time": "2021-10-09T21:30:10.587062",
     "exception": false,
     "start_time": "2021-10-09T21:30:10.564899",
     "status": "completed"
    },
    "tags": []
   },
   "outputs": [],
   "source": []
  }
 ],
 "metadata": {
  "kernelspec": {
   "display_name": "Python 3",
   "language": "python",
   "name": "python3"
  },
  "language_info": {
   "codemirror_mode": {
    "name": "ipython",
    "version": 3
   },
   "file_extension": ".py",
   "mimetype": "text/x-python",
   "name": "python",
   "nbconvert_exporter": "python",
   "pygments_lexer": "ipython3",
   "version": "3.9.5"
  },
  "papermill": {
   "default_parameters": {},
   "duration": 7.828245,
   "end_time": "2021-10-09T21:30:11.982921",
   "environment_variables": {},
   "exception": null,
   "input_path": "eBay_Overview.ipynb",
   "output_path": "eBay_Overview.ipynb",
   "parameters": {},
   "start_time": "2021-10-09T21:30:04.154676",
   "version": "2.3.3"
  }
 },
 "nbformat": 4,
 "nbformat_minor": 5
}