{
 "cells": [
  {
   "cell_type": "code",
   "execution_count": 1,
   "id": "reverse-picking",
   "metadata": {
    "execution": {
     "iopub.execute_input": "2021-11-17T08:30:07.576460Z",
     "iopub.status.busy": "2021-11-17T08:30:07.574125Z",
     "iopub.status.idle": "2021-11-17T08:30:08.526943Z",
     "shell.execute_reply": "2021-11-17T08:30:08.528470Z"
    },
    "papermill": {
     "duration": 1.003082,
     "end_time": "2021-11-17T08:30:08.529262",
     "exception": false,
     "start_time": "2021-11-17T08:30:07.526180",
     "status": "completed"
    },
    "tags": []
   },
   "outputs": [],
   "source": [
    "import pandas as pd\n",
    "import sqlite3"
   ]
  },
  {
   "cell_type": "code",
   "execution_count": 2,
   "id": "innovative-syndrome",
   "metadata": {
    "execution": {
     "iopub.execute_input": "2021-11-17T08:30:08.591956Z",
     "iopub.status.busy": "2021-11-17T08:30:08.589612Z",
     "iopub.status.idle": "2021-11-17T08:30:09.425302Z",
     "shell.execute_reply": "2021-11-17T08:30:09.426973Z"
    },
    "papermill": {
     "duration": 0.870163,
     "end_time": "2021-11-17T08:30:09.427486",
     "exception": false,
     "start_time": "2021-11-17T08:30:08.557323",
     "status": "completed"
    },
    "tags": []
   },
   "outputs": [],
   "source": [
    "timestamps = pd.read_sql(\"select distinct record_time from EBAY_TOP_BERLIN order by record_time desc limit 2\", sqlite3.connect(\"UsedObjects.db\"))"
   ]
  },
  {
   "cell_type": "code",
   "execution_count": 3,
   "id": "periodic-identification",
   "metadata": {
    "execution": {
     "iopub.execute_input": "2021-11-17T08:30:09.499949Z",
     "iopub.status.busy": "2021-11-17T08:30:09.497706Z",
     "iopub.status.idle": "2021-11-17T08:30:09.523394Z",
     "shell.execute_reply": "2021-11-17T08:30:09.521748Z"
    },
    "papermill": {
     "duration": 0.075715,
     "end_time": "2021-11-17T08:30:09.523825",
     "exception": false,
     "start_time": "2021-11-17T08:30:09.448110",
     "status": "completed"
    },
    "tags": []
   },
   "outputs": [
    {
     "data": {
      "text/html": [
       "<div>\n",
       "<style scoped>\n",
       "    .dataframe tbody tr th:only-of-type {\n",
       "        vertical-align: middle;\n",
       "    }\n",
       "\n",
       "    .dataframe tbody tr th {\n",
       "        vertical-align: top;\n",
       "    }\n",
       "\n",
       "    .dataframe thead th {\n",
       "        text-align: right;\n",
       "    }\n",
       "</style>\n",
       "<table border=\"1\" class=\"dataframe\">\n",
       "  <thead>\n",
       "    <tr style=\"text-align: right;\">\n",
       "      <th></th>\n",
       "      <th>RECORD_TIME</th>\n",
       "    </tr>\n",
       "  </thead>\n",
       "  <tbody>\n",
       "    <tr>\n",
       "      <th>0</th>\n",
       "      <td>2021-11-17 09:30</td>\n",
       "    </tr>\n",
       "    <tr>\n",
       "      <th>1</th>\n",
       "      <td>2021-11-17 09:00</td>\n",
       "    </tr>\n",
       "  </tbody>\n",
       "</table>\n",
       "</div>"
      ],
      "text/plain": [
       "        RECORD_TIME\n",
       "0  2021-11-17 09:30\n",
       "1  2021-11-17 09:00"
      ]
     },
     "execution_count": 3,
     "metadata": {},
     "output_type": "execute_result"
    }
   ],
   "source": [
    "timestamps"
   ]
  },
  {
   "cell_type": "code",
   "execution_count": 4,
   "id": "alternate-victory",
   "metadata": {
    "execution": {
     "iopub.execute_input": "2021-11-17T08:30:09.582475Z",
     "iopub.status.busy": "2021-11-17T08:30:09.580262Z",
     "iopub.status.idle": "2021-11-17T08:30:10.789346Z",
     "shell.execute_reply": "2021-11-17T08:30:10.791003Z"
    },
    "papermill": {
     "duration": 1.24294,
     "end_time": "2021-11-17T08:30:10.791539",
     "exception": false,
     "start_time": "2021-11-17T08:30:09.548599",
     "status": "completed"
    },
    "tags": []
   },
   "outputs": [],
   "source": [
    "df = pd.read_sql(\"select * from EBAY_TOP_BERLIN where record_time in (select distinct record_time from EBAY_TOP_BERLIN order by record_time desc limit 2)\", sqlite3.connect(\"UsedObjects.db\"))"
   ]
  },
  {
   "cell_type": "code",
   "execution_count": 5,
   "id": "popular-active",
   "metadata": {
    "execution": {
     "iopub.execute_input": "2021-11-17T08:30:10.873226Z",
     "iopub.status.busy": "2021-11-17T08:30:10.858062Z",
     "iopub.status.idle": "2021-11-17T08:30:10.890287Z",
     "shell.execute_reply": "2021-11-17T08:30:10.891728Z"
    },
    "papermill": {
     "duration": 0.077683,
     "end_time": "2021-11-17T08:30:10.892215",
     "exception": false,
     "start_time": "2021-11-17T08:30:10.814532",
     "status": "completed"
    },
    "tags": []
   },
   "outputs": [],
   "source": [
    "df_pivot = df.pivot_table(index=\"PRODUCT\", columns = \"RECORD_TIME\", values = \"LISTING_COUNT\")"
   ]
  },
  {
   "cell_type": "code",
   "execution_count": 6,
   "id": "union-huntington",
   "metadata": {
    "execution": {
     "iopub.execute_input": "2021-11-17T08:30:10.952982Z",
     "iopub.status.busy": "2021-11-17T08:30:10.950637Z",
     "iopub.status.idle": "2021-11-17T08:30:10.957887Z",
     "shell.execute_reply": "2021-11-17T08:30:10.956008Z"
    },
    "papermill": {
     "duration": 0.044582,
     "end_time": "2021-11-17T08:30:10.958305",
     "exception": false,
     "start_time": "2021-11-17T08:30:10.913723",
     "status": "completed"
    },
    "tags": []
   },
   "outputs": [],
   "source": [
    "df_pivot.columns = [\"stamp_1\", \"stamp_2\"]\n",
    "df_pivot_diff = df_pivot.diff(axis=1)"
   ]
  },
  {
   "cell_type": "code",
   "execution_count": 7,
   "id": "fifth-motion",
   "metadata": {
    "execution": {
     "iopub.execute_input": "2021-11-17T08:30:11.019600Z",
     "iopub.status.busy": "2021-11-17T08:30:11.016997Z",
     "iopub.status.idle": "2021-11-17T08:30:12.914101Z",
     "shell.execute_reply": "2021-11-17T08:30:12.915589Z"
    },
    "papermill": {
     "duration": 1.936718,
     "end_time": "2021-11-17T08:30:12.916115",
     "exception": false,
     "start_time": "2021-11-17T08:30:10.979397",
     "status": "completed"
    },
    "tags": []
   },
   "outputs": [
    {
     "data": {
      "text/plain": [
       "<AxesSubplot:ylabel='PRODUCT'>"
      ]
     },
     "execution_count": 7,
     "metadata": {},
     "output_type": "execute_result"
    },
    {
     "data": {
      "image/png": "[encoded data removed]",
      "text/plain": [
       "<Figure size 432x288 with 1 Axes>"
      ]
     },
     "metadata": {
      "needs_background": "light"
     },
     "output_type": "display_data"
    }
   ],
   "source": [
    "df_pivot_diff.sort_values(\"stamp_2\", ascending = False)[\"stamp_2\"].head(10).plot.barh()"
   ]
  },
  {
   "cell_type": "code",
   "execution_count": null,
   "id": "extra-executive",
   "metadata": {
    "papermill": {
     "duration": 0.023711,
     "end_time": "2021-11-17T08:30:12.964946",
     "exception": false,
     "start_time": "2021-11-17T08:30:12.941235",
     "status": "completed"
    },
    "tags": []
   },
   "outputs": [],
   "source": []
  }
 ],
 "metadata": {
  "kernelspec": {
   "display_name": "Python 3",
   "language": "python",
   "name": "python3"
  },
  "language_info": {
   "codemirror_mode": {
    "name": "ipython",
    "version": 3
   },
   "file_extension": ".py",
   "mimetype": "text/x-python",
   "name": "python",
   "nbconvert_exporter": "python",
   "pygments_lexer": "ipython3",
   "version": "3.9.5"
  },
  "papermill": {
   "default_parameters": {},
   "duration": 9.936737,
   "end_time": "2021-11-17T08:30:14.745225",
   "environment_variables": {},
   "exception": null,
   "input_path": "eBay_Overview.ipynb",
   "output_path": "eBay_Overview.ipynb",
   "parameters": {},
   "start_time": "2021-11-17T08:30:04.808488",
   "version": "2.3.3"
  }
 },
 "nbformat": 4,
 "nbformat_minor": 5
}