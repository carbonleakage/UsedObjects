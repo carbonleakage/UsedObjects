{
 "cells": [
  {
   "cell_type": "code",
   "execution_count": 1,
   "id": "reverse-picking",
   "metadata": {
    "execution": {
     "iopub.execute_input": "2021-11-02T21:00:07.949061Z",
     "iopub.status.busy": "2021-11-02T21:00:07.945436Z",
     "iopub.status.idle": "2021-11-02T21:00:08.884570Z",
     "shell.execute_reply": "2021-11-02T21:00:08.886165Z"
    },
    "papermill": {
     "duration": 0.987544,
     "end_time": "2021-11-02T21:00:08.886902",
     "exception": false,
     "start_time": "2021-11-02T21:00:07.899358",
     "status": "completed"
    },
    "tags": []
   },
   "outputs": [],
   "source": [
    "import pandas as pd\n",
    "import sqlite3"
   ]
  },
  {
   "cell_type": "code",
   "execution_count": 2,
   "id": "innovative-syndrome",
   "metadata": {
    "execution": {
     "iopub.execute_input": "2021-11-02T21:00:08.942061Z",
     "iopub.status.busy": "2021-11-02T21:00:08.939671Z",
     "iopub.status.idle": "2021-11-02T21:00:09.644241Z",
     "shell.execute_reply": "2021-11-02T21:00:09.645784Z"
    },
    "papermill": {
     "duration": 0.73845,
     "end_time": "2021-11-02T21:00:09.646282",
     "exception": false,
     "start_time": "2021-11-02T21:00:08.907832",
     "status": "completed"
    },
    "tags": []
   },
   "outputs": [],
   "source": [
    "timestamps = pd.read_sql(\"select distinct record_time from EBAY_TOP_BERLIN order by record_time desc limit 2\", sqlite3.connect(\"UsedObjects.db\"))"
   ]
  },
  {
   "cell_type": "code",
   "execution_count": 3,
   "id": "periodic-identification",
   "metadata": {
    "execution": {
     "iopub.execute_input": "2021-11-02T21:00:09.720620Z",
     "iopub.status.busy": "2021-11-02T21:00:09.714693Z",
     "iopub.status.idle": "2021-11-02T21:00:09.740336Z",
     "shell.execute_reply": "2021-11-02T21:00:09.737686Z"
    },
    "papermill": {
     "duration": 0.074404,
     "end_time": "2021-11-02T21:00:09.740799",
     "exception": false,
     "start_time": "2021-11-02T21:00:09.666395",
     "status": "completed"
    },
    "tags": []
   },
   "outputs": [
    {
     "data": {
      "text/html": [
       "<div>\n",
       "<style scoped>\n",
       "    .dataframe tbody tr th:only-of-type {\n",
       "        vertical-align: middle;\n",
       "    }\n",
       "\n",
       "    .dataframe tbody tr th {\n",
       "        vertical-align: top;\n",
       "    }\n",
       "\n",
       "    .dataframe thead th {\n",
       "        text-align: right;\n",
       "    }\n",
       "</style>\n",
       "<table border=\"1\" class=\"dataframe\">\n",
       "  <thead>\n",
       "    <tr style=\"text-align: right;\">\n",
       "      <th></th>\n",
       "      <th>RECORD_TIME</th>\n",
       "    </tr>\n",
       "  </thead>\n",
       "  <tbody>\n",
       "    <tr>\n",
       "      <th>0</th>\n",
       "      <td>2021-11-02 22:00</td>\n",
       "    </tr>\n",
       "    <tr>\n",
       "      <th>1</th>\n",
       "      <td>2021-11-02 21:30</td>\n",
       "    </tr>\n",
       "  </tbody>\n",
       "</table>\n",
       "</div>"
      ],
      "text/plain": [
       "        RECORD_TIME\n",
       "0  2021-11-02 22:00\n",
       "1  2021-11-02 21:30"
      ]
     },
     "execution_count": 3,
     "metadata": {},
     "output_type": "execute_result"
    }
   ],
   "source": [
    "timestamps"
   ]
  },
  {
   "cell_type": "code",
   "execution_count": 4,
   "id": "alternate-victory",
   "metadata": {
    "execution": {
     "iopub.execute_input": "2021-11-02T21:00:09.795747Z",
     "iopub.status.busy": "2021-11-02T21:00:09.793713Z",
     "iopub.status.idle": "2021-11-02T21:00:10.815779Z",
     "shell.execute_reply": "2021-11-02T21:00:10.817535Z"
    },
    "papermill": {
     "duration": 1.055187,
     "end_time": "2021-11-02T21:00:10.818029",
     "exception": false,
     "start_time": "2021-11-02T21:00:09.762842",
     "status": "completed"
    },
    "tags": []
   },
   "outputs": [],
   "source": [
    "df = pd.read_sql(\"select * from EBAY_TOP_BERLIN where record_time in (select distinct record_time from EBAY_TOP_BERLIN order by record_time desc limit 2)\", sqlite3.connect(\"UsedObjects.db\"))"
   ]
  },
  {
   "cell_type": "code",
   "execution_count": 5,
   "id": "popular-active",
   "metadata": {
    "execution": {
     "iopub.execute_input": "2021-11-02T21:00:10.883983Z",
     "iopub.status.busy": "2021-11-02T21:00:10.881700Z",
     "iopub.status.idle": "2021-11-02T21:00:10.914683Z",
     "shell.execute_reply": "2021-11-02T21:00:10.916199Z"
    },
    "papermill": {
     "duration": 0.076811,
     "end_time": "2021-11-02T21:00:10.916739",
     "exception": false,
     "start_time": "2021-11-02T21:00:10.839928",
     "status": "completed"
    },
    "tags": []
   },
   "outputs": [],
   "source": [
    "df_pivot = df.pivot_table(index=\"PRODUCT\", columns = \"RECORD_TIME\", values = \"LISTING_COUNT\")"
   ]
  },
  {
   "cell_type": "code",
   "execution_count": 6,
   "id": "union-huntington",
   "metadata": {
    "execution": {
     "iopub.execute_input": "2021-11-02T21:00:10.978819Z",
     "iopub.status.busy": "2021-11-02T21:00:10.976385Z",
     "iopub.status.idle": "2021-11-02T21:00:10.981552Z",
     "shell.execute_reply": "2021-11-02T21:00:10.983380Z"
    },
    "papermill": {
     "duration": 0.04454,
     "end_time": "2021-11-02T21:00:10.983874",
     "exception": false,
     "start_time": "2021-11-02T21:00:10.939334",
     "status": "completed"
    },
    "tags": []
   },
   "outputs": [],
   "source": [
    "df_pivot.columns = [\"stamp_1\", \"stamp_2\"]\n",
    "df_pivot_diff = df_pivot.diff(axis=1)"
   ]
  },
  {
   "cell_type": "code",
   "execution_count": 7,
   "id": "fifth-motion",
   "metadata": {
    "execution": {
     "iopub.execute_input": "2021-11-02T21:00:11.044427Z",
     "iopub.status.busy": "2021-11-02T21:00:11.041730Z",
     "iopub.status.idle": "2021-11-02T21:00:12.782651Z",
     "shell.execute_reply": "2021-11-02T21:00:12.785302Z"
    },
    "papermill": {
     "duration": 1.780431,
     "end_time": "2021-11-02T21:00:12.786076",
     "exception": false,
     "start_time": "2021-11-02T21:00:11.005645",
     "status": "completed"
    },
    "tags": []
   },
   "outputs": [
    {
     "data": {
      "text/plain": [
       "<AxesSubplot:ylabel='PRODUCT'>"
      ]
     },
     "execution_count": 7,
     "metadata": {},
     "output_type": "execute_result"
    },
    {
     "data": {
      "image/png": "[encoded data removed]",
      "text/plain": [
       "<Figure size 432x288 with 1 Axes>"
      ]
     },
     "metadata": {
      "needs_background": "light"
     },
     "output_type": "display_data"
    }
   ],
   "source": [
    "df_pivot_diff.sort_values(\"stamp_2\", ascending = False)[\"stamp_2\"].head(10).plot.barh()"
   ]
  },
  {
   "cell_type": "code",
   "execution_count": null,
   "id": "extra-executive",
   "metadata": {
    "papermill": {
     "duration": 0.031901,
     "end_time": "2021-11-02T21:00:12.853537",
     "exception": false,
     "start_time": "2021-11-02T21:00:12.821636",
     "status": "completed"
    },
    "tags": []
   },
   "outputs": [],
   "source": []
  }
 ],
 "metadata": {
  "kernelspec": {
   "display_name": "Python 3",
   "language": "python",
   "name": "python3"
  },
  "language_info": {
   "codemirror_mode": {
    "name": "ipython",
    "version": 3
   },
   "file_extension": ".py",
   "mimetype": "text/x-python",
   "name": "python",
   "nbconvert_exporter": "python",
   "pygments_lexer": "ipython3",
   "version": "3.9.5"
  },
  "papermill": {
   "default_parameters": {},
   "duration": 8.98989,
   "end_time": "2021-11-02T21:00:14.118453",
   "environment_variables": {},
   "exception": null,
   "input_path": "eBay_Overview.ipynb",
   "output_path": "eBay_Overview.ipynb",
   "parameters": {},
   "start_time": "2021-11-02T21:00:05.128563",
   "version": "2.3.3"
  }
 },
 "nbformat": 4,
 "nbformat_minor": 5
}