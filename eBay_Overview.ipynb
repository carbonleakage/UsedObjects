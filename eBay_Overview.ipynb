{
 "cells": [
  {
   "cell_type": "code",
   "execution_count": 1,
   "id": "reverse-picking",
   "metadata": {
    "execution": {
     "iopub.execute_input": "2021-11-07T01:30:07.253937Z",
     "iopub.status.busy": "2021-11-07T01:30:07.251531Z",
     "iopub.status.idle": "2021-11-07T01:30:08.194750Z",
     "shell.execute_reply": "2021-11-07T01:30:08.196257Z"
    },
    "papermill": {
     "duration": 0.993123,
     "end_time": "2021-11-07T01:30:08.197065",
     "exception": false,
     "start_time": "2021-11-07T01:30:07.203942",
     "status": "completed"
    },
    "tags": []
   },
   "outputs": [],
   "source": [
    "import pandas as pd\n",
    "import sqlite3"
   ]
  },
  {
   "cell_type": "code",
   "execution_count": 2,
   "id": "innovative-syndrome",
   "metadata": {
    "execution": {
     "iopub.execute_input": "2021-11-07T01:30:08.314945Z",
     "iopub.status.busy": "2021-11-07T01:30:08.312782Z",
     "iopub.status.idle": "2021-11-07T01:30:09.060225Z",
     "shell.execute_reply": "2021-11-07T01:30:09.061721Z"
    },
    "papermill": {
     "duration": 0.84392,
     "end_time": "2021-11-07T01:30:09.062249",
     "exception": false,
     "start_time": "2021-11-07T01:30:08.218329",
     "status": "completed"
    },
    "tags": []
   },
   "outputs": [],
   "source": [
    "timestamps = pd.read_sql(\"select distinct record_time from EBAY_TOP_BERLIN order by record_time desc limit 2\", sqlite3.connect(\"UsedObjects.db\"))"
   ]
  },
  {
   "cell_type": "code",
   "execution_count": 3,
   "id": "periodic-identification",
   "metadata": {
    "execution": {
     "iopub.execute_input": "2021-11-07T01:30:09.144803Z",
     "iopub.status.busy": "2021-11-07T01:30:09.141028Z",
     "iopub.status.idle": "2021-11-07T01:30:09.172265Z",
     "shell.execute_reply": "2021-11-07T01:30:09.173980Z"
    },
    "papermill": {
     "duration": 0.091236,
     "end_time": "2021-11-07T01:30:09.174476",
     "exception": false,
     "start_time": "2021-11-07T01:30:09.083240",
     "status": "completed"
    },
    "tags": []
   },
   "outputs": [
    {
     "data": {
      "text/html": [
       "<div>\n",
       "<style scoped>\n",
       "    .dataframe tbody tr th:only-of-type {\n",
       "        vertical-align: middle;\n",
       "    }\n",
       "\n",
       "    .dataframe tbody tr th {\n",
       "        vertical-align: top;\n",
       "    }\n",
       "\n",
       "    .dataframe thead th {\n",
       "        text-align: right;\n",
       "    }\n",
       "</style>\n",
       "<table border=\"1\" class=\"dataframe\">\n",
       "  <thead>\n",
       "    <tr style=\"text-align: right;\">\n",
       "      <th></th>\n",
       "      <th>RECORD_TIME</th>\n",
       "    </tr>\n",
       "  </thead>\n",
       "  <tbody>\n",
       "    <tr>\n",
       "      <th>0</th>\n",
       "      <td>2021-11-07 02:30</td>\n",
       "    </tr>\n",
       "    <tr>\n",
       "      <th>1</th>\n",
       "      <td>2021-11-07 02:00</td>\n",
       "    </tr>\n",
       "  </tbody>\n",
       "</table>\n",
       "</div>"
      ],
      "text/plain": [
       "        RECORD_TIME\n",
       "0  2021-11-07 02:30\n",
       "1  2021-11-07 02:00"
      ]
     },
     "execution_count": 3,
     "metadata": {},
     "output_type": "execute_result"
    }
   ],
   "source": [
    "timestamps"
   ]
  },
  {
   "cell_type": "code",
   "execution_count": 4,
   "id": "alternate-victory",
   "metadata": {
    "execution": {
     "iopub.execute_input": "2021-11-07T01:30:09.231174Z",
     "iopub.status.busy": "2021-11-07T01:30:09.229089Z",
     "iopub.status.idle": "2021-11-07T01:30:10.324342Z",
     "shell.execute_reply": "2021-11-07T01:30:10.325913Z"
    },
    "papermill": {
     "duration": 1.129495,
     "end_time": "2021-11-07T01:30:10.326439",
     "exception": false,
     "start_time": "2021-11-07T01:30:09.196944",
     "status": "completed"
    },
    "tags": []
   },
   "outputs": [],
   "source": [
    "df = pd.read_sql(\"select * from EBAY_TOP_BERLIN where record_time in (select distinct record_time from EBAY_TOP_BERLIN order by record_time desc limit 2)\", sqlite3.connect(\"UsedObjects.db\"))"
   ]
  },
  {
   "cell_type": "code",
   "execution_count": 5,
   "id": "popular-active",
   "metadata": {
    "execution": {
     "iopub.execute_input": "2021-11-07T01:30:10.383733Z",
     "iopub.status.busy": "2021-11-07T01:30:10.381448Z",
     "iopub.status.idle": "2021-11-07T01:30:10.434187Z",
     "shell.execute_reply": "2021-11-07T01:30:10.435586Z"
    },
    "papermill": {
     "duration": 0.088057,
     "end_time": "2021-11-07T01:30:10.436081",
     "exception": false,
     "start_time": "2021-11-07T01:30:10.348024",
     "status": "completed"
    },
    "tags": []
   },
   "outputs": [],
   "source": [
    "df_pivot = df.pivot_table(index=\"PRODUCT\", columns = \"RECORD_TIME\", values = \"LISTING_COUNT\")"
   ]
  },
  {
   "cell_type": "code",
   "execution_count": 6,
   "id": "union-huntington",
   "metadata": {
    "execution": {
     "iopub.execute_input": "2021-11-07T01:30:10.497719Z",
     "iopub.status.busy": "2021-11-07T01:30:10.495401Z",
     "iopub.status.idle": "2021-11-07T01:30:10.500614Z",
     "shell.execute_reply": "2021-11-07T01:30:10.502177Z"
    },
    "papermill": {
     "duration": 0.045104,
     "end_time": "2021-11-07T01:30:10.502664",
     "exception": false,
     "start_time": "2021-11-07T01:30:10.457560",
     "status": "completed"
    },
    "tags": []
   },
   "outputs": [],
   "source": [
    "df_pivot.columns = [\"stamp_1\", \"stamp_2\"]\n",
    "df_pivot_diff = df_pivot.diff(axis=1)"
   ]
  },
  {
   "cell_type": "code",
   "execution_count": 7,
   "id": "fifth-motion",
   "metadata": {
    "execution": {
     "iopub.execute_input": "2021-11-07T01:30:10.569270Z",
     "iopub.status.busy": "2021-11-07T01:30:10.558582Z",
     "iopub.status.idle": "2021-11-07T01:30:12.304807Z",
     "shell.execute_reply": "2021-11-07T01:30:12.306154Z"
    },
    "papermill": {
     "duration": 1.782907,
     "end_time": "2021-11-07T01:30:12.306625",
     "exception": false,
     "start_time": "2021-11-07T01:30:10.523718",
     "status": "completed"
    },
    "tags": []
   },
   "outputs": [
    {
     "data": {
      "text/plain": [
       "<AxesSubplot:ylabel='PRODUCT'>"
      ]
     },
     "execution_count": 7,
     "metadata": {},
     "output_type": "execute_result"
    },
    {
     "data": {
      "image/png": "[encoded data removed]",
      "text/plain": [
       "<Figure size 432x288 with 1 Axes>"
      ]
     },
     "metadata": {
      "needs_background": "light"
     },
     "output_type": "display_data"
    }
   ],
   "source": [
    "df_pivot_diff.sort_values(\"stamp_2\", ascending = False)[\"stamp_2\"].head(10).plot.barh()"
   ]
  },
  {
   "cell_type": "code",
   "execution_count": null,
   "id": "extra-executive",
   "metadata": {
    "papermill": {
     "duration": 0.023497,
     "end_time": "2021-11-07T01:30:12.354865",
     "exception": false,
     "start_time": "2021-11-07T01:30:12.331368",
     "status": "completed"
    },
    "tags": []
   },
   "outputs": [],
   "source": []
  }
 ],
 "metadata": {
  "kernelspec": {
   "display_name": "Python 3",
   "language": "python",
   "name": "python3"
  },
  "language_info": {
   "codemirror_mode": {
    "name": "ipython",
    "version": 3
   },
   "file_extension": ".py",
   "mimetype": "text/x-python",
   "name": "python",
   "nbconvert_exporter": "python",
   "pygments_lexer": "ipython3",
   "version": "3.9.5"
  },
  "papermill": {
   "default_parameters": {},
   "duration": 8.74188,
   "end_time": "2021-11-07T01:30:13.137094",
   "environment_variables": {},
   "exception": null,
   "input_path": "eBay_Overview.ipynb",
   "output_path": "eBay_Overview.ipynb",
   "parameters": {},
   "start_time": "2021-11-07T01:30:04.395214",
   "version": "2.3.3"
  }
 },
 "nbformat": 4,
 "nbformat_minor": 5
}