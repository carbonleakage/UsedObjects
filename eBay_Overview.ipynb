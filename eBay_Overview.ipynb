{
 "cells": [
  {
   "cell_type": "code",
   "execution_count": 1,
   "id": "reverse-picking",
   "metadata": {
    "execution": {
     "iopub.execute_input": "2021-10-19T18:00:07.085594Z",
     "iopub.status.busy": "2021-10-19T18:00:07.083571Z",
     "iopub.status.idle": "2021-10-19T18:00:07.890665Z",
     "shell.execute_reply": "2021-10-19T18:00:07.891908Z"
    },
    "papermill": {
     "duration": 0.855078,
     "end_time": "2021-10-19T18:00:07.892514",
     "exception": false,
     "start_time": "2021-10-19T18:00:07.037436",
     "status": "completed"
    },
    "tags": []
   },
   "outputs": [],
   "source": [
    "import pandas as pd\n",
    "import sqlite3"
   ]
  },
  {
   "cell_type": "code",
   "execution_count": 2,
   "id": "innovative-syndrome",
   "metadata": {
    "execution": {
     "iopub.execute_input": "2021-10-19T18:00:07.942947Z",
     "iopub.status.busy": "2021-10-19T18:00:07.940776Z",
     "iopub.status.idle": "2021-10-19T18:00:08.525511Z",
     "shell.execute_reply": "2021-10-19T18:00:08.526636Z"
    },
    "papermill": {
     "duration": 0.613707,
     "end_time": "2021-10-19T18:00:08.527042",
     "exception": false,
     "start_time": "2021-10-19T18:00:07.913335",
     "status": "completed"
    },
    "tags": []
   },
   "outputs": [],
   "source": [
    "timestamps = pd.read_sql(\"select distinct record_time from EBAY_TOP_BERLIN order by record_time desc limit 2\", sqlite3.connect(\"UsedObjects.db\"))"
   ]
  },
  {
   "cell_type": "code",
   "execution_count": 3,
   "id": "periodic-identification",
   "metadata": {
    "execution": {
     "iopub.execute_input": "2021-10-19T18:00:08.605687Z",
     "iopub.status.busy": "2021-10-19T18:00:08.600343Z",
     "iopub.status.idle": "2021-10-19T18:00:08.623886Z",
     "shell.execute_reply": "2021-10-19T18:00:08.625563Z"
    },
    "papermill": {
     "duration": 0.071372,
     "end_time": "2021-10-19T18:00:08.626068",
     "exception": false,
     "start_time": "2021-10-19T18:00:08.554696",
     "status": "completed"
    },
    "tags": []
   },
   "outputs": [
    {
     "data": {
      "text/html": [
       "<div>\n",
       "<style scoped>\n",
       "    .dataframe tbody tr th:only-of-type {\n",
       "        vertical-align: middle;\n",
       "    }\n",
       "\n",
       "    .dataframe tbody tr th {\n",
       "        vertical-align: top;\n",
       "    }\n",
       "\n",
       "    .dataframe thead th {\n",
       "        text-align: right;\n",
       "    }\n",
       "</style>\n",
       "<table border=\"1\" class=\"dataframe\">\n",
       "  <thead>\n",
       "    <tr style=\"text-align: right;\">\n",
       "      <th></th>\n",
       "      <th>RECORD_TIME</th>\n",
       "    </tr>\n",
       "  </thead>\n",
       "  <tbody>\n",
       "    <tr>\n",
       "      <th>0</th>\n",
       "      <td>2021-10-19 20:00</td>\n",
       "    </tr>\n",
       "    <tr>\n",
       "      <th>1</th>\n",
       "      <td>2021-10-19 19:30</td>\n",
       "    </tr>\n",
       "  </tbody>\n",
       "</table>\n",
       "</div>"
      ],
      "text/plain": [
       "        RECORD_TIME\n",
       "0  2021-10-19 20:00\n",
       "1  2021-10-19 19:30"
      ]
     },
     "execution_count": 3,
     "metadata": {},
     "output_type": "execute_result"
    }
   ],
   "source": [
    "timestamps"
   ]
  },
  {
   "cell_type": "code",
   "execution_count": 4,
   "id": "alternate-victory",
   "metadata": {
    "execution": {
     "iopub.execute_input": "2021-10-19T18:00:08.676919Z",
     "iopub.status.busy": "2021-10-19T18:00:08.675035Z",
     "iopub.status.idle": "2021-10-19T18:00:09.527128Z",
     "shell.execute_reply": "2021-10-19T18:00:09.528337Z"
    },
    "papermill": {
     "duration": 0.881565,
     "end_time": "2021-10-19T18:00:09.528774",
     "exception": false,
     "start_time": "2021-10-19T18:00:08.647209",
     "status": "completed"
    },
    "tags": []
   },
   "outputs": [],
   "source": [
    "df = pd.read_sql(\"select * from EBAY_TOP_BERLIN where record_time in (select distinct record_time from EBAY_TOP_BERLIN order by record_time desc limit 2)\", sqlite3.connect(\"UsedObjects.db\"))"
   ]
  },
  {
   "cell_type": "code",
   "execution_count": 5,
   "id": "popular-active",
   "metadata": {
    "execution": {
     "iopub.execute_input": "2021-10-19T18:00:09.599263Z",
     "iopub.status.busy": "2021-10-19T18:00:09.592587Z",
     "iopub.status.idle": "2021-10-19T18:00:09.615239Z",
     "shell.execute_reply": "2021-10-19T18:00:09.616526Z"
    },
    "papermill": {
     "duration": 0.067544,
     "end_time": "2021-10-19T18:00:09.616998",
     "exception": false,
     "start_time": "2021-10-19T18:00:09.549454",
     "status": "completed"
    },
    "tags": []
   },
   "outputs": [],
   "source": [
    "df_pivot = df.pivot_table(index=\"PRODUCT\", columns = \"RECORD_TIME\", values = \"LISTING_COUNT\")"
   ]
  },
  {
   "cell_type": "code",
   "execution_count": 6,
   "id": "union-huntington",
   "metadata": {
    "execution": {
     "iopub.execute_input": "2021-10-19T18:00:09.673457Z",
     "iopub.status.busy": "2021-10-19T18:00:09.671336Z",
     "iopub.status.idle": "2021-10-19T18:00:09.676415Z",
     "shell.execute_reply": "2021-10-19T18:00:09.677794Z"
    },
    "papermill": {
     "duration": 0.041089,
     "end_time": "2021-10-19T18:00:09.678215",
     "exception": false,
     "start_time": "2021-10-19T18:00:09.637126",
     "status": "completed"
    },
    "tags": []
   },
   "outputs": [],
   "source": [
    "df_pivot.columns = [\"stamp_1\", \"stamp_2\"]\n",
    "df_pivot_diff = df_pivot.diff(axis=1)"
   ]
  },
  {
   "cell_type": "code",
   "execution_count": 7,
   "id": "fifth-motion",
   "metadata": {
    "execution": {
     "iopub.execute_input": "2021-10-19T18:00:09.731810Z",
     "iopub.status.busy": "2021-10-19T18:00:09.729424Z",
     "iopub.status.idle": "2021-10-19T18:00:11.201348Z",
     "shell.execute_reply": "2021-10-19T18:00:11.202935Z"
    },
    "papermill": {
     "duration": 1.504903,
     "end_time": "2021-10-19T18:00:11.203405",
     "exception": false,
     "start_time": "2021-10-19T18:00:09.698502",
     "status": "completed"
    },
    "tags": []
   },
   "outputs": [
    {
     "data": {
      "text/plain": [
       "<AxesSubplot:ylabel='PRODUCT'>"
      ]
     },
     "execution_count": 7,
     "metadata": {},
     "output_type": "execute_result"
    },
    {
     "data": {
      "image/png": "[encoded data removed]",
      "text/plain": [
       "<Figure size 432x288 with 1 Axes>"
      ]
     },
     "metadata": {
      "needs_background": "light"
     },
     "output_type": "display_data"
    }
   ],
   "source": [
    "df_pivot_diff.sort_values(\"stamp_2\", ascending = False)[\"stamp_2\"].head(10).plot.barh()"
   ]
  },
  {
   "cell_type": "code",
   "execution_count": null,
   "id": "extra-executive",
   "metadata": {
    "papermill": {
     "duration": 0.021627,
     "end_time": "2021-10-19T18:00:11.248603",
     "exception": false,
     "start_time": "2021-10-19T18:00:11.226976",
     "status": "completed"
    },
    "tags": []
   },
   "outputs": [],
   "source": []
  }
 ],
 "metadata": {
  "kernelspec": {
   "display_name": "Python 3",
   "language": "python",
   "name": "python3"
  },
  "language_info": {
   "codemirror_mode": {
    "name": "ipython",
    "version": 3
   },
   "file_extension": ".py",
   "mimetype": "text/x-python",
   "name": "python",
   "nbconvert_exporter": "python",
   "pygments_lexer": "ipython3",
   "version": "3.9.5"
  },
  "papermill": {
   "default_parameters": {},
   "duration": 7.819658,
   "end_time": "2021-10-19T18:00:12.461672",
   "environment_variables": {},
   "exception": null,
   "input_path": "eBay_Overview.ipynb",
   "output_path": "eBay_Overview.ipynb",
   "parameters": {},
   "start_time": "2021-10-19T18:00:04.642014",
   "version": "2.3.3"
  }
 },
 "nbformat": 4,
 "nbformat_minor": 5
}