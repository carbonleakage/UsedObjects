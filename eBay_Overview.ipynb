{
 "cells": [
  {
   "cell_type": "code",
   "execution_count": 1,
   "id": "reverse-picking",
   "metadata": {
    "execution": {
     "iopub.execute_input": "2021-11-19T10:30:07.897587Z",
     "iopub.status.busy": "2021-11-19T10:30:07.894977Z",
     "iopub.status.idle": "2021-11-19T10:30:08.851754Z",
     "shell.execute_reply": "2021-11-19T10:30:08.853206Z"
    },
    "papermill": {
     "duration": 1.004304,
     "end_time": "2021-11-19T10:30:08.853932",
     "exception": false,
     "start_time": "2021-11-19T10:30:07.849628",
     "status": "completed"
    },
    "tags": []
   },
   "outputs": [],
   "source": [
    "import pandas as pd\n",
    "import sqlite3"
   ]
  },
  {
   "cell_type": "code",
   "execution_count": 2,
   "id": "innovative-syndrome",
   "metadata": {
    "execution": {
     "iopub.execute_input": "2021-11-19T10:30:08.918757Z",
     "iopub.status.busy": "2021-11-19T10:30:08.916346Z",
     "iopub.status.idle": "2021-11-19T10:30:09.777530Z",
     "shell.execute_reply": "2021-11-19T10:30:09.778915Z"
    },
    "papermill": {
     "duration": 0.895537,
     "end_time": "2021-11-19T10:30:09.779365",
     "exception": false,
     "start_time": "2021-11-19T10:30:08.883828",
     "status": "completed"
    },
    "tags": []
   },
   "outputs": [],
   "source": [
    "timestamps = pd.read_sql(\"select distinct record_time from EBAY_TOP_BERLIN order by record_time desc limit 2\", sqlite3.connect(\"UsedObjects.db\"))"
   ]
  },
  {
   "cell_type": "code",
   "execution_count": 3,
   "id": "periodic-identification",
   "metadata": {
    "execution": {
     "iopub.execute_input": "2021-11-19T10:30:09.849454Z",
     "iopub.status.busy": "2021-11-19T10:30:09.847155Z",
     "iopub.status.idle": "2021-11-19T10:30:09.868730Z",
     "shell.execute_reply": "2021-11-19T10:30:09.871065Z"
    },
    "papermill": {
     "duration": 0.071725,
     "end_time": "2021-11-19T10:30:09.871570",
     "exception": false,
     "start_time": "2021-11-19T10:30:09.799845",
     "status": "completed"
    },
    "tags": []
   },
   "outputs": [
    {
     "data": {
      "text/html": [
       "<div>\n",
       "<style scoped>\n",
       "    .dataframe tbody tr th:only-of-type {\n",
       "        vertical-align: middle;\n",
       "    }\n",
       "\n",
       "    .dataframe tbody tr th {\n",
       "        vertical-align: top;\n",
       "    }\n",
       "\n",
       "    .dataframe thead th {\n",
       "        text-align: right;\n",
       "    }\n",
       "</style>\n",
       "<table border=\"1\" class=\"dataframe\">\n",
       "  <thead>\n",
       "    <tr style=\"text-align: right;\">\n",
       "      <th></th>\n",
       "      <th>RECORD_TIME</th>\n",
       "    </tr>\n",
       "  </thead>\n",
       "  <tbody>\n",
       "    <tr>\n",
       "      <th>0</th>\n",
       "      <td>2021-11-19 11:30</td>\n",
       "    </tr>\n",
       "    <tr>\n",
       "      <th>1</th>\n",
       "      <td>2021-11-19 11:00</td>\n",
       "    </tr>\n",
       "  </tbody>\n",
       "</table>\n",
       "</div>"
      ],
      "text/plain": [
       "        RECORD_TIME\n",
       "0  2021-11-19 11:30\n",
       "1  2021-11-19 11:00"
      ]
     },
     "execution_count": 3,
     "metadata": {},
     "output_type": "execute_result"
    }
   ],
   "source": [
    "timestamps"
   ]
  },
  {
   "cell_type": "code",
   "execution_count": 4,
   "id": "alternate-victory",
   "metadata": {
    "execution": {
     "iopub.execute_input": "2021-11-19T10:30:09.926593Z",
     "iopub.status.busy": "2021-11-19T10:30:09.924383Z",
     "iopub.status.idle": "2021-11-19T10:30:11.172976Z",
     "shell.execute_reply": "2021-11-19T10:30:11.174569Z"
    },
    "papermill": {
     "duration": 1.282621,
     "end_time": "2021-11-19T10:30:11.175052",
     "exception": false,
     "start_time": "2021-11-19T10:30:09.892431",
     "status": "completed"
    },
    "tags": []
   },
   "outputs": [],
   "source": [
    "df = pd.read_sql(\"select * from EBAY_TOP_BERLIN where record_time in (select distinct record_time from EBAY_TOP_BERLIN order by record_time desc limit 2)\", sqlite3.connect(\"UsedObjects.db\"))"
   ]
  },
  {
   "cell_type": "code",
   "execution_count": 5,
   "id": "popular-active",
   "metadata": {
    "execution": {
     "iopub.execute_input": "2021-11-19T10:30:11.255075Z",
     "iopub.status.busy": "2021-11-19T10:30:11.241434Z",
     "iopub.status.idle": "2021-11-19T10:30:11.272576Z",
     "shell.execute_reply": "2021-11-19T10:30:11.274099Z"
    },
    "papermill": {
     "duration": 0.076425,
     "end_time": "2021-11-19T10:30:11.274549",
     "exception": false,
     "start_time": "2021-11-19T10:30:11.198124",
     "status": "completed"
    },
    "tags": []
   },
   "outputs": [],
   "source": [
    "df_pivot = df.pivot_table(index=\"PRODUCT\", columns = \"RECORD_TIME\", values = \"LISTING_COUNT\")"
   ]
  },
  {
   "cell_type": "code",
   "execution_count": 6,
   "id": "union-huntington",
   "metadata": {
    "execution": {
     "iopub.execute_input": "2021-11-19T10:30:11.334214Z",
     "iopub.status.busy": "2021-11-19T10:30:11.331905Z",
     "iopub.status.idle": "2021-11-19T10:30:11.339616Z",
     "shell.execute_reply": "2021-11-19T10:30:11.337982Z"
    },
    "papermill": {
     "duration": 0.04497,
     "end_time": "2021-11-19T10:30:11.340093",
     "exception": false,
     "start_time": "2021-11-19T10:30:11.295123",
     "status": "completed"
    },
    "tags": []
   },
   "outputs": [],
   "source": [
    "df_pivot.columns = [\"stamp_1\", \"stamp_2\"]\n",
    "df_pivot_diff = df_pivot.diff(axis=1)"
   ]
  },
  {
   "cell_type": "code",
   "execution_count": 7,
   "id": "fifth-motion",
   "metadata": {
    "execution": {
     "iopub.execute_input": "2021-11-19T10:30:11.414878Z",
     "iopub.status.busy": "2021-11-19T10:30:11.410574Z",
     "iopub.status.idle": "2021-11-19T10:30:13.164516Z",
     "shell.execute_reply": "2021-11-19T10:30:13.167335Z"
    },
    "papermill": {
     "duration": 1.804986,
     "end_time": "2021-11-19T10:30:13.168095",
     "exception": false,
     "start_time": "2021-11-19T10:30:11.363109",
     "status": "completed"
    },
    "tags": []
   },
   "outputs": [
    {
     "data": {
      "text/plain": [
       "<AxesSubplot:ylabel='PRODUCT'>"
      ]
     },
     "execution_count": 7,
     "metadata": {},
     "output_type": "execute_result"
    },
    {
     "data": {
      "image/png": "[encoded data removed]",
      "text/plain": [
       "<Figure size 432x288 with 1 Axes>"
      ]
     },
     "metadata": {
      "needs_background": "light"
     },
     "output_type": "display_data"
    }
   ],
   "source": [
    "df_pivot_diff.sort_values(\"stamp_2\", ascending = False)[\"stamp_2\"].head(10).plot.barh()"
   ]
  },
  {
   "cell_type": "code",
   "execution_count": null,
   "id": "extra-executive",
   "metadata": {
    "papermill": {
     "duration": 0.037487,
     "end_time": "2021-11-19T10:30:13.242140",
     "exception": false,
     "start_time": "2021-11-19T10:30:13.204653",
     "status": "completed"
    },
    "tags": []
   },
   "outputs": [],
   "source": []
  }
 ],
 "metadata": {
  "kernelspec": {
   "display_name": "Python 3",
   "language": "python",
   "name": "python3"
  },
  "language_info": {
   "codemirror_mode": {
    "name": "ipython",
    "version": 3
   },
   "file_extension": ".py",
   "mimetype": "text/x-python",
   "name": "python",
   "nbconvert_exporter": "python",
   "pygments_lexer": "ipython3",
   "version": "3.9.5"
  },
  "papermill": {
   "default_parameters": {},
   "duration": 9.950312,
   "end_time": "2021-11-19T10:30:15.057336",
   "environment_variables": {},
   "exception": null,
   "input_path": "eBay_Overview.ipynb",
   "output_path": "eBay_Overview.ipynb",
   "parameters": {},
   "start_time": "2021-11-19T10:30:05.107024",
   "version": "2.3.3"
  }
 },
 "nbformat": 4,
 "nbformat_minor": 5
}