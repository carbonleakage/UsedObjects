{
 "cells": [
  {
   "cell_type": "code",
   "execution_count": 1,
   "id": "reverse-picking",
   "metadata": {
    "execution": {
     "iopub.execute_input": "2021-09-15T23:00:07.163977Z",
     "iopub.status.busy": "2021-09-15T23:00:07.161842Z",
     "iopub.status.idle": "2021-09-15T23:00:07.961659Z",
     "shell.execute_reply": "2021-09-15T23:00:07.962998Z"
    },
    "papermill": {
     "duration": 0.850435,
     "end_time": "2021-09-15T23:00:07.963630",
     "exception": false,
     "start_time": "2021-09-15T23:00:07.113195",
     "status": "completed"
    },
    "tags": []
   },
   "outputs": [],
   "source": [
    "import pandas as pd\n",
    "import sqlite3"
   ]
  },
  {
   "cell_type": "code",
   "execution_count": 2,
   "id": "innovative-syndrome",
   "metadata": {
    "execution": {
     "iopub.execute_input": "2021-09-15T23:00:08.016196Z",
     "iopub.status.busy": "2021-09-15T23:00:08.014041Z",
     "iopub.status.idle": "2021-09-15T23:00:08.307939Z",
     "shell.execute_reply": "2021-09-15T23:00:08.309147Z"
    },
    "papermill": {
     "duration": 0.323378,
     "end_time": "2021-09-15T23:00:08.309545",
     "exception": false,
     "start_time": "2021-09-15T23:00:07.986167",
     "status": "completed"
    },
    "tags": []
   },
   "outputs": [],
   "source": [
    "timestamps = pd.read_sql(\"select distinct record_time from EBAY_TOP_BERLIN order by record_time desc limit 2\", sqlite3.connect(\"UsedObjects.db\"))"
   ]
  },
  {
   "cell_type": "code",
   "execution_count": 3,
   "id": "periodic-identification",
   "metadata": {
    "execution": {
     "iopub.execute_input": "2021-09-15T23:00:08.374061Z",
     "iopub.status.busy": "2021-09-15T23:00:08.372067Z",
     "iopub.status.idle": "2021-09-15T23:00:08.391886Z",
     "shell.execute_reply": "2021-09-15T23:00:08.393213Z"
    },
    "papermill": {
     "duration": 0.063092,
     "end_time": "2021-09-15T23:00:08.393629",
     "exception": false,
     "start_time": "2021-09-15T23:00:08.330537",
     "status": "completed"
    },
    "tags": []
   },
   "outputs": [
    {
     "data": {
      "text/html": [
       "<div>\n",
       "<style scoped>\n",
       "    .dataframe tbody tr th:only-of-type {\n",
       "        vertical-align: middle;\n",
       "    }\n",
       "\n",
       "    .dataframe tbody tr th {\n",
       "        vertical-align: top;\n",
       "    }\n",
       "\n",
       "    .dataframe thead th {\n",
       "        text-align: right;\n",
       "    }\n",
       "</style>\n",
       "<table border=\"1\" class=\"dataframe\">\n",
       "  <thead>\n",
       "    <tr style=\"text-align: right;\">\n",
       "      <th></th>\n",
       "      <th>RECORD_TIME</th>\n",
       "    </tr>\n",
       "  </thead>\n",
       "  <tbody>\n",
       "    <tr>\n",
       "      <th>0</th>\n",
       "      <td>2021-09-16 01:00</td>\n",
       "    </tr>\n",
       "    <tr>\n",
       "      <th>1</th>\n",
       "      <td>2021-09-16 00:30</td>\n",
       "    </tr>\n",
       "  </tbody>\n",
       "</table>\n",
       "</div>"
      ],
      "text/plain": [
       "        RECORD_TIME\n",
       "0  2021-09-16 01:00\n",
       "1  2021-09-16 00:30"
      ]
     },
     "execution_count": 3,
     "metadata": {},
     "output_type": "execute_result"
    }
   ],
   "source": [
    "timestamps"
   ]
  },
  {
   "cell_type": "code",
   "execution_count": 4,
   "id": "alternate-victory",
   "metadata": {
    "execution": {
     "iopub.execute_input": "2021-09-15T23:00:08.444276Z",
     "iopub.status.busy": "2021-09-15T23:00:08.442333Z",
     "iopub.status.idle": "2021-09-15T23:00:08.883733Z",
     "shell.execute_reply": "2021-09-15T23:00:08.885018Z"
    },
    "papermill": {
     "duration": 0.471275,
     "end_time": "2021-09-15T23:00:08.885415",
     "exception": false,
     "start_time": "2021-09-15T23:00:08.414140",
     "status": "completed"
    },
    "tags": []
   },
   "outputs": [],
   "source": [
    "df = pd.read_sql(\"select * from EBAY_TOP_BERLIN where record_time in (select distinct record_time from EBAY_TOP_BERLIN order by record_time desc limit 2)\", sqlite3.connect(\"UsedObjects.db\"))"
   ]
  },
  {
   "cell_type": "code",
   "execution_count": 5,
   "id": "popular-active",
   "metadata": {
    "execution": {
     "iopub.execute_input": "2021-09-15T23:00:08.973673Z",
     "iopub.status.busy": "2021-09-15T23:00:08.960248Z",
     "iopub.status.idle": "2021-09-15T23:00:08.989058Z",
     "shell.execute_reply": "2021-09-15T23:00:08.990254Z"
    },
    "papermill": {
     "duration": 0.073394,
     "end_time": "2021-09-15T23:00:08.990679",
     "exception": false,
     "start_time": "2021-09-15T23:00:08.917285",
     "status": "completed"
    },
    "tags": []
   },
   "outputs": [],
   "source": [
    "df_pivot = df.pivot_table(index=\"PRODUCT\", columns = \"RECORD_TIME\", values = \"LISTING_COUNT\")"
   ]
  },
  {
   "cell_type": "code",
   "execution_count": 6,
   "id": "union-huntington",
   "metadata": {
    "execution": {
     "iopub.execute_input": "2021-09-15T23:00:09.047260Z",
     "iopub.status.busy": "2021-09-15T23:00:09.045148Z",
     "iopub.status.idle": "2021-09-15T23:00:09.050438Z",
     "shell.execute_reply": "2021-09-15T23:00:09.051865Z"
    },
    "papermill": {
     "duration": 0.040508,
     "end_time": "2021-09-15T23:00:09.052295",
     "exception": false,
     "start_time": "2021-09-15T23:00:09.011787",
     "status": "completed"
    },
    "tags": []
   },
   "outputs": [],
   "source": [
    "df_pivot.columns = [\"stamp_1\", \"stamp_2\"]\n",
    "df_pivot_diff = df_pivot.diff(axis=1)"
   ]
  },
  {
   "cell_type": "code",
   "execution_count": 7,
   "id": "fifth-motion",
   "metadata": {
    "execution": {
     "iopub.execute_input": "2021-09-15T23:00:09.107356Z",
     "iopub.status.busy": "2021-09-15T23:00:09.104627Z",
     "iopub.status.idle": "2021-09-15T23:00:10.570358Z",
     "shell.execute_reply": "2021-09-15T23:00:10.571806Z"
    },
    "papermill": {
     "duration": 1.4997,
     "end_time": "2021-09-15T23:00:10.572255",
     "exception": false,
     "start_time": "2021-09-15T23:00:09.072555",
     "status": "completed"
    },
    "tags": []
   },
   "outputs": [
    {
     "data": {
      "text/plain": [
       "<AxesSubplot:ylabel='PRODUCT'>"
      ]
     },
     "execution_count": 7,
     "metadata": {},
     "output_type": "execute_result"
    },
    {
     "data": {
      "image/png": "[encoded data removed]",
      "text/plain": [
       "<Figure size 432x288 with 1 Axes>"
      ]
     },
     "metadata": {
      "needs_background": "light"
     },
     "output_type": "display_data"
    }
   ],
   "source": [
    "df_pivot_diff.sort_values(\"stamp_2\", ascending = False)[\"stamp_2\"].head(10).plot.barh()"
   ]
  },
  {
   "cell_type": "code",
   "execution_count": null,
   "id": "extra-executive",
   "metadata": {
    "papermill": {
     "duration": 0.022345,
     "end_time": "2021-09-15T23:00:10.619300",
     "exception": false,
     "start_time": "2021-09-15T23:00:10.596955",
     "status": "completed"
    },
    "tags": []
   },
   "outputs": [],
   "source": []
  }
 ],
 "metadata": {
  "kernelspec": {
   "display_name": "Python 3",
   "language": "python",
   "name": "python3"
  },
  "language_info": {
   "codemirror_mode": {
    "name": "ipython",
    "version": 3
   },
   "file_extension": ".py",
   "mimetype": "text/x-python",
   "name": "python",
   "nbconvert_exporter": "python",
   "pygments_lexer": "ipython3",
   "version": "3.9.5"
  },
  "papermill": {
   "default_parameters": {},
   "duration": 6.534642,
   "end_time": "2021-09-15T23:00:11.261558",
   "environment_variables": {},
   "exception": null,
   "input_path": "eBay_Overview.ipynb",
   "output_path": "eBay_Overview.ipynb",
   "parameters": {},
   "start_time": "2021-09-15T23:00:04.726916",
   "version": "2.3.3"
  }
 },
 "nbformat": 4,
 "nbformat_minor": 5
}