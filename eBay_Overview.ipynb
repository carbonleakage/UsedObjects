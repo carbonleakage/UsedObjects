{
 "cells": [
  {
   "cell_type": "code",
   "execution_count": 1,
   "id": "reverse-picking",
   "metadata": {
    "execution": {
     "iopub.execute_input": "2021-11-11T16:00:07.307641Z",
     "iopub.status.busy": "2021-11-11T16:00:07.305306Z",
     "iopub.status.idle": "2021-11-11T16:00:08.250679Z",
     "shell.execute_reply": "2021-11-11T16:00:08.252997Z"
    },
    "papermill": {
     "duration": 0.996385,
     "end_time": "2021-11-11T16:00:08.253750",
     "exception": false,
     "start_time": "2021-11-11T16:00:07.257365",
     "status": "completed"
    },
    "tags": []
   },
   "outputs": [],
   "source": [
    "import pandas as pd\n",
    "import sqlite3"
   ]
  },
  {
   "cell_type": "code",
   "execution_count": 2,
   "id": "innovative-syndrome",
   "metadata": {
    "execution": {
     "iopub.execute_input": "2021-11-11T16:00:08.315293Z",
     "iopub.status.busy": "2021-11-11T16:00:08.313036Z",
     "iopub.status.idle": "2021-11-11T16:00:09.107453Z",
     "shell.execute_reply": "2021-11-11T16:00:09.109525Z"
    },
    "papermill": {
     "duration": 0.83501,
     "end_time": "2021-11-11T16:00:09.110016",
     "exception": false,
     "start_time": "2021-11-11T16:00:08.275006",
     "status": "completed"
    },
    "tags": []
   },
   "outputs": [],
   "source": [
    "timestamps = pd.read_sql(\"select distinct record_time from EBAY_TOP_BERLIN order by record_time desc limit 2\", sqlite3.connect(\"UsedObjects.db\"))"
   ]
  },
  {
   "cell_type": "code",
   "execution_count": 3,
   "id": "periodic-identification",
   "metadata": {
    "execution": {
     "iopub.execute_input": "2021-11-11T16:00:09.190704Z",
     "iopub.status.busy": "2021-11-11T16:00:09.186883Z",
     "iopub.status.idle": "2021-11-11T16:00:09.220598Z",
     "shell.execute_reply": "2021-11-11T16:00:09.222126Z"
    },
    "papermill": {
     "duration": 0.091822,
     "end_time": "2021-11-11T16:00:09.222632",
     "exception": false,
     "start_time": "2021-11-11T16:00:09.130810",
     "status": "completed"
    },
    "tags": []
   },
   "outputs": [
    {
     "data": {
      "text/html": [
       "<div>\n",
       "<style scoped>\n",
       "    .dataframe tbody tr th:only-of-type {\n",
       "        vertical-align: middle;\n",
       "    }\n",
       "\n",
       "    .dataframe tbody tr th {\n",
       "        vertical-align: top;\n",
       "    }\n",
       "\n",
       "    .dataframe thead th {\n",
       "        text-align: right;\n",
       "    }\n",
       "</style>\n",
       "<table border=\"1\" class=\"dataframe\">\n",
       "  <thead>\n",
       "    <tr style=\"text-align: right;\">\n",
       "      <th></th>\n",
       "      <th>RECORD_TIME</th>\n",
       "    </tr>\n",
       "  </thead>\n",
       "  <tbody>\n",
       "    <tr>\n",
       "      <th>0</th>\n",
       "      <td>2021-11-11 17:00</td>\n",
       "    </tr>\n",
       "    <tr>\n",
       "      <th>1</th>\n",
       "      <td>2021-11-11 16:30</td>\n",
       "    </tr>\n",
       "  </tbody>\n",
       "</table>\n",
       "</div>"
      ],
      "text/plain": [
       "        RECORD_TIME\n",
       "0  2021-11-11 17:00\n",
       "1  2021-11-11 16:30"
      ]
     },
     "execution_count": 3,
     "metadata": {},
     "output_type": "execute_result"
    }
   ],
   "source": [
    "timestamps"
   ]
  },
  {
   "cell_type": "code",
   "execution_count": 4,
   "id": "alternate-victory",
   "metadata": {
    "execution": {
     "iopub.execute_input": "2021-11-11T16:00:09.278922Z",
     "iopub.status.busy": "2021-11-11T16:00:09.276575Z",
     "iopub.status.idle": "2021-11-11T16:00:10.449866Z",
     "shell.execute_reply": "2021-11-11T16:00:10.451353Z"
    },
    "papermill": {
     "duration": 1.206935,
     "end_time": "2021-11-11T16:00:10.451814",
     "exception": false,
     "start_time": "2021-11-11T16:00:09.244879",
     "status": "completed"
    },
    "tags": []
   },
   "outputs": [],
   "source": [
    "df = pd.read_sql(\"select * from EBAY_TOP_BERLIN where record_time in (select distinct record_time from EBAY_TOP_BERLIN order by record_time desc limit 2)\", sqlite3.connect(\"UsedObjects.db\"))"
   ]
  },
  {
   "cell_type": "code",
   "execution_count": 5,
   "id": "popular-active",
   "metadata": {
    "execution": {
     "iopub.execute_input": "2021-11-11T16:00:10.544823Z",
     "iopub.status.busy": "2021-11-11T16:00:10.531092Z",
     "iopub.status.idle": "2021-11-11T16:00:10.564894Z",
     "shell.execute_reply": "2021-11-11T16:00:10.563297Z"
    },
    "papermill": {
     "duration": 0.077643,
     "end_time": "2021-11-11T16:00:10.565314",
     "exception": false,
     "start_time": "2021-11-11T16:00:10.487671",
     "status": "completed"
    },
    "tags": []
   },
   "outputs": [],
   "source": [
    "df_pivot = df.pivot_table(index=\"PRODUCT\", columns = \"RECORD_TIME\", values = \"LISTING_COUNT\")"
   ]
  },
  {
   "cell_type": "code",
   "execution_count": 6,
   "id": "union-huntington",
   "metadata": {
    "execution": {
     "iopub.execute_input": "2021-11-11T16:00:10.627363Z",
     "iopub.status.busy": "2021-11-11T16:00:10.625103Z",
     "iopub.status.idle": "2021-11-11T16:00:10.631412Z",
     "shell.execute_reply": "2021-11-11T16:00:10.633170Z"
    },
    "papermill": {
     "duration": 0.046886,
     "end_time": "2021-11-11T16:00:10.633667",
     "exception": false,
     "start_time": "2021-11-11T16:00:10.586781",
     "status": "completed"
    },
    "tags": []
   },
   "outputs": [],
   "source": [
    "df_pivot.columns = [\"stamp_1\", \"stamp_2\"]\n",
    "df_pivot_diff = df_pivot.diff(axis=1)"
   ]
  },
  {
   "cell_type": "code",
   "execution_count": 7,
   "id": "fifth-motion",
   "metadata": {
    "execution": {
     "iopub.execute_input": "2021-11-11T16:00:10.695022Z",
     "iopub.status.busy": "2021-11-11T16:00:10.692483Z",
     "iopub.status.idle": "2021-11-11T16:00:12.442980Z",
     "shell.execute_reply": "2021-11-11T16:00:12.444432Z"
    },
    "papermill": {
     "duration": 1.787936,
     "end_time": "2021-11-11T16:00:12.444954",
     "exception": false,
     "start_time": "2021-11-11T16:00:10.657018",
     "status": "completed"
    },
    "tags": []
   },
   "outputs": [
    {
     "data": {
      "text/plain": [
       "<AxesSubplot:ylabel='PRODUCT'>"
      ]
     },
     "execution_count": 7,
     "metadata": {},
     "output_type": "execute_result"
    },
    {
     "data": {
      "image/png": "[encoded data removed]",
      "text/plain": [
       "<Figure size 432x288 with 1 Axes>"
      ]
     },
     "metadata": {
      "needs_background": "light"
     },
     "output_type": "display_data"
    }
   ],
   "source": [
    "df_pivot_diff.sort_values(\"stamp_2\", ascending = False)[\"stamp_2\"].head(10).plot.barh()"
   ]
  },
  {
   "cell_type": "code",
   "execution_count": null,
   "id": "extra-executive",
   "metadata": {
    "papermill": {
     "duration": 0.026341,
     "end_time": "2021-11-11T16:00:12.496466",
     "exception": false,
     "start_time": "2021-11-11T16:00:12.470125",
     "status": "completed"
    },
    "tags": []
   },
   "outputs": [],
   "source": []
  }
 ],
 "metadata": {
  "kernelspec": {
   "display_name": "Python 3",
   "language": "python",
   "name": "python3"
  },
  "language_info": {
   "codemirror_mode": {
    "name": "ipython",
    "version": 3
   },
   "file_extension": ".py",
   "mimetype": "text/x-python",
   "name": "python",
   "nbconvert_exporter": "python",
   "pygments_lexer": "ipython3",
   "version": "3.9.5"
  },
  "papermill": {
   "default_parameters": {},
   "duration": 8.903952,
   "end_time": "2021-11-11T16:00:13.351210",
   "environment_variables": {},
   "exception": null,
   "input_path": "eBay_Overview.ipynb",
   "output_path": "eBay_Overview.ipynb",
   "parameters": {},
   "start_time": "2021-11-11T16:00:04.447258",
   "version": "2.3.3"
  }
 },
 "nbformat": 4,
 "nbformat_minor": 5
}