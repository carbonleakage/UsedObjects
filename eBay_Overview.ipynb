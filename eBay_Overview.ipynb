{
 "cells": [
  {
   "cell_type": "code",
   "execution_count": 1,
   "id": "reverse-picking",
   "metadata": {
    "execution": {
     "iopub.execute_input": "2021-09-27T15:30:07.363535Z",
     "iopub.status.busy": "2021-09-27T15:30:07.361497Z",
     "iopub.status.idle": "2021-09-27T15:30:08.168816Z",
     "shell.execute_reply": "2021-09-27T15:30:08.170063Z"
    },
    "papermill": {
     "duration": 0.85898,
     "end_time": "2021-09-27T15:30:08.170683",
     "exception": false,
     "start_time": "2021-09-27T15:30:07.311703",
     "status": "completed"
    },
    "tags": []
   },
   "outputs": [],
   "source": [
    "import pandas as pd\n",
    "import sqlite3"
   ]
  },
  {
   "cell_type": "code",
   "execution_count": 2,
   "id": "innovative-syndrome",
   "metadata": {
    "execution": {
     "iopub.execute_input": "2021-09-27T15:30:08.221630Z",
     "iopub.status.busy": "2021-09-27T15:30:08.219767Z",
     "iopub.status.idle": "2021-09-27T15:30:08.617662Z",
     "shell.execute_reply": "2021-09-27T15:30:08.619125Z"
    },
    "papermill": {
     "duration": 0.427845,
     "end_time": "2021-09-27T15:30:08.619579",
     "exception": false,
     "start_time": "2021-09-27T15:30:08.191734",
     "status": "completed"
    },
    "tags": []
   },
   "outputs": [],
   "source": [
    "timestamps = pd.read_sql(\"select distinct record_time from EBAY_TOP_BERLIN order by record_time desc limit 2\", sqlite3.connect(\"UsedObjects.db\"))"
   ]
  },
  {
   "cell_type": "code",
   "execution_count": 3,
   "id": "periodic-identification",
   "metadata": {
    "execution": {
     "iopub.execute_input": "2021-09-27T15:30:08.686913Z",
     "iopub.status.busy": "2021-09-27T15:30:08.684831Z",
     "iopub.status.idle": "2021-09-27T15:30:08.706441Z",
     "shell.execute_reply": "2021-09-27T15:30:08.704938Z"
    },
    "papermill": {
     "duration": 0.066319,
     "end_time": "2021-09-27T15:30:08.706858",
     "exception": false,
     "start_time": "2021-09-27T15:30:08.640539",
     "status": "completed"
    },
    "tags": []
   },
   "outputs": [
    {
     "data": {
      "text/html": [
       "<div>\n",
       "<style scoped>\n",
       "    .dataframe tbody tr th:only-of-type {\n",
       "        vertical-align: middle;\n",
       "    }\n",
       "\n",
       "    .dataframe tbody tr th {\n",
       "        vertical-align: top;\n",
       "    }\n",
       "\n",
       "    .dataframe thead th {\n",
       "        text-align: right;\n",
       "    }\n",
       "</style>\n",
       "<table border=\"1\" class=\"dataframe\">\n",
       "  <thead>\n",
       "    <tr style=\"text-align: right;\">\n",
       "      <th></th>\n",
       "      <th>RECORD_TIME</th>\n",
       "    </tr>\n",
       "  </thead>\n",
       "  <tbody>\n",
       "    <tr>\n",
       "      <th>0</th>\n",
       "      <td>2021-09-27 17:30</td>\n",
       "    </tr>\n",
       "    <tr>\n",
       "      <th>1</th>\n",
       "      <td>2021-09-27 17:00</td>\n",
       "    </tr>\n",
       "  </tbody>\n",
       "</table>\n",
       "</div>"
      ],
      "text/plain": [
       "        RECORD_TIME\n",
       "0  2021-09-27 17:30\n",
       "1  2021-09-27 17:00"
      ]
     },
     "execution_count": 3,
     "metadata": {},
     "output_type": "execute_result"
    }
   ],
   "source": [
    "timestamps"
   ]
  },
  {
   "cell_type": "code",
   "execution_count": 4,
   "id": "alternate-victory",
   "metadata": {
    "execution": {
     "iopub.execute_input": "2021-09-27T15:30:08.758569Z",
     "iopub.status.busy": "2021-09-27T15:30:08.756738Z",
     "iopub.status.idle": "2021-09-27T15:30:09.335959Z",
     "shell.execute_reply": "2021-09-27T15:30:09.337364Z"
    },
    "papermill": {
     "duration": 0.60933,
     "end_time": "2021-09-27T15:30:09.337802",
     "exception": false,
     "start_time": "2021-09-27T15:30:08.728472",
     "status": "completed"
    },
    "tags": []
   },
   "outputs": [],
   "source": [
    "df = pd.read_sql(\"select * from EBAY_TOP_BERLIN where record_time in (select distinct record_time from EBAY_TOP_BERLIN order by record_time desc limit 2)\", sqlite3.connect(\"UsedObjects.db\"))"
   ]
  },
  {
   "cell_type": "code",
   "execution_count": 5,
   "id": "popular-active",
   "metadata": {
    "execution": {
     "iopub.execute_input": "2021-09-27T15:30:09.418923Z",
     "iopub.status.busy": "2021-09-27T15:30:09.406233Z",
     "iopub.status.idle": "2021-09-27T15:30:09.434304Z",
     "shell.execute_reply": "2021-09-27T15:30:09.435588Z"
    },
    "papermill": {
     "duration": 0.071955,
     "end_time": "2021-09-27T15:30:09.435989",
     "exception": false,
     "start_time": "2021-09-27T15:30:09.364034",
     "status": "completed"
    },
    "tags": []
   },
   "outputs": [],
   "source": [
    "df_pivot = df.pivot_table(index=\"PRODUCT\", columns = \"RECORD_TIME\", values = \"LISTING_COUNT\")"
   ]
  },
  {
   "cell_type": "code",
   "execution_count": 6,
   "id": "union-huntington",
   "metadata": {
    "execution": {
     "iopub.execute_input": "2021-09-27T15:30:09.493620Z",
     "iopub.status.busy": "2021-09-27T15:30:09.491485Z",
     "iopub.status.idle": "2021-09-27T15:30:09.498366Z",
     "shell.execute_reply": "2021-09-27T15:30:09.496904Z"
    },
    "papermill": {
     "duration": 0.041147,
     "end_time": "2021-09-27T15:30:09.498739",
     "exception": false,
     "start_time": "2021-09-27T15:30:09.457592",
     "status": "completed"
    },
    "tags": []
   },
   "outputs": [],
   "source": [
    "df_pivot.columns = [\"stamp_1\", \"stamp_2\"]\n",
    "df_pivot_diff = df_pivot.diff(axis=1)"
   ]
  },
  {
   "cell_type": "code",
   "execution_count": 7,
   "id": "fifth-motion",
   "metadata": {
    "execution": {
     "iopub.execute_input": "2021-09-27T15:30:09.554137Z",
     "iopub.status.busy": "2021-09-27T15:30:09.551479Z",
     "iopub.status.idle": "2021-09-27T15:30:11.017957Z",
     "shell.execute_reply": "2021-09-27T15:30:11.019584Z"
    },
    "papermill": {
     "duration": 1.50059,
     "end_time": "2021-09-27T15:30:11.020047",
     "exception": false,
     "start_time": "2021-09-27T15:30:09.519457",
     "status": "completed"
    },
    "tags": []
   },
   "outputs": [
    {
     "data": {
      "text/plain": [
       "<AxesSubplot:ylabel='PRODUCT'>"
      ]
     },
     "execution_count": 7,
     "metadata": {},
     "output_type": "execute_result"
    },
    {
     "data": {
      "image/png": "[encoded data removed]",
      "text/plain": [
       "<Figure size 432x288 with 1 Axes>"
      ]
     },
     "metadata": {
      "needs_background": "light"
     },
     "output_type": "display_data"
    }
   ],
   "source": [
    "df_pivot_diff.sort_values(\"stamp_2\", ascending = False)[\"stamp_2\"].head(10).plot.barh()"
   ]
  },
  {
   "cell_type": "code",
   "execution_count": null,
   "id": "extra-executive",
   "metadata": {
    "papermill": {
     "duration": 0.022292,
     "end_time": "2021-09-27T15:30:11.066777",
     "exception": false,
     "start_time": "2021-09-27T15:30:11.044485",
     "status": "completed"
    },
    "tags": []
   },
   "outputs": [],
   "source": []
  }
 ],
 "metadata": {
  "kernelspec": {
   "display_name": "Python 3",
   "language": "python",
   "name": "python3"
  },
  "language_info": {
   "codemirror_mode": {
    "name": "ipython",
    "version": 3
   },
   "file_extension": ".py",
   "mimetype": "text/x-python",
   "name": "python",
   "nbconvert_exporter": "python",
   "pygments_lexer": "ipython3",
   "version": "3.9.5"
  },
  "papermill": {
   "default_parameters": {},
   "duration": 6.809309,
   "end_time": "2021-09-27T15:30:11.709586",
   "environment_variables": {},
   "exception": null,
   "input_path": "eBay_Overview.ipynb",
   "output_path": "eBay_Overview.ipynb",
   "parameters": {},
   "start_time": "2021-09-27T15:30:04.900277",
   "version": "2.3.3"
  }
 },
 "nbformat": 4,
 "nbformat_minor": 5
}