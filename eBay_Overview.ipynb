{
 "cells": [
  {
   "cell_type": "code",
   "execution_count": 1,
   "id": "reverse-picking",
   "metadata": {
    "execution": {
     "iopub.execute_input": "2021-09-17T18:30:06.705513Z",
     "iopub.status.busy": "2021-09-17T18:30:06.703553Z",
     "iopub.status.idle": "2021-09-17T18:30:07.502074Z",
     "shell.execute_reply": "2021-09-17T18:30:07.503541Z"
    },
    "papermill": {
     "duration": 0.849602,
     "end_time": "2021-09-17T18:30:07.504180",
     "exception": false,
     "start_time": "2021-09-17T18:30:06.654578",
     "status": "completed"
    },
    "tags": []
   },
   "outputs": [],
   "source": [
    "import pandas as pd\n",
    "import sqlite3"
   ]
  },
  {
   "cell_type": "code",
   "execution_count": 2,
   "id": "innovative-syndrome",
   "metadata": {
    "execution": {
     "iopub.execute_input": "2021-09-17T18:30:07.556393Z",
     "iopub.status.busy": "2021-09-17T18:30:07.554005Z",
     "iopub.status.idle": "2021-09-17T18:30:07.866757Z",
     "shell.execute_reply": "2021-09-17T18:30:07.868175Z"
    },
    "papermill": {
     "duration": 0.3429,
     "end_time": "2021-09-17T18:30:07.868595",
     "exception": false,
     "start_time": "2021-09-17T18:30:07.525695",
     "status": "completed"
    },
    "tags": []
   },
   "outputs": [],
   "source": [
    "timestamps = pd.read_sql(\"select distinct record_time from EBAY_TOP_BERLIN order by record_time desc limit 2\", sqlite3.connect(\"UsedObjects.db\"))"
   ]
  },
  {
   "cell_type": "code",
   "execution_count": 3,
   "id": "periodic-identification",
   "metadata": {
    "execution": {
     "iopub.execute_input": "2021-09-17T18:30:07.933798Z",
     "iopub.status.busy": "2021-09-17T18:30:07.931707Z",
     "iopub.status.idle": "2021-09-17T18:30:07.952238Z",
     "shell.execute_reply": "2021-09-17T18:30:07.953358Z"
    },
    "papermill": {
     "duration": 0.065729,
     "end_time": "2021-09-17T18:30:07.953772",
     "exception": false,
     "start_time": "2021-09-17T18:30:07.888043",
     "status": "completed"
    },
    "tags": []
   },
   "outputs": [
    {
     "data": {
      "text/html": [
       "<div>\n",
       "<style scoped>\n",
       "    .dataframe tbody tr th:only-of-type {\n",
       "        vertical-align: middle;\n",
       "    }\n",
       "\n",
       "    .dataframe tbody tr th {\n",
       "        vertical-align: top;\n",
       "    }\n",
       "\n",
       "    .dataframe thead th {\n",
       "        text-align: right;\n",
       "    }\n",
       "</style>\n",
       "<table border=\"1\" class=\"dataframe\">\n",
       "  <thead>\n",
       "    <tr style=\"text-align: right;\">\n",
       "      <th></th>\n",
       "      <th>RECORD_TIME</th>\n",
       "    </tr>\n",
       "  </thead>\n",
       "  <tbody>\n",
       "    <tr>\n",
       "      <th>0</th>\n",
       "      <td>2021-09-17 20:30</td>\n",
       "    </tr>\n",
       "    <tr>\n",
       "      <th>1</th>\n",
       "      <td>2021-09-17 20:00</td>\n",
       "    </tr>\n",
       "  </tbody>\n",
       "</table>\n",
       "</div>"
      ],
      "text/plain": [
       "        RECORD_TIME\n",
       "0  2021-09-17 20:30\n",
       "1  2021-09-17 20:00"
      ]
     },
     "execution_count": 3,
     "metadata": {},
     "output_type": "execute_result"
    }
   ],
   "source": [
    "timestamps"
   ]
  },
  {
   "cell_type": "code",
   "execution_count": 4,
   "id": "alternate-victory",
   "metadata": {
    "execution": {
     "iopub.execute_input": "2021-09-17T18:30:08.007721Z",
     "iopub.status.busy": "2021-09-17T18:30:08.005368Z",
     "iopub.status.idle": "2021-09-17T18:30:08.466552Z",
     "shell.execute_reply": "2021-09-17T18:30:08.465252Z"
    },
    "papermill": {
     "duration": 0.490499,
     "end_time": "2021-09-17T18:30:08.466944",
     "exception": false,
     "start_time": "2021-09-17T18:30:07.976445",
     "status": "completed"
    },
    "tags": []
   },
   "outputs": [],
   "source": [
    "df = pd.read_sql(\"select * from EBAY_TOP_BERLIN where record_time in (select distinct record_time from EBAY_TOP_BERLIN order by record_time desc limit 2)\", sqlite3.connect(\"UsedObjects.db\"))"
   ]
  },
  {
   "cell_type": "code",
   "execution_count": 5,
   "id": "popular-active",
   "metadata": {
    "execution": {
     "iopub.execute_input": "2021-09-17T18:30:08.547733Z",
     "iopub.status.busy": "2021-09-17T18:30:08.540115Z",
     "iopub.status.idle": "2021-09-17T18:30:08.563483Z",
     "shell.execute_reply": "2021-09-17T18:30:08.564779Z"
    },
    "papermill": {
     "duration": 0.072341,
     "end_time": "2021-09-17T18:30:08.565231",
     "exception": false,
     "start_time": "2021-09-17T18:30:08.492890",
     "status": "completed"
    },
    "tags": []
   },
   "outputs": [],
   "source": [
    "df_pivot = df.pivot_table(index=\"PRODUCT\", columns = \"RECORD_TIME\", values = \"LISTING_COUNT\")"
   ]
  },
  {
   "cell_type": "code",
   "execution_count": 6,
   "id": "union-huntington",
   "metadata": {
    "execution": {
     "iopub.execute_input": "2021-09-17T18:30:08.622490Z",
     "iopub.status.busy": "2021-09-17T18:30:08.620226Z",
     "iopub.status.idle": "2021-09-17T18:30:08.625851Z",
     "shell.execute_reply": "2021-09-17T18:30:08.627255Z"
    },
    "papermill": {
     "duration": 0.041874,
     "end_time": "2021-09-17T18:30:08.627700",
     "exception": false,
     "start_time": "2021-09-17T18:30:08.585826",
     "status": "completed"
    },
    "tags": []
   },
   "outputs": [],
   "source": [
    "df_pivot.columns = [\"stamp_1\", \"stamp_2\"]\n",
    "df_pivot_diff = df_pivot.diff(axis=1)"
   ]
  },
  {
   "cell_type": "code",
   "execution_count": 7,
   "id": "fifth-motion",
   "metadata": {
    "execution": {
     "iopub.execute_input": "2021-09-17T18:30:08.682222Z",
     "iopub.status.busy": "2021-09-17T18:30:08.679946Z",
     "iopub.status.idle": "2021-09-17T18:30:10.151563Z",
     "shell.execute_reply": "2021-09-17T18:30:10.152756Z"
    },
    "papermill": {
     "duration": 1.504804,
     "end_time": "2021-09-17T18:30:10.153184",
     "exception": false,
     "start_time": "2021-09-17T18:30:08.648380",
     "status": "completed"
    },
    "tags": []
   },
   "outputs": [
    {
     "data": {
      "text/plain": [
       "<AxesSubplot:ylabel='PRODUCT'>"
      ]
     },
     "execution_count": 7,
     "metadata": {},
     "output_type": "execute_result"
    },
    {
     "data": {
      "image/png": "[encoded data removed]",
      "text/plain": [
       "<Figure size 432x288 with 1 Axes>"
      ]
     },
     "metadata": {
      "needs_background": "light"
     },
     "output_type": "display_data"
    }
   ],
   "source": [
    "df_pivot_diff.sort_values(\"stamp_2\", ascending = False)[\"stamp_2\"].head(10).plot.barh()"
   ]
  },
  {
   "cell_type": "code",
   "execution_count": null,
   "id": "extra-executive",
   "metadata": {
    "papermill": {
     "duration": 0.022462,
     "end_time": "2021-09-17T18:30:10.199448",
     "exception": false,
     "start_time": "2021-09-17T18:30:10.176986",
     "status": "completed"
    },
    "tags": []
   },
   "outputs": [],
   "source": []
  }
 ],
 "metadata": {
  "kernelspec": {
   "display_name": "Python 3",
   "language": "python",
   "name": "python3"
  },
  "language_info": {
   "codemirror_mode": {
    "name": "ipython",
    "version": 3
   },
   "file_extension": ".py",
   "mimetype": "text/x-python",
   "name": "python",
   "nbconvert_exporter": "python",
   "pygments_lexer": "ipython3",
   "version": "3.9.5"
  },
  "papermill": {
   "default_parameters": {},
   "duration": 6.574025,
   "end_time": "2021-09-17T18:30:10.842225",
   "environment_variables": {},
   "exception": null,
   "input_path": "eBay_Overview.ipynb",
   "output_path": "eBay_Overview.ipynb",
   "parameters": {},
   "start_time": "2021-09-17T18:30:04.268200",
   "version": "2.3.3"
  }
 },
 "nbformat": 4,
 "nbformat_minor": 5
}