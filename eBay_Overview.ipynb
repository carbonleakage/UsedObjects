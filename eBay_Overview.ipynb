{
 "cells": [
  {
   "cell_type": "code",
   "execution_count": 1,
   "id": "reverse-picking",
   "metadata": {
    "execution": {
     "iopub.execute_input": "2021-09-23T05:30:07.241520Z",
     "iopub.status.busy": "2021-09-23T05:30:07.239528Z",
     "iopub.status.idle": "2021-09-23T05:30:08.045806Z",
     "shell.execute_reply": "2021-09-23T05:30:08.047142Z"
    },
    "papermill": {
     "duration": 0.856663,
     "end_time": "2021-09-23T05:30:08.047776",
     "exception": false,
     "start_time": "2021-09-23T05:30:07.191113",
     "status": "completed"
    },
    "tags": []
   },
   "outputs": [],
   "source": [
    "import pandas as pd\n",
    "import sqlite3"
   ]
  },
  {
   "cell_type": "code",
   "execution_count": 2,
   "id": "innovative-syndrome",
   "metadata": {
    "execution": {
     "iopub.execute_input": "2021-09-23T05:30:08.098069Z",
     "iopub.status.busy": "2021-09-23T05:30:08.096234Z",
     "iopub.status.idle": "2021-09-23T05:30:08.447770Z",
     "shell.execute_reply": "2021-09-23T05:30:08.449156Z"
    },
    "papermill": {
     "duration": 0.381066,
     "end_time": "2021-09-23T05:30:08.449595",
     "exception": false,
     "start_time": "2021-09-23T05:30:08.068529",
     "status": "completed"
    },
    "tags": []
   },
   "outputs": [],
   "source": [
    "timestamps = pd.read_sql(\"select distinct record_time from EBAY_TOP_BERLIN order by record_time desc limit 2\", sqlite3.connect(\"UsedObjects.db\"))"
   ]
  },
  {
   "cell_type": "code",
   "execution_count": 3,
   "id": "periodic-identification",
   "metadata": {
    "execution": {
     "iopub.execute_input": "2021-09-23T05:30:08.519620Z",
     "iopub.status.busy": "2021-09-23T05:30:08.514438Z",
     "iopub.status.idle": "2021-09-23T05:30:08.534631Z",
     "shell.execute_reply": "2021-09-23T05:30:08.536026Z"
    },
    "papermill": {
     "duration": 0.067142,
     "end_time": "2021-09-23T05:30:08.536450",
     "exception": false,
     "start_time": "2021-09-23T05:30:08.469308",
     "status": "completed"
    },
    "tags": []
   },
   "outputs": [
    {
     "data": {
      "text/html": [
       "<div>\n",
       "<style scoped>\n",
       "    .dataframe tbody tr th:only-of-type {\n",
       "        vertical-align: middle;\n",
       "    }\n",
       "\n",
       "    .dataframe tbody tr th {\n",
       "        vertical-align: top;\n",
       "    }\n",
       "\n",
       "    .dataframe thead th {\n",
       "        text-align: right;\n",
       "    }\n",
       "</style>\n",
       "<table border=\"1\" class=\"dataframe\">\n",
       "  <thead>\n",
       "    <tr style=\"text-align: right;\">\n",
       "      <th></th>\n",
       "      <th>RECORD_TIME</th>\n",
       "    </tr>\n",
       "  </thead>\n",
       "  <tbody>\n",
       "    <tr>\n",
       "      <th>0</th>\n",
       "      <td>2021-09-23 07:30</td>\n",
       "    </tr>\n",
       "    <tr>\n",
       "      <th>1</th>\n",
       "      <td>2021-09-23 07:00</td>\n",
       "    </tr>\n",
       "  </tbody>\n",
       "</table>\n",
       "</div>"
      ],
      "text/plain": [
       "        RECORD_TIME\n",
       "0  2021-09-23 07:30\n",
       "1  2021-09-23 07:00"
      ]
     },
     "execution_count": 3,
     "metadata": {},
     "output_type": "execute_result"
    }
   ],
   "source": [
    "timestamps"
   ]
  },
  {
   "cell_type": "code",
   "execution_count": 4,
   "id": "alternate-victory",
   "metadata": {
    "execution": {
     "iopub.execute_input": "2021-09-23T05:30:08.587643Z",
     "iopub.status.busy": "2021-09-23T05:30:08.585711Z",
     "iopub.status.idle": "2021-09-23T05:30:09.109290Z",
     "shell.execute_reply": "2021-09-23T05:30:09.110499Z"
    },
    "papermill": {
     "duration": 0.553317,
     "end_time": "2021-09-23T05:30:09.110950",
     "exception": false,
     "start_time": "2021-09-23T05:30:08.557633",
     "status": "completed"
    },
    "tags": []
   },
   "outputs": [],
   "source": [
    "df = pd.read_sql(\"select * from EBAY_TOP_BERLIN where record_time in (select distinct record_time from EBAY_TOP_BERLIN order by record_time desc limit 2)\", sqlite3.connect(\"UsedObjects.db\"))"
   ]
  },
  {
   "cell_type": "code",
   "execution_count": 5,
   "id": "popular-active",
   "metadata": {
    "execution": {
     "iopub.execute_input": "2021-09-23T05:30:09.195545Z",
     "iopub.status.busy": "2021-09-23T05:30:09.183084Z",
     "iopub.status.idle": "2021-09-23T05:30:09.211001Z",
     "shell.execute_reply": "2021-09-23T05:30:09.212258Z"
    },
    "papermill": {
     "duration": 0.072344,
     "end_time": "2021-09-23T05:30:09.212652",
     "exception": false,
     "start_time": "2021-09-23T05:30:09.140308",
     "status": "completed"
    },
    "tags": []
   },
   "outputs": [],
   "source": [
    "df_pivot = df.pivot_table(index=\"PRODUCT\", columns = \"RECORD_TIME\", values = \"LISTING_COUNT\")"
   ]
  },
  {
   "cell_type": "code",
   "execution_count": 6,
   "id": "union-huntington",
   "metadata": {
    "execution": {
     "iopub.execute_input": "2021-09-23T05:30:09.268723Z",
     "iopub.status.busy": "2021-09-23T05:30:09.266493Z",
     "iopub.status.idle": "2021-09-23T05:30:09.272042Z",
     "shell.execute_reply": "2021-09-23T05:30:09.273310Z"
    },
    "papermill": {
     "duration": 0.040595,
     "end_time": "2021-09-23T05:30:09.273759",
     "exception": false,
     "start_time": "2021-09-23T05:30:09.233164",
     "status": "completed"
    },
    "tags": []
   },
   "outputs": [],
   "source": [
    "df_pivot.columns = [\"stamp_1\", \"stamp_2\"]\n",
    "df_pivot_diff = df_pivot.diff(axis=1)"
   ]
  },
  {
   "cell_type": "code",
   "execution_count": 7,
   "id": "fifth-motion",
   "metadata": {
    "execution": {
     "iopub.execute_input": "2021-09-23T05:30:09.331353Z",
     "iopub.status.busy": "2021-09-23T05:30:09.328607Z",
     "iopub.status.idle": "2021-09-23T05:30:10.796845Z",
     "shell.execute_reply": "2021-09-23T05:30:10.798150Z"
    },
    "papermill": {
     "duration": 1.501908,
     "end_time": "2021-09-23T05:30:10.798566",
     "exception": false,
     "start_time": "2021-09-23T05:30:09.296658",
     "status": "completed"
    },
    "tags": []
   },
   "outputs": [
    {
     "data": {
      "text/plain": [
       "<AxesSubplot:ylabel='PRODUCT'>"
      ]
     },
     "execution_count": 7,
     "metadata": {},
     "output_type": "execute_result"
    },
    {
     "data": {
      "image/png": "[encoded data removed]",
      "text/plain": [
       "<Figure size 432x288 with 1 Axes>"
      ]
     },
     "metadata": {
      "needs_background": "light"
     },
     "output_type": "display_data"
    }
   ],
   "source": [
    "df_pivot_diff.sort_values(\"stamp_2\", ascending = False)[\"stamp_2\"].head(10).plot.barh()"
   ]
  },
  {
   "cell_type": "code",
   "execution_count": null,
   "id": "extra-executive",
   "metadata": {
    "papermill": {
     "duration": 0.02206,
     "end_time": "2021-09-23T05:30:10.844428",
     "exception": false,
     "start_time": "2021-09-23T05:30:10.822368",
     "status": "completed"
    },
    "tags": []
   },
   "outputs": [],
   "source": []
  }
 ],
 "metadata": {
  "kernelspec": {
   "display_name": "Python 3",
   "language": "python",
   "name": "python3"
  },
  "language_info": {
   "codemirror_mode": {
    "name": "ipython",
    "version": 3
   },
   "file_extension": ".py",
   "mimetype": "text/x-python",
   "name": "python",
   "nbconvert_exporter": "python",
   "pygments_lexer": "ipython3",
   "version": "3.9.5"
  },
  "papermill": {
   "default_parameters": {},
   "duration": 6.69897,
   "end_time": "2021-09-23T05:30:11.487807",
   "environment_variables": {},
   "exception": null,
   "input_path": "eBay_Overview.ipynb",
   "output_path": "eBay_Overview.ipynb",
   "parameters": {},
   "start_time": "2021-09-23T05:30:04.788837",
   "version": "2.3.3"
  }
 },
 "nbformat": 4,
 "nbformat_minor": 5
}