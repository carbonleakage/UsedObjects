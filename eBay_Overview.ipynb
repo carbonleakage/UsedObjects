{
 "cells": [
  {
   "cell_type": "code",
   "execution_count": 1,
   "id": "reverse-picking",
   "metadata": {
    "execution": {
     "iopub.execute_input": "2021-10-23T05:30:06.750541Z",
     "iopub.status.busy": "2021-10-23T05:30:06.748556Z",
     "iopub.status.idle": "2021-10-23T05:30:07.552372Z",
     "shell.execute_reply": "2021-10-23T05:30:07.553767Z"
    },
    "papermill": {
     "duration": 0.857624,
     "end_time": "2021-10-23T05:30:07.554415",
     "exception": false,
     "start_time": "2021-10-23T05:30:06.696791",
     "status": "completed"
    },
    "tags": []
   },
   "outputs": [],
   "source": [
    "import pandas as pd\n",
    "import sqlite3"
   ]
  },
  {
   "cell_type": "code",
   "execution_count": 2,
   "id": "innovative-syndrome",
   "metadata": {
    "execution": {
     "iopub.execute_input": "2021-10-23T05:30:07.605513Z",
     "iopub.status.busy": "2021-10-23T05:30:07.603438Z",
     "iopub.status.idle": "2021-10-23T05:30:08.218753Z",
     "shell.execute_reply": "2021-10-23T05:30:08.219962Z"
    },
    "papermill": {
     "duration": 0.645432,
     "end_time": "2021-10-23T05:30:08.220349",
     "exception": false,
     "start_time": "2021-10-23T05:30:07.574917",
     "status": "completed"
    },
    "tags": []
   },
   "outputs": [],
   "source": [
    "timestamps = pd.read_sql(\"select distinct record_time from EBAY_TOP_BERLIN order by record_time desc limit 2\", sqlite3.connect(\"UsedObjects.db\"))"
   ]
  },
  {
   "cell_type": "code",
   "execution_count": 3,
   "id": "periodic-identification",
   "metadata": {
    "execution": {
     "iopub.execute_input": "2021-10-23T05:30:08.293582Z",
     "iopub.status.busy": "2021-10-23T05:30:08.291495Z",
     "iopub.status.idle": "2021-10-23T05:30:08.311163Z",
     "shell.execute_reply": "2021-10-23T05:30:08.312380Z"
    },
    "papermill": {
     "duration": 0.067459,
     "end_time": "2021-10-23T05:30:08.312937",
     "exception": false,
     "start_time": "2021-10-23T05:30:08.245478",
     "status": "completed"
    },
    "tags": []
   },
   "outputs": [
    {
     "data": {
      "text/html": [
       "<div>\n",
       "<style scoped>\n",
       "    .dataframe tbody tr th:only-of-type {\n",
       "        vertical-align: middle;\n",
       "    }\n",
       "\n",
       "    .dataframe tbody tr th {\n",
       "        vertical-align: top;\n",
       "    }\n",
       "\n",
       "    .dataframe thead th {\n",
       "        text-align: right;\n",
       "    }\n",
       "</style>\n",
       "<table border=\"1\" class=\"dataframe\">\n",
       "  <thead>\n",
       "    <tr style=\"text-align: right;\">\n",
       "      <th></th>\n",
       "      <th>RECORD_TIME</th>\n",
       "    </tr>\n",
       "  </thead>\n",
       "  <tbody>\n",
       "    <tr>\n",
       "      <th>0</th>\n",
       "      <td>2021-10-23 07:30</td>\n",
       "    </tr>\n",
       "    <tr>\n",
       "      <th>1</th>\n",
       "      <td>2021-10-23 07:00</td>\n",
       "    </tr>\n",
       "  </tbody>\n",
       "</table>\n",
       "</div>"
      ],
      "text/plain": [
       "        RECORD_TIME\n",
       "0  2021-10-23 07:30\n",
       "1  2021-10-23 07:00"
      ]
     },
     "execution_count": 3,
     "metadata": {},
     "output_type": "execute_result"
    }
   ],
   "source": [
    "timestamps"
   ]
  },
  {
   "cell_type": "code",
   "execution_count": 4,
   "id": "alternate-victory",
   "metadata": {
    "execution": {
     "iopub.execute_input": "2021-10-23T05:30:08.366705Z",
     "iopub.status.busy": "2021-10-23T05:30:08.364448Z",
     "iopub.status.idle": "2021-10-23T05:30:09.262744Z",
     "shell.execute_reply": "2021-10-23T05:30:09.264032Z"
    },
    "papermill": {
     "duration": 0.928821,
     "end_time": "2021-10-23T05:30:09.264442",
     "exception": false,
     "start_time": "2021-10-23T05:30:08.335621",
     "status": "completed"
    },
    "tags": []
   },
   "outputs": [],
   "source": [
    "df = pd.read_sql(\"select * from EBAY_TOP_BERLIN where record_time in (select distinct record_time from EBAY_TOP_BERLIN order by record_time desc limit 2)\", sqlite3.connect(\"UsedObjects.db\"))"
   ]
  },
  {
   "cell_type": "code",
   "execution_count": 5,
   "id": "popular-active",
   "metadata": {
    "execution": {
     "iopub.execute_input": "2021-10-23T05:30:09.335038Z",
     "iopub.status.busy": "2021-10-23T05:30:09.322728Z",
     "iopub.status.idle": "2021-10-23T05:30:09.352358Z",
     "shell.execute_reply": "2021-10-23T05:30:09.353984Z"
    },
    "papermill": {
     "duration": 0.069592,
     "end_time": "2021-10-23T05:30:09.354452",
     "exception": false,
     "start_time": "2021-10-23T05:30:09.284860",
     "status": "completed"
    },
    "tags": []
   },
   "outputs": [],
   "source": [
    "df_pivot = df.pivot_table(index=\"PRODUCT\", columns = \"RECORD_TIME\", values = \"LISTING_COUNT\")"
   ]
  },
  {
   "cell_type": "code",
   "execution_count": 6,
   "id": "union-huntington",
   "metadata": {
    "execution": {
     "iopub.execute_input": "2021-10-23T05:30:09.412650Z",
     "iopub.status.busy": "2021-10-23T05:30:09.410352Z",
     "iopub.status.idle": "2021-10-23T05:30:09.416210Z",
     "shell.execute_reply": "2021-10-23T05:30:09.417554Z"
    },
    "papermill": {
     "duration": 0.042017,
     "end_time": "2021-10-23T05:30:09.417974",
     "exception": false,
     "start_time": "2021-10-23T05:30:09.375957",
     "status": "completed"
    },
    "tags": []
   },
   "outputs": [],
   "source": [
    "df_pivot.columns = [\"stamp_1\", \"stamp_2\"]\n",
    "df_pivot_diff = df_pivot.diff(axis=1)"
   ]
  },
  {
   "cell_type": "code",
   "execution_count": 7,
   "id": "fifth-motion",
   "metadata": {
    "execution": {
     "iopub.execute_input": "2021-10-23T05:30:09.471977Z",
     "iopub.status.busy": "2021-10-23T05:30:09.469772Z",
     "iopub.status.idle": "2021-10-23T05:30:10.919675Z",
     "shell.execute_reply": "2021-10-23T05:30:10.921142Z"
    },
    "papermill": {
     "duration": 1.482772,
     "end_time": "2021-10-23T05:30:10.921584",
     "exception": false,
     "start_time": "2021-10-23T05:30:09.438812",
     "status": "completed"
    },
    "tags": []
   },
   "outputs": [
    {
     "data": {
      "text/plain": [
       "<AxesSubplot:ylabel='PRODUCT'>"
      ]
     },
     "execution_count": 7,
     "metadata": {},
     "output_type": "execute_result"
    },
    {
     "data": {
      "image/png": "[encoded data removed]",
      "text/plain": [
       "<Figure size 432x288 with 1 Axes>"
      ]
     },
     "metadata": {
      "needs_background": "light"
     },
     "output_type": "display_data"
    }
   ],
   "source": [
    "df_pivot_diff.sort_values(\"stamp_2\", ascending = False)[\"stamp_2\"].head(10).plot.barh()"
   ]
  },
  {
   "cell_type": "code",
   "execution_count": null,
   "id": "extra-executive",
   "metadata": {
    "papermill": {
     "duration": 0.022208,
     "end_time": "2021-10-23T05:30:10.967796",
     "exception": false,
     "start_time": "2021-10-23T05:30:10.945588",
     "status": "completed"
    },
    "tags": []
   },
   "outputs": [],
   "source": []
  }
 ],
 "metadata": {
  "kernelspec": {
   "display_name": "Python 3",
   "language": "python",
   "name": "python3"
  },
  "language_info": {
   "codemirror_mode": {
    "name": "ipython",
    "version": 3
   },
   "file_extension": ".py",
   "mimetype": "text/x-python",
   "name": "python",
   "nbconvert_exporter": "python",
   "pygments_lexer": "ipython3",
   "version": "3.9.5"
  },
  "papermill": {
   "default_parameters": {},
   "duration": 7.821261,
   "end_time": "2021-10-23T05:30:12.116963",
   "environment_variables": {},
   "exception": null,
   "input_path": "eBay_Overview.ipynb",
   "output_path": "eBay_Overview.ipynb",
   "parameters": {},
   "start_time": "2021-10-23T05:30:04.295702",
   "version": "2.3.3"
  }
 },
 "nbformat": 4,
 "nbformat_minor": 5
}