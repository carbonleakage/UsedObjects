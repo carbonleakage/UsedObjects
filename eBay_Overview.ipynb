{
 "cells": [
  {
   "cell_type": "code",
   "execution_count": 1,
   "id": "reverse-picking",
   "metadata": {
    "execution": {
     "iopub.execute_input": "2021-09-07T05:00:07.037585Z",
     "iopub.status.busy": "2021-09-07T05:00:07.035613Z",
     "iopub.status.idle": "2021-09-07T05:00:07.846678Z",
     "shell.execute_reply": "2021-09-07T05:00:07.848284Z"
    },
    "papermill": {
     "duration": 0.864407,
     "end_time": "2021-09-07T05:00:07.849065",
     "exception": false,
     "start_time": "2021-09-07T05:00:06.984658",
     "status": "completed"
    },
    "tags": []
   },
   "outputs": [],
   "source": [
    "import pandas as pd\n",
    "import sqlite3"
   ]
  },
  {
   "cell_type": "code",
   "execution_count": 2,
   "id": "innovative-syndrome",
   "metadata": {
    "execution": {
     "iopub.execute_input": "2021-09-07T05:00:07.900403Z",
     "iopub.status.busy": "2021-09-07T05:00:07.897966Z",
     "iopub.status.idle": "2021-09-07T05:00:08.124912Z",
     "shell.execute_reply": "2021-09-07T05:00:08.126181Z"
    },
    "papermill": {
     "duration": 0.257358,
     "end_time": "2021-09-07T05:00:08.126600",
     "exception": false,
     "start_time": "2021-09-07T05:00:07.869242",
     "status": "completed"
    },
    "tags": []
   },
   "outputs": [],
   "source": [
    "timestamps = pd.read_sql(\"select distinct record_time from EBAY_TOP_BERLIN order by record_time desc limit 2\", sqlite3.connect(\"UsedObjects.db\"))"
   ]
  },
  {
   "cell_type": "code",
   "execution_count": 3,
   "id": "periodic-identification",
   "metadata": {
    "execution": {
     "iopub.execute_input": "2021-09-07T05:00:08.190821Z",
     "iopub.status.busy": "2021-09-07T05:00:08.188769Z",
     "iopub.status.idle": "2021-09-07T05:00:08.209242Z",
     "shell.execute_reply": "2021-09-07T05:00:08.210425Z"
    },
    "papermill": {
     "duration": 0.064332,
     "end_time": "2021-09-07T05:00:08.210907",
     "exception": false,
     "start_time": "2021-09-07T05:00:08.146575",
     "status": "completed"
    },
    "tags": []
   },
   "outputs": [
    {
     "data": {
      "text/html": [
       "<div>\n",
       "<style scoped>\n",
       "    .dataframe tbody tr th:only-of-type {\n",
       "        vertical-align: middle;\n",
       "    }\n",
       "\n",
       "    .dataframe tbody tr th {\n",
       "        vertical-align: top;\n",
       "    }\n",
       "\n",
       "    .dataframe thead th {\n",
       "        text-align: right;\n",
       "    }\n",
       "</style>\n",
       "<table border=\"1\" class=\"dataframe\">\n",
       "  <thead>\n",
       "    <tr style=\"text-align: right;\">\n",
       "      <th></th>\n",
       "      <th>RECORD_TIME</th>\n",
       "    </tr>\n",
       "  </thead>\n",
       "  <tbody>\n",
       "    <tr>\n",
       "      <th>0</th>\n",
       "      <td>2021-09-07 07:00</td>\n",
       "    </tr>\n",
       "    <tr>\n",
       "      <th>1</th>\n",
       "      <td>2021-09-07 06:30</td>\n",
       "    </tr>\n",
       "  </tbody>\n",
       "</table>\n",
       "</div>"
      ],
      "text/plain": [
       "        RECORD_TIME\n",
       "0  2021-09-07 07:00\n",
       "1  2021-09-07 06:30"
      ]
     },
     "execution_count": 3,
     "metadata": {},
     "output_type": "execute_result"
    }
   ],
   "source": [
    "timestamps"
   ]
  },
  {
   "cell_type": "code",
   "execution_count": 4,
   "id": "alternate-victory",
   "metadata": {
    "execution": {
     "iopub.execute_input": "2021-09-07T05:00:08.264334Z",
     "iopub.status.busy": "2021-09-07T05:00:08.262362Z",
     "iopub.status.idle": "2021-09-07T05:00:08.591937Z",
     "shell.execute_reply": "2021-09-07T05:00:08.593151Z"
    },
    "papermill": {
     "duration": 0.36008,
     "end_time": "2021-09-07T05:00:08.593555",
     "exception": false,
     "start_time": "2021-09-07T05:00:08.233475",
     "status": "completed"
    },
    "tags": []
   },
   "outputs": [],
   "source": [
    "df = pd.read_sql(\"select * from EBAY_TOP_BERLIN where record_time in (select distinct record_time from EBAY_TOP_BERLIN order by record_time desc limit 2)\", sqlite3.connect(\"UsedObjects.db\"))"
   ]
  },
  {
   "cell_type": "code",
   "execution_count": 5,
   "id": "popular-active",
   "metadata": {
    "execution": {
     "iopub.execute_input": "2021-09-07T05:00:08.675210Z",
     "iopub.status.busy": "2021-09-07T05:00:08.662522Z",
     "iopub.status.idle": "2021-09-07T05:00:08.691334Z",
     "shell.execute_reply": "2021-09-07T05:00:08.692639Z"
    },
    "papermill": {
     "duration": 0.073365,
     "end_time": "2021-09-07T05:00:08.693103",
     "exception": false,
     "start_time": "2021-09-07T05:00:08.619738",
     "status": "completed"
    },
    "tags": []
   },
   "outputs": [],
   "source": [
    "df_pivot = df.pivot_table(index=\"PRODUCT\", columns = \"RECORD_TIME\", values = \"LISTING_COUNT\")"
   ]
  },
  {
   "cell_type": "code",
   "execution_count": 6,
   "id": "union-huntington",
   "metadata": {
    "execution": {
     "iopub.execute_input": "2021-09-07T05:00:08.751095Z",
     "iopub.status.busy": "2021-09-07T05:00:08.748731Z",
     "iopub.status.idle": "2021-09-07T05:00:08.754728Z",
     "shell.execute_reply": "2021-09-07T05:00:08.756081Z"
    },
    "papermill": {
     "duration": 0.042706,
     "end_time": "2021-09-07T05:00:08.756547",
     "exception": false,
     "start_time": "2021-09-07T05:00:08.713841",
     "status": "completed"
    },
    "tags": []
   },
   "outputs": [],
   "source": [
    "df_pivot.columns = [\"stamp_1\", \"stamp_2\"]\n",
    "df_pivot_diff = df_pivot.diff(axis=1)"
   ]
  },
  {
   "cell_type": "code",
   "execution_count": 7,
   "id": "fifth-motion",
   "metadata": {
    "execution": {
     "iopub.execute_input": "2021-09-07T05:00:08.812936Z",
     "iopub.status.busy": "2021-09-07T05:00:08.810426Z",
     "iopub.status.idle": "2021-09-07T05:00:10.347294Z",
     "shell.execute_reply": "2021-09-07T05:00:10.348589Z"
    },
    "papermill": {
     "duration": 1.570285,
     "end_time": "2021-09-07T05:00:10.349009",
     "exception": false,
     "start_time": "2021-09-07T05:00:08.778724",
     "status": "completed"
    },
    "tags": []
   },
   "outputs": [
    {
     "data": {
      "text/plain": [
       "<AxesSubplot:ylabel='PRODUCT'>"
      ]
     },
     "execution_count": 7,
     "metadata": {},
     "output_type": "execute_result"
    },
    {
     "data": {
      "image/png": "[encoded data removed]",
      "text/plain": [
       "<Figure size 432x288 with 1 Axes>"
      ]
     },
     "metadata": {
      "needs_background": "light"
     },
     "output_type": "display_data"
    }
   ],
   "source": [
    "df_pivot_diff.sort_values(\"stamp_2\", ascending = False)[\"stamp_2\"].head(10).plot.barh()"
   ]
  },
  {
   "cell_type": "code",
   "execution_count": null,
   "id": "extra-executive",
   "metadata": {
    "papermill": {
     "duration": 0.023184,
     "end_time": "2021-09-07T05:00:10.396485",
     "exception": false,
     "start_time": "2021-09-07T05:00:10.373301",
     "status": "completed"
    },
    "tags": []
   },
   "outputs": [],
   "source": []
  }
 ],
 "metadata": {
  "kernelspec": {
   "display_name": "Python 3",
   "language": "python",
   "name": "python3"
  },
  "language_info": {
   "codemirror_mode": {
    "name": "ipython",
    "version": 3
   },
   "file_extension": ".py",
   "mimetype": "text/x-python",
   "name": "python",
   "nbconvert_exporter": "python",
   "pygments_lexer": "ipython3",
   "version": "3.9.5"
  },
  "papermill": {
   "default_parameters": {},
   "duration": 6.471988,
   "end_time": "2021-09-07T05:00:11.038370",
   "environment_variables": {},
   "exception": null,
   "input_path": "eBay_Overview.ipynb",
   "output_path": "eBay_Overview.ipynb",
   "parameters": {},
   "start_time": "2021-09-07T05:00:04.566382",
   "version": "2.3.3"
  }
 },
 "nbformat": 4,
 "nbformat_minor": 5
}