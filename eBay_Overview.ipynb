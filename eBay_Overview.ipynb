{
 "cells": [
  {
   "cell_type": "code",
   "execution_count": 1,
   "id": "reverse-picking",
   "metadata": {
    "execution": {
     "iopub.execute_input": "2021-12-20T05:00:07.470561Z",
     "iopub.status.busy": "2021-12-20T05:00:07.468183Z",
     "iopub.status.idle": "2021-12-20T05:00:08.431002Z",
     "shell.execute_reply": "2021-12-20T05:00:08.429121Z"
    },
    "papermill": {
     "duration": 1.015275,
     "end_time": "2021-12-20T05:00:08.431535",
     "exception": false,
     "start_time": "2021-12-20T05:00:07.416260",
     "status": "completed"
    },
    "tags": []
   },
   "outputs": [],
   "source": [
    "import pandas as pd\n",
    "import sqlite3"
   ]
  },
  {
   "cell_type": "code",
   "execution_count": 2,
   "id": "innovative-syndrome",
   "metadata": {
    "execution": {
     "iopub.execute_input": "2021-12-20T05:00:08.502211Z",
     "iopub.status.busy": "2021-12-20T05:00:08.499809Z",
     "iopub.status.idle": "2021-12-20T05:00:09.628180Z",
     "shell.execute_reply": "2021-12-20T05:00:09.629562Z"
    },
    "papermill": {
     "duration": 1.164498,
     "end_time": "2021-12-20T05:00:09.630002",
     "exception": false,
     "start_time": "2021-12-20T05:00:08.465504",
     "status": "completed"
    },
    "tags": []
   },
   "outputs": [],
   "source": [
    "timestamps = pd.read_sql(\"select distinct record_time from EBAY_TOP_BERLIN order by record_time desc limit 2\", sqlite3.connect(\"UsedObjects.db\"))"
   ]
  },
  {
   "cell_type": "code",
   "execution_count": 3,
   "id": "periodic-identification",
   "metadata": {
    "execution": {
     "iopub.execute_input": "2021-12-20T05:00:09.695159Z",
     "iopub.status.busy": "2021-12-20T05:00:09.693057Z",
     "iopub.status.idle": "2021-12-20T05:00:09.714659Z",
     "shell.execute_reply": "2021-12-20T05:00:09.716162Z"
    },
    "papermill": {
     "duration": 0.066821,
     "end_time": "2021-12-20T05:00:09.716661",
     "exception": false,
     "start_time": "2021-12-20T05:00:09.649840",
     "status": "completed"
    },
    "tags": []
   },
   "outputs": [
    {
     "data": {
      "text/html": [
       "<div>\n",
       "<style scoped>\n",
       "    .dataframe tbody tr th:only-of-type {\n",
       "        vertical-align: middle;\n",
       "    }\n",
       "\n",
       "    .dataframe tbody tr th {\n",
       "        vertical-align: top;\n",
       "    }\n",
       "\n",
       "    .dataframe thead th {\n",
       "        text-align: right;\n",
       "    }\n",
       "</style>\n",
       "<table border=\"1\" class=\"dataframe\">\n",
       "  <thead>\n",
       "    <tr style=\"text-align: right;\">\n",
       "      <th></th>\n",
       "      <th>RECORD_TIME</th>\n",
       "    </tr>\n",
       "  </thead>\n",
       "  <tbody>\n",
       "    <tr>\n",
       "      <th>0</th>\n",
       "      <td>2021-12-20 06:00</td>\n",
       "    </tr>\n",
       "    <tr>\n",
       "      <th>1</th>\n",
       "      <td>2021-12-20 05:30</td>\n",
       "    </tr>\n",
       "  </tbody>\n",
       "</table>\n",
       "</div>"
      ],
      "text/plain": [
       "        RECORD_TIME\n",
       "0  2021-12-20 06:00\n",
       "1  2021-12-20 05:30"
      ]
     },
     "execution_count": 3,
     "metadata": {},
     "output_type": "execute_result"
    }
   ],
   "source": [
    "timestamps"
   ]
  },
  {
   "cell_type": "code",
   "execution_count": 4,
   "id": "alternate-victory",
   "metadata": {
    "execution": {
     "iopub.execute_input": "2021-12-20T05:00:09.774068Z",
     "iopub.status.busy": "2021-12-20T05:00:09.770528Z",
     "iopub.status.idle": "2021-12-20T05:00:11.455692Z",
     "shell.execute_reply": "2021-12-20T05:00:11.457663Z"
    },
    "papermill": {
     "duration": 1.718567,
     "end_time": "2021-12-20T05:00:11.458148",
     "exception": false,
     "start_time": "2021-12-20T05:00:09.739581",
     "status": "completed"
    },
    "tags": []
   },
   "outputs": [],
   "source": [
    "df = pd.read_sql(\"select * from EBAY_TOP_BERLIN where record_time in (select distinct record_time from EBAY_TOP_BERLIN order by record_time desc limit 2)\", sqlite3.connect(\"UsedObjects.db\"))"
   ]
  },
  {
   "cell_type": "code",
   "execution_count": 5,
   "id": "popular-active",
   "metadata": {
    "execution": {
     "iopub.execute_input": "2021-12-20T05:00:11.537536Z",
     "iopub.status.busy": "2021-12-20T05:00:11.523438Z",
     "iopub.status.idle": "2021-12-20T05:00:11.555514Z",
     "shell.execute_reply": "2021-12-20T05:00:11.556998Z"
    },
    "papermill": {
     "duration": 0.076467,
     "end_time": "2021-12-20T05:00:11.557480",
     "exception": false,
     "start_time": "2021-12-20T05:00:11.481013",
     "status": "completed"
    },
    "tags": []
   },
   "outputs": [],
   "source": [
    "df_pivot = df.pivot_table(index=\"PRODUCT\", columns = \"RECORD_TIME\", values = \"LISTING_COUNT\")"
   ]
  },
  {
   "cell_type": "code",
   "execution_count": 6,
   "id": "union-huntington",
   "metadata": {
    "execution": {
     "iopub.execute_input": "2021-12-20T05:00:11.616048Z",
     "iopub.status.busy": "2021-12-20T05:00:11.613791Z",
     "iopub.status.idle": "2021-12-20T05:00:11.620171Z",
     "shell.execute_reply": "2021-12-20T05:00:11.621767Z"
    },
    "papermill": {
     "duration": 0.044359,
     "end_time": "2021-12-20T05:00:11.622226",
     "exception": false,
     "start_time": "2021-12-20T05:00:11.577867",
     "status": "completed"
    },
    "tags": []
   },
   "outputs": [],
   "source": [
    "df_pivot.columns = [\"stamp_1\", \"stamp_2\"]\n",
    "df_pivot_diff = df_pivot.diff(axis=1)"
   ]
  },
  {
   "cell_type": "code",
   "execution_count": 7,
   "id": "fifth-motion",
   "metadata": {
    "execution": {
     "iopub.execute_input": "2021-12-20T05:00:11.685437Z",
     "iopub.status.busy": "2021-12-20T05:00:11.682397Z",
     "iopub.status.idle": "2021-12-20T05:00:13.668546Z",
     "shell.execute_reply": "2021-12-20T05:00:13.669947Z"
    },
    "papermill": {
     "duration": 2.025011,
     "end_time": "2021-12-20T05:00:13.670383",
     "exception": false,
     "start_time": "2021-12-20T05:00:11.645372",
     "status": "completed"
    },
    "tags": []
   },
   "outputs": [
    {
     "data": {
      "text/plain": [
       "<AxesSubplot:ylabel='PRODUCT'>"
      ]
     },
     "execution_count": 7,
     "metadata": {},
     "output_type": "execute_result"
    },
    {
     "data": {
      "image/png": "[encoded data removed]",
      "text/plain": [
       "<Figure size 432x288 with 1 Axes>"
      ]
     },
     "metadata": {
      "needs_background": "light"
     },
     "output_type": "display_data"
    }
   ],
   "source": [
    "df_pivot_diff.sort_values(\"stamp_2\", ascending = False)[\"stamp_2\"].head(10).plot.barh()"
   ]
  },
  {
   "cell_type": "code",
   "execution_count": null,
   "id": "extra-executive",
   "metadata": {
    "papermill": {
     "duration": 0.030013,
     "end_time": "2021-12-20T05:00:13.741253",
     "exception": false,
     "start_time": "2021-12-20T05:00:13.711240",
     "status": "completed"
    },
    "tags": []
   },
   "outputs": [],
   "source": []
  }
 ],
 "metadata": {
  "kernelspec": {
   "display_name": "Python 3",
   "language": "python",
   "name": "python3"
  },
  "language_info": {
   "codemirror_mode": {
    "name": "ipython",
    "version": 3
   },
   "file_extension": ".py",
   "mimetype": "text/x-python",
   "name": "python",
   "nbconvert_exporter": "python",
   "pygments_lexer": "ipython3",
   "version": "3.9.5"
  },
  "papermill": {
   "default_parameters": {},
   "duration": 9.701369,
   "end_time": "2021-12-20T05:00:14.382189",
   "environment_variables": {},
   "exception": null,
   "input_path": "eBay_Overview.ipynb",
   "output_path": "eBay_Overview.ipynb",
   "parameters": {},
   "start_time": "2021-12-20T05:00:04.680820",
   "version": "2.3.3"
  }
 },
 "nbformat": 4,
 "nbformat_minor": 5
}