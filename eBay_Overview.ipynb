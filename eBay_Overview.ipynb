{
 "cells": [
  {
   "cell_type": "code",
   "execution_count": 1,
   "id": "reverse-picking",
   "metadata": {
    "execution": {
     "iopub.execute_input": "2021-10-17T15:30:06.798276Z",
     "iopub.status.busy": "2021-10-17T15:30:06.796233Z",
     "iopub.status.idle": "2021-10-17T15:30:07.601512Z",
     "shell.execute_reply": "2021-10-17T15:30:07.602778Z"
    },
    "papermill": {
     "duration": 0.856811,
     "end_time": "2021-10-17T15:30:07.603397",
     "exception": false,
     "start_time": "2021-10-17T15:30:06.746586",
     "status": "completed"
    },
    "tags": []
   },
   "outputs": [],
   "source": [
    "import pandas as pd\n",
    "import sqlite3"
   ]
  },
  {
   "cell_type": "code",
   "execution_count": 2,
   "id": "innovative-syndrome",
   "metadata": {
    "execution": {
     "iopub.execute_input": "2021-10-17T15:30:07.653662Z",
     "iopub.status.busy": "2021-10-17T15:30:07.651664Z",
     "iopub.status.idle": "2021-10-17T15:30:08.214316Z",
     "shell.execute_reply": "2021-10-17T15:30:08.215517Z"
    },
    "papermill": {
     "duration": 0.591982,
     "end_time": "2021-10-17T15:30:08.215917",
     "exception": false,
     "start_time": "2021-10-17T15:30:07.623935",
     "status": "completed"
    },
    "tags": []
   },
   "outputs": [],
   "source": [
    "timestamps = pd.read_sql(\"select distinct record_time from EBAY_TOP_BERLIN order by record_time desc limit 2\", sqlite3.connect(\"UsedObjects.db\"))"
   ]
  },
  {
   "cell_type": "code",
   "execution_count": 3,
   "id": "periodic-identification",
   "metadata": {
    "execution": {
     "iopub.execute_input": "2021-10-17T15:30:08.288265Z",
     "iopub.status.busy": "2021-10-17T15:30:08.286226Z",
     "iopub.status.idle": "2021-10-17T15:30:08.305923Z",
     "shell.execute_reply": "2021-10-17T15:30:08.307134Z"
    },
    "papermill": {
     "duration": 0.066731,
     "end_time": "2021-10-17T15:30:08.307537",
     "exception": false,
     "start_time": "2021-10-17T15:30:08.240806",
     "status": "completed"
    },
    "tags": []
   },
   "outputs": [
    {
     "data": {
      "text/html": [
       "<div>\n",
       "<style scoped>\n",
       "    .dataframe tbody tr th:only-of-type {\n",
       "        vertical-align: middle;\n",
       "    }\n",
       "\n",
       "    .dataframe tbody tr th {\n",
       "        vertical-align: top;\n",
       "    }\n",
       "\n",
       "    .dataframe thead th {\n",
       "        text-align: right;\n",
       "    }\n",
       "</style>\n",
       "<table border=\"1\" class=\"dataframe\">\n",
       "  <thead>\n",
       "    <tr style=\"text-align: right;\">\n",
       "      <th></th>\n",
       "      <th>RECORD_TIME</th>\n",
       "    </tr>\n",
       "  </thead>\n",
       "  <tbody>\n",
       "    <tr>\n",
       "      <th>0</th>\n",
       "      <td>2021-10-17 17:30</td>\n",
       "    </tr>\n",
       "    <tr>\n",
       "      <th>1</th>\n",
       "      <td>2021-10-17 17:00</td>\n",
       "    </tr>\n",
       "  </tbody>\n",
       "</table>\n",
       "</div>"
      ],
      "text/plain": [
       "        RECORD_TIME\n",
       "0  2021-10-17 17:30\n",
       "1  2021-10-17 17:00"
      ]
     },
     "execution_count": 3,
     "metadata": {},
     "output_type": "execute_result"
    }
   ],
   "source": [
    "timestamps"
   ]
  },
  {
   "cell_type": "code",
   "execution_count": 4,
   "id": "alternate-victory",
   "metadata": {
    "execution": {
     "iopub.execute_input": "2021-10-17T15:30:08.360230Z",
     "iopub.status.busy": "2021-10-17T15:30:08.357948Z",
     "iopub.status.idle": "2021-10-17T15:30:09.197531Z",
     "shell.execute_reply": "2021-10-17T15:30:09.198921Z"
    },
    "papermill": {
     "duration": 0.870167,
     "end_time": "2021-10-17T15:30:09.199366",
     "exception": false,
     "start_time": "2021-10-17T15:30:08.329199",
     "status": "completed"
    },
    "tags": []
   },
   "outputs": [],
   "source": [
    "df = pd.read_sql(\"select * from EBAY_TOP_BERLIN where record_time in (select distinct record_time from EBAY_TOP_BERLIN order by record_time desc limit 2)\", sqlite3.connect(\"UsedObjects.db\"))"
   ]
  },
  {
   "cell_type": "code",
   "execution_count": 5,
   "id": "popular-active",
   "metadata": {
    "execution": {
     "iopub.execute_input": "2021-10-17T15:30:09.268976Z",
     "iopub.status.busy": "2021-10-17T15:30:09.256399Z",
     "iopub.status.idle": "2021-10-17T15:30:09.286699Z",
     "shell.execute_reply": "2021-10-17T15:30:09.288047Z"
    },
    "papermill": {
     "duration": 0.068798,
     "end_time": "2021-10-17T15:30:09.288489",
     "exception": false,
     "start_time": "2021-10-17T15:30:09.219691",
     "status": "completed"
    },
    "tags": []
   },
   "outputs": [],
   "source": [
    "df_pivot = df.pivot_table(index=\"PRODUCT\", columns = \"RECORD_TIME\", values = \"LISTING_COUNT\")"
   ]
  },
  {
   "cell_type": "code",
   "execution_count": 6,
   "id": "union-huntington",
   "metadata": {
    "execution": {
     "iopub.execute_input": "2021-10-17T15:30:09.345567Z",
     "iopub.status.busy": "2021-10-17T15:30:09.343415Z",
     "iopub.status.idle": "2021-10-17T15:30:09.348743Z",
     "shell.execute_reply": "2021-10-17T15:30:09.350196Z"
    },
    "papermill": {
     "duration": 0.041091,
     "end_time": "2021-10-17T15:30:09.350645",
     "exception": false,
     "start_time": "2021-10-17T15:30:09.309554",
     "status": "completed"
    },
    "tags": []
   },
   "outputs": [],
   "source": [
    "df_pivot.columns = [\"stamp_1\", \"stamp_2\"]\n",
    "df_pivot_diff = df_pivot.diff(axis=1)"
   ]
  },
  {
   "cell_type": "code",
   "execution_count": 7,
   "id": "fifth-motion",
   "metadata": {
    "execution": {
     "iopub.execute_input": "2021-10-17T15:30:09.405968Z",
     "iopub.status.busy": "2021-10-17T15:30:09.403342Z",
     "iopub.status.idle": "2021-10-17T15:30:10.899440Z",
     "shell.execute_reply": "2021-10-17T15:30:10.900910Z"
    },
    "papermill": {
     "duration": 1.529503,
     "end_time": "2021-10-17T15:30:10.901400",
     "exception": false,
     "start_time": "2021-10-17T15:30:09.371897",
     "status": "completed"
    },
    "tags": []
   },
   "outputs": [
    {
     "data": {
      "text/plain": [
       "<AxesSubplot:ylabel='PRODUCT'>"
      ]
     },
     "execution_count": 7,
     "metadata": {},
     "output_type": "execute_result"
    },
    {
     "data": {
      "image/png": "[encoded data removed]",
      "text/plain": [
       "<Figure size 432x288 with 1 Axes>"
      ]
     },
     "metadata": {
      "needs_background": "light"
     },
     "output_type": "display_data"
    }
   ],
   "source": [
    "df_pivot_diff.sort_values(\"stamp_2\", ascending = False)[\"stamp_2\"].head(10).plot.barh()"
   ]
  },
  {
   "cell_type": "code",
   "execution_count": null,
   "id": "extra-executive",
   "metadata": {
    "papermill": {
     "duration": 0.022181,
     "end_time": "2021-10-17T15:30:10.948142",
     "exception": false,
     "start_time": "2021-10-17T15:30:10.925961",
     "status": "completed"
    },
    "tags": []
   },
   "outputs": [],
   "source": []
  }
 ],
 "metadata": {
  "kernelspec": {
   "display_name": "Python 3",
   "language": "python",
   "name": "python3"
  },
  "language_info": {
   "codemirror_mode": {
    "name": "ipython",
    "version": 3
   },
   "file_extension": ".py",
   "mimetype": "text/x-python",
   "name": "python",
   "nbconvert_exporter": "python",
   "pygments_lexer": "ipython3",
   "version": "3.9.5"
  },
  "papermill": {
   "default_parameters": {},
   "duration": 7.82112,
   "end_time": "2021-10-17T15:30:12.161653",
   "environment_variables": {},
   "exception": null,
   "input_path": "eBay_Overview.ipynb",
   "output_path": "eBay_Overview.ipynb",
   "parameters": {},
   "start_time": "2021-10-17T15:30:04.340533",
   "version": "2.3.3"
  }
 },
 "nbformat": 4,
 "nbformat_minor": 5
}