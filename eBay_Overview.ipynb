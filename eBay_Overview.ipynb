{
 "cells": [
  {
   "cell_type": "code",
   "execution_count": 1,
   "id": "reverse-picking",
   "metadata": {
    "execution": {
     "iopub.execute_input": "2021-09-21T07:00:07.485045Z",
     "iopub.status.busy": "2021-09-21T07:00:07.483075Z",
     "iopub.status.idle": "2021-09-21T07:00:08.287065Z",
     "shell.execute_reply": "2021-09-21T07:00:08.285336Z"
    },
    "papermill": {
     "duration": 0.856404,
     "end_time": "2021-09-21T07:00:08.287513",
     "exception": false,
     "start_time": "2021-09-21T07:00:07.431109",
     "status": "completed"
    },
    "tags": []
   },
   "outputs": [],
   "source": [
    "import pandas as pd\n",
    "import sqlite3"
   ]
  },
  {
   "cell_type": "code",
   "execution_count": 2,
   "id": "innovative-syndrome",
   "metadata": {
    "execution": {
     "iopub.execute_input": "2021-09-21T07:00:08.338655Z",
     "iopub.status.busy": "2021-09-21T07:00:08.336609Z",
     "iopub.status.idle": "2021-09-21T07:00:08.670389Z",
     "shell.execute_reply": "2021-09-21T07:00:08.671756Z"
    },
    "papermill": {
     "duration": 0.364258,
     "end_time": "2021-09-21T07:00:08.672188",
     "exception": false,
     "start_time": "2021-09-21T07:00:08.307930",
     "status": "completed"
    },
    "tags": []
   },
   "outputs": [],
   "source": [
    "timestamps = pd.read_sql(\"select distinct record_time from EBAY_TOP_BERLIN order by record_time desc limit 2\", sqlite3.connect(\"UsedObjects.db\"))"
   ]
  },
  {
   "cell_type": "code",
   "execution_count": 3,
   "id": "periodic-identification",
   "metadata": {
    "execution": {
     "iopub.execute_input": "2021-09-21T07:00:08.737408Z",
     "iopub.status.busy": "2021-09-21T07:00:08.735379Z",
     "iopub.status.idle": "2021-09-21T07:00:08.756620Z",
     "shell.execute_reply": "2021-09-21T07:00:08.755255Z"
    },
    "papermill": {
     "duration": 0.0651,
     "end_time": "2021-09-21T07:00:08.756965",
     "exception": false,
     "start_time": "2021-09-21T07:00:08.691865",
     "status": "completed"
    },
    "tags": []
   },
   "outputs": [
    {
     "data": {
      "text/html": [
       "<div>\n",
       "<style scoped>\n",
       "    .dataframe tbody tr th:only-of-type {\n",
       "        vertical-align: middle;\n",
       "    }\n",
       "\n",
       "    .dataframe tbody tr th {\n",
       "        vertical-align: top;\n",
       "    }\n",
       "\n",
       "    .dataframe thead th {\n",
       "        text-align: right;\n",
       "    }\n",
       "</style>\n",
       "<table border=\"1\" class=\"dataframe\">\n",
       "  <thead>\n",
       "    <tr style=\"text-align: right;\">\n",
       "      <th></th>\n",
       "      <th>RECORD_TIME</th>\n",
       "    </tr>\n",
       "  </thead>\n",
       "  <tbody>\n",
       "    <tr>\n",
       "      <th>0</th>\n",
       "      <td>2021-09-21 09:00</td>\n",
       "    </tr>\n",
       "    <tr>\n",
       "      <th>1</th>\n",
       "      <td>2021-09-21 08:30</td>\n",
       "    </tr>\n",
       "  </tbody>\n",
       "</table>\n",
       "</div>"
      ],
      "text/plain": [
       "        RECORD_TIME\n",
       "0  2021-09-21 09:00\n",
       "1  2021-09-21 08:30"
      ]
     },
     "execution_count": 3,
     "metadata": {},
     "output_type": "execute_result"
    }
   ],
   "source": [
    "timestamps"
   ]
  },
  {
   "cell_type": "code",
   "execution_count": 4,
   "id": "alternate-victory",
   "metadata": {
    "execution": {
     "iopub.execute_input": "2021-09-21T07:00:08.808210Z",
     "iopub.status.busy": "2021-09-21T07:00:08.806243Z",
     "iopub.status.idle": "2021-09-21T07:00:09.306063Z",
     "shell.execute_reply": "2021-09-21T07:00:09.307345Z"
    },
    "papermill": {
     "duration": 0.529831,
     "end_time": "2021-09-21T07:00:09.307762",
     "exception": false,
     "start_time": "2021-09-21T07:00:08.777931",
     "status": "completed"
    },
    "tags": []
   },
   "outputs": [],
   "source": [
    "df = pd.read_sql(\"select * from EBAY_TOP_BERLIN where record_time in (select distinct record_time from EBAY_TOP_BERLIN order by record_time desc limit 2)\", sqlite3.connect(\"UsedObjects.db\"))"
   ]
  },
  {
   "cell_type": "code",
   "execution_count": 5,
   "id": "popular-active",
   "metadata": {
    "execution": {
     "iopub.execute_input": "2021-09-21T07:00:09.387974Z",
     "iopub.status.busy": "2021-09-21T07:00:09.376912Z",
     "iopub.status.idle": "2021-09-21T07:00:09.404574Z",
     "shell.execute_reply": "2021-09-21T07:00:09.405862Z"
    },
    "papermill": {
     "duration": 0.070334,
     "end_time": "2021-09-21T07:00:09.406289",
     "exception": false,
     "start_time": "2021-09-21T07:00:09.335955",
     "status": "completed"
    },
    "tags": []
   },
   "outputs": [],
   "source": [
    "df_pivot = df.pivot_table(index=\"PRODUCT\", columns = \"RECORD_TIME\", values = \"LISTING_COUNT\")"
   ]
  },
  {
   "cell_type": "code",
   "execution_count": 6,
   "id": "union-huntington",
   "metadata": {
    "execution": {
     "iopub.execute_input": "2021-09-21T07:00:09.463043Z",
     "iopub.status.busy": "2021-09-21T07:00:09.460951Z",
     "iopub.status.idle": "2021-09-21T07:00:09.466220Z",
     "shell.execute_reply": "2021-09-21T07:00:09.467583Z"
    },
    "papermill": {
     "duration": 0.041496,
     "end_time": "2021-09-21T07:00:09.468015",
     "exception": false,
     "start_time": "2021-09-21T07:00:09.426519",
     "status": "completed"
    },
    "tags": []
   },
   "outputs": [],
   "source": [
    "df_pivot.columns = [\"stamp_1\", \"stamp_2\"]\n",
    "df_pivot_diff = df_pivot.diff(axis=1)"
   ]
  },
  {
   "cell_type": "code",
   "execution_count": 7,
   "id": "fifth-motion",
   "metadata": {
    "execution": {
     "iopub.execute_input": "2021-09-21T07:00:09.523458Z",
     "iopub.status.busy": "2021-09-21T07:00:09.520904Z",
     "iopub.status.idle": "2021-09-21T07:00:10.987401Z",
     "shell.execute_reply": "2021-09-21T07:00:10.988709Z"
    },
    "papermill": {
     "duration": 1.499578,
     "end_time": "2021-09-21T07:00:10.989135",
     "exception": false,
     "start_time": "2021-09-21T07:00:09.489557",
     "status": "completed"
    },
    "tags": []
   },
   "outputs": [
    {
     "data": {
      "text/plain": [
       "<AxesSubplot:ylabel='PRODUCT'>"
      ]
     },
     "execution_count": 7,
     "metadata": {},
     "output_type": "execute_result"
    },
    {
     "data": {
      "image/png": "[encoded data removed]",
      "text/plain": [
       "<Figure size 432x288 with 1 Axes>"
      ]
     },
     "metadata": {
      "needs_background": "light"
     },
     "output_type": "display_data"
    }
   ],
   "source": [
    "df_pivot_diff.sort_values(\"stamp_2\", ascending = False)[\"stamp_2\"].head(10).plot.barh()"
   ]
  },
  {
   "cell_type": "code",
   "execution_count": null,
   "id": "extra-executive",
   "metadata": {
    "papermill": {
     "duration": 0.022262,
     "end_time": "2021-09-21T07:00:11.036073",
     "exception": false,
     "start_time": "2021-09-21T07:00:11.013811",
     "status": "completed"
    },
    "tags": []
   },
   "outputs": [],
   "source": []
  }
 ],
 "metadata": {
  "kernelspec": {
   "display_name": "Python 3",
   "language": "python",
   "name": "python3"
  },
  "language_info": {
   "codemirror_mode": {
    "name": "ipython",
    "version": 3
   },
   "file_extension": ".py",
   "mimetype": "text/x-python",
   "name": "python",
   "nbconvert_exporter": "python",
   "pygments_lexer": "ipython3",
   "version": "3.9.5"
  },
  "papermill": {
   "default_parameters": {},
   "duration": 6.658263,
   "end_time": "2021-09-21T07:00:11.679483",
   "environment_variables": {},
   "exception": null,
   "input_path": "eBay_Overview.ipynb",
   "output_path": "eBay_Overview.ipynb",
   "parameters": {},
   "start_time": "2021-09-21T07:00:05.021220",
   "version": "2.3.3"
  }
 },
 "nbformat": 4,
 "nbformat_minor": 5
}