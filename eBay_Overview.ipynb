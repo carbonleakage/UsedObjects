{
 "cells": [
  {
   "cell_type": "code",
   "execution_count": 1,
   "id": "reverse-picking",
   "metadata": {
    "execution": {
     "iopub.execute_input": "2021-09-23T08:00:06.966106Z",
     "iopub.status.busy": "2021-09-23T08:00:06.964150Z",
     "iopub.status.idle": "2021-09-23T08:00:07.769200Z",
     "shell.execute_reply": "2021-09-23T08:00:07.770613Z"
    },
    "papermill": {
     "duration": 0.856752,
     "end_time": "2021-09-23T08:00:07.771355",
     "exception": false,
     "start_time": "2021-09-23T08:00:06.914603",
     "status": "completed"
    },
    "tags": []
   },
   "outputs": [],
   "source": [
    "import pandas as pd\n",
    "import sqlite3"
   ]
  },
  {
   "cell_type": "code",
   "execution_count": 2,
   "id": "innovative-syndrome",
   "metadata": {
    "execution": {
     "iopub.execute_input": "2021-09-23T08:00:07.822621Z",
     "iopub.status.busy": "2021-09-23T08:00:07.820680Z",
     "iopub.status.idle": "2021-09-23T08:00:08.174247Z",
     "shell.execute_reply": "2021-09-23T08:00:08.176241Z"
    },
    "papermill": {
     "duration": 0.384494,
     "end_time": "2021-09-23T08:00:08.176782",
     "exception": false,
     "start_time": "2021-09-23T08:00:07.792288",
     "status": "completed"
    },
    "tags": []
   },
   "outputs": [],
   "source": [
    "timestamps = pd.read_sql(\"select distinct record_time from EBAY_TOP_BERLIN order by record_time desc limit 2\", sqlite3.connect(\"UsedObjects.db\"))"
   ]
  },
  {
   "cell_type": "code",
   "execution_count": 3,
   "id": "periodic-identification",
   "metadata": {
    "execution": {
     "iopub.execute_input": "2021-09-23T08:00:08.242251Z",
     "iopub.status.busy": "2021-09-23T08:00:08.240236Z",
     "iopub.status.idle": "2021-09-23T08:00:08.259914Z",
     "shell.execute_reply": "2021-09-23T08:00:08.261344Z"
    },
    "papermill": {
     "duration": 0.065746,
     "end_time": "2021-09-23T08:00:08.261777",
     "exception": false,
     "start_time": "2021-09-23T08:00:08.196031",
     "status": "completed"
    },
    "tags": []
   },
   "outputs": [
    {
     "data": {
      "text/html": [
       "<div>\n",
       "<style scoped>\n",
       "    .dataframe tbody tr th:only-of-type {\n",
       "        vertical-align: middle;\n",
       "    }\n",
       "\n",
       "    .dataframe tbody tr th {\n",
       "        vertical-align: top;\n",
       "    }\n",
       "\n",
       "    .dataframe thead th {\n",
       "        text-align: right;\n",
       "    }\n",
       "</style>\n",
       "<table border=\"1\" class=\"dataframe\">\n",
       "  <thead>\n",
       "    <tr style=\"text-align: right;\">\n",
       "      <th></th>\n",
       "      <th>RECORD_TIME</th>\n",
       "    </tr>\n",
       "  </thead>\n",
       "  <tbody>\n",
       "    <tr>\n",
       "      <th>0</th>\n",
       "      <td>2021-09-23 10:00</td>\n",
       "    </tr>\n",
       "    <tr>\n",
       "      <th>1</th>\n",
       "      <td>2021-09-23 09:30</td>\n",
       "    </tr>\n",
       "  </tbody>\n",
       "</table>\n",
       "</div>"
      ],
      "text/plain": [
       "        RECORD_TIME\n",
       "0  2021-09-23 10:00\n",
       "1  2021-09-23 09:30"
      ]
     },
     "execution_count": 3,
     "metadata": {},
     "output_type": "execute_result"
    }
   ],
   "source": [
    "timestamps"
   ]
  },
  {
   "cell_type": "code",
   "execution_count": 4,
   "id": "alternate-victory",
   "metadata": {
    "execution": {
     "iopub.execute_input": "2021-09-23T08:00:08.313598Z",
     "iopub.status.busy": "2021-09-23T08:00:08.311574Z",
     "iopub.status.idle": "2021-09-23T08:00:08.831956Z",
     "shell.execute_reply": "2021-09-23T08:00:08.833192Z"
    },
    "papermill": {
     "duration": 0.551062,
     "end_time": "2021-09-23T08:00:08.833586",
     "exception": false,
     "start_time": "2021-09-23T08:00:08.282524",
     "status": "completed"
    },
    "tags": []
   },
   "outputs": [],
   "source": [
    "df = pd.read_sql(\"select * from EBAY_TOP_BERLIN where record_time in (select distinct record_time from EBAY_TOP_BERLIN order by record_time desc limit 2)\", sqlite3.connect(\"UsedObjects.db\"))"
   ]
  },
  {
   "cell_type": "code",
   "execution_count": 5,
   "id": "popular-active",
   "metadata": {
    "execution": {
     "iopub.execute_input": "2021-09-23T08:00:08.903770Z",
     "iopub.status.busy": "2021-09-23T08:00:08.896496Z",
     "iopub.status.idle": "2021-09-23T08:00:08.923483Z",
     "shell.execute_reply": "2021-09-23T08:00:08.924711Z"
    },
    "papermill": {
     "duration": 0.067769,
     "end_time": "2021-09-23T08:00:08.925106",
     "exception": false,
     "start_time": "2021-09-23T08:00:08.857337",
     "status": "completed"
    },
    "tags": []
   },
   "outputs": [],
   "source": [
    "df_pivot = df.pivot_table(index=\"PRODUCT\", columns = \"RECORD_TIME\", values = \"LISTING_COUNT\")"
   ]
  },
  {
   "cell_type": "code",
   "execution_count": 6,
   "id": "union-huntington",
   "metadata": {
    "execution": {
     "iopub.execute_input": "2021-09-23T08:00:08.985568Z",
     "iopub.status.busy": "2021-09-23T08:00:08.983139Z",
     "iopub.status.idle": "2021-09-23T08:00:08.988976Z",
     "shell.execute_reply": "2021-09-23T08:00:08.990261Z"
    },
    "papermill": {
     "duration": 0.042342,
     "end_time": "2021-09-23T08:00:08.990677",
     "exception": false,
     "start_time": "2021-09-23T08:00:08.948335",
     "status": "completed"
    },
    "tags": []
   },
   "outputs": [],
   "source": [
    "df_pivot.columns = [\"stamp_1\", \"stamp_2\"]\n",
    "df_pivot_diff = df_pivot.diff(axis=1)"
   ]
  },
  {
   "cell_type": "code",
   "execution_count": 7,
   "id": "fifth-motion",
   "metadata": {
    "execution": {
     "iopub.execute_input": "2021-09-23T08:00:09.044904Z",
     "iopub.status.busy": "2021-09-23T08:00:09.042421Z",
     "iopub.status.idle": "2021-09-23T08:00:10.553788Z",
     "shell.execute_reply": "2021-09-23T08:00:10.555225Z"
    },
    "papermill": {
     "duration": 1.545074,
     "end_time": "2021-09-23T08:00:10.555669",
     "exception": false,
     "start_time": "2021-09-23T08:00:09.010595",
     "status": "completed"
    },
    "tags": []
   },
   "outputs": [
    {
     "data": {
      "text/plain": [
       "<AxesSubplot:ylabel='PRODUCT'>"
      ]
     },
     "execution_count": 7,
     "metadata": {},
     "output_type": "execute_result"
    },
    {
     "data": {
      "image/png": "[encoded data removed]",
      "text/plain": [
       "<Figure size 432x288 with 1 Axes>"
      ]
     },
     "metadata": {
      "needs_background": "light"
     },
     "output_type": "display_data"
    }
   ],
   "source": [
    "df_pivot_diff.sort_values(\"stamp_2\", ascending = False)[\"stamp_2\"].head(10).plot.barh()"
   ]
  },
  {
   "cell_type": "code",
   "execution_count": null,
   "id": "extra-executive",
   "metadata": {
    "papermill": {
     "duration": 0.022413,
     "end_time": "2021-09-23T08:00:10.603004",
     "exception": false,
     "start_time": "2021-09-23T08:00:10.580591",
     "status": "completed"
    },
    "tags": []
   },
   "outputs": [],
   "source": []
  }
 ],
 "metadata": {
  "kernelspec": {
   "display_name": "Python 3",
   "language": "python",
   "name": "python3"
  },
  "language_info": {
   "codemirror_mode": {
    "name": "ipython",
    "version": 3
   },
   "file_extension": ".py",
   "mimetype": "text/x-python",
   "name": "python",
   "nbconvert_exporter": "python",
   "pygments_lexer": "ipython3",
   "version": "3.9.5"
  },
  "papermill": {
   "default_parameters": {},
   "duration": 6.738014,
   "end_time": "2021-09-23T08:00:11.246030",
   "environment_variables": {},
   "exception": null,
   "input_path": "eBay_Overview.ipynb",
   "output_path": "eBay_Overview.ipynb",
   "parameters": {},
   "start_time": "2021-09-23T08:00:04.508016",
   "version": "2.3.3"
  }
 },
 "nbformat": 4,
 "nbformat_minor": 5
}