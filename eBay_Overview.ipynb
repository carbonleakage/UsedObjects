{
 "cells": [
  {
   "cell_type": "code",
   "execution_count": 1,
   "id": "reverse-picking",
   "metadata": {
    "execution": {
     "iopub.execute_input": "2021-11-17T10:30:08.004110Z",
     "iopub.status.busy": "2021-11-17T10:30:08.001876Z",
     "iopub.status.idle": "2021-11-17T10:30:08.948645Z",
     "shell.execute_reply": "2021-11-17T10:30:08.950287Z"
    },
    "papermill": {
     "duration": 0.995307,
     "end_time": "2021-11-17T10:30:08.951076",
     "exception": false,
     "start_time": "2021-11-17T10:30:07.955769",
     "status": "completed"
    },
    "tags": []
   },
   "outputs": [],
   "source": [
    "import pandas as pd\n",
    "import sqlite3"
   ]
  },
  {
   "cell_type": "code",
   "execution_count": 2,
   "id": "innovative-syndrome",
   "metadata": {
    "execution": {
     "iopub.execute_input": "2021-11-17T10:30:09.010206Z",
     "iopub.status.busy": "2021-11-17T10:30:09.008072Z",
     "iopub.status.idle": "2021-11-17T10:30:09.872743Z",
     "shell.execute_reply": "2021-11-17T10:30:09.874222Z"
    },
    "papermill": {
     "duration": 0.900573,
     "end_time": "2021-11-17T10:30:09.874702",
     "exception": false,
     "start_time": "2021-11-17T10:30:08.974129",
     "status": "completed"
    },
    "tags": []
   },
   "outputs": [],
   "source": [
    "timestamps = pd.read_sql(\"select distinct record_time from EBAY_TOP_BERLIN order by record_time desc limit 2\", sqlite3.connect(\"UsedObjects.db\"))"
   ]
  },
  {
   "cell_type": "code",
   "execution_count": 3,
   "id": "periodic-identification",
   "metadata": {
    "execution": {
     "iopub.execute_input": "2021-11-17T10:30:09.946128Z",
     "iopub.status.busy": "2021-11-17T10:30:09.943700Z",
     "iopub.status.idle": "2021-11-17T10:30:09.967747Z",
     "shell.execute_reply": "2021-11-17T10:30:09.969264Z"
    },
    "papermill": {
     "duration": 0.074593,
     "end_time": "2021-11-17T10:30:09.969770",
     "exception": false,
     "start_time": "2021-11-17T10:30:09.895177",
     "status": "completed"
    },
    "tags": []
   },
   "outputs": [
    {
     "data": {
      "text/html": [
       "<div>\n",
       "<style scoped>\n",
       "    .dataframe tbody tr th:only-of-type {\n",
       "        vertical-align: middle;\n",
       "    }\n",
       "\n",
       "    .dataframe tbody tr th {\n",
       "        vertical-align: top;\n",
       "    }\n",
       "\n",
       "    .dataframe thead th {\n",
       "        text-align: right;\n",
       "    }\n",
       "</style>\n",
       "<table border=\"1\" class=\"dataframe\">\n",
       "  <thead>\n",
       "    <tr style=\"text-align: right;\">\n",
       "      <th></th>\n",
       "      <th>RECORD_TIME</th>\n",
       "    </tr>\n",
       "  </thead>\n",
       "  <tbody>\n",
       "    <tr>\n",
       "      <th>0</th>\n",
       "      <td>2021-11-17 11:30</td>\n",
       "    </tr>\n",
       "    <tr>\n",
       "      <th>1</th>\n",
       "      <td>2021-11-17 11:00</td>\n",
       "    </tr>\n",
       "  </tbody>\n",
       "</table>\n",
       "</div>"
      ],
      "text/plain": [
       "        RECORD_TIME\n",
       "0  2021-11-17 11:30\n",
       "1  2021-11-17 11:00"
      ]
     },
     "execution_count": 3,
     "metadata": {},
     "output_type": "execute_result"
    }
   ],
   "source": [
    "timestamps"
   ]
  },
  {
   "cell_type": "code",
   "execution_count": 4,
   "id": "alternate-victory",
   "metadata": {
    "execution": {
     "iopub.execute_input": "2021-11-17T10:30:10.026194Z",
     "iopub.status.busy": "2021-11-17T10:30:10.023951Z",
     "iopub.status.idle": "2021-11-17T10:30:11.212518Z",
     "shell.execute_reply": "2021-11-17T10:30:11.214026Z"
    },
    "papermill": {
     "duration": 1.223007,
     "end_time": "2021-11-17T10:30:11.214505",
     "exception": false,
     "start_time": "2021-11-17T10:30:09.991498",
     "status": "completed"
    },
    "tags": []
   },
   "outputs": [],
   "source": [
    "df = pd.read_sql(\"select * from EBAY_TOP_BERLIN where record_time in (select distinct record_time from EBAY_TOP_BERLIN order by record_time desc limit 2)\", sqlite3.connect(\"UsedObjects.db\"))"
   ]
  },
  {
   "cell_type": "code",
   "execution_count": 5,
   "id": "popular-active",
   "metadata": {
    "execution": {
     "iopub.execute_input": "2021-11-17T10:30:11.285683Z",
     "iopub.status.busy": "2021-11-17T10:30:11.283597Z",
     "iopub.status.idle": "2021-11-17T10:30:11.308836Z",
     "shell.execute_reply": "2021-11-17T10:30:11.310718Z"
    },
    "papermill": {
     "duration": 0.075838,
     "end_time": "2021-11-17T10:30:11.311210",
     "exception": false,
     "start_time": "2021-11-17T10:30:11.235372",
     "status": "completed"
    },
    "tags": []
   },
   "outputs": [],
   "source": [
    "df_pivot = df.pivot_table(index=\"PRODUCT\", columns = \"RECORD_TIME\", values = \"LISTING_COUNT\")"
   ]
  },
  {
   "cell_type": "code",
   "execution_count": 6,
   "id": "union-huntington",
   "metadata": {
    "execution": {
     "iopub.execute_input": "2021-11-17T10:30:11.373524Z",
     "iopub.status.busy": "2021-11-17T10:30:11.371392Z",
     "iopub.status.idle": "2021-11-17T10:30:11.377179Z",
     "shell.execute_reply": "2021-11-17T10:30:11.378610Z"
    },
    "papermill": {
     "duration": 0.046745,
     "end_time": "2021-11-17T10:30:11.379088",
     "exception": false,
     "start_time": "2021-11-17T10:30:11.332343",
     "status": "completed"
    },
    "tags": []
   },
   "outputs": [],
   "source": [
    "df_pivot.columns = [\"stamp_1\", \"stamp_2\"]\n",
    "df_pivot_diff = df_pivot.diff(axis=1)"
   ]
  },
  {
   "cell_type": "code",
   "execution_count": 7,
   "id": "fifth-motion",
   "metadata": {
    "execution": {
     "iopub.execute_input": "2021-11-17T10:30:11.438718Z",
     "iopub.status.busy": "2021-11-17T10:30:11.436049Z",
     "iopub.status.idle": "2021-11-17T10:30:13.190397Z",
     "shell.execute_reply": "2021-11-17T10:30:13.192230Z"
    },
    "papermill": {
     "duration": 1.791759,
     "end_time": "2021-11-17T10:30:13.192813",
     "exception": false,
     "start_time": "2021-11-17T10:30:11.401054",
     "status": "completed"
    },
    "tags": []
   },
   "outputs": [
    {
     "data": {
      "text/plain": [
       "<AxesSubplot:ylabel='PRODUCT'>"
      ]
     },
     "execution_count": 7,
     "metadata": {},
     "output_type": "execute_result"
    },
    {
     "data": {
      "image/png": "[encoded data removed]",
      "text/plain": [
       "<Figure size 432x288 with 1 Axes>"
      ]
     },
     "metadata": {
      "needs_background": "light"
     },
     "output_type": "display_data"
    }
   ],
   "source": [
    "df_pivot_diff.sort_values(\"stamp_2\", ascending = False)[\"stamp_2\"].head(10).plot.barh()"
   ]
  },
  {
   "cell_type": "code",
   "execution_count": null,
   "id": "extra-executive",
   "metadata": {
    "papermill": {
     "duration": 0.023404,
     "end_time": "2021-11-17T10:30:13.241957",
     "exception": false,
     "start_time": "2021-11-17T10:30:13.218553",
     "status": "completed"
    },
    "tags": []
   },
   "outputs": [],
   "source": []
  }
 ],
 "metadata": {
  "kernelspec": {
   "display_name": "Python 3",
   "language": "python",
   "name": "python3"
  },
  "language_info": {
   "codemirror_mode": {
    "name": "ipython",
    "version": 3
   },
   "file_extension": ".py",
   "mimetype": "text/x-python",
   "name": "python",
   "nbconvert_exporter": "python",
   "pygments_lexer": "ipython3",
   "version": "3.9.5"
  },
  "papermill": {
   "default_parameters": {},
   "duration": 8.803225,
   "end_time": "2021-11-17T10:30:13.989907",
   "environment_variables": {},
   "exception": null,
   "input_path": "eBay_Overview.ipynb",
   "output_path": "eBay_Overview.ipynb",
   "parameters": {},
   "start_time": "2021-11-17T10:30:05.186682",
   "version": "2.3.3"
  }
 },
 "nbformat": 4,
 "nbformat_minor": 5
}