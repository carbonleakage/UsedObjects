{
 "cells": [
  {
   "cell_type": "code",
   "execution_count": 1,
   "id": "reverse-picking",
   "metadata": {
    "execution": {
     "iopub.execute_input": "2021-12-10T23:30:07.220407Z",
     "iopub.status.busy": "2021-12-10T23:30:07.217528Z",
     "iopub.status.idle": "2021-12-10T23:30:08.162511Z",
     "shell.execute_reply": "2021-12-10T23:30:08.164108Z"
    },
    "papermill": {
     "duration": 0.99365,
     "end_time": "2021-12-10T23:30:08.164934",
     "exception": false,
     "start_time": "2021-12-10T23:30:07.171284",
     "status": "completed"
    },
    "tags": []
   },
   "outputs": [],
   "source": [
    "import pandas as pd\n",
    "import sqlite3"
   ]
  },
  {
   "cell_type": "code",
   "execution_count": 2,
   "id": "innovative-syndrome",
   "metadata": {
    "execution": {
     "iopub.execute_input": "2021-12-10T23:30:08.235863Z",
     "iopub.status.busy": "2021-12-10T23:30:08.233609Z",
     "iopub.status.idle": "2021-12-10T23:30:09.252744Z",
     "shell.execute_reply": "2021-12-10T23:30:09.254176Z"
    },
    "papermill": {
     "duration": 1.052662,
     "end_time": "2021-12-10T23:30:09.254635",
     "exception": false,
     "start_time": "2021-12-10T23:30:08.201973",
     "status": "completed"
    },
    "tags": []
   },
   "outputs": [],
   "source": [
    "timestamps = pd.read_sql(\"select distinct record_time from EBAY_TOP_BERLIN order by record_time desc limit 2\", sqlite3.connect(\"UsedObjects.db\"))"
   ]
  },
  {
   "cell_type": "code",
   "execution_count": 3,
   "id": "periodic-identification",
   "metadata": {
    "execution": {
     "iopub.execute_input": "2021-12-10T23:30:09.326308Z",
     "iopub.status.busy": "2021-12-10T23:30:09.320752Z",
     "iopub.status.idle": "2021-12-10T23:30:09.343482Z",
     "shell.execute_reply": "2021-12-10T23:30:09.345078Z"
    },
    "papermill": {
     "duration": 0.07121,
     "end_time": "2021-12-10T23:30:09.345575",
     "exception": false,
     "start_time": "2021-12-10T23:30:09.274365",
     "status": "completed"
    },
    "tags": []
   },
   "outputs": [
    {
     "data": {
      "text/html": [
       "<div>\n",
       "<style scoped>\n",
       "    .dataframe tbody tr th:only-of-type {\n",
       "        vertical-align: middle;\n",
       "    }\n",
       "\n",
       "    .dataframe tbody tr th {\n",
       "        vertical-align: top;\n",
       "    }\n",
       "\n",
       "    .dataframe thead th {\n",
       "        text-align: right;\n",
       "    }\n",
       "</style>\n",
       "<table border=\"1\" class=\"dataframe\">\n",
       "  <thead>\n",
       "    <tr style=\"text-align: right;\">\n",
       "      <th></th>\n",
       "      <th>RECORD_TIME</th>\n",
       "    </tr>\n",
       "  </thead>\n",
       "  <tbody>\n",
       "    <tr>\n",
       "      <th>0</th>\n",
       "      <td>2021-12-11 00:30</td>\n",
       "    </tr>\n",
       "    <tr>\n",
       "      <th>1</th>\n",
       "      <td>2021-12-11 00:00</td>\n",
       "    </tr>\n",
       "  </tbody>\n",
       "</table>\n",
       "</div>"
      ],
      "text/plain": [
       "        RECORD_TIME\n",
       "0  2021-12-11 00:30\n",
       "1  2021-12-11 00:00"
      ]
     },
     "execution_count": 3,
     "metadata": {},
     "output_type": "execute_result"
    }
   ],
   "source": [
    "timestamps"
   ]
  },
  {
   "cell_type": "code",
   "execution_count": 4,
   "id": "alternate-victory",
   "metadata": {
    "execution": {
     "iopub.execute_input": "2021-12-10T23:30:09.400968Z",
     "iopub.status.busy": "2021-12-10T23:30:09.398717Z",
     "iopub.status.idle": "2021-12-10T23:30:10.861883Z",
     "shell.execute_reply": "2021-12-10T23:30:10.863510Z"
    },
    "papermill": {
     "duration": 1.497383,
     "end_time": "2021-12-10T23:30:10.864007",
     "exception": false,
     "start_time": "2021-12-10T23:30:09.366624",
     "status": "completed"
    },
    "tags": []
   },
   "outputs": [],
   "source": [
    "df = pd.read_sql(\"select * from EBAY_TOP_BERLIN where record_time in (select distinct record_time from EBAY_TOP_BERLIN order by record_time desc limit 2)\", sqlite3.connect(\"UsedObjects.db\"))"
   ]
  },
  {
   "cell_type": "code",
   "execution_count": 5,
   "id": "popular-active",
   "metadata": {
    "execution": {
     "iopub.execute_input": "2021-12-10T23:30:10.940556Z",
     "iopub.status.busy": "2021-12-10T23:30:10.927340Z",
     "iopub.status.idle": "2021-12-10T23:30:10.959881Z",
     "shell.execute_reply": "2021-12-10T23:30:10.961268Z"
    },
    "papermill": {
     "duration": 0.075622,
     "end_time": "2021-12-10T23:30:10.961727",
     "exception": false,
     "start_time": "2021-12-10T23:30:10.886105",
     "status": "completed"
    },
    "tags": []
   },
   "outputs": [],
   "source": [
    "df_pivot = df.pivot_table(index=\"PRODUCT\", columns = \"RECORD_TIME\", values = \"LISTING_COUNT\")"
   ]
  },
  {
   "cell_type": "code",
   "execution_count": 6,
   "id": "union-huntington",
   "metadata": {
    "execution": {
     "iopub.execute_input": "2021-12-10T23:30:11.021110Z",
     "iopub.status.busy": "2021-12-10T23:30:11.018699Z",
     "iopub.status.idle": "2021-12-10T23:30:11.024414Z",
     "shell.execute_reply": "2021-12-10T23:30:11.025927Z"
    },
    "papermill": {
     "duration": 0.044971,
     "end_time": "2021-12-10T23:30:11.026379",
     "exception": false,
     "start_time": "2021-12-10T23:30:10.981408",
     "status": "completed"
    },
    "tags": []
   },
   "outputs": [],
   "source": [
    "df_pivot.columns = [\"stamp_1\", \"stamp_2\"]\n",
    "df_pivot_diff = df_pivot.diff(axis=1)"
   ]
  },
  {
   "cell_type": "code",
   "execution_count": 7,
   "id": "fifth-motion",
   "metadata": {
    "execution": {
     "iopub.execute_input": "2021-12-10T23:30:11.085719Z",
     "iopub.status.busy": "2021-12-10T23:30:11.083262Z",
     "iopub.status.idle": "2021-12-10T23:30:12.951918Z",
     "shell.execute_reply": "2021-12-10T23:30:12.953365Z"
    },
    "papermill": {
     "duration": 1.904884,
     "end_time": "2021-12-10T23:30:12.953805",
     "exception": false,
     "start_time": "2021-12-10T23:30:11.048921",
     "status": "completed"
    },
    "tags": []
   },
   "outputs": [
    {
     "data": {
      "text/plain": [
       "<AxesSubplot:ylabel='PRODUCT'>"
      ]
     },
     "execution_count": 7,
     "metadata": {},
     "output_type": "execute_result"
    },
    {
     "data": {
      "image/png": "[encoded data removed]",
      "text/plain": [
       "<Figure size 432x288 with 1 Axes>"
      ]
     },
     "metadata": {
      "needs_background": "light"
     },
     "output_type": "display_data"
    }
   ],
   "source": [
    "df_pivot_diff.sort_values(\"stamp_2\", ascending = False)[\"stamp_2\"].head(10).plot.barh()"
   ]
  },
  {
   "cell_type": "code",
   "execution_count": null,
   "id": "extra-executive",
   "metadata": {
    "papermill": {
     "duration": 0.023201,
     "end_time": "2021-12-10T23:30:13.001051",
     "exception": false,
     "start_time": "2021-12-10T23:30:12.977850",
     "status": "completed"
    },
    "tags": []
   },
   "outputs": [],
   "source": []
  }
 ],
 "metadata": {
  "kernelspec": {
   "display_name": "Python 3",
   "language": "python",
   "name": "python3"
  },
  "language_info": {
   "codemirror_mode": {
    "name": "ipython",
    "version": 3
   },
   "file_extension": ".py",
   "mimetype": "text/x-python",
   "name": "python",
   "nbconvert_exporter": "python",
   "pygments_lexer": "ipython3",
   "version": "3.9.5"
  },
  "papermill": {
   "default_parameters": {},
   "duration": 10.010646,
   "end_time": "2021-12-10T23:30:14.392020",
   "environment_variables": {},
   "exception": null,
   "input_path": "eBay_Overview.ipynb",
   "output_path": "eBay_Overview.ipynb",
   "parameters": {},
   "start_time": "2021-12-10T23:30:04.381374",
   "version": "2.3.3"
  }
 },
 "nbformat": 4,
 "nbformat_minor": 5
}