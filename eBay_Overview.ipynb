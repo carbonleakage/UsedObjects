{
 "cells": [
  {
   "cell_type": "code",
   "execution_count": 1,
   "id": "reverse-picking",
   "metadata": {
    "execution": {
     "iopub.execute_input": "2021-11-07T08:00:07.443866Z",
     "iopub.status.busy": "2021-11-07T08:00:07.441552Z",
     "iopub.status.idle": "2021-11-07T08:00:08.391717Z",
     "shell.execute_reply": "2021-11-07T08:00:08.393347Z"
    },
    "papermill": {
     "duration": 0.999186,
     "end_time": "2021-11-07T08:00:08.394060",
     "exception": false,
     "start_time": "2021-11-07T08:00:07.394874",
     "status": "completed"
    },
    "tags": []
   },
   "outputs": [],
   "source": [
    "import pandas as pd\n",
    "import sqlite3"
   ]
  },
  {
   "cell_type": "code",
   "execution_count": 2,
   "id": "innovative-syndrome",
   "metadata": {
    "execution": {
     "iopub.execute_input": "2021-11-07T08:00:08.459673Z",
     "iopub.status.busy": "2021-11-07T08:00:08.457388Z",
     "iopub.status.idle": "2021-11-07T08:00:09.193048Z",
     "shell.execute_reply": "2021-11-07T08:00:09.194429Z"
    },
    "papermill": {
     "duration": 0.770572,
     "end_time": "2021-11-07T08:00:09.194927",
     "exception": false,
     "start_time": "2021-11-07T08:00:08.424355",
     "status": "completed"
    },
    "tags": []
   },
   "outputs": [],
   "source": [
    "timestamps = pd.read_sql(\"select distinct record_time from EBAY_TOP_BERLIN order by record_time desc limit 2\", sqlite3.connect(\"UsedObjects.db\"))"
   ]
  },
  {
   "cell_type": "code",
   "execution_count": 3,
   "id": "periodic-identification",
   "metadata": {
    "execution": {
     "iopub.execute_input": "2021-11-07T08:00:09.270532Z",
     "iopub.status.busy": "2021-11-07T08:00:09.264797Z",
     "iopub.status.idle": "2021-11-07T08:00:09.290864Z",
     "shell.execute_reply": "2021-11-07T08:00:09.289296Z"
    },
    "papermill": {
     "duration": 0.075639,
     "end_time": "2021-11-07T08:00:09.291299",
     "exception": false,
     "start_time": "2021-11-07T08:00:09.215660",
     "status": "completed"
    },
    "tags": []
   },
   "outputs": [
    {
     "data": {
      "text/html": [
       "<div>\n",
       "<style scoped>\n",
       "    .dataframe tbody tr th:only-of-type {\n",
       "        vertical-align: middle;\n",
       "    }\n",
       "\n",
       "    .dataframe tbody tr th {\n",
       "        vertical-align: top;\n",
       "    }\n",
       "\n",
       "    .dataframe thead th {\n",
       "        text-align: right;\n",
       "    }\n",
       "</style>\n",
       "<table border=\"1\" class=\"dataframe\">\n",
       "  <thead>\n",
       "    <tr style=\"text-align: right;\">\n",
       "      <th></th>\n",
       "      <th>RECORD_TIME</th>\n",
       "    </tr>\n",
       "  </thead>\n",
       "  <tbody>\n",
       "    <tr>\n",
       "      <th>0</th>\n",
       "      <td>2021-11-07 09:00</td>\n",
       "    </tr>\n",
       "    <tr>\n",
       "      <th>1</th>\n",
       "      <td>2021-11-07 08:30</td>\n",
       "    </tr>\n",
       "  </tbody>\n",
       "</table>\n",
       "</div>"
      ],
      "text/plain": [
       "        RECORD_TIME\n",
       "0  2021-11-07 09:00\n",
       "1  2021-11-07 08:30"
      ]
     },
     "execution_count": 3,
     "metadata": {},
     "output_type": "execute_result"
    }
   ],
   "source": [
    "timestamps"
   ]
  },
  {
   "cell_type": "code",
   "execution_count": 4,
   "id": "alternate-victory",
   "metadata": {
    "execution": {
     "iopub.execute_input": "2021-11-07T08:00:09.348151Z",
     "iopub.status.busy": "2021-11-07T08:00:09.345871Z",
     "iopub.status.idle": "2021-11-07T08:00:10.407952Z",
     "shell.execute_reply": "2021-11-07T08:00:10.409316Z"
    },
    "papermill": {
     "duration": 1.096464,
     "end_time": "2021-11-07T08:00:10.409747",
     "exception": false,
     "start_time": "2021-11-07T08:00:09.313283",
     "status": "completed"
    },
    "tags": []
   },
   "outputs": [],
   "source": [
    "df = pd.read_sql(\"select * from EBAY_TOP_BERLIN where record_time in (select distinct record_time from EBAY_TOP_BERLIN order by record_time desc limit 2)\", sqlite3.connect(\"UsedObjects.db\"))"
   ]
  },
  {
   "cell_type": "code",
   "execution_count": 5,
   "id": "popular-active",
   "metadata": {
    "execution": {
     "iopub.execute_input": "2021-11-07T08:00:10.479143Z",
     "iopub.status.busy": "2021-11-07T08:00:10.467110Z",
     "iopub.status.idle": "2021-11-07T08:00:10.494686Z",
     "shell.execute_reply": "2021-11-07T08:00:10.495896Z"
    },
    "papermill": {
     "duration": 0.065607,
     "end_time": "2021-11-07T08:00:10.496288",
     "exception": false,
     "start_time": "2021-11-07T08:00:10.430681",
     "status": "completed"
    },
    "tags": []
   },
   "outputs": [],
   "source": [
    "df_pivot = df.pivot_table(index=\"PRODUCT\", columns = \"RECORD_TIME\", values = \"LISTING_COUNT\")"
   ]
  },
  {
   "cell_type": "code",
   "execution_count": 6,
   "id": "union-huntington",
   "metadata": {
    "execution": {
     "iopub.execute_input": "2021-11-07T08:00:10.556792Z",
     "iopub.status.busy": "2021-11-07T08:00:10.554566Z",
     "iopub.status.idle": "2021-11-07T08:00:10.562026Z",
     "shell.execute_reply": "2021-11-07T08:00:10.560309Z"
    },
    "papermill": {
     "duration": 0.04347,
     "end_time": "2021-11-07T08:00:10.562416",
     "exception": false,
     "start_time": "2021-11-07T08:00:10.518946",
     "status": "completed"
    },
    "tags": []
   },
   "outputs": [],
   "source": [
    "df_pivot.columns = [\"stamp_1\", \"stamp_2\"]\n",
    "df_pivot_diff = df_pivot.diff(axis=1)"
   ]
  },
  {
   "cell_type": "code",
   "execution_count": 7,
   "id": "fifth-motion",
   "metadata": {
    "execution": {
     "iopub.execute_input": "2021-11-07T08:00:10.628561Z",
     "iopub.status.busy": "2021-11-07T08:00:10.626677Z",
     "iopub.status.idle": "2021-11-07T08:00:12.360020Z",
     "shell.execute_reply": "2021-11-07T08:00:12.361462Z"
    },
    "papermill": {
     "duration": 1.777573,
     "end_time": "2021-11-07T08:00:12.361940",
     "exception": false,
     "start_time": "2021-11-07T08:00:10.584367",
     "status": "completed"
    },
    "tags": []
   },
   "outputs": [
    {
     "data": {
      "text/plain": [
       "<AxesSubplot:ylabel='PRODUCT'>"
      ]
     },
     "execution_count": 7,
     "metadata": {},
     "output_type": "execute_result"
    },
    {
     "data": {
      "image/png": "[encoded data removed]",
      "text/plain": [
       "<Figure size 432x288 with 1 Axes>"
      ]
     },
     "metadata": {
      "needs_background": "light"
     },
     "output_type": "display_data"
    }
   ],
   "source": [
    "df_pivot_diff.sort_values(\"stamp_2\", ascending = False)[\"stamp_2\"].head(10).plot.barh()"
   ]
  },
  {
   "cell_type": "code",
   "execution_count": null,
   "id": "extra-executive",
   "metadata": {
    "papermill": {
     "duration": 0.025779,
     "end_time": "2021-11-07T08:00:12.412922",
     "exception": false,
     "start_time": "2021-11-07T08:00:12.387143",
     "status": "completed"
    },
    "tags": []
   },
   "outputs": [],
   "source": []
  }
 ],
 "metadata": {
  "kernelspec": {
   "display_name": "Python 3",
   "language": "python",
   "name": "python3"
  },
  "language_info": {
   "codemirror_mode": {
    "name": "ipython",
    "version": 3
   },
   "file_extension": ".py",
   "mimetype": "text/x-python",
   "name": "python",
   "nbconvert_exporter": "python",
   "pygments_lexer": "ipython3",
   "version": "3.9.5"
  },
  "papermill": {
   "default_parameters": {},
   "duration": 9.018336,
   "end_time": "2021-11-07T08:00:13.590929",
   "environment_variables": {},
   "exception": null,
   "input_path": "eBay_Overview.ipynb",
   "output_path": "eBay_Overview.ipynb",
   "parameters": {},
   "start_time": "2021-11-07T08:00:04.572593",
   "version": "2.3.3"
  }
 },
 "nbformat": 4,
 "nbformat_minor": 5
}