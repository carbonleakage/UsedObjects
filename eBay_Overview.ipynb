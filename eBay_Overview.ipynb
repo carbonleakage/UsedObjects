{
 "cells": [
  {
   "cell_type": "code",
   "execution_count": 1,
   "id": "reverse-picking",
   "metadata": {
    "execution": {
     "iopub.execute_input": "2021-09-21T15:30:07.193104Z",
     "iopub.status.busy": "2021-09-21T15:30:07.191188Z",
     "iopub.status.idle": "2021-09-21T15:30:07.996464Z",
     "shell.execute_reply": "2021-09-21T15:30:07.997688Z"
    },
    "papermill": {
     "duration": 0.858761,
     "end_time": "2021-09-21T15:30:07.998305",
     "exception": false,
     "start_time": "2021-09-21T15:30:07.139544",
     "status": "completed"
    },
    "tags": []
   },
   "outputs": [],
   "source": [
    "import pandas as pd\n",
    "import sqlite3"
   ]
  },
  {
   "cell_type": "code",
   "execution_count": 2,
   "id": "innovative-syndrome",
   "metadata": {
    "execution": {
     "iopub.execute_input": "2021-09-21T15:30:08.048737Z",
     "iopub.status.busy": "2021-09-21T15:30:08.046843Z",
     "iopub.status.idle": "2021-09-21T15:30:08.384225Z",
     "shell.execute_reply": "2021-09-21T15:30:08.385403Z"
    },
    "papermill": {
     "duration": 0.366682,
     "end_time": "2021-09-21T15:30:08.385792",
     "exception": false,
     "start_time": "2021-09-21T15:30:08.019110",
     "status": "completed"
    },
    "tags": []
   },
   "outputs": [],
   "source": [
    "timestamps = pd.read_sql(\"select distinct record_time from EBAY_TOP_BERLIN order by record_time desc limit 2\", sqlite3.connect(\"UsedObjects.db\"))"
   ]
  },
  {
   "cell_type": "code",
   "execution_count": 3,
   "id": "periodic-identification",
   "metadata": {
    "execution": {
     "iopub.execute_input": "2021-09-21T15:30:08.453827Z",
     "iopub.status.busy": "2021-09-21T15:30:08.451839Z",
     "iopub.status.idle": "2021-09-21T15:30:08.471210Z",
     "shell.execute_reply": "2021-09-21T15:30:08.472598Z"
    },
    "papermill": {
     "duration": 0.064945,
     "end_time": "2021-09-21T15:30:08.473032",
     "exception": false,
     "start_time": "2021-09-21T15:30:08.408087",
     "status": "completed"
    },
    "tags": []
   },
   "outputs": [
    {
     "data": {
      "text/html": [
       "<div>\n",
       "<style scoped>\n",
       "    .dataframe tbody tr th:only-of-type {\n",
       "        vertical-align: middle;\n",
       "    }\n",
       "\n",
       "    .dataframe tbody tr th {\n",
       "        vertical-align: top;\n",
       "    }\n",
       "\n",
       "    .dataframe thead th {\n",
       "        text-align: right;\n",
       "    }\n",
       "</style>\n",
       "<table border=\"1\" class=\"dataframe\">\n",
       "  <thead>\n",
       "    <tr style=\"text-align: right;\">\n",
       "      <th></th>\n",
       "      <th>RECORD_TIME</th>\n",
       "    </tr>\n",
       "  </thead>\n",
       "  <tbody>\n",
       "    <tr>\n",
       "      <th>0</th>\n",
       "      <td>2021-09-21 17:30</td>\n",
       "    </tr>\n",
       "    <tr>\n",
       "      <th>1</th>\n",
       "      <td>2021-09-21 17:00</td>\n",
       "    </tr>\n",
       "  </tbody>\n",
       "</table>\n",
       "</div>"
      ],
      "text/plain": [
       "        RECORD_TIME\n",
       "0  2021-09-21 17:30\n",
       "1  2021-09-21 17:00"
      ]
     },
     "execution_count": 3,
     "metadata": {},
     "output_type": "execute_result"
    }
   ],
   "source": [
    "timestamps"
   ]
  },
  {
   "cell_type": "code",
   "execution_count": 4,
   "id": "alternate-victory",
   "metadata": {
    "execution": {
     "iopub.execute_input": "2021-09-21T15:30:08.524581Z",
     "iopub.status.busy": "2021-09-21T15:30:08.522184Z",
     "iopub.status.idle": "2021-09-21T15:30:09.022698Z",
     "shell.execute_reply": "2021-09-21T15:30:09.024296Z"
    },
    "papermill": {
     "duration": 0.531121,
     "end_time": "2021-09-21T15:30:09.024759",
     "exception": false,
     "start_time": "2021-09-21T15:30:08.493638",
     "status": "completed"
    },
    "tags": []
   },
   "outputs": [],
   "source": [
    "df = pd.read_sql(\"select * from EBAY_TOP_BERLIN where record_time in (select distinct record_time from EBAY_TOP_BERLIN order by record_time desc limit 2)\", sqlite3.connect(\"UsedObjects.db\"))"
   ]
  },
  {
   "cell_type": "code",
   "execution_count": 5,
   "id": "popular-active",
   "metadata": {
    "execution": {
     "iopub.execute_input": "2021-09-21T15:30:09.100731Z",
     "iopub.status.busy": "2021-09-21T15:30:09.092033Z",
     "iopub.status.idle": "2021-09-21T15:30:09.121563Z",
     "shell.execute_reply": "2021-09-21T15:30:09.122761Z"
    },
    "papermill": {
     "duration": 0.072398,
     "end_time": "2021-09-21T15:30:09.123348",
     "exception": false,
     "start_time": "2021-09-21T15:30:09.050950",
     "status": "completed"
    },
    "tags": []
   },
   "outputs": [],
   "source": [
    "df_pivot = df.pivot_table(index=\"PRODUCT\", columns = \"RECORD_TIME\", values = \"LISTING_COUNT\")"
   ]
  },
  {
   "cell_type": "code",
   "execution_count": 6,
   "id": "union-huntington",
   "metadata": {
    "execution": {
     "iopub.execute_input": "2021-09-21T15:30:09.182337Z",
     "iopub.status.busy": "2021-09-21T15:30:09.179908Z",
     "iopub.status.idle": "2021-09-21T15:30:09.185499Z",
     "shell.execute_reply": "2021-09-21T15:30:09.186909Z"
    },
    "papermill": {
     "duration": 0.041977,
     "end_time": "2021-09-21T15:30:09.187349",
     "exception": false,
     "start_time": "2021-09-21T15:30:09.145372",
     "status": "completed"
    },
    "tags": []
   },
   "outputs": [],
   "source": [
    "df_pivot.columns = [\"stamp_1\", \"stamp_2\"]\n",
    "df_pivot_diff = df_pivot.diff(axis=1)"
   ]
  },
  {
   "cell_type": "code",
   "execution_count": 7,
   "id": "fifth-motion",
   "metadata": {
    "execution": {
     "iopub.execute_input": "2021-09-21T15:30:09.242016Z",
     "iopub.status.busy": "2021-09-21T15:30:09.239759Z",
     "iopub.status.idle": "2021-09-21T15:30:10.705769Z",
     "shell.execute_reply": "2021-09-21T15:30:10.707487Z"
    },
    "papermill": {
     "duration": 1.499436,
     "end_time": "2021-09-21T15:30:10.708013",
     "exception": false,
     "start_time": "2021-09-21T15:30:09.208577",
     "status": "completed"
    },
    "tags": []
   },
   "outputs": [
    {
     "data": {
      "text/plain": [
       "<AxesSubplot:ylabel='PRODUCT'>"
      ]
     },
     "execution_count": 7,
     "metadata": {},
     "output_type": "execute_result"
    },
    {
     "data": {
      "image/png": "[encoded data removed]",
      "text/plain": [
       "<Figure size 432x288 with 1 Axes>"
      ]
     },
     "metadata": {
      "needs_background": "light"
     },
     "output_type": "display_data"
    }
   ],
   "source": [
    "df_pivot_diff.sort_values(\"stamp_2\", ascending = False)[\"stamp_2\"].head(10).plot.barh()"
   ]
  },
  {
   "cell_type": "code",
   "execution_count": null,
   "id": "extra-executive",
   "metadata": {
    "papermill": {
     "duration": 0.022083,
     "end_time": "2021-09-21T15:30:10.755639",
     "exception": false,
     "start_time": "2021-09-21T15:30:10.733556",
     "status": "completed"
    },
    "tags": []
   },
   "outputs": [],
   "source": []
  }
 ],
 "metadata": {
  "kernelspec": {
   "display_name": "Python 3",
   "language": "python",
   "name": "python3"
  },
  "language_info": {
   "codemirror_mode": {
    "name": "ipython",
    "version": 3
   },
   "file_extension": ".py",
   "mimetype": "text/x-python",
   "name": "python",
   "nbconvert_exporter": "python",
   "pygments_lexer": "ipython3",
   "version": "3.9.5"
  },
  "papermill": {
   "default_parameters": {},
   "duration": 6.666844,
   "end_time": "2021-09-21T15:30:11.398543",
   "environment_variables": {},
   "exception": null,
   "input_path": "eBay_Overview.ipynb",
   "output_path": "eBay_Overview.ipynb",
   "parameters": {},
   "start_time": "2021-09-21T15:30:04.731699",
   "version": "2.3.3"
  }
 },
 "nbformat": 4,
 "nbformat_minor": 5
}