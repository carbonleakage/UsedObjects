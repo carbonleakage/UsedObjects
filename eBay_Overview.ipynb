{
 "cells": [
  {
   "cell_type": "code",
   "execution_count": 1,
   "id": "reverse-picking",
   "metadata": {
    "execution": {
     "iopub.execute_input": "2021-10-30T16:30:07.278343Z",
     "iopub.status.busy": "2021-10-30T16:30:07.276281Z",
     "iopub.status.idle": "2021-10-30T16:30:08.082336Z",
     "shell.execute_reply": "2021-10-30T16:30:08.083524Z"
    },
    "papermill": {
     "duration": 0.85874,
     "end_time": "2021-10-30T16:30:08.084165",
     "exception": false,
     "start_time": "2021-10-30T16:30:07.225425",
     "status": "completed"
    },
    "tags": []
   },
   "outputs": [],
   "source": [
    "import pandas as pd\n",
    "import sqlite3"
   ]
  },
  {
   "cell_type": "code",
   "execution_count": 2,
   "id": "innovative-syndrome",
   "metadata": {
    "execution": {
     "iopub.execute_input": "2021-10-30T16:30:08.135748Z",
     "iopub.status.busy": "2021-10-30T16:30:08.133889Z",
     "iopub.status.idle": "2021-10-30T16:30:08.798798Z",
     "shell.execute_reply": "2021-10-30T16:30:08.800184Z"
    },
    "papermill": {
     "duration": 0.694764,
     "end_time": "2021-10-30T16:30:08.800629",
     "exception": false,
     "start_time": "2021-10-30T16:30:08.105865",
     "status": "completed"
    },
    "tags": []
   },
   "outputs": [],
   "source": [
    "timestamps = pd.read_sql(\"select distinct record_time from EBAY_TOP_BERLIN order by record_time desc limit 2\", sqlite3.connect(\"UsedObjects.db\"))"
   ]
  },
  {
   "cell_type": "code",
   "execution_count": 3,
   "id": "periodic-identification",
   "metadata": {
    "execution": {
     "iopub.execute_input": "2021-10-30T16:30:08.875540Z",
     "iopub.status.busy": "2021-10-30T16:30:08.873509Z",
     "iopub.status.idle": "2021-10-30T16:30:08.893872Z",
     "shell.execute_reply": "2021-10-30T16:30:08.895193Z"
    },
    "papermill": {
     "duration": 0.070281,
     "end_time": "2021-10-30T16:30:08.895611",
     "exception": false,
     "start_time": "2021-10-30T16:30:08.825330",
     "status": "completed"
    },
    "tags": []
   },
   "outputs": [
    {
     "data": {
      "text/html": [
       "<div>\n",
       "<style scoped>\n",
       "    .dataframe tbody tr th:only-of-type {\n",
       "        vertical-align: middle;\n",
       "    }\n",
       "\n",
       "    .dataframe tbody tr th {\n",
       "        vertical-align: top;\n",
       "    }\n",
       "\n",
       "    .dataframe thead th {\n",
       "        text-align: right;\n",
       "    }\n",
       "</style>\n",
       "<table border=\"1\" class=\"dataframe\">\n",
       "  <thead>\n",
       "    <tr style=\"text-align: right;\">\n",
       "      <th></th>\n",
       "      <th>RECORD_TIME</th>\n",
       "    </tr>\n",
       "  </thead>\n",
       "  <tbody>\n",
       "    <tr>\n",
       "      <th>0</th>\n",
       "      <td>2021-10-30 18:30</td>\n",
       "    </tr>\n",
       "    <tr>\n",
       "      <th>1</th>\n",
       "      <td>2021-10-30 18:00</td>\n",
       "    </tr>\n",
       "  </tbody>\n",
       "</table>\n",
       "</div>"
      ],
      "text/plain": [
       "        RECORD_TIME\n",
       "0  2021-10-30 18:30\n",
       "1  2021-10-30 18:00"
      ]
     },
     "execution_count": 3,
     "metadata": {},
     "output_type": "execute_result"
    }
   ],
   "source": [
    "timestamps"
   ]
  },
  {
   "cell_type": "code",
   "execution_count": 4,
   "id": "alternate-victory",
   "metadata": {
    "execution": {
     "iopub.execute_input": "2021-10-30T16:30:08.947104Z",
     "iopub.status.busy": "2021-10-30T16:30:08.944949Z",
     "iopub.status.idle": "2021-10-30T16:30:09.944556Z",
     "shell.execute_reply": "2021-10-30T16:30:09.945931Z"
    },
    "papermill": {
     "duration": 1.029839,
     "end_time": "2021-10-30T16:30:09.946351",
     "exception": false,
     "start_time": "2021-10-30T16:30:08.916512",
     "status": "completed"
    },
    "tags": []
   },
   "outputs": [],
   "source": [
    "df = pd.read_sql(\"select * from EBAY_TOP_BERLIN where record_time in (select distinct record_time from EBAY_TOP_BERLIN order by record_time desc limit 2)\", sqlite3.connect(\"UsedObjects.db\"))"
   ]
  },
  {
   "cell_type": "code",
   "execution_count": 5,
   "id": "popular-active",
   "metadata": {
    "execution": {
     "iopub.execute_input": "2021-10-30T16:30:10.017396Z",
     "iopub.status.busy": "2021-10-30T16:30:10.015020Z",
     "iopub.status.idle": "2021-10-30T16:30:10.032430Z",
     "shell.execute_reply": "2021-10-30T16:30:10.033727Z"
    },
    "papermill": {
     "duration": 0.067078,
     "end_time": "2021-10-30T16:30:10.034133",
     "exception": false,
     "start_time": "2021-10-30T16:30:09.967055",
     "status": "completed"
    },
    "tags": []
   },
   "outputs": [],
   "source": [
    "df_pivot = df.pivot_table(index=\"PRODUCT\", columns = \"RECORD_TIME\", values = \"LISTING_COUNT\")"
   ]
  },
  {
   "cell_type": "code",
   "execution_count": 6,
   "id": "union-huntington",
   "metadata": {
    "execution": {
     "iopub.execute_input": "2021-10-30T16:30:10.090173Z",
     "iopub.status.busy": "2021-10-30T16:30:10.088040Z",
     "iopub.status.idle": "2021-10-30T16:30:10.093381Z",
     "shell.execute_reply": "2021-10-30T16:30:10.094725Z"
    },
    "papermill": {
     "duration": 0.040379,
     "end_time": "2021-10-30T16:30:10.095150",
     "exception": false,
     "start_time": "2021-10-30T16:30:10.054771",
     "status": "completed"
    },
    "tags": []
   },
   "outputs": [],
   "source": [
    "df_pivot.columns = [\"stamp_1\", \"stamp_2\"]\n",
    "df_pivot_diff = df_pivot.diff(axis=1)"
   ]
  },
  {
   "cell_type": "code",
   "execution_count": 7,
   "id": "fifth-motion",
   "metadata": {
    "execution": {
     "iopub.execute_input": "2021-10-30T16:30:10.149505Z",
     "iopub.status.busy": "2021-10-30T16:30:10.146917Z",
     "iopub.status.idle": "2021-10-30T16:30:11.661504Z",
     "shell.execute_reply": "2021-10-30T16:30:11.662897Z"
    },
    "papermill": {
     "duration": 1.547751,
     "end_time": "2021-10-30T16:30:11.663336",
     "exception": false,
     "start_time": "2021-10-30T16:30:10.115585",
     "status": "completed"
    },
    "tags": []
   },
   "outputs": [
    {
     "data": {
      "text/plain": [
       "<AxesSubplot:ylabel='PRODUCT'>"
      ]
     },
     "execution_count": 7,
     "metadata": {},
     "output_type": "execute_result"
    },
    {
     "data": {
      "image/png": "[encoded data removed]",
      "text/plain": [
       "<Figure size 432x288 with 1 Axes>"
      ]
     },
     "metadata": {
      "needs_background": "light"
     },
     "output_type": "display_data"
    }
   ],
   "source": [
    "df_pivot_diff.sort_values(\"stamp_2\", ascending = False)[\"stamp_2\"].head(10).plot.barh()"
   ]
  },
  {
   "cell_type": "code",
   "execution_count": null,
   "id": "extra-executive",
   "metadata": {
    "papermill": {
     "duration": 0.022088,
     "end_time": "2021-10-30T16:30:11.710398",
     "exception": false,
     "start_time": "2021-10-30T16:30:11.688310",
     "status": "completed"
    },
    "tags": []
   },
   "outputs": [],
   "source": []
  }
 ],
 "metadata": {
  "kernelspec": {
   "display_name": "Python 3",
   "language": "python",
   "name": "python3"
  },
  "language_info": {
   "codemirror_mode": {
    "name": "ipython",
    "version": 3
   },
   "file_extension": ".py",
   "mimetype": "text/x-python",
   "name": "python",
   "nbconvert_exporter": "python",
   "pygments_lexer": "ipython3",
   "version": "3.9.5"
  },
  "papermill": {
   "default_parameters": {},
   "duration": 7.536548,
   "end_time": "2021-10-30T16:30:12.353653",
   "environment_variables": {},
   "exception": null,
   "input_path": "eBay_Overview.ipynb",
   "output_path": "eBay_Overview.ipynb",
   "parameters": {},
   "start_time": "2021-10-30T16:30:04.817105",
   "version": "2.3.3"
  }
 },
 "nbformat": 4,
 "nbformat_minor": 5
}