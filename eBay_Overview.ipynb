{
 "cells": [
  {
   "cell_type": "code",
   "execution_count": 1,
   "id": "reverse-picking",
   "metadata": {
    "execution": {
     "iopub.execute_input": "2021-10-27T15:00:07.183785Z",
     "iopub.status.busy": "2021-10-27T15:00:07.181857Z",
     "iopub.status.idle": "2021-10-27T15:00:07.987575Z",
     "shell.execute_reply": "2021-10-27T15:00:07.986033Z"
    },
    "papermill": {
     "duration": 0.854369,
     "end_time": "2021-10-27T15:00:07.987979",
     "exception": false,
     "start_time": "2021-10-27T15:00:07.133610",
     "status": "completed"
    },
    "tags": []
   },
   "outputs": [],
   "source": [
    "import pandas as pd\n",
    "import sqlite3"
   ]
  },
  {
   "cell_type": "code",
   "execution_count": 2,
   "id": "innovative-syndrome",
   "metadata": {
    "execution": {
     "iopub.execute_input": "2021-10-27T15:00:08.038824Z",
     "iopub.status.busy": "2021-10-27T15:00:08.036965Z",
     "iopub.status.idle": "2021-10-27T15:00:08.679222Z",
     "shell.execute_reply": "2021-10-27T15:00:08.680487Z"
    },
    "papermill": {
     "duration": 0.67204,
     "end_time": "2021-10-27T15:00:08.680973",
     "exception": false,
     "start_time": "2021-10-27T15:00:08.008933",
     "status": "completed"
    },
    "tags": []
   },
   "outputs": [],
   "source": [
    "timestamps = pd.read_sql(\"select distinct record_time from EBAY_TOP_BERLIN order by record_time desc limit 2\", sqlite3.connect(\"UsedObjects.db\"))"
   ]
  },
  {
   "cell_type": "code",
   "execution_count": 3,
   "id": "periodic-identification",
   "metadata": {
    "execution": {
     "iopub.execute_input": "2021-10-27T15:00:08.755281Z",
     "iopub.status.busy": "2021-10-27T15:00:08.753281Z",
     "iopub.status.idle": "2021-10-27T15:00:08.773270Z",
     "shell.execute_reply": "2021-10-27T15:00:08.774574Z"
    },
    "papermill": {
     "duration": 0.068933,
     "end_time": "2021-10-27T15:00:08.774994",
     "exception": false,
     "start_time": "2021-10-27T15:00:08.706061",
     "status": "completed"
    },
    "tags": []
   },
   "outputs": [
    {
     "data": {
      "text/html": [
       "<div>\n",
       "<style scoped>\n",
       "    .dataframe tbody tr th:only-of-type {\n",
       "        vertical-align: middle;\n",
       "    }\n",
       "\n",
       "    .dataframe tbody tr th {\n",
       "        vertical-align: top;\n",
       "    }\n",
       "\n",
       "    .dataframe thead th {\n",
       "        text-align: right;\n",
       "    }\n",
       "</style>\n",
       "<table border=\"1\" class=\"dataframe\">\n",
       "  <thead>\n",
       "    <tr style=\"text-align: right;\">\n",
       "      <th></th>\n",
       "      <th>RECORD_TIME</th>\n",
       "    </tr>\n",
       "  </thead>\n",
       "  <tbody>\n",
       "    <tr>\n",
       "      <th>0</th>\n",
       "      <td>2021-10-27 17:00</td>\n",
       "    </tr>\n",
       "    <tr>\n",
       "      <th>1</th>\n",
       "      <td>2021-10-27 16:30</td>\n",
       "    </tr>\n",
       "  </tbody>\n",
       "</table>\n",
       "</div>"
      ],
      "text/plain": [
       "        RECORD_TIME\n",
       "0  2021-10-27 17:00\n",
       "1  2021-10-27 16:30"
      ]
     },
     "execution_count": 3,
     "metadata": {},
     "output_type": "execute_result"
    }
   ],
   "source": [
    "timestamps"
   ]
  },
  {
   "cell_type": "code",
   "execution_count": 4,
   "id": "alternate-victory",
   "metadata": {
    "execution": {
     "iopub.execute_input": "2021-10-27T15:00:08.825491Z",
     "iopub.status.busy": "2021-10-27T15:00:08.823554Z",
     "iopub.status.idle": "2021-10-27T15:00:09.781147Z",
     "shell.execute_reply": "2021-10-27T15:00:09.782364Z"
    },
    "papermill": {
     "duration": 0.987275,
     "end_time": "2021-10-27T15:00:09.782765",
     "exception": false,
     "start_time": "2021-10-27T15:00:08.795490",
     "status": "completed"
    },
    "tags": []
   },
   "outputs": [],
   "source": [
    "df = pd.read_sql(\"select * from EBAY_TOP_BERLIN where record_time in (select distinct record_time from EBAY_TOP_BERLIN order by record_time desc limit 2)\", sqlite3.connect(\"UsedObjects.db\"))"
   ]
  },
  {
   "cell_type": "code",
   "execution_count": 5,
   "id": "popular-active",
   "metadata": {
    "execution": {
     "iopub.execute_input": "2021-10-27T15:00:09.853896Z",
     "iopub.status.busy": "2021-10-27T15:00:09.840957Z",
     "iopub.status.idle": "2021-10-27T15:00:09.869845Z",
     "shell.execute_reply": "2021-10-27T15:00:09.871062Z"
    },
    "papermill": {
     "duration": 0.068093,
     "end_time": "2021-10-27T15:00:09.871460",
     "exception": false,
     "start_time": "2021-10-27T15:00:09.803367",
     "status": "completed"
    },
    "tags": []
   },
   "outputs": [],
   "source": [
    "df_pivot = df.pivot_table(index=\"PRODUCT\", columns = \"RECORD_TIME\", values = \"LISTING_COUNT\")"
   ]
  },
  {
   "cell_type": "code",
   "execution_count": 6,
   "id": "union-huntington",
   "metadata": {
    "execution": {
     "iopub.execute_input": "2021-10-27T15:00:09.927663Z",
     "iopub.status.busy": "2021-10-27T15:00:09.925635Z",
     "iopub.status.idle": "2021-10-27T15:00:09.930913Z",
     "shell.execute_reply": "2021-10-27T15:00:09.932094Z"
    },
    "papermill": {
     "duration": 0.040241,
     "end_time": "2021-10-27T15:00:09.932521",
     "exception": false,
     "start_time": "2021-10-27T15:00:09.892280",
     "status": "completed"
    },
    "tags": []
   },
   "outputs": [],
   "source": [
    "df_pivot.columns = [\"stamp_1\", \"stamp_2\"]\n",
    "df_pivot_diff = df_pivot.diff(axis=1)"
   ]
  },
  {
   "cell_type": "code",
   "execution_count": 7,
   "id": "fifth-motion",
   "metadata": {
    "execution": {
     "iopub.execute_input": "2021-10-27T15:00:09.987109Z",
     "iopub.status.busy": "2021-10-27T15:00:09.984773Z",
     "iopub.status.idle": "2021-10-27T15:00:11.452085Z",
     "shell.execute_reply": "2021-10-27T15:00:11.453807Z"
    },
    "papermill": {
     "duration": 1.501053,
     "end_time": "2021-10-27T15:00:11.454342",
     "exception": false,
     "start_time": "2021-10-27T15:00:09.953289",
     "status": "completed"
    },
    "tags": []
   },
   "outputs": [
    {
     "data": {
      "text/plain": [
       "<AxesSubplot:ylabel='PRODUCT'>"
      ]
     },
     "execution_count": 7,
     "metadata": {},
     "output_type": "execute_result"
    },
    {
     "data": {
      "image/png": "[encoded data removed]",
      "text/plain": [
       "<Figure size 432x288 with 1 Axes>"
      ]
     },
     "metadata": {
      "needs_background": "light"
     },
     "output_type": "display_data"
    }
   ],
   "source": [
    "df_pivot_diff.sort_values(\"stamp_2\", ascending = False)[\"stamp_2\"].head(10).plot.barh()"
   ]
  },
  {
   "cell_type": "code",
   "execution_count": null,
   "id": "extra-executive",
   "metadata": {
    "papermill": {
     "duration": 0.022076,
     "end_time": "2021-10-27T15:00:11.501176",
     "exception": false,
     "start_time": "2021-10-27T15:00:11.479100",
     "status": "completed"
    },
    "tags": []
   },
   "outputs": [],
   "source": []
  }
 ],
 "metadata": {
  "kernelspec": {
   "display_name": "Python 3",
   "language": "python",
   "name": "python3"
  },
  "language_info": {
   "codemirror_mode": {
    "name": "ipython",
    "version": 3
   },
   "file_extension": ".py",
   "mimetype": "text/x-python",
   "name": "python",
   "nbconvert_exporter": "python",
   "pygments_lexer": "ipython3",
   "version": "3.9.5"
  },
  "papermill": {
   "default_parameters": {},
   "duration": 7.409626,
   "end_time": "2021-10-27T15:00:12.144517",
   "environment_variables": {},
   "exception": null,
   "input_path": "eBay_Overview.ipynb",
   "output_path": "eBay_Overview.ipynb",
   "parameters": {},
   "start_time": "2021-10-27T15:00:04.734891",
   "version": "2.3.3"
  }
 },
 "nbformat": 4,
 "nbformat_minor": 5
}