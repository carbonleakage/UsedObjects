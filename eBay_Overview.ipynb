{
 "cells": [
  {
   "cell_type": "code",
   "execution_count": 1,
   "id": "reverse-picking",
   "metadata": {
    "execution": {
     "iopub.execute_input": "2021-09-26T01:00:07.448058Z",
     "iopub.status.busy": "2021-09-26T01:00:07.446077Z",
     "iopub.status.idle": "2021-09-26T01:00:08.251165Z",
     "shell.execute_reply": "2021-09-26T01:00:08.252429Z"
    },
    "papermill": {
     "duration": 0.85515,
     "end_time": "2021-09-26T01:00:08.253037",
     "exception": false,
     "start_time": "2021-09-26T01:00:07.397887",
     "status": "completed"
    },
    "tags": []
   },
   "outputs": [],
   "source": [
    "import pandas as pd\n",
    "import sqlite3"
   ]
  },
  {
   "cell_type": "code",
   "execution_count": 2,
   "id": "innovative-syndrome",
   "metadata": {
    "execution": {
     "iopub.execute_input": "2021-09-26T01:00:08.304775Z",
     "iopub.status.busy": "2021-09-26T01:00:08.302516Z",
     "iopub.status.idle": "2021-09-26T01:00:08.687186Z",
     "shell.execute_reply": "2021-09-26T01:00:08.688685Z"
    },
    "papermill": {
     "duration": 0.414394,
     "end_time": "2021-09-26T01:00:08.689134",
     "exception": false,
     "start_time": "2021-09-26T01:00:08.274740",
     "status": "completed"
    },
    "tags": []
   },
   "outputs": [],
   "source": [
    "timestamps = pd.read_sql(\"select distinct record_time from EBAY_TOP_BERLIN order by record_time desc limit 2\", sqlite3.connect(\"UsedObjects.db\"))"
   ]
  },
  {
   "cell_type": "code",
   "execution_count": 3,
   "id": "periodic-identification",
   "metadata": {
    "execution": {
     "iopub.execute_input": "2021-09-26T01:00:08.756111Z",
     "iopub.status.busy": "2021-09-26T01:00:08.754063Z",
     "iopub.status.idle": "2021-09-26T01:00:08.773889Z",
     "shell.execute_reply": "2021-09-26T01:00:08.775251Z"
    },
    "papermill": {
     "duration": 0.066587,
     "end_time": "2021-09-26T01:00:08.775678",
     "exception": false,
     "start_time": "2021-09-26T01:00:08.709091",
     "status": "completed"
    },
    "tags": []
   },
   "outputs": [
    {
     "data": {
      "text/html": [
       "<div>\n",
       "<style scoped>\n",
       "    .dataframe tbody tr th:only-of-type {\n",
       "        vertical-align: middle;\n",
       "    }\n",
       "\n",
       "    .dataframe tbody tr th {\n",
       "        vertical-align: top;\n",
       "    }\n",
       "\n",
       "    .dataframe thead th {\n",
       "        text-align: right;\n",
       "    }\n",
       "</style>\n",
       "<table border=\"1\" class=\"dataframe\">\n",
       "  <thead>\n",
       "    <tr style=\"text-align: right;\">\n",
       "      <th></th>\n",
       "      <th>RECORD_TIME</th>\n",
       "    </tr>\n",
       "  </thead>\n",
       "  <tbody>\n",
       "    <tr>\n",
       "      <th>0</th>\n",
       "      <td>2021-09-26 03:00</td>\n",
       "    </tr>\n",
       "    <tr>\n",
       "      <th>1</th>\n",
       "      <td>2021-09-26 02:30</td>\n",
       "    </tr>\n",
       "  </tbody>\n",
       "</table>\n",
       "</div>"
      ],
      "text/plain": [
       "        RECORD_TIME\n",
       "0  2021-09-26 03:00\n",
       "1  2021-09-26 02:30"
      ]
     },
     "execution_count": 3,
     "metadata": {},
     "output_type": "execute_result"
    }
   ],
   "source": [
    "timestamps"
   ]
  },
  {
   "cell_type": "code",
   "execution_count": 4,
   "id": "alternate-victory",
   "metadata": {
    "execution": {
     "iopub.execute_input": "2021-09-26T01:00:08.827701Z",
     "iopub.status.busy": "2021-09-26T01:00:08.825589Z",
     "iopub.status.idle": "2021-09-26T01:00:09.378073Z",
     "shell.execute_reply": "2021-09-26T01:00:09.379651Z"
    },
    "papermill": {
     "duration": 0.583111,
     "end_time": "2021-09-26T01:00:09.380094",
     "exception": false,
     "start_time": "2021-09-26T01:00:08.796983",
     "status": "completed"
    },
    "tags": []
   },
   "outputs": [],
   "source": [
    "df = pd.read_sql(\"select * from EBAY_TOP_BERLIN where record_time in (select distinct record_time from EBAY_TOP_BERLIN order by record_time desc limit 2)\", sqlite3.connect(\"UsedObjects.db\"))"
   ]
  },
  {
   "cell_type": "code",
   "execution_count": 5,
   "id": "popular-active",
   "metadata": {
    "execution": {
     "iopub.execute_input": "2021-09-26T01:00:09.464848Z",
     "iopub.status.busy": "2021-09-26T01:00:09.452919Z",
     "iopub.status.idle": "2021-09-26T01:00:09.480295Z",
     "shell.execute_reply": "2021-09-26T01:00:09.481512Z"
    },
    "papermill": {
     "duration": 0.072421,
     "end_time": "2021-09-26T01:00:09.481908",
     "exception": false,
     "start_time": "2021-09-26T01:00:09.409487",
     "status": "completed"
    },
    "tags": []
   },
   "outputs": [],
   "source": [
    "df_pivot = df.pivot_table(index=\"PRODUCT\", columns = \"RECORD_TIME\", values = \"LISTING_COUNT\")"
   ]
  },
  {
   "cell_type": "code",
   "execution_count": 6,
   "id": "union-huntington",
   "metadata": {
    "execution": {
     "iopub.execute_input": "2021-09-26T01:00:09.541285Z",
     "iopub.status.busy": "2021-09-26T01:00:09.538874Z",
     "iopub.status.idle": "2021-09-26T01:00:09.544938Z",
     "shell.execute_reply": "2021-09-26T01:00:09.546384Z"
    },
    "papermill": {
     "duration": 0.042697,
     "end_time": "2021-09-26T01:00:09.546894",
     "exception": false,
     "start_time": "2021-09-26T01:00:09.504197",
     "status": "completed"
    },
    "tags": []
   },
   "outputs": [],
   "source": [
    "df_pivot.columns = [\"stamp_1\", \"stamp_2\"]\n",
    "df_pivot_diff = df_pivot.diff(axis=1)"
   ]
  },
  {
   "cell_type": "code",
   "execution_count": 7,
   "id": "fifth-motion",
   "metadata": {
    "execution": {
     "iopub.execute_input": "2021-09-26T01:00:09.601776Z",
     "iopub.status.busy": "2021-09-26T01:00:09.599401Z",
     "iopub.status.idle": "2021-09-26T01:00:11.066724Z",
     "shell.execute_reply": "2021-09-26T01:00:11.068075Z"
    },
    "papermill": {
     "duration": 1.50021,
     "end_time": "2021-09-26T01:00:11.068500",
     "exception": false,
     "start_time": "2021-09-26T01:00:09.568290",
     "status": "completed"
    },
    "tags": []
   },
   "outputs": [
    {
     "data": {
      "text/plain": [
       "<AxesSubplot:ylabel='PRODUCT'>"
      ]
     },
     "execution_count": 7,
     "metadata": {},
     "output_type": "execute_result"
    },
    {
     "data": {
      "image/png": "[encoded data removed]",
      "text/plain": [
       "<Figure size 432x288 with 1 Axes>"
      ]
     },
     "metadata": {
      "needs_background": "light"
     },
     "output_type": "display_data"
    }
   ],
   "source": [
    "df_pivot_diff.sort_values(\"stamp_2\", ascending = False)[\"stamp_2\"].head(10).plot.barh()"
   ]
  },
  {
   "cell_type": "code",
   "execution_count": null,
   "id": "extra-executive",
   "metadata": {
    "papermill": {
     "duration": 0.022125,
     "end_time": "2021-09-26T01:00:11.114414",
     "exception": false,
     "start_time": "2021-09-26T01:00:11.092289",
     "status": "completed"
    },
    "tags": []
   },
   "outputs": [],
   "source": []
  }
 ],
 "metadata": {
  "kernelspec": {
   "display_name": "Python 3",
   "language": "python",
   "name": "python3"
  },
  "language_info": {
   "codemirror_mode": {
    "name": "ipython",
    "version": 3
   },
   "file_extension": ".py",
   "mimetype": "text/x-python",
   "name": "python",
   "nbconvert_exporter": "python",
   "pygments_lexer": "ipython3",
   "version": "3.9.5"
  },
  "papermill": {
   "default_parameters": {},
   "duration": 6.752466,
   "end_time": "2021-09-26T01:00:11.757069",
   "environment_variables": {},
   "exception": null,
   "input_path": "eBay_Overview.ipynb",
   "output_path": "eBay_Overview.ipynb",
   "parameters": {},
   "start_time": "2021-09-26T01:00:05.004603",
   "version": "2.3.3"
  }
 },
 "nbformat": 4,
 "nbformat_minor": 5
}