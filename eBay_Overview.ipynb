{
 "cells": [
  {
   "cell_type": "code",
   "execution_count": 1,
   "id": "reverse-picking",
   "metadata": {
    "execution": {
     "iopub.execute_input": "2021-11-22T19:00:07.796650Z",
     "iopub.status.busy": "2021-11-22T19:00:07.794294Z",
     "iopub.status.idle": "2021-11-22T19:00:08.757637Z",
     "shell.execute_reply": "2021-11-22T19:00:08.759361Z"
    },
    "papermill": {
     "duration": 1.015097,
     "end_time": "2021-11-22T19:00:08.760132",
     "exception": false,
     "start_time": "2021-11-22T19:00:07.745035",
     "status": "completed"
    },
    "tags": []
   },
   "outputs": [],
   "source": [
    "import pandas as pd\n",
    "import sqlite3"
   ]
  },
  {
   "cell_type": "code",
   "execution_count": 2,
   "id": "innovative-syndrome",
   "metadata": {
    "execution": {
     "iopub.execute_input": "2021-11-22T19:00:08.825958Z",
     "iopub.status.busy": "2021-11-22T19:00:08.823127Z",
     "iopub.status.idle": "2021-11-22T19:00:09.712247Z",
     "shell.execute_reply": "2021-11-22T19:00:09.714112Z"
    },
    "papermill": {
     "duration": 0.924582,
     "end_time": "2021-11-22T19:00:09.714723",
     "exception": false,
     "start_time": "2021-11-22T19:00:08.790141",
     "status": "completed"
    },
    "tags": []
   },
   "outputs": [],
   "source": [
    "timestamps = pd.read_sql(\"select distinct record_time from EBAY_TOP_BERLIN order by record_time desc limit 2\", sqlite3.connect(\"UsedObjects.db\"))"
   ]
  },
  {
   "cell_type": "code",
   "execution_count": 3,
   "id": "periodic-identification",
   "metadata": {
    "execution": {
     "iopub.execute_input": "2021-11-22T19:00:09.790701Z",
     "iopub.status.busy": "2021-11-22T19:00:09.787540Z",
     "iopub.status.idle": "2021-11-22T19:00:09.811044Z",
     "shell.execute_reply": "2021-11-22T19:00:09.812461Z"
    },
    "papermill": {
     "duration": 0.075533,
     "end_time": "2021-11-22T19:00:09.813047",
     "exception": false,
     "start_time": "2021-11-22T19:00:09.737514",
     "status": "completed"
    },
    "tags": []
   },
   "outputs": [
    {
     "data": {
      "text/html": [
       "<div>\n",
       "<style scoped>\n",
       "    .dataframe tbody tr th:only-of-type {\n",
       "        vertical-align: middle;\n",
       "    }\n",
       "\n",
       "    .dataframe tbody tr th {\n",
       "        vertical-align: top;\n",
       "    }\n",
       "\n",
       "    .dataframe thead th {\n",
       "        text-align: right;\n",
       "    }\n",
       "</style>\n",
       "<table border=\"1\" class=\"dataframe\">\n",
       "  <thead>\n",
       "    <tr style=\"text-align: right;\">\n",
       "      <th></th>\n",
       "      <th>RECORD_TIME</th>\n",
       "    </tr>\n",
       "  </thead>\n",
       "  <tbody>\n",
       "    <tr>\n",
       "      <th>0</th>\n",
       "      <td>2021-11-22 20:00</td>\n",
       "    </tr>\n",
       "    <tr>\n",
       "      <th>1</th>\n",
       "      <td>2021-11-22 19:30</td>\n",
       "    </tr>\n",
       "  </tbody>\n",
       "</table>\n",
       "</div>"
      ],
      "text/plain": [
       "        RECORD_TIME\n",
       "0  2021-11-22 20:00\n",
       "1  2021-11-22 19:30"
      ]
     },
     "execution_count": 3,
     "metadata": {},
     "output_type": "execute_result"
    }
   ],
   "source": [
    "timestamps"
   ]
  },
  {
   "cell_type": "code",
   "execution_count": 4,
   "id": "alternate-victory",
   "metadata": {
    "execution": {
     "iopub.execute_input": "2021-11-22T19:00:09.870400Z",
     "iopub.status.busy": "2021-11-22T19:00:09.867729Z",
     "iopub.status.idle": "2021-11-22T19:00:11.183746Z",
     "shell.execute_reply": "2021-11-22T19:00:11.185762Z"
    },
    "papermill": {
     "duration": 1.352001,
     "end_time": "2021-11-22T19:00:11.186259",
     "exception": false,
     "start_time": "2021-11-22T19:00:09.834258",
     "status": "completed"
    },
    "tags": []
   },
   "outputs": [],
   "source": [
    "df = pd.read_sql(\"select * from EBAY_TOP_BERLIN where record_time in (select distinct record_time from EBAY_TOP_BERLIN order by record_time desc limit 2)\", sqlite3.connect(\"UsedObjects.db\"))"
   ]
  },
  {
   "cell_type": "code",
   "execution_count": 5,
   "id": "popular-active",
   "metadata": {
    "execution": {
     "iopub.execute_input": "2021-11-22T19:00:11.258813Z",
     "iopub.status.busy": "2021-11-22T19:00:11.252273Z",
     "iopub.status.idle": "2021-11-22T19:00:11.283934Z",
     "shell.execute_reply": "2021-11-22T19:00:11.285236Z"
    },
    "papermill": {
     "duration": 0.076902,
     "end_time": "2021-11-22T19:00:11.285699",
     "exception": false,
     "start_time": "2021-11-22T19:00:11.208797",
     "status": "completed"
    },
    "tags": []
   },
   "outputs": [],
   "source": [
    "df_pivot = df.pivot_table(index=\"PRODUCT\", columns = \"RECORD_TIME\", values = \"LISTING_COUNT\")"
   ]
  },
  {
   "cell_type": "code",
   "execution_count": 6,
   "id": "union-huntington",
   "metadata": {
    "execution": {
     "iopub.execute_input": "2021-11-22T19:00:11.345128Z",
     "iopub.status.busy": "2021-11-22T19:00:11.342910Z",
     "iopub.status.idle": "2021-11-22T19:00:11.348568Z",
     "shell.execute_reply": "2021-11-22T19:00:11.350130Z"
    },
    "papermill": {
     "duration": 0.044141,
     "end_time": "2021-11-22T19:00:11.350631",
     "exception": false,
     "start_time": "2021-11-22T19:00:11.306490",
     "status": "completed"
    },
    "tags": []
   },
   "outputs": [],
   "source": [
    "df_pivot.columns = [\"stamp_1\", \"stamp_2\"]\n",
    "df_pivot_diff = df_pivot.diff(axis=1)"
   ]
  },
  {
   "cell_type": "code",
   "execution_count": 7,
   "id": "fifth-motion",
   "metadata": {
    "execution": {
     "iopub.execute_input": "2021-11-22T19:00:11.412075Z",
     "iopub.status.busy": "2021-11-22T19:00:11.409544Z",
     "iopub.status.idle": "2021-11-22T19:00:13.332345Z",
     "shell.execute_reply": "2021-11-22T19:00:13.333876Z"
    },
    "papermill": {
     "duration": 1.961743,
     "end_time": "2021-11-22T19:00:13.334359",
     "exception": false,
     "start_time": "2021-11-22T19:00:11.372616",
     "status": "completed"
    },
    "tags": []
   },
   "outputs": [
    {
     "data": {
      "text/plain": [
       "<AxesSubplot:ylabel='PRODUCT'>"
      ]
     },
     "execution_count": 7,
     "metadata": {},
     "output_type": "execute_result"
    },
    {
     "data": {
      "image/png": "[encoded data removed]",
      "text/plain": [
       "<Figure size 432x288 with 1 Axes>"
      ]
     },
     "metadata": {
      "needs_background": "light"
     },
     "output_type": "display_data"
    }
   ],
   "source": [
    "df_pivot_diff.sort_values(\"stamp_2\", ascending = False)[\"stamp_2\"].head(10).plot.barh()"
   ]
  },
  {
   "cell_type": "code",
   "execution_count": null,
   "id": "extra-executive",
   "metadata": {
    "papermill": {
     "duration": 0.023917,
     "end_time": "2021-11-22T19:00:13.382464",
     "exception": false,
     "start_time": "2021-11-22T19:00:13.358547",
     "status": "completed"
    },
    "tags": []
   },
   "outputs": [],
   "source": []
  }
 ],
 "metadata": {
  "kernelspec": {
   "display_name": "Python 3",
   "language": "python",
   "name": "python3"
  },
  "language_info": {
   "codemirror_mode": {
    "name": "ipython",
    "version": 3
   },
   "file_extension": ".py",
   "mimetype": "text/x-python",
   "name": "python",
   "nbconvert_exporter": "python",
   "pygments_lexer": "ipython3",
   "version": "3.9.5"
  },
  "papermill": {
   "default_parameters": {},
   "duration": 9.923803,
   "end_time": "2021-11-22T19:00:14.942603",
   "environment_variables": {},
   "exception": null,
   "input_path": "eBay_Overview.ipynb",
   "output_path": "eBay_Overview.ipynb",
   "parameters": {},
   "start_time": "2021-11-22T19:00:05.018800",
   "version": "2.3.3"
  }
 },
 "nbformat": 4,
 "nbformat_minor": 5
}