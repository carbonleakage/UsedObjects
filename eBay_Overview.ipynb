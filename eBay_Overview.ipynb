{
 "cells": [
  {
   "cell_type": "code",
   "execution_count": 1,
   "id": "reverse-picking",
   "metadata": {
    "execution": {
     "iopub.execute_input": "2021-12-07T01:00:07.248020Z",
     "iopub.status.busy": "2021-12-07T01:00:07.242699Z",
     "iopub.status.idle": "2021-12-07T01:00:08.204637Z",
     "shell.execute_reply": "2021-12-07T01:00:08.206319Z"
    },
    "papermill": {
     "duration": 1.005349,
     "end_time": "2021-12-07T01:00:08.207049",
     "exception": false,
     "start_time": "2021-12-07T01:00:07.201700",
     "status": "completed"
    },
    "tags": []
   },
   "outputs": [],
   "source": [
    "import pandas as pd\n",
    "import sqlite3"
   ]
  },
  {
   "cell_type": "code",
   "execution_count": 2,
   "id": "innovative-syndrome",
   "metadata": {
    "execution": {
     "iopub.execute_input": "2021-12-07T01:00:08.336857Z",
     "iopub.status.busy": "2021-12-07T01:00:08.334592Z",
     "iopub.status.idle": "2021-12-07T01:00:09.333129Z",
     "shell.execute_reply": "2021-12-07T01:00:09.334833Z"
    },
    "papermill": {
     "duration": 1.039109,
     "end_time": "2021-12-07T01:00:09.335374",
     "exception": false,
     "start_time": "2021-12-07T01:00:08.296265",
     "status": "completed"
    },
    "tags": []
   },
   "outputs": [],
   "source": [
    "timestamps = pd.read_sql(\"select distinct record_time from EBAY_TOP_BERLIN order by record_time desc limit 2\", sqlite3.connect(\"UsedObjects.db\"))"
   ]
  },
  {
   "cell_type": "code",
   "execution_count": 3,
   "id": "periodic-identification",
   "metadata": {
    "execution": {
     "iopub.execute_input": "2021-12-07T01:00:09.406120Z",
     "iopub.status.busy": "2021-12-07T01:00:09.403814Z",
     "iopub.status.idle": "2021-12-07T01:00:09.425852Z",
     "shell.execute_reply": "2021-12-07T01:00:09.427169Z"
    },
    "papermill": {
     "duration": 0.070576,
     "end_time": "2021-12-07T01:00:09.427641",
     "exception": false,
     "start_time": "2021-12-07T01:00:09.357065",
     "status": "completed"
    },
    "tags": []
   },
   "outputs": [
    {
     "data": {
      "text/html": [
       "<div>\n",
       "<style scoped>\n",
       "    .dataframe tbody tr th:only-of-type {\n",
       "        vertical-align: middle;\n",
       "    }\n",
       "\n",
       "    .dataframe tbody tr th {\n",
       "        vertical-align: top;\n",
       "    }\n",
       "\n",
       "    .dataframe thead th {\n",
       "        text-align: right;\n",
       "    }\n",
       "</style>\n",
       "<table border=\"1\" class=\"dataframe\">\n",
       "  <thead>\n",
       "    <tr style=\"text-align: right;\">\n",
       "      <th></th>\n",
       "      <th>RECORD_TIME</th>\n",
       "    </tr>\n",
       "  </thead>\n",
       "  <tbody>\n",
       "    <tr>\n",
       "      <th>0</th>\n",
       "      <td>2021-12-07 02:00</td>\n",
       "    </tr>\n",
       "    <tr>\n",
       "      <th>1</th>\n",
       "      <td>2021-12-07 01:30</td>\n",
       "    </tr>\n",
       "  </tbody>\n",
       "</table>\n",
       "</div>"
      ],
      "text/plain": [
       "        RECORD_TIME\n",
       "0  2021-12-07 02:00\n",
       "1  2021-12-07 01:30"
      ]
     },
     "execution_count": 3,
     "metadata": {},
     "output_type": "execute_result"
    }
   ],
   "source": [
    "timestamps"
   ]
  },
  {
   "cell_type": "code",
   "execution_count": 4,
   "id": "alternate-victory",
   "metadata": {
    "execution": {
     "iopub.execute_input": "2021-12-07T01:00:09.480636Z",
     "iopub.status.busy": "2021-12-07T01:00:09.478491Z",
     "iopub.status.idle": "2021-12-07T01:00:10.926062Z",
     "shell.execute_reply": "2021-12-07T01:00:10.928161Z"
    },
    "papermill": {
     "duration": 1.480943,
     "end_time": "2021-12-07T01:00:10.928630",
     "exception": false,
     "start_time": "2021-12-07T01:00:09.447687",
     "status": "completed"
    },
    "tags": []
   },
   "outputs": [],
   "source": [
    "df = pd.read_sql(\"select * from EBAY_TOP_BERLIN where record_time in (select distinct record_time from EBAY_TOP_BERLIN order by record_time desc limit 2)\", sqlite3.connect(\"UsedObjects.db\"))"
   ]
  },
  {
   "cell_type": "code",
   "execution_count": 5,
   "id": "popular-active",
   "metadata": {
    "execution": {
     "iopub.execute_input": "2021-12-07T01:00:11.004063Z",
     "iopub.status.busy": "2021-12-07T01:00:10.990229Z",
     "iopub.status.idle": "2021-12-07T01:00:11.021829Z",
     "shell.execute_reply": "2021-12-07T01:00:11.023675Z"
    },
    "papermill": {
     "duration": 0.07485,
     "end_time": "2021-12-07T01:00:11.024158",
     "exception": false,
     "start_time": "2021-12-07T01:00:10.949308",
     "status": "completed"
    },
    "tags": []
   },
   "outputs": [],
   "source": [
    "df_pivot = df.pivot_table(index=\"PRODUCT\", columns = \"RECORD_TIME\", values = \"LISTING_COUNT\")"
   ]
  },
  {
   "cell_type": "code",
   "execution_count": 6,
   "id": "union-huntington",
   "metadata": {
    "execution": {
     "iopub.execute_input": "2021-12-07T01:00:11.112570Z",
     "iopub.status.busy": "2021-12-07T01:00:11.109068Z",
     "iopub.status.idle": "2021-12-07T01:00:11.119389Z",
     "shell.execute_reply": "2021-12-07T01:00:11.121825Z"
    },
    "papermill": {
     "duration": 0.071816,
     "end_time": "2021-12-07T01:00:11.122466",
     "exception": false,
     "start_time": "2021-12-07T01:00:11.050650",
     "status": "completed"
    },
    "tags": []
   },
   "outputs": [],
   "source": [
    "df_pivot.columns = [\"stamp_1\", \"stamp_2\"]\n",
    "df_pivot_diff = df_pivot.diff(axis=1)"
   ]
  },
  {
   "cell_type": "code",
   "execution_count": 7,
   "id": "fifth-motion",
   "metadata": {
    "execution": {
     "iopub.execute_input": "2021-12-07T01:00:11.206690Z",
     "iopub.status.busy": "2021-12-07T01:00:11.203084Z",
     "iopub.status.idle": "2021-12-07T01:00:12.999684Z",
     "shell.execute_reply": "2021-12-07T01:00:13.001084Z"
    },
    "papermill": {
     "duration": 1.851724,
     "end_time": "2021-12-07T01:00:13.001535",
     "exception": false,
     "start_time": "2021-12-07T01:00:11.149811",
     "status": "completed"
    },
    "tags": []
   },
   "outputs": [
    {
     "data": {
      "text/plain": [
       "<AxesSubplot:ylabel='PRODUCT'>"
      ]
     },
     "execution_count": 7,
     "metadata": {},
     "output_type": "execute_result"
    },
    {
     "data": {
      "image/png": "[encoded data removed]",
      "text/plain": [
       "<Figure size 432x288 with 1 Axes>"
      ]
     },
     "metadata": {
      "needs_background": "light"
     },
     "output_type": "display_data"
    }
   ],
   "source": [
    "df_pivot_diff.sort_values(\"stamp_2\", ascending = False)[\"stamp_2\"].head(10).plot.barh()"
   ]
  },
  {
   "cell_type": "code",
   "execution_count": null,
   "id": "extra-executive",
   "metadata": {
    "papermill": {
     "duration": 0.02185,
     "end_time": "2021-12-07T01:00:13.047978",
     "exception": false,
     "start_time": "2021-12-07T01:00:13.026128",
     "status": "completed"
    },
    "tags": []
   },
   "outputs": [],
   "source": []
  }
 ],
 "metadata": {
  "kernelspec": {
   "display_name": "Python 3",
   "language": "python",
   "name": "python3"
  },
  "language_info": {
   "codemirror_mode": {
    "name": "ipython",
    "version": 3
   },
   "file_extension": ".py",
   "mimetype": "text/x-python",
   "name": "python",
   "nbconvert_exporter": "python",
   "pygments_lexer": "ipython3",
   "version": "3.9.5"
  },
  "papermill": {
   "default_parameters": {},
   "duration": 9.935722,
   "end_time": "2021-12-07T01:00:14.412390",
   "environment_variables": {},
   "exception": null,
   "input_path": "eBay_Overview.ipynb",
   "output_path": "eBay_Overview.ipynb",
   "parameters": {},
   "start_time": "2021-12-07T01:00:04.476668",
   "version": "2.3.3"
  }
 },
 "nbformat": 4,
 "nbformat_minor": 5
}