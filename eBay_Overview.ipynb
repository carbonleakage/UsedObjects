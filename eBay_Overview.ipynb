{
 "cells": [
  {
   "cell_type": "code",
   "execution_count": 1,
   "id": "reverse-picking",
   "metadata": {
    "execution": {
     "iopub.execute_input": "2021-09-15T13:30:07.517418Z",
     "iopub.status.busy": "2021-09-15T13:30:07.515461Z",
     "iopub.status.idle": "2021-09-15T13:30:08.328550Z",
     "shell.execute_reply": "2021-09-15T13:30:08.329798Z"
    },
    "papermill": {
     "duration": 0.86426,
     "end_time": "2021-09-15T13:30:08.330413",
     "exception": false,
     "start_time": "2021-09-15T13:30:07.466153",
     "status": "completed"
    },
    "tags": []
   },
   "outputs": [],
   "source": [
    "import pandas as pd\n",
    "import sqlite3"
   ]
  },
  {
   "cell_type": "code",
   "execution_count": 2,
   "id": "innovative-syndrome",
   "metadata": {
    "execution": {
     "iopub.execute_input": "2021-09-15T13:30:08.381359Z",
     "iopub.status.busy": "2021-09-15T13:30:08.379367Z",
     "iopub.status.idle": "2021-09-15T13:30:08.673968Z",
     "shell.execute_reply": "2021-09-15T13:30:08.675214Z"
    },
    "papermill": {
     "duration": 0.323903,
     "end_time": "2021-09-15T13:30:08.675616",
     "exception": false,
     "start_time": "2021-09-15T13:30:08.351713",
     "status": "completed"
    },
    "tags": []
   },
   "outputs": [],
   "source": [
    "timestamps = pd.read_sql(\"select distinct record_time from EBAY_TOP_BERLIN order by record_time desc limit 2\", sqlite3.connect(\"UsedObjects.db\"))"
   ]
  },
  {
   "cell_type": "code",
   "execution_count": 3,
   "id": "periodic-identification",
   "metadata": {
    "execution": {
     "iopub.execute_input": "2021-09-15T13:30:08.741700Z",
     "iopub.status.busy": "2021-09-15T13:30:08.739673Z",
     "iopub.status.idle": "2021-09-15T13:30:08.759198Z",
     "shell.execute_reply": "2021-09-15T13:30:08.760419Z"
    },
    "papermill": {
     "duration": 0.063852,
     "end_time": "2021-09-15T13:30:08.760814",
     "exception": false,
     "start_time": "2021-09-15T13:30:08.696962",
     "status": "completed"
    },
    "tags": []
   },
   "outputs": [
    {
     "data": {
      "text/html": [
       "<div>\n",
       "<style scoped>\n",
       "    .dataframe tbody tr th:only-of-type {\n",
       "        vertical-align: middle;\n",
       "    }\n",
       "\n",
       "    .dataframe tbody tr th {\n",
       "        vertical-align: top;\n",
       "    }\n",
       "\n",
       "    .dataframe thead th {\n",
       "        text-align: right;\n",
       "    }\n",
       "</style>\n",
       "<table border=\"1\" class=\"dataframe\">\n",
       "  <thead>\n",
       "    <tr style=\"text-align: right;\">\n",
       "      <th></th>\n",
       "      <th>RECORD_TIME</th>\n",
       "    </tr>\n",
       "  </thead>\n",
       "  <tbody>\n",
       "    <tr>\n",
       "      <th>0</th>\n",
       "      <td>2021-09-15 15:30</td>\n",
       "    </tr>\n",
       "    <tr>\n",
       "      <th>1</th>\n",
       "      <td>2021-09-15 15:00</td>\n",
       "    </tr>\n",
       "  </tbody>\n",
       "</table>\n",
       "</div>"
      ],
      "text/plain": [
       "        RECORD_TIME\n",
       "0  2021-09-15 15:30\n",
       "1  2021-09-15 15:00"
      ]
     },
     "execution_count": 3,
     "metadata": {},
     "output_type": "execute_result"
    }
   ],
   "source": [
    "timestamps"
   ]
  },
  {
   "cell_type": "code",
   "execution_count": 4,
   "id": "alternate-victory",
   "metadata": {
    "execution": {
     "iopub.execute_input": "2021-09-15T13:30:08.812081Z",
     "iopub.status.busy": "2021-09-15T13:30:08.810077Z",
     "iopub.status.idle": "2021-09-15T13:30:09.249979Z",
     "shell.execute_reply": "2021-09-15T13:30:09.251270Z"
    },
    "papermill": {
     "duration": 0.469922,
     "end_time": "2021-09-15T13:30:09.251673",
     "exception": false,
     "start_time": "2021-09-15T13:30:08.781751",
     "status": "completed"
    },
    "tags": []
   },
   "outputs": [],
   "source": [
    "df = pd.read_sql(\"select * from EBAY_TOP_BERLIN where record_time in (select distinct record_time from EBAY_TOP_BERLIN order by record_time desc limit 2)\", sqlite3.connect(\"UsedObjects.db\"))"
   ]
  },
  {
   "cell_type": "code",
   "execution_count": 5,
   "id": "popular-active",
   "metadata": {
    "execution": {
     "iopub.execute_input": "2021-09-15T13:30:09.332413Z",
     "iopub.status.busy": "2021-09-15T13:30:09.320311Z",
     "iopub.status.idle": "2021-09-15T13:30:09.348519Z",
     "shell.execute_reply": "2021-09-15T13:30:09.349798Z"
    },
    "papermill": {
     "duration": 0.072604,
     "end_time": "2021-09-15T13:30:09.350216",
     "exception": false,
     "start_time": "2021-09-15T13:30:09.277612",
     "status": "completed"
    },
    "tags": []
   },
   "outputs": [],
   "source": [
    "df_pivot = df.pivot_table(index=\"PRODUCT\", columns = \"RECORD_TIME\", values = \"LISTING_COUNT\")"
   ]
  },
  {
   "cell_type": "code",
   "execution_count": 6,
   "id": "union-huntington",
   "metadata": {
    "execution": {
     "iopub.execute_input": "2021-09-15T13:30:09.404825Z",
     "iopub.status.busy": "2021-09-15T13:30:09.402860Z",
     "iopub.status.idle": "2021-09-15T13:30:09.408032Z",
     "shell.execute_reply": "2021-09-15T13:30:09.409281Z"
    },
    "papermill": {
     "duration": 0.039567,
     "end_time": "2021-09-15T13:30:09.409676",
     "exception": false,
     "start_time": "2021-09-15T13:30:09.370109",
     "status": "completed"
    },
    "tags": []
   },
   "outputs": [],
   "source": [
    "df_pivot.columns = [\"stamp_1\", \"stamp_2\"]\n",
    "df_pivot_diff = df_pivot.diff(axis=1)"
   ]
  },
  {
   "cell_type": "code",
   "execution_count": 7,
   "id": "fifth-motion",
   "metadata": {
    "execution": {
     "iopub.execute_input": "2021-09-15T13:30:09.464825Z",
     "iopub.status.busy": "2021-09-15T13:30:09.462198Z",
     "iopub.status.idle": "2021-09-15T13:30:10.960118Z",
     "shell.execute_reply": "2021-09-15T13:30:10.961301Z"
    },
    "papermill": {
     "duration": 1.531136,
     "end_time": "2021-09-15T13:30:10.961732",
     "exception": false,
     "start_time": "2021-09-15T13:30:09.430596",
     "status": "completed"
    },
    "tags": []
   },
   "outputs": [
    {
     "data": {
      "text/plain": [
       "<AxesSubplot:ylabel='PRODUCT'>"
      ]
     },
     "execution_count": 7,
     "metadata": {},
     "output_type": "execute_result"
    },
    {
     "data": {
      "image/png": "[encoded data removed]",
      "text/plain": [
       "<Figure size 432x288 with 1 Axes>"
      ]
     },
     "metadata": {
      "needs_background": "light"
     },
     "output_type": "display_data"
    }
   ],
   "source": [
    "df_pivot_diff.sort_values(\"stamp_2\", ascending = False)[\"stamp_2\"].head(10).plot.barh()"
   ]
  },
  {
   "cell_type": "code",
   "execution_count": null,
   "id": "extra-executive",
   "metadata": {
    "papermill": {
     "duration": 0.022155,
     "end_time": "2021-09-15T13:30:11.009444",
     "exception": false,
     "start_time": "2021-09-15T13:30:10.987289",
     "status": "completed"
    },
    "tags": []
   },
   "outputs": [],
   "source": []
  }
 ],
 "metadata": {
  "kernelspec": {
   "display_name": "Python 3",
   "language": "python",
   "name": "python3"
  },
  "language_info": {
   "codemirror_mode": {
    "name": "ipython",
    "version": 3
   },
   "file_extension": ".py",
   "mimetype": "text/x-python",
   "name": "python",
   "nbconvert_exporter": "python",
   "pygments_lexer": "ipython3",
   "version": "3.9.5"
  },
  "papermill": {
   "default_parameters": {},
   "duration": 6.596877,
   "end_time": "2021-09-15T13:30:11.650265",
   "environment_variables": {},
   "exception": null,
   "input_path": "eBay_Overview.ipynb",
   "output_path": "eBay_Overview.ipynb",
   "parameters": {},
   "start_time": "2021-09-15T13:30:05.053388",
   "version": "2.3.3"
  }
 },
 "nbformat": 4,
 "nbformat_minor": 5
}