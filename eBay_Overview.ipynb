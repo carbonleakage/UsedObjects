{
 "cells": [
  {
   "cell_type": "code",
   "execution_count": 1,
   "id": "reverse-picking",
   "metadata": {
    "execution": {
     "iopub.execute_input": "2021-09-21T21:30:07.490847Z",
     "iopub.status.busy": "2021-09-21T21:30:07.488889Z",
     "iopub.status.idle": "2021-09-21T21:30:08.290894Z",
     "shell.execute_reply": "2021-09-21T21:30:08.292446Z"
    },
    "papermill": {
     "duration": 0.853686,
     "end_time": "2021-09-21T21:30:08.293135",
     "exception": false,
     "start_time": "2021-09-21T21:30:07.439449",
     "status": "completed"
    },
    "tags": []
   },
   "outputs": [],
   "source": [
    "import pandas as pd\n",
    "import sqlite3"
   ]
  },
  {
   "cell_type": "code",
   "execution_count": 2,
   "id": "innovative-syndrome",
   "metadata": {
    "execution": {
     "iopub.execute_input": "2021-09-21T21:30:08.343812Z",
     "iopub.status.busy": "2021-09-21T21:30:08.341434Z",
     "iopub.status.idle": "2021-09-21T21:30:08.687829Z",
     "shell.execute_reply": "2021-09-21T21:30:08.689203Z"
    },
    "papermill": {
     "duration": 0.376237,
     "end_time": "2021-09-21T21:30:08.689638",
     "exception": false,
     "start_time": "2021-09-21T21:30:08.313401",
     "status": "completed"
    },
    "tags": []
   },
   "outputs": [],
   "source": [
    "timestamps = pd.read_sql(\"select distinct record_time from EBAY_TOP_BERLIN order by record_time desc limit 2\", sqlite3.connect(\"UsedObjects.db\"))"
   ]
  },
  {
   "cell_type": "code",
   "execution_count": 3,
   "id": "periodic-identification",
   "metadata": {
    "execution": {
     "iopub.execute_input": "2021-09-21T21:30:08.758606Z",
     "iopub.status.busy": "2021-09-21T21:30:08.753638Z",
     "iopub.status.idle": "2021-09-21T21:30:08.773689Z",
     "shell.execute_reply": "2021-09-21T21:30:08.775033Z"
    },
    "papermill": {
     "duration": 0.066284,
     "end_time": "2021-09-21T21:30:08.775452",
     "exception": false,
     "start_time": "2021-09-21T21:30:08.709168",
     "status": "completed"
    },
    "tags": []
   },
   "outputs": [
    {
     "data": {
      "text/html": [
       "<div>\n",
       "<style scoped>\n",
       "    .dataframe tbody tr th:only-of-type {\n",
       "        vertical-align: middle;\n",
       "    }\n",
       "\n",
       "    .dataframe tbody tr th {\n",
       "        vertical-align: top;\n",
       "    }\n",
       "\n",
       "    .dataframe thead th {\n",
       "        text-align: right;\n",
       "    }\n",
       "</style>\n",
       "<table border=\"1\" class=\"dataframe\">\n",
       "  <thead>\n",
       "    <tr style=\"text-align: right;\">\n",
       "      <th></th>\n",
       "      <th>RECORD_TIME</th>\n",
       "    </tr>\n",
       "  </thead>\n",
       "  <tbody>\n",
       "    <tr>\n",
       "      <th>0</th>\n",
       "      <td>2021-09-21 23:30</td>\n",
       "    </tr>\n",
       "    <tr>\n",
       "      <th>1</th>\n",
       "      <td>2021-09-21 23:00</td>\n",
       "    </tr>\n",
       "  </tbody>\n",
       "</table>\n",
       "</div>"
      ],
      "text/plain": [
       "        RECORD_TIME\n",
       "0  2021-09-21 23:30\n",
       "1  2021-09-21 23:00"
      ]
     },
     "execution_count": 3,
     "metadata": {},
     "output_type": "execute_result"
    }
   ],
   "source": [
    "timestamps"
   ]
  },
  {
   "cell_type": "code",
   "execution_count": 4,
   "id": "alternate-victory",
   "metadata": {
    "execution": {
     "iopub.execute_input": "2021-09-21T21:30:08.827231Z",
     "iopub.status.busy": "2021-09-21T21:30:08.825301Z",
     "iopub.status.idle": "2021-09-21T21:30:09.349405Z",
     "shell.execute_reply": "2021-09-21T21:30:09.350602Z"
    },
    "papermill": {
     "duration": 0.553797,
     "end_time": "2021-09-21T21:30:09.351063",
     "exception": false,
     "start_time": "2021-09-21T21:30:08.797266",
     "status": "completed"
    },
    "tags": []
   },
   "outputs": [],
   "source": [
    "df = pd.read_sql(\"select * from EBAY_TOP_BERLIN where record_time in (select distinct record_time from EBAY_TOP_BERLIN order by record_time desc limit 2)\", sqlite3.connect(\"UsedObjects.db\"))"
   ]
  },
  {
   "cell_type": "code",
   "execution_count": 5,
   "id": "popular-active",
   "metadata": {
    "execution": {
     "iopub.execute_input": "2021-09-21T21:30:09.442145Z",
     "iopub.status.busy": "2021-09-21T21:30:09.431064Z",
     "iopub.status.idle": "2021-09-21T21:30:09.458612Z",
     "shell.execute_reply": "2021-09-21T21:30:09.460080Z"
    },
    "papermill": {
     "duration": 0.073884,
     "end_time": "2021-09-21T21:30:09.460599",
     "exception": false,
     "start_time": "2021-09-21T21:30:09.386715",
     "status": "completed"
    },
    "tags": []
   },
   "outputs": [],
   "source": [
    "df_pivot = df.pivot_table(index=\"PRODUCT\", columns = \"RECORD_TIME\", values = \"LISTING_COUNT\")"
   ]
  },
  {
   "cell_type": "code",
   "execution_count": 6,
   "id": "union-huntington",
   "metadata": {
    "execution": {
     "iopub.execute_input": "2021-09-21T21:30:09.518433Z",
     "iopub.status.busy": "2021-09-21T21:30:09.516017Z",
     "iopub.status.idle": "2021-09-21T21:30:09.523110Z",
     "shell.execute_reply": "2021-09-21T21:30:09.521669Z"
    },
    "papermill": {
     "duration": 0.041912,
     "end_time": "2021-09-21T21:30:09.523474",
     "exception": false,
     "start_time": "2021-09-21T21:30:09.481562",
     "status": "completed"
    },
    "tags": []
   },
   "outputs": [],
   "source": [
    "df_pivot.columns = [\"stamp_1\", \"stamp_2\"]\n",
    "df_pivot_diff = df_pivot.diff(axis=1)"
   ]
  },
  {
   "cell_type": "code",
   "execution_count": 7,
   "id": "fifth-motion",
   "metadata": {
    "execution": {
     "iopub.execute_input": "2021-09-21T21:30:09.577043Z",
     "iopub.status.busy": "2021-09-21T21:30:09.574611Z",
     "iopub.status.idle": "2021-09-21T21:30:11.027149Z",
     "shell.execute_reply": "2021-09-21T21:30:11.028451Z"
    },
    "papermill": {
     "duration": 1.485001,
     "end_time": "2021-09-21T21:30:11.028870",
     "exception": false,
     "start_time": "2021-09-21T21:30:09.543869",
     "status": "completed"
    },
    "tags": []
   },
   "outputs": [
    {
     "data": {
      "text/plain": [
       "<AxesSubplot:ylabel='PRODUCT'>"
      ]
     },
     "execution_count": 7,
     "metadata": {},
     "output_type": "execute_result"
    },
    {
     "data": {
      "image/png": "[encoded data removed]",
      "text/plain": [
       "<Figure size 432x288 with 1 Axes>"
      ]
     },
     "metadata": {
      "needs_background": "light"
     },
     "output_type": "display_data"
    }
   ],
   "source": [
    "df_pivot_diff.sort_values(\"stamp_2\", ascending = False)[\"stamp_2\"].head(10).plot.barh()"
   ]
  },
  {
   "cell_type": "code",
   "execution_count": null,
   "id": "extra-executive",
   "metadata": {
    "papermill": {
     "duration": 0.021714,
     "end_time": "2021-09-21T21:30:11.074908",
     "exception": false,
     "start_time": "2021-09-21T21:30:11.053194",
     "status": "completed"
    },
    "tags": []
   },
   "outputs": [],
   "source": []
  }
 ],
 "metadata": {
  "kernelspec": {
   "display_name": "Python 3",
   "language": "python",
   "name": "python3"
  },
  "language_info": {
   "codemirror_mode": {
    "name": "ipython",
    "version": 3
   },
   "file_extension": ".py",
   "mimetype": "text/x-python",
   "name": "python",
   "nbconvert_exporter": "python",
   "pygments_lexer": "ipython3",
   "version": "3.9.5"
  },
  "papermill": {
   "default_parameters": {},
   "duration": 6.683731,
   "end_time": "2021-09-21T21:30:11.717588",
   "environment_variables": {},
   "exception": null,
   "input_path": "eBay_Overview.ipynb",
   "output_path": "eBay_Overview.ipynb",
   "parameters": {},
   "start_time": "2021-09-21T21:30:05.033857",
   "version": "2.3.3"
  }
 },
 "nbformat": 4,
 "nbformat_minor": 5
}