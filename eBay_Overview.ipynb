{
 "cells": [
  {
   "cell_type": "code",
   "execution_count": 1,
   "id": "reverse-picking",
   "metadata": {
    "execution": {
     "iopub.execute_input": "2021-11-25T14:00:07.752426Z",
     "iopub.status.busy": "2021-11-25T14:00:07.750087Z",
     "iopub.status.idle": "2021-11-25T14:00:08.700466Z",
     "shell.execute_reply": "2021-11-25T14:00:08.702126Z"
    },
    "papermill": {
     "duration": 1.00073,
     "end_time": "2021-11-25T14:00:08.702912",
     "exception": false,
     "start_time": "2021-11-25T14:00:07.702182",
     "status": "completed"
    },
    "tags": []
   },
   "outputs": [],
   "source": [
    "import pandas as pd\n",
    "import sqlite3"
   ]
  },
  {
   "cell_type": "code",
   "execution_count": 2,
   "id": "innovative-syndrome",
   "metadata": {
    "execution": {
     "iopub.execute_input": "2021-11-25T14:00:08.765118Z",
     "iopub.status.busy": "2021-11-25T14:00:08.762743Z",
     "iopub.status.idle": "2021-11-25T14:00:09.673818Z",
     "shell.execute_reply": "2021-11-25T14:00:09.675443Z"
    },
    "papermill": {
     "duration": 0.944939,
     "end_time": "2021-11-25T14:00:09.675967",
     "exception": false,
     "start_time": "2021-11-25T14:00:08.731028",
     "status": "completed"
    },
    "tags": []
   },
   "outputs": [],
   "source": [
    "timestamps = pd.read_sql(\"select distinct record_time from EBAY_TOP_BERLIN order by record_time desc limit 2\", sqlite3.connect(\"UsedObjects.db\"))"
   ]
  },
  {
   "cell_type": "code",
   "execution_count": 3,
   "id": "periodic-identification",
   "metadata": {
    "execution": {
     "iopub.execute_input": "2021-11-25T14:00:09.747941Z",
     "iopub.status.busy": "2021-11-25T14:00:09.745489Z",
     "iopub.status.idle": "2021-11-25T14:00:09.769262Z",
     "shell.execute_reply": "2021-11-25T14:00:09.770769Z"
    },
    "papermill": {
     "duration": 0.074365,
     "end_time": "2021-11-25T14:00:09.771297",
     "exception": false,
     "start_time": "2021-11-25T14:00:09.696932",
     "status": "completed"
    },
    "tags": []
   },
   "outputs": [
    {
     "data": {
      "text/html": [
       "<div>\n",
       "<style scoped>\n",
       "    .dataframe tbody tr th:only-of-type {\n",
       "        vertical-align: middle;\n",
       "    }\n",
       "\n",
       "    .dataframe tbody tr th {\n",
       "        vertical-align: top;\n",
       "    }\n",
       "\n",
       "    .dataframe thead th {\n",
       "        text-align: right;\n",
       "    }\n",
       "</style>\n",
       "<table border=\"1\" class=\"dataframe\">\n",
       "  <thead>\n",
       "    <tr style=\"text-align: right;\">\n",
       "      <th></th>\n",
       "      <th>RECORD_TIME</th>\n",
       "    </tr>\n",
       "  </thead>\n",
       "  <tbody>\n",
       "    <tr>\n",
       "      <th>0</th>\n",
       "      <td>2021-11-25 15:00</td>\n",
       "    </tr>\n",
       "    <tr>\n",
       "      <th>1</th>\n",
       "      <td>2021-11-25 14:30</td>\n",
       "    </tr>\n",
       "  </tbody>\n",
       "</table>\n",
       "</div>"
      ],
      "text/plain": [
       "        RECORD_TIME\n",
       "0  2021-11-25 15:00\n",
       "1  2021-11-25 14:30"
      ]
     },
     "execution_count": 3,
     "metadata": {},
     "output_type": "execute_result"
    }
   ],
   "source": [
    "timestamps"
   ]
  },
  {
   "cell_type": "code",
   "execution_count": 4,
   "id": "alternate-victory",
   "metadata": {
    "execution": {
     "iopub.execute_input": "2021-11-25T14:00:09.827354Z",
     "iopub.status.busy": "2021-11-25T14:00:09.825063Z",
     "iopub.status.idle": "2021-11-25T14:00:11.187193Z",
     "shell.execute_reply": "2021-11-25T14:00:11.188926Z"
    },
    "papermill": {
     "duration": 1.397009,
     "end_time": "2021-11-25T14:00:11.189569",
     "exception": false,
     "start_time": "2021-11-25T14:00:09.792560",
     "status": "completed"
    },
    "tags": []
   },
   "outputs": [],
   "source": [
    "df = pd.read_sql(\"select * from EBAY_TOP_BERLIN where record_time in (select distinct record_time from EBAY_TOP_BERLIN order by record_time desc limit 2)\", sqlite3.connect(\"UsedObjects.db\"))"
   ]
  },
  {
   "cell_type": "code",
   "execution_count": 5,
   "id": "popular-active",
   "metadata": {
    "execution": {
     "iopub.execute_input": "2021-11-25T14:00:11.265808Z",
     "iopub.status.busy": "2021-11-25T14:00:11.253397Z",
     "iopub.status.idle": "2021-11-25T14:00:11.286451Z",
     "shell.execute_reply": "2021-11-25T14:00:11.284922Z"
    },
    "papermill": {
     "duration": 0.075732,
     "end_time": "2021-11-25T14:00:11.286861",
     "exception": false,
     "start_time": "2021-11-25T14:00:11.211129",
     "status": "completed"
    },
    "tags": []
   },
   "outputs": [],
   "source": [
    "df_pivot = df.pivot_table(index=\"PRODUCT\", columns = \"RECORD_TIME\", values = \"LISTING_COUNT\")"
   ]
  },
  {
   "cell_type": "code",
   "execution_count": 6,
   "id": "union-huntington",
   "metadata": {
    "execution": {
     "iopub.execute_input": "2021-11-25T14:00:11.349156Z",
     "iopub.status.busy": "2021-11-25T14:00:11.346879Z",
     "iopub.status.idle": "2021-11-25T14:00:11.352594Z",
     "shell.execute_reply": "2021-11-25T14:00:11.354173Z"
    },
    "papermill": {
     "duration": 0.045139,
     "end_time": "2021-11-25T14:00:11.354727",
     "exception": false,
     "start_time": "2021-11-25T14:00:11.309588",
     "status": "completed"
    },
    "tags": []
   },
   "outputs": [],
   "source": [
    "df_pivot.columns = [\"stamp_1\", \"stamp_2\"]\n",
    "df_pivot_diff = df_pivot.diff(axis=1)"
   ]
  },
  {
   "cell_type": "code",
   "execution_count": 7,
   "id": "fifth-motion",
   "metadata": {
    "execution": {
     "iopub.execute_input": "2021-11-25T14:00:11.415166Z",
     "iopub.status.busy": "2021-11-25T14:00:11.412524Z",
     "iopub.status.idle": "2021-11-25T14:00:13.324814Z",
     "shell.execute_reply": "2021-11-25T14:00:13.326226Z"
    },
    "papermill": {
     "duration": 1.949697,
     "end_time": "2021-11-25T14:00:13.326705",
     "exception": false,
     "start_time": "2021-11-25T14:00:11.377008",
     "status": "completed"
    },
    "tags": []
   },
   "outputs": [
    {
     "data": {
      "text/plain": [
       "<AxesSubplot:ylabel='PRODUCT'>"
      ]
     },
     "execution_count": 7,
     "metadata": {},
     "output_type": "execute_result"
    },
    {
     "data": {
      "image/png": "[encoded data removed]",
      "text/plain": [
       "<Figure size 432x288 with 1 Axes>"
      ]
     },
     "metadata": {
      "needs_background": "light"
     },
     "output_type": "display_data"
    }
   ],
   "source": [
    "df_pivot_diff.sort_values(\"stamp_2\", ascending = False)[\"stamp_2\"].head(10).plot.barh()"
   ]
  },
  {
   "cell_type": "code",
   "execution_count": null,
   "id": "extra-executive",
   "metadata": {
    "papermill": {
     "duration": 0.024683,
     "end_time": "2021-11-25T14:00:13.375320",
     "exception": false,
     "start_time": "2021-11-25T14:00:13.350637",
     "status": "completed"
    },
    "tags": []
   },
   "outputs": [],
   "source": []
  }
 ],
 "metadata": {
  "kernelspec": {
   "display_name": "Python 3",
   "language": "python",
   "name": "python3"
  },
  "language_info": {
   "codemirror_mode": {
    "name": "ipython",
    "version": 3
   },
   "file_extension": ".py",
   "mimetype": "text/x-python",
   "name": "python",
   "nbconvert_exporter": "python",
   "pygments_lexer": "ipython3",
   "version": "3.9.5"
  },
  "papermill": {
   "default_parameters": {},
   "duration": 9.927714,
   "end_time": "2021-11-25T14:00:14.908071",
   "environment_variables": {},
   "exception": null,
   "input_path": "eBay_Overview.ipynb",
   "output_path": "eBay_Overview.ipynb",
   "parameters": {},
   "start_time": "2021-11-25T14:00:04.980357",
   "version": "2.3.3"
  }
 },
 "nbformat": 4,
 "nbformat_minor": 5
}