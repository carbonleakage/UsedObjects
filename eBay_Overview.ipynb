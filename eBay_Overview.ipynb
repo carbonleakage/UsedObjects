{
 "cells": [
  {
   "cell_type": "code",
   "execution_count": 1,
   "id": "reverse-picking",
   "metadata": {
    "execution": {
     "iopub.execute_input": "2021-09-17T13:00:07.116335Z",
     "iopub.status.busy": "2021-09-17T13:00:07.114275Z",
     "iopub.status.idle": "2021-09-17T13:00:07.915162Z",
     "shell.execute_reply": "2021-09-17T13:00:07.916524Z"
    },
    "papermill": {
     "duration": 0.851413,
     "end_time": "2021-09-17T13:00:07.917174",
     "exception": false,
     "start_time": "2021-09-17T13:00:07.065761",
     "status": "completed"
    },
    "tags": []
   },
   "outputs": [],
   "source": [
    "import pandas as pd\n",
    "import sqlite3"
   ]
  },
  {
   "cell_type": "code",
   "execution_count": 2,
   "id": "innovative-syndrome",
   "metadata": {
    "execution": {
     "iopub.execute_input": "2021-09-17T13:00:07.967501Z",
     "iopub.status.busy": "2021-09-17T13:00:07.965577Z",
     "iopub.status.idle": "2021-09-17T13:00:08.275224Z",
     "shell.execute_reply": "2021-09-17T13:00:08.276432Z"
    },
    "papermill": {
     "duration": 0.338801,
     "end_time": "2021-09-17T13:00:08.276821",
     "exception": false,
     "start_time": "2021-09-17T13:00:07.938020",
     "status": "completed"
    },
    "tags": []
   },
   "outputs": [],
   "source": [
    "timestamps = pd.read_sql(\"select distinct record_time from EBAY_TOP_BERLIN order by record_time desc limit 2\", sqlite3.connect(\"UsedObjects.db\"))"
   ]
  },
  {
   "cell_type": "code",
   "execution_count": 3,
   "id": "periodic-identification",
   "metadata": {
    "execution": {
     "iopub.execute_input": "2021-09-17T13:00:08.340436Z",
     "iopub.status.busy": "2021-09-17T13:00:08.338259Z",
     "iopub.status.idle": "2021-09-17T13:00:08.358308Z",
     "shell.execute_reply": "2021-09-17T13:00:08.359695Z"
    },
    "papermill": {
     "duration": 0.064079,
     "end_time": "2021-09-17T13:00:08.360122",
     "exception": false,
     "start_time": "2021-09-17T13:00:08.296043",
     "status": "completed"
    },
    "tags": []
   },
   "outputs": [
    {
     "data": {
      "text/html": [
       "<div>\n",
       "<style scoped>\n",
       "    .dataframe tbody tr th:only-of-type {\n",
       "        vertical-align: middle;\n",
       "    }\n",
       "\n",
       "    .dataframe tbody tr th {\n",
       "        vertical-align: top;\n",
       "    }\n",
       "\n",
       "    .dataframe thead th {\n",
       "        text-align: right;\n",
       "    }\n",
       "</style>\n",
       "<table border=\"1\" class=\"dataframe\">\n",
       "  <thead>\n",
       "    <tr style=\"text-align: right;\">\n",
       "      <th></th>\n",
       "      <th>RECORD_TIME</th>\n",
       "    </tr>\n",
       "  </thead>\n",
       "  <tbody>\n",
       "    <tr>\n",
       "      <th>0</th>\n",
       "      <td>2021-09-17 15:00</td>\n",
       "    </tr>\n",
       "    <tr>\n",
       "      <th>1</th>\n",
       "      <td>2021-09-17 14:30</td>\n",
       "    </tr>\n",
       "  </tbody>\n",
       "</table>\n",
       "</div>"
      ],
      "text/plain": [
       "        RECORD_TIME\n",
       "0  2021-09-17 15:00\n",
       "1  2021-09-17 14:30"
      ]
     },
     "execution_count": 3,
     "metadata": {},
     "output_type": "execute_result"
    }
   ],
   "source": [
    "timestamps"
   ]
  },
  {
   "cell_type": "code",
   "execution_count": 4,
   "id": "alternate-victory",
   "metadata": {
    "execution": {
     "iopub.execute_input": "2021-09-17T13:00:08.411555Z",
     "iopub.status.busy": "2021-09-17T13:00:08.409619Z",
     "iopub.status.idle": "2021-09-17T13:00:08.894753Z",
     "shell.execute_reply": "2021-09-17T13:00:08.896219Z"
    },
    "papermill": {
     "duration": 0.514915,
     "end_time": "2021-09-17T13:00:08.896642",
     "exception": false,
     "start_time": "2021-09-17T13:00:08.381727",
     "status": "completed"
    },
    "tags": []
   },
   "outputs": [],
   "source": [
    "df = pd.read_sql(\"select * from EBAY_TOP_BERLIN where record_time in (select distinct record_time from EBAY_TOP_BERLIN order by record_time desc limit 2)\", sqlite3.connect(\"UsedObjects.db\"))"
   ]
  },
  {
   "cell_type": "code",
   "execution_count": 5,
   "id": "popular-active",
   "metadata": {
    "execution": {
     "iopub.execute_input": "2021-09-17T13:00:08.965712Z",
     "iopub.status.busy": "2021-09-17T13:00:08.953428Z",
     "iopub.status.idle": "2021-09-17T13:00:08.983558Z",
     "shell.execute_reply": "2021-09-17T13:00:08.984960Z"
    },
    "papermill": {
     "duration": 0.06854,
     "end_time": "2021-09-17T13:00:08.985393",
     "exception": false,
     "start_time": "2021-09-17T13:00:08.916853",
     "status": "completed"
    },
    "tags": []
   },
   "outputs": [],
   "source": [
    "df_pivot = df.pivot_table(index=\"PRODUCT\", columns = \"RECORD_TIME\", values = \"LISTING_COUNT\")"
   ]
  },
  {
   "cell_type": "code",
   "execution_count": 6,
   "id": "union-huntington",
   "metadata": {
    "execution": {
     "iopub.execute_input": "2021-09-17T13:00:09.042521Z",
     "iopub.status.busy": "2021-09-17T13:00:09.040087Z",
     "iopub.status.idle": "2021-09-17T13:00:09.045872Z",
     "shell.execute_reply": "2021-09-17T13:00:09.047220Z"
    },
    "papermill": {
     "duration": 0.042064,
     "end_time": "2021-09-17T13:00:09.047634",
     "exception": false,
     "start_time": "2021-09-17T13:00:09.005570",
     "status": "completed"
    },
    "tags": []
   },
   "outputs": [],
   "source": [
    "df_pivot.columns = [\"stamp_1\", \"stamp_2\"]\n",
    "df_pivot_diff = df_pivot.diff(axis=1)"
   ]
  },
  {
   "cell_type": "code",
   "execution_count": 7,
   "id": "fifth-motion",
   "metadata": {
    "execution": {
     "iopub.execute_input": "2021-09-17T13:00:09.101998Z",
     "iopub.status.busy": "2021-09-17T13:00:09.099646Z",
     "iopub.status.idle": "2021-09-17T13:00:10.575892Z",
     "shell.execute_reply": "2021-09-17T13:00:10.577269Z"
    },
    "papermill": {
     "duration": 1.50975,
     "end_time": "2021-09-17T13:00:10.577706",
     "exception": false,
     "start_time": "2021-09-17T13:00:09.067956",
     "status": "completed"
    },
    "tags": []
   },
   "outputs": [
    {
     "data": {
      "text/plain": [
       "<AxesSubplot:ylabel='PRODUCT'>"
      ]
     },
     "execution_count": 7,
     "metadata": {},
     "output_type": "execute_result"
    },
    {
     "data": {
      "image/png": "[encoded data removed]",
      "text/plain": [
       "<Figure size 432x288 with 1 Axes>"
      ]
     },
     "metadata": {
      "needs_background": "light"
     },
     "output_type": "display_data"
    }
   ],
   "source": [
    "df_pivot_diff.sort_values(\"stamp_2\", ascending = False)[\"stamp_2\"].head(10).plot.barh()"
   ]
  },
  {
   "cell_type": "code",
   "execution_count": null,
   "id": "extra-executive",
   "metadata": {
    "papermill": {
     "duration": 0.021973,
     "end_time": "2021-09-17T13:00:10.623881",
     "exception": false,
     "start_time": "2021-09-17T13:00:10.601908",
     "status": "completed"
    },
    "tags": []
   },
   "outputs": [],
   "source": []
  }
 ],
 "metadata": {
  "kernelspec": {
   "display_name": "Python 3",
   "language": "python",
   "name": "python3"
  },
  "language_info": {
   "codemirror_mode": {
    "name": "ipython",
    "version": 3
   },
   "file_extension": ".py",
   "mimetype": "text/x-python",
   "name": "python",
   "nbconvert_exporter": "python",
   "pygments_lexer": "ipython3",
   "version": "3.9.5"
  },
  "papermill": {
   "default_parameters": {},
   "duration": 6.587315,
   "end_time": "2021-09-17T13:00:11.265686",
   "environment_variables": {},
   "exception": null,
   "input_path": "eBay_Overview.ipynb",
   "output_path": "eBay_Overview.ipynb",
   "parameters": {},
   "start_time": "2021-09-17T13:00:04.678371",
   "version": "2.3.3"
  }
 },
 "nbformat": 4,
 "nbformat_minor": 5
}