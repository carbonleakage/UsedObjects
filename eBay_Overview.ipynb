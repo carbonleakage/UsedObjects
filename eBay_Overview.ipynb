{
 "cells": [
  {
   "cell_type": "code",
   "execution_count": 1,
   "id": "reverse-picking",
   "metadata": {
    "execution": {
     "iopub.execute_input": "2021-10-04T09:00:12.998719Z",
     "iopub.status.busy": "2021-10-04T09:00:12.996769Z",
     "iopub.status.idle": "2021-10-04T09:00:13.802895Z",
     "shell.execute_reply": "2021-10-04T09:00:13.801195Z"
    },
    "papermill": {
     "duration": 0.857697,
     "end_time": "2021-10-04T09:00:13.803324",
     "exception": false,
     "start_time": "2021-10-04T09:00:12.945627",
     "status": "completed"
    },
    "tags": []
   },
   "outputs": [],
   "source": [
    "import pandas as pd\n",
    "import sqlite3"
   ]
  },
  {
   "cell_type": "code",
   "execution_count": 2,
   "id": "innovative-syndrome",
   "metadata": {
    "execution": {
     "iopub.execute_input": "2021-10-04T09:00:13.853347Z",
     "iopub.status.busy": "2021-10-04T09:00:13.851474Z",
     "iopub.status.idle": "2021-10-04T09:00:14.299949Z",
     "shell.execute_reply": "2021-10-04T09:00:14.301370Z"
    },
    "papermill": {
     "duration": 0.478207,
     "end_time": "2021-10-04T09:00:14.301813",
     "exception": false,
     "start_time": "2021-10-04T09:00:13.823606",
     "status": "completed"
    },
    "tags": []
   },
   "outputs": [],
   "source": [
    "timestamps = pd.read_sql(\"select distinct record_time from EBAY_TOP_BERLIN order by record_time desc limit 2\", sqlite3.connect(\"UsedObjects.db\"))"
   ]
  },
  {
   "cell_type": "code",
   "execution_count": 3,
   "id": "periodic-identification",
   "metadata": {
    "execution": {
     "iopub.execute_input": "2021-10-04T09:00:14.371428Z",
     "iopub.status.busy": "2021-10-04T09:00:14.369000Z",
     "iopub.status.idle": "2021-10-04T09:00:14.390129Z",
     "shell.execute_reply": "2021-10-04T09:00:14.391448Z"
    },
    "papermill": {
     "duration": 0.070126,
     "end_time": "2021-10-04T09:00:14.391861",
     "exception": false,
     "start_time": "2021-10-04T09:00:14.321735",
     "status": "completed"
    },
    "tags": []
   },
   "outputs": [
    {
     "data": {
      "text/html": [
       "<div>\n",
       "<style scoped>\n",
       "    .dataframe tbody tr th:only-of-type {\n",
       "        vertical-align: middle;\n",
       "    }\n",
       "\n",
       "    .dataframe tbody tr th {\n",
       "        vertical-align: top;\n",
       "    }\n",
       "\n",
       "    .dataframe thead th {\n",
       "        text-align: right;\n",
       "    }\n",
       "</style>\n",
       "<table border=\"1\" class=\"dataframe\">\n",
       "  <thead>\n",
       "    <tr style=\"text-align: right;\">\n",
       "      <th></th>\n",
       "      <th>RECORD_TIME</th>\n",
       "    </tr>\n",
       "  </thead>\n",
       "  <tbody>\n",
       "    <tr>\n",
       "      <th>0</th>\n",
       "      <td>2021-10-04 11:00</td>\n",
       "    </tr>\n",
       "    <tr>\n",
       "      <th>1</th>\n",
       "      <td>2021-10-04 10:30</td>\n",
       "    </tr>\n",
       "  </tbody>\n",
       "</table>\n",
       "</div>"
      ],
      "text/plain": [
       "        RECORD_TIME\n",
       "0  2021-10-04 11:00\n",
       "1  2021-10-04 10:30"
      ]
     },
     "execution_count": 3,
     "metadata": {},
     "output_type": "execute_result"
    }
   ],
   "source": [
    "timestamps"
   ]
  },
  {
   "cell_type": "code",
   "execution_count": 4,
   "id": "alternate-victory",
   "metadata": {
    "execution": {
     "iopub.execute_input": "2021-10-04T09:00:14.452080Z",
     "iopub.status.busy": "2021-10-04T09:00:14.450124Z",
     "iopub.status.idle": "2021-10-04T09:00:15.112495Z",
     "shell.execute_reply": "2021-10-04T09:00:15.113789Z"
    },
    "papermill": {
     "duration": 0.69637,
     "end_time": "2021-10-04T09:00:15.114210",
     "exception": false,
     "start_time": "2021-10-04T09:00:14.417840",
     "status": "completed"
    },
    "tags": []
   },
   "outputs": [],
   "source": [
    "df = pd.read_sql(\"select * from EBAY_TOP_BERLIN where record_time in (select distinct record_time from EBAY_TOP_BERLIN order by record_time desc limit 2)\", sqlite3.connect(\"UsedObjects.db\"))"
   ]
  },
  {
   "cell_type": "code",
   "execution_count": 5,
   "id": "popular-active",
   "metadata": {
    "execution": {
     "iopub.execute_input": "2021-10-04T09:00:15.184673Z",
     "iopub.status.busy": "2021-10-04T09:00:15.172242Z",
     "iopub.status.idle": "2021-10-04T09:00:15.201888Z",
     "shell.execute_reply": "2021-10-04T09:00:15.203603Z"
    },
    "papermill": {
     "duration": 0.069692,
     "end_time": "2021-10-04T09:00:15.204085",
     "exception": false,
     "start_time": "2021-10-04T09:00:15.134393",
     "status": "completed"
    },
    "tags": []
   },
   "outputs": [],
   "source": [
    "df_pivot = df.pivot_table(index=\"PRODUCT\", columns = \"RECORD_TIME\", values = \"LISTING_COUNT\")"
   ]
  },
  {
   "cell_type": "code",
   "execution_count": 6,
   "id": "union-huntington",
   "metadata": {
    "execution": {
     "iopub.execute_input": "2021-10-04T09:00:15.262463Z",
     "iopub.status.busy": "2021-10-04T09:00:15.260367Z",
     "iopub.status.idle": "2021-10-04T09:00:15.266033Z",
     "shell.execute_reply": "2021-10-04T09:00:15.267306Z"
    },
    "papermill": {
     "duration": 0.041498,
     "end_time": "2021-10-04T09:00:15.267745",
     "exception": false,
     "start_time": "2021-10-04T09:00:15.226247",
     "status": "completed"
    },
    "tags": []
   },
   "outputs": [],
   "source": [
    "df_pivot.columns = [\"stamp_1\", \"stamp_2\"]\n",
    "df_pivot_diff = df_pivot.diff(axis=1)"
   ]
  },
  {
   "cell_type": "code",
   "execution_count": 7,
   "id": "fifth-motion",
   "metadata": {
    "execution": {
     "iopub.execute_input": "2021-10-04T09:00:15.325017Z",
     "iopub.status.busy": "2021-10-04T09:00:15.322431Z",
     "iopub.status.idle": "2021-10-04T09:00:16.804102Z",
     "shell.execute_reply": "2021-10-04T09:00:16.805394Z"
    },
    "papermill": {
     "duration": 1.515088,
     "end_time": "2021-10-04T09:00:16.805816",
     "exception": false,
     "start_time": "2021-10-04T09:00:15.290728",
     "status": "completed"
    },
    "tags": []
   },
   "outputs": [
    {
     "data": {
      "text/plain": [
       "<AxesSubplot:ylabel='PRODUCT'>"
      ]
     },
     "execution_count": 7,
     "metadata": {},
     "output_type": "execute_result"
    },
    {
     "data": {
      "image/png": "[encoded data removed]",
      "text/plain": [
       "<Figure size 432x288 with 1 Axes>"
      ]
     },
     "metadata": {
      "needs_background": "light"
     },
     "output_type": "display_data"
    }
   ],
   "source": [
    "df_pivot_diff.sort_values(\"stamp_2\", ascending = False)[\"stamp_2\"].head(10).plot.barh()"
   ]
  },
  {
   "cell_type": "code",
   "execution_count": null,
   "id": "extra-executive",
   "metadata": {
    "papermill": {
     "duration": 0.022193,
     "end_time": "2021-10-04T09:00:16.852519",
     "exception": false,
     "start_time": "2021-10-04T09:00:16.830326",
     "status": "completed"
    },
    "tags": []
   },
   "outputs": [],
   "source": []
  }
 ],
 "metadata": {
  "kernelspec": {
   "display_name": "Python 3",
   "language": "python",
   "name": "python3"
  },
  "language_info": {
   "codemirror_mode": {
    "name": "ipython",
    "version": 3
   },
   "file_extension": ".py",
   "mimetype": "text/x-python",
   "name": "python",
   "nbconvert_exporter": "python",
   "pygments_lexer": "ipython3",
   "version": "3.9.5"
  },
  "papermill": {
   "default_parameters": {},
   "duration": 7.82593,
   "end_time": "2021-10-04T09:00:18.358740",
   "environment_variables": {},
   "exception": null,
   "input_path": "eBay_Overview.ipynb",
   "output_path": "eBay_Overview.ipynb",
   "parameters": {},
   "start_time": "2021-10-04T09:00:10.532810",
   "version": "2.3.3"
  }
 },
 "nbformat": 4,
 "nbformat_minor": 5
}