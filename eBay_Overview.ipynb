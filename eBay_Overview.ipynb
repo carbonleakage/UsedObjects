{
 "cells": [
  {
   "cell_type": "code",
   "execution_count": 1,
   "id": "reverse-picking",
   "metadata": {
    "execution": {
     "iopub.execute_input": "2021-10-14T14:30:07.333372Z",
     "iopub.status.busy": "2021-10-14T14:30:07.330460Z",
     "iopub.status.idle": "2021-10-14T14:30:08.141304Z",
     "shell.execute_reply": "2021-10-14T14:30:08.142674Z"
    },
    "papermill": {
     "duration": 0.86381,
     "end_time": "2021-10-14T14:30:08.143332",
     "exception": false,
     "start_time": "2021-10-14T14:30:07.279522",
     "status": "completed"
    },
    "tags": []
   },
   "outputs": [],
   "source": [
    "import pandas as pd\n",
    "import sqlite3"
   ]
  },
  {
   "cell_type": "code",
   "execution_count": 2,
   "id": "innovative-syndrome",
   "metadata": {
    "execution": {
     "iopub.execute_input": "2021-10-14T14:30:08.194083Z",
     "iopub.status.busy": "2021-10-14T14:30:08.192098Z",
     "iopub.status.idle": "2021-10-14T14:30:08.733570Z",
     "shell.execute_reply": "2021-10-14T14:30:08.734957Z"
    },
    "papermill": {
     "duration": 0.570936,
     "end_time": "2021-10-14T14:30:08.735393",
     "exception": false,
     "start_time": "2021-10-14T14:30:08.164457",
     "status": "completed"
    },
    "tags": []
   },
   "outputs": [],
   "source": [
    "timestamps = pd.read_sql(\"select distinct record_time from EBAY_TOP_BERLIN order by record_time desc limit 2\", sqlite3.connect(\"UsedObjects.db\"))"
   ]
  },
  {
   "cell_type": "code",
   "execution_count": 3,
   "id": "periodic-identification",
   "metadata": {
    "execution": {
     "iopub.execute_input": "2021-10-14T14:30:08.808548Z",
     "iopub.status.busy": "2021-10-14T14:30:08.806508Z",
     "iopub.status.idle": "2021-10-14T14:30:08.826304Z",
     "shell.execute_reply": "2021-10-14T14:30:08.827516Z"
    },
    "papermill": {
     "duration": 0.067289,
     "end_time": "2021-10-14T14:30:08.827907",
     "exception": false,
     "start_time": "2021-10-14T14:30:08.760618",
     "status": "completed"
    },
    "tags": []
   },
   "outputs": [
    {
     "data": {
      "text/html": [
       "<div>\n",
       "<style scoped>\n",
       "    .dataframe tbody tr th:only-of-type {\n",
       "        vertical-align: middle;\n",
       "    }\n",
       "\n",
       "    .dataframe tbody tr th {\n",
       "        vertical-align: top;\n",
       "    }\n",
       "\n",
       "    .dataframe thead th {\n",
       "        text-align: right;\n",
       "    }\n",
       "</style>\n",
       "<table border=\"1\" class=\"dataframe\">\n",
       "  <thead>\n",
       "    <tr style=\"text-align: right;\">\n",
       "      <th></th>\n",
       "      <th>RECORD_TIME</th>\n",
       "    </tr>\n",
       "  </thead>\n",
       "  <tbody>\n",
       "    <tr>\n",
       "      <th>0</th>\n",
       "      <td>2021-10-14 16:30</td>\n",
       "    </tr>\n",
       "    <tr>\n",
       "      <th>1</th>\n",
       "      <td>2021-10-14 16:00</td>\n",
       "    </tr>\n",
       "  </tbody>\n",
       "</table>\n",
       "</div>"
      ],
      "text/plain": [
       "        RECORD_TIME\n",
       "0  2021-10-14 16:30\n",
       "1  2021-10-14 16:00"
      ]
     },
     "execution_count": 3,
     "metadata": {},
     "output_type": "execute_result"
    }
   ],
   "source": [
    "timestamps"
   ]
  },
  {
   "cell_type": "code",
   "execution_count": 4,
   "id": "alternate-victory",
   "metadata": {
    "execution": {
     "iopub.execute_input": "2021-10-14T14:30:08.879437Z",
     "iopub.status.busy": "2021-10-14T14:30:08.877296Z",
     "iopub.status.idle": "2021-10-14T14:30:09.669144Z",
     "shell.execute_reply": "2021-10-14T14:30:09.670656Z"
    },
    "papermill": {
     "duration": 0.822326,
     "end_time": "2021-10-14T14:30:09.671099",
     "exception": false,
     "start_time": "2021-10-14T14:30:08.848773",
     "status": "completed"
    },
    "tags": []
   },
   "outputs": [],
   "source": [
    "df = pd.read_sql(\"select * from EBAY_TOP_BERLIN where record_time in (select distinct record_time from EBAY_TOP_BERLIN order by record_time desc limit 2)\", sqlite3.connect(\"UsedObjects.db\"))"
   ]
  },
  {
   "cell_type": "code",
   "execution_count": 5,
   "id": "popular-active",
   "metadata": {
    "execution": {
     "iopub.execute_input": "2021-10-14T14:30:09.743841Z",
     "iopub.status.busy": "2021-10-14T14:30:09.730896Z",
     "iopub.status.idle": "2021-10-14T14:30:09.760935Z",
     "shell.execute_reply": "2021-10-14T14:30:09.762356Z"
    },
    "papermill": {
     "duration": 0.07041,
     "end_time": "2021-10-14T14:30:09.762790",
     "exception": false,
     "start_time": "2021-10-14T14:30:09.692380",
     "status": "completed"
    },
    "tags": []
   },
   "outputs": [],
   "source": [
    "df_pivot = df.pivot_table(index=\"PRODUCT\", columns = \"RECORD_TIME\", values = \"LISTING_COUNT\")"
   ]
  },
  {
   "cell_type": "code",
   "execution_count": 6,
   "id": "union-huntington",
   "metadata": {
    "execution": {
     "iopub.execute_input": "2021-10-14T14:30:09.820032Z",
     "iopub.status.busy": "2021-10-14T14:30:09.817585Z",
     "iopub.status.idle": "2021-10-14T14:30:09.823426Z",
     "shell.execute_reply": "2021-10-14T14:30:09.824754Z"
    },
    "papermill": {
     "duration": 0.042094,
     "end_time": "2021-10-14T14:30:09.825180",
     "exception": false,
     "start_time": "2021-10-14T14:30:09.783086",
     "status": "completed"
    },
    "tags": []
   },
   "outputs": [],
   "source": [
    "df_pivot.columns = [\"stamp_1\", \"stamp_2\"]\n",
    "df_pivot_diff = df_pivot.diff(axis=1)"
   ]
  },
  {
   "cell_type": "code",
   "execution_count": 7,
   "id": "fifth-motion",
   "metadata": {
    "execution": {
     "iopub.execute_input": "2021-10-14T14:30:09.879854Z",
     "iopub.status.busy": "2021-10-14T14:30:09.877464Z",
     "iopub.status.idle": "2021-10-14T14:30:11.368138Z",
     "shell.execute_reply": "2021-10-14T14:30:11.369587Z"
    },
    "papermill": {
     "duration": 1.524471,
     "end_time": "2021-10-14T14:30:11.370024",
     "exception": false,
     "start_time": "2021-10-14T14:30:09.845553",
     "status": "completed"
    },
    "tags": []
   },
   "outputs": [
    {
     "data": {
      "text/plain": [
       "<AxesSubplot:ylabel='PRODUCT'>"
      ]
     },
     "execution_count": 7,
     "metadata": {},
     "output_type": "execute_result"
    },
    {
     "data": {
      "image/png": "[encoded data removed]",
      "text/plain": [
       "<Figure size 432x288 with 1 Axes>"
      ]
     },
     "metadata": {
      "needs_background": "light"
     },
     "output_type": "display_data"
    }
   ],
   "source": [
    "df_pivot_diff.sort_values(\"stamp_2\", ascending = False)[\"stamp_2\"].head(10).plot.barh()"
   ]
  },
  {
   "cell_type": "code",
   "execution_count": null,
   "id": "extra-executive",
   "metadata": {
    "papermill": {
     "duration": 0.021737,
     "end_time": "2021-10-14T14:30:11.416261",
     "exception": false,
     "start_time": "2021-10-14T14:30:11.394524",
     "status": "completed"
    },
    "tags": []
   },
   "outputs": [],
   "source": []
  }
 ],
 "metadata": {
  "kernelspec": {
   "display_name": "Python 3",
   "language": "python",
   "name": "python3"
  },
  "language_info": {
   "codemirror_mode": {
    "name": "ipython",
    "version": 3
   },
   "file_extension": ".py",
   "mimetype": "text/x-python",
   "name": "python",
   "nbconvert_exporter": "python",
   "pygments_lexer": "ipython3",
   "version": "3.9.5"
  },
  "papermill": {
   "default_parameters": {},
   "duration": 7.829263,
   "end_time": "2021-10-14T14:30:12.695567",
   "environment_variables": {},
   "exception": null,
   "input_path": "eBay_Overview.ipynb",
   "output_path": "eBay_Overview.ipynb",
   "parameters": {},
   "start_time": "2021-10-14T14:30:04.866304",
   "version": "2.3.3"
  }
 },
 "nbformat": 4,
 "nbformat_minor": 5
}