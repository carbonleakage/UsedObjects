{
 "cells": [
  {
   "cell_type": "code",
   "execution_count": 1,
   "id": "reverse-picking",
   "metadata": {
    "execution": {
     "iopub.execute_input": "2021-11-17T15:30:07.400107Z",
     "iopub.status.busy": "2021-11-17T15:30:07.397858Z",
     "iopub.status.idle": "2021-11-17T15:30:08.349289Z",
     "shell.execute_reply": "2021-11-17T15:30:08.350741Z"
    },
    "papermill": {
     "duration": 1.000149,
     "end_time": "2021-11-17T15:30:08.351459",
     "exception": false,
     "start_time": "2021-11-17T15:30:07.351310",
     "status": "completed"
    },
    "tags": []
   },
   "outputs": [],
   "source": [
    "import pandas as pd\n",
    "import sqlite3"
   ]
  },
  {
   "cell_type": "code",
   "execution_count": 2,
   "id": "innovative-syndrome",
   "metadata": {
    "execution": {
     "iopub.execute_input": "2021-11-17T15:30:08.403269Z",
     "iopub.status.busy": "2021-11-17T15:30:08.401154Z",
     "iopub.status.idle": "2021-11-17T15:30:09.251989Z",
     "shell.execute_reply": "2021-11-17T15:30:09.253672Z"
    },
    "papermill": {
     "duration": 0.882928,
     "end_time": "2021-11-17T15:30:09.254167",
     "exception": false,
     "start_time": "2021-11-17T15:30:08.371239",
     "status": "completed"
    },
    "tags": []
   },
   "outputs": [],
   "source": [
    "timestamps = pd.read_sql(\"select distinct record_time from EBAY_TOP_BERLIN order by record_time desc limit 2\", sqlite3.connect(\"UsedObjects.db\"))"
   ]
  },
  {
   "cell_type": "code",
   "execution_count": 3,
   "id": "periodic-identification",
   "metadata": {
    "execution": {
     "iopub.execute_input": "2021-11-17T15:30:09.325807Z",
     "iopub.status.busy": "2021-11-17T15:30:09.323359Z",
     "iopub.status.idle": "2021-11-17T15:30:09.348009Z",
     "shell.execute_reply": "2021-11-17T15:30:09.349740Z"
    },
    "papermill": {
     "duration": 0.075767,
     "end_time": "2021-11-17T15:30:09.350271",
     "exception": false,
     "start_time": "2021-11-17T15:30:09.274504",
     "status": "completed"
    },
    "tags": []
   },
   "outputs": [
    {
     "data": {
      "text/html": [
       "<div>\n",
       "<style scoped>\n",
       "    .dataframe tbody tr th:only-of-type {\n",
       "        vertical-align: middle;\n",
       "    }\n",
       "\n",
       "    .dataframe tbody tr th {\n",
       "        vertical-align: top;\n",
       "    }\n",
       "\n",
       "    .dataframe thead th {\n",
       "        text-align: right;\n",
       "    }\n",
       "</style>\n",
       "<table border=\"1\" class=\"dataframe\">\n",
       "  <thead>\n",
       "    <tr style=\"text-align: right;\">\n",
       "      <th></th>\n",
       "      <th>RECORD_TIME</th>\n",
       "    </tr>\n",
       "  </thead>\n",
       "  <tbody>\n",
       "    <tr>\n",
       "      <th>0</th>\n",
       "      <td>2021-11-17 16:30</td>\n",
       "    </tr>\n",
       "    <tr>\n",
       "      <th>1</th>\n",
       "      <td>2021-11-17 16:00</td>\n",
       "    </tr>\n",
       "  </tbody>\n",
       "</table>\n",
       "</div>"
      ],
      "text/plain": [
       "        RECORD_TIME\n",
       "0  2021-11-17 16:30\n",
       "1  2021-11-17 16:00"
      ]
     },
     "execution_count": 3,
     "metadata": {},
     "output_type": "execute_result"
    }
   ],
   "source": [
    "timestamps"
   ]
  },
  {
   "cell_type": "code",
   "execution_count": 4,
   "id": "alternate-victory",
   "metadata": {
    "execution": {
     "iopub.execute_input": "2021-11-17T15:30:09.405492Z",
     "iopub.status.busy": "2021-11-17T15:30:09.403254Z",
     "iopub.status.idle": "2021-11-17T15:30:10.613671Z",
     "shell.execute_reply": "2021-11-17T15:30:10.615760Z"
    },
    "papermill": {
     "duration": 1.244696,
     "end_time": "2021-11-17T15:30:10.616239",
     "exception": false,
     "start_time": "2021-11-17T15:30:09.371543",
     "status": "completed"
    },
    "tags": []
   },
   "outputs": [],
   "source": [
    "df = pd.read_sql(\"select * from EBAY_TOP_BERLIN where record_time in (select distinct record_time from EBAY_TOP_BERLIN order by record_time desc limit 2)\", sqlite3.connect(\"UsedObjects.db\"))"
   ]
  },
  {
   "cell_type": "code",
   "execution_count": 5,
   "id": "popular-active",
   "metadata": {
    "execution": {
     "iopub.execute_input": "2021-11-17T15:30:10.677907Z",
     "iopub.status.busy": "2021-11-17T15:30:10.671200Z",
     "iopub.status.idle": "2021-11-17T15:30:10.709422Z",
     "shell.execute_reply": "2021-11-17T15:30:10.710749Z"
    },
    "papermill": {
     "duration": 0.073761,
     "end_time": "2021-11-17T15:30:10.711213",
     "exception": false,
     "start_time": "2021-11-17T15:30:10.637452",
     "status": "completed"
    },
    "tags": []
   },
   "outputs": [],
   "source": [
    "df_pivot = df.pivot_table(index=\"PRODUCT\", columns = \"RECORD_TIME\", values = \"LISTING_COUNT\")"
   ]
  },
  {
   "cell_type": "code",
   "execution_count": 6,
   "id": "union-huntington",
   "metadata": {
    "execution": {
     "iopub.execute_input": "2021-11-17T15:30:10.768078Z",
     "iopub.status.busy": "2021-11-17T15:30:10.765617Z",
     "iopub.status.idle": "2021-11-17T15:30:10.771360Z",
     "shell.execute_reply": "2021-11-17T15:30:10.772575Z"
    },
    "papermill": {
     "duration": 0.041815,
     "end_time": "2021-11-17T15:30:10.773061",
     "exception": false,
     "start_time": "2021-11-17T15:30:10.731246",
     "status": "completed"
    },
    "tags": []
   },
   "outputs": [],
   "source": [
    "df_pivot.columns = [\"stamp_1\", \"stamp_2\"]\n",
    "df_pivot_diff = df_pivot.diff(axis=1)"
   ]
  },
  {
   "cell_type": "code",
   "execution_count": 7,
   "id": "fifth-motion",
   "metadata": {
    "execution": {
     "iopub.execute_input": "2021-11-17T15:30:10.827407Z",
     "iopub.status.busy": "2021-11-17T15:30:10.825110Z",
     "iopub.status.idle": "2021-11-17T15:30:12.571889Z",
     "shell.execute_reply": "2021-11-17T15:30:12.569922Z"
    },
    "papermill": {
     "duration": 1.77868,
     "end_time": "2021-11-17T15:30:12.572307",
     "exception": false,
     "start_time": "2021-11-17T15:30:10.793627",
     "status": "completed"
    },
    "tags": []
   },
   "outputs": [
    {
     "data": {
      "text/plain": [
       "<AxesSubplot:ylabel='PRODUCT'>"
      ]
     },
     "execution_count": 7,
     "metadata": {},
     "output_type": "execute_result"
    },
    {
     "data": {
      "image/png": "[encoded data removed]",
      "text/plain": [
       "<Figure size 432x288 with 1 Axes>"
      ]
     },
     "metadata": {
      "needs_background": "light"
     },
     "output_type": "display_data"
    }
   ],
   "source": [
    "df_pivot_diff.sort_values(\"stamp_2\", ascending = False)[\"stamp_2\"].head(10).plot.barh()"
   ]
  },
  {
   "cell_type": "code",
   "execution_count": null,
   "id": "extra-executive",
   "metadata": {
    "papermill": {
     "duration": 0.023287,
     "end_time": "2021-11-17T15:30:12.621945",
     "exception": false,
     "start_time": "2021-11-17T15:30:12.598658",
     "status": "completed"
    },
    "tags": []
   },
   "outputs": [],
   "source": []
  }
 ],
 "metadata": {
  "kernelspec": {
   "display_name": "Python 3",
   "language": "python",
   "name": "python3"
  },
  "language_info": {
   "codemirror_mode": {
    "name": "ipython",
    "version": 3
   },
   "file_extension": ".py",
   "mimetype": "text/x-python",
   "name": "python",
   "nbconvert_exporter": "python",
   "pygments_lexer": "ipython3",
   "version": "3.9.5"
  },
  "papermill": {
   "default_parameters": {},
   "duration": 8.744367,
   "end_time": "2021-11-17T15:30:13.365934",
   "environment_variables": {},
   "exception": null,
   "input_path": "eBay_Overview.ipynb",
   "output_path": "eBay_Overview.ipynb",
   "parameters": {},
   "start_time": "2021-11-17T15:30:04.621567",
   "version": "2.3.3"
  }
 },
 "nbformat": 4,
 "nbformat_minor": 5
}