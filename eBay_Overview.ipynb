{
 "cells": [
  {
   "cell_type": "code",
   "execution_count": 1,
   "id": "reverse-picking",
   "metadata": {
    "execution": {
     "iopub.execute_input": "2021-08-20T04:00:06.909214Z",
     "iopub.status.busy": "2021-08-20T04:00:06.907315Z",
     "iopub.status.idle": "2021-08-20T04:00:07.713571Z",
     "shell.execute_reply": "2021-08-20T04:00:07.714879Z"
    },
    "papermill": {
     "duration": 0.85684,
     "end_time": "2021-08-20T04:00:07.715503",
     "exception": false,
     "start_time": "2021-08-20T04:00:06.858663",
     "status": "completed"
    },
    "tags": []
   },
   "outputs": [],
   "source": [
    "import pandas as pd\n",
    "import sqlite3"
   ]
  },
  {
   "cell_type": "code",
   "execution_count": 2,
   "id": "innovative-syndrome",
   "metadata": {
    "execution": {
     "iopub.execute_input": "2021-08-20T04:00:07.768280Z",
     "iopub.status.busy": "2021-08-20T04:00:07.766138Z",
     "iopub.status.idle": "2021-08-20T04:00:07.853797Z",
     "shell.execute_reply": "2021-08-20T04:00:07.855029Z"
    },
    "papermill": {
     "duration": 0.117729,
     "end_time": "2021-08-20T04:00:07.855462",
     "exception": false,
     "start_time": "2021-08-20T04:00:07.737733",
     "status": "completed"
    },
    "tags": []
   },
   "outputs": [],
   "source": [
    "timestamps = pd.read_sql(\"select distinct record_time from EBAY_TOP_BERLIN order by record_time desc limit 2\", sqlite3.connect(\"UsedObjects.db\"))"
   ]
  },
  {
   "cell_type": "code",
   "execution_count": 3,
   "id": "periodic-identification",
   "metadata": {
    "execution": {
     "iopub.execute_input": "2021-08-20T04:00:07.920924Z",
     "iopub.status.busy": "2021-08-20T04:00:07.918935Z",
     "iopub.status.idle": "2021-08-20T04:00:07.939176Z",
     "shell.execute_reply": "2021-08-20T04:00:07.940361Z"
    },
    "papermill": {
     "duration": 0.064674,
     "end_time": "2021-08-20T04:00:07.940794",
     "exception": false,
     "start_time": "2021-08-20T04:00:07.876120",
     "status": "completed"
    },
    "tags": []
   },
   "outputs": [
    {
     "data": {
      "text/html": [
       "<div>\n",
       "<style scoped>\n",
       "    .dataframe tbody tr th:only-of-type {\n",
       "        vertical-align: middle;\n",
       "    }\n",
       "\n",
       "    .dataframe tbody tr th {\n",
       "        vertical-align: top;\n",
       "    }\n",
       "\n",
       "    .dataframe thead th {\n",
       "        text-align: right;\n",
       "    }\n",
       "</style>\n",
       "<table border=\"1\" class=\"dataframe\">\n",
       "  <thead>\n",
       "    <tr style=\"text-align: right;\">\n",
       "      <th></th>\n",
       "      <th>RECORD_TIME</th>\n",
       "    </tr>\n",
       "  </thead>\n",
       "  <tbody>\n",
       "    <tr>\n",
       "      <th>0</th>\n",
       "      <td>2021-08-20 06:00</td>\n",
       "    </tr>\n",
       "    <tr>\n",
       "      <th>1</th>\n",
       "      <td>2021-08-20 05:30</td>\n",
       "    </tr>\n",
       "  </tbody>\n",
       "</table>\n",
       "</div>"
      ],
      "text/plain": [
       "        RECORD_TIME\n",
       "0  2021-08-20 06:00\n",
       "1  2021-08-20 05:30"
      ]
     },
     "execution_count": 3,
     "metadata": {},
     "output_type": "execute_result"
    }
   ],
   "source": [
    "timestamps"
   ]
  },
  {
   "cell_type": "code",
   "execution_count": 4,
   "id": "alternate-victory",
   "metadata": {
    "execution": {
     "iopub.execute_input": "2021-08-20T04:00:07.994778Z",
     "iopub.status.busy": "2021-08-20T04:00:07.992462Z",
     "iopub.status.idle": "2021-08-20T04:00:08.121127Z",
     "shell.execute_reply": "2021-08-20T04:00:08.122459Z"
    },
    "papermill": {
     "duration": 0.159335,
     "end_time": "2021-08-20T04:00:08.122896",
     "exception": false,
     "start_time": "2021-08-20T04:00:07.963561",
     "status": "completed"
    },
    "tags": []
   },
   "outputs": [],
   "source": [
    "df = pd.read_sql(\"select * from EBAY_TOP_BERLIN where record_time in (select distinct record_time from EBAY_TOP_BERLIN order by record_time desc limit 2)\", sqlite3.connect(\"UsedObjects.db\"))"
   ]
  },
  {
   "cell_type": "code",
   "execution_count": 5,
   "id": "popular-active",
   "metadata": {
    "execution": {
     "iopub.execute_input": "2021-08-20T04:00:08.185603Z",
     "iopub.status.busy": "2021-08-20T04:00:08.183547Z",
     "iopub.status.idle": "2021-08-20T04:00:08.210237Z",
     "shell.execute_reply": "2021-08-20T04:00:08.211445Z"
    },
    "papermill": {
     "duration": 0.067232,
     "end_time": "2021-08-20T04:00:08.211850",
     "exception": false,
     "start_time": "2021-08-20T04:00:08.144618",
     "status": "completed"
    },
    "tags": []
   },
   "outputs": [],
   "source": [
    "df_pivot = df.pivot_table(index=\"PRODUCT\", columns = \"RECORD_TIME\", values = \"LISTING_COUNT\")"
   ]
  },
  {
   "cell_type": "code",
   "execution_count": 6,
   "id": "union-huntington",
   "metadata": {
    "execution": {
     "iopub.execute_input": "2021-08-20T04:00:08.268332Z",
     "iopub.status.busy": "2021-08-20T04:00:08.266291Z",
     "iopub.status.idle": "2021-08-20T04:00:08.271444Z",
     "shell.execute_reply": "2021-08-20T04:00:08.272707Z"
    },
    "papermill": {
     "duration": 0.039993,
     "end_time": "2021-08-20T04:00:08.273122",
     "exception": false,
     "start_time": "2021-08-20T04:00:08.233129",
     "status": "completed"
    },
    "tags": []
   },
   "outputs": [],
   "source": [
    "df_pivot.columns = [\"stamp_1\", \"stamp_2\"]\n",
    "df_pivot_diff = df_pivot.diff(axis=1)"
   ]
  },
  {
   "cell_type": "code",
   "execution_count": 7,
   "id": "fifth-motion",
   "metadata": {
    "execution": {
     "iopub.execute_input": "2021-08-20T04:00:08.328666Z",
     "iopub.status.busy": "2021-08-20T04:00:08.326429Z",
     "iopub.status.idle": "2021-08-20T04:00:09.790820Z",
     "shell.execute_reply": "2021-08-20T04:00:09.792173Z"
    },
    "papermill": {
     "duration": 1.4979,
     "end_time": "2021-08-20T04:00:09.792654",
     "exception": false,
     "start_time": "2021-08-20T04:00:08.294754",
     "status": "completed"
    },
    "tags": []
   },
   "outputs": [
    {
     "data": {
      "text/plain": [
       "<AxesSubplot:ylabel='PRODUCT'>"
      ]
     },
     "execution_count": 7,
     "metadata": {},
     "output_type": "execute_result"
    },
    {
     "data": {
      "image/png": "[encoded data removed]",
      "text/plain": [
       "<Figure size 432x288 with 1 Axes>"
      ]
     },
     "metadata": {
      "needs_background": "light"
     },
     "output_type": "display_data"
    }
   ],
   "source": [
    "df_pivot_diff.sort_values(\"stamp_2\", ascending = False)[\"stamp_2\"].head(10).plot.barh()"
   ]
  },
  {
   "cell_type": "code",
   "execution_count": null,
   "id": "extra-executive",
   "metadata": {
    "papermill": {
     "duration": 0.022184,
     "end_time": "2021-08-20T04:00:09.839613",
     "exception": false,
     "start_time": "2021-08-20T04:00:09.817429",
     "status": "completed"
    },
    "tags": []
   },
   "outputs": [],
   "source": []
  }
 ],
 "metadata": {
  "kernelspec": {
   "display_name": "Python 3",
   "language": "python",
   "name": "python3"
  },
  "language_info": {
   "codemirror_mode": {
    "name": "ipython",
    "version": 3
   },
   "file_extension": ".py",
   "mimetype": "text/x-python",
   "name": "python",
   "nbconvert_exporter": "python",
   "pygments_lexer": "ipython3",
   "version": "3.9.5"
  },
  "papermill": {
   "default_parameters": {},
   "duration": 6.83726,
   "end_time": "2021-08-20T04:00:11.288473",
   "environment_variables": {},
   "exception": null,
   "input_path": "eBay_Overview.ipynb",
   "output_path": "eBay_Overview.ipynb",
   "parameters": {},
   "start_time": "2021-08-20T04:00:04.451213",
   "version": "2.3.3"
  }
 },
 "nbformat": 4,
 "nbformat_minor": 5
}