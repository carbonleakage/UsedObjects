{
 "cells": [
  {
   "cell_type": "code",
   "execution_count": 1,
   "id": "reverse-picking",
   "metadata": {
    "execution": {
     "iopub.execute_input": "2021-10-05T12:00:06.990209Z",
     "iopub.status.busy": "2021-10-05T12:00:06.988308Z",
     "iopub.status.idle": "2021-10-05T12:00:07.797218Z",
     "shell.execute_reply": "2021-10-05T12:00:07.795667Z"
    },
    "papermill": {
     "duration": 0.85785,
     "end_time": "2021-10-05T12:00:07.797619",
     "exception": false,
     "start_time": "2021-10-05T12:00:06.939769",
     "status": "completed"
    },
    "tags": []
   },
   "outputs": [],
   "source": [
    "import pandas as pd\n",
    "import sqlite3"
   ]
  },
  {
   "cell_type": "code",
   "execution_count": 2,
   "id": "innovative-syndrome",
   "metadata": {
    "execution": {
     "iopub.execute_input": "2021-10-05T12:00:07.849682Z",
     "iopub.status.busy": "2021-10-05T12:00:07.847551Z",
     "iopub.status.idle": "2021-10-05T12:00:08.299713Z",
     "shell.execute_reply": "2021-10-05T12:00:08.300934Z"
    },
    "papermill": {
     "duration": 0.481889,
     "end_time": "2021-10-05T12:00:08.301326",
     "exception": false,
     "start_time": "2021-10-05T12:00:07.819437",
     "status": "completed"
    },
    "tags": []
   },
   "outputs": [],
   "source": [
    "timestamps = pd.read_sql(\"select distinct record_time from EBAY_TOP_BERLIN order by record_time desc limit 2\", sqlite3.connect(\"UsedObjects.db\"))"
   ]
  },
  {
   "cell_type": "code",
   "execution_count": 3,
   "id": "periodic-identification",
   "metadata": {
    "execution": {
     "iopub.execute_input": "2021-10-05T12:00:08.369649Z",
     "iopub.status.busy": "2021-10-05T12:00:08.367673Z",
     "iopub.status.idle": "2021-10-05T12:00:08.389682Z",
     "shell.execute_reply": "2021-10-05T12:00:08.391098Z"
    },
    "papermill": {
     "duration": 0.068465,
     "end_time": "2021-10-05T12:00:08.391590",
     "exception": false,
     "start_time": "2021-10-05T12:00:08.323125",
     "status": "completed"
    },
    "tags": []
   },
   "outputs": [
    {
     "data": {
      "text/html": [
       "<div>\n",
       "<style scoped>\n",
       "    .dataframe tbody tr th:only-of-type {\n",
       "        vertical-align: middle;\n",
       "    }\n",
       "\n",
       "    .dataframe tbody tr th {\n",
       "        vertical-align: top;\n",
       "    }\n",
       "\n",
       "    .dataframe thead th {\n",
       "        text-align: right;\n",
       "    }\n",
       "</style>\n",
       "<table border=\"1\" class=\"dataframe\">\n",
       "  <thead>\n",
       "    <tr style=\"text-align: right;\">\n",
       "      <th></th>\n",
       "      <th>RECORD_TIME</th>\n",
       "    </tr>\n",
       "  </thead>\n",
       "  <tbody>\n",
       "    <tr>\n",
       "      <th>0</th>\n",
       "      <td>2021-10-05 14:00</td>\n",
       "    </tr>\n",
       "    <tr>\n",
       "      <th>1</th>\n",
       "      <td>2021-10-05 13:30</td>\n",
       "    </tr>\n",
       "  </tbody>\n",
       "</table>\n",
       "</div>"
      ],
      "text/plain": [
       "        RECORD_TIME\n",
       "0  2021-10-05 14:00\n",
       "1  2021-10-05 13:30"
      ]
     },
     "execution_count": 3,
     "metadata": {},
     "output_type": "execute_result"
    }
   ],
   "source": [
    "timestamps"
   ]
  },
  {
   "cell_type": "code",
   "execution_count": 4,
   "id": "alternate-victory",
   "metadata": {
    "execution": {
     "iopub.execute_input": "2021-10-05T12:00:08.452184Z",
     "iopub.status.busy": "2021-10-05T12:00:08.449444Z",
     "iopub.status.idle": "2021-10-05T12:00:09.116200Z",
     "shell.execute_reply": "2021-10-05T12:00:09.117390Z"
    },
    "papermill": {
     "duration": 0.704099,
     "end_time": "2021-10-05T12:00:09.117777",
     "exception": false,
     "start_time": "2021-10-05T12:00:08.413678",
     "status": "completed"
    },
    "tags": []
   },
   "outputs": [],
   "source": [
    "df = pd.read_sql(\"select * from EBAY_TOP_BERLIN where record_time in (select distinct record_time from EBAY_TOP_BERLIN order by record_time desc limit 2)\", sqlite3.connect(\"UsedObjects.db\"))"
   ]
  },
  {
   "cell_type": "code",
   "execution_count": 5,
   "id": "popular-active",
   "metadata": {
    "execution": {
     "iopub.execute_input": "2021-10-05T12:00:09.189539Z",
     "iopub.status.busy": "2021-10-05T12:00:09.177071Z",
     "iopub.status.idle": "2021-10-05T12:00:09.205401Z",
     "shell.execute_reply": "2021-10-05T12:00:09.206594Z"
    },
    "papermill": {
     "duration": 0.068609,
     "end_time": "2021-10-05T12:00:09.207048",
     "exception": false,
     "start_time": "2021-10-05T12:00:09.138439",
     "status": "completed"
    },
    "tags": []
   },
   "outputs": [],
   "source": [
    "df_pivot = df.pivot_table(index=\"PRODUCT\", columns = \"RECORD_TIME\", values = \"LISTING_COUNT\")"
   ]
  },
  {
   "cell_type": "code",
   "execution_count": 6,
   "id": "union-huntington",
   "metadata": {
    "execution": {
     "iopub.execute_input": "2021-10-05T12:00:09.263341Z",
     "iopub.status.busy": "2021-10-05T12:00:09.261267Z",
     "iopub.status.idle": "2021-10-05T12:00:09.266603Z",
     "shell.execute_reply": "2021-10-05T12:00:09.267869Z"
    },
    "papermill": {
     "duration": 0.040255,
     "end_time": "2021-10-05T12:00:09.268300",
     "exception": false,
     "start_time": "2021-10-05T12:00:09.228045",
     "status": "completed"
    },
    "tags": []
   },
   "outputs": [],
   "source": [
    "df_pivot.columns = [\"stamp_1\", \"stamp_2\"]\n",
    "df_pivot_diff = df_pivot.diff(axis=1)"
   ]
  },
  {
   "cell_type": "code",
   "execution_count": 7,
   "id": "fifth-motion",
   "metadata": {
    "execution": {
     "iopub.execute_input": "2021-10-05T12:00:09.322850Z",
     "iopub.status.busy": "2021-10-05T12:00:09.320461Z",
     "iopub.status.idle": "2021-10-05T12:00:10.812260Z",
     "shell.execute_reply": "2021-10-05T12:00:10.813514Z"
    },
    "papermill": {
     "duration": 1.524889,
     "end_time": "2021-10-05T12:00:10.813920",
     "exception": false,
     "start_time": "2021-10-05T12:00:09.289031",
     "status": "completed"
    },
    "tags": []
   },
   "outputs": [
    {
     "data": {
      "text/plain": [
       "<AxesSubplot:ylabel='PRODUCT'>"
      ]
     },
     "execution_count": 7,
     "metadata": {},
     "output_type": "execute_result"
    },
    {
     "data": {
      "image/png": "[encoded data removed]",
      "text/plain": [
       "<Figure size 432x288 with 1 Axes>"
      ]
     },
     "metadata": {
      "needs_background": "light"
     },
     "output_type": "display_data"
    }
   ],
   "source": [
    "df_pivot_diff.sort_values(\"stamp_2\", ascending = False)[\"stamp_2\"].head(10).plot.barh()"
   ]
  },
  {
   "cell_type": "code",
   "execution_count": null,
   "id": "extra-executive",
   "metadata": {
    "papermill": {
     "duration": 0.022606,
     "end_time": "2021-10-05T12:00:10.859823",
     "exception": false,
     "start_time": "2021-10-05T12:00:10.837217",
     "status": "completed"
    },
    "tags": []
   },
   "outputs": [],
   "source": []
  }
 ],
 "metadata": {
  "kernelspec": {
   "display_name": "Python 3",
   "language": "python",
   "name": "python3"
  },
  "language_info": {
   "codemirror_mode": {
    "name": "ipython",
    "version": 3
   },
   "file_extension": ".py",
   "mimetype": "text/x-python",
   "name": "python",
   "nbconvert_exporter": "python",
   "pygments_lexer": "ipython3",
   "version": "3.9.5"
  },
  "papermill": {
   "default_parameters": {},
   "duration": 7.821523,
   "end_time": "2021-10-05T12:00:12.359803",
   "environment_variables": {},
   "exception": null,
   "input_path": "eBay_Overview.ipynb",
   "output_path": "eBay_Overview.ipynb",
   "parameters": {},
   "start_time": "2021-10-05T12:00:04.538280",
   "version": "2.3.3"
  }
 },
 "nbformat": 4,
 "nbformat_minor": 5
}