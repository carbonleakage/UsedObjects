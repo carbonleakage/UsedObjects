{
 "cells": [
  {
   "cell_type": "code",
   "execution_count": 1,
   "id": "reverse-picking",
   "metadata": {
    "execution": {
     "iopub.execute_input": "2021-10-31T07:30:07.197455Z",
     "iopub.status.busy": "2021-10-31T07:30:07.195384Z",
     "iopub.status.idle": "2021-10-31T07:30:08.002996Z",
     "shell.execute_reply": "2021-10-31T07:30:08.001028Z"
    },
    "papermill": {
     "duration": 0.857471,
     "end_time": "2021-10-31T07:30:08.003403",
     "exception": false,
     "start_time": "2021-10-31T07:30:07.145932",
     "status": "completed"
    },
    "tags": []
   },
   "outputs": [],
   "source": [
    "import pandas as pd\n",
    "import sqlite3"
   ]
  },
  {
   "cell_type": "code",
   "execution_count": 2,
   "id": "innovative-syndrome",
   "metadata": {
    "execution": {
     "iopub.execute_input": "2021-10-31T07:30:08.054328Z",
     "iopub.status.busy": "2021-10-31T07:30:08.052344Z",
     "iopub.status.idle": "2021-10-31T07:30:08.740788Z",
     "shell.execute_reply": "2021-10-31T07:30:08.742025Z"
    },
    "papermill": {
     "duration": 0.717772,
     "end_time": "2021-10-31T07:30:08.742419",
     "exception": false,
     "start_time": "2021-10-31T07:30:08.024647",
     "status": "completed"
    },
    "tags": []
   },
   "outputs": [],
   "source": [
    "timestamps = pd.read_sql(\"select distinct record_time from EBAY_TOP_BERLIN order by record_time desc limit 2\", sqlite3.connect(\"UsedObjects.db\"))"
   ]
  },
  {
   "cell_type": "code",
   "execution_count": 3,
   "id": "periodic-identification",
   "metadata": {
    "execution": {
     "iopub.execute_input": "2021-10-31T07:30:08.817294Z",
     "iopub.status.busy": "2021-10-31T07:30:08.815132Z",
     "iopub.status.idle": "2021-10-31T07:30:08.835412Z",
     "shell.execute_reply": "2021-10-31T07:30:08.836604Z"
    },
    "papermill": {
     "duration": 0.067611,
     "end_time": "2021-10-31T07:30:08.837084",
     "exception": false,
     "start_time": "2021-10-31T07:30:08.769473",
     "status": "completed"
    },
    "tags": []
   },
   "outputs": [
    {
     "data": {
      "text/html": [
       "<div>\n",
       "<style scoped>\n",
       "    .dataframe tbody tr th:only-of-type {\n",
       "        vertical-align: middle;\n",
       "    }\n",
       "\n",
       "    .dataframe tbody tr th {\n",
       "        vertical-align: top;\n",
       "    }\n",
       "\n",
       "    .dataframe thead th {\n",
       "        text-align: right;\n",
       "    }\n",
       "</style>\n",
       "<table border=\"1\" class=\"dataframe\">\n",
       "  <thead>\n",
       "    <tr style=\"text-align: right;\">\n",
       "      <th></th>\n",
       "      <th>RECORD_TIME</th>\n",
       "    </tr>\n",
       "  </thead>\n",
       "  <tbody>\n",
       "    <tr>\n",
       "      <th>0</th>\n",
       "      <td>2021-10-31 08:30</td>\n",
       "    </tr>\n",
       "    <tr>\n",
       "      <th>1</th>\n",
       "      <td>2021-10-31 08:00</td>\n",
       "    </tr>\n",
       "  </tbody>\n",
       "</table>\n",
       "</div>"
      ],
      "text/plain": [
       "        RECORD_TIME\n",
       "0  2021-10-31 08:30\n",
       "1  2021-10-31 08:00"
      ]
     },
     "execution_count": 3,
     "metadata": {},
     "output_type": "execute_result"
    }
   ],
   "source": [
    "timestamps"
   ]
  },
  {
   "cell_type": "code",
   "execution_count": 4,
   "id": "alternate-victory",
   "metadata": {
    "execution": {
     "iopub.execute_input": "2021-10-31T07:30:08.890609Z",
     "iopub.status.busy": "2021-10-31T07:30:08.888375Z",
     "iopub.status.idle": "2021-10-31T07:30:09.869199Z",
     "shell.execute_reply": "2021-10-31T07:30:09.870538Z"
    },
    "papermill": {
     "duration": 1.010967,
     "end_time": "2021-10-31T07:30:09.870942",
     "exception": false,
     "start_time": "2021-10-31T07:30:08.859975",
     "status": "completed"
    },
    "tags": []
   },
   "outputs": [],
   "source": [
    "df = pd.read_sql(\"select * from EBAY_TOP_BERLIN where record_time in (select distinct record_time from EBAY_TOP_BERLIN order by record_time desc limit 2)\", sqlite3.connect(\"UsedObjects.db\"))"
   ]
  },
  {
   "cell_type": "code",
   "execution_count": 5,
   "id": "popular-active",
   "metadata": {
    "execution": {
     "iopub.execute_input": "2021-10-31T07:30:09.940593Z",
     "iopub.status.busy": "2021-10-31T07:30:09.928886Z",
     "iopub.status.idle": "2021-10-31T07:30:09.957249Z",
     "shell.execute_reply": "2021-10-31T07:30:09.958459Z"
    },
    "papermill": {
     "duration": 0.067288,
     "end_time": "2021-10-31T07:30:09.958851",
     "exception": false,
     "start_time": "2021-10-31T07:30:09.891563",
     "status": "completed"
    },
    "tags": []
   },
   "outputs": [],
   "source": [
    "df_pivot = df.pivot_table(index=\"PRODUCT\", columns = \"RECORD_TIME\", values = \"LISTING_COUNT\")"
   ]
  },
  {
   "cell_type": "code",
   "execution_count": 6,
   "id": "union-huntington",
   "metadata": {
    "execution": {
     "iopub.execute_input": "2021-10-31T07:30:10.014978Z",
     "iopub.status.busy": "2021-10-31T07:30:10.012915Z",
     "iopub.status.idle": "2021-10-31T07:30:10.018021Z",
     "shell.execute_reply": "2021-10-31T07:30:10.019291Z"
    },
    "papermill": {
     "duration": 0.040114,
     "end_time": "2021-10-31T07:30:10.019702",
     "exception": false,
     "start_time": "2021-10-31T07:30:09.979588",
     "status": "completed"
    },
    "tags": []
   },
   "outputs": [],
   "source": [
    "df_pivot.columns = [\"stamp_1\", \"stamp_2\"]\n",
    "df_pivot_diff = df_pivot.diff(axis=1)"
   ]
  },
  {
   "cell_type": "code",
   "execution_count": 7,
   "id": "fifth-motion",
   "metadata": {
    "execution": {
     "iopub.execute_input": "2021-10-31T07:30:10.075399Z",
     "iopub.status.busy": "2021-10-31T07:30:10.072724Z",
     "iopub.status.idle": "2021-10-31T07:30:11.561012Z",
     "shell.execute_reply": "2021-10-31T07:30:11.562319Z"
    },
    "papermill": {
     "duration": 1.521629,
     "end_time": "2021-10-31T07:30:11.562732",
     "exception": false,
     "start_time": "2021-10-31T07:30:10.041103",
     "status": "completed"
    },
    "tags": []
   },
   "outputs": [
    {
     "data": {
      "text/plain": [
       "<AxesSubplot:ylabel='PRODUCT'>"
      ]
     },
     "execution_count": 7,
     "metadata": {},
     "output_type": "execute_result"
    },
    {
     "data": {
      "image/png": "[encoded data removed]",
      "text/plain": [
       "<Figure size 432x288 with 1 Axes>"
      ]
     },
     "metadata": {
      "needs_background": "light"
     },
     "output_type": "display_data"
    }
   ],
   "source": [
    "df_pivot_diff.sort_values(\"stamp_2\", ascending = False)[\"stamp_2\"].head(10).plot.barh()"
   ]
  },
  {
   "cell_type": "code",
   "execution_count": null,
   "id": "extra-executive",
   "metadata": {
    "papermill": {
     "duration": 0.022289,
     "end_time": "2021-10-31T07:30:11.609819",
     "exception": false,
     "start_time": "2021-10-31T07:30:11.587530",
     "status": "completed"
    },
    "tags": []
   },
   "outputs": [],
   "source": []
  }
 ],
 "metadata": {
  "kernelspec": {
   "display_name": "Python 3",
   "language": "python",
   "name": "python3"
  },
  "language_info": {
   "codemirror_mode": {
    "name": "ipython",
    "version": 3
   },
   "file_extension": ".py",
   "mimetype": "text/x-python",
   "name": "python",
   "nbconvert_exporter": "python",
   "pygments_lexer": "ipython3",
   "version": "3.9.5"
  },
  "papermill": {
   "default_parameters": {},
   "duration": 7.513598,
   "end_time": "2021-10-31T07:30:12.253155",
   "environment_variables": {},
   "exception": null,
   "input_path": "eBay_Overview.ipynb",
   "output_path": "eBay_Overview.ipynb",
   "parameters": {},
   "start_time": "2021-10-31T07:30:04.739557",
   "version": "2.3.3"
  }
 },
 "nbformat": 4,
 "nbformat_minor": 5
}