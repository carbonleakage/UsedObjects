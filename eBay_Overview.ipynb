{
 "cells": [
  {
   "cell_type": "code",
   "execution_count": 1,
   "id": "reverse-picking",
   "metadata": {
    "execution": {
     "iopub.execute_input": "2021-12-04T01:00:07.668152Z",
     "iopub.status.busy": "2021-12-04T01:00:07.665168Z",
     "iopub.status.idle": "2021-12-04T01:00:08.628889Z",
     "shell.execute_reply": "2021-12-04T01:00:08.631060Z"
    },
    "papermill": {
     "duration": 1.010842,
     "end_time": "2021-12-04T01:00:08.631817",
     "exception": false,
     "start_time": "2021-12-04T01:00:07.620975",
     "status": "completed"
    },
    "tags": []
   },
   "outputs": [],
   "source": [
    "import pandas as pd\n",
    "import sqlite3"
   ]
  },
  {
   "cell_type": "code",
   "execution_count": 2,
   "id": "innovative-syndrome",
   "metadata": {
    "execution": {
     "iopub.execute_input": "2021-12-04T01:00:08.701974Z",
     "iopub.status.busy": "2021-12-04T01:00:08.699640Z",
     "iopub.status.idle": "2021-12-04T01:00:09.680020Z",
     "shell.execute_reply": "2021-12-04T01:00:09.681967Z"
    },
    "papermill": {
     "duration": 1.016341,
     "end_time": "2021-12-04T01:00:09.682510",
     "exception": false,
     "start_time": "2021-12-04T01:00:08.666169",
     "status": "completed"
    },
    "tags": []
   },
   "outputs": [],
   "source": [
    "timestamps = pd.read_sql(\"select distinct record_time from EBAY_TOP_BERLIN order by record_time desc limit 2\", sqlite3.connect(\"UsedObjects.db\"))"
   ]
  },
  {
   "cell_type": "code",
   "execution_count": 3,
   "id": "periodic-identification",
   "metadata": {
    "execution": {
     "iopub.execute_input": "2021-12-04T01:00:09.761350Z",
     "iopub.status.busy": "2021-12-04T01:00:09.754447Z",
     "iopub.status.idle": "2021-12-04T01:00:09.778371Z",
     "shell.execute_reply": "2021-12-04T01:00:09.779817Z"
    },
    "papermill": {
     "duration": 0.075355,
     "end_time": "2021-12-04T01:00:09.780305",
     "exception": false,
     "start_time": "2021-12-04T01:00:09.704950",
     "status": "completed"
    },
    "tags": []
   },
   "outputs": [
    {
     "data": {
      "text/html": [
       "<div>\n",
       "<style scoped>\n",
       "    .dataframe tbody tr th:only-of-type {\n",
       "        vertical-align: middle;\n",
       "    }\n",
       "\n",
       "    .dataframe tbody tr th {\n",
       "        vertical-align: top;\n",
       "    }\n",
       "\n",
       "    .dataframe thead th {\n",
       "        text-align: right;\n",
       "    }\n",
       "</style>\n",
       "<table border=\"1\" class=\"dataframe\">\n",
       "  <thead>\n",
       "    <tr style=\"text-align: right;\">\n",
       "      <th></th>\n",
       "      <th>RECORD_TIME</th>\n",
       "    </tr>\n",
       "  </thead>\n",
       "  <tbody>\n",
       "    <tr>\n",
       "      <th>0</th>\n",
       "      <td>2021-12-04 02:00</td>\n",
       "    </tr>\n",
       "    <tr>\n",
       "      <th>1</th>\n",
       "      <td>2021-12-04 01:30</td>\n",
       "    </tr>\n",
       "  </tbody>\n",
       "</table>\n",
       "</div>"
      ],
      "text/plain": [
       "        RECORD_TIME\n",
       "0  2021-12-04 02:00\n",
       "1  2021-12-04 01:30"
      ]
     },
     "execution_count": 3,
     "metadata": {},
     "output_type": "execute_result"
    }
   ],
   "source": [
    "timestamps"
   ]
  },
  {
   "cell_type": "code",
   "execution_count": 4,
   "id": "alternate-victory",
   "metadata": {
    "execution": {
     "iopub.execute_input": "2021-12-04T01:00:09.838459Z",
     "iopub.status.busy": "2021-12-04T01:00:09.835926Z",
     "iopub.status.idle": "2021-12-04T01:00:11.227532Z",
     "shell.execute_reply": "2021-12-04T01:00:11.228937Z"
    },
    "papermill": {
     "duration": 1.427266,
     "end_time": "2021-12-04T01:00:11.229392",
     "exception": false,
     "start_time": "2021-12-04T01:00:09.802126",
     "status": "completed"
    },
    "tags": []
   },
   "outputs": [],
   "source": [
    "df = pd.read_sql(\"select * from EBAY_TOP_BERLIN where record_time in (select distinct record_time from EBAY_TOP_BERLIN order by record_time desc limit 2)\", sqlite3.connect(\"UsedObjects.db\"))"
   ]
  },
  {
   "cell_type": "code",
   "execution_count": 5,
   "id": "popular-active",
   "metadata": {
    "execution": {
     "iopub.execute_input": "2021-12-04T01:00:11.303206Z",
     "iopub.status.busy": "2021-12-04T01:00:11.290270Z",
     "iopub.status.idle": "2021-12-04T01:00:11.323573Z",
     "shell.execute_reply": "2021-12-04T01:00:11.321973Z"
    },
    "papermill": {
     "duration": 0.073847,
     "end_time": "2021-12-04T01:00:11.323982",
     "exception": false,
     "start_time": "2021-12-04T01:00:11.250135",
     "status": "completed"
    },
    "tags": []
   },
   "outputs": [],
   "source": [
    "df_pivot = df.pivot_table(index=\"PRODUCT\", columns = \"RECORD_TIME\", values = \"LISTING_COUNT\")"
   ]
  },
  {
   "cell_type": "code",
   "execution_count": 6,
   "id": "union-huntington",
   "metadata": {
    "execution": {
     "iopub.execute_input": "2021-12-04T01:00:11.387055Z",
     "iopub.status.busy": "2021-12-04T01:00:11.384664Z",
     "iopub.status.idle": "2021-12-04T01:00:11.390157Z",
     "shell.execute_reply": "2021-12-04T01:00:11.391768Z"
    },
    "papermill": {
     "duration": 0.046813,
     "end_time": "2021-12-04T01:00:11.392276",
     "exception": false,
     "start_time": "2021-12-04T01:00:11.345463",
     "status": "completed"
    },
    "tags": []
   },
   "outputs": [],
   "source": [
    "df_pivot.columns = [\"stamp_1\", \"stamp_2\"]\n",
    "df_pivot_diff = df_pivot.diff(axis=1)"
   ]
  },
  {
   "cell_type": "code",
   "execution_count": 7,
   "id": "fifth-motion",
   "metadata": {
    "execution": {
     "iopub.execute_input": "2021-12-04T01:00:11.451660Z",
     "iopub.status.busy": "2021-12-04T01:00:11.449135Z",
     "iopub.status.idle": "2021-12-04T01:00:13.416895Z",
     "shell.execute_reply": "2021-12-04T01:00:13.418261Z"
    },
    "papermill": {
     "duration": 2.005104,
     "end_time": "2021-12-04T01:00:13.418736",
     "exception": false,
     "start_time": "2021-12-04T01:00:11.413632",
     "status": "completed"
    },
    "tags": []
   },
   "outputs": [
    {
     "data": {
      "text/plain": [
       "<AxesSubplot:ylabel='PRODUCT'>"
      ]
     },
     "execution_count": 7,
     "metadata": {},
     "output_type": "execute_result"
    },
    {
     "data": {
      "image/png": "[encoded data removed]",
      "text/plain": [
       "<Figure size 432x288 with 1 Axes>"
      ]
     },
     "metadata": {
      "needs_background": "light"
     },
     "output_type": "display_data"
    }
   ],
   "source": [
    "df_pivot_diff.sort_values(\"stamp_2\", ascending = False)[\"stamp_2\"].head(10).plot.barh()"
   ]
  },
  {
   "cell_type": "code",
   "execution_count": null,
   "id": "extra-executive",
   "metadata": {
    "papermill": {
     "duration": 0.029107,
     "end_time": "2021-12-04T01:00:13.472535",
     "exception": false,
     "start_time": "2021-12-04T01:00:13.443428",
     "status": "completed"
    },
    "tags": []
   },
   "outputs": [],
   "source": []
  }
 ],
 "metadata": {
  "kernelspec": {
   "display_name": "Python 3",
   "language": "python",
   "name": "python3"
  },
  "language_info": {
   "codemirror_mode": {
    "name": "ipython",
    "version": 3
   },
   "file_extension": ".py",
   "mimetype": "text/x-python",
   "name": "python",
   "nbconvert_exporter": "python",
   "pygments_lexer": "ipython3",
   "version": "3.9.5"
  },
  "papermill": {
   "default_parameters": {},
   "duration": 9.95644,
   "end_time": "2021-12-04T01:00:14.798170",
   "environment_variables": {},
   "exception": null,
   "input_path": "eBay_Overview.ipynb",
   "output_path": "eBay_Overview.ipynb",
   "parameters": {},
   "start_time": "2021-12-04T01:00:04.841730",
   "version": "2.3.3"
  }
 },
 "nbformat": 4,
 "nbformat_minor": 5
}