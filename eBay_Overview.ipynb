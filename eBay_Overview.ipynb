{
 "cells": [
  {
   "cell_type": "code",
   "execution_count": 1,
   "id": "reverse-picking",
   "metadata": {
    "execution": {
     "iopub.execute_input": "2021-11-28T11:00:07.666931Z",
     "iopub.status.busy": "2021-11-28T11:00:07.664637Z",
     "iopub.status.idle": "2021-11-28T11:00:08.619832Z",
     "shell.execute_reply": "2021-11-28T11:00:08.622337Z"
    },
    "papermill": {
     "duration": 1.005838,
     "end_time": "2021-11-28T11:00:08.623081",
     "exception": false,
     "start_time": "2021-11-28T11:00:07.617243",
     "status": "completed"
    },
    "tags": []
   },
   "outputs": [],
   "source": [
    "import pandas as pd\n",
    "import sqlite3"
   ]
  },
  {
   "cell_type": "code",
   "execution_count": 2,
   "id": "innovative-syndrome",
   "metadata": {
    "execution": {
     "iopub.execute_input": "2021-11-28T11:00:08.685991Z",
     "iopub.status.busy": "2021-11-28T11:00:08.683763Z",
     "iopub.status.idle": "2021-11-28T11:00:09.616467Z",
     "shell.execute_reply": "2021-11-28T11:00:09.618259Z"
    },
    "papermill": {
     "duration": 0.966897,
     "end_time": "2021-11-28T11:00:09.618759",
     "exception": false,
     "start_time": "2021-11-28T11:00:08.651862",
     "status": "completed"
    },
    "tags": []
   },
   "outputs": [],
   "source": [
    "timestamps = pd.read_sql(\"select distinct record_time from EBAY_TOP_BERLIN order by record_time desc limit 2\", sqlite3.connect(\"UsedObjects.db\"))"
   ]
  },
  {
   "cell_type": "code",
   "execution_count": 3,
   "id": "periodic-identification",
   "metadata": {
    "execution": {
     "iopub.execute_input": "2021-11-28T11:00:09.689571Z",
     "iopub.status.busy": "2021-11-28T11:00:09.687463Z",
     "iopub.status.idle": "2021-11-28T11:00:09.708096Z",
     "shell.execute_reply": "2021-11-28T11:00:09.709532Z"
    },
    "papermill": {
     "duration": 0.06778,
     "end_time": "2021-11-28T11:00:09.710018",
     "exception": false,
     "start_time": "2021-11-28T11:00:09.642238",
     "status": "completed"
    },
    "tags": []
   },
   "outputs": [
    {
     "data": {
      "text/html": [
       "<div>\n",
       "<style scoped>\n",
       "    .dataframe tbody tr th:only-of-type {\n",
       "        vertical-align: middle;\n",
       "    }\n",
       "\n",
       "    .dataframe tbody tr th {\n",
       "        vertical-align: top;\n",
       "    }\n",
       "\n",
       "    .dataframe thead th {\n",
       "        text-align: right;\n",
       "    }\n",
       "</style>\n",
       "<table border=\"1\" class=\"dataframe\">\n",
       "  <thead>\n",
       "    <tr style=\"text-align: right;\">\n",
       "      <th></th>\n",
       "      <th>RECORD_TIME</th>\n",
       "    </tr>\n",
       "  </thead>\n",
       "  <tbody>\n",
       "    <tr>\n",
       "      <th>0</th>\n",
       "      <td>2021-11-28 12:00</td>\n",
       "    </tr>\n",
       "    <tr>\n",
       "      <th>1</th>\n",
       "      <td>2021-11-28 11:30</td>\n",
       "    </tr>\n",
       "  </tbody>\n",
       "</table>\n",
       "</div>"
      ],
      "text/plain": [
       "        RECORD_TIME\n",
       "0  2021-11-28 12:00\n",
       "1  2021-11-28 11:30"
      ]
     },
     "execution_count": 3,
     "metadata": {},
     "output_type": "execute_result"
    }
   ],
   "source": [
    "timestamps"
   ]
  },
  {
   "cell_type": "code",
   "execution_count": 4,
   "id": "alternate-victory",
   "metadata": {
    "execution": {
     "iopub.execute_input": "2021-11-28T11:00:09.761965Z",
     "iopub.status.busy": "2021-11-28T11:00:09.760018Z",
     "iopub.status.idle": "2021-11-28T11:00:11.149726Z",
     "shell.execute_reply": "2021-11-28T11:00:11.151207Z"
    },
    "papermill": {
     "duration": 1.419896,
     "end_time": "2021-11-28T11:00:11.151673",
     "exception": false,
     "start_time": "2021-11-28T11:00:09.731777",
     "status": "completed"
    },
    "tags": []
   },
   "outputs": [],
   "source": [
    "df = pd.read_sql(\"select * from EBAY_TOP_BERLIN where record_time in (select distinct record_time from EBAY_TOP_BERLIN order by record_time desc limit 2)\", sqlite3.connect(\"UsedObjects.db\"))"
   ]
  },
  {
   "cell_type": "code",
   "execution_count": 5,
   "id": "popular-active",
   "metadata": {
    "execution": {
     "iopub.execute_input": "2021-11-28T11:00:11.233873Z",
     "iopub.status.busy": "2021-11-28T11:00:11.220078Z",
     "iopub.status.idle": "2021-11-28T11:00:11.255855Z",
     "shell.execute_reply": "2021-11-28T11:00:11.253224Z"
    },
    "papermill": {
     "duration": 0.081531,
     "end_time": "2021-11-28T11:00:11.256334",
     "exception": false,
     "start_time": "2021-11-28T11:00:11.174803",
     "status": "completed"
    },
    "tags": []
   },
   "outputs": [],
   "source": [
    "df_pivot = df.pivot_table(index=\"PRODUCT\", columns = \"RECORD_TIME\", values = \"LISTING_COUNT\")"
   ]
  },
  {
   "cell_type": "code",
   "execution_count": 6,
   "id": "union-huntington",
   "metadata": {
    "execution": {
     "iopub.execute_input": "2021-11-28T11:00:11.323470Z",
     "iopub.status.busy": "2021-11-28T11:00:11.321131Z",
     "iopub.status.idle": "2021-11-28T11:00:11.328645Z",
     "shell.execute_reply": "2021-11-28T11:00:11.330289Z"
    },
    "papermill": {
     "duration": 0.048191,
     "end_time": "2021-11-28T11:00:11.330812",
     "exception": false,
     "start_time": "2021-11-28T11:00:11.282621",
     "status": "completed"
    },
    "tags": []
   },
   "outputs": [],
   "source": [
    "df_pivot.columns = [\"stamp_1\", \"stamp_2\"]\n",
    "df_pivot_diff = df_pivot.diff(axis=1)"
   ]
  },
  {
   "cell_type": "code",
   "execution_count": 7,
   "id": "fifth-motion",
   "metadata": {
    "execution": {
     "iopub.execute_input": "2021-11-28T11:00:11.388014Z",
     "iopub.status.busy": "2021-11-28T11:00:11.385516Z",
     "iopub.status.idle": "2021-11-28T11:00:13.369319Z",
     "shell.execute_reply": "2021-11-28T11:00:13.371996Z"
    },
    "papermill": {
     "duration": 2.021078,
     "end_time": "2021-11-28T11:00:13.372971",
     "exception": false,
     "start_time": "2021-11-28T11:00:11.351893",
     "status": "completed"
    },
    "tags": []
   },
   "outputs": [
    {
     "data": {
      "text/plain": [
       "<AxesSubplot:ylabel='PRODUCT'>"
      ]
     },
     "execution_count": 7,
     "metadata": {},
     "output_type": "execute_result"
    },
    {
     "data": {
      "image/png": "[encoded data removed]",
      "text/plain": [
       "<Figure size 432x288 with 1 Axes>"
      ]
     },
     "metadata": {
      "needs_background": "light"
     },
     "output_type": "display_data"
    }
   ],
   "source": [
    "df_pivot_diff.sort_values(\"stamp_2\", ascending = False)[\"stamp_2\"].head(10).plot.barh()"
   ]
  },
  {
   "cell_type": "code",
   "execution_count": null,
   "id": "extra-executive",
   "metadata": {
    "papermill": {
     "duration": 0.029226,
     "end_time": "2021-11-28T11:00:13.439595",
     "exception": false,
     "start_time": "2021-11-28T11:00:13.410369",
     "status": "completed"
    },
    "tags": []
   },
   "outputs": [],
   "source": []
  }
 ],
 "metadata": {
  "kernelspec": {
   "display_name": "Python 3",
   "language": "python",
   "name": "python3"
  },
  "language_info": {
   "codemirror_mode": {
    "name": "ipython",
    "version": 3
   },
   "file_extension": ".py",
   "mimetype": "text/x-python",
   "name": "python",
   "nbconvert_exporter": "python",
   "pygments_lexer": "ipython3",
   "version": "3.9.5"
  },
  "papermill": {
   "default_parameters": {},
   "duration": 9.943569,
   "end_time": "2021-11-28T11:00:14.815473",
   "environment_variables": {},
   "exception": null,
   "input_path": "eBay_Overview.ipynb",
   "output_path": "eBay_Overview.ipynb",
   "parameters": {},
   "start_time": "2021-11-28T11:00:04.871904",
   "version": "2.3.3"
  }
 },
 "nbformat": 4,
 "nbformat_minor": 5
}