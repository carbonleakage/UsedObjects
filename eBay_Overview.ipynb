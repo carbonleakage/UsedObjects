{
 "cells": [
  {
   "cell_type": "code",
   "execution_count": 1,
   "id": "reverse-picking",
   "metadata": {
    "execution": {
     "iopub.execute_input": "2021-08-08T20:03:31.876404Z",
     "iopub.status.busy": "2021-08-08T20:03:31.875685Z",
     "iopub.status.idle": "2021-08-08T20:03:34.418412Z",
     "shell.execute_reply": "2021-08-08T20:03:34.419095Z"
    },
    "papermill": {
     "duration": 2.562792,
     "end_time": "2021-08-08T20:03:34.419440",
     "exception": false,
     "start_time": "2021-08-08T20:03:31.856648",
     "status": "completed"
    },
    "tags": []
   },
   "outputs": [],
   "source": [
    "import pandas as pd\n",
    "import sqlite3"
   ]
  },
  {
   "cell_type": "code",
   "execution_count": 2,
   "id": "innovative-syndrome",
   "metadata": {
    "execution": {
     "iopub.execute_input": "2021-08-08T20:03:34.443712Z",
     "iopub.status.busy": "2021-08-08T20:03:34.442297Z",
     "iopub.status.idle": "2021-08-08T20:03:34.634742Z",
     "shell.execute_reply": "2021-08-08T20:03:34.635317Z"
    },
    "papermill": {
     "duration": 0.207496,
     "end_time": "2021-08-08T20:03:34.635518",
     "exception": false,
     "start_time": "2021-08-08T20:03:34.428022",
     "status": "completed"
    },
    "tags": []
   },
   "outputs": [],
   "source": [
    "timestamps = pd.read_sql(\"select distinct record_time from EBAY_TOP_BERLIN order by record_time desc limit 2\", sqlite3.connect(\"UsedObjects.db\"))"
   ]
  },
  {
   "cell_type": "code",
   "execution_count": 3,
   "id": "periodic-identification",
   "metadata": {
    "execution": {
     "iopub.execute_input": "2021-08-08T20:03:34.669379Z",
     "iopub.status.busy": "2021-08-08T20:03:34.665752Z",
     "iopub.status.idle": "2021-08-08T20:03:34.678249Z",
     "shell.execute_reply": "2021-08-08T20:03:34.677585Z"
    },
    "papermill": {
     "duration": 0.034069,
     "end_time": "2021-08-08T20:03:34.678457",
     "exception": false,
     "start_time": "2021-08-08T20:03:34.644388",
     "status": "completed"
    },
    "tags": []
   },
   "outputs": [
    {
     "data": {
      "text/html": [
       "<div>\n",
       "<style scoped>\n",
       "    .dataframe tbody tr th:only-of-type {\n",
       "        vertical-align: middle;\n",
       "    }\n",
       "\n",
       "    .dataframe tbody tr th {\n",
       "        vertical-align: top;\n",
       "    }\n",
       "\n",
       "    .dataframe thead th {\n",
       "        text-align: right;\n",
       "    }\n",
       "</style>\n",
       "<table border=\"1\" class=\"dataframe\">\n",
       "  <thead>\n",
       "    <tr style=\"text-align: right;\">\n",
       "      <th></th>\n",
       "      <th>RECORD_TIME</th>\n",
       "    </tr>\n",
       "  </thead>\n",
       "  <tbody>\n",
       "    <tr>\n",
       "      <th>0</th>\n",
       "      <td>2021-08-08 22:03</td>\n",
       "    </tr>\n",
       "    <tr>\n",
       "      <th>1</th>\n",
       "      <td>2021-08-08 20:58</td>\n",
       "    </tr>\n",
       "  </tbody>\n",
       "</table>\n",
       "</div>"
      ],
      "text/plain": [
       "        RECORD_TIME\n",
       "0  2021-08-08 22:03\n",
       "1  2021-08-08 20:58"
      ]
     },
     "execution_count": 3,
     "metadata": {},
     "output_type": "execute_result"
    }
   ],
   "source": [
    "timestamps"
   ]
  },
  {
   "cell_type": "code",
   "execution_count": 4,
   "id": "alternate-victory",
   "metadata": {
    "execution": {
     "iopub.execute_input": "2021-08-08T20:03:34.702391Z",
     "iopub.status.busy": "2021-08-08T20:03:34.701624Z",
     "iopub.status.idle": "2021-08-08T20:03:34.708920Z",
     "shell.execute_reply": "2021-08-08T20:03:34.709634Z"
    },
    "papermill": {
     "duration": 0.022483,
     "end_time": "2021-08-08T20:03:34.709830",
     "exception": false,
     "start_time": "2021-08-08T20:03:34.687347",
     "status": "completed"
    },
    "tags": []
   },
   "outputs": [],
   "source": [
    "df = pd.read_sql(\"select * from EBAY_TOP_BERLIN where record_time in (select distinct record_time from EBAY_TOP_BERLIN order by record_time desc limit 2)\", sqlite3.connect(\"UsedObjects.db\"))"
   ]
  },
  {
   "cell_type": "code",
   "execution_count": 5,
   "id": "popular-active",
   "metadata": {
    "execution": {
     "iopub.execute_input": "2021-08-08T20:03:34.741491Z",
     "iopub.status.busy": "2021-08-08T20:03:34.738034Z",
     "iopub.status.idle": "2021-08-08T20:03:34.762198Z",
     "shell.execute_reply": "2021-08-08T20:03:34.763023Z"
    },
    "papermill": {
     "duration": 0.045014,
     "end_time": "2021-08-08T20:03:34.763286",
     "exception": false,
     "start_time": "2021-08-08T20:03:34.718272",
     "status": "completed"
    },
    "tags": []
   },
   "outputs": [],
   "source": [
    "df_pivot = df.pivot_table(index=\"PRODUCT\", columns = \"RECORD_TIME\", values = \"LISTING_COUNT\")"
   ]
  },
  {
   "cell_type": "code",
   "execution_count": 6,
   "id": "union-huntington",
   "metadata": {
    "execution": {
     "iopub.execute_input": "2021-08-08T20:03:34.792310Z",
     "iopub.status.busy": "2021-08-08T20:03:34.791567Z",
     "iopub.status.idle": "2021-08-08T20:03:34.794913Z",
     "shell.execute_reply": "2021-08-08T20:03:34.794283Z"
    },
    "papermill": {
     "duration": 0.022516,
     "end_time": "2021-08-08T20:03:34.795069",
     "exception": false,
     "start_time": "2021-08-08T20:03:34.772553",
     "status": "completed"
    },
    "tags": []
   },
   "outputs": [],
   "source": [
    "df_pivot.columns = [\"stamp_1\", \"stamp_2\"]\n",
    "df_pivot_diff = df_pivot.diff(axis=1)"
   ]
  },
  {
   "cell_type": "code",
   "execution_count": 7,
   "id": "fifth-motion",
   "metadata": {
    "execution": {
     "iopub.execute_input": "2021-08-08T20:03:34.821885Z",
     "iopub.status.busy": "2021-08-08T20:03:34.821081Z",
     "iopub.status.idle": "2021-08-08T20:03:35.586960Z",
     "shell.execute_reply": "2021-08-08T20:03:35.587759Z"
    },
    "papermill": {
     "duration": 0.784866,
     "end_time": "2021-08-08T20:03:35.588020",
     "exception": false,
     "start_time": "2021-08-08T20:03:34.803154",
     "status": "completed"
    },
    "tags": []
   },
   "outputs": [
    {
     "data": {
      "text/plain": [
       "<AxesSubplot:ylabel='PRODUCT'>"
      ]
     },
     "execution_count": 7,
     "metadata": {},
     "output_type": "execute_result"
    },
    {
     "data": {
      "image/png": "[encoded data removed]",
      "text/plain": [
       "<Figure size 432x288 with 1 Axes>"
      ]
     },
     "metadata": {
      "needs_background": "light"
     },
     "output_type": "display_data"
    }
   ],
   "source": [
    "df_pivot_diff.sort_values(\"stamp_2\", ascending = False)[\"stamp_2\"].head(10).plot.barh()"
   ]
  },
  {
   "cell_type": "code",
   "execution_count": null,
   "id": "extra-executive",
   "metadata": {
    "papermill": {
     "duration": 0.009653,
     "end_time": "2021-08-08T20:03:35.608526",
     "exception": false,
     "start_time": "2021-08-08T20:03:35.598873",
     "status": "completed"
    },
    "tags": []
   },
   "outputs": [],
   "source": []
  }
 ],
 "metadata": {
  "kernelspec": {
   "display_name": "Python 3",
   "language": "python",
   "name": "python3"
  },
  "language_info": {
   "codemirror_mode": {
    "name": "ipython",
    "version": 3
   },
   "file_extension": ".py",
   "mimetype": "text/x-python",
   "name": "python",
   "nbconvert_exporter": "python",
   "pygments_lexer": "ipython3",
   "version": "3.8.8"
  },
  "papermill": {
   "default_parameters": {},
   "duration": 6.499688,
   "end_time": "2021-08-08T20:03:36.886747",
   "environment_variables": {},
   "exception": null,
   "input_path": "eBay_Overview.ipynb",
   "output_path": "eBay_Overview.ipynb",
   "parameters": {},
   "start_time": "2021-08-08T20:03:30.387059",
   "version": "2.3.3"
  }
 },
 "nbformat": 4,
 "nbformat_minor": 5
}