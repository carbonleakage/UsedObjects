{
 "cells": [
  {
   "cell_type": "code",
   "execution_count": 1,
   "id": "reverse-picking",
   "metadata": {
    "execution": {
     "iopub.execute_input": "2021-09-01T06:00:06.664649Z",
     "iopub.status.busy": "2021-09-01T06:00:06.662661Z",
     "iopub.status.idle": "2021-09-01T06:00:07.464716Z",
     "shell.execute_reply": "2021-09-01T06:00:07.466047Z"
    },
    "papermill": {
     "duration": 0.854199,
     "end_time": "2021-09-01T06:00:07.466693",
     "exception": false,
     "start_time": "2021-09-01T06:00:06.612494",
     "status": "completed"
    },
    "tags": []
   },
   "outputs": [],
   "source": [
    "import pandas as pd\n",
    "import sqlite3"
   ]
  },
  {
   "cell_type": "code",
   "execution_count": 2,
   "id": "innovative-syndrome",
   "metadata": {
    "execution": {
     "iopub.execute_input": "2021-09-01T06:00:07.517922Z",
     "iopub.status.busy": "2021-09-01T06:00:07.515892Z",
     "iopub.status.idle": "2021-09-01T06:00:07.694821Z",
     "shell.execute_reply": "2021-09-01T06:00:07.696188Z"
    },
    "papermill": {
     "duration": 0.209433,
     "end_time": "2021-09-01T06:00:07.696612",
     "exception": false,
     "start_time": "2021-09-01T06:00:07.487179",
     "status": "completed"
    },
    "tags": []
   },
   "outputs": [],
   "source": [
    "timestamps = pd.read_sql(\"select distinct record_time from EBAY_TOP_BERLIN order by record_time desc limit 2\", sqlite3.connect(\"UsedObjects.db\"))"
   ]
  },
  {
   "cell_type": "code",
   "execution_count": 3,
   "id": "periodic-identification",
   "metadata": {
    "execution": {
     "iopub.execute_input": "2021-09-01T06:00:07.761422Z",
     "iopub.status.busy": "2021-09-01T06:00:07.759411Z",
     "iopub.status.idle": "2021-09-01T06:00:07.779260Z",
     "shell.execute_reply": "2021-09-01T06:00:07.780413Z"
    },
    "papermill": {
     "duration": 0.064455,
     "end_time": "2021-09-01T06:00:07.780821",
     "exception": false,
     "start_time": "2021-09-01T06:00:07.716366",
     "status": "completed"
    },
    "tags": []
   },
   "outputs": [
    {
     "data": {
      "text/html": [
       "<div>\n",
       "<style scoped>\n",
       "    .dataframe tbody tr th:only-of-type {\n",
       "        vertical-align: middle;\n",
       "    }\n",
       "\n",
       "    .dataframe tbody tr th {\n",
       "        vertical-align: top;\n",
       "    }\n",
       "\n",
       "    .dataframe thead th {\n",
       "        text-align: right;\n",
       "    }\n",
       "</style>\n",
       "<table border=\"1\" class=\"dataframe\">\n",
       "  <thead>\n",
       "    <tr style=\"text-align: right;\">\n",
       "      <th></th>\n",
       "      <th>RECORD_TIME</th>\n",
       "    </tr>\n",
       "  </thead>\n",
       "  <tbody>\n",
       "    <tr>\n",
       "      <th>0</th>\n",
       "      <td>2021-09-01 08:00</td>\n",
       "    </tr>\n",
       "    <tr>\n",
       "      <th>1</th>\n",
       "      <td>2021-09-01 07:30</td>\n",
       "    </tr>\n",
       "  </tbody>\n",
       "</table>\n",
       "</div>"
      ],
      "text/plain": [
       "        RECORD_TIME\n",
       "0  2021-09-01 08:00\n",
       "1  2021-09-01 07:30"
      ]
     },
     "execution_count": 3,
     "metadata": {},
     "output_type": "execute_result"
    }
   ],
   "source": [
    "timestamps"
   ]
  },
  {
   "cell_type": "code",
   "execution_count": 4,
   "id": "alternate-victory",
   "metadata": {
    "execution": {
     "iopub.execute_input": "2021-09-01T06:00:07.834675Z",
     "iopub.status.busy": "2021-09-01T06:00:07.832400Z",
     "iopub.status.idle": "2021-09-01T06:00:08.096488Z",
     "shell.execute_reply": "2021-09-01T06:00:08.097804Z"
    },
    "papermill": {
     "duration": 0.294652,
     "end_time": "2021-09-01T06:00:08.098223",
     "exception": false,
     "start_time": "2021-09-01T06:00:07.803571",
     "status": "completed"
    },
    "tags": []
   },
   "outputs": [],
   "source": [
    "df = pd.read_sql(\"select * from EBAY_TOP_BERLIN where record_time in (select distinct record_time from EBAY_TOP_BERLIN order by record_time desc limit 2)\", sqlite3.connect(\"UsedObjects.db\"))"
   ]
  },
  {
   "cell_type": "code",
   "execution_count": 5,
   "id": "popular-active",
   "metadata": {
    "execution": {
     "iopub.execute_input": "2021-09-01T06:00:08.178816Z",
     "iopub.status.busy": "2021-09-01T06:00:08.167791Z",
     "iopub.status.idle": "2021-09-01T06:00:08.194982Z",
     "shell.execute_reply": "2021-09-01T06:00:08.196504Z"
    },
    "papermill": {
     "duration": 0.073056,
     "end_time": "2021-09-01T06:00:08.196964",
     "exception": false,
     "start_time": "2021-09-01T06:00:08.123908",
     "status": "completed"
    },
    "tags": []
   },
   "outputs": [],
   "source": [
    "df_pivot = df.pivot_table(index=\"PRODUCT\", columns = \"RECORD_TIME\", values = \"LISTING_COUNT\")"
   ]
  },
  {
   "cell_type": "code",
   "execution_count": 6,
   "id": "union-huntington",
   "metadata": {
    "execution": {
     "iopub.execute_input": "2021-09-01T06:00:08.254448Z",
     "iopub.status.busy": "2021-09-01T06:00:08.252197Z",
     "iopub.status.idle": "2021-09-01T06:00:08.258033Z",
     "shell.execute_reply": "2021-09-01T06:00:08.259574Z"
    },
    "papermill": {
     "duration": 0.042023,
     "end_time": "2021-09-01T06:00:08.260059",
     "exception": false,
     "start_time": "2021-09-01T06:00:08.218036",
     "status": "completed"
    },
    "tags": []
   },
   "outputs": [],
   "source": [
    "df_pivot.columns = [\"stamp_1\", \"stamp_2\"]\n",
    "df_pivot_diff = df_pivot.diff(axis=1)"
   ]
  },
  {
   "cell_type": "code",
   "execution_count": 7,
   "id": "fifth-motion",
   "metadata": {
    "execution": {
     "iopub.execute_input": "2021-09-01T06:00:08.314152Z",
     "iopub.status.busy": "2021-09-01T06:00:08.311964Z",
     "iopub.status.idle": "2021-09-01T06:00:09.789220Z",
     "shell.execute_reply": "2021-09-01T06:00:09.790500Z"
    },
    "papermill": {
     "duration": 1.510039,
     "end_time": "2021-09-01T06:00:09.791117",
     "exception": false,
     "start_time": "2021-09-01T06:00:08.281078",
     "status": "completed"
    },
    "tags": []
   },
   "outputs": [
    {
     "data": {
      "text/plain": [
       "<AxesSubplot:ylabel='PRODUCT'>"
      ]
     },
     "execution_count": 7,
     "metadata": {},
     "output_type": "execute_result"
    },
    {
     "data": {
      "image/png": "[encoded data removed]",
      "text/plain": [
       "<Figure size 432x288 with 1 Axes>"
      ]
     },
     "metadata": {
      "needs_background": "light"
     },
     "output_type": "display_data"
    }
   ],
   "source": [
    "df_pivot_diff.sort_values(\"stamp_2\", ascending = False)[\"stamp_2\"].head(10).plot.barh()"
   ]
  },
  {
   "cell_type": "code",
   "execution_count": null,
   "id": "extra-executive",
   "metadata": {
    "papermill": {
     "duration": 0.022182,
     "end_time": "2021-09-01T06:00:09.838522",
     "exception": false,
     "start_time": "2021-09-01T06:00:09.816340",
     "status": "completed"
    },
    "tags": []
   },
   "outputs": [],
   "source": []
  }
 ],
 "metadata": {
  "kernelspec": {
   "display_name": "Python 3",
   "language": "python",
   "name": "python3"
  },
  "language_info": {
   "codemirror_mode": {
    "name": "ipython",
    "version": 3
   },
   "file_extension": ".py",
   "mimetype": "text/x-python",
   "name": "python",
   "nbconvert_exporter": "python",
   "pygments_lexer": "ipython3",
   "version": "3.9.5"
  },
  "papermill": {
   "default_parameters": {},
   "duration": 6.820854,
   "end_time": "2021-09-01T06:00:11.027640",
   "environment_variables": {},
   "exception": null,
   "input_path": "eBay_Overview.ipynb",
   "output_path": "eBay_Overview.ipynb",
   "parameters": {},
   "start_time": "2021-09-01T06:00:04.206786",
   "version": "2.3.3"
  }
 },
 "nbformat": 4,
 "nbformat_minor": 5
}