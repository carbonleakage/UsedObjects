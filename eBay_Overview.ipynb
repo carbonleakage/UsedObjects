{
 "cells": [
  {
   "cell_type": "code",
   "execution_count": 1,
   "id": "reverse-picking",
   "metadata": {
    "execution": {
     "iopub.execute_input": "2021-12-18T12:00:08.243907Z",
     "iopub.status.busy": "2021-12-18T12:00:08.241515Z",
     "iopub.status.idle": "2021-12-18T12:00:09.233225Z",
     "shell.execute_reply": "2021-12-18T12:00:09.235450Z"
    },
    "papermill": {
     "duration": 1.042186,
     "end_time": "2021-12-18T12:00:09.236183",
     "exception": false,
     "start_time": "2021-12-18T12:00:08.193997",
     "status": "completed"
    },
    "tags": []
   },
   "outputs": [],
   "source": [
    "import pandas as pd\n",
    "import sqlite3"
   ]
  },
  {
   "cell_type": "code",
   "execution_count": 2,
   "id": "innovative-syndrome",
   "metadata": {
    "execution": {
     "iopub.execute_input": "2021-12-18T12:00:09.291106Z",
     "iopub.status.busy": "2021-12-18T12:00:09.288895Z",
     "iopub.status.idle": "2021-12-18T12:00:10.468268Z",
     "shell.execute_reply": "2021-12-18T12:00:10.469875Z"
    },
    "papermill": {
     "duration": 1.21321,
     "end_time": "2021-12-18T12:00:10.470397",
     "exception": false,
     "start_time": "2021-12-18T12:00:09.257187",
     "status": "completed"
    },
    "tags": []
   },
   "outputs": [],
   "source": [
    "timestamps = pd.read_sql(\"select distinct record_time from EBAY_TOP_BERLIN order by record_time desc limit 2\", sqlite3.connect(\"UsedObjects.db\"))"
   ]
  },
  {
   "cell_type": "code",
   "execution_count": 3,
   "id": "periodic-identification",
   "metadata": {
    "execution": {
     "iopub.execute_input": "2021-12-18T12:00:10.543315Z",
     "iopub.status.busy": "2021-12-18T12:00:10.540897Z",
     "iopub.status.idle": "2021-12-18T12:00:10.565990Z",
     "shell.execute_reply": "2021-12-18T12:00:10.567359Z"
    },
    "papermill": {
     "duration": 0.076162,
     "end_time": "2021-12-18T12:00:10.567845",
     "exception": false,
     "start_time": "2021-12-18T12:00:10.491683",
     "status": "completed"
    },
    "tags": []
   },
   "outputs": [
    {
     "data": {
      "text/html": [
       "<div>\n",
       "<style scoped>\n",
       "    .dataframe tbody tr th:only-of-type {\n",
       "        vertical-align: middle;\n",
       "    }\n",
       "\n",
       "    .dataframe tbody tr th {\n",
       "        vertical-align: top;\n",
       "    }\n",
       "\n",
       "    .dataframe thead th {\n",
       "        text-align: right;\n",
       "    }\n",
       "</style>\n",
       "<table border=\"1\" class=\"dataframe\">\n",
       "  <thead>\n",
       "    <tr style=\"text-align: right;\">\n",
       "      <th></th>\n",
       "      <th>RECORD_TIME</th>\n",
       "    </tr>\n",
       "  </thead>\n",
       "  <tbody>\n",
       "    <tr>\n",
       "      <th>0</th>\n",
       "      <td>2021-12-18 13:00</td>\n",
       "    </tr>\n",
       "    <tr>\n",
       "      <th>1</th>\n",
       "      <td>2021-12-18 12:30</td>\n",
       "    </tr>\n",
       "  </tbody>\n",
       "</table>\n",
       "</div>"
      ],
      "text/plain": [
       "        RECORD_TIME\n",
       "0  2021-12-18 13:00\n",
       "1  2021-12-18 12:30"
      ]
     },
     "execution_count": 3,
     "metadata": {},
     "output_type": "execute_result"
    }
   ],
   "source": [
    "timestamps"
   ]
  },
  {
   "cell_type": "code",
   "execution_count": 4,
   "id": "alternate-victory",
   "metadata": {
    "execution": {
     "iopub.execute_input": "2021-12-18T12:00:10.624052Z",
     "iopub.status.busy": "2021-12-18T12:00:10.621734Z",
     "iopub.status.idle": "2021-12-18T12:00:12.243806Z",
     "shell.execute_reply": "2021-12-18T12:00:12.245732Z"
    },
    "papermill": {
     "duration": 1.657238,
     "end_time": "2021-12-18T12:00:12.246220",
     "exception": false,
     "start_time": "2021-12-18T12:00:10.588982",
     "status": "completed"
    },
    "tags": []
   },
   "outputs": [],
   "source": [
    "df = pd.read_sql(\"select * from EBAY_TOP_BERLIN where record_time in (select distinct record_time from EBAY_TOP_BERLIN order by record_time desc limit 2)\", sqlite3.connect(\"UsedObjects.db\"))"
   ]
  },
  {
   "cell_type": "code",
   "execution_count": 5,
   "id": "popular-active",
   "metadata": {
    "execution": {
     "iopub.execute_input": "2021-12-18T12:00:12.314748Z",
     "iopub.status.busy": "2021-12-18T12:00:12.307127Z",
     "iopub.status.idle": "2021-12-18T12:00:12.343455Z",
     "shell.execute_reply": "2021-12-18T12:00:12.345051Z"
    },
    "papermill": {
     "duration": 0.07843,
     "end_time": "2021-12-18T12:00:12.345555",
     "exception": false,
     "start_time": "2021-12-18T12:00:12.267125",
     "status": "completed"
    },
    "tags": []
   },
   "outputs": [],
   "source": [
    "df_pivot = df.pivot_table(index=\"PRODUCT\", columns = \"RECORD_TIME\", values = \"LISTING_COUNT\")"
   ]
  },
  {
   "cell_type": "code",
   "execution_count": 6,
   "id": "union-huntington",
   "metadata": {
    "execution": {
     "iopub.execute_input": "2021-12-18T12:00:12.406650Z",
     "iopub.status.busy": "2021-12-18T12:00:12.404300Z",
     "iopub.status.idle": "2021-12-18T12:00:12.409982Z",
     "shell.execute_reply": "2021-12-18T12:00:12.411476Z"
    },
    "papermill": {
     "duration": 0.044392,
     "end_time": "2021-12-18T12:00:12.411947",
     "exception": false,
     "start_time": "2021-12-18T12:00:12.367555",
     "status": "completed"
    },
    "tags": []
   },
   "outputs": [],
   "source": [
    "df_pivot.columns = [\"stamp_1\", \"stamp_2\"]\n",
    "df_pivot_diff = df_pivot.diff(axis=1)"
   ]
  },
  {
   "cell_type": "code",
   "execution_count": 7,
   "id": "fifth-motion",
   "metadata": {
    "execution": {
     "iopub.execute_input": "2021-12-18T12:00:12.467812Z",
     "iopub.status.busy": "2021-12-18T12:00:12.465293Z",
     "iopub.status.idle": "2021-12-18T12:00:14.403517Z",
     "shell.execute_reply": "2021-12-18T12:00:14.404904Z"
    },
    "papermill": {
     "duration": 1.973953,
     "end_time": "2021-12-18T12:00:14.405374",
     "exception": false,
     "start_time": "2021-12-18T12:00:12.431421",
     "status": "completed"
    },
    "tags": []
   },
   "outputs": [
    {
     "data": {
      "text/plain": [
       "<AxesSubplot:ylabel='PRODUCT'>"
      ]
     },
     "execution_count": 7,
     "metadata": {},
     "output_type": "execute_result"
    },
    {
     "data": {
      "image/png": "[encoded data removed]",
      "text/plain": [
       "<Figure size 432x288 with 1 Axes>"
      ]
     },
     "metadata": {
      "needs_background": "light"
     },
     "output_type": "display_data"
    }
   ],
   "source": [
    "df_pivot_diff.sort_values(\"stamp_2\", ascending = False)[\"stamp_2\"].head(10).plot.barh()"
   ]
  },
  {
   "cell_type": "code",
   "execution_count": null,
   "id": "extra-executive",
   "metadata": {
    "papermill": {
     "duration": 0.022073,
     "end_time": "2021-12-18T12:00:14.452256",
     "exception": false,
     "start_time": "2021-12-18T12:00:14.430183",
     "status": "completed"
    },
    "tags": []
   },
   "outputs": [],
   "source": []
  }
 ],
 "metadata": {
  "kernelspec": {
   "display_name": "Python 3",
   "language": "python",
   "name": "python3"
  },
  "language_info": {
   "codemirror_mode": {
    "name": "ipython",
    "version": 3
   },
   "file_extension": ".py",
   "mimetype": "text/x-python",
   "name": "python",
   "nbconvert_exporter": "python",
   "pygments_lexer": "ipython3",
   "version": "3.9.5"
  },
  "papermill": {
   "default_parameters": {},
   "duration": 9.651157,
   "end_time": "2021-12-18T12:00:15.093455",
   "environment_variables": {},
   "exception": null,
   "input_path": "eBay_Overview.ipynb",
   "output_path": "eBay_Overview.ipynb",
   "parameters": {},
   "start_time": "2021-12-18T12:00:05.442298",
   "version": "2.3.3"
  }
 },
 "nbformat": 4,
 "nbformat_minor": 5
}