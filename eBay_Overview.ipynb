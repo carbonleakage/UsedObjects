{
 "cells": [
  {
   "cell_type": "code",
   "execution_count": 1,
   "id": "reverse-picking",
   "metadata": {
    "execution": {
     "iopub.execute_input": "2021-08-25T17:00:07.312836Z",
     "iopub.status.busy": "2021-08-25T17:00:07.310832Z",
     "iopub.status.idle": "2021-08-25T17:00:08.116103Z",
     "shell.execute_reply": "2021-08-25T17:00:08.117625Z"
    },
    "papermill": {
     "duration": 0.856994,
     "end_time": "2021-08-25T17:00:08.118307",
     "exception": false,
     "start_time": "2021-08-25T17:00:07.261313",
     "status": "completed"
    },
    "tags": []
   },
   "outputs": [],
   "source": [
    "import pandas as pd\n",
    "import sqlite3"
   ]
  },
  {
   "cell_type": "code",
   "execution_count": 2,
   "id": "innovative-syndrome",
   "metadata": {
    "execution": {
     "iopub.execute_input": "2021-08-25T17:00:08.168847Z",
     "iopub.status.busy": "2021-08-25T17:00:08.166821Z",
     "iopub.status.idle": "2021-08-25T17:00:08.294191Z",
     "shell.execute_reply": "2021-08-25T17:00:08.295451Z"
    },
    "papermill": {
     "duration": 0.157211,
     "end_time": "2021-08-25T17:00:08.295863",
     "exception": false,
     "start_time": "2021-08-25T17:00:08.138652",
     "status": "completed"
    },
    "tags": []
   },
   "outputs": [],
   "source": [
    "timestamps = pd.read_sql(\"select distinct record_time from EBAY_TOP_BERLIN order by record_time desc limit 2\", sqlite3.connect(\"UsedObjects.db\"))"
   ]
  },
  {
   "cell_type": "code",
   "execution_count": 3,
   "id": "periodic-identification",
   "metadata": {
    "execution": {
     "iopub.execute_input": "2021-08-25T17:00:08.362160Z",
     "iopub.status.busy": "2021-08-25T17:00:08.360073Z",
     "iopub.status.idle": "2021-08-25T17:00:08.380169Z",
     "shell.execute_reply": "2021-08-25T17:00:08.381509Z"
    },
    "papermill": {
     "duration": 0.066951,
     "end_time": "2021-08-25T17:00:08.381916",
     "exception": false,
     "start_time": "2021-08-25T17:00:08.314965",
     "status": "completed"
    },
    "tags": []
   },
   "outputs": [
    {
     "data": {
      "text/html": [
       "<div>\n",
       "<style scoped>\n",
       "    .dataframe tbody tr th:only-of-type {\n",
       "        vertical-align: middle;\n",
       "    }\n",
       "\n",
       "    .dataframe tbody tr th {\n",
       "        vertical-align: top;\n",
       "    }\n",
       "\n",
       "    .dataframe thead th {\n",
       "        text-align: right;\n",
       "    }\n",
       "</style>\n",
       "<table border=\"1\" class=\"dataframe\">\n",
       "  <thead>\n",
       "    <tr style=\"text-align: right;\">\n",
       "      <th></th>\n",
       "      <th>RECORD_TIME</th>\n",
       "    </tr>\n",
       "  </thead>\n",
       "  <tbody>\n",
       "    <tr>\n",
       "      <th>0</th>\n",
       "      <td>2021-08-25 19:00</td>\n",
       "    </tr>\n",
       "    <tr>\n",
       "      <th>1</th>\n",
       "      <td>2021-08-25 18:30</td>\n",
       "    </tr>\n",
       "  </tbody>\n",
       "</table>\n",
       "</div>"
      ],
      "text/plain": [
       "        RECORD_TIME\n",
       "0  2021-08-25 19:00\n",
       "1  2021-08-25 18:30"
      ]
     },
     "execution_count": 3,
     "metadata": {},
     "output_type": "execute_result"
    }
   ],
   "source": [
    "timestamps"
   ]
  },
  {
   "cell_type": "code",
   "execution_count": 4,
   "id": "alternate-victory",
   "metadata": {
    "execution": {
     "iopub.execute_input": "2021-08-25T17:00:08.433217Z",
     "iopub.status.busy": "2021-08-25T17:00:08.431237Z",
     "iopub.status.idle": "2021-08-25T17:00:08.618664Z",
     "shell.execute_reply": "2021-08-25T17:00:08.619871Z"
    },
    "papermill": {
     "duration": 0.217214,
     "end_time": "2021-08-25T17:00:08.620334",
     "exception": false,
     "start_time": "2021-08-25T17:00:08.403120",
     "status": "completed"
    },
    "tags": []
   },
   "outputs": [],
   "source": [
    "df = pd.read_sql(\"select * from EBAY_TOP_BERLIN where record_time in (select distinct record_time from EBAY_TOP_BERLIN order by record_time desc limit 2)\", sqlite3.connect(\"UsedObjects.db\"))"
   ]
  },
  {
   "cell_type": "code",
   "execution_count": 5,
   "id": "popular-active",
   "metadata": {
    "execution": {
     "iopub.execute_input": "2021-08-25T17:00:08.692693Z",
     "iopub.status.busy": "2021-08-25T17:00:08.679979Z",
     "iopub.status.idle": "2021-08-25T17:00:08.708551Z",
     "shell.execute_reply": "2021-08-25T17:00:08.709912Z"
    },
    "papermill": {
     "duration": 0.06827,
     "end_time": "2021-08-25T17:00:08.710318",
     "exception": false,
     "start_time": "2021-08-25T17:00:08.642048",
     "status": "completed"
    },
    "tags": []
   },
   "outputs": [],
   "source": [
    "df_pivot = df.pivot_table(index=\"PRODUCT\", columns = \"RECORD_TIME\", values = \"LISTING_COUNT\")"
   ]
  },
  {
   "cell_type": "code",
   "execution_count": 6,
   "id": "union-huntington",
   "metadata": {
    "execution": {
     "iopub.execute_input": "2021-08-25T17:00:08.766436Z",
     "iopub.status.busy": "2021-08-25T17:00:08.764371Z",
     "iopub.status.idle": "2021-08-25T17:00:08.769517Z",
     "shell.execute_reply": "2021-08-25T17:00:08.770686Z"
    },
    "papermill": {
     "duration": 0.041,
     "end_time": "2021-08-25T17:00:08.771107",
     "exception": false,
     "start_time": "2021-08-25T17:00:08.730107",
     "status": "completed"
    },
    "tags": []
   },
   "outputs": [],
   "source": [
    "df_pivot.columns = [\"stamp_1\", \"stamp_2\"]\n",
    "df_pivot_diff = df_pivot.diff(axis=1)"
   ]
  },
  {
   "cell_type": "code",
   "execution_count": 7,
   "id": "fifth-motion",
   "metadata": {
    "execution": {
     "iopub.execute_input": "2021-08-25T17:00:08.828395Z",
     "iopub.status.busy": "2021-08-25T17:00:08.825694Z",
     "iopub.status.idle": "2021-08-25T17:00:10.296033Z",
     "shell.execute_reply": "2021-08-25T17:00:10.297503Z"
    },
    "papermill": {
     "duration": 1.504009,
     "end_time": "2021-08-25T17:00:10.297947",
     "exception": false,
     "start_time": "2021-08-25T17:00:08.793938",
     "status": "completed"
    },
    "tags": []
   },
   "outputs": [
    {
     "data": {
      "text/plain": [
       "<AxesSubplot:ylabel='PRODUCT'>"
      ]
     },
     "execution_count": 7,
     "metadata": {},
     "output_type": "execute_result"
    },
    {
     "data": {
      "image/png": "[encoded data removed]",
      "text/plain": [
       "<Figure size 432x288 with 1 Axes>"
      ]
     },
     "metadata": {
      "needs_background": "light"
     },
     "output_type": "display_data"
    }
   ],
   "source": [
    "df_pivot_diff.sort_values(\"stamp_2\", ascending = False)[\"stamp_2\"].head(10).plot.barh()"
   ]
  },
  {
   "cell_type": "code",
   "execution_count": null,
   "id": "extra-executive",
   "metadata": {
    "papermill": {
     "duration": 0.022098,
     "end_time": "2021-08-25T17:00:10.343651",
     "exception": false,
     "start_time": "2021-08-25T17:00:10.321553",
     "status": "completed"
    },
    "tags": []
   },
   "outputs": [],
   "source": []
  }
 ],
 "metadata": {
  "kernelspec": {
   "display_name": "Python 3",
   "language": "python",
   "name": "python3"
  },
  "language_info": {
   "codemirror_mode": {
    "name": "ipython",
    "version": 3
   },
   "file_extension": ".py",
   "mimetype": "text/x-python",
   "name": "python",
   "nbconvert_exporter": "python",
   "pygments_lexer": "ipython3",
   "version": "3.9.5"
  },
  "papermill": {
   "default_parameters": {},
   "duration": 6.82121,
   "end_time": "2021-08-25T17:00:11.676935",
   "environment_variables": {},
   "exception": null,
   "input_path": "eBay_Overview.ipynb",
   "output_path": "eBay_Overview.ipynb",
   "parameters": {},
   "start_time": "2021-08-25T17:00:04.855725",
   "version": "2.3.3"
  }
 },
 "nbformat": 4,
 "nbformat_minor": 5
}