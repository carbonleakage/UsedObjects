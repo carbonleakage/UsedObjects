{
 "cells": [
  {
   "cell_type": "code",
   "execution_count": 1,
   "id": "reverse-picking",
   "metadata": {
    "execution": {
     "iopub.execute_input": "2021-09-12T21:30:06.656954Z",
     "iopub.status.busy": "2021-09-12T21:30:06.654995Z",
     "iopub.status.idle": "2021-09-12T21:30:07.460949Z",
     "shell.execute_reply": "2021-09-12T21:30:07.462114Z"
    },
    "papermill": {
     "duration": 0.857762,
     "end_time": "2021-09-12T21:30:07.462729",
     "exception": false,
     "start_time": "2021-09-12T21:30:06.604967",
     "status": "completed"
    },
    "tags": []
   },
   "outputs": [],
   "source": [
    "import pandas as pd\n",
    "import sqlite3"
   ]
  },
  {
   "cell_type": "code",
   "execution_count": 2,
   "id": "innovative-syndrome",
   "metadata": {
    "execution": {
     "iopub.execute_input": "2021-09-12T21:30:07.513644Z",
     "iopub.status.busy": "2021-09-12T21:30:07.511756Z",
     "iopub.status.idle": "2021-09-12T21:30:07.784039Z",
     "shell.execute_reply": "2021-09-12T21:30:07.785283Z"
    },
    "papermill": {
     "duration": 0.301488,
     "end_time": "2021-09-12T21:30:07.785671",
     "exception": false,
     "start_time": "2021-09-12T21:30:07.484183",
     "status": "completed"
    },
    "tags": []
   },
   "outputs": [],
   "source": [
    "timestamps = pd.read_sql(\"select distinct record_time from EBAY_TOP_BERLIN order by record_time desc limit 2\", sqlite3.connect(\"UsedObjects.db\"))"
   ]
  },
  {
   "cell_type": "code",
   "execution_count": 3,
   "id": "periodic-identification",
   "metadata": {
    "execution": {
     "iopub.execute_input": "2021-09-12T21:30:07.850157Z",
     "iopub.status.busy": "2021-09-12T21:30:07.848048Z",
     "iopub.status.idle": "2021-09-12T21:30:07.868699Z",
     "shell.execute_reply": "2021-09-12T21:30:07.869828Z"
    },
    "papermill": {
     "duration": 0.065525,
     "end_time": "2021-09-12T21:30:07.870230",
     "exception": false,
     "start_time": "2021-09-12T21:30:07.804705",
     "status": "completed"
    },
    "tags": []
   },
   "outputs": [
    {
     "data": {
      "text/html": [
       "<div>\n",
       "<style scoped>\n",
       "    .dataframe tbody tr th:only-of-type {\n",
       "        vertical-align: middle;\n",
       "    }\n",
       "\n",
       "    .dataframe tbody tr th {\n",
       "        vertical-align: top;\n",
       "    }\n",
       "\n",
       "    .dataframe thead th {\n",
       "        text-align: right;\n",
       "    }\n",
       "</style>\n",
       "<table border=\"1\" class=\"dataframe\">\n",
       "  <thead>\n",
       "    <tr style=\"text-align: right;\">\n",
       "      <th></th>\n",
       "      <th>RECORD_TIME</th>\n",
       "    </tr>\n",
       "  </thead>\n",
       "  <tbody>\n",
       "    <tr>\n",
       "      <th>0</th>\n",
       "      <td>2021-09-12 23:30</td>\n",
       "    </tr>\n",
       "    <tr>\n",
       "      <th>1</th>\n",
       "      <td>2021-09-12 23:00</td>\n",
       "    </tr>\n",
       "  </tbody>\n",
       "</table>\n",
       "</div>"
      ],
      "text/plain": [
       "        RECORD_TIME\n",
       "0  2021-09-12 23:30\n",
       "1  2021-09-12 23:00"
      ]
     },
     "execution_count": 3,
     "metadata": {},
     "output_type": "execute_result"
    }
   ],
   "source": [
    "timestamps"
   ]
  },
  {
   "cell_type": "code",
   "execution_count": 4,
   "id": "alternate-victory",
   "metadata": {
    "execution": {
     "iopub.execute_input": "2021-09-12T21:30:07.923332Z",
     "iopub.status.busy": "2021-09-12T21:30:07.920963Z",
     "iopub.status.idle": "2021-09-12T21:30:08.332703Z",
     "shell.execute_reply": "2021-09-12T21:30:08.333909Z"
    },
    "papermill": {
     "duration": 0.442015,
     "end_time": "2021-09-12T21:30:08.334298",
     "exception": false,
     "start_time": "2021-09-12T21:30:07.892283",
     "status": "completed"
    },
    "tags": []
   },
   "outputs": [],
   "source": [
    "df = pd.read_sql(\"select * from EBAY_TOP_BERLIN where record_time in (select distinct record_time from EBAY_TOP_BERLIN order by record_time desc limit 2)\", sqlite3.connect(\"UsedObjects.db\"))"
   ]
  },
  {
   "cell_type": "code",
   "execution_count": 5,
   "id": "popular-active",
   "metadata": {
    "execution": {
     "iopub.execute_input": "2021-09-12T21:30:08.428789Z",
     "iopub.status.busy": "2021-09-12T21:30:08.416653Z",
     "iopub.status.idle": "2021-09-12T21:30:08.444244Z",
     "shell.execute_reply": "2021-09-12T21:30:08.445461Z"
    },
    "papermill": {
     "duration": 0.073366,
     "end_time": "2021-09-12T21:30:08.445851",
     "exception": false,
     "start_time": "2021-09-12T21:30:08.372485",
     "status": "completed"
    },
    "tags": []
   },
   "outputs": [],
   "source": [
    "df_pivot = df.pivot_table(index=\"PRODUCT\", columns = \"RECORD_TIME\", values = \"LISTING_COUNT\")"
   ]
  },
  {
   "cell_type": "code",
   "execution_count": 6,
   "id": "union-huntington",
   "metadata": {
    "execution": {
     "iopub.execute_input": "2021-09-12T21:30:08.501334Z",
     "iopub.status.busy": "2021-09-12T21:30:08.499281Z",
     "iopub.status.idle": "2021-09-12T21:30:08.505814Z",
     "shell.execute_reply": "2021-09-12T21:30:08.504522Z"
    },
    "papermill": {
     "duration": 0.039875,
     "end_time": "2021-09-12T21:30:08.506173",
     "exception": false,
     "start_time": "2021-09-12T21:30:08.466298",
     "status": "completed"
    },
    "tags": []
   },
   "outputs": [],
   "source": [
    "df_pivot.columns = [\"stamp_1\", \"stamp_2\"]\n",
    "df_pivot_diff = df_pivot.diff(axis=1)"
   ]
  },
  {
   "cell_type": "code",
   "execution_count": 7,
   "id": "fifth-motion",
   "metadata": {
    "execution": {
     "iopub.execute_input": "2021-09-12T21:30:08.559660Z",
     "iopub.status.busy": "2021-09-12T21:30:08.557078Z",
     "iopub.status.idle": "2021-09-12T21:30:10.024549Z",
     "shell.execute_reply": "2021-09-12T21:30:10.025824Z"
    },
    "papermill": {
     "duration": 1.500143,
     "end_time": "2021-09-12T21:30:10.026235",
     "exception": false,
     "start_time": "2021-09-12T21:30:08.526092",
     "status": "completed"
    },
    "tags": []
   },
   "outputs": [
    {
     "data": {
      "text/plain": [
       "<AxesSubplot:ylabel='PRODUCT'>"
      ]
     },
     "execution_count": 7,
     "metadata": {},
     "output_type": "execute_result"
    },
    {
     "data": {
      "image/png": "[encoded data removed]",
      "text/plain": [
       "<Figure size 432x288 with 1 Axes>"
      ]
     },
     "metadata": {
      "needs_background": "light"
     },
     "output_type": "display_data"
    }
   ],
   "source": [
    "df_pivot_diff.sort_values(\"stamp_2\", ascending = False)[\"stamp_2\"].head(10).plot.barh()"
   ]
  },
  {
   "cell_type": "code",
   "execution_count": null,
   "id": "extra-executive",
   "metadata": {
    "papermill": {
     "duration": 0.021672,
     "end_time": "2021-09-12T21:30:10.072152",
     "exception": false,
     "start_time": "2021-09-12T21:30:10.050480",
     "status": "completed"
    },
    "tags": []
   },
   "outputs": [],
   "source": []
  }
 ],
 "metadata": {
  "kernelspec": {
   "display_name": "Python 3",
   "language": "python",
   "name": "python3"
  },
  "language_info": {
   "codemirror_mode": {
    "name": "ipython",
    "version": 3
   },
   "file_extension": ".py",
   "mimetype": "text/x-python",
   "name": "python",
   "nbconvert_exporter": "python",
   "pygments_lexer": "ipython3",
   "version": "3.9.5"
  },
  "papermill": {
   "default_parameters": {},
   "duration": 6.528682,
   "end_time": "2021-09-12T21:30:10.715252",
   "environment_variables": {},
   "exception": null,
   "input_path": "eBay_Overview.ipynb",
   "output_path": "eBay_Overview.ipynb",
   "parameters": {},
   "start_time": "2021-09-12T21:30:04.186570",
   "version": "2.3.3"
  }
 },
 "nbformat": 4,
 "nbformat_minor": 5
}