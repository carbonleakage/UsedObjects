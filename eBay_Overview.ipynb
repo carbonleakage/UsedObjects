{
 "cells": [
  {
   "cell_type": "code",
   "execution_count": 1,
   "id": "reverse-picking",
   "metadata": {
    "execution": {
     "iopub.execute_input": "2021-09-06T06:00:07.268659Z",
     "iopub.status.busy": "2021-09-06T06:00:07.266660Z",
     "iopub.status.idle": "2021-09-06T06:00:08.068792Z",
     "shell.execute_reply": "2021-09-06T06:00:08.070209Z"
    },
    "papermill": {
     "duration": 0.854256,
     "end_time": "2021-09-06T06:00:08.070955",
     "exception": false,
     "start_time": "2021-09-06T06:00:07.216699",
     "status": "completed"
    },
    "tags": []
   },
   "outputs": [],
   "source": [
    "import pandas as pd\n",
    "import sqlite3"
   ]
  },
  {
   "cell_type": "code",
   "execution_count": 2,
   "id": "innovative-syndrome",
   "metadata": {
    "execution": {
     "iopub.execute_input": "2021-09-06T06:00:08.122725Z",
     "iopub.status.busy": "2021-09-06T06:00:08.120815Z",
     "iopub.status.idle": "2021-09-06T06:00:08.333732Z",
     "shell.execute_reply": "2021-09-06T06:00:08.335083Z"
    },
    "papermill": {
     "duration": 0.243573,
     "end_time": "2021-09-06T06:00:08.335521",
     "exception": false,
     "start_time": "2021-09-06T06:00:08.091948",
     "status": "completed"
    },
    "tags": []
   },
   "outputs": [],
   "source": [
    "timestamps = pd.read_sql(\"select distinct record_time from EBAY_TOP_BERLIN order by record_time desc limit 2\", sqlite3.connect(\"UsedObjects.db\"))"
   ]
  },
  {
   "cell_type": "code",
   "execution_count": 3,
   "id": "periodic-identification",
   "metadata": {
    "execution": {
     "iopub.execute_input": "2021-09-06T06:00:08.403908Z",
     "iopub.status.busy": "2021-09-06T06:00:08.398501Z",
     "iopub.status.idle": "2021-09-06T06:00:08.418399Z",
     "shell.execute_reply": "2021-09-06T06:00:08.419701Z"
    },
    "papermill": {
     "duration": 0.065011,
     "end_time": "2021-09-06T06:00:08.420116",
     "exception": false,
     "start_time": "2021-09-06T06:00:08.355105",
     "status": "completed"
    },
    "tags": []
   },
   "outputs": [
    {
     "data": {
      "text/html": [
       "<div>\n",
       "<style scoped>\n",
       "    .dataframe tbody tr th:only-of-type {\n",
       "        vertical-align: middle;\n",
       "    }\n",
       "\n",
       "    .dataframe tbody tr th {\n",
       "        vertical-align: top;\n",
       "    }\n",
       "\n",
       "    .dataframe thead th {\n",
       "        text-align: right;\n",
       "    }\n",
       "</style>\n",
       "<table border=\"1\" class=\"dataframe\">\n",
       "  <thead>\n",
       "    <tr style=\"text-align: right;\">\n",
       "      <th></th>\n",
       "      <th>RECORD_TIME</th>\n",
       "    </tr>\n",
       "  </thead>\n",
       "  <tbody>\n",
       "    <tr>\n",
       "      <th>0</th>\n",
       "      <td>2021-09-06 08:00</td>\n",
       "    </tr>\n",
       "    <tr>\n",
       "      <th>1</th>\n",
       "      <td>2021-09-06 07:30</td>\n",
       "    </tr>\n",
       "  </tbody>\n",
       "</table>\n",
       "</div>"
      ],
      "text/plain": [
       "        RECORD_TIME\n",
       "0  2021-09-06 08:00\n",
       "1  2021-09-06 07:30"
      ]
     },
     "execution_count": 3,
     "metadata": {},
     "output_type": "execute_result"
    }
   ],
   "source": [
    "timestamps"
   ]
  },
  {
   "cell_type": "code",
   "execution_count": 4,
   "id": "alternate-victory",
   "metadata": {
    "execution": {
     "iopub.execute_input": "2021-09-06T06:00:08.471433Z",
     "iopub.status.busy": "2021-09-06T06:00:08.469376Z",
     "iopub.status.idle": "2021-09-06T06:00:08.791734Z",
     "shell.execute_reply": "2021-09-06T06:00:08.793019Z"
    },
    "papermill": {
     "duration": 0.352212,
     "end_time": "2021-09-06T06:00:08.793417",
     "exception": false,
     "start_time": "2021-09-06T06:00:08.441205",
     "status": "completed"
    },
    "tags": []
   },
   "outputs": [],
   "source": [
    "df = pd.read_sql(\"select * from EBAY_TOP_BERLIN where record_time in (select distinct record_time from EBAY_TOP_BERLIN order by record_time desc limit 2)\", sqlite3.connect(\"UsedObjects.db\"))"
   ]
  },
  {
   "cell_type": "code",
   "execution_count": 5,
   "id": "popular-active",
   "metadata": {
    "execution": {
     "iopub.execute_input": "2021-09-06T06:00:08.872462Z",
     "iopub.status.busy": "2021-09-06T06:00:08.859935Z",
     "iopub.status.idle": "2021-09-06T06:00:08.888201Z",
     "shell.execute_reply": "2021-09-06T06:00:08.889481Z"
    },
    "papermill": {
     "duration": 0.070632,
     "end_time": "2021-09-06T06:00:08.889894",
     "exception": false,
     "start_time": "2021-09-06T06:00:08.819262",
     "status": "completed"
    },
    "tags": []
   },
   "outputs": [],
   "source": [
    "df_pivot = df.pivot_table(index=\"PRODUCT\", columns = \"RECORD_TIME\", values = \"LISTING_COUNT\")"
   ]
  },
  {
   "cell_type": "code",
   "execution_count": 6,
   "id": "union-huntington",
   "metadata": {
    "execution": {
     "iopub.execute_input": "2021-09-06T06:00:08.945496Z",
     "iopub.status.busy": "2021-09-06T06:00:08.943450Z",
     "iopub.status.idle": "2021-09-06T06:00:08.948617Z",
     "shell.execute_reply": "2021-09-06T06:00:08.949881Z"
    },
    "papermill": {
     "duration": 0.040246,
     "end_time": "2021-09-06T06:00:08.950296",
     "exception": false,
     "start_time": "2021-09-06T06:00:08.910050",
     "status": "completed"
    },
    "tags": []
   },
   "outputs": [],
   "source": [
    "df_pivot.columns = [\"stamp_1\", \"stamp_2\"]\n",
    "df_pivot_diff = df_pivot.diff(axis=1)"
   ]
  },
  {
   "cell_type": "code",
   "execution_count": 7,
   "id": "fifth-motion",
   "metadata": {
    "execution": {
     "iopub.execute_input": "2021-09-06T06:00:09.006028Z",
     "iopub.status.busy": "2021-09-06T06:00:09.003422Z",
     "iopub.status.idle": "2021-09-06T06:00:10.513875Z",
     "shell.execute_reply": "2021-09-06T06:00:10.515226Z"
    },
    "papermill": {
     "duration": 1.544125,
     "end_time": "2021-09-06T06:00:10.515653",
     "exception": false,
     "start_time": "2021-09-06T06:00:08.971528",
     "status": "completed"
    },
    "tags": []
   },
   "outputs": [
    {
     "data": {
      "text/plain": [
       "<AxesSubplot:ylabel='PRODUCT'>"
      ]
     },
     "execution_count": 7,
     "metadata": {},
     "output_type": "execute_result"
    },
    {
     "data": {
      "image/png": "[encoded data removed]",
      "text/plain": [
       "<Figure size 432x288 with 1 Axes>"
      ]
     },
     "metadata": {
      "needs_background": "light"
     },
     "output_type": "display_data"
    }
   ],
   "source": [
    "df_pivot_diff.sort_values(\"stamp_2\", ascending = False)[\"stamp_2\"].head(10).plot.barh()"
   ]
  },
  {
   "cell_type": "code",
   "execution_count": null,
   "id": "extra-executive",
   "metadata": {
    "papermill": {
     "duration": 0.022236,
     "end_time": "2021-09-06T06:00:10.562700",
     "exception": false,
     "start_time": "2021-09-06T06:00:10.540464",
     "status": "completed"
    },
    "tags": []
   },
   "outputs": [],
   "source": []
  }
 ],
 "metadata": {
  "kernelspec": {
   "display_name": "Python 3",
   "language": "python",
   "name": "python3"
  },
  "language_info": {
   "codemirror_mode": {
    "name": "ipython",
    "version": 3
   },
   "file_extension": ".py",
   "mimetype": "text/x-python",
   "name": "python",
   "nbconvert_exporter": "python",
   "pygments_lexer": "ipython3",
   "version": "3.9.5"
  },
  "papermill": {
   "default_parameters": {},
   "duration": 6.397993,
   "end_time": "2021-09-06T06:00:11.204575",
   "environment_variables": {},
   "exception": null,
   "input_path": "eBay_Overview.ipynb",
   "output_path": "eBay_Overview.ipynb",
   "parameters": {},
   "start_time": "2021-09-06T06:00:04.806582",
   "version": "2.3.3"
  }
 },
 "nbformat": 4,
 "nbformat_minor": 5
}