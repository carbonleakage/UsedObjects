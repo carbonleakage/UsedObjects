{
 "cells": [
  {
   "cell_type": "code",
   "execution_count": 1,
   "id": "reverse-picking",
   "metadata": {
    "execution": {
     "iopub.execute_input": "2021-09-25T21:30:06.854230Z",
     "iopub.status.busy": "2021-09-25T21:30:06.852262Z",
     "iopub.status.idle": "2021-09-25T21:30:07.656399Z",
     "shell.execute_reply": "2021-09-25T21:30:07.657655Z"
    },
    "papermill": {
     "duration": 0.855299,
     "end_time": "2021-09-25T21:30:07.658282",
     "exception": false,
     "start_time": "2021-09-25T21:30:06.802983",
     "status": "completed"
    },
    "tags": []
   },
   "outputs": [],
   "source": [
    "import pandas as pd\n",
    "import sqlite3"
   ]
  },
  {
   "cell_type": "code",
   "execution_count": 2,
   "id": "innovative-syndrome",
   "metadata": {
    "execution": {
     "iopub.execute_input": "2021-09-25T21:30:07.709523Z",
     "iopub.status.busy": "2021-09-25T21:30:07.707666Z",
     "iopub.status.idle": "2021-09-25T21:30:08.080015Z",
     "shell.execute_reply": "2021-09-25T21:30:08.081258Z"
    },
    "papermill": {
     "duration": 0.402149,
     "end_time": "2021-09-25T21:30:08.081651",
     "exception": false,
     "start_time": "2021-09-25T21:30:07.679502",
     "status": "completed"
    },
    "tags": []
   },
   "outputs": [],
   "source": [
    "timestamps = pd.read_sql(\"select distinct record_time from EBAY_TOP_BERLIN order by record_time desc limit 2\", sqlite3.connect(\"UsedObjects.db\"))"
   ]
  },
  {
   "cell_type": "code",
   "execution_count": 3,
   "id": "periodic-identification",
   "metadata": {
    "execution": {
     "iopub.execute_input": "2021-09-25T21:30:08.147382Z",
     "iopub.status.busy": "2021-09-25T21:30:08.145282Z",
     "iopub.status.idle": "2021-09-25T21:30:08.164935Z",
     "shell.execute_reply": "2021-09-25T21:30:08.166067Z"
    },
    "papermill": {
     "duration": 0.065067,
     "end_time": "2021-09-25T21:30:08.166476",
     "exception": false,
     "start_time": "2021-09-25T21:30:08.101409",
     "status": "completed"
    },
    "tags": []
   },
   "outputs": [
    {
     "data": {
      "text/html": [
       "<div>\n",
       "<style scoped>\n",
       "    .dataframe tbody tr th:only-of-type {\n",
       "        vertical-align: middle;\n",
       "    }\n",
       "\n",
       "    .dataframe tbody tr th {\n",
       "        vertical-align: top;\n",
       "    }\n",
       "\n",
       "    .dataframe thead th {\n",
       "        text-align: right;\n",
       "    }\n",
       "</style>\n",
       "<table border=\"1\" class=\"dataframe\">\n",
       "  <thead>\n",
       "    <tr style=\"text-align: right;\">\n",
       "      <th></th>\n",
       "      <th>RECORD_TIME</th>\n",
       "    </tr>\n",
       "  </thead>\n",
       "  <tbody>\n",
       "    <tr>\n",
       "      <th>0</th>\n",
       "      <td>2021-09-25 23:30</td>\n",
       "    </tr>\n",
       "    <tr>\n",
       "      <th>1</th>\n",
       "      <td>2021-09-25 23:00</td>\n",
       "    </tr>\n",
       "  </tbody>\n",
       "</table>\n",
       "</div>"
      ],
      "text/plain": [
       "        RECORD_TIME\n",
       "0  2021-09-25 23:30\n",
       "1  2021-09-25 23:00"
      ]
     },
     "execution_count": 3,
     "metadata": {},
     "output_type": "execute_result"
    }
   ],
   "source": [
    "timestamps"
   ]
  },
  {
   "cell_type": "code",
   "execution_count": 4,
   "id": "alternate-victory",
   "metadata": {
    "execution": {
     "iopub.execute_input": "2021-09-25T21:30:08.221358Z",
     "iopub.status.busy": "2021-09-25T21:30:08.219008Z",
     "iopub.status.idle": "2021-09-25T21:30:08.766410Z",
     "shell.execute_reply": "2021-09-25T21:30:08.767963Z"
    },
    "papermill": {
     "duration": 0.578772,
     "end_time": "2021-09-25T21:30:08.768404",
     "exception": false,
     "start_time": "2021-09-25T21:30:08.189632",
     "status": "completed"
    },
    "tags": []
   },
   "outputs": [],
   "source": [
    "df = pd.read_sql(\"select * from EBAY_TOP_BERLIN where record_time in (select distinct record_time from EBAY_TOP_BERLIN order by record_time desc limit 2)\", sqlite3.connect(\"UsedObjects.db\"))"
   ]
  },
  {
   "cell_type": "code",
   "execution_count": 5,
   "id": "popular-active",
   "metadata": {
    "execution": {
     "iopub.execute_input": "2021-09-25T21:30:08.896584Z",
     "iopub.status.busy": "2021-09-25T21:30:08.884964Z",
     "iopub.status.idle": "2021-09-25T21:30:08.913072Z",
     "shell.execute_reply": "2021-09-25T21:30:08.914293Z"
    },
    "papermill": {
     "duration": 0.07716,
     "end_time": "2021-09-25T21:30:08.914685",
     "exception": false,
     "start_time": "2021-09-25T21:30:08.837525",
     "status": "completed"
    },
    "tags": []
   },
   "outputs": [],
   "source": [
    "df_pivot = df.pivot_table(index=\"PRODUCT\", columns = \"RECORD_TIME\", values = \"LISTING_COUNT\")"
   ]
  },
  {
   "cell_type": "code",
   "execution_count": 6,
   "id": "union-huntington",
   "metadata": {
    "execution": {
     "iopub.execute_input": "2021-09-25T21:30:08.974433Z",
     "iopub.status.busy": "2021-09-25T21:30:08.972371Z",
     "iopub.status.idle": "2021-09-25T21:30:08.977872Z",
     "shell.execute_reply": "2021-09-25T21:30:08.979227Z"
    },
    "papermill": {
     "duration": 0.041785,
     "end_time": "2021-09-25T21:30:08.979648",
     "exception": false,
     "start_time": "2021-09-25T21:30:08.937863",
     "status": "completed"
    },
    "tags": []
   },
   "outputs": [],
   "source": [
    "df_pivot.columns = [\"stamp_1\", \"stamp_2\"]\n",
    "df_pivot_diff = df_pivot.diff(axis=1)"
   ]
  },
  {
   "cell_type": "code",
   "execution_count": 7,
   "id": "fifth-motion",
   "metadata": {
    "execution": {
     "iopub.execute_input": "2021-09-25T21:30:09.036082Z",
     "iopub.status.busy": "2021-09-25T21:30:09.033514Z",
     "iopub.status.idle": "2021-09-25T21:30:10.552161Z",
     "shell.execute_reply": "2021-09-25T21:30:10.553524Z"
    },
    "papermill": {
     "duration": 1.552094,
     "end_time": "2021-09-25T21:30:10.553944",
     "exception": false,
     "start_time": "2021-09-25T21:30:09.001850",
     "status": "completed"
    },
    "tags": []
   },
   "outputs": [
    {
     "data": {
      "text/plain": [
       "<AxesSubplot:ylabel='PRODUCT'>"
      ]
     },
     "execution_count": 7,
     "metadata": {},
     "output_type": "execute_result"
    },
    {
     "data": {
      "image/png": "[encoded data removed]",
      "text/plain": [
       "<Figure size 432x288 with 1 Axes>"
      ]
     },
     "metadata": {
      "needs_background": "light"
     },
     "output_type": "display_data"
    }
   ],
   "source": [
    "df_pivot_diff.sort_values(\"stamp_2\", ascending = False)[\"stamp_2\"].head(10).plot.barh()"
   ]
  },
  {
   "cell_type": "code",
   "execution_count": null,
   "id": "extra-executive",
   "metadata": {
    "papermill": {
     "duration": 0.022654,
     "end_time": "2021-09-25T21:30:10.601633",
     "exception": false,
     "start_time": "2021-09-25T21:30:10.578979",
     "status": "completed"
    },
    "tags": []
   },
   "outputs": [],
   "source": []
  }
 ],
 "metadata": {
  "kernelspec": {
   "display_name": "Python 3",
   "language": "python",
   "name": "python3"
  },
  "language_info": {
   "codemirror_mode": {
    "name": "ipython",
    "version": 3
   },
   "file_extension": ".py",
   "mimetype": "text/x-python",
   "name": "python",
   "nbconvert_exporter": "python",
   "pygments_lexer": "ipython3",
   "version": "3.9.5"
  },
  "papermill": {
   "default_parameters": {},
   "duration": 7.822804,
   "end_time": "2021-09-25T21:30:12.226372",
   "environment_variables": {},
   "exception": null,
   "input_path": "eBay_Overview.ipynb",
   "output_path": "eBay_Overview.ipynb",
   "parameters": {},
   "start_time": "2021-09-25T21:30:04.403568",
   "version": "2.3.3"
  }
 },
 "nbformat": 4,
 "nbformat_minor": 5
}