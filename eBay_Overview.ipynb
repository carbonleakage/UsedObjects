{
 "cells": [
  {
   "cell_type": "code",
   "execution_count": 1,
   "id": "reverse-picking",
   "metadata": {
    "execution": {
     "iopub.execute_input": "2021-12-10T18:30:07.483614Z",
     "iopub.status.busy": "2021-12-10T18:30:07.481049Z",
     "iopub.status.idle": "2021-12-10T18:30:08.429319Z",
     "shell.execute_reply": "2021-12-10T18:30:08.430816Z"
    },
    "papermill": {
     "duration": 0.995198,
     "end_time": "2021-12-10T18:30:08.431542",
     "exception": false,
     "start_time": "2021-12-10T18:30:07.436344",
     "status": "completed"
    },
    "tags": []
   },
   "outputs": [],
   "source": [
    "import pandas as pd\n",
    "import sqlite3"
   ]
  },
  {
   "cell_type": "code",
   "execution_count": 2,
   "id": "innovative-syndrome",
   "metadata": {
    "execution": {
     "iopub.execute_input": "2021-12-10T18:30:08.494344Z",
     "iopub.status.busy": "2021-12-10T18:30:08.491972Z",
     "iopub.status.idle": "2021-12-10T18:30:09.551519Z",
     "shell.execute_reply": "2021-12-10T18:30:09.553062Z"
    },
    "papermill": {
     "duration": 1.094452,
     "end_time": "2021-12-10T18:30:09.553564",
     "exception": false,
     "start_time": "2021-12-10T18:30:08.459112",
     "status": "completed"
    },
    "tags": []
   },
   "outputs": [],
   "source": [
    "timestamps = pd.read_sql(\"select distinct record_time from EBAY_TOP_BERLIN order by record_time desc limit 2\", sqlite3.connect(\"UsedObjects.db\"))"
   ]
  },
  {
   "cell_type": "code",
   "execution_count": 3,
   "id": "periodic-identification",
   "metadata": {
    "execution": {
     "iopub.execute_input": "2021-12-10T18:30:09.626868Z",
     "iopub.status.busy": "2021-12-10T18:30:09.624508Z",
     "iopub.status.idle": "2021-12-10T18:30:09.647935Z",
     "shell.execute_reply": "2021-12-10T18:30:09.649562Z"
    },
    "papermill": {
     "duration": 0.074867,
     "end_time": "2021-12-10T18:30:09.650084",
     "exception": false,
     "start_time": "2021-12-10T18:30:09.575217",
     "status": "completed"
    },
    "tags": []
   },
   "outputs": [
    {
     "data": {
      "text/html": [
       "<div>\n",
       "<style scoped>\n",
       "    .dataframe tbody tr th:only-of-type {\n",
       "        vertical-align: middle;\n",
       "    }\n",
       "\n",
       "    .dataframe tbody tr th {\n",
       "        vertical-align: top;\n",
       "    }\n",
       "\n",
       "    .dataframe thead th {\n",
       "        text-align: right;\n",
       "    }\n",
       "</style>\n",
       "<table border=\"1\" class=\"dataframe\">\n",
       "  <thead>\n",
       "    <tr style=\"text-align: right;\">\n",
       "      <th></th>\n",
       "      <th>RECORD_TIME</th>\n",
       "    </tr>\n",
       "  </thead>\n",
       "  <tbody>\n",
       "    <tr>\n",
       "      <th>0</th>\n",
       "      <td>2021-12-10 19:30</td>\n",
       "    </tr>\n",
       "    <tr>\n",
       "      <th>1</th>\n",
       "      <td>2021-12-10 19:00</td>\n",
       "    </tr>\n",
       "  </tbody>\n",
       "</table>\n",
       "</div>"
      ],
      "text/plain": [
       "        RECORD_TIME\n",
       "0  2021-12-10 19:30\n",
       "1  2021-12-10 19:00"
      ]
     },
     "execution_count": 3,
     "metadata": {},
     "output_type": "execute_result"
    }
   ],
   "source": [
    "timestamps"
   ]
  },
  {
   "cell_type": "code",
   "execution_count": 4,
   "id": "alternate-victory",
   "metadata": {
    "execution": {
     "iopub.execute_input": "2021-12-10T18:30:09.707140Z",
     "iopub.status.busy": "2021-12-10T18:30:09.704134Z",
     "iopub.status.idle": "2021-12-10T18:30:11.258189Z",
     "shell.execute_reply": "2021-12-10T18:30:11.260467Z"
    },
    "papermill": {
     "duration": 1.589726,
     "end_time": "2021-12-10T18:30:11.261042",
     "exception": false,
     "start_time": "2021-12-10T18:30:09.671316",
     "status": "completed"
    },
    "tags": []
   },
   "outputs": [],
   "source": [
    "df = pd.read_sql(\"select * from EBAY_TOP_BERLIN where record_time in (select distinct record_time from EBAY_TOP_BERLIN order by record_time desc limit 2)\", sqlite3.connect(\"UsedObjects.db\"))"
   ]
  },
  {
   "cell_type": "code",
   "execution_count": 5,
   "id": "popular-active",
   "metadata": {
    "execution": {
     "iopub.execute_input": "2021-12-10T18:30:11.337346Z",
     "iopub.status.busy": "2021-12-10T18:30:11.323789Z",
     "iopub.status.idle": "2021-12-10T18:30:11.354542Z",
     "shell.execute_reply": "2021-12-10T18:30:11.355858Z"
    },
    "papermill": {
     "duration": 0.073633,
     "end_time": "2021-12-10T18:30:11.356326",
     "exception": false,
     "start_time": "2021-12-10T18:30:11.282693",
     "status": "completed"
    },
    "tags": []
   },
   "outputs": [],
   "source": [
    "df_pivot = df.pivot_table(index=\"PRODUCT\", columns = \"RECORD_TIME\", values = \"LISTING_COUNT\")"
   ]
  },
  {
   "cell_type": "code",
   "execution_count": 6,
   "id": "union-huntington",
   "metadata": {
    "execution": {
     "iopub.execute_input": "2021-12-10T18:30:11.414306Z",
     "iopub.status.busy": "2021-12-10T18:30:11.412164Z",
     "iopub.status.idle": "2021-12-10T18:30:11.417471Z",
     "shell.execute_reply": "2021-12-10T18:30:11.419150Z"
    },
    "papermill": {
     "duration": 0.043232,
     "end_time": "2021-12-10T18:30:11.419663",
     "exception": false,
     "start_time": "2021-12-10T18:30:11.376431",
     "status": "completed"
    },
    "tags": []
   },
   "outputs": [],
   "source": [
    "df_pivot.columns = [\"stamp_1\", \"stamp_2\"]\n",
    "df_pivot_diff = df_pivot.diff(axis=1)"
   ]
  },
  {
   "cell_type": "code",
   "execution_count": 7,
   "id": "fifth-motion",
   "metadata": {
    "execution": {
     "iopub.execute_input": "2021-12-10T18:30:11.481116Z",
     "iopub.status.busy": "2021-12-10T18:30:11.478441Z",
     "iopub.status.idle": "2021-12-10T18:30:13.354327Z",
     "shell.execute_reply": "2021-12-10T18:30:13.356888Z"
    },
    "papermill": {
     "duration": 1.91449,
     "end_time": "2021-12-10T18:30:13.357653",
     "exception": false,
     "start_time": "2021-12-10T18:30:11.443163",
     "status": "completed"
    },
    "tags": []
   },
   "outputs": [
    {
     "data": {
      "text/plain": [
       "<AxesSubplot:ylabel='PRODUCT'>"
      ]
     },
     "execution_count": 7,
     "metadata": {},
     "output_type": "execute_result"
    },
    {
     "data": {
      "image/png": "[encoded data removed]",
      "text/plain": [
       "<Figure size 432x288 with 1 Axes>"
      ]
     },
     "metadata": {
      "needs_background": "light"
     },
     "output_type": "display_data"
    }
   ],
   "source": [
    "df_pivot_diff.sort_values(\"stamp_2\", ascending = False)[\"stamp_2\"].head(10).plot.barh()"
   ]
  },
  {
   "cell_type": "code",
   "execution_count": null,
   "id": "extra-executive",
   "metadata": {
    "papermill": {
     "duration": 0.036822,
     "end_time": "2021-12-10T18:30:13.429831",
     "exception": false,
     "start_time": "2021-12-10T18:30:13.393009",
     "status": "completed"
    },
    "tags": []
   },
   "outputs": [],
   "source": []
  }
 ],
 "metadata": {
  "kernelspec": {
   "display_name": "Python 3",
   "language": "python",
   "name": "python3"
  },
  "language_info": {
   "codemirror_mode": {
    "name": "ipython",
    "version": 3
   },
   "file_extension": ".py",
   "mimetype": "text/x-python",
   "name": "python",
   "nbconvert_exporter": "python",
   "pygments_lexer": "ipython3",
   "version": "3.9.5"
  },
  "papermill": {
   "default_parameters": {},
   "duration": 9.960944,
   "end_time": "2021-12-10T18:30:14.638688",
   "environment_variables": {},
   "exception": null,
   "input_path": "eBay_Overview.ipynb",
   "output_path": "eBay_Overview.ipynb",
   "parameters": {},
   "start_time": "2021-12-10T18:30:04.677744",
   "version": "2.3.3"
  }
 },
 "nbformat": 4,
 "nbformat_minor": 5
}