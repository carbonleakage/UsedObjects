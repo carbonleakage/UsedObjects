{
 "cells": [
  {
   "cell_type": "code",
   "execution_count": 1,
   "id": "reverse-picking",
   "metadata": {
    "execution": {
     "iopub.execute_input": "2021-10-29T20:00:07.511503Z",
     "iopub.status.busy": "2021-10-29T20:00:07.509522Z",
     "iopub.status.idle": "2021-10-29T20:00:08.310827Z",
     "shell.execute_reply": "2021-10-29T20:00:08.312137Z"
    },
    "papermill": {
     "duration": 0.855626,
     "end_time": "2021-10-29T20:00:08.312828",
     "exception": false,
     "start_time": "2021-10-29T20:00:07.457202",
     "status": "completed"
    },
    "tags": []
   },
   "outputs": [],
   "source": [
    "import pandas as pd\n",
    "import sqlite3"
   ]
  },
  {
   "cell_type": "code",
   "execution_count": 2,
   "id": "innovative-syndrome",
   "metadata": {
    "execution": {
     "iopub.execute_input": "2021-10-29T20:00:08.364121Z",
     "iopub.status.busy": "2021-10-29T20:00:08.362087Z",
     "iopub.status.idle": "2021-10-29T20:00:09.028091Z",
     "shell.execute_reply": "2021-10-29T20:00:09.029520Z"
    },
    "papermill": {
     "duration": 0.696721,
     "end_time": "2021-10-29T20:00:09.029937",
     "exception": false,
     "start_time": "2021-10-29T20:00:08.333216",
     "status": "completed"
    },
    "tags": []
   },
   "outputs": [],
   "source": [
    "timestamps = pd.read_sql(\"select distinct record_time from EBAY_TOP_BERLIN order by record_time desc limit 2\", sqlite3.connect(\"UsedObjects.db\"))"
   ]
  },
  {
   "cell_type": "code",
   "execution_count": 3,
   "id": "periodic-identification",
   "metadata": {
    "execution": {
     "iopub.execute_input": "2021-10-29T20:00:09.163295Z",
     "iopub.status.busy": "2021-10-29T20:00:09.161269Z",
     "iopub.status.idle": "2021-10-29T20:00:09.181443Z",
     "shell.execute_reply": "2021-10-29T20:00:09.182882Z"
    },
    "papermill": {
     "duration": 0.074543,
     "end_time": "2021-10-29T20:00:09.183319",
     "exception": false,
     "start_time": "2021-10-29T20:00:09.108776",
     "status": "completed"
    },
    "tags": []
   },
   "outputs": [
    {
     "data": {
      "text/html": [
       "<div>\n",
       "<style scoped>\n",
       "    .dataframe tbody tr th:only-of-type {\n",
       "        vertical-align: middle;\n",
       "    }\n",
       "\n",
       "    .dataframe tbody tr th {\n",
       "        vertical-align: top;\n",
       "    }\n",
       "\n",
       "    .dataframe thead th {\n",
       "        text-align: right;\n",
       "    }\n",
       "</style>\n",
       "<table border=\"1\" class=\"dataframe\">\n",
       "  <thead>\n",
       "    <tr style=\"text-align: right;\">\n",
       "      <th></th>\n",
       "      <th>RECORD_TIME</th>\n",
       "    </tr>\n",
       "  </thead>\n",
       "  <tbody>\n",
       "    <tr>\n",
       "      <th>0</th>\n",
       "      <td>2021-10-29 22:00</td>\n",
       "    </tr>\n",
       "    <tr>\n",
       "      <th>1</th>\n",
       "      <td>2021-10-29 21:30</td>\n",
       "    </tr>\n",
       "  </tbody>\n",
       "</table>\n",
       "</div>"
      ],
      "text/plain": [
       "        RECORD_TIME\n",
       "0  2021-10-29 22:00\n",
       "1  2021-10-29 21:30"
      ]
     },
     "execution_count": 3,
     "metadata": {},
     "output_type": "execute_result"
    }
   ],
   "source": [
    "timestamps"
   ]
  },
  {
   "cell_type": "code",
   "execution_count": 4,
   "id": "alternate-victory",
   "metadata": {
    "execution": {
     "iopub.execute_input": "2021-10-29T20:00:09.234893Z",
     "iopub.status.busy": "2021-10-29T20:00:09.233062Z",
     "iopub.status.idle": "2021-10-29T20:00:10.216245Z",
     "shell.execute_reply": "2021-10-29T20:00:10.214950Z"
    },
    "papermill": {
     "duration": 1.012176,
     "end_time": "2021-10-29T20:00:10.216573",
     "exception": false,
     "start_time": "2021-10-29T20:00:09.204397",
     "status": "completed"
    },
    "tags": []
   },
   "outputs": [],
   "source": [
    "df = pd.read_sql(\"select * from EBAY_TOP_BERLIN where record_time in (select distinct record_time from EBAY_TOP_BERLIN order by record_time desc limit 2)\", sqlite3.connect(\"UsedObjects.db\"))"
   ]
  },
  {
   "cell_type": "code",
   "execution_count": 5,
   "id": "popular-active",
   "metadata": {
    "execution": {
     "iopub.execute_input": "2021-10-29T20:00:10.278576Z",
     "iopub.status.busy": "2021-10-29T20:00:10.276220Z",
     "iopub.status.idle": "2021-10-29T20:00:10.305940Z",
     "shell.execute_reply": "2021-10-29T20:00:10.307331Z"
    },
    "papermill": {
     "duration": 0.068944,
     "end_time": "2021-10-29T20:00:10.307763",
     "exception": false,
     "start_time": "2021-10-29T20:00:10.238819",
     "status": "completed"
    },
    "tags": []
   },
   "outputs": [],
   "source": [
    "df_pivot = df.pivot_table(index=\"PRODUCT\", columns = \"RECORD_TIME\", values = \"LISTING_COUNT\")"
   ]
  },
  {
   "cell_type": "code",
   "execution_count": 6,
   "id": "union-huntington",
   "metadata": {
    "execution": {
     "iopub.execute_input": "2021-10-29T20:00:10.364390Z",
     "iopub.status.busy": "2021-10-29T20:00:10.362361Z",
     "iopub.status.idle": "2021-10-29T20:00:10.367878Z",
     "shell.execute_reply": "2021-10-29T20:00:10.369238Z"
    },
    "papermill": {
     "duration": 0.041414,
     "end_time": "2021-10-29T20:00:10.369668",
     "exception": false,
     "start_time": "2021-10-29T20:00:10.328254",
     "status": "completed"
    },
    "tags": []
   },
   "outputs": [],
   "source": [
    "df_pivot.columns = [\"stamp_1\", \"stamp_2\"]\n",
    "df_pivot_diff = df_pivot.diff(axis=1)"
   ]
  },
  {
   "cell_type": "code",
   "execution_count": 7,
   "id": "fifth-motion",
   "metadata": {
    "execution": {
     "iopub.execute_input": "2021-10-29T20:00:10.424030Z",
     "iopub.status.busy": "2021-10-29T20:00:10.421666Z",
     "iopub.status.idle": "2021-10-29T20:00:11.885588Z",
     "shell.execute_reply": "2021-10-29T20:00:11.886883Z"
    },
    "papermill": {
     "duration": 1.49709,
     "end_time": "2021-10-29T20:00:11.887299",
     "exception": false,
     "start_time": "2021-10-29T20:00:10.390209",
     "status": "completed"
    },
    "tags": []
   },
   "outputs": [
    {
     "data": {
      "text/plain": [
       "<AxesSubplot:ylabel='PRODUCT'>"
      ]
     },
     "execution_count": 7,
     "metadata": {},
     "output_type": "execute_result"
    },
    {
     "data": {
      "image/png": "[encoded data removed]",
      "text/plain": [
       "<Figure size 432x288 with 1 Axes>"
      ]
     },
     "metadata": {
      "needs_background": "light"
     },
     "output_type": "display_data"
    }
   ],
   "source": [
    "df_pivot_diff.sort_values(\"stamp_2\", ascending = False)[\"stamp_2\"].head(10).plot.barh()"
   ]
  },
  {
   "cell_type": "code",
   "execution_count": null,
   "id": "extra-executive",
   "metadata": {
    "papermill": {
     "duration": 0.022124,
     "end_time": "2021-10-29T20:00:11.933257",
     "exception": false,
     "start_time": "2021-10-29T20:00:11.911133",
     "status": "completed"
    },
    "tags": []
   },
   "outputs": [],
   "source": []
  }
 ],
 "metadata": {
  "kernelspec": {
   "display_name": "Python 3",
   "language": "python",
   "name": "python3"
  },
  "language_info": {
   "codemirror_mode": {
    "name": "ipython",
    "version": 3
   },
   "file_extension": ".py",
   "mimetype": "text/x-python",
   "name": "python",
   "nbconvert_exporter": "python",
   "pygments_lexer": "ipython3",
   "version": "3.9.5"
  },
  "papermill": {
   "default_parameters": {},
   "duration": 7.521083,
   "end_time": "2021-10-29T20:00:12.577019",
   "environment_variables": {},
   "exception": null,
   "input_path": "eBay_Overview.ipynb",
   "output_path": "eBay_Overview.ipynb",
   "parameters": {},
   "start_time": "2021-10-29T20:00:05.055936",
   "version": "2.3.3"
  }
 },
 "nbformat": 4,
 "nbformat_minor": 5
}