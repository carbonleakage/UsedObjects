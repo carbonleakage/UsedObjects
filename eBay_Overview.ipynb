{
 "cells": [
  {
   "cell_type": "code",
   "execution_count": 1,
   "id": "reverse-picking",
   "metadata": {
    "execution": {
     "iopub.execute_input": "2021-09-19T16:30:07.571661Z",
     "iopub.status.busy": "2021-09-19T16:30:07.569615Z",
     "iopub.status.idle": "2021-09-19T16:30:08.372521Z",
     "shell.execute_reply": "2021-09-19T16:30:08.373774Z"
    },
    "papermill": {
     "duration": 0.853131,
     "end_time": "2021-09-19T16:30:08.374392",
     "exception": false,
     "start_time": "2021-09-19T16:30:07.521261",
     "status": "completed"
    },
    "tags": []
   },
   "outputs": [],
   "source": [
    "import pandas as pd\n",
    "import sqlite3"
   ]
  },
  {
   "cell_type": "code",
   "execution_count": 2,
   "id": "innovative-syndrome",
   "metadata": {
    "execution": {
     "iopub.execute_input": "2021-09-19T16:30:08.424904Z",
     "iopub.status.busy": "2021-09-19T16:30:08.423030Z",
     "iopub.status.idle": "2021-09-19T16:30:08.743517Z",
     "shell.execute_reply": "2021-09-19T16:30:08.744800Z"
    },
    "papermill": {
     "duration": 0.34998,
     "end_time": "2021-09-19T16:30:08.745196",
     "exception": false,
     "start_time": "2021-09-19T16:30:08.395216",
     "status": "completed"
    },
    "tags": []
   },
   "outputs": [],
   "source": [
    "timestamps = pd.read_sql(\"select distinct record_time from EBAY_TOP_BERLIN order by record_time desc limit 2\", sqlite3.connect(\"UsedObjects.db\"))"
   ]
  },
  {
   "cell_type": "code",
   "execution_count": 3,
   "id": "periodic-identification",
   "metadata": {
    "execution": {
     "iopub.execute_input": "2021-09-19T16:30:08.809117Z",
     "iopub.status.busy": "2021-09-19T16:30:08.807040Z",
     "iopub.status.idle": "2021-09-19T16:30:08.827745Z",
     "shell.execute_reply": "2021-09-19T16:30:08.828993Z"
    },
    "papermill": {
     "duration": 0.064958,
     "end_time": "2021-09-19T16:30:08.829382",
     "exception": false,
     "start_time": "2021-09-19T16:30:08.764424",
     "status": "completed"
    },
    "tags": []
   },
   "outputs": [
    {
     "data": {
      "text/html": [
       "<div>\n",
       "<style scoped>\n",
       "    .dataframe tbody tr th:only-of-type {\n",
       "        vertical-align: middle;\n",
       "    }\n",
       "\n",
       "    .dataframe tbody tr th {\n",
       "        vertical-align: top;\n",
       "    }\n",
       "\n",
       "    .dataframe thead th {\n",
       "        text-align: right;\n",
       "    }\n",
       "</style>\n",
       "<table border=\"1\" class=\"dataframe\">\n",
       "  <thead>\n",
       "    <tr style=\"text-align: right;\">\n",
       "      <th></th>\n",
       "      <th>RECORD_TIME</th>\n",
       "    </tr>\n",
       "  </thead>\n",
       "  <tbody>\n",
       "    <tr>\n",
       "      <th>0</th>\n",
       "      <td>2021-09-19 18:30</td>\n",
       "    </tr>\n",
       "    <tr>\n",
       "      <th>1</th>\n",
       "      <td>2021-09-19 18:00</td>\n",
       "    </tr>\n",
       "  </tbody>\n",
       "</table>\n",
       "</div>"
      ],
      "text/plain": [
       "        RECORD_TIME\n",
       "0  2021-09-19 18:30\n",
       "1  2021-09-19 18:00"
      ]
     },
     "execution_count": 3,
     "metadata": {},
     "output_type": "execute_result"
    }
   ],
   "source": [
    "timestamps"
   ]
  },
  {
   "cell_type": "code",
   "execution_count": 4,
   "id": "alternate-victory",
   "metadata": {
    "execution": {
     "iopub.execute_input": "2021-09-19T16:30:08.881716Z",
     "iopub.status.busy": "2021-09-19T16:30:08.879427Z",
     "iopub.status.idle": "2021-09-19T16:30:09.360488Z",
     "shell.execute_reply": "2021-09-19T16:30:09.361792Z"
    },
    "papermill": {
     "duration": 0.511162,
     "end_time": "2021-09-19T16:30:09.362205",
     "exception": false,
     "start_time": "2021-09-19T16:30:08.851043",
     "status": "completed"
    },
    "tags": []
   },
   "outputs": [],
   "source": [
    "df = pd.read_sql(\"select * from EBAY_TOP_BERLIN where record_time in (select distinct record_time from EBAY_TOP_BERLIN order by record_time desc limit 2)\", sqlite3.connect(\"UsedObjects.db\"))"
   ]
  },
  {
   "cell_type": "code",
   "execution_count": 5,
   "id": "popular-active",
   "metadata": {
    "execution": {
     "iopub.execute_input": "2021-09-19T16:30:09.431156Z",
     "iopub.status.busy": "2021-09-19T16:30:09.428936Z",
     "iopub.status.idle": "2021-09-19T16:30:09.456040Z",
     "shell.execute_reply": "2021-09-19T16:30:09.457257Z"
    },
    "papermill": {
     "duration": 0.070253,
     "end_time": "2021-09-19T16:30:09.457650",
     "exception": false,
     "start_time": "2021-09-19T16:30:09.387397",
     "status": "completed"
    },
    "tags": []
   },
   "outputs": [],
   "source": [
    "df_pivot = df.pivot_table(index=\"PRODUCT\", columns = \"RECORD_TIME\", values = \"LISTING_COUNT\")"
   ]
  },
  {
   "cell_type": "code",
   "execution_count": 6,
   "id": "union-huntington",
   "metadata": {
    "execution": {
     "iopub.execute_input": "2021-09-19T16:30:09.513708Z",
     "iopub.status.busy": "2021-09-19T16:30:09.511670Z",
     "iopub.status.idle": "2021-09-19T16:30:09.516986Z",
     "shell.execute_reply": "2021-09-19T16:30:09.518269Z"
    },
    "papermill": {
     "duration": 0.039809,
     "end_time": "2021-09-19T16:30:09.518682",
     "exception": false,
     "start_time": "2021-09-19T16:30:09.478873",
     "status": "completed"
    },
    "tags": []
   },
   "outputs": [],
   "source": [
    "df_pivot.columns = [\"stamp_1\", \"stamp_2\"]\n",
    "df_pivot_diff = df_pivot.diff(axis=1)"
   ]
  },
  {
   "cell_type": "code",
   "execution_count": 7,
   "id": "fifth-motion",
   "metadata": {
    "execution": {
     "iopub.execute_input": "2021-09-19T16:30:09.574741Z",
     "iopub.status.busy": "2021-09-19T16:30:09.572120Z",
     "iopub.status.idle": "2021-09-19T16:30:11.079977Z",
     "shell.execute_reply": "2021-09-19T16:30:11.081281Z"
    },
    "papermill": {
     "duration": 1.541337,
     "end_time": "2021-09-19T16:30:11.081695",
     "exception": false,
     "start_time": "2021-09-19T16:30:09.540358",
     "status": "completed"
    },
    "tags": []
   },
   "outputs": [
    {
     "data": {
      "text/plain": [
       "<AxesSubplot:ylabel='PRODUCT'>"
      ]
     },
     "execution_count": 7,
     "metadata": {},
     "output_type": "execute_result"
    },
    {
     "data": {
      "image/png": "[encoded data removed]",
      "text/plain": [
       "<Figure size 432x288 with 1 Axes>"
      ]
     },
     "metadata": {
      "needs_background": "light"
     },
     "output_type": "display_data"
    }
   ],
   "source": [
    "df_pivot_diff.sort_values(\"stamp_2\", ascending = False)[\"stamp_2\"].head(10).plot.barh()"
   ]
  },
  {
   "cell_type": "code",
   "execution_count": null,
   "id": "extra-executive",
   "metadata": {
    "papermill": {
     "duration": 0.021994,
     "end_time": "2021-09-19T16:30:11.127987",
     "exception": false,
     "start_time": "2021-09-19T16:30:11.105993",
     "status": "completed"
    },
    "tags": []
   },
   "outputs": [],
   "source": []
  }
 ],
 "metadata": {
  "kernelspec": {
   "display_name": "Python 3",
   "language": "python",
   "name": "python3"
  },
  "language_info": {
   "codemirror_mode": {
    "name": "ipython",
    "version": 3
   },
   "file_extension": ".py",
   "mimetype": "text/x-python",
   "name": "python",
   "nbconvert_exporter": "python",
   "pygments_lexer": "ipython3",
   "version": "3.9.5"
  },
  "papermill": {
   "default_parameters": {},
   "duration": 6.645865,
   "end_time": "2021-09-19T16:30:11.768580",
   "environment_variables": {},
   "exception": null,
   "input_path": "eBay_Overview.ipynb",
   "output_path": "eBay_Overview.ipynb",
   "parameters": {},
   "start_time": "2021-09-19T16:30:05.122715",
   "version": "2.3.3"
  }
 },
 "nbformat": 4,
 "nbformat_minor": 5
}