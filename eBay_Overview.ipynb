{
 "cells": [
  {
   "cell_type": "code",
   "execution_count": 1,
   "id": "reverse-picking",
   "metadata": {
    "execution": {
     "iopub.execute_input": "2021-12-19T10:30:07.270844Z",
     "iopub.status.busy": "2021-12-19T10:30:07.268425Z",
     "iopub.status.idle": "2021-12-19T10:30:08.229197Z",
     "shell.execute_reply": "2021-12-19T10:30:08.231431Z"
    },
    "papermill": {
     "duration": 1.010804,
     "end_time": "2021-12-19T10:30:08.232171",
     "exception": false,
     "start_time": "2021-12-19T10:30:07.221367",
     "status": "completed"
    },
    "tags": []
   },
   "outputs": [],
   "source": [
    "import pandas as pd\n",
    "import sqlite3"
   ]
  },
  {
   "cell_type": "code",
   "execution_count": 2,
   "id": "innovative-syndrome",
   "metadata": {
    "execution": {
     "iopub.execute_input": "2021-12-19T10:30:08.297034Z",
     "iopub.status.busy": "2021-12-19T10:30:08.294399Z",
     "iopub.status.idle": "2021-12-19T10:30:09.417658Z",
     "shell.execute_reply": "2021-12-19T10:30:09.419237Z"
    },
    "papermill": {
     "duration": 1.158443,
     "end_time": "2021-12-19T10:30:09.419716",
     "exception": false,
     "start_time": "2021-12-19T10:30:08.261273",
     "status": "completed"
    },
    "tags": []
   },
   "outputs": [],
   "source": [
    "timestamps = pd.read_sql(\"select distinct record_time from EBAY_TOP_BERLIN order by record_time desc limit 2\", sqlite3.connect(\"UsedObjects.db\"))"
   ]
  },
  {
   "cell_type": "code",
   "execution_count": 3,
   "id": "periodic-identification",
   "metadata": {
    "execution": {
     "iopub.execute_input": "2021-12-19T10:30:09.491779Z",
     "iopub.status.busy": "2021-12-19T10:30:09.489436Z",
     "iopub.status.idle": "2021-12-19T10:30:09.512862Z",
     "shell.execute_reply": "2021-12-19T10:30:09.514661Z"
    },
    "papermill": {
     "duration": 0.074957,
     "end_time": "2021-12-19T10:30:09.515205",
     "exception": false,
     "start_time": "2021-12-19T10:30:09.440248",
     "status": "completed"
    },
    "tags": []
   },
   "outputs": [
    {
     "data": {
      "text/html": [
       "<div>\n",
       "<style scoped>\n",
       "    .dataframe tbody tr th:only-of-type {\n",
       "        vertical-align: middle;\n",
       "    }\n",
       "\n",
       "    .dataframe tbody tr th {\n",
       "        vertical-align: top;\n",
       "    }\n",
       "\n",
       "    .dataframe thead th {\n",
       "        text-align: right;\n",
       "    }\n",
       "</style>\n",
       "<table border=\"1\" class=\"dataframe\">\n",
       "  <thead>\n",
       "    <tr style=\"text-align: right;\">\n",
       "      <th></th>\n",
       "      <th>RECORD_TIME</th>\n",
       "    </tr>\n",
       "  </thead>\n",
       "  <tbody>\n",
       "    <tr>\n",
       "      <th>0</th>\n",
       "      <td>2021-12-19 11:30</td>\n",
       "    </tr>\n",
       "    <tr>\n",
       "      <th>1</th>\n",
       "      <td>2021-12-19 11:00</td>\n",
       "    </tr>\n",
       "  </tbody>\n",
       "</table>\n",
       "</div>"
      ],
      "text/plain": [
       "        RECORD_TIME\n",
       "0  2021-12-19 11:30\n",
       "1  2021-12-19 11:00"
      ]
     },
     "execution_count": 3,
     "metadata": {},
     "output_type": "execute_result"
    }
   ],
   "source": [
    "timestamps"
   ]
  },
  {
   "cell_type": "code",
   "execution_count": 4,
   "id": "alternate-victory",
   "metadata": {
    "execution": {
     "iopub.execute_input": "2021-12-19T10:30:09.573325Z",
     "iopub.status.busy": "2021-12-19T10:30:09.571061Z",
     "iopub.status.idle": "2021-12-19T10:30:11.164449Z",
     "shell.execute_reply": "2021-12-19T10:30:11.166065Z"
    },
    "papermill": {
     "duration": 1.628038,
     "end_time": "2021-12-19T10:30:11.166560",
     "exception": false,
     "start_time": "2021-12-19T10:30:09.538522",
     "status": "completed"
    },
    "tags": []
   },
   "outputs": [],
   "source": [
    "df = pd.read_sql(\"select * from EBAY_TOP_BERLIN where record_time in (select distinct record_time from EBAY_TOP_BERLIN order by record_time desc limit 2)\", sqlite3.connect(\"UsedObjects.db\"))"
   ]
  },
  {
   "cell_type": "code",
   "execution_count": 5,
   "id": "popular-active",
   "metadata": {
    "execution": {
     "iopub.execute_input": "2021-12-19T10:30:11.244879Z",
     "iopub.status.busy": "2021-12-19T10:30:11.231721Z",
     "iopub.status.idle": "2021-12-19T10:30:11.266127Z",
     "shell.execute_reply": "2021-12-19T10:30:11.267833Z"
    },
    "papermill": {
     "duration": 0.079001,
     "end_time": "2021-12-19T10:30:11.268330",
     "exception": false,
     "start_time": "2021-12-19T10:30:11.189329",
     "status": "completed"
    },
    "tags": []
   },
   "outputs": [],
   "source": [
    "df_pivot = df.pivot_table(index=\"PRODUCT\", columns = \"RECORD_TIME\", values = \"LISTING_COUNT\")"
   ]
  },
  {
   "cell_type": "code",
   "execution_count": 6,
   "id": "union-huntington",
   "metadata": {
    "execution": {
     "iopub.execute_input": "2021-12-19T10:30:11.328796Z",
     "iopub.status.busy": "2021-12-19T10:30:11.326530Z",
     "iopub.status.idle": "2021-12-19T10:30:11.332077Z",
     "shell.execute_reply": "2021-12-19T10:30:11.333501Z"
    },
    "papermill": {
     "duration": 0.043941,
     "end_time": "2021-12-19T10:30:11.333973",
     "exception": false,
     "start_time": "2021-12-19T10:30:11.290032",
     "status": "completed"
    },
    "tags": []
   },
   "outputs": [],
   "source": [
    "df_pivot.columns = [\"stamp_1\", \"stamp_2\"]\n",
    "df_pivot_diff = df_pivot.diff(axis=1)"
   ]
  },
  {
   "cell_type": "code",
   "execution_count": 7,
   "id": "fifth-motion",
   "metadata": {
    "execution": {
     "iopub.execute_input": "2021-12-19T10:30:11.390476Z",
     "iopub.status.busy": "2021-12-19T10:30:11.387931Z",
     "iopub.status.idle": "2021-12-19T10:30:13.332632Z",
     "shell.execute_reply": "2021-12-19T10:30:13.335453Z"
    },
    "papermill": {
     "duration": 1.982353,
     "end_time": "2021-12-19T10:30:13.336343",
     "exception": false,
     "start_time": "2021-12-19T10:30:11.353990",
     "status": "completed"
    },
    "tags": []
   },
   "outputs": [
    {
     "data": {
      "text/plain": [
       "<AxesSubplot:ylabel='PRODUCT'>"
      ]
     },
     "execution_count": 7,
     "metadata": {},
     "output_type": "execute_result"
    },
    {
     "data": {
      "image/png": "[encoded data removed]",
      "text/plain": [
       "<Figure size 432x288 with 1 Axes>"
      ]
     },
     "metadata": {
      "needs_background": "light"
     },
     "output_type": "display_data"
    }
   ],
   "source": [
    "df_pivot_diff.sort_values(\"stamp_2\", ascending = False)[\"stamp_2\"].head(10).plot.barh()"
   ]
  },
  {
   "cell_type": "code",
   "execution_count": null,
   "id": "extra-executive",
   "metadata": {
    "papermill": {
     "duration": 0.034816,
     "end_time": "2021-12-19T10:30:13.408938",
     "exception": false,
     "start_time": "2021-12-19T10:30:13.374122",
     "status": "completed"
    },
    "tags": []
   },
   "outputs": [],
   "source": []
  }
 ],
 "metadata": {
  "kernelspec": {
   "display_name": "Python 3",
   "language": "python",
   "name": "python3"
  },
  "language_info": {
   "codemirror_mode": {
    "name": "ipython",
    "version": 3
   },
   "file_extension": ".py",
   "mimetype": "text/x-python",
   "name": "python",
   "nbconvert_exporter": "python",
   "pygments_lexer": "ipython3",
   "version": "3.9.5"
  },
  "papermill": {
   "default_parameters": {},
   "duration": 9.885133,
   "end_time": "2021-12-19T10:30:14.280504",
   "environment_variables": {},
   "exception": null,
   "input_path": "eBay_Overview.ipynb",
   "output_path": "eBay_Overview.ipynb",
   "parameters": {},
   "start_time": "2021-12-19T10:30:04.395371",
   "version": "2.3.3"
  }
 },
 "nbformat": 4,
 "nbformat_minor": 5
}