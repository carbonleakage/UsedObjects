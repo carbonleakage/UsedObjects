{
 "cells": [
  {
   "cell_type": "code",
   "execution_count": 1,
   "id": "reverse-picking",
   "metadata": {
    "execution": {
     "iopub.execute_input": "2021-10-09T04:00:07.032743Z",
     "iopub.status.busy": "2021-10-09T04:00:07.030735Z",
     "iopub.status.idle": "2021-10-09T04:00:07.845388Z",
     "shell.execute_reply": "2021-10-09T04:00:07.846724Z"
    },
    "papermill": {
     "duration": 0.867429,
     "end_time": "2021-10-09T04:00:07.847424",
     "exception": false,
     "start_time": "2021-10-09T04:00:06.979995",
     "status": "completed"
    },
    "tags": []
   },
   "outputs": [],
   "source": [
    "import pandas as pd\n",
    "import sqlite3"
   ]
  },
  {
   "cell_type": "code",
   "execution_count": 2,
   "id": "innovative-syndrome",
   "metadata": {
    "execution": {
     "iopub.execute_input": "2021-10-09T04:00:07.898421Z",
     "iopub.status.busy": "2021-10-09T04:00:07.896361Z",
     "iopub.status.idle": "2021-10-09T04:00:08.392597Z",
     "shell.execute_reply": "2021-10-09T04:00:08.393966Z"
    },
    "papermill": {
     "duration": 0.526672,
     "end_time": "2021-10-09T04:00:08.394410",
     "exception": false,
     "start_time": "2021-10-09T04:00:07.867738",
     "status": "completed"
    },
    "tags": []
   },
   "outputs": [],
   "source": [
    "timestamps = pd.read_sql(\"select distinct record_time from EBAY_TOP_BERLIN order by record_time desc limit 2\", sqlite3.connect(\"UsedObjects.db\"))"
   ]
  },
  {
   "cell_type": "code",
   "execution_count": 3,
   "id": "periodic-identification",
   "metadata": {
    "execution": {
     "iopub.execute_input": "2021-10-09T04:00:08.466843Z",
     "iopub.status.busy": "2021-10-09T04:00:08.464766Z",
     "iopub.status.idle": "2021-10-09T04:00:08.485349Z",
     "shell.execute_reply": "2021-10-09T04:00:08.486642Z"
    },
    "papermill": {
     "duration": 0.073997,
     "end_time": "2021-10-09T04:00:08.487147",
     "exception": false,
     "start_time": "2021-10-09T04:00:08.413150",
     "status": "completed"
    },
    "tags": []
   },
   "outputs": [
    {
     "data": {
      "text/html": [
       "<div>\n",
       "<style scoped>\n",
       "    .dataframe tbody tr th:only-of-type {\n",
       "        vertical-align: middle;\n",
       "    }\n",
       "\n",
       "    .dataframe tbody tr th {\n",
       "        vertical-align: top;\n",
       "    }\n",
       "\n",
       "    .dataframe thead th {\n",
       "        text-align: right;\n",
       "    }\n",
       "</style>\n",
       "<table border=\"1\" class=\"dataframe\">\n",
       "  <thead>\n",
       "    <tr style=\"text-align: right;\">\n",
       "      <th></th>\n",
       "      <th>RECORD_TIME</th>\n",
       "    </tr>\n",
       "  </thead>\n",
       "  <tbody>\n",
       "    <tr>\n",
       "      <th>0</th>\n",
       "      <td>2021-10-09 06:00</td>\n",
       "    </tr>\n",
       "    <tr>\n",
       "      <th>1</th>\n",
       "      <td>2021-10-09 05:30</td>\n",
       "    </tr>\n",
       "  </tbody>\n",
       "</table>\n",
       "</div>"
      ],
      "text/plain": [
       "        RECORD_TIME\n",
       "0  2021-10-09 06:00\n",
       "1  2021-10-09 05:30"
      ]
     },
     "execution_count": 3,
     "metadata": {},
     "output_type": "execute_result"
    }
   ],
   "source": [
    "timestamps"
   ]
  },
  {
   "cell_type": "code",
   "execution_count": 4,
   "id": "alternate-victory",
   "metadata": {
    "execution": {
     "iopub.execute_input": "2021-10-09T04:00:08.538265Z",
     "iopub.status.busy": "2021-10-09T04:00:08.536414Z",
     "iopub.status.idle": "2021-10-09T04:00:09.251530Z",
     "shell.execute_reply": "2021-10-09T04:00:09.252845Z"
    },
    "papermill": {
     "duration": 0.744913,
     "end_time": "2021-10-09T04:00:09.253249",
     "exception": false,
     "start_time": "2021-10-09T04:00:08.508336",
     "status": "completed"
    },
    "tags": []
   },
   "outputs": [],
   "source": [
    "df = pd.read_sql(\"select * from EBAY_TOP_BERLIN where record_time in (select distinct record_time from EBAY_TOP_BERLIN order by record_time desc limit 2)\", sqlite3.connect(\"UsedObjects.db\"))"
   ]
  },
  {
   "cell_type": "code",
   "execution_count": 5,
   "id": "popular-active",
   "metadata": {
    "execution": {
     "iopub.execute_input": "2021-10-09T04:00:09.322391Z",
     "iopub.status.busy": "2021-10-09T04:00:09.310439Z",
     "iopub.status.idle": "2021-10-09T04:00:09.340006Z",
     "shell.execute_reply": "2021-10-09T04:00:09.341407Z"
    },
    "papermill": {
     "duration": 0.068328,
     "end_time": "2021-10-09T04:00:09.341843",
     "exception": false,
     "start_time": "2021-10-09T04:00:09.273515",
     "status": "completed"
    },
    "tags": []
   },
   "outputs": [],
   "source": [
    "df_pivot = df.pivot_table(index=\"PRODUCT\", columns = \"RECORD_TIME\", values = \"LISTING_COUNT\")"
   ]
  },
  {
   "cell_type": "code",
   "execution_count": 6,
   "id": "union-huntington",
   "metadata": {
    "execution": {
     "iopub.execute_input": "2021-10-09T04:00:09.398480Z",
     "iopub.status.busy": "2021-10-09T04:00:09.396427Z",
     "iopub.status.idle": "2021-10-09T04:00:09.401583Z",
     "shell.execute_reply": "2021-10-09T04:00:09.402930Z"
    },
    "papermill": {
     "duration": 0.041224,
     "end_time": "2021-10-09T04:00:09.403366",
     "exception": false,
     "start_time": "2021-10-09T04:00:09.362142",
     "status": "completed"
    },
    "tags": []
   },
   "outputs": [],
   "source": [
    "df_pivot.columns = [\"stamp_1\", \"stamp_2\"]\n",
    "df_pivot_diff = df_pivot.diff(axis=1)"
   ]
  },
  {
   "cell_type": "code",
   "execution_count": 7,
   "id": "fifth-motion",
   "metadata": {
    "execution": {
     "iopub.execute_input": "2021-10-09T04:00:09.457934Z",
     "iopub.status.busy": "2021-10-09T04:00:09.455567Z",
     "iopub.status.idle": "2021-10-09T04:00:10.952750Z",
     "shell.execute_reply": "2021-10-09T04:00:10.954215Z"
    },
    "papermill": {
     "duration": 1.53068,
     "end_time": "2021-10-09T04:00:10.954679",
     "exception": false,
     "start_time": "2021-10-09T04:00:09.423999",
     "status": "completed"
    },
    "tags": []
   },
   "outputs": [
    {
     "data": {
      "text/plain": [
       "<AxesSubplot:ylabel='PRODUCT'>"
      ]
     },
     "execution_count": 7,
     "metadata": {},
     "output_type": "execute_result"
    },
    {
     "data": {
      "image/png": "[encoded data removed]",
      "text/plain": [
       "<Figure size 432x288 with 1 Axes>"
      ]
     },
     "metadata": {
      "needs_background": "light"
     },
     "output_type": "display_data"
    }
   ],
   "source": [
    "df_pivot_diff.sort_values(\"stamp_2\", ascending = False)[\"stamp_2\"].head(10).plot.barh()"
   ]
  },
  {
   "cell_type": "code",
   "execution_count": null,
   "id": "extra-executive",
   "metadata": {
    "papermill": {
     "duration": 0.021952,
     "end_time": "2021-10-09T04:00:11.001138",
     "exception": false,
     "start_time": "2021-10-09T04:00:10.979186",
     "status": "completed"
    },
    "tags": []
   },
   "outputs": [],
   "source": []
  }
 ],
 "metadata": {
  "kernelspec": {
   "display_name": "Python 3",
   "language": "python",
   "name": "python3"
  },
  "language_info": {
   "codemirror_mode": {
    "name": "ipython",
    "version": 3
   },
   "file_extension": ".py",
   "mimetype": "text/x-python",
   "name": "python",
   "nbconvert_exporter": "python",
   "pygments_lexer": "ipython3",
   "version": "3.9.5"
  },
  "papermill": {
   "default_parameters": {},
   "duration": 7.829575,
   "end_time": "2021-10-09T04:00:12.387454",
   "environment_variables": {},
   "exception": null,
   "input_path": "eBay_Overview.ipynb",
   "output_path": "eBay_Overview.ipynb",
   "parameters": {},
   "start_time": "2021-10-09T04:00:04.557879",
   "version": "2.3.3"
  }
 },
 "nbformat": 4,
 "nbformat_minor": 5
}