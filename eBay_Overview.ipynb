{
 "cells": [
  {
   "cell_type": "code",
   "execution_count": 1,
   "id": "reverse-picking",
   "metadata": {
    "execution": {
     "iopub.execute_input": "2021-08-29T15:30:06.947278Z",
     "iopub.status.busy": "2021-08-29T15:30:06.945313Z",
     "iopub.status.idle": "2021-08-29T15:30:07.748671Z",
     "shell.execute_reply": "2021-08-29T15:30:07.750030Z"
    },
    "papermill": {
     "duration": 0.854582,
     "end_time": "2021-08-29T15:30:07.750683",
     "exception": false,
     "start_time": "2021-08-29T15:30:06.896101",
     "status": "completed"
    },
    "tags": []
   },
   "outputs": [],
   "source": [
    "import pandas as pd\n",
    "import sqlite3"
   ]
  },
  {
   "cell_type": "code",
   "execution_count": 2,
   "id": "innovative-syndrome",
   "metadata": {
    "execution": {
     "iopub.execute_input": "2021-08-29T15:30:07.800630Z",
     "iopub.status.busy": "2021-08-29T15:30:07.798632Z",
     "iopub.status.idle": "2021-08-29T15:30:07.957727Z",
     "shell.execute_reply": "2021-08-29T15:30:07.959099Z"
    },
    "papermill": {
     "duration": 0.188576,
     "end_time": "2021-08-29T15:30:07.959540",
     "exception": false,
     "start_time": "2021-08-29T15:30:07.770964",
     "status": "completed"
    },
    "tags": []
   },
   "outputs": [],
   "source": [
    "timestamps = pd.read_sql(\"select distinct record_time from EBAY_TOP_BERLIN order by record_time desc limit 2\", sqlite3.connect(\"UsedObjects.db\"))"
   ]
  },
  {
   "cell_type": "code",
   "execution_count": 3,
   "id": "periodic-identification",
   "metadata": {
    "execution": {
     "iopub.execute_input": "2021-08-29T15:30:08.026797Z",
     "iopub.status.busy": "2021-08-29T15:30:08.024791Z",
     "iopub.status.idle": "2021-08-29T15:30:08.046526Z",
     "shell.execute_reply": "2021-08-29T15:30:08.047814Z"
    },
    "papermill": {
     "duration": 0.06897,
     "end_time": "2021-08-29T15:30:08.048406",
     "exception": false,
     "start_time": "2021-08-29T15:30:07.979436",
     "status": "completed"
    },
    "tags": []
   },
   "outputs": [
    {
     "data": {
      "text/html": [
       "<div>\n",
       "<style scoped>\n",
       "    .dataframe tbody tr th:only-of-type {\n",
       "        vertical-align: middle;\n",
       "    }\n",
       "\n",
       "    .dataframe tbody tr th {\n",
       "        vertical-align: top;\n",
       "    }\n",
       "\n",
       "    .dataframe thead th {\n",
       "        text-align: right;\n",
       "    }\n",
       "</style>\n",
       "<table border=\"1\" class=\"dataframe\">\n",
       "  <thead>\n",
       "    <tr style=\"text-align: right;\">\n",
       "      <th></th>\n",
       "      <th>RECORD_TIME</th>\n",
       "    </tr>\n",
       "  </thead>\n",
       "  <tbody>\n",
       "    <tr>\n",
       "      <th>0</th>\n",
       "      <td>2021-08-29 17:30</td>\n",
       "    </tr>\n",
       "    <tr>\n",
       "      <th>1</th>\n",
       "      <td>2021-08-29 17:00</td>\n",
       "    </tr>\n",
       "  </tbody>\n",
       "</table>\n",
       "</div>"
      ],
      "text/plain": [
       "        RECORD_TIME\n",
       "0  2021-08-29 17:30\n",
       "1  2021-08-29 17:00"
      ]
     },
     "execution_count": 3,
     "metadata": {},
     "output_type": "execute_result"
    }
   ],
   "source": [
    "timestamps"
   ]
  },
  {
   "cell_type": "code",
   "execution_count": 4,
   "id": "alternate-victory",
   "metadata": {
    "execution": {
     "iopub.execute_input": "2021-08-29T15:30:08.101238Z",
     "iopub.status.busy": "2021-08-29T15:30:08.098850Z",
     "iopub.status.idle": "2021-08-29T15:30:08.349888Z",
     "shell.execute_reply": "2021-08-29T15:30:08.351259Z"
    },
    "papermill": {
     "duration": 0.281413,
     "end_time": "2021-08-29T15:30:08.351701",
     "exception": false,
     "start_time": "2021-08-29T15:30:08.070288",
     "status": "completed"
    },
    "tags": []
   },
   "outputs": [],
   "source": [
    "df = pd.read_sql(\"select * from EBAY_TOP_BERLIN where record_time in (select distinct record_time from EBAY_TOP_BERLIN order by record_time desc limit 2)\", sqlite3.connect(\"UsedObjects.db\"))"
   ]
  },
  {
   "cell_type": "code",
   "execution_count": 5,
   "id": "popular-active",
   "metadata": {
    "execution": {
     "iopub.execute_input": "2021-08-29T15:30:08.430650Z",
     "iopub.status.busy": "2021-08-29T15:30:08.418669Z",
     "iopub.status.idle": "2021-08-29T15:30:08.446650Z",
     "shell.execute_reply": "2021-08-29T15:30:08.447875Z"
    },
    "papermill": {
     "duration": 0.075205,
     "end_time": "2021-08-29T15:30:08.448327",
     "exception": false,
     "start_time": "2021-08-29T15:30:08.373122",
     "status": "completed"
    },
    "tags": []
   },
   "outputs": [],
   "source": [
    "df_pivot = df.pivot_table(index=\"PRODUCT\", columns = \"RECORD_TIME\", values = \"LISTING_COUNT\")"
   ]
  },
  {
   "cell_type": "code",
   "execution_count": 6,
   "id": "union-huntington",
   "metadata": {
    "execution": {
     "iopub.execute_input": "2021-08-29T15:30:08.504604Z",
     "iopub.status.busy": "2021-08-29T15:30:08.502401Z",
     "iopub.status.idle": "2021-08-29T15:30:08.507954Z",
     "shell.execute_reply": "2021-08-29T15:30:08.509657Z"
    },
    "papermill": {
     "duration": 0.041325,
     "end_time": "2021-08-29T15:30:08.510256",
     "exception": false,
     "start_time": "2021-08-29T15:30:08.468931",
     "status": "completed"
    },
    "tags": []
   },
   "outputs": [],
   "source": [
    "df_pivot.columns = [\"stamp_1\", \"stamp_2\"]\n",
    "df_pivot_diff = df_pivot.diff(axis=1)"
   ]
  },
  {
   "cell_type": "code",
   "execution_count": 7,
   "id": "fifth-motion",
   "metadata": {
    "execution": {
     "iopub.execute_input": "2021-08-29T15:30:08.565557Z",
     "iopub.status.busy": "2021-08-29T15:30:08.563073Z",
     "iopub.status.idle": "2021-08-29T15:30:10.040082Z",
     "shell.execute_reply": "2021-08-29T15:30:10.041724Z"
    },
    "papermill": {
     "duration": 1.51038,
     "end_time": "2021-08-29T15:30:10.042208",
     "exception": false,
     "start_time": "2021-08-29T15:30:08.531828",
     "status": "completed"
    },
    "tags": []
   },
   "outputs": [
    {
     "data": {
      "text/plain": [
       "<AxesSubplot:ylabel='PRODUCT'>"
      ]
     },
     "execution_count": 7,
     "metadata": {},
     "output_type": "execute_result"
    },
    {
     "data": {
      "image/png": "[encoded data removed]",
      "text/plain": [
       "<Figure size 432x288 with 1 Axes>"
      ]
     },
     "metadata": {
      "needs_background": "light"
     },
     "output_type": "display_data"
    }
   ],
   "source": [
    "df_pivot_diff.sort_values(\"stamp_2\", ascending = False)[\"stamp_2\"].head(10).plot.barh()"
   ]
  },
  {
   "cell_type": "code",
   "execution_count": null,
   "id": "extra-executive",
   "metadata": {
    "papermill": {
     "duration": 0.022042,
     "end_time": "2021-08-29T15:30:10.088318",
     "exception": false,
     "start_time": "2021-08-29T15:30:10.066276",
     "status": "completed"
    },
    "tags": []
   },
   "outputs": [],
   "source": []
  }
 ],
 "metadata": {
  "kernelspec": {
   "display_name": "Python 3",
   "language": "python",
   "name": "python3"
  },
  "language_info": {
   "codemirror_mode": {
    "name": "ipython",
    "version": 3
   },
   "file_extension": ".py",
   "mimetype": "text/x-python",
   "name": "python",
   "nbconvert_exporter": "python",
   "pygments_lexer": "ipython3",
   "version": "3.9.5"
  },
  "papermill": {
   "default_parameters": {},
   "duration": 6.822584,
   "end_time": "2021-08-29T15:30:11.316365",
   "environment_variables": {},
   "exception": null,
   "input_path": "eBay_Overview.ipynb",
   "output_path": "eBay_Overview.ipynb",
   "parameters": {},
   "start_time": "2021-08-29T15:30:04.493781",
   "version": "2.3.3"
  }
 },
 "nbformat": 4,
 "nbformat_minor": 5
}