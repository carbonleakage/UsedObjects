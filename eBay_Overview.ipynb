{
 "cells": [
  {
   "cell_type": "code",
   "execution_count": 1,
   "id": "reverse-picking",
   "metadata": {
    "execution": {
     "iopub.execute_input": "2021-11-20T08:00:08.055207Z",
     "iopub.status.busy": "2021-11-20T08:00:08.052748Z",
     "iopub.status.idle": "2021-11-20T08:00:09.023342Z",
     "shell.execute_reply": "2021-11-20T08:00:09.025071Z"
    },
    "papermill": {
     "duration": 1.019951,
     "end_time": "2021-11-20T08:00:09.025813",
     "exception": false,
     "start_time": "2021-11-20T08:00:08.005862",
     "status": "completed"
    },
    "tags": []
   },
   "outputs": [],
   "source": [
    "import pandas as pd\n",
    "import sqlite3"
   ]
  },
  {
   "cell_type": "code",
   "execution_count": 2,
   "id": "innovative-syndrome",
   "metadata": {
    "execution": {
     "iopub.execute_input": "2021-11-20T08:00:09.087487Z",
     "iopub.status.busy": "2021-11-20T08:00:09.085093Z",
     "iopub.status.idle": "2021-11-20T08:00:09.952207Z",
     "shell.execute_reply": "2021-11-20T08:00:09.953497Z"
    },
    "papermill": {
     "duration": 0.901599,
     "end_time": "2021-11-20T08:00:09.953898",
     "exception": false,
     "start_time": "2021-11-20T08:00:09.052299",
     "status": "completed"
    },
    "tags": []
   },
   "outputs": [],
   "source": [
    "timestamps = pd.read_sql(\"select distinct record_time from EBAY_TOP_BERLIN order by record_time desc limit 2\", sqlite3.connect(\"UsedObjects.db\"))"
   ]
  },
  {
   "cell_type": "code",
   "execution_count": 3,
   "id": "periodic-identification",
   "metadata": {
    "execution": {
     "iopub.execute_input": "2021-11-20T08:00:10.017092Z",
     "iopub.status.busy": "2021-11-20T08:00:10.014965Z",
     "iopub.status.idle": "2021-11-20T08:00:10.036730Z",
     "shell.execute_reply": "2021-11-20T08:00:10.038238Z"
    },
    "papermill": {
     "duration": 0.065381,
     "end_time": "2021-11-20T08:00:10.038731",
     "exception": false,
     "start_time": "2021-11-20T08:00:09.973350",
     "status": "completed"
    },
    "tags": []
   },
   "outputs": [
    {
     "data": {
      "text/html": [
       "<div>\n",
       "<style scoped>\n",
       "    .dataframe tbody tr th:only-of-type {\n",
       "        vertical-align: middle;\n",
       "    }\n",
       "\n",
       "    .dataframe tbody tr th {\n",
       "        vertical-align: top;\n",
       "    }\n",
       "\n",
       "    .dataframe thead th {\n",
       "        text-align: right;\n",
       "    }\n",
       "</style>\n",
       "<table border=\"1\" class=\"dataframe\">\n",
       "  <thead>\n",
       "    <tr style=\"text-align: right;\">\n",
       "      <th></th>\n",
       "      <th>RECORD_TIME</th>\n",
       "    </tr>\n",
       "  </thead>\n",
       "  <tbody>\n",
       "    <tr>\n",
       "      <th>0</th>\n",
       "      <td>2021-11-20 09:00</td>\n",
       "    </tr>\n",
       "    <tr>\n",
       "      <th>1</th>\n",
       "      <td>2021-11-20 08:30</td>\n",
       "    </tr>\n",
       "  </tbody>\n",
       "</table>\n",
       "</div>"
      ],
      "text/plain": [
       "        RECORD_TIME\n",
       "0  2021-11-20 09:00\n",
       "1  2021-11-20 08:30"
      ]
     },
     "execution_count": 3,
     "metadata": {},
     "output_type": "execute_result"
    }
   ],
   "source": [
    "timestamps"
   ]
  },
  {
   "cell_type": "code",
   "execution_count": 4,
   "id": "alternate-victory",
   "metadata": {
    "execution": {
     "iopub.execute_input": "2021-11-20T08:00:10.093205Z",
     "iopub.status.busy": "2021-11-20T08:00:10.090849Z",
     "iopub.status.idle": "2021-11-20T08:00:11.352756Z",
     "shell.execute_reply": "2021-11-20T08:00:11.354816Z"
    },
    "papermill": {
     "duration": 1.29642,
     "end_time": "2021-11-20T08:00:11.355383",
     "exception": false,
     "start_time": "2021-11-20T08:00:10.058963",
     "status": "completed"
    },
    "tags": []
   },
   "outputs": [],
   "source": [
    "df = pd.read_sql(\"select * from EBAY_TOP_BERLIN where record_time in (select distinct record_time from EBAY_TOP_BERLIN order by record_time desc limit 2)\", sqlite3.connect(\"UsedObjects.db\"))"
   ]
  },
  {
   "cell_type": "code",
   "execution_count": 5,
   "id": "popular-active",
   "metadata": {
    "execution": {
     "iopub.execute_input": "2021-11-20T08:00:11.433408Z",
     "iopub.status.busy": "2021-11-20T08:00:11.420934Z",
     "iopub.status.idle": "2021-11-20T08:00:11.461351Z",
     "shell.execute_reply": "2021-11-20T08:00:11.462868Z"
    },
    "papermill": {
     "duration": 0.085079,
     "end_time": "2021-11-20T08:00:11.463369",
     "exception": false,
     "start_time": "2021-11-20T08:00:11.378290",
     "status": "completed"
    },
    "tags": []
   },
   "outputs": [],
   "source": [
    "df_pivot = df.pivot_table(index=\"PRODUCT\", columns = \"RECORD_TIME\", values = \"LISTING_COUNT\")"
   ]
  },
  {
   "cell_type": "code",
   "execution_count": 6,
   "id": "union-huntington",
   "metadata": {
    "execution": {
     "iopub.execute_input": "2021-11-20T08:00:11.525632Z",
     "iopub.status.busy": "2021-11-20T08:00:11.523338Z",
     "iopub.status.idle": "2021-11-20T08:00:11.528477Z",
     "shell.execute_reply": "2021-11-20T08:00:11.530026Z"
    },
    "papermill": {
     "duration": 0.044749,
     "end_time": "2021-11-20T08:00:11.530488",
     "exception": false,
     "start_time": "2021-11-20T08:00:11.485739",
     "status": "completed"
    },
    "tags": []
   },
   "outputs": [],
   "source": [
    "df_pivot.columns = [\"stamp_1\", \"stamp_2\"]\n",
    "df_pivot_diff = df_pivot.diff(axis=1)"
   ]
  },
  {
   "cell_type": "code",
   "execution_count": 7,
   "id": "fifth-motion",
   "metadata": {
    "execution": {
     "iopub.execute_input": "2021-11-20T08:00:11.586392Z",
     "iopub.status.busy": "2021-11-20T08:00:11.583893Z",
     "iopub.status.idle": "2021-11-20T08:00:13.605081Z",
     "shell.execute_reply": "2021-11-20T08:00:13.606931Z"
    },
    "papermill": {
     "duration": 2.057412,
     "end_time": "2021-11-20T08:00:13.607589",
     "exception": false,
     "start_time": "2021-11-20T08:00:11.550177",
     "status": "completed"
    },
    "tags": []
   },
   "outputs": [
    {
     "data": {
      "text/plain": [
       "<AxesSubplot:ylabel='PRODUCT'>"
      ]
     },
     "execution_count": 7,
     "metadata": {},
     "output_type": "execute_result"
    },
    {
     "data": {
      "image/png": "[encoded data removed]",
      "text/plain": [
       "<Figure size 432x288 with 1 Axes>"
      ]
     },
     "metadata": {
      "needs_background": "light"
     },
     "output_type": "display_data"
    }
   ],
   "source": [
    "df_pivot_diff.sort_values(\"stamp_2\", ascending = False)[\"stamp_2\"].head(10).plot.barh()"
   ]
  },
  {
   "cell_type": "code",
   "execution_count": null,
   "id": "extra-executive",
   "metadata": {
    "papermill": {
     "duration": 0.024872,
     "end_time": "2021-11-20T08:00:13.660785",
     "exception": false,
     "start_time": "2021-11-20T08:00:13.635913",
     "status": "completed"
    },
    "tags": []
   },
   "outputs": [],
   "source": []
  }
 ],
 "metadata": {
  "kernelspec": {
   "display_name": "Python 3",
   "language": "python",
   "name": "python3"
  },
  "language_info": {
   "codemirror_mode": {
    "name": "ipython",
    "version": 3
   },
   "file_extension": ".py",
   "mimetype": "text/x-python",
   "name": "python",
   "nbconvert_exporter": "python",
   "pygments_lexer": "ipython3",
   "version": "3.9.5"
  },
  "papermill": {
   "default_parameters": {},
   "duration": 9.931745,
   "end_time": "2021-11-20T08:00:15.201812",
   "environment_variables": {},
   "exception": null,
   "input_path": "eBay_Overview.ipynb",
   "output_path": "eBay_Overview.ipynb",
   "parameters": {},
   "start_time": "2021-11-20T08:00:05.270067",
   "version": "2.3.3"
  }
 },
 "nbformat": 4,
 "nbformat_minor": 5
}