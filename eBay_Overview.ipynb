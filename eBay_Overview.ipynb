{
 "cells": [
  {
   "cell_type": "code",
   "execution_count": 1,
   "id": "reverse-picking",
   "metadata": {
    "execution": {
     "iopub.execute_input": "2021-08-18T23:30:07.140263Z",
     "iopub.status.busy": "2021-08-18T23:30:07.138327Z",
     "iopub.status.idle": "2021-08-18T23:30:07.944376Z",
     "shell.execute_reply": "2021-08-18T23:30:07.945613Z"
    },
    "papermill": {
     "duration": 0.859735,
     "end_time": "2021-08-18T23:30:07.946321",
     "exception": false,
     "start_time": "2021-08-18T23:30:07.086586",
     "status": "completed"
    },
    "tags": []
   },
   "outputs": [],
   "source": [
    "import pandas as pd\n",
    "import sqlite3"
   ]
  },
  {
   "cell_type": "code",
   "execution_count": 2,
   "id": "innovative-syndrome",
   "metadata": {
    "execution": {
     "iopub.execute_input": "2021-08-18T23:30:07.998759Z",
     "iopub.status.busy": "2021-08-18T23:30:07.996806Z",
     "iopub.status.idle": "2021-08-18T23:30:08.074316Z",
     "shell.execute_reply": "2021-08-18T23:30:08.075642Z"
    },
    "papermill": {
     "duration": 0.107374,
     "end_time": "2021-08-18T23:30:08.076047",
     "exception": false,
     "start_time": "2021-08-18T23:30:07.968673",
     "status": "completed"
    },
    "tags": []
   },
   "outputs": [],
   "source": [
    "timestamps = pd.read_sql(\"select distinct record_time from EBAY_TOP_BERLIN order by record_time desc limit 2\", sqlite3.connect(\"UsedObjects.db\"))"
   ]
  },
  {
   "cell_type": "code",
   "execution_count": 3,
   "id": "periodic-identification",
   "metadata": {
    "execution": {
     "iopub.execute_input": "2021-08-18T23:30:08.141120Z",
     "iopub.status.busy": "2021-08-18T23:30:08.139110Z",
     "iopub.status.idle": "2021-08-18T23:30:08.158978Z",
     "shell.execute_reply": "2021-08-18T23:30:08.160123Z"
    },
    "papermill": {
     "duration": 0.065309,
     "end_time": "2021-08-18T23:30:08.160536",
     "exception": false,
     "start_time": "2021-08-18T23:30:08.095227",
     "status": "completed"
    },
    "tags": []
   },
   "outputs": [
    {
     "data": {
      "text/html": [
       "<div>\n",
       "<style scoped>\n",
       "    .dataframe tbody tr th:only-of-type {\n",
       "        vertical-align: middle;\n",
       "    }\n",
       "\n",
       "    .dataframe tbody tr th {\n",
       "        vertical-align: top;\n",
       "    }\n",
       "\n",
       "    .dataframe thead th {\n",
       "        text-align: right;\n",
       "    }\n",
       "</style>\n",
       "<table border=\"1\" class=\"dataframe\">\n",
       "  <thead>\n",
       "    <tr style=\"text-align: right;\">\n",
       "      <th></th>\n",
       "      <th>RECORD_TIME</th>\n",
       "    </tr>\n",
       "  </thead>\n",
       "  <tbody>\n",
       "    <tr>\n",
       "      <th>0</th>\n",
       "      <td>2021-08-19 01:30</td>\n",
       "    </tr>\n",
       "    <tr>\n",
       "      <th>1</th>\n",
       "      <td>2021-08-19 01:00</td>\n",
       "    </tr>\n",
       "  </tbody>\n",
       "</table>\n",
       "</div>"
      ],
      "text/plain": [
       "        RECORD_TIME\n",
       "0  2021-08-19 01:30\n",
       "1  2021-08-19 01:00"
      ]
     },
     "execution_count": 3,
     "metadata": {},
     "output_type": "execute_result"
    }
   ],
   "source": [
    "timestamps"
   ]
  },
  {
   "cell_type": "code",
   "execution_count": 4,
   "id": "alternate-victory",
   "metadata": {
    "execution": {
     "iopub.execute_input": "2021-08-18T23:30:08.214868Z",
     "iopub.status.busy": "2021-08-18T23:30:08.212542Z",
     "iopub.status.idle": "2021-08-18T23:30:08.332087Z",
     "shell.execute_reply": "2021-08-18T23:30:08.333358Z"
    },
    "papermill": {
     "duration": 0.149978,
     "end_time": "2021-08-18T23:30:08.333781",
     "exception": false,
     "start_time": "2021-08-18T23:30:08.183803",
     "status": "completed"
    },
    "tags": []
   },
   "outputs": [],
   "source": [
    "df = pd.read_sql(\"select * from EBAY_TOP_BERLIN where record_time in (select distinct record_time from EBAY_TOP_BERLIN order by record_time desc limit 2)\", sqlite3.connect(\"UsedObjects.db\"))"
   ]
  },
  {
   "cell_type": "code",
   "execution_count": 5,
   "id": "popular-active",
   "metadata": {
    "execution": {
     "iopub.execute_input": "2021-08-18T23:30:08.404747Z",
     "iopub.status.busy": "2021-08-18T23:30:08.393464Z",
     "iopub.status.idle": "2021-08-18T23:30:08.420199Z",
     "shell.execute_reply": "2021-08-18T23:30:08.421404Z"
    },
    "papermill": {
     "duration": 0.067926,
     "end_time": "2021-08-18T23:30:08.421797",
     "exception": false,
     "start_time": "2021-08-18T23:30:08.353871",
     "status": "completed"
    },
    "tags": []
   },
   "outputs": [],
   "source": [
    "df_pivot = df.pivot_table(index=\"PRODUCT\", columns = \"RECORD_TIME\", values = \"LISTING_COUNT\")"
   ]
  },
  {
   "cell_type": "code",
   "execution_count": 6,
   "id": "union-huntington",
   "metadata": {
    "execution": {
     "iopub.execute_input": "2021-08-18T23:30:08.480937Z",
     "iopub.status.busy": "2021-08-18T23:30:08.478511Z",
     "iopub.status.idle": "2021-08-18T23:30:08.484791Z",
     "shell.execute_reply": "2021-08-18T23:30:08.486339Z"
    },
    "papermill": {
     "duration": 0.042812,
     "end_time": "2021-08-18T23:30:08.486828",
     "exception": false,
     "start_time": "2021-08-18T23:30:08.444016",
     "status": "completed"
    },
    "tags": []
   },
   "outputs": [],
   "source": [
    "df_pivot.columns = [\"stamp_1\", \"stamp_2\"]\n",
    "df_pivot_diff = df_pivot.diff(axis=1)"
   ]
  },
  {
   "cell_type": "code",
   "execution_count": 7,
   "id": "fifth-motion",
   "metadata": {
    "execution": {
     "iopub.execute_input": "2021-08-18T23:30:08.542387Z",
     "iopub.status.busy": "2021-08-18T23:30:08.540021Z",
     "iopub.status.idle": "2021-08-18T23:30:10.045214Z",
     "shell.execute_reply": "2021-08-18T23:30:10.046834Z"
    },
    "papermill": {
     "duration": 1.538049,
     "end_time": "2021-08-18T23:30:10.047300",
     "exception": false,
     "start_time": "2021-08-18T23:30:08.509251",
     "status": "completed"
    },
    "tags": []
   },
   "outputs": [
    {
     "data": {
      "text/plain": [
       "<AxesSubplot:ylabel='PRODUCT'>"
      ]
     },
     "execution_count": 7,
     "metadata": {},
     "output_type": "execute_result"
    },
    {
     "data": {
      "image/png": "[encoded data removed]",
      "text/plain": [
       "<Figure size 432x288 with 1 Axes>"
      ]
     },
     "metadata": {
      "needs_background": "light"
     },
     "output_type": "display_data"
    }
   ],
   "source": [
    "df_pivot_diff.sort_values(\"stamp_2\", ascending = False)[\"stamp_2\"].head(10).plot.barh()"
   ]
  },
  {
   "cell_type": "code",
   "execution_count": null,
   "id": "extra-executive",
   "metadata": {
    "papermill": {
     "duration": 0.022208,
     "end_time": "2021-08-18T23:30:10.094522",
     "exception": false,
     "start_time": "2021-08-18T23:30:10.072314",
     "status": "completed"
    },
    "tags": []
   },
   "outputs": [],
   "source": []
  }
 ],
 "metadata": {
  "kernelspec": {
   "display_name": "Python 3",
   "language": "python",
   "name": "python3"
  },
  "language_info": {
   "codemirror_mode": {
    "name": "ipython",
    "version": 3
   },
   "file_extension": ".py",
   "mimetype": "text/x-python",
   "name": "python",
   "nbconvert_exporter": "python",
   "pygments_lexer": "ipython3",
   "version": "3.9.5"
  },
  "papermill": {
   "default_parameters": {},
   "duration": 6.835616,
   "end_time": "2021-08-18T23:30:11.509126",
   "environment_variables": {},
   "exception": null,
   "input_path": "eBay_Overview.ipynb",
   "output_path": "eBay_Overview.ipynb",
   "parameters": {},
   "start_time": "2021-08-18T23:30:04.673510",
   "version": "2.3.3"
  }
 },
 "nbformat": 4,
 "nbformat_minor": 5
}