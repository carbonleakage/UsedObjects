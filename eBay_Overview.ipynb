{
 "cells": [
  {
   "cell_type": "code",
   "execution_count": 1,
   "id": "reverse-picking",
   "metadata": {
    "execution": {
     "iopub.execute_input": "2021-12-21T15:00:07.751243Z",
     "iopub.status.busy": "2021-12-21T15:00:07.748866Z",
     "iopub.status.idle": "2021-12-21T15:00:08.723306Z",
     "shell.execute_reply": "2021-12-21T15:00:08.725613Z"
    },
    "papermill": {
     "duration": 1.024557,
     "end_time": "2021-12-21T15:00:08.726362",
     "exception": false,
     "start_time": "2021-12-21T15:00:07.701805",
     "status": "completed"
    },
    "tags": []
   },
   "outputs": [],
   "source": [
    "import pandas as pd\n",
    "import sqlite3"
   ]
  },
  {
   "cell_type": "code",
   "execution_count": 2,
   "id": "innovative-syndrome",
   "metadata": {
    "execution": {
     "iopub.execute_input": "2021-12-21T15:00:08.790155Z",
     "iopub.status.busy": "2021-12-21T15:00:08.787651Z",
     "iopub.status.idle": "2021-12-21T15:00:09.952137Z",
     "shell.execute_reply": "2021-12-21T15:00:09.954212Z"
    },
    "papermill": {
     "duration": 1.198418,
     "end_time": "2021-12-21T15:00:09.954726",
     "exception": false,
     "start_time": "2021-12-21T15:00:08.756308",
     "status": "completed"
    },
    "tags": []
   },
   "outputs": [],
   "source": [
    "timestamps = pd.read_sql(\"select distinct record_time from EBAY_TOP_BERLIN order by record_time desc limit 2\", sqlite3.connect(\"UsedObjects.db\"))"
   ]
  },
  {
   "cell_type": "code",
   "execution_count": 3,
   "id": "periodic-identification",
   "metadata": {
    "execution": {
     "iopub.execute_input": "2021-12-21T15:00:10.030142Z",
     "iopub.status.busy": "2021-12-21T15:00:10.023815Z",
     "iopub.status.idle": "2021-12-21T15:00:10.049041Z",
     "shell.execute_reply": "2021-12-21T15:00:10.047183Z"
    },
    "papermill": {
     "duration": 0.074371,
     "end_time": "2021-12-21T15:00:10.049503",
     "exception": false,
     "start_time": "2021-12-21T15:00:09.975132",
     "status": "completed"
    },
    "tags": []
   },
   "outputs": [
    {
     "data": {
      "text/html": [
       "<div>\n",
       "<style scoped>\n",
       "    .dataframe tbody tr th:only-of-type {\n",
       "        vertical-align: middle;\n",
       "    }\n",
       "\n",
       "    .dataframe tbody tr th {\n",
       "        vertical-align: top;\n",
       "    }\n",
       "\n",
       "    .dataframe thead th {\n",
       "        text-align: right;\n",
       "    }\n",
       "</style>\n",
       "<table border=\"1\" class=\"dataframe\">\n",
       "  <thead>\n",
       "    <tr style=\"text-align: right;\">\n",
       "      <th></th>\n",
       "      <th>RECORD_TIME</th>\n",
       "    </tr>\n",
       "  </thead>\n",
       "  <tbody>\n",
       "    <tr>\n",
       "      <th>0</th>\n",
       "      <td>2021-12-21 16:00</td>\n",
       "    </tr>\n",
       "    <tr>\n",
       "      <th>1</th>\n",
       "      <td>2021-12-21 15:30</td>\n",
       "    </tr>\n",
       "  </tbody>\n",
       "</table>\n",
       "</div>"
      ],
      "text/plain": [
       "        RECORD_TIME\n",
       "0  2021-12-21 16:00\n",
       "1  2021-12-21 15:30"
      ]
     },
     "execution_count": 3,
     "metadata": {},
     "output_type": "execute_result"
    }
   ],
   "source": [
    "timestamps"
   ]
  },
  {
   "cell_type": "code",
   "execution_count": 4,
   "id": "alternate-victory",
   "metadata": {
    "execution": {
     "iopub.execute_input": "2021-12-21T15:00:10.106337Z",
     "iopub.status.busy": "2021-12-21T15:00:10.103878Z",
     "iopub.status.idle": "2021-12-21T15:00:11.760747Z",
     "shell.execute_reply": "2021-12-21T15:00:11.762145Z"
    },
    "papermill": {
     "duration": 1.690247,
     "end_time": "2021-12-21T15:00:11.762626",
     "exception": false,
     "start_time": "2021-12-21T15:00:10.072379",
     "status": "completed"
    },
    "tags": []
   },
   "outputs": [],
   "source": [
    "df = pd.read_sql(\"select * from EBAY_TOP_BERLIN where record_time in (select distinct record_time from EBAY_TOP_BERLIN order by record_time desc limit 2)\", sqlite3.connect(\"UsedObjects.db\"))"
   ]
  },
  {
   "cell_type": "code",
   "execution_count": 5,
   "id": "popular-active",
   "metadata": {
    "execution": {
     "iopub.execute_input": "2021-12-21T15:00:11.827798Z",
     "iopub.status.busy": "2021-12-21T15:00:11.825443Z",
     "iopub.status.idle": "2021-12-21T15:00:11.859671Z",
     "shell.execute_reply": "2021-12-21T15:00:11.861201Z"
    },
    "papermill": {
     "duration": 0.077706,
     "end_time": "2021-12-21T15:00:11.861698",
     "exception": false,
     "start_time": "2021-12-21T15:00:11.783992",
     "status": "completed"
    },
    "tags": []
   },
   "outputs": [],
   "source": [
    "df_pivot = df.pivot_table(index=\"PRODUCT\", columns = \"RECORD_TIME\", values = \"LISTING_COUNT\")"
   ]
  },
  {
   "cell_type": "code",
   "execution_count": 6,
   "id": "union-huntington",
   "metadata": {
    "execution": {
     "iopub.execute_input": "2021-12-21T15:00:11.923389Z",
     "iopub.status.busy": "2021-12-21T15:00:11.921176Z",
     "iopub.status.idle": "2021-12-21T15:00:11.928369Z",
     "shell.execute_reply": "2021-12-21T15:00:11.926822Z"
    },
    "papermill": {
     "duration": 0.044311,
     "end_time": "2021-12-21T15:00:11.928882",
     "exception": false,
     "start_time": "2021-12-21T15:00:11.884571",
     "status": "completed"
    },
    "tags": []
   },
   "outputs": [],
   "source": [
    "df_pivot.columns = [\"stamp_1\", \"stamp_2\"]\n",
    "df_pivot_diff = df_pivot.diff(axis=1)"
   ]
  },
  {
   "cell_type": "code",
   "execution_count": 7,
   "id": "fifth-motion",
   "metadata": {
    "execution": {
     "iopub.execute_input": "2021-12-21T15:00:11.984941Z",
     "iopub.status.busy": "2021-12-21T15:00:11.982414Z",
     "iopub.status.idle": "2021-12-21T15:00:13.939930Z",
     "shell.execute_reply": "2021-12-21T15:00:13.941484Z"
    },
    "papermill": {
     "duration": 1.993084,
     "end_time": "2021-12-21T15:00:13.941976",
     "exception": false,
     "start_time": "2021-12-21T15:00:11.948892",
     "status": "completed"
    },
    "tags": []
   },
   "outputs": [
    {
     "data": {
      "text/plain": [
       "<AxesSubplot:ylabel='PRODUCT'>"
      ]
     },
     "execution_count": 7,
     "metadata": {},
     "output_type": "execute_result"
    },
    {
     "data": {
      "image/png": "[encoded data removed]",
      "text/plain": [
       "<Figure size 432x288 with 1 Axes>"
      ]
     },
     "metadata": {
      "needs_background": "light"
     },
     "output_type": "display_data"
    }
   ],
   "source": [
    "df_pivot_diff.sort_values(\"stamp_2\", ascending = False)[\"stamp_2\"].head(10).plot.barh()"
   ]
  },
  {
   "cell_type": "code",
   "execution_count": null,
   "id": "extra-executive",
   "metadata": {
    "papermill": {
     "duration": 0.026095,
     "end_time": "2021-12-21T15:00:13.999341",
     "exception": false,
     "start_time": "2021-12-21T15:00:13.973246",
     "status": "completed"
    },
    "tags": []
   },
   "outputs": [],
   "source": []
  }
 ],
 "metadata": {
  "kernelspec": {
   "display_name": "Python 3",
   "language": "python",
   "name": "python3"
  },
  "language_info": {
   "codemirror_mode": {
    "name": "ipython",
    "version": 3
   },
   "file_extension": ".py",
   "mimetype": "text/x-python",
   "name": "python",
   "nbconvert_exporter": "python",
   "pygments_lexer": "ipython3",
   "version": "3.9.5"
  },
  "papermill": {
   "default_parameters": {},
   "duration": 9.6956,
   "end_time": "2021-12-21T15:00:14.643854",
   "environment_variables": {},
   "exception": null,
   "input_path": "eBay_Overview.ipynb",
   "output_path": "eBay_Overview.ipynb",
   "parameters": {},
   "start_time": "2021-12-21T15:00:04.948254",
   "version": "2.3.3"
  }
 },
 "nbformat": 4,
 "nbformat_minor": 5
}