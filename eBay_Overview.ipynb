{
 "cells": [
  {
   "cell_type": "code",
   "execution_count": 1,
   "id": "reverse-picking",
   "metadata": {
    "execution": {
     "iopub.execute_input": "2021-09-21T11:30:07.432762Z",
     "iopub.status.busy": "2021-09-21T11:30:07.430775Z",
     "iopub.status.idle": "2021-09-21T11:30:08.233667Z",
     "shell.execute_reply": "2021-09-21T11:30:08.235056Z"
    },
    "papermill": {
     "duration": 0.855066,
     "end_time": "2021-09-21T11:30:08.235713",
     "exception": false,
     "start_time": "2021-09-21T11:30:07.380647",
     "status": "completed"
    },
    "tags": []
   },
   "outputs": [],
   "source": [
    "import pandas as pd\n",
    "import sqlite3"
   ]
  },
  {
   "cell_type": "code",
   "execution_count": 2,
   "id": "innovative-syndrome",
   "metadata": {
    "execution": {
     "iopub.execute_input": "2021-09-21T11:30:08.285893Z",
     "iopub.status.busy": "2021-09-21T11:30:08.283769Z",
     "iopub.status.idle": "2021-09-21T11:30:08.623308Z",
     "shell.execute_reply": "2021-09-21T11:30:08.624542Z"
    },
    "papermill": {
     "duration": 0.36916,
     "end_time": "2021-09-21T11:30:08.624940",
     "exception": false,
     "start_time": "2021-09-21T11:30:08.255780",
     "status": "completed"
    },
    "tags": []
   },
   "outputs": [],
   "source": [
    "timestamps = pd.read_sql(\"select distinct record_time from EBAY_TOP_BERLIN order by record_time desc limit 2\", sqlite3.connect(\"UsedObjects.db\"))"
   ]
  },
  {
   "cell_type": "code",
   "execution_count": 3,
   "id": "periodic-identification",
   "metadata": {
    "execution": {
     "iopub.execute_input": "2021-09-21T11:30:08.693224Z",
     "iopub.status.busy": "2021-09-21T11:30:08.691198Z",
     "iopub.status.idle": "2021-09-21T11:30:08.711893Z",
     "shell.execute_reply": "2021-09-21T11:30:08.713219Z"
    },
    "papermill": {
     "duration": 0.066337,
     "end_time": "2021-09-21T11:30:08.713633",
     "exception": false,
     "start_time": "2021-09-21T11:30:08.647296",
     "status": "completed"
    },
    "tags": []
   },
   "outputs": [
    {
     "data": {
      "text/html": [
       "<div>\n",
       "<style scoped>\n",
       "    .dataframe tbody tr th:only-of-type {\n",
       "        vertical-align: middle;\n",
       "    }\n",
       "\n",
       "    .dataframe tbody tr th {\n",
       "        vertical-align: top;\n",
       "    }\n",
       "\n",
       "    .dataframe thead th {\n",
       "        text-align: right;\n",
       "    }\n",
       "</style>\n",
       "<table border=\"1\" class=\"dataframe\">\n",
       "  <thead>\n",
       "    <tr style=\"text-align: right;\">\n",
       "      <th></th>\n",
       "      <th>RECORD_TIME</th>\n",
       "    </tr>\n",
       "  </thead>\n",
       "  <tbody>\n",
       "    <tr>\n",
       "      <th>0</th>\n",
       "      <td>2021-09-21 13:30</td>\n",
       "    </tr>\n",
       "    <tr>\n",
       "      <th>1</th>\n",
       "      <td>2021-09-21 13:00</td>\n",
       "    </tr>\n",
       "  </tbody>\n",
       "</table>\n",
       "</div>"
      ],
      "text/plain": [
       "        RECORD_TIME\n",
       "0  2021-09-21 13:30\n",
       "1  2021-09-21 13:00"
      ]
     },
     "execution_count": 3,
     "metadata": {},
     "output_type": "execute_result"
    }
   ],
   "source": [
    "timestamps"
   ]
  },
  {
   "cell_type": "code",
   "execution_count": 4,
   "id": "alternate-victory",
   "metadata": {
    "execution": {
     "iopub.execute_input": "2021-09-21T11:30:08.765051Z",
     "iopub.status.busy": "2021-09-21T11:30:08.762866Z",
     "iopub.status.idle": "2021-09-21T11:30:09.261451Z",
     "shell.execute_reply": "2021-09-21T11:30:09.262668Z"
    },
    "papermill": {
     "duration": 0.52856,
     "end_time": "2021-09-21T11:30:09.263148",
     "exception": false,
     "start_time": "2021-09-21T11:30:08.734588",
     "status": "completed"
    },
    "tags": []
   },
   "outputs": [],
   "source": [
    "df = pd.read_sql(\"select * from EBAY_TOP_BERLIN where record_time in (select distinct record_time from EBAY_TOP_BERLIN order by record_time desc limit 2)\", sqlite3.connect(\"UsedObjects.db\"))"
   ]
  },
  {
   "cell_type": "code",
   "execution_count": 5,
   "id": "popular-active",
   "metadata": {
    "execution": {
     "iopub.execute_input": "2021-09-21T11:30:09.337563Z",
     "iopub.status.busy": "2021-09-21T11:30:09.329097Z",
     "iopub.status.idle": "2021-09-21T11:30:09.357399Z",
     "shell.execute_reply": "2021-09-21T11:30:09.358620Z"
    },
    "papermill": {
     "duration": 0.070396,
     "end_time": "2021-09-21T11:30:09.359196",
     "exception": false,
     "start_time": "2021-09-21T11:30:09.288800",
     "status": "completed"
    },
    "tags": []
   },
   "outputs": [],
   "source": [
    "df_pivot = df.pivot_table(index=\"PRODUCT\", columns = \"RECORD_TIME\", values = \"LISTING_COUNT\")"
   ]
  },
  {
   "cell_type": "code",
   "execution_count": 6,
   "id": "union-huntington",
   "metadata": {
    "execution": {
     "iopub.execute_input": "2021-09-21T11:30:09.418089Z",
     "iopub.status.busy": "2021-09-21T11:30:09.415622Z",
     "iopub.status.idle": "2021-09-21T11:30:09.421393Z",
     "shell.execute_reply": "2021-09-21T11:30:09.422681Z"
    },
    "papermill": {
     "duration": 0.041921,
     "end_time": "2021-09-21T11:30:09.423140",
     "exception": false,
     "start_time": "2021-09-21T11:30:09.381219",
     "status": "completed"
    },
    "tags": []
   },
   "outputs": [],
   "source": [
    "df_pivot.columns = [\"stamp_1\", \"stamp_2\"]\n",
    "df_pivot_diff = df_pivot.diff(axis=1)"
   ]
  },
  {
   "cell_type": "code",
   "execution_count": 7,
   "id": "fifth-motion",
   "metadata": {
    "execution": {
     "iopub.execute_input": "2021-09-21T11:30:09.477520Z",
     "iopub.status.busy": "2021-09-21T11:30:09.475200Z",
     "iopub.status.idle": "2021-09-21T11:30:10.980235Z",
     "shell.execute_reply": "2021-09-21T11:30:10.981522Z"
    },
    "papermill": {
     "duration": 1.538254,
     "end_time": "2021-09-21T11:30:10.981940",
     "exception": false,
     "start_time": "2021-09-21T11:30:09.443686",
     "status": "completed"
    },
    "tags": []
   },
   "outputs": [
    {
     "data": {
      "text/plain": [
       "<AxesSubplot:ylabel='PRODUCT'>"
      ]
     },
     "execution_count": 7,
     "metadata": {},
     "output_type": "execute_result"
    },
    {
     "data": {
      "image/png": "[encoded data removed]",
      "text/plain": [
       "<Figure size 432x288 with 1 Axes>"
      ]
     },
     "metadata": {
      "needs_background": "light"
     },
     "output_type": "display_data"
    }
   ],
   "source": [
    "df_pivot_diff.sort_values(\"stamp_2\", ascending = False)[\"stamp_2\"].head(10).plot.barh()"
   ]
  },
  {
   "cell_type": "code",
   "execution_count": null,
   "id": "extra-executive",
   "metadata": {
    "papermill": {
     "duration": 0.022016,
     "end_time": "2021-09-21T11:30:11.029204",
     "exception": false,
     "start_time": "2021-09-21T11:30:11.007188",
     "status": "completed"
    },
    "tags": []
   },
   "outputs": [],
   "source": []
  }
 ],
 "metadata": {
  "kernelspec": {
   "display_name": "Python 3",
   "language": "python",
   "name": "python3"
  },
  "language_info": {
   "codemirror_mode": {
    "name": "ipython",
    "version": 3
   },
   "file_extension": ".py",
   "mimetype": "text/x-python",
   "name": "python",
   "nbconvert_exporter": "python",
   "pygments_lexer": "ipython3",
   "version": "3.9.5"
  },
  "papermill": {
   "default_parameters": {},
   "duration": 6.69387,
   "end_time": "2021-09-21T11:30:11.672271",
   "environment_variables": {},
   "exception": null,
   "input_path": "eBay_Overview.ipynb",
   "output_path": "eBay_Overview.ipynb",
   "parameters": {},
   "start_time": "2021-09-21T11:30:04.978401",
   "version": "2.3.3"
  }
 },
 "nbformat": 4,
 "nbformat_minor": 5
}