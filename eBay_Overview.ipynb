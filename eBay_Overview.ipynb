{
 "cells": [
  {
   "cell_type": "code",
   "execution_count": 1,
   "id": "reverse-picking",
   "metadata": {
    "execution": {
     "iopub.execute_input": "2021-12-19T15:00:07.186387Z",
     "iopub.status.busy": "2021-12-19T15:00:07.183604Z",
     "iopub.status.idle": "2021-12-19T15:00:08.105658Z",
     "shell.execute_reply": "2021-12-19T15:00:08.107247Z"
    },
    "papermill": {
     "duration": 0.974307,
     "end_time": "2021-12-19T15:00:08.107965",
     "exception": false,
     "start_time": "2021-12-19T15:00:07.133658",
     "status": "completed"
    },
    "tags": []
   },
   "outputs": [],
   "source": [
    "import pandas as pd\n",
    "import sqlite3"
   ]
  },
  {
   "cell_type": "code",
   "execution_count": 2,
   "id": "innovative-syndrome",
   "metadata": {
    "execution": {
     "iopub.execute_input": "2021-12-19T15:00:08.172145Z",
     "iopub.status.busy": "2021-12-19T15:00:08.169896Z",
     "iopub.status.idle": "2021-12-19T15:00:09.322400Z",
     "shell.execute_reply": "2021-12-19T15:00:09.323632Z"
    },
    "papermill": {
     "duration": 1.187378,
     "end_time": "2021-12-19T15:00:09.324037",
     "exception": false,
     "start_time": "2021-12-19T15:00:08.136659",
     "status": "completed"
    },
    "tags": []
   },
   "outputs": [],
   "source": [
    "timestamps = pd.read_sql(\"select distinct record_time from EBAY_TOP_BERLIN order by record_time desc limit 2\", sqlite3.connect(\"UsedObjects.db\"))"
   ]
  },
  {
   "cell_type": "code",
   "execution_count": 3,
   "id": "periodic-identification",
   "metadata": {
    "execution": {
     "iopub.execute_input": "2021-12-19T15:00:09.390011Z",
     "iopub.status.busy": "2021-12-19T15:00:09.387810Z",
     "iopub.status.idle": "2021-12-19T15:00:09.407999Z",
     "shell.execute_reply": "2021-12-19T15:00:09.409216Z"
    },
    "papermill": {
     "duration": 0.065507,
     "end_time": "2021-12-19T15:00:09.409647",
     "exception": false,
     "start_time": "2021-12-19T15:00:09.344140",
     "status": "completed"
    },
    "tags": []
   },
   "outputs": [
    {
     "data": {
      "text/html": [
       "<div>\n",
       "<style scoped>\n",
       "    .dataframe tbody tr th:only-of-type {\n",
       "        vertical-align: middle;\n",
       "    }\n",
       "\n",
       "    .dataframe tbody tr th {\n",
       "        vertical-align: top;\n",
       "    }\n",
       "\n",
       "    .dataframe thead th {\n",
       "        text-align: right;\n",
       "    }\n",
       "</style>\n",
       "<table border=\"1\" class=\"dataframe\">\n",
       "  <thead>\n",
       "    <tr style=\"text-align: right;\">\n",
       "      <th></th>\n",
       "      <th>RECORD_TIME</th>\n",
       "    </tr>\n",
       "  </thead>\n",
       "  <tbody>\n",
       "    <tr>\n",
       "      <th>0</th>\n",
       "      <td>2021-12-19 16:00</td>\n",
       "    </tr>\n",
       "    <tr>\n",
       "      <th>1</th>\n",
       "      <td>2021-12-19 15:30</td>\n",
       "    </tr>\n",
       "  </tbody>\n",
       "</table>\n",
       "</div>"
      ],
      "text/plain": [
       "        RECORD_TIME\n",
       "0  2021-12-19 16:00\n",
       "1  2021-12-19 15:30"
      ]
     },
     "execution_count": 3,
     "metadata": {},
     "output_type": "execute_result"
    }
   ],
   "source": [
    "timestamps"
   ]
  },
  {
   "cell_type": "code",
   "execution_count": 4,
   "id": "alternate-victory",
   "metadata": {
    "execution": {
     "iopub.execute_input": "2021-12-19T15:00:09.465171Z",
     "iopub.status.busy": "2021-12-19T15:00:09.462744Z",
     "iopub.status.idle": "2021-12-19T15:00:11.149909Z",
     "shell.execute_reply": "2021-12-19T15:00:11.152188Z"
    },
    "papermill": {
     "duration": 1.720251,
     "end_time": "2021-12-19T15:00:11.152659",
     "exception": false,
     "start_time": "2021-12-19T15:00:09.432408",
     "status": "completed"
    },
    "tags": []
   },
   "outputs": [],
   "source": [
    "df = pd.read_sql(\"select * from EBAY_TOP_BERLIN where record_time in (select distinct record_time from EBAY_TOP_BERLIN order by record_time desc limit 2)\", sqlite3.connect(\"UsedObjects.db\"))"
   ]
  },
  {
   "cell_type": "code",
   "execution_count": 5,
   "id": "popular-active",
   "metadata": {
    "execution": {
     "iopub.execute_input": "2021-12-19T15:00:11.222282Z",
     "iopub.status.busy": "2021-12-19T15:00:11.215495Z",
     "iopub.status.idle": "2021-12-19T15:00:11.250112Z",
     "shell.execute_reply": "2021-12-19T15:00:11.251506Z"
    },
    "papermill": {
     "duration": 0.078355,
     "end_time": "2021-12-19T15:00:11.251988",
     "exception": false,
     "start_time": "2021-12-19T15:00:11.173633",
     "status": "completed"
    },
    "tags": []
   },
   "outputs": [],
   "source": [
    "df_pivot = df.pivot_table(index=\"PRODUCT\", columns = \"RECORD_TIME\", values = \"LISTING_COUNT\")"
   ]
  },
  {
   "cell_type": "code",
   "execution_count": 6,
   "id": "union-huntington",
   "metadata": {
    "execution": {
     "iopub.execute_input": "2021-12-19T15:00:11.311429Z",
     "iopub.status.busy": "2021-12-19T15:00:11.309144Z",
     "iopub.status.idle": "2021-12-19T15:00:11.314396Z",
     "shell.execute_reply": "2021-12-19T15:00:11.315856Z"
    },
    "papermill": {
     "duration": 0.043979,
     "end_time": "2021-12-19T15:00:11.316321",
     "exception": false,
     "start_time": "2021-12-19T15:00:11.272342",
     "status": "completed"
    },
    "tags": []
   },
   "outputs": [],
   "source": [
    "df_pivot.columns = [\"stamp_1\", \"stamp_2\"]\n",
    "df_pivot_diff = df_pivot.diff(axis=1)"
   ]
  },
  {
   "cell_type": "code",
   "execution_count": 7,
   "id": "fifth-motion",
   "metadata": {
    "execution": {
     "iopub.execute_input": "2021-12-19T15:00:11.375425Z",
     "iopub.status.busy": "2021-12-19T15:00:11.372840Z",
     "iopub.status.idle": "2021-12-19T15:00:13.373243Z",
     "shell.execute_reply": "2021-12-19T15:00:13.374985Z"
    },
    "papermill": {
     "duration": 2.038236,
     "end_time": "2021-12-19T15:00:13.375496",
     "exception": false,
     "start_time": "2021-12-19T15:00:11.337260",
     "status": "completed"
    },
    "tags": []
   },
   "outputs": [
    {
     "data": {
      "text/plain": [
       "<AxesSubplot:ylabel='PRODUCT'>"
      ]
     },
     "execution_count": 7,
     "metadata": {},
     "output_type": "execute_result"
    },
    {
     "data": {
      "image/png": "[encoded data removed]",
      "text/plain": [
       "<Figure size 432x288 with 1 Axes>"
      ]
     },
     "metadata": {
      "needs_background": "light"
     },
     "output_type": "display_data"
    }
   ],
   "source": [
    "df_pivot_diff.sort_values(\"stamp_2\", ascending = False)[\"stamp_2\"].head(10).plot.barh()"
   ]
  },
  {
   "cell_type": "code",
   "execution_count": null,
   "id": "extra-executive",
   "metadata": {
    "papermill": {
     "duration": 0.022373,
     "end_time": "2021-12-19T15:00:13.423285",
     "exception": false,
     "start_time": "2021-12-19T15:00:13.400912",
     "status": "completed"
    },
    "tags": []
   },
   "outputs": [],
   "source": []
  }
 ],
 "metadata": {
  "kernelspec": {
   "display_name": "Python 3",
   "language": "python",
   "name": "python3"
  },
  "language_info": {
   "codemirror_mode": {
    "name": "ipython",
    "version": 3
   },
   "file_extension": ".py",
   "mimetype": "text/x-python",
   "name": "python",
   "nbconvert_exporter": "python",
   "pygments_lexer": "ipython3",
   "version": "3.9.5"
  },
  "papermill": {
   "default_parameters": {},
   "duration": 9.656062,
   "end_time": "2021-12-19T15:00:14.065776",
   "environment_variables": {},
   "exception": null,
   "input_path": "eBay_Overview.ipynb",
   "output_path": "eBay_Overview.ipynb",
   "parameters": {},
   "start_time": "2021-12-19T15:00:04.409714",
   "version": "2.3.3"
  }
 },
 "nbformat": 4,
 "nbformat_minor": 5
}