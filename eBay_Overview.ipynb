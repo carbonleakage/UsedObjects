{
 "cells": [
  {
   "cell_type": "code",
   "execution_count": 1,
   "id": "reverse-picking",
   "metadata": {
    "execution": {
     "iopub.execute_input": "2021-08-09T10:00:04.205860Z",
     "iopub.status.busy": "2021-08-09T10:00:04.205109Z",
     "iopub.status.idle": "2021-08-09T10:00:04.823856Z",
     "shell.execute_reply": "2021-08-09T10:00:04.822411Z"
    },
    "papermill": {
     "duration": 0.637546,
     "end_time": "2021-08-09T10:00:04.824188",
     "exception": false,
     "start_time": "2021-08-09T10:00:04.186642",
     "status": "completed"
    },
    "tags": []
   },
   "outputs": [],
   "source": [
    "import pandas as pd\n",
    "import sqlite3"
   ]
  },
  {
   "cell_type": "code",
   "execution_count": 2,
   "id": "innovative-syndrome",
   "metadata": {
    "execution": {
     "iopub.execute_input": "2021-08-09T10:00:04.853484Z",
     "iopub.status.busy": "2021-08-09T10:00:04.852719Z",
     "iopub.status.idle": "2021-08-09T10:00:05.035933Z",
     "shell.execute_reply": "2021-08-09T10:00:05.035317Z"
    },
    "papermill": {
     "duration": 0.199205,
     "end_time": "2021-08-09T10:00:05.036095",
     "exception": false,
     "start_time": "2021-08-09T10:00:04.836890",
     "status": "completed"
    },
    "tags": []
   },
   "outputs": [],
   "source": [
    "timestamps = pd.read_sql(\"select distinct record_time from EBAY_TOP_BERLIN order by record_time desc limit 2\", sqlite3.connect(\"UsedObjects.db\"))"
   ]
  },
  {
   "cell_type": "code",
   "execution_count": 3,
   "id": "periodic-identification",
   "metadata": {
    "execution": {
     "iopub.execute_input": "2021-08-09T10:00:05.069021Z",
     "iopub.status.busy": "2021-08-09T10:00:05.068230Z",
     "iopub.status.idle": "2021-08-09T10:00:05.085820Z",
     "shell.execute_reply": "2021-08-09T10:00:05.084778Z"
    },
    "papermill": {
     "duration": 0.04077,
     "end_time": "2021-08-09T10:00:05.086036",
     "exception": false,
     "start_time": "2021-08-09T10:00:05.045266",
     "status": "completed"
    },
    "tags": []
   },
   "outputs": [
    {
     "data": {
      "text/html": [
       "<div>\n",
       "<style scoped>\n",
       "    .dataframe tbody tr th:only-of-type {\n",
       "        vertical-align: middle;\n",
       "    }\n",
       "\n",
       "    .dataframe tbody tr th {\n",
       "        vertical-align: top;\n",
       "    }\n",
       "\n",
       "    .dataframe thead th {\n",
       "        text-align: right;\n",
       "    }\n",
       "</style>\n",
       "<table border=\"1\" class=\"dataframe\">\n",
       "  <thead>\n",
       "    <tr style=\"text-align: right;\">\n",
       "      <th></th>\n",
       "      <th>RECORD_TIME</th>\n",
       "    </tr>\n",
       "  </thead>\n",
       "  <tbody>\n",
       "    <tr>\n",
       "      <th>0</th>\n",
       "      <td>2021-08-09 12:00</td>\n",
       "    </tr>\n",
       "    <tr>\n",
       "      <th>1</th>\n",
       "      <td>2021-08-09 11:30</td>\n",
       "    </tr>\n",
       "  </tbody>\n",
       "</table>\n",
       "</div>"
      ],
      "text/plain": [
       "        RECORD_TIME\n",
       "0  2021-08-09 12:00\n",
       "1  2021-08-09 11:30"
      ]
     },
     "execution_count": 3,
     "metadata": {},
     "output_type": "execute_result"
    }
   ],
   "source": [
    "timestamps"
   ]
  },
  {
   "cell_type": "code",
   "execution_count": 4,
   "id": "alternate-victory",
   "metadata": {
    "execution": {
     "iopub.execute_input": "2021-08-09T10:00:05.108961Z",
     "iopub.status.busy": "2021-08-09T10:00:05.108205Z",
     "iopub.status.idle": "2021-08-09T10:00:05.117698Z",
     "shell.execute_reply": "2021-08-09T10:00:05.118298Z"
    },
    "papermill": {
     "duration": 0.023627,
     "end_time": "2021-08-09T10:00:05.118517",
     "exception": false,
     "start_time": "2021-08-09T10:00:05.094890",
     "status": "completed"
    },
    "tags": []
   },
   "outputs": [],
   "source": [
    "df = pd.read_sql(\"select * from EBAY_TOP_BERLIN where record_time in (select distinct record_time from EBAY_TOP_BERLIN order by record_time desc limit 2)\", sqlite3.connect(\"UsedObjects.db\"))"
   ]
  },
  {
   "cell_type": "code",
   "execution_count": 5,
   "id": "popular-active",
   "metadata": {
    "execution": {
     "iopub.execute_input": "2021-08-09T10:00:05.152905Z",
     "iopub.status.busy": "2021-08-09T10:00:05.152128Z",
     "iopub.status.idle": "2021-08-09T10:00:05.170499Z",
     "shell.execute_reply": "2021-08-09T10:00:05.169667Z"
    },
    "papermill": {
     "duration": 0.039239,
     "end_time": "2021-08-09T10:00:05.170739",
     "exception": false,
     "start_time": "2021-08-09T10:00:05.131500",
     "status": "completed"
    },
    "tags": []
   },
   "outputs": [],
   "source": [
    "df_pivot = df.pivot_table(index=\"PRODUCT\", columns = \"RECORD_TIME\", values = \"LISTING_COUNT\")"
   ]
  },
  {
   "cell_type": "code",
   "execution_count": 6,
   "id": "union-huntington",
   "metadata": {
    "execution": {
     "iopub.execute_input": "2021-08-09T10:00:05.195289Z",
     "iopub.status.busy": "2021-08-09T10:00:05.194577Z",
     "iopub.status.idle": "2021-08-09T10:00:05.202512Z",
     "shell.execute_reply": "2021-08-09T10:00:05.201782Z"
    },
    "papermill": {
     "duration": 0.023088,
     "end_time": "2021-08-09T10:00:05.202675",
     "exception": false,
     "start_time": "2021-08-09T10:00:05.179587",
     "status": "completed"
    },
    "tags": []
   },
   "outputs": [],
   "source": [
    "df_pivot.columns = [\"stamp_1\", \"stamp_2\"]\n",
    "df_pivot_diff = df_pivot.diff(axis=1)"
   ]
  },
  {
   "cell_type": "code",
   "execution_count": 7,
   "id": "fifth-motion",
   "metadata": {
    "execution": {
     "iopub.execute_input": "2021-08-09T10:00:05.232079Z",
     "iopub.status.busy": "2021-08-09T10:00:05.231329Z",
     "iopub.status.idle": "2021-08-09T10:00:05.912401Z",
     "shell.execute_reply": "2021-08-09T10:00:05.912969Z"
    },
    "papermill": {
     "duration": 0.702026,
     "end_time": "2021-08-09T10:00:05.913148",
     "exception": false,
     "start_time": "2021-08-09T10:00:05.211122",
     "status": "completed"
    },
    "tags": []
   },
   "outputs": [
    {
     "data": {
      "text/plain": [
       "<AxesSubplot:ylabel='PRODUCT'>"
      ]
     },
     "execution_count": 7,
     "metadata": {},
     "output_type": "execute_result"
    },
    {
     "data": {
      "image/png": "[encoded data removed]",
      "text/plain": [
       "<Figure size 432x288 with 1 Axes>"
      ]
     },
     "metadata": {
      "needs_background": "light"
     },
     "output_type": "display_data"
    }
   ],
   "source": [
    "df_pivot_diff.sort_values(\"stamp_2\", ascending = False)[\"stamp_2\"].head(10).plot.barh()"
   ]
  },
  {
   "cell_type": "code",
   "execution_count": null,
   "id": "extra-executive",
   "metadata": {
    "papermill": {
     "duration": 0.009529,
     "end_time": "2021-08-09T10:00:05.934011",
     "exception": false,
     "start_time": "2021-08-09T10:00:05.924482",
     "status": "completed"
    },
    "tags": []
   },
   "outputs": [],
   "source": []
  }
 ],
 "metadata": {
  "kernelspec": {
   "display_name": "Python 3",
   "language": "python",
   "name": "python3"
  },
  "language_info": {
   "codemirror_mode": {
    "name": "ipython",
    "version": 3
   },
   "file_extension": ".py",
   "mimetype": "text/x-python",
   "name": "python",
   "nbconvert_exporter": "python",
   "pygments_lexer": "ipython3",
   "version": "3.8.8"
  },
  "papermill": {
   "default_parameters": {},
   "duration": 4.99657,
   "end_time": "2021-08-09T10:00:07.553769",
   "environment_variables": {},
   "exception": null,
   "input_path": "/Users/saravananshanmugam/Carbonleakage_Git/UsedObjects/eBay_Overview.ipynb",
   "output_path": "/Users/saravananshanmugam/Carbonleakage_Git/UsedObjects/eBay_Overview.ipynb",
   "parameters": {},
   "start_time": "2021-08-09T10:00:02.557199",
   "version": "2.3.3"
  }
 },
 "nbformat": 4,
 "nbformat_minor": 5
}