{
 "cells": [
  {
   "cell_type": "code",
   "execution_count": 1,
   "id": "reverse-picking",
   "metadata": {
    "execution": {
     "iopub.execute_input": "2021-10-30T10:30:06.630752Z",
     "iopub.status.busy": "2021-10-30T10:30:06.628789Z",
     "iopub.status.idle": "2021-10-30T10:30:07.432827Z",
     "shell.execute_reply": "2021-10-30T10:30:07.434177Z"
    },
    "papermill": {
     "duration": 0.858018,
     "end_time": "2021-10-30T10:30:07.434821",
     "exception": false,
     "start_time": "2021-10-30T10:30:06.576803",
     "status": "completed"
    },
    "tags": []
   },
   "outputs": [],
   "source": [
    "import pandas as pd\n",
    "import sqlite3"
   ]
  },
  {
   "cell_type": "code",
   "execution_count": 2,
   "id": "innovative-syndrome",
   "metadata": {
    "execution": {
     "iopub.execute_input": "2021-10-30T10:30:07.485943Z",
     "iopub.status.busy": "2021-10-30T10:30:07.483961Z",
     "iopub.status.idle": "2021-10-30T10:30:08.172081Z",
     "shell.execute_reply": "2021-10-30T10:30:08.173419Z"
    },
    "papermill": {
     "duration": 0.717739,
     "end_time": "2021-10-30T10:30:08.173840",
     "exception": false,
     "start_time": "2021-10-30T10:30:07.456101",
     "status": "completed"
    },
    "tags": []
   },
   "outputs": [],
   "source": [
    "timestamps = pd.read_sql(\"select distinct record_time from EBAY_TOP_BERLIN order by record_time desc limit 2\", sqlite3.connect(\"UsedObjects.db\"))"
   ]
  },
  {
   "cell_type": "code",
   "execution_count": 3,
   "id": "periodic-identification",
   "metadata": {
    "execution": {
     "iopub.execute_input": "2021-10-30T10:30:08.248744Z",
     "iopub.status.busy": "2021-10-30T10:30:08.246685Z",
     "iopub.status.idle": "2021-10-30T10:30:08.271807Z",
     "shell.execute_reply": "2021-10-30T10:30:08.273347Z"
    },
    "papermill": {
     "duration": 0.074886,
     "end_time": "2021-10-30T10:30:08.273824",
     "exception": false,
     "start_time": "2021-10-30T10:30:08.198938",
     "status": "completed"
    },
    "tags": []
   },
   "outputs": [
    {
     "data": {
      "text/html": [
       "<div>\n",
       "<style scoped>\n",
       "    .dataframe tbody tr th:only-of-type {\n",
       "        vertical-align: middle;\n",
       "    }\n",
       "\n",
       "    .dataframe tbody tr th {\n",
       "        vertical-align: top;\n",
       "    }\n",
       "\n",
       "    .dataframe thead th {\n",
       "        text-align: right;\n",
       "    }\n",
       "</style>\n",
       "<table border=\"1\" class=\"dataframe\">\n",
       "  <thead>\n",
       "    <tr style=\"text-align: right;\">\n",
       "      <th></th>\n",
       "      <th>RECORD_TIME</th>\n",
       "    </tr>\n",
       "  </thead>\n",
       "  <tbody>\n",
       "    <tr>\n",
       "      <th>0</th>\n",
       "      <td>2021-10-30 12:30</td>\n",
       "    </tr>\n",
       "    <tr>\n",
       "      <th>1</th>\n",
       "      <td>2021-10-30 12:00</td>\n",
       "    </tr>\n",
       "  </tbody>\n",
       "</table>\n",
       "</div>"
      ],
      "text/plain": [
       "        RECORD_TIME\n",
       "0  2021-10-30 12:30\n",
       "1  2021-10-30 12:00"
      ]
     },
     "execution_count": 3,
     "metadata": {},
     "output_type": "execute_result"
    }
   ],
   "source": [
    "timestamps"
   ]
  },
  {
   "cell_type": "code",
   "execution_count": 4,
   "id": "alternate-victory",
   "metadata": {
    "execution": {
     "iopub.execute_input": "2021-10-30T10:30:08.325715Z",
     "iopub.status.busy": "2021-10-30T10:30:08.323728Z",
     "iopub.status.idle": "2021-10-30T10:30:09.328850Z",
     "shell.execute_reply": "2021-10-30T10:30:09.330229Z"
    },
    "papermill": {
     "duration": 1.035016,
     "end_time": "2021-10-30T10:30:09.330647",
     "exception": false,
     "start_time": "2021-10-30T10:30:08.295631",
     "status": "completed"
    },
    "tags": []
   },
   "outputs": [],
   "source": [
    "df = pd.read_sql(\"select * from EBAY_TOP_BERLIN where record_time in (select distinct record_time from EBAY_TOP_BERLIN order by record_time desc limit 2)\", sqlite3.connect(\"UsedObjects.db\"))"
   ]
  },
  {
   "cell_type": "code",
   "execution_count": 5,
   "id": "popular-active",
   "metadata": {
    "execution": {
     "iopub.execute_input": "2021-10-30T10:30:09.401307Z",
     "iopub.status.busy": "2021-10-30T10:30:09.390106Z",
     "iopub.status.idle": "2021-10-30T10:30:09.416501Z",
     "shell.execute_reply": "2021-10-30T10:30:09.417776Z"
    },
    "papermill": {
     "duration": 0.066938,
     "end_time": "2021-10-30T10:30:09.418170",
     "exception": false,
     "start_time": "2021-10-30T10:30:09.351232",
     "status": "completed"
    },
    "tags": []
   },
   "outputs": [],
   "source": [
    "df_pivot = df.pivot_table(index=\"PRODUCT\", columns = \"RECORD_TIME\", values = \"LISTING_COUNT\")"
   ]
  },
  {
   "cell_type": "code",
   "execution_count": 6,
   "id": "union-huntington",
   "metadata": {
    "execution": {
     "iopub.execute_input": "2021-10-30T10:30:09.474300Z",
     "iopub.status.busy": "2021-10-30T10:30:09.472175Z",
     "iopub.status.idle": "2021-10-30T10:30:09.477556Z",
     "shell.execute_reply": "2021-10-30T10:30:09.478755Z"
    },
    "papermill": {
     "duration": 0.040162,
     "end_time": "2021-10-30T10:30:09.479187",
     "exception": false,
     "start_time": "2021-10-30T10:30:09.439025",
     "status": "completed"
    },
    "tags": []
   },
   "outputs": [],
   "source": [
    "df_pivot.columns = [\"stamp_1\", \"stamp_2\"]\n",
    "df_pivot_diff = df_pivot.diff(axis=1)"
   ]
  },
  {
   "cell_type": "code",
   "execution_count": 7,
   "id": "fifth-motion",
   "metadata": {
    "execution": {
     "iopub.execute_input": "2021-10-30T10:30:09.536959Z",
     "iopub.status.busy": "2021-10-30T10:30:09.534274Z",
     "iopub.status.idle": "2021-10-30T10:30:11.015101Z",
     "shell.execute_reply": "2021-10-30T10:30:11.016371Z"
    },
    "papermill": {
     "duration": 1.514627,
     "end_time": "2021-10-30T10:30:11.016857",
     "exception": false,
     "start_time": "2021-10-30T10:30:09.502230",
     "status": "completed"
    },
    "tags": []
   },
   "outputs": [
    {
     "data": {
      "text/plain": [
       "<AxesSubplot:ylabel='PRODUCT'>"
      ]
     },
     "execution_count": 7,
     "metadata": {},
     "output_type": "execute_result"
    },
    {
     "data": {
      "image/png": "[encoded data removed]",
      "text/plain": [
       "<Figure size 432x288 with 1 Axes>"
      ]
     },
     "metadata": {
      "needs_background": "light"
     },
     "output_type": "display_data"
    }
   ],
   "source": [
    "df_pivot_diff.sort_values(\"stamp_2\", ascending = False)[\"stamp_2\"].head(10).plot.barh()"
   ]
  },
  {
   "cell_type": "code",
   "execution_count": null,
   "id": "extra-executive",
   "metadata": {
    "papermill": {
     "duration": 0.022167,
     "end_time": "2021-10-30T10:30:11.063327",
     "exception": false,
     "start_time": "2021-10-30T10:30:11.041160",
     "status": "completed"
    },
    "tags": []
   },
   "outputs": [],
   "source": []
  }
 ],
 "metadata": {
  "kernelspec": {
   "display_name": "Python 3",
   "language": "python",
   "name": "python3"
  },
  "language_info": {
   "codemirror_mode": {
    "name": "ipython",
    "version": 3
   },
   "file_extension": ".py",
   "mimetype": "text/x-python",
   "name": "python",
   "nbconvert_exporter": "python",
   "pygments_lexer": "ipython3",
   "version": "3.9.5"
  },
  "papermill": {
   "default_parameters": {},
   "duration": 7.524439,
   "end_time": "2021-10-30T10:30:11.707333",
   "environment_variables": {},
   "exception": null,
   "input_path": "eBay_Overview.ipynb",
   "output_path": "eBay_Overview.ipynb",
   "parameters": {},
   "start_time": "2021-10-30T10:30:04.182894",
   "version": "2.3.3"
  }
 },
 "nbformat": 4,
 "nbformat_minor": 5
}