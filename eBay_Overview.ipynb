{
 "cells": [
  {
   "cell_type": "code",
   "execution_count": 1,
   "id": "reverse-picking",
   "metadata": {
    "execution": {
     "iopub.execute_input": "2021-10-15T12:30:07.225532Z",
     "iopub.status.busy": "2021-10-15T12:30:07.223494Z",
     "iopub.status.idle": "2021-10-15T12:30:08.031789Z",
     "shell.execute_reply": "2021-10-15T12:30:08.033130Z"
    },
    "papermill": {
     "duration": 0.861237,
     "end_time": "2021-10-15T12:30:08.033773",
     "exception": false,
     "start_time": "2021-10-15T12:30:07.172536",
     "status": "completed"
    },
    "tags": []
   },
   "outputs": [],
   "source": [
    "import pandas as pd\n",
    "import sqlite3"
   ]
  },
  {
   "cell_type": "code",
   "execution_count": 2,
   "id": "innovative-syndrome",
   "metadata": {
    "execution": {
     "iopub.execute_input": "2021-10-15T12:30:08.084522Z",
     "iopub.status.busy": "2021-10-15T12:30:08.082667Z",
     "iopub.status.idle": "2021-10-15T12:30:08.637328Z",
     "shell.execute_reply": "2021-10-15T12:30:08.638766Z"
    },
    "papermill": {
     "duration": 0.584424,
     "end_time": "2021-10-15T12:30:08.639211",
     "exception": false,
     "start_time": "2021-10-15T12:30:08.054787",
     "status": "completed"
    },
    "tags": []
   },
   "outputs": [],
   "source": [
    "timestamps = pd.read_sql(\"select distinct record_time from EBAY_TOP_BERLIN order by record_time desc limit 2\", sqlite3.connect(\"UsedObjects.db\"))"
   ]
  },
  {
   "cell_type": "code",
   "execution_count": 3,
   "id": "periodic-identification",
   "metadata": {
    "execution": {
     "iopub.execute_input": "2021-10-15T12:30:08.713128Z",
     "iopub.status.busy": "2021-10-15T12:30:08.711035Z",
     "iopub.status.idle": "2021-10-15T12:30:08.730851Z",
     "shell.execute_reply": "2021-10-15T12:30:08.732200Z"
    },
    "papermill": {
     "duration": 0.067592,
     "end_time": "2021-10-15T12:30:08.732635",
     "exception": false,
     "start_time": "2021-10-15T12:30:08.665043",
     "status": "completed"
    },
    "tags": []
   },
   "outputs": [
    {
     "data": {
      "text/html": [
       "<div>\n",
       "<style scoped>\n",
       "    .dataframe tbody tr th:only-of-type {\n",
       "        vertical-align: middle;\n",
       "    }\n",
       "\n",
       "    .dataframe tbody tr th {\n",
       "        vertical-align: top;\n",
       "    }\n",
       "\n",
       "    .dataframe thead th {\n",
       "        text-align: right;\n",
       "    }\n",
       "</style>\n",
       "<table border=\"1\" class=\"dataframe\">\n",
       "  <thead>\n",
       "    <tr style=\"text-align: right;\">\n",
       "      <th></th>\n",
       "      <th>RECORD_TIME</th>\n",
       "    </tr>\n",
       "  </thead>\n",
       "  <tbody>\n",
       "    <tr>\n",
       "      <th>0</th>\n",
       "      <td>2021-10-15 14:30</td>\n",
       "    </tr>\n",
       "    <tr>\n",
       "      <th>1</th>\n",
       "      <td>2021-10-15 14:00</td>\n",
       "    </tr>\n",
       "  </tbody>\n",
       "</table>\n",
       "</div>"
      ],
      "text/plain": [
       "        RECORD_TIME\n",
       "0  2021-10-15 14:30\n",
       "1  2021-10-15 14:00"
      ]
     },
     "execution_count": 3,
     "metadata": {},
     "output_type": "execute_result"
    }
   ],
   "source": [
    "timestamps"
   ]
  },
  {
   "cell_type": "code",
   "execution_count": 4,
   "id": "alternate-victory",
   "metadata": {
    "execution": {
     "iopub.execute_input": "2021-10-15T12:30:08.784594Z",
     "iopub.status.busy": "2021-10-15T12:30:08.782684Z",
     "iopub.status.idle": "2021-10-15T12:30:09.582882Z",
     "shell.execute_reply": "2021-10-15T12:30:09.584154Z"
    },
    "papermill": {
     "duration": 0.830723,
     "end_time": "2021-10-15T12:30:09.584574",
     "exception": false,
     "start_time": "2021-10-15T12:30:08.753851",
     "status": "completed"
    },
    "tags": []
   },
   "outputs": [],
   "source": [
    "df = pd.read_sql(\"select * from EBAY_TOP_BERLIN where record_time in (select distinct record_time from EBAY_TOP_BERLIN order by record_time desc limit 2)\", sqlite3.connect(\"UsedObjects.db\"))"
   ]
  },
  {
   "cell_type": "code",
   "execution_count": 5,
   "id": "popular-active",
   "metadata": {
    "execution": {
     "iopub.execute_input": "2021-10-15T12:30:09.655053Z",
     "iopub.status.busy": "2021-10-15T12:30:09.643045Z",
     "iopub.status.idle": "2021-10-15T12:30:09.670525Z",
     "shell.execute_reply": "2021-10-15T12:30:09.671726Z"
    },
    "papermill": {
     "duration": 0.066564,
     "end_time": "2021-10-15T12:30:09.672123",
     "exception": false,
     "start_time": "2021-10-15T12:30:09.605559",
     "status": "completed"
    },
    "tags": []
   },
   "outputs": [],
   "source": [
    "df_pivot = df.pivot_table(index=\"PRODUCT\", columns = \"RECORD_TIME\", values = \"LISTING_COUNT\")"
   ]
  },
  {
   "cell_type": "code",
   "execution_count": 6,
   "id": "union-huntington",
   "metadata": {
    "execution": {
     "iopub.execute_input": "2021-10-15T12:30:09.732107Z",
     "iopub.status.busy": "2021-10-15T12:30:09.729650Z",
     "iopub.status.idle": "2021-10-15T12:30:09.735282Z",
     "shell.execute_reply": "2021-10-15T12:30:09.736555Z"
    },
    "papermill": {
     "duration": 0.042346,
     "end_time": "2021-10-15T12:30:09.737028",
     "exception": false,
     "start_time": "2021-10-15T12:30:09.694682",
     "status": "completed"
    },
    "tags": []
   },
   "outputs": [],
   "source": [
    "df_pivot.columns = [\"stamp_1\", \"stamp_2\"]\n",
    "df_pivot_diff = df_pivot.diff(axis=1)"
   ]
  },
  {
   "cell_type": "code",
   "execution_count": 7,
   "id": "fifth-motion",
   "metadata": {
    "execution": {
     "iopub.execute_input": "2021-10-15T12:30:09.790923Z",
     "iopub.status.busy": "2021-10-15T12:30:09.788591Z",
     "iopub.status.idle": "2021-10-15T12:30:11.280654Z",
     "shell.execute_reply": "2021-10-15T12:30:11.282012Z"
    },
    "papermill": {
     "duration": 1.525231,
     "end_time": "2021-10-15T12:30:11.282435",
     "exception": false,
     "start_time": "2021-10-15T12:30:09.757204",
     "status": "completed"
    },
    "tags": []
   },
   "outputs": [
    {
     "data": {
      "text/plain": [
       "<AxesSubplot:ylabel='PRODUCT'>"
      ]
     },
     "execution_count": 7,
     "metadata": {},
     "output_type": "execute_result"
    },
    {
     "data": {
      "image/png": "[encoded data removed]",
      "text/plain": [
       "<Figure size 432x288 with 1 Axes>"
      ]
     },
     "metadata": {
      "needs_background": "light"
     },
     "output_type": "display_data"
    }
   ],
   "source": [
    "df_pivot_diff.sort_values(\"stamp_2\", ascending = False)[\"stamp_2\"].head(10).plot.barh()"
   ]
  },
  {
   "cell_type": "code",
   "execution_count": null,
   "id": "extra-executive",
   "metadata": {
    "papermill": {
     "duration": 0.022234,
     "end_time": "2021-10-15T12:30:11.329747",
     "exception": false,
     "start_time": "2021-10-15T12:30:11.307513",
     "status": "completed"
    },
    "tags": []
   },
   "outputs": [],
   "source": []
  }
 ],
 "metadata": {
  "kernelspec": {
   "display_name": "Python 3",
   "language": "python",
   "name": "python3"
  },
  "language_info": {
   "codemirror_mode": {
    "name": "ipython",
    "version": 3
   },
   "file_extension": ".py",
   "mimetype": "text/x-python",
   "name": "python",
   "nbconvert_exporter": "python",
   "pygments_lexer": "ipython3",
   "version": "3.9.5"
  },
  "papermill": {
   "default_parameters": {},
   "duration": 7.820189,
   "end_time": "2021-10-15T12:30:12.585589",
   "environment_variables": {},
   "exception": null,
   "input_path": "eBay_Overview.ipynb",
   "output_path": "eBay_Overview.ipynb",
   "parameters": {},
   "start_time": "2021-10-15T12:30:04.765400",
   "version": "2.3.3"
  }
 },
 "nbformat": 4,
 "nbformat_minor": 5
}