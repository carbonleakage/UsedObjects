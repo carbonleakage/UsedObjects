{
 "cells": [
  {
   "cell_type": "code",
   "execution_count": 1,
   "id": "reverse-picking",
   "metadata": {
    "execution": {
     "iopub.execute_input": "2021-12-06T09:30:07.566808Z",
     "iopub.status.busy": "2021-12-06T09:30:07.564407Z",
     "iopub.status.idle": "2021-12-06T09:30:08.531039Z",
     "shell.execute_reply": "2021-12-06T09:30:08.533336Z"
    },
    "papermill": {
     "duration": 1.016814,
     "end_time": "2021-12-06T09:30:08.534117",
     "exception": false,
     "start_time": "2021-12-06T09:30:07.517303",
     "status": "completed"
    },
    "tags": []
   },
   "outputs": [],
   "source": [
    "import pandas as pd\n",
    "import sqlite3"
   ]
  },
  {
   "cell_type": "code",
   "execution_count": 2,
   "id": "innovative-syndrome",
   "metadata": {
    "execution": {
     "iopub.execute_input": "2021-12-06T09:30:08.594804Z",
     "iopub.status.busy": "2021-12-06T09:30:08.592518Z",
     "iopub.status.idle": "2021-12-06T09:30:09.614424Z",
     "shell.execute_reply": "2021-12-06T09:30:09.615758Z"
    },
    "papermill": {
     "duration": 1.055203,
     "end_time": "2021-12-06T09:30:09.616217",
     "exception": false,
     "start_time": "2021-12-06T09:30:08.561014",
     "status": "completed"
    },
    "tags": []
   },
   "outputs": [],
   "source": [
    "timestamps = pd.read_sql(\"select distinct record_time from EBAY_TOP_BERLIN order by record_time desc limit 2\", sqlite3.connect(\"UsedObjects.db\"))"
   ]
  },
  {
   "cell_type": "code",
   "execution_count": 3,
   "id": "periodic-identification",
   "metadata": {
    "execution": {
     "iopub.execute_input": "2021-12-06T09:30:09.685284Z",
     "iopub.status.busy": "2021-12-06T09:30:09.682993Z",
     "iopub.status.idle": "2021-12-06T09:30:09.704371Z",
     "shell.execute_reply": "2021-12-06T09:30:09.706072Z"
    },
    "papermill": {
     "duration": 0.071406,
     "end_time": "2021-12-06T09:30:09.706582",
     "exception": false,
     "start_time": "2021-12-06T09:30:09.635176",
     "status": "completed"
    },
    "tags": []
   },
   "outputs": [
    {
     "data": {
      "text/html": [
       "<div>\n",
       "<style scoped>\n",
       "    .dataframe tbody tr th:only-of-type {\n",
       "        vertical-align: middle;\n",
       "    }\n",
       "\n",
       "    .dataframe tbody tr th {\n",
       "        vertical-align: top;\n",
       "    }\n",
       "\n",
       "    .dataframe thead th {\n",
       "        text-align: right;\n",
       "    }\n",
       "</style>\n",
       "<table border=\"1\" class=\"dataframe\">\n",
       "  <thead>\n",
       "    <tr style=\"text-align: right;\">\n",
       "      <th></th>\n",
       "      <th>RECORD_TIME</th>\n",
       "    </tr>\n",
       "  </thead>\n",
       "  <tbody>\n",
       "    <tr>\n",
       "      <th>0</th>\n",
       "      <td>2021-12-06 10:30</td>\n",
       "    </tr>\n",
       "    <tr>\n",
       "      <th>1</th>\n",
       "      <td>2021-12-06 10:00</td>\n",
       "    </tr>\n",
       "  </tbody>\n",
       "</table>\n",
       "</div>"
      ],
      "text/plain": [
       "        RECORD_TIME\n",
       "0  2021-12-06 10:30\n",
       "1  2021-12-06 10:00"
      ]
     },
     "execution_count": 3,
     "metadata": {},
     "output_type": "execute_result"
    }
   ],
   "source": [
    "timestamps"
   ]
  },
  {
   "cell_type": "code",
   "execution_count": 4,
   "id": "alternate-victory",
   "metadata": {
    "execution": {
     "iopub.execute_input": "2021-12-06T09:30:09.761061Z",
     "iopub.status.busy": "2021-12-06T09:30:09.759070Z",
     "iopub.status.idle": "2021-12-06T09:30:11.221710Z",
     "shell.execute_reply": "2021-12-06T09:30:11.223730Z"
    },
    "papermill": {
     "duration": 1.496247,
     "end_time": "2021-12-06T09:30:11.224192",
     "exception": false,
     "start_time": "2021-12-06T09:30:09.727945",
     "status": "completed"
    },
    "tags": []
   },
   "outputs": [],
   "source": [
    "df = pd.read_sql(\"select * from EBAY_TOP_BERLIN where record_time in (select distinct record_time from EBAY_TOP_BERLIN order by record_time desc limit 2)\", sqlite3.connect(\"UsedObjects.db\"))"
   ]
  },
  {
   "cell_type": "code",
   "execution_count": 5,
   "id": "popular-active",
   "metadata": {
    "execution": {
     "iopub.execute_input": "2021-12-06T09:30:11.297465Z",
     "iopub.status.busy": "2021-12-06T09:30:11.284814Z",
     "iopub.status.idle": "2021-12-06T09:30:11.316224Z",
     "shell.execute_reply": "2021-12-06T09:30:11.317718Z"
    },
    "papermill": {
     "duration": 0.073644,
     "end_time": "2021-12-06T09:30:11.318193",
     "exception": false,
     "start_time": "2021-12-06T09:30:11.244549",
     "status": "completed"
    },
    "tags": []
   },
   "outputs": [],
   "source": [
    "df_pivot = df.pivot_table(index=\"PRODUCT\", columns = \"RECORD_TIME\", values = \"LISTING_COUNT\")"
   ]
  },
  {
   "cell_type": "code",
   "execution_count": 6,
   "id": "union-huntington",
   "metadata": {
    "execution": {
     "iopub.execute_input": "2021-12-06T09:30:11.379079Z",
     "iopub.status.busy": "2021-12-06T09:30:11.376898Z",
     "iopub.status.idle": "2021-12-06T09:30:11.384219Z",
     "shell.execute_reply": "2021-12-06T09:30:11.382705Z"
    },
    "papermill": {
     "duration": 0.045948,
     "end_time": "2021-12-06T09:30:11.384610",
     "exception": false,
     "start_time": "2021-12-06T09:30:11.338662",
     "status": "completed"
    },
    "tags": []
   },
   "outputs": [],
   "source": [
    "df_pivot.columns = [\"stamp_1\", \"stamp_2\"]\n",
    "df_pivot_diff = df_pivot.diff(axis=1)"
   ]
  },
  {
   "cell_type": "code",
   "execution_count": 7,
   "id": "fifth-motion",
   "metadata": {
    "execution": {
     "iopub.execute_input": "2021-12-06T09:30:11.440289Z",
     "iopub.status.busy": "2021-12-06T09:30:11.437867Z",
     "iopub.status.idle": "2021-12-06T09:30:13.427464Z",
     "shell.execute_reply": "2021-12-06T09:30:13.428952Z"
    },
    "papermill": {
     "duration": 2.024734,
     "end_time": "2021-12-06T09:30:13.429539",
     "exception": false,
     "start_time": "2021-12-06T09:30:11.404805",
     "status": "completed"
    },
    "tags": []
   },
   "outputs": [
    {
     "data": {
      "text/plain": [
       "<AxesSubplot:ylabel='PRODUCT'>"
      ]
     },
     "execution_count": 7,
     "metadata": {},
     "output_type": "execute_result"
    },
    {
     "data": {
      "image/png": "[encoded data removed]",
      "text/plain": [
       "<Figure size 432x288 with 1 Axes>"
      ]
     },
     "metadata": {
      "needs_background": "light"
     },
     "output_type": "display_data"
    }
   ],
   "source": [
    "df_pivot_diff.sort_values(\"stamp_2\", ascending = False)[\"stamp_2\"].head(10).plot.barh()"
   ]
  },
  {
   "cell_type": "code",
   "execution_count": null,
   "id": "extra-executive",
   "metadata": {
    "papermill": {
     "duration": 0.02217,
     "end_time": "2021-12-06T09:30:13.477648",
     "exception": false,
     "start_time": "2021-12-06T09:30:13.455478",
     "status": "completed"
    },
    "tags": []
   },
   "outputs": [],
   "source": []
  }
 ],
 "metadata": {
  "kernelspec": {
   "display_name": "Python 3",
   "language": "python",
   "name": "python3"
  },
  "language_info": {
   "codemirror_mode": {
    "name": "ipython",
    "version": 3
   },
   "file_extension": ".py",
   "mimetype": "text/x-python",
   "name": "python",
   "nbconvert_exporter": "python",
   "pygments_lexer": "ipython3",
   "version": "3.9.5"
  },
  "papermill": {
   "default_parameters": {},
   "duration": 9.937334,
   "end_time": "2021-12-06T09:30:14.724908",
   "environment_variables": {},
   "exception": null,
   "input_path": "eBay_Overview.ipynb",
   "output_path": "eBay_Overview.ipynb",
   "parameters": {},
   "start_time": "2021-12-06T09:30:04.787574",
   "version": "2.3.3"
  }
 },
 "nbformat": 4,
 "nbformat_minor": 5
}