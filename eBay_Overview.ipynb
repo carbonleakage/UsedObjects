{
 "cells": [
  {
   "cell_type": "code",
   "execution_count": 1,
   "id": "reverse-picking",
   "metadata": {
    "execution": {
     "iopub.execute_input": "2021-09-17T19:30:06.599013Z",
     "iopub.status.busy": "2021-09-17T19:30:06.596987Z",
     "iopub.status.idle": "2021-09-17T19:30:07.393620Z",
     "shell.execute_reply": "2021-09-17T19:30:07.395063Z"
    },
    "papermill": {
     "duration": 0.847493,
     "end_time": "2021-09-17T19:30:07.395756",
     "exception": false,
     "start_time": "2021-09-17T19:30:06.548263",
     "status": "completed"
    },
    "tags": []
   },
   "outputs": [],
   "source": [
    "import pandas as pd\n",
    "import sqlite3"
   ]
  },
  {
   "cell_type": "code",
   "execution_count": 2,
   "id": "innovative-syndrome",
   "metadata": {
    "execution": {
     "iopub.execute_input": "2021-09-17T19:30:07.447660Z",
     "iopub.status.busy": "2021-09-17T19:30:07.445249Z",
     "iopub.status.idle": "2021-09-17T19:30:07.760668Z",
     "shell.execute_reply": "2021-09-17T19:30:07.761860Z"
    },
    "papermill": {
     "duration": 0.345555,
     "end_time": "2021-09-17T19:30:07.762255",
     "exception": false,
     "start_time": "2021-09-17T19:30:07.416700",
     "status": "completed"
    },
    "tags": []
   },
   "outputs": [],
   "source": [
    "timestamps = pd.read_sql(\"select distinct record_time from EBAY_TOP_BERLIN order by record_time desc limit 2\", sqlite3.connect(\"UsedObjects.db\"))"
   ]
  },
  {
   "cell_type": "code",
   "execution_count": 3,
   "id": "periodic-identification",
   "metadata": {
    "execution": {
     "iopub.execute_input": "2021-09-17T19:30:07.825200Z",
     "iopub.status.busy": "2021-09-17T19:30:07.823180Z",
     "iopub.status.idle": "2021-09-17T19:30:07.843527Z",
     "shell.execute_reply": "2021-09-17T19:30:07.844807Z"
    },
    "papermill": {
     "duration": 0.063675,
     "end_time": "2021-09-17T19:30:07.845218",
     "exception": false,
     "start_time": "2021-09-17T19:30:07.781543",
     "status": "completed"
    },
    "tags": []
   },
   "outputs": [
    {
     "data": {
      "text/html": [
       "<div>\n",
       "<style scoped>\n",
       "    .dataframe tbody tr th:only-of-type {\n",
       "        vertical-align: middle;\n",
       "    }\n",
       "\n",
       "    .dataframe tbody tr th {\n",
       "        vertical-align: top;\n",
       "    }\n",
       "\n",
       "    .dataframe thead th {\n",
       "        text-align: right;\n",
       "    }\n",
       "</style>\n",
       "<table border=\"1\" class=\"dataframe\">\n",
       "  <thead>\n",
       "    <tr style=\"text-align: right;\">\n",
       "      <th></th>\n",
       "      <th>RECORD_TIME</th>\n",
       "    </tr>\n",
       "  </thead>\n",
       "  <tbody>\n",
       "    <tr>\n",
       "      <th>0</th>\n",
       "      <td>2021-09-17 21:30</td>\n",
       "    </tr>\n",
       "    <tr>\n",
       "      <th>1</th>\n",
       "      <td>2021-09-17 21:00</td>\n",
       "    </tr>\n",
       "  </tbody>\n",
       "</table>\n",
       "</div>"
      ],
      "text/plain": [
       "        RECORD_TIME\n",
       "0  2021-09-17 21:30\n",
       "1  2021-09-17 21:00"
      ]
     },
     "execution_count": 3,
     "metadata": {},
     "output_type": "execute_result"
    }
   ],
   "source": [
    "timestamps"
   ]
  },
  {
   "cell_type": "code",
   "execution_count": 4,
   "id": "alternate-victory",
   "metadata": {
    "execution": {
     "iopub.execute_input": "2021-09-17T19:30:07.897563Z",
     "iopub.status.busy": "2021-09-17T19:30:07.895311Z",
     "iopub.status.idle": "2021-09-17T19:30:08.349830Z",
     "shell.execute_reply": "2021-09-17T19:30:08.351241Z"
    },
    "papermill": {
     "duration": 0.485047,
     "end_time": "2021-09-17T19:30:08.351663",
     "exception": false,
     "start_time": "2021-09-17T19:30:07.866616",
     "status": "completed"
    },
    "tags": []
   },
   "outputs": [],
   "source": [
    "df = pd.read_sql(\"select * from EBAY_TOP_BERLIN where record_time in (select distinct record_time from EBAY_TOP_BERLIN order by record_time desc limit 2)\", sqlite3.connect(\"UsedObjects.db\"))"
   ]
  },
  {
   "cell_type": "code",
   "execution_count": 5,
   "id": "popular-active",
   "metadata": {
    "execution": {
     "iopub.execute_input": "2021-09-17T19:30:08.436840Z",
     "iopub.status.busy": "2021-09-17T19:30:08.434359Z",
     "iopub.status.idle": "2021-09-17T19:30:08.451819Z",
     "shell.execute_reply": "2021-09-17T19:30:08.453034Z"
    },
    "papermill": {
     "duration": 0.071585,
     "end_time": "2021-09-17T19:30:08.453431",
     "exception": false,
     "start_time": "2021-09-17T19:30:08.381846",
     "status": "completed"
    },
    "tags": []
   },
   "outputs": [],
   "source": [
    "df_pivot = df.pivot_table(index=\"PRODUCT\", columns = \"RECORD_TIME\", values = \"LISTING_COUNT\")"
   ]
  },
  {
   "cell_type": "code",
   "execution_count": 6,
   "id": "union-huntington",
   "metadata": {
    "execution": {
     "iopub.execute_input": "2021-09-17T19:30:08.513789Z",
     "iopub.status.busy": "2021-09-17T19:30:08.511354Z",
     "iopub.status.idle": "2021-09-17T19:30:08.517030Z",
     "shell.execute_reply": "2021-09-17T19:30:08.518296Z"
    },
    "papermill": {
     "duration": 0.042058,
     "end_time": "2021-09-17T19:30:08.518704",
     "exception": false,
     "start_time": "2021-09-17T19:30:08.476646",
     "status": "completed"
    },
    "tags": []
   },
   "outputs": [],
   "source": [
    "df_pivot.columns = [\"stamp_1\", \"stamp_2\"]\n",
    "df_pivot_diff = df_pivot.diff(axis=1)"
   ]
  },
  {
   "cell_type": "code",
   "execution_count": 7,
   "id": "fifth-motion",
   "metadata": {
    "execution": {
     "iopub.execute_input": "2021-09-17T19:30:08.573643Z",
     "iopub.status.busy": "2021-09-17T19:30:08.571375Z",
     "iopub.status.idle": "2021-09-17T19:30:10.070072Z",
     "shell.execute_reply": "2021-09-17T19:30:10.071414Z"
    },
    "papermill": {
     "duration": 1.532173,
     "end_time": "2021-09-17T19:30:10.071838",
     "exception": false,
     "start_time": "2021-09-17T19:30:08.539665",
     "status": "completed"
    },
    "tags": []
   },
   "outputs": [
    {
     "data": {
      "text/plain": [
       "<AxesSubplot:ylabel='PRODUCT'>"
      ]
     },
     "execution_count": 7,
     "metadata": {},
     "output_type": "execute_result"
    },
    {
     "data": {
      "image/png": "[encoded data removed]",
      "text/plain": [
       "<Figure size 432x288 with 1 Axes>"
      ]
     },
     "metadata": {
      "needs_background": "light"
     },
     "output_type": "display_data"
    }
   ],
   "source": [
    "df_pivot_diff.sort_values(\"stamp_2\", ascending = False)[\"stamp_2\"].head(10).plot.barh()"
   ]
  },
  {
   "cell_type": "code",
   "execution_count": null,
   "id": "extra-executive",
   "metadata": {
    "papermill": {
     "duration": 0.022551,
     "end_time": "2021-09-17T19:30:10.118768",
     "exception": false,
     "start_time": "2021-09-17T19:30:10.096217",
     "status": "completed"
    },
    "tags": []
   },
   "outputs": [],
   "source": []
  }
 ],
 "metadata": {
  "kernelspec": {
   "display_name": "Python 3",
   "language": "python",
   "name": "python3"
  },
  "language_info": {
   "codemirror_mode": {
    "name": "ipython",
    "version": 3
   },
   "file_extension": ".py",
   "mimetype": "text/x-python",
   "name": "python",
   "nbconvert_exporter": "python",
   "pygments_lexer": "ipython3",
   "version": "3.9.5"
  },
  "papermill": {
   "default_parameters": {},
   "duration": 6.591157,
   "end_time": "2021-09-17T19:30:10.760349",
   "environment_variables": {},
   "exception": null,
   "input_path": "eBay_Overview.ipynb",
   "output_path": "eBay_Overview.ipynb",
   "parameters": {},
   "start_time": "2021-09-17T19:30:04.169192",
   "version": "2.3.3"
  }
 },
 "nbformat": 4,
 "nbformat_minor": 5
}