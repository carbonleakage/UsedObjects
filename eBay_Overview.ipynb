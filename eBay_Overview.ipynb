{
 "cells": [
  {
   "cell_type": "code",
   "execution_count": 1,
   "id": "reverse-picking",
   "metadata": {
    "execution": {
     "iopub.execute_input": "2021-09-29T19:30:07.220348Z",
     "iopub.status.busy": "2021-09-29T19:30:07.218289Z",
     "iopub.status.idle": "2021-09-29T19:30:08.028726Z",
     "shell.execute_reply": "2021-09-29T19:30:08.030056Z"
    },
    "papermill": {
     "duration": 0.861081,
     "end_time": "2021-09-29T19:30:08.030694",
     "exception": false,
     "start_time": "2021-09-29T19:30:07.169613",
     "status": "completed"
    },
    "tags": []
   },
   "outputs": [],
   "source": [
    "import pandas as pd\n",
    "import sqlite3"
   ]
  },
  {
   "cell_type": "code",
   "execution_count": 2,
   "id": "innovative-syndrome",
   "metadata": {
    "execution": {
     "iopub.execute_input": "2021-09-29T19:30:08.081538Z",
     "iopub.status.busy": "2021-09-29T19:30:08.079219Z",
     "iopub.status.idle": "2021-09-29T19:30:08.487021Z",
     "shell.execute_reply": "2021-09-29T19:30:08.488389Z"
    },
    "papermill": {
     "duration": 0.438253,
     "end_time": "2021-09-29T19:30:08.488805",
     "exception": false,
     "start_time": "2021-09-29T19:30:08.050552",
     "status": "completed"
    },
    "tags": []
   },
   "outputs": [],
   "source": [
    "timestamps = pd.read_sql(\"select distinct record_time from EBAY_TOP_BERLIN order by record_time desc limit 2\", sqlite3.connect(\"UsedObjects.db\"))"
   ]
  },
  {
   "cell_type": "code",
   "execution_count": 3,
   "id": "periodic-identification",
   "metadata": {
    "execution": {
     "iopub.execute_input": "2021-09-29T19:30:08.553367Z",
     "iopub.status.busy": "2021-09-29T19:30:08.551294Z",
     "iopub.status.idle": "2021-09-29T19:30:08.572133Z",
     "shell.execute_reply": "2021-09-29T19:30:08.573368Z"
    },
    "papermill": {
     "duration": 0.065543,
     "end_time": "2021-09-29T19:30:08.573767",
     "exception": false,
     "start_time": "2021-09-29T19:30:08.508224",
     "status": "completed"
    },
    "tags": []
   },
   "outputs": [
    {
     "data": {
      "text/html": [
       "<div>\n",
       "<style scoped>\n",
       "    .dataframe tbody tr th:only-of-type {\n",
       "        vertical-align: middle;\n",
       "    }\n",
       "\n",
       "    .dataframe tbody tr th {\n",
       "        vertical-align: top;\n",
       "    }\n",
       "\n",
       "    .dataframe thead th {\n",
       "        text-align: right;\n",
       "    }\n",
       "</style>\n",
       "<table border=\"1\" class=\"dataframe\">\n",
       "  <thead>\n",
       "    <tr style=\"text-align: right;\">\n",
       "      <th></th>\n",
       "      <th>RECORD_TIME</th>\n",
       "    </tr>\n",
       "  </thead>\n",
       "  <tbody>\n",
       "    <tr>\n",
       "      <th>0</th>\n",
       "      <td>2021-09-29 21:30</td>\n",
       "    </tr>\n",
       "    <tr>\n",
       "      <th>1</th>\n",
       "      <td>2021-09-29 21:00</td>\n",
       "    </tr>\n",
       "  </tbody>\n",
       "</table>\n",
       "</div>"
      ],
      "text/plain": [
       "        RECORD_TIME\n",
       "0  2021-09-29 21:30\n",
       "1  2021-09-29 21:00"
      ]
     },
     "execution_count": 3,
     "metadata": {},
     "output_type": "execute_result"
    }
   ],
   "source": [
    "timestamps"
   ]
  },
  {
   "cell_type": "code",
   "execution_count": 4,
   "id": "alternate-victory",
   "metadata": {
    "execution": {
     "iopub.execute_input": "2021-09-29T19:30:08.627460Z",
     "iopub.status.busy": "2021-09-29T19:30:08.625088Z",
     "iopub.status.idle": "2021-09-29T19:30:09.235206Z",
     "shell.execute_reply": "2021-09-29T19:30:09.236722Z"
    },
    "papermill": {
     "duration": 0.640793,
     "end_time": "2021-09-29T19:30:09.237172",
     "exception": false,
     "start_time": "2021-09-29T19:30:08.596379",
     "status": "completed"
    },
    "tags": []
   },
   "outputs": [],
   "source": [
    "df = pd.read_sql(\"select * from EBAY_TOP_BERLIN where record_time in (select distinct record_time from EBAY_TOP_BERLIN order by record_time desc limit 2)\", sqlite3.connect(\"UsedObjects.db\"))"
   ]
  },
  {
   "cell_type": "code",
   "execution_count": 5,
   "id": "popular-active",
   "metadata": {
    "execution": {
     "iopub.execute_input": "2021-09-29T19:30:09.314336Z",
     "iopub.status.busy": "2021-09-29T19:30:09.305318Z",
     "iopub.status.idle": "2021-09-29T19:30:09.334999Z",
     "shell.execute_reply": "2021-09-29T19:30:09.336236Z"
    },
    "papermill": {
     "duration": 0.072504,
     "end_time": "2021-09-29T19:30:09.336634",
     "exception": false,
     "start_time": "2021-09-29T19:30:09.264130",
     "status": "completed"
    },
    "tags": []
   },
   "outputs": [],
   "source": [
    "df_pivot = df.pivot_table(index=\"PRODUCT\", columns = \"RECORD_TIME\", values = \"LISTING_COUNT\")"
   ]
  },
  {
   "cell_type": "code",
   "execution_count": 6,
   "id": "union-huntington",
   "metadata": {
    "execution": {
     "iopub.execute_input": "2021-09-29T19:30:09.396796Z",
     "iopub.status.busy": "2021-09-29T19:30:09.394300Z",
     "iopub.status.idle": "2021-09-29T19:30:09.400503Z",
     "shell.execute_reply": "2021-09-29T19:30:09.401977Z"
    },
    "papermill": {
     "duration": 0.042666,
     "end_time": "2021-09-29T19:30:09.402441",
     "exception": false,
     "start_time": "2021-09-29T19:30:09.359775",
     "status": "completed"
    },
    "tags": []
   },
   "outputs": [],
   "source": [
    "df_pivot.columns = [\"stamp_1\", \"stamp_2\"]\n",
    "df_pivot_diff = df_pivot.diff(axis=1)"
   ]
  },
  {
   "cell_type": "code",
   "execution_count": 7,
   "id": "fifth-motion",
   "metadata": {
    "execution": {
     "iopub.execute_input": "2021-09-29T19:30:09.457786Z",
     "iopub.status.busy": "2021-09-29T19:30:09.455512Z",
     "iopub.status.idle": "2021-09-29T19:30:10.958387Z",
     "shell.execute_reply": "2021-09-29T19:30:10.960072Z"
    },
    "papermill": {
     "duration": 1.536715,
     "end_time": "2021-09-29T19:30:10.960579",
     "exception": false,
     "start_time": "2021-09-29T19:30:09.423864",
     "status": "completed"
    },
    "tags": []
   },
   "outputs": [
    {
     "data": {
      "text/plain": [
       "<AxesSubplot:ylabel='PRODUCT'>"
      ]
     },
     "execution_count": 7,
     "metadata": {},
     "output_type": "execute_result"
    },
    {
     "data": {
      "image/png": "[encoded data removed]",
      "text/plain": [
       "<Figure size 432x288 with 1 Axes>"
      ]
     },
     "metadata": {
      "needs_background": "light"
     },
     "output_type": "display_data"
    }
   ],
   "source": [
    "df_pivot_diff.sort_values(\"stamp_2\", ascending = False)[\"stamp_2\"].head(10).plot.barh()"
   ]
  },
  {
   "cell_type": "code",
   "execution_count": null,
   "id": "extra-executive",
   "metadata": {
    "papermill": {
     "duration": 0.022285,
     "end_time": "2021-09-29T19:30:11.008034",
     "exception": false,
     "start_time": "2021-09-29T19:30:10.985749",
     "status": "completed"
    },
    "tags": []
   },
   "outputs": [],
   "source": []
  }
 ],
 "metadata": {
  "kernelspec": {
   "display_name": "Python 3",
   "language": "python",
   "name": "python3"
  },
  "language_info": {
   "codemirror_mode": {
    "name": "ipython",
    "version": 3
   },
   "file_extension": ".py",
   "mimetype": "text/x-python",
   "name": "python",
   "nbconvert_exporter": "python",
   "pygments_lexer": "ipython3",
   "version": "3.9.5"
  },
  "papermill": {
   "default_parameters": {},
   "duration": 7.826998,
   "end_time": "2021-09-29T19:30:12.573467",
   "environment_variables": {},
   "exception": null,
   "input_path": "eBay_Overview.ipynb",
   "output_path": "eBay_Overview.ipynb",
   "parameters": {},
   "start_time": "2021-09-29T19:30:04.746469",
   "version": "2.3.3"
  }
 },
 "nbformat": 4,
 "nbformat_minor": 5
}