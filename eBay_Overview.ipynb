{
 "cells": [
  {
   "cell_type": "code",
   "execution_count": 1,
   "id": "reverse-picking",
   "metadata": {
    "execution": {
     "iopub.execute_input": "2021-11-10T09:30:07.579681Z",
     "iopub.status.busy": "2021-11-10T09:30:07.577469Z",
     "iopub.status.idle": "2021-11-10T09:30:08.548383Z",
     "shell.execute_reply": "2021-11-10T09:30:08.549943Z"
    },
    "papermill": {
     "duration": 1.018586,
     "end_time": "2021-11-10T09:30:08.550667",
     "exception": false,
     "start_time": "2021-11-10T09:30:07.532081",
     "status": "completed"
    },
    "tags": []
   },
   "outputs": [],
   "source": [
    "import pandas as pd\n",
    "import sqlite3"
   ]
  },
  {
   "cell_type": "code",
   "execution_count": 2,
   "id": "innovative-syndrome",
   "metadata": {
    "execution": {
     "iopub.execute_input": "2021-11-10T09:30:08.606778Z",
     "iopub.status.busy": "2021-11-10T09:30:08.604493Z",
     "iopub.status.idle": "2021-11-10T09:30:09.405967Z",
     "shell.execute_reply": "2021-11-10T09:30:09.407230Z"
    },
    "papermill": {
     "duration": 0.835642,
     "end_time": "2021-11-10T09:30:09.407664",
     "exception": false,
     "start_time": "2021-11-10T09:30:08.572022",
     "status": "completed"
    },
    "tags": []
   },
   "outputs": [],
   "source": [
    "timestamps = pd.read_sql(\"select distinct record_time from EBAY_TOP_BERLIN order by record_time desc limit 2\", sqlite3.connect(\"UsedObjects.db\"))"
   ]
  },
  {
   "cell_type": "code",
   "execution_count": 3,
   "id": "periodic-identification",
   "metadata": {
    "execution": {
     "iopub.execute_input": "2021-11-10T09:30:09.481094Z",
     "iopub.status.busy": "2021-11-10T09:30:09.475356Z",
     "iopub.status.idle": "2021-11-10T09:30:09.498321Z",
     "shell.execute_reply": "2021-11-10T09:30:09.499745Z"
    },
    "papermill": {
     "duration": 0.072009,
     "end_time": "2021-11-10T09:30:09.500363",
     "exception": false,
     "start_time": "2021-11-10T09:30:09.428354",
     "status": "completed"
    },
    "tags": []
   },
   "outputs": [
    {
     "data": {
      "text/html": [
       "<div>\n",
       "<style scoped>\n",
       "    .dataframe tbody tr th:only-of-type {\n",
       "        vertical-align: middle;\n",
       "    }\n",
       "\n",
       "    .dataframe tbody tr th {\n",
       "        vertical-align: top;\n",
       "    }\n",
       "\n",
       "    .dataframe thead th {\n",
       "        text-align: right;\n",
       "    }\n",
       "</style>\n",
       "<table border=\"1\" class=\"dataframe\">\n",
       "  <thead>\n",
       "    <tr style=\"text-align: right;\">\n",
       "      <th></th>\n",
       "      <th>RECORD_TIME</th>\n",
       "    </tr>\n",
       "  </thead>\n",
       "  <tbody>\n",
       "    <tr>\n",
       "      <th>0</th>\n",
       "      <td>2021-11-10 10:30</td>\n",
       "    </tr>\n",
       "    <tr>\n",
       "      <th>1</th>\n",
       "      <td>2021-11-10 10:00</td>\n",
       "    </tr>\n",
       "  </tbody>\n",
       "</table>\n",
       "</div>"
      ],
      "text/plain": [
       "        RECORD_TIME\n",
       "0  2021-11-10 10:30\n",
       "1  2021-11-10 10:00"
      ]
     },
     "execution_count": 3,
     "metadata": {},
     "output_type": "execute_result"
    }
   ],
   "source": [
    "timestamps"
   ]
  },
  {
   "cell_type": "code",
   "execution_count": 4,
   "id": "alternate-victory",
   "metadata": {
    "execution": {
     "iopub.execute_input": "2021-11-10T09:30:09.557863Z",
     "iopub.status.busy": "2021-11-10T09:30:09.555040Z",
     "iopub.status.idle": "2021-11-10T09:30:10.683366Z",
     "shell.execute_reply": "2021-11-10T09:30:10.685019Z"
    },
    "papermill": {
     "duration": 1.163521,
     "end_time": "2021-11-10T09:30:10.685510",
     "exception": false,
     "start_time": "2021-11-10T09:30:09.521989",
     "status": "completed"
    },
    "tags": []
   },
   "outputs": [],
   "source": [
    "df = pd.read_sql(\"select * from EBAY_TOP_BERLIN where record_time in (select distinct record_time from EBAY_TOP_BERLIN order by record_time desc limit 2)\", sqlite3.connect(\"UsedObjects.db\"))"
   ]
  },
  {
   "cell_type": "code",
   "execution_count": 5,
   "id": "popular-active",
   "metadata": {
    "execution": {
     "iopub.execute_input": "2021-11-10T09:30:10.753811Z",
     "iopub.status.busy": "2021-11-10T09:30:10.750758Z",
     "iopub.status.idle": "2021-11-10T09:30:10.784175Z",
     "shell.execute_reply": "2021-11-10T09:30:10.785606Z"
    },
    "papermill": {
     "duration": 0.078829,
     "end_time": "2021-11-10T09:30:10.786074",
     "exception": false,
     "start_time": "2021-11-10T09:30:10.707245",
     "status": "completed"
    },
    "tags": []
   },
   "outputs": [],
   "source": [
    "df_pivot = df.pivot_table(index=\"PRODUCT\", columns = \"RECORD_TIME\", values = \"LISTING_COUNT\")"
   ]
  },
  {
   "cell_type": "code",
   "execution_count": 6,
   "id": "union-huntington",
   "metadata": {
    "execution": {
     "iopub.execute_input": "2021-11-10T09:30:10.844891Z",
     "iopub.status.busy": "2021-11-10T09:30:10.842608Z",
     "iopub.status.idle": "2021-11-10T09:30:10.847916Z",
     "shell.execute_reply": "2021-11-10T09:30:10.849590Z"
    },
    "papermill": {
     "duration": 0.043801,
     "end_time": "2021-11-10T09:30:10.850061",
     "exception": false,
     "start_time": "2021-11-10T09:30:10.806260",
     "status": "completed"
    },
    "tags": []
   },
   "outputs": [],
   "source": [
    "df_pivot.columns = [\"stamp_1\", \"stamp_2\"]\n",
    "df_pivot_diff = df_pivot.diff(axis=1)"
   ]
  },
  {
   "cell_type": "code",
   "execution_count": 7,
   "id": "fifth-motion",
   "metadata": {
    "execution": {
     "iopub.execute_input": "2021-11-10T09:30:10.910500Z",
     "iopub.status.busy": "2021-11-10T09:30:10.907043Z",
     "iopub.status.idle": "2021-11-10T09:30:12.706800Z",
     "shell.execute_reply": "2021-11-10T09:30:12.709655Z"
    },
    "papermill": {
     "duration": 1.839766,
     "end_time": "2021-11-10T09:30:12.710394",
     "exception": false,
     "start_time": "2021-11-10T09:30:10.870628",
     "status": "completed"
    },
    "tags": []
   },
   "outputs": [
    {
     "data": {
      "text/plain": [
       "<AxesSubplot:ylabel='PRODUCT'>"
      ]
     },
     "execution_count": 7,
     "metadata": {},
     "output_type": "execute_result"
    },
    {
     "data": {
      "image/png": "[encoded data removed]",
      "text/plain": [
       "<Figure size 432x288 with 1 Axes>"
      ]
     },
     "metadata": {
      "needs_background": "light"
     },
     "output_type": "display_data"
    }
   ],
   "source": [
    "df_pivot_diff.sort_values(\"stamp_2\", ascending = False)[\"stamp_2\"].head(10).plot.barh()"
   ]
  },
  {
   "cell_type": "code",
   "execution_count": null,
   "id": "extra-executive",
   "metadata": {
    "papermill": {
     "duration": 0.035391,
     "end_time": "2021-11-10T09:30:12.785241",
     "exception": false,
     "start_time": "2021-11-10T09:30:12.749850",
     "status": "completed"
    },
    "tags": []
   },
   "outputs": [],
   "source": []
  }
 ],
 "metadata": {
  "kernelspec": {
   "display_name": "Python 3",
   "language": "python",
   "name": "python3"
  },
  "language_info": {
   "codemirror_mode": {
    "name": "ipython",
    "version": 3
   },
   "file_extension": ".py",
   "mimetype": "text/x-python",
   "name": "python",
   "nbconvert_exporter": "python",
   "pygments_lexer": "ipython3",
   "version": "3.9.5"
  },
  "papermill": {
   "default_parameters": {},
   "duration": 8.893462,
   "end_time": "2021-11-10T09:30:13.666083",
   "environment_variables": {},
   "exception": null,
   "input_path": "eBay_Overview.ipynb",
   "output_path": "eBay_Overview.ipynb",
   "parameters": {},
   "start_time": "2021-11-10T09:30:04.772621",
   "version": "2.3.3"
  }
 },
 "nbformat": 4,
 "nbformat_minor": 5
}