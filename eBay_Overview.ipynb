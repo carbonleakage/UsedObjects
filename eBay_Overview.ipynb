{
 "cells": [
  {
   "cell_type": "code",
   "execution_count": 1,
   "id": "reverse-picking",
   "metadata": {
    "execution": {
     "iopub.execute_input": "2021-11-22T09:30:07.762251Z",
     "iopub.status.busy": "2021-11-22T09:30:07.759868Z",
     "iopub.status.idle": "2021-11-22T09:30:08.713548Z",
     "shell.execute_reply": "2021-11-22T09:30:08.715208Z"
    },
    "papermill": {
     "duration": 1.002779,
     "end_time": "2021-11-22T09:30:08.715950",
     "exception": false,
     "start_time": "2021-11-22T09:30:07.713171",
     "status": "completed"
    },
    "tags": []
   },
   "outputs": [],
   "source": [
    "import pandas as pd\n",
    "import sqlite3"
   ]
  },
  {
   "cell_type": "code",
   "execution_count": 2,
   "id": "innovative-syndrome",
   "metadata": {
    "execution": {
     "iopub.execute_input": "2021-11-22T09:30:08.782308Z",
     "iopub.status.busy": "2021-11-22T09:30:08.779994Z",
     "iopub.status.idle": "2021-11-22T09:30:09.665998Z",
     "shell.execute_reply": "2021-11-22T09:30:09.667516Z"
    },
    "papermill": {
     "duration": 0.921618,
     "end_time": "2021-11-22T09:30:09.668001",
     "exception": false,
     "start_time": "2021-11-22T09:30:08.746383",
     "status": "completed"
    },
    "tags": []
   },
   "outputs": [],
   "source": [
    "timestamps = pd.read_sql(\"select distinct record_time from EBAY_TOP_BERLIN order by record_time desc limit 2\", sqlite3.connect(\"UsedObjects.db\"))"
   ]
  },
  {
   "cell_type": "code",
   "execution_count": 3,
   "id": "periodic-identification",
   "metadata": {
    "execution": {
     "iopub.execute_input": "2021-11-22T09:30:09.740618Z",
     "iopub.status.busy": "2021-11-22T09:30:09.738356Z",
     "iopub.status.idle": "2021-11-22T09:30:09.760474Z",
     "shell.execute_reply": "2021-11-22T09:30:09.761945Z"
    },
    "papermill": {
     "duration": 0.072035,
     "end_time": "2021-11-22T09:30:09.762421",
     "exception": false,
     "start_time": "2021-11-22T09:30:09.690386",
     "status": "completed"
    },
    "tags": []
   },
   "outputs": [
    {
     "data": {
      "text/html": [
       "<div>\n",
       "<style scoped>\n",
       "    .dataframe tbody tr th:only-of-type {\n",
       "        vertical-align: middle;\n",
       "    }\n",
       "\n",
       "    .dataframe tbody tr th {\n",
       "        vertical-align: top;\n",
       "    }\n",
       "\n",
       "    .dataframe thead th {\n",
       "        text-align: right;\n",
       "    }\n",
       "</style>\n",
       "<table border=\"1\" class=\"dataframe\">\n",
       "  <thead>\n",
       "    <tr style=\"text-align: right;\">\n",
       "      <th></th>\n",
       "      <th>RECORD_TIME</th>\n",
       "    </tr>\n",
       "  </thead>\n",
       "  <tbody>\n",
       "    <tr>\n",
       "      <th>0</th>\n",
       "      <td>2021-11-22 10:30</td>\n",
       "    </tr>\n",
       "    <tr>\n",
       "      <th>1</th>\n",
       "      <td>2021-11-22 10:00</td>\n",
       "    </tr>\n",
       "  </tbody>\n",
       "</table>\n",
       "</div>"
      ],
      "text/plain": [
       "        RECORD_TIME\n",
       "0  2021-11-22 10:30\n",
       "1  2021-11-22 10:00"
      ]
     },
     "execution_count": 3,
     "metadata": {},
     "output_type": "execute_result"
    }
   ],
   "source": [
    "timestamps"
   ]
  },
  {
   "cell_type": "code",
   "execution_count": 4,
   "id": "alternate-victory",
   "metadata": {
    "execution": {
     "iopub.execute_input": "2021-11-22T09:30:09.815765Z",
     "iopub.status.busy": "2021-11-22T09:30:09.813766Z",
     "iopub.status.idle": "2021-11-22T09:30:11.122457Z",
     "shell.execute_reply": "2021-11-22T09:30:11.124826Z"
    },
    "papermill": {
     "duration": 1.342181,
     "end_time": "2021-11-22T09:30:11.125318",
     "exception": false,
     "start_time": "2021-11-22T09:30:09.783137",
     "status": "completed"
    },
    "tags": []
   },
   "outputs": [],
   "source": [
    "df = pd.read_sql(\"select * from EBAY_TOP_BERLIN where record_time in (select distinct record_time from EBAY_TOP_BERLIN order by record_time desc limit 2)\", sqlite3.connect(\"UsedObjects.db\"))"
   ]
  },
  {
   "cell_type": "code",
   "execution_count": 5,
   "id": "popular-active",
   "metadata": {
    "execution": {
     "iopub.execute_input": "2021-11-22T09:30:11.199707Z",
     "iopub.status.busy": "2021-11-22T09:30:11.191108Z",
     "iopub.status.idle": "2021-11-22T09:30:11.224778Z",
     "shell.execute_reply": "2021-11-22T09:30:11.226292Z"
    },
    "papermill": {
     "duration": 0.079615,
     "end_time": "2021-11-22T09:30:11.226781",
     "exception": false,
     "start_time": "2021-11-22T09:30:11.147166",
     "status": "completed"
    },
    "tags": []
   },
   "outputs": [],
   "source": [
    "df_pivot = df.pivot_table(index=\"PRODUCT\", columns = \"RECORD_TIME\", values = \"LISTING_COUNT\")"
   ]
  },
  {
   "cell_type": "code",
   "execution_count": 6,
   "id": "union-huntington",
   "metadata": {
    "execution": {
     "iopub.execute_input": "2021-11-22T09:30:11.289909Z",
     "iopub.status.busy": "2021-11-22T09:30:11.287718Z",
     "iopub.status.idle": "2021-11-22T09:30:11.293657Z",
     "shell.execute_reply": "2021-11-22T09:30:11.295044Z"
    },
    "papermill": {
     "duration": 0.045291,
     "end_time": "2021-11-22T09:30:11.295525",
     "exception": false,
     "start_time": "2021-11-22T09:30:11.250234",
     "status": "completed"
    },
    "tags": []
   },
   "outputs": [],
   "source": [
    "df_pivot.columns = [\"stamp_1\", \"stamp_2\"]\n",
    "df_pivot_diff = df_pivot.diff(axis=1)"
   ]
  },
  {
   "cell_type": "code",
   "execution_count": 7,
   "id": "fifth-motion",
   "metadata": {
    "execution": {
     "iopub.execute_input": "2021-11-22T09:30:11.352442Z",
     "iopub.status.busy": "2021-11-22T09:30:11.350033Z",
     "iopub.status.idle": "2021-11-22T09:30:13.120798Z",
     "shell.execute_reply": "2021-11-22T09:30:13.123204Z"
    },
    "papermill": {
     "duration": 1.807815,
     "end_time": "2021-11-22T09:30:13.123962",
     "exception": false,
     "start_time": "2021-11-22T09:30:11.316147",
     "status": "completed"
    },
    "tags": []
   },
   "outputs": [
    {
     "data": {
      "text/plain": [
       "<AxesSubplot:ylabel='PRODUCT'>"
      ]
     },
     "execution_count": 7,
     "metadata": {},
     "output_type": "execute_result"
    },
    {
     "data": {
      "image/png": "[encoded data removed]",
      "text/plain": [
       "<Figure size 432x288 with 1 Axes>"
      ]
     },
     "metadata": {
      "needs_background": "light"
     },
     "output_type": "display_data"
    }
   ],
   "source": [
    "df_pivot_diff.sort_values(\"stamp_2\", ascending = False)[\"stamp_2\"].head(10).plot.barh()"
   ]
  },
  {
   "cell_type": "code",
   "execution_count": null,
   "id": "extra-executive",
   "metadata": {
    "papermill": {
     "duration": 0.038407,
     "end_time": "2021-11-22T09:30:13.198595",
     "exception": false,
     "start_time": "2021-11-22T09:30:13.160188",
     "status": "completed"
    },
    "tags": []
   },
   "outputs": [],
   "source": []
  }
 ],
 "metadata": {
  "kernelspec": {
   "display_name": "Python 3",
   "language": "python",
   "name": "python3"
  },
  "language_info": {
   "codemirror_mode": {
    "name": "ipython",
    "version": 3
   },
   "file_extension": ".py",
   "mimetype": "text/x-python",
   "name": "python",
   "nbconvert_exporter": "python",
   "pygments_lexer": "ipython3",
   "version": "3.9.5"
  },
  "papermill": {
   "default_parameters": {},
   "duration": 10.009073,
   "end_time": "2021-11-22T09:30:14.905447",
   "environment_variables": {},
   "exception": null,
   "input_path": "eBay_Overview.ipynb",
   "output_path": "eBay_Overview.ipynb",
   "parameters": {},
   "start_time": "2021-11-22T09:30:04.896374",
   "version": "2.3.3"
  }
 },
 "nbformat": 4,
 "nbformat_minor": 5
}