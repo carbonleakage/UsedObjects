{
 "cells": [
  {
   "cell_type": "code",
   "execution_count": 1,
   "id": "reverse-picking",
   "metadata": {
    "execution": {
     "iopub.execute_input": "2021-10-31T23:30:07.858735Z",
     "iopub.status.busy": "2021-10-31T23:30:07.856787Z",
     "iopub.status.idle": "2021-10-31T23:30:08.663924Z",
     "shell.execute_reply": "2021-10-31T23:30:08.665383Z"
    },
    "papermill": {
     "duration": 0.861245,
     "end_time": "2021-10-31T23:30:08.666021",
     "exception": false,
     "start_time": "2021-10-31T23:30:07.804776",
     "status": "completed"
    },
    "tags": []
   },
   "outputs": [],
   "source": [
    "import pandas as pd\n",
    "import sqlite3"
   ]
  },
  {
   "cell_type": "code",
   "execution_count": 2,
   "id": "innovative-syndrome",
   "metadata": {
    "execution": {
     "iopub.execute_input": "2021-10-31T23:30:08.717890Z",
     "iopub.status.busy": "2021-10-31T23:30:08.715507Z",
     "iopub.status.idle": "2021-10-31T23:30:09.410672Z",
     "shell.execute_reply": "2021-10-31T23:30:09.411950Z"
    },
    "papermill": {
     "duration": 0.725131,
     "end_time": "2021-10-31T23:30:09.412369",
     "exception": false,
     "start_time": "2021-10-31T23:30:08.687238",
     "status": "completed"
    },
    "tags": []
   },
   "outputs": [],
   "source": [
    "timestamps = pd.read_sql(\"select distinct record_time from EBAY_TOP_BERLIN order by record_time desc limit 2\", sqlite3.connect(\"UsedObjects.db\"))"
   ]
  },
  {
   "cell_type": "code",
   "execution_count": 3,
   "id": "periodic-identification",
   "metadata": {
    "execution": {
     "iopub.execute_input": "2021-10-31T23:30:09.478809Z",
     "iopub.status.busy": "2021-10-31T23:30:09.476800Z",
     "iopub.status.idle": "2021-10-31T23:30:09.497632Z",
     "shell.execute_reply": "2021-10-31T23:30:09.498833Z"
    },
    "papermill": {
     "duration": 0.067599,
     "end_time": "2021-10-31T23:30:09.499260",
     "exception": false,
     "start_time": "2021-10-31T23:30:09.431661",
     "status": "completed"
    },
    "tags": []
   },
   "outputs": [
    {
     "data": {
      "text/html": [
       "<div>\n",
       "<style scoped>\n",
       "    .dataframe tbody tr th:only-of-type {\n",
       "        vertical-align: middle;\n",
       "    }\n",
       "\n",
       "    .dataframe tbody tr th {\n",
       "        vertical-align: top;\n",
       "    }\n",
       "\n",
       "    .dataframe thead th {\n",
       "        text-align: right;\n",
       "    }\n",
       "</style>\n",
       "<table border=\"1\" class=\"dataframe\">\n",
       "  <thead>\n",
       "    <tr style=\"text-align: right;\">\n",
       "      <th></th>\n",
       "      <th>RECORD_TIME</th>\n",
       "    </tr>\n",
       "  </thead>\n",
       "  <tbody>\n",
       "    <tr>\n",
       "      <th>0</th>\n",
       "      <td>2021-11-01 00:30</td>\n",
       "    </tr>\n",
       "    <tr>\n",
       "      <th>1</th>\n",
       "      <td>2021-11-01 00:00</td>\n",
       "    </tr>\n",
       "  </tbody>\n",
       "</table>\n",
       "</div>"
      ],
      "text/plain": [
       "        RECORD_TIME\n",
       "0  2021-11-01 00:30\n",
       "1  2021-11-01 00:00"
      ]
     },
     "execution_count": 3,
     "metadata": {},
     "output_type": "execute_result"
    }
   ],
   "source": [
    "timestamps"
   ]
  },
  {
   "cell_type": "code",
   "execution_count": 4,
   "id": "alternate-victory",
   "metadata": {
    "execution": {
     "iopub.execute_input": "2021-10-31T23:30:09.553222Z",
     "iopub.status.busy": "2021-10-31T23:30:09.550852Z",
     "iopub.status.idle": "2021-10-31T23:30:10.559339Z",
     "shell.execute_reply": "2021-10-31T23:30:10.560604Z"
    },
    "papermill": {
     "duration": 1.038671,
     "end_time": "2021-10-31T23:30:10.561104",
     "exception": false,
     "start_time": "2021-10-31T23:30:09.522433",
     "status": "completed"
    },
    "tags": []
   },
   "outputs": [],
   "source": [
    "df = pd.read_sql(\"select * from EBAY_TOP_BERLIN where record_time in (select distinct record_time from EBAY_TOP_BERLIN order by record_time desc limit 2)\", sqlite3.connect(\"UsedObjects.db\"))"
   ]
  },
  {
   "cell_type": "code",
   "execution_count": 5,
   "id": "popular-active",
   "metadata": {
    "execution": {
     "iopub.execute_input": "2021-10-31T23:30:10.629483Z",
     "iopub.status.busy": "2021-10-31T23:30:10.618338Z",
     "iopub.status.idle": "2021-10-31T23:30:10.646421Z",
     "shell.execute_reply": "2021-10-31T23:30:10.647688Z"
    },
    "papermill": {
     "duration": 0.066484,
     "end_time": "2021-10-31T23:30:10.648101",
     "exception": false,
     "start_time": "2021-10-31T23:30:10.581617",
     "status": "completed"
    },
    "tags": []
   },
   "outputs": [],
   "source": [
    "df_pivot = df.pivot_table(index=\"PRODUCT\", columns = \"RECORD_TIME\", values = \"LISTING_COUNT\")"
   ]
  },
  {
   "cell_type": "code",
   "execution_count": 6,
   "id": "union-huntington",
   "metadata": {
    "execution": {
     "iopub.execute_input": "2021-10-31T23:30:10.704402Z",
     "iopub.status.busy": "2021-10-31T23:30:10.701980Z",
     "iopub.status.idle": "2021-10-31T23:30:10.707771Z",
     "shell.execute_reply": "2021-10-31T23:30:10.709107Z"
    },
    "papermill": {
     "duration": 0.041993,
     "end_time": "2021-10-31T23:30:10.709535",
     "exception": false,
     "start_time": "2021-10-31T23:30:10.667542",
     "status": "completed"
    },
    "tags": []
   },
   "outputs": [],
   "source": [
    "df_pivot.columns = [\"stamp_1\", \"stamp_2\"]\n",
    "df_pivot_diff = df_pivot.diff(axis=1)"
   ]
  },
  {
   "cell_type": "code",
   "execution_count": 7,
   "id": "fifth-motion",
   "metadata": {
    "execution": {
     "iopub.execute_input": "2021-10-31T23:30:10.763498Z",
     "iopub.status.busy": "2021-10-31T23:30:10.761259Z",
     "iopub.status.idle": "2021-10-31T23:30:12.243937Z",
     "shell.execute_reply": "2021-10-31T23:30:12.245375Z"
    },
    "papermill": {
     "duration": 1.515895,
     "end_time": "2021-10-31T23:30:12.245832",
     "exception": false,
     "start_time": "2021-10-31T23:30:10.729937",
     "status": "completed"
    },
    "tags": []
   },
   "outputs": [
    {
     "data": {
      "text/plain": [
       "<AxesSubplot:ylabel='PRODUCT'>"
      ]
     },
     "execution_count": 7,
     "metadata": {},
     "output_type": "execute_result"
    },
    {
     "data": {
      "image/png": "[encoded data removed]",
      "text/plain": [
       "<Figure size 432x288 with 1 Axes>"
      ]
     },
     "metadata": {
      "needs_background": "light"
     },
     "output_type": "display_data"
    }
   ],
   "source": [
    "df_pivot_diff.sort_values(\"stamp_2\", ascending = False)[\"stamp_2\"].head(10).plot.barh()"
   ]
  },
  {
   "cell_type": "code",
   "execution_count": null,
   "id": "extra-executive",
   "metadata": {
    "papermill": {
     "duration": 0.022058,
     "end_time": "2021-10-31T23:30:12.292354",
     "exception": false,
     "start_time": "2021-10-31T23:30:12.270296",
     "status": "completed"
    },
    "tags": []
   },
   "outputs": [],
   "source": []
  }
 ],
 "metadata": {
  "kernelspec": {
   "display_name": "Python 3",
   "language": "python",
   "name": "python3"
  },
  "language_info": {
   "codemirror_mode": {
    "name": "ipython",
    "version": 3
   },
   "file_extension": ".py",
   "mimetype": "text/x-python",
   "name": "python",
   "nbconvert_exporter": "python",
   "pygments_lexer": "ipython3",
   "version": "3.9.5"
  },
  "papermill": {
   "default_parameters": {},
   "duration": 7.690172,
   "end_time": "2021-10-31T23:30:12.935806",
   "environment_variables": {},
   "exception": null,
   "input_path": "eBay_Overview.ipynb",
   "output_path": "eBay_Overview.ipynb",
   "parameters": {},
   "start_time": "2021-10-31T23:30:05.245634",
   "version": "2.3.3"
  }
 },
 "nbformat": 4,
 "nbformat_minor": 5
}