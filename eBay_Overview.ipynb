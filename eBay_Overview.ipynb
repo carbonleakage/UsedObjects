{
 "cells": [
  {
   "cell_type": "code",
   "execution_count": 1,
   "id": "reverse-picking",
   "metadata": {
    "execution": {
     "iopub.execute_input": "2021-09-11T15:30:07.503837Z",
     "iopub.status.busy": "2021-09-11T15:30:07.501781Z",
     "iopub.status.idle": "2021-09-11T15:30:08.316110Z",
     "shell.execute_reply": "2021-09-11T15:30:08.313441Z"
    },
    "papermill": {
     "duration": 0.861883,
     "end_time": "2021-09-11T15:30:08.316565",
     "exception": false,
     "start_time": "2021-09-11T15:30:07.454682",
     "status": "completed"
    },
    "tags": []
   },
   "outputs": [],
   "source": [
    "import pandas as pd\n",
    "import sqlite3"
   ]
  },
  {
   "cell_type": "code",
   "execution_count": 2,
   "id": "innovative-syndrome",
   "metadata": {
    "execution": {
     "iopub.execute_input": "2021-09-11T15:30:08.367476Z",
     "iopub.status.busy": "2021-09-11T15:30:08.365414Z",
     "iopub.status.idle": "2021-09-11T15:30:08.632713Z",
     "shell.execute_reply": "2021-09-11T15:30:08.634001Z"
    },
    "papermill": {
     "duration": 0.297077,
     "end_time": "2021-09-11T15:30:08.634416",
     "exception": false,
     "start_time": "2021-09-11T15:30:08.337339",
     "status": "completed"
    },
    "tags": []
   },
   "outputs": [],
   "source": [
    "timestamps = pd.read_sql(\"select distinct record_time from EBAY_TOP_BERLIN order by record_time desc limit 2\", sqlite3.connect(\"UsedObjects.db\"))"
   ]
  },
  {
   "cell_type": "code",
   "execution_count": 3,
   "id": "periodic-identification",
   "metadata": {
    "execution": {
     "iopub.execute_input": "2021-09-11T15:30:08.700191Z",
     "iopub.status.busy": "2021-09-11T15:30:08.698096Z",
     "iopub.status.idle": "2021-09-11T15:30:08.718572Z",
     "shell.execute_reply": "2021-09-11T15:30:08.719946Z"
    },
    "papermill": {
     "duration": 0.067159,
     "end_time": "2021-09-11T15:30:08.720365",
     "exception": false,
     "start_time": "2021-09-11T15:30:08.653206",
     "status": "completed"
    },
    "tags": []
   },
   "outputs": [
    {
     "data": {
      "text/html": [
       "<div>\n",
       "<style scoped>\n",
       "    .dataframe tbody tr th:only-of-type {\n",
       "        vertical-align: middle;\n",
       "    }\n",
       "\n",
       "    .dataframe tbody tr th {\n",
       "        vertical-align: top;\n",
       "    }\n",
       "\n",
       "    .dataframe thead th {\n",
       "        text-align: right;\n",
       "    }\n",
       "</style>\n",
       "<table border=\"1\" class=\"dataframe\">\n",
       "  <thead>\n",
       "    <tr style=\"text-align: right;\">\n",
       "      <th></th>\n",
       "      <th>RECORD_TIME</th>\n",
       "    </tr>\n",
       "  </thead>\n",
       "  <tbody>\n",
       "    <tr>\n",
       "      <th>0</th>\n",
       "      <td>2021-09-11 17:30</td>\n",
       "    </tr>\n",
       "    <tr>\n",
       "      <th>1</th>\n",
       "      <td>2021-09-11 17:00</td>\n",
       "    </tr>\n",
       "  </tbody>\n",
       "</table>\n",
       "</div>"
      ],
      "text/plain": [
       "        RECORD_TIME\n",
       "0  2021-09-11 17:30\n",
       "1  2021-09-11 17:00"
      ]
     },
     "execution_count": 3,
     "metadata": {},
     "output_type": "execute_result"
    }
   ],
   "source": [
    "timestamps"
   ]
  },
  {
   "cell_type": "code",
   "execution_count": 4,
   "id": "alternate-victory",
   "metadata": {
    "execution": {
     "iopub.execute_input": "2021-09-11T15:30:08.771031Z",
     "iopub.status.busy": "2021-09-11T15:30:08.769124Z",
     "iopub.status.idle": "2021-09-11T15:30:09.173636Z",
     "shell.execute_reply": "2021-09-11T15:30:09.174850Z"
    },
    "papermill": {
     "duration": 0.434226,
     "end_time": "2021-09-11T15:30:09.175349",
     "exception": false,
     "start_time": "2021-09-11T15:30:08.741123",
     "status": "completed"
    },
    "tags": []
   },
   "outputs": [],
   "source": [
    "df = pd.read_sql(\"select * from EBAY_TOP_BERLIN where record_time in (select distinct record_time from EBAY_TOP_BERLIN order by record_time desc limit 2)\", sqlite3.connect(\"UsedObjects.db\"))"
   ]
  },
  {
   "cell_type": "code",
   "execution_count": 5,
   "id": "popular-active",
   "metadata": {
    "execution": {
     "iopub.execute_input": "2021-09-11T15:30:09.253942Z",
     "iopub.status.busy": "2021-09-11T15:30:09.242795Z",
     "iopub.status.idle": "2021-09-11T15:30:09.271613Z",
     "shell.execute_reply": "2021-09-11T15:30:09.273050Z"
    },
    "papermill": {
     "duration": 0.072367,
     "end_time": "2021-09-11T15:30:09.273487",
     "exception": false,
     "start_time": "2021-09-11T15:30:09.201120",
     "status": "completed"
    },
    "tags": []
   },
   "outputs": [],
   "source": [
    "df_pivot = df.pivot_table(index=\"PRODUCT\", columns = \"RECORD_TIME\", values = \"LISTING_COUNT\")"
   ]
  },
  {
   "cell_type": "code",
   "execution_count": 6,
   "id": "union-huntington",
   "metadata": {
    "execution": {
     "iopub.execute_input": "2021-09-11T15:30:09.330696Z",
     "iopub.status.busy": "2021-09-11T15:30:09.328263Z",
     "iopub.status.idle": "2021-09-11T15:30:09.334060Z",
     "shell.execute_reply": "2021-09-11T15:30:09.335399Z"
    },
    "papermill": {
     "duration": 0.042229,
     "end_time": "2021-09-11T15:30:09.335817",
     "exception": false,
     "start_time": "2021-09-11T15:30:09.293588",
     "status": "completed"
    },
    "tags": []
   },
   "outputs": [],
   "source": [
    "df_pivot.columns = [\"stamp_1\", \"stamp_2\"]\n",
    "df_pivot_diff = df_pivot.diff(axis=1)"
   ]
  },
  {
   "cell_type": "code",
   "execution_count": 7,
   "id": "fifth-motion",
   "metadata": {
    "execution": {
     "iopub.execute_input": "2021-09-11T15:30:09.389878Z",
     "iopub.status.busy": "2021-09-11T15:30:09.387593Z",
     "iopub.status.idle": "2021-09-11T15:30:10.892626Z",
     "shell.execute_reply": "2021-09-11T15:30:10.893996Z"
    },
    "papermill": {
     "duration": 1.538242,
     "end_time": "2021-09-11T15:30:10.894437",
     "exception": false,
     "start_time": "2021-09-11T15:30:09.356195",
     "status": "completed"
    },
    "tags": []
   },
   "outputs": [
    {
     "data": {
      "text/plain": [
       "<AxesSubplot:ylabel='PRODUCT'>"
      ]
     },
     "execution_count": 7,
     "metadata": {},
     "output_type": "execute_result"
    },
    {
     "data": {
      "image/png": "[encoded data removed]",
      "text/plain": [
       "<Figure size 432x288 with 1 Axes>"
      ]
     },
     "metadata": {
      "needs_background": "light"
     },
     "output_type": "display_data"
    }
   ],
   "source": [
    "df_pivot_diff.sort_values(\"stamp_2\", ascending = False)[\"stamp_2\"].head(10).plot.barh()"
   ]
  },
  {
   "cell_type": "code",
   "execution_count": null,
   "id": "extra-executive",
   "metadata": {
    "papermill": {
     "duration": 0.021906,
     "end_time": "2021-09-11T15:30:10.941011",
     "exception": false,
     "start_time": "2021-09-11T15:30:10.919105",
     "status": "completed"
    },
    "tags": []
   },
   "outputs": [],
   "source": []
  }
 ],
 "metadata": {
  "kernelspec": {
   "display_name": "Python 3",
   "language": "python",
   "name": "python3"
  },
  "language_info": {
   "codemirror_mode": {
    "name": "ipython",
    "version": 3
   },
   "file_extension": ".py",
   "mimetype": "text/x-python",
   "name": "python",
   "nbconvert_exporter": "python",
   "pygments_lexer": "ipython3",
   "version": "3.9.5"
  },
  "papermill": {
   "default_parameters": {},
   "duration": 6.542622,
   "end_time": "2021-09-11T15:30:11.580539",
   "environment_variables": {},
   "exception": null,
   "input_path": "eBay_Overview.ipynb",
   "output_path": "eBay_Overview.ipynb",
   "parameters": {},
   "start_time": "2021-09-11T15:30:05.037917",
   "version": "2.3.3"
  }
 },
 "nbformat": 4,
 "nbformat_minor": 5
}