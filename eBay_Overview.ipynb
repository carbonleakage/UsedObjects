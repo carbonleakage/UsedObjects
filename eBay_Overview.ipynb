{
 "cells": [
  {
   "cell_type": "code",
   "execution_count": 1,
   "id": "reverse-picking",
   "metadata": {
    "execution": {
     "iopub.execute_input": "2021-11-23T21:00:07.985213Z",
     "iopub.status.busy": "2021-11-23T21:00:07.982791Z",
     "iopub.status.idle": "2021-11-23T21:00:08.953526Z",
     "shell.execute_reply": "2021-11-23T21:00:08.955083Z"
    },
    "papermill": {
     "duration": 1.018533,
     "end_time": "2021-11-23T21:00:08.955878",
     "exception": false,
     "start_time": "2021-11-23T21:00:07.937345",
     "status": "completed"
    },
    "tags": []
   },
   "outputs": [],
   "source": [
    "import pandas as pd\n",
    "import sqlite3"
   ]
  },
  {
   "cell_type": "code",
   "execution_count": 2,
   "id": "innovative-syndrome",
   "metadata": {
    "execution": {
     "iopub.execute_input": "2021-11-23T21:00:09.016291Z",
     "iopub.status.busy": "2021-11-23T21:00:09.013940Z",
     "iopub.status.idle": "2021-11-23T21:00:09.912540Z",
     "shell.execute_reply": "2021-11-23T21:00:09.914247Z"
    },
    "papermill": {
     "duration": 0.933147,
     "end_time": "2021-11-23T21:00:09.914722",
     "exception": false,
     "start_time": "2021-11-23T21:00:08.981575",
     "status": "completed"
    },
    "tags": []
   },
   "outputs": [],
   "source": [
    "timestamps = pd.read_sql(\"select distinct record_time from EBAY_TOP_BERLIN order by record_time desc limit 2\", sqlite3.connect(\"UsedObjects.db\"))"
   ]
  },
  {
   "cell_type": "code",
   "execution_count": 3,
   "id": "periodic-identification",
   "metadata": {
    "execution": {
     "iopub.execute_input": "2021-11-23T21:00:09.988794Z",
     "iopub.status.busy": "2021-11-23T21:00:09.986278Z",
     "iopub.status.idle": "2021-11-23T21:00:10.009668Z",
     "shell.execute_reply": "2021-11-23T21:00:10.011371Z"
    },
    "papermill": {
     "duration": 0.076599,
     "end_time": "2021-11-23T21:00:10.011959",
     "exception": false,
     "start_time": "2021-11-23T21:00:09.935360",
     "status": "completed"
    },
    "tags": []
   },
   "outputs": [
    {
     "data": {
      "text/html": [
       "<div>\n",
       "<style scoped>\n",
       "    .dataframe tbody tr th:only-of-type {\n",
       "        vertical-align: middle;\n",
       "    }\n",
       "\n",
       "    .dataframe tbody tr th {\n",
       "        vertical-align: top;\n",
       "    }\n",
       "\n",
       "    .dataframe thead th {\n",
       "        text-align: right;\n",
       "    }\n",
       "</style>\n",
       "<table border=\"1\" class=\"dataframe\">\n",
       "  <thead>\n",
       "    <tr style=\"text-align: right;\">\n",
       "      <th></th>\n",
       "      <th>RECORD_TIME</th>\n",
       "    </tr>\n",
       "  </thead>\n",
       "  <tbody>\n",
       "    <tr>\n",
       "      <th>0</th>\n",
       "      <td>2021-11-23 22:00</td>\n",
       "    </tr>\n",
       "    <tr>\n",
       "      <th>1</th>\n",
       "      <td>2021-11-23 21:30</td>\n",
       "    </tr>\n",
       "  </tbody>\n",
       "</table>\n",
       "</div>"
      ],
      "text/plain": [
       "        RECORD_TIME\n",
       "0  2021-11-23 22:00\n",
       "1  2021-11-23 21:30"
      ]
     },
     "execution_count": 3,
     "metadata": {},
     "output_type": "execute_result"
    }
   ],
   "source": [
    "timestamps"
   ]
  },
  {
   "cell_type": "code",
   "execution_count": 4,
   "id": "alternate-victory",
   "metadata": {
    "execution": {
     "iopub.execute_input": "2021-11-23T21:00:10.068816Z",
     "iopub.status.busy": "2021-11-23T21:00:10.066533Z",
     "iopub.status.idle": "2021-11-23T21:00:11.349843Z",
     "shell.execute_reply": "2021-11-23T21:00:11.352415Z"
    },
    "papermill": {
     "duration": 1.319255,
     "end_time": "2021-11-23T21:00:11.353347",
     "exception": false,
     "start_time": "2021-11-23T21:00:10.034092",
     "status": "completed"
    },
    "tags": []
   },
   "outputs": [],
   "source": [
    "df = pd.read_sql(\"select * from EBAY_TOP_BERLIN where record_time in (select distinct record_time from EBAY_TOP_BERLIN order by record_time desc limit 2)\", sqlite3.connect(\"UsedObjects.db\"))"
   ]
  },
  {
   "cell_type": "code",
   "execution_count": 5,
   "id": "popular-active",
   "metadata": {
    "execution": {
     "iopub.execute_input": "2021-11-23T21:00:11.444823Z",
     "iopub.status.busy": "2021-11-23T21:00:11.430518Z",
     "iopub.status.idle": "2021-11-23T21:00:11.463830Z",
     "shell.execute_reply": "2021-11-23T21:00:11.465359Z"
    },
    "papermill": {
     "duration": 0.080562,
     "end_time": "2021-11-23T21:00:11.465855",
     "exception": false,
     "start_time": "2021-11-23T21:00:11.385293",
     "status": "completed"
    },
    "tags": []
   },
   "outputs": [],
   "source": [
    "df_pivot = df.pivot_table(index=\"PRODUCT\", columns = \"RECORD_TIME\", values = \"LISTING_COUNT\")"
   ]
  },
  {
   "cell_type": "code",
   "execution_count": 6,
   "id": "union-huntington",
   "metadata": {
    "execution": {
     "iopub.execute_input": "2021-11-23T21:00:11.527876Z",
     "iopub.status.busy": "2021-11-23T21:00:11.525456Z",
     "iopub.status.idle": "2021-11-23T21:00:11.530804Z",
     "shell.execute_reply": "2021-11-23T21:00:11.532154Z"
    },
    "papermill": {
     "duration": 0.044419,
     "end_time": "2021-11-23T21:00:11.532659",
     "exception": false,
     "start_time": "2021-11-23T21:00:11.488240",
     "status": "completed"
    },
    "tags": []
   },
   "outputs": [],
   "source": [
    "df_pivot.columns = [\"stamp_1\", \"stamp_2\"]\n",
    "df_pivot_diff = df_pivot.diff(axis=1)"
   ]
  },
  {
   "cell_type": "code",
   "execution_count": 7,
   "id": "fifth-motion",
   "metadata": {
    "execution": {
     "iopub.execute_input": "2021-11-23T21:00:11.591125Z",
     "iopub.status.busy": "2021-11-23T21:00:11.588328Z",
     "iopub.status.idle": "2021-11-23T21:00:13.520537Z",
     "shell.execute_reply": "2021-11-23T21:00:13.522161Z"
    },
    "papermill": {
     "duration": 1.969992,
     "end_time": "2021-11-23T21:00:13.522662",
     "exception": false,
     "start_time": "2021-11-23T21:00:11.552670",
     "status": "completed"
    },
    "tags": []
   },
   "outputs": [
    {
     "data": {
      "text/plain": [
       "<AxesSubplot:ylabel='PRODUCT'>"
      ]
     },
     "execution_count": 7,
     "metadata": {},
     "output_type": "execute_result"
    },
    {
     "data": {
      "image/png": "[encoded data removed]",
      "text/plain": [
       "<Figure size 432x288 with 1 Axes>"
      ]
     },
     "metadata": {
      "needs_background": "light"
     },
     "output_type": "display_data"
    }
   ],
   "source": [
    "df_pivot_diff.sort_values(\"stamp_2\", ascending = False)[\"stamp_2\"].head(10).plot.barh()"
   ]
  },
  {
   "cell_type": "code",
   "execution_count": null,
   "id": "extra-executive",
   "metadata": {
    "papermill": {
     "duration": 0.024366,
     "end_time": "2021-11-23T21:00:13.570424",
     "exception": false,
     "start_time": "2021-11-23T21:00:13.546058",
     "status": "completed"
    },
    "tags": []
   },
   "outputs": [],
   "source": []
  }
 ],
 "metadata": {
  "kernelspec": {
   "display_name": "Python 3",
   "language": "python",
   "name": "python3"
  },
  "language_info": {
   "codemirror_mode": {
    "name": "ipython",
    "version": 3
   },
   "file_extension": ".py",
   "mimetype": "text/x-python",
   "name": "python",
   "nbconvert_exporter": "python",
   "pygments_lexer": "ipython3",
   "version": "3.9.5"
  },
  "papermill": {
   "default_parameters": {},
   "duration": 9.943451,
   "end_time": "2021-11-23T21:00:15.122875",
   "environment_variables": {},
   "exception": null,
   "input_path": "eBay_Overview.ipynb",
   "output_path": "eBay_Overview.ipynb",
   "parameters": {},
   "start_time": "2021-11-23T21:00:05.179424",
   "version": "2.3.3"
  }
 },
 "nbformat": 4,
 "nbformat_minor": 5
}