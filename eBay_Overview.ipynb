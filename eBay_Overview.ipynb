{
 "cells": [
  {
   "cell_type": "code",
   "execution_count": 1,
   "id": "reverse-picking",
   "metadata": {
    "execution": {
     "iopub.execute_input": "2021-10-26T03:30:07.474908Z",
     "iopub.status.busy": "2021-10-26T03:30:07.472932Z",
     "iopub.status.idle": "2021-10-26T03:30:08.279641Z",
     "shell.execute_reply": "2021-10-26T03:30:08.280961Z"
    },
    "papermill": {
     "duration": 0.858777,
     "end_time": "2021-10-26T03:30:08.281611",
     "exception": false,
     "start_time": "2021-10-26T03:30:07.422834",
     "status": "completed"
    },
    "tags": []
   },
   "outputs": [],
   "source": [
    "import pandas as pd\n",
    "import sqlite3"
   ]
  },
  {
   "cell_type": "code",
   "execution_count": 2,
   "id": "innovative-syndrome",
   "metadata": {
    "execution": {
     "iopub.execute_input": "2021-10-26T03:30:08.334495Z",
     "iopub.status.busy": "2021-10-26T03:30:08.332223Z",
     "iopub.status.idle": "2021-10-26T03:30:08.983055Z",
     "shell.execute_reply": "2021-10-26T03:30:08.984329Z"
    },
    "papermill": {
     "duration": 0.680546,
     "end_time": "2021-10-26T03:30:08.984781",
     "exception": false,
     "start_time": "2021-10-26T03:30:08.304235",
     "status": "completed"
    },
    "tags": []
   },
   "outputs": [],
   "source": [
    "timestamps = pd.read_sql(\"select distinct record_time from EBAY_TOP_BERLIN order by record_time desc limit 2\", sqlite3.connect(\"UsedObjects.db\"))"
   ]
  },
  {
   "cell_type": "code",
   "execution_count": 3,
   "id": "periodic-identification",
   "metadata": {
    "execution": {
     "iopub.execute_input": "2021-10-26T03:30:09.060918Z",
     "iopub.status.busy": "2021-10-26T03:30:09.058819Z",
     "iopub.status.idle": "2021-10-26T03:30:09.080473Z",
     "shell.execute_reply": "2021-10-26T03:30:09.081993Z"
    },
    "papermill": {
     "duration": 0.071401,
     "end_time": "2021-10-26T03:30:09.082430",
     "exception": false,
     "start_time": "2021-10-26T03:30:09.011029",
     "status": "completed"
    },
    "tags": []
   },
   "outputs": [
    {
     "data": {
      "text/html": [
       "<div>\n",
       "<style scoped>\n",
       "    .dataframe tbody tr th:only-of-type {\n",
       "        vertical-align: middle;\n",
       "    }\n",
       "\n",
       "    .dataframe tbody tr th {\n",
       "        vertical-align: top;\n",
       "    }\n",
       "\n",
       "    .dataframe thead th {\n",
       "        text-align: right;\n",
       "    }\n",
       "</style>\n",
       "<table border=\"1\" class=\"dataframe\">\n",
       "  <thead>\n",
       "    <tr style=\"text-align: right;\">\n",
       "      <th></th>\n",
       "      <th>RECORD_TIME</th>\n",
       "    </tr>\n",
       "  </thead>\n",
       "  <tbody>\n",
       "    <tr>\n",
       "      <th>0</th>\n",
       "      <td>2021-10-26 05:30</td>\n",
       "    </tr>\n",
       "    <tr>\n",
       "      <th>1</th>\n",
       "      <td>2021-10-26 05:00</td>\n",
       "    </tr>\n",
       "  </tbody>\n",
       "</table>\n",
       "</div>"
      ],
      "text/plain": [
       "        RECORD_TIME\n",
       "0  2021-10-26 05:30\n",
       "1  2021-10-26 05:00"
      ]
     },
     "execution_count": 3,
     "metadata": {},
     "output_type": "execute_result"
    }
   ],
   "source": [
    "timestamps"
   ]
  },
  {
   "cell_type": "code",
   "execution_count": 4,
   "id": "alternate-victory",
   "metadata": {
    "execution": {
     "iopub.execute_input": "2021-10-26T03:30:09.134469Z",
     "iopub.status.busy": "2021-10-26T03:30:09.132058Z",
     "iopub.status.idle": "2021-10-26T03:30:10.080964Z",
     "shell.execute_reply": "2021-10-26T03:30:10.082201Z"
    },
    "papermill": {
     "duration": 0.979201,
     "end_time": "2021-10-26T03:30:10.082596",
     "exception": false,
     "start_time": "2021-10-26T03:30:09.103395",
     "status": "completed"
    },
    "tags": []
   },
   "outputs": [],
   "source": [
    "df = pd.read_sql(\"select * from EBAY_TOP_BERLIN where record_time in (select distinct record_time from EBAY_TOP_BERLIN order by record_time desc limit 2)\", sqlite3.connect(\"UsedObjects.db\"))"
   ]
  },
  {
   "cell_type": "code",
   "execution_count": 5,
   "id": "popular-active",
   "metadata": {
    "execution": {
     "iopub.execute_input": "2021-10-26T03:30:10.152629Z",
     "iopub.status.busy": "2021-10-26T03:30:10.141470Z",
     "iopub.status.idle": "2021-10-26T03:30:10.169915Z",
     "shell.execute_reply": "2021-10-26T03:30:10.171353Z"
    },
    "papermill": {
     "duration": 0.067246,
     "end_time": "2021-10-26T03:30:10.171788",
     "exception": false,
     "start_time": "2021-10-26T03:30:10.104542",
     "status": "completed"
    },
    "tags": []
   },
   "outputs": [],
   "source": [
    "df_pivot = df.pivot_table(index=\"PRODUCT\", columns = \"RECORD_TIME\", values = \"LISTING_COUNT\")"
   ]
  },
  {
   "cell_type": "code",
   "execution_count": 6,
   "id": "union-huntington",
   "metadata": {
    "execution": {
     "iopub.execute_input": "2021-10-26T03:30:10.228671Z",
     "iopub.status.busy": "2021-10-26T03:30:10.226613Z",
     "iopub.status.idle": "2021-10-26T03:30:10.231965Z",
     "shell.execute_reply": "2021-10-26T03:30:10.233232Z"
    },
    "papermill": {
     "duration": 0.041291,
     "end_time": "2021-10-26T03:30:10.233675",
     "exception": false,
     "start_time": "2021-10-26T03:30:10.192384",
     "status": "completed"
    },
    "tags": []
   },
   "outputs": [],
   "source": [
    "df_pivot.columns = [\"stamp_1\", \"stamp_2\"]\n",
    "df_pivot_diff = df_pivot.diff(axis=1)"
   ]
  },
  {
   "cell_type": "code",
   "execution_count": 7,
   "id": "fifth-motion",
   "metadata": {
    "execution": {
     "iopub.execute_input": "2021-10-26T03:30:10.288016Z",
     "iopub.status.busy": "2021-10-26T03:30:10.285582Z",
     "iopub.status.idle": "2021-10-26T03:30:11.763990Z",
     "shell.execute_reply": "2021-10-26T03:30:11.765355Z"
    },
    "papermill": {
     "duration": 1.511559,
     "end_time": "2021-10-26T03:30:11.765810",
     "exception": false,
     "start_time": "2021-10-26T03:30:10.254251",
     "status": "completed"
    },
    "tags": []
   },
   "outputs": [
    {
     "data": {
      "text/plain": [
       "<AxesSubplot:ylabel='PRODUCT'>"
      ]
     },
     "execution_count": 7,
     "metadata": {},
     "output_type": "execute_result"
    },
    {
     "data": {
      "image/png": "[encoded data removed]",
      "text/plain": [
       "<Figure size 432x288 with 1 Axes>"
      ]
     },
     "metadata": {
      "needs_background": "light"
     },
     "output_type": "display_data"
    }
   ],
   "source": [
    "df_pivot_diff.sort_values(\"stamp_2\", ascending = False)[\"stamp_2\"].head(10).plot.barh()"
   ]
  },
  {
   "cell_type": "code",
   "execution_count": null,
   "id": "extra-executive",
   "metadata": {
    "papermill": {
     "duration": 0.022459,
     "end_time": "2021-10-26T03:30:11.813098",
     "exception": false,
     "start_time": "2021-10-26T03:30:11.790639",
     "status": "completed"
    },
    "tags": []
   },
   "outputs": [],
   "source": []
  }
 ],
 "metadata": {
  "kernelspec": {
   "display_name": "Python 3",
   "language": "python",
   "name": "python3"
  },
  "language_info": {
   "codemirror_mode": {
    "name": "ipython",
    "version": 3
   },
   "file_extension": ".py",
   "mimetype": "text/x-python",
   "name": "python",
   "nbconvert_exporter": "python",
   "pygments_lexer": "ipython3",
   "version": "3.9.5"
  },
  "papermill": {
   "default_parameters": {},
   "duration": 7.440815,
   "end_time": "2021-10-26T03:30:12.457745",
   "environment_variables": {},
   "exception": null,
   "input_path": "eBay_Overview.ipynb",
   "output_path": "eBay_Overview.ipynb",
   "parameters": {},
   "start_time": "2021-10-26T03:30:05.016930",
   "version": "2.3.3"
  }
 },
 "nbformat": 4,
 "nbformat_minor": 5
}