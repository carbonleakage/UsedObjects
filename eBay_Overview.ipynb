{
 "cells": [
  {
   "cell_type": "code",
   "execution_count": 1,
   "id": "reverse-picking",
   "metadata": {
    "execution": {
     "iopub.execute_input": "2021-09-16T10:30:07.397928Z",
     "iopub.status.busy": "2021-09-16T10:30:07.395922Z",
     "iopub.status.idle": "2021-09-16T10:30:08.194425Z",
     "shell.execute_reply": "2021-09-16T10:30:08.195925Z"
    },
    "papermill": {
     "duration": 0.848701,
     "end_time": "2021-09-16T10:30:08.196695",
     "exception": false,
     "start_time": "2021-09-16T10:30:07.347994",
     "status": "completed"
    },
    "tags": []
   },
   "outputs": [],
   "source": [
    "import pandas as pd\n",
    "import sqlite3"
   ]
  },
  {
   "cell_type": "code",
   "execution_count": 2,
   "id": "innovative-syndrome",
   "metadata": {
    "execution": {
     "iopub.execute_input": "2021-09-16T10:30:08.248410Z",
     "iopub.status.busy": "2021-09-16T10:30:08.246005Z",
     "iopub.status.idle": "2021-09-16T10:30:08.590672Z",
     "shell.execute_reply": "2021-09-16T10:30:08.592030Z"
    },
    "papermill": {
     "duration": 0.374814,
     "end_time": "2021-09-16T10:30:08.592581",
     "exception": false,
     "start_time": "2021-09-16T10:30:08.217767",
     "status": "completed"
    },
    "tags": []
   },
   "outputs": [],
   "source": [
    "timestamps = pd.read_sql(\"select distinct record_time from EBAY_TOP_BERLIN order by record_time desc limit 2\", sqlite3.connect(\"UsedObjects.db\"))"
   ]
  },
  {
   "cell_type": "code",
   "execution_count": 3,
   "id": "periodic-identification",
   "metadata": {
    "execution": {
     "iopub.execute_input": "2021-09-16T10:30:08.659825Z",
     "iopub.status.busy": "2021-09-16T10:30:08.657677Z",
     "iopub.status.idle": "2021-09-16T10:30:08.677447Z",
     "shell.execute_reply": "2021-09-16T10:30:08.678995Z"
    },
    "papermill": {
     "duration": 0.066382,
     "end_time": "2021-09-16T10:30:08.679439",
     "exception": false,
     "start_time": "2021-09-16T10:30:08.613057",
     "status": "completed"
    },
    "tags": []
   },
   "outputs": [
    {
     "data": {
      "text/html": [
       "<div>\n",
       "<style scoped>\n",
       "    .dataframe tbody tr th:only-of-type {\n",
       "        vertical-align: middle;\n",
       "    }\n",
       "\n",
       "    .dataframe tbody tr th {\n",
       "        vertical-align: top;\n",
       "    }\n",
       "\n",
       "    .dataframe thead th {\n",
       "        text-align: right;\n",
       "    }\n",
       "</style>\n",
       "<table border=\"1\" class=\"dataframe\">\n",
       "  <thead>\n",
       "    <tr style=\"text-align: right;\">\n",
       "      <th></th>\n",
       "      <th>RECORD_TIME</th>\n",
       "    </tr>\n",
       "  </thead>\n",
       "  <tbody>\n",
       "    <tr>\n",
       "      <th>0</th>\n",
       "      <td>2021-09-16 12:30</td>\n",
       "    </tr>\n",
       "    <tr>\n",
       "      <th>1</th>\n",
       "      <td>2021-09-16 12:00</td>\n",
       "    </tr>\n",
       "  </tbody>\n",
       "</table>\n",
       "</div>"
      ],
      "text/plain": [
       "        RECORD_TIME\n",
       "0  2021-09-16 12:30\n",
       "1  2021-09-16 12:00"
      ]
     },
     "execution_count": 3,
     "metadata": {},
     "output_type": "execute_result"
    }
   ],
   "source": [
    "timestamps"
   ]
  },
  {
   "cell_type": "code",
   "execution_count": 4,
   "id": "alternate-victory",
   "metadata": {
    "execution": {
     "iopub.execute_input": "2021-09-16T10:30:08.730761Z",
     "iopub.status.busy": "2021-09-16T10:30:08.728838Z",
     "iopub.status.idle": "2021-09-16T10:30:09.187355Z",
     "shell.execute_reply": "2021-09-16T10:30:09.188575Z"
    },
    "papermill": {
     "duration": 0.488462,
     "end_time": "2021-09-16T10:30:09.188972",
     "exception": false,
     "start_time": "2021-09-16T10:30:08.700510",
     "status": "completed"
    },
    "tags": []
   },
   "outputs": [],
   "source": [
    "df = pd.read_sql(\"select * from EBAY_TOP_BERLIN where record_time in (select distinct record_time from EBAY_TOP_BERLIN order by record_time desc limit 2)\", sqlite3.connect(\"UsedObjects.db\"))"
   ]
  },
  {
   "cell_type": "code",
   "execution_count": 5,
   "id": "popular-active",
   "metadata": {
    "execution": {
     "iopub.execute_input": "2021-09-16T10:30:09.271091Z",
     "iopub.status.busy": "2021-09-16T10:30:09.258549Z",
     "iopub.status.idle": "2021-09-16T10:30:09.286561Z",
     "shell.execute_reply": "2021-09-16T10:30:09.287865Z"
    },
    "papermill": {
     "duration": 0.07034,
     "end_time": "2021-09-16T10:30:09.288268",
     "exception": false,
     "start_time": "2021-09-16T10:30:09.217928",
     "status": "completed"
    },
    "tags": []
   },
   "outputs": [],
   "source": [
    "df_pivot = df.pivot_table(index=\"PRODUCT\", columns = \"RECORD_TIME\", values = \"LISTING_COUNT\")"
   ]
  },
  {
   "cell_type": "code",
   "execution_count": 6,
   "id": "union-huntington",
   "metadata": {
    "execution": {
     "iopub.execute_input": "2021-09-16T10:30:09.344289Z",
     "iopub.status.busy": "2021-09-16T10:30:09.342066Z",
     "iopub.status.idle": "2021-09-16T10:30:09.347695Z",
     "shell.execute_reply": "2021-09-16T10:30:09.348971Z"
    },
    "papermill": {
     "duration": 0.04063,
     "end_time": "2021-09-16T10:30:09.349419",
     "exception": false,
     "start_time": "2021-09-16T10:30:09.308789",
     "status": "completed"
    },
    "tags": []
   },
   "outputs": [],
   "source": [
    "df_pivot.columns = [\"stamp_1\", \"stamp_2\"]\n",
    "df_pivot_diff = df_pivot.diff(axis=1)"
   ]
  },
  {
   "cell_type": "code",
   "execution_count": 7,
   "id": "fifth-motion",
   "metadata": {
    "execution": {
     "iopub.execute_input": "2021-09-16T10:30:09.404041Z",
     "iopub.status.busy": "2021-09-16T10:30:09.401513Z",
     "iopub.status.idle": "2021-09-16T10:30:10.875932Z",
     "shell.execute_reply": "2021-09-16T10:30:10.877232Z"
    },
    "papermill": {
     "duration": 1.507168,
     "end_time": "2021-09-16T10:30:10.877649",
     "exception": false,
     "start_time": "2021-09-16T10:30:09.370481",
     "status": "completed"
    },
    "tags": []
   },
   "outputs": [
    {
     "data": {
      "text/plain": [
       "<AxesSubplot:ylabel='PRODUCT'>"
      ]
     },
     "execution_count": 7,
     "metadata": {},
     "output_type": "execute_result"
    },
    {
     "data": {
      "image/png": "[encoded data removed]",
      "text/plain": [
       "<Figure size 432x288 with 1 Axes>"
      ]
     },
     "metadata": {
      "needs_background": "light"
     },
     "output_type": "display_data"
    }
   ],
   "source": [
    "df_pivot_diff.sort_values(\"stamp_2\", ascending = False)[\"stamp_2\"].head(10).plot.barh()"
   ]
  },
  {
   "cell_type": "code",
   "execution_count": null,
   "id": "extra-executive",
   "metadata": {
    "papermill": {
     "duration": 0.022104,
     "end_time": "2021-09-16T10:30:10.924128",
     "exception": false,
     "start_time": "2021-09-16T10:30:10.902024",
     "status": "completed"
    },
    "tags": []
   },
   "outputs": [],
   "source": []
  }
 ],
 "metadata": {
  "kernelspec": {
   "display_name": "Python 3",
   "language": "python",
   "name": "python3"
  },
  "language_info": {
   "codemirror_mode": {
    "name": "ipython",
    "version": 3
   },
   "file_extension": ".py",
   "mimetype": "text/x-python",
   "name": "python",
   "nbconvert_exporter": "python",
   "pygments_lexer": "ipython3",
   "version": "3.9.5"
  },
  "papermill": {
   "default_parameters": {},
   "duration": 6.599517,
   "end_time": "2021-09-16T10:30:11.567544",
   "environment_variables": {},
   "exception": null,
   "input_path": "eBay_Overview.ipynb",
   "output_path": "eBay_Overview.ipynb",
   "parameters": {},
   "start_time": "2021-09-16T10:30:04.968027",
   "version": "2.3.3"
  }
 },
 "nbformat": 4,
 "nbformat_minor": 5
}