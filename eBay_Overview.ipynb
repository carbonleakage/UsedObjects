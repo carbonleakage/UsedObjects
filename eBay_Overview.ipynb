{
 "cells": [
  {
   "cell_type": "code",
   "execution_count": 1,
   "id": "reverse-picking",
   "metadata": {
    "execution": {
     "iopub.execute_input": "2021-12-01T18:30:08.040794Z",
     "iopub.status.busy": "2021-12-01T18:30:08.038006Z",
     "iopub.status.idle": "2021-12-01T18:30:08.999506Z",
     "shell.execute_reply": "2021-12-01T18:30:09.001225Z"
    },
    "papermill": {
     "duration": 0.99998,
     "end_time": "2021-12-01T18:30:09.001972",
     "exception": false,
     "start_time": "2021-12-01T18:30:08.001992",
     "status": "completed"
    },
    "tags": []
   },
   "outputs": [],
   "source": [
    "import pandas as pd\n",
    "import sqlite3"
   ]
  },
  {
   "cell_type": "code",
   "execution_count": 2,
   "id": "innovative-syndrome",
   "metadata": {
    "execution": {
     "iopub.execute_input": "2021-12-01T18:30:09.064876Z",
     "iopub.status.busy": "2021-12-01T18:30:09.062595Z",
     "iopub.status.idle": "2021-12-01T18:30:10.021262Z",
     "shell.execute_reply": "2021-12-01T18:30:10.018996Z"
    },
    "papermill": {
     "duration": 0.991244,
     "end_time": "2021-12-01T18:30:10.021676",
     "exception": false,
     "start_time": "2021-12-01T18:30:09.030432",
     "status": "completed"
    },
    "tags": []
   },
   "outputs": [],
   "source": [
    "timestamps = pd.read_sql(\"select distinct record_time from EBAY_TOP_BERLIN order by record_time desc limit 2\", sqlite3.connect(\"UsedObjects.db\"))"
   ]
  },
  {
   "cell_type": "code",
   "execution_count": 3,
   "id": "periodic-identification",
   "metadata": {
    "execution": {
     "iopub.execute_input": "2021-12-01T18:30:10.091800Z",
     "iopub.status.busy": "2021-12-01T18:30:10.089516Z",
     "iopub.status.idle": "2021-12-01T18:30:10.113089Z",
     "shell.execute_reply": "2021-12-01T18:30:10.110941Z"
    },
    "papermill": {
     "duration": 0.071377,
     "end_time": "2021-12-01T18:30:10.113506",
     "exception": false,
     "start_time": "2021-12-01T18:30:10.042129",
     "status": "completed"
    },
    "tags": []
   },
   "outputs": [
    {
     "data": {
      "text/html": [
       "<div>\n",
       "<style scoped>\n",
       "    .dataframe tbody tr th:only-of-type {\n",
       "        vertical-align: middle;\n",
       "    }\n",
       "\n",
       "    .dataframe tbody tr th {\n",
       "        vertical-align: top;\n",
       "    }\n",
       "\n",
       "    .dataframe thead th {\n",
       "        text-align: right;\n",
       "    }\n",
       "</style>\n",
       "<table border=\"1\" class=\"dataframe\">\n",
       "  <thead>\n",
       "    <tr style=\"text-align: right;\">\n",
       "      <th></th>\n",
       "      <th>RECORD_TIME</th>\n",
       "    </tr>\n",
       "  </thead>\n",
       "  <tbody>\n",
       "    <tr>\n",
       "      <th>0</th>\n",
       "      <td>2021-12-01 19:30</td>\n",
       "    </tr>\n",
       "    <tr>\n",
       "      <th>1</th>\n",
       "      <td>2021-12-01 19:00</td>\n",
       "    </tr>\n",
       "  </tbody>\n",
       "</table>\n",
       "</div>"
      ],
      "text/plain": [
       "        RECORD_TIME\n",
       "0  2021-12-01 19:30\n",
       "1  2021-12-01 19:00"
      ]
     },
     "execution_count": 3,
     "metadata": {},
     "output_type": "execute_result"
    }
   ],
   "source": [
    "timestamps"
   ]
  },
  {
   "cell_type": "code",
   "execution_count": 4,
   "id": "alternate-victory",
   "metadata": {
    "execution": {
     "iopub.execute_input": "2021-12-01T18:30:10.168025Z",
     "iopub.status.busy": "2021-12-01T18:30:10.166000Z",
     "iopub.status.idle": "2021-12-01T18:30:11.563844Z",
     "shell.execute_reply": "2021-12-01T18:30:11.561871Z"
    },
    "papermill": {
     "duration": 1.427986,
     "end_time": "2021-12-01T18:30:11.564228",
     "exception": false,
     "start_time": "2021-12-01T18:30:10.136242",
     "status": "completed"
    },
    "tags": []
   },
   "outputs": [],
   "source": [
    "df = pd.read_sql(\"select * from EBAY_TOP_BERLIN where record_time in (select distinct record_time from EBAY_TOP_BERLIN order by record_time desc limit 2)\", sqlite3.connect(\"UsedObjects.db\"))"
   ]
  },
  {
   "cell_type": "code",
   "execution_count": 5,
   "id": "popular-active",
   "metadata": {
    "execution": {
     "iopub.execute_input": "2021-12-01T18:30:11.638989Z",
     "iopub.status.busy": "2021-12-01T18:30:11.625391Z",
     "iopub.status.idle": "2021-12-01T18:30:11.656788Z",
     "shell.execute_reply": "2021-12-01T18:30:11.658164Z"
    },
    "papermill": {
     "duration": 0.073289,
     "end_time": "2021-12-01T18:30:11.658632",
     "exception": false,
     "start_time": "2021-12-01T18:30:11.585343",
     "status": "completed"
    },
    "tags": []
   },
   "outputs": [],
   "source": [
    "df_pivot = df.pivot_table(index=\"PRODUCT\", columns = \"RECORD_TIME\", values = \"LISTING_COUNT\")"
   ]
  },
  {
   "cell_type": "code",
   "execution_count": 6,
   "id": "union-huntington",
   "metadata": {
    "execution": {
     "iopub.execute_input": "2021-12-01T18:30:11.720729Z",
     "iopub.status.busy": "2021-12-01T18:30:11.718403Z",
     "iopub.status.idle": "2021-12-01T18:30:11.726318Z",
     "shell.execute_reply": "2021-12-01T18:30:11.724543Z"
    },
    "papermill": {
     "duration": 0.048338,
     "end_time": "2021-12-01T18:30:11.726757",
     "exception": false,
     "start_time": "2021-12-01T18:30:11.678419",
     "status": "completed"
    },
    "tags": []
   },
   "outputs": [],
   "source": [
    "df_pivot.columns = [\"stamp_1\", \"stamp_2\"]\n",
    "df_pivot_diff = df_pivot.diff(axis=1)"
   ]
  },
  {
   "cell_type": "code",
   "execution_count": 7,
   "id": "fifth-motion",
   "metadata": {
    "execution": {
     "iopub.execute_input": "2021-12-01T18:30:11.784457Z",
     "iopub.status.busy": "2021-12-01T18:30:11.782402Z",
     "iopub.status.idle": "2021-12-01T18:30:13.701625Z",
     "shell.execute_reply": "2021-12-01T18:30:13.704273Z"
    },
    "papermill": {
     "duration": 1.956801,
     "end_time": "2021-12-01T18:30:13.705179",
     "exception": false,
     "start_time": "2021-12-01T18:30:11.748378",
     "status": "completed"
    },
    "tags": []
   },
   "outputs": [
    {
     "data": {
      "text/plain": [
       "<AxesSubplot:ylabel='PRODUCT'>"
      ]
     },
     "execution_count": 7,
     "metadata": {},
     "output_type": "execute_result"
    },
    {
     "data": {
      "image/png": "[encoded data removed]",
      "text/plain": [
       "<Figure size 432x288 with 1 Axes>"
      ]
     },
     "metadata": {
      "needs_background": "light"
     },
     "output_type": "display_data"
    }
   ],
   "source": [
    "df_pivot_diff.sort_values(\"stamp_2\", ascending = False)[\"stamp_2\"].head(10).plot.barh()"
   ]
  },
  {
   "cell_type": "code",
   "execution_count": null,
   "id": "extra-executive",
   "metadata": {
    "papermill": {
     "duration": 0.028197,
     "end_time": "2021-12-01T18:30:13.768545",
     "exception": false,
     "start_time": "2021-12-01T18:30:13.740348",
     "status": "completed"
    },
    "tags": []
   },
   "outputs": [],
   "source": []
  }
 ],
 "metadata": {
  "kernelspec": {
   "display_name": "Python 3",
   "language": "python",
   "name": "python3"
  },
  "language_info": {
   "codemirror_mode": {
    "name": "ipython",
    "version": 3
   },
   "file_extension": ".py",
   "mimetype": "text/x-python",
   "name": "python",
   "nbconvert_exporter": "python",
   "pygments_lexer": "ipython3",
   "version": "3.9.5"
  },
  "papermill": {
   "default_parameters": {},
   "duration": 9.933354,
   "end_time": "2021-12-01T18:30:15.220248",
   "environment_variables": {},
   "exception": null,
   "input_path": "eBay_Overview.ipynb",
   "output_path": "eBay_Overview.ipynb",
   "parameters": {},
   "start_time": "2021-12-01T18:30:05.286894",
   "version": "2.3.3"
  }
 },
 "nbformat": 4,
 "nbformat_minor": 5
}