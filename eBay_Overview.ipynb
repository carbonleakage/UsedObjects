{
 "cells": [
  {
   "cell_type": "code",
   "execution_count": 1,
   "id": "reverse-picking",
   "metadata": {
    "execution": {
     "iopub.execute_input": "2021-08-20T19:30:06.864513Z",
     "iopub.status.busy": "2021-08-20T19:30:06.862537Z",
     "iopub.status.idle": "2021-08-20T19:30:07.669717Z",
     "shell.execute_reply": "2021-08-20T19:30:07.668153Z"
    },
    "papermill": {
     "duration": 0.858285,
     "end_time": "2021-08-20T19:30:07.670181",
     "exception": false,
     "start_time": "2021-08-20T19:30:06.811896",
     "status": "completed"
    },
    "tags": []
   },
   "outputs": [],
   "source": [
    "import pandas as pd\n",
    "import sqlite3"
   ]
  },
  {
   "cell_type": "code",
   "execution_count": 2,
   "id": "innovative-syndrome",
   "metadata": {
    "execution": {
     "iopub.execute_input": "2021-08-20T19:30:07.721245Z",
     "iopub.status.busy": "2021-08-20T19:30:07.719380Z",
     "iopub.status.idle": "2021-08-20T19:30:07.810746Z",
     "shell.execute_reply": "2021-08-20T19:30:07.811995Z"
    },
    "papermill": {
     "duration": 0.121126,
     "end_time": "2021-08-20T19:30:07.812390",
     "exception": false,
     "start_time": "2021-08-20T19:30:07.691264",
     "status": "completed"
    },
    "tags": []
   },
   "outputs": [],
   "source": [
    "timestamps = pd.read_sql(\"select distinct record_time from EBAY_TOP_BERLIN order by record_time desc limit 2\", sqlite3.connect(\"UsedObjects.db\"))"
   ]
  },
  {
   "cell_type": "code",
   "execution_count": 3,
   "id": "periodic-identification",
   "metadata": {
    "execution": {
     "iopub.execute_input": "2021-08-20T19:30:07.876612Z",
     "iopub.status.busy": "2021-08-20T19:30:07.874570Z",
     "iopub.status.idle": "2021-08-20T19:30:07.894058Z",
     "shell.execute_reply": "2021-08-20T19:30:07.895456Z"
    },
    "papermill": {
     "duration": 0.063387,
     "end_time": "2021-08-20T19:30:07.895875",
     "exception": false,
     "start_time": "2021-08-20T19:30:07.832488",
     "status": "completed"
    },
    "tags": []
   },
   "outputs": [
    {
     "data": {
      "text/html": [
       "<div>\n",
       "<style scoped>\n",
       "    .dataframe tbody tr th:only-of-type {\n",
       "        vertical-align: middle;\n",
       "    }\n",
       "\n",
       "    .dataframe tbody tr th {\n",
       "        vertical-align: top;\n",
       "    }\n",
       "\n",
       "    .dataframe thead th {\n",
       "        text-align: right;\n",
       "    }\n",
       "</style>\n",
       "<table border=\"1\" class=\"dataframe\">\n",
       "  <thead>\n",
       "    <tr style=\"text-align: right;\">\n",
       "      <th></th>\n",
       "      <th>RECORD_TIME</th>\n",
       "    </tr>\n",
       "  </thead>\n",
       "  <tbody>\n",
       "    <tr>\n",
       "      <th>0</th>\n",
       "      <td>2021-08-20 21:30</td>\n",
       "    </tr>\n",
       "    <tr>\n",
       "      <th>1</th>\n",
       "      <td>2021-08-20 21:00</td>\n",
       "    </tr>\n",
       "  </tbody>\n",
       "</table>\n",
       "</div>"
      ],
      "text/plain": [
       "        RECORD_TIME\n",
       "0  2021-08-20 21:30\n",
       "1  2021-08-20 21:00"
      ]
     },
     "execution_count": 3,
     "metadata": {},
     "output_type": "execute_result"
    }
   ],
   "source": [
    "timestamps"
   ]
  },
  {
   "cell_type": "code",
   "execution_count": 4,
   "id": "alternate-victory",
   "metadata": {
    "execution": {
     "iopub.execute_input": "2021-08-20T19:30:07.947948Z",
     "iopub.status.busy": "2021-08-20T19:30:07.945651Z",
     "iopub.status.idle": "2021-08-20T19:30:08.082963Z",
     "shell.execute_reply": "2021-08-20T19:30:08.084268Z"
    },
    "papermill": {
     "duration": 0.167473,
     "end_time": "2021-08-20T19:30:08.084668",
     "exception": false,
     "start_time": "2021-08-20T19:30:07.917195",
     "status": "completed"
    },
    "tags": []
   },
   "outputs": [],
   "source": [
    "df = pd.read_sql(\"select * from EBAY_TOP_BERLIN where record_time in (select distinct record_time from EBAY_TOP_BERLIN order by record_time desc limit 2)\", sqlite3.connect(\"UsedObjects.db\"))"
   ]
  },
  {
   "cell_type": "code",
   "execution_count": 5,
   "id": "popular-active",
   "metadata": {
    "execution": {
     "iopub.execute_input": "2021-08-20T19:30:08.153462Z",
     "iopub.status.busy": "2021-08-20T19:30:08.142120Z",
     "iopub.status.idle": "2021-08-20T19:30:08.172292Z",
     "shell.execute_reply": "2021-08-20T19:30:08.170421Z"
    },
    "papermill": {
     "duration": 0.067493,
     "end_time": "2021-08-20T19:30:08.172672",
     "exception": false,
     "start_time": "2021-08-20T19:30:08.105179",
     "status": "completed"
    },
    "tags": []
   },
   "outputs": [],
   "source": [
    "df_pivot = df.pivot_table(index=\"PRODUCT\", columns = \"RECORD_TIME\", values = \"LISTING_COUNT\")"
   ]
  },
  {
   "cell_type": "code",
   "execution_count": 6,
   "id": "union-huntington",
   "metadata": {
    "execution": {
     "iopub.execute_input": "2021-08-20T19:30:08.229653Z",
     "iopub.status.busy": "2021-08-20T19:30:08.227462Z",
     "iopub.status.idle": "2021-08-20T19:30:08.234916Z",
     "shell.execute_reply": "2021-08-20T19:30:08.233019Z"
    },
    "papermill": {
     "duration": 0.04216,
     "end_time": "2021-08-20T19:30:08.235299",
     "exception": false,
     "start_time": "2021-08-20T19:30:08.193139",
     "status": "completed"
    },
    "tags": []
   },
   "outputs": [],
   "source": [
    "df_pivot.columns = [\"stamp_1\", \"stamp_2\"]\n",
    "df_pivot_diff = df_pivot.diff(axis=1)"
   ]
  },
  {
   "cell_type": "code",
   "execution_count": 7,
   "id": "fifth-motion",
   "metadata": {
    "execution": {
     "iopub.execute_input": "2021-08-20T19:30:08.289068Z",
     "iopub.status.busy": "2021-08-20T19:30:08.286779Z",
     "iopub.status.idle": "2021-08-20T19:30:09.766476Z",
     "shell.execute_reply": "2021-08-20T19:30:09.767878Z"
    },
    "papermill": {
     "duration": 1.512967,
     "end_time": "2021-08-20T19:30:09.768319",
     "exception": false,
     "start_time": "2021-08-20T19:30:08.255352",
     "status": "completed"
    },
    "tags": []
   },
   "outputs": [
    {
     "data": {
      "text/plain": [
       "<AxesSubplot:ylabel='PRODUCT'>"
      ]
     },
     "execution_count": 7,
     "metadata": {},
     "output_type": "execute_result"
    },
    {
     "data": {
      "image/png": "[encoded data removed]",
      "text/plain": [
       "<Figure size 432x288 with 1 Axes>"
      ]
     },
     "metadata": {
      "needs_background": "light"
     },
     "output_type": "display_data"
    }
   ],
   "source": [
    "df_pivot_diff.sort_values(\"stamp_2\", ascending = False)[\"stamp_2\"].head(10).plot.barh()"
   ]
  },
  {
   "cell_type": "code",
   "execution_count": null,
   "id": "extra-executive",
   "metadata": {
    "papermill": {
     "duration": 0.022433,
     "end_time": "2021-08-20T19:30:09.816044",
     "exception": false,
     "start_time": "2021-08-20T19:30:09.793611",
     "status": "completed"
    },
    "tags": []
   },
   "outputs": [],
   "source": []
  }
 ],
 "metadata": {
  "kernelspec": {
   "display_name": "Python 3",
   "language": "python",
   "name": "python3"
  },
  "language_info": {
   "codemirror_mode": {
    "name": "ipython",
    "version": 3
   },
   "file_extension": ".py",
   "mimetype": "text/x-python",
   "name": "python",
   "nbconvert_exporter": "python",
   "pygments_lexer": "ipython3",
   "version": "3.9.5"
  },
  "papermill": {
   "default_parameters": {},
   "duration": 6.827928,
   "end_time": "2021-08-20T19:30:11.234711",
   "environment_variables": {},
   "exception": null,
   "input_path": "eBay_Overview.ipynb",
   "output_path": "eBay_Overview.ipynb",
   "parameters": {},
   "start_time": "2021-08-20T19:30:04.406783",
   "version": "2.3.3"
  }
 },
 "nbformat": 4,
 "nbformat_minor": 5
}