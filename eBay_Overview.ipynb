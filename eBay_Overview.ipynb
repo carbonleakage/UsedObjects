{
 "cells": [
  {
   "cell_type": "code",
   "execution_count": 1,
   "id": "reverse-picking",
   "metadata": {
    "execution": {
     "iopub.execute_input": "2021-12-14T02:00:07.943864Z",
     "iopub.status.busy": "2021-12-14T02:00:07.941436Z",
     "iopub.status.idle": "2021-12-14T02:00:08.882615Z",
     "shell.execute_reply": "2021-12-14T02:00:08.884233Z"
    },
    "papermill": {
     "duration": 0.991058,
     "end_time": "2021-12-14T02:00:08.885040",
     "exception": false,
     "start_time": "2021-12-14T02:00:07.893982",
     "status": "completed"
    },
    "tags": []
   },
   "outputs": [],
   "source": [
    "import pandas as pd\n",
    "import sqlite3"
   ]
  },
  {
   "cell_type": "code",
   "execution_count": 2,
   "id": "innovative-syndrome",
   "metadata": {
    "execution": {
     "iopub.execute_input": "2021-12-14T02:00:08.955447Z",
     "iopub.status.busy": "2021-12-14T02:00:08.953316Z",
     "iopub.status.idle": "2021-12-14T02:00:10.027928Z",
     "shell.execute_reply": "2021-12-14T02:00:10.030141Z"
    },
    "papermill": {
     "duration": 1.109444,
     "end_time": "2021-12-14T02:00:10.030627",
     "exception": false,
     "start_time": "2021-12-14T02:00:08.921183",
     "status": "completed"
    },
    "tags": []
   },
   "outputs": [],
   "source": [
    "timestamps = pd.read_sql(\"select distinct record_time from EBAY_TOP_BERLIN order by record_time desc limit 2\", sqlite3.connect(\"UsedObjects.db\"))"
   ]
  },
  {
   "cell_type": "code",
   "execution_count": 3,
   "id": "periodic-identification",
   "metadata": {
    "execution": {
     "iopub.execute_input": "2021-12-14T02:00:10.105702Z",
     "iopub.status.busy": "2021-12-14T02:00:10.099684Z",
     "iopub.status.idle": "2021-12-14T02:00:10.126386Z",
     "shell.execute_reply": "2021-12-14T02:00:10.128173Z"
    },
    "papermill": {
     "duration": 0.077425,
     "end_time": "2021-12-14T02:00:10.128802",
     "exception": false,
     "start_time": "2021-12-14T02:00:10.051377",
     "status": "completed"
    },
    "tags": []
   },
   "outputs": [
    {
     "data": {
      "text/html": [
       "<div>\n",
       "<style scoped>\n",
       "    .dataframe tbody tr th:only-of-type {\n",
       "        vertical-align: middle;\n",
       "    }\n",
       "\n",
       "    .dataframe tbody tr th {\n",
       "        vertical-align: top;\n",
       "    }\n",
       "\n",
       "    .dataframe thead th {\n",
       "        text-align: right;\n",
       "    }\n",
       "</style>\n",
       "<table border=\"1\" class=\"dataframe\">\n",
       "  <thead>\n",
       "    <tr style=\"text-align: right;\">\n",
       "      <th></th>\n",
       "      <th>RECORD_TIME</th>\n",
       "    </tr>\n",
       "  </thead>\n",
       "  <tbody>\n",
       "    <tr>\n",
       "      <th>0</th>\n",
       "      <td>2021-12-14 03:00</td>\n",
       "    </tr>\n",
       "    <tr>\n",
       "      <th>1</th>\n",
       "      <td>2021-12-14 02:30</td>\n",
       "    </tr>\n",
       "  </tbody>\n",
       "</table>\n",
       "</div>"
      ],
      "text/plain": [
       "        RECORD_TIME\n",
       "0  2021-12-14 03:00\n",
       "1  2021-12-14 02:30"
      ]
     },
     "execution_count": 3,
     "metadata": {},
     "output_type": "execute_result"
    }
   ],
   "source": [
    "timestamps"
   ]
  },
  {
   "cell_type": "code",
   "execution_count": 4,
   "id": "alternate-victory",
   "metadata": {
    "execution": {
     "iopub.execute_input": "2021-12-14T02:00:10.180230Z",
     "iopub.status.busy": "2021-12-14T02:00:10.178386Z",
     "iopub.status.idle": "2021-12-14T02:00:11.759309Z",
     "shell.execute_reply": "2021-12-14T02:00:11.761190Z"
    },
    "papermill": {
     "duration": 1.611806,
     "end_time": "2021-12-14T02:00:11.761728",
     "exception": false,
     "start_time": "2021-12-14T02:00:10.149922",
     "status": "completed"
    },
    "tags": []
   },
   "outputs": [],
   "source": [
    "df = pd.read_sql(\"select * from EBAY_TOP_BERLIN where record_time in (select distinct record_time from EBAY_TOP_BERLIN order by record_time desc limit 2)\", sqlite3.connect(\"UsedObjects.db\"))"
   ]
  },
  {
   "cell_type": "code",
   "execution_count": 5,
   "id": "popular-active",
   "metadata": {
    "execution": {
     "iopub.execute_input": "2021-12-14T02:00:11.837056Z",
     "iopub.status.busy": "2021-12-14T02:00:11.828228Z",
     "iopub.status.idle": "2021-12-14T02:00:11.861825Z",
     "shell.execute_reply": "2021-12-14T02:00:11.860212Z"
    },
    "papermill": {
     "duration": 0.077021,
     "end_time": "2021-12-14T02:00:11.862221",
     "exception": false,
     "start_time": "2021-12-14T02:00:11.785200",
     "status": "completed"
    },
    "tags": []
   },
   "outputs": [],
   "source": [
    "df_pivot = df.pivot_table(index=\"PRODUCT\", columns = \"RECORD_TIME\", values = \"LISTING_COUNT\")"
   ]
  },
  {
   "cell_type": "code",
   "execution_count": 6,
   "id": "union-huntington",
   "metadata": {
    "execution": {
     "iopub.execute_input": "2021-12-14T02:00:11.920164Z",
     "iopub.status.busy": "2021-12-14T02:00:11.917956Z",
     "iopub.status.idle": "2021-12-14T02:00:11.925319Z",
     "shell.execute_reply": "2021-12-14T02:00:11.923687Z"
    },
    "papermill": {
     "duration": 0.043527,
     "end_time": "2021-12-14T02:00:11.925723",
     "exception": false,
     "start_time": "2021-12-14T02:00:11.882196",
     "status": "completed"
    },
    "tags": []
   },
   "outputs": [],
   "source": [
    "df_pivot.columns = [\"stamp_1\", \"stamp_2\"]\n",
    "df_pivot_diff = df_pivot.diff(axis=1)"
   ]
  },
  {
   "cell_type": "code",
   "execution_count": 7,
   "id": "fifth-motion",
   "metadata": {
    "execution": {
     "iopub.execute_input": "2021-12-14T02:00:11.982694Z",
     "iopub.status.busy": "2021-12-14T02:00:11.979972Z",
     "iopub.status.idle": "2021-12-14T02:00:14.024293Z",
     "shell.execute_reply": "2021-12-14T02:00:14.025838Z"
    },
    "papermill": {
     "duration": 2.079199,
     "end_time": "2021-12-14T02:00:14.026313",
     "exception": false,
     "start_time": "2021-12-14T02:00:11.947114",
     "status": "completed"
    },
    "tags": []
   },
   "outputs": [
    {
     "data": {
      "text/plain": [
       "<AxesSubplot:ylabel='PRODUCT'>"
      ]
     },
     "execution_count": 7,
     "metadata": {},
     "output_type": "execute_result"
    },
    {
     "data": {
      "image/png": "[encoded data removed]",
      "text/plain": [
       "<Figure size 432x288 with 1 Axes>"
      ]
     },
     "metadata": {
      "needs_background": "light"
     },
     "output_type": "display_data"
    }
   ],
   "source": [
    "df_pivot_diff.sort_values(\"stamp_2\", ascending = False)[\"stamp_2\"].head(10).plot.barh()"
   ]
  },
  {
   "cell_type": "code",
   "execution_count": null,
   "id": "extra-executive",
   "metadata": {
    "papermill": {
     "duration": 0.024526,
     "end_time": "2021-12-14T02:00:14.076081",
     "exception": false,
     "start_time": "2021-12-14T02:00:14.051555",
     "status": "completed"
    },
    "tags": []
   },
   "outputs": [],
   "source": []
  }
 ],
 "metadata": {
  "kernelspec": {
   "display_name": "Python 3",
   "language": "python",
   "name": "python3"
  },
  "language_info": {
   "codemirror_mode": {
    "name": "ipython",
    "version": 3
   },
   "file_extension": ".py",
   "mimetype": "text/x-python",
   "name": "python",
   "nbconvert_exporter": "python",
   "pygments_lexer": "ipython3",
   "version": "3.9.5"
  },
  "papermill": {
   "default_parameters": {},
   "duration": 9.560808,
   "end_time": "2021-12-14T02:00:14.718218",
   "environment_variables": {},
   "exception": null,
   "input_path": "eBay_Overview.ipynb",
   "output_path": "eBay_Overview.ipynb",
   "parameters": {},
   "start_time": "2021-12-14T02:00:05.157410",
   "version": "2.3.3"
  }
 },
 "nbformat": 4,
 "nbformat_minor": 5
}