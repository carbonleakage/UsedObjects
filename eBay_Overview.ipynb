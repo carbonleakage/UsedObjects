{
 "cells": [
  {
   "cell_type": "code",
   "execution_count": 1,
   "id": "reverse-picking",
   "metadata": {
    "execution": {
     "iopub.execute_input": "2021-11-03T18:00:07.715543Z",
     "iopub.status.busy": "2021-11-03T18:00:07.713614Z",
     "iopub.status.idle": "2021-11-03T18:00:08.670749Z",
     "shell.execute_reply": "2021-11-03T18:00:08.672501Z"
    },
    "papermill": {
     "duration": 1.004492,
     "end_time": "2021-11-03T18:00:08.673307",
     "exception": false,
     "start_time": "2021-11-03T18:00:07.668815",
     "status": "completed"
    },
    "tags": []
   },
   "outputs": [],
   "source": [
    "import pandas as pd\n",
    "import sqlite3"
   ]
  },
  {
   "cell_type": "code",
   "execution_count": 2,
   "id": "innovative-syndrome",
   "metadata": {
    "execution": {
     "iopub.execute_input": "2021-11-03T18:00:08.740125Z",
     "iopub.status.busy": "2021-11-03T18:00:08.737796Z",
     "iopub.status.idle": "2021-11-03T18:00:09.470343Z",
     "shell.execute_reply": "2021-11-03T18:00:09.472175Z"
    },
    "papermill": {
     "duration": 0.767226,
     "end_time": "2021-11-03T18:00:09.472749",
     "exception": false,
     "start_time": "2021-11-03T18:00:08.705523",
     "status": "completed"
    },
    "tags": []
   },
   "outputs": [],
   "source": [
    "timestamps = pd.read_sql(\"select distinct record_time from EBAY_TOP_BERLIN order by record_time desc limit 2\", sqlite3.connect(\"UsedObjects.db\"))"
   ]
  },
  {
   "cell_type": "code",
   "execution_count": 3,
   "id": "periodic-identification",
   "metadata": {
    "execution": {
     "iopub.execute_input": "2021-11-03T18:00:09.545026Z",
     "iopub.status.busy": "2021-11-03T18:00:09.542694Z",
     "iopub.status.idle": "2021-11-03T18:00:09.564922Z",
     "shell.execute_reply": "2021-11-03T18:00:09.566303Z"
    },
    "papermill": {
     "duration": 0.072056,
     "end_time": "2021-11-03T18:00:09.566746",
     "exception": false,
     "start_time": "2021-11-03T18:00:09.494690",
     "status": "completed"
    },
    "tags": []
   },
   "outputs": [
    {
     "data": {
      "text/html": [
       "<div>\n",
       "<style scoped>\n",
       "    .dataframe tbody tr th:only-of-type {\n",
       "        vertical-align: middle;\n",
       "    }\n",
       "\n",
       "    .dataframe tbody tr th {\n",
       "        vertical-align: top;\n",
       "    }\n",
       "\n",
       "    .dataframe thead th {\n",
       "        text-align: right;\n",
       "    }\n",
       "</style>\n",
       "<table border=\"1\" class=\"dataframe\">\n",
       "  <thead>\n",
       "    <tr style=\"text-align: right;\">\n",
       "      <th></th>\n",
       "      <th>RECORD_TIME</th>\n",
       "    </tr>\n",
       "  </thead>\n",
       "  <tbody>\n",
       "    <tr>\n",
       "      <th>0</th>\n",
       "      <td>2021-11-03 19:00</td>\n",
       "    </tr>\n",
       "    <tr>\n",
       "      <th>1</th>\n",
       "      <td>2021-11-03 18:30</td>\n",
       "    </tr>\n",
       "  </tbody>\n",
       "</table>\n",
       "</div>"
      ],
      "text/plain": [
       "        RECORD_TIME\n",
       "0  2021-11-03 19:00\n",
       "1  2021-11-03 18:30"
      ]
     },
     "execution_count": 3,
     "metadata": {},
     "output_type": "execute_result"
    }
   ],
   "source": [
    "timestamps"
   ]
  },
  {
   "cell_type": "code",
   "execution_count": 4,
   "id": "alternate-victory",
   "metadata": {
    "execution": {
     "iopub.execute_input": "2021-11-03T18:00:09.620332Z",
     "iopub.status.busy": "2021-11-03T18:00:09.618198Z",
     "iopub.status.idle": "2021-11-03T18:00:10.675574Z",
     "shell.execute_reply": "2021-11-03T18:00:10.677118Z"
    },
    "papermill": {
     "duration": 1.090082,
     "end_time": "2021-11-03T18:00:10.677601",
     "exception": false,
     "start_time": "2021-11-03T18:00:09.587519",
     "status": "completed"
    },
    "tags": []
   },
   "outputs": [],
   "source": [
    "df = pd.read_sql(\"select * from EBAY_TOP_BERLIN where record_time in (select distinct record_time from EBAY_TOP_BERLIN order by record_time desc limit 2)\", sqlite3.connect(\"UsedObjects.db\"))"
   ]
  },
  {
   "cell_type": "code",
   "execution_count": 5,
   "id": "popular-active",
   "metadata": {
    "execution": {
     "iopub.execute_input": "2021-11-03T18:00:10.756958Z",
     "iopub.status.busy": "2021-11-03T18:00:10.742209Z",
     "iopub.status.idle": "2021-11-03T18:00:10.778028Z",
     "shell.execute_reply": "2021-11-03T18:00:10.779530Z"
    },
    "papermill": {
     "duration": 0.080433,
     "end_time": "2021-11-03T18:00:10.780042",
     "exception": false,
     "start_time": "2021-11-03T18:00:10.699609",
     "status": "completed"
    },
    "tags": []
   },
   "outputs": [],
   "source": [
    "df_pivot = df.pivot_table(index=\"PRODUCT\", columns = \"RECORD_TIME\", values = \"LISTING_COUNT\")"
   ]
  },
  {
   "cell_type": "code",
   "execution_count": 6,
   "id": "union-huntington",
   "metadata": {
    "execution": {
     "iopub.execute_input": "2021-11-03T18:00:10.846918Z",
     "iopub.status.busy": "2021-11-03T18:00:10.843628Z",
     "iopub.status.idle": "2021-11-03T18:00:10.850626Z",
     "shell.execute_reply": "2021-11-03T18:00:10.848987Z"
    },
    "papermill": {
     "duration": 0.048804,
     "end_time": "2021-11-03T18:00:10.851072",
     "exception": false,
     "start_time": "2021-11-03T18:00:10.802268",
     "status": "completed"
    },
    "tags": []
   },
   "outputs": [],
   "source": [
    "df_pivot.columns = [\"stamp_1\", \"stamp_2\"]\n",
    "df_pivot_diff = df_pivot.diff(axis=1)"
   ]
  },
  {
   "cell_type": "code",
   "execution_count": 7,
   "id": "fifth-motion",
   "metadata": {
    "execution": {
     "iopub.execute_input": "2021-11-03T18:00:10.913185Z",
     "iopub.status.busy": "2021-11-03T18:00:10.909108Z",
     "iopub.status.idle": "2021-11-03T18:00:12.689566Z",
     "shell.execute_reply": "2021-11-03T18:00:12.692491Z"
    },
    "papermill": {
     "duration": 1.819797,
     "end_time": "2021-11-03T18:00:12.693458",
     "exception": false,
     "start_time": "2021-11-03T18:00:10.873661",
     "status": "completed"
    },
    "tags": []
   },
   "outputs": [
    {
     "data": {
      "text/plain": [
       "<AxesSubplot:ylabel='PRODUCT'>"
      ]
     },
     "execution_count": 7,
     "metadata": {},
     "output_type": "execute_result"
    },
    {
     "data": {
      "image/png": "[encoded data removed]",
      "text/plain": [
       "<Figure size 432x288 with 1 Axes>"
      ]
     },
     "metadata": {
      "needs_background": "light"
     },
     "output_type": "display_data"
    }
   ],
   "source": [
    "df_pivot_diff.sort_values(\"stamp_2\", ascending = False)[\"stamp_2\"].head(10).plot.barh()"
   ]
  },
  {
   "cell_type": "code",
   "execution_count": null,
   "id": "extra-executive",
   "metadata": {
    "papermill": {
     "duration": 0.038306,
     "end_time": "2021-11-03T18:00:12.767806",
     "exception": false,
     "start_time": "2021-11-03T18:00:12.729500",
     "status": "completed"
    },
    "tags": []
   },
   "outputs": [],
   "source": []
  }
 ],
 "metadata": {
  "kernelspec": {
   "display_name": "Python 3",
   "language": "python",
   "name": "python3"
  },
  "language_info": {
   "codemirror_mode": {
    "name": "ipython",
    "version": 3
   },
   "file_extension": ".py",
   "mimetype": "text/x-python",
   "name": "python",
   "nbconvert_exporter": "python",
   "pygments_lexer": "ipython3",
   "version": "3.9.5"
  },
  "papermill": {
   "default_parameters": {},
   "duration": 8.715198,
   "end_time": "2021-11-03T18:00:13.638855",
   "environment_variables": {},
   "exception": null,
   "input_path": "eBay_Overview.ipynb",
   "output_path": "eBay_Overview.ipynb",
   "parameters": {},
   "start_time": "2021-11-03T18:00:04.923657",
   "version": "2.3.3"
  }
 },
 "nbformat": 4,
 "nbformat_minor": 5
}