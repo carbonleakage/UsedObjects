{
 "cells": [
  {
   "cell_type": "code",
   "execution_count": 1,
   "id": "reverse-picking",
   "metadata": {
    "execution": {
     "iopub.execute_input": "2021-11-11T12:30:07.385830Z",
     "iopub.status.busy": "2021-11-11T12:30:07.383576Z",
     "iopub.status.idle": "2021-11-11T12:30:08.331922Z",
     "shell.execute_reply": "2021-11-11T12:30:08.333522Z"
    },
    "papermill": {
     "duration": 0.995447,
     "end_time": "2021-11-11T12:30:08.334268",
     "exception": false,
     "start_time": "2021-11-11T12:30:07.338821",
     "status": "completed"
    },
    "tags": []
   },
   "outputs": [],
   "source": [
    "import pandas as pd\n",
    "import sqlite3"
   ]
  },
  {
   "cell_type": "code",
   "execution_count": 2,
   "id": "innovative-syndrome",
   "metadata": {
    "execution": {
     "iopub.execute_input": "2021-11-11T12:30:08.397016Z",
     "iopub.status.busy": "2021-11-11T12:30:08.394586Z",
     "iopub.status.idle": "2021-11-11T12:30:09.189590Z",
     "shell.execute_reply": "2021-11-11T12:30:09.190895Z"
    },
    "papermill": {
     "duration": 0.829194,
     "end_time": "2021-11-11T12:30:09.191357",
     "exception": false,
     "start_time": "2021-11-11T12:30:08.362163",
     "status": "completed"
    },
    "tags": []
   },
   "outputs": [],
   "source": [
    "timestamps = pd.read_sql(\"select distinct record_time from EBAY_TOP_BERLIN order by record_time desc limit 2\", sqlite3.connect(\"UsedObjects.db\"))"
   ]
  },
  {
   "cell_type": "code",
   "execution_count": 3,
   "id": "periodic-identification",
   "metadata": {
    "execution": {
     "iopub.execute_input": "2021-11-11T12:30:09.263744Z",
     "iopub.status.busy": "2021-11-11T12:30:09.258027Z",
     "iopub.status.idle": "2021-11-11T12:30:09.279435Z",
     "shell.execute_reply": "2021-11-11T12:30:09.280840Z"
    },
    "papermill": {
     "duration": 0.069985,
     "end_time": "2021-11-11T12:30:09.281328",
     "exception": false,
     "start_time": "2021-11-11T12:30:09.211343",
     "status": "completed"
    },
    "tags": []
   },
   "outputs": [
    {
     "data": {
      "text/html": [
       "<div>\n",
       "<style scoped>\n",
       "    .dataframe tbody tr th:only-of-type {\n",
       "        vertical-align: middle;\n",
       "    }\n",
       "\n",
       "    .dataframe tbody tr th {\n",
       "        vertical-align: top;\n",
       "    }\n",
       "\n",
       "    .dataframe thead th {\n",
       "        text-align: right;\n",
       "    }\n",
       "</style>\n",
       "<table border=\"1\" class=\"dataframe\">\n",
       "  <thead>\n",
       "    <tr style=\"text-align: right;\">\n",
       "      <th></th>\n",
       "      <th>RECORD_TIME</th>\n",
       "    </tr>\n",
       "  </thead>\n",
       "  <tbody>\n",
       "    <tr>\n",
       "      <th>0</th>\n",
       "      <td>2021-11-11 13:30</td>\n",
       "    </tr>\n",
       "    <tr>\n",
       "      <th>1</th>\n",
       "      <td>2021-11-11 13:00</td>\n",
       "    </tr>\n",
       "  </tbody>\n",
       "</table>\n",
       "</div>"
      ],
      "text/plain": [
       "        RECORD_TIME\n",
       "0  2021-11-11 13:30\n",
       "1  2021-11-11 13:00"
      ]
     },
     "execution_count": 3,
     "metadata": {},
     "output_type": "execute_result"
    }
   ],
   "source": [
    "timestamps"
   ]
  },
  {
   "cell_type": "code",
   "execution_count": 4,
   "id": "alternate-victory",
   "metadata": {
    "execution": {
     "iopub.execute_input": "2021-11-11T12:30:09.336929Z",
     "iopub.status.busy": "2021-11-11T12:30:09.334738Z",
     "iopub.status.idle": "2021-11-11T12:30:10.476207Z",
     "shell.execute_reply": "2021-11-11T12:30:10.477835Z"
    },
    "papermill": {
     "duration": 1.17592,
     "end_time": "2021-11-11T12:30:10.478324",
     "exception": false,
     "start_time": "2021-11-11T12:30:09.302404",
     "status": "completed"
    },
    "tags": []
   },
   "outputs": [],
   "source": [
    "df = pd.read_sql(\"select * from EBAY_TOP_BERLIN where record_time in (select distinct record_time from EBAY_TOP_BERLIN order by record_time desc limit 2)\", sqlite3.connect(\"UsedObjects.db\"))"
   ]
  },
  {
   "cell_type": "code",
   "execution_count": 5,
   "id": "popular-active",
   "metadata": {
    "execution": {
     "iopub.execute_input": "2021-11-11T12:30:10.560114Z",
     "iopub.status.busy": "2021-11-11T12:30:10.544531Z",
     "iopub.status.idle": "2021-11-11T12:30:10.580589Z",
     "shell.execute_reply": "2021-11-11T12:30:10.582092Z"
    },
    "papermill": {
     "duration": 0.079922,
     "end_time": "2021-11-11T12:30:10.582544",
     "exception": false,
     "start_time": "2021-11-11T12:30:10.502622",
     "status": "completed"
    },
    "tags": []
   },
   "outputs": [],
   "source": [
    "df_pivot = df.pivot_table(index=\"PRODUCT\", columns = \"RECORD_TIME\", values = \"LISTING_COUNT\")"
   ]
  },
  {
   "cell_type": "code",
   "execution_count": 6,
   "id": "union-huntington",
   "metadata": {
    "execution": {
     "iopub.execute_input": "2021-11-11T12:30:10.642553Z",
     "iopub.status.busy": "2021-11-11T12:30:10.640333Z",
     "iopub.status.idle": "2021-11-11T12:30:10.645965Z",
     "shell.execute_reply": "2021-11-11T12:30:10.647315Z"
    },
    "papermill": {
     "duration": 0.043394,
     "end_time": "2021-11-11T12:30:10.647787",
     "exception": false,
     "start_time": "2021-11-11T12:30:10.604393",
     "status": "completed"
    },
    "tags": []
   },
   "outputs": [],
   "source": [
    "df_pivot.columns = [\"stamp_1\", \"stamp_2\"]\n",
    "df_pivot_diff = df_pivot.diff(axis=1)"
   ]
  },
  {
   "cell_type": "code",
   "execution_count": 7,
   "id": "fifth-motion",
   "metadata": {
    "execution": {
     "iopub.execute_input": "2021-11-11T12:30:10.705022Z",
     "iopub.status.busy": "2021-11-11T12:30:10.702373Z",
     "iopub.status.idle": "2021-11-11T12:30:12.476572Z",
     "shell.execute_reply": "2021-11-11T12:30:12.479582Z"
    },
    "papermill": {
     "duration": 1.812552,
     "end_time": "2021-11-11T12:30:12.480430",
     "exception": false,
     "start_time": "2021-11-11T12:30:10.667878",
     "status": "completed"
    },
    "tags": []
   },
   "outputs": [
    {
     "data": {
      "text/plain": [
       "<AxesSubplot:ylabel='PRODUCT'>"
      ]
     },
     "execution_count": 7,
     "metadata": {},
     "output_type": "execute_result"
    },
    {
     "data": {
      "image/png": "[encoded data removed]",
      "text/plain": [
       "<Figure size 432x288 with 1 Axes>"
      ]
     },
     "metadata": {
      "needs_background": "light"
     },
     "output_type": "display_data"
    }
   ],
   "source": [
    "df_pivot_diff.sort_values(\"stamp_2\", ascending = False)[\"stamp_2\"].head(10).plot.barh()"
   ]
  },
  {
   "cell_type": "code",
   "execution_count": null,
   "id": "extra-executive",
   "metadata": {
    "papermill": {
     "duration": 0.036816,
     "end_time": "2021-11-11T12:30:12.556356",
     "exception": false,
     "start_time": "2021-11-11T12:30:12.519540",
     "status": "completed"
    },
    "tags": []
   },
   "outputs": [],
   "source": []
  }
 ],
 "metadata": {
  "kernelspec": {
   "display_name": "Python 3",
   "language": "python",
   "name": "python3"
  },
  "language_info": {
   "codemirror_mode": {
    "name": "ipython",
    "version": 3
   },
   "file_extension": ".py",
   "mimetype": "text/x-python",
   "name": "python",
   "nbconvert_exporter": "python",
   "pygments_lexer": "ipython3",
   "version": "3.9.5"
  },
  "papermill": {
   "default_parameters": {},
   "duration": 8.85162,
   "end_time": "2021-11-11T12:30:13.432474",
   "environment_variables": {},
   "exception": null,
   "input_path": "eBay_Overview.ipynb",
   "output_path": "eBay_Overview.ipynb",
   "parameters": {},
   "start_time": "2021-11-11T12:30:04.580854",
   "version": "2.3.3"
  }
 },
 "nbformat": 4,
 "nbformat_minor": 5
}