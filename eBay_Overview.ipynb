{
 "cells": [
  {
   "cell_type": "code",
   "execution_count": 1,
   "id": "reverse-picking",
   "metadata": {
    "execution": {
     "iopub.execute_input": "2021-11-06T07:00:08.385848Z",
     "iopub.status.busy": "2021-11-06T07:00:08.383479Z",
     "iopub.status.idle": "2021-11-06T07:00:09.338646Z",
     "shell.execute_reply": "2021-11-06T07:00:09.340290Z"
    },
    "papermill": {
     "duration": 1.004348,
     "end_time": "2021-11-06T07:00:09.341159",
     "exception": false,
     "start_time": "2021-11-06T07:00:08.336811",
     "status": "completed"
    },
    "tags": []
   },
   "outputs": [],
   "source": [
    "import pandas as pd\n",
    "import sqlite3"
   ]
  },
  {
   "cell_type": "code",
   "execution_count": 2,
   "id": "innovative-syndrome",
   "metadata": {
    "execution": {
     "iopub.execute_input": "2021-11-06T07:00:09.397875Z",
     "iopub.status.busy": "2021-11-06T07:00:09.395558Z",
     "iopub.status.idle": "2021-11-06T07:00:10.144061Z",
     "shell.execute_reply": "2021-11-06T07:00:10.146235Z"
    },
    "papermill": {
     "duration": 0.783528,
     "end_time": "2021-11-06T07:00:10.147059",
     "exception": false,
     "start_time": "2021-11-06T07:00:09.363531",
     "status": "completed"
    },
    "tags": []
   },
   "outputs": [],
   "source": [
    "timestamps = pd.read_sql(\"select distinct record_time from EBAY_TOP_BERLIN order by record_time desc limit 2\", sqlite3.connect(\"UsedObjects.db\"))"
   ]
  },
  {
   "cell_type": "code",
   "execution_count": 3,
   "id": "periodic-identification",
   "metadata": {
    "execution": {
     "iopub.execute_input": "2021-11-06T07:00:10.218462Z",
     "iopub.status.busy": "2021-11-06T07:00:10.215978Z",
     "iopub.status.idle": "2021-11-06T07:00:10.239157Z",
     "shell.execute_reply": "2021-11-06T07:00:10.240614Z"
    },
    "papermill": {
     "duration": 0.073502,
     "end_time": "2021-11-06T07:00:10.241214",
     "exception": false,
     "start_time": "2021-11-06T07:00:10.167712",
     "status": "completed"
    },
    "tags": []
   },
   "outputs": [
    {
     "data": {
      "text/html": [
       "<div>\n",
       "<style scoped>\n",
       "    .dataframe tbody tr th:only-of-type {\n",
       "        vertical-align: middle;\n",
       "    }\n",
       "\n",
       "    .dataframe tbody tr th {\n",
       "        vertical-align: top;\n",
       "    }\n",
       "\n",
       "    .dataframe thead th {\n",
       "        text-align: right;\n",
       "    }\n",
       "</style>\n",
       "<table border=\"1\" class=\"dataframe\">\n",
       "  <thead>\n",
       "    <tr style=\"text-align: right;\">\n",
       "      <th></th>\n",
       "      <th>RECORD_TIME</th>\n",
       "    </tr>\n",
       "  </thead>\n",
       "  <tbody>\n",
       "    <tr>\n",
       "      <th>0</th>\n",
       "      <td>2021-11-06 08:00</td>\n",
       "    </tr>\n",
       "    <tr>\n",
       "      <th>1</th>\n",
       "      <td>2021-11-06 07:30</td>\n",
       "    </tr>\n",
       "  </tbody>\n",
       "</table>\n",
       "</div>"
      ],
      "text/plain": [
       "        RECORD_TIME\n",
       "0  2021-11-06 08:00\n",
       "1  2021-11-06 07:30"
      ]
     },
     "execution_count": 3,
     "metadata": {},
     "output_type": "execute_result"
    }
   ],
   "source": [
    "timestamps"
   ]
  },
  {
   "cell_type": "code",
   "execution_count": 4,
   "id": "alternate-victory",
   "metadata": {
    "execution": {
     "iopub.execute_input": "2021-11-06T07:00:10.298242Z",
     "iopub.status.busy": "2021-11-06T07:00:10.296009Z",
     "iopub.status.idle": "2021-11-06T07:00:11.403407Z",
     "shell.execute_reply": "2021-11-06T07:00:11.405148Z"
    },
    "papermill": {
     "duration": 1.143147,
     "end_time": "2021-11-06T07:00:11.405655",
     "exception": false,
     "start_time": "2021-11-06T07:00:10.262508",
     "status": "completed"
    },
    "tags": []
   },
   "outputs": [],
   "source": [
    "df = pd.read_sql(\"select * from EBAY_TOP_BERLIN where record_time in (select distinct record_time from EBAY_TOP_BERLIN order by record_time desc limit 2)\", sqlite3.connect(\"UsedObjects.db\"))"
   ]
  },
  {
   "cell_type": "code",
   "execution_count": 5,
   "id": "popular-active",
   "metadata": {
    "execution": {
     "iopub.execute_input": "2021-11-06T07:00:11.474665Z",
     "iopub.status.busy": "2021-11-06T07:00:11.472107Z",
     "iopub.status.idle": "2021-11-06T07:00:11.505887Z",
     "shell.execute_reply": "2021-11-06T07:00:11.507335Z"
    },
    "papermill": {
     "duration": 0.08062,
     "end_time": "2021-11-06T07:00:11.507911",
     "exception": false,
     "start_time": "2021-11-06T07:00:11.427291",
     "status": "completed"
    },
    "tags": []
   },
   "outputs": [],
   "source": [
    "df_pivot = df.pivot_table(index=\"PRODUCT\", columns = \"RECORD_TIME\", values = \"LISTING_COUNT\")"
   ]
  },
  {
   "cell_type": "code",
   "execution_count": 6,
   "id": "union-huntington",
   "metadata": {
    "execution": {
     "iopub.execute_input": "2021-11-06T07:00:11.571564Z",
     "iopub.status.busy": "2021-11-06T07:00:11.569179Z",
     "iopub.status.idle": "2021-11-06T07:00:11.575358Z",
     "shell.execute_reply": "2021-11-06T07:00:11.577649Z"
    },
    "papermill": {
     "duration": 0.047889,
     "end_time": "2021-11-06T07:00:11.578509",
     "exception": false,
     "start_time": "2021-11-06T07:00:11.530620",
     "status": "completed"
    },
    "tags": []
   },
   "outputs": [],
   "source": [
    "df_pivot.columns = [\"stamp_1\", \"stamp_2\"]\n",
    "df_pivot_diff = df_pivot.diff(axis=1)"
   ]
  },
  {
   "cell_type": "code",
   "execution_count": 7,
   "id": "fifth-motion",
   "metadata": {
    "execution": {
     "iopub.execute_input": "2021-11-06T07:00:11.637903Z",
     "iopub.status.busy": "2021-11-06T07:00:11.635300Z",
     "iopub.status.idle": "2021-11-06T07:00:13.438016Z",
     "shell.execute_reply": "2021-11-06T07:00:13.439551Z"
    },
    "papermill": {
     "duration": 1.839998,
     "end_time": "2021-11-06T07:00:13.440015",
     "exception": false,
     "start_time": "2021-11-06T07:00:11.600017",
     "status": "completed"
    },
    "tags": []
   },
   "outputs": [
    {
     "data": {
      "text/plain": [
       "<AxesSubplot:ylabel='PRODUCT'>"
      ]
     },
     "execution_count": 7,
     "metadata": {},
     "output_type": "execute_result"
    },
    {
     "data": {
      "image/png": "[encoded data removed]",
      "text/plain": [
       "<Figure size 432x288 with 1 Axes>"
      ]
     },
     "metadata": {
      "needs_background": "light"
     },
     "output_type": "display_data"
    }
   ],
   "source": [
    "df_pivot_diff.sort_values(\"stamp_2\", ascending = False)[\"stamp_2\"].head(10).plot.barh()"
   ]
  },
  {
   "cell_type": "code",
   "execution_count": null,
   "id": "extra-executive",
   "metadata": {
    "papermill": {
     "duration": 0.023618,
     "end_time": "2021-11-06T07:00:13.488050",
     "exception": false,
     "start_time": "2021-11-06T07:00:13.464432",
     "status": "completed"
    },
    "tags": []
   },
   "outputs": [],
   "source": []
  }
 ],
 "metadata": {
  "kernelspec": {
   "display_name": "Python 3",
   "language": "python",
   "name": "python3"
  },
  "language_info": {
   "codemirror_mode": {
    "name": "ipython",
    "version": 3
   },
   "file_extension": ".py",
   "mimetype": "text/x-python",
   "name": "python",
   "nbconvert_exporter": "python",
   "pygments_lexer": "ipython3",
   "version": "3.9.5"
  },
  "papermill": {
   "default_parameters": {},
   "duration": 8.963901,
   "end_time": "2021-11-06T07:00:14.436260",
   "environment_variables": {},
   "exception": null,
   "input_path": "eBay_Overview.ipynb",
   "output_path": "eBay_Overview.ipynb",
   "parameters": {},
   "start_time": "2021-11-06T07:00:05.472359",
   "version": "2.3.3"
  }
 },
 "nbformat": 4,
 "nbformat_minor": 5
}