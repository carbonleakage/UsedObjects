{
 "cells": [
  {
   "cell_type": "code",
   "execution_count": 1,
   "id": "reverse-picking",
   "metadata": {
    "execution": {
     "iopub.execute_input": "2021-09-28T12:30:06.734331Z",
     "iopub.status.busy": "2021-09-28T12:30:06.732364Z",
     "iopub.status.idle": "2021-09-28T12:30:07.539495Z",
     "shell.execute_reply": "2021-09-28T12:30:07.540854Z"
    },
    "papermill": {
     "duration": 0.859705,
     "end_time": "2021-09-28T12:30:07.541492",
     "exception": false,
     "start_time": "2021-09-28T12:30:06.681787",
     "status": "completed"
    },
    "tags": []
   },
   "outputs": [],
   "source": [
    "import pandas as pd\n",
    "import sqlite3"
   ]
  },
  {
   "cell_type": "code",
   "execution_count": 2,
   "id": "innovative-syndrome",
   "metadata": {
    "execution": {
     "iopub.execute_input": "2021-09-28T12:30:07.593514Z",
     "iopub.status.busy": "2021-09-28T12:30:07.591643Z",
     "iopub.status.idle": "2021-09-28T12:30:07.994984Z",
     "shell.execute_reply": "2021-09-28T12:30:07.996416Z"
    },
    "papermill": {
     "duration": 0.433206,
     "end_time": "2021-09-28T12:30:07.996847",
     "exception": false,
     "start_time": "2021-09-28T12:30:07.563641",
     "status": "completed"
    },
    "tags": []
   },
   "outputs": [],
   "source": [
    "timestamps = pd.read_sql(\"select distinct record_time from EBAY_TOP_BERLIN order by record_time desc limit 2\", sqlite3.connect(\"UsedObjects.db\"))"
   ]
  },
  {
   "cell_type": "code",
   "execution_count": 3,
   "id": "periodic-identification",
   "metadata": {
    "execution": {
     "iopub.execute_input": "2021-09-28T12:30:08.061285Z",
     "iopub.status.busy": "2021-09-28T12:30:08.059205Z",
     "iopub.status.idle": "2021-09-28T12:30:08.079850Z",
     "shell.execute_reply": "2021-09-28T12:30:08.081133Z"
    },
    "papermill": {
     "duration": 0.064953,
     "end_time": "2021-09-28T12:30:08.081525",
     "exception": false,
     "start_time": "2021-09-28T12:30:08.016572",
     "status": "completed"
    },
    "tags": []
   },
   "outputs": [
    {
     "data": {
      "text/html": [
       "<div>\n",
       "<style scoped>\n",
       "    .dataframe tbody tr th:only-of-type {\n",
       "        vertical-align: middle;\n",
       "    }\n",
       "\n",
       "    .dataframe tbody tr th {\n",
       "        vertical-align: top;\n",
       "    }\n",
       "\n",
       "    .dataframe thead th {\n",
       "        text-align: right;\n",
       "    }\n",
       "</style>\n",
       "<table border=\"1\" class=\"dataframe\">\n",
       "  <thead>\n",
       "    <tr style=\"text-align: right;\">\n",
       "      <th></th>\n",
       "      <th>RECORD_TIME</th>\n",
       "    </tr>\n",
       "  </thead>\n",
       "  <tbody>\n",
       "    <tr>\n",
       "      <th>0</th>\n",
       "      <td>2021-09-28 14:30</td>\n",
       "    </tr>\n",
       "    <tr>\n",
       "      <th>1</th>\n",
       "      <td>2021-09-28 14:00</td>\n",
       "    </tr>\n",
       "  </tbody>\n",
       "</table>\n",
       "</div>"
      ],
      "text/plain": [
       "        RECORD_TIME\n",
       "0  2021-09-28 14:30\n",
       "1  2021-09-28 14:00"
      ]
     },
     "execution_count": 3,
     "metadata": {},
     "output_type": "execute_result"
    }
   ],
   "source": [
    "timestamps"
   ]
  },
  {
   "cell_type": "code",
   "execution_count": 4,
   "id": "alternate-victory",
   "metadata": {
    "execution": {
     "iopub.execute_input": "2021-09-28T12:30:08.135057Z",
     "iopub.status.busy": "2021-09-28T12:30:08.132740Z",
     "iopub.status.idle": "2021-09-28T12:30:08.714640Z",
     "shell.execute_reply": "2021-09-28T12:30:08.715947Z"
    },
    "papermill": {
     "duration": 0.612384,
     "end_time": "2021-09-28T12:30:08.716344",
     "exception": false,
     "start_time": "2021-09-28T12:30:08.103960",
     "status": "completed"
    },
    "tags": []
   },
   "outputs": [],
   "source": [
    "df = pd.read_sql(\"select * from EBAY_TOP_BERLIN where record_time in (select distinct record_time from EBAY_TOP_BERLIN order by record_time desc limit 2)\", sqlite3.connect(\"UsedObjects.db\"))"
   ]
  },
  {
   "cell_type": "code",
   "execution_count": 5,
   "id": "popular-active",
   "metadata": {
    "execution": {
     "iopub.execute_input": "2021-09-28T12:30:08.796680Z",
     "iopub.status.busy": "2021-09-28T12:30:08.784752Z",
     "iopub.status.idle": "2021-09-28T12:30:08.814176Z",
     "shell.execute_reply": "2021-09-28T12:30:08.815483Z"
    },
    "papermill": {
     "duration": 0.073499,
     "end_time": "2021-09-28T12:30:08.815893",
     "exception": false,
     "start_time": "2021-09-28T12:30:08.742394",
     "status": "completed"
    },
    "tags": []
   },
   "outputs": [],
   "source": [
    "df_pivot = df.pivot_table(index=\"PRODUCT\", columns = \"RECORD_TIME\", values = \"LISTING_COUNT\")"
   ]
  },
  {
   "cell_type": "code",
   "execution_count": 6,
   "id": "union-huntington",
   "metadata": {
    "execution": {
     "iopub.execute_input": "2021-09-28T12:30:08.872476Z",
     "iopub.status.busy": "2021-09-28T12:30:08.870240Z",
     "iopub.status.idle": "2021-09-28T12:30:08.875983Z",
     "shell.execute_reply": "2021-09-28T12:30:08.877262Z"
    },
    "papermill": {
     "duration": 0.041014,
     "end_time": "2021-09-28T12:30:08.877711",
     "exception": false,
     "start_time": "2021-09-28T12:30:08.836697",
     "status": "completed"
    },
    "tags": []
   },
   "outputs": [],
   "source": [
    "df_pivot.columns = [\"stamp_1\", \"stamp_2\"]\n",
    "df_pivot_diff = df_pivot.diff(axis=1)"
   ]
  },
  {
   "cell_type": "code",
   "execution_count": 7,
   "id": "fifth-motion",
   "metadata": {
    "execution": {
     "iopub.execute_input": "2021-09-28T12:30:08.935393Z",
     "iopub.status.busy": "2021-09-28T12:30:08.932697Z",
     "iopub.status.idle": "2021-09-28T12:30:10.430303Z",
     "shell.execute_reply": "2021-09-28T12:30:10.431814Z"
    },
    "papermill": {
     "duration": 1.531495,
     "end_time": "2021-09-28T12:30:10.432267",
     "exception": false,
     "start_time": "2021-09-28T12:30:08.900772",
     "status": "completed"
    },
    "tags": []
   },
   "outputs": [
    {
     "data": {
      "text/plain": [
       "<AxesSubplot:ylabel='PRODUCT'>"
      ]
     },
     "execution_count": 7,
     "metadata": {},
     "output_type": "execute_result"
    },
    {
     "data": {
      "image/png": "[encoded data removed]",
      "text/plain": [
       "<Figure size 432x288 with 1 Axes>"
      ]
     },
     "metadata": {
      "needs_background": "light"
     },
     "output_type": "display_data"
    }
   ],
   "source": [
    "df_pivot_diff.sort_values(\"stamp_2\", ascending = False)[\"stamp_2\"].head(10).plot.barh()"
   ]
  },
  {
   "cell_type": "code",
   "execution_count": null,
   "id": "extra-executive",
   "metadata": {
    "papermill": {
     "duration": 0.02233,
     "end_time": "2021-09-28T12:30:10.479349",
     "exception": false,
     "start_time": "2021-09-28T12:30:10.457019",
     "status": "completed"
    },
    "tags": []
   },
   "outputs": [],
   "source": []
  }
 ],
 "metadata": {
  "kernelspec": {
   "display_name": "Python 3",
   "language": "python",
   "name": "python3"
  },
  "language_info": {
   "codemirror_mode": {
    "name": "ipython",
    "version": 3
   },
   "file_extension": ".py",
   "mimetype": "text/x-python",
   "name": "python",
   "nbconvert_exporter": "python",
   "pygments_lexer": "ipython3",
   "version": "3.9.5"
  },
  "papermill": {
   "default_parameters": {},
   "duration": 7.831228,
   "end_time": "2021-09-28T12:30:12.104564",
   "environment_variables": {},
   "exception": null,
   "input_path": "eBay_Overview.ipynb",
   "output_path": "eBay_Overview.ipynb",
   "parameters": {},
   "start_time": "2021-09-28T12:30:04.273336",
   "version": "2.3.3"
  }
 },
 "nbformat": 4,
 "nbformat_minor": 5
}