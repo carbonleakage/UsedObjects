{
 "cells": [
  {
   "cell_type": "code",
   "execution_count": 1,
   "id": "reverse-picking",
   "metadata": {
    "execution": {
     "iopub.execute_input": "2021-11-20T19:00:07.279578Z",
     "iopub.status.busy": "2021-11-20T19:00:07.277336Z",
     "iopub.status.idle": "2021-11-20T19:00:08.227128Z",
     "shell.execute_reply": "2021-11-20T19:00:08.228614Z"
    },
    "papermill": {
     "duration": 0.998299,
     "end_time": "2021-11-20T19:00:08.229378",
     "exception": false,
     "start_time": "2021-11-20T19:00:07.231079",
     "status": "completed"
    },
    "tags": []
   },
   "outputs": [],
   "source": [
    "import pandas as pd\n",
    "import sqlite3"
   ]
  },
  {
   "cell_type": "code",
   "execution_count": 2,
   "id": "innovative-syndrome",
   "metadata": {
    "execution": {
     "iopub.execute_input": "2021-11-20T19:00:08.294740Z",
     "iopub.status.busy": "2021-11-20T19:00:08.292454Z",
     "iopub.status.idle": "2021-11-20T19:00:09.172353Z",
     "shell.execute_reply": "2021-11-20T19:00:09.173915Z"
    },
    "papermill": {
     "duration": 0.915393,
     "end_time": "2021-11-20T19:00:09.174414",
     "exception": false,
     "start_time": "2021-11-20T19:00:08.259021",
     "status": "completed"
    },
    "tags": []
   },
   "outputs": [],
   "source": [
    "timestamps = pd.read_sql(\"select distinct record_time from EBAY_TOP_BERLIN order by record_time desc limit 2\", sqlite3.connect(\"UsedObjects.db\"))"
   ]
  },
  {
   "cell_type": "code",
   "execution_count": 3,
   "id": "periodic-identification",
   "metadata": {
    "execution": {
     "iopub.execute_input": "2021-11-20T19:00:09.249304Z",
     "iopub.status.busy": "2021-11-20T19:00:09.243040Z",
     "iopub.status.idle": "2021-11-20T19:00:09.266065Z",
     "shell.execute_reply": "2021-11-20T19:00:09.267550Z"
    },
    "papermill": {
     "duration": 0.073293,
     "end_time": "2021-11-20T19:00:09.268054",
     "exception": false,
     "start_time": "2021-11-20T19:00:09.194761",
     "status": "completed"
    },
    "tags": []
   },
   "outputs": [
    {
     "data": {
      "text/html": [
       "<div>\n",
       "<style scoped>\n",
       "    .dataframe tbody tr th:only-of-type {\n",
       "        vertical-align: middle;\n",
       "    }\n",
       "\n",
       "    .dataframe tbody tr th {\n",
       "        vertical-align: top;\n",
       "    }\n",
       "\n",
       "    .dataframe thead th {\n",
       "        text-align: right;\n",
       "    }\n",
       "</style>\n",
       "<table border=\"1\" class=\"dataframe\">\n",
       "  <thead>\n",
       "    <tr style=\"text-align: right;\">\n",
       "      <th></th>\n",
       "      <th>RECORD_TIME</th>\n",
       "    </tr>\n",
       "  </thead>\n",
       "  <tbody>\n",
       "    <tr>\n",
       "      <th>0</th>\n",
       "      <td>2021-11-20 20:00</td>\n",
       "    </tr>\n",
       "    <tr>\n",
       "      <th>1</th>\n",
       "      <td>2021-11-20 19:30</td>\n",
       "    </tr>\n",
       "  </tbody>\n",
       "</table>\n",
       "</div>"
      ],
      "text/plain": [
       "        RECORD_TIME\n",
       "0  2021-11-20 20:00\n",
       "1  2021-11-20 19:30"
      ]
     },
     "execution_count": 3,
     "metadata": {},
     "output_type": "execute_result"
    }
   ],
   "source": [
    "timestamps"
   ]
  },
  {
   "cell_type": "code",
   "execution_count": 4,
   "id": "alternate-victory",
   "metadata": {
    "execution": {
     "iopub.execute_input": "2021-11-20T19:00:09.324336Z",
     "iopub.status.busy": "2021-11-20T19:00:09.322057Z",
     "iopub.status.idle": "2021-11-20T19:00:10.589143Z",
     "shell.execute_reply": "2021-11-20T19:00:10.590754Z"
    },
    "papermill": {
     "duration": 1.302225,
     "end_time": "2021-11-20T19:00:10.591276",
     "exception": false,
     "start_time": "2021-11-20T19:00:09.289051",
     "status": "completed"
    },
    "tags": []
   },
   "outputs": [],
   "source": [
    "df = pd.read_sql(\"select * from EBAY_TOP_BERLIN where record_time in (select distinct record_time from EBAY_TOP_BERLIN order by record_time desc limit 2)\", sqlite3.connect(\"UsedObjects.db\"))"
   ]
  },
  {
   "cell_type": "code",
   "execution_count": 5,
   "id": "popular-active",
   "metadata": {
    "execution": {
     "iopub.execute_input": "2021-11-20T19:00:10.658610Z",
     "iopub.status.busy": "2021-11-20T19:00:10.656022Z",
     "iopub.status.idle": "2021-11-20T19:00:10.690873Z",
     "shell.execute_reply": "2021-11-20T19:00:10.689242Z"
    },
    "papermill": {
     "duration": 0.077286,
     "end_time": "2021-11-20T19:00:10.691316",
     "exception": false,
     "start_time": "2021-11-20T19:00:10.614030",
     "status": "completed"
    },
    "tags": []
   },
   "outputs": [],
   "source": [
    "df_pivot = df.pivot_table(index=\"PRODUCT\", columns = \"RECORD_TIME\", values = \"LISTING_COUNT\")"
   ]
  },
  {
   "cell_type": "code",
   "execution_count": 6,
   "id": "union-huntington",
   "metadata": {
    "execution": {
     "iopub.execute_input": "2021-11-20T19:00:10.754241Z",
     "iopub.status.busy": "2021-11-20T19:00:10.751904Z",
     "iopub.status.idle": "2021-11-20T19:00:10.757611Z",
     "shell.execute_reply": "2021-11-20T19:00:10.759231Z"
    },
    "papermill": {
     "duration": 0.046215,
     "end_time": "2021-11-20T19:00:10.759726",
     "exception": false,
     "start_time": "2021-11-20T19:00:10.713511",
     "status": "completed"
    },
    "tags": []
   },
   "outputs": [],
   "source": [
    "df_pivot.columns = [\"stamp_1\", \"stamp_2\"]\n",
    "df_pivot_diff = df_pivot.diff(axis=1)"
   ]
  },
  {
   "cell_type": "code",
   "execution_count": 7,
   "id": "fifth-motion",
   "metadata": {
    "execution": {
     "iopub.execute_input": "2021-11-20T19:00:10.823332Z",
     "iopub.status.busy": "2021-11-20T19:00:10.818918Z",
     "iopub.status.idle": "2021-11-20T19:00:12.572059Z",
     "shell.execute_reply": "2021-11-20T19:00:12.573396Z"
    },
    "papermill": {
     "duration": 1.792456,
     "end_time": "2021-11-20T19:00:12.573851",
     "exception": false,
     "start_time": "2021-11-20T19:00:10.781395",
     "status": "completed"
    },
    "tags": []
   },
   "outputs": [
    {
     "data": {
      "text/plain": [
       "<AxesSubplot:ylabel='PRODUCT'>"
      ]
     },
     "execution_count": 7,
     "metadata": {},
     "output_type": "execute_result"
    },
    {
     "data": {
      "image/png": "[encoded data removed]",
      "text/plain": [
       "<Figure size 432x288 with 1 Axes>"
      ]
     },
     "metadata": {
      "needs_background": "light"
     },
     "output_type": "display_data"
    }
   ],
   "source": [
    "df_pivot_diff.sort_values(\"stamp_2\", ascending = False)[\"stamp_2\"].head(10).plot.barh()"
   ]
  },
  {
   "cell_type": "code",
   "execution_count": null,
   "id": "extra-executive",
   "metadata": {
    "papermill": {
     "duration": 0.023317,
     "end_time": "2021-11-20T19:00:12.621257",
     "exception": false,
     "start_time": "2021-11-20T19:00:12.597940",
     "status": "completed"
    },
    "tags": []
   },
   "outputs": [],
   "source": []
  }
 ],
 "metadata": {
  "kernelspec": {
   "display_name": "Python 3",
   "language": "python",
   "name": "python3"
  },
  "language_info": {
   "codemirror_mode": {
    "name": "ipython",
    "version": 3
   },
   "file_extension": ".py",
   "mimetype": "text/x-python",
   "name": "python",
   "nbconvert_exporter": "python",
   "pygments_lexer": "ipython3",
   "version": "3.9.5"
  },
  "papermill": {
   "default_parameters": {},
   "duration": 10.018747,
   "end_time": "2021-11-20T19:00:14.419722",
   "environment_variables": {},
   "exception": null,
   "input_path": "eBay_Overview.ipynb",
   "output_path": "eBay_Overview.ipynb",
   "parameters": {},
   "start_time": "2021-11-20T19:00:04.400975",
   "version": "2.3.3"
  }
 },
 "nbformat": 4,
 "nbformat_minor": 5
}