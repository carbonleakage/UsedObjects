{
 "cells": [
  {
   "cell_type": "code",
   "execution_count": 1,
   "id": "reverse-picking",
   "metadata": {
    "execution": {
     "iopub.execute_input": "2021-09-05T21:00:07.602618Z",
     "iopub.status.busy": "2021-09-05T21:00:07.600671Z",
     "iopub.status.idle": "2021-09-05T21:00:08.406045Z",
     "shell.execute_reply": "2021-09-05T21:00:08.407582Z"
    },
    "papermill": {
     "duration": 0.858001,
     "end_time": "2021-09-05T21:00:08.408247",
     "exception": false,
     "start_time": "2021-09-05T21:00:07.550246",
     "status": "completed"
    },
    "tags": []
   },
   "outputs": [],
   "source": [
    "import pandas as pd\n",
    "import sqlite3"
   ]
  },
  {
   "cell_type": "code",
   "execution_count": 2,
   "id": "innovative-syndrome",
   "metadata": {
    "execution": {
     "iopub.execute_input": "2021-09-05T21:00:08.458837Z",
     "iopub.status.busy": "2021-09-05T21:00:08.456908Z",
     "iopub.status.idle": "2021-09-05T21:00:08.670302Z",
     "shell.execute_reply": "2021-09-05T21:00:08.671648Z"
    },
    "papermill": {
     "duration": 0.243584,
     "end_time": "2021-09-05T21:00:08.672088",
     "exception": false,
     "start_time": "2021-09-05T21:00:08.428504",
     "status": "completed"
    },
    "tags": []
   },
   "outputs": [],
   "source": [
    "timestamps = pd.read_sql(\"select distinct record_time from EBAY_TOP_BERLIN order by record_time desc limit 2\", sqlite3.connect(\"UsedObjects.db\"))"
   ]
  },
  {
   "cell_type": "code",
   "execution_count": 3,
   "id": "periodic-identification",
   "metadata": {
    "execution": {
     "iopub.execute_input": "2021-09-05T21:00:08.740046Z",
     "iopub.status.busy": "2021-09-05T21:00:08.734938Z",
     "iopub.status.idle": "2021-09-05T21:00:08.755519Z",
     "shell.execute_reply": "2021-09-05T21:00:08.756806Z"
    },
    "papermill": {
     "duration": 0.064995,
     "end_time": "2021-09-05T21:00:08.757257",
     "exception": false,
     "start_time": "2021-09-05T21:00:08.692262",
     "status": "completed"
    },
    "tags": []
   },
   "outputs": [
    {
     "data": {
      "text/html": [
       "<div>\n",
       "<style scoped>\n",
       "    .dataframe tbody tr th:only-of-type {\n",
       "        vertical-align: middle;\n",
       "    }\n",
       "\n",
       "    .dataframe tbody tr th {\n",
       "        vertical-align: top;\n",
       "    }\n",
       "\n",
       "    .dataframe thead th {\n",
       "        text-align: right;\n",
       "    }\n",
       "</style>\n",
       "<table border=\"1\" class=\"dataframe\">\n",
       "  <thead>\n",
       "    <tr style=\"text-align: right;\">\n",
       "      <th></th>\n",
       "      <th>RECORD_TIME</th>\n",
       "    </tr>\n",
       "  </thead>\n",
       "  <tbody>\n",
       "    <tr>\n",
       "      <th>0</th>\n",
       "      <td>2021-09-05 23:00</td>\n",
       "    </tr>\n",
       "    <tr>\n",
       "      <th>1</th>\n",
       "      <td>2021-09-05 22:30</td>\n",
       "    </tr>\n",
       "  </tbody>\n",
       "</table>\n",
       "</div>"
      ],
      "text/plain": [
       "        RECORD_TIME\n",
       "0  2021-09-05 23:00\n",
       "1  2021-09-05 22:30"
      ]
     },
     "execution_count": 3,
     "metadata": {},
     "output_type": "execute_result"
    }
   ],
   "source": [
    "timestamps"
   ]
  },
  {
   "cell_type": "code",
   "execution_count": 4,
   "id": "alternate-victory",
   "metadata": {
    "execution": {
     "iopub.execute_input": "2021-09-05T21:00:08.811923Z",
     "iopub.status.busy": "2021-09-05T21:00:08.809544Z",
     "iopub.status.idle": "2021-09-05T21:00:09.129148Z",
     "shell.execute_reply": "2021-09-05T21:00:09.130362Z"
    },
    "papermill": {
     "duration": 0.349912,
     "end_time": "2021-09-05T21:00:09.130756",
     "exception": false,
     "start_time": "2021-09-05T21:00:08.780844",
     "status": "completed"
    },
    "tags": []
   },
   "outputs": [],
   "source": [
    "df = pd.read_sql(\"select * from EBAY_TOP_BERLIN where record_time in (select distinct record_time from EBAY_TOP_BERLIN order by record_time desc limit 2)\", sqlite3.connect(\"UsedObjects.db\"))"
   ]
  },
  {
   "cell_type": "code",
   "execution_count": 5,
   "id": "popular-active",
   "metadata": {
    "execution": {
     "iopub.execute_input": "2021-09-05T21:00:09.225240Z",
     "iopub.status.busy": "2021-09-05T21:00:09.212823Z",
     "iopub.status.idle": "2021-09-05T21:00:09.240803Z",
     "shell.execute_reply": "2021-09-05T21:00:09.242021Z"
    },
    "papermill": {
     "duration": 0.076186,
     "end_time": "2021-09-05T21:00:09.242414",
     "exception": false,
     "start_time": "2021-09-05T21:00:09.166228",
     "status": "completed"
    },
    "tags": []
   },
   "outputs": [],
   "source": [
    "df_pivot = df.pivot_table(index=\"PRODUCT\", columns = \"RECORD_TIME\", values = \"LISTING_COUNT\")"
   ]
  },
  {
   "cell_type": "code",
   "execution_count": 6,
   "id": "union-huntington",
   "metadata": {
    "execution": {
     "iopub.execute_input": "2021-09-05T21:00:09.298077Z",
     "iopub.status.busy": "2021-09-05T21:00:09.296020Z",
     "iopub.status.idle": "2021-09-05T21:00:09.301171Z",
     "shell.execute_reply": "2021-09-05T21:00:09.302356Z"
    },
    "papermill": {
     "duration": 0.039816,
     "end_time": "2021-09-05T21:00:09.302779",
     "exception": false,
     "start_time": "2021-09-05T21:00:09.262963",
     "status": "completed"
    },
    "tags": []
   },
   "outputs": [],
   "source": [
    "df_pivot.columns = [\"stamp_1\", \"stamp_2\"]\n",
    "df_pivot_diff = df_pivot.diff(axis=1)"
   ]
  },
  {
   "cell_type": "code",
   "execution_count": 7,
   "id": "fifth-motion",
   "metadata": {
    "execution": {
     "iopub.execute_input": "2021-09-05T21:00:09.360472Z",
     "iopub.status.busy": "2021-09-05T21:00:09.357811Z",
     "iopub.status.idle": "2021-09-05T21:00:10.852696Z",
     "shell.execute_reply": "2021-09-05T21:00:10.853978Z"
    },
    "papermill": {
     "duration": 1.528178,
     "end_time": "2021-09-05T21:00:10.854395",
     "exception": false,
     "start_time": "2021-09-05T21:00:09.326217",
     "status": "completed"
    },
    "tags": []
   },
   "outputs": [
    {
     "data": {
      "text/plain": [
       "<AxesSubplot:ylabel='PRODUCT'>"
      ]
     },
     "execution_count": 7,
     "metadata": {},
     "output_type": "execute_result"
    },
    {
     "data": {
      "image/png": "[encoded data removed]",
      "text/plain": [
       "<Figure size 432x288 with 1 Axes>"
      ]
     },
     "metadata": {
      "needs_background": "light"
     },
     "output_type": "display_data"
    }
   ],
   "source": [
    "df_pivot_diff.sort_values(\"stamp_2\", ascending = False)[\"stamp_2\"].head(10).plot.barh()"
   ]
  },
  {
   "cell_type": "code",
   "execution_count": null,
   "id": "extra-executive",
   "metadata": {
    "papermill": {
     "duration": 0.022037,
     "end_time": "2021-09-05T21:00:10.899962",
     "exception": false,
     "start_time": "2021-09-05T21:00:10.877925",
     "status": "completed"
    },
    "tags": []
   },
   "outputs": [],
   "source": []
  }
 ],
 "metadata": {
  "kernelspec": {
   "display_name": "Python 3",
   "language": "python",
   "name": "python3"
  },
  "language_info": {
   "codemirror_mode": {
    "name": "ipython",
    "version": 3
   },
   "file_extension": ".py",
   "mimetype": "text/x-python",
   "name": "python",
   "nbconvert_exporter": "python",
   "pygments_lexer": "ipython3",
   "version": "3.9.5"
  },
  "papermill": {
   "default_parameters": {},
   "duration": 6.39855,
   "end_time": "2021-09-05T21:00:11.540518",
   "environment_variables": {},
   "exception": null,
   "input_path": "eBay_Overview.ipynb",
   "output_path": "eBay_Overview.ipynb",
   "parameters": {},
   "start_time": "2021-09-05T21:00:05.141968",
   "version": "2.3.3"
  }
 },
 "nbformat": 4,
 "nbformat_minor": 5
}