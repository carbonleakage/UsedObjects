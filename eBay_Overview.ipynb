{
 "cells": [
  {
   "cell_type": "code",
   "execution_count": 1,
   "id": "reverse-picking",
   "metadata": {
    "execution": {
     "iopub.execute_input": "2021-10-14T01:30:07.125099Z",
     "iopub.status.busy": "2021-10-14T01:30:07.123108Z",
     "iopub.status.idle": "2021-10-14T01:30:07.928973Z",
     "shell.execute_reply": "2021-10-14T01:30:07.930267Z"
    },
    "papermill": {
     "duration": 0.857105,
     "end_time": "2021-10-14T01:30:07.930885",
     "exception": false,
     "start_time": "2021-10-14T01:30:07.073780",
     "status": "completed"
    },
    "tags": []
   },
   "outputs": [],
   "source": [
    "import pandas as pd\n",
    "import sqlite3"
   ]
  },
  {
   "cell_type": "code",
   "execution_count": 2,
   "id": "innovative-syndrome",
   "metadata": {
    "execution": {
     "iopub.execute_input": "2021-10-14T01:30:07.983265Z",
     "iopub.status.busy": "2021-10-14T01:30:07.981106Z",
     "iopub.status.idle": "2021-10-14T01:30:08.529622Z",
     "shell.execute_reply": "2021-10-14T01:30:08.530889Z"
    },
    "papermill": {
     "duration": 0.578322,
     "end_time": "2021-10-14T01:30:08.531289",
     "exception": false,
     "start_time": "2021-10-14T01:30:07.952967",
     "status": "completed"
    },
    "tags": []
   },
   "outputs": [],
   "source": [
    "timestamps = pd.read_sql(\"select distinct record_time from EBAY_TOP_BERLIN order by record_time desc limit 2\", sqlite3.connect(\"UsedObjects.db\"))"
   ]
  },
  {
   "cell_type": "code",
   "execution_count": 3,
   "id": "periodic-identification",
   "metadata": {
    "execution": {
     "iopub.execute_input": "2021-10-14T01:30:08.612340Z",
     "iopub.status.busy": "2021-10-14T01:30:08.610309Z",
     "iopub.status.idle": "2021-10-14T01:30:08.630374Z",
     "shell.execute_reply": "2021-10-14T01:30:08.631682Z"
    },
    "papermill": {
     "duration": 0.081533,
     "end_time": "2021-10-14T01:30:08.632092",
     "exception": false,
     "start_time": "2021-10-14T01:30:08.550559",
     "status": "completed"
    },
    "tags": []
   },
   "outputs": [
    {
     "data": {
      "text/html": [
       "<div>\n",
       "<style scoped>\n",
       "    .dataframe tbody tr th:only-of-type {\n",
       "        vertical-align: middle;\n",
       "    }\n",
       "\n",
       "    .dataframe tbody tr th {\n",
       "        vertical-align: top;\n",
       "    }\n",
       "\n",
       "    .dataframe thead th {\n",
       "        text-align: right;\n",
       "    }\n",
       "</style>\n",
       "<table border=\"1\" class=\"dataframe\">\n",
       "  <thead>\n",
       "    <tr style=\"text-align: right;\">\n",
       "      <th></th>\n",
       "      <th>RECORD_TIME</th>\n",
       "    </tr>\n",
       "  </thead>\n",
       "  <tbody>\n",
       "    <tr>\n",
       "      <th>0</th>\n",
       "      <td>2021-10-14 03:30</td>\n",
       "    </tr>\n",
       "    <tr>\n",
       "      <th>1</th>\n",
       "      <td>2021-10-14 03:00</td>\n",
       "    </tr>\n",
       "  </tbody>\n",
       "</table>\n",
       "</div>"
      ],
      "text/plain": [
       "        RECORD_TIME\n",
       "0  2021-10-14 03:30\n",
       "1  2021-10-14 03:00"
      ]
     },
     "execution_count": 3,
     "metadata": {},
     "output_type": "execute_result"
    }
   ],
   "source": [
    "timestamps"
   ]
  },
  {
   "cell_type": "code",
   "execution_count": 4,
   "id": "alternate-victory",
   "metadata": {
    "execution": {
     "iopub.execute_input": "2021-10-14T01:30:08.683884Z",
     "iopub.status.busy": "2021-10-14T01:30:08.682065Z",
     "iopub.status.idle": "2021-10-14T01:30:09.474208Z",
     "shell.execute_reply": "2021-10-14T01:30:09.475452Z"
    },
    "papermill": {
     "duration": 0.822028,
     "end_time": "2021-10-14T01:30:09.475849",
     "exception": false,
     "start_time": "2021-10-14T01:30:08.653821",
     "status": "completed"
    },
    "tags": []
   },
   "outputs": [],
   "source": [
    "df = pd.read_sql(\"select * from EBAY_TOP_BERLIN where record_time in (select distinct record_time from EBAY_TOP_BERLIN order by record_time desc limit 2)\", sqlite3.connect(\"UsedObjects.db\"))"
   ]
  },
  {
   "cell_type": "code",
   "execution_count": 5,
   "id": "popular-active",
   "metadata": {
    "execution": {
     "iopub.execute_input": "2021-10-14T01:30:09.550311Z",
     "iopub.status.busy": "2021-10-14T01:30:09.535067Z",
     "iopub.status.idle": "2021-10-14T01:30:09.563569Z",
     "shell.execute_reply": "2021-10-14T01:30:09.564856Z"
    },
    "papermill": {
     "duration": 0.068431,
     "end_time": "2021-10-14T01:30:09.565257",
     "exception": false,
     "start_time": "2021-10-14T01:30:09.496826",
     "status": "completed"
    },
    "tags": []
   },
   "outputs": [],
   "source": [
    "df_pivot = df.pivot_table(index=\"PRODUCT\", columns = \"RECORD_TIME\", values = \"LISTING_COUNT\")"
   ]
  },
  {
   "cell_type": "code",
   "execution_count": 6,
   "id": "union-huntington",
   "metadata": {
    "execution": {
     "iopub.execute_input": "2021-10-14T01:30:09.621822Z",
     "iopub.status.busy": "2021-10-14T01:30:09.619598Z",
     "iopub.status.idle": "2021-10-14T01:30:09.624986Z",
     "shell.execute_reply": "2021-10-14T01:30:09.626400Z"
    },
    "papermill": {
     "duration": 0.040771,
     "end_time": "2021-10-14T01:30:09.626841",
     "exception": false,
     "start_time": "2021-10-14T01:30:09.586070",
     "status": "completed"
    },
    "tags": []
   },
   "outputs": [],
   "source": [
    "df_pivot.columns = [\"stamp_1\", \"stamp_2\"]\n",
    "df_pivot_diff = df_pivot.diff(axis=1)"
   ]
  },
  {
   "cell_type": "code",
   "execution_count": 7,
   "id": "fifth-motion",
   "metadata": {
    "execution": {
     "iopub.execute_input": "2021-10-14T01:30:09.682424Z",
     "iopub.status.busy": "2021-10-14T01:30:09.679746Z",
     "iopub.status.idle": "2021-10-14T01:30:11.169420Z",
     "shell.execute_reply": "2021-10-14T01:30:11.170855Z"
    },
    "papermill": {
     "duration": 1.523491,
     "end_time": "2021-10-14T01:30:11.171294",
     "exception": false,
     "start_time": "2021-10-14T01:30:09.647803",
     "status": "completed"
    },
    "tags": []
   },
   "outputs": [
    {
     "data": {
      "text/plain": [
       "<AxesSubplot:ylabel='PRODUCT'>"
      ]
     },
     "execution_count": 7,
     "metadata": {},
     "output_type": "execute_result"
    },
    {
     "data": {
      "image/png": "[encoded data removed]",
      "text/plain": [
       "<Figure size 432x288 with 1 Axes>"
      ]
     },
     "metadata": {
      "needs_background": "light"
     },
     "output_type": "display_data"
    }
   ],
   "source": [
    "df_pivot_diff.sort_values(\"stamp_2\", ascending = False)[\"stamp_2\"].head(10).plot.barh()"
   ]
  },
  {
   "cell_type": "code",
   "execution_count": null,
   "id": "extra-executive",
   "metadata": {
    "papermill": {
     "duration": 0.022382,
     "end_time": "2021-10-14T01:30:11.217417",
     "exception": false,
     "start_time": "2021-10-14T01:30:11.195035",
     "status": "completed"
    },
    "tags": []
   },
   "outputs": [],
   "source": []
  }
 ],
 "metadata": {
  "kernelspec": {
   "display_name": "Python 3",
   "language": "python",
   "name": "python3"
  },
  "language_info": {
   "codemirror_mode": {
    "name": "ipython",
    "version": 3
   },
   "file_extension": ".py",
   "mimetype": "text/x-python",
   "name": "python",
   "nbconvert_exporter": "python",
   "pygments_lexer": "ipython3",
   "version": "3.9.5"
  },
  "papermill": {
   "default_parameters": {},
   "duration": 7.82529,
   "end_time": "2021-10-14T01:30:12.500169",
   "environment_variables": {},
   "exception": null,
   "input_path": "eBay_Overview.ipynb",
   "output_path": "eBay_Overview.ipynb",
   "parameters": {},
   "start_time": "2021-10-14T01:30:04.674879",
   "version": "2.3.3"
  }
 },
 "nbformat": 4,
 "nbformat_minor": 5
}