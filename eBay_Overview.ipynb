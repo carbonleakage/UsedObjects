{
 "cells": [
  {
   "cell_type": "code",
   "execution_count": 1,
   "id": "reverse-picking",
   "metadata": {
    "execution": {
     "iopub.execute_input": "2021-11-04T03:00:08.270906Z",
     "iopub.status.busy": "2021-11-04T03:00:08.268511Z",
     "iopub.status.idle": "2021-11-04T03:00:09.221352Z",
     "shell.execute_reply": "2021-11-04T03:00:09.222949Z"
    },
    "papermill": {
     "duration": 1.004177,
     "end_time": "2021-11-04T03:00:09.223688",
     "exception": false,
     "start_time": "2021-11-04T03:00:08.219511",
     "status": "completed"
    },
    "tags": []
   },
   "outputs": [],
   "source": [
    "import pandas as pd\n",
    "import sqlite3"
   ]
  },
  {
   "cell_type": "code",
   "execution_count": 2,
   "id": "innovative-syndrome",
   "metadata": {
    "execution": {
     "iopub.execute_input": "2021-11-04T03:00:09.285856Z",
     "iopub.status.busy": "2021-11-04T03:00:09.283550Z",
     "iopub.status.idle": "2021-11-04T03:00:10.015986Z",
     "shell.execute_reply": "2021-11-04T03:00:10.017591Z"
    },
    "papermill": {
     "duration": 0.766629,
     "end_time": "2021-11-04T03:00:10.018128",
     "exception": false,
     "start_time": "2021-11-04T03:00:09.251499",
     "status": "completed"
    },
    "tags": []
   },
   "outputs": [],
   "source": [
    "timestamps = pd.read_sql(\"select distinct record_time from EBAY_TOP_BERLIN order by record_time desc limit 2\", sqlite3.connect(\"UsedObjects.db\"))"
   ]
  },
  {
   "cell_type": "code",
   "execution_count": 3,
   "id": "periodic-identification",
   "metadata": {
    "execution": {
     "iopub.execute_input": "2021-11-04T03:00:10.093384Z",
     "iopub.status.busy": "2021-11-04T03:00:10.087418Z",
     "iopub.status.idle": "2021-11-04T03:00:10.111185Z",
     "shell.execute_reply": "2021-11-04T03:00:10.112790Z"
    },
    "papermill": {
     "duration": 0.07478,
     "end_time": "2021-11-04T03:00:10.113313",
     "exception": false,
     "start_time": "2021-11-04T03:00:10.038533",
     "status": "completed"
    },
    "tags": []
   },
   "outputs": [
    {
     "data": {
      "text/html": [
       "<div>\n",
       "<style scoped>\n",
       "    .dataframe tbody tr th:only-of-type {\n",
       "        vertical-align: middle;\n",
       "    }\n",
       "\n",
       "    .dataframe tbody tr th {\n",
       "        vertical-align: top;\n",
       "    }\n",
       "\n",
       "    .dataframe thead th {\n",
       "        text-align: right;\n",
       "    }\n",
       "</style>\n",
       "<table border=\"1\" class=\"dataframe\">\n",
       "  <thead>\n",
       "    <tr style=\"text-align: right;\">\n",
       "      <th></th>\n",
       "      <th>RECORD_TIME</th>\n",
       "    </tr>\n",
       "  </thead>\n",
       "  <tbody>\n",
       "    <tr>\n",
       "      <th>0</th>\n",
       "      <td>2021-11-04 04:00</td>\n",
       "    </tr>\n",
       "    <tr>\n",
       "      <th>1</th>\n",
       "      <td>2021-11-04 03:30</td>\n",
       "    </tr>\n",
       "  </tbody>\n",
       "</table>\n",
       "</div>"
      ],
      "text/plain": [
       "        RECORD_TIME\n",
       "0  2021-11-04 04:00\n",
       "1  2021-11-04 03:30"
      ]
     },
     "execution_count": 3,
     "metadata": {},
     "output_type": "execute_result"
    }
   ],
   "source": [
    "timestamps"
   ]
  },
  {
   "cell_type": "code",
   "execution_count": 4,
   "id": "alternate-victory",
   "metadata": {
    "execution": {
     "iopub.execute_input": "2021-11-04T03:00:10.170798Z",
     "iopub.status.busy": "2021-11-04T03:00:10.168428Z",
     "iopub.status.idle": "2021-11-04T03:00:11.208592Z",
     "shell.execute_reply": "2021-11-04T03:00:11.210892Z"
    },
    "papermill": {
     "duration": 1.075174,
     "end_time": "2021-11-04T03:00:11.211389",
     "exception": false,
     "start_time": "2021-11-04T03:00:10.136215",
     "status": "completed"
    },
    "tags": []
   },
   "outputs": [],
   "source": [
    "df = pd.read_sql(\"select * from EBAY_TOP_BERLIN where record_time in (select distinct record_time from EBAY_TOP_BERLIN order by record_time desc limit 2)\", sqlite3.connect(\"UsedObjects.db\"))"
   ]
  },
  {
   "cell_type": "code",
   "execution_count": 5,
   "id": "popular-active",
   "metadata": {
    "execution": {
     "iopub.execute_input": "2021-11-04T03:00:11.291555Z",
     "iopub.status.busy": "2021-11-04T03:00:11.276567Z",
     "iopub.status.idle": "2021-11-04T03:00:11.312170Z",
     "shell.execute_reply": "2021-11-04T03:00:11.313837Z"
    },
    "papermill": {
     "duration": 0.079427,
     "end_time": "2021-11-04T03:00:11.314340",
     "exception": false,
     "start_time": "2021-11-04T03:00:11.234913",
     "status": "completed"
    },
    "tags": []
   },
   "outputs": [],
   "source": [
    "df_pivot = df.pivot_table(index=\"PRODUCT\", columns = \"RECORD_TIME\", values = \"LISTING_COUNT\")"
   ]
  },
  {
   "cell_type": "code",
   "execution_count": 6,
   "id": "union-huntington",
   "metadata": {
    "execution": {
     "iopub.execute_input": "2021-11-04T03:00:11.373750Z",
     "iopub.status.busy": "2021-11-04T03:00:11.371538Z",
     "iopub.status.idle": "2021-11-04T03:00:11.377546Z",
     "shell.execute_reply": "2021-11-04T03:00:11.378996Z"
    },
    "papermill": {
     "duration": 0.043514,
     "end_time": "2021-11-04T03:00:11.379449",
     "exception": false,
     "start_time": "2021-11-04T03:00:11.335935",
     "status": "completed"
    },
    "tags": []
   },
   "outputs": [],
   "source": [
    "df_pivot.columns = [\"stamp_1\", \"stamp_2\"]\n",
    "df_pivot_diff = df_pivot.diff(axis=1)"
   ]
  },
  {
   "cell_type": "code",
   "execution_count": 7,
   "id": "fifth-motion",
   "metadata": {
    "execution": {
     "iopub.execute_input": "2021-11-04T03:00:11.437321Z",
     "iopub.status.busy": "2021-11-04T03:00:11.434556Z",
     "iopub.status.idle": "2021-11-04T03:00:13.384122Z",
     "shell.execute_reply": "2021-11-04T03:00:13.386079Z"
    },
    "papermill": {
     "duration": 1.987019,
     "end_time": "2021-11-04T03:00:13.386685",
     "exception": false,
     "start_time": "2021-11-04T03:00:11.399666",
     "status": "completed"
    },
    "tags": []
   },
   "outputs": [
    {
     "data": {
      "text/plain": [
       "<AxesSubplot:ylabel='PRODUCT'>"
      ]
     },
     "execution_count": 7,
     "metadata": {},
     "output_type": "execute_result"
    },
    {
     "data": {
      "image/png": "[encoded data removed]",
      "text/plain": [
       "<Figure size 432x288 with 1 Axes>"
      ]
     },
     "metadata": {
      "needs_background": "light"
     },
     "output_type": "display_data"
    }
   ],
   "source": [
    "df_pivot_diff.sort_values(\"stamp_2\", ascending = False)[\"stamp_2\"].head(10).plot.barh()"
   ]
  },
  {
   "cell_type": "code",
   "execution_count": null,
   "id": "extra-executive",
   "metadata": {
    "papermill": {
     "duration": 0.024206,
     "end_time": "2021-11-04T03:00:13.434951",
     "exception": false,
     "start_time": "2021-11-04T03:00:13.410745",
     "status": "completed"
    },
    "tags": []
   },
   "outputs": [],
   "source": []
  }
 ],
 "metadata": {
  "kernelspec": {
   "display_name": "Python 3",
   "language": "python",
   "name": "python3"
  },
  "language_info": {
   "codemirror_mode": {
    "name": "ipython",
    "version": 3
   },
   "file_extension": ".py",
   "mimetype": "text/x-python",
   "name": "python",
   "nbconvert_exporter": "python",
   "pygments_lexer": "ipython3",
   "version": "3.9.5"
  },
  "papermill": {
   "default_parameters": {},
   "duration": 8.898229,
   "end_time": "2021-11-04T03:00:14.384072",
   "environment_variables": {},
   "exception": null,
   "input_path": "eBay_Overview.ipynb",
   "output_path": "eBay_Overview.ipynb",
   "parameters": {},
   "start_time": "2021-11-04T03:00:05.485843",
   "version": "2.3.3"
  }
 },
 "nbformat": 4,
 "nbformat_minor": 5
}