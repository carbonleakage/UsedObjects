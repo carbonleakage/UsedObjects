{
 "cells": [
  {
   "cell_type": "code",
   "execution_count": 1,
   "id": "reverse-picking",
   "metadata": {
    "execution": {
     "iopub.execute_input": "2021-09-04T02:00:07.023059Z",
     "iopub.status.busy": "2021-09-04T02:00:07.021084Z",
     "iopub.status.idle": "2021-09-04T02:00:07.829426Z",
     "shell.execute_reply": "2021-09-04T02:00:07.827873Z"
    },
    "papermill": {
     "duration": 0.858816,
     "end_time": "2021-09-04T02:00:07.829827",
     "exception": false,
     "start_time": "2021-09-04T02:00:06.971011",
     "status": "completed"
    },
    "tags": []
   },
   "outputs": [],
   "source": [
    "import pandas as pd\n",
    "import sqlite3"
   ]
  },
  {
   "cell_type": "code",
   "execution_count": 2,
   "id": "innovative-syndrome",
   "metadata": {
    "execution": {
     "iopub.execute_input": "2021-09-04T02:00:07.881269Z",
     "iopub.status.busy": "2021-09-04T02:00:07.879414Z",
     "iopub.status.idle": "2021-09-04T02:00:08.079327Z",
     "shell.execute_reply": "2021-09-04T02:00:08.080552Z"
    },
    "papermill": {
     "duration": 0.229518,
     "end_time": "2021-09-04T02:00:08.080948",
     "exception": false,
     "start_time": "2021-09-04T02:00:07.851430",
     "status": "completed"
    },
    "tags": []
   },
   "outputs": [],
   "source": [
    "timestamps = pd.read_sql(\"select distinct record_time from EBAY_TOP_BERLIN order by record_time desc limit 2\", sqlite3.connect(\"UsedObjects.db\"))"
   ]
  },
  {
   "cell_type": "code",
   "execution_count": 3,
   "id": "periodic-identification",
   "metadata": {
    "execution": {
     "iopub.execute_input": "2021-09-04T02:00:08.148955Z",
     "iopub.status.busy": "2021-09-04T02:00:08.143726Z",
     "iopub.status.idle": "2021-09-04T02:00:08.165574Z",
     "shell.execute_reply": "2021-09-04T02:00:08.167420Z"
    },
    "papermill": {
     "duration": 0.066851,
     "end_time": "2021-09-04T02:00:08.167964",
     "exception": false,
     "start_time": "2021-09-04T02:00:08.101113",
     "status": "completed"
    },
    "tags": []
   },
   "outputs": [
    {
     "data": {
      "text/html": [
       "<div>\n",
       "<style scoped>\n",
       "    .dataframe tbody tr th:only-of-type {\n",
       "        vertical-align: middle;\n",
       "    }\n",
       "\n",
       "    .dataframe tbody tr th {\n",
       "        vertical-align: top;\n",
       "    }\n",
       "\n",
       "    .dataframe thead th {\n",
       "        text-align: right;\n",
       "    }\n",
       "</style>\n",
       "<table border=\"1\" class=\"dataframe\">\n",
       "  <thead>\n",
       "    <tr style=\"text-align: right;\">\n",
       "      <th></th>\n",
       "      <th>RECORD_TIME</th>\n",
       "    </tr>\n",
       "  </thead>\n",
       "  <tbody>\n",
       "    <tr>\n",
       "      <th>0</th>\n",
       "      <td>2021-09-04 04:00</td>\n",
       "    </tr>\n",
       "    <tr>\n",
       "      <th>1</th>\n",
       "      <td>2021-09-04 03:30</td>\n",
       "    </tr>\n",
       "  </tbody>\n",
       "</table>\n",
       "</div>"
      ],
      "text/plain": [
       "        RECORD_TIME\n",
       "0  2021-09-04 04:00\n",
       "1  2021-09-04 03:30"
      ]
     },
     "execution_count": 3,
     "metadata": {},
     "output_type": "execute_result"
    }
   ],
   "source": [
    "timestamps"
   ]
  },
  {
   "cell_type": "code",
   "execution_count": 4,
   "id": "alternate-victory",
   "metadata": {
    "execution": {
     "iopub.execute_input": "2021-09-04T02:00:08.219979Z",
     "iopub.status.busy": "2021-09-04T02:00:08.217647Z",
     "iopub.status.idle": "2021-09-04T02:00:08.520630Z",
     "shell.execute_reply": "2021-09-04T02:00:08.521828Z"
    },
    "papermill": {
     "duration": 0.333173,
     "end_time": "2021-09-04T02:00:08.522223",
     "exception": false,
     "start_time": "2021-09-04T02:00:08.189050",
     "status": "completed"
    },
    "tags": []
   },
   "outputs": [],
   "source": [
    "df = pd.read_sql(\"select * from EBAY_TOP_BERLIN where record_time in (select distinct record_time from EBAY_TOP_BERLIN order by record_time desc limit 2)\", sqlite3.connect(\"UsedObjects.db\"))"
   ]
  },
  {
   "cell_type": "code",
   "execution_count": 5,
   "id": "popular-active",
   "metadata": {
    "execution": {
     "iopub.execute_input": "2021-09-04T02:00:08.607186Z",
     "iopub.status.busy": "2021-09-04T02:00:08.595194Z",
     "iopub.status.idle": "2021-09-04T02:00:08.623070Z",
     "shell.execute_reply": "2021-09-04T02:00:08.624370Z"
    },
    "papermill": {
     "duration": 0.073647,
     "end_time": "2021-09-04T02:00:08.624786",
     "exception": false,
     "start_time": "2021-09-04T02:00:08.551139",
     "status": "completed"
    },
    "tags": []
   },
   "outputs": [],
   "source": [
    "df_pivot = df.pivot_table(index=\"PRODUCT\", columns = \"RECORD_TIME\", values = \"LISTING_COUNT\")"
   ]
  },
  {
   "cell_type": "code",
   "execution_count": 6,
   "id": "union-huntington",
   "metadata": {
    "execution": {
     "iopub.execute_input": "2021-09-04T02:00:08.680193Z",
     "iopub.status.busy": "2021-09-04T02:00:08.678000Z",
     "iopub.status.idle": "2021-09-04T02:00:08.683748Z",
     "shell.execute_reply": "2021-09-04T02:00:08.685171Z"
    },
    "papermill": {
     "duration": 0.040688,
     "end_time": "2021-09-04T02:00:08.685612",
     "exception": false,
     "start_time": "2021-09-04T02:00:08.644924",
     "status": "completed"
    },
    "tags": []
   },
   "outputs": [],
   "source": [
    "df_pivot.columns = [\"stamp_1\", \"stamp_2\"]\n",
    "df_pivot_diff = df_pivot.diff(axis=1)"
   ]
  },
  {
   "cell_type": "code",
   "execution_count": 7,
   "id": "fifth-motion",
   "metadata": {
    "execution": {
     "iopub.execute_input": "2021-09-04T02:00:08.741583Z",
     "iopub.status.busy": "2021-09-04T02:00:08.738841Z",
     "iopub.status.idle": "2021-09-04T02:00:10.253023Z",
     "shell.execute_reply": "2021-09-04T02:00:10.254286Z"
    },
    "papermill": {
     "duration": 1.547641,
     "end_time": "2021-09-04T02:00:10.254703",
     "exception": false,
     "start_time": "2021-09-04T02:00:08.707062",
     "status": "completed"
    },
    "tags": []
   },
   "outputs": [
    {
     "data": {
      "text/plain": [
       "<AxesSubplot:ylabel='PRODUCT'>"
      ]
     },
     "execution_count": 7,
     "metadata": {},
     "output_type": "execute_result"
    },
    {
     "data": {
      "image/png": "[encoded data removed]",
      "text/plain": [
       "<Figure size 432x288 with 1 Axes>"
      ]
     },
     "metadata": {
      "needs_background": "light"
     },
     "output_type": "display_data"
    }
   ],
   "source": [
    "df_pivot_diff.sort_values(\"stamp_2\", ascending = False)[\"stamp_2\"].head(10).plot.barh()"
   ]
  },
  {
   "cell_type": "code",
   "execution_count": null,
   "id": "extra-executive",
   "metadata": {
    "papermill": {
     "duration": 0.022211,
     "end_time": "2021-09-04T02:00:10.303117",
     "exception": false,
     "start_time": "2021-09-04T02:00:10.280906",
     "status": "completed"
    },
    "tags": []
   },
   "outputs": [],
   "source": []
  }
 ],
 "metadata": {
  "kernelspec": {
   "display_name": "Python 3",
   "language": "python",
   "name": "python3"
  },
  "language_info": {
   "codemirror_mode": {
    "name": "ipython",
    "version": 3
   },
   "file_extension": ".py",
   "mimetype": "text/x-python",
   "name": "python",
   "nbconvert_exporter": "python",
   "pygments_lexer": "ipython3",
   "version": "3.9.5"
  },
  "papermill": {
   "default_parameters": {},
   "duration": 6.375376,
   "end_time": "2021-09-04T02:00:10.944029",
   "environment_variables": {},
   "exception": null,
   "input_path": "eBay_Overview.ipynb",
   "output_path": "eBay_Overview.ipynb",
   "parameters": {},
   "start_time": "2021-09-04T02:00:04.568653",
   "version": "2.3.3"
  }
 },
 "nbformat": 4,
 "nbformat_minor": 5
}