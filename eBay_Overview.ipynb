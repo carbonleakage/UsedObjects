{
 "cells": [
  {
   "cell_type": "code",
   "execution_count": 1,
   "id": "reverse-picking",
   "metadata": {
    "execution": {
     "iopub.execute_input": "2021-11-22T02:00:07.473678Z",
     "iopub.status.busy": "2021-11-22T02:00:07.471344Z",
     "iopub.status.idle": "2021-11-22T02:00:08.421331Z",
     "shell.execute_reply": "2021-11-22T02:00:08.422877Z"
    },
    "papermill": {
     "duration": 0.99904,
     "end_time": "2021-11-22T02:00:08.423623",
     "exception": false,
     "start_time": "2021-11-22T02:00:07.424583",
     "status": "completed"
    },
    "tags": []
   },
   "outputs": [],
   "source": [
    "import pandas as pd\n",
    "import sqlite3"
   ]
  },
  {
   "cell_type": "code",
   "execution_count": 2,
   "id": "innovative-syndrome",
   "metadata": {
    "execution": {
     "iopub.execute_input": "2021-11-22T02:00:08.545213Z",
     "iopub.status.busy": "2021-11-22T02:00:08.542768Z",
     "iopub.status.idle": "2021-11-22T02:00:09.431980Z",
     "shell.execute_reply": "2021-11-22T02:00:09.433539Z"
    },
    "papermill": {
     "duration": 0.92307,
     "end_time": "2021-11-22T02:00:09.434042",
     "exception": false,
     "start_time": "2021-11-22T02:00:08.510972",
     "status": "completed"
    },
    "tags": []
   },
   "outputs": [],
   "source": [
    "timestamps = pd.read_sql(\"select distinct record_time from EBAY_TOP_BERLIN order by record_time desc limit 2\", sqlite3.connect(\"UsedObjects.db\"))"
   ]
  },
  {
   "cell_type": "code",
   "execution_count": 3,
   "id": "periodic-identification",
   "metadata": {
    "execution": {
     "iopub.execute_input": "2021-11-22T02:00:09.506267Z",
     "iopub.status.busy": "2021-11-22T02:00:09.500825Z",
     "iopub.status.idle": "2021-11-22T02:00:09.522866Z",
     "shell.execute_reply": "2021-11-22T02:00:09.524106Z"
    },
    "papermill": {
     "duration": 0.071133,
     "end_time": "2021-11-22T02:00:09.524567",
     "exception": false,
     "start_time": "2021-11-22T02:00:09.453434",
     "status": "completed"
    },
    "tags": []
   },
   "outputs": [
    {
     "data": {
      "text/html": [
       "<div>\n",
       "<style scoped>\n",
       "    .dataframe tbody tr th:only-of-type {\n",
       "        vertical-align: middle;\n",
       "    }\n",
       "\n",
       "    .dataframe tbody tr th {\n",
       "        vertical-align: top;\n",
       "    }\n",
       "\n",
       "    .dataframe thead th {\n",
       "        text-align: right;\n",
       "    }\n",
       "</style>\n",
       "<table border=\"1\" class=\"dataframe\">\n",
       "  <thead>\n",
       "    <tr style=\"text-align: right;\">\n",
       "      <th></th>\n",
       "      <th>RECORD_TIME</th>\n",
       "    </tr>\n",
       "  </thead>\n",
       "  <tbody>\n",
       "    <tr>\n",
       "      <th>0</th>\n",
       "      <td>2021-11-22 03:00</td>\n",
       "    </tr>\n",
       "    <tr>\n",
       "      <th>1</th>\n",
       "      <td>2021-11-22 02:30</td>\n",
       "    </tr>\n",
       "  </tbody>\n",
       "</table>\n",
       "</div>"
      ],
      "text/plain": [
       "        RECORD_TIME\n",
       "0  2021-11-22 03:00\n",
       "1  2021-11-22 02:30"
      ]
     },
     "execution_count": 3,
     "metadata": {},
     "output_type": "execute_result"
    }
   ],
   "source": [
    "timestamps"
   ]
  },
  {
   "cell_type": "code",
   "execution_count": 4,
   "id": "alternate-victory",
   "metadata": {
    "execution": {
     "iopub.execute_input": "2021-11-22T02:00:09.577262Z",
     "iopub.status.busy": "2021-11-22T02:00:09.575132Z",
     "iopub.status.idle": "2021-11-22T02:00:10.843145Z",
     "shell.execute_reply": "2021-11-22T02:00:10.844735Z"
    },
    "papermill": {
     "duration": 1.300475,
     "end_time": "2021-11-22T02:00:10.845253",
     "exception": false,
     "start_time": "2021-11-22T02:00:09.544778",
     "status": "completed"
    },
    "tags": []
   },
   "outputs": [],
   "source": [
    "df = pd.read_sql(\"select * from EBAY_TOP_BERLIN where record_time in (select distinct record_time from EBAY_TOP_BERLIN order by record_time desc limit 2)\", sqlite3.connect(\"UsedObjects.db\"))"
   ]
  },
  {
   "cell_type": "code",
   "execution_count": 5,
   "id": "popular-active",
   "metadata": {
    "execution": {
     "iopub.execute_input": "2021-11-22T02:00:10.925379Z",
     "iopub.status.busy": "2021-11-22T02:00:10.910605Z",
     "iopub.status.idle": "2021-11-22T02:00:10.945217Z",
     "shell.execute_reply": "2021-11-22T02:00:10.946740Z"
    },
    "papermill": {
     "duration": 0.079012,
     "end_time": "2021-11-22T02:00:10.947233",
     "exception": false,
     "start_time": "2021-11-22T02:00:10.868221",
     "status": "completed"
    },
    "tags": []
   },
   "outputs": [],
   "source": [
    "df_pivot = df.pivot_table(index=\"PRODUCT\", columns = \"RECORD_TIME\", values = \"LISTING_COUNT\")"
   ]
  },
  {
   "cell_type": "code",
   "execution_count": 6,
   "id": "union-huntington",
   "metadata": {
    "execution": {
     "iopub.execute_input": "2021-11-22T02:00:11.008433Z",
     "iopub.status.busy": "2021-11-22T02:00:11.006271Z",
     "iopub.status.idle": "2021-11-22T02:00:11.011377Z",
     "shell.execute_reply": "2021-11-22T02:00:11.012770Z"
    },
    "papermill": {
     "duration": 0.043281,
     "end_time": "2021-11-22T02:00:11.013237",
     "exception": false,
     "start_time": "2021-11-22T02:00:10.969956",
     "status": "completed"
    },
    "tags": []
   },
   "outputs": [],
   "source": [
    "df_pivot.columns = [\"stamp_1\", \"stamp_2\"]\n",
    "df_pivot_diff = df_pivot.diff(axis=1)"
   ]
  },
  {
   "cell_type": "code",
   "execution_count": 7,
   "id": "fifth-motion",
   "metadata": {
    "execution": {
     "iopub.execute_input": "2021-11-22T02:00:11.068745Z",
     "iopub.status.busy": "2021-11-22T02:00:11.066266Z",
     "iopub.status.idle": "2021-11-22T02:00:12.880290Z",
     "shell.execute_reply": "2021-11-22T02:00:12.883082Z"
    },
    "papermill": {
     "duration": 1.8508,
     "end_time": "2021-11-22T02:00:12.883881",
     "exception": false,
     "start_time": "2021-11-22T02:00:11.033081",
     "status": "completed"
    },
    "tags": []
   },
   "outputs": [
    {
     "data": {
      "text/plain": [
       "<AxesSubplot:ylabel='PRODUCT'>"
      ]
     },
     "execution_count": 7,
     "metadata": {},
     "output_type": "execute_result"
    },
    {
     "data": {
      "image/png": "[encoded data removed]",
      "text/plain": [
       "<Figure size 432x288 with 1 Axes>"
      ]
     },
     "metadata": {
      "needs_background": "light"
     },
     "output_type": "display_data"
    }
   ],
   "source": [
    "df_pivot_diff.sort_values(\"stamp_2\", ascending = False)[\"stamp_2\"].head(10).plot.barh()"
   ]
  },
  {
   "cell_type": "code",
   "execution_count": null,
   "id": "extra-executive",
   "metadata": {
    "papermill": {
     "duration": 0.03489,
     "end_time": "2021-11-22T02:00:12.956875",
     "exception": false,
     "start_time": "2021-11-22T02:00:12.921985",
     "status": "completed"
    },
    "tags": []
   },
   "outputs": [],
   "source": []
  }
 ],
 "metadata": {
  "kernelspec": {
   "display_name": "Python 3",
   "language": "python",
   "name": "python3"
  },
  "language_info": {
   "codemirror_mode": {
    "name": "ipython",
    "version": 3
   },
   "file_extension": ".py",
   "mimetype": "text/x-python",
   "name": "python",
   "nbconvert_exporter": "python",
   "pygments_lexer": "ipython3",
   "version": "3.9.5"
  },
  "papermill": {
   "default_parameters": {},
   "duration": 10.008028,
   "end_time": "2021-11-22T02:00:14.622286",
   "environment_variables": {},
   "exception": null,
   "input_path": "eBay_Overview.ipynb",
   "output_path": "eBay_Overview.ipynb",
   "parameters": {},
   "start_time": "2021-11-22T02:00:04.614258",
   "version": "2.3.3"
  }
 },
 "nbformat": 4,
 "nbformat_minor": 5
}