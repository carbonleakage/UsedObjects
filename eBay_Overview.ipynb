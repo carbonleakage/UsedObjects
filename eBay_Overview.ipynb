{
 "cells": [
  {
   "cell_type": "code",
   "execution_count": 1,
   "id": "reverse-picking",
   "metadata": {
    "execution": {
     "iopub.execute_input": "2021-09-24T10:00:08.136393Z",
     "iopub.status.busy": "2021-09-24T10:00:08.134362Z",
     "iopub.status.idle": "2021-09-24T10:00:08.937890Z",
     "shell.execute_reply": "2021-09-24T10:00:08.939277Z"
    },
    "papermill": {
     "duration": 0.854094,
     "end_time": "2021-09-24T10:00:08.939952",
     "exception": false,
     "start_time": "2021-09-24T10:00:08.085858",
     "status": "completed"
    },
    "tags": []
   },
   "outputs": [],
   "source": [
    "import pandas as pd\n",
    "import sqlite3"
   ]
  },
  {
   "cell_type": "code",
   "execution_count": 2,
   "id": "innovative-syndrome",
   "metadata": {
    "execution": {
     "iopub.execute_input": "2021-09-24T10:00:08.989961Z",
     "iopub.status.busy": "2021-09-24T10:00:08.988105Z",
     "iopub.status.idle": "2021-09-24T10:00:09.353382Z",
     "shell.execute_reply": "2021-09-24T10:00:09.354657Z"
    },
    "papermill": {
     "duration": 0.394489,
     "end_time": "2021-09-24T10:00:09.355126",
     "exception": false,
     "start_time": "2021-09-24T10:00:08.960637",
     "status": "completed"
    },
    "tags": []
   },
   "outputs": [],
   "source": [
    "timestamps = pd.read_sql(\"select distinct record_time from EBAY_TOP_BERLIN order by record_time desc limit 2\", sqlite3.connect(\"UsedObjects.db\"))"
   ]
  },
  {
   "cell_type": "code",
   "execution_count": 3,
   "id": "periodic-identification",
   "metadata": {
    "execution": {
     "iopub.execute_input": "2021-09-24T10:00:09.421046Z",
     "iopub.status.busy": "2021-09-24T10:00:09.419039Z",
     "iopub.status.idle": "2021-09-24T10:00:09.441261Z",
     "shell.execute_reply": "2021-09-24T10:00:09.442390Z"
    },
    "papermill": {
     "duration": 0.068569,
     "end_time": "2021-09-24T10:00:09.442973",
     "exception": false,
     "start_time": "2021-09-24T10:00:09.374404",
     "status": "completed"
    },
    "tags": []
   },
   "outputs": [
    {
     "data": {
      "text/html": [
       "<div>\n",
       "<style scoped>\n",
       "    .dataframe tbody tr th:only-of-type {\n",
       "        vertical-align: middle;\n",
       "    }\n",
       "\n",
       "    .dataframe tbody tr th {\n",
       "        vertical-align: top;\n",
       "    }\n",
       "\n",
       "    .dataframe thead th {\n",
       "        text-align: right;\n",
       "    }\n",
       "</style>\n",
       "<table border=\"1\" class=\"dataframe\">\n",
       "  <thead>\n",
       "    <tr style=\"text-align: right;\">\n",
       "      <th></th>\n",
       "      <th>RECORD_TIME</th>\n",
       "    </tr>\n",
       "  </thead>\n",
       "  <tbody>\n",
       "    <tr>\n",
       "      <th>0</th>\n",
       "      <td>2021-09-24 12:00</td>\n",
       "    </tr>\n",
       "    <tr>\n",
       "      <th>1</th>\n",
       "      <td>2021-09-24 11:30</td>\n",
       "    </tr>\n",
       "  </tbody>\n",
       "</table>\n",
       "</div>"
      ],
      "text/plain": [
       "        RECORD_TIME\n",
       "0  2021-09-24 12:00\n",
       "1  2021-09-24 11:30"
      ]
     },
     "execution_count": 3,
     "metadata": {},
     "output_type": "execute_result"
    }
   ],
   "source": [
    "timestamps"
   ]
  },
  {
   "cell_type": "code",
   "execution_count": 4,
   "id": "alternate-victory",
   "metadata": {
    "execution": {
     "iopub.execute_input": "2021-09-24T10:00:09.496817Z",
     "iopub.status.busy": "2021-09-24T10:00:09.494433Z",
     "iopub.status.idle": "2021-09-24T10:00:10.027265Z",
     "shell.execute_reply": "2021-09-24T10:00:10.028622Z"
    },
    "papermill": {
     "duration": 0.563014,
     "end_time": "2021-09-24T10:00:10.029024",
     "exception": false,
     "start_time": "2021-09-24T10:00:09.466010",
     "status": "completed"
    },
    "tags": []
   },
   "outputs": [],
   "source": [
    "df = pd.read_sql(\"select * from EBAY_TOP_BERLIN where record_time in (select distinct record_time from EBAY_TOP_BERLIN order by record_time desc limit 2)\", sqlite3.connect(\"UsedObjects.db\"))"
   ]
  },
  {
   "cell_type": "code",
   "execution_count": 5,
   "id": "popular-active",
   "metadata": {
    "execution": {
     "iopub.execute_input": "2021-09-24T10:00:10.099189Z",
     "iopub.status.busy": "2021-09-24T10:00:10.092296Z",
     "iopub.status.idle": "2021-09-24T10:00:10.115812Z",
     "shell.execute_reply": "2021-09-24T10:00:10.117041Z"
    },
    "papermill": {
     "duration": 0.068403,
     "end_time": "2021-09-24T10:00:10.117444",
     "exception": false,
     "start_time": "2021-09-24T10:00:10.049041",
     "status": "completed"
    },
    "tags": []
   },
   "outputs": [],
   "source": [
    "df_pivot = df.pivot_table(index=\"PRODUCT\", columns = \"RECORD_TIME\", values = \"LISTING_COUNT\")"
   ]
  },
  {
   "cell_type": "code",
   "execution_count": 6,
   "id": "union-huntington",
   "metadata": {
    "execution": {
     "iopub.execute_input": "2021-09-24T10:00:10.173618Z",
     "iopub.status.busy": "2021-09-24T10:00:10.171545Z",
     "iopub.status.idle": "2021-09-24T10:00:10.176647Z",
     "shell.execute_reply": "2021-09-24T10:00:10.177834Z"
    },
    "papermill": {
     "duration": 0.039646,
     "end_time": "2021-09-24T10:00:10.178266",
     "exception": false,
     "start_time": "2021-09-24T10:00:10.138620",
     "status": "completed"
    },
    "tags": []
   },
   "outputs": [],
   "source": [
    "df_pivot.columns = [\"stamp_1\", \"stamp_2\"]\n",
    "df_pivot_diff = df_pivot.diff(axis=1)"
   ]
  },
  {
   "cell_type": "code",
   "execution_count": 7,
   "id": "fifth-motion",
   "metadata": {
    "execution": {
     "iopub.execute_input": "2021-09-24T10:00:10.231778Z",
     "iopub.status.busy": "2021-09-24T10:00:10.229182Z",
     "iopub.status.idle": "2021-09-24T10:00:11.736996Z",
     "shell.execute_reply": "2021-09-24T10:00:11.738288Z"
    },
    "papermill": {
     "duration": 1.540415,
     "end_time": "2021-09-24T10:00:11.738709",
     "exception": false,
     "start_time": "2021-09-24T10:00:10.198294",
     "status": "completed"
    },
    "tags": []
   },
   "outputs": [
    {
     "data": {
      "text/plain": [
       "<AxesSubplot:ylabel='PRODUCT'>"
      ]
     },
     "execution_count": 7,
     "metadata": {},
     "output_type": "execute_result"
    },
    {
     "data": {
      "image/png": "[encoded data removed]",
      "text/plain": [
       "<Figure size 432x288 with 1 Axes>"
      ]
     },
     "metadata": {
      "needs_background": "light"
     },
     "output_type": "display_data"
    }
   ],
   "source": [
    "df_pivot_diff.sort_values(\"stamp_2\", ascending = False)[\"stamp_2\"].head(10).plot.barh()"
   ]
  },
  {
   "cell_type": "code",
   "execution_count": null,
   "id": "extra-executive",
   "metadata": {
    "papermill": {
     "duration": 0.021909,
     "end_time": "2021-09-24T10:00:11.785506",
     "exception": false,
     "start_time": "2021-09-24T10:00:11.763597",
     "status": "completed"
    },
    "tags": []
   },
   "outputs": [],
   "source": []
  }
 ],
 "metadata": {
  "kernelspec": {
   "display_name": "Python 3",
   "language": "python",
   "name": "python3"
  },
  "language_info": {
   "codemirror_mode": {
    "name": "ipython",
    "version": 3
   },
   "file_extension": ".py",
   "mimetype": "text/x-python",
   "name": "python",
   "nbconvert_exporter": "python",
   "pygments_lexer": "ipython3",
   "version": "3.9.5"
  },
  "papermill": {
   "default_parameters": {},
   "duration": 6.743066,
   "end_time": "2021-09-24T10:00:12.428779",
   "environment_variables": {},
   "exception": null,
   "input_path": "eBay_Overview.ipynb",
   "output_path": "eBay_Overview.ipynb",
   "parameters": {},
   "start_time": "2021-09-24T10:00:05.685713",
   "version": "2.3.3"
  }
 },
 "nbformat": 4,
 "nbformat_minor": 5
}