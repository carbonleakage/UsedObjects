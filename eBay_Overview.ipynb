{
 "cells": [
  {
   "cell_type": "code",
   "execution_count": 1,
   "id": "reverse-picking",
   "metadata": {
    "execution": {
     "iopub.execute_input": "2021-10-16T07:00:07.214471Z",
     "iopub.status.busy": "2021-10-16T07:00:07.212375Z",
     "iopub.status.idle": "2021-10-16T07:00:08.019173Z",
     "shell.execute_reply": "2021-10-16T07:00:08.020437Z"
    },
    "papermill": {
     "duration": 0.858514,
     "end_time": "2021-10-16T07:00:08.021115",
     "exception": false,
     "start_time": "2021-10-16T07:00:07.162601",
     "status": "completed"
    },
    "tags": []
   },
   "outputs": [],
   "source": [
    "import pandas as pd\n",
    "import sqlite3"
   ]
  },
  {
   "cell_type": "code",
   "execution_count": 2,
   "id": "innovative-syndrome",
   "metadata": {
    "execution": {
     "iopub.execute_input": "2021-10-16T07:00:08.071551Z",
     "iopub.status.busy": "2021-10-16T07:00:08.069682Z",
     "iopub.status.idle": "2021-10-16T07:00:08.637437Z",
     "shell.execute_reply": "2021-10-16T07:00:08.638891Z"
    },
    "papermill": {
     "duration": 0.597474,
     "end_time": "2021-10-16T07:00:08.639335",
     "exception": false,
     "start_time": "2021-10-16T07:00:08.041861",
     "status": "completed"
    },
    "tags": []
   },
   "outputs": [],
   "source": [
    "timestamps = pd.read_sql(\"select distinct record_time from EBAY_TOP_BERLIN order by record_time desc limit 2\", sqlite3.connect(\"UsedObjects.db\"))"
   ]
  },
  {
   "cell_type": "code",
   "execution_count": 3,
   "id": "periodic-identification",
   "metadata": {
    "execution": {
     "iopub.execute_input": "2021-10-16T07:00:08.713599Z",
     "iopub.status.busy": "2021-10-16T07:00:08.711463Z",
     "iopub.status.idle": "2021-10-16T07:00:08.733586Z",
     "shell.execute_reply": "2021-10-16T07:00:08.731882Z"
    },
    "papermill": {
     "duration": 0.069397,
     "end_time": "2021-10-16T07:00:08.734001",
     "exception": false,
     "start_time": "2021-10-16T07:00:08.664604",
     "status": "completed"
    },
    "tags": []
   },
   "outputs": [
    {
     "data": {
      "text/html": [
       "<div>\n",
       "<style scoped>\n",
       "    .dataframe tbody tr th:only-of-type {\n",
       "        vertical-align: middle;\n",
       "    }\n",
       "\n",
       "    .dataframe tbody tr th {\n",
       "        vertical-align: top;\n",
       "    }\n",
       "\n",
       "    .dataframe thead th {\n",
       "        text-align: right;\n",
       "    }\n",
       "</style>\n",
       "<table border=\"1\" class=\"dataframe\">\n",
       "  <thead>\n",
       "    <tr style=\"text-align: right;\">\n",
       "      <th></th>\n",
       "      <th>RECORD_TIME</th>\n",
       "    </tr>\n",
       "  </thead>\n",
       "  <tbody>\n",
       "    <tr>\n",
       "      <th>0</th>\n",
       "      <td>2021-10-16 09:00</td>\n",
       "    </tr>\n",
       "    <tr>\n",
       "      <th>1</th>\n",
       "      <td>2021-10-16 08:30</td>\n",
       "    </tr>\n",
       "  </tbody>\n",
       "</table>\n",
       "</div>"
      ],
      "text/plain": [
       "        RECORD_TIME\n",
       "0  2021-10-16 09:00\n",
       "1  2021-10-16 08:30"
      ]
     },
     "execution_count": 3,
     "metadata": {},
     "output_type": "execute_result"
    }
   ],
   "source": [
    "timestamps"
   ]
  },
  {
   "cell_type": "code",
   "execution_count": 4,
   "id": "alternate-victory",
   "metadata": {
    "execution": {
     "iopub.execute_input": "2021-10-16T07:00:08.785310Z",
     "iopub.status.busy": "2021-10-16T07:00:08.783340Z",
     "iopub.status.idle": "2021-10-16T07:00:09.630814Z",
     "shell.execute_reply": "2021-10-16T07:00:09.632041Z"
    },
    "papermill": {
     "duration": 0.877146,
     "end_time": "2021-10-16T07:00:09.632438",
     "exception": false,
     "start_time": "2021-10-16T07:00:08.755292",
     "status": "completed"
    },
    "tags": []
   },
   "outputs": [],
   "source": [
    "df = pd.read_sql(\"select * from EBAY_TOP_BERLIN where record_time in (select distinct record_time from EBAY_TOP_BERLIN order by record_time desc limit 2)\", sqlite3.connect(\"UsedObjects.db\"))"
   ]
  },
  {
   "cell_type": "code",
   "execution_count": 5,
   "id": "popular-active",
   "metadata": {
    "execution": {
     "iopub.execute_input": "2021-10-16T07:00:09.697236Z",
     "iopub.status.busy": "2021-10-16T07:00:09.688213Z",
     "iopub.status.idle": "2021-10-16T07:00:09.718047Z",
     "shell.execute_reply": "2021-10-16T07:00:09.719356Z"
    },
    "papermill": {
     "duration": 0.066883,
     "end_time": "2021-10-16T07:00:09.719769",
     "exception": false,
     "start_time": "2021-10-16T07:00:09.652886",
     "status": "completed"
    },
    "tags": []
   },
   "outputs": [],
   "source": [
    "df_pivot = df.pivot_table(index=\"PRODUCT\", columns = \"RECORD_TIME\", values = \"LISTING_COUNT\")"
   ]
  },
  {
   "cell_type": "code",
   "execution_count": 6,
   "id": "union-huntington",
   "metadata": {
    "execution": {
     "iopub.execute_input": "2021-10-16T07:00:09.776094Z",
     "iopub.status.busy": "2021-10-16T07:00:09.773657Z",
     "iopub.status.idle": "2021-10-16T07:00:09.780875Z",
     "shell.execute_reply": "2021-10-16T07:00:09.779522Z"
    },
    "papermill": {
     "duration": 0.042065,
     "end_time": "2021-10-16T07:00:09.781251",
     "exception": false,
     "start_time": "2021-10-16T07:00:09.739186",
     "status": "completed"
    },
    "tags": []
   },
   "outputs": [],
   "source": [
    "df_pivot.columns = [\"stamp_1\", \"stamp_2\"]\n",
    "df_pivot_diff = df_pivot.diff(axis=1)"
   ]
  },
  {
   "cell_type": "code",
   "execution_count": 7,
   "id": "fifth-motion",
   "metadata": {
    "execution": {
     "iopub.execute_input": "2021-10-16T07:00:09.836101Z",
     "iopub.status.busy": "2021-10-16T07:00:09.833858Z",
     "iopub.status.idle": "2021-10-16T07:00:11.333740Z",
     "shell.execute_reply": "2021-10-16T07:00:11.335047Z"
    },
    "papermill": {
     "duration": 1.532726,
     "end_time": "2021-10-16T07:00:11.335464",
     "exception": false,
     "start_time": "2021-10-16T07:00:09.802738",
     "status": "completed"
    },
    "tags": []
   },
   "outputs": [
    {
     "data": {
      "text/plain": [
       "<AxesSubplot:ylabel='PRODUCT'>"
      ]
     },
     "execution_count": 7,
     "metadata": {},
     "output_type": "execute_result"
    },
    {
     "data": {
      "image/png": "[encoded data removed]",
      "text/plain": [
       "<Figure size 432x288 with 1 Axes>"
      ]
     },
     "metadata": {
      "needs_background": "light"
     },
     "output_type": "display_data"
    }
   ],
   "source": [
    "df_pivot_diff.sort_values(\"stamp_2\", ascending = False)[\"stamp_2\"].head(10).plot.barh()"
   ]
  },
  {
   "cell_type": "code",
   "execution_count": null,
   "id": "extra-executive",
   "metadata": {
    "papermill": {
     "duration": 0.02203,
     "end_time": "2021-10-16T07:00:11.380606",
     "exception": false,
     "start_time": "2021-10-16T07:00:11.358576",
     "status": "completed"
    },
    "tags": []
   },
   "outputs": [],
   "source": []
  }
 ],
 "metadata": {
  "kernelspec": {
   "display_name": "Python 3",
   "language": "python",
   "name": "python3"
  },
  "language_info": {
   "codemirror_mode": {
    "name": "ipython",
    "version": 3
   },
   "file_extension": ".py",
   "mimetype": "text/x-python",
   "name": "python",
   "nbconvert_exporter": "python",
   "pygments_lexer": "ipython3",
   "version": "3.9.5"
  },
  "papermill": {
   "default_parameters": {},
   "duration": 7.824786,
   "end_time": "2021-10-16T07:00:12.576671",
   "environment_variables": {},
   "exception": null,
   "input_path": "eBay_Overview.ipynb",
   "output_path": "eBay_Overview.ipynb",
   "parameters": {},
   "start_time": "2021-10-16T07:00:04.751885",
   "version": "2.3.3"
  }
 },
 "nbformat": 4,
 "nbformat_minor": 5
}