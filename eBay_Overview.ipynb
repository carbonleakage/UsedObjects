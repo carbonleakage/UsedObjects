{
 "cells": [
  {
   "cell_type": "code",
   "execution_count": 1,
   "id": "reverse-picking",
   "metadata": {
    "execution": {
     "iopub.execute_input": "2021-12-12T01:00:07.660861Z",
     "iopub.status.busy": "2021-12-12T01:00:07.658570Z",
     "iopub.status.idle": "2021-12-12T01:00:08.610782Z",
     "shell.execute_reply": "2021-12-12T01:00:08.612354Z"
    },
    "papermill": {
     "duration": 1.000957,
     "end_time": "2021-12-12T01:00:08.613255",
     "exception": false,
     "start_time": "2021-12-12T01:00:07.612298",
     "status": "completed"
    },
    "tags": []
   },
   "outputs": [],
   "source": [
    "import pandas as pd\n",
    "import sqlite3"
   ]
  },
  {
   "cell_type": "code",
   "execution_count": 2,
   "id": "innovative-syndrome",
   "metadata": {
    "execution": {
     "iopub.execute_input": "2021-12-12T01:00:08.682858Z",
     "iopub.status.busy": "2021-12-12T01:00:08.680388Z",
     "iopub.status.idle": "2021-12-12T01:00:09.747626Z",
     "shell.execute_reply": "2021-12-12T01:00:09.749446Z"
    },
    "papermill": {
     "duration": 1.10345,
     "end_time": "2021-12-12T01:00:09.749938",
     "exception": false,
     "start_time": "2021-12-12T01:00:08.646488",
     "status": "completed"
    },
    "tags": []
   },
   "outputs": [],
   "source": [
    "timestamps = pd.read_sql(\"select distinct record_time from EBAY_TOP_BERLIN order by record_time desc limit 2\", sqlite3.connect(\"UsedObjects.db\"))"
   ]
  },
  {
   "cell_type": "code",
   "execution_count": 3,
   "id": "periodic-identification",
   "metadata": {
    "execution": {
     "iopub.execute_input": "2021-12-12T01:00:09.822821Z",
     "iopub.status.busy": "2021-12-12T01:00:09.816839Z",
     "iopub.status.idle": "2021-12-12T01:00:09.840108Z",
     "shell.execute_reply": "2021-12-12T01:00:09.841658Z"
    },
    "papermill": {
     "duration": 0.072844,
     "end_time": "2021-12-12T01:00:09.842169",
     "exception": false,
     "start_time": "2021-12-12T01:00:09.769325",
     "status": "completed"
    },
    "tags": []
   },
   "outputs": [
    {
     "data": {
      "text/html": [
       "<div>\n",
       "<style scoped>\n",
       "    .dataframe tbody tr th:only-of-type {\n",
       "        vertical-align: middle;\n",
       "    }\n",
       "\n",
       "    .dataframe tbody tr th {\n",
       "        vertical-align: top;\n",
       "    }\n",
       "\n",
       "    .dataframe thead th {\n",
       "        text-align: right;\n",
       "    }\n",
       "</style>\n",
       "<table border=\"1\" class=\"dataframe\">\n",
       "  <thead>\n",
       "    <tr style=\"text-align: right;\">\n",
       "      <th></th>\n",
       "      <th>RECORD_TIME</th>\n",
       "    </tr>\n",
       "  </thead>\n",
       "  <tbody>\n",
       "    <tr>\n",
       "      <th>0</th>\n",
       "      <td>2021-12-12 02:00</td>\n",
       "    </tr>\n",
       "    <tr>\n",
       "      <th>1</th>\n",
       "      <td>2021-12-12 01:30</td>\n",
       "    </tr>\n",
       "  </tbody>\n",
       "</table>\n",
       "</div>"
      ],
      "text/plain": [
       "        RECORD_TIME\n",
       "0  2021-12-12 02:00\n",
       "1  2021-12-12 01:30"
      ]
     },
     "execution_count": 3,
     "metadata": {},
     "output_type": "execute_result"
    }
   ],
   "source": [
    "timestamps"
   ]
  },
  {
   "cell_type": "code",
   "execution_count": 4,
   "id": "alternate-victory",
   "metadata": {
    "execution": {
     "iopub.execute_input": "2021-12-12T01:00:09.900562Z",
     "iopub.status.busy": "2021-12-12T01:00:09.898341Z",
     "iopub.status.idle": "2021-12-12T01:00:11.412255Z",
     "shell.execute_reply": "2021-12-12T01:00:11.414255Z"
    },
    "papermill": {
     "duration": 1.551205,
     "end_time": "2021-12-12T01:00:11.414792",
     "exception": false,
     "start_time": "2021-12-12T01:00:09.863587",
     "status": "completed"
    },
    "tags": []
   },
   "outputs": [],
   "source": [
    "df = pd.read_sql(\"select * from EBAY_TOP_BERLIN where record_time in (select distinct record_time from EBAY_TOP_BERLIN order by record_time desc limit 2)\", sqlite3.connect(\"UsedObjects.db\"))"
   ]
  },
  {
   "cell_type": "code",
   "execution_count": 5,
   "id": "popular-active",
   "metadata": {
    "execution": {
     "iopub.execute_input": "2021-12-12T01:00:11.490563Z",
     "iopub.status.busy": "2021-12-12T01:00:11.478607Z",
     "iopub.status.idle": "2021-12-12T01:00:11.511584Z",
     "shell.execute_reply": "2021-12-12T01:00:11.509900Z"
    },
    "papermill": {
     "duration": 0.075558,
     "end_time": "2021-12-12T01:00:11.511985",
     "exception": false,
     "start_time": "2021-12-12T01:00:11.436427",
     "status": "completed"
    },
    "tags": []
   },
   "outputs": [],
   "source": [
    "df_pivot = df.pivot_table(index=\"PRODUCT\", columns = \"RECORD_TIME\", values = \"LISTING_COUNT\")"
   ]
  },
  {
   "cell_type": "code",
   "execution_count": 6,
   "id": "union-huntington",
   "metadata": {
    "execution": {
     "iopub.execute_input": "2021-12-12T01:00:11.573979Z",
     "iopub.status.busy": "2021-12-12T01:00:11.571745Z",
     "iopub.status.idle": "2021-12-12T01:00:11.577835Z",
     "shell.execute_reply": "2021-12-12T01:00:11.579398Z"
    },
    "papermill": {
     "duration": 0.045537,
     "end_time": "2021-12-12T01:00:11.579916",
     "exception": false,
     "start_time": "2021-12-12T01:00:11.534379",
     "status": "completed"
    },
    "tags": []
   },
   "outputs": [],
   "source": [
    "df_pivot.columns = [\"stamp_1\", \"stamp_2\"]\n",
    "df_pivot_diff = df_pivot.diff(axis=1)"
   ]
  },
  {
   "cell_type": "code",
   "execution_count": 7,
   "id": "fifth-motion",
   "metadata": {
    "execution": {
     "iopub.execute_input": "2021-12-12T01:00:11.639904Z",
     "iopub.status.busy": "2021-12-12T01:00:11.637316Z",
     "iopub.status.idle": "2021-12-12T01:00:13.519949Z",
     "shell.execute_reply": "2021-12-12T01:00:13.521378Z"
    },
    "papermill": {
     "duration": 1.919903,
     "end_time": "2021-12-12T01:00:13.521856",
     "exception": false,
     "start_time": "2021-12-12T01:00:11.601953",
     "status": "completed"
    },
    "tags": []
   },
   "outputs": [
    {
     "data": {
      "text/plain": [
       "<AxesSubplot:ylabel='PRODUCT'>"
      ]
     },
     "execution_count": 7,
     "metadata": {},
     "output_type": "execute_result"
    },
    {
     "data": {
      "image/png": "[encoded data removed]",
      "text/plain": [
       "<Figure size 432x288 with 1 Axes>"
      ]
     },
     "metadata": {
      "needs_background": "light"
     },
     "output_type": "display_data"
    }
   ],
   "source": [
    "df_pivot_diff.sort_values(\"stamp_2\", ascending = False)[\"stamp_2\"].head(10).plot.barh()"
   ]
  },
  {
   "cell_type": "code",
   "execution_count": null,
   "id": "extra-executive",
   "metadata": {
    "papermill": {
     "duration": 0.023438,
     "end_time": "2021-12-12T01:00:13.569497",
     "exception": false,
     "start_time": "2021-12-12T01:00:13.546059",
     "status": "completed"
    },
    "tags": []
   },
   "outputs": [],
   "source": []
  }
 ],
 "metadata": {
  "kernelspec": {
   "display_name": "Python 3",
   "language": "python",
   "name": "python3"
  },
  "language_info": {
   "codemirror_mode": {
    "name": "ipython",
    "version": 3
   },
   "file_extension": ".py",
   "mimetype": "text/x-python",
   "name": "python",
   "nbconvert_exporter": "python",
   "pygments_lexer": "ipython3",
   "version": "3.9.5"
  },
  "papermill": {
   "default_parameters": {},
   "duration": 10.002928,
   "end_time": "2021-12-12T01:00:14.802536",
   "environment_variables": {},
   "exception": null,
   "input_path": "eBay_Overview.ipynb",
   "output_path": "eBay_Overview.ipynb",
   "parameters": {},
   "start_time": "2021-12-12T01:00:04.799608",
   "version": "2.3.3"
  }
 },
 "nbformat": 4,
 "nbformat_minor": 5
}