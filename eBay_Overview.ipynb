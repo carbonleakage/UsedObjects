{
 "cells": [
  {
   "cell_type": "code",
   "execution_count": 1,
   "id": "reverse-picking",
   "metadata": {
    "execution": {
     "iopub.execute_input": "2021-12-12T03:00:07.644039Z",
     "iopub.status.busy": "2021-12-12T03:00:07.641788Z",
     "iopub.status.idle": "2021-12-12T03:00:08.588467Z",
     "shell.execute_reply": "2021-12-12T03:00:08.590216Z"
    },
    "papermill": {
     "duration": 0.996177,
     "end_time": "2021-12-12T03:00:08.590995",
     "exception": false,
     "start_time": "2021-12-12T03:00:07.594818",
     "status": "completed"
    },
    "tags": []
   },
   "outputs": [],
   "source": [
    "import pandas as pd\n",
    "import sqlite3"
   ]
  },
  {
   "cell_type": "code",
   "execution_count": 2,
   "id": "innovative-syndrome",
   "metadata": {
    "execution": {
     "iopub.execute_input": "2021-12-12T03:00:08.654705Z",
     "iopub.status.busy": "2021-12-12T03:00:08.652327Z",
     "iopub.status.idle": "2021-12-12T03:00:09.714029Z",
     "shell.execute_reply": "2021-12-12T03:00:09.715490Z"
    },
    "papermill": {
     "duration": 1.095864,
     "end_time": "2021-12-12T03:00:09.715938",
     "exception": false,
     "start_time": "2021-12-12T03:00:08.620074",
     "status": "completed"
    },
    "tags": []
   },
   "outputs": [],
   "source": [
    "timestamps = pd.read_sql(\"select distinct record_time from EBAY_TOP_BERLIN order by record_time desc limit 2\", sqlite3.connect(\"UsedObjects.db\"))"
   ]
  },
  {
   "cell_type": "code",
   "execution_count": 3,
   "id": "periodic-identification",
   "metadata": {
    "execution": {
     "iopub.execute_input": "2021-12-12T03:00:09.786848Z",
     "iopub.status.busy": "2021-12-12T03:00:09.784476Z",
     "iopub.status.idle": "2021-12-12T03:00:09.807238Z",
     "shell.execute_reply": "2021-12-12T03:00:09.808811Z"
    },
    "papermill": {
     "duration": 0.073865,
     "end_time": "2021-12-12T03:00:09.809308",
     "exception": false,
     "start_time": "2021-12-12T03:00:09.735443",
     "status": "completed"
    },
    "tags": []
   },
   "outputs": [
    {
     "data": {
      "text/html": [
       "<div>\n",
       "<style scoped>\n",
       "    .dataframe tbody tr th:only-of-type {\n",
       "        vertical-align: middle;\n",
       "    }\n",
       "\n",
       "    .dataframe tbody tr th {\n",
       "        vertical-align: top;\n",
       "    }\n",
       "\n",
       "    .dataframe thead th {\n",
       "        text-align: right;\n",
       "    }\n",
       "</style>\n",
       "<table border=\"1\" class=\"dataframe\">\n",
       "  <thead>\n",
       "    <tr style=\"text-align: right;\">\n",
       "      <th></th>\n",
       "      <th>RECORD_TIME</th>\n",
       "    </tr>\n",
       "  </thead>\n",
       "  <tbody>\n",
       "    <tr>\n",
       "      <th>0</th>\n",
       "      <td>2021-12-12 04:00</td>\n",
       "    </tr>\n",
       "    <tr>\n",
       "      <th>1</th>\n",
       "      <td>2021-12-12 03:30</td>\n",
       "    </tr>\n",
       "  </tbody>\n",
       "</table>\n",
       "</div>"
      ],
      "text/plain": [
       "        RECORD_TIME\n",
       "0  2021-12-12 04:00\n",
       "1  2021-12-12 03:30"
      ]
     },
     "execution_count": 3,
     "metadata": {},
     "output_type": "execute_result"
    }
   ],
   "source": [
    "timestamps"
   ]
  },
  {
   "cell_type": "code",
   "execution_count": 4,
   "id": "alternate-victory",
   "metadata": {
    "execution": {
     "iopub.execute_input": "2021-12-12T03:00:09.867391Z",
     "iopub.status.busy": "2021-12-12T03:00:09.865200Z",
     "iopub.status.idle": "2021-12-12T03:00:11.435692Z",
     "shell.execute_reply": "2021-12-12T03:00:11.437132Z"
    },
    "papermill": {
     "duration": 1.606787,
     "end_time": "2021-12-12T03:00:11.437578",
     "exception": false,
     "start_time": "2021-12-12T03:00:09.830791",
     "status": "completed"
    },
    "tags": []
   },
   "outputs": [],
   "source": [
    "df = pd.read_sql(\"select * from EBAY_TOP_BERLIN where record_time in (select distinct record_time from EBAY_TOP_BERLIN order by record_time desc limit 2)\", sqlite3.connect(\"UsedObjects.db\"))"
   ]
  },
  {
   "cell_type": "code",
   "execution_count": 5,
   "id": "popular-active",
   "metadata": {
    "execution": {
     "iopub.execute_input": "2021-12-12T03:00:11.503824Z",
     "iopub.status.busy": "2021-12-12T03:00:11.501415Z",
     "iopub.status.idle": "2021-12-12T03:00:11.534209Z",
     "shell.execute_reply": "2021-12-12T03:00:11.535877Z"
    },
    "papermill": {
     "duration": 0.077415,
     "end_time": "2021-12-12T03:00:11.536369",
     "exception": false,
     "start_time": "2021-12-12T03:00:11.458954",
     "status": "completed"
    },
    "tags": []
   },
   "outputs": [],
   "source": [
    "df_pivot = df.pivot_table(index=\"PRODUCT\", columns = \"RECORD_TIME\", values = \"LISTING_COUNT\")"
   ]
  },
  {
   "cell_type": "code",
   "execution_count": 6,
   "id": "union-huntington",
   "metadata": {
    "execution": {
     "iopub.execute_input": "2021-12-12T03:00:11.598282Z",
     "iopub.status.busy": "2021-12-12T03:00:11.596026Z",
     "iopub.status.idle": "2021-12-12T03:00:11.601989Z",
     "shell.execute_reply": "2021-12-12T03:00:11.603340Z"
    },
    "papermill": {
     "duration": 0.045969,
     "end_time": "2021-12-12T03:00:11.603807",
     "exception": false,
     "start_time": "2021-12-12T03:00:11.557838",
     "status": "completed"
    },
    "tags": []
   },
   "outputs": [],
   "source": [
    "df_pivot.columns = [\"stamp_1\", \"stamp_2\"]\n",
    "df_pivot_diff = df_pivot.diff(axis=1)"
   ]
  },
  {
   "cell_type": "code",
   "execution_count": 7,
   "id": "fifth-motion",
   "metadata": {
    "execution": {
     "iopub.execute_input": "2021-12-12T03:00:11.659698Z",
     "iopub.status.busy": "2021-12-12T03:00:11.657214Z",
     "iopub.status.idle": "2021-12-12T03:00:13.551284Z",
     "shell.execute_reply": "2021-12-12T03:00:13.553209Z"
    },
    "papermill": {
     "duration": 1.929777,
     "end_time": "2021-12-12T03:00:13.553781",
     "exception": false,
     "start_time": "2021-12-12T03:00:11.624004",
     "status": "completed"
    },
    "tags": []
   },
   "outputs": [
    {
     "data": {
      "text/plain": [
       "<AxesSubplot:ylabel='PRODUCT'>"
      ]
     },
     "execution_count": 7,
     "metadata": {},
     "output_type": "execute_result"
    },
    {
     "data": {
      "image/png": "[encoded data removed]",
      "text/plain": [
       "<Figure size 432x288 with 1 Axes>"
      ]
     },
     "metadata": {
      "needs_background": "light"
     },
     "output_type": "display_data"
    }
   ],
   "source": [
    "df_pivot_diff.sort_values(\"stamp_2\", ascending = False)[\"stamp_2\"].head(10).plot.barh()"
   ]
  },
  {
   "cell_type": "code",
   "execution_count": null,
   "id": "extra-executive",
   "metadata": {
    "papermill": {
     "duration": 0.038999,
     "end_time": "2021-12-12T03:00:13.623205",
     "exception": false,
     "start_time": "2021-12-12T03:00:13.584206",
     "status": "completed"
    },
    "tags": []
   },
   "outputs": [],
   "source": []
  }
 ],
 "metadata": {
  "kernelspec": {
   "display_name": "Python 3",
   "language": "python",
   "name": "python3"
  },
  "language_info": {
   "codemirror_mode": {
    "name": "ipython",
    "version": 3
   },
   "file_extension": ".py",
   "mimetype": "text/x-python",
   "name": "python",
   "nbconvert_exporter": "python",
   "pygments_lexer": "ipython3",
   "version": "3.9.5"
  },
  "papermill": {
   "default_parameters": {},
   "duration": 9.692973,
   "end_time": "2021-12-12T03:00:14.491590",
   "environment_variables": {},
   "exception": null,
   "input_path": "eBay_Overview.ipynb",
   "output_path": "eBay_Overview.ipynb",
   "parameters": {},
   "start_time": "2021-12-12T03:00:04.798617",
   "version": "2.3.3"
  }
 },
 "nbformat": 4,
 "nbformat_minor": 5
}