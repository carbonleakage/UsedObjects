{
 "cells": [
  {
   "cell_type": "code",
   "execution_count": 1,
   "id": "reverse-picking",
   "metadata": {
    "execution": {
     "iopub.execute_input": "2021-11-20T02:30:07.339950Z",
     "iopub.status.busy": "2021-11-20T02:30:07.337726Z",
     "iopub.status.idle": "2021-11-20T02:30:08.287879Z",
     "shell.execute_reply": "2021-11-20T02:30:08.285829Z"
    },
    "papermill": {
     "duration": 0.997467,
     "end_time": "2021-11-20T02:30:08.288405",
     "exception": false,
     "start_time": "2021-11-20T02:30:07.290938",
     "status": "completed"
    },
    "tags": []
   },
   "outputs": [],
   "source": [
    "import pandas as pd\n",
    "import sqlite3"
   ]
  },
  {
   "cell_type": "code",
   "execution_count": 2,
   "id": "innovative-syndrome",
   "metadata": {
    "execution": {
     "iopub.execute_input": "2021-11-20T02:30:08.356762Z",
     "iopub.status.busy": "2021-11-20T02:30:08.354496Z",
     "iopub.status.idle": "2021-11-20T02:30:09.236036Z",
     "shell.execute_reply": "2021-11-20T02:30:09.237673Z"
    },
    "papermill": {
     "duration": 0.916533,
     "end_time": "2021-11-20T02:30:09.238200",
     "exception": false,
     "start_time": "2021-11-20T02:30:08.321667",
     "status": "completed"
    },
    "tags": []
   },
   "outputs": [],
   "source": [
    "timestamps = pd.read_sql(\"select distinct record_time from EBAY_TOP_BERLIN order by record_time desc limit 2\", sqlite3.connect(\"UsedObjects.db\"))"
   ]
  },
  {
   "cell_type": "code",
   "execution_count": 3,
   "id": "periodic-identification",
   "metadata": {
    "execution": {
     "iopub.execute_input": "2021-11-20T02:30:09.310656Z",
     "iopub.status.busy": "2021-11-20T02:30:09.308279Z",
     "iopub.status.idle": "2021-11-20T02:30:09.331782Z",
     "shell.execute_reply": "2021-11-20T02:30:09.330194Z"
    },
    "papermill": {
     "duration": 0.071866,
     "end_time": "2021-11-20T02:30:09.332205",
     "exception": false,
     "start_time": "2021-11-20T02:30:09.260339",
     "status": "completed"
    },
    "tags": []
   },
   "outputs": [
    {
     "data": {
      "text/html": [
       "<div>\n",
       "<style scoped>\n",
       "    .dataframe tbody tr th:only-of-type {\n",
       "        vertical-align: middle;\n",
       "    }\n",
       "\n",
       "    .dataframe tbody tr th {\n",
       "        vertical-align: top;\n",
       "    }\n",
       "\n",
       "    .dataframe thead th {\n",
       "        text-align: right;\n",
       "    }\n",
       "</style>\n",
       "<table border=\"1\" class=\"dataframe\">\n",
       "  <thead>\n",
       "    <tr style=\"text-align: right;\">\n",
       "      <th></th>\n",
       "      <th>RECORD_TIME</th>\n",
       "    </tr>\n",
       "  </thead>\n",
       "  <tbody>\n",
       "    <tr>\n",
       "      <th>0</th>\n",
       "      <td>2021-11-20 03:30</td>\n",
       "    </tr>\n",
       "    <tr>\n",
       "      <th>1</th>\n",
       "      <td>2021-11-20 03:00</td>\n",
       "    </tr>\n",
       "  </tbody>\n",
       "</table>\n",
       "</div>"
      ],
      "text/plain": [
       "        RECORD_TIME\n",
       "0  2021-11-20 03:30\n",
       "1  2021-11-20 03:00"
      ]
     },
     "execution_count": 3,
     "metadata": {},
     "output_type": "execute_result"
    }
   ],
   "source": [
    "timestamps"
   ]
  },
  {
   "cell_type": "code",
   "execution_count": 4,
   "id": "alternate-victory",
   "metadata": {
    "execution": {
     "iopub.execute_input": "2021-11-20T02:30:09.386280Z",
     "iopub.status.busy": "2021-11-20T02:30:09.384198Z",
     "iopub.status.idle": "2021-11-20T02:30:10.614606Z",
     "shell.execute_reply": "2021-11-20T02:30:10.616242Z"
    },
    "papermill": {
     "duration": 1.263709,
     "end_time": "2021-11-20T02:30:10.617045",
     "exception": false,
     "start_time": "2021-11-20T02:30:09.353336",
     "status": "completed"
    },
    "tags": []
   },
   "outputs": [],
   "source": [
    "df = pd.read_sql(\"select * from EBAY_TOP_BERLIN where record_time in (select distinct record_time from EBAY_TOP_BERLIN order by record_time desc limit 2)\", sqlite3.connect(\"UsedObjects.db\"))"
   ]
  },
  {
   "cell_type": "code",
   "execution_count": 5,
   "id": "popular-active",
   "metadata": {
    "execution": {
     "iopub.execute_input": "2021-11-20T02:30:10.699201Z",
     "iopub.status.busy": "2021-11-20T02:30:10.691951Z",
     "iopub.status.idle": "2021-11-20T02:30:10.719246Z",
     "shell.execute_reply": "2021-11-20T02:30:10.717861Z"
    },
    "papermill": {
     "duration": 0.07982,
     "end_time": "2021-11-20T02:30:10.719693",
     "exception": false,
     "start_time": "2021-11-20T02:30:10.639873",
     "status": "completed"
    },
    "tags": []
   },
   "outputs": [],
   "source": [
    "df_pivot = df.pivot_table(index=\"PRODUCT\", columns = \"RECORD_TIME\", values = \"LISTING_COUNT\")"
   ]
  },
  {
   "cell_type": "code",
   "execution_count": 6,
   "id": "union-huntington",
   "metadata": {
    "execution": {
     "iopub.execute_input": "2021-11-20T02:30:10.784113Z",
     "iopub.status.busy": "2021-11-20T02:30:10.781747Z",
     "iopub.status.idle": "2021-11-20T02:30:10.788621Z",
     "shell.execute_reply": "2021-11-20T02:30:10.786886Z"
    },
    "papermill": {
     "duration": 0.047656,
     "end_time": "2021-11-20T02:30:10.789125",
     "exception": false,
     "start_time": "2021-11-20T02:30:10.741469",
     "status": "completed"
    },
    "tags": []
   },
   "outputs": [],
   "source": [
    "df_pivot.columns = [\"stamp_1\", \"stamp_2\"]\n",
    "df_pivot_diff = df_pivot.diff(axis=1)"
   ]
  },
  {
   "cell_type": "code",
   "execution_count": 7,
   "id": "fifth-motion",
   "metadata": {
    "execution": {
     "iopub.execute_input": "2021-11-20T02:30:10.845912Z",
     "iopub.status.busy": "2021-11-20T02:30:10.843461Z",
     "iopub.status.idle": "2021-11-20T02:30:12.603874Z",
     "shell.execute_reply": "2021-11-20T02:30:12.606571Z"
    },
    "papermill": {
     "duration": 1.797274,
     "end_time": "2021-11-20T02:30:12.607409",
     "exception": false,
     "start_time": "2021-11-20T02:30:10.810135",
     "status": "completed"
    },
    "tags": []
   },
   "outputs": [
    {
     "data": {
      "text/plain": [
       "<AxesSubplot:ylabel='PRODUCT'>"
      ]
     },
     "execution_count": 7,
     "metadata": {},
     "output_type": "execute_result"
    },
    {
     "data": {
      "image/png": "[encoded data removed]",
      "text/plain": [
       "<Figure size 432x288 with 1 Axes>"
      ]
     },
     "metadata": {
      "needs_background": "light"
     },
     "output_type": "display_data"
    }
   ],
   "source": [
    "df_pivot_diff.sort_values(\"stamp_2\", ascending = False)[\"stamp_2\"].head(10).plot.barh()"
   ]
  },
  {
   "cell_type": "code",
   "execution_count": null,
   "id": "extra-executive",
   "metadata": {
    "papermill": {
     "duration": 0.033309,
     "end_time": "2021-11-20T02:30:12.678211",
     "exception": false,
     "start_time": "2021-11-20T02:30:12.644902",
     "status": "completed"
    },
    "tags": []
   },
   "outputs": [],
   "source": []
  }
 ],
 "metadata": {
  "kernelspec": {
   "display_name": "Python 3",
   "language": "python",
   "name": "python3"
  },
  "language_info": {
   "codemirror_mode": {
    "name": "ipython",
    "version": 3
   },
   "file_extension": ".py",
   "mimetype": "text/x-python",
   "name": "python",
   "nbconvert_exporter": "python",
   "pygments_lexer": "ipython3",
   "version": "3.9.5"
  },
  "papermill": {
   "default_parameters": {},
   "duration": 10.00638,
   "end_time": "2021-11-20T02:30:14.491620",
   "environment_variables": {},
   "exception": null,
   "input_path": "eBay_Overview.ipynb",
   "output_path": "eBay_Overview.ipynb",
   "parameters": {},
   "start_time": "2021-11-20T02:30:04.485240",
   "version": "2.3.3"
  }
 },
 "nbformat": 4,
 "nbformat_minor": 5
}