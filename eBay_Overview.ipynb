{
 "cells": [
  {
   "cell_type": "code",
   "execution_count": 1,
   "id": "reverse-picking",
   "metadata": {
    "execution": {
     "iopub.execute_input": "2021-11-20T14:30:08.071452Z",
     "iopub.status.busy": "2021-11-20T14:30:08.061387Z",
     "iopub.status.idle": "2021-11-20T14:30:09.018257Z",
     "shell.execute_reply": "2021-11-20T14:30:09.016284Z"
    },
    "papermill": {
     "duration": 1.002974,
     "end_time": "2021-11-20T14:30:09.018727",
     "exception": false,
     "start_time": "2021-11-20T14:30:08.015753",
     "status": "completed"
    },
    "tags": []
   },
   "outputs": [],
   "source": [
    "import pandas as pd\n",
    "import sqlite3"
   ]
  },
  {
   "cell_type": "code",
   "execution_count": 2,
   "id": "innovative-syndrome",
   "metadata": {
    "execution": {
     "iopub.execute_input": "2021-11-20T14:30:09.080466Z",
     "iopub.status.busy": "2021-11-20T14:30:09.078114Z",
     "iopub.status.idle": "2021-11-20T14:30:09.963766Z",
     "shell.execute_reply": "2021-11-20T14:30:09.965695Z"
    },
    "papermill": {
     "duration": 0.92035,
     "end_time": "2021-11-20T14:30:09.966224",
     "exception": false,
     "start_time": "2021-11-20T14:30:09.045874",
     "status": "completed"
    },
    "tags": []
   },
   "outputs": [],
   "source": [
    "timestamps = pd.read_sql(\"select distinct record_time from EBAY_TOP_BERLIN order by record_time desc limit 2\", sqlite3.connect(\"UsedObjects.db\"))"
   ]
  },
  {
   "cell_type": "code",
   "execution_count": 3,
   "id": "periodic-identification",
   "metadata": {
    "execution": {
     "iopub.execute_input": "2021-11-20T14:30:10.037992Z",
     "iopub.status.busy": "2021-11-20T14:30:10.035100Z",
     "iopub.status.idle": "2021-11-20T14:30:10.059346Z",
     "shell.execute_reply": "2021-11-20T14:30:10.060916Z"
    },
    "papermill": {
     "duration": 0.07492,
     "end_time": "2021-11-20T14:30:10.061419",
     "exception": false,
     "start_time": "2021-11-20T14:30:09.986499",
     "status": "completed"
    },
    "tags": []
   },
   "outputs": [
    {
     "data": {
      "text/html": [
       "<div>\n",
       "<style scoped>\n",
       "    .dataframe tbody tr th:only-of-type {\n",
       "        vertical-align: middle;\n",
       "    }\n",
       "\n",
       "    .dataframe tbody tr th {\n",
       "        vertical-align: top;\n",
       "    }\n",
       "\n",
       "    .dataframe thead th {\n",
       "        text-align: right;\n",
       "    }\n",
       "</style>\n",
       "<table border=\"1\" class=\"dataframe\">\n",
       "  <thead>\n",
       "    <tr style=\"text-align: right;\">\n",
       "      <th></th>\n",
       "      <th>RECORD_TIME</th>\n",
       "    </tr>\n",
       "  </thead>\n",
       "  <tbody>\n",
       "    <tr>\n",
       "      <th>0</th>\n",
       "      <td>2021-11-20 15:30</td>\n",
       "    </tr>\n",
       "    <tr>\n",
       "      <th>1</th>\n",
       "      <td>2021-11-20 15:00</td>\n",
       "    </tr>\n",
       "  </tbody>\n",
       "</table>\n",
       "</div>"
      ],
      "text/plain": [
       "        RECORD_TIME\n",
       "0  2021-11-20 15:30\n",
       "1  2021-11-20 15:00"
      ]
     },
     "execution_count": 3,
     "metadata": {},
     "output_type": "execute_result"
    }
   ],
   "source": [
    "timestamps"
   ]
  },
  {
   "cell_type": "code",
   "execution_count": 4,
   "id": "alternate-victory",
   "metadata": {
    "execution": {
     "iopub.execute_input": "2021-11-20T14:30:10.115308Z",
     "iopub.status.busy": "2021-11-20T14:30:10.113214Z",
     "iopub.status.idle": "2021-11-20T14:30:11.420329Z",
     "shell.execute_reply": "2021-11-20T14:30:11.421948Z"
    },
    "papermill": {
     "duration": 1.341,
     "end_time": "2021-11-20T14:30:11.422435",
     "exception": false,
     "start_time": "2021-11-20T14:30:10.081435",
     "status": "completed"
    },
    "tags": []
   },
   "outputs": [],
   "source": [
    "df = pd.read_sql(\"select * from EBAY_TOP_BERLIN where record_time in (select distinct record_time from EBAY_TOP_BERLIN order by record_time desc limit 2)\", sqlite3.connect(\"UsedObjects.db\"))"
   ]
  },
  {
   "cell_type": "code",
   "execution_count": 5,
   "id": "popular-active",
   "metadata": {
    "execution": {
     "iopub.execute_input": "2021-11-20T14:30:11.501045Z",
     "iopub.status.busy": "2021-11-20T14:30:11.487613Z",
     "iopub.status.idle": "2021-11-20T14:30:11.520558Z",
     "shell.execute_reply": "2021-11-20T14:30:11.522098Z"
    },
    "papermill": {
     "duration": 0.0785,
     "end_time": "2021-11-20T14:30:11.522594",
     "exception": false,
     "start_time": "2021-11-20T14:30:11.444094",
     "status": "completed"
    },
    "tags": []
   },
   "outputs": [],
   "source": [
    "df_pivot = df.pivot_table(index=\"PRODUCT\", columns = \"RECORD_TIME\", values = \"LISTING_COUNT\")"
   ]
  },
  {
   "cell_type": "code",
   "execution_count": 6,
   "id": "union-huntington",
   "metadata": {
    "execution": {
     "iopub.execute_input": "2021-11-20T14:30:11.585940Z",
     "iopub.status.busy": "2021-11-20T14:30:11.583733Z",
     "iopub.status.idle": "2021-11-20T14:30:11.589624Z",
     "shell.execute_reply": "2021-11-20T14:30:11.591075Z"
    },
    "papermill": {
     "duration": 0.046525,
     "end_time": "2021-11-20T14:30:11.591529",
     "exception": false,
     "start_time": "2021-11-20T14:30:11.545004",
     "status": "completed"
    },
    "tags": []
   },
   "outputs": [],
   "source": [
    "df_pivot.columns = [\"stamp_1\", \"stamp_2\"]\n",
    "df_pivot_diff = df_pivot.diff(axis=1)"
   ]
  },
  {
   "cell_type": "code",
   "execution_count": 7,
   "id": "fifth-motion",
   "metadata": {
    "execution": {
     "iopub.execute_input": "2021-11-20T14:30:11.647470Z",
     "iopub.status.busy": "2021-11-20T14:30:11.645038Z",
     "iopub.status.idle": "2021-11-20T14:30:13.401530Z",
     "shell.execute_reply": "2021-11-20T14:30:13.398548Z"
    },
    "papermill": {
     "duration": 1.790775,
     "end_time": "2021-11-20T14:30:13.402307",
     "exception": false,
     "start_time": "2021-11-20T14:30:11.611532",
     "status": "completed"
    },
    "tags": []
   },
   "outputs": [
    {
     "data": {
      "text/plain": [
       "<AxesSubplot:ylabel='PRODUCT'>"
      ]
     },
     "execution_count": 7,
     "metadata": {},
     "output_type": "execute_result"
    },
    {
     "data": {
      "image/png": "[encoded data removed]",
      "text/plain": [
       "<Figure size 432x288 with 1 Axes>"
      ]
     },
     "metadata": {
      "needs_background": "light"
     },
     "output_type": "display_data"
    }
   ],
   "source": [
    "df_pivot_diff.sort_values(\"stamp_2\", ascending = False)[\"stamp_2\"].head(10).plot.barh()"
   ]
  },
  {
   "cell_type": "code",
   "execution_count": null,
   "id": "extra-executive",
   "metadata": {
    "papermill": {
     "duration": 0.033181,
     "end_time": "2021-11-20T14:30:13.471534",
     "exception": false,
     "start_time": "2021-11-20T14:30:13.438353",
     "status": "completed"
    },
    "tags": []
   },
   "outputs": [],
   "source": []
  }
 ],
 "metadata": {
  "kernelspec": {
   "display_name": "Python 3",
   "language": "python",
   "name": "python3"
  },
  "language_info": {
   "codemirror_mode": {
    "name": "ipython",
    "version": 3
   },
   "file_extension": ".py",
   "mimetype": "text/x-python",
   "name": "python",
   "nbconvert_exporter": "python",
   "pygments_lexer": "ipython3",
   "version": "3.9.5"
  },
  "papermill": {
   "default_parameters": {},
   "duration": 10.012761,
   "end_time": "2021-11-20T14:30:15.203986",
   "environment_variables": {},
   "exception": null,
   "input_path": "eBay_Overview.ipynb",
   "output_path": "eBay_Overview.ipynb",
   "parameters": {},
   "start_time": "2021-11-20T14:30:05.191225",
   "version": "2.3.3"
  }
 },
 "nbformat": 4,
 "nbformat_minor": 5
}