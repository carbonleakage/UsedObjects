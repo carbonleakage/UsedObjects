{
 "cells": [
  {
   "cell_type": "code",
   "execution_count": 1,
   "id": "reverse-picking",
   "metadata": {
    "execution": {
     "iopub.execute_input": "2021-09-29T21:30:06.940712Z",
     "iopub.status.busy": "2021-09-29T21:30:06.938669Z",
     "iopub.status.idle": "2021-09-29T21:30:07.748836Z",
     "shell.execute_reply": "2021-09-29T21:30:07.750239Z"
    },
    "papermill": {
     "duration": 0.861306,
     "end_time": "2021-09-29T21:30:07.750996",
     "exception": false,
     "start_time": "2021-09-29T21:30:06.889690",
     "status": "completed"
    },
    "tags": []
   },
   "outputs": [],
   "source": [
    "import pandas as pd\n",
    "import sqlite3"
   ]
  },
  {
   "cell_type": "code",
   "execution_count": 2,
   "id": "innovative-syndrome",
   "metadata": {
    "execution": {
     "iopub.execute_input": "2021-09-29T21:30:07.802330Z",
     "iopub.status.busy": "2021-09-29T21:30:07.800399Z",
     "iopub.status.idle": "2021-09-29T21:30:08.215581Z",
     "shell.execute_reply": "2021-09-29T21:30:08.216866Z"
    },
    "papermill": {
     "duration": 0.445267,
     "end_time": "2021-09-29T21:30:08.217314",
     "exception": false,
     "start_time": "2021-09-29T21:30:07.772047",
     "status": "completed"
    },
    "tags": []
   },
   "outputs": [],
   "source": [
    "timestamps = pd.read_sql(\"select distinct record_time from EBAY_TOP_BERLIN order by record_time desc limit 2\", sqlite3.connect(\"UsedObjects.db\"))"
   ]
  },
  {
   "cell_type": "code",
   "execution_count": 3,
   "id": "periodic-identification",
   "metadata": {
    "execution": {
     "iopub.execute_input": "2021-09-29T21:30:08.281131Z",
     "iopub.status.busy": "2021-09-29T21:30:08.279051Z",
     "iopub.status.idle": "2021-09-29T21:30:08.301235Z",
     "shell.execute_reply": "2021-09-29T21:30:08.299574Z"
    },
    "papermill": {
     "duration": 0.065079,
     "end_time": "2021-09-29T21:30:08.301572",
     "exception": false,
     "start_time": "2021-09-29T21:30:08.236493",
     "status": "completed"
    },
    "tags": []
   },
   "outputs": [
    {
     "data": {
      "text/html": [
       "<div>\n",
       "<style scoped>\n",
       "    .dataframe tbody tr th:only-of-type {\n",
       "        vertical-align: middle;\n",
       "    }\n",
       "\n",
       "    .dataframe tbody tr th {\n",
       "        vertical-align: top;\n",
       "    }\n",
       "\n",
       "    .dataframe thead th {\n",
       "        text-align: right;\n",
       "    }\n",
       "</style>\n",
       "<table border=\"1\" class=\"dataframe\">\n",
       "  <thead>\n",
       "    <tr style=\"text-align: right;\">\n",
       "      <th></th>\n",
       "      <th>RECORD_TIME</th>\n",
       "    </tr>\n",
       "  </thead>\n",
       "  <tbody>\n",
       "    <tr>\n",
       "      <th>0</th>\n",
       "      <td>2021-09-29 23:30</td>\n",
       "    </tr>\n",
       "    <tr>\n",
       "      <th>1</th>\n",
       "      <td>2021-09-29 23:00</td>\n",
       "    </tr>\n",
       "  </tbody>\n",
       "</table>\n",
       "</div>"
      ],
      "text/plain": [
       "        RECORD_TIME\n",
       "0  2021-09-29 23:30\n",
       "1  2021-09-29 23:00"
      ]
     },
     "execution_count": 3,
     "metadata": {},
     "output_type": "execute_result"
    }
   ],
   "source": [
    "timestamps"
   ]
  },
  {
   "cell_type": "code",
   "execution_count": 4,
   "id": "alternate-victory",
   "metadata": {
    "execution": {
     "iopub.execute_input": "2021-09-29T21:30:08.353958Z",
     "iopub.status.busy": "2021-09-29T21:30:08.351668Z",
     "iopub.status.idle": "2021-09-29T21:30:08.960348Z",
     "shell.execute_reply": "2021-09-29T21:30:08.961539Z"
    },
    "papermill": {
     "duration": 0.638618,
     "end_time": "2021-09-29T21:30:08.961925",
     "exception": false,
     "start_time": "2021-09-29T21:30:08.323307",
     "status": "completed"
    },
    "tags": []
   },
   "outputs": [],
   "source": [
    "df = pd.read_sql(\"select * from EBAY_TOP_BERLIN where record_time in (select distinct record_time from EBAY_TOP_BERLIN order by record_time desc limit 2)\", sqlite3.connect(\"UsedObjects.db\"))"
   ]
  },
  {
   "cell_type": "code",
   "execution_count": 5,
   "id": "popular-active",
   "metadata": {
    "execution": {
     "iopub.execute_input": "2021-09-29T21:30:09.035867Z",
     "iopub.status.busy": "2021-09-29T21:30:09.023277Z",
     "iopub.status.idle": "2021-09-29T21:30:09.051373Z",
     "shell.execute_reply": "2021-09-29T21:30:09.052598Z"
    },
    "papermill": {
     "duration": 0.068554,
     "end_time": "2021-09-29T21:30:09.052991",
     "exception": false,
     "start_time": "2021-09-29T21:30:08.984437",
     "status": "completed"
    },
    "tags": []
   },
   "outputs": [],
   "source": [
    "df_pivot = df.pivot_table(index=\"PRODUCT\", columns = \"RECORD_TIME\", values = \"LISTING_COUNT\")"
   ]
  },
  {
   "cell_type": "code",
   "execution_count": 6,
   "id": "union-huntington",
   "metadata": {
    "execution": {
     "iopub.execute_input": "2021-09-29T21:30:09.110431Z",
     "iopub.status.busy": "2021-09-29T21:30:09.108156Z",
     "iopub.status.idle": "2021-09-29T21:30:09.114135Z",
     "shell.execute_reply": "2021-09-29T21:30:09.115592Z"
    },
    "papermill": {
     "duration": 0.041729,
     "end_time": "2021-09-29T21:30:09.116077",
     "exception": false,
     "start_time": "2021-09-29T21:30:09.074348",
     "status": "completed"
    },
    "tags": []
   },
   "outputs": [],
   "source": [
    "df_pivot.columns = [\"stamp_1\", \"stamp_2\"]\n",
    "df_pivot_diff = df_pivot.diff(axis=1)"
   ]
  },
  {
   "cell_type": "code",
   "execution_count": 7,
   "id": "fifth-motion",
   "metadata": {
    "execution": {
     "iopub.execute_input": "2021-09-29T21:30:09.170741Z",
     "iopub.status.busy": "2021-09-29T21:30:09.168523Z",
     "iopub.status.idle": "2021-09-29T21:30:10.644191Z",
     "shell.execute_reply": "2021-09-29T21:30:10.645477Z"
    },
    "papermill": {
     "duration": 1.507983,
     "end_time": "2021-09-29T21:30:10.645889",
     "exception": false,
     "start_time": "2021-09-29T21:30:09.137906",
     "status": "completed"
    },
    "tags": []
   },
   "outputs": [
    {
     "data": {
      "text/plain": [
       "<AxesSubplot:ylabel='PRODUCT'>"
      ]
     },
     "execution_count": 7,
     "metadata": {},
     "output_type": "execute_result"
    },
    {
     "data": {
      "image/png": "[encoded data removed]",
      "text/plain": [
       "<Figure size 432x288 with 1 Axes>"
      ]
     },
     "metadata": {
      "needs_background": "light"
     },
     "output_type": "display_data"
    }
   ],
   "source": [
    "df_pivot_diff.sort_values(\"stamp_2\", ascending = False)[\"stamp_2\"].head(10).plot.barh()"
   ]
  },
  {
   "cell_type": "code",
   "execution_count": null,
   "id": "extra-executive",
   "metadata": {
    "papermill": {
     "duration": 0.022265,
     "end_time": "2021-09-29T21:30:10.692015",
     "exception": false,
     "start_time": "2021-09-29T21:30:10.669750",
     "status": "completed"
    },
    "tags": []
   },
   "outputs": [],
   "source": []
  }
 ],
 "metadata": {
  "kernelspec": {
   "display_name": "Python 3",
   "language": "python",
   "name": "python3"
  },
  "language_info": {
   "codemirror_mode": {
    "name": "ipython",
    "version": 3
   },
   "file_extension": ".py",
   "mimetype": "text/x-python",
   "name": "python",
   "nbconvert_exporter": "python",
   "pygments_lexer": "ipython3",
   "version": "3.9.5"
  },
  "papermill": {
   "default_parameters": {},
   "duration": 7.817989,
   "end_time": "2021-09-29T21:30:12.301925",
   "environment_variables": {},
   "exception": null,
   "input_path": "eBay_Overview.ipynb",
   "output_path": "eBay_Overview.ipynb",
   "parameters": {},
   "start_time": "2021-09-29T21:30:04.483936",
   "version": "2.3.3"
  }
 },
 "nbformat": 4,
 "nbformat_minor": 5
}