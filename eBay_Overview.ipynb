{
 "cells": [
  {
   "cell_type": "code",
   "execution_count": 1,
   "id": "reverse-picking",
   "metadata": {
    "execution": {
     "iopub.execute_input": "2021-10-07T06:30:06.873204Z",
     "iopub.status.busy": "2021-10-07T06:30:06.871210Z",
     "iopub.status.idle": "2021-10-07T06:30:07.677080Z",
     "shell.execute_reply": "2021-10-07T06:30:07.678322Z"
    },
    "papermill": {
     "duration": 0.856765,
     "end_time": "2021-10-07T06:30:07.679315",
     "exception": false,
     "start_time": "2021-10-07T06:30:06.822550",
     "status": "completed"
    },
    "tags": []
   },
   "outputs": [],
   "source": [
    "import pandas as pd\n",
    "import sqlite3"
   ]
  },
  {
   "cell_type": "code",
   "execution_count": 2,
   "id": "innovative-syndrome",
   "metadata": {
    "execution": {
     "iopub.execute_input": "2021-10-07T06:30:07.733038Z",
     "iopub.status.busy": "2021-10-07T06:30:07.730582Z",
     "iopub.status.idle": "2021-10-07T06:30:08.210214Z",
     "shell.execute_reply": "2021-10-07T06:30:08.211499Z"
    },
    "papermill": {
     "duration": 0.509961,
     "end_time": "2021-10-07T06:30:08.211935",
     "exception": false,
     "start_time": "2021-10-07T06:30:07.701974",
     "status": "completed"
    },
    "tags": []
   },
   "outputs": [],
   "source": [
    "timestamps = pd.read_sql(\"select distinct record_time from EBAY_TOP_BERLIN order by record_time desc limit 2\", sqlite3.connect(\"UsedObjects.db\"))"
   ]
  },
  {
   "cell_type": "code",
   "execution_count": 3,
   "id": "periodic-identification",
   "metadata": {
    "execution": {
     "iopub.execute_input": "2021-10-07T06:30:08.277721Z",
     "iopub.status.busy": "2021-10-07T06:30:08.275682Z",
     "iopub.status.idle": "2021-10-07T06:30:08.296794Z",
     "shell.execute_reply": "2021-10-07T06:30:08.298012Z"
    },
    "papermill": {
     "duration": 0.066547,
     "end_time": "2021-10-07T06:30:08.298407",
     "exception": false,
     "start_time": "2021-10-07T06:30:08.231860",
     "status": "completed"
    },
    "tags": []
   },
   "outputs": [
    {
     "data": {
      "text/html": [
       "<div>\n",
       "<style scoped>\n",
       "    .dataframe tbody tr th:only-of-type {\n",
       "        vertical-align: middle;\n",
       "    }\n",
       "\n",
       "    .dataframe tbody tr th {\n",
       "        vertical-align: top;\n",
       "    }\n",
       "\n",
       "    .dataframe thead th {\n",
       "        text-align: right;\n",
       "    }\n",
       "</style>\n",
       "<table border=\"1\" class=\"dataframe\">\n",
       "  <thead>\n",
       "    <tr style=\"text-align: right;\">\n",
       "      <th></th>\n",
       "      <th>RECORD_TIME</th>\n",
       "    </tr>\n",
       "  </thead>\n",
       "  <tbody>\n",
       "    <tr>\n",
       "      <th>0</th>\n",
       "      <td>2021-10-07 08:30</td>\n",
       "    </tr>\n",
       "    <tr>\n",
       "      <th>1</th>\n",
       "      <td>2021-10-07 08:00</td>\n",
       "    </tr>\n",
       "  </tbody>\n",
       "</table>\n",
       "</div>"
      ],
      "text/plain": [
       "        RECORD_TIME\n",
       "0  2021-10-07 08:30\n",
       "1  2021-10-07 08:00"
      ]
     },
     "execution_count": 3,
     "metadata": {},
     "output_type": "execute_result"
    }
   ],
   "source": [
    "timestamps"
   ]
  },
  {
   "cell_type": "code",
   "execution_count": 4,
   "id": "alternate-victory",
   "metadata": {
    "execution": {
     "iopub.execute_input": "2021-10-07T06:30:08.362323Z",
     "iopub.status.busy": "2021-10-07T06:30:08.359947Z",
     "iopub.status.idle": "2021-10-07T06:30:09.056596Z",
     "shell.execute_reply": "2021-10-07T06:30:09.057825Z"
    },
    "papermill": {
     "duration": 0.731061,
     "end_time": "2021-10-07T06:30:09.058222",
     "exception": false,
     "start_time": "2021-10-07T06:30:08.327161",
     "status": "completed"
    },
    "tags": []
   },
   "outputs": [],
   "source": [
    "df = pd.read_sql(\"select * from EBAY_TOP_BERLIN where record_time in (select distinct record_time from EBAY_TOP_BERLIN order by record_time desc limit 2)\", sqlite3.connect(\"UsedObjects.db\"))"
   ]
  },
  {
   "cell_type": "code",
   "execution_count": 5,
   "id": "popular-active",
   "metadata": {
    "execution": {
     "iopub.execute_input": "2021-10-07T06:30:09.130014Z",
     "iopub.status.busy": "2021-10-07T06:30:09.117223Z",
     "iopub.status.idle": "2021-10-07T06:30:09.145342Z",
     "shell.execute_reply": "2021-10-07T06:30:09.146579Z"
    },
    "papermill": {
     "duration": 0.068483,
     "end_time": "2021-10-07T06:30:09.147031",
     "exception": false,
     "start_time": "2021-10-07T06:30:09.078548",
     "status": "completed"
    },
    "tags": []
   },
   "outputs": [],
   "source": [
    "df_pivot = df.pivot_table(index=\"PRODUCT\", columns = \"RECORD_TIME\", values = \"LISTING_COUNT\")"
   ]
  },
  {
   "cell_type": "code",
   "execution_count": 6,
   "id": "union-huntington",
   "metadata": {
    "execution": {
     "iopub.execute_input": "2021-10-07T06:30:09.206265Z",
     "iopub.status.busy": "2021-10-07T06:30:09.203963Z",
     "iopub.status.idle": "2021-10-07T06:30:09.209837Z",
     "shell.execute_reply": "2021-10-07T06:30:09.211379Z"
    },
    "papermill": {
     "duration": 0.042197,
     "end_time": "2021-10-07T06:30:09.211851",
     "exception": false,
     "start_time": "2021-10-07T06:30:09.169654",
     "status": "completed"
    },
    "tags": []
   },
   "outputs": [],
   "source": [
    "df_pivot.columns = [\"stamp_1\", \"stamp_2\"]\n",
    "df_pivot_diff = df_pivot.diff(axis=1)"
   ]
  },
  {
   "cell_type": "code",
   "execution_count": 7,
   "id": "fifth-motion",
   "metadata": {
    "execution": {
     "iopub.execute_input": "2021-10-07T06:30:09.266884Z",
     "iopub.status.busy": "2021-10-07T06:30:09.264528Z",
     "iopub.status.idle": "2021-10-07T06:30:10.774530Z",
     "shell.execute_reply": "2021-10-07T06:30:10.775976Z"
    },
    "papermill": {
     "duration": 1.54326,
     "end_time": "2021-10-07T06:30:10.776422",
     "exception": false,
     "start_time": "2021-10-07T06:30:09.233162",
     "status": "completed"
    },
    "tags": []
   },
   "outputs": [
    {
     "data": {
      "text/plain": [
       "<AxesSubplot:ylabel='PRODUCT'>"
      ]
     },
     "execution_count": 7,
     "metadata": {},
     "output_type": "execute_result"
    },
    {
     "data": {
      "image/png": "[encoded data removed]",
      "text/plain": [
       "<Figure size 432x288 with 1 Axes>"
      ]
     },
     "metadata": {
      "needs_background": "light"
     },
     "output_type": "display_data"
    }
   ],
   "source": [
    "df_pivot_diff.sort_values(\"stamp_2\", ascending = False)[\"stamp_2\"].head(10).plot.barh()"
   ]
  },
  {
   "cell_type": "code",
   "execution_count": null,
   "id": "extra-executive",
   "metadata": {
    "papermill": {
     "duration": 0.022762,
     "end_time": "2021-10-07T06:30:10.824449",
     "exception": false,
     "start_time": "2021-10-07T06:30:10.801687",
     "status": "completed"
    },
    "tags": []
   },
   "outputs": [],
   "source": []
  }
 ],
 "metadata": {
  "kernelspec": {
   "display_name": "Python 3",
   "language": "python",
   "name": "python3"
  },
  "language_info": {
   "codemirror_mode": {
    "name": "ipython",
    "version": 3
   },
   "file_extension": ".py",
   "mimetype": "text/x-python",
   "name": "python",
   "nbconvert_exporter": "python",
   "pygments_lexer": "ipython3",
   "version": "3.9.5"
  },
  "papermill": {
   "default_parameters": {},
   "duration": 7.837651,
   "end_time": "2021-10-07T06:30:12.255812",
   "environment_variables": {},
   "exception": null,
   "input_path": "eBay_Overview.ipynb",
   "output_path": "eBay_Overview.ipynb",
   "parameters": {},
   "start_time": "2021-10-07T06:30:04.418161",
   "version": "2.3.3"
  }
 },
 "nbformat": 4,
 "nbformat_minor": 5
}