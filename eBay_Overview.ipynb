{
 "cells": [
  {
   "cell_type": "code",
   "execution_count": 1,
   "id": "reverse-picking",
   "metadata": {
    "execution": {
     "iopub.execute_input": "2021-10-30T02:00:07.647589Z",
     "iopub.status.busy": "2021-10-30T02:00:07.645650Z",
     "iopub.status.idle": "2021-10-30T02:00:08.450401Z",
     "shell.execute_reply": "2021-10-30T02:00:08.448827Z"
    },
    "papermill": {
     "duration": 0.853644,
     "end_time": "2021-10-30T02:00:08.450818",
     "exception": false,
     "start_time": "2021-10-30T02:00:07.597174",
     "status": "completed"
    },
    "tags": []
   },
   "outputs": [],
   "source": [
    "import pandas as pd\n",
    "import sqlite3"
   ]
  },
  {
   "cell_type": "code",
   "execution_count": 2,
   "id": "innovative-syndrome",
   "metadata": {
    "execution": {
     "iopub.execute_input": "2021-10-30T02:00:08.501567Z",
     "iopub.status.busy": "2021-10-30T02:00:08.499471Z",
     "iopub.status.idle": "2021-10-30T02:00:09.174876Z",
     "shell.execute_reply": "2021-10-30T02:00:09.176139Z"
    },
    "papermill": {
     "duration": 0.704741,
     "end_time": "2021-10-30T02:00:09.176560",
     "exception": false,
     "start_time": "2021-10-30T02:00:08.471819",
     "status": "completed"
    },
    "tags": []
   },
   "outputs": [],
   "source": [
    "timestamps = pd.read_sql(\"select distinct record_time from EBAY_TOP_BERLIN order by record_time desc limit 2\", sqlite3.connect(\"UsedObjects.db\"))"
   ]
  },
  {
   "cell_type": "code",
   "execution_count": 3,
   "id": "periodic-identification",
   "metadata": {
    "execution": {
     "iopub.execute_input": "2021-10-30T02:00:09.310584Z",
     "iopub.status.busy": "2021-10-30T02:00:09.308518Z",
     "iopub.status.idle": "2021-10-30T02:00:09.331606Z",
     "shell.execute_reply": "2021-10-30T02:00:09.333178Z"
    },
    "papermill": {
     "duration": 0.076837,
     "end_time": "2021-10-30T02:00:09.333675",
     "exception": false,
     "start_time": "2021-10-30T02:00:09.256838",
     "status": "completed"
    },
    "tags": []
   },
   "outputs": [
    {
     "data": {
      "text/html": [
       "<div>\n",
       "<style scoped>\n",
       "    .dataframe tbody tr th:only-of-type {\n",
       "        vertical-align: middle;\n",
       "    }\n",
       "\n",
       "    .dataframe tbody tr th {\n",
       "        vertical-align: top;\n",
       "    }\n",
       "\n",
       "    .dataframe thead th {\n",
       "        text-align: right;\n",
       "    }\n",
       "</style>\n",
       "<table border=\"1\" class=\"dataframe\">\n",
       "  <thead>\n",
       "    <tr style=\"text-align: right;\">\n",
       "      <th></th>\n",
       "      <th>RECORD_TIME</th>\n",
       "    </tr>\n",
       "  </thead>\n",
       "  <tbody>\n",
       "    <tr>\n",
       "      <th>0</th>\n",
       "      <td>2021-10-30 04:00</td>\n",
       "    </tr>\n",
       "    <tr>\n",
       "      <th>1</th>\n",
       "      <td>2021-10-30 03:30</td>\n",
       "    </tr>\n",
       "  </tbody>\n",
       "</table>\n",
       "</div>"
      ],
      "text/plain": [
       "        RECORD_TIME\n",
       "0  2021-10-30 04:00\n",
       "1  2021-10-30 03:30"
      ]
     },
     "execution_count": 3,
     "metadata": {},
     "output_type": "execute_result"
    }
   ],
   "source": [
    "timestamps"
   ]
  },
  {
   "cell_type": "code",
   "execution_count": 4,
   "id": "alternate-victory",
   "metadata": {
    "execution": {
     "iopub.execute_input": "2021-10-30T02:00:09.386095Z",
     "iopub.status.busy": "2021-10-30T02:00:09.384018Z",
     "iopub.status.idle": "2021-10-30T02:00:10.390493Z",
     "shell.execute_reply": "2021-10-30T02:00:10.391675Z"
    },
    "papermill": {
     "duration": 1.036107,
     "end_time": "2021-10-30T02:00:10.392072",
     "exception": false,
     "start_time": "2021-10-30T02:00:09.355965",
     "status": "completed"
    },
    "tags": []
   },
   "outputs": [],
   "source": [
    "df = pd.read_sql(\"select * from EBAY_TOP_BERLIN where record_time in (select distinct record_time from EBAY_TOP_BERLIN order by record_time desc limit 2)\", sqlite3.connect(\"UsedObjects.db\"))"
   ]
  },
  {
   "cell_type": "code",
   "execution_count": 5,
   "id": "popular-active",
   "metadata": {
    "execution": {
     "iopub.execute_input": "2021-10-30T02:00:10.466081Z",
     "iopub.status.busy": "2021-10-30T02:00:10.454321Z",
     "iopub.status.idle": "2021-10-30T02:00:10.482836Z",
     "shell.execute_reply": "2021-10-30T02:00:10.484187Z"
    },
    "papermill": {
     "duration": 0.069857,
     "end_time": "2021-10-30T02:00:10.484627",
     "exception": false,
     "start_time": "2021-10-30T02:00:10.414770",
     "status": "completed"
    },
    "tags": []
   },
   "outputs": [],
   "source": [
    "df_pivot = df.pivot_table(index=\"PRODUCT\", columns = \"RECORD_TIME\", values = \"LISTING_COUNT\")"
   ]
  },
  {
   "cell_type": "code",
   "execution_count": 6,
   "id": "union-huntington",
   "metadata": {
    "execution": {
     "iopub.execute_input": "2021-10-30T02:00:10.543371Z",
     "iopub.status.busy": "2021-10-30T02:00:10.540970Z",
     "iopub.status.idle": "2021-10-30T02:00:10.546608Z",
     "shell.execute_reply": "2021-10-30T02:00:10.547886Z"
    },
    "papermill": {
     "duration": 0.041334,
     "end_time": "2021-10-30T02:00:10.548302",
     "exception": false,
     "start_time": "2021-10-30T02:00:10.506968",
     "status": "completed"
    },
    "tags": []
   },
   "outputs": [],
   "source": [
    "df_pivot.columns = [\"stamp_1\", \"stamp_2\"]\n",
    "df_pivot_diff = df_pivot.diff(axis=1)"
   ]
  },
  {
   "cell_type": "code",
   "execution_count": 7,
   "id": "fifth-motion",
   "metadata": {
    "execution": {
     "iopub.execute_input": "2021-10-30T02:00:10.602334Z",
     "iopub.status.busy": "2021-10-30T02:00:10.599892Z",
     "iopub.status.idle": "2021-10-30T02:00:12.072872Z",
     "shell.execute_reply": "2021-10-30T02:00:12.074069Z"
    },
    "papermill": {
     "duration": 1.50589,
     "end_time": "2021-10-30T02:00:12.074502",
     "exception": false,
     "start_time": "2021-10-30T02:00:10.568612",
     "status": "completed"
    },
    "tags": []
   },
   "outputs": [
    {
     "data": {
      "text/plain": [
       "<AxesSubplot:ylabel='PRODUCT'>"
      ]
     },
     "execution_count": 7,
     "metadata": {},
     "output_type": "execute_result"
    },
    {
     "data": {
      "image/png": "[encoded data removed]",
      "text/plain": [
       "<Figure size 432x288 with 1 Axes>"
      ]
     },
     "metadata": {
      "needs_background": "light"
     },
     "output_type": "display_data"
    }
   ],
   "source": [
    "df_pivot_diff.sort_values(\"stamp_2\", ascending = False)[\"stamp_2\"].head(10).plot.barh()"
   ]
  },
  {
   "cell_type": "code",
   "execution_count": null,
   "id": "extra-executive",
   "metadata": {
    "papermill": {
     "duration": 0.02184,
     "end_time": "2021-10-30T02:00:12.122258",
     "exception": false,
     "start_time": "2021-10-30T02:00:12.100418",
     "status": "completed"
    },
    "tags": []
   },
   "outputs": [],
   "source": []
  }
 ],
 "metadata": {
  "kernelspec": {
   "display_name": "Python 3",
   "language": "python",
   "name": "python3"
  },
  "language_info": {
   "codemirror_mode": {
    "name": "ipython",
    "version": 3
   },
   "file_extension": ".py",
   "mimetype": "text/x-python",
   "name": "python",
   "nbconvert_exporter": "python",
   "pygments_lexer": "ipython3",
   "version": "3.9.5"
  },
  "papermill": {
   "default_parameters": {},
   "duration": 7.573636,
   "end_time": "2021-10-30T02:00:12.764922",
   "environment_variables": {},
   "exception": null,
   "input_path": "eBay_Overview.ipynb",
   "output_path": "eBay_Overview.ipynb",
   "parameters": {},
   "start_time": "2021-10-30T02:00:05.191286",
   "version": "2.3.3"
  }
 },
 "nbformat": 4,
 "nbformat_minor": 5
}