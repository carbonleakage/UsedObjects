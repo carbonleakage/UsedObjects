{
 "cells": [
  {
   "cell_type": "code",
   "execution_count": 1,
   "id": "reverse-picking",
   "metadata": {
    "execution": {
     "iopub.execute_input": "2021-09-15T00:30:07.149025Z",
     "iopub.status.busy": "2021-09-15T00:30:07.147075Z",
     "iopub.status.idle": "2021-09-15T00:30:07.953446Z",
     "shell.execute_reply": "2021-09-15T00:30:07.951865Z"
    },
    "papermill": {
     "duration": 0.857518,
     "end_time": "2021-09-15T00:30:07.953835",
     "exception": false,
     "start_time": "2021-09-15T00:30:07.096317",
     "status": "completed"
    },
    "tags": []
   },
   "outputs": [],
   "source": [
    "import pandas as pd\n",
    "import sqlite3"
   ]
  },
  {
   "cell_type": "code",
   "execution_count": 2,
   "id": "innovative-syndrome",
   "metadata": {
    "execution": {
     "iopub.execute_input": "2021-09-15T00:30:08.005177Z",
     "iopub.status.busy": "2021-09-15T00:30:08.003283Z",
     "iopub.status.idle": "2021-09-15T00:30:08.289565Z",
     "shell.execute_reply": "2021-09-15T00:30:08.290779Z"
    },
    "papermill": {
     "duration": 0.315722,
     "end_time": "2021-09-15T00:30:08.291262",
     "exception": false,
     "start_time": "2021-09-15T00:30:07.975540",
     "status": "completed"
    },
    "tags": []
   },
   "outputs": [],
   "source": [
    "timestamps = pd.read_sql(\"select distinct record_time from EBAY_TOP_BERLIN order by record_time desc limit 2\", sqlite3.connect(\"UsedObjects.db\"))"
   ]
  },
  {
   "cell_type": "code",
   "execution_count": 3,
   "id": "periodic-identification",
   "metadata": {
    "execution": {
     "iopub.execute_input": "2021-09-15T00:30:08.355098Z",
     "iopub.status.busy": "2021-09-15T00:30:08.353027Z",
     "iopub.status.idle": "2021-09-15T00:30:08.372316Z",
     "shell.execute_reply": "2021-09-15T00:30:08.373571Z"
    },
    "papermill": {
     "duration": 0.063296,
     "end_time": "2021-09-15T00:30:08.373968",
     "exception": false,
     "start_time": "2021-09-15T00:30:08.310672",
     "status": "completed"
    },
    "tags": []
   },
   "outputs": [
    {
     "data": {
      "text/html": [
       "<div>\n",
       "<style scoped>\n",
       "    .dataframe tbody tr th:only-of-type {\n",
       "        vertical-align: middle;\n",
       "    }\n",
       "\n",
       "    .dataframe tbody tr th {\n",
       "        vertical-align: top;\n",
       "    }\n",
       "\n",
       "    .dataframe thead th {\n",
       "        text-align: right;\n",
       "    }\n",
       "</style>\n",
       "<table border=\"1\" class=\"dataframe\">\n",
       "  <thead>\n",
       "    <tr style=\"text-align: right;\">\n",
       "      <th></th>\n",
       "      <th>RECORD_TIME</th>\n",
       "    </tr>\n",
       "  </thead>\n",
       "  <tbody>\n",
       "    <tr>\n",
       "      <th>0</th>\n",
       "      <td>2021-09-15 02:30</td>\n",
       "    </tr>\n",
       "    <tr>\n",
       "      <th>1</th>\n",
       "      <td>2021-09-15 02:00</td>\n",
       "    </tr>\n",
       "  </tbody>\n",
       "</table>\n",
       "</div>"
      ],
      "text/plain": [
       "        RECORD_TIME\n",
       "0  2021-09-15 02:30\n",
       "1  2021-09-15 02:00"
      ]
     },
     "execution_count": 3,
     "metadata": {},
     "output_type": "execute_result"
    }
   ],
   "source": [
    "timestamps"
   ]
  },
  {
   "cell_type": "code",
   "execution_count": 4,
   "id": "alternate-victory",
   "metadata": {
    "execution": {
     "iopub.execute_input": "2021-09-15T00:30:08.426404Z",
     "iopub.status.busy": "2021-09-15T00:30:08.424103Z",
     "iopub.status.idle": "2021-09-15T00:30:08.850516Z",
     "shell.execute_reply": "2021-09-15T00:30:08.851961Z"
    },
    "papermill": {
     "duration": 0.456872,
     "end_time": "2021-09-15T00:30:08.852395",
     "exception": false,
     "start_time": "2021-09-15T00:30:08.395523",
     "status": "completed"
    },
    "tags": []
   },
   "outputs": [],
   "source": [
    "df = pd.read_sql(\"select * from EBAY_TOP_BERLIN where record_time in (select distinct record_time from EBAY_TOP_BERLIN order by record_time desc limit 2)\", sqlite3.connect(\"UsedObjects.db\"))"
   ]
  },
  {
   "cell_type": "code",
   "execution_count": 5,
   "id": "popular-active",
   "metadata": {
    "execution": {
     "iopub.execute_input": "2021-09-15T00:30:08.922937Z",
     "iopub.status.busy": "2021-09-15T00:30:08.911670Z",
     "iopub.status.idle": "2021-09-15T00:30:08.938369Z",
     "shell.execute_reply": "2021-09-15T00:30:08.939732Z"
    },
    "papermill": {
     "duration": 0.067315,
     "end_time": "2021-09-15T00:30:08.940161",
     "exception": false,
     "start_time": "2021-09-15T00:30:08.872846",
     "status": "completed"
    },
    "tags": []
   },
   "outputs": [],
   "source": [
    "df_pivot = df.pivot_table(index=\"PRODUCT\", columns = \"RECORD_TIME\", values = \"LISTING_COUNT\")"
   ]
  },
  {
   "cell_type": "code",
   "execution_count": 6,
   "id": "union-huntington",
   "metadata": {
    "execution": {
     "iopub.execute_input": "2021-09-15T00:30:08.996136Z",
     "iopub.status.busy": "2021-09-15T00:30:08.994039Z",
     "iopub.status.idle": "2021-09-15T00:30:08.999307Z",
     "shell.execute_reply": "2021-09-15T00:30:09.000603Z"
    },
    "papermill": {
     "duration": 0.040846,
     "end_time": "2021-09-15T00:30:09.001017",
     "exception": false,
     "start_time": "2021-09-15T00:30:08.960171",
     "status": "completed"
    },
    "tags": []
   },
   "outputs": [],
   "source": [
    "df_pivot.columns = [\"stamp_1\", \"stamp_2\"]\n",
    "df_pivot_diff = df_pivot.diff(axis=1)"
   ]
  },
  {
   "cell_type": "code",
   "execution_count": 7,
   "id": "fifth-motion",
   "metadata": {
    "execution": {
     "iopub.execute_input": "2021-09-15T00:30:09.056208Z",
     "iopub.status.busy": "2021-09-15T00:30:09.053657Z",
     "iopub.status.idle": "2021-09-15T00:30:10.562566Z",
     "shell.execute_reply": "2021-09-15T00:30:10.563933Z"
    },
    "papermill": {
     "duration": 1.542057,
     "end_time": "2021-09-15T00:30:10.564351",
     "exception": false,
     "start_time": "2021-09-15T00:30:09.022294",
     "status": "completed"
    },
    "tags": []
   },
   "outputs": [
    {
     "data": {
      "text/plain": [
       "<AxesSubplot:ylabel='PRODUCT'>"
      ]
     },
     "execution_count": 7,
     "metadata": {},
     "output_type": "execute_result"
    },
    {
     "data": {
      "image/png": "[encoded data removed]",
      "text/plain": [
       "<Figure size 432x288 with 1 Axes>"
      ]
     },
     "metadata": {
      "needs_background": "light"
     },
     "output_type": "display_data"
    }
   ],
   "source": [
    "df_pivot_diff.sort_values(\"stamp_2\", ascending = False)[\"stamp_2\"].head(10).plot.barh()"
   ]
  },
  {
   "cell_type": "code",
   "execution_count": null,
   "id": "extra-executive",
   "metadata": {
    "papermill": {
     "duration": 0.022018,
     "end_time": "2021-09-15T00:30:10.609992",
     "exception": false,
     "start_time": "2021-09-15T00:30:10.587974",
     "status": "completed"
    },
    "tags": []
   },
   "outputs": [],
   "source": []
  }
 ],
 "metadata": {
  "kernelspec": {
   "display_name": "Python 3",
   "language": "python",
   "name": "python3"
  },
  "language_info": {
   "codemirror_mode": {
    "name": "ipython",
    "version": 3
   },
   "file_extension": ".py",
   "mimetype": "text/x-python",
   "name": "python",
   "nbconvert_exporter": "python",
   "pygments_lexer": "ipython3",
   "version": "3.9.5"
  },
  "papermill": {
   "default_parameters": {},
   "duration": 6.570542,
   "end_time": "2021-09-15T00:30:11.253019",
   "environment_variables": {},
   "exception": null,
   "input_path": "eBay_Overview.ipynb",
   "output_path": "eBay_Overview.ipynb",
   "parameters": {},
   "start_time": "2021-09-15T00:30:04.682477",
   "version": "2.3.3"
  }
 },
 "nbformat": 4,
 "nbformat_minor": 5
}