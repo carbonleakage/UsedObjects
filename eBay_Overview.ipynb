{
 "cells": [
  {
   "cell_type": "code",
   "execution_count": 1,
   "id": "reverse-picking",
   "metadata": {
    "execution": {
     "iopub.execute_input": "2021-09-14T01:30:06.563541Z",
     "iopub.status.busy": "2021-09-14T01:30:06.561509Z",
     "iopub.status.idle": "2021-09-14T01:30:07.365877Z",
     "shell.execute_reply": "2021-09-14T01:30:07.367287Z"
    },
    "papermill": {
     "duration": 0.856238,
     "end_time": "2021-09-14T01:30:07.367958",
     "exception": false,
     "start_time": "2021-09-14T01:30:06.511720",
     "status": "completed"
    },
    "tags": []
   },
   "outputs": [],
   "source": [
    "import pandas as pd\n",
    "import sqlite3"
   ]
  },
  {
   "cell_type": "code",
   "execution_count": 2,
   "id": "innovative-syndrome",
   "metadata": {
    "execution": {
     "iopub.execute_input": "2021-09-14T01:30:07.418781Z",
     "iopub.status.busy": "2021-09-14T01:30:07.416825Z",
     "iopub.status.idle": "2021-09-14T01:30:07.708115Z",
     "shell.execute_reply": "2021-09-14T01:30:07.709386Z"
    },
    "papermill": {
     "duration": 0.321531,
     "end_time": "2021-09-14T01:30:07.709792",
     "exception": false,
     "start_time": "2021-09-14T01:30:07.388261",
     "status": "completed"
    },
    "tags": []
   },
   "outputs": [],
   "source": [
    "timestamps = pd.read_sql(\"select distinct record_time from EBAY_TOP_BERLIN order by record_time desc limit 2\", sqlite3.connect(\"UsedObjects.db\"))"
   ]
  },
  {
   "cell_type": "code",
   "execution_count": 3,
   "id": "periodic-identification",
   "metadata": {
    "execution": {
     "iopub.execute_input": "2021-09-14T01:30:07.776688Z",
     "iopub.status.busy": "2021-09-14T01:30:07.771944Z",
     "iopub.status.idle": "2021-09-14T01:30:07.796124Z",
     "shell.execute_reply": "2021-09-14T01:30:07.797411Z"
    },
    "papermill": {
     "duration": 0.068735,
     "end_time": "2021-09-14T01:30:07.797874",
     "exception": false,
     "start_time": "2021-09-14T01:30:07.729139",
     "status": "completed"
    },
    "tags": []
   },
   "outputs": [
    {
     "data": {
      "text/html": [
       "<div>\n",
       "<style scoped>\n",
       "    .dataframe tbody tr th:only-of-type {\n",
       "        vertical-align: middle;\n",
       "    }\n",
       "\n",
       "    .dataframe tbody tr th {\n",
       "        vertical-align: top;\n",
       "    }\n",
       "\n",
       "    .dataframe thead th {\n",
       "        text-align: right;\n",
       "    }\n",
       "</style>\n",
       "<table border=\"1\" class=\"dataframe\">\n",
       "  <thead>\n",
       "    <tr style=\"text-align: right;\">\n",
       "      <th></th>\n",
       "      <th>RECORD_TIME</th>\n",
       "    </tr>\n",
       "  </thead>\n",
       "  <tbody>\n",
       "    <tr>\n",
       "      <th>0</th>\n",
       "      <td>2021-09-14 03:30</td>\n",
       "    </tr>\n",
       "    <tr>\n",
       "      <th>1</th>\n",
       "      <td>2021-09-14 03:00</td>\n",
       "    </tr>\n",
       "  </tbody>\n",
       "</table>\n",
       "</div>"
      ],
      "text/plain": [
       "        RECORD_TIME\n",
       "0  2021-09-14 03:30\n",
       "1  2021-09-14 03:00"
      ]
     },
     "execution_count": 3,
     "metadata": {},
     "output_type": "execute_result"
    }
   ],
   "source": [
    "timestamps"
   ]
  },
  {
   "cell_type": "code",
   "execution_count": 4,
   "id": "alternate-victory",
   "metadata": {
    "execution": {
     "iopub.execute_input": "2021-09-14T01:30:07.849610Z",
     "iopub.status.busy": "2021-09-14T01:30:07.847543Z",
     "iopub.status.idle": "2021-09-14T01:30:08.275016Z",
     "shell.execute_reply": "2021-09-14T01:30:08.276441Z"
    },
    "papermill": {
     "duration": 0.458305,
     "end_time": "2021-09-14T01:30:08.276891",
     "exception": false,
     "start_time": "2021-09-14T01:30:07.818586",
     "status": "completed"
    },
    "tags": []
   },
   "outputs": [],
   "source": [
    "df = pd.read_sql(\"select * from EBAY_TOP_BERLIN where record_time in (select distinct record_time from EBAY_TOP_BERLIN order by record_time desc limit 2)\", sqlite3.connect(\"UsedObjects.db\"))"
   ]
  },
  {
   "cell_type": "code",
   "execution_count": 5,
   "id": "popular-active",
   "metadata": {
    "execution": {
     "iopub.execute_input": "2021-09-14T01:30:08.359314Z",
     "iopub.status.busy": "2021-09-14T01:30:08.348124Z",
     "iopub.status.idle": "2021-09-14T01:30:08.375702Z",
     "shell.execute_reply": "2021-09-14T01:30:08.376936Z"
    },
    "papermill": {
     "duration": 0.072016,
     "end_time": "2021-09-14T01:30:08.377340",
     "exception": false,
     "start_time": "2021-09-14T01:30:08.305324",
     "status": "completed"
    },
    "tags": []
   },
   "outputs": [],
   "source": [
    "df_pivot = df.pivot_table(index=\"PRODUCT\", columns = \"RECORD_TIME\", values = \"LISTING_COUNT\")"
   ]
  },
  {
   "cell_type": "code",
   "execution_count": 6,
   "id": "union-huntington",
   "metadata": {
    "execution": {
     "iopub.execute_input": "2021-09-14T01:30:08.433044Z",
     "iopub.status.busy": "2021-09-14T01:30:08.430847Z",
     "iopub.status.idle": "2021-09-14T01:30:08.436530Z",
     "shell.execute_reply": "2021-09-14T01:30:08.437805Z"
    },
    "papermill": {
     "duration": 0.040999,
     "end_time": "2021-09-14T01:30:08.438258",
     "exception": false,
     "start_time": "2021-09-14T01:30:08.397259",
     "status": "completed"
    },
    "tags": []
   },
   "outputs": [],
   "source": [
    "df_pivot.columns = [\"stamp_1\", \"stamp_2\"]\n",
    "df_pivot_diff = df_pivot.diff(axis=1)"
   ]
  },
  {
   "cell_type": "code",
   "execution_count": 7,
   "id": "fifth-motion",
   "metadata": {
    "execution": {
     "iopub.execute_input": "2021-09-14T01:30:08.496470Z",
     "iopub.status.busy": "2021-09-14T01:30:08.493878Z",
     "iopub.status.idle": "2021-09-14T01:30:09.979178Z",
     "shell.execute_reply": "2021-09-14T01:30:09.980624Z"
    },
    "papermill": {
     "duration": 1.519035,
     "end_time": "2021-09-14T01:30:09.981064",
     "exception": false,
     "start_time": "2021-09-14T01:30:08.462029",
     "status": "completed"
    },
    "tags": []
   },
   "outputs": [
    {
     "data": {
      "text/plain": [
       "<AxesSubplot:ylabel='PRODUCT'>"
      ]
     },
     "execution_count": 7,
     "metadata": {},
     "output_type": "execute_result"
    },
    {
     "data": {
      "image/png": "[encoded data removed]",
      "text/plain": [
       "<Figure size 432x288 with 1 Axes>"
      ]
     },
     "metadata": {
      "needs_background": "light"
     },
     "output_type": "display_data"
    }
   ],
   "source": [
    "df_pivot_diff.sort_values(\"stamp_2\", ascending = False)[\"stamp_2\"].head(10).plot.barh()"
   ]
  },
  {
   "cell_type": "code",
   "execution_count": null,
   "id": "extra-executive",
   "metadata": {
    "papermill": {
     "duration": 0.022059,
     "end_time": "2021-09-14T01:30:10.027641",
     "exception": false,
     "start_time": "2021-09-14T01:30:10.005582",
     "status": "completed"
    },
    "tags": []
   },
   "outputs": [],
   "source": []
  }
 ],
 "metadata": {
  "kernelspec": {
   "display_name": "Python 3",
   "language": "python",
   "name": "python3"
  },
  "language_info": {
   "codemirror_mode": {
    "name": "ipython",
    "version": 3
   },
   "file_extension": ".py",
   "mimetype": "text/x-python",
   "name": "python",
   "nbconvert_exporter": "python",
   "pygments_lexer": "ipython3",
   "version": "3.9.5"
  },
  "papermill": {
   "default_parameters": {},
   "duration": 6.568487,
   "end_time": "2021-09-14T01:30:10.671803",
   "environment_variables": {},
   "exception": null,
   "input_path": "eBay_Overview.ipynb",
   "output_path": "eBay_Overview.ipynb",
   "parameters": {},
   "start_time": "2021-09-14T01:30:04.103316",
   "version": "2.3.3"
  }
 },
 "nbformat": 4,
 "nbformat_minor": 5
}