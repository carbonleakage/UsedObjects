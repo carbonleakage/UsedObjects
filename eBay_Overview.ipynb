{
 "cells": [
  {
   "cell_type": "code",
   "execution_count": 1,
   "id": "reverse-picking",
   "metadata": {
    "execution": {
     "iopub.execute_input": "2021-11-12T04:30:07.438563Z",
     "iopub.status.busy": "2021-11-12T04:30:07.436220Z",
     "iopub.status.idle": "2021-11-12T04:30:08.519740Z",
     "shell.execute_reply": "2021-11-12T04:30:08.521909Z"
    },
    "papermill": {
     "duration": 1.133125,
     "end_time": "2021-11-12T04:30:08.522614",
     "exception": false,
     "start_time": "2021-11-12T04:30:07.389489",
     "status": "completed"
    },
    "tags": []
   },
   "outputs": [],
   "source": [
    "import pandas as pd\n",
    "import sqlite3"
   ]
  },
  {
   "cell_type": "code",
   "execution_count": 2,
   "id": "innovative-syndrome",
   "metadata": {
    "execution": {
     "iopub.execute_input": "2021-11-12T04:30:08.578340Z",
     "iopub.status.busy": "2021-11-12T04:30:08.576016Z",
     "iopub.status.idle": "2021-11-12T04:30:09.367204Z",
     "shell.execute_reply": "2021-11-12T04:30:09.368843Z"
    },
    "papermill": {
     "duration": 0.825288,
     "end_time": "2021-11-12T04:30:09.369327",
     "exception": false,
     "start_time": "2021-11-12T04:30:08.544039",
     "status": "completed"
    },
    "tags": []
   },
   "outputs": [],
   "source": [
    "timestamps = pd.read_sql(\"select distinct record_time from EBAY_TOP_BERLIN order by record_time desc limit 2\", sqlite3.connect(\"UsedObjects.db\"))"
   ]
  },
  {
   "cell_type": "code",
   "execution_count": 3,
   "id": "periodic-identification",
   "metadata": {
    "execution": {
     "iopub.execute_input": "2021-11-12T04:30:09.441637Z",
     "iopub.status.busy": "2021-11-12T04:30:09.439212Z",
     "iopub.status.idle": "2021-11-12T04:30:09.462229Z",
     "shell.execute_reply": "2021-11-12T04:30:09.463687Z"
    },
    "papermill": {
     "duration": 0.074615,
     "end_time": "2021-11-12T04:30:09.464163",
     "exception": false,
     "start_time": "2021-11-12T04:30:09.389548",
     "status": "completed"
    },
    "tags": []
   },
   "outputs": [
    {
     "data": {
      "text/html": [
       "<div>\n",
       "<style scoped>\n",
       "    .dataframe tbody tr th:only-of-type {\n",
       "        vertical-align: middle;\n",
       "    }\n",
       "\n",
       "    .dataframe tbody tr th {\n",
       "        vertical-align: top;\n",
       "    }\n",
       "\n",
       "    .dataframe thead th {\n",
       "        text-align: right;\n",
       "    }\n",
       "</style>\n",
       "<table border=\"1\" class=\"dataframe\">\n",
       "  <thead>\n",
       "    <tr style=\"text-align: right;\">\n",
       "      <th></th>\n",
       "      <th>RECORD_TIME</th>\n",
       "    </tr>\n",
       "  </thead>\n",
       "  <tbody>\n",
       "    <tr>\n",
       "      <th>0</th>\n",
       "      <td>2021-11-12 05:30</td>\n",
       "    </tr>\n",
       "    <tr>\n",
       "      <th>1</th>\n",
       "      <td>2021-11-12 05:00</td>\n",
       "    </tr>\n",
       "  </tbody>\n",
       "</table>\n",
       "</div>"
      ],
      "text/plain": [
       "        RECORD_TIME\n",
       "0  2021-11-12 05:30\n",
       "1  2021-11-12 05:00"
      ]
     },
     "execution_count": 3,
     "metadata": {},
     "output_type": "execute_result"
    }
   ],
   "source": [
    "timestamps"
   ]
  },
  {
   "cell_type": "code",
   "execution_count": 4,
   "id": "alternate-victory",
   "metadata": {
    "execution": {
     "iopub.execute_input": "2021-11-12T04:30:09.519607Z",
     "iopub.status.busy": "2021-11-12T04:30:09.517398Z",
     "iopub.status.idle": "2021-11-12T04:30:10.687858Z",
     "shell.execute_reply": "2021-11-12T04:30:10.689591Z"
    },
    "papermill": {
     "duration": 1.204626,
     "end_time": "2021-11-12T04:30:10.690080",
     "exception": false,
     "start_time": "2021-11-12T04:30:09.485454",
     "status": "completed"
    },
    "tags": []
   },
   "outputs": [],
   "source": [
    "df = pd.read_sql(\"select * from EBAY_TOP_BERLIN where record_time in (select distinct record_time from EBAY_TOP_BERLIN order by record_time desc limit 2)\", sqlite3.connect(\"UsedObjects.db\"))"
   ]
  },
  {
   "cell_type": "code",
   "execution_count": 5,
   "id": "popular-active",
   "metadata": {
    "execution": {
     "iopub.execute_input": "2021-11-12T04:30:10.771433Z",
     "iopub.status.busy": "2021-11-12T04:30:10.756975Z",
     "iopub.status.idle": "2021-11-12T04:30:10.791459Z",
     "shell.execute_reply": "2021-11-12T04:30:10.789765Z"
    },
    "papermill": {
     "duration": 0.079525,
     "end_time": "2021-11-12T04:30:10.791868",
     "exception": false,
     "start_time": "2021-11-12T04:30:10.712343",
     "status": "completed"
    },
    "tags": []
   },
   "outputs": [],
   "source": [
    "df_pivot = df.pivot_table(index=\"PRODUCT\", columns = \"RECORD_TIME\", values = \"LISTING_COUNT\")"
   ]
  },
  {
   "cell_type": "code",
   "execution_count": 6,
   "id": "union-huntington",
   "metadata": {
    "execution": {
     "iopub.execute_input": "2021-11-12T04:30:10.855523Z",
     "iopub.status.busy": "2021-11-12T04:30:10.853087Z",
     "iopub.status.idle": "2021-11-12T04:30:10.859374Z",
     "shell.execute_reply": "2021-11-12T04:30:10.860984Z"
    },
    "papermill": {
     "duration": 0.048109,
     "end_time": "2021-11-12T04:30:10.861539",
     "exception": false,
     "start_time": "2021-11-12T04:30:10.813430",
     "status": "completed"
    },
    "tags": []
   },
   "outputs": [],
   "source": [
    "df_pivot.columns = [\"stamp_1\", \"stamp_2\"]\n",
    "df_pivot_diff = df_pivot.diff(axis=1)"
   ]
  },
  {
   "cell_type": "code",
   "execution_count": 7,
   "id": "fifth-motion",
   "metadata": {
    "execution": {
     "iopub.execute_input": "2021-11-12T04:30:10.921082Z",
     "iopub.status.busy": "2021-11-12T04:30:10.918378Z",
     "iopub.status.idle": "2021-11-12T04:30:12.701041Z",
     "shell.execute_reply": "2021-11-12T04:30:12.702403Z"
    },
    "papermill": {
     "duration": 1.820193,
     "end_time": "2021-11-12T04:30:12.702882",
     "exception": false,
     "start_time": "2021-11-12T04:30:10.882689",
     "status": "completed"
    },
    "tags": []
   },
   "outputs": [
    {
     "data": {
      "text/plain": [
       "<AxesSubplot:ylabel='PRODUCT'>"
      ]
     },
     "execution_count": 7,
     "metadata": {},
     "output_type": "execute_result"
    },
    {
     "data": {
      "image/png": "[encoded data removed]",
      "text/plain": [
       "<Figure size 432x288 with 1 Axes>"
      ]
     },
     "metadata": {
      "needs_background": "light"
     },
     "output_type": "display_data"
    }
   ],
   "source": [
    "df_pivot_diff.sort_values(\"stamp_2\", ascending = False)[\"stamp_2\"].head(10).plot.barh()"
   ]
  },
  {
   "cell_type": "code",
   "execution_count": null,
   "id": "extra-executive",
   "metadata": {
    "papermill": {
     "duration": 0.023458,
     "end_time": "2021-11-12T04:30:12.750074",
     "exception": false,
     "start_time": "2021-11-12T04:30:12.726616",
     "status": "completed"
    },
    "tags": []
   },
   "outputs": [],
   "source": []
  }
 ],
 "metadata": {
  "kernelspec": {
   "display_name": "Python 3",
   "language": "python",
   "name": "python3"
  },
  "language_info": {
   "codemirror_mode": {
    "name": "ipython",
    "version": 3
   },
   "file_extension": ".py",
   "mimetype": "text/x-python",
   "name": "python",
   "nbconvert_exporter": "python",
   "pygments_lexer": "ipython3",
   "version": "3.9.5"
  },
  "papermill": {
   "default_parameters": {},
   "duration": 10.023641,
   "end_time": "2021-11-12T04:30:14.589228",
   "environment_variables": {},
   "exception": null,
   "input_path": "eBay_Overview.ipynb",
   "output_path": "eBay_Overview.ipynb",
   "parameters": {},
   "start_time": "2021-11-12T04:30:04.565587",
   "version": "2.3.3"
  }
 },
 "nbformat": 4,
 "nbformat_minor": 5
}