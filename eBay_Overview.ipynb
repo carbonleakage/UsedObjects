{
 "cells": [
  {
   "cell_type": "code",
   "execution_count": 1,
   "id": "reverse-picking",
   "metadata": {
    "execution": {
     "iopub.execute_input": "2021-10-08T15:00:06.620688Z",
     "iopub.status.busy": "2021-10-08T15:00:06.618689Z",
     "iopub.status.idle": "2021-10-08T15:00:07.431648Z",
     "shell.execute_reply": "2021-10-08T15:00:07.433074Z"
    },
    "papermill": {
     "duration": 0.864361,
     "end_time": "2021-10-08T15:00:07.433742",
     "exception": false,
     "start_time": "2021-10-08T15:00:06.569381",
     "status": "completed"
    },
    "tags": []
   },
   "outputs": [],
   "source": [
    "import pandas as pd\n",
    "import sqlite3"
   ]
  },
  {
   "cell_type": "code",
   "execution_count": 2,
   "id": "innovative-syndrome",
   "metadata": {
    "execution": {
     "iopub.execute_input": "2021-10-08T15:00:07.484946Z",
     "iopub.status.busy": "2021-10-08T15:00:07.482565Z",
     "iopub.status.idle": "2021-10-08T15:00:07.975432Z",
     "shell.execute_reply": "2021-10-08T15:00:07.976656Z"
    },
    "papermill": {
     "duration": 0.522952,
     "end_time": "2021-10-08T15:00:07.977113",
     "exception": false,
     "start_time": "2021-10-08T15:00:07.454161",
     "status": "completed"
    },
    "tags": []
   },
   "outputs": [],
   "source": [
    "timestamps = pd.read_sql(\"select distinct record_time from EBAY_TOP_BERLIN order by record_time desc limit 2\", sqlite3.connect(\"UsedObjects.db\"))"
   ]
  },
  {
   "cell_type": "code",
   "execution_count": 3,
   "id": "periodic-identification",
   "metadata": {
    "execution": {
     "iopub.execute_input": "2021-10-08T15:00:08.042294Z",
     "iopub.status.busy": "2021-10-08T15:00:08.040274Z",
     "iopub.status.idle": "2021-10-08T15:00:08.060214Z",
     "shell.execute_reply": "2021-10-08T15:00:08.061472Z"
    },
    "papermill": {
     "duration": 0.064572,
     "end_time": "2021-10-08T15:00:08.062037",
     "exception": false,
     "start_time": "2021-10-08T15:00:07.997465",
     "status": "completed"
    },
    "tags": []
   },
   "outputs": [
    {
     "data": {
      "text/html": [
       "<div>\n",
       "<style scoped>\n",
       "    .dataframe tbody tr th:only-of-type {\n",
       "        vertical-align: middle;\n",
       "    }\n",
       "\n",
       "    .dataframe tbody tr th {\n",
       "        vertical-align: top;\n",
       "    }\n",
       "\n",
       "    .dataframe thead th {\n",
       "        text-align: right;\n",
       "    }\n",
       "</style>\n",
       "<table border=\"1\" class=\"dataframe\">\n",
       "  <thead>\n",
       "    <tr style=\"text-align: right;\">\n",
       "      <th></th>\n",
       "      <th>RECORD_TIME</th>\n",
       "    </tr>\n",
       "  </thead>\n",
       "  <tbody>\n",
       "    <tr>\n",
       "      <th>0</th>\n",
       "      <td>2021-10-08 17:00</td>\n",
       "    </tr>\n",
       "    <tr>\n",
       "      <th>1</th>\n",
       "      <td>2021-10-08 16:30</td>\n",
       "    </tr>\n",
       "  </tbody>\n",
       "</table>\n",
       "</div>"
      ],
      "text/plain": [
       "        RECORD_TIME\n",
       "0  2021-10-08 17:00\n",
       "1  2021-10-08 16:30"
      ]
     },
     "execution_count": 3,
     "metadata": {},
     "output_type": "execute_result"
    }
   ],
   "source": [
    "timestamps"
   ]
  },
  {
   "cell_type": "code",
   "execution_count": 4,
   "id": "alternate-victory",
   "metadata": {
    "execution": {
     "iopub.execute_input": "2021-10-08T15:00:08.116464Z",
     "iopub.status.busy": "2021-10-08T15:00:08.114334Z",
     "iopub.status.idle": "2021-10-08T15:00:08.851046Z",
     "shell.execute_reply": "2021-10-08T15:00:08.852593Z"
    },
    "papermill": {
     "duration": 0.767339,
     "end_time": "2021-10-08T15:00:08.853055",
     "exception": false,
     "start_time": "2021-10-08T15:00:08.085716",
     "status": "completed"
    },
    "tags": []
   },
   "outputs": [],
   "source": [
    "df = pd.read_sql(\"select * from EBAY_TOP_BERLIN where record_time in (select distinct record_time from EBAY_TOP_BERLIN order by record_time desc limit 2)\", sqlite3.connect(\"UsedObjects.db\"))"
   ]
  },
  {
   "cell_type": "code",
   "execution_count": 5,
   "id": "popular-active",
   "metadata": {
    "execution": {
     "iopub.execute_input": "2021-10-08T15:00:08.925216Z",
     "iopub.status.busy": "2021-10-08T15:00:08.912906Z",
     "iopub.status.idle": "2021-10-08T15:00:08.941026Z",
     "shell.execute_reply": "2021-10-08T15:00:08.942248Z"
    },
    "papermill": {
     "duration": 0.068743,
     "end_time": "2021-10-08T15:00:08.942642",
     "exception": false,
     "start_time": "2021-10-08T15:00:08.873899",
     "status": "completed"
    },
    "tags": []
   },
   "outputs": [],
   "source": [
    "df_pivot = df.pivot_table(index=\"PRODUCT\", columns = \"RECORD_TIME\", values = \"LISTING_COUNT\")"
   ]
  },
  {
   "cell_type": "code",
   "execution_count": 6,
   "id": "union-huntington",
   "metadata": {
    "execution": {
     "iopub.execute_input": "2021-10-08T15:00:09.002209Z",
     "iopub.status.busy": "2021-10-08T15:00:08.999782Z",
     "iopub.status.idle": "2021-10-08T15:00:09.005669Z",
     "shell.execute_reply": "2021-10-08T15:00:09.007021Z"
    },
    "papermill": {
     "duration": 0.042586,
     "end_time": "2021-10-08T15:00:09.007455",
     "exception": false,
     "start_time": "2021-10-08T15:00:08.964869",
     "status": "completed"
    },
    "tags": []
   },
   "outputs": [],
   "source": [
    "df_pivot.columns = [\"stamp_1\", \"stamp_2\"]\n",
    "df_pivot_diff = df_pivot.diff(axis=1)"
   ]
  },
  {
   "cell_type": "code",
   "execution_count": 7,
   "id": "fifth-motion",
   "metadata": {
    "execution": {
     "iopub.execute_input": "2021-10-08T15:00:09.061835Z",
     "iopub.status.busy": "2021-10-08T15:00:09.059472Z",
     "iopub.status.idle": "2021-10-08T15:00:10.552897Z",
     "shell.execute_reply": "2021-10-08T15:00:10.554178Z"
    },
    "papermill": {
     "duration": 1.526609,
     "end_time": "2021-10-08T15:00:10.554592",
     "exception": false,
     "start_time": "2021-10-08T15:00:09.027983",
     "status": "completed"
    },
    "tags": []
   },
   "outputs": [
    {
     "data": {
      "text/plain": [
       "<AxesSubplot:ylabel='PRODUCT'>"
      ]
     },
     "execution_count": 7,
     "metadata": {},
     "output_type": "execute_result"
    },
    {
     "data": {
      "image/png": "[encoded data removed]",
      "text/plain": [
       "<Figure size 432x288 with 1 Axes>"
      ]
     },
     "metadata": {
      "needs_background": "light"
     },
     "output_type": "display_data"
    }
   ],
   "source": [
    "df_pivot_diff.sort_values(\"stamp_2\", ascending = False)[\"stamp_2\"].head(10).plot.barh()"
   ]
  },
  {
   "cell_type": "code",
   "execution_count": null,
   "id": "extra-executive",
   "metadata": {
    "papermill": {
     "duration": 0.021889,
     "end_time": "2021-10-08T15:00:10.601235",
     "exception": false,
     "start_time": "2021-10-08T15:00:10.579346",
     "status": "completed"
    },
    "tags": []
   },
   "outputs": [],
   "source": []
  }
 ],
 "metadata": {
  "kernelspec": {
   "display_name": "Python 3",
   "language": "python",
   "name": "python3"
  },
  "language_info": {
   "codemirror_mode": {
    "name": "ipython",
    "version": 3
   },
   "file_extension": ".py",
   "mimetype": "text/x-python",
   "name": "python",
   "nbconvert_exporter": "python",
   "pygments_lexer": "ipython3",
   "version": "3.9.5"
  },
  "papermill": {
   "default_parameters": {},
   "duration": 7.836522,
   "end_time": "2021-10-08T15:00:11.992204",
   "environment_variables": {},
   "exception": null,
   "input_path": "eBay_Overview.ipynb",
   "output_path": "eBay_Overview.ipynb",
   "parameters": {},
   "start_time": "2021-10-08T15:00:04.155682",
   "version": "2.3.3"
  }
 },
 "nbformat": 4,
 "nbformat_minor": 5
}