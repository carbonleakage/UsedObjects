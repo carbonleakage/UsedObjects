{
 "cells": [
  {
   "cell_type": "code",
   "execution_count": 1,
   "id": "reverse-picking",
   "metadata": {
    "execution": {
     "iopub.execute_input": "2021-11-21T09:30:07.902931Z",
     "iopub.status.busy": "2021-11-21T09:30:07.900607Z",
     "iopub.status.idle": "2021-11-21T09:30:08.861306Z",
     "shell.execute_reply": "2021-11-21T09:30:08.862936Z"
    },
    "papermill": {
     "duration": 1.010666,
     "end_time": "2021-11-21T09:30:08.863684",
     "exception": false,
     "start_time": "2021-11-21T09:30:07.853018",
     "status": "completed"
    },
    "tags": []
   },
   "outputs": [],
   "source": [
    "import pandas as pd\n",
    "import sqlite3"
   ]
  },
  {
   "cell_type": "code",
   "execution_count": 2,
   "id": "innovative-syndrome",
   "metadata": {
    "execution": {
     "iopub.execute_input": "2021-11-21T09:30:08.929896Z",
     "iopub.status.busy": "2021-11-21T09:30:08.927494Z",
     "iopub.status.idle": "2021-11-21T09:30:09.916433Z",
     "shell.execute_reply": "2021-11-21T09:30:09.917901Z"
    },
    "papermill": {
     "duration": 1.024641,
     "end_time": "2021-11-21T09:30:09.918382",
     "exception": false,
     "start_time": "2021-11-21T09:30:08.893741",
     "status": "completed"
    },
    "tags": []
   },
   "outputs": [],
   "source": [
    "timestamps = pd.read_sql(\"select distinct record_time from EBAY_TOP_BERLIN order by record_time desc limit 2\", sqlite3.connect(\"UsedObjects.db\"))"
   ]
  },
  {
   "cell_type": "code",
   "execution_count": 3,
   "id": "periodic-identification",
   "metadata": {
    "execution": {
     "iopub.execute_input": "2021-11-21T09:30:09.992472Z",
     "iopub.status.busy": "2021-11-21T09:30:09.986204Z",
     "iopub.status.idle": "2021-11-21T09:30:10.009541Z",
     "shell.execute_reply": "2021-11-21T09:30:10.011146Z"
    },
    "papermill": {
     "duration": 0.073464,
     "end_time": "2021-11-21T09:30:10.011620",
     "exception": false,
     "start_time": "2021-11-21T09:30:09.938156",
     "status": "completed"
    },
    "tags": []
   },
   "outputs": [
    {
     "data": {
      "text/html": [
       "<div>\n",
       "<style scoped>\n",
       "    .dataframe tbody tr th:only-of-type {\n",
       "        vertical-align: middle;\n",
       "    }\n",
       "\n",
       "    .dataframe tbody tr th {\n",
       "        vertical-align: top;\n",
       "    }\n",
       "\n",
       "    .dataframe thead th {\n",
       "        text-align: right;\n",
       "    }\n",
       "</style>\n",
       "<table border=\"1\" class=\"dataframe\">\n",
       "  <thead>\n",
       "    <tr style=\"text-align: right;\">\n",
       "      <th></th>\n",
       "      <th>RECORD_TIME</th>\n",
       "    </tr>\n",
       "  </thead>\n",
       "  <tbody>\n",
       "    <tr>\n",
       "      <th>0</th>\n",
       "      <td>2021-11-21 10:30</td>\n",
       "    </tr>\n",
       "    <tr>\n",
       "      <th>1</th>\n",
       "      <td>2021-11-21 10:00</td>\n",
       "    </tr>\n",
       "  </tbody>\n",
       "</table>\n",
       "</div>"
      ],
      "text/plain": [
       "        RECORD_TIME\n",
       "0  2021-11-21 10:30\n",
       "1  2021-11-21 10:00"
      ]
     },
     "execution_count": 3,
     "metadata": {},
     "output_type": "execute_result"
    }
   ],
   "source": [
    "timestamps"
   ]
  },
  {
   "cell_type": "code",
   "execution_count": 4,
   "id": "alternate-victory",
   "metadata": {
    "execution": {
     "iopub.execute_input": "2021-11-21T09:30:10.070928Z",
     "iopub.status.busy": "2021-11-21T09:30:10.068565Z",
     "iopub.status.idle": "2021-11-21T09:30:11.339012Z",
     "shell.execute_reply": "2021-11-21T09:30:11.340589Z"
    },
    "papermill": {
     "duration": 1.307339,
     "end_time": "2021-11-21T09:30:11.341135",
     "exception": false,
     "start_time": "2021-11-21T09:30:10.033796",
     "status": "completed"
    },
    "tags": []
   },
   "outputs": [],
   "source": [
    "df = pd.read_sql(\"select * from EBAY_TOP_BERLIN where record_time in (select distinct record_time from EBAY_TOP_BERLIN order by record_time desc limit 2)\", sqlite3.connect(\"UsedObjects.db\"))"
   ]
  },
  {
   "cell_type": "code",
   "execution_count": 5,
   "id": "popular-active",
   "metadata": {
    "execution": {
     "iopub.execute_input": "2021-11-21T09:30:11.438069Z",
     "iopub.status.busy": "2021-11-21T09:30:11.423646Z",
     "iopub.status.idle": "2021-11-21T09:30:11.470198Z",
     "shell.execute_reply": "2021-11-21T09:30:11.471873Z"
    },
    "papermill": {
     "duration": 0.108565,
     "end_time": "2021-11-21T09:30:11.472451",
     "exception": false,
     "start_time": "2021-11-21T09:30:11.363886",
     "status": "completed"
    },
    "tags": []
   },
   "outputs": [],
   "source": [
    "df_pivot = df.pivot_table(index=\"PRODUCT\", columns = \"RECORD_TIME\", values = \"LISTING_COUNT\")"
   ]
  },
  {
   "cell_type": "code",
   "execution_count": 6,
   "id": "union-huntington",
   "metadata": {
    "execution": {
     "iopub.execute_input": "2021-11-21T09:30:11.535709Z",
     "iopub.status.busy": "2021-11-21T09:30:11.532480Z",
     "iopub.status.idle": "2021-11-21T09:30:11.540166Z",
     "shell.execute_reply": "2021-11-21T09:30:11.541640Z"
    },
    "papermill": {
     "duration": 0.047773,
     "end_time": "2021-11-21T09:30:11.542121",
     "exception": false,
     "start_time": "2021-11-21T09:30:11.494348",
     "status": "completed"
    },
    "tags": []
   },
   "outputs": [],
   "source": [
    "df_pivot.columns = [\"stamp_1\", \"stamp_2\"]\n",
    "df_pivot_diff = df_pivot.diff(axis=1)"
   ]
  },
  {
   "cell_type": "code",
   "execution_count": 7,
   "id": "fifth-motion",
   "metadata": {
    "execution": {
     "iopub.execute_input": "2021-11-21T09:30:11.599623Z",
     "iopub.status.busy": "2021-11-21T09:30:11.597289Z",
     "iopub.status.idle": "2021-11-21T09:30:13.333797Z",
     "shell.execute_reply": "2021-11-21T09:30:13.335343Z"
    },
    "papermill": {
     "duration": 1.773665,
     "end_time": "2021-11-21T09:30:13.335862",
     "exception": false,
     "start_time": "2021-11-21T09:30:11.562197",
     "status": "completed"
    },
    "tags": []
   },
   "outputs": [
    {
     "data": {
      "text/plain": [
       "<AxesSubplot:ylabel='PRODUCT'>"
      ]
     },
     "execution_count": 7,
     "metadata": {},
     "output_type": "execute_result"
    },
    {
     "data": {
      "image/png": "[encoded data removed]",
      "text/plain": [
       "<Figure size 432x288 with 1 Axes>"
      ]
     },
     "metadata": {
      "needs_background": "light"
     },
     "output_type": "display_data"
    }
   ],
   "source": [
    "df_pivot_diff.sort_values(\"stamp_2\", ascending = False)[\"stamp_2\"].head(10).plot.barh()"
   ]
  },
  {
   "cell_type": "code",
   "execution_count": null,
   "id": "extra-executive",
   "metadata": {
    "papermill": {
     "duration": 0.022109,
     "end_time": "2021-11-21T09:30:13.383464",
     "exception": false,
     "start_time": "2021-11-21T09:30:13.361355",
     "status": "completed"
    },
    "tags": []
   },
   "outputs": [],
   "source": []
  }
 ],
 "metadata": {
  "kernelspec": {
   "display_name": "Python 3",
   "language": "python",
   "name": "python3"
  },
  "language_info": {
   "codemirror_mode": {
    "name": "ipython",
    "version": 3
   },
   "file_extension": ".py",
   "mimetype": "text/x-python",
   "name": "python",
   "nbconvert_exporter": "python",
   "pygments_lexer": "ipython3",
   "version": "3.9.5"
  },
  "papermill": {
   "default_parameters": {},
   "duration": 8.987304,
   "end_time": "2021-11-21T09:30:14.032249",
   "environment_variables": {},
   "exception": null,
   "input_path": "eBay_Overview.ipynb",
   "output_path": "eBay_Overview.ipynb",
   "parameters": {},
   "start_time": "2021-11-21T09:30:05.044945",
   "version": "2.3.3"
  }
 },
 "nbformat": 4,
 "nbformat_minor": 5
}