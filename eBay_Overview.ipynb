{
 "cells": [
  {
   "cell_type": "code",
   "execution_count": 1,
   "id": "reverse-picking",
   "metadata": {
    "execution": {
     "iopub.execute_input": "2021-11-20T20:30:07.552067Z",
     "iopub.status.busy": "2021-11-20T20:30:07.548444Z",
     "iopub.status.idle": "2021-11-20T20:30:08.500334Z",
     "shell.execute_reply": "2021-11-20T20:30:08.502085Z"
    },
    "papermill": {
     "duration": 1.002429,
     "end_time": "2021-11-20T20:30:08.502813",
     "exception": false,
     "start_time": "2021-11-20T20:30:07.500384",
     "status": "completed"
    },
    "tags": []
   },
   "outputs": [],
   "source": [
    "import pandas as pd\n",
    "import sqlite3"
   ]
  },
  {
   "cell_type": "code",
   "execution_count": 2,
   "id": "innovative-syndrome",
   "metadata": {
    "execution": {
     "iopub.execute_input": "2021-11-20T20:30:08.568433Z",
     "iopub.status.busy": "2021-11-20T20:30:08.565965Z",
     "iopub.status.idle": "2021-11-20T20:30:09.444078Z",
     "shell.execute_reply": "2021-11-20T20:30:09.445610Z"
    },
    "papermill": {
     "duration": 0.913347,
     "end_time": "2021-11-20T20:30:09.446113",
     "exception": false,
     "start_time": "2021-11-20T20:30:08.532766",
     "status": "completed"
    },
    "tags": []
   },
   "outputs": [],
   "source": [
    "timestamps = pd.read_sql(\"select distinct record_time from EBAY_TOP_BERLIN order by record_time desc limit 2\", sqlite3.connect(\"UsedObjects.db\"))"
   ]
  },
  {
   "cell_type": "code",
   "execution_count": 3,
   "id": "periodic-identification",
   "metadata": {
    "execution": {
     "iopub.execute_input": "2021-11-20T20:30:09.520829Z",
     "iopub.status.busy": "2021-11-20T20:30:09.518352Z",
     "iopub.status.idle": "2021-11-20T20:30:09.542481Z",
     "shell.execute_reply": "2021-11-20T20:30:09.543931Z"
    },
    "papermill": {
     "duration": 0.077326,
     "end_time": "2021-11-20T20:30:09.544427",
     "exception": false,
     "start_time": "2021-11-20T20:30:09.467101",
     "status": "completed"
    },
    "tags": []
   },
   "outputs": [
    {
     "data": {
      "text/html": [
       "<div>\n",
       "<style scoped>\n",
       "    .dataframe tbody tr th:only-of-type {\n",
       "        vertical-align: middle;\n",
       "    }\n",
       "\n",
       "    .dataframe tbody tr th {\n",
       "        vertical-align: top;\n",
       "    }\n",
       "\n",
       "    .dataframe thead th {\n",
       "        text-align: right;\n",
       "    }\n",
       "</style>\n",
       "<table border=\"1\" class=\"dataframe\">\n",
       "  <thead>\n",
       "    <tr style=\"text-align: right;\">\n",
       "      <th></th>\n",
       "      <th>RECORD_TIME</th>\n",
       "    </tr>\n",
       "  </thead>\n",
       "  <tbody>\n",
       "    <tr>\n",
       "      <th>0</th>\n",
       "      <td>2021-11-20 21:30</td>\n",
       "    </tr>\n",
       "    <tr>\n",
       "      <th>1</th>\n",
       "      <td>2021-11-20 21:00</td>\n",
       "    </tr>\n",
       "  </tbody>\n",
       "</table>\n",
       "</div>"
      ],
      "text/plain": [
       "        RECORD_TIME\n",
       "0  2021-11-20 21:30\n",
       "1  2021-11-20 21:00"
      ]
     },
     "execution_count": 3,
     "metadata": {},
     "output_type": "execute_result"
    }
   ],
   "source": [
    "timestamps"
   ]
  },
  {
   "cell_type": "code",
   "execution_count": 4,
   "id": "alternate-victory",
   "metadata": {
    "execution": {
     "iopub.execute_input": "2021-11-20T20:30:09.600183Z",
     "iopub.status.busy": "2021-11-20T20:30:09.598003Z",
     "iopub.status.idle": "2021-11-20T20:30:10.881945Z",
     "shell.execute_reply": "2021-11-20T20:30:10.884472Z"
    },
    "papermill": {
     "duration": 1.318854,
     "end_time": "2021-11-20T20:30:10.885229",
     "exception": false,
     "start_time": "2021-11-20T20:30:09.566375",
     "status": "completed"
    },
    "tags": []
   },
   "outputs": [],
   "source": [
    "df = pd.read_sql(\"select * from EBAY_TOP_BERLIN where record_time in (select distinct record_time from EBAY_TOP_BERLIN order by record_time desc limit 2)\", sqlite3.connect(\"UsedObjects.db\"))"
   ]
  },
  {
   "cell_type": "code",
   "execution_count": 5,
   "id": "popular-active",
   "metadata": {
    "execution": {
     "iopub.execute_input": "2021-11-20T20:30:10.972509Z",
     "iopub.status.busy": "2021-11-20T20:30:10.956125Z",
     "iopub.status.idle": "2021-11-20T20:30:10.993863Z",
     "shell.execute_reply": "2021-11-20T20:30:10.995194Z"
    },
    "papermill": {
     "duration": 0.081973,
     "end_time": "2021-11-20T20:30:10.995651",
     "exception": false,
     "start_time": "2021-11-20T20:30:10.913678",
     "status": "completed"
    },
    "tags": []
   },
   "outputs": [],
   "source": [
    "df_pivot = df.pivot_table(index=\"PRODUCT\", columns = \"RECORD_TIME\", values = \"LISTING_COUNT\")"
   ]
  },
  {
   "cell_type": "code",
   "execution_count": 6,
   "id": "union-huntington",
   "metadata": {
    "execution": {
     "iopub.execute_input": "2021-11-20T20:30:11.055201Z",
     "iopub.status.busy": "2021-11-20T20:30:11.053092Z",
     "iopub.status.idle": "2021-11-20T20:30:11.058354Z",
     "shell.execute_reply": "2021-11-20T20:30:11.059542Z"
    },
    "papermill": {
     "duration": 0.044033,
     "end_time": "2021-11-20T20:30:11.059973",
     "exception": false,
     "start_time": "2021-11-20T20:30:11.015940",
     "status": "completed"
    },
    "tags": []
   },
   "outputs": [],
   "source": [
    "df_pivot.columns = [\"stamp_1\", \"stamp_2\"]\n",
    "df_pivot_diff = df_pivot.diff(axis=1)"
   ]
  },
  {
   "cell_type": "code",
   "execution_count": 7,
   "id": "fifth-motion",
   "metadata": {
    "execution": {
     "iopub.execute_input": "2021-11-20T20:30:11.117749Z",
     "iopub.status.busy": "2021-11-20T20:30:11.115207Z",
     "iopub.status.idle": "2021-11-20T20:30:13.070195Z",
     "shell.execute_reply": "2021-11-20T20:30:13.071571Z"
    },
    "papermill": {
     "duration": 1.991494,
     "end_time": "2021-11-20T20:30:13.072050",
     "exception": false,
     "start_time": "2021-11-20T20:30:11.080556",
     "status": "completed"
    },
    "tags": []
   },
   "outputs": [
    {
     "data": {
      "text/plain": [
       "<AxesSubplot:ylabel='PRODUCT'>"
      ]
     },
     "execution_count": 7,
     "metadata": {},
     "output_type": "execute_result"
    },
    {
     "data": {
      "image/png": "[encoded data removed]",
      "text/plain": [
       "<Figure size 432x288 with 1 Axes>"
      ]
     },
     "metadata": {
      "needs_background": "light"
     },
     "output_type": "display_data"
    }
   ],
   "source": [
    "df_pivot_diff.sort_values(\"stamp_2\", ascending = False)[\"stamp_2\"].head(10).plot.barh()"
   ]
  },
  {
   "cell_type": "code",
   "execution_count": null,
   "id": "extra-executive",
   "metadata": {
    "papermill": {
     "duration": 0.023921,
     "end_time": "2021-11-20T20:30:13.121042",
     "exception": false,
     "start_time": "2021-11-20T20:30:13.097121",
     "status": "completed"
    },
    "tags": []
   },
   "outputs": [],
   "source": []
  }
 ],
 "metadata": {
  "kernelspec": {
   "display_name": "Python 3",
   "language": "python",
   "name": "python3"
  },
  "language_info": {
   "codemirror_mode": {
    "name": "ipython",
    "version": 3
   },
   "file_extension": ".py",
   "mimetype": "text/x-python",
   "name": "python",
   "nbconvert_exporter": "python",
   "pygments_lexer": "ipython3",
   "version": "3.9.5"
  },
  "papermill": {
   "default_parameters": {},
   "duration": 9.930168,
   "end_time": "2021-11-20T20:30:14.697826",
   "environment_variables": {},
   "exception": null,
   "input_path": "eBay_Overview.ipynb",
   "output_path": "eBay_Overview.ipynb",
   "parameters": {},
   "start_time": "2021-11-20T20:30:04.767658",
   "version": "2.3.3"
  }
 },
 "nbformat": 4,
 "nbformat_minor": 5
}