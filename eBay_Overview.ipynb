{
 "cells": [
  {
   "cell_type": "code",
   "execution_count": 1,
   "id": "reverse-picking",
   "metadata": {
    "execution": {
     "iopub.execute_input": "2021-09-11T19:00:07.593053Z",
     "iopub.status.busy": "2021-09-11T19:00:07.591093Z",
     "iopub.status.idle": "2021-09-11T19:00:08.402515Z",
     "shell.execute_reply": "2021-09-11T19:00:08.403961Z"
    },
    "papermill": {
     "duration": 0.863881,
     "end_time": "2021-09-11T19:00:08.404624",
     "exception": false,
     "start_time": "2021-09-11T19:00:07.540743",
     "status": "completed"
    },
    "tags": []
   },
   "outputs": [],
   "source": [
    "import pandas as pd\n",
    "import sqlite3"
   ]
  },
  {
   "cell_type": "code",
   "execution_count": 2,
   "id": "innovative-syndrome",
   "metadata": {
    "execution": {
     "iopub.execute_input": "2021-09-11T19:00:08.455299Z",
     "iopub.status.busy": "2021-09-11T19:00:08.453231Z",
     "iopub.status.idle": "2021-09-11T19:00:08.712994Z",
     "shell.execute_reply": "2021-09-11T19:00:08.714209Z"
    },
    "papermill": {
     "duration": 0.289699,
     "end_time": "2021-09-11T19:00:08.714607",
     "exception": false,
     "start_time": "2021-09-11T19:00:08.424908",
     "status": "completed"
    },
    "tags": []
   },
   "outputs": [],
   "source": [
    "timestamps = pd.read_sql(\"select distinct record_time from EBAY_TOP_BERLIN order by record_time desc limit 2\", sqlite3.connect(\"UsedObjects.db\"))"
   ]
  },
  {
   "cell_type": "code",
   "execution_count": 3,
   "id": "periodic-identification",
   "metadata": {
    "execution": {
     "iopub.execute_input": "2021-09-11T19:00:08.779282Z",
     "iopub.status.busy": "2021-09-11T19:00:08.777141Z",
     "iopub.status.idle": "2021-09-11T19:00:08.797433Z",
     "shell.execute_reply": "2021-09-11T19:00:08.798724Z"
    },
    "papermill": {
     "duration": 0.063651,
     "end_time": "2021-09-11T19:00:08.799216",
     "exception": false,
     "start_time": "2021-09-11T19:00:08.735565",
     "status": "completed"
    },
    "tags": []
   },
   "outputs": [
    {
     "data": {
      "text/html": [
       "<div>\n",
       "<style scoped>\n",
       "    .dataframe tbody tr th:only-of-type {\n",
       "        vertical-align: middle;\n",
       "    }\n",
       "\n",
       "    .dataframe tbody tr th {\n",
       "        vertical-align: top;\n",
       "    }\n",
       "\n",
       "    .dataframe thead th {\n",
       "        text-align: right;\n",
       "    }\n",
       "</style>\n",
       "<table border=\"1\" class=\"dataframe\">\n",
       "  <thead>\n",
       "    <tr style=\"text-align: right;\">\n",
       "      <th></th>\n",
       "      <th>RECORD_TIME</th>\n",
       "    </tr>\n",
       "  </thead>\n",
       "  <tbody>\n",
       "    <tr>\n",
       "      <th>0</th>\n",
       "      <td>2021-09-11 21:00</td>\n",
       "    </tr>\n",
       "    <tr>\n",
       "      <th>1</th>\n",
       "      <td>2021-09-11 20:30</td>\n",
       "    </tr>\n",
       "  </tbody>\n",
       "</table>\n",
       "</div>"
      ],
      "text/plain": [
       "        RECORD_TIME\n",
       "0  2021-09-11 21:00\n",
       "1  2021-09-11 20:30"
      ]
     },
     "execution_count": 3,
     "metadata": {},
     "output_type": "execute_result"
    }
   ],
   "source": [
    "timestamps"
   ]
  },
  {
   "cell_type": "code",
   "execution_count": 4,
   "id": "alternate-victory",
   "metadata": {
    "execution": {
     "iopub.execute_input": "2021-09-11T19:00:08.850633Z",
     "iopub.status.busy": "2021-09-11T19:00:08.848774Z",
     "iopub.status.idle": "2021-09-11T19:00:09.240743Z",
     "shell.execute_reply": "2021-09-11T19:00:09.241969Z"
    },
    "papermill": {
     "duration": 0.421888,
     "end_time": "2021-09-11T19:00:09.242370",
     "exception": false,
     "start_time": "2021-09-11T19:00:08.820482",
     "status": "completed"
    },
    "tags": []
   },
   "outputs": [],
   "source": [
    "df = pd.read_sql(\"select * from EBAY_TOP_BERLIN where record_time in (select distinct record_time from EBAY_TOP_BERLIN order by record_time desc limit 2)\", sqlite3.connect(\"UsedObjects.db\"))"
   ]
  },
  {
   "cell_type": "code",
   "execution_count": 5,
   "id": "popular-active",
   "metadata": {
    "execution": {
     "iopub.execute_input": "2021-09-11T19:00:09.322543Z",
     "iopub.status.busy": "2021-09-11T19:00:09.311183Z",
     "iopub.status.idle": "2021-09-11T19:00:09.338136Z",
     "shell.execute_reply": "2021-09-11T19:00:09.339592Z"
    },
    "papermill": {
     "duration": 0.07201,
     "end_time": "2021-09-11T19:00:09.340014",
     "exception": false,
     "start_time": "2021-09-11T19:00:09.268004",
     "status": "completed"
    },
    "tags": []
   },
   "outputs": [],
   "source": [
    "df_pivot = df.pivot_table(index=\"PRODUCT\", columns = \"RECORD_TIME\", values = \"LISTING_COUNT\")"
   ]
  },
  {
   "cell_type": "code",
   "execution_count": 6,
   "id": "union-huntington",
   "metadata": {
    "execution": {
     "iopub.execute_input": "2021-09-11T19:00:09.397903Z",
     "iopub.status.busy": "2021-09-11T19:00:09.395448Z",
     "iopub.status.idle": "2021-09-11T19:00:09.401431Z",
     "shell.execute_reply": "2021-09-11T19:00:09.402718Z"
    },
    "papermill": {
     "duration": 0.042074,
     "end_time": "2021-09-11T19:00:09.403195",
     "exception": false,
     "start_time": "2021-09-11T19:00:09.361121",
     "status": "completed"
    },
    "tags": []
   },
   "outputs": [],
   "source": [
    "df_pivot.columns = [\"stamp_1\", \"stamp_2\"]\n",
    "df_pivot_diff = df_pivot.diff(axis=1)"
   ]
  },
  {
   "cell_type": "code",
   "execution_count": 7,
   "id": "fifth-motion",
   "metadata": {
    "execution": {
     "iopub.execute_input": "2021-09-11T19:00:09.457119Z",
     "iopub.status.busy": "2021-09-11T19:00:09.454634Z",
     "iopub.status.idle": "2021-09-11T19:00:10.922325Z",
     "shell.execute_reply": "2021-09-11T19:00:10.923884Z"
    },
    "papermill": {
     "duration": 1.501256,
     "end_time": "2021-09-11T19:00:10.924338",
     "exception": false,
     "start_time": "2021-09-11T19:00:09.423082",
     "status": "completed"
    },
    "tags": []
   },
   "outputs": [
    {
     "data": {
      "text/plain": [
       "<AxesSubplot:ylabel='PRODUCT'>"
      ]
     },
     "execution_count": 7,
     "metadata": {},
     "output_type": "execute_result"
    },
    {
     "data": {
      "image/png": "[encoded data removed]",
      "text/plain": [
       "<Figure size 432x288 with 1 Axes>"
      ]
     },
     "metadata": {
      "needs_background": "light"
     },
     "output_type": "display_data"
    }
   ],
   "source": [
    "df_pivot_diff.sort_values(\"stamp_2\", ascending = False)[\"stamp_2\"].head(10).plot.barh()"
   ]
  },
  {
   "cell_type": "code",
   "execution_count": null,
   "id": "extra-executive",
   "metadata": {
    "papermill": {
     "duration": 0.021966,
     "end_time": "2021-09-11T19:00:10.971148",
     "exception": false,
     "start_time": "2021-09-11T19:00:10.949182",
     "status": "completed"
    },
    "tags": []
   },
   "outputs": [],
   "source": []
  }
 ],
 "metadata": {
  "kernelspec": {
   "display_name": "Python 3",
   "language": "python",
   "name": "python3"
  },
  "language_info": {
   "codemirror_mode": {
    "name": "ipython",
    "version": 3
   },
   "file_extension": ".py",
   "mimetype": "text/x-python",
   "name": "python",
   "nbconvert_exporter": "python",
   "pygments_lexer": "ipython3",
   "version": "3.9.5"
  },
  "papermill": {
   "default_parameters": {},
   "duration": 6.491366,
   "end_time": "2021-09-11T19:00:11.610929",
   "environment_variables": {},
   "exception": null,
   "input_path": "eBay_Overview.ipynb",
   "output_path": "eBay_Overview.ipynb",
   "parameters": {},
   "start_time": "2021-09-11T19:00:05.119563",
   "version": "2.3.3"
  }
 },
 "nbformat": 4,
 "nbformat_minor": 5
}