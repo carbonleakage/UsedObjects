{
 "cells": [
  {
   "cell_type": "code",
   "execution_count": 1,
   "id": "reverse-picking",
   "metadata": {
    "execution": {
     "iopub.execute_input": "2021-12-01T12:00:08.088456Z",
     "iopub.status.busy": "2021-12-01T12:00:08.085497Z",
     "iopub.status.idle": "2021-12-01T12:00:09.039238Z",
     "shell.execute_reply": "2021-12-01T12:00:09.041971Z"
    },
    "papermill": {
     "duration": 1.00658,
     "end_time": "2021-12-01T12:00:09.042700",
     "exception": false,
     "start_time": "2021-12-01T12:00:08.036120",
     "status": "completed"
    },
    "tags": []
   },
   "outputs": [],
   "source": [
    "import pandas as pd\n",
    "import sqlite3"
   ]
  },
  {
   "cell_type": "code",
   "execution_count": 2,
   "id": "innovative-syndrome",
   "metadata": {
    "execution": {
     "iopub.execute_input": "2021-12-01T12:00:09.104176Z",
     "iopub.status.busy": "2021-12-01T12:00:09.101694Z",
     "iopub.status.idle": "2021-12-01T12:00:10.069383Z",
     "shell.execute_reply": "2021-12-01T12:00:10.070823Z"
    },
    "papermill": {
     "duration": 1.001155,
     "end_time": "2021-12-01T12:00:10.071296",
     "exception": false,
     "start_time": "2021-12-01T12:00:09.070141",
     "status": "completed"
    },
    "tags": []
   },
   "outputs": [],
   "source": [
    "timestamps = pd.read_sql(\"select distinct record_time from EBAY_TOP_BERLIN order by record_time desc limit 2\", sqlite3.connect(\"UsedObjects.db\"))"
   ]
  },
  {
   "cell_type": "code",
   "execution_count": 3,
   "id": "periodic-identification",
   "metadata": {
    "execution": {
     "iopub.execute_input": "2021-12-01T12:00:10.126048Z",
     "iopub.status.busy": "2021-12-01T12:00:10.123361Z",
     "iopub.status.idle": "2021-12-01T12:00:10.161453Z",
     "shell.execute_reply": "2021-12-01T12:00:10.162756Z"
    },
    "papermill": {
     "duration": 0.071722,
     "end_time": "2021-12-01T12:00:10.163156",
     "exception": false,
     "start_time": "2021-12-01T12:00:10.091434",
     "status": "completed"
    },
    "tags": []
   },
   "outputs": [
    {
     "data": {
      "text/html": [
       "<div>\n",
       "<style scoped>\n",
       "    .dataframe tbody tr th:only-of-type {\n",
       "        vertical-align: middle;\n",
       "    }\n",
       "\n",
       "    .dataframe tbody tr th {\n",
       "        vertical-align: top;\n",
       "    }\n",
       "\n",
       "    .dataframe thead th {\n",
       "        text-align: right;\n",
       "    }\n",
       "</style>\n",
       "<table border=\"1\" class=\"dataframe\">\n",
       "  <thead>\n",
       "    <tr style=\"text-align: right;\">\n",
       "      <th></th>\n",
       "      <th>RECORD_TIME</th>\n",
       "    </tr>\n",
       "  </thead>\n",
       "  <tbody>\n",
       "    <tr>\n",
       "      <th>0</th>\n",
       "      <td>2021-12-01 13:00</td>\n",
       "    </tr>\n",
       "    <tr>\n",
       "      <th>1</th>\n",
       "      <td>2021-12-01 12:30</td>\n",
       "    </tr>\n",
       "  </tbody>\n",
       "</table>\n",
       "</div>"
      ],
      "text/plain": [
       "        RECORD_TIME\n",
       "0  2021-12-01 13:00\n",
       "1  2021-12-01 12:30"
      ]
     },
     "execution_count": 3,
     "metadata": {},
     "output_type": "execute_result"
    }
   ],
   "source": [
    "timestamps"
   ]
  },
  {
   "cell_type": "code",
   "execution_count": 4,
   "id": "alternate-victory",
   "metadata": {
    "execution": {
     "iopub.execute_input": "2021-12-01T12:00:10.215035Z",
     "iopub.status.busy": "2021-12-01T12:00:10.212870Z",
     "iopub.status.idle": "2021-12-01T12:00:11.612320Z",
     "shell.execute_reply": "2021-12-01T12:00:11.613879Z"
    },
    "papermill": {
     "duration": 1.429985,
     "end_time": "2021-12-01T12:00:11.614346",
     "exception": false,
     "start_time": "2021-12-01T12:00:10.184361",
     "status": "completed"
    },
    "tags": []
   },
   "outputs": [],
   "source": [
    "df = pd.read_sql(\"select * from EBAY_TOP_BERLIN where record_time in (select distinct record_time from EBAY_TOP_BERLIN order by record_time desc limit 2)\", sqlite3.connect(\"UsedObjects.db\"))"
   ]
  },
  {
   "cell_type": "code",
   "execution_count": 5,
   "id": "popular-active",
   "metadata": {
    "execution": {
     "iopub.execute_input": "2021-12-01T12:00:11.701686Z",
     "iopub.status.busy": "2021-12-01T12:00:11.683292Z",
     "iopub.status.idle": "2021-12-01T12:00:11.720762Z",
     "shell.execute_reply": "2021-12-01T12:00:11.722330Z"
    },
    "papermill": {
     "duration": 0.087754,
     "end_time": "2021-12-01T12:00:11.722845",
     "exception": false,
     "start_time": "2021-12-01T12:00:11.635091",
     "status": "completed"
    },
    "tags": []
   },
   "outputs": [],
   "source": [
    "df_pivot = df.pivot_table(index=\"PRODUCT\", columns = \"RECORD_TIME\", values = \"LISTING_COUNT\")"
   ]
  },
  {
   "cell_type": "code",
   "execution_count": 6,
   "id": "union-huntington",
   "metadata": {
    "execution": {
     "iopub.execute_input": "2021-12-01T12:00:11.798454Z",
     "iopub.status.busy": "2021-12-01T12:00:11.796268Z",
     "iopub.status.idle": "2021-12-01T12:00:11.803897Z",
     "shell.execute_reply": "2021-12-01T12:00:11.805535Z"
    },
    "papermill": {
     "duration": 0.058522,
     "end_time": "2021-12-01T12:00:11.806007",
     "exception": false,
     "start_time": "2021-12-01T12:00:11.747485",
     "status": "completed"
    },
    "tags": []
   },
   "outputs": [],
   "source": [
    "df_pivot.columns = [\"stamp_1\", \"stamp_2\"]\n",
    "df_pivot_diff = df_pivot.diff(axis=1)"
   ]
  },
  {
   "cell_type": "code",
   "execution_count": 7,
   "id": "fifth-motion",
   "metadata": {
    "execution": {
     "iopub.execute_input": "2021-12-01T12:00:11.866149Z",
     "iopub.status.busy": "2021-12-01T12:00:11.863750Z",
     "iopub.status.idle": "2021-12-01T12:00:13.811810Z",
     "shell.execute_reply": "2021-12-01T12:00:13.814277Z"
    },
    "papermill": {
     "duration": 1.985129,
     "end_time": "2021-12-01T12:00:13.815030",
     "exception": false,
     "start_time": "2021-12-01T12:00:11.829901",
     "status": "completed"
    },
    "tags": []
   },
   "outputs": [
    {
     "data": {
      "text/plain": [
       "<AxesSubplot:ylabel='PRODUCT'>"
      ]
     },
     "execution_count": 7,
     "metadata": {},
     "output_type": "execute_result"
    },
    {
     "data": {
      "image/png": "[encoded data removed]",
      "text/plain": [
       "<Figure size 432x288 with 1 Axes>"
      ]
     },
     "metadata": {
      "needs_background": "light"
     },
     "output_type": "display_data"
    }
   ],
   "source": [
    "df_pivot_diff.sort_values(\"stamp_2\", ascending = False)[\"stamp_2\"].head(10).plot.barh()"
   ]
  },
  {
   "cell_type": "code",
   "execution_count": null,
   "id": "extra-executive",
   "metadata": {
    "papermill": {
     "duration": 0.028537,
     "end_time": "2021-12-01T12:00:13.880787",
     "exception": false,
     "start_time": "2021-12-01T12:00:13.852250",
     "status": "completed"
    },
    "tags": []
   },
   "outputs": [],
   "source": []
  }
 ],
 "metadata": {
  "kernelspec": {
   "display_name": "Python 3",
   "language": "python",
   "name": "python3"
  },
  "language_info": {
   "codemirror_mode": {
    "name": "ipython",
    "version": 3
   },
   "file_extension": ".py",
   "mimetype": "text/x-python",
   "name": "python",
   "nbconvert_exporter": "python",
   "pygments_lexer": "ipython3",
   "version": "3.9.5"
  },
  "papermill": {
   "default_parameters": {},
   "duration": 9.93336,
   "end_time": "2021-12-01T12:00:15.262620",
   "environment_variables": {},
   "exception": null,
   "input_path": "eBay_Overview.ipynb",
   "output_path": "eBay_Overview.ipynb",
   "parameters": {},
   "start_time": "2021-12-01T12:00:05.329260",
   "version": "2.3.3"
  }
 },
 "nbformat": 4,
 "nbformat_minor": 5
}