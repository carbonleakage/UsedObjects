{
 "cells": [
  {
   "cell_type": "code",
   "execution_count": 1,
   "id": "reverse-picking",
   "metadata": {
    "execution": {
     "iopub.execute_input": "2021-08-09T03:00:03.968984Z",
     "iopub.status.busy": "2021-08-09T03:00:03.968216Z",
     "iopub.status.idle": "2021-08-09T03:00:04.556143Z",
     "shell.execute_reply": "2021-08-09T03:00:04.555392Z"
    },
    "papermill": {
     "duration": 0.606699,
     "end_time": "2021-08-09T03:00:04.556338",
     "exception": false,
     "start_time": "2021-08-09T03:00:03.949639",
     "status": "completed"
    },
    "tags": []
   },
   "outputs": [],
   "source": [
    "import pandas as pd\n",
    "import sqlite3"
   ]
  },
  {
   "cell_type": "code",
   "execution_count": 2,
   "id": "innovative-syndrome",
   "metadata": {
    "execution": {
     "iopub.execute_input": "2021-08-09T03:00:04.586871Z",
     "iopub.status.busy": "2021-08-09T03:00:04.585567Z",
     "iopub.status.idle": "2021-08-09T03:00:04.788325Z",
     "shell.execute_reply": "2021-08-09T03:00:04.787712Z"
    },
    "papermill": {
     "duration": 0.221133,
     "end_time": "2021-08-09T03:00:04.788487",
     "exception": false,
     "start_time": "2021-08-09T03:00:04.567354",
     "status": "completed"
    },
    "tags": []
   },
   "outputs": [],
   "source": [
    "timestamps = pd.read_sql(\"select distinct record_time from EBAY_TOP_BERLIN order by record_time desc limit 2\", sqlite3.connect(\"UsedObjects.db\"))"
   ]
  },
  {
   "cell_type": "code",
   "execution_count": 3,
   "id": "periodic-identification",
   "metadata": {
    "execution": {
     "iopub.execute_input": "2021-08-09T03:00:04.822621Z",
     "iopub.status.busy": "2021-08-09T03:00:04.820290Z",
     "iopub.status.idle": "2021-08-09T03:00:04.835309Z",
     "shell.execute_reply": "2021-08-09T03:00:04.835843Z"
    },
    "papermill": {
     "duration": 0.038043,
     "end_time": "2021-08-09T03:00:04.836023",
     "exception": false,
     "start_time": "2021-08-09T03:00:04.797980",
     "status": "completed"
    },
    "tags": []
   },
   "outputs": [
    {
     "data": {
      "text/html": [
       "<div>\n",
       "<style scoped>\n",
       "    .dataframe tbody tr th:only-of-type {\n",
       "        vertical-align: middle;\n",
       "    }\n",
       "\n",
       "    .dataframe tbody tr th {\n",
       "        vertical-align: top;\n",
       "    }\n",
       "\n",
       "    .dataframe thead th {\n",
       "        text-align: right;\n",
       "    }\n",
       "</style>\n",
       "<table border=\"1\" class=\"dataframe\">\n",
       "  <thead>\n",
       "    <tr style=\"text-align: right;\">\n",
       "      <th></th>\n",
       "      <th>RECORD_TIME</th>\n",
       "    </tr>\n",
       "  </thead>\n",
       "  <tbody>\n",
       "    <tr>\n",
       "      <th>0</th>\n",
       "      <td>2021-08-09 05:00</td>\n",
       "    </tr>\n",
       "    <tr>\n",
       "      <th>1</th>\n",
       "      <td>2021-08-09 04:30</td>\n",
       "    </tr>\n",
       "  </tbody>\n",
       "</table>\n",
       "</div>"
      ],
      "text/plain": [
       "        RECORD_TIME\n",
       "0  2021-08-09 05:00\n",
       "1  2021-08-09 04:30"
      ]
     },
     "execution_count": 3,
     "metadata": {},
     "output_type": "execute_result"
    }
   ],
   "source": [
    "timestamps"
   ]
  },
  {
   "cell_type": "code",
   "execution_count": 4,
   "id": "alternate-victory",
   "metadata": {
    "execution": {
     "iopub.execute_input": "2021-08-09T03:00:04.862553Z",
     "iopub.status.busy": "2021-08-09T03:00:04.861794Z",
     "iopub.status.idle": "2021-08-09T03:00:04.870011Z",
     "shell.execute_reply": "2021-08-09T03:00:04.871146Z"
    },
    "papermill": {
     "duration": 0.024328,
     "end_time": "2021-08-09T03:00:04.871449",
     "exception": false,
     "start_time": "2021-08-09T03:00:04.847121",
     "status": "completed"
    },
    "tags": []
   },
   "outputs": [],
   "source": [
    "df = pd.read_sql(\"select * from EBAY_TOP_BERLIN where record_time in (select distinct record_time from EBAY_TOP_BERLIN order by record_time desc limit 2)\", sqlite3.connect(\"UsedObjects.db\"))"
   ]
  },
  {
   "cell_type": "code",
   "execution_count": 5,
   "id": "popular-active",
   "metadata": {
    "execution": {
     "iopub.execute_input": "2021-08-09T03:00:04.899496Z",
     "iopub.status.busy": "2021-08-09T03:00:04.898643Z",
     "iopub.status.idle": "2021-08-09T03:00:04.915105Z",
     "shell.execute_reply": "2021-08-09T03:00:04.915639Z"
    },
    "papermill": {
     "duration": 0.032434,
     "end_time": "2021-08-09T03:00:04.915821",
     "exception": false,
     "start_time": "2021-08-09T03:00:04.883387",
     "status": "completed"
    },
    "tags": []
   },
   "outputs": [],
   "source": [
    "df_pivot = df.pivot_table(index=\"PRODUCT\", columns = \"RECORD_TIME\", values = \"LISTING_COUNT\")"
   ]
  },
  {
   "cell_type": "code",
   "execution_count": 6,
   "id": "union-huntington",
   "metadata": {
    "execution": {
     "iopub.execute_input": "2021-08-09T03:00:04.945701Z",
     "iopub.status.busy": "2021-08-09T03:00:04.945005Z",
     "iopub.status.idle": "2021-08-09T03:00:04.949574Z",
     "shell.execute_reply": "2021-08-09T03:00:04.950104Z"
    },
    "papermill": {
     "duration": 0.02446,
     "end_time": "2021-08-09T03:00:04.950288",
     "exception": false,
     "start_time": "2021-08-09T03:00:04.925828",
     "status": "completed"
    },
    "tags": []
   },
   "outputs": [],
   "source": [
    "df_pivot.columns = [\"stamp_1\", \"stamp_2\"]\n",
    "df_pivot_diff = df_pivot.diff(axis=1)"
   ]
  },
  {
   "cell_type": "code",
   "execution_count": 7,
   "id": "fifth-motion",
   "metadata": {
    "execution": {
     "iopub.execute_input": "2021-08-09T03:00:04.980022Z",
     "iopub.status.busy": "2021-08-09T03:00:04.979264Z",
     "iopub.status.idle": "2021-08-09T03:00:05.658299Z",
     "shell.execute_reply": "2021-08-09T03:00:05.659319Z"
    },
    "papermill": {
     "duration": 0.701168,
     "end_time": "2021-08-09T03:00:05.659645",
     "exception": false,
     "start_time": "2021-08-09T03:00:04.958477",
     "status": "completed"
    },
    "tags": []
   },
   "outputs": [
    {
     "data": {
      "text/plain": [
       "<AxesSubplot:ylabel='PRODUCT'>"
      ]
     },
     "execution_count": 7,
     "metadata": {},
     "output_type": "execute_result"
    },
    {
     "data": {
      "image/png": "[encoded data removed]",
      "text/plain": [
       "<Figure size 432x288 with 1 Axes>"
      ]
     },
     "metadata": {
      "needs_background": "light"
     },
     "output_type": "display_data"
    }
   ],
   "source": [
    "df_pivot_diff.sort_values(\"stamp_2\", ascending = False)[\"stamp_2\"].head(10).plot.barh()"
   ]
  },
  {
   "cell_type": "code",
   "execution_count": null,
   "id": "extra-executive",
   "metadata": {
    "papermill": {
     "duration": 0.012999,
     "end_time": "2021-08-09T03:00:05.684391",
     "exception": false,
     "start_time": "2021-08-09T03:00:05.671392",
     "status": "completed"
    },
    "tags": []
   },
   "outputs": [],
   "source": []
  }
 ],
 "metadata": {
  "kernelspec": {
   "display_name": "Python 3",
   "language": "python",
   "name": "python3"
  },
  "language_info": {
   "codemirror_mode": {
    "name": "ipython",
    "version": 3
   },
   "file_extension": ".py",
   "mimetype": "text/x-python",
   "name": "python",
   "nbconvert_exporter": "python",
   "pygments_lexer": "ipython3",
   "version": "3.8.8"
  },
  "papermill": {
   "default_parameters": {},
   "duration": 4.186699,
   "end_time": "2021-08-09T03:00:06.414030",
   "environment_variables": {},
   "exception": null,
   "input_path": "/Users/saravananshanmugam/Carbonleakage_Git/UsedObjects/eBay_Overview.ipynb",
   "output_path": "/Users/saravananshanmugam/Carbonleakage_Git/UsedObjects/eBay_Overview.ipynb",
   "parameters": {},
   "start_time": "2021-08-09T03:00:02.227331",
   "version": "2.3.3"
  }
 },
 "nbformat": 4,
 "nbformat_minor": 5
}