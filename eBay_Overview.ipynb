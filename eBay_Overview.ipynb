{
 "cells": [
  {
   "cell_type": "code",
   "execution_count": 1,
   "id": "reverse-picking",
   "metadata": {
    "execution": {
     "iopub.execute_input": "2021-10-13T18:30:07.338290Z",
     "iopub.status.busy": "2021-10-13T18:30:07.336298Z",
     "iopub.status.idle": "2021-10-13T18:30:08.134478Z",
     "shell.execute_reply": "2021-10-13T18:30:08.135704Z"
    },
    "papermill": {
     "duration": 0.850055,
     "end_time": "2021-10-13T18:30:08.136314",
     "exception": false,
     "start_time": "2021-10-13T18:30:07.286259",
     "status": "completed"
    },
    "tags": []
   },
   "outputs": [],
   "source": [
    "import pandas as pd\n",
    "import sqlite3"
   ]
  },
  {
   "cell_type": "code",
   "execution_count": 2,
   "id": "innovative-syndrome",
   "metadata": {
    "execution": {
     "iopub.execute_input": "2021-10-13T18:30:08.189509Z",
     "iopub.status.busy": "2021-10-13T18:30:08.186978Z",
     "iopub.status.idle": "2021-10-13T18:30:08.714355Z",
     "shell.execute_reply": "2021-10-13T18:30:08.715685Z"
    },
    "papermill": {
     "duration": 0.557407,
     "end_time": "2021-10-13T18:30:08.716122",
     "exception": false,
     "start_time": "2021-10-13T18:30:08.158715",
     "status": "completed"
    },
    "tags": []
   },
   "outputs": [],
   "source": [
    "timestamps = pd.read_sql(\"select distinct record_time from EBAY_TOP_BERLIN order by record_time desc limit 2\", sqlite3.connect(\"UsedObjects.db\"))"
   ]
  },
  {
   "cell_type": "code",
   "execution_count": 3,
   "id": "periodic-identification",
   "metadata": {
    "execution": {
     "iopub.execute_input": "2021-10-13T18:30:08.782869Z",
     "iopub.status.busy": "2021-10-13T18:30:08.780873Z",
     "iopub.status.idle": "2021-10-13T18:30:08.800015Z",
     "shell.execute_reply": "2021-10-13T18:30:08.801471Z"
    },
    "papermill": {
     "duration": 0.066199,
     "end_time": "2021-10-13T18:30:08.801916",
     "exception": false,
     "start_time": "2021-10-13T18:30:08.735717",
     "status": "completed"
    },
    "tags": []
   },
   "outputs": [
    {
     "data": {
      "text/html": [
       "<div>\n",
       "<style scoped>\n",
       "    .dataframe tbody tr th:only-of-type {\n",
       "        vertical-align: middle;\n",
       "    }\n",
       "\n",
       "    .dataframe tbody tr th {\n",
       "        vertical-align: top;\n",
       "    }\n",
       "\n",
       "    .dataframe thead th {\n",
       "        text-align: right;\n",
       "    }\n",
       "</style>\n",
       "<table border=\"1\" class=\"dataframe\">\n",
       "  <thead>\n",
       "    <tr style=\"text-align: right;\">\n",
       "      <th></th>\n",
       "      <th>RECORD_TIME</th>\n",
       "    </tr>\n",
       "  </thead>\n",
       "  <tbody>\n",
       "    <tr>\n",
       "      <th>0</th>\n",
       "      <td>2021-10-13 20:30</td>\n",
       "    </tr>\n",
       "    <tr>\n",
       "      <th>1</th>\n",
       "      <td>2021-10-13 20:00</td>\n",
       "    </tr>\n",
       "  </tbody>\n",
       "</table>\n",
       "</div>"
      ],
      "text/plain": [
       "        RECORD_TIME\n",
       "0  2021-10-13 20:30\n",
       "1  2021-10-13 20:00"
      ]
     },
     "execution_count": 3,
     "metadata": {},
     "output_type": "execute_result"
    }
   ],
   "source": [
    "timestamps"
   ]
  },
  {
   "cell_type": "code",
   "execution_count": 4,
   "id": "alternate-victory",
   "metadata": {
    "execution": {
     "iopub.execute_input": "2021-10-13T18:30:08.862874Z",
     "iopub.status.busy": "2021-10-13T18:30:08.861033Z",
     "iopub.status.idle": "2021-10-13T18:30:09.629351Z",
     "shell.execute_reply": "2021-10-13T18:30:09.630491Z"
    },
    "papermill": {
     "duration": 0.803258,
     "end_time": "2021-10-13T18:30:09.630896",
     "exception": false,
     "start_time": "2021-10-13T18:30:08.827638",
     "status": "completed"
    },
    "tags": []
   },
   "outputs": [],
   "source": [
    "df = pd.read_sql(\"select * from EBAY_TOP_BERLIN where record_time in (select distinct record_time from EBAY_TOP_BERLIN order by record_time desc limit 2)\", sqlite3.connect(\"UsedObjects.db\"))"
   ]
  },
  {
   "cell_type": "code",
   "execution_count": 5,
   "id": "popular-active",
   "metadata": {
    "execution": {
     "iopub.execute_input": "2021-10-13T18:30:09.705385Z",
     "iopub.status.busy": "2021-10-13T18:30:09.692630Z",
     "iopub.status.idle": "2021-10-13T18:30:09.721485Z",
     "shell.execute_reply": "2021-10-13T18:30:09.722678Z"
    },
    "papermill": {
     "duration": 0.068963,
     "end_time": "2021-10-13T18:30:09.723103",
     "exception": false,
     "start_time": "2021-10-13T18:30:09.654140",
     "status": "completed"
    },
    "tags": []
   },
   "outputs": [],
   "source": [
    "df_pivot = df.pivot_table(index=\"PRODUCT\", columns = \"RECORD_TIME\", values = \"LISTING_COUNT\")"
   ]
  },
  {
   "cell_type": "code",
   "execution_count": 6,
   "id": "union-huntington",
   "metadata": {
    "execution": {
     "iopub.execute_input": "2021-10-13T18:30:09.783163Z",
     "iopub.status.busy": "2021-10-13T18:30:09.780747Z",
     "iopub.status.idle": "2021-10-13T18:30:09.786577Z",
     "shell.execute_reply": "2021-10-13T18:30:09.787837Z"
    },
    "papermill": {
     "duration": 0.041781,
     "end_time": "2021-10-13T18:30:09.788243",
     "exception": false,
     "start_time": "2021-10-13T18:30:09.746462",
     "status": "completed"
    },
    "tags": []
   },
   "outputs": [],
   "source": [
    "df_pivot.columns = [\"stamp_1\", \"stamp_2\"]\n",
    "df_pivot_diff = df_pivot.diff(axis=1)"
   ]
  },
  {
   "cell_type": "code",
   "execution_count": 7,
   "id": "fifth-motion",
   "metadata": {
    "execution": {
     "iopub.execute_input": "2021-10-13T18:30:09.842287Z",
     "iopub.status.busy": "2021-10-13T18:30:09.839765Z",
     "iopub.status.idle": "2021-10-13T18:30:11.342349Z",
     "shell.execute_reply": "2021-10-13T18:30:11.343614Z"
    },
    "papermill": {
     "duration": 1.535877,
     "end_time": "2021-10-13T18:30:11.344024",
     "exception": false,
     "start_time": "2021-10-13T18:30:09.808147",
     "status": "completed"
    },
    "tags": []
   },
   "outputs": [
    {
     "data": {
      "text/plain": [
       "<AxesSubplot:ylabel='PRODUCT'>"
      ]
     },
     "execution_count": 7,
     "metadata": {},
     "output_type": "execute_result"
    },
    {
     "data": {
      "image/png": "[encoded data removed]",
      "text/plain": [
       "<Figure size 432x288 with 1 Axes>"
      ]
     },
     "metadata": {
      "needs_background": "light"
     },
     "output_type": "display_data"
    }
   ],
   "source": [
    "df_pivot_diff.sort_values(\"stamp_2\", ascending = False)[\"stamp_2\"].head(10).plot.barh()"
   ]
  },
  {
   "cell_type": "code",
   "execution_count": null,
   "id": "extra-executive",
   "metadata": {
    "papermill": {
     "duration": 0.022103,
     "end_time": "2021-10-13T18:30:11.390687",
     "exception": false,
     "start_time": "2021-10-13T18:30:11.368584",
     "status": "completed"
    },
    "tags": []
   },
   "outputs": [],
   "source": []
  }
 ],
 "metadata": {
  "kernelspec": {
   "display_name": "Python 3",
   "language": "python",
   "name": "python3"
  },
  "language_info": {
   "codemirror_mode": {
    "name": "ipython",
    "version": 3
   },
   "file_extension": ".py",
   "mimetype": "text/x-python",
   "name": "python",
   "nbconvert_exporter": "python",
   "pygments_lexer": "ipython3",
   "version": "3.9.5"
  },
  "papermill": {
   "default_parameters": {},
   "duration": 7.814462,
   "end_time": "2021-10-13T18:30:12.716071",
   "environment_variables": {},
   "exception": null,
   "input_path": "eBay_Overview.ipynb",
   "output_path": "eBay_Overview.ipynb",
   "parameters": {},
   "start_time": "2021-10-13T18:30:04.901609",
   "version": "2.3.3"
  }
 },
 "nbformat": 4,
 "nbformat_minor": 5
}