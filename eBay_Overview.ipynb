{
 "cells": [
  {
   "cell_type": "code",
   "execution_count": 1,
   "id": "reverse-picking",
   "metadata": {
    "execution": {
     "iopub.execute_input": "2021-08-11T19:30:03.876519Z",
     "iopub.status.busy": "2021-08-11T19:30:03.875756Z",
     "iopub.status.idle": "2021-08-11T19:30:04.467907Z",
     "shell.execute_reply": "2021-08-11T19:30:04.466680Z"
    },
    "papermill": {
     "duration": 0.609973,
     "end_time": "2021-08-11T19:30:04.468230",
     "exception": false,
     "start_time": "2021-08-11T19:30:03.858257",
     "status": "completed"
    },
    "tags": []
   },
   "outputs": [],
   "source": [
    "import pandas as pd\n",
    "import sqlite3"
   ]
  },
  {
   "cell_type": "code",
   "execution_count": 2,
   "id": "innovative-syndrome",
   "metadata": {
    "execution": {
     "iopub.execute_input": "2021-08-11T19:30:04.496858Z",
     "iopub.status.busy": "2021-08-11T19:30:04.495928Z",
     "iopub.status.idle": "2021-08-11T19:30:04.699040Z",
     "shell.execute_reply": "2021-08-11T19:30:04.699583Z"
    },
    "papermill": {
     "duration": 0.221031,
     "end_time": "2021-08-11T19:30:04.699767",
     "exception": false,
     "start_time": "2021-08-11T19:30:04.478736",
     "status": "completed"
    },
    "tags": []
   },
   "outputs": [],
   "source": [
    "timestamps = pd.read_sql(\"select distinct record_time from EBAY_TOP_BERLIN order by record_time desc limit 2\", sqlite3.connect(\"UsedObjects.db\"))"
   ]
  },
  {
   "cell_type": "code",
   "execution_count": 3,
   "id": "periodic-identification",
   "metadata": {
    "execution": {
     "iopub.execute_input": "2021-08-11T19:30:04.727363Z",
     "iopub.status.busy": "2021-08-11T19:30:04.726573Z",
     "iopub.status.idle": "2021-08-11T19:30:04.744984Z",
     "shell.execute_reply": "2021-08-11T19:30:04.743961Z"
    },
    "papermill": {
     "duration": 0.037156,
     "end_time": "2021-08-11T19:30:04.745250",
     "exception": false,
     "start_time": "2021-08-11T19:30:04.708094",
     "status": "completed"
    },
    "tags": []
   },
   "outputs": [
    {
     "data": {
      "text/html": [
       "<div>\n",
       "<style scoped>\n",
       "    .dataframe tbody tr th:only-of-type {\n",
       "        vertical-align: middle;\n",
       "    }\n",
       "\n",
       "    .dataframe tbody tr th {\n",
       "        vertical-align: top;\n",
       "    }\n",
       "\n",
       "    .dataframe thead th {\n",
       "        text-align: right;\n",
       "    }\n",
       "</style>\n",
       "<table border=\"1\" class=\"dataframe\">\n",
       "  <thead>\n",
       "    <tr style=\"text-align: right;\">\n",
       "      <th></th>\n",
       "      <th>RECORD_TIME</th>\n",
       "    </tr>\n",
       "  </thead>\n",
       "  <tbody>\n",
       "    <tr>\n",
       "      <th>0</th>\n",
       "      <td>2021-08-11 21:30</td>\n",
       "    </tr>\n",
       "    <tr>\n",
       "      <th>1</th>\n",
       "      <td>2021-08-11 21:00</td>\n",
       "    </tr>\n",
       "  </tbody>\n",
       "</table>\n",
       "</div>"
      ],
      "text/plain": [
       "        RECORD_TIME\n",
       "0  2021-08-11 21:30\n",
       "1  2021-08-11 21:00"
      ]
     },
     "execution_count": 3,
     "metadata": {},
     "output_type": "execute_result"
    }
   ],
   "source": [
    "timestamps"
   ]
  },
  {
   "cell_type": "code",
   "execution_count": 4,
   "id": "alternate-victory",
   "metadata": {
    "execution": {
     "iopub.execute_input": "2021-08-11T19:30:04.769209Z",
     "iopub.status.busy": "2021-08-11T19:30:04.768447Z",
     "iopub.status.idle": "2021-08-11T19:30:04.792860Z",
     "shell.execute_reply": "2021-08-11T19:30:04.793388Z"
    },
    "papermill": {
     "duration": 0.037423,
     "end_time": "2021-08-11T19:30:04.793571",
     "exception": false,
     "start_time": "2021-08-11T19:30:04.756148",
     "status": "completed"
    },
    "tags": []
   },
   "outputs": [],
   "source": [
    "df = pd.read_sql(\"select * from EBAY_TOP_BERLIN where record_time in (select distinct record_time from EBAY_TOP_BERLIN order by record_time desc limit 2)\", sqlite3.connect(\"UsedObjects.db\"))"
   ]
  },
  {
   "cell_type": "code",
   "execution_count": 5,
   "id": "popular-active",
   "metadata": {
    "execution": {
     "iopub.execute_input": "2021-08-11T19:30:04.822171Z",
     "iopub.status.busy": "2021-08-11T19:30:04.821393Z",
     "iopub.status.idle": "2021-08-11T19:30:04.840340Z",
     "shell.execute_reply": "2021-08-11T19:30:04.839611Z"
    },
    "papermill": {
     "duration": 0.038622,
     "end_time": "2021-08-11T19:30:04.840501",
     "exception": false,
     "start_time": "2021-08-11T19:30:04.801879",
     "status": "completed"
    },
    "tags": []
   },
   "outputs": [],
   "source": [
    "df_pivot = df.pivot_table(index=\"PRODUCT\", columns = \"RECORD_TIME\", values = \"LISTING_COUNT\")"
   ]
  },
  {
   "cell_type": "code",
   "execution_count": 6,
   "id": "union-huntington",
   "metadata": {
    "execution": {
     "iopub.execute_input": "2021-08-11T19:30:04.869945Z",
     "iopub.status.busy": "2021-08-11T19:30:04.869207Z",
     "iopub.status.idle": "2021-08-11T19:30:04.871894Z",
     "shell.execute_reply": "2021-08-11T19:30:04.872419Z"
    },
    "papermill": {
     "duration": 0.018838,
     "end_time": "2021-08-11T19:30:04.872597",
     "exception": false,
     "start_time": "2021-08-11T19:30:04.853759",
     "status": "completed"
    },
    "tags": []
   },
   "outputs": [],
   "source": [
    "df_pivot.columns = [\"stamp_1\", \"stamp_2\"]\n",
    "df_pivot_diff = df_pivot.diff(axis=1)"
   ]
  },
  {
   "cell_type": "code",
   "execution_count": 7,
   "id": "fifth-motion",
   "metadata": {
    "execution": {
     "iopub.execute_input": "2021-08-11T19:30:04.902425Z",
     "iopub.status.busy": "2021-08-11T19:30:04.901525Z",
     "iopub.status.idle": "2021-08-11T19:30:05.698479Z",
     "shell.execute_reply": "2021-08-11T19:30:05.699009Z"
    },
    "papermill": {
     "duration": 0.816924,
     "end_time": "2021-08-11T19:30:05.699190",
     "exception": false,
     "start_time": "2021-08-11T19:30:04.882266",
     "status": "completed"
    },
    "tags": []
   },
   "outputs": [
    {
     "data": {
      "text/plain": [
       "<AxesSubplot:ylabel='PRODUCT'>"
      ]
     },
     "execution_count": 7,
     "metadata": {},
     "output_type": "execute_result"
    },
    {
     "data": {
      "image/png": "[encoded data removed]",
      "text/plain": [
       "<Figure size 432x288 with 1 Axes>"
      ]
     },
     "metadata": {
      "needs_background": "light"
     },
     "output_type": "display_data"
    }
   ],
   "source": [
    "df_pivot_diff.sort_values(\"stamp_2\", ascending = False)[\"stamp_2\"].head(10).plot.barh()"
   ]
  },
  {
   "cell_type": "code",
   "execution_count": null,
   "id": "extra-executive",
   "metadata": {
    "papermill": {
     "duration": 0.009751,
     "end_time": "2021-08-11T19:30:05.718733",
     "exception": false,
     "start_time": "2021-08-11T19:30:05.708982",
     "status": "completed"
    },
    "tags": []
   },
   "outputs": [],
   "source": []
  }
 ],
 "metadata": {
  "kernelspec": {
   "display_name": "Python 3",
   "language": "python",
   "name": "python3"
  },
  "language_info": {
   "codemirror_mode": {
    "name": "ipython",
    "version": 3
   },
   "file_extension": ".py",
   "mimetype": "text/x-python",
   "name": "python",
   "nbconvert_exporter": "python",
   "pygments_lexer": "ipython3",
   "version": "3.8.8"
  },
  "papermill": {
   "default_parameters": {},
   "duration": 4.144901,
   "end_time": "2021-08-11T19:30:06.334700",
   "environment_variables": {},
   "exception": null,
   "input_path": "/Users/saravananshanmugam/Carbonleakage_Git/UsedObjects/eBay_Overview.ipynb",
   "output_path": "/Users/saravananshanmugam/Carbonleakage_Git/UsedObjects/eBay_Overview.ipynb",
   "parameters": {},
   "start_time": "2021-08-11T19:30:02.189799",
   "version": "2.3.3"
  }
 },
 "nbformat": 4,
 "nbformat_minor": 5
}