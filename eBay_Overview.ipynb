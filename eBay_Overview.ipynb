{
 "cells": [
  {
   "cell_type": "code",
   "execution_count": 1,
   "id": "reverse-picking",
   "metadata": {
    "execution": {
     "iopub.execute_input": "2021-11-05T12:00:07.942432Z",
     "iopub.status.busy": "2021-11-05T12:00:07.939930Z",
     "iopub.status.idle": "2021-11-05T12:00:08.890807Z",
     "shell.execute_reply": "2021-11-05T12:00:08.892442Z"
    },
    "papermill": {
     "duration": 0.999999,
     "end_time": "2021-11-05T12:00:08.893242",
     "exception": false,
     "start_time": "2021-11-05T12:00:07.893243",
     "status": "completed"
    },
    "tags": []
   },
   "outputs": [],
   "source": [
    "import pandas as pd\n",
    "import sqlite3"
   ]
  },
  {
   "cell_type": "code",
   "execution_count": 2,
   "id": "innovative-syndrome",
   "metadata": {
    "execution": {
     "iopub.execute_input": "2021-11-05T12:00:08.957130Z",
     "iopub.status.busy": "2021-11-05T12:00:08.954642Z",
     "iopub.status.idle": "2021-11-05T12:00:09.678068Z",
     "shell.execute_reply": "2021-11-05T12:00:09.679435Z"
    },
    "papermill": {
     "duration": 0.759132,
     "end_time": "2021-11-05T12:00:09.679950",
     "exception": false,
     "start_time": "2021-11-05T12:00:08.920818",
     "status": "completed"
    },
    "tags": []
   },
   "outputs": [],
   "source": [
    "timestamps = pd.read_sql(\"select distinct record_time from EBAY_TOP_BERLIN order by record_time desc limit 2\", sqlite3.connect(\"UsedObjects.db\"))"
   ]
  },
  {
   "cell_type": "code",
   "execution_count": 3,
   "id": "periodic-identification",
   "metadata": {
    "execution": {
     "iopub.execute_input": "2021-11-05T12:00:09.756184Z",
     "iopub.status.busy": "2021-11-05T12:00:09.750011Z",
     "iopub.status.idle": "2021-11-05T12:00:09.772908Z",
     "shell.execute_reply": "2021-11-05T12:00:09.774497Z"
    },
    "papermill": {
     "duration": 0.074176,
     "end_time": "2021-11-05T12:00:09.775020",
     "exception": false,
     "start_time": "2021-11-05T12:00:09.700844",
     "status": "completed"
    },
    "tags": []
   },
   "outputs": [
    {
     "data": {
      "text/html": [
       "<div>\n",
       "<style scoped>\n",
       "    .dataframe tbody tr th:only-of-type {\n",
       "        vertical-align: middle;\n",
       "    }\n",
       "\n",
       "    .dataframe tbody tr th {\n",
       "        vertical-align: top;\n",
       "    }\n",
       "\n",
       "    .dataframe thead th {\n",
       "        text-align: right;\n",
       "    }\n",
       "</style>\n",
       "<table border=\"1\" class=\"dataframe\">\n",
       "  <thead>\n",
       "    <tr style=\"text-align: right;\">\n",
       "      <th></th>\n",
       "      <th>RECORD_TIME</th>\n",
       "    </tr>\n",
       "  </thead>\n",
       "  <tbody>\n",
       "    <tr>\n",
       "      <th>0</th>\n",
       "      <td>2021-11-05 13:00</td>\n",
       "    </tr>\n",
       "    <tr>\n",
       "      <th>1</th>\n",
       "      <td>2021-11-05 12:30</td>\n",
       "    </tr>\n",
       "  </tbody>\n",
       "</table>\n",
       "</div>"
      ],
      "text/plain": [
       "        RECORD_TIME\n",
       "0  2021-11-05 13:00\n",
       "1  2021-11-05 12:30"
      ]
     },
     "execution_count": 3,
     "metadata": {},
     "output_type": "execute_result"
    }
   ],
   "source": [
    "timestamps"
   ]
  },
  {
   "cell_type": "code",
   "execution_count": 4,
   "id": "alternate-victory",
   "metadata": {
    "execution": {
     "iopub.execute_input": "2021-11-05T12:00:09.832301Z",
     "iopub.status.busy": "2021-11-05T12:00:09.830091Z",
     "iopub.status.idle": "2021-11-05T12:00:10.885212Z",
     "shell.execute_reply": "2021-11-05T12:00:10.887862Z"
    },
    "papermill": {
     "duration": 1.091346,
     "end_time": "2021-11-05T12:00:10.888393",
     "exception": false,
     "start_time": "2021-11-05T12:00:09.797047",
     "status": "completed"
    },
    "tags": []
   },
   "outputs": [],
   "source": [
    "df = pd.read_sql(\"select * from EBAY_TOP_BERLIN where record_time in (select distinct record_time from EBAY_TOP_BERLIN order by record_time desc limit 2)\", sqlite3.connect(\"UsedObjects.db\"))"
   ]
  },
  {
   "cell_type": "code",
   "execution_count": 5,
   "id": "popular-active",
   "metadata": {
    "execution": {
     "iopub.execute_input": "2021-11-05T12:00:10.981627Z",
     "iopub.status.busy": "2021-11-05T12:00:10.973856Z",
     "iopub.status.idle": "2021-11-05T12:00:11.000013Z",
     "shell.execute_reply": "2021-11-05T12:00:11.001686Z"
    },
    "papermill": {
     "duration": 0.079718,
     "end_time": "2021-11-05T12:00:11.002175",
     "exception": false,
     "start_time": "2021-11-05T12:00:10.922457",
     "status": "completed"
    },
    "tags": []
   },
   "outputs": [],
   "source": [
    "df_pivot = df.pivot_table(index=\"PRODUCT\", columns = \"RECORD_TIME\", values = \"LISTING_COUNT\")"
   ]
  },
  {
   "cell_type": "code",
   "execution_count": 6,
   "id": "union-huntington",
   "metadata": {
    "execution": {
     "iopub.execute_input": "2021-11-05T12:00:11.065140Z",
     "iopub.status.busy": "2021-11-05T12:00:11.062793Z",
     "iopub.status.idle": "2021-11-05T12:00:11.068412Z",
     "shell.execute_reply": "2021-11-05T12:00:11.069992Z"
    },
    "papermill": {
     "duration": 0.04659,
     "end_time": "2021-11-05T12:00:11.070525",
     "exception": false,
     "start_time": "2021-11-05T12:00:11.023935",
     "status": "completed"
    },
    "tags": []
   },
   "outputs": [],
   "source": [
    "df_pivot.columns = [\"stamp_1\", \"stamp_2\"]\n",
    "df_pivot_diff = df_pivot.diff(axis=1)"
   ]
  },
  {
   "cell_type": "code",
   "execution_count": 7,
   "id": "fifth-motion",
   "metadata": {
    "execution": {
     "iopub.execute_input": "2021-11-05T12:00:11.131325Z",
     "iopub.status.busy": "2021-11-05T12:00:11.128837Z",
     "iopub.status.idle": "2021-11-05T12:00:12.911748Z",
     "shell.execute_reply": "2021-11-05T12:00:12.913099Z"
    },
    "papermill": {
     "duration": 1.819337,
     "end_time": "2021-11-05T12:00:12.913565",
     "exception": false,
     "start_time": "2021-11-05T12:00:11.094228",
     "status": "completed"
    },
    "tags": []
   },
   "outputs": [
    {
     "data": {
      "text/plain": [
       "<AxesSubplot:ylabel='PRODUCT'>"
      ]
     },
     "execution_count": 7,
     "metadata": {},
     "output_type": "execute_result"
    },
    {
     "data": {
      "image/png": "[encoded data removed]",
      "text/plain": [
       "<Figure size 432x288 with 1 Axes>"
      ]
     },
     "metadata": {
      "needs_background": "light"
     },
     "output_type": "display_data"
    }
   ],
   "source": [
    "df_pivot_diff.sort_values(\"stamp_2\", ascending = False)[\"stamp_2\"].head(10).plot.barh()"
   ]
  },
  {
   "cell_type": "code",
   "execution_count": null,
   "id": "extra-executive",
   "metadata": {
    "papermill": {
     "duration": 0.023483,
     "end_time": "2021-11-05T12:00:12.962184",
     "exception": false,
     "start_time": "2021-11-05T12:00:12.938701",
     "status": "completed"
    },
    "tags": []
   },
   "outputs": [],
   "source": []
  }
 ],
 "metadata": {
  "kernelspec": {
   "display_name": "Python 3",
   "language": "python",
   "name": "python3"
  },
  "language_info": {
   "codemirror_mode": {
    "name": "ipython",
    "version": 3
   },
   "file_extension": ".py",
   "mimetype": "text/x-python",
   "name": "python",
   "nbconvert_exporter": "python",
   "pygments_lexer": "ipython3",
   "version": "3.9.5"
  },
  "papermill": {
   "default_parameters": {},
   "duration": 8.761311,
   "end_time": "2021-11-05T12:00:13.821609",
   "environment_variables": {},
   "exception": null,
   "input_path": "eBay_Overview.ipynb",
   "output_path": "eBay_Overview.ipynb",
   "parameters": {},
   "start_time": "2021-11-05T12:00:05.060298",
   "version": "2.3.3"
  }
 },
 "nbformat": 4,
 "nbformat_minor": 5
}