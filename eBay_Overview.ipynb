{
 "cells": [
  {
   "cell_type": "code",
   "execution_count": 1,
   "id": "reverse-picking",
   "metadata": {
    "execution": {
     "iopub.execute_input": "2021-08-22T00:00:07.144179Z",
     "iopub.status.busy": "2021-08-22T00:00:07.142279Z",
     "iopub.status.idle": "2021-08-22T00:00:07.952651Z",
     "shell.execute_reply": "2021-08-22T00:00:07.951063Z"
    },
    "papermill": {
     "duration": 0.861824,
     "end_time": "2021-08-22T00:00:07.953055",
     "exception": false,
     "start_time": "2021-08-22T00:00:07.091231",
     "status": "completed"
    },
    "tags": []
   },
   "outputs": [],
   "source": [
    "import pandas as pd\n",
    "import sqlite3"
   ]
  },
  {
   "cell_type": "code",
   "execution_count": 2,
   "id": "innovative-syndrome",
   "metadata": {
    "execution": {
     "iopub.execute_input": "2021-08-22T00:00:08.002756Z",
     "iopub.status.busy": "2021-08-22T00:00:08.000784Z",
     "iopub.status.idle": "2021-08-22T00:00:08.101207Z",
     "shell.execute_reply": "2021-08-22T00:00:08.102683Z"
    },
    "papermill": {
     "duration": 0.13005,
     "end_time": "2021-08-22T00:00:08.103109",
     "exception": false,
     "start_time": "2021-08-22T00:00:07.973059",
     "status": "completed"
    },
    "tags": []
   },
   "outputs": [],
   "source": [
    "timestamps = pd.read_sql(\"select distinct record_time from EBAY_TOP_BERLIN order by record_time desc limit 2\", sqlite3.connect(\"UsedObjects.db\"))"
   ]
  },
  {
   "cell_type": "code",
   "execution_count": 3,
   "id": "periodic-identification",
   "metadata": {
    "execution": {
     "iopub.execute_input": "2021-08-22T00:00:08.168605Z",
     "iopub.status.busy": "2021-08-22T00:00:08.166590Z",
     "iopub.status.idle": "2021-08-22T00:00:08.186566Z",
     "shell.execute_reply": "2021-08-22T00:00:08.187897Z"
    },
    "papermill": {
     "duration": 0.06612,
     "end_time": "2021-08-22T00:00:08.188314",
     "exception": false,
     "start_time": "2021-08-22T00:00:08.122194",
     "status": "completed"
    },
    "tags": []
   },
   "outputs": [
    {
     "data": {
      "text/html": [
       "<div>\n",
       "<style scoped>\n",
       "    .dataframe tbody tr th:only-of-type {\n",
       "        vertical-align: middle;\n",
       "    }\n",
       "\n",
       "    .dataframe tbody tr th {\n",
       "        vertical-align: top;\n",
       "    }\n",
       "\n",
       "    .dataframe thead th {\n",
       "        text-align: right;\n",
       "    }\n",
       "</style>\n",
       "<table border=\"1\" class=\"dataframe\">\n",
       "  <thead>\n",
       "    <tr style=\"text-align: right;\">\n",
       "      <th></th>\n",
       "      <th>RECORD_TIME</th>\n",
       "    </tr>\n",
       "  </thead>\n",
       "  <tbody>\n",
       "    <tr>\n",
       "      <th>0</th>\n",
       "      <td>2021-08-22 02:00</td>\n",
       "    </tr>\n",
       "    <tr>\n",
       "      <th>1</th>\n",
       "      <td>2021-08-22 01:30</td>\n",
       "    </tr>\n",
       "  </tbody>\n",
       "</table>\n",
       "</div>"
      ],
      "text/plain": [
       "        RECORD_TIME\n",
       "0  2021-08-22 02:00\n",
       "1  2021-08-22 01:30"
      ]
     },
     "execution_count": 3,
     "metadata": {},
     "output_type": "execute_result"
    }
   ],
   "source": [
    "timestamps"
   ]
  },
  {
   "cell_type": "code",
   "execution_count": 4,
   "id": "alternate-victory",
   "metadata": {
    "execution": {
     "iopub.execute_input": "2021-08-22T00:00:08.239990Z",
     "iopub.status.busy": "2021-08-22T00:00:08.237780Z",
     "iopub.status.idle": "2021-08-22T00:00:08.387027Z",
     "shell.execute_reply": "2021-08-22T00:00:08.388268Z"
    },
    "papermill": {
     "duration": 0.179049,
     "end_time": "2021-08-22T00:00:08.388670",
     "exception": false,
     "start_time": "2021-08-22T00:00:08.209621",
     "status": "completed"
    },
    "tags": []
   },
   "outputs": [],
   "source": [
    "df = pd.read_sql(\"select * from EBAY_TOP_BERLIN where record_time in (select distinct record_time from EBAY_TOP_BERLIN order by record_time desc limit 2)\", sqlite3.connect(\"UsedObjects.db\"))"
   ]
  },
  {
   "cell_type": "code",
   "execution_count": 5,
   "id": "popular-active",
   "metadata": {
    "execution": {
     "iopub.execute_input": "2021-08-22T00:00:08.459906Z",
     "iopub.status.busy": "2021-08-22T00:00:08.447648Z",
     "iopub.status.idle": "2021-08-22T00:00:08.476885Z",
     "shell.execute_reply": "2021-08-22T00:00:08.478142Z"
    },
    "papermill": {
     "duration": 0.068026,
     "end_time": "2021-08-22T00:00:08.478603",
     "exception": false,
     "start_time": "2021-08-22T00:00:08.410577",
     "status": "completed"
    },
    "tags": []
   },
   "outputs": [],
   "source": [
    "df_pivot = df.pivot_table(index=\"PRODUCT\", columns = \"RECORD_TIME\", values = \"LISTING_COUNT\")"
   ]
  },
  {
   "cell_type": "code",
   "execution_count": 6,
   "id": "union-huntington",
   "metadata": {
    "execution": {
     "iopub.execute_input": "2021-08-22T00:00:08.534962Z",
     "iopub.status.busy": "2021-08-22T00:00:08.532892Z",
     "iopub.status.idle": "2021-08-22T00:00:08.538421Z",
     "shell.execute_reply": "2021-08-22T00:00:08.539739Z"
    },
    "papermill": {
     "duration": 0.041427,
     "end_time": "2021-08-22T00:00:08.540161",
     "exception": false,
     "start_time": "2021-08-22T00:00:08.498734",
     "status": "completed"
    },
    "tags": []
   },
   "outputs": [],
   "source": [
    "df_pivot.columns = [\"stamp_1\", \"stamp_2\"]\n",
    "df_pivot_diff = df_pivot.diff(axis=1)"
   ]
  },
  {
   "cell_type": "code",
   "execution_count": 7,
   "id": "fifth-motion",
   "metadata": {
    "execution": {
     "iopub.execute_input": "2021-08-22T00:00:08.601031Z",
     "iopub.status.busy": "2021-08-22T00:00:08.598651Z",
     "iopub.status.idle": "2021-08-22T00:00:10.105296Z",
     "shell.execute_reply": "2021-08-22T00:00:10.106637Z"
    },
    "papermill": {
     "duration": 1.543054,
     "end_time": "2021-08-22T00:00:10.107057",
     "exception": false,
     "start_time": "2021-08-22T00:00:08.564003",
     "status": "completed"
    },
    "tags": []
   },
   "outputs": [
    {
     "data": {
      "text/plain": [
       "<AxesSubplot:ylabel='PRODUCT'>"
      ]
     },
     "execution_count": 7,
     "metadata": {},
     "output_type": "execute_result"
    },
    {
     "data": {
      "image/png": "[encoded data removed]",
      "text/plain": [
       "<Figure size 432x288 with 1 Axes>"
      ]
     },
     "metadata": {
      "needs_background": "light"
     },
     "output_type": "display_data"
    }
   ],
   "source": [
    "df_pivot_diff.sort_values(\"stamp_2\", ascending = False)[\"stamp_2\"].head(10).plot.barh()"
   ]
  },
  {
   "cell_type": "code",
   "execution_count": null,
   "id": "extra-executive",
   "metadata": {
    "papermill": {
     "duration": 0.022283,
     "end_time": "2021-08-22T00:00:10.154165",
     "exception": false,
     "start_time": "2021-08-22T00:00:10.131882",
     "status": "completed"
    },
    "tags": []
   },
   "outputs": [],
   "source": []
  }
 ],
 "metadata": {
  "kernelspec": {
   "display_name": "Python 3",
   "language": "python",
   "name": "python3"
  },
  "language_info": {
   "codemirror_mode": {
    "name": "ipython",
    "version": 3
   },
   "file_extension": ".py",
   "mimetype": "text/x-python",
   "name": "python",
   "nbconvert_exporter": "python",
   "pygments_lexer": "ipython3",
   "version": "3.9.5"
  },
  "papermill": {
   "default_parameters": {},
   "duration": 6.836227,
   "end_time": "2021-08-22T00:00:11.513602",
   "environment_variables": {},
   "exception": null,
   "input_path": "eBay_Overview.ipynb",
   "output_path": "eBay_Overview.ipynb",
   "parameters": {},
   "start_time": "2021-08-22T00:00:04.677375",
   "version": "2.3.3"
  }
 },
 "nbformat": 4,
 "nbformat_minor": 5
}