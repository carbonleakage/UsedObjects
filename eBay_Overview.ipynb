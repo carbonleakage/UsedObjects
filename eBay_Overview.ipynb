{
 "cells": [
  {
   "cell_type": "code",
   "execution_count": 1,
   "id": "reverse-picking",
   "metadata": {
    "execution": {
     "iopub.execute_input": "2021-11-17T09:00:08.092221Z",
     "iopub.status.busy": "2021-11-17T09:00:08.089964Z",
     "iopub.status.idle": "2021-11-17T09:00:09.040841Z",
     "shell.execute_reply": "2021-11-17T09:00:09.043105Z"
    },
    "papermill": {
     "duration": 1.001825,
     "end_time": "2021-11-17T09:00:09.043904",
     "exception": false,
     "start_time": "2021-11-17T09:00:08.042079",
     "status": "completed"
    },
    "tags": []
   },
   "outputs": [],
   "source": [
    "import pandas as pd\n",
    "import sqlite3"
   ]
  },
  {
   "cell_type": "code",
   "execution_count": 2,
   "id": "innovative-syndrome",
   "metadata": {
    "execution": {
     "iopub.execute_input": "2021-11-17T09:00:09.110745Z",
     "iopub.status.busy": "2021-11-17T09:00:09.108393Z",
     "iopub.status.idle": "2021-11-17T09:00:09.957398Z",
     "shell.execute_reply": "2021-11-17T09:00:09.958782Z"
    },
    "papermill": {
     "duration": 0.882749,
     "end_time": "2021-11-17T09:00:09.959261",
     "exception": false,
     "start_time": "2021-11-17T09:00:09.076512",
     "status": "completed"
    },
    "tags": []
   },
   "outputs": [],
   "source": [
    "timestamps = pd.read_sql(\"select distinct record_time from EBAY_TOP_BERLIN order by record_time desc limit 2\", sqlite3.connect(\"UsedObjects.db\"))"
   ]
  },
  {
   "cell_type": "code",
   "execution_count": 3,
   "id": "periodic-identification",
   "metadata": {
    "execution": {
     "iopub.execute_input": "2021-11-17T09:00:10.034074Z",
     "iopub.status.busy": "2021-11-17T09:00:10.027936Z",
     "iopub.status.idle": "2021-11-17T09:00:10.052074Z",
     "shell.execute_reply": "2021-11-17T09:00:10.053597Z"
    },
    "papermill": {
     "duration": 0.074569,
     "end_time": "2021-11-17T09:00:10.054083",
     "exception": false,
     "start_time": "2021-11-17T09:00:09.979514",
     "status": "completed"
    },
    "tags": []
   },
   "outputs": [
    {
     "data": {
      "text/html": [
       "<div>\n",
       "<style scoped>\n",
       "    .dataframe tbody tr th:only-of-type {\n",
       "        vertical-align: middle;\n",
       "    }\n",
       "\n",
       "    .dataframe tbody tr th {\n",
       "        vertical-align: top;\n",
       "    }\n",
       "\n",
       "    .dataframe thead th {\n",
       "        text-align: right;\n",
       "    }\n",
       "</style>\n",
       "<table border=\"1\" class=\"dataframe\">\n",
       "  <thead>\n",
       "    <tr style=\"text-align: right;\">\n",
       "      <th></th>\n",
       "      <th>RECORD_TIME</th>\n",
       "    </tr>\n",
       "  </thead>\n",
       "  <tbody>\n",
       "    <tr>\n",
       "      <th>0</th>\n",
       "      <td>2021-11-17 10:00</td>\n",
       "    </tr>\n",
       "    <tr>\n",
       "      <th>1</th>\n",
       "      <td>2021-11-17 09:30</td>\n",
       "    </tr>\n",
       "  </tbody>\n",
       "</table>\n",
       "</div>"
      ],
      "text/plain": [
       "        RECORD_TIME\n",
       "0  2021-11-17 10:00\n",
       "1  2021-11-17 09:30"
      ]
     },
     "execution_count": 3,
     "metadata": {},
     "output_type": "execute_result"
    }
   ],
   "source": [
    "timestamps"
   ]
  },
  {
   "cell_type": "code",
   "execution_count": 4,
   "id": "alternate-victory",
   "metadata": {
    "execution": {
     "iopub.execute_input": "2021-11-17T09:00:10.109338Z",
     "iopub.status.busy": "2021-11-17T09:00:10.107054Z",
     "iopub.status.idle": "2021-11-17T09:00:11.350942Z",
     "shell.execute_reply": "2021-11-17T09:00:11.352590Z"
    },
    "papermill": {
     "duration": 1.276672,
     "end_time": "2021-11-17T09:00:11.353126",
     "exception": false,
     "start_time": "2021-11-17T09:00:10.076454",
     "status": "completed"
    },
    "tags": []
   },
   "outputs": [],
   "source": [
    "df = pd.read_sql(\"select * from EBAY_TOP_BERLIN where record_time in (select distinct record_time from EBAY_TOP_BERLIN order by record_time desc limit 2)\", sqlite3.connect(\"UsedObjects.db\"))"
   ]
  },
  {
   "cell_type": "code",
   "execution_count": 5,
   "id": "popular-active",
   "metadata": {
    "execution": {
     "iopub.execute_input": "2021-11-17T09:00:11.428046Z",
     "iopub.status.busy": "2021-11-17T09:00:11.419287Z",
     "iopub.status.idle": "2021-11-17T09:00:11.453141Z",
     "shell.execute_reply": "2021-11-17T09:00:11.454737Z"
    },
    "papermill": {
     "duration": 0.078425,
     "end_time": "2021-11-17T09:00:11.455242",
     "exception": false,
     "start_time": "2021-11-17T09:00:11.376817",
     "status": "completed"
    },
    "tags": []
   },
   "outputs": [],
   "source": [
    "df_pivot = df.pivot_table(index=\"PRODUCT\", columns = \"RECORD_TIME\", values = \"LISTING_COUNT\")"
   ]
  },
  {
   "cell_type": "code",
   "execution_count": 6,
   "id": "union-huntington",
   "metadata": {
    "execution": {
     "iopub.execute_input": "2021-11-17T09:00:11.520319Z",
     "iopub.status.busy": "2021-11-17T09:00:11.516421Z",
     "iopub.status.idle": "2021-11-17T09:00:11.523859Z",
     "shell.execute_reply": "2021-11-17T09:00:11.525449Z"
    },
    "papermill": {
     "duration": 0.048166,
     "end_time": "2021-11-17T09:00:11.525957",
     "exception": false,
     "start_time": "2021-11-17T09:00:11.477791",
     "status": "completed"
    },
    "tags": []
   },
   "outputs": [],
   "source": [
    "df_pivot.columns = [\"stamp_1\", \"stamp_2\"]\n",
    "df_pivot_diff = df_pivot.diff(axis=1)"
   ]
  },
  {
   "cell_type": "code",
   "execution_count": 7,
   "id": "fifth-motion",
   "metadata": {
    "execution": {
     "iopub.execute_input": "2021-11-17T09:00:11.593540Z",
     "iopub.status.busy": "2021-11-17T09:00:11.582531Z",
     "iopub.status.idle": "2021-11-17T09:00:13.296834Z",
     "shell.execute_reply": "2021-11-17T09:00:13.298243Z"
    },
    "papermill": {
     "duration": 1.751582,
     "end_time": "2021-11-17T09:00:13.298724",
     "exception": false,
     "start_time": "2021-11-17T09:00:11.547142",
     "status": "completed"
    },
    "tags": []
   },
   "outputs": [
    {
     "data": {
      "text/plain": [
       "<AxesSubplot:ylabel='PRODUCT'>"
      ]
     },
     "execution_count": 7,
     "metadata": {},
     "output_type": "execute_result"
    },
    {
     "data": {
      "image/png": "[encoded data removed]",
      "text/plain": [
       "<Figure size 432x288 with 1 Axes>"
      ]
     },
     "metadata": {
      "needs_background": "light"
     },
     "output_type": "display_data"
    }
   ],
   "source": [
    "df_pivot_diff.sort_values(\"stamp_2\", ascending = False)[\"stamp_2\"].head(10).plot.barh()"
   ]
  },
  {
   "cell_type": "code",
   "execution_count": null,
   "id": "extra-executive",
   "metadata": {
    "papermill": {
     "duration": 0.023176,
     "end_time": "2021-11-17T09:00:13.346098",
     "exception": false,
     "start_time": "2021-11-17T09:00:13.322922",
     "status": "completed"
    },
    "tags": []
   },
   "outputs": [],
   "source": []
  }
 ],
 "metadata": {
  "kernelspec": {
   "display_name": "Python 3",
   "language": "python",
   "name": "python3"
  },
  "language_info": {
   "codemirror_mode": {
    "name": "ipython",
    "version": 3
   },
   "file_extension": ".py",
   "mimetype": "text/x-python",
   "name": "python",
   "nbconvert_exporter": "python",
   "pygments_lexer": "ipython3",
   "version": "3.9.5"
  },
  "papermill": {
   "default_parameters": {},
   "duration": 10.006663,
   "end_time": "2021-11-17T09:00:15.246856",
   "environment_variables": {},
   "exception": null,
   "input_path": "eBay_Overview.ipynb",
   "output_path": "eBay_Overview.ipynb",
   "parameters": {},
   "start_time": "2021-11-17T09:00:05.240193",
   "version": "2.3.3"
  }
 },
 "nbformat": 4,
 "nbformat_minor": 5
}