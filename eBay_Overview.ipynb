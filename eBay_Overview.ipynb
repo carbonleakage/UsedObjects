{
 "cells": [
  {
   "cell_type": "code",
   "execution_count": 1,
   "id": "reverse-picking",
   "metadata": {
    "execution": {
     "iopub.execute_input": "2021-10-13T20:30:07.058809Z",
     "iopub.status.busy": "2021-10-13T20:30:07.056871Z",
     "iopub.status.idle": "2021-10-13T20:30:07.859495Z",
     "shell.execute_reply": "2021-10-13T20:30:07.860987Z"
    },
    "papermill": {
     "duration": 0.855683,
     "end_time": "2021-10-13T20:30:07.861691",
     "exception": false,
     "start_time": "2021-10-13T20:30:07.006008",
     "status": "completed"
    },
    "tags": []
   },
   "outputs": [],
   "source": [
    "import pandas as pd\n",
    "import sqlite3"
   ]
  },
  {
   "cell_type": "code",
   "execution_count": 2,
   "id": "innovative-syndrome",
   "metadata": {
    "execution": {
     "iopub.execute_input": "2021-10-13T20:30:07.913220Z",
     "iopub.status.busy": "2021-10-13T20:30:07.911189Z",
     "iopub.status.idle": "2021-10-13T20:30:08.438713Z",
     "shell.execute_reply": "2021-10-13T20:30:08.439935Z"
    },
    "papermill": {
     "duration": 0.557507,
     "end_time": "2021-10-13T20:30:08.440327",
     "exception": false,
     "start_time": "2021-10-13T20:30:07.882820",
     "status": "completed"
    },
    "tags": []
   },
   "outputs": [],
   "source": [
    "timestamps = pd.read_sql(\"select distinct record_time from EBAY_TOP_BERLIN order by record_time desc limit 2\", sqlite3.connect(\"UsedObjects.db\"))"
   ]
  },
  {
   "cell_type": "code",
   "execution_count": 3,
   "id": "periodic-identification",
   "metadata": {
    "execution": {
     "iopub.execute_input": "2021-10-13T20:30:08.503770Z",
     "iopub.status.busy": "2021-10-13T20:30:08.501777Z",
     "iopub.status.idle": "2021-10-13T20:30:08.521739Z",
     "shell.execute_reply": "2021-10-13T20:30:08.523105Z"
    },
    "papermill": {
     "duration": 0.063577,
     "end_time": "2021-10-13T20:30:08.523520",
     "exception": false,
     "start_time": "2021-10-13T20:30:08.459943",
     "status": "completed"
    },
    "tags": []
   },
   "outputs": [
    {
     "data": {
      "text/html": [
       "<div>\n",
       "<style scoped>\n",
       "    .dataframe tbody tr th:only-of-type {\n",
       "        vertical-align: middle;\n",
       "    }\n",
       "\n",
       "    .dataframe tbody tr th {\n",
       "        vertical-align: top;\n",
       "    }\n",
       "\n",
       "    .dataframe thead th {\n",
       "        text-align: right;\n",
       "    }\n",
       "</style>\n",
       "<table border=\"1\" class=\"dataframe\">\n",
       "  <thead>\n",
       "    <tr style=\"text-align: right;\">\n",
       "      <th></th>\n",
       "      <th>RECORD_TIME</th>\n",
       "    </tr>\n",
       "  </thead>\n",
       "  <tbody>\n",
       "    <tr>\n",
       "      <th>0</th>\n",
       "      <td>2021-10-13 22:30</td>\n",
       "    </tr>\n",
       "    <tr>\n",
       "      <th>1</th>\n",
       "      <td>2021-10-13 22:00</td>\n",
       "    </tr>\n",
       "  </tbody>\n",
       "</table>\n",
       "</div>"
      ],
      "text/plain": [
       "        RECORD_TIME\n",
       "0  2021-10-13 22:30\n",
       "1  2021-10-13 22:00"
      ]
     },
     "execution_count": 3,
     "metadata": {},
     "output_type": "execute_result"
    }
   ],
   "source": [
    "timestamps"
   ]
  },
  {
   "cell_type": "code",
   "execution_count": 4,
   "id": "alternate-victory",
   "metadata": {
    "execution": {
     "iopub.execute_input": "2021-10-13T20:30:08.584017Z",
     "iopub.status.busy": "2021-10-13T20:30:08.582181Z",
     "iopub.status.idle": "2021-10-13T20:30:09.362615Z",
     "shell.execute_reply": "2021-10-13T20:30:09.363841Z"
    },
    "papermill": {
     "duration": 0.813627,
     "end_time": "2021-10-13T20:30:09.364233",
     "exception": false,
     "start_time": "2021-10-13T20:30:08.550606",
     "status": "completed"
    },
    "tags": []
   },
   "outputs": [],
   "source": [
    "df = pd.read_sql(\"select * from EBAY_TOP_BERLIN where record_time in (select distinct record_time from EBAY_TOP_BERLIN order by record_time desc limit 2)\", sqlite3.connect(\"UsedObjects.db\"))"
   ]
  },
  {
   "cell_type": "code",
   "execution_count": 5,
   "id": "popular-active",
   "metadata": {
    "execution": {
     "iopub.execute_input": "2021-10-13T20:30:09.435835Z",
     "iopub.status.busy": "2021-10-13T20:30:09.424169Z",
     "iopub.status.idle": "2021-10-13T20:30:09.451558Z",
     "shell.execute_reply": "2021-10-13T20:30:09.452913Z"
    },
    "papermill": {
     "duration": 0.068606,
     "end_time": "2021-10-13T20:30:09.453337",
     "exception": false,
     "start_time": "2021-10-13T20:30:09.384731",
     "status": "completed"
    },
    "tags": []
   },
   "outputs": [],
   "source": [
    "df_pivot = df.pivot_table(index=\"PRODUCT\", columns = \"RECORD_TIME\", values = \"LISTING_COUNT\")"
   ]
  },
  {
   "cell_type": "code",
   "execution_count": 6,
   "id": "union-huntington",
   "metadata": {
    "execution": {
     "iopub.execute_input": "2021-10-13T20:30:09.509333Z",
     "iopub.status.busy": "2021-10-13T20:30:09.507115Z",
     "iopub.status.idle": "2021-10-13T20:30:09.512379Z",
     "shell.execute_reply": "2021-10-13T20:30:09.514154Z"
    },
    "papermill": {
     "duration": 0.041198,
     "end_time": "2021-10-13T20:30:09.514759",
     "exception": false,
     "start_time": "2021-10-13T20:30:09.473561",
     "status": "completed"
    },
    "tags": []
   },
   "outputs": [],
   "source": [
    "df_pivot.columns = [\"stamp_1\", \"stamp_2\"]\n",
    "df_pivot_diff = df_pivot.diff(axis=1)"
   ]
  },
  {
   "cell_type": "code",
   "execution_count": 7,
   "id": "fifth-motion",
   "metadata": {
    "execution": {
     "iopub.execute_input": "2021-10-13T20:30:09.571119Z",
     "iopub.status.busy": "2021-10-13T20:30:09.568875Z",
     "iopub.status.idle": "2021-10-13T20:30:11.073933Z",
     "shell.execute_reply": "2021-10-13T20:30:11.075238Z"
    },
    "papermill": {
     "duration": 1.53834,
     "end_time": "2021-10-13T20:30:11.075657",
     "exception": false,
     "start_time": "2021-10-13T20:30:09.537317",
     "status": "completed"
    },
    "tags": []
   },
   "outputs": [
    {
     "data": {
      "text/plain": [
       "<AxesSubplot:ylabel='PRODUCT'>"
      ]
     },
     "execution_count": 7,
     "metadata": {},
     "output_type": "execute_result"
    },
    {
     "data": {
      "image/png": "[encoded data removed]",
      "text/plain": [
       "<Figure size 432x288 with 1 Axes>"
      ]
     },
     "metadata": {
      "needs_background": "light"
     },
     "output_type": "display_data"
    }
   ],
   "source": [
    "df_pivot_diff.sort_values(\"stamp_2\", ascending = False)[\"stamp_2\"].head(10).plot.barh()"
   ]
  },
  {
   "cell_type": "code",
   "execution_count": null,
   "id": "extra-executive",
   "metadata": {
    "papermill": {
     "duration": 0.022193,
     "end_time": "2021-10-13T20:30:11.122426",
     "exception": false,
     "start_time": "2021-10-13T20:30:11.100233",
     "status": "completed"
    },
    "tags": []
   },
   "outputs": [],
   "source": []
  }
 ],
 "metadata": {
  "kernelspec": {
   "display_name": "Python 3",
   "language": "python",
   "name": "python3"
  },
  "language_info": {
   "codemirror_mode": {
    "name": "ipython",
    "version": 3
   },
   "file_extension": ".py",
   "mimetype": "text/x-python",
   "name": "python",
   "nbconvert_exporter": "python",
   "pygments_lexer": "ipython3",
   "version": "3.9.5"
  },
  "papermill": {
   "default_parameters": {},
   "duration": 7.814614,
   "end_time": "2021-10-13T20:30:12.431977",
   "environment_variables": {},
   "exception": null,
   "input_path": "eBay_Overview.ipynb",
   "output_path": "eBay_Overview.ipynb",
   "parameters": {},
   "start_time": "2021-10-13T20:30:04.617363",
   "version": "2.3.3"
  }
 },
 "nbformat": 4,
 "nbformat_minor": 5
}