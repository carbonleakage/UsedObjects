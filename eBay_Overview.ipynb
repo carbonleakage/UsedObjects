{
 "cells": [
  {
   "cell_type": "code",
   "execution_count": 1,
   "id": "reverse-picking",
   "metadata": {
    "execution": {
     "iopub.execute_input": "2021-08-22T18:30:07.084772Z",
     "iopub.status.busy": "2021-08-22T18:30:07.082803Z",
     "iopub.status.idle": "2021-08-22T18:30:07.893349Z",
     "shell.execute_reply": "2021-08-22T18:30:07.891785Z"
    },
    "papermill": {
     "duration": 0.863241,
     "end_time": "2021-08-22T18:30:07.893743",
     "exception": false,
     "start_time": "2021-08-22T18:30:07.030502",
     "status": "completed"
    },
    "tags": []
   },
   "outputs": [],
   "source": [
    "import pandas as pd\n",
    "import sqlite3"
   ]
  },
  {
   "cell_type": "code",
   "execution_count": 2,
   "id": "innovative-syndrome",
   "metadata": {
    "execution": {
     "iopub.execute_input": "2021-08-22T18:30:07.946923Z",
     "iopub.status.busy": "2021-08-22T18:30:07.944488Z",
     "iopub.status.idle": "2021-08-22T18:30:08.053674Z",
     "shell.execute_reply": "2021-08-22T18:30:08.055007Z"
    },
    "papermill": {
     "duration": 0.139252,
     "end_time": "2021-08-22T18:30:08.055421",
     "exception": false,
     "start_time": "2021-08-22T18:30:07.916169",
     "status": "completed"
    },
    "tags": []
   },
   "outputs": [],
   "source": [
    "timestamps = pd.read_sql(\"select distinct record_time from EBAY_TOP_BERLIN order by record_time desc limit 2\", sqlite3.connect(\"UsedObjects.db\"))"
   ]
  },
  {
   "cell_type": "code",
   "execution_count": 3,
   "id": "periodic-identification",
   "metadata": {
    "execution": {
     "iopub.execute_input": "2021-08-22T18:30:08.121090Z",
     "iopub.status.busy": "2021-08-22T18:30:08.119059Z",
     "iopub.status.idle": "2021-08-22T18:30:08.138968Z",
     "shell.execute_reply": "2021-08-22T18:30:08.140186Z"
    },
    "papermill": {
     "duration": 0.065434,
     "end_time": "2021-08-22T18:30:08.140573",
     "exception": false,
     "start_time": "2021-08-22T18:30:08.075139",
     "status": "completed"
    },
    "tags": []
   },
   "outputs": [
    {
     "data": {
      "text/html": [
       "<div>\n",
       "<style scoped>\n",
       "    .dataframe tbody tr th:only-of-type {\n",
       "        vertical-align: middle;\n",
       "    }\n",
       "\n",
       "    .dataframe tbody tr th {\n",
       "        vertical-align: top;\n",
       "    }\n",
       "\n",
       "    .dataframe thead th {\n",
       "        text-align: right;\n",
       "    }\n",
       "</style>\n",
       "<table border=\"1\" class=\"dataframe\">\n",
       "  <thead>\n",
       "    <tr style=\"text-align: right;\">\n",
       "      <th></th>\n",
       "      <th>RECORD_TIME</th>\n",
       "    </tr>\n",
       "  </thead>\n",
       "  <tbody>\n",
       "    <tr>\n",
       "      <th>0</th>\n",
       "      <td>2021-08-22 20:30</td>\n",
       "    </tr>\n",
       "    <tr>\n",
       "      <th>1</th>\n",
       "      <td>2021-08-22 20:00</td>\n",
       "    </tr>\n",
       "  </tbody>\n",
       "</table>\n",
       "</div>"
      ],
      "text/plain": [
       "        RECORD_TIME\n",
       "0  2021-08-22 20:30\n",
       "1  2021-08-22 20:00"
      ]
     },
     "execution_count": 3,
     "metadata": {},
     "output_type": "execute_result"
    }
   ],
   "source": [
    "timestamps"
   ]
  },
  {
   "cell_type": "code",
   "execution_count": 4,
   "id": "alternate-victory",
   "metadata": {
    "execution": {
     "iopub.execute_input": "2021-08-22T18:30:08.192611Z",
     "iopub.status.busy": "2021-08-22T18:30:08.190492Z",
     "iopub.status.idle": "2021-08-22T18:30:08.348481Z",
     "shell.execute_reply": "2021-08-22T18:30:08.349676Z"
    },
    "papermill": {
     "duration": 0.188355,
     "end_time": "2021-08-22T18:30:08.350164",
     "exception": false,
     "start_time": "2021-08-22T18:30:08.161809",
     "status": "completed"
    },
    "tags": []
   },
   "outputs": [],
   "source": [
    "df = pd.read_sql(\"select * from EBAY_TOP_BERLIN where record_time in (select distinct record_time from EBAY_TOP_BERLIN order by record_time desc limit 2)\", sqlite3.connect(\"UsedObjects.db\"))"
   ]
  },
  {
   "cell_type": "code",
   "execution_count": 5,
   "id": "popular-active",
   "metadata": {
    "execution": {
     "iopub.execute_input": "2021-08-22T18:30:08.416058Z",
     "iopub.status.busy": "2021-08-22T18:30:08.408718Z",
     "iopub.status.idle": "2021-08-22T18:30:08.437277Z",
     "shell.execute_reply": "2021-08-22T18:30:08.438597Z"
    },
    "papermill": {
     "duration": 0.068206,
     "end_time": "2021-08-22T18:30:08.439061",
     "exception": false,
     "start_time": "2021-08-22T18:30:08.370855",
     "status": "completed"
    },
    "tags": []
   },
   "outputs": [],
   "source": [
    "df_pivot = df.pivot_table(index=\"PRODUCT\", columns = \"RECORD_TIME\", values = \"LISTING_COUNT\")"
   ]
  },
  {
   "cell_type": "code",
   "execution_count": 6,
   "id": "union-huntington",
   "metadata": {
    "execution": {
     "iopub.execute_input": "2021-08-22T18:30:08.498033Z",
     "iopub.status.busy": "2021-08-22T18:30:08.495722Z",
     "iopub.status.idle": "2021-08-22T18:30:08.501438Z",
     "shell.execute_reply": "2021-08-22T18:30:08.502781Z"
    },
    "papermill": {
     "duration": 0.04223,
     "end_time": "2021-08-22T18:30:08.503200",
     "exception": false,
     "start_time": "2021-08-22T18:30:08.460970",
     "status": "completed"
    },
    "tags": []
   },
   "outputs": [],
   "source": [
    "df_pivot.columns = [\"stamp_1\", \"stamp_2\"]\n",
    "df_pivot_diff = df_pivot.diff(axis=1)"
   ]
  },
  {
   "cell_type": "code",
   "execution_count": 7,
   "id": "fifth-motion",
   "metadata": {
    "execution": {
     "iopub.execute_input": "2021-08-22T18:30:08.565033Z",
     "iopub.status.busy": "2021-08-22T18:30:08.562387Z",
     "iopub.status.idle": "2021-08-22T18:30:10.075785Z",
     "shell.execute_reply": "2021-08-22T18:30:10.076979Z"
    },
    "papermill": {
     "duration": 1.55017,
     "end_time": "2021-08-22T18:30:10.077398",
     "exception": false,
     "start_time": "2021-08-22T18:30:08.527228",
     "status": "completed"
    },
    "tags": []
   },
   "outputs": [
    {
     "data": {
      "text/plain": [
       "<AxesSubplot:ylabel='PRODUCT'>"
      ]
     },
     "execution_count": 7,
     "metadata": {},
     "output_type": "execute_result"
    },
    {
     "data": {
      "image/png": "[encoded data removed]",
      "text/plain": [
       "<Figure size 432x288 with 1 Axes>"
      ]
     },
     "metadata": {
      "needs_background": "light"
     },
     "output_type": "display_data"
    }
   ],
   "source": [
    "df_pivot_diff.sort_values(\"stamp_2\", ascending = False)[\"stamp_2\"].head(10).plot.barh()"
   ]
  },
  {
   "cell_type": "code",
   "execution_count": null,
   "id": "extra-executive",
   "metadata": {
    "papermill": {
     "duration": 0.022325,
     "end_time": "2021-08-22T18:30:10.123793",
     "exception": false,
     "start_time": "2021-08-22T18:30:10.101468",
     "status": "completed"
    },
    "tags": []
   },
   "outputs": [],
   "source": []
  }
 ],
 "metadata": {
  "kernelspec": {
   "display_name": "Python 3",
   "language": "python",
   "name": "python3"
  },
  "language_info": {
   "codemirror_mode": {
    "name": "ipython",
    "version": 3
   },
   "file_extension": ".py",
   "mimetype": "text/x-python",
   "name": "python",
   "nbconvert_exporter": "python",
   "pygments_lexer": "ipython3",
   "version": "3.9.5"
  },
  "papermill": {
   "default_parameters": {},
   "duration": 6.832373,
   "end_time": "2021-08-22T18:30:11.454025",
   "environment_variables": {},
   "exception": null,
   "input_path": "eBay_Overview.ipynb",
   "output_path": "eBay_Overview.ipynb",
   "parameters": {},
   "start_time": "2021-08-22T18:30:04.621652",
   "version": "2.3.3"
  }
 },
 "nbformat": 4,
 "nbformat_minor": 5
}