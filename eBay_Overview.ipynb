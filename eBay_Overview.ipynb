{
 "cells": [
  {
   "cell_type": "code",
   "execution_count": 1,
   "id": "reverse-picking",
   "metadata": {
    "execution": {
     "iopub.execute_input": "2021-10-28T05:30:07.544191Z",
     "iopub.status.busy": "2021-10-28T05:30:07.542280Z",
     "iopub.status.idle": "2021-10-28T05:30:08.348443Z",
     "shell.execute_reply": "2021-10-28T05:30:08.346895Z"
    },
    "papermill": {
     "duration": 0.854961,
     "end_time": "2021-10-28T05:30:08.348901",
     "exception": false,
     "start_time": "2021-10-28T05:30:07.493940",
     "status": "completed"
    },
    "tags": []
   },
   "outputs": [],
   "source": [
    "import pandas as pd\n",
    "import sqlite3"
   ]
  },
  {
   "cell_type": "code",
   "execution_count": 2,
   "id": "innovative-syndrome",
   "metadata": {
    "execution": {
     "iopub.execute_input": "2021-10-28T05:30:08.400213Z",
     "iopub.status.busy": "2021-10-28T05:30:08.398372Z",
     "iopub.status.idle": "2021-10-28T05:30:09.076470Z",
     "shell.execute_reply": "2021-10-28T05:30:09.077817Z"
    },
    "papermill": {
     "duration": 0.70772,
     "end_time": "2021-10-28T05:30:09.078233",
     "exception": false,
     "start_time": "2021-10-28T05:30:08.370513",
     "status": "completed"
    },
    "tags": []
   },
   "outputs": [],
   "source": [
    "timestamps = pd.read_sql(\"select distinct record_time from EBAY_TOP_BERLIN order by record_time desc limit 2\", sqlite3.connect(\"UsedObjects.db\"))"
   ]
  },
  {
   "cell_type": "code",
   "execution_count": 3,
   "id": "periodic-identification",
   "metadata": {
    "execution": {
     "iopub.execute_input": "2021-10-28T05:30:09.158061Z",
     "iopub.status.busy": "2021-10-28T05:30:09.153036Z",
     "iopub.status.idle": "2021-10-28T05:30:09.172866Z",
     "shell.execute_reply": "2021-10-28T05:30:09.174292Z"
    },
    "papermill": {
     "duration": 0.069792,
     "end_time": "2021-10-28T05:30:09.174769",
     "exception": false,
     "start_time": "2021-10-28T05:30:09.104977",
     "status": "completed"
    },
    "tags": []
   },
   "outputs": [
    {
     "data": {
      "text/html": [
       "<div>\n",
       "<style scoped>\n",
       "    .dataframe tbody tr th:only-of-type {\n",
       "        vertical-align: middle;\n",
       "    }\n",
       "\n",
       "    .dataframe tbody tr th {\n",
       "        vertical-align: top;\n",
       "    }\n",
       "\n",
       "    .dataframe thead th {\n",
       "        text-align: right;\n",
       "    }\n",
       "</style>\n",
       "<table border=\"1\" class=\"dataframe\">\n",
       "  <thead>\n",
       "    <tr style=\"text-align: right;\">\n",
       "      <th></th>\n",
       "      <th>RECORD_TIME</th>\n",
       "    </tr>\n",
       "  </thead>\n",
       "  <tbody>\n",
       "    <tr>\n",
       "      <th>0</th>\n",
       "      <td>2021-10-28 07:30</td>\n",
       "    </tr>\n",
       "    <tr>\n",
       "      <th>1</th>\n",
       "      <td>2021-10-28 07:00</td>\n",
       "    </tr>\n",
       "  </tbody>\n",
       "</table>\n",
       "</div>"
      ],
      "text/plain": [
       "        RECORD_TIME\n",
       "0  2021-10-28 07:30\n",
       "1  2021-10-28 07:00"
      ]
     },
     "execution_count": 3,
     "metadata": {},
     "output_type": "execute_result"
    }
   ],
   "source": [
    "timestamps"
   ]
  },
  {
   "cell_type": "code",
   "execution_count": 4,
   "id": "alternate-victory",
   "metadata": {
    "execution": {
     "iopub.execute_input": "2021-10-28T05:30:09.226913Z",
     "iopub.status.busy": "2021-10-28T05:30:09.224860Z",
     "iopub.status.idle": "2021-10-28T05:30:10.178205Z",
     "shell.execute_reply": "2021-10-28T05:30:10.179410Z"
    },
    "papermill": {
     "duration": 0.983628,
     "end_time": "2021-10-28T05:30:10.179797",
     "exception": false,
     "start_time": "2021-10-28T05:30:09.196169",
     "status": "completed"
    },
    "tags": []
   },
   "outputs": [],
   "source": [
    "df = pd.read_sql(\"select * from EBAY_TOP_BERLIN where record_time in (select distinct record_time from EBAY_TOP_BERLIN order by record_time desc limit 2)\", sqlite3.connect(\"UsedObjects.db\"))"
   ]
  },
  {
   "cell_type": "code",
   "execution_count": 5,
   "id": "popular-active",
   "metadata": {
    "execution": {
     "iopub.execute_input": "2021-10-28T05:30:10.240422Z",
     "iopub.status.busy": "2021-10-28T05:30:10.238257Z",
     "iopub.status.idle": "2021-10-28T05:30:10.265334Z",
     "shell.execute_reply": "2021-10-28T05:30:10.266549Z"
    },
    "papermill": {
     "duration": 0.066679,
     "end_time": "2021-10-28T05:30:10.266939",
     "exception": false,
     "start_time": "2021-10-28T05:30:10.200260",
     "status": "completed"
    },
    "tags": []
   },
   "outputs": [],
   "source": [
    "df_pivot = df.pivot_table(index=\"PRODUCT\", columns = \"RECORD_TIME\", values = \"LISTING_COUNT\")"
   ]
  },
  {
   "cell_type": "code",
   "execution_count": 6,
   "id": "union-huntington",
   "metadata": {
    "execution": {
     "iopub.execute_input": "2021-10-28T05:30:10.323722Z",
     "iopub.status.busy": "2021-10-28T05:30:10.321680Z",
     "iopub.status.idle": "2021-10-28T05:30:10.327022Z",
     "shell.execute_reply": "2021-10-28T05:30:10.328291Z"
    },
    "papermill": {
     "duration": 0.040275,
     "end_time": "2021-10-28T05:30:10.328759",
     "exception": false,
     "start_time": "2021-10-28T05:30:10.288484",
     "status": "completed"
    },
    "tags": []
   },
   "outputs": [],
   "source": [
    "df_pivot.columns = [\"stamp_1\", \"stamp_2\"]\n",
    "df_pivot_diff = df_pivot.diff(axis=1)"
   ]
  },
  {
   "cell_type": "code",
   "execution_count": 7,
   "id": "fifth-motion",
   "metadata": {
    "execution": {
     "iopub.execute_input": "2021-10-28T05:30:10.384045Z",
     "iopub.status.busy": "2021-10-28T05:30:10.381429Z",
     "iopub.status.idle": "2021-10-28T05:30:11.876839Z",
     "shell.execute_reply": "2021-10-28T05:30:11.878283Z"
    },
    "papermill": {
     "duration": 1.528825,
     "end_time": "2021-10-28T05:30:11.878712",
     "exception": false,
     "start_time": "2021-10-28T05:30:10.349887",
     "status": "completed"
    },
    "tags": []
   },
   "outputs": [
    {
     "data": {
      "text/plain": [
       "<AxesSubplot:ylabel='PRODUCT'>"
      ]
     },
     "execution_count": 7,
     "metadata": {},
     "output_type": "execute_result"
    },
    {
     "data": {
      "image/png": "[encoded data removed]",
      "text/plain": [
       "<Figure size 432x288 with 1 Axes>"
      ]
     },
     "metadata": {
      "needs_background": "light"
     },
     "output_type": "display_data"
    }
   ],
   "source": [
    "df_pivot_diff.sort_values(\"stamp_2\", ascending = False)[\"stamp_2\"].head(10).plot.barh()"
   ]
  },
  {
   "cell_type": "code",
   "execution_count": null,
   "id": "extra-executive",
   "metadata": {
    "papermill": {
     "duration": 0.023021,
     "end_time": "2021-10-28T05:30:11.925698",
     "exception": false,
     "start_time": "2021-10-28T05:30:11.902677",
     "status": "completed"
    },
    "tags": []
   },
   "outputs": [],
   "source": []
  }
 ],
 "metadata": {
  "kernelspec": {
   "display_name": "Python 3",
   "language": "python",
   "name": "python3"
  },
  "language_info": {
   "codemirror_mode": {
    "name": "ipython",
    "version": 3
   },
   "file_extension": ".py",
   "mimetype": "text/x-python",
   "name": "python",
   "nbconvert_exporter": "python",
   "pygments_lexer": "ipython3",
   "version": "3.9.5"
  },
  "papermill": {
   "default_parameters": {},
   "duration": 7.476056,
   "end_time": "2021-10-28T05:30:12.569643",
   "environment_variables": {},
   "exception": null,
   "input_path": "eBay_Overview.ipynb",
   "output_path": "eBay_Overview.ipynb",
   "parameters": {},
   "start_time": "2021-10-28T05:30:05.093587",
   "version": "2.3.3"
  }
 },
 "nbformat": 4,
 "nbformat_minor": 5
}