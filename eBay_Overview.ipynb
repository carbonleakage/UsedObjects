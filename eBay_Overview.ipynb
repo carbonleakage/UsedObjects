{
 "cells": [
  {
   "cell_type": "code",
   "execution_count": 1,
   "id": "reverse-picking",
   "metadata": {
    "execution": {
     "iopub.execute_input": "2021-10-20T01:00:07.162859Z",
     "iopub.status.busy": "2021-10-20T01:00:07.160894Z",
     "iopub.status.idle": "2021-10-20T01:00:07.975432Z",
     "shell.execute_reply": "2021-10-20T01:00:07.973337Z"
    },
    "papermill": {
     "duration": 0.865244,
     "end_time": "2021-10-20T01:00:07.975881",
     "exception": false,
     "start_time": "2021-10-20T01:00:07.110637",
     "status": "completed"
    },
    "tags": []
   },
   "outputs": [],
   "source": [
    "import pandas as pd\n",
    "import sqlite3"
   ]
  },
  {
   "cell_type": "code",
   "execution_count": 2,
   "id": "innovative-syndrome",
   "metadata": {
    "execution": {
     "iopub.execute_input": "2021-10-20T01:00:08.026693Z",
     "iopub.status.busy": "2021-10-20T01:00:08.024266Z",
     "iopub.status.idle": "2021-10-20T01:00:08.596370Z",
     "shell.execute_reply": "2021-10-20T01:00:08.598463Z"
    },
    "papermill": {
     "duration": 0.602874,
     "end_time": "2021-10-20T01:00:08.598925",
     "exception": false,
     "start_time": "2021-10-20T01:00:07.996051",
     "status": "completed"
    },
    "tags": []
   },
   "outputs": [],
   "source": [
    "timestamps = pd.read_sql(\"select distinct record_time from EBAY_TOP_BERLIN order by record_time desc limit 2\", sqlite3.connect(\"UsedObjects.db\"))"
   ]
  },
  {
   "cell_type": "code",
   "execution_count": 3,
   "id": "periodic-identification",
   "metadata": {
    "execution": {
     "iopub.execute_input": "2021-10-20T01:00:08.676917Z",
     "iopub.status.busy": "2021-10-20T01:00:08.674806Z",
     "iopub.status.idle": "2021-10-20T01:00:08.695379Z",
     "shell.execute_reply": "2021-10-20T01:00:08.696666Z"
    },
    "papermill": {
     "duration": 0.070505,
     "end_time": "2021-10-20T01:00:08.697144",
     "exception": false,
     "start_time": "2021-10-20T01:00:08.626639",
     "status": "completed"
    },
    "tags": []
   },
   "outputs": [
    {
     "data": {
      "text/html": [
       "<div>\n",
       "<style scoped>\n",
       "    .dataframe tbody tr th:only-of-type {\n",
       "        vertical-align: middle;\n",
       "    }\n",
       "\n",
       "    .dataframe tbody tr th {\n",
       "        vertical-align: top;\n",
       "    }\n",
       "\n",
       "    .dataframe thead th {\n",
       "        text-align: right;\n",
       "    }\n",
       "</style>\n",
       "<table border=\"1\" class=\"dataframe\">\n",
       "  <thead>\n",
       "    <tr style=\"text-align: right;\">\n",
       "      <th></th>\n",
       "      <th>RECORD_TIME</th>\n",
       "    </tr>\n",
       "  </thead>\n",
       "  <tbody>\n",
       "    <tr>\n",
       "      <th>0</th>\n",
       "      <td>2021-10-20 03:00</td>\n",
       "    </tr>\n",
       "    <tr>\n",
       "      <th>1</th>\n",
       "      <td>2021-10-20 02:30</td>\n",
       "    </tr>\n",
       "  </tbody>\n",
       "</table>\n",
       "</div>"
      ],
      "text/plain": [
       "        RECORD_TIME\n",
       "0  2021-10-20 03:00\n",
       "1  2021-10-20 02:30"
      ]
     },
     "execution_count": 3,
     "metadata": {},
     "output_type": "execute_result"
    }
   ],
   "source": [
    "timestamps"
   ]
  },
  {
   "cell_type": "code",
   "execution_count": 4,
   "id": "alternate-victory",
   "metadata": {
    "execution": {
     "iopub.execute_input": "2021-10-20T01:00:08.748417Z",
     "iopub.status.busy": "2021-10-20T01:00:08.746578Z",
     "iopub.status.idle": "2021-10-20T01:00:09.594997Z",
     "shell.execute_reply": "2021-10-20T01:00:09.596216Z"
    },
    "papermill": {
     "duration": 0.878297,
     "end_time": "2021-10-20T01:00:09.596616",
     "exception": false,
     "start_time": "2021-10-20T01:00:08.718319",
     "status": "completed"
    },
    "tags": []
   },
   "outputs": [],
   "source": [
    "df = pd.read_sql(\"select * from EBAY_TOP_BERLIN where record_time in (select distinct record_time from EBAY_TOP_BERLIN order by record_time desc limit 2)\", sqlite3.connect(\"UsedObjects.db\"))"
   ]
  },
  {
   "cell_type": "code",
   "execution_count": 5,
   "id": "popular-active",
   "metadata": {
    "execution": {
     "iopub.execute_input": "2021-10-20T01:00:09.667512Z",
     "iopub.status.busy": "2021-10-20T01:00:09.655199Z",
     "iopub.status.idle": "2021-10-20T01:00:09.683826Z",
     "shell.execute_reply": "2021-10-20T01:00:09.685189Z"
    },
    "papermill": {
     "duration": 0.068417,
     "end_time": "2021-10-20T01:00:09.685618",
     "exception": false,
     "start_time": "2021-10-20T01:00:09.617201",
     "status": "completed"
    },
    "tags": []
   },
   "outputs": [],
   "source": [
    "df_pivot = df.pivot_table(index=\"PRODUCT\", columns = \"RECORD_TIME\", values = \"LISTING_COUNT\")"
   ]
  },
  {
   "cell_type": "code",
   "execution_count": 6,
   "id": "union-huntington",
   "metadata": {
    "execution": {
     "iopub.execute_input": "2021-10-20T01:00:09.741557Z",
     "iopub.status.busy": "2021-10-20T01:00:09.739538Z",
     "iopub.status.idle": "2021-10-20T01:00:09.744340Z",
     "shell.execute_reply": "2021-10-20T01:00:09.745662Z"
    },
    "papermill": {
     "duration": 0.039435,
     "end_time": "2021-10-20T01:00:09.746081",
     "exception": false,
     "start_time": "2021-10-20T01:00:09.706646",
     "status": "completed"
    },
    "tags": []
   },
   "outputs": [],
   "source": [
    "df_pivot.columns = [\"stamp_1\", \"stamp_2\"]\n",
    "df_pivot_diff = df_pivot.diff(axis=1)"
   ]
  },
  {
   "cell_type": "code",
   "execution_count": 7,
   "id": "fifth-motion",
   "metadata": {
    "execution": {
     "iopub.execute_input": "2021-10-20T01:00:09.800989Z",
     "iopub.status.busy": "2021-10-20T01:00:09.798491Z",
     "iopub.status.idle": "2021-10-20T01:00:11.287330Z",
     "shell.execute_reply": "2021-10-20T01:00:11.288618Z"
    },
    "papermill": {
     "duration": 1.522015,
     "end_time": "2021-10-20T01:00:11.289130",
     "exception": false,
     "start_time": "2021-10-20T01:00:09.767115",
     "status": "completed"
    },
    "tags": []
   },
   "outputs": [
    {
     "data": {
      "text/plain": [
       "<AxesSubplot:ylabel='PRODUCT'>"
      ]
     },
     "execution_count": 7,
     "metadata": {},
     "output_type": "execute_result"
    },
    {
     "data": {
      "image/png": "[encoded data removed]",
      "text/plain": [
       "<Figure size 432x288 with 1 Axes>"
      ]
     },
     "metadata": {
      "needs_background": "light"
     },
     "output_type": "display_data"
    }
   ],
   "source": [
    "df_pivot_diff.sort_values(\"stamp_2\", ascending = False)[\"stamp_2\"].head(10).plot.barh()"
   ]
  },
  {
   "cell_type": "code",
   "execution_count": null,
   "id": "extra-executive",
   "metadata": {
    "papermill": {
     "duration": 0.021924,
     "end_time": "2021-10-20T01:00:11.335763",
     "exception": false,
     "start_time": "2021-10-20T01:00:11.313839",
     "status": "completed"
    },
    "tags": []
   },
   "outputs": [],
   "source": []
  }
 ],
 "metadata": {
  "kernelspec": {
   "display_name": "Python 3",
   "language": "python",
   "name": "python3"
  },
  "language_info": {
   "codemirror_mode": {
    "name": "ipython",
    "version": 3
   },
   "file_extension": ".py",
   "mimetype": "text/x-python",
   "name": "python",
   "nbconvert_exporter": "python",
   "pygments_lexer": "ipython3",
   "version": "3.9.5"
  },
  "papermill": {
   "default_parameters": {},
   "duration": 7.823647,
   "end_time": "2021-10-20T01:00:12.514566",
   "environment_variables": {},
   "exception": null,
   "input_path": "eBay_Overview.ipynb",
   "output_path": "eBay_Overview.ipynb",
   "parameters": {},
   "start_time": "2021-10-20T01:00:04.690919",
   "version": "2.3.3"
  }
 },
 "nbformat": 4,
 "nbformat_minor": 5
}