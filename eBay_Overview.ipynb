{
 "cells": [
  {
   "cell_type": "code",
   "execution_count": 1,
   "id": "reverse-picking",
   "metadata": {
    "execution": {
     "iopub.execute_input": "2021-10-10T16:30:06.853106Z",
     "iopub.status.busy": "2021-10-10T16:30:06.851131Z",
     "iopub.status.idle": "2021-10-10T16:30:07.665355Z",
     "shell.execute_reply": "2021-10-10T16:30:07.666700Z"
    },
    "papermill": {
     "duration": 0.866497,
     "end_time": "2021-10-10T16:30:07.667407",
     "exception": false,
     "start_time": "2021-10-10T16:30:06.800910",
     "status": "completed"
    },
    "tags": []
   },
   "outputs": [],
   "source": [
    "import pandas as pd\n",
    "import sqlite3"
   ]
  },
  {
   "cell_type": "code",
   "execution_count": 2,
   "id": "innovative-syndrome",
   "metadata": {
    "execution": {
     "iopub.execute_input": "2021-10-10T16:30:07.718443Z",
     "iopub.status.busy": "2021-10-10T16:30:07.716382Z",
     "iopub.status.idle": "2021-10-10T16:30:08.215984Z",
     "shell.execute_reply": "2021-10-10T16:30:08.217361Z"
    },
    "papermill": {
     "duration": 0.529741,
     "end_time": "2021-10-10T16:30:08.217794",
     "exception": false,
     "start_time": "2021-10-10T16:30:07.688053",
     "status": "completed"
    },
    "tags": []
   },
   "outputs": [],
   "source": [
    "timestamps = pd.read_sql(\"select distinct record_time from EBAY_TOP_BERLIN order by record_time desc limit 2\", sqlite3.connect(\"UsedObjects.db\"))"
   ]
  },
  {
   "cell_type": "code",
   "execution_count": 3,
   "id": "periodic-identification",
   "metadata": {
    "execution": {
     "iopub.execute_input": "2021-10-10T16:30:08.292146Z",
     "iopub.status.busy": "2021-10-10T16:30:08.289594Z",
     "iopub.status.idle": "2021-10-10T16:30:08.315650Z",
     "shell.execute_reply": "2021-10-10T16:30:08.317176Z"
    },
    "papermill": {
     "duration": 0.074807,
     "end_time": "2021-10-10T16:30:08.317729",
     "exception": false,
     "start_time": "2021-10-10T16:30:08.242922",
     "status": "completed"
    },
    "tags": []
   },
   "outputs": [
    {
     "data": {
      "text/html": [
       "<div>\n",
       "<style scoped>\n",
       "    .dataframe tbody tr th:only-of-type {\n",
       "        vertical-align: middle;\n",
       "    }\n",
       "\n",
       "    .dataframe tbody tr th {\n",
       "        vertical-align: top;\n",
       "    }\n",
       "\n",
       "    .dataframe thead th {\n",
       "        text-align: right;\n",
       "    }\n",
       "</style>\n",
       "<table border=\"1\" class=\"dataframe\">\n",
       "  <thead>\n",
       "    <tr style=\"text-align: right;\">\n",
       "      <th></th>\n",
       "      <th>RECORD_TIME</th>\n",
       "    </tr>\n",
       "  </thead>\n",
       "  <tbody>\n",
       "    <tr>\n",
       "      <th>0</th>\n",
       "      <td>2021-10-10 18:30</td>\n",
       "    </tr>\n",
       "    <tr>\n",
       "      <th>1</th>\n",
       "      <td>2021-10-10 18:00</td>\n",
       "    </tr>\n",
       "  </tbody>\n",
       "</table>\n",
       "</div>"
      ],
      "text/plain": [
       "        RECORD_TIME\n",
       "0  2021-10-10 18:30\n",
       "1  2021-10-10 18:00"
      ]
     },
     "execution_count": 3,
     "metadata": {},
     "output_type": "execute_result"
    }
   ],
   "source": [
    "timestamps"
   ]
  },
  {
   "cell_type": "code",
   "execution_count": 4,
   "id": "alternate-victory",
   "metadata": {
    "execution": {
     "iopub.execute_input": "2021-10-10T16:30:08.371461Z",
     "iopub.status.busy": "2021-10-10T16:30:08.368842Z",
     "iopub.status.idle": "2021-10-10T16:30:09.108289Z",
     "shell.execute_reply": "2021-10-10T16:30:09.109425Z"
    },
    "papermill": {
     "duration": 0.772429,
     "end_time": "2021-10-10T16:30:09.109837",
     "exception": false,
     "start_time": "2021-10-10T16:30:08.337408",
     "status": "completed"
    },
    "tags": []
   },
   "outputs": [],
   "source": [
    "df = pd.read_sql(\"select * from EBAY_TOP_BERLIN where record_time in (select distinct record_time from EBAY_TOP_BERLIN order by record_time desc limit 2)\", sqlite3.connect(\"UsedObjects.db\"))"
   ]
  },
  {
   "cell_type": "code",
   "execution_count": 5,
   "id": "popular-active",
   "metadata": {
    "execution": {
     "iopub.execute_input": "2021-10-10T16:30:09.181718Z",
     "iopub.status.busy": "2021-10-10T16:30:09.170142Z",
     "iopub.status.idle": "2021-10-10T16:30:09.197680Z",
     "shell.execute_reply": "2021-10-10T16:30:09.199057Z"
    },
    "papermill": {
     "duration": 0.067895,
     "end_time": "2021-10-10T16:30:09.199481",
     "exception": false,
     "start_time": "2021-10-10T16:30:09.131586",
     "status": "completed"
    },
    "tags": []
   },
   "outputs": [],
   "source": [
    "df_pivot = df.pivot_table(index=\"PRODUCT\", columns = \"RECORD_TIME\", values = \"LISTING_COUNT\")"
   ]
  },
  {
   "cell_type": "code",
   "execution_count": 6,
   "id": "union-huntington",
   "metadata": {
    "execution": {
     "iopub.execute_input": "2021-10-10T16:30:09.257327Z",
     "iopub.status.busy": "2021-10-10T16:30:09.255150Z",
     "iopub.status.idle": "2021-10-10T16:30:09.260608Z",
     "shell.execute_reply": "2021-10-10T16:30:09.261888Z"
    },
    "papermill": {
     "duration": 0.040849,
     "end_time": "2021-10-10T16:30:09.262334",
     "exception": false,
     "start_time": "2021-10-10T16:30:09.221485",
     "status": "completed"
    },
    "tags": []
   },
   "outputs": [],
   "source": [
    "df_pivot.columns = [\"stamp_1\", \"stamp_2\"]\n",
    "df_pivot_diff = df_pivot.diff(axis=1)"
   ]
  },
  {
   "cell_type": "code",
   "execution_count": 7,
   "id": "fifth-motion",
   "metadata": {
    "execution": {
     "iopub.execute_input": "2021-10-10T16:30:09.318905Z",
     "iopub.status.busy": "2021-10-10T16:30:09.316118Z",
     "iopub.status.idle": "2021-10-10T16:30:10.853640Z",
     "shell.execute_reply": "2021-10-10T16:30:10.855108Z"
    },
    "papermill": {
     "duration": 1.571431,
     "end_time": "2021-10-10T16:30:10.855559",
     "exception": false,
     "start_time": "2021-10-10T16:30:09.284128",
     "status": "completed"
    },
    "tags": []
   },
   "outputs": [
    {
     "data": {
      "text/plain": [
       "<AxesSubplot:ylabel='PRODUCT'>"
      ]
     },
     "execution_count": 7,
     "metadata": {},
     "output_type": "execute_result"
    },
    {
     "data": {
      "image/png": "[encoded data removed]",
      "text/plain": [
       "<Figure size 432x288 with 1 Axes>"
      ]
     },
     "metadata": {
      "needs_background": "light"
     },
     "output_type": "display_data"
    }
   ],
   "source": [
    "df_pivot_diff.sort_values(\"stamp_2\", ascending = False)[\"stamp_2\"].head(10).plot.barh()"
   ]
  },
  {
   "cell_type": "code",
   "execution_count": null,
   "id": "extra-executive",
   "metadata": {
    "papermill": {
     "duration": 0.021904,
     "end_time": "2021-10-10T16:30:10.901907",
     "exception": false,
     "start_time": "2021-10-10T16:30:10.880003",
     "status": "completed"
    },
    "tags": []
   },
   "outputs": [],
   "source": []
  }
 ],
 "metadata": {
  "kernelspec": {
   "display_name": "Python 3",
   "language": "python",
   "name": "python3"
  },
  "language_info": {
   "codemirror_mode": {
    "name": "ipython",
    "version": 3
   },
   "file_extension": ".py",
   "mimetype": "text/x-python",
   "name": "python",
   "nbconvert_exporter": "python",
   "pygments_lexer": "ipython3",
   "version": "3.9.5"
  },
  "papermill": {
   "default_parameters": {},
   "duration": 7.838966,
   "end_time": "2021-10-10T16:30:12.214481",
   "environment_variables": {},
   "exception": null,
   "input_path": "eBay_Overview.ipynb",
   "output_path": "eBay_Overview.ipynb",
   "parameters": {},
   "start_time": "2021-10-10T16:30:04.375515",
   "version": "2.3.3"
  }
 },
 "nbformat": 4,
 "nbformat_minor": 5
}