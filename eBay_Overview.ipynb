{
 "cells": [
  {
   "cell_type": "code",
   "execution_count": 1,
   "id": "reverse-picking",
   "metadata": {
    "execution": {
     "iopub.execute_input": "2021-10-25T00:00:06.678945Z",
     "iopub.status.busy": "2021-10-25T00:00:06.676983Z",
     "iopub.status.idle": "2021-10-25T00:00:07.488309Z",
     "shell.execute_reply": "2021-10-25T00:00:07.489836Z"
    },
    "papermill": {
     "duration": 0.864347,
     "end_time": "2021-10-25T00:00:07.490523",
     "exception": false,
     "start_time": "2021-10-25T00:00:06.626176",
     "status": "completed"
    },
    "tags": []
   },
   "outputs": [],
   "source": [
    "import pandas as pd\n",
    "import sqlite3"
   ]
  },
  {
   "cell_type": "code",
   "execution_count": 2,
   "id": "innovative-syndrome",
   "metadata": {
    "execution": {
     "iopub.execute_input": "2021-10-25T00:00:07.542223Z",
     "iopub.status.busy": "2021-10-25T00:00:07.540077Z",
     "iopub.status.idle": "2021-10-25T00:00:08.171963Z",
     "shell.execute_reply": "2021-10-25T00:00:08.173128Z"
    },
    "papermill": {
     "duration": 0.662368,
     "end_time": "2021-10-25T00:00:08.173545",
     "exception": false,
     "start_time": "2021-10-25T00:00:07.511177",
     "status": "completed"
    },
    "tags": []
   },
   "outputs": [],
   "source": [
    "timestamps = pd.read_sql(\"select distinct record_time from EBAY_TOP_BERLIN order by record_time desc limit 2\", sqlite3.connect(\"UsedObjects.db\"))"
   ]
  },
  {
   "cell_type": "code",
   "execution_count": 3,
   "id": "periodic-identification",
   "metadata": {
    "execution": {
     "iopub.execute_input": "2021-10-25T00:00:08.275163Z",
     "iopub.status.busy": "2021-10-25T00:00:08.273131Z",
     "iopub.status.idle": "2021-10-25T00:00:08.295559Z",
     "shell.execute_reply": "2021-10-25T00:00:08.296907Z"
    },
    "papermill": {
     "duration": 0.076402,
     "end_time": "2021-10-25T00:00:08.297388",
     "exception": false,
     "start_time": "2021-10-25T00:00:08.220986",
     "status": "completed"
    },
    "tags": []
   },
   "outputs": [
    {
     "data": {
      "text/html": [
       "<div>\n",
       "<style scoped>\n",
       "    .dataframe tbody tr th:only-of-type {\n",
       "        vertical-align: middle;\n",
       "    }\n",
       "\n",
       "    .dataframe tbody tr th {\n",
       "        vertical-align: top;\n",
       "    }\n",
       "\n",
       "    .dataframe thead th {\n",
       "        text-align: right;\n",
       "    }\n",
       "</style>\n",
       "<table border=\"1\" class=\"dataframe\">\n",
       "  <thead>\n",
       "    <tr style=\"text-align: right;\">\n",
       "      <th></th>\n",
       "      <th>RECORD_TIME</th>\n",
       "    </tr>\n",
       "  </thead>\n",
       "  <tbody>\n",
       "    <tr>\n",
       "      <th>0</th>\n",
       "      <td>2021-10-25 02:00</td>\n",
       "    </tr>\n",
       "    <tr>\n",
       "      <th>1</th>\n",
       "      <td>2021-10-25 01:30</td>\n",
       "    </tr>\n",
       "  </tbody>\n",
       "</table>\n",
       "</div>"
      ],
      "text/plain": [
       "        RECORD_TIME\n",
       "0  2021-10-25 02:00\n",
       "1  2021-10-25 01:30"
      ]
     },
     "execution_count": 3,
     "metadata": {},
     "output_type": "execute_result"
    }
   ],
   "source": [
    "timestamps"
   ]
  },
  {
   "cell_type": "code",
   "execution_count": 4,
   "id": "alternate-victory",
   "metadata": {
    "execution": {
     "iopub.execute_input": "2021-10-25T00:00:08.349453Z",
     "iopub.status.busy": "2021-10-25T00:00:08.347097Z",
     "iopub.status.idle": "2021-10-25T00:00:09.286319Z",
     "shell.execute_reply": "2021-10-25T00:00:09.287519Z"
    },
    "papermill": {
     "duration": 0.969605,
     "end_time": "2021-10-25T00:00:09.287916",
     "exception": false,
     "start_time": "2021-10-25T00:00:08.318311",
     "status": "completed"
    },
    "tags": []
   },
   "outputs": [],
   "source": [
    "df = pd.read_sql(\"select * from EBAY_TOP_BERLIN where record_time in (select distinct record_time from EBAY_TOP_BERLIN order by record_time desc limit 2)\", sqlite3.connect(\"UsedObjects.db\"))"
   ]
  },
  {
   "cell_type": "code",
   "execution_count": 5,
   "id": "popular-active",
   "metadata": {
    "execution": {
     "iopub.execute_input": "2021-10-25T00:00:09.353042Z",
     "iopub.status.busy": "2021-10-25T00:00:09.345746Z",
     "iopub.status.idle": "2021-10-25T00:00:09.373796Z",
     "shell.execute_reply": "2021-10-25T00:00:09.375189Z"
    },
    "papermill": {
     "duration": 0.066956,
     "end_time": "2021-10-25T00:00:09.375633",
     "exception": false,
     "start_time": "2021-10-25T00:00:09.308677",
     "status": "completed"
    },
    "tags": []
   },
   "outputs": [],
   "source": [
    "df_pivot = df.pivot_table(index=\"PRODUCT\", columns = \"RECORD_TIME\", values = \"LISTING_COUNT\")"
   ]
  },
  {
   "cell_type": "code",
   "execution_count": 6,
   "id": "union-huntington",
   "metadata": {
    "execution": {
     "iopub.execute_input": "2021-10-25T00:00:09.432282Z",
     "iopub.status.busy": "2021-10-25T00:00:09.430232Z",
     "iopub.status.idle": "2021-10-25T00:00:09.435765Z",
     "shell.execute_reply": "2021-10-25T00:00:09.437168Z"
    },
    "papermill": {
     "duration": 0.041562,
     "end_time": "2021-10-25T00:00:09.437619",
     "exception": false,
     "start_time": "2021-10-25T00:00:09.396057",
     "status": "completed"
    },
    "tags": []
   },
   "outputs": [],
   "source": [
    "df_pivot.columns = [\"stamp_1\", \"stamp_2\"]\n",
    "df_pivot_diff = df_pivot.diff(axis=1)"
   ]
  },
  {
   "cell_type": "code",
   "execution_count": 7,
   "id": "fifth-motion",
   "metadata": {
    "execution": {
     "iopub.execute_input": "2021-10-25T00:00:09.491722Z",
     "iopub.status.busy": "2021-10-25T00:00:09.489307Z",
     "iopub.status.idle": "2021-10-25T00:00:10.985210Z",
     "shell.execute_reply": "2021-10-25T00:00:10.986496Z"
    },
    "papermill": {
     "duration": 1.52877,
     "end_time": "2021-10-25T00:00:10.986915",
     "exception": false,
     "start_time": "2021-10-25T00:00:09.458145",
     "status": "completed"
    },
    "tags": []
   },
   "outputs": [
    {
     "data": {
      "text/plain": [
       "<AxesSubplot:ylabel='PRODUCT'>"
      ]
     },
     "execution_count": 7,
     "metadata": {},
     "output_type": "execute_result"
    },
    {
     "data": {
      "image/png": "[encoded data removed]",
      "text/plain": [
       "<Figure size 432x288 with 1 Axes>"
      ]
     },
     "metadata": {
      "needs_background": "light"
     },
     "output_type": "display_data"
    }
   ],
   "source": [
    "df_pivot_diff.sort_values(\"stamp_2\", ascending = False)[\"stamp_2\"].head(10).plot.barh()"
   ]
  },
  {
   "cell_type": "code",
   "execution_count": null,
   "id": "extra-executive",
   "metadata": {
    "papermill": {
     "duration": 0.022486,
     "end_time": "2021-10-25T00:00:11.033636",
     "exception": false,
     "start_time": "2021-10-25T00:00:11.011150",
     "status": "completed"
    },
    "tags": []
   },
   "outputs": [],
   "source": []
  }
 ],
 "metadata": {
  "kernelspec": {
   "display_name": "Python 3",
   "language": "python",
   "name": "python3"
  },
  "language_info": {
   "codemirror_mode": {
    "name": "ipython",
    "version": 3
   },
   "file_extension": ".py",
   "mimetype": "text/x-python",
   "name": "python",
   "nbconvert_exporter": "python",
   "pygments_lexer": "ipython3",
   "version": "3.9.5"
  },
  "papermill": {
   "default_parameters": {},
   "duration": 7.474663,
   "end_time": "2021-10-25T00:00:11.675167",
   "environment_variables": {},
   "exception": null,
   "input_path": "eBay_Overview.ipynb",
   "output_path": "eBay_Overview.ipynb",
   "parameters": {},
   "start_time": "2021-10-25T00:00:04.200504",
   "version": "2.3.3"
  }
 },
 "nbformat": 4,
 "nbformat_minor": 5
}