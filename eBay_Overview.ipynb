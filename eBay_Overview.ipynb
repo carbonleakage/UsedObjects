{
 "cells": [
  {
   "cell_type": "code",
   "execution_count": 1,
   "id": "reverse-picking",
   "metadata": {
    "execution": {
     "iopub.execute_input": "2021-09-16T18:30:06.603925Z",
     "iopub.status.busy": "2021-09-16T18:30:06.601920Z",
     "iopub.status.idle": "2021-09-16T18:30:07.403100Z",
     "shell.execute_reply": "2021-09-16T18:30:07.404555Z"
    },
    "papermill": {
     "duration": 0.852928,
     "end_time": "2021-09-16T18:30:07.405232",
     "exception": false,
     "start_time": "2021-09-16T18:30:06.552304",
     "status": "completed"
    },
    "tags": []
   },
   "outputs": [],
   "source": [
    "import pandas as pd\n",
    "import sqlite3"
   ]
  },
  {
   "cell_type": "code",
   "execution_count": 2,
   "id": "innovative-syndrome",
   "metadata": {
    "execution": {
     "iopub.execute_input": "2021-09-16T18:30:07.456025Z",
     "iopub.status.busy": "2021-09-16T18:30:07.453656Z",
     "iopub.status.idle": "2021-09-16T18:30:07.754433Z",
     "shell.execute_reply": "2021-09-16T18:30:07.755775Z"
    },
    "papermill": {
     "duration": 0.330573,
     "end_time": "2021-09-16T18:30:07.756198",
     "exception": false,
     "start_time": "2021-09-16T18:30:07.425625",
     "status": "completed"
    },
    "tags": []
   },
   "outputs": [],
   "source": [
    "timestamps = pd.read_sql(\"select distinct record_time from EBAY_TOP_BERLIN order by record_time desc limit 2\", sqlite3.connect(\"UsedObjects.db\"))"
   ]
  },
  {
   "cell_type": "code",
   "execution_count": 3,
   "id": "periodic-identification",
   "metadata": {
    "execution": {
     "iopub.execute_input": "2021-09-16T18:30:07.822421Z",
     "iopub.status.busy": "2021-09-16T18:30:07.817141Z",
     "iopub.status.idle": "2021-09-16T18:30:07.838323Z",
     "shell.execute_reply": "2021-09-16T18:30:07.840070Z"
    },
    "papermill": {
     "duration": 0.064964,
     "end_time": "2021-09-16T18:30:07.840638",
     "exception": false,
     "start_time": "2021-09-16T18:30:07.775674",
     "status": "completed"
    },
    "tags": []
   },
   "outputs": [
    {
     "data": {
      "text/html": [
       "<div>\n",
       "<style scoped>\n",
       "    .dataframe tbody tr th:only-of-type {\n",
       "        vertical-align: middle;\n",
       "    }\n",
       "\n",
       "    .dataframe tbody tr th {\n",
       "        vertical-align: top;\n",
       "    }\n",
       "\n",
       "    .dataframe thead th {\n",
       "        text-align: right;\n",
       "    }\n",
       "</style>\n",
       "<table border=\"1\" class=\"dataframe\">\n",
       "  <thead>\n",
       "    <tr style=\"text-align: right;\">\n",
       "      <th></th>\n",
       "      <th>RECORD_TIME</th>\n",
       "    </tr>\n",
       "  </thead>\n",
       "  <tbody>\n",
       "    <tr>\n",
       "      <th>0</th>\n",
       "      <td>2021-09-16 20:30</td>\n",
       "    </tr>\n",
       "    <tr>\n",
       "      <th>1</th>\n",
       "      <td>2021-09-16 20:00</td>\n",
       "    </tr>\n",
       "  </tbody>\n",
       "</table>\n",
       "</div>"
      ],
      "text/plain": [
       "        RECORD_TIME\n",
       "0  2021-09-16 20:30\n",
       "1  2021-09-16 20:00"
      ]
     },
     "execution_count": 3,
     "metadata": {},
     "output_type": "execute_result"
    }
   ],
   "source": [
    "timestamps"
   ]
  },
  {
   "cell_type": "code",
   "execution_count": 4,
   "id": "alternate-victory",
   "metadata": {
    "execution": {
     "iopub.execute_input": "2021-09-16T18:30:07.891881Z",
     "iopub.status.busy": "2021-09-16T18:30:07.889544Z",
     "iopub.status.idle": "2021-09-16T18:30:08.338213Z",
     "shell.execute_reply": "2021-09-16T18:30:08.339383Z"
    },
    "papermill": {
     "duration": 0.478604,
     "end_time": "2021-09-16T18:30:08.339794",
     "exception": false,
     "start_time": "2021-09-16T18:30:07.861190",
     "status": "completed"
    },
    "tags": []
   },
   "outputs": [],
   "source": [
    "df = pd.read_sql(\"select * from EBAY_TOP_BERLIN where record_time in (select distinct record_time from EBAY_TOP_BERLIN order by record_time desc limit 2)\", sqlite3.connect(\"UsedObjects.db\"))"
   ]
  },
  {
   "cell_type": "code",
   "execution_count": 5,
   "id": "popular-active",
   "metadata": {
    "execution": {
     "iopub.execute_input": "2021-09-16T18:30:08.420791Z",
     "iopub.status.busy": "2021-09-16T18:30:08.407960Z",
     "iopub.status.idle": "2021-09-16T18:30:08.437098Z",
     "shell.execute_reply": "2021-09-16T18:30:08.438391Z"
    },
    "papermill": {
     "duration": 0.07136,
     "end_time": "2021-09-16T18:30:08.438858",
     "exception": false,
     "start_time": "2021-09-16T18:30:08.367498",
     "status": "completed"
    },
    "tags": []
   },
   "outputs": [],
   "source": [
    "df_pivot = df.pivot_table(index=\"PRODUCT\", columns = \"RECORD_TIME\", values = \"LISTING_COUNT\")"
   ]
  },
  {
   "cell_type": "code",
   "execution_count": 6,
   "id": "union-huntington",
   "metadata": {
    "execution": {
     "iopub.execute_input": "2021-09-16T18:30:08.494721Z",
     "iopub.status.busy": "2021-09-16T18:30:08.492695Z",
     "iopub.status.idle": "2021-09-16T18:30:08.499576Z",
     "shell.execute_reply": "2021-09-16T18:30:08.498138Z"
    },
    "papermill": {
     "duration": 0.041242,
     "end_time": "2021-09-16T18:30:08.499931",
     "exception": false,
     "start_time": "2021-09-16T18:30:08.458689",
     "status": "completed"
    },
    "tags": []
   },
   "outputs": [],
   "source": [
    "df_pivot.columns = [\"stamp_1\", \"stamp_2\"]\n",
    "df_pivot_diff = df_pivot.diff(axis=1)"
   ]
  },
  {
   "cell_type": "code",
   "execution_count": 7,
   "id": "fifth-motion",
   "metadata": {
    "execution": {
     "iopub.execute_input": "2021-09-16T18:30:08.554130Z",
     "iopub.status.busy": "2021-09-16T18:30:08.551774Z",
     "iopub.status.idle": "2021-09-16T18:30:10.014466Z",
     "shell.execute_reply": "2021-09-16T18:30:10.015806Z"
    },
    "papermill": {
     "duration": 1.4951,
     "end_time": "2021-09-16T18:30:10.016226",
     "exception": false,
     "start_time": "2021-09-16T18:30:08.521126",
     "status": "completed"
    },
    "tags": []
   },
   "outputs": [
    {
     "data": {
      "text/plain": [
       "<AxesSubplot:ylabel='PRODUCT'>"
      ]
     },
     "execution_count": 7,
     "metadata": {},
     "output_type": "execute_result"
    },
    {
     "data": {
      "image/png": "[encoded data removed]",
      "text/plain": [
       "<Figure size 432x288 with 1 Axes>"
      ]
     },
     "metadata": {
      "needs_background": "light"
     },
     "output_type": "display_data"
    }
   ],
   "source": [
    "df_pivot_diff.sort_values(\"stamp_2\", ascending = False)[\"stamp_2\"].head(10).plot.barh()"
   ]
  },
  {
   "cell_type": "code",
   "execution_count": null,
   "id": "extra-executive",
   "metadata": {
    "papermill": {
     "duration": 0.021763,
     "end_time": "2021-09-16T18:30:10.062410",
     "exception": false,
     "start_time": "2021-09-16T18:30:10.040647",
     "status": "completed"
    },
    "tags": []
   },
   "outputs": [],
   "source": []
  }
 ],
 "metadata": {
  "kernelspec": {
   "display_name": "Python 3",
   "language": "python",
   "name": "python3"
  },
  "language_info": {
   "codemirror_mode": {
    "name": "ipython",
    "version": 3
   },
   "file_extension": ".py",
   "mimetype": "text/x-python",
   "name": "python",
   "nbconvert_exporter": "python",
   "pygments_lexer": "ipython3",
   "version": "3.9.5"
  },
  "papermill": {
   "default_parameters": {},
   "duration": 6.556413,
   "end_time": "2021-09-16T18:30:10.704875",
   "environment_variables": {},
   "exception": null,
   "input_path": "eBay_Overview.ipynb",
   "output_path": "eBay_Overview.ipynb",
   "parameters": {},
   "start_time": "2021-09-16T18:30:04.148462",
   "version": "2.3.3"
  }
 },
 "nbformat": 4,
 "nbformat_minor": 5
}