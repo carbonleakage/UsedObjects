{
 "cells": [
  {
   "cell_type": "code",
   "execution_count": 1,
   "id": "reverse-picking",
   "metadata": {
    "execution": {
     "iopub.execute_input": "2021-11-14T12:30:07.881499Z",
     "iopub.status.busy": "2021-11-14T12:30:07.878824Z",
     "iopub.status.idle": "2021-11-14T12:30:08.841276Z",
     "shell.execute_reply": "2021-11-14T12:30:08.838483Z"
    },
    "papermill": {
     "duration": 1.011328,
     "end_time": "2021-11-14T12:30:08.841767",
     "exception": false,
     "start_time": "2021-11-14T12:30:07.830439",
     "status": "completed"
    },
    "tags": []
   },
   "outputs": [],
   "source": [
    "import pandas as pd\n",
    "import sqlite3"
   ]
  },
  {
   "cell_type": "code",
   "execution_count": 2,
   "id": "innovative-syndrome",
   "metadata": {
    "execution": {
     "iopub.execute_input": "2021-11-14T12:30:08.903191Z",
     "iopub.status.busy": "2021-11-14T12:30:08.901028Z",
     "iopub.status.idle": "2021-11-14T12:30:09.728487Z",
     "shell.execute_reply": "2021-11-14T12:30:09.730015Z"
    },
    "papermill": {
     "duration": 0.861654,
     "end_time": "2021-11-14T12:30:09.730524",
     "exception": false,
     "start_time": "2021-11-14T12:30:08.868870",
     "status": "completed"
    },
    "tags": []
   },
   "outputs": [],
   "source": [
    "timestamps = pd.read_sql(\"select distinct record_time from EBAY_TOP_BERLIN order by record_time desc limit 2\", sqlite3.connect(\"UsedObjects.db\"))"
   ]
  },
  {
   "cell_type": "code",
   "execution_count": 3,
   "id": "periodic-identification",
   "metadata": {
    "execution": {
     "iopub.execute_input": "2021-11-14T12:30:09.803645Z",
     "iopub.status.busy": "2021-11-14T12:30:09.800486Z",
     "iopub.status.idle": "2021-11-14T12:30:09.825835Z",
     "shell.execute_reply": "2021-11-14T12:30:09.827233Z"
    },
    "papermill": {
     "duration": 0.076794,
     "end_time": "2021-11-14T12:30:09.827723",
     "exception": false,
     "start_time": "2021-11-14T12:30:09.750929",
     "status": "completed"
    },
    "tags": []
   },
   "outputs": [
    {
     "data": {
      "text/html": [
       "<div>\n",
       "<style scoped>\n",
       "    .dataframe tbody tr th:only-of-type {\n",
       "        vertical-align: middle;\n",
       "    }\n",
       "\n",
       "    .dataframe tbody tr th {\n",
       "        vertical-align: top;\n",
       "    }\n",
       "\n",
       "    .dataframe thead th {\n",
       "        text-align: right;\n",
       "    }\n",
       "</style>\n",
       "<table border=\"1\" class=\"dataframe\">\n",
       "  <thead>\n",
       "    <tr style=\"text-align: right;\">\n",
       "      <th></th>\n",
       "      <th>RECORD_TIME</th>\n",
       "    </tr>\n",
       "  </thead>\n",
       "  <tbody>\n",
       "    <tr>\n",
       "      <th>0</th>\n",
       "      <td>2021-11-14 13:30</td>\n",
       "    </tr>\n",
       "    <tr>\n",
       "      <th>1</th>\n",
       "      <td>2021-11-14 13:00</td>\n",
       "    </tr>\n",
       "  </tbody>\n",
       "</table>\n",
       "</div>"
      ],
      "text/plain": [
       "        RECORD_TIME\n",
       "0  2021-11-14 13:30\n",
       "1  2021-11-14 13:00"
      ]
     },
     "execution_count": 3,
     "metadata": {},
     "output_type": "execute_result"
    }
   ],
   "source": [
    "timestamps"
   ]
  },
  {
   "cell_type": "code",
   "execution_count": 4,
   "id": "alternate-victory",
   "metadata": {
    "execution": {
     "iopub.execute_input": "2021-11-14T12:30:09.882617Z",
     "iopub.status.busy": "2021-11-14T12:30:09.880363Z",
     "iopub.status.idle": "2021-11-14T12:30:11.073571Z",
     "shell.execute_reply": "2021-11-14T12:30:11.075170Z"
    },
    "papermill": {
     "duration": 1.22729,
     "end_time": "2021-11-14T12:30:11.075683",
     "exception": false,
     "start_time": "2021-11-14T12:30:09.848393",
     "status": "completed"
    },
    "tags": []
   },
   "outputs": [],
   "source": [
    "df = pd.read_sql(\"select * from EBAY_TOP_BERLIN where record_time in (select distinct record_time from EBAY_TOP_BERLIN order by record_time desc limit 2)\", sqlite3.connect(\"UsedObjects.db\"))"
   ]
  },
  {
   "cell_type": "code",
   "execution_count": 5,
   "id": "popular-active",
   "metadata": {
    "execution": {
     "iopub.execute_input": "2021-11-14T12:30:11.150754Z",
     "iopub.status.busy": "2021-11-14T12:30:11.141385Z",
     "iopub.status.idle": "2021-11-14T12:30:11.174507Z",
     "shell.execute_reply": "2021-11-14T12:30:11.175762Z"
    },
    "papermill": {
     "duration": 0.077488,
     "end_time": "2021-11-14T12:30:11.176208",
     "exception": false,
     "start_time": "2021-11-14T12:30:11.098720",
     "status": "completed"
    },
    "tags": []
   },
   "outputs": [],
   "source": [
    "df_pivot = df.pivot_table(index=\"PRODUCT\", columns = \"RECORD_TIME\", values = \"LISTING_COUNT\")"
   ]
  },
  {
   "cell_type": "code",
   "execution_count": 6,
   "id": "union-huntington",
   "metadata": {
    "execution": {
     "iopub.execute_input": "2021-11-14T12:30:11.235913Z",
     "iopub.status.busy": "2021-11-14T12:30:11.233570Z",
     "iopub.status.idle": "2021-11-14T12:30:11.239102Z",
     "shell.execute_reply": "2021-11-14T12:30:11.241064Z"
    },
    "papermill": {
     "duration": 0.04406,
     "end_time": "2021-11-14T12:30:11.241554",
     "exception": false,
     "start_time": "2021-11-14T12:30:11.197494",
     "status": "completed"
    },
    "tags": []
   },
   "outputs": [],
   "source": [
    "df_pivot.columns = [\"stamp_1\", \"stamp_2\"]\n",
    "df_pivot_diff = df_pivot.diff(axis=1)"
   ]
  },
  {
   "cell_type": "code",
   "execution_count": 7,
   "id": "fifth-motion",
   "metadata": {
    "execution": {
     "iopub.execute_input": "2021-11-14T12:30:11.301524Z",
     "iopub.status.busy": "2021-11-14T12:30:11.298880Z",
     "iopub.status.idle": "2021-11-14T12:30:13.186854Z",
     "shell.execute_reply": "2021-11-14T12:30:13.188902Z"
    },
    "papermill": {
     "duration": 1.927202,
     "end_time": "2021-11-14T12:30:13.189519",
     "exception": false,
     "start_time": "2021-11-14T12:30:11.262317",
     "status": "completed"
    },
    "tags": []
   },
   "outputs": [
    {
     "data": {
      "text/plain": [
       "<AxesSubplot:ylabel='PRODUCT'>"
      ]
     },
     "execution_count": 7,
     "metadata": {},
     "output_type": "execute_result"
    },
    {
     "data": {
      "image/png": "[encoded data removed]",
      "text/plain": [
       "<Figure size 432x288 with 1 Axes>"
      ]
     },
     "metadata": {
      "needs_background": "light"
     },
     "output_type": "display_data"
    }
   ],
   "source": [
    "df_pivot_diff.sort_values(\"stamp_2\", ascending = False)[\"stamp_2\"].head(10).plot.barh()"
   ]
  },
  {
   "cell_type": "code",
   "execution_count": null,
   "id": "extra-executive",
   "metadata": {
    "papermill": {
     "duration": 0.023692,
     "end_time": "2021-11-14T12:30:13.236997",
     "exception": false,
     "start_time": "2021-11-14T12:30:13.213305",
     "status": "completed"
    },
    "tags": []
   },
   "outputs": [],
   "source": []
  }
 ],
 "metadata": {
  "kernelspec": {
   "display_name": "Python 3",
   "language": "python",
   "name": "python3"
  },
  "language_info": {
   "codemirror_mode": {
    "name": "ipython",
    "version": 3
   },
   "file_extension": ".py",
   "mimetype": "text/x-python",
   "name": "python",
   "nbconvert_exporter": "python",
   "pygments_lexer": "ipython3",
   "version": "3.9.5"
  },
  "papermill": {
   "default_parameters": {},
   "duration": 9.943489,
   "end_time": "2021-11-14T12:30:15.037689",
   "environment_variables": {},
   "exception": null,
   "input_path": "eBay_Overview.ipynb",
   "output_path": "eBay_Overview.ipynb",
   "parameters": {},
   "start_time": "2021-11-14T12:30:05.094200",
   "version": "2.3.3"
  }
 },
 "nbformat": 4,
 "nbformat_minor": 5
}