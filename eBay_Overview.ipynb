{
 "cells": [
  {
   "cell_type": "code",
   "execution_count": 1,
   "id": "reverse-picking",
   "metadata": {
    "execution": {
     "iopub.execute_input": "2021-10-15T21:30:07.143306Z",
     "iopub.status.busy": "2021-10-15T21:30:07.141317Z",
     "iopub.status.idle": "2021-10-15T21:30:07.948786Z",
     "shell.execute_reply": "2021-10-15T21:30:07.947160Z"
    },
    "papermill": {
     "duration": 0.859277,
     "end_time": "2021-10-15T21:30:07.949198",
     "exception": false,
     "start_time": "2021-10-15T21:30:07.089921",
     "status": "completed"
    },
    "tags": []
   },
   "outputs": [],
   "source": [
    "import pandas as pd\n",
    "import sqlite3"
   ]
  },
  {
   "cell_type": "code",
   "execution_count": 2,
   "id": "innovative-syndrome",
   "metadata": {
    "execution": {
     "iopub.execute_input": "2021-10-15T21:30:07.999399Z",
     "iopub.status.busy": "2021-10-15T21:30:07.997503Z",
     "iopub.status.idle": "2021-10-15T21:30:08.546271Z",
     "shell.execute_reply": "2021-10-15T21:30:08.547402Z"
    },
    "papermill": {
     "duration": 0.57811,
     "end_time": "2021-10-15T21:30:08.547809",
     "exception": false,
     "start_time": "2021-10-15T21:30:07.969699",
     "status": "completed"
    },
    "tags": []
   },
   "outputs": [],
   "source": [
    "timestamps = pd.read_sql(\"select distinct record_time from EBAY_TOP_BERLIN order by record_time desc limit 2\", sqlite3.connect(\"UsedObjects.db\"))"
   ]
  },
  {
   "cell_type": "code",
   "execution_count": 3,
   "id": "periodic-identification",
   "metadata": {
    "execution": {
     "iopub.execute_input": "2021-10-15T21:30:08.631593Z",
     "iopub.status.busy": "2021-10-15T21:30:08.626468Z",
     "iopub.status.idle": "2021-10-15T21:30:08.647709Z",
     "shell.execute_reply": "2021-10-15T21:30:08.649336Z"
    },
    "papermill": {
     "duration": 0.072477,
     "end_time": "2021-10-15T21:30:08.649839",
     "exception": false,
     "start_time": "2021-10-15T21:30:08.577362",
     "status": "completed"
    },
    "tags": []
   },
   "outputs": [
    {
     "data": {
      "text/html": [
       "<div>\n",
       "<style scoped>\n",
       "    .dataframe tbody tr th:only-of-type {\n",
       "        vertical-align: middle;\n",
       "    }\n",
       "\n",
       "    .dataframe tbody tr th {\n",
       "        vertical-align: top;\n",
       "    }\n",
       "\n",
       "    .dataframe thead th {\n",
       "        text-align: right;\n",
       "    }\n",
       "</style>\n",
       "<table border=\"1\" class=\"dataframe\">\n",
       "  <thead>\n",
       "    <tr style=\"text-align: right;\">\n",
       "      <th></th>\n",
       "      <th>RECORD_TIME</th>\n",
       "    </tr>\n",
       "  </thead>\n",
       "  <tbody>\n",
       "    <tr>\n",
       "      <th>0</th>\n",
       "      <td>2021-10-15 23:30</td>\n",
       "    </tr>\n",
       "    <tr>\n",
       "      <th>1</th>\n",
       "      <td>2021-10-15 23:00</td>\n",
       "    </tr>\n",
       "  </tbody>\n",
       "</table>\n",
       "</div>"
      ],
      "text/plain": [
       "        RECORD_TIME\n",
       "0  2021-10-15 23:30\n",
       "1  2021-10-15 23:00"
      ]
     },
     "execution_count": 3,
     "metadata": {},
     "output_type": "execute_result"
    }
   ],
   "source": [
    "timestamps"
   ]
  },
  {
   "cell_type": "code",
   "execution_count": 4,
   "id": "alternate-victory",
   "metadata": {
    "execution": {
     "iopub.execute_input": "2021-10-15T21:30:08.703193Z",
     "iopub.status.busy": "2021-10-15T21:30:08.701146Z",
     "iopub.status.idle": "2021-10-15T21:30:09.508800Z",
     "shell.execute_reply": "2021-10-15T21:30:09.510208Z"
    },
    "papermill": {
     "duration": 0.838437,
     "end_time": "2021-10-15T21:30:09.510628",
     "exception": false,
     "start_time": "2021-10-15T21:30:08.672191",
     "status": "completed"
    },
    "tags": []
   },
   "outputs": [],
   "source": [
    "df = pd.read_sql(\"select * from EBAY_TOP_BERLIN where record_time in (select distinct record_time from EBAY_TOP_BERLIN order by record_time desc limit 2)\", sqlite3.connect(\"UsedObjects.db\"))"
   ]
  },
  {
   "cell_type": "code",
   "execution_count": 5,
   "id": "popular-active",
   "metadata": {
    "execution": {
     "iopub.execute_input": "2021-10-15T21:30:09.580105Z",
     "iopub.status.busy": "2021-10-15T21:30:09.568214Z",
     "iopub.status.idle": "2021-10-15T21:30:09.596652Z",
     "shell.execute_reply": "2021-10-15T21:30:09.598017Z"
    },
    "papermill": {
     "duration": 0.067413,
     "end_time": "2021-10-15T21:30:09.598433",
     "exception": false,
     "start_time": "2021-10-15T21:30:09.531020",
     "status": "completed"
    },
    "tags": []
   },
   "outputs": [],
   "source": [
    "df_pivot = df.pivot_table(index=\"PRODUCT\", columns = \"RECORD_TIME\", values = \"LISTING_COUNT\")"
   ]
  },
  {
   "cell_type": "code",
   "execution_count": 6,
   "id": "union-huntington",
   "metadata": {
    "execution": {
     "iopub.execute_input": "2021-10-15T21:30:09.653961Z",
     "iopub.status.busy": "2021-10-15T21:30:09.651832Z",
     "iopub.status.idle": "2021-10-15T21:30:09.657316Z",
     "shell.execute_reply": "2021-10-15T21:30:09.658514Z"
    },
    "papermill": {
     "duration": 0.040428,
     "end_time": "2021-10-15T21:30:09.658940",
     "exception": false,
     "start_time": "2021-10-15T21:30:09.618512",
     "status": "completed"
    },
    "tags": []
   },
   "outputs": [],
   "source": [
    "df_pivot.columns = [\"stamp_1\", \"stamp_2\"]\n",
    "df_pivot_diff = df_pivot.diff(axis=1)"
   ]
  },
  {
   "cell_type": "code",
   "execution_count": 7,
   "id": "fifth-motion",
   "metadata": {
    "execution": {
     "iopub.execute_input": "2021-10-15T21:30:09.716142Z",
     "iopub.status.busy": "2021-10-15T21:30:09.713451Z",
     "iopub.status.idle": "2021-10-15T21:30:11.197408Z",
     "shell.execute_reply": "2021-10-15T21:30:11.198705Z"
    },
    "papermill": {
     "duration": 1.517472,
     "end_time": "2021-10-15T21:30:11.199116",
     "exception": false,
     "start_time": "2021-10-15T21:30:09.681644",
     "status": "completed"
    },
    "tags": []
   },
   "outputs": [
    {
     "data": {
      "text/plain": [
       "<AxesSubplot:ylabel='PRODUCT'>"
      ]
     },
     "execution_count": 7,
     "metadata": {},
     "output_type": "execute_result"
    },
    {
     "data": {
      "image/png": "[encoded data removed]",
      "text/plain": [
       "<Figure size 432x288 with 1 Axes>"
      ]
     },
     "metadata": {
      "needs_background": "light"
     },
     "output_type": "display_data"
    }
   ],
   "source": [
    "df_pivot_diff.sort_values(\"stamp_2\", ascending = False)[\"stamp_2\"].head(10).plot.barh()"
   ]
  },
  {
   "cell_type": "code",
   "execution_count": null,
   "id": "extra-executive",
   "metadata": {
    "papermill": {
     "duration": 0.021875,
     "end_time": "2021-10-15T21:30:11.244604",
     "exception": false,
     "start_time": "2021-10-15T21:30:11.222729",
     "status": "completed"
    },
    "tags": []
   },
   "outputs": [],
   "source": []
  }
 ],
 "metadata": {
  "kernelspec": {
   "display_name": "Python 3",
   "language": "python",
   "name": "python3"
  },
  "language_info": {
   "codemirror_mode": {
    "name": "ipython",
    "version": 3
   },
   "file_extension": ".py",
   "mimetype": "text/x-python",
   "name": "python",
   "nbconvert_exporter": "python",
   "pygments_lexer": "ipython3",
   "version": "3.9.5"
  },
  "papermill": {
   "default_parameters": {},
   "duration": 7.822359,
   "end_time": "2021-10-15T21:30:12.501630",
   "environment_variables": {},
   "exception": null,
   "input_path": "eBay_Overview.ipynb",
   "output_path": "eBay_Overview.ipynb",
   "parameters": {},
   "start_time": "2021-10-15T21:30:04.679271",
   "version": "2.3.3"
  }
 },
 "nbformat": 4,
 "nbformat_minor": 5
}