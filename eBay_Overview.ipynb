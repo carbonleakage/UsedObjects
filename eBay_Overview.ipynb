{
 "cells": [
  {
   "cell_type": "code",
   "execution_count": 1,
   "id": "reverse-picking",
   "metadata": {
    "execution": {
     "iopub.execute_input": "2021-12-11T10:00:07.309787Z",
     "iopub.status.busy": "2021-12-11T10:00:07.307569Z",
     "iopub.status.idle": "2021-12-11T10:00:08.259737Z",
     "shell.execute_reply": "2021-12-11T10:00:08.261439Z"
    },
    "papermill": {
     "duration": 1.001185,
     "end_time": "2021-12-11T10:00:08.262183",
     "exception": false,
     "start_time": "2021-12-11T10:00:07.260998",
     "status": "completed"
    },
    "tags": []
   },
   "outputs": [],
   "source": [
    "import pandas as pd\n",
    "import sqlite3"
   ]
  },
  {
   "cell_type": "code",
   "execution_count": 2,
   "id": "innovative-syndrome",
   "metadata": {
    "execution": {
     "iopub.execute_input": "2021-12-11T10:00:08.324727Z",
     "iopub.status.busy": "2021-12-11T10:00:08.322396Z",
     "iopub.status.idle": "2021-12-11T10:00:09.388978Z",
     "shell.execute_reply": "2021-12-11T10:00:09.390306Z"
    },
    "papermill": {
     "duration": 1.101162,
     "end_time": "2021-12-11T10:00:09.390747",
     "exception": false,
     "start_time": "2021-12-11T10:00:08.289585",
     "status": "completed"
    },
    "tags": []
   },
   "outputs": [],
   "source": [
    "timestamps = pd.read_sql(\"select distinct record_time from EBAY_TOP_BERLIN order by record_time desc limit 2\", sqlite3.connect(\"UsedObjects.db\"))"
   ]
  },
  {
   "cell_type": "code",
   "execution_count": 3,
   "id": "periodic-identification",
   "metadata": {
    "execution": {
     "iopub.execute_input": "2021-12-11T10:00:09.464403Z",
     "iopub.status.busy": "2021-12-11T10:00:09.458381Z",
     "iopub.status.idle": "2021-12-11T10:00:09.481811Z",
     "shell.execute_reply": "2021-12-11T10:00:09.483263Z"
    },
    "papermill": {
     "duration": 0.072249,
     "end_time": "2021-12-11T10:00:09.483747",
     "exception": false,
     "start_time": "2021-12-11T10:00:09.411498",
     "status": "completed"
    },
    "tags": []
   },
   "outputs": [
    {
     "data": {
      "text/html": [
       "<div>\n",
       "<style scoped>\n",
       "    .dataframe tbody tr th:only-of-type {\n",
       "        vertical-align: middle;\n",
       "    }\n",
       "\n",
       "    .dataframe tbody tr th {\n",
       "        vertical-align: top;\n",
       "    }\n",
       "\n",
       "    .dataframe thead th {\n",
       "        text-align: right;\n",
       "    }\n",
       "</style>\n",
       "<table border=\"1\" class=\"dataframe\">\n",
       "  <thead>\n",
       "    <tr style=\"text-align: right;\">\n",
       "      <th></th>\n",
       "      <th>RECORD_TIME</th>\n",
       "    </tr>\n",
       "  </thead>\n",
       "  <tbody>\n",
       "    <tr>\n",
       "      <th>0</th>\n",
       "      <td>2021-12-11 11:00</td>\n",
       "    </tr>\n",
       "    <tr>\n",
       "      <th>1</th>\n",
       "      <td>2021-12-11 10:30</td>\n",
       "    </tr>\n",
       "  </tbody>\n",
       "</table>\n",
       "</div>"
      ],
      "text/plain": [
       "        RECORD_TIME\n",
       "0  2021-12-11 11:00\n",
       "1  2021-12-11 10:30"
      ]
     },
     "execution_count": 3,
     "metadata": {},
     "output_type": "execute_result"
    }
   ],
   "source": [
    "timestamps"
   ]
  },
  {
   "cell_type": "code",
   "execution_count": 4,
   "id": "alternate-victory",
   "metadata": {
    "execution": {
     "iopub.execute_input": "2021-12-11T10:00:09.540638Z",
     "iopub.status.busy": "2021-12-11T10:00:09.538355Z",
     "iopub.status.idle": "2021-12-11T10:00:11.050902Z",
     "shell.execute_reply": "2021-12-11T10:00:11.052287Z"
    },
    "papermill": {
     "duration": 1.547531,
     "end_time": "2021-12-11T10:00:11.052776",
     "exception": false,
     "start_time": "2021-12-11T10:00:09.505245",
     "status": "completed"
    },
    "tags": []
   },
   "outputs": [],
   "source": [
    "df = pd.read_sql(\"select * from EBAY_TOP_BERLIN where record_time in (select distinct record_time from EBAY_TOP_BERLIN order by record_time desc limit 2)\", sqlite3.connect(\"UsedObjects.db\"))"
   ]
  },
  {
   "cell_type": "code",
   "execution_count": 5,
   "id": "popular-active",
   "metadata": {
    "execution": {
     "iopub.execute_input": "2021-12-11T10:00:11.122753Z",
     "iopub.status.busy": "2021-12-11T10:00:11.113651Z",
     "iopub.status.idle": "2021-12-11T10:00:11.146725Z",
     "shell.execute_reply": "2021-12-11T10:00:11.148224Z"
    },
    "papermill": {
     "duration": 0.074054,
     "end_time": "2021-12-11T10:00:11.148768",
     "exception": false,
     "start_time": "2021-12-11T10:00:11.074714",
     "status": "completed"
    },
    "tags": []
   },
   "outputs": [],
   "source": [
    "df_pivot = df.pivot_table(index=\"PRODUCT\", columns = \"RECORD_TIME\", values = \"LISTING_COUNT\")"
   ]
  },
  {
   "cell_type": "code",
   "execution_count": 6,
   "id": "union-huntington",
   "metadata": {
    "execution": {
     "iopub.execute_input": "2021-12-11T10:00:11.210580Z",
     "iopub.status.busy": "2021-12-11T10:00:11.208198Z",
     "iopub.status.idle": "2021-12-11T10:00:11.214096Z",
     "shell.execute_reply": "2021-12-11T10:00:11.215583Z"
    },
    "papermill": {
     "duration": 0.045211,
     "end_time": "2021-12-11T10:00:11.216092",
     "exception": false,
     "start_time": "2021-12-11T10:00:11.170881",
     "status": "completed"
    },
    "tags": []
   },
   "outputs": [],
   "source": [
    "df_pivot.columns = [\"stamp_1\", \"stamp_2\"]\n",
    "df_pivot_diff = df_pivot.diff(axis=1)"
   ]
  },
  {
   "cell_type": "code",
   "execution_count": 7,
   "id": "fifth-motion",
   "metadata": {
    "execution": {
     "iopub.execute_input": "2021-12-11T10:00:11.274993Z",
     "iopub.status.busy": "2021-12-11T10:00:11.273134Z",
     "iopub.status.idle": "2021-12-11T10:00:13.232521Z",
     "shell.execute_reply": "2021-12-11T10:00:13.233890Z"
    },
    "papermill": {
     "duration": 1.996782,
     "end_time": "2021-12-11T10:00:13.234361",
     "exception": false,
     "start_time": "2021-12-11T10:00:11.237579",
     "status": "completed"
    },
    "tags": []
   },
   "outputs": [
    {
     "data": {
      "text/plain": [
       "<AxesSubplot:ylabel='PRODUCT'>"
      ]
     },
     "execution_count": 7,
     "metadata": {},
     "output_type": "execute_result"
    },
    {
     "data": {
      "image/png": "[encoded data removed]",
      "text/plain": [
       "<Figure size 432x288 with 1 Axes>"
      ]
     },
     "metadata": {
      "needs_background": "light"
     },
     "output_type": "display_data"
    }
   ],
   "source": [
    "df_pivot_diff.sort_values(\"stamp_2\", ascending = False)[\"stamp_2\"].head(10).plot.barh()"
   ]
  },
  {
   "cell_type": "code",
   "execution_count": null,
   "id": "extra-executive",
   "metadata": {
    "papermill": {
     "duration": 0.043455,
     "end_time": "2021-12-11T10:00:13.304430",
     "exception": false,
     "start_time": "2021-12-11T10:00:13.260975",
     "status": "completed"
    },
    "tags": []
   },
   "outputs": [],
   "source": []
  }
 ],
 "metadata": {
  "kernelspec": {
   "display_name": "Python 3",
   "language": "python",
   "name": "python3"
  },
  "language_info": {
   "codemirror_mode": {
    "name": "ipython",
    "version": 3
   },
   "file_extension": ".py",
   "mimetype": "text/x-python",
   "name": "python",
   "nbconvert_exporter": "python",
   "pygments_lexer": "ipython3",
   "version": "3.9.5"
  },
  "papermill": {
   "default_parameters": {},
   "duration": 12.003379,
   "end_time": "2021-12-11T10:00:16.466649",
   "environment_variables": {},
   "exception": null,
   "input_path": "eBay_Overview.ipynb",
   "output_path": "eBay_Overview.ipynb",
   "parameters": {},
   "start_time": "2021-12-11T10:00:04.463270",
   "version": "2.3.3"
  }
 },
 "nbformat": 4,
 "nbformat_minor": 5
}