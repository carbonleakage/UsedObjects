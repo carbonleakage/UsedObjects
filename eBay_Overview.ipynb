{
 "cells": [
  {
   "cell_type": "code",
   "execution_count": 1,
   "id": "reverse-picking",
   "metadata": {
    "execution": {
     "iopub.execute_input": "2021-12-05T22:30:07.920092Z",
     "iopub.status.busy": "2021-12-05T22:30:07.909787Z",
     "iopub.status.idle": "2021-12-05T22:30:08.880510Z",
     "shell.execute_reply": "2021-12-05T22:30:08.882062Z"
    },
    "papermill": {
     "duration": 1.021477,
     "end_time": "2021-12-05T22:30:08.882791",
     "exception": false,
     "start_time": "2021-12-05T22:30:07.861314",
     "status": "completed"
    },
    "tags": []
   },
   "outputs": [],
   "source": [
    "import pandas as pd\n",
    "import sqlite3"
   ]
  },
  {
   "cell_type": "code",
   "execution_count": 2,
   "id": "innovative-syndrome",
   "metadata": {
    "execution": {
     "iopub.execute_input": "2021-12-05T22:30:09.006617Z",
     "iopub.status.busy": "2021-12-05T22:30:09.004185Z",
     "iopub.status.idle": "2021-12-05T22:30:09.995022Z",
     "shell.execute_reply": "2021-12-05T22:30:09.997334Z"
    },
    "papermill": {
     "duration": 1.026011,
     "end_time": "2021-12-05T22:30:09.997875",
     "exception": false,
     "start_time": "2021-12-05T22:30:08.971864",
     "status": "completed"
    },
    "tags": []
   },
   "outputs": [],
   "source": [
    "timestamps = pd.read_sql(\"select distinct record_time from EBAY_TOP_BERLIN order by record_time desc limit 2\", sqlite3.connect(\"UsedObjects.db\"))"
   ]
  },
  {
   "cell_type": "code",
   "execution_count": 3,
   "id": "periodic-identification",
   "metadata": {
    "execution": {
     "iopub.execute_input": "2021-12-05T22:30:10.071473Z",
     "iopub.status.busy": "2021-12-05T22:30:10.069139Z",
     "iopub.status.idle": "2021-12-05T22:30:10.093862Z",
     "shell.execute_reply": "2021-12-05T22:30:10.092208Z"
    },
    "papermill": {
     "duration": 0.074716,
     "end_time": "2021-12-05T22:30:10.094259",
     "exception": false,
     "start_time": "2021-12-05T22:30:10.019543",
     "status": "completed"
    },
    "tags": []
   },
   "outputs": [
    {
     "data": {
      "text/html": [
       "<div>\n",
       "<style scoped>\n",
       "    .dataframe tbody tr th:only-of-type {\n",
       "        vertical-align: middle;\n",
       "    }\n",
       "\n",
       "    .dataframe tbody tr th {\n",
       "        vertical-align: top;\n",
       "    }\n",
       "\n",
       "    .dataframe thead th {\n",
       "        text-align: right;\n",
       "    }\n",
       "</style>\n",
       "<table border=\"1\" class=\"dataframe\">\n",
       "  <thead>\n",
       "    <tr style=\"text-align: right;\">\n",
       "      <th></th>\n",
       "      <th>RECORD_TIME</th>\n",
       "    </tr>\n",
       "  </thead>\n",
       "  <tbody>\n",
       "    <tr>\n",
       "      <th>0</th>\n",
       "      <td>2021-12-05 23:30</td>\n",
       "    </tr>\n",
       "    <tr>\n",
       "      <th>1</th>\n",
       "      <td>2021-12-05 23:00</td>\n",
       "    </tr>\n",
       "  </tbody>\n",
       "</table>\n",
       "</div>"
      ],
      "text/plain": [
       "        RECORD_TIME\n",
       "0  2021-12-05 23:30\n",
       "1  2021-12-05 23:00"
      ]
     },
     "execution_count": 3,
     "metadata": {},
     "output_type": "execute_result"
    }
   ],
   "source": [
    "timestamps"
   ]
  },
  {
   "cell_type": "code",
   "execution_count": 4,
   "id": "alternate-victory",
   "metadata": {
    "execution": {
     "iopub.execute_input": "2021-12-05T22:30:10.152808Z",
     "iopub.status.busy": "2021-12-05T22:30:10.150293Z",
     "iopub.status.idle": "2021-12-05T22:30:11.659668Z",
     "shell.execute_reply": "2021-12-05T22:30:11.661577Z"
    },
    "papermill": {
     "duration": 1.546526,
     "end_time": "2021-12-05T22:30:11.662064",
     "exception": false,
     "start_time": "2021-12-05T22:30:10.115538",
     "status": "completed"
    },
    "tags": []
   },
   "outputs": [],
   "source": [
    "df = pd.read_sql(\"select * from EBAY_TOP_BERLIN where record_time in (select distinct record_time from EBAY_TOP_BERLIN order by record_time desc limit 2)\", sqlite3.connect(\"UsedObjects.db\"))"
   ]
  },
  {
   "cell_type": "code",
   "execution_count": 5,
   "id": "popular-active",
   "metadata": {
    "execution": {
     "iopub.execute_input": "2021-12-05T22:30:11.730786Z",
     "iopub.status.busy": "2021-12-05T22:30:11.728431Z",
     "iopub.status.idle": "2021-12-05T22:30:11.762768Z",
     "shell.execute_reply": "2021-12-05T22:30:11.761251Z"
    },
    "papermill": {
     "duration": 0.08036,
     "end_time": "2021-12-05T22:30:11.763139",
     "exception": false,
     "start_time": "2021-12-05T22:30:11.682779",
     "status": "completed"
    },
    "tags": []
   },
   "outputs": [],
   "source": [
    "df_pivot = df.pivot_table(index=\"PRODUCT\", columns = \"RECORD_TIME\", values = \"LISTING_COUNT\")"
   ]
  },
  {
   "cell_type": "code",
   "execution_count": 6,
   "id": "union-huntington",
   "metadata": {
    "execution": {
     "iopub.execute_input": "2021-12-05T22:30:11.831069Z",
     "iopub.status.busy": "2021-12-05T22:30:11.828411Z",
     "iopub.status.idle": "2021-12-05T22:30:11.836408Z",
     "shell.execute_reply": "2021-12-05T22:30:11.838027Z"
    },
    "papermill": {
     "duration": 0.051836,
     "end_time": "2021-12-05T22:30:11.838516",
     "exception": false,
     "start_time": "2021-12-05T22:30:11.786680",
     "status": "completed"
    },
    "tags": []
   },
   "outputs": [],
   "source": [
    "df_pivot.columns = [\"stamp_1\", \"stamp_2\"]\n",
    "df_pivot_diff = df_pivot.diff(axis=1)"
   ]
  },
  {
   "cell_type": "code",
   "execution_count": 7,
   "id": "fifth-motion",
   "metadata": {
    "execution": {
     "iopub.execute_input": "2021-12-05T22:30:11.897464Z",
     "iopub.status.busy": "2021-12-05T22:30:11.894900Z",
     "iopub.status.idle": "2021-12-05T22:30:13.917550Z",
     "shell.execute_reply": "2021-12-05T22:30:13.920490Z"
    },
    "papermill": {
     "duration": 2.060687,
     "end_time": "2021-12-05T22:30:13.921469",
     "exception": false,
     "start_time": "2021-12-05T22:30:11.860782",
     "status": "completed"
    },
    "tags": []
   },
   "outputs": [
    {
     "data": {
      "text/plain": [
       "<AxesSubplot:ylabel='PRODUCT'>"
      ]
     },
     "execution_count": 7,
     "metadata": {},
     "output_type": "execute_result"
    },
    {
     "data": {
      "image/png": "[encoded data removed]",
      "text/plain": [
       "<Figure size 432x288 with 1 Axes>"
      ]
     },
     "metadata": {
      "needs_background": "light"
     },
     "output_type": "display_data"
    }
   ],
   "source": [
    "df_pivot_diff.sort_values(\"stamp_2\", ascending = False)[\"stamp_2\"].head(10).plot.barh()"
   ]
  },
  {
   "cell_type": "code",
   "execution_count": null,
   "id": "extra-executive",
   "metadata": {
    "papermill": {
     "duration": 0.028944,
     "end_time": "2021-12-05T22:30:13.990199",
     "exception": false,
     "start_time": "2021-12-05T22:30:13.961255",
     "status": "completed"
    },
    "tags": []
   },
   "outputs": [],
   "source": []
  }
 ],
 "metadata": {
  "kernelspec": {
   "display_name": "Python 3",
   "language": "python",
   "name": "python3"
  },
  "language_info": {
   "codemirror_mode": {
    "name": "ipython",
    "version": 3
   },
   "file_extension": ".py",
   "mimetype": "text/x-python",
   "name": "python",
   "nbconvert_exporter": "python",
   "pygments_lexer": "ipython3",
   "version": "3.9.5"
  },
  "papermill": {
   "default_parameters": {},
   "duration": 9.631785,
   "end_time": "2021-12-05T22:30:14.745208",
   "environment_variables": {},
   "exception": null,
   "input_path": "eBay_Overview.ipynb",
   "output_path": "eBay_Overview.ipynb",
   "parameters": {},
   "start_time": "2021-12-05T22:30:05.113423",
   "version": "2.3.3"
  }
 },
 "nbformat": 4,
 "nbformat_minor": 5
}