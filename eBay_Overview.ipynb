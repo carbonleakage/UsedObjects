{
 "cells": [
  {
   "cell_type": "code",
   "execution_count": 1,
   "id": "reverse-picking",
   "metadata": {
    "execution": {
     "iopub.execute_input": "2021-09-15T02:00:06.614715Z",
     "iopub.status.busy": "2021-09-15T02:00:06.612806Z",
     "iopub.status.idle": "2021-09-15T02:00:07.418446Z",
     "shell.execute_reply": "2021-09-15T02:00:07.419935Z"
    },
    "papermill": {
     "duration": 0.858451,
     "end_time": "2021-09-15T02:00:07.420620",
     "exception": false,
     "start_time": "2021-09-15T02:00:06.562169",
     "status": "completed"
    },
    "tags": []
   },
   "outputs": [],
   "source": [
    "import pandas as pd\n",
    "import sqlite3"
   ]
  },
  {
   "cell_type": "code",
   "execution_count": 2,
   "id": "innovative-syndrome",
   "metadata": {
    "execution": {
     "iopub.execute_input": "2021-09-15T02:00:07.471743Z",
     "iopub.status.busy": "2021-09-15T02:00:07.469705Z",
     "iopub.status.idle": "2021-09-15T02:00:07.757436Z",
     "shell.execute_reply": "2021-09-15T02:00:07.758623Z"
    },
    "papermill": {
     "duration": 0.3178,
     "end_time": "2021-09-15T02:00:07.759070",
     "exception": false,
     "start_time": "2021-09-15T02:00:07.441270",
     "status": "completed"
    },
    "tags": []
   },
   "outputs": [],
   "source": [
    "timestamps = pd.read_sql(\"select distinct record_time from EBAY_TOP_BERLIN order by record_time desc limit 2\", sqlite3.connect(\"UsedObjects.db\"))"
   ]
  },
  {
   "cell_type": "code",
   "execution_count": 3,
   "id": "periodic-identification",
   "metadata": {
    "execution": {
     "iopub.execute_input": "2021-09-15T02:00:07.825612Z",
     "iopub.status.busy": "2021-09-15T02:00:07.823597Z",
     "iopub.status.idle": "2021-09-15T02:00:07.844046Z",
     "shell.execute_reply": "2021-09-15T02:00:07.845332Z"
    },
    "papermill": {
     "duration": 0.064834,
     "end_time": "2021-09-15T02:00:07.845740",
     "exception": false,
     "start_time": "2021-09-15T02:00:07.780906",
     "status": "completed"
    },
    "tags": []
   },
   "outputs": [
    {
     "data": {
      "text/html": [
       "<div>\n",
       "<style scoped>\n",
       "    .dataframe tbody tr th:only-of-type {\n",
       "        vertical-align: middle;\n",
       "    }\n",
       "\n",
       "    .dataframe tbody tr th {\n",
       "        vertical-align: top;\n",
       "    }\n",
       "\n",
       "    .dataframe thead th {\n",
       "        text-align: right;\n",
       "    }\n",
       "</style>\n",
       "<table border=\"1\" class=\"dataframe\">\n",
       "  <thead>\n",
       "    <tr style=\"text-align: right;\">\n",
       "      <th></th>\n",
       "      <th>RECORD_TIME</th>\n",
       "    </tr>\n",
       "  </thead>\n",
       "  <tbody>\n",
       "    <tr>\n",
       "      <th>0</th>\n",
       "      <td>2021-09-15 04:00</td>\n",
       "    </tr>\n",
       "    <tr>\n",
       "      <th>1</th>\n",
       "      <td>2021-09-15 03:30</td>\n",
       "    </tr>\n",
       "  </tbody>\n",
       "</table>\n",
       "</div>"
      ],
      "text/plain": [
       "        RECORD_TIME\n",
       "0  2021-09-15 04:00\n",
       "1  2021-09-15 03:30"
      ]
     },
     "execution_count": 3,
     "metadata": {},
     "output_type": "execute_result"
    }
   ],
   "source": [
    "timestamps"
   ]
  },
  {
   "cell_type": "code",
   "execution_count": 4,
   "id": "alternate-victory",
   "metadata": {
    "execution": {
     "iopub.execute_input": "2021-09-15T02:00:07.896918Z",
     "iopub.status.busy": "2021-09-15T02:00:07.894691Z",
     "iopub.status.idle": "2021-09-15T02:00:08.322063Z",
     "shell.execute_reply": "2021-09-15T02:00:08.323504Z"
    },
    "papermill": {
     "duration": 0.457993,
     "end_time": "2021-09-15T02:00:08.323918",
     "exception": false,
     "start_time": "2021-09-15T02:00:07.865925",
     "status": "completed"
    },
    "tags": []
   },
   "outputs": [],
   "source": [
    "df = pd.read_sql(\"select * from EBAY_TOP_BERLIN where record_time in (select distinct record_time from EBAY_TOP_BERLIN order by record_time desc limit 2)\", sqlite3.connect(\"UsedObjects.db\"))"
   ]
  },
  {
   "cell_type": "code",
   "execution_count": 5,
   "id": "popular-active",
   "metadata": {
    "execution": {
     "iopub.execute_input": "2021-09-15T02:00:08.405306Z",
     "iopub.status.busy": "2021-09-15T02:00:08.392658Z",
     "iopub.status.idle": "2021-09-15T02:00:08.420671Z",
     "shell.execute_reply": "2021-09-15T02:00:08.421884Z"
    },
    "papermill": {
     "duration": 0.072436,
     "end_time": "2021-09-15T02:00:08.422280",
     "exception": false,
     "start_time": "2021-09-15T02:00:08.349844",
     "status": "completed"
    },
    "tags": []
   },
   "outputs": [],
   "source": [
    "df_pivot = df.pivot_table(index=\"PRODUCT\", columns = \"RECORD_TIME\", values = \"LISTING_COUNT\")"
   ]
  },
  {
   "cell_type": "code",
   "execution_count": 6,
   "id": "union-huntington",
   "metadata": {
    "execution": {
     "iopub.execute_input": "2021-09-15T02:00:08.481795Z",
     "iopub.status.busy": "2021-09-15T02:00:08.479398Z",
     "iopub.status.idle": "2021-09-15T02:00:08.486782Z",
     "shell.execute_reply": "2021-09-15T02:00:08.485488Z"
    },
    "papermill": {
     "duration": 0.042574,
     "end_time": "2021-09-15T02:00:08.487208",
     "exception": false,
     "start_time": "2021-09-15T02:00:08.444634",
     "status": "completed"
    },
    "tags": []
   },
   "outputs": [],
   "source": [
    "df_pivot.columns = [\"stamp_1\", \"stamp_2\"]\n",
    "df_pivot_diff = df_pivot.diff(axis=1)"
   ]
  },
  {
   "cell_type": "code",
   "execution_count": 7,
   "id": "fifth-motion",
   "metadata": {
    "execution": {
     "iopub.execute_input": "2021-09-15T02:00:08.541604Z",
     "iopub.status.busy": "2021-09-15T02:00:08.539287Z",
     "iopub.status.idle": "2021-09-15T02:00:10.045573Z",
     "shell.execute_reply": "2021-09-15T02:00:10.046846Z"
    },
    "papermill": {
     "duration": 1.539505,
     "end_time": "2021-09-15T02:00:10.047492",
     "exception": false,
     "start_time": "2021-09-15T02:00:08.507987",
     "status": "completed"
    },
    "tags": []
   },
   "outputs": [
    {
     "data": {
      "text/plain": [
       "<AxesSubplot:ylabel='PRODUCT'>"
      ]
     },
     "execution_count": 7,
     "metadata": {},
     "output_type": "execute_result"
    },
    {
     "data": {
      "image/png": "[encoded data removed]",
      "text/plain": [
       "<Figure size 432x288 with 1 Axes>"
      ]
     },
     "metadata": {
      "needs_background": "light"
     },
     "output_type": "display_data"
    }
   ],
   "source": [
    "df_pivot_diff.sort_values(\"stamp_2\", ascending = False)[\"stamp_2\"].head(10).plot.barh()"
   ]
  },
  {
   "cell_type": "code",
   "execution_count": null,
   "id": "extra-executive",
   "metadata": {
    "papermill": {
     "duration": 0.022506,
     "end_time": "2021-09-15T02:00:10.096060",
     "exception": false,
     "start_time": "2021-09-15T02:00:10.073554",
     "status": "completed"
    },
    "tags": []
   },
   "outputs": [],
   "source": []
  }
 ],
 "metadata": {
  "kernelspec": {
   "display_name": "Python 3",
   "language": "python",
   "name": "python3"
  },
  "language_info": {
   "codemirror_mode": {
    "name": "ipython",
    "version": 3
   },
   "file_extension": ".py",
   "mimetype": "text/x-python",
   "name": "python",
   "nbconvert_exporter": "python",
   "pygments_lexer": "ipython3",
   "version": "3.9.5"
  },
  "papermill": {
   "default_parameters": {},
   "duration": 6.590665,
   "end_time": "2021-09-15T02:00:10.740029",
   "environment_variables": {},
   "exception": null,
   "input_path": "eBay_Overview.ipynb",
   "output_path": "eBay_Overview.ipynb",
   "parameters": {},
   "start_time": "2021-09-15T02:00:04.149364",
   "version": "2.3.3"
  }
 },
 "nbformat": 4,
 "nbformat_minor": 5
}