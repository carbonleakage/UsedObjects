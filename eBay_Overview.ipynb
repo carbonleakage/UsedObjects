{
 "cells": [
  {
   "cell_type": "code",
   "execution_count": 1,
   "id": "reverse-picking",
   "metadata": {
    "execution": {
     "iopub.execute_input": "2021-12-05T21:30:07.572082Z",
     "iopub.status.busy": "2021-12-05T21:30:07.569346Z",
     "iopub.status.idle": "2021-12-05T21:30:08.495995Z",
     "shell.execute_reply": "2021-12-05T21:30:08.497656Z"
    },
    "papermill": {
     "duration": 0.978866,
     "end_time": "2021-12-05T21:30:08.498413",
     "exception": false,
     "start_time": "2021-12-05T21:30:07.519547",
     "status": "completed"
    },
    "tags": []
   },
   "outputs": [],
   "source": [
    "import pandas as pd\n",
    "import sqlite3"
   ]
  },
  {
   "cell_type": "code",
   "execution_count": 2,
   "id": "innovative-syndrome",
   "metadata": {
    "execution": {
     "iopub.execute_input": "2021-12-05T21:30:08.619268Z",
     "iopub.status.busy": "2021-12-05T21:30:08.616818Z",
     "iopub.status.idle": "2021-12-05T21:30:09.679940Z",
     "shell.execute_reply": "2021-12-05T21:30:09.682115Z"
    },
    "papermill": {
     "duration": 1.098129,
     "end_time": "2021-12-05T21:30:09.682585",
     "exception": false,
     "start_time": "2021-12-05T21:30:08.584456",
     "status": "completed"
    },
    "tags": []
   },
   "outputs": [],
   "source": [
    "timestamps = pd.read_sql(\"select distinct record_time from EBAY_TOP_BERLIN order by record_time desc limit 2\", sqlite3.connect(\"UsedObjects.db\"))"
   ]
  },
  {
   "cell_type": "code",
   "execution_count": 3,
   "id": "periodic-identification",
   "metadata": {
    "execution": {
     "iopub.execute_input": "2021-12-05T21:30:09.749770Z",
     "iopub.status.busy": "2021-12-05T21:30:09.747160Z",
     "iopub.status.idle": "2021-12-05T21:30:09.776622Z",
     "shell.execute_reply": "2021-12-05T21:30:09.777951Z"
    },
    "papermill": {
     "duration": 0.074951,
     "end_time": "2021-12-05T21:30:09.778358",
     "exception": false,
     "start_time": "2021-12-05T21:30:09.703407",
     "status": "completed"
    },
    "tags": []
   },
   "outputs": [
    {
     "data": {
      "text/html": [
       "<div>\n",
       "<style scoped>\n",
       "    .dataframe tbody tr th:only-of-type {\n",
       "        vertical-align: middle;\n",
       "    }\n",
       "\n",
       "    .dataframe tbody tr th {\n",
       "        vertical-align: top;\n",
       "    }\n",
       "\n",
       "    .dataframe thead th {\n",
       "        text-align: right;\n",
       "    }\n",
       "</style>\n",
       "<table border=\"1\" class=\"dataframe\">\n",
       "  <thead>\n",
       "    <tr style=\"text-align: right;\">\n",
       "      <th></th>\n",
       "      <th>RECORD_TIME</th>\n",
       "    </tr>\n",
       "  </thead>\n",
       "  <tbody>\n",
       "    <tr>\n",
       "      <th>0</th>\n",
       "      <td>2021-12-05 22:30</td>\n",
       "    </tr>\n",
       "    <tr>\n",
       "      <th>1</th>\n",
       "      <td>2021-12-05 22:00</td>\n",
       "    </tr>\n",
       "  </tbody>\n",
       "</table>\n",
       "</div>"
      ],
      "text/plain": [
       "        RECORD_TIME\n",
       "0  2021-12-05 22:30\n",
       "1  2021-12-05 22:00"
      ]
     },
     "execution_count": 3,
     "metadata": {},
     "output_type": "execute_result"
    }
   ],
   "source": [
    "timestamps"
   ]
  },
  {
   "cell_type": "code",
   "execution_count": 4,
   "id": "alternate-victory",
   "metadata": {
    "execution": {
     "iopub.execute_input": "2021-12-05T21:30:09.831040Z",
     "iopub.status.busy": "2021-12-05T21:30:09.828898Z",
     "iopub.status.idle": "2021-12-05T21:30:11.295798Z",
     "shell.execute_reply": "2021-12-05T21:30:11.297594Z"
    },
    "papermill": {
     "duration": 1.497817,
     "end_time": "2021-12-05T21:30:11.298113",
     "exception": false,
     "start_time": "2021-12-05T21:30:09.800296",
     "status": "completed"
    },
    "tags": []
   },
   "outputs": [],
   "source": [
    "df = pd.read_sql(\"select * from EBAY_TOP_BERLIN where record_time in (select distinct record_time from EBAY_TOP_BERLIN order by record_time desc limit 2)\", sqlite3.connect(\"UsedObjects.db\"))"
   ]
  },
  {
   "cell_type": "code",
   "execution_count": 5,
   "id": "popular-active",
   "metadata": {
    "execution": {
     "iopub.execute_input": "2021-12-05T21:30:11.370376Z",
     "iopub.status.busy": "2021-12-05T21:30:11.365297Z",
     "iopub.status.idle": "2021-12-05T21:30:11.406950Z",
     "shell.execute_reply": "2021-12-05T21:30:11.408739Z"
    },
    "papermill": {
     "duration": 0.088018,
     "end_time": "2021-12-05T21:30:11.409323",
     "exception": false,
     "start_time": "2021-12-05T21:30:11.321305",
     "status": "completed"
    },
    "tags": []
   },
   "outputs": [],
   "source": [
    "df_pivot = df.pivot_table(index=\"PRODUCT\", columns = \"RECORD_TIME\", values = \"LISTING_COUNT\")"
   ]
  },
  {
   "cell_type": "code",
   "execution_count": 6,
   "id": "union-huntington",
   "metadata": {
    "execution": {
     "iopub.execute_input": "2021-12-05T21:30:11.472026Z",
     "iopub.status.busy": "2021-12-05T21:30:11.469806Z",
     "iopub.status.idle": "2021-12-05T21:30:11.475783Z",
     "shell.execute_reply": "2021-12-05T21:30:11.477351Z"
    },
    "papermill": {
     "duration": 0.044897,
     "end_time": "2021-12-05T21:30:11.477830",
     "exception": false,
     "start_time": "2021-12-05T21:30:11.432933",
     "status": "completed"
    },
    "tags": []
   },
   "outputs": [],
   "source": [
    "df_pivot.columns = [\"stamp_1\", \"stamp_2\"]\n",
    "df_pivot_diff = df_pivot.diff(axis=1)"
   ]
  },
  {
   "cell_type": "code",
   "execution_count": 7,
   "id": "fifth-motion",
   "metadata": {
    "execution": {
     "iopub.execute_input": "2021-12-05T21:30:11.534486Z",
     "iopub.status.busy": "2021-12-05T21:30:11.531967Z",
     "iopub.status.idle": "2021-12-05T21:30:13.551872Z",
     "shell.execute_reply": "2021-12-05T21:30:13.553873Z"
    },
    "papermill": {
     "duration": 2.056634,
     "end_time": "2021-12-05T21:30:13.554531",
     "exception": false,
     "start_time": "2021-12-05T21:30:11.497897",
     "status": "completed"
    },
    "tags": []
   },
   "outputs": [
    {
     "data": {
      "text/plain": [
       "<AxesSubplot:ylabel='PRODUCT'>"
      ]
     },
     "execution_count": 7,
     "metadata": {},
     "output_type": "execute_result"
    },
    {
     "data": {
      "image/png": "[encoded data removed]",
      "text/plain": [
       "<Figure size 432x288 with 1 Axes>"
      ]
     },
     "metadata": {
      "needs_background": "light"
     },
     "output_type": "display_data"
    }
   ],
   "source": [
    "df_pivot_diff.sort_values(\"stamp_2\", ascending = False)[\"stamp_2\"].head(10).plot.barh()"
   ]
  },
  {
   "cell_type": "code",
   "execution_count": null,
   "id": "extra-executive",
   "metadata": {
    "papermill": {
     "duration": 0.026137,
     "end_time": "2021-12-05T21:30:13.616819",
     "exception": false,
     "start_time": "2021-12-05T21:30:13.590682",
     "status": "completed"
    },
    "tags": []
   },
   "outputs": [],
   "source": []
  }
 ],
 "metadata": {
  "kernelspec": {
   "display_name": "Python 3",
   "language": "python",
   "name": "python3"
  },
  "language_info": {
   "codemirror_mode": {
    "name": "ipython",
    "version": 3
   },
   "file_extension": ".py",
   "mimetype": "text/x-python",
   "name": "python",
   "nbconvert_exporter": "python",
   "pygments_lexer": "ipython3",
   "version": "3.9.5"
  },
  "papermill": {
   "default_parameters": {},
   "duration": 9.506287,
   "end_time": "2021-12-05T21:30:14.263279",
   "environment_variables": {},
   "exception": null,
   "input_path": "eBay_Overview.ipynb",
   "output_path": "eBay_Overview.ipynb",
   "parameters": {},
   "start_time": "2021-12-05T21:30:04.756992",
   "version": "2.3.3"
  }
 },
 "nbformat": 4,
 "nbformat_minor": 5
}