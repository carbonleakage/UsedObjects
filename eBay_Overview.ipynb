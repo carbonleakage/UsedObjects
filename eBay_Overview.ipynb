{
 "cells": [
  {
   "cell_type": "code",
   "execution_count": 1,
   "id": "reverse-picking",
   "metadata": {
    "execution": {
     "iopub.execute_input": "2021-08-28T05:00:07.410318Z",
     "iopub.status.busy": "2021-08-28T05:00:07.408364Z",
     "iopub.status.idle": "2021-08-28T05:00:08.206903Z",
     "shell.execute_reply": "2021-08-28T05:00:08.208154Z"
    },
    "papermill": {
     "duration": 0.850767,
     "end_time": "2021-08-28T05:00:08.209029",
     "exception": false,
     "start_time": "2021-08-28T05:00:07.358262",
     "status": "completed"
    },
    "tags": []
   },
   "outputs": [],
   "source": [
    "import pandas as pd\n",
    "import sqlite3"
   ]
  },
  {
   "cell_type": "code",
   "execution_count": 2,
   "id": "innovative-syndrome",
   "metadata": {
    "execution": {
     "iopub.execute_input": "2021-08-28T05:00:08.258520Z",
     "iopub.status.busy": "2021-08-28T05:00:08.256340Z",
     "iopub.status.idle": "2021-08-28T05:00:08.406549Z",
     "shell.execute_reply": "2021-08-28T05:00:08.407733Z"
    },
    "papermill": {
     "duration": 0.179315,
     "end_time": "2021-08-28T05:00:08.408123",
     "exception": false,
     "start_time": "2021-08-28T05:00:08.228808",
     "status": "completed"
    },
    "tags": []
   },
   "outputs": [],
   "source": [
    "timestamps = pd.read_sql(\"select distinct record_time from EBAY_TOP_BERLIN order by record_time desc limit 2\", sqlite3.connect(\"UsedObjects.db\"))"
   ]
  },
  {
   "cell_type": "code",
   "execution_count": 3,
   "id": "periodic-identification",
   "metadata": {
    "execution": {
     "iopub.execute_input": "2021-08-28T05:00:08.472027Z",
     "iopub.status.busy": "2021-08-28T05:00:08.470034Z",
     "iopub.status.idle": "2021-08-28T05:00:08.491393Z",
     "shell.execute_reply": "2021-08-28T05:00:08.489992Z"
    },
    "papermill": {
     "duration": 0.062839,
     "end_time": "2021-08-28T05:00:08.491746",
     "exception": false,
     "start_time": "2021-08-28T05:00:08.428907",
     "status": "completed"
    },
    "tags": []
   },
   "outputs": [
    {
     "data": {
      "text/html": [
       "<div>\n",
       "<style scoped>\n",
       "    .dataframe tbody tr th:only-of-type {\n",
       "        vertical-align: middle;\n",
       "    }\n",
       "\n",
       "    .dataframe tbody tr th {\n",
       "        vertical-align: top;\n",
       "    }\n",
       "\n",
       "    .dataframe thead th {\n",
       "        text-align: right;\n",
       "    }\n",
       "</style>\n",
       "<table border=\"1\" class=\"dataframe\">\n",
       "  <thead>\n",
       "    <tr style=\"text-align: right;\">\n",
       "      <th></th>\n",
       "      <th>RECORD_TIME</th>\n",
       "    </tr>\n",
       "  </thead>\n",
       "  <tbody>\n",
       "    <tr>\n",
       "      <th>0</th>\n",
       "      <td>2021-08-28 07:00</td>\n",
       "    </tr>\n",
       "    <tr>\n",
       "      <th>1</th>\n",
       "      <td>2021-08-28 06:30</td>\n",
       "    </tr>\n",
       "  </tbody>\n",
       "</table>\n",
       "</div>"
      ],
      "text/plain": [
       "        RECORD_TIME\n",
       "0  2021-08-28 07:00\n",
       "1  2021-08-28 06:30"
      ]
     },
     "execution_count": 3,
     "metadata": {},
     "output_type": "execute_result"
    }
   ],
   "source": [
    "timestamps"
   ]
  },
  {
   "cell_type": "code",
   "execution_count": 4,
   "id": "alternate-victory",
   "metadata": {
    "execution": {
     "iopub.execute_input": "2021-08-28T05:00:08.542832Z",
     "iopub.status.busy": "2021-08-28T05:00:08.540979Z",
     "iopub.status.idle": "2021-08-28T05:00:08.767057Z",
     "shell.execute_reply": "2021-08-28T05:00:08.768408Z"
    },
    "papermill": {
     "duration": 0.256014,
     "end_time": "2021-08-28T05:00:08.768913",
     "exception": false,
     "start_time": "2021-08-28T05:00:08.512899",
     "status": "completed"
    },
    "tags": []
   },
   "outputs": [],
   "source": [
    "df = pd.read_sql(\"select * from EBAY_TOP_BERLIN where record_time in (select distinct record_time from EBAY_TOP_BERLIN order by record_time desc limit 2)\", sqlite3.connect(\"UsedObjects.db\"))"
   ]
  },
  {
   "cell_type": "code",
   "execution_count": 5,
   "id": "popular-active",
   "metadata": {
    "execution": {
     "iopub.execute_input": "2021-08-28T05:00:08.839845Z",
     "iopub.status.busy": "2021-08-28T05:00:08.827565Z",
     "iopub.status.idle": "2021-08-28T05:00:08.855366Z",
     "shell.execute_reply": "2021-08-28T05:00:08.856785Z"
    },
    "papermill": {
     "duration": 0.067237,
     "end_time": "2021-08-28T05:00:08.857245",
     "exception": false,
     "start_time": "2021-08-28T05:00:08.790008",
     "status": "completed"
    },
    "tags": []
   },
   "outputs": [],
   "source": [
    "df_pivot = df.pivot_table(index=\"PRODUCT\", columns = \"RECORD_TIME\", values = \"LISTING_COUNT\")"
   ]
  },
  {
   "cell_type": "code",
   "execution_count": 6,
   "id": "union-huntington",
   "metadata": {
    "execution": {
     "iopub.execute_input": "2021-08-28T05:00:08.913616Z",
     "iopub.status.busy": "2021-08-28T05:00:08.911502Z",
     "iopub.status.idle": "2021-08-28T05:00:08.918243Z",
     "shell.execute_reply": "2021-08-28T05:00:08.916822Z"
    },
    "papermill": {
     "duration": 0.040447,
     "end_time": "2021-08-28T05:00:08.918600",
     "exception": false,
     "start_time": "2021-08-28T05:00:08.878153",
     "status": "completed"
    },
    "tags": []
   },
   "outputs": [],
   "source": [
    "df_pivot.columns = [\"stamp_1\", \"stamp_2\"]\n",
    "df_pivot_diff = df_pivot.diff(axis=1)"
   ]
  },
  {
   "cell_type": "code",
   "execution_count": 7,
   "id": "fifth-motion",
   "metadata": {
    "execution": {
     "iopub.execute_input": "2021-08-28T05:00:08.973846Z",
     "iopub.status.busy": "2021-08-28T05:00:08.971304Z",
     "iopub.status.idle": "2021-08-28T05:00:10.435125Z",
     "shell.execute_reply": "2021-08-28T05:00:10.436669Z"
    },
    "papermill": {
     "duration": 1.497404,
     "end_time": "2021-08-28T05:00:10.437147",
     "exception": false,
     "start_time": "2021-08-28T05:00:08.939743",
     "status": "completed"
    },
    "tags": []
   },
   "outputs": [
    {
     "data": {
      "text/plain": [
       "<AxesSubplot:ylabel='PRODUCT'>"
      ]
     },
     "execution_count": 7,
     "metadata": {},
     "output_type": "execute_result"
    },
    {
     "data": {
      "image/png": "[encoded data removed]",
      "text/plain": [
       "<Figure size 432x288 with 1 Axes>"
      ]
     },
     "metadata": {
      "needs_background": "light"
     },
     "output_type": "display_data"
    }
   ],
   "source": [
    "df_pivot_diff.sort_values(\"stamp_2\", ascending = False)[\"stamp_2\"].head(10).plot.barh()"
   ]
  },
  {
   "cell_type": "code",
   "execution_count": null,
   "id": "extra-executive",
   "metadata": {
    "papermill": {
     "duration": 0.026888,
     "end_time": "2021-08-28T05:00:10.496605",
     "exception": false,
     "start_time": "2021-08-28T05:00:10.469717",
     "status": "completed"
    },
    "tags": []
   },
   "outputs": [],
   "source": []
  }
 ],
 "metadata": {
  "kernelspec": {
   "display_name": "Python 3",
   "language": "python",
   "name": "python3"
  },
  "language_info": {
   "codemirror_mode": {
    "name": "ipython",
    "version": 3
   },
   "file_extension": ".py",
   "mimetype": "text/x-python",
   "name": "python",
   "nbconvert_exporter": "python",
   "pygments_lexer": "ipython3",
   "version": "3.9.5"
  },
  "papermill": {
   "default_parameters": {},
   "duration": 6.951497,
   "end_time": "2021-08-28T05:00:11.783944",
   "environment_variables": {},
   "exception": null,
   "input_path": "eBay_Overview.ipynb",
   "output_path": "eBay_Overview.ipynb",
   "parameters": {},
   "start_time": "2021-08-28T05:00:04.832447",
   "version": "2.3.3"
  }
 },
 "nbformat": 4,
 "nbformat_minor": 5
}