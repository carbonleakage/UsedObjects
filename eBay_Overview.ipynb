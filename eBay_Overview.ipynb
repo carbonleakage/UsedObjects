{
 "cells": [
  {
   "cell_type": "code",
   "execution_count": 1,
   "id": "reverse-picking",
   "metadata": {
    "execution": {
     "iopub.execute_input": "2021-09-04T18:30:06.792623Z",
     "iopub.status.busy": "2021-09-04T18:30:06.790579Z",
     "iopub.status.idle": "2021-09-04T18:30:07.596668Z",
     "shell.execute_reply": "2021-09-04T18:30:07.594465Z"
    },
    "papermill": {
     "duration": 0.857783,
     "end_time": "2021-09-04T18:30:07.597095",
     "exception": false,
     "start_time": "2021-09-04T18:30:06.739312",
     "status": "completed"
    },
    "tags": []
   },
   "outputs": [],
   "source": [
    "import pandas as pd\n",
    "import sqlite3"
   ]
  },
  {
   "cell_type": "code",
   "execution_count": 2,
   "id": "innovative-syndrome",
   "metadata": {
    "execution": {
     "iopub.execute_input": "2021-09-04T18:30:07.647566Z",
     "iopub.status.busy": "2021-09-04T18:30:07.645637Z",
     "iopub.status.idle": "2021-09-04T18:30:07.857302Z",
     "shell.execute_reply": "2021-09-04T18:30:07.858493Z"
    },
    "papermill": {
     "duration": 0.241348,
     "end_time": "2021-09-04T18:30:07.858938",
     "exception": false,
     "start_time": "2021-09-04T18:30:07.617590",
     "status": "completed"
    },
    "tags": []
   },
   "outputs": [],
   "source": [
    "timestamps = pd.read_sql(\"select distinct record_time from EBAY_TOP_BERLIN order by record_time desc limit 2\", sqlite3.connect(\"UsedObjects.db\"))"
   ]
  },
  {
   "cell_type": "code",
   "execution_count": 3,
   "id": "periodic-identification",
   "metadata": {
    "execution": {
     "iopub.execute_input": "2021-09-04T18:30:07.924750Z",
     "iopub.status.busy": "2021-09-04T18:30:07.922675Z",
     "iopub.status.idle": "2021-09-04T18:30:07.942623Z",
     "shell.execute_reply": "2021-09-04T18:30:07.943840Z"
    },
    "papermill": {
     "duration": 0.064226,
     "end_time": "2021-09-04T18:30:07.944263",
     "exception": false,
     "start_time": "2021-09-04T18:30:07.880037",
     "status": "completed"
    },
    "tags": []
   },
   "outputs": [
    {
     "data": {
      "text/html": [
       "<div>\n",
       "<style scoped>\n",
       "    .dataframe tbody tr th:only-of-type {\n",
       "        vertical-align: middle;\n",
       "    }\n",
       "\n",
       "    .dataframe tbody tr th {\n",
       "        vertical-align: top;\n",
       "    }\n",
       "\n",
       "    .dataframe thead th {\n",
       "        text-align: right;\n",
       "    }\n",
       "</style>\n",
       "<table border=\"1\" class=\"dataframe\">\n",
       "  <thead>\n",
       "    <tr style=\"text-align: right;\">\n",
       "      <th></th>\n",
       "      <th>RECORD_TIME</th>\n",
       "    </tr>\n",
       "  </thead>\n",
       "  <tbody>\n",
       "    <tr>\n",
       "      <th>0</th>\n",
       "      <td>2021-09-04 20:30</td>\n",
       "    </tr>\n",
       "    <tr>\n",
       "      <th>1</th>\n",
       "      <td>2021-09-04 20:00</td>\n",
       "    </tr>\n",
       "  </tbody>\n",
       "</table>\n",
       "</div>"
      ],
      "text/plain": [
       "        RECORD_TIME\n",
       "0  2021-09-04 20:30\n",
       "1  2021-09-04 20:00"
      ]
     },
     "execution_count": 3,
     "metadata": {},
     "output_type": "execute_result"
    }
   ],
   "source": [
    "timestamps"
   ]
  },
  {
   "cell_type": "code",
   "execution_count": 4,
   "id": "alternate-victory",
   "metadata": {
    "execution": {
     "iopub.execute_input": "2021-09-04T18:30:07.998923Z",
     "iopub.status.busy": "2021-09-04T18:30:07.996622Z",
     "iopub.status.idle": "2021-09-04T18:30:08.310369Z",
     "shell.execute_reply": "2021-09-04T18:30:08.311746Z"
    },
    "papermill": {
     "duration": 0.344477,
     "end_time": "2021-09-04T18:30:08.312172",
     "exception": false,
     "start_time": "2021-09-04T18:30:07.967695",
     "status": "completed"
    },
    "tags": []
   },
   "outputs": [],
   "source": [
    "df = pd.read_sql(\"select * from EBAY_TOP_BERLIN where record_time in (select distinct record_time from EBAY_TOP_BERLIN order by record_time desc limit 2)\", sqlite3.connect(\"UsedObjects.db\"))"
   ]
  },
  {
   "cell_type": "code",
   "execution_count": 5,
   "id": "popular-active",
   "metadata": {
    "execution": {
     "iopub.execute_input": "2021-09-04T18:30:08.382801Z",
     "iopub.status.busy": "2021-09-04T18:30:08.371152Z",
     "iopub.status.idle": "2021-09-04T18:30:08.398761Z",
     "shell.execute_reply": "2021-09-04T18:30:08.400243Z"
    },
    "papermill": {
     "duration": 0.067596,
     "end_time": "2021-09-04T18:30:08.400698",
     "exception": false,
     "start_time": "2021-09-04T18:30:08.333102",
     "status": "completed"
    },
    "tags": []
   },
   "outputs": [],
   "source": [
    "df_pivot = df.pivot_table(index=\"PRODUCT\", columns = \"RECORD_TIME\", values = \"LISTING_COUNT\")"
   ]
  },
  {
   "cell_type": "code",
   "execution_count": 6,
   "id": "union-huntington",
   "metadata": {
    "execution": {
     "iopub.execute_input": "2021-09-04T18:30:08.458795Z",
     "iopub.status.busy": "2021-09-04T18:30:08.456356Z",
     "iopub.status.idle": "2021-09-04T18:30:08.462427Z",
     "shell.execute_reply": "2021-09-04T18:30:08.463768Z"
    },
    "papermill": {
     "duration": 0.042973,
     "end_time": "2021-09-04T18:30:08.464234",
     "exception": false,
     "start_time": "2021-09-04T18:30:08.421261",
     "status": "completed"
    },
    "tags": []
   },
   "outputs": [],
   "source": [
    "df_pivot.columns = [\"stamp_1\", \"stamp_2\"]\n",
    "df_pivot_diff = df_pivot.diff(axis=1)"
   ]
  },
  {
   "cell_type": "code",
   "execution_count": 7,
   "id": "fifth-motion",
   "metadata": {
    "execution": {
     "iopub.execute_input": "2021-09-04T18:30:08.518991Z",
     "iopub.status.busy": "2021-09-04T18:30:08.516605Z",
     "iopub.status.idle": "2021-09-04T18:30:09.997530Z",
     "shell.execute_reply": "2021-09-04T18:30:09.998814Z"
    },
    "papermill": {
     "duration": 1.513582,
     "end_time": "2021-09-04T18:30:09.999325",
     "exception": false,
     "start_time": "2021-09-04T18:30:08.485743",
     "status": "completed"
    },
    "tags": []
   },
   "outputs": [
    {
     "data": {
      "text/plain": [
       "<AxesSubplot:ylabel='PRODUCT'>"
      ]
     },
     "execution_count": 7,
     "metadata": {},
     "output_type": "execute_result"
    },
    {
     "data": {
      "image/png": "[encoded data removed]",
      "text/plain": [
       "<Figure size 432x288 with 1 Axes>"
      ]
     },
     "metadata": {
      "needs_background": "light"
     },
     "output_type": "display_data"
    }
   ],
   "source": [
    "df_pivot_diff.sort_values(\"stamp_2\", ascending = False)[\"stamp_2\"].head(10).plot.barh()"
   ]
  },
  {
   "cell_type": "code",
   "execution_count": null,
   "id": "extra-executive",
   "metadata": {
    "papermill": {
     "duration": 0.022397,
     "end_time": "2021-09-04T18:30:10.046291",
     "exception": false,
     "start_time": "2021-09-04T18:30:10.023894",
     "status": "completed"
    },
    "tags": []
   },
   "outputs": [],
   "source": []
  }
 ],
 "metadata": {
  "kernelspec": {
   "display_name": "Python 3",
   "language": "python",
   "name": "python3"
  },
  "language_info": {
   "codemirror_mode": {
    "name": "ipython",
    "version": 3
   },
   "file_extension": ".py",
   "mimetype": "text/x-python",
   "name": "python",
   "nbconvert_exporter": "python",
   "pygments_lexer": "ipython3",
   "version": "3.9.5"
  },
  "papermill": {
   "default_parameters": {},
   "duration": 6.354168,
   "end_time": "2021-09-04T18:30:10.687348",
   "environment_variables": {},
   "exception": null,
   "input_path": "eBay_Overview.ipynb",
   "output_path": "eBay_Overview.ipynb",
   "parameters": {},
   "start_time": "2021-09-04T18:30:04.333180",
   "version": "2.3.3"
  }
 },
 "nbformat": 4,
 "nbformat_minor": 5
}