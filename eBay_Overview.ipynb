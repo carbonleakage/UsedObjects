{
 "cells": [
  {
   "cell_type": "code",
   "execution_count": 1,
   "id": "reverse-picking",
   "metadata": {
    "execution": {
     "iopub.execute_input": "2021-10-18T00:00:07.163438Z",
     "iopub.status.busy": "2021-10-18T00:00:07.161470Z",
     "iopub.status.idle": "2021-10-18T00:00:07.971597Z",
     "shell.execute_reply": "2021-10-18T00:00:07.970042Z"
    },
    "papermill": {
     "duration": 0.860845,
     "end_time": "2021-10-18T00:00:07.971984",
     "exception": false,
     "start_time": "2021-10-18T00:00:07.111139",
     "status": "completed"
    },
    "tags": []
   },
   "outputs": [],
   "source": [
    "import pandas as pd\n",
    "import sqlite3"
   ]
  },
  {
   "cell_type": "code",
   "execution_count": 2,
   "id": "innovative-syndrome",
   "metadata": {
    "execution": {
     "iopub.execute_input": "2021-10-18T00:00:08.026048Z",
     "iopub.status.busy": "2021-10-18T00:00:08.023658Z",
     "iopub.status.idle": "2021-10-18T00:00:08.591609Z",
     "shell.execute_reply": "2021-10-18T00:00:08.592861Z"
    },
    "papermill": {
     "duration": 0.59816,
     "end_time": "2021-10-18T00:00:08.593283",
     "exception": false,
     "start_time": "2021-10-18T00:00:07.995123",
     "status": "completed"
    },
    "tags": []
   },
   "outputs": [],
   "source": [
    "timestamps = pd.read_sql(\"select distinct record_time from EBAY_TOP_BERLIN order by record_time desc limit 2\", sqlite3.connect(\"UsedObjects.db\"))"
   ]
  },
  {
   "cell_type": "code",
   "execution_count": 3,
   "id": "periodic-identification",
   "metadata": {
    "execution": {
     "iopub.execute_input": "2021-10-18T00:00:08.683155Z",
     "iopub.status.busy": "2021-10-18T00:00:08.681124Z",
     "iopub.status.idle": "2021-10-18T00:00:08.701299Z",
     "shell.execute_reply": "2021-10-18T00:00:08.702509Z"
    },
    "papermill": {
     "duration": 0.0727,
     "end_time": "2021-10-18T00:00:08.702935",
     "exception": false,
     "start_time": "2021-10-18T00:00:08.630235",
     "status": "completed"
    },
    "tags": []
   },
   "outputs": [
    {
     "data": {
      "text/html": [
       "<div>\n",
       "<style scoped>\n",
       "    .dataframe tbody tr th:only-of-type {\n",
       "        vertical-align: middle;\n",
       "    }\n",
       "\n",
       "    .dataframe tbody tr th {\n",
       "        vertical-align: top;\n",
       "    }\n",
       "\n",
       "    .dataframe thead th {\n",
       "        text-align: right;\n",
       "    }\n",
       "</style>\n",
       "<table border=\"1\" class=\"dataframe\">\n",
       "  <thead>\n",
       "    <tr style=\"text-align: right;\">\n",
       "      <th></th>\n",
       "      <th>RECORD_TIME</th>\n",
       "    </tr>\n",
       "  </thead>\n",
       "  <tbody>\n",
       "    <tr>\n",
       "      <th>0</th>\n",
       "      <td>2021-10-18 02:00</td>\n",
       "    </tr>\n",
       "    <tr>\n",
       "      <th>1</th>\n",
       "      <td>2021-10-18 01:30</td>\n",
       "    </tr>\n",
       "  </tbody>\n",
       "</table>\n",
       "</div>"
      ],
      "text/plain": [
       "        RECORD_TIME\n",
       "0  2021-10-18 02:00\n",
       "1  2021-10-18 01:30"
      ]
     },
     "execution_count": 3,
     "metadata": {},
     "output_type": "execute_result"
    }
   ],
   "source": [
    "timestamps"
   ]
  },
  {
   "cell_type": "code",
   "execution_count": 4,
   "id": "alternate-victory",
   "metadata": {
    "execution": {
     "iopub.execute_input": "2021-10-18T00:00:08.756924Z",
     "iopub.status.busy": "2021-10-18T00:00:08.754599Z",
     "iopub.status.idle": "2021-10-18T00:00:09.582067Z",
     "shell.execute_reply": "2021-10-18T00:00:09.583487Z"
    },
    "papermill": {
     "duration": 0.858121,
     "end_time": "2021-10-18T00:00:09.583923",
     "exception": false,
     "start_time": "2021-10-18T00:00:08.725802",
     "status": "completed"
    },
    "tags": []
   },
   "outputs": [],
   "source": [
    "df = pd.read_sql(\"select * from EBAY_TOP_BERLIN where record_time in (select distinct record_time from EBAY_TOP_BERLIN order by record_time desc limit 2)\", sqlite3.connect(\"UsedObjects.db\"))"
   ]
  },
  {
   "cell_type": "code",
   "execution_count": 5,
   "id": "popular-active",
   "metadata": {
    "execution": {
     "iopub.execute_input": "2021-10-18T00:00:09.655149Z",
     "iopub.status.busy": "2021-10-18T00:00:09.643966Z",
     "iopub.status.idle": "2021-10-18T00:00:09.672981Z",
     "shell.execute_reply": "2021-10-18T00:00:09.674379Z"
    },
    "papermill": {
     "duration": 0.069723,
     "end_time": "2021-10-18T00:00:09.674818",
     "exception": false,
     "start_time": "2021-10-18T00:00:09.605095",
     "status": "completed"
    },
    "tags": []
   },
   "outputs": [],
   "source": [
    "df_pivot = df.pivot_table(index=\"PRODUCT\", columns = \"RECORD_TIME\", values = \"LISTING_COUNT\")"
   ]
  },
  {
   "cell_type": "code",
   "execution_count": 6,
   "id": "union-huntington",
   "metadata": {
    "execution": {
     "iopub.execute_input": "2021-10-18T00:00:09.732938Z",
     "iopub.status.busy": "2021-10-18T00:00:09.730447Z",
     "iopub.status.idle": "2021-10-18T00:00:09.736310Z",
     "shell.execute_reply": "2021-10-18T00:00:09.737671Z"
    },
    "papermill": {
     "duration": 0.042675,
     "end_time": "2021-10-18T00:00:09.738100",
     "exception": false,
     "start_time": "2021-10-18T00:00:09.695425",
     "status": "completed"
    },
    "tags": []
   },
   "outputs": [],
   "source": [
    "df_pivot.columns = [\"stamp_1\", \"stamp_2\"]\n",
    "df_pivot_diff = df_pivot.diff(axis=1)"
   ]
  },
  {
   "cell_type": "code",
   "execution_count": 7,
   "id": "fifth-motion",
   "metadata": {
    "execution": {
     "iopub.execute_input": "2021-10-18T00:00:09.792114Z",
     "iopub.status.busy": "2021-10-18T00:00:09.789872Z",
     "iopub.status.idle": "2021-10-18T00:00:11.256047Z",
     "shell.execute_reply": "2021-10-18T00:00:11.257405Z"
    },
    "papermill": {
     "duration": 1.498963,
     "end_time": "2021-10-18T00:00:11.257828",
     "exception": false,
     "start_time": "2021-10-18T00:00:09.758865",
     "status": "completed"
    },
    "tags": []
   },
   "outputs": [
    {
     "data": {
      "text/plain": [
       "<AxesSubplot:ylabel='PRODUCT'>"
      ]
     },
     "execution_count": 7,
     "metadata": {},
     "output_type": "execute_result"
    },
    {
     "data": {
      "image/png": "[encoded data removed]",
      "text/plain": [
       "<Figure size 432x288 with 1 Axes>"
      ]
     },
     "metadata": {
      "needs_background": "light"
     },
     "output_type": "display_data"
    }
   ],
   "source": [
    "df_pivot_diff.sort_values(\"stamp_2\", ascending = False)[\"stamp_2\"].head(10).plot.barh()"
   ]
  },
  {
   "cell_type": "code",
   "execution_count": null,
   "id": "extra-executive",
   "metadata": {
    "papermill": {
     "duration": 0.022196,
     "end_time": "2021-10-18T00:00:11.304102",
     "exception": false,
     "start_time": "2021-10-18T00:00:11.281906",
     "status": "completed"
    },
    "tags": []
   },
   "outputs": [],
   "source": []
  }
 ],
 "metadata": {
  "kernelspec": {
   "display_name": "Python 3",
   "language": "python",
   "name": "python3"
  },
  "language_info": {
   "codemirror_mode": {
    "name": "ipython",
    "version": 3
   },
   "file_extension": ".py",
   "mimetype": "text/x-python",
   "name": "python",
   "nbconvert_exporter": "python",
   "pygments_lexer": "ipython3",
   "version": "3.9.5"
  },
  "papermill": {
   "default_parameters": {},
   "duration": 7.823904,
   "end_time": "2021-10-18T00:00:12.521676",
   "environment_variables": {},
   "exception": null,
   "input_path": "eBay_Overview.ipynb",
   "output_path": "eBay_Overview.ipynb",
   "parameters": {},
   "start_time": "2021-10-18T00:00:04.697772",
   "version": "2.3.3"
  }
 },
 "nbformat": 4,
 "nbformat_minor": 5
}