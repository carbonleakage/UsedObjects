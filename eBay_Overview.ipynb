{
 "cells": [
  {
   "cell_type": "code",
   "execution_count": 1,
   "id": "reverse-picking",
   "metadata": {
    "execution": {
     "iopub.execute_input": "2021-09-04T22:30:06.608626Z",
     "iopub.status.busy": "2021-09-04T22:30:06.606600Z",
     "iopub.status.idle": "2021-09-04T22:30:07.411627Z",
     "shell.execute_reply": "2021-09-04T22:30:07.412964Z"
    },
    "papermill": {
     "duration": 0.857233,
     "end_time": "2021-09-04T22:30:07.413623",
     "exception": false,
     "start_time": "2021-09-04T22:30:06.556390",
     "status": "completed"
    },
    "tags": []
   },
   "outputs": [],
   "source": [
    "import pandas as pd\n",
    "import sqlite3"
   ]
  },
  {
   "cell_type": "code",
   "execution_count": 2,
   "id": "innovative-syndrome",
   "metadata": {
    "execution": {
     "iopub.execute_input": "2021-09-04T22:30:07.464838Z",
     "iopub.status.busy": "2021-09-04T22:30:07.462956Z",
     "iopub.status.idle": "2021-09-04T22:30:07.670254Z",
     "shell.execute_reply": "2021-09-04T22:30:07.671664Z"
    },
    "papermill": {
     "duration": 0.236761,
     "end_time": "2021-09-04T22:30:07.672082",
     "exception": false,
     "start_time": "2021-09-04T22:30:07.435321",
     "status": "completed"
    },
    "tags": []
   },
   "outputs": [],
   "source": [
    "timestamps = pd.read_sql(\"select distinct record_time from EBAY_TOP_BERLIN order by record_time desc limit 2\", sqlite3.connect(\"UsedObjects.db\"))"
   ]
  },
  {
   "cell_type": "code",
   "execution_count": 3,
   "id": "periodic-identification",
   "metadata": {
    "execution": {
     "iopub.execute_input": "2021-09-04T22:30:07.738612Z",
     "iopub.status.busy": "2021-09-04T22:30:07.736601Z",
     "iopub.status.idle": "2021-09-04T22:30:07.756850Z",
     "shell.execute_reply": "2021-09-04T22:30:07.758048Z"
    },
    "papermill": {
     "duration": 0.065853,
     "end_time": "2021-09-04T22:30:07.758481",
     "exception": false,
     "start_time": "2021-09-04T22:30:07.692628",
     "status": "completed"
    },
    "tags": []
   },
   "outputs": [
    {
     "data": {
      "text/html": [
       "<div>\n",
       "<style scoped>\n",
       "    .dataframe tbody tr th:only-of-type {\n",
       "        vertical-align: middle;\n",
       "    }\n",
       "\n",
       "    .dataframe tbody tr th {\n",
       "        vertical-align: top;\n",
       "    }\n",
       "\n",
       "    .dataframe thead th {\n",
       "        text-align: right;\n",
       "    }\n",
       "</style>\n",
       "<table border=\"1\" class=\"dataframe\">\n",
       "  <thead>\n",
       "    <tr style=\"text-align: right;\">\n",
       "      <th></th>\n",
       "      <th>RECORD_TIME</th>\n",
       "    </tr>\n",
       "  </thead>\n",
       "  <tbody>\n",
       "    <tr>\n",
       "      <th>0</th>\n",
       "      <td>2021-09-05 00:30</td>\n",
       "    </tr>\n",
       "    <tr>\n",
       "      <th>1</th>\n",
       "      <td>2021-09-05 00:00</td>\n",
       "    </tr>\n",
       "  </tbody>\n",
       "</table>\n",
       "</div>"
      ],
      "text/plain": [
       "        RECORD_TIME\n",
       "0  2021-09-05 00:30\n",
       "1  2021-09-05 00:00"
      ]
     },
     "execution_count": 3,
     "metadata": {},
     "output_type": "execute_result"
    }
   ],
   "source": [
    "timestamps"
   ]
  },
  {
   "cell_type": "code",
   "execution_count": 4,
   "id": "alternate-victory",
   "metadata": {
    "execution": {
     "iopub.execute_input": "2021-09-04T22:30:07.810160Z",
     "iopub.status.busy": "2021-09-04T22:30:07.808338Z",
     "iopub.status.idle": "2021-09-04T22:30:08.122288Z",
     "shell.execute_reply": "2021-09-04T22:30:08.123716Z"
    },
    "papermill": {
     "duration": 0.343739,
     "end_time": "2021-09-04T22:30:08.124136",
     "exception": false,
     "start_time": "2021-09-04T22:30:07.780397",
     "status": "completed"
    },
    "tags": []
   },
   "outputs": [],
   "source": [
    "df = pd.read_sql(\"select * from EBAY_TOP_BERLIN where record_time in (select distinct record_time from EBAY_TOP_BERLIN order by record_time desc limit 2)\", sqlite3.connect(\"UsedObjects.db\"))"
   ]
  },
  {
   "cell_type": "code",
   "execution_count": 5,
   "id": "popular-active",
   "metadata": {
    "execution": {
     "iopub.execute_input": "2021-09-04T22:30:08.212153Z",
     "iopub.status.busy": "2021-09-04T22:30:08.205105Z",
     "iopub.status.idle": "2021-09-04T22:30:08.232301Z",
     "shell.execute_reply": "2021-09-04T22:30:08.233514Z"
    },
    "papermill": {
     "duration": 0.072797,
     "end_time": "2021-09-04T22:30:08.233908",
     "exception": false,
     "start_time": "2021-09-04T22:30:08.161111",
     "status": "completed"
    },
    "tags": []
   },
   "outputs": [],
   "source": [
    "df_pivot = df.pivot_table(index=\"PRODUCT\", columns = \"RECORD_TIME\", values = \"LISTING_COUNT\")"
   ]
  },
  {
   "cell_type": "code",
   "execution_count": 6,
   "id": "union-huntington",
   "metadata": {
    "execution": {
     "iopub.execute_input": "2021-09-04T22:30:08.293534Z",
     "iopub.status.busy": "2021-09-04T22:30:08.291091Z",
     "iopub.status.idle": "2021-09-04T22:30:08.296689Z",
     "shell.execute_reply": "2021-09-04T22:30:08.297957Z"
    },
    "papermill": {
     "duration": 0.041592,
     "end_time": "2021-09-04T22:30:08.298368",
     "exception": false,
     "start_time": "2021-09-04T22:30:08.256776",
     "status": "completed"
    },
    "tags": []
   },
   "outputs": [],
   "source": [
    "df_pivot.columns = [\"stamp_1\", \"stamp_2\"]\n",
    "df_pivot_diff = df_pivot.diff(axis=1)"
   ]
  },
  {
   "cell_type": "code",
   "execution_count": 7,
   "id": "fifth-motion",
   "metadata": {
    "execution": {
     "iopub.execute_input": "2021-09-04T22:30:08.351623Z",
     "iopub.status.busy": "2021-09-04T22:30:08.349252Z",
     "iopub.status.idle": "2021-09-04T22:30:09.818765Z",
     "shell.execute_reply": "2021-09-04T22:30:09.820262Z"
    },
    "papermill": {
     "duration": 1.502051,
     "end_time": "2021-09-04T22:30:09.820712",
     "exception": false,
     "start_time": "2021-09-04T22:30:08.318661",
     "status": "completed"
    },
    "tags": []
   },
   "outputs": [
    {
     "data": {
      "text/plain": [
       "<AxesSubplot:ylabel='PRODUCT'>"
      ]
     },
     "execution_count": 7,
     "metadata": {},
     "output_type": "execute_result"
    },
    {
     "data": {
      "image/png": "[encoded data removed]",
      "text/plain": [
       "<Figure size 432x288 with 1 Axes>"
      ]
     },
     "metadata": {
      "needs_background": "light"
     },
     "output_type": "display_data"
    }
   ],
   "source": [
    "df_pivot_diff.sort_values(\"stamp_2\", ascending = False)[\"stamp_2\"].head(10).plot.barh()"
   ]
  },
  {
   "cell_type": "code",
   "execution_count": null,
   "id": "extra-executive",
   "metadata": {
    "papermill": {
     "duration": 0.021906,
     "end_time": "2021-09-04T22:30:09.866080",
     "exception": false,
     "start_time": "2021-09-04T22:30:09.844174",
     "status": "completed"
    },
    "tags": []
   },
   "outputs": [],
   "source": []
  }
 ],
 "metadata": {
  "kernelspec": {
   "display_name": "Python 3",
   "language": "python",
   "name": "python3"
  },
  "language_info": {
   "codemirror_mode": {
    "name": "ipython",
    "version": 3
   },
   "file_extension": ".py",
   "mimetype": "text/x-python",
   "name": "python",
   "nbconvert_exporter": "python",
   "pygments_lexer": "ipython3",
   "version": "3.9.5"
  },
  "papermill": {
   "default_parameters": {},
   "duration": 6.34728,
   "end_time": "2021-09-04T22:30:10.506219",
   "environment_variables": {},
   "exception": null,
   "input_path": "eBay_Overview.ipynb",
   "output_path": "eBay_Overview.ipynb",
   "parameters": {},
   "start_time": "2021-09-04T22:30:04.158939",
   "version": "2.3.3"
  }
 },
 "nbformat": 4,
 "nbformat_minor": 5
}