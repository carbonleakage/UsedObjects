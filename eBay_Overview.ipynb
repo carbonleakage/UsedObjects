{
 "cells": [
  {
   "cell_type": "code",
   "execution_count": 1,
   "id": "reverse-picking",
   "metadata": {
    "execution": {
     "iopub.execute_input": "2021-12-21T17:00:08.051448Z",
     "iopub.status.busy": "2021-12-21T17:00:08.049078Z",
     "iopub.status.idle": "2021-12-21T17:00:09.020468Z",
     "shell.execute_reply": "2021-12-21T17:00:09.022178Z"
    },
    "papermill": {
     "duration": 1.020738,
     "end_time": "2021-12-21T17:00:09.022927",
     "exception": false,
     "start_time": "2021-12-21T17:00:08.002189",
     "status": "completed"
    },
    "tags": []
   },
   "outputs": [],
   "source": [
    "import pandas as pd\n",
    "import sqlite3"
   ]
  },
  {
   "cell_type": "code",
   "execution_count": 2,
   "id": "innovative-syndrome",
   "metadata": {
    "execution": {
     "iopub.execute_input": "2021-12-21T17:00:09.088100Z",
     "iopub.status.busy": "2021-12-21T17:00:09.085584Z",
     "iopub.status.idle": "2021-12-21T17:00:10.234188Z",
     "shell.execute_reply": "2021-12-21T17:00:10.235703Z"
    },
    "papermill": {
     "duration": 1.184039,
     "end_time": "2021-12-21T17:00:10.236230",
     "exception": false,
     "start_time": "2021-12-21T17:00:09.052191",
     "status": "completed"
    },
    "tags": []
   },
   "outputs": [],
   "source": [
    "timestamps = pd.read_sql(\"select distinct record_time from EBAY_TOP_BERLIN order by record_time desc limit 2\", sqlite3.connect(\"UsedObjects.db\"))"
   ]
  },
  {
   "cell_type": "code",
   "execution_count": 3,
   "id": "periodic-identification",
   "metadata": {
    "execution": {
     "iopub.execute_input": "2021-12-21T17:00:10.312450Z",
     "iopub.status.busy": "2021-12-21T17:00:10.306337Z",
     "iopub.status.idle": "2021-12-21T17:00:10.329945Z",
     "shell.execute_reply": "2021-12-21T17:00:10.331473Z"
    },
    "papermill": {
     "duration": 0.073906,
     "end_time": "2021-12-21T17:00:10.331988",
     "exception": false,
     "start_time": "2021-12-21T17:00:10.258082",
     "status": "completed"
    },
    "tags": []
   },
   "outputs": [
    {
     "data": {
      "text/html": [
       "<div>\n",
       "<style scoped>\n",
       "    .dataframe tbody tr th:only-of-type {\n",
       "        vertical-align: middle;\n",
       "    }\n",
       "\n",
       "    .dataframe tbody tr th {\n",
       "        vertical-align: top;\n",
       "    }\n",
       "\n",
       "    .dataframe thead th {\n",
       "        text-align: right;\n",
       "    }\n",
       "</style>\n",
       "<table border=\"1\" class=\"dataframe\">\n",
       "  <thead>\n",
       "    <tr style=\"text-align: right;\">\n",
       "      <th></th>\n",
       "      <th>RECORD_TIME</th>\n",
       "    </tr>\n",
       "  </thead>\n",
       "  <tbody>\n",
       "    <tr>\n",
       "      <th>0</th>\n",
       "      <td>2021-12-21 18:00</td>\n",
       "    </tr>\n",
       "    <tr>\n",
       "      <th>1</th>\n",
       "      <td>2021-12-21 17:30</td>\n",
       "    </tr>\n",
       "  </tbody>\n",
       "</table>\n",
       "</div>"
      ],
      "text/plain": [
       "        RECORD_TIME\n",
       "0  2021-12-21 18:00\n",
       "1  2021-12-21 17:30"
      ]
     },
     "execution_count": 3,
     "metadata": {},
     "output_type": "execute_result"
    }
   ],
   "source": [
    "timestamps"
   ]
  },
  {
   "cell_type": "code",
   "execution_count": 4,
   "id": "alternate-victory",
   "metadata": {
    "execution": {
     "iopub.execute_input": "2021-12-21T17:00:10.389534Z",
     "iopub.status.busy": "2021-12-21T17:00:10.387108Z",
     "iopub.status.idle": "2021-12-21T17:00:12.060052Z",
     "shell.execute_reply": "2021-12-21T17:00:12.061674Z"
    },
    "papermill": {
     "duration": 1.708767,
     "end_time": "2021-12-21T17:00:12.062174",
     "exception": false,
     "start_time": "2021-12-21T17:00:10.353407",
     "status": "completed"
    },
    "tags": []
   },
   "outputs": [],
   "source": [
    "df = pd.read_sql(\"select * from EBAY_TOP_BERLIN where record_time in (select distinct record_time from EBAY_TOP_BERLIN order by record_time desc limit 2)\", sqlite3.connect(\"UsedObjects.db\"))"
   ]
  },
  {
   "cell_type": "code",
   "execution_count": 5,
   "id": "popular-active",
   "metadata": {
    "execution": {
     "iopub.execute_input": "2021-12-21T17:00:12.138826Z",
     "iopub.status.busy": "2021-12-21T17:00:12.125795Z",
     "iopub.status.idle": "2021-12-21T17:00:12.156565Z",
     "shell.execute_reply": "2021-12-21T17:00:12.158037Z"
    },
    "papermill": {
     "duration": 0.074051,
     "end_time": "2021-12-21T17:00:12.158519",
     "exception": false,
     "start_time": "2021-12-21T17:00:12.084468",
     "status": "completed"
    },
    "tags": []
   },
   "outputs": [],
   "source": [
    "df_pivot = df.pivot_table(index=\"PRODUCT\", columns = \"RECORD_TIME\", values = \"LISTING_COUNT\")"
   ]
  },
  {
   "cell_type": "code",
   "execution_count": 6,
   "id": "union-huntington",
   "metadata": {
    "execution": {
     "iopub.execute_input": "2021-12-21T17:00:12.217871Z",
     "iopub.status.busy": "2021-12-21T17:00:12.215632Z",
     "iopub.status.idle": "2021-12-21T17:00:12.222576Z",
     "shell.execute_reply": "2021-12-21T17:00:12.220492Z"
    },
    "papermill": {
     "duration": 0.04403,
     "end_time": "2021-12-21T17:00:12.222981",
     "exception": false,
     "start_time": "2021-12-21T17:00:12.178951",
     "status": "completed"
    },
    "tags": []
   },
   "outputs": [],
   "source": [
    "df_pivot.columns = [\"stamp_1\", \"stamp_2\"]\n",
    "df_pivot_diff = df_pivot.diff(axis=1)"
   ]
  },
  {
   "cell_type": "code",
   "execution_count": 7,
   "id": "fifth-motion",
   "metadata": {
    "execution": {
     "iopub.execute_input": "2021-12-21T17:00:12.287897Z",
     "iopub.status.busy": "2021-12-21T17:00:12.276565Z",
     "iopub.status.idle": "2021-12-21T17:00:14.217570Z",
     "shell.execute_reply": "2021-12-21T17:00:14.218956Z"
    },
    "papermill": {
     "duration": 1.976104,
     "end_time": "2021-12-21T17:00:14.219403",
     "exception": false,
     "start_time": "2021-12-21T17:00:12.243299",
     "status": "completed"
    },
    "tags": []
   },
   "outputs": [
    {
     "data": {
      "text/plain": [
       "<AxesSubplot:ylabel='PRODUCT'>"
      ]
     },
     "execution_count": 7,
     "metadata": {},
     "output_type": "execute_result"
    },
    {
     "data": {
      "image/png": "[encoded data removed]",
      "text/plain": [
       "<Figure size 432x288 with 1 Axes>"
      ]
     },
     "metadata": {
      "needs_background": "light"
     },
     "output_type": "display_data"
    }
   ],
   "source": [
    "df_pivot_diff.sort_values(\"stamp_2\", ascending = False)[\"stamp_2\"].head(10).plot.barh()"
   ]
  },
  {
   "cell_type": "code",
   "execution_count": null,
   "id": "extra-executive",
   "metadata": {
    "papermill": {
     "duration": 0.028423,
     "end_time": "2021-12-21T17:00:14.335790",
     "exception": false,
     "start_time": "2021-12-21T17:00:14.307367",
     "status": "completed"
    },
    "tags": []
   },
   "outputs": [],
   "source": []
  }
 ],
 "metadata": {
  "kernelspec": {
   "display_name": "Python 3",
   "language": "python",
   "name": "python3"
  },
  "language_info": {
   "codemirror_mode": {
    "name": "ipython",
    "version": 3
   },
   "file_extension": ".py",
   "mimetype": "text/x-python",
   "name": "python",
   "nbconvert_exporter": "python",
   "pygments_lexer": "ipython3",
   "version": "3.9.5"
  },
  "papermill": {
   "default_parameters": {},
   "duration": 9.762362,
   "end_time": "2021-12-21T17:00:14.986462",
   "environment_variables": {},
   "exception": null,
   "input_path": "eBay_Overview.ipynb",
   "output_path": "eBay_Overview.ipynb",
   "parameters": {},
   "start_time": "2021-12-21T17:00:05.224100",
   "version": "2.3.3"
  }
 },
 "nbformat": 4,
 "nbformat_minor": 5
}