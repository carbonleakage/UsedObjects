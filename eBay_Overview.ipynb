{
 "cells": [
  {
   "cell_type": "code",
   "execution_count": 1,
   "id": "reverse-picking",
   "metadata": {
    "execution": {
     "iopub.execute_input": "2021-09-17T01:30:07.324425Z",
     "iopub.status.busy": "2021-09-17T01:30:07.322421Z",
     "iopub.status.idle": "2021-09-17T01:30:08.122487Z",
     "shell.execute_reply": "2021-09-17T01:30:08.123908Z"
    },
    "papermill": {
     "duration": 0.849924,
     "end_time": "2021-09-17T01:30:08.124559",
     "exception": false,
     "start_time": "2021-09-17T01:30:07.274635",
     "status": "completed"
    },
    "tags": []
   },
   "outputs": [],
   "source": [
    "import pandas as pd\n",
    "import sqlite3"
   ]
  },
  {
   "cell_type": "code",
   "execution_count": 2,
   "id": "innovative-syndrome",
   "metadata": {
    "execution": {
     "iopub.execute_input": "2021-09-17T01:30:08.175108Z",
     "iopub.status.busy": "2021-09-17T01:30:08.172989Z",
     "iopub.status.idle": "2021-09-17T01:30:08.481018Z",
     "shell.execute_reply": "2021-09-17T01:30:08.482284Z"
    },
    "papermill": {
     "duration": 0.338266,
     "end_time": "2021-09-17T01:30:08.482691",
     "exception": false,
     "start_time": "2021-09-17T01:30:08.144425",
     "status": "completed"
    },
    "tags": []
   },
   "outputs": [],
   "source": [
    "timestamps = pd.read_sql(\"select distinct record_time from EBAY_TOP_BERLIN order by record_time desc limit 2\", sqlite3.connect(\"UsedObjects.db\"))"
   ]
  },
  {
   "cell_type": "code",
   "execution_count": 3,
   "id": "periodic-identification",
   "metadata": {
    "execution": {
     "iopub.execute_input": "2021-09-17T01:30:08.548479Z",
     "iopub.status.busy": "2021-09-17T01:30:08.546379Z",
     "iopub.status.idle": "2021-09-17T01:30:08.566285Z",
     "shell.execute_reply": "2021-09-17T01:30:08.567549Z"
    },
    "papermill": {
     "duration": 0.066392,
     "end_time": "2021-09-17T01:30:08.567979",
     "exception": false,
     "start_time": "2021-09-17T01:30:08.501587",
     "status": "completed"
    },
    "tags": []
   },
   "outputs": [
    {
     "data": {
      "text/html": [
       "<div>\n",
       "<style scoped>\n",
       "    .dataframe tbody tr th:only-of-type {\n",
       "        vertical-align: middle;\n",
       "    }\n",
       "\n",
       "    .dataframe tbody tr th {\n",
       "        vertical-align: top;\n",
       "    }\n",
       "\n",
       "    .dataframe thead th {\n",
       "        text-align: right;\n",
       "    }\n",
       "</style>\n",
       "<table border=\"1\" class=\"dataframe\">\n",
       "  <thead>\n",
       "    <tr style=\"text-align: right;\">\n",
       "      <th></th>\n",
       "      <th>RECORD_TIME</th>\n",
       "    </tr>\n",
       "  </thead>\n",
       "  <tbody>\n",
       "    <tr>\n",
       "      <th>0</th>\n",
       "      <td>2021-09-17 03:30</td>\n",
       "    </tr>\n",
       "    <tr>\n",
       "      <th>1</th>\n",
       "      <td>2021-09-17 03:00</td>\n",
       "    </tr>\n",
       "  </tbody>\n",
       "</table>\n",
       "</div>"
      ],
      "text/plain": [
       "        RECORD_TIME\n",
       "0  2021-09-17 03:30\n",
       "1  2021-09-17 03:00"
      ]
     },
     "execution_count": 3,
     "metadata": {},
     "output_type": "execute_result"
    }
   ],
   "source": [
    "timestamps"
   ]
  },
  {
   "cell_type": "code",
   "execution_count": 4,
   "id": "alternate-victory",
   "metadata": {
    "execution": {
     "iopub.execute_input": "2021-09-17T01:30:08.618396Z",
     "iopub.status.busy": "2021-09-17T01:30:08.616561Z",
     "iopub.status.idle": "2021-09-17T01:30:09.063786Z",
     "shell.execute_reply": "2021-09-17T01:30:09.065099Z"
    },
    "papermill": {
     "duration": 0.476838,
     "end_time": "2021-09-17T01:30:09.065510",
     "exception": false,
     "start_time": "2021-09-17T01:30:08.588672",
     "status": "completed"
    },
    "tags": []
   },
   "outputs": [],
   "source": [
    "df = pd.read_sql(\"select * from EBAY_TOP_BERLIN where record_time in (select distinct record_time from EBAY_TOP_BERLIN order by record_time desc limit 2)\", sqlite3.connect(\"UsedObjects.db\"))"
   ]
  },
  {
   "cell_type": "code",
   "execution_count": 5,
   "id": "popular-active",
   "metadata": {
    "execution": {
     "iopub.execute_input": "2021-09-17T01:30:09.150144Z",
     "iopub.status.busy": "2021-09-17T01:30:09.138099Z",
     "iopub.status.idle": "2021-09-17T01:30:09.165776Z",
     "shell.execute_reply": "2021-09-17T01:30:09.167145Z"
    },
    "papermill": {
     "duration": 0.073492,
     "end_time": "2021-09-17T01:30:09.167560",
     "exception": false,
     "start_time": "2021-09-17T01:30:09.094068",
     "status": "completed"
    },
    "tags": []
   },
   "outputs": [],
   "source": [
    "df_pivot = df.pivot_table(index=\"PRODUCT\", columns = \"RECORD_TIME\", values = \"LISTING_COUNT\")"
   ]
  },
  {
   "cell_type": "code",
   "execution_count": 6,
   "id": "union-huntington",
   "metadata": {
    "execution": {
     "iopub.execute_input": "2021-09-17T01:30:09.223419Z",
     "iopub.status.busy": "2021-09-17T01:30:09.221325Z",
     "iopub.status.idle": "2021-09-17T01:30:09.226584Z",
     "shell.execute_reply": "2021-09-17T01:30:09.227971Z"
    },
    "papermill": {
     "duration": 0.041028,
     "end_time": "2021-09-17T01:30:09.228387",
     "exception": false,
     "start_time": "2021-09-17T01:30:09.187359",
     "status": "completed"
    },
    "tags": []
   },
   "outputs": [],
   "source": [
    "df_pivot.columns = [\"stamp_1\", \"stamp_2\"]\n",
    "df_pivot_diff = df_pivot.diff(axis=1)"
   ]
  },
  {
   "cell_type": "code",
   "execution_count": 7,
   "id": "fifth-motion",
   "metadata": {
    "execution": {
     "iopub.execute_input": "2021-09-17T01:30:09.284533Z",
     "iopub.status.busy": "2021-09-17T01:30:09.281919Z",
     "iopub.status.idle": "2021-09-17T01:30:10.744887Z",
     "shell.execute_reply": "2021-09-17T01:30:10.746183Z"
    },
    "papermill": {
     "duration": 1.495547,
     "end_time": "2021-09-17T01:30:10.746596",
     "exception": false,
     "start_time": "2021-09-17T01:30:09.251049",
     "status": "completed"
    },
    "tags": []
   },
   "outputs": [
    {
     "data": {
      "text/plain": [
       "<AxesSubplot:ylabel='PRODUCT'>"
      ]
     },
     "execution_count": 7,
     "metadata": {},
     "output_type": "execute_result"
    },
    {
     "data": {
      "image/png": "[encoded data removed]",
      "text/plain": [
       "<Figure size 432x288 with 1 Axes>"
      ]
     },
     "metadata": {
      "needs_background": "light"
     },
     "output_type": "display_data"
    }
   ],
   "source": [
    "df_pivot_diff.sort_values(\"stamp_2\", ascending = False)[\"stamp_2\"].head(10).plot.barh()"
   ]
  },
  {
   "cell_type": "code",
   "execution_count": null,
   "id": "extra-executive",
   "metadata": {
    "papermill": {
     "duration": 0.021902,
     "end_time": "2021-09-17T01:30:10.791635",
     "exception": false,
     "start_time": "2021-09-17T01:30:10.769733",
     "status": "completed"
    },
    "tags": []
   },
   "outputs": [],
   "source": []
  }
 ],
 "metadata": {
  "kernelspec": {
   "display_name": "Python 3",
   "language": "python",
   "name": "python3"
  },
  "language_info": {
   "codemirror_mode": {
    "name": "ipython",
    "version": 3
   },
   "file_extension": ".py",
   "mimetype": "text/x-python",
   "name": "python",
   "nbconvert_exporter": "python",
   "pygments_lexer": "ipython3",
   "version": "3.9.5"
  },
  "papermill": {
   "default_parameters": {},
   "duration": 6.553107,
   "end_time": "2021-09-17T01:30:11.434551",
   "environment_variables": {},
   "exception": null,
   "input_path": "eBay_Overview.ipynb",
   "output_path": "eBay_Overview.ipynb",
   "parameters": {},
   "start_time": "2021-09-17T01:30:04.881444",
   "version": "2.3.3"
  }
 },
 "nbformat": 4,
 "nbformat_minor": 5
}