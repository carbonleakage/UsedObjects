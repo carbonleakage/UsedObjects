{
 "cells": [
  {
   "cell_type": "code",
   "execution_count": 1,
   "id": "reverse-picking",
   "metadata": {
    "execution": {
     "iopub.execute_input": "2021-12-12T03:30:07.135673Z",
     "iopub.status.busy": "2021-12-12T03:30:07.133516Z",
     "iopub.status.idle": "2021-12-12T03:30:08.084224Z",
     "shell.execute_reply": "2021-12-12T03:30:08.085875Z"
    },
    "papermill": {
     "duration": 0.999776,
     "end_time": "2021-12-12T03:30:08.086619",
     "exception": false,
     "start_time": "2021-12-12T03:30:07.086843",
     "status": "completed"
    },
    "tags": []
   },
   "outputs": [],
   "source": [
    "import pandas as pd\n",
    "import sqlite3"
   ]
  },
  {
   "cell_type": "code",
   "execution_count": 2,
   "id": "innovative-syndrome",
   "metadata": {
    "execution": {
     "iopub.execute_input": "2021-12-12T03:30:08.155655Z",
     "iopub.status.busy": "2021-12-12T03:30:08.153376Z",
     "iopub.status.idle": "2021-12-12T03:30:09.235483Z",
     "shell.execute_reply": "2021-12-12T03:30:09.236950Z"
    },
    "papermill": {
     "duration": 1.117684,
     "end_time": "2021-12-12T03:30:09.237431",
     "exception": false,
     "start_time": "2021-12-12T03:30:08.119747",
     "status": "completed"
    },
    "tags": []
   },
   "outputs": [],
   "source": [
    "timestamps = pd.read_sql(\"select distinct record_time from EBAY_TOP_BERLIN order by record_time desc limit 2\", sqlite3.connect(\"UsedObjects.db\"))"
   ]
  },
  {
   "cell_type": "code",
   "execution_count": 3,
   "id": "periodic-identification",
   "metadata": {
    "execution": {
     "iopub.execute_input": "2021-12-12T03:30:09.308623Z",
     "iopub.status.busy": "2021-12-12T03:30:09.306316Z",
     "iopub.status.idle": "2021-12-12T03:30:09.330774Z",
     "shell.execute_reply": "2021-12-12T03:30:09.332356Z"
    },
    "papermill": {
     "duration": 0.07584,
     "end_time": "2021-12-12T03:30:09.332911",
     "exception": false,
     "start_time": "2021-12-12T03:30:09.257071",
     "status": "completed"
    },
    "tags": []
   },
   "outputs": [
    {
     "data": {
      "text/html": [
       "<div>\n",
       "<style scoped>\n",
       "    .dataframe tbody tr th:only-of-type {\n",
       "        vertical-align: middle;\n",
       "    }\n",
       "\n",
       "    .dataframe tbody tr th {\n",
       "        vertical-align: top;\n",
       "    }\n",
       "\n",
       "    .dataframe thead th {\n",
       "        text-align: right;\n",
       "    }\n",
       "</style>\n",
       "<table border=\"1\" class=\"dataframe\">\n",
       "  <thead>\n",
       "    <tr style=\"text-align: right;\">\n",
       "      <th></th>\n",
       "      <th>RECORD_TIME</th>\n",
       "    </tr>\n",
       "  </thead>\n",
       "  <tbody>\n",
       "    <tr>\n",
       "      <th>0</th>\n",
       "      <td>2021-12-12 04:30</td>\n",
       "    </tr>\n",
       "    <tr>\n",
       "      <th>1</th>\n",
       "      <td>2021-12-12 04:00</td>\n",
       "    </tr>\n",
       "  </tbody>\n",
       "</table>\n",
       "</div>"
      ],
      "text/plain": [
       "        RECORD_TIME\n",
       "0  2021-12-12 04:30\n",
       "1  2021-12-12 04:00"
      ]
     },
     "execution_count": 3,
     "metadata": {},
     "output_type": "execute_result"
    }
   ],
   "source": [
    "timestamps"
   ]
  },
  {
   "cell_type": "code",
   "execution_count": 4,
   "id": "alternate-victory",
   "metadata": {
    "execution": {
     "iopub.execute_input": "2021-12-12T03:30:09.391385Z",
     "iopub.status.busy": "2021-12-12T03:30:09.388856Z",
     "iopub.status.idle": "2021-12-12T03:30:10.898712Z",
     "shell.execute_reply": "2021-12-12T03:30:10.900189Z"
    },
    "papermill": {
     "duration": 1.546189,
     "end_time": "2021-12-12T03:30:10.900666",
     "exception": false,
     "start_time": "2021-12-12T03:30:09.354477",
     "status": "completed"
    },
    "tags": []
   },
   "outputs": [],
   "source": [
    "df = pd.read_sql(\"select * from EBAY_TOP_BERLIN where record_time in (select distinct record_time from EBAY_TOP_BERLIN order by record_time desc limit 2)\", sqlite3.connect(\"UsedObjects.db\"))"
   ]
  },
  {
   "cell_type": "code",
   "execution_count": 5,
   "id": "popular-active",
   "metadata": {
    "execution": {
     "iopub.execute_input": "2021-12-12T03:30:10.965001Z",
     "iopub.status.busy": "2021-12-12T03:30:10.962576Z",
     "iopub.status.idle": "2021-12-12T03:30:10.998677Z",
     "shell.execute_reply": "2021-12-12T03:30:10.996838Z"
    },
    "papermill": {
     "duration": 0.077442,
     "end_time": "2021-12-12T03:30:10.999102",
     "exception": false,
     "start_time": "2021-12-12T03:30:10.921660",
     "status": "completed"
    },
    "tags": []
   },
   "outputs": [],
   "source": [
    "df_pivot = df.pivot_table(index=\"PRODUCT\", columns = \"RECORD_TIME\", values = \"LISTING_COUNT\")"
   ]
  },
  {
   "cell_type": "code",
   "execution_count": 6,
   "id": "union-huntington",
   "metadata": {
    "execution": {
     "iopub.execute_input": "2021-12-12T03:30:11.060760Z",
     "iopub.status.busy": "2021-12-12T03:30:11.058214Z",
     "iopub.status.idle": "2021-12-12T03:30:11.064522Z",
     "shell.execute_reply": "2021-12-12T03:30:11.066120Z"
    },
    "papermill": {
     "duration": 0.046315,
     "end_time": "2021-12-12T03:30:11.066610",
     "exception": false,
     "start_time": "2021-12-12T03:30:11.020295",
     "status": "completed"
    },
    "tags": []
   },
   "outputs": [],
   "source": [
    "df_pivot.columns = [\"stamp_1\", \"stamp_2\"]\n",
    "df_pivot_diff = df_pivot.diff(axis=1)"
   ]
  },
  {
   "cell_type": "code",
   "execution_count": 7,
   "id": "fifth-motion",
   "metadata": {
    "execution": {
     "iopub.execute_input": "2021-12-12T03:30:11.125981Z",
     "iopub.status.busy": "2021-12-12T03:30:11.123488Z",
     "iopub.status.idle": "2021-12-12T03:30:13.055879Z",
     "shell.execute_reply": "2021-12-12T03:30:13.057244Z"
    },
    "papermill": {
     "duration": 1.968971,
     "end_time": "2021-12-12T03:30:13.057721",
     "exception": false,
     "start_time": "2021-12-12T03:30:11.088750",
     "status": "completed"
    },
    "tags": []
   },
   "outputs": [
    {
     "data": {
      "text/plain": [
       "<AxesSubplot:ylabel='PRODUCT'>"
      ]
     },
     "execution_count": 7,
     "metadata": {},
     "output_type": "execute_result"
    },
    {
     "data": {
      "image/png": "[encoded data removed]",
      "text/plain": [
       "<Figure size 432x288 with 1 Axes>"
      ]
     },
     "metadata": {
      "needs_background": "light"
     },
     "output_type": "display_data"
    }
   ],
   "source": [
    "df_pivot_diff.sort_values(\"stamp_2\", ascending = False)[\"stamp_2\"].head(10).plot.barh()"
   ]
  },
  {
   "cell_type": "code",
   "execution_count": null,
   "id": "extra-executive",
   "metadata": {
    "papermill": {
     "duration": 0.039963,
     "end_time": "2021-12-12T03:30:13.124351",
     "exception": false,
     "start_time": "2021-12-12T03:30:13.084388",
     "status": "completed"
    },
    "tags": []
   },
   "outputs": [],
   "source": []
  }
 ],
 "metadata": {
  "kernelspec": {
   "display_name": "Python 3",
   "language": "python",
   "name": "python3"
  },
  "language_info": {
   "codemirror_mode": {
    "name": "ipython",
    "version": 3
   },
   "file_extension": ".py",
   "mimetype": "text/x-python",
   "name": "python",
   "nbconvert_exporter": "python",
   "pygments_lexer": "ipython3",
   "version": "3.9.5"
  },
  "papermill": {
   "default_parameters": {},
   "duration": 9.711032,
   "end_time": "2021-12-12T03:30:13.993983",
   "environment_variables": {},
   "exception": null,
   "input_path": "eBay_Overview.ipynb",
   "output_path": "eBay_Overview.ipynb",
   "parameters": {},
   "start_time": "2021-12-12T03:30:04.282951",
   "version": "2.3.3"
  }
 },
 "nbformat": 4,
 "nbformat_minor": 5
}