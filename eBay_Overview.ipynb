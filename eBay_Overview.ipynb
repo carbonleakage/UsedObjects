{
 "cells": [
  {
   "cell_type": "code",
   "execution_count": 1,
   "id": "reverse-picking",
   "metadata": {
    "execution": {
     "iopub.execute_input": "2021-10-10T14:00:07.449986Z",
     "iopub.status.busy": "2021-10-10T14:00:07.448053Z",
     "iopub.status.idle": "2021-10-10T14:00:08.255743Z",
     "shell.execute_reply": "2021-10-10T14:00:08.254104Z"
    },
    "papermill": {
     "duration": 0.858556,
     "end_time": "2021-10-10T14:00:08.256184",
     "exception": false,
     "start_time": "2021-10-10T14:00:07.397628",
     "status": "completed"
    },
    "tags": []
   },
   "outputs": [],
   "source": [
    "import pandas as pd\n",
    "import sqlite3"
   ]
  },
  {
   "cell_type": "code",
   "execution_count": 2,
   "id": "innovative-syndrome",
   "metadata": {
    "execution": {
     "iopub.execute_input": "2021-10-10T14:00:08.307304Z",
     "iopub.status.busy": "2021-10-10T14:00:08.305238Z",
     "iopub.status.idle": "2021-10-10T14:00:08.804323Z",
     "shell.execute_reply": "2021-10-10T14:00:08.805724Z"
    },
    "papermill": {
     "duration": 0.52893,
     "end_time": "2021-10-10T14:00:08.806165",
     "exception": false,
     "start_time": "2021-10-10T14:00:08.277235",
     "status": "completed"
    },
    "tags": []
   },
   "outputs": [],
   "source": [
    "timestamps = pd.read_sql(\"select distinct record_time from EBAY_TOP_BERLIN order by record_time desc limit 2\", sqlite3.connect(\"UsedObjects.db\"))"
   ]
  },
  {
   "cell_type": "code",
   "execution_count": 3,
   "id": "periodic-identification",
   "metadata": {
    "execution": {
     "iopub.execute_input": "2021-10-10T14:00:08.869561Z",
     "iopub.status.busy": "2021-10-10T14:00:08.867543Z",
     "iopub.status.idle": "2021-10-10T14:00:08.887442Z",
     "shell.execute_reply": "2021-10-10T14:00:08.888664Z"
    },
    "papermill": {
     "duration": 0.062828,
     "end_time": "2021-10-10T14:00:08.889095",
     "exception": false,
     "start_time": "2021-10-10T14:00:08.826267",
     "status": "completed"
    },
    "tags": []
   },
   "outputs": [
    {
     "data": {
      "text/html": [
       "<div>\n",
       "<style scoped>\n",
       "    .dataframe tbody tr th:only-of-type {\n",
       "        vertical-align: middle;\n",
       "    }\n",
       "\n",
       "    .dataframe tbody tr th {\n",
       "        vertical-align: top;\n",
       "    }\n",
       "\n",
       "    .dataframe thead th {\n",
       "        text-align: right;\n",
       "    }\n",
       "</style>\n",
       "<table border=\"1\" class=\"dataframe\">\n",
       "  <thead>\n",
       "    <tr style=\"text-align: right;\">\n",
       "      <th></th>\n",
       "      <th>RECORD_TIME</th>\n",
       "    </tr>\n",
       "  </thead>\n",
       "  <tbody>\n",
       "    <tr>\n",
       "      <th>0</th>\n",
       "      <td>2021-10-10 16:00</td>\n",
       "    </tr>\n",
       "    <tr>\n",
       "      <th>1</th>\n",
       "      <td>2021-10-10 15:30</td>\n",
       "    </tr>\n",
       "  </tbody>\n",
       "</table>\n",
       "</div>"
      ],
      "text/plain": [
       "        RECORD_TIME\n",
       "0  2021-10-10 16:00\n",
       "1  2021-10-10 15:30"
      ]
     },
     "execution_count": 3,
     "metadata": {},
     "output_type": "execute_result"
    }
   ],
   "source": [
    "timestamps"
   ]
  },
  {
   "cell_type": "code",
   "execution_count": 4,
   "id": "alternate-victory",
   "metadata": {
    "execution": {
     "iopub.execute_input": "2021-10-10T14:00:08.950611Z",
     "iopub.status.busy": "2021-10-10T14:00:08.948091Z",
     "iopub.status.idle": "2021-10-10T14:00:09.682582Z",
     "shell.execute_reply": "2021-10-10T14:00:09.684052Z"
    },
    "papermill": {
     "duration": 0.76762,
     "end_time": "2021-10-10T14:00:09.684482",
     "exception": false,
     "start_time": "2021-10-10T14:00:08.916862",
     "status": "completed"
    },
    "tags": []
   },
   "outputs": [],
   "source": [
    "df = pd.read_sql(\"select * from EBAY_TOP_BERLIN where record_time in (select distinct record_time from EBAY_TOP_BERLIN order by record_time desc limit 2)\", sqlite3.connect(\"UsedObjects.db\"))"
   ]
  },
  {
   "cell_type": "code",
   "execution_count": 5,
   "id": "popular-active",
   "metadata": {
    "execution": {
     "iopub.execute_input": "2021-10-10T14:00:09.755394Z",
     "iopub.status.busy": "2021-10-10T14:00:09.742757Z",
     "iopub.status.idle": "2021-10-10T14:00:09.772256Z",
     "shell.execute_reply": "2021-10-10T14:00:09.773626Z"
    },
    "papermill": {
     "duration": 0.068106,
     "end_time": "2021-10-10T14:00:09.774067",
     "exception": false,
     "start_time": "2021-10-10T14:00:09.705961",
     "status": "completed"
    },
    "tags": []
   },
   "outputs": [],
   "source": [
    "df_pivot = df.pivot_table(index=\"PRODUCT\", columns = \"RECORD_TIME\", values = \"LISTING_COUNT\")"
   ]
  },
  {
   "cell_type": "code",
   "execution_count": 6,
   "id": "union-huntington",
   "metadata": {
    "execution": {
     "iopub.execute_input": "2021-10-10T14:00:09.831505Z",
     "iopub.status.busy": "2021-10-10T14:00:09.829381Z",
     "iopub.status.idle": "2021-10-10T14:00:09.834644Z",
     "shell.execute_reply": "2021-10-10T14:00:09.836049Z"
    },
    "papermill": {
     "duration": 0.041577,
     "end_time": "2021-10-10T14:00:09.836473",
     "exception": false,
     "start_time": "2021-10-10T14:00:09.794896",
     "status": "completed"
    },
    "tags": []
   },
   "outputs": [],
   "source": [
    "df_pivot.columns = [\"stamp_1\", \"stamp_2\"]\n",
    "df_pivot_diff = df_pivot.diff(axis=1)"
   ]
  },
  {
   "cell_type": "code",
   "execution_count": 7,
   "id": "fifth-motion",
   "metadata": {
    "execution": {
     "iopub.execute_input": "2021-10-10T14:00:09.890142Z",
     "iopub.status.busy": "2021-10-10T14:00:09.887731Z",
     "iopub.status.idle": "2021-10-10T14:00:11.374616Z",
     "shell.execute_reply": "2021-10-10T14:00:11.375992Z"
    },
    "papermill": {
     "duration": 1.519747,
     "end_time": "2021-10-10T14:00:11.376412",
     "exception": false,
     "start_time": "2021-10-10T14:00:09.856665",
     "status": "completed"
    },
    "tags": []
   },
   "outputs": [
    {
     "data": {
      "text/plain": [
       "<AxesSubplot:ylabel='PRODUCT'>"
      ]
     },
     "execution_count": 7,
     "metadata": {},
     "output_type": "execute_result"
    },
    {
     "data": {
      "image/png": "[encoded data removed]",
      "text/plain": [
       "<Figure size 432x288 with 1 Axes>"
      ]
     },
     "metadata": {
      "needs_background": "light"
     },
     "output_type": "display_data"
    }
   ],
   "source": [
    "df_pivot_diff.sort_values(\"stamp_2\", ascending = False)[\"stamp_2\"].head(10).plot.barh()"
   ]
  },
  {
   "cell_type": "code",
   "execution_count": null,
   "id": "extra-executive",
   "metadata": {
    "papermill": {
     "duration": 0.02217,
     "end_time": "2021-10-10T14:00:11.422402",
     "exception": false,
     "start_time": "2021-10-10T14:00:11.400232",
     "status": "completed"
    },
    "tags": []
   },
   "outputs": [],
   "source": []
  }
 ],
 "metadata": {
  "kernelspec": {
   "display_name": "Python 3",
   "language": "python",
   "name": "python3"
  },
  "language_info": {
   "codemirror_mode": {
    "name": "ipython",
    "version": 3
   },
   "file_extension": ".py",
   "mimetype": "text/x-python",
   "name": "python",
   "nbconvert_exporter": "python",
   "pygments_lexer": "ipython3",
   "version": "3.9.5"
  },
  "papermill": {
   "default_parameters": {},
   "duration": 7.831136,
   "end_time": "2021-10-10T14:00:12.823811",
   "environment_variables": {},
   "exception": null,
   "input_path": "eBay_Overview.ipynb",
   "output_path": "eBay_Overview.ipynb",
   "parameters": {},
   "start_time": "2021-10-10T14:00:04.992675",
   "version": "2.3.3"
  }
 },
 "nbformat": 4,
 "nbformat_minor": 5
}