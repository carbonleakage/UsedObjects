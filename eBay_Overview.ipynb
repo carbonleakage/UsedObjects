{
 "cells": [
  {
   "cell_type": "code",
   "execution_count": 1,
   "id": "reverse-picking",
   "metadata": {
    "execution": {
     "iopub.execute_input": "2021-10-25T17:00:06.958857Z",
     "iopub.status.busy": "2021-10-25T17:00:06.956787Z",
     "iopub.status.idle": "2021-10-25T17:00:07.772106Z",
     "shell.execute_reply": "2021-10-25T17:00:07.773433Z"
    },
    "papermill": {
     "duration": 0.866044,
     "end_time": "2021-10-25T17:00:07.774060",
     "exception": false,
     "start_time": "2021-10-25T17:00:06.908016",
     "status": "completed"
    },
    "tags": []
   },
   "outputs": [],
   "source": [
    "import pandas as pd\n",
    "import sqlite3"
   ]
  },
  {
   "cell_type": "code",
   "execution_count": 2,
   "id": "innovative-syndrome",
   "metadata": {
    "execution": {
     "iopub.execute_input": "2021-10-25T17:00:07.826829Z",
     "iopub.status.busy": "2021-10-25T17:00:07.824543Z",
     "iopub.status.idle": "2021-10-25T17:00:08.462045Z",
     "shell.execute_reply": "2021-10-25T17:00:08.463348Z"
    },
    "papermill": {
     "duration": 0.667312,
     "end_time": "2021-10-25T17:00:08.463801",
     "exception": false,
     "start_time": "2021-10-25T17:00:07.796489",
     "status": "completed"
    },
    "tags": []
   },
   "outputs": [],
   "source": [
    "timestamps = pd.read_sql(\"select distinct record_time from EBAY_TOP_BERLIN order by record_time desc limit 2\", sqlite3.connect(\"UsedObjects.db\"))"
   ]
  },
  {
   "cell_type": "code",
   "execution_count": 3,
   "id": "periodic-identification",
   "metadata": {
    "execution": {
     "iopub.execute_input": "2021-10-25T17:00:08.538162Z",
     "iopub.status.busy": "2021-10-25T17:00:08.536056Z",
     "iopub.status.idle": "2021-10-25T17:00:08.556182Z",
     "shell.execute_reply": "2021-10-25T17:00:08.557645Z"
    },
    "papermill": {
     "duration": 0.068626,
     "end_time": "2021-10-25T17:00:08.558090",
     "exception": false,
     "start_time": "2021-10-25T17:00:08.489464",
     "status": "completed"
    },
    "tags": []
   },
   "outputs": [
    {
     "data": {
      "text/html": [
       "<div>\n",
       "<style scoped>\n",
       "    .dataframe tbody tr th:only-of-type {\n",
       "        vertical-align: middle;\n",
       "    }\n",
       "\n",
       "    .dataframe tbody tr th {\n",
       "        vertical-align: top;\n",
       "    }\n",
       "\n",
       "    .dataframe thead th {\n",
       "        text-align: right;\n",
       "    }\n",
       "</style>\n",
       "<table border=\"1\" class=\"dataframe\">\n",
       "  <thead>\n",
       "    <tr style=\"text-align: right;\">\n",
       "      <th></th>\n",
       "      <th>RECORD_TIME</th>\n",
       "    </tr>\n",
       "  </thead>\n",
       "  <tbody>\n",
       "    <tr>\n",
       "      <th>0</th>\n",
       "      <td>2021-10-25 19:00</td>\n",
       "    </tr>\n",
       "    <tr>\n",
       "      <th>1</th>\n",
       "      <td>2021-10-25 18:30</td>\n",
       "    </tr>\n",
       "  </tbody>\n",
       "</table>\n",
       "</div>"
      ],
      "text/plain": [
       "        RECORD_TIME\n",
       "0  2021-10-25 19:00\n",
       "1  2021-10-25 18:30"
      ]
     },
     "execution_count": 3,
     "metadata": {},
     "output_type": "execute_result"
    }
   ],
   "source": [
    "timestamps"
   ]
  },
  {
   "cell_type": "code",
   "execution_count": 4,
   "id": "alternate-victory",
   "metadata": {
    "execution": {
     "iopub.execute_input": "2021-10-25T17:00:08.609809Z",
     "iopub.status.busy": "2021-10-25T17:00:08.607824Z",
     "iopub.status.idle": "2021-10-25T17:00:09.531901Z",
     "shell.execute_reply": "2021-10-25T17:00:09.533251Z"
    },
    "papermill": {
     "duration": 0.954132,
     "end_time": "2021-10-25T17:00:09.533688",
     "exception": false,
     "start_time": "2021-10-25T17:00:08.579556",
     "status": "completed"
    },
    "tags": []
   },
   "outputs": [],
   "source": [
    "df = pd.read_sql(\"select * from EBAY_TOP_BERLIN where record_time in (select distinct record_time from EBAY_TOP_BERLIN order by record_time desc limit 2)\", sqlite3.connect(\"UsedObjects.db\"))"
   ]
  },
  {
   "cell_type": "code",
   "execution_count": 5,
   "id": "popular-active",
   "metadata": {
    "execution": {
     "iopub.execute_input": "2021-10-25T17:00:09.605277Z",
     "iopub.status.busy": "2021-10-25T17:00:09.594460Z",
     "iopub.status.idle": "2021-10-25T17:00:09.622874Z",
     "shell.execute_reply": "2021-10-25T17:00:09.624153Z"
    },
    "papermill": {
     "duration": 0.067983,
     "end_time": "2021-10-25T17:00:09.624599",
     "exception": false,
     "start_time": "2021-10-25T17:00:09.556616",
     "status": "completed"
    },
    "tags": []
   },
   "outputs": [],
   "source": [
    "df_pivot = df.pivot_table(index=\"PRODUCT\", columns = \"RECORD_TIME\", values = \"LISTING_COUNT\")"
   ]
  },
  {
   "cell_type": "code",
   "execution_count": 6,
   "id": "union-huntington",
   "metadata": {
    "execution": {
     "iopub.execute_input": "2021-10-25T17:00:09.684767Z",
     "iopub.status.busy": "2021-10-25T17:00:09.682289Z",
     "iopub.status.idle": "2021-10-25T17:00:09.689789Z",
     "shell.execute_reply": "2021-10-25T17:00:09.688320Z"
    },
    "papermill": {
     "duration": 0.042902,
     "end_time": "2021-10-25T17:00:09.690157",
     "exception": false,
     "start_time": "2021-10-25T17:00:09.647255",
     "status": "completed"
    },
    "tags": []
   },
   "outputs": [],
   "source": [
    "df_pivot.columns = [\"stamp_1\", \"stamp_2\"]\n",
    "df_pivot_diff = df_pivot.diff(axis=1)"
   ]
  },
  {
   "cell_type": "code",
   "execution_count": 7,
   "id": "fifth-motion",
   "metadata": {
    "execution": {
     "iopub.execute_input": "2021-10-25T17:00:09.744133Z",
     "iopub.status.busy": "2021-10-25T17:00:09.741934Z",
     "iopub.status.idle": "2021-10-25T17:00:11.260042Z",
     "shell.execute_reply": "2021-10-25T17:00:11.261383Z"
    },
    "papermill": {
     "duration": 1.550936,
     "end_time": "2021-10-25T17:00:11.261825",
     "exception": false,
     "start_time": "2021-10-25T17:00:09.710889",
     "status": "completed"
    },
    "tags": []
   },
   "outputs": [
    {
     "data": {
      "text/plain": [
       "<AxesSubplot:ylabel='PRODUCT'>"
      ]
     },
     "execution_count": 7,
     "metadata": {},
     "output_type": "execute_result"
    },
    {
     "data": {
      "image/png": "[encoded data removed]",
      "text/plain": [
       "<Figure size 432x288 with 1 Axes>"
      ]
     },
     "metadata": {
      "needs_background": "light"
     },
     "output_type": "display_data"
    }
   ],
   "source": [
    "df_pivot_diff.sort_values(\"stamp_2\", ascending = False)[\"stamp_2\"].head(10).plot.barh()"
   ]
  },
  {
   "cell_type": "code",
   "execution_count": null,
   "id": "extra-executive",
   "metadata": {
    "papermill": {
     "duration": 0.022306,
     "end_time": "2021-10-25T17:00:11.310611",
     "exception": false,
     "start_time": "2021-10-25T17:00:11.288305",
     "status": "completed"
    },
    "tags": []
   },
   "outputs": [],
   "source": []
  }
 ],
 "metadata": {
  "kernelspec": {
   "display_name": "Python 3",
   "language": "python",
   "name": "python3"
  },
  "language_info": {
   "codemirror_mode": {
    "name": "ipython",
    "version": 3
   },
   "file_extension": ".py",
   "mimetype": "text/x-python",
   "name": "python",
   "nbconvert_exporter": "python",
   "pygments_lexer": "ipython3",
   "version": "3.9.5"
  },
  "papermill": {
   "default_parameters": {},
   "duration": 7.455638,
   "end_time": "2021-10-25T17:00:11.954262",
   "environment_variables": {},
   "exception": null,
   "input_path": "eBay_Overview.ipynb",
   "output_path": "eBay_Overview.ipynb",
   "parameters": {},
   "start_time": "2021-10-25T17:00:04.498624",
   "version": "2.3.3"
  }
 },
 "nbformat": 4,
 "nbformat_minor": 5
}