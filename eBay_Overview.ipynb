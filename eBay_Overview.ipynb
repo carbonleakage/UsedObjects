{
 "cells": [
  {
   "cell_type": "code",
   "execution_count": 1,
   "id": "reverse-picking",
   "metadata": {
    "execution": {
     "iopub.execute_input": "2021-12-12T14:30:08.049177Z",
     "iopub.status.busy": "2021-12-12T14:30:08.046845Z",
     "iopub.status.idle": "2021-12-12T14:30:09.000478Z",
     "shell.execute_reply": "2021-12-12T14:30:09.002103Z"
    },
    "papermill": {
     "duration": 1.002807,
     "end_time": "2021-12-12T14:30:09.002853",
     "exception": false,
     "start_time": "2021-12-12T14:30:08.000046",
     "status": "completed"
    },
    "tags": []
   },
   "outputs": [],
   "source": [
    "import pandas as pd\n",
    "import sqlite3"
   ]
  },
  {
   "cell_type": "code",
   "execution_count": 2,
   "id": "innovative-syndrome",
   "metadata": {
    "execution": {
     "iopub.execute_input": "2021-12-12T14:30:09.067383Z",
     "iopub.status.busy": "2021-12-12T14:30:09.065147Z",
     "iopub.status.idle": "2021-12-12T14:30:10.166293Z",
     "shell.execute_reply": "2021-12-12T14:30:10.167832Z"
    },
    "papermill": {
     "duration": 1.13526,
     "end_time": "2021-12-12T14:30:10.168332",
     "exception": false,
     "start_time": "2021-12-12T14:30:09.033072",
     "status": "completed"
    },
    "tags": []
   },
   "outputs": [],
   "source": [
    "timestamps = pd.read_sql(\"select distinct record_time from EBAY_TOP_BERLIN order by record_time desc limit 2\", sqlite3.connect(\"UsedObjects.db\"))"
   ]
  },
  {
   "cell_type": "code",
   "execution_count": 3,
   "id": "periodic-identification",
   "metadata": {
    "execution": {
     "iopub.execute_input": "2021-12-12T14:30:10.242064Z",
     "iopub.status.busy": "2021-12-12T14:30:10.239607Z",
     "iopub.status.idle": "2021-12-12T14:30:10.264384Z",
     "shell.execute_reply": "2021-12-12T14:30:10.262782Z"
    },
    "papermill": {
     "duration": 0.075072,
     "end_time": "2021-12-12T14:30:10.264874",
     "exception": false,
     "start_time": "2021-12-12T14:30:10.189802",
     "status": "completed"
    },
    "tags": []
   },
   "outputs": [
    {
     "data": {
      "text/html": [
       "<div>\n",
       "<style scoped>\n",
       "    .dataframe tbody tr th:only-of-type {\n",
       "        vertical-align: middle;\n",
       "    }\n",
       "\n",
       "    .dataframe tbody tr th {\n",
       "        vertical-align: top;\n",
       "    }\n",
       "\n",
       "    .dataframe thead th {\n",
       "        text-align: right;\n",
       "    }\n",
       "</style>\n",
       "<table border=\"1\" class=\"dataframe\">\n",
       "  <thead>\n",
       "    <tr style=\"text-align: right;\">\n",
       "      <th></th>\n",
       "      <th>RECORD_TIME</th>\n",
       "    </tr>\n",
       "  </thead>\n",
       "  <tbody>\n",
       "    <tr>\n",
       "      <th>0</th>\n",
       "      <td>2021-12-12 15:30</td>\n",
       "    </tr>\n",
       "    <tr>\n",
       "      <th>1</th>\n",
       "      <td>2021-12-12 15:00</td>\n",
       "    </tr>\n",
       "  </tbody>\n",
       "</table>\n",
       "</div>"
      ],
      "text/plain": [
       "        RECORD_TIME\n",
       "0  2021-12-12 15:30\n",
       "1  2021-12-12 15:00"
      ]
     },
     "execution_count": 3,
     "metadata": {},
     "output_type": "execute_result"
    }
   ],
   "source": [
    "timestamps"
   ]
  },
  {
   "cell_type": "code",
   "execution_count": 4,
   "id": "alternate-victory",
   "metadata": {
    "execution": {
     "iopub.execute_input": "2021-12-12T14:30:10.321393Z",
     "iopub.status.busy": "2021-12-12T14:30:10.319025Z",
     "iopub.status.idle": "2021-12-12T14:30:11.854417Z",
     "shell.execute_reply": "2021-12-12T14:30:11.856471Z"
    },
    "papermill": {
     "duration": 1.571258,
     "end_time": "2021-12-12T14:30:11.857000",
     "exception": false,
     "start_time": "2021-12-12T14:30:10.285742",
     "status": "completed"
    },
    "tags": []
   },
   "outputs": [],
   "source": [
    "df = pd.read_sql(\"select * from EBAY_TOP_BERLIN where record_time in (select distinct record_time from EBAY_TOP_BERLIN order by record_time desc limit 2)\", sqlite3.connect(\"UsedObjects.db\"))"
   ]
  },
  {
   "cell_type": "code",
   "execution_count": 5,
   "id": "popular-active",
   "metadata": {
    "execution": {
     "iopub.execute_input": "2021-12-12T14:30:11.934435Z",
     "iopub.status.busy": "2021-12-12T14:30:11.921023Z",
     "iopub.status.idle": "2021-12-12T14:30:11.952605Z",
     "shell.execute_reply": "2021-12-12T14:30:11.954037Z"
    },
    "papermill": {
     "duration": 0.075479,
     "end_time": "2021-12-12T14:30:11.954506",
     "exception": false,
     "start_time": "2021-12-12T14:30:11.879027",
     "status": "completed"
    },
    "tags": []
   },
   "outputs": [],
   "source": [
    "df_pivot = df.pivot_table(index=\"PRODUCT\", columns = \"RECORD_TIME\", values = \"LISTING_COUNT\")"
   ]
  },
  {
   "cell_type": "code",
   "execution_count": 6,
   "id": "union-huntington",
   "metadata": {
    "execution": {
     "iopub.execute_input": "2021-12-12T14:30:12.012311Z",
     "iopub.status.busy": "2021-12-12T14:30:12.010121Z",
     "iopub.status.idle": "2021-12-12T14:30:12.017463Z",
     "shell.execute_reply": "2021-12-12T14:30:12.015835Z"
    },
    "papermill": {
     "duration": 0.043345,
     "end_time": "2021-12-12T14:30:12.017863",
     "exception": false,
     "start_time": "2021-12-12T14:30:11.974518",
     "status": "completed"
    },
    "tags": []
   },
   "outputs": [],
   "source": [
    "df_pivot.columns = [\"stamp_1\", \"stamp_2\"]\n",
    "df_pivot_diff = df_pivot.diff(axis=1)"
   ]
  },
  {
   "cell_type": "code",
   "execution_count": 7,
   "id": "fifth-motion",
   "metadata": {
    "execution": {
     "iopub.execute_input": "2021-12-12T14:30:12.079444Z",
     "iopub.status.busy": "2021-12-12T14:30:12.076903Z",
     "iopub.status.idle": "2021-12-12T14:30:14.019730Z",
     "shell.execute_reply": "2021-12-12T14:30:14.022261Z"
    },
    "papermill": {
     "duration": 1.983253,
     "end_time": "2021-12-12T14:30:14.022997",
     "exception": false,
     "start_time": "2021-12-12T14:30:12.039744",
     "status": "completed"
    },
    "tags": []
   },
   "outputs": [
    {
     "data": {
      "text/plain": [
       "<AxesSubplot:ylabel='PRODUCT'>"
      ]
     },
     "execution_count": 7,
     "metadata": {},
     "output_type": "execute_result"
    },
    {
     "data": {
      "image/png": "[encoded data removed]",
      "text/plain": [
       "<Figure size 432x288 with 1 Axes>"
      ]
     },
     "metadata": {
      "needs_background": "light"
     },
     "output_type": "display_data"
    }
   ],
   "source": [
    "df_pivot_diff.sort_values(\"stamp_2\", ascending = False)[\"stamp_2\"].head(10).plot.barh()"
   ]
  },
  {
   "cell_type": "code",
   "execution_count": null,
   "id": "extra-executive",
   "metadata": {
    "papermill": {
     "duration": 0.031691,
     "end_time": "2021-12-12T14:30:14.097577",
     "exception": false,
     "start_time": "2021-12-12T14:30:14.065886",
     "status": "completed"
    },
    "tags": []
   },
   "outputs": [],
   "source": []
  }
 ],
 "metadata": {
  "kernelspec": {
   "display_name": "Python 3",
   "language": "python",
   "name": "python3"
  },
  "language_info": {
   "codemirror_mode": {
    "name": "ipython",
    "version": 3
   },
   "file_extension": ".py",
   "mimetype": "text/x-python",
   "name": "python",
   "nbconvert_exporter": "python",
   "pygments_lexer": "ipython3",
   "version": "3.9.5"
  },
  "papermill": {
   "default_parameters": {},
   "duration": 9.631509,
   "end_time": "2021-12-12T14:30:14.851483",
   "environment_variables": {},
   "exception": null,
   "input_path": "eBay_Overview.ipynb",
   "output_path": "eBay_Overview.ipynb",
   "parameters": {},
   "start_time": "2021-12-12T14:30:05.219974",
   "version": "2.3.3"
  }
 },
 "nbformat": 4,
 "nbformat_minor": 5
}