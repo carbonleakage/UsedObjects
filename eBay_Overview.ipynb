{
 "cells": [
  {
   "cell_type": "code",
   "execution_count": 1,
   "id": "reverse-picking",
   "metadata": {
    "execution": {
     "iopub.execute_input": "2021-09-10T18:30:07.077324Z",
     "iopub.status.busy": "2021-09-10T18:30:07.075356Z",
     "iopub.status.idle": "2021-09-10T18:30:07.886173Z",
     "shell.execute_reply": "2021-09-10T18:30:07.887622Z"
    },
    "papermill": {
     "duration": 0.862594,
     "end_time": "2021-09-10T18:30:07.888262",
     "exception": false,
     "start_time": "2021-09-10T18:30:07.025668",
     "status": "completed"
    },
    "tags": []
   },
   "outputs": [],
   "source": [
    "import pandas as pd\n",
    "import sqlite3"
   ]
  },
  {
   "cell_type": "code",
   "execution_count": 2,
   "id": "innovative-syndrome",
   "metadata": {
    "execution": {
     "iopub.execute_input": "2021-09-10T18:30:07.940330Z",
     "iopub.status.busy": "2021-09-10T18:30:07.937944Z",
     "iopub.status.idle": "2021-09-10T18:30:08.190749Z",
     "shell.execute_reply": "2021-09-10T18:30:08.192096Z"
    },
    "papermill": {
     "duration": 0.282879,
     "end_time": "2021-09-10T18:30:08.192507",
     "exception": false,
     "start_time": "2021-09-10T18:30:07.909628",
     "status": "completed"
    },
    "tags": []
   },
   "outputs": [],
   "source": [
    "timestamps = pd.read_sql(\"select distinct record_time from EBAY_TOP_BERLIN order by record_time desc limit 2\", sqlite3.connect(\"UsedObjects.db\"))"
   ]
  },
  {
   "cell_type": "code",
   "execution_count": 3,
   "id": "periodic-identification",
   "metadata": {
    "execution": {
     "iopub.execute_input": "2021-09-10T18:30:08.256812Z",
     "iopub.status.busy": "2021-09-10T18:30:08.254740Z",
     "iopub.status.idle": "2021-09-10T18:30:08.276816Z",
     "shell.execute_reply": "2021-09-10T18:30:08.278024Z"
    },
    "papermill": {
     "duration": 0.066881,
     "end_time": "2021-09-10T18:30:08.278421",
     "exception": false,
     "start_time": "2021-09-10T18:30:08.211540",
     "status": "completed"
    },
    "tags": []
   },
   "outputs": [
    {
     "data": {
      "text/html": [
       "<div>\n",
       "<style scoped>\n",
       "    .dataframe tbody tr th:only-of-type {\n",
       "        vertical-align: middle;\n",
       "    }\n",
       "\n",
       "    .dataframe tbody tr th {\n",
       "        vertical-align: top;\n",
       "    }\n",
       "\n",
       "    .dataframe thead th {\n",
       "        text-align: right;\n",
       "    }\n",
       "</style>\n",
       "<table border=\"1\" class=\"dataframe\">\n",
       "  <thead>\n",
       "    <tr style=\"text-align: right;\">\n",
       "      <th></th>\n",
       "      <th>RECORD_TIME</th>\n",
       "    </tr>\n",
       "  </thead>\n",
       "  <tbody>\n",
       "    <tr>\n",
       "      <th>0</th>\n",
       "      <td>2021-09-10 20:30</td>\n",
       "    </tr>\n",
       "    <tr>\n",
       "      <th>1</th>\n",
       "      <td>2021-09-10 20:00</td>\n",
       "    </tr>\n",
       "  </tbody>\n",
       "</table>\n",
       "</div>"
      ],
      "text/plain": [
       "        RECORD_TIME\n",
       "0  2021-09-10 20:30\n",
       "1  2021-09-10 20:00"
      ]
     },
     "execution_count": 3,
     "metadata": {},
     "output_type": "execute_result"
    }
   ],
   "source": [
    "timestamps"
   ]
  },
  {
   "cell_type": "code",
   "execution_count": 4,
   "id": "alternate-victory",
   "metadata": {
    "execution": {
     "iopub.execute_input": "2021-09-10T18:30:08.331243Z",
     "iopub.status.busy": "2021-09-10T18:30:08.328897Z",
     "iopub.status.idle": "2021-09-10T18:30:08.706056Z",
     "shell.execute_reply": "2021-09-10T18:30:08.704744Z"
    },
    "papermill": {
     "duration": 0.406258,
     "end_time": "2021-09-10T18:30:08.706398",
     "exception": false,
     "start_time": "2021-09-10T18:30:08.300140",
     "status": "completed"
    },
    "tags": []
   },
   "outputs": [],
   "source": [
    "df = pd.read_sql(\"select * from EBAY_TOP_BERLIN where record_time in (select distinct record_time from EBAY_TOP_BERLIN order by record_time desc limit 2)\", sqlite3.connect(\"UsedObjects.db\"))"
   ]
  },
  {
   "cell_type": "code",
   "execution_count": 5,
   "id": "popular-active",
   "metadata": {
    "execution": {
     "iopub.execute_input": "2021-09-10T18:30:08.776636Z",
     "iopub.status.busy": "2021-09-10T18:30:08.765362Z",
     "iopub.status.idle": "2021-09-10T18:30:08.793180Z",
     "shell.execute_reply": "2021-09-10T18:30:08.794455Z"
    },
    "papermill": {
     "duration": 0.066746,
     "end_time": "2021-09-10T18:30:08.794926",
     "exception": false,
     "start_time": "2021-09-10T18:30:08.728180",
     "status": "completed"
    },
    "tags": []
   },
   "outputs": [],
   "source": [
    "df_pivot = df.pivot_table(index=\"PRODUCT\", columns = \"RECORD_TIME\", values = \"LISTING_COUNT\")"
   ]
  },
  {
   "cell_type": "code",
   "execution_count": 6,
   "id": "union-huntington",
   "metadata": {
    "execution": {
     "iopub.execute_input": "2021-09-10T18:30:08.851332Z",
     "iopub.status.busy": "2021-09-10T18:30:08.849113Z",
     "iopub.status.idle": "2021-09-10T18:30:08.854722Z",
     "shell.execute_reply": "2021-09-10T18:30:08.856333Z"
    },
    "papermill": {
     "duration": 0.041145,
     "end_time": "2021-09-10T18:30:08.856916",
     "exception": false,
     "start_time": "2021-09-10T18:30:08.815771",
     "status": "completed"
    },
    "tags": []
   },
   "outputs": [],
   "source": [
    "df_pivot.columns = [\"stamp_1\", \"stamp_2\"]\n",
    "df_pivot_diff = df_pivot.diff(axis=1)"
   ]
  },
  {
   "cell_type": "code",
   "execution_count": 7,
   "id": "fifth-motion",
   "metadata": {
    "execution": {
     "iopub.execute_input": "2021-09-10T18:30:08.912840Z",
     "iopub.status.busy": "2021-09-10T18:30:08.910236Z",
     "iopub.status.idle": "2021-09-10T18:30:10.434499Z",
     "shell.execute_reply": "2021-09-10T18:30:10.436312Z"
    },
    "papermill": {
     "duration": 1.558459,
     "end_time": "2021-09-10T18:30:10.436864",
     "exception": false,
     "start_time": "2021-09-10T18:30:08.878405",
     "status": "completed"
    },
    "tags": []
   },
   "outputs": [
    {
     "data": {
      "text/plain": [
       "<AxesSubplot:ylabel='PRODUCT'>"
      ]
     },
     "execution_count": 7,
     "metadata": {},
     "output_type": "execute_result"
    },
    {
     "data": {
      "image/png": "[encoded data removed]",
      "text/plain": [
       "<Figure size 432x288 with 1 Axes>"
      ]
     },
     "metadata": {
      "needs_background": "light"
     },
     "output_type": "display_data"
    }
   ],
   "source": [
    "df_pivot_diff.sort_values(\"stamp_2\", ascending = False)[\"stamp_2\"].head(10).plot.barh()"
   ]
  },
  {
   "cell_type": "code",
   "execution_count": null,
   "id": "extra-executive",
   "metadata": {
    "papermill": {
     "duration": 0.022009,
     "end_time": "2021-09-10T18:30:10.483618",
     "exception": false,
     "start_time": "2021-09-10T18:30:10.461609",
     "status": "completed"
    },
    "tags": []
   },
   "outputs": [],
   "source": []
  }
 ],
 "metadata": {
  "kernelspec": {
   "display_name": "Python 3",
   "language": "python",
   "name": "python3"
  },
  "language_info": {
   "codemirror_mode": {
    "name": "ipython",
    "version": 3
   },
   "file_extension": ".py",
   "mimetype": "text/x-python",
   "name": "python",
   "nbconvert_exporter": "python",
   "pygments_lexer": "ipython3",
   "version": "3.9.5"
  },
  "papermill": {
   "default_parameters": {},
   "duration": 6.506305,
   "end_time": "2021-09-10T18:30:11.124575",
   "environment_variables": {},
   "exception": null,
   "input_path": "eBay_Overview.ipynb",
   "output_path": "eBay_Overview.ipynb",
   "parameters": {},
   "start_time": "2021-09-10T18:30:04.618270",
   "version": "2.3.3"
  }
 },
 "nbformat": 4,
 "nbformat_minor": 5
}