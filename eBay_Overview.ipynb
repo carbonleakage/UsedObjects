{
 "cells": [
  {
   "cell_type": "code",
   "execution_count": 1,
   "id": "reverse-picking",
   "metadata": {
    "execution": {
     "iopub.execute_input": "2021-08-09T10:30:04.406401Z",
     "iopub.status.busy": "2021-08-09T10:30:04.405582Z",
     "iopub.status.idle": "2021-08-09T10:30:05.174575Z",
     "shell.execute_reply": "2021-08-09T10:30:05.175163Z"
    },
    "papermill": {
     "duration": 0.79173,
     "end_time": "2021-08-09T10:30:05.175460",
     "exception": false,
     "start_time": "2021-08-09T10:30:04.383730",
     "status": "completed"
    },
    "tags": []
   },
   "outputs": [],
   "source": [
    "import pandas as pd\n",
    "import sqlite3"
   ]
  },
  {
   "cell_type": "code",
   "execution_count": 2,
   "id": "innovative-syndrome",
   "metadata": {
    "execution": {
     "iopub.execute_input": "2021-08-09T10:30:05.202281Z",
     "iopub.status.busy": "2021-08-09T10:30:05.201519Z",
     "iopub.status.idle": "2021-08-09T10:30:05.464882Z",
     "shell.execute_reply": "2021-08-09T10:30:05.465451Z"
    },
    "papermill": {
     "duration": 0.277489,
     "end_time": "2021-08-09T10:30:05.465648",
     "exception": false,
     "start_time": "2021-08-09T10:30:05.188159",
     "status": "completed"
    },
    "tags": []
   },
   "outputs": [],
   "source": [
    "timestamps = pd.read_sql(\"select distinct record_time from EBAY_TOP_BERLIN order by record_time desc limit 2\", sqlite3.connect(\"UsedObjects.db\"))"
   ]
  },
  {
   "cell_type": "code",
   "execution_count": 3,
   "id": "periodic-identification",
   "metadata": {
    "execution": {
     "iopub.execute_input": "2021-08-09T10:30:05.495009Z",
     "iopub.status.busy": "2021-08-09T10:30:05.494171Z",
     "iopub.status.idle": "2021-08-09T10:30:05.508847Z",
     "shell.execute_reply": "2021-08-09T10:30:05.509381Z"
    },
    "papermill": {
     "duration": 0.035606,
     "end_time": "2021-08-09T10:30:05.509567",
     "exception": false,
     "start_time": "2021-08-09T10:30:05.473961",
     "status": "completed"
    },
    "tags": []
   },
   "outputs": [
    {
     "data": {
      "text/html": [
       "<div>\n",
       "<style scoped>\n",
       "    .dataframe tbody tr th:only-of-type {\n",
       "        vertical-align: middle;\n",
       "    }\n",
       "\n",
       "    .dataframe tbody tr th {\n",
       "        vertical-align: top;\n",
       "    }\n",
       "\n",
       "    .dataframe thead th {\n",
       "        text-align: right;\n",
       "    }\n",
       "</style>\n",
       "<table border=\"1\" class=\"dataframe\">\n",
       "  <thead>\n",
       "    <tr style=\"text-align: right;\">\n",
       "      <th></th>\n",
       "      <th>RECORD_TIME</th>\n",
       "    </tr>\n",
       "  </thead>\n",
       "  <tbody>\n",
       "    <tr>\n",
       "      <th>0</th>\n",
       "      <td>2021-08-09 12:30</td>\n",
       "    </tr>\n",
       "    <tr>\n",
       "      <th>1</th>\n",
       "      <td>2021-08-09 12:00</td>\n",
       "    </tr>\n",
       "  </tbody>\n",
       "</table>\n",
       "</div>"
      ],
      "text/plain": [
       "        RECORD_TIME\n",
       "0  2021-08-09 12:30\n",
       "1  2021-08-09 12:00"
      ]
     },
     "execution_count": 3,
     "metadata": {},
     "output_type": "execute_result"
    }
   ],
   "source": [
    "timestamps"
   ]
  },
  {
   "cell_type": "code",
   "execution_count": 4,
   "id": "alternate-victory",
   "metadata": {
    "execution": {
     "iopub.execute_input": "2021-08-09T10:30:05.530883Z",
     "iopub.status.busy": "2021-08-09T10:30:05.530120Z",
     "iopub.status.idle": "2021-08-09T10:30:05.538370Z",
     "shell.execute_reply": "2021-08-09T10:30:05.538903Z"
    },
    "papermill": {
     "duration": 0.021179,
     "end_time": "2021-08-09T10:30:05.539087",
     "exception": false,
     "start_time": "2021-08-09T10:30:05.517908",
     "status": "completed"
    },
    "tags": []
   },
   "outputs": [],
   "source": [
    "df = pd.read_sql(\"select * from EBAY_TOP_BERLIN where record_time in (select distinct record_time from EBAY_TOP_BERLIN order by record_time desc limit 2)\", sqlite3.connect(\"UsedObjects.db\"))"
   ]
  },
  {
   "cell_type": "code",
   "execution_count": 5,
   "id": "popular-active",
   "metadata": {
    "execution": {
     "iopub.execute_input": "2021-08-09T10:30:05.569239Z",
     "iopub.status.busy": "2021-08-09T10:30:05.568459Z",
     "iopub.status.idle": "2021-08-09T10:30:05.594548Z",
     "shell.execute_reply": "2021-08-09T10:30:05.593266Z"
    },
    "papermill": {
     "duration": 0.045346,
     "end_time": "2021-08-09T10:30:05.594840",
     "exception": false,
     "start_time": "2021-08-09T10:30:05.549494",
     "status": "completed"
    },
    "tags": []
   },
   "outputs": [],
   "source": [
    "df_pivot = df.pivot_table(index=\"PRODUCT\", columns = \"RECORD_TIME\", values = \"LISTING_COUNT\")"
   ]
  },
  {
   "cell_type": "code",
   "execution_count": 6,
   "id": "union-huntington",
   "metadata": {
    "execution": {
     "iopub.execute_input": "2021-08-09T10:30:05.621576Z",
     "iopub.status.busy": "2021-08-09T10:30:05.620875Z",
     "iopub.status.idle": "2021-08-09T10:30:05.628141Z",
     "shell.execute_reply": "2021-08-09T10:30:05.627526Z"
    },
    "papermill": {
     "duration": 0.022293,
     "end_time": "2021-08-09T10:30:05.628305",
     "exception": false,
     "start_time": "2021-08-09T10:30:05.606012",
     "status": "completed"
    },
    "tags": []
   },
   "outputs": [],
   "source": [
    "df_pivot.columns = [\"stamp_1\", \"stamp_2\"]\n",
    "df_pivot_diff = df_pivot.diff(axis=1)"
   ]
  },
  {
   "cell_type": "code",
   "execution_count": 7,
   "id": "fifth-motion",
   "metadata": {
    "execution": {
     "iopub.execute_input": "2021-08-09T10:30:05.659488Z",
     "iopub.status.busy": "2021-08-09T10:30:05.658080Z",
     "iopub.status.idle": "2021-08-09T10:30:06.452298Z",
     "shell.execute_reply": "2021-08-09T10:30:06.451679Z"
    },
    "papermill": {
     "duration": 0.81466,
     "end_time": "2021-08-09T10:30:06.452461",
     "exception": false,
     "start_time": "2021-08-09T10:30:05.637801",
     "status": "completed"
    },
    "tags": []
   },
   "outputs": [
    {
     "data": {
      "text/plain": [
       "<AxesSubplot:ylabel='PRODUCT'>"
      ]
     },
     "execution_count": 7,
     "metadata": {},
     "output_type": "execute_result"
    },
    {
     "data": {
      "image/png": "[encoded data removed]",
      "text/plain": [
       "<Figure size 432x288 with 1 Axes>"
      ]
     },
     "metadata": {
      "needs_background": "light"
     },
     "output_type": "display_data"
    }
   ],
   "source": [
    "df_pivot_diff.sort_values(\"stamp_2\", ascending = False)[\"stamp_2\"].head(10).plot.barh()"
   ]
  },
  {
   "cell_type": "code",
   "execution_count": null,
   "id": "extra-executive",
   "metadata": {
    "papermill": {
     "duration": 0.012464,
     "end_time": "2021-08-09T10:30:06.477536",
     "exception": false,
     "start_time": "2021-08-09T10:30:06.465072",
     "status": "completed"
    },
    "tags": []
   },
   "outputs": [],
   "source": []
  }
 ],
 "metadata": {
  "kernelspec": {
   "display_name": "Python 3",
   "language": "python",
   "name": "python3"
  },
  "language_info": {
   "codemirror_mode": {
    "name": "ipython",
    "version": 3
   },
   "file_extension": ".py",
   "mimetype": "text/x-python",
   "name": "python",
   "nbconvert_exporter": "python",
   "pygments_lexer": "ipython3",
   "version": "3.8.8"
  },
  "papermill": {
   "default_parameters": {},
   "duration": 4.400888,
   "end_time": "2021-08-09T10:30:07.138646",
   "environment_variables": {},
   "exception": null,
   "input_path": "/Users/saravananshanmugam/Carbonleakage_Git/UsedObjects/eBay_Overview.ipynb",
   "output_path": "/Users/saravananshanmugam/Carbonleakage_Git/UsedObjects/eBay_Overview.ipynb",
   "parameters": {},
   "start_time": "2021-08-09T10:30:02.737758",
   "version": "2.3.3"
  }
 },
 "nbformat": 4,
 "nbformat_minor": 5
}