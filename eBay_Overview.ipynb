{
 "cells": [
  {
   "cell_type": "code",
   "execution_count": 1,
   "id": "reverse-picking",
   "metadata": {
    "execution": {
     "iopub.execute_input": "2021-08-30T10:00:07.538623Z",
     "iopub.status.busy": "2021-08-30T10:00:07.536723Z",
     "iopub.status.idle": "2021-08-30T10:00:08.337924Z",
     "shell.execute_reply": "2021-08-30T10:00:08.339165Z"
    },
    "papermill": {
     "duration": 0.851703,
     "end_time": "2021-08-30T10:00:08.339790",
     "exception": false,
     "start_time": "2021-08-30T10:00:07.488087",
     "status": "completed"
    },
    "tags": []
   },
   "outputs": [],
   "source": [
    "import pandas as pd\n",
    "import sqlite3"
   ]
  },
  {
   "cell_type": "code",
   "execution_count": 2,
   "id": "innovative-syndrome",
   "metadata": {
    "execution": {
     "iopub.execute_input": "2021-08-30T10:00:08.390084Z",
     "iopub.status.busy": "2021-08-30T10:00:08.388129Z",
     "iopub.status.idle": "2021-08-30T10:00:08.553180Z",
     "shell.execute_reply": "2021-08-30T10:00:08.554316Z"
    },
    "papermill": {
     "duration": 0.194233,
     "end_time": "2021-08-30T10:00:08.554734",
     "exception": false,
     "start_time": "2021-08-30T10:00:08.360501",
     "status": "completed"
    },
    "tags": []
   },
   "outputs": [],
   "source": [
    "timestamps = pd.read_sql(\"select distinct record_time from EBAY_TOP_BERLIN order by record_time desc limit 2\", sqlite3.connect(\"UsedObjects.db\"))"
   ]
  },
  {
   "cell_type": "code",
   "execution_count": 3,
   "id": "periodic-identification",
   "metadata": {
    "execution": {
     "iopub.execute_input": "2021-08-30T10:00:08.618843Z",
     "iopub.status.busy": "2021-08-30T10:00:08.616836Z",
     "iopub.status.idle": "2021-08-30T10:00:08.636761Z",
     "shell.execute_reply": "2021-08-30T10:00:08.637979Z"
    },
    "papermill": {
     "duration": 0.062903,
     "end_time": "2021-08-30T10:00:08.638409",
     "exception": false,
     "start_time": "2021-08-30T10:00:08.575506",
     "status": "completed"
    },
    "tags": []
   },
   "outputs": [
    {
     "data": {
      "text/html": [
       "<div>\n",
       "<style scoped>\n",
       "    .dataframe tbody tr th:only-of-type {\n",
       "        vertical-align: middle;\n",
       "    }\n",
       "\n",
       "    .dataframe tbody tr th {\n",
       "        vertical-align: top;\n",
       "    }\n",
       "\n",
       "    .dataframe thead th {\n",
       "        text-align: right;\n",
       "    }\n",
       "</style>\n",
       "<table border=\"1\" class=\"dataframe\">\n",
       "  <thead>\n",
       "    <tr style=\"text-align: right;\">\n",
       "      <th></th>\n",
       "      <th>RECORD_TIME</th>\n",
       "    </tr>\n",
       "  </thead>\n",
       "  <tbody>\n",
       "    <tr>\n",
       "      <th>0</th>\n",
       "      <td>2021-08-30 12:00</td>\n",
       "    </tr>\n",
       "    <tr>\n",
       "      <th>1</th>\n",
       "      <td>2021-08-30 11:30</td>\n",
       "    </tr>\n",
       "  </tbody>\n",
       "</table>\n",
       "</div>"
      ],
      "text/plain": [
       "        RECORD_TIME\n",
       "0  2021-08-30 12:00\n",
       "1  2021-08-30 11:30"
      ]
     },
     "execution_count": 3,
     "metadata": {},
     "output_type": "execute_result"
    }
   ],
   "source": [
    "timestamps"
   ]
  },
  {
   "cell_type": "code",
   "execution_count": 4,
   "id": "alternate-victory",
   "metadata": {
    "execution": {
     "iopub.execute_input": "2021-08-30T10:00:08.691187Z",
     "iopub.status.busy": "2021-08-30T10:00:08.688909Z",
     "iopub.status.idle": "2021-08-30T10:00:08.946131Z",
     "shell.execute_reply": "2021-08-30T10:00:08.944805Z"
    },
    "papermill": {
     "duration": 0.285574,
     "end_time": "2021-08-30T10:00:08.946466",
     "exception": false,
     "start_time": "2021-08-30T10:00:08.660892",
     "status": "completed"
    },
    "tags": []
   },
   "outputs": [],
   "source": [
    "df = pd.read_sql(\"select * from EBAY_TOP_BERLIN where record_time in (select distinct record_time from EBAY_TOP_BERLIN order by record_time desc limit 2)\", sqlite3.connect(\"UsedObjects.db\"))"
   ]
  },
  {
   "cell_type": "code",
   "execution_count": 5,
   "id": "popular-active",
   "metadata": {
    "execution": {
     "iopub.execute_input": "2021-08-30T10:00:09.026793Z",
     "iopub.status.busy": "2021-08-30T10:00:09.014714Z",
     "iopub.status.idle": "2021-08-30T10:00:09.044465Z",
     "shell.execute_reply": "2021-08-30T10:00:09.046214Z"
    },
    "papermill": {
     "duration": 0.07357,
     "end_time": "2021-08-30T10:00:09.046698",
     "exception": false,
     "start_time": "2021-08-30T10:00:08.973128",
     "status": "completed"
    },
    "tags": []
   },
   "outputs": [],
   "source": [
    "df_pivot = df.pivot_table(index=\"PRODUCT\", columns = \"RECORD_TIME\", values = \"LISTING_COUNT\")"
   ]
  },
  {
   "cell_type": "code",
   "execution_count": 6,
   "id": "union-huntington",
   "metadata": {
    "execution": {
     "iopub.execute_input": "2021-08-30T10:00:09.103939Z",
     "iopub.status.busy": "2021-08-30T10:00:09.101635Z",
     "iopub.status.idle": "2021-08-30T10:00:09.107360Z",
     "shell.execute_reply": "2021-08-30T10:00:09.108709Z"
    },
    "papermill": {
     "duration": 0.041606,
     "end_time": "2021-08-30T10:00:09.109140",
     "exception": false,
     "start_time": "2021-08-30T10:00:09.067534",
     "status": "completed"
    },
    "tags": []
   },
   "outputs": [],
   "source": [
    "df_pivot.columns = [\"stamp_1\", \"stamp_2\"]\n",
    "df_pivot_diff = df_pivot.diff(axis=1)"
   ]
  },
  {
   "cell_type": "code",
   "execution_count": 7,
   "id": "fifth-motion",
   "metadata": {
    "execution": {
     "iopub.execute_input": "2021-08-30T10:00:09.162948Z",
     "iopub.status.busy": "2021-08-30T10:00:09.160666Z",
     "iopub.status.idle": "2021-08-30T10:00:10.636182Z",
     "shell.execute_reply": "2021-08-30T10:00:10.637467Z"
    },
    "papermill": {
     "duration": 1.508431,
     "end_time": "2021-08-30T10:00:10.637904",
     "exception": false,
     "start_time": "2021-08-30T10:00:09.129473",
     "status": "completed"
    },
    "tags": []
   },
   "outputs": [
    {
     "data": {
      "text/plain": [
       "<AxesSubplot:ylabel='PRODUCT'>"
      ]
     },
     "execution_count": 7,
     "metadata": {},
     "output_type": "execute_result"
    },
    {
     "data": {
      "image/png": "[encoded data removed]",
      "text/plain": [
       "<Figure size 432x288 with 1 Axes>"
      ]
     },
     "metadata": {
      "needs_background": "light"
     },
     "output_type": "display_data"
    }
   ],
   "source": [
    "df_pivot_diff.sort_values(\"stamp_2\", ascending = False)[\"stamp_2\"].head(10).plot.barh()"
   ]
  },
  {
   "cell_type": "code",
   "execution_count": null,
   "id": "extra-executive",
   "metadata": {
    "papermill": {
     "duration": 0.021943,
     "end_time": "2021-08-30T10:00:10.685732",
     "exception": false,
     "start_time": "2021-08-30T10:00:10.663789",
     "status": "completed"
    },
    "tags": []
   },
   "outputs": [],
   "source": []
  }
 ],
 "metadata": {
  "kernelspec": {
   "display_name": "Python 3",
   "language": "python",
   "name": "python3"
  },
  "language_info": {
   "codemirror_mode": {
    "name": "ipython",
    "version": 3
   },
   "file_extension": ".py",
   "mimetype": "text/x-python",
   "name": "python",
   "nbconvert_exporter": "python",
   "pygments_lexer": "ipython3",
   "version": "3.9.5"
  },
  "papermill": {
   "default_parameters": {},
   "duration": 6.822215,
   "end_time": "2021-08-30T10:00:11.905252",
   "environment_variables": {},
   "exception": null,
   "input_path": "eBay_Overview.ipynb",
   "output_path": "eBay_Overview.ipynb",
   "parameters": {},
   "start_time": "2021-08-30T10:00:05.083037",
   "version": "2.3.3"
  }
 },
 "nbformat": 4,
 "nbformat_minor": 5
}