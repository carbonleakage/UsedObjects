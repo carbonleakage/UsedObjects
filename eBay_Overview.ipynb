{
 "cells": [
  {
   "cell_type": "code",
   "execution_count": 1,
   "id": "reverse-picking",
   "metadata": {
    "execution": {
     "iopub.execute_input": "2021-10-03T20:30:06.940386Z",
     "iopub.status.busy": "2021-10-03T20:30:06.938392Z",
     "iopub.status.idle": "2021-10-03T20:30:07.740250Z",
     "shell.execute_reply": "2021-10-03T20:30:07.741656Z"
    },
    "papermill": {
     "duration": 0.854022,
     "end_time": "2021-10-03T20:30:07.742334",
     "exception": false,
     "start_time": "2021-10-03T20:30:06.888312",
     "status": "completed"
    },
    "tags": []
   },
   "outputs": [],
   "source": [
    "import pandas as pd\n",
    "import sqlite3"
   ]
  },
  {
   "cell_type": "code",
   "execution_count": 2,
   "id": "innovative-syndrome",
   "metadata": {
    "execution": {
     "iopub.execute_input": "2021-10-03T20:30:07.793380Z",
     "iopub.status.busy": "2021-10-03T20:30:07.791208Z",
     "iopub.status.idle": "2021-10-03T20:30:08.229730Z",
     "shell.execute_reply": "2021-10-03T20:30:08.231119Z"
    },
    "papermill": {
     "duration": 0.468874,
     "end_time": "2021-10-03T20:30:08.231542",
     "exception": false,
     "start_time": "2021-10-03T20:30:07.762668",
     "status": "completed"
    },
    "tags": []
   },
   "outputs": [],
   "source": [
    "timestamps = pd.read_sql(\"select distinct record_time from EBAY_TOP_BERLIN order by record_time desc limit 2\", sqlite3.connect(\"UsedObjects.db\"))"
   ]
  },
  {
   "cell_type": "code",
   "execution_count": 3,
   "id": "periodic-identification",
   "metadata": {
    "execution": {
     "iopub.execute_input": "2021-10-03T20:30:08.298717Z",
     "iopub.status.busy": "2021-10-03T20:30:08.296697Z",
     "iopub.status.idle": "2021-10-03T20:30:08.317350Z",
     "shell.execute_reply": "2021-10-03T20:30:08.318620Z"
    },
    "papermill": {
     "duration": 0.066623,
     "end_time": "2021-10-03T20:30:08.319097",
     "exception": false,
     "start_time": "2021-10-03T20:30:08.252474",
     "status": "completed"
    },
    "tags": []
   },
   "outputs": [
    {
     "data": {
      "text/html": [
       "<div>\n",
       "<style scoped>\n",
       "    .dataframe tbody tr th:only-of-type {\n",
       "        vertical-align: middle;\n",
       "    }\n",
       "\n",
       "    .dataframe tbody tr th {\n",
       "        vertical-align: top;\n",
       "    }\n",
       "\n",
       "    .dataframe thead th {\n",
       "        text-align: right;\n",
       "    }\n",
       "</style>\n",
       "<table border=\"1\" class=\"dataframe\">\n",
       "  <thead>\n",
       "    <tr style=\"text-align: right;\">\n",
       "      <th></th>\n",
       "      <th>RECORD_TIME</th>\n",
       "    </tr>\n",
       "  </thead>\n",
       "  <tbody>\n",
       "    <tr>\n",
       "      <th>0</th>\n",
       "      <td>2021-10-03 22:30</td>\n",
       "    </tr>\n",
       "    <tr>\n",
       "      <th>1</th>\n",
       "      <td>2021-10-03 22:00</td>\n",
       "    </tr>\n",
       "  </tbody>\n",
       "</table>\n",
       "</div>"
      ],
      "text/plain": [
       "        RECORD_TIME\n",
       "0  2021-10-03 22:30\n",
       "1  2021-10-03 22:00"
      ]
     },
     "execution_count": 3,
     "metadata": {},
     "output_type": "execute_result"
    }
   ],
   "source": [
    "timestamps"
   ]
  },
  {
   "cell_type": "code",
   "execution_count": 4,
   "id": "alternate-victory",
   "metadata": {
    "execution": {
     "iopub.execute_input": "2021-10-03T20:30:08.370455Z",
     "iopub.status.busy": "2021-10-03T20:30:08.368639Z",
     "iopub.status.idle": "2021-10-03T20:30:09.021890Z",
     "shell.execute_reply": "2021-10-03T20:30:09.023256Z"
    },
    "papermill": {
     "duration": 0.68333,
     "end_time": "2021-10-03T20:30:09.023679",
     "exception": false,
     "start_time": "2021-10-03T20:30:08.340349",
     "status": "completed"
    },
    "tags": []
   },
   "outputs": [],
   "source": [
    "df = pd.read_sql(\"select * from EBAY_TOP_BERLIN where record_time in (select distinct record_time from EBAY_TOP_BERLIN order by record_time desc limit 2)\", sqlite3.connect(\"UsedObjects.db\"))"
   ]
  },
  {
   "cell_type": "code",
   "execution_count": 5,
   "id": "popular-active",
   "metadata": {
    "execution": {
     "iopub.execute_input": "2021-10-03T20:30:09.093592Z",
     "iopub.status.busy": "2021-10-03T20:30:09.081229Z",
     "iopub.status.idle": "2021-10-03T20:30:09.111141Z",
     "shell.execute_reply": "2021-10-03T20:30:09.112542Z"
    },
    "papermill": {
     "duration": 0.068539,
     "end_time": "2021-10-03T20:30:09.112975",
     "exception": false,
     "start_time": "2021-10-03T20:30:09.044436",
     "status": "completed"
    },
    "tags": []
   },
   "outputs": [],
   "source": [
    "df_pivot = df.pivot_table(index=\"PRODUCT\", columns = \"RECORD_TIME\", values = \"LISTING_COUNT\")"
   ]
  },
  {
   "cell_type": "code",
   "execution_count": 6,
   "id": "union-huntington",
   "metadata": {
    "execution": {
     "iopub.execute_input": "2021-10-03T20:30:09.170631Z",
     "iopub.status.busy": "2021-10-03T20:30:09.168186Z",
     "iopub.status.idle": "2021-10-03T20:30:09.174046Z",
     "shell.execute_reply": "2021-10-03T20:30:09.175387Z"
    },
    "papermill": {
     "duration": 0.042409,
     "end_time": "2021-10-03T20:30:09.175805",
     "exception": false,
     "start_time": "2021-10-03T20:30:09.133396",
     "status": "completed"
    },
    "tags": []
   },
   "outputs": [],
   "source": [
    "df_pivot.columns = [\"stamp_1\", \"stamp_2\"]\n",
    "df_pivot_diff = df_pivot.diff(axis=1)"
   ]
  },
  {
   "cell_type": "code",
   "execution_count": 7,
   "id": "fifth-motion",
   "metadata": {
    "execution": {
     "iopub.execute_input": "2021-10-03T20:30:09.229677Z",
     "iopub.status.busy": "2021-10-03T20:30:09.227423Z",
     "iopub.status.idle": "2021-10-03T20:30:10.734011Z",
     "shell.execute_reply": "2021-10-03T20:30:10.735631Z"
    },
    "papermill": {
     "duration": 1.53957,
     "end_time": "2021-10-03T20:30:10.736090",
     "exception": false,
     "start_time": "2021-10-03T20:30:09.196520",
     "status": "completed"
    },
    "tags": []
   },
   "outputs": [
    {
     "data": {
      "text/plain": [
       "<AxesSubplot:ylabel='PRODUCT'>"
      ]
     },
     "execution_count": 7,
     "metadata": {},
     "output_type": "execute_result"
    },
    {
     "data": {
      "image/png": "[encoded data removed]",
      "text/plain": [
       "<Figure size 432x288 with 1 Axes>"
      ]
     },
     "metadata": {
      "needs_background": "light"
     },
     "output_type": "display_data"
    }
   ],
   "source": [
    "df_pivot_diff.sort_values(\"stamp_2\", ascending = False)[\"stamp_2\"].head(10).plot.barh()"
   ]
  },
  {
   "cell_type": "code",
   "execution_count": null,
   "id": "extra-executive",
   "metadata": {
    "papermill": {
     "duration": 0.022364,
     "end_time": "2021-10-03T20:30:10.783602",
     "exception": false,
     "start_time": "2021-10-03T20:30:10.761238",
     "status": "completed"
    },
    "tags": []
   },
   "outputs": [],
   "source": []
  }
 ],
 "metadata": {
  "kernelspec": {
   "display_name": "Python 3",
   "language": "python",
   "name": "python3"
  },
  "language_info": {
   "codemirror_mode": {
    "name": "ipython",
    "version": 3
   },
   "file_extension": ".py",
   "mimetype": "text/x-python",
   "name": "python",
   "nbconvert_exporter": "python",
   "pygments_lexer": "ipython3",
   "version": "3.9.5"
  },
  "papermill": {
   "default_parameters": {},
   "duration": 7.818951,
   "end_time": "2021-10-03T20:30:12.305000",
   "environment_variables": {},
   "exception": null,
   "input_path": "eBay_Overview.ipynb",
   "output_path": "eBay_Overview.ipynb",
   "parameters": {},
   "start_time": "2021-10-03T20:30:04.486049",
   "version": "2.3.3"
  }
 },
 "nbformat": 4,
 "nbformat_minor": 5
}