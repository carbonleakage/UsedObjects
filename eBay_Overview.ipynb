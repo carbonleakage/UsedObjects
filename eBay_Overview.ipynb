{
 "cells": [
  {
   "cell_type": "code",
   "execution_count": 1,
   "id": "reverse-picking",
   "metadata": {
    "execution": {
     "iopub.execute_input": "2021-10-09T21:00:06.816534Z",
     "iopub.status.busy": "2021-10-09T21:00:06.814552Z",
     "iopub.status.idle": "2021-10-09T21:00:07.624668Z",
     "shell.execute_reply": "2021-10-09T21:00:07.625923Z"
    },
    "papermill": {
     "duration": 0.863274,
     "end_time": "2021-10-09T21:00:07.626541",
     "exception": false,
     "start_time": "2021-10-09T21:00:06.763267",
     "status": "completed"
    },
    "tags": []
   },
   "outputs": [],
   "source": [
    "import pandas as pd\n",
    "import sqlite3"
   ]
  },
  {
   "cell_type": "code",
   "execution_count": 2,
   "id": "innovative-syndrome",
   "metadata": {
    "execution": {
     "iopub.execute_input": "2021-10-09T21:00:07.677981Z",
     "iopub.status.busy": "2021-10-09T21:00:07.675815Z",
     "iopub.status.idle": "2021-10-09T21:00:08.180024Z",
     "shell.execute_reply": "2021-10-09T21:00:08.181337Z"
    },
    "papermill": {
     "duration": 0.534532,
     "end_time": "2021-10-09T21:00:08.181759",
     "exception": false,
     "start_time": "2021-10-09T21:00:07.647227",
     "status": "completed"
    },
    "tags": []
   },
   "outputs": [],
   "source": [
    "timestamps = pd.read_sql(\"select distinct record_time from EBAY_TOP_BERLIN order by record_time desc limit 2\", sqlite3.connect(\"UsedObjects.db\"))"
   ]
  },
  {
   "cell_type": "code",
   "execution_count": 3,
   "id": "periodic-identification",
   "metadata": {
    "execution": {
     "iopub.execute_input": "2021-10-09T21:00:08.259422Z",
     "iopub.status.busy": "2021-10-09T21:00:08.257306Z",
     "iopub.status.idle": "2021-10-09T21:00:08.277327Z",
     "shell.execute_reply": "2021-10-09T21:00:08.278610Z"
    },
    "papermill": {
     "duration": 0.077696,
     "end_time": "2021-10-09T21:00:08.279084",
     "exception": false,
     "start_time": "2021-10-09T21:00:08.201388",
     "status": "completed"
    },
    "tags": []
   },
   "outputs": [
    {
     "data": {
      "text/html": [
       "<div>\n",
       "<style scoped>\n",
       "    .dataframe tbody tr th:only-of-type {\n",
       "        vertical-align: middle;\n",
       "    }\n",
       "\n",
       "    .dataframe tbody tr th {\n",
       "        vertical-align: top;\n",
       "    }\n",
       "\n",
       "    .dataframe thead th {\n",
       "        text-align: right;\n",
       "    }\n",
       "</style>\n",
       "<table border=\"1\" class=\"dataframe\">\n",
       "  <thead>\n",
       "    <tr style=\"text-align: right;\">\n",
       "      <th></th>\n",
       "      <th>RECORD_TIME</th>\n",
       "    </tr>\n",
       "  </thead>\n",
       "  <tbody>\n",
       "    <tr>\n",
       "      <th>0</th>\n",
       "      <td>2021-10-09 23:00</td>\n",
       "    </tr>\n",
       "    <tr>\n",
       "      <th>1</th>\n",
       "      <td>2021-10-09 22:30</td>\n",
       "    </tr>\n",
       "  </tbody>\n",
       "</table>\n",
       "</div>"
      ],
      "text/plain": [
       "        RECORD_TIME\n",
       "0  2021-10-09 23:00\n",
       "1  2021-10-09 22:30"
      ]
     },
     "execution_count": 3,
     "metadata": {},
     "output_type": "execute_result"
    }
   ],
   "source": [
    "timestamps"
   ]
  },
  {
   "cell_type": "code",
   "execution_count": 4,
   "id": "alternate-victory",
   "metadata": {
    "execution": {
     "iopub.execute_input": "2021-10-09T21:00:08.331560Z",
     "iopub.status.busy": "2021-10-09T21:00:08.329557Z",
     "iopub.status.idle": "2021-10-09T21:00:09.058494Z",
     "shell.execute_reply": "2021-10-09T21:00:09.059747Z"
    },
    "papermill": {
     "duration": 0.759264,
     "end_time": "2021-10-09T21:00:09.060169",
     "exception": false,
     "start_time": "2021-10-09T21:00:08.300905",
     "status": "completed"
    },
    "tags": []
   },
   "outputs": [],
   "source": [
    "df = pd.read_sql(\"select * from EBAY_TOP_BERLIN where record_time in (select distinct record_time from EBAY_TOP_BERLIN order by record_time desc limit 2)\", sqlite3.connect(\"UsedObjects.db\"))"
   ]
  },
  {
   "cell_type": "code",
   "execution_count": 5,
   "id": "popular-active",
   "metadata": {
    "execution": {
     "iopub.execute_input": "2021-10-09T21:00:09.124854Z",
     "iopub.status.busy": "2021-10-09T21:00:09.122601Z",
     "iopub.status.idle": "2021-10-09T21:00:09.150620Z",
     "shell.execute_reply": "2021-10-09T21:00:09.151973Z"
    },
    "papermill": {
     "duration": 0.069202,
     "end_time": "2021-10-09T21:00:09.152393",
     "exception": false,
     "start_time": "2021-10-09T21:00:09.083191",
     "status": "completed"
    },
    "tags": []
   },
   "outputs": [],
   "source": [
    "df_pivot = df.pivot_table(index=\"PRODUCT\", columns = \"RECORD_TIME\", values = \"LISTING_COUNT\")"
   ]
  },
  {
   "cell_type": "code",
   "execution_count": 6,
   "id": "union-huntington",
   "metadata": {
    "execution": {
     "iopub.execute_input": "2021-10-09T21:00:09.209764Z",
     "iopub.status.busy": "2021-10-09T21:00:09.207702Z",
     "iopub.status.idle": "2021-10-09T21:00:09.213033Z",
     "shell.execute_reply": "2021-10-09T21:00:09.214312Z"
    },
    "papermill": {
     "duration": 0.040724,
     "end_time": "2021-10-09T21:00:09.214729",
     "exception": false,
     "start_time": "2021-10-09T21:00:09.174005",
     "status": "completed"
    },
    "tags": []
   },
   "outputs": [],
   "source": [
    "df_pivot.columns = [\"stamp_1\", \"stamp_2\"]\n",
    "df_pivot_diff = df_pivot.diff(axis=1)"
   ]
  },
  {
   "cell_type": "code",
   "execution_count": 7,
   "id": "fifth-motion",
   "metadata": {
    "execution": {
     "iopub.execute_input": "2021-10-09T21:00:09.274643Z",
     "iopub.status.busy": "2021-10-09T21:00:09.269813Z",
     "iopub.status.idle": "2021-10-09T21:00:10.776282Z",
     "shell.execute_reply": "2021-10-09T21:00:10.777589Z"
    },
    "papermill": {
     "duration": 1.540798,
     "end_time": "2021-10-09T21:00:10.778014",
     "exception": false,
     "start_time": "2021-10-09T21:00:09.237216",
     "status": "completed"
    },
    "tags": []
   },
   "outputs": [
    {
     "data": {
      "text/plain": [
       "<AxesSubplot:ylabel='PRODUCT'>"
      ]
     },
     "execution_count": 7,
     "metadata": {},
     "output_type": "execute_result"
    },
    {
     "data": {
      "image/png": "[encoded data removed]",
      "text/plain": [
       "<Figure size 432x288 with 1 Axes>"
      ]
     },
     "metadata": {
      "needs_background": "light"
     },
     "output_type": "display_data"
    }
   ],
   "source": [
    "df_pivot_diff.sort_values(\"stamp_2\", ascending = False)[\"stamp_2\"].head(10).plot.barh()"
   ]
  },
  {
   "cell_type": "code",
   "execution_count": null,
   "id": "extra-executive",
   "metadata": {
    "papermill": {
     "duration": 0.022667,
     "end_time": "2021-10-09T21:00:10.825115",
     "exception": false,
     "start_time": "2021-10-09T21:00:10.802448",
     "status": "completed"
    },
    "tags": []
   },
   "outputs": [],
   "source": []
  }
 ],
 "metadata": {
  "kernelspec": {
   "display_name": "Python 3",
   "language": "python",
   "name": "python3"
  },
  "language_info": {
   "codemirror_mode": {
    "name": "ipython",
    "version": 3
   },
   "file_extension": ".py",
   "mimetype": "text/x-python",
   "name": "python",
   "nbconvert_exporter": "python",
   "pygments_lexer": "ipython3",
   "version": "3.9.5"
  },
  "papermill": {
   "default_parameters": {},
   "duration": 7.831916,
   "end_time": "2021-10-09T21:00:12.177602",
   "environment_variables": {},
   "exception": null,
   "input_path": "eBay_Overview.ipynb",
   "output_path": "eBay_Overview.ipynb",
   "parameters": {},
   "start_time": "2021-10-09T21:00:04.345686",
   "version": "2.3.3"
  }
 },
 "nbformat": 4,
 "nbformat_minor": 5
}