{
 "cells": [
  {
   "cell_type": "code",
   "execution_count": 1,
   "id": "reverse-picking",
   "metadata": {
    "execution": {
     "iopub.execute_input": "2021-08-22T08:30:07.100290Z",
     "iopub.status.busy": "2021-08-22T08:30:07.098338Z",
     "iopub.status.idle": "2021-08-22T08:30:07.905188Z",
     "shell.execute_reply": "2021-08-22T08:30:07.906601Z"
    },
    "papermill": {
     "duration": 0.858822,
     "end_time": "2021-08-22T08:30:07.907253",
     "exception": false,
     "start_time": "2021-08-22T08:30:07.048431",
     "status": "completed"
    },
    "tags": []
   },
   "outputs": [],
   "source": [
    "import pandas as pd\n",
    "import sqlite3"
   ]
  },
  {
   "cell_type": "code",
   "execution_count": 2,
   "id": "innovative-syndrome",
   "metadata": {
    "execution": {
     "iopub.execute_input": "2021-08-22T08:30:07.957773Z",
     "iopub.status.busy": "2021-08-22T08:30:07.955935Z",
     "iopub.status.idle": "2021-08-22T08:30:08.059553Z",
     "shell.execute_reply": "2021-08-22T08:30:08.060745Z"
    },
    "papermill": {
     "duration": 0.132978,
     "end_time": "2021-08-22T08:30:08.061136",
     "exception": false,
     "start_time": "2021-08-22T08:30:07.928158",
     "status": "completed"
    },
    "tags": []
   },
   "outputs": [],
   "source": [
    "timestamps = pd.read_sql(\"select distinct record_time from EBAY_TOP_BERLIN order by record_time desc limit 2\", sqlite3.connect(\"UsedObjects.db\"))"
   ]
  },
  {
   "cell_type": "code",
   "execution_count": 3,
   "id": "periodic-identification",
   "metadata": {
    "execution": {
     "iopub.execute_input": "2021-08-22T08:30:08.125643Z",
     "iopub.status.busy": "2021-08-22T08:30:08.123632Z",
     "iopub.status.idle": "2021-08-22T08:30:08.143708Z",
     "shell.execute_reply": "2021-08-22T08:30:08.144972Z"
    },
    "papermill": {
     "duration": 0.064774,
     "end_time": "2021-08-22T08:30:08.145379",
     "exception": false,
     "start_time": "2021-08-22T08:30:08.080605",
     "status": "completed"
    },
    "tags": []
   },
   "outputs": [
    {
     "data": {
      "text/html": [
       "<div>\n",
       "<style scoped>\n",
       "    .dataframe tbody tr th:only-of-type {\n",
       "        vertical-align: middle;\n",
       "    }\n",
       "\n",
       "    .dataframe tbody tr th {\n",
       "        vertical-align: top;\n",
       "    }\n",
       "\n",
       "    .dataframe thead th {\n",
       "        text-align: right;\n",
       "    }\n",
       "</style>\n",
       "<table border=\"1\" class=\"dataframe\">\n",
       "  <thead>\n",
       "    <tr style=\"text-align: right;\">\n",
       "      <th></th>\n",
       "      <th>RECORD_TIME</th>\n",
       "    </tr>\n",
       "  </thead>\n",
       "  <tbody>\n",
       "    <tr>\n",
       "      <th>0</th>\n",
       "      <td>2021-08-22 10:30</td>\n",
       "    </tr>\n",
       "    <tr>\n",
       "      <th>1</th>\n",
       "      <td>2021-08-22 10:00</td>\n",
       "    </tr>\n",
       "  </tbody>\n",
       "</table>\n",
       "</div>"
      ],
      "text/plain": [
       "        RECORD_TIME\n",
       "0  2021-08-22 10:30\n",
       "1  2021-08-22 10:00"
      ]
     },
     "execution_count": 3,
     "metadata": {},
     "output_type": "execute_result"
    }
   ],
   "source": [
    "timestamps"
   ]
  },
  {
   "cell_type": "code",
   "execution_count": 4,
   "id": "alternate-victory",
   "metadata": {
    "execution": {
     "iopub.execute_input": "2021-08-22T08:30:08.196924Z",
     "iopub.status.busy": "2021-08-22T08:30:08.195106Z",
     "iopub.status.idle": "2021-08-22T08:30:08.347205Z",
     "shell.execute_reply": "2021-08-22T08:30:08.348466Z"
    },
    "papermill": {
     "duration": 0.181984,
     "end_time": "2021-08-22T08:30:08.348858",
     "exception": false,
     "start_time": "2021-08-22T08:30:08.166874",
     "status": "completed"
    },
    "tags": []
   },
   "outputs": [],
   "source": [
    "df = pd.read_sql(\"select * from EBAY_TOP_BERLIN where record_time in (select distinct record_time from EBAY_TOP_BERLIN order by record_time desc limit 2)\", sqlite3.connect(\"UsedObjects.db\"))"
   ]
  },
  {
   "cell_type": "code",
   "execution_count": 5,
   "id": "popular-active",
   "metadata": {
    "execution": {
     "iopub.execute_input": "2021-08-22T08:30:08.419390Z",
     "iopub.status.busy": "2021-08-22T08:30:08.406418Z",
     "iopub.status.idle": "2021-08-22T08:30:08.435645Z",
     "shell.execute_reply": "2021-08-22T08:30:08.436914Z"
    },
    "papermill": {
     "duration": 0.067949,
     "end_time": "2021-08-22T08:30:08.437327",
     "exception": false,
     "start_time": "2021-08-22T08:30:08.369378",
     "status": "completed"
    },
    "tags": []
   },
   "outputs": [],
   "source": [
    "df_pivot = df.pivot_table(index=\"PRODUCT\", columns = \"RECORD_TIME\", values = \"LISTING_COUNT\")"
   ]
  },
  {
   "cell_type": "code",
   "execution_count": 6,
   "id": "union-huntington",
   "metadata": {
    "execution": {
     "iopub.execute_input": "2021-08-22T08:30:08.494403Z",
     "iopub.status.busy": "2021-08-22T08:30:08.492299Z",
     "iopub.status.idle": "2021-08-22T08:30:08.497401Z",
     "shell.execute_reply": "2021-08-22T08:30:08.498746Z"
    },
    "papermill": {
     "duration": 0.04218,
     "end_time": "2021-08-22T08:30:08.499173",
     "exception": false,
     "start_time": "2021-08-22T08:30:08.456993",
     "status": "completed"
    },
    "tags": []
   },
   "outputs": [],
   "source": [
    "df_pivot.columns = [\"stamp_1\", \"stamp_2\"]\n",
    "df_pivot_diff = df_pivot.diff(axis=1)"
   ]
  },
  {
   "cell_type": "code",
   "execution_count": 7,
   "id": "fifth-motion",
   "metadata": {
    "execution": {
     "iopub.execute_input": "2021-08-22T08:30:08.560835Z",
     "iopub.status.busy": "2021-08-22T08:30:08.558390Z",
     "iopub.status.idle": "2021-08-22T08:30:10.033412Z",
     "shell.execute_reply": "2021-08-22T08:30:10.034760Z"
    },
    "papermill": {
     "duration": 1.511967,
     "end_time": "2021-08-22T08:30:10.035175",
     "exception": false,
     "start_time": "2021-08-22T08:30:08.523208",
     "status": "completed"
    },
    "tags": []
   },
   "outputs": [
    {
     "data": {
      "text/plain": [
       "<AxesSubplot:ylabel='PRODUCT'>"
      ]
     },
     "execution_count": 7,
     "metadata": {},
     "output_type": "execute_result"
    },
    {
     "data": {
      "image/png": "[encoded data removed]",
      "text/plain": [
       "<Figure size 432x288 with 1 Axes>"
      ]
     },
     "metadata": {
      "needs_background": "light"
     },
     "output_type": "display_data"
    }
   ],
   "source": [
    "df_pivot_diff.sort_values(\"stamp_2\", ascending = False)[\"stamp_2\"].head(10).plot.barh()"
   ]
  },
  {
   "cell_type": "code",
   "execution_count": null,
   "id": "extra-executive",
   "metadata": {
    "papermill": {
     "duration": 0.022136,
     "end_time": "2021-08-22T08:30:10.081349",
     "exception": false,
     "start_time": "2021-08-22T08:30:10.059213",
     "status": "completed"
    },
    "tags": []
   },
   "outputs": [],
   "source": []
  }
 ],
 "metadata": {
  "kernelspec": {
   "display_name": "Python 3",
   "language": "python",
   "name": "python3"
  },
  "language_info": {
   "codemirror_mode": {
    "name": "ipython",
    "version": 3
   },
   "file_extension": ".py",
   "mimetype": "text/x-python",
   "name": "python",
   "nbconvert_exporter": "python",
   "pygments_lexer": "ipython3",
   "version": "3.9.5"
  },
  "papermill": {
   "default_parameters": {},
   "duration": 6.834042,
   "end_time": "2021-08-22T08:30:11.472960",
   "environment_variables": {},
   "exception": null,
   "input_path": "eBay_Overview.ipynb",
   "output_path": "eBay_Overview.ipynb",
   "parameters": {},
   "start_time": "2021-08-22T08:30:04.638918",
   "version": "2.3.3"
  }
 },
 "nbformat": 4,
 "nbformat_minor": 5
}