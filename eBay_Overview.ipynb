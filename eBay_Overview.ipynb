{
 "cells": [
  {
   "cell_type": "code",
   "execution_count": 1,
   "id": "reverse-picking",
   "metadata": {
    "execution": {
     "iopub.execute_input": "2021-11-21T19:30:07.637806Z",
     "iopub.status.busy": "2021-11-21T19:30:07.635717Z",
     "iopub.status.idle": "2021-11-21T19:30:08.610911Z",
     "shell.execute_reply": "2021-11-21T19:30:08.612405Z"
    },
    "papermill": {
     "duration": 1.025142,
     "end_time": "2021-11-21T19:30:08.613199",
     "exception": false,
     "start_time": "2021-11-21T19:30:07.588057",
     "status": "completed"
    },
    "tags": []
   },
   "outputs": [],
   "source": [
    "import pandas as pd\n",
    "import sqlite3"
   ]
  },
  {
   "cell_type": "code",
   "execution_count": 2,
   "id": "innovative-syndrome",
   "metadata": {
    "execution": {
     "iopub.execute_input": "2021-11-21T19:30:08.732286Z",
     "iopub.status.busy": "2021-11-21T19:30:08.730088Z",
     "iopub.status.idle": "2021-11-21T19:30:09.593559Z",
     "shell.execute_reply": "2021-11-21T19:30:09.595025Z"
    },
    "papermill": {
     "duration": 0.898087,
     "end_time": "2021-11-21T19:30:09.595593",
     "exception": false,
     "start_time": "2021-11-21T19:30:08.697506",
     "status": "completed"
    },
    "tags": []
   },
   "outputs": [],
   "source": [
    "timestamps = pd.read_sql(\"select distinct record_time from EBAY_TOP_BERLIN order by record_time desc limit 2\", sqlite3.connect(\"UsedObjects.db\"))"
   ]
  },
  {
   "cell_type": "code",
   "execution_count": 3,
   "id": "periodic-identification",
   "metadata": {
    "execution": {
     "iopub.execute_input": "2021-11-21T19:30:09.668519Z",
     "iopub.status.busy": "2021-11-21T19:30:09.666054Z",
     "iopub.status.idle": "2021-11-21T19:30:09.690463Z",
     "shell.execute_reply": "2021-11-21T19:30:09.688462Z"
    },
    "papermill": {
     "duration": 0.074182,
     "end_time": "2021-11-21T19:30:09.690909",
     "exception": false,
     "start_time": "2021-11-21T19:30:09.616727",
     "status": "completed"
    },
    "tags": []
   },
   "outputs": [
    {
     "data": {
      "text/html": [
       "<div>\n",
       "<style scoped>\n",
       "    .dataframe tbody tr th:only-of-type {\n",
       "        vertical-align: middle;\n",
       "    }\n",
       "\n",
       "    .dataframe tbody tr th {\n",
       "        vertical-align: top;\n",
       "    }\n",
       "\n",
       "    .dataframe thead th {\n",
       "        text-align: right;\n",
       "    }\n",
       "</style>\n",
       "<table border=\"1\" class=\"dataframe\">\n",
       "  <thead>\n",
       "    <tr style=\"text-align: right;\">\n",
       "      <th></th>\n",
       "      <th>RECORD_TIME</th>\n",
       "    </tr>\n",
       "  </thead>\n",
       "  <tbody>\n",
       "    <tr>\n",
       "      <th>0</th>\n",
       "      <td>2021-11-21 20:30</td>\n",
       "    </tr>\n",
       "    <tr>\n",
       "      <th>1</th>\n",
       "      <td>2021-11-21 20:00</td>\n",
       "    </tr>\n",
       "  </tbody>\n",
       "</table>\n",
       "</div>"
      ],
      "text/plain": [
       "        RECORD_TIME\n",
       "0  2021-11-21 20:30\n",
       "1  2021-11-21 20:00"
      ]
     },
     "execution_count": 3,
     "metadata": {},
     "output_type": "execute_result"
    }
   ],
   "source": [
    "timestamps"
   ]
  },
  {
   "cell_type": "code",
   "execution_count": 4,
   "id": "alternate-victory",
   "metadata": {
    "execution": {
     "iopub.execute_input": "2021-11-21T19:30:09.749539Z",
     "iopub.status.busy": "2021-11-21T19:30:09.747212Z",
     "iopub.status.idle": "2021-11-21T19:30:10.999936Z",
     "shell.execute_reply": "2021-11-21T19:30:11.002676Z"
    },
    "papermill": {
     "duration": 1.28983,
     "end_time": "2021-11-21T19:30:11.003423",
     "exception": false,
     "start_time": "2021-11-21T19:30:09.713593",
     "status": "completed"
    },
    "tags": []
   },
   "outputs": [],
   "source": [
    "df = pd.read_sql(\"select * from EBAY_TOP_BERLIN where record_time in (select distinct record_time from EBAY_TOP_BERLIN order by record_time desc limit 2)\", sqlite3.connect(\"UsedObjects.db\"))"
   ]
  },
  {
   "cell_type": "code",
   "execution_count": 5,
   "id": "popular-active",
   "metadata": {
    "execution": {
     "iopub.execute_input": "2021-11-21T19:30:11.085540Z",
     "iopub.status.busy": "2021-11-21T19:30:11.070738Z",
     "iopub.status.idle": "2021-11-21T19:30:11.105511Z",
     "shell.execute_reply": "2021-11-21T19:30:11.106789Z"
    },
    "papermill": {
     "duration": 0.079978,
     "end_time": "2021-11-21T19:30:11.107233",
     "exception": false,
     "start_time": "2021-11-21T19:30:11.027255",
     "status": "completed"
    },
    "tags": []
   },
   "outputs": [],
   "source": [
    "df_pivot = df.pivot_table(index=\"PRODUCT\", columns = \"RECORD_TIME\", values = \"LISTING_COUNT\")"
   ]
  },
  {
   "cell_type": "code",
   "execution_count": 6,
   "id": "union-huntington",
   "metadata": {
    "execution": {
     "iopub.execute_input": "2021-11-21T19:30:11.166671Z",
     "iopub.status.busy": "2021-11-21T19:30:11.164535Z",
     "iopub.status.idle": "2021-11-21T19:30:11.171058Z",
     "shell.execute_reply": "2021-11-21T19:30:11.169657Z"
    },
    "papermill": {
     "duration": 0.043193,
     "end_time": "2021-11-21T19:30:11.171411",
     "exception": false,
     "start_time": "2021-11-21T19:30:11.128218",
     "status": "completed"
    },
    "tags": []
   },
   "outputs": [],
   "source": [
    "df_pivot.columns = [\"stamp_1\", \"stamp_2\"]\n",
    "df_pivot_diff = df_pivot.diff(axis=1)"
   ]
  },
  {
   "cell_type": "code",
   "execution_count": 7,
   "id": "fifth-motion",
   "metadata": {
    "execution": {
     "iopub.execute_input": "2021-11-21T19:30:11.232434Z",
     "iopub.status.busy": "2021-11-21T19:30:11.229071Z",
     "iopub.status.idle": "2021-11-21T19:30:12.989967Z",
     "shell.execute_reply": "2021-11-21T19:30:12.991249Z"
    },
    "papermill": {
     "duration": 1.798869,
     "end_time": "2021-11-21T19:30:12.991699",
     "exception": false,
     "start_time": "2021-11-21T19:30:11.192830",
     "status": "completed"
    },
    "tags": []
   },
   "outputs": [
    {
     "data": {
      "text/plain": [
       "<AxesSubplot:ylabel='PRODUCT'>"
      ]
     },
     "execution_count": 7,
     "metadata": {},
     "output_type": "execute_result"
    },
    {
     "data": {
      "image/png": "[encoded data removed]",
      "text/plain": [
       "<Figure size 432x288 with 1 Axes>"
      ]
     },
     "metadata": {
      "needs_background": "light"
     },
     "output_type": "display_data"
    }
   ],
   "source": [
    "df_pivot_diff.sort_values(\"stamp_2\", ascending = False)[\"stamp_2\"].head(10).plot.barh()"
   ]
  },
  {
   "cell_type": "code",
   "execution_count": null,
   "id": "extra-executive",
   "metadata": {
    "papermill": {
     "duration": 0.022616,
     "end_time": "2021-11-21T19:30:13.038335",
     "exception": false,
     "start_time": "2021-11-21T19:30:13.015719",
     "status": "completed"
    },
    "tags": []
   },
   "outputs": [],
   "source": []
  }
 ],
 "metadata": {
  "kernelspec": {
   "display_name": "Python 3",
   "language": "python",
   "name": "python3"
  },
  "language_info": {
   "codemirror_mode": {
    "name": "ipython",
    "version": 3
   },
   "file_extension": ".py",
   "mimetype": "text/x-python",
   "name": "python",
   "nbconvert_exporter": "python",
   "pygments_lexer": "ipython3",
   "version": "3.9.5"
  },
  "papermill": {
   "default_parameters": {},
   "duration": 8.888246,
   "end_time": "2021-11-21T19:30:13.745967",
   "environment_variables": {},
   "exception": null,
   "input_path": "eBay_Overview.ipynb",
   "output_path": "eBay_Overview.ipynb",
   "parameters": {},
   "start_time": "2021-11-21T19:30:04.857721",
   "version": "2.3.3"
  }
 },
 "nbformat": 4,
 "nbformat_minor": 5
}