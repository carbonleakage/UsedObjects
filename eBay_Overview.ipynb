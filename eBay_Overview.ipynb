{
 "cells": [
  {
   "cell_type": "code",
   "execution_count": 1,
   "id": "reverse-picking",
   "metadata": {
    "execution": {
     "iopub.execute_input": "2021-10-02T08:30:07.028860Z",
     "iopub.status.busy": "2021-10-02T08:30:07.026915Z",
     "iopub.status.idle": "2021-10-02T08:30:07.834646Z",
     "shell.execute_reply": "2021-10-02T08:30:07.835996Z"
    },
    "papermill": {
     "duration": 0.85996,
     "end_time": "2021-10-02T08:30:07.836616",
     "exception": false,
     "start_time": "2021-10-02T08:30:06.976656",
     "status": "completed"
    },
    "tags": []
   },
   "outputs": [],
   "source": [
    "import pandas as pd\n",
    "import sqlite3"
   ]
  },
  {
   "cell_type": "code",
   "execution_count": 2,
   "id": "innovative-syndrome",
   "metadata": {
    "execution": {
     "iopub.execute_input": "2021-10-02T08:30:07.887516Z",
     "iopub.status.busy": "2021-10-02T08:30:07.885556Z",
     "iopub.status.idle": "2021-10-02T08:30:08.333276Z",
     "shell.execute_reply": "2021-10-02T08:30:08.334524Z"
    },
    "papermill": {
     "duration": 0.477148,
     "end_time": "2021-10-02T08:30:08.335006",
     "exception": false,
     "start_time": "2021-10-02T08:30:07.857858",
     "status": "completed"
    },
    "tags": []
   },
   "outputs": [],
   "source": [
    "timestamps = pd.read_sql(\"select distinct record_time from EBAY_TOP_BERLIN order by record_time desc limit 2\", sqlite3.connect(\"UsedObjects.db\"))"
   ]
  },
  {
   "cell_type": "code",
   "execution_count": 3,
   "id": "periodic-identification",
   "metadata": {
    "execution": {
     "iopub.execute_input": "2021-10-02T08:30:08.403139Z",
     "iopub.status.busy": "2021-10-02T08:30:08.400895Z",
     "iopub.status.idle": "2021-10-02T08:30:08.421543Z",
     "shell.execute_reply": "2021-10-02T08:30:08.422712Z"
    },
    "papermill": {
     "duration": 0.068868,
     "end_time": "2021-10-02T08:30:08.423208",
     "exception": false,
     "start_time": "2021-10-02T08:30:08.354340",
     "status": "completed"
    },
    "tags": []
   },
   "outputs": [
    {
     "data": {
      "text/html": [
       "<div>\n",
       "<style scoped>\n",
       "    .dataframe tbody tr th:only-of-type {\n",
       "        vertical-align: middle;\n",
       "    }\n",
       "\n",
       "    .dataframe tbody tr th {\n",
       "        vertical-align: top;\n",
       "    }\n",
       "\n",
       "    .dataframe thead th {\n",
       "        text-align: right;\n",
       "    }\n",
       "</style>\n",
       "<table border=\"1\" class=\"dataframe\">\n",
       "  <thead>\n",
       "    <tr style=\"text-align: right;\">\n",
       "      <th></th>\n",
       "      <th>RECORD_TIME</th>\n",
       "    </tr>\n",
       "  </thead>\n",
       "  <tbody>\n",
       "    <tr>\n",
       "      <th>0</th>\n",
       "      <td>2021-10-02 10:30</td>\n",
       "    </tr>\n",
       "    <tr>\n",
       "      <th>1</th>\n",
       "      <td>2021-10-02 10:00</td>\n",
       "    </tr>\n",
       "  </tbody>\n",
       "</table>\n",
       "</div>"
      ],
      "text/plain": [
       "        RECORD_TIME\n",
       "0  2021-10-02 10:30\n",
       "1  2021-10-02 10:00"
      ]
     },
     "execution_count": 3,
     "metadata": {},
     "output_type": "execute_result"
    }
   ],
   "source": [
    "timestamps"
   ]
  },
  {
   "cell_type": "code",
   "execution_count": 4,
   "id": "alternate-victory",
   "metadata": {
    "execution": {
     "iopub.execute_input": "2021-10-02T08:30:08.485088Z",
     "iopub.status.busy": "2021-10-02T08:30:08.483273Z",
     "iopub.status.idle": "2021-10-02T08:30:09.111121Z",
     "shell.execute_reply": "2021-10-02T08:30:09.112627Z"
    },
    "papermill": {
     "duration": 0.662722,
     "end_time": "2021-10-02T08:30:09.113070",
     "exception": false,
     "start_time": "2021-10-02T08:30:08.450348",
     "status": "completed"
    },
    "tags": []
   },
   "outputs": [],
   "source": [
    "df = pd.read_sql(\"select * from EBAY_TOP_BERLIN where record_time in (select distinct record_time from EBAY_TOP_BERLIN order by record_time desc limit 2)\", sqlite3.connect(\"UsedObjects.db\"))"
   ]
  },
  {
   "cell_type": "code",
   "execution_count": 5,
   "id": "popular-active",
   "metadata": {
    "execution": {
     "iopub.execute_input": "2021-10-02T08:30:09.184810Z",
     "iopub.status.busy": "2021-10-02T08:30:09.172796Z",
     "iopub.status.idle": "2021-10-02T08:30:09.201379Z",
     "shell.execute_reply": "2021-10-02T08:30:09.202734Z"
    },
    "papermill": {
     "duration": 0.069494,
     "end_time": "2021-10-02T08:30:09.203364",
     "exception": false,
     "start_time": "2021-10-02T08:30:09.133870",
     "status": "completed"
    },
    "tags": []
   },
   "outputs": [],
   "source": [
    "df_pivot = df.pivot_table(index=\"PRODUCT\", columns = \"RECORD_TIME\", values = \"LISTING_COUNT\")"
   ]
  },
  {
   "cell_type": "code",
   "execution_count": 6,
   "id": "union-huntington",
   "metadata": {
    "execution": {
     "iopub.execute_input": "2021-10-02T08:30:09.262328Z",
     "iopub.status.busy": "2021-10-02T08:30:09.259910Z",
     "iopub.status.idle": "2021-10-02T08:30:09.265829Z",
     "shell.execute_reply": "2021-10-02T08:30:09.267076Z"
    },
    "papermill": {
     "duration": 0.042171,
     "end_time": "2021-10-02T08:30:09.267509",
     "exception": false,
     "start_time": "2021-10-02T08:30:09.225338",
     "status": "completed"
    },
    "tags": []
   },
   "outputs": [],
   "source": [
    "df_pivot.columns = [\"stamp_1\", \"stamp_2\"]\n",
    "df_pivot_diff = df_pivot.diff(axis=1)"
   ]
  },
  {
   "cell_type": "code",
   "execution_count": 7,
   "id": "fifth-motion",
   "metadata": {
    "execution": {
     "iopub.execute_input": "2021-10-02T08:30:09.321783Z",
     "iopub.status.busy": "2021-10-02T08:30:09.319623Z",
     "iopub.status.idle": "2021-10-02T08:30:10.799919Z",
     "shell.execute_reply": "2021-10-02T08:30:10.801185Z"
    },
    "papermill": {
     "duration": 1.512676,
     "end_time": "2021-10-02T08:30:10.801601",
     "exception": false,
     "start_time": "2021-10-02T08:30:09.288925",
     "status": "completed"
    },
    "tags": []
   },
   "outputs": [
    {
     "data": {
      "text/plain": [
       "<AxesSubplot:ylabel='PRODUCT'>"
      ]
     },
     "execution_count": 7,
     "metadata": {},
     "output_type": "execute_result"
    },
    {
     "data": {
      "image/png": "[encoded data removed]",
      "text/plain": [
       "<Figure size 432x288 with 1 Axes>"
      ]
     },
     "metadata": {
      "needs_background": "light"
     },
     "output_type": "display_data"
    }
   ],
   "source": [
    "df_pivot_diff.sort_values(\"stamp_2\", ascending = False)[\"stamp_2\"].head(10).plot.barh()"
   ]
  },
  {
   "cell_type": "code",
   "execution_count": null,
   "id": "extra-executive",
   "metadata": {
    "papermill": {
     "duration": 0.022051,
     "end_time": "2021-10-02T08:30:10.847185",
     "exception": false,
     "start_time": "2021-10-02T08:30:10.825134",
     "status": "completed"
    },
    "tags": []
   },
   "outputs": [],
   "source": []
  }
 ],
 "metadata": {
  "kernelspec": {
   "display_name": "Python 3",
   "language": "python",
   "name": "python3"
  },
  "language_info": {
   "codemirror_mode": {
    "name": "ipython",
    "version": 3
   },
   "file_extension": ".py",
   "mimetype": "text/x-python",
   "name": "python",
   "nbconvert_exporter": "python",
   "pygments_lexer": "ipython3",
   "version": "3.9.5"
  },
  "papermill": {
   "default_parameters": {},
   "duration": 7.81956,
   "end_time": "2021-10-02T08:30:12.385535",
   "environment_variables": {},
   "exception": null,
   "input_path": "eBay_Overview.ipynb",
   "output_path": "eBay_Overview.ipynb",
   "parameters": {},
   "start_time": "2021-10-02T08:30:04.565975",
   "version": "2.3.3"
  }
 },
 "nbformat": 4,
 "nbformat_minor": 5
}