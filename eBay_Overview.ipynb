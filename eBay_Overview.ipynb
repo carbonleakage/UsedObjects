{
 "cells": [
  {
   "cell_type": "code",
   "execution_count": 1,
   "id": "reverse-picking",
   "metadata": {
    "execution": {
     "iopub.execute_input": "2021-08-14T19:00:07.452067Z",
     "iopub.status.busy": "2021-08-14T19:00:07.450091Z",
     "iopub.status.idle": "2021-08-14T19:00:08.265058Z",
     "shell.execute_reply": "2021-08-14T19:00:08.263247Z"
    },
    "papermill": {
     "duration": 0.865803,
     "end_time": "2021-08-14T19:00:08.265501",
     "exception": false,
     "start_time": "2021-08-14T19:00:07.399698",
     "status": "completed"
    },
    "tags": []
   },
   "outputs": [],
   "source": [
    "import pandas as pd\n",
    "import sqlite3"
   ]
  },
  {
   "cell_type": "code",
   "execution_count": 2,
   "id": "innovative-syndrome",
   "metadata": {
    "execution": {
     "iopub.execute_input": "2021-08-14T19:00:08.316729Z",
     "iopub.status.busy": "2021-08-14T19:00:08.314471Z",
     "iopub.status.idle": "2021-08-14T19:00:08.364889Z",
     "shell.execute_reply": "2021-08-14T19:00:08.366154Z"
    },
    "papermill": {
     "duration": 0.080531,
     "end_time": "2021-08-14T19:00:08.366580",
     "exception": false,
     "start_time": "2021-08-14T19:00:08.286049",
     "status": "completed"
    },
    "tags": []
   },
   "outputs": [],
   "source": [
    "timestamps = pd.read_sql(\"select distinct record_time from EBAY_TOP_BERLIN order by record_time desc limit 2\", sqlite3.connect(\"UsedObjects.db\"))"
   ]
  },
  {
   "cell_type": "code",
   "execution_count": 3,
   "id": "periodic-identification",
   "metadata": {
    "execution": {
     "iopub.execute_input": "2021-08-14T19:00:08.433543Z",
     "iopub.status.busy": "2021-08-14T19:00:08.431499Z",
     "iopub.status.idle": "2021-08-14T19:00:08.451154Z",
     "shell.execute_reply": "2021-08-14T19:00:08.452380Z"
    },
    "papermill": {
     "duration": 0.064429,
     "end_time": "2021-08-14T19:00:08.452782",
     "exception": false,
     "start_time": "2021-08-14T19:00:08.388353",
     "status": "completed"
    },
    "tags": []
   },
   "outputs": [
    {
     "data": {
      "text/html": [
       "<div>\n",
       "<style scoped>\n",
       "    .dataframe tbody tr th:only-of-type {\n",
       "        vertical-align: middle;\n",
       "    }\n",
       "\n",
       "    .dataframe tbody tr th {\n",
       "        vertical-align: top;\n",
       "    }\n",
       "\n",
       "    .dataframe thead th {\n",
       "        text-align: right;\n",
       "    }\n",
       "</style>\n",
       "<table border=\"1\" class=\"dataframe\">\n",
       "  <thead>\n",
       "    <tr style=\"text-align: right;\">\n",
       "      <th></th>\n",
       "      <th>RECORD_TIME</th>\n",
       "    </tr>\n",
       "  </thead>\n",
       "  <tbody>\n",
       "    <tr>\n",
       "      <th>0</th>\n",
       "      <td>2021-08-14 21:00</td>\n",
       "    </tr>\n",
       "    <tr>\n",
       "      <th>1</th>\n",
       "      <td>2021-08-14 20:30</td>\n",
       "    </tr>\n",
       "  </tbody>\n",
       "</table>\n",
       "</div>"
      ],
      "text/plain": [
       "        RECORD_TIME\n",
       "0  2021-08-14 21:00\n",
       "1  2021-08-14 20:30"
      ]
     },
     "execution_count": 3,
     "metadata": {},
     "output_type": "execute_result"
    }
   ],
   "source": [
    "timestamps"
   ]
  },
  {
   "cell_type": "code",
   "execution_count": 4,
   "id": "alternate-victory",
   "metadata": {
    "execution": {
     "iopub.execute_input": "2021-08-14T19:00:08.505068Z",
     "iopub.status.busy": "2021-08-14T19:00:08.502770Z",
     "iopub.status.idle": "2021-08-14T19:00:08.578144Z",
     "shell.execute_reply": "2021-08-14T19:00:08.579435Z"
    },
    "papermill": {
     "duration": 0.106027,
     "end_time": "2021-08-14T19:00:08.579861",
     "exception": false,
     "start_time": "2021-08-14T19:00:08.473834",
     "status": "completed"
    },
    "tags": []
   },
   "outputs": [],
   "source": [
    "df = pd.read_sql(\"select * from EBAY_TOP_BERLIN where record_time in (select distinct record_time from EBAY_TOP_BERLIN order by record_time desc limit 2)\", sqlite3.connect(\"UsedObjects.db\"))"
   ]
  },
  {
   "cell_type": "code",
   "execution_count": 5,
   "id": "popular-active",
   "metadata": {
    "execution": {
     "iopub.execute_input": "2021-08-14T19:00:08.643886Z",
     "iopub.status.busy": "2021-08-14T19:00:08.638691Z",
     "iopub.status.idle": "2021-08-14T19:00:08.665559Z",
     "shell.execute_reply": "2021-08-14T19:00:08.666994Z"
    },
    "papermill": {
     "duration": 0.066735,
     "end_time": "2021-08-14T19:00:08.667445",
     "exception": false,
     "start_time": "2021-08-14T19:00:08.600710",
     "status": "completed"
    },
    "tags": []
   },
   "outputs": [],
   "source": [
    "df_pivot = df.pivot_table(index=\"PRODUCT\", columns = \"RECORD_TIME\", values = \"LISTING_COUNT\")"
   ]
  },
  {
   "cell_type": "code",
   "execution_count": 6,
   "id": "union-huntington",
   "metadata": {
    "execution": {
     "iopub.execute_input": "2021-08-14T19:00:08.725371Z",
     "iopub.status.busy": "2021-08-14T19:00:08.722908Z",
     "iopub.status.idle": "2021-08-14T19:00:08.728720Z",
     "shell.execute_reply": "2021-08-14T19:00:08.730081Z"
    },
    "papermill": {
     "duration": 0.042594,
     "end_time": "2021-08-14T19:00:08.730553",
     "exception": false,
     "start_time": "2021-08-14T19:00:08.687959",
     "status": "completed"
    },
    "tags": []
   },
   "outputs": [],
   "source": [
    "df_pivot.columns = [\"stamp_1\", \"stamp_2\"]\n",
    "df_pivot_diff = df_pivot.diff(axis=1)"
   ]
  },
  {
   "cell_type": "code",
   "execution_count": 7,
   "id": "fifth-motion",
   "metadata": {
    "execution": {
     "iopub.execute_input": "2021-08-14T19:00:08.785245Z",
     "iopub.status.busy": "2021-08-14T19:00:08.782895Z",
     "iopub.status.idle": "2021-08-14T19:00:10.286780Z",
     "shell.execute_reply": "2021-08-14T19:00:10.288064Z"
    },
    "papermill": {
     "duration": 1.537262,
     "end_time": "2021-08-14T19:00:10.288490",
     "exception": false,
     "start_time": "2021-08-14T19:00:08.751228",
     "status": "completed"
    },
    "tags": []
   },
   "outputs": [
    {
     "data": {
      "text/plain": [
       "<AxesSubplot:ylabel='PRODUCT'>"
      ]
     },
     "execution_count": 7,
     "metadata": {},
     "output_type": "execute_result"
    },
    {
     "data": {
      "image/png": "[encoded data removed]",
      "text/plain": [
       "<Figure size 432x288 with 1 Axes>"
      ]
     },
     "metadata": {
      "needs_background": "light"
     },
     "output_type": "display_data"
    }
   ],
   "source": [
    "df_pivot_diff.sort_values(\"stamp_2\", ascending = False)[\"stamp_2\"].head(10).plot.barh()"
   ]
  },
  {
   "cell_type": "code",
   "execution_count": null,
   "id": "extra-executive",
   "metadata": {
    "papermill": {
     "duration": 0.022129,
     "end_time": "2021-08-14T19:00:10.335087",
     "exception": false,
     "start_time": "2021-08-14T19:00:10.312958",
     "status": "completed"
    },
    "tags": []
   },
   "outputs": [],
   "source": []
  }
 ],
 "metadata": {
  "kernelspec": {
   "display_name": "Python 3",
   "language": "python",
   "name": "python3"
  },
  "language_info": {
   "codemirror_mode": {
    "name": "ipython",
    "version": 3
   },
   "file_extension": ".py",
   "mimetype": "text/x-python",
   "name": "python",
   "nbconvert_exporter": "python",
   "pygments_lexer": "ipython3",
   "version": "3.9.5"
  },
  "papermill": {
   "default_parameters": {},
   "duration": 6.835063,
   "end_time": "2021-08-14T19:00:11.807759",
   "environment_variables": {},
   "exception": null,
   "input_path": "eBay_Overview.ipynb",
   "output_path": "eBay_Overview.ipynb",
   "parameters": {},
   "start_time": "2021-08-14T19:00:04.972696",
   "version": "2.3.3"
  }
 },
 "nbformat": 4,
 "nbformat_minor": 5
}