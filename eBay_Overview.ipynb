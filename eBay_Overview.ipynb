{
 "cells": [
  {
   "cell_type": "code",
   "execution_count": 1,
   "id": "reverse-picking",
   "metadata": {
    "execution": {
     "iopub.execute_input": "2021-11-16T11:30:07.382362Z",
     "iopub.status.busy": "2021-11-16T11:30:07.380219Z",
     "iopub.status.idle": "2021-11-16T11:30:08.345185Z",
     "shell.execute_reply": "2021-11-16T11:30:08.346874Z"
    },
    "papermill": {
     "duration": 1.014212,
     "end_time": "2021-11-16T11:30:08.347593",
     "exception": false,
     "start_time": "2021-11-16T11:30:07.333381",
     "status": "completed"
    },
    "tags": []
   },
   "outputs": [],
   "source": [
    "import pandas as pd\n",
    "import sqlite3"
   ]
  },
  {
   "cell_type": "code",
   "execution_count": 2,
   "id": "innovative-syndrome",
   "metadata": {
    "execution": {
     "iopub.execute_input": "2021-11-16T11:30:08.402623Z",
     "iopub.status.busy": "2021-11-16T11:30:08.400205Z",
     "iopub.status.idle": "2021-11-16T11:30:09.238349Z",
     "shell.execute_reply": "2021-11-16T11:30:09.239556Z"
    },
    "papermill": {
     "duration": 0.871166,
     "end_time": "2021-11-16T11:30:09.239954",
     "exception": false,
     "start_time": "2021-11-16T11:30:08.368788",
     "status": "completed"
    },
    "tags": []
   },
   "outputs": [],
   "source": [
    "timestamps = pd.read_sql(\"select distinct record_time from EBAY_TOP_BERLIN order by record_time desc limit 2\", sqlite3.connect(\"UsedObjects.db\"))"
   ]
  },
  {
   "cell_type": "code",
   "execution_count": 3,
   "id": "periodic-identification",
   "metadata": {
    "execution": {
     "iopub.execute_input": "2021-11-16T11:30:09.304073Z",
     "iopub.status.busy": "2021-11-16T11:30:09.302068Z",
     "iopub.status.idle": "2021-11-16T11:30:09.321823Z",
     "shell.execute_reply": "2021-11-16T11:30:09.323062Z"
    },
    "papermill": {
     "duration": 0.064073,
     "end_time": "2021-11-16T11:30:09.323456",
     "exception": false,
     "start_time": "2021-11-16T11:30:09.259383",
     "status": "completed"
    },
    "tags": []
   },
   "outputs": [
    {
     "data": {
      "text/html": [
       "<div>\n",
       "<style scoped>\n",
       "    .dataframe tbody tr th:only-of-type {\n",
       "        vertical-align: middle;\n",
       "    }\n",
       "\n",
       "    .dataframe tbody tr th {\n",
       "        vertical-align: top;\n",
       "    }\n",
       "\n",
       "    .dataframe thead th {\n",
       "        text-align: right;\n",
       "    }\n",
       "</style>\n",
       "<table border=\"1\" class=\"dataframe\">\n",
       "  <thead>\n",
       "    <tr style=\"text-align: right;\">\n",
       "      <th></th>\n",
       "      <th>RECORD_TIME</th>\n",
       "    </tr>\n",
       "  </thead>\n",
       "  <tbody>\n",
       "    <tr>\n",
       "      <th>0</th>\n",
       "      <td>2021-11-16 12:30</td>\n",
       "    </tr>\n",
       "    <tr>\n",
       "      <th>1</th>\n",
       "      <td>2021-11-16 12:00</td>\n",
       "    </tr>\n",
       "  </tbody>\n",
       "</table>\n",
       "</div>"
      ],
      "text/plain": [
       "        RECORD_TIME\n",
       "0  2021-11-16 12:30\n",
       "1  2021-11-16 12:00"
      ]
     },
     "execution_count": 3,
     "metadata": {},
     "output_type": "execute_result"
    }
   ],
   "source": [
    "timestamps"
   ]
  },
  {
   "cell_type": "code",
   "execution_count": 4,
   "id": "alternate-victory",
   "metadata": {
    "execution": {
     "iopub.execute_input": "2021-11-16T11:30:09.376040Z",
     "iopub.status.busy": "2021-11-16T11:30:09.373750Z",
     "iopub.status.idle": "2021-11-16T11:30:10.603515Z",
     "shell.execute_reply": "2021-11-16T11:30:10.604836Z"
    },
    "papermill": {
     "duration": 1.260179,
     "end_time": "2021-11-16T11:30:10.605302",
     "exception": false,
     "start_time": "2021-11-16T11:30:09.345123",
     "status": "completed"
    },
    "tags": []
   },
   "outputs": [],
   "source": [
    "df = pd.read_sql(\"select * from EBAY_TOP_BERLIN where record_time in (select distinct record_time from EBAY_TOP_BERLIN order by record_time desc limit 2)\", sqlite3.connect(\"UsedObjects.db\"))"
   ]
  },
  {
   "cell_type": "code",
   "execution_count": 5,
   "id": "popular-active",
   "metadata": {
    "execution": {
     "iopub.execute_input": "2021-11-16T11:30:10.679002Z",
     "iopub.status.busy": "2021-11-16T11:30:10.665711Z",
     "iopub.status.idle": "2021-11-16T11:30:10.697205Z",
     "shell.execute_reply": "2021-11-16T11:30:10.698584Z"
    },
    "papermill": {
     "duration": 0.073209,
     "end_time": "2021-11-16T11:30:10.699047",
     "exception": false,
     "start_time": "2021-11-16T11:30:10.625838",
     "status": "completed"
    },
    "tags": []
   },
   "outputs": [],
   "source": [
    "df_pivot = df.pivot_table(index=\"PRODUCT\", columns = \"RECORD_TIME\", values = \"LISTING_COUNT\")"
   ]
  },
  {
   "cell_type": "code",
   "execution_count": 6,
   "id": "union-huntington",
   "metadata": {
    "execution": {
     "iopub.execute_input": "2021-11-16T11:30:10.762126Z",
     "iopub.status.busy": "2021-11-16T11:30:10.759761Z",
     "iopub.status.idle": "2021-11-16T11:30:10.765802Z",
     "shell.execute_reply": "2021-11-16T11:30:10.767396Z"
    },
    "papermill": {
     "duration": 0.047885,
     "end_time": "2021-11-16T11:30:10.767909",
     "exception": false,
     "start_time": "2021-11-16T11:30:10.720024",
     "status": "completed"
    },
    "tags": []
   },
   "outputs": [],
   "source": [
    "df_pivot.columns = [\"stamp_1\", \"stamp_2\"]\n",
    "df_pivot_diff = df_pivot.diff(axis=1)"
   ]
  },
  {
   "cell_type": "code",
   "execution_count": 7,
   "id": "fifth-motion",
   "metadata": {
    "execution": {
     "iopub.execute_input": "2021-11-16T11:30:10.829672Z",
     "iopub.status.busy": "2021-11-16T11:30:10.826993Z",
     "iopub.status.idle": "2021-11-16T11:30:12.791580Z",
     "shell.execute_reply": "2021-11-16T11:30:12.793785Z"
    },
    "papermill": {
     "duration": 2.00496,
     "end_time": "2021-11-16T11:30:12.794364",
     "exception": false,
     "start_time": "2021-11-16T11:30:10.789404",
     "status": "completed"
    },
    "tags": []
   },
   "outputs": [
    {
     "data": {
      "text/plain": [
       "<AxesSubplot:ylabel='PRODUCT'>"
      ]
     },
     "execution_count": 7,
     "metadata": {},
     "output_type": "execute_result"
    },
    {
     "data": {
      "image/png": "[encoded data removed]",
      "text/plain": [
       "<Figure size 432x288 with 1 Axes>"
      ]
     },
     "metadata": {
      "needs_background": "light"
     },
     "output_type": "display_data"
    }
   ],
   "source": [
    "df_pivot_diff.sort_values(\"stamp_2\", ascending = False)[\"stamp_2\"].head(10).plot.barh()"
   ]
  },
  {
   "cell_type": "code",
   "execution_count": null,
   "id": "extra-executive",
   "metadata": {
    "papermill": {
     "duration": 0.034553,
     "end_time": "2021-11-16T11:30:12.863013",
     "exception": false,
     "start_time": "2021-11-16T11:30:12.828460",
     "status": "completed"
    },
    "tags": []
   },
   "outputs": [],
   "source": []
  }
 ],
 "metadata": {
  "kernelspec": {
   "display_name": "Python 3",
   "language": "python",
   "name": "python3"
  },
  "language_info": {
   "codemirror_mode": {
    "name": "ipython",
    "version": 3
   },
   "file_extension": ".py",
   "mimetype": "text/x-python",
   "name": "python",
   "nbconvert_exporter": "python",
   "pygments_lexer": "ipython3",
   "version": "3.9.5"
  },
  "papermill": {
   "default_parameters": {},
   "duration": 9.928895,
   "end_time": "2021-11-16T11:30:14.553350",
   "environment_variables": {},
   "exception": null,
   "input_path": "eBay_Overview.ipynb",
   "output_path": "eBay_Overview.ipynb",
   "parameters": {},
   "start_time": "2021-11-16T11:30:04.624455",
   "version": "2.3.3"
  }
 },
 "nbformat": 4,
 "nbformat_minor": 5
}