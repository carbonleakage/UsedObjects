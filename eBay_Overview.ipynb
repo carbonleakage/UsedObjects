{
 "cells": [
  {
   "cell_type": "code",
   "execution_count": 1,
   "id": "reverse-picking",
   "metadata": {
    "execution": {
     "iopub.execute_input": "2021-09-10T06:00:07.385461Z",
     "iopub.status.busy": "2021-09-10T06:00:07.383519Z",
     "iopub.status.idle": "2021-09-10T06:00:08.199767Z",
     "shell.execute_reply": "2021-09-10T06:00:08.201167Z"
    },
    "papermill": {
     "duration": 0.868382,
     "end_time": "2021-09-10T06:00:08.201822",
     "exception": false,
     "start_time": "2021-09-10T06:00:07.333440",
     "status": "completed"
    },
    "tags": []
   },
   "outputs": [],
   "source": [
    "import pandas as pd\n",
    "import sqlite3"
   ]
  },
  {
   "cell_type": "code",
   "execution_count": 2,
   "id": "innovative-syndrome",
   "metadata": {
    "execution": {
     "iopub.execute_input": "2021-09-10T06:00:08.252101Z",
     "iopub.status.busy": "2021-09-10T06:00:08.250104Z",
     "iopub.status.idle": "2021-09-10T06:00:08.500034Z",
     "shell.execute_reply": "2021-09-10T06:00:08.501296Z"
    },
    "papermill": {
     "duration": 0.279395,
     "end_time": "2021-09-10T06:00:08.501692",
     "exception": false,
     "start_time": "2021-09-10T06:00:08.222297",
     "status": "completed"
    },
    "tags": []
   },
   "outputs": [],
   "source": [
    "timestamps = pd.read_sql(\"select distinct record_time from EBAY_TOP_BERLIN order by record_time desc limit 2\", sqlite3.connect(\"UsedObjects.db\"))"
   ]
  },
  {
   "cell_type": "code",
   "execution_count": 3,
   "id": "periodic-identification",
   "metadata": {
    "execution": {
     "iopub.execute_input": "2021-09-10T06:00:08.565564Z",
     "iopub.status.busy": "2021-09-10T06:00:08.563523Z",
     "iopub.status.idle": "2021-09-10T06:00:08.583766Z",
     "shell.execute_reply": "2021-09-10T06:00:08.585246Z"
    },
    "papermill": {
     "duration": 0.064753,
     "end_time": "2021-09-10T06:00:08.585707",
     "exception": false,
     "start_time": "2021-09-10T06:00:08.520954",
     "status": "completed"
    },
    "tags": []
   },
   "outputs": [
    {
     "data": {
      "text/html": [
       "<div>\n",
       "<style scoped>\n",
       "    .dataframe tbody tr th:only-of-type {\n",
       "        vertical-align: middle;\n",
       "    }\n",
       "\n",
       "    .dataframe tbody tr th {\n",
       "        vertical-align: top;\n",
       "    }\n",
       "\n",
       "    .dataframe thead th {\n",
       "        text-align: right;\n",
       "    }\n",
       "</style>\n",
       "<table border=\"1\" class=\"dataframe\">\n",
       "  <thead>\n",
       "    <tr style=\"text-align: right;\">\n",
       "      <th></th>\n",
       "      <th>RECORD_TIME</th>\n",
       "    </tr>\n",
       "  </thead>\n",
       "  <tbody>\n",
       "    <tr>\n",
       "      <th>0</th>\n",
       "      <td>2021-09-10 08:00</td>\n",
       "    </tr>\n",
       "    <tr>\n",
       "      <th>1</th>\n",
       "      <td>2021-09-10 07:30</td>\n",
       "    </tr>\n",
       "  </tbody>\n",
       "</table>\n",
       "</div>"
      ],
      "text/plain": [
       "        RECORD_TIME\n",
       "0  2021-09-10 08:00\n",
       "1  2021-09-10 07:30"
      ]
     },
     "execution_count": 3,
     "metadata": {},
     "output_type": "execute_result"
    }
   ],
   "source": [
    "timestamps"
   ]
  },
  {
   "cell_type": "code",
   "execution_count": 4,
   "id": "alternate-victory",
   "metadata": {
    "execution": {
     "iopub.execute_input": "2021-09-10T06:00:08.637992Z",
     "iopub.status.busy": "2021-09-10T06:00:08.635966Z",
     "iopub.status.idle": "2021-09-10T06:00:09.012272Z",
     "shell.execute_reply": "2021-09-10T06:00:09.013492Z"
    },
    "papermill": {
     "duration": 0.406924,
     "end_time": "2021-09-10T06:00:09.013890",
     "exception": false,
     "start_time": "2021-09-10T06:00:08.606966",
     "status": "completed"
    },
    "tags": []
   },
   "outputs": [],
   "source": [
    "df = pd.read_sql(\"select * from EBAY_TOP_BERLIN where record_time in (select distinct record_time from EBAY_TOP_BERLIN order by record_time desc limit 2)\", sqlite3.connect(\"UsedObjects.db\"))"
   ]
  },
  {
   "cell_type": "code",
   "execution_count": 5,
   "id": "popular-active",
   "metadata": {
    "execution": {
     "iopub.execute_input": "2021-09-10T06:00:09.096481Z",
     "iopub.status.busy": "2021-09-10T06:00:09.089533Z",
     "iopub.status.idle": "2021-09-10T06:00:09.112015Z",
     "shell.execute_reply": "2021-09-10T06:00:09.113151Z"
    },
    "papermill": {
     "duration": 0.07098,
     "end_time": "2021-09-10T06:00:09.113560",
     "exception": false,
     "start_time": "2021-09-10T06:00:09.042580",
     "status": "completed"
    },
    "tags": []
   },
   "outputs": [],
   "source": [
    "df_pivot = df.pivot_table(index=\"PRODUCT\", columns = \"RECORD_TIME\", values = \"LISTING_COUNT\")"
   ]
  },
  {
   "cell_type": "code",
   "execution_count": 6,
   "id": "union-huntington",
   "metadata": {
    "execution": {
     "iopub.execute_input": "2021-09-10T06:00:09.170125Z",
     "iopub.status.busy": "2021-09-10T06:00:09.168072Z",
     "iopub.status.idle": "2021-09-10T06:00:09.173462Z",
     "shell.execute_reply": "2021-09-10T06:00:09.174651Z"
    },
    "papermill": {
     "duration": 0.040207,
     "end_time": "2021-09-10T06:00:09.175124",
     "exception": false,
     "start_time": "2021-09-10T06:00:09.134917",
     "status": "completed"
    },
    "tags": []
   },
   "outputs": [],
   "source": [
    "df_pivot.columns = [\"stamp_1\", \"stamp_2\"]\n",
    "df_pivot_diff = df_pivot.diff(axis=1)"
   ]
  },
  {
   "cell_type": "code",
   "execution_count": 7,
   "id": "fifth-motion",
   "metadata": {
    "execution": {
     "iopub.execute_input": "2021-09-10T06:00:09.228863Z",
     "iopub.status.busy": "2021-09-10T06:00:09.226381Z",
     "iopub.status.idle": "2021-09-10T06:00:10.737208Z",
     "shell.execute_reply": "2021-09-10T06:00:10.738481Z"
    },
    "papermill": {
     "duration": 1.54352,
     "end_time": "2021-09-10T06:00:10.738935",
     "exception": false,
     "start_time": "2021-09-10T06:00:09.195415",
     "status": "completed"
    },
    "tags": []
   },
   "outputs": [
    {
     "data": {
      "text/plain": [
       "<AxesSubplot:ylabel='PRODUCT'>"
      ]
     },
     "execution_count": 7,
     "metadata": {},
     "output_type": "execute_result"
    },
    {
     "data": {
      "image/png": "[encoded data removed]",
      "text/plain": [
       "<Figure size 432x288 with 1 Axes>"
      ]
     },
     "metadata": {
      "needs_background": "light"
     },
     "output_type": "display_data"
    }
   ],
   "source": [
    "df_pivot_diff.sort_values(\"stamp_2\", ascending = False)[\"stamp_2\"].head(10).plot.barh()"
   ]
  },
  {
   "cell_type": "code",
   "execution_count": null,
   "id": "extra-executive",
   "metadata": {
    "papermill": {
     "duration": 0.022112,
     "end_time": "2021-09-10T06:00:10.784486",
     "exception": false,
     "start_time": "2021-09-10T06:00:10.762374",
     "status": "completed"
    },
    "tags": []
   },
   "outputs": [],
   "source": []
  }
 ],
 "metadata": {
  "kernelspec": {
   "display_name": "Python 3",
   "language": "python",
   "name": "python3"
  },
  "language_info": {
   "codemirror_mode": {
    "name": "ipython",
    "version": 3
   },
   "file_extension": ".py",
   "mimetype": "text/x-python",
   "name": "python",
   "nbconvert_exporter": "python",
   "pygments_lexer": "ipython3",
   "version": "3.9.5"
  },
  "papermill": {
   "default_parameters": {},
   "duration": 6.517837,
   "end_time": "2021-09-10T06:00:11.425136",
   "environment_variables": {},
   "exception": null,
   "input_path": "eBay_Overview.ipynb",
   "output_path": "eBay_Overview.ipynb",
   "parameters": {},
   "start_time": "2021-09-10T06:00:04.907299",
   "version": "2.3.3"
  }
 },
 "nbformat": 4,
 "nbformat_minor": 5
}