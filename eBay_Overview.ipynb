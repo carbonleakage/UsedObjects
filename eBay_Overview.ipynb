{
 "cells": [
  {
   "cell_type": "code",
   "execution_count": 1,
   "id": "reverse-picking",
   "metadata": {
    "execution": {
     "iopub.execute_input": "2021-08-08T21:54:04.116720Z",
     "iopub.status.busy": "2021-08-08T21:54:04.115819Z",
     "iopub.status.idle": "2021-08-08T21:54:04.733364Z",
     "shell.execute_reply": "2021-08-08T21:54:04.734203Z"
    },
    "papermill": {
     "duration": 0.642636,
     "end_time": "2021-08-08T21:54:04.734626",
     "exception": false,
     "start_time": "2021-08-08T21:54:04.091990",
     "status": "completed"
    },
    "tags": []
   },
   "outputs": [],
   "source": [
    "import pandas as pd\n",
    "import sqlite3"
   ]
  },
  {
   "cell_type": "code",
   "execution_count": 2,
   "id": "innovative-syndrome",
   "metadata": {
    "execution": {
     "iopub.execute_input": "2021-08-08T21:54:04.759904Z",
     "iopub.status.busy": "2021-08-08T21:54:04.759133Z",
     "iopub.status.idle": "2021-08-08T21:54:04.961301Z",
     "shell.execute_reply": "2021-08-08T21:54:04.962033Z"
    },
    "papermill": {
     "duration": 0.217137,
     "end_time": "2021-08-08T21:54:04.962248",
     "exception": false,
     "start_time": "2021-08-08T21:54:04.745111",
     "status": "completed"
    },
    "tags": []
   },
   "outputs": [],
   "source": [
    "timestamps = pd.read_sql(\"select distinct record_time from EBAY_TOP_BERLIN order by record_time desc limit 2\", sqlite3.connect(\"UsedObjects.db\"))"
   ]
  },
  {
   "cell_type": "code",
   "execution_count": 3,
   "id": "periodic-identification",
   "metadata": {
    "execution": {
     "iopub.execute_input": "2021-08-08T21:54:04.998420Z",
     "iopub.status.busy": "2021-08-08T21:54:04.993474Z",
     "iopub.status.idle": "2021-08-08T21:54:05.006356Z",
     "shell.execute_reply": "2021-08-08T21:54:05.006890Z"
    },
    "papermill": {
     "duration": 0.035725,
     "end_time": "2021-08-08T21:54:05.007070",
     "exception": false,
     "start_time": "2021-08-08T21:54:04.971345",
     "status": "completed"
    },
    "tags": []
   },
   "outputs": [
    {
     "data": {
      "text/html": [
       "<div>\n",
       "<style scoped>\n",
       "    .dataframe tbody tr th:only-of-type {\n",
       "        vertical-align: middle;\n",
       "    }\n",
       "\n",
       "    .dataframe tbody tr th {\n",
       "        vertical-align: top;\n",
       "    }\n",
       "\n",
       "    .dataframe thead th {\n",
       "        text-align: right;\n",
       "    }\n",
       "</style>\n",
       "<table border=\"1\" class=\"dataframe\">\n",
       "  <thead>\n",
       "    <tr style=\"text-align: right;\">\n",
       "      <th></th>\n",
       "      <th>RECORD_TIME</th>\n",
       "    </tr>\n",
       "  </thead>\n",
       "  <tbody>\n",
       "    <tr>\n",
       "      <th>0</th>\n",
       "      <td>2021-08-08 23:54</td>\n",
       "    </tr>\n",
       "    <tr>\n",
       "      <th>1</th>\n",
       "      <td>2021-08-08 23:53</td>\n",
       "    </tr>\n",
       "  </tbody>\n",
       "</table>\n",
       "</div>"
      ],
      "text/plain": [
       "        RECORD_TIME\n",
       "0  2021-08-08 23:54\n",
       "1  2021-08-08 23:53"
      ]
     },
     "execution_count": 3,
     "metadata": {},
     "output_type": "execute_result"
    }
   ],
   "source": [
    "timestamps"
   ]
  },
  {
   "cell_type": "code",
   "execution_count": 4,
   "id": "alternate-victory",
   "metadata": {
    "execution": {
     "iopub.execute_input": "2021-08-08T21:54:05.028528Z",
     "iopub.status.busy": "2021-08-08T21:54:05.027772Z",
     "iopub.status.idle": "2021-08-08T21:54:05.036752Z",
     "shell.execute_reply": "2021-08-08T21:54:05.037409Z"
    },
    "papermill": {
     "duration": 0.02218,
     "end_time": "2021-08-08T21:54:05.037610",
     "exception": false,
     "start_time": "2021-08-08T21:54:05.015430",
     "status": "completed"
    },
    "tags": []
   },
   "outputs": [],
   "source": [
    "df = pd.read_sql(\"select * from EBAY_TOP_BERLIN where record_time in (select distinct record_time from EBAY_TOP_BERLIN order by record_time desc limit 2)\", sqlite3.connect(\"UsedObjects.db\"))"
   ]
  },
  {
   "cell_type": "code",
   "execution_count": 5,
   "id": "popular-active",
   "metadata": {
    "execution": {
     "iopub.execute_input": "2021-08-08T21:54:05.066969Z",
     "iopub.status.busy": "2021-08-08T21:54:05.065271Z",
     "iopub.status.idle": "2021-08-08T21:54:05.086856Z",
     "shell.execute_reply": "2021-08-08T21:54:05.087512Z"
    },
    "papermill": {
     "duration": 0.03919,
     "end_time": "2021-08-08T21:54:05.087797",
     "exception": false,
     "start_time": "2021-08-08T21:54:05.048607",
     "status": "completed"
    },
    "tags": []
   },
   "outputs": [],
   "source": [
    "df_pivot = df.pivot_table(index=\"PRODUCT\", columns = \"RECORD_TIME\", values = \"LISTING_COUNT\")"
   ]
  },
  {
   "cell_type": "code",
   "execution_count": 6,
   "id": "union-huntington",
   "metadata": {
    "execution": {
     "iopub.execute_input": "2021-08-08T21:54:05.122242Z",
     "iopub.status.busy": "2021-08-08T21:54:05.120613Z",
     "iopub.status.idle": "2021-08-08T21:54:05.126236Z",
     "shell.execute_reply": "2021-08-08T21:54:05.125658Z"
    },
    "papermill": {
     "duration": 0.028671,
     "end_time": "2021-08-08T21:54:05.126388",
     "exception": false,
     "start_time": "2021-08-08T21:54:05.097717",
     "status": "completed"
    },
    "tags": []
   },
   "outputs": [],
   "source": [
    "df_pivot.columns = [\"stamp_1\", \"stamp_2\"]\n",
    "df_pivot_diff = df_pivot.diff(axis=1)"
   ]
  },
  {
   "cell_type": "code",
   "execution_count": 7,
   "id": "fifth-motion",
   "metadata": {
    "execution": {
     "iopub.execute_input": "2021-08-08T21:54:05.152395Z",
     "iopub.status.busy": "2021-08-08T21:54:05.151481Z",
     "iopub.status.idle": "2021-08-08T21:54:05.980853Z",
     "shell.execute_reply": "2021-08-08T21:54:05.981409Z"
    },
    "papermill": {
     "duration": 0.847036,
     "end_time": "2021-08-08T21:54:05.981592",
     "exception": false,
     "start_time": "2021-08-08T21:54:05.134556",
     "status": "completed"
    },
    "tags": []
   },
   "outputs": [
    {
     "data": {
      "text/plain": [
       "<AxesSubplot:ylabel='PRODUCT'>"
      ]
     },
     "execution_count": 7,
     "metadata": {},
     "output_type": "execute_result"
    },
    {
     "data": {
      "image/png": "[encoded data removed]",
      "text/plain": [
       "<Figure size 432x288 with 1 Axes>"
      ]
     },
     "metadata": {
      "needs_background": "light"
     },
     "output_type": "display_data"
    }
   ],
   "source": [
    "df_pivot_diff.sort_values(\"stamp_2\", ascending = False)[\"stamp_2\"].head(10).plot.barh()"
   ]
  },
  {
   "cell_type": "code",
   "execution_count": null,
   "id": "extra-executive",
   "metadata": {
    "papermill": {
     "duration": 0.009511,
     "end_time": "2021-08-08T21:54:06.001131",
     "exception": false,
     "start_time": "2021-08-08T21:54:05.991620",
     "status": "completed"
    },
    "tags": []
   },
   "outputs": [],
   "source": []
  }
 ],
 "metadata": {
  "kernelspec": {
   "display_name": "Python 3",
   "language": "python",
   "name": "python3"
  },
  "language_info": {
   "codemirror_mode": {
    "name": "ipython",
    "version": 3
   },
   "file_extension": ".py",
   "mimetype": "text/x-python",
   "name": "python",
   "nbconvert_exporter": "python",
   "pygments_lexer": "ipython3",
   "version": "3.8.8"
  },
  "papermill": {
   "default_parameters": {},
   "duration": 4.180003,
   "end_time": "2021-08-08T21:54:06.521917",
   "environment_variables": {},
   "exception": null,
   "input_path": "/Users/saravananshanmugam/Carbonleakage_Git/UsedObjects/eBay_Overview.ipynb",
   "output_path": "/Users/saravananshanmugam/Carbonleakage_Git/UsedObjects/eBay_Overview.ipynb",
   "parameters": {},
   "start_time": "2021-08-08T21:54:02.341914",
   "version": "2.3.3"
  }
 },
 "nbformat": 4,
 "nbformat_minor": 5
}