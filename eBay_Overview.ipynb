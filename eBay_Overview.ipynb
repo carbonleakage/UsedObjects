{
 "cells": [
  {
   "cell_type": "code",
   "execution_count": 1,
   "id": "reverse-picking",
   "metadata": {
    "execution": {
     "iopub.execute_input": "2021-08-10T19:00:03.949708Z",
     "iopub.status.busy": "2021-08-10T19:00:03.948928Z",
     "iopub.status.idle": "2021-08-10T19:00:04.575903Z",
     "shell.execute_reply": "2021-08-10T19:00:04.576489Z"
    },
    "papermill": {
     "duration": 0.648373,
     "end_time": "2021-08-10T19:00:04.576794",
     "exception": false,
     "start_time": "2021-08-10T19:00:03.928421",
     "status": "completed"
    },
    "tags": []
   },
   "outputs": [],
   "source": [
    "import pandas as pd\n",
    "import sqlite3"
   ]
  },
  {
   "cell_type": "code",
   "execution_count": 2,
   "id": "innovative-syndrome",
   "metadata": {
    "execution": {
     "iopub.execute_input": "2021-08-10T19:00:04.605711Z",
     "iopub.status.busy": "2021-08-10T19:00:04.604949Z",
     "iopub.status.idle": "2021-08-10T19:00:04.813011Z",
     "shell.execute_reply": "2021-08-10T19:00:04.813580Z"
    },
    "papermill": {
     "duration": 0.227902,
     "end_time": "2021-08-10T19:00:04.813778",
     "exception": false,
     "start_time": "2021-08-10T19:00:04.585876",
     "status": "completed"
    },
    "tags": []
   },
   "outputs": [],
   "source": [
    "timestamps = pd.read_sql(\"select distinct record_time from EBAY_TOP_BERLIN order by record_time desc limit 2\", sqlite3.connect(\"UsedObjects.db\"))"
   ]
  },
  {
   "cell_type": "code",
   "execution_count": 3,
   "id": "periodic-identification",
   "metadata": {
    "execution": {
     "iopub.execute_input": "2021-08-10T19:00:04.850278Z",
     "iopub.status.busy": "2021-08-10T19:00:04.849513Z",
     "iopub.status.idle": "2021-08-10T19:00:04.861149Z",
     "shell.execute_reply": "2021-08-10T19:00:04.861675Z"
    },
    "papermill": {
     "duration": 0.034902,
     "end_time": "2021-08-10T19:00:04.861855",
     "exception": false,
     "start_time": "2021-08-10T19:00:04.826953",
     "status": "completed"
    },
    "tags": []
   },
   "outputs": [
    {
     "data": {
      "text/html": [
       "<div>\n",
       "<style scoped>\n",
       "    .dataframe tbody tr th:only-of-type {\n",
       "        vertical-align: middle;\n",
       "    }\n",
       "\n",
       "    .dataframe tbody tr th {\n",
       "        vertical-align: top;\n",
       "    }\n",
       "\n",
       "    .dataframe thead th {\n",
       "        text-align: right;\n",
       "    }\n",
       "</style>\n",
       "<table border=\"1\" class=\"dataframe\">\n",
       "  <thead>\n",
       "    <tr style=\"text-align: right;\">\n",
       "      <th></th>\n",
       "      <th>RECORD_TIME</th>\n",
       "    </tr>\n",
       "  </thead>\n",
       "  <tbody>\n",
       "    <tr>\n",
       "      <th>0</th>\n",
       "      <td>2021-08-10 21:00</td>\n",
       "    </tr>\n",
       "    <tr>\n",
       "      <th>1</th>\n",
       "      <td>2021-08-10 20:30</td>\n",
       "    </tr>\n",
       "  </tbody>\n",
       "</table>\n",
       "</div>"
      ],
      "text/plain": [
       "        RECORD_TIME\n",
       "0  2021-08-10 21:00\n",
       "1  2021-08-10 20:30"
      ]
     },
     "execution_count": 3,
     "metadata": {},
     "output_type": "execute_result"
    }
   ],
   "source": [
    "timestamps"
   ]
  },
  {
   "cell_type": "code",
   "execution_count": 4,
   "id": "alternate-victory",
   "metadata": {
    "execution": {
     "iopub.execute_input": "2021-08-10T19:00:04.888924Z",
     "iopub.status.busy": "2021-08-10T19:00:04.888164Z",
     "iopub.status.idle": "2021-08-10T19:00:04.907806Z",
     "shell.execute_reply": "2021-08-10T19:00:04.908340Z"
    },
    "papermill": {
     "duration": 0.034631,
     "end_time": "2021-08-10T19:00:04.908520",
     "exception": false,
     "start_time": "2021-08-10T19:00:04.873889",
     "status": "completed"
    },
    "tags": []
   },
   "outputs": [],
   "source": [
    "df = pd.read_sql(\"select * from EBAY_TOP_BERLIN where record_time in (select distinct record_time from EBAY_TOP_BERLIN order by record_time desc limit 2)\", sqlite3.connect(\"UsedObjects.db\"))"
   ]
  },
  {
   "cell_type": "code",
   "execution_count": 5,
   "id": "popular-active",
   "metadata": {
    "execution": {
     "iopub.execute_input": "2021-08-10T19:00:04.940055Z",
     "iopub.status.busy": "2021-08-10T19:00:04.939277Z",
     "iopub.status.idle": "2021-08-10T19:00:04.959568Z",
     "shell.execute_reply": "2021-08-10T19:00:04.960394Z"
    },
    "papermill": {
     "duration": 0.043953,
     "end_time": "2021-08-10T19:00:04.960673",
     "exception": false,
     "start_time": "2021-08-10T19:00:04.916720",
     "status": "completed"
    },
    "tags": []
   },
   "outputs": [],
   "source": [
    "df_pivot = df.pivot_table(index=\"PRODUCT\", columns = \"RECORD_TIME\", values = \"LISTING_COUNT\")"
   ]
  },
  {
   "cell_type": "code",
   "execution_count": 6,
   "id": "union-huntington",
   "metadata": {
    "execution": {
     "iopub.execute_input": "2021-08-10T19:00:04.985383Z",
     "iopub.status.busy": "2021-08-10T19:00:04.984655Z",
     "iopub.status.idle": "2021-08-10T19:00:04.987432Z",
     "shell.execute_reply": "2021-08-10T19:00:04.987959Z"
    },
    "papermill": {
     "duration": 0.018645,
     "end_time": "2021-08-10T19:00:04.988143",
     "exception": false,
     "start_time": "2021-08-10T19:00:04.969498",
     "status": "completed"
    },
    "tags": []
   },
   "outputs": [],
   "source": [
    "df_pivot.columns = [\"stamp_1\", \"stamp_2\"]\n",
    "df_pivot_diff = df_pivot.diff(axis=1)"
   ]
  },
  {
   "cell_type": "code",
   "execution_count": 7,
   "id": "fifth-motion",
   "metadata": {
    "execution": {
     "iopub.execute_input": "2021-08-10T19:00:05.017873Z",
     "iopub.status.busy": "2021-08-10T19:00:05.017109Z",
     "iopub.status.idle": "2021-08-10T19:00:05.778790Z",
     "shell.execute_reply": "2021-08-10T19:00:05.777456Z"
    },
    "papermill": {
     "duration": 0.781607,
     "end_time": "2021-08-10T19:00:05.779065",
     "exception": false,
     "start_time": "2021-08-10T19:00:04.997458",
     "status": "completed"
    },
    "tags": []
   },
   "outputs": [
    {
     "data": {
      "text/plain": [
       "<AxesSubplot:ylabel='PRODUCT'>"
      ]
     },
     "execution_count": 7,
     "metadata": {},
     "output_type": "execute_result"
    },
    {
     "data": {
      "image/png": "[encoded data removed]",
      "text/plain": [
       "<Figure size 432x288 with 1 Axes>"
      ]
     },
     "metadata": {
      "needs_background": "light"
     },
     "output_type": "display_data"
    }
   ],
   "source": [
    "df_pivot_diff.sort_values(\"stamp_2\", ascending = False)[\"stamp_2\"].head(10).plot.barh()"
   ]
  },
  {
   "cell_type": "code",
   "execution_count": null,
   "id": "extra-executive",
   "metadata": {
    "papermill": {
     "duration": 0.009511,
     "end_time": "2021-08-10T19:00:05.800323",
     "exception": false,
     "start_time": "2021-08-10T19:00:05.790812",
     "status": "completed"
    },
    "tags": []
   },
   "outputs": [],
   "source": []
  }
 ],
 "metadata": {
  "kernelspec": {
   "display_name": "Python 3",
   "language": "python",
   "name": "python3"
  },
  "language_info": {
   "codemirror_mode": {
    "name": "ipython",
    "version": 3
   },
   "file_extension": ".py",
   "mimetype": "text/x-python",
   "name": "python",
   "nbconvert_exporter": "python",
   "pygments_lexer": "ipython3",
   "version": "3.8.8"
  },
  "papermill": {
   "default_parameters": {},
   "duration": 5.082569,
   "end_time": "2021-08-10T19:00:07.296442",
   "environment_variables": {},
   "exception": null,
   "input_path": "/Users/saravananshanmugam/Carbonleakage_Git/UsedObjects/eBay_Overview.ipynb",
   "output_path": "/Users/saravananshanmugam/Carbonleakage_Git/UsedObjects/eBay_Overview.ipynb",
   "parameters": {},
   "start_time": "2021-08-10T19:00:02.213873",
   "version": "2.3.3"
  }
 },
 "nbformat": 4,
 "nbformat_minor": 5
}