{
 "cells": [
  {
   "cell_type": "code",
   "execution_count": 1,
   "id": "reverse-picking",
   "metadata": {
    "execution": {
     "iopub.execute_input": "2021-11-19T01:30:07.102587Z",
     "iopub.status.busy": "2021-11-19T01:30:07.100514Z",
     "iopub.status.idle": "2021-11-19T01:30:08.037151Z",
     "shell.execute_reply": "2021-11-19T01:30:08.039129Z"
    },
    "papermill": {
     "duration": 0.986558,
     "end_time": "2021-11-19T01:30:08.039858",
     "exception": false,
     "start_time": "2021-11-19T01:30:07.053300",
     "status": "completed"
    },
    "tags": []
   },
   "outputs": [],
   "source": [
    "import pandas as pd\n",
    "import sqlite3"
   ]
  },
  {
   "cell_type": "code",
   "execution_count": 2,
   "id": "innovative-syndrome",
   "metadata": {
    "execution": {
     "iopub.execute_input": "2021-11-19T01:30:08.095465Z",
     "iopub.status.busy": "2021-11-19T01:30:08.093197Z",
     "iopub.status.idle": "2021-11-19T01:30:08.953484Z",
     "shell.execute_reply": "2021-11-19T01:30:08.954993Z"
    },
    "papermill": {
     "duration": 0.894278,
     "end_time": "2021-11-19T01:30:08.955494",
     "exception": false,
     "start_time": "2021-11-19T01:30:08.061216",
     "status": "completed"
    },
    "tags": []
   },
   "outputs": [],
   "source": [
    "timestamps = pd.read_sql(\"select distinct record_time from EBAY_TOP_BERLIN order by record_time desc limit 2\", sqlite3.connect(\"UsedObjects.db\"))"
   ]
  },
  {
   "cell_type": "code",
   "execution_count": 3,
   "id": "periodic-identification",
   "metadata": {
    "execution": {
     "iopub.execute_input": "2021-11-19T01:30:09.043763Z",
     "iopub.status.busy": "2021-11-19T01:30:09.038064Z",
     "iopub.status.idle": "2021-11-19T01:30:09.060576Z",
     "shell.execute_reply": "2021-11-19T01:30:09.062115Z"
    },
    "papermill": {
     "duration": 0.083045,
     "end_time": "2021-11-19T01:30:09.062613",
     "exception": false,
     "start_time": "2021-11-19T01:30:08.979568",
     "status": "completed"
    },
    "tags": []
   },
   "outputs": [
    {
     "data": {
      "text/html": [
       "<div>\n",
       "<style scoped>\n",
       "    .dataframe tbody tr th:only-of-type {\n",
       "        vertical-align: middle;\n",
       "    }\n",
       "\n",
       "    .dataframe tbody tr th {\n",
       "        vertical-align: top;\n",
       "    }\n",
       "\n",
       "    .dataframe thead th {\n",
       "        text-align: right;\n",
       "    }\n",
       "</style>\n",
       "<table border=\"1\" class=\"dataframe\">\n",
       "  <thead>\n",
       "    <tr style=\"text-align: right;\">\n",
       "      <th></th>\n",
       "      <th>RECORD_TIME</th>\n",
       "    </tr>\n",
       "  </thead>\n",
       "  <tbody>\n",
       "    <tr>\n",
       "      <th>0</th>\n",
       "      <td>2021-11-19 02:30</td>\n",
       "    </tr>\n",
       "    <tr>\n",
       "      <th>1</th>\n",
       "      <td>2021-11-19 02:00</td>\n",
       "    </tr>\n",
       "  </tbody>\n",
       "</table>\n",
       "</div>"
      ],
      "text/plain": [
       "        RECORD_TIME\n",
       "0  2021-11-19 02:30\n",
       "1  2021-11-19 02:00"
      ]
     },
     "execution_count": 3,
     "metadata": {},
     "output_type": "execute_result"
    }
   ],
   "source": [
    "timestamps"
   ]
  },
  {
   "cell_type": "code",
   "execution_count": 4,
   "id": "alternate-victory",
   "metadata": {
    "execution": {
     "iopub.execute_input": "2021-11-19T01:30:09.119075Z",
     "iopub.status.busy": "2021-11-19T01:30:09.116972Z",
     "iopub.status.idle": "2021-11-19T01:30:10.414012Z",
     "shell.execute_reply": "2021-11-19T01:30:10.415625Z"
    },
    "papermill": {
     "duration": 1.331364,
     "end_time": "2021-11-19T01:30:10.416130",
     "exception": false,
     "start_time": "2021-11-19T01:30:09.084766",
     "status": "completed"
    },
    "tags": []
   },
   "outputs": [],
   "source": [
    "df = pd.read_sql(\"select * from EBAY_TOP_BERLIN where record_time in (select distinct record_time from EBAY_TOP_BERLIN order by record_time desc limit 2)\", sqlite3.connect(\"UsedObjects.db\"))"
   ]
  },
  {
   "cell_type": "code",
   "execution_count": 5,
   "id": "popular-active",
   "metadata": {
    "execution": {
     "iopub.execute_input": "2021-11-19T01:30:10.490138Z",
     "iopub.status.busy": "2021-11-19T01:30:10.481640Z",
     "iopub.status.idle": "2021-11-19T01:30:10.514998Z",
     "shell.execute_reply": "2021-11-19T01:30:10.516971Z"
    },
    "papermill": {
     "duration": 0.078842,
     "end_time": "2021-11-19T01:30:10.517495",
     "exception": false,
     "start_time": "2021-11-19T01:30:10.438653",
     "status": "completed"
    },
    "tags": []
   },
   "outputs": [],
   "source": [
    "df_pivot = df.pivot_table(index=\"PRODUCT\", columns = \"RECORD_TIME\", values = \"LISTING_COUNT\")"
   ]
  },
  {
   "cell_type": "code",
   "execution_count": 6,
   "id": "union-huntington",
   "metadata": {
    "execution": {
     "iopub.execute_input": "2021-11-19T01:30:10.581122Z",
     "iopub.status.busy": "2021-11-19T01:30:10.578760Z",
     "iopub.status.idle": "2021-11-19T01:30:10.584346Z",
     "shell.execute_reply": "2021-11-19T01:30:10.586025Z"
    },
    "papermill": {
     "duration": 0.047175,
     "end_time": "2021-11-19T01:30:10.586507",
     "exception": false,
     "start_time": "2021-11-19T01:30:10.539332",
     "status": "completed"
    },
    "tags": []
   },
   "outputs": [],
   "source": [
    "df_pivot.columns = [\"stamp_1\", \"stamp_2\"]\n",
    "df_pivot_diff = df_pivot.diff(axis=1)"
   ]
  },
  {
   "cell_type": "code",
   "execution_count": 7,
   "id": "fifth-motion",
   "metadata": {
    "execution": {
     "iopub.execute_input": "2021-11-19T01:30:10.646324Z",
     "iopub.status.busy": "2021-11-19T01:30:10.643608Z",
     "iopub.status.idle": "2021-11-19T01:30:12.371742Z",
     "shell.execute_reply": "2021-11-19T01:30:12.373154Z"
    },
    "papermill": {
     "duration": 1.765892,
     "end_time": "2021-11-19T01:30:12.373636",
     "exception": false,
     "start_time": "2021-11-19T01:30:10.607744",
     "status": "completed"
    },
    "tags": []
   },
   "outputs": [
    {
     "data": {
      "text/plain": [
       "<AxesSubplot:ylabel='PRODUCT'>"
      ]
     },
     "execution_count": 7,
     "metadata": {},
     "output_type": "execute_result"
    },
    {
     "data": {
      "image/png": "[encoded data removed]",
      "text/plain": [
       "<Figure size 432x288 with 1 Axes>"
      ]
     },
     "metadata": {
      "needs_background": "light"
     },
     "output_type": "display_data"
    }
   ],
   "source": [
    "df_pivot_diff.sort_values(\"stamp_2\", ascending = False)[\"stamp_2\"].head(10).plot.barh()"
   ]
  },
  {
   "cell_type": "code",
   "execution_count": null,
   "id": "extra-executive",
   "metadata": {
    "papermill": {
     "duration": 0.023778,
     "end_time": "2021-11-19T01:30:12.421171",
     "exception": false,
     "start_time": "2021-11-19T01:30:12.397393",
     "status": "completed"
    },
    "tags": []
   },
   "outputs": [],
   "source": []
  }
 ],
 "metadata": {
  "kernelspec": {
   "display_name": "Python 3",
   "language": "python",
   "name": "python3"
  },
  "language_info": {
   "codemirror_mode": {
    "name": "ipython",
    "version": 3
   },
   "file_extension": ".py",
   "mimetype": "text/x-python",
   "name": "python",
   "nbconvert_exporter": "python",
   "pygments_lexer": "ipython3",
   "version": "3.9.5"
  },
  "papermill": {
   "default_parameters": {},
   "duration": 10.008669,
   "end_time": "2021-11-19T01:30:14.267261",
   "environment_variables": {},
   "exception": null,
   "input_path": "eBay_Overview.ipynb",
   "output_path": "eBay_Overview.ipynb",
   "parameters": {},
   "start_time": "2021-11-19T01:30:04.258592",
   "version": "2.3.3"
  }
 },
 "nbformat": 4,
 "nbformat_minor": 5
}