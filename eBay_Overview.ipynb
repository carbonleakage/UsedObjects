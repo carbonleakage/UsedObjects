{
 "cells": [
  {
   "cell_type": "code",
   "execution_count": 1,
   "id": "reverse-picking",
   "metadata": {
    "execution": {
     "iopub.execute_input": "2021-08-18T12:00:07.211436Z",
     "iopub.status.busy": "2021-08-18T12:00:07.209299Z",
     "iopub.status.idle": "2021-08-18T12:00:08.014916Z",
     "shell.execute_reply": "2021-08-18T12:00:08.016352Z"
    },
    "papermill": {
     "duration": 0.856533,
     "end_time": "2021-08-18T12:00:08.017025",
     "exception": false,
     "start_time": "2021-08-18T12:00:07.160492",
     "status": "completed"
    },
    "tags": []
   },
   "outputs": [],
   "source": [
    "import pandas as pd\n",
    "import sqlite3"
   ]
  },
  {
   "cell_type": "code",
   "execution_count": 2,
   "id": "innovative-syndrome",
   "metadata": {
    "execution": {
     "iopub.execute_input": "2021-08-18T12:00:08.066697Z",
     "iopub.status.busy": "2021-08-18T12:00:08.064577Z",
     "iopub.status.idle": "2021-08-18T12:00:08.139041Z",
     "shell.execute_reply": "2021-08-18T12:00:08.140420Z"
    },
    "papermill": {
     "duration": 0.10401,
     "end_time": "2021-08-18T12:00:08.140851",
     "exception": false,
     "start_time": "2021-08-18T12:00:08.036841",
     "status": "completed"
    },
    "tags": []
   },
   "outputs": [],
   "source": [
    "timestamps = pd.read_sql(\"select distinct record_time from EBAY_TOP_BERLIN order by record_time desc limit 2\", sqlite3.connect(\"UsedObjects.db\"))"
   ]
  },
  {
   "cell_type": "code",
   "execution_count": 3,
   "id": "periodic-identification",
   "metadata": {
    "execution": {
     "iopub.execute_input": "2021-08-18T12:00:08.208111Z",
     "iopub.status.busy": "2021-08-18T12:00:08.206004Z",
     "iopub.status.idle": "2021-08-18T12:00:08.226031Z",
     "shell.execute_reply": "2021-08-18T12:00:08.227491Z"
    },
    "papermill": {
     "duration": 0.067274,
     "end_time": "2021-08-18T12:00:08.227930",
     "exception": false,
     "start_time": "2021-08-18T12:00:08.160656",
     "status": "completed"
    },
    "tags": []
   },
   "outputs": [
    {
     "data": {
      "text/html": [
       "<div>\n",
       "<style scoped>\n",
       "    .dataframe tbody tr th:only-of-type {\n",
       "        vertical-align: middle;\n",
       "    }\n",
       "\n",
       "    .dataframe tbody tr th {\n",
       "        vertical-align: top;\n",
       "    }\n",
       "\n",
       "    .dataframe thead th {\n",
       "        text-align: right;\n",
       "    }\n",
       "</style>\n",
       "<table border=\"1\" class=\"dataframe\">\n",
       "  <thead>\n",
       "    <tr style=\"text-align: right;\">\n",
       "      <th></th>\n",
       "      <th>RECORD_TIME</th>\n",
       "    </tr>\n",
       "  </thead>\n",
       "  <tbody>\n",
       "    <tr>\n",
       "      <th>0</th>\n",
       "      <td>2021-08-18 14:00</td>\n",
       "    </tr>\n",
       "    <tr>\n",
       "      <th>1</th>\n",
       "      <td>2021-08-18 13:30</td>\n",
       "    </tr>\n",
       "  </tbody>\n",
       "</table>\n",
       "</div>"
      ],
      "text/plain": [
       "        RECORD_TIME\n",
       "0  2021-08-18 14:00\n",
       "1  2021-08-18 13:30"
      ]
     },
     "execution_count": 3,
     "metadata": {},
     "output_type": "execute_result"
    }
   ],
   "source": [
    "timestamps"
   ]
  },
  {
   "cell_type": "code",
   "execution_count": 4,
   "id": "alternate-victory",
   "metadata": {
    "execution": {
     "iopub.execute_input": "2021-08-18T12:00:08.279735Z",
     "iopub.status.busy": "2021-08-18T12:00:08.277533Z",
     "iopub.status.idle": "2021-08-18T12:00:08.390739Z",
     "shell.execute_reply": "2021-08-18T12:00:08.392022Z"
    },
    "papermill": {
     "duration": 0.143184,
     "end_time": "2021-08-18T12:00:08.392410",
     "exception": false,
     "start_time": "2021-08-18T12:00:08.249226",
     "status": "completed"
    },
    "tags": []
   },
   "outputs": [],
   "source": [
    "df = pd.read_sql(\"select * from EBAY_TOP_BERLIN where record_time in (select distinct record_time from EBAY_TOP_BERLIN order by record_time desc limit 2)\", sqlite3.connect(\"UsedObjects.db\"))"
   ]
  },
  {
   "cell_type": "code",
   "execution_count": 5,
   "id": "popular-active",
   "metadata": {
    "execution": {
     "iopub.execute_input": "2021-08-18T12:00:08.461458Z",
     "iopub.status.busy": "2021-08-18T12:00:08.449619Z",
     "iopub.status.idle": "2021-08-18T12:00:08.478725Z",
     "shell.execute_reply": "2021-08-18T12:00:08.480140Z"
    },
    "papermill": {
     "duration": 0.067749,
     "end_time": "2021-08-18T12:00:08.480571",
     "exception": false,
     "start_time": "2021-08-18T12:00:08.412822",
     "status": "completed"
    },
    "tags": []
   },
   "outputs": [],
   "source": [
    "df_pivot = df.pivot_table(index=\"PRODUCT\", columns = \"RECORD_TIME\", values = \"LISTING_COUNT\")"
   ]
  },
  {
   "cell_type": "code",
   "execution_count": 6,
   "id": "union-huntington",
   "metadata": {
    "execution": {
     "iopub.execute_input": "2021-08-18T12:00:08.538364Z",
     "iopub.status.busy": "2021-08-18T12:00:08.535875Z",
     "iopub.status.idle": "2021-08-18T12:00:08.541772Z",
     "shell.execute_reply": "2021-08-18T12:00:08.543134Z"
    },
    "papermill": {
     "duration": 0.042608,
     "end_time": "2021-08-18T12:00:08.543548",
     "exception": false,
     "start_time": "2021-08-18T12:00:08.500940",
     "status": "completed"
    },
    "tags": []
   },
   "outputs": [],
   "source": [
    "df_pivot.columns = [\"stamp_1\", \"stamp_2\"]\n",
    "df_pivot_diff = df_pivot.diff(axis=1)"
   ]
  },
  {
   "cell_type": "code",
   "execution_count": 7,
   "id": "fifth-motion",
   "metadata": {
    "execution": {
     "iopub.execute_input": "2021-08-18T12:00:08.599268Z",
     "iopub.status.busy": "2021-08-18T12:00:08.596816Z",
     "iopub.status.idle": "2021-08-18T12:00:10.078502Z",
     "shell.execute_reply": "2021-08-18T12:00:10.079908Z"
    },
    "papermill": {
     "duration": 1.515153,
     "end_time": "2021-08-18T12:00:10.080347",
     "exception": false,
     "start_time": "2021-08-18T12:00:08.565194",
     "status": "completed"
    },
    "tags": []
   },
   "outputs": [
    {
     "data": {
      "text/plain": [
       "<AxesSubplot:ylabel='PRODUCT'>"
      ]
     },
     "execution_count": 7,
     "metadata": {},
     "output_type": "execute_result"
    },
    {
     "data": {
      "image/png": "[encoded data removed]",
      "text/plain": [
       "<Figure size 432x288 with 1 Axes>"
      ]
     },
     "metadata": {
      "needs_background": "light"
     },
     "output_type": "display_data"
    }
   ],
   "source": [
    "df_pivot_diff.sort_values(\"stamp_2\", ascending = False)[\"stamp_2\"].head(10).plot.barh()"
   ]
  },
  {
   "cell_type": "code",
   "execution_count": null,
   "id": "extra-executive",
   "metadata": {
    "papermill": {
     "duration": 0.022353,
     "end_time": "2021-08-18T12:00:10.127343",
     "exception": false,
     "start_time": "2021-08-18T12:00:10.104990",
     "status": "completed"
    },
    "tags": []
   },
   "outputs": [],
   "source": []
  }
 ],
 "metadata": {
  "kernelspec": {
   "display_name": "Python 3",
   "language": "python",
   "name": "python3"
  },
  "language_info": {
   "codemirror_mode": {
    "name": "ipython",
    "version": 3
   },
   "file_extension": ".py",
   "mimetype": "text/x-python",
   "name": "python",
   "nbconvert_exporter": "python",
   "pygments_lexer": "ipython3",
   "version": "3.9.5"
  },
  "papermill": {
   "default_parameters": {},
   "duration": 6.829311,
   "end_time": "2021-08-18T12:00:11.584649",
   "environment_variables": {},
   "exception": null,
   "input_path": "eBay_Overview.ipynb",
   "output_path": "eBay_Overview.ipynb",
   "parameters": {},
   "start_time": "2021-08-18T12:00:04.755338",
   "version": "2.3.3"
  }
 },
 "nbformat": 4,
 "nbformat_minor": 5
}