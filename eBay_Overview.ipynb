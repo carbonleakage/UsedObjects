{
 "cells": [
  {
   "cell_type": "code",
   "execution_count": 1,
   "id": "reverse-picking",
   "metadata": {
    "execution": {
     "iopub.execute_input": "2021-10-26T18:00:07.249580Z",
     "iopub.status.busy": "2021-10-26T18:00:07.247590Z",
     "iopub.status.idle": "2021-10-26T18:00:08.055204Z",
     "shell.execute_reply": "2021-10-26T18:00:08.056457Z"
    },
    "papermill": {
     "duration": 0.859634,
     "end_time": "2021-10-26T18:00:08.057149",
     "exception": false,
     "start_time": "2021-10-26T18:00:07.197515",
     "status": "completed"
    },
    "tags": []
   },
   "outputs": [],
   "source": [
    "import pandas as pd\n",
    "import sqlite3"
   ]
  },
  {
   "cell_type": "code",
   "execution_count": 2,
   "id": "innovative-syndrome",
   "metadata": {
    "execution": {
     "iopub.execute_input": "2021-10-26T18:00:08.108292Z",
     "iopub.status.busy": "2021-10-26T18:00:08.106443Z",
     "iopub.status.idle": "2021-10-26T18:00:08.750651Z",
     "shell.execute_reply": "2021-10-26T18:00:08.751840Z"
    },
    "papermill": {
     "duration": 0.673958,
     "end_time": "2021-10-26T18:00:08.752234",
     "exception": false,
     "start_time": "2021-10-26T18:00:08.078276",
     "status": "completed"
    },
    "tags": []
   },
   "outputs": [],
   "source": [
    "timestamps = pd.read_sql(\"select distinct record_time from EBAY_TOP_BERLIN order by record_time desc limit 2\", sqlite3.connect(\"UsedObjects.db\"))"
   ]
  },
  {
   "cell_type": "code",
   "execution_count": 3,
   "id": "periodic-identification",
   "metadata": {
    "execution": {
     "iopub.execute_input": "2021-10-26T18:00:08.828184Z",
     "iopub.status.busy": "2021-10-26T18:00:08.826178Z",
     "iopub.status.idle": "2021-10-26T18:00:08.846106Z",
     "shell.execute_reply": "2021-10-26T18:00:08.847402Z"
    },
    "papermill": {
     "duration": 0.068837,
     "end_time": "2021-10-26T18:00:08.847814",
     "exception": false,
     "start_time": "2021-10-26T18:00:08.778977",
     "status": "completed"
    },
    "tags": []
   },
   "outputs": [
    {
     "data": {
      "text/html": [
       "<div>\n",
       "<style scoped>\n",
       "    .dataframe tbody tr th:only-of-type {\n",
       "        vertical-align: middle;\n",
       "    }\n",
       "\n",
       "    .dataframe tbody tr th {\n",
       "        vertical-align: top;\n",
       "    }\n",
       "\n",
       "    .dataframe thead th {\n",
       "        text-align: right;\n",
       "    }\n",
       "</style>\n",
       "<table border=\"1\" class=\"dataframe\">\n",
       "  <thead>\n",
       "    <tr style=\"text-align: right;\">\n",
       "      <th></th>\n",
       "      <th>RECORD_TIME</th>\n",
       "    </tr>\n",
       "  </thead>\n",
       "  <tbody>\n",
       "    <tr>\n",
       "      <th>0</th>\n",
       "      <td>2021-10-26 20:00</td>\n",
       "    </tr>\n",
       "    <tr>\n",
       "      <th>1</th>\n",
       "      <td>2021-10-26 19:30</td>\n",
       "    </tr>\n",
       "  </tbody>\n",
       "</table>\n",
       "</div>"
      ],
      "text/plain": [
       "        RECORD_TIME\n",
       "0  2021-10-26 20:00\n",
       "1  2021-10-26 19:30"
      ]
     },
     "execution_count": 3,
     "metadata": {},
     "output_type": "execute_result"
    }
   ],
   "source": [
    "timestamps"
   ]
  },
  {
   "cell_type": "code",
   "execution_count": 4,
   "id": "alternate-victory",
   "metadata": {
    "execution": {
     "iopub.execute_input": "2021-10-26T18:00:08.900018Z",
     "iopub.status.busy": "2021-10-26T18:00:08.898198Z",
     "iopub.status.idle": "2021-10-26T18:00:09.813986Z",
     "shell.execute_reply": "2021-10-26T18:00:09.815290Z"
    },
    "papermill": {
     "duration": 0.946173,
     "end_time": "2021-10-26T18:00:09.815711",
     "exception": false,
     "start_time": "2021-10-26T18:00:08.869538",
     "status": "completed"
    },
    "tags": []
   },
   "outputs": [],
   "source": [
    "df = pd.read_sql(\"select * from EBAY_TOP_BERLIN where record_time in (select distinct record_time from EBAY_TOP_BERLIN order by record_time desc limit 2)\", sqlite3.connect(\"UsedObjects.db\"))"
   ]
  },
  {
   "cell_type": "code",
   "execution_count": 5,
   "id": "popular-active",
   "metadata": {
    "execution": {
     "iopub.execute_input": "2021-10-26T18:00:09.881703Z",
     "iopub.status.busy": "2021-10-26T18:00:09.874359Z",
     "iopub.status.idle": "2021-10-26T18:00:09.902148Z",
     "shell.execute_reply": "2021-10-26T18:00:09.903356Z"
    },
    "papermill": {
     "duration": 0.067488,
     "end_time": "2021-10-26T18:00:09.903750",
     "exception": false,
     "start_time": "2021-10-26T18:00:09.836262",
     "status": "completed"
    },
    "tags": []
   },
   "outputs": [],
   "source": [
    "df_pivot = df.pivot_table(index=\"PRODUCT\", columns = \"RECORD_TIME\", values = \"LISTING_COUNT\")"
   ]
  },
  {
   "cell_type": "code",
   "execution_count": 6,
   "id": "union-huntington",
   "metadata": {
    "execution": {
     "iopub.execute_input": "2021-10-26T18:00:09.964972Z",
     "iopub.status.busy": "2021-10-26T18:00:09.962519Z",
     "iopub.status.idle": "2021-10-26T18:00:09.968308Z",
     "shell.execute_reply": "2021-10-26T18:00:09.969581Z"
    },
    "papermill": {
     "duration": 0.042756,
     "end_time": "2021-10-26T18:00:09.970018",
     "exception": false,
     "start_time": "2021-10-26T18:00:09.927262",
     "status": "completed"
    },
    "tags": []
   },
   "outputs": [],
   "source": [
    "df_pivot.columns = [\"stamp_1\", \"stamp_2\"]\n",
    "df_pivot_diff = df_pivot.diff(axis=1)"
   ]
  },
  {
   "cell_type": "code",
   "execution_count": 7,
   "id": "fifth-motion",
   "metadata": {
    "execution": {
     "iopub.execute_input": "2021-10-26T18:00:10.025425Z",
     "iopub.status.busy": "2021-10-26T18:00:10.023127Z",
     "iopub.status.idle": "2021-10-26T18:00:11.547239Z",
     "shell.execute_reply": "2021-10-26T18:00:11.548528Z"
    },
    "papermill": {
     "duration": 1.556985,
     "end_time": "2021-10-26T18:00:11.548996",
     "exception": false,
     "start_time": "2021-10-26T18:00:09.992011",
     "status": "completed"
    },
    "tags": []
   },
   "outputs": [
    {
     "data": {
      "text/plain": [
       "<AxesSubplot:ylabel='PRODUCT'>"
      ]
     },
     "execution_count": 7,
     "metadata": {},
     "output_type": "execute_result"
    },
    {
     "data": {
      "image/png": "[encoded data removed]",
      "text/plain": [
       "<Figure size 432x288 with 1 Axes>"
      ]
     },
     "metadata": {
      "needs_background": "light"
     },
     "output_type": "display_data"
    }
   ],
   "source": [
    "df_pivot_diff.sort_values(\"stamp_2\", ascending = False)[\"stamp_2\"].head(10).plot.barh()"
   ]
  },
  {
   "cell_type": "code",
   "execution_count": null,
   "id": "extra-executive",
   "metadata": {
    "papermill": {
     "duration": 0.022651,
     "end_time": "2021-10-26T18:00:11.596843",
     "exception": false,
     "start_time": "2021-10-26T18:00:11.574192",
     "status": "completed"
    },
    "tags": []
   },
   "outputs": [],
   "source": []
  }
 ],
 "metadata": {
  "kernelspec": {
   "display_name": "Python 3",
   "language": "python",
   "name": "python3"
  },
  "language_info": {
   "codemirror_mode": {
    "name": "ipython",
    "version": 3
   },
   "file_extension": ".py",
   "mimetype": "text/x-python",
   "name": "python",
   "nbconvert_exporter": "python",
   "pygments_lexer": "ipython3",
   "version": "3.9.5"
  },
  "papermill": {
   "default_parameters": {},
   "duration": 7.447812,
   "end_time": "2021-10-26T18:00:12.241453",
   "environment_variables": {},
   "exception": null,
   "input_path": "eBay_Overview.ipynb",
   "output_path": "eBay_Overview.ipynb",
   "parameters": {},
   "start_time": "2021-10-26T18:00:04.793641",
   "version": "2.3.3"
  }
 },
 "nbformat": 4,
 "nbformat_minor": 5
}