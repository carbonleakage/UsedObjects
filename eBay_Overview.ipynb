{
 "cells": [
  {
   "cell_type": "code",
   "execution_count": 1,
   "id": "reverse-picking",
   "metadata": {
    "execution": {
     "iopub.execute_input": "2021-12-07T20:00:07.251864Z",
     "iopub.status.busy": "2021-12-07T20:00:07.248403Z",
     "iopub.status.idle": "2021-12-07T20:00:08.200295Z",
     "shell.execute_reply": "2021-12-07T20:00:08.198159Z"
    },
    "papermill": {
     "duration": 0.998561,
     "end_time": "2021-12-07T20:00:08.200828",
     "exception": false,
     "start_time": "2021-12-07T20:00:07.202267",
     "status": "completed"
    },
    "tags": []
   },
   "outputs": [],
   "source": [
    "import pandas as pd\n",
    "import sqlite3"
   ]
  },
  {
   "cell_type": "code",
   "execution_count": 2,
   "id": "innovative-syndrome",
   "metadata": {
    "execution": {
     "iopub.execute_input": "2021-12-07T20:00:08.261934Z",
     "iopub.status.busy": "2021-12-07T20:00:08.259386Z",
     "iopub.status.idle": "2021-12-07T20:00:09.364932Z",
     "shell.execute_reply": "2021-12-07T20:00:09.366395Z"
    },
    "papermill": {
     "duration": 1.139777,
     "end_time": "2021-12-07T20:00:09.366862",
     "exception": false,
     "start_time": "2021-12-07T20:00:08.227085",
     "status": "completed"
    },
    "tags": []
   },
   "outputs": [],
   "source": [
    "timestamps = pd.read_sql(\"select distinct record_time from EBAY_TOP_BERLIN order by record_time desc limit 2\", sqlite3.connect(\"UsedObjects.db\"))"
   ]
  },
  {
   "cell_type": "code",
   "execution_count": 3,
   "id": "periodic-identification",
   "metadata": {
    "execution": {
     "iopub.execute_input": "2021-12-07T20:00:09.437952Z",
     "iopub.status.busy": "2021-12-07T20:00:09.432087Z",
     "iopub.status.idle": "2021-12-07T20:00:09.454474Z",
     "shell.execute_reply": "2021-12-07T20:00:09.456260Z"
    },
    "papermill": {
     "duration": 0.070241,
     "end_time": "2021-12-07T20:00:09.456825",
     "exception": false,
     "start_time": "2021-12-07T20:00:09.386584",
     "status": "completed"
    },
    "tags": []
   },
   "outputs": [
    {
     "data": {
      "text/html": [
       "<div>\n",
       "<style scoped>\n",
       "    .dataframe tbody tr th:only-of-type {\n",
       "        vertical-align: middle;\n",
       "    }\n",
       "\n",
       "    .dataframe tbody tr th {\n",
       "        vertical-align: top;\n",
       "    }\n",
       "\n",
       "    .dataframe thead th {\n",
       "        text-align: right;\n",
       "    }\n",
       "</style>\n",
       "<table border=\"1\" class=\"dataframe\">\n",
       "  <thead>\n",
       "    <tr style=\"text-align: right;\">\n",
       "      <th></th>\n",
       "      <th>RECORD_TIME</th>\n",
       "    </tr>\n",
       "  </thead>\n",
       "  <tbody>\n",
       "    <tr>\n",
       "      <th>0</th>\n",
       "      <td>2021-12-07 21:00</td>\n",
       "    </tr>\n",
       "    <tr>\n",
       "      <th>1</th>\n",
       "      <td>2021-12-07 20:30</td>\n",
       "    </tr>\n",
       "  </tbody>\n",
       "</table>\n",
       "</div>"
      ],
      "text/plain": [
       "        RECORD_TIME\n",
       "0  2021-12-07 21:00\n",
       "1  2021-12-07 20:30"
      ]
     },
     "execution_count": 3,
     "metadata": {},
     "output_type": "execute_result"
    }
   ],
   "source": [
    "timestamps"
   ]
  },
  {
   "cell_type": "code",
   "execution_count": 4,
   "id": "alternate-victory",
   "metadata": {
    "execution": {
     "iopub.execute_input": "2021-12-07T20:00:09.522900Z",
     "iopub.status.busy": "2021-12-07T20:00:09.519025Z",
     "iopub.status.idle": "2021-12-07T20:00:10.979632Z",
     "shell.execute_reply": "2021-12-07T20:00:10.981127Z"
    },
    "papermill": {
     "duration": 1.503349,
     "end_time": "2021-12-07T20:00:10.981582",
     "exception": false,
     "start_time": "2021-12-07T20:00:09.478233",
     "status": "completed"
    },
    "tags": []
   },
   "outputs": [],
   "source": [
    "df = pd.read_sql(\"select * from EBAY_TOP_BERLIN where record_time in (select distinct record_time from EBAY_TOP_BERLIN order by record_time desc limit 2)\", sqlite3.connect(\"UsedObjects.db\"))"
   ]
  },
  {
   "cell_type": "code",
   "execution_count": 5,
   "id": "popular-active",
   "metadata": {
    "execution": {
     "iopub.execute_input": "2021-12-07T20:00:11.107720Z",
     "iopub.status.busy": "2021-12-07T20:00:11.095198Z",
     "iopub.status.idle": "2021-12-07T20:00:11.151470Z",
     "shell.execute_reply": "2021-12-07T20:00:11.154322Z"
    },
    "papermill": {
     "duration": 0.151195,
     "end_time": "2021-12-07T20:00:11.155134",
     "exception": false,
     "start_time": "2021-12-07T20:00:11.003939",
     "status": "completed"
    },
    "tags": []
   },
   "outputs": [],
   "source": [
    "df_pivot = df.pivot_table(index=\"PRODUCT\", columns = \"RECORD_TIME\", values = \"LISTING_COUNT\")"
   ]
  },
  {
   "cell_type": "code",
   "execution_count": 6,
   "id": "union-huntington",
   "metadata": {
    "execution": {
     "iopub.execute_input": "2021-12-07T20:00:11.249256Z",
     "iopub.status.busy": "2021-12-07T20:00:11.245474Z",
     "iopub.status.idle": "2021-12-07T20:00:11.255189Z",
     "shell.execute_reply": "2021-12-07T20:00:11.258215Z"
    },
    "papermill": {
     "duration": 0.072594,
     "end_time": "2021-12-07T20:00:11.259188",
     "exception": false,
     "start_time": "2021-12-07T20:00:11.186594",
     "status": "completed"
    },
    "tags": []
   },
   "outputs": [],
   "source": [
    "df_pivot.columns = [\"stamp_1\", \"stamp_2\"]\n",
    "df_pivot_diff = df_pivot.diff(axis=1)"
   ]
  },
  {
   "cell_type": "code",
   "execution_count": 7,
   "id": "fifth-motion",
   "metadata": {
    "execution": {
     "iopub.execute_input": "2021-12-07T20:00:11.340190Z",
     "iopub.status.busy": "2021-12-07T20:00:11.337248Z",
     "iopub.status.idle": "2021-12-07T20:00:13.072301Z",
     "shell.execute_reply": "2021-12-07T20:00:13.073794Z"
    },
    "papermill": {
     "duration": 1.782933,
     "end_time": "2021-12-07T20:00:13.074261",
     "exception": false,
     "start_time": "2021-12-07T20:00:11.291328",
     "status": "completed"
    },
    "tags": []
   },
   "outputs": [
    {
     "data": {
      "text/plain": [
       "<AxesSubplot:ylabel='PRODUCT'>"
      ]
     },
     "execution_count": 7,
     "metadata": {},
     "output_type": "execute_result"
    },
    {
     "data": {
      "image/png": "[encoded data removed]",
      "text/plain": [
       "<Figure size 432x288 with 1 Axes>"
      ]
     },
     "metadata": {
      "needs_background": "light"
     },
     "output_type": "display_data"
    }
   ],
   "source": [
    "df_pivot_diff.sort_values(\"stamp_2\", ascending = False)[\"stamp_2\"].head(10).plot.barh()"
   ]
  },
  {
   "cell_type": "code",
   "execution_count": null,
   "id": "extra-executive",
   "metadata": {
    "papermill": {
     "duration": 0.02185,
     "end_time": "2021-12-07T20:00:13.120589",
     "exception": false,
     "start_time": "2021-12-07T20:00:13.098739",
     "status": "completed"
    },
    "tags": []
   },
   "outputs": [],
   "source": []
  }
 ],
 "metadata": {
  "kernelspec": {
   "display_name": "Python 3",
   "language": "python",
   "name": "python3"
  },
  "language_info": {
   "codemirror_mode": {
    "name": "ipython",
    "version": 3
   },
   "file_extension": ".py",
   "mimetype": "text/x-python",
   "name": "python",
   "nbconvert_exporter": "python",
   "pygments_lexer": "ipython3",
   "version": "3.9.5"
  },
  "papermill": {
   "default_parameters": {},
   "duration": 9.936949,
   "end_time": "2021-12-07T20:00:14.421887",
   "environment_variables": {},
   "exception": null,
   "input_path": "eBay_Overview.ipynb",
   "output_path": "eBay_Overview.ipynb",
   "parameters": {},
   "start_time": "2021-12-07T20:00:04.484938",
   "version": "2.3.3"
  }
 },
 "nbformat": 4,
 "nbformat_minor": 5
}