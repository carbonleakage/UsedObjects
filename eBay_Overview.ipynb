{
 "cells": [
  {
   "cell_type": "code",
   "execution_count": 1,
   "id": "reverse-picking",
   "metadata": {
    "execution": {
     "iopub.execute_input": "2021-09-30T14:30:07.593378Z",
     "iopub.status.busy": "2021-09-30T14:30:07.591452Z",
     "iopub.status.idle": "2021-09-30T14:30:08.654036Z",
     "shell.execute_reply": "2021-09-30T14:30:08.655486Z"
    },
    "papermill": {
     "duration": 1.115817,
     "end_time": "2021-09-30T14:30:08.656140",
     "exception": false,
     "start_time": "2021-09-30T14:30:07.540323",
     "status": "completed"
    },
    "tags": []
   },
   "outputs": [],
   "source": [
    "import pandas as pd\n",
    "import sqlite3"
   ]
  },
  {
   "cell_type": "code",
   "execution_count": 2,
   "id": "innovative-syndrome",
   "metadata": {
    "execution": {
     "iopub.execute_input": "2021-09-30T14:30:08.717713Z",
     "iopub.status.busy": "2021-09-30T14:30:08.715817Z",
     "iopub.status.idle": "2021-09-30T14:30:09.130256Z",
     "shell.execute_reply": "2021-09-30T14:30:09.131597Z"
    },
    "papermill": {
     "duration": 0.447497,
     "end_time": "2021-09-30T14:30:09.132016",
     "exception": false,
     "start_time": "2021-09-30T14:30:08.684519",
     "status": "completed"
    },
    "tags": []
   },
   "outputs": [],
   "source": [
    "timestamps = pd.read_sql(\"select distinct record_time from EBAY_TOP_BERLIN order by record_time desc limit 2\", sqlite3.connect(\"UsedObjects.db\"))"
   ]
  },
  {
   "cell_type": "code",
   "execution_count": 3,
   "id": "periodic-identification",
   "metadata": {
    "execution": {
     "iopub.execute_input": "2021-09-30T14:30:09.198007Z",
     "iopub.status.busy": "2021-09-30T14:30:09.195801Z",
     "iopub.status.idle": "2021-09-30T14:30:09.215774Z",
     "shell.execute_reply": "2021-09-30T14:30:09.216993Z"
    },
    "papermill": {
     "duration": 0.064794,
     "end_time": "2021-09-30T14:30:09.217383",
     "exception": false,
     "start_time": "2021-09-30T14:30:09.152589",
     "status": "completed"
    },
    "tags": []
   },
   "outputs": [
    {
     "data": {
      "text/html": [
       "<div>\n",
       "<style scoped>\n",
       "    .dataframe tbody tr th:only-of-type {\n",
       "        vertical-align: middle;\n",
       "    }\n",
       "\n",
       "    .dataframe tbody tr th {\n",
       "        vertical-align: top;\n",
       "    }\n",
       "\n",
       "    .dataframe thead th {\n",
       "        text-align: right;\n",
       "    }\n",
       "</style>\n",
       "<table border=\"1\" class=\"dataframe\">\n",
       "  <thead>\n",
       "    <tr style=\"text-align: right;\">\n",
       "      <th></th>\n",
       "      <th>RECORD_TIME</th>\n",
       "    </tr>\n",
       "  </thead>\n",
       "  <tbody>\n",
       "    <tr>\n",
       "      <th>0</th>\n",
       "      <td>2021-09-30 16:30</td>\n",
       "    </tr>\n",
       "    <tr>\n",
       "      <th>1</th>\n",
       "      <td>2021-09-30 16:00</td>\n",
       "    </tr>\n",
       "  </tbody>\n",
       "</table>\n",
       "</div>"
      ],
      "text/plain": [
       "        RECORD_TIME\n",
       "0  2021-09-30 16:30\n",
       "1  2021-09-30 16:00"
      ]
     },
     "execution_count": 3,
     "metadata": {},
     "output_type": "execute_result"
    }
   ],
   "source": [
    "timestamps"
   ]
  },
  {
   "cell_type": "code",
   "execution_count": 4,
   "id": "alternate-victory",
   "metadata": {
    "execution": {
     "iopub.execute_input": "2021-09-30T14:30:09.269695Z",
     "iopub.status.busy": "2021-09-30T14:30:09.267410Z",
     "iopub.status.idle": "2021-09-30T14:30:09.881172Z",
     "shell.execute_reply": "2021-09-30T14:30:09.882452Z"
    },
    "papermill": {
     "duration": 0.643845,
     "end_time": "2021-09-30T14:30:09.882927",
     "exception": false,
     "start_time": "2021-09-30T14:30:09.239082",
     "status": "completed"
    },
    "tags": []
   },
   "outputs": [],
   "source": [
    "df = pd.read_sql(\"select * from EBAY_TOP_BERLIN where record_time in (select distinct record_time from EBAY_TOP_BERLIN order by record_time desc limit 2)\", sqlite3.connect(\"UsedObjects.db\"))"
   ]
  },
  {
   "cell_type": "code",
   "execution_count": 5,
   "id": "popular-active",
   "metadata": {
    "execution": {
     "iopub.execute_input": "2021-09-30T14:30:09.948261Z",
     "iopub.status.busy": "2021-09-30T14:30:09.942084Z",
     "iopub.status.idle": "2021-09-30T14:30:09.969236Z",
     "shell.execute_reply": "2021-09-30T14:30:09.970454Z"
    },
    "papermill": {
     "duration": 0.067846,
     "end_time": "2021-09-30T14:30:09.971039",
     "exception": false,
     "start_time": "2021-09-30T14:30:09.903193",
     "status": "completed"
    },
    "tags": []
   },
   "outputs": [],
   "source": [
    "df_pivot = df.pivot_table(index=\"PRODUCT\", columns = \"RECORD_TIME\", values = \"LISTING_COUNT\")"
   ]
  },
  {
   "cell_type": "code",
   "execution_count": 6,
   "id": "union-huntington",
   "metadata": {
    "execution": {
     "iopub.execute_input": "2021-09-30T14:30:10.030472Z",
     "iopub.status.busy": "2021-09-30T14:30:10.028050Z",
     "iopub.status.idle": "2021-09-30T14:30:10.033768Z",
     "shell.execute_reply": "2021-09-30T14:30:10.035182Z"
    },
    "papermill": {
     "duration": 0.042235,
     "end_time": "2021-09-30T14:30:10.035618",
     "exception": false,
     "start_time": "2021-09-30T14:30:09.993383",
     "status": "completed"
    },
    "tags": []
   },
   "outputs": [],
   "source": [
    "df_pivot.columns = [\"stamp_1\", \"stamp_2\"]\n",
    "df_pivot_diff = df_pivot.diff(axis=1)"
   ]
  },
  {
   "cell_type": "code",
   "execution_count": 7,
   "id": "fifth-motion",
   "metadata": {
    "execution": {
     "iopub.execute_input": "2021-09-30T14:30:10.090470Z",
     "iopub.status.busy": "2021-09-30T14:30:10.088061Z",
     "iopub.status.idle": "2021-09-30T14:30:11.660291Z",
     "shell.execute_reply": "2021-09-30T14:30:11.661493Z"
    },
    "papermill": {
     "duration": 1.604806,
     "end_time": "2021-09-30T14:30:11.661915",
     "exception": false,
     "start_time": "2021-09-30T14:30:10.057109",
     "status": "completed"
    },
    "tags": []
   },
   "outputs": [
    {
     "data": {
      "text/plain": [
       "<AxesSubplot:ylabel='PRODUCT'>"
      ]
     },
     "execution_count": 7,
     "metadata": {},
     "output_type": "execute_result"
    },
    {
     "data": {
      "image/png": "[encoded data removed]",
      "text/plain": [
       "<Figure size 432x288 with 1 Axes>"
      ]
     },
     "metadata": {
      "needs_background": "light"
     },
     "output_type": "display_data"
    }
   ],
   "source": [
    "df_pivot_diff.sort_values(\"stamp_2\", ascending = False)[\"stamp_2\"].head(10).plot.barh()"
   ]
  },
  {
   "cell_type": "code",
   "execution_count": null,
   "id": "extra-executive",
   "metadata": {
    "papermill": {
     "duration": 0.022264,
     "end_time": "2021-09-30T14:30:11.707840",
     "exception": false,
     "start_time": "2021-09-30T14:30:11.685576",
     "status": "completed"
    },
    "tags": []
   },
   "outputs": [],
   "source": []
  }
 ],
 "metadata": {
  "kernelspec": {
   "display_name": "Python 3",
   "language": "python",
   "name": "python3"
  },
  "language_info": {
   "codemirror_mode": {
    "name": "ipython",
    "version": 3
   },
   "file_extension": ".py",
   "mimetype": "text/x-python",
   "name": "python",
   "nbconvert_exporter": "python",
   "pygments_lexer": "ipython3",
   "version": "3.9.5"
  },
  "papermill": {
   "default_parameters": {},
   "duration": 8.263088,
   "end_time": "2021-09-30T14:30:12.939038",
   "environment_variables": {},
   "exception": null,
   "input_path": "eBay_Overview.ipynb",
   "output_path": "eBay_Overview.ipynb",
   "parameters": {},
   "start_time": "2021-09-30T14:30:04.675950",
   "version": "2.3.3"
  }
 },
 "nbformat": 4,
 "nbformat_minor": 5
}