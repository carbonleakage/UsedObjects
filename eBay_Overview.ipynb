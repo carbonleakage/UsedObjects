{
 "cells": [
  {
   "cell_type": "code",
   "execution_count": 1,
   "id": "reverse-picking",
   "metadata": {
    "execution": {
     "iopub.execute_input": "2021-10-25T08:30:07.096492Z",
     "iopub.status.busy": "2021-10-25T08:30:07.094518Z",
     "iopub.status.idle": "2021-10-25T08:30:07.905433Z",
     "shell.execute_reply": "2021-10-25T08:30:07.906720Z"
    },
    "papermill": {
     "duration": 0.862869,
     "end_time": "2021-10-25T08:30:07.907334",
     "exception": false,
     "start_time": "2021-10-25T08:30:07.044465",
     "status": "completed"
    },
    "tags": []
   },
   "outputs": [],
   "source": [
    "import pandas as pd\n",
    "import sqlite3"
   ]
  },
  {
   "cell_type": "code",
   "execution_count": 2,
   "id": "innovative-syndrome",
   "metadata": {
    "execution": {
     "iopub.execute_input": "2021-10-25T08:30:07.961332Z",
     "iopub.status.busy": "2021-10-25T08:30:07.958863Z",
     "iopub.status.idle": "2021-10-25T08:30:08.597309Z",
     "shell.execute_reply": "2021-10-25T08:30:08.598550Z"
    },
    "papermill": {
     "duration": 0.668581,
     "end_time": "2021-10-25T08:30:08.598943",
     "exception": false,
     "start_time": "2021-10-25T08:30:07.930362",
     "status": "completed"
    },
    "tags": []
   },
   "outputs": [],
   "source": [
    "timestamps = pd.read_sql(\"select distinct record_time from EBAY_TOP_BERLIN order by record_time desc limit 2\", sqlite3.connect(\"UsedObjects.db\"))"
   ]
  },
  {
   "cell_type": "code",
   "execution_count": 3,
   "id": "periodic-identification",
   "metadata": {
    "execution": {
     "iopub.execute_input": "2021-10-25T08:30:08.674470Z",
     "iopub.status.busy": "2021-10-25T08:30:08.672333Z",
     "iopub.status.idle": "2021-10-25T08:30:08.691968Z",
     "shell.execute_reply": "2021-10-25T08:30:08.693385Z"
    },
    "papermill": {
     "duration": 0.067712,
     "end_time": "2021-10-25T08:30:08.693824",
     "exception": false,
     "start_time": "2021-10-25T08:30:08.626112",
     "status": "completed"
    },
    "tags": []
   },
   "outputs": [
    {
     "data": {
      "text/html": [
       "<div>\n",
       "<style scoped>\n",
       "    .dataframe tbody tr th:only-of-type {\n",
       "        vertical-align: middle;\n",
       "    }\n",
       "\n",
       "    .dataframe tbody tr th {\n",
       "        vertical-align: top;\n",
       "    }\n",
       "\n",
       "    .dataframe thead th {\n",
       "        text-align: right;\n",
       "    }\n",
       "</style>\n",
       "<table border=\"1\" class=\"dataframe\">\n",
       "  <thead>\n",
       "    <tr style=\"text-align: right;\">\n",
       "      <th></th>\n",
       "      <th>RECORD_TIME</th>\n",
       "    </tr>\n",
       "  </thead>\n",
       "  <tbody>\n",
       "    <tr>\n",
       "      <th>0</th>\n",
       "      <td>2021-10-25 10:30</td>\n",
       "    </tr>\n",
       "    <tr>\n",
       "      <th>1</th>\n",
       "      <td>2021-10-25 10:00</td>\n",
       "    </tr>\n",
       "  </tbody>\n",
       "</table>\n",
       "</div>"
      ],
      "text/plain": [
       "        RECORD_TIME\n",
       "0  2021-10-25 10:30\n",
       "1  2021-10-25 10:00"
      ]
     },
     "execution_count": 3,
     "metadata": {},
     "output_type": "execute_result"
    }
   ],
   "source": [
    "timestamps"
   ]
  },
  {
   "cell_type": "code",
   "execution_count": 4,
   "id": "alternate-victory",
   "metadata": {
    "execution": {
     "iopub.execute_input": "2021-10-25T08:30:08.747883Z",
     "iopub.status.busy": "2021-10-25T08:30:08.745895Z",
     "iopub.status.idle": "2021-10-25T08:30:09.663024Z",
     "shell.execute_reply": "2021-10-25T08:30:09.664244Z"
    },
    "papermill": {
     "duration": 0.947552,
     "end_time": "2021-10-25T08:30:09.664638",
     "exception": false,
     "start_time": "2021-10-25T08:30:08.717086",
     "status": "completed"
    },
    "tags": []
   },
   "outputs": [],
   "source": [
    "df = pd.read_sql(\"select * from EBAY_TOP_BERLIN where record_time in (select distinct record_time from EBAY_TOP_BERLIN order by record_time desc limit 2)\", sqlite3.connect(\"UsedObjects.db\"))"
   ]
  },
  {
   "cell_type": "code",
   "execution_count": 5,
   "id": "popular-active",
   "metadata": {
    "execution": {
     "iopub.execute_input": "2021-10-25T08:30:09.735882Z",
     "iopub.status.busy": "2021-10-25T08:30:09.728978Z",
     "iopub.status.idle": "2021-10-25T08:30:09.751098Z",
     "shell.execute_reply": "2021-10-25T08:30:09.752339Z"
    },
    "papermill": {
     "duration": 0.067473,
     "end_time": "2021-10-25T08:30:09.752790",
     "exception": false,
     "start_time": "2021-10-25T08:30:09.685317",
     "status": "completed"
    },
    "tags": []
   },
   "outputs": [],
   "source": [
    "df_pivot = df.pivot_table(index=\"PRODUCT\", columns = \"RECORD_TIME\", values = \"LISTING_COUNT\")"
   ]
  },
  {
   "cell_type": "code",
   "execution_count": 6,
   "id": "union-huntington",
   "metadata": {
    "execution": {
     "iopub.execute_input": "2021-10-25T08:30:09.809438Z",
     "iopub.status.busy": "2021-10-25T08:30:09.807196Z",
     "iopub.status.idle": "2021-10-25T08:30:09.812889Z",
     "shell.execute_reply": "2021-10-25T08:30:09.814348Z"
    },
    "papermill": {
     "duration": 0.041255,
     "end_time": "2021-10-25T08:30:09.814917",
     "exception": false,
     "start_time": "2021-10-25T08:30:09.773662",
     "status": "completed"
    },
    "tags": []
   },
   "outputs": [],
   "source": [
    "df_pivot.columns = [\"stamp_1\", \"stamp_2\"]\n",
    "df_pivot_diff = df_pivot.diff(axis=1)"
   ]
  },
  {
   "cell_type": "code",
   "execution_count": 7,
   "id": "fifth-motion",
   "metadata": {
    "execution": {
     "iopub.execute_input": "2021-10-25T08:30:09.870896Z",
     "iopub.status.busy": "2021-10-25T08:30:09.868392Z",
     "iopub.status.idle": "2021-10-25T08:30:11.338161Z",
     "shell.execute_reply": "2021-10-25T08:30:11.339455Z"
    },
    "papermill": {
     "duration": 1.503249,
     "end_time": "2021-10-25T08:30:11.339872",
     "exception": false,
     "start_time": "2021-10-25T08:30:09.836623",
     "status": "completed"
    },
    "tags": []
   },
   "outputs": [
    {
     "data": {
      "text/plain": [
       "<AxesSubplot:ylabel='PRODUCT'>"
      ]
     },
     "execution_count": 7,
     "metadata": {},
     "output_type": "execute_result"
    },
    {
     "data": {
      "image/png": "[encoded data removed]",
      "text/plain": [
       "<Figure size 432x288 with 1 Axes>"
      ]
     },
     "metadata": {
      "needs_background": "light"
     },
     "output_type": "display_data"
    }
   ],
   "source": [
    "df_pivot_diff.sort_values(\"stamp_2\", ascending = False)[\"stamp_2\"].head(10).plot.barh()"
   ]
  },
  {
   "cell_type": "code",
   "execution_count": null,
   "id": "extra-executive",
   "metadata": {
    "papermill": {
     "duration": 0.02213,
     "end_time": "2021-10-25T08:30:11.387608",
     "exception": false,
     "start_time": "2021-10-25T08:30:11.365478",
     "status": "completed"
    },
    "tags": []
   },
   "outputs": [],
   "source": []
  }
 ],
 "metadata": {
  "kernelspec": {
   "display_name": "Python 3",
   "language": "python",
   "name": "python3"
  },
  "language_info": {
   "codemirror_mode": {
    "name": "ipython",
    "version": 3
   },
   "file_extension": ".py",
   "mimetype": "text/x-python",
   "name": "python",
   "nbconvert_exporter": "python",
   "pygments_lexer": "ipython3",
   "version": "3.9.5"
  },
  "papermill": {
   "default_parameters": {},
   "duration": 7.397782,
   "end_time": "2021-10-25T08:30:12.027671",
   "environment_variables": {},
   "exception": null,
   "input_path": "eBay_Overview.ipynb",
   "output_path": "eBay_Overview.ipynb",
   "parameters": {},
   "start_time": "2021-10-25T08:30:04.629889",
   "version": "2.3.3"
  }
 },
 "nbformat": 4,
 "nbformat_minor": 5
}