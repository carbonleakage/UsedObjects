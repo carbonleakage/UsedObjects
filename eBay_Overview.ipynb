{
 "cells": [
  {
   "cell_type": "code",
   "execution_count": 1,
   "id": "reverse-picking",
   "metadata": {
    "execution": {
     "iopub.execute_input": "2021-08-15T08:30:07.723446Z",
     "iopub.status.busy": "2021-08-15T08:30:07.721448Z",
     "iopub.status.idle": "2021-08-15T08:30:08.531454Z",
     "shell.execute_reply": "2021-08-15T08:30:08.532746Z"
    },
    "papermill": {
     "duration": 0.860402,
     "end_time": "2021-08-15T08:30:08.533392",
     "exception": false,
     "start_time": "2021-08-15T08:30:07.672990",
     "status": "completed"
    },
    "tags": []
   },
   "outputs": [],
   "source": [
    "import pandas as pd\n",
    "import sqlite3"
   ]
  },
  {
   "cell_type": "code",
   "execution_count": 2,
   "id": "innovative-syndrome",
   "metadata": {
    "execution": {
     "iopub.execute_input": "2021-08-15T08:30:08.583940Z",
     "iopub.status.busy": "2021-08-15T08:30:08.581518Z",
     "iopub.status.idle": "2021-08-15T08:30:08.637316Z",
     "shell.execute_reply": "2021-08-15T08:30:08.638717Z"
    },
    "papermill": {
     "duration": 0.085892,
     "end_time": "2021-08-15T08:30:08.639130",
     "exception": false,
     "start_time": "2021-08-15T08:30:08.553238",
     "status": "completed"
    },
    "tags": []
   },
   "outputs": [],
   "source": [
    "timestamps = pd.read_sql(\"select distinct record_time from EBAY_TOP_BERLIN order by record_time desc limit 2\", sqlite3.connect(\"UsedObjects.db\"))"
   ]
  },
  {
   "cell_type": "code",
   "execution_count": 3,
   "id": "periodic-identification",
   "metadata": {
    "execution": {
     "iopub.execute_input": "2021-08-15T08:30:08.705742Z",
     "iopub.status.busy": "2021-08-15T08:30:08.703733Z",
     "iopub.status.idle": "2021-08-15T08:30:08.723532Z",
     "shell.execute_reply": "2021-08-15T08:30:08.724829Z"
    },
    "papermill": {
     "duration": 0.065581,
     "end_time": "2021-08-15T08:30:08.725242",
     "exception": false,
     "start_time": "2021-08-15T08:30:08.659661",
     "status": "completed"
    },
    "tags": []
   },
   "outputs": [
    {
     "data": {
      "text/html": [
       "<div>\n",
       "<style scoped>\n",
       "    .dataframe tbody tr th:only-of-type {\n",
       "        vertical-align: middle;\n",
       "    }\n",
       "\n",
       "    .dataframe tbody tr th {\n",
       "        vertical-align: top;\n",
       "    }\n",
       "\n",
       "    .dataframe thead th {\n",
       "        text-align: right;\n",
       "    }\n",
       "</style>\n",
       "<table border=\"1\" class=\"dataframe\">\n",
       "  <thead>\n",
       "    <tr style=\"text-align: right;\">\n",
       "      <th></th>\n",
       "      <th>RECORD_TIME</th>\n",
       "    </tr>\n",
       "  </thead>\n",
       "  <tbody>\n",
       "    <tr>\n",
       "      <th>0</th>\n",
       "      <td>2021-08-15 10:30</td>\n",
       "    </tr>\n",
       "    <tr>\n",
       "      <th>1</th>\n",
       "      <td>2021-08-15 10:00</td>\n",
       "    </tr>\n",
       "  </tbody>\n",
       "</table>\n",
       "</div>"
      ],
      "text/plain": [
       "        RECORD_TIME\n",
       "0  2021-08-15 10:30\n",
       "1  2021-08-15 10:00"
      ]
     },
     "execution_count": 3,
     "metadata": {},
     "output_type": "execute_result"
    }
   ],
   "source": [
    "timestamps"
   ]
  },
  {
   "cell_type": "code",
   "execution_count": 4,
   "id": "alternate-victory",
   "metadata": {
    "execution": {
     "iopub.execute_input": "2021-08-15T08:30:08.775477Z",
     "iopub.status.busy": "2021-08-15T08:30:08.773509Z",
     "iopub.status.idle": "2021-08-15T08:30:08.850985Z",
     "shell.execute_reply": "2021-08-15T08:30:08.852175Z"
    },
    "papermill": {
     "duration": 0.107068,
     "end_time": "2021-08-15T08:30:08.852562",
     "exception": false,
     "start_time": "2021-08-15T08:30:08.745494",
     "status": "completed"
    },
    "tags": []
   },
   "outputs": [],
   "source": [
    "df = pd.read_sql(\"select * from EBAY_TOP_BERLIN where record_time in (select distinct record_time from EBAY_TOP_BERLIN order by record_time desc limit 2)\", sqlite3.connect(\"UsedObjects.db\"))"
   ]
  },
  {
   "cell_type": "code",
   "execution_count": 5,
   "id": "popular-active",
   "metadata": {
    "execution": {
     "iopub.execute_input": "2021-08-15T08:30:08.922529Z",
     "iopub.status.busy": "2021-08-15T08:30:08.911115Z",
     "iopub.status.idle": "2021-08-15T08:30:08.939628Z",
     "shell.execute_reply": "2021-08-15T08:30:08.940889Z"
    },
    "papermill": {
     "duration": 0.066954,
     "end_time": "2021-08-15T08:30:08.941297",
     "exception": false,
     "start_time": "2021-08-15T08:30:08.874343",
     "status": "completed"
    },
    "tags": []
   },
   "outputs": [],
   "source": [
    "df_pivot = df.pivot_table(index=\"PRODUCT\", columns = \"RECORD_TIME\", values = \"LISTING_COUNT\")"
   ]
  },
  {
   "cell_type": "code",
   "execution_count": 6,
   "id": "union-huntington",
   "metadata": {
    "execution": {
     "iopub.execute_input": "2021-08-15T08:30:08.998488Z",
     "iopub.status.busy": "2021-08-15T08:30:08.996003Z",
     "iopub.status.idle": "2021-08-15T08:30:09.001979Z",
     "shell.execute_reply": "2021-08-15T08:30:09.003273Z"
    },
    "papermill": {
     "duration": 0.042491,
     "end_time": "2021-08-15T08:30:09.003685",
     "exception": false,
     "start_time": "2021-08-15T08:30:08.961194",
     "status": "completed"
    },
    "tags": []
   },
   "outputs": [],
   "source": [
    "df_pivot.columns = [\"stamp_1\", \"stamp_2\"]\n",
    "df_pivot_diff = df_pivot.diff(axis=1)"
   ]
  },
  {
   "cell_type": "code",
   "execution_count": 7,
   "id": "fifth-motion",
   "metadata": {
    "execution": {
     "iopub.execute_input": "2021-08-15T08:30:09.056999Z",
     "iopub.status.busy": "2021-08-15T08:30:09.054778Z",
     "iopub.status.idle": "2021-08-15T08:30:10.561602Z",
     "shell.execute_reply": "2021-08-15T08:30:10.563098Z"
    },
    "papermill": {
     "duration": 1.539423,
     "end_time": "2021-08-15T08:30:10.563547",
     "exception": false,
     "start_time": "2021-08-15T08:30:09.024124",
     "status": "completed"
    },
    "tags": []
   },
   "outputs": [
    {
     "data": {
      "text/plain": [
       "<AxesSubplot:ylabel='PRODUCT'>"
      ]
     },
     "execution_count": 7,
     "metadata": {},
     "output_type": "execute_result"
    },
    {
     "data": {
      "image/png": "[encoded data removed]",
      "text/plain": [
       "<Figure size 432x288 with 1 Axes>"
      ]
     },
     "metadata": {
      "needs_background": "light"
     },
     "output_type": "display_data"
    }
   ],
   "source": [
    "df_pivot_diff.sort_values(\"stamp_2\", ascending = False)[\"stamp_2\"].head(10).plot.barh()"
   ]
  },
  {
   "cell_type": "code",
   "execution_count": null,
   "id": "extra-executive",
   "metadata": {
    "papermill": {
     "duration": 0.022264,
     "end_time": "2021-08-15T08:30:10.610408",
     "exception": false,
     "start_time": "2021-08-15T08:30:10.588144",
     "status": "completed"
    },
    "tags": []
   },
   "outputs": [],
   "source": []
  }
 ],
 "metadata": {
  "kernelspec": {
   "display_name": "Python 3",
   "language": "python",
   "name": "python3"
  },
  "language_info": {
   "codemirror_mode": {
    "name": "ipython",
    "version": 3
   },
   "file_extension": ".py",
   "mimetype": "text/x-python",
   "name": "python",
   "nbconvert_exporter": "python",
   "pygments_lexer": "ipython3",
   "version": "3.9.5"
  },
  "papermill": {
   "default_parameters": {},
   "duration": 6.827522,
   "end_time": "2021-08-15T08:30:12.079812",
   "environment_variables": {},
   "exception": null,
   "input_path": "eBay_Overview.ipynb",
   "output_path": "eBay_Overview.ipynb",
   "parameters": {},
   "start_time": "2021-08-15T08:30:05.252290",
   "version": "2.3.3"
  }
 },
 "nbformat": 4,
 "nbformat_minor": 5
}