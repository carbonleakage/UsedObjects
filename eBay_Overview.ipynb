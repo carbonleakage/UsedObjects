{
 "cells": [
  {
   "cell_type": "code",
   "execution_count": 1,
   "id": "reverse-picking",
   "metadata": {
    "execution": {
     "iopub.execute_input": "2021-11-08T05:00:07.454802Z",
     "iopub.status.busy": "2021-11-08T05:00:07.452414Z",
     "iopub.status.idle": "2021-11-08T05:00:08.401618Z",
     "shell.execute_reply": "2021-11-08T05:00:08.403209Z"
    },
    "papermill": {
     "duration": 0.998511,
     "end_time": "2021-11-08T05:00:08.404005",
     "exception": false,
     "start_time": "2021-11-08T05:00:07.405494",
     "status": "completed"
    },
    "tags": []
   },
   "outputs": [],
   "source": [
    "import pandas as pd\n",
    "import sqlite3"
   ]
  },
  {
   "cell_type": "code",
   "execution_count": 2,
   "id": "innovative-syndrome",
   "metadata": {
    "execution": {
     "iopub.execute_input": "2021-11-08T05:00:08.468898Z",
     "iopub.status.busy": "2021-11-08T05:00:08.464826Z",
     "iopub.status.idle": "2021-11-08T05:00:09.218787Z",
     "shell.execute_reply": "2021-11-08T05:00:09.220378Z"
    },
    "papermill": {
     "duration": 0.788956,
     "end_time": "2021-11-08T05:00:09.220929",
     "exception": false,
     "start_time": "2021-11-08T05:00:08.431973",
     "status": "completed"
    },
    "tags": []
   },
   "outputs": [],
   "source": [
    "timestamps = pd.read_sql(\"select distinct record_time from EBAY_TOP_BERLIN order by record_time desc limit 2\", sqlite3.connect(\"UsedObjects.db\"))"
   ]
  },
  {
   "cell_type": "code",
   "execution_count": 3,
   "id": "periodic-identification",
   "metadata": {
    "execution": {
     "iopub.execute_input": "2021-11-08T05:00:09.293638Z",
     "iopub.status.busy": "2021-11-08T05:00:09.291153Z",
     "iopub.status.idle": "2021-11-08T05:00:09.315975Z",
     "shell.execute_reply": "2021-11-08T05:00:09.317587Z"
    },
    "papermill": {
     "duration": 0.076221,
     "end_time": "2021-11-08T05:00:09.318084",
     "exception": false,
     "start_time": "2021-11-08T05:00:09.241863",
     "status": "completed"
    },
    "tags": []
   },
   "outputs": [
    {
     "data": {
      "text/html": [
       "<div>\n",
       "<style scoped>\n",
       "    .dataframe tbody tr th:only-of-type {\n",
       "        vertical-align: middle;\n",
       "    }\n",
       "\n",
       "    .dataframe tbody tr th {\n",
       "        vertical-align: top;\n",
       "    }\n",
       "\n",
       "    .dataframe thead th {\n",
       "        text-align: right;\n",
       "    }\n",
       "</style>\n",
       "<table border=\"1\" class=\"dataframe\">\n",
       "  <thead>\n",
       "    <tr style=\"text-align: right;\">\n",
       "      <th></th>\n",
       "      <th>RECORD_TIME</th>\n",
       "    </tr>\n",
       "  </thead>\n",
       "  <tbody>\n",
       "    <tr>\n",
       "      <th>0</th>\n",
       "      <td>2021-11-08 06:00</td>\n",
       "    </tr>\n",
       "    <tr>\n",
       "      <th>1</th>\n",
       "      <td>2021-11-08 05:30</td>\n",
       "    </tr>\n",
       "  </tbody>\n",
       "</table>\n",
       "</div>"
      ],
      "text/plain": [
       "        RECORD_TIME\n",
       "0  2021-11-08 06:00\n",
       "1  2021-11-08 05:30"
      ]
     },
     "execution_count": 3,
     "metadata": {},
     "output_type": "execute_result"
    }
   ],
   "source": [
    "timestamps"
   ]
  },
  {
   "cell_type": "code",
   "execution_count": 4,
   "id": "alternate-victory",
   "metadata": {
    "execution": {
     "iopub.execute_input": "2021-11-08T05:00:09.375325Z",
     "iopub.status.busy": "2021-11-08T05:00:09.373051Z",
     "iopub.status.idle": "2021-11-08T05:00:10.488670Z",
     "shell.execute_reply": "2021-11-08T05:00:10.489988Z"
    },
    "papermill": {
     "duration": 1.1506,
     "end_time": "2021-11-08T05:00:10.490394",
     "exception": false,
     "start_time": "2021-11-08T05:00:09.339794",
     "status": "completed"
    },
    "tags": []
   },
   "outputs": [],
   "source": [
    "df = pd.read_sql(\"select * from EBAY_TOP_BERLIN where record_time in (select distinct record_time from EBAY_TOP_BERLIN order by record_time desc limit 2)\", sqlite3.connect(\"UsedObjects.db\"))"
   ]
  },
  {
   "cell_type": "code",
   "execution_count": 5,
   "id": "popular-active",
   "metadata": {
    "execution": {
     "iopub.execute_input": "2021-11-08T05:00:10.564086Z",
     "iopub.status.busy": "2021-11-08T05:00:10.551178Z",
     "iopub.status.idle": "2021-11-08T05:00:10.583017Z",
     "shell.execute_reply": "2021-11-08T05:00:10.584430Z"
    },
    "papermill": {
     "duration": 0.073629,
     "end_time": "2021-11-08T05:00:10.584999",
     "exception": false,
     "start_time": "2021-11-08T05:00:10.511370",
     "status": "completed"
    },
    "tags": []
   },
   "outputs": [],
   "source": [
    "df_pivot = df.pivot_table(index=\"PRODUCT\", columns = \"RECORD_TIME\", values = \"LISTING_COUNT\")"
   ]
  },
  {
   "cell_type": "code",
   "execution_count": 6,
   "id": "union-huntington",
   "metadata": {
    "execution": {
     "iopub.execute_input": "2021-11-08T05:00:10.642385Z",
     "iopub.status.busy": "2021-11-08T05:00:10.640286Z",
     "iopub.status.idle": "2021-11-08T05:00:10.650128Z",
     "shell.execute_reply": "2021-11-08T05:00:10.653084Z"
    },
    "papermill": {
     "duration": 0.046962,
     "end_time": "2021-11-08T05:00:10.653588",
     "exception": false,
     "start_time": "2021-11-08T05:00:10.606626",
     "status": "completed"
    },
    "tags": []
   },
   "outputs": [],
   "source": [
    "df_pivot.columns = [\"stamp_1\", \"stamp_2\"]\n",
    "df_pivot_diff = df_pivot.diff(axis=1)"
   ]
  },
  {
   "cell_type": "code",
   "execution_count": 7,
   "id": "fifth-motion",
   "metadata": {
    "execution": {
     "iopub.execute_input": "2021-11-08T05:00:10.714012Z",
     "iopub.status.busy": "2021-11-08T05:00:10.711301Z",
     "iopub.status.idle": "2021-11-08T05:00:12.435596Z",
     "shell.execute_reply": "2021-11-08T05:00:12.437072Z"
    },
    "papermill": {
     "duration": 1.761143,
     "end_time": "2021-11-08T05:00:12.437558",
     "exception": false,
     "start_time": "2021-11-08T05:00:10.676415",
     "status": "completed"
    },
    "tags": []
   },
   "outputs": [
    {
     "data": {
      "text/plain": [
       "<AxesSubplot:ylabel='PRODUCT'>"
      ]
     },
     "execution_count": 7,
     "metadata": {},
     "output_type": "execute_result"
    },
    {
     "data": {
      "image/png": "[encoded data removed]",
      "text/plain": [
       "<Figure size 432x288 with 1 Axes>"
      ]
     },
     "metadata": {
      "needs_background": "light"
     },
     "output_type": "display_data"
    }
   ],
   "source": [
    "df_pivot_diff.sort_values(\"stamp_2\", ascending = False)[\"stamp_2\"].head(10).plot.barh()"
   ]
  },
  {
   "cell_type": "code",
   "execution_count": null,
   "id": "extra-executive",
   "metadata": {
    "papermill": {
     "duration": 0.02419,
     "end_time": "2021-11-08T05:00:12.486132",
     "exception": false,
     "start_time": "2021-11-08T05:00:12.461942",
     "status": "completed"
    },
    "tags": []
   },
   "outputs": [],
   "source": []
  }
 ],
 "metadata": {
  "kernelspec": {
   "display_name": "Python 3",
   "language": "python",
   "name": "python3"
  },
  "language_info": {
   "codemirror_mode": {
    "name": "ipython",
    "version": 3
   },
   "file_extension": ".py",
   "mimetype": "text/x-python",
   "name": "python",
   "nbconvert_exporter": "python",
   "pygments_lexer": "ipython3",
   "version": "3.9.5"
  },
  "papermill": {
   "default_parameters": {},
   "duration": 8.644635,
   "end_time": "2021-11-08T05:00:13.233800",
   "environment_variables": {},
   "exception": null,
   "input_path": "eBay_Overview.ipynb",
   "output_path": "eBay_Overview.ipynb",
   "parameters": {},
   "start_time": "2021-11-08T05:00:04.589165",
   "version": "2.3.3"
  }
 },
 "nbformat": 4,
 "nbformat_minor": 5
}