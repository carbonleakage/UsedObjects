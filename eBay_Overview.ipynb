{
 "cells": [
  {
   "cell_type": "code",
   "execution_count": 1,
   "id": "reverse-picking",
   "metadata": {
    "execution": {
     "iopub.execute_input": "2021-12-21T14:30:07.667591Z",
     "iopub.status.busy": "2021-12-21T14:30:07.665386Z",
     "iopub.status.idle": "2021-12-21T14:30:08.616294Z",
     "shell.execute_reply": "2021-12-21T14:30:08.617918Z"
    },
    "papermill": {
     "duration": 1.001104,
     "end_time": "2021-12-21T14:30:08.618675",
     "exception": false,
     "start_time": "2021-12-21T14:30:07.617571",
     "status": "completed"
    },
    "tags": []
   },
   "outputs": [],
   "source": [
    "import pandas as pd\n",
    "import sqlite3"
   ]
  },
  {
   "cell_type": "code",
   "execution_count": 2,
   "id": "innovative-syndrome",
   "metadata": {
    "execution": {
     "iopub.execute_input": "2021-12-21T14:30:08.693098Z",
     "iopub.status.busy": "2021-12-21T14:30:08.690484Z",
     "iopub.status.idle": "2021-12-21T14:30:09.897805Z",
     "shell.execute_reply": "2021-12-21T14:30:09.899469Z"
    },
    "papermill": {
     "duration": 1.243715,
     "end_time": "2021-12-21T14:30:09.899979",
     "exception": false,
     "start_time": "2021-12-21T14:30:08.656264",
     "status": "completed"
    },
    "tags": []
   },
   "outputs": [],
   "source": [
    "timestamps = pd.read_sql(\"select distinct record_time from EBAY_TOP_BERLIN order by record_time desc limit 2\", sqlite3.connect(\"UsedObjects.db\"))"
   ]
  },
  {
   "cell_type": "code",
   "execution_count": 3,
   "id": "periodic-identification",
   "metadata": {
    "execution": {
     "iopub.execute_input": "2021-12-21T14:30:09.983814Z",
     "iopub.status.busy": "2021-12-21T14:30:09.981509Z",
     "iopub.status.idle": "2021-12-21T14:30:10.004855Z",
     "shell.execute_reply": "2021-12-21T14:30:10.006399Z"
    },
    "papermill": {
     "duration": 0.07417,
     "end_time": "2021-12-21T14:30:10.006904",
     "exception": false,
     "start_time": "2021-12-21T14:30:09.932734",
     "status": "completed"
    },
    "tags": []
   },
   "outputs": [
    {
     "data": {
      "text/html": [
       "<div>\n",
       "<style scoped>\n",
       "    .dataframe tbody tr th:only-of-type {\n",
       "        vertical-align: middle;\n",
       "    }\n",
       "\n",
       "    .dataframe tbody tr th {\n",
       "        vertical-align: top;\n",
       "    }\n",
       "\n",
       "    .dataframe thead th {\n",
       "        text-align: right;\n",
       "    }\n",
       "</style>\n",
       "<table border=\"1\" class=\"dataframe\">\n",
       "  <thead>\n",
       "    <tr style=\"text-align: right;\">\n",
       "      <th></th>\n",
       "      <th>RECORD_TIME</th>\n",
       "    </tr>\n",
       "  </thead>\n",
       "  <tbody>\n",
       "    <tr>\n",
       "      <th>0</th>\n",
       "      <td>2021-12-21 15:30</td>\n",
       "    </tr>\n",
       "    <tr>\n",
       "      <th>1</th>\n",
       "      <td>2021-12-21 15:00</td>\n",
       "    </tr>\n",
       "  </tbody>\n",
       "</table>\n",
       "</div>"
      ],
      "text/plain": [
       "        RECORD_TIME\n",
       "0  2021-12-21 15:30\n",
       "1  2021-12-21 15:00"
      ]
     },
     "execution_count": 3,
     "metadata": {},
     "output_type": "execute_result"
    }
   ],
   "source": [
    "timestamps"
   ]
  },
  {
   "cell_type": "code",
   "execution_count": 4,
   "id": "alternate-victory",
   "metadata": {
    "execution": {
     "iopub.execute_input": "2021-12-21T14:30:10.063648Z",
     "iopub.status.busy": "2021-12-21T14:30:10.061447Z",
     "iopub.status.idle": "2021-12-21T14:30:11.708839Z",
     "shell.execute_reply": "2021-12-21T14:30:11.710398Z"
    },
    "papermill": {
     "duration": 1.682314,
     "end_time": "2021-12-21T14:30:11.710877",
     "exception": false,
     "start_time": "2021-12-21T14:30:10.028563",
     "status": "completed"
    },
    "tags": []
   },
   "outputs": [],
   "source": [
    "df = pd.read_sql(\"select * from EBAY_TOP_BERLIN where record_time in (select distinct record_time from EBAY_TOP_BERLIN order by record_time desc limit 2)\", sqlite3.connect(\"UsedObjects.db\"))"
   ]
  },
  {
   "cell_type": "code",
   "execution_count": 5,
   "id": "popular-active",
   "metadata": {
    "execution": {
     "iopub.execute_input": "2021-12-21T14:30:11.775737Z",
     "iopub.status.busy": "2021-12-21T14:30:11.773459Z",
     "iopub.status.idle": "2021-12-21T14:30:11.805720Z",
     "shell.execute_reply": "2021-12-21T14:30:11.804007Z"
    },
    "papermill": {
     "duration": 0.074422,
     "end_time": "2021-12-21T14:30:11.806151",
     "exception": false,
     "start_time": "2021-12-21T14:30:11.731729",
     "status": "completed"
    },
    "tags": []
   },
   "outputs": [],
   "source": [
    "df_pivot = df.pivot_table(index=\"PRODUCT\", columns = \"RECORD_TIME\", values = \"LISTING_COUNT\")"
   ]
  },
  {
   "cell_type": "code",
   "execution_count": 6,
   "id": "union-huntington",
   "metadata": {
    "execution": {
     "iopub.execute_input": "2021-12-21T14:30:11.869568Z",
     "iopub.status.busy": "2021-12-21T14:30:11.867173Z",
     "iopub.status.idle": "2021-12-21T14:30:11.873420Z",
     "shell.execute_reply": "2021-12-21T14:30:11.874887Z"
    },
    "papermill": {
     "duration": 0.046224,
     "end_time": "2021-12-21T14:30:11.875395",
     "exception": false,
     "start_time": "2021-12-21T14:30:11.829171",
     "status": "completed"
    },
    "tags": []
   },
   "outputs": [],
   "source": [
    "df_pivot.columns = [\"stamp_1\", \"stamp_2\"]\n",
    "df_pivot_diff = df_pivot.diff(axis=1)"
   ]
  },
  {
   "cell_type": "code",
   "execution_count": 7,
   "id": "fifth-motion",
   "metadata": {
    "execution": {
     "iopub.execute_input": "2021-12-21T14:30:11.934125Z",
     "iopub.status.busy": "2021-12-21T14:30:11.931579Z",
     "iopub.status.idle": "2021-12-21T14:30:13.920518Z",
     "shell.execute_reply": "2021-12-21T14:30:13.919019Z"
    },
    "papermill": {
     "duration": 2.023396,
     "end_time": "2021-12-21T14:30:13.920958",
     "exception": false,
     "start_time": "2021-12-21T14:30:11.897562",
     "status": "completed"
    },
    "tags": []
   },
   "outputs": [
    {
     "data": {
      "text/plain": [
       "<AxesSubplot:ylabel='PRODUCT'>"
      ]
     },
     "execution_count": 7,
     "metadata": {},
     "output_type": "execute_result"
    },
    {
     "data": {
      "image/png": "[encoded data removed]",
      "text/plain": [
       "<Figure size 432x288 with 1 Axes>"
      ]
     },
     "metadata": {
      "needs_background": "light"
     },
     "output_type": "display_data"
    }
   ],
   "source": [
    "df_pivot_diff.sort_values(\"stamp_2\", ascending = False)[\"stamp_2\"].head(10).plot.barh()"
   ]
  },
  {
   "cell_type": "code",
   "execution_count": null,
   "id": "extra-executive",
   "metadata": {
    "papermill": {
     "duration": 0.022311,
     "end_time": "2021-12-21T14:30:13.968349",
     "exception": false,
     "start_time": "2021-12-21T14:30:13.946038",
     "status": "completed"
    },
    "tags": []
   },
   "outputs": [],
   "source": []
  }
 ],
 "metadata": {
  "kernelspec": {
   "display_name": "Python 3",
   "language": "python",
   "name": "python3"
  },
  "language_info": {
   "codemirror_mode": {
    "name": "ipython",
    "version": 3
   },
   "file_extension": ".py",
   "mimetype": "text/x-python",
   "name": "python",
   "nbconvert_exporter": "python",
   "pygments_lexer": "ipython3",
   "version": "3.9.5"
  },
  "papermill": {
   "default_parameters": {},
   "duration": 9.745909,
   "end_time": "2021-12-21T14:30:14.610755",
   "environment_variables": {},
   "exception": null,
   "input_path": "eBay_Overview.ipynb",
   "output_path": "eBay_Overview.ipynb",
   "parameters": {},
   "start_time": "2021-12-21T14:30:04.864846",
   "version": "2.3.3"
  }
 },
 "nbformat": 4,
 "nbformat_minor": 5
}