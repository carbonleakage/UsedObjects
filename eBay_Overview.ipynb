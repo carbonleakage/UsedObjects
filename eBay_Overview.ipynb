{
 "cells": [
  {
   "cell_type": "code",
   "execution_count": 1,
   "id": "reverse-picking",
   "metadata": {
    "execution": {
     "iopub.execute_input": "2021-09-14T04:00:06.639847Z",
     "iopub.status.busy": "2021-09-14T04:00:06.637845Z",
     "iopub.status.idle": "2021-09-14T04:00:07.441113Z",
     "shell.execute_reply": "2021-09-14T04:00:07.442379Z"
    },
    "papermill": {
     "duration": 0.852296,
     "end_time": "2021-09-14T04:00:07.443061",
     "exception": false,
     "start_time": "2021-09-14T04:00:06.590765",
     "status": "completed"
    },
    "tags": []
   },
   "outputs": [],
   "source": [
    "import pandas as pd\n",
    "import sqlite3"
   ]
  },
  {
   "cell_type": "code",
   "execution_count": 2,
   "id": "innovative-syndrome",
   "metadata": {
    "execution": {
     "iopub.execute_input": "2021-09-14T04:00:07.493406Z",
     "iopub.status.busy": "2021-09-14T04:00:07.491493Z",
     "iopub.status.idle": "2021-09-14T04:00:07.777058Z",
     "shell.execute_reply": "2021-09-14T04:00:07.778271Z"
    },
    "papermill": {
     "duration": 0.314809,
     "end_time": "2021-09-14T04:00:07.778670",
     "exception": false,
     "start_time": "2021-09-14T04:00:07.463861",
     "status": "completed"
    },
    "tags": []
   },
   "outputs": [],
   "source": [
    "timestamps = pd.read_sql(\"select distinct record_time from EBAY_TOP_BERLIN order by record_time desc limit 2\", sqlite3.connect(\"UsedObjects.db\"))"
   ]
  },
  {
   "cell_type": "code",
   "execution_count": 3,
   "id": "periodic-identification",
   "metadata": {
    "execution": {
     "iopub.execute_input": "2021-09-14T04:00:07.841787Z",
     "iopub.status.busy": "2021-09-14T04:00:07.839762Z",
     "iopub.status.idle": "2021-09-14T04:00:07.860002Z",
     "shell.execute_reply": "2021-09-14T04:00:07.861209Z"
    },
    "papermill": {
     "duration": 0.063668,
     "end_time": "2021-09-14T04:00:07.861638",
     "exception": false,
     "start_time": "2021-09-14T04:00:07.797970",
     "status": "completed"
    },
    "tags": []
   },
   "outputs": [
    {
     "data": {
      "text/html": [
       "<div>\n",
       "<style scoped>\n",
       "    .dataframe tbody tr th:only-of-type {\n",
       "        vertical-align: middle;\n",
       "    }\n",
       "\n",
       "    .dataframe tbody tr th {\n",
       "        vertical-align: top;\n",
       "    }\n",
       "\n",
       "    .dataframe thead th {\n",
       "        text-align: right;\n",
       "    }\n",
       "</style>\n",
       "<table border=\"1\" class=\"dataframe\">\n",
       "  <thead>\n",
       "    <tr style=\"text-align: right;\">\n",
       "      <th></th>\n",
       "      <th>RECORD_TIME</th>\n",
       "    </tr>\n",
       "  </thead>\n",
       "  <tbody>\n",
       "    <tr>\n",
       "      <th>0</th>\n",
       "      <td>2021-09-14 06:00</td>\n",
       "    </tr>\n",
       "    <tr>\n",
       "      <th>1</th>\n",
       "      <td>2021-09-14 05:30</td>\n",
       "    </tr>\n",
       "  </tbody>\n",
       "</table>\n",
       "</div>"
      ],
      "text/plain": [
       "        RECORD_TIME\n",
       "0  2021-09-14 06:00\n",
       "1  2021-09-14 05:30"
      ]
     },
     "execution_count": 3,
     "metadata": {},
     "output_type": "execute_result"
    }
   ],
   "source": [
    "timestamps"
   ]
  },
  {
   "cell_type": "code",
   "execution_count": 4,
   "id": "alternate-victory",
   "metadata": {
    "execution": {
     "iopub.execute_input": "2021-09-14T04:00:07.914726Z",
     "iopub.status.busy": "2021-09-14T04:00:07.912429Z",
     "iopub.status.idle": "2021-09-14T04:00:08.350428Z",
     "shell.execute_reply": "2021-09-14T04:00:08.351725Z"
    },
    "papermill": {
     "duration": 0.468007,
     "end_time": "2021-09-14T04:00:08.352138",
     "exception": false,
     "start_time": "2021-09-14T04:00:07.884131",
     "status": "completed"
    },
    "tags": []
   },
   "outputs": [],
   "source": [
    "df = pd.read_sql(\"select * from EBAY_TOP_BERLIN where record_time in (select distinct record_time from EBAY_TOP_BERLIN order by record_time desc limit 2)\", sqlite3.connect(\"UsedObjects.db\"))"
   ]
  },
  {
   "cell_type": "code",
   "execution_count": 5,
   "id": "popular-active",
   "metadata": {
    "execution": {
     "iopub.execute_input": "2021-09-14T04:00:08.433854Z",
     "iopub.status.busy": "2021-09-14T04:00:08.421431Z",
     "iopub.status.idle": "2021-09-14T04:00:08.451349Z",
     "shell.execute_reply": "2021-09-14T04:00:08.452746Z"
    },
    "papermill": {
     "duration": 0.072466,
     "end_time": "2021-09-14T04:00:08.453184",
     "exception": false,
     "start_time": "2021-09-14T04:00:08.380718",
     "status": "completed"
    },
    "tags": []
   },
   "outputs": [],
   "source": [
    "df_pivot = df.pivot_table(index=\"PRODUCT\", columns = \"RECORD_TIME\", values = \"LISTING_COUNT\")"
   ]
  },
  {
   "cell_type": "code",
   "execution_count": 6,
   "id": "union-huntington",
   "metadata": {
    "execution": {
     "iopub.execute_input": "2021-09-14T04:00:08.510167Z",
     "iopub.status.busy": "2021-09-14T04:00:08.507763Z",
     "iopub.status.idle": "2021-09-14T04:00:08.513511Z",
     "shell.execute_reply": "2021-09-14T04:00:08.514792Z"
    },
    "papermill": {
     "duration": 0.04198,
     "end_time": "2021-09-14T04:00:08.515264",
     "exception": false,
     "start_time": "2021-09-14T04:00:08.473284",
     "status": "completed"
    },
    "tags": []
   },
   "outputs": [],
   "source": [
    "df_pivot.columns = [\"stamp_1\", \"stamp_2\"]\n",
    "df_pivot_diff = df_pivot.diff(axis=1)"
   ]
  },
  {
   "cell_type": "code",
   "execution_count": 7,
   "id": "fifth-motion",
   "metadata": {
    "execution": {
     "iopub.execute_input": "2021-09-14T04:00:08.569193Z",
     "iopub.status.busy": "2021-09-14T04:00:08.566926Z",
     "iopub.status.idle": "2021-09-14T04:00:10.021683Z",
     "shell.execute_reply": "2021-09-14T04:00:10.023040Z"
    },
    "papermill": {
     "duration": 1.487754,
     "end_time": "2021-09-14T04:00:10.023467",
     "exception": false,
     "start_time": "2021-09-14T04:00:08.535713",
     "status": "completed"
    },
    "tags": []
   },
   "outputs": [
    {
     "data": {
      "text/plain": [
       "<AxesSubplot:ylabel='PRODUCT'>"
      ]
     },
     "execution_count": 7,
     "metadata": {},
     "output_type": "execute_result"
    },
    {
     "data": {
      "image/png": "[encoded data removed]",
      "text/plain": [
       "<Figure size 432x288 with 1 Axes>"
      ]
     },
     "metadata": {
      "needs_background": "light"
     },
     "output_type": "display_data"
    }
   ],
   "source": [
    "df_pivot_diff.sort_values(\"stamp_2\", ascending = False)[\"stamp_2\"].head(10).plot.barh()"
   ]
  },
  {
   "cell_type": "code",
   "execution_count": null,
   "id": "extra-executive",
   "metadata": {
    "papermill": {
     "duration": 0.021984,
     "end_time": "2021-09-14T04:00:10.069205",
     "exception": false,
     "start_time": "2021-09-14T04:00:10.047221",
     "status": "completed"
    },
    "tags": []
   },
   "outputs": [],
   "source": []
  }
 ],
 "metadata": {
  "kernelspec": {
   "display_name": "Python 3",
   "language": "python",
   "name": "python3"
  },
  "language_info": {
   "codemirror_mode": {
    "name": "ipython",
    "version": 3
   },
   "file_extension": ".py",
   "mimetype": "text/x-python",
   "name": "python",
   "nbconvert_exporter": "python",
   "pygments_lexer": "ipython3",
   "version": "3.9.5"
  },
  "papermill": {
   "default_parameters": {},
   "duration": 6.527696,
   "end_time": "2021-09-14T04:00:10.712129",
   "environment_variables": {},
   "exception": null,
   "input_path": "eBay_Overview.ipynb",
   "output_path": "eBay_Overview.ipynb",
   "parameters": {},
   "start_time": "2021-09-14T04:00:04.184433",
   "version": "2.3.3"
  }
 },
 "nbformat": 4,
 "nbformat_minor": 5
}