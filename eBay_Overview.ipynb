{
 "cells": [
  {
   "cell_type": "code",
   "execution_count": 1,
   "id": "reverse-picking",
   "metadata": {
    "execution": {
     "iopub.execute_input": "2021-11-26T09:00:07.998258Z",
     "iopub.status.busy": "2021-11-26T09:00:07.995781Z",
     "iopub.status.idle": "2021-11-26T09:00:08.965450Z",
     "shell.execute_reply": "2021-11-26T09:00:08.967048Z"
    },
    "papermill": {
     "duration": 1.018535,
     "end_time": "2021-11-26T09:00:08.968057",
     "exception": false,
     "start_time": "2021-11-26T09:00:07.949522",
     "status": "completed"
    },
    "tags": []
   },
   "outputs": [],
   "source": [
    "import pandas as pd\n",
    "import sqlite3"
   ]
  },
  {
   "cell_type": "code",
   "execution_count": 2,
   "id": "innovative-syndrome",
   "metadata": {
    "execution": {
     "iopub.execute_input": "2021-11-26T09:00:09.030121Z",
     "iopub.status.busy": "2021-11-26T09:00:09.027652Z",
     "iopub.status.idle": "2021-11-26T09:00:09.945807Z",
     "shell.execute_reply": "2021-11-26T09:00:09.947145Z"
    },
    "papermill": {
     "duration": 0.952112,
     "end_time": "2021-11-26T09:00:09.947567",
     "exception": false,
     "start_time": "2021-11-26T09:00:08.995455",
     "status": "completed"
    },
    "tags": []
   },
   "outputs": [],
   "source": [
    "timestamps = pd.read_sql(\"select distinct record_time from EBAY_TOP_BERLIN order by record_time desc limit 2\", sqlite3.connect(\"UsedObjects.db\"))"
   ]
  },
  {
   "cell_type": "code",
   "execution_count": 3,
   "id": "periodic-identification",
   "metadata": {
    "execution": {
     "iopub.execute_input": "2021-11-26T09:00:10.018458Z",
     "iopub.status.busy": "2021-11-26T09:00:10.012571Z",
     "iopub.status.idle": "2021-11-26T09:00:10.037412Z",
     "shell.execute_reply": "2021-11-26T09:00:10.035493Z"
    },
    "papermill": {
     "duration": 0.070854,
     "end_time": "2021-11-26T09:00:10.037857",
     "exception": false,
     "start_time": "2021-11-26T09:00:09.967003",
     "status": "completed"
    },
    "tags": []
   },
   "outputs": [
    {
     "data": {
      "text/html": [
       "<div>\n",
       "<style scoped>\n",
       "    .dataframe tbody tr th:only-of-type {\n",
       "        vertical-align: middle;\n",
       "    }\n",
       "\n",
       "    .dataframe tbody tr th {\n",
       "        vertical-align: top;\n",
       "    }\n",
       "\n",
       "    .dataframe thead th {\n",
       "        text-align: right;\n",
       "    }\n",
       "</style>\n",
       "<table border=\"1\" class=\"dataframe\">\n",
       "  <thead>\n",
       "    <tr style=\"text-align: right;\">\n",
       "      <th></th>\n",
       "      <th>RECORD_TIME</th>\n",
       "    </tr>\n",
       "  </thead>\n",
       "  <tbody>\n",
       "    <tr>\n",
       "      <th>0</th>\n",
       "      <td>2021-11-26 10:00</td>\n",
       "    </tr>\n",
       "    <tr>\n",
       "      <th>1</th>\n",
       "      <td>2021-11-26 09:30</td>\n",
       "    </tr>\n",
       "  </tbody>\n",
       "</table>\n",
       "</div>"
      ],
      "text/plain": [
       "        RECORD_TIME\n",
       "0  2021-11-26 10:00\n",
       "1  2021-11-26 09:30"
      ]
     },
     "execution_count": 3,
     "metadata": {},
     "output_type": "execute_result"
    }
   ],
   "source": [
    "timestamps"
   ]
  },
  {
   "cell_type": "code",
   "execution_count": 4,
   "id": "alternate-victory",
   "metadata": {
    "execution": {
     "iopub.execute_input": "2021-11-26T09:00:10.091935Z",
     "iopub.status.busy": "2021-11-26T09:00:10.090056Z",
     "iopub.status.idle": "2021-11-26T09:00:11.448104Z",
     "shell.execute_reply": "2021-11-26T09:00:11.449649Z"
    },
    "papermill": {
     "duration": 1.390322,
     "end_time": "2021-11-26T09:00:11.450116",
     "exception": false,
     "start_time": "2021-11-26T09:00:10.059794",
     "status": "completed"
    },
    "tags": []
   },
   "outputs": [],
   "source": [
    "df = pd.read_sql(\"select * from EBAY_TOP_BERLIN where record_time in (select distinct record_time from EBAY_TOP_BERLIN order by record_time desc limit 2)\", sqlite3.connect(\"UsedObjects.db\"))"
   ]
  },
  {
   "cell_type": "code",
   "execution_count": 5,
   "id": "popular-active",
   "metadata": {
    "execution": {
     "iopub.execute_input": "2021-11-26T09:00:11.525504Z",
     "iopub.status.busy": "2021-11-26T09:00:11.516580Z",
     "iopub.status.idle": "2021-11-26T09:00:11.544134Z",
     "shell.execute_reply": "2021-11-26T09:00:11.545558Z"
    },
    "papermill": {
     "duration": 0.075317,
     "end_time": "2021-11-26T09:00:11.546073",
     "exception": false,
     "start_time": "2021-11-26T09:00:11.470756",
     "status": "completed"
    },
    "tags": []
   },
   "outputs": [],
   "source": [
    "df_pivot = df.pivot_table(index=\"PRODUCT\", columns = \"RECORD_TIME\", values = \"LISTING_COUNT\")"
   ]
  },
  {
   "cell_type": "code",
   "execution_count": 6,
   "id": "union-huntington",
   "metadata": {
    "execution": {
     "iopub.execute_input": "2021-11-26T09:00:11.605928Z",
     "iopub.status.busy": "2021-11-26T09:00:11.603705Z",
     "iopub.status.idle": "2021-11-26T09:00:11.610987Z",
     "shell.execute_reply": "2021-11-26T09:00:11.609517Z"
    },
    "papermill": {
     "duration": 0.043739,
     "end_time": "2021-11-26T09:00:11.611396",
     "exception": false,
     "start_time": "2021-11-26T09:00:11.567657",
     "status": "completed"
    },
    "tags": []
   },
   "outputs": [],
   "source": [
    "df_pivot.columns = [\"stamp_1\", \"stamp_2\"]\n",
    "df_pivot_diff = df_pivot.diff(axis=1)"
   ]
  },
  {
   "cell_type": "code",
   "execution_count": 7,
   "id": "fifth-motion",
   "metadata": {
    "execution": {
     "iopub.execute_input": "2021-11-26T09:00:11.667111Z",
     "iopub.status.busy": "2021-11-26T09:00:11.664609Z",
     "iopub.status.idle": "2021-11-26T09:00:13.260025Z",
     "shell.execute_reply": "2021-11-26T09:00:13.261679Z"
    },
    "papermill": {
     "duration": 1.630972,
     "end_time": "2021-11-26T09:00:13.262141",
     "exception": false,
     "start_time": "2021-11-26T09:00:11.631169",
     "status": "completed"
    },
    "tags": []
   },
   "outputs": [
    {
     "data": {
      "text/plain": [
       "<AxesSubplot:ylabel='PRODUCT'>"
      ]
     },
     "execution_count": 7,
     "metadata": {},
     "output_type": "execute_result"
    },
    {
     "data": {
      "image/png": "[encoded data removed]",
      "text/plain": [
       "<Figure size 432x288 with 1 Axes>"
      ]
     },
     "metadata": {
      "needs_background": "light"
     },
     "output_type": "display_data"
    }
   ],
   "source": [
    "df_pivot_diff.sort_values(\"stamp_2\", ascending = False)[\"stamp_2\"].head(10).plot.barh()"
   ]
  },
  {
   "cell_type": "code",
   "execution_count": null,
   "id": "extra-executive",
   "metadata": {
    "papermill": {
     "duration": 0.021985,
     "end_time": "2021-11-26T09:00:13.308268",
     "exception": false,
     "start_time": "2021-11-26T09:00:13.286283",
     "status": "completed"
    },
    "tags": []
   },
   "outputs": [],
   "source": []
  }
 ],
 "metadata": {
  "kernelspec": {
   "display_name": "Python 3",
   "language": "python",
   "name": "python3"
  },
  "language_info": {
   "codemirror_mode": {
    "name": "ipython",
    "version": 3
   },
   "file_extension": ".py",
   "mimetype": "text/x-python",
   "name": "python",
   "nbconvert_exporter": "python",
   "pygments_lexer": "ipython3",
   "version": "3.9.5"
  },
  "papermill": {
   "default_parameters": {},
   "duration": 8.739652,
   "end_time": "2021-11-26T09:00:13.948043",
   "environment_variables": {},
   "exception": null,
   "input_path": "eBay_Overview.ipynb",
   "output_path": "eBay_Overview.ipynb",
   "parameters": {},
   "start_time": "2021-11-26T09:00:05.208391",
   "version": "2.3.3"
  }
 },
 "nbformat": 4,
 "nbformat_minor": 5
}