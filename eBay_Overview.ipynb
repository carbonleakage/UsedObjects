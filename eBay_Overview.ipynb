{
 "cells": [
  {
   "cell_type": "code",
   "execution_count": 1,
   "id": "reverse-picking",
   "metadata": {
    "execution": {
     "iopub.execute_input": "2021-08-28T10:00:07.078145Z",
     "iopub.status.busy": "2021-08-28T10:00:07.076088Z",
     "iopub.status.idle": "2021-08-28T10:00:07.876811Z",
     "shell.execute_reply": "2021-08-28T10:00:07.878261Z"
    },
    "papermill": {
     "duration": 0.85322,
     "end_time": "2021-08-28T10:00:07.878942",
     "exception": false,
     "start_time": "2021-08-28T10:00:07.025722",
     "status": "completed"
    },
    "tags": []
   },
   "outputs": [],
   "source": [
    "import pandas as pd\n",
    "import sqlite3"
   ]
  },
  {
   "cell_type": "code",
   "execution_count": 2,
   "id": "innovative-syndrome",
   "metadata": {
    "execution": {
     "iopub.execute_input": "2021-08-28T10:00:07.930349Z",
     "iopub.status.busy": "2021-08-28T10:00:07.927905Z",
     "iopub.status.idle": "2021-08-28T10:00:08.083869Z",
     "shell.execute_reply": "2021-08-28T10:00:08.085232Z"
    },
    "papermill": {
     "duration": 0.18606,
     "end_time": "2021-08-28T10:00:08.085664",
     "exception": false,
     "start_time": "2021-08-28T10:00:07.899604",
     "status": "completed"
    },
    "tags": []
   },
   "outputs": [],
   "source": [
    "timestamps = pd.read_sql(\"select distinct record_time from EBAY_TOP_BERLIN order by record_time desc limit 2\", sqlite3.connect(\"UsedObjects.db\"))"
   ]
  },
  {
   "cell_type": "code",
   "execution_count": 3,
   "id": "periodic-identification",
   "metadata": {
    "execution": {
     "iopub.execute_input": "2021-08-28T10:00:08.150967Z",
     "iopub.status.busy": "2021-08-28T10:00:08.148748Z",
     "iopub.status.idle": "2021-08-28T10:00:08.169257Z",
     "shell.execute_reply": "2021-08-28T10:00:08.170556Z"
    },
    "papermill": {
     "duration": 0.065369,
     "end_time": "2021-08-28T10:00:08.170963",
     "exception": false,
     "start_time": "2021-08-28T10:00:08.105594",
     "status": "completed"
    },
    "tags": []
   },
   "outputs": [
    {
     "data": {
      "text/html": [
       "<div>\n",
       "<style scoped>\n",
       "    .dataframe tbody tr th:only-of-type {\n",
       "        vertical-align: middle;\n",
       "    }\n",
       "\n",
       "    .dataframe tbody tr th {\n",
       "        vertical-align: top;\n",
       "    }\n",
       "\n",
       "    .dataframe thead th {\n",
       "        text-align: right;\n",
       "    }\n",
       "</style>\n",
       "<table border=\"1\" class=\"dataframe\">\n",
       "  <thead>\n",
       "    <tr style=\"text-align: right;\">\n",
       "      <th></th>\n",
       "      <th>RECORD_TIME</th>\n",
       "    </tr>\n",
       "  </thead>\n",
       "  <tbody>\n",
       "    <tr>\n",
       "      <th>0</th>\n",
       "      <td>2021-08-28 12:00</td>\n",
       "    </tr>\n",
       "    <tr>\n",
       "      <th>1</th>\n",
       "      <td>2021-08-28 11:30</td>\n",
       "    </tr>\n",
       "  </tbody>\n",
       "</table>\n",
       "</div>"
      ],
      "text/plain": [
       "        RECORD_TIME\n",
       "0  2021-08-28 12:00\n",
       "1  2021-08-28 11:30"
      ]
     },
     "execution_count": 3,
     "metadata": {},
     "output_type": "execute_result"
    }
   ],
   "source": [
    "timestamps"
   ]
  },
  {
   "cell_type": "code",
   "execution_count": 4,
   "id": "alternate-victory",
   "metadata": {
    "execution": {
     "iopub.execute_input": "2021-08-28T10:00:08.224444Z",
     "iopub.status.busy": "2021-08-28T10:00:08.222105Z",
     "iopub.status.idle": "2021-08-28T10:00:08.444888Z",
     "shell.execute_reply": "2021-08-28T10:00:08.446130Z"
    },
    "papermill": {
     "duration": 0.253543,
     "end_time": "2021-08-28T10:00:08.446534",
     "exception": false,
     "start_time": "2021-08-28T10:00:08.192991",
     "status": "completed"
    },
    "tags": []
   },
   "outputs": [],
   "source": [
    "df = pd.read_sql(\"select * from EBAY_TOP_BERLIN where record_time in (select distinct record_time from EBAY_TOP_BERLIN order by record_time desc limit 2)\", sqlite3.connect(\"UsedObjects.db\"))"
   ]
  },
  {
   "cell_type": "code",
   "execution_count": 5,
   "id": "popular-active",
   "metadata": {
    "execution": {
     "iopub.execute_input": "2021-08-28T10:00:08.518493Z",
     "iopub.status.busy": "2021-08-28T10:00:08.506305Z",
     "iopub.status.idle": "2021-08-28T10:00:08.534070Z",
     "shell.execute_reply": "2021-08-28T10:00:08.535291Z"
    },
    "papermill": {
     "duration": 0.067763,
     "end_time": "2021-08-28T10:00:08.535694",
     "exception": false,
     "start_time": "2021-08-28T10:00:08.467931",
     "status": "completed"
    },
    "tags": []
   },
   "outputs": [],
   "source": [
    "df_pivot = df.pivot_table(index=\"PRODUCT\", columns = \"RECORD_TIME\", values = \"LISTING_COUNT\")"
   ]
  },
  {
   "cell_type": "code",
   "execution_count": 6,
   "id": "union-huntington",
   "metadata": {
    "execution": {
     "iopub.execute_input": "2021-08-28T10:00:08.601559Z",
     "iopub.status.busy": "2021-08-28T10:00:08.599428Z",
     "iopub.status.idle": "2021-08-28T10:00:08.604951Z",
     "shell.execute_reply": "2021-08-28T10:00:08.606287Z"
    },
    "papermill": {
     "duration": 0.045739,
     "end_time": "2021-08-28T10:00:08.606716",
     "exception": false,
     "start_time": "2021-08-28T10:00:08.560977",
     "status": "completed"
    },
    "tags": []
   },
   "outputs": [],
   "source": [
    "df_pivot.columns = [\"stamp_1\", \"stamp_2\"]\n",
    "df_pivot_diff = df_pivot.diff(axis=1)"
   ]
  },
  {
   "cell_type": "code",
   "execution_count": 7,
   "id": "fifth-motion",
   "metadata": {
    "execution": {
     "iopub.execute_input": "2021-08-28T10:00:08.662441Z",
     "iopub.status.busy": "2021-08-28T10:00:08.659845Z",
     "iopub.status.idle": "2021-08-28T10:00:10.153647Z",
     "shell.execute_reply": "2021-08-28T10:00:10.155293Z"
    },
    "papermill": {
     "duration": 1.527601,
     "end_time": "2021-08-28T10:00:10.155804",
     "exception": false,
     "start_time": "2021-08-28T10:00:08.628203",
     "status": "completed"
    },
    "tags": []
   },
   "outputs": [
    {
     "data": {
      "text/plain": [
       "<AxesSubplot:ylabel='PRODUCT'>"
      ]
     },
     "execution_count": 7,
     "metadata": {},
     "output_type": "execute_result"
    },
    {
     "data": {
      "image/png": "[encoded data removed]",
      "text/plain": [
       "<Figure size 432x288 with 1 Axes>"
      ]
     },
     "metadata": {
      "needs_background": "light"
     },
     "output_type": "display_data"
    }
   ],
   "source": [
    "df_pivot_diff.sort_values(\"stamp_2\", ascending = False)[\"stamp_2\"].head(10).plot.barh()"
   ]
  },
  {
   "cell_type": "code",
   "execution_count": null,
   "id": "extra-executive",
   "metadata": {
    "papermill": {
     "duration": 0.022504,
     "end_time": "2021-08-28T10:00:10.202874",
     "exception": false,
     "start_time": "2021-08-28T10:00:10.180370",
     "status": "completed"
    },
    "tags": []
   },
   "outputs": [],
   "source": []
  }
 ],
 "metadata": {
  "kernelspec": {
   "display_name": "Python 3",
   "language": "python",
   "name": "python3"
  },
  "language_info": {
   "codemirror_mode": {
    "name": "ipython",
    "version": 3
   },
   "file_extension": ".py",
   "mimetype": "text/x-python",
   "name": "python",
   "nbconvert_exporter": "python",
   "pygments_lexer": "ipython3",
   "version": "3.9.5"
  },
  "papermill": {
   "default_parameters": {},
   "duration": 6.828466,
   "end_time": "2021-08-28T10:00:11.465332",
   "environment_variables": {},
   "exception": null,
   "input_path": "eBay_Overview.ipynb",
   "output_path": "eBay_Overview.ipynb",
   "parameters": {},
   "start_time": "2021-08-28T10:00:04.636866",
   "version": "2.3.3"
  }
 },
 "nbformat": 4,
 "nbformat_minor": 5
}