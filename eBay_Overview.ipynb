{
 "cells": [
  {
   "cell_type": "code",
   "execution_count": 1,
   "id": "reverse-picking",
   "metadata": {
    "execution": {
     "iopub.execute_input": "2021-09-23T21:00:07.140812Z",
     "iopub.status.busy": "2021-09-23T21:00:07.138891Z",
     "iopub.status.idle": "2021-09-23T21:00:07.940687Z",
     "shell.execute_reply": "2021-09-23T21:00:07.942079Z"
    },
    "papermill": {
     "duration": 0.854418,
     "end_time": "2021-09-23T21:00:07.942762",
     "exception": false,
     "start_time": "2021-09-23T21:00:07.088344",
     "status": "completed"
    },
    "tags": []
   },
   "outputs": [],
   "source": [
    "import pandas as pd\n",
    "import sqlite3"
   ]
  },
  {
   "cell_type": "code",
   "execution_count": 2,
   "id": "innovative-syndrome",
   "metadata": {
    "execution": {
     "iopub.execute_input": "2021-09-23T21:00:07.993509Z",
     "iopub.status.busy": "2021-09-23T21:00:07.991347Z",
     "iopub.status.idle": "2021-09-23T21:00:08.360683Z",
     "shell.execute_reply": "2021-09-23T21:00:08.361941Z"
    },
    "papermill": {
     "duration": 0.399048,
     "end_time": "2021-09-23T21:00:08.362356",
     "exception": false,
     "start_time": "2021-09-23T21:00:07.963308",
     "status": "completed"
    },
    "tags": []
   },
   "outputs": [],
   "source": [
    "timestamps = pd.read_sql(\"select distinct record_time from EBAY_TOP_BERLIN order by record_time desc limit 2\", sqlite3.connect(\"UsedObjects.db\"))"
   ]
  },
  {
   "cell_type": "code",
   "execution_count": 3,
   "id": "periodic-identification",
   "metadata": {
    "execution": {
     "iopub.execute_input": "2021-09-23T21:00:08.428140Z",
     "iopub.status.busy": "2021-09-23T21:00:08.426073Z",
     "iopub.status.idle": "2021-09-23T21:00:08.445941Z",
     "shell.execute_reply": "2021-09-23T21:00:08.447316Z"
    },
    "papermill": {
     "duration": 0.066452,
     "end_time": "2021-09-23T21:00:08.447741",
     "exception": false,
     "start_time": "2021-09-23T21:00:08.381289",
     "status": "completed"
    },
    "tags": []
   },
   "outputs": [
    {
     "data": {
      "text/html": [
       "<div>\n",
       "<style scoped>\n",
       "    .dataframe tbody tr th:only-of-type {\n",
       "        vertical-align: middle;\n",
       "    }\n",
       "\n",
       "    .dataframe tbody tr th {\n",
       "        vertical-align: top;\n",
       "    }\n",
       "\n",
       "    .dataframe thead th {\n",
       "        text-align: right;\n",
       "    }\n",
       "</style>\n",
       "<table border=\"1\" class=\"dataframe\">\n",
       "  <thead>\n",
       "    <tr style=\"text-align: right;\">\n",
       "      <th></th>\n",
       "      <th>RECORD_TIME</th>\n",
       "    </tr>\n",
       "  </thead>\n",
       "  <tbody>\n",
       "    <tr>\n",
       "      <th>0</th>\n",
       "      <td>2021-09-23 23:00</td>\n",
       "    </tr>\n",
       "    <tr>\n",
       "      <th>1</th>\n",
       "      <td>2021-09-23 22:30</td>\n",
       "    </tr>\n",
       "  </tbody>\n",
       "</table>\n",
       "</div>"
      ],
      "text/plain": [
       "        RECORD_TIME\n",
       "0  2021-09-23 23:00\n",
       "1  2021-09-23 22:30"
      ]
     },
     "execution_count": 3,
     "metadata": {},
     "output_type": "execute_result"
    }
   ],
   "source": [
    "timestamps"
   ]
  },
  {
   "cell_type": "code",
   "execution_count": 4,
   "id": "alternate-victory",
   "metadata": {
    "execution": {
     "iopub.execute_input": "2021-09-23T21:00:08.498459Z",
     "iopub.status.busy": "2021-09-23T21:00:08.496651Z",
     "iopub.status.idle": "2021-09-23T21:00:09.037436Z",
     "shell.execute_reply": "2021-09-23T21:00:09.038644Z"
    },
    "papermill": {
     "duration": 0.570446,
     "end_time": "2021-09-23T21:00:09.039250",
     "exception": false,
     "start_time": "2021-09-23T21:00:08.468804",
     "status": "completed"
    },
    "tags": []
   },
   "outputs": [],
   "source": [
    "df = pd.read_sql(\"select * from EBAY_TOP_BERLIN where record_time in (select distinct record_time from EBAY_TOP_BERLIN order by record_time desc limit 2)\", sqlite3.connect(\"UsedObjects.db\"))"
   ]
  },
  {
   "cell_type": "code",
   "execution_count": 5,
   "id": "popular-active",
   "metadata": {
    "execution": {
     "iopub.execute_input": "2021-09-23T21:00:09.110194Z",
     "iopub.status.busy": "2021-09-23T21:00:09.097358Z",
     "iopub.status.idle": "2021-09-23T21:00:09.125651Z",
     "shell.execute_reply": "2021-09-23T21:00:09.126901Z"
    },
    "papermill": {
     "duration": 0.067869,
     "end_time": "2021-09-23T21:00:09.127306",
     "exception": false,
     "start_time": "2021-09-23T21:00:09.059437",
     "status": "completed"
    },
    "tags": []
   },
   "outputs": [],
   "source": [
    "df_pivot = df.pivot_table(index=\"PRODUCT\", columns = \"RECORD_TIME\", values = \"LISTING_COUNT\")"
   ]
  },
  {
   "cell_type": "code",
   "execution_count": 6,
   "id": "union-huntington",
   "metadata": {
    "execution": {
     "iopub.execute_input": "2021-09-23T21:00:09.182721Z",
     "iopub.status.busy": "2021-09-23T21:00:09.180693Z",
     "iopub.status.idle": "2021-09-23T21:00:09.186016Z",
     "shell.execute_reply": "2021-09-23T21:00:09.187517Z"
    },
    "papermill": {
     "duration": 0.040183,
     "end_time": "2021-09-23T21:00:09.187955",
     "exception": false,
     "start_time": "2021-09-23T21:00:09.147772",
     "status": "completed"
    },
    "tags": []
   },
   "outputs": [],
   "source": [
    "df_pivot.columns = [\"stamp_1\", \"stamp_2\"]\n",
    "df_pivot_diff = df_pivot.diff(axis=1)"
   ]
  },
  {
   "cell_type": "code",
   "execution_count": 7,
   "id": "fifth-motion",
   "metadata": {
    "execution": {
     "iopub.execute_input": "2021-09-23T21:00:09.244304Z",
     "iopub.status.busy": "2021-09-23T21:00:09.241781Z",
     "iopub.status.idle": "2021-09-23T21:00:10.684798Z",
     "shell.execute_reply": "2021-09-23T21:00:10.686254Z"
    },
    "papermill": {
     "duration": 1.47642,
     "end_time": "2021-09-23T21:00:10.686717",
     "exception": false,
     "start_time": "2021-09-23T21:00:09.210297",
     "status": "completed"
    },
    "tags": []
   },
   "outputs": [
    {
     "data": {
      "text/plain": [
       "<AxesSubplot:ylabel='PRODUCT'>"
      ]
     },
     "execution_count": 7,
     "metadata": {},
     "output_type": "execute_result"
    },
    {
     "data": {
      "image/png": "[encoded data removed]",
      "text/plain": [
       "<Figure size 432x288 with 1 Axes>"
      ]
     },
     "metadata": {
      "needs_background": "light"
     },
     "output_type": "display_data"
    }
   ],
   "source": [
    "df_pivot_diff.sort_values(\"stamp_2\", ascending = False)[\"stamp_2\"].head(10).plot.barh()"
   ]
  },
  {
   "cell_type": "code",
   "execution_count": null,
   "id": "extra-executive",
   "metadata": {
    "papermill": {
     "duration": 0.021733,
     "end_time": "2021-09-23T21:00:10.732868",
     "exception": false,
     "start_time": "2021-09-23T21:00:10.711135",
     "status": "completed"
    },
    "tags": []
   },
   "outputs": [],
   "source": []
  }
 ],
 "metadata": {
  "kernelspec": {
   "display_name": "Python 3",
   "language": "python",
   "name": "python3"
  },
  "language_info": {
   "codemirror_mode": {
    "name": "ipython",
    "version": 3
   },
   "file_extension": ".py",
   "mimetype": "text/x-python",
   "name": "python",
   "nbconvert_exporter": "python",
   "pygments_lexer": "ipython3",
   "version": "3.9.5"
  },
  "papermill": {
   "default_parameters": {},
   "duration": 6.687789,
   "end_time": "2021-09-23T21:00:11.375815",
   "environment_variables": {},
   "exception": null,
   "input_path": "eBay_Overview.ipynb",
   "output_path": "eBay_Overview.ipynb",
   "parameters": {},
   "start_time": "2021-09-23T21:00:04.688026",
   "version": "2.3.3"
  }
 },
 "nbformat": 4,
 "nbformat_minor": 5
}