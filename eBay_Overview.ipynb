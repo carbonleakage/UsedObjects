{
 "cells": [
  {
   "cell_type": "code",
   "execution_count": 1,
   "id": "reverse-picking",
   "metadata": {
    "execution": {
     "iopub.execute_input": "2021-11-11T10:00:08.052752Z",
     "iopub.status.busy": "2021-11-11T10:00:08.050397Z",
     "iopub.status.idle": "2021-11-11T10:00:09.002869Z",
     "shell.execute_reply": "2021-11-11T10:00:09.004367Z"
    },
    "papermill": {
     "duration": 1.001373,
     "end_time": "2021-11-11T10:00:09.005253",
     "exception": false,
     "start_time": "2021-11-11T10:00:08.003880",
     "status": "completed"
    },
    "tags": []
   },
   "outputs": [],
   "source": [
    "import pandas as pd\n",
    "import sqlite3"
   ]
  },
  {
   "cell_type": "code",
   "execution_count": 2,
   "id": "innovative-syndrome",
   "metadata": {
    "execution": {
     "iopub.execute_input": "2021-11-11T10:00:09.067160Z",
     "iopub.status.busy": "2021-11-11T10:00:09.064625Z",
     "iopub.status.idle": "2021-11-11T10:00:09.853446Z",
     "shell.execute_reply": "2021-11-11T10:00:09.854900Z"
    },
    "papermill": {
     "duration": 0.822843,
     "end_time": "2021-11-11T10:00:09.855345",
     "exception": false,
     "start_time": "2021-11-11T10:00:09.032502",
     "status": "completed"
    },
    "tags": []
   },
   "outputs": [],
   "source": [
    "timestamps = pd.read_sql(\"select distinct record_time from EBAY_TOP_BERLIN order by record_time desc limit 2\", sqlite3.connect(\"UsedObjects.db\"))"
   ]
  },
  {
   "cell_type": "code",
   "execution_count": 3,
   "id": "periodic-identification",
   "metadata": {
    "execution": {
     "iopub.execute_input": "2021-11-11T10:00:09.922255Z",
     "iopub.status.busy": "2021-11-11T10:00:09.920153Z",
     "iopub.status.idle": "2021-11-11T10:00:09.942535Z",
     "shell.execute_reply": "2021-11-11T10:00:09.943988Z"
    },
    "papermill": {
     "duration": 0.069313,
     "end_time": "2021-11-11T10:00:09.944445",
     "exception": false,
     "start_time": "2021-11-11T10:00:09.875132",
     "status": "completed"
    },
    "tags": []
   },
   "outputs": [
    {
     "data": {
      "text/html": [
       "<div>\n",
       "<style scoped>\n",
       "    .dataframe tbody tr th:only-of-type {\n",
       "        vertical-align: middle;\n",
       "    }\n",
       "\n",
       "    .dataframe tbody tr th {\n",
       "        vertical-align: top;\n",
       "    }\n",
       "\n",
       "    .dataframe thead th {\n",
       "        text-align: right;\n",
       "    }\n",
       "</style>\n",
       "<table border=\"1\" class=\"dataframe\">\n",
       "  <thead>\n",
       "    <tr style=\"text-align: right;\">\n",
       "      <th></th>\n",
       "      <th>RECORD_TIME</th>\n",
       "    </tr>\n",
       "  </thead>\n",
       "  <tbody>\n",
       "    <tr>\n",
       "      <th>0</th>\n",
       "      <td>2021-11-11 11:00</td>\n",
       "    </tr>\n",
       "    <tr>\n",
       "      <th>1</th>\n",
       "      <td>2021-11-11 10:30</td>\n",
       "    </tr>\n",
       "  </tbody>\n",
       "</table>\n",
       "</div>"
      ],
      "text/plain": [
       "        RECORD_TIME\n",
       "0  2021-11-11 11:00\n",
       "1  2021-11-11 10:30"
      ]
     },
     "execution_count": 3,
     "metadata": {},
     "output_type": "execute_result"
    }
   ],
   "source": [
    "timestamps"
   ]
  },
  {
   "cell_type": "code",
   "execution_count": 4,
   "id": "alternate-victory",
   "metadata": {
    "execution": {
     "iopub.execute_input": "2021-11-11T10:00:09.997630Z",
     "iopub.status.busy": "2021-11-11T10:00:09.995430Z",
     "iopub.status.idle": "2021-11-11T10:00:11.149992Z",
     "shell.execute_reply": "2021-11-11T10:00:11.152008Z"
    },
    "papermill": {
     "duration": 1.187937,
     "end_time": "2021-11-11T10:00:11.152462",
     "exception": false,
     "start_time": "2021-11-11T10:00:09.964525",
     "status": "completed"
    },
    "tags": []
   },
   "outputs": [],
   "source": [
    "df = pd.read_sql(\"select * from EBAY_TOP_BERLIN where record_time in (select distinct record_time from EBAY_TOP_BERLIN order by record_time desc limit 2)\", sqlite3.connect(\"UsedObjects.db\"))"
   ]
  },
  {
   "cell_type": "code",
   "execution_count": 5,
   "id": "popular-active",
   "metadata": {
    "execution": {
     "iopub.execute_input": "2021-11-11T10:00:11.221018Z",
     "iopub.status.busy": "2021-11-11T10:00:11.214662Z",
     "iopub.status.idle": "2021-11-11T10:00:11.250726Z",
     "shell.execute_reply": "2021-11-11T10:00:11.252310Z"
    },
    "papermill": {
     "duration": 0.079771,
     "end_time": "2021-11-11T10:00:11.252968",
     "exception": false,
     "start_time": "2021-11-11T10:00:11.173197",
     "status": "completed"
    },
    "tags": []
   },
   "outputs": [],
   "source": [
    "df_pivot = df.pivot_table(index=\"PRODUCT\", columns = \"RECORD_TIME\", values = \"LISTING_COUNT\")"
   ]
  },
  {
   "cell_type": "code",
   "execution_count": 6,
   "id": "union-huntington",
   "metadata": {
    "execution": {
     "iopub.execute_input": "2021-11-11T10:00:11.319025Z",
     "iopub.status.busy": "2021-11-11T10:00:11.316619Z",
     "iopub.status.idle": "2021-11-11T10:00:11.323703Z",
     "shell.execute_reply": "2021-11-11T10:00:11.325580Z"
    },
    "papermill": {
     "duration": 0.051549,
     "end_time": "2021-11-11T10:00:11.326095",
     "exception": false,
     "start_time": "2021-11-11T10:00:11.274546",
     "status": "completed"
    },
    "tags": []
   },
   "outputs": [],
   "source": [
    "df_pivot.columns = [\"stamp_1\", \"stamp_2\"]\n",
    "df_pivot_diff = df_pivot.diff(axis=1)"
   ]
  },
  {
   "cell_type": "code",
   "execution_count": 7,
   "id": "fifth-motion",
   "metadata": {
    "execution": {
     "iopub.execute_input": "2021-11-11T10:00:11.388677Z",
     "iopub.status.busy": "2021-11-11T10:00:11.386172Z",
     "iopub.status.idle": "2021-11-11T10:00:13.330445Z",
     "shell.execute_reply": "2021-11-11T10:00:13.332335Z"
    },
    "papermill": {
     "duration": 1.984348,
     "end_time": "2021-11-11T10:00:13.332996",
     "exception": false,
     "start_time": "2021-11-11T10:00:11.348648",
     "status": "completed"
    },
    "tags": []
   },
   "outputs": [
    {
     "data": {
      "text/plain": [
       "<AxesSubplot:ylabel='PRODUCT'>"
      ]
     },
     "execution_count": 7,
     "metadata": {},
     "output_type": "execute_result"
    },
    {
     "data": {
      "image/png": "[encoded data removed]",
      "text/plain": [
       "<Figure size 432x288 with 1 Axes>"
      ]
     },
     "metadata": {
      "needs_background": "light"
     },
     "output_type": "display_data"
    }
   ],
   "source": [
    "df_pivot_diff.sort_values(\"stamp_2\", ascending = False)[\"stamp_2\"].head(10).plot.barh()"
   ]
  },
  {
   "cell_type": "code",
   "execution_count": null,
   "id": "extra-executive",
   "metadata": {
    "papermill": {
     "duration": 0.033588,
     "end_time": "2021-11-11T10:00:13.403857",
     "exception": false,
     "start_time": "2021-11-11T10:00:13.370269",
     "status": "completed"
    },
    "tags": []
   },
   "outputs": [],
   "source": []
  }
 ],
 "metadata": {
  "kernelspec": {
   "display_name": "Python 3",
   "language": "python",
   "name": "python3"
  },
  "language_info": {
   "codemirror_mode": {
    "name": "ipython",
    "version": 3
   },
   "file_extension": ".py",
   "mimetype": "text/x-python",
   "name": "python",
   "nbconvert_exporter": "python",
   "pygments_lexer": "ipython3",
   "version": "3.9.5"
  },
  "papermill": {
   "default_parameters": {},
   "duration": 8.811566,
   "end_time": "2021-11-11T10:00:14.073319",
   "environment_variables": {},
   "exception": null,
   "input_path": "eBay_Overview.ipynb",
   "output_path": "eBay_Overview.ipynb",
   "parameters": {},
   "start_time": "2021-11-11T10:00:05.261753",
   "version": "2.3.3"
  }
 },
 "nbformat": 4,
 "nbformat_minor": 5
}