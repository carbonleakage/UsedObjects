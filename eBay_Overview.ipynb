{
 "cells": [
  {
   "cell_type": "code",
   "execution_count": 1,
   "id": "reverse-picking",
   "metadata": {
    "execution": {
     "iopub.execute_input": "2021-09-27T20:30:07.209092Z",
     "iopub.status.busy": "2021-09-27T20:30:07.207155Z",
     "iopub.status.idle": "2021-09-27T20:30:08.012773Z",
     "shell.execute_reply": "2021-09-27T20:30:08.013937Z"
    },
    "papermill": {
     "duration": 0.858989,
     "end_time": "2021-09-27T20:30:08.014561",
     "exception": false,
     "start_time": "2021-09-27T20:30:07.155572",
     "status": "completed"
    },
    "tags": []
   },
   "outputs": [],
   "source": [
    "import pandas as pd\n",
    "import sqlite3"
   ]
  },
  {
   "cell_type": "code",
   "execution_count": 2,
   "id": "innovative-syndrome",
   "metadata": {
    "execution": {
     "iopub.execute_input": "2021-09-27T20:30:08.065523Z",
     "iopub.status.busy": "2021-09-27T20:30:08.063661Z",
     "iopub.status.idle": "2021-09-27T20:30:08.459657Z",
     "shell.execute_reply": "2021-09-27T20:30:08.460884Z"
    },
    "papermill": {
     "duration": 0.425361,
     "end_time": "2021-09-27T20:30:08.461282",
     "exception": false,
     "start_time": "2021-09-27T20:30:08.035921",
     "status": "completed"
    },
    "tags": []
   },
   "outputs": [],
   "source": [
    "timestamps = pd.read_sql(\"select distinct record_time from EBAY_TOP_BERLIN order by record_time desc limit 2\", sqlite3.connect(\"UsedObjects.db\"))"
   ]
  },
  {
   "cell_type": "code",
   "execution_count": 3,
   "id": "periodic-identification",
   "metadata": {
    "execution": {
     "iopub.execute_input": "2021-09-27T20:30:08.529042Z",
     "iopub.status.busy": "2021-09-27T20:30:08.527005Z",
     "iopub.status.idle": "2021-09-27T20:30:08.549936Z",
     "shell.execute_reply": "2021-09-27T20:30:08.551298Z"
    },
    "papermill": {
     "duration": 0.068251,
     "end_time": "2021-09-27T20:30:08.551728",
     "exception": false,
     "start_time": "2021-09-27T20:30:08.483477",
     "status": "completed"
    },
    "tags": []
   },
   "outputs": [
    {
     "data": {
      "text/html": [
       "<div>\n",
       "<style scoped>\n",
       "    .dataframe tbody tr th:only-of-type {\n",
       "        vertical-align: middle;\n",
       "    }\n",
       "\n",
       "    .dataframe tbody tr th {\n",
       "        vertical-align: top;\n",
       "    }\n",
       "\n",
       "    .dataframe thead th {\n",
       "        text-align: right;\n",
       "    }\n",
       "</style>\n",
       "<table border=\"1\" class=\"dataframe\">\n",
       "  <thead>\n",
       "    <tr style=\"text-align: right;\">\n",
       "      <th></th>\n",
       "      <th>RECORD_TIME</th>\n",
       "    </tr>\n",
       "  </thead>\n",
       "  <tbody>\n",
       "    <tr>\n",
       "      <th>0</th>\n",
       "      <td>2021-09-27 22:30</td>\n",
       "    </tr>\n",
       "    <tr>\n",
       "      <th>1</th>\n",
       "      <td>2021-09-27 22:00</td>\n",
       "    </tr>\n",
       "  </tbody>\n",
       "</table>\n",
       "</div>"
      ],
      "text/plain": [
       "        RECORD_TIME\n",
       "0  2021-09-27 22:30\n",
       "1  2021-09-27 22:00"
      ]
     },
     "execution_count": 3,
     "metadata": {},
     "output_type": "execute_result"
    }
   ],
   "source": [
    "timestamps"
   ]
  },
  {
   "cell_type": "code",
   "execution_count": 4,
   "id": "alternate-victory",
   "metadata": {
    "execution": {
     "iopub.execute_input": "2021-09-27T20:30:08.603087Z",
     "iopub.status.busy": "2021-09-27T20:30:08.601041Z",
     "iopub.status.idle": "2021-09-27T20:30:09.179938Z",
     "shell.execute_reply": "2021-09-27T20:30:09.181349Z"
    },
    "papermill": {
     "duration": 0.608667,
     "end_time": "2021-09-27T20:30:09.181791",
     "exception": false,
     "start_time": "2021-09-27T20:30:08.573124",
     "status": "completed"
    },
    "tags": []
   },
   "outputs": [],
   "source": [
    "df = pd.read_sql(\"select * from EBAY_TOP_BERLIN where record_time in (select distinct record_time from EBAY_TOP_BERLIN order by record_time desc limit 2)\", sqlite3.connect(\"UsedObjects.db\"))"
   ]
  },
  {
   "cell_type": "code",
   "execution_count": 5,
   "id": "popular-active",
   "metadata": {
    "execution": {
     "iopub.execute_input": "2021-09-27T20:30:09.268091Z",
     "iopub.status.busy": "2021-09-27T20:30:09.255291Z",
     "iopub.status.idle": "2021-09-27T20:30:09.283765Z",
     "shell.execute_reply": "2021-09-27T20:30:09.285084Z"
    },
    "papermill": {
     "duration": 0.074487,
     "end_time": "2021-09-27T20:30:09.285503",
     "exception": false,
     "start_time": "2021-09-27T20:30:09.211016",
     "status": "completed"
    },
    "tags": []
   },
   "outputs": [],
   "source": [
    "df_pivot = df.pivot_table(index=\"PRODUCT\", columns = \"RECORD_TIME\", values = \"LISTING_COUNT\")"
   ]
  },
  {
   "cell_type": "code",
   "execution_count": 6,
   "id": "union-huntington",
   "metadata": {
    "execution": {
     "iopub.execute_input": "2021-09-27T20:30:09.342808Z",
     "iopub.status.busy": "2021-09-27T20:30:09.340626Z",
     "iopub.status.idle": "2021-09-27T20:30:09.346054Z",
     "shell.execute_reply": "2021-09-27T20:30:09.347554Z"
    },
    "papermill": {
     "duration": 0.040804,
     "end_time": "2021-09-27T20:30:09.348037",
     "exception": false,
     "start_time": "2021-09-27T20:30:09.307233",
     "status": "completed"
    },
    "tags": []
   },
   "outputs": [],
   "source": [
    "df_pivot.columns = [\"stamp_1\", \"stamp_2\"]\n",
    "df_pivot_diff = df_pivot.diff(axis=1)"
   ]
  },
  {
   "cell_type": "code",
   "execution_count": 7,
   "id": "fifth-motion",
   "metadata": {
    "execution": {
     "iopub.execute_input": "2021-09-27T20:30:09.402456Z",
     "iopub.status.busy": "2021-09-27T20:30:09.399790Z",
     "iopub.status.idle": "2021-09-27T20:30:10.903436Z",
     "shell.execute_reply": "2021-09-27T20:30:10.904852Z"
    },
    "papermill": {
     "duration": 1.537287,
     "end_time": "2021-09-27T20:30:10.905302",
     "exception": false,
     "start_time": "2021-09-27T20:30:09.368015",
     "status": "completed"
    },
    "tags": []
   },
   "outputs": [
    {
     "data": {
      "text/plain": [
       "<AxesSubplot:ylabel='PRODUCT'>"
      ]
     },
     "execution_count": 7,
     "metadata": {},
     "output_type": "execute_result"
    },
    {
     "data": {
      "image/png": "[encoded data removed]",
      "text/plain": [
       "<Figure size 432x288 with 1 Axes>"
      ]
     },
     "metadata": {
      "needs_background": "light"
     },
     "output_type": "display_data"
    }
   ],
   "source": [
    "df_pivot_diff.sort_values(\"stamp_2\", ascending = False)[\"stamp_2\"].head(10).plot.barh()"
   ]
  },
  {
   "cell_type": "code",
   "execution_count": null,
   "id": "extra-executive",
   "metadata": {
    "papermill": {
     "duration": 0.022108,
     "end_time": "2021-09-27T20:30:10.951699",
     "exception": false,
     "start_time": "2021-09-27T20:30:10.929591",
     "status": "completed"
    },
    "tags": []
   },
   "outputs": [],
   "source": []
  }
 ],
 "metadata": {
  "kernelspec": {
   "display_name": "Python 3",
   "language": "python",
   "name": "python3"
  },
  "language_info": {
   "codemirror_mode": {
    "name": "ipython",
    "version": 3
   },
   "file_extension": ".py",
   "mimetype": "text/x-python",
   "name": "python",
   "nbconvert_exporter": "python",
   "pygments_lexer": "ipython3",
   "version": "3.9.5"
  },
  "papermill": {
   "default_parameters": {},
   "duration": 7.828361,
   "end_time": "2021-09-27T20:30:12.575334",
   "environment_variables": {},
   "exception": null,
   "input_path": "eBay_Overview.ipynb",
   "output_path": "eBay_Overview.ipynb",
   "parameters": {},
   "start_time": "2021-09-27T20:30:04.746973",
   "version": "2.3.3"
  }
 },
 "nbformat": 4,
 "nbformat_minor": 5
}