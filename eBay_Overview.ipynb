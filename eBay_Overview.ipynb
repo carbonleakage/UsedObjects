{
 "cells": [
  {
   "cell_type": "code",
   "execution_count": 1,
   "id": "reverse-picking",
   "metadata": {
    "execution": {
     "iopub.execute_input": "2021-11-08T08:30:07.992163Z",
     "iopub.status.busy": "2021-11-08T08:30:07.989917Z",
     "iopub.status.idle": "2021-11-08T08:30:08.939132Z",
     "shell.execute_reply": "2021-11-08T08:30:08.940482Z"
    },
    "papermill": {
     "duration": 0.998745,
     "end_time": "2021-11-08T08:30:08.941229",
     "exception": false,
     "start_time": "2021-11-08T08:30:07.942484",
     "status": "completed"
    },
    "tags": []
   },
   "outputs": [],
   "source": [
    "import pandas as pd\n",
    "import sqlite3"
   ]
  },
  {
   "cell_type": "code",
   "execution_count": 2,
   "id": "innovative-syndrome",
   "metadata": {
    "execution": {
     "iopub.execute_input": "2021-11-08T08:30:08.994519Z",
     "iopub.status.busy": "2021-11-08T08:30:08.992262Z",
     "iopub.status.idle": "2021-11-08T08:30:09.760979Z",
     "shell.execute_reply": "2021-11-08T08:30:09.762533Z"
    },
    "papermill": {
     "duration": 0.801311,
     "end_time": "2021-11-08T08:30:09.763019",
     "exception": false,
     "start_time": "2021-11-08T08:30:08.961708",
     "status": "completed"
    },
    "tags": []
   },
   "outputs": [],
   "source": [
    "timestamps = pd.read_sql(\"select distinct record_time from EBAY_TOP_BERLIN order by record_time desc limit 2\", sqlite3.connect(\"UsedObjects.db\"))"
   ]
  },
  {
   "cell_type": "code",
   "execution_count": 3,
   "id": "periodic-identification",
   "metadata": {
    "execution": {
     "iopub.execute_input": "2021-11-08T08:30:09.837137Z",
     "iopub.status.busy": "2021-11-08T08:30:09.834525Z",
     "iopub.status.idle": "2021-11-08T08:30:09.857339Z",
     "shell.execute_reply": "2021-11-08T08:30:09.858995Z"
    },
    "papermill": {
     "duration": 0.075903,
     "end_time": "2021-11-08T08:30:09.859494",
     "exception": false,
     "start_time": "2021-11-08T08:30:09.783591",
     "status": "completed"
    },
    "tags": []
   },
   "outputs": [
    {
     "data": {
      "text/html": [
       "<div>\n",
       "<style scoped>\n",
       "    .dataframe tbody tr th:only-of-type {\n",
       "        vertical-align: middle;\n",
       "    }\n",
       "\n",
       "    .dataframe tbody tr th {\n",
       "        vertical-align: top;\n",
       "    }\n",
       "\n",
       "    .dataframe thead th {\n",
       "        text-align: right;\n",
       "    }\n",
       "</style>\n",
       "<table border=\"1\" class=\"dataframe\">\n",
       "  <thead>\n",
       "    <tr style=\"text-align: right;\">\n",
       "      <th></th>\n",
       "      <th>RECORD_TIME</th>\n",
       "    </tr>\n",
       "  </thead>\n",
       "  <tbody>\n",
       "    <tr>\n",
       "      <th>0</th>\n",
       "      <td>2021-11-08 09:30</td>\n",
       "    </tr>\n",
       "    <tr>\n",
       "      <th>1</th>\n",
       "      <td>2021-11-08 09:00</td>\n",
       "    </tr>\n",
       "  </tbody>\n",
       "</table>\n",
       "</div>"
      ],
      "text/plain": [
       "        RECORD_TIME\n",
       "0  2021-11-08 09:30\n",
       "1  2021-11-08 09:00"
      ]
     },
     "execution_count": 3,
     "metadata": {},
     "output_type": "execute_result"
    }
   ],
   "source": [
    "timestamps"
   ]
  },
  {
   "cell_type": "code",
   "execution_count": 4,
   "id": "alternate-victory",
   "metadata": {
    "execution": {
     "iopub.execute_input": "2021-11-08T08:30:09.917135Z",
     "iopub.status.busy": "2021-11-08T08:30:09.914776Z",
     "iopub.status.idle": "2021-11-08T08:30:11.022693Z",
     "shell.execute_reply": "2021-11-08T08:30:11.025052Z"
    },
    "papermill": {
     "duration": 1.144456,
     "end_time": "2021-11-08T08:30:11.025566",
     "exception": false,
     "start_time": "2021-11-08T08:30:09.881110",
     "status": "completed"
    },
    "tags": []
   },
   "outputs": [],
   "source": [
    "df = pd.read_sql(\"select * from EBAY_TOP_BERLIN where record_time in (select distinct record_time from EBAY_TOP_BERLIN order by record_time desc limit 2)\", sqlite3.connect(\"UsedObjects.db\"))"
   ]
  },
  {
   "cell_type": "code",
   "execution_count": 5,
   "id": "popular-active",
   "metadata": {
    "execution": {
     "iopub.execute_input": "2021-11-08T08:30:11.087072Z",
     "iopub.status.busy": "2021-11-08T08:30:11.084230Z",
     "iopub.status.idle": "2021-11-08T08:30:11.124538Z",
     "shell.execute_reply": "2021-11-08T08:30:11.126170Z"
    },
    "papermill": {
     "duration": 0.079772,
     "end_time": "2021-11-08T08:30:11.126650",
     "exception": false,
     "start_time": "2021-11-08T08:30:11.046878",
     "status": "completed"
    },
    "tags": []
   },
   "outputs": [],
   "source": [
    "df_pivot = df.pivot_table(index=\"PRODUCT\", columns = \"RECORD_TIME\", values = \"LISTING_COUNT\")"
   ]
  },
  {
   "cell_type": "code",
   "execution_count": 6,
   "id": "union-huntington",
   "metadata": {
    "execution": {
     "iopub.execute_input": "2021-11-08T08:30:11.186895Z",
     "iopub.status.busy": "2021-11-08T08:30:11.184649Z",
     "iopub.status.idle": "2021-11-08T08:30:11.191998Z",
     "shell.execute_reply": "2021-11-08T08:30:11.190466Z"
    },
    "papermill": {
     "duration": 0.044003,
     "end_time": "2021-11-08T08:30:11.192408",
     "exception": false,
     "start_time": "2021-11-08T08:30:11.148405",
     "status": "completed"
    },
    "tags": []
   },
   "outputs": [],
   "source": [
    "df_pivot.columns = [\"stamp_1\", \"stamp_2\"]\n",
    "df_pivot_diff = df_pivot.diff(axis=1)"
   ]
  },
  {
   "cell_type": "code",
   "execution_count": 7,
   "id": "fifth-motion",
   "metadata": {
    "execution": {
     "iopub.execute_input": "2021-11-08T08:30:11.255946Z",
     "iopub.status.busy": "2021-11-08T08:30:11.253976Z",
     "iopub.status.idle": "2021-11-08T08:30:13.030384Z",
     "shell.execute_reply": "2021-11-08T08:30:13.031723Z"
    },
    "papermill": {
     "duration": 1.819124,
     "end_time": "2021-11-08T08:30:13.032204",
     "exception": false,
     "start_time": "2021-11-08T08:30:11.213080",
     "status": "completed"
    },
    "tags": []
   },
   "outputs": [
    {
     "data": {
      "text/plain": [
       "<AxesSubplot:ylabel='PRODUCT'>"
      ]
     },
     "execution_count": 7,
     "metadata": {},
     "output_type": "execute_result"
    },
    {
     "data": {
      "image/png": "[encoded data removed]",
      "text/plain": [
       "<Figure size 432x288 with 1 Axes>"
      ]
     },
     "metadata": {
      "needs_background": "light"
     },
     "output_type": "display_data"
    }
   ],
   "source": [
    "df_pivot_diff.sort_values(\"stamp_2\", ascending = False)[\"stamp_2\"].head(10).plot.barh()"
   ]
  },
  {
   "cell_type": "code",
   "execution_count": null,
   "id": "extra-executive",
   "metadata": {
    "papermill": {
     "duration": 0.023222,
     "end_time": "2021-11-08T08:30:13.080088",
     "exception": false,
     "start_time": "2021-11-08T08:30:13.056866",
     "status": "completed"
    },
    "tags": []
   },
   "outputs": [],
   "source": []
  }
 ],
 "metadata": {
  "kernelspec": {
   "display_name": "Python 3",
   "language": "python",
   "name": "python3"
  },
  "language_info": {
   "codemirror_mode": {
    "name": "ipython",
    "version": 3
   },
   "file_extension": ".py",
   "mimetype": "text/x-python",
   "name": "python",
   "nbconvert_exporter": "python",
   "pygments_lexer": "ipython3",
   "version": "3.9.5"
  },
  "papermill": {
   "default_parameters": {},
   "duration": 10.974276,
   "end_time": "2021-11-08T08:30:16.153245",
   "environment_variables": {},
   "exception": null,
   "input_path": "eBay_Overview.ipynb",
   "output_path": "eBay_Overview.ipynb",
   "parameters": {},
   "start_time": "2021-11-08T08:30:05.178969",
   "version": "2.3.3"
  }
 },
 "nbformat": 4,
 "nbformat_minor": 5
}